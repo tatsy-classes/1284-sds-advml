{
 "cells": [
  {
   "cell_type": "markdown",
   "metadata": {
    "editable": true,
    "slideshow": {
     "slide_type": ""
    },
    "tags": []
   },
   "source": [
    "(exercise-sudoku)=\n",
    "# 演習1 - 画像入力式数独ソルバーを作る"
   ]
  },
  {
   "cell_type": "markdown",
   "metadata": {
    "editable": true,
    "slideshow": {
     "slide_type": ""
    },
    "tags": []
   },
   "source": [
    "ご存知の通り、数独というのは9x9のマスの中に1-9の数字を一定のルールのもとで入れていくパズルである。このルールとはすなわち、\n",
    "- 同じ行に同じ数字が存在しない\n",
    "- 同じ列に同じ数字が存在しない\n",
    "- 3x3の9領域に同じ数字が存在しない\n",
    "\n",
    "の3つである。数独の解き方にはいろいろなやり方があり、\n",
    "\n",
    "- バックトラック法\n",
    "- 整数計画問題として解く\n",
    "- Exact Cover問題として解く\n",
    "\n",
    "等のやり方がある。9x9の問題であれば、最も単純なバックトラック法でも十分高速に解くことができる(一般的なパズル本の最難問ならPython実装でも1秒以下で解ける)。\n",
    "\n",
    "以下では、数独の問題を写真で撮って、その画像の中から問題を抜き出し、自動的に問題を解くプログラムを作成してみよう。"
   ]
  },
  {
   "cell_type": "markdown",
   "metadata": {},
   "source": [
    "```{warning}\n",
    "「数独」という呼び名はパズル製作会社のニコリによって商標登録されている呼び名であり、別の呼び名として「ナンバープレイス」あるいは「ナンプレ」と呼ばれることもある。本資料では、一般的に最も浸透していると思われる呼び名である「数独」を用いる。\n",
    "```"
   ]
  },
  {
   "cell_type": "markdown",
   "metadata": {
    "editable": true,
    "slideshow": {
     "slide_type": ""
    },
    "tags": []
   },
   "source": [
    "## 数独を解く"
   ]
  },
  {
   "cell_type": "markdown",
   "metadata": {
    "editable": true,
    "slideshow": {
     "slide_type": ""
    },
    "tags": []
   },
   "source": [
    "まずは数独の問題がテキストで与えられている場合について、解き方を見ていこう。"
   ]
  },
  {
   "cell_type": "markdown",
   "metadata": {
    "editable": true,
    "slideshow": {
     "slide_type": ""
    },
    "tags": []
   },
   "source": [
    "今回は数独の問題が以下の形式のテキストとして与えられることとする。Pythonは複数行のテキストを以下のように定義することができる。"
   ]
  },
  {
   "cell_type": "code",
   "execution_count": 1,
   "metadata": {
    "editable": true,
    "slideshow": {
     "slide_type": ""
    },
    "tags": []
   },
   "outputs": [],
   "source": [
    "problem = \"\"\"\n",
    "-35-9--48\n",
    "--9--8--3\n",
    "-4-6-5--1\n",
    "----74---\n",
    "-2-----6-\n",
    "---15----\n",
    "8--9-2-7-\n",
    "9--5--2--\n",
    "61--4-53-\n",
    "\"\"\""
   ]
  },
  {
   "cell_type": "markdown",
   "metadata": {
    "editable": true,
    "slideshow": {
     "slide_type": ""
    },
    "tags": []
   },
   "source": [
    "これを扱いやすくするためにNumPyの配列に直してみる。まずはテキストを行ごとの配列に変換する。各行は一般には改行文字である `\\n`で区切られているが、実行する環境によっては、Windowsで`\\r\\n`、Macで`\\r`など使われている文字が異なる可能性がある。\n",
    "\n",
    "そこで、以下では、正規表現を用いて、`\\n`あるいは`\\r`が1個あるいは2個並んでいる場所で改行することにする。"
   ]
  },
  {
   "cell_type": "code",
   "execution_count": 2,
   "metadata": {
    "editable": true,
    "slideshow": {
     "slide_type": ""
    },
    "tags": []
   },
   "outputs": [],
   "source": [
    "import re\n",
    "\n",
    "problem = re.split(r\"[\\r\\n]{1,2}\", problem)"
   ]
  },
  {
   "cell_type": "markdown",
   "metadata": {
    "editable": true,
    "slideshow": {
     "slide_type": ""
    },
    "tags": []
   },
   "source": [
    "ただし、このやり方だと空行が入る可能性があるので、以下のリスト内包表記を用いて取り除く。"
   ]
  },
  {
   "cell_type": "code",
   "execution_count": 3,
   "metadata": {
    "editable": true,
    "slideshow": {
     "slide_type": ""
    },
    "tags": []
   },
   "outputs": [
    {
     "name": "stdout",
     "output_type": "stream",
     "text": [
      "['-35-9--48', '--9--8--3', '-4-6-5--1', '----74---', '-2-----6-', '---15----', '8--9-2-7-', '9--5--2--', '61--4-53-']\n"
     ]
    }
   ],
   "source": [
    "problem = [line for line in problem if line != \"\"]\n",
    "print(problem)"
   ]
  },
  {
   "cell_type": "markdown",
   "metadata": {
    "editable": true,
    "slideshow": {
     "slide_type": ""
    },
    "tags": []
   },
   "source": [
    "するとproblemの長さは9となるはずだ。各行を文字ごとに分割するには、同じようにリスト内包表記を用いると簡単だ。以下は二重ループを用いたリスト内包表記の例だ。"
   ]
  },
  {
   "cell_type": "code",
   "execution_count": 4,
   "metadata": {
    "editable": true,
    "slideshow": {
     "slide_type": ""
    },
    "tags": []
   },
   "outputs": [
    {
     "name": "stdout",
     "output_type": "stream",
     "text": [
      "['-', '3', '5', '-', '9', '-', '-', '4', '8', '-', '-', '9', '-', '-', '8', '-', '-', '3', '-', '4', '-', '6', '-', '5', '-', '-', '1', '-', '-', '-', '-', '7', '4', '-', '-', '-', '-', '2', '-', '-', '-', '-', '-', '6', '-', '-', '-', '-', '1', '5', '-', '-', '-', '-', '8', '-', '-', '9', '-', '2', '-', '7', '-', '9', '-', '-', '5', '-', '-', '2', '-', '-', '6', '1', '-', '-', '4', '-', '5', '3', '-']\n"
     ]
    }
   ],
   "source": [
    "problem = [c for line in problem for c in line]\n",
    "print(problem)"
   ]
  },
  {
   "cell_type": "markdown",
   "metadata": {
    "editable": true,
    "slideshow": {
     "slide_type": ""
    },
    "tags": []
   },
   "source": [
    "すると今度はproblemが9x9=81個の要素を持つ一次元配列になる。現在、各数字は文字であり、数字ではないので、各文字を数字に置き換える。また、まだ埋まっていないセルを表す`-`は0に置き替える。以下のようにハッシュ(Pythonの用語ではdict)を使うと簡単に書ける。"
   ]
  },
  {
   "cell_type": "code",
   "execution_count": 5,
   "metadata": {
    "editable": true,
    "slideshow": {
     "slide_type": ""
    },
    "tags": []
   },
   "outputs": [
    {
     "name": "stdout",
     "output_type": "stream",
     "text": [
      "{'-': 0, '1': 1, '2': 2, '3': 3, '4': 4, '5': 5, '6': 6, '7': 7, '8': 8, '9': 9}\n"
     ]
    }
   ],
   "source": [
    "numbers = {\"-\": 0}\n",
    "numbers.update({str(i): i for i in range(1, 10)})\n",
    "print(numbers)"
   ]
  },
  {
   "cell_type": "markdown",
   "metadata": {
    "editable": true,
    "slideshow": {
     "slide_type": ""
    },
    "tags": []
   },
   "source": [
    "あとはこれを使って文字を数字に置き換える。ここでもリスト内包表記を用いて処理をして、その後、NumPyの配列に直しておく。ここまで一次元配列で作業をしてきたが、9x9の二次元配列の方が以後の作業がやりやすいので、配列の形も直しておく。"
   ]
  },
  {
   "cell_type": "code",
   "execution_count": 6,
   "metadata": {
    "editable": true,
    "slideshow": {
     "slide_type": ""
    },
    "tags": []
   },
   "outputs": [
    {
     "name": "stdout",
     "output_type": "stream",
     "text": [
      "[[0 3 5 0 9 0 0 4 8]\n",
      " [0 0 9 0 0 8 0 0 3]\n",
      " [0 4 0 6 0 5 0 0 1]\n",
      " [0 0 0 0 7 4 0 0 0]\n",
      " [0 2 0 0 0 0 0 6 0]\n",
      " [0 0 0 1 5 0 0 0 0]\n",
      " [8 0 0 9 0 2 0 7 0]\n",
      " [9 0 0 5 0 0 2 0 0]\n",
      " [6 1 0 0 4 0 5 3 0]]\n"
     ]
    }
   ],
   "source": [
    "import numpy as np\n",
    "\n",
    "problem = np.array([numbers[c] for c in problem], dtype=\"uint8\")\n",
    "problem = problem.reshape((9, 9))\n",
    "print(problem)"
   ]
  },
  {
   "cell_type": "markdown",
   "metadata": {
    "editable": true,
    "slideshow": {
     "slide_type": ""
    },
    "tags": []
   },
   "source": [
    "とすると、先ほどまでの文字が数字に置き換わるはずだ。なお、ここまで繰り返しリスト内包表記も用いたが、これらをまとめて1行で書くこともできる。"
   ]
  },
  {
   "cell_type": "code",
   "execution_count": 7,
   "metadata": {
    "editable": true,
    "slideshow": {
     "slide_type": ""
    },
    "tags": []
   },
   "outputs": [],
   "source": [
    "problem = \"\"\"\n",
    "-35-9--48\n",
    "--9--8--3\n",
    "-4-6-5--1\n",
    "----74---\n",
    "-2-----6-\n",
    "---15----\n",
    "8--9-2-7-\n",
    "9--5--2--\n",
    "61--4-53-\n",
    "\"\"\""
   ]
  },
  {
   "cell_type": "code",
   "execution_count": 8,
   "metadata": {
    "editable": true,
    "slideshow": {
     "slide_type": ""
    },
    "tags": []
   },
   "outputs": [
    {
     "name": "stdout",
     "output_type": "stream",
     "text": [
      "[[0 3 5 0 9 0 0 4 8]\n",
      " [0 0 9 0 0 8 0 0 3]\n",
      " [0 4 0 6 0 5 0 0 1]\n",
      " [0 0 0 0 7 4 0 0 0]\n",
      " [0 2 0 0 0 0 0 6 0]\n",
      " [0 0 0 1 5 0 0 0 0]\n",
      " [8 0 0 9 0 2 0 7 0]\n",
      " [9 0 0 5 0 0 2 0 0]\n",
      " [6 1 0 0 4 0 5 3 0]]\n"
     ]
    }
   ],
   "source": [
    "problem = np.array(\n",
    "    [numbers[c] for line in re.split(\"[\\r\\n]{1,2}\", problem) if line != \"\" for c in line],\n",
    "    dtype=\"uint8\",\n",
    ").reshape((9, 9))\n",
    "print(problem)"
   ]
  },
  {
   "cell_type": "markdown",
   "metadata": {
    "editable": true,
    "slideshow": {
     "slide_type": ""
    },
    "tags": []
   },
   "source": [
    "```{admonition} 改行文字\n",
    ":class: note\n",
    "\n",
    "改行文字はOSによってデフォルトで使われているものが異なり、Windowsは`\\r\\n`、Macは`\\r`、Linuxは`\\n`が用いられている。これらの改行文字は`\\r`がcarriage return (CR)と呼ばれ、`\\n`がline feed (LF)と呼ばれることから、Windows、Mac、Linuxで用いられる改行をそれぞれCRLF、CR、LF改行とも呼ぶ。\n",
    "\n",
    "プログラミングにおいては、改行文字の違いが問題となることも多いので、LFに統一する、あるいはCRLFに統一する、など自分でルールを決めてエディタ(VSCodeなど)を設定しておくと良い。\n",
    "```"
   ]
  },
  {
   "cell_type": "markdown",
   "metadata": {
    "editable": true,
    "slideshow": {
     "slide_type": ""
    },
    "tags": []
   },
   "source": [
    "### 使用済みの数字を調べる"
   ]
  },
  {
   "cell_type": "markdown",
   "metadata": {
    "editable": true,
    "slideshow": {
     "slide_type": ""
    },
    "tags": []
   },
   "source": [
    "問題が数字の配列として表せたところで、使用済みの数字を調べる方法を見ていく。今`i`行`j`列にある数字の候補にどの数字が残っているのかを調べたいとする。\n",
    "\n",
    "NumPyを用いると、`i`行目にある数字は`problem[i, :]`という配列で、`j`列目にある数字は`problem[:, j]`という配列で表せる。また3x3のブロックについては、ブロックの右上の座標が`(3 * (i // 3), 3 * (j // 3))`と表せることに注目すれば、以下でブロック内の数字が得られる。\n",
    "\n",
    "```python\n",
    "k = 3 * (i // 3)\n",
    "l = 3 * (j // 3)\n",
    "blk_nums = problem[k:k+3, l:l+3.flatten()  # 一次元配列として取り出す\n",
    "```"
   ]
  },
  {
   "cell_type": "markdown",
   "metadata": {
    "editable": true,
    "slideshow": {
     "slide_type": ""
    },
    "tags": []
   },
   "source": [
    "一例として1行1列の空マスに何が入るのかを調べて見る。行、列、ブロックに使われている数字は、それぞれ以下のようになっている。"
   ]
  },
  {
   "cell_type": "code",
   "execution_count": 9,
   "metadata": {
    "editable": true,
    "slideshow": {
     "slide_type": ""
    },
    "tags": []
   },
   "outputs": [
    {
     "name": "stdout",
     "output_type": "stream",
     "text": [
      "    Row #1: [0 3 5 0 9 0 0 4 8]\n",
      "    Col #1: [0 0 0 0 0 0 8 9 6]\n",
      "Block #1-1: [0 3 5 0 0 9 0 4 0]\n"
     ]
    }
   ],
   "source": [
    "row_nums = problem[0, :]\n",
    "print(\"    Row #1:\", row_nums)\n",
    "col_nums = problem[:, 0]\n",
    "print(\"    Col #1:\", col_nums)\n",
    "blk_nums = problem[0:3, 0:3].flatten()\n",
    "print(\"Block #1-1:\", blk_nums)"
   ]
  },
  {
   "cell_type": "markdown",
   "metadata": {
    "editable": true,
    "slideshow": {
     "slide_type": ""
    },
    "tags": []
   },
   "source": [
    "まだ使える数字は1-9の数字の中で、これらの配列に現れていない数字である。配列中に数字があるかどうかは`in`を使うと調べられるので、リスト内包表記を使えば、未使用の数字が簡単に調べられる。"
   ]
  },
  {
   "cell_type": "code",
   "execution_count": 10,
   "metadata": {
    "editable": true,
    "slideshow": {
     "slide_type": ""
    },
    "tags": []
   },
   "outputs": [
    {
     "name": "stdout",
     "output_type": "stream",
     "text": [
      "Unused numbers: [1 2 7]\n"
     ]
    }
   ],
   "source": [
    "used_nums = np.concatenate([row_nums, col_nums, blk_nums])\n",
    "unused_nums = np.array([i for i in range(10) if not i in used_nums], dtype=\"uint8\")\n",
    "print(\"Unused numbers:\", unused_nums)"
   ]
  },
  {
   "cell_type": "markdown",
   "metadata": {
    "editable": true,
    "slideshow": {
     "slide_type": ""
    },
    "tags": []
   },
   "source": [
    "このように、`(0, 0)`の空マスに入りうる候補の数字は`{1, 2, 7}`の3つであることが分かる。"
   ]
  },
  {
   "cell_type": "markdown",
   "metadata": {
    "editable": true,
    "slideshow": {
     "slide_type": ""
    },
    "tags": []
   },
   "source": [
    "### バックトラック法による解法"
   ]
  },
  {
   "cell_type": "markdown",
   "metadata": {
    "editable": true,
    "slideshow": {
     "slide_type": ""
    },
    "tags": []
   },
   "source": [
    "最初に、数独をコンピュータに解かせる最も単純な方法を考えてみよう。\n",
    "\n",
    "上記の使用済みの数字を調べる方法を少し変更すれば、各行、各列、各ブロックで数字が正しく1度だけ使われているかどうかを調べることができそうだ。とすれば、全ての空きマスに適当に数字を入れて、その結果が正しいかどうかを順に試せば良さそうに思える。\n",
    "\n",
    "ただ、これでは正しい解が見つかる確率が低すぎるため、計算に時間がかかりすぎる。各マスに入れられる数字の候補は9通りでマスが81マスあるので、最悪の場合には$9^{81} \\approx 2.0 \\times 10^{77}$個の候補について調べる必要がある。"
   ]
  },
  {
   "cell_type": "markdown",
   "metadata": {
    "editable": true,
    "slideshow": {
     "slide_type": ""
    },
    "tags": []
   },
   "source": [
    "一方で、実際にはいくつかのマスにはすでに数字が入っており、上記のように何も考えずに全てのパターンを試すのは非常に効率が悪いことが分かる。そこで、可能な候補についてだけ、しらみ潰しに調べることを考える。これを実現するのがバックトラック法である。\n",
    "\n",
    "これでも効率がとても良いとは言えないが、実際には最初の方の数字がある程度決まると、後の方の数字は急速に候補が少なくなるため、実用的にはそれなりに高速に動作する。少なくとも9x9の問題であれば、十分に速い(16x16の問題になるとそうはいかない！)"
   ]
  },
  {
   "cell_type": "markdown",
   "metadata": {
    "editable": true,
    "slideshow": {
     "slide_type": ""
    },
    "tags": []
   },
   "source": [
    "バックトラック法は**深さ優先探索**の一種で、数独の例で言えば、**候補となる数字を仮に入れる操作をできる限り繰り返し、もし最後のマスまで数字が入れば成功、途中で数字が入れられなくなったら失敗**として違う候補を試す、というものである。\n",
    "\n",
    "深さ優先探索の実装方法は**再帰関数を使う方法**とFILO (first in last out, 最初に入れたものが最後に取り出されるということ) **データ構造 (一般にはスタックと呼ぶ) を用いる方法**の2つがある。\n",
    "\n",
    "どちらの方法にも一長一短があるが、今回はスタックを用いる方法で実装を進める。"
   ]
  },
  {
   "cell_type": "markdown",
   "metadata": {
    "editable": true,
    "slideshow": {
     "slide_type": ""
    },
    "tags": []
   },
   "source": [
    "バックトラック法による数独の解法の流れは次のようになる。\n",
    "\n",
    "1. **初期化:** スタックに入力の問題を追加\n",
    "2. **深さ優先探索:**\n",
    "    1. スタックに積まれた問題の途中経過を取り出す\n",
    "    2. マスの中で、まだ空マスになっている最初のマスの候補を割り出す\n",
    "    3. その空マスに各候補を入れたものをスタックに追加\n",
    "    4. この際、もしマスが全て埋まっていたら、成功と見なし処理を終了 "
   ]
  },
  {
   "cell_type": "markdown",
   "metadata": {
    "editable": true,
    "slideshow": {
     "slide_type": ""
    },
    "tags": []
   },
   "source": [
    "この部分の実装は演習課題とするが、上手く問題が解ければ、以下のような解答が得られるはずである。"
   ]
  },
  {
   "cell_type": "code",
   "execution_count": 11,
   "metadata": {
    "editable": true,
    "slideshow": {
     "slide_type": ""
    },
    "tags": [
     "hide-input"
    ]
   },
   "outputs": [],
   "source": [
    "from itertools import product\n",
    "\n",
    "\n",
    "def solve(problem):\n",
    "    stk = []\n",
    "    stk.append(problem.copy())\n",
    "    solution = None\n",
    "\n",
    "    while len(stk) != 0:\n",
    "        P = stk.pop()\n",
    "        success = True\n",
    "        for i, j in product(range(P.shape[0]), range(P.shape[1])):\n",
    "            if P[i, j] == 0:\n",
    "                success = False\n",
    "                row_nums = P[i, :]\n",
    "                col_nums = P[:, j]\n",
    "                k = 3 * (i // 3)\n",
    "                l = 3 * (j // 3)\n",
    "                blk_nums = P[k : k + 3, l : l + 3].flatten()\n",
    "\n",
    "                used_nums = np.concatenate([row_nums, col_nums, blk_nums])\n",
    "                unused_nums = [n for n in range(10) if not n in used_nums]\n",
    "                for n in unused_nums:\n",
    "                    new_P = P.copy()\n",
    "                    new_P[i, j] = n\n",
    "                    stk.append(new_P)\n",
    "\n",
    "                # if the first empty cell is found, then,\n",
    "                # we don't need to see the following cells anymore.\n",
    "                break\n",
    "\n",
    "        if success:\n",
    "            solution = P.copy()\n",
    "            break\n",
    "\n",
    "    return solution"
   ]
  },
  {
   "cell_type": "code",
   "execution_count": 12,
   "metadata": {
    "editable": true,
    "slideshow": {
     "slide_type": ""
    },
    "tags": []
   },
   "outputs": [],
   "source": [
    "import matplotlib.pyplot as plt\n",
    "\n",
    "\n",
    "def draw_frame(problem, fig, ax):\n",
    "    mask = (problem == 0).astype(\"float32\")\n",
    "    frame = []\n",
    "\n",
    "    ax.set_title(\"Sudoku solving animation\")\n",
    "    ax.set_xticks(np.arange(0, 9))\n",
    "    ax.set_yticks(np.arange(0, 9))\n",
    "    ax.set_xticklabels(np.arange(1, 10))\n",
    "    ax.set_yticklabels(np.arange(1, 10))\n",
    "\n",
    "    ax.set_xticks(np.arange(1, 10) - 0.5, minor=True)\n",
    "    ax.set_yticks(np.arange(1, 10) - 0.5, minor=True)\n",
    "    ax.set_xticks(np.arange(3, 10, 3) - 0.5)\n",
    "    ax.set_yticks(np.arange(3, 10, 3) - 0.5)\n",
    "\n",
    "    ims = plt.imshow(mask * 0.2, cmap=\"Blues\", vmin=0.0, vmax=1.0)\n",
    "    frame.append(ims)\n",
    "    for (i, j), z in np.ndenumerate(problem):\n",
    "        if z != 0:\n",
    "            txt = ax.text(j, i, \"{:d}\".format(z), ha=\"center\", va=\"center\", color=\"k\", fontsize=15)\n",
    "            frame.append(txt)\n",
    "\n",
    "    ax.grid(which=\"minor\", color=\"k\", linestyle=\"-\", linewidth=0.5)\n",
    "    ax.grid(which=\"major\", color=\"k\", linestyle=\"-\", linewidth=1.0)\n",
    "\n",
    "    return frame"
   ]
  },
  {
   "cell_type": "code",
   "execution_count": 13,
   "metadata": {
    "editable": true,
    "slideshow": {
     "slide_type": ""
    },
    "tags": [
     "remove-input"
    ]
   },
   "outputs": [
    {
     "ename": "RuntimeError",
     "evalue": "Requested MovieWriter (ffmpeg) not available",
     "output_type": "error",
     "traceback": [
      "\u001b[0;31m---------------------------------------------------------------------------\u001b[0m",
      "\u001b[0;31mRuntimeError\u001b[0m                              Traceback (most recent call last)",
      "Cell \u001b[0;32mIn[13], line 42\u001b[0m\n\u001b[1;32m     39\u001b[0m         \u001b[38;5;28;01mbreak\u001b[39;00m\n\u001b[1;32m     41\u001b[0m ani \u001b[38;5;241m=\u001b[39m ArtistAnimation(fig, frames, interval\u001b[38;5;241m=\u001b[39m\u001b[38;5;241m100\u001b[39m, blit\u001b[38;5;241m=\u001b[39m\u001b[38;5;28;01mTrue\u001b[39;00m)\n\u001b[0;32m---> 42\u001b[0m html \u001b[38;5;241m=\u001b[39m display\u001b[38;5;241m.\u001b[39mHTML(\u001b[43mani\u001b[49m\u001b[38;5;241;43m.\u001b[39;49m\u001b[43mto_html5_video\u001b[49m\u001b[43m(\u001b[49m\u001b[43m)\u001b[49m)\n\u001b[1;32m     43\u001b[0m display\u001b[38;5;241m.\u001b[39mdisplay(html)\n\u001b[1;32m     44\u001b[0m plt\u001b[38;5;241m.\u001b[39mclose()\n",
      "File \u001b[0;32m~/.cache/pypoetry/virtualenvs/sds-adv-ml-t6Z6UgPC-py3.9/lib/python3.9/site-packages/matplotlib/animation.py:1284\u001b[0m, in \u001b[0;36mAnimation.to_html5_video\u001b[0;34m(self, embed_limit)\u001b[0m\n\u001b[1;32m   1281\u001b[0m path \u001b[38;5;241m=\u001b[39m Path(tmpdir, \u001b[38;5;124m\"\u001b[39m\u001b[38;5;124mtemp.m4v\u001b[39m\u001b[38;5;124m\"\u001b[39m)\n\u001b[1;32m   1282\u001b[0m \u001b[38;5;66;03m# We create a writer manually so that we can get the\u001b[39;00m\n\u001b[1;32m   1283\u001b[0m \u001b[38;5;66;03m# appropriate size for the tag\u001b[39;00m\n\u001b[0;32m-> 1284\u001b[0m Writer \u001b[38;5;241m=\u001b[39m \u001b[43mwriters\u001b[49m\u001b[43m[\u001b[49m\u001b[43mmpl\u001b[49m\u001b[38;5;241;43m.\u001b[39;49m\u001b[43mrcParams\u001b[49m\u001b[43m[\u001b[49m\u001b[38;5;124;43m'\u001b[39;49m\u001b[38;5;124;43manimation.writer\u001b[39;49m\u001b[38;5;124;43m'\u001b[39;49m\u001b[43m]\u001b[49m\u001b[43m]\u001b[49m\n\u001b[1;32m   1285\u001b[0m writer \u001b[38;5;241m=\u001b[39m Writer(codec\u001b[38;5;241m=\u001b[39m\u001b[38;5;124m'\u001b[39m\u001b[38;5;124mh264\u001b[39m\u001b[38;5;124m'\u001b[39m,\n\u001b[1;32m   1286\u001b[0m                 bitrate\u001b[38;5;241m=\u001b[39mmpl\u001b[38;5;241m.\u001b[39mrcParams[\u001b[38;5;124m'\u001b[39m\u001b[38;5;124manimation.bitrate\u001b[39m\u001b[38;5;124m'\u001b[39m],\n\u001b[1;32m   1287\u001b[0m                 fps\u001b[38;5;241m=\u001b[39m\u001b[38;5;241m1000.\u001b[39m \u001b[38;5;241m/\u001b[39m \u001b[38;5;28mself\u001b[39m\u001b[38;5;241m.\u001b[39m_interval)\n\u001b[1;32m   1288\u001b[0m \u001b[38;5;28mself\u001b[39m\u001b[38;5;241m.\u001b[39msave(\u001b[38;5;28mstr\u001b[39m(path), writer\u001b[38;5;241m=\u001b[39mwriter)\n",
      "File \u001b[0;32m~/.cache/pypoetry/virtualenvs/sds-adv-ml-t6Z6UgPC-py3.9/lib/python3.9/site-packages/matplotlib/animation.py:148\u001b[0m, in \u001b[0;36mMovieWriterRegistry.__getitem__\u001b[0;34m(self, name)\u001b[0m\n\u001b[1;32m    146\u001b[0m \u001b[38;5;28;01mif\u001b[39;00m \u001b[38;5;28mself\u001b[39m\u001b[38;5;241m.\u001b[39mis_available(name):\n\u001b[1;32m    147\u001b[0m     \u001b[38;5;28;01mreturn\u001b[39;00m \u001b[38;5;28mself\u001b[39m\u001b[38;5;241m.\u001b[39m_registered[name]\n\u001b[0;32m--> 148\u001b[0m \u001b[38;5;28;01mraise\u001b[39;00m \u001b[38;5;167;01mRuntimeError\u001b[39;00m(\u001b[38;5;124mf\u001b[39m\u001b[38;5;124m\"\u001b[39m\u001b[38;5;124mRequested MovieWriter (\u001b[39m\u001b[38;5;132;01m{\u001b[39;00mname\u001b[38;5;132;01m}\u001b[39;00m\u001b[38;5;124m) not available\u001b[39m\u001b[38;5;124m\"\u001b[39m)\n",
      "\u001b[0;31mRuntimeError\u001b[0m: Requested MovieWriter (ffmpeg) not available"
     ]
    },
    {
     "data": {
      "image/png": "[encoded data removed]",
      "text/plain": [
       "<Figure size 640x480 with 1 Axes>"
      ]
     },
     "metadata": {},
     "output_type": "display_data"
    }
   ],
   "source": [
    "from IPython import display\n",
    "from matplotlib.animation import ArtistAnimation\n",
    "\n",
    "fig = plt.figure()\n",
    "ax = fig.gca()\n",
    "frames = []\n",
    "\n",
    "stk = []\n",
    "stk.append(problem.copy())\n",
    "solution = None\n",
    "\n",
    "while len(stk) != 0:\n",
    "    P = stk.pop()\n",
    "    frame = draw_frame(P, fig, ax)\n",
    "    frames.append(frame)\n",
    "    success = True\n",
    "    for i, j in product(range(P.shape[0]), range(P.shape[1])):\n",
    "        if P[i, j] == 0:\n",
    "            success = False\n",
    "            row_nums = P[i, :]\n",
    "            col_nums = P[:, j]\n",
    "            k = 3 * (i // 3)\n",
    "            l = 3 * (j // 3)\n",
    "            blk_nums = P[k : k + 3, l : l + 3].flatten()\n",
    "\n",
    "            used_nums = np.concatenate([row_nums, col_nums, blk_nums])\n",
    "            unused_nums = [n for n in range(10) if not n in used_nums]\n",
    "            for n in unused_nums:\n",
    "                new_P = P.copy()\n",
    "                new_P[i, j] = n\n",
    "                stk.append(new_P)\n",
    "\n",
    "            # if the first empty cell is found, then,\n",
    "            # we don't need to see the following cells anymore.\n",
    "            break\n",
    "\n",
    "    if success:\n",
    "        solution = P.copy()\n",
    "        break\n",
    "\n",
    "ani = ArtistAnimation(fig, frames, interval=100, blit=True)\n",
    "html = display.HTML(ani.to_html5_video())\n",
    "display.display(html)\n",
    "plt.close()"
   ]
  },
  {
   "cell_type": "code",
   "execution_count": 15,
   "metadata": {
    "editable": true,
    "slideshow": {
     "slide_type": ""
    },
    "tags": [
     "remove-input"
    ]
   },
   "outputs": [
    {
     "name": "stdout",
     "output_type": "stream",
     "text": [
      "Solution is:\n",
      "[[2 3 5 7 9 1 6 4 8]\n",
      " [1 6 9 4 2 8 7 5 3]\n",
      " [7 4 8 6 3 5 9 2 1]\n",
      " [3 9 6 2 7 4 8 1 5]\n",
      " [5 2 1 3 8 9 4 6 7]\n",
      " [4 8 7 1 5 6 3 9 2]\n",
      " [8 5 3 9 6 2 1 7 4]\n",
      " [9 7 4 5 1 3 2 8 6]\n",
      " [6 1 2 8 4 7 5 3 9]]\n"
     ]
    }
   ],
   "source": [
    "print(\"Solution is:\\n\" + str(solve(problem)))"
   ]
  },
  {
   "cell_type": "code",
   "execution_count": 16,
   "metadata": {
    "editable": true,
    "slideshow": {
     "slide_type": ""
    },
    "tags": [
     "remove-input"
    ]
   },
   "outputs": [],
   "source": [
    "%%capture perf\n",
    "%%timeit -n 1 -r 10\n",
    "solve(problem)"
   ]
  },
  {
   "cell_type": "code",
   "execution_count": 17,
   "metadata": {
    "editable": true,
    "slideshow": {
     "slide_type": ""
    },
    "tags": [
     "remove-input"
    ]
   },
   "outputs": [
    {
     "name": "stdout",
     "output_type": "stream",
     "text": [
      "Execution time:\n",
      "22.7 ms +- 687 us per loop (mean +- std. dev. of 10 runs, 1 loop each)\n",
      "\n"
     ]
    }
   ],
   "source": [
    "print(\"Execution time:\\n\" + str(perf))"
   ]
  },
  {
   "cell_type": "code",
   "execution_count": 18,
   "metadata": {
    "editable": true,
    "slideshow": {
     "slide_type": ""
    },
    "tags": [
     "remove-input"
    ]
   },
   "outputs": [
    {
     "data": {
      "text/markdown": [
       "上記は、素直にバックトラック法を実装した場合の実行時間であるが、一回の問題を解くのに平均22.7 msとなっており、十分高速であることが分かる"
      ],
      "text/plain": [
       "<IPython.core.display.Markdown object>"
      ]
     },
     "execution_count": 18,
     "metadata": {},
     "output_type": "execute_result"
    }
   ],
   "source": [
    "from IPython.display import Markdown\n",
    "\n",
    "avg_time = \" \".join(perf.stdout.split(\" \")[0:2])\n",
    "\n",
    "Markdown(f\"上記は、素直にバックトラック法を実装した場合の実行時間であるが、一回の問題を解くのに平均{avg_time:s}となっており、十分高速であることが分かる\")"
   ]
  },
  {
   "cell_type": "markdown",
   "metadata": {
    "editable": true,
    "slideshow": {
     "slide_type": ""
    },
    "tags": []
   },
   "source": [
    "### 処理の効率化"
   ]
  },
  {
   "cell_type": "markdown",
   "metadata": {
    "editable": true,
    "slideshow": {
     "slide_type": ""
    },
    "tags": []
   },
   "source": [
    "上記の方法でも、最初に示した数独の問題であれば数十ミリ秒で解くことができる。だが、次の問題はどうだろう？\n",
    "\n",
    "参照: <https://www.j-cast.com/premium/2018/10/19341452.html?p=all>"
   ]
  },
  {
   "cell_type": "code",
   "execution_count": 19,
   "metadata": {
    "editable": true,
    "slideshow": {
     "slide_type": ""
    },
    "tags": []
   },
   "outputs": [],
   "source": [
    "problem = \"\"\"\n",
    "---------\n",
    "3--2-9--7\n",
    "94--1--82\n",
    "-5-6-2-3-\n",
    "--63-74--\n",
    "---------\n",
    "---------\n",
    "-82-3-59-\n",
    "1--9-4--6\n",
    "\"\"\""
   ]
  },
  {
   "cell_type": "code",
   "execution_count": 20,
   "metadata": {
    "editable": true,
    "slideshow": {
     "slide_type": ""
    },
    "tags": [
     "remove-input"
    ]
   },
   "outputs": [],
   "source": [
    "problem = np.array(\n",
    "    [numbers[c] for line in re.split(\"[\\r\\n]{1,2}\", problem) if line != \"\" for c in line],\n",
    "    dtype=\"uint8\",\n",
    ").reshape((9, 9))"
   ]
  },
  {
   "cell_type": "code",
   "execution_count": 21,
   "metadata": {
    "editable": true,
    "slideshow": {
     "slide_type": ""
    },
    "tags": [
     "remove-input"
    ]
   },
   "outputs": [
    {
     "name": "stdout",
     "output_type": "stream",
     "text": [
      "Solution is:\n",
      "[[5 2 1 7 6 8 3 4 9]\n",
      " [3 6 8 2 4 9 1 5 7]\n",
      " [9 4 7 5 1 3 6 8 2]\n",
      " [4 5 9 6 8 2 7 3 1]\n",
      " [8 1 6 3 9 7 4 2 5]\n",
      " [2 7 3 4 5 1 9 6 8]\n",
      " [6 9 4 8 7 5 2 1 3]\n",
      " [7 8 2 1 3 6 5 9 4]\n",
      " [1 3 5 9 2 4 8 7 6]]\n"
     ]
    }
   ],
   "source": [
    "print(\"Solution is:\\n\" + str(solve(problem)))"
   ]
  },
  {
   "cell_type": "code",
   "execution_count": 22,
   "metadata": {
    "editable": true,
    "slideshow": {
     "slide_type": ""
    },
    "tags": [
     "remove-input"
    ]
   },
   "outputs": [],
   "source": [
    "%%capture perf\n",
    "%%timeit -n 1 -r 10\n",
    "solve(problem)"
   ]
  },
  {
   "cell_type": "code",
   "execution_count": 23,
   "metadata": {
    "editable": true,
    "slideshow": {
     "slide_type": ""
    },
    "tags": [
     "remove-input"
    ]
   },
   "outputs": [
    {
     "name": "stdout",
     "output_type": "stream",
     "text": [
      "Execution time:\n",
      "1.46 s +- 12.6 ms per loop (mean +- std. dev. of 10 runs, 1 loop each)\n",
      "\n"
     ]
    }
   ],
   "source": [
    "print(\"Execution time:\\n\" + str(perf))"
   ]
  },
  {
   "cell_type": "markdown",
   "metadata": {
    "editable": true,
    "slideshow": {
     "slide_type": ""
    },
    "tags": []
   },
   "source": [
    "この問題だと、上記の通り1秒以上は時間がかかるはずだ。\n",
    "\n",
    "実は、上記のコードは次の0のマスを探すまでの処理の効率が非常に悪い。0のマスは左上から右下に向かって探しているのだから、今新しく`(i, j)`というマスに数字を入れたら`(i, j+1)`以降の数字だけを調べれば良いのである。\n",
    "\n",
    "その他にも、バックトラック法を高速化するために、候補の数が少ないものから埋めていくなどの方法も考えられる。ぜひ、自分でプログラムを書いて試してみてほしい。確認用に難易度の異なる4問を示しておく。"
   ]
  },
  {
   "cell_type": "code",
   "execution_count": 24,
   "metadata": {
    "editable": true,
    "slideshow": {
     "slide_type": ""
    },
    "tags": []
   },
   "outputs": [],
   "source": [
    "# レベル1\n",
    "problem = \"\"\"\n",
    "-35-9--48\n",
    "--9--8--3\n",
    "-4-6-5--1\n",
    "----74---\n",
    "-2-----6-\n",
    "---15----\n",
    "8--9-2-7-\n",
    "9--5--2--\n",
    "61--4-53-\n",
    "\"\"\""
   ]
  },
  {
   "cell_type": "code",
   "execution_count": 25,
   "metadata": {
    "editable": true,
    "slideshow": {
     "slide_type": ""
    },
    "tags": []
   },
   "outputs": [],
   "source": [
    "# レベル2\n",
    "# https://si-coding.net/sudoku10.html\n",
    "problem = \"\"\"\n",
    "------1-4\n",
    "4---78---\n",
    "-3------2\n",
    "5--4-7-3-\n",
    "2------5-\n",
    "9---264--\n",
    "-27------\n",
    "--56----7\n",
    "-6--13---\n",
    "\"\"\""
   ]
  },
  {
   "cell_type": "code",
   "execution_count": 26,
   "metadata": {
    "editable": true,
    "slideshow": {
     "slide_type": ""
    },
    "tags": []
   },
   "outputs": [],
   "source": [
    "# レベル3\n",
    "# https://www.j-cast.com/premium/2018/10/19341452.html?p=all\n",
    "problem = \"\"\"\n",
    "---------\n",
    "3--2-9--7\n",
    "94--1--82\n",
    "-5-6-2-3-\n",
    "--63-74--\n",
    "---------\n",
    "---------\n",
    "-82-3-59-\n",
    "1--9-4--6\n",
    "\"\"\""
   ]
  },
  {
   "cell_type": "code",
   "execution_count": 27,
   "metadata": {
    "editable": true,
    "slideshow": {
     "slide_type": ""
    },
    "tags": []
   },
   "outputs": [],
   "source": [
    "# 世界一難しい？\n",
    "# https://www.conceptispuzzles.com/ja/index.aspx?uri=info/article/424\n",
    "problem = \"\"\"\n",
    "8--------\n",
    "--36-----\n",
    "-7--9-2--\n",
    "-5---7---\n",
    "----457--\n",
    "---1---3-\n",
    "--1----68\n",
    "--85---1-\n",
    "-9----4--\n",
    "\"\"\""
   ]
  },
  {
   "cell_type": "markdown",
   "metadata": {
    "editable": true,
    "slideshow": {
     "slide_type": ""
    },
    "tags": []
   },
   "source": [
    "### 発展: Exact Coverによる高速な解法"
   ]
  },
  {
   "cell_type": "markdown",
   "metadata": {
    "editable": true,
    "slideshow": {
     "slide_type": ""
    },
    "tags": []
   },
   "source": [
    "バックトラック法よりも遙かに高速な解法として、数独の問題をExact Coverの問題として定式化する方法がある。\n",
    "\n",
    "Exact Cover問題とは、とある集合$\\mathcal{S}$と、その部分集合$s_1, \\ldots, s_n$がいくつか与えられた時に、以下の2つの条件を満たすように部分集合を選ぶ問題である。\n",
    "\n",
    "**条件1:** 選ばれた部分集合$s_{i_1}, \\ldots, s_{i_M}$の和集合が集合$\\mathcal{S}$と同じになる\n",
    "- $\\mathcal{S} = \\bigcap_{m=1}^M s_{i_m}$\n",
    "\n",
    "**条件2:** 選ばれた部分集合$s_{i_1}, \\ldots, s_{i_M}$から任意の2つを選び出したとき、それらの積集合が空\n",
    "- $s_{i_n} \\cup s_{i_m} = \\phi, \\quad \\forall n \\neq m$"
   ]
  },
  {
   "cell_type": "markdown",
   "metadata": {
    "editable": true,
    "slideshow": {
     "slide_type": ""
    },
    "tags": []
   },
   "source": [
    "```{admonition} Exact Coverの例\n",
    ":class: note\n",
    "\n",
    "一例として$\\mathcal{S} = \\{1, 2, 3, 4, 5\\}$を考える。このとき、\n",
    "\n",
    "- $s_1 = \\{1, 2\\}$\n",
    "- $s_2 = \\{2, 3\\}$\n",
    "- $s_3 = \\{4, 5\\}$\n",
    "- $s_4 = \\{ 3 \\}$\n",
    "- $s_5 = \\{1, 3, 5\\}$\n",
    "\n",
    "であるなら、$s_1, s_3, s_4$の組み合わせは$\\mathcal{S}$のExact Coverである。\n",
    "```"
   ]
  },
  {
   "cell_type": "markdown",
   "metadata": {
    "editable": true,
    "slideshow": {
     "slide_type": ""
    },
    "tags": []
   },
   "source": [
    "---\n",
    "\n",
    "Exact Coverにはいくつかの解法があり、Donald Knuthが提案したAlgorithm Xと呼ばれる解法が広く知られている。この解法には、通常、Dancing Linksという、二次元配列を上下左右に双方向連結リストで表現したようなデータ形式を用いる。Dancing Linksには、配列の行や列の消去が効率的に行えるが、やや実装の難易度が高い。\n",
    "\n",
    "今回はDancing Linksの代わりにPandasの`DataFrame`を用いて、Exact CoverをAlgorithm Xによって解いてみる。まずは、単純な例として、上記の「Exact Coverの例」について、Algorithm Xでの解法を見てみる。\n",
    "\n",
    "このデータを表で表わすと以下のようになる。"
   ]
  },
  {
   "cell_type": "code",
   "execution_count": 28,
   "metadata": {
    "editable": true,
    "slideshow": {
     "slide_type": ""
    },
    "tags": [
     "hide-input"
    ]
   },
   "outputs": [
    {
     "data": {
      "text/html": [
       "<div>\n",
       "<style scoped>\n",
       "    .dataframe tbody tr th:only-of-type {\n",
       "        vertical-align: middle;\n",
       "    }\n",
       "\n",
       "    .dataframe tbody tr th {\n",
       "        vertical-align: top;\n",
       "    }\n",
       "\n",
       "    .dataframe thead th {\n",
       "        text-align: right;\n",
       "    }\n",
       "</style>\n",
       "<table border=\"1\" class=\"dataframe\">\n",
       "  <thead>\n",
       "    <tr style=\"text-align: right;\">\n",
       "      <th></th>\n",
       "      <th>1</th>\n",
       "      <th>2</th>\n",
       "      <th>3</th>\n",
       "      <th>4</th>\n",
       "      <th>5</th>\n",
       "    </tr>\n",
       "  </thead>\n",
       "  <tbody>\n",
       "    <tr>\n",
       "      <th>s_1</th>\n",
       "      <td>1</td>\n",
       "      <td>1</td>\n",
       "      <td>0</td>\n",
       "      <td>0</td>\n",
       "      <td>0</td>\n",
       "    </tr>\n",
       "    <tr>\n",
       "      <th>s_2</th>\n",
       "      <td>0</td>\n",
       "      <td>1</td>\n",
       "      <td>1</td>\n",
       "      <td>0</td>\n",
       "      <td>0</td>\n",
       "    </tr>\n",
       "    <tr>\n",
       "      <th>s_3</th>\n",
       "      <td>0</td>\n",
       "      <td>0</td>\n",
       "      <td>0</td>\n",
       "      <td>1</td>\n",
       "      <td>1</td>\n",
       "    </tr>\n",
       "    <tr>\n",
       "      <th>s_4</th>\n",
       "      <td>0</td>\n",
       "      <td>0</td>\n",
       "      <td>1</td>\n",
       "      <td>0</td>\n",
       "      <td>0</td>\n",
       "    </tr>\n",
       "    <tr>\n",
       "      <th>s_5</th>\n",
       "      <td>1</td>\n",
       "      <td>0</td>\n",
       "      <td>1</td>\n",
       "      <td>0</td>\n",
       "      <td>1</td>\n",
       "    </tr>\n",
       "  </tbody>\n",
       "</table>\n",
       "</div>"
      ],
      "text/plain": [
       "     1  2  3  4  5\n",
       "s_1  1  1  0  0  0\n",
       "s_2  0  1  1  0  0\n",
       "s_3  0  0  0  1  1\n",
       "s_4  0  0  1  0  0\n",
       "s_5  1  0  1  0  1"
      ]
     },
     "metadata": {},
     "output_type": "display_data"
    }
   ],
   "source": [
    "import numpy as np\n",
    "import pandas as pd\n",
    "from IPython import display\n",
    "\n",
    "# DataFrameを作成し、データを0で初期化\n",
    "df = pd.DataFrame(index=[\"s_1\", \"s_2\", \"s_3\", \"s_4\", \"s_5\"], columns=[1, 2, 3, 4, 5])\n",
    "df.iloc[:] = 0\n",
    "\n",
    "# 部分集合の情報を入力\n",
    "df.loc[\"s_1\", [1, 2]] = 1\n",
    "df.loc[\"s_2\", [2, 3]] = 1\n",
    "df.loc[\"s_3\", [4, 5]] = 1\n",
    "df.loc[\"s_4\", [3]] = 1\n",
    "df.loc[\"s_5\", [1, 3, 5]] = 1\n",
    "\n",
    "# 表の表示\n",
    "display.display(df)"
   ]
  },
  {
   "cell_type": "markdown",
   "metadata": {
    "editable": true,
    "slideshow": {
     "slide_type": ""
    },
    "tags": []
   },
   "source": [
    "この表では、各部分集合について、値を持っている部分に1が、持っていない部分に0が入っている。Exact Coverが解くべき問題を表を用いて言い換えれば、「表の行のうちのいくつかを取り出して表を作ったときに、各列に必ず1つだけ1が存在する」ようにすること、となる。\n",
    "\n",
    "これを実現するために、Algorithm Xでは、各列を見たときに、最も1が少ない列に注目する。この表では、「4」の列が最も1の数が少ない列である。なお、この操作の時に最も1が少ない列がもつ1の数が0である (つまる列の要素が全て0の列が存在する)場合には、Exact Coverは不可能なので処理を終了する。"
   ]
  },
  {
   "cell_type": "code",
   "execution_count": 29,
   "metadata": {
    "editable": true,
    "slideshow": {
     "slide_type": ""
    },
    "tags": [
     "hide-input"
    ]
   },
   "outputs": [
    {
     "data": {
      "text/html": [
       "<style type=\"text/css\">\n",
       "#T_d60cd_row0_col3, #T_d60cd_row1_col3, #T_d60cd_row2_col3, #T_d60cd_row3_col3, #T_d60cd_row4_col3 {\n",
       "  background-color: pink;\n",
       "  font-weight: bold;\n",
       "}\n",
       "</style>\n",
       "<table id=\"T_d60cd\">\n",
       "  <thead>\n",
       "    <tr>\n",
       "      <th class=\"blank level0\" >&nbsp;</th>\n",
       "      <th id=\"T_d60cd_level0_col0\" class=\"col_heading level0 col0\" >1</th>\n",
       "      <th id=\"T_d60cd_level0_col1\" class=\"col_heading level0 col1\" >2</th>\n",
       "      <th id=\"T_d60cd_level0_col2\" class=\"col_heading level0 col2\" >3</th>\n",
       "      <th id=\"T_d60cd_level0_col3\" class=\"col_heading level0 col3\" >4</th>\n",
       "      <th id=\"T_d60cd_level0_col4\" class=\"col_heading level0 col4\" >5</th>\n",
       "    </tr>\n",
       "  </thead>\n",
       "  <tbody>\n",
       "    <tr>\n",
       "      <th id=\"T_d60cd_level0_row0\" class=\"row_heading level0 row0\" >s_1</th>\n",
       "      <td id=\"T_d60cd_row0_col0\" class=\"data row0 col0\" >1</td>\n",
       "      <td id=\"T_d60cd_row0_col1\" class=\"data row0 col1\" >1</td>\n",
       "      <td id=\"T_d60cd_row0_col2\" class=\"data row0 col2\" >0</td>\n",
       "      <td id=\"T_d60cd_row0_col3\" class=\"data row0 col3\" >0</td>\n",
       "      <td id=\"T_d60cd_row0_col4\" class=\"data row0 col4\" >0</td>\n",
       "    </tr>\n",
       "    <tr>\n",
       "      <th id=\"T_d60cd_level0_row1\" class=\"row_heading level0 row1\" >s_2</th>\n",
       "      <td id=\"T_d60cd_row1_col0\" class=\"data row1 col0\" >0</td>\n",
       "      <td id=\"T_d60cd_row1_col1\" class=\"data row1 col1\" >1</td>\n",
       "      <td id=\"T_d60cd_row1_col2\" class=\"data row1 col2\" >1</td>\n",
       "      <td id=\"T_d60cd_row1_col3\" class=\"data row1 col3\" >0</td>\n",
       "      <td id=\"T_d60cd_row1_col4\" class=\"data row1 col4\" >0</td>\n",
       "    </tr>\n",
       "    <tr>\n",
       "      <th id=\"T_d60cd_level0_row2\" class=\"row_heading level0 row2\" >s_3</th>\n",
       "      <td id=\"T_d60cd_row2_col0\" class=\"data row2 col0\" >0</td>\n",
       "      <td id=\"T_d60cd_row2_col1\" class=\"data row2 col1\" >0</td>\n",
       "      <td id=\"T_d60cd_row2_col2\" class=\"data row2 col2\" >0</td>\n",
       "      <td id=\"T_d60cd_row2_col3\" class=\"data row2 col3\" >1</td>\n",
       "      <td id=\"T_d60cd_row2_col4\" class=\"data row2 col4\" >1</td>\n",
       "    </tr>\n",
       "    <tr>\n",
       "      <th id=\"T_d60cd_level0_row3\" class=\"row_heading level0 row3\" >s_4</th>\n",
       "      <td id=\"T_d60cd_row3_col0\" class=\"data row3 col0\" >0</td>\n",
       "      <td id=\"T_d60cd_row3_col1\" class=\"data row3 col1\" >0</td>\n",
       "      <td id=\"T_d60cd_row3_col2\" class=\"data row3 col2\" >1</td>\n",
       "      <td id=\"T_d60cd_row3_col3\" class=\"data row3 col3\" >0</td>\n",
       "      <td id=\"T_d60cd_row3_col4\" class=\"data row3 col4\" >0</td>\n",
       "    </tr>\n",
       "    <tr>\n",
       "      <th id=\"T_d60cd_level0_row4\" class=\"row_heading level0 row4\" >s_5</th>\n",
       "      <td id=\"T_d60cd_row4_col0\" class=\"data row4 col0\" >1</td>\n",
       "      <td id=\"T_d60cd_row4_col1\" class=\"data row4 col1\" >0</td>\n",
       "      <td id=\"T_d60cd_row4_col2\" class=\"data row4 col2\" >1</td>\n",
       "      <td id=\"T_d60cd_row4_col3\" class=\"data row4 col3\" >0</td>\n",
       "      <td id=\"T_d60cd_row4_col4\" class=\"data row4 col4\" >1</td>\n",
       "    </tr>\n",
       "  </tbody>\n",
       "</table>\n"
      ],
      "text/plain": [
       "<pandas.io.formats.style.Styler at 0x1af0466b9a0>"
      ]
     },
     "execution_count": 29,
     "metadata": {},
     "output_type": "execute_result"
    }
   ],
   "source": [
    "def custom_style(df):\n",
    "    index = df.index\n",
    "    columns = df.columns\n",
    "    styles = []\n",
    "    for i in range(len(index)):\n",
    "        s = []\n",
    "        for j in range(len(columns)):\n",
    "            if columns[j] == 4:\n",
    "                s.append(\"background-color: pink; font-weight: bold;\")\n",
    "            else:\n",
    "                s.append(None)\n",
    "        styles.append(s)\n",
    "\n",
    "    return np.array(styles, dtype=\"object\")\n",
    "\n",
    "\n",
    "df.style.apply(custom_style, axis=None)"
   ]
  },
  {
   "cell_type": "markdown",
   "metadata": {
    "editable": true,
    "slideshow": {
     "slide_type": ""
    },
    "tags": []
   },
   "source": [
    "このとき、仮に複数の列が同じ数の1を持っていたとしても、その操作のうち任意の一つだけを選択すれば良く、**それらを順々に処理する必要はない**。なぜなら、仮にここでその列を選択しなかったとしても、以後の処理でExact Coverを実現するために、**いずれ残りの列も選択される**ためだ。\n",
    "\n",
    "今回は、1の数が一つだけの列は4列目だけなので、これを選んで処理を進める。選ばれた列に対して、値が1となっている「行」を順々に見ていく。今回は**s_3**の行だけが1を持っているので、この行を選択する。"
   ]
  },
  {
   "cell_type": "code",
   "execution_count": 30,
   "metadata": {
    "editable": true,
    "slideshow": {
     "slide_type": ""
    },
    "tags": [
     "hide-input"
    ]
   },
   "outputs": [
    {
     "data": {
      "text/html": [
       "<style type=\"text/css\">\n",
       "#T_3da26_row0_col3, #T_3da26_row1_col3, #T_3da26_row3_col3, #T_3da26_row4_col3 {\n",
       "  background-color: pink;\n",
       "  font-weight: bold;\n",
       "}\n",
       "#T_3da26_row2_col0, #T_3da26_row2_col1, #T_3da26_row2_col2, #T_3da26_row2_col4 {\n",
       "  background-color: powderblue;\n",
       "  font-weight: bold;\n",
       "}\n",
       "#T_3da26_row2_col3 {\n",
       "  background-color: plum;\n",
       "  font-weight: bold;\n",
       "}\n",
       "</style>\n",
       "<table id=\"T_3da26\">\n",
       "  <thead>\n",
       "    <tr>\n",
       "      <th class=\"blank level0\" >&nbsp;</th>\n",
       "      <th id=\"T_3da26_level0_col0\" class=\"col_heading level0 col0\" >1</th>\n",
       "      <th id=\"T_3da26_level0_col1\" class=\"col_heading level0 col1\" >2</th>\n",
       "      <th id=\"T_3da26_level0_col2\" class=\"col_heading level0 col2\" >3</th>\n",
       "      <th id=\"T_3da26_level0_col3\" class=\"col_heading level0 col3\" >4</th>\n",
       "      <th id=\"T_3da26_level0_col4\" class=\"col_heading level0 col4\" >5</th>\n",
       "    </tr>\n",
       "  </thead>\n",
       "  <tbody>\n",
       "    <tr>\n",
       "      <th id=\"T_3da26_level0_row0\" class=\"row_heading level0 row0\" >s_1</th>\n",
       "      <td id=\"T_3da26_row0_col0\" class=\"data row0 col0\" >1</td>\n",
       "      <td id=\"T_3da26_row0_col1\" class=\"data row0 col1\" >1</td>\n",
       "      <td id=\"T_3da26_row0_col2\" class=\"data row0 col2\" >0</td>\n",
       "      <td id=\"T_3da26_row0_col3\" class=\"data row0 col3\" >0</td>\n",
       "      <td id=\"T_3da26_row0_col4\" class=\"data row0 col4\" >0</td>\n",
       "    </tr>\n",
       "    <tr>\n",
       "      <th id=\"T_3da26_level0_row1\" class=\"row_heading level0 row1\" >s_2</th>\n",
       "      <td id=\"T_3da26_row1_col0\" class=\"data row1 col0\" >0</td>\n",
       "      <td id=\"T_3da26_row1_col1\" class=\"data row1 col1\" >1</td>\n",
       "      <td id=\"T_3da26_row1_col2\" class=\"data row1 col2\" >1</td>\n",
       "      <td id=\"T_3da26_row1_col3\" class=\"data row1 col3\" >0</td>\n",
       "      <td id=\"T_3da26_row1_col4\" class=\"data row1 col4\" >0</td>\n",
       "    </tr>\n",
       "    <tr>\n",
       "      <th id=\"T_3da26_level0_row2\" class=\"row_heading level0 row2\" >s_3</th>\n",
       "      <td id=\"T_3da26_row2_col0\" class=\"data row2 col0\" >0</td>\n",
       "      <td id=\"T_3da26_row2_col1\" class=\"data row2 col1\" >0</td>\n",
       "      <td id=\"T_3da26_row2_col2\" class=\"data row2 col2\" >0</td>\n",
       "      <td id=\"T_3da26_row2_col3\" class=\"data row2 col3\" >1</td>\n",
       "      <td id=\"T_3da26_row2_col4\" class=\"data row2 col4\" >1</td>\n",
       "    </tr>\n",
       "    <tr>\n",
       "      <th id=\"T_3da26_level0_row3\" class=\"row_heading level0 row3\" >s_4</th>\n",
       "      <td id=\"T_3da26_row3_col0\" class=\"data row3 col0\" >0</td>\n",
       "      <td id=\"T_3da26_row3_col1\" class=\"data row3 col1\" >0</td>\n",
       "      <td id=\"T_3da26_row3_col2\" class=\"data row3 col2\" >1</td>\n",
       "      <td id=\"T_3da26_row3_col3\" class=\"data row3 col3\" >0</td>\n",
       "      <td id=\"T_3da26_row3_col4\" class=\"data row3 col4\" >0</td>\n",
       "    </tr>\n",
       "    <tr>\n",
       "      <th id=\"T_3da26_level0_row4\" class=\"row_heading level0 row4\" >s_5</th>\n",
       "      <td id=\"T_3da26_row4_col0\" class=\"data row4 col0\" >1</td>\n",
       "      <td id=\"T_3da26_row4_col1\" class=\"data row4 col1\" >0</td>\n",
       "      <td id=\"T_3da26_row4_col2\" class=\"data row4 col2\" >1</td>\n",
       "      <td id=\"T_3da26_row4_col3\" class=\"data row4 col3\" >0</td>\n",
       "      <td id=\"T_3da26_row4_col4\" class=\"data row4 col4\" >1</td>\n",
       "    </tr>\n",
       "  </tbody>\n",
       "</table>\n"
      ],
      "text/plain": [
       "<pandas.io.formats.style.Styler at 0x1af0ff94d90>"
      ]
     },
     "execution_count": 30,
     "metadata": {},
     "output_type": "execute_result"
    }
   ],
   "source": [
    "def custom_style(df):\n",
    "    index = df.index\n",
    "    columns = df.columns\n",
    "    styles = []\n",
    "    for i in range(len(index)):\n",
    "        s = []\n",
    "        for j in range(len(columns)):\n",
    "            if index[i] == \"s_3\" and columns[j] == 4:\n",
    "                s.append(\"background-color: plum; font-weight: bold;\")\n",
    "            elif index[i] == \"s_3\":\n",
    "                s.append(\"background-color: powderblue; font-weight: bold;\")\n",
    "            elif columns[j] == 4:\n",
    "                s.append(\"background-color: pink; font-weight: bold;\")\n",
    "            else:\n",
    "                s.append(None)\n",
    "        styles.append(s)\n",
    "\n",
    "    return np.array(styles, dtype=\"object\")\n",
    "\n",
    "\n",
    "df.style.apply(custom_style, axis=None)"
   ]
  },
  {
   "cell_type": "markdown",
   "metadata": {
    "editable": true,
    "slideshow": {
     "slide_type": ""
    },
    "tags": []
   },
   "source": [
    "選択された行の要素のうち、1を持っている「列」に次は注目する。今回の例では、4, 5行目が1の値を持っている。これらの列で、1の要素を持っている「行」を洗い出す。すると、**s_3**, **s_5**の行が1の要素を4, 5列目の少なくともいずれかに1の値を持っている。\n",
    "\n",
    "今、**s_3**の行を選択したということは、それが満たす条件である**4**, **5**の列は不要であり、また同じ条件を満たす**s_5**はExact Coverを達成する上で選ばれてはいけないから、これらの行、列を削除して良いことが分かる。"
   ]
  },
  {
   "cell_type": "code",
   "execution_count": 31,
   "metadata": {
    "editable": true,
    "slideshow": {
     "slide_type": ""
    },
    "tags": [
     "hide-input"
    ]
   },
   "outputs": [
    {
     "data": {
      "text/html": [
       "<style type=\"text/css\">\n",
       "#T_f7bc1_row0_col3, #T_f7bc1_row0_col4, #T_f7bc1_row1_col3, #T_f7bc1_row1_col4, #T_f7bc1_row3_col3, #T_f7bc1_row3_col4 {\n",
       "  background-color: pink;\n",
       "  font-weight: bold;\n",
       "}\n",
       "#T_f7bc1_row2_col0, #T_f7bc1_row2_col1, #T_f7bc1_row2_col2, #T_f7bc1_row4_col0, #T_f7bc1_row4_col1, #T_f7bc1_row4_col2 {\n",
       "  background-color: powderblue;\n",
       "  font-weight: bold;\n",
       "}\n",
       "#T_f7bc1_row2_col3, #T_f7bc1_row2_col4, #T_f7bc1_row4_col3, #T_f7bc1_row4_col4 {\n",
       "  background-color: plum;\n",
       "  font-weight: bold;\n",
       "}\n",
       "</style>\n",
       "<table id=\"T_f7bc1\">\n",
       "  <thead>\n",
       "    <tr>\n",
       "      <th class=\"blank level0\" >&nbsp;</th>\n",
       "      <th id=\"T_f7bc1_level0_col0\" class=\"col_heading level0 col0\" >1</th>\n",
       "      <th id=\"T_f7bc1_level0_col1\" class=\"col_heading level0 col1\" >2</th>\n",
       "      <th id=\"T_f7bc1_level0_col2\" class=\"col_heading level0 col2\" >3</th>\n",
       "      <th id=\"T_f7bc1_level0_col3\" class=\"col_heading level0 col3\" >4</th>\n",
       "      <th id=\"T_f7bc1_level0_col4\" class=\"col_heading level0 col4\" >5</th>\n",
       "    </tr>\n",
       "  </thead>\n",
       "  <tbody>\n",
       "    <tr>\n",
       "      <th id=\"T_f7bc1_level0_row0\" class=\"row_heading level0 row0\" >s_1</th>\n",
       "      <td id=\"T_f7bc1_row0_col0\" class=\"data row0 col0\" >1</td>\n",
       "      <td id=\"T_f7bc1_row0_col1\" class=\"data row0 col1\" >1</td>\n",
       "      <td id=\"T_f7bc1_row0_col2\" class=\"data row0 col2\" >0</td>\n",
       "      <td id=\"T_f7bc1_row0_col3\" class=\"data row0 col3\" >0</td>\n",
       "      <td id=\"T_f7bc1_row0_col4\" class=\"data row0 col4\" >0</td>\n",
       "    </tr>\n",
       "    <tr>\n",
       "      <th id=\"T_f7bc1_level0_row1\" class=\"row_heading level0 row1\" >s_2</th>\n",
       "      <td id=\"T_f7bc1_row1_col0\" class=\"data row1 col0\" >0</td>\n",
       "      <td id=\"T_f7bc1_row1_col1\" class=\"data row1 col1\" >1</td>\n",
       "      <td id=\"T_f7bc1_row1_col2\" class=\"data row1 col2\" >1</td>\n",
       "      <td id=\"T_f7bc1_row1_col3\" class=\"data row1 col3\" >0</td>\n",
       "      <td id=\"T_f7bc1_row1_col4\" class=\"data row1 col4\" >0</td>\n",
       "    </tr>\n",
       "    <tr>\n",
       "      <th id=\"T_f7bc1_level0_row2\" class=\"row_heading level0 row2\" >s_3</th>\n",
       "      <td id=\"T_f7bc1_row2_col0\" class=\"data row2 col0\" >0</td>\n",
       "      <td id=\"T_f7bc1_row2_col1\" class=\"data row2 col1\" >0</td>\n",
       "      <td id=\"T_f7bc1_row2_col2\" class=\"data row2 col2\" >0</td>\n",
       "      <td id=\"T_f7bc1_row2_col3\" class=\"data row2 col3\" >1</td>\n",
       "      <td id=\"T_f7bc1_row2_col4\" class=\"data row2 col4\" >1</td>\n",
       "    </tr>\n",
       "    <tr>\n",
       "      <th id=\"T_f7bc1_level0_row3\" class=\"row_heading level0 row3\" >s_4</th>\n",
       "      <td id=\"T_f7bc1_row3_col0\" class=\"data row3 col0\" >0</td>\n",
       "      <td id=\"T_f7bc1_row3_col1\" class=\"data row3 col1\" >0</td>\n",
       "      <td id=\"T_f7bc1_row3_col2\" class=\"data row3 col2\" >1</td>\n",
       "      <td id=\"T_f7bc1_row3_col3\" class=\"data row3 col3\" >0</td>\n",
       "      <td id=\"T_f7bc1_row3_col4\" class=\"data row3 col4\" >0</td>\n",
       "    </tr>\n",
       "    <tr>\n",
       "      <th id=\"T_f7bc1_level0_row4\" class=\"row_heading level0 row4\" >s_5</th>\n",
       "      <td id=\"T_f7bc1_row4_col0\" class=\"data row4 col0\" >1</td>\n",
       "      <td id=\"T_f7bc1_row4_col1\" class=\"data row4 col1\" >0</td>\n",
       "      <td id=\"T_f7bc1_row4_col2\" class=\"data row4 col2\" >1</td>\n",
       "      <td id=\"T_f7bc1_row4_col3\" class=\"data row4 col3\" >0</td>\n",
       "      <td id=\"T_f7bc1_row4_col4\" class=\"data row4 col4\" >1</td>\n",
       "    </tr>\n",
       "  </tbody>\n",
       "</table>\n"
      ],
      "text/plain": [
       "<pandas.io.formats.style.Styler at 0x1af0fef7fd0>"
      ]
     },
     "execution_count": 31,
     "metadata": {},
     "output_type": "execute_result"
    }
   ],
   "source": [
    "def custom_style(df):\n",
    "    index = df.index\n",
    "    columns = df.columns\n",
    "    styles = []\n",
    "    for i in range(len(index)):\n",
    "        s = []\n",
    "        for j in range(len(columns)):\n",
    "            if index[i] in [\"s_3\", \"s_5\"] and columns[j] in [4, 5]:\n",
    "                s.append(\"background-color: plum; font-weight: bold;\")\n",
    "            elif index[i] in [\"s_3\", \"s_5\"]:\n",
    "                s.append(\"background-color: powderblue; font-weight: bold;\")\n",
    "            elif columns[j] in [4, 5]:\n",
    "                s.append(\"background-color: pink; font-weight: bold;\")\n",
    "            else:\n",
    "                s.append(None)\n",
    "        styles.append(s)\n",
    "\n",
    "    return np.array(styles, dtype=\"object\")\n",
    "\n",
    "\n",
    "df.style.apply(custom_style, axis=None)"
   ]
  },
  {
   "cell_type": "markdown",
   "metadata": {
    "editable": true,
    "slideshow": {
     "slide_type": ""
    },
    "tags": []
   },
   "source": [
    "ここまでの処理をまとめると、以下の手順になる。\n",
    "\n",
    "1. 各**列**が持つ1の数を数えて、最も少ない1を持つ列の中の1つ(**列X**とする)を選ぶ\n",
    "1. 列Xの要素の中で1を持つ行を1つ(**行A**とする)を選ぶ\n",
    "1. 行Aの中で1の要素を持つ列 (**列x, 列y, ...** とする)を選ぶ\n",
    "1. 列x, 列y, ...の各列において、少なくとも一つの1を持つ行 (**行a, 行b, ...** とする)を選ぶ\n",
    "\n",
    "選ばれた **列x, 列y, ...** ならびに **行a, 行b, ...** を元の表から削除すると、小さな表が得られる。上記の例を用いると、色がついていないセルだけが残り、以下のような表が得られる。"
   ]
  },
  {
   "cell_type": "code",
   "execution_count": 32,
   "metadata": {
    "editable": true,
    "slideshow": {
     "slide_type": ""
    },
    "tags": [
     "hide-input"
    ]
   },
   "outputs": [
    {
     "data": {
      "text/html": [
       "<div>\n",
       "<style scoped>\n",
       "    .dataframe tbody tr th:only-of-type {\n",
       "        vertical-align: middle;\n",
       "    }\n",
       "\n",
       "    .dataframe tbody tr th {\n",
       "        vertical-align: top;\n",
       "    }\n",
       "\n",
       "    .dataframe thead th {\n",
       "        text-align: right;\n",
       "    }\n",
       "</style>\n",
       "<table border=\"1\" class=\"dataframe\">\n",
       "  <thead>\n",
       "    <tr style=\"text-align: right;\">\n",
       "      <th></th>\n",
       "      <th>1</th>\n",
       "      <th>2</th>\n",
       "      <th>3</th>\n",
       "    </tr>\n",
       "  </thead>\n",
       "  <tbody>\n",
       "    <tr>\n",
       "      <th>s_1</th>\n",
       "      <td>1</td>\n",
       "      <td>1</td>\n",
       "      <td>0</td>\n",
       "    </tr>\n",
       "    <tr>\n",
       "      <th>s_2</th>\n",
       "      <td>0</td>\n",
       "      <td>1</td>\n",
       "      <td>1</td>\n",
       "    </tr>\n",
       "    <tr>\n",
       "      <th>s_4</th>\n",
       "      <td>0</td>\n",
       "      <td>0</td>\n",
       "      <td>1</td>\n",
       "    </tr>\n",
       "  </tbody>\n",
       "</table>\n",
       "</div>"
      ],
      "text/plain": [
       "     1  2  3\n",
       "s_1  1  1  0\n",
       "s_2  0  1  1\n",
       "s_4  0  0  1"
      ]
     },
     "execution_count": 32,
     "metadata": {},
     "output_type": "execute_result"
    }
   ],
   "source": [
    "new_df = df.loc[[\"s_1\", \"s_2\", \"s_4\"], [1, 2, 3]]\n",
    "new_df"
   ]
  },
  {
   "cell_type": "markdown",
   "metadata": {
    "editable": true,
    "slideshow": {
     "slide_type": ""
    },
    "tags": []
   },
   "source": [
    "このようにして、小さな表が得られたら、上記の手順1-4をこの表に対しても繰り返す。この表は、1列目が、最も少ない1を持つので、選ばれる **列x, 列y, ...** ならびに **行a, 行b, ...** に色をつけると以下のようになる。"
   ]
  },
  {
   "cell_type": "code",
   "execution_count": 33,
   "metadata": {
    "editable": true,
    "slideshow": {
     "slide_type": ""
    },
    "tags": [
     "hide-input"
    ]
   },
   "outputs": [
    {
     "data": {
      "text/html": [
       "<style type=\"text/css\">\n",
       "#T_bfc0c_row0_col0, #T_bfc0c_row0_col1, #T_bfc0c_row1_col0, #T_bfc0c_row1_col1 {\n",
       "  background-color: plum;\n",
       "  font-weight: bold;\n",
       "}\n",
       "#T_bfc0c_row0_col2, #T_bfc0c_row1_col2 {\n",
       "  background-color: powderblue;\n",
       "  font-weight: bold;\n",
       "}\n",
       "#T_bfc0c_row2_col0, #T_bfc0c_row2_col1 {\n",
       "  background-color: pink;\n",
       "  font-weight: bold;\n",
       "}\n",
       "</style>\n",
       "<table id=\"T_bfc0c\">\n",
       "  <thead>\n",
       "    <tr>\n",
       "      <th class=\"blank level0\" >&nbsp;</th>\n",
       "      <th id=\"T_bfc0c_level0_col0\" class=\"col_heading level0 col0\" >1</th>\n",
       "      <th id=\"T_bfc0c_level0_col1\" class=\"col_heading level0 col1\" >2</th>\n",
       "      <th id=\"T_bfc0c_level0_col2\" class=\"col_heading level0 col2\" >3</th>\n",
       "    </tr>\n",
       "  </thead>\n",
       "  <tbody>\n",
       "    <tr>\n",
       "      <th id=\"T_bfc0c_level0_row0\" class=\"row_heading level0 row0\" >s_1</th>\n",
       "      <td id=\"T_bfc0c_row0_col0\" class=\"data row0 col0\" >1</td>\n",
       "      <td id=\"T_bfc0c_row0_col1\" class=\"data row0 col1\" >1</td>\n",
       "      <td id=\"T_bfc0c_row0_col2\" class=\"data row0 col2\" >0</td>\n",
       "    </tr>\n",
       "    <tr>\n",
       "      <th id=\"T_bfc0c_level0_row1\" class=\"row_heading level0 row1\" >s_2</th>\n",
       "      <td id=\"T_bfc0c_row1_col0\" class=\"data row1 col0\" >0</td>\n",
       "      <td id=\"T_bfc0c_row1_col1\" class=\"data row1 col1\" >1</td>\n",
       "      <td id=\"T_bfc0c_row1_col2\" class=\"data row1 col2\" >1</td>\n",
       "    </tr>\n",
       "    <tr>\n",
       "      <th id=\"T_bfc0c_level0_row2\" class=\"row_heading level0 row2\" >s_4</th>\n",
       "      <td id=\"T_bfc0c_row2_col0\" class=\"data row2 col0\" >0</td>\n",
       "      <td id=\"T_bfc0c_row2_col1\" class=\"data row2 col1\" >0</td>\n",
       "      <td id=\"T_bfc0c_row2_col2\" class=\"data row2 col2\" >1</td>\n",
       "    </tr>\n",
       "  </tbody>\n",
       "</table>\n"
      ],
      "text/plain": [
       "<pandas.io.formats.style.Styler at 0x1af038d72b0>"
      ]
     },
     "execution_count": 33,
     "metadata": {},
     "output_type": "execute_result"
    }
   ],
   "source": [
    "def custom_style(df):\n",
    "    index = df.index\n",
    "    columns = df.columns\n",
    "    styles = []\n",
    "    for i in range(len(index)):\n",
    "        s = []\n",
    "        for j in range(len(columns)):\n",
    "            if index[i] in [\"s_1\", \"s_2\"] and columns[j] in [1, 2]:\n",
    "                s.append(\"background-color: plum; font-weight: bold;\")\n",
    "            elif index[i] in [\"s_1\", \"s_2\"]:\n",
    "                s.append(\"background-color: powderblue; font-weight: bold;\")\n",
    "            elif columns[j] in [1, 2]:\n",
    "                s.append(\"background-color: pink; font-weight: bold;\")\n",
    "            else:\n",
    "                s.append(None)\n",
    "        styles.append(s)\n",
    "\n",
    "    return np.array(styles, dtype=\"object\")\n",
    "\n",
    "\n",
    "new_df.style.apply(custom_style, axis=None)"
   ]
  },
  {
   "cell_type": "markdown",
   "metadata": {
    "editable": true,
    "slideshow": {
     "slide_type": ""
    },
    "tags": []
   },
   "source": [
    "ここで、再度選ばれた行、列を削除すると、次は、以下のような表が得られる。"
   ]
  },
  {
   "cell_type": "code",
   "execution_count": 34,
   "metadata": {
    "editable": true,
    "slideshow": {
     "slide_type": ""
    },
    "tags": [
     "hide-input"
    ]
   },
   "outputs": [
    {
     "data": {
      "text/html": [
       "<div>\n",
       "<style scoped>\n",
       "    .dataframe tbody tr th:only-of-type {\n",
       "        vertical-align: middle;\n",
       "    }\n",
       "\n",
       "    .dataframe tbody tr th {\n",
       "        vertical-align: top;\n",
       "    }\n",
       "\n",
       "    .dataframe thead th {\n",
       "        text-align: right;\n",
       "    }\n",
       "</style>\n",
       "<table border=\"1\" class=\"dataframe\">\n",
       "  <thead>\n",
       "    <tr style=\"text-align: right;\">\n",
       "      <th></th>\n",
       "      <th>3</th>\n",
       "    </tr>\n",
       "  </thead>\n",
       "  <tbody>\n",
       "    <tr>\n",
       "      <th>s_4</th>\n",
       "      <td>1</td>\n",
       "    </tr>\n",
       "  </tbody>\n",
       "</table>\n",
       "</div>"
      ],
      "text/plain": [
       "     3\n",
       "s_4  1"
      ]
     },
     "execution_count": 34,
     "metadata": {},
     "output_type": "execute_result"
    }
   ],
   "source": [
    "new_df2 = new_df.loc[[\"s_4\"], [3]]\n",
    "new_df2"
   ]
  },
  {
   "cell_type": "markdown",
   "metadata": {
    "editable": true,
    "slideshow": {
     "slide_type": ""
    },
    "tags": []
   },
   "source": [
    "このように表に対して、再度上記の操作を繰り返すと、**表全体が選択されて、空の表になる**ことが分かる (このとき、表の値が全て1であるとは限らないが、少なくとも1行は全ての列が1となる行が存在する)。このような空の表が現れたら処理を終了し、これまでに選択した列のインデックスの列を返すと、Exact Coverとなる部分集合の列が得られる。\n",
    "\n",
    "ここまでの処理で、手順2で選ばれた行を列挙すると、最初に**s_3**が、次に**s_1**が、そして最後に**s_4**が選ばれた。この三つの部分集合は元の集合$\\mathcal{S}$のExact Coverとなっており、Algorithm Xにより問題が正しく解けていることが確認できた。\n",
    "\n",
    "なお、Pandasの`DataFrame`を用いた実装は以下のようになる。"
   ]
  },
  {
   "cell_type": "code",
   "execution_count": 35,
   "metadata": {
    "editable": true,
    "slideshow": {
     "slide_type": ""
    },
    "tags": []
   },
   "outputs": [],
   "source": [
    "# Knuth's Algorithm X\n",
    "def dfs(df: pd.DataFrame):\n",
    "    # 使い勝手のためにNumPy配列に変換\n",
    "    m = df.to_numpy()\n",
    "    if m.size == 0:\n",
    "        return []\n",
    "\n",
    "    # 1の数が最小の行を探す\n",
    "    sums = np.sum(m, axis=0)\n",
    "    sc = np.argmin(sums)\n",
    "    if sums[sc] == 0:\n",
    "        return None\n",
    "\n",
    "    sel_rows = np.where(m[:, sc])[0]\n",
    "    for sr in sel_rows:\n",
    "        mask_cols = np.where(m[sr, :])[0]\n",
    "        mask_rows = [np.where(m[:, c])[0] for c in mask_cols]\n",
    "        mask_rows = np.unique(np.concatenate(mask_rows))\n",
    "\n",
    "        new_df = df.drop(index=df.index[mask_rows]).drop(columns=df.columns[mask_cols])\n",
    "        ret = dfs(new_df)\n",
    "        if ret is not None:\n",
    "            return ret + [df.index[sr]]\n",
    "\n",
    "    return None"
   ]
  },
  {
   "cell_type": "code",
   "execution_count": 36,
   "metadata": {
    "editable": true,
    "slideshow": {
     "slide_type": ""
    },
    "tags": []
   },
   "outputs": [
    {
     "name": "stdout",
     "output_type": "stream",
     "text": [
      "The solution for exact cover is: ['s_1', 's_3', 's_4']\n"
     ]
    }
   ],
   "source": [
    "solution = dfs(df)\n",
    "if solution is not None:\n",
    "    print(\"The solution for exact cover is:\", sorted(solution))\n",
    "else:\n",
    "    print(\"Solution not found!\")"
   ]
  },
  {
   "cell_type": "markdown",
   "metadata": {
    "editable": true,
    "slideshow": {
     "slide_type": ""
    },
    "tags": []
   },
   "source": [
    "---\n",
    "\n",
    "**数独のExact Coverによる定式化**"
   ]
  },
  {
   "cell_type": "markdown",
   "metadata": {
    "editable": true,
    "slideshow": {
     "slide_type": ""
    },
    "tags": []
   },
   "source": [
    "では、数独の問題をExact Coverの問題として定式化してみよう。これには、数独の問題を少し違った見方から捕らえる必要がある。\n",
    "\n",
    "まず、各セルに何らかの値が入った場合に何が起こるのかを考えてみる。とあるA行X列のセルAXに1が入ることは、\n",
    "\n",
    "- セルAXには1-9のうち1が入るという**操作**がなされた\n",
    "- セルAXに数字が入るという**条件**が満たされた\n",
    "- A行目に1が入るという**条件**が満たされた\n",
    "- X列目に1が入るという**条件**が満たされた\n",
    "- セルAXが属するブロックに1が入るという**条件**が満たされた\n",
    "\n",
    "という操作とそれによって充足される条件を意味する。これを集合の表記で書くとすれば、\n",
    "\n",
    "$$\n",
    "s_{\\text{Row-A,Col-X}} = \\{ c_{\\text{Fill,Row-A,Col-X}}, c_{\\text{1,Row-A}}, c_{\\text{1, Col-X}} c_{\\text{1, Blk-N}} \\}\n",
    "$$\n",
    "\n",
    "のようになり、$c_{\\text{Fill,Row-A,Col-X}}$はA行X列に数字が入ることを、$c_{\\text{1,Row-A}}$は行Aに1が入ることを、$ c_{\\text{1, Col-X}}$はX列に1が入ることを、$c_{\\text{1, Blk-N}}$はブロックNに1が入ることをそれぞれ表わす。"
   ]
  },
  {
   "cell_type": "markdown",
   "metadata": {
    "editable": true,
    "slideshow": {
     "slide_type": ""
    },
    "tags": []
   },
   "source": [
    "このように数独の問題を捕らえ直すと、セルに数字を入れるという操作は、とある条件の全体集合の部分集合になっていることが分かる。\n",
    "\n",
    "この際、操作の数は数字を入れるセルが9×9=81個あり、そこに1-9の9種類の数字が入りうるので、**729個の操作があり得る**ことが分かる。\n",
    "\n",
    "また、満たすべき条件としては、9×9個のセルに数字が入る (81通り)、9個の各行に1-9の数字が入る (9×9=81通り)、9個の各列に1-9の数字が入る (9x9=81通り)、9個のブロックに1-9の数字が入る(9×9=81通り)の合計**324通りの条件がある**ことが分かる。\n",
    "\n",
    "さらに、各条件は1つの操作によってしか満たされない (例: とある列に二つの2が入ることはあり得ない)ので、数独の問題が、729個ある操作からいくつか (実際には81個)を選んで、324個の条件をちょうど1度ずつ満たす問題、すなわち、Exact Coverの問題であることが分かる。"
   ]
  },
  {
   "cell_type": "markdown",
   "metadata": {
    "editable": true,
    "slideshow": {
     "slide_type": ""
    },
    "tags": []
   },
   "source": [
    "以上の議論より、数独をExact Coverの問題として解くには729×324の大きさの表を作り、数字が既知のセルに対応する条件に1を入れる。この表に対してAlgorithm Xを適用すれば、必要な操作(=どのセルにどの数字を入れるか)を決定することができる。"
   ]
  },
  {
   "cell_type": "markdown",
   "metadata": {
    "editable": true,
    "slideshow": {
     "slide_type": ""
    },
    "tags": []
   },
   "source": [
    "以下では、各セルに数字を入れる操作を**R1C1#1**のように表わすこととし、セルに数字が入るという条件を**R1C1**、行に数字が入るという条件を**R1#1**、列に数字が入るという条件を**C1#1**、ブロックに数字が入るという操作を**B1#1**のように表わすことにする。\n",
    "\n",
    "このルールに従うと、Algorithm Xで処理すべきPandasの`DataFrame`は以下のように作成できる。"
   ]
  },
  {
   "cell_type": "code",
   "execution_count": 37,
   "metadata": {
    "editable": true,
    "slideshow": {
     "slide_type": ""
    },
    "tags": []
   },
   "outputs": [
    {
     "data": {
      "text/html": [
       "<div>\n",
       "<style scoped>\n",
       "    .dataframe tbody tr th:only-of-type {\n",
       "        vertical-align: middle;\n",
       "    }\n",
       "\n",
       "    .dataframe tbody tr th {\n",
       "        vertical-align: top;\n",
       "    }\n",
       "\n",
       "    .dataframe thead th {\n",
       "        text-align: right;\n",
       "    }\n",
       "</style>\n",
       "<table border=\"1\" class=\"dataframe\">\n",
       "  <thead>\n",
       "    <tr style=\"text-align: right;\">\n",
       "      <th></th>\n",
       "      <th>R1C1</th>\n",
       "      <th>R1C2</th>\n",
       "      <th>R1C3</th>\n",
       "      <th>R1C4</th>\n",
       "      <th>R1C5</th>\n",
       "      <th>R1C6</th>\n",
       "      <th>R1C7</th>\n",
       "      <th>R1C8</th>\n",
       "      <th>R1C9</th>\n",
       "      <th>R2C1</th>\n",
       "      <th>...</th>\n",
       "      <th>B8#9</th>\n",
       "      <th>B9#1</th>\n",
       "      <th>B9#2</th>\n",
       "      <th>B9#3</th>\n",
       "      <th>B9#4</th>\n",
       "      <th>B9#5</th>\n",
       "      <th>B9#6</th>\n",
       "      <th>B9#7</th>\n",
       "      <th>B9#8</th>\n",
       "      <th>B9#9</th>\n",
       "    </tr>\n",
       "  </thead>\n",
       "  <tbody>\n",
       "    <tr>\n",
       "      <th>R1C1#1</th>\n",
       "      <td>0</td>\n",
       "      <td>0</td>\n",
       "      <td>0</td>\n",
       "      <td>0</td>\n",
       "      <td>0</td>\n",
       "      <td>0</td>\n",
       "      <td>0</td>\n",
       "      <td>0</td>\n",
       "      <td>0</td>\n",
       "      <td>0</td>\n",
       "      <td>...</td>\n",
       "      <td>0</td>\n",
       "      <td>0</td>\n",
       "      <td>0</td>\n",
       "      <td>0</td>\n",
       "      <td>0</td>\n",
       "      <td>0</td>\n",
       "      <td>0</td>\n",
       "      <td>0</td>\n",
       "      <td>0</td>\n",
       "      <td>0</td>\n",
       "    </tr>\n",
       "    <tr>\n",
       "      <th>R1C1#2</th>\n",
       "      <td>0</td>\n",
       "      <td>0</td>\n",
       "      <td>0</td>\n",
       "      <td>0</td>\n",
       "      <td>0</td>\n",
       "      <td>0</td>\n",
       "      <td>0</td>\n",
       "      <td>0</td>\n",
       "      <td>0</td>\n",
       "      <td>0</td>\n",
       "      <td>...</td>\n",
       "      <td>0</td>\n",
       "      <td>0</td>\n",
       "      <td>0</td>\n",
       "      <td>0</td>\n",
       "      <td>0</td>\n",
       "      <td>0</td>\n",
       "      <td>0</td>\n",
       "      <td>0</td>\n",
       "      <td>0</td>\n",
       "      <td>0</td>\n",
       "    </tr>\n",
       "    <tr>\n",
       "      <th>R1C1#3</th>\n",
       "      <td>0</td>\n",
       "      <td>0</td>\n",
       "      <td>0</td>\n",
       "      <td>0</td>\n",
       "      <td>0</td>\n",
       "      <td>0</td>\n",
       "      <td>0</td>\n",
       "      <td>0</td>\n",
       "      <td>0</td>\n",
       "      <td>0</td>\n",
       "      <td>...</td>\n",
       "      <td>0</td>\n",
       "      <td>0</td>\n",
       "      <td>0</td>\n",
       "      <td>0</td>\n",
       "      <td>0</td>\n",
       "      <td>0</td>\n",
       "      <td>0</td>\n",
       "      <td>0</td>\n",
       "      <td>0</td>\n",
       "      <td>0</td>\n",
       "    </tr>\n",
       "    <tr>\n",
       "      <th>R1C1#4</th>\n",
       "      <td>0</td>\n",
       "      <td>0</td>\n",
       "      <td>0</td>\n",
       "      <td>0</td>\n",
       "      <td>0</td>\n",
       "      <td>0</td>\n",
       "      <td>0</td>\n",
       "      <td>0</td>\n",
       "      <td>0</td>\n",
       "      <td>0</td>\n",
       "      <td>...</td>\n",
       "      <td>0</td>\n",
       "      <td>0</td>\n",
       "      <td>0</td>\n",
       "      <td>0</td>\n",
       "      <td>0</td>\n",
       "      <td>0</td>\n",
       "      <td>0</td>\n",
       "      <td>0</td>\n",
       "      <td>0</td>\n",
       "      <td>0</td>\n",
       "    </tr>\n",
       "    <tr>\n",
       "      <th>R1C1#5</th>\n",
       "      <td>0</td>\n",
       "      <td>0</td>\n",
       "      <td>0</td>\n",
       "      <td>0</td>\n",
       "      <td>0</td>\n",
       "      <td>0</td>\n",
       "      <td>0</td>\n",
       "      <td>0</td>\n",
       "      <td>0</td>\n",
       "      <td>0</td>\n",
       "      <td>...</td>\n",
       "      <td>0</td>\n",
       "      <td>0</td>\n",
       "      <td>0</td>\n",
       "      <td>0</td>\n",
       "      <td>0</td>\n",
       "      <td>0</td>\n",
       "      <td>0</td>\n",
       "      <td>0</td>\n",
       "      <td>0</td>\n",
       "      <td>0</td>\n",
       "    </tr>\n",
       "    <tr>\n",
       "      <th>...</th>\n",
       "      <td>...</td>\n",
       "      <td>...</td>\n",
       "      <td>...</td>\n",
       "      <td>...</td>\n",
       "      <td>...</td>\n",
       "      <td>...</td>\n",
       "      <td>...</td>\n",
       "      <td>...</td>\n",
       "      <td>...</td>\n",
       "      <td>...</td>\n",
       "      <td>...</td>\n",
       "      <td>...</td>\n",
       "      <td>...</td>\n",
       "      <td>...</td>\n",
       "      <td>...</td>\n",
       "      <td>...</td>\n",
       "      <td>...</td>\n",
       "      <td>...</td>\n",
       "      <td>...</td>\n",
       "      <td>...</td>\n",
       "      <td>...</td>\n",
       "    </tr>\n",
       "    <tr>\n",
       "      <th>R9C9#5</th>\n",
       "      <td>0</td>\n",
       "      <td>0</td>\n",
       "      <td>0</td>\n",
       "      <td>0</td>\n",
       "      <td>0</td>\n",
       "      <td>0</td>\n",
       "      <td>0</td>\n",
       "      <td>0</td>\n",
       "      <td>0</td>\n",
       "      <td>0</td>\n",
       "      <td>...</td>\n",
       "      <td>0</td>\n",
       "      <td>0</td>\n",
       "      <td>0</td>\n",
       "      <td>0</td>\n",
       "      <td>0</td>\n",
       "      <td>0</td>\n",
       "      <td>0</td>\n",
       "      <td>0</td>\n",
       "      <td>0</td>\n",
       "      <td>0</td>\n",
       "    </tr>\n",
       "    <tr>\n",
       "      <th>R9C9#6</th>\n",
       "      <td>0</td>\n",
       "      <td>0</td>\n",
       "      <td>0</td>\n",
       "      <td>0</td>\n",
       "      <td>0</td>\n",
       "      <td>0</td>\n",
       "      <td>0</td>\n",
       "      <td>0</td>\n",
       "      <td>0</td>\n",
       "      <td>0</td>\n",
       "      <td>...</td>\n",
       "      <td>0</td>\n",
       "      <td>0</td>\n",
       "      <td>0</td>\n",
       "      <td>0</td>\n",
       "      <td>0</td>\n",
       "      <td>0</td>\n",
       "      <td>0</td>\n",
       "      <td>0</td>\n",
       "      <td>0</td>\n",
       "      <td>0</td>\n",
       "    </tr>\n",
       "    <tr>\n",
       "      <th>R9C9#7</th>\n",
       "      <td>0</td>\n",
       "      <td>0</td>\n",
       "      <td>0</td>\n",
       "      <td>0</td>\n",
       "      <td>0</td>\n",
       "      <td>0</td>\n",
       "      <td>0</td>\n",
       "      <td>0</td>\n",
       "      <td>0</td>\n",
       "      <td>0</td>\n",
       "      <td>...</td>\n",
       "      <td>0</td>\n",
       "      <td>0</td>\n",
       "      <td>0</td>\n",
       "      <td>0</td>\n",
       "      <td>0</td>\n",
       "      <td>0</td>\n",
       "      <td>0</td>\n",
       "      <td>0</td>\n",
       "      <td>0</td>\n",
       "      <td>0</td>\n",
       "    </tr>\n",
       "    <tr>\n",
       "      <th>R9C9#8</th>\n",
       "      <td>0</td>\n",
       "      <td>0</td>\n",
       "      <td>0</td>\n",
       "      <td>0</td>\n",
       "      <td>0</td>\n",
       "      <td>0</td>\n",
       "      <td>0</td>\n",
       "      <td>0</td>\n",
       "      <td>0</td>\n",
       "      <td>0</td>\n",
       "      <td>...</td>\n",
       "      <td>0</td>\n",
       "      <td>0</td>\n",
       "      <td>0</td>\n",
       "      <td>0</td>\n",
       "      <td>0</td>\n",
       "      <td>0</td>\n",
       "      <td>0</td>\n",
       "      <td>0</td>\n",
       "      <td>0</td>\n",
       "      <td>0</td>\n",
       "    </tr>\n",
       "    <tr>\n",
       "      <th>R9C9#9</th>\n",
       "      <td>0</td>\n",
       "      <td>0</td>\n",
       "      <td>0</td>\n",
       "      <td>0</td>\n",
       "      <td>0</td>\n",
       "      <td>0</td>\n",
       "      <td>0</td>\n",
       "      <td>0</td>\n",
       "      <td>0</td>\n",
       "      <td>0</td>\n",
       "      <td>...</td>\n",
       "      <td>0</td>\n",
       "      <td>0</td>\n",
       "      <td>0</td>\n",
       "      <td>0</td>\n",
       "      <td>0</td>\n",
       "      <td>0</td>\n",
       "      <td>0</td>\n",
       "      <td>0</td>\n",
       "      <td>0</td>\n",
       "      <td>0</td>\n",
       "    </tr>\n",
       "  </tbody>\n",
       "</table>\n",
       "<p>729 rows × 324 columns</p>\n",
       "</div>"
      ],
      "text/plain": [
       "        R1C1  R1C2  R1C3  R1C4  R1C5  R1C6  R1C7  R1C8  R1C9  R2C1  ...  B8#9  \\\n",
       "R1C1#1     0     0     0     0     0     0     0     0     0     0  ...     0   \n",
       "R1C1#2     0     0     0     0     0     0     0     0     0     0  ...     0   \n",
       "R1C1#3     0     0     0     0     0     0     0     0     0     0  ...     0   \n",
       "R1C1#4     0     0     0     0     0     0     0     0     0     0  ...     0   \n",
       "R1C1#5     0     0     0     0     0     0     0     0     0     0  ...     0   \n",
       "...      ...   ...   ...   ...   ...   ...   ...   ...   ...   ...  ...   ...   \n",
       "R9C9#5     0     0     0     0     0     0     0     0     0     0  ...     0   \n",
       "R9C9#6     0     0     0     0     0     0     0     0     0     0  ...     0   \n",
       "R9C9#7     0     0     0     0     0     0     0     0     0     0  ...     0   \n",
       "R9C9#8     0     0     0     0     0     0     0     0     0     0  ...     0   \n",
       "R9C9#9     0     0     0     0     0     0     0     0     0     0  ...     0   \n",
       "\n",
       "        B9#1  B9#2  B9#3  B9#4  B9#5  B9#6  B9#7  B9#8  B9#9  \n",
       "R1C1#1     0     0     0     0     0     0     0     0     0  \n",
       "R1C1#2     0     0     0     0     0     0     0     0     0  \n",
       "R1C1#3     0     0     0     0     0     0     0     0     0  \n",
       "R1C1#4     0     0     0     0     0     0     0     0     0  \n",
       "R1C1#5     0     0     0     0     0     0     0     0     0  \n",
       "...      ...   ...   ...   ...   ...   ...   ...   ...   ...  \n",
       "R9C9#5     0     0     0     0     0     0     0     0     0  \n",
       "R9C9#6     0     0     0     0     0     0     0     0     0  \n",
       "R9C9#7     0     0     0     0     0     0     0     0     0  \n",
       "R9C9#8     0     0     0     0     0     0     0     0     0  \n",
       "R9C9#9     0     0     0     0     0     0     0     0     0  \n",
       "\n",
       "[729 rows x 324 columns]"
      ]
     },
     "metadata": {},
     "output_type": "display_data"
    }
   ],
   "source": [
    "index = [\n",
    "    \"R{:d}C{:d}#{:d}\".format(i, j, n)\n",
    "    for i in range(1, 10)\n",
    "    for j in range(1, 10)\n",
    "    for n in range(1, 10)\n",
    "]\n",
    "cond1 = [\"R{:d}C{:d}\".format(i, j) for i in range(1, 10) for j in range(1, 10)]\n",
    "cond2 = [\"R{:d}#{:d}\".format(i, n) for i in range(1, 10) for n in range(1, 10)]\n",
    "cond3 = [\"C{:d}#{:d}\".format(j, n) for j in range(1, 10) for n in range(1, 10)]\n",
    "cond4 = [\"B{:d}#{:d}\".format(b, n) for b in range(1, 10) for n in range(1, 10)]\n",
    "conds = cond1 + cond2 + cond3 + cond4\n",
    "\n",
    "df = pd.DataFrame(index=index, columns=conds, dtype=\"bool\")\n",
    "df.iloc[:] = 0\n",
    "display.display(df)"
   ]
  },
  {
   "cell_type": "markdown",
   "metadata": {
    "editable": true,
    "slideshow": {
     "slide_type": ""
    },
    "tags": []
   },
   "source": [
    "この表に対して、数独の問題が全て空マスの場合の条件を代入していく。"
   ]
  },
  {
   "cell_type": "code",
   "execution_count": 38,
   "metadata": {
    "editable": true,
    "slideshow": {
     "slide_type": ""
    },
    "tags": []
   },
   "outputs": [
    {
     "data": {
      "text/html": [
       "<div>\n",
       "<style scoped>\n",
       "    .dataframe tbody tr th:only-of-type {\n",
       "        vertical-align: middle;\n",
       "    }\n",
       "\n",
       "    .dataframe tbody tr th {\n",
       "        vertical-align: top;\n",
       "    }\n",
       "\n",
       "    .dataframe thead th {\n",
       "        text-align: right;\n",
       "    }\n",
       "</style>\n",
       "<table border=\"1\" class=\"dataframe\">\n",
       "  <thead>\n",
       "    <tr style=\"text-align: right;\">\n",
       "      <th></th>\n",
       "      <th>R1C1</th>\n",
       "      <th>R1C2</th>\n",
       "      <th>R1C3</th>\n",
       "      <th>R1C4</th>\n",
       "      <th>R1C5</th>\n",
       "      <th>R1C6</th>\n",
       "      <th>R1C7</th>\n",
       "      <th>R1C8</th>\n",
       "      <th>R1C9</th>\n",
       "      <th>R2C1</th>\n",
       "      <th>...</th>\n",
       "      <th>B8#9</th>\n",
       "      <th>B9#1</th>\n",
       "      <th>B9#2</th>\n",
       "      <th>B9#3</th>\n",
       "      <th>B9#4</th>\n",
       "      <th>B9#5</th>\n",
       "      <th>B9#6</th>\n",
       "      <th>B9#7</th>\n",
       "      <th>B9#8</th>\n",
       "      <th>B9#9</th>\n",
       "    </tr>\n",
       "  </thead>\n",
       "  <tbody>\n",
       "    <tr>\n",
       "      <th>R1C1#1</th>\n",
       "      <td>1</td>\n",
       "      <td>0</td>\n",
       "      <td>0</td>\n",
       "      <td>0</td>\n",
       "      <td>0</td>\n",
       "      <td>0</td>\n",
       "      <td>0</td>\n",
       "      <td>0</td>\n",
       "      <td>0</td>\n",
       "      <td>0</td>\n",
       "      <td>...</td>\n",
       "      <td>0</td>\n",
       "      <td>0</td>\n",
       "      <td>0</td>\n",
       "      <td>0</td>\n",
       "      <td>0</td>\n",
       "      <td>0</td>\n",
       "      <td>0</td>\n",
       "      <td>0</td>\n",
       "      <td>0</td>\n",
       "      <td>0</td>\n",
       "    </tr>\n",
       "    <tr>\n",
       "      <th>R1C1#2</th>\n",
       "      <td>1</td>\n",
       "      <td>0</td>\n",
       "      <td>0</td>\n",
       "      <td>0</td>\n",
       "      <td>0</td>\n",
       "      <td>0</td>\n",
       "      <td>0</td>\n",
       "      <td>0</td>\n",
       "      <td>0</td>\n",
       "      <td>0</td>\n",
       "      <td>...</td>\n",
       "      <td>0</td>\n",
       "      <td>0</td>\n",
       "      <td>0</td>\n",
       "      <td>0</td>\n",
       "      <td>0</td>\n",
       "      <td>0</td>\n",
       "      <td>0</td>\n",
       "      <td>0</td>\n",
       "      <td>0</td>\n",
       "      <td>0</td>\n",
       "    </tr>\n",
       "    <tr>\n",
       "      <th>R1C1#3</th>\n",
       "      <td>1</td>\n",
       "      <td>0</td>\n",
       "      <td>0</td>\n",
       "      <td>0</td>\n",
       "      <td>0</td>\n",
       "      <td>0</td>\n",
       "      <td>0</td>\n",
       "      <td>0</td>\n",
       "      <td>0</td>\n",
       "      <td>0</td>\n",
       "      <td>...</td>\n",
       "      <td>0</td>\n",
       "      <td>0</td>\n",
       "      <td>0</td>\n",
       "      <td>0</td>\n",
       "      <td>0</td>\n",
       "      <td>0</td>\n",
       "      <td>0</td>\n",
       "      <td>0</td>\n",
       "      <td>0</td>\n",
       "      <td>0</td>\n",
       "    </tr>\n",
       "    <tr>\n",
       "      <th>R1C1#4</th>\n",
       "      <td>1</td>\n",
       "      <td>0</td>\n",
       "      <td>0</td>\n",
       "      <td>0</td>\n",
       "      <td>0</td>\n",
       "      <td>0</td>\n",
       "      <td>0</td>\n",
       "      <td>0</td>\n",
       "      <td>0</td>\n",
       "      <td>0</td>\n",
       "      <td>...</td>\n",
       "      <td>0</td>\n",
       "      <td>0</td>\n",
       "      <td>0</td>\n",
       "      <td>0</td>\n",
       "      <td>0</td>\n",
       "      <td>0</td>\n",
       "      <td>0</td>\n",
       "      <td>0</td>\n",
       "      <td>0</td>\n",
       "      <td>0</td>\n",
       "    </tr>\n",
       "    <tr>\n",
       "      <th>R1C1#5</th>\n",
       "      <td>1</td>\n",
       "      <td>0</td>\n",
       "      <td>0</td>\n",
       "      <td>0</td>\n",
       "      <td>0</td>\n",
       "      <td>0</td>\n",
       "      <td>0</td>\n",
       "      <td>0</td>\n",
       "      <td>0</td>\n",
       "      <td>0</td>\n",
       "      <td>...</td>\n",
       "      <td>0</td>\n",
       "      <td>0</td>\n",
       "      <td>0</td>\n",
       "      <td>0</td>\n",
       "      <td>0</td>\n",
       "      <td>0</td>\n",
       "      <td>0</td>\n",
       "      <td>0</td>\n",
       "      <td>0</td>\n",
       "      <td>0</td>\n",
       "    </tr>\n",
       "    <tr>\n",
       "      <th>...</th>\n",
       "      <td>...</td>\n",
       "      <td>...</td>\n",
       "      <td>...</td>\n",
       "      <td>...</td>\n",
       "      <td>...</td>\n",
       "      <td>...</td>\n",
       "      <td>...</td>\n",
       "      <td>...</td>\n",
       "      <td>...</td>\n",
       "      <td>...</td>\n",
       "      <td>...</td>\n",
       "      <td>...</td>\n",
       "      <td>...</td>\n",
       "      <td>...</td>\n",
       "      <td>...</td>\n",
       "      <td>...</td>\n",
       "      <td>...</td>\n",
       "      <td>...</td>\n",
       "      <td>...</td>\n",
       "      <td>...</td>\n",
       "      <td>...</td>\n",
       "    </tr>\n",
       "    <tr>\n",
       "      <th>R9C9#5</th>\n",
       "      <td>0</td>\n",
       "      <td>0</td>\n",
       "      <td>0</td>\n",
       "      <td>0</td>\n",
       "      <td>0</td>\n",
       "      <td>0</td>\n",
       "      <td>0</td>\n",
       "      <td>0</td>\n",
       "      <td>0</td>\n",
       "      <td>0</td>\n",
       "      <td>...</td>\n",
       "      <td>0</td>\n",
       "      <td>0</td>\n",
       "      <td>0</td>\n",
       "      <td>0</td>\n",
       "      <td>0</td>\n",
       "      <td>1</td>\n",
       "      <td>0</td>\n",
       "      <td>0</td>\n",
       "      <td>0</td>\n",
       "      <td>0</td>\n",
       "    </tr>\n",
       "    <tr>\n",
       "      <th>R9C9#6</th>\n",
       "      <td>0</td>\n",
       "      <td>0</td>\n",
       "      <td>0</td>\n",
       "      <td>0</td>\n",
       "      <td>0</td>\n",
       "      <td>0</td>\n",
       "      <td>0</td>\n",
       "      <td>0</td>\n",
       "      <td>0</td>\n",
       "      <td>0</td>\n",
       "      <td>...</td>\n",
       "      <td>0</td>\n",
       "      <td>0</td>\n",
       "      <td>0</td>\n",
       "      <td>0</td>\n",
       "      <td>0</td>\n",
       "      <td>0</td>\n",
       "      <td>1</td>\n",
       "      <td>0</td>\n",
       "      <td>0</td>\n",
       "      <td>0</td>\n",
       "    </tr>\n",
       "    <tr>\n",
       "      <th>R9C9#7</th>\n",
       "      <td>0</td>\n",
       "      <td>0</td>\n",
       "      <td>0</td>\n",
       "      <td>0</td>\n",
       "      <td>0</td>\n",
       "      <td>0</td>\n",
       "      <td>0</td>\n",
       "      <td>0</td>\n",
       "      <td>0</td>\n",
       "      <td>0</td>\n",
       "      <td>...</td>\n",
       "      <td>0</td>\n",
       "      <td>0</td>\n",
       "      <td>0</td>\n",
       "      <td>0</td>\n",
       "      <td>0</td>\n",
       "      <td>0</td>\n",
       "      <td>0</td>\n",
       "      <td>1</td>\n",
       "      <td>0</td>\n",
       "      <td>0</td>\n",
       "    </tr>\n",
       "    <tr>\n",
       "      <th>R9C9#8</th>\n",
       "      <td>0</td>\n",
       "      <td>0</td>\n",
       "      <td>0</td>\n",
       "      <td>0</td>\n",
       "      <td>0</td>\n",
       "      <td>0</td>\n",
       "      <td>0</td>\n",
       "      <td>0</td>\n",
       "      <td>0</td>\n",
       "      <td>0</td>\n",
       "      <td>...</td>\n",
       "      <td>0</td>\n",
       "      <td>0</td>\n",
       "      <td>0</td>\n",
       "      <td>0</td>\n",
       "      <td>0</td>\n",
       "      <td>0</td>\n",
       "      <td>0</td>\n",
       "      <td>0</td>\n",
       "      <td>1</td>\n",
       "      <td>0</td>\n",
       "    </tr>\n",
       "    <tr>\n",
       "      <th>R9C9#9</th>\n",
       "      <td>0</td>\n",
       "      <td>0</td>\n",
       "      <td>0</td>\n",
       "      <td>0</td>\n",
       "      <td>0</td>\n",
       "      <td>0</td>\n",
       "      <td>0</td>\n",
       "      <td>0</td>\n",
       "      <td>0</td>\n",
       "      <td>0</td>\n",
       "      <td>...</td>\n",
       "      <td>0</td>\n",
       "      <td>0</td>\n",
       "      <td>0</td>\n",
       "      <td>0</td>\n",
       "      <td>0</td>\n",
       "      <td>0</td>\n",
       "      <td>0</td>\n",
       "      <td>0</td>\n",
       "      <td>0</td>\n",
       "      <td>1</td>\n",
       "    </tr>\n",
       "  </tbody>\n",
       "</table>\n",
       "<p>729 rows × 324 columns</p>\n",
       "</div>"
      ],
      "text/plain": [
       "        R1C1  R1C2  R1C3  R1C4  R1C5  R1C6  R1C7  R1C8  R1C9  R2C1  ...  B8#9  \\\n",
       "R1C1#1     1     0     0     0     0     0     0     0     0     0  ...     0   \n",
       "R1C1#2     1     0     0     0     0     0     0     0     0     0  ...     0   \n",
       "R1C1#3     1     0     0     0     0     0     0     0     0     0  ...     0   \n",
       "R1C1#4     1     0     0     0     0     0     0     0     0     0  ...     0   \n",
       "R1C1#5     1     0     0     0     0     0     0     0     0     0  ...     0   \n",
       "...      ...   ...   ...   ...   ...   ...   ...   ...   ...   ...  ...   ...   \n",
       "R9C9#5     0     0     0     0     0     0     0     0     0     0  ...     0   \n",
       "R9C9#6     0     0     0     0     0     0     0     0     0     0  ...     0   \n",
       "R9C9#7     0     0     0     0     0     0     0     0     0     0  ...     0   \n",
       "R9C9#8     0     0     0     0     0     0     0     0     0     0  ...     0   \n",
       "R9C9#9     0     0     0     0     0     0     0     0     0     0  ...     0   \n",
       "\n",
       "        B9#1  B9#2  B9#3  B9#4  B9#5  B9#6  B9#7  B9#8  B9#9  \n",
       "R1C1#1     0     0     0     0     0     0     0     0     0  \n",
       "R1C1#2     0     0     0     0     0     0     0     0     0  \n",
       "R1C1#3     0     0     0     0     0     0     0     0     0  \n",
       "R1C1#4     0     0     0     0     0     0     0     0     0  \n",
       "R1C1#5     0     0     0     0     0     0     0     0     0  \n",
       "...      ...   ...   ...   ...   ...   ...   ...   ...   ...  \n",
       "R9C9#5     0     0     0     0     1     0     0     0     0  \n",
       "R9C9#6     0     0     0     0     0     1     0     0     0  \n",
       "R9C9#7     0     0     0     0     0     0     1     0     0  \n",
       "R9C9#8     0     0     0     0     0     0     0     1     0  \n",
       "R9C9#9     0     0     0     0     0     0     0     0     1  \n",
       "\n",
       "[729 rows x 324 columns]"
      ]
     },
     "metadata": {},
     "output_type": "display_data"
    }
   ],
   "source": [
    "for i in range(9):\n",
    "    for j in range(9):\n",
    "        for n in range(1, 10):\n",
    "            r = i + 1\n",
    "            c = j + 1\n",
    "            b = (i // 3) * 3 + (j // 3) + 1\n",
    "            op = \"R{:d}C{:d}#{:d}\".format(r, c, n)\n",
    "            cd1 = \"R{:d}C{:d}\".format(r, c)\n",
    "            cd2 = \"R{:d}#{:d}\".format(r, n)\n",
    "            cd3 = \"C{:d}#{:d}\".format(c, n)\n",
    "            cd4 = \"B{:d}#{:d}\".format(b, n)\n",
    "            df.loc[op, [cd1, cd2, cd3, cd4]] = 1\n",
    "\n",
    "display.display(df)"
   ]
  },
  {
   "cell_type": "markdown",
   "metadata": {
    "editable": true,
    "slideshow": {
     "slide_type": ""
    },
    "tags": []
   },
   "source": [
    "続いては、問題に既に入っている数字を元に表の操作と条件を書き換える。一例として、1行2列に3という数字が入っていたとする。この場合、1行2列に3以外の数字が入る、という条件、即ち**R1C2#1**や**R1C2#8**などは起こりえないので、これらを表の行から除去して良い。\n",
    "\n",
    "また、1行2列に3が入るということは、他の操作により1行目に3が入ったり、2列目に3が入ったりすることはない、ということを意味する。従って、同様の条件を満たす可能性のある操作、即ち**R1C5#3**や**R4C2#3**なども表から消去して良いことが分かる。\n",
    "\n",
    "今回は、先ほど1秒以上時間のかかった問題を例に、ルールに従って表を変形してみる。"
   ]
  },
  {
   "cell_type": "code",
   "execution_count": 39,
   "metadata": {
    "editable": true,
    "slideshow": {
     "slide_type": ""
    },
    "tags": []
   },
   "outputs": [
    {
     "name": "stdout",
     "output_type": "stream",
     "text": [
      "[[0 0 0 0 0 0 0 0 0]\n",
      " [3 0 0 2 0 9 0 0 7]\n",
      " [9 4 0 0 1 0 0 8 2]\n",
      " [0 5 0 6 0 2 0 3 0]\n",
      " [0 0 6 3 0 7 4 0 0]\n",
      " [0 0 0 0 0 0 0 0 0]\n",
      " [0 0 0 0 0 0 0 0 0]\n",
      " [0 8 2 0 3 0 5 9 0]\n",
      " [1 0 0 9 0 4 0 0 6]]\n"
     ]
    }
   ],
   "source": [
    "problem = \"\"\"\n",
    "---------\n",
    "3--2-9--7\n",
    "94--1--82\n",
    "-5-6-2-3-\n",
    "--63-74--\n",
    "---------\n",
    "---------\n",
    "-82-3-59-\n",
    "1--9-4--6\n",
    "\"\"\"\n",
    "\n",
    "problem = np.array(\n",
    "    [numbers[c] for line in re.split(r\"[\\r\\n]{1,2}\", problem) if line != \"\" for c in line],\n",
    "    dtype=\"uint8\",\n",
    ").reshape((9, 9))\n",
    "\n",
    "print(problem)"
   ]
  },
  {
   "cell_type": "code",
   "execution_count": 40,
   "metadata": {
    "editable": true,
    "slideshow": {
     "slide_type": ""
    },
    "tags": []
   },
   "outputs": [
    {
     "data": {
      "text/html": [
       "<div>\n",
       "<style scoped>\n",
       "    .dataframe tbody tr th:only-of-type {\n",
       "        vertical-align: middle;\n",
       "    }\n",
       "\n",
       "    .dataframe tbody tr th {\n",
       "        vertical-align: top;\n",
       "    }\n",
       "\n",
       "    .dataframe thead th {\n",
       "        text-align: right;\n",
       "    }\n",
       "</style>\n",
       "<table border=\"1\" class=\"dataframe\">\n",
       "  <thead>\n",
       "    <tr style=\"text-align: right;\">\n",
       "      <th></th>\n",
       "      <th>R1C1</th>\n",
       "      <th>R1C2</th>\n",
       "      <th>R1C3</th>\n",
       "      <th>R1C4</th>\n",
       "      <th>R1C5</th>\n",
       "      <th>R1C6</th>\n",
       "      <th>R1C7</th>\n",
       "      <th>R1C8</th>\n",
       "      <th>R1C9</th>\n",
       "      <th>R2C1</th>\n",
       "      <th>...</th>\n",
       "      <th>B8#9</th>\n",
       "      <th>B9#1</th>\n",
       "      <th>B9#2</th>\n",
       "      <th>B9#3</th>\n",
       "      <th>B9#4</th>\n",
       "      <th>B9#5</th>\n",
       "      <th>B9#6</th>\n",
       "      <th>B9#7</th>\n",
       "      <th>B9#8</th>\n",
       "      <th>B9#9</th>\n",
       "    </tr>\n",
       "  </thead>\n",
       "  <tbody>\n",
       "    <tr>\n",
       "      <th>R1C1#2</th>\n",
       "      <td>1</td>\n",
       "      <td>0</td>\n",
       "      <td>0</td>\n",
       "      <td>0</td>\n",
       "      <td>0</td>\n",
       "      <td>0</td>\n",
       "      <td>0</td>\n",
       "      <td>0</td>\n",
       "      <td>0</td>\n",
       "      <td>0</td>\n",
       "      <td>...</td>\n",
       "      <td>0</td>\n",
       "      <td>0</td>\n",
       "      <td>0</td>\n",
       "      <td>0</td>\n",
       "      <td>0</td>\n",
       "      <td>0</td>\n",
       "      <td>0</td>\n",
       "      <td>0</td>\n",
       "      <td>0</td>\n",
       "      <td>0</td>\n",
       "    </tr>\n",
       "    <tr>\n",
       "      <th>R1C1#5</th>\n",
       "      <td>1</td>\n",
       "      <td>0</td>\n",
       "      <td>0</td>\n",
       "      <td>0</td>\n",
       "      <td>0</td>\n",
       "      <td>0</td>\n",
       "      <td>0</td>\n",
       "      <td>0</td>\n",
       "      <td>0</td>\n",
       "      <td>0</td>\n",
       "      <td>...</td>\n",
       "      <td>0</td>\n",
       "      <td>0</td>\n",
       "      <td>0</td>\n",
       "      <td>0</td>\n",
       "      <td>0</td>\n",
       "      <td>0</td>\n",
       "      <td>0</td>\n",
       "      <td>0</td>\n",
       "      <td>0</td>\n",
       "      <td>0</td>\n",
       "    </tr>\n",
       "    <tr>\n",
       "      <th>R1C1#6</th>\n",
       "      <td>1</td>\n",
       "      <td>0</td>\n",
       "      <td>0</td>\n",
       "      <td>0</td>\n",
       "      <td>0</td>\n",
       "      <td>0</td>\n",
       "      <td>0</td>\n",
       "      <td>0</td>\n",
       "      <td>0</td>\n",
       "      <td>0</td>\n",
       "      <td>...</td>\n",
       "      <td>0</td>\n",
       "      <td>0</td>\n",
       "      <td>0</td>\n",
       "      <td>0</td>\n",
       "      <td>0</td>\n",
       "      <td>0</td>\n",
       "      <td>0</td>\n",
       "      <td>0</td>\n",
       "      <td>0</td>\n",
       "      <td>0</td>\n",
       "    </tr>\n",
       "    <tr>\n",
       "      <th>R1C1#7</th>\n",
       "      <td>1</td>\n",
       "      <td>0</td>\n",
       "      <td>0</td>\n",
       "      <td>0</td>\n",
       "      <td>0</td>\n",
       "      <td>0</td>\n",
       "      <td>0</td>\n",
       "      <td>0</td>\n",
       "      <td>0</td>\n",
       "      <td>0</td>\n",
       "      <td>...</td>\n",
       "      <td>0</td>\n",
       "      <td>0</td>\n",
       "      <td>0</td>\n",
       "      <td>0</td>\n",
       "      <td>0</td>\n",
       "      <td>0</td>\n",
       "      <td>0</td>\n",
       "      <td>0</td>\n",
       "      <td>0</td>\n",
       "      <td>0</td>\n",
       "    </tr>\n",
       "    <tr>\n",
       "      <th>R1C1#8</th>\n",
       "      <td>1</td>\n",
       "      <td>0</td>\n",
       "      <td>0</td>\n",
       "      <td>0</td>\n",
       "      <td>0</td>\n",
       "      <td>0</td>\n",
       "      <td>0</td>\n",
       "      <td>0</td>\n",
       "      <td>0</td>\n",
       "      <td>0</td>\n",
       "      <td>...</td>\n",
       "      <td>0</td>\n",
       "      <td>0</td>\n",
       "      <td>0</td>\n",
       "      <td>0</td>\n",
       "      <td>0</td>\n",
       "      <td>0</td>\n",
       "      <td>0</td>\n",
       "      <td>0</td>\n",
       "      <td>0</td>\n",
       "      <td>0</td>\n",
       "    </tr>\n",
       "    <tr>\n",
       "      <th>...</th>\n",
       "      <td>...</td>\n",
       "      <td>...</td>\n",
       "      <td>...</td>\n",
       "      <td>...</td>\n",
       "      <td>...</td>\n",
       "      <td>...</td>\n",
       "      <td>...</td>\n",
       "      <td>...</td>\n",
       "      <td>...</td>\n",
       "      <td>...</td>\n",
       "      <td>...</td>\n",
       "      <td>...</td>\n",
       "      <td>...</td>\n",
       "      <td>...</td>\n",
       "      <td>...</td>\n",
       "      <td>...</td>\n",
       "      <td>...</td>\n",
       "      <td>...</td>\n",
       "      <td>...</td>\n",
       "      <td>...</td>\n",
       "      <td>...</td>\n",
       "    </tr>\n",
       "    <tr>\n",
       "      <th>R9C7#7</th>\n",
       "      <td>0</td>\n",
       "      <td>0</td>\n",
       "      <td>0</td>\n",
       "      <td>0</td>\n",
       "      <td>0</td>\n",
       "      <td>0</td>\n",
       "      <td>0</td>\n",
       "      <td>0</td>\n",
       "      <td>0</td>\n",
       "      <td>0</td>\n",
       "      <td>...</td>\n",
       "      <td>0</td>\n",
       "      <td>0</td>\n",
       "      <td>0</td>\n",
       "      <td>0</td>\n",
       "      <td>0</td>\n",
       "      <td>0</td>\n",
       "      <td>0</td>\n",
       "      <td>1</td>\n",
       "      <td>0</td>\n",
       "      <td>0</td>\n",
       "    </tr>\n",
       "    <tr>\n",
       "      <th>R9C7#8</th>\n",
       "      <td>0</td>\n",
       "      <td>0</td>\n",
       "      <td>0</td>\n",
       "      <td>0</td>\n",
       "      <td>0</td>\n",
       "      <td>0</td>\n",
       "      <td>0</td>\n",
       "      <td>0</td>\n",
       "      <td>0</td>\n",
       "      <td>0</td>\n",
       "      <td>...</td>\n",
       "      <td>0</td>\n",
       "      <td>0</td>\n",
       "      <td>0</td>\n",
       "      <td>0</td>\n",
       "      <td>0</td>\n",
       "      <td>0</td>\n",
       "      <td>0</td>\n",
       "      <td>0</td>\n",
       "      <td>1</td>\n",
       "      <td>0</td>\n",
       "    </tr>\n",
       "    <tr>\n",
       "      <th>R9C8#2</th>\n",
       "      <td>0</td>\n",
       "      <td>0</td>\n",
       "      <td>0</td>\n",
       "      <td>0</td>\n",
       "      <td>0</td>\n",
       "      <td>0</td>\n",
       "      <td>0</td>\n",
       "      <td>0</td>\n",
       "      <td>0</td>\n",
       "      <td>0</td>\n",
       "      <td>...</td>\n",
       "      <td>0</td>\n",
       "      <td>0</td>\n",
       "      <td>1</td>\n",
       "      <td>0</td>\n",
       "      <td>0</td>\n",
       "      <td>0</td>\n",
       "      <td>0</td>\n",
       "      <td>0</td>\n",
       "      <td>0</td>\n",
       "      <td>0</td>\n",
       "    </tr>\n",
       "    <tr>\n",
       "      <th>R9C8#7</th>\n",
       "      <td>0</td>\n",
       "      <td>0</td>\n",
       "      <td>0</td>\n",
       "      <td>0</td>\n",
       "      <td>0</td>\n",
       "      <td>0</td>\n",
       "      <td>0</td>\n",
       "      <td>0</td>\n",
       "      <td>0</td>\n",
       "      <td>0</td>\n",
       "      <td>...</td>\n",
       "      <td>0</td>\n",
       "      <td>0</td>\n",
       "      <td>0</td>\n",
       "      <td>0</td>\n",
       "      <td>0</td>\n",
       "      <td>0</td>\n",
       "      <td>0</td>\n",
       "      <td>1</td>\n",
       "      <td>0</td>\n",
       "      <td>0</td>\n",
       "    </tr>\n",
       "    <tr>\n",
       "      <th>R9C9#6</th>\n",
       "      <td>0</td>\n",
       "      <td>0</td>\n",
       "      <td>0</td>\n",
       "      <td>0</td>\n",
       "      <td>0</td>\n",
       "      <td>0</td>\n",
       "      <td>0</td>\n",
       "      <td>0</td>\n",
       "      <td>0</td>\n",
       "      <td>0</td>\n",
       "      <td>...</td>\n",
       "      <td>0</td>\n",
       "      <td>0</td>\n",
       "      <td>0</td>\n",
       "      <td>0</td>\n",
       "      <td>0</td>\n",
       "      <td>0</td>\n",
       "      <td>1</td>\n",
       "      <td>0</td>\n",
       "      <td>0</td>\n",
       "      <td>0</td>\n",
       "    </tr>\n",
       "  </tbody>\n",
       "</table>\n",
       "<p>226 rows × 324 columns</p>\n",
       "</div>"
      ],
      "text/plain": [
       "        R1C1  R1C2  R1C3  R1C4  R1C5  R1C6  R1C7  R1C8  R1C9  R2C1  ...  B8#9  \\\n",
       "R1C1#2     1     0     0     0     0     0     0     0     0     0  ...     0   \n",
       "R1C1#5     1     0     0     0     0     0     0     0     0     0  ...     0   \n",
       "R1C1#6     1     0     0     0     0     0     0     0     0     0  ...     0   \n",
       "R1C1#7     1     0     0     0     0     0     0     0     0     0  ...     0   \n",
       "R1C1#8     1     0     0     0     0     0     0     0     0     0  ...     0   \n",
       "...      ...   ...   ...   ...   ...   ...   ...   ...   ...   ...  ...   ...   \n",
       "R9C7#7     0     0     0     0     0     0     0     0     0     0  ...     0   \n",
       "R9C7#8     0     0     0     0     0     0     0     0     0     0  ...     0   \n",
       "R9C8#2     0     0     0     0     0     0     0     0     0     0  ...     0   \n",
       "R9C8#7     0     0     0     0     0     0     0     0     0     0  ...     0   \n",
       "R9C9#6     0     0     0     0     0     0     0     0     0     0  ...     0   \n",
       "\n",
       "        B9#1  B9#2  B9#3  B9#4  B9#5  B9#6  B9#7  B9#8  B9#9  \n",
       "R1C1#2     0     0     0     0     0     0     0     0     0  \n",
       "R1C1#5     0     0     0     0     0     0     0     0     0  \n",
       "R1C1#6     0     0     0     0     0     0     0     0     0  \n",
       "R1C1#7     0     0     0     0     0     0     0     0     0  \n",
       "R1C1#8     0     0     0     0     0     0     0     0     0  \n",
       "...      ...   ...   ...   ...   ...   ...   ...   ...   ...  \n",
       "R9C7#7     0     0     0     0     0     0     1     0     0  \n",
       "R9C7#8     0     0     0     0     0     0     0     1     0  \n",
       "R9C8#2     0     1     0     0     0     0     0     0     0  \n",
       "R9C8#7     0     0     0     0     0     0     1     0     0  \n",
       "R9C9#6     0     0     0     0     0     1     0     0     0  \n",
       "\n",
       "[226 rows x 324 columns]"
      ]
     },
     "metadata": {},
     "output_type": "display_data"
    }
   ],
   "source": [
    "for i in range(9):\n",
    "    for j in range(9):\n",
    "        if problem[i, j] != 0:\n",
    "            r = i + 1\n",
    "            c = j + 1\n",
    "            b = (i // 3) * 3 + (j // 3) + 1\n",
    "            n = problem[i, j]\n",
    "            del_op1 = [\"R{:d}C{:d}#{:d}\".format(r, c, n_) for n_ in range(1, 10) if n != n_]\n",
    "            del_op2 = [\"R{:d}C{:d}#{:d}\".format(r_, c, n) for r_ in range(1, 10) if r != r_]\n",
    "            del_op3 = [\"R{:d}C{:d}#{:d}\".format(r, c_, n) for c_ in range(1, 10) if c != c_]\n",
    "            del_op4 = [\n",
    "                \"R{:d}C{:d}#{:d}\".format(r_, c_, n)\n",
    "                for r_ in range(i // 3 * 3 + 1, i // 3 * 3 + 4)\n",
    "                for c_ in range(j // 3 * 3 + 1, j // 3 * 3 + 4)\n",
    "                if r != r_ or c != c_\n",
    "            ]\n",
    "\n",
    "            del_op = list(set(del_op1 + del_op2 + del_op3 + del_op4))\n",
    "            df.drop(index=[id for id in del_op if id in df.index], inplace=True)\n",
    "\n",
    "display.display(df)"
   ]
  },
  {
   "cell_type": "markdown",
   "metadata": {
    "editable": true,
    "slideshow": {
     "slide_type": ""
    },
    "tags": []
   },
   "source": [
    "この表を元にExact Cover問題の解法をDancing Links(と類似したデータ構造)を用いて実装すると、正しい答えが、バックトラック法よりも数段高速に求まる。以下、ソースコードは示さないが、実行結果と、その際の実行時間を示す。プログラミングに自信のある読者は、ぜひ前述の`DataFrame`を使った例を参考に、より高速な実装に取り組んでほしい。"
   ]
  },
  {
   "cell_type": "code",
   "execution_count": 41,
   "metadata": {
    "editable": true,
    "slideshow": {
     "slide_type": ""
    },
    "tags": [
     "remove-input"
    ]
   },
   "outputs": [],
   "source": [
    "from typing import Any, Set, Dict, List\n",
    "\n",
    "ops = {op: set() for op in df.index}\n",
    "cds = {cd: set() for cd in df.columns}\n",
    "\n",
    "\n",
    "for op in ops.keys():\n",
    "    cds_for_op = df.columns[df.loc[op, :] == 1]\n",
    "    ops[op].update(cds_for_op)\n",
    "\n",
    "for cd in cds.keys():\n",
    "    ops_for_cd = df.index[df.loc[:, cd] == 1]\n",
    "    cds[cd].update(ops_for_cd)\n",
    "\n",
    "\n",
    "def exact_cover(rows: Dict[str, Set[str]], cols: Dict[str, Set[str]]) -> List[str]:\n",
    "    sc = min(cols, key=lambda k: len(cols[k]))\n",
    "    if cols[sc] == 0:\n",
    "        return []\n",
    "\n",
    "    sel_rows = list(cols[sc])\n",
    "    for sr in sel_rows:\n",
    "        mask_cols = rows[sr]\n",
    "        mask_rows = set().union(*(cols[mc] for mc in mask_cols))\n",
    "\n",
    "        # mask rows/cols\n",
    "        for i in mask_rows:\n",
    "            for j in rows[i]:\n",
    "                cols[j].discard(i)\n",
    "\n",
    "        masked_rows = {k: rows.pop(k) for k in mask_rows}\n",
    "        masked_cols = {k: cols.pop(k) for k in mask_cols}\n",
    "\n",
    "        if len(cols) == 0:\n",
    "            return [sr]\n",
    "\n",
    "        # depth-first search\n",
    "        ret = exact_cover(rows, cols)\n",
    "        if len(ret) > 0:\n",
    "            return ret + [sr]\n",
    "\n",
    "        # unmask rows/cols\n",
    "        rows.update(masked_rows)\n",
    "        cols.update(masked_cols)\n",
    "\n",
    "        for i in mask_rows:\n",
    "            for j in rows[i]:\n",
    "                cols[j].add(i)\n",
    "\n",
    "    return []"
   ]
  },
  {
   "cell_type": "code",
   "execution_count": 42,
   "metadata": {
    "editable": true,
    "slideshow": {
     "slide_type": ""
    },
    "tags": []
   },
   "outputs": [],
   "source": [
    "from copy import deepcopy\n",
    "\n",
    "rows = deepcopy(ops)\n",
    "cols = deepcopy(cds)\n",
    "solution = exact_cover(rows, cols)"
   ]
  },
  {
   "cell_type": "code",
   "execution_count": 43,
   "metadata": {
    "editable": true,
    "slideshow": {
     "slide_type": ""
    },
    "tags": [
     "hide-input"
    ]
   },
   "outputs": [
    {
     "name": "stdout",
     "output_type": "stream",
     "text": [
      "[[5 2 1 7 6 8 3 4 9]\n",
      " [3 6 8 2 4 9 1 5 7]\n",
      " [9 4 7 5 1 3 6 8 2]\n",
      " [4 5 9 6 8 2 7 3 1]\n",
      " [8 1 6 3 9 7 4 2 5]\n",
      " [2 7 3 4 5 1 9 6 8]\n",
      " [6 9 4 8 7 5 2 1 3]\n",
      " [7 8 2 1 3 6 5 9 4]\n",
      " [1 3 5 9 2 4 8 7 6]]\n"
     ]
    }
   ],
   "source": [
    "answer = np.zeros((9, 9), dtype=\"int32\")\n",
    "for s in solution:\n",
    "    pat = re.compile(r\"R([1-9]{1})C([1-9]{1})#([1-9]{1})\")\n",
    "    mat = pat.search(s)\n",
    "    r = int(mat.group(1))\n",
    "    c = int(mat.group(2))\n",
    "    n = int(mat.group(3))\n",
    "    answer[r - 1, c - 1] = n\n",
    "\n",
    "print(answer)"
   ]
  },
  {
   "cell_type": "code",
   "execution_count": 48,
   "metadata": {
    "editable": true,
    "slideshow": {
     "slide_type": ""
    },
    "tags": [
     "remove-input"
    ]
   },
   "outputs": [],
   "source": [
    "%%capture perf\n",
    "%%timeit -n 1 -r 10\n",
    "rows = deepcopy(ops)\n",
    "cols = deepcopy(cds)\n",
    "exact_cover(rows, cols)"
   ]
  },
  {
   "cell_type": "code",
   "execution_count": 49,
   "metadata": {
    "editable": true,
    "scrolled": true,
    "slideshow": {
     "slide_type": ""
    },
    "tags": [
     "remove-input"
    ]
   },
   "outputs": [
    {
     "name": "stdout",
     "output_type": "stream",
     "text": [
      "Execution time:\n",
      "5.44 ms +- 150 us per loop (mean +- std. dev. of 10 runs, 1 loop each)\n",
      "\n"
     ]
    }
   ],
   "source": [
    "print(\"Execution time:\\n\" + str(perf))"
   ]
  },
  {
   "cell_type": "code",
   "execution_count": 51,
   "metadata": {
    "editable": true,
    "slideshow": {
     "slide_type": ""
    },
    "tags": [
     "remove-input"
    ]
   },
   "outputs": [
    {
     "data": {
      "text/markdown": [
       "すると先ほど1秒以上かかっていた問題が、**たったの5.44 msで解けている**ことが分かる。このように、数独の問題をExact Coverの問題と捉えることが、通常のバックトラック法よりも遙かに高速に問題を解けることが確認できた。"
      ],
      "text/plain": [
       "<IPython.core.display.Markdown object>"
      ]
     },
     "execution_count": 51,
     "metadata": {},
     "output_type": "execute_result"
    }
   ],
   "source": [
    "avg_time = \" \".join(perf.stdout.split(\" \")[0:2])\n",
    "\n",
    "display.Markdown(\n",
    "    f\"すると先ほど1秒以上かかっていた問題が、**たったの{avg_time:s}で解けている**ことが分かる。このように、数独の問題をExact Coverの問題と捉えることが、通常のバックトラック法よりも遙かに高速に問題を解けることが確認できた。\"\n",
    ")"
   ]
  },
  {
   "cell_type": "markdown",
   "metadata": {
    "editable": true,
    "slideshow": {
     "slide_type": ""
    },
    "tags": []
   },
   "source": [
    "```{admonition} なぜ速く解けるのか？\n",
    ":class: note\n",
    "\n",
    "今紹介したExact Coverを解くAlgorithm Xでは、表の列の中で**最も1の数が少ない列**を選んでいる。この操作が何を意味するかを考えてみよう。\n",
    "\n",
    "表の列に1が入っている行というのは、その列に対応する操作を行うことで、列が表わす条件が満たされることを意味する。従って「最も1の数が少ない列」というのは「その列が表わす条件を満たすために選択しうる【セルへの数字の代入操作】の候補数が最も少ない」ということを意味する。\n",
    "\n",
    "Algorithm Xは、ある意味では深さ優先探索を用いたバックトラック法の一種と考えることができるが、このように候補の数が最も少ない物から順に処理することで、深さが下がるごとに急速に表のサイズが小さくなるため、処理の効率が良い。これがExact Coverによる定式化をAlgorithm Xで解くと高速に動作する理由である。\n",
    "```"
   ]
  },
  {
   "cell_type": "markdown",
   "metadata": {
    "editable": true,
    "slideshow": {
     "slide_type": ""
    },
    "tags": []
   },
   "source": [
    "## 演習: コンピュータ数独大会"
   ]
  },
  {
   "cell_type": "markdown",
   "metadata": {
    "editable": true,
    "slideshow": {
     "slide_type": ""
    },
    "tags": []
   },
   "source": [
    "ここまでの内容を利用して、写真から数独の問題を読み取り、答えを返すプログラムを作成してみよう。\n",
    "\n",
    "本番では、以下のレベル1-3の内容で10問ずつ画像を与える。レベル1が1点、レベル2が2点、レベル3が3点の合計60点のうち何点を取れるかを競う。各レベルの画像は以下のような性質を持つ。\n",
    "\n",
    "- **レベル1:** 問題が白い背景の上に写っている\n",
    "- **レベル2:** 問題が平面の上に写っているが、問題が斜めから撮影されている\n",
    "- **レベル3:** 問題が書籍のような湾曲した面に印刷されている"
   ]
  },
  {
   "cell_type": "code",
   "execution_count": null,
   "metadata": {
    "editable": true,
    "slideshow": {
     "slide_type": ""
    },
    "tags": [
     "remove-input"
    ]
   },
   "outputs": [],
   "source": [
    "import cv2\n",
    "import matplotlib.gridspec as gridspec\n",
    "\n",
    "level1 = cv2.imread(\"../../data/sudoku/level_1.jpg\")[:, :, ::-1]\n",
    "level2 = cv2.imread(\"../../data/sudoku/level_2.jpg\")[:, :, ::-1]\n",
    "level3 = cv2.imread(\"../../data/sudoku/level_3.jpg\")[:, :, ::-1]\n",
    "\n",
    "fig = plt.figure(figsize=(12, 4))\n",
    "\n",
    "a1 = level1.shape[1] / level1.shape[0]\n",
    "a2 = level2.shape[1] / level2.shape[0]\n",
    "a3 = level3.shape[1] / level3.shape[0]\n",
    "\n",
    "# create subplots\n",
    "gs = gridspec.GridSpec(1, 3, width_ratios=[a1, a2, a3])\n",
    "p1 = plt.subplot(gs[0])\n",
    "p2 = plt.subplot(gs[1])\n",
    "p3 = plt.subplot(gs[2])\n",
    "\n",
    "p1.imshow(level1, interpolation=None)\n",
    "p1.axis(\"off\")\n",
    "p1.set_title(\"Level 1\")\n",
    "\n",
    "p2.imshow(level2, interpolation=None)\n",
    "p2.axis(\"off\")\n",
    "p2.set_title(\"Level 2\")\n",
    "\n",
    "p3.imshow(level3, interpolation=None)\n",
    "p3.axis(\"off\")\n",
    "p3.set_title(\"Level 3\")\n",
    "\n",
    "plt.tight_layout()\n",
    "plt.show()"
   ]
  },
  {
   "cell_type": "markdown",
   "metadata": {
    "editable": true,
    "slideshow": {
     "slide_type": ""
    },
    "tags": []
   },
   "source": [
    "**入力の形式**\n",
    "\n",
    "入力としては、NumPyの配列として`(H, W, 3)`の大きさ(Hは画像の高さ、Wは画像の幅)のカラー画像。また、写真に写り込む問題には以下のような制約がある。\n",
    "\n",
    "- 画像中には「数独の問題」が1問だけ写っている\n",
    "- 問題以外に余計な物が写っている可能性はあるが、問題が2問以上写っていることはない\n",
    "- 問題は入力された画像の向きとおおよそ揃っており、問題が横を向いていたり、上下が逆であることはない\n",
    "- 問題中の数字は必ず何らかの印刷用フォントを使って書かれており、手書きであることはない\n",
    "- 画像中に映り込んでいる問題は必ず解が1つに定まる\n",
    "\n",
    "**出力の形式**\n",
    "\n",
    "数独の答えを表わす`(9, 9)`の大きさを持つNumPyの配列。\n",
    "\n",
    "**プログラムの作成方法**\n",
    "\n",
    "これを入力とするような関数 `solve(image)` を作成し、テストサーバーにプログラムをアップロードすると、自動で点数が計算される。ただし、全体の実行時間が3秒を超えると、自動的にプログラムが終了し、0点であると見なされる。"
   ]
  },
  {
   "cell_type": "markdown",
   "metadata": {
    "editable": true,
    "slideshow": {
     "slide_type": ""
    },
    "tags": []
   },
   "source": [
    "**プログラムの例 (スケルトン)**\n",
    "\n",
    "```python\n",
    "import numpy as np\n",
    "import cv2\n",
    "\n",
    "def solve(image):\n",
    "    gray = cv2.cvtColor(image, cv2.COLOR_RGB2GRAY)\n",
    "    # 以下、数独の問題を解く処理\n",
    "    return np.zeros((9, 9), dtype=\"int32\")\n",
    "```"
   ]
  },
  {
   "cell_type": "markdown",
   "metadata": {
    "editable": true,
    "slideshow": {
     "slide_type": ""
    },
    "tags": []
   },
   "source": [
    "**使用可能なライブラリ**\n",
    "\n",
    "今回の実行環境では、以下のライブラリが使用可能となっている (Pipを使ってインストールされる)。これ以外のライブラリは使用できないので注意すること。\n",
    "\n",
    "- NumPy\n",
    "- scikit-learn\n",
    "- matplotlib\n",
    "- pandas\n",
    "- opencv-python"
   ]
  },
  {
   "cell_type": "markdown",
   "metadata": {
    "editable": true,
    "slideshow": {
     "slide_type": ""
    },
    "tags": []
   },
   "source": [
    "**テスト方法**\n",
    "\n",
    "GitHub Classroomを使ってテストを行う。講義中で課題用のClassroomのURLを指示するので、そのURLをブラウザで開き、テンプレートレポジトリを自分のGitHubアカウントと紐付ける。以後、課題用のレポジトリにコードをpushする度にテストが走る。\n",
    "\n",
    "本講義では、実際の問題として与えている画像を公開することはしないが、どの程度の画像に対してプログラムが正しく動いているかは、Github Actionsのログを見ることで確認できる。"
   ]
  },
  {
   "cell_type": "markdown",
   "metadata": {
    "editable": true,
    "slideshow": {
     "slide_type": ""
    },
    "tags": []
   },
   "source": [
    "```{admonition} より高度な問題を解くためのヒント\n",
    ":class: tips\n",
    "\n",
    "今回の演習では\n",
    "\n",
    "- 問題を画像から読み取る、\n",
    "- 読み取った問題から数独の解法を得る\n",
    "\n",
    "という二つのタスクを解く必要がある。\n",
    "\n",
    "問題の読み取りについては、 [図形の検出](sec:figure-detection) の項で学んだ内容を参考に、数独問題の枠を検出し、セルの中の数字を切り離した画像を81枚得るようにするのが良い。ただし、レベル3のように問題が湾曲している場合には、問題全体に対して射影変換を考えても、問題を平面化することが難しいので、セルごとに射影変換を考える必要があるだろう。また、最初から問題を平面化することを放棄して、画像中から「数字がどこにあるか」、「その数字が何か」を直接検出して、数独の問題を復元する方法もあるかもしれない。\n",
    "\n",
    "次に数独の問題を解く際のポイントだが、今回は画像から問題を読み取っているために、読み取った数字が間違っている可能性がある。そのような誤りを許容するように解法のプログラムを書くと良い。具体的には「解が存在しない問題」や「解が複数ある問題」を上手く取り扱う方法を検討したり、数字を読み取った時に間違いを起こしそうなもの(例えば1と7など)を入れ替えて問題を何度か解いてみる、などの工夫が考えられるだろう。当然ながら、このような工夫を行うためには、一回の解法にかかる時間はできる限り少ない方が良い。\n",
    "```"
   ]
  },
  {
   "cell_type": "code",
   "execution_count": null,
   "metadata": {
    "editable": true,
    "slideshow": {
     "slide_type": ""
    },
    "tags": []
   },
   "outputs": [],
   "source": []
  }
 ],
 "metadata": {
  "kernelspec": {
   "display_name": "Python 3 (ipykernel)",
   "language": "python",
   "name": "python3"
  },
  "language_info": {
   "codemirror_mode": {
    "name": "ipython",
    "version": 3
   },
   "file_extension": ".py",
   "mimetype": "text/x-python",
   "name": "python",
   "nbconvert_exporter": "python",
   "pygments_lexer": "ipython3",
   "version": "3.9.17"
  }
 },
 "nbformat": 4,
 "nbformat_minor": 4
}
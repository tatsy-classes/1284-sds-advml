{
 "cells": [
  {
   "cell_type": "markdown",
   "metadata": {
    "editable": true,
    "slideshow": {
     "slide_type": ""
    },
    "tags": []
   },
   "source": [
    "(sec:exercise-sudoku)=\n",
    "# 演習1 - 画像入力式数独ソルバーを作る"
   ]
  },
  {
   "cell_type": "markdown",
   "metadata": {
    "editable": true,
    "slideshow": {
     "slide_type": ""
    },
    "tags": []
   },
   "source": [
    "ご存知の通り、数独というのは9x9のマスの中に1-9の数字を一定のルールのもとで入れていくパズルである。このルールとはすなわち、\n",
    "- 同じ行に同じ数字が存在しない\n",
    "- 同じ列に同じ数字が存在しない\n",
    "- 3x3の9領域に同じ数字が存在しない\n",
    "\n",
    "の3つである。数独の解き方にはいろいろなやり方があり、\n",
    "\n",
    "- バックトラック法\n",
    "- 整数計画問題として解く\n",
    "- Exact Cover問題として解く\n",
    "\n",
    "等のやり方がある。9x9の問題であれば、最も単純なバックトラック法でも十分高速に解くことができる(一般的なパズル本の最難問ならPython実装でも1秒以下で解ける)。\n",
    "\n",
    "以下では、数独の問題を写真で撮って、その画像の中から問題を抜き出し、自動的に問題を解くプログラムを作成してみよう。"
   ]
  },
  {
   "cell_type": "markdown",
   "metadata": {},
   "source": [
    "```{warning}\n",
    "「数独」という呼び名はパズル製作会社のニコリによって商標登録されている呼び名であり、別の呼び名として「ナンバープレイス」あるいは「ナンプレ」と呼ばれることもある。本資料では、一般的に最も浸透していると思われる呼び名である「数独」を用いる。\n",
    "```"
   ]
  },
  {
   "cell_type": "markdown",
   "metadata": {
    "editable": true,
    "slideshow": {
     "slide_type": ""
    },
    "tags": []
   },
   "source": [
    "## 数独を解く"
   ]
  },
  {
   "cell_type": "markdown",
   "metadata": {
    "editable": true,
    "slideshow": {
     "slide_type": ""
    },
    "tags": []
   },
   "source": [
    "まずは数独の問題がテキストで与えられている場合について、解き方を見ていこう。"
   ]
  },
  {
   "cell_type": "markdown",
   "metadata": {
    "editable": true,
    "slideshow": {
     "slide_type": ""
    },
    "tags": []
   },
   "source": [
    "今回は数独の問題が以下の形式のテキストとして与えられることとする。Pythonは複数行のテキストを以下のように定義することができる。"
   ]
  },
  {
   "cell_type": "code",
   "execution_count": 1,
   "metadata": {
    "editable": true,
    "slideshow": {
     "slide_type": ""
    },
    "tags": []
   },
   "outputs": [],
   "source": [
    "problem = \"\"\"\n",
    "-35-9--48\n",
    "--9--8--3\n",
    "-4-6-5--1\n",
    "----74---\n",
    "-2-----6-\n",
    "---15----\n",
    "8--9-2-7-\n",
    "9--5--2--\n",
    "61--4-53-\n",
    "\"\"\""
   ]
  },
  {
   "cell_type": "markdown",
   "metadata": {
    "editable": true,
    "slideshow": {
     "slide_type": ""
    },
    "tags": []
   },
   "source": [
    "これを扱いやすくするためにNumPyの配列に直してみる。まずはテキストを行ごとの配列に変換する。各行は一般には改行文字である `\\n`で区切られているが、実行する環境によっては、Windowsで`\\r\\n`、Macで`\\r`など使われている文字が異なる可能性がある。\n",
    "\n",
    "そこで、以下では、正規表現を用いて、`\\n`あるいは`\\r`が1個あるいは2個並んでいる場所で改行することにする。"
   ]
  },
  {
   "cell_type": "code",
   "execution_count": 2,
   "metadata": {
    "editable": true,
    "slideshow": {
     "slide_type": ""
    },
    "tags": []
   },
   "outputs": [],
   "source": [
    "import re\n",
    "\n",
    "problem = re.split(r\"[\\r\\n]{1,2}\", problem)"
   ]
  },
  {
   "cell_type": "markdown",
   "metadata": {
    "editable": true,
    "slideshow": {
     "slide_type": ""
    },
    "tags": []
   },
   "source": [
    "ただし、このやり方だと空行が入る可能性があるので、以下のリスト内包表記を用いて取り除く。"
   ]
  },
  {
   "cell_type": "code",
   "execution_count": 3,
   "metadata": {
    "editable": true,
    "slideshow": {
     "slide_type": ""
    },
    "tags": []
   },
   "outputs": [
    {
     "name": "stdout",
     "output_type": "stream",
     "text": [
      "['-35-9--48', '--9--8--3', '-4-6-5--1', '----74---', '-2-----6-', '---15----', '8--9-2-7-', '9--5--2--', '61--4-53-']\n"
     ]
    }
   ],
   "source": [
    "problem = [line for line in problem if line != \"\"]\n",
    "print(problem)"
   ]
  },
  {
   "cell_type": "markdown",
   "metadata": {
    "editable": true,
    "slideshow": {
     "slide_type": ""
    },
    "tags": []
   },
   "source": [
    "するとproblemの長さは9となるはずだ。各行を文字ごとに分割するには、同じようにリスト内包表記を用いると簡単だ。以下は二重ループを用いたリスト内包表記の例だ。"
   ]
  },
  {
   "cell_type": "code",
   "execution_count": 4,
   "metadata": {
    "editable": true,
    "slideshow": {
     "slide_type": ""
    },
    "tags": []
   },
   "outputs": [
    {
     "name": "stdout",
     "output_type": "stream",
     "text": [
      "['-', '3', '5', '-', '9', '-', '-', '4', '8', '-', '-', '9', '-', '-', '8', '-', '-', '3', '-', '4', '-', '6', '-', '5', '-', '-', '1', '-', '-', '-', '-', '7', '4', '-', '-', '-', '-', '2', '-', '-', '-', '-', '-', '6', '-', '-', '-', '-', '1', '5', '-', '-', '-', '-', '8', '-', '-', '9', '-', '2', '-', '7', '-', '9', '-', '-', '5', '-', '-', '2', '-', '-', '6', '1', '-', '-', '4', '-', '5', '3', '-']\n"
     ]
    }
   ],
   "source": [
    "problem = [c for line in problem for c in line]\n",
    "print(problem)"
   ]
  },
  {
   "cell_type": "markdown",
   "metadata": {
    "editable": true,
    "slideshow": {
     "slide_type": ""
    },
    "tags": []
   },
   "source": [
    "すると今度はproblemが9x9=81個の要素を持つ一次元配列になる。現在、各数字は文字であり、数字ではないので、各文字を数字に置き換える。また、まだ埋まっていないセルを表す`-`は0に置き替える。以下のようにハッシュ(Pythonの用語ではdict)を使うと簡単に書ける。"
   ]
  },
  {
   "cell_type": "code",
   "execution_count": 5,
   "metadata": {
    "editable": true,
    "slideshow": {
     "slide_type": ""
    },
    "tags": []
   },
   "outputs": [
    {
     "name": "stdout",
     "output_type": "stream",
     "text": [
      "{'-': 0, '1': 1, '2': 2, '3': 3, '4': 4, '5': 5, '6': 6, '7': 7, '8': 8, '9': 9}\n"
     ]
    }
   ],
   "source": [
    "numbers = {\"-\": 0}\n",
    "numbers.update({str(i): i for i in range(1, 10)})\n",
    "print(numbers)"
   ]
  },
  {
   "cell_type": "markdown",
   "metadata": {
    "editable": true,
    "slideshow": {
     "slide_type": ""
    },
    "tags": []
   },
   "source": [
    "あとはこれを使って文字を数字に置き換える。ここでもリスト内包表記を用いて処理をして、その後、NumPyの配列に直しておく。ここまで一次元配列で作業をしてきたが、9x9の二次元配列の方が以後の作業がやりやすいので、配列の形も直しておく。"
   ]
  },
  {
   "cell_type": "code",
   "execution_count": 6,
   "metadata": {
    "editable": true,
    "slideshow": {
     "slide_type": ""
    },
    "tags": []
   },
   "outputs": [
    {
     "name": "stdout",
     "output_type": "stream",
     "text": [
      "[[0 3 5 0 9 0 0 4 8]\n",
      " [0 0 9 0 0 8 0 0 3]\n",
      " [0 4 0 6 0 5 0 0 1]\n",
      " [0 0 0 0 7 4 0 0 0]\n",
      " [0 2 0 0 0 0 0 6 0]\n",
      " [0 0 0 1 5 0 0 0 0]\n",
      " [8 0 0 9 0 2 0 7 0]\n",
      " [9 0 0 5 0 0 2 0 0]\n",
      " [6 1 0 0 4 0 5 3 0]]\n"
     ]
    }
   ],
   "source": [
    "import numpy as np\n",
    "\n",
    "problem = np.array([numbers[c] for c in problem], dtype=\"uint8\")\n",
    "problem = problem.reshape((9, 9))\n",
    "print(problem)"
   ]
  },
  {
   "cell_type": "markdown",
   "metadata": {
    "editable": true,
    "slideshow": {
     "slide_type": ""
    },
    "tags": []
   },
   "source": [
    "とすると、先ほどまでの文字が数字に置き換わるはずだ。なお、ここまで繰り返しリスト内包表記も用いたが、これらをまとめて1行で書くこともできる。"
   ]
  },
  {
   "cell_type": "code",
   "execution_count": 7,
   "metadata": {
    "editable": true,
    "slideshow": {
     "slide_type": ""
    },
    "tags": []
   },
   "outputs": [],
   "source": [
    "problem = \"\"\"\n",
    "-35-9--48\n",
    "--9--8--3\n",
    "-4-6-5--1\n",
    "----74---\n",
    "-2-----6-\n",
    "---15----\n",
    "8--9-2-7-\n",
    "9--5--2--\n",
    "61--4-53-\n",
    "\"\"\""
   ]
  },
  {
   "cell_type": "code",
   "execution_count": 8,
   "metadata": {
    "editable": true,
    "slideshow": {
     "slide_type": ""
    },
    "tags": []
   },
   "outputs": [
    {
     "name": "stdout",
     "output_type": "stream",
     "text": [
      "[[0 3 5 0 9 0 0 4 8]\n",
      " [0 0 9 0 0 8 0 0 3]\n",
      " [0 4 0 6 0 5 0 0 1]\n",
      " [0 0 0 0 7 4 0 0 0]\n",
      " [0 2 0 0 0 0 0 6 0]\n",
      " [0 0 0 1 5 0 0 0 0]\n",
      " [8 0 0 9 0 2 0 7 0]\n",
      " [9 0 0 5 0 0 2 0 0]\n",
      " [6 1 0 0 4 0 5 3 0]]\n"
     ]
    }
   ],
   "source": [
    "problem = np.array(\n",
    "    [numbers[c] for line in re.split(\"[\\r\\n]{1,2}\", problem) if line != \"\" for c in line],\n",
    "    dtype=\"uint8\",\n",
    ").reshape((9, 9))\n",
    "print(problem)"
   ]
  },
  {
   "cell_type": "markdown",
   "metadata": {
    "editable": true,
    "slideshow": {
     "slide_type": ""
    },
    "tags": []
   },
   "source": [
    "```{admonition} 改行文字\n",
    ":class: note\n",
    "\n",
    "改行文字はOSによってデフォルトで使われているものが異なり、Windowsは`\\r\\n`、Macは`\\r`、Linuxは`\\n`が用いられている。これらの改行文字は`\\r`がcarriage return (CR)と呼ばれ、`\\n`がline feed (LF)と呼ばれることから、Windows、Mac、Linuxで用いられる改行をそれぞれCRLF、CR、LF改行とも呼ぶ。\n",
    "\n",
    "プログラミングにおいては、改行文字の違いが問題となることも多いので、LFに統一する、あるいはCRLFに統一する、など自分でルールを決めてエディタ(VSCodeなど)を設定しておくと良い。\n",
    "```"
   ]
  },
  {
   "cell_type": "markdown",
   "metadata": {
    "editable": true,
    "slideshow": {
     "slide_type": ""
    },
    "tags": []
   },
   "source": [
    "### 使用済みの数字を調べる"
   ]
  },
  {
   "cell_type": "markdown",
   "metadata": {
    "editable": true,
    "slideshow": {
     "slide_type": ""
    },
    "tags": []
   },
   "source": [
    "問題が数字の配列として表せたところで、使用済みの数字を調べる方法を見ていく。今`i`行`j`列にある数字の候補にどの数字が残っているのかを調べたいとする。\n",
    "\n",
    "NumPyを用いると、`i`行目にある数字は`problem[i, :]`という配列で、`j`列目にある数字は`problem[:, j]`という配列で表せる。また3x3のブロックについては、ブロックの右上の座標が`(3 * (i // 3), 3 * (j // 3))`と表せることに注目すれば、以下でブロック内の数字が得られる。\n",
    "\n",
    "```python\n",
    "k = 3 * (i // 3)\n",
    "l = 3 * (j // 3)\n",
    "blk_nums = problem[k:k+3, l:l+3.flatten()  # 一次元配列として取り出す\n",
    "```"
   ]
  },
  {
   "cell_type": "markdown",
   "metadata": {
    "editable": true,
    "slideshow": {
     "slide_type": ""
    },
    "tags": []
   },
   "source": [
    "一例として1行1列の空マスに何が入るのかを調べて見る。行、列、ブロックに使われている数字は、それぞれ以下のようになっている。"
   ]
  },
  {
   "cell_type": "code",
   "execution_count": 9,
   "metadata": {
    "editable": true,
    "slideshow": {
     "slide_type": ""
    },
    "tags": []
   },
   "outputs": [
    {
     "name": "stdout",
     "output_type": "stream",
     "text": [
      "    Row #1: [0 3 5 0 9 0 0 4 8]\n",
      "    Col #1: [0 0 0 0 0 0 8 9 6]\n",
      "Block #1-1: [0 3 5 0 0 9 0 4 0]\n"
     ]
    }
   ],
   "source": [
    "row_nums = problem[0, :]\n",
    "print(\"    Row #1:\", row_nums)\n",
    "col_nums = problem[:, 0]\n",
    "print(\"    Col #1:\", col_nums)\n",
    "blk_nums = problem[0:3, 0:3].flatten()\n",
    "print(\"Block #1-1:\", blk_nums)"
   ]
  },
  {
   "cell_type": "markdown",
   "metadata": {
    "editable": true,
    "slideshow": {
     "slide_type": ""
    },
    "tags": []
   },
   "source": [
    "まだ使える数字は1-9の数字の中で、これらの配列に現れていない数字である。配列中に数字があるかどうかは`in`を使うと調べられるので、リスト内包表記を使えば、未使用の数字が簡単に調べられる。"
   ]
  },
  {
   "cell_type": "code",
   "execution_count": 10,
   "metadata": {
    "editable": true,
    "slideshow": {
     "slide_type": ""
    },
    "tags": []
   },
   "outputs": [
    {
     "name": "stdout",
     "output_type": "stream",
     "text": [
      "Unused numbers: [1 2 7]\n"
     ]
    }
   ],
   "source": [
    "used_nums = np.concatenate([row_nums, col_nums, blk_nums])\n",
    "unused_nums = np.array([i for i in range(10) if not i in used_nums], dtype=\"uint8\")\n",
    "print(\"Unused numbers:\", unused_nums)"
   ]
  },
  {
   "cell_type": "markdown",
   "metadata": {
    "editable": true,
    "slideshow": {
     "slide_type": ""
    },
    "tags": []
   },
   "source": [
    "このように、`(0, 0)`の空マスに入りうる候補の数字は`{1, 2, 7}`の3つであることが分かる。"
   ]
  },
  {
   "cell_type": "markdown",
   "metadata": {
    "editable": true,
    "slideshow": {
     "slide_type": ""
    },
    "tags": []
   },
   "source": [
    "### バックトラック法による解法"
   ]
  },
  {
   "cell_type": "markdown",
   "metadata": {
    "editable": true,
    "slideshow": {
     "slide_type": ""
    },
    "tags": []
   },
   "source": [
    "最初に、数独をコンピュータに解かせる最も単純な方法を考えてみよう。\n",
    "\n",
    "上記の使用済みの数字を調べる方法を少し変更すれば、各行、各列、各ブロックで数字が正しく1度だけ使われているかどうかを調べることができそうだ。とすれば、全ての空きマスに適当に数字を入れて、その結果が正しいかどうかを順に試せば良さそうに思える。\n",
    "\n",
    "ただ、これでは正しい解が見つかる確率が低すぎるため、計算に時間がかかりすぎる。各マスに入れられる数字の候補は9通りでマスが81マスあるので、最悪の場合には$9^{81} \\approx 2.0 \\times 10^{77}$個の候補について調べる必要がある。"
   ]
  },
  {
   "cell_type": "markdown",
   "metadata": {
    "editable": true,
    "slideshow": {
     "slide_type": ""
    },
    "tags": []
   },
   "source": [
    "一方で、実際にはいくつかのマスにはすでに数字が入っており、上記のように何も考えずに全てのパターンを試すのは非常に効率が悪いことが分かる。そこで、可能な候補についてだけ、しらみ潰しに調べることを考える。これを実現するのがバックトラック法である。\n",
    "\n",
    "これでも効率がとても良いとは言えないが、実際には最初の方の数字がある程度決まると、後の方の数字は急速に候補が少なくなるため、実用的にはそれなりに高速に動作する。少なくとも9x9の問題であれば、十分に速い(16x16の問題になるとそうはいかない！)"
   ]
  },
  {
   "cell_type": "markdown",
   "metadata": {
    "editable": true,
    "slideshow": {
     "slide_type": ""
    },
    "tags": []
   },
   "source": [
    "バックトラック法は**深さ優先探索**の一種で、数独の例で言えば、**候補となる数字を仮に入れる操作をできる限り繰り返し、もし最後のマスまで数字が入れば成功、途中で数字が入れられなくなったら失敗**として違う候補を試す、というものである。\n",
    "\n",
    "深さ優先探索の実装方法は**再帰関数を使う方法**とFILO (first in last out, 最初に入れたものが最後に取り出されるということ) **データ構造 (一般にはスタックと呼ぶ) を用いる方法**の2つがある。\n",
    "\n",
    "どちらの方法にも一長一短があるが、今回はスタックを用いる方法で実装を進める。"
   ]
  },
  {
   "cell_type": "markdown",
   "metadata": {
    "editable": true,
    "slideshow": {
     "slide_type": ""
    },
    "tags": []
   },
   "source": [
    "バックトラック法による数独の解法の流れは次のようになる。\n",
    "\n",
    "1. **初期化:** スタックに入力の問題を追加\n",
    "2. **深さ優先探索:**\n",
    "    1. スタックに積まれた問題の途中経過を取り出す\n",
    "    2. マスの中で、まだ空マスになっている最初のマスの候補を割り出す\n",
    "    3. その空マスに各候補を入れたものをスタックに追加\n",
    "    4. この際、もしマスが全て埋まっていたら、成功と見なし処理を終了 "
   ]
  },
  {
   "cell_type": "markdown",
   "metadata": {
    "editable": true,
    "slideshow": {
     "slide_type": ""
    },
    "tags": []
   },
   "source": [
    "この部分の実装は演習課題とするが、上手く問題が解ければ、以下のような解答が得られるはずである。"
   ]
  },
  {
   "cell_type": "code",
   "execution_count": 11,
   "metadata": {
    "editable": true,
    "slideshow": {
     "slide_type": ""
    },
    "tags": [
     "hide-input"
    ]
   },
   "outputs": [],
   "source": [
    "from itertools import product\n",
    "\n",
    "\n",
    "def solve(problem):\n",
    "    stk = []\n",
    "    stk.append(problem.copy())\n",
    "    solution = None\n",
    "\n",
    "    while len(stk) != 0:\n",
    "        P = stk.pop()\n",
    "        success = True\n",
    "        for i, j in product(range(P.shape[0]), range(P.shape[1])):\n",
    "            if P[i, j] == 0:\n",
    "                success = False\n",
    "                row_nums = P[i, :]\n",
    "                col_nums = P[:, j]\n",
    "                k = 3 * (i // 3)\n",
    "                l = 3 * (j // 3)\n",
    "                blk_nums = P[k : k + 3, l : l + 3].flatten()\n",
    "\n",
    "                used_nums = np.concatenate([row_nums, col_nums, blk_nums])\n",
    "                unused_nums = [n for n in range(10) if not n in used_nums]\n",
    "                for n in unused_nums:\n",
    "                    new_P = P.copy()\n",
    "                    new_P[i, j] = n\n",
    "                    stk.append(new_P)\n",
    "\n",
    "                # if the first empty cell is found, then,\n",
    "                # we don't need to see the following cells anymore.\n",
    "                break\n",
    "\n",
    "        if success:\n",
    "            solution = P.copy()\n",
    "            break\n",
    "\n",
    "    return solution"
   ]
  },
  {
   "cell_type": "code",
   "execution_count": 12,
   "metadata": {
    "editable": true,
    "slideshow": {
     "slide_type": ""
    },
    "tags": []
   },
   "outputs": [],
   "source": [
    "import matplotlib.pyplot as plt\n",
    "\n",
    "\n",
    "def draw_frame(problem, fig, ax):\n",
    "    mask = (problem == 0).astype(\"float32\")\n",
    "    frame = []\n",
    "\n",
    "    ax.set_title(\"Sudoku solving animation\")\n",
    "    ax.set_xticks(np.arange(0, 9))\n",
    "    ax.set_yticks(np.arange(0, 9))\n",
    "    ax.set_xticklabels(np.arange(1, 10))\n",
    "    ax.set_yticklabels(np.arange(1, 10))\n",
    "\n",
    "    ax.set_xticks(np.arange(1, 10) - 0.5, minor=True)\n",
    "    ax.set_yticks(np.arange(1, 10) - 0.5, minor=True)\n",
    "    ax.set_xticks(np.arange(3, 10, 3) - 0.5)\n",
    "    ax.set_yticks(np.arange(3, 10, 3) - 0.5)\n",
    "\n",
    "    ims = plt.imshow(mask * 0.2, cmap=\"Blues\", vmin=0.0, vmax=1.0)\n",
    "    frame.append(ims)\n",
    "    for (i, j), z in np.ndenumerate(problem):\n",
    "        if z != 0:\n",
    "            txt = ax.text(j, i, \"{:d}\".format(z), ha=\"center\", va=\"center\", color=\"k\", fontsize=15)\n",
    "            frame.append(txt)\n",
    "\n",
    "    ax.grid(which=\"minor\", color=\"k\", linestyle=\"-\", linewidth=0.5)\n",
    "    ax.grid(which=\"major\", color=\"k\", linestyle=\"-\", linewidth=1.0)\n",
    "\n",
    "    return frame"
   ]
  },
  {
   "cell_type": "code",
   "execution_count": 13,
   "metadata": {
    "editable": true,
    "slideshow": {
     "slide_type": ""
    },
    "tags": [
     "remove-input"
    ]
   },
   "outputs": [
    {
     "data": {
      "text/html": [
       "<video width=\"640\" height=\"480\" controls autoplay loop>\n",
       "  <source type=\"video/mp4\" src=\"data:video/mp4;base64,AAAAHGZ0eXBNNFYgAAACAGlzb21pc28yYXZjMQAAAAhmcmVlAADcBm1kYXQAAAKhBgX//53cRem9\n",
       "5tlIt5Ys2CDZI+7veDI2NCAtIGNvcmUgMTYwIC0gSC4yNjQvTVBFRy00IEFWQyBjb2RlYyAtIENv\n",
       "cHlsZWZ0IDIwMDMtMjAyMCAtIGh0dHA6Ly93d3cudmlkZW9sYW4ub3JnL3gyNjQuaHRtbCAtIG9w\n",
       "dGlvbnM6IGNhYmFjPTEgcmVmPTMgZGVibG9jaz0xOjA6MCBhbmFseXNlPTB4MzoweDExMyBtZT1o\n",
       "ZXggc3VibWU9NyBwc3k9MSBwc3lfcmQ9MS4wMDowLjAwIG1peGVkX3JlZj0xIG1lX3JhbmdlPTE2\n",
       "IGNocm9tYV9tZT0xIHRyZWxsaXM9MSA4eDhkY3Q9MSBjcW09MCBkZWFkem9uZT0yMSwxMSBmYXN0\n",
       "X3Bza2lwPTEgY2hyb21hX3FwX29mZnNldD0tMiB0aHJlYWRzPTE1IGxvb2thaGVhZF90aHJlYWRz\n",
       "PTIgc2xpY2VkX3RocmVhZHM9MCBucj0wIGRlY2ltYXRlPTEgaW50ZXJsYWNlZD0wIGJsdXJheV9j\n",
       "b21wYXQ9MCBjb25zdHJhaW5lZF9pbnRyYT0wIGJmcmFtZXM9MyBiX3B5cmFtaWQ9MiBiX2FkYXB0\n",
       "PTEgYl9iaWFzPTAgZGlyZWN0PTEgd2VpZ2h0Yj0xIG9wZW5fZ29wPTAgd2VpZ2h0cD0yIGtleWlu\n",
       "dD0yNTAga2V5aW50X21pbj0xMCBzY2VuZWN1dD00MCBpbnRyYV9yZWZyZXNoPTAgcmNfbG9va2Fo\n",
       "ZWFkPTQwIHJjPWNyZiBtYnRyZWU9MSBjcmY9MjMuMCBxY29tcD0wLjYwIHFwbWluPTAgcXBtYXg9\n",
       "NjkgcXBzdGVwPTQgaXBfcmF0aW89MS40MCBhcT0xOjEuMDAAgAAAJ/9liIQAEf/+94gfMstp+TrX\n",
       "chHnrS6tH1DuRnFepL3+IAAAAwAAAwAAZUDfKVB/eXDc4AAABPLaX2Yv8TmMCgF98P09ullJHVUX\n",
       "w01haQaK1dK5LLDt428NmiTMStXyCIwlq/KJXYMbW90l93m2exUva8OaB29EfNuizwxd/ySAnPi+\n",
       "kEwTUo+p0Y3JvGhWooZZ1RYGCtWVUrVZdpFdLnw9eCTS5LxitaqtnRMsI/DxWSao17/3q6kcv6y+\n",
       "SXTP3e+u1ScDREt9KssJqmyMiC3+Vr4I7nEr2u9+kNk+4vAU66bDsoJhgjGzrHL/mXpnqjLhlk27\n",
       "Em+CDGFUWFElQ+CnSgEtxzqmFCrANyHOcNfBFg9wRZ7OWmxQ2lY2EAroWgi0YbuLEvE/o3ivdpKy\n",
       "7m37kRCtH+2cXARbTDcWDJByf/SZrE6Y62l0HoX5kndTQSZWhsvThpWmGzhaJ6BzCW4/LFmeLI3g\n",
       "CPvtYeSl5MttWCFq98ozA0sXkNBvCLQ3Lfq6KX3Zo0dfn16mRie7nTLnLRap4JzHpI3XzfL2q9ID\n",
       "s8a2nqWY3yJzE0aJG4jiFsqncktT439ITOBWfjZZmfcg1nSu8C5UCeAGgCEOWS6unqg5CWF4Q70Z\n",
       "6gjq2oiqlzpFbooZll6Ob3zjfQX9X7SSz/1mmRqbBKUG1O/8rEkv7uo5B//4A/qwoTv+5L4XcRGB\n",
       "UdZOyC/STMu4oH7QZfWjyEPeE+SExrVH58sh1H/pvemg8E+8axSihl6UIxeAOMCHS0wkJ9wtyLmu\n",
       "yKIw91vCBNVvN11ZrfELL/Hv4MUjEeciczcgdidEntcqRXMSRRCZx4Iiz49ZmoGef31qLx5fQH6v\n",
       "w9OPgKj4yMMIWctbCIYCYzfrDFBB6bAL6Cn/sH/BHEkf6efJyzURwz/Mjj0wvYUhW1MOiTJxP3Wg\n",
       "D779aicIpr3tN3ollsn4iaQ4BIiYviuEV7pE8mOyQDGobA4Si6wZmkkqyq8w6tJcFV41Hi740cy1\n",
       "Pli7D0pS3Dz8e32MrCuqzF2KwJ4vyILYEQWv9o27ymkBXttemHF853CA46cce6MvPe89Du6kAfTR\n",
       "5MaNAvDidOY4hshHaVqqpjHZ1B/LY8FsPo3HD8nCPibv4mXDhMpGFi4l72zJKQ1wsCgOoDaFoN9C\n",
       "OZYRuGm6hnR/sHWcDHlsNeA+89qlHsWQqq/J7C7Q2B2Thl+BE5hKtOoo37cMIC10k5aq8HUzr72o\n",
       "Gi2Xo08PfOTrZ5mFEKEf5BTebDUFpXkvp+1DVuoQiA1NlDK/rWkox//cclS6997IbU3nL61VztO/\n",
       "VQ5UU1MJH2PEY9gqnyM5BTNtsZf1byK3hSD77EAEWdsWWJWDsiSfcTVK0FdvVTS5v58T4lTJI1HX\n",
       "1tF681t+qm4HmIVUObJxsmn6kHBj/BPOS8dlY0TBzJ9AQB9544vHJqNmzQ0WCMGd0wwtTaVVGLFN\n",
       "Ab4q6pK1FDv6l4G4d7da8swsNhOXXVfIj7SMUGwkOW7thFbqej5doQoGHGyH51eq3knoxE0yhGZv\n",
       "naJ7Otvwwm+FtH9hST+hVhaoI8rCxEXfDB073SJA4m6A39WnRMPfqv1zhlSFoQLA0N00N2QO+2N9\n",
       "NCU9RpJy/I2IHwVetInhUJWEZo0bOIf95aEr9Oh/SzI9OkEiKr0RKKg6Zyr/xB3opNwumlu79zPp\n",
       "fw1K3CJjoAT/v4dqlv0hV1qJCeUOT41bl3vRYnzBWS17oHZauhahkQROtEZufcn32gMHLLzsDLkJ\n",
       "JPwo2S8BfdhC8UQH5lcTn2sDN6aIXGAOZn7QQHzhBxiCD+SB/EBAXfRNIjsuY3vbkkdt/+TGZs22\n",
       "eLbtQGaKys2ktfR7f2MxpG4qBoCuNykFXkYAXEQu6pE+7H+zWYbMORT7Q3xtvyl0cX/HQQ3RMqps\n",
       "YN7Ai2Shygs7ygco76RB714JZJel1TK14w6ncFDkBsPuY52xq5voiTnMGk/uhRmu3hOR7/qcxzUQ\n",
       "ETRf58ID/2Bpx6QolV+ejpSjy27jDP7bBBTjSdHGfknaJNYAQYPXw9jNeVye4rtV/YnuPOCHq5GN\n",
       "ACOpC4ZNYUNOkY70L9dT/M81rral15zTcfgIn+Uy/UCSmOMkkE22ymhfejKBvGe2eDZnMi7dyvnA\n",
       "mzF08jh0BPM6c5Ars3uGVniw3tK5oPWDuHdgEtwAOR44m6OOt15qtBu/UdPdauHAQSBjgPJqz2Px\n",
       "cI7ddMB47kWGtUa3PCkrhLyxPVYQoPCWetfDj1/dvXQJLOecEaVoP+kRpldC2EfbUoy8nTStBmKp\n",
       "2A3C1g4GfYeTBMuhnkzxrqs2qt4vV7Ahzc5K8qWd3HFe2NJ27YRLIscTSK2JGoaxPk1sUTp3frF2\n",
       "x9fdn7Q/mXv8YJEv4qeiIN0SYB3rz6WDZjGPp6y+I+MynyUoBPCTdO6MQS8QB8+fvJ1HEvek3ZJY\n",
       "2s+4tv904hF4rxAA2q3UYU70NFHM/M34s0YjsWoUbvD63wM/59UbIDO5m+C4XwoQ58AxC41OYE8J\n",
       "y+I4IMeENOIIJfAt1hNh36vcGbNz82iOxgwKUpVenELvrbB0GKDg1F1PYwLDU+qHmTIhPMJ8orLn\n",
       "GVysmdPrymVyEU2+VDdqd8JuvWuZb3ftOkrWk7vNkqCuvta9K/Gs19p4f5rp5Y9IflfjlLhg75Mm\n",
       "zO6I0gm/7RzQBWV9Q3cjDIJ+XtBIVR7PGSJfcZZxr3uDAE9MT70DZnPWAPCBV5MGVNL/2qsJhwX/\n",
       "xiQ1JeAqYnOB55RJk9JgvrdeYNPvAmRy9uK52Y4k8LONJaWNW5g4SzGwH9w0lrh8OfxYKrfG+wjc\n",
       "jejdSBx6qaAn7/3q2jLZ1kdxLIQIBg4NPFXuon+4I95oT7mQwB4BIUFHMU7GrUwm+n9C5xG4oDvH\n",
       "cKVNKANWpffHzPuAm5fqSOWp6UNF6cZ+XlfuqC2ejgCMVJFPiMBx8LEU3m9I2vrWUFeA7HsGgImN\n",
       "BlxkR/yL8+6SHx/2QcPrA6ggeF+0zFN3lD1Im1NCkPQmbbb1emWnPjI6z1jYbq0zPI/IwhnEtJDp\n",
       "Lfhd0a966WgkY67Aou8wt+mSKbPSjKL9Mnx7b4xriY46WfrR4ucpL5CH8L9ARO/LBDk35A3P3Cy9\n",
       "2B/2M4cKVi8Zzw8ucs3EtAs8KnesuQVHQKNQkN6HDJbwip6JDs3uEh9tumorh9ZKoDkaOlp/ZF6Y\n",
       "LSHkqWcJ4n7XAt4UpR2lUEZeoE5ROHUZS6WtC3wbZ82//dg2Qh7jNwoNHIQS8kGENHoS7Ckf2jL9\n",
       "QdlzGFIDcwCWPwrBkh285qzqBKLsxoeUJ80wwAC4WlBHNnCedlIIsZmYOXcSWCTVp935BmYw31Qx\n",
       "qO3FR5UvvJtQCJ4fgVqb26/MTbS6gz2gFmth69+M3+LHg1ePkHLJfjRYikXC6za8K+2DfentRPtw\n",
       "XYPdxkUTApCXxBjVauiinMGFdEYJsJr6UfsnybgF1GbznwI4I0iLfoeOwTBU+1wKJ3KrqGHzdcKh\n",
       "4xvBxfceixucLWiWU1uT7l5KJZNEaK5+0cwZeD/hUiKPRTIF9b8w93iKRI9i0/NtVdxdvacC0mSS\n",
       "BLOLDCysacc2i5ty0lJQuTxog+PfmpIx2IajRLMcZzgh239eMO7/7urnbT+7VaIZHL7MiQ/32mSi\n",
       "9CNrPJUNrEFQhqH7vueL2vIq2Ym8Fbm1mE5TA+49StQ7FhPU2LLXeHFlmLukjbVBmvxBZ5LzxSeT\n",
       "xRjP10r5nAHzlOHZ9cfIpMwbgLMfsqQAhd5o14kynApKbZT28wZuuTMUxdEFGUijaCL880J8R1LS\n",
       "WF2m8rylg1m4yBW7whQ/q4MkkQMFYCqMVlKC/5dHt+4ZwBAMUPCqpRTZWu/V4vOyXqXJqraM0yXA\n",
       "E607zeBT8kYbqAkB6cpNH4z1gKOfe2qaWabNCZ+H/ly3GMfjbfeP9lR2K/5sybpdifn0NVbkhe7u\n",
       "fjMvzxtqOE/0GH9jgu+xrdZDhTQA0ofjTGDjY6rahXD1KYwSmB/5udReHBJALBXnkSJCsrwKYGA0\n",
       "xOiinJtayOOEjeZ5KlLmxWC9GSQ+mSr3//9Imvq7h1F8UJZ2tIPYM2TRJlF9RzCfJlCu/4ZbJj5X\n",
       "54lYLtZvLWGNBtte59LC6rKkxx4Fo0gGSMhYaEQ4KwAoONL20etAIoUkUsRCrO3lfvbytL25EWSi\n",
       "GptPIyXH1QKvs1/OLq5bRudsA5912mzLlNMXa4WpVtNMt0zG7hyy68jt1snsiVha8O1V/+u3DSu1\n",
       "GoZYknhiCTqhRzRiKR61EfyCvXmYF4djiyOD/dNxfO+ynlR3hqQm//IpQnPCdOfIqv0OJjYgVMio\n",
       "WC/nC9j/GXf5dcVpFrg9SsFAtzMeSyVypsZU7UpJ8Hc+4I869hPBa31ikwK1jtE1SIV0gqKJ70MF\n",
       "E78wSGk7eoQypW+T0SoUIom0DYIvSwOcm09U7DT8LltG2Q+hL/r68NkCb4FWUWNoVMxIvOnZt0wL\n",
       "G7tO0/b2n/1XuIpFU6cb42DwqCxNVIogw/xoqPtqaB3PFtZN2MW/UYk7HpnuCmaQCvIofPh8/ZFI\n",
       "JvXkiaWD4ZLF8kYRBotWVdlZjtftkjnurai8PPvmB1RQvZh/annQBlnxxBhtdfVwEpjxj6Yisps/\n",
       "tXX/RBjqyxAO0hppo16YhXfn+wl329aAsAWBNxy4+nR3vwpbc/Jri5oD2j1wqhunPgXp1RC6HPCe\n",
       "amBcN6tYo89ThdjRKtWVjmaFx27Fk3Dhu+BIcuZpKHTWAoeFu0FKOmw/WweMbePny1yrOXQcb6qa\n",
       "SpJ23AV3ThVGMpBraUF/Z28w8mICW49lJg+6aIZmhBnkPA4bPQeVn5b25C7Nr++18P4wNDFYBPuB\n",
       "AMS98SQnjB3WHVuatFwvWIheO4ikQZ/iwlMAHuz+ZkPors5M97awardfOtSippaMlX44gmsWiGnr\n",
       "ohw8HYKXg/zkK9+xjcRHTkBMoCmaTzQuK7bGmQEAlUp+U78TAJ1Hc60p+pijwsDb1t4P8Rl76FTN\n",
       "JWjJrZoEYXGahtQve8+3CQfO8gK78DjENXj74WGp5W7joTB6wZGnyM3KUpEitOx1wNAFHnV2AUkz\n",
       "GKhG8E/HhaocPN7w8KT23TNh4BN7sYDzdBMZGhHrEfUPINN89J5a/+/muR1SJCOiNkKaDQ4RQXHB\n",
       "Tf+MqSGitwoWxAjM+h6E4UsKgCzBbXhy1EWFSjU6q6x6Q7bcJwmqulA+H63gOcZWUV2OnEdxzE4D\n",
       "HcK102XAo4PnA8//iGmsVgIRBVb4UcGTPiaKcanGiHJP/Ltb95q+un5Wu5/3xT4NbseRMH2qw7zL\n",
       "+B2qz9rEZGgj8i8JizQmGtEd8Q4MagqWGJccWLGefOu5FiEDxubevT/hfi50ZdybTII2MjlhRf45\n",
       "VSfZv3iV1xwPo5ynkINny4lLIOhcT/DrOx+eUs/c6Kl5JlosanPBSh429aFI7WnFn8aJ4FEDtgmw\n",
       "d7zduUmJhn4exuidKo0eEeC/hLVgT9jk22ehq67GY+Mbe5giH9ZP8Wf+spMZ2/+r4074ek9viMot\n",
       "YSMwB3qk5AhZ7NduP0l3qgeXUPEg9TtmVWi6B3ZqVAAY4XQb17tGEOUzc2lbSeU6/ZnmqwOKnF5A\n",
       "gZ7AP1HJFBbKfjM3Xza30tr/sInv/Go0ajEE2tW4Vt3Z13W67akeyB0ulvYToahHRR2BYytRUhM7\n",
       "w1+Z/MNrogdwGW6aRcKD6kJGCy5qUg4dS9Jpl1ofzG+XZnPf9iuy8fFz17tP/Q+kyjo6jKq4fpS3\n",
       "apmvABX10J52unCt6yXlUKrJt0bdj8F4dvh+gU7ZwdCxesZynlhhUC7t+4UgVB8Sy+9UfoiXzKAO\n",
       "YCeYxSnvRavo+xd3B6JRx3HH+MSU/QsYCrQuUHSObDLDBH34SAZNW18fSU3kb2LXaGCzxqOf9Lzp\n",
       "NzLmuGmU6VTN5SqS2aJofMxALbqUK1B5u3mdtLl0ybFEq5sNbm2mmY4mmiFZKLsu43nRyj5cp9zZ\n",
       "3EQn9hK9hyPK2ndmmCGH6FmSfanEb9790E3E83jCdNvF2//4i7fiEAACLaBnDJegeexFLBzmr3cq\n",
       "hFzyNn9zGnP/GpIx4APlostAuHlhEUc1hTpWpntKUASHEoa2QvTrmiOfQl8vilZkrMthac0S7uPF\n",
       "m2lBm9G8a02hsNXmvMNVZ9CgYUQuethW8WraU5iO/7yk3fgqFetfQKLmONj1Hq8gMj0c28ZhkGQ0\n",
       "MQACBarku2tb8oQ9imi+zNMfP0CvAAMSNHUpSxB0/I0rwvbmiTQHI20H6RTKJuilXx+I5xpXZV9/\n",
       "Jst/xarkw2axZXc5jIxGJAXR7rCjmxtq2xGsosxMXyWbyI8V/2c41T4VmcObDlZHHnkZLQHWxhO5\n",
       "z6Xl9uVOSk+CJ/DFAeG8EjHvV8oRWftPUoYbfayLk25zQLK6/A47JxE4icietqJk03Vq5jRTWd+q\n",
       "odQKUJdiau5YkOUVPyi8Hq9poo7Fgf0jBFk6wtD4gnAVWiZRg8sdoIKdYIepnvpXptmz6ypFkKkC\n",
       "XA0ODnPUB8pTREcIibIiH9HhVo76UoQ7KS64hiHNwoeINgWsnEu5zsUfVOfVx1sgUZowmAsG2/f/\n",
       "w1uiZUvJ0mjG4d27KMpF+O7DRrPi0WRY9UKeOdkvfBkGTeGAufNbN/0V24ugyIq7Hnpgk+E1KLw8\n",
       "hOH5TsWfI3tYrp3Pz/E4mdcvqUG397kvoghqU7KdM25D45KSKvFMgtmWgQR3GGm78NjAd+tsE03M\n",
       "FVCC10Tdz45/dyBcMdtXEEQK0NxLNg24+JvkjCFlLG0Mdkn69hb/2G7tUJN8MF4zFXMYuig+BzBJ\n",
       "WwAOPXR9aSQ7X8YqyD6VmkeSew6f3UhPCOaT7CAw275Ltup34kWoGUpuD+qe/qZ3ndBaGGWJAyUf\n",
       "UsqECrvERhE1pBkneB4UKSixWy0q6aRUAABBxRRh63pafZG1BEKBYCcFCli2GBsfJEQZegj17QYA\n",
       "hPFten+Hfmevq84g0PLLBUs+km+AOzOPnywlktrqioj4Njvof7poRB1/5hWbYCGbbnhDRjzsCj0n\n",
       "tCiQLTAUTXL/s7mvwnMjoBuF45JZ1qm3FjCrUYRXho30yvpqcEpzwdEST82Xl7eHmnEZBirhTVU3\n",
       "YeHtJVA49vJFRAw6pB/O/xcZojuHvd8wL5Wfgcr3YyTP7o9rwQzHf2uQ3fRfHIefvDv37dHbykg/\n",
       "xWGyQGTUIVjZDfW3pULRW4SVlH1TchoGDNMlBeOLQYZMAAlz6QXiPypvQaXTELYORlwot5sTN+y5\n",
       "C0ZiGxJSRK4Vuxu5SJsROjEeYeezjDXVzls/hOH56G7DT/O6Oi04WsgUGvDXjAPt1W2aaetBdPZx\n",
       "ig8SWmxXSZlPpmYR9gjVSfzz56jBi+TVXMnf5tEDFrcDJoka2Cx5A16oOV37BauL1OV5nMxF+34c\n",
       "FOiW3SZZr8/qQ1vBP6gS0eEGrGu+zE80flVmys2OAhbF1OMS5pqz/PmGYY+Xaur6A6zYHue55jL3\n",
       "CNVk1suuBkPx6zLBGgSqurDpWN4MjcvnnbYxWr+jQ89sUzFW8qPhlFm3RS9JiHT1GZ1JqZPvw2Dr\n",
       "b+mlFDX4BWnkDwSo71P5gY9y0Kw4P8QAAAMAbpo//XuRPKcCbfUE8jzwTdUmPsP+74BRkYvlEpNK\n",
       "b6Hr94L64t/0mhSWdPD1JxHBBFTGRIGpOc00mRACoGxRBu34MSUtSdEHXYMwRiTMB0pHn4cAD7Tq\n",
       "17I69SURMMe2Avmss+o0+LYFlhDW0D1Lg7HyuXXjoQn3WGa7VrEPILzjDaKujhTmxb2FxOFBZz0M\n",
       "CHB7nxQw1dJQauxKtG7kPa9PzYjj9GzkWhOsAiPZ0hz7bjzAAEjCF0UTpBMoRL/I9XisTNwFAw4j\n",
       "/fNWmyK7568bnENbZ7+2J8dt77E7ki6uCvuisuqN7e1iKUqXx37+4O0Rh+q6XxnbOmB+7pvm9FFo\n",
       "t4XL949boNuawAABsUnesuY3i6SzjS5eQ59oYEnsKcTzaKxgCErnL4YG/iVL4DIpsRFa66hL0nPs\n",
       "nBBCZw2Z+z/r9Dj2S5vf9Vrvea7VvHIC0+QFK30HluA1jXR+zph6ZzDIJmWxlQ1iQ3X6glOM8i7r\n",
       "hyKAsn3HZ0z0NYgNubq1Mko2Q+7VTQW918hOTQakbqGg2UzGMkFVLB89fFtgMN2c883fgGavq8av\n",
       "v5Zgnmmaq3hwBORGcwG95tLkFgsbLY2/7/1OPCvbyuUtqVfxta5srY2qmsdBhr/lGIdZYS1qBVbQ\n",
       "YtIK2R0pa8dJD+aJg4E1X6CrRVBLeDSnmXS+9IkgPTpgOxexDy3JHH0hsJvxhPVmm4Nczvt1yCe5\n",
       "mFAu6v4w51UTeVgxTscvNHD4ueAQCPgskMmudNqg01Sl9Eg/x/+kEAN9EySqvZeysp5GCdRKlbro\n",
       "0LVS/vJ1DV1D37v/xAGEkW2coPz3muB2i/2wkhsjCAjm8Pj9zJL1hqdhFeTbD1VEjbZooals74RI\n",
       "vehNiehrYMA/prHnQOGvHjwjlSpjWXdUBB/Xz5cirvd4baezTfsoaE/xHjaR/wJ8p/4f2wNSyN7D\n",
       "t2ojHYDBs7SMHykXjpr0KaaibPq9bchVgDEv6+D/l/qWq5PivpX16+1l7II9Jw037yTNXKzRRjkD\n",
       "PFfYQZ0mOapMylVLSna7gcTKKOpiULYJwj7xUspLGijpjXDkQEgAAAyuNxgKgzuosRtL/6ZA1AIw\n",
       "UeUCRIu/xpywqmOOJ7dwhekWoVr4gqtvQn1DzN2U//DqqgwoYhlD/eWH12jEE3+i2Nz1zYehDTxw\n",
       "1kfTf7ym26Q8NdZpFfLwkAckx/7/YWYLUSt4XVBvCTvYY4f++0iZTwA76+fj1oy/abGLe8SmDxZu\n",
       "dEqtgl7dHTnbVOnUKEqaII37QtbzztbbwyrJCVKD81INNoBHkl09Q3Ku0/I1nbffJ59Lm8lXF1Hb\n",
       "gAM3FqAwk7JEqAgPPRlBd5W32FFCnI5uJ2HM3LN+8J13FStcHr8QVbgm9ZHDO117oS0ZGP+LkFn9\n",
       "EX/DV6LcGhf+2YaFU8GnIZNd0AcFFtG8bP6c2B6NPkwY5Sub69IXKyGcWt/SVZsQcDwKYz8j61Zm\n",
       "cREN96c8+M1OPnm1cSwUg7DYR5SYC0GFx4d3lx8EpZLqgI5nMeyNIjevZkz9XRiTdWCriH53KJdQ\n",
       "Li4VQWpkzCB1wiEfcp5DLxELudT2nO/eKcbW67DaVYYxKQPIa7T6iz8VUsORl0YGlHI/oEgOhpYL\n",
       "trgrLuLgrC1aYrKSDD4j5H1D1dbF1JWTmVhFUNnKClFsTscEY+U0VazjUcW5AAAMmfi8KsH5Uuqi\n",
       "JS+XWAgat827cMn2j3J1A0DU6wf/JW8tMPMw5PZJ7ss/z6MmF1pJ1bxE7D/I1Tb5QT+1k89LPlVz\n",
       "m86Zpz/7O9pXps4nd1kxgjtxE7GjoGap+x6f4gNoQdAZAzAY27QA128bIOM2qGuy0oRLOMipcE5h\n",
       "rxwxvRZ798iFF1mwqG2Yfyok26YeCwgEoGhRq5YCQNnu4pAP/B7+01enOt0pDKV20aTDQhk7EQn7\n",
       "0S+HTNzZZK0Sm4+38j3ihqVnWE1Zw7rVhPZ6AWolBnPOKsNX1YZWbKhlfsseFisW6MguuBefoPPm\n",
       "aow3uEobxLbau6DQ3qp4cbG7jyVE3U8GPJ9i+QFD3GjX3w+Ph1vWUimYcxW2d8MEBnfY/fB8IQyu\n",
       "K6J3nB3sm/5z5T3mUt0uQTpIVPFU8a4yJAoQe6mXYhiI3LTkNJOeKv7Cik8naXjISaa4wEEIVz7n\n",
       "WK7ecCmbSc29RJvwQ8KUfyaQVXqETQOGeNCP7iE55toVvHFLZmOx1uXuZtbYEf8iz5EIALcUJRMb\n",
       "nqgKyvekbyhRZ/HOYguddQTfFpClX1ZRbhM0a7OEPorBSQKJLZ7VpL0dUKcP4AnCQVnOa8+/S3lA\n",
       "uxGMzHtQeSl+VkTDjkcd5VjJRm6Ahsnu4brkXRcPUSyNEurcNXncpPsNSgLESwWjyvKLgx9b+Gd3\n",
       "cSt/7Z0DpNAEQE/1fyJuoQX6JjbK66AdPoOQEaIbHVhodt5yWI/dVq4UWe929jobF5TJW/Ltxzey\n",
       "wbscJHqbHl7b7dlBcIFEHuF/s4WRmTEaOfk/1+zTEFV1idzg7hVOssjHgCfNFZG2aaJv+oV3x6LQ\n",
       "2C1J4A/HZWVt+Ka62wvIADewI+VPoQmZ78sF3OU+yTFfIGUqZCIEjedO7pH6r7aoz4nBG+dauBoi\n",
       "Q4wm8GJ+n5FxM4v3396hVjPOcvV18jpw5fl21f8osh67Tt0nYGiLZoiJ1kJYXSiUq5TVgZ3kmpES\n",
       "hn9RtW7stf5XA9tvlIxN9T+jnSV848xu0Q7u+elvkTvVl5/xzKNLDS/DI7YBJ/p1fJ2+1zjvBvOa\n",
       "ImDOqj+N22FAE3xJBUHUAI3Fq+tSmCNRg7XP2DHOsNtKcpVzEdLAyu+4jit23AADT/2JVdy5pGty\n",
       "I/gjwulur1y9WpVnWdMH3UhHgsl7ERUJx/ogmATFjIPOabY2aCS4G5lBGvKC6D7b79SgqvG1f2WC\n",
       "4ZegPvB3PZJMxCpz4LzJS/jFu6L6cAGKLpAAAWqMWX/3UTwa7cpDbXM+Uii/ndun/oEwwhnyXoLm\n",
       "MucqHfuCrQ7pKx0vvNQmacs9f/d7WJtS6AZPH36Fxb26v3B+UTqnsa98vTsNLIMYs7mpzVSWRHad\n",
       "t1jGpZ+HwqJUxnllR+Za2v/hcRUDFbaw3yQoST1QKEG7P+Higloyg8ICyj6OhPCsYXhDmrqb6PfR\n",
       "7NmpBLEj4HjiM+VQMqISikF1S0zsPv9BlNPt10o8/PvEM5zjh6ouZ6l8JtOLX+JfBvR68i3QgN/3\n",
       "pGLTcKZA9UyNDN9Hd75FGCFy2W9Vf4+pC2PNcTvXr/GpeLYXcrhj9nX0PVNRjemneaZQuc6odVO0\n",
       "xs8dbonGaIY9ekOwMsZzYEBAbBZ46Ymy+mC9DkBfeB8JH/t2GgAAAwAX2EgCKOUpzJfEK5bLGztd\n",
       "b7BxY026YZOaDX0n12epPtnT16VGJByrwARYZRm0Thq7fTX18QEeUPztOH9TdGe6XYA+LzV8X0T8\n",
       "9l1yJoy5mgtq5MPvqNs92UzIBGbyYh2n1FBl/OI2MQhuNwmDY74+ZcbA5Duxztqty7efEKL89Ezu\n",
       "P883iKKXaWO8WTn96cbM+3ktaJhn/fsFgWlCC14zXHyt9qMzhZqVljI+bMwnIURnOSisNL6W3g/t\n",
       "I/ObbYybGYi+pjvYoI2Jk817yvyTf6Rid3UJQGPjvVJlCAsKarFFHztpQMzlRmsU2GdYZ98cxQlp\n",
       "+VxjKHMvcSM24mAaeH844/o3v37PBPMYF+tt7S6kKg8TYxXj5sffXVho/GiSm2pgI7DutHeetuhF\n",
       "QgtZee9hcX0oJVZ3xcEBBABqADU4JqRb9/nsPH46ZJFezec4+lNV63mv79iE+HntOybelsLmLbKK\n",
       "G9gdeWGUruPBwjtFLsKrds/fYdJTjA6qv1eUBO7/jQ/9k/XZBSWNEYrE5RrLhu3mtk/1Xy1/Y74+\n",
       "CbhLYq2+/Vl67oxrF0sdl3WrmYUZqduoSWVrCE9vc3kOS0WFzLAig/tQbUwqFvwn35HAMiaVBlzL\n",
       "jCJ/TEn8ZCig7REn29ev/0yOqHncbyrO16KGP6upZYf74TFBibkow9By5h7JSd/UBzSnbhPyCUF8\n",
       "h//aB5HhWRaRbowfB/5FqvMVo+RfkfnQk3qoIgJe8vA8sQq20ZJQQ+s4aRHel8zcZiqeS6uLf9Tw\n",
       "xjbug1/cPt24RMeZmDcn+Jkz9PhWh+bQNiY4YNBvMz4yo+DQfP/rBCDIB5L/+V3kRtpjWZ87OSzF\n",
       "HPgGTEmAoC+OA3W6WoQCQOf/mAjZ2iLwfyiiP938sASy3Kc8XJc0mNo99BEwejlv28o7FicoK5uL\n",
       "nJlK2MzGrbPEAib+gNKcJ8RWjb9NaqGlR+X21ueHdkkAc97dX+d2f4TzMP+71yQI0mdcf/+wp9Zr\n",
       "3ZAo7yGcWQRX+3QDFYtVZE0VJQ94U/LGMn0K4419d3eov1GTlzofti6bVVkero+r8BloD39V5+9I\n",
       "Mde85IG2UsYczfcayq37CoBZD4Dl15y0VYg5RGojs+AoPP2Okp5hUC0gX7jZHiZ5arka/qQgSaK6\n",
       "smBx1PfDzYmNpb87wWMaWjSpTcz+p6J8WOTnL7tVewn1RaM6Dk+MgwFsyTmegAMqAWgFP33BKjpX\n",
       "kLpVLfy099aDg0H2lG8P5aF0tpGT+hfKuMsV8wTfOYVszs0Ze2gGl+URmyg768e8ZE2ThIudqg3R\n",
       "YaXR9vtPYO8e1YtrlG3QCIz1G/iZ/Evm3457r5XEE/KCF3lQsx6eyvEw3J8mBsL5gVBinPROixPj\n",
       "PAZ0pFzyy662xVPhkCpj1lC42Ie3fmVoUmPmxjlamRL5b89T6cdo6qxFq9om3kEqNpjatEBXLKvA\n",
       "sOZq5RRFnPjlehc+W7JgVX/ArcKNDLltDEHccjwubbNZONRqOoiQynQDGHDA26DtGZg19PmleDg1\n",
       "Py/vWePnQCUR3b/P86UUIpZC2UK3eT9AaZZ7OmivpAm1OPno0KZsSK3w0zUP6RJe3r6xbIGzbY3o\n",
       "KBEDvmPmzYddWzgaITohdaOlYqIMNbX1r66klBO21iwOXrHoKViilXIz5dKUyfuJHZywFq3qrnst\n",
       "A+jHsimNCOdXMZ8T/uAKgUAVXvPpx26ZRh1/AdioNPllUjfd06Ca6OvJ9Yp4UAaBYDWxskKrqbRf\n",
       "OS1YmbWijZ7YaV9EFSUFktYmZ+Ol+0NsdOYFW1vRMu6X1rUXnLJGkiV9vx8HuxWMexry8OMxZMhE\n",
       "qZgRMSjQVgKtF0vvIVpIUiiG2CA5KaRQr+lYWtxOhOz5QHaTeSsNRldfUn6bmqnuODJu+nD9KXMs\n",
       "WZP+Fzp2tygbYAsQv2FC+7NH23LHefov51GgrnxjN5oZymI71pcI39xpeiExbXPgAtUqP/suOx+Q\n",
       "e0m8DgKqb3Y3E2Swo0l/cyfoBid1zCcwK0+1InO/MEVEX98tHlXWD2Dd9k290Fy1tQTk91IJuqmN\n",
       "PkPIDadIhceHJsHnwJG5A1j/qhSvt7NAoFSzJHb4zgSfSxV4g8cyKa6KojjtSBpp9TWjwnpgy8vf\n",
       "7Bodzj52xfCBry6+6FqLn9TwNsKGDrZR49TE//49AlN0TGepY1n3c2Ofmo9ZGteIszI2Wcv9PEF9\n",
       "Ol0TrdUq62hfABFESv/Fao6QXvV7vp7iLap+qM349FVp3a0k7OnP0gCT7zlBg8kXMKZ+5gJBN7pA\n",
       "AarwJA/Njg5yTkyIuLv0JwbXOBwvp+2RQAebXDtUtA8u6pI3J7ZksFboJQooEnYW+q5ydolpz+3r\n",
       "+c9xbor4AGQrqiTyHttRsCfg/BZwAkqiXY6Jp1Ym8xsGGKImem1VUpnq09h/mrMfhtYHbN0NgkSJ\n",
       "O30eryKHGnZgoMTifJGI39/hpr6rCurk9vVOb14Bb+FsIMwStsfWTRGflM68AuRf2knGzcClX9A7\n",
       "7wAAAwAAOk8aLp2bZCh7AZaSVyfsaORQLxxHOC45u7/EkHBatvsnBoZJke9m4SogCiWPelOS3B3v\n",
       "xSYzKFzE4CH7AoDBL0AAAAMA1oEAAAXCQZokbEEP/qpVABGFz4ACutQZdD3WcpLq8+2ILH76i303\n",
       "E0jhfACRbiaL6uzBTTRuFt+V72UJpFMw9zPoYAtp7xkUMDQXJ4s/s1y5xVRls/Z1fdG/K4wE0o4u\n",
       "Av/APMKJFSOA+uM5CuD3ABP61Tjoa+h1PfXYrKTYECqO+A/47kk4gDTVWOjOPlghAWFpdcxEwRn2\n",
       "Gw/C4QkJ0BMcwCS96HDGiNbptRwiw91DwedyLBz4GqkKTHnD1FFS0V7y4BifbxeRofqwr663TzC6\n",
       "XVIb9z8upbLUMeZA3mQAEhRJfup/EuZAXrBvSgwNez6VbxLjl7hsGhNE2wv+dgRDGo5TJY3OFvAK\n",
       "7wkaUwFdWo08A0P53LR7dIYp5t3qPH0DXCWzl+wq3oq/7s6313ZBYd4EAvtzv+gqTTL9//7Ind/s\n",
       "j3UBeV6PR/HT5nMLa4pF23gg6r8X0unmpqo3AZjOrj42jVycnEuxeg47CapK2hd9dABp82/Wzltg\n",
       "ATI8JFFfzhjOxB/z4YkFFObLQB0WvOjhOW0VBQK//fBYrLI9h/PZ+mIpeoHF5ggkp410FGjVZ1l/\n",
       "kFqj+WJQzAeaR82U6kLAB3XRQ9nFcZ4Gf94bM5YCggO1D/h3Bqk62cLdz67etKcbefyflc2LCg+X\n",
       "vlFGq9yuxQ4tYC5SsrRwWrhT41SIAVlS9t7+IJeYvk3ML+LvI7J03EXBjuN6xKauljzIccUU1o/c\n",
       "sd8v2gm+REkEaYe5nsgm6owO8sGyBf23fyiSlEZwudCZb761ogRA++wCYWj8rCXO0EBybj/1MPc1\n",
       "BpAb1ACbg0Knkf2VcZmwC6OW4tKv+OYBwLqmi5MKvAGW4rLMo8IiftqocpotAHiekqnX7fj7IfNB\n",
       "ASL83BWgIo8PeVOhrM4DbUXPZ2TohVIZYMeETgwT0khyUkrVktiiSzv+iv99cb8FEuhYQV763LZ5\n",
       "1lLWHpKcn8HbRZ5vKy2QMBb6HaqOJBfJT/7L+5yLJW+MuqSrG1ZLx01x11ViaDgMZGkg0RgHI/y3\n",
       "ODhL3s2qsrcvoABu8BzEo9GXuOL8z5daEhFkqCTZIMUzHuKD951dKvYyqnLmFTsui0xcB9MIx8+C\n",
       "9dK5bgghIRiT3/vIFVvpGBdZajvMZpLpBADt+QlnjM1IBJazdAnoQzZmQG2HKsdT7uL3OW9g1ApE\n",
       "7q8D7VeNcgmGFixVfUByWPI8IJ+E1LWyhvtpTJn2+4fRrfj6t28cMGu0fOkqdqDUOxu96WWn/pRp\n",
       "QRtp+VsB5ZfKY2A9X9XcKObb8ulanjoDGEn1hkfQ7NKsVZ5Wf/2k1qRvFJ1udBlCC4ni7aJmaJUr\n",
       "hKQR5BGBT0clLcx/D4IqxbmZVnqtV/GbZI2JtNdWikbs2DSq0QscYfgHAVtKh2Wz7qbHP44zFFfr\n",
       "v5fo/6tA7p0WP8avsFTuJt0nfPZNT/TxBeyXKKk5xkVmpMs7AHuldpVA/MIMRps69vpc1kWzYbt8\n",
       "kIC4YlMwzPymkgToMNw/no+icNIYiXeH9Gi6jpIKLigzesNpVT3bUeGJkdSsrjj0t6+REAUNvLP9\n",
       "KlwR6JHmaYwDKH3iLaHZVkCpXMxhirRl2QM7Zuz1ie0lGC5BuTeHShM9464dIyxGIBU44x/coMgE\n",
       "zdX/SEEHMbtIfn0cRUD8Km6YwRbyWc/DxL15wi34pKl2CCUXxDX+p3eRzLtRWdsbKiowd1EstuDL\n",
       "1+qT9FM0EiSHjhGXET93zTs5SkyGi8p043HOuEYNQqiCvSOoBfLPeO2lkNjB+AFQK3o647MrDahg\n",
       "yCwURl0UXkbqW/Pl/4k3OnHvFN2O+ipHkgASp2N+dsLt8l8lvt1zio1uJgPZ2VFZVTWtXdo7AqGP\n",
       "ZejeEgTpgqbnHa74nxk05rpLy//Kf1TdpbUbXngFmZxmCmW6tQC+3gqPfNhPORFXglhoAFkK3z63\n",
       "8AU5xwdi55w3YyMD2mgu4AAAAJRBnkJ4h38AEYck2XzBRWB5ceGOHgz6wTBvUAAtZ820DOZ6ek/h\n",
       "RfkcRLTtrSaa70naK3LfH7C/d7I0T9wMucb78BwmK7a5S7qHp6dYrGap49fsEkzQpYaeUet5lCQv\n",
       "82+G78XBAKWQ8MFMPfMaxz/Es1WsM9KlGpyjrHLUMzphzretdONFWhG8Ax3Q3NccwIr/9LiBAAAA\n",
       "egGeYXRDfwAZHqqVWS2ESO7STKEsKdD4LYvmf5JmtwtdgAdMhcJRJJvktreRmvYMKn6h349/dAAB\n",
       "Vu245Ia5wA+LKcnAAkeWLMx1dDEtkGR1R7bKps+8lJ53UUZ2pciLODg/oidisWwQDF4XaIp2ggk8\n",
       "p6iX6x7GJe9IAAAAeQGeY2pDfwASWMlIsrf4z9mn3cJN3uQ8F5+oAATjGyT97UxMirZt37t0yUP1\n",
       "o1nzZpw90lIuXATlx/2dvfzbDAigcpEKdObJki9x1QKaX6XKt5HTwovipZOnIwABLHCvR/RacTPW\n",
       "AMAIp6J2nO8mYj9IW4kUMjqgPaEAAAIEQZplSahBaJlMCCP//rUqgAN5rV6AQmiAEgJv4I1paPtr\n",
       "1s8dQR1m8oHBaoXNKoGopr+1j9Pu31PToNWBsBxD6/n/pFJTP/y/mRbgkSDF4+yqPqUaCCzJA+h8\n",
       "3PsEetLQRbLp5M1FWmqXWyE/PESkOiVlAaYQKKcScFBEicqcrh50fam2SLusrYB/E2FiCL/wSErq\n",
       "uV3xVpRZz/MQq0/1IAAFqCPQwAmw5R13MRpgyn4aHVQDW4jUtVXouDNuwRlBc0lIkzfCFLUXTvuG\n",
       "9FFSENnk197WhT1kSNjUwcKEIzsbrV7RVOh6Ft4pK7PV185/gjqB0mlBlWl105w9mj3pzYWEHFO0\n",
       "w/pfnC5YwQc8n0eb2j+Rqht76JdSSh2T1dtSGFR94gG2Khwclfr1hJpTNLkjJpxAsAYnGoT5TZrF\n",
       "0ZFnFTfcKa57TugKlk5R9Z6Go9npoS8mTaH1l6ZvcKXZqlY827nyJ7BowOkpf85NJjoEUqHr0IpN\n",
       "7HJMFMODMLHFnApB1Oe33n0Vp1Nf99Gw/dsppsgMvW/jj7kIiuortgCGIP/hl+2NRteW75FTmhGR\n",
       "dVH5SPh/aA5AWlR/6cHlKNx8TdVZOxtyCYgUVTrgc+D2BedHHlGmrLUFCRjhqBMXycl4VysHfN58\n",
       "YBUWL5B2sL0XWSqBngiTWm2CfF4xS+eI8Bh9AAACbEGaiEnhClJlMCCP//61KoABXCtiwLBfCDLH\n",
       "+JW6nGnMI8NdNHxyf6tFaU1+Iy8SEAhndUjAIcGR44L9yGJDWf9fpneY6+zt4cT2hf7Mct+SdjaR\n",
       "4S5uXgC0ydhJJR7xN7KuQvoNfyOSy4mqhEJlv/w33TtjtSCjebpAsaQ0ER91WfquPXR4qaKuv+wI\n",
       "8dudYobErUUyY5akI0MmJ6mkywVtLUb+lUx9QBa8vqN/aisaCV8e+8P5siIKLQ4k8mo5uBpmGIJ1\n",
       "8wFtQPOsx+MD97ePqa6uww4wVi1sKui+CTKYOKYyQOZxpFhj/KRJFPuO4N/DengC5xAuawdjwlrS\n",
       "VjjDMkGM8Zy76WbR6A6S1z8YuSlsHC2TKKU3HWIxTSKe9OhQ46uZ2mpX3rVIfqmEEAMzvMaubnZr\n",
       "hUCmRljRs0hd2josRaT9Ol6fU0L7qzBQTWtRNlXCvEGUw248qBtGKKuB82IwiCo2uRGYXw9bSCuv\n",
       "wE53076TGqTwsTknzRkxkCggP/isWX3IMaX81m/v7d4JeZHm+BOfjZlZToFCJhMW/41ud0bemANl\n",
       "0wjStx9h+iHokmc5ki5+8XFh7jshxpQiUgnLVO19wYNeNkOvDhRLaYBAQLaceXVtnk1MzRkQDB5g\n",
       "L7GU2Gsh6jD6c/zujakKE/7jm4Wxlgp4s6+O/lMbdcZL+sPu+JeSZJ1yNHUXi64uY4ZbI7ip4tc2\n",
       "4nmh7oYMcq7PHPPh/b6IozPdF3rnmwqSqNFEaRGvKo+qPsNW8oogQJIS48vNcJk/avnP+32SAhxj\n",
       "IkSitR4lq9/W3FBJVUgKT1iouetGJhCxAAAAVkGepkU0TDf/AAboA0pJCvSikYgbbBAqzI2algAn\n",
       "U7H8KH2WTWW+ItxJlwJ1t5E+DhyjXkX7ZvbzvPsAGcfuAj7wKsYje8ocIpwskAAFzG61CxkKjbFB\n",
       "AAAAnQGex2pDfwAA8vXtZ/gPrAAJ1rUaW19JOWNwAwEHL7Xr19Jgut4wv1K8PZPV8aBxSzgXWtdc\n",
       "t0VrwPjsSitcNMzsba/6NJyCOWqelmr6qUU+/IXU2BV4U0ejmjy3rE4RShI/jqx14pt26s9IeltH\n",
       "c2aeICfc3p+XofEJGJfKoOQX7Dxh6XN750pMFnOHDeHKZtqrAAFaSIS3pQCag6YAAADYQZrMSahB\n",
       "aJlMCCP//rUqgAA1NBoXAC6inv7lRVgGnaMCjANzq0GRno0CUcfl7VcRnegsATpShxIvw4XFUUgs\n",
       "D/9ZSO/bwQg/MNSX0hmFVGHll/wG2JPVO8H+V0CTYe/NpDekyx7E0Xy7TThfO0GOjAwv3y+HX15Q\n",
       "XNQRDVmoLpzm5COi5gi/BW3nHrMYOtGTEJ/vyWEIIxkIXOdlsePkjE3JVISIuVfaXDZtLytl2FxY\n",
       "4BA1508mrgoSagBUknkptsilXVuCWzw/hc5AALJt0YbeAr8IpHTAAAAAX0Ge6kURLDv/AAJBSoZU\n",
       "/2sgMbUFMUQbHwAe9YHBAEQV28ZB3svGyWL7j4VoZe7w53hln6JuJXSHC3JIdMBShv7mT5zIAvOt\n",
       "RmPexdjKxn0k4SwwAAubY3v0UO5pLhxxAAAAgAGfCXRDfwABJX1muWrgAEmE5fDus2ssByEfc07/\n",
       "YoCbKnAckxiX/AuCDHtcDJ0pLvAcqMVyDZmvVWImu1kn+byg1TWcoNFPz9vMaPOsqgivEynLEm+p\n",
       "sIegdK2IWxj92rG/D9MH48j9nF+Ch47NoYYgM/PsAAKOTsw/EhZ6QKCAAAAAdAGfC2pDfwAA8vXt\n",
       "Z/gPrAAJ1rUaW19JOWNwAwEHL55OE9WfQh1tQ5NolQbBOaW8J10M4UTKGrzgb5JSJPKut1KE+cZQ\n",
       "qiVZRCTHyX/jCVWIP+RfJvAAH6oa/vKiZGr5ENeO1RqojBs4SAFDGLXSMtL+nYUEAAACGEGbEEmo\n",
       "QWyZTAgh//6qVQADPNf6JG8AFC7GdfejWHySPLlJpuB3DkfCFkQt/Yh98biZ57Vr9gwT/Up0aJfZ\n",
       "X8FMYUUFrBoH5nEP6KW4lYcZ3Q+FYqvZIX5/u00SqVW7RE2FzIvisqkSqOtLjNV19K2KTcXTMI1Q\n",
       "kwVT/0jvbCMKA3wfmFL5mNBfzCB70Zrs8WwB+scaG/efF7g2KHGvS06sAHUNOtA/6Ed+YvSLdkm2\n",
       "lCnFXpqcf6Hmgp30GQ2TZ92vcuUxF9zU3AgdaENpCb7BNJOrzwknX0yj2CakbeF6ipqXaNBfd/Pw\n",
       "sO6/z4S2El/dGNGOXsDNZ1HPn0/5iiq+o3jl4LI5C2+URTXYPVA1RABiCMSQ9PQAdyQ2rWqMlfDJ\n",
       "ODVFV77Bn0DZiDHxMBYhdAvJRvH6iX7PAA0J6OC6zzYSEMk1KofCKz9IyUuRyNaA06JHHbXEg8fy\n",
       "IhBQqecQ5n93foagiep5R0YmydQiS3FLrB13ASsXEeARTU5z0ZNYmj3y4G/zacnsrS1Qi4oMsIVX\n",
       "n/YwuYw8fS9ShVhoh+LW9CNLlEDlhW9fsG3XxpSxAgKIrByWT6yS2prCVFQuBBSymUryvX0gh8Bn\n",
       "9Tk4DOPFiVv4iD9hYh7VJCAV8TQBQelj3tOqvXXeQxzCjoei+4TH5kHYIPdjb8oT/rs4lQzBGmOO\n",
       "bdcllm6oQAD+k+42WBhY0EfBAAABBUGfLkUVLDv/AAz+GoAJ2+jFeSV5pkw2ymQshH/PWyWpZP93\n",
       "igY/L7JuQ9ygP/gJd0fslrsqH2O21mv4uXO1GhNoFX6hgZPWyv2sDCS3ybsO7DeMFk7Twf1UhTa2\n",
       "Nz4VEzGPfvzPSpg460+EVKJ0pViem9cActhkHmC3YTce5SODBdZpNY3c9aMa0ZnmcBTAyrUuoolE\n",
       "uOcUiWPIuJSwjkju0e6FvYxBrY4XOJhXGeKYpjRAPtgCCfeHNUM0GHPKIJou7xYBlSCNxr1jnaUN\n",
       "9Z2pDasLCIUa1vx7hrZH1nK82M4eD6HD9Xsft8fijEYPr6bk7D1uL1bUacQABYStPxNX4ccDFwAA\n",
       "AKkBn010Q38AFRHyABDaKwbt3+uLTbJs/aSis3tQzF9qliZy4ffrSfywO9icjj2EXPBD1/MbaUo7\n",
       "TI/DQ+FaFg+e8gHiBtzKBKD4c/+GMv4E3E9ORwGn1VXfC/mZjbwbKpBw11xsp3a2RULKNG9icwRJ\n",
       "XruGDYusWYDZh78S87F1nPwWR5e4ZXDuSO5dd4s4IwKswXxPoSkWJF2TyjOQgAA7m3YnM3RNTxQR\n",
       "AAAAVAGfT2pDfwASWMlIsrf4z3aXnbMIAE4xshAYfIaNWk/YBiCrt0fhHjfEDMcdklZtABtPfXYe\n",
       "ZA7IIjUGbNsjzjTcRQTmJrQ70QAUNRxVVzgt54DAgAAAANFBm1FJqEFsmUwII//+tSqAATg8+0e3\n",
       "/bVWfSAF16lzetLaCfDvmZmNRuRf/j5ljnIG//vmORPo+1YNWPoQt00VvU4FwWbwPE+TXKZKnwQR\n",
       "azwxesfaysaDy8wQyqMlKOujsp3HOxx54etux7nA0IqqS7bCoCoEE9v3N1IzaAg1Fun+2x0GxIHo\n",
       "OLXufZY+gb8OUlCH/6C8/pcGO5vymGTCF1I8AL4+KQPeNdNLs7udoPUP9n83oIh4SuBtBVTKtgB3\n",
       "OL9VK4IWccNR/KfS4GD0gAAAAdJBm3VJ4QpSZTAgh//+qlUAAGUpOMgERz+KJOb+sn8Ogvwa4+FU\n",
       "dWMrNq57mfy/mJ3jls44GLP/w34ud0o6hFYYwyDj05iJBVNrcagh/vCclY3VsvbM5STkg1IrYyh5\n",
       "5ARdvcM+77xN0qeIk2UXcCXe+0P24mWFJ93DroQy3anP4H5eShwUTqLP3oJqcqgyHVZBLmSVonK1\n",
       "KBQaQZH25JJAl7IEoIXhcuNI36goYR3gSCcMQ0w8RWOUoYEkbAhyEJQ3TwQ6H95BccsPj5L4g2Co\n",
       "0ZRixo6gppQsApdFntWF10Sub96BlMN/EoyAg2flyAjfWyZrSzu3U4i+KuPQXkRG6HMg96ieMlwN\n",
       "ySfRjwf1KuX7+4jtV1pNv+ZwMkypGuVo1NiR5EWs7Xr0Fc3tTxI5zAtiCkukb8SxCz3DBPJanw7y\n",
       "4J2LyiKHn8O9JldfBic7hGAiAYaLFXwQDgjjPyX7jVV/jtgwdRZfBCwHgt23pmDRW/XRCnxWMGGR\n",
       "aO7iermmH96PJcbrm/CoyqicrlGDL7W/1v0n6n4dKLPTLthY7yFpVJ4kc16dj7uTiqUnzHb0LDar\n",
       "DJoOimBzclhoegMyP3sUWkCxL8zzPNJ5ga0A0IOBAAAA7UGfk0U0TDv/AADFbTDYtACReIbwa5KS\n",
       "pWXPIFMKEx4Ax12lnouNfgGiA2BVvPcfQHK7gYuhO4/W6ApPfp9w9ejepzAZqK5ZwI5OV2aaBM+D\n",
       "b0qMy6GSOGsezJNNgsarNiLBOi2bjUpIWJKaHWxz+CSm+SakGQvXFLYXgqo172eHlCh26makkp55\n",
       "L4+FRH44KDMlBuz/LTzDntoiBqdS4k2QdUn9m+x9+FyIJiPwtnyZyg4y0AFB6UI7WrhtmlnhGt+S\n",
       "235VwHIHqQdikgo0Bt+5vO+0uwHJFPqlVUU+x82/J74Ay8xNZGjKXbUGLAAAADwBn7J0Q38AARWb\n",
       "jeLbUxFcmSDauDEKNJWY0dqu539MTzJTlyusAJc0/ysc5Fj8FaSsAJ1D1rpX9oywhLwAAAEKAZ+0\n",
       "akN/AAENr0BOIdOzYUoAP0/3Jrm7cRcq7ADvUUGHw4v/K4Duxq/3FUA86wv1X/CO2oVomWvZC0Mz\n",
       "Ym2sMPww2ATf+5M8An/IBFZI1N9/39V+0QXsvTVWl3gUrZqokDtNT/mkEcQ5ku1azAxMmwKkoAhT\n",
       "O7SDc1O6eRxMtC4f1Z4Wk5bR4cpEkRokeabpuyCZGCyWGEDoH1m3FqEt+BAx3tsKwG5c7+lNQBC+\n",
       "4+f6yQVTbTLtVMlWW3Yf5hT9HMUpZqhu08QRoRSVDUmv3WkLYuQNkHGvQxUUlEzRcm9UGSa8rtRR\n",
       "6GEPgYeuD0An0mC1gZ43WLPuW/L8jaDXIB1gAWmaiTEIFJEAAAD9QZu2SahBaJlMCCP//rUqgAA1\n",
       "EMlbi3IAaxGsVvRD+nASy1YhrgcPtA8UGo6wszHN86t6bUF5uVC2cse1yP6+42nayM9MS1tmWAob\n",
       "rGKWnfb6rIQUXgluhXwTT+HU3AZxzDSSb8bUjleLZH3FBL9bXAGYUf6nRrJXlL/8Bs8LQeqQnbCg\n",
       "ZHtT7TnnqaWZHj4RDGcXYaxKTkInMxq/K7KystOrE+feN1nZXFkGUBK2ofkW+X/1kFfwZvdMqj6b\n",
       "ZwffUVFUDUNPg/0Ob44bFKYt7OvsTg4wwqosfT76qMUEVn7Pu5LC7vdpgbcSGmteWg9VzAH9rOAk\n",
       "U9HirPELaAAAAO5Bm9pJ4QpSZTAgj//+tSqAADKTRjk/pQIxTZ+aV4IgErho2Kv2PVRI7y5+b3RQ\n",
       "5CsYiikHN6My/JhZnq9xJLMPszhQB+u86nZoW+e3z1sWkCf/P/SyCOZOLuaxsaHanuW+w8oIRnnj\n",
       "+jKudNcTPDaL/OkzVuMERnIA+8C251x0MFZ6Rl+514I1Vzg7Eyj6FjRqRGaO5FSJI9FAFSTPIYZU\n",
       "DDjOp4wxnLpmV1ahakYQpCJ/h3PhYHWIEjffJNg5BoLbHVTAh1Ik65vDnbWYvY46LPM5OdCPvlUO\n",
       "qV1TMiLOI1jlgQhNeJ++jvSQsQSNAAAAR0Gf+EU0TDv/AADFbS2XgJyuvPKDm3ACVnXUTpWCUo4Q\n",
       "GE0t9rSX9eQwfI9E1R4EREyIJNZW9EPSzubFwAWGdM8OPb5uOA45AAAALwGeF3RDfwABFX1mqrFs\n",
       "iuTJCk6ikanjFUWrOuKFHh62RVcZmAAuDIf3C/gN0APSAAAA8AGeGWpDfwAA7ZQgQKwgATiDI5H+\n",
       "uHIdn7neTsI+qn3OHBmmGdvaf+4qYdH+mVQezWUCrQgx234JaLuQU+fzYBN/7bdGxMOPZR5CAxgU\n",
       "h1UxbgflIys4Dh+A/HTAzHy4iv7ZpUe99Cs9PIOBmeJOnX4JVw/qkbU+lXTw5SIw1oD5fzpRreg2\n",
       "xB8uYjm0FQ4RlHpJVON9YWQM+LnzLXoiiX9JzhrJBUfzHqpJd2aQmyI4z/lpRdboV/c8DMrtp1cC\n",
       "MEM1yBY1xtuw6AeR5YSjbS//4mFQwPyRfx9+492GWRGhTH79UomwBaBtRgZ1FBjDmwAAAUFBmhxJ\n",
       "qEFomUwU8Ef//rUqgAAxdPaSFACaXDFxc3PHIssNZZF0veF9Z3esQ+A6xA2mKCa9EnuRfAdORm00\n",
       "iZYaO09vjJdbDbT4NDIS4ZnRfX+8iw2LfAUUU8aZxOkrQHikyh+6CSg4vbHTizQH0DgHW7kS4pfT\n",
       "OR4J40tjksCL7COqNuNb1ApLmwm0FxtYbHqKnnvD89u6vEgIz1XGnWlJZz7yGt44odMGSRLqV2+3\n",
       "5eN6xjhycd8GoJJDSGmSx4I0+43ZoYBFOF7T5U2O2EtqKge1dW2Vok5Rll/gr2p+1FmquDgi4kva\n",
       "SyJtzNxBAd62ulEzLgcFnGNmiGduzOHwLaMhFG1+epq/6uoFbZU7UwS4pzhCde+jyywIanzFK8v/\n",
       "FUaomjmu5ffB+Wo+tJyOa4KXx2wCTY1YOvJQNatKh6QAAABxAZ47akN/AAENjJUHzNQAIalpJ1E1\n",
       "+gRNTV0HBUWvg+xhhrp4e2FcUqTz1eKjtA/48T0KPmpg1dlJql8zwgtqcNOwu+/O/6TGXV5A5dnt\n",
       "9Q0TuZz3/IMW5B1vGo8jH2cXwKFC38EFADHKSj2YisOExQUAAAQxQZogSeEKUmUwII///rUqgAAr\n",
       "hNXoBZVbt9wamspKSkifNOS6e5G4e/JLE+iD9oWiu6R99A8FdoO2rn+BPUxFyU+pXkIXNHlB29Ul\n",
       "p/bsfGIAGS/Zty2rrYXizVWgqSpOLcDzE2pMgf8tH11Oo9plXPDpLBWmxxWK+Y7FCi59Gp1EhX0H\n",
       "MHfT7uYKDtw8UGDmAaHzhtGSuE9X8BIYYG6cWNN5s6Mkim7p9Vqr4d2FVp3S4nrOpGbfT2mci6Tz\n",
       "GlwT4PTnQgfUwJUEvGEmOql1NzQ2vT/q6aq88qSaDAWsZcC+QmmeJh31Mzjn5SoKwY/OLiYALhhZ\n",
       "KuvZguWuJdiEjK8rb8un7NVkYF9d942/UyJ/yuZbPhMtV3E8p79DDPN/2hbHjeZjBDBW+hFw76jL\n",
       "RsEpdjTgKouO47uIw6UicvjZKIS2V8/wSBil/ZDutKhNrb4Lb5RRxEZofNB1En5GCTqVKYPDgZMq\n",
       "d0rXoCf5Bhzx+IAIr5K501pn9fJAZANNReUIVCnz/xrGjgpkbh4gx9EKpzSTBbRpd+pX60SeqB6J\n",
       "s/mv5AaQOdO+1AbW8UEZ1XDokoFXHpSWWE2JYJsHmgvv5fUsY1Ib0ETVIGIwJPg8Wbqnmjx2GK5R\n",
       "DZpMuxlt/wWwkH7rLHZJCtcInIqrNI+jur1q+qorUHM/SmbAzzuYInf/pdjaXDf8eyoOMKusoOxn\n",
       "/XeFFCvugmEtYzln07W8UDIV1S8qt5YV0dPHGTmqtk+amgGBSiIvWvqOWurM2Vy0CCGKC8Jwk3uZ\n",
       "kCpD9y2TxXl0ws2fFgIOomAoHX3GbLPWDwgAAa1YpYOFHYjWhHCu6Tk+ryUiXH0ONM/Z1JEhDKVS\n",
       "nsSV8dJ5uCrGLmR7F6M/xKmgmYpZMBMoUVVEz1M/guSV/z0ANp0Hu2C4a1XyL4a2YTLqBFx0C7x1\n",
       "+yQk7CWL9ibBMO0kWbcYdWjA02oiNS5JJ0jeufYreGDFvpuu4NYd02MnN/oRpRii1RNS6dvd3Rz2\n",
       "dWfzxKL2cN1tsoTD/A49QP8gLVSUlPJ6DYyatY3KTwZi3XGgeGYmWKKqHtY41T/OanOFWxcVvHDr\n",
       "LEich9mDLv9Y8bJte9Onp3XWBPzdQ+hQ37+f4CIVtvyGUA3TsVOAZxfl7aHM6n5LZT/ZEkQqrnlk\n",
       "2Nw7oqBBhDuzS9STzpLUlx5bNtlbbASyH031MC+U2dA+8ZDQXGdCEUo3FBIlHGW5Zb6SKR9d+sPl\n",
       "6K/G2Ek83NkfjFX3yCNuw2nvmsjxDPHhtDvCpt6V4+r6lj2Ed4/pxx1geWWzvcMplvq0qMBlddwa\n",
       "AXMjE7Cs2zEwkEceIZ35nX1IAWrd1/XxsAj9igmgzlw93uO+3/huNO0WACqcTCy1GI+qQEIhfybM\n",
       "e/GFjCgOr25bU8z9PPRXKWVyAA+SFLGKv4AoBE0AAABkQZ5eRTRMO/8AAKCYpuW6TFYPwF6rx9iP\n",
       "lwATtpzLNunlg9RJnovs0BtGtmjYqEu1MJgE00nEch7HM4g2kIqGWJFxL0PdVSHVXPseqZrhUSL0\n",
       "0BB0beq8IYA9B5l2ZptkHM4CPgAAAD4Bnn10Q38AAOJptKrLLdZzvuYOiCAEQZ+hygN7sywcpCym\n",
       "xfSRDqlD7iDvVA+o3Qi+iMABpIYAu5dd4mQPSAAAAFoBnn9qQ38AALonSGuGWYZRifb6/nABEGfo\n",
       "coDe7MsHKQtXq4m+LSEKS+nyhhjCm6RqVG8hE3M2nsumk6TeQS7pyO+5H9d22UC6RGldoAKwAovz\n",
       "K6x5rX10csEAAAS7QZpkSahBaJlMCCH//qpVAABW++qAFB8d/uol9Jg7XOy90GZZz5kOROI/DBCH\n",
       "/N2IM2pwwsasKfnucq8hibiShekYCFiHkVz+j9SLO//f/kEuflLAmuecATRWRdIlThC8NOAbCMCR\n",
       "Djw/kPzJJ2py/20OAHrtscuE99qOStO4VEIEDrVj/8BJuG2kqZLR8D44nS9pqYADHUFsRolJ0z0n\n",
       "AXMpvfPMU77T/BhYvCVzw3G/diENiaNb049QiVEyHBQcXDZm8/Z76IkG16ZNyMp2+OFPjMRqMHD/\n",
       "ZnLap01WI3t9BjwYnT/G1dXXWQ98rsz0gf/WevihWtJs9HMusSaq4yqosd1hIIJm3G4oh6oAGakg\n",
       "AL4sf/18p8Ao8LtZeuzegru11VzZ75oEUrLLQmoCt3KOyri1/tLkJWtmysLT8TqV0m8Q7vZapgVf\n",
       "nxvSFKkXhQ3ffnOpV5NB/A2MS+G5Y1INDbnAZitTGb+c+Z5pNRT2M4Tig8aygAUzTOPYCm0BQG/+\n",
       "CUoM8OVIVAOheH9P2+BGOuWsAoCyPwoDL1lMpRNqw02juLzuXDICfHCclwqJBpVqiEe7+UtVKhsY\n",
       "hCMEGJNDny0f6FVrwHVk4Z6+oLPsMhMdbAQTb7K++OsWDqz7+wv/g6hhSzoYPFzkXGrjdg7hXjhR\n",
       "L0j304G2ZEPX8uFMzui6XR0xFZh2dqOLHTi6407z0i+rdIzJXYfjIvOjexavBL3aeia99NEkU/oW\n",
       "ZgQrNFNejasYRq0cyEpJAOr2TrEoZL/w2bpZOuwwh3dgR5yew+PmUfoDlHDK7csqs9BYbHKvCjYn\n",
       "FH7vqFI/LoY6Rg+q6ZyiVWAwq5JWnkFOWM1DwdhlZEGP5egFq3mxW7aEhrlRhA4zLFmDDjIv/11h\n",
       "tldGPLgJW+p+FhVk7VUbyvlaoEPEXCzdVs9ZdvZFajH7YdR2y1MMGgwV/QWamJwGqHWk3rNLQEL6\n",
       "p2+Znwu8f+fTpAHux7sfKihuJxCyI8JFIxRIiI5Lxjo0ufXqZAmwtPRlQhzLSuEShvn6ztMxq/Og\n",
       "3zoP7lyUDQWRHoG2WBX11evb/xDUg0M+WBzA2XAkVHIlsh+myfX5EpI3y/2SEXvGu9NaA6Ol3Q1d\n",
       "KLo5YqNHNwpriUNFv3kj3P0ZTR1FbHiNYu/lZoG6f65Sf62KOAtgA++KA/CKANfWyCCKpLYXmrvX\n",
       "TIHy21qYx22uY5dqCZpKjQGpRDP4ljL/yPR+EilI2hXzdLj5touwGj+Vt169QNMgXQFRdZsA8WS/\n",
       "f2jpB/DEi0eZYOnCjetIW8w9vL0rtqtTY6yYDbLa526nvzmuLSODPRzhIGu4fMKKykmMcN40bG1U\n",
       "vTo0N+3gwtBxPI7ufHNryohwRRfbZzPJD0aSpPQcx8+6YGKtf6dT2Eigcwl40kZIycayHVln/y6H\n",
       "M5jD6h9r5zBM69QWi+wwKn6DbsuzX1lhY3Bvxk89+68CL8wLsCYDv/NQ1vDl6N8KbeFi2W3PL0Ve\n",
       "SWbtxLvuCmF1o2lPK1J6IU5fjidq5kDSZ4lnkuavoL+n4FInz7OBkIoYFHrpBSZjy+Fdr5aXPR3g\n",
       "2mG5zni5Pc40JT9SAme84GzXcWG5t4n/AW0AAACYQZ6CRREsO/8AAIg5RKwWLgKhfD6A6MwAfwdt\n",
       "pWb9iR53NVL7oqPvKVQSo/KXxA6PRb8upnfkdbolKL6HxuwW+mLQ8Z91/AiY3qoWlf4ROsVErMmy\n",
       "rVRVDfokcZE/K1z2dImTcl6x9WJNfOzJrEolOWXF+BESxjX8DMR3X+hOb0rBd/RWCUHNUaLphEoA\n",
       "N5ITkOZRNQH4l4EAAABVAZ6hdEN/AABm+4HQAIfOx+4a3ZmsUEZ3q8F9lopZWzsAxIwPX55tMpnc\n",
       "kADABehUxasgGWrpGyZp9OKROfNLvRwFhZA2tXPSvn4AJQFwC0YwcEQkPAAAAHsBnqNqQ38AAGdP\n",
       "KQAbRdD9w1uzNYJw7dTfE88ck6fuPZDn/mRuWhX7pfPiGIcC3rXQdd1B7zRGNrc7umEcFP6U8/OO\n",
       "J4bhMMBZ2ELKLcljjFK2TWoawJpMESeyuIeCbGqSgM3oNeEmtpDjqJDWNdw8gIJCz9c/d8AAG9EA\n",
       "AAISQZqlSahBbJlMCCP//rUqgAArhNXoBZVbu8WfVK/1Q2///9z9rA0J8iZR30AwvXRtfHrMwics\n",
       "79j1H1JARLwSAfm5SPJ4TGhg4LwMH46rwEeejHdVyNBg5dvigf1fiyUmnguhyCcD3RE/OM8aS+v7\n",
       "vbEThGmHofwx+48K9AukxLsY6pYTXmnmk+LPMasA73CTYIhz+M33mabABi8aMv7jS2BbqDmO26yx\n",
       "Ty7MIokTk98/0ZWXk3hSi6qvtbX7dhD1A6LP4Ofi6R+4RXHqqt6gRyMfx4Si1rXWJFkDlYEhda4d\n",
       "MrI9YFuLRtjxhLsu8+34IAy4B/5qKaAknmAASHoCCcnLWFVQI24Q18BmgDqBry1SUQIoi4rgyJ/P\n",
       "fdxxNiP+ZYZdmLipJZuEA/16Tl3QXADz/zDDz83Pb+GicD4J42RwQ9eRf1hGdbEYIWVG2xRlpZRQ\n",
       "bN1K9b/8SMeSwgz54EpsQEazO2HIL7ROcE8HshTXwioLwV2Ic2jxoQqse/SbQhRYtHjoDLAiQfMf\n",
       "RgBhCvW4XpdCAP2VYZNSTiRCsXoN2QWQb2vYvz8VCiElQgmDtGUGlZhVo4AypdGxmzU470TpK0/y\n",
       "j6dXYTpXEUNIiCkK/rWdrtyJS7fjYStXeMVRz8NrayMV9r13C90xsjP+lvzm4DzJ7oC/oF7E/Hu+\n",
       "7vMq/tpIR48xOMKzVVQ4REOnIeEAAASCQZrJSeEKUmUwIIf//qpVAABW++qAFB7ljecC2Af/v/l2\n",
       "tN33G74QhxMmzGhj47jB1dGRJvtL4Bdp4PNJ+vzc582gYhT9oLtz9eOox43AAfPTgwYuIlyqj9ZH\n",
       "uF8DI5Z9s9hcnIcX+8i9k5HmWxztIq+du0VblR7bw26mDtIPqYRhlGDnk+4tbW2UzXQ6tEbjucVS\n",
       "znzfbbwCJ2bIop73jc9DxzJ2h/FzjA0LB102zI8pu+NPf+SEMRVhiCwH5vs5Ic52nLBcX0a07ijx\n",
       "Z9QpWKRr8efd8UlKiUp08xv4cmOIMG6CdAivLuAHHmsH8g4W2UTcI1Zj1GXOVoIhx8c8zvjS4f8l\n",
       "JkeYM7ocLWuDs2L886XxUnHhml/RxUhEkfw+r49+Xgu2Bbo5T0Uvxk1QeeGLTa6wClbnjQoHPgyY\n",
       "DWv2FXuLtp7ya9qAsjSr3gxyD5Mzwbg62qjoQHxAhx6TU8VH0oPIMLbwgRVocsxcIr33s7hun2Tz\n",
       "EaFG7xckgKIJDhcgsqiaQm+1L93PsUWYuACNdaZ7M13K9Uwm0Bt1yqG+jKe54Bac2jEPEsn1e+sT\n",
       "eU+V7IyL9RicRXMQtbSgsY+PykWKT9wI/FDXhnDe8xUeTz/gDjOPwHz7yTaZZ2w2rHVHfuiiBJm8\n",
       "yp75CL2LZo3XCGp9IrkEMoExPrCKVxow2z6V6Fa07Q5Z6UtYuCKvJoUG1Ufq0Mjs5PtBNnDYKJLN\n",
       "/4owK/hGNF5CQh6OBHswpEO6yGCa5pTJwoSFGi8uDYW+93Cp6svwk8BDfvM8BJNIEO1FpcAGT3uz\n",
       "Qwn8Lzj3DUqHtXnEhcEsc9vsv2wnC4yeWixiyUrf4rYVZDB+inMRFs3P55qDPe9tSZz+4POJ9ry8\n",
       "k6EPDsUFf4rTwEeOzyQC4TmpR+kd26nLQNpo9xJmUws7yJPJDqOw5+qsueDSVW+n9ip0gEyrptu3\n",
       "O8wROOlCYlz3Qq0jTJZqIFYc0O2CV0XPvIygICO1RuECnaAdgSZmtSOkpamkc287aer8QNnVUHhq\n",
       "MnW2ORrj3EsHxbbFUP6P9N10xnWJpmfgRzsPdd+pUPvKWPG8TseWlUsra4vnvQbetOdEMbKmaehA\n",
       "nUFm+qs3HEyaryN9ktd4XvxxxxldITSfCY6EZjf3T/ikBT4sO5jINnggdZWN3DxRRL0QQljXVz0m\n",
       "lkGVOLKk4I5IMrwSBuXEN968V4sU4T95KAoMdgyV6rnnLjphX0k4B/g1cPUeoongX1LsVN05sWQh\n",
       "7xzQ3KNV5lfEPvOn6bfJVgJ3uzkOVDciRIimbjkSX4E4il8R9SooErUUzDnS4LYru381EebZtsnt\n",
       "wOKAOHPskjG9EGhYwgP0thrrKVEJ2IUHHrEAAAMAFDnz/SxxxppR8dZTw6YfNlF/+pftNuovQY7X\n",
       "cil0W8g1H+488PH+3oAdrha3m/CnadXyGmQUyUcp7J/AF2EA4mJdcTnEBUeX44Lx+01pKul4S61V\n",
       "HnCRrh2pXS78uMcjbaaCUNksBx4aFGbu4UbCATM27+Noo9KCKCEAAABYQZ7nRTRMO/8AAEhSfQAT\n",
       "qfA3S8Xhe8Dngsq6JBQtd0PMu023uTHutdjkYAGw52V6GqWd/N4A+jrkyYKrAGQGqit+tzWAYr7k\n",
       "wNCE5LijuGhHNaAeqZwh0wAAAFIBnwZ0Q38AAGcRsrgBCZ2P3DkOrhRYgRrKhwsW0u+OT7dp+QFp\n",
       "R7Lvk0N7JMU/wcCTacX06+fvnpG5ocedCQ+yAVxK5MXdJBWQ6JmbzFtDYBiwAAAAUwGfCGpDfwAA\n",
       "WtPNR2ST/oQouUzRax/nJqWOAEFk1+nSkdss9GNBLSkT1QgNUEz+7gVfkBOs9DLSa/9LMXdOzX8Z\n",
       "2bG49aploA5MRA+bBXUhCK2AAAABdUGbCkmoQWiZTAgh//6qVQAAVvvqgBQRTY3zLki4AD2K0frk\n",
       "QkiHgtlW6zmZXqSQ1S9Y2RnohrX5w1aQFZA+NQyJ+QrRi+ibDDHY72YVynJsy5/vWxmdG5PQZvYY\n",
       "lWPiUIA9lDG8uplmhz62EGtdvjgSYE41BwcJVCyIoIMyPTkq/IQewemujfV6ugtTncmsrP9oewzy\n",
       "6b7kAHxKuHwGw5I4y9HO4nA07xwaVp5nEc++NC79OscVoLT+sBFkYxRM/bVgpuZwM/S1blkARjOW\n",
       "DHRq5sc8mEvqa2NGQpykvD8+DEDPhhtyCziHRkkK72cAaJIcrWvFlbHjfzxH33CS0pazv2C+alsz\n",
       "lUJFBm5NzJbqU0Dn7zD4T4S0Ta8v10QM310l2tqH88gvTXK0liH3GeVjqwLfPzPzo6m1CmwtAhRb\n",
       "3g2gk5SZScMn3NBlDUhRZ6et//h0lcAfJ38Vqxjo5FrT4oZHknIEuC5CALMG/YnjQvJyC2kAAANQ\n",
       "QZsuSeEKUmUwIIf//qpVAABW++qAFB7lkLeDdGLSogNL9oSokiHgtlW6zmZXn0vdwSU5pYU3xH3X\n",
       "MgiivdrsUILoeWAI/ZnJH9JTX51EGgk3bcqu27dXLsvWbtaVoO06ewsjtlUE43VI4hclZG1Xtbgl\n",
       "Q29FA3nnlixF/wwfCAqEQW0zpbQRKsxbifAj/oMy19/t6+bct//VCNITS7hFkzmoYB2W2+92tTMv\n",
       "Lw4QWwXtmnh/prHAy6gIcQidV9M0IFRRfCrZQ4hRIV2UPCZlMmAIE9e4dNXJXAAxtt+pmtSx+t79\n",
       "itLDH5AcJK19tzWMbEUt3mePN4eodwveNXiCpWsJD465WQL9HgqZnAJwLT/XY35ataagAjN0g9Rt\n",
       "IvVBKcA97Ajy+wlopx8difIGBSTEZTcao4yrU0ggYH1Lcb0UF0+hY65p9c/uMzgwsNn2MBquopT7\n",
       "GGmUN3yW2zBB+LFd8yDEjPCTM1UxpMUTX9G3x3pYebftiMm85qQ6uB3t8W2cjwtMpHObKWv//Jux\n",
       "IIftxYSl2yoGb/fWUtK/MZyAmiNbJ8JXB1ZRjLE9jW3mOxd/DL8s7zZu+82zTQag+61TJXRdsnDS\n",
       "9ovdrR0vMpzBSlGhf0ojeypO/46lU02mGWY7wyJcygSxoRlHSrC0iKQ/garx5REriM7HLY8O5Di7\n",
       "DCcvuPWrLi1dybo2e4vCuSXRV4kdtjVRTWoSqdk7jTIpESnRb223SeHnePgmiYe8KtXgWhejkh41\n",
       "NclfyKRp0zfrYUFR8xqB+y+yJ37ibpHevp5jM9NFdF2eK0Avuauj0G8eFqEz4i6hvJdIJJEkWQOJ\n",
       "DAS+LIDH3jtXGQebmgcqKuYhy2dlV8YR0EOJrY9db/8IxZo8Av2IR2Ae0fFLNm7L+VPg9S22fyZ4\n",
       "f07scCrzIsHbdQ2f4+hsHWsYQ/3dNIeMsRMcnIXxRYRS+hudDv47HFQ43h0r4X3UTFC01I0uaGpr\n",
       "jAV1uwLUQANxqSPgAqCC+UzNqDbuTSNT26CcIFSaf3YogLXA3I1fbbRULK77chFnBbv1xP+iWtiP\n",
       "MJ0E+/EzozLJ28RdzHWnU9VVW9ek5rN55bT+HQZkgORtF64J1xQHwAIagQfoVXNuBJwAAABJQZ9M\n",
       "RTRMO/8AAEgU1u+gAnU8QpHZbDuqnvsZ/bUJcFvsgAaOrNc22++XZ80Na/nG70pdjwWxqSrP1+NZ\n",
       "cNwFk9A1b19OMJmLKAAAADUBn2t0Q38AAFriYNxCaVx+F2uoQXCWnJEjsTAAL+I5eFQP1qWogrGq\n",
       "WV9OIKoOHfMtZWB/gQAAAEkBn21qQ38AAFrTzVS9SDHYJrY0AIy8GiEVgPUokAH2I1C3EXtN8Rdn\n",
       "VThXMpB5CqeFMfD6PmGv11gHBs4XuJynNY39QuogIPmBAAAAyUGbcUmoQWiZTAh3//6plgABUt/w\n",
       "gYicIG/Z4gIpveCHm0UamBc9/QaWDhs/Kt6/FT2BpgPz0Wdxbsw2Qn04mJkxMx1QYCPh0OAATQVa\n",
       "3v0yu/uSSvcMqmi1BGCrx4P/YGiU7TjZzZLzPIftf8Qsq7hnApd8IL/ah/ME+6tTX7/mqkV7xcaA\n",
       "FPQU+CJPK0XvTPjJp7f8e07S0pGoIhjmE56k4Ne7xk9jsWgYOlXETKChb9k6fxoDB0n2fZBb+WWX\n",
       "AL5YN9C/29sNuQAAAKJBn49FESw3/wAAZ08pAB/BmfUINoFJM3Z0hKDvZatAm99dvRmyZgyevPUj\n",
       "182uWaQaSa34myKy0PIJxR4ZdRhaVjzWv6EtVt5qo1OY5KLmn2q3GFYIu2u+AyxuJStJRueFODje\n",
       "8hTdX+nzHOpZk7UZEFsfotbwCMwsdMuDL+Gp6wHUTSKS442/zdfxkcHhLHm8gMGRXqmiYnSeGtB5\n",
       "imkUOmAAAAA7AZ+wakN/AABnTykAG0XQ99zdBeorWOGLRcezAA0/A+90Agw049PKAj7LUEtTR2r5\n",
       "J5hTrrN18ldAg4AAAADeQZu1SahBbJlMCHf//qmWAAFS3/CBifYgb9niAiodwSgM5LU4rNRKlb7V\n",
       "FXB61ho6s65wLixr/ofkJHQnhPpxMTJhMei4l7v1vD6XaMvSAkkLT1uy2KFvQb5+zEKq7Bqrka2p\n",
       "2qlojUwCC13/JmadoGZmalSjJ3z7mJc5BRxRmUbBhdlZP6TuS2Sv75dZwKq2F3lH3vg8PPfl3fvR\n",
       "gRBe1pM+5wrr/zLSnNKNRBzyXGpD2F/Dn3oHG/uxPzx4jGhO9glpZDwB/k5gy7txJNw3UQAR+vFY\n",
       "NlHEhNeYyDKhAAAAQ0Gf00UVLDv/AABIJF30AE6oTQ0/XSVPNHUZwTp5oPRaN5MK+iFvbFj05ann\n",
       "wrI78VUAuNlod4a7YM2d+axXrS/bRFwAAAB0AZ/ydEN/AABl0ZWhW0Q2Vvz362FAICOmdAAnVbhd\n",
       "hkUed3Sx5/tFT89w90DEMkS29GLOMgCRKXct3c/dg5860KNu9MFFZObaJeRzRLf/EQ0cflY615zd\n",
       "W2kPzR264W0gEybppiqJq4OeS2n+KBxC6KqpCtgAAAB9AZ/0akN/AABnTykAG0XQoULLgy8WDACP\n",
       "Ju78pyy1z5zGueJpd1+1BI8wLk0ub8lyP28CuKHvFa/t/fE+gEK/8nqkmC6EaaDfJx3lvQh5QT4D\n",
       "cUkICeFRm7tJ1zu/D57ryQSetYScUIdbRsCG19lIcPwATUrh+av3lkauEXEAAAKGQZv5SahBbJlM\n",
       "CCH//qpVAABW++qAFBFNnqUQbjsxW1ASyR56R1Niv/PoUZBCkrNgJlJtS+zIrIr3i7HfdmY3W9+8\n",
       "qC3QRocbnVWDf8ELlTNMXyqbO26TIE4unf+zkcfp8LKOgqTw9Dqb10qcRd6U2RCbsZMrcORkp23G\n",
       "POnippyTFGvHFXXVqmTD76n+uD9X7M2hptuMC91gIikKt+cCjVi49HZ7812A9WCt9KCwmaHjHFZG\n",
       "DrieB1sIxmdlFXiqe8ctISvztC5RTceu5Uz6+4RVJu+Uwf70Y1e0WTQ+DxoQXgvzYye5ew3NzUF9\n",
       "k7oW2pTPvFTT+brXoiBTor6acEUiqo3OBc0XZ2IKDaN+OR39Qrl8V29FIaZGJD/hZIaSp1AfeUYN\n",
       "wjlvDZBy3Lct+rkynWJ3db5TMRzpg1MRwoFoAHD1JLMlB3Iole939FVQT8+1VGwXnFYIWuWICQ/e\n",
       "JUv0DlJkDl6ngfdq5rg37D8r3AOP3XATPWsiMX1aRK0VzltZ7laRWlQQmq52Fd6SlbUQDV9+dGFW\n",
       "HF9NAIGM+4fsxOn3cdAQmHJMkkZKH3P3nqGkGbJwK1mDVcFouG8VIqsUwXfFfJgmfhXA5Wlr5KAk\n",
       "79j71njil6B4TECCSLmanzK6RM9UBfGDl//vB198s+ZrwTVcoXFz8uEYVcscF3gWrc0SR95mwuIS\n",
       "2D/+ToEKbGiWpPn71i0y70xrmVIm4wxLM0XvA/gFHbIVjveoX1RcBPWsTS3lqLvaFT00EE9xulzV\n",
       "k6hQeNY8oHvLoEyT4NSiWlz+urNnYp2FfbUBL+OPWrD7B25LjfgS19WZOBiN39SnGMsXZ+2HVzSs\n",
       "iMryljTS65A9IAAAAOBBnhdFFSw7/wAAR/4lk2AE1W/5PtI3uWzrQ6oVpJrKYOXqWCGcl+X+Q6P/\n",
       "7kkSNKtLeBzXJIfDEA/hv3n6qnlt73u22E5aASOv3z2P6A5hkZTRfXmh8BCu2axqcINCKTHQEFbY\n",
       "FDFTCNs50Zrca8alqBEvm4cLiTxTf+H02cVyFg/dky31Hc6mPr+PIlzhg6jBA+QorA3CFUik+Lkw\n",
       "5ZhDXDgqhfgJH48rNx1dQ2Ctji//8KYi13FFIlz+PXODMmeC6Cx/r3ANUB3zzQuQ+akQu2Qdsz2B\n",
       "a0RjoHmyduAW0QAAAHwBnjZ0Q38AAGXRlaFbRozT58t7SQii0QMU7zpH47wAId/67fbh2/u4eM8U\n",
       "iU0FVoHioHOD9NM3OfV7WO6Rakl1oQewver1abB5vdzyzpLq1uJEYvuzMpm2riBQIZ14VvEFXVUe\n",
       "g1dWaa6uFwJJDfnsIb0gqCa3Txza6B0xAAAAMQGeOGpDfwAAZtKCs8M/oOWSz5u1wzpWrBRQWkux\n",
       "/5hNGmOr5zbYJY4td3WUvF/URcAAAAIhQZo9SahBbJlMCCH//qpVAABW++qAFB7lnqUQbjsxW4+l\n",
       "I6F9+8Os3h6EESB0QoK/DG/lYlmR+FHrYDaAGMiK3j3FwWZW5yZPKiAAv3h4upbgPXvrcus3ity0\n",
       "Ghl2x8pegC/4BP4xGONfW2Iyt/LR12vvcI6kNt0EJSBK8ePVPqCAbu8sZBg85oWLFdqCg6Aus1o2\n",
       "qqvsIFQG/2mbmxPComgVIs6EGZ9sDjJdnHTOaPqZbRjVPusAgeVSVb4INI1xjSAcvfb/29PkST5H\n",
       "gA7J+nj6CVnZTJlx+FnWwW9dAZmCCTYEX4jBHKIpb2uRznTwYdBLTbuumrpd+oyMy3vPkuQO4rWc\n",
       "C/53KcjiVKJHE377qifBJhMmIn2ojtVQrQDbHrDnTvMf142BWvv/ympYui374rwSxT0b3ib4/8l3\n",
       "O2Zy0BbJFR9lCU9tSA+ntNhoeppUkOJY2m71mEnqwI6jA/3ydgAl89LCX1Mm3rlmzkDNQL4WHPS/\n",
       "R/GKIW4yXsj/yNkRurRf7ipfCH37BWiyiSFt+5uoh0LlTz8ttg2/Y/onnGhL0Y7Quc4DD8EF1/OW\n",
       "DFKwLc6XDUHN2sEyGMMBKCuMW9pAdCGMl9Xs0y0z3VVkDc9mnQGmSNO2Jz1DxrWFU+gI+7yxaHCP\n",
       "cr3iH4rYqQuQ8ZQb/ka03StwPeBEtIzrCEuWI5t3InOioZZX0tiYP4axhdhEngp0idEhltNjhH0A\n",
       "AABKQZ5bRRUsO/8AAEgdW+gAnVCaHyfbLaUsS4MOOdKmGYY9Ege2sJWbZHRnbCpr3yr/q+9cTaCt\n",
       "rMBo18pxA+9EzeKzfHMVrAUwPSAAAAA9AZ56dEN/AABnBYyuAEJdMIND0HQjFfL3d6ly2LNL+zf3\n",
       "W7XzqOoGJ3rvAvUTIP8eYA/6GQdO2BzW2GyHpQAAAEwBnnxqQ38AAGcBdEgBCXTCDQ83UAWV0zjv\n",
       "EwVtdAREch1F/B46Vuws+c84NVCm5pGQ567H5Qx1ecDewjMIiLS3b4NcNALo8qZ/QDFhAAAAvkGa\n",
       "f0moQWyZTBRMP//+qZYAAVLnvgB6JV5KjqtCSAA45njhcDYc/MSV0dslPbm+mn62ycRrlwNAl2IG\n",
       "UUer4NX0W/NTsBwyLmuennKgp59gUxMhR8mG5+v7AplW8acPW6Z6TLpNtwrLKU/ip37pPxwci1DO\n",
       "42O1FhUAjGkxe4Db/tM987ncofHQe698uEx5P4Y7n+DbNwvim4Ym/r4yrNO91eit1gsipjn/G31+\n",
       "3Bn84d70iwcqIW4ms84XkQ8AAABEAZ6eakN/AAAkUoH3Z2OkX2oaAXKAEKYORKKnf5C0ysc6gdi0\n",
       "r/sKcfo0xn4SQmVTk28RmU+Fk0f4DRSXcbAlt00gYsAAAACFQZqBSeEKUmUwUsO//qmWAAFS3/CB\n",
       "ifYgvjZ4gIqHehYaJ/gbDlVkiEt/UVB6+TaknTpWbwc4bIT6cTEyYQjA9/sDP+ZNCDuZazC93YqQ\n",
       "0KI8xsc6AF4sT6UwH6zjplGaW1iuD2vjjHRz691NhRcVZizVhhgqfKZdRa3JyiAJS6QarNMLuQAA\n",
       "AHMBnqBqQ38AAGdPKQAbRjV6UmDkORq6aSppxKu0DAkAx1avabAl8s+4cpWAaegip7GuExzx5p48\n",
       "PtAvLdp7ga8a2AUhnAnHeTc3+bygw3o+vwjYS+2RZ6JFYC97y8j+oP09H3ol2zgK8YHYfAk3b25b\n",
       "sg+YAAAA2EGapEnhDomUwIIf/qpVAABW++qAFBFNkcdlyRcAHeuNbYLgbDn5iS6MG9QklnZRsgii\n",
       "vdrsUIK0VGT3TLGdnSSM9+X6J6dqVR4/lbVax7k9/Agy0eFXwNCFYRUGEEk+KqWTRB2D42DzzdKo\n",
       "gwarxmi0Kq0m+S51eaCjOQ5sAYhn8fd/CQPYkrWWa+HaITO+J+eyQKg8+uMUXLJay4GU2tjr9bsu\n",
       "LjoPjNtqJ6kvPpyN8t23cqhrI+NgODt5N/H4G/375OTBcBeBdXWo+8Gd0ZnY/+IxQNwPmQAAAMJB\n",
       "nsJFFTw3/wAAZ08pAB+9a5pSfrkj3Li2mRoQOC++xN76dFBi3IKCBDkfl4DRaWsKn6MuByTZvcEV\n",
       "ua05ZBhtN0XL6tknVMkHmev+xhCSEek18vg7X2gTwRimhFswdS8WQ4U2ZoNYFFIxU7eCTB5lWpV3\n",
       "A3Bht1vFmGbKfxLRr0vpLBJaDqVI7XL/HeN/reGCLbSH5o7UF+OHayYP6M6QNSPenXK0sxyRum6F\n",
       "tx2DVvzAUiUaN5eOOA1z6sgwXRBgQAAAAEsBnuNqQ38AAFrTzVS9SDHYJrY0AHbu7XeftLYhOVsA\n",
       "J1kw4iZ6EBpZtp9GTflfPjw+0DDLPBxHsCEtG5q4noGrwucNUmHqni3g3oEAAACYQZrmSahBaJlM\n",
       "FPD//qmWAAFS574AenQeSk/yy7W2s3V8j0/aY64gn3uuMSsGCtla4FVERCvb7GsALYmZX+2b7dE1\n",
       "Z/l7qjSGZUkNAJoYo57MUoMsPnxb3b4IdBqGjz39JHltZ9EnJ6qpvVIXtgNkMK3jvSY6atOxdJpn\n",
       "iUBs0I183NQGelXhG2yaQf3psba7KgHle9RZCgkAAABDAZ8FakN/AAAkUoH3Z2OkX2oaAXKAEKYO\n",
       "RKKnf5OhqsAyZb+kfDufHh8e4g/huOD5mN1y743QWa9Lm4BhK4FgaCpCdwAAAINBmwhJ4QpSZTBS\n",
       "w7/+qZYAAVLf8IGInCBv2eICKh2/A4i8h8lpzmIgxlP/Fe40CzdNsENCeE+nExMmG0tFnSsloTQU\n",
       "jiB/sDPhjNrgf6LkkUOw5vWa8830TPwk0ualGaVm7/nKVsTPYUiDgZMofjs1m28tA+GalJrSco53\n",
       "+DR8dZqhvQAAAGwBnydqQ38AACRSgfdnY6RfahoBcoAQpg5EmF7Tb3oU78q1c0A0/RLD2NcJw3Pm\n",
       "njw+0C8u5rUC3PWwCkM4E47ygO/4bCDDej7oSZhL7ZFnokrgMdqNNP7HbaqQRCbqGL364HZO0m8p\n",
       "BjKDh8wAAAJ8QZssSeEOiZTAgh/+qlUAAFb76oAUHuWN8y5I+BrCWBsT9EK3z+YkuB5ZPJ1eTc8b\n",
       "5MFZFe7XYoQXcOfsNwYT+9VBG15FrDbQufi96mXZm6QPd00gKjbyo3dMm5ASgqUY8FTq8fHRRGi7\n",
       "wrIpGHt83rnWbCpYzuZX3qeQecZwMefxPNM1+EdT6YJ6milZltEapV+kl6mP7Y/uoAIvRNzq+mmw\n",
       "TtpwHHpFU9STCdnmrAdZ5eChvIYO2jR3NSRW+pQeK/WZSnUqZzdmPV9adU+I0BA0eac7rnbiqyRG\n",
       "xTi28RzzWK0ke7vjMvyxgh73ACwRiajscc4ElBVFMK3N2McEU3oU6hiHEZGM+lTDj0UTSUQDs+3d\n",
       "CA26HEgMzJ5IgT4NibZ+zFQ8/keqVicbGxKz1VdzyQt2XE51idQ6jOLH91kQIDd4VhtdngpeWs15\n",
       "iGu6J5IKYfafBDFCEepLwF+DXVb9JDJrARG9LQQ3HQw9rdBGoEPxqfcSeZ3YUuAY6d04kLwixFNu\n",
       "f+8rJ0V8C9I3l8ltxrfx4CCNHl2PW6J3hVN4daEra2wuFfkUQfIbHPOWbpyAH8kGATIqP0/PRpjI\n",
       "a+PJ367v601SPodDzCRawbQ432ojCPXOx8MX1ClrKYueErWyFF3sh8381/xTX5qD0YDptoS35A5Z\n",
       "Mh038cihtmvDFvqrgZNEmdZ4pxB8A1qTPSwwHBQKSoY4ejCPkad3whnbK/gnn4d70W3PLbv7Kswv\n",
       "65ewwaMrrtTua8M00NBr71aBPZm8D0AWwuyr2Kz97e4v7MHXy2NCurFt5FrNxrWbZlrMM2ydTV2d\n",
       "9Y7iBHCcsw8xATnmigSEJqEHAAAA0UGfSkUVPDv/AAAZrf77tP/9sEVQXfzsUaNVmAEFQ6ABNgRB\n",
       "dcZZ7mnsA+KlrT4/rWFaro+FPfLPr4fNAuvAadoFPDO4XOce57BbYdktKmwsATlgOzbo3ms9mDGX\n",
       "UeyN1tqpn3fbbV8GOz7/M8QOg3wKDr+chCRC3OzCjWlwXL33Uz6sMGKZ3+Dh8PWSaYVucgZIxdJ0\n",
       "4nYVpiOn6IiJMXZjGABvnTJjhGgBMfe4A+LJYRyaNZfIt85LSuPF9DgOC570XRp7OWCM1PBAqO0D\n",
       "TCNhAAAAkQGfaXRDfwAAJK+2MRpAElkDheqDYABLwrQAh+C1BCZAjCS9Cn//a+EgQoThXTD6P/uH\n",
       "zl/GzX++RBLvQSwmZYHnGCetfz3zcm+/fZOmru42pPH++OzZWIOP239Cv9r3W97n0P/v/WRmbK83\n",
       "2ptPpAcIAIlU7Y2XmM+arWyLJT+Ig0Shsu6JobA7gvwF7L0IEPAAAAAyAZ9rakN/AAAkte/1mMSN\n",
       "LECIqxoOqxgng3Z0ZFKhOOEcmubwQRSImtFKI2iXkmcAqYAAAAC0QZtwSahBaJlMCH///qmWAAFS\n",
       "574AeiVeWO5vj8PODUWh5VKvzOEAwSgrjbhAFD1VMH2MuKN11htTBfxYQsiW74P2g3wuS+Pzv3yS\n",
       "oqvyVH3mFaED5gpy341LMC0B8ImTNumidojhcXfw1RHlHafRXR+7JHsazgFwmD5Lf5KDnJvTDCJw\n",
       "zIYBHqBNd2JF2ytEnXqo/spnARUrvFTKVTaszn7l/RecA4hott42OyKqMU8NawelAAAAdEGfjkUR\n",
       "LDv/AABIHKOjFzPhprYoW4tl7UnBIYGACZUJUvyWXNGpkgZcTQhhPOK9ihN5piTfk1/Z04ahU9qI\n",
       "FrAxwavi9fVjKRKvJj1dMgNB3bud/V84q4vNfLL7Lmcp9UHlQLaFcPkTmw7xEIPqc6dQ4MeBAAAA\n",
       "SQGfrXRDfwAAZvrFWRf8UedfTJz0xAcVAAIfsJA9B9ZuWcZBwZ8fecgG0vmHaxsOpRIWirjeO3Xo\n",
       "/xExy/MQ2Rb4+z1EtcMQakEAAABIAZ+vakN/AAADAC/fcgA2p5Dp1qALedbYqyoNtyCsCwSY2l9G\n",
       "ebGijqPPYo5O8GoHMF9jc6uV3dlgpaO82CG4saLnkl/qqAf4AAAAdkGbskmoQWyZTBRMO//+qZYA\n",
       "AVLf8IGJ9R6ES2Wccp5idOA/dU9xW7fj3BrVNDTWjzB/sDQ7Q7y5MQDl2v1ZI+sHMMibgQ+XDZSu\n",
       "soxnDHjNL47EPWY8X4T2P02eHI7XtpZpMv0AQMJLqLNPLcOoaI97Z6+kt0wAAABnAZ/RakN/AAAD\n",
       "AC/fcgA2p5Dpsly21Iin7VFQSQId4wiHsbEFC3Pmnjw+0C8O5rUC8UtbAKQzgRRetKb/zeUGes0o\n",
       "oyZg+7ZFmG+yBDHajTT+x22qaBNiVirldnmBDp8ojk7zqWwl4QAAALZBm9VJ4QpSZTAgh//+qlUA\n",
       "AFb76oAUEUhwXOPyCbHEXCn+16lKo8fytqtY9ye/gQZaPCr4GhCsIqDCCSfFVLJog7B8bB55ulUQ\n",
       "YNV4zRaFVaTfJc6vNBRnIc2AsFvcfecJmcl8vOSooxYFCWT09jjsbQ1UqBKHyqb/Xk1+059Q2pmX\n",
       "BxslcychZ7t1zAzSZYbLPatJiamW/pdpaBuvIHXDWnJdw+errUzU3ERf77cGNncHaPZZ8AAAAK1B\n",
       "n/NFNEw3/wAAAwAyZa4ATStwuwyKPO7pY8/2XP3xFT6gxDJEt1VBivCTTtN2z/CeqNMOnziaYYgB\n",
       "1r9PgBtGoCd+v6E8J2tl6bnRJKaV3DFLLevO9AcNuYLssRwtxALMV6e6ziTHtRaeo8Hk3fEpwUG6\n",
       "sHqTqXgVuRDqljSCZo7Tj4R1rKhf16zlkefSvFGR3My85qMR6DOGpzwYNFNVXSHO3P8lVRDorwhD\n",
       "wAAAAEMBnhRqQ38AAAMAMkAJ+5g1XRviw0AH8DWaEPsTm/PqwSY2l7NXzo1cXPUXEUjg8+58UFCr\n",
       "6jVe38GSQvnVJBOPwPSBAAAAd0GaF0moQWiZTBTw//6plgABUue+AHp0A0HOvuair2cA0RoOs5FG\n",
       "X6EC6n7DaFv4Mcawas/jdDfxtm22BMMlvR6ZyaqT5XYPOnU8cOtn9i9yt/mD9o+QaBzaYxMe/de+\n",
       "DpKkIf+wg5+Xhght9Ao1l9/A/bbI1L2AAAAAPQGeNmpDfwAAAwAv33IANqeQ6dagC3nW2KsqDbeK\n",
       "33uv8Pj7HO1moqsj9W917JugxgaAZFjqiMn7UHnQXsEAAABkQZo5SeEKUmUwUsO//qmWAAFS3/CB\n",
       "iJufCNcr/7A0MCKnACKz/248Wk5TJq+8KCkwYk3dh4eM0x2oAN+jg3g/yAkpdTmUlphD8ASwEuIB\n",
       "ZTDk0eMvKrX+3FnC+11C3yU8Bfiq+QAAAGcBnlhqQ38AAAMAL99yADankOmyXLbUiKftUVBJAh3j\n",
       "CIexsQULc+aePD7QLw7mtQLxS1sApDOBFF60pv/N5QZ6zSijJmD7tkWYb7IEMdqNNP7HbapoE2JW\n",
       "KuV2eYEOnyiOTvOpbCXgAAAC20GaXUnhDomUwII//rUqgAArhNXoBZeDQL8HCKzm8jPnVzsfjpB+\n",
       "jJw1h9KAErj+TLAly7aytgH/MYNBJf4Bj9t/cqP/gQ4cVpKUDpu5mj2Hi4AsGLdieAYY0njgQPKn\n",
       "wYPSOdQrViMWfNv97UR3cpcutB3/DIgVmoQONk9mb+yov9nEkYscOYV7ZmG9sx818AFpvO6jor8H\n",
       "jbOvaAAouFksNf4QQ+EMhQiwj5XqXF8PffTDFDIMQ3taNRF++9aLCBv2NqFwJ0YJZ3bbdDQQcfTv\n",
       "29MEtsrZDeh7v869Bbu6fVvX8+8XsUeX7j7cO2y+o40cBM7KvpY9wS8JIbdaQY+KtoLgb92Ogygs\n",
       "1B8vbwgNHsO861Wkr4X6ciPDX5IG9W1Ev/dpJKYKdZc/qgXXZhH2ylWPfdGRDen3OLyRRWL3MGwO\n",
       "gmXx8kqUF5rPnTosjRWipAPj8rCXdT4QnlJzrVDi0lu+2NXT9SQGTTEUm/VJjNcGYfemYu/RonoJ\n",
       "j00soZtUXIDuBruAgJuRgckqcGTa+QmoEAgk3jkG7s+GsmMHN763lzgM7oyfk9U3JDx2ZqGy+Nsd\n",
       "SxaBB9INOzWXlTT286mBvb7xfcLE1x7E3kb71SlD3j9eAAUN1OvJqKcbajAmpi6WiBFIZILQyIqP\n",
       "wL3iM96/g9/C0pZIYbLZ2Z/EH6/RLN5Bc0oGawvNrlrzgjbFfdz5GuxviQAKcW9/drdU6r3Jmh7P\n",
       "iLwtbniZ2/hMy8Ti9Gwlq136lMZ9Vu7m+WG0NW6WbLBmacMQ+aHPWaR09XywOxeAp9d+e+09hJWN\n",
       "OcPsfX/XivOyVsxn4UPyR0aPxRsGFsFiQmn+mfOnLp/EmVQi5pgjP/I/KtgfIFZlMmKuCSfpiQs2\n",
       "WyjIjt0wX6XQJ+NcfCdriUjJ7DEnlfT+tNhDPJPUfg6fYX1XYSmCPZPhOX5D8fci7g9JyWMMtMAA\n",
       "rFIOLKqYCMEnAAAAlkGee0UVPDv/AAADAPRoYNDO9/+mtT08m6oPDXZ/67TKckBMAAhBAi8Ski0K\n",
       "BgGQ95Qg0Jprq49WIerrZ+r8XwmGdKoeHJdMv6XsdxoOipymWaXylxC3Rp6dvQXfQolXIEfI9yai\n",
       "Mk7/Kn3cnxNB10ckg8wyYxomCxyE9IzUb1QPhmv5SBEUeNQBLc8Rribdi6RW+sbhMwAAAIYBnpp0\n",
       "Q38AAAMBYjwN3q4gA/v+BMuunNV9xX//beeIdrxmALp6XY8cdxaOZXy8a3Qa4Nc+z9ltWpMNCbcc\n",
       "rEX2ozM9d+8JCfiVO/0tTX5NHcRVl3MNiT2/CG3WhWB79pFz3/2U6pud+UjIRm+oo2A49p3MZpeo\n",
       "uzB4n/fxR3D7LYlq1I1GBQAAAHcBnpxqQ38AAAMBJa+Jsz8GYW2vgA2k9au42ppStojnVOLqBr2o\n",
       "G4URm/CGXxO8Ocj1fQroHCauPOSx1+IFtLVHKVUtADD+OmzkZwiEnFrhRPWFy4sVFGGc2qAhMhDL\n",
       "VDni090G785M5XWZbSKnGSYI72MYqyDPgQAAAFFBmoFJqEFomUwII//+tSqAACuE1egFlVNAnxPO\n",
       "BDOrPwWuBtUSc/PQkDTk/C8fYnVO0MO6h87qRrb+kxczLWBoh3/SxS2PQUXaA7lqBUIA2YAAAAB6\n",
       "QZ6/RREsO/8AAAMAz4Jg3yiZ9wvQATrWJFtprGU+k9t7bJ/urvPsZcD3yDaR9/2V7bO/tx56XJyj\n",
       "b5SNOw7KJrFqxlo0ZsuaXXIeoVZ5KibUwS4zcEJ+9axz2cvJsw4NaVh0qIYTpQGLo1UQ47W5Kj7v\n",
       "e8daMuWgz4AAAAAkAZ7edEN/AAADARWbi4M8r2dOHpkADsdw3Rz1PfNaT/UFswqZAAAALgGewGpD\n",
       "fwAAAwEljTglyx0BQY3b6h0tRVjEkDLi2Q/n3+Q51ENvVwdGFSe6BjwAAAEaQZrFSahBbJlMCCP/\n",
       "/rUqgAArhNXoBZeDQM4S7mzffmG+S6QknTfcUEBYYxrFQQpuwOMaZ9MXh+hibbrC1Bm2/+EFlwL9\n",
       "vwgmSw5hCWw72HRcs74N1i3Kx72FaAn8KYa3UC6iF31b233pklWy68zET8haL1zI2rIEj6PlZOHP\n",
       "1hLolCB08Y/trvzemGNvy3ZfvOMrgnTxCxEqaXvjCIkucVCKVQKLi08+ygOl//p3FrXOJDQq6BgF\n",
       "yrFDDQbabGF1uAKk6HGgifF0ahcBIkqBtWjlOHBzea0dDAKjhH6A6XTrRAijEMG807LVvLFX6HR2\n",
       "y17UiqJl9hvpiwePFUCQAdOTUL0o20yCEKjQQi32GhNqn3NoJZiiJkKTAAAApUGe40UVLDv/AAAD\n",
       "AQhytBN7RxwEnSiOHVVXAS+OyMaXigBLdHyk49HejfjRd5BBi3va9Vka5R/m/zOpDNtkmM6LCFlv\n",
       "qjuiGHawjw+3SPQFMOXM7qnOxgqZ2L7/qt3ra0CduUyI376pxlZObTTwQwgmi+AtGuFXRfmJq1r8\n",
       "4q1Fo6no8xng24mxgeQvJV0GN8eoR9ejwK//dYsT1kTKkwOf6vsKSAAAAHwBnwJ0Q38AAAMBferg\n",
       "BkAG1ShkY2po+QiKPRs40+3Y3xWfCdH4me+YUGupVUn1ypZlu0U3VN4LIGf/cHRCq0NXIfvL+xiB\n",
       "ObjnoFzY8+coNTmGLC5ZsobIgFSbzFsu3r0w7UmQoQNy1YD9z4rWfzERukOdFUOtPUV5aCthAAAA\n",
       "JgGfBGpDfwAAAwFrefJMeBnT8i+SaVdHp+iXB2bXh4I6Q6nlOAXtAAAAR0GbCUmoQWyZTAgj//61\n",
       "KoAAK4TV6AWVU0Cjk8IE3BIuzGOy3fIrFb6ipI+eenF4DsqflEYzb2C56/7AKp4Rq5Xu8LxXYA5p\n",
       "AAAA10GfJ0UVLDv/AAADANRtFzlgvABNXv4qU3vRsgv6TwTE+h8Q5UD7E9pGM9bpQ+FwmrOv2/JS\n",
       "FA8FWwAgnjRBqDdgC/vw2MRBp8G31gqb+MMCcTpcALf2jgootSBnYooD60a8Rlzfaq/EMkA1QIr1\n",
       "0RAyGre4T4B0Qelxhi9nFsktWSoamEQVlBnEam66PTAkVW7iCZiCTppnZothmErg+Kbm1beU8JN+\n",
       "aQ5BxZkLm+Cz/JGEcTAU3r/UQnnaRBYgx/OkEsUOlqFXEC9dyvQLJxZRLaTX1bKBAAAAJgGfRnRD\n",
       "fwAAAwEtfWau6sW8oAqUXr/KOxkX2U7bkBqCNIq5mFTAAAAAJAGfSGpDfwAAAwEljTglyx0BQY2s\n",
       "lPNBkY2RrzwaPxsRGohUwAAAAQBBm01JqEFsmUwII//+tSqAACuE1egFl4NAzhhinbpko3zTXAou\n",
       "2O1bOXcFuBTeZzRo/X4M9qQghB/Ok7HF04gCKiHi+RhokH23CFIZ9isl+O/kVC4bVijqV8B6rjUE\n",
       "1unb7LjgNZScO/ji6BKNERJ9JJWzzUaMo1coNZzd3MQEZIBUJvDzIo0oOLyefE8UF3HGTIUpqF9R\n",
       "5QlKMunlzOvqhG6VUCW1DS7+9twt2Jcra6/TcgD9VzsXtb3jVbsie45v3nlUKFyvsx+RiKZNpSD/\n",
       "weDcfUPpxPRqEISm33KzqOPQyePMskrLUBP2xyfGos3hXm1cegm14TBCvL4jKlETAAAAhEGfa0UV\n",
       "LDv/AAADAQhytBN7WZdSdKI4dVVcBL47IxpeKAEt0fKTj0d6N+NF3kEGLe9r1WRrlH+b/M6kM22S\n",
       "YzosIWW+qO6IYdrCPD7dI9AUw5czuqc7GCpnYvv+q3etrzl0YjJZtCbu5GsdQDCaVWgyexg8F7ok\n",
       "JageTQqX46pFMvsMqAAAAHsBn4p0Q38AAAMBfergBkAG1ShkY2po+QiKPRs40+3Y3xWfCdH4me+Y\n",
       "UGupVUn1ypZlu0U3VN4LIGf/cHRCq0NXIfvL+xiBObjnoFzY8+coNTmGLC5ZsobIgFSbzFsu3r0w\n",
       "7UmQoQNy1YD9z4rWfzAp0hzoqh1p6ivLQVsAAAB8AZ+MakN/AAADAWt58kx4AlifeAcCABDv/MH1\n",
       "kqThc/wDAxKA7BAr1g59w45JJKDOUGJEd+OEiK4LmKXFgIMwCLRCaLNSZxK2OS6Z9Uf8zlEItc4g\n",
       "Xk6UtiIejMcC+JIGNdEb9cyQ+Dea98IIWI7IoFWPoL/IJfXg7XgXsQAAAK5Bm5BJqEFsmUwII//+\n",
       "tSqAACuE1egFlVNAvuykhPpRvsRomporx/wD/0iRxXsLdeeJlZOJKC+7aZQy/pWBRWn7IsLPMVsp\n",
       "oscRn5s34qi/mn77wU44v9QOJ6TPNtxyXGE+/d8SNMJUiFz7/aQz7GT9fQqPwR10ZV7xuHMWws+0\n",
       "3vzD9fzt7UC8Ud+fMmQA0gQgldtUmbK1vuLUdDBzaR0CKSLHwceJKDQMcxMgqYEAAAAlQZ+uRRUs\n",
       "N/8AAAMBLYyUjK8T2MUNC8LSrZ52aPL3THtUQV4E3QAAACcBn89qQ38AAAMBLci9WnE/9yJYAxBE\n",
       "/gVfkDB7E+RdJA+IiFDNSu4AAAH7QZvUSahBbJlMCCP//rUqgAArhNXoBZeDQNy7IwgYaEx5fJj5\n",
       "tC3hIILSvZRnIdQIfef8CykEoMunyys6V7WCedsFD3Pkl+HpTf/cb/8N86AiF/P+kJCbNUnJjt85\n",
       "LD9H1g9Q5V4/d9MkGDsc2GDeybzkxPBatooeoOcitZT2lidmUi/0q1gm9/ZA15AtjHXF7ilS/TIS\n",
       "GxEfM1Tb7nCnsCPwtgIN5kpuur6vZvpyawvpw+MOkB5jEc9hABjPdixyXPLgwt6lXNRpOSQ1cCZS\n",
       "tmtHA4lRVlJznnDl1mWutHVzZWMHirR9d6othyugIfqPPJRsCNrCnd9xG4tjjwppzJq+Y9GYs4Mb\n",
       "8cdTug8nIULWiXPLN3VYEM0uiS0pLsL6LZFnGua4CXlCq+5ZyV+zsmWMTacK1YAgBuDyTry9DQOh\n",
       "fMJAURcVUwseeN0U0yclJr52OgXyC3rrRuOl2otqckfZx0bMoNBKy+heXjz9rMyDDBczAn2Hnomu\n",
       "+1dx3eEYoiJSjXcHuU/8exBE1Bo5POI7gYB8eVb3RxraAELNtUdET+gf//81xPb5vJafN2pNRBFs\n",
       "M1cnkJ2ApwgIQyWW9KaqadHhRN9BJGzrtHtjzmsw3VXC+HVl7aRiybz8qwFuBYApDqGRu3PnQhx/\n",
       "s9q5dlr0DyJLqYWowCggAAABHkGf8kUVLDv/AAADASCP691/QzShbEGLlMAxNeJqADSGlABNSPPj\n",
       "VATfj7xf+rxVQIyzptd9pD8ymaVWe8RXtUABswT8uxI8xzHC5xnyHeZcoAWGSFXFzTud4XNbYFZv\n",
       "j8EV9C+9zqgEJCNpFx32J1/huatUrMsqAkrSui9FS4lZOPFB0DvBugVzwWDOkpmaqUkxvdmGJEZs\n",
       "4neHzLawbyUOoXAreBpsrGlWK3g+FjCT156XExc3pPMtkpfjkF8Z3i19BiKLz0y7rfRzy7kdYINt\n",
       "CTJfei++h7vm++en7AytdI0kT7gDvEux5TZZaNf/qhH1ApL+gEOyJMp9oaGoDMe0QH//+gsqEu1w\n",
       "tuVyJS8DvM59Z77FAXnebY48HpEAAAAoAZ4RdEN/AAADASV9vAc36igYvBbfS1FWMSQMuLtcEy9W\n",
       "UXW6vkeBUwAAAIQBnhNqQ38AAAMBnABQ3fhAAh+xT4hYfIyJtKZCSlhO99wnamdgPzyh3zk5F78n\n",
       "RLQAhtuAwnw9v/1VzmUme2+HYR4be8u+xoSx+IzLkNuiY5D76iaaTANi1N0RmAsdZy/A+YsH/l7r\n",
       "UraHKEPTSnmC2gXnblvW9eOdxyfG+OEd6yAAA5YAAAHjQZoXSahBbJlMCCH//qpVAABW++qAFBFI\n",
       "dpbkYc+MQCr5/BDK/pgU7dyZWyOEgaPPeDDBkUxer+eeZicHL5HvKDHK4+pTMRFgjskQMXEUUbom\n",
       "r394dmdUJDxzwpqSHGwJ/yzougQQnAHPbdxnksu2ZJBqCpcuP4VkzS6N0N4xA3+pf5SJHljDCCb9\n",
       "B/6t36Sx9Ba9eoh9HTW5HB3QbpqEr7758cnA3hwqIJjyu8D9Zz5jXRx1acGjb2nulbxHLZTEHeQh\n",
       "fTrPFKBPGnivm80jSxbkQeToLIVeOxVt7LIi9rwTqjMA70wv8kpBdNkEtOuyXIvebVs2VQuJBUOc\n",
       "LGXnaIA00YE1XHhYWkY6kkM8x1cC6j4+4foz4PGMB6Dhjnw4+vJHFZXx9n9t3zV2jbJjwTzfU5/t\n",
       "/I68CMEtqvhbH2E+gCsPN4Z3LhRmDfeMmmBzgW9UBUohlZGpJiYHT9yHLMqW9mR83o8OAGBqpWKi\n",
       "bCpxKsdmmTae5zGgbMS/8qGP8WqBTcjoh4ws/hfqir+a/cQLSVpbGm07i51Gt2eZO2dni70d2Dv+\n",
       "YMQWdLyuApS+W/uPKUAHxyL2haHRmVMtgXkx2lL3mOAXFjXSSc/3z7TTvVI4z6e3ACl376K4H/49\n",
       "1AcdAAAAJEGeNUUVLDf/AAADAXROkNZ2VU33RvrpEMLwxlguCRu5QAAKCAAAAB8BnlZqQ38AAAMB\n",
       "LYyUjFnwJ6iRU+pBtJ1YW1VcAANrAAADVUGaW0moQWyZTAgh//6qVQAAVvvqgBQe4HYd78OKMXf5\n",
       "J5RsDL3RsardnyMsDtO/z4KSOz8SvdueIvZAzIYoL8Aqp+HKmwOyeWkv10pZ0S4d2kmfT79GoWt/\n",
       "1R5tZYqPIZCoSHSgo/peo9q1I1v1yJiGZFBJ0DE/3JzIbRnuiWIQgL7qm0RcvfXBIykcm3SsM0nq\n",
       "QdhYElH/yh+KR5/zgn1hMHwtRyXNzj2/cnNcIzR+J9EI3B3jlEJ41klYRbqCFweuFThIJ2/KcyZ/\n",
       "SerV4C/6e1xwqp00LV1ZbXBv9fYX6tp/AYpXfvDc2CXe2KiJFsCXpgCI/y7arEiDmADX/pjSoh1X\n",
       "ODIXZ5ZzlxV80ihBdXLiAFNRaz7btk2wPTcHavkuyBHdxg+us5qshlXHWl9tZyyoNVUtaTKQAA7z\n",
       "RZZOzmQnYPO08q4jdWFnvGY5DTG8Q5mXYMwGxP6B2m40nc+9tpxmSyhAbJVFjO1i2BZ2rQuFLaG0\n",
       "LnXmjdHgZKh33nVngSamXP7rCIn6LNj/Cq0AekkHvla9EQaZ8E8EUpl/BH1VM8uVCeBQ2Ciw1WVW\n",
       "N574RIo7HtOlthX0lWNoHPBWC0ORxfdsWsMRsaNSPpbt2amfD1vZ5ed6yQYeJIv9j5LXZFmEDwmZ\n",
       "mW7UIRNx62obxHRsjBtwypEnSreeypEI0KWPg+6o1HBqPJQ3UIMGxv0W1Xp3P9yYKqfrly158KgR\n",
       "0TN7Fchsr8qp/QyXo/jPZ2/qF8rymks/TG9DSWSTdAnSAt0AabPn4wn4eV+X7ueXYKtdz6Vz1SFR\n",
       "y17zbSGLrAeLjP18ELME9dELb0eZmZInQ1U+zU23WSYSxotDsz2sPvjStjrNhJcMBekvryVBmfa+\n",
       "5MQQERVMMOpCg03ZbWRpLKBKSTh7ydnJawQ9KwQfZPQ+yBynIxXGLiQ1CLraCYU4znQu71QvhsTW\n",
       "dhtje78k6lPlcF+IM10Jv2s18Mb4ly1EI43ZWBlAD1sBniwMQMPt1Euf3VeaWkYptFGgYroD19pi\n",
       "D8Am2essdeAeLDwrfnAyMs2L1MMaSaMc1y7oM/fO7IMbypMkAcNC9aiD9/w1vP1OlZZhSLrDH5Lz\n",
       "0i+Lqjrbwys7WUPz/Jq3oIFoTwAAM+EAAAAsQZ55RRUsO/8AAAMAu5im5XsHtDP6wQqeEzpYwMkC\n",
       "GFPV6KVrIlacmGoADQgAAAAjAZ6YdEN/AAADAQV9Zqq/2qHXgqbVgjs0Xv7afHOa5zQAh4EAAAA1\n",
       "AZ6aakN/AAADADJACf1xGgA2lELTpCUMWeM5G55waqFOfVe/sdexPy5T0J14Re1XPZagA/wAAACj\n",
       "QZqdSahBbJlMFEw///6plgABUue+AHolQ2OloYloHNtqtrbkXhK0RNg0uIKhUpVqTSjzb4mdG0Pk\n",
       "YYGfS43pRKNnf4+ACOegWo52AHSjwB5JL0YJQ7LdnYSur6/gJoUHF00ihltJSV58Pz+/jv4JiTTC\n",
       "MuNSa19SLGjw7TtI0ZcBD1aAYsdiaayY4kEsDZpVIcSAvBVcV9h84ByVxlu9lmAA/wAAADUBnrxq\n",
       "Q38AAAMAL99yADankOyzKALWRvcKWZ3eecGqhTrMqctdEJC3yzXh3fTFrTKnD5AB/wAAAGRBmr9J\n",
       "4QpSZTBSw7/+qZYAAVLf8IGJ9Z+uY1NHgbkr/YGiWpLQAgMh+1+rJH1g8n6fzkqw16qV1lHZrIBg\n",
       "qGpaVK4RreM0x4885p3b+/Cee1WgJQuMGS3xBO3gEDCS6jLZAAdMAAAAVwGe3mpDfwAAAwAv33IA\n",
       "NqeQ7KoXLbUiKftUTVmYzqCwuTwpdBf/6l48PtAmpqS4KSXMYeh/w2EGe1KfPAbAdgjJLAmuvD/A\n",
       "L6d7XH71ZfqbHE2pyQALaAAAAK5BmsJJ4Q6JlMCCH/6qVQAAVvvqgBQRSHYd79Dwrypv40s499RU\n",
       "4ejx/K2q1j3J7+BBlo8KvgaEKwioMIJJ8VUsmiDsHxsHnm6VRBg1XjNFoVVpN8lzq80FGchzYCLI\n",
       "pxSip6eXnJUUYsChLJ6exx78g/1zv/n5VN/rya/ac+obUzLg42SuZOQs9265gZpMsNlntWkxNTLf\n",
       "0u0tA3XkDrhrTku4fPV1qYo0AwAA+4EAAACYQZ7gRRU8N/8AAAMAMmWuAE0rcKTummIxWZUf1/CJ\n",
       "Cigw/JEqmJKrvIZbw+10kk9UmXdAR1SmpvuedNrYp5yR5zdpDCKp8K9QnhOXBZiozpGG7EeSTyFU\n",
       "k8Gl+kGMRD5x/m1DZvWkypnh3+DWrlfXNJWxjA+xg2XZMkHrDQAPMKRbVbu1l1nmNoiRHait0vGj\n",
       "8Y2epwQAD0gAAABBAZ8BakN/AAADADJACf1x3IAPsRs3SEHp3DChD6w3S2saZDJEgwqJ6DKo5QME\n",
       "IIXj76uNaQprN+d8xGWOO2wAoIEAAAB9QZsESahBaJlMFPD//qmWAAFS574AenQDY6WhHdIuSv7Z\n",
       "vx/FyQFIpOCOOGOzGOyWXBJtV5sufhblKo1GQCXrGH4iP/ooygx/3nSahVZ2AWofGAjqt1kPB6ZY\n",
       "Lf8kMvldaWUcFyweEltSAQhloie7bn6CzvrZWgx5gFIAu4AAAABFAZ8jakN/AAADAC/fcgA2p5Ds\n",
       "sygC3nW2KsSDbfNks2J2GS28+PD4+wKEOaQQ+8wUXT7oP91giOcD3U7kIxL4jOFFADuhAAAAXUGb\n",
       "JknhClJlMFLDv/6plgABUt/wgYibn65jVOaBuSv9gaJaggCJGkAxKyET240Ep+FBSYMSbi2RvuaY\n",
       "7UAG/Rwbwf5ASUupzKS0wh+AJYCXEAr96GlC1z0VVQAP8QAAAFkBn0VqQ38AAAMAL99yADankOyq\n",
       "Fy21Iin7VE1ZmM6gsLk8KXQX/+pePD7QJqakuCklzGHof8NhBntSnzwGwHYIySwJrrw/wC+ne1x+\n",
       "9WX6mxxNqggpeoAd0QAAAqZBm0lJ4Q6JlMCCP/61KoAAK4TV6AWXg0DDsVd3HRyqPWjkOKHm6Gea\n",
       "J7pYWWD29ZUa2KAzW18ZouxW7wEWFQ9IBB720vezj9WSLgfa5BDeriSjgn9ikM781h1R6Z4M0ecR\n",
       "I6wvnpgyutdRKRBPCBTUpBJp2g17Bi0Fg8XzFV8fZDjsSuqeBHvc6smbiT2PsTPtzKEuvkcibZvY\n",
       "p0MXPb5m6D+GguvqzxosAkD/FZHLznAx8FlkOciMRLpIauFU0yJBhV2gpI9y7gwhGOAA07jfoBjv\n",
       "9SEFo32jm51xpfbHqmova0dHd2uyi3Bbv4SaiTGSUrHTCpPMtIHtlCBG6QNVv0j3YnBZKDcpHN2z\n",
       "EyQq+hzwXedr+JPQfg3u3nbGBQUn2rkA/t/uM59P2ULdzNImWV9VxtAcjlkQ4SP7B9ry+dVhM5a2\n",
       "fnEn2C0O2BQ2nnsm5cadIA3vxIkStTamAJF5HttxO94ttbcz1yIIWbrwMgIQhZWzZszwLxQj0cJv\n",
       "VJCDuyAYA5mnDAFaT/lpL2Lhvuzi5f4m/MT1lrHVjbxDkJ3iwnxk6BdkyaAEWxZQwhrX/AHpngue\n",
       "QfnIqcrIgqvRLDXcv9Yxg5bybSLhoW7cApLckMEPaTZ9O26HN2qAt8BCtGbcIn/EPTenMdLAU0Le\n",
       "ysZMDDPky/cmSBH9KUvX8ig2eYRZ17AAcUxDWlMSeVA30nl5g1XFM3CmF1IBq+K16UoWpEQ2yNYq\n",
       "T63Xe0ogwaRyjjKIllGsoj+wfHbwaWV/51iqxLadaO4Y1G8ADfxwCfdUjrzkDwVUw6WvBaknobT+\n",
       "at9miWlA/1mc5ZyqM6hMdu2uOIaiZyFD4boXRh3GJBu2tZubKSjKGVRovsiLSKlk7CRwVbTnH53s\n",
       "k3Uag6he9LVwBs0AAADWQZ9nRRU8N/8AAAMBa06RY5kuIAP7/gTLrpzVfcV//23niQJktaDCx+7H\n",
       "jjuLRzZ+JhxFIvATw3hOYlEZWl8Df9dAPlKvwcIPIuEJ5lWgy9xP5tnkmh/DkwZ8UkeX5h4SWJiJ\n",
       "TtCjL4JWhk/8KyCnZY3Rf+hkQ2eTFYGzHii8/rknwlDtPBctRv/lIgU95TlsRq8qaog9kMB91rOz\n",
       "ZmA49p3bbo2tdTS//4/5aJJ5GL8gxekQEyMeFgUCoyVVc/GYyp/vCiXZDcUvOjzMmW9OMRdSAAAP\n",
       "SAAAACIBn4hqQ38AAAMBLYyUjFnwJ6iRU+pBtJ1YWvEOqXr5AAccAAACPEGbjUmoQWiZTAgh//6q\n",
       "VQAAVvvqgBQRSHT3Gl/MdSyurpGHEGw2E9wjTKdAx2zOnLbLCp0vhJ9sokBbQMdJ0JfLfPMdYuFw\n",
       "c08d/6xkke+y08fgvLdrylSTcpx4/LYLItmELL1U1bUStYrDiTvU+Xv4XYYdpKaWai/IYrxEx9H5\n",
       "Qp+aVwQxoalsVn/gwZRdDZL/VENSEV2I/hwJyNsethYrM0sCdG1WwScLmrND2smQXGgDeIQ3r/tU\n",
       "6nkrkaS8yPxu8bZWp5EVJ3qWoYJ3tYtXQNhyOJfZLQ3joDy+glTFTx11nSePBkUgrw1QoGD3x7WX\n",
       "Am4OmpyzZ/YUK0ulWPoBV+OAunssK/jhwNCvn1/jOf2g37inzTWJbhabRgx5ESKwImsqp6qkS45G\n",
       "tEelFGC3uIRFNM/xl79Bmi/eDSR5vwnyBmNL8Ttmr2nfJsIwWtLuS8C900YfYpWhH4XsehOmXTr/\n",
       "DTtk9QI2VSjQuQYpWCclKYXQrbkiekvUpLVrBuCjmT5j2V9cD1mTYjxCq2iH6v7r2ZI0R+K97U42\n",
       "n4eTjhDkgqmmyZRvHLR00g1Ct6qvIxLDVFaByArF2u8p8UUM2VvEAyGj1a0hmD4xiUHMe9KyIOO3\n",
       "hqwepfc4PaetZehGTE7BiSN6HbYWXEI5r+t/4h5VBD3hxc3NINGP4H+IqnuI9GU+QPEsJAeFpwNm\n",
       "5AUxFO5kcQ/1pY1NiBakSVdblzTT9zlfWWaNFbgXB8BOaIuDbZc+vuBwAAKDAAAANEGfq0URLDv/\n",
       "AAADAMVtLZd/qoGBTlar3gGb8S8nWG4atjFXRq04sGE4ZsLWl/mB2sAAOOAAAAAhAZ/KdEN/AAAD\n",
       "ARV9ZrIqsieWuqmLg4GfUCm4h4wAAF3AAAAAIwGfzGpDfwAAAwA4nawjPlUFcdBCRhY2hK07QR8Q\n",
       "jLsUwAPnAAACQkGb0UmoQWyZTAgh//6qVQAAVvvqgBQe4HG5lWwEjuX+W8Fn+3ptrbfmq3c0B7/Y\n",
       "Vu8NKTcFXe3TZrZlDhKIfw6ynuDwtWVrcvt8+FFed7ECb3C8EQxIjjT9spN58/g23C1DIt72EcoH\n",
       "MvqrdOLOmCfSiEWPbnVAcdu0QRKEbN3tJtGF2f79xMtr8Uk8iTq3KP5lXWfANY6kLgM6RpkgTVfH\n",
       "aorunzxcePGeSpUB64dXqwLWccd2TItqnN/s0Pv7tkuWxbcIl17yav7RM36x7ownr1rbVjBkzsPE\n",
       "KDIPiHSxTOJrIQwKL7bNQH/iSXsiTVgqtOdgO1MiP85JmTievJAjrTEDoRmz6hbQfAea8zx6XCIz\n",
       "gYrSiqp88G0foqWtP+gOU4kfHPPGkIpi0FJFW9GtLtOAXqoSVOod6kHVFmzF05p89aWEfQ3UcW6F\n",
       "C5M9egeruxbuytRQQ53ZfaCa/b1NOD0ic9MuBOJiZNN4KWRYoB5rJbczNYJ4Jj9MwACcRrfv0qy2\n",
       "Tp4cL/0FP87DXAqpEF0CQcqyvw5EpRUcBdul5zUd4bKwOu3nsuLtoFIw3EaPv+A0lHPaSGmn4xQH\n",
       "0iDh7sgyMtnkO9e5paaHQ+RIC1b81TjryN3rW0lckqOX/+MMwKDCXfQAnFyrdEkC1IOXmhlHRIQB\n",
       "2NVmbQqD+8A3VC8XxTVNBP7T6OXpmsW3doPqtsU25OZMkRqqnXQYLtNNVom3GzF1O4Zjqj78wUgS\n",
       "FZyjCf2ciBX2A6NqVYTfQAUlAAAAQEGf70UVLDv/AAADACEOSbLyB5aAEslrJcnUkrsIvDMrUffZ\n",
       "15KqCc+J8KtsNmClxJz+PFvBjGhrtq3+Ut2AEDEAAABkAZ4OdEN/AAADAC+9VSu6ZR8MzRkVIAPj\n",
       "uYw4AHd7z4VSimqh98pMdwVAP8q1LpYgjuzBRsJgdYAuk5FBAQUlutxCxtzV2ZeMcVHpows5I0a1\n",
       "1qe2RRrR7GoKzexYNEVme5ABIwAAAD0BnhBqQ38AAAMALDRGCSAE1YO2OfZLig67tE2VkAiWpds7\n",
       "g2GQrl47a9yetaKdPUo8+SlYb8Gd6XwTgAgYAAAA/UGaE0moQWyZTBRMP//+qZYAAVLnvgB6JUNE\n",
       "lXVNmUGy/pgnedWXRdgGwmXYdWjfGpedBO57XkqU+1svkEWkC0bppOFFkwKprj/yUuQz1WbsdfaZ\n",
       "J5Pu86AkzaGq4UZxeicgft4aahfkXEEzR+GZolcoPupmSfA/+T2lrt4BU4K6uJes98Yd1MUcOUEm\n",
       "yULK4kQFirQakJDYmwCBtoHNuE05hjw06Q3Ql/uX5FDlqJDiCTT0Qgq7bCD/RO/0Qmm8hHPNQkCl\n",
       "1aXJoueKzTgBfyI5JlFTuEgqa+dPIosGqIvkmsP6BSfX+mC9zeLoJo3sEig6jg0GsLRk5ZkABF0A\n",
       "AABqAZ4yakN/AAADAC/fcgA2p5Dpsly21IinjWRWOv5CjGvwR5UMYQnhXNK7be7X+H2gYU8rU0h9\n",
       "ptlvQ5u1XV+f3rpzo/V1ptc8yz1PnrBbAudymdQWBiA8hEXgS+lf05ZGkZd3AAkYSABNwAAAAGlB\n",
       "mjVJ4QpSZTBSw7/+qZYAAVLf8IGJ9Z8I1yv/sDQwJn+0hlOVs89Y95vhTP0/qY3PgUbyIxjliMh8\n",
       "zjV+5MSlGaY7nyLDCqXwdTtElM7zFKQoRrRIQT7K5mjjY4qTy7bgIC1wBOwAY0AAAABhAZ5UakN/\n",
       "AAADAC/fcgA2p5Dpsly21Iin7VFY6/kUG+9+PY2IKFtt7tf4faBeHc1qaQ+02y3oc3arrRWV6zcj\n",
       "aQAPnCJPCaJLwKNNweVEdyvve9rs86DtXfW82r2QDgANqQAAAXNBmllJ4Q6JlMCCH/6qVQAAVvvq\n",
       "gBQRSHDiFoHgb5g6AKsierCaW8M4wLuJCxlN5TelnuLvzzihpJWYtlKbCECzrBgxN7dVeUW6DpeC\n",
       "Tf7ZlZ5FDp7uE/gsXMWnRZr5ad7F7935OpdfvpMkaH8rdMxHCrFIYfFhRu7fZ+wTGkeC0gLRHW7R\n",
       "TyCTV1LvrsZP+vFWDqQ2T2ylxbkZq58rQuO5g/Ry8PGPrbJeYQuzGFrs6Y5M9r2mNb16GQMttB0P\n",
       "ClkqDnSiBzuqXIlrLrXdJlKe+x3wsAgQUMyfu3zaZ7LavpEYgHh8XKKHysu11K3yd0y3Gpi+oHJS\n",
       "j28jFg8nb/of8z7erNifAOyRJtRwMgYtuMpQ1/6Q/POcgKOiHfAI3D9LnKCgzyvoqdw7m8j9yy5J\n",
       "QVl8zMq+ESpIWdvXwwgfCgfhTHz+nPJ8r4eKRS8C34RPPtEEyQPwSgLcXb9ZUX52avJti9laS3GL\n",
       "D+y4iqHUWQAD0gAAAGFBnndFFTw7/wAAAwAjEf15tjen8riAEtPZilwjgLRd54ByjBd9Fcluh86B\n",
       "c01UWGJYyr9G1zWrLASK6zPobxmQkanmVfNOLy6SpOWNVI4RoZS+sy0YX2qhlVFVsbDAALKBAAAA\n",
       "HQGelnRDfwAAAwAsUSU0+rIHDIHGKdMgNzwrcAFtAAAAxgGemGpDfwAAAwAyRdJiCu0SEO3FAAJ2\n",
       "7pZPgW3NqrWOFZDlsNkwohumjk4rlPkN74IT2vX/7RVPaCHFNfTTY9cnCSTmZgbZZ9n4xnBW1+3B\n",
       "RycJ+JYEjlTpMj5NcEW940aVig1VCf2zl0uu4SH8rqvTMhUi9/LwRP8Uft6TjuGU2Kqd64IDa1lm\n",
       "Bjrbv96gxB2qVc+Wuave71YK14mIxinNWTU4rYqREn4xrC0kuMJlIhfSO4aTwzB6RW+4iv+JOGiD\n",
       "5gABywAAAIhBmp1JqEFomUwIf//+qZYAAVLnvgB6dANFQCUmcyr7zg3ETn+2b+p97JrhszXMfx59\n",
       "KPvCllJGWijZtD62EEuyk+EJtXw/ryEGfzkEk3J8UTx/ApdMu27YDxAoTHBHexPczMONwDWhBJIM\n",
       "cPuQSa32lUmPsk9JHjqHe+1pWGL6I21CDqy6wAKTAAAAY0Geu0URLDv/AAADACMOSbLv9VAvUGf9\n",
       "h988OIAPir0mTgsXe81qgas+aemIBsQvp1HW/lxIEBfOvuwqOxlayYqmd/VhDaYVaPPEds1b6upZ\n",
       "+pVK7KqWiMQEp3dHcf3z4gAwIAAAADoBntp0Q38AAAMAMj1VHpKggBCdhKZR22NkVlHBNYrFr5SS\n",
       "QzNsgOHLqDJn5Y5R2zjuEclSvnYgAKmBAAAAQAGe3GpDfwAAAwAv33IANqeQ6dagC3nUqxUoNtyC\n",
       "sCwSY2l9GebGijqPPYo5O8GoHMF9jVr8DJ76H/qmJ3yAD/EAAABUQZrfSahBbJlMFEw7//6plgAB\n",
       "Ut/wgYibnwjXK/+wNDAipwAis/9uPFpOUyavvCgpMGJN3YeHjNMdqADfo4N4P8gJKXU5lJaYQ/AE\n",
       "sBLiAWTAABDwAAAAXAGe/mpDfwAAAwAv33IANqeQ6bJcttSIp+1RWOv5FBvvfj2NiChbbe7X+H2g\n",
       "Xh3NamkPtNst7L+wBjLyfj3Os0AmGBHUU5Mo2WaB/ve9rs86DBK/rS/PahAsAH+AAAACxEGa40nh\n",
       "ClJlMCCP//61KoAAK4TV6AWXg0DOEu5s3z5nHzNtkhrD6nw6ubx8ItrbgcY0z+PQMMOOoKOsv8PN\n",
       "t/4KmsOUUImK/q7sawg2+jfitnd7/D35Ayi5gMd77IQIISgBu4joc/i768JfcDMOA6eyyNnADOCN\n",
       "i7HU5L9I7PqOKlbfrPvpHUzTlNdqZYQRVL5RL/FONtmJ2aFON3eWsnn/vGAAAASQf92J1de6sKdi\n",
       "njrUJ8q3SzQsYkSGoOoVsvOO3O2ha+YawgQ0bdu6JmkTLz9DSEhA+aPzNJs9gQnAkGfW/vq9a/4Y\n",
       "GkfH4rYe13m+njbSGcxiij5zjDTSN7jqNlU0EffEPyZtL6Kxtsrs7kDDC+g8VQxsTVfwKdmGM9rq\n",
       "aBdFkIKM/7S4wtHbRd/YDLW7vdBJ4PQd0ieqnZaCTxXAbxKdr3t9ab7c1ghvW2lqmlQxQF7op2Np\n",
       "boJfhv3MwZ0G2IbOtlRI3C/QUeS62k1nb1kvfcebM40JWjZmddjw3c2ZTzIREWbIKtqiwD71/ghy\n",
       "Rc5Kvbu9Whl+Qu0AXeT8KlYC1Ngc7XqgX+dNfiUrs1bNyb2tlO0Az2h2sEJNwxRcftDf30tLbCS0\n",
       "7BX5qrc/wLASOKYU1pf3JmL/WO188eoltKen1d+Ype1bj9bd6GbGr5t6pgG6cFHVwHbftE3/MUtS\n",
       "zWKK1+4zx7iuRB0IXZsaBq+rmlOJqXEekiRRhdLnhXS7o9wktuYIeAKIgBHJXn3xQw1esrOTLV29\n",
       "HTk6WhMmDVIh5DhaiYtVDjauqannL3zviPO0qrn94fruRHTogTOACEwZ5d1a/w94wubGdu6ds1yM\n",
       "CIaz36VULS/2YEeD8vewNZWW04hBbjibuIY4lIVhffLOBBryDGOeFiBLmPX3hKoydGEj9iAw4+hH\n",
       "HnYmHUhIV0MriRl9LUkgAAAO6QAAAONBnwFFNEw7/wAAAwEIkA4AYq6d56wAmgC2CUBAA77Ws0gj\n",
       "lkDephOg6j+hzVmHnuLhZfisUxaf0YR82Tfv0uDVVRRSnKSAmdV5bc8G5zyjBbuPaIwMUBnOE2fj\n",
       "lGIMEC8jdsZbVzIHYP0qw9Hw/90hr5I6rFr02lyld+0U5vbkc73vt5N0qrL/eAgJTxFH4OJQGs8R\n",
       "9bfBkldAh9dwuE5HKqbmnT8pdAFCghx2Kpg1IBqRAFNrEcrC3nF0dfi9uBNdcOQSXPidBEsRCszS\n",
       "aZqRv1AazNX9wJTiFcbUu6ZS6AADAgAAAC8BnyB0Q38AAAMBJX277sbHcYpS1okqKMD/BGMoNYvo\n",
       "j90JGA0TOQHq37CS9gACTwAAAHgBnyJqQ38AAAMBfgCWxQAIg17O7LD/96Y17Rs44BxktlmZgVsy\n",
       "9k3FyCg11KqoGBFlQFnIVC1OJ700aIf6Ze9DWAk7y/sYgTm455zVt3xDw0gksdieFG7mMiAX8IVG\n",
       "qcxAVxV3pwLrBhGy0/ohodCcLnvQrwAAGVAAAADIQZsnSahBaJlMCCP//rUqgAArhNXoBZVTQM4a\n",
       "+/PXfkM9fUQ3uZjTLRSFqpT7HPZ005T0MKeNWnXjd+jzyz6SO5zWaE7xWM2aG56YfrEYf/lEjfqT\n",
       "4PMVFT9xf6ThwbmSMIAv1Vgy+xaL4O+2foc0js0q15NwOBVyxrmL7sap4jaykdrlvDPQFcS2rJs6\n",
       "szilWpwVgNoSGmTGvMTNF9mdIRQgfw7801UtP2y92LKYQ6QiEZviw63tVJSkcX1SrEGLonlkuwAA\n",
       "B/kAAAApQZ9FRREsO/8AAAMBCJAXswDa33LgYReWZkJlsd4+eHkP2IaWtmAABZUAAAAhAZ9kdEN/\n",
       "AAADAS19Zqq4XE8ZaBE0w03j25kcG2jQAA2ZAAAAegGfZmpDfwAAAwF+AJbFAAiDXs7ssP/3pjXt\n",
       "GzjgHGS2WZmBWzL2TcXIKDXUqqgYEWVAWchULU4nvTRoh/pl70NYCTvL+xiBObjnnNW3fEPDSCSx\n",
       "2J4UbuYyIBfwhUapzEBXFXZX9LosuFyTVhllOHMOsYdT5ZQAAELBAAAB6UGba0moQWyZTAgj//61\n",
       "KoAAK4TV6AWXg0DoheEsMsMW7Wa/HoMhVz+3QfO82VlUg4c8osNpAIPaVmVpq4mmA2/RWs8LRqtW\n",
       "nvdK1aoPLPyDmG17ha0dVKI9DB0cXbclnTq1kv39Yv/gSu5Q6fGYu6utzUEKUs7u/mvQFUMwuXAz\n",
       "St8B5XhNK0LGuViSZZooaXKEzYQPn+HAogdqLMHm6Dna5Y/Zt5X75eJDMdmuXpoXd1RpgfHqJO4+\n",
       "j9dicM7tcLUlmY04ekOQ2IpP89FYGVzyWc5LQzOfXxdITUdb39PZQdTVLFmTAMn+hOlMn95QnHXq\n",
       "t9MMfepyqlufXZuYaKYqV89vMTj9qFvrR2G4uYkbDpgBATGq19DFP5BExuDYm2zqn48DhxZopeim\n",
       "MHTMTdd5qOongfj/muNoG3OZ3/4+23SBcEtBM0kJj8S1J5Iq98hAlEsCptCitj7lR5tlcrlhHr1u\n",
       "gys8agEt22YO+roA5tCV7WaVir/yfXwoampOwfHjSmP9FeP6ajm5uQc4BN9LfMVfLAxjHav+liKj\n",
       "z+bEjjW0VQ5Gpo/G8C6Rvk/AvCIXZgHbBJPc85Bo1NUqV1CPbEUcaqtbK8bpW4SK4lSsbNbGHwwj\n",
       "xij/ScT1G1ssdiATTQ9ViADpgAAAAIlBn4lFFSw7/wAAAwEwj+vNsb0/MgpIkmf/KB+SvIAE60AD\n",
       "MT+gB9/tzRcHoA4UehoPes70O2310yUeWObELj4Nyyz15QoLA+qOiiBCs3mukyJtAzBXkIRLunhZ\n",
       "GuyJIZlcfT8C6PCTxYdbs5YU990axnPXEpTdlELHzuddA/5ls4uuxoo+0AADmgAAAB8Bn6h0Q38A\n",
       "AAMBYjwNXzfqOK600dzFklKAgBTEAB/hAAAA4gGfqmpDfwAAAwGwLpMQV2iQh8sU6ZjFt6vAAJeF\n",
       "blkbWhYRwESNj+X/+vTNjFUzZT32kGoZsn0J5aLMn2HUXeMsno+Fjto9qf3ylmbBzb7+7QVallwN\n",
       "YiXv7IWMZs0FQGklGvT38QwXHbJSf3cVbzrrREbJ2ER8+GpVQHoYVESnP3DshTqwgiytNQdYK2C8\n",
       "+CAraZUotCnxmKkMiP5KU+ovuS+2hdENu5yXn88HSaspx6LxA6CP/b2epnZ5+PHndYZ/yhi3vQtf\n",
       "//6wWAYSN2NydG6I9RO7gFK+uqHqAAADAXcAAAJSQZuvSahBbJlMCCP//rUqgAArhNXoBZVTQOI2\n",
       "NXWVwlm0ORvai5vf+h9uDjKmyuPk9KmE46ZUhPFWwPrUANVFBFkbndk+eqkHMKSIyMD2yV175HkB\n",
       "GuczDVSzTk3E4v4KrzIZnKZYhZhqwV3CuK3a61d2o848qdEouiX8hnX+etn7WX7Zq44bzkFkr3IA\n",
       "Ahbezgl7S5rntf4Aov00aGv9n23RpuHKbekl85IzAwNm5i2KMN2zUpRjdpf4AD6n+bN/1uaWh1nC\n",
       "7yZXwzGU/Twyx2B75Twwh8Vrw0N8VzNF6sgevVwPOHu0GTzGEz3ziSjnHZk3rx7KG0V/GQTdI6yS\n",
       "a8xwvMtWGIuhH8cH0Hs/w1ZAArS0n9lACnn/XivzSuIYxxSomCDURxSpMwbcRAcRPZAGbba5O/Bx\n",
       "FkY29Hs5g6ET3XEoC458CrRWFkB6Vv91Mt6aGEW/tZPootUMxc81rYBxNTtPBhvV9oNrWVfKbgYR\n",
       "k7nPt4Mgjp+nnLJWYPfXX/oRpPRUfBygpXvw/8FHkt2uxBIsVIK+YQCXBNAiFXRvS+v5hyQNHBi5\n",
       "0b1LpTKvYRSBaODWHM8Z0l+nmu7HQEYgiY5ziOA5N5JuCUFsqGk1DdIY/iPeEAGTKcKXCGUZhTO0\n",
       "BfgMkXEg2qAg+pTUPZgxLyGLeo1WzguxXPR5EZzYsf8z20qVuivS3OKkhrDAQnBSCpsfteDXKt7/\n",
       "bv9NjtGpteze1gYkXZV34pxSd9d1IyeM/O8c6qLrTO+SU8xtp1llKkTQYGyoM6M61UAAADPgAAAA\n",
       "R0GfzUUVLDv/AAADAShyTZd/p0f/gAHDtS7wSoXEzU2U8dwgHy8wz4/RkDURgMBd6TK0VBTRQT7f\n",
       "l62aOJ95LeVItgAAAwFNAAAANgGf7HRDfwAAAwGl6qlVcgIZAB+1FwA+6gnAdkR328Dpxog03nzI\n",
       "7jClycAyQrTb8hAHgABlQQAAACABn+5qQ38AAAMBdE6Q1nZVTfdPYSu669dwrUwlsAAd0QAAAmxB\n",
       "m/JJqEFsmUwII//+tSqAACuE1egFl4NAw7rVEBUz+BzfA1k2h2hdArQJVJxR0Br5wVyJWR9rYTZM\n",
       "ebMyba80f+9Ra/5TpVOtwqwkwoDMKu/WRKt6hD8od8RpR5banCeHZjlDL5i3cQQPS47varSqqkH7\n",
       "L1uncZZOKaP5VEQDK8on68fm7+KL/GQJXwavWUOqKD96za4Fm3mEQCuCGyAxtnKiExBFiF4k6zEO\n",
       "24xZEl+SaLZ+VdZXaIdHtO4+1QqKA4MHMnEWaCswfRYYR1em85373tpcQJSWHqqkQSKkPw/R83tB\n",
       "dgCMWMO95UnK4bDCvOIo75B+OQHGHUp031aIhwbr4Lulc8tGy2rVGWEmlqtd0SHyyuKApPqab0Nd\n",
       "X79KfNz9OSA62l51nlYvYkEOmH5nmlb3dNoYpEnf77/ojOwTqUpBdgkDX9LFMaGSwWhxxnYQfJVL\n",
       "bqkcvKQvUd/n7334kDr1k1Tg/7IV4DOye03vTMRT/w5wTCxtVjhS83CfjYkU3jSJdwclp3FCBgJq\n",
       "ckJHtxv2NyffDaYmIxJ98PigFr6UHFaME9LDqYWnLBfOv1tEQxG9HY7PNYrwXc4c2XXdzj3xYBsB\n",
       "jWVG3+xgoE4TEXWLWhNR0VSuEkJexAPpU8ZQbqKiNC5q+y/cM1IcKsIvwP0HL8YggxUnQvaaK+9M\n",
       "bvJSW1UdaXeZJVKOn7NlLaQ5Y3kac7ubOkuetXQRsW5f4r+cBXTVylPssH/KO9cq6zOL1vAOKGA/\n",
       "z+qRf4hVd0MyffZGlrT8pJf/hFRhgPQwfCIsJnAjSEykruuvaTum4QEGqV6BHQABFwAAACdBnhBF\n",
       "FSw3/wAAAwFrTpFi70rYJhDOG36uEox8mstGnRpByhwAAz4AAAAeAZ4xakN/AAADAS2MlKs5/aSV\n",
       "ddWRKnf0pLnAAEnBAAADoUGaNkmoQWyZTAgj//61KoAAK4TV6AWVU0CamZKtC4MEHUgV6xglFr5B\n",
       "emAQfExOTa/fen3H3MQ5HZmwoECoLYf+IPF7hJYuJHmYD/L1SaPycHy2s7Y86YLg5hFZRQOpSTDh\n",
       "4pDVFJhP3at3EtA279UGGPnL8ke/EwC9xVTmeQWpXm7Bq1Tp1bhc82Fk2eGs51IfOdShmP+RgzxG\n",
       "H95RvMvHwQ8XJstYk3go9aGmEnz43xvoKN5AQaeQODZRQC0PLwbBp/2z3W0Cza0zCjFkihQd0QQn\n",
       "XmShm0cOHSU5s9nrN/HvKVZ4BEIU2KW+OQwV/LieJDqMej4xG/9t9hbj7SGSBW/9VbwY3NuQA7M3\n",
       "BMAJLn4RHWvTW0ZcoAOiByVSszYqM+bxk4xlPOxWLKODzrOSA++2llzBpEX7qcaVFxNE21oRsT1S\n",
       "kGLHW30770ksmz0Yz0RMEyTmo8w5IgSIJsxjIYb7ohp/wklihwmCpyHVGHQZYdz3lB6/o9ARWmyf\n",
       "xRxtMQOyh4CmjmWlsQOD2gvVPYn6jyY/WSGBCnl1fRTqmznxD1ZhCN1Oa9QFhLJQXQz5fYGtVocF\n",
       "5h6HKHKfUN/MScqwOJ958SSP7be2siH0Zc/1+Z617xFrjTs0pKxy+zsXS2nbv8UQs5XgNzvGNFg8\n",
       "446Gp9/rgfXmK9hK1OgWMr22MGk0IQFPlnSGQS4D22rwB+GwJInKY79T1hnykzZuRwHVs0n3b091\n",
       "X1KGH4HWM567Wr1PqjW8RwIvJG09WVSUg+cIGEmfu9zdhTNStNpyNPgIDKbjOTi4c6jfJ8ggicXC\n",
       "Ehw8rXirva3jUGE4ZyvoZ9fowse2bYJKvnh6T3nzZtocmgY5PZH946BLMk///3oarqPg3cDTG37I\n",
       "EZyIO5AQmJCIE2uimsSbZNaKM7yQz/pCmbX0Q9BrYcHG2owVulIsis+ESRVq9q4iD+e76JCIIrMX\n",
       "RB0DtJj2E31fQPcmk02hIy9yNsrpKsDQ+25oLbmkqhEjqpM5r48Ow2R2hNEXqrwZMcAohbhlI9ix\n",
       "LqpK4qQoMQH1XSc7hQ4hvOETCCq2pupBZ0dG03rDJB4OWmg48A+Myfi34QeUky81Omp+zv0DJ66B\n",
       "fsJyfrKCNraokSxVk/Dy1kyUpEU3GGI18g6Qnsgsl3fldzuPXEI07qU/hieuQv1rNVN8bLlQE5OY\n",
       "rTTh8Iq51upYC1gBRjLMbCokyjERvsiStpn3ZP8AADPgAAAALUGeVEUVLDv/AAADALuYpuV7ENOx\n",
       "el1V9RyAYGc0YO6gPvJRx9/t+ejLMABUwAAAACMBnnN0Q38AAAMBBX1mqrFf8xNm40HjAFWAXvrN\n",
       "jNdEWgBDwQAAADUBnnVqQ38AAAMAMkAJ/XEaADaUQtOkJQxZ4zkbnIBtL6dOceN0QkLgqaJ/DCEX\n",
       "tVz2WoAP8AAAAjVBmnlJqEFsmUwII//+tSqAACuE1egFl4NAmpmRNv5b6ep5Z/1Xmp5i4GFfR+zx\n",
       "NOLHdeeN37vc7vBHA/Zu7RTegfD8p6kLGg5rFspD9bo9VbdkgCQLRo7voFNro7jCyYEJFSkxg9F1\n",
       "+rzZ5/jm7B1+Xxg+KYD6wGfEsZlau22EITvv2Pbnov4FrE52u1q2D4jIxbzd52DW27tit5lomODG\n",
       "V8VE6qzJK3alvMvZp1TW0asiJZjTJ83OT3mA8J9KSO80r3uXav8pFng9Xe84lKRbOushmFPdkjUq\n",
       "eFe6cTUX80JbS6fxgALm4oxN4kc7HyHC7wqVpu21+98gRVkYxtjEhb182a7LnfbxaZrQYQb85n2v\n",
       "9bmW6yaHz9qOVAWfdRSmdhFcZGtUOHiANZYf9Ztc44URf/zG8BUJFQC+VuN7YZa8I0jAPNbJnGN7\n",
       "28kJzQeVOhdx/XfN6dN+cbgWHbXjEPXlv6s01kHPZ1gQdBw+LPyPX4I1303CaryLmrTlVxqhsxZt\n",
       "933uwild8ZLymvvBlbLe91icf7YEqiOMa+T0TcBIUe47gheP4p1S0rGaME38pCZ1ZRSQ0FEujsNT\n",
       "e1Dr8cb1OS6o4AWUn/coqNKok4BiSGq5NGTwJwZyf5pAeFiH547d5yV4b82iLSpOsmPAXRjhxrW7\n",
       "2eCmiIDPEJFquXRs1Xi4YcDzWKKY57SNdIT7PMz1Das+11bRrviCmcOHlDgnuZjncGKwV2Jq9ClK\n",
       "AAADAFJBAAAAPkGel0UVLDf/AAADACxTHDoAE6zI33rqWLHalIV37toAH5N5GuXJ8MjCmWCWv2ls\n",
       "XQA+d/vh/3MMH56usAHrAAAAMwGeuGpDfwAAAwAsSdIbOAgBNW0XEdYfyHZZ/FEpfn0Rjnl7iSxW\n",
       "rckyFKufeb4eGABEwAAAANZBmr1JqEFsmUwII//+tSqAAAAHzNE5cAc4pdLpys6o5XSQjB6o/2zf\n",
       "qTX0NceH6EXFP+Zy6SLVM9nlIhcKeHs4WlSkskHRA5qxVhlDXKS9zqlcr/8wEpIPWLv/yxoZddHb\n",
       "6KVNie+gspsXPKW3SEv1CMiN4pgux8LB6X9y/vg5Yg51E3bp2ZMIdB55j4Oqub1b1++imC2+HVD7\n",
       "Z25lqJGyohUwbb18wIgoawRKggjeHOihd7/CDUjpnVjkNiL3IeGCqa9I2Tq7Kk6Ax6Q5Id0J9LTr\n",
       "ABxxAAAAXUGe20UVLDv/AAADACEiqgAdo9kFcwS1gczwP3yBDhZgo+xR39vFWqpZs71fBbBSM0/c\n",
       "qFQtN7vTy+7O31IW1XUPHVpnj5JfJ4h66kRlIv+F7t7qqmHOejkfsEABHwAAALcBnvp0Q38AAAMA\n",
       "LpElNPXTvAXfQACHxU9mbNFbIn1P3OGOfBjN06qzcQJ/CXDxF6owXtwHMfn7fPpoiapmgwZU3GhN\n",
       "KV3PM+fHhgUGxJ4u2iI0NHSN3KCtnvtuusDcLkFv5FWLhCOswt0ojaCAiAKfivfbtkQBaCw3XHsO\n",
       "OvDE0Y08/r7PBl6/PffeE9giHnPjlx5xS7CILtIM/jmXGD3/jFTYa7LS24zmCpzgr+CzzQUnJ64A\n",
       "CBkAAABuAZ78akN/AAADAC/AChrOs/LPCgAzeoOOQdckDl08LYtzL4Zj9PxlUoWqMWIYtoYH2TMv\n",
       "BXo8G7dl1SwHMO+JDz6kAELg823+C7EphWKm7LiMcDykCItV5Z+BGE+1rXC9XZS5YQqePnyxnlgA\n",
       "GpEAAAD4QZrhSahBbJlMCCP//rUqgAAAAwMtuD9oDuhagC3lWPoeH+5G3sNka3gLF2ZW5yM4GRt7\n",
       "XScwVu4eQ0PekJUAf2DstXLF2Uo7nJF+dNcB6gvUB4WHmF+r5bBq9tujSuCHRWFqshqx9ZszWqf3\n",
       "pfHcVnjBPPckb42f5IDadkwJN9MqZR6DTLS8WMv5LfjRZyLSqWWSUlTHRGrwq1udPT872sxC9IZk\n",
       "6d3GRLst4oRMcQxj9GI9Ys3A4fKSFqftDYAO8Y3rahG+beOp6rTTAnnWUfGVtS7lNFFmyPZR09X8\n",
       "8Fnvt8Z9eoQ6xyYa0jxJV9KiTdMNbGwAUkAAAAAmQZ8fRRUsO/8AAAMAHpENVKSu4TiBllYSEig4\n",
       "6GakOtKCc5gAYEAAAAAwAZ8+dEN/AAADACxHdGd7cgA/oQLEpvw0bg/8USl+lgAO4+ktdrkmQpV0\n",
       "5tmpwAW1AAAAVAGfIGpDfwAAAwAv33IANqeQ6bJcttSIp41kVBJAFydLkeVDGEJ4VzSu23u1/h9o\n",
       "GHWieQvrMCe/rVS+1ENnZ252I5oH/qH869ujEod3AAp0SABNwAAAAK5BmyRJqEFsmUwII//+tSqA\n",
       "AAARHmWc0ic9AIm0zafS5hlPhU+efJdGzgAJIclguhFy/pfIenjPvhq8ktoPI2XKtf5SbKasRV6C\n",
       "GnjobHHHRgrAU+sMuViSi9wZaKyVYxz4Cv5alha2+lnxDGFKe0V96X5VgfqodRQacbEV/O51p3y3\n",
       "URsEoX6kmMHrDpUWFxvPxQbhKG24IZ/9USr1Nwdjsx+TxLJAQFWvzsxABE0AAAApQZ9CRRUsN/8A\n",
       "AAMALE8+Rzno0hwXfunO9QAlmTkOyS7BQ192u9iwAesAAAAxAZ9jakN/AAADACxJ0hs4CAE1bRcR\n",
       "1h/Idln8USl+evKobyqe2YN+xIV0DGGosQAM+QAAA5tBm2hJqEFsmUwII//+tSqAAAAG82WWACPk\n",
       "ajXHKZVw/t2K3png8KNhxF8418SMfWP/8Mi/JomOkSver+5v0KxgkG3VAdHS+USmMkbkvVQ3uKWc\n",
       "XLmXMkWCy0GJCf+FnHmTLcU3ZrxAPQ+BzHIg7vWAQeha6TbCy7N0hphr/F4qqYQRCZcBcyYCsYWm\n",
       "nxylqLZTUsJccsaJmJ34oWfMY6WgqQYAp3zPzx2xV+vmbI/12Mj3UBa2igfTcQbaKnjeY0LflTN7\n",
       "8pDA/Pex3WxChdzgtRsFaZEIMuWOobcbTcGPhAxeG6LAHVUDY5x+v6RXwmmWCPF08f/tYDFj+HfV\n",
       "jYTRsXSejNATrK0KRmU4THndSr+OHeEhvZeiqEu+KFYiDYqebz1Osj/GPgMJg8+QSZG/5RjhgHR8\n",
       "mjsOxF1MzcIBocqvAqo1bAtxpJBrmXMWyZv8lD7d+cTGSi5al306VhSSs7MxidFr5UA9Ev+6ggBe\n",
       "/QIolRIyQdGQHCEmOshSkCX//+PCNLnFXAv/4RsEO+SzNk1maE6RRK7C1Izg84ZGnQMSk2CVpS+Q\n",
       "3lu3tnMFJuzt8GYxCsw/7wQLelBmbw0GqZpkZHu0a7gho7+okEnoDb7mQvOkBSaRAAeFoANdl+NU\n",
       "V0NcSV1aTWlU2eUz27OLKDjOc3VHFwjm2gHkfbJdbfBp2QM5jPbjXHmGCUw9roxIwc/Dhz1iXedC\n",
       "yqFNgqteqim3xXjhvdBqUQZ0JS8T++fqWMfrGEtifUggD7+ZLJN3Tk4IQgaTuo0xQf4fMfF2CKQb\n",
       "sE0aOduFUXWR+ONVGA+FeWbLn0IPwaTVCMM5u98lKbNBQp6DSTM0jkoOQJEE3YSaG5XrTXdTEann\n",
       "ZZxBbXylU+zjhUOO8FGZ9FUafEsr6ck/aU+KN7Sg966nJN4mOmolSodBZSsEv+08OVhZ2amYSXMi\n",
       "hramZIR6KGwpB+bVUNEN/ZWIP7KYkJdCzuqY7RC6y+U5EiFUxczta1AYrto4lhRK89HjascvpTVN\n",
       "JKkb8ohcmU2f2IMngIJ2LcPnjPA09APekarBtd5MxpRmf0AcaTaKdEkWhcp7/hyWEUrpI55hqfC1\n",
       "tYXQ8qO+irXEM1F75H2JzPLTWFm/N1gkrb/CeEP0pcaYkuOXkzY84Z+4jXrOhdBiLjGLRFlXk6xq\n",
       "ICXjvh5pVv820KsbZti52KRzEET7rvU4Z8WRGXWf8zkoy/1Nt4b4s3ADPwAAAC1Bn4ZFFSw7/wAA\n",
       "AwAbLaWy+kBCSHw/od8KPLbZ7I2hxlKUceZ4h/tfEOgAA/0AAAAjAZ+ldEN/AAADACavrNVZZbrO\n",
       "fRfyDUJL8TQ6rrqTkxyADFkAAAAeAZ+nakN/AAADAAKgnR/Vky5hbs6SnUCACXvkAKqAAAADpEGb\n",
       "rEmoQWyZTAgj//61KoAAAAMAapfEcpiAOQoizxpepu3ORAAGYgBVQMs/XU9sJ5j/+aBB4z0iUoZo\n",
       "gYRWe0qSZX10AC2LUDS4yf7vaitj8yIW8TR3wLBl7JmWKJVn+uKLZ/nnvN3ETgB4C63mu4ls5o7A\n",
       "/ZjNwX6EXzR/bBURiUzHXI+HBpxocemDMkZjQJXc0NL4XPIJmuZX2TMVT3H2csNJdrZI+sWnMj9P\n",
       "fUwEjnh391tIJuYbIzsSf0oHUdro7Bo7QBVUmKyhXDIQZTupHexciXm1TiC8JY/F2n0QPNnIYAgn\n",
       "vSPPf7m0aTblFV0LxlYVEqhQZ71Mia5hQ1xYQ26QURyMDqYp1YBqdWVmiwo8y+X+3GuiqAp9sv4L\n",
       "5D2FcjfzCKJIfv7Dhar61DyBGYkTsaj0T1HxK04yKm6/DGLlAe/1gnQomQGxscHp4F9Ve0UvUmAq\n",
       "xOaWVF16afAAhWWmN30mJ2FsK7k9kqHLUB3qEPGBIsgkUaR/1o7lybuVAaFArOXjLIK5kkG0xWIh\n",
       "1xWMsWHW1Bvf/Cqks6ywjFQlxeN/+iuPHsiwvdQGIx0FOma0PbM3uIZnSoCJHaSjiqy1o+L0ggI5\n",
       "vU5tblIH1kQgMwF0bDz1qEWsz0f9hph+q9NhvVcPSYVgnNectweg6iH2S5ynMN9tp7fFil4mGy2F\n",
       "REfMKvmsJ0UYVLTZ55DgSBFduje3SZj9B7YtgXFtLpwtgLavSoehd1wkxj/nQbDJdZxWPhyTs/+f\n",
       "js1xXzuIkI/GU0E+Rm2A8fyCO59rU8ONdRcyDk0nTxs1TewfjcRJUg2GOivy7L1Glj+ZxSv/9oMH\n",
       "FtuX7nY6WmMgcVG4bVNV/Ni691Z1O8Mgs5reL0rSPoWnKyUOH1aCfLZm1hAf819jStWEh90ytjjS\n",
       "R5DMsVSp2Cjbt6zLicrEgTRO69XvqDOrznpPSwHGJoeY+dRUukBA+PrI5//MpKbQ0vl7mgWkbrX+\n",
       "T9+k7NKjcf0K/uOscCKDPcLYtgRErO5JX+JP4fwozHenk/pjWepIe8b1zmgFtPNpERrNka6rW8aS\n",
       "G6RgxX3ti+e8qvah4BZiymgBTI1Pskq9y68wBH3jCeo2cH7SQL/8I0JS4Ojas06V2hpZG761EQZJ\n",
       "vgU2NmPodrzSbc/uuaMFqpF3LdqNQrgPmPDb6AC+1ZxfvZfed6GFxcKR9lDaLWd1G5NfrzqJrGNu\n",
       "eOmrdXvmqyipwzzk2uA6ICXgAAAAN0GfykUVLDv/AAADAAGe2lsvmCir4wOoIAN3lvPhMmPVYrGZ\n",
       "xyxyHndauH9bwesZEFIlr88ASMEAAAAhAZ/pdEN/AAADAAJK+s1VkthEjH3kX62RbO9l7G4WRgIW\n",
       "AAAAHgGf62pDfwAAAwABxO1hGLPgmIZIqda1KyD7algHrAAAA7BBm/BJqEFsmUwII//+tSqAAAAD\n",
       "AEgcSjAAT2BWJB/uPsHwxksdnTdKA5UATYb/ks9hVbxzK3F/G1VqaWcxgX5GEJjHe9hJKdYrczuq\n",
       "49k8Pkx8VDrGBGzMLnUDtQ3/Jmko1w64sXbgaQ9tb5x+Zl9/kanfHL1UsXSY3gVGqmck6JRoXTEi\n",
       "Tolwl7lFiKxChf2K71CYMtbDimEV/mw3fyvQAaXiZbFaKXlzw9SQELnBfUYJTp8BjfX0Nd7vUQ1N\n",
       "vhfOukAbz27i+hZDyjjpX/p3n8RFwy5zOVMZAeYeYTZa7t70qgW/MWlw9pmCfLprE9+fW5Fp/O2C\n",
       "V5peh0IVjRHAiAwKDT+5BZk8jPzxwkSu9cMLX47giQ67A4AVhYCdw6N88lInR/XMOdYsLpAz/+QG\n",
       "OwBl8EjH99LFKyAWtRsr32qsrVz9jnImbJ2tBOxL+wPbK8sqfvwd5eO4aB9mRpPiVgUKJosAY1bn\n",
       "whZiJeQZyvjsp/6w5m4v1X0nHU86IMP/XzP3UqnqOkHDhewfzV11QeV2fR5FSaDYYAmTAMC/B+of\n",
       "/4dIa+mJFrof7MJOxhmB/BfFxeUXikaJhHET2BkN4Snxr0aMm3/uJ4KlXXveVbsDknJJ2La2ASEr\n",
       "IhzlHedBt2ywgBGmZ8XqVLZwWKWPlz2vP7YHbjJPV7P5oTVxBjHMn3xYEOR5PcZyz9GRE1JSVQqL\n",
       "BhEzExj4eX2ta+LZt9qEADZJyNYiy2lACYIW3KcxjjtY0cWpFy5b1C7i4QCM7NzhprdPjrxNnqsa\n",
       "U4yTZYtIp8M/PfxfPw1phCY7WtNtKlTQ1naYUmkN8k1x+LarqpFfjz57RGkaocU7SIaeiDg8IAzq\n",
       "lighEeSem0OizWc6DN5P+VLngzGnhVNdz+DOfkE5eVaqsrWG8EYkd8J40p5NUPkPcXzPTWicNKdu\n",
       "fw1pArnQH6XrpKRrZMGADsIALG9ygSGikvj546JEtBiWI4rGFZDOJ1ts+T7+8szqa8sh8t6xeQB9\n",
       "R5fMiiLOEWpb3Q0NzimB5t3b9ChujSmX7AhQVM3dFKi7BCAoDFhDe/XWx2G6i3f5uF4YrkIRYft8\n",
       "06kBxHGV3up4o1k+rWDYoMFupbTt1ZObg8Q2cpZI8m0ljqF0Xj5oU60eP1iPZ/xIBAFo6I1gSZ8u\n",
       "VYTSN+XOoyWsAZYRcyDvRc7Afgb6Oj5SdwOsP1HEm+GtvxHOc6Q7ES/ki1/lXxrB2CungfsIRQZm\n",
       "DoOoXnVQvjkaL9oBJwAAAEFBng5FFSw7/wAAAwABGHJNl4A/S7OqfCFGQ57TgAA48hmwDeWAS9So\n",
       "mtcyXTtrH3je58zOn3MqKJQM2UQGObgEjQAAACEBni10Q38AAAMAAZHqqVViu+ppYgl+QfeAGxTC\n",
       "OCiQ+4EAAAAhAZ4vakN/AAADAAAbAAUNdaAQ2KU4RhY2hK07AAxgr5HwAAAAt0GaNEmoQWyZTAgj\n",
       "//61KoAAAAMABMeAf/G4EavUANfRi24oV9fuc4Gr2cUg5pispZFf2Sb7thr9DvcIjItw4/49868D\n",
       "oAAdVCYsMP61yL+s/HLMS0r5o5BZODIWVqZ0a3CchzZTnmkp6Ptpj8pL0dWYCVTwLvvHcNBdKaCk\n",
       "/FleEX3yC8GSRO4OWYhOjGEyySN+IAkQIMQd3RSx+Te/t807m5GUWtgZXubh1qOOS4+LOjKoVGyk\n",
       "gAAAAFhBnlJFFSw7/wAAAwAAEokBLs7/+KA5o0AHLgJLXc2RQndG2q7NE0ZjNC+r24ZY7F0fCF3N\n",
       "4pEmdy6/FymWvK2HTlgzcKdXHnAOPL97F2AEYqxr2pXyEAspAAAAmwGecXRDfwAAAwAAF0iapsGA\n",
       "AQPf1Ff3MGVb39//e5I56C2/hZnWO0hJresHa4KIXaLAgUxD2AnfkPZDfX+ckJjvJEqXID3f1o3D\n",
       "audOLUKhtF75dke0RdVBdxuurcC2hR9E04lkhnQlM8HEs9cbsBdkNnugNy38ALJDl7OKpn7T6evU\n",
       "zCrR21zo99xfBvm/n1JscWoKLn1xraEfAAAAZwGec2pDfwAAAwAAGmAS1bUAAf0lIgLxqO10cqC8\n",
       "33//nLwAjN2RSdX4XwhRk0yCXxiis3oDHn5KTSvP1R3lTJniXTKk4F6Dkd4anMZkRosMo+QMhikZ\n",
       "I/KcPXSpANshk4Mriytw1IAAAAK3QZp4SahBbJlMCCH//qpVAAADAAAHdRvUQA0SACwBFA9lhDjU\n",
       "FAnf8Jfbh//8YZ1Ej99uE//GfPdnhlCzugztCrrRmi93WunAd9QJMdZTEOn2kSyH0yFZNK0zLIJu\n",
       "JQlaiSD8OBM3TflXXVNr1Bix9QRc4Vp+hGxH2tlfQWpGUXRZLe294Lt7yGV5BFw3A7GI7PHL5NSF\n",
       "FLbZfLIH4tEocL5ZHeY8kLJR8XcKWK0QWRlF3n8vyxO7sdWAIWqbiEnAfOyiBeVz09W+uyA8Owh3\n",
       "FmPMrS9TYpoyx98OI7qluv9gutgOgCfBhsdi3ypRxxg11duOD171OSkAy8i0Lu+oYhx0aWDcdxIe\n",
       "qnMJz2ieQvCPsLXBuqwOFXmFRsMEjtKjX6wG2gTIUogn2qOZXQJHXy+yzZh4WMAH1Xlh3YTVqsV7\n",
       "DphP/4r+TxsNuAhDpnZd16qYHquI5vWn3S4WHSP7yQ2Bzr5ztRkqRCdH5kmoc1AuAGR6S5k9j1h8\n",
       "QdlS4I6ogNnkzXjxpNaoGb8zYjrYxf6F+guzbO9GOboSIQdBjcaVETTUxdxeiFjnZBnuiSreCHer\n",
       "E2DHfHlPvni5JF9F/jq6hriCiLcQBQRmQdZmwEI95Ef9dyaLrjjNmf8nQed9R4bRNF08yY22yeTU\n",
       "Tnxl3wIYKsNvoIQTioOWLpJ15AMYNzmvhgsdv1e2hzkobCiiEzbHXNnYAOaqNWU4aRHXNts6iHls\n",
       "dAkBXGp8sfmmCsVTv/oDUk7KVH28l0eftdsOZ7tEEudHh3+sVtTtBsl0N6jhezlFGFM/HMGOMrRZ\n",
       "DtKj4uPFsgM/jEwaMA5X5r8kMvO22am2sx4ufs8ZajNjfNoDl3dQWjBo2QBkA39inIReM79RCQ+c\n",
       "n0EuGQtxNs53juQxldKHGAWeA2qWjv5RFVQXiv0IARcAAAAtQZ6WRRUsO/8AAAMAAA6WgNl9ICEi\n",
       "ykjguiKJ9TzWfTaxM9vrnf9yyXA2oD/AAAAAIQGetXRDfwAAAwAAFQO6M7ZgXgca2YXx8R7i9R8I\n",
       "aTvE3QAAADABnrdqQ38AAAMAAAhtexjwGtj1+IACWkTGCP1DFfiiW9vDErndQAiNwoke3DCIfBkA\n",
       "AALAQZq8SahBbJlMCCH//qpVAAADAAADAxWBVJ6eIgBVKAahlyUm3BEBDtmz8hbADTx6VcT0QXc2\n",
       "Sn4qHuCmi3Zfy5msTDylRljsl2Axv3OqP/oTZfmRPMR3RIif3vPEhjG6Nj4fxF0omjdsmqsO27dm\n",
       "LeJlgOkneFo6b3f+QQXoHNESjgEdFGj7Tw2Ww97/+o8E6wbE4JKMhbmFQX5QSbMVw2Aw6fYMDsly\n",
       "ijD/lYQ4UpPtXLOBf0PkZyCn/UvBgJSVlYSpYyzQNvhrIft+Jn8/QYS4ZpehyuxJ0oKDvbyLpc9L\n",
       "B8R62ENuZLFSE0dPygKXelxepjCfbqVzOxu37V+9TGwBJCY/kSO/VK5cBYCM4ZyGdJV7qhXFV6Kw\n",
       "DHQp+EKY1u4pDZ/QrUSz31a75Zx8szRmCxMmokUk15yFaz1Uqw67P1LCZEidi7v3GFOKqnRgCGcw\n",
       "N7bqJymY01cEJMLgytMJ1K1FQ/5qHQDyOU2lnU4FUpKZZ3Hn7B4xtvDHFiIYnN4BBmpcCt2lkVqb\n",
       "Hi84iIt+jmMzy52cGCGM04xrZalGxA+w56leibm6p0cIFymmvAkbb1uUj1b2ZbB57hkBp0aelbZN\n",
       "JKH7EhtYctizcoT/9wV+2CLgLHYiomJ7RYsaFmAyln3yKQv4dWoNmu+OvDFCgCmYZYYIvox67gg4\n",
       "hXUqRiyiQPcFK2187REZB4B30odRK5DJM5uFWI3xSMbbnOZCTopSIaBXATCNjR9sJAWZQkQf6rpz\n",
       "fzRXxeGKTKSnnYYM5sZu/FEbI7s9sV7ZZWV8M19UOgDzcwv3TxJX773+6gIsn3is62qJu0UK8lQg\n",
       "IFMDBCabs92mqxy9jutdHLFEreRQJkGFCLsrtf/meukyJ1qUatOmzjn8Foj+qn/F3w5VrCTVth63\n",
       "Y1XEKBtY6H9T/9/QbhdWoNbVjZDFqdUAAAAwQZ7aRRUsO/8AAAMAAAYDaubjy4aMItpEj3oKAFeJ\n",
       "8lL0J1u6ENhlkDzcu7ql4VB3AAAAMwGe+XRDfwAAAwAACGvsa88XpAgAnJIELfA0l3f4TjyEukjo\n",
       "KnVHqsItjxpQU0Uhbud6XAAAACYBnvtqQ38AAAMAAAMCfJ0f1ZMuihu+C9xZ5mrwqm03xfbHoEoR\n",
       "uQAAAnVBmuBJqEFsmUwIb//+p4QAAAMAAAMDE+t6QX3B3tI/4YljgBND/5X7ARlfcXWZEa9zU+0E\n",
       "FzQhBVZHQABbi8tj9rcklaxSPMC+gfSjsAi/W+IVh1dsGoFWxKVp7fgrfkQPES6/mbEyfD1SV5M4\n",
       "OH2vMK3m+IUZc4snCFPA9IDdXwe9WVpacGN0GECIoStnYQRxYpGtPyACCtW0k1r6IRV2ilLPX7FQ\n",
       "pdg2dUnVdES/bhiHP5aM+x669OAF6n7G8mPQJ+pq96/kMw8xTK6zKk4k2p5l71EoHELRmaJQ8G4V\n",
       "IiIH1d+o3mAiDsJuFWyp9/PaHriK/LLyWv/apY9yKr8dIwUFtGRKZVwvD9/uFERJHZaIYNsCCxwi\n",
       "5tq9KIBjILjrdxBr0fh9VH+Y1zfTMgm9S5XuduEwHgDdXOBAmVYgKitDo5p5fUuZL6vEt8TdCuek\n",
       "Ixja/V2F0M0bKimrgvZs0QNTArh8guIxrhYNOOurN2YKtaSd/XbGYNjLBOdaBRVLQhksJ4f5hC/3\n",
       "jJWZpe1ZRC63f/LCuEU6K9NJn/HCTLEZ1fKOt1q4pEttDu3cj6bsc1+2QZfE/qAZpuqxgCVEfcj9\n",
       "YR29pugF5AD8dy8BkIfCbeRCDUSCd6JS9PfvdI4Rd4W5Xd2GgUUYMVnBAm1CKfqkaIuY9OPPabcQ\n",
       "G/fhNjEjmXQMRmESSz1tp5ZwyOgdm4WuAO/6qOLASRlw/livgnA1+pKYcepILzGvibMaCgiYIYb/\n",
       "a28PcgCHFXMPlU7domBvHgpY7pGp1MSvpzB4D02mbJfwTPpvAsA8+MaNGwYcKMOe+lu4abOV8tn3\n",
       "m9SgYcLHTQAAAFtBnx5FFSw7/wAAAwAAAwDFbVzeWseSjGr6gA+ffnYO9oI5vvbpcPabHoYkyoRe\n",
       "ZxVYL7NAkW+YSVo2hH/FaauoVPDxvuObtiGLzWNmDzxF8gDQ9Lqw2QzdOe9jAAAANAGfPXRDfwAA\n",
       "AwAAAwEVfY3n6b5Fh2h4iAEIXsZ+nZa4S54mbWJAUMCwZVHF2ttcRmosqs4AAAA3AZ8/akN/AAAD\n",
       "AAADACO18TseIcw6s0SWPLUTrliABFoukT94rIpBhYRCN/AnCL+irAOHqnLlFwAADWJtb292AAAA\n",
       "bG12aGQAAAAAAAAAAAAAAAAAAAPoAABX5AABAAABAAAAAAAAAAAAAAAAAQAAAAAAAAAAAAAAAAAA\n",
       "AAEAAAAAAAAAAAAAAAAAAEAAAAAAAAAAAAAAAAAAAAAAAAAAAAAAAAAAAAAAAAACAAAMjHRyYWsA\n",
       "AABcdGtoZAAAAAMAAAAAAAAAAAAAAAEAAAAAAABX5AAAAAAAAAAAAAAAAAAAAAAAAQAAAAAAAAAA\n",
       "AAAAAAAAAAEAAAAAAAAAAAAAAAAAAEAAAAACgAAAAeAAAAAAACRlZHRzAAAAHGVsc3QAAAAAAAAA\n",
       "AQAAV+QAAAgAAAEAAAAADARtZGlhAAAAIG1kaGQAAAAAAAAAAAAAAAAAACgAAAOEAFXEAAAAAAAt\n",
       "aGRscgAAAAAAAAAAdmlkZQAAAAAAAAAAAAAAAFZpZGVvSGFuZGxlcgAAAAuvbWluZgAAABR2bWhk\n",
       "AAAAAQAAAAAAAAAAAAAAJGRpbmYAAAAcZHJlZgAAAAAAAAABAAAADHVybCAAAAABAAALb3N0YmwA\n",
       "AACzc3RzZAAAAAAAAAABAAAAo2F2YzEAAAAAAAAAAQAAAAAAAAAAAAAAAAAAAAACgAHgAEgAAABI\n",
       "AAAAAAAAAAEAAAAAAAAAAAAAAAAAAAAAAAAAAAAAAAAAAAAAAAAAAAAY//8AAAAxYXZjQwFkABb/\n",
       "4QAYZ2QAFqzZQKA9oQAAAwABAAADABQPFi2WAQAGaOvjyyLAAAAAHHV1aWRraEDyXyRPxbo5pRvP\n",
       "AyPzAAAAAAAAABhzdHRzAAAAAAAAAAEAAADhAAAEAAAAABRzdHNzAAAAAAAAAAEAAAABAAAGwGN0\n",
       "dHMAAAAAAAAA1gAAAAEAAAgAAAAAAQAAFAAAAAABAAAIAAAAAAEAAAAAAAAAAQAABAAAAAABAAAI\n",
       "AAAAAAEAABAAAAAAAgAABAAAAAABAAAUAAAAAAEAAAgAAAAAAQAAAAAAAAABAAAEAAAAAAEAABQA\n",
       "AAAAAQAACAAAAAABAAAAAAAAAAEAAAQAAAAAAQAACAAAAAABAAAUAAAAAAEAAAgAAAAAAQAAAAAA\n",
       "AAABAAAEAAAAAAEAAAgAAAAAAQAAFAAAAAABAAAIAAAAAAEAAAAAAAAAAQAABAAAAAABAAAMAAAA\n",
       "AAEAAAQAAAAAAQAAFAAAAAABAAAIAAAAAAEAAAAAAAAAAQAABAAAAAABAAAUAAAAAAEAAAgAAAAA\n",
       "AQAAAAAAAAABAAAEAAAAAAEAAAgAAAAAAQAAFAAAAAABAAAIAAAAAAEAAAAAAAAAAQAABAAAAAAB\n",
       "AAAIAAAAAAEAABQAAAAAAQAACAAAAAABAAAAAAAAAAEAAAQAAAAAAQAAEAAAAAACAAAEAAAAAAEA\n",
       "ABQAAAAAAQAACAAAAAABAAAAAAAAAAEAAAQAAAAAAQAAFAAAAAABAAAIAAAAAAEAAAAAAAAAAQAA\n",
       "BAAAAAABAAAUAAAAAAEAAAgAAAAAAQAAAAAAAAABAAAEAAAAAAEAAAwAAAAAAQAABAAAAAABAAAM\n",
       "AAAAAAEAAAQAAAAAAQAAEAAAAAACAAAEAAAAAAEAAAwAAAAAAQAABAAAAAABAAAMAAAAAAEAAAQA\n",
       "AAAAAQAAFAAAAAABAAAIAAAAAAEAAAAAAAAAAQAABAAAAAABAAAUAAAAAAEAAAgAAAAAAQAAAAAA\n",
       "AAABAAAEAAAAAAEAAAwAAAAAAQAABAAAAAABAAAQAAAAAAIAAAQAAAAAAQAADAAAAAABAAAEAAAA\n",
       "AAEAAAwAAAAAAQAABAAAAAABAAAUAAAAAAEAAAgAAAAAAQAAAAAAAAABAAAEAAAAAAEAABQAAAAA\n",
       "AQAACAAAAAABAAAAAAAAAAEAAAQAAAAAAQAAFAAAAAABAAAIAAAAAAEAAAAAAAAAAQAABAAAAAAB\n",
       "AAAUAAAAAAEAAAgAAAAAAQAAAAAAAAABAAAEAAAAAAEAABQAAAAAAQAACAAAAAABAAAAAAAAAAEA\n",
       "AAQAAAAAAQAAEAAAAAACAAAEAAAAAAEAABQAAAAAAQAACAAAAAABAAAAAAAAAAEAAAQAAAAAAQAA\n",
       "EAAAAAACAAAEAAAAAAEAABQAAAAAAQAACAAAAAABAAAAAAAAAAEAAAQAAAAAAQAADAAAAAABAAAE\n",
       "AAAAAAEAAAwAAAAAAQAABAAAAAABAAAQAAAAAAIAAAQAAAAAAQAADAAAAAABAAAEAAAAAAEAAAwA\n",
       "AAAAAQAABAAAAAABAAAQAAAAAAIAAAQAAAAAAQAAFAAAAAABAAAIAAAAAAEAAAAAAAAAAQAABAAA\n",
       "AAABAAAUAAAAAAEAAAgAAAAAAQAAAAAAAAABAAAEAAAAAAEAAAwAAAAAAQAABAAAAAABAAAMAAAA\n",
       "AAEAAAQAAAAAAQAAFAAAAAABAAAIAAAAAAEAAAAAAAAAAQAABAAAAAABAAAUAAAAAAEAAAgAAAAA\n",
       "AQAAAAAAAAABAAAEAAAAAAEAAAwAAAAAAQAABAAAAAABAAAUAAAAAAEAAAgAAAAAAQAAAAAAAAAB\n",
       "AAAEAAAAAAEAABQAAAAAAQAACAAAAAABAAAAAAAAAAEAAAQAAAAAAQAAFAAAAAABAAAIAAAAAAEA\n",
       "AAAAAAAAAQAABAAAAAABAAAUAAAAAAEAAAgAAAAAAQAAAAAAAAABAAAEAAAAAAEAABAAAAAAAgAA\n",
       "BAAAAAABAAAUAAAAAAEAAAgAAAAAAQAAAAAAAAABAAAEAAAAAAEAABAAAAAAAgAABAAAAAABAAAU\n",
       "AAAAAAEAAAgAAAAAAQAAAAAAAAABAAAEAAAAAAEAABQAAAAAAQAACAAAAAABAAAAAAAAAAEAAAQA\n",
       "AAAAAQAAEAAAAAACAAAEAAAAAAEAABQAAAAAAQAACAAAAAABAAAAAAAAAAEAAAQAAAAAAQAAFAAA\n",
       "AAABAAAIAAAAAAEAAAAAAAAAAQAABAAAAAABAAAUAAAAAAEAAAgAAAAAAQAAAAAAAAABAAAEAAAA\n",
       "AAEAABQAAAAAAQAACAAAAAABAAAAAAAAAAEAAAQAAAAAAQAAFAAAAAABAAAIAAAAAAEAAAAAAAAA\n",
       "AQAABAAAAAABAAAUAAAAAAEAAAgAAAAAAQAAAAAAAAABAAAEAAAAAAEAABQAAAAAAQAACAAAAAAB\n",
       "AAAAAAAAAAEAAAQAAAAAHHN0c2MAAAAAAAAAAQAAAAEAAADhAAAAAQAAA5hzdHN6AAAAAAAAAAAA\n",
       "AADhAAAqqAAABcYAAACYAAAAfgAAAH0AAAIIAAACcAAAAFoAAAChAAAA3AAAAGMAAACEAAAAeAAA\n",
       "AhwAAAEJAAAArQAAAFgAAADVAAAB1gAAAPEAAABAAAABDgAAAQEAAADyAAAASwAAADMAAAD0AAAB\n",
       "RQAAAHUAAAQ1AAAAaAAAAEIAAABeAAAEvwAAAJwAAABZAAAAfwAAAhYAAASGAAAAXAAAAFYAAABX\n",
       "AAABeQAAA1QAAABNAAAAOQAAAE0AAADNAAAApgAAAD8AAADiAAAARwAAAHgAAACBAAACigAAAOQA\n",
       "AACAAAAANQAAAiUAAABOAAAAQQAAAFAAAADCAAAASAAAAIkAAAB3AAAA3AAAAMYAAABPAAAAnAAA\n",
       "AEcAAACHAAAAcAAAAoAAAADVAAAAlQAAADYAAAC4AAAAeAAAAE0AAABMAAAAegAAAGsAAAC6AAAA\n",
       "sQAAAEcAAAB7AAAAQQAAAGgAAABrAAAC3wAAAJoAAACKAAAAewAAAFUAAAB+AAAAKAAAADIAAAEe\n",
       "AAAAqQAAAIAAAAAqAAAASwAAANsAAAAqAAAAKAAAAQQAAACIAAAAfwAAAIAAAACyAAAAKQAAACsA\n",
       "AAH/AAABIgAAACwAAACIAAAB5wAAACgAAAAjAAADWQAAADAAAAAnAAAAOQAAAKcAAAA5AAAAaAAA\n",
       "AFsAAACyAAAAnAAAAEUAAACBAAAASQAAAGEAAABdAAACqgAAANoAAAAmAAACQAAAADgAAAAlAAAA\n",
       "JwAAAkYAAABEAAAAaAAAAEEAAAEBAAAAbgAAAG0AAABlAAABdwAAAGUAAAAhAAAAygAAAIwAAABn\n",
       "AAAAPgAAAEQAAABYAAAAYAAAAsgAAADnAAAAMwAAAHwAAADMAAAALQAAACUAAAB+AAAB7QAAAI0A\n",
       "AAAjAAAA5gAAAlYAAABLAAAAOgAAACQAAAJwAAAAKwAAACIAAAOlAAAAMQAAACcAAAA5AAACOQAA\n",
       "AEIAAAA3AAAA2gAAAGEAAAC7AAAAcgAAAPwAAAAqAAAANAAAAFgAAACyAAAALQAAADUAAAOfAAAA\n",
       "MQAAACcAAAAiAAADqAAAADsAAAAlAAAAIgAAA7QAAABFAAAAJQAAACUAAAC7AAAAXAAAAJ8AAABr\n",
       "AAACuwAAADEAAAAlAAAANAAAAsQAAAA0AAAANwAAACoAAAJ5AAAAXwAAADgAAAA7AAAAFHN0Y28A\n",
       "AAAAAAAAAQAAACwAAABidWR0YQAAAFptZXRhAAAAAAAAACFoZGxyAAAAAAAAAABtZGlyYXBwbAAA\n",
       "AAAAAAAAAAAAAC1pbHN0AAAAJal0b28AAAAdZGF0YQAAAAEAAAAATGF2ZjU4LjI5LjEwMA==\n",
       "\">\n",
       "  Your browser does not support the video tag.\n",
       "</video>"
      ],
      "text/plain": [
       "<IPython.core.display.HTML object>"
      ]
     },
     "metadata": {},
     "output_type": "display_data"
    }
   ],
   "source": [
    "from IPython import display\n",
    "from matplotlib.animation import ArtistAnimation\n",
    "\n",
    "fig = plt.figure()\n",
    "ax = fig.gca()\n",
    "frames = []\n",
    "\n",
    "stk = []\n",
    "stk.append(problem.copy())\n",
    "solution = None\n",
    "\n",
    "while len(stk) != 0:\n",
    "    P = stk.pop()\n",
    "    frame = draw_frame(P, fig, ax)\n",
    "    frames.append(frame)\n",
    "    success = True\n",
    "    for i, j in product(range(P.shape[0]), range(P.shape[1])):\n",
    "        if P[i, j] == 0:\n",
    "            success = False\n",
    "            row_nums = P[i, :]\n",
    "            col_nums = P[:, j]\n",
    "            k = 3 * (i // 3)\n",
    "            l = 3 * (j // 3)\n",
    "            blk_nums = P[k : k + 3, l : l + 3].flatten()\n",
    "\n",
    "            used_nums = np.concatenate([row_nums, col_nums, blk_nums])\n",
    "            unused_nums = [n for n in range(10) if not n in used_nums]\n",
    "            for n in unused_nums:\n",
    "                new_P = P.copy()\n",
    "                new_P[i, j] = n\n",
    "                stk.append(new_P)\n",
    "\n",
    "            # if the first empty cell is found, then,\n",
    "            # we don't need to see the following cells anymore.\n",
    "            break\n",
    "\n",
    "    if success:\n",
    "        solution = P.copy()\n",
    "        break\n",
    "\n",
    "ani = ArtistAnimation(fig, frames, interval=100, blit=True)\n",
    "html = display.HTML(ani.to_html5_video())\n",
    "display.display(html)\n",
    "plt.close()"
   ]
  },
  {
   "cell_type": "code",
   "execution_count": 14,
   "metadata": {
    "editable": true,
    "slideshow": {
     "slide_type": ""
    },
    "tags": [
     "remove-input"
    ]
   },
   "outputs": [
    {
     "name": "stdout",
     "output_type": "stream",
     "text": [
      "Solution is:\n",
      "[[2 3 5 7 9 1 6 4 8]\n",
      " [1 6 9 4 2 8 7 5 3]\n",
      " [7 4 8 6 3 5 9 2 1]\n",
      " [3 9 6 2 7 4 8 1 5]\n",
      " [5 2 1 3 8 9 4 6 7]\n",
      " [4 8 7 1 5 6 3 9 2]\n",
      " [8 5 3 9 6 2 1 7 4]\n",
      " [9 7 4 5 1 3 2 8 6]\n",
      " [6 1 2 8 4 7 5 3 9]]\n"
     ]
    }
   ],
   "source": [
    "print(\"Solution is:\\n\" + str(solve(problem)))"
   ]
  },
  {
   "cell_type": "code",
   "execution_count": 15,
   "metadata": {
    "editable": true,
    "slideshow": {
     "slide_type": ""
    },
    "tags": [
     "remove-input"
    ]
   },
   "outputs": [],
   "source": [
    "%%capture perf\n",
    "%%timeit -n 1 -r 10\n",
    "solve(problem)"
   ]
  },
  {
   "cell_type": "code",
   "execution_count": 16,
   "metadata": {
    "editable": true,
    "slideshow": {
     "slide_type": ""
    },
    "tags": [
     "remove-input"
    ]
   },
   "outputs": [
    {
     "name": "stdout",
     "output_type": "stream",
     "text": [
      "Execution time:\n",
      "23.1 ms +- 1.61 ms per loop (mean +- std. dev. of 10 runs, 1 loop each)\n",
      "\n"
     ]
    }
   ],
   "source": [
    "print(\"Execution time:\\n\" + str(perf))"
   ]
  },
  {
   "cell_type": "code",
   "execution_count": 17,
   "metadata": {
    "editable": true,
    "slideshow": {
     "slide_type": ""
    },
    "tags": [
     "remove-input"
    ]
   },
   "outputs": [
    {
     "data": {
      "text/markdown": [
       "上記は、素直にバックトラック法を実装した場合の実行時間であるが、一回の問題を解くのに平均23.1 msとなっており、十分高速であることが分かる"
      ],
      "text/plain": [
       "<IPython.core.display.Markdown object>"
      ]
     },
     "execution_count": 17,
     "metadata": {},
     "output_type": "execute_result"
    }
   ],
   "source": [
    "from IPython.display import Markdown\n",
    "\n",
    "avg_time = \" \".join(perf.stdout.split(\" \")[0:2])\n",
    "\n",
    "Markdown(f\"上記は、素直にバックトラック法を実装した場合の実行時間であるが、一回の問題を解くのに平均{avg_time:s}となっており、十分高速であることが分かる\")"
   ]
  },
  {
   "cell_type": "markdown",
   "metadata": {
    "editable": true,
    "slideshow": {
     "slide_type": ""
    },
    "tags": []
   },
   "source": [
    "### 処理の効率化"
   ]
  },
  {
   "cell_type": "markdown",
   "metadata": {
    "editable": true,
    "slideshow": {
     "slide_type": ""
    },
    "tags": []
   },
   "source": [
    "上記の方法でも、最初に示した数独の問題であれば数十ミリ秒で解くことができる。だが、次の問題はどうだろう？\n",
    "\n",
    "参照: <https://www.j-cast.com/premium/2018/10/19341452.html?p=all>"
   ]
  },
  {
   "cell_type": "code",
   "execution_count": 18,
   "metadata": {
    "editable": true,
    "slideshow": {
     "slide_type": ""
    },
    "tags": []
   },
   "outputs": [],
   "source": [
    "problem = \"\"\"\n",
    "---------\n",
    "3--2-9--7\n",
    "94--1--82\n",
    "-5-6-2-3-\n",
    "--63-74--\n",
    "---------\n",
    "---------\n",
    "-82-3-59-\n",
    "1--9-4--6\n",
    "\"\"\""
   ]
  },
  {
   "cell_type": "code",
   "execution_count": 19,
   "metadata": {
    "editable": true,
    "slideshow": {
     "slide_type": ""
    },
    "tags": [
     "remove-input"
    ]
   },
   "outputs": [],
   "source": [
    "problem = np.array(\n",
    "    [numbers[c] for line in re.split(\"[\\r\\n]{1,2}\", problem) if line != \"\" for c in line],\n",
    "    dtype=\"uint8\",\n",
    ").reshape((9, 9))"
   ]
  },
  {
   "cell_type": "code",
   "execution_count": 20,
   "metadata": {
    "editable": true,
    "slideshow": {
     "slide_type": ""
    },
    "tags": [
     "remove-input"
    ]
   },
   "outputs": [
    {
     "name": "stdout",
     "output_type": "stream",
     "text": [
      "Solution is:\n",
      "[[5 2 1 7 6 8 3 4 9]\n",
      " [3 6 8 2 4 9 1 5 7]\n",
      " [9 4 7 5 1 3 6 8 2]\n",
      " [4 5 9 6 8 2 7 3 1]\n",
      " [8 1 6 3 9 7 4 2 5]\n",
      " [2 7 3 4 5 1 9 6 8]\n",
      " [6 9 4 8 7 5 2 1 3]\n",
      " [7 8 2 1 3 6 5 9 4]\n",
      " [1 3 5 9 2 4 8 7 6]]\n"
     ]
    }
   ],
   "source": [
    "print(\"Solution is:\\n\" + str(solve(problem)))"
   ]
  },
  {
   "cell_type": "code",
   "execution_count": 21,
   "metadata": {
    "editable": true,
    "slideshow": {
     "slide_type": ""
    },
    "tags": [
     "remove-input"
    ]
   },
   "outputs": [],
   "source": [
    "%%capture perf\n",
    "%%timeit -n 1 -r 10\n",
    "solve(problem)"
   ]
  },
  {
   "cell_type": "code",
   "execution_count": 22,
   "metadata": {
    "editable": true,
    "slideshow": {
     "slide_type": ""
    },
    "tags": [
     "remove-input"
    ]
   },
   "outputs": [
    {
     "name": "stdout",
     "output_type": "stream",
     "text": [
      "Execution time:\n",
      "1.48 s +- 30.4 ms per loop (mean +- std. dev. of 10 runs, 1 loop each)\n",
      "\n"
     ]
    }
   ],
   "source": [
    "print(\"Execution time:\\n\" + str(perf))"
   ]
  },
  {
   "cell_type": "markdown",
   "metadata": {
    "editable": true,
    "slideshow": {
     "slide_type": ""
    },
    "tags": []
   },
   "source": [
    "この問題だと、上記の通り1秒以上は時間がかかるはずだ。\n",
    "\n",
    "実は、上記のコードは次の0のマスを探すまでの処理の効率が非常に悪い。0のマスは左上から右下に向かって探しているのだから、今新しく`(i, j)`というマスに数字を入れたら`(i, j+1)`以降の数字だけを調べれば良いのである。\n",
    "\n",
    "その他にも、バックトラック法を高速化するために、候補の数が少ないものから埋めていくなどの方法も考えられる。ぜひ、自分でプログラムを書いて試してみてほしい。確認用に難易度の異なる4問を示しておく。"
   ]
  },
  {
   "cell_type": "code",
   "execution_count": 23,
   "metadata": {
    "editable": true,
    "slideshow": {
     "slide_type": ""
    },
    "tags": []
   },
   "outputs": [],
   "source": [
    "# レベル1\n",
    "problem = \"\"\"\n",
    "-35-9--48\n",
    "--9--8--3\n",
    "-4-6-5--1\n",
    "----74---\n",
    "-2-----6-\n",
    "---15----\n",
    "8--9-2-7-\n",
    "9--5--2--\n",
    "61--4-53-\n",
    "\"\"\""
   ]
  },
  {
   "cell_type": "code",
   "execution_count": 24,
   "metadata": {
    "editable": true,
    "slideshow": {
     "slide_type": ""
    },
    "tags": []
   },
   "outputs": [],
   "source": [
    "# レベル2\n",
    "# https://si-coding.net/sudoku10.html\n",
    "problem = \"\"\"\n",
    "------1-4\n",
    "4---78---\n",
    "-3------2\n",
    "5--4-7-3-\n",
    "2------5-\n",
    "9---264--\n",
    "-27------\n",
    "--56----7\n",
    "-6--13---\n",
    "\"\"\""
   ]
  },
  {
   "cell_type": "code",
   "execution_count": 25,
   "metadata": {
    "editable": true,
    "slideshow": {
     "slide_type": ""
    },
    "tags": []
   },
   "outputs": [],
   "source": [
    "# レベル3\n",
    "# https://www.j-cast.com/premium/2018/10/19341452.html?p=all\n",
    "problem = \"\"\"\n",
    "---------\n",
    "3--2-9--7\n",
    "94--1--82\n",
    "-5-6-2-3-\n",
    "--63-74--\n",
    "---------\n",
    "---------\n",
    "-82-3-59-\n",
    "1--9-4--6\n",
    "\"\"\""
   ]
  },
  {
   "cell_type": "code",
   "execution_count": 26,
   "metadata": {
    "editable": true,
    "slideshow": {
     "slide_type": ""
    },
    "tags": []
   },
   "outputs": [],
   "source": [
    "# 世界一難しい？\n",
    "# https://www.conceptispuzzles.com/ja/index.aspx?uri=info/article/424\n",
    "problem = \"\"\"\n",
    "8--------\n",
    "--36-----\n",
    "-7--9-2--\n",
    "-5---7---\n",
    "----457--\n",
    "---1---3-\n",
    "--1----68\n",
    "--85---1-\n",
    "-9----4--\n",
    "\"\"\""
   ]
  },
  {
   "cell_type": "markdown",
   "metadata": {
    "editable": true,
    "slideshow": {
     "slide_type": ""
    },
    "tags": []
   },
   "source": [
    "### 発展: Exact Coverによる高速な解法"
   ]
  },
  {
   "cell_type": "markdown",
   "metadata": {
    "editable": true,
    "slideshow": {
     "slide_type": ""
    },
    "tags": []
   },
   "source": [
    "バックトラック法よりも遙かに高速な解法として、数独の問題をExact Coverの問題として定式化する方法がある。\n",
    "\n",
    "Exact Cover問題とは、とある集合$\\mathcal{S}$と、その部分集合$s_1, \\ldots, s_n$がいくつか与えられた時に、以下の2つの条件を満たすように部分集合を選ぶ問題である。\n",
    "\n",
    "**条件1:** 選ばれた部分集合$s_{i_1}, \\ldots, s_{i_M}$の和集合が集合$\\mathcal{S}$と同じになる\n",
    "- $\\mathcal{S} = \\bigcap_{m=1}^M s_{i_m}$\n",
    "\n",
    "**条件2:** 選ばれた部分集合$s_{i_1}, \\ldots, s_{i_M}$から任意の2つを選び出したとき、それらの積集合が空\n",
    "- $s_{i_n} \\cup s_{i_m} = \\phi, \\quad \\forall n \\neq m$"
   ]
  },
  {
   "cell_type": "markdown",
   "metadata": {
    "editable": true,
    "slideshow": {
     "slide_type": ""
    },
    "tags": []
   },
   "source": [
    "```{admonition} Exact Coverの例\n",
    ":class: note\n",
    "\n",
    "一例として$\\mathcal{S} = \\{1, 2, 3, 4, 5\\}$を考える。このとき、\n",
    "\n",
    "- $s_1 = \\{1, 2\\}$\n",
    "- $s_2 = \\{2, 3\\}$\n",
    "- $s_3 = \\{4, 5\\}$\n",
    "- $s_4 = \\{ 3 \\}$\n",
    "- $s_5 = \\{1, 3, 5\\}$\n",
    "\n",
    "であるなら、$s_1, s_3, s_4$の組み合わせは$\\mathcal{S}$のExact Coverである。\n",
    "```"
   ]
  },
  {
   "cell_type": "markdown",
   "metadata": {
    "editable": true,
    "slideshow": {
     "slide_type": ""
    },
    "tags": []
   },
   "source": [
    "---\n",
    "\n",
    "Exact Coverにはいくつかの解法があり、Donald Knuthが提案したAlgorithm Xと呼ばれる解法が広く知られている。この解法には、通常、Dancing Linksという、二次元配列を上下左右に双方向連結リストで表現したようなデータ形式を用いる。Dancing Linksには、配列の行や列の消去が効率的に行えるが、やや実装の難易度が高い。\n",
    "\n",
    "今回はDancing Linksの代わりにPandasの`DataFrame`を用いて、Exact CoverをAlgorithm Xによって解いてみる。まずは、単純な例として、上記の「Exact Coverの例」について、Algorithm Xでの解法を見てみる。\n",
    "\n",
    "このデータを表で表わすと以下のようになる。"
   ]
  },
  {
   "cell_type": "code",
   "execution_count": 27,
   "metadata": {
    "editable": true,
    "slideshow": {
     "slide_type": ""
    },
    "tags": [
     "hide-input"
    ]
   },
   "outputs": [
    {
     "data": {
      "text/html": [
       "<div>\n",
       "<style scoped>\n",
       "    .dataframe tbody tr th:only-of-type {\n",
       "        vertical-align: middle;\n",
       "    }\n",
       "\n",
       "    .dataframe tbody tr th {\n",
       "        vertical-align: top;\n",
       "    }\n",
       "\n",
       "    .dataframe thead th {\n",
       "        text-align: right;\n",
       "    }\n",
       "</style>\n",
       "<table border=\"1\" class=\"dataframe\">\n",
       "  <thead>\n",
       "    <tr style=\"text-align: right;\">\n",
       "      <th></th>\n",
       "      <th>1</th>\n",
       "      <th>2</th>\n",
       "      <th>3</th>\n",
       "      <th>4</th>\n",
       "      <th>5</th>\n",
       "    </tr>\n",
       "  </thead>\n",
       "  <tbody>\n",
       "    <tr>\n",
       "      <th>s_1</th>\n",
       "      <td>1</td>\n",
       "      <td>1</td>\n",
       "      <td>0</td>\n",
       "      <td>0</td>\n",
       "      <td>0</td>\n",
       "    </tr>\n",
       "    <tr>\n",
       "      <th>s_2</th>\n",
       "      <td>0</td>\n",
       "      <td>1</td>\n",
       "      <td>1</td>\n",
       "      <td>0</td>\n",
       "      <td>0</td>\n",
       "    </tr>\n",
       "    <tr>\n",
       "      <th>s_3</th>\n",
       "      <td>0</td>\n",
       "      <td>0</td>\n",
       "      <td>0</td>\n",
       "      <td>1</td>\n",
       "      <td>1</td>\n",
       "    </tr>\n",
       "    <tr>\n",
       "      <th>s_4</th>\n",
       "      <td>0</td>\n",
       "      <td>0</td>\n",
       "      <td>1</td>\n",
       "      <td>0</td>\n",
       "      <td>0</td>\n",
       "    </tr>\n",
       "    <tr>\n",
       "      <th>s_5</th>\n",
       "      <td>1</td>\n",
       "      <td>0</td>\n",
       "      <td>1</td>\n",
       "      <td>0</td>\n",
       "      <td>1</td>\n",
       "    </tr>\n",
       "  </tbody>\n",
       "</table>\n",
       "</div>"
      ],
      "text/plain": [
       "     1  2  3  4  5\n",
       "s_1  1  1  0  0  0\n",
       "s_2  0  1  1  0  0\n",
       "s_3  0  0  0  1  1\n",
       "s_4  0  0  1  0  0\n",
       "s_5  1  0  1  0  1"
      ]
     },
     "metadata": {},
     "output_type": "display_data"
    }
   ],
   "source": [
    "import numpy as np\n",
    "import pandas as pd\n",
    "from IPython import display\n",
    "\n",
    "# DataFrameを作成し、データを0で初期化\n",
    "df = pd.DataFrame(index=[\"s_1\", \"s_2\", \"s_3\", \"s_4\", \"s_5\"], columns=[1, 2, 3, 4, 5])\n",
    "df.iloc[:] = 0\n",
    "\n",
    "# 部分集合の情報を入力\n",
    "df.loc[\"s_1\", [1, 2]] = 1\n",
    "df.loc[\"s_2\", [2, 3]] = 1\n",
    "df.loc[\"s_3\", [4, 5]] = 1\n",
    "df.loc[\"s_4\", [3]] = 1\n",
    "df.loc[\"s_5\", [1, 3, 5]] = 1\n",
    "\n",
    "# 表の表示\n",
    "display.display(df)"
   ]
  },
  {
   "cell_type": "markdown",
   "metadata": {
    "editable": true,
    "slideshow": {
     "slide_type": ""
    },
    "tags": []
   },
   "source": [
    "この表では、各部分集合について、値を持っている部分に1が、持っていない部分に0が入っている。Exact Coverが解くべき問題を表を用いて言い換えれば、「表の行のうちのいくつかを取り出して表を作ったときに、各列に必ず1つだけ1が存在する」ようにすること、となる。\n",
    "\n",
    "これを実現するために、Algorithm Xでは、各列を見たときに、最も1が少ない列に注目する。この表では、「4」の列が最も1の数が少ない列である。なお、この操作の時に最も1が少ない列がもつ1の数が0である (つまる列の要素が全て0の列が存在する)場合には、Exact Coverは不可能なので処理を終了する。"
   ]
  },
  {
   "cell_type": "code",
   "execution_count": 28,
   "metadata": {
    "editable": true,
    "slideshow": {
     "slide_type": ""
    },
    "tags": [
     "hide-input"
    ]
   },
   "outputs": [
    {
     "data": {
      "text/html": [
       "<style type=\"text/css\">\n",
       "#T_aa239_row0_col3, #T_aa239_row1_col3, #T_aa239_row2_col3, #T_aa239_row3_col3, #T_aa239_row4_col3 {\n",
       "  background-color: pink;\n",
       "  font-weight: bold;\n",
       "}\n",
       "</style>\n",
       "<table id=\"T_aa239\">\n",
       "  <thead>\n",
       "    <tr>\n",
       "      <th class=\"blank level0\" >&nbsp;</th>\n",
       "      <th id=\"T_aa239_level0_col0\" class=\"col_heading level0 col0\" >1</th>\n",
       "      <th id=\"T_aa239_level0_col1\" class=\"col_heading level0 col1\" >2</th>\n",
       "      <th id=\"T_aa239_level0_col2\" class=\"col_heading level0 col2\" >3</th>\n",
       "      <th id=\"T_aa239_level0_col3\" class=\"col_heading level0 col3\" >4</th>\n",
       "      <th id=\"T_aa239_level0_col4\" class=\"col_heading level0 col4\" >5</th>\n",
       "    </tr>\n",
       "  </thead>\n",
       "  <tbody>\n",
       "    <tr>\n",
       "      <th id=\"T_aa239_level0_row0\" class=\"row_heading level0 row0\" >s_1</th>\n",
       "      <td id=\"T_aa239_row0_col0\" class=\"data row0 col0\" >1</td>\n",
       "      <td id=\"T_aa239_row0_col1\" class=\"data row0 col1\" >1</td>\n",
       "      <td id=\"T_aa239_row0_col2\" class=\"data row0 col2\" >0</td>\n",
       "      <td id=\"T_aa239_row0_col3\" class=\"data row0 col3\" >0</td>\n",
       "      <td id=\"T_aa239_row0_col4\" class=\"data row0 col4\" >0</td>\n",
       "    </tr>\n",
       "    <tr>\n",
       "      <th id=\"T_aa239_level0_row1\" class=\"row_heading level0 row1\" >s_2</th>\n",
       "      <td id=\"T_aa239_row1_col0\" class=\"data row1 col0\" >0</td>\n",
       "      <td id=\"T_aa239_row1_col1\" class=\"data row1 col1\" >1</td>\n",
       "      <td id=\"T_aa239_row1_col2\" class=\"data row1 col2\" >1</td>\n",
       "      <td id=\"T_aa239_row1_col3\" class=\"data row1 col3\" >0</td>\n",
       "      <td id=\"T_aa239_row1_col4\" class=\"data row1 col4\" >0</td>\n",
       "    </tr>\n",
       "    <tr>\n",
       "      <th id=\"T_aa239_level0_row2\" class=\"row_heading level0 row2\" >s_3</th>\n",
       "      <td id=\"T_aa239_row2_col0\" class=\"data row2 col0\" >0</td>\n",
       "      <td id=\"T_aa239_row2_col1\" class=\"data row2 col1\" >0</td>\n",
       "      <td id=\"T_aa239_row2_col2\" class=\"data row2 col2\" >0</td>\n",
       "      <td id=\"T_aa239_row2_col3\" class=\"data row2 col3\" >1</td>\n",
       "      <td id=\"T_aa239_row2_col4\" class=\"data row2 col4\" >1</td>\n",
       "    </tr>\n",
       "    <tr>\n",
       "      <th id=\"T_aa239_level0_row3\" class=\"row_heading level0 row3\" >s_4</th>\n",
       "      <td id=\"T_aa239_row3_col0\" class=\"data row3 col0\" >0</td>\n",
       "      <td id=\"T_aa239_row3_col1\" class=\"data row3 col1\" >0</td>\n",
       "      <td id=\"T_aa239_row3_col2\" class=\"data row3 col2\" >1</td>\n",
       "      <td id=\"T_aa239_row3_col3\" class=\"data row3 col3\" >0</td>\n",
       "      <td id=\"T_aa239_row3_col4\" class=\"data row3 col4\" >0</td>\n",
       "    </tr>\n",
       "    <tr>\n",
       "      <th id=\"T_aa239_level0_row4\" class=\"row_heading level0 row4\" >s_5</th>\n",
       "      <td id=\"T_aa239_row4_col0\" class=\"data row4 col0\" >1</td>\n",
       "      <td id=\"T_aa239_row4_col1\" class=\"data row4 col1\" >0</td>\n",
       "      <td id=\"T_aa239_row4_col2\" class=\"data row4 col2\" >1</td>\n",
       "      <td id=\"T_aa239_row4_col3\" class=\"data row4 col3\" >0</td>\n",
       "      <td id=\"T_aa239_row4_col4\" class=\"data row4 col4\" >1</td>\n",
       "    </tr>\n",
       "  </tbody>\n",
       "</table>\n"
      ],
      "text/plain": [
       "<pandas.io.formats.style.Styler at 0x1cb0664c790>"
      ]
     },
     "execution_count": 28,
     "metadata": {},
     "output_type": "execute_result"
    }
   ],
   "source": [
    "def custom_style(df):\n",
    "    index = df.index\n",
    "    columns = df.columns\n",
    "    styles = []\n",
    "    for i in range(len(index)):\n",
    "        s = []\n",
    "        for j in range(len(columns)):\n",
    "            if columns[j] == 4:\n",
    "                s.append(\"background-color: pink; font-weight: bold;\")\n",
    "            else:\n",
    "                s.append(None)\n",
    "        styles.append(s)\n",
    "\n",
    "    return np.array(styles, dtype=\"object\")\n",
    "\n",
    "\n",
    "df.style.apply(custom_style, axis=None)"
   ]
  },
  {
   "cell_type": "markdown",
   "metadata": {
    "editable": true,
    "slideshow": {
     "slide_type": ""
    },
    "tags": []
   },
   "source": [
    "このとき、仮に複数の列が同じ数の1を持っていたとしても、その操作のうち任意の一つだけを選択すれば良く、**それらを順々に処理する必要はない**。なぜなら、仮にここでその列を選択しなかったとしても、以後の処理でExact Coverを実現するために、**いずれ残りの列も選択される**ためだ。\n",
    "\n",
    "今回は、1の数が一つだけの列は4列目だけなので、これを選んで処理を進める。選ばれた列に対して、値が1となっている「行」を順々に見ていく。今回は**s_3**の行だけが1を持っているので、この行を選択する。"
   ]
  },
  {
   "cell_type": "code",
   "execution_count": 29,
   "metadata": {
    "editable": true,
    "slideshow": {
     "slide_type": ""
    },
    "tags": [
     "hide-input"
    ]
   },
   "outputs": [
    {
     "data": {
      "text/html": [
       "<style type=\"text/css\">\n",
       "#T_1cb08_row0_col3, #T_1cb08_row1_col3, #T_1cb08_row3_col3, #T_1cb08_row4_col3 {\n",
       "  background-color: pink;\n",
       "  font-weight: bold;\n",
       "}\n",
       "#T_1cb08_row2_col0, #T_1cb08_row2_col1, #T_1cb08_row2_col2, #T_1cb08_row2_col4 {\n",
       "  background-color: powderblue;\n",
       "  font-weight: bold;\n",
       "}\n",
       "#T_1cb08_row2_col3 {\n",
       "  background-color: plum;\n",
       "  font-weight: bold;\n",
       "}\n",
       "</style>\n",
       "<table id=\"T_1cb08\">\n",
       "  <thead>\n",
       "    <tr>\n",
       "      <th class=\"blank level0\" >&nbsp;</th>\n",
       "      <th id=\"T_1cb08_level0_col0\" class=\"col_heading level0 col0\" >1</th>\n",
       "      <th id=\"T_1cb08_level0_col1\" class=\"col_heading level0 col1\" >2</th>\n",
       "      <th id=\"T_1cb08_level0_col2\" class=\"col_heading level0 col2\" >3</th>\n",
       "      <th id=\"T_1cb08_level0_col3\" class=\"col_heading level0 col3\" >4</th>\n",
       "      <th id=\"T_1cb08_level0_col4\" class=\"col_heading level0 col4\" >5</th>\n",
       "    </tr>\n",
       "  </thead>\n",
       "  <tbody>\n",
       "    <tr>\n",
       "      <th id=\"T_1cb08_level0_row0\" class=\"row_heading level0 row0\" >s_1</th>\n",
       "      <td id=\"T_1cb08_row0_col0\" class=\"data row0 col0\" >1</td>\n",
       "      <td id=\"T_1cb08_row0_col1\" class=\"data row0 col1\" >1</td>\n",
       "      <td id=\"T_1cb08_row0_col2\" class=\"data row0 col2\" >0</td>\n",
       "      <td id=\"T_1cb08_row0_col3\" class=\"data row0 col3\" >0</td>\n",
       "      <td id=\"T_1cb08_row0_col4\" class=\"data row0 col4\" >0</td>\n",
       "    </tr>\n",
       "    <tr>\n",
       "      <th id=\"T_1cb08_level0_row1\" class=\"row_heading level0 row1\" >s_2</th>\n",
       "      <td id=\"T_1cb08_row1_col0\" class=\"data row1 col0\" >0</td>\n",
       "      <td id=\"T_1cb08_row1_col1\" class=\"data row1 col1\" >1</td>\n",
       "      <td id=\"T_1cb08_row1_col2\" class=\"data row1 col2\" >1</td>\n",
       "      <td id=\"T_1cb08_row1_col3\" class=\"data row1 col3\" >0</td>\n",
       "      <td id=\"T_1cb08_row1_col4\" class=\"data row1 col4\" >0</td>\n",
       "    </tr>\n",
       "    <tr>\n",
       "      <th id=\"T_1cb08_level0_row2\" class=\"row_heading level0 row2\" >s_3</th>\n",
       "      <td id=\"T_1cb08_row2_col0\" class=\"data row2 col0\" >0</td>\n",
       "      <td id=\"T_1cb08_row2_col1\" class=\"data row2 col1\" >0</td>\n",
       "      <td id=\"T_1cb08_row2_col2\" class=\"data row2 col2\" >0</td>\n",
       "      <td id=\"T_1cb08_row2_col3\" class=\"data row2 col3\" >1</td>\n",
       "      <td id=\"T_1cb08_row2_col4\" class=\"data row2 col4\" >1</td>\n",
       "    </tr>\n",
       "    <tr>\n",
       "      <th id=\"T_1cb08_level0_row3\" class=\"row_heading level0 row3\" >s_4</th>\n",
       "      <td id=\"T_1cb08_row3_col0\" class=\"data row3 col0\" >0</td>\n",
       "      <td id=\"T_1cb08_row3_col1\" class=\"data row3 col1\" >0</td>\n",
       "      <td id=\"T_1cb08_row3_col2\" class=\"data row3 col2\" >1</td>\n",
       "      <td id=\"T_1cb08_row3_col3\" class=\"data row3 col3\" >0</td>\n",
       "      <td id=\"T_1cb08_row3_col4\" class=\"data row3 col4\" >0</td>\n",
       "    </tr>\n",
       "    <tr>\n",
       "      <th id=\"T_1cb08_level0_row4\" class=\"row_heading level0 row4\" >s_5</th>\n",
       "      <td id=\"T_1cb08_row4_col0\" class=\"data row4 col0\" >1</td>\n",
       "      <td id=\"T_1cb08_row4_col1\" class=\"data row4 col1\" >0</td>\n",
       "      <td id=\"T_1cb08_row4_col2\" class=\"data row4 col2\" >1</td>\n",
       "      <td id=\"T_1cb08_row4_col3\" class=\"data row4 col3\" >0</td>\n",
       "      <td id=\"T_1cb08_row4_col4\" class=\"data row4 col4\" >1</td>\n",
       "    </tr>\n",
       "  </tbody>\n",
       "</table>\n"
      ],
      "text/plain": [
       "<pandas.io.formats.style.Styler at 0x1cb086ec450>"
      ]
     },
     "execution_count": 29,
     "metadata": {},
     "output_type": "execute_result"
    }
   ],
   "source": [
    "def custom_style(df):\n",
    "    index = df.index\n",
    "    columns = df.columns\n",
    "    styles = []\n",
    "    for i in range(len(index)):\n",
    "        s = []\n",
    "        for j in range(len(columns)):\n",
    "            if index[i] == \"s_3\" and columns[j] == 4:\n",
    "                s.append(\"background-color: plum; font-weight: bold;\")\n",
    "            elif index[i] == \"s_3\":\n",
    "                s.append(\"background-color: powderblue; font-weight: bold;\")\n",
    "            elif columns[j] == 4:\n",
    "                s.append(\"background-color: pink; font-weight: bold;\")\n",
    "            else:\n",
    "                s.append(None)\n",
    "        styles.append(s)\n",
    "\n",
    "    return np.array(styles, dtype=\"object\")\n",
    "\n",
    "\n",
    "df.style.apply(custom_style, axis=None)"
   ]
  },
  {
   "cell_type": "markdown",
   "metadata": {
    "editable": true,
    "slideshow": {
     "slide_type": ""
    },
    "tags": []
   },
   "source": [
    "選択された行の要素のうち、1を持っている「列」に次は注目する。今回の例では、4, 5行目が1の値を持っている。これらの列で、1の要素を持っている「行」を洗い出す。すると、**s_3**, **s_5**の行が1の要素を4, 5列目の少なくともいずれかに1の値を持っている。\n",
    "\n",
    "今、**s_3**の行を選択したということは、それが満たす条件である**4**, **5**の列は不要であり、また同じ条件を満たす**s_5**はExact Coverを達成する上で選ばれてはいけないから、これらの行、列を削除して良いことが分かる。"
   ]
  },
  {
   "cell_type": "code",
   "execution_count": 30,
   "metadata": {
    "editable": true,
    "slideshow": {
     "slide_type": ""
    },
    "tags": [
     "hide-input"
    ]
   },
   "outputs": [
    {
     "data": {
      "text/html": [
       "<style type=\"text/css\">\n",
       "#T_498c9_row0_col3, #T_498c9_row0_col4, #T_498c9_row1_col3, #T_498c9_row1_col4, #T_498c9_row3_col3, #T_498c9_row3_col4 {\n",
       "  background-color: pink;\n",
       "  font-weight: bold;\n",
       "}\n",
       "#T_498c9_row2_col0, #T_498c9_row2_col1, #T_498c9_row2_col2, #T_498c9_row4_col0, #T_498c9_row4_col1, #T_498c9_row4_col2 {\n",
       "  background-color: powderblue;\n",
       "  font-weight: bold;\n",
       "}\n",
       "#T_498c9_row2_col3, #T_498c9_row2_col4, #T_498c9_row4_col3, #T_498c9_row4_col4 {\n",
       "  background-color: plum;\n",
       "  font-weight: bold;\n",
       "}\n",
       "</style>\n",
       "<table id=\"T_498c9\">\n",
       "  <thead>\n",
       "    <tr>\n",
       "      <th class=\"blank level0\" >&nbsp;</th>\n",
       "      <th id=\"T_498c9_level0_col0\" class=\"col_heading level0 col0\" >1</th>\n",
       "      <th id=\"T_498c9_level0_col1\" class=\"col_heading level0 col1\" >2</th>\n",
       "      <th id=\"T_498c9_level0_col2\" class=\"col_heading level0 col2\" >3</th>\n",
       "      <th id=\"T_498c9_level0_col3\" class=\"col_heading level0 col3\" >4</th>\n",
       "      <th id=\"T_498c9_level0_col4\" class=\"col_heading level0 col4\" >5</th>\n",
       "    </tr>\n",
       "  </thead>\n",
       "  <tbody>\n",
       "    <tr>\n",
       "      <th id=\"T_498c9_level0_row0\" class=\"row_heading level0 row0\" >s_1</th>\n",
       "      <td id=\"T_498c9_row0_col0\" class=\"data row0 col0\" >1</td>\n",
       "      <td id=\"T_498c9_row0_col1\" class=\"data row0 col1\" >1</td>\n",
       "      <td id=\"T_498c9_row0_col2\" class=\"data row0 col2\" >0</td>\n",
       "      <td id=\"T_498c9_row0_col3\" class=\"data row0 col3\" >0</td>\n",
       "      <td id=\"T_498c9_row0_col4\" class=\"data row0 col4\" >0</td>\n",
       "    </tr>\n",
       "    <tr>\n",
       "      <th id=\"T_498c9_level0_row1\" class=\"row_heading level0 row1\" >s_2</th>\n",
       "      <td id=\"T_498c9_row1_col0\" class=\"data row1 col0\" >0</td>\n",
       "      <td id=\"T_498c9_row1_col1\" class=\"data row1 col1\" >1</td>\n",
       "      <td id=\"T_498c9_row1_col2\" class=\"data row1 col2\" >1</td>\n",
       "      <td id=\"T_498c9_row1_col3\" class=\"data row1 col3\" >0</td>\n",
       "      <td id=\"T_498c9_row1_col4\" class=\"data row1 col4\" >0</td>\n",
       "    </tr>\n",
       "    <tr>\n",
       "      <th id=\"T_498c9_level0_row2\" class=\"row_heading level0 row2\" >s_3</th>\n",
       "      <td id=\"T_498c9_row2_col0\" class=\"data row2 col0\" >0</td>\n",
       "      <td id=\"T_498c9_row2_col1\" class=\"data row2 col1\" >0</td>\n",
       "      <td id=\"T_498c9_row2_col2\" class=\"data row2 col2\" >0</td>\n",
       "      <td id=\"T_498c9_row2_col3\" class=\"data row2 col3\" >1</td>\n",
       "      <td id=\"T_498c9_row2_col4\" class=\"data row2 col4\" >1</td>\n",
       "    </tr>\n",
       "    <tr>\n",
       "      <th id=\"T_498c9_level0_row3\" class=\"row_heading level0 row3\" >s_4</th>\n",
       "      <td id=\"T_498c9_row3_col0\" class=\"data row3 col0\" >0</td>\n",
       "      <td id=\"T_498c9_row3_col1\" class=\"data row3 col1\" >0</td>\n",
       "      <td id=\"T_498c9_row3_col2\" class=\"data row3 col2\" >1</td>\n",
       "      <td id=\"T_498c9_row3_col3\" class=\"data row3 col3\" >0</td>\n",
       "      <td id=\"T_498c9_row3_col4\" class=\"data row3 col4\" >0</td>\n",
       "    </tr>\n",
       "    <tr>\n",
       "      <th id=\"T_498c9_level0_row4\" class=\"row_heading level0 row4\" >s_5</th>\n",
       "      <td id=\"T_498c9_row4_col0\" class=\"data row4 col0\" >1</td>\n",
       "      <td id=\"T_498c9_row4_col1\" class=\"data row4 col1\" >0</td>\n",
       "      <td id=\"T_498c9_row4_col2\" class=\"data row4 col2\" >1</td>\n",
       "      <td id=\"T_498c9_row4_col3\" class=\"data row4 col3\" >0</td>\n",
       "      <td id=\"T_498c9_row4_col4\" class=\"data row4 col4\" >1</td>\n",
       "    </tr>\n",
       "  </tbody>\n",
       "</table>\n"
      ],
      "text/plain": [
       "<pandas.io.formats.style.Styler at 0x1cb0906bbd0>"
      ]
     },
     "execution_count": 30,
     "metadata": {},
     "output_type": "execute_result"
    }
   ],
   "source": [
    "def custom_style(df):\n",
    "    index = df.index\n",
    "    columns = df.columns\n",
    "    styles = []\n",
    "    for i in range(len(index)):\n",
    "        s = []\n",
    "        for j in range(len(columns)):\n",
    "            if index[i] in [\"s_3\", \"s_5\"] and columns[j] in [4, 5]:\n",
    "                s.append(\"background-color: plum; font-weight: bold;\")\n",
    "            elif index[i] in [\"s_3\", \"s_5\"]:\n",
    "                s.append(\"background-color: powderblue; font-weight: bold;\")\n",
    "            elif columns[j] in [4, 5]:\n",
    "                s.append(\"background-color: pink; font-weight: bold;\")\n",
    "            else:\n",
    "                s.append(None)\n",
    "        styles.append(s)\n",
    "\n",
    "    return np.array(styles, dtype=\"object\")\n",
    "\n",
    "\n",
    "df.style.apply(custom_style, axis=None)"
   ]
  },
  {
   "cell_type": "markdown",
   "metadata": {
    "editable": true,
    "slideshow": {
     "slide_type": ""
    },
    "tags": []
   },
   "source": [
    "ここまでの処理をまとめると、以下の手順になる。\n",
    "\n",
    "1. 各**列**が持つ1の数を数えて、最も少ない1を持つ列の中の1つ(**列X**とする)を選ぶ\n",
    "1. 列Xの要素の中で1を持つ行を1つ(**行A**とする)を選ぶ\n",
    "1. 行Aの中で1の要素を持つ列 (**列x, 列y, ...** とする)を選ぶ\n",
    "1. 列x, 列y, ...の各列において、少なくとも一つの1を持つ行 (**行a, 行b, ...** とする)を選ぶ\n",
    "\n",
    "選ばれた **列x, 列y, ...** ならびに **行a, 行b, ...** を元の表から削除すると、小さな表が得られる。上記の例を用いると、色がついていないセルだけが残り、以下のような表が得られる。"
   ]
  },
  {
   "cell_type": "code",
   "execution_count": 31,
   "metadata": {
    "editable": true,
    "slideshow": {
     "slide_type": ""
    },
    "tags": [
     "hide-input"
    ]
   },
   "outputs": [
    {
     "data": {
      "text/html": [
       "<div>\n",
       "<style scoped>\n",
       "    .dataframe tbody tr th:only-of-type {\n",
       "        vertical-align: middle;\n",
       "    }\n",
       "\n",
       "    .dataframe tbody tr th {\n",
       "        vertical-align: top;\n",
       "    }\n",
       "\n",
       "    .dataframe thead th {\n",
       "        text-align: right;\n",
       "    }\n",
       "</style>\n",
       "<table border=\"1\" class=\"dataframe\">\n",
       "  <thead>\n",
       "    <tr style=\"text-align: right;\">\n",
       "      <th></th>\n",
       "      <th>1</th>\n",
       "      <th>2</th>\n",
       "      <th>3</th>\n",
       "    </tr>\n",
       "  </thead>\n",
       "  <tbody>\n",
       "    <tr>\n",
       "      <th>s_1</th>\n",
       "      <td>1</td>\n",
       "      <td>1</td>\n",
       "      <td>0</td>\n",
       "    </tr>\n",
       "    <tr>\n",
       "      <th>s_2</th>\n",
       "      <td>0</td>\n",
       "      <td>1</td>\n",
       "      <td>1</td>\n",
       "    </tr>\n",
       "    <tr>\n",
       "      <th>s_4</th>\n",
       "      <td>0</td>\n",
       "      <td>0</td>\n",
       "      <td>1</td>\n",
       "    </tr>\n",
       "  </tbody>\n",
       "</table>\n",
       "</div>"
      ],
      "text/plain": [
       "     1  2  3\n",
       "s_1  1  1  0\n",
       "s_2  0  1  1\n",
       "s_4  0  0  1"
      ]
     },
     "execution_count": 31,
     "metadata": {},
     "output_type": "execute_result"
    }
   ],
   "source": [
    "new_df = df.loc[[\"s_1\", \"s_2\", \"s_4\"], [1, 2, 3]]\n",
    "new_df"
   ]
  },
  {
   "cell_type": "markdown",
   "metadata": {
    "editable": true,
    "slideshow": {
     "slide_type": ""
    },
    "tags": []
   },
   "source": [
    "このようにして、小さな表が得られたら、上記の手順1-4をこの表に対しても繰り返す。この表は、1列目が、最も少ない1を持つので、選ばれる **列x, 列y, ...** ならびに **行a, 行b, ...** に色をつけると以下のようになる。"
   ]
  },
  {
   "cell_type": "code",
   "execution_count": 32,
   "metadata": {
    "editable": true,
    "slideshow": {
     "slide_type": ""
    },
    "tags": [
     "hide-input"
    ]
   },
   "outputs": [
    {
     "data": {
      "text/html": [
       "<style type=\"text/css\">\n",
       "#T_2b0c6_row0_col0, #T_2b0c6_row0_col1, #T_2b0c6_row1_col0, #T_2b0c6_row1_col1 {\n",
       "  background-color: plum;\n",
       "  font-weight: bold;\n",
       "}\n",
       "#T_2b0c6_row0_col2, #T_2b0c6_row1_col2 {\n",
       "  background-color: powderblue;\n",
       "  font-weight: bold;\n",
       "}\n",
       "#T_2b0c6_row2_col0, #T_2b0c6_row2_col1 {\n",
       "  background-color: pink;\n",
       "  font-weight: bold;\n",
       "}\n",
       "</style>\n",
       "<table id=\"T_2b0c6\">\n",
       "  <thead>\n",
       "    <tr>\n",
       "      <th class=\"blank level0\" >&nbsp;</th>\n",
       "      <th id=\"T_2b0c6_level0_col0\" class=\"col_heading level0 col0\" >1</th>\n",
       "      <th id=\"T_2b0c6_level0_col1\" class=\"col_heading level0 col1\" >2</th>\n",
       "      <th id=\"T_2b0c6_level0_col2\" class=\"col_heading level0 col2\" >3</th>\n",
       "    </tr>\n",
       "  </thead>\n",
       "  <tbody>\n",
       "    <tr>\n",
       "      <th id=\"T_2b0c6_level0_row0\" class=\"row_heading level0 row0\" >s_1</th>\n",
       "      <td id=\"T_2b0c6_row0_col0\" class=\"data row0 col0\" >1</td>\n",
       "      <td id=\"T_2b0c6_row0_col1\" class=\"data row0 col1\" >1</td>\n",
       "      <td id=\"T_2b0c6_row0_col2\" class=\"data row0 col2\" >0</td>\n",
       "    </tr>\n",
       "    <tr>\n",
       "      <th id=\"T_2b0c6_level0_row1\" class=\"row_heading level0 row1\" >s_2</th>\n",
       "      <td id=\"T_2b0c6_row1_col0\" class=\"data row1 col0\" >0</td>\n",
       "      <td id=\"T_2b0c6_row1_col1\" class=\"data row1 col1\" >1</td>\n",
       "      <td id=\"T_2b0c6_row1_col2\" class=\"data row1 col2\" >1</td>\n",
       "    </tr>\n",
       "    <tr>\n",
       "      <th id=\"T_2b0c6_level0_row2\" class=\"row_heading level0 row2\" >s_4</th>\n",
       "      <td id=\"T_2b0c6_row2_col0\" class=\"data row2 col0\" >0</td>\n",
       "      <td id=\"T_2b0c6_row2_col1\" class=\"data row2 col1\" >0</td>\n",
       "      <td id=\"T_2b0c6_row2_col2\" class=\"data row2 col2\" >1</td>\n",
       "    </tr>\n",
       "  </tbody>\n",
       "</table>\n"
      ],
      "text/plain": [
       "<pandas.io.formats.style.Styler at 0x1cb08281290>"
      ]
     },
     "execution_count": 32,
     "metadata": {},
     "output_type": "execute_result"
    }
   ],
   "source": [
    "def custom_style(df):\n",
    "    index = df.index\n",
    "    columns = df.columns\n",
    "    styles = []\n",
    "    for i in range(len(index)):\n",
    "        s = []\n",
    "        for j in range(len(columns)):\n",
    "            if index[i] in [\"s_1\", \"s_2\"] and columns[j] in [1, 2]:\n",
    "                s.append(\"background-color: plum; font-weight: bold;\")\n",
    "            elif index[i] in [\"s_1\", \"s_2\"]:\n",
    "                s.append(\"background-color: powderblue; font-weight: bold;\")\n",
    "            elif columns[j] in [1, 2]:\n",
    "                s.append(\"background-color: pink; font-weight: bold;\")\n",
    "            else:\n",
    "                s.append(None)\n",
    "        styles.append(s)\n",
    "\n",
    "    return np.array(styles, dtype=\"object\")\n",
    "\n",
    "\n",
    "new_df.style.apply(custom_style, axis=None)"
   ]
  },
  {
   "cell_type": "markdown",
   "metadata": {
    "editable": true,
    "slideshow": {
     "slide_type": ""
    },
    "tags": []
   },
   "source": [
    "ここで、再度選ばれた行、列を削除すると、次は、以下のような表が得られる。"
   ]
  },
  {
   "cell_type": "code",
   "execution_count": 33,
   "metadata": {
    "editable": true,
    "slideshow": {
     "slide_type": ""
    },
    "tags": [
     "hide-input"
    ]
   },
   "outputs": [
    {
     "data": {
      "text/html": [
       "<div>\n",
       "<style scoped>\n",
       "    .dataframe tbody tr th:only-of-type {\n",
       "        vertical-align: middle;\n",
       "    }\n",
       "\n",
       "    .dataframe tbody tr th {\n",
       "        vertical-align: top;\n",
       "    }\n",
       "\n",
       "    .dataframe thead th {\n",
       "        text-align: right;\n",
       "    }\n",
       "</style>\n",
       "<table border=\"1\" class=\"dataframe\">\n",
       "  <thead>\n",
       "    <tr style=\"text-align: right;\">\n",
       "      <th></th>\n",
       "      <th>3</th>\n",
       "    </tr>\n",
       "  </thead>\n",
       "  <tbody>\n",
       "    <tr>\n",
       "      <th>s_4</th>\n",
       "      <td>1</td>\n",
       "    </tr>\n",
       "  </tbody>\n",
       "</table>\n",
       "</div>"
      ],
      "text/plain": [
       "     3\n",
       "s_4  1"
      ]
     },
     "execution_count": 33,
     "metadata": {},
     "output_type": "execute_result"
    }
   ],
   "source": [
    "new_df2 = new_df.loc[[\"s_4\"], [3]]\n",
    "new_df2"
   ]
  },
  {
   "cell_type": "markdown",
   "metadata": {
    "editable": true,
    "slideshow": {
     "slide_type": ""
    },
    "tags": []
   },
   "source": [
    "このように表に対して、再度上記の操作を繰り返すと、**表全体が選択されて、空の表になる**ことが分かる (このとき、表の値が全て1であるとは限らないが、少なくとも1行は全ての列が1となる行が存在する)。このような空の表が現れたら処理を終了し、これまでに選択した列のインデックスの列を返すと、Exact Coverとなる部分集合の列が得られる。\n",
    "\n",
    "ここまでの処理で、手順2で選ばれた行を列挙すると、最初に**s_3**が、次に**s_1**が、そして最後に**s_4**が選ばれた。この三つの部分集合は元の集合$\\mathcal{S}$のExact Coverとなっており、Algorithm Xにより問題が正しく解けていることが確認できた。\n",
    "\n",
    "なお、Pandasの`DataFrame`を用いた実装は以下のようになる。"
   ]
  },
  {
   "cell_type": "code",
   "execution_count": 34,
   "metadata": {
    "editable": true,
    "slideshow": {
     "slide_type": ""
    },
    "tags": []
   },
   "outputs": [],
   "source": [
    "# Knuth's Algorithm X\n",
    "def dfs(df: pd.DataFrame):\n",
    "    # 使い勝手のためにNumPy配列に変換\n",
    "    m = df.to_numpy()\n",
    "    if m.size == 0:\n",
    "        return []\n",
    "\n",
    "    # 1の数が最小の行を探す\n",
    "    sums = np.sum(m, axis=0)\n",
    "    sc = np.argmin(sums)\n",
    "    if sums[sc] == 0:\n",
    "        return None\n",
    "\n",
    "    sel_rows = np.where(m[:, sc])[0]\n",
    "    for sr in sel_rows:\n",
    "        mask_cols = np.where(m[sr, :])[0]\n",
    "        mask_rows = [np.where(m[:, c])[0] for c in mask_cols]\n",
    "        mask_rows = np.unique(np.concatenate(mask_rows))\n",
    "\n",
    "        new_df = df.drop(index=df.index[mask_rows]).drop(columns=df.columns[mask_cols])\n",
    "        ret = dfs(new_df)\n",
    "        if ret is not None:\n",
    "            return ret + [df.index[sr]]\n",
    "\n",
    "    return None"
   ]
  },
  {
   "cell_type": "code",
   "execution_count": 35,
   "metadata": {
    "editable": true,
    "slideshow": {
     "slide_type": ""
    },
    "tags": []
   },
   "outputs": [
    {
     "name": "stdout",
     "output_type": "stream",
     "text": [
      "The solution for exact cover is: ['s_1', 's_3', 's_4']\n"
     ]
    }
   ],
   "source": [
    "solution = dfs(df)\n",
    "if solution is not None:\n",
    "    print(\"The solution for exact cover is:\", sorted(solution))\n",
    "else:\n",
    "    print(\"Solution not found!\")"
   ]
  },
  {
   "cell_type": "markdown",
   "metadata": {
    "editable": true,
    "slideshow": {
     "slide_type": ""
    },
    "tags": []
   },
   "source": [
    "---\n",
    "\n",
    "**数独のExact Coverによる定式化**"
   ]
  },
  {
   "cell_type": "markdown",
   "metadata": {
    "editable": true,
    "slideshow": {
     "slide_type": ""
    },
    "tags": []
   },
   "source": [
    "では、数独の問題をExact Coverの問題として定式化してみよう。これには、数独の問題を少し違った見方から捕らえる必要がある。\n",
    "\n",
    "まず、各セルに何らかの値が入った場合に何が起こるのかを考えてみる。とあるA行X列のセルAXに1が入ることは、\n",
    "\n",
    "- セルAXには1-9のうち1が入るという**操作**がなされた\n",
    "- セルAXに数字が入るという**条件**が満たされた\n",
    "- A行目に1が入るという**条件**が満たされた\n",
    "- X列目に1が入るという**条件**が満たされた\n",
    "- セルAXが属するブロックに1が入るという**条件**が満たされた\n",
    "\n",
    "という操作とそれによって充足される条件を意味する。これを集合の表記で書くとすれば、\n",
    "\n",
    "$$\n",
    "s_{\\text{Row-A,Col-X}} = \\{ c_{\\text{Fill,Row-A,Col-X}}, c_{\\text{1,Row-A}}, c_{\\text{1, Col-X}} c_{\\text{1, Blk-N}} \\}\n",
    "$$\n",
    "\n",
    "のようになり、$c_{\\text{Fill,Row-A,Col-X}}$はA行X列に数字が入ることを、$c_{\\text{1,Row-A}}$は行Aに1が入ることを、$ c_{\\text{1, Col-X}}$はX列に1が入ることを、$c_{\\text{1, Blk-N}}$はブロックNに1が入ることをそれぞれ表わす。"
   ]
  },
  {
   "cell_type": "markdown",
   "metadata": {
    "editable": true,
    "slideshow": {
     "slide_type": ""
    },
    "tags": []
   },
   "source": [
    "このように数独の問題を捕らえ直すと、セルに数字を入れるという操作は、とある条件の全体集合の部分集合になっていることが分かる。\n",
    "\n",
    "この際、操作の数は数字を入れるセルが9×9=81個あり、そこに1-9の9種類の数字が入りうるので、**729個の操作があり得る**ことが分かる。\n",
    "\n",
    "また、満たすべき条件としては、9×9個のセルに数字が入る (81通り)、9個の各行に1-9の数字が入る (9×9=81通り)、9個の各列に1-9の数字が入る (9x9=81通り)、9個のブロックに1-9の数字が入る(9×9=81通り)の合計**324通りの条件がある**ことが分かる。\n",
    "\n",
    "さらに、各条件は1つの操作によってしか満たされない (例: とある列に二つの2が入ることはあり得ない)ので、数独の問題が、729個ある操作からいくつか (実際には81個)を選んで、324個の条件をちょうど1度ずつ満たす問題、すなわち、Exact Coverの問題であることが分かる。"
   ]
  },
  {
   "cell_type": "markdown",
   "metadata": {
    "editable": true,
    "slideshow": {
     "slide_type": ""
    },
    "tags": []
   },
   "source": [
    "以上の議論より、数独をExact Coverの問題として解くには729×324の大きさの表を作り、数字が既知のセルに対応する条件に1を入れる。この表に対してAlgorithm Xを適用すれば、必要な操作(=どのセルにどの数字を入れるか)を決定することができる。"
   ]
  },
  {
   "cell_type": "markdown",
   "metadata": {
    "editable": true,
    "slideshow": {
     "slide_type": ""
    },
    "tags": []
   },
   "source": [
    "以下では、各セルに数字を入れる操作を**R1C1#1**のように表わすこととし、セルに数字が入るという条件を**R1C1**、行に数字が入るという条件を**R1#1**、列に数字が入るという条件を**C1#1**、ブロックに数字が入るという操作を**B1#1**のように表わすことにする。\n",
    "\n",
    "このルールに従うと、Algorithm Xで処理すべきPandasの`DataFrame`は以下のように作成できる。"
   ]
  },
  {
   "cell_type": "code",
   "execution_count": 36,
   "metadata": {
    "editable": true,
    "slideshow": {
     "slide_type": ""
    },
    "tags": []
   },
   "outputs": [
    {
     "data": {
      "text/html": [
       "<div>\n",
       "<style scoped>\n",
       "    .dataframe tbody tr th:only-of-type {\n",
       "        vertical-align: middle;\n",
       "    }\n",
       "\n",
       "    .dataframe tbody tr th {\n",
       "        vertical-align: top;\n",
       "    }\n",
       "\n",
       "    .dataframe thead th {\n",
       "        text-align: right;\n",
       "    }\n",
       "</style>\n",
       "<table border=\"1\" class=\"dataframe\">\n",
       "  <thead>\n",
       "    <tr style=\"text-align: right;\">\n",
       "      <th></th>\n",
       "      <th>R1C1</th>\n",
       "      <th>R1C2</th>\n",
       "      <th>R1C3</th>\n",
       "      <th>R1C4</th>\n",
       "      <th>R1C5</th>\n",
       "      <th>R1C6</th>\n",
       "      <th>R1C7</th>\n",
       "      <th>R1C8</th>\n",
       "      <th>R1C9</th>\n",
       "      <th>R2C1</th>\n",
       "      <th>...</th>\n",
       "      <th>B8#9</th>\n",
       "      <th>B9#1</th>\n",
       "      <th>B9#2</th>\n",
       "      <th>B9#3</th>\n",
       "      <th>B9#4</th>\n",
       "      <th>B9#5</th>\n",
       "      <th>B9#6</th>\n",
       "      <th>B9#7</th>\n",
       "      <th>B9#8</th>\n",
       "      <th>B9#9</th>\n",
       "    </tr>\n",
       "  </thead>\n",
       "  <tbody>\n",
       "    <tr>\n",
       "      <th>R1C1#1</th>\n",
       "      <td>0</td>\n",
       "      <td>0</td>\n",
       "      <td>0</td>\n",
       "      <td>0</td>\n",
       "      <td>0</td>\n",
       "      <td>0</td>\n",
       "      <td>0</td>\n",
       "      <td>0</td>\n",
       "      <td>0</td>\n",
       "      <td>0</td>\n",
       "      <td>...</td>\n",
       "      <td>0</td>\n",
       "      <td>0</td>\n",
       "      <td>0</td>\n",
       "      <td>0</td>\n",
       "      <td>0</td>\n",
       "      <td>0</td>\n",
       "      <td>0</td>\n",
       "      <td>0</td>\n",
       "      <td>0</td>\n",
       "      <td>0</td>\n",
       "    </tr>\n",
       "    <tr>\n",
       "      <th>R1C1#2</th>\n",
       "      <td>0</td>\n",
       "      <td>0</td>\n",
       "      <td>0</td>\n",
       "      <td>0</td>\n",
       "      <td>0</td>\n",
       "      <td>0</td>\n",
       "      <td>0</td>\n",
       "      <td>0</td>\n",
       "      <td>0</td>\n",
       "      <td>0</td>\n",
       "      <td>...</td>\n",
       "      <td>0</td>\n",
       "      <td>0</td>\n",
       "      <td>0</td>\n",
       "      <td>0</td>\n",
       "      <td>0</td>\n",
       "      <td>0</td>\n",
       "      <td>0</td>\n",
       "      <td>0</td>\n",
       "      <td>0</td>\n",
       "      <td>0</td>\n",
       "    </tr>\n",
       "    <tr>\n",
       "      <th>R1C1#3</th>\n",
       "      <td>0</td>\n",
       "      <td>0</td>\n",
       "      <td>0</td>\n",
       "      <td>0</td>\n",
       "      <td>0</td>\n",
       "      <td>0</td>\n",
       "      <td>0</td>\n",
       "      <td>0</td>\n",
       "      <td>0</td>\n",
       "      <td>0</td>\n",
       "      <td>...</td>\n",
       "      <td>0</td>\n",
       "      <td>0</td>\n",
       "      <td>0</td>\n",
       "      <td>0</td>\n",
       "      <td>0</td>\n",
       "      <td>0</td>\n",
       "      <td>0</td>\n",
       "      <td>0</td>\n",
       "      <td>0</td>\n",
       "      <td>0</td>\n",
       "    </tr>\n",
       "    <tr>\n",
       "      <th>R1C1#4</th>\n",
       "      <td>0</td>\n",
       "      <td>0</td>\n",
       "      <td>0</td>\n",
       "      <td>0</td>\n",
       "      <td>0</td>\n",
       "      <td>0</td>\n",
       "      <td>0</td>\n",
       "      <td>0</td>\n",
       "      <td>0</td>\n",
       "      <td>0</td>\n",
       "      <td>...</td>\n",
       "      <td>0</td>\n",
       "      <td>0</td>\n",
       "      <td>0</td>\n",
       "      <td>0</td>\n",
       "      <td>0</td>\n",
       "      <td>0</td>\n",
       "      <td>0</td>\n",
       "      <td>0</td>\n",
       "      <td>0</td>\n",
       "      <td>0</td>\n",
       "    </tr>\n",
       "    <tr>\n",
       "      <th>R1C1#5</th>\n",
       "      <td>0</td>\n",
       "      <td>0</td>\n",
       "      <td>0</td>\n",
       "      <td>0</td>\n",
       "      <td>0</td>\n",
       "      <td>0</td>\n",
       "      <td>0</td>\n",
       "      <td>0</td>\n",
       "      <td>0</td>\n",
       "      <td>0</td>\n",
       "      <td>...</td>\n",
       "      <td>0</td>\n",
       "      <td>0</td>\n",
       "      <td>0</td>\n",
       "      <td>0</td>\n",
       "      <td>0</td>\n",
       "      <td>0</td>\n",
       "      <td>0</td>\n",
       "      <td>0</td>\n",
       "      <td>0</td>\n",
       "      <td>0</td>\n",
       "    </tr>\n",
       "    <tr>\n",
       "      <th>...</th>\n",
       "      <td>...</td>\n",
       "      <td>...</td>\n",
       "      <td>...</td>\n",
       "      <td>...</td>\n",
       "      <td>...</td>\n",
       "      <td>...</td>\n",
       "      <td>...</td>\n",
       "      <td>...</td>\n",
       "      <td>...</td>\n",
       "      <td>...</td>\n",
       "      <td>...</td>\n",
       "      <td>...</td>\n",
       "      <td>...</td>\n",
       "      <td>...</td>\n",
       "      <td>...</td>\n",
       "      <td>...</td>\n",
       "      <td>...</td>\n",
       "      <td>...</td>\n",
       "      <td>...</td>\n",
       "      <td>...</td>\n",
       "      <td>...</td>\n",
       "    </tr>\n",
       "    <tr>\n",
       "      <th>R9C9#5</th>\n",
       "      <td>0</td>\n",
       "      <td>0</td>\n",
       "      <td>0</td>\n",
       "      <td>0</td>\n",
       "      <td>0</td>\n",
       "      <td>0</td>\n",
       "      <td>0</td>\n",
       "      <td>0</td>\n",
       "      <td>0</td>\n",
       "      <td>0</td>\n",
       "      <td>...</td>\n",
       "      <td>0</td>\n",
       "      <td>0</td>\n",
       "      <td>0</td>\n",
       "      <td>0</td>\n",
       "      <td>0</td>\n",
       "      <td>0</td>\n",
       "      <td>0</td>\n",
       "      <td>0</td>\n",
       "      <td>0</td>\n",
       "      <td>0</td>\n",
       "    </tr>\n",
       "    <tr>\n",
       "      <th>R9C9#6</th>\n",
       "      <td>0</td>\n",
       "      <td>0</td>\n",
       "      <td>0</td>\n",
       "      <td>0</td>\n",
       "      <td>0</td>\n",
       "      <td>0</td>\n",
       "      <td>0</td>\n",
       "      <td>0</td>\n",
       "      <td>0</td>\n",
       "      <td>0</td>\n",
       "      <td>...</td>\n",
       "      <td>0</td>\n",
       "      <td>0</td>\n",
       "      <td>0</td>\n",
       "      <td>0</td>\n",
       "      <td>0</td>\n",
       "      <td>0</td>\n",
       "      <td>0</td>\n",
       "      <td>0</td>\n",
       "      <td>0</td>\n",
       "      <td>0</td>\n",
       "    </tr>\n",
       "    <tr>\n",
       "      <th>R9C9#7</th>\n",
       "      <td>0</td>\n",
       "      <td>0</td>\n",
       "      <td>0</td>\n",
       "      <td>0</td>\n",
       "      <td>0</td>\n",
       "      <td>0</td>\n",
       "      <td>0</td>\n",
       "      <td>0</td>\n",
       "      <td>0</td>\n",
       "      <td>0</td>\n",
       "      <td>...</td>\n",
       "      <td>0</td>\n",
       "      <td>0</td>\n",
       "      <td>0</td>\n",
       "      <td>0</td>\n",
       "      <td>0</td>\n",
       "      <td>0</td>\n",
       "      <td>0</td>\n",
       "      <td>0</td>\n",
       "      <td>0</td>\n",
       "      <td>0</td>\n",
       "    </tr>\n",
       "    <tr>\n",
       "      <th>R9C9#8</th>\n",
       "      <td>0</td>\n",
       "      <td>0</td>\n",
       "      <td>0</td>\n",
       "      <td>0</td>\n",
       "      <td>0</td>\n",
       "      <td>0</td>\n",
       "      <td>0</td>\n",
       "      <td>0</td>\n",
       "      <td>0</td>\n",
       "      <td>0</td>\n",
       "      <td>...</td>\n",
       "      <td>0</td>\n",
       "      <td>0</td>\n",
       "      <td>0</td>\n",
       "      <td>0</td>\n",
       "      <td>0</td>\n",
       "      <td>0</td>\n",
       "      <td>0</td>\n",
       "      <td>0</td>\n",
       "      <td>0</td>\n",
       "      <td>0</td>\n",
       "    </tr>\n",
       "    <tr>\n",
       "      <th>R9C9#9</th>\n",
       "      <td>0</td>\n",
       "      <td>0</td>\n",
       "      <td>0</td>\n",
       "      <td>0</td>\n",
       "      <td>0</td>\n",
       "      <td>0</td>\n",
       "      <td>0</td>\n",
       "      <td>0</td>\n",
       "      <td>0</td>\n",
       "      <td>0</td>\n",
       "      <td>...</td>\n",
       "      <td>0</td>\n",
       "      <td>0</td>\n",
       "      <td>0</td>\n",
       "      <td>0</td>\n",
       "      <td>0</td>\n",
       "      <td>0</td>\n",
       "      <td>0</td>\n",
       "      <td>0</td>\n",
       "      <td>0</td>\n",
       "      <td>0</td>\n",
       "    </tr>\n",
       "  </tbody>\n",
       "</table>\n",
       "<p>729 rows × 324 columns</p>\n",
       "</div>"
      ],
      "text/plain": [
       "        R1C1  R1C2  R1C3  R1C4  R1C5  R1C6  R1C7  R1C8  R1C9  R2C1  ...  B8#9  \\\n",
       "R1C1#1     0     0     0     0     0     0     0     0     0     0  ...     0   \n",
       "R1C1#2     0     0     0     0     0     0     0     0     0     0  ...     0   \n",
       "R1C1#3     0     0     0     0     0     0     0     0     0     0  ...     0   \n",
       "R1C1#4     0     0     0     0     0     0     0     0     0     0  ...     0   \n",
       "R1C1#5     0     0     0     0     0     0     0     0     0     0  ...     0   \n",
       "...      ...   ...   ...   ...   ...   ...   ...   ...   ...   ...  ...   ...   \n",
       "R9C9#5     0     0     0     0     0     0     0     0     0     0  ...     0   \n",
       "R9C9#6     0     0     0     0     0     0     0     0     0     0  ...     0   \n",
       "R9C9#7     0     0     0     0     0     0     0     0     0     0  ...     0   \n",
       "R9C9#8     0     0     0     0     0     0     0     0     0     0  ...     0   \n",
       "R9C9#9     0     0     0     0     0     0     0     0     0     0  ...     0   \n",
       "\n",
       "        B9#1  B9#2  B9#3  B9#4  B9#5  B9#6  B9#7  B9#8  B9#9  \n",
       "R1C1#1     0     0     0     0     0     0     0     0     0  \n",
       "R1C1#2     0     0     0     0     0     0     0     0     0  \n",
       "R1C1#3     0     0     0     0     0     0     0     0     0  \n",
       "R1C1#4     0     0     0     0     0     0     0     0     0  \n",
       "R1C1#5     0     0     0     0     0     0     0     0     0  \n",
       "...      ...   ...   ...   ...   ...   ...   ...   ...   ...  \n",
       "R9C9#5     0     0     0     0     0     0     0     0     0  \n",
       "R9C9#6     0     0     0     0     0     0     0     0     0  \n",
       "R9C9#7     0     0     0     0     0     0     0     0     0  \n",
       "R9C9#8     0     0     0     0     0     0     0     0     0  \n",
       "R9C9#9     0     0     0     0     0     0     0     0     0  \n",
       "\n",
       "[729 rows x 324 columns]"
      ]
     },
     "metadata": {},
     "output_type": "display_data"
    }
   ],
   "source": [
    "index = [\n",
    "    \"R{:d}C{:d}#{:d}\".format(i, j, n)\n",
    "    for i in range(1, 10)\n",
    "    for j in range(1, 10)\n",
    "    for n in range(1, 10)\n",
    "]\n",
    "cond1 = [\"R{:d}C{:d}\".format(i, j) for i in range(1, 10) for j in range(1, 10)]\n",
    "cond2 = [\"R{:d}#{:d}\".format(i, n) for i in range(1, 10) for n in range(1, 10)]\n",
    "cond3 = [\"C{:d}#{:d}\".format(j, n) for j in range(1, 10) for n in range(1, 10)]\n",
    "cond4 = [\"B{:d}#{:d}\".format(b, n) for b in range(1, 10) for n in range(1, 10)]\n",
    "conds = cond1 + cond2 + cond3 + cond4\n",
    "\n",
    "df = pd.DataFrame(index=index, columns=conds, dtype=\"bool\")\n",
    "df.iloc[:] = 0\n",
    "display.display(df)"
   ]
  },
  {
   "cell_type": "markdown",
   "metadata": {
    "editable": true,
    "slideshow": {
     "slide_type": ""
    },
    "tags": []
   },
   "source": [
    "この表に対して、数独の問題が全て空マスの場合の条件を代入していく。"
   ]
  },
  {
   "cell_type": "code",
   "execution_count": 37,
   "metadata": {
    "editable": true,
    "slideshow": {
     "slide_type": ""
    },
    "tags": []
   },
   "outputs": [
    {
     "data": {
      "text/html": [
       "<div>\n",
       "<style scoped>\n",
       "    .dataframe tbody tr th:only-of-type {\n",
       "        vertical-align: middle;\n",
       "    }\n",
       "\n",
       "    .dataframe tbody tr th {\n",
       "        vertical-align: top;\n",
       "    }\n",
       "\n",
       "    .dataframe thead th {\n",
       "        text-align: right;\n",
       "    }\n",
       "</style>\n",
       "<table border=\"1\" class=\"dataframe\">\n",
       "  <thead>\n",
       "    <tr style=\"text-align: right;\">\n",
       "      <th></th>\n",
       "      <th>R1C1</th>\n",
       "      <th>R1C2</th>\n",
       "      <th>R1C3</th>\n",
       "      <th>R1C4</th>\n",
       "      <th>R1C5</th>\n",
       "      <th>R1C6</th>\n",
       "      <th>R1C7</th>\n",
       "      <th>R1C8</th>\n",
       "      <th>R1C9</th>\n",
       "      <th>R2C1</th>\n",
       "      <th>...</th>\n",
       "      <th>B8#9</th>\n",
       "      <th>B9#1</th>\n",
       "      <th>B9#2</th>\n",
       "      <th>B9#3</th>\n",
       "      <th>B9#4</th>\n",
       "      <th>B9#5</th>\n",
       "      <th>B9#6</th>\n",
       "      <th>B9#7</th>\n",
       "      <th>B9#8</th>\n",
       "      <th>B9#9</th>\n",
       "    </tr>\n",
       "  </thead>\n",
       "  <tbody>\n",
       "    <tr>\n",
       "      <th>R1C1#1</th>\n",
       "      <td>1</td>\n",
       "      <td>0</td>\n",
       "      <td>0</td>\n",
       "      <td>0</td>\n",
       "      <td>0</td>\n",
       "      <td>0</td>\n",
       "      <td>0</td>\n",
       "      <td>0</td>\n",
       "      <td>0</td>\n",
       "      <td>0</td>\n",
       "      <td>...</td>\n",
       "      <td>0</td>\n",
       "      <td>0</td>\n",
       "      <td>0</td>\n",
       "      <td>0</td>\n",
       "      <td>0</td>\n",
       "      <td>0</td>\n",
       "      <td>0</td>\n",
       "      <td>0</td>\n",
       "      <td>0</td>\n",
       "      <td>0</td>\n",
       "    </tr>\n",
       "    <tr>\n",
       "      <th>R1C1#2</th>\n",
       "      <td>1</td>\n",
       "      <td>0</td>\n",
       "      <td>0</td>\n",
       "      <td>0</td>\n",
       "      <td>0</td>\n",
       "      <td>0</td>\n",
       "      <td>0</td>\n",
       "      <td>0</td>\n",
       "      <td>0</td>\n",
       "      <td>0</td>\n",
       "      <td>...</td>\n",
       "      <td>0</td>\n",
       "      <td>0</td>\n",
       "      <td>0</td>\n",
       "      <td>0</td>\n",
       "      <td>0</td>\n",
       "      <td>0</td>\n",
       "      <td>0</td>\n",
       "      <td>0</td>\n",
       "      <td>0</td>\n",
       "      <td>0</td>\n",
       "    </tr>\n",
       "    <tr>\n",
       "      <th>R1C1#3</th>\n",
       "      <td>1</td>\n",
       "      <td>0</td>\n",
       "      <td>0</td>\n",
       "      <td>0</td>\n",
       "      <td>0</td>\n",
       "      <td>0</td>\n",
       "      <td>0</td>\n",
       "      <td>0</td>\n",
       "      <td>0</td>\n",
       "      <td>0</td>\n",
       "      <td>...</td>\n",
       "      <td>0</td>\n",
       "      <td>0</td>\n",
       "      <td>0</td>\n",
       "      <td>0</td>\n",
       "      <td>0</td>\n",
       "      <td>0</td>\n",
       "      <td>0</td>\n",
       "      <td>0</td>\n",
       "      <td>0</td>\n",
       "      <td>0</td>\n",
       "    </tr>\n",
       "    <tr>\n",
       "      <th>R1C1#4</th>\n",
       "      <td>1</td>\n",
       "      <td>0</td>\n",
       "      <td>0</td>\n",
       "      <td>0</td>\n",
       "      <td>0</td>\n",
       "      <td>0</td>\n",
       "      <td>0</td>\n",
       "      <td>0</td>\n",
       "      <td>0</td>\n",
       "      <td>0</td>\n",
       "      <td>...</td>\n",
       "      <td>0</td>\n",
       "      <td>0</td>\n",
       "      <td>0</td>\n",
       "      <td>0</td>\n",
       "      <td>0</td>\n",
       "      <td>0</td>\n",
       "      <td>0</td>\n",
       "      <td>0</td>\n",
       "      <td>0</td>\n",
       "      <td>0</td>\n",
       "    </tr>\n",
       "    <tr>\n",
       "      <th>R1C1#5</th>\n",
       "      <td>1</td>\n",
       "      <td>0</td>\n",
       "      <td>0</td>\n",
       "      <td>0</td>\n",
       "      <td>0</td>\n",
       "      <td>0</td>\n",
       "      <td>0</td>\n",
       "      <td>0</td>\n",
       "      <td>0</td>\n",
       "      <td>0</td>\n",
       "      <td>...</td>\n",
       "      <td>0</td>\n",
       "      <td>0</td>\n",
       "      <td>0</td>\n",
       "      <td>0</td>\n",
       "      <td>0</td>\n",
       "      <td>0</td>\n",
       "      <td>0</td>\n",
       "      <td>0</td>\n",
       "      <td>0</td>\n",
       "      <td>0</td>\n",
       "    </tr>\n",
       "    <tr>\n",
       "      <th>...</th>\n",
       "      <td>...</td>\n",
       "      <td>...</td>\n",
       "      <td>...</td>\n",
       "      <td>...</td>\n",
       "      <td>...</td>\n",
       "      <td>...</td>\n",
       "      <td>...</td>\n",
       "      <td>...</td>\n",
       "      <td>...</td>\n",
       "      <td>...</td>\n",
       "      <td>...</td>\n",
       "      <td>...</td>\n",
       "      <td>...</td>\n",
       "      <td>...</td>\n",
       "      <td>...</td>\n",
       "      <td>...</td>\n",
       "      <td>...</td>\n",
       "      <td>...</td>\n",
       "      <td>...</td>\n",
       "      <td>...</td>\n",
       "      <td>...</td>\n",
       "    </tr>\n",
       "    <tr>\n",
       "      <th>R9C9#5</th>\n",
       "      <td>0</td>\n",
       "      <td>0</td>\n",
       "      <td>0</td>\n",
       "      <td>0</td>\n",
       "      <td>0</td>\n",
       "      <td>0</td>\n",
       "      <td>0</td>\n",
       "      <td>0</td>\n",
       "      <td>0</td>\n",
       "      <td>0</td>\n",
       "      <td>...</td>\n",
       "      <td>0</td>\n",
       "      <td>0</td>\n",
       "      <td>0</td>\n",
       "      <td>0</td>\n",
       "      <td>0</td>\n",
       "      <td>1</td>\n",
       "      <td>0</td>\n",
       "      <td>0</td>\n",
       "      <td>0</td>\n",
       "      <td>0</td>\n",
       "    </tr>\n",
       "    <tr>\n",
       "      <th>R9C9#6</th>\n",
       "      <td>0</td>\n",
       "      <td>0</td>\n",
       "      <td>0</td>\n",
       "      <td>0</td>\n",
       "      <td>0</td>\n",
       "      <td>0</td>\n",
       "      <td>0</td>\n",
       "      <td>0</td>\n",
       "      <td>0</td>\n",
       "      <td>0</td>\n",
       "      <td>...</td>\n",
       "      <td>0</td>\n",
       "      <td>0</td>\n",
       "      <td>0</td>\n",
       "      <td>0</td>\n",
       "      <td>0</td>\n",
       "      <td>0</td>\n",
       "      <td>1</td>\n",
       "      <td>0</td>\n",
       "      <td>0</td>\n",
       "      <td>0</td>\n",
       "    </tr>\n",
       "    <tr>\n",
       "      <th>R9C9#7</th>\n",
       "      <td>0</td>\n",
       "      <td>0</td>\n",
       "      <td>0</td>\n",
       "      <td>0</td>\n",
       "      <td>0</td>\n",
       "      <td>0</td>\n",
       "      <td>0</td>\n",
       "      <td>0</td>\n",
       "      <td>0</td>\n",
       "      <td>0</td>\n",
       "      <td>...</td>\n",
       "      <td>0</td>\n",
       "      <td>0</td>\n",
       "      <td>0</td>\n",
       "      <td>0</td>\n",
       "      <td>0</td>\n",
       "      <td>0</td>\n",
       "      <td>0</td>\n",
       "      <td>1</td>\n",
       "      <td>0</td>\n",
       "      <td>0</td>\n",
       "    </tr>\n",
       "    <tr>\n",
       "      <th>R9C9#8</th>\n",
       "      <td>0</td>\n",
       "      <td>0</td>\n",
       "      <td>0</td>\n",
       "      <td>0</td>\n",
       "      <td>0</td>\n",
       "      <td>0</td>\n",
       "      <td>0</td>\n",
       "      <td>0</td>\n",
       "      <td>0</td>\n",
       "      <td>0</td>\n",
       "      <td>...</td>\n",
       "      <td>0</td>\n",
       "      <td>0</td>\n",
       "      <td>0</td>\n",
       "      <td>0</td>\n",
       "      <td>0</td>\n",
       "      <td>0</td>\n",
       "      <td>0</td>\n",
       "      <td>0</td>\n",
       "      <td>1</td>\n",
       "      <td>0</td>\n",
       "    </tr>\n",
       "    <tr>\n",
       "      <th>R9C9#9</th>\n",
       "      <td>0</td>\n",
       "      <td>0</td>\n",
       "      <td>0</td>\n",
       "      <td>0</td>\n",
       "      <td>0</td>\n",
       "      <td>0</td>\n",
       "      <td>0</td>\n",
       "      <td>0</td>\n",
       "      <td>0</td>\n",
       "      <td>0</td>\n",
       "      <td>...</td>\n",
       "      <td>0</td>\n",
       "      <td>0</td>\n",
       "      <td>0</td>\n",
       "      <td>0</td>\n",
       "      <td>0</td>\n",
       "      <td>0</td>\n",
       "      <td>0</td>\n",
       "      <td>0</td>\n",
       "      <td>0</td>\n",
       "      <td>1</td>\n",
       "    </tr>\n",
       "  </tbody>\n",
       "</table>\n",
       "<p>729 rows × 324 columns</p>\n",
       "</div>"
      ],
      "text/plain": [
       "        R1C1  R1C2  R1C3  R1C4  R1C5  R1C6  R1C7  R1C8  R1C9  R2C1  ...  B8#9  \\\n",
       "R1C1#1     1     0     0     0     0     0     0     0     0     0  ...     0   \n",
       "R1C1#2     1     0     0     0     0     0     0     0     0     0  ...     0   \n",
       "R1C1#3     1     0     0     0     0     0     0     0     0     0  ...     0   \n",
       "R1C1#4     1     0     0     0     0     0     0     0     0     0  ...     0   \n",
       "R1C1#5     1     0     0     0     0     0     0     0     0     0  ...     0   \n",
       "...      ...   ...   ...   ...   ...   ...   ...   ...   ...   ...  ...   ...   \n",
       "R9C9#5     0     0     0     0     0     0     0     0     0     0  ...     0   \n",
       "R9C9#6     0     0     0     0     0     0     0     0     0     0  ...     0   \n",
       "R9C9#7     0     0     0     0     0     0     0     0     0     0  ...     0   \n",
       "R9C9#8     0     0     0     0     0     0     0     0     0     0  ...     0   \n",
       "R9C9#9     0     0     0     0     0     0     0     0     0     0  ...     0   \n",
       "\n",
       "        B9#1  B9#2  B9#3  B9#4  B9#5  B9#6  B9#7  B9#8  B9#9  \n",
       "R1C1#1     0     0     0     0     0     0     0     0     0  \n",
       "R1C1#2     0     0     0     0     0     0     0     0     0  \n",
       "R1C1#3     0     0     0     0     0     0     0     0     0  \n",
       "R1C1#4     0     0     0     0     0     0     0     0     0  \n",
       "R1C1#5     0     0     0     0     0     0     0     0     0  \n",
       "...      ...   ...   ...   ...   ...   ...   ...   ...   ...  \n",
       "R9C9#5     0     0     0     0     1     0     0     0     0  \n",
       "R9C9#6     0     0     0     0     0     1     0     0     0  \n",
       "R9C9#7     0     0     0     0     0     0     1     0     0  \n",
       "R9C9#8     0     0     0     0     0     0     0     1     0  \n",
       "R9C9#9     0     0     0     0     0     0     0     0     1  \n",
       "\n",
       "[729 rows x 324 columns]"
      ]
     },
     "metadata": {},
     "output_type": "display_data"
    }
   ],
   "source": [
    "for i in range(9):\n",
    "    for j in range(9):\n",
    "        for n in range(1, 10):\n",
    "            r = i + 1\n",
    "            c = j + 1\n",
    "            b = (i // 3) * 3 + (j // 3) + 1\n",
    "            op = \"R{:d}C{:d}#{:d}\".format(r, c, n)\n",
    "            cd1 = \"R{:d}C{:d}\".format(r, c)\n",
    "            cd2 = \"R{:d}#{:d}\".format(r, n)\n",
    "            cd3 = \"C{:d}#{:d}\".format(c, n)\n",
    "            cd4 = \"B{:d}#{:d}\".format(b, n)\n",
    "            df.loc[op, [cd1, cd2, cd3, cd4]] = 1\n",
    "\n",
    "display.display(df)"
   ]
  },
  {
   "cell_type": "markdown",
   "metadata": {
    "editable": true,
    "slideshow": {
     "slide_type": ""
    },
    "tags": []
   },
   "source": [
    "続いては、問題に既に入っている数字を元に表の操作と条件を書き換える。一例として、1行2列に3という数字が入っていたとする。この場合、1行2列に3以外の数字が入る、という条件、即ち**R1C2#1**や**R1C2#8**などは起こりえないので、これらを表の行から除去して良い。\n",
    "\n",
    "また、1行2列に3が入るということは、他の操作により1行目に3が入ったり、2列目に3が入ったりすることはない、ということを意味する。従って、同様の条件を満たす可能性のある操作、即ち**R1C5#3**や**R4C2#3**なども表から消去して良いことが分かる。\n",
    "\n",
    "今回は、先ほど1秒以上時間のかかった問題を例に、ルールに従って表を変形してみる。"
   ]
  },
  {
   "cell_type": "code",
   "execution_count": 38,
   "metadata": {
    "editable": true,
    "slideshow": {
     "slide_type": ""
    },
    "tags": []
   },
   "outputs": [
    {
     "name": "stdout",
     "output_type": "stream",
     "text": [
      "[[0 0 0 0 0 0 0 0 0]\n",
      " [3 0 0 2 0 9 0 0 7]\n",
      " [9 4 0 0 1 0 0 8 2]\n",
      " [0 5 0 6 0 2 0 3 0]\n",
      " [0 0 6 3 0 7 4 0 0]\n",
      " [0 0 0 0 0 0 0 0 0]\n",
      " [0 0 0 0 0 0 0 0 0]\n",
      " [0 8 2 0 3 0 5 9 0]\n",
      " [1 0 0 9 0 4 0 0 6]]\n"
     ]
    }
   ],
   "source": [
    "problem = \"\"\"\n",
    "---------\n",
    "3--2-9--7\n",
    "94--1--82\n",
    "-5-6-2-3-\n",
    "--63-74--\n",
    "---------\n",
    "---------\n",
    "-82-3-59-\n",
    "1--9-4--6\n",
    "\"\"\"\n",
    "\n",
    "problem = np.array(\n",
    "    [numbers[c] for line in re.split(r\"[\\r\\n]{1,2}\", problem) if line != \"\" for c in line],\n",
    "    dtype=\"uint8\",\n",
    ").reshape((9, 9))\n",
    "\n",
    "print(problem)"
   ]
  },
  {
   "cell_type": "code",
   "execution_count": 39,
   "metadata": {
    "editable": true,
    "slideshow": {
     "slide_type": ""
    },
    "tags": []
   },
   "outputs": [
    {
     "data": {
      "text/html": [
       "<div>\n",
       "<style scoped>\n",
       "    .dataframe tbody tr th:only-of-type {\n",
       "        vertical-align: middle;\n",
       "    }\n",
       "\n",
       "    .dataframe tbody tr th {\n",
       "        vertical-align: top;\n",
       "    }\n",
       "\n",
       "    .dataframe thead th {\n",
       "        text-align: right;\n",
       "    }\n",
       "</style>\n",
       "<table border=\"1\" class=\"dataframe\">\n",
       "  <thead>\n",
       "    <tr style=\"text-align: right;\">\n",
       "      <th></th>\n",
       "      <th>R1C1</th>\n",
       "      <th>R1C2</th>\n",
       "      <th>R1C3</th>\n",
       "      <th>R1C4</th>\n",
       "      <th>R1C5</th>\n",
       "      <th>R1C6</th>\n",
       "      <th>R1C7</th>\n",
       "      <th>R1C8</th>\n",
       "      <th>R1C9</th>\n",
       "      <th>R2C1</th>\n",
       "      <th>...</th>\n",
       "      <th>B8#9</th>\n",
       "      <th>B9#1</th>\n",
       "      <th>B9#2</th>\n",
       "      <th>B9#3</th>\n",
       "      <th>B9#4</th>\n",
       "      <th>B9#5</th>\n",
       "      <th>B9#6</th>\n",
       "      <th>B9#7</th>\n",
       "      <th>B9#8</th>\n",
       "      <th>B9#9</th>\n",
       "    </tr>\n",
       "  </thead>\n",
       "  <tbody>\n",
       "    <tr>\n",
       "      <th>R1C1#2</th>\n",
       "      <td>1</td>\n",
       "      <td>0</td>\n",
       "      <td>0</td>\n",
       "      <td>0</td>\n",
       "      <td>0</td>\n",
       "      <td>0</td>\n",
       "      <td>0</td>\n",
       "      <td>0</td>\n",
       "      <td>0</td>\n",
       "      <td>0</td>\n",
       "      <td>...</td>\n",
       "      <td>0</td>\n",
       "      <td>0</td>\n",
       "      <td>0</td>\n",
       "      <td>0</td>\n",
       "      <td>0</td>\n",
       "      <td>0</td>\n",
       "      <td>0</td>\n",
       "      <td>0</td>\n",
       "      <td>0</td>\n",
       "      <td>0</td>\n",
       "    </tr>\n",
       "    <tr>\n",
       "      <th>R1C1#5</th>\n",
       "      <td>1</td>\n",
       "      <td>0</td>\n",
       "      <td>0</td>\n",
       "      <td>0</td>\n",
       "      <td>0</td>\n",
       "      <td>0</td>\n",
       "      <td>0</td>\n",
       "      <td>0</td>\n",
       "      <td>0</td>\n",
       "      <td>0</td>\n",
       "      <td>...</td>\n",
       "      <td>0</td>\n",
       "      <td>0</td>\n",
       "      <td>0</td>\n",
       "      <td>0</td>\n",
       "      <td>0</td>\n",
       "      <td>0</td>\n",
       "      <td>0</td>\n",
       "      <td>0</td>\n",
       "      <td>0</td>\n",
       "      <td>0</td>\n",
       "    </tr>\n",
       "    <tr>\n",
       "      <th>R1C1#6</th>\n",
       "      <td>1</td>\n",
       "      <td>0</td>\n",
       "      <td>0</td>\n",
       "      <td>0</td>\n",
       "      <td>0</td>\n",
       "      <td>0</td>\n",
       "      <td>0</td>\n",
       "      <td>0</td>\n",
       "      <td>0</td>\n",
       "      <td>0</td>\n",
       "      <td>...</td>\n",
       "      <td>0</td>\n",
       "      <td>0</td>\n",
       "      <td>0</td>\n",
       "      <td>0</td>\n",
       "      <td>0</td>\n",
       "      <td>0</td>\n",
       "      <td>0</td>\n",
       "      <td>0</td>\n",
       "      <td>0</td>\n",
       "      <td>0</td>\n",
       "    </tr>\n",
       "    <tr>\n",
       "      <th>R1C1#7</th>\n",
       "      <td>1</td>\n",
       "      <td>0</td>\n",
       "      <td>0</td>\n",
       "      <td>0</td>\n",
       "      <td>0</td>\n",
       "      <td>0</td>\n",
       "      <td>0</td>\n",
       "      <td>0</td>\n",
       "      <td>0</td>\n",
       "      <td>0</td>\n",
       "      <td>...</td>\n",
       "      <td>0</td>\n",
       "      <td>0</td>\n",
       "      <td>0</td>\n",
       "      <td>0</td>\n",
       "      <td>0</td>\n",
       "      <td>0</td>\n",
       "      <td>0</td>\n",
       "      <td>0</td>\n",
       "      <td>0</td>\n",
       "      <td>0</td>\n",
       "    </tr>\n",
       "    <tr>\n",
       "      <th>R1C1#8</th>\n",
       "      <td>1</td>\n",
       "      <td>0</td>\n",
       "      <td>0</td>\n",
       "      <td>0</td>\n",
       "      <td>0</td>\n",
       "      <td>0</td>\n",
       "      <td>0</td>\n",
       "      <td>0</td>\n",
       "      <td>0</td>\n",
       "      <td>0</td>\n",
       "      <td>...</td>\n",
       "      <td>0</td>\n",
       "      <td>0</td>\n",
       "      <td>0</td>\n",
       "      <td>0</td>\n",
       "      <td>0</td>\n",
       "      <td>0</td>\n",
       "      <td>0</td>\n",
       "      <td>0</td>\n",
       "      <td>0</td>\n",
       "      <td>0</td>\n",
       "    </tr>\n",
       "    <tr>\n",
       "      <th>...</th>\n",
       "      <td>...</td>\n",
       "      <td>...</td>\n",
       "      <td>...</td>\n",
       "      <td>...</td>\n",
       "      <td>...</td>\n",
       "      <td>...</td>\n",
       "      <td>...</td>\n",
       "      <td>...</td>\n",
       "      <td>...</td>\n",
       "      <td>...</td>\n",
       "      <td>...</td>\n",
       "      <td>...</td>\n",
       "      <td>...</td>\n",
       "      <td>...</td>\n",
       "      <td>...</td>\n",
       "      <td>...</td>\n",
       "      <td>...</td>\n",
       "      <td>...</td>\n",
       "      <td>...</td>\n",
       "      <td>...</td>\n",
       "      <td>...</td>\n",
       "    </tr>\n",
       "    <tr>\n",
       "      <th>R9C7#7</th>\n",
       "      <td>0</td>\n",
       "      <td>0</td>\n",
       "      <td>0</td>\n",
       "      <td>0</td>\n",
       "      <td>0</td>\n",
       "      <td>0</td>\n",
       "      <td>0</td>\n",
       "      <td>0</td>\n",
       "      <td>0</td>\n",
       "      <td>0</td>\n",
       "      <td>...</td>\n",
       "      <td>0</td>\n",
       "      <td>0</td>\n",
       "      <td>0</td>\n",
       "      <td>0</td>\n",
       "      <td>0</td>\n",
       "      <td>0</td>\n",
       "      <td>0</td>\n",
       "      <td>1</td>\n",
       "      <td>0</td>\n",
       "      <td>0</td>\n",
       "    </tr>\n",
       "    <tr>\n",
       "      <th>R9C7#8</th>\n",
       "      <td>0</td>\n",
       "      <td>0</td>\n",
       "      <td>0</td>\n",
       "      <td>0</td>\n",
       "      <td>0</td>\n",
       "      <td>0</td>\n",
       "      <td>0</td>\n",
       "      <td>0</td>\n",
       "      <td>0</td>\n",
       "      <td>0</td>\n",
       "      <td>...</td>\n",
       "      <td>0</td>\n",
       "      <td>0</td>\n",
       "      <td>0</td>\n",
       "      <td>0</td>\n",
       "      <td>0</td>\n",
       "      <td>0</td>\n",
       "      <td>0</td>\n",
       "      <td>0</td>\n",
       "      <td>1</td>\n",
       "      <td>0</td>\n",
       "    </tr>\n",
       "    <tr>\n",
       "      <th>R9C8#2</th>\n",
       "      <td>0</td>\n",
       "      <td>0</td>\n",
       "      <td>0</td>\n",
       "      <td>0</td>\n",
       "      <td>0</td>\n",
       "      <td>0</td>\n",
       "      <td>0</td>\n",
       "      <td>0</td>\n",
       "      <td>0</td>\n",
       "      <td>0</td>\n",
       "      <td>...</td>\n",
       "      <td>0</td>\n",
       "      <td>0</td>\n",
       "      <td>1</td>\n",
       "      <td>0</td>\n",
       "      <td>0</td>\n",
       "      <td>0</td>\n",
       "      <td>0</td>\n",
       "      <td>0</td>\n",
       "      <td>0</td>\n",
       "      <td>0</td>\n",
       "    </tr>\n",
       "    <tr>\n",
       "      <th>R9C8#7</th>\n",
       "      <td>0</td>\n",
       "      <td>0</td>\n",
       "      <td>0</td>\n",
       "      <td>0</td>\n",
       "      <td>0</td>\n",
       "      <td>0</td>\n",
       "      <td>0</td>\n",
       "      <td>0</td>\n",
       "      <td>0</td>\n",
       "      <td>0</td>\n",
       "      <td>...</td>\n",
       "      <td>0</td>\n",
       "      <td>0</td>\n",
       "      <td>0</td>\n",
       "      <td>0</td>\n",
       "      <td>0</td>\n",
       "      <td>0</td>\n",
       "      <td>0</td>\n",
       "      <td>1</td>\n",
       "      <td>0</td>\n",
       "      <td>0</td>\n",
       "    </tr>\n",
       "    <tr>\n",
       "      <th>R9C9#6</th>\n",
       "      <td>0</td>\n",
       "      <td>0</td>\n",
       "      <td>0</td>\n",
       "      <td>0</td>\n",
       "      <td>0</td>\n",
       "      <td>0</td>\n",
       "      <td>0</td>\n",
       "      <td>0</td>\n",
       "      <td>0</td>\n",
       "      <td>0</td>\n",
       "      <td>...</td>\n",
       "      <td>0</td>\n",
       "      <td>0</td>\n",
       "      <td>0</td>\n",
       "      <td>0</td>\n",
       "      <td>0</td>\n",
       "      <td>0</td>\n",
       "      <td>1</td>\n",
       "      <td>0</td>\n",
       "      <td>0</td>\n",
       "      <td>0</td>\n",
       "    </tr>\n",
       "  </tbody>\n",
       "</table>\n",
       "<p>226 rows × 324 columns</p>\n",
       "</div>"
      ],
      "text/plain": [
       "        R1C1  R1C2  R1C3  R1C4  R1C5  R1C6  R1C7  R1C8  R1C9  R2C1  ...  B8#9  \\\n",
       "R1C1#2     1     0     0     0     0     0     0     0     0     0  ...     0   \n",
       "R1C1#5     1     0     0     0     0     0     0     0     0     0  ...     0   \n",
       "R1C1#6     1     0     0     0     0     0     0     0     0     0  ...     0   \n",
       "R1C1#7     1     0     0     0     0     0     0     0     0     0  ...     0   \n",
       "R1C1#8     1     0     0     0     0     0     0     0     0     0  ...     0   \n",
       "...      ...   ...   ...   ...   ...   ...   ...   ...   ...   ...  ...   ...   \n",
       "R9C7#7     0     0     0     0     0     0     0     0     0     0  ...     0   \n",
       "R9C7#8     0     0     0     0     0     0     0     0     0     0  ...     0   \n",
       "R9C8#2     0     0     0     0     0     0     0     0     0     0  ...     0   \n",
       "R9C8#7     0     0     0     0     0     0     0     0     0     0  ...     0   \n",
       "R9C9#6     0     0     0     0     0     0     0     0     0     0  ...     0   \n",
       "\n",
       "        B9#1  B9#2  B9#3  B9#4  B9#5  B9#6  B9#7  B9#8  B9#9  \n",
       "R1C1#2     0     0     0     0     0     0     0     0     0  \n",
       "R1C1#5     0     0     0     0     0     0     0     0     0  \n",
       "R1C1#6     0     0     0     0     0     0     0     0     0  \n",
       "R1C1#7     0     0     0     0     0     0     0     0     0  \n",
       "R1C1#8     0     0     0     0     0     0     0     0     0  \n",
       "...      ...   ...   ...   ...   ...   ...   ...   ...   ...  \n",
       "R9C7#7     0     0     0     0     0     0     1     0     0  \n",
       "R9C7#8     0     0     0     0     0     0     0     1     0  \n",
       "R9C8#2     0     1     0     0     0     0     0     0     0  \n",
       "R9C8#7     0     0     0     0     0     0     1     0     0  \n",
       "R9C9#6     0     0     0     0     0     1     0     0     0  \n",
       "\n",
       "[226 rows x 324 columns]"
      ]
     },
     "metadata": {},
     "output_type": "display_data"
    }
   ],
   "source": [
    "for i in range(9):\n",
    "    for j in range(9):\n",
    "        if problem[i, j] != 0:\n",
    "            r = i + 1\n",
    "            c = j + 1\n",
    "            b = (i // 3) * 3 + (j // 3) + 1\n",
    "            n = problem[i, j]\n",
    "            del_op1 = [\"R{:d}C{:d}#{:d}\".format(r, c, n_) for n_ in range(1, 10) if n != n_]\n",
    "            del_op2 = [\"R{:d}C{:d}#{:d}\".format(r_, c, n) for r_ in range(1, 10) if r != r_]\n",
    "            del_op3 = [\"R{:d}C{:d}#{:d}\".format(r, c_, n) for c_ in range(1, 10) if c != c_]\n",
    "            del_op4 = [\n",
    "                \"R{:d}C{:d}#{:d}\".format(r_, c_, n)\n",
    "                for r_ in range(i // 3 * 3 + 1, i // 3 * 3 + 4)\n",
    "                for c_ in range(j // 3 * 3 + 1, j // 3 * 3 + 4)\n",
    "                if r != r_ or c != c_\n",
    "            ]\n",
    "\n",
    "            del_op = list(set(del_op1 + del_op2 + del_op3 + del_op4))\n",
    "            df.drop(index=[id for id in del_op if id in df.index], inplace=True)\n",
    "\n",
    "display.display(df)"
   ]
  },
  {
   "cell_type": "markdown",
   "metadata": {
    "editable": true,
    "slideshow": {
     "slide_type": ""
    },
    "tags": []
   },
   "source": [
    "この表を元にExact Cover問題の解法をDancing Links(と類似したデータ構造)を用いて実装すると、正しい答えが、バックトラック法よりも数段高速に求まる。以下、ソースコードは示さないが、実行結果と、その際の実行時間を示す。プログラミングに自信のある読者は、ぜひ前述の`DataFrame`を使った例を参考に、より高速な実装に取り組んでほしい。"
   ]
  },
  {
   "cell_type": "code",
   "execution_count": 40,
   "metadata": {
    "editable": true,
    "slideshow": {
     "slide_type": ""
    },
    "tags": [
     "remove-input"
    ]
   },
   "outputs": [],
   "source": [
    "from typing import Any, Set, Dict, List\n",
    "\n",
    "ops = {op: set() for op in df.index}\n",
    "cds = {cd: set() for cd in df.columns}\n",
    "\n",
    "\n",
    "for op in ops.keys():\n",
    "    cds_for_op = df.columns[df.loc[op, :] == 1]\n",
    "    ops[op].update(cds_for_op)\n",
    "\n",
    "for cd in cds.keys():\n",
    "    ops_for_cd = df.index[df.loc[:, cd] == 1]\n",
    "    cds[cd].update(ops_for_cd)\n",
    "\n",
    "\n",
    "def exact_cover(rows: Dict[str, Set[str]], cols: Dict[str, Set[str]]) -> List[str]:\n",
    "    sc = min(cols, key=lambda k: len(cols[k]))\n",
    "    if cols[sc] == 0:\n",
    "        return []\n",
    "\n",
    "    sel_rows = list(cols[sc])\n",
    "    for sr in sel_rows:\n",
    "        mask_cols = rows[sr]\n",
    "        mask_rows = set().union(*(cols[mc] for mc in mask_cols))\n",
    "\n",
    "        # mask rows/cols\n",
    "        for i in mask_rows:\n",
    "            for j in rows[i]:\n",
    "                cols[j].discard(i)\n",
    "\n",
    "        masked_rows = {k: rows.pop(k) for k in mask_rows}\n",
    "        masked_cols = {k: cols.pop(k) for k in mask_cols}\n",
    "\n",
    "        if len(cols) == 0:\n",
    "            return [sr]\n",
    "\n",
    "        # depth-first search\n",
    "        ret = exact_cover(rows, cols)\n",
    "        if len(ret) > 0:\n",
    "            return ret + [sr]\n",
    "\n",
    "        # unmask rows/cols\n",
    "        rows.update(masked_rows)\n",
    "        cols.update(masked_cols)\n",
    "\n",
    "        for i in mask_rows:\n",
    "            for j in rows[i]:\n",
    "                cols[j].add(i)\n",
    "\n",
    "    return []"
   ]
  },
  {
   "cell_type": "code",
   "execution_count": 41,
   "metadata": {
    "editable": true,
    "slideshow": {
     "slide_type": ""
    },
    "tags": []
   },
   "outputs": [],
   "source": [
    "from copy import deepcopy\n",
    "\n",
    "rows = deepcopy(ops)\n",
    "cols = deepcopy(cds)\n",
    "solution = exact_cover(rows, cols)"
   ]
  },
  {
   "cell_type": "code",
   "execution_count": 42,
   "metadata": {
    "editable": true,
    "slideshow": {
     "slide_type": ""
    },
    "tags": [
     "hide-input"
    ]
   },
   "outputs": [
    {
     "name": "stdout",
     "output_type": "stream",
     "text": [
      "[[5 2 1 7 6 8 3 4 9]\n",
      " [3 6 8 2 4 9 1 5 7]\n",
      " [9 4 7 5 1 3 6 8 2]\n",
      " [4 5 9 6 8 2 7 3 1]\n",
      " [8 1 6 3 9 7 4 2 5]\n",
      " [2 7 3 4 5 1 9 6 8]\n",
      " [6 9 4 8 7 5 2 1 3]\n",
      " [7 8 2 1 3 6 5 9 4]\n",
      " [1 3 5 9 2 4 8 7 6]]\n"
     ]
    }
   ],
   "source": [
    "answer = np.zeros((9, 9), dtype=\"int32\")\n",
    "for s in solution:\n",
    "    pat = re.compile(r\"R([1-9]{1})C([1-9]{1})#([1-9]{1})\")\n",
    "    mat = pat.search(s)\n",
    "    r = int(mat.group(1))\n",
    "    c = int(mat.group(2))\n",
    "    n = int(mat.group(3))\n",
    "    answer[r - 1, c - 1] = n\n",
    "\n",
    "print(answer)"
   ]
  },
  {
   "cell_type": "code",
   "execution_count": 43,
   "metadata": {
    "editable": true,
    "slideshow": {
     "slide_type": ""
    },
    "tags": [
     "remove-input"
    ]
   },
   "outputs": [],
   "source": [
    "%%capture perf\n",
    "%%timeit -n 1 -r 10\n",
    "rows = deepcopy(ops)\n",
    "cols = deepcopy(cds)\n",
    "exact_cover(rows, cols)"
   ]
  },
  {
   "cell_type": "code",
   "execution_count": 44,
   "metadata": {
    "editable": true,
    "scrolled": true,
    "slideshow": {
     "slide_type": ""
    },
    "tags": [
     "remove-input"
    ]
   },
   "outputs": [
    {
     "name": "stdout",
     "output_type": "stream",
     "text": [
      "Execution time:\n",
      "6.91 ms +- 217 us per loop (mean +- std. dev. of 10 runs, 1 loop each)\n",
      "\n"
     ]
    }
   ],
   "source": [
    "print(\"Execution time:\\n\" + str(perf))"
   ]
  },
  {
   "cell_type": "code",
   "execution_count": 45,
   "metadata": {
    "editable": true,
    "slideshow": {
     "slide_type": ""
    },
    "tags": [
     "remove-input"
    ]
   },
   "outputs": [
    {
     "data": {
      "text/markdown": [
       "すると先ほど1秒以上かかっていた問題が、**たったの6.91 msで解けている**ことが分かる。このように、数独の問題をExact Coverの問題と捉えることが、通常のバックトラック法よりも遙かに高速に問題を解けることが確認できた。"
      ],
      "text/plain": [
       "<IPython.core.display.Markdown object>"
      ]
     },
     "execution_count": 45,
     "metadata": {},
     "output_type": "execute_result"
    }
   ],
   "source": [
    "avg_time = \" \".join(perf.stdout.split(\" \")[0:2])\n",
    "\n",
    "display.Markdown(\n",
    "    f\"すると先ほど1秒以上かかっていた問題が、**たったの{avg_time:s}で解けている**ことが分かる。このように、数独の問題をExact Coverの問題と捉えることが、通常のバックトラック法よりも遙かに高速に問題を解けることが確認できた。\"\n",
    ")"
   ]
  },
  {
   "cell_type": "markdown",
   "metadata": {
    "editable": true,
    "slideshow": {
     "slide_type": ""
    },
    "tags": []
   },
   "source": [
    "```{admonition} なぜ速く解けるのか？\n",
    ":class: note\n",
    "\n",
    "今紹介したExact Coverを解くAlgorithm Xでは、表の列の中で**最も1の数が少ない列**を選んでいる。この操作が何を意味するかを考えてみよう。\n",
    "\n",
    "表の列に1が入っている行というのは、その列に対応する操作を行うことで、列が表わす条件が満たされることを意味する。従って「最も1の数が少ない列」というのは「その列が表わす条件を満たすために選択しうる【セルへの数字の代入操作】の候補数が最も少ない」ということを意味する。\n",
    "\n",
    "Algorithm Xは、ある意味では深さ優先探索を用いたバックトラック法の一種と考えることができるが、このように候補の数が最も少ない物から順に処理することで、深さが下がるごとに急速に表のサイズが小さくなるため、処理の効率が良い。これがExact Coverによる定式化をAlgorithm Xで解くと高速に動作する理由である。\n",
    "```"
   ]
  },
  {
   "cell_type": "markdown",
   "metadata": {
    "editable": true,
    "slideshow": {
     "slide_type": ""
    },
    "tags": []
   },
   "source": [
    "## 演習: コンピュータ数独大会"
   ]
  },
  {
   "cell_type": "markdown",
   "metadata": {
    "editable": true,
    "slideshow": {
     "slide_type": ""
    },
    "tags": []
   },
   "source": [
    "ここまでの内容を利用して、写真から数独の問題を読み取り、答えを返すプログラムを作成してみよう。\n",
    "\n",
    "本番では、以下のレベル1-3の内容で10問ずつ画像を与える。レベル1が1点、レベル2が2点、レベル3が3点の合計60点のうち何点を取れるかを競う。各レベルの画像は以下のような性質を持つ。\n",
    "\n",
    "- **レベル1:** 問題が白い背景の上に写っている\n",
    "- **レベル2:** 問題が平面の上に写っているが、問題が斜めから撮影されている\n",
    "- **レベル3:** 問題が書籍のような湾曲した面に印刷されている"
   ]
  },
  {
   "cell_type": "code",
   "execution_count": 46,
   "metadata": {
    "editable": true,
    "slideshow": {
     "slide_type": ""
    },
    "tags": [
     "remove-input"
    ]
   },
   "outputs": [
    {
     "data": {
      "image/png": "[encoded data removed]",
      "text/plain": [
       "<Figure size 1200x400 with 3 Axes>"
      ]
     },
     "metadata": {},
     "output_type": "display_data"
    }
   ],
   "source": [
    "import cv2\n",
    "import matplotlib.gridspec as gridspec\n",
    "\n",
    "level1 = cv2.imread(\"../../data/sudoku/level_1.jpg\")[:, :, ::-1]\n",
    "level2 = cv2.imread(\"../../data/sudoku/level_2.jpg\")[:, :, ::-1]\n",
    "level3 = cv2.imread(\"../../data/sudoku/level_3.jpg\")[:, :, ::-1]\n",
    "\n",
    "fig = plt.figure(figsize=(12, 4))\n",
    "\n",
    "a1 = level1.shape[1] / level1.shape[0]\n",
    "a2 = level2.shape[1] / level2.shape[0]\n",
    "a3 = level3.shape[1] / level3.shape[0]\n",
    "\n",
    "# create subplots\n",
    "gs = gridspec.GridSpec(1, 3, width_ratios=[a1, a2, a3])\n",
    "p1 = plt.subplot(gs[0])\n",
    "p2 = plt.subplot(gs[1])\n",
    "p3 = plt.subplot(gs[2])\n",
    "\n",
    "p1.imshow(level1, interpolation=None)\n",
    "p1.axis(\"off\")\n",
    "p1.set_title(\"Level 1\")\n",
    "\n",
    "p2.imshow(level2, interpolation=None)\n",
    "p2.axis(\"off\")\n",
    "p2.set_title(\"Level 2\")\n",
    "\n",
    "p3.imshow(level3, interpolation=None)\n",
    "p3.axis(\"off\")\n",
    "p3.set_title(\"Level 3\")\n",
    "\n",
    "plt.tight_layout()\n",
    "plt.show()"
   ]
  },
  {
   "cell_type": "markdown",
   "metadata": {
    "editable": true,
    "slideshow": {
     "slide_type": ""
    },
    "tags": []
   },
   "source": [
    "**入力の形式**\n",
    "\n",
    "入力としては、NumPyの配列として`(H, W, 3)`の大きさ(Hは画像の高さ、Wは画像の幅)のカラー画像。また、写真に写り込む問題には以下のような制約がある。\n",
    "\n",
    "- 画像中には「数独の問題」が1問だけ写っている\n",
    "- 問題以外に余計な物が写っている可能性はあるが、問題が2問以上写っていることはない\n",
    "- 問題は入力された画像の向きとおおよそ揃っており、問題が横を向いていたり、上下が逆であることはない\n",
    "- 問題中の数字は必ず何らかの印刷用フォントを使って書かれており、手書きであることはない\n",
    "- 画像中に映り込んでいる問題は必ず解が1つに定まる\n",
    "\n",
    "**出力の形式**\n",
    "\n",
    "数独の答えを表わす`(9, 9)`の大きさを持つNumPyの配列。\n",
    "\n",
    "**プログラムの作成方法**\n",
    "\n",
    "これを入力とするような関数 `solve(image)` を作成し、テストサーバーにプログラムをアップロードすると、自動で点数が計算される。ただし、全体の実行時間が3秒を超えると、自動的にプログラムが終了し、0点であると見なされる。"
   ]
  },
  {
   "cell_type": "markdown",
   "metadata": {
    "editable": true,
    "slideshow": {
     "slide_type": ""
    },
    "tags": []
   },
   "source": [
    "**プログラムの例 (スケルトン)**\n",
    "\n",
    "```python\n",
    "import numpy as np\n",
    "import cv2\n",
    "\n",
    "def solve(image):\n",
    "    gray = cv2.cvtColor(image, cv2.COLOR_RGB2GRAY)\n",
    "    # 以下、数独の問題を解く処理\n",
    "    return np.zeros((9, 9), dtype=\"int32\")\n",
    "```"
   ]
  },
  {
   "cell_type": "markdown",
   "metadata": {
    "editable": true,
    "slideshow": {
     "slide_type": ""
    },
    "tags": []
   },
   "source": [
    "**使用可能なライブラリ**\n",
    "\n",
    "今回の実行環境では、以下のライブラリが使用可能となっている (Pipを使ってインストールされる)。これ以外のライブラリは使用できないので注意すること。\n",
    "\n",
    "- NumPy\n",
    "- scikit-learn\n",
    "- matplotlib\n",
    "- pandas\n",
    "- opencv-python"
   ]
  },
  {
   "cell_type": "markdown",
   "metadata": {
    "editable": true,
    "slideshow": {
     "slide_type": ""
    },
    "tags": []
   },
   "source": [
    "**テスト方法**\n",
    "\n",
    "GitHub Classroomを使ってテストを行う。講義中で課題用のClassroomのURLを指示するので、そのURLをブラウザで開き、テンプレートレポジトリを自分のGitHubアカウントと紐付ける。以後、課題用のレポジトリにコードをpushする度にテストが走る。\n",
    "\n",
    "本講義では、実際の問題として与えている画像を公開することはしないが、どの程度の画像に対してプログラムが正しく動いているかは、Github Actionsのログを見ることで確認できる。"
   ]
  },
  {
   "cell_type": "markdown",
   "metadata": {
    "editable": true,
    "slideshow": {
     "slide_type": ""
    },
    "tags": []
   },
   "source": [
    "```{admonition} より高度な問題を解くためのヒント\n",
    ":class: tips\n",
    "\n",
    "今回の演習では\n",
    "\n",
    "- 問題を画像から読み取る、\n",
    "- 読み取った問題から数独の解法を得る\n",
    "\n",
    "という二つのタスクを解く必要がある。\n",
    "\n",
    "問題の読み取りについては、 [図形の検出](sec:figure-detection) の項で学んだ内容を参考に、数独問題の枠を検出し、セルの中の数字を切り離した画像を81枚得るようにするのが良い。ただし、レベル3のように問題が湾曲している場合には、問題全体に対して射影変換を考えても、問題を平面化することが難しいので、セルごとに射影変換を考える必要があるだろう。また、最初から問題を平面化することを放棄して、画像中から「数字がどこにあるか」、「その数字が何か」を直接検出して、数独の問題を復元する方法もあるかもしれない。\n",
    "\n",
    "次に数独の問題を解く際のポイントだが、今回は画像から問題を読み取っているために、読み取った数字が間違っている可能性がある。そのような誤りを許容するように解法のプログラムを書くと良い。具体的には「解が存在しない問題」や「解が複数ある問題」を上手く取り扱う方法を検討したり、数字を読み取った時に間違いを起こしそうなもの(例えば1と7など)を入れ替えて問題を何度か解いてみる、などの工夫が考えられるだろう。当然ながら、このような工夫を行うためには、一回の解法にかかる時間はできる限り少ない方が良い。\n",
    "```"
   ]
  },
  {
   "cell_type": "code",
   "execution_count": null,
   "metadata": {
    "editable": true,
    "slideshow": {
     "slide_type": ""
    },
    "tags": []
   },
   "outputs": [],
   "source": []
  }
 ],
 "metadata": {
  "kernelspec": {
   "display_name": "Python 3 (ipykernel)",
   "language": "python",
   "name": "python3"
  },
  "language_info": {
   "codemirror_mode": {
    "name": "ipython",
    "version": 3
   },
   "file_extension": ".py",
   "mimetype": "text/x-python",
   "name": "python",
   "nbconvert_exporter": "python",
   "pygments_lexer": "ipython3",
   "version": "3.11.4"
  }
 },
 "nbformat": 4,
 "nbformat_minor": 4
}

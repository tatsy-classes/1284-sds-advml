{
 "cells": [
  {
   "cell_type": "markdown",
   "metadata": {
    "editable": true,
    "slideshow": {
     "slide_type": ""
    },
    "tags": []
   },
   "source": [
    "(sec:othello-agent)=\n",
    "# オセロAIの作成"
   ]
  },
  {
   "cell_type": "code",
   "execution_count": 1,
   "metadata": {
    "editable": true,
    "slideshow": {
     "slide_type": ""
    },
    "tags": []
   },
   "outputs": [
    {
     "name": "stdout",
     "output_type": "stream",
     "text": [
      "Use 4 CPUs\n"
     ]
    }
   ],
   "source": [
    "\"\"\"\n",
    "下準備のコード\n",
    "\"\"\"\n",
    "\n",
    "%load_ext autoreload\n",
    "%autoreload 2\n",
    "\n",
    "import time\n",
    "import random\n",
    "import contextlib\n",
    "import multiprocessing\n",
    "\n",
    "import numpy as np\n",
    "import joblib\n",
    "import IPython.display as display\n",
    "import matplotlib.pyplot as plt\n",
    "from tqdm.notebook import tqdm\n",
    "from matplotlib.animation import ArtistAnimation\n",
    "\n",
    "# 乱数シードの固定\n",
    "random.seed(12345)\n",
    "np.random.seed(12345)\n",
    "\n",
    "# 実験に用いるエピソード数\n",
    "n_episodes = 1000\n",
    "\n",
    "# 並列化スレッド数\n",
    "n_jobs = min(4, multiprocessing.cpu_count() - 2)\n",
    "print(f\"Use {n_jobs:d} CPUs\")\n",
    "\n",
    "\n",
    "# joblib用のtqdm\n",
    "@contextlib.contextmanager\n",
    "def tqdm_joblib(total=None, **kwargs):\n",
    "    pbar = tqdm(total=total, miniters=1, smoothing=0, **kwargs)\n",
    "\n",
    "    class TqdmBatchCompletionCallback(joblib.parallel.BatchCompletionCallBack):\n",
    "        def __call__(self, *args, **kwargs):\n",
    "            pbar.update(n=self.batch_size)\n",
    "            return super().__call__(*args, **kwargs)\n",
    "\n",
    "    old_batch_callback = joblib.parallel.BatchCompletionCallBack\n",
    "    joblib.parallel.BatchCompletionCallBack = TqdmBatchCompletionCallback\n",
    "\n",
    "    try:\n",
    "        yield pbar\n",
    "    finally:\n",
    "        joblib.parallel.BatchCompletionCallBack = old_batch_callback\n",
    "        pbar.close()"
   ]
  },
  {
   "cell_type": "markdown",
   "metadata": {
    "editable": true,
    "slideshow": {
     "slide_type": ""
    },
    "tags": []
   },
   "source": [
    "ここからは、より高度な強化学習の対象としてオセロを取り扱う。ご存じの通り、オセロは(諸説あるものの)日本で発祥した「はさみ碁」の一種で、白と黒のディスクを8×8の盤の上に並べ、同色で挟まれたディスクを裏返すことで、より多くのマスを獲得した方が勝利するというゲームである。"
   ]
  },
  {
   "cell_type": "markdown",
   "metadata": {
    "editable": true,
    "slideshow": {
     "slide_type": ""
    },
    "tags": []
   },
   "source": [
    "```{warning}\n",
    "オセロは日本以外ではリバーシのように呼ばれることがある。リバーシは初期状態として、ディスクが置かれていない状態からスタートするが、オセロは盤の中央に白黒2枚ずつのディスクを置いた状態からスタートする、という違いがある。\n",
    "\n",
    "参考: [オセロ（ボードゲーム）- Wikipedia](https://ja.wikipedia.org/wiki/%E3%82%AA%E3%82%BB%E3%83%AD_(%E3%83%9C%E3%83%BC%E3%83%89%E3%82%B2%E3%83%BC%E3%83%A0))\n",
    "```"
   ]
  },
  {
   "cell_type": "markdown",
   "metadata": {
    "editable": true,
    "slideshow": {
     "slide_type": ""
    },
    "tags": []
   },
   "source": [
    "## オセロゲーム環境"
   ]
  },
  {
   "cell_type": "markdown",
   "metadata": {
    "editable": true,
    "slideshow": {
     "slide_type": ""
    },
    "tags": []
   },
   "source": [
    "今回は、講義用に用意したオセロ用のゲーム環境を用いる。ゲーム環境用のモジュールは以下のURLからダウンロードできる。\n",
    "\n",
    "\n"
   ]
  },
  {
   "cell_type": "markdown",
   "metadata": {
    "editable": true,
    "slideshow": {
     "slide_type": ""
    },
    "tags": []
   },
   "source": [
    "このモジュールには大きく分けて、3つのクラスが定義されている。\n",
    "\n",
    "**Env**はオセロゲームを取り扱う環境で、有効手の列挙や盤の状態の更新などの関数を提供する。ただし、`Env`クラスは直接インスタンス化する代わりに、`gymnasium`と同様に環境作成用の`make`関数が用意されているので、こちらを用いる。\n",
    "\n",
    "**Move**はオセロゲームにおける「手」を表わすクラスで、現在のプレイヤーとディスクを置く場所を格納している。\n",
    "\n",
    "**Player**は厳密には列挙型として定義されていて、プレイヤーが黒番なのか白番なのかに加えて、次のプレイヤーに手渡しする関数などが提供されている。\n",
    "\n",
    "まずは、これらをモジュールからインポートして、ゲーム環境を作成してみる。"
   ]
  },
  {
   "cell_type": "code",
   "execution_count": 2,
   "metadata": {
    "editable": true,
    "slideshow": {
     "slide_type": ""
    },
    "tags": []
   },
   "outputs": [],
   "source": [
    "# オセロモジュールのインポート\n",
    "import othello\n",
    "from othello import Move, Player"
   ]
  },
  {
   "cell_type": "code",
   "execution_count": 3,
   "metadata": {
    "editable": true,
    "slideshow": {
     "slide_type": ""
    },
    "tags": []
   },
   "outputs": [
    {
     "data": {
      "image/png": "[encoded data removed]",
      "text/plain": [
       "+-+-+-+-+-+-+-+-+\n",
       "| | | | | | | | |\n",
       "+-+-+-+-+-+-+-+-+\n",
       "| | | | | | | | |\n",
       "+-+-+-+-+-+-+-+-+\n",
       "| | | | | | | | |\n",
       "+-+-+-+-+-+-+-+-+\n",
       "| | | | | | | | |\n",
       "+-+-+-+-+-+-+-+-+\n",
       "| | | | | | | | |\n",
       "+-+-+-+-+-+-+-+-+\n",
       "| | | | | | | | |\n",
       "+-+-+-+-+-+-+-+-+\n",
       "| | | | | | | | |\n",
       "+-+-+-+-+-+-+-+-+\n",
       "| | | | | | | | |\n",
       "+-+-+-+-+-+-+-+-+"
      ]
     },
     "execution_count": 3,
     "metadata": {},
     "output_type": "execute_result"
    }
   ],
   "source": [
    "# 環境の作成\n",
    "env = othello.make()\n",
    "env"
   ]
  },
  {
   "cell_type": "markdown",
   "metadata": {
    "editable": true,
    "slideshow": {
     "slide_type": ""
    },
    "tags": []
   },
   "source": [
    "上記のように、オセロ環境は初期状態ではディスクが配置されていない。ここでも`gymnasium`と同様に`reset`関数を呼び出すことで、ゲーム環境が初期化される。\n",
    "\n",
    "なお、`reset`関数は現在の手番を表わすプレイヤーと、現在の盤面状態を表わすNumPyの配列を返してくる。この点は`gymnasium`と異なっているので注意すること。"
   ]
  },
  {
   "cell_type": "code",
   "execution_count": 4,
   "metadata": {
    "editable": true,
    "slideshow": {
     "slide_type": ""
    },
    "tags": []
   },
   "outputs": [],
   "source": [
    "player, board = env.reset()"
   ]
  },
  {
   "cell_type": "code",
   "execution_count": 5,
   "metadata": {
    "editable": true,
    "slideshow": {
     "slide_type": ""
    },
    "tags": []
   },
   "outputs": [
    {
     "name": "stdout",
     "output_type": "stream",
     "text": [
      "Player.BLACK\n"
     ]
    }
   ],
   "source": [
    "print(player)"
   ]
  },
  {
   "cell_type": "code",
   "execution_count": 6,
   "metadata": {
    "editable": true,
    "slideshow": {
     "slide_type": ""
    },
    "tags": []
   },
   "outputs": [
    {
     "name": "stdout",
     "output_type": "stream",
     "text": [
      "[[ 0  0  0  0  0  0  0  0]\n",
      " [ 0  0  0  0  0  0  0  0]\n",
      " [ 0  0  0  0  0  0  0  0]\n",
      " [ 0  0  0  1 -1  0  0  0]\n",
      " [ 0  0  0 -1  1  0  0  0]\n",
      " [ 0  0  0  0  0  0  0  0]\n",
      " [ 0  0  0  0  0  0  0  0]\n",
      " [ 0  0  0  0  0  0  0  0]]\n"
     ]
    }
   ],
   "source": [
    "print(board)"
   ]
  },
  {
   "cell_type": "code",
   "execution_count": 7,
   "metadata": {
    "editable": true,
    "slideshow": {
     "slide_type": ""
    },
    "tags": []
   },
   "outputs": [
    {
     "data": {
      "image/png": "[encoded data removed]",
      "text/plain": [
       "+-+-+-+-+-+-+-+-+\n",
       "| | | | | | | | |\n",
       "+-+-+-+-+-+-+-+-+\n",
       "| | | | | | | | |\n",
       "+-+-+-+-+-+-+-+-+\n",
       "| | | | | | | | |\n",
       "+-+-+-+-+-+-+-+-+\n",
       "| | | |o|x| | | |\n",
       "+-+-+-+-+-+-+-+-+\n",
       "| | | |x|o| | | |\n",
       "+-+-+-+-+-+-+-+-+\n",
       "| | | | | | | | |\n",
       "+-+-+-+-+-+-+-+-+\n",
       "| | | | | | | | |\n",
       "+-+-+-+-+-+-+-+-+\n",
       "| | | | | | | | |\n",
       "+-+-+-+-+-+-+-+-+"
      ]
     },
     "execution_count": 7,
     "metadata": {},
     "output_type": "execute_result"
    }
   ],
   "source": [
    "env"
   ]
  },
  {
   "cell_type": "markdown",
   "metadata": {
    "editable": true,
    "slideshow": {
     "slide_type": ""
    },
    "tags": []
   },
   "source": [
    "また、上記の通り、Jupyter Notebook環境においては`env`を表示することで盤面を表わす画像が表示されるので、適宜、こちらを用いて状態を確認してほしい。"
   ]
  },
  {
   "cell_type": "markdown",
   "metadata": {
    "editable": true,
    "slideshow": {
     "slide_type": ""
    },
    "tags": []
   },
   "source": [
    "## ランダムな着手"
   ]
  },
  {
   "cell_type": "markdown",
   "metadata": {
    "editable": true,
    "slideshow": {
     "slide_type": ""
    },
    "tags": []
   },
   "source": [
    "まずは、オセロ環境の仕様を理解するために、白番、黒番ともにランダムに行動させて、どのように状態が変化するかを見てみよう。\n",
    "\n",
    "`env`には、現在の盤の状態で取ることができる「有効手」の配列を取得する`legal_moves`関数が提供されている。"
   ]
  },
  {
   "cell_type": "code",
   "execution_count": 8,
   "metadata": {
    "editable": true,
    "slideshow": {
     "slide_type": ""
    },
    "tags": []
   },
   "outputs": [
    {
     "name": "stdout",
     "output_type": "stream",
     "text": [
      "[('BLACK', 3, 5), ('BLACK', 4, 6), ('BLACK', 5, 3), ('BLACK', 6, 4)]\n"
     ]
    }
   ],
   "source": [
    "moves = env.legal_moves(player)\n",
    "print(moves)"
   ]
  },
  {
   "cell_type": "markdown",
   "metadata": {
    "editable": true,
    "slideshow": {
     "slide_type": ""
    },
    "tags": []
   },
   "source": [
    "上記の出力から、黒番が3行5列、4行6列、5行3列、6行4列の4箇所のいずれかにディスクを置くことができることが分かる。\n",
    "\n",
    "着手を決定したら、`env.step`関数に手を表わす変数を渡す。`step`関数は`reset`関数と同様に次の手番を表わすプレイヤーと、現在の盤面の状態を返す。"
   ]
  },
  {
   "cell_type": "code",
   "execution_count": 9,
   "metadata": {
    "editable": true,
    "slideshow": {
     "slide_type": ""
    },
    "tags": []
   },
   "outputs": [],
   "source": [
    "player, board = env.step(moves[0])"
   ]
  },
  {
   "cell_type": "code",
   "execution_count": 10,
   "metadata": {
    "editable": true,
    "slideshow": {
     "slide_type": ""
    },
    "tags": []
   },
   "outputs": [
    {
     "name": "stdout",
     "output_type": "stream",
     "text": [
      "Player.WHITE\n"
     ]
    }
   ],
   "source": [
    "print(player)"
   ]
  },
  {
   "cell_type": "code",
   "execution_count": 11,
   "metadata": {
    "editable": true,
    "slideshow": {
     "slide_type": ""
    },
    "tags": []
   },
   "outputs": [
    {
     "name": "stdout",
     "output_type": "stream",
     "text": [
      "[[ 0  0  0  0  0  0  0  0]\n",
      " [ 0  0  0  0  0  0  0  0]\n",
      " [ 0  0  0  0  1  0  0  0]\n",
      " [ 0  0  0  1  1  0  0  0]\n",
      " [ 0  0  0 -1  1  0  0  0]\n",
      " [ 0  0  0  0  0  0  0  0]\n",
      " [ 0  0  0  0  0  0  0  0]\n",
      " [ 0  0  0  0  0  0  0  0]]\n"
     ]
    }
   ],
   "source": [
    "print(board)"
   ]
  },
  {
   "cell_type": "code",
   "execution_count": 12,
   "metadata": {
    "editable": true,
    "slideshow": {
     "slide_type": ""
    },
    "tags": []
   },
   "outputs": [
    {
     "data": {
      "image/png": "[encoded data removed]",
      "text/plain": [
       "+-+-+-+-+-+-+-+-+\n",
       "| | | | | | | | |\n",
       "+-+-+-+-+-+-+-+-+\n",
       "| | | | | | | | |\n",
       "+-+-+-+-+-+-+-+-+\n",
       "| | | | |o| | | |\n",
       "+-+-+-+-+-+-+-+-+\n",
       "| | | |o|o| | | |\n",
       "+-+-+-+-+-+-+-+-+\n",
       "| | | |x|o| | | |\n",
       "+-+-+-+-+-+-+-+-+\n",
       "| | | | | | | | |\n",
       "+-+-+-+-+-+-+-+-+\n",
       "| | | | | | | | |\n",
       "+-+-+-+-+-+-+-+-+\n",
       "| | | | | | | | |\n",
       "+-+-+-+-+-+-+-+-+"
      ]
     },
     "execution_count": 12,
     "metadata": {},
     "output_type": "execute_result"
    }
   ],
   "source": [
    "env"
   ]
  },
  {
   "cell_type": "markdown",
   "metadata": {
    "editable": true,
    "slideshow": {
     "slide_type": ""
    },
    "tags": []
   },
   "source": [
    "このように、黒番が3行5列にディスクを置いたことで、着手したマスがハイライトされて、かつ、盤の状態が正しく更新されていることが確認できる。"
   ]
  },
  {
   "cell_type": "markdown",
   "metadata": {
    "editable": true,
    "slideshow": {
     "slide_type": ""
    },
    "tags": []
   },
   "source": [
    "オセロはルール上、着手可能な手がない、すなわちどこにディスクを置いても裏返せる相手方のディスクが存在しない時にはパスをすることになる。\n",
    "\n",
    "有効手が存在しない時には`legal_moves`が空の配列を返してくるので、そのときには`Move.Pass(player)`を呼び出して、パスを表わす「手」を用意する。\n",
    "\n",
    "```python\n",
    "moves = env.legal_moves(player)\n",
    "if len(moves) = 0:\n",
    "    move = Move.Pass(player)\n",
    "```"
   ]
  },
  {
   "cell_type": "markdown",
   "metadata": {
    "editable": true,
    "slideshow": {
     "slide_type": ""
    },
    "tags": []
   },
   "source": [
    "これらを踏まえて、黒番、白番ともにランダムに着手させて、盤の状態変化を確認する。"
   ]
  },
  {
   "cell_type": "code",
   "execution_count": 13,
   "metadata": {
    "editable": true,
    "slideshow": {
     "slide_type": ""
    },
    "tags": []
   },
   "outputs": [],
   "source": [
    "# ゲームのリセット\n",
    "player, _ = env.reset()\n",
    "frames = []\n",
    "\n",
    "# エピソード開始\n",
    "while not env.gameset():\n",
    "    # 有効手の列挙\n",
    "    moves = env.legal_moves(player)\n",
    "\n",
    "    # 現在の状態画像を保存\n",
    "    img = env.render()\n",
    "    frames.append(img)\n",
    "\n",
    "    # 着手可能な手があればランダムに1つを選ぶ\n",
    "    # 選べる手がなければパスする\n",
    "    if len(moves) != 0:\n",
    "        move = np.random.choice(moves)\n",
    "    else:\n",
    "        move = Move.Pass(player)\n",
    "\n",
    "    # 着手による盤の状態の更新\n",
    "    player, _ = env.step(move)"
   ]
  },
  {
   "cell_type": "code",
   "execution_count": 14,
   "metadata": {
    "editable": true,
    "slideshow": {
     "slide_type": ""
    },
    "tags": [
     "hide-input"
    ]
   },
   "outputs": [
    {
     "data": {
      "text/html": [
       "<video width=\"640\" height=\"480\" controls autoplay loop>\n",
       "  <source type=\"video/mp4\" src=\"data:video/mp4;base64,AAAAIGZ0eXBNNFYgAAACAE00ViBpc29taXNvMmF2YzEAAAAIZnJlZQAA/jBtZGF0AAACrwYF//+r\n",
       "3EXpvebZSLeWLNgg2SPu73gyNjQgLSBjb3JlIDE2NCByMzEwOCAzMWUxOWY5IC0gSC4yNjQvTVBF\n",
       "Ry00IEFWQyBjb2RlYyAtIENvcHlsZWZ0IDIwMDMtMjAyMyAtIGh0dHA6Ly93d3cudmlkZW9sYW4u\n",
       "b3JnL3gyNjQuaHRtbCAtIG9wdGlvbnM6IGNhYmFjPTEgcmVmPTMgZGVibG9jaz0xOjA6MCBhbmFs\n",
       "eXNlPTB4MzoweDExMyBtZT1oZXggc3VibWU9NyBwc3k9MSBwc3lfcmQ9MS4wMDowLjAwIG1peGVk\n",
       "X3JlZj0xIG1lX3JhbmdlPTE2IGNocm9tYV9tZT0xIHRyZWxsaXM9MSA4eDhkY3Q9MSBjcW09MCBk\n",
       "ZWFkem9uZT0yMSwxMSBmYXN0X3Bza2lwPTEgY2hyb21hX3FwX29mZnNldD0tMiB0aHJlYWRzPTE1\n",
       "IGxvb2thaGVhZF90aHJlYWRzPTIgc2xpY2VkX3RocmVhZHM9MCBucj0wIGRlY2ltYXRlPTEgaW50\n",
       "ZXJsYWNlZD0wIGJsdXJheV9jb21wYXQ9MCBjb25zdHJhaW5lZF9pbnRyYT0wIGJmcmFtZXM9MyBi\n",
       "X3B5cmFtaWQ9MiBiX2FkYXB0PTEgYl9iaWFzPTAgZGlyZWN0PTEgd2VpZ2h0Yj0xIG9wZW5fZ29w\n",
       "PTAgd2VpZ2h0cD0yIGtleWludD0yNTAga2V5aW50X21pbj0xMCBzY2VuZWN1dD00MCBpbnRyYV9y\n",
       "ZWZyZXNoPTAgcmNfbG9va2FoZWFkPTQwIHJjPWNyZiBtYnRyZWU9MSBjcmY9MjMuMCBxY29tcD0w\n",
       "LjYwIHFwbWluPTAgcXBtYXg9NjkgcXBzdGVwPTQgaXBfcmF0aW89MS40MCBhcT0xOjEuMDAAgAAA\n",
       "Fa5liIQAEf/+94gfMstp+TrXchHnrS6tH1DuRnFepL3+IAAAAwAAAwAAZUDfKVB/eXDc4AAABPAA\n",
       "wEz/4M0/8QEt0O+eUNAm8uuENOQ5X88mS5SRb6T28EoyOq/wh5CyNtQuAcbXU0/eKw2T/EGIuPiI\n",
       "Z8NlecuT8TjnGcZMc1CWjASHS8hyWvgjY3BdOXJtSE7c6Zj4eigr5RLw37fAbzfkvaBZchjAfK6/\n",
       "7tPSTATdQKK+A3tyPE7c69h7IOhuMTlxZLd1wbFtyyeTakw7FrnD5GmbmLQegMxMvz9vtK5eh+xQ\n",
       "+ixJOJ+QpCz3XF4rvI1l62HvEPAhNMoBfIN7KXQsmRV697vM2yv5cGc9l2FFmFsWYxAlmq454c2Y\n",
       "+2poA8VPcNwRbBRz1BWgljNABTetzh+Y1dsycMa4+ZjekF/ntX+8DzypyTaIxgrQNRsmalJsS2sI\n",
       "9Rriomsf3U0Qf0BL7CWP5RlVptHxDsyDkRdYTuiI+m1wgjyTj9LTGUBFDqJ7/HZh7GWIF3Eur751\n",
       "rtKeD0t+l1+Za8e/FBdbmYYGoihlHAXZhkWt5K/3cXCW+YpFvNyZIpWeydU2T83KfyStzwaz22AZ\n",
       "FEYFxF4n9YC22VIDshFf/c5YCpuVQ6xO7n0nUV/J6vv7i95FMB1OfGP44A9WzNdajIS0PibtD6mb\n",
       "uv+QgKLs4GX71w34NbdPwfHyi21kPcYtl2KQvMaDBqABw0Z/g6my5dQNVZHD85IVb/oY+O3rkKMz\n",
       "RSHfRHGs9mnzbkgit9VylqF36JAL/pRPHnGPla3BIH4/5v/M+OmmMgGACwZIUJI3j3/Yz5f6BRTW\n",
       "5mZuo5N4fy3ya8izccD2Sg1naA9AH7JnluZDZhq5bPsIY4gQO4EYlfu3XDfakt5tRUW5LvAiRK/p\n",
       "slmJqFV9AOKM01DNHy8C3U74ofena9FlYoR01Fd5bBz1WzUAsoCeSebwT+CB6+3+PS1PvF50AIWa\n",
       "RkI5vDwvMrmIuZtl5H9tJyJkD8If+ZXbR7AfyHC/NeePxecOtj+zq7k48AhOFBH6vtyfel+rRGQj\n",
       "L92gAtxucbqSzOm3/JK/XuauMBNqdUbd0pojXmXXSwiJsQDs62gFwkVrahJf56zNdd/ArYtEs1GU\n",
       "Y90O5TRsBXkBYXpCi64loaO2/V4rpFCC7ZIWIBhIU23JLWxIfNYGsJmMslYYJJJWJeFkkeEG0p7I\n",
       "bW2GwHFiX7TdpxEa8AGyJCx37eQ6xVlnCBEho3CB1wV6AQfFdHuXcJMRPLn4uyR9C2KX/iOtJb9H\n",
       "/UGeL09rF0CmODo5Z0uDFGUBR29/b0thHitYemE0Mh+Txhnm1FoG/w9UYuFhKjeGILJHA2ESaSPk\n",
       "LgFTZWjcrSZ1GM/kXUd/FQNucpR+xheRh3SJ7Wkr6FmOd8YPSVnz3hCJ6o44lY1Ld8PSvJdR2MlD\n",
       "w7Xdc829ICPj/KmNr492b5KU0sTyDtOm8QR/GSneAot2ynq0GjJ3TjK1ZHRl/TLqUti6Z0gPw7gT\n",
       "PEPkNSfsaQo1rUUbg/X6kB+m0CWUIK0aZdOdQpFyHnTHQ3fdsEXaNlZWGsQ+OkjMSUWGKFOSAcJr\n",
       "63vrjYJhNQPJO8erUAv694BoF5qsYBxjx9c9PMndKsdR1cm7Q9k1iFUB7MaNi5ZCsEu0hVLX+Q2X\n",
       "geVCkHgdKZjShuV5M8KEy3G7dgyd/2fin+LNPi7mwnZpf/sxV+cgAAADAny9Qg22Gwl8Wgwn/1+X\n",
       "hznBPlfzrIHU0VZvmrEUg513H0Qg1YQmPMMEcDvRnpGQkH73sI6fp+I5bOmgeoGeM2kop7E1U8lN\n",
       "Legmd/QfgI4mGsSKOBgsCheXxnw56tmsCHY5Z/NhYE+bzmE6C3rFhTjImmw8TGXwztKYoKx9gM4r\n",
       "svoi33GIy3jTOk+4nzohzGFt1EqYPVOfE+soihvMgdrd71P93XHKEGFqXXpzCVCYWdMAcAlDSja2\n",
       "UqXJWX/vISHqxxucMVyzpCsNcWWyiCbN5OXT2CDNlAPKEw1q7tR80foRaI22pQ63kmvT0yxlJhvT\n",
       "m6stqQJOm0ASGxklKqLgXq5gRIR6hRikNyaVIMfp6XdzEA6+5ote7BnpfM/12F4U00xPyA+S3gSW\n",
       "a4Jr13YYcWllMKNZV+xYWA12/LFx6LyATeJedNBb0RjP/0yeiAjlorexHDX6zq1HSLJLJCngiM2Z\n",
       "++GLHWEDebdCazIy5AQ9/X7Bk1kXoW6AmSG2VfKrWDEjGbeZxl+qlOf8FYt4mnOyCgG+HlklDjvQ\n",
       "RppcxqTwCQ/+MbYXhpPOa8C2aXLRTh+ib3m9/bOA2s6tgx/zNRWKt1AaFADGB0it/Koew8ovp4Vl\n",
       "1TReS5uA7Z1qd7sRuLINc+Qbf66f+GplG81FXyuvx7PDUxDHKxOUJ7ah0+O9XmRX2Ak+jNAxGvVQ\n",
       "qb65ucSEMunwRjKoxgMFwkqm7LjfL0o6TiPKNKhGhcdoE55p1lkPn60NCxgMH4sxZ5P7R6j/3X7B\n",
       "NTrybs4KD8xzf3Wl+rz1Zh+O/UEPAAAo3utLQarpiUs3HxX+q2TdWVtMKMp410pMHEqhsxMdUHU0\n",
       "Db1VeXhL0YFRPFBcfV0gctcub7qsn82225V5kBZyVdaEvhnzaN8ls5y2TZgut01C/qkOm13ljHVb\n",
       "NLYz1eEBRvXsWIYiJrgGG8MIrnXGFmoGszQ3a8zobwQ7H0XhWZHizuDGC6ZFcm0xkJ+N0LT7Zj3x\n",
       "RX0i287H5fxZZMsxQl07B4pT4ChaE3oTAwYE4eDba06+cMMDStqsX0gn+lt4KDLIZh0J1qOGPBxW\n",
       "5l8BNwCKA2TOqRv+M9j4bbQaEdHtaVJmOSboiLRs6IGuXLYyiX0BqyimFcYrWMAajmc9y53YTL+E\n",
       "FSvaWRR+AAOktvq0WEdYxlWb3omefFmdVTezfjPo4DSlELdlLHFYFpmQa6sBGPcEoq9r5gJMTlz5\n",
       "DmAiuKxipSovRKhXU91L24Ri6H9mrhCafqbII7CVrYxkNd6PxXhZZ9/UxZTGp/4a2tMy/66wxJpY\n",
       "2I95hJQaZwDSq66332GZE9y9R7is0XqpNd4rH5XYin8xs9JPTb4g1kh43RBWc6guFywMuixZjRJ7\n",
       "mAKo+TbcICmj1FTgEx0UL9kLi5WSP90SEcAAuD88zCzfTUIFYaMAh1loLDnhnJEy60RRpHlMZnVU\n",
       "+iD2CxOzsleSgRwT4qPm0Ed6+vYlted96LxCbaGxt2KH7Q/IltmAhIObuwT8F51cUp6vnx0GhNjD\n",
       "9gb0gOmLy+ZrL9kMbbm24wAjQyJCdJA9JJPpGN9ao3Nl5CU613IkdJLPNc4Pld+L15X7euN/fxrI\n",
       "UycdcJx7ffCEAMi1dJACvqJ//3QUvIJQbHhZThg+Mu6ukVp7endrZ3VNNVRS95L43nUl5Hc9uGhc\n",
       "8vZKo0z1f7aySh/P3z6qcFN3GD6pPyDKapEehJBf+XiJ2NzXzrmoreEX1zv4qT8anrL2mBRCqDhO\n",
       "AfVATR1pSmbJlBaheHjJsjyZsCKYKzjCGAHkm70U2+2Fcsnb1q8ZsW+Z4KfE0s28SyprOSMbr3eq\n",
       "CfCJ6xK/T0Q+aRJje1qbEfc2axDF+TALiv7WdzuDr0joP75Ix94f7B0fdk2+ozqSyEooe5TrP+1m\n",
       "jP0qbsHfAbqKgJrRnVtw3OT07a4+SBu+wV0HrGbW2HNsHjJfheo+cJPEQwAuHF2Tzj0tW4cnEibE\n",
       "GETz4D+QYQ3ZI+9LiKJXQTm9twc6c2W/CKtZByWkiYdZOqB+moe0Ht+sgAkgZkKWLxndWMajRr01\n",
       "cQ/8MIu1WZIjVz6V1BfeMSb/qJa2URSjHkk+yEijjW4LRhmcVl7521oRSCzhjvxLI+p9Cb1Wy336\n",
       "qbW/fondwgllIMDXoPq3wN5PaCIQCHBHLaPJ7u/+KmCckTsJCMtJ2TqvN2GjK+O0oAKD7c1A3Ho1\n",
       "6ZCztGYtLLXumMR7gOUrK/FPZumr15KfM21Z7cBmbE8+IkaEpMUbyok9aT0EygecZmpbbIKz1cWO\n",
       "ZUD7PyjfYdrrBNo/ZWJkjTdVnnqlVSvTz2F/mBoqSFG4IE3zM2LdaumBBHZfIFYy+R/Vm7KL0QEX\n",
       "0OTdvAELPxWDxoTt2/HBhHOr3txZ0ZQ9NAgBenTSgUmYPnjHnE6oCXMe0ke5gAibINAjqlOYe9YD\n",
       "ZEo36uwO/v5NpuyAACBk7XImfSfZ3gfP4Z2nNTHH6NnUet/VpFY+eTR3zImsSigzntH1d97w4Os8\n",
       "dawaTHv/rGCmbU9nlbBCutHfBI2nyZoupCxxtWxaTfVnxYE1Tq7iJnTG6gf1Xx9CrTqnHs2Ag8l8\n",
       "Nap1+isguMXww9R02zkZT5YjjFIZyqBKQk5gHjeWoCcQCzqH3odvKK3IbiTu8TH1FfeRW4irz2EH\n",
       "swKDrqSB+bQ2Dsmb5/Th4S5MRZdFWLwCJCsDu5u/EksnZ1NrZO26pGxXmSejSTR+CTac6XWkor9q\n",
       "nKNGk+hfGX8Aj/Ol+iVAuSsOypZZf5YAjKDiqbD0PDWMOZQ3lpOZMl+WPrFXCx6g6BpCFm7p6XWU\n",
       "QeRY7DzazCPl99cLGf0zK1E5LVhg3RMKpjbmLI8SZHydv2lBgVUnQ8xVMLkpCCBznEZWkGXFZrLO\n",
       "Y+LYEnL7p9QqW+GGUywFahKJbhcPZcklnnXjF3xvy2GnAiPga6N5jobx7Uth6mcHNHsF70X+ppam\n",
       "epO8/krScfo1iHm3fv/J7onQUFl80pm5Ig7mhUvZQd9v78bWQLe32NmUtzaZTOpmxuPZXdaOPioe\n",
       "9+YWCI6RFl16hHTs/KIx2T/g5CN5Gly+TAeQwe+TSq/8heIHeRjqFhja5FrD72+VgP+tfKKfYQ2U\n",
       "gEMqiyo1mR9Q+G4eK7JCoHAzEZF0xyBKdeBqg7NwnvMHt/g1OaeX2uFMMrB5cKNEFiB58L01+7IE\n",
       "0w79J+mG1D011EmGF3AHJgP5keSfKN0Hb+htaRJGISQu/uNizz1uMyKpALyf2OLR6J+Vbt2P/8KP\n",
       "4HZOJiZrCBLGBQjem0ZHU31p2TCKw/xh7Zv9VdlQr8qdGjrGQYVMyXybxOM+z79HM76VX2jb6pkv\n",
       "BgtUeFDvuqs0BKsG9QedkR68wtp0Y7wxMYnR2q0VrzUHyET/UKUfxz9foODhh2EIQSWmnmcP6u0+\n",
       "OcHX8FHzUsuxo961Rlwfxdem99+6OACCSRWASUnjjyK6x0lPiXM++Dxxf15yx8EBZFzYwZVhpvu/\n",
       "aqLgi+WUbAVvHoFJusAABxUOyDzd/SYTQVCWXUZu9XRJ4e5vd+KpIbin/kj2Tpe7Hhpvusr/6YPQ\n",
       "luvxiMiDf1qhbGM+0N0pHoJRbBOPMzWLNCEN8DzfnlXxqziv3oRmWbeqZezhLS7wyCbUt2sFgGbH\n",
       "IBs1fYolf8SGW8+mBMs6noKnbzULo7WYpL81MqKx0qziCXp8tAXmjRclkGMAqif5bhqKQ0b/cgYr\n",
       "SiflYO4XvMIgmF9RBaoDadgZhqJN0yPyzzlQNTbQZPJ8G39KTt5vKNx9wjFMYbnn93DsDj3FUYiW\n",
       "AOEqMsQC/vQE8/TmmkYvM7aBbRyBnaVYMNLui2GWN1KaW4PNLAue3mlExL+yUKiUVtslN/caChPk\n",
       "7spqP0m9QADaBQUNPrWV1Mk/c2qB3a6qJTccJ5TM3swvkWvz7b5ekqU9xfU6s8Sua5pTSeaElXyG\n",
       "Zh+cKM0eTg4I6Akm6B6FUeFRv611vskL667FYGaBIAZYfCyI29/41legTULY+yOTN3nHNGjvhjJ5\n",
       "sU03vfGNF+HXfyZtq3Glr7j0jdS3j1sEzKBMtaXhB35H4KkzgV+DE6Vz77yQm0n5a489RGWy6neF\n",
       "tAgYQ2Uco5DZWW8dF4xo5kGpIa0HkT7PfF3POo/2pXHXhfwcrhVRmmtGnNfuzbQfIJFl9UjLUYwO\n",
       "wDrnr3RGjaTCTpfebx/T8k2gKQdBvWTu6DH/RGFnIYWCwUksWxNW6QCEN6BLu+EwSBh9Ew5Tk7e9\n",
       "skNyAuTkE7u76sO1YOfF4o22uDNr0jy+go3uVVtj2GlckWO3FuC/ArAlIcEBkoQAT+EzZ1XDU9aQ\n",
       "q7cdvhiDlLCivzzydCsMrjjSp0uygPWunLrU3HvETfV5lw+grAIrluhsoMQwAumYrsEvOTOyaD0d\n",
       "oAAAEZnHB3pviTyKGKsmOhqM/XAMH1LNdURVGnHCEdXxr87h3NyhI7/QKUFXfNHYqHxHwrk+yPie\n",
       "cUVb5gqT0n7xjv/+BqwuUhs1qfndx6rhc55nyhkK9meJsZuQ8bGu/HLQGs4Xl2zutG53tfgbhDY9\n",
       "+Swg+vT3XTTKDf5u/cQaLUxv8DU8xDQa9V1axsQsEE0bGevWo7NfzsIFuh5uIYdT/u3jlOGxUqgd\n",
       "sy3bYz2KmOY9jEBo17owCm/m95lt0fGMwc9Pd5FLHtLjh5mrpOPP9RShxct3a4w+bqSQbnGPCRz0\n",
       "BHBkY+b2NQueXo+eCCSKmWdBAPS1bjyLaeGLWKjUpb3lCoo6ily6Gx0Df85oUePfxO99B0IfSMZA\n",
       "prMcZgmN7wYAAyS4y4Q2qK2bWVnuxkn7lZddMxu34KFpdFf1MDVIsGj3V96gbrTWh8mKooIDIrvj\n",
       "zfdfVmeDWfLsStmFglse79icBY/RHtBkI0/1OXgE3y8Ji5fNkASoy0BvGPaMN/3wNrZR2yaVBuru\n",
       "0KpBR9eRRvsVthEiibC9GHNaiR3eUWmeObzKPDDr1eCGw1088yjWQ3wl5UbdP2SVfOpcUae7vZvy\n",
       "Kz/1IzFSJOJAETLszmUCI5W2izNxRZmWI3TRHw5e+VyRA4X9YKGBmUUXa1H0AdJZLTR23qUAKAxW\n",
       "xezSCbV75DVfP6L2BQNgAATYoOz3MSBG/V5EQaXWl+05Z7i59s3c0bQTo/v3PG4COM8Sgxy3x4be\n",
       "kAT/j4qMk2uHtxHGjXBzVlvuyfHzcJ+WIV01cXnlOYg34E1AAABTyBIINJZQpjQrXUItU+yhJ9l/\n",
       "fQI4t2SCx6cOEsIiw2Wx4B2OWQF/b2YWrs/SndHd5v3pBOKyWj8BJw9vsQrIoFK3wpQ6oOqXc1b8\n",
       "lqymF+3g3zIU5YpLpNDn2tyMFiiIGS49+1C4K+HVMnzJXga3O4dZENiI7b7sRad0qmHWzRJK/05T\n",
       "/ovpl3qDP2AAX5UKKDtwyWu0f49dux54DekUsUvQIDTIV7/RB1+9gUtdN+NAgFsqBj78zuwnlclZ\n",
       "LCtdrEkHkyzCl7ghjXWueDFor9iVMr5d+w/rTrRF6aYbEEkmticqsrlkIJLJx5fmkULuM8vETzuw\n",
       "yULsDWdHEzeZCqJvzbj7kCSP2By8e1/+bKTr7pKqzk1XTgUgg1rGc0JSU5mbWglHRSIgDKRD9n5I\n",
       "A5Bur/fCwAAolMYTt1eAeZk/2oAAGrEAAAcdQZokbEEf/rUqgAAu49iwL/0/kEf2trQo8jO7kAAA\n",
       "AwOimZ31I3OkQbSdsr1yQSnu8Z08HV/BudxhSx6tUV+lOvv1xIh6+4gfctzs2VMk8O6xZ4ZAQEDW\n",
       "XXdxFT3mgCW1mPOjueempY5qISKWKfrnXGpD9efcusNyocaYUTej/gcu4zPHfKurNuzvPriLcA0e\n",
       "15xd7OylD5Dixv+iBYa3Jb6bGnEF46fgqjhnvOvIOWSqdisnZ51E0FqhFt/wRQ5kTptt3kdkNT+r\n",
       "NNuUF1/y8f6CwnObI4Qb+RyVy3nlSuyyRdWVFprJNUFOJ1auQLk0OYmhOZAHT5HG36yy1vmOabWM\n",
       "dVW+BqLcTNL+wqyrzrSzlrzEgOkyQsswwQ2khSSpNxF14O4M4uvKt3oYf4PZ+6bviKCZksdbBmEy\n",
       "7rAJ12fVKF680Zhp+BNvkY0PzWA6B9eUDU7maV8VPPclWZVfJuCSrF4Um9Anp/W2nvonl0rG7r1j\n",
       "xKGpTeKkd+xPIG9btYaZbIFLHR9fOltsKH4wdn+A/4wtyc4mVhSt0jCrUWRvMkAowX/aBYfOiKtK\n",
       "B81BVLofm4UKgF9tEEYXK+cINtUCwt2igFgScTMMUTchB7Gs6kU1rRkl5ZuvxD/vsU3QXu2BogZ1\n",
       "iHp618kEQqQ51EufBV6ibexPcKnRiHQ9hXjf1cB5SJAKkG08mR1A6w25YK6Lr5bJwBKwUgkZ8A5u\n",
       "3elFxc8y1hGNB373n/naY9egr0PrivrvdnzyV2wJx3W6KQBQMOKEiMyp27UJQS4/f2/yOFpo7GbS\n",
       "Xa7ptJLpb25JJQotnA5djUrLBWbWzEXjWUzkMganl7cJK7N+cokQUGVwc0pOA/1laZhwiz+25gTv\n",
       "TnGVDiSHyc5tGy4a665OV0nKTuy1TEUvA75CO/k1E/BiqF3I9Xqoxc1CWSRikpg/j2/XY6cd49ub\n",
       "nyX/2tdnkeqROw2jYfhpsbgf+MjHJDoG1YmfgYM/JfEz/J+5r15ieCHe5X40r34fkFcSUPv16VzJ\n",
       "TMu73f4PA4E16TX3SOQ6tUH2iBRoKauAAn9mo8sfm2WfbfEk6vtdkob+xNCxF5PSU56DnzHAEE1D\n",
       "9/0Y68N6eLRgwqFuyldxvk62eHvDMdOVhPtWnKdHIvS0qlPjeyFq4CzFRSzxykv5ZeTcg1MYn4Ah\n",
       "tmlaqzwopc5aQ1dv1ixuLckSaBu4DDLHLRxnof2sxxUkN917mx2zvktumkuNFBhUOlXFZRCi556e\n",
       "x6fEBPO9MSyySrwpqYbaKhR8SjOyXRGoD0SFtEVhZ2Osg/W/64x+woNtYbVdNPTpfhHdT/Yz64xa\n",
       "S8/WBxx3Hk9LAwrq/Ay0Je0924qpLbhXpuH/wFWbsjr6ABHBk34W3lEBx6Z690TI1Sk9PiTSOGGw\n",
       "oJh/Vg2I/56lOH34Ep7KrtIE4oJQER8zSQUmdWv83QzWGTVPVXYkDvoQDNTSub1Io3vSP8MNeM64\n",
       "3TTyGfZ178yddEdI4aTMSI7/+35APt7zQsLtj0Kvno0VTtMNRCLb5fFLHZD+9zYMA1L57MytXE2O\n",
       "uNbFhONmc16ymgWqlgboiDRjPu230mvAXramieNrzTuihqyjU7cXhd68adJYFeajUQFeIoh32ljB\n",
       "dLPkkdjD6GzYRapo1oxdaS/GO+9yp4c9PzepojXCL9IBOKiaAFKIgJDMhd/MMluGlxGpvK7LFVdr\n",
       "mT4bnRD29mVUjaPqN7l5yfxyG2PsaRSMqVi9Rj3//SmjQUaYISpnp7oYF7SycXabmZJEDZhtzuFa\n",
       "6ICgxDOazuSnHRpGR9lDaSjNS41NlEKmpi5zMv9fT0pGiZuSrlksxSO2FC1eBIOvTp/4o/SZ3IYb\n",
       "h/1h0ZjCHMrCNqUjoY6DYWLH4MXsE63ZOIISa8uhrm4rzWf8j0V8gbgsdx9Cn3tdrMN/kBtXx1P2\n",
       "lfeqUVAyUqD74hbr+rs1hvQ2Cq/pJ3aYgKRpMq8/PEwaK/oxztcoixfF5lZsVTWRWhFxaL37nX+Y\n",
       "0FvAJ3C1bgs6XZVlzOB1vOjDJrfgz5xlBD7U1Bv4VfM5RAaA4zf7mpeAkAxmMWKqMkFOwjQ5A7hE\n",
       "Q/OlYhZICgMjLfBYcMld3d80/gxrUkAzDUVW4MvNl1cqdaBR36ZmDL1NP2S563X4lMCWJ+bIDFuC\n",
       "rLWoPr7BpbkFb4hoNIVQbrGf8kQIqRkcuLMqEFS2ujHL8W6a5Hidxehh//Vsg5FezlBtMlLSq78V\n",
       "h3s+hLGJrH6PwWS8opel3dMr2KZa47RGK8cOp31ROLvbWlYSxHmx5njYjAFHv7TfQuzglrxQBqMQ\n",
       "AizjNRaIaNrYtRcvkg3I64Y9IX+v7vK8kwXKLLGOTUMg7OsC2e0K8WuSIocPTT5gCCFRxOstYa+r\n",
       "ttrbUln47v6PaO0SzKrvk4caZfPeAETAAAAA7kGeQniHfwAABqDqR6IfD5skAUQ/7VsVSYpvpq8t\n",
       "HI1c6OGQj7FoAcEMvIDzf97791IxX8oVkgUTW9ft8lasOD1Gy6IClZbdi+tKwwJe8p8GAI2b532C\n",
       "0UGPJO2r8ooUswTOkUHZmOouDd/agIk+Ysx7Z8x/+8eTfrIoKSIy/FeOf1IGP0Bxmm+Cx3G4e7NM\n",
       "R5XX1Cn/5tU4FkhP8gLics2KBfmUpH734BRhcjj87TcolHY6t+UdatVuOj5GND+bu1YKk0CgrBmm\n",
       "NAsk2n9Yameuwc/8HgTok70BXAmcVvKENvSHxTdSUobaoj4gBL0AAAEIAZ5hdEN/AAAHmBo+VumQ\n",
       "mAHA8EpW/7337qRiv5QDCQNKIGUCpfYf4e6Ur1LwfkJfnKuQM2IH4CsMYPU4gEOoC0fG/G7mSFt4\n",
       "/UGll827LRivhpl5RvKKDgSrVaC5FwADnRiJUdK7IJC8f43xmHwiHTc7pMoOWd9vga4v56TiVaDx\n",
       "F7KUDdh8b7fU5YGDq5AAcDLooVznujwy0pQI1sKY95IgP0YFQwLLxts+s3BA63QW2CDwhzsFINNY\n",
       "VPPePQd2Y4jRWeHO9+EUOllWbJuvIMsf6pAXjfWvCbSAh8kUySVw2vCrdedmqZfFKvJQSz5xM80F\n",
       "pTnoWuPtpepLm2B47ibasgG6ZCTgAAACKgGeY2pDfwAACW16Ac56l8m/0/nqpGbwiwgvpi4NmRP7\n",
       "uAFvO76Xb8JzmEgd4tOiNNZ+qr4ZltssQNA+lwciuNb6gQsoxFL/i8UEJW2oHSar7HfAUYRutyLT\n",
       "cuMBtBmeVU++gJwXMmCPve9JqVMYTcXdvwzk0ELYmhR6zFldINFbq4+vY3jIsknheeCgQEuhRmoX\n",
       "bucInIM0auaMUkE6GwgPfPfOiOmpkl6vLYfEylsY2S1KP5+xdSIuvsBiq7QYIKg38dl/hP+FkYmP\n",
       "6pnTzenunm6ga0JdvjVJDINSWyUgPZo/37HU0wqOpA9O5uEj5ahVrUiy/cT6riEObkh6EPSAQNKw\n",
       "LZkLGIQ5evRWpPBWPxSTi+BuWlbezJz2tqcZ3uTE4lnB+Y+K2lOewFp4Wj5xTjJKH613XvFS3NV+\n",
       "IguwePXVutxZRlDVG5wP36cwJcCkYnLuIavtwr6Vl3LSs9aHaG3ItfBfmO3g6JFV3hQeEsnqr4vi\n",
       "MQFD20lO5rQ0j+PesiQ85AMv7R+kYMr4sewF8DeEsJQl0kfiFFj0JhMLbLBwM1/DCISzPnRvl4mF\n",
       "vGt2L7FqyMxe49DRmgTF9ueM2j9hWc9vx1TtiTq7EBuLDOmjrRcOYH4IU5FpBU0GuwEWMvjk80gG\n",
       "YenHAml5H+cKkwpwnCxTz++mL9z/wsrwEaIhHiRm0Jzua/n9DWbiq2+THQF7ABJ5spHrk+PD/XFT\n",
       "CdfYpI/QEDehAAALckGaaEmoQWiZTAgj//61KoAAKCTV6Ae0BFqwn7a5RCtVf+1Kl9PKOSwdmuBK\n",
       "NK4Xe1XgVOVONwPkIyDLGGZ6m0kQCGraQfojF+9HQyG16xq9u/89vKLoHlHFTjrqAWD/4LLrmzU1\n",
       "UIq9a7UWzQquYAGaxGE3mBf2TK7fheWDqVicLHKXTtABvGaQ+e+DtA2+4UUjQxf/x/B2ocJOO6SC\n",
       "xvIgs/JMCDe1VYfITPm+/e7Ww4HUJVkj33IAII2n2RKBpflUg/vPR8usHZjrWq5x8Wwf/0JCVp+Y\n",
       "V/SkU7H7jy+9TWj0yFr34XhRs9gNhq9QfMfYd/uluVmfboaN6gm8/WP5GsGYebHIan3c+vQILvge\n",
       "MMRJxYLqNiV7crGZtXLVDuF/ZBO6sRwT8yM+tlgKy3hVRfaI72TA7mo8soNpwQqxpatogpg5DsjC\n",
       "QyZQJN49OldsvEJZrTg1OK83VhnnDs3h7ogoCEQ9ztq7zE4NVhXWV+uO/RETAlo1C2HJGVfFUgad\n",
       "5NHvNp1n/AkXvNdoc2uH1fWCGEm8TQQaUETCMTQ7V/sX3Mn9OWSVn4Iz3OdpT0buZZW/GZ5L467a\n",
       "2GFwqrYwOrienT7MZfd4VyGojY6gQG1mk+fC5ilKTffiON4S8GHYgnnUgN1zXqYKEDnUVnTYuw74\n",
       "nrLuz/EdFJlVktOu7ALFRC1xY33anTF74O//n6iVXK33iOiuyTD4R6sOfDFg+kAhhpPf56FscdB7\n",
       "j1vHAOFpaVJCCHowgQ4hDlutvdhMhZZaAA/sUETRhq9/Lob+7pP8nzCx/OHVswJK4Hk7lldxXWT3\n",
       "NBqdj5F3yNumiTsdFH8vJ4M3eMYYeeIrGRgRCjFCShqaVFp0/F0Eknl2SF/ui+8cjULnfaLRTE09\n",
       "w+2Oas0SDlvE0vLGqekL+khItVuQHkpoBVIGqFE5EbKvwVA/KirlgXEIq7W+jnzPagdxOGQBrOke\n",
       "SyWfEv5iAsxQjaKP0lVbZG7bxxmT7FBXpuJFYSUumWWrxQFZFisdRRnLGoWYWGVac8bjJ6xNjQP/\n",
       "R4yOe1mOdO/jVCPkNmiF24raLSWPDLXL9c7I/QsfzY28vZ5YOxbUL7OGy3euVov+8g4Jh5efaBce\n",
       "U2OyjuPB6eIdM67g6JeUwLQupDeX+FMd19u4FG2icY1x6RAzxksIwteDmN0nRSqDo8BuP1hrYy+b\n",
       "v2P+Q1usGIZ1yD+cTiCxq5v9coF6ONovpmzScPaHOSF3bFaXTwrLBWXVgdoFylY9krX291nc9/sZ\n",
       "Z2yyAK0bM51cMo1RFO+7rBIdJfZuM31IMPli4TG/eqJpT3ieaZY3ImnjeP0uUyjg3Zj5bxrVSC2u\n",
       "hTpxWYRaz6//6P9tIcf/3B6D1M2+CdKjnfDKMGYu7r1KV/lC/KiLWIyw6QMuOSUfjiKcIinH/kNp\n",
       "CENd5fx/puU94xEirAU7f31n+Iek8mnuyxUj6jAxrTnYir9N8Le3Ju3wWQv+l7iaT2xa/zbEhlxr\n",
       "IlvQWHN22tFEUjULobJp62anItpq20Tic8aVprnoZa86nF2Jn4rEqCA4S1aSt5Y/RlkVweL4V/NF\n",
       "JgpWxiOIuc2ATu1BfH+AHxNBvagRmqq9BTzT7tYOiTMvSsRG4YDJ5Eiwl6OCYPWAiquN2wP7m1jg\n",
       "eXrwZtds92u8RxsMaI3q17W3QCF24VoYbp+idI41S0ChENt6Mo3SdyYYOHl0Wvl5flNoYdXjZcUw\n",
       "AHkUkjy92v1s8juAQ/BZs3j3abSVQxxa44R61a5UEoGz5AMfdFMk9foRF9Jul6A2hhAbuU0w6OWK\n",
       "9I58lFcubTIdG4BwJGyTjadd7FuSnNCnNU1Gjw3FvFQelL8WtvVfOLtw3qlkPNTi/9ddYgF/A0C1\n",
       "igjV3VcG8wmAC6oiyp46MtkoMDi8telllvRXKiITrEXc+EfnnJxek5o7w5lGSey69+DJuzGOWOwg\n",
       "Z4nTlA3Gi0FYy0ebAcf4OuCeH2sv+Xhw7uYIE7Yd4yGv72QZVnIkV1eebgHZhs5sNKSVhdDScNrV\n",
       "VEEyiOX3x/2pIrojeRnPvL/U+c4ou4FECZzTBNkbDBjX+C6XRyXsTMEg76tY9Tdyeakh3sCTtrfI\n",
       "xD3+heub7qsHEzViDAfXyoiR1xxFhNKrLPyK77cArx0wuaH5kUMnHO/Z3LdgTVEhJZJfEfvQcVh4\n",
       "egjVzzFpCFLsd/Q0zHDIHpewa87H5JfcR8ulJuGYH5nQRl/L/YdVxz1YIMB4Wg4Azv6fIT85rS0R\n",
       "/FHOtbOJGnO+JVrVE9uLgVCe+6mPTX/jGui3afPACx3Ar+oPxs4ZUmLJjsHgQCDbRNNkaejaL++q\n",
       "OLMkPEShyE6dkyrjb/ddlN5Hltm3113xkLuJu+uxbV8esdm0PXm5XFRtm1nsWUMa+Hvp+HKkb2yp\n",
       "fFLjNDSYQ3//1Ev3I6+Af752WDPlS5JxV5ggcOCxLABUUPBuOsFzZJDFewKcM2fUROrUZyhr8nUe\n",
       "p2kDdNjkqWYXJDEhf8FH7U0yrUVvopSpjHMPNTa7DbSvPsMcRcm1a4R7o7SfsG06lOGIJ1E9u8er\n",
       "dLs9S/2Rf6j0m0Mr+dy3u7beJ8mbzDABD0xDErD/qVc8H0MiN92v759uIn+wGqUQMKNcF1CUKQmj\n",
       "Paqp7i9ySs4vJS3/ZbafAAZsd6DKlV9b9Dy9UIMt7NoFJusQ16z7qTZM0F7PwLgaa/l8P0XMljMA\n",
       "rGp6T+lF41E88GJ3hjQJ5t/ZRLnWzgOwIoFaGFzrNh6tMOP7O/UU1zryYFYLkDXB/a2nWhx+OFA4\n",
       "urAqppkv2+kJifyQR5ODtzvs5/s8j451RWOXJnf1iZ9YzFlmD8M6nTWYDaNaNLUQoEZOba6tgVLh\n",
       "eIQhZlyioglrYu9trdEB2XcnCvpTRBS2ZblEqvcwavNvHX/Lv8cDoCorcthSrS5hrjp/M6E5iptW\n",
       "YQxnl9q8tH3IxClQUmVToq6XVkMb+1LH7RRbjV1OJvJ32VKRvUq0Qwte6nZw8HTrJybKswW0RkRJ\n",
       "A+G3VElk9Iqe72iQBZV5UwvwseCbkLEvBbA3FfOhm0279ZuCMBN5q163U2MYQuL/VVDbS2lBeAbP\n",
       "eHLDaE9wX+56EuNuoYrU/jBs7bRf5mwOunQHgEuaxvzQQ0tCXYLX0uDyhpTZNH5aIpbtChMc4Vi2\n",
       "kXOBdiowy8FxO64dgk8SHPVmb3mh5aJVsf0hRM0XNVB1mW1ZsNbDwt/FF1NhzWClXNB7CgdaLOoV\n",
       "440oM7szpJcQA/alBQ6F/9NizTrrzq9dKIpQB5fCmHAJsP2+P3XywX45nyqakOjnj5LyxFP7WF4q\n",
       "wGVI7T36B2LpesIpHv1a9fcEkrFcm41KGlvEJh3F4jZFeaigPoKzU8vE07/7ZdYn9Xp0o/gS3n3j\n",
       "QCEbfwkMNsgSaQidv+A2YJROvs5kAfZrWwU7EjqNbs4jLaMQ5QZo9JwpKzKxBAGcC5Zfr1sqbB8B\n",
       "KgSs9IqRGiOjd5HRQiWam4CFln9663TcM3KXhk+UdMD0B8sbwAwgQ9/60EuGNBXhwPYSr4idRZc7\n",
       "gzzEV/2kR6FgTjDfbG/Q18CuzR8Pf0W7OrY7OuhvVAle2NAY8Z4ouH5FnXPflmIY8pwtOSVsNsBo\n",
       "UvqBnfhZodN1Bdq9jFi5QhwzNN0zRnw/n40aFghE12363+68zzJsXBhayzY6i5jXGryrGqjfJnxr\n",
       "mVOJS2wEFbloPGiUEPhFOJQdh4oK3f89FODKCX57Zqv8gw9grg9JkEDY815aet5WhPc8KZ7Msv5s\n",
       "8aD1qvz0/vSxWd5cX3MGzLX0qc8t8EnJ4CTVReQWS8Eo7hWCaBnMHph1mW5zM9fUhRDN/qrlhdPP\n",
       "254MeCTf585zkQ+4KZQva9IcR9j0RYaP1f92IryT04AQQA2ZAAABrUGehkURLDv/AACMOSbeT/Fw\n",
       "zW3Wy61ec22oXODmXYkIwA3QzhkgnLozz9swkrUdyxCyvW7rBPvRhn9XQly06WRxBpIH27Oaog+G\n",
       "1crMbovpl0wPPEHYFhDRw2V/O/mD1tIABY0OSuIpmKdzwQnicKf1//ENxTo7MUs+C9KB4QYxG0Jw\n",
       "qOILMMs45MR9umxdHVdNflNNC8h51XASLoEHQW/Eubn36dkCNEBppMDKdG9Jwf27cJSH5te4B1k3\n",
       "y2lWU+jpGrkDeel7RtVZ4pYt2+tfRVTwb4fE8Rc9YMSHO6ThIggktLtjoJ+xAqF7wy9LloaSx6fu\n",
       "g7+i2kBq8+5FbCWZ3fS0IZgkQlZZY05aGHayslEenDf0QWcsJoJPvI0xzuwJ+wDa0/D+thhyT/6S\n",
       "fpYahlw5ivqOXOSmKWrErusUemE0Wl2zHYeypLlmIEATMzBmpkXNT7l/Fs4N0OtL6wxcp/eDAucA\n",
       "T4Cq84cDLf8kAZXEIm+hn5kcmSm/ZhTSAMXYVXHToqx+DTEFKwTOznfLZ3aGNbiNfHGNTjDubs1V\n",
       "mpbZl2kOOuiXxAACbwAAAS8BnqV0Q38AAM6M+IAaGhcodN9//6yHzOCMfV5Gtz3ZM+hptHQ2vLik\n",
       "kzUJburi726SFuMnX2r/aQucb9zDheLDzgyPe3DyqklUdmeSMHzwOtqxef5EPLpuEXNXQRdu4DA6\n",
       "vX1Df/WHh2PBncLFk1HSsovRQ0UYe88DBGXYjSRYYhPjmic8q7jYOlq9uBv133oji/eIrsIuIdOB\n",
       "zzbv2kvsXixSt00yZkxpTd5FfXJm2WF/BHEGYB80n9mF1dml7LLeZWwBLmghdMSRTdKoFFb8YAAc\n",
       "IZn7QgR7erHnHS/DjuF5azLIKDhBobznoQLXTjwAzb2yKiPR7JOntp0Kdv+m1/+ptRVO5wokwjA+\n",
       "tdsupL51RdXRpMt1UTScxLF1FTUc+Vog5ZJ9N2O1baIAAcEAAAHeAZ6nakN/AAAM4XSYgrvdNOGB\n",
       "kXsqGY4HaGuynjvVK+cAOPKLBvXf4/D9T5IZg4IlUjJmpun/D+FHIimsXh9bX6qWk3uiOQ0velmX\n",
       "fXBs93UYITBoXhT2qJTXQIu7c34R6QlQBTonQT7bvTgzYsjA+uJ/WmVKR9mmPskOZ3QXeOGkd9+7\n",
       "1NoNx0s9i61NDlARWJydBtQSD9BcgYOKyGyuD1hLTPnHj0x79c91jqluSTR8xpYrhbT/3znvWaWy\n",
       "cT+VQRjRq7AdbIdkJZ2rMM5g0BVbD5ZLnkf99BBVOJuhSy0uVvGz8OyLd3xT1XuUXL3qeDPQnsxM\n",
       "zHHiQVw/9ifYe7aZPoXB9kyARndQW90FBQzKHJ8UQMIrDXHTL314H9KbjCLKoo3vaH2eqvL1s24W\n",
       "+RhbQNm+yuDEjEpFrGmZkybK8gEBAMe3s+04JklcnOcbMnsbFTjdiTPB232mj0lFNwIgehhmO7fi\n",
       "Peq+BOV4t5TEHpcjrFJJkP/+nNnj2/2/LhNC4xIA4+uh/LjxhpS0ed7w6pxH14M+3I3znqemYgcY\n",
       "f1ujplkwHPsxCAP8n+e3znA5K36SpaYiIZEJUJlMEisr6ELwpFBpYPGHkS40gzJggyeeoJ1lBvjl\n",
       "YAAN6AAACd9BmqxJqEFsmUwII//+tSqAAAJQeenlmiAMoagV4HMKbAnRwyHZGaCPElPoiGM8edTZ\n",
       "KIMzaWMteJgoDoVejKM3tBlU8pftmzFRHMF8hkfY8aFfYhMG4z+hjrfMVQ9uZX2i7pkOA1DPs1OD\n",
       "m0ra//B039TTAdLkcTLZXFjnS2of0v5sHiQAgQ6gWFBDZJ2flWur9yS7ZwyKihIjSR+p2+u2kY3u\n",
       "QjZnyGb3xNLENUTMMLQbnpffw+PpwgDC1kbT1EaffoTVl7BI5mmga1VmlZhyLEXGilslhTnJC6Mi\n",
       "AABKfy7MUe0C2KQjvhGG1jwfxchR2HIuaSCyOn+O1m3ZVlQnLY+ENp11LgUR+Zk9wukd9s9sh06h\n",
       "2uisMPKDXj2wEGSAfTOqWBmzyZFosvFkQqSun+qehyeg84Mvg39H8xcH8YIgG7c83MtdDDm4ZRxW\n",
       "2r0/Y1vOQeKOu2LYgG0vQftpMY1+fzKnofWI6+jKLfDMPuspYjKLrGsq2HpbMcmSYdcLjDHP6Tnj\n",
       "6wd1jHxdBlb3PONQBeKbbu3n2OCjXqx4+bq7PHSO8Sm46HFgPoz1FeYmvEzwmm5TepLhABCPVfQv\n",
       "4D13z+oqn9xEbpL+zN91yzvmvN7F2pWPGmPUVE++b5tVmV/9xLzC81sLGHPm/oz56an8sBTxZ9uJ\n",
       "6C+hakxaNLvWTY4SLfo9ACvlX1e0l36Q4liZyFEkgDiWpnJUw3ACaeovlNc7lLfhl5HitMns7g0R\n",
       "h3+b7p0Z5fvsZDObDOTrbG2fujCJ8C79QxJUeKSyDCImsrHK3p2L2Csw1vNKy5nBMSXKoC8e+OW7\n",
       "cWKQGbQFJF8Iz2c0m0diHNh7wDkz3W1MAG+/rM1Q0mpfQotQ/fpeSP4mnEefsMD2XTJux462UAU/\n",
       "MtEZuc9vcxCyNDfOF3EuHjSyELKFDtAdAlJVoIrgiIE7SP9n0Rkw2ztYBqro3PExffFz84uEI0/R\n",
       "yjHHUAglInc8sGICA5IkSrPWd8ucJEHgaGKPcE/WHzqSv4JwnIjcTUF8e1J108xh6AIIvLCmxcfh\n",
       "SiNh+BMx5QHvPK/pK7avCtws8yslGp0Mht2guzRrnmgs3PPAWu2tRyZfayt+D6lEdrriRbvxIkQF\n",
       "v70ypC9A6gv+JIaCXuvwoOUHQsyF766KcY6nfQ9EhWtIXJDE55WBj4ERnHImUc7PoBWDWYVCcykq\n",
       "7yjSCwQR2KBMFX9bdiVUSjOEyq0159xf6Zq48yHwAK7NVSv8dPOn/AA8gf2aWEPpjEIKCYZzwX8L\n",
       "ng6cjVT6Pvn2a29cbKWVjfjJjlDVkk51X41tTFt6xWIrA8bRPH0fDsRtVp8s5FoccmeK6grB0UDy\n",
       "zyPbJAkkI0YCK13HwU3fw9nA7xOYs7nnB8BekuNBEqYNbbtGiNrRNUfGjdtAmye6ZV8gL/9DCZwt\n",
       "Jf9gafm8JMWRWTrdalHFtfQM1hwn5Qe9Eb7iHoH8tMgdUYYDMNS7Zrk0qZuXSPzGwhxSJUB2Bt8I\n",
       "PfC6qBfoLeZNCR6x+/HPXu42i35ZdDoIU9bu5i0JnJtRrNR6vigfUtaQY0IxjYk5qGyLNiVxlVaB\n",
       "zn1XPPPxncOP05iHV4DMNC/40Hx/aISsWj3GQB4wv9BgvfLsyYFcesko48hpBUW/QDvEMuRWFlws\n",
       "L83CZDKlDLig4cSVX0b7aAUfacOtYI+H9Pj9b3qjnWX07YBc7iH78U+6crJ9PEab+HoenSz/PHTa\n",
       "FRczNlPdFm4P0ewytglnuoTOmVG+1ZAw8D2rie+UWiI6D5Q/5aAh3cdwMykzyTT2Hjx0ETaKxzrl\n",
       "t1fPRcCBctaqxxQDumIvnCdmPcvcYBaERfhuFFGNDGofBAexATgDiNePa52JdFED8ywbWcsUnJwQ\n",
       "Vjj/nbEzyY8tOY4sv6yL4P31mOLwAX8c2MxwUfuPcxsBxSJi90vnJfJfZ1AR42YMK0bTa1dmQKYp\n",
       "n+E/Db+jMS9Lt4zIVbe/ACWr8JrPmfNnHxj4QHfQFscntYyWY3MVqzNBIj/7bpe9d1YcRmFKNZDz\n",
       "+ExsT70f2P7pUOLAxPIn8+atdk5OIBEQnaEeFGuVfOHnLvaO2X9D6VvMH2mw58gnWMeFbu6Vur9h\n",
       "XfpGYQe0GII5fTwo5vFM8Q8PE6fIujtOKFjawWZifLBBlbLHcKTqXkc45NmgIlv3M+PTjANTVV4B\n",
       "XGKq43KqO23OMqWSGc0aeSuBwpNC7wYXm+mwoOg3rN8z9X54lidK4SYFVSyZDmYQpXPpuKYfaf5z\n",
       "Wxq8YurjrLzZ4KiBF24Ofcm+IjvL9UIGui5yVPNzk8kxblO4z4i5LJa32VKdmzoqVWvKhzJ+E8Dz\n",
       "deVjoiHKy+kXwDDf9WMNFcIdFass+qV+If7SzEYTpBWz9InrZ+zL5SeTgKmYzFcId/+9iVJlwwQi\n",
       "4vBSlSUhedp+NOS+kGiCowEvaeGpbnLKTOoSvR14dSOUqc5Rr/+DCVNLPFiNN2KbmH5ApY10N/aw\n",
       "hsPvgYfUSKCg+iKAmsw5RIhiymy644qdx7qJDb1BXfYFWbV/+xWs5q3+pUuGTZc8R3YANPClYVXs\n",
       "7R1VUZYg21FEX1LEjYdRA5OiNtkXZo/QPH/AfIQIrTRxLBcXvkqfMs5V4j7+casSSWrksDivmTzX\n",
       "XFHSwj9YV4rjj9bPQJpG+7Fm3OYgaOp4tDHAyccp1c5ljZchGLzH8Wgrg3+OR5cmE9ywrOCHtjcX\n",
       "hjrtRv7DQebQo1wpt2AuaeQtO/VS3LyHs+oWzQyUWZclNHH7ekbDQgikjfqGF485SXlOJXA7pK06\n",
       "qAoEAHLn8VZOtJDvEpm9ImHdydKkpSSsplorfoH5UmS5gR7UP70OyxKXcGFomZHkGrdbMJ0Pb0W/\n",
       "lbi0kr34XeK+J3xIp9rNE9RSFnc5kHD8T5YOIxJZcpYnLT1TBwles++7OmEsicZ3Q+Evc0p5gTCl\n",
       "ar/aI1ZcK51CfbOXygOE2YuZIXS8reS5nit1J2UR8wA3UqxW029QnFOetYvRSEmxJdgQqRcXalr6\n",
       "jnxHbs9F5fObNAEutubsJ0VQr/6XwqT87SdNOS6dqPPncC3qH33sKdSoMf1NlBgKxUj+M8WwPS3s\n",
       "eka4/qOSwsbUhVmS//G32MT2Iy4Rt1cxcOW7UAMy4hDDSho0irlPhS34F68QL0JNWCF/j37DkGwV\n",
       "tfg1Nbn9BNf847EHgEiVOrocZh/CSXA+1fzEYH3wSyQDkRonSImdZxSmEuhKcxU5OiZtpC4jxStf\n",
       "1XuMJK+O6EzBul4szH4wX6tYsk8C7hmWM5XdUZqszHCL2aPcAXh34gU3Mz2ud+hbC649IbHJelXs\n",
       "P6LzD2itt4TGzXAFxrOgxC8ADBU1b+uWJzbgAAADNkGeykUVLDv/AAAJA5JsvAH6WDEELkNppJhT\n",
       "HthbwAABcyXixltV3bSAQclAAxATaIiYU/S7I/GGlYZ2tH6MHwpWvADfVBXx53Qvblf4fD+WJx9h\n",
       "FZ3EghjtRn0CVxLXf7ClUimsLplZZvgtrrTmSQyQD4R98Fd2mhxQ5h1CqFlPYNKBEPyLNstw9O++\n",
       "W/Xi0byLvcpT6ZGkmpqCn3DNfPsRc3zNebSJO6Cla9JD0RiOVmu0HXjDHyX6vSWZYPay5KgYgHlJ\n",
       "cPNJ+WWlb5dRUwEFleX2K9R5IuN+OCVbOtMLuCGa+ugO4hLmCaRZCg3q1Txf9eDaNknLtqq3IGA4\n",
       "P+ZNXzFC8huM7Lw8+YBOumhoMQRBPoBnoASwmLwSWqqIiiN/pKaDkArLA6Rk7P7nMYFXG4JEZN+z\n",
       "Jisk3XA1E7V12R+1aip+TYAEGyL/FgnMabt1qyznVtfRYrTh6h27XPy/9JZP9IfLdsjP+z74KY9F\n",
       "YHzEah8KBYXaFOpldS1VbjPehZxFSutBjQYjdreh3gvUt/TonwzxxF5r5prVrZOhsdngM1UCZ097\n",
       "QLq5jnUXYhjxsdGO4zOk8ELLL/plW4mO2BZizUvBSXrhHFO8CaZWftZZsbFrTEtOcw/owlp54HqV\n",
       "tha8YDdpPbNfKAJ1j6kArbF3hXXtj64Jng90zO4t8ReoI4UT4VB4SSQDv5eEPOmH0n/0rvrzHEts\n",
       "334MpH5D+5Zc/eEY51P1ALUOhVgmfODeSrimi/xqoBfI5eNTXIQUkpYodSbiIBUXlnm7uMbbAPOf\n",
       "qjjqll+Bm39eMk8L1M1p0zdY+SmgRh4/LL5hBdKXHyUG0FAmuIjiPAFzJ52JcGgfDyWcZ6ZGqOCU\n",
       "+q4IQB8PEjUq6Ms3kKw5/gMjOyRI9XPGRsxpnmmi6+duf9Pl5f9c0UiQHRoyMJY/GSC3xMVZ6j4E\n",
       "KXbak7ko7PXiGkvGgB4ElgstJ+rKFKbDhgngYN9ClkQx5uMHiVgauhmzjyH6ZP6qwb169gtyKsI2\n",
       "BedVTqlzHbBR/DKVPSZNmeta7mbulaEwk2M2K2JBseK4WAAKVpkRljFs/KfDVGcYzkWWWakK2QAA\n",
       "AU4Bnul0Q38AAAzfVUqrFd9TS7W+9URjO4giwBc9ad5NCXO55wehiJPQ308FKun3QyrqGwRw437R\n",
       "a/KGoABdF0HwuaPYAbDymoC+QT4hTDmXMJeH1+YdEygbXAV/O5vmL/9MX6phjB9iLKfcDnIPN8rl\n",
       "YpKQn5uR5lsrAgR8XjXRyoP1hcRMx/XZAkZnS5N1Uh1BIxYtZ7X8PVxT4wNldspIRFwZzIpSQRMM\n",
       "BWf1XO0smAlfSY3c8Nxx/AR0TBgjS6SoL+ba9P4REdOsUc0WMqxRbHDdY7PuClQx3/3yq5dLbR6f\n",
       "ZUSAtddAuM0jXhcYUhH27AXuDxVBdkvfqjvS8uwUcHiXqpgVFVRsKUJUHTC3j+1U0XrXH4rCVpMq\n",
       "AdkD+m5UBiK346/1898Opj+i+ymc4ccj9k3a33mkM28raQG1hsHt7Rp5liNckmBisVOAAAABNgGe\n",
       "62pDfwAAAwNMXYdGrga4Nb0TmqoWEEaoZYDJ3cljM5PDIr+gaCAXKbLvtR6kroNACpouWaHn1b+S\n",
       "mNCrb78MtfY2YYjRR9kkJPTDt/s8SzsvEDbeUYxTv+yODfLjN7TpM8mYuTju3m0i6R+sqCTCdRst\n",
       "SpqZepGHc94hhH/7M8/TrIf8YP9+b4HLyU5kXrv/1Bc77lhv7t7sMf0SC+k/TCTq+2wFOVcCi4Jt\n",
       "9wS2iogAfOgaW/YiKIq1Txh4m31RPpMbFclu1MmPcRC/PbTDAqY2sJP4hUdp2c5I3r9QVn//gE0y\n",
       "tg9SRcypTehtOyKUSPYKKTEpRM/G+hqxcP0xqhdMp8CwYlEDQbRpcwCGOwAs7w0M6owMbBpOY/i5\n",
       "PBPFhP/1JekLakVJVCIzNBOWepQULpgAAArpQZruSahBbJlMFEwR//61KoACybFkb0n67tVF0L9U\n",
       "sGjHxA6c8KsMLcafwxRNtQCn+TkAGYPltHAET4UMPf/8tghQyEQsdwnujt+r1kSsOHAdGuomxT+T\n",
       "4Vl5VnNVcgjD/YQNvNjXhY6kTg0qsAaE/6CDDBpHNSaaiHE0ePna1RkHX51IoBMNODDbO6XeLORM\n",
       "Ubwf532L0KPRvurZSPVn+MxAUCP5CnWJckmPxV2VI5S24P0EDpBAcaHw+gR47Q2Lfcu9de3FDFN2\n",
       "oBJcOlOgwntEpTdfWJ35jzxgbZ0t3COMzBAkCqg7pKoNlOjleCiQc6aEWiGjOL85odb91NPIWIO/\n",
       "qroJVsILAkpt2cVAg1UCvyJcbMF3BmVgN/fQ8b6D0ITG0rOa98cuaulc/zwdva3qPtVyRsbLJ7wl\n",
       "iIrTJtbZAUggWzfGH+lhm7RoIeiJUt7zHqa0NX3CtM1rYmLqwZGRHEFUQGiRBLDf0vAlwV5LV3Bg\n",
       "gn1DVixvWPWSSlI6/i8Z50qmvgoZcNTDAYdGGI3Hc8Ig7pWRbRKxo7xcQwrQtewAgQY1GcudDmjr\n",
       "UK7MYLRRwPlwPAeT+uZVyNHKLKVc31kVps2x8VE1W+6Qw2nfi0/wBZQcZ0JYOv3ddPXdI7zSEDlg\n",
       "bLypKAaOESrVE70AJ9lx69Yxx0Vtk3/ly+cYyQw+ATThM2MKB260KvV2fGKvlr8O5CwXzAqHvABq\n",
       "ynWU8KmswCsSXk2iQlri+d5kfJQhG6UtrwlL+cHV3L8Wtp1g+TdR5ERdQg3Yp+SRec9dkzDHuuc9\n",
       "cYtOjdQLJdpHKij5kP/Thligrjvg5gF+PmDgn49ikSeTu7ck/YexJno+jAxRIJYPMD7esjMnP9Zh\n",
       "rDXNd3yiimVzmg0htbwXO7eMlMTm+hdlFJMxteVJit1TFKE4NZNIwrSlKZN/DgoU4iw9wxKto5bw\n",
       "sTPDYXKcO7FAjFUiwRd4D1B+69Cd7rgQ58j5SG+qCv841HszdBhe/3xTGWDPWO6ZVfH4xZMDqh+4\n",
       "sqd27jhFSrxCoDXoQZnK4JdrQDVIZo668Xau8wxG4p3Lwaggp8CsCBdbdJZKTou+cp6YFrkM8tEP\n",
       "IlXYuNvndCYmfomoBX+Gm4CXPFjT/oQK8nQeB6XdBpwdytwDva5A/PTejB5bq+zIrOHIFFEy4GcS\n",
       "JLQvQdnBDr404AUqGGFqvE1bpxuGiUgH4FYHrZWFQ4tWdf7fhX/KiuUkBfut/G0yDsaGQGhOA2mt\n",
       "CBt9fuyGj4zMerc80qv7PvQsRS8KtUkd6W1EbHBkDKxjNB1ISh8Ac6XTHCkILCHYijY6RpFEp/x0\n",
       "lt5fGx9OvageQtcdS4GvsfhMBOmpERLks1ZEFH8mpdyNPPv8B3oTx743rjRgHU5Y995SLi42sO01\n",
       "z8JG6c4Zf9MIy6z2S/LEW7xCDd5DXFoKWTqicN3EmcBtvO2qZrkwff1D0hIpvEfGK3RGEax1JYIw\n",
       "6rv5ZU70XuMbRnS0E82kyEIAKo4L0Dl/oEjqA5Yvj/meMZWyHZzdIbuasZrUEmea/qYRY0iTYPIe\n",
       "WAFIWmhk09X7hqPDaR8plaUc+mfmeT1FJBSkcIBl6WDzVe19Qh0hoafIjws+bblrnL+yI+A0o4Z3\n",
       "+Qe2wQWQz5cxBKre4fQu6u2doAFbT9mLc+hlXCz8Njdcixdj6OeY8nMMIeygZC7ghLtyJdb8AOHM\n",
       "E022HmCO6Y4IFowZkE93IOpkB0/p4dzoCJ18F1QoimcCtLsHTdLeitgaS+oHybfg2WbvLvr8/H/R\n",
       "hqcmSSZLxtfHqm65ll1Q4S9HSKSfHpjiK90n0+lZIvSLwiDRdAOw455iVlYYXcO0ZX/wXo+XiJB3\n",
       "ELji8DbgrQBOQDwOk+TNOyVWa4EjN1TngznRbDHTEWjYYImHz4uzCqxAd2chFCsAj8YZm6SVYTvh\n",
       "3tc5/z2LhkJOqmNdq/dmiaa38iKJUZVAG+qpchmaVkQ58G2Av261Gg7K8SjK0s6aokUS1Yf0NEDC\n",
       "Ff3fB+wlQVyU2yeO1qscn+/dWzIhJ2VCdNq4xuGBRZbDW4aLLEX8ZBrrikkOLXagGchDRWAG/3ne\n",
       "qoFx3NGpCFcpXElQHiRICxOWWNWg+Cl6T5DV44l8/ohpqf/SX9pCzMWcVNwz/YVGzDNW6QHFGGXk\n",
       "OlNE76sJd10K0HiLpYMYmvy2NKBrX30wNzWw60YQarWFTbv6/kzvnamoxvSu2pT1+IsXZTa4BxOO\n",
       "Y2yPgoHMJQu7n2jSh+TvatQhtfI2bZ++2+gq6rZmBwVs0pXORQwsWWon8wCL5hI+aaJYKJhpfYKt\n",
       "Df8qc2qpkrSU02zgtyz/wwYXJ5GNnF8XCriCT5FRDG6Pu+qI7VhiHYXUsAvY2tfQLtD/t8Y4Eu3z\n",
       "EkEZNZ8WrIiZhgoK4r7JF/PE1vYI6TYKOU1KWhUj16Ri8xHqWgszeNKmdRzR0DcJmdVmkNdJ7SLh\n",
       "CaEpUgLwaqx1BM+c1lv8ntdRMBCjTkjgztIZyJjm4xloTf6Y2NTnJQ/755qId6OJxyCVe/LOsy6Q\n",
       "QpDquxWXzTAMaNxqyRBKDRyYVfUnfpg6DmcRb0JI4381pW2DGoowv+iYhFcYy/R2lN7Z9JPfd1tg\n",
       "ewdGroleq3tnHj6GV4EUCq39yW3bxv5lmfizurrgDryYDsr1ym/ctbFtkYdJAeWB6NQbuJ7+SrtT\n",
       "oSeKRLT0qHfl05V1vUGnpuyei07rtaD5IscPSMP5gEpW7R2eyrShMcXWQttOcfCav565KFxJ0C5Y\n",
       "aBu8F/EeAcWmWA8pls6yOJQA70z0LuIXlKWMASy6hV7j6DYSreJkuh3rJLKIIpmmJsWrHpiSqdXc\n",
       "MQuvaujmJTj8S51XCQ5brXltdsoqVuEa8scx+opBuDvcm6pxzFG13uH/qWyepXgrT3XZZrzk6sh8\n",
       "RK14OfFPaZKrDeVEn23eFyUXSf8yYAL0Kdc2u6pMcHS3URb+SwFR7tKHhDVIf8E7yRBvbSOhmJNa\n",
       "wqkmzhV1jx5ALoNclMywL5+daxi0QeNdqbIxTt1yfXk3qksYOvCktAI6+D+85nlSuwZotczf/gBd\n",
       "hl0Di1xygM1/WqgI6rlv6UgbsOi2+cVdqMixlEJkPUG/gz3M10z/YvI1zRR5qISaJ/0jPzCLULCb\n",
       "RZ/o0H4Tz1Gc/jgg310Rxs9BgeCKcDBvioBMFNX16aNL4zbfSMy+PemfhcwR6OTA7cagizaJfCVt\n",
       "LRSZFIbdl9c39TfrMpRYjZspyfGkNGMI0b4fHQIjXVDllvZw3wcRQJIzrRYzsNq9fJ3BmIYU5tNq\n",
       "I9K6crTrVkZ2WdYg3pCmGYRM1abPBZXfMWhQwUjArYLnlintZ4iTXH21GbcUYrKDue3/JEJTU9Eg\n",
       "6kkQG3mqg4b6pYkmQZQLLJUFelzvR7kPS2ywzUMrXc0FDZCLAdl78HMFxoFYTJG/yoPXwc666c0Z\n",
       "KN34L8sulKZOR16pRMA2L176oKyee2+2Ku7yPIIiZf6shRxDNLyXJdMPw4osZ0I8sU1LyvNzGK+o\n",
       "tGYUIOh54JiJENqqN8md+4NB1DnADnT66gTYaGZy1CD1z4byGSv8dT5KjlYE5X+9AQN45+Hq4Qym\n",
       "8a034Xw3M6e/21rdZbvWVi2AkhkAg94DJSGJYUOT/uLDHvpIkylnktVRoIGqa/gsvexuJw3o87dG\n",
       "MwkbUR0YQPIfLBJEYF+AC4R9gzwJ2GCqoJuBAAAA+gGfDWpDfwAAvxdJiCu6fJv9P56qZcsJnb4Y\n",
       "AvmuCQQOKHg38Q37J6cU54zVU5XaAEXtQRByKVhyndVRg2FMqlEI1djom/krQYXtHsJbMWIzi9rV\n",
       "G1nHDiDkUZJUVcFEjCEFMVwQW18orbAyUV69tFAc6IJEfavy1qGBXqTFKiO5SlyGIpWRDlvj1ssA\n",
       "Sr16Alwr+xA3HPSubFhgstu3zFRVRMjYfVhzeNuDbCWbUj3MMF2vrGWS0mts4G3+OW/ogFPbTKIF\n",
       "NDw7gCYFh1tL88qn/6tPL+PhVLdD37Q3mtDOPWs5Bnhbs26nWCfOTsOK6ahBm+XbiD9QB3UAAAoc\n",
       "QZsSSeEKUmUwII///rUqgALKUV0QxZiRw1oe0IgdOeBwu24Aj7Njmkp+JTR+6b/2SvCvujpKoQ1m\n",
       "qKQF5mhxuTK/1pi3NHMdvnni3SZbrRW3HeBvTDr3TBibrN4aP/xxS5k0pB0jdHUPbmvrp7fGw19E\n",
       "vP5wRzf9IJbmFmeMcezaE9otGRtO/LnVXTjkJAheRY9dimMdQlADhliKGApqw07hXoeDMiSXg0FP\n",
       "xILkmZUdt9wpXUjBby8EkoxlsqbEohHXqjARdnrU8YGqAh3OMOpp4ouOmpRqlO0IAG2StS9ElgML\n",
       "cX/4SIw3gvrcF6zPsZFZkIDoHICZaCyEqDgah+1wrIUp7RpBG3vvInvNdClmxzs/didlFHw37oQt\n",
       "58Lxuv6H3564jGgjX0/QbqgTGAKkQqwwVxpCN8GVwEqmzky9F67j5TIjMFkv4mQO34vd/P1hl9fH\n",
       "Yg7+PNBNq2xbziO+zRbNEe/SUzVsX+Cthgnu3fbKrzpGcQLxSuzPxY0DTV1Io7M9jZWdK2ljJ0vO\n",
       "XZ2j2a3JGg5SxNJpTumKSaOGD0mAfN3zYJDNtcKq+EhW95rxkMc1qhAzYPJg9JbBntsHvdooB5BE\n",
       "TQGoMi3rVmrp/IKSgZhI2KAe+0XEa01B1pGDAOgbiyi8CXr8HPMBGuikrYXgiACzOKTC5Bcx4roo\n",
       "ovVRQU8HhBcAMMsC3GaNAcsD306ZRstBahth7xWdW+ASPg+rhPb3z03bwq8IHLkWp+SxdxVwNldY\n",
       "8Uqs/NKLT5TNEHA8ShiVltGCNUQYUnxETAOx8xrM1AMghf3AzR//CKHceDpVPNDOgiGCTw6+tGS3\n",
       "ZJQw2KsVzHAbD3zLnFCsFGXqUh8WJb0OdIklScgygXkd154t8/pIohZo01gFI9MUjw7Sh3RZXHYO\n",
       "Yin2BuJlrXKx/1261xB/airYV1yT8PZ3rv2rLcEt0q0GcebcfMn2obIHrbMoVoAiqjWhJiqbnt2Y\n",
       "FaRsKdWL/9VvnvgWfkOAvdMY0Ebpa8hKb8PFYkpURgIv/ZgCrl86cudIFziNzn+OVC3RX9PvVhWo\n",
       "y4qCN4BuxgA4Av+L8vVT1lgBNY3sn6qwT3SPWbiBMQNvNrNjDpmMIs8RFAUuc7XV81O+bx2EKAmB\n",
       "nY/JLnjMLBgLblFMAbFT74/ZT5E8K0YxlFOfFtFgZoIrCyascFZeP27tX3Nm2RTxv5GSFRZbHVyW\n",
       "ZD7j8fooV73EPwzuOtP1Ge3bKv75GT3llaQOeysthQGHItnmbWsw4adO4/TbYdrXTKjRxWMbOWNj\n",
       "K6nAVaKL+WHSDAm7QyksKhoM9cVzXwjHwwcVl4SyjkzgIp/W9BpB4FU4Ed2Gmz5ApxElpCDfeD3G\n",
       "cMW7/qOjBiA5vfyYjwiRcfNbDchpBXXYHOW0j1L5siqFqlko8xAYNCQjgKKYOGFB44a5jNbnv8o8\n",
       "FAb/Zl8xeuM1ZsUoXUVemCvnCgMmmvdUr28Ste1psL6qAosZMOMFfrwDUBOrG2XnsCK6saadZsBc\n",
       "qT9r+eJkQb75xavu97nq8Ww18UEU1nrz38u4XVtOtFQKHTXioWDpru1gYDM9ErzwG7UVzhLUvP4L\n",
       "YAsejjg38ov1fb5/nyhxRtW8j9Vo0Z9oM408J/SAG9WHRraidW9o0Cvi1o3HdpV6fOCU9JeF3FKR\n",
       "XrKkj/mQ9/iLbD9gqrrnTIct5+u6pZO+lhgnNpxZj/IkkZGWt3X0nA3pTSHLArle0C0NXSwd+xH4\n",
       "L9FqXnLnzRk5+LIiJTy0oJKvsO7uuD2Wtj7IaXT8u9z4Zfgg3TkALDC/EmCvN9V+rzjs7+zAEwoE\n",
       "X6kA+ecOVKQmPPvhQ9AHyE2v1GVr1gqCdHj15enLL7J24/xas8CKa/ZT5+j5TmprFWpbB/yjMkWl\n",
       "6qVmX6y/jdp+Y0ahkgHpRr1hNCFB2vCfRONkZlWOlP1gXcdVgHd3PTvXxPRNftSRVC/hAoJaBx0S\n",
       "87jOLtOci3PkiZVRblX3DhUnV4nc3R3Kl2/LfauIGM+h1ude79/YqQU6LtN3V0lWyDjIkFVw9ORX\n",
       "NkEVhyFA9mpp7woQBdwbH/h4JqrVFyyjfL0zO9pQIhTfizeUzwEIDgvdv9RYzrYyWNHdRW+XV5ag\n",
       "UiglSQFP9cOPxde3SLZBF55IYVIbZCgLdyF4dtv1eDGlpb5v55ZIMYzGol/M/L3RQO4wjNHEksrM\n",
       "x9SHS2nSdq6xJsrSy6fmh0ibUjinAE44RmH3OdVUOLN1ZZe3iT48EPE80iY+RqlGuf7g6rk4LFDg\n",
       "zOMak8U8zd+Sfq3mrz7GmQk7mOiu/ws+4FT1xndUpSNfAzx066s4qIkYQyKG9F/H0PuXYbuiTEbC\n",
       "ZfpUBXoITCrnSj+P07iktSXRuWv/f/TwhQe/0zNMhHJeRPdhYh6vDLQfGSrIAgQ4coq8PwvLEAle\n",
       "Rciw8scpD5GaEz8PB5SIuWiV8v8bSJFA0YcSXDHjQo0PRZaI2BcYtB9583bV8aIVAlA9FTSEOB9N\n",
       "3Z90bPhtp4MIpiZhl6ZSQ7iOMV4fZIAANCjT1SCGvS39SH2dcYOAEJ6QCtHAxLheHNOszVqT206w\n",
       "kCQGpxpQ2/cYbSSVQlDScDmON+9Oe+EAP9dgdhwTqhZcVnUbWALRJTI0cRfqZE/j20hz1fLREjzi\n",
       "vHW2FV/juO0qwYVYHNn772OUrGkN2bFQgvLEeo6mE3v5jMtBUp+fEz5vtiifLH1r58+iIYPXw97U\n",
       "K9ZjF57JDbVPwD6hADcKW8itiqbszavhDMyhc8sfXbQmQrsIAQnpqIGdt510s9xUb8Zlw9X7v+SW\n",
       "j8Sd5C1JW00DdG5MY8xOwQBIvut/VY0WpNiIC1CsbYyyl1ozE80+yqIGH03K65kgf+klStOOwhxt\n",
       "dm06/DZGkmSyX97pt0jSZvgHT15aZgZVbKItYuLphJvGVEX1Y7oPoseG8rgE+YTFYWuL3s1NkCvv\n",
       "KKPCa6CzBgpMro+hIgw1BQstAQUUrZ3/3zK660hgBAuljwWa96iOs8LpwvNJc68xwcUdI3vHMKpH\n",
       "DfcTnMXlY3cxkDG85AuqKXWLMz7Hizw7++NRv9edhHuBQ3m033B2egBc0wE9nuJxsEC12Gsebt3X\n",
       "gjivAlRGIQseTtypnY66UOfKupLFpNRL3ZnROJu2PH5HJ/7JZnKTO5bf7Azks2G73VO6NDSOn0/1\n",
       "+6caDvsh4Mdm3sbohhINeomdOi9ru+zneYLu7JDBzfhKINo34rr08Uan79tf+c1C8ipVwicOUfL8\n",
       "+RWTdHDUBCh4xMfqRFUvWyoO3POeo2g6B+7pwzQX/28BlYqMoUklwKaFkDghw5Q6mMWPMgnHBk1E\n",
       "cojgHOukZ3vLZLiCiLFTwyCbIsvlRtatCkmqj85Dnlx91VzlSyM/zXDbQG5GmbYU+SpzQLL2j3ie\n",
       "5r+vQBLyFOUPRuyo3ZNIU3Cwh0yOj0kAAAEFQZ8wRTRMO/8ACpmhHQAUCQJ9k2r0D4+0Mg0YYo1P\n",
       "Ua1OLsPKcm3neSIzjxghxMVKvVyS17n7tnTfbp+dBozzAjKBSKuVNRd3IJ2R2qvdbAmjnh1XAKio\n",
       "ez7jdQCpeyMATHi0pILgdxd3gQZeLrtnWbbGeFr9Jtxfjqq20L2P+suA0LxtCZYNsiEcEARM2kHL\n",
       "g4FRhf7QaLNSz3a4CuAs/WbXxbxdT6EfKPBfIQs7AFG+9ozFgrw3tHnrsDuf5A3TG7+N7x+uozVL\n",
       "MOd/vOUp5Ml7u1BNq4Z3iidDCQ0sugK8asgFYI32wHkSQ69afHAKla6QjZY+eSLfywQABl2EyMKA\n",
       "ACygAAABLAGfT3RDfwAO2e9rEgiP5HSLwrGi9kvIUAEZXIX1fb9B1K0YRIKRke/5By6aZ/Hzq3HA\n",
       "VdV/xwxyW0ytCxc1BfaOc4gqfUwWOhv7YWdV1E4Yzr0yj6S0vzRnuonRRsgwLlb+Xb5JiGaVH8pM\n",
       "7ps0nwLGyeSJxk4y8aYSIcSIYGMFZ65HonNdJ/q91UGNbZKecx0fDmDV7sBs3ycy/cd25hBA/3Vn\n",
       "xJW97maj2U9HdiLif0x440tmJl3Py2ge8tIeOr1qlRx9uMH3RtT8LBkLc9QDqZiOKIHbyH7dN6HK\n",
       "YdlSzp5mm4hzQqZfNUQW7iyXbJmKjYf/EDOCN4ZBiUx1a11In9KohvijVgKFMH2A54DSy5bP37X6\n",
       "1GTEkEw/GVLIxbF9v+N3Iml2cAAMCAAAAS8Bn1FqQ38ADtdrCMqnZhkXBrsQJWl37mq0nEANIiyM\n",
       "7u1gaPiR1hUdcjZe/N4ke0PZlaPSyxGp4PhL4VbunMRh6GC0gsYT92N9IZpYL2Ht9sTZ0LYfdoDE\n",
       "k1oR3ktZlmXC/rB11nfX5v+NKGYWhJDjLVQW/tIgGXL2WE7v6yeN0ZgMj1PtUAI1Jmgk8hZ8mMf1\n",
       "Br25wf4yz4OyQbW1+LIO+l5Oerq2n4oDxDmY2RxQWk/zQDFx1PDoNNsMsyh2f2/E1xTivGrrmHyY\n",
       "bpO3OSTDHwtKQRz62KieBIF+bphfsSPdkDGnCjnbkWp/X0wZoUyFef0B7RfGozFViD4/BMojhOA+\n",
       "SJVbLJqa0Vf2FRe120l4EiJn8L8+AxRZ6feE28YAhj20s0haBE4C0ygAA6cAAAq+QZtWSahBaJlM\n",
       "CCH//qpVAAW/hv22zTzAF4q/3xteCdlrheeS7UE91nNIQ4pz7YTqI6Sgxcj5HfsJ7/4xajTwDDQm\n",
       "5/pPFgvol3T4B4gA5+37ay99zPDCei//T606Z8TWB85ZFZNX/gay9DObpPxisvy1LcesyLvZPUz2\n",
       "17yL6RtLd3POlP777Q95fsUtOVbJ3SDvUhR1AumF+ZExXOQ68Cf1YAl7WkOt36aAac8Ml3J+DmEy\n",
       "q4S2M95yzqNkVpYa9kx3cCogSrMW8Arr33X5OG49Iylcll6hkU5bCiNwaDOy4vc3hw+m9XyhZC+E\n",
       "qnmvBjll4pxIwOHeUCYqUM+pRwZ/UsVc6rW6Wd8zR+LJwdsRf3ZvqV1OitooN/VHSixyAP6t7Z5D\n",
       "UDT8EzKgP5vJWJtXWQvm+Sq6T+ObnI+KbpAKiR7ViINwmC28Nr5O3OLccuFw+bH06utsjv/kHnbZ\n",
       "lSj4nz8zqAnb0eiEueEfKeXyodlNz54SZg9LsOyT9AlHa7fRJM9CiKJDWJn9EG9jVPR0KgTNNVnd\n",
       "rtteajBVIimceuvYVetup66uxbN1jDad3IrYASe4IF4cDnI3rJYA2rupMVPZBOPBB389lmzcVTiv\n",
       "OG1QB72y26XL9FxpOaMdQReZUPv2lP8zKebcLORL6BrNamK6hn6MwMqi68pZ1paz8oLeN76cMkMs\n",
       "gHLJRawNnQk62+IikmTnb3DZzd+7AD+fFJSddZDCmxSpxRBDw/2nnT4XX9zWt7KZZUZUJ6YOpYYo\n",
       "Kn2ihVg7a6czSgVZpNK8CiIK2JVoxBE+lf/NcdcgYhe3MOnIF0aefEUGaBT/UEm6Qnt16hX63H+X\n",
       "Pxh6Pee4ANLdv8B1un7701cg415VPyL6DzLKi490CTWYGs6ynzQnmIIJv21Ed5ZqIsa56HgXDBS6\n",
       "k21uilEqa7ogTjOA0DodiSF+mraLxu8Rg+MKklU/xO70s6j2367rBSbu2L7cJhAbJq1gtBq14oLt\n",
       "IsJbjH1uEGeDoXjb8BFSKucmXeQ3qD/v8CHBbGbEYGqe66dJ8dT2g7FJOaSewxGkLnCXQstPMgLg\n",
       "xLKUfGiXC68fTXS7+OydvrCc6weYVGNp7gW5uZkWB0AP6FmA0WSxnVx5Ho4bPejUn7o3tX7jLS/i\n",
       "u5o6mZ26hrEiJ6ceDlkn1QnS4t5OuBeStAU0ww7nNHZx8GNaJJiQ7D17Q8KQlmdaY6CSThgroDBg\n",
       "y15AbBcLHWXfou4aS8kxuW+gXxgqhOtvMlLjZIk9qQyCKOdgHnY995/dbPM4Titn/KYMf0nsg9B9\n",
       "YI+L5Q+fsdikLoZ5y3tkxsBy8GOQz6tHrT/pshI4rpxRyjvmVevFq9vOJlIKVYAvUAbdNjdYJu31\n",
       "lmBU0iwshuR+JbxNDCIdall6aSk2XhcYa5rNgkR/jkAGQk9L+GQtmNypujZQe/o1G9ER4+e9QrvA\n",
       "n5eR+RCqZDvlCYPbwnEX0Zh4eMxUhZpjFJbU13qVUDAr5MJ7jyFjfFzQsqSqoAL52Pa8R7RNgpj8\n",
       "pLIWFZ9vWVgggDd5AMxCjQklWBqNghFBHkZyo3BTSmXT8qptlqRNwn1Q8/fZe9jn5Go1S0UUYZ0i\n",
       "2kvxOcEbgd301XJcICCisNzphfjvhywNHTtlCCb6vq1McadioTgNptlFfYFWBx4d+qFADdhAgt+S\n",
       "TH88s/MXEeMGdKF0kJmXZKlX2vQadr6TCKFkELw7QwmFLOTIDstK/eH8R8s8wwDK806ebsO65amK\n",
       "/vZWG0iQWlpYS5niq2PV/4zj9LjqZ3HOXxCXKf7yr5Af4FIxDfLviBtRc4i+3IWJ0hDskc+kazU/\n",
       "XHlShoSp4po7Ir/wjzIBY0EFfyv6PuGXsaTqJ/zvEsRSK7B8w8ERul/gakQ3ZqjeKKxIdObjcy5x\n",
       "AgJ/+K+sYtTE4//3VJrDrlHqPlRzyR/uhL+9O0oj1FnBtaf5sLhEQM5fWgQx/pFiBxZIQHQQH2wn\n",
       "jNWaLsQywpskt/fqv0qXIUn5FSn/moyEIGDwBGvfnBtoQatncDeBx4jdxhY6ORZz6sYEdBy6Vbwx\n",
       "MdqwYJ1VJ/2rW34RNXHiq894G5xmwmwl1R/XRLzRtV50SUl494Hv6h5LC8Uee6PklNSusQa15iMB\n",
       "x4mpvGrd55Pt+P/4Lk/+UJ/rxSw5+0Xx0GTSAPf9GxjHtub12RRiJBTu5/vG+gk9coflD2AB3x/D\n",
       "ZNp0lRYrNDdcLVraSfTk4QwFz5iUH1oAz+lmuXKG+aGo0WFexun++Go7u5MsFPtZ+DggNyeWX7rc\n",
       "OGZAsBiwos4E6/HX//bujtwGUxDjlYPWYH1y+CufO390vP/aImstJffXwTROzyBInDZAyHEKFGtg\n",
       "7ZJelw7lUcL6WxQkv/b4uF6a/eIWu5W3X6Ex9XasLVh1DV4UUOdDZhjn1Uq+qKg3JO9c9xuxRa3t\n",
       "XZ/tx/303Wdg2u3PeQTJ17aML4Wq+fEngoEjbycDDhzb9KLBVm+C0tPnJFSikzC1g41HQX3z/4L/\n",
       "QsuUVBdfCDvGxU/du/BMyBwL+YPeEEjkD1GIlOLFa3CmfBHLbNzq+XmQGTwBvB7Hqv7MKMKyTbq4\n",
       "whQfMFRKiTXzhogm1jDFdvXTT+pBk+8PQQQmFPj1FEvMpZpsrj6URACQxHujcY/bE7yq++Yy6W4j\n",
       "2WnPZPB0/H9rJeKuMwZoWuSKg9aT99K7dIySXSHAtgd7Gmqzlz8GNY3dQfBMlC1JEI2TXXEb1VtU\n",
       "Fe8NsycuGG14b7FxeCnOW35oqZm/QDVz3SNDaFPQ/K7Dg68cAn634EModGDgO4CKUuS4rdX9tbxH\n",
       "JS8rTWzSKY8OP86qLf7jHLPgV1t1Fm5ktFcC55oAUTGW2XjML1nHKpMyso8nTtQTtNcEHk6dCI3q\n",
       "e1Z50UyUVqtVMqNy5O6aDrAwE3yGlmQjekecSGATE21yHa2iKqTGtDdXCKlUIi8YYkfb3gHAKpjJ\n",
       "X34UBDTT5uexOm/gt4tbcnlgJjPk0d9LXtA/pk4vHfnZUBZf2LII4REdaIcmSDfXv1bsHz5IcGz6\n",
       "QgqVNsMvbFWB7iHoVGPly8J3f0IwKWQpWK22T+/SS0Kv4wM0uYtjbKw3XPPL2jvRLVjlDc6C1aR5\n",
       "MJbmntZ39izRm2PB1rLj7bukQ7BoId0O4fm2r/ILUQrvR8/IUyh/H9YfJTjvS+5B9jl+Y31VTbks\n",
       "4WWQxhy8M23StTGPYbBAadPnvNpfyAmikebDXfldK6jKRrfudVUPiV8PtrwvX0qzLCTs2FhaR8W3\n",
       "P3CopNJku1Uc8JWAm8EyzljM8nPmaLFu2k2b3nRRtO5WK4Td3yGA7BLwuEkAKwBH8Wod6kCFeM8m\n",
       "sBAiumFuS0AXLN7y86CWdWw0CZOTok5C9ZzkXyEwPqAf71Ey8rdpOpIp9NYvDMksmFlQJdOznc3i\n",
       "zZ2aRwOUzMfL1bMdONyl8KDeiGiuIL+JflYlAjyPkJZc1CVBVE3BEeTzQ7XJVHkg88P3Ws8kVuEM\n",
       "MeMuF0XdvlnE+pCnwRcBQGYxlK9Bo5fxQemynRjELbdbPYvA2OFFL2N8UN4yOz+EQA6gQ3C4OLzD\n",
       "Y7L+K+pw6YEd9PK8Y4scIl4GempuR/r1cWbzpS8iaQszAMVPEDbc9kACpLGpap5PBVbWaRMvdpjw\n",
       "mq+e6SAAAAK+QZ90RREsO/8AC1gp9uJKjgAM92b1uYpVAHUKUdpZxHa5VBpKILxcaLOIOMHJGJEs\n",
       "Z0FUIWYMl1a4qCqLzLwFzecEQwz14Hu5AjECw3l4MNsag/Nz4Wpqh+0uRcZqFp7spiNyQtBMwTn7\n",
       "XnfxS7GRAAQ53F4IY8QShjoWTr+F0UGFecmnVWbwjYEYW8iFX3wloJmjvaJ4XGLeJraRxqBT1lii\n",
       "3S0U9Rh9booJXL6z+rzSEK5cJjUj7oF0WejlVqkdrr0uPHM99YbB/xexYL5jP5uZfZnGk2ES9Zug\n",
       "m5Log8rvUAnhqfNoqsxHlelDxgnfs+cR0XBZtu/Ma3l2rauzGGOXH4y/+rynNqvdHuZq788XJln/\n",
       "wWSbI4YgVxfcP6rNK5bbhP3pg0dYFjdQlV8HuWQL13vk7MD8jeqCGlRgLQR2mNSMSeV7Wi70Ouzl\n",
       "dfrHzovSReBrD8KU76VHsAatI7VuOrO2xegyl2MtHuBChFS44g0BsW0Xjs/XKwvTaBBygO4dp0HY\n",
       "fc5PIVEn34AlvgyU8nORWW3RA9C5jergO7SOxfg8PDis1i977K3N9OnwcXkcIEBeScfirvP7kQHk\n",
       "aoraoQX5TWKzaI5p1cHxGDEJmmRNjxe4Dpv96GDc6WUP8lfKN/HVfH/kDxCDPjVcsbTfs5E7MuEf\n",
       "L52xxgpMvtaSl4kZnQutdYecjWvzhtJrPqFvOTc1ow8yjO4QE8a9JLPq8QntgBsoD7M2lb0iFonn\n",
       "QLY90k/dGpR15DWit95lZs7zZle/ScafxKiEWhg+qbiExTgD9cDkoH1+b8I/lLEtbcH4bNumXKn5\n",
       "89a9Ue708PuEZpMf4eHkGknxXFgJ4y8hWDgCOz7qstBtYCxofquSYoUTr8eXDzQAz/Uo2yCV8o/h\n",
       "1YIhq4WXpEMbnUiXOvNs+MFdx+Tmk47Chog4AAABMQGfk3RDfwAP4e9rEBp9+ANuzxClXK4VscOi\n",
       "rchgAHEpzTs6gJNizYymDPxXeATxybVwOUcj7zdXKAArsCyN2cAfpuF4mi+hdYscUtsZa4b3KxDN\n",
       "936kP4ZzkU5L3q9aDZH+gkGC+vnQPWStrBK86B02YJepl+5dK7qoZL2wO0QmgGDAzuQMDs1tgL4E\n",
       "B5t2dOjGXYtl8H/SfOpCvdEodfg2QcUOwrWnM2ktdAy1x8wkRbhhyh0Jh1upCB9omGS7j4gytRZ8\n",
       "Vmn7XStyzFUM7yVGekv+wcKufawbRAA54a/J/mQRZsdFYCg9glhmj6G4DNxjTt4JsSv9mO8JsIlW\n",
       "IKblbzqNeVkaagOWN9TOv1H+6Usv/Z2d2QRfDg66oyiWkKaiehgjRsj9TclnrJAxICphAAABNAGf\n",
       "lWpDfwAP32sIw3n6PRZ/A0ha4NADTcZvin/4tppHrUbhX94rtS/9V/PDwtzvNCXV3FEMCnLLtvfs\n",
       "bmgn+fZpjJG8jGELBTqdLAaWN8F8lr3C8S+b3PFIH1KEdETtQyOOf2+wqozHybm4+0EKyOUeA7Dy\n",
       "uOUajdSekvrERPOyVjQmmfdB3SYqQZ6tJLjL3gTYAmbL77eirUr0svs1NyF1Yjg8SwBJpQ8Zbvfx\n",
       "7veBI+gsFE9ynauIWXh7tT1TcXQy7IZshpCvPxE+xFSXhiSQSWpffC2ApVsAJlfnKN+WTIMAGUxc\n",
       "aIwyYnpo6yWh8Se4YcroaiJ3O92X4VrHdRdHU9nkcdF88+qsF2OD1aQN6MY5Pzczu8h7aBdnufIq\n",
       "iJCq09tV3US7jWXCAA8loBQfBbJuAAAK6UGbmUmoQWyZTAgh//6qVQAFuMD4AFrfHD408gKbXnnt\n",
       "hkOl83C+hL5jT6LyrIz9ZVad9ryaLoPcTARWaOrsX3Pnk1TR21R3LkhGAXm/CfxOHfMIrADXmgam\n",
       "ZHugKQmnb0XbXDjuXphoJvgvdS2I4EFz9tUDspkoVQbmvIZpvISz5R9Wn4gBFdozxJ4ghdRpi4xM\n",
       "tCLVfFjFjIj/b2Uwd7V7RC8B2MawzXxGeIX/JcMr1nz6baVfBh5JE0RThgEWMwIFs5HU4rUOL5sN\n",
       "YvovvCSEaDe3EdqpBIarRoYVxX/wXQmSUm64QinNp3ztR52N5y+99nIzULZqmKuf1BOGyoia33Yo\n",
       "iZMjLs8/WzJ2VsUR6Z2ydG1y5UcYNEKyyb9oysB67kurT4FDnmO5ORyEO8OFI8/Jt5rJEytuW4uf\n",
       "LiEtXOXLzDyExdb5y7uTaW4susGMmcJnRZv7FKcTgOTj+F9HNUZKJ0pPs2KjzFLH8uH4csaDdu7g\n",
       "g+PftW0eWzkgXp48psCUVVfOflCPdUrzZRmyv5X4vt6J4DN7S8ErDUh0pSQbb/yuWRItgifSrnmE\n",
       "zhn8ONh3fk6X634QHDX5ZYXHKSRyi3Z/YAbM+xMv+bOxM5475Axlg8iLvpuf7iYMxjd/FZw2DZQh\n",
       "X2Ep+mOuudiDfy9nynr1T0Y4DauTNiLGWccetfX/Wcgl7VGOWuGe8THveo02Au46djaggxLiUXSM\n",
       "aL7E5OTNBy1F29IhTbysXwujm/Coh0o35Yv9gmhMr8d1LZaolnZQxAiTv/IsDLrN6PrltHGcwmEp\n",
       "pktwKmR6tK5t2cr4iGt6Dy7gd6kUfTGacN66EnfFXbRdNNQu2yyMbgv+GjZAnrb4fj4K9Igsx6Zw\n",
       "U8slJBWeXp881DAsNvGueSv0QbVxBZ7toNvnc8x3oY4eoKPOSVqj6Nx8HD4XUULx3TaQw2KAZrig\n",
       "/1CIc4UPU7JK4oLklug6FdQMhsqzLTfjaQ9J8QJy24D+mPbRpBSnZqExfHuVwMy1Dgc8dbbNMKCZ\n",
       "/A4DnmjryIVF6j2DYkZUgztBuaHhgRlUC4+hVCclyX82jGhfAWg82qE/VP8J1LBisVP3BjM7JuMT\n",
       "TdH5gvNJ5Um23QaCKBkOfQ7Hx0UcIPT+w6RHNELf6qWS+tlVzhuUCR5yRPHGffNjyoCnhJFymZhz\n",
       "5RjA7yC6ranmyvGwxDOt8iOiNL+kqWy9qHSYRqWX6C0XKkpmpZA8c4p1CGYKTXUp9047mhnNolQh\n",
       "rfZ6Otf3FnHbxAAwP8bu2KzTJ5Z8VXEq7+wHg0Eziz74GH4zJRQioEtoey02QEJeyTnmcw2vVfdp\n",
       "X4wSZ9Mf8MaXjtcuD9wUsgv+0GdEfocTD0LFwLRLv1JObCuMAd4zNhKbzVKQwmS7+PszazAH+Edf\n",
       "vAyK3v24tKT7VTrvAZJdERHyyNS02bQSEhWdD00Ta1dA+naff37xG9FRgFWv092PiWy93Cte9P2a\n",
       "xm2h794V06vNCxjRGMNfxdUwle1izkirCFSQqe3P39WdZvpBPVxj92cF7CYCaqEhSymDY1kMgeXg\n",
       "JpFRoRufQPL5rBHt/jp+9ndLlZ8McYCzjBzjeCg1jUyFJSdA8liOYEhyt1WZ4MzoP/4IfxNxtQVN\n",
       "OAm+NiBlu4SCSLS7HniJGgX9sRHbiVFfv8anNPQeGJrg/Ww+eiFqGdIcceeXPdEG9Htytq9TvqiD\n",
       "SQ2Uz9Rq+w3k67ZZ2fISBqEB9O1EeedyHDk/eSxQ+kBJSMqBzy4oCp00Uy9EQP6Sefm2xV00hBiw\n",
       "WUepgjVB7mHoSn4StAvSSpesO2Wbds1g1aoHehElVtaqMDhvHOWvgX8bhol9badEYgMKAUPi9ZKk\n",
       "jp13O4qGYZ5cqdHOrgVUbJkWD0wnotiMZzctVlwgytlwrbwN38n2NTt77R8rcYZ2o4Y0Ze8XlMro\n",
       "KR9N2mgBL2LImVewqE9aLQ6sNfGqjvpsnlyAooaTWC+Ln7llw3Ke20SIoI++P3KlZYRHi1WVVZhF\n",
       "J/SAzNfmW8hUX8e7NblFHtu9q3iT0s8/c61QwEckbb0LuiqNZye6ja/gewiymEmdTO8i+LoVaXsz\n",
       "lfwEhmosqLoCKv0Rc1lfT2hQOqCx0e4uz8UGMqdOC+AfetcVOn9VpnU/8oc2TKZqq1PzEa7ohH+J\n",
       "3hW21MR/jr9iSAs/w7omcADsegYlepeTwU5gvhRAU/uMqOsbbDgimqcIlQEZEXJLms3iv9ZQHY5i\n",
       "cBAk4TZku8numF/g+fCyh74Xtv/QnSUKABoLGBLYB1qFT5GdjMwTfUFX7LhlDqZhFWFBcG/QxLlA\n",
       "aA8gocMyGLkXbFSfhX2WYQ6dFpgJDt1hQTU7EHlUmpRDMneJaQlmZlg8nk9GB/YAic2EtL+5u94q\n",
       "9mctUdRc7pkxlKp0jWEMYx6eHp1Ae361hvmlZkCZSxly0gpkREkVeE2VOpAilVcddj5UmZKSj4Cj\n",
       "nKaeNUtoNRpBxXQ/uQZ35KLqJpm+GcJURuDEa/F0gc8xHzoyhcEOHjsHOSrcz+g9N90gWje10jsF\n",
       "3T+xxuDUx49m4GQMdwGGKCMa+U6RTEWFDatWT89a9rvbNiIl7lyN1EE5awlxpW+FXNVIZGBvSB9c\n",
       "hjf315fSPybrX1OFLlzw9xNJ8pturz2Wv5vRjNYQNGhErdRz25uZ1dgHAR4TS38XHSS52nkEBebD\n",
       "b2hogz303vXyXmFwA/urxp6Y4S//8hv+nSuXgP0XcbtgumM4QvPtLXPe0agVqgJNomxJ4bjyB9tU\n",
       "bRBoOmrTVCo/ge+UXJef8BZX7XSeFVWdXDyFRQCzxadVrGzZk3xhBMrpABV3eUb6gIctMKXtsap0\n",
       "AHWO8tKXuS0srH8JZbt1rqNjywZmTLdh2DvdIwk2YSzhpQF3KtA90lHxM5v/dRLyy8K6RS63qpSH\n",
       "nGdWGqsgtk7MctKVdQZZ662wmT1Sy5AVE8ltEhrzepNfrKNLu9RqHVPanT+XLIjqvhpyEivsK4Ht\n",
       "Xr+rKPLwsokQeqwbCa4Az7aAhQw5r8q6pZ8UU6ULtgwX4z1GqZlsOOkk8O8sVf/Dc5JO1pjY6FkU\n",
       "Td4kqdxYY7Dfu6EC+YOXPZFoQkn9S11fHl7P/0w45MFvv3SxvQbJBuuM3mcBv98YgZrmJTawlPxJ\n",
       "p13ywXYjBGO82F9rjlY7YAPye0kyBNVRXKThPQor2X7rLEW3h4XVACvJgSzgfWBHr8ztQ1D4+1ri\n",
       "4WOZr6DQORYUDa1GfK/CmJxZTD+14cnt2kMOYglth2InpXtYtKN+MI8Mb68nJchmmP7FIV/Vjfm7\n",
       "sxdDX6zUTGcpxzzk2w6Or+p/4t8Mi4JlHfjASK6TRbctuNbHmhIxuc8IR3EOoQbgS3YlN/ddFTjk\n",
       "GG52UzdTcYkY92PxKmFud2G/t5j0AaFZOWF6mjQqWMqYS+jMrsg59+9dSE2Qxu13lRXKbJbFaB86\n",
       "CjbvYFZ1jFNraJVi3AwGnPor2rDDHColXehBZo3KuoE1bYzyRUGDhpfMvBBC5ws3zS9NuNbhSyCo\n",
       "DT+d6bc1t2XDVmeCTNHXIjS9ZzTaiHuU+xovwC9bxGQ20aAAZYjOUNSmn6ti0RAbrEiyivT0DNzw\n",
       "sttCmpznHSZ3RC818TBTadjNa0A/xNf6iJPdYt6L2CGw5GCREG7z5EbDQiNTfuLen5+wyfV9GWdI\n",
       "vI5JzSbcnrvmROvMm69+Rw9lfvTqyE++4QAAAHNBn7dFFSw3/wAB2z54P3BiPHZY7hx099rvXKdc\n",
       "pAyNmMziUx/frKV1sQxm4XpT6jxWQByELudacxwDT5mO2Gwu15IymtxlTxC6b5skgMvdrEAG5IQG\n",
       "pEu+weXIgooHI0+Qkx3ru2+aHpitgU4PL9FsggXdAAABGwGf2GpDfwAB2yh6jRF7NACPYOhypJG4\n",
       "JPZsd/zIZophm0/mb7VCLXY/0A9c74h2PnYBSgb3iUKxPh+HnrTmXnzD17uiAD4osYLM/xAsljxE\n",
       "1WXtP3nkU47xhtXBMBuo1EqFUbdxyPQ1ODOEgbL6QPIkZSIDd6P4CTFiapVr11c7BrLIlP2rtnde\n",
       "vOVdBo6KnIxKUxa8YbZyOz4QKZv0zaEGbC/I/JlhNZDMs6f05YgARGWF8i7WGWTesondi/POTBZd\n",
       "dYydSeqBY456owKoIw5tA8vnIPXDQT/kYgDLKHplNmJOs9sCksvH2XrEWhm1ct9B1tIaZ1esUBJB\n",
       "RaLCC+Hi7BVweIUCJpB4qzeaVCCBQKNHR3CyeDosAtoAAAUsQZvbSahBbJlMFEwQ//6qVQAAxnvU\n",
       "yHSH4dQTo8AsjaLzAAbnejHL1/+6Z3+rAVyNsXErlgAUPnbwOPUsImh4av0+9uOpkPYZBmHcfyIT\n",
       "CHNRwEXB/WH30q9QQ8OFesZ3Tg1vyMERvpz/NDlrFLm/KDFljZPdekX9nrYbRxCgxrIOIjYoCkgF\n",
       "KDNWxLrllXAbf1t1x0k+2Iol+HoFpEDpkugxWTEZOpwiTXO35+5DhtxVmFuvWByrZxxzdmKQ8p0T\n",
       "Ak50QllVk/U40GZu+6VHWi28CB3IJvadeQMgam4qPRVqa+BaXDp7hucz6FK6BOxuKIKvj7QC+3m4\n",
       "/7nOW5Evfi9hJIJKjHAbJwPcYsXpnwIrztBU09LnC5YCSVrqDxHfhagJev//tWTpjJMMOSMmwG6y\n",
       "RtuTi+ZJjiLNn2p2e7w75GXQYSjYS+gbIv1mjf+JptkhTwUc7OUx8+kkvq0WWKQthPKANM5UC66h\n",
       "AX57YlHljKQo11GeWd2jF/0+00kMg2xKR0Oh0I4oeD31oQd0QsPGTAHd+MnOmlaNb3WEvmjfgT2Y\n",
       "9/JfFGlYmvoWRl/IkCZeVkH+xYAV5t/3MxDl7AmnXkKK3PTRkadfCU8lR1RpvzHA3tTEeinCnNH6\n",
       "CNmaf77ws23TFoSbtn90oJx66iHahXSiRWl8hKNm7E7CpZQ4wob//We6jEJcmE+QyHr8S9vsaN/H\n",
       "7V8jGaIR5qI0qrv+L7OBsOcYiOq8QpAqaINEYbBxQ9Lat1vHnkQxxQXdxEn/WKP8Dw8otuwYBIZQ\n",
       "PFMakGCOMfsUd+fOivFwBpFRzwsbjqIzB+Ch5LwG6CTwY3T8H2qfzwO3IFN6EOVUZCB188Q6UXX0\n",
       "vkuTWfxxD0K3h6h4tK8cd9C2cBOIHcf4C6tteiQmWuLCVQPVWMFIGRdJFEM9kVT/e+SjqHJaqj1T\n",
       "UyMUPahQcUkgHygVXsc3U31TVK+oEglJ0AictMGOLvkILPHDfSJYDb9YKkd925biFTkMgfBlEq9V\n",
       "IUUzSOqWxNbMADfgPQIi/RxP4COIdKntUb05d+Z+RyOtDIsHFuC7og5hvOhk/1F28HUf9aeQCPPR\n",
       "mslWwtaadq1LK6TkCWQAQ/IO54Xmi9rNk43Il1hXlgh7QZkq9sE95Edhsk6GdLYbfgSMpPBr0mvg\n",
       "Q5+LZ9j1WMjqkKhFDkimaqKOF+fJJAwfsIz9kXUUrQk5sTwoZoVL6Z4B7EJoY+kQvSL9HMTL61qD\n",
       "EMojAYSVZ7bwUdGGOfmpfnwyk3UDNeb9lUseYxUDsRYRCdGUpa3RKx07X2cfx75MILiI6H41wpug\n",
       "lAdTiGFpE0O41WFgSAdBT5vyrS+peOBxRx2YQ+cHMppSt3TUM6mhM250hKmyonvqOZdeI8AkpPzo\n",
       "DtG3wYz3lIL5GjsnkGlGqdJsDUMjtEmcfg1cCOLm22VVvauB5CdN4lx1MJtsA87I/g3N9aviyDiI\n",
       "uTUQ18GUdDlR387gfeNGZuDa2rZ6jZI9MRmQ50JknhUq07DCPHhkFFBqaQyR5w6b7KZivUfLo5Ig\n",
       "A+mXY3IZONqM+1SEXzRI4RyB2rSIZCl5ZkOBJn4gUFyvCkE+iRTpc+oTP4bryz67Kd0uaQrW3eOx\n",
       "OgaGx2+RlmavBg9MCwNbLAwNil8l+sLs1oBRx9wX3o43B7yc38pmGkSFV9y8QJnOQUykA81yuAHP\n",
       "3o6BIWbjy3RxNLrnSbXqDMVTewo9XnRUwweDBargMsxanL/Hk1eY7vs9PnYwULvNgQAAAOsBn/pq\n",
       "Q38AAdtSqBecv8//LIM1xf0lAx6Rrqm6uSab7LjGRWqcW+wR9BgcXMKl4AAsdZpyG1Z0tgFOzkWq\n",
       "6dEezsbyhWSLASwUn2EpoAgp4NqjWXNlcqLJWvHSqAJOPb08fcwvDd2fe15hgXJ3df+H8JZ5yBhr\n",
       "0ydRME4L9eWbw4X2fEvVykc7MpjbmRZjX+8YaOkhVIB9ZV15VXndy9p3HPl6cVyRupFjvHq0j0P4\n",
       "X/eTDt2tl72s1vqiXQlkL5eLiSwv2erWoOHEN3buxaOpD1SKQWQxVq56QVRbF56bWuIjswe3dmc3\n",
       "tgvIAAAC9kGb/EnhClJlMCCP//61KoAAABMDHquH2jKnDgAnIcMcyBqAym6vw13In8hOMt5Bmipc\n",
       "PE3tz4JTn971jPFozK72qWVh6HlURT5dO9rvoB8sxjr9RqVM9JaLTr+U90+dwfXLVWrpdyTRZKC/\n",
       "hhiatfvXOVRWA3VPVn3KoVLV8rHaZaDzfrGLJKrhd3jVRqaQxLP6Eo5eg8tHOkNMxtT3LGfuz66Y\n",
       "gLH6KoS4ZCEx6Y95urK3b/KePl/clZ1qm0S8uWJzAQjQiN1J1iFCPVqrYedHew9OdL475kjV1B9S\n",
       "2eQbMBzYL+ice4NcK2XbYQk+QP6SNSBAAVz8ZLC9xKgk/ucvREL+RqOsSsC+PQgQCtAR6LfEReIc\n",
       "ypfswyZ1rrm1yceY7x9dK14tH9yyRTqzpLyYtPV3Kxr3HjjISCCzIp3swUzLIHp74Z8wz6fehZa+\n",
       "06Sq201JeCuUlQBC2ly6ojEIULTLVvDsACqVSMo/bC/s+utSCHRnuzMQsTgOTJxya1fcpqcUKL0l\n",
       "KQiPZislrg0/+WrY/s1mTHsp+ts2oovLt+1FgmYRTs+3BbsqboPuq+TTQT2WNHGyHD52fvOGfBwn\n",
       "8tBXSScz5vNvwVPdBKol/eWMy3f/+2ITpoqlbiykfSc3gMGWLFaHNgW2h649CzVrknxa4M9GJfds\n",
       "Z53cz0b41thLuV1XBl2RrN06kZjqUFpVxtPOHU0a+cwvV+UMvgqFz0/nu9rp7VNJI9rE0mwRQ46d\n",
       "5LidlEBOsxIy3ZkIZWR+n+VZte/DQH1tAkX/nas1bvPz8qyponfKqHr4QYpQ+AAC/P/3yamCBY64\n",
       "EWfOF6RSlmYwZbAMH+buCxUmjzM03GyHHEiQVWH/PPiuZI0theG/xFVb5WhhFscoRg1IHR0ZHeiW\n",
       "EPfZreSyoo9vHeFAj+XpIPwpw5goZ6pF2AeB6yL3nVsbYC2yzKzFnVG+Qu55c/sJfRva+3DS+DaJ\n",
       "dAynJvEWxfykFvu2yOMo6CleK1rAEH8XAAALMkGaHknhDomUwU0TBH/+tSqAA6m4PtyJe4gAlu5T\n",
       "odzDRoLwA7ZzZIDGHbeC5J8yU91krM/U7X+8luNbj0M1Q6gV0Wf3L2wUX4DKvtc4qVZ12Cp8MAtv\n",
       "lYlvAhBa1Ypp2s8AMRVCiNautbrvI4qBIfix18id9iISbPWN6hGNzIBJh9+iWZ5Ay8wuN4IHZ2bE\n",
       "lY9vjp0xWQVI8yms84LYiOxHZ6M33qPoToWpJPQlJWNfXFtByYgpxEwmo8y2N2BPSjgQnax/hwCK\n",
       "WoDvWWzK+vGpwNXpPJWHB7BJMj7UyHuZFButROxO3wBR/K8c6w3OnJA6QMC6Bc1IQqDz0Zjp2H9p\n",
       "UKUqZtEW5gLVammYcYA1HjDUSRsPoaHBTuZsPXN2ZKhbWSeDf5SLzbynAltb8cry8pS5dd3JEKkj\n",
       "E9/kEM9cGGJ9K/ajrGLmxyiNXn6FMTBOcISd9v4bKWJTC8NWVqAqRxZ7+2OzKXGFAAocrA33WGme\n",
       "fRkF8OVoZ2iYz6giwhP0CjMqECg5CWay2Qh82r2bLOEAEA0sTKd/VMhGYZkCL41AkhSsVtLRfZCX\n",
       "JK1pYW0uebjp8lQZoUxSxt5r3E7AfqmbpHsciJXTx0uUAUAOPtOlfmkQBS46uu3VvhMZtS5FPjay\n",
       "mRduzMZiiMtSNrO7khnbAfvVYq9BXo3mzosfSk3bUUODox1qfZS8Rz62ackR65Lo64XTABUjmOns\n",
       "1JTAdJD8q0NOHO0ZWspBeMfQa7otAAO/xsGrBgzS16MS0k1e3B4dLzG8rDc1i672bALbClepyLO1\n",
       "n1G32IBt6J1YwR8cYhKiOaxFx0aAY6pthKtkBnToeKr7ciADkk1nCaloGxSudN6wMuUZYGy43Y1W\n",
       "gTmHuDjuD1DhV3aPF6owKLdkX3L1N0NBUJyOCRrCnEmi3yvewybbxD7w5reNrX8CO+ttFKelkunU\n",
       "Xs0h7V4lonGQP1QXz7urbzDFdJTJxobxTzKGpn/Y2Y7wrwh8LxReMsini7ke9WFdvMe2UNCUE3pD\n",
       "77Txoso7PYVJ/mPIwHM8jmNC53ShfkfBA2vO2NcCKtKCjKn86SZc3v602i6paJyoQR8WKyv2exVw\n",
       "CnSLYnuODQynbrN7J0XD9PizEgUDeX99m36gyNM3Ms/G7rl0bNmf7EvrT0y+JVpYo32mF6ha8vqa\n",
       "ncsoEh/4jpV1FNbkRLrKKSUXKw1v3xTqt+Qjqc2M6YuBKSWqRdpd+rS+nQew7de0pu/GTrJEXwna\n",
       "e6EToRr4hiV0tdOoxR9ewrLMpxQaKOZMHupyrTwmV+O10PU9l0lV5lX8ZHIYkOcydCB6g3ibwuj5\n",
       "rNO73NYpcW2Y9J+Ff6ZjLMbLybsEppLlvKK2wUNKkHKYD/yGb09mHG6h2BSBsgb5fJ3XdGn1I2Wj\n",
       "g4N68TmZzJltqqjVj9Jc7JReBW+RsuvJi7Ls0mzqTvZpu/xsICzuMkEqr4SosZxTR9RLojSyqEHX\n",
       "gkRtU0mxAeefs42AcSCEEFSgWs+C1cGZ6E4T6nv9eP6GvT2HGjmh68qwm4DAzTq293+tBlQs4rAL\n",
       "1za643WPQezTajY9DtEtKFb1GU6VW5ceon7P8zvhz9Xpj/P5BodQ1c7zKGO0psSEc5nTqMWhJJXE\n",
       "cV7m/ZV1LkhDP0jltYHhsVDCbW/q49/5aaGzR7b7OTktxF9eJUWbML8Ool32XXdk7Zky5JFyXaeM\n",
       "sa6I94p00A8ungVN5YqtOVXS2dDSec+PmJEmQr7w+XVB4tdt8eAgqTDX0aovWgx8ivBN5da46uEY\n",
       "mkJvsMltmE291vKsBiW3lVOHby2pkgZFy481qTHuF+AW0BC2lLtJW84r2sz3//LZfDFNoh0fScuu\n",
       "pqc8Na1eKH0mMidQrtm12QDuqa2muFIQpeICDVhVIMgel7A6/GCCr9xHy6Uly6AXVuQ+3qDoC3Hr\n",
       "/bTQsjH+YGoONaX0bfMLckPCmPYLZ0DVtamSDDOum8fd6wkRTOEre/CyDieVER3oAQaiiXjYQgPX\n",
       "iMywA5BnJ0OW58oYjg5XEnQlt4d/EOu3jtwa1Gm32APIaC1+qRTjL9f/y1IflrhUG7wIYdhh/8kF\n",
       "sqwq/yCOTrAMg2R2Qn0EgXMkoeuj12v8JAkfZam0FC87OXUGVvh78ycIQRWYD7ti6nrT2jvfWzmE\n",
       "UQEaYiuW6yxiX6qoLqZIBQvDBl5uxR/+zkzbkj5yHHCfqpwZZtR7XzyGjukV7cd54yz+VUQVbqO/\n",
       "Phi7l8Jvsrb7S4Zz4MnQu741EVrb9BF3UQmSU+Is1U+4pXoCh9Vl3i2RWh/CYGI3aLnnNfkToQYx\n",
       "8203bi1YcstgRKCoVmOGWbc1FiufI3mzt24QcYXxge25hqBEIBlKnYrEd0zwTdqAbOFhkVsdrkuF\n",
       "LzPSoJEkHwDvfKF2KGnWOWEun0sSYLqbvwXaRJqXNWh2hehk6vCV//4UnP4ZQnuaifoHYeRQT706\n",
       "NdkhlMGgqb24Cns/h6k/y9oAP/+IoPGFKbXWJKnaiFQXRpiVDC9RZk0pCo4bPzipOX6NOoPR5tKA\n",
       "K79KtgePdJ/NLF9vrwKQzhnXvQZ4SOpE5aRHliHcmxTGJ7mbq5l1G30O5E7NJFUl96aNowpnpFoB\n",
       "YHEsToAlg3cAGoPgZ0GjXCh2EmuF1DKYKdUJyHdXyz6VWsHWvBf+FyG70K6itip/+DQA3PXtOVZ0\n",
       "byg9vvXa+BozWujhFzLqLpFOcNC/ZlQxjq5wqOh4zxYWwcaaX+hg0gD1mA/aJ6FmhlINuTzrgEWK\n",
       "WgfgHUaqk/53g1olKYXQPDA6t9NKCGI+k8iOQrF9baWqaVWUyoWOv6kU2/BWf5TXl6Mr51qd2YdM\n",
       "tZdWBEYUwnDYxDSNbC2xXL/VxUSgUv8Gc3Z1SxwbAGlHXm1ofI8eTcICMkg0Wg55RmUvL8HjlDRV\n",
       "74q3OE67y5MydQfoq+ePHqG/DhKSXu8RIeucwFy0828W8a/sSjaSJ85TTYRKm7bikeZehJm1kjmi\n",
       "hGXIJfEzcXnNoJQh+CXmTtD9zDJGj49bWQuNYIbMVIs40qS71ciTsXX5V/hES/kUpHVSapOyEoAy\n",
       "SG/Ro2nA4DIRFi1W9V2I0oCut9kuo/2UWmHAcmFGLkdHsF4J5lSKjyNGxddWmLOwaulNMED19z56\n",
       "Aqv5QRBqiqxhSle/DK1x6hBYpagYBPxP5m826XEyfohfJKXmoIkMxpF3FqMYsODS4vzYHYcgC+23\n",
       "tHDsIMA00Mf3m6regpDZucN+FoLFyYHHUe0YTQhMn2xjXF/h1mHZ+HWV5JK3URUiiN1fMMfuuNoZ\n",
       "8PGjz+z6zqocHgAQ3vXhbVr1jYWHx0w8nYhnNOMPDnLjEcB0Z3K+hHg1lLvyzoRr2aOD0LSoI+BW\n",
       "uDwy/2ZnUWyBnd7XpwskVzhQookK4XAc62jczu7p5fJdXs71ymVqmMvBQFsDL6KYhcw7OzDKDVXv\n",
       "4zzTs/HUDDeBVFImbARag/sqORWjGANLc+9TYyEWfsVsuKBKbEOE+tr5fd0OUVIQ7ojieFegyLTF\n",
       "RogDL8ovR61HyIbNJdz+/phbYlj3/T6ZfHrAyVHyWmC1plEhzH9UfPe+i8ZKrifzBaOzuoxV/sAG\n",
       "UeVw6GKGC8KH+7BMijiJ+SbXRF7R5sgOdRS6sZiLjblTBPXnWxnreWW9VsAIaxWXg3p6T7hVMh5Z\n",
       "ezQB2FqYUK22tdjYhUgMzTwixVeInkYsR8xzzwUxVDfc9yo0cF8xuOyhpW2ux4A/vkeaPPUiQyBs\n",
       "6DOXMmfFngE1jDh5O2YqXHveSEtpFPmZmlQLJaGYs+iJj+iPmcMqq5SGP8EAAAEgAZ49akN/ABR3\n",
       "nyOc9S+Tf6fzzkk9EC1dhtnNCDNXcEAf/Z+Lz5kW/RkqTJwRJmR1UgC/HmWQ9R3GVUJpoPUG9uQE\n",
       "Elerc9n/5eEgBxjxBkvbya6rH8o70lsLgFO9RdqoztWTNagyOuKPgC5qnhsDNwX8z+Aa4xlNm5s8\n",
       "Ap61dzB72F2TScLn6ukbJGSvK0ApOGVAzF3NZ5kJQta8RXq72QVKAjiLnRrKFkGeYa3nMOYoPzO2\n",
       "hvjXm5KArc1pspue2kg5pT04GdONwUvJB4//imRXBpWx30LZ/Q4s+PqNXMHWStV1vlf5JinMh0Ew\n",
       "abYrZRArhdpx4+wmRCZKNaIlsWpKTfYCatCJO6MtSnpFckkYy7CQkHUQ2egWmg57SVtAAAAKH0Ga\n",
       "IknhDyZTAgj//rUqgAPQ+V8ALYRdJUgCZStUkUTlQE7LT6ozW5HMl8iEqMkMQP4oZ9VX25uwNIbN\n",
       "Xo4h2VuDwAn01WfeYeTZ32Z9KHgfDEII5BnEiUQZOg9c70a+5tAHLO6mItArbhQc3jA7h965vVgF\n",
       "DuMsjEIXlcNOirPVNBaQo4EnERGBahJ0xcsNCBeb2dMlqTzc0PJosyvnkt4fpkLSMS7wK1JYXicG\n",
       "tFaWZ7xXayxCowz3ToLjizidBr1wyFsgy0Kr7DvdBJP+f7VMxYna3wcC/LCkZmPgDY6t7k3TKqdr\n",
       "CxNlnbS6TIQa2xxRp3rx3/sO0Q8LKoBzjltSO6NgUNa5GfBF6w0U4MJg03zN8QjIRIfZdxxUZQo3\n",
       "daPupE6DX0HXfWp5w7XKm64A97QQpo4GMCoC6t+rJF4LbmSBQhDnmc2/tq8MT2FI/oP+jeHEuS+q\n",
       "QyxgKWdGoj4Gp82/gVO/OoulL/oX6UeMVMtWMP1Dby+ONwUkf6cZXXV98WQe/IlIEyErrqE4hCye\n",
       "UT+gvqoP9XrOVPpIZFWPde+bNErUYMe8b4DHxLwD5C8ia3Mu7xg9SqyuYUM7ddyYL4Ba0pDX9ZIc\n",
       "oIPzR++F9zLA6BOgNGKerInEbinokCUYxfuumzkc/J+cXoC5yLtpSfC3GxJaJ11CHn2zkSLKlOwm\n",
       "hWkOP/mm/N3cd8dWxFSmpp3vjcZid189Qk169ZtTil61u6sdQ6P8KESGM9eUl8HOWCedtqOywJ2G\n",
       "ei1IME7Iuz5PvlTcJgXfMsDDKlhHyiM+siz00tpkvQM7qufOHFu9inBegNqkoXBhUkRp2xZme1sv\n",
       "nEQIItTHB9NSfPJ4Py5Vnm2nW01h0Z5J5nNgrRyBahRnK9nqEF+ua4BrAucxivO2dBP7H7lXgB8E\n",
       "4lkL/fNAoaK9tiHaSbx/2CKgeAKV1lfcS1IAOuyslNvPezLKdCpb2rS3pgfRUpnIpgAKeCmCLoFk\n",
       "WrUiIIwJwUiIabUliZfft/gI0fTTgqCL8npZnQ/cY3Yi1PD+3CAlu/abujA96dpQD9PDsO8eKrdt\n",
       "L9OoggGIjJOZel+se1ELT70ct1Jpavj2RtoTP4ht+9HGmrrRWIsvwS+0Pt1jiU7oy84BbTct2Ncu\n",
       "C+V/p6l5bpGK9mo81SVsY5hTAMttCMO4PC6br+JZlks12YImEesxFNibJ2RLlkEZ8NVsNN1L55iH\n",
       "AZi1OcHf+HeVPwGub068a4ijD9jQ3JU/xEZF75jmXj4J+Bn2n87uqUbpd4b5Qq1sGA2S0Alb/lc0\n",
       "q78CvJ1BaGdHcZqrCNruurwN6nyqNwkTNFCnDWu2ZoUYkaARPRolG6GC1b/1Mju7V7xwAFjKubtR\n",
       "whUh5H2kJfMwMdOIVtGvZXts75hlKysfXjIcPH5lgVDsxvxVNjtyJ8DqThOjXyjYYeDyuOYH3DFo\n",
       "BUYOXOjhlPECrWKe77///9z3/7g121zB3caCnYlnkE/rJO+avmmLXcgZNQ9/yP006zH+GCLbdT/j\n",
       "3uK8IR+2H/nvGI3C34iIQ0UD8fthQeIKSUVDM4xnQulhZ3W0lxNFworbP0OvBCsXhkikpu+XVT09\n",
       "nPVOW/IsvyNur32Kbh5Rc9hROGFd9+K4Cwf0xLe/zR3h6FfqxECcIswSmx5V8RGQdK2ttOI1EXtP\n",
       "pdVoOs8xxEFlWtTpRDE/Ybb44nkmFyWTHqtMYbwcuQ+QtzELUyyN5BbI+M/nOKDNTpBVdpfeuAr9\n",
       "/LhudBbJrSoemGXCCSWzBSQxsvMBtmRr1peHiYM9JhXtbaDxAziVrDvs/2ATPTU9a2DSiygKXLym\n",
       "Krx8nzdKYRPsyG+dRxWwVmYoHIupdXDroWxEocXLgJvlf3xuXNO8e39vKSfPPK/lheKmmDGWf+Uv\n",
       "BjKJ0oA1679ibDIpCdsMrs5tJOa+JvybL7lvN0PDYDsm86jpv5z3BKsMVBoWH5Tf52SsWqRzvrBV\n",
       "u9RvxfKCrUrK54uDPJN547Ieqjn3V5bxpTcAPqxeIJl0L0B3mAR2mkBjy8r1VdCYCOlIKiLv+b9m\n",
       "R9YSHjqFSjsFDIu/TP45Up9gCG/8OU/nVqFwH5n5ti1lA6ZQh7zUe2LtaC3d8tnVdFE4QqHuXRkx\n",
       "Yp3zom/Xz9r/KmvhO+/GGRULbsm69zPk8FUrzQVCucWIhMX6dQKB2LOyVpu5G39vePLyoAuKZ+Bx\n",
       "igZVWW6CwyHoGPj2eNtPhmwih98pAutqgCNWNo/QBAf6IsbYgEMwq766ucdGNvu5qTlMtjXjGP+u\n",
       "ALjjaQ96bHTwcWc8oHBx6PGL75T+rBzl92SeOB/7MU6kNWcJiWQAjM8iQ9hOMXDRoVd0xNe2T/eJ\n",
       "0GJjTOX9x9uGSZfpmXyqn8PvA2DHofmh+jRWQle4fTtLPOdW+JtQfj3pXmiibQPw31pLPqWCOFy2\n",
       "RDr2pSVmIBUVwRqKqWLhza7NHq0pMTCDl7dhAqME8e0KdXZtTTv2MnvKDLqsDQAgT8NjWwtodRoe\n",
       "M38RPw2RFR7R3kncOqCTB1s8O01eTRJa3DX4jtS9h4pRTU3t+ksLTDJFyMdnWt+TVw2dB1WIm81E\n",
       "f5BSjKfeSGDyRPYFbVXtduVw16M2mrJSPA9V8GrpP6cBx/oXSSSzpOaChSslAktTMlHt5CVgzHkm\n",
       "rQgPhdPqSuKqyTLEdkm1EMGfpB+WkhaKDcoAykBBhv8UIMOJvNJq7p+tUxG+hJupyB5FEOMvGeGD\n",
       "3FJgh+vQGcyV+AeOM6hEgDWpP/UNJ6c/kx31jM/oDI9CzVBn4U+poRQDvlvXTC5wiWFHH0b7JRwT\n",
       "E6oMdypKzyFuE16zh5fC1NaSjzl2N2j3KH+aN3buCI3KtjOdewDliAdv3buZWYsqbh6yQ/s86we9\n",
       "cFCbc8+ApN2gnM6+c9HXkFWxZ6A7L9a49+csYsPpjkPXrbTAuN1UNhosV6rUyA/FIAGO5Y+NeNxD\n",
       "TSXfFTDVWKGtpQ+wcEAFVnc9psJppwqX77m6HHz/h4vzmyuEYsn5QQEQQP/PAH7AcRarCloW7GYI\n",
       "PS9AZOj902v5JPpsAX8ybqxWW1Kiw2Y3FM40a0v4vhu5+blOap+BnQSVjg3iXhh4KySeTsuXIBiu\n",
       "uvdndFxbAt9nqJ8JD2FxdQ2IRpls7goN0anJTT+qzQCkMIbWbHSajmvmtFnJ+R7Nlp/tqPo7RWFB\n",
       "oCoEtHisg0NIr0U1PQCzr2X0xJgZr7h7vXZy+SXJdtinTEAVibET3BE4HHATYma9dFXG0zGFlyaw\n",
       "eDO2Dp/28GeTGGx84nvUZB+oaFnX+I4z1FeQAaoSc9Kbc4G+/JDbN7Qa3kyvBbb8cQARY/mfjsof\n",
       "33la7Z3ijQgtn8w25coQkVWBupwc46Fp7MNwMwUFAuZb7iYV3T+y2QsKJE56Q1LcjXEF6JaHVSX4\n",
       "UFXfz/3CBnprI0wpKHqMqbgJKLgmwwoIAAABG0GeQEURPDv/AA7KgZukBfiaKHzVJKcFHVQ5OEzm\n",
       "VGIHgdg5XWimjxWmg5sSXCGTlVqpxc29oAR2R4VWOJCF2Qnl3UobAeLFCHfw0vrIKNQo5DFh53/O\n",
       "bb4WEoosJwPcQU1kwBvUPlmYK6NlOE0e5yIJjkrHxLTPIMnYr3iU+2NrMe4Tc7nPZ0PWzJEu4K6R\n",
       "x/9zuQqFIcE/KSzzSSRvvgJHr8ML5Vy0rMkomBo7AkXBVzk0CXm/MPYE9KcsY5FpUSept4WWBz3m\n",
       "tQa2Obys/rkzrVXyM+gD9uDG70XWwyd3vWdjZ3NtSDQme7xCcAzh0efs1+tcD1lfV1epfMsGeBqw\n",
       "aiKdfa3MgQj9+hNfQ5aGV57xHcZ0BJ/EDeEAAAHGAZ5/dEN/ABRzujO0FCmM//MSsE7SuhCkIhGE\n",
       "Ae9+Khj7Ssf57ZRio04ABBPglNYotL5i5gq0Q51mp4LAoFefXfwkA9S+2/lNn1RQlEjryjD1oT6k\n",
       "p1RIeL387RHMH0L8mV4MjyKOblTg/aF3SD1qfv/o1rc1mBExZnvIZMDjaO40DB7BsrTmArQfGIim\n",
       "qC1gBHV0kYyOpodFQ45KpoVOwMpw4+xWpm4dJVCdRiaPLXh8lRi5VDqXO0qigiQ9jsOJCQYY7iFo\n",
       "D06EG4tkBASL5RtXeXroDS0UmZZq9KDShqb8JDmA19a2c9l7IecpSjy5vKQKDre5pfPr+nnbDpqe\n",
       "n6jRh1I/9lOPwnq0jfeaKkENd7i1zjnteINirGSALqu3bKOxAGEprMKChQhxIknjreYpylchT1Lu\n",
       "ABCyJj+VhPzkqFjmIkFuLXSd6H/Q0es/sc2uVt1lDjurUX8etsXToClRRCPpUgY+Wf5sITMWQJ+l\n",
       "ZI0vZzKUWejnkIW1aSYBTr+Lz7TWAMFwH+6osIiXS+aiv34wI6Vok8LpCds3I6JW8fWylEC3NwPc\n",
       "zdDD5BkEJKHhXjRbgsT/8oLgJsvFLOr1IfAk4AAAASUBnmFqQ38AFjC6gA5WgLd6jkNf0LNJhn5X\n",
       "rcy/xj/0ZVbKJIMn9dHNocihoLNHnfhUsm1PqrFMAr04JBwkvzqhe3ZACskFr4yny4q8Hxx4ZYQy\n",
       "61kMwRETnOTTAUOXks9OPoGLwT/FK5TuI9SPyUmscYwaSchHTBp2hUEEYbt9Pl2rSRwVPa3BCSCX\n",
       "2uUvQqIWNY2QjsfFWQMnazqesRkltDSwhtl+rSMkPiwc4dPoFZest6bifGtcQ0JKxjwfpAkZ49i4\n",
       "la9bZA3zyg1dJKbdnNZ3iDVCvqn/YX1GZrrbREtksx5wM4gY51wRi0obmMl3TmU6bxRX2WZoxh4q\n",
       "QCjD/4xwGmLibYHi+HGocvj52x3wwssId3Ex24tRLUJNzuSc2aAEvQAACbVBmmZJqEFomUwIIf/+\n",
       "qlUAAF3G6lCiPV4ABuxYvZiH4Oj+9rVB+Y9lNqBznJCj7q5uizkvguSBJeapi6eyLSXCe+v3FgBz\n",
       "h1tAPA9DXz67ue+r1ZgDnS5Gxz4XPEPdMW3oVi1BlPnymZ0Wppf/e8v+HphfsxKOUn5FC3omA1CH\n",
       "ALSNNmtv4tpq2oBfUEarO6ejxjXR0KK7jkuq5c9j9c6yRo128LUWogWZA3ed8sTg0NwfVw1LCOQr\n",
       "gQ5YNxQUjTnfClJQkdSbjhY+x6Ti9U2l611ebgAj2zTkSBhOWUUEVTro870DrQyhHC/z/luFZ+p3\n",
       "c4bjSkHbJzhNwel+ViNv/WwJn6VBY9sfS3zIOXV/UyRLhe0X4eAnbV53+NGIDftE6eP/UvwkEAFN\n",
       "n8hFRLXT4De58XVqnvMXd/zUOgVeyTpblhlqU9gRxLyiHapPIolUJ70QCrFZyg53X6OpmK5rnHDw\n",
       "3vTv7AAA4mKkb/Dah8I+504OJlT8yIQ+MiXgGoLnmgSHJGVmBy14CdMSRRclRAqRcvS9h51q+0H0\n",
       "Z20FF/n7KHwjO30jYO0TlzwY8FSkarzUI0cGChLX8G+Dnt3DwuMutsa36DfGr2DRgHpQ+9fIc5Qc\n",
       "Z6AdjH60zVNVsNZHm2SKrV6zcT3ADmTGA2++H/5TTDDk8I41Nr0kkLB5/jcu9ZHzPMmCY+GDaSWG\n",
       "arh1W+I1KRpD+DdTm0hd1OSpH1Zw0UwZss0pBE444H14glRkRxCrqZR+/Ey4tTBkD/hsFG5dUNos\n",
       "jF9yQN07ta2XnLr9VEo0i0asJFqwNcMhaUQobY8WHUfYu96WHxI4JN5k9i6YYLlW21OWOHODH1SF\n",
       "QKJdMYLQeXX8VwqMhz/Ifb2T1tp08ZKASUQ4xgKXfDPEf+nQvU5Gk7t27nmI38/RpbzuhmDNbhOJ\n",
       "7jckfoXLMM81ApuRfp5tk5LT6qhMLAKEoNGO6WtVta0/+NhOWhi8k3WnDqo34Bl3KiJ6Vr/WWbsh\n",
       "g6QUTsrHnWKzditj5V0xTNF3TWzPJ2J3Pe+5VkXHUi1MWqhlYc4P3Dzd/ijXoe2Uw1lvu6VgfeMg\n",
       "j6XmJ5Mosbojp09UmbHvx7skbfO/rnT6W+rF0da5cjugzRCAQKu2jxu+7sQryq1XiN/+d5ZCMbpw\n",
       "yGAk2OxwmPwQkWEnBdj1aDWzCUHv+fCapETEd3Lxx7X1YMRAUHROKcMFW9DEzIhVWk++LgpTP4fe\n",
       "rz4vbXc82cO4CD8fU0KmOAH4mC0yohCeWPl7M0iv+cVuWOoBlAcbhR1jAJl8mDYIPZoH8JdY5nOS\n",
       "QLIKpMBgVpD0/TbG8KywSsHgc/fhm7R/d/GjEwxZ54jLVBv/xEaY9ejRnb5N+vqtaTknPvytz+8h\n",
       "jEs1qOYeB5ZAy4q2G8JwghkONdTY1OOlHGx9g9KFjsQhvTly7wCvyAEKIc4CsbqJ/zXOBrGSU4jP\n",
       "RGK7C2RakQ31g/oWfXHflgNy9HHzfNPWIOBPrRkIOWQM6GLl+uXo43eBTdMNnCn+gv9lMrRb9ovd\n",
       "siWmkdQqEvnRb+aC3wJRKbZLRviYKFfCuXFB6Gbc9i/yHn+OV7/+axjb6aPmuIMl0G8sUUEdimO2\n",
       "fYIKPV3FVDfjEw0j9rS08gahuCWdOzC5MCjHWU70wIZ/AnXDrA9ei3rY7gT9EHX4C79RSmzFrR+P\n",
       "vkTJVzH1Y2N2H/v1xC4eZSQ9dkLoaEXWcdBprL25PP5/QTUq0x/2yiezQTqKgNQnTlcCsvFyzA7F\n",
       "DSdEam5OZOSVbhoYeg55xStb31wC6XJaWGsJLG8edmIeiaNa0lB/VvWDVp29lPd/gavW8fzBBcVR\n",
       "z6/qpFLh0L+GZPo/R87NGvf5Qr87NZX1cfRNkw+9en8rX0qNr33kJFg7hzM99ihpsaScxoPfOeUV\n",
       "/+ZGECSNqwoM3J/5imtADbIH09y42P5b29/7AGVMEDOyXoJFK6Znl1mM4dvqMDfUzTrfiB2jM909\n",
       "tVNiFXMJDsjxAc3QJSoZ0dy64PrB1GAXY7IV0zSa1WS0sSdk/34Ew+EXPqZNsgkuHHlifX3jlP+1\n",
       "zxabzvOLCIgPRIc8/SyByNsWqspVv6ppyLJjUIydH99G+6VyPxUpuKf//HkihA5wgo7E/kQuEIFQ\n",
       "P7KwLtd72zkGzrES4T61Xv7T7sV6/3Kcv4hPi5AEE4rdrDR5pH9zrrfnUCQWBJAqSfB6OpXzrGlb\n",
       "mEgQrXdQ4Vf47z6KLFJ+Twd4p0aF+5WRV9gCKGjRTNPhOrihKuHiy60hXYgNOf14f4gNjr/P8sST\n",
       "ZyUtcNvvRRrQlAhlUacUgQUp7jc3zxeAMwNOoVvGGhFxiGsvFVLh5lDjqYPTYkhLdiCYb4C6KsnD\n",
       "5QWTK/i1cTeVPGPDIfr0qLHQHNl7UFSZylFxk4RHRmTV7+svSwHbLO8ik6oScn4IGE+qJVb2AgzH\n",
       "hk6GUkqlwvJUrJ7dfJg/qZorasg2JlMBflVOR4qHsgv4Sor6zuDgF2flPmEX8US8LuCAcvrxGJ4P\n",
       "duS1W47hjXxN4+6YNnYWOpzc3TOKwgb2tqGaKbj0msTdHGNhtSQyL8pRqc2XaD3nUfrZ+h9TEtMZ\n",
       "gnMpm9xD8Xk6LRFNy1qWYyPjVhwrOMmVP76hqzS+MMi56bf65Cr6sPH6xHZQw9SWE+yulFc3T8un\n",
       "AaClEWuJw/zpLOyD7jQcfgGJDHQr3AbWfZgdBs4thh1vS/EHlqCE+5QwvJ6YN4I//e+BhN9IU+qG\n",
       "3in4BKD4at5FgNHjmAFyhFDnYQ0PUlmiQdgw2EPn42rlEy40nFkcMwU3rieIjQsouJVdxmYYUEhA\n",
       "a/rKv2xz/5sTXyARdy1XMloQvZiEYkYpFXxfQsTWRsqYjG7EId932aJ9ZOa3P9i07BTLVOmmFWtg\n",
       "/W7ew2+eH3RiqsBSJ3J55xjuZ+bqIl6nhzXufr28toplhPvoVlWbFbyXYLbKHZUr02SPaDio9REP\n",
       "mqAzVmtC2rBDbcm5Zyp+2uvXU8tzVPn9QcSde7RbIzYnyz17YODTQ9rHaFe3+ToUFU2nZk7o1HD3\n",
       "7JMTrzfOjKjFPFW9Nd41zxT37PEHp9JetgNWfhT7AL47uZLBu8UDZz5BoVkXrfdoYOZFU5si/fIc\n",
       "VfBfud1v9PHPfkPrIGD8EI9Mx51U3235tqhrcoyoFLVjRoIvNz04PZ/xhnHhrtO7ZOr2JoBO0uPh\n",
       "2Wbb0uvkqHDHLIAHRlpQyRNWzcGlMyzHEe+QzqtFQI0lztQMz0jwNhw2sHxeGYSqmlvKD9PxUizH\n",
       "1+0SezAAAiSsgia55JncAOs/O06YAAABhkGehEURLDv/AAAIRH9ebY4S3UIZpaSFUVs23R0yVQp+\n",
       "IRhOV/l0AIZLjYGGZxLRjeLRgc0r9I7wdfTpYqOIE96mvvxvm1Gx8ykmh1s4rOqsYCDba8z2aO+A\n",
       "idMkUgj1re1zcISPWFF2XXE35uP37uXBpeVlbGI4FvL5lqsAXoUBHSgea/TyGkGB0E+92xW7fzhn\n",
       "zeKZIRevvpoQgC6kLuVcPJBZ18dzrveCPntpujLK79UXI36IU+lpu4tkrnjIWYPL+QpYgGIuziQz\n",
       "UvjfF13ouKe67IbK5Qmtlv+309OSKYjdIJpUVpq63ZiauiLqFhknsG6PFoxo9U5VpkrYhkw7soz4\n",
       "etxwyJXbsICnI8vBAjr0lGcESKNIH+Vpq1SDQ1BURFjSfomHeLYe/pFHKRTEVbMO3EHCYj67bSyD\n",
       "b+wH3UcteXJdG6aPIX3Q1fkSdpl3OUqwNo+jVozESaspI5IiqB0HdRx3UjnoxLGRc2P36SSJ0bvc\n",
       "RgMXnMLWVCTmWL7aagB6QQAAAUsBnqN0Q38AAAMAlr/KIARldvt4o4VWJa9bWp7xISnGLW1iNiP0\n",
       "FiSbC8/SlUIy+cwv+kYvdNJrbPK9PUv0lKZ6PrGm3sdT5GdH34/02zGCHoyNMN9k0crqOeaBUNHS\n",
       "4VJCnI0p/Q0PHTfhMMwIy2i9nwfEMIpo/RyFOX0qEpdMbfcJ55/9Zd0sL2zFuV1+ppEjO8rdenrX\n",
       "bjR1Ig5Q1tY9PMfWBPj0Rxpn4bqIvl3Crk6/YLrmxXaq53nEjmhSm+WV5PeuxTHzvf9ytIN0qGy/\n",
       "Tv1umGRqWtttHMKCRuwFCruaEB0Ik4v0Ao/S2hab0EUORc4Kp+V4j1T0dLrcr8p09Xd5G7p5joSE\n",
       "sT/DPtmBRKh/0DNrEpw4s+vlL5jj8ZFkztDZHFhdwC8GpWGygc0d4A2/bfTZhrA2jNEy6ZGU7FXu\n",
       "tMtt91+0AO6BAAABSAGepWpDfwAAC/F0mIK7p8m/0/nqXwhm9OWNUXMORI4NlI4qiczJppYJUvva\n",
       "dRXrzWKHnPCkxbqmM8RxywAEvBX+a+PN+ODwAVOhr//EJMvHCIqyqZj4VBxaefzuhlPZsQkqoEnq\n",
       "30VkN685HfN8VF5XnZl52ZnqPdBTJ6e381fBcQLr9hfyDLzHA13tNcpIDTXn/bzH4p9r9TlkwPgo\n",
       "EnegTUV8IxmvJ9Zs+O7aSXVaeGgw65ChzfbDyIz5XLH3RwDlY9oWs/8WYB7fIqLmjEGBudFSUsSH\n",
       "AUW+HHfdruDJS7MjZoJu/yYc7TtFZ16zruvaF+FBetVhgd9fVmvAOXQpsjHO+Vthqh7ZeuhfHAdT\n",
       "EylrqnlRY3EI13Kz3kOdqQsQYWWKYMg6qDs7pHnqEbHmp65tGAv/Kmp5TlADeYNpWTUAZoDAR8EA\n",
       "AAjUQZqoSahBbJlMFEwR//61KoADGbg+10z3yAANnJ8YwPtPfElMXAcJTN1zCc8pQjSk+Bp6gTuU\n",
       "dfHTruYtAXXrV7hHp7tgDTM7uqCtFjEcXKc4pZXb0NJB0M9lNRY8z15lnXwiIqSlVhXAgLeQJwQt\n",
       "ckFy7KIR5dwUlQ19ryPG6GNW5CP7ALAOSHIHThdAipCPxuWaOn2fQX/+1Gus/yEcXm8qRvNOOC2c\n",
       "niNq0kMBSyWXPgSHdaWacbHqOuUsF7d9DRCVdsfJacsZ4FRALv7wOfhQgQrp7txCFK9+X9i1664w\n",
       "YfRxf3767/iiTkmw8J+xrmTiguYLuiyZLxcS30G0qZ0YDIS+jtaYYhQ8zRpEVb+0l2K0pxjq+Iev\n",
       "k1nkWj98QmuL/T3LbtRmdz2tzrz5KkMII0gTHr1oTfq+VNFvSEYWms/4g9paFqVmcmCF9m/veg4c\n",
       "G6beXn/YrHAuApkl9GpwPlrE2Z91IRg+f38pwRb3I1Q5Q5tjuh0BlyWPbv5i6FPm2q8Ud3je07bw\n",
       "fIXW6/7cxVeKOUBns2/+lAE2r+8FpX+EIu2eITIuTF1KWhw4poBTaazPpK+aHpev3d7bblSBpSLD\n",
       "w4vD1kxat7xCttwHkKSWoxcLls8RIs3/ABP+DOJInz+RY99ECZTmkTFTyj3Dh7JnCwZb9H0Olj9q\n",
       "XANqK7GoAWyCc6e9beTsXk60Cv9SjX7BXTX2AOz7pZPqzNHzo/mo30zgztCCDkECvybfjReDdRH0\n",
       "4bhrIOnOJ9gbLYVvKZdbZpY5LnFqiKJ7/5fJ5d8Skam92D00jBYn/Yowp6fyzOiAQKkQRV6EDJnT\n",
       "oc+u72U65AIJAQo33FoCCpvTKoO5JHNVFj5sTIw3adN3m40aTtURFSg8ii4xBGZbCw4l6ogtnbCC\n",
       "OyyMuCastdaXjtM1vxqpOhaKwjlk4j30e2RA4P2jTtX5DqSIVrPCfwHy2Nu9ecxFOYaigth7rADP\n",
       "6Fnwfs+MfebEVV2Of/z89x7jCRoSNjZS0CCbyqNu4KWuo5yBhtGvhIRqktulb0UBrKGsR/KjWu0r\n",
       "cNHmxoYsNndAVT/ytpLRdAa5U0QoquMPlEoHPO7Nf2o3zDLRLSOynpSvQuapIKu9JhWhb3Ac43XV\n",
       "GF95tnP2NcbjuxkIfQ7E/FQhJvFn2hRn+dQdTMBcH1MavVoa5W8/byV4Ei789I1G0ch8JvtKlQ58\n",
       "J0QdChr8NTwdqXdIqR9K0uyEepfda7WnZYVGm/mdvDqJsjRv6PnhJfOpf4bMYgsdid0znpO9mytK\n",
       "1Kg42WNusP2bWgI10H+5PxznNaNN06KJ6DMBNrc6rffu1vemFPdqmHXLhWVkSUI0PuHh1psq0eu6\n",
       "zOJPI4u6GHt7Gyy4czGTmx7bKFaY7EY1IVo9HwgTwsDas6ZRSp/52DGIwOs0hp7ER29W2nCeG89k\n",
       "/ijxjl/1P/mz+6w32lm/ZCuzDPv7FQ1veKHKD1dKkoFiNDmnHvbJO3BSXkxiGGvx04LlSizuco/f\n",
       "EFERux2omH/JLP9I3fBx5lkJeTrcCQwJ6J+9/CvHSXEKW6v3pgJet5I9p64Oil1cisq2H0dVAX3V\n",
       "EY0sbzi3lE1JDHDaAiV3cf9SoE4thNH4Z7dXJnA3IJBrqfFVm+nr5cTHMS2XPa1ptsWzUrONfL7p\n",
       "T67eoQG82tGp2ctGZYoPoF77CvwwwTG/Pk/YllOEh8AtXIElWm//+AgaUIuZw1qfe4QXmKYJoh1t\n",
       "o2aGmdED+LU/yczX8zEwUj667iGzwMOv1OBLHwMyHT+yHZXiGxuubtV6mY4KUa7n2mFBtql5taK7\n",
       "LEBwXz4KY/qbceqUboHAdAqRZ7V6mdxCGGKgm0UpFZDDnrXHebbAD8niwt5lKHIFkMRhKXOC0Z93\n",
       "H39YwtvRBD04FEb6aUnyUEjBZVEBP4yNSh3oG3cSBs3msZCkTZhV3KW1CFqm3zNVbChxzQB/7+QQ\n",
       "TdBRbjiTZ+hp5N+W8pHTbtXctk38NRNSwUdDIGXfut8k6+r/pU1jXFF702h0pJox87frbgA1/vXa\n",
       "UKkh2etJxNYR5BiFz8nLUwgGNUpuB3tbeamYPx7+gRnhrA3ocYN4R+Hp+yIQe9lVaxo5PiFhGOZl\n",
       "pP7+ntJrNyl6mNWYU61L0DbrvAT/TdfVeQDSDWSxPbIYT6iY8YSLCLFePTfk/2Zvq7DitYjfASCT\n",
       "jlozwduTkALoQjRSksZmkBTktzZFGb61c6bHuJdqgSdQj1K+BAXWp1WHaYhFMaW+zkF82xu3bluZ\n",
       "LsFppLOF4qQblvYuZmTlYqmPtyCj4gROFIWz0HKZUw121SmL4OAD7nT1978wndLwBxD0F4+vr2Dq\n",
       "kSYpCjGhC9eXKqByIaBixz3KCYUzKSjYQ60KFKBy1qDTc6VDJar+X7kWqKv0ClCQ6KnT+LgSEI5C\n",
       "LBLaJWFmtqSlclZLJB2vRcs+Vi9RrPTIE4bNSwN/jKTGR21G6mS2kTOpEwzvkyMDe+VheY/2oZlq\n",
       "zAOFCSR8P0wxgRVtZOJJtFWzW7GpkBieN4ldGyETFNwR0mQsc0x2REbqhYre4yHtFQVClen99+fM\n",
       "t8Ut+aRh4juvEKE3N5Yphst2s9VJ2GQHrejOjQ50e9OlYTPDj6Z8SzxjclAjtZJGE8ot28ojueJ4\n",
       "IgUtdnhErk2Wr97rGJ1bL/9NBslqhe/E+cjP4L1j/hjq/CTymTf16ILxFRX+G+9ap+7e2i5cBw8H\n",
       "JEEbaA+tM11cyk3HQtC9f0K+40Yja4+cRtRVd2rtPKZCk9mwSsHFc19bvoInFOLpHbp1hRkIgeph\n",
       "r/lzf+YKteVPiPkJ4RvQsyxJQAQlm5z3jCBahD6hLiUtn/uJ6Y82lnz0jFyVkyF5rdqqdLDK9XOc\n",
       "GK1CfORJQaCMYhRstB0tUUoPeUktTKnsXfN900afHLY3RrV9t+9nNQaPb50UGdRppodNRmBFcd9U\n",
       "n2u2QAfoqOFuq4UiYDiXYRycHPT9EjcmUjrqXqa91BuI+y8dPSAIeQAAAWEBnsdqQ38AEWTlAA7S\n",
       "ffi8shpjekOwYkh74sxT5eWJ9oLO94F/lnn+qu9YiikC2NAskedcNpGQhd6VQtyF9l6i7rWcZMxo\n",
       "N4SvBCxwqjgKpgxhrTmTrQRq/fmoL1zcr+BhvOhnu63bIcofBVqpGW1eKFXB7IfGXyIMvFENeslx\n",
       "qVOzvHiDbdW4AkMIz0nJ8AUv9LMLwjZAGiXlIK2ofWtq4FwYjYglr7ihOB4tXMUzY1b8GwIVW+AM\n",
       "SaMQ6kmmWkpr7GljPHKQvmAZG93sOcGad6DuZwAhmR5C+EgFIBXJ8y/hemjatD9UqniqbRAgtoKJ\n",
       "5juPeS5OHZa7I+pdP68iQ2lyMuQe2QEDjXxzRzKJwBG/qAgperfABRT6RYKsfO61ueqglPBTDEsG\n",
       "BbboBPyuq8FCpCT0cpOCGpZfjsPrpbdlMhfyMtkLRL3lnPhAzoyPoSPx0IjMIzdOhJsJQE8BZwAA\n",
       "BiBBmspJ4QpSZTBSwR/+tSqAAF46g8kGK9ISHg5MoGwOVZx4ZP/HUfEDUy/0wqOiEMTSsCGRWrxL\n",
       "Q8GAMqJ4n2cmJDHQpFuugByIwg3sH7LGwInfj5iQgGRmI84Sov/qQmcG6qAMi6syVkVDe1tc//7r\n",
       "se80sX5P+mo8oo1tJkOf9YzsAt/+5EVaxc998Mz3eZTeRChTJcIL5BD84Rg4/2m/0t1L44Mz6zKk\n",
       "GehOYzmtjLBQUEBEZzYuY48+bsusOBlLEnPJQWpbvpY51s904fQZoXT6DFA8ffgXWwAMKrfcslxT\n",
       "d/YFT6IUZKto6YeiXOuTe8u5f1Zr3zoW0j9ViW4FRKci/DkppAsTWtjBUtuKAzemqsK29rpOiu00\n",
       "gsyN6EtMyZJC2Qb4Aev96C7p9ic7og2xfA29JJSf6f2pACNJNM7mM5itCKP93+/P4E54Y1wfwgKb\n",
       "rTsZuEXdKBvXxN+lxwlitO++gwJQjoZKxb6xzqH81fE4GfWFsCDFGDnf/MZ7t89Wd6xCtQgD9ALl\n",
       "dXQzGfStyYLOncks3SfJo+0OE87mbNwCyyZuHQvxxI9a67fYSuhcNcSN8+UR4Nu0JzU+ZaLHSnwz\n",
       "+l2Tzb8bcFAOnAsKJMkHurjUY5SNqE/Cdeiu5mKLgsVIpjKFfl0WbxZZ9XndM88vwKRuCV6P5UO2\n",
       "DETNTqGaIYqUTCrUIvIaYkuGCIsb5T8nTsX3DGQkVsTWVAccwI777BCzvKpGQtCl9r827Yuq+0Qv\n",
       "gJV76qdlOTefCvMnFYWGKpqUh9dzHg9WIHuhv4wTsF31nPaHcxN8ZER8zZ7iMxc1Kffr2PeoSMsj\n",
       "5FTKALEG43JyK0nVsW4n99KlPsu0kP/xd86PrPLGcwBqgrmt52SGAprcYytgMpC6OLREn+izhIJr\n",
       "ngPYtX3nWRB6sijLfa8WrbLkZo/RrG06uyVJ6Gt9t0we4QK1/DBqZPAAhNzORqgWA/CBXfmt/Dq0\n",
       "fwPZl6zQ6Bv0tDH3HpbVkzUI2ykTFtz0nc+y6lBPUXu8AMR5m4LVvVe2LZIT77ofWgHyQg8QrCBC\n",
       "B2e1rS6VrpBe/pzTvKoJFcMjlRVsgWbZwZLvcz5duLyOGhOcf7j9FHoa5cUmCuyUeMO1tVUpHfCe\n",
       "2lD2zHMikwPqbNFocVSXCD3hJNW8FFmoJEAWExhpdoeNhuJqiGVTUyGp4KBACBsrhxwq8zhx8e/s\n",
       "AcY5f66uC52ghXRL1yfgnWCVE2zCkC6iYuC06MDXjqGg7qqcfuphuRPuanM1kf3UhYQpNJca/d0Y\n",
       "JelTAtKKLiWAkCsfAdgS4OvDDxSADI4pm5dh0TLQL/3AK1Ydc4OrMs1E+99jmwYbGP7srqlq4P5k\n",
       "Ck1tSVk76vDTwxwTCBHqzcZMywGncNOAcy4tqFxIVDI1STvMvA+duLMiMqn0Ose09jP3kIpg6E0b\n",
       "IYcDBY/86oME+Y2Nxl+zMH1xC9HUaGjGJW9DldpJG3tH4slfvZFII3z4/D6Yw9dikecEpUWfcEbo\n",
       "tLCLRFg6IgIObKdza5+01gIx9/deIywCPHvpD3dRo7zRtcO3cjfNMBte3VNUPdhgApdXiudNN2rw\n",
       "hSj1jYrAgCGHZGiqfMNEFfbwx0J451ssCOinQzSOHHY4xrOqpr5NCaHtLElqhIAm0XSBlTOg242y\n",
       "/64+Ce2IimyEFnLnFF2RtRhcahLHFzVySeHw35n7mbYevXzakwipSr7u+kYm/FZVUW0IyJYTX7Rr\n",
       "EDpQSWKZQUpd7wxunPvAxgx7HnnVi9ZIAnqmQaAP3ElyrdwG18kXeqZJBeFDpxXSIAEw4ZZ+jjnJ\n",
       "2aQfm0m+knkG1Ikmj+vNWu1tIet8aB40tpxwTjVZsHFfbfdYK0slP7MbXMTg2kssHK8/dz6Rnare\n",
       "xUKCCWw55x8ztfeLpr9uCLGYndDIamgjVJbJ4bbipxx5jQpb5gW4ImsNGtwsAZiEprwjiseREQOX\n",
       "zLhA2o6KbqSeXbaG9wR0rKPFaa/oflVq+BB7SgCfOw8gGN7nTvuo/oL87cV9BjfiECL2RfWO5bhf\n",
       "VoE1aB6yAKVunBnoEtnHr9ZvN6jqUreScvGHNN4UkAAAAS4BnulqQ38AARYvmgBp9ivehBGS9vre\n",
       "AhLS+r//RJQN4A1nWT8lNgzLnT8fLIkCxRkMtqTTZN19mU3kROZsulnz4JzXTKoaJTozqyHjspI+\n",
       "z/bXJF1Pc6mA0dkb2XPo4Y0O1gncoEE5WNB01nRDGguW5J/kGp80/STMBWScLHPrrpcj9ScXIalD\n",
       "bA5+BAHwhRu7WhQzbPX/lh41rt1yBwpWD/Uz559dmQjuvTbuN+E4Cw7DousR2znwZqGx6exDZl2w\n",
       "1y4VWNSzSrXU7+tTV5SmGrvUv7NPF3w/ZWtYS/tfenFfaadZTdRvVXPVhtTbFsDE7vb5Ht3C6GLg\n",
       "BFQsAPfur55aycEpuD6JCKZGg+O3NvkQx4HrZfHmsVRMWyFGSYWlrNBZD1mFWf0t9f4O6QAACYtB\n",
       "mu5J4Q6JlMCCP/61KoADZbANAAMaAbgA2ayezucFQtBgG+/sg/yAgmsRthePXdMRXDyE+bQJrE61\n",
       "WsCvMM7NWyOVaJQ8XrnJep6QJ5fQCWel1dUy+dxieDyTwee1nF8UrzXfOg9A8mCXFYYEK3ETUg9F\n",
       "7AUCziteG5z6HKkkX/ymgJ9Z8IUGhV59rl/95p7KZAN/T5ifdiFHHGMMDgLVTJrIWfe2F4V3fJk1\n",
       "pKPbmByWaywphBw3kEkYaN825hwCtCF6P4Cy/G2rSAlYZGq9QEghVLLDPXMvhBVs3B+KtCk7kPBg\n",
       "w6YD/LYCg7rN/KsxUI7i6RRv0Xic1aLgig0F/yQhmHXCitn8CTTGr1fkGUaxcTKbEKHn1e8gneWv\n",
       "VvvgMM1x4bsqNkrGu7sbv5evqsesajeA12ULfsyms3KxHI5KDuJBWxO8Zq/URFZR5u9ATkdqvtUF\n",
       "0IDbb4jJKtwSOfCL6bC5RDganO+6yftUFpvs27NU6/hNgkdapy28hopPGjeULhf0j0V7OBxCY7iK\n",
       "thX+iTXziLnNR56qxm6+8g2OfgLdN42NwwccCUBjgfiH9bhHYzJH3PsbUYShe49gFF+zeNkzYXFY\n",
       "MKy5jNj2YhcMf6RuUA/whrJAq3gIiuzqGcooRt8M5s3YVipoOwEcsK8BxJEkdOdOIxKy/h7g1ux4\n",
       "btRROpyPj+uwnGkI2p5cPRJojNcgFi0hbJ0iVRs/nHHKnehKV5jiIcV2Dk1qiEZjiXXQvn9Iv3+e\n",
       "bicqcSa25lzw9H6e3DujARoWpQhyNFsIJEjf5bJCOaX/YsM8mRah9epdQbngZNeTZ3Sp5pSAqF9K\n",
       "7Jz3FFz4sQ+TKBhGL6QbYtIplKko4D9FNKI98KRpQcAhwxsb2uGVVlC/icIer6ga/V8j7HVX7L6Y\n",
       "xSFdqLdRRB2YsfYW96FlYbcawBWNfH6OfiU7c89FqD6wPIhKYbCy42dbPCP4z1ux/KGxKUNvdCcb\n",
       "uUOlfyj2e1ezcybpIjlJ8SZCnZBw924PIrfnUaPZ02kzh25z+QQhwqm5eV6fkFxggYptQCwT/iKu\n",
       "YtzUY5PXGDernmRB3tSMCnbkBJJq5Fj7BL67T4GchrLOmLV7jWzO4JapB1w7nhJCR3tCYNgrzF7n\n",
       "ST5evi7qDxVl00j/11roZqNeyh2GpZDx5xNJxPrC1qpgOC32kTZfSZ+H/vm3XWGs+QTuLZRkKzKW\n",
       "htF3972jAfNP/yv2fSspK69bLiV5qeG9FNA+i0E9oGcXV/NR75MsRKDfhxqGHWOjh+sxl18Y4WVk\n",
       "w9S204Yq+y+XaWFIGWYfyCdMyYb9XCKnileO4lSuerGsebBpzAo9IHXweegc+Ei3U7BmJvQg1NiC\n",
       "Nj45mnp4CRH3NXMf6CuRBLjo8Apu0EYmtAcA5yaoqjlucbGM7VUUi2wxzBmer3VaQej4SpttrgGF\n",
       "770g7tb02X2EMrUY4oyBxBoxwo076Xg4A2srfWzOFtfsFCrz7yWlpTmEh7nsNJQJNGnHpp5kxSZq\n",
       "K9QMLu/ro/NVZXmO0AMowLE34JxpqSQ7vPGF/Fc42ZHmJtttsRa0/QZyUpOWcwM9l6WBLRAUq+SN\n",
       "ZSUqIVH/IS34H1TmSYqeX30QU14NhejkZ1kayjvU2KbOfpzKGXIKAsaLmH/JOFdWIWdxA7dLvIKv\n",
       "YKjNcp8WAzi1iNTEaIukaQPExQaV5pryo6b3nn0AVf43SILFLqoaK5GBhhJdh4vpVOk4tNpl2SL9\n",
       "cIzWDLaXqNJVfmUOL2lBKLmCcYxzoHxaMBuGsHxa4nSrx2V6D+a4zlM+hD4aOe3CgqQ//WwhTspZ\n",
       "Uk2+pIqhCMFJCUMtcfj4RZhzu0A4nBJb14Zamwwt0TQ5BOIHrRqQTYmRZP/aebEa8UD5zzxZY7Vx\n",
       "nPok6V5k6GAU8tRshPasy8ezpxCAT02/agAq/gSX0Sj9Jw+lhQLcw4xKzz44QaosfYRC9u0oZqdb\n",
       "7GRbq+xFoyQpXs377U4hueim7vM4aPdZ8wogre+fMonoHO/7Mu4zkNenJlQOi8gNsHvanZdERvP+\n",
       "wfTvHQCFY2CnCfxIxLUMceXChK2Fob1zVzJ+vI+NlYr4CqCsyfitHTQI+rCdVXFhJrrK6Rk1yS9C\n",
       "/kdEqhbR63DOUtyhp29g7W8iWobM+xLr49U/U5Z2XTzc8A4jK+4aFo5ms3o9uwYPGhxr/cUtOS0Q\n",
       "Fzr/AD7xH6sLLuhxmw7k0I+xDY/ctLXwcn/FO5IIb8ko1f7k8hDS65GzF659OIe1PFMPnoMPXVF/\n",
       "l6gDPFnQ7Gsjbcrx1oWfL12zPcNa1hil5l9NmlO+XQaMgPoAs72wiFz7kqdoZaQLbEW9jzpQWsZb\n",
       "uyXOg0QhfWodG5AjNQ+Jgp9BoeZqbjp/Z13GSnEtx4+/dxbnKFFhpGJNZP/xDfhjnCoxtEq1gwm7\n",
       "b9uZITcELBRSfRrFblZNOJYkfyNUnPAAXTkGlRzyREQs3hFCIcyH/PsgYv0svK7W9tvO+tagsX4l\n",
       "W6rW5knwJDpw6PtrSOiGhEbx8/LNUZCRNp83IPQ48woI5EmehKi2Y13yzc6KAimLEeenVMcFpiH/\n",
       "7W+NyZNt0RUcppjwDHXIZ5JgogvdTpHdK3CgENq5zii35H8T0h2pwCjt0sIyclJ8AhzK4pqbWO1N\n",
       "x6tnwK3OQ236DvHMwYbD4AvggD4j/dNS2Rn2V6QlvX+3Dg+YScy3Q1RpyO3ZCdeToeTrW7bSR8tN\n",
       "k4lgOPuHsZ/xJmkvVztzgsTof4XcBjscs89dXOmJXjTZS/Erx15dzn1ubkEOWXWT8cMF0eHE9XFJ\n",
       "NgVxK83ivRl4UITNjbTGWMIKahowL0m/2E22aLJgG1G9E6Wuoc21OevJ1ogo5COcisq6HTeaYa8R\n",
       "W7DAGZ/cyUqEJmNtcw2LmW/b3aBrmvlKRp1YO6euWNf/xjphjVa/8GBAFZynVZc41XClCut8PPa4\n",
       "xvwmag+NSbxO2zABh13uPvDS7MToKtS1mWXFVzz5ivHIouWzXMfGdF5A1v0IU/bcANJTDxImYtp8\n",
       "/5RsWyUSQjrMebZNI28Xcm3ljhGw2je39cUJgPK9FsBlwm6/Fky5PpRqhOQXt/7W07r1nd0ktYeJ\n",
       "6T4k2pj82JQzvCMCpSnqqkh3g7QFv3Q9wt6wZmnOePmPOKV9rAXszO1+83IC6CyRHp2LgCfcO44z\n",
       "x2f2KNjNKRxtbHSPzTqvajDGnlOxmozWfCmyZgGEQcjXjWgufO3ZyrPcVz/T4+yAAAABKkGfDEUV\n",
       "PDv/AA1II/6dje3Xgyiwijh8Mhl1EyRP1BRTkrIEP+u/2AEAdOrO22xoTTzH60ThIIE6AvsQSMyl\n",
       "gkGM6jGW4HHPuQ2gJgrPuK8i6uaAzJW/ifsVlnIRbJZ4f4wb+UAFqLBZM9/8VkbRNxHPBddForeM\n",
       "Ic1jPoEcc0O2y2zTskymMuDVPAcwgpBk5g2GRTRCqzY9hWEXIgDYIK47CAwFDEMr6tbbS3Pvn2Zt\n",
       "SJl+Ms8auIpSVGYZc4dzHijFn6H772UMeWuPGmab5iA4sOFoDBet7A45HxcsCKvCdxbp/wVezuoz\n",
       "OXN2dqy35s52LrvHSv8uBBqQkfgf+EgvS5x8JalQwTkRxhPGcSHqGkbwRtJhxbR/7kSIhsUFLbhd\n",
       "3P38uSGiJRcAAAESAZ8rdEN/AAX3q+l1lWeAAsdylPsPyneP//BuETGih9rcJi9N+C05Pt3y+cnE\n",
       "G/sfts9aSb8BvCo3iM7FBkBKAc0Yef7jzxBWn47WIQy2Ti19C7GxjcR1KTvdulOaqjriQu5TrDhd\n",
       "xOCkbjTyNXsWQubAL9SCUwrfk70XTkRaOCcqFDNrcT/JBmAJXMB9sAQgE36LQB7q4mzn6PBz5yFa\n",
       "JiGoTvAW30hqtzE1vqbShm5AZWFrRwVJdUSpIPIIAwwDE1hZM0skBN6Q0gK/wNR83+z1/IXC4Umg\n",
       "f73yGJdSQPFN2rS66rQlbLlL5WTtihkKpZ4SCdd8VaPwWbs0r8s7bU61UnSLqmW//1uGhTpF+mZd\n",
       "wQAAAR4Bny1qQ38AEtr0A5z0aQ2g95zpQVMdrPrREydyJhoAaayLeDMZYDh4Mg5miaqAIhBjMT9L\n",
       "lpyWN7LS5mG3miyWVXTImMVV1hXGWg3CvWPkcp55pGPOrgFyxZF6zy8hyK00xMXomyuJYYlAaId9\n",
       "YHJhg8O9FVcP4kVofQ/X0avAPe7dNK23l7qvb+tw7uDa8HdXCWlzqXRxepq5gkaDUGdfU8S4egvc\n",
       "RZjIdh1G4vEkgQrzYxt04f/5BTpT9TTJsGO1zVwJvc4uT/AzvPBJa5O/+IfO+uZkgYvixGIjGBDN\n",
       "gT6DOKicsE1di03CwvCk9eFugG0EnLlOqteFc0I7U+DwWo7ErtcuqQnYNR4/nXPc3ahQg5KquXkc\n",
       "lvjEsHLbAAAKVkGbMkmoQWiZTAgh//6qVQAIQgCogAwS8BcE6poJ2Dk7M7kpVcVuEjf2hvwLEo1Y\n",
       "N9HULZdRY6DeFZJrxErRt79eyoRy5oKWkliZ+X98yDpgexb1B5xwoFciQ0z2ZipnI3HB5vv3FfqT\n",
       "EonkN+YRet2J+FGH2Fc5mKieDkgfMV0zNOs0vlLPJ+PkHXWIhYzdBBEuQfAhFEaK+MJblJ5IoaCB\n",
       "Y+kRuGUB1zcos08xYuXnFCoSydluJ6mwsu5Sb0DmtivFC9cV++CkhGho96eKK6gAAOwBRgnoBpdM\n",
       "pManlP7FTzo59A3mzzvYB4B1mcACpPZAcoDzdzWX40PMpSLzb9qd/b5UVP/10WOg54NlhaqkiQM7\n",
       "7u+YjIR3cnK5fwGqREXI88SkRuvAcBRgwy1gSBFuGolPeDqgF5t3nOKDLJm1JULQG9TPec/eGZqi\n",
       "kkOfiICSFbWNLHLM6FETtYADZjbkFTE9FLIXOOssfgs4icIhg0lDLwAVx/wUQM0QbivonjoMEi7X\n",
       "fAt+DUS5UDlD8aWijDiD1VmaMo8oMqi2EXNPVxDnzpcPj8tAblQROWKPDRPupyGT2f3jLtIOV4/H\n",
       "oGjNI1wZ0xjNWOxHArHc7o3pOAyTH6EiEfe6LcBc/LCi7ESSr5xHqhY8uL18+pZAHbSBK5QlxFmi\n",
       "1lTrfTaFIz+HipqGcpih8FSUscG9bM4CLS/mTT5R5yj+H7ptCW3W3o3gAIxZp9AWiH3Z1+h5hWGU\n",
       "w6mqTWbiiPLtYb+7EoVtdqT3P7M4x/X6+ft4s8lZ2sXddA5dcdkXVnHiDyDhEHuqEUb8bjwBQz4P\n",
       "ecAnmxxzeJVSIVneV6Ic8DPvX3RWcLXyS+ucHcVxYh3VZBbQJp1ghF/AUmO6CWwSF7a7DPt/lUVJ\n",
       "lPzPbyxH6iIrPOH/bNK5AjVc6kEB+fRoCe+CDJp6VJLlmr+OfKS+pf1lP8PmFgfrEdkx86IUy/6U\n",
       "EjVSAPaHITtE3Fc8YmX8ps4+da51Pq0cvkXL7mgC/FGPDiUSjpVnjL5maAvBBiP5cSH61pz4C0V/\n",
       "ff5W6m6hKsIxRkpGXgzEKABdvlfM3JaLisvf7pVX70BeJqewlvaQOYuPreyYTNtC75UlmoIuyCEy\n",
       "OADupEWYx0E+A1eKf98cCvLwSfeHqDyWQxvcrQrf2/hHRu4qfzGlzlovSsODxk2jGno0avSI2XSb\n",
       "Hi6ePG5Ga+cIcSz0KEETk/0/XXLeIaZAAgWSD+Et/PdpmMa1nTAuPx5TrQV7LlihvemspHhs3bfd\n",
       "snRYJ7QADyTHfnYubmjgYcFWhk5epUFY/jzp7u6y+68eOn6/j8uHCcHCqCx+YlNJ7F0sW8aFRaqR\n",
       "0WcmjDXl7BuDeGIpItHXvDZkMBZREQVIo3nfPBsY5FsBzh/jqkKwaCrwuFIP+WCRUneEbn2Jf+pF\n",
       "iY8B9XINEEu6UmNITNtkAz8j6xoFeO8y1oAGurJ1XiXyCxtocaRBqYF9fAk0+hGgQVKmhMCVeGya\n",
       "9flgF5ifH7j4LlvPmf+UeF03XFUT12n/bhGk4dXUtnSbRTyR9tMSqMXbRQJqvbFWPp2mDUtOUyYy\n",
       "s/L8kAUHVSKuFHS6iJDwekmoruV8YrfUTX/e+I9tlJBhK5zyUaN6ZAoMJd1YSKDeU2EAJHg2+x3p\n",
       "B0pb1ycOlzdAtLQ8HB7zDcnDWBiUjMmoYT8QJGMr/+41UyNdlt/2z3RqWkBCfZaxu7N7IGexdTek\n",
       "yRen1Wx+fAKeh+K4lz8n2MOrG6RDXAWb9r7SUKMB1GvyuNYF6cA0MKy4KDCBIDPXFzttRqI6qzjg\n",
       "08rPUNb0t3F6FwQsOupMGGGH4QgjugI7Gy61U24//LqeZGvxBHLphRkWrJ3g6caNXLGIj1xCkLnE\n",
       "ijNkntR5oggDIL5oKQMBynBgbDDL0YG50NpfkK28k5OfNoXKDE2C9RCcWeTae373YstR71PTtSo0\n",
       "68AIIwHLrcHkHn+KcJnHxlXCM2CjP67K1dHAyfZcrS/LPd00iIWTOmktdQF+VQw1/vaH9m4oLfpT\n",
       "mEM8hZ4vNjGf3X//yL8+ZoBygMWJnso4IFOoKXSmxQktqWAym6cqXfY1lQ5tujvcDtI5CwCNlZEE\n",
       "Cu0WV7ptRqKvMc4p79C9kmmPjakvkyR6gFbasNk14Admppmd6tB4Jc9liusx5DXniVvIKEDBMwHL\n",
       "gjws82O/lx7tRla93dlg5dNB0JCP2oH20GtIImDrjnCKL5Ee9RckB/VmoMFwfdN0oz5+z19YOLsE\n",
       "2xiFpXTYLcPt2RI9O1BgdnxxtBZvM7HM/9O8eTQC/i5SPJ7KkZqvakALvdK7q34Q6gtZxzMeFXmZ\n",
       "gGyK+1Z1nnP/x2/NDPghcw7ZV7NIeD7bF+6uIbvQUupBCjXvUYB1vR2dHOWPjGVNKTAPrDMgdAPh\n",
       "SjcpJGseBlTvinOsVuwb6dvd3rLZXriqXPZ1EAUlSW1JAdGyvkAAP8fYGZuovqgeqcQa3ctSOHdu\n",
       "aPd+4gYznjMAxR7gz6TOai5h0O/niek3izWklbTNFqPyiMqzSzXWUG32hJhkIgM7y4Nl+TT658XH\n",
       "Fc29wlD/h6k+e0pNkmcsiaCm0sOKDYplpb1q3nDyCtpb0Bn3hYTBThyOVoyU/mmPaonuPNfguJnW\n",
       "bHkReGDrXb2kHA9jEqehsXbqswbrA+M8XkoFz/V+3Cc6kmaVV7HhD3erUX1jgj8+rb+ETmFOy6fZ\n",
       "baJjRhDTGKFZaKhOjZWL16gi4Ffw0IcjPXtKPGAG0VevtgRkH8ksK/s/LwOBysdwJwZm1RqUnQph\n",
       "rZ8Dv2sfwf+kGetftg7CJJkP7hU7dhA8M7l1E/b6uB4srAyeoHA+2BkalJ7Oce3K4tTAC72VG3hv\n",
       "UG0b1bJBFJbP3YLLhQPw9/XqplJcalicrMyus75NJlDcOX3Y1AhBGWMpfyiwq2h6EMJ2pKBJcOAU\n",
       "qHzQ3Sb1HO0osPo/3VQ+r2YPbT3pH/+BMTKsA/S8nko3a70c0HhNwWSgmhno/nWm/jxWYu69299v\n",
       "IR5SGYzJ6/ZJuWCFeUtPIT2xvhQ+LxZhhnDfIldmDRuJs7TaPgIutyWJNMp34BUxZdSpvYUcV0Fk\n",
       "PJnPVAjpFHMhyVpVTzVHk+1mgc2qdjs46bwMeRDBHEFthDnVCbUp9xtuODsZVc6Y454f2bL9wh7K\n",
       "5XbQxM1gCG98v+D3JHXlbLGByrui8kQmnR+QeJs5lKUv3QNdqaQBmceEDbvj26OSgVwD82kzo5LW\n",
       "7PatsaKHpnvCdd2IPtiOy3XWYBfQ2QwxAEfV1s7SQAgiJyt/fZiDpT9adDRZjT4VqW2if25bXrRV\n",
       "4gwhSpg45jJ4A1DcW4zeOtsVWUK2wwfZNd2DuOwUiXmqXnxB9fIMke2XfHn8ojntBIMbiL+LHGRP\n",
       "w1srYVh2ITdGogNqQjt5ZgCWfJ6UrMQsa8QLnOlIqe2WAPOjzXWveGTqr+c4Cly7LzOEPrxYcsTz\n",
       "sL8zC403+y14IFzb8VRWHUFIJsY7GKhixvPzNDJrH2xjPwAAAi5Bn1BFESw7/wAQCP69o7ifSS2A\n",
       "yXxsJ8HOhooNza5XgAcKH/LO9Y/bMGn8Y8oK+G1Wn59izURlU3akpTi+Tp2KgjIJefTxvd3drSBY\n",
       "+LZg8flufwqx22SDYIycvXaQjQ5gaBFxLF8n0+glm19+PgpdvkulCsXT4D3fAHwuI7XUzLD//8lS\n",
       "dY0dsiqLRvDkd4C8D2XJfA6UrMPoWyewT8KTssLIS3TeziOu7gqwS/eDM1ItYJZUG4wuci16A6y1\n",
       "321d1SuaYDDkOMKJMTQOmqo//Vu+hv4njoZ2nbJeozQmCAZGyAx5bACl+i2XxFdKmV+WRdjWIEiA\n",
       "r0bZgnwf1lTdnfwLvB5EDZprUBJMCpvzbCSqR6Cg8heDKaCnjUi0qI6KDFkEKmztgPoxrekOI4hN\n",
       "ndFkgD8nPFsUcflkgH32ABaPqEh+Ydg65YvCy7ghEKcBGepwHdRcoLosF9fUtDRsCNFzEgYtocHu\n",
       "v+uYZCqGEMJkOdJy7VnepC0X0iznLWehVKUtICwUF9BQ7PAmABxds90t2adUMUH9bSHqXXO8JWg+\n",
       "MTwvM39Bav/w5Kg04XJwSo5vgkN8C4SL3mVVPbS1B4t8zkHwlsMBRgEGcxtxPhxBWINqRlRLbLJM\n",
       "tTCXszu3O6L8JUXdVow8QPKEQqpZwNnuad8i5ySUlnSkIX+0aQio+93TjxfbvbTENHQAZkYf+VO8\n",
       "JjbqVQnT0f/3zzwqJkOnClTI1j2ipD50RMAAAAFHAZ9vdEN/ABLX1mqrFd9TSxxlz+qR0nkGFept\n",
       "8aQ5AGWIHML+UFoXxYbeIH6v0PWsLmD+NAQ30LKxjKFIUOnrWKKGUnorJjXOvkeYATV6Gc4qZr7b\n",
       "+ZOekNJZky3afIhx2OaLRCzz4gQs2EP9aiYlGvUTtGYMAuFsgHHmsPcCWjtc5gyznWZ+6AXIDgN6\n",
       "re4S6lirXfYzvFAvY/uD/m90LVUXEe6Epvd9yJE373BE1iFyu7cvjAw+PwV/SNWbBil3m6PJO2HD\n",
       "rRfW+sXxFL1bQ90sIcltCB34KyjPDHh9DEORbFdLfFNqQaGjDnNsKalgMRTHJUTZ2P7cM3aao8jJ\n",
       "dSeFvhKLzhUHCUqep7vZ5QtdF2pBUcY7KTagUIgtzexQN0umPWvU3peWB24Uv2jqif8ieu8c+AK5\n",
       "IgsPX0UPtsKexRQ1ws6YAAABQwGfcWpDfwAX77kAF9fNqSedsS73Ry5k3mzusg9T3K8PFDz/9E3l\n",
       "rSU2YNOglmDZ7eZh5P/DBgp/ZyaaVRHlqKQtIn+tbsC1dBxBI6Ts0URPeyJmsR09W1LVI+OgH36y\n",
       "FbfcQNuRjv9eF0tIY7S/sevly/7ojpNMLgFobNA2X3cbQHo9JP7WwB1QvGhb47j2BM00/NjvpXZP\n",
       "Jz+vRe8rdkSq5KUTXOgPkFthAX13gNcBJmf9T2fHmgb0UKejdgTa3MhE6SgSBWkMMi2gaqcPr9L6\n",
       "EwaXuax1VEXRxB6H5+7LYH9U/2cCQU4kbhyZCiiGr6AhaqTagm+XUTVqSx2ml74nCfwMV2oOUpRk\n",
       "C7craCSIWKWT1422/pjr5ksQXWSAHlwIljBWzfizf2DpxRnmVKDTIRH8cjdm/haTssHNH9VOuASd\n",
       "AAAIvUGbdEmoQWyZTBRMEP/+qlUACQIJ+QAj7ADUMU8YFTJiJug93IHC8Lt6XMH1pSt34gtd4Qf7\n",
       "mXdc2GQ5vzz6EUrqVlawUuRN/ZUVAiYD8TDYkfkaev02+/khWea1mvKvWnWeTmq20IaF/aqChEU3\n",
       "2FmUkEEHL6Eh/IoqLPaf37P/0dVL0L/MbVM7sltUeCTzy+EJ9cyGblacT5tKdmxac+HyvJlKcpmk\n",
       "wwGYhOfiSFSqo58t5pTJcKdx/LJU9JJQuiaXx9LVnf7jaQdqGaE2JmLWAPtxUkAE5J02ivJ6uOAU\n",
       "TCx6yaEYtADAjT+wlPt9ewgqmgKoHnR8uPDqxPJhnsEzeCHs3q8iLiXOPCwqFg2MImEsa8c9uR7M\n",
       "i2m1zV+WuEFyJyrvKyqHN2LbNGNvSWEsLw41Z7YcZBuDrO71hfN/90IEn2eDk7WXKgotZKDdf1Lw\n",
       "dRzO/U0E+Oqxksksn1MHw1m8YuYlEgaUs4cwgdxP1NPhjNbRC69jIDD8XYcujKYGowzFqZSfU5JP\n",
       "/MaJaauDNjDrZZw5Wc7RrpokCWpVPglz0loO4V1ZZBlKBIxJmhpwZWf/JB196JlAkKcfDfGlJF4H\n",
       "aQ+sliwIcqG9bTdDfWx88O+BaJQd/Z/RaHruU9ZzDRMebTGsW2dtwSmqFxMQegxBhP28bxknqJwS\n",
       "uSFosXzUgjp3hrx8imTeUg7885DFiz6ZbyUyZ0FWdVdGrLqoeLW+11zYkHx+mdFgU8jz1e5xcP3S\n",
       "qWxPvX8vPz4gwxi08g9ELlggAX0Hndfba5G/d8c//bAT3fPZvevrPqvGQaMkIw6n2VaU8XE38JtJ\n",
       "h2nNu9TFJwMuzTWSXtmsi//gmGYOQozSup1sm9zn2MfyvasWWYP28QJabnorCdpK/0/NAVsiOPux\n",
       "3wS8kl+5AI3KweF2F1UD9jeZEM2OI18dvL+11xkapJi14Q2QF5wBxbKaw3AGHu6snx6SxhcvN6HN\n",
       "c4AytcXURMPHMdHX1ExtXqN/CG2p8v647d9VuR/ZK0fZp9D3vY6FvjqfEZLCpfGH6y+Dom8q6d/E\n",
       "VF8VqWPoTslyNN8Yy3igkpPInMPpkgHfYFt3rgZHSwvD0dA1NxPjaysLHOvCHZxujqPc7WKn9tVg\n",
       "tQwj7dGwYsr5P6FlJ+U2L3k5nQo1dGztO947iolNL52dW2pbxxnq5DZG7ZIp5dq+0yUdxuY9QLFJ\n",
       "E7XSA+9s+rgEeH5vFNWKDs4R9fXz/JNMoFylP5zUrTAr29CkWQCSJjR9/JMdBi9URPF+S3CGKHKG\n",
       "a1FOuuDeiuGGlGKz7aJQJtX70j2X0SGVbzUbCul3ofKG8J/a2wy673934gsA5EEcNXCJ/yWsJTy1\n",
       "F+Q4JP7cr7z6lQCa5PVPgXz5cOsqxEm8Ap+ATlVriIMMGSMEdAd13qPvyoXgXnJraWXFy8LSicEQ\n",
       "G1TNWMEgouagqKH2n8hTEvI35whQZ2TZwQR3f4jAxr1WPXZs6Vrq4YGa+2Jp0MPYqNWk/YMdJk/V\n",
       "mEbuim5OZsl3Bd+m/VWfYvUxX7HWZwvx4HKE6s3pYifge4A9D383O1e+AbjodbKBJDx9Jz2j7lzA\n",
       "G4OZ0X+v/qtl73asNhDHTr95icbKTWUENUcYN7cx2h1GDiObCx4x3JRtbRwTcesW1UutmWHpK5g8\n",
       "5ir4KB7h/2lrfPplZKYyuqu92jWFiNqSBmLXgUL/0wFUOkbvDr/QA2LeJpG4wjea6xL2YQ6KwExR\n",
       "zg7Pbo9OTa1VWh0x/+50RMv7BMiWJO6mN64+h0EcLKV1tob0GM5WcmtFKm9OOVB2kdIG+5Zlio6l\n",
       "Ixfq/Bv+/zEhnQew99lZgTFV2xwZBs/OX73PfsQ4mI6w1FyriCWSdX6FWVx/3MLbbV6F8BwX7eSK\n",
       "EPicG2XydmgbLQ71/MTZfKPxJCT+qtQW9KsrMpeY5KuNZkRoA72LulBDrhN+wIlOAO1HrnMMjKZ/\n",
       "Te3gbs8XvcULrIdOzTwZp8XJkl6fFIEFhqlyJ3ag8/BCdkTSSXVlV0Hx/sPrgNMy96BY1i4gVCAi\n",
       "Y5iNN37j49fn0fmMHdkhKXv6XHH2sFXQ3B9+RbiG5hJy4uEedajE8ApjQNKFAZtW39dz44WA5srD\n",
       "MXwcdKJECkGYcre+9aKPSV2KY2RrYR/8ExYJpBPmbf99tUKUb8LzNDgCLbnRjZFa8U+wA4Yz8ZQJ\n",
       "J6868leJ8AK2fzrgFL8SeuC5kew8C7dsoUkFX77XXyYqRa53VaWXGS9ThDS9bbCcv2yNRU/YDrHy\n",
       "3cGSoEi5XOGQ8I4MPC0t0lr9iYzu3hRteCkgM/6fycinFGxys8RowsLA58UWPFWYiYFzIoKTMrMG\n",
       "ZpTpJSWpnI+9lsHcAPI6hZQJKa1pCwAncS+gdPMGNOtV/iF5dBMRgfh87shvaek7raWYN2Ni2UHi\n",
       "h1hNJVQklBajgOjhooH9pHyD2Pp64WG+/NG6d1uHEXNR5D8hhu7HLExACGxczS2BtGWs22tDbI6G\n",
       "PpwJyoN0eKow9Gx5jLxsX4oguVMmiv3Ykmvr+SiF7QgdO0FmRPD8qDG6YLNrfKO7OJNvgaB2MzNy\n",
       "poJZZSVbUNt3UvFO+jS8TP52IFy1adqnmThmxhoADqWvMhnQ6WQrR7GgRnW9lYBtFij/uYckhkOO\n",
       "PCZjGlknKUOWFIw0KbCd1nEE9me+V77nMh2DDr8KF6sGsVp1hkyw9QvO+2Z9H7ylTaEK/zgL2s9O\n",
       "gshaLMN8CUojYSOP+DDLPX725s7HqxTbv/TeYxonKYDf9KXqm0RfiZKxD9Dudal/An4g4lQ/cyOe\n",
       "ElpseuCX1b9v5/bGKKX/o8AInDd6QwhmoDNHlLmGozYK0c9es96I1AD4dyepu4GVb0RaC6ls1OR7\n",
       "CzfytovtgCrHFHkTZlXWbHeY/SxmM52ag9AVL31SyIME1ci87B2VA0ygyNgc7o0yc7Hs4KZcVNRT\n",
       "h6I8JGOxjS0G9y/E8jLO8gXEAAABOwGfk2pDfwAZIukxBXaLhTCyNCXWpo3fqBFlx+OJE3QQgfUd\n",
       "ERL7A3NgBAELVruKXizbTsUGVvwJA/fKFxp0y4Tyi65nG65H5fEgBNXw1BTTbeH7VIbAj8hP9/x2\n",
       "XzsHowEM48QXV7p2BfYqV2ipBFWTTKHzgZsGUTA2nPJ8Q22nLyvu0p/ARSqebVPvg/lEYDiYt4jk\n",
       "Qks3vD0eJmMl+pYzvtTuSVEzupxWd9/oSMEpMtKSwKFz/sRx6x87NMRDOCMA/flfj9RQSl5LTYDP\n",
       "zagJtQoevbR98T9K21QjuHLPrD1mPsLFXIJVkaURCJYrBeymt+bp/vfygCj/XOaOeyX84elk9UMu\n",
       "sCldEFEXAF08JbbDQf0cU6hdTtCxJhQW/EyCDRordc58EB43How1A0u9wlCqNZFPTa7bQAAACSRB\n",
       "m5ZJ4QpSZTBSwQ/+qlUACQfqR8AEyr9k43g2KX/0pSYd09Cci3XSq3sXI1KRc+SJjPIPz4idpzQA\n",
       "O0q+kcT0fYiBKvXdphAjkpN+tou06d9txJe4bgknKK67ezQAJTDefrX7EH4EUZDOtvXDshfcmHbP\n",
       "X4UDv6lb7Es37+1WqSLd6u7Hj8EtZ9QUYAclSS3hzx+A5WyvKS3sGxTuh0TcZ9+458stly5LwBfP\n",
       "phmUlF2ZxSs5reQRDeP3+EIK2DwQt/IjbtVTj3U/mqBmoa8NUtRMgcYYKXsmFhok1fxNYZHT9gbL\n",
       "im05H36QTtS8iGBOCPdb+ij4ZY1ZZAFXiRSDb04lfAj5dayviEM6kfUUpkiIp9DdF31P2ods5DAQ\n",
       "C6gnn99UDiSqTIBHda6wz4TExekuI9137jNn/BdxXOUTerB4nYI8GvM+Tiy2akdkalNmijtInb98\n",
       "IEA3zea31u34pjv/87myVLHkKx/O2npfWO9K9SPc6C+IEZBxT+RU2p01kXAbNRFv9N/k5VjqL6SP\n",
       "hmBsSfsWoCDLfpFSMBKEMdMV9Gto6Fk9MiwX/TizYQAWTE1UEO8ig0oA2pQ9Rq7+G6QuaEsVy2Q0\n",
       "BKvC69Ro+X9eQLKacoAcPyqmPDVnsSVp/t7RO9n352LGfrYjhr9BMxjk/fReP8rxe6ViMy6IbWrX\n",
       "l+sZtSu2OLXR69qcSl+XS1UKOve7sIbB8AnIrCIvj+NGcbjw26pFKkWoUOcRXSDjiByCJe80ogtK\n",
       "dbOkc+//tDQNM7Nl7J+pv6AABoqbufkHey381wK4TWafZ3d8eElSRF7/VC+vK4DDyI5QkaQY5PAn\n",
       "eUy02mNCo0thw411hehV33wjaPNnwPxIbORy/GZVi1Qcl22FkiK+2AZ3cifzPaOqNjfzyIU9fUzc\n",
       "OgqX+OYdQaWN1xEKCupG/IIMCeX33E7Iu4XpcF5l/pobBeWv+3YqVMaG8hLxLTj3r1qDv0+kIkdL\n",
       "kjRyNyroU4x5lB1L8l/61eiT+VhbvGAt3El+CrcSvmBhh2Q3K6Um0uvRfcNbTgWgpkLeN7jpmWF3\n",
       "UfpwiCK3tnwwh6MMxW3YTksNFrIoIz+OQCHcTvXCqyfGTBfeV4AmbWUBeDqEy3crFyP+WXjkJdPs\n",
       "KU0AMlaEKlnK1rLVl0+V5ESLT1RKlfBxo7Hh6THw7FpIfoqtVYP6W2uKdUVcqaxqPUeq5A/m+ah5\n",
       "dhu0LBALHR4TUMWil/Dqj4GMPGwtMNtvZ2FwIYyQWhyEQWUx6OJP2N9JjWJbksgaOgdH2MkDi+ag\n",
       "UUarTKzvJ41vkDMihHmjpLShPflFZju6/vZk2gyCEftbINGOZeX8Zk0bOXZepItl3/X2+VV3DB4k\n",
       "3qRCzGJAsj03mc6ScgAN8KWfKn1OPWptzvNSGDa7WCiyUutZ/GlDcEsvilOyGDfAKUgvtDCvCw2E\n",
       "09jzyZSmCZFEB2yglV10Z2qhdONH3ZJ+n1zJTSIYbXQeU9cpZGH/ZQ1okc2tQRzvpMSnRF5cFae6\n",
       "5gJSWR7OwQQzMc+h56pFl2tLE4f83UaYvylU1ZFd6iueVF65G9fJshXMpubV/uhP+yj1XhWBFyqm\n",
       "z2PYNPN4nrMcNbwMRzYS1Zb4cjwt+MOSwl2w4MWBFQoJdtrTrd3Rk0O7O2g9ZrHHlJM0tHHpEGdC\n",
       "h8EF9SrJ/jL88lQfBxy/L2XkTHxYzxkx1rrNtNZitj06KppXkpBIojsbMJHvNQMgR1l2i/x667a9\n",
       "tZtJWGZHhnCMxevkx6CWd1HTfFbs2/skP9Upn6k4UWcbEC6R3cAbCjXlEaZC6IYwsplESnKRy2Da\n",
       "kejvbknJIRl9fH2bMs2/cZ6/0GU95mC7g3sXbnd5kclxNlKda9KE/jIrsmwTsVL7wxUK2rQY+Xha\n",
       "dgzLxFaHNcnkD9fht56rS5iS9AOImqZHXUF+Z3mLBRvcTgdqD/MIosyxqEuyNaO1Q1bhT5gAOGeF\n",
       "8XDMjWd18e6q5aB9NAV8dkrYD6RO6xr6MKlXbSvpHVdhXWEgDdLXI3az3rdwRvRtIyw8nqR+ikhd\n",
       "5cy+fO64yiottuVLGQVY8uAzmjTXS3sbsEHuCS0IxNbnHhFwiwsWOenRgjI2ET/eAv3bves0cbMn\n",
       "KLjh4jTJc8xO078gXUMhIeHxib4d/wPaoxXDe8kenDXrPOqt3pH1bjgPOrLteY6Y1cWoo/b5burh\n",
       "8WaNeM97g6CT1BAmQC2iHPwMi4rwtJVVZaSvRH7lGR1REwE6t7s0TDg/gCpDcSYe1JigPWX8glYV\n",
       "dsRlmygC0G7LKbk6EZM88KFUygHhgnavUZJkTV5B1ujSyq76S6saQEGfQ5xTpfM6PWq9E4lwSbcQ\n",
       "L8LYrK9CRLGGqmbTieB1JlUTZOHIqR22S8EmUXjR7ehXWolA3wsVfTpC9dfne9aXYRsLLFg2l4JA\n",
       "cDwD/Rk/Vm/q/LJ2sHjzcuPd1oZAvwQpbrURmSrCrQKtl1wA07D4oY8fbamO2FOZ25OqJ4cnT8yw\n",
       "/YVCQKgJOx7m/1pvrZWjzyakqgLty3bEVtR698+jHsL9xoKfeN3I/nVcLTQ7E19Wy73hpxdRIzCh\n",
       "Yy4CFf6sZUFZ5Gkq8+ZxnYqhZJmnuSSi24EAnXicvQCMN8A9WLyNc6m40yioaMJeTJEwRQ5kpD1T\n",
       "0W2JkEilQgIrUe83gH9aw6DlHA6yIj5FvsSE9t/JJYSqTiFamKJv/k/7oAuFIvhZNAlqD84Ugdy7\n",
       "y6KQ/l+hej4xdEZTE1raxq+9eMxmKhgqMu9kti3Q1IbFpzCTgHKWstw8shaWMOXxGbDX4g3QomnN\n",
       "kNUQ4wctWj8ns5hOOVaMxCXRsnMckzOkWMc+JwReVgPOjKWqxEGch/C77cLPad4oxpjYdQujxR4A\n",
       "Sl7X21JT++YaRrZvzQ+YUc5HeIi+SXzECd0L7/xBRv/E2FAbtDv0sVlxYpLWvADB8jnQrh2hwt2K\n",
       "/IFWNyCKJB/Qpsqgr/aKGl/rTlJxDIy/2IQAgBxOenNDGuOB7wroY1XnrBhpulFGRePC3lMdXB9Y\n",
       "Hs6BSWHtG3neWN+zqTh7fgJGTncm46osa7MPfWMyU7ZX2LKIoD0SlVkBxmace05SVnop3RstWyV5\n",
       "uk8AAAEwAZ+1akN/ABkgBQ1usz+z6/3wL+I4Nx9IAC2///oOXUJbwW2atfg/nLQNAajkb0ho9vLd\n",
       "LwAqcs7ThFPydh7V9BIoXiVQ1qrjrx2c4wuLyofgt+Eg1HcOe8m9eZPjAcPzMXfCv1WcBnghDCuC\n",
       "6LvLvLkYEQ6hDayyR08aibg5vMRSl7h8JamysPzVL2r53lnXpGMvENbijMAsMm13JzpHap2NG/JP\n",
       "KfMM+B/CRwi5gH+aAECTH97fql08IYT8aq8Yd40W03X/qxm7XPCywgPK8JhEyskUcrUXdB5pyO7V\n",
       "ZvuuTX/7A4JblwM3KuQ8i8eFgYJhG2+d16W6P3nCGMuAHOvgPPSidh7SLkKQWIyLNlpJug6hsQmA\n",
       "3XgSY2kfiJMt/axUK35BIIwAhd8BywAyoAAAB9pBm7pJ4Q6JlMCG//6nhAAYe1CwkIPWGdw0AIu6\n",
       "U8xIut2Rqy2sj5l3zKvfJOx2kj+nsv6q/xSSZ/TpLoqzxb1npio59eqwxVcgPtHI38mBiHI2J0FM\n",
       "PIY+554zgPogegdagsHantm4byskXstUmRYfQpYj7oNc45c8wgEJZZNspTxcjzxprMH1x9UnYXJK\n",
       "SOVhP8eAM1Dd+MIJyy8Q4vj4srkfYiPxfkI9VIoTpVPd729FQQ2K8XPjfdRV7I8hDd3qDIfkdD6w\n",
       "7o4w6aF5b+Ao8vlZAtTgiHv8DCqENl2PmL5FFVLjxszq6c4HWxSLwV7o1Qupku7R1wOhSvi5iWgu\n",
       "ZWQGjl0Ecm/45xc1STEz1uvFJkPuS+nulcfdhpzt2bV/dlIIlA8ePYPhxaRjEVYyyVxRJGfAPYTt\n",
       "W8oRkguzclb00+//y3ag31WVExeYV9ToVJa/vK48oAoPwvK4vMTi5NXnL/iS766QAqyo0ZP0TCg5\n",
       "Epn5ex6hlnMh63KogA4h86bEbalOEFCpxbbdCzl6aH9XQ6PcNN+W/VtXP7H/VE9LQVpc5T8UFjJ2\n",
       "/QgvmSmm8CYUXyNcAyuGms4qjZj4TIHt1dg8eWpckreAUT88uiRhsxDqMF+r6RKwB7rFUa+49ika\n",
       "j5YK1G8o6OkRh0Z1L8YbKyJkjaUEn+fKind8utsccB7pzpqqaCOdigNopYEYLqZllSgEtNc2pY/Y\n",
       "FrXGX3FFEiQuPdF1CH/OBQ8AMaEQI9GmfCqWyXAJJuc5PzdlQezvEZ2ncEsmwxB76Bb1ynI510DI\n",
       "597SWvN1i1QhTjZGrLT39NurzCId93N+9HwQ/LtbxstuQyi9RSawvcUtgq2at1qp5Z3Ur34OoGb+\n",
       "pG1tZ10yqmQcZfsMXikubJtAJDvQpYt8RH3OvqMCH8XgG5FVRfJs+dDmyHQhnS4nYUzbCGyjYEaY\n",
       "SPqFM/UTiUJRr9n3VYmauUFTlT6+GmaK/RpmzQxfNSWFtET+kpJjhpBt9g/eMSdSbT57WeyH40ev\n",
       "Jvxzw6Of5wi6AMNHxy+K4RfiuYfPeT1vl0yTEhkQ9lB3ldwrWGwRY40z2w31kAdmSkXFu66Lf7pQ\n",
       "/l0cmr37cS1YOSQko4CmfQXRjTVTRnFAkFKx789NLCHOF2Kp7Zk3/z8kfGXhIxRtLQuYXDGk5fyY\n",
       "OVj+16HtATP/3zQdFkkdHGeap6jcEvw3ZawxWrwC3fIUhpf/g+r8dyswUDi83aikPtpBLrQvFoY9\n",
       "vDKVXQmNv0IzOXkqEbwqNmFCqaUeZoOORzABDEJEkMKBjRHfweiL9+49eTQufWnTQmjjWHMLzqvy\n",
       "yqP2roP0ydxcTwYagU9aPxetv9L+VDTSI5gGDxslKQMrgPu7jy9nbfMmRTuJBpyUPgL+T1lNF/jH\n",
       "2f4NjcmPpnYuytDT/KWP2Sagr3AA44d3yTWHKB8jdjRwScCwYWAr2+fvRWosOz4Y8lCpwKavMP/Q\n",
       "O9KQ2YIHAzf5Wft+9lmMeX+KJnauqkKNxkDqXkFGjPkSai7d8KZG9eftKrSFLMgo/cRHgIdXHdTe\n",
       "K+hSN5uXZP9/L3MGGtQi62AwjqMThIZoSNp7GkD6mnPzY3W7h+H3ZoxwDVu8DwNZxG+HE14uiyUV\n",
       "e/5xKtTXEo+74U5jAFUHmXX1H2jdfAD9PQ/XV1IxiAvuu7uc7KOWDSRLx0URIYSHIFiyUeah5k3G\n",
       "sT3ZO6c+l5SwrszRm1GPnMEXrUbrgd+LVgGDoMXMCE6tcBHOxJwu95JG00bvIzotxkpo95flNrsS\n",
       "DftOT70iqTfsM7eqh8ZuxDw9VE/jbbe76wBQhvJ0w15GlqVMD8d+REzEt9fRYWSWPH/huji3ozJQ\n",
       "+5Ncy6g7LiTyJmJeQ16w6oofuAPOpmC/PKIpMuuR1Qj6Ozk27NQBNm5LM/+iqYedeMDd3N4hjaoA\n",
       "S7WrOmlD2J4I6j+2RnhQpoR6B93WEsyevcUxaLKFVRGA6xA5KnyGOF6r9EJyIQso5MkAnlOcj5Um\n",
       "drBIVjRa3luj5YwYib1+px+u4nAWQoCr1NQ3zWf7NKeL+XtNkcFxYIVlkkzl4ZSB07MXoMmcUc/R\n",
       "fh7TTNnK/eQQabbmi0MjdiFxuWYay3FBuGFG/1WTQOq1lB3hQapPE4IyXL6207Z2csgnsHD9JowV\n",
       "cO2Xk6/bJRa/VkVBJFO88Ip3WzZxXxN95qrOtk/oLXAESv68yqS4ncdH0yt8HePMJyUpy2ZcMudL\n",
       "GfqN3DiprVJdu8+LF8WFQYHUJipP2w28rlC3PSIz9FzUVO2cO55AgNQN6N6h9Di+N1Z+2qTdi81A\n",
       "Qo5KSxqeLR9h67q64KbLMQNWFMZvn7W3V7Vqj+bqio/515JjDGwe3+2/quUC5i2WJ7yHy5Cxjhgz\n",
       "uaEaTWejJGHsEaC+IrN+jOgg8IxXUg5P7kN4HMjdrJBzjKPJu1Cuo45wORByQxIDMY88GSWMak+H\n",
       "7DteeoavDOrBO1OXUdyeVDKkY4Wvb6GrICW9lKmSdRjomcQcnngo6zrC7FLLDVVfSvX+8Sbr6Z53\n",
       "yYItd+za7tUz40XkqfWnXaDJ27kdvSlqjWPD0Elp3zv6SVqMVPHX1mSkiVQl7JKhIzbo8RT7qoFi\n",
       "czbek3rgdY9Y+++/JHz/3yWk3AA6aw+EwhJ09IGjCl9YPhEJ5k1C3YHpcSEAAAG2QZ/YRRU8O/8A\n",
       "EQitROSgtm5qF96AD1kojSX19rsJ/NtmhSkqorZQpBUYWjQTtiyNdAL6Gf86nmgSP40V9dAudzB+\n",
       "C6AWWGp+JOuMtzSi0WZ+GFXfgsp50wjgypKF+k292ggOz9dK1p+aFhSmBAIoIJovYEpAq6TXswCL\n",
       "9gWcu+j8Xm4lYf6JdaB3lfPpezQzrGwePvrTBcAY38K+YMzZopzp1J+xgFKkmey7+9OxOYPfO52z\n",
       "bqnqlIYuOiUa09fVC+q5OPFuE6fLLHQvNxVxXgPTHMPG0+qh2hILAd8BTQ1gjVBJR4xIXkCzSsqR\n",
       "3Zud6FJ15lgHdOwmNP+OIYaJ3RV7QSagrHCkIWHkaaCUykOI5VDBLSROjPODN32g9kndeHZ9Ahgn\n",
       "FxLimen0aVwBEovyySmC09FH3deVD0klGiXf7fLQZS4p1ZX4oB082hI+TlQZLdfD2Ccf34sIl3pH\n",
       "L+7gkCfN4hvs43D1Lo+hmkRR+q40wodg/h1djb+adQgj5o6B4xI5W+3o642F/YxGKPJhmi4vhHKu\n",
       "znYPDvdGf3sR0ZJqP/2t7vg2HQZYtOV/SftZgPCBAAAB3QGf93RDfwAIrNzuiGCzC/mWF3hCkgVO\n",
       "85vRzyPImYkacCPxG5S1cFItcBE9v14DiUyAAtOPulFvBHsrmhYdN9z9tttUYoTkifM4n3YbRd6p\n",
       "RNlX6BM31mLGGEO6TETPEhPEf7aW9M433+zMJ/CjtphYQxncfDfsXWZ7K93oLmNbtQmtpIYsDw1X\n",
       "9t1Oz01P+tEWoue0quX5vc1NHwgEEwQkmx39snaO18eNq31///j1VLIV8UH1TM60rAUq/Bj1Cc5/\n",
       "xiTQp2zpl4QDuPmB9FD55JUXS5Bwb7Olv4oP+aY8O+skKq5pf8OvTGw1nmGvdOqT4jnz84sLZTvq\n",
       "v4m9ptEkjkdnakdHS2d5L2mmG0EVvMBzF+wqpRqANvg0U2IwKYN4CxuyxuyMkHJmfMx20i1jL2k2\n",
       "oa/983k2kUwo6t/uTvukSCjWHW2m1P9qPmaeSaATzE9GJINui8XeYuTbEqYHnoiYNqJU9WcOdEqi\n",
       "rnCg6RorOW+kVgW3xJHaPZfzQGRcnTh6OOx2S3Hp2aLARR4BHlmYNjqD0o3qBjdA/D6gD89Cqhfm\n",
       "egg//F9nq0Ml/S4TR7UTLYrIhTnkLt7o9kyyeojCg//v9IBPskevJFMBvrkFIx/QxUmiSGRmVAAA\n",
       "Am4Bn/lqQ38AAyQBi3mLqAFXy4xvkg6wpHrUfYLGM4smYuAAc3vuFIJ/yTgbSRc67PCSvPr2yrab\n",
       "pSB4Er7x5eaY0XdtMNdp2zaTZtucMrs2F+lVEaxlOKL+j81uXArMOqdRR31aRH4s+2v2hdh0zFRf\n",
       "gWqy84W/I/q7QUTSUlbSYDBublJouhmhmkLR6ul802rI6dgGVZjcmz3TCs7bTxSC8SKKJu952PSe\n",
       "ddNCgR3D1/qVdfy5kewXnnSmLVzz+I06Mq2jQ/LUgR1SZJTmvRTlq2rdWCh280hdof4JbmV82LBm\n",
       "0dhBIvimcPuKlgKMKjae5XdM5rLmzaM3H25DTznp2+R0n5Rrxq25ALDZM8JN5GRIOOv+8PVWRQNw\n",
       "iMELUReatueqQtA3nYhKIAQjAwuD7GB8IImLYuOaxLdIrc2U/USk++fRnbRtkkWKFtwNvIk98yxo\n",
       "NmJh5eq2RRKOqmFmQMJXEBC499EgSjbvqwW3H+eFAT7T+usrSd19UykO80cr9Rsa2Q+JztZkXPUe\n",
       "DwMcvYkaMesxZJ6wP2D3K2wu8bpfJ+H4TLdxeF8wH/bfg58ziTHFTexW59QY87+5CcpcHMIxfFre\n",
       "S6pXqmRR+YsGcbaJ/xApAY9DdWNLZ6gvWq1BZ/lfhG0Sbzo58oO5pDQjfeu652O1n3/19opHZmql\n",
       "zqbDwUF92GxNdmjQFIazRD5dvZw+1YD7mUGzyGFVzyMbDzqjzEjldZybyXwAIoquSUIpBLxUohyK\n",
       "yDSaLPkH2U94V90cy0UapeyFIiUL5AzeoJKl1AnkqmtajGIkAGBBuNMZjRQughtKIbe1IvkxAAAD\n",
       "L0Gb+0moQWiZTAhv//6nhAAAH7B+8ukYNEcrdmHRwShVm4GgYOWahF/QS4T+oa5qkG59a0ZWlq4+\n",
       "AC0O78hkYLiptKjXunUGAq65ZOrADLJbK+vbAlQ3QhOPpwTp2tZaB/G5PxbJHi5cvbtvU59uMPFc\n",
       "BPoS/wj94WlUFS4eJR8Z39cqRj8myDGGZ0eGNR+YKhQ7Wxt1KJreEzUx+CFCblM/33C3VV3UXPDN\n",
       "bkyVMzv+9xXBOuzNkr8Q8FDk0NF2b9KOR5HKlLzOfLFxikjiIrMdskwhL/MoWpgqw19t0gprjZIo\n",
       "2FPPsPOr+C+9Q94ySIV6LnDn/v1apX0pOaEC+uQ5Yg3g3fryGKdm6Hubyk7ui0C+ECNPrnLJHrEH\n",
       "zFbLTqCzY59ngXe0kyzzyPbVXORJ4Q4IjGWjmBUppdLaPOm5L7YCLaQu/raPwCDqH1WZUwkFWc+V\n",
       "Sc5i6RxcuhWEjidAUmJQA+EDQk4Fca5BftDJKrwgdOpgZPpcMw7cz42Kkeg49pMbCTpeTM1uyvYG\n",
       "ZITjtZtzW4qvYw1gHOEhyUs/rydLz7zNb/6KU5FXD8HY+f/YoNJ3yzcc1Uu9C2AurBnH2lWicskt\n",
       "8Rd2GSLCXyVeNCkBYAhCRJc0CGgxOs+b3DYuovXslFar6tpXOGjySdLzQGkSZvdobbxP+jft1t0x\n",
       "cMWtsdDj9LYlPUvWDiucL3mMZUzsvoi7MT5wFkUzVdSxmQnb+xb9ax0oM3VIelER+DW1SH4MqMfL\n",
       "kkNeoMqcSj2FJrk4qmN9REHwwFhBXAsE+zy3d7B0wiIdqs1XaeNdGiJhTqZDVP4oZgzFhsukOLcH\n",
       "1lq2DKvU/Krbx4ZRUqbSqJhzA/Uvcir3fpnhm/8V569hQngissVgo/qR9WhSci/pPTHUJ85EQqfY\n",
       "75VCX+Ne0cHcjf+BdIeZbtWvi/GuAxvVwcMHYFPi7+9LbTQ0uHrWEB9+r3bGv/jLsgTOf+p2kpWI\n",
       "GqRAtX0OSEJ6u7cdlo2ZLqmcTeHKNnuyhkysfh0SYOU3ECeCCCFcjOGKoVaSYMjg5/w+NUKQtQyh\n",
       "mH3uC24XBoAETa1u8ypSwF3AAAAF+W1vb3YAAABsbXZoZAAAAAAAAAAAAAAAAAAAA+gAABdwAAEA\n",
       "AAEAAAAAAAAAAAAAAAABAAAAAAAAAAAAAAAAAAAAAQAAAAAAAAAAAAAAAAAAQAAAAAAAAAAAAAAA\n",
       "AAAAAAAAAAAAAAAAAAAAAAAAAAIAAAUkdHJhawAAAFx0a2hkAAAAAwAAAAAAAAAAAAAAAQAAAAAA\n",
       "ABdwAAAAAAAAAAAAAAAAAAAAAAABAAAAAAAAAAAAAAAAAAAAAQAAAAAAAAAAAAAAAAAAQAAAAAKA\n",
       "AAAB4AAAAAAAJGVkdHMAAAAcZWxzdAAAAAAAAAABAAAXcAAACAAAAQAAAAAEnG1kaWEAAAAgbWRo\n",
       "ZAAAAAAAAAAAAAAAAAAAKAAAAPAAVcQAAAAAAC1oZGxyAAAAAAAAAAB2aWRlAAAAAAAAAAAAAAAA\n",
       "VmlkZW9IYW5kbGVyAAAABEdtaW5mAAAAFHZtaGQAAAABAAAAAAAAAAAAAAAkZGluZgAAABxkcmVm\n",
       "AAAAAAAAAAEAAAAMdXJsIAAAAAEAAAQHc3RibAAAALdzdHNkAAAAAAAAAAEAAACnYXZjMQAAAAAA\n",
       "AAABAAAAAAAAAAAAAAAAAAAAAAKAAeAASAAAAEgAAAAAAAAAAQAAAAAAAAAAAAAAAAAAAAAAAAAA\n",
       "AAAAAAAAAAAAAAAAABj//wAAADVhdmNDAWQAFv/hABhnZAAWrNlAoD2hAAADAAEAAAMAFA8WLZYB\n",
       "AAZo6+PLIsD9+PgAAAAAHHV1aWRraEDyXyRPxbo5pRvPAyPzAAAAAAAAABhzdHRzAAAAAAAAAAEA\n",
       "AAA8AAAEAAAAABRzdHNzAAAAAAAAAAEAAAABAAAB6GN0dHMAAAAAAAAAOwAAAAEAAAgAAAAAAQAA\n",
       "FAAAAAABAAAIAAAAAAEAAAAAAAAAAQAABAAAAAABAAAUAAAAAAEAAAgAAAAAAQAAAAAAAAABAAAE\n",
       "AAAAAAEAABQAAAAAAQAACAAAAAABAAAAAAAAAAEAAAQAAAAAAQAADAAAAAABAAAEAAAAAAEAABQA\n",
       "AAAAAQAACAAAAAABAAAAAAAAAAEAAAQAAAAAAQAAFAAAAAABAAAIAAAAAAEAAAAAAAAAAQAABAAA\n",
       "AAABAAAQAAAAAAIAAAQAAAAAAQAADAAAAAABAAAEAAAAAAEAAAgAAAAAAQAADAAAAAABAAAEAAAA\n",
       "AAEAABQAAAAAAQAACAAAAAABAAAAAAAAAAEAAAQAAAAAAQAAFAAAAAABAAAIAAAAAAEAAAAAAAAA\n",
       "AQAABAAAAAABAAAMAAAAAAEAAAQAAAAAAQAADAAAAAABAAAEAAAAAAEAABQAAAAAAQAACAAAAAAB\n",
       "AAAAAAAAAAEAAAQAAAAAAQAAFAAAAAABAAAIAAAAAAEAAAAAAAAAAQAABAAAAAABAAAMAAAAAAEA\n",
       "AAQAAAAAAQAADAAAAAABAAAEAAAAAAEAABQAAAAAAQAACAAAAAABAAAAAAAAAAEAAAQAAAAAAQAA\n",
       "CAAAAAAcc3RzYwAAAAAAAAABAAAAAQAAADwAAAABAAABBHN0c3oAAAAAAAAAAAAAADwAABhlAAAH\n",
       "IQAAAPIAAAEMAAACLgAAC3YAAAGxAAABMwAAAeIAAAnjAAADOgAAAVIAAAE6AAAK7QAAAP4AAAog\n",
       "AAABCQAAATAAAAEzAAAKwgAAAsIAAAE1AAABOAAACu0AAAB3AAABHwAABTAAAADvAAAC+gAACzYA\n",
       "AAEkAAAKIwAAAR8AAAHKAAABKQAACbkAAAGKAAABTwAAAUwAAAjYAAABZQAABiQAAAEyAAAJjwAA\n",
       "AS4AAAEWAAABIgAACloAAAIyAAABSwAAAUcAAAjBAAABPwAACSgAAAE0AAAH3gAAAboAAAHhAAAC\n",
       "cgAAAzMAAAAUc3RjbwAAAAAAAAABAAAAMAAAAGF1ZHRhAAAAWW1ldGEAAAAAAAAAIWhkbHIAAAAA\n",
       "AAAAAG1kaXJhcHBsAAAAAAAAAAAAAAAALGlsc3QAAAAkqXRvbwAAABxkYXRhAAAAAQAAAABMYXZm\n",
       "NjAuMy4xMDA=\n",
       "\">\n",
       "  Your browser does not support the video tag.\n",
       "</video>"
      ],
      "text/plain": [
       "<IPython.core.display.HTML object>"
      ]
     },
     "metadata": {},
     "output_type": "display_data"
    }
   ],
   "source": [
    "# アニメーションの描画\n",
    "fig, ax = plt.subplots(dpi=100)\n",
    "ax.set(xticks=[], yticks=[])\n",
    "\n",
    "# 各フレームの描画\n",
    "draw = []\n",
    "for i, f in enumerate(frames):\n",
    "    ims = plt.imshow(f)\n",
    "    draw.append([ims])\n",
    "\n",
    "# アニメーションの作成\n",
    "ani = ArtistAnimation(fig, draw, interval=100, blit=True)\n",
    "html = display.HTML(ani.to_html5_video())\n",
    "display.display(html)\n",
    "\n",
    "# Matplotlibのウィンドウを閉じる\n",
    "plt.close()"
   ]
  },
  {
   "cell_type": "markdown",
   "metadata": {
    "editable": true,
    "slideshow": {
     "slide_type": ""
    },
    "tags": []
   },
   "source": [
    "最終的な状態において、黒番、白番がそれぞれ何個のセルを専有しているかは`count`関数により計算できる。"
   ]
  },
  {
   "cell_type": "code",
   "execution_count": 15,
   "metadata": {
    "editable": true,
    "slideshow": {
     "slide_type": ""
    },
    "tags": []
   },
   "outputs": [
    {
     "name": "stdout",
     "output_type": "stream",
     "text": [
      "(black, white) = (27, 37)\n"
     ]
    }
   ],
   "source": [
    "# 黒番、白番の獲得セル数がtuple型で与えられる\n",
    "print(\"(black, white) =\", env.count())"
   ]
  },
  {
   "cell_type": "code",
   "execution_count": 16,
   "metadata": {
    "editable": true,
    "slideshow": {
     "slide_type": ""
    },
    "tags": []
   },
   "outputs": [
    {
     "name": "stdout",
     "output_type": "stream",
     "text": [
      "#black: 27\n",
      "#white: 37\n"
     ]
    }
   ],
   "source": [
    "# 黒番だけ、白番だけも計算可能\n",
    "print(\"#black:\", env.count(Player.BLACK))\n",
    "print(\"#white:\", env.count(Player.WHITE))"
   ]
  },
  {
   "cell_type": "markdown",
   "metadata": {
    "editable": true,
    "slideshow": {
     "slide_type": ""
    },
    "tags": []
   },
   "source": [
    "最後に、両者ランダムに着手する場合に1000回対戦すると、どの程度の勝敗になるのかを調べてみる。"
   ]
  },
  {
   "cell_type": "code",
   "execution_count": 17,
   "metadata": {
    "editable": true,
    "slideshow": {
     "slide_type": ""
    },
    "tags": []
   },
   "outputs": [
    {
     "data": {
      "application/vnd.jupyter.widget-view+json": {
       "model_id": "20e2174eb66543fcb00d5a426d3a9e7c",
       "version_major": 2,
       "version_minor": 0
      },
      "text/plain": [
       "  0%|          | 0/1000 [00:00<?, ?it/s]"
      ]
     },
     "metadata": {},
     "output_type": "display_data"
    }
   ],
   "source": [
    "def match():\n",
    "    # ゲームのリセット\n",
    "    env = othello.make()\n",
    "    player, _ = env.reset()\n",
    "\n",
    "    # エピソード開始\n",
    "    while not env.gameset():\n",
    "        # 有効手の列挙\n",
    "        moves = env.legal_moves(player)\n",
    "\n",
    "        # 着手可能な手があればランダムに1つを選ぶ\n",
    "        # 選べる手がなければパスする\n",
    "        if len(moves) == 0:\n",
    "            move = Move.Pass(player)\n",
    "        else:\n",
    "            move = np.random.choice(moves)\n",
    "\n",
    "        # 着手による盤の状態の更新\n",
    "        player, _ = env.step(move)\n",
    "\n",
    "    return env.count()\n",
    "\n",
    "\n",
    "with tqdm_joblib(n_episodes):\n",
    "    result = joblib.Parallel(n_jobs=n_jobs)(\n",
    "        (joblib.delayed(match)() for _ in range(n_episodes)),\n",
    "    )\n",
    "\n",
    "result = np.array(result, dtype=\"int32\")\n",
    "b_win = np.sum(result[:, 0] > result[:, 1])\n",
    "w_win = np.sum(result[:, 0] < result[:, 1])\n",
    "draw = np.sum(result[:, 0] == result[:, 1])"
   ]
  },
  {
   "cell_type": "code",
   "execution_count": 18,
   "metadata": {
    "editable": true,
    "slideshow": {
     "slide_type": ""
    },
    "tags": []
   },
   "outputs": [
    {
     "name": "stdout",
     "output_type": "stream",
     "text": [
      "Random vs Random\n",
      "B-win: 422, W-win: 534, Draw: 44\n"
     ]
    }
   ],
   "source": [
    "print(\"Random vs Random\")\n",
    "print(f\"B-win: {b_win:d}, W-win: {w_win:d}, Draw: {draw:d}\")"
   ]
  },
  {
   "cell_type": "markdown",
   "metadata": {
    "editable": true,
    "slideshow": {
     "slide_type": ""
    },
    "tags": []
   },
   "source": [
    "以下では、利便性のためにランダムに着手する関数として、`move_by_random`を作成しておく。"
   ]
  },
  {
   "cell_type": "code",
   "execution_count": 19,
   "metadata": {
    "editable": true,
    "slideshow": {
     "slide_type": ""
    },
    "tags": []
   },
   "outputs": [],
   "source": [
    "def move_by_random(env, player):\n",
    "    moves = env.legal_moves(player)\n",
    "    if len(moves) == 0:\n",
    "        return Move.Pass(player)\n",
    "    else:\n",
    "        return np.random.choice(moves)"
   ]
  },
  {
   "cell_type": "markdown",
   "metadata": {
    "editable": true,
    "slideshow": {
     "slide_type": ""
    },
    "tags": []
   },
   "source": [
    "## マス評価値による着手"
   ]
  },
  {
   "cell_type": "code",
   "execution_count": 20,
   "metadata": {
    "editable": true,
    "slideshow": {
     "slide_type": ""
    },
    "tags": []
   },
   "outputs": [],
   "source": [
    "scores = np.array(\n",
    "    [\n",
    "        [100, -40, 20, 5, 5, 20, -40, 100],\n",
    "        [-40, -80, -1, -1, -1, -1, -80, -40],\n",
    "        [20, -1, 5, 1, 1, 5, -1, 20],\n",
    "        [5, -1, 1, 0, 0, 1, -1, 5],\n",
    "        [5, -1, 1, 0, 0, 1, -1, 5],\n",
    "        [20, -1, 5, 1, 1, 5, -1, 20],\n",
    "        [-40, -80, -1, -1, -1, -1, -80, -40],\n",
    "        [100, -40, 20, 5, 5, 20, -40, 100],\n",
    "    ],\n",
    "    dtype=\"int32\",\n",
    ")"
   ]
  },
  {
   "cell_type": "code",
   "execution_count": 21,
   "metadata": {
    "editable": true,
    "slideshow": {
     "slide_type": ""
    },
    "tags": []
   },
   "outputs": [],
   "source": [
    "def move_by_score(env, player):\n",
    "    moves = env.legal_moves(player)\n",
    "    if len(moves) == 0:\n",
    "        return Move.Pass(player)\n",
    "    else:\n",
    "        best_move = moves[0]\n",
    "        best_score = -99999\n",
    "        for move in moves:\n",
    "            score = scores[move.x, move.y]\n",
    "            if best_score < score:\n",
    "                best_move = move\n",
    "                best_score = score\n",
    "        return best_move"
   ]
  },
  {
   "cell_type": "code",
   "execution_count": 22,
   "metadata": {
    "editable": true,
    "slideshow": {
     "slide_type": ""
    },
    "tags": []
   },
   "outputs": [],
   "source": [
    "# ゲームのリセット\n",
    "player, board = env.reset()\n",
    "frames = []\n",
    "\n",
    "# エピソード開始\n",
    "while not env.gameset():\n",
    "    # 黒番:\n",
    "    if player == Player.BLACK:\n",
    "        # セル評価値が最も高い場所に着手する\n",
    "        move = move_by_score(env, player)\n",
    "\n",
    "    # 白番:\n",
    "    if player == Player.WHITE:\n",
    "        # 着手可能な手があればランダムに1つを選ぶ\n",
    "        move = move_by_random(env, player)\n",
    "\n",
    "    # 着手による盤の状態の更新\n",
    "    player, _ = env.step(move)"
   ]
  },
  {
   "cell_type": "code",
   "execution_count": 23,
   "metadata": {
    "editable": true,
    "slideshow": {
     "slide_type": ""
    },
    "tags": []
   },
   "outputs": [
    {
     "data": {
      "image/png": "[encoded data removed]",
      "text/plain": [
       "+-+-+-+-+-+-+-+-+\n",
       "|x|x|x|x|x|x|x|o|\n",
       "+-+-+-+-+-+-+-+-+\n",
       "|o|o|o|o|x|x|x|x|\n",
       "+-+-+-+-+-+-+-+-+\n",
       "|o|o|o|x|o|o|x|x|\n",
       "+-+-+-+-+-+-+-+-+\n",
       "|o|x|o|o|x|o|x|x|\n",
       "+-+-+-+-+-+-+-+-+\n",
       "|o|x|o|o|o|x|x|x|\n",
       "+-+-+-+-+-+-+-+-+\n",
       "|o|o|x|x|x|x|x|x|\n",
       "+-+-+-+-+-+-+-+-+\n",
       "|o|x|o|o|o|o|x|x|\n",
       "+-+-+-+-+-+-+-+-+\n",
       "|o|x|o|o|o|o|x|o|\n",
       "+-+-+-+-+-+-+-+-+"
      ]
     },
     "execution_count": 23,
     "metadata": {},
     "output_type": "execute_result"
    }
   ],
   "source": [
    "env"
   ]
  },
  {
   "cell_type": "code",
   "execution_count": 24,
   "metadata": {
    "editable": true,
    "slideshow": {
     "slide_type": ""
    },
    "tags": []
   },
   "outputs": [
    {
     "data": {
      "application/vnd.jupyter.widget-view+json": {
       "model_id": "0d021287e10943d28cc3929019a3208a",
       "version_major": 2,
       "version_minor": 0
      },
      "text/plain": [
       "  0%|          | 0/1000 [00:00<?, ?it/s]"
      ]
     },
     "metadata": {},
     "output_type": "display_data"
    }
   ],
   "source": [
    "def match():\n",
    "    # ゲームのリセット\n",
    "    env = othello.make()\n",
    "    player, _ = env.reset()\n",
    "\n",
    "    # エピソード開始\n",
    "    while not env.gameset():\n",
    "        # 黒番:\n",
    "        if player == Player.BLACK:\n",
    "            # セル評価値が最も高い場所に着手する\n",
    "            move = move_by_score(env, player)\n",
    "        # 白番:\n",
    "        if player == Player.WHITE:\n",
    "            # 着手可能な手があればランダムに1つを選ぶ\n",
    "            move = move_by_random(env, player)\n",
    "\n",
    "        # 着手による盤の状態の更新\n",
    "        player, _ = env.step(move)\n",
    "\n",
    "    return env.count()\n",
    "\n",
    "\n",
    "with tqdm_joblib(n_episodes):\n",
    "    result = joblib.Parallel(n_jobs=n_jobs)(\n",
    "        (joblib.delayed(match)() for _ in range(n_episodes)),\n",
    "    )\n",
    "\n",
    "result = np.array(result, dtype=\"int32\")\n",
    "b_win = np.sum(result[:, 0] > result[:, 1])\n",
    "w_win = np.sum(result[:, 0] < result[:, 1])\n",
    "draw = np.sum(result[:, 0] == result[:, 1])"
   ]
  },
  {
   "cell_type": "code",
   "execution_count": 25,
   "metadata": {
    "editable": true,
    "slideshow": {
     "slide_type": ""
    },
    "tags": []
   },
   "outputs": [
    {
     "name": "stdout",
     "output_type": "stream",
     "text": [
      "Cell-score vs Random\n",
      "B-win: 739, W-win: 221, Draw: 40\n"
     ]
    }
   ],
   "source": [
    "print(\"Cell-score vs Random\")\n",
    "print(f\"B-win: {b_win:d}, W-win: {w_win:d}, Draw: {draw:d}\")"
   ]
  },
  {
   "cell_type": "markdown",
   "metadata": {
    "editable": true,
    "slideshow": {
     "slide_type": ""
    },
    "tags": []
   },
   "source": [
    "## ミニマックス探索による着手"
   ]
  },
  {
   "cell_type": "code",
   "execution_count": 26,
   "metadata": {
    "editable": true,
    "slideshow": {
     "slide_type": ""
    },
    "tags": []
   },
   "outputs": [],
   "source": [
    "def minimax(env, move, depth, max_depth):\n",
    "    next_player, _ = env.step(move)\n",
    "\n",
    "    if depth >= max_depth:\n",
    "        score = move.player.value * np.sum(env.board * scores)\n",
    "    else:\n",
    "        # 相手にとってのベストスコアを計算\n",
    "        best_score = -99999\n",
    "        for next_move in env.legal_moves(next_player):\n",
    "            score = minimax(env, next_move, depth + 1, max_depth)\n",
    "            if best_score < score:\n",
    "                best_score = score\n",
    "\n",
    "        # 自分にとっては相手のベストスコアは小さい方が良い\n",
    "        score = -best_score\n",
    "\n",
    "    env.undo()\n",
    "    return score"
   ]
  },
  {
   "cell_type": "code",
   "execution_count": 27,
   "metadata": {
    "editable": true,
    "slideshow": {
     "slide_type": ""
    },
    "tags": []
   },
   "outputs": [],
   "source": [
    "def move_by_minimax(env, player, max_depth=2):\n",
    "    moves = env.legal_moves(player)\n",
    "    if len(moves) == 0:\n",
    "        return Move.Pass(player)\n",
    "\n",
    "    best_move = moves[0]\n",
    "    best_score = -99999\n",
    "    for move in moves:\n",
    "        score = minimax(env, move, 0, max_depth)\n",
    "        if best_score < score:\n",
    "            best_move = move\n",
    "            best_score = score\n",
    "\n",
    "    return best_move"
   ]
  },
  {
   "cell_type": "code",
   "execution_count": 28,
   "metadata": {
    "editable": true,
    "slideshow": {
     "slide_type": ""
    },
    "tags": []
   },
   "outputs": [],
   "source": [
    "# ゲームのリセット\n",
    "player, _ = env.reset()\n",
    "\n",
    "# エピソード開始\n",
    "while not env.gameset():\n",
    "    # 有効手の列挙\n",
    "    moves = env.legal_moves(player)\n",
    "\n",
    "    # 黒番:\n",
    "    if player == Player.BLACK:\n",
    "        # ミニマックス探索\n",
    "        move = move_by_minimax(env, player, 2)\n",
    "    # 白番:\n",
    "    if player == Player.WHITE:\n",
    "        # 着手可能な手があればランダムに1つを選ぶ\n",
    "        move = move_by_random(env, player)\n",
    "\n",
    "    # 着手による盤の状態の更新\n",
    "    player, board = env.step(move)"
   ]
  },
  {
   "cell_type": "code",
   "execution_count": 29,
   "metadata": {
    "editable": true,
    "slideshow": {
     "slide_type": ""
    },
    "tags": []
   },
   "outputs": [
    {
     "data": {
      "image/png": "[encoded data removed]",
      "text/plain": [
       "+-+-+-+-+-+-+-+-+\n",
       "|o|o|o|x|x|x|x|o|\n",
       "+-+-+-+-+-+-+-+-+\n",
       "|o|o|o|x|x|x|x|o|\n",
       "+-+-+-+-+-+-+-+-+\n",
       "|o|o|o|o|x|x|o|o|\n",
       "+-+-+-+-+-+-+-+-+\n",
       "|o|o|x|o|o|o|x|o|\n",
       "+-+-+-+-+-+-+-+-+\n",
       "|o|o|o|x|o|o|x|o|\n",
       "+-+-+-+-+-+-+-+-+\n",
       "|o|o|o|o|x|o|o|o|\n",
       "+-+-+-+-+-+-+-+-+\n",
       "|o|o|o|o|o|o|o|o|\n",
       "+-+-+-+-+-+-+-+-+\n",
       "|o|o|o|o|o|o|o|o|\n",
       "+-+-+-+-+-+-+-+-+"
      ]
     },
     "execution_count": 29,
     "metadata": {},
     "output_type": "execute_result"
    }
   ],
   "source": [
    "env"
   ]
  },
  {
   "cell_type": "code",
   "execution_count": 30,
   "metadata": {
    "editable": true,
    "slideshow": {
     "slide_type": ""
    },
    "tags": []
   },
   "outputs": [
    {
     "data": {
      "application/vnd.jupyter.widget-view+json": {
       "model_id": "c96533b686164b5e9ca062f651d9a765",
       "version_major": 2,
       "version_minor": 0
      },
      "text/plain": [
       "  0%|          | 0/1000 [00:00<?, ?it/s]"
      ]
     },
     "metadata": {},
     "output_type": "display_data"
    }
   ],
   "source": [
    "def match():\n",
    "    # ゲームのリセット\n",
    "    env = othello.make()\n",
    "    player, board = env.reset()\n",
    "\n",
    "    # エピソード開始\n",
    "    while not env.gameset():\n",
    "        # 黒番:\n",
    "        if player == Player.BLACK:\n",
    "            # ミニマックス探索\n",
    "            move = move_by_minimax(env, player, 2)\n",
    "        # 白番:\n",
    "        if player == Player.WHITE:\n",
    "            # 着手可能な手があればランダムに1つを選ぶ\n",
    "            move = move_by_random(env, player)\n",
    "\n",
    "        # 着手による盤の状態の更新\n",
    "        player, _ = env.step(move)\n",
    "\n",
    "    return env.count()\n",
    "\n",
    "\n",
    "with tqdm_joblib(n_episodes):\n",
    "    result = joblib.Parallel(n_jobs=n_jobs)(\n",
    "        (joblib.delayed(match)() for _ in range(n_episodes)),\n",
    "    )\n",
    "\n",
    "result = np.array(result, dtype=\"int32\")\n",
    "b_win = np.sum(result[:, 0] > result[:, 1])\n",
    "w_win = np.sum(result[:, 0] < result[:, 1])\n",
    "draw = np.sum(result[:, 0] == result[:, 1])"
   ]
  },
  {
   "cell_type": "code",
   "execution_count": 31,
   "metadata": {
    "editable": true,
    "slideshow": {
     "slide_type": ""
    },
    "tags": []
   },
   "outputs": [
    {
     "name": "stdout",
     "output_type": "stream",
     "text": [
      "Minimax vs Random\n",
      "B-win: 932, W-win: 47, Draw: 21\n"
     ]
    }
   ],
   "source": [
    "print(\"Minimax vs Random\")\n",
    "print(f\"B-win: {b_win:d}, W-win: {w_win:d}, Draw: {draw:d}\")"
   ]
  },
  {
   "cell_type": "markdown",
   "metadata": {
    "editable": true,
    "slideshow": {
     "slide_type": ""
    },
    "tags": []
   },
   "source": [
    "上記の通り、ミニマックス探索で2手先を読むだけで飛躍的に勝率が上昇していることが分かる。"
   ]
  },
  {
   "cell_type": "markdown",
   "metadata": {
    "editable": true,
    "slideshow": {
     "slide_type": ""
    },
    "tags": []
   },
   "source": [
    "## 発展: アルファベータ探索による着手"
   ]
  },
  {
   "cell_type": "code",
   "execution_count": 32,
   "metadata": {
    "editable": true,
    "slideshow": {
     "slide_type": ""
    },
    "tags": []
   },
   "outputs": [],
   "source": [
    "def alpha_beta(env, move, depth, max_depth, limit=99999):\n",
    "    next_player, _ = env.step(move)\n",
    "\n",
    "    if depth >= max_depth:\n",
    "        score = move.player.value * np.sum(env.board * scores)\n",
    "    else:\n",
    "        # 相手にとってのベストスコアを計算\n",
    "        best_score = -99999\n",
    "        for next_move in env.legal_moves(next_player):\n",
    "            score = alpha_beta(env, next_move, depth + 1, max_depth, -best_score)\n",
    "            if best_score < score:\n",
    "                best_score = score\n",
    "\n",
    "            if best_score >= limit:\n",
    "                break\n",
    "\n",
    "        # 自分にとっては相手のベストスコアは小さい方が良い\n",
    "        score = -best_score\n",
    "\n",
    "    env.undo()\n",
    "    return score"
   ]
  },
  {
   "cell_type": "code",
   "execution_count": 33,
   "metadata": {
    "editable": true,
    "slideshow": {
     "slide_type": ""
    },
    "tags": []
   },
   "outputs": [],
   "source": [
    "def move_by_alpha_beta(env, player, max_depth=2):\n",
    "    moves = env.legal_moves(player)\n",
    "    if len(moves) == 0:\n",
    "        return Move.Pass(player)\n",
    "\n",
    "    best_move = moves[0]\n",
    "    best_score = -99999\n",
    "    for move in moves:\n",
    "        score = alpha_beta(env, move, 0, max_depth, -best_score)\n",
    "        if best_score < score:\n",
    "            best_move = move\n",
    "            best_score = score\n",
    "\n",
    "    return best_move"
   ]
  },
  {
   "cell_type": "code",
   "execution_count": 34,
   "metadata": {
    "editable": true,
    "slideshow": {
     "slide_type": ""
    },
    "tags": []
   },
   "outputs": [],
   "source": [
    "# ゲームのリセット\n",
    "player, board = env.reset()\n",
    "\n",
    "# エピソード開始\n",
    "while not env.gameset():\n",
    "    # 有効手の列挙\n",
    "    moves = env.legal_moves(player)\n",
    "\n",
    "    # 黒番:\n",
    "    if player == Player.BLACK:\n",
    "        # アルファ・ベータ探索\n",
    "        move = move_by_alpha_beta(env, player, 4)\n",
    "    # 白番:\n",
    "    if player == Player.WHITE:\n",
    "        # 着手可能な手があればランダムに1つを選ぶ\n",
    "        move = move_by_random(env, player)\n",
    "\n",
    "    # 着手による盤の状態の更新\n",
    "    player, board = env.step(move)"
   ]
  },
  {
   "cell_type": "code",
   "execution_count": 35,
   "metadata": {
    "editable": true,
    "slideshow": {
     "slide_type": ""
    },
    "tags": []
   },
   "outputs": [
    {
     "data": {
      "image/png": "[encoded data removed]",
      "text/plain": [
       "+-+-+-+-+-+-+-+-+\n",
       "|o|o|o|o|o|o|o|x|\n",
       "+-+-+-+-+-+-+-+-+\n",
       "|o|x|o|o|o|o|x|x|\n",
       "+-+-+-+-+-+-+-+-+\n",
       "|o|x|o|o|o|x|o|x|\n",
       "+-+-+-+-+-+-+-+-+\n",
       "|o|o|o|o|o|o|x|x|\n",
       "+-+-+-+-+-+-+-+-+\n",
       "|o|o|o|o|o|x|x|x|\n",
       "+-+-+-+-+-+-+-+-+\n",
       "|o|o|o|o|x|o|o|o|\n",
       "+-+-+-+-+-+-+-+-+\n",
       "|o|o|o|x|o|o|o|o|\n",
       "+-+-+-+-+-+-+-+-+\n",
       "|o|o|o|o|o|o|o|o|\n",
       "+-+-+-+-+-+-+-+-+"
      ]
     },
     "execution_count": 35,
     "metadata": {},
     "output_type": "execute_result"
    }
   ],
   "source": [
    "env"
   ]
  },
  {
   "cell_type": "code",
   "execution_count": 36,
   "metadata": {
    "editable": true,
    "slideshow": {
     "slide_type": ""
    },
    "tags": []
   },
   "outputs": [
    {
     "data": {
      "application/vnd.jupyter.widget-view+json": {
       "model_id": "5be0f0f91e354c4fa2738604c59e62d6",
       "version_major": 2,
       "version_minor": 0
      },
      "text/plain": [
       "  0%|          | 0/1000 [00:00<?, ?it/s]"
      ]
     },
     "metadata": {},
     "output_type": "display_data"
    }
   ],
   "source": [
    "def match():\n",
    "    # ゲームのリセット\n",
    "    env = othello.make()\n",
    "    player, board = env.reset()\n",
    "\n",
    "    # エピソード開始\n",
    "    while not env.gameset():\n",
    "        # 黒番:\n",
    "        if player == Player.BLACK:\n",
    "            # アルファ・ベータ探索\n",
    "            move = move_by_alpha_beta(env, player, 2)\n",
    "        # 白番:\n",
    "        if player == Player.WHITE:\n",
    "            # 着手可能な手があればランダムに1つを選ぶ\n",
    "            move = move_by_random(env, player)\n",
    "\n",
    "        # 着手による盤の状態の更新\n",
    "        player, _ = env.step(move)\n",
    "\n",
    "    return env.count()\n",
    "\n",
    "\n",
    "with tqdm_joblib(n_episodes):\n",
    "    result = joblib.Parallel(n_jobs=n_jobs)(\n",
    "        (joblib.delayed(match)() for _ in range(n_episodes)),\n",
    "    )\n",
    "\n",
    "result = np.array(result, dtype=\"int32\")\n",
    "b_win = np.sum(result[:, 0] > result[:, 1])\n",
    "w_win = np.sum(result[:, 0] < result[:, 1])\n",
    "draw = np.sum(result[:, 0] == result[:, 1])"
   ]
  },
  {
   "cell_type": "code",
   "execution_count": 37,
   "metadata": {
    "editable": true,
    "slideshow": {
     "slide_type": ""
    },
    "tags": []
   },
   "outputs": [
    {
     "name": "stdout",
     "output_type": "stream",
     "text": [
      "Alpha-Beta vs Random\n",
      "B-win: 932, W-win: 49, Draw: 19\n"
     ]
    }
   ],
   "source": [
    "print(\"Alpha-Beta vs Random\")\n",
    "print(f\"B-win: {b_win:d}, W-win: {w_win:d}, Draw: {draw:d}\")"
   ]
  },
  {
   "cell_type": "markdown",
   "metadata": {
    "editable": true,
    "slideshow": {
     "slide_type": ""
    },
    "tags": []
   },
   "source": [
    "## 原始モンテカルロ探索"
   ]
  },
  {
   "cell_type": "code",
   "execution_count": 43,
   "metadata": {},
   "outputs": [],
   "source": [
    "def playout(env, move, n_trials):\n",
    "    oppo, board = env.step(move)\n",
    "    n_moves = len(env.history)\n",
    "\n",
    "    score = 0\n",
    "    for _ in range(n_trials):\n",
    "        player = oppo\n",
    "        env.board = board\n",
    "        env.history = env.history[:n_moves]\n",
    "        env.stack = env.stack[:n_moves]\n",
    "\n",
    "        while not env.gameset():\n",
    "            next_move = move_by_random(env, player)\n",
    "            player, _ = env.step(next_move)\n",
    "\n",
    "        if env.count(move.player) > env.count(oppo):\n",
    "            score += 1\n",
    "\n",
    "    env.undo()\n",
    "\n",
    "    return score"
   ]
  },
  {
   "cell_type": "code",
   "execution_count": 44,
   "metadata": {},
   "outputs": [],
   "source": [
    "def move_by_monte_carlo(env, player, n_trials=10):\n",
    "    moves = env.legal_moves(player)\n",
    "    if len(moves) == 0:\n",
    "        return Move.Pass(player)\n",
    "\n",
    "    best_move = moves[0]\n",
    "    best_score = 0\n",
    "    for move in moves:\n",
    "        score = playout(env, move, n_trials)\n",
    "        if best_score < score:\n",
    "            best_move = move\n",
    "            best_score = score\n",
    "\n",
    "    return best_move"
   ]
  },
  {
   "cell_type": "code",
   "execution_count": 45,
   "metadata": {},
   "outputs": [],
   "source": [
    "# ゲームのリセット\n",
    "player, board = env.reset()\n",
    "\n",
    "# エピソード開始\n",
    "while not env.gameset():\n",
    "    # 有効手の列挙\n",
    "    moves = env.legal_moves(player)\n",
    "\n",
    "    # 黒番:\n",
    "    if player == Player.BLACK:\n",
    "        # 原始モンテカルロ探索\n",
    "        move = move_by_monte_carlo(env, player)\n",
    "    # 白番:\n",
    "    if player == Player.WHITE:\n",
    "        # 着手可能な手があればランダムに1つを選ぶ\n",
    "        move = move_by_random(env, player)\n",
    "\n",
    "    # 着手による盤の状態の更新\n",
    "    player, board = env.step(move)"
   ]
  },
  {
   "cell_type": "code",
   "execution_count": 46,
   "metadata": {},
   "outputs": [
    {
     "data": {
      "image/png": "[encoded data removed]",
      "text/plain": [
       "+-+-+-+-+-+-+-+-+\n",
       "|o|o|o|o|o|o|o|o|\n",
       "+-+-+-+-+-+-+-+-+\n",
       "|o|x|o|o|o|o|o|o|\n",
       "+-+-+-+-+-+-+-+-+\n",
       "|o|x|o|o|x|o|o|o|\n",
       "+-+-+-+-+-+-+-+-+\n",
       "|o|x|o|x|x|x|o|o|\n",
       "+-+-+-+-+-+-+-+-+\n",
       "|o|x|x|o|x|x|o|o|\n",
       "+-+-+-+-+-+-+-+-+\n",
       "|o|x|x|x|o|x|o|x|\n",
       "+-+-+-+-+-+-+-+-+\n",
       "|o|o|o|x|x|o|x|x|\n",
       "+-+-+-+-+-+-+-+-+\n",
       "|o|o|o|o|o|o|o|x|\n",
       "+-+-+-+-+-+-+-+-+"
      ]
     },
     "execution_count": 46,
     "metadata": {},
     "output_type": "execute_result"
    }
   ],
   "source": [
    "env"
   ]
  },
  {
   "cell_type": "code",
   "execution_count": 47,
   "metadata": {},
   "outputs": [
    {
     "data": {
      "application/vnd.jupyter.widget-view+json": {
       "model_id": "57c5c045e2004015b12d7f3988605647",
       "version_major": 2,
       "version_minor": 0
      },
      "text/plain": [
       "  0%|          | 0/100 [00:00<?, ?it/s]"
      ]
     },
     "metadata": {},
     "output_type": "display_data"
    }
   ],
   "source": [
    "def match():\n",
    "    # ゲームのリセット\n",
    "    env = othello.make()\n",
    "    player, board = env.reset()\n",
    "\n",
    "    # エピソード開始\n",
    "    while not env.gameset():\n",
    "        # 黒番:\n",
    "        if player == Player.BLACK:\n",
    "            # 原始モンテカルロ探索\n",
    "            move = move_by_monte_carlo(env, player)\n",
    "        # 白番:\n",
    "        if player == Player.WHITE:\n",
    "            # 着手可能な手があればランダムに1つを選ぶ\n",
    "            move = move_by_random(env, player)\n",
    "\n",
    "        # 着手による盤の状態の更新\n",
    "        player, _ = env.step(move)\n",
    "\n",
    "    return env.count()\n",
    "\n",
    "\n",
    "with tqdm_joblib(n_episodes // 10):\n",
    "    result = joblib.Parallel(n_jobs=n_jobs)(\n",
    "        (joblib.delayed(match)() for _ in range(n_episodes // 10)),\n",
    "    )\n",
    "\n",
    "result = np.array(result, dtype=\"int32\")\n",
    "b_win = np.sum(result[:, 0] > result[:, 1])\n",
    "w_win = np.sum(result[:, 0] < result[:, 1])\n",
    "draw = np.sum(result[:, 0] == result[:, 1])"
   ]
  },
  {
   "cell_type": "code",
   "execution_count": 48,
   "metadata": {},
   "outputs": [
    {
     "name": "stdout",
     "output_type": "stream",
     "text": [
      "Monte Carlo vs Random\n",
      "B-win: 83, W-win: 13, Draw: 4\n"
     ]
    }
   ],
   "source": [
    "print(\"Monte Carlo vs Random\")\n",
    "print(f\"B-win: {b_win:d}, W-win: {w_win:d}, Draw: {draw:d}\")"
   ]
  },
  {
   "cell_type": "code",
   "execution_count": null,
   "metadata": {},
   "outputs": [],
   "source": []
  }
 ],
 "metadata": {
  "kernelspec": {
   "display_name": "Python 3 (ipykernel)",
   "language": "python",
   "name": "python3"
  },
  "language_info": {
   "codemirror_mode": {
    "name": "ipython",
    "version": 3
   },
   "file_extension": ".py",
   "mimetype": "text/x-python",
   "name": "python",
   "nbconvert_exporter": "python",
   "pygments_lexer": "ipython3",
   "version": "3.9.17"
  }
 },
 "nbformat": 4,
 "nbformat_minor": 4
}

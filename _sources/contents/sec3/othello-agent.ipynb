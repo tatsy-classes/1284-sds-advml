{
 "cells": [
  {
   "cell_type": "markdown",
   "metadata": {
    "editable": true,
    "slideshow": {
     "slide_type": ""
    },
    "tags": []
   },
   "source": [
    "(sec:othello-agent)=\n",
    "# オセロAIの作成"
   ]
  },
  {
   "cell_type": "markdown",
   "metadata": {
    "editable": true,
    "slideshow": {
     "slide_type": ""
    },
    "tags": []
   },
   "source": [
    "ここからは、より高度な強化学習の対象としてオセロを取り扱う。ご存じの通り、オセロは(諸説あるものの)日本で発祥した「はさみ碁」の一種で、白と黒のディスクを8×8の盤の上に並べ、同色で挟まれたディスクを裏返すことで、より多くのマスを獲得した方が勝利するというゲームである。"
   ]
  },
  {
   "cell_type": "markdown",
   "metadata": {
    "editable": true,
    "slideshow": {
     "slide_type": ""
    },
    "tags": []
   },
   "source": [
    "```{note}\n",
    "オセロは日本以外ではリバーシのように呼ばれることがある。リバーシは初期状態として、ディスクが置かれていない状態からスタートするが、オセロは盤の中央に白黒2枚ずつのディスクを置いた状態からスタートする、という違いがある。\n",
    "\n",
    "参考: [オセロ（ボードゲーム）- Wikipedia](https://ja.wikipedia.org/wiki/%E3%82%AA%E3%82%BB%E3%83%AD_(%E3%83%9C%E3%83%BC%E3%83%89%E3%82%B2%E3%83%BC%E3%83%A0))\n",
    "```"
   ]
  },
  {
   "cell_type": "markdown",
   "metadata": {
    "editable": true,
    "slideshow": {
     "slide_type": ""
    },
    "tags": []
   },
   "source": [
    "---"
   ]
  },
  {
   "cell_type": "markdown",
   "metadata": {
    "editable": true,
    "slideshow": {
     "slide_type": ""
    },
    "tags": []
   },
   "source": [
    "**Google Colab用の準備**"
   ]
  },
  {
   "cell_type": "code",
   "execution_count": 1,
   "metadata": {
    "editable": true,
    "slideshow": {
     "slide_type": ""
    },
    "tags": [
     "remove-output",
     "hide-input"
    ]
   },
   "outputs": [
    {
     "name": "stdout",
     "output_type": "stream",
     "text": [
      "You are running the code in the local computer.\n"
     ]
    }
   ],
   "source": [
    "IN_COLAB = True\n",
    "try:\n",
    "    import google.colab\n",
    "\n",
    "    print(\"You are running the code in Google Colab.\")\n",
    "except:\n",
    "    IN_COLAB = False\n",
    "    print(\"You are running the code on the local computer.\")\n",
    "\n",
    "if IN_COLAB:\n",
    "    # Gymnasiumのインストール\n",
    "    !pip install myst-nb\n",
    "    !pip install git+https://github.com/tatsy-classes/cothello.git@v1.0.0\n",
    "    pass"
   ]
  },
  {
   "cell_type": "markdown",
   "metadata": {
    "editable": true,
    "slideshow": {
     "slide_type": ""
    },
    "tags": []
   },
   "source": [
    "**下準備のコード**"
   ]
  },
  {
   "cell_type": "code",
   "execution_count": 2,
   "metadata": {
    "editable": true,
    "slideshow": {
     "slide_type": ""
    },
    "tags": [
     "hide-input",
     "remove-output"
    ]
   },
   "outputs": [],
   "source": [
    "import time\n",
    "import random\n",
    "import contextlib\n",
    "import multiprocessing\n",
    "\n",
    "import numpy as np\n",
    "import joblib\n",
    "import matplotlib\n",
    "import IPython.display as display\n",
    "import matplotlib.pyplot as plt\n",
    "from myst_nb import glue\n",
    "from tqdm.notebook import tqdm\n",
    "from matplotlib.animation import ArtistAnimation\n",
    "\n",
    "matplotlib.rcParams[\"figure.dpi\"] = 200\n",
    "\n",
    "# 乱数シードの固定\n",
    "random.seed(12345)\n",
    "np.random.seed(12345)\n",
    "\n",
    "# 実験に用いるエピソード数\n",
    "n_episodes = 1000\n",
    "\n",
    "# 並列化スレッド数\n",
    "n_jobs = min(4, multiprocessing.cpu_count())"
   ]
  },
  {
   "cell_type": "code",
   "execution_count": 3,
   "metadata": {
    "editable": true,
    "slideshow": {
     "slide_type": ""
    },
    "tags": [
     "remove-input",
     "remove-output"
    ]
   },
   "outputs": [
    {
     "data": {
      "text/plain": [
       "1000"
      ]
     },
     "metadata": {
      "scrapbook": {
       "mime_prefix": "",
       "name": "n_episodes"
      }
     },
     "output_type": "display_data"
    }
   ],
   "source": [
    "glue(\"n_episodes\", n_episodes)"
   ]
  },
  {
   "cell_type": "code",
   "execution_count": 4,
   "metadata": {
    "editable": true,
    "slideshow": {
     "slide_type": ""
    },
    "tags": [
     "hide-input"
    ]
   },
   "outputs": [],
   "source": [
    "# joblib用のtqdm\n",
    "@contextlib.contextmanager\n",
    "def tqdm_joblib(total=None, **kwargs):\n",
    "    pbar = tqdm(total=total, miniters=1, smoothing=0, **kwargs)\n",
    "\n",
    "    class TqdmBatchCompletionCallback(joblib.parallel.BatchCompletionCallBack):\n",
    "        def __call__(self, *args, **kwargs):\n",
    "            pbar.update(n=self.batch_size)\n",
    "            return super().__call__(*args, **kwargs)\n",
    "\n",
    "    old_batch_callback = joblib.parallel.BatchCompletionCallBack\n",
    "    joblib.parallel.BatchCompletionCallBack = TqdmBatchCompletionCallback\n",
    "\n",
    "    try:\n",
    "        yield pbar\n",
    "    finally:\n",
    "        joblib.parallel.BatchCompletionCallBack = old_batch_callback\n",
    "        pbar.close()"
   ]
  },
  {
   "cell_type": "markdown",
   "metadata": {
    "editable": true,
    "slideshow": {
     "slide_type": ""
    },
    "tags": []
   },
   "source": [
    "## オセロゲーム環境"
   ]
  },
  {
   "cell_type": "markdown",
   "metadata": {
    "editable": true,
    "slideshow": {
     "slide_type": ""
    },
    "tags": []
   },
   "source": [
    "### オセロモジュールのインストール"
   ]
  },
  {
   "cell_type": "markdown",
   "metadata": {
    "editable": true,
    "slideshow": {
     "slide_type": ""
    },
    "tags": []
   },
   "source": [
    "今回は、講義用に用意したオセロ用のゲーム環境を用いる。ゲーム環境用のモジュールは以下のURLからダウンロードできる。\n",
    "\n",
    "<https://github.com/tatsy-classes/cothello/releases/>\n",
    "\n",
    "このURLにはPython3.9用のインストールパッケージ (Wheel)がOSごとに用意されている。Windows, Linuxの場合はそれぞれ対応するものを、MacOSの場合はM1, M2等のCPUを持つモデルなら`..._arm64.whl`、そうでない場合は`..._x86_64.whl`をダウンロードする。\n",
    "\n",
    "ダウンロード後、Anacondaの仮想環境を`advml`等の本資料用のものに切り替えた後、WindowsならコマンドプロンプトかPowerShell、Macならターミナルを開いて、以下のコマンドでパッケージをインストールする。\n",
    "\n",
    "```shell\n",
    "# \"xxx\"の部分は自分がダウンロードしたWheelのファイル名に読み替えること\n",
    "pip install xxx.whl\n",
    "```"
   ]
  },
  {
   "cell_type": "markdown",
   "metadata": {
    "editable": true,
    "slideshow": {
     "slide_type": ""
    },
    "tags": []
   },
   "source": [
    "### オセロモジュールの概要"
   ]
  },
  {
   "cell_type": "markdown",
   "metadata": {
    "editable": true,
    "slideshow": {
     "slide_type": ""
    },
    "tags": []
   },
   "source": [
    "このモジュールには大きく分けて、3つのクラスが定義されている。\n",
    "\n",
    "**Env**はオセロゲームを取り扱う環境で、有効手の列挙や盤の状態の更新などの関数を提供する。ただし、`Env`クラスは直接インスタンス化する代わりに、`gymnasium`と同様に環境作成用の`make`関数が用意されているので、こちらを用いる。\n",
    "\n",
    "**Move**はオセロゲームにおける「手」を表わすクラスで、現在のプレイヤーとディスクを置く場所を格納している。\n",
    "\n",
    "**Player**は厳密には列挙型として定義されていて、プレイヤーが黒番なのか白番なのかに加えて、次のプレイヤーに手渡しする関数などが提供されている。\n",
    "\n",
    "まずは、これらをモジュールからインポートして、ゲーム環境を作成してみる。"
   ]
  },
  {
   "cell_type": "code",
   "execution_count": 5,
   "metadata": {
    "editable": true,
    "slideshow": {
     "slide_type": ""
    },
    "tags": []
   },
   "outputs": [],
   "source": [
    "# オセロモジュールのインポート\n",
    "import othello\n",
    "from othello import Move, Player"
   ]
  },
  {
   "cell_type": "code",
   "execution_count": 6,
   "metadata": {
    "editable": true,
    "slideshow": {
     "slide_type": ""
    },
    "tags": []
   },
   "outputs": [
    {
     "data": {
      "image/png": "[encoded data removed]",
      "text/plain": [
       "+-+-+-+-+-+-+-+-+\n",
       "| | | | | | | | |\n",
       "+-+-+-+-+-+-+-+-+\n",
       "| | | | | | | | |\n",
       "+-+-+-+-+-+-+-+-+\n",
       "| | | | | | | | |\n",
       "+-+-+-+-+-+-+-+-+\n",
       "| | | | | | | | |\n",
       "+-+-+-+-+-+-+-+-+\n",
       "| | | | | | | | |\n",
       "+-+-+-+-+-+-+-+-+\n",
       "| | | | | | | | |\n",
       "+-+-+-+-+-+-+-+-+\n",
       "| | | | | | | | |\n",
       "+-+-+-+-+-+-+-+-+\n",
       "| | | | | | | | |\n",
       "+-+-+-+-+-+-+-+-+"
      ]
     },
     "execution_count": 6,
     "metadata": {},
     "output_type": "execute_result"
    }
   ],
   "source": [
    "# 環境の作成\n",
    "env = othello.make()\n",
    "env"
   ]
  },
  {
   "cell_type": "markdown",
   "metadata": {
    "editable": true,
    "slideshow": {
     "slide_type": ""
    },
    "tags": []
   },
   "source": [
    "上記のように、オセロ環境は初期状態ではディスクが配置されていない。ここでも`gymnasium`と同様に`reset`関数を呼び出すことで、ゲーム環境が初期化される。\n",
    "\n",
    "なお、オセロのプレイヤーや盤の情報などは全て変数`env`の中に`env.player`ならびに`env.board`として格納されており、`gymnasium`と異なっているので注意すること。"
   ]
  },
  {
   "cell_type": "code",
   "execution_count": 7,
   "metadata": {
    "editable": true,
    "slideshow": {
     "slide_type": ""
    },
    "tags": []
   },
   "outputs": [],
   "source": [
    "env.reset()"
   ]
  },
  {
   "cell_type": "code",
   "execution_count": 8,
   "metadata": {
    "editable": true,
    "slideshow": {
     "slide_type": ""
    },
    "tags": []
   },
   "outputs": [
    {
     "name": "stdout",
     "output_type": "stream",
     "text": [
      "BLACK\n"
     ]
    }
   ],
   "source": [
    "print(env.player)"
   ]
  },
  {
   "cell_type": "code",
   "execution_count": 9,
   "metadata": {
    "editable": true,
    "slideshow": {
     "slide_type": ""
    },
    "tags": []
   },
   "outputs": [
    {
     "name": "stdout",
     "output_type": "stream",
     "text": [
      "[[ 0  0  0  0  0  0  0  0]\n",
      " [ 0  0  0  0  0  0  0  0]\n",
      " [ 0  0  0  0  0  0  0  0]\n",
      " [ 0  0  0  1 -1  0  0  0]\n",
      " [ 0  0  0 -1  1  0  0  0]\n",
      " [ 0  0  0  0  0  0  0  0]\n",
      " [ 0  0  0  0  0  0  0  0]\n",
      " [ 0  0  0  0  0  0  0  0]]\n"
     ]
    }
   ],
   "source": [
    "print(env.board)"
   ]
  },
  {
   "cell_type": "markdown",
   "metadata": {
    "editable": true,
    "slideshow": {
     "slide_type": ""
    },
    "tags": []
   },
   "source": [
    "また、Jupyter Notebook環境においては`env`を表示することで盤面を表わす画像が表示されるようになっている。"
   ]
  },
  {
   "cell_type": "code",
   "execution_count": 10,
   "metadata": {
    "editable": true,
    "slideshow": {
     "slide_type": ""
    },
    "tags": []
   },
   "outputs": [
    {
     "data": {
      "image/png": "[encoded data removed]",
      "text/plain": [
       "+-+-+-+-+-+-+-+-+\n",
       "| | | | | | | | |\n",
       "+-+-+-+-+-+-+-+-+\n",
       "| | | | | | | | |\n",
       "+-+-+-+-+-+-+-+-+\n",
       "| | | | | | | | |\n",
       "+-+-+-+-+-+-+-+-+\n",
       "| | | |o|x| | | |\n",
       "+-+-+-+-+-+-+-+-+\n",
       "| | | |x|o| | | |\n",
       "+-+-+-+-+-+-+-+-+\n",
       "| | | | | | | | |\n",
       "+-+-+-+-+-+-+-+-+\n",
       "| | | | | | | | |\n",
       "+-+-+-+-+-+-+-+-+\n",
       "| | | | | | | | |\n",
       "+-+-+-+-+-+-+-+-+"
      ]
     },
     "execution_count": 10,
     "metadata": {},
     "output_type": "execute_result"
    }
   ],
   "source": [
    "env"
   ]
  },
  {
   "cell_type": "markdown",
   "metadata": {
    "editable": true,
    "slideshow": {
     "slide_type": ""
    },
    "tags": []
   },
   "source": [
    "## ランダムな着手"
   ]
  },
  {
   "cell_type": "markdown",
   "metadata": {
    "editable": true,
    "slideshow": {
     "slide_type": ""
    },
    "tags": []
   },
   "source": [
    "まずは、オセロ環境の仕様を理解するために、白番、黒番ともにランダムに行動させて、どのように状態が変化するかを見てみよう。\n",
    "\n",
    "`env`には、現在の盤の状態で取ることができる「有効手」の配列を取得する`legal_moves`関数が提供されている。"
   ]
  },
  {
   "cell_type": "code",
   "execution_count": 11,
   "metadata": {
    "editable": true,
    "slideshow": {
     "slide_type": ""
    },
    "tags": []
   },
   "outputs": [
    {
     "name": "stdout",
     "output_type": "stream",
     "text": [
      "[('BLACK', 3, 5), ('BLACK', 4, 6), ('BLACK', 5, 3), ('BLACK', 6, 4)]\n"
     ]
    }
   ],
   "source": [
    "moves = env.legal_moves()\n",
    "print(moves)"
   ]
  },
  {
   "cell_type": "markdown",
   "metadata": {
    "editable": true,
    "slideshow": {
     "slide_type": ""
    },
    "tags": []
   },
   "source": [
    "上記の出力から、黒番が3行5列、4行6列、5行3列、6行4列の4箇所のいずれかにディスクを置くことができることが分かる。\n",
    "\n",
    "着手を決定したら、`env.update`関数に手を表す変数を渡すと盤の状態が更新される。"
   ]
  },
  {
   "cell_type": "code",
   "execution_count": 12,
   "metadata": {
    "editable": true,
    "slideshow": {
     "slide_type": ""
    },
    "tags": []
   },
   "outputs": [],
   "source": [
    "env.update(moves[0])"
   ]
  },
  {
   "cell_type": "code",
   "execution_count": 13,
   "metadata": {
    "editable": true,
    "slideshow": {
     "slide_type": ""
    },
    "tags": []
   },
   "outputs": [
    {
     "name": "stdout",
     "output_type": "stream",
     "text": [
      "WHITE\n"
     ]
    }
   ],
   "source": [
    "print(env.player)"
   ]
  },
  {
   "cell_type": "code",
   "execution_count": 14,
   "metadata": {
    "editable": true,
    "slideshow": {
     "slide_type": ""
    },
    "tags": []
   },
   "outputs": [
    {
     "name": "stdout",
     "output_type": "stream",
     "text": [
      "[[ 0  0  0  0  0  0  0  0]\n",
      " [ 0  0  0  0  0  0  0  0]\n",
      " [ 0  0  0  0  1  0  0  0]\n",
      " [ 0  0  0  1  1  0  0  0]\n",
      " [ 0  0  0 -1  1  0  0  0]\n",
      " [ 0  0  0  0  0  0  0  0]\n",
      " [ 0  0  0  0  0  0  0  0]\n",
      " [ 0  0  0  0  0  0  0  0]]\n"
     ]
    }
   ],
   "source": [
    "print(env.board)"
   ]
  },
  {
   "cell_type": "markdown",
   "metadata": {
    "editable": true,
    "slideshow": {
     "slide_type": ""
    },
    "tags": []
   },
   "source": [
    "`env`のJupyter Notebook環境における表示により、黒番が3行5列にディスクを置いたことで、着手したセルがハイライトされて、かつ、盤の状態が正しく更新されていることが確認できる。"
   ]
  },
  {
   "cell_type": "code",
   "execution_count": 15,
   "metadata": {
    "editable": true,
    "slideshow": {
     "slide_type": ""
    },
    "tags": []
   },
   "outputs": [
    {
     "data": {
      "image/png": "[encoded data removed]",
      "text/plain": [
       "+-+-+-+-+-+-+-+-+\n",
       "| | | | | | | | |\n",
       "+-+-+-+-+-+-+-+-+\n",
       "| | | | | | | | |\n",
       "+-+-+-+-+-+-+-+-+\n",
       "| | | | |o| | | |\n",
       "+-+-+-+-+-+-+-+-+\n",
       "| | | |o|o| | | |\n",
       "+-+-+-+-+-+-+-+-+\n",
       "| | | |x|o| | | |\n",
       "+-+-+-+-+-+-+-+-+\n",
       "| | | | | | | | |\n",
       "+-+-+-+-+-+-+-+-+\n",
       "| | | | | | | | |\n",
       "+-+-+-+-+-+-+-+-+\n",
       "| | | | | | | | |\n",
       "+-+-+-+-+-+-+-+-+"
      ]
     },
     "execution_count": 15,
     "metadata": {},
     "output_type": "execute_result"
    }
   ],
   "source": [
    "env"
   ]
  },
  {
   "cell_type": "markdown",
   "metadata": {
    "editable": true,
    "slideshow": {
     "slide_type": ""
    },
    "tags": []
   },
   "source": [
    "オセロはルール上、着手可能な手がない、すなわちどこにディスクを置いても裏返せる相手方のディスクが存在しない時にはパスをすることになる。\n",
    "\n",
    "有効手が存在しない時には`legal_moves`が長さが1でパスを表す手を含む配列を返してくる。その手 (`Move`)がパスの手かどうかは`move.is_pass()`で判定できる。"
   ]
  },
  {
   "cell_type": "markdown",
   "metadata": {
    "editable": true,
    "slideshow": {
     "slide_type": ""
    },
    "tags": []
   },
   "source": [
    "これらを踏まえて、黒番、白番ともにランダムに着手させて、盤の状態変化を確認する。"
   ]
  },
  {
   "cell_type": "code",
   "execution_count": 16,
   "metadata": {
    "editable": true,
    "slideshow": {
     "slide_type": ""
    },
    "tags": []
   },
   "outputs": [],
   "source": [
    "# ゲームのリセット\n",
    "env.reset()\n",
    "frames = []\n",
    "\n",
    "# エピソード開始\n",
    "while not env.is_done():\n",
    "    # 現在の状態画像を保存\n",
    "    img = env.render()\n",
    "    frames.append(img)\n",
    "\n",
    "    # 有効手の列挙\n",
    "    moves = env.legal_moves()\n",
    "\n",
    "    # 着手可能な手があればランダムに1つを選ぶ\n",
    "    move = np.random.choice(moves)\n",
    "\n",
    "    # 着手による盤の状態の更新\n",
    "    env.update(move)"
   ]
  },
  {
   "cell_type": "code",
   "execution_count": 17,
   "metadata": {
    "editable": true,
    "slideshow": {
     "slide_type": ""
    },
    "tags": [
     "hide-input"
    ]
   },
   "outputs": [
    {
     "data": {
      "text/html": [
       "<video width=\"512\" height=\"512\" controls autoplay loop>\n",
       "  <source type=\"video/mp4\" src=\"data:video/mp4;base64,AAAAIGZ0eXBNNFYgAAACAE00ViBpc29taXNvMmF2YzEAAAAIZnJlZQABKRdtZGF0AAACrwYF//+r\n",
       "3EXpvebZSLeWLNgg2SPu73gyNjQgLSBjb3JlIDE2NCByMzEwOCAzMWUxOWY5IC0gSC4yNjQvTVBF\n",
       "Ry00IEFWQyBjb2RlYyAtIENvcHlsZWZ0IDIwMDMtMjAyMyAtIGh0dHA6Ly93d3cudmlkZW9sYW4u\n",
       "b3JnL3gyNjQuaHRtbCAtIG9wdGlvbnM6IGNhYmFjPTEgcmVmPTMgZGVibG9jaz0xOjA6MCBhbmFs\n",
       "eXNlPTB4MzoweDExMyBtZT1oZXggc3VibWU9NyBwc3k9MSBwc3lfcmQ9MS4wMDowLjAwIG1peGVk\n",
       "X3JlZj0xIG1lX3JhbmdlPTE2IGNocm9tYV9tZT0xIHRyZWxsaXM9MSA4eDhkY3Q9MSBjcW09MCBk\n",
       "ZWFkem9uZT0yMSwxMSBmYXN0X3Bza2lwPTEgY2hyb21hX3FwX29mZnNldD0tMiB0aHJlYWRzPTE1\n",
       "IGxvb2thaGVhZF90aHJlYWRzPTIgc2xpY2VkX3RocmVhZHM9MCBucj0wIGRlY2ltYXRlPTEgaW50\n",
       "ZXJsYWNlZD0wIGJsdXJheV9jb21wYXQ9MCBjb25zdHJhaW5lZF9pbnRyYT0wIGJmcmFtZXM9MyBi\n",
       "X3B5cmFtaWQ9MiBiX2FkYXB0PTEgYl9iaWFzPTAgZGlyZWN0PTEgd2VpZ2h0Yj0xIG9wZW5fZ29w\n",
       "PTAgd2VpZ2h0cD0yIGtleWludD0yNTAga2V5aW50X21pbj0xMCBzY2VuZWN1dD00MCBpbnRyYV9y\n",
       "ZWZyZXNoPTAgcmNfbG9va2FoZWFkPTQwIHJjPWNyZiBtYnRyZWU9MSBjcmY9MjMuMCBxY29tcD0w\n",
       "LjYwIHFwbWluPTAgcXBtYXg9NjkgcXBzdGVwPTQgaXBfcmF0aW89MS40MCBhcT0xOjEuMDAAgAAA\n",
       "F2hliIQAEf/+94gfMstp+TrXchHnrS6tH1DuRnFepL3+IAAAAwAABHUc0eeasjtsuwAABZwBJW8G\n",
       "If/cHiaAROmryIdIDsTsv5jz2TO5IGnXLYtiDBw8Sue50yJW5qAbo4PmgWn0Xp+H2/8p7auKDFU5\n",
       "4aVob40nu9Me1o1kRKG3TaXtYg6hmHc+tww+eICtoKdDigTafCYYrWJ9+8mo/0DqrmrDlvMQJD84\n",
       "sv+2lM6Y/a4MtXrkSL9P51CMkBcOGq/YxWwQPRTi209sgBGbcQlCysr6qNPnR2gEtfViKlJyXXQm\n",
       "q7bUT8mwSm1vDyhV6u1sdQhNb8bp1vU/0cUluHMYYxUrB4bGv+WXhLp/B/xr00CKyrxyFk6LG/+H\n",
       "oV7Yetq1Tzlf4YkPxqaxQetwD2GbjojFc/1KfZ3e3eZn7hoAMVTEQ0eGTZGcB6VbNqkooLkqQIIW\n",
       "/xv/JLpiWJCxt8XQCiQgBx75gviNIC8S/5ao1cEGJRWN/yLDAhpRtbewzIrRmaXWgwDzqxCvqYEv\n",
       "qUWE1UlLQXaV/dcerSs0TEHf/77JTHajWeuGMAftqIx8YCveiCj8kDSh4jSxOwp9A+u8OP5IYzWL\n",
       "8d3FFFDLSFl6Kij/GICnyZkJo9wITn9f1f9MDmQwlR9AuKJs3M2JIgum79P744cKqOGPxcVgQfMQ\n",
       "tBbC1C3qKCZvNnE+EHswAX4/eSXr/F/9lPmJhxKaaF44x88vl3rDeO8f/Ui+agFffGPhIWn7r9ml\n",
       "eRGqwseRqOv8RkrHu9iVGW7ieC68deH6e8bETYwJMqn/1k3gBOx4AxB8pd/+wTFmO2C9ZdL9Oept\n",
       "/TeLMprEQev2965D1S8J28lOj1UeI3WDh+F4NousDb9U6i3marzSni+mFJ70oQ70KCVfVqRWpXGo\n",
       "e6yFSiza75QLdKH6IWrYRXjMqXjeAPhRgZzFWH+fu3xLBc612mvrbX1rZJ+zJawLNzdANoV9iPcf\n",
       "hkUBa1YYO9B4idC7GkdVGkL5Lg4cB1aIXOvje3NHOd95JRBOlGimVVTs3a3+GNgG2Wj7MB5azJGF\n",
       "cktVPiw6U7yjNxh61X2+HFwXXH0AKl82IDxtYhn0dDhCMya1iSfIYwz6UDqt1aFryFsdWENPAVvt\n",
       "k8Ru/bzsuwdPnGn6Cwykb8TxjPTfMev/l6sLG3t4ipa2Dn+JVYq5vWnGYIheaEmrAUnNtLifTRDU\n",
       "s8dBrLseDmEnWtiDM1LAr2nILwMSCG8gtIHfPlLZP1cPr5TmfvJO2MBCJmBns559NCm2K84fHD2B\n",
       "OQ93MBfv3TQiCt4Kd+IcQtbAAB+3QvVf9ID2Vh1dUbDj8mmTe/wiAvoesBCok7et9Uc4OMebBP01\n",
       "AYJ03ImrzBsFHSKgAwQoWtsC6DAAsk+PSaUYYpIlg/Tsjf8UDjw2nzNi38Cr9tkgh8/DNWPHr4yv\n",
       "8evcOrk23+LL/fNvIcFlf2sl/wF+tfhBCYqhngCEw6IQE90HAubjclqT3MvqVexKnyPa8Li8Wb4k\n",
       "/c8hgMYnq8X/9JoQhpvc1uurINYwVl6a3H6Ha2CXQ1LOkvWEcIzAh8sNLO1Gukt1K6n4Qyvk0thO\n",
       "Msh3eMSDMl5kCgQ1SVoXyf23rE5gqPwZuCnrtQlEZ6KbfHaKfroCECjULxbsuUqvTKdQ590Lgxt+\n",
       "9oxMkkJ3Pomc6QLTeub3fCGP5mNJUMYTaeFHzrXCjPAS33rlKD4zpTxbLopn9u+LJn9sR9nhVDcs\n",
       "aYYBP+oycgTczNIhG9VcNHK81wVOuNjJ+gA3IJJ0RIJEHyIqizxzg34VKtzGjc8bV06/y07RbuJe\n",
       "BlgB4qP6avrnqs2Sxrfe6TPX2WSc3BI53Q7SYo39NFEGyc+u4HY++2H3hFdtnZeWNTuD43/gtEHk\n",
       "b33iK216dEvcPMzptsv7g4RyS7iKavJNwpxJrfu0QNyhNy312SkUA9WfnLDVTBe9qF/jPHMliVSX\n",
       "xT07X5H1qJ+rwNe0Jv5bCHFVSVoTre0pdYaGxJcU7sC4PTnGcVPrHyMDZVD1Ast+sNeCdM8/39Gw\n",
       "cNyxkq9X5fjiVjGdImYMm5aZYPhGDva0+b0IZCTC3zSuKS9ZdCBdh4oZBfoY0S47QVrYnQrr5G6q\n",
       "25W+kZ2kZW2xuru+iE5Vl3d1Xvs/G5djsz0oxo12SAzLQArbWP88zwM0GQkqr7Dp3q29FsxEdKff\n",
       "YltQFBbFWoC1jGR1mmrrz8fHIGcuprLHczlo1WLG6Ju/FvlvgKpbQjWAkpXggZBJ39NOkc6VsFon\n",
       "aF5qsqHo8Aha7T8PLTDjV1rfuUh3IqTualX9v3kfekHnrVrp4dhFzTcbejPoT1EggLsL3onA/WaU\n",
       "oyyqOUf1/wzH/KQJHa9+2xdOgLr//LybBs+i2j5e/LenhcpOZVsokhd4v3EZ5ZPF0j8fFat+2ibs\n",
       "0XE9O7ZeTE7L63Wvgx7GZFhMa7XlctbNlngA8SPGhKI7Q94F4iXckbYRpMgzVpbf0auJGPFE9HzI\n",
       "Oa3+RPizOfYafc+AbHzXsPtXMwM6h5eOL+hhkxq1Afwli/+w7rEkBrnXZql8NRsImkOkFIenf8U9\n",
       "S7rYBSSXxr2dPGFT7+QKdYTfH47Iv+ces99IzIWBpdaYeFrVaFvA1G8xFbZm1zW/BOcZIwdBkGAw\n",
       "M4k9eyad9iJvHRJ/YRIaOrdpgE0LbCd+l5ZujODFFT3Wlb+LnGCWdA7OqHgyJkRCpy0Iz82pclh0\n",
       "/wyAFBEVrfkD9XNBJPes1/tVOtIXC6+X3YTyIMpphvySmVSazznbsCdpUeRW6OVeDwUHEgJxJJuj\n",
       "oHwKBtS9gRrRC6vJ1bVc5+hbZQkle7AH4s1WcuhRczKiWZuQTMunqacTjGU6EQwjQqPt0qNRo6Ye\n",
       "UEYYymxF/gnwBJ/dLDbebv4xV+BM/uVibm3b+7Llr9NQfsCZfIJR1j1bYybZnW35YijM9mRg6Wxh\n",
       "oiBFX/Pl8ud4SEEMj/rxDDPiSKXmwpsRz6lMFBz87QMJXo+rcXr4WVLQwObpN5bSfjCs5KetNI8/\n",
       "Th1P9qS+XxgWGnRpRRhx3SreON8rrnRKHOQyhDyvnaJ/wpGXiNYFbHGNa6LIiUkh3UPcP1MZFBaq\n",
       "W7eCtsERWnrW2C+OZq7+qNE2CaMzfsnU+nJR5RtgUhF2wkgYahC0736QycNOL1L69sCKSLg92Jz/\n",
       "xdxoNXEl1l03b3TQAuOU/LQfAOTlNtaVKP5sQCq6xjOiW6mR57hnsQIqJsiNKnEHCFU3HRM0UdI7\n",
       "Igr9ml8pbH4YXDKDlv+/lQQGNv6XvDAKU/oti5J+EttM6MMQKmiNu5hXM9OFdBwl+BWEa5VmzW8A\n",
       "tXSSoVLGw4Pu+Mv3fUmg5mUj7DkpLcTS8Po6Txvz0uzQg/8dfjwSQvXhCdnI3mYm9o2t5HlpR4Vg\n",
       "Lr4sfR7oPpSVLYYg1OIfiCNWtqKWrzNuLBMo5AKVUYELi5PSMqQSjZ8xSzknSCBCHEzuFlOqzBwz\n",
       "hZS/S1BUUNzOqiozYDILUfaFeHuPtJQo0p8wqgkos4dQpzG53/ftJzN8wzNu5a/p6/hmiIn6kVxJ\n",
       "z1TXRdYcW0OfwEBG+Bqv0jvMHzzDuBZIK2ZwobMiB1+xODJT3ZrWLsXCky1bHQxfXrAM4WihoU4B\n",
       "RSNJbw0v+wOkuGM9GkeSMc6IWLLP78saa94UX4KUglkspk8AwrIzW6H4J5JJ7Z4amQOEg88JjNQL\n",
       "xRBZPLtUwmqbBeQ4nCySgoIkWVUIGA+NeFul56Ao9urozyTe2SCu2fv30gXRMVqHoxe4lBu9Z3Vy\n",
       "kezFdyBgM53dBqmdLIOTyPxqeK0J/Lwxv5tZIcXDsOZTRB6qxQbxFbSMuDMKdvpvymi0UNwQuzeK\n",
       "LL4cVoz6VsxpngAKR2jIrsc0wny69WsEZ09rzgkfzaNFkuZh8sEb1c08eK/MORfjn4qLarO+2A6m\n",
       "tOOo5+A98r3+87wXaNcte+snBHq4l1eHAr6Pybmn4xcJ8Cu2+j0XGA1dn3Lmo0EDp24dGnW1SB1d\n",
       "Z9Y3G3/ovt0ytMUc98YIvMSI34zLIMQwkI7HULWia1IgMg97InkUWJpraJVPSyrZX6jnpVhHHwvA\n",
       "bAgO/eDFGiRPkxbdGI2wDH/Bn/g9JlDtE8kWHjxKU19BsOqzOUIe4yEBDPv2jum7Fr6Q5riGpeCN\n",
       "9DmnoJFyviE7Ld4CxIforFp9ltCiKl5GZu+KxlpRGrqoJOQ/D3h+OaTVTWSb3H4QZK9c1Xp+2U/d\n",
       "fwudxH4weU7umgXWgGS8OXN6IKBjzG5VtfPZILkPfPFFLG2MZA3Inh0Uapv8MF6yGEf1YsQh1ooi\n",
       "gdfDuFkAcLxSpdSDDxnbedAFQ3Skffb7DBykMZPDKTFfX+G9D5Me+Djy/rj0l1UMz3q4fqGKMkjR\n",
       "GWE2tNQh4vwwKIxdj/2avilHlCt2RSI/bDNAixcFM9OJAZEU3UON6lcd1S5H4aNRrK1tVAddFhQz\n",
       "QjMRmgilXAj13INVybbqP85mX2YUY/GSxMw+efXzGv8OHJExIBsvzkJ/atueA1GrJxbWHIZpzX4/\n",
       "W/fLhHf5TVcOabsUfujt0WSCEiaUel4VhGQ22HoCEnS+b1Lj7NOnW9a1U2yrkfzVYvJDOOJZCIhp\n",
       "QKP26sHsP3tHl7hZ5jvwW+Kncxhm5/x461l+LJwzErPHrNu/wBjyoaJObZpDIBi4gTIBqyT1kg2w\n",
       "OG8li9TKJXYfyyhFR2G5qnUHYwz9LQyS+lMCOt9iDRqiexnKSMLoJ7pLmPVAazhoXkC8DzGoq8Gy\n",
       "Zd4i9NemqrPyJTx6A6NjKPmqVa9Sb+5G/pxsd+by4yzj5rZnBezK48KioVjSelxdXfd1NZUD4UKh\n",
       "TaDeL7umEg0+tC9zWgkKDfyroIH/G3q7cg3XZhVjsI/viiXH42s3wSgpQ3TEElHL3Sfc7OqLRTAO\n",
       "dY3KC3KhrbYdt8K3/zGB1vc+VQcg1+kcOF5DwmYqF0t7mC9Wj6p/MYw9NxnGOfzxWBGVlw0YQN/g\n",
       "Hy0chvqSsupBJGUe4/zew/3FRO1oWwa5Cqolp5sXWS2IGRGFPhGPN3pKUpgIHFP5E6EBmUWUQO2O\n",
       "YpQ3UxfRkRG+jv6gypBfHMmbv4oeqEntsfC1xVa9dYHlZKO8bKUzk1qMCS3ZpKdDvbC97XZ3VDrX\n",
       "kcCNA+3aYGlLBSMGaWPAWF5BFlruemMJs0vj92+pdW6NUTNYO/azhAaf9ajQ7aUdXH/wowvWf79w\n",
       "cFkPLNyNY67HDX0H8bNl7VJ2LiY+qrlsdqGnwjhfcAvvUtwr6yfoXl3SkiQQ0JZimhGYFaEXtMPD\n",
       "Tt6yvLHjTNXw1mA0UebKqzCQQsmLMak0S9Ipn7HjowIDVLMcUZSksOhplqo7CJLYGGFbMvPJ0b5l\n",
       "UKPDjBL9E+mqLMhMwQ0oILjgiQpRti4eulCIwsioyXizVPpxV2VXZbSSEYxoVJoW+igGBekPJvgW\n",
       "Fsn2EyWcwG9fTYNICOYddnQwORO3T9BgjULwogqI2RKJzzWCO80WGzPE2hDZ+pJgDQCkgW+C0Qkn\n",
       "L68fG1S+tBmLKRJJFdPhmHYEoBi+FMn3xxvf9dUMARRAMtCq+u13gWsLr6EJi7hy1JNRIws9Oc0V\n",
       "JbwlAjqjcR3SYd8vC2iQGTmxhVliG5NMkmKYJpmsBVTr9yLnxhPLXQbtzdR7afvMtJ175Q5Lu9o1\n",
       "nEp1JBd5P1xwG5Dn794mMDSDSLkT0eBcie/frInwIIS0dKkklWKd5vQfSwMmeLhhrMjFpZQ+cOHe\n",
       "LGKXWvLi61UC0bC+cYAqD/++9m3oHTWnDAKW5CLtAPY0qyZ3Zy0LklF13u7HEkgCOD//keHMGTCl\n",
       "//fh1wSAKAksp+Fmujqxu4gIVfvsBIBRfjePGplc0+5PD5/GQBpIPz4y3vpj7xmB7w2bmYzWsyCo\n",
       "f95qN7By7V0TUOpmcH2Ttx31xKLvOz8DU+Er46+1RPg1Dq+TdfB6bBGMFFtg26HzW+iNweTn0cvw\n",
       "vDeERVkpek4+cSdl6eL3TrdCH0iv5Peqf/55SaRdB64GLOB4kGIhqXCd2mG6RJnU4hwIiG87ghC/\n",
       "h5QF7NRI/7c2um2FPriKi723fF+PDQr1rtw3VDTJr2fd/NrXe+BGDRRSSTQg2/L7cz00tbGhVV+0\n",
       "FNha+LgKZEtKLCnsr08Y3Zha2DOB68QnHx2p/xVcefK7PwuJ2Yd7hn/DQoBgMScUcydPqSyAfrE6\n",
       "p1YzVkzq17Vm0JIUn/qsPJ+Vj+r+I81EBAa4FEsKH3VOUtUQYUW7ebIoQug0HY/rVKWChtfWIklb\n",
       "ye7Xz4/apmp9beL9R26l++9SXByNJZHd8q86ArVfgemSfSJPuVaPb+LbiwAty6lxEp0EtV4cIGsr\n",
       "xG2ee94aTlR9hk3noandlD0sHwAOUF/dRbtPE3K9gmisvQZtrPWmQSnycOGb9/C0iywF1sj3M1oS\n",
       "MdN7NQAfDheoDZrYvHQf9K5K4S+Z7dnxKAb2InFG1bemGvJsLE/BGC6SYLC/S1A3CJPpbeTLPyzp\n",
       "5Fbxom6XJy7jElIZ2FXFSiB5Ah3yDvdRcS0U9pLUDFjHfubeunuwaOa/KUF2+g3H+KSP/uvw3pVA\n",
       "YzsDmxTYL6HT6pzX8nlujEVVqvZD69a/x6oNvk5Ipv/yDopgI7IvEEPMv21wjNqvPLiIihc/M0xE\n",
       "0BulM+V3yyG5dmIzVLXcVq3oYonaOzgzq748faUFdrkIxefl9MCoDIUlIy3uRgYEA4RC+j3+rwuc\n",
       "5h+CHLN4LFS8xyCu1kycPvXH1yEdygW9NzoIfsEhOWLeYT/cWiUnnMomQ3dKisrTMG+2KyiKIln/\n",
       "x75EqG7CFwZU2RelR6xjSfNMFdaNmzmdroOsxLy2leJWx5TtsvfxcDNla9tPX7QKI7rtbjbiEG+v\n",
       "QYyoo7kI2makRDIdbqKCJJohPcABsYopkTg2JzW23rMJyBRPxMvyut8euaj0yvrj3h2UXA2eviXU\n",
       "P6ndqskEGZ6S5wyvXAFsLALb2dV3OOLFwfA+SevSKn9gxanem8POxrROvlY8/i6US3KsUByOKDIy\n",
       "2vzJWvYB4TTspJOQN4t7KX6vmykSjQ98VCGWnTfPgq26Wis21EypEHgcYTUJbK/EG1H7V2SLGtoX\n",
       "LFuSY+1vnbfqyBDc1Myd75OalkctK9rkkvYujBma3tm5Zw0OstwzB7pzybN6hv7rGeqMApwLKCl4\n",
       "3lVKCjlWAyjYcucjMMjk+m8GxSuhIJpTNA0w1S1Na0YCn0XS/7elz7bqUnvgFrra4WE/1kW8nk6D\n",
       "9tcetXncJdlcoIMqAZbqz0eKOVLpaFjCbBWjV/ahCgf5qGDsJjO4i3a8/v0X3b3JgEPY8eNj2Izj\n",
       "9KlzkNCr8kqBMbxRWE+N8Rj1VZ0GBW3RY2dUcjJjNJhBbkYQje5upTDpEyplPBIIkiK6KRffYZ15\n",
       "hMM8HJErEVaCAqSDYbWR/FI1Oe4Sb3iYQ0qoIf8BfapzkKP4XX98N17Fiy1glYo+To+mJtK/Ip2r\n",
       "pEWd+7x6tIJqP1qmoh/h2a2C6FwZyaFrfR/XnEIIWFeIa3Meg4ZIo4M0ErR84uaHcKPK3qxOkrvN\n",
       "z2nyWJljEQFKwRwrnXPkZiG6R6atejGWdgejMoC4vZfy83IGHP32XwBYIE4l0BFI2G8a0TtGP2Bs\n",
       "CPcMCoaor8qV9s2591It+hIDdg/0oz/DrczgROr8KSf7j+D1AM4pGtTt/otys/cMiWnDPV957qsE\n",
       "7aJdiOXrjz1S+xsp+zn95lbVJwggjWdEblvn8wEDdvjOCwkRWxVYSVzXHrsEhp0m71kc7V2ZMwAc\n",
       "W824gLxeUKAIqxlJnGPhEQwIyTuJRwa2PvRTq35iaSz9F6Dg7Q3V5HjeKxxRsS8KVzMglduY9ZUC\n",
       "IVKA0Do2kzAG8zpxpi+f15B573uvkfK7Kt2IUmg3UBHe4uMVmLvUY9XrUe1XL1HoDTeekQbsBaiw\n",
       "XGG6AAADAJqBAAAHvUGaJGxBH/61KoAJgyXLgDopLFJJZ45HNsqBGLnJsvO1GwdeJLEF5AQLAwao\n",
       "YAYYVvf4aAOPeHaKlShkEjtAChmItsha52VBDnjdfKEIUfhF6tyvaJBMmdozOVnXiX6sfo171TQs\n",
       "v5c4h38PoKHyED4gZjQmKsavC4ckdpVgoWnSAkj4JapNPw9sMYlGrH/yvrt1be5rlH8QDQrDNVst\n",
       "QrquFT7lA6cVE0P6Qays4o9tt8MSG81yCrEcii0LdzlTQklJ1ADHQ9nnDy0qIDSOyfqg9dFc6BJo\n",
       "JPNX/CsIGkdt7yXnIOvYBPc6uU8e6385GwHlyTJjS4k+AY9ZTyTCuj/F6G/WEL1ZYA15/GMkrYwU\n",
       "d60tDLtWDM1NJaxcoHtCkqe6CbxSRThC/Ch2HGYHxt73YopIo9p2tcffTlmv0esxJLX/hE+gbe9U\n",
       "QZNeTceAm7u4ASCFYiDWp1NzmmK+hFOdqu7G9zX0alsVJwHKiVC7+eKgRr266utkVr0LKJugOnKK\n",
       "a+3SCX0vjXK5/sOJ8n/SU4QVeElTWoevGgkGwOLN4j8nQ/C3E07FJtV3rDr6g+nFKP2sgNM96i+P\n",
       "q1hKRd81q2fGIuPl45fCoNphYLzCiqOu2Ak23ZsZeRoBUeBfzjRlYtMolZKTxkzWwQ14W+VlXUl+\n",
       "/+k3euMNIydva6eOqy216DQp7P+euX/3RnCzOJbZrSeXcF5jvtTvJHD2k8+w6wbzRKWgSyIvWzRB\n",
       "un5h9rU6vL1luQyx4FAJytVc65w603/GDWX6XkzYB1C2wmCIr+Ih8IrdgMP81A3f4DudThoVgllX\n",
       "Ku5BdQarXi59QUFZuywiXBzfrew15RW7Wnx1B3Jx3g3+PkphPc4vo+rvdg9zKCzhdJb5enLswH09\n",
       "TgVkGTyNHimUk7yJqiM2eB6q6AU9xk8bucGDf93/OYCmBwECXcjLZvCo2Mzg36zDuja348uiLqIN\n",
       "iTG0OcveQAKhsrXvVTNuGcQuNr85MvqHfiba+Zsz0IQUOiNX1zBKDAtrN4PUtHT7xDYTsAdQ8OoX\n",
       "hEhyAV++afopfq1A5n70/l50Pltm/BEyAMT5+/aK46SUww4LAVs+h3/nhn1AVVohXYX8VkgHZiwR\n",
       "GPJ7V4CQpkaIZUTbj+7W7AoqcVS2cwmPLdVbyL8M/TTToFI9F+6YkmeZ23jt3N1eXYJI4+cTthbp\n",
       "NXUen42BAonn+5lUXvPmsjm1Is49jh11b0sDCU6timw62euYo83+B0LQOot4ffkwjJcyX4hv8rGm\n",
       "LkVjafq/zLlZKPKlMgZs7vlXqXi2F3HR5pIGSR3BBA2LKWl+VlBvUR1jN1BDUAggYq1x/W/A/j7n\n",
       "ClNuGzKPrLohdEt4pB7BkYlLvPMeY3He1arrK3PkmLumTZhmFn5T9LYDgJ+rEEojEQX3ZMwmH0Hd\n",
       "xwPsYaUSgi4wpMGZrglZo1/Um8EgxKqqglRm6a4vOFbp4twubf6t9ydIzlWu2meHo8dLOGZ4Mwsq\n",
       "b0pFDVQ3ZKvY1Qz3Hl5MsOw6nf7BxlQFqj+jvGf8MFEYbPkgLOrVFlL0TpQ49ACWOBu0L1C32xNp\n",
       "Hu0MaXJ9paHcWWVQXZiQ8DJfh1HIboXKETDMZy03KxsAkPUXFAAjqmTZRzYcWnr/qekaPpC76VAh\n",
       "SBat8T/S8SlvLqzz+Xf+tnYwAclafcpp4c8lEpoK98dJ4+n5daBlBkDjYyJBcV6rzEZ4oo1Xa8uA\n",
       "OA1o+y6zjEGTlAayElAhkIBuF7Lpz2vsjSYpHrbLc15R/aTt7xjLJFuA7VVrxfmn8aWBSR/Hjlfz\n",
       "tuj78rQhstICYInsPVwbWGRSvzrQUMokLnZ9Babqlp1Qd+RMX1fclAp2rlP9/CZl15N0guR5nnUZ\n",
       "MAfFlraIE1k7h/obxMUcq/qyAY/9XMlvVZs5f1GTYaNjZz9rmlFrCPyWFr6EsaviY/Y0HoKp1Aq3\n",
       "ckRuXDgXFrqyDBJhqFvEQjeA4cjiwnsMMrYR4r3ovUIv17wG5iOPFw//dUJ2CAB2WBvn1S7JIRcW\n",
       "LQLTPfQoQ1qIlT6NSDKEBB5AzIsi5TkUVLqYnTyuOZpBliQRgQEiMEv64sAKZZ9hijNXr3nW452/\n",
       "BPzvTtqV6qGOi6Y27S7Fh7Fun/RVIXT6C0QGZBPFArfTR7fb/4Qt1VGMGU7Gwg+HwQ+7ocU0Scnl\n",
       "kzMgmhV1QRDMqhgOTLPl122uqNqQnoUpe9wLj6Z+THjG+EQADwV0h72dv8t9ADu77tUEthyLhUNB\n",
       "wf6vwjMbYKQp03b/7ivGomcj9JOK81behRdlQ9+8kgDj8rqJDJzgSPF+CUcvNiottIszvbdDZG9m\n",
       "mO38a4I5sOAx4o6ZUU/1e47SIbGNIVTQCQR2sH6VFJC3AaX37Gj4l1X1QSICRfCRWtvrijt89vrl\n",
       "8L2s+t94jFjEoZ4p7hhUq9Gli2ZRIqrJ42oSXkQywaA+RKt76C9Fz9f3CcHQj7QnGRdTYLeX+7K8\n",
       "IBI/wa6rKivvwNXnSRgEdFCyLMSh0YFFeRgumgu8rmjpbuar/2c2yHmMslrbNS57yze2JXncYuOi\n",
       "6kDJsL/YTvNgT6vC3ZJy+89fMI09gnTxue/OqyPJyCuxI/es3nPFoaGCks+mjpAfUIE0zPmAIeAA\n",
       "AAFHQZ5CeId/AAAUpj28348LiLeGGmopUSG6B4aZBzxKH+BQTB1kC47lvI6dAB4VcnGrKyVK1aJd\n",
       "tIV7QGWYdF3R9bn0ipXq9OnIUr6aOcmsrWEdFJlwsFl+QmEJuEiJVkp11uRUufnho9eZZyruGawi\n",
       "5eQbtK17t/wiVvOn9NOf6yzN0OTFjjNUa1YgAlWT/enW6wxQvO/iNvUrmdk6fZWeJrPA9x5v12UQ\n",
       "OPyXlSiBHoqITTvd7LfQj6Qs0LxpRSa441v1kA+GS3wD0SAqR5RvjdWBDyMVrZe9igB1gz10moOx\n",
       "kjCpsDclawy/mEPzvKrWT9gIEZtDYH+4ffioLF0vHapBCZCtK9/Lb0AG8UKj68uRFui45Gn/k3cZ\n",
       "mFC3Rpz/sK6g1/ig8zsN3CjI7iDtWgicQRlPH2qoFszZ+bu2x/4Umh16mB6xAAABVwGeYXRDfwAA\n",
       "AwBDYFKgAK70LsPYGfvb3lUhqKqC5pOuLtSzdtmGBv3vGu63WrpzNiUELelfZ/7oVAhaseLVz14M\n",
       "n/hR6GW9GvXidEA5ZTvq5VZc54Iwh1BXODZM6UO8YQd3Y0TQ8mKoX4gRRWZgl9OdRRcghuS+lEwE\n",
       "ZVip8Jh7iOBMTjZyIGhXYzly2UNJuqP3vikDWLyJ3zp49Qny9XpfCpFkVCMXRO3edZDeC0/rIVpZ\n",
       "dRuSA331EKxu3A43rDvZ+ij1qZ3UiN6GAM7QidbDvXUWeL2Mf9dKh/jUbzZoDLoY/aBfamXhuQ00\n",
       "HA8HR2cnkWByZcdLR3d1vH90GlY4Ea+WjQLdqtiq60cfeEtCQZ109HF4+TSJExi8lj/+CQPyueG3\n",
       "p/Jcixk8jZiGCSFcTKu2hSC5JhlfcPscU5Wi2x/PVJbAU+FXHoMPTEd4gbaC40SOw6YAAAJVAZ5j\n",
       "akN/AAAdAoQHOepnmf6oO2Tu5ABGVoRfBmItT4hiytBsLHy7NL4F2+Vp9nY3z0OQjcrv7ysGWxJc\n",
       "hxl4GNiMVeUseKT6tsaBtNtztuWpi4FfxI5opVixWnMj/xcQI0fNTLvxo1Luyrl6qOJrjY5dU13o\n",
       "+pzysB1aYaZbSYE+W8gOOzNSPpQLC+eyiZQ79xOgne4I3C9ZRvgiSEOJDOLDOl4CbtQolGVSCM+a\n",
       "uhAhxpOq4g3kjVspde6bbd3igujTGpdOcrCAavd8GppgsskHlMjXnOTjR6h09mIMzjD1qD1w9l7V\n",
       "EuX8U9c9A+709xDPV8CiFURujBO0RZ7IZU46IksGmhX9kj1eFQtc4f3decxMm7ok+blRst+Kg4zb\n",
       "IAjWVIZWX8I4flTI4fGN0saVnwICLHlvQVZpFsq7NlkAGpCDquc+5d7iGU0qAGjMvblyIFTB1gx0\n",
       "ZXpILjq/VCyQvGP0enmRJy0uHjnJAh/pExs304QRzL/JO8PMlXC7hxdC2SUs4BkQZYwPiDwP7qxX\n",
       "BDlJjIjkwVj3umbyCFsrDbznTSqAxt5/Ug0UxvOMgDZrhDpZ7WTAEzv4WFOv788d8jd+QFn4FySq\n",
       "V1vnLhVKWz6YpyO8iG9nTN8T4GompBSI+9a/0och+sMqcwWnjAg/xM1b7eOC0tqRh3In5bhYLfJw\n",
       "97aKcH3Gg4Th+i6BiHxJX/+mGjBYHuAEpP82o55OtSICa06v2ni4N+ZbanoiU2rDOFHz5jKX4Xwl\n",
       "q8PkoX1poDRPFBS2onm/7gPXTKf64AETAAAL7UGaaEmoQWiZTAgj//61KoAAPQ+V8AsxjFtUO5tU\n",
       "DaKEtMazDs4q563cBas+oECMBJOQFP1TLo1To18sq6eMfvmyvNyj6u0elxDvBbISeIAyye/Da8gZ\n",
       "JAcbiWDVvJkNsW9R8NN3IU+7m4/Ry/sTOIaJ7Mc8OOtVTV6PXHW1GruEwdldlHOHmXAJklNDsxuR\n",
       "RbbxsJ1/sxYBFbC8VOWhiMVVIeBMLVkJ0rS+rSZI7FyhTDH3MDHub1/gFVfm+nFx/LzlB6VCGimx\n",
       "gZxEyCONL/T6BqXKDY295PgwJ4k6HT8n0JRi1RLJTqal/ap5a7UYaLxmk6rYMktbDhjnmiWVqB1I\n",
       "vhtEu/oRDb51YJHzibMmId+QV4Nz6n4hRW3j3i/CluMRtXhl+EDR5y7luWvoIV+d5nwYCyD7hB2D\n",
       "8XIqaJmNA1JQ8JN0rouPjQf7lj1EHH6hvok/v2EYdPdRhQR0BGVNzRbls3L/aObtt9zlClvPG/cQ\n",
       "Ld1sUB5CwKPuJX/OPPfqEp+aPTjSVZcj60L44nwv/fwP9VW61cz6fUQmJZXueiBq56AbHnvlh1r4\n",
       "lTZsEMaaOxtijpvWoCsNENvkBunoF1P+JskUHYYEIAgbVGZmnXiZeKp5bX91CVjWH+HEgH6eGQuZ\n",
       "+7V+5b6t/Tz/V28cxNOt8AEkBM8G2j4xknM0FiihN1cXLY7CobXT3grySoBRNyjfyY53m7rNj0uN\n",
       "Hf+rdIWRQBYFbq6REtI+iktYAuof+m7tRc3E1ZEt9n6450ZjMuY9sfTQTR4d449sUWvOunk90WY2\n",
       "91NU0GauUQ6jDhLFp20Wj8OGuewIki7NDzktv72EZvI3w6x1tw/XE8cmBjv5y4cGMZq89Si1k5L/\n",
       "Vu1iuLt60wvq9g9g0iEQ6YDPIM2LMVueHmWmlYZi/68RriSpV6PX0w0hsRWVVZu8Jda8pmTL8ruL\n",
       "DlFvNwwdLYBgeP9yaTiF/1Tj0zm1xlFxgyZks++Z5CkWTbsjWkFlwXJE4GxG3LHfg8jQrwHJtMsM\n",
       "9y9peiZxRXOaat993ZHhfj7hNOv3m1V+Qjc0yqHUlzDZ2xhN+eTIEu+FOrI1DnyFOD65q6cTfGRu\n",
       "DvAC6EwGpaOr9yUG3+yhMBlfaJk1U/9gFw60RLFm0nljRLpAu7xB5YIWUv0c8+NRxkctvMxlAhAw\n",
       "iLImHqBpNRs8uqsAYwZw/1wEFe+DFljX/6TtY5kObqT5HbZAJ7KRoOIdB9AFlSW+cT8wB+ZOZI6/\n",
       "BfSq9dI9PO66yLc4rOWsQxLI1W7ZSs7DkNaDD30UoMbMmKELdyB0hVAkOxIQb6VrjHqTZ9OpX1ic\n",
       "5XZv3TT2thCiZel7fKigu/RQoKOpSI9zxkwRkrlyQIM3z+oUo34sQ5k6xHEfuXOdjs3rSpoJ89Cs\n",
       "GOyFner3bf08aAvT1wpAr5ntvPPKIwuW8eaxtVXS5iO5+i1UKhGnA8D3s8XNSClIM00dVukOwwFf\n",
       "GncoTJbhcXDatw0Z73/rbkOIzVzndg1jUY6hj/6apFx1aT/O1iC4/hjHNRECEBtbTwGG5E9wn999\n",
       "qsHMB8IsXIkfSNNH9m9wviXZoRZf4ctdGQyXlls4CkZum9a2PYkqKuabKUEinlCwLBwlpDggvk6B\n",
       "+0eMHguIJ8IZj4ONZZbPLdRjj7ehZ6xdbgcmBMwfgttry8/NQWbeKpflR5ihP+tKUQ+K7JurSKaR\n",
       "BVRDcUhfOTiG2uEIdhLbHWeCabRADAId+ZPQVa+lO81obuilSiU+wErr4wk/8/GAIKUF2aiP+7bf\n",
       "PvVRnzu/7VMx5glp4wj/5cvlF0X+d1CEpicx7NVVZO7oKJToHoZ4kIEmWANchbwZv/cIUH4Ld6Mk\n",
       "KP5X9SSsA2OREDgoekQOnej4ogcKi5vHb60O5XB1kfIF4qL7LoHsGO3ynTZY7mh/7W69E6BHKcO5\n",
       "VH6zabNtPa2HwHp9m9xEbeICYd3n3mfbyqQY2Xic2aqqJSeMiMLHmme+tuAk55fCgbOobIX59xoE\n",
       "6hVvEuVJ2NGQYrYX8k+Pw8B/JRbS9JxlPf0aX/5ZSGHvNLxCvgb7QRNTLxU4/07V9oVjqMihzRGv\n",
       "9EABNg1iMRGxkgAtRccWRPt7CbWIVjYAHCWdnvKkOutdZrP9SIaHphUGWf3oK9ibwWqHoUfp8ule\n",
       "jzJpQF3ddAGSfwsU1ZUjH7phsi1hyUKiwum5IcFKJhT0vtmp5BThfNM+yT4qg0Ur7aOt9twlFyxi\n",
       "6CvxDOa6gCqgaXa5m5VJon67PQBPcJyitDzWjz5DGS5t8Xt/+PYVsmJ6WEwXKJXMmAxc4L5vpFkz\n",
       "R/KlRN8NS2DO42MU7T214tJy+XPildpkSf+jKxUFwa6XWYWfyAyMJwAU6bnreDG+RbzreAZHjUKG\n",
       "CVsr3y8pnzDiVN3eac1exa4rfIzhR/mElE6A54E99hks5aQD1ogRAg+ELRy10MftT/qRPhkuoAAU\n",
       "PgjpOD8FjDBSAHB/lzo7iuM3/OMYBSyfcrc+6kfS4OxFNibHE7z201n92ClP4EMnnNIvrvd3FOEW\n",
       "wmzIF9vW3Nbuvzney/9v3P94HD51T75aktgxLvNRj7u48IPa433Dqwb60HN1gpnfUBdjGT6QLIRW\n",
       "PXey7WBJidHgduyjVTzkZcF29UxutuDqExP/vmSpdgv0JPj8IkP/JG8P93DAlMN2N9TucBb8faA/\n",
       "QjzsyUhx+ly0qAMaLQcEnLnmrrrXBtMT7p5YvuazQtn/nT1RGnPzEMpHzaflcv6rbZHTfHN94DE1\n",
       "51g2cOD497v0z63cILoEPoEVZFRvNmgNl/YrAv154T9HkbMadfk/wlJZ3CddMhZm1DysbAIFikvP\n",
       "JzblV/L9QvZnabuhKjjQ4mCaYCLqtvLLWoo8O7zFqKeiI7AcOlp84WSFZpSujp99JBw1aotKEBMD\n",
       "taZ+62stM6lv7+fqDRTGtpEPQ9SL2vHatM+WVbDDQN4FzyWH88uRDxGcR3Iq52qAKF69y4cNq1yi\n",
       "JJ2PSkqHbAGNhPKboaNcbnW1Vy574BXGihTSf07iOXy9gojUe8VYMif0mWgff6t5Q/8Mp4MQ8yoL\n",
       "jrhWMYZh1RA7n7WFNBVBjRN8BYy7g3q8zwaEKtrGcX8wJhx7QCjG0TyufOBl4JoGpqujNllFUP8L\n",
       "I4phEZlWMvS+u0vMVSh2LbKXJ5VD4f6qseK1OzLv/fHsfsoUYxJO9AafGmNR5ZNtT6iImMAa9dKZ\n",
       "kLEw/PUXU/taVxanf6Wz9kjHFE70BHxW2uu88tkiRnI4bFir2XMxrrrdLX5cW02lRqFjOJzdfmQZ\n",
       "ihBTZ4Af+JIJJWAZcMxim14g9Z7JqIwapactH+qxRdBMUaQQB6xPw9kNVF1uRPkw9jRTHtMsQJkh\n",
       "X7A4Vbg1sMXZWUotfmMp2ple4K2fc/uOlbK9ExIUQwzJX9LYOkF7HMelqkm3+ZdhcN1EMNi/0M69\n",
       "dkOOmzIVwbilyOh3hXqezt0fIRbDWXzneawONcc3hCyQbluZIfa8UmSsccAVGWa+W4yc0VRvZ9WS\n",
       "DdwVZGYr1GO7SepWpnLJk20B85EX6qtsh3fKjTUyY3ll8Z00T0O7eGZVOMsGEtw+yCXTu+xuxncW\n",
       "urBtTro+51w/rAaZLhHe6MD6I2NNGbSBlbRcviiziAx7nkaOKoHUO45RBdxzrbvzlj3+196vLSl7\n",
       "PjivKd0/uoitPk3z62fgOkCbhZL7kCs9aez6iQADsyMbiPdXyIo84aa+pGvCfL+R88OjjhTNmeMS\n",
       "1M7XHlxWDLRc57zHwMMZhRrDRptdgsJZYt/FiH0byK/+Ho7h1fEkNElrGVjXr5jLHUCcvCXC4uiy\n",
       "pfUzZXgBietSA4xDW6FUzaHGILS6k0X04HkqhFkT+WK1Ymswq0Jle9aBgof4HHVTV8ygfnuNFIbG\n",
       "YKGtMgfxtur9eq2Zit6Nsozq2o2nF59BbJ3EWoE2XqOAtXU6gxT2i3IjokqJFnw2C2geGNW9fBbN\n",
       "L3ts5jNIhqEvP1i1Y8bh7vL6cg+yjoOdBAGaVbJrobpbeffXH3kGDY5GbqMANhMjRkt5y94ZudC7\n",
       "1s2pAAABzUGehkURLDv/AADu6A2XgEF8H/om7khIVYrpI2AAQP8UmY6Z/idAZDGYyjkucCV5/Y3G\n",
       "WfVGH28kat4fZohJMuu56oAgCsu/JcxOx979ax9exVw4WE8xI/m3QltswlD++mHd/P62F1WWlfKq\n",
       "7Ewmf43sfwXgRZGjoiX8z8r4g4628gEqlZ2BTh6idurreAXnZn1ry4Oj91wVSt8AMGIxRmdOABvi\n",
       "/Rmjl//BsiWTgHlfDUoSTcS/o/OxbDO74np3+Ak8UqjsvvfjrvWslmJY19g91lSVZ8r8LbQLH4Gn\n",
       "pn4FN/inBakrxOAQ/+KIkSgFKkeFzCS7dWBYFZjYIEDRRvEcfjyLJ3CRSyIO/v43PXo0fW0vxiw5\n",
       "sCxOHmYn8nWzVFZeT5C8hkhXdIxmQWAuGeHJdYcSjzKeMrCKajNW4U+F4H31mt911XKZXhhH3Yiq\n",
       "uQFHJImMoo/5XtncOgTlnEnltUQMOw4Swj5fJR2ydH6EjVaEmURek5mGL0v47rtqIgtSVJ4RiWtL\n",
       "ojDe/qlYK9xA0ZxeTKBdMulmGvOVOTINmzIbM4pznnzXw9YEMKev66D1Xn1LTl25oW7ORvt1y34t\n",
       "XtmaTgvA9xy9AF3BAAABOAGepXRDfwADEgGoAapgIgqz8LjbUAtHDJZPipgLD5oXm+u/8ZjtypIV\n",
       "05EdxA5QTiF/Ym151j8qxgNw+fvBCIxC8KpfSY92qVVb+zDiT4EzSW+M9VDGfxD4Nu+tJeTl0T/L\n",
       "bVzCwxiwrCV7gJLx/4lHPFeNuQZOQmOYMK+gkXbZdOZgprRpH3QeGjgvAoUy5ZENbp9JryOmUXBi\n",
       "Jizw+2BrV9RL6HgFWVAeKpozBqL/i1BGPEmuJ64Feaf3DItw1IjkqQ/bVVCTwTvMw1Manxx58xzf\n",
       "/E+xHIGZcn9BRGpqnX5jk4+XGGussNDxjIYaPxc2LOrrgENA1GjE2MXuIp08KiFnDHMX3k4g9MII\n",
       "59YvPxBFwSsPfi+vdGZDZWlceQSZxhjm3v2puZ7BLF6l9Q0VvwaKPAA/wQAAAeYBnqdqQ38AACfP\n",
       "Pkc56zTThgZqkzGeX4ZHrxy9J+P2Rk0QAJT2V9U68fcom+Opu1iJxFZQ17HI1zefpuCFQL074ttw\n",
       "ujwb2u/IJ2tvdYm9RnryfEJgD4y5pMyFINTM04Rk5uC9XefzX8EkRgODQIs5skTNJY+wS2BMn90O\n",
       "UBfwJX23PigwP2obhhEMSa37NsiBNu5WmjwhLY2yRNdglUBkiqHLBdmAV6+EW5+GRBZZ9sIg2QkZ\n",
       "3juM+hwfdiQCTuv27juOU/xt5zOLlaax7TaMKReGJtCe0/VQ/fB6IOQa+RJ9Ul//f/JCkePBvb2y\n",
       "zAy3a2RKsviwMQ8o9XaMorZmaicaOaQHpim0LNHyUKFZXeYp+bbgXKRLBjuflNbQziomRvv5wnlk\n",
       "z3KvscI87ke/kY+Tq40L2fvdWo0Mj9E7o7hjW0/eEoiZTpamqCBOdlOFDq8lob/DqADRK1bWaVb5\n",
       "HMXbe36Ty24gKzL4dg0FMfxBMLj89jPAmvgT/UtEff6KAQA5jKi0Dc4svyWSO5bDAW6+UWGWvXeg\n",
       "mlvGyhkRQH4bN9DqloxAw+JYHvmS+4v6NWGY3BPr0zhtV65tpXeqtqM6DfOUbCCr7iJJjKwRf4s5\n",
       "P5QlRwoaU0mg4hbl1EKMnUAA9IAAAAvqQZqsSahBbJlMCCH//qpVAArfnmVbVgvn6fRo6ZJUj3SH\n",
       "w4f/tBS3FcmBpUbe9TXgCe4hSlcg0riVs7d/agqBy5LEA+EsAqM68OTpcdNRHt/YFnZM1Rzi0uhZ\n",
       "33446PS01n3pFJJkzbUMpvmeNlsjHZ5An+64dWf1o6khWS0CXK+S5/TM32T5YzpWacKsW5z7sKWt\n",
       "ETuilp2TLkHmlZC32bDonH29P6noAkqW+AprUfT3nlFRE5wNCRP/t0aIlqN6fBmDFEeP0uEj9wKp\n",
       "pBS09WTl/J6fpodWaQlbhRWwfRhUYsqCJxHhGhGVOsK83uCbydxV11McRqOlpAHAEvbYs5SzgaGP\n",
       "0S04xesCZg/ciAnRZi+bKcdjyR+6JmOMHxQo4+yVSrM8+HpVDKv0n2z5AdTYrXHnoueUJmUEUxA1\n",
       "QuLtmH9ifAok1tSRAy/T/AL/+OE4+BTSzyHqLgFZtSEnYTPK4YAOIMunWLT3DqbG5i3Ps45OISkj\n",
       "9WV6us4oMMC6pJshTs/Pu6p3wbnGt/3velYHI2O2J+3Qe9wbWVhSVYVhrzDORL9FGOCRFulVIgFa\n",
       "XxNEzbb/sdc61xSePtEbJzwt1LHQE4QkpMWMnXnaQwfKt+0NpNVqqAa2g1a/kleA7rjmDTndwxUh\n",
       "LRz9Dk7LdPrXELNSz58HbcnGLc3+oaE0F0juSpucX5vgqKGo3F7VPQdqWvHNx5y7bO/9R0fSAjK3\n",
       "D0hWcQxr0iZ/oYZ0s0SDRj5hl7lASXvLAZ9dLY4IELW6ddRJKTKfFrLWKfOJQWDs1a0tCSw3nrOY\n",
       "VZEI+a8AGMYRS735Wlrw/bfNeRUVlT2kKUgSxMJWE4GNSGaoCFP84ObyNyoXjhlK8PRUXot49AnK\n",
       "++5BnHPXPvCmhrMBneeBF6jA2UOOuCUqFWmeyZfPTxd3aJEPFeWxp2SifPsgq1VBguogvJoJ1N7K\n",
       "EIfg5ESWy193PXad7KWcjoVKTHAgsjOc8oTuYF7sqJHtQQkYB9kQj2wPBMeM9gQlW1JXxPp3M3nm\n",
       "rcScwnf5d4sdVlJFj23mogdLGj/3DStv3JKSl2RHrA9HLe7ZlV/zGEl7lCEfQSzrf/OF5LGwBP/l\n",
       "iBOUhgRwD0fpnhvnJLmUl7dD7Hr5abJK6638b+i2T1hxxYOkcsuqBYE/rQSerx0724ChMzp/k/0z\n",
       "FG9/eyoISuW5ueAE95KrVZWNKMHvsWaKSJq3h8BIG0gF184+yGNf4A4xWdIpZlmgCaU7j1TN9vHz\n",
       "Y5OCiCmYDUeYkzb4FwbUPDgIBvBfDx0gAubV17x2Wy5wtpNU0481Bz93pbZIrpFe82PlD0K5aInr\n",
       "z3Di4j9D7JE+wkxsAJEcCM9FsLct9Adpve3+ps88UZvm5SMXsQZzepFDmlP7E1T4dfgCJsbS6r4G\n",
       "nEQgmxggSRXLccAldHamP4XlyAesi4Ym9zGv6Kzb15U4NAZGFUkNlSMPHyEyG7u5nNjL4QO32yzM\n",
       "YTadhS2KC2mrYVfaanzKzcXEEBFb48EDUZRp4D1evMo0U4HZldwq3Jdp8opmgrhSXdNA1sT1MA9b\n",
       "T6QtHbm9aJQQJCM6x6Qfj1i26Ag9CvSRELjvKM6tcImFyixXwA4j09NzvrZoH8Fr1PVGD50inAaQ\n",
       "p2yJiDiB+QC2EELokZM177Jkh/iIY9Q8QrJRxTYPu6xu9DPaj2Us9AphAIw5PU3hQ7Jgy/k88dij\n",
       "SlaIL/+o/ac/OChtYa6DTCqCp69lN4g3K6e4fmFcrs7vF9rvnL/vBSYy4u5Yx8K1jjIMntVsKZSI\n",
       "Wehey7r9YE1tYUnRT6aej0Q2bOj2RwtFEqgUBY1OU8xSSCGUevyRxWNX3r5xL74PY4KgsTpXl6AY\n",
       "ZVFIDulaWxERTgf+WRg4S1bGSzeYSpkX7yqOz9h0QsptV0+5EEdgv1c4nNXsz7fpI26E2RPa73sA\n",
       "NzB6yOuMrpsH+H9gWmXA+hrbOmSN119QadxNU2reQIxQ7F9BOW3DOdmI1zhdpN6RL1SsgZi3C/tB\n",
       "FX0IFp1CltopkTFxL2XazqVD+v/1Cws0q6w+uEEiPomI7G2Mi4vRFqYmqspZZ9ZYXxjxB6u5OGRw\n",
       "HUOYOqRM9lq/Vklv3jjgwLlSiNahO32eWtZTH+MT9lE2VKRgB5aWU/1JEVggYoRXclb8x0Y2IJWs\n",
       "R+z0L+cz/FIV77zRNUs/3zBXZwcJlNEezWTTA32SrJLtZXaNOdordrJRh8jps91H/ooq3d+5Hi1C\n",
       "Gvop4W7zO/dJASMxO5h9OQtHs2PED7RfGF0wdb6W+jVhGOghd1XvDuGj7etLpq2XChnmKE7EMpcv\n",
       "2Xa9Vxsv3yUdSvGDA/C/QKQ0bFaQ53qJ/4tpEMwY9wqs+bDEIH5QtQsFU2IrzyWBTDqkpoKEmU/4\n",
       "VqT61KSC6EG3kFtjrboEikZx+XW9Ly+0CZT/ZaIDLYaS+LpjjjjX/t9Nw0uSQ2rN37ERV2vsrMvg\n",
       "d4BTMsCROT8s2DwGeSmGnZTOERPWroGojIGYvqJBL/uW6X8CjMQ/42yxqVaVDkN3rzCIdeFI4NGa\n",
       "jVQ2brC8PLLgutxbruBQLmq76PRPvk2KEKI+4F5wW48JbGGQ4FuxSIK+3l0F67/P2XMcE9QnUsy8\n",
       "apNcxkPcYUZ9Rpdy9wY4G/aTh0dcEIAIjvOyDYLwatanc+VdrIrEKx9/kvjC2rTnuKhhHge2X8Fq\n",
       "en5lErMIPA1RndiDfWHKjmYRBYBviqBIxEooQGwtxzNdT1hDuRFap/RC1QnczlEob9D3csseyKYk\n",
       "1id1Ax7Q8he7jFxgzCFy04KP8Y19QY8BIpvRLnRm/C+alDhT373gzlnR18znYU3Cl0fCkzv/UaFM\n",
       "KVaF1sbJz/y0DJ8uoZ20w3WRQ0iVkpbKSCGrKuAdcvb09G2hMExTSbNh2EIckr/xIDaBS7f2Lq4P\n",
       "NqNaZiVc1Ooq0uSHpZyhwSq4E8bu9WReztnDpguuOXerb3dYrLbsg4/klJe0Xr3Msbqi3gcKmQ9l\n",
       "O+cC8UkoyLDXwfmnLaXOhSsksgyjt5DOYbE77+Y4igoZDcewdthAe4waSXgHOyIVJI+JzlSQvCrR\n",
       "3HpJgtDvkzxKNEYp0e5YMhFkQXPjiCHxFuntQ9vtwwD4/ryV9VUqM75THGZFvV6YCUztMhdd+V47\n",
       "tcp1kEloT0usTH+dU0JHzCygH372ntRFUlHGQLxbvdEJ6Z8UGtS8mVYBNuzVSQ1Bdg7MwUVZud9D\n",
       "6l3Z2mdEYHMN0UFuWbBlY84mxxtTInpcdr9t9D3X26iWXWkIq63dRktydjw33jKuNxUo0NLeJ+yq\n",
       "z6OEOEZ85lQK38Frrrv5qhe1/X3+lYFCDO7jWGZNQnwgl6yH0+QpSflEOYUEYkndxpSEZgqGgw6r\n",
       "kF9kNxhMEY/wbYB23RQs80LduPk9vP/wx/2Ox5wolzCYWlg+ZPo6zh/v7RBJitbjNkOQPWnlZju2\n",
       "ljwxEV7HN1AgzEomeMbj5ah8i8rwBOJOeqgPqWrdiKfEesEvdpri1QDXEa07AXKXgx39bZ5PIJGC\n",
       "qtTR7WdhCgTLn+0mu7u7+7XAXPl6PjhlCRUV+1ZHBj47CmFmOAtXAyXg+oJmMDAWot1UZspq7V5R\n",
       "lF2YNlT/GqyevH5ZCOl2ewWfK8weCSbkmh7RQ0GSipCdufTrNJqi7Cke/g/yZr5sDKPN5EeYZ8yW\n",
       "llmwzm6NJ4sq/AqRlhonxn5xEOGErtg6/pc4IYxVmb4tyw13OvaBItmdHW2gN9WU3bXu82GKSDg3\n",
       "j3Ks/5VgO7wmM/an3lRri9AekhtH+Qi6K4dQl6sAnB0koWxAGd87nkDUJ+cxX4xWjCWNWeRbwo05\n",
       "KzKrfM+lG6nmpXxtKmqaQpBR3r0fb9ovCVKI2zOfI5WyDKeG+xN6nlk4gg9DE5b8e9urpC3YclsC\n",
       "NVSiTQe2mm1K3PF3AHsW0bs6mkLtQN3Br+Jv1qlo8QnmF/oHrjjvVV21LV70LKADXA0hPrmfe5Sn\n",
       "MnKTHenfhi64Kc/qc5DcUfPp2/NlxVhSQsT9d20fDAAbup5HKqMzrAnDpe1dfe1uBma8G/AAAARk\n",
       "QZ7KRRUsO/8AAGLJmjhl3Lfh3+Iue7AybtKgCfJPn2qeRAC3rn/9odjbKyYDEZ1C7HeJzHJhywnt\n",
       "sHqil8QHpbh/cpf2Iy9f9U3oJwils7pXtZ37pwAxGzv3xbihEzihUCZuri/JQZ2WVJxNKbBKnuMp\n",
       "5LfKYDK3ZA7BtY5PvYj4V/u5MAuuXDFFnWT09wFUG+1GUqekHmQ+DJ7WWVDRJ5vXECMMw1ngfKAj\n",
       "a8r86DD3a0lOr0V7DwN4vXc5HIIcHbEpqzPN5EbaJel3Bj+ckOMvBbq0BY15gonphdTxPPxc4GQa\n",
       "p82UxZApAczBAEYSbDsOboByA+rSrzlsbneeSgekT5nNv1OMpMympZDlXyCcYsmo+bz1lAQWTkA+\n",
       "z1+fPj8+IjHfLxmtn/5JTSNGOa/0gkrNYo9dYAJ6P2NhV61gSQcKSbEdrywCx3540yJZq6iN4QwX\n",
       "Rsw+3fkJfE3PRmo+LKf6skhNYDYGOzWU+Xvt+fBLBL9kWdUUAH33yW2XTFJF0cWlqfHh/WNJPwJa\n",
       "ttI3fWfP68tSJ/94U4CjyAzXTqAuQUleiiyP4Uscsu3DbVBxn8C9pT5Xu8bf0xyQwIinSAPPUQlc\n",
       "QnASPtafkhxHQHt5HoI14vdzcBQLuTcrcdxo3pcFvxvFyR4xvyPUAfjWDj8XTU1uoYqYhzUMXyhL\n",
       "n34XlwICp5MjqsNCk4Gsw0SW8sQZqYu0olrGCoW2vVDXFgVGmcdRI7pqD2cn/3ex33wx7w0E6sLj\n",
       "oYtUJ7UrNdEduonJVQ++qDnvKaDZziAg9IzrG+zvEXGOm7H8YDY4mLPGxgHfPG7eDcZr24CymO8S\n",
       "tgQffg5+TNSEnuUWJg1BXAQVfjsj8/AENnn9GIJc9rBl/3JFvd/kMG/Z1V/zNrdaZeRYINylMuPK\n",
       "zO1sKZc+g9WNIUb5+2Arlk6XZ/0DCKqJh5MrY886m6eYxTs5iwTmbrCPBWlhs/WZSYpK+GvoAmih\n",
       "5zXcSxwW/Mv8yXhL3nfmH/A5T4Gpy6O/hhD9gyeLU39bAr8UYtLRSlBUwY5Qtz2qM6TPCpO9xm4x\n",
       "pZojM05IKJgGqafxzzugRjaO/hdcs9fibXh9VN6KL8DSyGFc+hJ6KEPmqS60bfLTP9g8/oHRBjsF\n",
       "WtKrkciFbdVErZhkXErtLsAlHDYYF4FjP+2Fo0nQLBf59QsPyIce/mhY/wnH3TW0+m5Hxw+Lk0bO\n",
       "5OuslAgrts6w0adYrVkzdkwxPuEqxqQ0dyzBR6kkX5eiiZgNoxexoCmKkNqWPSSl+OKMThF0t2po\n",
       "H+Sv8Sa/p3wlhaZ6oI6F7EL8I4HvH8htVETtuclW4whTMjbCg1ZaSoG7t4XLO10K+LW7UmE7LY3u\n",
       "WHYCTRBfCy6W5LtTzZuVVspMVuIJEeuqZ+YPcYRZSkEV0rO/MMA5rcjLiUvAk70Hg4Ke4gl6kwX5\n",
       "2I1mOsu3JBTTN9Q/UnPMm77G1iVDyApqcTg5eoU4OxuretWN2RzOV+UAAAFzAZ7pdEN/AAAnx3Rn\n",
       "aChpzSxiwuvBgvfyU2ssBxvIbr3Z7Xe9XeBdpc8BTRmshRYhFERWcM391EAI9g6icHY+3lK7KOIY\n",
       "tmd1MGoA7Ww9lrnTBrN5z8pXqgbwT1ZfV9iWDW5mJ59WcSwgL28J8SxBXlo7ReXYnopHmkEwyVnn\n",
       "1+2EAbNQGNql+pflBcdhpOR+DOX+0Af0i7LeNTEfrJRNisD9IRQSbP4uzSW2t9lYU1c9bP1lz4oc\n",
       "Q9UylNm+kJEIkq2BSMf8nW1tnwsieRAGqKdrodJjN/9PUi1rN9H120JBNdQ7eS/cKjfnAH711cUz\n",
       "2PQ1rsO0+d+digwiHX+kGWKwJXIGPqQ/dDBZvO12LLAkicoxksukxgHXH3SRlKKdFv0kxsD5pHHM\n",
       "zQppIbYDs7gOE7yr/jVyUDFDRE6MbCCzqZbKQf5R2wlPEzOCUqhg3hmDpVXz02AUlmqlXvcYzL8B\n",
       "7aYyxr+7wWRfd/XG2ex0qYAAAAFvAZ7rakN/AAADAnydIazjShKJwsbvfiWfhB/GRJW2PO/ONp7g\n",
       "1ksf4Kl4Pt4YNe6ZNACoxo6PC84Pcg3IFOGGakWuoobdA396dm+BAjg9aKBWJPyL/x/bBGcGsY76\n",
       "7kcNYrDrHvs6w3tVRhnnDoZgDLi4AzWHmS1TWcIx/I2rMo1o55df3F7RpbCKXh3DQaQxUK3xqlwv\n",
       "WYIbbHCW/XJfe9imQnUGxiqbPZLYah18RTZ3nYULYCNIlBQVFSHnTNSeEItd8FncPTEDm4MgCDPF\n",
       "uOIgoRQ+ZjSEQrZ4Jb6r6/JtBB0iaA+E1A4YCHDDcV0O3+AEYSG3h5RKfX4P/Lj7KIvMftn6fOav\n",
       "MT3AStMlIIR0Tg4/UiZCorOsQ7yna8Io/sfslI2vWGLLQiBzyidbklbPbmpbfe3/3R/gRmwA8YzP\n",
       "f+CVupafkTXEFw3X1w/9bg3V2NA49BI2aiyPhhING29LX1JnnlGXekXi8lKTgAAACtJBmu5JqEFs\n",
       "mUwUTBD//qpVAAHzQhwgZQNcfPhVzYpbIHdoaMEUHpepm28PXuoxbv9G8kXEFlRLNr4nbzbS0vMD\n",
       "8RoCCcYfLaQw726a21WS/qZiGnqZtTKRJF4VfpNMUCi/9mcrK4jYloydguDf4zyDeOkpepPQnFH7\n",
       "sRDBgN3IvgeiHIuGScbOcUHAJWVr9VN9+bw4/PjblUPjtWXXaYjZnzLRqMLK9FfB36QTn+P/ETE6\n",
       "KXNEGcZpiglaP9KqmSe712gNaMJRrU2+bAX2GYz4Z5ratcf7xkS8sePLURZ+kxnOExSDkcFjye4V\n",
       "QUVsDeiOFyH9LtdLjB+P2DQsb6xOLW338QVmGZjngGpwEDQ/fL+0lZYsA95vUOj/ogvkOpXQDF6y\n",
       "R5a/NTcAd/VZI5gL/vfBYsIyIbnNQuTbzQ63NlapsfZeHzs3E09USjzAaZlSSY4yusJbTfDctn/8\n",
       "o9asgm74QLo6wcJqVu3NVDgz3RiG/2wObKSnXHSnIPZrsp3N1wdK51WwMRSFMKnpFAaEaMA9PPL+\n",
       "xRA1eQvLmSNYWzQFl52d++O3uvB0mykz5Bh0RtZtS+eApAlwNbFnxlPeggqWGBNqrr4OxaV2Luij\n",
       "Yl48mgtSG4sLYuCIO8ne5s+IKuInQOTUHOntC1hmDFbrtPDFovPMgWJVCt4rKH4Nfv9CseigQyt/\n",
       "5YNh0gnxPpRmZTW1VWq9dzLMGkfhlpXFHQMIRY7+Xt9DBbwsQqUVNf+J5XvD+eY4ooHCK+Lz8CZg\n",
       "6jEG7xGRWc/CLUcafZCjaqfZ+O/8GGHVkTf14Ywc0fUy7lkDlwW9ISNP/mc1kJESvpKSGLnWolSh\n",
       "qnwBF7X00zsZlS61IosBlIw/pforaO7ZcAQXxIWdiEt+h4TBUK+UXqrV1Q0ld71UTcIVEXJA3llS\n",
       "1LndF3zxd7wB0uPIme86VzL9CNRjyOjyKYyBiSYi/CGDGMRhzrffU8V5Yw2P4wukvjdSSG/4NzWM\n",
       "1POAUv0NEicYjSvOmJ3mCRMmF3OTFvEdQW5uomnCJcHIqsUyBvXdcKRfcpGjSmTo5kCZg4/x5qYQ\n",
       "wNn+ZhXwzH4VRAyEnPEcwNhcq9aU72F/G7YPJJXirW9q/f5NRFDAvfwKhFafZmWSp0Qmx1F8oYRJ\n",
       "887K7gdkEsiKmhN3+yCkri80TEeRywYLSlfuWlhiBKd1xhoV+s8WCT36H+1xYuYTunnBNx4IGau/\n",
       "l0SwLmfHJY+YkyFp2DsLMMUbGAQfrq2sjOhpaAnC7XJrYa+UFRscj84lEfnCA3NjZnU3FvyxskxG\n",
       "0ANPiqYv4R1F8pSJ/8jMpdgLB2hykyBN64ELSwTZgiNWX6uo+9yBdPmQ0N8Y/ENSb2VYTBa20JjL\n",
       "6PoLMQF0X3dfjADpWxWwZGfYVzR2HlJEg4/Z15WY4Bk/uRYvnG6/+DjAZDkQKKYcYdzxTykOIKe4\n",
       "SOhlKY20/6pZxLd7vcvUmva7Q3wbr3ZAHoIGYgqHYWTuo2znv9rfwJyOCjefJ+ifxeJ/XSHdgIEc\n",
       "82NK+t9AfOZVClyeKh5sXkEErgnuvLkG0nC/uxvxd9O0mcT3cYzF0LAfIfFZ00YjHgt1tDvl6rY/\n",
       "crfMBBrjBSW4Nvfynp7LUW36G4LAea2/vnMjmailfBVlJYxTWHNnCNlWZSTi/DZApkVIDIkepRgb\n",
       "nTh0mIiFRILp4IczT2OfxoiNziWBzWkJ38z6hFGDoMrMQFSOhTju807OmBEG26BisO5bGnYsxgjQ\n",
       "xojo32rYWbfL0x1o+mNPdCdlf2clKzxCqrvUu2FyhHZXPGh1RAzVHMNUC+cH9RJzu8aKjAfXJCvy\n",
       "5SbAhgHrGbfGnau/CL38XuQ/PzOFj1lm2Djg61LctXl2ReI1I/Wfh8cq3w3kOUPUR5zwgPP/m/gB\n",
       "fJiGFtz0WOl4wjyP7frSACZtWoI1c41gbgx3WmVhjfzSBaC/2Fk/xWr/JTvCOfeOhg/G9g2bmlgW\n",
       "GCGlGQW+/+Pr48mFDdhEwdHiHyXP5FOa9olcYKNd91umWYQ8SXBHxqyvtWSg0R73IO/AmP/5n2d9\n",
       "M5T63mtvaW3C7PDs+Z3NMVvRAkD4L/eiiwo/uwCPxkvIk7HFF3gWYtbJnTDGiJtxOKhfQTqNFGy0\n",
       "0+0hRaU79LW31VpexN9T9uWq30Iq0X03wo1cLumM9no2ECu96d8tu3kWBX07TSdbdmwcFyU1LQm0\n",
       "XCk5Hrigv3gRxMX9BnXzABcxqlAbg+5lutQT7In/X5rWW0N5UQhJI4s6M7sRAY+t9uCHDywJXYiR\n",
       "U2x8pPVTe3I9GZoHKOzKAC/DWefTMVWVjUFMN2qP9gvo8/rnRqdTlpf7Pwe+WQ0/tTidu5hDbDzB\n",
       "mSueKN/b/khdD8Z6Oyz6OKR+c3Xz1PAdhKce3XWXcriy1793XkrFyL6BUqYie0Zn/8hzzqaIL6Ws\n",
       "oX1iWGt2HT21G52jHhTXGkQ1PPivvP7mov1NUbWr6fc+qBWlP0YinaRxymst80wHyqZE9PwEqBEG\n",
       "0fQiyAIe6tS/ZzRKvE/QQsytFFS9UU80A+KSTLloAXd2ag23LwUY4VR5FoMrJv8RBqyauSJPZGfM\n",
       "8gk2HZACz/j6zEGWW6lkfM2VCKTLUwNjeSK020L1DjJsc4McFTHly4uyuuLkjtkmG1UGqDUQBC3l\n",
       "b3yolq9L58+fqxZ6+Eh8ZRMbWZsFpBNa0HjmI9wpRIVbatNdqBDYKkUy6jYQ3xAyCjgegD9iOS4d\n",
       "UJHnAnTC0qyr995oInHH4TDiiZ1jadDBoZyUa60tbT5UA68zVBZBFK2MSqR4R85iRtGLoGsHTy+x\n",
       "pPMnZFE6Su2pPyeCkf8dEEeZJU1I8NFcjk8J/bjQd1/rEccGs1O9aCv0ErIiO0rlI1TtZtu9QT6B\n",
       "YyvIOb38MNChPiluGogJMM7K7Q4Yw1+xNjpTRU+59iA5WlxrBAgExi/5Qjxbr+oZux9ww79EltMC\n",
       "1aJKt/A+wvwaKTnenY4o0Mrot1D/O4Rahb8BATKpILn6T3IwDXG1bwJGijmcCuq+EaX/h3IIQVpy\n",
       "US/IQavzxUjViuN/fDH2NUH9Zz1L951FiIAfPwIx4vBqMnTWOK/VCGLcHqIfpKtR+tX/63POCsAn\n",
       "/IG+qRSt8aEjsv8SMfsmFhriLKq/L+Qbc9k8jalf/obKG18exL7PWQeVSY0nZJxMs35H5QpJe9R+\n",
       "ELC1oOs67BvoDdpniC4bXcbTpCHwFd+nzS2DWojKNX+oe3EkbU1gwGs2UJ9v9ULzb+D96ptN46o8\n",
       "PB8b74Gfqi8XxExsofhPkvDo3DtoQGHLiaAW+qoIBm8e9nAON7A0i/G884DOUOEMRmyFkRQsUyUK\n",
       "g0x+Ima2xjGXp1VezVQiqp8mcCg0//0jBm5mntqunKACnFaW8PGEi29oh1DrBkLqeVU4Ppx079hl\n",
       "ivJjn+dze2oo8i2iks3ukk70LhdJkr7c/nq1WECQOY2NeKGYZk10IVodmnwuNVYTccGr7HJT1srg\n",
       "pYHVd3tunDjxSrCdtL3kH74KCJd9KvPLzlkid7t04ecKPcZZA6pDmvti+ypk8G7CyjGYMng9FrIk\n",
       "kCQsZ3dl8q4SMOOMl4nChhBAYJXx+O8+PZK8htuz6fCLPb/Zu5bipQkpX/bsaTXi/2PVHhfnoelz\n",
       "MOIuNlBZsgT1fdXQ0rk+HQTBZIqjghcCBaJvAAABPQGfDWpDfwAC1vPkc56meZ/rSVtaMc4WzC27\n",
       "m1HNZ4lSVU2gEXrKaSaPgmcAFo7gJM/uSzxQ5ZDQlkXvo57KcS5XfBPlmaZnwduDGGQJzyzO0Ys3\n",
       "ObPe1gB78NMDSQfFSZuOGADN0omwmcQj7sNmMALdNtkKpnPHuZIoRJTrP0Ux8BE1Yk+5nft8lIEC\n",
       "VYSCsmXOaXhI5PyAkXohILVa7NYgapKkW1E/j66bQ92wQvcfGsAFslGeJgagzrbgg8Z42SoKVwLK\n",
       "IEZTslTOTdeNn9r0X6g7vkN4Y3SW/SNFO8vqWYNysyvlMSEc7HDxBuj7BjbSFnMSG9TCVGBiBbuF\n",
       "7ftyRsR3/tvLW78hG+5RlwNcrmjHimHM85caiNBPn129NaTg1OeFauNJp5WL1DAivVN1LErHNrdD\n",
       "0+DEwsqZAAAGTEGbEEnhClJlMFLBH/61KoAFlDT6AAidNnJE0dBhagEXZTtqeipbYhtECzVVkaF3\n",
       "l59ZqY+IRa+mi9tH1J85pKD3RbDje44v1zQIEEeoIK7/ZjRNS1IDclRbCq/kpWc6bSyzD7b0sv6v\n",
       "QHTlmaWI4K4no00zNKC1SnUGWssmdLMzodP+a5JKUAdwq9wOfCRuKtf6zRgE7PBevZJoG9Gx2SNb\n",
       "mQ06plB102FhNvVCiQIYKfEMkMeuPpVC8gZw/akcByg/k8ijreHAh0Ybj3igva1VL3Xc8LpQrNwL\n",
       "Qy+gievr5PTFeJy3Ksgw8z4gyyulZ43KtTECNjlPasX4C+lLDO+B1UKRFSxI2x4jCWO+u6YtvFxT\n",
       "D8UkwjAvNkQYp52nmB3ArM07DiYzMCb1tKq6ZOt4kr0AU0ZDwg8byTU1FQzgN4+upQGl6g2+fPSG\n",
       "iNm9fouJ0GDuid37sAwuBXyCBHSD4vWevxsRRotkmFktrRiDLjBE+/zRSPMwYtFo0vPwcVuGET9M\n",
       "49vJ4uTNDEeDDVkDeEE7oOEx2AOa7WgvUBYza7whDKqHjXV1Ie+j72L8lfaXkUQ8MdpvSXPe6x99\n",
       "LYc9waUhCm0v8yaI1s7x8NPzpwLotMpaLlJYqn/oG2hhoIknqjJxOchopnnUj/3K/gTTmpbya1qo\n",
       "gXu7LEIQ4A9Lcy1RQBcYNFb/8ik9v1tmjGI4j2F9N6nAdL8N2t2ernKzKFvzX5iqs54CG16ItyUC\n",
       "6XEuqSEJ2r72+mxq4SncFsghmbCFiD/ObStSHyUD5I5rQqsRiZZqmUgI7kRd2pNYi1Q4fmRGSUFq\n",
       "JMOnjEp+jC7U2tkFoHC8wrRfI6aMLVmX/hUHt9F5yWEuzfl7oci77CxMTokcXLCNo0KCXrcg2pRL\n",
       "R4nPyoROG/XKaUSJKTefpgvZ30NaCMXjf41Gup8of+V4V19cjoo5aYig3bu/AF5pmDQyW1m/RRXA\n",
       "nlxK6kIRdiaVqawK9wCT50AdGsedoonv+yk/HyKj8CW8wLpYMcKObL0NL1sCVl6XXxHcqGeiFkeK\n",
       "t5gpS+TTEgZDKdu5YU9DSoaYmM+Lfo5AVHVJhvsGDcKcDIUGgRe6WoQbE/jn+HtNrwjLujCoki7C\n",
       "1s7b38iwjGmnTOObWDJLxbkQZohggLJuEbN9/33LC/x7hycMFHSyzWL1UsUCiG4Ow9bp6ewrxeLU\n",
       "S5EOBzm+64FlC5VoknHalunr9mPBJgjgT3nhKlOIlxAdlLSmFywVjtoUpe53KpG1fotTT1WSrtA6\n",
       "LiDsmKjRFhbbRJdjJPwtzXCRKAnqK7WlIjr/cSniaEeoUBoFqXlJ4h4GBsUbQ88vUBgseuBz94hi\n",
       "bbeBEvkmEqMogonx4Q3R5XYG9XaFwVqeU5T9cyB+2hEh3aC06UQK8mij9iB/sEOwqybaiDo092Td\n",
       "ovUBNyk6YRIheqVrIor3zKYMHYn9N7LXZgfP8Tmnu8IbH9GgGcE8NP1GPySzzeYWSJV+CWUOR27b\n",
       "c74dtXR5tANq0tV4bJRgiuo1Onicf50RvVpFezFQFD/Y+H0WojDaapALyatvsCx6axbD5HjsbgYC\n",
       "0ieIsmoRMI80vhEZ5hdRBBxMcAX1WnS1j9+vFI4a/viZEAL498aZqHg97GC5SJNXsSBM4PKfZG3z\n",
       "0knvtvpC/scIqmHws/HyQorf4h8E+YoNa/mXw/KVWJokobdnX9k4XXMK+27xnTgSFuHHJuCRe9bm\n",
       "ox8xYdtJjx6lGftoNzMcGqXWxOVHwL4G2+TTDbA6A0msk3FQ9GSoLf+7t/mIQti+Fie47k329moZ\n",
       "Hqiq1yTOx+9c/ED648uxtdDp/u27AX6KEMXmBklnAPk8zRtNmNTHv1bAj+4pB62/6isqvugROCaN\n",
       "ZFSIrnkHeQjbl6tKAZXz+Xusa6SCTcasDaNpJkDKGHRS2+ZCo/Bz/+IHx2A5jkIUremxNMa4meSv\n",
       "kZmcuZzCyDK7blVfIPPEBh0HEcWzEy5Jb7xxxxWKeuokW2PsCfWbngCZ0hxUM2vMyGz/vqgYzn19\n",
       "uVFPAjFmYtfTpKx7OityaXQ7aObw5GfKz/Z0hkN/n0h/101vxSdaQwWLnMfotpsuosTUldA/P+iJ\n",
       "zxkT7uol9PoOizyI/NKIxmjgkbX+Vr/xUHEAAAEvAZ8vakN/AB5ihAc56meZ/qg7ZFtDTXfACMol\n",
       "ySEoZSfqWIrtOFB/Z8z+eVquvNg9uzy2TARu6nweipvKrvZ/QFyxsc7lth752d/20Ie37CRMajma\n",
       "ffXzQeU9kb0PToAfwN3F2vebGiX6LIf6Mk5QtzAbqf11hvQmoCsoonZoG5IqHvIkSLA455N2IFqh\n",
       "jHJfrbQ/RCHcL/zl1PQfk1vSCv83hZEBu2oTrib5vwd2a5vwa5VxtsyPOO2iFc8j6c31DWl14Iiy\n",
       "an6ge0FfiAp9RpuRQpDYgEy1RtlUUbQLWPXRjKahBqGnqBFIhdDkNhD4rmO1v02ayKH7mbg0UV0l\n",
       "pAIcSzLOoc/gWg0+FHP9oEl/ePIAlGQfM2sAs8dWJC21kp3MKBZIvoBUYvSe7HqgAAAJOUGbMknh\n",
       "DomUwUTBH/61KoAFk6jDxo/+BygQALaRq+KGelZUZjo8Ry///rRQeDpCW2ZDOw8L5q8mHHuGM+aU\n",
       "7nLZvoc4h1GYyKoW1qFKXS+2BKZgIOmFqhIwIspPSS5HPvHBO7mEt0vsQTE1+nMfZVpGCCS1KKvw\n",
       "6chQTIMgnwDiS54YdJ0Zk70CFAXJwjaL3dHF2a2FnDYWSyO+qdBV/IHucT+sOGTD6jvrZju2DHwz\n",
       "FYH6nJPYDUi44Hk+ThUynoGD5lcAyfeuXMMnURUGikHHRRy7p2rYttJL+Ap/GTqsulWLyWR2aCYS\n",
       "HNz6XRkvvojiXTU5WpIZyA6J1nXh4l/ggn2fdXbsp0PePknbgzXs6bvFhfcpVumwKzJzzsWntfrr\n",
       "wDqWQLN2ORaHitj1HuSgieFmjeRfUtFs3zbiDxuppz+hxOP+6ijSYzYTKzJknSNADjSx0FmlrM9G\n",
       "LKDg5EzpkjTqNVuoolO0gzw5izmP3Pf2FqOnqbX1Rbbuz0I4ke5f86alMHR6w7JOclopz/Vxj03L\n",
       "r4ZvZR4ilA37JSxE29N15kOQGsrJKba41dmIc8O/v3LgjMmdZY6fDshFnxHvcjMJhCM4R7aZqyY3\n",
       "f4T1Eamm6lb4uPLcf72lfb3eQxsoe2TrXGlNILeOdRTko1YduUP4gF+gNKB6aaVGzIUlKGMeK0zh\n",
       "2HMdEofeuaYkiYnfBMxYRpna3rNduW0+q7wVASb/nJYh5r7cCXjRoN/cnqonfqc6zU4h5w20fRPY\n",
       "hfnHMO2AaJsmyxSOEK5EjCkLYbZ4pR7p0J3HjmMc0VSualZirPXOOd74jT5mKH9sy4Y7lOTI80zL\n",
       "0TLLN5CBobvXpKsy1/NPzAf/J/B/KBI3iiR9A6Jdv9y4TjrIghr2DGWxzDvSIX5i9c+dazx2vXG3\n",
       "M8oiq6JFW0t5CUKx7QbCODZPtyRrLTJ9GTA0VlDg+Bx770lheluo8Y3Y7YPzhvvkTdlQMQOqbXgG\n",
       "emjZZsytzeR62q91pANeVCYx/GH6FS6ThP4pj+znkhgXcCHO53osKCtYufUxTnjI/DCz7zQIX8rc\n",
       "6qxqKizkzc8rmhey/fsl52xE2nerPwE63kp8FK2orRPqAzgoP3xxd5vsIT05DsoBoNL356iK+6dA\n",
       "81J8TUKLDS6Aga7DcIARI+1Bv+14LaqU1LEmqLEp+rWIhylgNhpOeQrlnRsAOX1mDVYPOtEZtbkB\n",
       "GYNmcbXyJFfo8Y6EjPY/vgqrOPhNId9kK3IEK3sLDY8inw8NLDnIrWzXH0sgUfDUYED+YJTLNzsU\n",
       "sFuTEnDwhed14OQaVl0gH/vGRMcfvzAd1NMCmZH4IcvJ1b7EodTDar/5vb0lugK8Jku4x8G+tvFO\n",
       "2EzKm6TkdPOw/AuiABqrepjnQwDaevSseRypa5oB4JPSse1FARtGaS6P7Ly+/lk/sdto+AKbppAl\n",
       "x3ICSeHTroDwlMM/oinykWJ8HL80Xcdjq6cSEhhlVwOLeqMwvrUv/jGKkXU/0vHoFI0SARVW9Nlv\n",
       "qaduan68rPME4R1Y5mTYDHctg/5WD+6T7V+kCrKP1e/+mtl78KmR65W4mpZR8cO3zxcnX6gSey8M\n",
       "dglyimQb+sH8LagIDyIiwiIIwWgTVADKn1P0uHccFO/qr+Nb5ZdA2HlWPkqBdDhZHJ5Yt8KCfRxC\n",
       "ZccvcaJNAQ/qFMvO6y6A/y14vLOC5i0qNMgODrwxwfSpxQytPj+fGiwVweRO36yRVFXnzrUWA0R7\n",
       "ZkkgYa6fmDDX7/BMs6kEs/QbkiYpIvW1LdRnkWMfZZywsO/9dl4MS7xT/MDkTq7X0okmi+Pfl26z\n",
       "GAPcmc5kavfG57AAuztEWFcqOqpmswWrEdhGkaJm+lmJIJmXA94kA49CgLdfqGo8qEoYUCBMqsiF\n",
       "DV1tBO4KWSGxtoxuu+ZYZc2gSTgaQlQzrMqKRr5ClJxLfMuj+8/vWM3T0+qP6x9STXAvqHbMft83\n",
       "gqu70aESbwjVrzXeOwH3QqizS8PjUUzxRDG+yAzxlK8YghDp2yCnN0EqUWnzRmDvBpaGxiJE0fs1\n",
       "D8jPyKD3QkbTVJX6jVlgFuis8/2FbyH5sYU+Jf6040ni9vg2cJ7w44umML2x3WJgndQcsXzU9xhw\n",
       "/TTMIJ3YumDseakBc/UiZKDUHwdb0o3UhhtH1TiPC07QlHv7i2es6gjn2q5iE9hBxIoXijaVwluP\n",
       "hEMgpUHn1rRprMf6TZTodaxALFRFgRdQ97MOT2q/iIjNQgcI4LvqOMjJsmvkW2dJ44GsREbXg+Vn\n",
       "Iz7zVKYf4x73jgwE8KY2QjcfgZrH2jNhwdHzs9YCWzIbfBAeenU1cGUYEwZQI43gqPVpEDwrrOrV\n",
       "Y9RAagKoTANyztNWHYn6TBaN+Q+jfoCfmxG7yYVV5Nw7jhwf+WxSgjdC9U5W794wIDvHDf3c9Hbk\n",
       "Et2gYD4BN+F5kyt6z56AjnBq21Wq04aKtNylqNjHCpFIgTsnEObsnCPWPGLDOoZ2QQu7hAiu0P1b\n",
       "hhSmQEv45xeBr1Ivl6EKYsuid+Zgd4lWSXB2/NfKUHuRJF/+cCUkzKR72/r0+eMbHeQYcicHBvNQ\n",
       "Z+To6MccbkDKo/samxe6dOywjnnny/iTaYMWRoXM2oAMRgr0awuIXSszMJwX7GEK0Ti3NDK4lnVt\n",
       "NL0+d1wi9Q57tSdHEo0Pq811dPmREv4iuMx46vWCZe7z7W5kMNEXgEuLtT5l3GFaywlMcfA5ymLw\n",
       "H30kh94/VsuCA1BXAghay+q4Y6Q1vM+JgX953L6GiLtU0pIGq/A6Pm4AjUVICYhJp5tNo5bjYbIp\n",
       "PCRZpJjpcSAGd7fldroQ8VWBbDUPemgWz5MlGVWzhPm/hMqanp6LJI/jzg/xOPaAxaDP5briUWbl\n",
       "u+1ZCt6DlPLXViKpQDvKu62PgwnqI89ZzcaOAOp6d6dIF6Zv7Hr0IyszUuTn+WevMGF2RH7jrcbp\n",
       "kpJ71SJEW8DlomKQKC6519cHQce4kqAm6BWxuS0ObFs4mxbqvUiRcWjKSVN2M1MHfCK7RU2IiMJx\n",
       "Yxb9GIfhhEb5G61zGwAd/0pMvJ1n4G7NakkwfwrkcVV8/zP2BGlhwMYERIXRctypSotyQIDOGuAJ\n",
       "amPjeC4TF/2YVf6CSzbF+qVzQAAAAQcBn1FqQ38AHl7WEYb1AHLtm0BlGDCvNdH3D2MGkANEJVTq\n",
       "JD/So86fpyZO81edmo+XU6AjgI1Bmsv6ZPzkFmjiejsFp5KkRCsPv0mJKeh1RDEFIpxZRkHqaASK\n",
       "2SwlSTdQbQ3LktELeyvEYQkyo8hj7X/zxGzK26dourA3D9V/2Q9SjlowxWZMLGCAAJdDjnOXVqCA\n",
       "7lPVoM3e2lVWZ7cbqNZi9s259AvO/ej8LRyv5XT7cjs7ArtJtb2Yc+6XqV1hE9n5AYjZujClYgR0\n",
       "Ej84qgjY9XjXyMlb9c7tTz6uPxHAzLO1XbK1jBgu8stQ6R+cM1L/epJeMPWWSfYjX3cyd/cEOABx\n",
       "wQAADClBm1ZJ4Q8mUwIIf/6qVQAFS8TeAUQrJUIKOcoOIkTZTwcpGc2nM2BPyit2rdUscj3wCJdI\n",
       "ej/ivu+heE7xdflQQn6fetEmbKLBH9uA7vbmYzEvXsR0CMM4Jy/J9RtJBIR3i7HgaTN66gIq5TM/\n",
       "F5HJKOanCzzmy0Z8an+3nnnC5r7JlwK7cajBnvtoMKYYz/SGc3ZUjEc4zPP+qJyQ36KYw4+QJ+Fp\n",
       "Ggwz6IUB/oLOEL1+onQTg6vjCLwY9oEmdPUqLgHCQNjkjNIgTLDEcKdqtsDOpf267uOMUB0AXVKk\n",
       "DQZdOJixaMNpwOWg0bMH97nDR+jNer+NcFV2VafpN/J5mdNlAGacqP+yCUyph6XancO9uhKkLcq5\n",
       "4ipY3oxfRxAu8uUqcW2t4ta4pzF+WBjYdIUoDlzu9qn9ZxBiVD9/tqh8gxnW926x3/OxvxtYWwpT\n",
       "dyqJogRzz4wqmm5KpZ8haUrvv//UUWQnFpDJBLa84k/vfmxfrzXTV/2usHpIeEd5cJeHTavjKgXy\n",
       "/T/oKi7DIPIo9Nlu4TWPFnTzFQtr14dg0KzL9Lf0+1Yzl/gvPg50lKsinhZ1EzG1mwRJO4ycQTN2\n",
       "/J7/FOo/f8wn8mz/jYKEvYo7Uq0S8inME6rax9n/AefEs8SLDNGzGugll1pr3qzwK6joRia385Zk\n",
       "3QHz94SCIQduSiYTwJE/bKqtWo+TYQMNTWAZaMiRU2NdEielGTYOhmxNSsXznBQ/qd1ggIgrcDt/\n",
       "AXm72CNxuWpKoM8ELNOScCRa6Zk0Omu9PPSFIvriWJQ/s2YScKPW5NuWpBxTJaxyazCKYr8ZD6l5\n",
       "0FNIi1oNs5Cj2m3DP68MWX1CDQ1+wE1pFY8NBxGon9/TDD4jUtrQKqrJFqbEUSGlxv95z7Hk/+LW\n",
       "TNyaMH3f2oBldaIMh3okmXl/0UAyh0+YfRzHGh2KML4m7tKW/Z4ORvae5tn39i0B+xDMwMzT07gZ\n",
       "OAbFd1eRy1tKhlv+7iO62ZVvy4JawflnoTG4EzR8bdZvZaEfBo2iebR24x4AUB0Y/Mr5Kne1QJVg\n",
       "iWohqwgsy+kPYAEP72S6ZrAuDxHJSC1yb4e2ahukch08lmaeDZWKJnQusWI0zpiDPBWH1a4iO5aG\n",
       "JdIeleAf/yx2AxsK7BydCwHgaCzY0bW9uDHVCtzHaLW2TILAq4B+K9IZE4O3uCqBeMZLXLK+PaAo\n",
       "1yJF+HbX09Z55jxreseBovd5dU8qrHUEFb2c5liPjINwoA8omf/FFmuAICHveIPNjQqc/dM/LHdK\n",
       "vug7uHF2LSlOHfqBjawlMgpEP/ZnxAGiTJydITFKWaYPlytNnTnm50xwgHp9WB4XoqM8b+gCQQQq\n",
       "2NuFbpPVp8f//wHSZfO7MTO8l9M676OnOPOyBOLZg7mhENDQcDsZ68ft4UBF6SOtFdI7OpVsIFWy\n",
       "n5+q4NqnEYdqZfntx0Y/v+3z0JuaTRyYyRZUwA78RVUHPJfxPedxdjqNwGeOi864Vek9bZiTsGDp\n",
       "M6x7rlJjMnbpPWF+i5LVZbtQbi5Ieye9JZ5Ipzr2EWWWXxbMo/M2XyYmJZR+aRw24DJ8u2Hh14o6\n",
       "Sp82QII0SEUdCXRyvZj+ZYNls95B7bsAVMLOROfu1U+gHuTUgIEX6a5WAYY2+H8KshjwMsKJw9Yj\n",
       "yyJxOXksR9O/DeiAoXc9JD0Tf5C+cjijtev60wo5b1JToHcfXQH5GeiO03fLkgM5bW6POroUHbUU\n",
       "bCgiFnRff2UoIeCKN+/5//Rf1NHtypB1ukrSUR5mdj204EL8JvyhpaJwy/uEKvRLtpN4ZVnBM2MF\n",
       "OwgD+/rNcbqRqaz1+kGyw+PiSuvttLnbCs5/rpFlLB1WXPRtpj6VlHmE+SqLEJaYR/6hipeCp+FJ\n",
       "wBbvfr6HDeWNPIdTCWufPKx8vXBNPuJluVyvsicJ6GSe/m1ITW42zD3r/71JUDEqmisNDLuyqYSo\n",
       "zpr8EDg88fEuPgr59KP/PZrPwmrEEdzpv7h+tA3WMu5N71LNqLSlLQM3kD/kWxi9jIoYe9S4Y3WF\n",
       "zTK2jVqgq9/Ich/2YvVLRPCPENkXSzS4ukMwIYpmG4tUmNyAazB8gPgdtXdiE4JfGeO2UCHhCESF\n",
       "iJ4hNpNaRbj66kIi6ASRFBlzNwd3i/IuHjRMeeBzKLYEPp6Bo266EvisAj/aDDVowffo55Lz/61Q\n",
       "aQ9LI/xUt11YCHVPXPJK0qUVXsw+rQauilVW6cG/CpRhD5z1LMng6n9Z3lpVK1NyNhzHbUyggZi9\n",
       "92bDBOVNuBVOPMXqX6QCvTXsO+pVURk6EeJmaQPnSWbGOd5KzGqa5AQUnGeaQzsDGJnNfAECbvyO\n",
       "2NjxyULi8F0up595ure4naLGuvYtq8zZRSH6hVFaoEpXznRSN09hcHBVjGmZzCPweXlnVKHRJfCh\n",
       "AlQSUYTplIOkFGXUBH+GpveVHCoA/W3su+7chBuUZZObhiCrvwa5gzEKCyjJkfWlkvrEQRuvHYyq\n",
       "ddk1rGbEl7gfxfTXQSIHmg9TBT+1mdc7H8UceI6l8W6UyrmMSOnOCe77hR9X1znO5w1t+1FBm3CV\n",
       "WKP/oWvmXEVYXXkv+QESEkCJjiCG/XREVvrz8Wrog6bVF27u3j8BfK7N+O5JgRivMpg9qVBCC3aa\n",
       "VNfbHtysogv3MUOJsfGS4Ch5zybUGEXtvbKnjQuNALY3qG65Ps7Fhh/d1AYWLegGprxpD2yyMyhO\n",
       "j2Fj8wDgKVeP4LC0jDCOnq7+zQjTdBysyyFObQRbz0O98Lusff8oAZDg7WbnvZ+MC5MgbIaEq6vZ\n",
       "Fmtr6/Hb46DAPvFPXEzlaxQh9l+KDNeS3qLmxFjvRRpONs9R1TrtdCfabq7W+LvZuuPMwWHSYImG\n",
       "qDtDGiMiDtI8cIEuedAuYHjUB4CwRbS9KkLC0fQcx360gMwDPcRCQObFJe6Edv1nU65NGWJbrwkT\n",
       "gLe+kPUGKx/jzEkJOVyFEuqLorj/4c79+5PrS6tSwLAs13nWr9PQGe5Qy5MN3jja1DWCqAdYndwI\n",
       "YqyyrqsvCiM4fFscxLqvz23SDaiVGKzYdzr+iZN7v4jsH3MF5YQaFhwtX9Dxqrp43Il2Ffjvl2x/\n",
       "gJbSuQdmVNfAkgQ6Sgmt9NS2OlfvocUGCsTUELNhCGRE7LeXMMKdn0eGoeltReWtqjIP9JBL5JEm\n",
       "1BouFLOMPmn8jgWfdyjwWz1Nl4NsPZQYM3pC3KtGf7/gAXHyZw/T1BZogxSvDRbyGMMm8hTjE8Pk\n",
       "6z6x68OlPUU+E1Ki9WmmnUP0xkePKFa60ZFEjHGhk2Ft/JsbYHLRzJJDwnqucpIJlkAV9I9Bm7PZ\n",
       "WA/KeXnxyPvoxC8D9k/YsHzVfDcHMwqfcgsWhSPCPJoazAFCNDPucJysj6ClmNP7+rNK4NNVopQD\n",
       "VfFXF4GY2CbE06frulE674P254zUL1kRLEqe3Zhw0aP6r1IAs09VGqIwRBy78Pljr4Ql5K4Z1vTX\n",
       "+aX5SchfI5120/ftGmB/MynWO5F/1rvIzB7t4lNAy53prCSivTNdQ53auQbr37fgAdeL9Bf2xxAc\n",
       "ArUEVProJ85kvlW1paYGr0Wh0FIP8c9Zs2i2lxloMo/9jm9XfzU2N9XR0g7BUUBqVz95+4uR0YJP\n",
       "mc1B+M1soR6w0TbtWwctmLewhBrQtFLaCZsV4owV/Vl7gCe0KInou4Jf7y1Xdi4ztmQ/4zaAOvWI\n",
       "bFD0/37/hEO0ak7Jcd0vlGVzLURjFgvgHZuw1ECg++KTJwbSgTEgPtaK4ZZj0J8+ssVT2Be2vVCn\n",
       "0GEZ7fL+D+GhaJUoSGkvRwctdOYl6OpgGLiPw0LLlfBHUgPyL53CaJFXWWqPiCXlSBtpWVUFQC6k\n",
       "ZHNxZdymIg89yqGSJUybd2Z+BnPMtBoCIc50hCUyif3NoWHjp5yEtkKKHS7AFXccAaW5Z9uLSeKP\n",
       "R61hhd4W6qdV+Y5Skx0k3TwOZJVoF1VCe0F5mmSUDtr5iMKDPVbjY2EtTIFn+TZUzWT48mIMyq++\n",
       "yyrlDply8jo/wuCT8/mYeT7Cw1dgtkBJQE+CNRQ365hrElRVexas7R/mbujey0QzESAFeJFAO/r/\n",
       "zn9KgGBNT/3BxA6U1aQaQkljWwI2iH7gCfBLSgDSmpi0CZdosH1y4AAAAvBBn3RFETw7/wAXfzUA\n",
       "DszSJPW7SdReqfjIlpWYgc5hiOJJeIV2+8oe9D9ldR99fuUGKpS3OmF02JDvKhbA85AnxgylPMeb\n",
       "WUw5xkjvIPtd2fqD7iAg/U4Va/Amu6fDTkrh/t7wYZ2dZ+brQCsLNHts9og9Yr69R40UqCGgvK78\n",
       "NirRVq+dvI86uJiUGXrhGQN3bBkldupe0o/cOkcv2+Bfw72qKAFE4gdx3mekF7A+B7+pbEZMij/g\n",
       "685Yk5NXsj1LtEmbZ1P99GrVnbZK5pUj3kpKdtjSlcvyxs2bv9qPo6iP6O8UdlJWJ02UoBVq+TGZ\n",
       "qURt389Gk3Uy5RnvfdhhhTlOlPBmuNh8ybZNdOn8xNuJUUBK5yxQCwK/3pxMVjh9ZS5UR4nbLefJ\n",
       "20TRMtveJkNBVgamr2fvkiW7eu/wEHD2z1noHAJQ8Qc+5YLDZyXuTnkLXvMMiGipKlY3g9XNVSGV\n",
       "8qCE3AJS15k//wBww/G++SYnYLB1rfRJCRn9iKj6NME2Nu505E4hYbTsO/e6RAnB9fk/wcA/XFUu\n",
       "FGBwX4zAB0qTlZHmsY5bagLwQEGDeoYsN27U3mIpJPk9KRcwHmFd2oFikn5EYE4MQepNQ5Rqiu3j\n",
       "HosK7PzqyofL13og0T8J3bDsUeyTbj0oecwb8FPmD2aHwv/4QgcIyZA0/9Ggb1262uAZnQjhKhrg\n",
       "JP0fr61I/In/IeFItfldJoRofE/eBmatOmW9afQScYBiQs3Z/M/v1d93TrBpjTrkTua8g7kfvmo2\n",
       "eLBS3km6Buk/Wmr31e45WnRLsNngPUf/U6kKNex28+9lJoWQoo/0BYkEHXW5E9+icTtHbNrA94eT\n",
       "isIxXtafOAroV0TiYpD5x5HTT2q3l+BciuVpLZzNaQN5XBQSrduPkfEuF74LrFKgl6ODyntoCq+s\n",
       "/9SZAzfFYNUIP73y4UhvnrjRU4wRFMJd8i7rwPJTaf90kjkTTHx4NqPHPY/Rw6MYT7DUg2NxwAAA\n",
       "AVgBn5N0Q38AILeItPXlqeAjVLY1l8Yvgk73LAKa6Qunx8ITIF9O1rs1kI0xXSmN6XMZz9ZEr49Z\n",
       "G+6GGfe5fYM+fmKg1L82Ui95SAFuHoVYKRnS5PIKKLiKrLPO6PxgAM9Di3ThX5tfLRWU12eaFdPn\n",
       "MUUBMQy3UNeSJ1pEH44fp9VFuSk5JYkd4SoMxVHFO64Dj39lJVQLaWe6HTw8lLhzy2P78fPpzbsW\n",
       "h74/qXSV/00npw7y0w6hoIHRWzBfj1/7HLm71YAiTCsQCl9cCZbHYSls1Y4Rz8S/vZCApKDRCnwl\n",
       "ayhddrOl45jZ93FUdgu2zBEP1KRzEDuLnp/De9jlRUs7OePSOXFbTrzwClMU/wvhlDCrhMHq2stI\n",
       "h2aT9x+yiTcWqKQksZW6f1k1MLwXFVAbSL4Wf4nlTtFZk1Y7Eg2angNDJi3Gg8MGeupXuMRHiU3L\n",
       "nyrBAwAAAU4Bn5VqQ38AILGSkYb1AHMu/Hv9HlVZQAEHoBTgC6CBHkBaS3aDe7BsyslA/pcD7xtz\n",
       "rHRLcy7//8Vn4SfQGZOXKivR8l0oKtldKhjv4DiA5+w9PrYHlX/hKMD2mFI0tpdDnhjgbeBAbn8O\n",
       "1vmxqkTUSY626Yt5pPgfxkZdLqsLazp0JH+ehi5dpV+bgrmTaVNoYCl4CO9Yho6TU1ADVdNhk7jY\n",
       "rHFBvJOcvfEmh4U5jYRKFvxojPVhiVuoVUQpT1QOAK85k2GEErNl/RER5COmdSUv0J/4qeqSYNhO\n",
       "jVqit8z4AkAGQxetReKr42fyWh3/HoDld55XT/sahVSHUE8rQuvbQvcSi63W2vyKUTsOSf9MtRqc\n",
       "EswOqavHPk9xbNHpdr3BvZkmdD1FkEI1xjY9uy2JjdOJ1ILtQp2HB/0dQnx7UYBp26+idBe+gFBA\n",
       "AAANNkGbmUmoQWiZTAgh//6qVQAFS76oAM5Yt+6rv/ORHMKtgnYHBclD8tI+afdovbdGhYaKg+Sr\n",
       "PXKvQm1YaF+txfn3WfaX6+38ysIYWxmOslAgn0kM+R4EGksNP450zK0iKeJ6H1OG/Sbuk2TgUpQe\n",
       "0+a9r58jEhLT6Xcr+JdtNDStapKGhdUwAh46FQikckq+/Ih9y7AK9ecQZo0Kzdfk5G5mxEGT12HZ\n",
       "RCgsnyTLzi/9/TrHYKd4fbUR3x8b6by6Xaf0NxYE83hUwb8rbnETgr8JCPGyV/MOQPqcbOtr6rKa\n",
       "AMTtE09b6uJyilyDJ8V7DZaV9OKLduo1PSkF5NCEkpFaxQDvbFvsS0JEnSBCV8YHtC2kXDBqonm8\n",
       "qX9lURHGjpk+1w7aZ+FveyEkl4AQctujqm602rmYtbOUmMT8FqYH5FeMGLKSb22fbcW0ZVb8dcXe\n",
       "JAa4/3RymEIt+c4NLxkID015y6Xa35g+sre7Llo2MLeV4zsyEHH3d14KWjfqVnVtbDO/nuvvwU7B\n",
       "vlnpzdrdWw38Sq2Y5iQnboTP8j1Uj7MyTf37TuJ98ZFCoI6CnuPdKdyoP7zP9PIR3MiPEcU8t8id\n",
       "myDHGBh1mTcxwH2VtprORW/a6Bb+5L10XDdbaFdpmgpgfRtl0j2pRKchB0UvLgBwmRXbb3b642UM\n",
       "BnPadQ6Kl9Xz91a4MXHNhCMSqYfo+/kaIzysjmkTCzhro/lB92TaaB/OvxXhEOS8TUi1R34FK0m3\n",
       "3ley/3xJ5Zi70jkiDrzbiGXstdhj/0PR0HYK1JskUrLoWJ95f28mWA40qcPzUpzTjQDXBKPGp+VL\n",
       "RXiKdtU1j+GG+zKFWUQo4V0le+nGn7ztH+nU7P5n/lesPNUXnX6w8wn4498LSK98/bdz9RYIaeRQ\n",
       "k5IyHDkvfym8zeUCTEKfzgTK1RWBcUPRDn0L2aMMWXMtMlz4ujWVmyMZPHNPoVQ17bBGY19DjPAO\n",
       "cgtLNm2v1PXotP/i7VeoFzoaR0yCZe2kk/HTVlW8s6dBRxyu7hoFtdAq8WygK7VygHKCFc/rwMj7\n",
       "6Vtf0q3ggTt10kLRDrg3/g9VoJtzTOiyyvnb0LQojciYVfb0SqnoiImjukfKE1NYwQkXKWvIZqyy\n",
       "UTFhwADF18wUJag/ApU6nRge7gaZqH4speMTCn+VYlbsT906MM7xltsavF3NyJqeo7N5NotBNA6/\n",
       "GzCz+owoceUFVcIZ5kLTWEC0KkQrG5cJtJLaqzkXtKhMbElO/vJGeTJPqZbKhxJ7oCm9R/RPoth7\n",
       "abG9J05kb6O+E4EYZ0UDa33RZK2hC/P/MptpEgYdjoHH1D3Fe8Pnx2aCjm0elLrCExIWHccibR49\n",
       "ojeBiYXuQk4YJLZ/nyP1MWePJ4aXsJW0WbrWDyj6g6gOouo1gYrz92ewyuH2myoHRSDxnIxWdjlI\n",
       "3U+mxlAzXI7Pvd/JYBuc7GOcfAubYKLftFI6nvz1ExF/3jXgGulZRbiOIzzztAKIJD4zagAuOg/t\n",
       "MOK5Ggp/t6+1BzslMW4+JvDQw+GECvfAiW+/5fEtUyPbHq02H1khb9fnvnOeXXcVgiAKUD1/Uj+J\n",
       "7GY7CjvBSc0snyPTUsR50rm4l7NJM0TF13hWUcktK1puNT3VIG83TI26oYpCYoQWTnXbqtK6Eax2\n",
       "6gepiZcJPntAF4VYYBJVapw3NyNUB+wT9c1it6vd9XTf3ACGbPXRIrcOfb3RlPB5KuJXEo/MiJY5\n",
       "jjcitDHgwcZA0T5deEPqUBOUezKx11FFKOjdX2sOJZI78bTR6s1LsejvDtYvqL1TK/QSYo6AFM3H\n",
       "1YekFSM/uf18xoQn/fCNh3vqIpB4+RYopbouAD5zvXEpnqVU6/lwdHWYRPk7Pof3hXlyVB8rj8Si\n",
       "XcABs4SIK50X9HOAsB45JfEIHhgKkpmceqRqsbZb2DjAKiqieNEHlUWBlA7Py4sadlk65x/KpLtf\n",
       "rs01GiKa7elFMDI1Md63aD90t28Cla4AppBmK1GxUNVboK79qaSxNE+J9zf71HxUrvfCz8Lh5YYX\n",
       "Ce0kyJ3Hr67ZaROLs3ztXm1IOeSXy70pNiZOyvcZg5vO8Ycx9PMvGpCvDHZdD05Fj3WULaAwR2ea\n",
       "POmuWlVbLOQJFGbKXsPO1QzxRCEbT36/oPajv6YzIHAD/G2flhEXWqtNXjg8S0ryc3+g1ISrHNwI\n",
       "SrJTaXpnuINNBPk12Tydd2/Kci7sR8jit1dm3hadhajL2clBhjRUDZZU6tUTjGLroqnfPDBKfN8h\n",
       "/rQJ4xCsOZ86t+n6/STfpafgbwytWi2sSsXuwpy7FkSn/F8oDUuPFLPi51NiT5ApTzf73QEnQceT\n",
       "vkRFUqkvgYXZqFZrP9dJVf9nKGO2KdtBGzk1qjDpqyrwTFUzwsfaRjoSU+saL0AGUXiDsIsgAegC\n",
       "ayW9fsR1P0XMXmq8YoLQYRu5eVW4yenbT+PQI03CAZo4YM/8cqhaUWG6NM9wdTtegakNKh/PmGvM\n",
       "ucLNBeH/oFNBYFgxfxdBKQ6Nw9Hy5nDI/6EVy/2dEY9P54sBzoCTjxu3qiH0bfDD6TjPPG/VnKgf\n",
       "0xl2FoKyIatQ+TxvkWVoT/gdChpYz2V5wggaSQMwDsvJ8k9Yq/t1p4piwjU7X8/lkJ7XjX3OaYPG\n",
       "Mfw29JG2QCkDFOKC6ShgFBnUPS8l1WcviIJmTlCEZaaeRoI+85ou0oGwCknfcEj4jecilEqtK3DU\n",
       "+Gs9kaDIAFh0J+TO224YM9WzpueKwPn2/oD47aSD3e5bwPtaF4SGRmFSEcKwbwEcNJa2r3MXWG1o\n",
       "QRsfCqeDPhpyKIatQaa9LBblHHJVlDCQRuMgQNTPhAXeUp0NBKK4lqM1/No2IFJI8JbBjP3Z9KZ6\n",
       "X39rMBaNmwq9MN+4Jmhpb2oAu7/cJMzmRkUYyTyhxy7mFc3DvBD9p/9PiaM4KBCzpaUCWi1cYDFN\n",
       "OBWWLIvpZWlaOWzSxJYUqzqeZkRVlBGAZGZ8RfEnNuCF34oTqJrKvXgCCMGvNhkSF/vdWPSiLbjl\n",
       "BhT42leg2itqhD6iFVWNiJcqpInK7KSDks5FZtx5Ca6OZa76xmKD4usqKpMGEyZpoSTAPDsjv/Ec\n",
       "VUJZcfOhQM5v7/VQIwYyZPcn0MzAqnjPRDFtRrXP1R+usHmZL9S45BkYfMrla7JM2Qv8rH7DJXcL\n",
       "uKDDfVUJK6FV/osXtkZH0oRcOQ+1bEOoRZqsjpyS0otpf9vWJuGoMshyZ366+iZg7Qs1G3T46qqJ\n",
       "uAzCgio/EwcBjkm23w4uHaiIkU37rWzNRYEZXNCXRo86cIXQDtmTQ0ZbTdEclp5honEMbjuq7gdQ\n",
       "hW3IZ06ijKvu5YdkZAF6hSTxvPC/4F1guv/UzsfF4AkShaCq9sXIAqBC+jfLRJWYgniX1Tua+Zyn\n",
       "7ZNywgZ0V03wIl9a/7CIRv75vYYG4WUq+ljKD/CYK3AUxl2LaQm4QwRtikmh/MxPCgZCiWSl0sYf\n",
       "XVd5J2vkPSj3Qfd7H8AFR7YUwccJMNLT4sabjf/qYO5wLqQ8KVCjNXVwe+Af4Cy2BzAl7AzJ8g+X\n",
       "WsICLRSPMuefU9cWktd/Tzf5D3tS9rb0CvecS82DAmPceoZ4hZ4i95OBmu631tRy5/rdAUZ7cAn5\n",
       "9UU3YsSh+SciZQQltHZiLgLzaCnObgrZszX8IAFuB5rLnQAfydrVg4qu1DDsIdk0WegJxBhjokUW\n",
       "uNYGwVsF2I1uN7QHg/+paw8TEuOK7XOSLw20nk6McZvhK4wRnW8z+ryXHSKXL1EX2W6ZRz6dEJ3s\n",
       "I5nJKs7i5VayD4z1cQatIZLEH5spCQu2NQWHLBUVt4FQg0mkcVp+apfk/0EeuB6aDLlNfhtf5snl\n",
       "vjdX0+YEtCsiO95N//OyrQRa/RzYwpYbisS3s6XDa053fQgpjcRmKjwIZqHViWBEnOZbM6AGYPrC\n",
       "GB7IYMxTcKRSZ9C4qvxBRj4/z/uheknean/pmfQad3zPI3JSytuKp59i8LvOw+fFsWCxFjyNJMUY\n",
       "zfYGFJnIaPWq/UYHJ8pz4EXoRF7QMoCOfMU/JcJTWSfLEavixO8SaoTyK52cn0UtOaQsazZSOhJi\n",
       "7++6SHyYBxhcnat8aRllAxbyHLKL4eEAGe5JyDwMtju3AzCnRenrgyi1ISfxYAqZO4emZd2dkFo6\n",
       "1UcwYUsSlAHtFf1v7vvkXxvkDqKKeKWH2SAY7kO5lamS8uFTtfcireFRAqlmjh8kB+ijUBFlk3J5\n",
       "Md4XyjebNkJ7sg3N1uKe01fgugsMWXncnY/1HyZMkjDVzD+aNQFOLVqaElg4bJzaq0VSmFfNZEFf\n",
       "lNFZ396iY6G5FBA1jMuLoc/1F1v7pbWkY0sHUJmRcZt7nWiEmz38W2sZCbsyrkcvf9seMoAmvidf\n",
       "BPEPItkQogK6tubI1yQ8jaIjrdulEhe/Kq7tQgJ0elUJWt5v0pJ7rU/bADeeUeD/uzmB8+uswEm9\n",
       "A7pT9p4mIhrQ/o0Dym9h4x1SlQywfKEAAAHSQZ+3RREsN/8AAIbje7mK9k8B2ysUXmj6tlve6hP5\n",
       "N/EBy5Nk3km514Rl8Uaigvdrntjbd0edtyQYsFLhYgalhsTF5JUSL75I7OuOfll0+QyibTbqFoqE\n",
       "/gA4IMmmUGkkHOYVYtTWg0L578fXNS15UEMWLWgs2iLtzF+gPgw3jeGmNauuzBumbcs1d5AFC1AD\n",
       "N1CInYlHW8b29Do69SQaAZfG1a+aHqIUSI0FfofG05PmpDHomnrFUU9xm/vulK9yDFwWk3AMk6lA\n",
       "jz4vsfCNKGH2HuRGszl/A/e3+mSRXeerQY09ig8P/BGc7lrh4rTa6O709gq8bI3DHtTs1zH0zTCp\n",
       "QRydrOyTcggllzk1otHaBPQj2p/5dwOcchtBvqWq/XiuZFGEbUmLHkXA0BF39V/99VatEQTliKbv\n",
       "kXGM16uVvxkDD+deYxocgaKCfQe4h6y16/qM853RwibOUrr+cwObPOWkIibOdOQJ3j8UcfoaDx74\n",
       "ZDO3izxTxQnxq6o8pXbxMawy+ouXoluwzLAQXQtBp/KXIxAB3fHP+o1UPgHIY3LDu9xCFFwJMQD1\n",
       "ewWrslYfpj2yW9N37buG/Jrp/JZE9Lvu7akaAAtxcU8UVTmT3QAAASIBn9hqQ38AAIbXsIVrM6AD\n",
       "tP+M2qVszFb+l5QrKNqKFSEs6Dn9q+CF6zv7RKc7NneQz/7tZynyFJXwPfi6pPbdTmBMbXyDjNMc\n",
       "aEzH139bzh/uM3ofZpwVIJuWozLGqGqzyvGD0gp8dC8pF9No4kW+PSmftq7pE2ey5iL9TKPILIXJ\n",
       "x8ortt55/is0/7dnzSMlk7M337Ec82q0bjriz+640vdblGPT/nBqYSZFhTADAFfrn7UO1ibQUSIC\n",
       "EYCMsCf0/x0ZvsFWXnLeif2obRJYqbC5WB3ps4MA5/ugmWrSlGuCUBdTwJvsjUrX82TBHgoiNgM2\n",
       "KJjJWkgdtDHWcn3ckfDUSo5JZIagd48j+w5txLNhS4slmMf4wAmBjlkxXwBUwAAABxlBm9tJqEFs\n",
       "mUwUTBD//qpVAADunkgAJ5uVwoHCXbaDDBqQeefK6z6hSGTl9lOKAOPCZ+MKXXsVZ/Vi1SjIyUNn\n",
       "K+U8WGpdxPeeeH6D3J8BkZaLyUcH+EAjsgBt535ztaI4C9atQPaXAknnM25ffm985/ixZBUJe7T5\n",
       "VcL7iLDU39cNGBpSIuUImKXfsE2l3zzOXodlDLtEliXJ9ENA8vU5ZmbrlxxYEB+GgqMFLp+IETTH\n",
       "nAYijhdvA8yoHBMcqGrCiRegEvDUTx2VHi7AfPa3gICU7ClXzTd2KQIt2KycPgayAP99qeFT5vOX\n",
       "elvpvM3TlKC1Wf7DC6vx/drPAvBeoWxzt5qxK2anSXBfkjTm/Cz5TdVtx3BF2P8JDZuuSZTDCEpO\n",
       "JR555s3NK6wqcpLJ/iWjVAY+Q0iZGI4sz51kC9lfLRo1s/4yk1tM7NiQhX+FHGc8u0fhuHZZ1req\n",
       "Tl94JtcXHW/zo7d6upi1v5YEQqpEvBCPmHZaeA/o2VHJfLBA8EWgRJlIV0iI334YVDxh/sPjPuve\n",
       "nFX3jVB7cfspRGK3He27zn/jzPHMsQ4dHA338ERp01MjmH23J7Fs4kaZPj3KVQKHlLoM4zJ89ts1\n",
       "H8Ux/tW8vtaV3pioRth0WVYtoh7oGNHaiYcagQWzzQWbmULA4GLBYUUYitH8RgSQtHsxLQsMTqOC\n",
       "ZJ7S2lNJS5P/aAM+KWIBf+JwRs6tf14FAPJIjKZ30k9dY9S4qFopPQrMv6v0Hy4rmcZ+Tog+UekF\n",
       "4oo2Nfl+QFmbrHXE98T3jP5Yn/C4vO7uyKuMebvtlTeGSbwsw27AT1sLZb/0EGVJi3TMNfApaDY6\n",
       "S0LB8KI9VOrL/fVbuMk3NdDQMzZsUih5Ggg3vI7pGxfqhMiIjcPu+RR6mxC2MojZ8in/BPguyPQd\n",
       "0a2BL/VzAYSrtHHFTbYeAKAyhMNGmeC3jbeayxkgyEhuc/4YwqEAKhT7nfaS52QgbYSd5LdaSw54\n",
       "WC9PRZLXCBt2drE9uEof/cSKg5O4ob9BoOTmyV9ddciYm97/2B8dx/V3vdutW+UGccrCSfFIvEkZ\n",
       "e8Zl+a0o+bQfJsjvAR6aw37qnqeYoQSTnnK6Z/fK9zX0b3bwqXX87HDmFDa8c8Ghf9XhyfRoH1ak\n",
       "QVNxQE+kiXcAXCe6wlGKFoaIaGLKVkOxg8ikU/xMZf/xEsH2wsmCsDbsFIwQKrfhLp4VwXKs2GXl\n",
       "3icUU1k2pPHOWojREVWV4q1kW+kP09KN0CDuEnMhhwv9aE7PgoRNWhAF1KV/QITV/7zXtt7kqq3e\n",
       "HIHikN7vvSPYAU4v7AgC1m5N+oimkbcL0LOZt55nN1m/tUgbwo1r9kQyUEXB1VsVbthgxyPDetrQ\n",
       "lHIHwWNVr0irJUs0xDGsHD9+jbeGgKiH7zfSnkMaU/Oqz38ouDdpbrCjlQIkxt4xHUe3wkByQxI3\n",
       "uAVnNUjjN0HvwawWiVSyAOi8wGxfPiX9uC/PkfNOCWh5mLxtA4J5qKcKEsbvcfhMLmQiW/gYMs+7\n",
       "b367W4b59QA6mYSieX7sx3TtaOn2n/UiizXSwbC+fepSP0ftmISA1tzkxJPtomw92mklIWu2eS49\n",
       "LQRUUt/mENAtu9VRb0Nu8edpNFDe1ua6xpKilqqTSRtyEoU21c18gzOCPaXjHQuH+CFM5ocIha6T\n",
       "z1C9ry9FT5kTtG3HTAmr4dk1YGYkq4mMgigpzNOKXDzSCVNq5AmhVUTOSyEOY12JVOiyjiTuC+DV\n",
       "admUrVYCMpB5Cwll+SmRpw/r1EBzkRlwqL+Pht1q049LuCFTZfOlTQ/34vl0clDr/Cr8x1YYbZUb\n",
       "SpqUboDoUZ/amLiK+2YLMpjhsqNZTrKdQL0g0I8MrzN+jUidBBuJcFM/2FtrXlDBjNZLz/Ozv1oh\n",
       "yog95Sr2Ntpv07W5S3O71ClTiHSIXdyACy/7A+cM/3eCfK1TrryaqQQYADt5rD3AZum/tTMvg2os\n",
       "B3DWSf/khAf4RsM3xHUWC5dGMahDhsvrr6PbAc9FuDvNYF9dhlgq/YTy/6/dYuk7YU2kS277DMAM\n",
       "/KR3zeH2RGMnZql6srkcYeUxA1f0uIOrwR1Kx0SF6NEdk1hNEeDBsWzVcKPEZjWXeETXJKiss/kV\n",
       "bjO8CAA+6rq7NRs/rmbzkfZEQ4f5nAuipwolE+8kV0xriKlICg+yGNAxMGnqYHSDPoxmCGWkoIXG\n",
       "MBbXxxPpeba4hGf9YYJxQEwg8cYRE7aAxV4MowngsBxxX35dJQOGcOvICwlEMHfHP0y1XDmdFm6m\n",
       "EsyDxhw8OjsRcAwzKO+O8Ur32yv09mtvWKCivjwg8IMtQJ5ejLP0PP4kAmRamajn5/QIG8UlOo4i\n",
       "fmUTuYJY6W7sBYXinmETxqh47KR7j4kFXoILBONq44b9CQGrLIA5AABxwQAAAVgBn/pqQ38AAIbk\n",
       "ZE9gN4hnq0rdOzRHfUBkmF0lwQNX81iWdbFa+UFtoV2lBIAZhFM3VCZa96XqJ0SQwXP/8W0tWyMP\n",
       "KWbTDjFYdx5CJ80aYJ/TcEhmzCAKYmjST9ITVWa6xMZ2Zwc8IoihIN+JXUNfidAYXXwSeNV2mDKa\n",
       "zvOd9YMnTpSuU++MXQefDZFKYIW1LAadKuVr5lPZOPRyQpHrqkmUQiD42Z6a11ezBVOGOFkhuzgK\n",
       "asb6aXg/mdrXJbvROl5+HqOV+hThq5l9uo8SyQhiaDiDuBUudgZUZ84oSf4CYs6FTiqKbptC1/ac\n",
       "Vo9+k4qEym4uZySm42DLpa/zWtdobEz+3kIxT4LTae60OX0QuORDe4BTFiAm7ePYFD1L2y4KKQkP\n",
       "ELvTo5HqW6wTnnOryKf2A44YleKoxxz80SzgmLBydtLTwqK9JBJ9bw62fvlLzB0A/wAAEB5Bm/9J\n",
       "4QpSZTAh//6plgAaDTEvr4rVKgBsbDbkAFdrmko2/2Ia87kmlUyLkSSuVJW8zhwsyK1Rg7xW0kif\n",
       "Y82hPhHK2ludKGNHwCc+S/QgLoIsDDA3S7ZXZMSkZWeTqluKNcNAgYrIjkZ9qlS1uzPugB7w2ilc\n",
       "IDRjNYPwYkrVtm96A0SLHdZTtipF1DmbF9T21DCAiYZ1cvLhAfkiKEhhlvfgbYM9/romSv7Kut5K\n",
       "LrXg8lfMYUm9u5cEQElwg5BH4EBgnR+LU+X9+xI4yMRX453l1ngHYYD4H1vDBuEjoktASfh+fJO8\n",
       "OHKFNuf6i4lR9r2/1SC4HpBDTIS/Ej6mSv2ziZxxZ4Uo9cBPO+Lv8hTGa3M3uPCdREv0OQ+rrG7L\n",
       "i8jPjFkg8xnIniQM8IQGIiqfd+qzVS/A5tTEwEKMoZNmucMLMbCGqhDkEzvhU3VmtAlasMM1pLLr\n",
       "Fy4Hc05ZSqRPicZzr5gIzV0rWqitRTVc7Uh8cSnXZ2IriHN0eajkNgntmJAwUpmCzAADKCbuiGDk\n",
       "xSqCc6FYtGfDkLwnQO1JEkBhUbF+uk9Po0JYH3CiCiGZ5U1RbQUa4TjHtWvLCG38n1pye/vKX3Nt\n",
       "bHsMOZ7hQjax0/byqu61P7xN4KIjCCE5XWjacq8CTQGnLVstk/5MyLBvT9bfL3wJ3Kgm/4X2phCN\n",
       "+nO/xuSryewf2u5ijh6JyTOd0aIy0IEZjjCjaUPq8o23wtvGmSMhBeHnedSyrLUC7KPNbqReePCV\n",
       "QCiCZiIg8yqURqdaHURv+UoiWnq+7dC28whCDTOPbLizzTAeO09uQW7UXpSajyPjemZoyymj/CR/\n",
       "3aNKQOgEtakOcmOR8S41l4Aqeng/9bxg8sEjZ/5++IvNC58MtElj3dKyUEg1kDOuiAi+8GG3Z+Z+\n",
       "Gzd+jKuzKgq7DwViP7+CUtQTJK9Rel6yk5I56zOIZhwly4RI2WNoqU9u8/0gWmn4trpgI08ZHdmL\n",
       "OXZbmPAYkqFB041M0zxuAy5Vr7/b8RY6NvcjbFLH2LwjfPHhjvengI/aJnlhesO1afyQOHTb+yDs\n",
       "KwKqwSx85lN7Qgj9eJy6i50FLb0+Z0OFP3TcdTth878Ppe8XC5JjajT80nwFuuUJc085bEwkygMr\n",
       "sBGU2gwgBgavA1XQqO+ImDbH3zB13JvDJpwIxQCTonHK3BhLITTb3XknUrJ2rxW4UGwb2CvPdqZK\n",
       "hw9ruKy0Rme8Rh6FIwOJBdLk4cuRGdxtRsuoiqhLE5wgp5GV02Q4TZWmoKWyMyMwIoKCNGMW/9cJ\n",
       "7NC9WF9YLFvNbvgdjhtOdv4tSikehZgKguFUAFzgN/XkuKVhc5LurZOkd6DgHCLKnO4UpClRfdM4\n",
       "wG1UMZPOFs8KCNVGpg6WnpavreT3SZ92/5ARoFIitA99PI6fk+XO1j5xYX/mMFALtkK+ynLgKx12\n",
       "ipPjBp4a/8Zk+zYZ9N7fTvk9h3/cKcVMF9hJbayhmyzUDkhQp4IE5x6oeevowPDTkndskpHprWIT\n",
       "FMjfAAwk/Q1cSXF8EZoYd3Coz7Syr1ZlaSzxiBPW4XYFaMDOLDmJHQiHgQr2m75Clsb6qC5rTb7x\n",
       "Bbp6O5pnsSi2aKDlLEPtCnuKi9EY59UePGTVyxaEAxrzkteo9JJleQmNUNPxmwxBDJkSSUOxo7lk\n",
       "IEUzw9ofVvOEiFY8isPxNf9CWe+k7JKbCpChNRBkU/cwpP+3mkVaMPZztjsHj8Uglrqdwc0r2ia1\n",
       "vWxt+IslkFHh874HBIOuDBR/O849FVwTLcUeivlvYjNlGdbewegrb97e6DJB4YlNNEOmUeT97pPp\n",
       "5PoVjy3Um5xaAwn0WVMW5vJiHptMevdTc3iszOHngrHoJr7kAX2dokLXKxiT+Jo7GZIZbpY5Cqgb\n",
       "qcachiamRRjXdDQ1TMBSIiTSF2tVEgTYYBFf6+SXtM8aiYAl5jIUbg1mKxcKrQdR55KC46iEZtDX\n",
       "Ap0NtSJsci1GglHk4g0qtdpHLY5XF80SUT+8DNdXN8Ir0qHxPPGOL9oaABPsCKLs8GfiQ5Kg5kFC\n",
       "VNCzHH19Cmi9AERYpI02F41Dj3kRdQ2WGSH4+rjITeF9W0DbcaxnsibYCKuyaUlMcIK3OPrT9aKz\n",
       "wkAFn7/JU/9VAyZLZAh2CI8Z+00b9zBrPf6qCaekPp9XG8b9bdN/aCdgw2isTVf9dqvyPwFx+9+C\n",
       "5Zl+SwrA0b3jwETOrunf6UnpIawfjsFCy0TENHhhspef7+q/5ljHXbilEzuLUfGeWaBwnM36nBm6\n",
       "v8QAmCl+WMRm+ZS7hjZMjfoblaVWGhtey7upC71TUWUvNLHtk0TyKHAa41i5CgKoRjBGFAsGtLP3\n",
       "ngCT9QZSHgAFj9wFFcAvWxaapiMW+CaIy3zYu9Vcovnu9S5xB5v6XoOeNg2jfuyTQpFAFO6f5ttr\n",
       "2+Z3PKBe6YLlyia9XIeut69jduOhFilUDotY20D/QnUSEoRnaC2PpizKAYZ6K5fljwPS+bLCtXc9\n",
       "zN/L5TiucqNV7y3gm3Dl4rCwYmyiKV/1yNwq4MT7iSHnEaysDldJnRrdpoPy1BA1htwcFuB8znAG\n",
       "HBLfHZ+F6FU4qgkM82cAmY2KUmbiAs3yQoL5FYNApH61jGCN7E4pUbhD8Zkx73eEQSmQ9MMHXq8C\n",
       "uhscspHFW0zvwYv2kj+OTh5K9aji3u+mGEmEWMXCPT6HUOu3rFHejJfm1LkDYTuF1LatI5OWqXss\n",
       "t9S2V1xjThvYy7Cki5vgS8yPQDUNKf/bCrfJ7FpFCY/3dUFJAELNMnAW5wL9ZXfW3fRn1CU3U9CS\n",
       "QgPXch1kLSrRPitk5ceqs11hPnCAyAkjJTrZv9znD9jOrA2gBZnrJgnbvHlBQcBpqXLC3TPsumBV\n",
       "p1VptWtyYzG2yuAir8XE0G9Jt267DkkGHE709FiW+stu2yQ8FcML/EshYjoprh1nTKt9UIPar2U6\n",
       "2gc2OLLjvXnDKPcXQaRUj6fQ0VtyySbQ3VtXlEYkJ3zMlJKrT2DF8Wtgaxw8sS+D+VaID5od6em5\n",
       "Gj604sncL5uLcPcW8nVDbhJ/vS4IWHHKyM631yLDbVhxAnQ6a8QsnIh8vnTDLoORD40ourw8QdOq\n",
       "tSgPCvdNUUhWblJScIESEtTekiELi2VbPbf8DmP3JfPxWmrV6siV1yRpzGLSUbAN2POzNLExOVF7\n",
       "jlyPL+NhFJjyIH14HZNf//iM45UMNJphPnpVx9V+f0x3BTWxMJmV1YpgBw7SbEipexN15xAgJ0ZQ\n",
       "g74CjYqP+iZ5DMWq+jH34NLmkaiP/SQXokti9sz75VRnOOHW0a8r4I+aERKPx5lBNhPZNJSN9K3c\n",
       "DVeMnxdd+pN7C61d83OvPAU8L7lkG6+S4o8PmRVpbOXTlVx2uMeafVTsWYUN7OpCHoJzUNu8CtYH\n",
       "WFfndCcK4MW3bEk26/Hh257p9Ir9e3PdZ6iFrJpHjhOS4HHKEgPzj+GJJRjuKDGHMDHZ+cWqkfzH\n",
       "kbQ3Rjbp+l9Cnphd29nJkmzPWN1cO2VwD3DrwXaCuUT23aNstpXjXfJ+m2GdRnWcrENU5H+A/8fE\n",
       "DVB4nISQ5iviR9zzB4naWrOuzZxXhucKZUQBDKZM09LGJl9O+z+nj6C1dHCYoONvODWtpNUDGQjG\n",
       "ukBgQ+AJaqNp7l32sXijVnj/7HXYItDKREL85KJ8MDnO0nuffszoHVEAdLSIRHwwp9MkZgDIiXWd\n",
       "IbfTh+UhXYJ58SYXHqUmpb7JD8DdjxUOc3c9MHNMS6U1sFcgsnH/rGCtUTv6YiYloEQ939HtZ6Q8\n",
       "59Lo1a+8svl9euCr+uSHbFGhW/NB36tRiTfDpZOXW1f6izTVaotaTixWr61k6zjGFMfaT57ca0TP\n",
       "hPKRwsZR3fuleFkbDVWM+WeeEnx0Vb+AVkSxP9a9D0WRvAOd71WG0uZCpCcvcClwQ/YZqQS6FsLh\n",
       "Cn5xp1sq7L8k1Ce9JB53W7g9pjG6mPIbjUqAHhaZM8UR1oubDtpJssbow6EZ9oeK2brG8ZY4X4Vj\n",
       "XJzABfiKodFZFa9s7GZKljTrWNVMOn2iLEEbfq4OT43gqYk4De+7Ffa+zzwlFAdldVhTYIezgoeo\n",
       "9+EJlg7mReBvY863tXoMC3D2HKpYayRROEL8suyw5Dz1mLHItNraW/Au8r/HMB1mQ+azinz156w/\n",
       "/j24e2ZIksDKt7movl/zBMUcM0plq6zKkOoyPx3cxYxnfyy7KtUV9p2Rp/apqQayvCFiY9gejDS8\n",
       "pc+LBxGa3+2TJHTMLjjo1osKWQcPVDGlt3NsATbDdgxFGaHLVCFh6q9h4Rcd1nBpMdU2MRvZYVtH\n",
       "pz6UeziE1s/HciQHa7oGK8irpocpv/ifLbtPDEidyiY00vRDVPrI5xLVbeZ+CgZNEL+hOTIgz/ly\n",
       "33dV7Rf/WyzAuowt769yOrXTWwViUxsKcYdaRguHe545HizuDiz0pofYZDY7+pRGfIDeH1wYyWH5\n",
       "ST1eyOQQ5vWFt9l3mgyAtgjx9uTw0m+PAFBQ1XmsPKthdWrBhoPDfMHxOZwhHMjsGcOMzbUQNlZh\n",
       "tkt1cbUK+y7BYFAc2852+GvvN3oH+7JaXSX2OYkGHxIqis7rG3jRs3LH1OItA3Atj1AZzGXHPGQm\n",
       "xMYbjH8iUKeBhYrJclR/wXqiiqFYhWj3z0DveOyt3crh21eNwFICnMwLiPgi83taOymkUKiolujI\n",
       "ykrXdZ1tOxnjgpZXV4rd9KVoONA+p4RRhKbkcyG2spH5+NGjItQNMDoZ6UjI3xmeOffdiPGycrf3\n",
       "AehaV+ft99xScTudb1n7vpVN+6ntYUbuLAd/2c3VyabWg/BZtUvLKNVqYIDtHW566jFBZAiHA8K3\n",
       "Ai0ccmCfetI8jCpIldIFJJUogqEtlVFXdOFJMfhdysTXsX4I6A7yT+ZjYtDI4/wI5gLVoR/+Z0i/\n",
       "WducGNjMfPjUK4/tIZ78Uh1gFD435MIccQX/6xS9Tuv+0emDBGq5Z+k4YSClgQjZx4e0tvX/euHd\n",
       "IGmqG0gbPFIBF/zzsO26UOs7rnjuZums+IbAUItynA4na4qu8/VavAH2EjhtiH1QT9NLdBKTigkR\n",
       "LoHlA4spad/L55CoWXTy/fcn/8ks7up7OaSCiU2caDgc6fKyTUl5iiGypYdrBPuHyciY9XQij6jc\n",
       "JpH6qyUjL+gAqIupMb/MZSvZfcFVJtdbcIyZIrpQMHNRWKP4UyrLYFIVQyDc1aL1YmsXQ1OAPIr6\n",
       "gIMPILvY9jT5p8Vgr5sqhP621S7mdzi2LyFySylv2pY62cDwET8gYPInkIOqVsMwfCdxrD0PAFUZ\n",
       "V1wsvAFG5sAHLBUIHfKSeipmPtmRKCLd0bRAQCOBe6ewFdPmH8h9YEbJvroT+YaxtNpkc+potcdX\n",
       "e9HSpv83/b1f+lDpRjQUhD2FAY2R7kKuNN9d0a8EPSHBkH6qQtANC4GEgfJAWJArLMdG/gDc69de\n",
       "typ4hUp0lo5oWm711HPrKDSRAAABkEGeHUU0TDv/AAz4I/6djhBTgr1GSjueUevFAoTdZRK/xWzb\n",
       "JdARfnUCQtpotZI6Q4sa20TGDh0HduPCsL2mGl6jaEzrpp2VVnPwAtfG8Cq8S3pFjLNdhcm8MxBJ\n",
       "3Q9p84GuRjOKKkabdQNiptwv3/riUqOeCVe946zoJhaoDlB27Zmyl+J93dageYbTx/EAgCib+MRo\n",
       "Ka8I10bRr9giqVTQS+Z5esVIsRkzeRT2JOFtFaB9+T5vknrRjl3GWsdN+e2aVH9+MKFPwD//6hoO\n",
       "agPD9PylK+qMbL1qCMDqIaWRLIzDn2xmMJP+RoLPOT1jG2RedTFXhAzXHnFEVCSsSznNNNG0wMCo\n",
       "wl3uLgkjPxGiJqUQYiLmNcbfRjHd76gnld1wDMX//xX7scQ8aOzlqVCNejY+olU7tB+A7TC21vAc\n",
       "kZKH4pW+XX26fMUWmAx8EV0DD7GDgBmTo3YQH8IV4JfkM+aO3c1dBC64uTxEFF7KyGVAur/krt5i\n",
       "O/lyUkmKvK/u+fkzDkOVT+fK/SAAS/MAAAEfAZ48dEN/AACGvsiiyO3/gB9hJAwAD+ywTzATFjgt\n",
       "yGcCJYvpk34Cfi3XXrvJdcdNuii+ukUNwyjwIsJr1Bihe+uAJ8hd8tzFFMKRqth/Bfw6DHWygm9V\n",
       "gLW8RuYtjXCwFwErsmWrnD/8CTWD+VASJHrOVeVIJXhJZrh+ypsFFLORzOyIb29OSb2CrmvUvsti\n",
       "MgNvingMlb6T1aYnsRCnqw0SS8uqnZWX1yQx0t9d/OHcRWsj56VA7IRHgfb+efAcxX7iaca1B14V\n",
       "m2eQ8k31pzSHcG7LgDJZWIinbdiznD2TWjMKOMyFGQNW67nh5bj9pi2xFburubn6yXtSZ4EEZhgu\n",
       "1pjO6LGa8kAtmEGSQo8TNjAztAuBhDzwTCsROOAAAAENAZ4+akN/ACokbAAIJ/sYzzdV16nYOj0r\n",
       "hZ1byuluObEiK+4OChm//33bqAOujJ/dRmafqfJu0X8gQkZhi/l3ThLjpPyvTBDn2zS42twyrJ5B\n",
       "GDWppgs/6mepkiGXsdBitzTCwqOYnPbl39062IoCXbLZz2O3IQm7HloJ6cbB0FBgFOsV1VtMcz0n\n",
       "rc7mFxfTgECg/OQPI1Dg9qCUHRoy1PNQ5SV3aBuv1+g00EaNG8ZYdnXN0bEQayIuEz/nsDP0OxV0\n",
       "t0JqHzQlu7H4gHekH1bqkQFTzDkB1AVKy5sQOVkuW1cHto4LHBIRwRB+pFjNtMFe/07txGck8/dk\n",
       "2EgP9YoDK5lDH6hYqR+aBx8AAAadQZogSahBaJlMCHf//qmWABgI/wgYbYBkW0ODhYcWr61+wmqA\n",
       "o96Xz9n41WQOB2735p3nw1nizbs2rE7IVRGUUCWJWd9bk97oTgoSVm34iIisIYCEg0G5L+rJ/Esx\n",
       "eQObYP/y53qR9xk+d5pZjlkn9eFOArbtXuOIq1Ut1r2IjSLLLk2Je7cp80MblV7Mq/U3wihhqkMl\n",
       "EQwOMuco7IFh9nPQwgqFmTD6C9ApoXks8F0jliEdoElKilwQrNzFo1Iwt2ln/4RZvtH/diOrD6ja\n",
       "7RJU+qXbI/wF/SeK3FTYHPoEoaJO9q5FgAR/AXtoomMfFlsqxqIUJLdRYr7yphs1aSV9lNUqbnEG\n",
       "gOTN4E5NfUqXGVooVmFbBq4u51iUoPWsZAB2dCrodmzYu94yyAIzsFKgu1ssI8IHikabl2F4GaH8\n",
       "Do1DsMV80upe52+mvlDja0mbNp0l6sM0H90Mwp3h9CLYt4B4mE9WwDHZmplaUeBxfADzArTWCkyi\n",
       "O51sfaHCJSDUcwDCBTIwaRo/Xq87yyRoPzzJ8UDExQaZFk4FIzgnx2orioN4l+miwHOpfIJHfZ+X\n",
       "GFg2b8PgHGDRIfxfLmXE60rCTz/8X2h2dFs78vJI+HUWjYVoUmmogl/aMd5zyhrYpJbAO2t7RNTn\n",
       "aeLmHptNn4tOSwJic0l+1obLC/sxesjDU5JLA3G8adA+4NLj8d2zCNqRnRme8eCf4dMMHIiXgdLw\n",
       "6NL5Ml7OE5if4eIubwdOzVt9G9LtVBlUAER7+zExUXSjRM0H2esS0lm6kMV0UPE3utoqdhLAOfGn\n",
       "oaGD9slsxT1YnR4635oN5WxTYplbjoULKA/R/ETEjDeHP+O0GUVKdPby7jyCFebqNEZ6Yz5WlJLG\n",
       "iwne6tblsLQEQ/XUcqihwOWgRRVmd53bqITjhNr5FuhjSOGqN/xt0b+H3pJc4s88U80OGDo0cpGb\n",
       "T+6qpzgHb51+NfyRGm3BzDFvH1cYjmXO64w56OylhcxjJhZxU9X3l6lwxPCCnZdQfNdrzfHArhTQ\n",
       "D31ODEWL8YT9wI6vW1rECQvfe8xzVJyHDcuXIflj470YFnBNJO4q6AsYJjLqHVy8tqNPuRU2c1Gu\n",
       "6vnMbQgC6Td7w895YaWdRUd26voowoW51Sqw/Xg9cAMhXnSdSwsNA/m8M+m4bQF+iRpAREwwge8V\n",
       "L2p/pWvBHaZAurDBYT/QBiPiEinuQ0+5HlSvMRzYnltKL4NBMLmiW/Z1KYFIYiHBTLrZWcFf/9Jm\n",
       "pGqwll4nJtgzHK/ownjwFWcrhn3ErYecRgE0Q/8xwS3AKX6kS6L76KOI7eTZdvfVx9j6dtLvnVIG\n",
       "eHrDovw6U6WsKe5xlAcZRcFy4vRHJnf0aIObDQ86tyOChj+fp5opFQ/3XSdcGR0RS3gZG0dcI8V4\n",
       "cMKJEcfWSn2bx7HyfezZJXC9/E1z9XzqgcuM43ArWvwT2dVd3aly+kyyYj1DO7ym/ynle1h3Lxke\n",
       "FM8zcBgAIDrNRYPCIdrdMmzVYhDQH1YRld5Bs5BEVgFbMVVoaah79/COia+5VcJlUl8OIkPpR3AF\n",
       "srm27obdjSjhEVriJfucHrct0uEX7TDWaQ0eKJGXW+IQMWDdOEQVKwgJEFdzxuHg8p6fnx/FUyIe\n",
       "DEY48aaDZe4sJxOyf0HU9YvSN5nTVj7/7XBdFk4NfA38bm2FUIFc518uZurlUm3YP5HIisf829SP\n",
       "GwWdevDUgT+IP1ocNru004Iq5uYSB+JYtkoSg51SVVoCLpi+rn5uvZeWoIoWA3T6Q0/05YKZVRmK\n",
       "lGc0xC3aUCgLKHEZMpMMxEf/GaT1I9PR2XdlOWboLYaUDfQvWtd+jhylOFx8AYXa0YVikX+bKSMI\n",
       "aIwFaFgTkoHwtKD/m9aAGKTNNaWTJkrpiWRmRSqkpQlwouqixvKKBFBOm8XAK/hIQxfEg5aUfVKi\n",
       "LKLXfCNoYDWOjCz1G3aLudeNUvpEISFRrP2YUdERb3Hl5juqtt1MeT0vFDa3jZ2B8lMTgeMf6vkQ\n",
       "ypHROAAOaBc8iOGSZcic6H6TCeg4Nk4iG4cvKb/VO7Z8u0J3aH6Q2JOQ+RYw6z7jUBVXwolH3fGO\n",
       "OxzJSAgdzJV1CGl49xhKXctDbbEwpT2SbPxzaqAE/28yWMAy6aVhzmCmDonqFIHhaabMYc5uFoAL\n",
       "maZGOrFu81yt5ucb1VoQpWPj1w1gIjzjmDIWNcnABsqD0Bh/o8QOph/Qjvn1swZupcmIXRfvZpGr\n",
       "Rtfh8wAACuBBmkRJ4QpSZTAh3/6plgAb67n5N+7Y5QGZlsTyHrF5B6+p/fHvqhHu+E3jPZWeXSr8\n",
       "q9vH844W/R1a30Eov3eVEq3LgctsRAIwF88YSf6qLIOgJuHL/zDbaitRVwbR1H0zMn4KjF2ZgnrK\n",
       "1kU60YJKte9umIhsEFlxKt5pUbXOfB5esOiojLTlYNnlw44X9YRjpOfpeNykyg2ayb8IRZIF1mJz\n",
       "Une7PQVC4dfAcSnpE4qGyuWQmA973iELoiislxrxUXSs1aLBcTqxuA/4ZWaRHSHjMmirlpsHqVri\n",
       "EHKKoOp31n5v1hXEBR/caWn1mcD48Pnz5x3AWuLWndoFZlJUFJdLmjlD4lYibHBfsLaebXuGZwEZ\n",
       "+4kg8N/Nc3gMefff8PwHuaqFYwf/4m1QPxEVZzJpm8aYDUrsCm8B9pIRSBWTXFo15jQfHVbQQdu2\n",
       "ratUyu2dKGR3N3DYFggtUtp6udj48Le5lUUQ1k0uKdybdii95S3rHiwrG+5XefI3Ougy8gN5crTs\n",
       "fA3k0bJ8kg6nG/FvOE7J+7X6GYtrhZyvFan14XcEfWLF6m+cZC4iFaYnU1NYBBaW67JLFf5RI5EV\n",
       "PES3PuuFvk7peqsB1mAYLt/P/g6lWiLzz5ILLBp6PEWbuCRZXuQR8gUJiT7LsfvrA5FMoTDo66IY\n",
       "b409Z2taYXpp2O8DH6TLAaAPrY6r0OpKnMKK1DbXcZvGboikaHgUcqZiWOXhpYGp1guwchQ7I2ut\n",
       "iz3///OWVRoIg/+57fal8kYSskqG0V/65cl2RnIN0JQvMFSIrT0EfdL3GNdV+qntCoMNHTDIjTmb\n",
       "z/z3WkTHq+3gOzfksLAu2C5w5rOvnyl5+/z1/6i3I5C1Ll8BWK3UJAHpp0DgYFYJeOcAIxW3Rsna\n",
       "cRtbd36oy15NYimTBoOTHQ65V6wkdI33Fz2z8v86ZAI7weYHgR4CcO8/6AMSdTgVdloo8G0sH2d/\n",
       "IHyzzGndcLcCcBRzwVoFoDh/9+m96mDeity25BvDgJOam/ATeOQwDgWbkjlLKk0KQAypN+aGHCKz\n",
       "3YJK5jKppKfgCy7kLVDRuep0YmH2e7TPz/023qOStcIqoMa5NRZbnq1OYqdu+7nPzy9MMB7ZADQn\n",
       "FK2r77qoZxrODoCI0DReqUNFjpHBQRD+ZZ3FXffOyFFgea9P95g83bTL2uMbDItdp06NtHMzTHE0\n",
       "qQDBKluCLt1nbKspUX3CUttM612+LvOVxe5CASTh1VEfsrrISDr+4SfhFMGnutbovi77nr2sJy2D\n",
       "Jj9HcqWo+oA57LgEA+seKeDSg/JZL7N1ODXRFpwel+ETeNavma9xZFmzO2MoK2Huf0dJ7nucmkpL\n",
       "VEtvT1CzhwevjRowi6f6EEgUb3eh2wgIP/1Cd0yZ8zYufl2AcNkzBz0RX5OA5HOcAtoqxGrftYZq\n",
       "9Q1ELmxEV2U9Iq84XxTXE21gJqDGdw5YJjPcnQPr1wi5cJMf7nPoQaVkoRZNeZf7a93ivmvg7E3u\n",
       "4HOvpGyWLp33bhajjDpXnp4qZsNypTm4sy6JmbMXs+4IgmYO+4fwooqun2wn8l2vbt7Bp91S16AJ\n",
       "dVMzKTZ4Dpbx0EqkUzHAMtkPsX01b80lUCCnIEng6xGrVp40MSPh9kN/6c9QKZYLt6caQ4FDKZvE\n",
       "Rp8vZEMtcH+Ze5gNd3pS6oGE65iLwDGfsY1OZTwqyqADysr2+dUhSOh7lh/8O0v7KHclWOdj4WFm\n",
       "qa/DmEa14bo48Q86dk33jQPrRi/QNENqsxS9fqNqLJrTUfhE5pipB2iSGnDvRNaIUXu/RRN+/tyo\n",
       "3QENfKuRgpuOT2dNSZZxY1KbzneY+UIwYdckRXK//68r8sbuQNNFpWnkrfdMeQuzvIQugVqd5ifX\n",
       "x9s2fCEGgT3ViUK3DfvWtBkErmNSzZJ+QZSQe718eP8rufyGJX/NRsumwQV1nzqVRb0gtMNRsmu5\n",
       "ddzdINYG4pEKq0lx3ui5Q3BUuLONM9NH2uy01bZzB4NmAV+KtbcoZJ4RMhcBEeQuFfeqbCso0tpt\n",
       "CUCjbFQZpn3wI1GZtTEUu8xK/Q9n86c+20Cw64NMvyv5aqmHlF5RwCf0mNhNv72wxazHBiVwJYta\n",
       "94hDJ4wq6RkqJwmYtPbdWreEeK7Hqfs3wAyJaVijy+oMwO4Bbfq3WVNhstk2kLUMyFEPAP1DT1VA\n",
       "Wv//m0+5T46AHrn4u3eknKVTn/eCo7ZLjdsZfoH990vLCPD35POd7r+0dC53+D4TQW1X4MCUvpUJ\n",
       "A1FwM3ZyO6C4OdxAcAbm0uCKy/P/w92ZZAJxJDcnE9YP+J9S8Plw1y5RMFCy2x5cf6DbYUnquMgy\n",
       "6WJhcVxlHbHBJwt9HEMd19DhwszwFmQLm85Ae4PA1VcCQNBByAzIi21EzFoAExL+Jg9OwnpcVzzo\n",
       "VjT0gtsr6i4cps9z8t1ePnAWDRmScCYkyeeQ15LriQEUufy1+tTlP2jkre6FlidSEs3yEoag6IYk\n",
       "c6uddORyM0nPCJ2tuI10fI4aes5LWDm2CXlZZcCAUBi3gHAjNKQmImZMnELx4kC7byuveJC+Xx5u\n",
       "gvnBmAwLEJ1IkXjpENnI7VqfFdD6rXQ2Pay0HtQITRWHSN4lwzgXg+tulFG0+u8xzU3KxRyU9TZ3\n",
       "8WydkL22yHaDWr0Z30dI8mVG0FCTYkfc1ExN/89ExDfNB9LpfvF0JfbEHtHQqqD7JKGIMhKiPwfl\n",
       "HgZ9SXPEUSr7KR5Tk1IPb/uh4T0Ydu0mxSehID4e329COADFxN9IOVOMMwUZUlPTG0gOslFy4AS5\n",
       "T9bOCu8vsn1636PlWU+oOqjGIYwcpXsAZbOOwXAaj2iuc9uxvTQTiowR1bGm/utO3xlwEgYDd21k\n",
       "NOjRA37RRH86WKRY0cepKEPTWVgEQsifd+piwS5j9++aEzm3z4HscvsJm8pV+QianIQ0jc9BObp2\n",
       "+O1Wsj70kqhiAY1RYj1HqwbvT35Rm3GcMHjORBBN9uSI/cegfyl93HkCbW/yUlTxaFrX0pxWL2mR\n",
       "uMRnvQQ7pXiHhTn2GtE1+x8bCmBeEXJw6ewZyKVSHDzNlK08jJanILmyvMcC2xgqbWqztlWfrHsd\n",
       "sILpx2i97UGgbA6JB8hTAkQcs/2tKlf8+SiKqojriGNmYx62Uiiv5EJjt/HrQPr84DHZsUYhq7WT\n",
       "YGA2D4Z6mgJUZAiy69tbVGLrCtRaZ/hiagRko0N36AuJGwyeFCNmnme36Vo4sUwVvNtACfn/Oj5+\n",
       "mXhCmVEKHh+xTAp79UitGrt98VSnIkITFksOv5aywO/YxZMGmYU9k6S5nKFuZfwQ6XPudh1zFlqf\n",
       "52ufRJDEbRc4YF7XJSo6oeAeOGZO6FPJw2zB8OPul9AnH7vWZOZCIPACmyWszEULsL5t0fPMA6XW\n",
       "SCU6RBRNzKM39DEsDx3EmgyaEgQFaEl6UcXeHAaCeS94aEHziKIEW1ER3i9LSXYFXwyk/osfvk35\n",
       "PFNNS8QiTYe5QE68c8ZnKtjdpvM36p44bVVtwS/sqWiZXz/lCHT4g2Re8DRr7OQMuQjW4TnsLxSS\n",
       "NnYRetqkrQc2JO9SW4CzLmujx6TxaumhJHfZ7hYl37c74UxBGVASGQ9Y/QJZFAr4QnKgxNrjsjRN\n",
       "npcGbv9K4I3PnigBkErC4TUhnCEf9fDVnlk8iSh9KYFp2OmqcU1dTNvV352r1fOn98rHj/DOZFQA\n",
       "AAFdQZ5iRTRMO/8ADebS2XgEF8D8HvtmbGtO2vnCQN6QwySppqAIGkS/E0q5I2scyLu+HEtEWxfq\n",
       "HMACTJHh5ACQKUGOEFcdq2fGF+k2nkARrkivNbAJWTI0L/v/DdgERRW3i8qTE7yFB6fA8VrQ+Mae\n",
       "LQS/fBVH4jheVznWyqeFJavmV6c749J4Fz2JooI/YbIAlI41s5vXZYmOHrpHQbSgPUIHVaTUb5zS\n",
       "cRRuLJYmxI2mu2ibzHFt0SeVyBe7ZNHTJvJSQNr9qP5SjcrrqipeSDFO9yS//t4R+U6mijWYvaGW\n",
       "VhYUL2hkXQh7y15PzRz4F263YkqAnPBYFMQHJis5b3Wmwxx4vrZH30enYwBt6nEpv7Oa4UVPTCst\n",
       "x8W1RaeFq3M/72b8yx71r/wZkr8v7WRs6xRahP2WkrWwD0kHJYt6f7gTweVT8GawC5vxJWNc8diH\n",
       "pdQKlX9wCcZzcQAAASQBnoF0Q38ALYkQAAfxqoEheHtQuUn6nYOj0rhZ1k4F45ZKVHal6jnJXQtm\n",
       "nkuDZ4GSu4uFzS2snxVHLebqeESIXv2dQpqv+OQ/gbjbDly8hQAmUJGm1X3yeVWby1wQJx5b2b3c\n",
       "8t/vokvMPCHz+ORgMiSlpg/3ut9GVhMRLwHdySglmdKOh1qE+dgOwZJg4YR5omPpON2U6xsUWAoL\n",
       "tQodp3qJPjZHDkVQn8QBU87p5qWCtjzRKyfpK+sbotFMWCgpg3qgJ9IbY3QbixpL5XWTlAR1HJyQ\n",
       "w2Q1a8FU4MG0fUEndQX4NbJPrvwqCSc+uAjQs7g+K+36htMqvCQbhuNlyhF3oMn5I02ylHAEf59B\n",
       "5+3rkvK/jKKT38q0BCoYczulHPSAAAABRAGeg2pDfwAAhtevta3d4ACtdf3pcMaNySZAaauatx2B\n",
       "KEPcMzk7LWuhX9ynSk/UUKTDI8GJvT6IXXVGZScHufo0KBMAy/fT+9cbop9yybjbwF/ilf7WDnCy\n",
       "r3OIEKTysu6N9yPtq+DjYC4d6MiBo/AqFXqHTu25gEdD6K5FAAXFIXLHdcLTAnKwVArHJGkdCRrR\n",
       "2cHRhgdszYvZkvc95f8C5K34BNTNaUFll3ETnCHAjmfAa/9sdOe28vekiLburC0wt9rItLIQywmf\n",
       "tnVZIKyKVr4yUM3ix4N/Ok8ydwykHfOXk2xk8deAMpHZJ8+AY8vyIM8OltgxRNpkSU7zoCORnmXC\n",
       "/AxTHUf4NkQaIG5UrUcJES7GhXqiBrjYKzHF1whiRtfSBVU+VwmRI/+i14uU4l207RoIQ+wXPF1I\n",
       "7MwQkJ5iwQAAExhBmohJqEFomUwIIf/+qlUABbfE3gBzP8mgygsBNHJldGG0nCy1l323b7SqyDNT\n",
       "3+ydriBArnGWYUrGnnOtd/hcdHBBSmiBJgkNJkB+euv4cwqUOYfFALaB9mneZiblY1E/t5x0feub\n",
       "i1Z36QG/bQNYGPpHCgORbBWgvzxeiRfxfLpgO2d/QfpnTcUmRLMRUbgZ6SUsqJ5dgjbrF5vQcEC4\n",
       "tTrgRRrlJRtQJqLHy1j2wcROpY/sKN7PdM0vKEG/Uuj8l+yH432R0gp/kHna7oYZjtqreLXT6g6h\n",
       "NWms8Dj533g5Kgo8AQWZ5JZoYy+kUTZsYU8aj9rQAG1p6vtKe0oVW60E/ji//4OW1gyuZfHrlEFv\n",
       "KNKyB6AlXXyKn4OBiiDBhLUmj73eapPstsAIRMjh96GEZcg77KoUOmZWuINCEwcmxtSTnmr++X1Q\n",
       "+/Qmra1pWKkxeanido/Gw7eDYEkBx8uaHSK4IrVl3297zXkycsGbU1GobZ01uq5vChsiJftAEny5\n",
       "5DvEbm7SKRmX6FJ1XpADH0p6LA0hVgJHEGQMzThJ1UYvFkJTMK5tiww7wxdSbBDAc7h30lhfls3U\n",
       "oRkHB+zgVzFeBtDdP0lJRxSIJ9BCRfHyL0eTT1aq/1B3wKZcHDlmK94ZDYD8G9hWFF9IiyNEfrDt\n",
       "uOK5L52R0OjuXlgD68zJiQlWh5mHu7DE5ZrSt9LCatZRStfCkqIkPx6nDmOKln7W8NeeGK7KybYT\n",
       "z+aMS+85MveSqjj42ilamvUlAd5kg15Xxw26q6V2z+ezcJcSOXdGEFeDhW4nU0A7TNhFnioFTOqK\n",
       "vWP4Z364OARa518hnOZLycum9qmEjQCWA9XppJQXkXPzRaGpGXxpcA1w0c/UpgYdCgZzrghnmNI9\n",
       "CZFjIMqAMF85JgAfJVsvfnAkscMKUC52Plh8FMydQGhyfa32U7rAUs24n5NGe1iVdO1HAFtLedyr\n",
       "QToQe48FYlg3/sXJwsCHu42GTyNDzAhTXJVDjS3THNWsZij/L3BIFuYIp8qWckLsKSTyMD1GDWaG\n",
       "//8oLtNheGnsPaq1hxvRPcGrRyhKTDV4uhZtpS+G5+owgZTesBQxMV2FHaOb7qJ1h+xV2sj9HljY\n",
       "l027teSISfXUHof5i8zuXzNkyULx8ZAh81Dwu10/rdu4bFOHwgUEIA97UF7s7k4AS8Au8Iptz8+6\n",
       "q40iVpfi5VpUxZGTtOTfqsTjJkSTxhyUulM2nG7iPv8IO75mAqPRJ+rHP8OkdrWM6zu2z+bxK3P9\n",
       "FBw0U6S41GcRLJxENRwEkzj6byXjbndAoVVSgRwCLZPj49ajyN6jzgbR00wryu4AtwPpPLxn+0BD\n",
       "mI0jFxWjfW3c+211eRQ3cWCweokRhSevuMzBzH5lwUkgshJkYps45546DGDEsH2JjFkZkn3y5Pbe\n",
       "igmpa/Y6ThU6eSQJXklnUO2oLt267JLTyLxxK+cOM6hIsxECp87d4MFKsNavX3/0z+JMh9T5q4kD\n",
       "ThSgNVugAyEwr7m/Kts55A9iyhS4qLAhi8rnjxkhvmbz/4nw61vCkLs8Q+0Wkl6W2jwESZldrFE1\n",
       "W1HqBLLxuqo9l3C1KS5584oHBKFVb3cJIHsNjghhHlNGIpU8fDVVddYNelJcnYIwVnaYhgOTuptv\n",
       "lGGz6jp+bUQoineIJyq23fgPzRMo+sn3OOiZMn2jP3xwk34XYi7vRVoAi5o3LwID2YpysuZZQwAl\n",
       "MBCuRcdrNVE6XP6r8DjzawIibqLRcOt0w4TfEwqV4nL9UkHUR2C0JPmadBBEdInljJ8xk7giJiIH\n",
       "Egk0WHjf1e1TFoKwIs8iS9b3P/0GeRKk9IT+V1riFurR1SAz0Nl/d8VGK+fo6J52WXt+pCVy+QBC\n",
       "+ggY1AfJHW2BrjvZae1ROPvEwI1+ZNsFNe7M9pZBARTuQyOvBxT6AZtswGBJT5eS61LmDKVPBHl6\n",
       "QZ8xydrbZsGrjYlt7n0/OAf74p4TvsyWI4i/y2/PdEQxVVs1jPxSSeKzU+xq3swyVPpFztt237d7\n",
       "+lH1lSKqzNarPYFsT4PSS0t8MM67DRCYBMSeSc4JLr8AiUIJIsY8Hcavqfl7Bp5V25WJe/3YQA5d\n",
       "0D+0ArQzaw0H/UwKKYsoPbittw+1L0sVfHGfk7wfpjJl2lsv+fkIOSlEZUel1oE6UWc+WC6I9R13\n",
       "Vi3glE7RdoiiWWU7kTm1Bn7zA6R1hu0ta5nZdINX6r457LUtMoAnutmCfa7RCCA2X+nYFHcicH25\n",
       "2GsnkVRZQAS2n3a1sgItBokZwQwkXW6GjMc/KTv1j75ZzoQeXkZqgYigCDTVUsgw12fPriJ6q1aH\n",
       "8mGckYl/vr+/l/3Tc+ji4oA//WWG9//1hvxH/pSrZKrrkaN6oj3zqfAwMvs17D/Gm5WWRgVvWfuu\n",
       "CFiWRMML8MYfG4NO+UnO0t+xk0gHt5KbPpjup+J0DhkCkpOgy0v0Y9EFJWmTrv3OtFEG5Vuw5nj3\n",
       "2pZzf8jQ4AAWi3tnYE9t5uI1KtLLnizgrqoH2yUF2+nqn1JRzN/rHBAZGkxhYc5eIq4zee0BtM76\n",
       "rbqkjZpQha32IAacSsFS3xUmBInPsjNMAVT2z9SrKDcvk5aomnJdr2ppi8XpcAybGpDMfaYdmN4F\n",
       "yzaJRoZJLiq5t+aQRNjTgXWC0cq5As0/86XRbjshuqR8cz5huplgkNDwa9Ecl/00yqCmKmoeHY4G\n",
       "JYKi52BpVqbf+cGdxc05YVYM7D7iMv1FYGZwmN02R61HR18k2KW8m0WTl7LJrdhP73CrpjEANAw1\n",
       "RGkS0OuP2Db27W0RR1PCMeqlM0sXDwDIAAFdRkFGt3BuOqtg6qjCmqAS875m/MFn4krOgcr3lrHL\n",
       "Wsw/ETZ/rr6Y0ieljyj1wkP/tDxmi9bNxbVZMroNDwGLub5dX4sqQ1hJR950RZKUgHk4lT9hOn+2\n",
       "18vr9TZqvCyCZxQ6vt4i6oP2foujKysXwtWcVUQviyviyOtKqXPWRZJuIa/79cJj+h0rtVoGxdgl\n",
       "2ZyFIjzNDVZjycr14bActCSGCKI9GZ/LP+1WZE6QRJaQwFazMjFGiy85rDB9OcIHMLI928WmdzTS\n",
       "6N5Echho80FlyQ5DTCbZ7dktUPv1u+UAAjzwpZpziBghtVa/fLPdU2HfkUt7qDFK5iSJSaqCgGo3\n",
       "UqCtRZsr7ymb2HSMDLJ0D6OTiPV7xEW2Riuf+FJlrmrRpmzv5WAuorzoaErRenCHTDXfAGH6O0x2\n",
       "jNEmbpnqECS+6O+2xe86/veRx3RMAVwjLDLO6H6CTCU6Szk32UD09+hWV+3aO99tEJZy00jT/Jam\n",
       "VgSf88ABY/A0EIaykOFWw2sNr1VWhAgq9UUorOzQ6snKhujQDDOE1Q62nWOq6ylI6hYldjTHnYGC\n",
       "f3NYF9TXSzFNypQDF0UPpFUDb4X+/Z4uHUPgTAAcZeO24LoY3hdvcGv5mqZW4k79bKEAz6N/CsuV\n",
       "okKbDIOaQQ8N3LxvSG8+lqIGaY8rFqZngLe6p61pJUPN0EwphONVc7Mn5+GAnFhOnbmdVV8ipyya\n",
       "+HcdXAAFP5KXUo7qPDPDkuRiOg/pCv3ontTjWjRkNeC9RGo8Sd4Xc3g7lHbAy3cp3HUMgQhgAYIP\n",
       "QHgn6g97gBBaJNFIFtR3Z1Sh21rAenGk+/P8NTShJKfGd9pHiXSXnfzkUoyallO2ZdD8Y4/AR0jl\n",
       "sTxC7ViS1FuS+9chAFRkUsF+NZWHKTdaAdcfmzRf0CaNycfwznKsyffxzrkBSXRzgZFLhh62YUub\n",
       "K29dkp6+y2gHgNOpeT/L4Vv/od10PWy1snBJv29gK7ycydEBPgTT1wO2jwzMavCfegs3w5JFmOMW\n",
       "foDrfA5TLTIxJc8wI9ix/oISOWuzBDnnEBSoQ9f2p5uOmTeG/RMyNBv85TIBxJrMrNmTEVGDqpz3\n",
       "mZUXdcUbFsXzog/R7Uo2uSyZcL2IdVVei3XdH8Mzs6l+fUCEdG3kmT/KlAq2wd9OFATSowhcM5P5\n",
       "rNSAOfbzIWZ6K3tDAGE8MrzGF9zUBMXU5Eby/bjgeTDPNSNdf2jAvmB3oyFCd/naNfKIEVghLljg\n",
       "6ojvdyVCQVhmzAsZhRjoRheh9qOKTkQoFaqlk4366X/ke7+KPbsfU66khf1p/VO2NrAosPez4pxR\n",
       "RxMdP2xxerLoJEmlvnqStRR5CZXCNiFojzYa8G49p0zao9TAIheF8xoaUONVUr/Ya1clj/kG7fLy\n",
       "zNtUNmPULcO47X/jS9B41Y0/TaQ2g10ovi5lgtGTJZAf72dCJ/I3M/oczQwBi3nOCpIqBKE+kEFC\n",
       "bFEUnYDhdckLiWaZKpS6ktlawnu8ul2A32tamy5qF2NdwW4uwESL6OcW8HU5v/bJYd37V1COSZ11\n",
       "EaWqSWVsD79bCv1IBgc24zwCta9D77luq1tW5e+CU2bYtYvdMM7FgtUnxOCnZf4bHwesK3lkIU8P\n",
       "vmbfTVnny/wivDjfM6HgCvvtYdxEAvRDvmbST93yE5mPLuSjYRVhBseCapREa86MLbQ3ds15hRK0\n",
       "byMSqZfpfsgWMyXAKNdQIsStAM3DgaDSXETaKoIntWF1AsxsriBv0ux03Q7eJOYArAwavduWpPgy\n",
       "/3DLZbZ/QHl9nwjRbfkobJ135wKEZ0qbnjt5x9x+MwFGgqh33GjJxki8jTDYN/zQID6GS/Okj4ph\n",
       "lvNcOFLfg82XI4ziD75c/O+G2gmArf0nxmWTtsTR9nbnuxYGEZc7StjDjdi/ZE9sSU+BEvfvyq+l\n",
       "rAXTvDe4/8Pi9ESFDfVTCoEO3saW2OEhNkpxBBL7JsNSBVVsue7dq14+oJhAGB871J5GYpErtvbx\n",
       "mY7jb7l/GQPArvDJ2MsHR3QcxrocQlua4FdCtiVOzB6xokLG7q+yvu7ULp8p7/to1rdjXjZPwsSp\n",
       "rt347rb/LHlCZdDL3jpdfdrvq1DBJ29EOy04vAJ2qmBvYIUp2asga3HteHQSufvomKtKqRcAMGVY\n",
       "23Odf55cMlSxhKWReEaD3MXpxUdy6zFpD+Yt9t7YS49gxTGrduXGj9MwVnrGL6o01EEH8ZLNG6ib\n",
       "+RHdV+qOAAQH8sWE1H3fLqwthAtPNcSICu0Q/tbFVevCdYtJjcIEngBexeizcw4JOb2pg0SooLxT\n",
       "WzWc6jtlYQUGd6w9X85o8hOaCncc2ZtN2vKKBk7FvQo6KezTFXWBkbfXXP0Mlf3d7w+2+I0I0sTn\n",
       "TDAQxTzEYOTvFCn8lZ/3kjPEvfBGkxTRTSiVoHelFbavBiwka3v93kX9Dp7cfzmV5Lh8Jlu+HcGj\n",
       "2Lh0GGN6+crdSO8kueF3AROBlwgIZvdAA3agkOcH/eZhX5AuAzP8J6X9AWOjp3BN0o7fd8PT2eHW\n",
       "th9DjLFcZexwU/KwFxPyVWBE6AD26DNjr39g5ydRtPSZrZpTPHfUHQcK3DjfC/A9s9K5t5RpU1Qr\n",
       "P/803GrHhfYG76okQbKfNGaD4Asm7MauX4SReGLjyvbim4j1yhtX3Q8qWWFItapXA7He59xxo6er\n",
       "OkTNohMglQi3yQYe1DuVkYts+M7Ln0SroRzHXPEKN8u/uGJyJZ5SvaQA5RjP85cxoTZxSsPqcKl5\n",
       "fHDi0ylEPmMavMfvk0EWb4nH7nL10l6yWGnEDYUW1LnPUC1ifNJG3eY28Tr+ubGo6xGmeFsXE4BI\n",
       "fWhRMkNkpHrqak7buCSfad5L6UKRnoCVuj7h1Z0iPb7lDye907FXEoz00shhXmU8HK7RvhEmxZM3\n",
       "pVEpPdz9bMxU0LGvUtT9mgdvyd5MMGE7n3NNHDkSps3Xg6VFKcbjcqsxOIDm/rm5ZqiGgWprj0jn\n",
       "az2Z+WHDWGxbQrzDL0mM1+AWxl9zF4XBTuZpqhT5k6V4fiQ3wXl0UcMKy8QsWj1L5sHK8bBapmwH\n",
       "f3hv4XR0FJZS5SbziqONEAMdZJgzudg9OU+18YBvr2/D1Z5LC9Fxd3Dr7yM+mxmfOV5wybnuH+b0\n",
       "l1uLygWBT+LQnwy7t7unriuIzAOlBm7RIYuT65EzTcOkEXAvlaTLkBErD6Lqb9BJhM8FB/WG5MQY\n",
       "1wqhogI3IK/P89sp3dipVUDE7XzHkZGlxw35116DxoENDv/uXOD5EFsg2LU5CHZnVJz2RRkmVOE2\n",
       "PW7QB00BG1rKrwWxtygySi14OB2UFu1Qazs2NXha70zY6pRv9fY3VGy0yMcV22IUMBb5dyMd75Z4\n",
       "hPM1sh7cscgWFgzNuWmONMkMcM7XirLbuaNtky2ncnL9AtzLL/bZfx1lqq0+xJHx+TBY4wVztVbZ\n",
       "/aogSMDd7k4pTBeCTnWSIwU2nF144d7GYEEFXBVduOMuuvGBIZ6+pBxGs2H4igZv1Yflgs/95Doq\n",
       "76yrI7gg2Tl2ICWrwB8us+LuCifruKZHYQRZuVQbLU8BHfNwrcFCidn7CeYLFwkhRuciKm/D02zq\n",
       "j/iRbxqeUSJsIm0flSakkhZi/Zk9dInffYd9K0+UTNZJxIGEvSKn9tRLruYpeR3wjsl+Vw+ZAAAB\n",
       "R0GepkURLDv/AAsqr15tjhWl6uS9iouD/KdhoDC8ruPQABw60mURyn4pQ3K0Sme7g3vhKRhqm6A4\n",
       "W/x8MQWVxwgaveOjgYW+LtQkaRWF6qCodfRU31/1P4ebIFXqbf95BDyhy5tS7KWBVTzeQi5on2/i\n",
       "RSDnmJt7u7MMRzHMCUM1rhIM12jjw17HF2iPcTdpE54fiN5jcY19kffTh4PGhpFtt9nd9rC+HlD3\n",
       "NMA2/znOOaqzjgMO1H7qurqhPoNKz3eLgUFff6eKVTxGDb4IQ7y+EnWJIN+G4i9yH4bhGUQyQAAp\n",
       "kgAjVHnPEi4qp/PN5nNXBqFnfHXcU7UUCAIk4/oiyu73kSMRrkyQQH2zIb8w8zo46QpTM07Ncas6\n",
       "rLYa52px3SI+3gC8+bmQYe9ewfG0wAdxD96ogwlpayehALledKu41ytVMQAAAVwBnsV0Q38AAIa+\n",
       "yd6ORwVGs/d54NR7lAv35z/WRyCyXRroq55o/DjVwiFD1jCdNiDKDYy7sJEa2BpKkwDx/eQrt3Py\n",
       "860+IpYCfUAK0Mp5LzyTN/rIZW+jyEkl34JkNVlzQxYppZbttF/2Ke4XWa2cdcIvVciMXEymzQwr\n",
       "zSyg9SK2SCP+E8QHMWTrJKJ3nVw9yUxnwZ3VQkM02hMPNmZHnw6QxJRQJlsY6aMTX4d/8rGxyKGq\n",
       "OYRto+BBZX6sZmIWWJlAEYipd/C7KAkDh8WHfi+VinKQhoBQtI8mDzUWsqzNTYgZuRmFIIPHumZQ\n",
       "dY4zHRpFzrJvK2xjNJQDUS/VYin+pos/IPoT6dG7PJaaYXtd8QnHekJlw0nsnKnM+QToJFEZH2J7\n",
       "Wvd8Qo+JKd4EBsnjnApEAHlDL0llt29pRFUJiMyWrLfQklwcryRF1sDc7ztdIc8gxpfdyPkAAAFH\n",
       "AZ7HakN/ACPITAAIM6p7m6rr1OwdHpXCzrJybv4EugXAt5PSL//EirPDzdEgO0KbmE47xPXBXReb\n",
       "ub+3Y9C4gNELrJd+MiHIvXdRvUmG6LRGvEnSNuKr/w6iVGNQg5PgWT/y+DGrPPBJBkm1nA3pu/wO\n",
       "kTz8tKmb5OtTE9rF1WZsPGAalMDrYUg0uwMaYYDigKYwXgLf4qZatnT8BU9FplbLW7qH7rcztwzU\n",
       "l6lgB+DyhvzGoi4Y3V0xWDIhx4pH7yzh49KllprDBCaEuFq3biy1AEqm3IujxG59GBj3rcSuOKvw\n",
       "JQFL8ljfVg+XBIeZINIGV3ssJAU1aTz9vZmmbXmJrMg8Dx3Pif1uImeBhAUfwqNsMF7R06/mynEz\n",
       "88wfTjv2RfLt7hZm3+ee1pn+UZrd2FpiwCwm7PI5wHoZtFW1WEMU0SkgAAAKXkGaykmoQWyZTBRM\n",
       "Ef/+tSqAALKTV6AL48KPrFxWO6nPaJ6P9E7er2Qo5ZhCo333c4CIM5jkvrKwUhuPDb0z//h99TF0\n",
       "/qM+BBXhyUoyrYSh+3IxiRYb3zYyVpPLqxXmymgsnpO7En5NjXXyoyoY/wQ30KfhUHCQN7HzUqi3\n",
       "0FXS1URG9JHU40rEkLMDuBM28dSeomoSEvIHeglLsfRWyAEeO21OVZzyF2DFbf3NxQo+tFMnCEmH\n",
       "klG2NZsprOiCTAa4egeD8G40O7IHBT+7pwUi+AFRxKbjx1ReNpP7/3usjitD+CYvuJS/p+YmEv7U\n",
       "eK4BcuDLmGp/y2e/87BTmA8NEwa+n84YkfoHOiGfO+WekPCMzyIkslBphtO3/qJwV0iiyyue0ZEu\n",
       "6mtmjZ3WNaP7JYsoPD/mCeRBSwGiTUvmMPqoyxggtaWY7E1wY/IJTOYmxMHz/ka63vpkCcBmT3aF\n",
       "YG1dpU6FlpX8ETYV5j8SnOX1DaP7pmE6pfM/dyvzaNz3LxH6ch02IP2G9n3Poob99tHM1IDReyPm\n",
       "LEADOhzy5ldl1LLMsav9IUqfNLjG02ikPByiSVwwkQsD6wResd40yBC8XBu/kEFhi/2/YIwZpekA\n",
       "5j2ufP1exB0M3l9AyaLQ0Yovk+32/PK2lrITa0HzKlmII5KrWjKY+s0BVV4UkuRKbCYl8UlxkFve\n",
       "OFnGuPRDsAQ1SeJd6Uk+2VSWmLa6jAMbVcOUOzVHBUYt1UUyQkhUE9haLrwoz17U7m+idi2u2+0u\n",
       "xLwtpWJkqqx/WVhPaQSkjT7KDFRGxtXhK57da18cffw+2IFTBsowIVvwEka3jHtgPa+ZyTbXKaCn\n",
       "qeueHtyQ68znj5oMaBuh6/3o46p58mF2L1YJ+I2g7205Fo2LEAS4u777RRiqGMG90gGHphk8b7wP\n",
       "eDw71loHVfdM2hImsXR/DF61vTIw5Tw/G5bMCYqhWcnJvuZSmbyZNfbxADu1kWEnWxG9DxAjgUir\n",
       "akgzIFFRAhtF/heOqIMEUYpYn3pHV7HUbVOlq5O/xnpb+yHgLcMorQNxDyJplCU+z3Z00elNwWJ5\n",
       "Xy8fq/3PihIOHAQI95AEa4l92jca9t2DEd1h2TC1HQJma+4rRCkqH6gCkwVOHEyibQtPThnGJk4w\n",
       "p6agcN5EPIqsvPrrgAKD1W/3ZB+gKFFwySnd04+JK24ETAVYC67XUNZqgt4KjFnnV+HWptVR9HsA\n",
       "OxumZWfIMYgwHjm9HRV8SZ8HlbSDXJ3Nw54pQd56eoKMlVIr+2HH5Vjr+EuHtuWWQ0RdXU7TYHQ/\n",
       "Rwax8dDyaLDWMCif/3Iltw+QDvDGlDhtji4ctnt7R+6oLeSiFgBclXFC6XSM7xGNW5zXBq8RRzea\n",
       "1sLlLLLo+UzrDblL+g04VZUc5LpZqMY3BEM8NOIeVA272up8ovLI/DqebOJ5qdRsXe14pGJQE9A9\n",
       "mhdYYqHLTuFheWpA0nXydWDOeK56vX2fxCUvURYm6nBkpxPSQBTrIZSK7wnf3HrOs5FHOnNL83DV\n",
       "igAbdQcQ7qAkWicuc2/4rKtmRC0Iazo3BO4Auvo3CCa+onu+Q6aNwvK2ZPFo1xpwXxagw2fQYKXn\n",
       "6o57uvKP7xs0FhcoWsRYAkEcbEdso6sVS9A/hWYr/DPa5gAylc7vMgVzQb/v5AuSmQOZzAyPc7B2\n",
       "GWs3S6rgfyUKeHkoPFye0HGBAmcQkuK61RggbV6EB6kvmZ5osvax8qFgzQkziYFdCbzK+nvQSHek\n",
       "KP5CKhV1fX9TC6CBeDmCa3CrIjJPo7rJD/1hcjWO9tZYfUxRYgl3SR7KU+R2vpCoolUjzzKB3Ogq\n",
       "2W7jmymZeDZZfudQA5q/uw6akNfaJBOM8VSNDluERlqCygsmuoNKtrJkFWRYdWc02CfngtiPJDJq\n",
       "SNs6wkEmqbfcOMsVCVhOFHgPtVRc+gWinX9Vig7r3CF2ieTdqlFoB/8/sOZuELwnsryiYpNQW6zG\n",
       "q4wpEEWXUcLJQOaH3He6niUJNLYedbU2NZPBVaPj+X5Bwfu9j4RqsXnOZz/35e5DXCPPyyLGGb7P\n",
       "xGep3EklvPL3WWhcnmKXa7j1FTEiOGCvVqMtXuSvgLdPdTDu+1rGzN+7RPEO0nrqTElyr/L6BESX\n",
       "ro5gYffpl+uNMEaIMJ9UuCAZ4sK9FDETF1C7NotA+Frb5J8SuHsq7Joy6ejIak1FbBUN4ToS+lT9\n",
       "+8lws2qNNf0T8x4JGAOOqYpWTw2AjPD1GHRDoQVy9PTQ/7Y2dO3N5o9JP5RgJIb4k144By6/Fv4H\n",
       "GMcTwJCyAp+nabQ+xEtxeh6F4UTwDeuRLr6iee3c4gqLU/5HOPQEMN8Mka70PzYtcWDlx/0vWeA9\n",
       "DZeM3WpzEYsJ04SYcd1tx1bsrz3le1wQIQgGHjX6iv+QDWxff5f7O6eoUyZzxtkxaHvgzpBQACum\n",
       "qNcbNWiJbCEEcAmCsQedxP4Xhi0SDL0Pt8/HH8RedLquIhX6vLkrCkLHLgl3OxzKV1iRfb+Zm9LN\n",
       "qjPJzhtOkq7vvq4ckJFRh5DGIXuy/gcp6DXH8AUaliisHGaASVCswjjVRTNBkbMhzW2poWsRVI7p\n",
       "BzToZeYsnuHzpb0JH00siiIdr1fG01HxOaKM4xJY6Tm+wBG7qcNGX7+HdxNxrZi6nfOZlNT37vaZ\n",
       "Pq62ItJU6pfpMgPdeeH1KqVxlGp+069Vu/EEYTR7MU6XdKdOda6hcEjjlbmyf1b8pitEZbg8vk9L\n",
       "LhztUMlt+ZW4MkCXS4uWGyUBIws11SQj7GQ2l895q1xvVukjGT6QbWobpW9XCsqX2WNVvOkbZiul\n",
       "tAOidm8ZabcNLccyx8d3fuwuMkm8RxBYNoG8he6/YVPMzO5x/QAH6jAVK6++SPnaiFluiCr320+S\n",
       "KCQlHD+GB0GT3czgdJoRopKlXPz9FZ7KnxIDQr4lyaaPTrMm+pddYaJUADJnNqYGox/ibg1R/13D\n",
       "VAw+MOrfQUL3kHlz4GXybyu/hRT/tl8yGqjBhyYKvDIVJ2D/ZCYaqT3Gxc749SLxniUiL5XZegC/\n",
       "CuEXAOQYGcWD83iCGUq5IamLtE8XmnSNDZzWRfFL23j+t/mNezTOn+01pNPy+AngRpoEeJK7H6LL\n",
       "MfCYbSDl6FaUrAy7/MAAInT3D10t6XzyFg8ES+6aN/3pzj5Plu6v2pnYe00u2q9eBcfm1Szuyr5J\n",
       "qoZ8H+YatHNvjrzSuB8ZrqNfmG5rKCeOU3KFB7ixSTAwgiKxvzfopiSal6k5P8JQ9lpBsZmK2nXc\n",
       "+f+PHFNlX5z6zCugtinT0tPQWBF6aUDFe3RkmftOjw7wrm70nn5tma/TjId2k5yw+C4JsSBBqoDz\n",
       "ylY/nPgPFp3FrOHXna9iv/ZAMKYwVB805GAMBi6ChejxANtaNx+Co2AujYiIY2pzIsWvfeu668H7\n",
       "RtB4kZxjv8CI3YTmX+MiZ+Q+rj1fa4n3HbTGDikvnRUEJ+l3FGpkAlsjbHE9dfWnxLljg5FGHKLX\n",
       "3YnPKpKvzbIC58f7u5niQqI+UFlMAAABZwGe6WpDfwAEB1ePbIAEZSgSkd3y1I0gAvkwkR5De735\n",
       "GmYbuVSqK56joAlmzQA+MYQaxmv+H7rYr6JHCcYDzdJu+AgFEsQb7xe9+QgJVV2mEHjCj/DhXWwx\n",
       "6tviJ5H9OifXaJDt8erB2jH8GHG9uB/LwpS5wDj8BiCrR8H9/31v1QMF4RiSvhQvmJSdWB8aiv7X\n",
       "Qnc/G3GKLTrAvq5+5IZjgu9LvPiMSJc/VKPX4Z71/FQYxGS7raqS2Vp5T9o68uHlE7YbMgsYoN3i\n",
       "vbUf3CWgs7j34HAXhVSTmMpG2JQqgR656BytV6Owgi5ho8P1mWCo4Cg6Vi626Da/1W1/AbAbNJ8h\n",
       "jMQP+vKPbRY3cAxb3hMEQzCoCicaYvdqqPS9wcyWgAQgZeygR9r1e8mNjV4B5G2bsIuOAPaJC3IO\n",
       "oSlR3FOiHoq0NuLD0xK22lLKGlRBViEngVBbEAkqLA6agUCQ44m768OPAAAG2kGa7EnhClJlMFLB\n",
       "H/61KoAAB6IG9gCPkVSJZJK51MsChlbysSCCmqK57wqaUwkjWV/McWU9nxsrfH/Sr/5tU4CfQY4x\n",
       "ISLBactSrZ4uvynFhdoz6aKaLDKab0ze4dcpIBiDaAnbL/D2VVGo4FjXDFxU2rb9KVHTVdXaVWMf\n",
       "Iq6JdUXPKuCN9Td8QbNnX9OCkAUxRAYBs7Xz6KDO4kej3Fn7cMfIV4mfwkaKAmX+zgRRVMnXNBeL\n",
       "szMnfJUgVeciOOYROdkX63LNqF52N1o+UmKOvF3muA8ACETXJKT5568ZnFh97dV3RyDMDHlrbIhV\n",
       "lDiGB9ChsSm3AdveiXbmc1kSfrlXWBDSSudDc461zbYGde3z1gbeZiaYuFrRRuMznwq+CkPl1wJX\n",
       "0WIUq9i9Mnw9sbjvt60GFQiXuPPywPvuJjg/IeLFt8v8qmeEwa8v7xW/9f+DmSNgPQs566XFWqtR\n",
       "PNw/Yh8nErnHNrCw7ubRkDMz//97Xtx96dadk3NOIEgXC9AbdgcO4mg1FacW8CcycEjXSr+OqpRs\n",
       "evjfh8vWSCUT0ZfJyfMZol5a4NznPNW5QU/G4RxQQCA83NSXlWILHCknJvh2ykUV4908FUvG1+Fu\n",
       "9yO7qimNxPZgZEWB0z0Oc1M3yzSrjhDlQPYauTD970yQzTqkzba4fuHNC12Lt+s+vsTjE5xKwZu5\n",
       "WvKEc7FKKMfma4Qxb4M3USyQ6E4hh6ALu+TdcQi+oTP5KA1a3PhzS9KGsscoAqo3EVgbFNNEHSH5\n",
       "yl8z5XJmQcoiE/LwUSSRaBIYBoQbi4hJRQsdTC18FKW7tS3l4K11Pi0oL6vv19B73oxus+MvhzbI\n",
       "fz2hgU/2lwlwABNd7OfVsMDAO5U9FiVc7VLPPLa4bIrP85WMHJ/ygRg8eLPrn2DvNTEDcbEKGkfq\n",
       "JUr/gK1XclxIeOXaXo79VPy2mN5NTJmRcfNPKN7h5HuDZM4sASJw3pXf1vDP8ThbeTNwepaNHsdi\n",
       "Y5pvy/oXtkZUJW2m3QvnoxJjsAGL6woYCkbZBuC2b2YnCR2UtsrQmyxndeWc4romEEUgAMsfRq4Q\n",
       "MWDSywvYkhtsOUesmkKcx2BqYPIN3zluGgdQaSdQxbS3oIAp+Db2bWjelfBGwJnRICKkbC+ITubI\n",
       "vkQd9pOx4LU22ZPYXQ/Jc+bZmzi52Q+gLat/5NLP3u5Uu7K7Q5O2Ua7S8kUKBNCVSrJi/aUCcYvF\n",
       "0NepjXpG5QBDIF/rQklEw26tYw6aRVCz1R4+tB/8+OResFyhav0PyFjx1UYDJvJoIVnIVNWsDDqz\n",
       "G5Kj8ldIyDt7cEnjcPU6w3yw8vs4xSLYs/97g+sfgRpq+5aIoNVxyRoYPTC47ZUSuSMQbLocAnnX\n",
       "eG1/WIk0swgATRk72vXBW/V43WmavcSjJNIGVPEH+ezPr7l7mCqNOPry9H7rrg9rjJejMtaz3TL9\n",
       "Ev006ryh+K1xFHmJrnotFdV/TFyzjVdQ4D+0XTKT/oU44YJzq5pNQPRw+yjZjIMiLQT8AQB/qiEc\n",
       "wAO5Zw7BfrF0qXOkmzSkphNRUDAtNc3u0FH2ONPePKM8y8ghS2QPxW3ciao54RCglvpqPjuaxh8a\n",
       "qr+XORDGlhJMDzkK2uMW4U09VuiedfOuqkDPin3C+q5p3o9Kt/dV5W7NnpQXe4Ky0KchdUSyYrfw\n",
       "NYbsXDOXrswnbfVZiAN7ZFDm+WUmmsP4JvMv+PO8MEP3FO2uhAs4wEF+DRHj68pvXGaizA8FNhaU\n",
       "4XxrJ5w/CwSWFc76uJNZWUJIbAT/4mvqF1fxwvOtDneH0DVo4xYQVfVgyc+bwm6OJjK5xfD7Utt5\n",
       "gBzX+0gA3jl3HB22zYQ/7G2pDZHw2mP4uhdW8LPiAOvrOHU4m+w+nMdZeXsyvwe/WKJL/5snw2Xd\n",
       "KCnh1GrZOY/Ni17a5ZaZrk1+yymuKsM5EseU7PbTY4sppB5hvwTmyt7jO9ZxYjpX+ZB4oun45p9n\n",
       "nXN/+m1PgmldSnCtBDHn24fnIIawbR31+G2UYBS9JaiN5dxUA8g9g7fyDACcdw6sqVTyzQ4J0W+5\n",
       "GtU837WeYsgeIuAQXRgC/Zo/DM9wKGb1OIXieLKqhmh52n2xjRXXeLuSYD4joq3/GoPMmLkxbtkg\n",
       "y7swR1WGOQLyMXb9nLllEp42cQwhFCzA+E2h1A9qMTHylnwNKl86VMSgANiJh7DX8DFTq8qHqOq3\n",
       "3to5NRqtPm+LfUAasA5SuvfGXzSchQrLN7ngDj14fxTuAZqx8Fe79TXpSvMDDOd+Orqxdu6UKO6d\n",
       "b/TuQ5Ia6nD+1q0Wt2DIlRIIlbtQCTMgYSIKXnO5RiVRAAABGQGfC2pDfwABsFNaMZK5TUflWBi4\n",
       "P9u8x+/6KQAkKkoev05P2ZfvwzupY5iv1o824M1cqP9J2BKuq46L28BSfT1mYu4TugEv/o68CdmP\n",
       "N01Onh1Gi98iRymz0vD4awR/NojJqph6Rc/1hxtGwAUyZ6lHdrttFCQkxgNRlDWwr735hlcvcdOP\n",
       "8Q1W+moiBW08ps7ZTHgLJNnktOdrH0p107O7WTNBHnt1s89YDEkhgMkXV76EO3KAHDmqEEAB/khm\n",
       "043NevOh4rW0o55z/AbIQNK+ZhCnsuULh3ZLx52uQutMw18TZfQZ9oDVxLwGh2swdWLuwbhpGviw\n",
       "xZinopqSrNoHOuhkKVd1IgAq20bjYcKjXQ/ZPOYt0g44AAANYkGbEEnhDomUwII//rUqgAMVsA0A\n",
       "B+5SqQXiTcgJwai64eRQg6Jcxhg7DMVVH8xf6B9KRPdSztA8XiJyEsPeCrz2K2xTTGOfhzCG8Tgf\n",
       "6Uql5MqFwZiRyzj30PPdUY/C9I5W9r5Ey5NjpMzSTh8Tn6ZUZ4/xfoqU90fmPhpKxc6SKzYSXJh/\n",
       "b8dAEYG3xD1pL0yVe1v0t0oKotilaOUve0m6tuhi4a/wewqGy9rXCbysxOq0VwME+lWdrBbQLPkD\n",
       "Tg0ErwCftwRyn8E5boZHZwKjsc7W+criNE7u5UlaEAmueZe+LYEtZrBtAMqPMs/8zx1Rx+I6s5DZ\n",
       "iUramsPxOQ+gWrs7usrxx5WdLhdgxBXXIlX6eApGOSYDTnm1U1xqTw4godIVLsiaHHNAGwpGyuO/\n",
       "FK1VlQNw4pBkjrAWBRHOOWTtU8tILMCsi56Q/BYGaT8sqGZoFqmp9W+RQ1oujVBnZDRgvP8h4/f+\n",
       "YTsTNBRy103z/UBB1jBnU1vTG+knS7XKxwSV1zJXvv54mPOi1TvEUZA5lqlnjWoEtMwvJeDk55Tg\n",
       "YLqdnmqHg7ZY53/66S66OMU/IyZMLD2tbWFJnVJtRe1wktEsidxe8rw0xsN/+Y7UsWSSfbApvp9o\n",
       "0dKSBOPnrY+qoTt2HY0EPmMRHAUouRM5L8rZ8uungtjyUj3WDv03rtpdfD3iCcbrpabIglJHIIVs\n",
       "Pti3E0hKKhA/Sr7CMNxPJKLtjUBa62v2gw8wTalOdVc/OHaMG1WL3Upda/ekpJmDBQub6YlsXso9\n",
       "afGzX3jpkEL8g4Yu4KqxY4Pt7wfgbiA5Z2ZWnuRnQ+RUN6zmODJ7ZTfzxH6dF/vnS9tcgzJGczoX\n",
       "NujFL++92EYMI8bFWucUsep60x8Y1RAywLCiOsPodWmM5XeQcd0sxz8J81qDkYxHrbMcRi0nB+nn\n",
       "SvIm2u7AJXpQ7hqarth7pERI7jlBd9bHhraWdFMMquK5aI7MqQ/ltSJeWPFrrYH+wyWKsAYmuA06\n",
       "fr77C2y9Yl4CXFrkOE4qFr9GdwuZYQx4ix1uO8lQot/9w/0/nBpmpPh1Ni4ECstTWuvhjtK94yn/\n",
       "mro8Ch0vjhVCJHQ/sTGOgk8dHBZrBAJ1jIWPEcDJR/Pr+u7xpLh+PSm6mynUGrd1ZXGXK2ynBieW\n",
       "QxhY+xfPQL214AkHuF7zo9X0nxFWglJ1wZyrpt1cwiC/3D+u1Eab0nJ2eYwPNGHOPMcIaDh4FGrO\n",
       "043JKFNEMuuR9yZs52JfSANczPerPuoIP8kYwi4ye4Tutoey5a6tgq7T5hG213lu1w95Qox+bWHP\n",
       "SgOMYTcCO30oS+Z4g8PwRlSPRGL94UnbnlPdQ46582Njtk7CY+KsTgcYXDKj5sLLD0xFineA5GGU\n",
       "cpJbYo9WSKvCR9QUlmg30OORNB38MzgFz6yb6CiEw8aoSlH5gN7MWRHpheHZmD1U3jQkACZfv5KJ\n",
       "tzmaDUm7gKy9ib9DUpk3XdWVB23tOKPHtb4OktaDt2WTSkziQqxnZ1epXZFPaLYrOw+X1TdQ1AUD\n",
       "V4qz4flimVNmXZpjQFvy4rrpBzavk/B4VKK5t8iC2JXKpOsdv7nLTADQLSkfKXx5jxhS00t1dEem\n",
       "Drm9T60Dn+zm9zG1cbqLh0DgA2GV3DpRZ78t8xRDNCzgRv6LOpyD4pxwyJIhF1zdqTFeG6C0sD4O\n",
       "LkbeWnAplzGI04u5LtCFDPKBCbl4hrP2SaX38qhXSai/eRcii8t7Ljl+bZVOOM6ry5/mZGlRzwn9\n",
       "C5/SaJY+VXqMDlqKhc6jjcDtesu04NHmcAWQFguPV9wYyQ3h1emtK2WBaNDHXRSrTxu8NRBBRahI\n",
       "WTpb5gZmJk1p+eLQ+ONRRhZgWGh6RMrsflXJ53jelZ0RMWOsvic4rrP7empHyQaqvfO5loVPFwE3\n",
       "aCBn4WAuDUpsgAv/5+XVUpp9zT6R/2ysph4p8O0NLQ8WckKwb3TzdyE55Xp9HCNZsS1hdOTjr7Oz\n",
       "bz5QddYpGm6ddR5PDu8NyCkmYi+Gv4Jld+bvgjpycGkZhvY1hRA0UUVeQTX1X1LmdusBci0l2jVR\n",
       "OuRFHqIRiXOlot0iCGw6/DCCZ6jo03P2HROwg7NHScvT6Vko1hNsjprlP4qNEi5P0DjaoGtvEoge\n",
       "N8zDnTcbmT5kqAgXijEeaaGDJEvyHpse9O0Cs6HP+eguY7cGlftmHVIgR/YHgMA5csDSohLng5R+\n",
       "f6/x4zupdOBY4YeMmHB7VeBLRc6RV6vt8n+PlQVY9AZp0l1h8bqyfCLbWavwyodzzTcTSA0vXojv\n",
       "W/ovZYjbZf9BSa5QTUK2vci2JY3hCMZMwEnXQKI+8E/TNcZ7V+tbIK7SPojkw22H8FxNey332OYE\n",
       "MlD4oWdirkCvsFovf/gGcDV35Suj7ruhPU+I65gr0TSHwhaHSzsJEhy5PKOhmrBGlmmPo/hKy47J\n",
       "61NfD1kAErtHwSBseiQ8dV9VZVlkVU1+f49pwFz4Vhh5w4WadXVRU98OqEKWI5wtG18J+HDBQ2Hv\n",
       "Aohj1zgOnpLjx35kDEL8I2YnkxYsy5sMzMvMUGshkfOv3d3JN3C06mtN5oRQvE3bcRrH7QiJJ7PE\n",
       "jovNixxkscAKh2gUn5jlfqkeaLXEdDSTSlcg5qD7zOY51zHWwvim5jlOL/WIibc0I3T+2CPSa3iG\n",
       "U3ewQiaA/ba+BSwmuuo2mBjntRdDgt6F7z0NpkbOYkgp3Rt7I0xNEWpip+ZaHU9DEn3DHrkdWUsg\n",
       "yszp0t1TzyN+X3sX+SAZT01uYqhlswqFuvV04JTER2e8hZNXnPL+8HIEgeFrWHhtKflUXHN8nb0z\n",
       "PcX7XEojX+hGl97pWERTLNKtAWK2WLPTVakriIoMx8UlvooYeyt3W4VzhgtwsDe9TwQ4WNb7/iQR\n",
       "hvLxkhhIzDdlBINH0e32nc5L+6NIq/siY8BoWaH3eLATMC+RH9xqhxqNdAwC9R4GSs0zrncmMwV0\n",
       "mplA+L/zxEJuQ69KnIthoKejPb74lFD7XGghEOLc0nyn9nYuRlr0cTeTl1gKqbGLwql04Yl00EFX\n",
       "V+m7WJGyG7Yw+ROG5nMJXOggj1l2z1gNAE1BtLanIvHwXvCoC1tXXJYIhV2jiksvIGwGdWZ0l5+x\n",
       "gvdhzTtky5L3nnSAKWD6QjEvFhLYMb2JTbbq5s9usqqpNeuo58hwBk9k7cgVe5xUO9hAM4KAw68m\n",
       "rdQvZYgudxFV8WL19hPHZ043ESM1c3LEmPO1ZFjQYy7HBZpidGw2xwdnQIauAQ8HFfNc9/vt2vpF\n",
       "t0AActEd6NEWhxPuJewJoXUcg3v18fhE9j5Ul6jyYLbyPAOryfN3OYH5nBwcnjobYjmcfK2DJOfj\n",
       "ktEZbzpLJ6nLOxlphDhNJ9j82zqh2QqJSOtRXAXViJbRn+mxh63lW0TrscNQUEF3zMuW4zodkpX6\n",
       "Svqgq9q8vTfH5EJOTYvr/NctbSoa1i4wkl7E4y5g/GHWQqBJ9UeGWkmSHtqzPnyDOw/V8kfCp5yb\n",
       "YeTiFEKt2gizzkkT1cyaZIIJDNIOtHGEftvftskOK8cGnT6BBIMxG86as+huUNnChrx695uZqZZz\n",
       "MPv7oqPLLSjZ3ah4y11slMCaes3o8eSszlJ2pQcTWJeBv8AcYdyLEGUFl9e+XPg1Us3ipi3kzXSR\n",
       "N7h0L4FTvIqvivVm3jg0NE0oLHIVgRfj/hAhFTV+CEtaSzom9BQ2IFJicxmDPTFKzBF5ub4yBbib\n",
       "H36mJxW+oi1GWaR54q/HdxneQNMcsaAk0ec0K7xECAHMsSdtHR7vbYnb9kIlHHt4UP2pvOTXo312\n",
       "M1Q90ayU7pQZw1qM1R2DQxKWPlgEUkN/XbHx6ahXK12wuRo5qVozLnPecvJdB+67dSA6u41dWWOW\n",
       "bexyYBYgA89ZbfejeCRVBn4/aIPH32qGnXx+qhlnpkd4O9XghUZ1FVQpOD0jbI5PKNttLwZeSGFi\n",
       "KF+ZyC0wdXksgQlJqqBzqBEu7t1ns+cF1+PW6PmfUMZiJdH81+3kL2FZGc/Xk0EBUGvKE/sgdJRe\n",
       "b+eG1jwqC3j0roCJd70f07/Q/xuiQp6AK9rpyoGrT6nzvG3JxRzNDpS4sitq59z5e4rU4Yri4Rio\n",
       "ii3fTBFM2tSmbDizYcb3V4L1gAZ5gUGgejcm4IxJ+I+KHO9AeVQUqoOQ7rDCrwG38s1v2+dVcef8\n",
       "iFp+IiStJcJeYZ49hf8EEginvbvR3oXfaKJv94P7NEoSjQ1OdMyaaxTvaMCfm39dsXWZ3KnW6ySw\n",
       "GfsgqTVPzaJVToRrQZBx1o1qewn8k1KchGZvHeEn97Jm4jLckcA/qqZTpdc29Ga23bl/krQCMfrd\n",
       "VJX1Wl+9ldiv08mR0BAcu4pVoAx7FxTW4C6si48vJnCiPAkiB2a82qOIefy5/bZBHfQMrcbfvndu\n",
       "OarCo7wVaa1de35JZkOWhB9i/scPvEhN6aSw/naMTua1SK7b/9e/7m42QyJRS7VpGtTlCbBAzKCk\n",
       "OWeJ+Rtj+fw1QFBB3E3qy/jHFd2jQv5RnbrKgjD0j0E35BJq71WvS2ipmQAAAUxBny5FFTw7/wAb\n",
       "PHYAA5JpGj0V1asxOYyrmaydn6g8j/Mkhg5haT/+yMz/F1C6iNt5QFRTmu8PYidch/Vg2xXpJ+8j\n",
       "/3Zs++kLX4M+rfpa272dD0N4KF0rxhJwPv5/whkaSmLjYZvHWnsZn2hhYFapsOTBoa/Po95t1hOi\n",
       "qJcSoZ2f6xQiRZQgWxz4eDiWvK9QzaUa8pUmA62Da7MquufOajnC95ejstLBRAhqgmu5hMkADm3q\n",
       "sVfWludTV4fQ3Y9EAK0T9bROybop4HEjxmiLqV9fqPCHXlCoFh3/7FAtZsJ+qIOSHwFu8Y7735UT\n",
       "o9ehjQed2arIWVDG44tGy6g2UxCTkd4h3y7FnwT15KJVHwjjTTsIEwpJIZ7s1Je57Qvz2lLND1oi\n",
       "e2ocUCvDFCpLJxRZuNMpYyvuVYdlK4E5qTvBW5DX65BAg+/acQAAAWwBn010Q38AJreItPXlqd/o\n",
       "wATqA1dHNPbu1eQIPqEgKRI6A+oTNWTDwlOrO6+oVh6izSAFVEwX02bkf/mu1TMwdv+KVwAf4GHR\n",
       "eLp39gb98G2iG8GNgCwLelfZ/0ghmH5fqSq/M5vDwNmjNhRbbs3fokCXzHnQTflDiQdMTeimQnUU\n",
       "Ltp+oUSAUIjGhHaJcd+2YRSn5fiTJzexTI4FzPdpFsEUPVUTYUOIs7YTpo4SanhF0ZhuEcnhpERT\n",
       "tlh65MXMdDfESO/vbz3ti6MXfHR5UWxiDGjEZchhVLRHeTottfH0ntKSqlQ4amlnvik3qmWSJAtg\n",
       "xmi3NIl4lruPP7iI/7iu/dQVdyjnWUUlX7mWKw6jxJwUI2OoDcvOVjygI7h2v5NJo15aqSD+Kzx9\n",
       "bu2qVn1+eb/A51PjBIZD/MqA90lBKm8wVkJSZY86ogxe9gcPAIlXHrqLAuhF/0+GXrsuU0HKl0vu\n",
       "GLJVkII/AAABLwGfT2pDfwAmsZKRhvUAc3hwJsP/lgtvUMHas69kU7+ApxMCrZShXu4BQiloD08X\n",
       "ohId4cxQLphLH1FbMzRtqhc2a7dEjQ3mlkADja8Il8U+v+sd/NYBwfkQ3/ipZQN2NoASmC0Wb45c\n",
       "fLfWaX3tSiHqnGMkIUnf7REHDAngFnEr4TeWY/+0hvQtYy2xbjZ+DMdgUb2gFZrz6OqhwMPqx3Hp\n",
       "oSSVvUi+X5dY/iwxjCxd8J3BKewvVOB9bRHvWvuloYK3jTGdal958WqWA5kmNAjimZ2ApXrop8eh\n",
       "uTsSmDVh6Sw8BE8Jmsk85RGd2d5xzIskQDs0/iteOlDZcMkobd/8G1hMtMvrmhlav+ghE+Go5FFp\n",
       "813F9jIJuOnQ3RsUAl23pCY3445Ghgxj/LKVsAAAC7dBm1RJqEFomUwIIf/+qlUAEwQRiAFsHK4Y\n",
       "lRYwBLv2wzD2Tbn8JHcOlh4uHtHekh9r8ECbUz5oCmnrFpU5zrqLjCvZ4cjhYXpcLqsyjUo2Kw4S\n",
       "v/P/docX6XHPIP5o9TzOpyOAgI/lgZ7WBGnkx5J+qfxnazq0oCAFDi4So7xrGgZP7n6GZu9L7qAl\n",
       "NctP6yBNrwzbt74lcm7m28RhFRPojcMkcZJRXpu+uwlGlQFYIOa8cylULkUnGTHy4azvLBMAs87b\n",
       "Wml6up3IvHMr5Xk7seE9hL1LXuEk/WWztVwCRh0dBC3gno9nVJuJRYiUabRhvrwbLeC+Z9baglwt\n",
       "pMTkL3H/ME18JtCChNXNmuELqp+NkoHS3yMgdo7mOndzHu5WYyo+yy7q3E9Aghyfl3Lr+BTYAhvj\n",
       "acVMiXtLbIuXHw0SYUNZhTnUKq9/DRDS9YgAfje4+rHhVEYAda1FqkWMPDQKCSr3RnRb78wVagU0\n",
       "Ed7fb2cS54It34a2V/Q1pt6QanevLOzhIX8cZYAAJ/q0vg8uBWxa6Yk1M+2AE+rHxDVQ7HrPkPez\n",
       "yu8sZGQR10nnLBYy4VrUxVzToBY2Cqa+Ag9ylRadxDGJ4Wc12zwhEuNULQ1p+nBn2q3ZLa+kT1WR\n",
       "SNLSejQkFvETPvyo3gNfZj17fJJuGxSGSiYm3tZ1LlKdcNNmrQdmTb6RLRpKFcb+0Kk6jj001J3V\n",
       "xZeRrX3Kdg8ukmcmR9Z5Rdc0M/DTLWdDfm5oHc0BB4IFv3cH0TgRxOkyQxVIXkZDLWa6dSOvAABq\n",
       "0+oIFQLDFrDCU9uthVTSlGu4ru0SzRxYj9rPYY9eCd4YIZgAoTrY2AJqiQhHXALthEZPjshMb3qH\n",
       "hozD3sM7cNv2n7QTNH1mkoC20RhKxWEtdSK/eDk2xUIotWeYVadDaWtHQYCWp0sdGmA58SToIBtN\n",
       "Rkkao/QXXTs3TEjNxhxO0mmIuyX4Joambb/V4Dqd6w9EvKdQOFiwD4tvU/wmgxD1uVTksb5aHIz9\n",
       "E9557I+RG2x1RKbG72RFr0KGhuZh3kf2k9L3CrqEDk4AAAMC3Hzn5y0ziUrJhjPUo5VRSCHegblR\n",
       "+8yTyUL/Qs4zqkZYNR7zBWOgnPMWUJhjJIC3YWqe4Tf7vS1q6xY5zOi0GYFiku1ZJ1O/JwSoaKWt\n",
       "qj55kFXFHe4XwWqLK3CbqF6YkkalgiJT2LdVM55JY9tng7h/v5TN2BIR7a/yedoOF/yIx1NJrhUR\n",
       "aourQ7PXbyxOn4mBruaVfQ+JnRG3J2p8FroqTfVAjkGc0vvHWMhLJl5nArQJE29VgHQMCLozg8ir\n",
       "+WbcjdYcI0PB6C+JIVbQyJdcwNi/mqjA9HilRmML+IWPx9s0TJCWAKe3aGsstQWshCelJk6alTsl\n",
       "dvYwvSw+92zgCprTB/qnO/PpPuzU6RGmF0txh8y7v7mkgexCJMAx38KDNtVFdk0g02a1iNrw4VA3\n",
       "m/ryIK1WJb0MydQJCGCV1PHLBC1o1nYcqx9M3Pxh3ebFD5xVr8kDrPfAJMJeZfMJYybEbN+JJHeh\n",
       "9htj2jjhUfESXUaJzvviLzMU2s8Ri8/CCOX9HGA4WALtoACsCBMC/1JUsMMSRY9sYYFspnLxameJ\n",
       "1HxUqShaRoaBCZOyuIEQjVlz33h3pw/kcv7WJLQrty8UM5dyvY/6JaLqHTLMrZgz/1XNbRYglIbZ\n",
       "3PXLxUsGlWMc2faIQ2QggEG8OvwnFkduX3u1KxLfnW+PxuH7KqAxXcHMNZbY4zBPTwnsgS5Gemiz\n",
       "eV5hPhVW+K+VzXMaIgqE7aSShBbzJO7NJx+tErFXyPNRMEqMk70wASA+uTtJ8wAdHm5YsW0CQWy0\n",
       "+antZTbp0BQ4zLGpeQ+lCd84M9uOvtacDXTEi0FBn2wQyyX9YX6q2RLgu28XHPfLkwZsUwwjHZom\n",
       "E3idSF29Na6A7b3hTfoegwGOtFMv4JwcAQsnkz1IfmEnrFtnp5c0QE4evO7SuAnjcDlxCtFsCpNC\n",
       "ERGdT/UVnruH239+XW0r3GXpRm8fp21qk8+JdkGqS4ipvzL7o4UHfr2aiHk1r2UFg9FLp+pcJqVH\n",
       "mgk4BjVwOa8wZxE+IpPWqC+iCwa9tw7dBoYsaceP3N/j57ghbuUEo6bXEOzEgRG6SnCQqvnCEdBF\n",
       "xrkCF3iSFjlZ43xpGRkqAZwY4mAK4Y8lQ1bsH8t81mo8ggsLbjnKVYDCsfkAL0irQJ57CVj7n2oG\n",
       "q3S3S5HHZezWYNx5FmNuX0mjiQ4aFikauzAP3ZOcBjZJp5ZgQAx6j+4IYHs3QXUCwyTbSkAbsHsh\n",
       "bjHWFQRI25G0jES2V9jCZrJC+nlxDRgvh3ZEX3QHcrefwI8/8k5N7rpGQwqLTFixNI6XR170Q85k\n",
       "sHvZFNh94s18tLZYZ7/E2MvIY8aW90UlJ3yt3i6iOtUktvzDs+/2aSwu4uaHfarijponcOO4Mwfh\n",
       "n7tcDPaEMQgObEg8G61UJnBRgzZ24d0uIReSnVdFDjlzESiA9jauSSIf5xeBt8/y2S8qjTvz2CyZ\n",
       "Fw9XNiTJtuhOIyt4k0yZRDC53qoZ3OnbXslf5kH0OCRz3u6VkPh22Zw8PElmAQUdRnNl72RQBdZY\n",
       "aeBEl5BcOF93+8pTSKhfOZf5dvkuDvrbMtWJ5EqfZpuUr6yYHlT4eVS7jHs0WPJlGuuQ+RMt9pPG\n",
       "lf37MbCqFZyLknPtsJNpf9jyn0SSG7v4TvZrltwnQ+7p1AcXq5jBueTokTEzoBgVI0YdLlqJAQwh\n",
       "J0Dl3j+6yz6X0hwjhgsPJNeeT79r0ICdLECjncKNFO8cLsGWtLWqxt0UY1g0EzQMFANGbLjsXH4F\n",
       "N+W9BKMHfMrdTri+kzmTjX5BhyAAHGuxaMy6M/kzj7W8IApPweSuawrid+AL1YWjLU/Dh9cugdZX\n",
       "J8IYNFS7uZdxuBD4MnUnxN+a8HPeERPGfgHv+d+9tuiAATFP55jk1AKGvjAKfJFKVmGldDDOXa1H\n",
       "Nmv7dPtHjNjikwsyovQChovJB7nBM/jQLHVq6QE9Qlfaega3Sgn1XrJsgGFBjxREUqXJgY4Cfj/y\n",
       "r46849FrXLpBGxSNNxkADvGM5EJGNh8RUPHjQ29f4cLqWF08jyEp7gUIHIcn9syKqGoP0DSe0Bh/\n",
       "5uyMlAQ86t0XklUuMOUL2OnaXM/Dg0IMNkpkF579nUmF+NG3+Eh3Lew/lrIwbDSVYuXRPsjmJJ2Y\n",
       "bgpDvDj4H+aLdN7r2CThUXN6w6fMBvcYXtZdghpTMnPz2XBimnxc7rL5PZlkb45R4TyKFTloN5k0\n",
       "dD7FnCh3dH4X0TiAVfKv0emY36Sy6udIJPFsScoX3e11EMG61HBxcU2d9zwHJujMK5XFMV9/ffzm\n",
       "FohliJZWmOQKM79gZ9zZxnFlW7qeeFuEUX4aNNt3x/6AG+io7+/uRd/n0eZcc9Fl/CH/c+pFwsyD\n",
       "bwnkXkdMfXBgWtc2QV2bddnuHKNznR4ELrkkvmiK96a/+HcARNzlZIUfITZoY1VRG7NORRTkTvFD\n",
       "y+F7czypIS+cbh+yJEIZW3UE0kYXZMDQzT0QFs2pTnKEmDks4JAp36ffPtyzS2ZzIz/okHXMzJBh\n",
       "S+y9uELyn+X3jHShDa4xhUTO5814OCPJuYH6/5KBAnb8fF3OAjMj4tjMVoz31CyGVCUAsXdTDA32\n",
       "cI5ToUSF4/YplZ/NLYyGY8aI5WiC7ro8IM8MwGhDXRgBXKUpD24Q0pJyDc1nZTPxpDtJ8B2nYG+0\n",
       "+H3FcStH96Cy94T4PG8ez+o4sHBbffWWSpqfZxynPRFmz6ePD+o6XBHWQEjfbzVE3KODt1I6hF+2\n",
       "oaUal/RSicnVyvt1DnsI+fICLUCdQnc2HQl+XBdrKCMEYRGp1c10c1BJktoymBF1PM1TwpSiJ/oO\n",
       "W8wCisQppZdCJtbknDtCU2FaEsBIY/FPD/DN5GK520S6ZqTFQwxTLqIkzN09Y64cUsmNYArpgLfu\n",
       "lIJYuwPXgCApSQAAAXhBn3JFESw7/wAlEf15tjhBTgYL7ZiK+AImtb2d420a2Txom5TnDqzBqOnu\n",
       "bIxVQzX4AuzqzKkC7MC1ei5dWVABvadRZiuQFmOoPdouO73Io7qxUxJc20kXlo7mXj/gkkV1NMLw\n",
       "E0POcE1W8AhWNocEWN6jk/YU8T3AP+G6MefWt0M6EY/QBjj+0OwSCeHHMVTy5ySm4niLayeu14rh\n",
       "b14AimsRKdbjlGljsDGhEeSsDBwr8/iZm669coixHO/DLUXVEphV+iMT26sJ2Xhfxgp3jdAcyEcv\n",
       "pozObkiFD25/QE3psiYFOfBekd4vpsdhTkXxPtCUEb4u9aRxcJ8u5vaFHCpH5XyU4TV/kXnoGp62\n",
       "dUPXC8jD+PuGKRXQHHEDqGanjQnqGsaGekyt5uZfsCUqj5bIzKIO+l42l5ZGtmg1YfISfoGm6N6n\n",
       "dUQSKgELNQEoRalNLgWc/qEeS1ixA2kicGmZXw7wv7CUzBhzuIZm8HdkLC6fX8PzAAABUQGfkXRD\n",
       "fwAxJniAD4NVKhQoMvQtH69TsHR6Vws6ycC8csleUTJfI0oCAbnN0eQyW6AuqgoB6KGc0PwRcCWB\n",
       "WUFjW+VUt4gkAUor7OrZdvqPPl8Sl8xVeL8X1Yd5E7fl/9nweJ292eB/Yr+iPvY4O9a2hl0z6WfM\n",
       "UwA8hmDr3xTgvT028U7GTqIqITBsrRon5fQGeH+UPWv61xcR/sI3VYrU1godL1lU1pMsSz99T/dB\n",
       "OOFnAsm5sft8ZjTrPbvw3KeGtEos3/epNvYqP9Xr6oesIY0CiCAtF9pXEHZbdNztU7aTGM/iSho4\n",
       "dKyCNMY/jU2EAQ8XIWfhgcBzlt1VrtfQFT0TbtAT7J2vhwXA1bO70qZRZZrZsoE/czixDptAgIT8\n",
       "rsngtMG2MwM7scuKtzcMr8R/8cWrMA7Lfi2LwbCFjzkUFqhIWGWTDbxj2v7fyDgAAAFYAZ+TakN/\n",
       "ADTF0mIL7Ur/eGM5oNywmZy7IFAYJax+xoX5GBPK1v9zLwfXWVsH6QarkEpD3QwvhvhBGHvjLJvS\n",
       "rnR7cQsQA2Wgjs2Sr8JZb4eVwUy6jJAQnqcl16WS1nT29M2AANe1IiNvLi2xWFEki8k6VrK7jgcI\n",
       "7kkYj4BZsB3WYSxWzJgz3xJ4uUU8Q2UgomQSacIjPwsueKb2lIT6eYwS6uvqPnOoTduZa6qdqNpS\n",
       "WbtmlI24TOCPTZgde76dqCtOefJubj+9BmUuHVlik/uF/zBQ4GySo8hq9jc5gAkLoiRfa3CIPSO6\n",
       "YQAOAlAFHclKwYvV7qfC5nYStjkXLHJXPaLJuSxJlKraDTcF3a8F6dxto3W4nEygnxI86Buoz9Fn\n",
       "V7JvffKxCp69kfBy4xwKWnpTj9fPtT1WQ493bUfIOSFAyQoS0vmzGWjfo94TbkEvPP1hddwAAA+x\n",
       "QZuXSahBbJlMCH///qmWAEoWZPmXGkqGV3uBQAjBV0JcNHrhtCyMrFRBXjP7QwKqdO5dzXgiaYw1\n",
       "o9SBgO4z6zfiYLMnI5Z4329rPhReuRUXgGTZoYwbTvm+cn9cb//zLhPExM0CvSRGP38CKsq18zX5\n",
       "It1u4ZAsVMkectXkatpP8fBrjrzMK9k2SBDCUXINmDiBwLpr35xXIUDS/qWaJOi/ERRY+Vov+v6R\n",
       "wwwW9fj1BRO0BuWwNIrICK9jRiQHZ/Tq3shYWD0k2Ial/iI/nfsR4WvTcsHcZgjKfPsSLnGVcRks\n",
       "y4VD31aYwIinsOEWWZEWHw2XXpey3Rpv/VDtLZW6OEWVhY4W7tDuEfZKUj53YcT4DUETME0FDoLm\n",
       "4RUEUIZgatmIOMc96pJYStKLRCWp0DZ/7bGWONTf34dValTgjaLQep1nTyj2dzlkAqBmrbmW/vFz\n",
       "W0CEQSGJ0yp1sLpVzHnwjr1viPFxK2iNjC8BP+K/Z0B/IBwPNM1SHaHxpesjZbyZ7dz5q5tyKpJa\n",
       "Hr28Ug9wudn+ICAQCf1LF9FgVDDQBKwGmft/RmRubY23HNQgizOW1HwVfKRoUOzmUHGqsYk7iAIy\n",
       "1TiVJvgjhhD8/oFj+krcRXPZmPt4iAsr6qmhvDUFqK0VTrPvT5GfBARkYZBQVhV9amrx6zmp0d8A\n",
       "lzE8sTPEGW1Y1F/L28xOKzgDmOibxN2RE8E+C39ll5CbEUxB5zcSp4KYkKoLubuLD3Yl/4Qe8nTd\n",
       "5X2DKOVNGiFhhtG6bjjhmUL2Yd+b9dmfoKcKCUUBNAqk+3+ji/Tx4cplJ8IS7nG59+7oHE+oGPje\n",
       "2zo5vhhVlgvOwT2gTgg/HrapBbXBCe/7f9jkbiAa9NfMBfcFF5AaR5pR1oUMnZajOsMzWJBCBtjH\n",
       "aLBpmMxsbWBbRFOOwnFssfyf579SezMGWeyfMhRHFNNgkbZlRi562EgsJicPq70NkNwgUYSUPmJp\n",
       "iyy2/X8OCrcHgNER5rKcCIyN2yY36DKU+HVEbKonMg5Ncdij2ZJzayNMNZStpHoh1wYZRoVpC3yh\n",
       "JcFhCrz6HmcvbjtAcM5kmFBCCX7N8leRA2CPGbrjv9og+lqofuUYkEx8STwFfxqpPHiSy4UYGYlt\n",
       "bTvhQwmaj16xv4bFyv5V+yucgpso/WE41iNOKTXXoamIf422/mG+sDo8NDb1sfn3kfWzHZypuZpM\n",
       "+u8JRe7BNnWcSC5kVfwl1thI51HHhMpCVsXEnj7rEc7sbw0jkY3l+KYjjoKHKWXRz2OuUK5tXekw\n",
       "NrAS/8WZybi8ik3oSXbjRRw9sk6lM0Z+cD5z5FnU0iWarog/NaMKdL4PCWieSIyTM9A0S3USnNSQ\n",
       "5WZU+VCN5kIYQvrCYpUu/KAj2zuJFU0ALNDTeQb4nvmati66iGntW/y4Gqf0QdyljyVeUM8xklWm\n",
       "wUczjc31/tjShrI6ieht9BIvVmE7dcYx8Hkjrh/+l/k4vfldOf5BxSYfZsvp7VhPHa0JtPys2rb6\n",
       "GbcD0W/h2gPdRAAR5AQyEE4LHzOVhpPfH2iTJsSywY7ynN8oTI3seQTxfrzsA6VISbMofnLdQfXV\n",
       "iKAFMrnMikl3hzgyrY969yzwRgLDS2p130vp+v6kWtItWH1iF9A1HRS5m253qOFEjmWM9QKzMWPM\n",
       "L9KyA5ojmZLW4K519WG/LE1LiQhbDIghS7wngJgLY0SSma6llPzKDuGd0yq1api5Qd1uC8aHUT/9\n",
       "oUHIqOtyeQWFBbmWYj0FHl26nmbpUtEkZOKaw8hm0/h7G02VHBBYafMPxe1/x/o0raRTgBvGifgE\n",
       "3aCDKsYO5JBwQoJqbK1Jm6a9Zf6R+ZtctkwydcuHECQjS84M6DEdFb7UL8k/CS3PGyEJog9AXrb8\n",
       "EqrEZYeZIosuKd37IpmbxdNIiyV+6f+7XHE9vxRXM2T/A6ACZ7FE6E1s2MouF/9Cz4/i59v7ig7K\n",
       "Lb0hcEeaGXca7sgEq7eoU1r9yABTyrdOnH+ZzL1ki77sgAmzk+uqnBLOesH1cVSiTL4ZG3UIfaTl\n",
       "dl2J7NwDZYg5e0ACfjNVuU1BUx69GBIWM6g5qK7qJbLyGD4W0zLgjFM5yDgBmWAo2mo7b7IDwuwd\n",
       "/O71BKQNUlEZbmXUYDK6YqqrjQYH4AdMdu++TPae3KGYNf7cMmF0TDfxdP3DTqGn8oVl/5pXd3tl\n",
       "euu6w8pVyVbtCXuDZ9vsFqdLvIBZf4lbRq8MfxbthKW1U9mrqRhzA1xT2fSe0aOiomk9k7exldVC\n",
       "RgJXzl4sNaaxIC3yFEu6yQAW8YrvwAk7QrAY3VH5buNMZ4xvCGapKBl4a24IVzTOPchRBNg6mSUT\n",
       "tWGqOQsKjFbnrdoEcbPkY9hK+Y64ALDj5+b02XJiZh7AhkdW4rpZy6fE3fG0pnLGxX8vj4O+E//P\n",
       "99z6TBzwTxy6dnMbPa1Z8rCFsjiSwpjEQZFIxsOfi0SqPgwepXbO8MvLCNErV7/iEMtrf8kvyrTD\n",
       "n9okT1LPcXkYXVvqQ2uQYuWnodb7Gzzg31fvr9w7J+GhN29pWmlR6nFxrRkVTybRtpd0xIcbNfXZ\n",
       "45SVEHggbU9z+/M6w0jzTwII5ACipkcBxBlZ7tyMjtTQ4SllW6+OCO+mg6n/fnB19Ym3VmZSeife\n",
       "iwlx7WYvrLZpFFBI5dD9KGeP7/h2ZmyT+1YgBb8LKUM3W54684o7UFTH/hkPf+rIUbjs2pMNpHyb\n",
       "RJGBxNaGk+ekesoRLrDpGXqJqvwppWViuK2EYMbRjB6tp60d77LW8mxtgdHKbD6ffYIwJiaGAega\n",
       "MnRGo18XswKDOpC/vd6e89sSmer7VCmq9lSwfOYG13nhlltxwGUc9vCKvPhzR1KOYuOCZPRxUmgm\n",
       "RsnJB0+GYhlTOZ5Quh8qDYCIFAG4I40vKgE+ouxdckP6hSgvRKXx7t1z75DV+T3/CLz3MqIcYGAr\n",
       "jBTJWm0d8LzTpvAMkNWJw9AbkDS2iVkhjwrVdL9WTKLwJtBj9WMl5z0kz4hLaS2tsY9PZWNJ7pMm\n",
       "jixmf9bs+iNPRcmXzmBEIskIliRzh9FS1nx5yZZKhkJ7xFpFcDvC/GkO9U4KJs4abNHqaBsHJezt\n",
       "A4TdKJ5iSap6VGb8v0QWGvS62c7ldKSOlWAP4IuNGzx0gqcRpOw6fmU22r7WITWQxaS3/TkDmRkb\n",
       "KdGwaxdtPzqTbm5ZeeXvbU4sdJEXIUIKd1bpMU8lrGRMK3hA4ZUXq7V0aC1OAeVZxd8FgvXMlDvz\n",
       "1U7KplXfN08WhVln/wuhCYLSPKYJrrThrnVSBQi+IxtU2zYiGhrF7+6eOQq6Qqk93G9udIpmXOqm\n",
       "QP/dWTsMJ/aKQqx7Ivj8vTYiJRoFuI/pMUMxc+H6GMJRPNwPeRGBhdnh3GC5cikAyyK0V0A8y8+j\n",
       "RI59qfnqmafmI/ZjxWdfrZdmrcBmFAmiV7ePhAN5jZt5oOyd9vYFH3TE7AYYbHCQP3jTWa8aq1LY\n",
       "erUdg60fiJFqWdF8/kBL6GNQr2OvCuTpESeCnSRStEMkVYNXCQGtxI/guCp1q0YQTIJoChEHbEFv\n",
       "Okn7TFe1MMqlGR+P5GVtpRB081viNSROZ9bvhFkAFPw7VhVaZckajTzQb/yYxdrZJ2E5cIHxUGhD\n",
       "FSwEsT5le+wGalHCgrz52uHShzPiuC3uD+pIfIRtczWWVE6PjN9QcZRtBh5XjrX0B3ZYS0HlmGLQ\n",
       "oxTEO/tSLTKj8ZQaPLXuvlVOgV5ZAWkXgnyLfWPeRGbayNOiFZZ2oq2uwq/Kp6I+ioicl5H/5b+R\n",
       "3ENZkXILgZLdXf4jVw/OtHpd6cf7p6jzpVsTtd0IrY11s4y5JCUgJa/sqBT6i9kjC6MoQTLp3MZL\n",
       "9vJnByMyw90ViNX/p1EmOwTxxL1hdTdbxrWO1xEM8KPkVfelWE+A4x2OyHr0e/t0XbAL0TMkkg4M\n",
       "TjxTZxzIKEJq46e/tcFOPmp8wA+KqDPwe5vIx+VAGa3L+TBR6cOBpPvKDw1bLRTiAleBkSIC8TwI\n",
       "OzjB70pzuseoIKL+y46HmC7O5DNRUMWcv5+CpUe5ypUtuJF3BeXXEnng/irSILcH3AhmbuYJC//k\n",
       "SQEatHHyiLDz/F9oDb10MKA8vnprm/Sct7wHgdd8Qh4RNSb7xrUeuS8XZpObt1wI9QVSKrU/EySr\n",
       "8HX+HvhSHhlF2iI2+WDYGwXrwdA8EUwkkmM32lmZ9l/PWeJRwCL7lLMBuCBc9FXFtqDgjUnOzIu3\n",
       "bzz8gmDhUmo+Nvozw4RAOQ0oyZDI6x/9/Zkb/iS9rl+kNS3KWCsCZNhegQY5KbYNg35TX9Lqd29a\n",
       "SV6upXDPVRZTKLLyaXuVBThFKc1nB+5jWA3sBzTPA4dWyw8XJh8lKcCNQsDazdNokLAGLSzTdpuG\n",
       "BnvX7llGQ/UW/XjDdM43dPw5Rhb9ZdAGBMHT6qINMov1TzpL2mfOUZ4pGdYf0QDOEeq3J11fsM/3\n",
       "zEoiUQ7dIREz63NcO9r4nfOkSR6ZDL5POX46vRSlKFE12LnDvQ12zjZGUlcphWHy45YcrXY2EAnI\n",
       "bfv6eMNxjpdtEtBMvdxHnebQRp/gbb+YATmO9ixrO93qIzb3u6K92CEp/me73E27ZS4EshSexGGt\n",
       "D9gS3KlR9tCNY1Jgkjwn97IUnY/vhmdGW9i3+ptUqOQhWLIddqvfSUH3Jlep04EY/CwSK8CaOVV5\n",
       "kR3xK0U1t0IHDnZTHi1zLwzEt7cBE0CIhpH7I1YnTwfuj9NQuUo9wGWjYrWmqACGBL3Yjxwx+qki\n",
       "q42QN0WbEdRfRWc2leG7Ep/N1ST8iFvtCnt99ic5nRKZaSYkKM9RIju84N5XKwhRbYVD7627Rr+s\n",
       "ms1ktb/otjt90aNap9RLeh6btpJ9qVaPpbuKXyjfSm8HDpv4XdQO8/FaX/r9hgv4xPfD4YfLCHnA\n",
       "aye1Scx0KjjgtFtLYb0Qedkv0rvdGELxzT2p3/6A736kOHTr8Sjnxcew1eE+MPbBLphET2M322AB\n",
       "K4JQq2VuXv66tXzdeurGnPmOB2XxM+C6PkMdEdCuQeZ/+nsNHx+0O5mdLlXkV8zUF5biz3Lg2ykZ\n",
       "XChcb6WimqVgueF/Hauhmvk5eWSFfk7FgrhX7Yi0LMhGiLuIobWXuKLMgY7rfOsrJkTLx9/zvDJZ\n",
       "bfN2aU5f3deNtDJbYLm10SFo86u1AKOSh7Vvw969pkY1Dk+jSsDJAau6H1YTt7jCa/SMgSShVtY2\n",
       "KSYVLp/vkeIrlZMdTaEL5g1aC/Mc1dw3eoIw9WHqCATUQWe0u48ZBDCPZ+kLqiG4a2j4f1brT6QB\n",
       "mdStnRdwVZGWn1txd1gc0POP7qx9utb+pwq/AAACCkGftUUVLDf/ADTAChrOtQBzXnIsr6EnWgXx\n",
       "L9Sw5ksAIM2vr5Cx3OZfDqaiguQSymfpqA4WPCfVXJ+P50Sd0Ej1SgxhMr3LGzfCWssRIpVOofmQ\n",
       "nTDm0ocmDcIAcITD+FBlLvFwL5rw4y23CvjE9JteWYTdLk99BqKOYoR6BIdNmwQAZGVdjeuDCN0V\n",
       "IWbtT1PF53Ca6VyrHrYan+842ZZ0CRfYR69N8M6B0zjeekJuMmfVgAnCVU7Lq3yzXWJLqOS2vzPn\n",
       "pZ6Na3bUC+jEjqazJbeVjVylFPdsi7ywqqKX2lmXRkvhmavkK/mlMT2V+g3SG+1Rgb+0uTJRBcVP\n",
       "OPmsMD61/s7liaQ7NjeltkqPys8rmgjUU1m0vQZQBESZ5I15XBPPln0DHppJM9bWW5ygMvdyd7Pb\n",
       "SZp8g1jTmEIIkthGmKLG/W5FT2LMttHsIYq4g9NypdOPlsjDrIa46gprqByCM6tZzXLK/ZHvB2D+\n",
       "y+ORDKHiy99jVuCWT5zuBL/DJo5wjeMj4a00r3KyX0vMiprF25lpjyPkpm7Fjja7msXQyhIKo7G4\n",
       "Hx+MXnUJEfUWhDGgEE6i2N5qcUMiMMV/e3ZdL3ip27GVDyWYpRDhCyiyEiFSdWzlfp8EN58Ppw9+\n",
       "+ekBa0/M3YHRDBUrOBzpp/kORZSct2GFGeBx8DyB+0hVl2pJTMcDwAAAAV0Bn9ZqQ38ADoFEq7Me\n",
       "RjHPmHwcwpkipXOtcmYWacHj/OtpfYqqai4cNdiWhJ3bY5zTtJU8Ffzqp8/ztFwIJKt+dY8peU7M\n",
       "rF3vigBNLYvoBIE3l9oVtfiEnpLeje6WwtDFsNZFB72WKD5pLel7kWGMWgZmcqvS+Sa9OXeLcLU9\n",
       "RBt8W3lWDHjz6nKHCClthO3rasIfPiLtbxpymQwlzdjvqR+G553UjTQWysEBCyxBAzIwF4IGI3Jx\n",
       "BL+jbFhPYeTbPYEMCJg41qXtxg0IPT/FC6dVu89EY2BrQ3zOCdKb5pzW7TE6HiXZJekyZZ5BoBYS\n",
       "26MnjFkytX3mFYaZfHUOoji1THsE4BXjSectpVBryP2QHWvP7H3czCaYnPFMkbQ5/awBWC4KZLAu\n",
       "9Wz7joOk7xs7qpW42zMdObDYZP5801cT/v9QZMy8KNhnfABTaSYzazyP8af4JprVFNb1AAAFUEGb\n",
       "2kmoQWyZTAhv//6nhAAZu1C2rRx5ADmaIIJNr9xCaiqBszTErNNjxYFuwJ+8N7/atsZujCyJ+4jk\n",
       "1kAhPbSpMJaucvfAMs2MQqv/JG3omSG0NNJMg7rIuCM21ACpFhCmSN0nQXN9CsBKOdauUOp//5q2\n",
       "9bqVnFUB4JI06rbn5bGeQUnM+8RRmm6U5slQm7CqBPdgrmMtrlNqj7Cm2pmuq+xBKMRhcRO5Wusd\n",
       "HsDz+929ebcFI6jbMamzpRera7EAnhw8a4wI5NmrREH+eLvu29mNtwe/622i4trIM4JGXDXfbVWp\n",
       "DsTR8ZuBMhvQ2GDi1Au97VtC7huJozcaQobTHVSKLpI0J6w7EYjEJt6GQUBo5lhEkScvt5qdTd3t\n",
       "FsnQQxtubqOWZWrC5MLs8sIQjikLCmU/y0+MBXEx1BLHVyXiIkjRL5BIJV7VF1OiQBrknlEYn0UM\n",
       "why7Qi9LgbgT9iJz2emiJ5IV2V/EiZH8MxqrzznOrMjSwz9XfWAc5MDv0MQEIWck/VMjTZkVwFY7\n",
       "da/f4rzgf0GI/jxS31TAdyzua4PlLTeiVkyB7Hd7Oe4Q4obmTo7+Sgh02AThrlE6NUX5OzP16E1+\n",
       "CQgkVXeslmD5B8SMju0F6ee1f78o7Yerci3ZpV9q0VUTMvM0kc3CBUlSwc61OmMmdgYwt8B3tw95\n",
       "1alXpYG4/WzuVhGpG6MyC4kJ2wD2sIKEgeKoQRS65ZVd7cOK7RrACmIKCL9fVDsjI1pcJVW69RYI\n",
       "sIwceNLfLZoACQiqcOVr/vIbvsV0etn+aRCDmj4EubRQG7/zC7eyfW7JN6cEZ7CkIpLASBUizQFt\n",
       "fdalq6hX70Gj2Sbplw6zsntI76QX5Mcb+8X0eLh0Je6anuFrSgNCYKbWhxzCU99QVIzTJRN6qQ8Z\n",
       "N4OpYeiyXbHl4egIM0IPH7/Hgi+uhATUyvksfs3KODWDWspLszegzONnTM9Mp/V5NU93cMa70ya5\n",
       "esITVxxRkoHzFJ9/WtyCxTQ/ZD4/9Wtyt9fuI3/iG53Qqs8oEM5vpiH6xlEnm4Np1pFjgeufbkk0\n",
       "NuBDK2+8OyNjfDNdl7YDpIOGyuT3yfeitkBR/vslsh18W5GKoY9JEOc5cfy8SSjWBN9b+usMGf0v\n",
       "v2AEPqpT1Dxk42wxi4/o57SsmWGZ9lPrXkUI4iCjs3WeEYg/ObZcxAEv8aajBF60By7vBASZ4KfY\n",
       "j+zbsTb61yh3uWUa4+nQbwh88Nyv1sZE/vWNxYw3/2+WzgzTvzhCVCDFv8QBC9DuJjZiMJX5ICS4\n",
       "H1jgIcpKRIiREpNKPidca+ZLIjvSkx0FMVgPZ/rQmkG3OhyHrkeGctYcSJrTymg5PwrtBG5HiqrR\n",
       "5N0WSXapYLXq9le29SSQ7cgoeSqgENO3vkxDRG1q410MrcZbl+DpE9Jvz2l6OTfaIQVv11+hWsMr\n",
       "wa/DDmzrmhVgZ8CUWEKsW6P25MUWT4y100uhZaHhOKyHY/wJ0z4s8VYjy/fIhXk1538M37hu529s\n",
       "LWZNuh4nGKiTwJjytf0ZlskY8JF0vL5+6gnn56Yaqx2nU7BD7UHup6qwrOBSNaxLayX4b9Y2Hflm\n",
       "a/IXPLoWlpO53w1EWSiMWMncvFnLxrtjkoYZP9cDUoYfF5IfXlQLFZjO6ekhMgUgttA90Ko/pL3g\n",
       "8lcRbnmHXsoZrP2e7oNBshuLGzduP8zLQA5wjjEpkhPO7Bpf2P/psXZ4Z6Wi+vLJrIfun+Raa6tc\n",
       "UhFiLkiP9UL/+ICejlcy2qgXis5Mm7GC1nBgrW3PheU/RLrAcspFWTDc6JsGiDEAAAGQQZ/4RRUs\n",
       "N/8ADoKVdtIfLXJuZXEz9t9LlVm5ST5JcsCWl9txkLCJpfo5ientkALqtK4seEaoufMChhZcDeou\n",
       "fiqQ6fqsb88qES+1h05UhvxaP8JtOAdD5hSYKo8/HnovJAwW5JkEXpLMKyz4CRi/DHrhKxGjmwzR\n",
       "/6lHCgC8VnE5riTSC+/o3ewu+nJncVkG/2H+BQZv+ZWfAql1nLlkmB3ltlPOEGggPaOCwb0k9GXT\n",
       "W+mpFKnwQAZpdNVP9//UPzzQ40ioGoTJT27sImoQfq9+zR4GvV1xXtokHJ7CrUgXHNuKTbiqDDF3\n",
       "ny5lH3zvvpVVaC97MN/xD+p8k55bRdcgTabaWCFYBumALfM7ok19rOIu8xiGzYi2cX60/LQY2EYe\n",
       "UrAiJkLQvy7lg4TzaemslqIozkhWXlUzOZMTNwKBryBchB9dcH+8lIP3WFe+EIDyxweiX30oJfEG\n",
       "vuDL171OZvG/x8GIGvW2uqYbogo8qQ2U5kEeyehU8bvP3jPgDw/ip6XgCNSM9MgYTrSTgAAAAfEB\n",
       "nhlqQ38ADoFEFDQpJSsAJX9HmheLoAZiWCl6DXe0ZrlyMc//+MJI//OPgsVK2z97JkIA0IalNk+d\n",
       "3HJXIMdHF2ZC4KJdtDkHQHp9crs0yLnUiMvj70om/lTt8Ey/ibhzACJZznskJRpNBA5/GR1sGa8D\n",
       "EqUi00lJoK7ErkBPl8Uonp+fSLqc78jCEDkGWIYK/hPCjc8Rvs1H/Lxf9XIuxTRmQkDyjqrlYwpA\n",
       "J0hm0f5kNj/RVtg1P810Zs3OgeiFuVNVw3pAbKAgks6as1r/AYE/vYW4NoIFLXcbMp4ZO1hRu/gk\n",
       "wB7BLLYvWEAQseo/gpYoP0BqJnVlaOhe/vGfV2krxcBzJlCUgr1cvTgevJELWxwIar6lZ5bmXpxp\n",
       "r7RTG4T8f623Li4nkOwUCOYETckIjkIP8mkJXmThFUcvT+6Hck2tmiFtxUdD2e7cgWd8h8Q0wOZ4\n",
       "9gtVZdOa73yDmmh9Bwdsbvkcoqr4BUIzCLsC+nyPMVaa/5By7V+Fu7GmR59M3DeiuahFSVDHGi1x\n",
       "2p8PljX8W62gLE3MhoDtfwUObbGoz/gL5FTHZ1QccN6O/xP3vqhOqgIpMs/rYJPGwut57VOMeeKE\n",
       "uvJwY7+leqdRKkYck1X6erlO/qlEle8AyTlveCWmmk9vrZuoLwSogQAABEhBmhtJqEFsmUwIb//+\n",
       "p4QAAc9PHR95p8jGJYnwSPtpKFWctA7rLfUABdSGwzSDSkZ4E1kTkENLIDJePBMRrhuDtDqVmYsA\n",
       "hWvfSOTTH4SjOcXQO9RzYqb2H3OB9j0yOGmbfob8JYPej1dCg4yw/4AMXvSBoMvP2PGTO4MnIHVH\n",
       "e04Hrm15Leot17tuujsnLpfDIW9aZFryoZqeCiMOBvjsr+5RwYIi+Alx/8Eu9pnshE13XA9RjjNb\n",
       "0U154OvWqpx7vuvPRj9rIBUK6uoUiLQKASiylhI0mOWS2uL4yHkAo/D1m27H+eeMmrDUIlk3xX5n\n",
       "EYur8WXY2ia5Olba3nlw9qtSzv+dkrzbSG6QRwb46hZY7F3dgvTvC8+EJUgMe5sdL33PXVjbmShd\n",
       "hJzojhJw3SmOY8ZGnzsrKB9zUi7bOG0pqfBdS/dt87EtuoAt6Tg+A8t4oK2grSm9+smjeFp7ei33\n",
       "UwbY8eNPhtYNvlAf+ZYk5tSvdF8MWxEm2wrG9d1XdFrkAnEF6Hg3gBHIR6XGqMAW885ucDfoozqh\n",
       "/SfU2fqG28I4DIYIPdvNgNBG9YW4KMVpajZLfwqJXzofhI0tOMR4nNla2rEvXm5vxms9Hb4pKzWY\n",
       "TDqLV8ILmFVJODqXRqki3vpwgH0rccihQMUSGh/81ke8go7SRiTqdz/aelOW7DnF8BxPthnH/rWR\n",
       "6u1wvzhKfUBDgHrsv7aOZy97H4xlvBJnm9TaT679Yb2zxAjnVE3hkzbfbiyYzfJVymNR+XsStMLM\n",
       "oM/0IqgCHazEYU8DuEx+9mwS2E7FPPED5HGY9lGSEr3xcIZv/oJKYQi1OuP8wqgimGu+Qk/Kjve+\n",
       "ZChGhKC7Uqn64MRF0giUVLH/wtlZdNKXUtJGx9okGpQDKOz6t96Zc16900XMoQmQLUxz5CawG+bz\n",
       "k6KM7d5exlQAPAKJp3sHM0KNABGhfxa+fCUPv9hGeX6e+l43gLLNKr67orDlgevbtu1jroODjWOa\n",
       "qu+8FUildeU38HbKoKQjSZQlaHrU+sk7mjzBGPYeOj6HszL0KLVrk3Q7qyc/7LfOS3OwXapoCs4V\n",
       "QtSx3zyAKTuD1JFOy/1rPzK4TgnWY36R9bWFZES9uRGteLK7P7M8Z2sJit0YwaCS4ZMDvxG2f5Xv\n",
       "vNzNzZcEl3onXxaBej0EqO5kh7qGinZi5LllR2YAg2yI8NzL4lyDn1uh0BIAi07ubJqSKq7FDQQ7\n",
       "UF3RITjheajfIOh9n+3emWLiuBgLJB1T7LHMYusli7nzmB+vBCi8fxOtd5U1OjWdgv2+7N2nrA0R\n",
       "NyiWoXxR0ABVKGaqGcYEVKg9FWy55q1U2jkSF8/KsTT45OCe42O1aTGSQDgMrTquQ4MY0WTqZGqx\n",
       "bZLQggyLXNkfd1QX3tqaNNRhHiMpSXxdhQjGoLMkUxUoJn1zXREFaKfpQm5hwDejAVXaxbBFNeqA\n",
       "AAAF6W1vb3YAAABsbXZoZAAAAAAAAAAAAAAAAAAAA+gAABdwAAEAAAEAAAAAAAAAAAAAAAABAAAA\n",
       "AAAAAAAAAAAAAAAAAQAAAAAAAAAAAAAAAAAAQAAAAAAAAAAAAAAAAAAAAAAAAAAAAAAAAAAAAAAA\n",
       "AAIAAAUUdHJhawAAAFx0a2hkAAAAAwAAAAAAAAAAAAAAAQAAAAAAABdwAAAAAAAAAAAAAAAAAAAA\n",
       "AAABAAAAAAAAAAAAAAAAAAAAAQAAAAAAAAAAAAAAAAAAQAAAAAIAAAACAAAAAAAAJGVkdHMAAAAc\n",
       "ZWxzdAAAAAAAAAABAAAXcAAACAAAAQAAAAAEjG1kaWEAAAAgbWRoZAAAAAAAAAAAAAAAAAAAKAAA\n",
       "APAAVcQAAAAAAC1oZGxyAAAAAAAAAAB2aWRlAAAAAAAAAAAAAAAAVmlkZW9IYW5kbGVyAAAABDdt\n",
       "aW5mAAAAFHZtaGQAAAABAAAAAAAAAAAAAAAkZGluZgAAABxkcmVmAAAAAAAAAAEAAAAMdXJsIAAA\n",
       "AAEAAAP3c3RibAAAALdzdHNkAAAAAAAAAAEAAACnYXZjMQAAAAAAAAABAAAAAAAAAAAAAAAAAAAA\n",
       "AAIAAgAASAAAAEgAAAAAAAAAAQAAAAAAAAAAAAAAAAAAAAAAAAAAAAAAAAAAAAAAAAAAABj//wAA\n",
       "ADVhdmNDAWQAFv/hABhnZAAWrNlAgBBoQAAAAwBAAAAFA8WLZYABAAZo6+PLIsD9+PgAAAAAHHV1\n",
       "aWRraEDyXyRPxbo5pRvPAyPzAAAAAAAAABhzdHRzAAAAAAAAAAEAAAA8AAAEAAAAABRzdHNzAAAA\n",
       "AAAAAAEAAAABAAAB2GN0dHMAAAAAAAAAOQAAAAEAAAgAAAAAAQAAFAAAAAABAAAIAAAAAAEAAAAA\n",
       "AAAAAQAABAAAAAABAAAUAAAAAAEAAAgAAAAAAQAAAAAAAAABAAAEAAAAAAEAABQAAAAAAQAACAAA\n",
       "AAABAAAAAAAAAAEAAAQAAAAAAQAADAAAAAABAAAEAAAAAAEAAAwAAAAAAQAABAAAAAABAAAMAAAA\n",
       "AAEAAAQAAAAAAQAAFAAAAAABAAAIAAAAAAEAAAAAAAAAAQAABAAAAAABAAAQAAAAAAIAAAQAAAAA\n",
       "AQAADAAAAAABAAAEAAAAAAEAABQAAAAAAQAACAAAAAABAAAAAAAAAAEAAAQAAAAAAQAACAAAAAAB\n",
       "AAAUAAAAAAEAAAgAAAAAAQAAAAAAAAABAAAEAAAAAAEAABQAAAAAAQAACAAAAAABAAAAAAAAAAEA\n",
       "AAQAAAAAAQAADAAAAAABAAAEAAAAAAEAAAwAAAAAAQAABAAAAAABAAAUAAAAAAEAAAgAAAAAAQAA\n",
       "AAAAAAABAAAEAAAAAAEAABQAAAAAAQAACAAAAAABAAAAAAAAAAEAAAQAAAAAAQAAEAAAAAACAAAE\n",
       "AAAAAAEAABAAAAAAAgAABAAAAAABAAAIAAAAABxzdHNjAAAAAAAAAAEAAAABAAAAPAAAAAEAAAEE\n",
       "c3RzegAAAAAAAAAAAAAAPAAAGh8AAAfBAAABSwAAAVsAAAJZAAAL8QAAAdEAAAE8AAAB6gAAC+4A\n",
       "AARoAAABdwAAAXMAAArWAAABQQAABlAAAAEzAAAJPQAAAQsAAAwtAAAC9AAAAVwAAAFSAAANOgAA\n",
       "AdYAAAEmAAAHHQAAAVwAABAiAAABlAAAASMAAAERAAAGoQAACuQAAAFhAAABKAAAAUgAABMcAAAB\n",
       "SwAAAWAAAAFLAAAKYgAAAWsAAAbeAAABHQAADWYAAAFQAAABcAAAATMAAAu7AAABfAAAAVUAAAFc\n",
       "AAAPtQAAAg4AAAFhAAAFVAAAAZQAAAH1AAAETAAAABRzdGNvAAAAAAAAAAEAAAAwAAAAYXVkdGEA\n",
       "AABZbWV0YQAAAAAAAAAhaGRscgAAAAAAAAAAbWRpcmFwcGwAAAAAAAAAAAAAAAAsaWxzdAAAACSp\n",
       "dG9vAAAAHGRhdGEAAAABAAAAAExhdmY2MC4zLjEwMA==\n",
       "\">\n",
       "  Your browser does not support the video tag.\n",
       "</video>"
      ],
      "text/plain": [
       "<IPython.core.display.HTML object>"
      ]
     },
     "metadata": {},
     "output_type": "display_data"
    }
   ],
   "source": [
    "# アニメーションの描画\n",
    "fig, ax = plt.subplots(figsize=(4, 4), dpi=128)\n",
    "ax.set(xticks=[], yticks=[])\n",
    "\n",
    "# 各フレームの描画\n",
    "draw = []\n",
    "for i, f in enumerate(frames):\n",
    "    ims = plt.imshow(f)\n",
    "    draw.append([ims])\n",
    "\n",
    "# アニメーションの作成\n",
    "ani = ArtistAnimation(fig, draw, interval=100, blit=True)\n",
    "html = display.HTML(ani.to_html5_video())\n",
    "display.display(html)\n",
    "\n",
    "# Matplotlibのウィンドウを閉じる\n",
    "plt.close()"
   ]
  },
  {
   "cell_type": "markdown",
   "metadata": {
    "editable": true,
    "slideshow": {
     "slide_type": ""
    },
    "tags": []
   },
   "source": [
    "最終的な状態において、黒番、白番がそれぞれ何個のセルを専有しているかは`count`関数により計算できる。"
   ]
  },
  {
   "cell_type": "code",
   "execution_count": 18,
   "metadata": {
    "editable": true,
    "slideshow": {
     "slide_type": ""
    },
    "tags": []
   },
   "outputs": [
    {
     "name": "stdout",
     "output_type": "stream",
     "text": [
      "#black: 27\n",
      "#white: 37\n"
     ]
    }
   ],
   "source": [
    "print(\"#black:\", env.count(Player.BLACK))\n",
    "print(\"#white:\", env.count(Player.WHITE))"
   ]
  },
  {
   "cell_type": "markdown",
   "metadata": {
    "editable": true,
    "slideshow": {
     "slide_type": ""
    },
    "tags": []
   },
   "source": [
    "最後に、両者ランダムに着手する場合に1000回対戦すると、どの程度の勝敗になるのかを調べてみる。ランダム対戦には少々時間がかかるため、以下のコードでは、`joblib`を用いて、並列実行により同時に複数の対局を行なっている。"
   ]
  },
  {
   "cell_type": "code",
   "execution_count": 19,
   "metadata": {
    "editable": true,
    "slideshow": {
     "slide_type": ""
    },
    "tags": []
   },
   "outputs": [
    {
     "data": {
      "application/vnd.jupyter.widget-view+json": {
       "model_id": "cdd67e2209314a67affa2f6e8a1be762",
       "version_major": 2,
       "version_minor": 0
      },
      "text/plain": [
       "  0%|          | 0/1000 [00:00<?, ?it/s]"
      ]
     },
     "metadata": {},
     "output_type": "display_data"
    }
   ],
   "source": [
    "def match():\n",
    "    # ゲームのリセット\n",
    "    env = othello.make()\n",
    "    env.reset()\n",
    "\n",
    "    # エピソード開始\n",
    "    while not env.is_done():\n",
    "        # 有効手の列挙\n",
    "        moves = env.legal_moves()\n",
    "\n",
    "        # 着手可能な手があればランダムに1つを選ぶ\n",
    "        move = np.random.choice(moves)\n",
    "\n",
    "        # 着手による盤の状態の更新\n",
    "        env.update(move)\n",
    "\n",
    "    n_black = env.count(Player.BLACK)\n",
    "    n_white = env.count(Player.WHITE)\n",
    "    return n_black, n_white\n",
    "\n",
    "\n",
    "b_win = 0\n",
    "w_win = 0\n",
    "draw = 0\n",
    "\n",
    "chunksize = 32\n",
    "pbar = tqdm(total=n_episodes)\n",
    "for i in range(0, n_episodes, chunksize):\n",
    "    chunk = min(n_episodes - i, chunksize)\n",
    "    result = joblib.Parallel(n_jobs=n_jobs)(\n",
    "        (joblib.delayed(match)() for _ in range(chunk)),\n",
    "    )\n",
    "\n",
    "    result = np.array(result, dtype=\"int32\")\n",
    "    b_win += np.sum(result[:, 0] > result[:, 1])\n",
    "    w_win += np.sum(result[:, 0] < result[:, 1])\n",
    "    draw += np.sum(result[:, 0] == result[:, 1])\n",
    "    pbar.set_description(f\"B:{b_win:d}, W:{w_win:d}, D:{draw:d}\")\n",
    "    pbar.update(chunk)\n",
    "\n",
    "pbar.close()"
   ]
  },
  {
   "cell_type": "code",
   "execution_count": 20,
   "metadata": {
    "editable": true,
    "slideshow": {
     "slide_type": ""
    },
    "tags": [
     "remove-input",
     "remove-output"
    ]
   },
   "outputs": [
    {
     "data": {
      "text/plain": [
       "466"
      ]
     },
     "metadata": {
      "scrapbook": {
       "mime_prefix": "",
       "name": "rand_b_win"
      }
     },
     "output_type": "display_data"
    },
    {
     "data": {
      "text/plain": [
       "494"
      ]
     },
     "metadata": {
      "scrapbook": {
       "mime_prefix": "",
       "name": "rand_w_win"
      }
     },
     "output_type": "display_data"
    },
    {
     "data": {
      "text/plain": [
       "40"
      ]
     },
     "metadata": {
      "scrapbook": {
       "mime_prefix": "",
       "name": "rand_draw"
      }
     },
     "output_type": "display_data"
    }
   ],
   "source": [
    "glue(\"rand_b_win\", b_win)\n",
    "glue(\"rand_w_win\", w_win)\n",
    "glue(\"rand_draw\", draw)"
   ]
  },
  {
   "cell_type": "markdown",
   "metadata": {
    "editable": true,
    "slideshow": {
     "slide_type": ""
    },
    "tags": []
   },
   "source": [
    "**対局結果: ランダム vs ランダム**\n",
    "- 黒番勝ち: {glue:}`rand_b_win`\n",
    "- 白番勝ち: {glue:}`rand_w_win`\n",
    "- 引き分け: {glue:}`rand_draw`"
   ]
  },
  {
   "cell_type": "markdown",
   "metadata": {
    "editable": true,
    "slideshow": {
     "slide_type": ""
    },
    "tags": []
   },
   "source": [
    "このようにランダムな着手では当然ながら、勝率はおよそ五分五分になる。ただし、オセロは後手である白番の方が若干有利であると言われており、ランダムに着手した場合には白番の勝率がやや高くなっている。\n",
    "\n",
    "以後は、この着手の方法を改良していき、より高い勝率を目指してみる。以下、利便性のために、ランダムに着手する関数として`move_by_random`を作成しておく。"
   ]
  },
  {
   "cell_type": "code",
   "execution_count": 21,
   "metadata": {
    "editable": true,
    "slideshow": {
     "slide_type": ""
    },
    "tags": []
   },
   "outputs": [],
   "source": [
    "def move_by_random(env):\n",
    "    \"\"\"有効手の中からランダムに手を選ぶ\"\"\"\n",
    "    moves = env.legal_moves()\n",
    "    return np.random.choice(moves)"
   ]
  },
  {
   "cell_type": "markdown",
   "metadata": {
    "editable": true,
    "slideshow": {
     "slide_type": ""
    },
    "tags": []
   },
   "source": [
    ":::{admonition} オセロが解けた？\n",
    ":class: note\n",
    "\n",
    "2023年10月に「Othello is Solved」という衝撃的なタイトルの論文が、プレプリント投稿サイトのarXivに公開された。この論文は、オセロゲームが「弱解決」したことを示している論文で、「弱解決」とは両対局者が常に最善の手を指し続けると、結果がどうなるかが解析できたことを示す。\n",
    "\n",
    "人間の体感としては後手の方が(最後にディスクをおけるという意味で)若干有利のように感じるが、この論文によれば、オセロは、**両者が最善手を指し続けると引き分けになる**そうだ。興味のある読者は是非、以下の原著を読んでみてほしい。\n",
    "\n",
    "Othello is Solved: <https://arxiv.org/abs/2310.19387>\n",
    ":::"
   ]
  },
  {
   "cell_type": "markdown",
   "metadata": {
    "editable": true,
    "slideshow": {
     "slide_type": ""
    },
    "tags": []
   },
   "source": [
    "## セル評価値を用いた着手"
   ]
  },
  {
   "cell_type": "markdown",
   "metadata": {
    "editable": true,
    "slideshow": {
     "slide_type": ""
    },
    "tags": []
   },
   "source": [
    "人間(の初心者)がオセロを指すときに最初に覚えることと言えば、角が取れるように着手を調整する、ということだろう。\n",
    "\n",
    "角のセルは一度ディスクを置いてしまえば、それ以降、相手に取られることがなく、また縁の領域にあるディスクを一度に多くひっくり返すこともできるため、角にディスクを置くことができれば有利になることが多い。\n",
    "\n",
    "一方で、角のセルに隣接するセルにディスクを置くと、相手に角を取られる可能性が出てくるので、角に隣接するセルにはできる限りディスクを置かない方が良いことが分かる。\n",
    "\n",
    "このような人間の経験則に従って、各セルにディスクを置くことが、どのくらい得でどのくらい損なのかを表わす評価値を以下のように定義する。"
   ]
  },
  {
   "cell_type": "code",
   "execution_count": 22,
   "metadata": {
    "editable": true,
    "slideshow": {
     "slide_type": ""
    },
    "tags": []
   },
   "outputs": [],
   "source": [
    "scores = np.array(\n",
    "    [\n",
    "        [120, -20, 20, 5, 5, 20, -20, 120],\n",
    "        [-20, -40, -5, -5, -5, -5, -40, -20],\n",
    "        [20, -5, 15, 3, 3, 15, -5, 20],\n",
    "        [5, -5, 3, 0, 0, 3, -5, 5],\n",
    "        [5, -5, 3, 0, 0, 3, -5, 5],\n",
    "        [20, -5, 15, 3, 3, 15, -5, 20],\n",
    "        [-20, -40, -5, -5, -5, -5, -40, -20],\n",
    "        [120, -20, 20, 5, 5, 20, -20, 120],\n",
    "    ],\n",
    "    dtype=\"int32\",\n",
    ")"
   ]
  },
  {
   "cell_type": "code",
   "execution_count": 23,
   "metadata": {
    "editable": true,
    "slideshow": {
     "slide_type": ""
    },
    "tags": [
     "remove-input"
    ]
   },
   "outputs": [
    {
     "data": {
      "application/papermill.record/image/png": "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",
      "application/papermill.record/text/plain": "<Figure size 1280x960 with 1 Axes>"
     },
     "metadata": {
      "scrapbook": {
       "mime_prefix": "application/papermill.record/",
       "name": "cell_scores"
      }
     },
     "output_type": "display_data"
    }
   ],
   "source": [
    "fig, ax = plt.subplots()\n",
    "\n",
    "ax.set_xticks(np.arange(0, 8))\n",
    "ax.set_yticks(np.arange(0, 8))\n",
    "ax.set_xticklabels(np.arange(1, 9))\n",
    "ax.set_yticklabels(np.arange(1, 9))\n",
    "\n",
    "ax.set_xticks(np.arange(1, 9) - 0.5, minor=True)\n",
    "ax.set_yticks(np.arange(1, 9) - 0.5, minor=True)\n",
    "\n",
    "ax.imshow(scores, cmap=\"tab20\", interpolation=None)\n",
    "for (i, j), z in np.ndenumerate(scores):\n",
    "    txt = ax.text(j, i, \"{:d}\".format(z), ha=\"center\", va=\"center\", color=\"k\", fontsize=15)\n",
    "\n",
    "ax.grid(which=\"minor\", color=\"k\", linestyle=\"-\", linewidth=0.5)\n",
    "ax.xaxis.tick_top()\n",
    "\n",
    "glue(\"cell_scores\", fig, display=False)\n",
    "plt.close()"
   ]
  },
  {
   "cell_type": "markdown",
   "metadata": {
    "editable": true,
    "slideshow": {
     "slide_type": ""
    },
    "tags": []
   },
   "source": [
    "```{glue:figure} cell_scores\n",
    ":figwidth: 512px\n",
    ":name: \"オセロ盤のセル評価値\"\n",
    "```"
   ]
  },
  {
   "cell_type": "code",
   "execution_count": 24,
   "metadata": {
    "editable": true,
    "slideshow": {
     "slide_type": ""
    },
    "tags": []
   },
   "outputs": [],
   "source": [
    "def move_by_score(env):\n",
    "    \"\"\"セル評価値を用いた着手\"\"\"\n",
    "    moves = env.legal_moves()\n",
    "    best_move = moves[0]\n",
    "    best_score = -np.inf\n",
    "    for move in moves:\n",
    "        if move.is_pass():\n",
    "            continue\n",
    "\n",
    "        score = scores[move.x, move.y]\n",
    "        if best_score < score:\n",
    "            best_move = move\n",
    "            best_score = score\n",
    "\n",
    "    return best_move"
   ]
  },
  {
   "cell_type": "markdown",
   "metadata": {
    "editable": true,
    "slideshow": {
     "slide_type": ""
    },
    "tags": []
   },
   "source": [
    "このルーチンを用いて、先ほどと同様に{glue:}`n_episodes`回の対戦を行ない、ランダムな着手に比べて、どのくらい勝率が上昇するかを見てみよう。"
   ]
  },
  {
   "cell_type": "code",
   "execution_count": 25,
   "metadata": {
    "editable": true,
    "slideshow": {
     "slide_type": ""
    },
    "tags": []
   },
   "outputs": [
    {
     "data": {
      "application/vnd.jupyter.widget-view+json": {
       "model_id": "dd18055fce17478f968e2a3cca971136",
       "version_major": 2,
       "version_minor": 0
      },
      "text/plain": [
       "  0%|          | 0/1000 [00:00<?, ?it/s]"
      ]
     },
     "metadata": {},
     "output_type": "display_data"
    }
   ],
   "source": [
    "def match():\n",
    "    # ゲームのリセット\n",
    "    env = othello.make()\n",
    "    env.reset()\n",
    "\n",
    "    # エピソード開始\n",
    "    while not env.is_done():\n",
    "        # 黒番:\n",
    "        if env.player == Player.BLACK:\n",
    "            # セル評価値が最も高い場所に着手する\n",
    "            move = move_by_score(env)\n",
    "        # 白番:\n",
    "        if env.player == Player.WHITE:\n",
    "            # 着手可能な手があればランダムに1つを選ぶ\n",
    "            move = move_by_random(env)\n",
    "\n",
    "        # 着手による盤の状態の更新\n",
    "        env.update(move)\n",
    "\n",
    "    n_black = env.count(Player.BLACK)\n",
    "    n_white = env.count(Player.WHITE)\n",
    "    return n_black, n_white\n",
    "\n",
    "\n",
    "b_win = 0\n",
    "w_win = 0\n",
    "draw = 0\n",
    "\n",
    "chunksize = 32\n",
    "pbar = tqdm(total=n_episodes)\n",
    "for i in range(0, n_episodes, chunksize):\n",
    "    chunk = min(n_episodes - i, chunksize)\n",
    "    result = joblib.Parallel(n_jobs=n_jobs)(\n",
    "        (joblib.delayed(match)() for _ in range(chunk)),\n",
    "    )\n",
    "\n",
    "    result = np.array(result, dtype=\"int32\")\n",
    "    b_win += np.sum(result[:, 0] > result[:, 1])\n",
    "    w_win += np.sum(result[:, 0] < result[:, 1])\n",
    "    draw += np.sum(result[:, 0] == result[:, 1])\n",
    "    pbar.set_description(f\"B:{b_win:d}, W:{w_win:d}, D:{draw:d}\")\n",
    "    pbar.update(chunk)\n",
    "pbar.close()"
   ]
  },
  {
   "cell_type": "code",
   "execution_count": 26,
   "metadata": {
    "editable": true,
    "slideshow": {
     "slide_type": ""
    },
    "tags": [
     "remove-input",
     "remove-output"
    ]
   },
   "outputs": [
    {
     "data": {
      "text/plain": [
       "748"
      ]
     },
     "metadata": {
      "scrapbook": {
       "mime_prefix": "",
       "name": "score_b_win"
      }
     },
     "output_type": "display_data"
    },
    {
     "data": {
      "text/plain": [
       "222"
      ]
     },
     "metadata": {
      "scrapbook": {
       "mime_prefix": "",
       "name": "score_w_win"
      }
     },
     "output_type": "display_data"
    },
    {
     "data": {
      "text/plain": [
       "30"
      ]
     },
     "metadata": {
      "scrapbook": {
       "mime_prefix": "",
       "name": "score_draw"
      }
     },
     "output_type": "display_data"
    }
   ],
   "source": [
    "glue(\"score_b_win\", b_win)\n",
    "glue(\"score_w_win\", w_win)\n",
    "glue(\"score_draw\", draw)"
   ]
  },
  {
   "cell_type": "markdown",
   "metadata": {
    "editable": true,
    "slideshow": {
     "slide_type": ""
    },
    "tags": []
   },
   "source": [
    "**対局結果: セル評価値 vs ランダム**\n",
    "- 黒番勝ち: {glue:}`score_b_win`\n",
    "- 白番勝ち: {glue:}`score_w_win`\n",
    "- 引き分け: {glue:}`score_draw`"
   ]
  },
  {
   "cell_type": "markdown",
   "metadata": {
    "editable": true,
    "slideshow": {
     "slide_type": ""
    },
    "tags": []
   },
   "source": [
    "上記の通り、人間の経験則を導入することでランダムに着手するのと比べて大幅に勝率が上昇していることが分かる。"
   ]
  },
  {
   "cell_type": "markdown",
   "metadata": {
    "editable": true,
    "slideshow": {
     "slide_type": ""
    },
    "tags": []
   },
   "source": [
    "(ssec:minimax)=\n",
    "## ミニマックス探索"
   ]
  },
  {
   "cell_type": "markdown",
   "metadata": {
    "editable": true,
    "slideshow": {
     "slide_type": ""
    },
    "tags": []
   },
   "source": [
    "上記のセル評価値に基づく着手では、今まさに打とうとしている手が、**その時点においてどのくらいの価値を持つのか**だけを考慮していた。\n",
    "\n",
    "しかし、実際には、局面によっては、角に単にセルの評価値が高いディスクに置くよりも、その後、何手か指した後に、より勝ちの高い手が打てるような手も存在するだろう。\n",
    "\n",
    "実際に人間がオセロをプレイするときも、ある程度は「次に相手が何を」してくるかを考えているはずで、その際、**できるだけ自分に得**で**できるだけ相手に損**な手を指すのが良いと考えるだろう。\n",
    "\n",
    "このような考え方に基づいて、手を先読みして着手を探索する手法に**ミニマックス探索**がある (min-max探索ではないので注意)。"
   ]
  },
  {
   "cell_type": "code",
   "execution_count": 27,
   "metadata": {
    "editable": true,
    "slideshow": {
     "slide_type": ""
    },
    "tags": []
   },
   "outputs": [],
   "source": [
    "def minimax(env, move, depth, max_depth):\n",
    "    env.update(move)\n",
    "\n",
    "    if depth >= max_depth:\n",
    "        score = move.player * np.sum(env.board * scores)\n",
    "    else:\n",
    "        # 相手にとってのベストスコアを計算\n",
    "        best_score = -np.inf\n",
    "        for next_move in env.legal_moves():\n",
    "            score = minimax(env, next_move, depth + 1, max_depth)\n",
    "            if best_score < score:\n",
    "                best_score = score\n",
    "\n",
    "        # 自分にとっては相手のベストスコアは小さい方が良い\n",
    "        score = -best_score\n",
    "\n",
    "    env.undo()\n",
    "    return score"
   ]
  },
  {
   "cell_type": "code",
   "execution_count": 28,
   "metadata": {
    "editable": true,
    "slideshow": {
     "slide_type": ""
    },
    "tags": []
   },
   "outputs": [],
   "source": [
    "def move_by_minimax(env, max_depth=2):\n",
    "    moves = env.legal_moves()\n",
    "\n",
    "    best_move = moves[0]\n",
    "    best_score = -np.inf\n",
    "    for move in moves:\n",
    "        score = minimax(env, move, 0, max_depth)\n",
    "        if best_score < score:\n",
    "            best_move = move\n",
    "            best_score = score\n",
    "\n",
    "    return best_move"
   ]
  },
  {
   "cell_type": "code",
   "execution_count": 29,
   "metadata": {
    "editable": true,
    "slideshow": {
     "slide_type": ""
    },
    "tags": []
   },
   "outputs": [
    {
     "data": {
      "application/vnd.jupyter.widget-view+json": {
       "model_id": "bee3abc3c0c8438da89ec95459c6ab45",
       "version_major": 2,
       "version_minor": 0
      },
      "text/plain": [
       "  0%|          | 0/1000 [00:00<?, ?it/s]"
      ]
     },
     "metadata": {},
     "output_type": "display_data"
    }
   ],
   "source": [
    "def match():\n",
    "    # ゲームのリセット\n",
    "    env = othello.make()\n",
    "    env.reset()\n",
    "\n",
    "    # エピソード開始\n",
    "    while not env.is_done():\n",
    "        # 黒番:\n",
    "        if env.player == Player.BLACK:\n",
    "            # セル評価値が最も高い場所に着手する\n",
    "            move = move_by_minimax(env)\n",
    "        # 白番:\n",
    "        if env.player == Player.WHITE:\n",
    "            # 着手可能な手があればランダムに1つを選ぶ\n",
    "            move = move_by_random(env)\n",
    "\n",
    "        # 着手による盤の状態の更新\n",
    "        env.update(move)\n",
    "\n",
    "    n_black = env.count(Player.BLACK)\n",
    "    n_white = env.count(Player.WHITE)\n",
    "    return n_black, n_white\n",
    "\n",
    "\n",
    "b_win = 0\n",
    "w_win = 0\n",
    "draw = 0\n",
    "\n",
    "chunksize = 32\n",
    "pbar = tqdm(total=n_episodes)\n",
    "for i in range(0, n_episodes, chunksize):\n",
    "    chunk = min(n_episodes - i, chunksize)\n",
    "    result = joblib.Parallel(n_jobs=n_jobs)(\n",
    "        (joblib.delayed(match)() for _ in range(chunk)),\n",
    "    )\n",
    "\n",
    "    result = np.array(result, dtype=\"int32\")\n",
    "    b_win += np.sum(result[:, 0] > result[:, 1])\n",
    "    w_win += np.sum(result[:, 0] < result[:, 1])\n",
    "    draw += np.sum(result[:, 0] == result[:, 1])\n",
    "    pbar.set_description(f\"B:{b_win:d}, W:{w_win:d}, D:{draw:d}\")\n",
    "    pbar.update(chunk)\n",
    "\n",
    "pbar.close()"
   ]
  },
  {
   "cell_type": "code",
   "execution_count": 30,
   "metadata": {
    "editable": true,
    "slideshow": {
     "slide_type": ""
    },
    "tags": [
     "remove-input",
     "remove-output"
    ]
   },
   "outputs": [
    {
     "data": {
      "text/plain": [
       "812"
      ]
     },
     "metadata": {
      "scrapbook": {
       "mime_prefix": "",
       "name": "minimax_b_win"
      }
     },
     "output_type": "display_data"
    },
    {
     "data": {
      "text/plain": [
       "156"
      ]
     },
     "metadata": {
      "scrapbook": {
       "mime_prefix": "",
       "name": "minimax_w_win"
      }
     },
     "output_type": "display_data"
    },
    {
     "data": {
      "text/plain": [
       "32"
      ]
     },
     "metadata": {
      "scrapbook": {
       "mime_prefix": "",
       "name": "minimax_draw"
      }
     },
     "output_type": "display_data"
    }
   ],
   "source": [
    "glue(\"minimax_b_win\", b_win)\n",
    "glue(\"minimax_w_win\", w_win)\n",
    "glue(\"minimax_draw\", draw)"
   ]
  },
  {
   "cell_type": "markdown",
   "metadata": {
    "editable": true,
    "slideshow": {
     "slide_type": ""
    },
    "tags": []
   },
   "source": [
    "**対局結果: ミニマックス vs ランダム**\n",
    "- 黒番勝ち: {glue:}`minimax_b_win`\n",
    "- 白番勝ち: {glue:}`minimax_w_win`\n",
    "- 引き分け: {glue:}`minimax_draw`"
   ]
  },
  {
   "cell_type": "markdown",
   "metadata": {
    "editable": true,
    "slideshow": {
     "slide_type": ""
    },
    "tags": []
   },
   "source": [
    "上記の通り、ミニマックス探索で2手先を読むだけで飛躍的に勝率が上昇していることが分かる。\n",
    "\n",
    "ただし、ミニマックス探索は再帰的に手を探索するため、より多くの手を読もうとすると、かなり多くの時間を要する。実際、ミニマックス探索は「本来探索する必要のない手」も探索しているがために、余計に計算を行なっている。"
   ]
  },
  {
   "cell_type": "markdown",
   "metadata": {
    "editable": true,
    "slideshow": {
     "slide_type": ""
    },
    "tags": []
   },
   "source": [
    "ミニマックス探索は、現在の局面から先の手を読むときに、相手も自分自身に取って最善となるように手を検討する。そのため、相手の手の評価値は検討を進めるに従って**相手にとっての価値は上昇していく**一方で、**自分にとっての価値は減少していく**ことが分かる。\n",
    "\n",
    "従って、今得られている価値が最大の手の評価値より、相手の手の探索中に得られる評価値が小さくなった瞬間に、それ以上手を探索する必要がなくなる。このような原理に基づいて探索の枝刈りを行なう手法に**アルファベータ探索**がある。\n",
    "\n",
    "アルファベータ探索は上記の`minimax`関数を少し改良するだけで実装できるので、練習問題として取り組んでみて、探索の効率が上昇することを確認してほしい。"
   ]
  },
  {
   "cell_type": "markdown",
   "metadata": {
    "editable": true,
    "slideshow": {
     "slide_type": ""
    },
    "tags": []
   },
   "source": [
    "(ssec:monte-carlo)=\n",
    "## 原始モンテカルロ探索"
   ]
  },
  {
   "cell_type": "markdown",
   "metadata": {
    "editable": true,
    "slideshow": {
     "slide_type": ""
    },
    "tags": []
   },
   "source": [
    "ここまでに紹介したミニマックス法やアルファベータ法は、現在の状態に対して何らかの評価値が既に与えられている場合には有効であるものの、このような評価値を**どのように決定すれば最適なのか**は実際のところ難しい。\n",
    "\n",
    "特に上記の例では、オセロ盤の状態ではなく、セルに対して評価値を与えているが、実際のオセロにおいて、どのセルにディスクを置けばより勝ちに近づくかは、そのときに既に置かれているディスクに依存するだろう。\n",
    "\n",
    "従って、ここまでのセルの評価値に基づく探索には限界があり、**実際に勝てるのかどうか**に基づいた着手を目指す必要があると分かる。しかし、勝ち負けを知るためにはオセロを終局までプレイしなければならない。では、その過程ではどのような手を指せば良いだろうか。"
   ]
  },
  {
   "cell_type": "markdown",
   "metadata": {
    "editable": true,
    "slideshow": {
     "slide_type": ""
    },
    "tags": []
   },
   "source": [
    "**原始モンテカルロ探索**は、モンテカルロ法、すなわちランダムな着手によって、今の**オセロ盤の状態がどの程度、勝ちやすい、負けやすい状態なのかを近似的に推測しながら着手する手法**である。言い換えれば、どのような手が良いのかは一旦おいておいて、**適当に指しても勝ちやすければ、それが勝ちやすい局面**と見なして着手を決定する。\n",
    "\n",
    "今、とあるオセロの局面を考えたとき、着手できる手は通常複数ある。このような複数の手をランダムに指して、どの手がより勝ちに近づくかを推定するのだが、この問題は、まさに**多腕バンディット問題**と同様の問題であることが分かる。多腕バンディット問題においては、どのスロットアームを回すかを最適化していたが、今回はオセロの有効手に対して同様の操作を行なう。"
   ]
  },
  {
   "cell_type": "markdown",
   "metadata": {
    "editable": true,
    "slideshow": {
     "slide_type": ""
    },
    "tags": []
   },
   "source": [
    "まず、とある局面からランダムにプレイを行なって終局まで進める操作を関数として定義しておく。このような操作を**プレアウト**と呼ぶ。"
   ]
  },
  {
   "cell_type": "code",
   "execution_count": 31,
   "metadata": {
    "editable": true,
    "slideshow": {
     "slide_type": ""
    },
    "tags": []
   },
   "outputs": [],
   "source": [
    "def playout(env):\n",
    "    \"\"\"ランダムに着手して終局まで進める\"\"\"\n",
    "    while not env.is_done():\n",
    "        moves = env.legal_moves()\n",
    "        move = random.choice(moves)\n",
    "        env.update(move)"
   ]
  },
  {
   "cell_type": "markdown",
   "metadata": {
    "editable": true,
    "slideshow": {
     "slide_type": ""
    },
    "tags": []
   },
   "source": [
    "この関数を呼び出して、とある局面を終局まで進めたとき、今の手番のプレイヤーが勝ちなら **+1点** の報酬を得ることとする。\n",
    "\n",
    "プレイアウトをするべき手は多腕バンディット問題において、良い性能であったUCB1値を用いて選択する。UCB1値の定義を再掲しておく。"
   ]
  },
  {
   "cell_type": "markdown",
   "metadata": {
    "editable": true,
    "slideshow": {
     "slide_type": ""
    },
    "tags": []
   },
   "source": [
    "$$\n",
    "\\text{UCB1}_i = \\frac{n_{i,{\\rm hit}}}{n_{i,{\\rm play}}} + \\sqrt{\\frac{2 \\log(n_{\\rm total})}{n_{i, {\\rm play}}}}\n",
    "$$"
   ]
  },
  {
   "cell_type": "markdown",
   "metadata": {
    "editable": true,
    "slideshow": {
     "slide_type": ""
    },
    "tags": []
   },
   "source": [
    "この定義は多腕バンディット問題用の表記になっているが、これをオセロの着手に置き換えると、個々の変数は以下のものを指す。\n",
    "\n",
    "- $n_{i, {\\rm hit}}$: $i$番目の候補手を指してプレイアウトしたときの勝利回数\n",
    "- $n_{i, {\\rm play}}$: $i$番目の候補手に対してプレイアウトをした回数\n",
    "- $n_{\\rm total}$: 全ての候補手に対するプレイアウト数の合計\n",
    "\n",
    "以下、UCB1値は定義上、$n_{i, {\\rm play}}$ 即ち、各候補手に対するプレイアウト回数が1回以上ないと計算できないので、UCB1を用いた原始モンテカルロ法においては、\n",
    "\n",
    "1. 各候補手に対して1回ずつプレイアウトを実行\n",
    "1. 以下、UCB1値を計算し、その値が最大の候補手に対してプレイアウトを実行\n",
    "\n",
    "という流れでどの候補手が最も勝ちやすいのかを推測していく。\n",
    "\n",
    "このプレイアウト操作を予め決められた回数 (以下の実装では `n_trials=20` 回) 実行したら、プレイアウトされた回数が最大の手が最適な手であると判断する。プレイアウトされた回数が最大である、ということは、UCB1値を用いた探索において、最も有望な手であるということに留意している。"
   ]
  },
  {
   "cell_type": "code",
   "execution_count": 32,
   "metadata": {
    "editable": true,
    "slideshow": {
     "slide_type": ""
    },
    "tags": []
   },
   "outputs": [],
   "source": [
    "def move_by_monte_carlo(env, n_trials=20):\n",
    "    moves = env.legal_moves()\n",
    "    n_wins = [0] * len(moves)\n",
    "    n_checks = [0] * len(moves)\n",
    "    for t in range(n_trials):\n",
    "        # まだ調べていない手があるときはその手を調べる\n",
    "        move_idx = -1\n",
    "        for i, n in enumerate(n_checks):\n",
    "            if n == 0:\n",
    "                move_idx = i\n",
    "                break\n",
    "\n",
    "        # 全ての有効手を最低1回調べたら、UCB1値に基づいて着手\n",
    "        if move_idx < 0:\n",
    "            ucb1_vals = []\n",
    "            for w, n in zip(n_wins, n_checks):\n",
    "                ucb1 = w / n + np.sqrt(2.0 * np.log(t) / n)\n",
    "                ucb1_vals.append(ucb1)\n",
    "            move_idx = np.argmax(ucb1_vals)\n",
    "\n",
    "        # 手を進めてプレイアウトする\n",
    "        env_cpy = env.copy()\n",
    "        env_cpy.update(moves[move_idx])\n",
    "        playout(env_cpy)\n",
    "\n",
    "        # UCB1値計算用のチェック回数と勝利数を更新\n",
    "        n_checks[move_idx] += 1\n",
    "        if env_cpy.is_win(env.player):\n",
    "            n_wins[move_idx] += 1\n",
    "\n",
    "    # プレイアウト回数が最大の手を返す\n",
    "    return moves[np.argmax(n_checks)]"
   ]
  },
  {
   "cell_type": "code",
   "execution_count": 33,
   "metadata": {
    "editable": true,
    "slideshow": {
     "slide_type": ""
    },
    "tags": [
     "hide-input"
    ]
   },
   "outputs": [
    {
     "data": {
      "application/vnd.jupyter.widget-view+json": {
       "model_id": "e0b7ff4da7f7496a946b8f0fce0f60a0",
       "version_major": 2,
       "version_minor": 0
      },
      "text/plain": [
       "  0%|          | 0/1000 [00:00<?, ?it/s]"
      ]
     },
     "metadata": {},
     "output_type": "display_data"
    }
   ],
   "source": [
    "def match():\n",
    "    # ゲームのリセット\n",
    "    env = othello.make()\n",
    "    env.reset()\n",
    "\n",
    "    # エピソード開始\n",
    "    while not env.is_done():\n",
    "        # 黒番: 原始モンテカルロ探索\n",
    "        if env.player == Player.BLACK:\n",
    "            move = move_by_monte_carlo(env, n_trials=20)\n",
    "        # 白番: ランダム\n",
    "        if env.player == Player.WHITE:\n",
    "            move = move_by_random(env)\n",
    "\n",
    "        # 着手による盤の状態の更新\n",
    "        env.update(move)\n",
    "\n",
    "    n_black = env.count(Player.BLACK)\n",
    "    n_white = env.count(Player.WHITE)\n",
    "    return n_black, n_white\n",
    "\n",
    "\n",
    "b_win = 0\n",
    "w_win = 0\n",
    "draw = 0\n",
    "\n",
    "chunksize = 32\n",
    "pbar = tqdm(total=n_episodes)\n",
    "for i in range(0, n_episodes, chunksize):\n",
    "    chunk = min(n_episodes - i, chunksize)\n",
    "    result = joblib.Parallel(n_jobs=n_jobs)(\n",
    "        (joblib.delayed(match)() for _ in range(chunk)),\n",
    "    )\n",
    "\n",
    "    result = np.array(result, dtype=\"int32\")\n",
    "    b_win += np.sum(result[:, 0] > result[:, 1])\n",
    "    w_win += np.sum(result[:, 0] < result[:, 1])\n",
    "    draw += np.sum(result[:, 0] == result[:, 1])\n",
    "    pbar.set_description(f\"B:{b_win:d}, W:{w_win:d}, D:{draw:d}\")\n",
    "    pbar.update(chunk)\n",
    "    \n",
    "pbar.close()"
   ]
  },
  {
   "cell_type": "code",
   "execution_count": 34,
   "metadata": {
    "editable": true,
    "slideshow": {
     "slide_type": ""
    },
    "tags": [
     "remove-output",
     "remove-input"
    ]
   },
   "outputs": [
    {
     "data": {
      "text/plain": [
       "843"
      ]
     },
     "metadata": {
      "scrapbook": {
       "mime_prefix": "",
       "name": "mc_b_win"
      }
     },
     "output_type": "display_data"
    },
    {
     "data": {
      "text/plain": [
       "153"
      ]
     },
     "metadata": {
      "scrapbook": {
       "mime_prefix": "",
       "name": "mc_w_win"
      }
     },
     "output_type": "display_data"
    },
    {
     "data": {
      "text/plain": [
       "4"
      ]
     },
     "metadata": {
      "scrapbook": {
       "mime_prefix": "",
       "name": "mc_draw"
      }
     },
     "output_type": "display_data"
    }
   ],
   "source": [
    "glue(\"mc_b_win\", b_win)\n",
    "glue(\"mc_w_win\", w_win)\n",
    "glue(\"mc_draw\", draw)"
   ]
  },
  {
   "cell_type": "markdown",
   "metadata": {
    "editable": true,
    "slideshow": {
     "slide_type": ""
    },
    "tags": []
   },
   "source": [
    "**対局結果: 原始モンテカルロ vs ランダム**\n",
    "- 黒番勝ち: {glue:}`mc_b_win`\n",
    "- 白番勝ち: {glue:}`mc_w_win`\n",
    "- 引き分け: {glue:}`mc_draw`"
   ]
  },
  {
   "cell_type": "markdown",
   "metadata": {
    "editable": true,
    "slideshow": {
     "slide_type": ""
    },
    "tags": []
   },
   "source": [
    "このように、セル評価値のような人間の前提知識に頼ることなく、原始モンテカルロ法により、高い勝率が得られていることが分かる。\n",
    "\n",
    "しかし、原始モンテカルロ探索をミニマックス探索と対戦させてみると、まだ、その勝率はミニマックス探索に及ばないことが分かる。人間の事前知識は意外にも侮れない。"
   ]
  },
  {
   "cell_type": "code",
   "execution_count": 35,
   "metadata": {
    "editable": true,
    "slideshow": {
     "slide_type": ""
    },
    "tags": [
     "hide-input"
    ]
   },
   "outputs": [
    {
     "data": {
      "application/vnd.jupyter.widget-view+json": {
       "model_id": "2c27e856044e449e826c7a07c3c8f3e4",
       "version_major": 2,
       "version_minor": 0
      },
      "text/plain": [
       "  0%|          | 0/1000 [00:00<?, ?it/s]"
      ]
     },
     "metadata": {},
     "output_type": "display_data"
    }
   ],
   "source": [
    "def match():\n",
    "    # ゲームのリセット\n",
    "    env = othello.make()\n",
    "    env.reset()\n",
    "\n",
    "    # エピソード開始\n",
    "    while not env.is_done():\n",
    "        # 黒番:\n",
    "        if env.player == Player.BLACK:\n",
    "            # 原始モンテカルロ探索\n",
    "            move = move_by_monte_carlo(env)\n",
    "        # 白番:\n",
    "        if env.player == Player.WHITE:\n",
    "            # ミニマックス探索\n",
    "            move = move_by_minimax(env)\n",
    "\n",
    "        # 着手による盤の状態の更新\n",
    "        env.update(move)\n",
    "\n",
    "    n_black = env.count(Player.BLACK)\n",
    "    n_white = env.count(Player.WHITE)\n",
    "    return n_black, n_white\n",
    "\n",
    "\n",
    "b_win = 0\n",
    "w_win = 0\n",
    "draw = 0\n",
    "\n",
    "chunksize = 32\n",
    "pbar = tqdm(total=n_episodes)\n",
    "for i in range(0, n_episodes, chunksize):\n",
    "    chunk = min(n_episodes - i, chunksize)\n",
    "    result = joblib.Parallel(n_jobs=n_jobs)(\n",
    "        (joblib.delayed(match)() for _ in range(chunk)),\n",
    "    )\n",
    "\n",
    "    result = np.array(result, dtype=\"int32\")\n",
    "    b_win += np.sum(result[:, 0] > result[:, 1])\n",
    "    w_win += np.sum(result[:, 0] < result[:, 1])\n",
    "    draw += np.sum(result[:, 0] == result[:, 1])\n",
    "    pbar.set_description(f\"B:{b_win:d}, W:{w_win:d}, D:{draw:d}\")\n",
    "    pbar.update(chunk)\n",
    "pbar.close()"
   ]
  },
  {
   "cell_type": "code",
   "execution_count": 36,
   "metadata": {
    "editable": true,
    "slideshow": {
     "slide_type": ""
    },
    "tags": [
     "remove-output",
     "remove-input"
    ]
   },
   "outputs": [
    {
     "data": {
      "text/plain": [
       "333"
      ]
     },
     "metadata": {
      "scrapbook": {
       "mime_prefix": "",
       "name": "mc_vs_minimax_b_win"
      }
     },
     "output_type": "display_data"
    },
    {
     "data": {
      "text/plain": [
       "656"
      ]
     },
     "metadata": {
      "scrapbook": {
       "mime_prefix": "",
       "name": "mc_vs_minimax_w_win"
      }
     },
     "output_type": "display_data"
    },
    {
     "data": {
      "text/plain": [
       "11"
      ]
     },
     "metadata": {
      "scrapbook": {
       "mime_prefix": "",
       "name": "mc_vs_minimax_draw"
      }
     },
     "output_type": "display_data"
    }
   ],
   "source": [
    "glue(\"mc_vs_minimax_b_win\", b_win)\n",
    "glue(\"mc_vs_minimax_w_win\", w_win)\n",
    "glue(\"mc_vs_minimax_draw\", draw)"
   ]
  },
  {
   "cell_type": "markdown",
   "metadata": {
    "editable": true,
    "slideshow": {
     "slide_type": ""
    },
    "tags": []
   },
   "source": [
    "**対局結果: 原始モンテカルロ(黒番) vs ミニマックス (白番)**\n",
    "- 黒番勝ち: {glue:}`mc_vs_minimax_b_win`\n",
    "- 白番勝ち: {glue:}`mc_vs_minimax_w_win`\n",
    "- 引き分け: {glue:}`mc_vs_minimax_draw`"
   ]
  },
  {
   "cell_type": "markdown",
   "metadata": {
    "editable": true,
    "slideshow": {
     "slide_type": ""
    },
    "tags": []
   },
   "source": [
    "## モンテカルロ木探索"
   ]
  },
  {
   "cell_type": "markdown",
   "metadata": {
    "editable": true,
    "slideshow": {
     "slide_type": ""
    },
    "tags": []
   },
   "source": [
    "原始モンテカルロの弱点は、**自分の候補手に対してしか有望な手を考えていない**という点にある。原始モンテカルロにおいては、自分が候補手を指したあとは**自分も相手もランダムに着手する**と仮定しているが、実際の対局においては、自分も相手も、より勝ちやすい手を指すのが普通だろう。\n",
    "\n",
    "**モンテカルロ木探索**は、上記の問題を解決するために、自分に対しても相手に対しても原始モンテカルロ同様にUCB1値に基づいて最善手を推定する手法である。\n",
    "\n",
    "ここで「木探索」という用語が出てくるが、モンテカルロ木探索では[ゲーム木](https://ja.wikipedia.org/wiki/%E3%82%B2%E3%83%BC%E3%83%A0%E6%9C%A8)と呼ばれる木構造の中で手を探索する。ゲーム木では「局面を表すノード」が「その局面における候補手を指すことで得られる次局面を表すノード」とツリー状に接続されている。\n",
    "\n",
    "UCB1値を使って候補手の探索を行なう場合、この木構造を特に**UCT** (Upper Confidence Tree)と呼ぶ。"
   ]
  },
  {
   "cell_type": "markdown",
   "metadata": {
    "editable": true,
    "slideshow": {
     "slide_type": ""
    },
    "tags": []
   },
   "source": [
    "以下の`move_by_mcts`関数は、今の局面 `env`に対してUCTの根ノードを作成し、候補手に対応する子ノードを探索するものである。"
   ]
  },
  {
   "cell_type": "code",
   "execution_count": 37,
   "metadata": {
    "editable": true,
    "slideshow": {
     "slide_type": ""
    },
    "tags": []
   },
   "outputs": [],
   "source": [
    "def move_by_mcts(env, n_trials=20):\n",
    "    # ノードと直接の子ノードの作成\n",
    "    root_node = UctNode(env)\n",
    "    root_node.expand_child_nodes()\n",
    "\n",
    "    # 評価を繰り返す\n",
    "    for _ in range(n_trials):\n",
    "        root_node.evaluate()\n",
    "\n",
    "    # 最も評価回数の多いノードを選ぶ\n",
    "    n_list = []\n",
    "    for node in root_node.child_nodes:\n",
    "        n_list.append(node.n_check)\n",
    "\n",
    "    moves = env.legal_moves()\n",
    "    return moves[np.argmax(n_list)]"
   ]
  },
  {
   "cell_type": "markdown",
   "metadata": {
    "editable": true,
    "slideshow": {
     "slide_type": ""
    },
    "tags": []
   },
   "source": [
    "具体的な実装は後述するが、まずはおおまかなモンテカルロ木探索のアルゴリズムの流れについて見ていこう。\n",
    "\n",
    "`move_by_mcts`関数の中では、現在の局面 `env`に対応する `root_node`を作成した後、`expand_child_nodes`を呼び出して、候補手に対するUCTのノードを作成している。\n",
    "\n",
    "その後、`root_node`に対して `evaluate`関数を呼び出し、候補手のUCB1値に基づく探索を実施する。最後に、最も評価された回数が多い候補手を最善手であるとして選択する。\n",
    "\n",
    "以上のように子ノードの展開 (`expand_child_nodes`)と子ノードのUCB1値に基づく探索 (`evaluate`)を除けば、大きなアルゴリズムの流れは原始モンテカルロ探索と共通していることを確認してほしい。"
   ]
  },
  {
   "cell_type": "markdown",
   "metadata": {
    "editable": true,
    "slideshow": {
     "slide_type": ""
    },
    "tags": []
   },
   "source": [
    "では、上記の流れを踏まえて、UCTのノードの実装を見ていこう。以下はやや長いコードになるが、全体の実装を掲載した後で、各メソッドに解説を加えていく。"
   ]
  },
  {
   "cell_type": "code",
   "execution_count": 38,
   "metadata": {
    "editable": true,
    "slideshow": {
     "slide_type": ""
    },
    "tags": []
   },
   "outputs": [],
   "source": [
    "class UctNode(object):\n",
    "    \"\"\"UCB1値を用いた子ノードの探索を行うノード\"\"\"\n",
    "\n",
    "    # 子ノードを展開するまでのチェック回数\n",
    "    N_VALID_CHECKS = 10\n",
    "\n",
    "    def __init__(self, env):\n",
    "        self.player = env.player\n",
    "        self.env = env.copy()\n",
    "        self.n_check = 0\n",
    "        self.value = 0\n",
    "        self.child_nodes = []\n",
    "\n",
    "    def evaluate(self):\n",
    "        \"\"\"現在の盤に対する最善手を探索し、評価値を算出\"\"\"\n",
    "        if self.env.is_done():\n",
    "            # ゲーム終了なら勝敗に応じて報酬を返す\n",
    "            if self.env.is_win(self.player):\n",
    "                value = 1\n",
    "            elif self.env.is_lose(self.player):\n",
    "                value = -1\n",
    "            else:\n",
    "                value = 0\n",
    "\n",
    "            self.value += value\n",
    "            self.n_check += 1\n",
    "            return value\n",
    "\n",
    "        elif len(self.child_nodes) == 0:\n",
    "            # 評価回数が不十分ならプレイアウトをして報酬を計算\n",
    "            value = self.playout()\n",
    "            self.value += value\n",
    "            self.n_check += 1\n",
    "\n",
    "            # チェック回数が十分になったら子ノードを展開する\n",
    "            if self.n_check >= self.N_VALID_CHECKS:\n",
    "                self.expand_child_nodes()\n",
    "\n",
    "            return value\n",
    "\n",
    "        else:\n",
    "            # 子ノードがあればUCB1値に基づいて相手の手を選択・評価\n",
    "            value = -self.choose_next_move().evaluate()\n",
    "            self.value += value\n",
    "            self.n_check += 1\n",
    "\n",
    "            return value\n",
    "\n",
    "    def playout(self):\n",
    "        \"\"\"ランダムにプレイアウトをして評価値を取得\"\"\"\n",
    "\n",
    "        env = self.env.copy()\n",
    "        player = self.player\n",
    "\n",
    "        while not env.is_done():\n",
    "            moves = env.legal_moves()\n",
    "            move = np.random.choice(moves)\n",
    "            env.update(move)\n",
    "\n",
    "        if env.is_win(self.player):\n",
    "            return 1\n",
    "        elif env.is_lose(self.player):\n",
    "            return -1\n",
    "        else:\n",
    "            return 0\n",
    "\n",
    "    def expand_child_nodes(self):\n",
    "        \"\"\"次の候補手に対応する子ノードを作成する\"\"\"\n",
    "        moves = self.env.legal_moves()\n",
    "        for m in moves:\n",
    "            self.env.update(m)\n",
    "            new_node = UctNode(self.env)\n",
    "            self.child_nodes.append(new_node)\n",
    "            self.env.undo()\n",
    "\n",
    "    def choose_next_move(self):\n",
    "        \"\"\"プレイアウトを実施する候補手の選択\"\"\"\n",
    "        # 評価回数が0回のノードがあったら、それを返す\n",
    "        # (そうしないとUCB1値が計算できない)\n",
    "        for node in self.child_nodes:\n",
    "            if node.n_check == 0:\n",
    "                return node\n",
    "\n",
    "        # 子ノードの総評価回数\n",
    "        t = 0\n",
    "        for node in self.child_nodes:\n",
    "            t += node.n_check\n",
    "\n",
    "        # UCB1値の計算\n",
    "        ucb1_values = []\n",
    "        for node in self.child_nodes:\n",
    "            # 子ノードの評価値は相手の手の評価値なので-1を掛けていることに注意\n",
    "            ucb1 = -node.value / node.n_check + np.sqrt(2.0 * np.log(t) / node.n_check)\n",
    "            ucb1_values.append(ucb1)\n",
    "\n",
    "        return self.child_nodes[np.argmax(ucb1_values)]"
   ]
  },
  {
   "cell_type": "markdown",
   "metadata": {
    "editable": true,
    "slideshow": {
     "slide_type": ""
    },
    "tags": []
   },
   "source": [
    "`UctNode`のコンストラクタである `__init__` では、候補手の探索に必要な諸変数を初期化している。この中で、子ノードの配列は`child_nodes`であり、現在のノードの総評価回数が`n_checks`、子ノードの探索に基づく評価値 (本実装では総勝利回数)を`value`に格納している。"
   ]
  },
  {
   "cell_type": "markdown",
   "metadata": {
    "editable": true,
    "slideshow": {
     "slide_type": ""
    },
    "tags": []
   },
   "source": [
    "`evlauate`関数は、子ノードの探索に基づいて、現在のノードの評価値を算出する関数である。この評価値の探索には、以下の3つのパターンが考えられる。\n",
    "\n",
    "1. 盤の状態が終局に達している → 勝ち負けに基づいて評価値を計算\n",
    "2. プレイアウトによる価値評価回数が不十分 → 現局面からプレイアウトして局面を評価\n",
    "3. プレイアウトによる価値評価回数が十分 → 有望な候補手である可能性が高いので、子ノードを更に探索\n",
    "\n",
    "まずは、盤の状態が終局に達している場合で、これ以上プレイアウトが実行できないので、単純に勝ち負けに基づいて評価値を算出する。\n",
    "\n",
    "終局に達していない場合には、手の探索を行って価値評価を行なうことになるが、ここで、ノードの評価回数に基づいて処理を分ける。今、とある盤の評価回数が一定以上である、ということは、**その盤状態に至る着手がそれなりに有望である**ことを意味している。逆に評価回数が一定以下であるときには、**その盤状態に至る着手が有望かどうか判断しかねる**状況であると言える。\n",
    "\n",
    "子ノードを展開すると、評価しなければならないノード数が増加して、その分だけ他のノードの評価回数が減ってしまうので、できる限り有望な手に対してだけ、その後の局面を評価する方が望ましい。従って、上記の`evaluate`関数では、評価回数が一定以上 (`N_VALID_CHECKS=10`以上)の時だけ、子ノードを作成・探索するようにしている。"
   ]
  },
  {
   "cell_type": "markdown",
   "metadata": {
    "editable": true,
    "slideshow": {
     "slide_type": ""
    },
    "tags": []
   },
   "source": [
    "`playout`関数は原始モンテカルロ探索で用いた同名の関数を改良し、直接勝ち負けに基づいた評価値を返すようにしたものである。"
   ]
  },
  {
   "cell_type": "markdown",
   "metadata": {
    "editable": true,
    "slideshow": {
     "slide_type": ""
    },
    "tags": []
   },
   "source": [
    "`expand_child_nodes`関数は、現在の局面における候補手を列挙して、その手に対応するノードを作成する関数である。この際、次の局面を調べるために`env`の`update`と`undo`がペアで呼び出されていることに注意してほしい。"
   ]
  },
  {
   "cell_type": "markdown",
   "metadata": {
    "editable": true,
    "slideshow": {
     "slide_type": ""
    },
    "tags": []
   },
   "source": [
    "`choose_next_move`関数はUCB1値に基づいて、どの子ノードに対して評価を実施するかを決定する関数である。原始モンテカルロの時と同様、UCB1値は全ての子ノードの評価回数が最低1回はないといけないので、まず全子ノードの評価を実行し、以後はUCB1値に基づいて、どの子ノードを調べるかを決定している。"
   ]
  },
  {
   "cell_type": "markdown",
   "metadata": {
    "editable": true,
    "slideshow": {
     "slide_type": ""
    },
    "tags": []
   },
   "source": [
    "以上が、モンテカルロ木探索の全体像であるが、再帰的な探索など、やや高度な内容を含むので、何度もコードと解説を読み直して理解に努めてみてほしい。"
   ]
  },
  {
   "cell_type": "markdown",
   "metadata": {
    "editable": true,
    "slideshow": {
     "slide_type": ""
    },
    "tags": []
   },
   "source": [
    "---"
   ]
  },
  {
   "cell_type": "markdown",
   "metadata": {
    "editable": true,
    "slideshow": {
     "slide_type": ""
    },
    "tags": []
   },
   "source": [
    "では、このモンテカルロ木探索をミニマックス探索と対戦させて、実力を確かめてみよう。"
   ]
  },
  {
   "cell_type": "code",
   "execution_count": 39,
   "metadata": {
    "editable": true,
    "slideshow": {
     "slide_type": ""
    },
    "tags": []
   },
   "outputs": [
    {
     "data": {
      "application/vnd.jupyter.widget-view+json": {
       "model_id": "1cf08cd333a946cbae709cd9a4d43a24",
       "version_major": 2,
       "version_minor": 0
      },
      "text/plain": [
       "  0%|          | 0/1000 [00:00<?, ?it/s]"
      ]
     },
     "metadata": {},
     "output_type": "display_data"
    }
   ],
   "source": [
    "def match():\n",
    "    # ゲームのリセット\n",
    "    env = othello.make()\n",
    "    env.reset()\n",
    "\n",
    "    # エピソード開始\n",
    "    while not env.is_done():\n",
    "        # 黒番:\n",
    "        if env.player == Player.BLACK:\n",
    "            # モンテカルロ木探索\n",
    "            move = move_by_mcts(env, n_trials=20)\n",
    "        # 白番:\n",
    "        if env.player == Player.WHITE:\n",
    "            # ミニマックス探索\n",
    "            move = move_by_minimax(env)\n",
    "\n",
    "        # 着手による盤の状態の更新\n",
    "        env.update(move)\n",
    "\n",
    "    n_black = env.count(Player.BLACK)\n",
    "    n_white = env.count(Player.WHITE)\n",
    "    return n_black, n_white\n",
    "\n",
    "\n",
    "b_win = 0\n",
    "w_win = 0\n",
    "draw = 0\n",
    "\n",
    "chunksize = 32\n",
    "pbar = tqdm(total=n_episodes)\n",
    "for i in range(0, n_episodes, chunksize):\n",
    "    chunk = min(n_episodes - i, chunksize)\n",
    "    result = joblib.Parallel(n_jobs=n_jobs)(\n",
    "        (joblib.delayed(match)() for _ in range(chunk)),\n",
    "    )\n",
    "\n",
    "    result = np.array(result, dtype=\"int32\")\n",
    "    b_win += np.sum(result[:, 0] > result[:, 1])\n",
    "    w_win += np.sum(result[:, 0] < result[:, 1])\n",
    "    draw += np.sum(result[:, 0] == result[:, 1])\n",
    "    pbar.set_description(f\"B:{b_win:d}, W:{w_win:d}, D:{draw:d}\")\n",
    "    pbar.update(chunk)\n",
    "\n",
    "pbar.close()"
   ]
  },
  {
   "cell_type": "code",
   "execution_count": 40,
   "metadata": {
    "editable": true,
    "slideshow": {
     "slide_type": ""
    },
    "tags": [
     "remove-input",
     "remove-output"
    ]
   },
   "outputs": [
    {
     "data": {
      "text/plain": [
       "445"
      ]
     },
     "metadata": {
      "scrapbook": {
       "mime_prefix": "",
       "name": "mcts_b_win"
      }
     },
     "output_type": "display_data"
    },
    {
     "data": {
      "text/plain": [
       "479"
      ]
     },
     "metadata": {
      "scrapbook": {
       "mime_prefix": "",
       "name": "mcts_w_win"
      }
     },
     "output_type": "display_data"
    },
    {
     "data": {
      "text/plain": [
       "76"
      ]
     },
     "metadata": {
      "scrapbook": {
       "mime_prefix": "",
       "name": "mcts_draw"
      }
     },
     "output_type": "display_data"
    }
   ],
   "source": [
    "glue(\"mcts_b_win\", b_win)\n",
    "glue(\"mcts_w_win\", w_win)\n",
    "glue(\"mcts_draw\", draw)"
   ]
  },
  {
   "cell_type": "markdown",
   "metadata": {
    "editable": true,
    "slideshow": {
     "slide_type": ""
    },
    "tags": []
   },
   "source": [
    "**対局結果: モンテカルロ木探索 (黒番) vs ミニマックス (白番)**\n",
    "- 黒番勝ち: {glue:}`mcts_b_win`\n",
    "- 白番勝ち: {glue:}`mcts_w_win`\n",
    "- 引き分け: {glue:}`mcts_draw`"
   ]
  },
  {
   "cell_type": "markdown",
   "metadata": {
    "editable": true,
    "slideshow": {
     "slide_type": ""
    },
    "tags": []
   },
   "source": [
    "上記の通り、相手の手や、その後に続く自分の手に対してもUCB1値に基づく有望手の推定を行なうことで、ミニマックス法と同程度の強さを実現することができた。上記の例では、1手の探索に用いる手の評価回数を `n_trials=20` としているが、この数を増やすと、着手に時間はかかるようになるが、より勝ちやすい手を選べるようになる。"
   ]
  },
  {
   "cell_type": "markdown",
   "metadata": {
    "editable": true,
    "slideshow": {
     "slide_type": ""
    },
    "tags": []
   },
   "source": [
    "## 練習問題"
   ]
  },
  {
   "cell_type": "markdown",
   "metadata": {
    "editable": true,
    "slideshow": {
     "slide_type": ""
    },
    "tags": []
   },
   "source": [
    "- 本文中に示した`minimax`関数を改良して、アルファベータ探索を実装せよ。\n",
    "- 原始モンテカルロ探索やモンテカルロ木探索において、プレイアウトする手の選択方法をUCB1値でない方法 ($\\varepsilon$-greedy法やソフトマックス探索)に置き換えた時、オセロAIの強さはどの程度変化するか調べよ。"
   ]
  },
  {
   "cell_type": "code",
   "execution_count": null,
   "metadata": {
    "editable": true,
    "slideshow": {
     "slide_type": ""
    },
    "tags": []
   },
   "outputs": [],
   "source": []
  }
 ],
 "metadata": {
  "kernelspec": {
   "display_name": "Python 3 (ipykernel)",
   "language": "python",
   "name": "python3"
  },
  "language_info": {
   "codemirror_mode": {
    "name": "ipython",
    "version": 3
   },
   "file_extension": ".py",
   "mimetype": "text/x-python",
   "name": "python",
   "nbconvert_exporter": "python",
   "pygments_lexer": "ipython3",
   "version": "3.9.17"
  }
 },
 "nbformat": 4,
 "nbformat_minor": 4
}

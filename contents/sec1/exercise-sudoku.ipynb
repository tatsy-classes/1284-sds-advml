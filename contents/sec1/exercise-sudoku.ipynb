{
 "cells": [
  {
   "cell_type": "markdown",
   "metadata": {
    "editable": true,
    "slideshow": {
     "slide_type": ""
    },
    "tags": []
   },
   "source": [
    "(exercise-sudoku)=\n",
    "# 演習1 - 画像入力式数独ソルバーを作る"
   ]
  },
  {
   "cell_type": "markdown",
   "metadata": {
    "editable": true,
    "slideshow": {
     "slide_type": ""
    },
    "tags": []
   },
   "source": [
    "ご存知の通り、数独というのは9x9のマスの中に1-9の数字を一定のルールのもとで入れていくパズルである。このルールとはすなわち、\n",
    "- 同じ行に同じ数字が存在しない\n",
    "- 同じ列に同じ数字が存在しない\n",
    "- 3x3の9領域に同じ数字が存在しない\n",
    "\n",
    "の3つである。数独の解き方にはいろいろなやり方があり、\n",
    "\n",
    "- バックトラック法\n",
    "- 整数計画問題として解く\n",
    "- Exact Cover問題として解く\n",
    "\n",
    "等のやり方がある。9x9の問題であれば、最も単純なバックトラック法でも十分高速に解くことができる(一般的なパズル本の最難問ならPython実装でも1秒以下で解ける)。\n",
    "\n",
    "以下では、数独の問題を写真で撮って、その画像の中から問題を抜き出し、自動的に問題を解くプログラムを作成してみよう。"
   ]
  },
  {
   "cell_type": "markdown",
   "metadata": {},
   "source": [
    "```{warning}\n",
    "「数独」という呼び名はパズル製作会社のニコリによって商標登録されている呼び名であり、別の呼び名として「ナンバープレイス」あるいは「ナンプレ」と呼ばれることもある。本資料では、一般的に最も浸透していると思われる呼び名である「数独」を用いる。\n",
    "```"
   ]
  },
  {
   "cell_type": "markdown",
   "metadata": {
    "editable": true,
    "slideshow": {
     "slide_type": ""
    },
    "tags": []
   },
   "source": [
    "## 数独を解く"
   ]
  },
  {
   "cell_type": "markdown",
   "metadata": {
    "editable": true,
    "slideshow": {
     "slide_type": ""
    },
    "tags": []
   },
   "source": [
    "まずは数独の問題がテキストで与えられている場合について、解き方を見ていこう。"
   ]
  },
  {
   "cell_type": "markdown",
   "metadata": {
    "editable": true,
    "slideshow": {
     "slide_type": ""
    },
    "tags": []
   },
   "source": [
    "今回は数独の問題が以下の形式のテキストとして与えられることとする。Pythonは複数行のテキストを以下のように定義することができる。"
   ]
  },
  {
   "cell_type": "code",
   "execution_count": 1,
   "metadata": {
    "editable": true,
    "slideshow": {
     "slide_type": ""
    },
    "tags": []
   },
   "outputs": [],
   "source": [
    "problem = \"\"\"\n",
    "-35-9--48\n",
    "--9--8--3\n",
    "-4-6-5--1\n",
    "----74---\n",
    "-2-----6-\n",
    "---15----\n",
    "8--9-2-7-\n",
    "9--5--2--\n",
    "61--4-53-\n",
    "\"\"\""
   ]
  },
  {
   "cell_type": "markdown",
   "metadata": {
    "editable": true,
    "slideshow": {
     "slide_type": ""
    },
    "tags": []
   },
   "source": [
    "これを扱いやすくするためにNumPyの配列に直してみる。まずはテキストを行ごとの配列に変換する。各行は一般には改行文字である `\\n`で区切られているが、実行する環境によっては、Windowsで`\\r\\n`、Macで`\\r`など使われている文字が異なる可能性がある。\n",
    "\n",
    "そこで、以下では、正規表現を用いて、`\\n`あるいは`\\r`が1個あるいは2個並んでいる場所で改行することにする。"
   ]
  },
  {
   "cell_type": "code",
   "execution_count": 2,
   "metadata": {
    "editable": true,
    "slideshow": {
     "slide_type": ""
    },
    "tags": []
   },
   "outputs": [],
   "source": [
    "import re\n",
    "\n",
    "problem = re.split(\"[\\r\\n]{1,2}\", problem)"
   ]
  },
  {
   "cell_type": "markdown",
   "metadata": {
    "editable": true,
    "slideshow": {
     "slide_type": ""
    },
    "tags": []
   },
   "source": [
    "ただし、このやり方だと空行が入る可能性があるので、以下のリスト内包表記を用いて取り除く。"
   ]
  },
  {
   "cell_type": "code",
   "execution_count": 3,
   "metadata": {
    "editable": true,
    "slideshow": {
     "slide_type": ""
    },
    "tags": []
   },
   "outputs": [
    {
     "name": "stdout",
     "output_type": "stream",
     "text": [
      "['-35-9--48', '--9--8--3', '-4-6-5--1', '----74---', '-2-----6-', '---15----', '8--9-2-7-', '9--5--2--', '61--4-53-']\n"
     ]
    }
   ],
   "source": [
    "problem = [line for line in problem if line != \"\"]\n",
    "print(problem)"
   ]
  },
  {
   "cell_type": "markdown",
   "metadata": {},
   "source": [
    "するとproblemの長さは9となるはずだ。各行を文字ごとに分割するには、同じようにリスト内包表記を用いると簡単だ。以下は二重ループを用いたリスト内包表記の例だ。"
   ]
  },
  {
   "cell_type": "code",
   "execution_count": 4,
   "metadata": {},
   "outputs": [
    {
     "name": "stdout",
     "output_type": "stream",
     "text": [
      "['-', '3', '5', '-', '9', '-', '-', '4', '8', '-', '-', '9', '-', '-', '8', '-', '-', '3', '-', '4', '-', '6', '-', '5', '-', '-', '1', '-', '-', '-', '-', '7', '4', '-', '-', '-', '-', '2', '-', '-', '-', '-', '-', '6', '-', '-', '-', '-', '1', '5', '-', '-', '-', '-', '8', '-', '-', '9', '-', '2', '-', '7', '-', '9', '-', '-', '5', '-', '-', '2', '-', '-', '6', '1', '-', '-', '4', '-', '5', '3', '-']\n"
     ]
    }
   ],
   "source": [
    "problem = [c for line in problem for c in line]\n",
    "print(problem)"
   ]
  },
  {
   "cell_type": "markdown",
   "metadata": {},
   "source": [
    "すると今度はproblemが9x9=81個の要素を持つ一次元配列になる。現在、各数字は文字であり、数字ではないので、各文字を数字に置き換える。また、まだ埋まっていないセルを表す`-`は0に置き替える。以下のようにハッシュ(Pythonの用語ではdict)を使うと簡単に書ける。"
   ]
  },
  {
   "cell_type": "code",
   "execution_count": 5,
   "metadata": {},
   "outputs": [
    {
     "name": "stdout",
     "output_type": "stream",
     "text": [
      "{'-': 0, '1': 1, '2': 2, '3': 3, '4': 4, '5': 5, '6': 6, '7': 7, '8': 8, '9': 9}\n"
     ]
    }
   ],
   "source": [
    "numbers = {\"-\": 0}\n",
    "numbers.update({str(i): i for i in range(1, 10)})\n",
    "print(numbers)"
   ]
  },
  {
   "cell_type": "markdown",
   "metadata": {},
   "source": [
    "あとはこれを使って文字を数字に置き換える。ここでもリスト内包表記を用いて処理をして、その後、NumPyの配列に直しておく。ここまで一次元配列で作業をしてきたが、9x9の二次元配列の方が以後の作業がやりやすいので、配列の形も直しておく。"
   ]
  },
  {
   "cell_type": "code",
   "execution_count": 6,
   "metadata": {},
   "outputs": [
    {
     "name": "stdout",
     "output_type": "stream",
     "text": [
      "[[0 3 5 0 9 0 0 4 8]\n",
      " [0 0 9 0 0 8 0 0 3]\n",
      " [0 4 0 6 0 5 0 0 1]\n",
      " [0 0 0 0 7 4 0 0 0]\n",
      " [0 2 0 0 0 0 0 6 0]\n",
      " [0 0 0 1 5 0 0 0 0]\n",
      " [8 0 0 9 0 2 0 7 0]\n",
      " [9 0 0 5 0 0 2 0 0]\n",
      " [6 1 0 0 4 0 5 3 0]]\n"
     ]
    }
   ],
   "source": [
    "import numpy as np\n",
    "\n",
    "problem = np.array([numbers[c] for c in problem], dtype=\"uint8\")\n",
    "problem = problem.reshape((9, 9))\n",
    "print(problem)"
   ]
  },
  {
   "cell_type": "markdown",
   "metadata": {},
   "source": [
    "とすると、先ほどまでの文字が数字に置き換わるはずだ。なお、ここまで繰り返しリスト内包表記も用いたが、これらをまとめて1行で書くこともできる。"
   ]
  },
  {
   "cell_type": "code",
   "execution_count": 27,
   "metadata": {
    "editable": true,
    "slideshow": {
     "slide_type": ""
    },
    "tags": []
   },
   "outputs": [],
   "source": [
    "problem = \"\"\"\n",
    "-35-9--48\n",
    "--9--8--3\n",
    "-4-6-5--1\n",
    "----74---\n",
    "-2-----6-\n",
    "---15----\n",
    "8--9-2-7-\n",
    "9--5--2--\n",
    "61--4-53-\n",
    "\"\"\""
   ]
  },
  {
   "cell_type": "code",
   "execution_count": 28,
   "metadata": {
    "editable": true,
    "slideshow": {
     "slide_type": ""
    },
    "tags": []
   },
   "outputs": [
    {
     "name": "stdout",
     "output_type": "stream",
     "text": [
      "[[0 3 5 0 9 0 0 4 8]\n",
      " [0 0 9 0 0 8 0 0 3]\n",
      " [0 4 0 6 0 5 0 0 1]\n",
      " [0 0 0 0 7 4 0 0 0]\n",
      " [0 2 0 0 0 0 0 6 0]\n",
      " [0 0 0 1 5 0 0 0 0]\n",
      " [8 0 0 9 0 2 0 7 0]\n",
      " [9 0 0 5 0 0 2 0 0]\n",
      " [6 1 0 0 4 0 5 3 0]]\n"
     ]
    }
   ],
   "source": [
    "problem = np.array(\n",
    "    [numbers[c] for line in re.split(\"[\\r\\n]{1,2}\", problem) if line != \"\" for c in line],\n",
    "    dtype=\"uint8\",\n",
    ").reshape((9, 9))\n",
    "print(problem)"
   ]
  },
  {
   "cell_type": "markdown",
   "metadata": {
    "editable": true,
    "slideshow": {
     "slide_type": ""
    },
    "tags": []
   },
   "source": [
    "```{admonition} 改行文字\n",
    ":class: note\n",
    "\n",
    "改行文字はOSによってデフォルトで使われているものが異なり、Windowsは`\\r\\n`、Macは`\\r`、Linuxは`\\n`が用いられている。これらの改行文字は`\\r`がcarriage return (CR)と呼ばれ、`\\n`がline feed (LF)と呼ばれることから、Windows、Mac、Linuxで用いられる改行をそれぞれCRLF、CR、LF改行とも呼ぶ。\n",
    "\n",
    "プログラミングにおいては、改行文字の違いが問題となることも多いので、LFに統一する、あるいはCRLFに統一する、など自分でルールを決めてエディタ(VSCodeなど)を設定しておくと良い。\n",
    "```"
   ]
  },
  {
   "cell_type": "markdown",
   "metadata": {
    "editable": true,
    "slideshow": {
     "slide_type": ""
    },
    "tags": []
   },
   "source": [
    "### 使用済みの数字を調べる"
   ]
  },
  {
   "cell_type": "markdown",
   "metadata": {
    "editable": true,
    "slideshow": {
     "slide_type": ""
    },
    "tags": []
   },
   "source": [
    "問題が数字の配列として表せたところで、使用済みの数字を調べる方法を見ていく。今`i`行`j`列にある数字の候補にどの数字が残っているのかを調べたいとする。\n",
    "\n",
    "NumPyを用いると、`i`行目にある数字は`problem[i, :]`という配列で、`j`列目にある数字は`problem[:, j]`という配列で表せる。また3x3のブロックについては、ブロックの右上の座標が`(3 * (i // 3), 3 * (j // 3))`と表せることに注目すれば、以下でブロック内の数字が得られる。\n",
    "\n",
    "```python\n",
    "k = 3 * (i // 3)\n",
    "l = 3 * (j // 3)\n",
    "blk_nums = problem[k:k+3, l:l+3.flatten()  # 一次元配列として取り出す\n",
    "```"
   ]
  },
  {
   "cell_type": "markdown",
   "metadata": {
    "editable": true,
    "slideshow": {
     "slide_type": ""
    },
    "tags": []
   },
   "source": [
    "一例として1行1列の空マスに何が入るのかを調べて見る。行、列、ブロックに使われている数字は、それぞれ以下のようになっている。"
   ]
  },
  {
   "cell_type": "code",
   "execution_count": 9,
   "metadata": {
    "editable": true,
    "slideshow": {
     "slide_type": ""
    },
    "tags": []
   },
   "outputs": [
    {
     "name": "stdout",
     "output_type": "stream",
     "text": [
      "    Row #1: [0 3 5 0 9 0 0 4 8]\n",
      "    Col #1: [0 0 0 0 0 0 8 9 6]\n",
      "Block #1-1: [0 3 5 0 0 9 0 4 0]\n"
     ]
    }
   ],
   "source": [
    "row_nums = problem[0, :]\n",
    "print(\"    Row #1:\", row_nums)\n",
    "col_nums = problem[:, 0]\n",
    "print(\"    Col #1:\", col_nums)\n",
    "blk_nums = problem[0:3, 0:3].flatten()\n",
    "print(\"Block #1-1:\", blk_nums)"
   ]
  },
  {
   "cell_type": "markdown",
   "metadata": {
    "editable": true,
    "slideshow": {
     "slide_type": ""
    },
    "tags": []
   },
   "source": [
    "まだ使える数字は1-9の数字の中で、これらの配列に現れていない数字である。配列中に数字があるかどうかは`in`を使うと調べられるので、リスト内包表記を使えば、未使用の数字が簡単に調べられる。"
   ]
  },
  {
   "cell_type": "code",
   "execution_count": 10,
   "metadata": {
    "editable": true,
    "slideshow": {
     "slide_type": ""
    },
    "tags": []
   },
   "outputs": [
    {
     "name": "stdout",
     "output_type": "stream",
     "text": [
      "Unused numbers: [1 2 7]\n"
     ]
    }
   ],
   "source": [
    "used_nums = np.concatenate([row_nums, col_nums, blk_nums])\n",
    "unused_nums = np.array([i for i in range(10) if not i in used_nums], dtype=\"uint8\")\n",
    "print(\"Unused numbers:\", unused_nums)"
   ]
  },
  {
   "cell_type": "markdown",
   "metadata": {
    "editable": true,
    "slideshow": {
     "slide_type": ""
    },
    "tags": []
   },
   "source": [
    "このように、`(0, 0)`の空マスに入りうる候補の数字は`{1, 2, 7}`の3つであることが分かる。"
   ]
  },
  {
   "cell_type": "markdown",
   "metadata": {
    "editable": true,
    "slideshow": {
     "slide_type": ""
    },
    "tags": []
   },
   "source": [
    "### バックトラック法による解法"
   ]
  },
  {
   "cell_type": "markdown",
   "metadata": {
    "editable": true,
    "slideshow": {
     "slide_type": ""
    },
    "tags": []
   },
   "source": [
    "最初に、数独をコンピュータに解かせる最も単純な方法を考えてみよう。\n",
    "\n",
    "上記の使用済みの数字を調べる方法を少し変更すれば、各行、各列、各ブロックで数字が正しく1度だけ使われているかどうかを調べることができそうだ。とすれば、全ての空きマスに適当に数字を入れて、その結果が正しいかどうかを順に試せば良さそうに思える。\n",
    "\n",
    "ただ、これでは正しい解が見つかる確率が低すぎるため、計算に時間がかかりすぎる。各マスに入れられる数字の候補は9通りでマスが81マスあるので、最悪の場合には$9^{81} \\approx 2.0 \\times 10^{77}$個の候補について調べる必要がある。"
   ]
  },
  {
   "cell_type": "markdown",
   "metadata": {
    "editable": true,
    "slideshow": {
     "slide_type": ""
    },
    "tags": []
   },
   "source": [
    "一方で、実際にはいくつかのマスにはすでに数字が入っており、上記のように何も考えずに全てのパターンを試すのは非常に効率が悪いことが分かる。そこで、可能な候補についてだけ、しらみ潰しに調べることを考える。これを実現するのがバックトラック法である。\n",
    "\n",
    "これでも効率がとても良いとは言えないが、実際には最初の方の数字がある程度決まると、後の方の数字は急速に候補が少なくなるため、実用的にはそれなりに高速に動作する。少なくとも9x9の問題であれば、十分に速い(16x16の問題になるとそうはいかない！)"
   ]
  },
  {
   "cell_type": "markdown",
   "metadata": {
    "editable": true,
    "slideshow": {
     "slide_type": ""
    },
    "tags": []
   },
   "source": [
    "バックトラック法は**深さ優先探索**の一種で、数独の例で言えば、**候補となる数字を仮に入れる操作をできる限り繰り返し、もし最後のマスまで数字が入れば成功、途中で数字が入れられなくなったら失敗**として違う候補を試す、というものである。\n",
    "\n",
    "深さ優先探索の実装方法は**再帰関数を使う方法**とFILO (first in last out, 最初に入れたものが最後に取り出されるということ) **データ構造 (一般にはスタックと呼ぶ) を用いる方法**の2つがある。\n",
    "\n",
    "どちらの方法にも一長一短があるが、今回はスタックを用いる方法で実装を進める。"
   ]
  },
  {
   "cell_type": "markdown",
   "metadata": {
    "editable": true,
    "slideshow": {
     "slide_type": ""
    },
    "tags": []
   },
   "source": [
    "バックトラック法による数独の解法の流れは次のようになる。\n",
    "\n",
    "1. **初期化:** スタックに入力の問題を追加\n",
    "2. **深さ優先探索:**\n",
    "    1. スタックに積まれた問題の途中経過を取り出す\n",
    "    2. マスの中で、まだ空マスになっている最初のマスの候補を割り出す\n",
    "    3. その空マスに各候補を入れたものをスタックに追加\n",
    "    4. この際、もしマスが全て埋まっていたら、成功と見なし処理を終了 "
   ]
  },
  {
   "cell_type": "markdown",
   "metadata": {
    "editable": true,
    "slideshow": {
     "slide_type": ""
    },
    "tags": []
   },
   "source": [
    "この部分の実装は演習課題とするが、上手く問題が解ければ、以下のような解答が得られるはずである。"
   ]
  },
  {
   "cell_type": "code",
   "execution_count": 11,
   "metadata": {
    "editable": true,
    "slideshow": {
     "slide_type": ""
    },
    "tags": [
     "hide-input"
    ]
   },
   "outputs": [],
   "source": [
    "from itertools import product\n",
    "\n",
    "\n",
    "def solve(problem):\n",
    "    stk = []\n",
    "    stk.append(problem.copy())\n",
    "    solution = None\n",
    "\n",
    "    while len(stk) != 0:\n",
    "        P = stk.pop()\n",
    "        success = True\n",
    "        for i, j in product(range(P.shape[0]), range(P.shape[1])):\n",
    "            if P[i, j] == 0:\n",
    "                success = False\n",
    "                row_nums = P[i, :]\n",
    "                col_nums = P[:, j]\n",
    "                k = 3 * (i // 3)\n",
    "                l = 3 * (j // 3)\n",
    "                blk_nums = P[k : k + 3, l : l + 3].flatten()\n",
    "\n",
    "                used_nums = np.concatenate([row_nums, col_nums, blk_nums])\n",
    "                unused_nums = [n for n in range(10) if not n in used_nums]\n",
    "                for n in unused_nums:\n",
    "                    new_P = P.copy()\n",
    "                    new_P[i, j] = n\n",
    "                    stk.append(new_P)\n",
    "\n",
    "                # if the first empty cell is found, then,\n",
    "                # we don't need to see the following cells anymore.\n",
    "                break\n",
    "\n",
    "        if success:\n",
    "            solution = P.copy()\n",
    "            break\n",
    "\n",
    "    return solution"
   ]
  },
  {
   "cell_type": "code",
   "execution_count": 106,
   "metadata": {
    "editable": true,
    "slideshow": {
     "slide_type": ""
    },
    "tags": []
   },
   "outputs": [],
   "source": [
    "import matplotlib.pyplot as plt\n",
    "\n",
    "\n",
    "def draw_frame(problem, fig, ax):\n",
    "    mask = (problem == 0).astype(\"float32\")\n",
    "    frame = []\n",
    "\n",
    "    ax.set_title(\"Sudoku solving animation\")\n",
    "    ax.set_xticks(np.arange(0, 9))\n",
    "    ax.set_yticks(np.arange(0, 9))\n",
    "    ax.set_xticklabels(np.arange(1, 10))\n",
    "    ax.set_yticklabels(np.arange(1, 10))\n",
    "\n",
    "    ax.set_xticks(np.arange(1, 10) - 0.5, minor=True)\n",
    "    ax.set_yticks(np.arange(1, 10) - 0.5, minor=True)\n",
    "    ax.set_xticks(np.arange(3, 10, 3) - 0.5)\n",
    "    ax.set_yticks(np.arange(3, 10, 3) - 0.5)\n",
    "\n",
    "    ims = plt.imshow(mask * 0.2, cmap=\"Blues\", vmin=0.0, vmax=1.0)\n",
    "    frame.append(ims)\n",
    "    for (i, j), z in np.ndenumerate(problem):\n",
    "        if z != 0:\n",
    "            txt = ax.text(j, i, \"{:d}\".format(z), ha=\"center\", va=\"center\", color=\"k\", fontsize=15)\n",
    "            frame.append(txt)\n",
    "\n",
    "    ax.grid(which=\"minor\", color=\"k\", linestyle=\"-\", linewidth=0.5)\n",
    "    ax.grid(which=\"major\", color=\"k\", linestyle=\"-\", linewidth=1.0)\n",
    "\n",
    "    return frame"
   ]
  },
  {
   "cell_type": "code",
   "execution_count": 112,
   "metadata": {
    "editable": true,
    "slideshow": {
     "slide_type": ""
    },
    "tags": [
     "remove-input"
    ]
   },
   "outputs": [
    {
     "data": {
      "text/html": [
       "<video width=\"640\" height=\"480\" controls autoplay loop>\n",
       "  <source type=\"video/mp4\" src=\"data:video/mp4;base64,AAAAHGZ0eXBNNFYgAAACAGlzb21pc28yYXZjMQAAAAhmcmVlAADMXW1kYXQAAAKhBgX//53cRem9\n",
       "5tlIt5Ys2CDZI+7veDI2NCAtIGNvcmUgMTYwIC0gSC4yNjQvTVBFRy00IEFWQyBjb2RlYyAtIENv\n",
       "cHlsZWZ0IDIwMDMtMjAyMCAtIGh0dHA6Ly93d3cudmlkZW9sYW4ub3JnL3gyNjQuaHRtbCAtIG9w\n",
       "dGlvbnM6IGNhYmFjPTEgcmVmPTMgZGVibG9jaz0xOjA6MCBhbmFseXNlPTB4MzoweDExMyBtZT1o\n",
       "ZXggc3VibWU9NyBwc3k9MSBwc3lfcmQ9MS4wMDowLjAwIG1peGVkX3JlZj0xIG1lX3JhbmdlPTE2\n",
       "IGNocm9tYV9tZT0xIHRyZWxsaXM9MSA4eDhkY3Q9MSBjcW09MCBkZWFkem9uZT0yMSwxMSBmYXN0\n",
       "X3Bza2lwPTEgY2hyb21hX3FwX29mZnNldD0tMiB0aHJlYWRzPTE1IGxvb2thaGVhZF90aHJlYWRz\n",
       "PTIgc2xpY2VkX3RocmVhZHM9MCBucj0wIGRlY2ltYXRlPTEgaW50ZXJsYWNlZD0wIGJsdXJheV9j\n",
       "b21wYXQ9MCBjb25zdHJhaW5lZF9pbnRyYT0wIGJmcmFtZXM9MyBiX3B5cmFtaWQ9MiBiX2FkYXB0\n",
       "PTEgYl9iaWFzPTAgZGlyZWN0PTEgd2VpZ2h0Yj0xIG9wZW5fZ29wPTAgd2VpZ2h0cD0yIGtleWlu\n",
       "dD0yNTAga2V5aW50X21pbj0xMCBzY2VuZWN1dD00MCBpbnRyYV9yZWZyZXNoPTAgcmNfbG9va2Fo\n",
       "ZWFkPTQwIHJjPWNyZiBtYnRyZWU9MSBjcmY9MjMuMCBxY29tcD0wLjYwIHFwbWluPTAgcXBtYXg9\n",
       "NjkgcXBzdGVwPTQgaXBfcmF0aW89MS40MCBhcT0xOjEuMDAAgAAAIJFliIQAEf/+94gfMstp+TrX\n",
       "chHnrS6tH1DuRnFepL3+IAAAAwAAAwAAZUDfKVB/eXDc4AAABPLaXAGgmf/Bmn+QCfNDvnlDQJvL\n",
       "rhDTkOV/O09XGst6W+qaSmh9GADKH1GiUkJzKM391AGm9a3MPfWahXEaPojXmj4gb642M153vcJH\n",
       "yBfYnuPOCH2eiQAjIEHhAbDftlyVmUQ74WpAWdXpQW5ls958ctkUQl2SJpUfR//bvCH07Aovcbml\n",
       "Ea1FZYj2eGhstXab16Xj+xGNa/cF9napLbb/Bceaf1w6AVrRSyHF44VnBLDYfafHZzsUFCqqDRrQ\n",
       "0B0RErpS+5dkOp/M7Qxf9h60ZFFohfNZ5uHR6dFswbCh4i9oumkWweEOCdHUlJfPf+L6LXwMAl9S\n",
       "cLsnjA+592TDz19Dl7YxP70NMMvkLvNPkqsZ2TFKeLELbprr92hbrKDVbeKk2QULWXc9uPzXH0Tm\n",
       "0oEknjc5AHLpp78Ipa4ZTWCIiOVjlIfEyZZoqdHIiXsXV6R6lqyMRR9BbHdKz9USaiguqbIWJEyj\n",
       "/RIVMsnyKxcFSpoqkKZ/fRxUyGq+xhkdmTvlWrxCnwSPcNQ99hLVPyU9s5+0itGe26Ncc67hAFLL\n",
       "IPwKLeQB96mS/1TR2yl3qUo3kM4LLREEigoInKRfnwxKNNYHau5BhMRwnyt5bPSFxC9/HcwaGTZ+\n",
       "1tADPDhDj47R5fwh0Nv3hffFTTfk+XpyXbcaVCKisRHJjGnavOe8B5j2zI7L8B9imJnYtuCR5RzL\n",
       "qEYmSOG3STBtfXUrV9z4MjJG2Ihi4+sLe6FFJ99o8M9jN4egA4pO+p5yAts+h0IE3w9fSu9qcoHb\n",
       "tepIwTEsK4O/27IwsCmFfKPdk+TcAt3EBE1Gyx2bIoih47BNl7vgxr7C3NgK/z83XCoeMbwcX2Ga\n",
       "IcWXoAzVcRYDhi7lO1vR0IvASOBCYfs8O1L+TIF9b8w93iKESjhz284q7i7e04OxNGBozz8QXphs\n",
       "w6UibkkOJTL7klgHXlRBDffmpIx2IajRLMcZqtW54+W95jxnYxVkU/PCtEMjl3ydPWAQ2JClE02J\n",
       "BvDWBboQ1D933PF1ezLghGjD/RobfOj+m970rUOxYT1N6H1/aNYfm50kbaoM1+ILPBZ4kgmeKMZ+\n",
       "ulfc2VDmU4dn1x8ikbjToAvgkODov7Nlh2nYkynApKbZT28wZu15ZWvPr3K4JvZ1FoXsuLlrL6Yr\n",
       "p+5/y2WZUc3PHvFj4HgERRlMNb5jKf0SbJg+omAfatPyVQEBih4UeDB5cJfXxiAgKSjz/ANrtoP+\n",
       "ZxSQUucr5h2jL6olODu+W+75i89BSBEmArJGD+hDY7ngZ4BeyKEft/aOspaC+yZUmao52cUdWjEp\n",
       "X9IwrPIrFiacZmH3zom+xrdZDhTQA0nXH1QLIzpeFDRbTzRCUsPH5uw8pM+YCM8Cz4H34DuQZzBN\n",
       "tsYFmcc9tWgJP9cCgFf/CwGrOpHg1dh//5RTB+AGCa/tyiqSaZfJRHs22uoMSsSjKS5xbLZMlxmH\n",
       "/6yvCxnyX2uwWP9Q9/eEhkbFD+gCzDcROFigF+WV4XomysjDC24Z3N36U3EfPCBv+2vj10xTSkFo\n",
       "vq1evqoPqgVfZr+P0aPGauwZhCUfHFmXKcZu1wtSraaZbpm/Cz7nK4O3Wye24+AmoUz3/7WFoB+z\n",
       "39McIS9+aJBLt/N6Ml33wFRtO5b5TgmAEEbHg/f8YVJIlIhbgVusJMVpDxDozOl6xZBIqbwXVEm2\n",
       "oXmt46xPmOHEykfg5j1MGGjucQxu4eCVMJXig6RJkoxCz9OacuBqgG4XJjhKPxhOGdR1ahXiQkwM\n",
       "qoIKJ35gkNJ3geBcwVhyoI7I/RNm0GWWlgc5Np6p2XTpzQps01S+L/sJx8ywZWLLNOSmwoEtWuXY\n",
       "6Zb+zVEIWRA3LnIA4mnfTcHSEhtB3mWUq5Qmj93cIs81p6yiSh1TCbbISsKKwZ36xzw0VnHu6Y7v\n",
       "vp6n4102yc3Osf7W9T9dt7VaOMbzSPuL8GrUXh598wOrqF7MP7U86AMs+OHY/nTnkCkx4x9MRWU2\n",
       "imdwP7i3uBzAHaQ0yEIMX1/nG4ywJanWULMGoIbEr5tUC22s7jn+NiCEpGNj9jLIsGA6YazJdDqB\n",
       "PNAbHrElHVQsrCwl33amKT5z5GIQrZLQnbvgSHLmaS1U1gKHhbtBSjpsP3fuwTa758tcqzl7HG+q\n",
       "mkqTVcNX6KCqjEEq1tKC/s8ACeTEBLceykweYNrITQgyhbklUtNWeSxn7wJyBm/86p2kYNISdF7b\n",
       "IcAxL3xJCeMHdYWbG86W6cASF47iKRBpmLCUwAe7P5mQ+iurkOId9kQLbIyNgA3EiVbhwKgmsWiG\n",
       "33K/h4OwUvB/nIWNMeG4iOnICZQFNAhmhcV22NMgIBLobroEmwGru23QEt6mKPCwNvW3g+gAURUl\n",
       "1tavavHmgRjcRELpNk9uIFnu02fTPxvfjqoePvhZKy4kCWopHB+adz/X9cTogKkJK4NyNlE7JjNN\n",
       "4EQUKVvMr4F5COfuYvg1Og3wlhwCb3YwHnJUYyNCPWI+oeQaaNqTy1/9/NcjqkxDtEbIU0GhwiZX\n",
       "wNk/8ZUkNFaxQtiqQsKWgZkUsKgCzBV3Ry1EWFSjU6q6x6Q7bcJwmqulC+JaYgMvWBRQuSzseqO4\n",
       "sllxE+JRoetD+17r//NI86ih29fskYSQAqVMMOiWnGzFzfZob1ACWdJbhDR4I2K8m4nuFXJX2qNQ\n",
       "UTZB2pT9rEZGgj8i8JlcNU4dAVOyW7EwVAzTDcEGvW3TrtXkXyugEvpt/wvxc4Mu5NpkEbGRywrv\n",
       "8cqw9mU98WZn39ApsB6RJyi75IGIVMSMadhFVBKSPHGv0InRd6HYuOqeLtUpzl2k8ci5MB4i56vW\n",
       "XTca0GEr2m2YY4Ytr3AGme6bVcEc8DzEpTmUmyH/QPliSTB75eB62mT4uDuESerJ/i6ySK4dIUEF\n",
       "neWKZIMOfb0z1hIRc6JKD9ZWzZrtx+kvBnJ2fE5bTbyU67S0pihl7YABCwTM4ivQBah02m0th0xa\n",
       "f1QgbZtpCAB7IGewD9RyRQWyqyN8HmjLSUKS+zQ9/41GjUYgm2NcVM7UGbdbrtqSEKlntzKfDXiE\n",
       "d3TXFOI8Gw3w1Fki345vGkT28jUP3nOQ4XHI4kzQZYmX51vz+tetfEHK71NilQSP11Kk8Kn/d21s\n",
       "sWLU+Ui52Kb4xruPoye3YbhIKv6eeswYLaXbvJcj/S8w/PcqbOZmZQSfev4wj+gtWi7UUfoDvGQH\n",
       "6qy5tGn0faNmiKichrAf61Sfh8jGRHVNiLMcSxYNdCbTTJZp+ubHmymg+eHubQL5Vh8ORwJOs0+X\n",
       "G7gBDZKTQuXYs4U2/FJiKRGta2SRZzixQRi7W7YXLSn4bYrTK91W4mHsohEoAFzum76Xl8HXLTVV\n",
       "1MOM3BUqqS4cQ7pamfg8Vfaus3SwRDu0VIW9NivhDV6uEcssnMBSvN4wnTb0jih+/X88gk4PkAAA\n",
       "ay3ZqIlFJBSJdWtcQ3gnCLnka9+JSJ/9hIux+VuJYGnsIJ8BlX1meRNqme0pQBIcShrZC9OZ4NB9\n",
       "CXy+KVmSsy2FpzRLwpsoTTbREeizIJMUNCvNeYa3U7NLaxS58T8t0FwbzPD0Lm3W4tFYDFn8eXvF\n",
       "n7NQ5dSIv4O53b/vHPTNd9sd3bm/ZRoULz6xrqGdpwfWQZMeP0AANcVp4kY1pgbVgUCFnM95/hpV\n",
       "xqLdevQMBSxmU6ZVvOKT0yVKEH7QnmXAZ+QLK1HMZGIxIC6PdXtBsbatsRrKLMRFgV28iPFf9SF5\n",
       "UfEbsg1hEEUHxE9zjgj0+NkNCNEkizj07rWm2o9AeG8EYHowRLoq3Df0sWVRbo+CjQfKqgI2qYKb\n",
       "up80toYKYZzmZpurV7Gims79VQ6gUoS7E1b4uiwg19yF3PV7TRR2LA/cEd6OknOlMEeDnOgHGJnB\n",
       "439iYxC6eBO98pB7VVevDNReAw6u1uyqph8CMIq+Em6Ih/R4VaO+lKEOzMqwANPdH2ROqraWFVvE\n",
       "c2KjxPPq462QKM0YTAWDaBP/5lnRJ3/4/CK5bm7dllem+odhiKR/R6NgWPVEFzvC7CN8GQZN4YC5\n",
       "+DyH/QXbi6DIiso26GFhwRx6VKOKCkWz2SMUh2xwMUWHXM6axuSSUAX+jXjKIyNo4BG57tJzj85J\n",
       "B6sFxVyiCO4w03fhsYDvrnFC1mlMt5+RPV9vvj546W5gQeGWv2ewm4uZpW6CKtrLM6eMH2RJOSne\n",
       "wv/7Ft2p0INFmSFvSENW03kaLcYrgAHHro+tJIdr+M1hwhi9zUBeYK/0QWfMO1blHGm6DMOrlJ34\n",
       "bd77UpuD+qe/qZ3nawqRLdx6BdrrIEF1/2RvkYRNaQZJ3gcnzzM4mRiPMAAAAwGg5kf7CovGB01+\n",
       "qiW0V0tQhT8Gr/8z5W6twR69oMAQqM4/f/DvzPXOe9/7OxN9WHBW81QrPKPxvRSyW11Nz9vAy30P\n",
       "900gL2v8wrNsBDNt0Lrox52BR6T2hRIFpdaJrl/2dzX4TmR0A3C8ckss4enixhYayQnw0b6ZX01O\n",
       "COUQobOB8Eso9VxYzMjHzhjmY60LTz8LxQOVbyRUQMOqQfzv8XGaJg2b2W8bj85SVVMDsAR/OK5W\n",
       "IPgrOp0r5WxdSn6zZN1uro7eUkH+Kw2SAyaJCsbIb629KhaK3CSso8cNTwdyh0k4BMqRF1hAAkVn\n",
       "BqYp7c3oNLpiFsHIy4UW82EkRDME8AxDYkpUhseX0AvAObEWQBHdHns4w11c5bP4Th9x+wRrlB4E\n",
       "gVmSI+oThhr38IIyVaEZeCwXT2cYoN37Y5JAw2J6ZmGEpq1Un88+eowYvk1VzM3+bRAxYuq5rQWt\n",
       "BPuQNeuSla+wWri9TleZzMRf99uWVI9JjngW/Mn24RwE/vvOuQDSDoq94dfrDiJezMQvB+uu8UX8\n",
       "wP8Kz/PmGYY+XavL6A6zSXdiut5hMLZBxPZVlFXMAWSxChwJTRQg6SChpSgTzztsYrYOlqpzHHKh\n",
       "3s9PC2BKWnrXSYh09RmdSamT78OcDO9LEFs2S26TGl/oVR1qfzAx8alDOfpRAAADAAtnAf+XFBma\n",
       "VWTEcDTfcIJM7s4U25mUztkhhQyTSm+h6/eC+uLf9JoUlnVw9ScRwQRUxkSBqSHNNJkQAqBsUQbt\n",
       "+CkwmoTSxe4jv4mNZwoplotYufc51w9kdbURVAIacKSUDwfGPyODV7UZ5m51nHe5tCvfdV5MQ5zN\n",
       "N0yau5pdP23Vcus0hHad3jBn1J+bW/AUBkRVezuqIL8mynNd1S/bSX5sGZHCy8hAY8QLFnvLcD9w\n",
       "SYAAkYQuiidIJlCJf5Hq8ViZuAnaq5l/mRWmsa73B8bnENbZ7+2J8dt77E7ki6uCvuisuaN7e1iK\n",
       "UqXx37+4O0RR+q6XxnbOmB+7pv26OILJxDebZsKRnxDUAAAJdpallzF7S/s/OTuFPmLAH5IGDieb\n",
       "RWMAQlc5fBA38SpfAZFNiIrYDUJek59k4IITOGzP4Kafw1AzXWP/qtbnzXat45AWnyApWrqKyzRz\n",
       "ori8SuwrEoZBMy2MqGsSG6/UEpxnkXdcOROlGTsv8fmsAJvpBXV9klGyH3aqaC2uvkJyaDUjdQ0G\n",
       "yzYxkgqpYPnr4tsBhuznnm78AzV9XjV9/LME80zVW8OAK1z3kI9Pbpx6sFjZbG3/lkOpmr48rlLa\n",
       "lX8bWubK6NqprCtYa/5RiHWWEtagVW0GLSCoq/tGXhxP5omDdDf/oKtFUEt4NKeZdL70iSA9OmA7\n",
       "KD13rD7Ic6E22T3u+Lns2Is6YCqR5t0h+Zhi94eAAvOs4zyNniJZOfP3ESiaC4vMvzT90D9y/Fdq\n",
       "4PEpN/0zESoHq7+DPG0ZF7y9OGdPmC5Z6wjWxcyZtT8MqVIe/HccuteIp/jX8qnzfQcI3+aWzfy7\n",
       "BWLhQrbC00m/8ReB2+TC2vJt2ynT8kbZooals74RIt1RNjCQLhTvro0le3ZVSaK2xo6Dsyjxbquw\n",
       "4/r60sS/3u8NtPZpv2UN435x8zPxJdOs7cMgtHa5mRxa/f1PQCYfO0jB8pF46a9CmgonMykhZxdt\n",
       "0mBY2a95vT1+y0jnySj3P9A5ti0fN9OaZRXhnhSdkRTjOH634JMmOapM1lVP1vZY8xC6QaMvjsJu\n",
       "qjgHZ9LxXS0UFu4c1CRAAAAxbAYZ95vzXpv/TGJatfy3251roUQJR+exmMOCzssF6RahWviCq1vo\n",
       "/UPM2FqQ7sdU8ahiGQP95YfXaMQTf6LY3PXNZigNPHDWR9N/vKbbhcDgLKpr5pp88uzj8e3w+4kc\n",
       "reF1Qbwk3lGQRvvg6VapayIW749Zdv2i+63vEpg8WZnTqrWkMUvoc7akzzaFimiCN+hadfDRVHNj\n",
       "FIxsFseakGnsAjyS6eoblXbVxYYXBlLYJrH8kXF1HbgAM3dmAwk7JEqAgPPXlBd5W32FFCggwcrF\n",
       "6Ip4wrkjWJGScuiGKrEa9WIMqA7eyOIW67hoAoig36wP+f0Rf8NXmIb6gM4vj2vNJ1d/581/ljzI\n",
       "REF7KvnbGhV1vozwbDYVsvYENpuAfabcAd9fNATpHF1bL8oHXJwCID/PjNPFuXCD7PIC46z5zHdv\n",
       "ZisJOKND4xWQfxsqETCV7uDf9Ar2ZM/V0YnHx2rTkeWyrbJC4uFUFqbb1S6eKttwdfbMokV3O6nj\n",
       "V/26Od1uu2g0Lmbt+B9jjH8LP0+DOJ7nRgb4br+6V4laSOPC3//S4qCsLVpzV4/Xaz5H1D1dX/Rf\n",
       "jhcXQ5I7OUFKF+49r/KpRdHIAu+G8AAExGPma/L99LqoiUvl1gIGrPNu3DJ9o9ydQNA1OsH/yVvN\n",
       "GmC/k8I0kJuv7syWBdaSdcMROw/5KjAMgtVapsNc4mEv4mEngUxxr6a7L4zid3WTGCO3ETsaOgZq\n",
       "n7Hp/iA2hB0BkDMBjbtACbzfsg4zaoa7LSe5zyClLgnMNeOGN6LPfvfgB1cJ/sIGqJKOQqq1YcPU\n",
       "lmVHGrlgJA2e7ikD/UQfviPYaB1vUx6SF4beevsmkyIhP3ol8JNvF4LlnPcBM/YA2RAPCh3WrCe2\n",
       "izNchPOecVYZDyw+AAqIfHPoh66f2BTR3vLkX/aGUbqJxucSS1ttXcJf/oj2sH7ZH/6uG6wWThm2\n",
       "7BpYY96+A5Ovr56gvWU0Mz9eYKO1QdAT9KyJ1bdkG0NilSVfA37IN0J/doCuSxdW7uSnKDj+Pog/\n",
       "ZMuxAMpmuoAfXb2Vz8fUh5O0vKwCHHPdHPqlqRCOz2fzj8W8nOPDcz4KlLBDYYRo55NCgyB4Wsf3\n",
       "EJzxqUreOKWzMdjrcvcza34cP5FnyOwchQif7pV9S+rK96RvKFFn8c4wv6nO3MA68HPf4/mCwhZT\n",
       "CFvcaLwlkaVOGKaXP7sL2Zh3/ZIcEIx/iMYMeb25dGqe55+oPJS/KyJhxyOO8qxkpXdAQ2T3cOIW\n",
       "+0tVpd/ChyKiGrzuUn2GoiipV7qGtf43fD1+n57xthSZo0vHEkSq21wIAAAl5C5hg8v0GfkNENju\n",
       "JEdoFSGKDQa1cKQGtLQifDysgb/caA45vZYN2OEj4uXaD6SGQHquFEHu9/s4WRmTEaOgU/1+zTEF\n",
       "V1idzg7hVOssjHgC/NFZG2aaJv+oVnx6LQ2C1J4A/Gt2Vt+Ka62wvIAGuwI+VPoQmaHwY8PkDmwH\n",
       "ZUEAb8mnFbtK9uWdO7pH6r7cAdJwG3SKMzA2iQ5J6iMH7pXZ03zrFI/qsqIZOSfAufVxKyVf6aQJ\n",
       "U7/kt0aM4GUNB5EvdI7dsxaZCAfSmqg5YESkJKGdw+RU+6AvixG0rm6fjkB9Gu0MXIizNdVi9lnp\n",
       "Ymn04mA/smtzmMGpqjZAEoBgumnb7XOO8G4eKdysmQVixYxrJUnfwRF3GiFkh7mlNARqjB2uPsGO\n",
       "dYbaU5SrjjCmBld9xHFbtzIAI5/jjabG9iqJErhBHhdLdXrl6tSrP0KqRgZntnkFbDhhROu4Qxg8\n",
       "fo2dQBqdM7HHLxMhW8ojQpHWFVE30SIH0P5MHDwYS2OkufhxEI59up0+MHbf2BVnp9VrgA25PLRg\n",
       "P+hnLHojaQhJH1tnYC5yCf9AmF4HV3cgq2bM0rtCVCG26BV1OnfpfWqb8U//Z6J6BYt/TYDx5G9/\n",
       "CtmLbxDxspIrRO6QUmQeWMB7m1sjg0NytaXLkkLftLs6TRZ1UzhrAzfN/hbqz6TyPRdw/XCez5os\n",
       "iAXeyejooJaMoPB3+z6OhNVIwGt5XBXiTtnTZEGHGYZIRAEYePKoGVsbJbPPLADd/wb/ipcszzwo\n",
       "XIkwznOOHqi5nqXwXAMVr6q4WK26OYBao/XorHTrE7JNr+YyfQpmKjEA6Ds0hKp/wCvXS29i/d6/\n",
       "a5vq10R2BRIzAlWzFBwZ0A3XLaPVZn4qdpjZ463ROM0Qx68qdgXmrY33ARCxfeVTSui/eFyMc6ji\n",
       "bCoZczAAAAMAJErY69VsJpLQv7CSa5m3aSdPjv/lFz3NOmF7lZKNOVbLHNfvzFiYp1mt8aZK10eW\n",
       "bX8/qtiScA0ZTuHmuu1Ba1jhBFhDvZD7Z25tucjlzet61zR4vQns8cUyX5+o5AkRKa04w6pEaO+h\n",
       "Xj7tATDRFUIC74gKL2PJkbDsc7buyGL9RFMvoYqx7Jx+1ahEFU5zC/LrQj7m8NyRPCppxh4y2JlG\n",
       "ta4gpcLhFqWcC0+jVNmuSszCchRHWzB2Cuvu1Do3aR+c22xlYLipXQOVCNZUlGFlhscYGFq6Tu6l\n",
       "6Ar7Z6pMoPqpKS3TzdmD17SyagtTDeoYtgc8HlWV0q41TtWlNY1auNFISBwpMhGyCG+CeYwL9bb3\n",
       "78fFDxNjFf6/6S8sUGj8aJLHaB4wx7MCMqdSiEVCC1l5I6SCAdd2yBDogUHeAANmbAVlB/09th21\n",
       "iLHqxksPsuWB2rP89BWZhxcmo7H1oT8581A2ZlLcFePLDKWE/Admg0KJm9JF/ck5CScZjp/IihCu\n",
       "IhtRpNSysAI7fSzJT6d7YFOTnTzD/r6t2axa2LnrBlmLWAsHw+qxfPlsEyAA2ptOXCk0+saoqksr\n",
       "WEJ7e5vIclo45DWBFB/ag2phUfEtm806ru/HCTS1iET+mJP4yFFB2kbzX4b//pkGyqYI3k9kDmnm\n",
       "K/allh/vhMUGJuSjEEdbpEapnP80TwW+eaje1FOAxn+0Dzx/0OUW6MHwf+RarzFaO2oFBHtMD1Ju\n",
       "ICXvLwPLEKttG3zIv1nDSI70vmbjMW0T1wkT/voGkc2rN1VB9u3CJjzMwbk/w/N1KJ3m8dcKcUke\n",
       "9xmXf2Y9CPg0Hz/6wQgyAjcv/k55BvrHe+4rpJWXNRNQS84t/0W9RYHhCPgs6ZAAkXJ/bwM+jGGf\n",
       "lFY4UxH79tn5s6/ajIs2+Sn9rgu9acoK5uLnJlK2MziLbPEAib+gNKcJ8RTPWgLsLOKPy+2tzw7s\n",
       "kgXzPVqcDerC5uieKHuDxR42VZ65bzWGVdmvdkCjvIZxZBKv7XAMViLAysaVBiQdxN1IXCaFcca+\n",
       "u7vVEBeGeByOimj/dql8ct7qFZ/I0gXxWSmXUSZy0Qvb0mgKeJUuKD/ixhYShifGfOWirEHKI1Ed\n",
       "n1LGSNEclykshqBEvjja44kPDg2SxxLaVpTQOHX7rh56nBHtpb87wWMaWjSpQed1vlBZthtoHnb4\n",
       "8v7/yptByfGOrNaC5e+AAASII249QUtveZulUt/LT31wCbQfaUbw/lwMogBo5a98q4zH6hkC348E\n",
       "NCHxl7ZuuX5RGbKDvrh7xkTZOEi52qDdFhpdH2+09g7yIkqFco2NUnHkU3mKri8dt+Oe6+VxBPyu\n",
       "jd5ULMensrxS4bCyGoq+YF+xRBpDtjkyo4K6Ui55ZdS3Yx/h3IAgeFUuNiHt35laFJj5sY5WpkS+\n",
       "W/PU+nUO1isRavaJt5BLhbsWlNWswWVeBYczVsgvLxZaXnMxfl5FAaIm/Blo7KP9PzVi+iiO3HOn\n",
       "JIfGbv/SM0Zdc6AYw4YG3SlozMGvp80rwcEp+X96zx86ASiO+f5/nSihFLYWyhW7yfoDTLPbAsV9\n",
       "IE2px+EfxI+Xmm1TSFz1jRi29fWLZA2bbG9BQIid8x82bDrq4PDRCdELrR0rFRBmCD7sCgQHzw4f\n",
       "p+Xo1Eq6EFKxRSrkZ8vtKZP3Ejs5YC1cNVgAZWjHj2bTGhHOrmM+KQGaFQKAKr3n04+9Mow6/gOx\n",
       "UGnyy4Ri1WpOxc6JLWe3rGFzHKmjFsYfBBC7Cfge0S+hFAS0z5j3RSqF6wBVKKPxLnIozOnMCra3\n",
       "omXdL61qL0NkjSRK+34+wQERZkxfsPejkee/w82i52JXoKwFWi6X3kK0kKQJDbBAclNIoV/TsBW4\n",
       "nQnZ8oDtJvJWGwyuvjT9Nz3T3HBk3fTi+lLmWLMn/DB07W5QNsAWIX7Cpfeoz7bljvO0X86jQVz4\n",
       "yG80M5TEd7C1IVu3VJV0OQDH8934AY7EXz4jfHzwFVcrsbibJYUaS/uZP0AxO854abPRbgsT2GlQ\n",
       "qIv75aPKusHsG77Q97mpz4F3NSErGAzhJMdrrTbZ6RC48OTYPPgSNyBrH/VCjXW5Fjq+WvSKR/nQ\n",
       "Ui+UO3UD3Es85HQrEO1IGmn1NaPCemAtxLyydNfglNTExf9MGv7gzk2+6/P3A3m9E+gPqwNqQ//4\n",
       "+UjA5x6OpY1n3c2OePOakMBIGvqNLhr/XPeoqmETrdUq62hfABFD9//P9mopN8xGXAYjy9Ft8k/a\n",
       "nfW07tW5O3dhezMsOq0dzDhBP8eVg1eIDX7U9ddmAxuCMA0IIXTvquOfoI67TLVnZpwPvF31Nwan\n",
       "MQVcp8GOvj02KFs1PubWy2FhHfSXSQR4v+YWhbbwfIAKjgHNe9CC1iSmTOdoVvBZwAkqiXY6Jp14\n",
       "m5mR0mKImem07LiPw6BnP3JS1CGQJLm6GjWTEmODJVdRyRWoHWKwKSDjEb+/w019VhXVyeyQM2bY\n",
       "2TLq2u89vbvkxMyu52HlgMl/IQvtfi4lTuzi3XzZ1VTRArgazwAAAwCeL1Bcar5WnUd04M2N6IdU\n",
       "wRGmTd04r37+tmhb8j7fZODQyTI97NyoOFgDbNYO3yjPcsDP+FKOE0Z7lozeTy4GSncAAAMAK2EA\n",
       "AAVcQZokbEEP/qpVAAkCXZvkAm+rgSCz++ot26zW7O/YAER2zsqvHcXDEt8W35XvZQmkVE3DEX5A\n",
       "CYwW7H7SmvGTxZ/Zrlzir/Xx+2dUCMx7FjAPGd28VP/AzDCiRUi6ifG8w0fGm6OgpH1Wcr/FXbU4\n",
       "G23KcFtgqMUx7Go6LVOCBRiunSQNgydCSJZkJJGuVE6ansvAhvrgZZAmMA9UsEnNxId9p0MryQsb\n",
       "/8vGOxvP24j6Hv7e1bSlNqoCgtmAXyEovojQnl+LgUu8t/sj5+k8vItSQru1xpMN+BmS2TFdQNjs\n",
       "X3FRlT/ABDWLU0yolR2Xfp52gGQvQcdhNQhn0TsKH0u7VpOu2y4DzvgSpBvn4uiyPAr8m/BPeOAO\n",
       "CPjLLV21Ix65674LFZZHsP57P0c925Gbk3eiIXGIYxYEs6y/yC1R/LEoZgRvFRoNlFYATD0qvvoQ\n",
       "K+Az/u9Y22OMIDtQ/4dwXliC/3v/MnnlJse26FL0iZGQeWY85UEVDdKDiwgHufcFqgBaqK3ikkE8\n",
       "0F4M0y9k6N8aiYqtzZtQIc5tycpcK2Gmi0ZtYiDA/EOlEoi4Mebxwp8zlNi7Ablkk/qtevZD9Fc7\n",
       "eTqIsC5qEHx3KJsp92hgQ5H530LylEZwt/6wa/m2xPHeRz9qeX+We6kEqg8ACyZKb9zUGkWpQELc\n",
       "GhU8j+tfiSSwujluLNn/ypNfbCVh/YT+IQ/ETS0Td2HhvOXYNxi0bmWjJM/u05X0h80ECUCMuAj1\n",
       "mjfOqkJDPAIttRgEJTOiFUhlgx4RVQG5vQWB60gWam2+m5kjvBpQrikZSke7L0waCwgr31uWzzrP\n",
       "srwBpwvZpEizzeVlsgYC4ioWa5L45Av7UqjWtPXxRI3QMN//0aaNMLbmrIaDgMZGkg0RgJ5wmWWV\n",
       "UXvZtVU+dk960qN+IKgaeI3BHgccy600ck7P3laqID1QY1vlVIYeXZi4cOS0NUpnRaYt94jDsqFH\n",
       "4mzQZZsR8////Wb3SV7/XqWkniF7J0yIQPUjG3IvqDJz3vzBGUj1J91ja/YW6cGoGFazdUgQAwcI\n",
       "dVehA/r+56jPdQ7s+YkUbY+oUB9xUDTFQSkgZDF7vZe/5PrAxOajcCjFs3z0Zav42u5alEi1Drz/\n",
       "KvBVeWD6AnU8+ajJsfQkVTp2kDvxc0hjNlRyWGY7DmcKfg4wpCH6vaOwydLQ94IxoosNwE8+2V+K\n",
       "yqRyb3Y/14LjIqt1xIjsr1k4psr4YG1eLAQO+CWTdojpbh33ZgLUSnLYKTBUV5cBnUx1WJKwA0Au\n",
       "bPlwwKy20gcVpQG+ZzFszGHLF5oCIY93kzmI/d2K248bccTun41vbP77yL8ZofZYHH3xWeXsOHcX\n",
       "DcxpecF6NQg0swKLZk8fBFsyfIIYCyTH+oJpeGhuSnUewXSCgAOfXQoZytcs0hZ1Ev6/DwX6TroK\n",
       "fKsB63wCaV9JgbPnZXZ/CBCWZzf8XiR38VJWTiiW4mGSoXYDczyLYCDSBNlU8F5o784DJlHdGpGj\n",
       "dXdEIpJkzOXP9jLGxNZpKGtIR/452TmhRB+Kxr99s7rYqaBuyupBuMENDCPiu4nadGDxFlwYBctK\n",
       "jEfXgcj+mcfZXhSdHxiA8cgYk298Hb0lukaw8KGev4EC/9EGESZpLHeKYyPNtbN7Ce/k9LB0MBTO\n",
       "lRYbXlEE5cpwZ1QoMaPKgOyVXasS1VAN8yYins92I+O4BCJmW+wZLnVTMTaDLSMHewualI9lKJW5\n",
       "7VKiMmcZNUOEYx+U/qm7nibOuMVH5WrkH8Sri/05dJ5wag1VBcFaAdATh6Y9FEP0p2jXPPhJbv60\n",
       "0xqZ4DpD5gAAAJhBnkJ4h38AEYck2XzBRWCUO8AJpbwIKf27h4C3F5ALAqza+6xv5qO59mSlt3is\n",
       "Mb9uRSKhhXLDs53wuS1WjvL1iviI38S4dOhxwp95o+mhC5xUp/douxFyS2hdUNarWap+z54PPwfU\n",
       "sWv8EvH4GlRlXXXxmR/iWbT8QAu7nvJ5z0Wjh5D7HDVovhmI/SyXAPWuiGu5heCtgQAAAHwBnmF0\n",
       "Q38AGR6qlVkthEju0kvE73UA/gUv7gABaaeIb1RDOG4i5ZV+1t2duYQOueDSleUphMkmOJAIiocM\n",
       "8NOXcagWxE5OfhfrLAEwi5CnhQmKdCnb/MC8gvuA5Wx/3ZZffQZX3jNEdqGF3RUsKHX85+TgjaGS\n",
       "HzeritxeAAAAgAGeY2pDfwATWvidjxCv/9mqr/iAFkyGMSH+Bn5HAfIaNkcp9zwNai0mste/4Ta3\n",
       "ZPYtTPhzoLpOaynOw7DgrPpsZDqPG4RqkyqBdogOGi/NkZ7qJpsZ6DzSs+34425tgADIcboqdaJ1\n",
       "/3LW5zmX/vTzY4XGW96G+Kifcrk0pBbRAAAB+UGaZUmoQWiZTAgj//61KoADeTacuAS3jBlDe/9H\n",
       "WI3vgDqQgJhH+J66+B+91sKDEVN21hhfPRKqfeeLlEnMwQjh8SLx3CwrB8/wo4+WtG/z/xbK2P/+\n",
       "v5kWsJEWU7YsiRTF6VMydjUBx9skb/IqBdQTkBXtuEXP6HSGWU/0gcFV5CsEJ4EBHJsoO8Crof1z\n",
       "tQ4N+1v8aZpmsHiX//DKp7BGhYeLI+qeXC7rpgAa3KWJdq0s2tt01gC33vGPUFC8hL3tVmvf3qWl\n",
       "wMi8jyb+zjvKtbprMBFbCSMS4X+LKJVBy7wpJzvBA9Q9mo3ZOuoLnpk3/1DFcoArfs49vgiHXWDf\n",
       "IrQQrrydL3w8JDRCd2LKfPsZN5VoZFzZKYm+NHGlhBfNBQlscsVsXUkodlD+VA/naEBVMV6Uxv55\n",
       "TFHGouDKq9j+TKIiZLUHOZkfff9xN+FXy4QUE6EAXrgEIJD0yLAsmZ87vQ886CBcEt1GmjqcGekH\n",
       "mvbyI5hgrB0tKw6XZyn/8X5k86zf5egYT0HAYWWXDCjF8XMQu8LvqGcQZ+qWXIstrm5QrcaykXBZ\n",
       "fN+RsmaFzhYXu1fi8cpl/s/NWNBymI1JaLf+1erIX27VWCNqaFqnS2leHrrA+9Pg/yla9evnd7tp\n",
       "c8wzfD+hbAyRKbBH6L/UPYipArcAAAJkQZqISeEKUmUwII///rUqgAFC+dJArpK8q0t9xM2GTbXq\n",
       "+I4nBcJvuQyHk51/6KQnbxFxPuDXgwqfVOSQGtzTcb7VjUUtuJHYOMlzr6QKzPDroT+eYOoThAyk\n",
       "HDlwoT/w32sDvj63Yo0ZBY0hoIdYp90XEdWBsKFN1sa9IjuPfpYVgfSBExZpYZY2scjy4YePA6pN\n",
       "VOWwdEvCleOXkRimmICc0bQiTwg0h4J6s3ul4i0qAMMbKpkcLqSPCMStSO+bdH+VD1hghgkVXnsM\n",
       "6vcmUwcUzVp7jsz3N/ZnL6pEHQ35Urb+3O6EPUDNm2ZrHkmTkIQnWglmEtTCzegHSWufjFyUtg4W\n",
       "yZRSm46xGKaRT3p0KHHVzO01K+9apD9UwggBmd5jVzc7NcKgUyMsaNmkLu0dFiLSfp0vT6mhfdWY\n",
       "KCa1qIsq4V5PKvYbxkNsLYH6wLuzaTLDTnOuYN1xU482q+rCo0d3b7jQVhYnJPld12dExAf5n7w+\n",
       "GCMaX81m/4XOspeZHm94pQxVKynL3UlWAXsnDMYGh6SANl7AtcTfZIzIbRXQMiA6ympj7TewpF+7\n",
       "fhBcBtmJUv1y5CQAtLm9kHbe/UfmhCnMTaGM7riMQiLaFClwhG8hL7YWnjWyiuQOm8wfTpIhUVXF\n",
       "dmzLnxKKcDoBRsq27Lwe1KALwd8swlx2ux4jyiSLvq+cFa4O/Zvb3mlU7TDesQD0DUJFvC6F3qjM\n",
       "Zb8IMXQdbICocPYzMTy913uEG56dYiiU2CghBNzv8OBQmLBU+PCObATATwPDOEuwnCuJoo0bMfhr\n",
       "RKJRiX9U02MvAAAAVUGepkU0TDf/AAboAwsH0UfZJqN+FJg2VKc0QAmk7H8KBbXqCcBDU9lsey3y\n",
       "28I1jLLj0z12UybqZOxHhcFop5kTJZIbmS+AGkf1ore25TlaoNeExlUAAACzAZ7HakN/AADy9e1n\n",
       "+A+sAAnWtRpbX0k5Y3ADAQdcVBKKl0TcerUKMRoV40ESt5qskc3Oglc0gKvff9gfwV6hCw/Z7ELe\n",
       "2pC9ffXBdbhXQ7WzCjG3ENfvW3/XstQH4JLx1OnsCgVRH51e+ghGBPzsMlZ0dKsAldUMGyzrnbf2\n",
       "H7pOMxgpH4Bvql5supthWdRpZyhVYKA1nmJbWeY6FRQM03H7uJMH4BWleU9U/ZcSSB6IiYAAAAD5\n",
       "QZrMSahBaJlMCCP//rUqgAFcK3wQh4XNevfFdrEOGSbtqilQUHoEzKla7aU6oShe/wW2oaHnR3aD\n",
       "PgdMeoJPHwDCxnrumXtiYk8bdbHQueMmDZXnMF2gimX9xrpQ1cLheuAnEfLN1f1yNBPxTgLDRfEp\n",
       "4rI31MD6JRFHc5fKyWRYLqDa/gNsRtfvfVo/xzxAG5CoSIAaOnF/jdRM7aXASBHjCMpjukwhByEb\n",
       "i5y4uh9mXAmBXpKtjYobYhf5imVN/U4HvfGVyhUdXh+sCbU6T0jpyYxgyTqpGBwWr3DuR9P/puLm\n",
       "7NI9ACsctg3Ci8D6EKWqnPzP4oI+AAAAUUGe6kURLDv/AADPbS3TDfElDR6goQhJIANMFa6g2Qdy\n",
       "4Ihj5Niv/2cC9R8Xn/TuKCqL3qLu7JW7Pg6VdCIi4PAHRTwQCnAfsXr1zvoHABKhJwAAAHwBnwl0\n",
       "Q38AASV9Zrlq4ABJhOXw7rNrLAchH3NO/2KAmypwHJMYl/wLggx7XAydKS7jCPTQt0EGzNeqsMtc\n",
       "Ve/+byg1bSfmAH4jNyA4sgajAIrxMpyxJviaSHoHStiFxSQeptAQ2VLNS8MIN04J36gA3AIQyM0c\n",
       "JzsleMUEAAAAdwGfC2pDfwAA8vXtZ/gPrAAJ1rUaW19JOWNwAwEHL55OE9WfQh1tQ5TgcvbaLJ+i\n",
       "TyGsUwRaKAvc6/KlpKmMPl0/jTQ7fJdyquP8S3riHD5M+Rfe9lfqJ698x5iT0smHPeXPtauZtblG\n",
       "xALDIAMNM9DVzCh6TQ6YAAAB/UGbEEmoQWyZTAgh//6qVQADPjMjJABQuxnX3o1hyG26CO5uB3Dk\n",
       "fCFkQt/Yh98biZ57Vr9gwT/Up0aJfZX8FMYUUFrBoH5nEP6KW4lYcZ3RHRARV4c1nn+7KODfTFRl\n",
       "FRWZI08EyoK+k2fo/+It2QRvvLLDVxOmDF/+kKv4RglU7DCBs88KvY0YK/BgHyvNL0YIxGQJfRaD\n",
       "LDvWXKcuXC2IGErY2t/tQMGJFymGsc8SxrVeTctwHlW0vHuS42Zy+q/U0eZw/MQaJN+tBzz3+H8+\n",
       "v8nELlpCYot/Hlgf7rI7aBE90l81T/w1Tm/z4S2LIQZeI+bMiWV8R9jPL93u8S5oH+MCt4hEkM2d\n",
       "xuHvJFrNEBGSPvHuRXs6TGpTqwPVDJOFkfjjUJDRIxLPhiZixC6BeS/eP0AlVeABoT0cFLPgwkIZ\n",
       "Jrg7RbzEZiCciVK2G0ETw2y6TxjhbD2kyZZ758MHrAbgPjySEuCRSbJ1CJLNOHFgdeekO1EMqWmJ\n",
       "z8BCB6nRe5TDVf9U8C+4xAULZcmPVV9/tVpArTiZ7OZ+UIuX+IwEYajmU3UiI4uEhifgoeXonArS\n",
       "ceVhybl1FUrkYVGZjZs6tKdmo+p2I4VUIR6Vy6bBT9dkpdfyQV5g+zWgQWYBNwXXF4xU2fkyah20\n",
       "B7qQAA4yMcqEEGtGUM+BAAAA50GfLkUVLDv/AAz+GoAJ2+jE7QfbBQs1vl+7XoG4odFpYZAMZZXC\n",
       "rP/cPNKHOOgSgrsOIigIZeNlVPyXJb+XQRoslPFsURH0Dp/mEjupciO7XTBd8yHVsqZsL8XbeH6s\n",
       "/v5U6rl4QWYitd6OvEx0Ryip+5EAdMIVAZx8igJ6XTuVq2bXoubplSeJHoKcuwuyn7CDm6Z1RVSC\n",
       "vAM7iw+DRAbT76rYPs7Z2cdEEMUi5NgVxOCreoT5EwbL/KVufZyrzS4ndCKAa5g8nyzVe3hP0fva\n",
       "ysy0CqCV2TYbaAA4kd9P91ekTs4OmQAAAIMBn010Q38AFRHyABDaKwbt3+STFuDmvpguJq+okMXC\n",
       "o/Na2exz2cACP8xMgZ4tV4Pizj5Ujgy7av4FQ/+uYlLjE+vB6zjk4Z85WvaGwi9hPEe8nBY22Qru\n",
       "JWcbj+Dmuk74vFP2+lBVvqEYJEocAxkSiBqzPdUzPwAAnx3y6quIVCzCdwAAAEcBn09qQ38AEljJ\n",
       "SLK3+M92l52zCABOMbIQGHyGjZNeCLGsrDufEDMciza6mKNPdxfvmYx7FrTRpV96AP0wIAlGekC+\n",
       "w6cLuAAAALlBm1FJqEFsmUwII//+tSqAADUliLVq3ANwcbVwDDv7CTJqfj/8fMxc2Un/88xyJr6b\n",
       "8z5Z6kzVr6toDbJrRLkQPbxdBSzNPs3OiNWBLFS4qWMHkiPmgjulkh3GiS7WW7QmG5xTaqXxfMaZ\n",
       "3wInyx+nO4A++krDlBdiZQUQDbpVlP3meSE5K9bfFvVYqxEyyxnhIRhwI9BlzldVSXlMcIqMyRd0\n",
       "CljASSRKDq1P5sLfYciZS1TYrkFXcAAAAc5Bm3VJ4QpSZTAgh//+qlUAAGepBIABW/nwBYQCTnTu\n",
       "WndviiTm/rJ/DoL8GuPhVHVjKzaue5n8v5id45bOOBkn/8N99Gq9X9+9f3A9FykjsN6X6RNwCr1h\n",
       "ozGjujYiaUkQzb6RWxWXGE0BWq5PfuyGzppHV1TVN+XyhOz20LSruRc+cxOOWit4mz/8QttwChL6\n",
       "toRawBDEtg0SVji00myDIusuNkj3FWl3lfFdf076CDo55wtxdDrZJIuWobVmLXLW8mRWTjuSJrzn\n",
       "ZayMvsz6H95Bha7mfId6XmI4/WK3ZxbyVa9ez1Te9EnKFG6VpD1IW1upgVKbpelZzAxHOhriTNxk\n",
       "IptPir54aWZEgFisSoalusCWoT/Ix3uWFY46i4jtV2rifVlKmSZUjXL8X9qhbcosPAXMeC3s5Fm1\n",
       "tvRG7YiRvxLEMEQ8RO2CngnyljpXW67C/zbpTW9e/6c7hGAX5q0tL6qSzroprg1dDbpAdOQoIY4Z\n",
       "cTMqRA0N7YsWJRF82CYY77eBK61KggjWMQ+c6Otaz8PB1M99Yb8TuvfgrhzxwP/W71e1fozTiPFE\n",
       "R4FWLPmCr6x06MD+iqQUZ2VD7YIAXKwR6ggQ4uhQOaEAAADlQZ+TRTRMO/8AAMptLZpAtACReIbw\n",
       "a5KSpWXPIFMKEx38ILtLPRca/ANEBsCqakERDmNcE2QaKTPZ6lKsPT7sS7rvFsIydT+qQqY9tiR4\n",
       "ytARUTo7rqhkWDbYpSBXzCf9jV08U8LZuNSkhYkposVddW+Md4cXxMHk7y8uW5sQPPgDBI/FHh/Y\n",
       "G8gHuLR75VRonmHV/hokeW9nj7isLLy10fP6Q6pP7QHAJxRYoPZDI6RicpMOHRRcAeTsdsgR9zAk\n",
       "s8a3dlnyrflc9oQ6rrqPxym1vLYHmQ9vl536gNUuRSKleqFBSQAAACkBn7J0Q38AAR19brP0lwdh\n",
       "7b6moksetaqhkr0AiNGAPqBw+1y8HhwfMAAAAOMBn7RqQ38AAQ2vQE4h5a3JsAAlAUNquwDiUKDG\n",
       "cOH/lcB3Tlf7iqBipkh/SDL3YMso+QVSzfvmbE2+DUd7tRCb/49BECGPM9m7m4Lgq7bOQUXjx7ps\n",
       "glhUm6sAOgXUlB1bLwDcxn1WzDdsfBisD9FSUzpcE/werGINPClJI7RaZFeVsz2zTvgfHmw9GWN5\n",
       "yiX//5E0/mBP0Sr0+316CRNr0yYJqLV/n8BMzE4lnzb4qB/c3zzdrn8HcT4odD/WqVbCY06TzbQU\n",
       "ekb33A/QhqrIEH06EbhKaNnwK0AA91yfsesN0wAAAOxBm7ZJqEFomUwII//+tSqAADUQyVuLcgBr\n",
       "EaxbXfJmO6QCPeTtQCJ4oZTeYtbqcPmz7zJdqy1/iQLSVlZ/nxhDbPkeAjKhSXsK0bAUN1la1R65\n",
       "DI5/+DpsRSTa6f6l0eDgxyCZf13SXQJoybog3ogkwU2ENq6fEvLviMhFxbwdgyVi4/G1zhcxlZ/C\n",
       "61kKDUAJ/OmILdWBF2jy6+0TrU2Ve3LfHNJ1+qcx+NbktJ/mAaoA0jgunU/6ppCWcqH/jeyCItw0\n",
       "G9+Eav+HnTz558STj6Gr1AzyOf8Q6rNf/Hk0qtIapYACx3+hkEwMWAAAAM5Bm9pJ4QpSZTAgj//+\n",
       "tSqAADKTRjk/qDT6gCLSdxaEqyXZphYflmKUW7suViGbRc+13tZpyFWH/Ve3wEu8r1kEvB5aJGKf\n",
       "vtF/cBTUZyIywTqCf/P7pY/3nGDwCRpiZtWcKA8PPNsozJQCUJhuukDbxwuah+RXoDDsLfTI+Qxo\n",
       "o/9rnWCPrnawpytniCe4OcuY+zNfqyKaqDFX/q+K0mIvRoP81Evipx4a/a5enmmZRQuqFQF5XqiZ\n",
       "3YOAqUe4puyGEm8AAAMBxrX96jYJGQAAAD1Bn/hFNEw7/wAAxW0tl4Ccrrzx3duAErLrQRcMjJRN\n",
       "/wLdS+k4mS3+XkN07dneX3M6ecigAWGYkHvrMHpBAAAAKwGeF3RDfwABFX1mqrFsiuTJCk6ikann\n",
       "xUMsdu2KzN9g6sAADhtN9VLqDPgAAADdAZ4ZakN/AADtlCBAsGAASgKG1XYBxKFPgIhw/8rgO3p3\n",
       "/cVQMVMkP6QZe7BllHyCqWb98zYm3wajvdqITf+5WyinrLn6QMGkNkvtnIKI4hc6hXS2MrQEwNl8\n",
       "KZ3aP4zFeDSmLM6lZxhG+eNWJ4cpEcrydnvEGkOxNCkouSBHbZuMJ2GBXAgY724SyaTavfoE1ApO\n",
       "kmD8VkgqbKA8wWbz5gu1Y8t+OXGM/mvRjElf/Z90o0xtZw5QWgHaxfvZHoOhsAeOhJ0L0gawra+7\n",
       "jT+1wSKsulQgArPA6sjSbpkAAAFDQZocSahBaJlMFPBH//61KoAAMVD5Rv6ZvCAEoRQBp1k/jH93\n",
       "SXqN5YaUQ/X4XFaiGHO3kIZ4tL0f5q5ZoRxm9SoH30f4Dcqu7s/m2GvOWp1B2NCF4U5800zidJUC\n",
       "q7sTkPoBkgZSwke2WlCLvN4zFMZP6W/g/GPLqHxZcLyR+NFPwkl8myyroTAVs+1A9y/7cByzVUmu\n",
       "Vdny3ESp0WpzyvC0zOwi84+fdHlKCW7VXSuOCybffZIWCQesIXxgk9FScX9sYuKugrhVtfknE0aW\n",
       "gY+VEad8ofSoOTapv7dkf5N0BkzGufdHgudGv2XhOU0i+i2AaUJ87BYJY2jkqbn7ZDYbEE/YMOie\n",
       "AVMI/EQffbzJP2b+wQT0UcN2vPD0edf1QTIA/skTgVpR8rb6x9LDYMEYYIXUZl+KXx2wALPljv+T\n",
       "AvYAAABrAZ47akN/AAENjJUHzNQAIbBll6Clv4uU1MhlALma0GMMNdPD2wZ/k+daq2VDpwxJvE5X\n",
       "e1tN+WiHq2JMGeMK5yi1rblwQj3GKvthINsoU06ARKVsQ9Eq5ZNW4iDLTc0Nn7n9h0ABmtHaAlcA\n",
       "AAQkQZogSeEKUmUwII///rUqgAArewJVOQA1YA/iazQerbNXWbeUPtq/0Q8fy/LhoMIoYBNfaTwq\n",
       "os2/xvRKjm2rn+BPUT0FD/5iqsrxqlH/4ar3YFQy8ezj9q62F4s1VoTijci3A8xNqTIH/LR9dJf3\n",
       "82OcM6SwVpscVivmO0NnafRqdRIVzAteiT1p93ep224eKDBzAND5w2jJXCgD+AkMMDdOLGnCqE0S\n",
       "PLcYE+a8byjxtgcC8s9GbPHtmbfe8UqfZjgMJ8Hpzn/mywFSJD2f3x0ZLkIUG+OCxlarHypJoMBa\n",
       "wZuezwK4h+ykyKN70UL737O5LnOUBjFYh/EnjdEBcaHzWb4CJmSp23OkQUNyPqkoOh0g8idjigc2\n",
       "9cjdxPKe/Qwzzf9oXXCqKJW9cYUHgYg1uorPA4hPfQFUXHcd3EYdKROY3uEUDmvTYQSBil/Y/O1M\n",
       "XwbivTVUSrY9gy+NIIWdSVKjOwypi1Gd0rXoCf4RVwQYnI8VLIXyvWKvKnkrs+P0kW3/OKWoxhat\n",
       "8WPCkdhMpRCqc0kwW0aXYwZCCPsNJeMCGK78qbuyUqeKIGZgfUmdVw6IuMR0PWOYR5PRWzBQ0F9/\n",
       "L6ljN/uL18asmDYCXp2UmFiC2r9tzoRIJhNPYy2/4OGiKcHC3ZJCtcInIzNNI+jur1q+qo3gxlYO\n",
       "WYXRvVwlyz9RWDH4VYN4ZUHGFXWUHYz/s4SihX3QTCWsZyg92h0AJSLpvFbxtQpnNP7zzmqtk+am\n",
       "gGBSiIgdcm6GcevyD4SvxDFB7M+Cb3MyBUh+5bJ4rxyUBTPiwEHUTB4K1+LyjPHMW4laFxjE2iXs\n",
       "2MFxRA/6GWGfAWkS4+hyCa7OpIkIZSqU9iRaGhvNwVYxcKzYvRn+IFfe+t4M4luBkAAFGxO6/rVh\n",
       "OB4wyd+UYlhYyNA3KJm0k4ueOSK4D03PbLmB4nMOUH3QFpO+8j6uyBOhcT1G+idHPvYH88rE4N3C\n",
       "SA4SL8yj4lrFzZ2+NaCJ9jqOwa7vuNfzWniMis3FA2sEgLxY4VJWUvdaA7O67J2l0xtjOyaV9hsI\n",
       "mw1FZ25THi/TEV8Hn6gFHAAtfrSCRbrT8URhPzcc38f+RNJLOofkW34eNOSq3hWNyoIkF1Yzj/rm\n",
       "Q0Om7PlD6e4NjtzKQrKLnUm0cBptHBljw/ToR9ZKIEQGJdzqTJwe6CKlLDQnmGViQfoLWv5gfOuH\n",
       "As99vrXo1aLmYhLBraV4tIOD1o5+3zWoAxV98gljYtA+c0jhfeK+QosjroCtB9X1LHsJT9eocNKp\n",
       "een7cKqbMhepgaHpDNYLeRidhWbZkQx+ceIZ35nX1IAwOzsCPjYBH7FBNBnLDlXGrDpC1or4813Y\n",
       "tw6I4Se2creB2oU42mdnFa7rHWSNHubFrJZ9qMILIp+gAAAPmQAAAFRBnl5FNEw7/wAAoJim5bpM\n",
       "Vg/AXqvH1zMusIAbpwoAzFvHvxh3JWlUBPs1Tph2rRGxcWtu95iAegEk5V+ZukwFB9z7MY5HahSJ\n",
       "2e5vDaB6gAAAD/AAAAAyAZ59dEN/AADiabSqyy3Wc+hn1WACIM/Q5QG92ZYOUhY9jMmzG/XDY+gv\n",
       "Myw8IAAAXEAAAABOAZ5/akN/AAC6J0hrhll6Y6DNgAiDP0OUBvdmWDlIWvRH8RaDbAzut5QxMZc5\n",
       "CT8tVtNfxkudIXiLunI77kf3tpk5ur1Jzk+TihQAAArZAAAEikGaZEmoQWiZTAgh//6qVQAARhAf\n",
       "AAtd2udl7n3+NkdHvz8XK6HuatVOQ5PkmV1/O9hheZ41DTGw//f0IloYpInjCdWa9CLff8UCmxzY\n",
       "kBnzexALiyVYNc+OD4HeRZtrTi3RmqzhenJaLBkOAeKrBtQR0sAFTEP1D6jy11RA41Pq5mjfuqcB\n",
       "5SHOAhOiYL6gQ+VvmeSKIlTOIQ66BuiSpoF/9+JMwaMvji3VE9EH+3YWtqb2O+hADg48o1AZcPUQ\n",
       "AubnIeoMBmX6LBxxoJDdpK+8mAjlmqDH7SAALTMJUMCXjjdDS9HArRryzKRbboUJDk2KAoWAQvi/\n",
       "9cNBUl6+9DmcdOXdQIDmhP5CQgl6kYAfzFQJElmhvUemC9PYn/yloRAYYCblCl67Fye5QVHRSqA0\n",
       "krTZ4kgohOpkFll2TWsh58etLbkAm4o5VrJdps7Z8XXUvutDR/z2xkNVjarfBuATtEGCPKrLkEQo\n",
       "OZI4oNNo7PqhAJmr3+vqvsGy3guSvxur+d3nzcoP5OT5TA34Z+YdGqwkFgV3J+9C3RrBeENFaQT2\n",
       "MOGmK/k2Ri2i3FfDxHSmgXsEJbTdRsmDJ7uVOeQwebTA7JY2vZ3ebmzWR78120zVDO1HFja6Uyzl\n",
       "3+ger/ikOn8cBBIG08ZQ4yVaAU8OBoty6r2BitH+6E5qz8K+9Igpdv8FZk/MUto0cTxe41aKaVpk\n",
       "2rUx3M6e7GtdJnGZ2Xx9os9BYbW1F0cfX6d/u+oUkaA9gvkq0FKeb3aErnc9Iid2RRYclQ21fUOU\n",
       "/l6AWuEGy3bQFR43zC8Qvs9LiT+RViPeUqL3g4lQ4bNeTqkqzma6uDm3o90hU7ejK62EALQD5dtS\n",
       "iAMWdHVciv7Tcpf+q+YdrN0qwMZKQadofaV3Niz8Oq4iuKMQj5UUPrYLtKI/cbmTVLMDUyKaRLn1\n",
       "6mv3p7YbV+/lBATjXoxhaq91qoUltQtgYGkcmbw24gsf3SpAmQ8LmUxdiTD1kdPD4JEjrUcivU4z\n",
       "du2GzbU7JLNiuZWiGmtAOoHvwu/LfjkAWjRzcQa8nZR/NzGE8BhPIuolZUaonuHdnqQUnT3uXngn\n",
       "0zSkV2aPza0OgiArm0D37bOVVVIt7do5SI0pbI8OoyFhvLw6AqOzB1Q21/cG2Dr7TlBpxffN1kHm\n",
       "2isgJ20cjkPO6omWgsicMwFo8krcLOdBqp46uehYOnCjk+GcPDD24k46ySq8l+Az/ZQvOt/cikKo\n",
       "f228jeNqQ0BhawfRyjRq7kEmbT7jaXGPf0YXMFpYL2BTIzWiQSGa1hv1JkO6G1x4BSj7xEQlM31m\n",
       "R4CHtKqWBkKT5/j8WD6SeK2FsvDNynq0LHLnoioQ3COTeJv9yHji/vp+wY+AP7b/3iC+s/VjUrBh\n",
       "b7cRvEDkyOY2joRydSYQi1hdspOySUZFUSUQHv6SCaLsJJhuX2voBqBNpxQL7M9UBXldyJ2442Mp\n",
       "nC0nxn25vqJDP+WwGGGBG/IOgd1tZ9dqnKO9flyt9s2z8ekt8oz8AK6SHYpeD48OdL/C4BpIpa9j\n",
       "0zAAAACQQZ6CRREsO/8AAIg5RKwV3bH3WWFiloAP6ACHhQV2OTczQQOouidNKGKsAVJTYjdAP8te\n",
       "ERSayBCceAxY9zyPS6uZBO0qc3s9XS/vocqTe7FeVb27NrjTx+4o2l1Dv6WADWE/vEJM7hJEKrAb\n",
       "TkCkiBZQ7Rsp7xaIOAvSPT+jvlW10NIgrQNFEk0cAAADAD0hAAAAQAGeoXRDfwAAZvrLA6bWaADa\n",
       "LofuH8vfpeE0pzXrqWr6uMYl9wmrEkSc3UTLOSLaRdn5NRmGtU4Qt5UAAAMAHpAAAABdAZ6jakN/\n",
       "AABnC7xEwNoi1oYoEynrs+IqggA/n/D4D3tycLkK4QQ1TAv7TZDNe67r/tdFhvf2aE6mCg+/fkH6\n",
       "MwD18IWrhN8L3k3/e4jwjuKgUjUwdWU4N+AAAN6BAAAB90GapUmoQWyZTAgj//61KoAAKo5pUIBm\n",
       "/zcrLkWtuUpd0pP/uXoGfEz7wgU9wbOwtjP+iJvzwS6HplNH2ciahjH4cKWUduEyhpckdZO2rFJO\n",
       "UeZs91DjSvscS1uVMSqAHxDhQbu+LYAHO+33/A96QPqzEW/dNQQQuQWvQvIj/AuCP+GOC6+NTR74\n",
       "N9O1oQt1Rmy6aTpdKjqEwugN+jNwzByqzZT9f2GU5yIIfVez99s0H/k0Ij5TL3WO7PPaZBD5FIER\n",
       "LaCoIKz/QJ2X/iRetuq3c53VX50dplkCmkp1bsCKZBvlGasgHYgd31IkNynOOXr0rP81FNAST1gA\n",
       "fHdsy5OWv7O9IeT8Id+AzPiLK27pVLoT4HrBp95/nvdiafIb+6U1Sok09XerrXaH4Rc4tQA5/8ww\n",
       "8/QT3FpZ3F3KzlvZCT0L88J8QcLyvv253IXoQQflymxARrM7X7LxYUftxCGm2k3f5sp+Ls06Jdme\n",
       "eRLdEIna8sWjx0BliJZw0/npzFNllS9LqIgUjQfD7TNGTo/yQMzJ4/XkPNc41BuZozLVt8k/72Pu\n",
       "I++bizPEAJyEaQ/lTl3+qs6uwnd8WdN7lZoeojB95y3Qz1wOBISuzb+sCn3uZ0e7/tCwoBosJeM0\n",
       "Eh84DgUGJQL2J+Qcl3MiV/bQAAJ1XwJBAAAEakGayUnhClJlMCCH//6qVQAAIAyBrgB0rtcv/ja5\n",
       "8rXE4YK9r92Wbk0Axuv5mMtXGYZmUx7magraxOh0ypGzT8mZc9HE38WKB/795E44hxGzyH6P8HLM\n",
       "wmS9mULGvWXKeTzrnlDAlqZfZojktfj2LYNb7bfh0+tPwRiWDOljtCsMPbgYVwGjKAgL4w4g5Has\n",
       "6vf+xt8w1sDrNEWpeXt/eMB1HPu+4CIBy64jRpj35hgcRNAcJ2HLzHHC78iZBnyqQsFJQGzjEY+l\n",
       "QCYvIe0GBYsSGGecsuDpOX9QOC+OGiMnQcVb048LcfFX3DOEbeNe41h4ip/fAlxa5pTz/JXuKMRy\n",
       "B3TPQ/39H2B/rUsHPSncpSlL7YAWDXTpx85lwDjENHOi6lP78cQXl4tvWpF8Z6JEDHAmb3iGBlTg\n",
       "RmQcbsltxxWs79UPvqNHerjVKDcvsrXds8FHJSICnIO5IsIBsOJG1Lmi2K8zXyb6skKzM0Y8JEK6\n",
       "eOkAPxcpGW3CcZa0tLT/7SGsc8EERUPnEFtcL2cLCRIKCXCz0UiEO1BQR7vouYtlE1DCVo3dr4CA\n",
       "kjz33+wa8Cxf7TEphAU4yG+yNvyAU2iW3AytUwNkboisP58I7wfmDrihh2LWPDRTZg2u0xQyBl9C\n",
       "AyJH7wNq05FC/p0pK3T7NgdhVQHMjQUvP4+AeOH5Drhw2CiSxKw4LzNuHxt/dgZ/V3BySU4YZG/x\n",
       "jj0Y5+y2GO+ViqkecTXcouHU0A8X/oCYqBiG0n2SV8pIHebIHhStBvo1JYAovayW6CniZUwyYm6o\n",
       "jo7AWtflN9tcR3t/fqzdB8yqY0rrqPIb6PKEh+VbtZ0Ldl2qtV2zgjzr8ne08xH2DnmZkjMkJKU4\n",
       "XppHj0JGcisMt1vu0h3IXIyE4LVDVK37gC/Z+9hceQ1XQfFIoX766DufQ4xf3vzgtFamgZaCOT5m\n",
       "V+OaC92p/ywl9t82kVIVjBX7AMDpsaYZ62ewXdDli8B21+tDXCafot4JQ6QiAcwGnHdiL8rg0WI5\n",
       "CzBeh1dmKg4FJX6ZXfpoqvN78XZ6chU9DXr4sShItQ1W3JAJM7szyf/6Pn5ILsMevXunj9zvrDzX\n",
       "QTsEH0+jMklJp2f3S79NjxgLGEd2vpXf9ELBi2zbj20Gr6QtCnAlkJ2IJzD+Kz0cnp8TuA/36p4K\n",
       "zakxZ9tGKjeSeztG3PT5IgTbCZWvPSaEd5lCqszwQrRwrwKd+bLRnT060m623jyN7DaYxTZubt9a\n",
       "smeeobkSFMZFhTrRCoQsFEbhEelheYVX57OSIh5ZbVOpzfQkWpham0sL57HQZLo8+cwitpaljCL4\n",
       "da1FNL6wYxLSWQWcJUW3t6gnfOjpemk1q1EKE3Zrt2X/3nR/PnWx4QeyVgTwpVi6rsx+acb3RWlY\n",
       "tdDO5luFdmoCsQwJVJIIdIBhxugWNTRatYZngmcN5i+03pKh16LZqOCyysw59KHfwEXWBIwZdxrr\n",
       "nZ/uWsHlfTGA1qUAABlO7MTBAAAAR0Ge50U0TDv/AAA+cr5ucNPDcUR+xgQqhcbPaD6Nki6wAcOt\n",
       "ehqloypbwCauXLNT8KTn4VHISef59IOqA3MDNTMkcAAwb9ixAAAAPAGfBnRDfwAAWs8EM7fUWOi1\n",
       "relxTEvJ+3AAIHUXAC5k7PY3QkefvnpHAYsSIoY6ZpSAkf8VDBnAA9QHpAAAAFkBnwhqQ38AAB/C\n",
       "ifauFRLFb2yF0esEAH9izjtAaDswSNr6uH0o55/rJULaHS1FWMSQMqeJPxTci6IzQF3DX3mtDKjv\n",
       "M3qjiAnBboOdDIEHBg70e8KviAAUkAAAAXdBmwpJqEFomUwIIf/+qlUAAFUKfRICY300PmUZPxqZ\n",
       "Paw7I0gBaINICnnnwTlIjMM5bW/ZticLZGDmRZvdGzXDkUV+WdPNKDRU0yz+1qeTpN6+PNhc4UDg\n",
       "pxVBx4bbCqkFKkx/F/gGyKDY74ewyCa8H6Elzk/XSpK234nye8/257lw2OWi5KhZ3uMXIBSjucSk\n",
       "XGvsPcc9iqIby11bfruQ5YIdMzPflApikTjFvMRrMKKBSb921yv8d+agqKVYzxhaJSwWkX7jeXiF\n",
       "Nx20GnIKkq8p+CH8QNEw9flnIUIbZYtw+D2+5Hw2mg4mA8L0FU23p8pwZeR8+NC4frv0e9VmxZWu\n",
       "3Tm0NPwFfA7+FyBdxiVw5hs5LHNMb0i6g/D8bVTrV40j5vZ5kmd7PJ5QXs3SZeEHt9ekm+BoEVc6\n",
       "GYDDytctWSKzhzSWn1AF9/xLYvYUr//DpKSDpMXq4rGOj718nwy+zyxJIdDRIep+SKsdLPvYsFgA\n",
       "UkEAAAMYQZsuSeEKUmUwIIf//qpVAAADAGen6oANGAEc7ykl00wnlE62EL1wN1nRai4qA2fP9/oX\n",
       "ZlAqz8OVSk0tl8BedUtJ3Ong18cUq0xcpQgrAINujGFTikJzSrlC5dNTm8xzxkOvS7hLCTOINbMd\n",
       "EN/onQ9edylue0rEvrLIJ1+S2OS+Wm4GXUJu5Rk4IgLHFRqgsnK08juhnJ+ldWzcs9T4FtjSMMzn\n",
       "8FXvsCQf2N+3XjCj+rvpPVtC8gQz5YjX7ChtdgzfCraRZl9+Eot1Xc3SyfwcA5kWjigIBs6yn63T\n",
       "+bI+y75SlOwn99vDbBt5OorD9Dle9y6J4R6q6qQMZcBY/okaqoorTVmU2Qys7hygyZvZ2+j+xG/V\n",
       "eaeCnMyQfxvrCNnYFJsXwUSVTIGSOS/cgsMeqaR/13Ksj86HQQGgvl7F9tCQ52dzy0NXz/ri1l+q\n",
       "ZneOrHyVURafWU+M2JgRUIVK2hVcPHs4f3RmwEUiluYslGmwqqdW39mrNK3iVHqXsb4mGsEVoX9Z\n",
       "b7bWmgrBnbUa8XRECxziLOZ2Jhz6BrdUpGgcP11/f+MFDfuKZHZNb3LCuAp6UQIdGsU6lyHWDiyd\n",
       "GiYHT0eQSOkz2GmevLFnIeWmr59Xc2ZAYbuZ3vnWKq4OH49Bvf4biwq70cErl6963bvrHZYJVklZ\n",
       "enVlP+zaF1pCz9pwHgkY3EAssBq+yUGeFQHaE2VAAUvvEYy5BiCP0de8YAhv/4m2cC6UNn8+uxXy\n",
       "QBcSIVHmIhakQD8y+yMfeO1cYs17AEyRcTsTJJw4h9nLsyWgJfisjrrBeqR3bF/ScGpMZ0+GyEg4\n",
       "LMwjUjd8rQbFf6AYgH+FTONM8IAZ93T0iXKEN89igvEPGWEcl/Kl8Dy0Z/IbnB6uaGO93ISyYXdm\n",
       "JqTpkfzF5FqMLNvarYp0vRhz5B1dOYtPOAo5YpHDjdTvstubXZ8CUSOo2JnRwTFFZ8EIMZZEi+kM\n",
       "xx3Dj7Dr7omqP6Y6zkzSQZ+9m7dpeDonP9CbljLW3dPSzGolL/gUjNsjdUNPV1sx9lV7oEGwAAek\n",
       "AAAALUGfTEU0TDv/AAADALuYpuV7B7Qz+sEKnhM6WKn0CFlQnUwDmmBKM5oAg7JHwAAAACEBn2t0\n",
       "Q38AAAMBBX1mqrFd9TS5ObN3T2skcs8C2v+ABJ0AAAA1AZ9takN/AAADADJACi99gPhl2z7wLoAP\n",
       "L/nnBqoU6n29rUnhI4PJW/t/G0rAODZ74tQAf4EAAACYQZtxSahBaJlMCHf//qmWAAADAZSP8IDw\n",
       "XcSSLkocAAmniyCFx3kGeUG4f9Xe+2pAfTJt0grLu5zY1xf9gaInNvCLJ7pH+0T3WmhovgtgGW+a\n",
       "+fpax6cUr2t2DnxfUZDqL+SeEnc5Zz/161nLtHTqxCtSMOi3xRDEMberJshJZTTMo3zB6yC+RtI/\n",
       "JSNVrRPwWuODkpgAb0EAAACJQZ+PRREsN/8AAAMAL99yAEtPJAaGigC1kbymU6m894jWFCVHCM6c\n",
       "hDyuWmOdlf0JeM5pMe3drHeN6l9dvCJDcgTKHe52QIlK0lG54XEDLVPCm6v9tyfy9K0TRXJvmdyt\n",
       "R6nx4O3klNUHxSaEcS6Aitmg6CEr1fmPyisR+X7U+dxGpIh/oCMKorwAAAAdAZ+wakN/AAADAC/F\n",
       "0mIK7r9ZsB0a+MIl117IAP8AAACwQZu1SahBbJlMCHf//qmWAAADAZSP8IDtv2Y/0wsDkv6Jgz98\n",
       "s36N/XfwchLkA5I33bsxCquwaq5GtqdqpaI1MAgtd/yZmnaBmZmpUoyd8+5iXOQUcUZ3lMZ1fxgk\n",
       "pxQQPv6uOQj4TuP04beOZBzFXvtdx/6vq2/89qgFheH/0sjXEWRoDF4LRfkENnkPGa4J4TlsCgCT\n",
       "G0G6DKD96cpCfNQU2mNFph4ZTkoCNewgBQUAAAAlQZ/TRRUsO/8AAAMAIQ5JsvAJ8NBGJQ22Uz8k\n",
       "zpM3t39QFxZ5fAAAAGkBn/J0Q38AAAMAMmMLgBNK3C7DIo87uljz/aKoe3WymDEMkS3Um9GSqBNJ\n",
       "3MgU3ehrLX7nJHffQ5B6sf9O5gxrlrskgZIXK53Z+pgH4n6D2vObq20h+aQuuFzz330Nn8oeiYTs\n",
       "BE4ACXgAAABmAZ/0akN/AAADABFccNuaADTO6/agp1+xeKlccuNxX4FcUPeK1/b7P/aRN74uMNhZ\n",
       "6UI0VNvpQ8yDi2HQg5I3FYaS38Au3p7wVH+heGBFp6x26mbCaxt0lJTm9Rzqp9XuXwHFwALvAAAC\n",
       "ZkGb+UmoQWyZTAgh//6qVQAAAwCAG+wQADcItd6j1xbU2plEyLyPN6JwfqOyIQ6HmvZeNetdjVe2\n",
       "ySfPm4pFHK9eyQ+Au7byDcCG5WtCqD5J2j03HKYpR7B8cOMtcNxL6qNQRQZKG80PARQSI8hwHgkY\n",
       "uF4C9KP+D6GGfXu9OC9sgw7LoVcjhd+vL7Bf/dvXgpedvKtXYxH+LSd3LCM2enCTQhMajDX94/YM\n",
       "09KXSElIG2GHpwc483p/EgYBgbQ2/BnniUF1xyt8yysjZWQ7sP+qKctMUyc3PbPjY/4Yuw6UYg4B\n",
       "7sLAEK/pp1lAu+MujOYgnyKSju3e+aJDW4d0V8A2oVPcCktHaXr/YxM/aV4bWZmqJWjZojdSE0r1\n",
       "3PXY2cQAQBtJyNkqmhgBy+w03juVZ669oW406koTGoTyOGcELFReuobv9XdR2plUAAfXje5ztmIW\n",
       "Q40D5XvgDwYkAc5qMLVDf9UW4ndRTXLV6FYzGNz1eTIP/im0/ZeT6L7O/kz3Jj/5c1ShqMr8G+k6\n",
       "rr7LQyovlHGIXmhjKG0QzKnk2GtOeHEjGYLEj0IV6/iLCieVcIj5AC2mAnUsegUnkjI0CwjdOEKT\n",
       "cyIq4I51L0IC+Nuz/vd5QWuqd7Oty/36mRuC5hmUbTblMimRyFDAmkkgr7X/7LhT7dGxc0G4HSnE\n",
       "4weuBaTdEM+5flYevGCaUWRNukq6eI2hhsllp9Z/jJVCSVsA0xFPZM944QyaGHwGIGlSviKoQjvz\n",
       "AHErqe2pEIP6Ha8+QhUu2HSevGrn4NEIfGjLK/gTItpHFhm4q1MP1UU8AApIAAAAz0GeF0UVLDv/\n",
       "AAADAPnoDdNlKwAByTSgAmwIguuWP//uNVU898a+JcIBW22iOEWoWuq6PSdvVq68+kDQBwFMiycR\n",
       "c6JWBT7ecaXNAjlqDDAX+JADwugSK9jyBFN2CTmTs7846eM6PjUAmALR/x9F/1u3LP0UoeFJR1OH\n",
       "6JS3LgUIpmm69jFD5elMpIuosPF9cWMtwk378NKhCTsB5WbjOzknc0MHP/4UxFruAavvDc9cyFh/\n",
       "7noSxm9wDSrD2FNNHOQRxnAjZhbWnUAAAdCZHwAAAGsBnjZ0Q38AAAMBa4kp4Woliqc4G5ABs7DX\n",
       "b7o5K9Xrui2mqyRxVUHioJAhqTWLSOG7lEkilzwnP6PNX7TjeU1vmk0tlehdWjIRV9CRkCZu2fQX\n",
       "Ytv/g1QN9TrTfxqyzH60mPZoAW/VYAAFbQAAACMBnjhqQ38AAAMBLYyUjFnwJ6iRU+ox5gFF/pwZ\n",
       "RhVAAAC2gAAAAgVBmj1JqEFsmUwIIf/+qlUAAAMAYDLccATaeOHa25gsZWfnXN7uXkzdinOc7TgR\n",
       "tR2tsuDdWaf++j/pORGbD9I8/gg1/L26nwus0Qmse0sOP2RGKcIDTJL9LHNRnvSnKnv3J655zP9P\n",
       "+Er/7fNVbP40f/unnjKZG3QcQP85JpU3w308/4yRsNJMiFxZn5PK8QbIAgaeC1i03ZNGJ+DkYqNs\n",
       "sZhonsWNJUmPNDK//APT2SgFr1q7M1Zp+dhsG8kw8A9g9wYWHbNBzV3ULhy6TPakbBnn/uZPBhI7\n",
       "Ku0DU4iUTyuhJjdk5fqLL21Zw/oO3FOiTS+Snw+ffdUT4JMJkxFlG2G4i5Az4TOTuC000pILZ+kG\n",
       "kdTEY4CSfRhbCcRlHMvZedibyi6eA6r0riCLre3ZNh45zVHGNmLlAJvelas53TmqbzNz2em4uUtF\n",
       "t2MMOuoLJK728Jrfa/i5H05xHdRFxa24ez3fFP7/OhjQNnsJ0YBdzEKGhe5g7fKBRyZI0i6Ny5vq\n",
       "4e70op3puFUiUbQTccjZHgso11zP5h+8E0Eg3OZuaNyD/wpQnmFS/3OEAIu7ZRSiazPr843pO6Iv\n",
       "Gpw1CXgZWkOgAU+VwT52RAAGw9tWPe1xjOvhVj3IszJV/5Gk6Kry/sJZUWCasILnhefypwLXp92i\n",
       "22h9fiJgG8rkIaSfAAFxAAAALUGeW0UVLDv/AAADALuYpuV7B7Qz+sEKnhM6WKn0CFlQnUwDm4dt\n",
       "lIYACD0ltAAAACMBnnp0Q38AAAMBBX1mqrFd9TS5ObN3T2skcs8UZC/TxgAxoQAAADUBnnxqQ38A\n",
       "AAMAMkAKL32A+GXbPvAugA8v+ecGqhTqfb2tSeEjg8lb+38bSsA4Nnvi1AB/gQAAALRBmn9JqEFs\n",
       "mUwUTD///qmWAAFJ574Ad3l2p9geo8RQHLUFd9T7ya0ILEBhwfKV7V7UlMswXTLA2t2AZsVb5JuG\n",
       "KxpMOW1IIH15bjf//hwEoHyfbrWcwkuoCQ0sT9S3l5/prAh4I91tkOLHlNwSbpRj5tOiLJqaNIDb\n",
       "/uAbReua37Cl5Q72qCjDKqqeR1UKtU80CKbf2qNefRCjHVj7Y8KR5r3AYQFHGCZjC73R/xnLvYAA\n",
       "YsAAAAA3AZ6eakN/AAADAC/fcgA2p5Dp1qALWRvcKWZ3eecGqhTrMqctdEJC3yzXh3fUVrTKnD5A\n",
       "U+aO8AAAAFpBmoFJ4QpSZTBSw7/+qZYAAUnf8IF577QfLbn/YGhgSg29BoJu1+rJH1g8n6fzkqw1\n",
       "6qV1lHo/M0X9bxmmPaDmndv78J57VaAlC4wZLfEE7eAQMJLqNKmAAssAAABdAZ6gakN/AAADAC/f\n",
       "cgA2p5Dpsly21Iin7VFQSQId4wiHsbEFC3Pmnjw+0C8O5qWb4KSp0WH8Eqd/zeUGes0hwSf4JJKh\n",
       "LDyl4XNaaNiE/Y7bVNAmxKxVyuzyQALaAAAAr0GapEnhDomUwIIf/qpVAAADAAdP+YrX+YOKAFUq\n",
       "lKo8fytqtY9ye/gQZaPCr4GhCsIqDCCSfFVLJog7B8bB55ulUQYNV4zRaFVaTfJc6vNBRnIc2A3o\n",
       "FwL/EnZNlYgbwftj+ReSpCRVODOToYnF9RDMqfXGKLraNyP9eNZBvMhjpbZ2uNkKlMMGvmmxU67+\n",
       "DgrYr4TmCComSthGmo1QQttRlW6c3aIDq8DY5VQAC0kAAACoQZ7CRRU8N/8AAAMAMmMLgBNK3C7D\n",
       "Io87uljz/aKoe32mQLhkiWwhjGaEmnacZjMk9TmhEUScTRyT6rhFAKeckd/0joRVPa71CeE5cFpe\n",
       "tv9q8tanUKhrzvQHDbmC7IEcLRtR0mnfutOMYgIzmCqGI5Bs9fig3WE6zepeBW5NelxpD80hUAGR\n",
       "XlUHf3j2DQwnrOFAoP8xjvsPg0wTTtsNLEm8UXUAQAEnAAAANAGe42pDfwAAAwAyQAn9cdyAD7Eb\n",
       "N0hB6d0sHHsbPWPjF3x5bBeLcHMZ+7eHpG+N39qAD/EAAABwQZrmSahBaJlMFPD//qmWAAFJ574A\n",
       "d3lbBnduf7Zvu6J/NcQsuZj+d8XbWyWXBJtV5sufhblKo1GQCXrGH4iP/ooygx/7DTXT+pjPs0P8\n",
       "OsQfwlvBVb+tz+SGXyutLKOC5YPCS2pAIQy0RPeIkABUwQAAADkBnwVqQ38AAAMAL99yADankOnW\n",
       "oAt51urmgQ7qMoAveecGqhQoJ+gAkdUZ0Uhly+cbLUHVJy6ADakAAABXQZsISeEKUmUwUsO//qmW\n",
       "AAFJ3/CBee+0TUtrl3/Jtz/sDRLJdCAEVn/tx4tJymTV94UFJgxJvWkwvGaY6oAG/Rwbwf5ASUup\n",
       "zKS0wh+AJYCXEAr3gAEfAAAAXQGfJ2pDfwAAAwAv33IANqeQ6bJcttSIp+1RUEkCHeMIh7GxBQtz\n",
       "5p48PtAvDualm+CkqdFh/BKnf83lBnrNIcEn+CSSoSw8peFzWmjYhP2O21TQJsSsVcrs8kAC2gAA\n",
       "AltBmyxJ4Q6JlMCCH/6qVQAAAwBqJiz3ADowNVzWennL38uHIahcLOFdbhrIWOb21GRciF8W4REp\n",
       "TdC3vmgeqMnAdk5R9lnlXwfU0EZKGECsTx+WVEGGNEfCZD3uFmM8u+f6LlXLVusuxgMg3Gu0kMl+\n",
       "MnJGiLKwC5Roh1fpDBZXc1ckZydX4GQAeJuIeqgyqJQGZ1ZP9KgS4fQTFsOAGblLnl35xbm9B23v\n",
       "xgs6Ge3mMCNAQNU3n3AsotZqpPX83BBEAY+A/zhJ2cYwbeSaqVBSfv+1TtZLQ7XdYgXXyPD6krts\n",
       "aIHHU/9TvyvOUUWSEsZMOKct8WrdHHFoRMfxqyorA9+0p96f3hkEWhhwo7xo18YxT/zZpW0vq1O5\n",
       "hK/w88Ov6unPU/7p5rtXkBeIXf1aoLgIMsoLQ4+x0XP0l4Elrryn+ksaETkpi2lqxNla/hQAaMkH\n",
       "/JeAPUqUfe//GKumHJdN17Id2eVkCCIwPmlTb3gd2rGmPT/wQTALK6pyrf6214TfmtrbC4V+RQyE\n",
       "YAUH8punIAfywLf+sWMMWhsfYmmMjTn/BNXdaEShZ6yV5aTHAl9KTLQoX9dFdZrPs3pJLQCbxk0m\n",
       "Ci764gAQH9Uqds+qsDqs79lse/CcNy9y2fdM/aTlIXofPDI+IYmk51niXMgMJwSVsQ1Y++Ka4Add\n",
       "jehMdwyWDprkrQu+Pl3j+Pchd3/7Pw70r+ZvYC3KXF8D4EXLpnLe4wgBCPzytwIhtrKddiee6hNU\n",
       "tXVNyBCeoMVhkK9eCj10jU9YXasICBR9TZA2d26LAHAAIeAAAAC7QZ9KRRU8O/8AAAMAz22UIDJc\n",
       "0wACCodXQpukC5v3z3Gqjp0BMG00efDBAIYCfzAM9Ye4MGHL5I/e7Uo9kt4fqnUhJm9NqryQbNuj\n",
       "qIWTdOBDueKDiAhwCxsF76lWHqB7BVbxemtr0AkYa6Z55mmunGVlb3IB8LsMnj/KfNf8NQnVxzvi\n",
       "OBFpPM4/J8wHNeYKG5k4ktJbQiA3EIYHw1Sv+mZSlK1uE/g/fN3ZrhdpBAxefvhO9UqQAADZgQAA\n",
       "AHoBn2l0Q38AAAMBJX271ZSoAPQfcAKasARzIEUWjfX//vTQtChOJ44AGK6YfWF7iD4ycngxCxTZ\n",
       "54XA8zlaH02gNFmhFDwnYrNbmxTxnOgu6wJLof/9/6yPtgqjvzxWAu5QBPJ7NUQKXJjmEY0Onpsp\n",
       "Z+SvjjVNQAAwIAAAACMBn2tqQ38AAAMBBYyUjJ9gJDPSu/ZKGzrYD/S8pBLrYACPgAAAAJVBm3BJ\n",
       "qEFomUwIf//+qZYAAAMARhjwQ0Djg3UgpLfw/9oN8LQCAC7LXD2IArSlJ38dMWxDVBrSsbZYAJOQ\n",
       "HQKt2ukMXsKaBLASSG3jdT2n25ElpCcsQMxcuD2Lo6jlZsZF8WRhmBtOPWiPI1pbFRSzJ49+d55t\n",
       "Hz4kDjmpkMas+3I5KOn3U7G6y0Vu6JzljkIoo7ABNwAAAGdBn45FESw7/wAAAwAjDkmy7/VQMBh7\n",
       "gAllCVL8KnmjUyQMuJsQwnnFslqv6tMxdia/tGcNQqe1EC1gY4NXx68SR8jD/qqz8HqA0HduC/dX\n",
       "zitvIoDylZwzlPqg8qBbQrx5f9kf4APvAAAANAGfrXRDfwAAAwAyPVU0Q2WsUYogijIgA8v+ecGq\n",
       "hTqkGLlwfCRweS/0wV63ZRParwrgBF0AAAA7AZ+vakN/AAADAC/fcgA2p5Dp1qALWRvcKWZ3eecG\n",
       "qhTrMqctdEJC3yzXh3fUVrTKKRZYwgXTpfQAbUAAAABbQZuySahBbJlMFEw7//6plgABSd/wgX3r\n",
       "tB8tuf9gaGBKDb0Ggm7X6skfWDyfp/OSrDXqpXWUd2Hh4zTHtBzTu39+E89qtAShcYMlviCdvAIG\n",
       "El1Gds6xFwAIeAAAAF4Bn9FqQ38AAAMAL99yADankOmyXLbUiKftUVBJAh3jCIexsQULc+aePD7Q\n",
       "Lw7mpZvgpKnRYfwSp3/N5QZ6zSHBJ/gkkqEsPKXhc1po2IT9jttUzlB12RmwkcH5IAFtAAAAqkGb\n",
       "1UnhClJlMCCH//6qVQAAAwAHT/jqzpGzLgAVqqUqjx/K2q1j3J7+BBlo8KvgaEKwioMIJJ8VUsmi\n",
       "DsHxsHnm6VRBg1XjNFoVVpN8lzq80FGchzYDegW/UKThMyO5CLyVFGLAoSyenscddyGqlQJRAQxf\n",
       "68mv2nPqG1My4ONkrmTkLPduuYGaTLDZZ7VpMTUy39LtLQN15A64a05LuHz1damqDGlSAAiYAAAA\n",
       "qUGf80U0TDf/AAADADJjC4ATStwuwyKPO7pY8/2iqHt9pkC4ZIlsIYxmhJp2nGYzJPU5oRFEnE0c\n",
       "k+q4RQCnnJHf9I6EVT2u9QnhOXBaXrb/avLWp1Coa870Bw25guyBHC0bUdJp37rTjGICM5gqhiOQ\n",
       "bPX4oN1hOs3qXgVraN3cOTRXNIVABkV5VB3949g0MJ6zhQKD/MY77D4NME07bDSxJvFF1AEABJwA\n",
       "AAA0AZ4UakN/AAADADJACf1x3IAPsRs3SEHp3Swcexs9Y+MXfHlsF4twcxn7t4ekb43f2oAP8QAA\n",
       "AG1BmhdJqEFomUwU8P/+qZYAAUnnvgB2e1sGbFuair2cA0RoOs5FGX6EC6n7DaFv4Mcawas/jdDf\n",
       "xtm22BMMlvR6ZyaqT5XYPOnU8cOtn9i9yt/mD9o+QaBzaYxMe/de+DpKkIf+wg5+XhgYACPgAAAA\n",
       "OQGeNmpDfwAAAwAv33IANqeQ6dagC3nW6uaBDuoygC955waqFCgn6ACR1RnRSGXL5xstQdUnLoAN\n",
       "qQAAAFtBmjlJ4QpSZTBSw7/+qZYAAUnf8IF967QfLbn/YGhgRU4ARWf+3Hi0nKZNX3hQUmDEm7sP\n",
       "DxmmO1ABv0cG8H+QElLqcyktMIfgCWAlxALKYcmjxwZVa/2zABUxAAAAXQGeWGpDfwAAAwAv33IA\n",
       "NqeQ6bJcttSIp+1RUEkCHeMIh7GxBQtz5p48PtAvDualm+CkqdFh/BKnf83lBnrNIcEn+CSSoSw8\n",
       "peFzWmjYhP2O21TQJsSsVcrs8kAC2gAAAsJBml1J4Q6JlMCCP/61KoAAAEAYYHyxz0tF5owAQ/bD\n",
       "68X3hBlVIyVRo6O67/rK2Af1949mp+AY+nCJBo/8Ex3Dp4Egf15c0fxFEgD57deLhYCPQNAiWl4V\n",
       "hB6RxgRJOHP/jlNN5m+MYzqHNpLLcK6b9QYGtyujaXgtxGZ9iXCrAmgDNdNdRvolpAvEma+BuwCa\n",
       "TwmddMkNKd3LM3JxZLKYunTkeI2ZZ6skw60yQDaoSgvCeNNV+PkFjPxLFmYunBlx39YEIE/eu9Ts\n",
       "okTnqNCwZ5muvRPN9cVRExkE/jG0pFE1fo83DP7Xh7sCk/acaI9LmxJ/G/2sajj4XQZfySNcJ1nM\n",
       "M0hNycJqDoh+Z51KdXxpV8e9eKYZMa2fm+iXV+aPyigSQd6563tqTe4vwJKMJF9FNO4Paduk1dmD\n",
       "X3Brm118mxXkgnrVbWUEjNQAgCtXJsAGhCd3O5xK90pGOzU2Nrb5/sU+5aZVcbYolorFfLjHcXAn\n",
       "xZF8fEoxKrtrUMk4Bx5o2RinrFwQZd5eKiw8GXsEy6Rs12P50zGnUzV7w2IJALygtxDd0hHZeF9s\n",
       "SQLGF77ju8aQpG+z72RlExw6hhfeuYif3KyBjb9iAAVLVeTbxQF7pp4WMytdQ1C5u5zvPiqq/kLd\n",
       "AMa0uW7ebMxkBEWSwScIaLy+eA6jpxEp/SHZ173Jtl/lJ2xNfQOx1YgwWSdmwZ23LbyiysTWRPNe\n",
       "LT52ZaO7JsiQLnBEf8XhCezxGBn+jsmqkkwJTZBU1VW2g7B9ArYyzwVaZozYL4lu/kH+zArwUL2F\n",
       "4cDcYF9A6lxeN4v8H7KlS0uso7/0nocM+orAt6GcMnFVHdttUsta4GIg8Qu+bUS6fZWJFkI3WiXQ\n",
       "5six7kBAwciRTDlpj/qmcqJmaQWiFnsT7dpqEeW9TlCeaavw1lAfe+iZIpmwAAG3AAAAh0Gee0UV\n",
       "PDv/AAADAPnoDdDHC+GNKh7M3GJSjqmE9RLsGAEIJZ5UmBcxpsQ4DAlO1oRVvdaCxzp0nH572psd\n",
       "Ta04lyhRTgCTW1jIIhWs6WnK9kVeWUH/iemdk9QLa4pDqJouO+/yp93J8TQddHJIAHH5QQe4+wGj\n",
       "oT9Gtys6OxBTOTuCmAAdMAAAAIABnpp0Q38AAAMBYjwN3q4gA/v9wApqwBC8Kcf/uNUL+LJdwF8w\n",
       "GBhuHnhj5eNWkelTeSh2EHa8sx5AjyxszNFgmIMAHM3sp3bApvJoM7cRVl3MMZrz+Ov9iRElEs9/\n",
       "9fOh3Ig7xFWiR0XtbV22N8ibMuPBFLwUNbzT1f9/AABLwQAAAGsBnpxqQ38AAAMBJa+Jsz8GYW2v\n",
       "gA2k9cNypdlKG+edU4uoGvagbhRGb89swJsdl4f0dyuccJq49JhHX4gW0tUcLicb1mMheyJmNROj\n",
       "dUhXkjuMGnPga3BBcAmcu8WzLaVxaeFDRdJMIAAfkQAAADBBmoFJqEFomUwII//+tSqAAAA1FJPj\n",
       "SFNeO5l5gvooaWEXVowqtPujzBRaAOIAELAAAABrQZ6/RREsO/8AAAMAz4Jg9JOe9C0AH8H58U+a\n",
       "d2fSe25tAQwhu5SZcD3x+ER9/0duDBvx5yrUKCJYOx6F+IFuLeOIaNGnFdrlxKd5JKGc0i38UQVR\n",
       "MaRTJvddGIR/uS36hj4/Nu3uLuAAN6AAAAAaAZ7edEN/AAADARWbi4P3uLE4K7BuYYAAV8EAAAAn\n",
       "AZ7AakN/AAADASWNOCXLHQFBjdvqHS1FWMSQMr555ZzWIWquAAN6AAABCUGaxUmoQWyZTAgj//61\n",
       "KoAAAEQ9AQYL0ADi9GAl0ttZVvuKUPxV2YUWAoEHMH/WI4fog/yrnAerpf+Ck3NU6DKQE2/bCDb6\n",
       "M9sD4ZQ0LNp0PCe4CMZljFcfKMA67WQVqFbLzjq/CKXpwdL/IsgQK+4zipEDsydsUWh8ckazRviP\n",
       "bhZRBSqzjFWhGogcJmBZVM46FxtkD2qOqDgoc9pbl+mbYQwBVi5VhqnmmoM9oIOcJ3Qfo6u2ahwa\n",
       "q2vVDB9bB/jUQSGlTZErzUOE2q5WKd8DbP512fNZh9TwNSMLer1T+3UgoZFFgyeFM+GIXizBXuu0\n",
       "8MP5VSgV9R1IxVbTIpNknRZKC1gABN0AAAChQZ7jRRUsO/8AAAMBCHK0FGvHHASdKI4dVVhZ0WwA\n",
       "Es/MEpvyC73q9RxW3eZvr+zKX2EZzO/3AWwXSAxC8T1i4GjrNUjRBpez2xM7kxKh/seQce4KBdoq\n",
       "FarwevUR5QPKe+gwJG8llwrqhbsBejGL6frFG6OEwMOq+Hdy2hKjvwgXyq9Ow1IctNEDnYJJ4Jbc\n",
       "v8CCnhB4cq3hR+BbMQAAP8AAAABvAZ8CdEN/AAADAX3q3mUAG1RLntjgpb5CU1Mq7LcLvnK44h+J\n",
       "Jx5w0GGRVUn/TNtgxVqDpMpPusgZ/9wciQABj+e7v6biemGGMLlTmGNxVHYgUI5VJwCtk+3s1q7W\n",
       "rhmmc0D/wZmKFDnK7GyAAB6RAAAAHgGfBGpDfwAAAwFrefJMeBnT8i+UCWZcXpdW4AAz4QAAAEZB\n",
       "mwlJqEFsmUwII//+tSqAAAA2VJLjuM9venY0doNmG72cjrSACfjwyiQPYkwRO6fd1hXfs3zOtg0V\n",
       "LICGHB2GmPtiADphAAAAzkGfJ0UVLDv/AAADANRtKp33ABNNdC5zVgMeGjGMeBC8pwOInK+DRjLT\n",
       "Tr2OQjOxJCF/D4JM5bZiQOsvfTMP3iIgPkTNf1K2W9gggGQ9YaTfZTUBzPh6MqlCI2NRAQWbcqvz\n",
       "iVmnLVmmN0Zkm699wWS2y65PuYg/wJY+ZRLcaZANxAdV0QVHZN7MFuYjh2SKuoSRP0r6zM8PpF5n\n",
       "R7Ibk7FdOcEy/vMKXQaTN8oKhdmWaBzHSJO+NMOQwZlOf6xK7Yq3qVU/S2v1DiaFNZGxAAAAHgGf\n",
       "RnRDfwAAAwEtfWau6sW8oAqUXr/KOxkX2AAE3AAAABwBn0hqQ38AAAMBJY04JcsdAUGNrJTzQZGM\n",
       "AAXkAAAA80GbTUmoQWyZTAgj//61KoAAAEQ+idLWgBB0OMtbkL3S+VFx3B9fA7xwhouC8s9pwYsr\n",
       "z7HPZvobHU7rYca6BdNvHPGekwpGztEE+zvvh/3agbccGxaL1EQl3Q4bGP1LzFqnGFpQPKEhWsn2\n",
       "qAZfZ0ajsTKNmMyD79brKGexenLOAdBpdsqb4792rBpS/yMRG+8WxsxNLaVd2zZRJhDqC6KUbAMx\n",
       "XhfAt8PxYL+lxbsevJPR6uG/xxlZI14ratfbex66hX265sSzqRSUuGlP18NCSA5Zbc5XFEovzUgQ\n",
       "p2pP+p9TIDKOdTyQK4XKbBg2RUAFTQAAAH5Bn2tFFSw7/wAAAwEIcrQUa9mXUnSiOHVVXAS+OyMa\n",
       "XigBLdHyk4/gvOesTs6O55byAdZdHfkkSpoSB7nKRUbIMLAytKGhKri+YzYhseaOPyCycjGx7TRX\n",
       "J6eh70QZmAheXJQD7qEI4UXAAA1FBx2Z6fD420rwo8Z1Y4AAJOAAAABvAZ+KdEN/AAADAX3q3mUA\n",
       "G1RLntjgpb5CU1Mq7LcLvnK44h+JJx5w0GGRVUn/TNtgxVqDpMpPusgZ/9wciQABj+e7v6biemGG\n",
       "MLlTmGNxVHYgUI5VJwCtk+3s1q7Wrhmmc0D/wZmKFDnK7GyAAB6QAAAAdAGfjGpDfwAAAwFrefJM\n",
       "eAJYn33TkvABs98XGQLgUVtwCRvZD2rVqhC+IWkvF5UEbvR9kztJzJ851i+ZuAcdawzossYImOAD\n",
       "Nk8kOto4S3yZekinF77kkqWxDwwJgjE1T2duN4gGbdWysgMVdLYuo5ZXAAGfAAAAoUGbkEmoQWyZ\n",
       "TAgj//61KoAAAEgVSn/Z82AJ8m3UABzaRvegZclwli7aj0vNWZY0H55y3H8i3SVirdDocHZaObST\n",
       "Wqip2PairDGAA5DDHnxP1U0knB1y8NXDPf8TY2e/D2vkUB8JmnIpcYVYNWgWwIEanjvTjMyTN7j7\n",
       "mIM64vaYIaTH8IHFBc9hn8tgbiI8VuvkrNDGMcb+BbGFGrsAAJOBAAAAHkGfrkUVLDf/AAADAWtp\n",
       "pRQsnJexi+EbZDQy4AAz4QAAACgBn89qQ38AAAMBLci9WnE/9yJZlAAJ3cMOlAnL3lX5AwfIky6A\n",
       "ADFgAAAB60Gb1EmoQWyZTAgj//61KoAAAEoUpDNwCg3nzk2iaUpnw2F2MHv63JO5ocNMcVKWudBE\n",
       "jdvm/dxZWL5fcPz5FTV+YQ/f+A9iBztPakGqvwe5DYAfNT51mywHzVqIW//CADbMf3ElaiS1vaqu\n",
       "aJZ70E8ydchXMiItGIkf8PDTdg6jvP/dpnxtTc4YqJ61ZvtBwLcQIrzY3vmyRbHYEfhbAQbzJUdd\n",
       "X1ezfTjdoUWilYdQmJf7enZGC01sWOS6fji/SZJRgtD7k5RIJFn9eUyuTRRFqLuVMthNiPu+BGSz\n",
       "Y76GjjFXS02VQBPbxgNxfBDmyXhioUFa+CI9ew5QUl69MrtQ9MKhbVMfdfFUQoDINLnH8bnFdzz9\n",
       "D5/nsxAPftA1h2aJDMKr75RoaEea95kummQexUMO/oQ1aZkeQR2J07XtO5W6o1ZLFDzoW3nX5Oxh\n",
       "BKrRJugb/DVDS0heJHmfuK9DIaMjK2cLG0spOAYN+DIwmP6RJR/8fPjOK42T+xUuaDy06iguv4uS\n",
       "usGaOXLDb8vS21ssTuiu2xpO1VJozdizwSpM9MBQAwQPsfHhLan9mN/h1eeknI3TL9peNLPPMK7Z\n",
       "R5VtrWq+G1PsDUiTw7Msu8HNHKjom0WaHFTbsaAcWrH6eoKZal1QAAScAAABGkGf8kUVLDv/AAAD\n",
       "ASCP691/QzIbr1+P8tzE8gmoANIaW6FLxr4vb6D4C8X/q8VUCMs6bXfaQbhHL7LZ7xFe1QAGzBPy\n",
       "7EjuMCfiwyXa5MuUAalbSpbs6eELC5rYgrN8hTC5fRUnzvNjq72oGO6SaE2rCCcdvKvsc3igouzZ\n",
       "JyEOqr37N7J5TjPBYM6TT50MRZEsanb72zolNATASaeJ7QibzmerCYPkto03TMRTLt6T5Prb1ncs\n",
       "trcVHTauSldbXxI3XjvTNB4bGEocu5HRqDbZeTAIYDd2Ofw0RH38NAivM+eDLfMZpI+hmwIvG/4p\n",
       "fO87LGzfz91wiTOKttLogyTtAf///yNm2Z8zdjxqFaun+OVuRbcpAABHwQAAACQBnhF0Q38AAAMB\n",
       "JX28BzfqKBi8Ft9LUVYxJAy4u1wTL1AAF5AAAACAAZ4TakN/AAADAZwAURQfUAGbk3j55kbABmt3\n",
       "9N7qF9B/+3k1OTEcwFUqCXjpq84LsONqfGRhRjN4cgRr9VA5oJsg2fyGobvH8i1wi0GipTT8rGOQ\n",
       "sn0IPuyvAJujInLTTwrf5c71NDz+X/EnBnojifwKsu3i0x00fchsGoAAB6QAAAHmQZoXSahBbJlM\n",
       "CCH//qpVAAADAIQtXPgATVU7U1hPgj4WRYK8EZNhdSf9Pq+Wvku6wHptnxDjSLesNXGK9chJd6HT\n",
       "nrdHS79VEoOh4uyu5/F2ku5oDpQdpzMAECjzo4PBOJeHfs6vsUsMwX4y2XPwW6mI2lOL3HPjfNTL\n",
       "9BZ0rsbrWWlVuGPXBzmX1S2ez0/CaDN82MGwoY5qgrokMe0iiqoajr5mynLm2FfC9B81mwNMgHxi\n",
       "HjiRMt66Pg+2wAWMouHx6U+1QdxQ6FMubuGRK+8/ql3WB2TaMZqWcWF8gCgX9zK5/0Ohy7nFcq2j\n",
       "k//SRhCG+yt31cVLkVMU7gmit5xrLYRKscLQMc6yblYZPYXLsHtZBd0seVkN0+2PSLHcbUj69hrd\n",
       "R+4fjrgJ/NPTffQJJBmAXL+0Gi0a8p0pbKz6ODjpr3iBNHKSDw/qjPMvEB0TfvuMNlia//EREXlS\n",
       "24lO3D00WD6SJYnkEkUuZ9qSwu5cLSNtQVcx0zqgWPt85yBMaitixTqQt0uDFs+sBwjt+Ca/VHEi\n",
       "DgOEmBlAqEhaGUv13XphmM23p5fACCIppFC+cfUSJz+rknp859Cqjj5BE9czWL1Qw7bQaSE5ew+D\n",
       "xdk57CspAGrCBSQnWwJTSa4mzIeBAAAAJ0GeNUUVLDf/AAADAXROkNZ2VU33RvrpWdpge2yRvjiS\n",
       "kvwALVy3oAAAAB4BnlZqQ38AAAMBLYyUjFnwJ6iRU+ox5gFDuMAAb0EAAANQQZpbSahBbJlMCCH/\n",
       "/qpVAAADAGUoYioBXTVn26FZD/DtO/8GUQjsHkC7nCN0IVo88BjaX1fhyqA47bJUDNJKWdEuHdpI\n",
       "r/VU2oWt/1R5tZZaS4sOE6H24/2bS265b9Pms9aZttLVSS3gMqf3ro2lgb+8NaHpDo99/jS9824d\n",
       "24J/uZZUP/TKRyBlXm2n/wqwYHmulpf6Bn37FKJI21jlUhMzJml83uoZzLhBv5EvapC2scBxn+SX\n",
       "42bSFi5SH5DJ/7TTDdItQwnCj+t+M8b+OonCOtWXp4X3dcFnxnsgKxnE/bf9MARH+y1DIHwc6AGt\n",
       "962UK1tJ1Cn3+WdaW1HEy0HAxZy7n5fVfBsSQIsCoDBAT/fF3Spf9xOpvOEXtcJH8xCwwDmn0x32\n",
       "p719bMiwrxnCzBPSfAOIq/ErIwLRQsFG3sbDvR2wqCYzjoDbyspjwqIxaVkU8115oqmAHqkLZlNv\n",
       "XRngvz09Fsk5r1KowQyuR5nwJE0e0Y6ZgHQ27/KM/D7vC0ZY589QLISbKHtEWhtrXBxr2KLjFJH9\n",
       "2fcQuTEgzxJNJSYCrfQCEnZxb/lZWfx3TKTSi2OhUcmmDQHWGjCi7zChin/NJcLFyI6ocljawRfi\n",
       "MESO950+N0OwcRtk96fqtiVlKUTapLKRNia3cau+3jg2KvjwGdyYdxKgK2qepxNXQqlbZ+/Vxw8o\n",
       "bclF8nEhFx02b2GL8ba+10/optqX5B9M8P6u5x7b9HpKh/smmMsKkqivLlqEL2V/bwMbyoQlKHck\n",
       "Yu3SxH/iVhnyES437+EJ518EgAbT5dYDxcbnYAxHELEElbejzMzETqC014FiDTJscIxsyCUtfjCp\n",
       "Y5MkaU52QwK03gZSnbADs7VCI1szuFDBRhEn5dbnhDp+Nbs5NIqaBWCD7J6IUiJX5GK4xcSLrQeN\n",
       "h9u4lx6RjeoK0q5Pe8rN2ZRgWHW7BRoFwDttazR5KvyNIBA/nQTu9LyvX9IDocPT/5XeRMiTrF1N\n",
       "fFC+yOWOLYY1r5vo0utYvew+Ycw1/O2/auKwkWw7buJwXwhfnXlkmTtW9yADMb1Z8iOh0Z/qgOzY\n",
       "f0gntJUcRZVWrignLHd36GJAsHx2Mmf0nrJFDXBT58bIRjwAoIEAAAAsQZ55RRUsO/8AAAMAu5im\n",
       "5XsHtDP6wQqeEzpYqfQIYVGqz7DA2LBqy6AA0IAAAAAhAZ6YdEN/AAADAQV9ZqqxXfU0uTmzd09r\n",
       "JHLPAtr/gASdAAAANQGemmpDfwAAAwAyQAovfYD4Zds+8C6ADy/55waqFOp9va1J4SODyVv7fxtK\n",
       "wDg2e+LUAH+AAAAArEGanUmoQWyZTBRMP//+qZYAAUnnvgB2e1tpYcF1uUYx7mr+S67j/D/XPnlf\n",
       "t0kEWVHMX+7dNLjRA/cuUv3mCOqdXpEgLqEPptJbG2A/dLW5G2rm6qiF+lPF/oxLN1u6EszL0O9L\n",
       "4owaOCO6TCeL1pUkJAbf9vVqi6Iea/hzBgOIZoveFx6rviTU6efmR7cBZgQq58qVU8vK6ujtHVbM\n",
       "YbeTZZ/9+CyFtSAAAU0AAAA1AZ68akN/AAADAC/fcgA2p5DssygC1kb3Clmd3nnBqoU6zKnLXRCQ\n",
       "t8s14d30xa0ypw+QAf8AAABpQZq/SeEKUmUwUsO//qmWAAFJ3/CBfeu0Hy25/2BoYEoNvQaCbtfq\n",
       "yR9YPJ+n85KsNeqldZR+F7nsr/Vf3bmpjhkC4hU1xcozTN+jqzGNSga7VThUCULjBkt8QTt4BAwk\n",
       "uo1V2FEHAAWUAAAAUAGe3mpDfwAAAwAv33IANqeQ7KoXLbUiKftUU+baWOdQWFyeFLoLrPNPHh9o\n",
       "F4f7fEEirEPnWaA8zZepvzgRXzHTl+CkyvSs0d7YnRPyQALaAAAAuUGawknhDomUwIIf/qpVAAAD\n",
       "AAdLF1CAEa8p4hPsKLY4ejx/K2q1j3J7+BBlo8KvgaEKwioMIJJ8VUsmiDsHxsHnm6VRBg1XjNFo\n",
       "VVpN8lzq80FGchzYDegZcF8kN/+Y4qP9kJlCcyfN4KIqKd5yVFGLAoSyenscdMPKWir/5UoxiJK3\n",
       "ggBL1DamZcHGyVzJyFnu3XMDNJlhss9q0mJqZb+l2loG68gdcNacl3D56utTQ4L7aQREAAx5AAAA\n",
       "n0Ge4EUVPDf/AAADADJlrgBNK3Ck7ppiMVmVH9fwiRRCDD8kSpYhTrVOs4lluiWSSfEjAcsgnQz5\n",
       "+QOZPmY78cCjv+8aGEVT2YYBPCc1BY8R5iLU+/1Plkyn5pndMb61KH0pLnBanSsvglOslh3b2H1P\n",
       "bZuct1XVrk1rT59flRc0lBEZSfrDzpUlvfXJ6MxYfUnHwmslKxi/MK14IAB6QAAAAEUBnwFqQ38A\n",
       "AAMAMkAKL32A8djMAJpZ7PTxE0Wb4bOz1YQV/2FCjfYTuW/7K5TiBdSy2hDYoxBuW0X5ebUvBXMS\n",
       "s8AAtoEAAACKQZsESahBaJlMFPD//qmWAAFJ574AdntbBnduf7Zvu6J/NcQsuZj+d8XbWyWXBJtV\n",
       "5sufhblKo1GQCXrGH4iP/ooygx/+69pN1haYFHW7oSzHf/wpfiGCCRF7u/s0P/GZ9AsstghDxWfy\n",
       "JOrZT+6jXkKIB/b92iXQZXTLxJJW5hwPS9PahJlDgAj4AAAARwGfI2pDfwAAAwAv33IANqeQ7LMo\n",
       "At51mHQSDbfNks2J2EmXNPHh8XXAfit/qEXymUdM6CH8D3USZdydVftb/N8rC7/JYAQtAAAAaUGb\n",
       "JknhClJlMFLDv/6plgABSd/wgX3rtB8tuf9gaGBFTgBFZ/7ceLScpk1feFBSYMSb8L3PfX+q/u3N\n",
       "THDH4Z3NxcozTOBYYTd+jg3g/yAkpdTmUlphD8ASwEuIBaYIoJqcw5g5BsAZcQAAAEsBn0VqQ38A\n",
       "AAMAL99yADankOyqFy21Iin7VFPm2ljnUFhcnhS6C6zzTx4faBeIOc4w66Rhjp38nwUI9AwUAlG6\n",
       "hb8kp4Xl+gsAH+EAAAKaQZtJSeEOiZTAgj/+tSqAAABAGGB9QPLLGHTABW3SQdpwy2w9PH3BQPAo\n",
       "fj9PwcVr4ibHSQ/X81RO6oQT4IamGHDT5Y6T3qHejlbyHDTyMRFnYYuykDcDguELN93Vn4NfDlLd\n",
       "Xt17dibAj8AS9UNTPWvhAIPzDFQfv0UfUQ9zmNuiHUgU+uyLAeviZzuvjIR1tp1gqTA+SrEGLfEo\n",
       "TJxKMlBJOmuoB1lPPJyearg70JE8HtgPXcP99PimFwNM3hqQHm65GPdwC/6mVlJchnvO7xIWmPOl\n",
       "BxqOQ1zXQp+M9TO6xdVmWYgt4v6S0h9NIX+7AcKq8EG9oENNU94TrLDsK9hiHLE276L3nHB6zzVX\n",
       "cBsiRdFv5VxftYDicy6V/hOHDv02Tpmt4K3fWPAxAZkUNaw90SEbGa40lX/f2jK/vFVFpMLrMLVX\n",
       "FmQiOHXrgIHHAGES+d/E92Ez1yK2b4erH4xachxTwJreMrcreNHJLZtKNFVc89gj18nFkbWCjz7H\n",
       "+SRv0xOzSOtlB71C/yWdh0qDb2XFtp5e5XSP5qjkjOb0g1Bbz/nAFe0yRRVqhxTPNqCOI8Y+0e8D\n",
       "4/CJol3JHq8q/fNI6BPv4ALJ2cJfyp7XCs843J4oa7Cm+E0U7kqQnV/ecZgXx8ClEsc6Z/+fWEZC\n",
       "R7h2G6hPhduCxzX7Ir293DRD3bp/5Mu2zTlms+Xb+cTPuBulaZP8Z7w2SG/8MUxiNC6QOocXsE3r\n",
       "+MobSOyOYoP8Uta1fs9mtuF59Bbr7IQxxpC8jxJeR2v6ReVhqVRX89iRWV34vW1k4RWCtDWtD21Q\n",
       "qkV1d5xrvx+QRIVPs7vl/oabwPrvnVRPssEitz3u/gCpBUrxWiENx7q0J2yveVnz2A1IAA6ZAAAA\n",
       "yUGfZ0UVPDf/AAADAWtOkWOZLiAD+/3ACmrAELwpx/+41QwCXl4XIl2od+4duU1/4cHENKm8lDs3\n",
       "247AoOsfrZWz7v1RGfVxWJwd48n06qeFVY5KZlkmIuoaPTBnqjIlnxCFCJTo2T/5uu0j8IFtzPof\n",
       "JxPFK2BDyB8JTZcc4yZk23iMYXVoPgMobOugDTSVoPcNJgYrN9NOcBx7Trfj88N0j3v/x/y0SnRq\n",
       "15BizhZlYYHwF45Px5UlnQrO1+hbgx3RPkPiAACJgAAAAB4Bn4hqQ38AAAMBLYyUjFnwJ6iRU+ox\n",
       "5gFDuMAAb0AAAAIvQZuNSahBaJlMCCH//qpVAAADAGUl8zgAJpBZ1vQZGv9zTmatYP8a0w4fDc0h\n",
       "dQG2a6B3FTs2EDmxjYhrzEZVnIusf6jerRQNfA+Ivwh1MsTNKocVlOK+g8wOl19utbZnf11GUETs\n",
       "79JV7uizOzK++qzqZKjfp5wuM6v4nTr1GM+EW4X51nE9dY8eXzxAm74FgyfKruK5xzVVbI0UOJw3\n",
       "YtC00noH78LvnmZM5Aju7Di3LeFGbIsgJ/4z60bZL7GgDdBw1NXY4ntAbkarYvRp3DYH7uJEVL6y\n",
       "8f/wM+v0SVTL+By3YAep0GPxKYo4nzaZc/nvIhXr5JKgnY4tdVq7XMnpPKC3Ov7ChWl0qx8//OPH\n",
       "IYs1wjab7E4Co2sjNHMuALaf5xLzeX3rUpAGTJDliCdHf3Fnzmk70d/ldios3QmfhBX2Gt/PkVul\n",
       "ed2m2nGzfhy4Enu+9k2PXz6iG8leWiGVEKScfxeIwyYXBI+H+GnkjZAagtWd/4NVfiHP9RtIzRSb\n",
       "QjBHELlXzax4ttSkfU2quVFpPhjaXjZZrgZ3mV29IYpA7hp4y7ZrcFYsvMDkgshp+ztt3oLV0CQa\n",
       "U2jQh2AaZj2ECACIiFqhnuouzSzi+Txum4z8UC20GT0Fs1S02hJ2Dw5lqeH/SRh+QiV4ISBfP/r/\n",
       "ooNd7UFQKOvfbc2Bs2tDrjKPvFA+QIsHMvTdLKNKtL/qNLjtoUs9LlHo2AoCQpD7kV5Cm3vWUAAO\n",
       "OQAAAC9Bn6tFESw7/wAAAwDFbS2Xf6qBgU5Wq94Bm/EvJ1huGrZcgG0Zibl0m0KysAALKAAAAB4B\n",
       "n8p0Q38AAAMBFX1msiqyJ5a6qYuDgZ9PZsAAdUAAAAAiAZ/MakN/AAADADidrCM+VQVx0EJGFjaE\n",
       "rTrT+cIdUABvwQAAAjlBm9FJqEFsmUwIIf/+qlUAAAMAEQQCywByyK4IB40JflutQyUpG1X8kwa+\n",
       "gMOS+rnhIvtC3j/IMp/FZ+53HXjT9TYhhW/xdHA2dnBd8Xr/sikRwaNGSl/XHgZAIfcJxdR0wTt8\n",
       "+uwYdor0SSeiCJQjZu9pNowuz/fuJltfiknkSdW5R/Mq60aOAVbSsYl1I0yQJqvjtUV3T54uPHjP\n",
       "JUqA9cOr1YFrOIxGsfR5XRdjel392yXLYtuES695NX9omb9Y90YT161tqxgyZ2HiFBkHxDpYpnE1\n",
       "kIYFF9tmoD7KHPDTWdOPsQrvuEbCrGMUxSZQg2EIyV0urYScEVEJhGVnKTRNpJTGDPGGqBfG5u7I\n",
       "KyslXa3cF7d7WrX2oCXta7NvE5suxRIo4XZdmEUYQauWzAydjEwMgGaXEJkl9AdKfNXV9sRVGNAa\n",
       "1vJh/xG7+FndSIEE1+3qab/RMU/TE7JdV7Llg05TPvXo9IjefD4fXvy+mYADOPIFGPistk6s6I/9\n",
       "BT/TudiVUiC5sU0VZX4ciU3zT0+Y+kv631IdiwHGtGZaisCBCBNAEi57M7OT7a1xb2PvJNHZjV9R\n",
       "0yyP58U6BH1bjNLW/XaN+aJuzUrKdHEUef6M4Hxbit1bNXkQOXW3RuRH0p6vn2uff3DjEOJHrPmk\n",
       "XpjQIk9BdH0lgjhcDl/HDk7Q6b5YTzRb5Q84HFIjwuBiVs79103VM/FI2jaEGnT5WJvZgIe88cd3\n",
       "/bfaZCmzRp4JVAAYEQAAAD9Bn+9FFSw7/wAAAwAhDkmy8geWgBLJWuvhowaYavDMrUiZhvihQZs+\n",
       "Vcww2YKTpn1geLeDQs2FGkjvst2AEDEAAABtAZ4OdEN/AAADAC+9VSqsV3xoZP2FABm9GG8F42v3\n",
       "nwqlFNVD75MGUWu6BSrUuliCH3dqNhMDrAFXeE7yXx93B2c3ntU8RduRBeJU36RTdjhUqssXhNhQ\n",
       "7AsLWISAtdsnRnTHn9sQK/2MEABWwAAAAEQBnhBqQ38AAAMALDRGCSAE1YO2OfZLig68B8/E3Od7\n",
       "6snkstqF2Yml8oU1cyp64xgLGRrr7reyz4c0KhG0bufC4wAg4AAAAQ9BmhNJqEFsmUwUTD///qmW\n",
       "AAFJ574AdntbD9sdzdwIxG0ce/AWdNUsXos3kpr4xjHVvjUoc66L5GDDAAhCtoyPmKt5mgBhRZMC\n",
       "NTgE4QrbRfOmbcJ99QeOl3nQEmbQ1XCjOL0TkD9vDTUL8i4gmaPwzNLqTjNw2N95fkjW7iK1PXAo\n",
       "BVYLkfFV5jUWN4bk0e5dpTGPGkR8vEebiULK4kL8pRQaJbcxxf7xCtugsFis9ulJDmLvUiIkLHgF\n",
       "LbhfZUraIJcrdhYf6KAp8acXkI55qDubHmakmi54rNN/BBe4yOR7jMU7Rrzp5FFhmcteE0UnUYI3\n",
       "gdVBw5iIb6bNG8IVgBD89B+4UBDxGpMAAHdBAAAAZAGeMmpDfwAAAwAv33IANqeQ7KoXLbUiKeNZ\n",
       "FQSPjcnS5HlQxhCeFc0rufNPHh9oEx8Hg3rEAE7zFa9zZed/zeUG663sEmTGrr10McNn6/YIhP6T\n",
       "LT9sfHrlk1gSJdvC/kgATcAAAABuQZo1SeEKUmUwUsO//qmWAAFJ3/CBfeu0Hy25/2BoYEz/aQyn\n",
       "K2eese83wpn6f1MbnwKN5EYxyxGTH1j2/0UA8ePunsvK8ZpnB5/IsMKpfB1O0SUzvMUpChGtEhBP\n",
       "srmaONjipPLhD66XgMAAfMAAAABiAZ5UakN/AAADAC/fcgA2p5DsqhcttSIp+1RUEj6neMIh7GxB\n",
       "Qtz5p48PtAvDuawNDVBIU2in8fglTv+bygz1mlFGTuAchF/RttnI7WQIY7Uaaf6TLTZoE2JWJ2rs\n",
       "RoLAB/kAAAFsQZpZSeEOiZTAgh/+qlUAAAMAEgQWaACPDPMHQBT0DuMDvMJvzM3o0V10fxjCBolX\n",
       "9JdKGYibus1wCLror1y3K5be3T/e/9J6GyQw1DVKNbMwxU2HFl3uefcJ+7oRJQ8b6nFEAUCjeFsK\n",
       "IDU2a4RzG72GIA7yR4t3tUmUj6QHbxqF/oVaZoBgBw5W9DNW+iRyZCr8uEK2N83S6etcPxSg21Wm\n",
       "Ssh3OEEIxhUV2s/x7OTenaS5kL09HXJ7wdQmCdfNte9lr3NEcL4fF+FF+1t39Tumv8fagB+qkCTv\n",
       "rsJvLskMN7GPCHpyxH/LPA10RSpobLaUeEU2kNVad4GnECxwLoyOpzY2v2wTYYrkLPBSnn3oHS6m\n",
       "WMPgG+qfHEUECzxs9hkTJ4Vll9wYHDXmssMhHuYKGcf2iL+LGCA0l/HKj0nI6SnMADaHOOgPZ1NZ\n",
       "r56XlTGx+jpnaYwEoCHEjcSfr+J981h+dcZGjABtQAAAAFxBnndFFTw7/wAAAwAjEf15tjen8riA\n",
       "EtPZilwjgLRd54ByjBd9Fclu20F6AKzyAL4tEaHVfGxuXiCIjrNpG0VUb7YHSlr03M8qIcU9Cnk7\n",
       "zu19l451I55CXTACXwAAACQBnpZ0Q38AAAMALFElNPqyBwOJbIAS1SpM5NNJt+0uBDgwAaEAAAC+\n",
       "AZ6YakN/AAADADJF0mIK7RIQ7cUAAnbuljJO7m1VrHCshmWGyYUQ3TRycWZIB8EJZYO7QNedr6ab\n",
       "Hrk5XIczKabLPs/GM3iGOTeUyLAkcwtpkeorgi3xNupZDvhnD+2csbCfdofyusxonFT7vUcVP2sN\n",
       "k1Bek47ikrfOVsbA4ZPYrpKrMsddNJWLVKubLXFMzdyIWCYk4xinNWS6TWxNiJP1N572qcjLYRPE\n",
       "d1QIpveheR+S3z4zM5C/IABgQAAAAJRBmp1JqEFomUwIf//+qZYAAAMARhZk+ZcYw2q7TBr/7Zv6\n",
       "AQAbKQFG3Icx/Hn0o+8KWUkZaKNm0PrYQS7KT4Qm1fD+vIQZ/OQSTcnyXDUN9T60yYFcLaQWNwK4\n",
       "10rGlQ3QoFCY4I72J7mZhxuAa0IJJBjh9yCTW+0qkx9knpI8dQ72lP4U9xDK+BNgZ57OKIIcABlx\n",
       "AAAAZ0Geu0URLDv/AAADACMOSbLv9VAvUGf9h988OIAPir0mTgsXe81qgas+aemIBsQvp1HW/lxI\n",
       "EBfOvuwqOxlayYqmd/Ry0tKk8DaXA7p7KcWSdXUs/UqldlVLRGICU7ujMmcxZofgA+4AAAA6AZ7a\n",
       "dEN/AAADADI9VTRDZZy6zACaZkR/sKjB9k0sWlf9hTdfcqzBh17H5RxRBcJev1E+H5Y31AB/gQAA\n",
       "ADoBntxqQ38AAAMAL99yADankOyzKALedbYqxINtyCsCwSY2l9GebGijqPPYpXqLjXxHEYZF5iE6\n",
       "ADahAAAAYkGa30moQWyZTBRMO//+qZYAAUnf8IF577QfLbn/YGhgRU4ARWf+3Hi0nKZNX3hQUmDE\n",
       "m/C9z0Y/FQxrj7p7LyvGaZwCvABv0cG8H+QElLqcyktMIfgCWAlxALTBFjKUACVgAAAAYQGe/mpD\n",
       "fwAAAwAv33IANqeQ7KoXLbUiKftUVBI+p3jCIexsQULc+aePD7QLw7msFbvEZqpXUiJdBoif+Gwg\n",
       "z1mj8fJaQ0vkQOZhKekCGO1Gmn+ky02aBNiVidq7EaCwAf4AAALQQZrjSeEKUmUwII///rUqgAAA\n",
       "RD0BBgvQAH6OPmbnycotED8VnQaiiQjgSVpn7h3TuJwq1VDtgw7a/8FTWml9kyk53r67sYz5hBt9\n",
       "Gcur4nEle4317hUP+I/+LqDUIGfjiTOgAy0LkB3A/ADMPO7qbKR9SKJI/0pFQPZjfByIEuL7qsGn\n",
       "t60HKlo2RR/B7nmuQsYN230WOgrVOtpBycBhAO+68r3pG5qHblXXYtetqu3yLNUKJ7fPhHFPTPpp\n",
       "mpz434DjIAG/UkDtxf6A4a3sbgtm2M4IHzYNTWtiPMfUm/LxJFRZdFN55tHtVG0jz169q5X5dR+I\n",
       "Wkk6UJHPX774uHzXamriwzKXT1EAUaIBYDTyfNpAKF5yJ8euZihuUz0g75t8UrBjArzVIi2Vgcgw\n",
       "eSzIBh21wWKcXBejJIcVaLVK3oKDcqIc1tsWidOu/IyWjd4HeV5XdfIq8iKCxty0JSahEYRawYO4\n",
       "MOZngrjNDPQ8K7LWH1byA9UwSwYPkHb9x3ctMkat6A/GjI3fR3UEQ/t4bUGAeo84xO+FaBXqp2v/\n",
       "SI0RiyN1h8FEzxDJq6K2ldEBScOsx94TKqSQ1a33prQEk9OUKizG6hwJzivfygpBJOTY7Sw4uRUo\n",
       "x8Sz6Ynqj8Cn+yGCEN+k87SQgtKO9df5MnIu5v8DCAIUnNOTxnXRYJTT7PZBL8TcP9lddGVoXsOE\n",
       "Iq8ucKWim/UXsdPiR2pXIkZoHH2f7Nh35Biv6IHTyfBP4eIc8xC6xf8+VxrJXsbIG4/cjTm05ke0\n",
       "BCmcOKwMc7vDmCuFF8OI+UBkrVfJQFWRF9YqbBUB9iBwIL4uJ4F9f80wb9uIzahlwINg2aBht7dW\n",
       "5iDtYGdfCkPY5Q9WqMjcnGpixGMF/jP91JJW9R8H3AmJoiYse1TwaRPB/R2Ww/VhfJKMHjwOwtRW\n",
       "4HRHnKklPcRXTpRhcsAAAG3BAAAA1kGfAUU0TDv/AAADAQiQDgBirp3nrACaALVExgeb7bUNBHNL\n",
       "DfzsnQdR/Q5qzDz3FwsvxTa1bK4cI9ve8o3s+VNQd5zx7Ttw830Ie+Rt1rt6Pm+OcyHQBEkpi5L2\n",
       "I1Y/p5uMzskPp4lBBQ8z/DdWHHAhFV6LLI+JaYI1PLOcewleXwIUv98s/VH7azDJZcpao8vs1ISL\n",
       "aEJ/rvgPfRmmqPUL8pI1ONRn6Umbg4dzYYAsrYndab5Y5enrHitGYjQkFh1PcoTmuwY0levP4FtQ\n",
       "63L2nmAAEvAAAAAuAZ8gdEN/AAADASV9u+7Gx3C73kOfI2xK3u1uoANQM64HN3wZLITzp4KkgAAw\n",
       "IQAAAG4BnyJqQ38AAAMBfgCUOgA2qJc9scFLfISmplXZbhd85XHEPxJOPOGgwyKqnoeUmCV/XKFn\n",
       "PusgZ/9walLdJH890kSuJ6YaFph/dY7l80SsNkcP/OAQPph0xHdaXR4ZnnIhYeIDdOdk/vESQAAN\n",
       "qAAAALxBmydJqEFomUwII//+tSqAAABER7EHXIhqLsCwQBtIm1PGL91+3F2BSN+FOE+Km5kfLXLk\n",
       "c37EEDEl9N0AEmzEY4OcPEg5xQMmRi1KoQg/cYaPsgTAvEV3H9sq5Anh25WQw2foc0oYf1WuuLJu\n",
       "d9Z18RtQUfm6eBAmaoaIBULass4jMZ1Zm3G0Ek2hIzP1dUH5CsWgczoXUqP6I90Et5m5mW1Oljnr\n",
       "vFwthEObNIb/zO+FbqAipz8WK4ACpwAAACVBn0VFESw7/wAAAwEIkBezANrfcdkSZNPMbj4nNDTP\n",
       "bUoAAHHBAAAAHgGfZHRDfwAAAwEtfWaquFxPGWgRNLtB32apYAAvIQAAAG4Bn2ZqQ38AAAMBfgCU\n",
       "OgA2qJc9scFLfISmplXZbhd85XHEPxJOPOGgwyKqnoeUmCV/XKFnPusgZ/9walLdJH890kSuJ6Ya\n",
       "Fph/dY7l80SsNkcP/OAQPph0xHdaXR4ZnnIhYeIDdOdk/vESQAANqQAAAdlBm2tJqEFsmUwII//+\n",
       "tSqAAABOGiH2GAKAkb2zErYe8mHoBc8cFRqR+3MGnntWYU2tpU9sxabuqvFv/gkELwR2nW2GDZDC\n",
       "NoYpe9oE64HnNPKuTbaDLNUwzeBOH6+7fcq2+rk8av8ygoZ1lOeGryvKFyEPyqegXctdkWOwakCB\n",
       "ivSpGjHD4gtD6ujnI8D8kDYFXNdfix/4cBPBZz7313IGUzaKsVDcz5c+w+EotEjj1Y5WXF3jMS6G\n",
       "KN71xBU9+iM1b551S7mRrNm9jQBHA71puNfQlx0EI/lAFSN/JTV/0epK+hflxgHrJcKDGDgdSalo\n",
       "+Ll1+35nwTsY9i5/8iB6in56opWYINEOnJ7UMhx9aPf1ttjx3oy1bLNt2fna6ygzZbbOC4nWY6j5\n",
       "Ppj1kJyUputGgl2XdTCPd8lMchzStZqXzyTplGQD6dL88a6kvlo7l6IOQMaQfe8LMwE0WX+IG/yu\n",
       "DNRX3tHqWQH8FMbgWARLd1tYq/NX4eVjJ9KvDos0iHOC0lAnPlMWJ0zXEmPDLGe48Shj+aw3a1JT\n",
       "zNP8xsn5Io/3Wun1HfEMfe1jqn/Cpyms9lf+DvvwCWT33tC8hG7vnM1/80sKAhmmEknJVDfPi3Dc\n",
       "IIBQQAAAAIVBn4lFFSw7/wAAAwEwj+vNsb0/MgpIkmf/KB83/MAE01yC56wrC0xcHoA65lhoPes7\n",
       "0O23/uBU5z83hkYv3KoMPbdvM2wTA+JOYMZr2/X5chyNga00nVdlGPBoftdWrnc/yrM/6eP/Wat2\n",
       "ty09Jo8uJ0cbtc0P+XDUKj3G1s4teue4AAHzAAAAHAGfqHRDfwAAAwFiPA1fN+o4rrY/dHcmvJwA\n",
       "AYMAAADeAZ+qakN/AAADAbAukxBXaJCHWEjyp/Jk2oAPQfcAKfJwpLbQIv7MLF//w3g6MoYufZ77\n",
       "SDUM2T6E8qxMn2HUXeMsn2sZFto1D2wBWpVgRCWXaJn+1lwNYiXv7IJgZ4a1m8eLXpkhKFcmujV1\n",
       "gRb907sgpPGOwiPnw1KqA+9Ad7Y9YzGizbuCoC9ajP1C7NdwMKdLAkfxdUHt5NcfKSps+kp3F3aN\n",
       "rNY2jy2sWMbnS4KVh7xyo7ezx3hulnAykgFLd1MATfFD9//6/v+sFN6yOwfQvj7lwepmIeeAAAKS\n",
       "AAACQEGbr0moQWyZTAgj//61KoAAAEwPOcVqaAE0WifGwnL9l2ZY5Cvu9cWDV94pN56ZihmJlp7+\n",
       "ymJWFgjf/sRdEu95wuT7MDR4DMKrxNc4qHCVXEjzVgxS701LU3DhKwcOA4OuOUt170btosjPEZ1c\n",
       "Pg7yqtT9aSpMFsXnP3aVGKwY/+iAfYrZA3+6pH6N4rmS7563LyVWUeR31h6go3uHiOtPMNL5YJ3T\n",
       "YWDmP9i0v0nWVO5lABHqCLrFrGlgZL/+EQ2eiZAMHBX9pf1EMNIazMZWz5tbkjr+Y2ubqS/dpXBg\n",
       "7sCSHRe+FAmwHNByxK0Y/l0xvr3bGTgVnDviv3ymGsmeJVR3k+nu6lsJvljmaJ0OF5hP4KRAJ1Gj\n",
       "2wk9cbdQkFZOBkEVpWaz66x6u9o54yTcIldEcVX//aiRlcxH0q6ICi3bYsUd+ZKV3tD+Ics1OjLJ\n",
       "wYb2nf5dAC9rxEPE+ISHJoizWGVVSHwkgEOe4SWHrG1oxcccsN4E5QujhuuyMYu5WgDMP6I3Glia\n",
       "din3dHEgxJN7NQ4JG4CgMb1PLy+PTAbVy4aCAWk9yVZvLFcnwnQH7P6+AcJiF8i+5P+Da8wDCsVf\n",
       "0KmIAcFbHsI8pZtQ+eI7dFkT7qTz454qV0RGH25WSXdbmj1KOPihE4rRdeaHfeX4QsF5laA0k9wV\n",
       "+AxmHbSO+XoYyT3ObYcsr8ebHbNX1iYiIrRa0EFH9b3HZ1O6pH8bs3ADMqB5la1mRbUEeouMeqd/\n",
       "kbyP/DiwAAB3QAAAAEdBn81FFSw7/wAAAwEock2Xf6dH5AAHNostk0f7WUiZqbKeO24ni+4/RkEL\n",
       "NYR3PCufBJdpcsF9Am89oys6FLjVZ5gzAAAIuQAAADMBn+x0Q38AAAMBpeqpVXICGQAftRcBveVB\n",
       "OA7Ijvt22i/34khJQMuA+4CbsXAdXAAAg4EAAAAsAZ/uakN/AAADAXROkNZ2VU35CC7xnfYZPGfO\n",
       "UAEv6l+nStbAnalZnKAAAUEAAAJcQZvySahBbJlMCCP//rUqgAAAQBohJIATWXcBNk+AVwEnssJs\n",
       "0yWApIjz1XR0W1sctLolbC3nF0pYd71kEEv4N+iLHpl/Z9KMdtaWaG6ncfmvgB0GtUvQ3ZaEC4pO\n",
       "0V004SL0CtijGow2eYTP65+gjeIG2VAPK+d6qFi4IBnXMoTS4TB9eQ5imCpBAGXAP9lmKhfaf8z7\n",
       "hmBi02jjZTqpGWMJ7VDBUF82zkFz9rOYU/5A+OX29t4h51bCfYdTmskRGKct30WiNAhZbcaAXFvc\n",
       "jE/Fyhz6U0Xr8boUGtk2XaHbdLWS/xWSwY9u2xc1B3AklMEt39t6TrUixONPYMMiw63nECpf7em0\n",
       "gZegRAl/BEm3C+BnZPJefCCXStpR6sA4J+Uh2dPyAHEQ8uVzj9eS/ZvVqcH/dAgMWO2diyoriuHe\n",
       "LuUGQW8CJa5TWL82ALXxM/FktKuEY+YNWmRpIU2cfdWtDqf9g983JE47qWDnevdk2qc66ni+U5y/\n",
       "VB/o+emmsqc5vmqhM7V0lrJtBDMB/hZjQewNBT7iMelhBd1nk2m7QsPnEZiP+5/yGaOgNTDKxBtY\n",
       "fqGUxUdeuaUPaHAgxWnZMbpHgJVj9EEGHK/vzN3GuskbhsEFtVHWl+bEmEoUdlU2Ee0hyxvI053c\n",
       "2wGz3ekH7fA+dmvlklJYdvLXhbf+UeKw1YqVdKq5JYBpz/6MFcxI/EO7X+eObKDR03qU9ZTrKEUM\n",
       "Y/6Hswb5i6LHGmFGQBTR6Z9uwKWrf1zcXEZNoNw6QKv1viZ8P/pINK/SjABhMbKK14AAsasNmAAA\n",
       "ACVBnhBFFSw3/wAAAwFrTpFi70rVobqODoztTMBDBAiMDLCsAAUEAAAAHwGeMWpDfwAAAwEtjJSr\n",
       "Of2klXXVkSp39KU+lAEAAf8AAAOnQZo2SahBbJlMCCP//rUqgAAAMBtgVQBwgJnEA/8d687+jB+t\n",
       "2s1pde8IEmeer6h/j/wdd/ElZYlAwk/vWIlW9L5i0zT4Fa2x8ndgRmSaETl3suZSfHP5XwkcOvC6\n",
       "JnEuVZ7bPf+XWL7Nhim73ANHz33tM4QGIlifQK/JNnA1BwZ+SSH4aN0mat/nuEezyoiKXlC2VvQA\n",
       "u7PF+ukCWR3WXUykiQ9QZM9hcqfXrdBO64FbtEtIGS6t5xEbvTT/vOdMvNW0ZIz/WREX4CSB4x4x\n",
       "+1Y+8RKgZu5IAN0n49gyT/+wLSwHjus8mOiIlN+g5q2dWELo/wJR6hbE3ySJQVl/OMyShLa9Umy4\n",
       "79gPE8LSLVIwqqmfFQdmfTlpYDH95YUox+G1Fw64H61aVtPcpDKQYTthbgDlrcTDKYcI4rZto+hj\n",
       "8CWoVhg7EkeaQeqDq3DUI+XqGRI8hftx6tbuhN0+/XlCAXlv5sWTMG+WoLMB3C/ZlnBPsu0uo2MM\n",
       "yUTm39/JOf9aJ71kd6sdKRJitX0RTvAouAwPdRmtP/3RwlCqx1kNjYt9hBh2FcEkcuC1/ENpcXS6\n",
       "CjQeMIeZamNlHA5a7/b4Imlf3AanJc9CNJ/5ygDa95iXfImi/ZIGHlu6uKDE8CUoiCz+4brbM5pc\n",
       "lx00qwGaSh+mL9hK1W96UwdDZzil/gKfLOkMglCiE7lmfpbIVLFhULgCt8qLKsmx/F3M6dt8TGsr\n",
       "IiKpeKbsXPfLgfUY4mJsVG554ZfNgvozTCRGW11IrxHq8pnBYzMrVtko8lBeIAUkjOdb2TDx67S9\n",
       "5dGjNoQRaedQ/QwXVXP03xHgbzkD3d1weNq3Fl13BdT2VfPDjIaB6KgIn+Bo7OFziQ/pWnX0c5at\n",
       "9SFIo/sawffqABJ85lnAyPn6/f+V9L0k6HVegrEnTvZ70JRlLeAbdA0imYzo6DXJhTmQ9qGqAg4X\n",
       "hCuWcEhEI01J686EVjBiBr3joHuTYswIZIvfhewEQhx5feK0rL9eVCrIs+zOb8PitK8tVLZgzq0v\n",
       "sgo26hmgGxYChjkrcq1ATl5TYvnPf2eSEX4rw4zhXCupBJkSnYiq28GaF8tw0539LZvW+3TgNOos\n",
       "7SMSf85i9jFk3GefB3luAnC6HccAZ5yob02gDlRBk58cIzGiIA19zUL0CXCuXYN4yBLDOGZfrbL5\n",
       "SNfsCaZv1ac1Aw5qCizzic4yihecFpO52k+UNFu+8cHLqasR3V5JP8ygFNAAAAAuQZ5URRUsO/8A\n",
       "AAMAu5im5XsQ07F6XVX1HIBgazD8HwOmGfLu20ymBY0+YACpgAAAACQBnnN0Q38AAAMBBX1mqrFf\n",
       "8xNm40HjAFWAXvsMOxPK6TgACvkAAAA1AZ51akN/AAADADJACi99gPhl2z7wLoAPL/nnBqoU6n29\n",
       "rUnhI4PJW/t/G0rAODZ74tQAf4AAAAIoQZp5SahBbJlMCCP//rUqgAAAEp1wDmHMRVAKn8CgNG+B\n",
       "aJg0UI8flbEWBagfou5U+r5w48eqHA/ZuAzkdfuEQWYHgiRz4RMJH63R6627JYktVnPi8RZh1Hpd\n",
       "x/UMqq6paj0XOlHVfo1f5IrBkkQitxD5OjitHD0HMrWbSpcP1d+x+KpOX2tYnO12tWxtjWR4fxqf\n",
       "HTrW19twK2pgNyQNQe0xXez5nSJQM6pgP5MDfz2STSsGcfjraL5Err/kjvNK97l2r/KRZ4PV3vOJ\n",
       "SkWzrrIZhT3ZI1KnhXunE1F/NCW0un8YAC5uKMRWNadkywk89ePb8Ja24gAAsEY1fq2FasO6XW24\n",
       "ydmVp48MFLD8z7XI6sTSRDVtBtdZUyreaySrOoIHiimCO8KpMM0X7TLGoYHiq8BICgNlDNiQzXxs\n",
       "QwmzRMRpy12cXMYf16/+4O6ZI4bt47Y/evgDYdpHbETqQo4PnSwWmlqILLulza8UL8JvrsbAwjuS\n",
       "7Fy7ZKIPEf5f1XMDJIjlH/53eeHBw57qq7P8oBjIDTlW8UDr7LapMdwQxiXUpJpWM0YJv5whUtGi\n",
       "5BoKJdHYam9qHX443qcl1RwAspP+5RUaVRJwDEkNV0dXuqzExemGjWnv9vBKydTeLqKLeZ6NMJeL\n",
       "3C2V9WAVs34NDnfCcvqP3b63+vfWbpE7kAEkSXIsyNs0ONxgsF3S/31L3gT+tIHpMpVzJokCuhS6\n",
       "fVqdAAMbAAAAMkGel0UVLDf/AAADAGcAM6nJLQAJ2wdo0UkaSyKYILVkR/iBtKhgOpTVzRECkBOw\n",
       "AM+BAAAAMQGeuGpDfwAAAwAsSdIbOAgBNW0XEdZ7S1TSfxRKX5254hvKt7Zg37EhXTLyNzgAgYAA\n",
       "AAC2QZq9SahBbJlMCCP//rUqgAAACM8zf+gp3CQ4LFuwJI34XJRq7jeAFp2Dc6UInTVl/KDZ4+sE\n",
       "+x8CFDanh7OFpHYLJ4j7oUHS98Hz2ZJh+yXOP/MBKSD1i7/6mQU7aScjiEuqq4A2DY8YyYLtlIfA\n",
       "5ZSPvg5Yg51E3bp2qICFB55j4OquWv1kZbHHhPN5gTUd+On+CqdFhUwblhMJ9w8l1eUeKZi3sAMa\n",
       "TTizeRSvcxQd6QegJuEAAABYQZ7bRRUsO/8AAAMAISKqAB2j2Qb0Nn1VGjwNIlZcj66bVFtC8WFr\n",
       "J4Vyy4L/6a5ZSRgisY54yJelu/dWlmByYy+Dw1+q2Vif81Bcu3sn/8TyVQ+tlQAFtAAAALQBnvp0\n",
       "Q38AAAMAL8hM1PXTvAUd3MAG0RWbM2aK2jvqgU6sc+DGbp1Vm4gUX6jOjtDXREXxO99t8+mhuuEK\n",
       "ez9TcaE0pXc8z58eGBQbEni7aIjQ0dI3coK2e+266wNwuQXCEVYuEI6ikkUSK6gRAFPxXvt2yIAt\n",
       "BYbrj2HHXhiaMaef19ngy9fnvvvCewREFHxy484eFgwG6T/1FtD3et2RA5sGK0424zmCpzgr+C7d\n",
       "1tQAE3EAAABnAZ78akN/AAADAC/AChrOs/LPCgAzeoOOQdckDl08LYtzL4Zi8yKrrkDdUr/tEi5g\n",
       "rooeivR49gVP8k6z6fsbsIkbMm4dTCni/hWz+c1z1pAh4ZAVPi9IDu1YKzhGRcyUgaPk8gAFtQAA\n",
       "APVBmuFJqEFsmUwII//+tSqAAAADAy24P2gO6FqALeVY+h4f7kbew2RreAsXZlbnIzgZG3tdJzBW\n",
       "7h5DQ96QlQB/YOy1csXZSjuckX501wHqC9QHhYeYX6vlsGr226Oi2CHRWFrcSb0fWbMlEp2FI7vY\n",
       "LUQoaGOXOST0GmWN4WnyhFi/Sp42KgEJSRi0LKnHV5g2BlF7aCbn1PPchG1ooAs+nXSI9dUyYyr5\n",
       "3c7rflJC1P2hsAHeMb1tQjfNvHU9VppgTzrKUJSsPdXLjl4RVqMgRrLONXGH10RskAnIYGGCntzg\n",
       "RW4jLb+vENpORlkCZsgiDygH3AAAACZBnx9FFSw7/wAAAwAekQ1UpK7hOIGWVhInp718PiHQoWw0\n",
       "1MADPgAAADIBnz50Q38AAAMALEd0Z3tyAD+hAsSm/DRuD/xRKX6WAA7j6S12uSZClXTm2a6pqkAS\n",
       "cQAAAFQBnyBqQ38AAAMAL99yADankOyqF8iVIinjWPbt0W5OlyPKhjCE8K5sH8P8+6vtAw60UxQ2\n",
       "u9UPa0Te2dyHhQtNtNuOfv1D5nyfPvubFqFeWQwALaAAAACpQZskSahBbJlMCCP//rUqgAAAER5l\n",
       "ug3O0AdeNPvIlLVIUh7keQq41TUwgofDyzHB4bsRnTvLer3tk2XfPU1ie3LO/EBg4quJOuh3mTCx\n",
       "hQT29MIvutnusSlhMnLPjJB8XJJoHwmUn518OdLgFg/kBCsu+vPxsMh5GHO1VwuZdjAwehmzGpOU\n",
       "kT8yhiOxFO/1sYDetqJVRJIM0REyTeuuWC1g5VcdkABFwQAAACNBn0JFFSw3/wAAAwAsTz5HOejS\n",
       "HBeARe6NOkY4ncI80VACBgAAADABn2NqQ38AAAMALEnSGzgIATVtFxHWH8h2WfxRKX568qhvKp7Z\n",
       "g37EhXTRid+wAm8AAAOHQZtoSahBbJlMCCP//rUqgAAABvNllgAj5Go1xymVcP7dit6Z4PCjat0R\n",
       "oeYIhHjrvegVM3CgJPZjpEykqkvjyHNM23e9gsK+VoKHNMXPM2eCROgEOS3R05xJQv3CQ5jEhP/C\n",
       "zjvmluKbsYzaqAF9rN6yPNbBPa1cT7VDL6wQKg+PyFlVTCCITLgEox81UcS6ThehPiBuPxU0lwmW\n",
       "H7Vq6gA6uQz4k6arKyLD/hfSopnBnNSgmJwdiqAlz5fjCIxYxSe51zjO90JELvm27zENPUuOIU2C\n",
       "3wv0N4zQwBsqN7I2XFbO4zFAtZ1zTDfshhfEUAtkXeV5bKYrIzUaHiTKf2Cq54fLgYWTsfXiKUj5\n",
       "PXoOdEVRZDnjhSXKWr7m6n0yzyAah5iwqQY48ZYo6kubQ26yjNRW/LyrhAN87V5q38GmqW4JINcy\n",
       "5i2TN+VofbvziYCxctTWe4qUxhXWr8mBryOV55rIjQ9Juk1BArIgJ8nj/sXDSdX/h8+cm0/Lq9o7\n",
       "L7QM2JExo//wt6bp1aiegZ97PocKuzEiYB0KFrJZqyBoI+fi0eqkHo1prlESkzRXArGpbsOGUOeD\n",
       "ziQCkIgty+p/g/VDtD8dYAj6fMSs5GSeFRF+dTr143jxlwmq9noHqmpFeF7eRJ+Vzks7pcRfPiSl\n",
       "jUsicd9Ro+RPnrepHhCCeshgY+pQehkNLO2orG7sRla9H2AY2CGOMbrLF4L4Gq0xuoCzQUn1egH0\n",
       "2fiEBckQQB9/K34ipVoaZVklMSWYflC/y9Yme26Ud/1NQ7zHvoXZyAHCPUYD4V5ZsTBoum1Uontv\n",
       "w8A3yUps0FCnJeLWZiHJQcgSH+azxfH8ik2rkwRqecM15/2vlKp9nBzPhivQpiaKoc4FpX05UsY4\n",
       "lNkRXovbGUClGUFhPrnARcYIU4WEyGI0J/3kZsj6ZJtHRyGtR6KGwpBIy8qGiG/srEH9lMRloUzu\n",
       "qY7RC5rsEbAKbw9t7rxmR2TzFK3j39IqttXreCpHjHUgB0//AV/5VWWhOngIJ2LcPnjMUsFbe10l\n",
       "jeBQFKTllRmt4Rv6Gnj0fTdXz92PNLSM6tV6qHr27XCWnYaEse0VOQFzhdhMHKXzwldWQJnxPV5D\n",
       "ZddUugZfVCWmMtIRHPvQUmPZ5aaLpVxgD76JBGbn39PXjrVDzSyiiW1yS3slAP3wUe+h9Fkp0dkI\n",
       "llV+LgEPAAAALUGfhkUVLDv/AAADABstpbL6QEJFkw3sSmbpcrL2eiHGUpU6DaeEx9+h9/ADCwAA\n",
       "ACQBn6V0Q38AAAMAJq+s1Vllus59F/INQk1xJxGuvYuOITgAakEAAAAeAZ+nakN/AAADAAKgnR/V\n",
       "ky5hbs6SnUCACXvkAKqAAAADnkGbrEmoQWyZTAgj//61KoAAAAMCMONEIA4z9Yf/nUTdWr4LDS85\n",
       "izAdY6XMG+WrQtT94p2J7rZ/pr4eolDrR3/+HsDDPQvajmJ9MnXfoJEEuGDTpTyGeda48bpE0Iln\n",
       "PhoHVALgheMmoQ7CrIPKrSVGaNQvDyFl538lV3FZx2+MERRn+69aJ6SGqrkhJbO7LMbj58WH0sJi\n",
       "VAbQingQL9c6N/iy0AozUu2j2DdtjJio2y9Ae8AlgkK71E9+0Rx32iiPMaqr7MxzGR0Ff5ZBlzCw\n",
       "M9sU+9XPJGc6aDoAScjbLf/x6MZuRcU/qbdK+hGjqjTTdMDYO5RB8CdClPBDMjnerZRVRhrvWXkG\n",
       "hprEKOkddIJmM7REdboOgzWT891zDfDsUoIp2X0sSc1WAhoKEqs5NA01Km7h7H4mq+sw5Smdbteu\n",
       "UfJMa3jqwE7gQPZZc48Pv9aITSG6QC4SD08C+qvaKX4a4VYnNLKi69NPgAl3iWJkkC3qC2F6+RYo\n",
       "ph97aFAtjAkWPUKFFn1o7lybuVAaEy1ZbjLIK5kkG0xWI80bv1YsOtqDem9hZJZ1lhGCJLi8b/9F\n",
       "ceauFhe6gMRjoKhHrQ9sze4hmd+EIkdpKOKrLVDFfLCdo8aHw/7lIH1kQgMwF0bD1nfuM0VKCWez\n",
       "nyfwc29UWUvffiJ9ectweJ6iH2S5ynMN9trsbvil4mGy2FREg4hLjlJ0UYVLTfITzUSBFduje3SZ\n",
       "yFul3qm4QtF04WwFtXpUPQkbQIkTZRLaAvdZxWPhyTs/+hyM1xXzuIkI/HPd0+Rm2A8fyCGt9rU8\n",
       "ONdRcxXk0nTxs1TeQMqFNjUg2GOivzDr1Glj+ZxSv/9wMHFtuX7nY7sa6kWCJ8tJdbxNi691Z1O8\n",
       "Mgts3eL0rSPoWnHZxOH1aCfLZm1iCPj3mSXX3MWg+ytjjSR5DMsV2Q7ijbt6zDTNn8c7pogChfWq\n",
       "A4YQUbamHScgEmvUTG5m8/GjEipCOe8RJlFZB6InLSSHxuh80/SdmghuabyNHzqHAifqDPOCDd45\n",
       "fGvqh+/apEiNPu/T1ATv8gYwBxvXOaAW10LERGs2RrqrcLscakN03kupF895Vez4dbJtHXupfJ2p\n",
       "nfq9y69ASN3Hieo2hNGF7h/4O1CleTBvlrpko9tlqinOJIRPy3ayw/13CFvL+GzXNGDgwum/P6Z5\n",
       "zlcxOuxBzWR0iaUDkLgh3ciL5nhsThunceBRctX5KYEXAAAAOEGfykUVLDv/AAADAAiDlATWIMje\n",
       "sLf5XYqgAuA28sWPiJYKMg82e4XS1MLRf1fW/rGTMO7pQBAxAAAAIQGf6XRDfwAAAwACSvrNVZLY\n",
       "RIx95F+tkWzvZexuFkYCFgAAAB8Bn+tqQ38AAAMAAcTtYRiz4JiGSKnWt3xyblUQEAoYAAADsEGb\n",
       "8EmoQWyZTAgj//61KoAAAAMATBtxAANtDwaYKgxJ65ksBvRdHvnZYORZ/wco6u5QGHbecFUtlhUr\n",
       "y8pjoE+VuhGRpH8IYsC4DjjHHi5C/ckoWzVLiLnxUgSgdBujTLiFHZMFSXV2Y4L4o7619MA8IKjB\n",
       "6GBkHk5ICppdTlux13J2zqEXl8/Nam9uQiPJrkmKtSuTF0BM/5eK44aAogLgdwhSe8ATCQHmnv6v\n",
       "5QXM9PgMclLpbUan47vLND3vFJEbr8CGKMR8Nv4dmlptbIY5W6FtimPSAFtv4H9aBgs2jima5+Tq\n",
       "0I+aw5WYvaJeFtAPDg5aqVgE1LGiOCBAWaxcmK6piCvI9jwTiAE5IqdbmGFukUgBCcaezOZ6HBAl\n",
       "TED9yDhXouaHQTw74tW97AvZBbGyKd8m6yettJo4Dje6MrsYHye+Dkj2MoKcOJcJzgGZmdy8Dh3r\n",
       "u9SCdLUZSs7HrRwZpwvBM4l/A+lzo+jsiaNtpe6aEy7bhQhzcr6r9OoDG7EN9/lasToYq9W55tTb\n",
       "bDqFbiEywvLTNIfHGJg4KFsP+oPsMbP//HAk8BkAaWjckcD+WMMwPfSzAsUTBqyVhIajKzgG7Etk\n",
       "x673DDPbcTwZPe1oPBjMBtygdiGcZ6szyDJC6Un8J+gywWTYnvyTvBLK/V09Da/EAN0q3XGSc5O7\n",
       "nlJLtbVDut+UrE0LmNNLma5zeUosbG4Bm8wcLRe5xSjmLt7b413h3bslpTM2C9Rz3v8EwKV1iaE5\n",
       "TT020s/f8WCHuyvN75cb3UMNGDcfOuOUfhIlKwpznPBGtjQXY6SF0eWVy6JvX96AkWPj2Od0umRd\n",
       "vhNsmaDOJ5uQ6LhLp50vfgJyqtgDOqWKCEV/KJDXTmhphiDf5Wai0SDMaf/Mx3FrDPGsrpERweiy\n",
       "sN4IxOkhBCgceMHKa4t2UcD0B/ErC28Yiqm/2spDpdi5Kt8D6ktIpAAD/0msij7OCedSfeujVP0e\n",
       "1MYVkMgcUEST2fJTgDMzeVbbezNlQx3jujg5/hccbs9HeXu+oM/7WR8Z3LhZ8WdWPQDk03bZAIIl\n",
       "IkSK6F9P9NLHXtHmThNCrdVFc3OKA+RZnY3T8UX2rKYBMFpAySAOm8FNcoUjx4WM3wNR1rzDQK+4\n",
       "k876hes9dFJOACt+h/Uv49zDc8P1OD051GL/EUEbYUTmmNXTByHoaRCue3RLFLrNhTfC4qExoc+D\n",
       "uTMGLK1/lXxpShpCpW8MM7dwKzurf6zIX6D3NAIPAAAAQUGeDkUVLDv/AAADAAEYck2XgD9Ls6p8\n",
       "IUZDntOAADjyGbAN5YBL1Kia1zJdO2sfX6r5X//Lx/bp7N3iSBZ1qh3RAAAAIQGeLXRDfwAAAwAB\n",
       "keqpVWK76mliCX5B94AbFMI4KJD7gQAAACIBni9qQ38AAAMAABsABQ11oBDYpThGFjaEru7415Zs\n",
       "rQeEAAAAw0GaNEmoQWyZTAgj//61KoAAAAMABMeAf/G4EavUANfRi24oV9fuc4Gr2cUg5pisteav\n",
       "7JN92w1+h4NTvsiqjLn9nzrwOeyj07WD3RNa5F/Wfv8b73iupfjYcr3ju9DLM0cgsnBf7ekAGNCI\n",
       "WSjZyjiE949o3PvPjBelIhIwApUK/0vTu/gGUUSHKhlv7/sxV5Wk/IEC7+MEj/PZT4AkOs6k0lH7\n",
       "51wbX9HeNgXYDaqS0m/L1pKjRVD1n5U6tBhXRubIuAAAAFtBnlJFFSw7/wAAAwAAEn2N21d//xQH\n",
       "NGgA5cBJa7myKE7o21XZomjMZoX1e3DLHYuj4RINR8kSjPml+LlMteVsOnLBm4U6uPOAceX72LsA\n",
       "IxVjXtSvk9/woSXhAAAAnwGecXRDfwAAAwAAF0Y3sbBgAED39RX9zBlW9/f/3uSOfU7H4WbMIifp\n",
       "mgK52uCiF2iwIFMQ9gJ35D2Q31/nJCY7yRKnopG9SZvEq97xswtQqG0YXV2MlmJCPxwbuZHLm0KP\n",
       "omnEskM6Epng4lnrjdgLshs90DpyhvmSUtfN0ZUCIi2JeShx/i2udHvuL4N838+pNji1BlajZphB\n",
       "nsQVMAAAAGUBnnNqQ38AAAMAABpgEtW1AAH9JSIC8ajtdHKgvN9//5y8AIzdkUnV+H3qDLjQYsO5\n",
       "M3GNY+S1ypSJdqjvKtPUqulZSRGm3eGpzGZEaLDKPkDHjddRWXaflbiwIgyigGsR02QfMAAAAqxB\n",
       "mnhJqEFsmUwIIf/+qlUAAAMAAAd1G9RADRIALAEUD2WEONQUCd/wl9uH//xhnUSP324T/8Z+A628\n",
       "oWd0GdoVdaM0Xu6104DvqBJjrKYh0+0iWQ+mQrJpWmZZBNxKDu1gvocFATN035V11Ta9QYsetnrD\n",
       "6AZlxmB430jX0FqJ2p5I+TWKCmGf6KZXkEXDcDsYjs8cvk1IUUttl8sgfi0Shwvlkd5jyQslIU+p\n",
       "ZwboV35jFBVoDVC7uiIFkuH7uIScB87KIF5XPT1b67IDw7CHcWY8ytL1NimjLH3bdHZzQQxerSyB\n",
       "0AT4MNjsW+VKOOMGurtxwevepyUgGXkWhd31DEOOjSwbjuJD1U5hOe0TyF4R9ha4N1WBwq8wqNhf\n",
       "2fBT0nWA20CZClEE+1Rwr0KKewHGU2Ydxt30LFCVYODxUiFevcock9gNst0MoGztgm87fHwnpMPU\n",
       "B4IkiHYqk8IAgWz69BjNPcfJ3M50EyTeuAP4CzZE2K73LA8t5Sxx3NK7A7wIsLGD3PsxXqUunY6K\n",
       "3VW+L7mXYZrCx1GgL5GECrrgQntuWJT6UrbFhoHjOBm0X7onoV/t/igPQ5bJ3MBlleGLs8QHJF1R\n",
       "IEhfqO8KYAQS7RFCQj3kR/13Jfu8QyRX/5hg876jw2IZliC+yhRk8mo0xaEOHDSNEDgf6GKcyukn\n",
       "XkAxgiqjbx5O36h8k94ifVzhIkueIfjnQHNVGrKcNIzpwKg6iHlsdAkBWypNAfmmCsVTwAm0kFhi\n",
       "f/3kZ0b0Oc42HNymwwbOWUf1p2g2S5u81AGT9FGFOuS/rWs2MpLXQqTzjxbICgftyi7jlsfoD3+0\n",
       "ttxxDKYsU7+zuG6NrRZtSEbYdBVE78rKtgGAoEGZ2vNVswtO99+ldEa6S1P8+12JHUZ1/5iAVsEA\n",
       "AAAtQZ6WRRUsO/8AAAMAAA6WgNl9ICEiykjguiKJ9TzWfTaxM9vrnf9yyXA2oD/AAAAAIQGetXRD\n",
       "fwAAAwAAFQO6M7ZgXgca2YXx8R7i9R8IaTvE3QAAACwBnrdqQ38AAAMAAAhtexjwGtj2AQAAl0Ll\n",
       "EcDFfiiXFnlvqJLA8b7cMIh8GQAAAsxBmrxJqEFsmUwIIf/+qlUAAAMAAAMDFYFUnp4iAFUoBqGX\n",
       "JSbcEQEO2ZZFOAAaePSrieiC7myU/FQ9wU0U/Ds+NclcF5lkbQG63kJLfp1MuX0DBfvn0svHrYO9\n",
       "3fSXbxo2Ph/EXSiaN2yap3FJW7MW8TLAd74hcD3vPeZVzOfyCAp0hdESjgEdFGj7Tw2U297/+o8E\n",
       "6wbE4JK3H3LyVflBJsxXDYDDp9gwOyXKKMP+VhDhSk+1cs4F/Q+RqUKf9S8GAlJWVhKljLNA2+Gs\n",
       "h+34mfz9BhLhml6HK7EnSgoO9vIulz0sHxHrYQ25ksVITR0/KGNIyXB6mOKeLJiv2N2/av3qY2AJ\n",
       "ITH8iR36pXLgLARnDOQzpKvdUK4qvRWBF6FPwhTGt3FIbP6FaiWe+rXfLOPlmaMwWJk1EikmvOQr\n",
       "WeqlWHXZ+pYTIkTsXd+4wpxVU6MAQzmBvbdROUzGmrghJhcGVphIon4qH/NByAeRym0s6nAqlJTL\n",
       "O48/YPGNt4Y4sRDE5vAIM1LgVu0sitTY8XnERFv0cxmeXOzgwQxmnGNbLUo2IH2HPUr0d0KC8hwg\n",
       "XKaa8CRtvW5SPVvZlsHnuGQGnRp6hX0t0PRIbWIexZuUJ/+4K/bCoar9cRUTAXIsRlXgg77GtCU9\n",
       "DTN1TMHooHeQMLqtyxFP/ko0tg7zAJ/r6VIxZRIHuClba+doiMg8A76UPB9chwmM3CrEb4pGNtzm\n",
       "qhJ0UpENArgJhGxo+2EgLMoSIP9V05v6Ef4vNL+3kp52GDObGbvxRGyO7PbFe2bkQLQ0vJYVT9J0\n",
       "jdKdOJLvyQOPYq/fe/3T7srygE1ZOu+2ZiQe4/Y04f8mnWsLHm8w8kRIRih8wflh5wBhSgTIL/Vg\n",
       "7j68dhZ+ILOFMWo0AnQWm5wL4qiZrpcwTPh591QadXsvxWUmvWKmj//+iDbniTgd9fLKiT4/wAAA\n",
       "ADBBntpFFSw7/wAAAwAABgNq5uPLhowi2kSPegoAV4nyUvQnW7oQ2GWQPNy7uqXhUHcAAAAzAZ75\n",
       "dEN/AAADAAAIa+xrzxekCACckgQt8DSXd/fu1484kdBU6o9fQjNXqynbQpC3c70uAAAAJgGe+2pD\n",
       "fwAAAwAAAwJ8nR/Vky6KG7I4WJ2OPpAwuOpu9segShG5AAACcEGa4EmoQWyZTAhv//6nhAAAAwAA\n",
       "AwMT63pBfcHe0j/hiWOAE0P/lfsBGV9xdZkRr3NT7QQXNCEFVkdAAFuLy2P2tySVrFI8wL6B9KOw\n",
       "CL9b4hWHV2xCnpDAuGLPkfPyfs97BVGgXSYUe6SYe0XdkFkK9t5gvJUKMYBZzD/WN3yy4DtdWIi5\n",
       "P4IRjC3nXmiSszJtJGn4QM1j4II1an+Cfwvquzu/m7Nep+5gG1JhjV0RL9v3gb9uVseXbXpwAvU/\n",
       "Y3hxuBP1NXvX8hmgkKZXRKpNJs1vMveolA4haJikC5g0wCWW6gGP1FZzIa7co2GD7EijAkx3veTE\n",
       "JtUnAJFV+OkYWi2GfjR4WcjvWcKIiSeyqAqYeEJTJ2wBH6Ng2truOt3IIxWg9lQsiFLoOZkE3qXT\n",
       "O4IeXPAK5fUkYpnmA1FHp7Knl8zNCz2ZTzE/X4cLQ4Qih/kgoiTFq3AJGF5szr2Ry6tCNTxbFxLB\n",
       "px11ZsJiKRQ68JWBgltGMmch5Qa8z6eedPp+rov/B9GbMuX5TgxOvTP1uEqQFK3mJF0Qy1hycU6i\n",
       "Gd1xmcJNry7pMrQun/ftkGXtv36Tu6YOr1VRacAPVWdvYEJJN1wom7qVDA+nKIJcc1EgneiN2167\n",
       "XdA4eQFPpAJASuXl7laBgBtQin58hSbte37vY5rJDfzwmxiv4sVbsZhE4hiM1w8ZlWLdbI5rgDoS\n",
       "qjNVSyxdAYsFpYPsi5in7meg4vMa+Jn6SJnmEVSdEtnAjL3CZC5h8p86Xbcp3sDnVVIRFT6yFm0a\n",
       "MAWDsjR4Ic9N4FifdcZFGsOqOCYoiAhC8MWSapEUX+roIQAAAGJBnx5FFSw7/wAAAwAAAwDDFs3K\n",
       "A1wT5ZXfnYiADtq2/DwGRgBgQt6Q+DvgwCxcz7yaGjQgtFzovlmSumaH/Y0mSXqQJXUgeYo7aZXH\n",
       "RR0OjvWlIFij2JIkiX8OLEF0RFfpQAAAADcBnz10Q38AAAMAAAMBFX2Ne2qfZgxLAACAhI0PIelM\n",
       "967uoBb7J4SGjThyMx6/LYGY2oWKZhJ4AAAAOAGfP2pDfwAAAwAAAwAjtfE7HiHMOrNEcuiFcSRF\n",
       "uIAcIn9p+8ViXfJmzXfCbXUNw0mKBXkO9e9BAAANYm1vb3YAAABsbXZoZAAAAAAAAAAAAAAAAAAA\n",
       "A+gAAFfkAAEAAAEAAAAAAAAAAAAAAAABAAAAAAAAAAAAAAAAAAAAAQAAAAAAAAAAAAAAAAAAQAAA\n",
       "AAAAAAAAAAAAAAAAAAAAAAAAAAAAAAAAAAAAAAIAAAyMdHJhawAAAFx0a2hkAAAAAwAAAAAAAAAA\n",
       "AAAAAQAAAAAAAFfkAAAAAAAAAAAAAAAAAAAAAAABAAAAAAAAAAAAAAAAAAAAAQAAAAAAAAAAAAAA\n",
       "AAAAQAAAAAKAAAAB4AAAAAAAJGVkdHMAAAAcZWxzdAAAAAAAAAABAABX5AAACAAAAQAAAAAMBG1k\n",
       "aWEAAAAgbWRoZAAAAAAAAAAAAAAAAAAAKAAAA4QAVcQAAAAAAC1oZGxyAAAAAAAAAAB2aWRlAAAA\n",
       "AAAAAAAAAAAAVmlkZW9IYW5kbGVyAAAAC69taW5mAAAAFHZtaGQAAAABAAAAAAAAAAAAAAAkZGlu\n",
       "ZgAAABxkcmVmAAAAAAAAAAEAAAAMdXJsIAAAAAEAAAtvc3RibAAAALNzdHNkAAAAAAAAAAEAAACj\n",
       "YXZjMQAAAAAAAAABAAAAAAAAAAAAAAAAAAAAAAKAAeAASAAAAEgAAAAAAAAAAQAAAAAAAAAAAAAA\n",
       "AAAAAAAAAAAAAAAAAAAAAAAAAAAAABj//wAAADFhdmNDAWQAFv/hABhnZAAWrNlAoD2hAAADAAEA\n",
       "AAMAFA8WLZYBAAZo6+PLIsAAAAAcdXVpZGtoQPJfJE/FujmlG88DI/MAAAAAAAAAGHN0dHMAAAAA\n",
       "AAAAAQAAAOEAAAQAAAAAFHN0c3MAAAAAAAAAAQAAAAEAAAbAY3R0cwAAAAAAAADWAAAAAQAACAAA\n",
       "AAABAAAUAAAAAAEAAAgAAAAAAQAAAAAAAAABAAAEAAAAAAEAAAgAAAAAAQAAEAAAAAACAAAEAAAA\n",
       "AAEAABQAAAAAAQAACAAAAAABAAAAAAAAAAEAAAQAAAAAAQAAFAAAAAABAAAIAAAAAAEAAAAAAAAA\n",
       "AQAABAAAAAABAAAIAAAAAAEAABQAAAAAAQAACAAAAAABAAAAAAAAAAEAAAQAAAAAAQAACAAAAAAB\n",
       "AAAUAAAAAAEAAAgAAAAAAQAAAAAAAAABAAAEAAAAAAEAAAwAAAAAAQAABAAAAAABAAAUAAAAAAEA\n",
       "AAgAAAAAAQAAAAAAAAABAAAEAAAAAAEAABQAAAAAAQAACAAAAAABAAAAAAAAAAEAAAQAAAAAAQAA\n",
       "CAAAAAABAAAUAAAAAAEAAAgAAAAAAQAAAAAAAAABAAAEAAAAAAEAAAgAAAAAAQAAFAAAAAABAAAI\n",
       "AAAAAAEAAAAAAAAAAQAABAAAAAABAAAQAAAAAAIAAAQAAAAAAQAAFAAAAAABAAAIAAAAAAEAAAAA\n",
       "AAAAAQAABAAAAAABAAAUAAAAAAEAAAgAAAAAAQAAAAAAAAABAAAEAAAAAAEAABQAAAAAAQAACAAA\n",
       "AAABAAAAAAAAAAEAAAQAAAAAAQAADAAAAAABAAAEAAAAAAEAAAwAAAAAAQAABAAAAAABAAAQAAAA\n",
       "AAIAAAQAAAAAAQAADAAAAAABAAAEAAAAAAEAAAwAAAAAAQAABAAAAAABAAAUAAAAAAEAAAgAAAAA\n",
       "AQAAAAAAAAABAAAEAAAAAAEAABQAAAAAAQAACAAAAAABAAAAAAAAAAEAAAQAAAAAAQAADAAAAAAB\n",
       "AAAEAAAAAAEAABAAAAAAAgAABAAAAAABAAAMAAAAAAEAAAQAAAAAAQAADAAAAAABAAAEAAAAAAEA\n",
       "ABQAAAAAAQAACAAAAAABAAAAAAAAAAEAAAQAAAAAAQAAFAAAAAABAAAIAAAAAAEAAAAAAAAAAQAA\n",
       "BAAAAAABAAAUAAAAAAEAAAgAAAAAAQAAAAAAAAABAAAEAAAAAAEAABQAAAAAAQAACAAAAAABAAAA\n",
       "AAAAAAEAAAQAAAAAAQAAFAAAAAABAAAIAAAAAAEAAAAAAAAAAQAABAAAAAABAAAQAAAAAAIAAAQA\n",
       "AAAAAQAAFAAAAAABAAAIAAAAAAEAAAAAAAAAAQAABAAAAAABAAAQAAAAAAIAAAQAAAAAAQAAFAAA\n",
       "AAABAAAIAAAAAAEAAAAAAAAAAQAABAAAAAABAAAMAAAAAAEAAAQAAAAAAQAADAAAAAABAAAEAAAA\n",
       "AAEAABAAAAAAAgAABAAAAAABAAAMAAAAAAEAAAQAAAAAAQAADAAAAAABAAAEAAAAAAEAABAAAAAA\n",
       "AgAABAAAAAABAAAUAAAAAAEAAAgAAAAAAQAAAAAAAAABAAAEAAAAAAEAABQAAAAAAQAACAAAAAAB\n",
       "AAAAAAAAAAEAAAQAAAAAAQAADAAAAAABAAAEAAAAAAEAAAwAAAAAAQAABAAAAAABAAAUAAAAAAEA\n",
       "AAgAAAAAAQAAAAAAAAABAAAEAAAAAAEAABQAAAAAAQAACAAAAAABAAAAAAAAAAEAAAQAAAAAAQAA\n",
       "DAAAAAABAAAEAAAAAAEAABQAAAAAAQAACAAAAAABAAAAAAAAAAEAAAQAAAAAAQAAFAAAAAABAAAI\n",
       "AAAAAAEAAAAAAAAAAQAABAAAAAABAAAUAAAAAAEAAAgAAAAAAQAAAAAAAAABAAAEAAAAAAEAABQA\n",
       "AAAAAQAACAAAAAABAAAAAAAAAAEAAAQAAAAAAQAAEAAAAAACAAAEAAAAAAEAABQAAAAAAQAACAAA\n",
       "AAABAAAAAAAAAAEAAAQAAAAAAQAAEAAAAAACAAAEAAAAAAEAABQAAAAAAQAACAAAAAABAAAAAAAA\n",
       "AAEAAAQAAAAAAQAAFAAAAAABAAAIAAAAAAEAAAAAAAAAAQAABAAAAAABAAAQAAAAAAIAAAQAAAAA\n",
       "AQAAFAAAAAABAAAIAAAAAAEAAAAAAAAAAQAABAAAAAABAAAUAAAAAAEAAAgAAAAAAQAAAAAAAAAB\n",
       "AAAEAAAAAAEAABQAAAAAAQAACAAAAAABAAAAAAAAAAEAAAQAAAAAAQAAFAAAAAABAAAIAAAAAAEA\n",
       "AAAAAAAAAQAABAAAAAABAAAUAAAAAAEAAAgAAAAAAQAAAAAAAAABAAAEAAAAAAEAABQAAAAAAQAA\n",
       "CAAAAAABAAAAAAAAAAEAAAQAAAAAAQAAFAAAAAABAAAIAAAAAAEAAAAAAAAAAQAABAAAAAAcc3Rz\n",
       "YwAAAAAAAAABAAAAAQAAAOEAAAABAAADmHN0c3oAAAAAAAAAAAAAAOEAACM6AAAFYAAAAJwAAACA\n",
       "AAAAhAAAAf0AAAJoAAAAWQAAALcAAAD9AAAAVQAAAIAAAAB7AAACAQAAAOsAAACHAAAASwAAAL0A\n",
       "AAHSAAAA6QAAAC0AAADnAAAA8AAAANIAAABBAAAALwAAAOEAAAFHAAAAbwAABCgAAABYAAAANgAA\n",
       "AFIAAASOAAAAlAAAAEQAAABhAAAB+wAABG4AAABLAAAAQAAAAF0AAAF7AAADHAAAADEAAAAlAAAA\n",
       "OQAAAJwAAACNAAAAIQAAALQAAAApAAAAbQAAAGoAAAJqAAAA0wAAAG8AAAAnAAACCQAAADEAAAAn\n",
       "AAAAOQAAALgAAAA7AAAAXgAAAGEAAACzAAAArAAAADgAAAB0AAAAPQAAAFsAAABhAAACXwAAAL8A\n",
       "AAB+AAAAJwAAAJkAAABrAAAAOAAAAD8AAABfAAAAYgAAAK4AAACtAAAAOAAAAHEAAAA9AAAAXwAA\n",
       "AGEAAALGAAAAiwAAAIQAAABvAAAANAAAAG8AAAAeAAAAKwAAAQ0AAAClAAAAcwAAACIAAABKAAAA\n",
       "0gAAACIAAAAgAAAA9wAAAIIAAABzAAAAeAAAAKUAAAAiAAAALAAAAe8AAAEeAAAAKAAAAIQAAAHq\n",
       "AAAAKwAAACIAAANUAAAAMAAAACUAAAA5AAAAsAAAADkAAABtAAAAVAAAAL0AAACjAAAASQAAAI4A\n",
       "AABLAAAAbQAAAE8AAAKeAAAAzQAAACIAAAIzAAAAMwAAACIAAAAmAAACPQAAAEMAAABxAAAASAAA\n",
       "ARMAAABoAAAAcgAAAGYAAAFwAAAAYAAAACgAAADCAAAAmAAAAGsAAAA+AAAAPgAAAGYAAABlAAAC\n",
       "1AAAANoAAAAyAAAAcgAAAMAAAAApAAAAIgAAAHIAAAHdAAAAiQAAACAAAADiAAACRAAAAEsAAAA3\n",
       "AAAAMAAAAmAAAAApAAAAIwAAA6sAAAAyAAAAKAAAADkAAAIsAAAANgAAADUAAAC6AAAAXAAAALgA\n",
       "AABrAAAA+QAAACoAAAA2AAAAWAAAAK0AAAAnAAAANAAAA4sAAAAxAAAAKAAAACIAAAOiAAAAPAAA\n",
       "ACUAAAAjAAADtAAAAEUAAAAlAAAAJgAAAMcAAABfAAAAowAAAGkAAAKwAAAAMQAAACUAAAAwAAAC\n",
       "0AAAADQAAAA3AAAAKgAAAnQAAABmAAAAOwAAADwAAAAUc3RjbwAAAAAAAAABAAAALAAAAGJ1ZHRh\n",
       "AAAAWm1ldGEAAAAAAAAAIWhkbHIAAAAAAAAAAG1kaXJhcHBsAAAAAAAAAAAAAAAALWlsc3QAAAAl\n",
       "qXRvbwAAAB1kYXRhAAAAAQAAAABMYXZmNTguMjkuMTAw\n",
       "\">\n",
       "  Your browser does not support the video tag.\n",
       "</video>"
      ],
      "text/plain": [
       "<IPython.core.display.HTML object>"
      ]
     },
     "metadata": {},
     "output_type": "display_data"
    }
   ],
   "source": [
    "from IPython import display\n",
    "from matplotlib.animation import ArtistAnimation\n",
    "\n",
    "fig = plt.figure()\n",
    "ax = fig.gca()\n",
    "frames = []\n",
    "\n",
    "stk = []\n",
    "stk.append(problem.copy())\n",
    "solution = None\n",
    "\n",
    "while len(stk) != 0:\n",
    "    P = stk.pop()\n",
    "    frame = draw_frame(P, fig, ax)\n",
    "    frames.append(frame)\n",
    "    success = True\n",
    "    for i, j in product(range(P.shape[0]), range(P.shape[1])):\n",
    "        if P[i, j] == 0:\n",
    "            success = False\n",
    "            row_nums = P[i, :]\n",
    "            col_nums = P[:, j]\n",
    "            k = 3 * (i // 3)\n",
    "            l = 3 * (j // 3)\n",
    "            blk_nums = P[k : k + 3, l : l + 3].flatten()\n",
    "\n",
    "            used_nums = np.concatenate([row_nums, col_nums, blk_nums])\n",
    "            unused_nums = [n for n in range(10) if not n in used_nums]\n",
    "            for n in unused_nums:\n",
    "                new_P = P.copy()\n",
    "                new_P[i, j] = n\n",
    "                stk.append(new_P)\n",
    "\n",
    "            # if the first empty cell is found, then,\n",
    "            # we don't need to see the following cells anymore.\n",
    "            break\n",
    "\n",
    "    if success:\n",
    "        solution = P.copy()\n",
    "        break\n",
    "\n",
    "ani = ArtistAnimation(fig, frames, interval=100, blit=True)\n",
    "html = display.HTML(ani.to_html5_video())\n",
    "display.display(html)\n",
    "plt.close()"
   ]
  },
  {
   "cell_type": "code",
   "execution_count": null,
   "metadata": {
    "editable": true,
    "slideshow": {
     "slide_type": ""
    },
    "tags": []
   },
   "outputs": [],
   "source": []
  },
  {
   "cell_type": "code",
   "execution_count": 109,
   "metadata": {
    "editable": true,
    "slideshow": {
     "slide_type": ""
    },
    "tags": [
     "remove-input"
    ]
   },
   "outputs": [
    {
     "name": "stdout",
     "output_type": "stream",
     "text": [
      "Solution is:\n",
      "[[2 3 5 7 9 1 6 4 8]\n",
      " [1 6 9 4 2 8 7 5 3]\n",
      " [7 4 8 6 3 5 9 2 1]\n",
      " [3 9 6 2 7 4 8 1 5]\n",
      " [5 2 1 3 8 9 4 6 7]\n",
      " [4 8 7 1 5 6 3 9 2]\n",
      " [8 5 3 9 6 2 1 7 4]\n",
      " [9 7 4 5 1 3 2 8 6]\n",
      " [6 1 2 8 4 7 5 3 9]]\n"
     ]
    }
   ],
   "source": [
    "print(\"Solution is:\\n\" + str(solve(problem)))"
   ]
  },
  {
   "cell_type": "code",
   "execution_count": 13,
   "metadata": {
    "editable": true,
    "slideshow": {
     "slide_type": ""
    },
    "tags": [
     "remove-input"
    ]
   },
   "outputs": [],
   "source": [
    "%%capture perf\n",
    "%%timeit\n",
    "solve(problem)"
   ]
  },
  {
   "cell_type": "code",
   "execution_count": 14,
   "metadata": {
    "editable": true,
    "slideshow": {
     "slide_type": ""
    },
    "tags": [
     "remove-input"
    ]
   },
   "outputs": [
    {
     "name": "stdout",
     "output_type": "stream",
     "text": [
      "Execution time:\n",
      "21 ms +- 188 us per loop (mean +- std. dev. of 7 runs, 10 loops each)\n",
      "\n"
     ]
    }
   ],
   "source": [
    "print(\"Execution time:\\n\" + str(perf))"
   ]
  },
  {
   "cell_type": "code",
   "execution_count": 15,
   "metadata": {
    "editable": true,
    "slideshow": {
     "slide_type": ""
    },
    "tags": [
     "remove-input"
    ]
   },
   "outputs": [
    {
     "data": {
      "text/markdown": [
       "上記は、素直にバックトラック法を実装した場合の実行時間であるが、一回の問題を解くのに平均21 msとなっており、十分高速であることが分かる"
      ],
      "text/plain": [
       "<IPython.core.display.Markdown object>"
      ]
     },
     "execution_count": 15,
     "metadata": {},
     "output_type": "execute_result"
    }
   ],
   "source": [
    "from IPython.display import Markdown\n",
    "\n",
    "avg_time = \" \".join(perf.stdout.split(\" \")[0:2])\n",
    "\n",
    "Markdown(f\"上記は、素直にバックトラック法を実装した場合の実行時間であるが、一回の問題を解くのに平均{avg_time:s}となっており、十分高速であることが分かる\")"
   ]
  },
  {
   "cell_type": "markdown",
   "metadata": {
    "editable": true,
    "slideshow": {
     "slide_type": ""
    },
    "tags": []
   },
   "source": [
    "### 処理の効率化"
   ]
  },
  {
   "cell_type": "markdown",
   "metadata": {
    "editable": true,
    "slideshow": {
     "slide_type": ""
    },
    "tags": []
   },
   "source": [
    "上記の方法でも、最初に示した数独の問題であれば数十ミリ秒で解くことができる。だが、次の問題はどうだろう？\n",
    "\n",
    "参照: <https://www.j-cast.com/premium/2018/10/19341452.html?p=all>"
   ]
  },
  {
   "cell_type": "code",
   "execution_count": 16,
   "metadata": {
    "editable": true,
    "slideshow": {
     "slide_type": ""
    },
    "tags": []
   },
   "outputs": [],
   "source": [
    "problem = \"\"\"\n",
    "---------\n",
    "3--2-9--7\n",
    "94--1--82\n",
    "-5-6-2-3-\n",
    "--63-74--\n",
    "---------\n",
    "---------\n",
    "-82-3-59-\n",
    "1--9-4--6\n",
    "\"\"\""
   ]
  },
  {
   "cell_type": "code",
   "execution_count": 17,
   "metadata": {
    "editable": true,
    "slideshow": {
     "slide_type": ""
    },
    "tags": [
     "remove-input"
    ]
   },
   "outputs": [],
   "source": [
    "problem = np.array(\n",
    "    [numbers[c] for line in re.split(\"[\\r\\n]{1,2}\", problem) if line != \"\" for c in line],\n",
    "    dtype=\"uint8\",\n",
    ").reshape((9, 9))"
   ]
  },
  {
   "cell_type": "code",
   "execution_count": 18,
   "metadata": {
    "editable": true,
    "slideshow": {
     "slide_type": ""
    },
    "tags": [
     "remove-input"
    ]
   },
   "outputs": [
    {
     "name": "stdout",
     "output_type": "stream",
     "text": [
      "Solution is:\n",
      "[[5 2 1 7 6 8 3 4 9]\n",
      " [3 6 8 2 4 9 1 5 7]\n",
      " [9 4 7 5 1 3 6 8 2]\n",
      " [4 5 9 6 8 2 7 3 1]\n",
      " [8 1 6 3 9 7 4 2 5]\n",
      " [2 7 3 4 5 1 9 6 8]\n",
      " [6 9 4 8 7 5 2 1 3]\n",
      " [7 8 2 1 3 6 5 9 4]\n",
      " [1 3 5 9 2 4 8 7 6]]\n"
     ]
    }
   ],
   "source": [
    "print(\"Solution is:\\n\" + str(solve(problem)))"
   ]
  },
  {
   "cell_type": "code",
   "execution_count": 19,
   "metadata": {
    "editable": true,
    "slideshow": {
     "slide_type": ""
    },
    "tags": [
     "remove-input"
    ]
   },
   "outputs": [],
   "source": [
    "%%capture perf\n",
    "%%timeit\n",
    "solve(problem)"
   ]
  },
  {
   "cell_type": "code",
   "execution_count": 20,
   "metadata": {
    "editable": true,
    "slideshow": {
     "slide_type": ""
    },
    "tags": [
     "remove-input"
    ]
   },
   "outputs": [
    {
     "name": "stdout",
     "output_type": "stream",
     "text": [
      "Execution time:\n",
      "1.43 s +- 9.66 ms per loop (mean +- std. dev. of 7 runs, 1 loop each)\n",
      "\n"
     ]
    }
   ],
   "source": [
    "print(\"Execution time:\\n\" + str(perf))"
   ]
  },
  {
   "cell_type": "markdown",
   "metadata": {
    "editable": true,
    "slideshow": {
     "slide_type": ""
    },
    "tags": []
   },
   "source": [
    "この問題だと、上記の通り1秒以上は時間がかかるはずだ。\n",
    "\n",
    "実は、上記のコードは次の0のマスを探すまでの処理の効率が非常に悪い。0のマスは左上から右下に向かって探しているのだから、今新しく`(i, j)`というマスに数字を入れたら`(i, j+1)`以降の数字だけを調べれば良いのである。\n",
    "\n",
    "その他にも、バックトラック法を高速化するために、候補の数が少ないものから埋めていくなどの方法も考えられる。ぜひ、自分でプログラムを書いて試してみてほしい。確認用に難易度の異なる4問を示しておく。"
   ]
  },
  {
   "cell_type": "code",
   "execution_count": 21,
   "metadata": {
    "editable": true,
    "slideshow": {
     "slide_type": ""
    },
    "tags": []
   },
   "outputs": [],
   "source": [
    "# レベル1\n",
    "problem = \"\"\"\n",
    "-35-9--48\n",
    "--9--8--3\n",
    "-4-6-5--1\n",
    "----74---\n",
    "-2-----6-\n",
    "---15----\n",
    "8--9-2-7-\n",
    "9--5--2--\n",
    "61--4-53-\n",
    "\"\"\""
   ]
  },
  {
   "cell_type": "code",
   "execution_count": 22,
   "metadata": {},
   "outputs": [],
   "source": [
    "# レベル2\n",
    "# https://si-coding.net/sudoku10.html\n",
    "problem = \"\"\"\n",
    "------1-4\n",
    "4---78---\n",
    "-3------2\n",
    "5--4-7-3-\n",
    "2------5-\n",
    "9---264--\n",
    "-27------\n",
    "--56----7\n",
    "-6--13---\n",
    "\"\"\""
   ]
  },
  {
   "cell_type": "code",
   "execution_count": 23,
   "metadata": {},
   "outputs": [],
   "source": [
    "# レベル3\n",
    "# https://www.j-cast.com/premium/2018/10/19341452.html?p=all\n",
    "problem = \"\"\"\n",
    "---------\n",
    "3--2-9--7\n",
    "94--1--82\n",
    "-5-6-2-3-\n",
    "--63-74--\n",
    "---------\n",
    "---------\n",
    "-82-3-59-\n",
    "1--9-4--6\n",
    "\"\"\""
   ]
  },
  {
   "cell_type": "code",
   "execution_count": 24,
   "metadata": {
    "editable": true,
    "slideshow": {
     "slide_type": ""
    },
    "tags": []
   },
   "outputs": [],
   "source": [
    "# 世界一難しい？\n",
    "# https://www.conceptispuzzles.com/ja/index.aspx?uri=info/article/424\n",
    "problem = \"\"\"\n",
    "8--------\n",
    "--36-----\n",
    "-7--9-2--\n",
    "-5---7---\n",
    "----457--\n",
    "---1---3-\n",
    "--1----68\n",
    "--85---1-\n",
    "-9----4--\n",
    "\"\"\""
   ]
  },
  {
   "cell_type": "markdown",
   "metadata": {
    "editable": true,
    "slideshow": {
     "slide_type": ""
    },
    "tags": []
   },
   "source": [
    "### 参考: さらに高速な解法 (Exact Cover)"
   ]
  },
  {
   "cell_type": "markdown",
   "metadata": {
    "editable": true,
    "slideshow": {
     "slide_type": ""
    },
    "tags": []
   },
   "source": [
    "バックトラック法よりも遙かに高速な解法として、数独の問題をExact Coverの問題として定式化する方法がある。\n",
    "\n",
    "Exact Cover問題とは、とある集合$\\mathcal{S}$と、その部分集合$s_1, \\ldots, s_n$がいくつか与えられた時に、以下の2つの条件を満たすように部分集合を選ぶ問題である。\n",
    "\n",
    "**条件1:** 選ばれた部分集合$s_{i_1}, \\ldots, s_{i_M}$の和集合が集合$\\mathcal{S}$と同じになる\n",
    "- $\\mathcal{S} = \\bigcap_{m=1}^M s_{i_m}$\n",
    "\n",
    "**条件2:** 選ばれた部分集合$s_{i_1}, \\ldots, s_{i_M}$から任意の2つを選び出したとき、それらの積集合が空\n",
    "- $s_{i_n} \\cup s_{i_m} = \\phi, \\quad \\forall n \\neq m$"
   ]
  },
  {
   "cell_type": "markdown",
   "metadata": {
    "editable": true,
    "slideshow": {
     "slide_type": ""
    },
    "tags": []
   },
   "source": [
    "```{admonition} Exact Coverの例\n",
    ":class: note\n",
    "\n",
    "一例として$\\mathcal{S} = \\{1, 2, 3, 4, 5\\}$を考える。このとき、\n",
    "\n",
    "- $s_1 = \\{1, 2\\}$\n",
    "- $s_2 = \\{2, 3\\}$\n",
    "- $s_3 = \\{4, 5\\}$\n",
    "- $s_4 = \\{ 3 \\}$\n",
    "- $s_5 = \\{1, 3, 5\\}$\n",
    "\n",
    "であるなら、$s_1, s_3, s_4$の組み合わせは$\\mathcal{S}$のExact Coverである。\n",
    "```"
   ]
  },
  {
   "cell_type": "markdown",
   "metadata": {
    "editable": true,
    "slideshow": {
     "slide_type": ""
    },
    "tags": []
   },
   "source": [
    "---\n",
    "\n",
    "Exact Coverにはいくつかの解法があり、Donald Knuthが提案したAlgorithm Xと呼ばれる解法が広く知られている。この解法には、通常、Dancing Linksという、二次元配列を上下左右に双方向連結リストで表現したようなデータ形式を用いる。Dancing Linksには、配列の行や列の消去が効率的に行えるが、やや実装の難易度が高い。\n",
    "\n",
    "今回はDancing Linksの代わりにPandasのDataFrameを用いて、Exact CoverをAlgorithm Xによって解いてみる。\n",
    "\n",
    "上記の「Exact Coverの例」で示した例を二部グラフで表わすと、以下のようになる。"
   ]
  },
  {
   "cell_type": "code",
   "execution_count": 265,
   "metadata": {
    "editable": true,
    "slideshow": {
     "slide_type": ""
    },
    "tags": [
     "hide-input"
    ]
   },
   "outputs": [
    {
     "data": {
      "image/png": "[encoded data removed]",
      "text/plain": [
       "<Figure size 640x480 with 1 Axes>"
      ]
     },
     "metadata": {},
     "output_type": "display_data"
    }
   ],
   "source": [
    "import networkx as nx\n",
    "\n",
    "src_nodes = [\"s_1\", \"s_2\", \"s_3\", \"s_4\", \"s_5\"]  # s_1 -- s_4\n",
    "dst_nodes = [1, 2, 3, 4, 5]  # entries of S\n",
    "\n",
    "src_nodes_with_color = [(x, {\"color\": \"tab:red\"}) for x in src_nodes]\n",
    "dst_nodes_with_color = [(x, {\"color\": \"tab:blue\"}) for x in dst_nodes]\n",
    "\n",
    "G = nx.DiGraph()\n",
    "G.add_nodes_from(src_nodes_with_color, bipartite=0)\n",
    "G.add_nodes_from(dst_nodes_with_color, bipartite=1)\n",
    "\n",
    "G.add_edges_from([(\"s_1\", 1), (\"s_1\", 2)])  # s_1 = (1, 2)\n",
    "G.add_edges_from([(\"s_2\", 2), (\"s_2\", 3)])  # s_2 = (2, 3)\n",
    "G.add_edges_from([(\"s_3\", 4), (\"s_3\", 5)])  # s_3 = (4, 5)\n",
    "G.add_edges_from([(\"s_4\", 3)])  # s_4 = (3)\n",
    "G.add_edges_from([(\"s_5\", 1), (\"s_5\", 3), (\"s_5\", 5)])  # s_5 = (1, 3, 5)\n",
    "\n",
    "node_color = [node[\"color\"] for node in G.nodes.values()]\n",
    "\n",
    "top = nx.bipartite.sets(G)[0]\n",
    "pos = nx.bipartite_layout(G, top)\n",
    "nx.draw_networkx(\n",
    "    G, pos=pos, node_color=node_color, node_size=400, font_size=10, font_color=\"white\"\n",
    ")"
   ]
  },
  {
   "cell_type": "markdown",
   "metadata": {
    "editable": true,
    "slideshow": {
     "slide_type": ""
    },
    "tags": []
   },
   "source": [
    "これを二部グラフの**最大マッチング問題**として解く"
   ]
  },
  {
   "cell_type": "code",
   "execution_count": 263,
   "metadata": {
    "editable": true,
    "slideshow": {
     "slide_type": ""
    },
    "tags": []
   },
   "outputs": [],
   "source": [
    "import pandas as pd\n",
    "\n",
    "M = nx.bipartite.biadjacency_matrix(G, row_order=src_nodes, column_order=dst_nodes).todense()\n",
    "df = pd.DataFrame(data=M, index=src_nodes, columns=dst_nodes)"
   ]
  },
  {
   "cell_type": "code",
   "execution_count": 266,
   "metadata": {
    "editable": true,
    "slideshow": {
     "slide_type": ""
    },
    "tags": []
   },
   "outputs": [
    {
     "name": "stdout",
     "output_type": "stream",
     "text": [
      "The solution for exact cover is: ['s_1', 's_3', 's_4']\n"
     ]
    }
   ],
   "source": [
    "# Knuth's Algorithm X\n",
    "def dfs(df):\n",
    "    m = np.asarray(df)\n",
    "    if m.size == 0:\n",
    "        return []\n",
    "\n",
    "    nums = np.sum(m, axis=0)\n",
    "    min_col = np.argmin(nums)\n",
    "    candidates = np.where(m[:, min_col] != 0)[0]\n",
    "    for r in candidates:\n",
    "        mask_cols = np.where(m[r, :] != 0)[0]\n",
    "        mask_rows = []\n",
    "        for c in mask_cols:\n",
    "            rows = np.where(m[:, c] != 0)[0]\n",
    "            mask_rows.append(rows)\n",
    "\n",
    "        mask_rows = np.unique(np.concatenate(mask_rows))\n",
    "        new_df = df.copy()\n",
    "        new_df.drop(index=new_df.index[mask_rows], inplace=True)\n",
    "        new_df.drop(columns=new_df.columns[mask_cols], inplace=True)\n",
    "\n",
    "        next_ret = dfs(new_df)\n",
    "        if isinstance(next_ret, list):\n",
    "            return [df.index[r]] + next_ret\n",
    "\n",
    "    return None\n",
    "\n",
    "\n",
    "solution = sorted(dfs(df))\n",
    "print(\"The solution for exact cover is:\", solution)"
   ]
  },
  {
   "cell_type": "markdown",
   "metadata": {
    "editable": true,
    "jp-MarkdownHeadingCollapsed": true,
    "slideshow": {
     "slide_type": ""
    },
    "tags": []
   },
   "source": [
    "## 問題の抽出"
   ]
  }
 ],
 "metadata": {
  "kernelspec": {
   "display_name": "Python 3 (ipykernel)",
   "language": "python",
   "name": "python3"
  },
  "language_info": {
   "codemirror_mode": {
    "name": "ipython",
    "version": 3
   },
   "file_extension": ".py",
   "mimetype": "text/x-python",
   "name": "python",
   "nbconvert_exporter": "python",
   "pygments_lexer": "ipython3",
   "version": "3.10.2"
  }
 },
 "nbformat": 4,
 "nbformat_minor": 4
}

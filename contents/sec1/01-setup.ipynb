{
 "cells": [
  {
   "attachments": {},
   "cell_type": "markdown",
   "metadata": {},
   "source": [
    "# Python環境を設定しよう"
   ]
  },
  {
   "attachments": {},
   "cell_type": "markdown",
   "metadata": {},
   "source": [
    "Pythonのプログラミング環境を整えるには、いくつかの方法があり、一口にどれが正解とは言いづらい。当然ながら、最も単純な方法はPythonをインタプリタを直接OSにインストールしてしまう方法になる。この場合、Pythonの公式ページからインストーラをダウンロードしてきて、インストーラの指示に従ってインストールをすることになる。\n",
    "\n",
    "Pythonの公式ページ (英語): <https://www.python.org/>\n",
    "\n",
    "また、MacやLinux (UbuntuやCentOS)等を使っていれば、特に上記のウェブページからインストールをしなくても、ターミナル環境から\n",
    "\n",
    "```{code-block} shell\n",
    "python\n",
    "```\n",
    "\n",
    "と入力をすることで、Pythonのインタプリタが立ち上がるだろう。"
   ]
  },
  {
   "attachments": {},
   "cell_type": "markdown",
   "metadata": {},
   "source": [
    "```{admonition} コンパイラとインタプリタ\n",
    "上記の説明では、突然「インタプリタ」という言葉を使ってしまった。情報科学を体系的に勉強したことがあれば、それほど戸惑わないかもしれないが、ここではインタプリタとコンパイラの違いについて、少し述べておく。\n",
    "\n",
    "まず、コンパイラ、というのは人間が理解できるプログラムのソースコードを機械語に翻訳して、コンピュータ上で実行できるようにするためのソフトウェアを指す。例えばC言語であれば、GNU GCCやLLVM Clangなどのコンパイラを用いて、ソースコードを機械語に翻訳する。C言語以外にも、JavaやC#, Go, Rustなどの言語がコンパイラを用いる言語で、これらの言語は一度機械語に翻訳してしまえば、コンピュータが機械語の内容を読み取って次々に処理を実行していくので、一般的に言って計算速度が速い、という特徴がある。\n",
    "\n",
    "一方で、インタプリタは、プログラムのソースコードを1行ずつ読み取って、機械語に変換する。こうすることで、ソースコードを完璧に作り込んでから実行する、という使用法に加え、プログラマがコードを入力しては結果を確認するというインタラクティブな使用が可能となり、簡単なプロトタイプのプログラムを作りたい場合などには、こちらの方が好まれることが多い。最近は、インタプリタを用いる言語 (Pythonの他、RubyやJavaScript)なども、様々な工夫によって実行速度が改善してきてはいるが、それでも、コンパイラを用いる言語と比べて、実行速度は劣る。\n",
    "\n",
    "それぞれの特徴を理解した上で使い分けることが重要だ。\n",
    "```"
   ]
  },
  {
   "attachments": {},
   "cell_type": "markdown",
   "metadata": {},
   "source": [
    "## 仮想開発環境とパッケージ管理"
   ]
  },
  {
   "attachments": {},
   "cell_type": "markdown",
   "metadata": {},
   "source": [
    "Pythonを単に使ってみたいというだけなら、OSに直接インタプリタをインストールしてしまうのが一番簡単なのだが、Python (に限らず他のプログラミング言語でも)には、いくつかのバージョンがあり、現在はPython 3.x系が一般に使われているが、バージョンによって使えるライブラリが異なることがある。\n",
    "\n",
    "そんな時、Pythonの実行環境をOSに直接作ってしまうと、あるプロジェクトAで使うライブラリはPython 3.6で使えていたのに、別のプロジェクトBではPython 3.10でないと動かないライブラリを使いたい、というような状況が発生する。そんな時、Python 3.6が使える環境と、Python 3.10が使える環境を別々に用意することができると利便性が高い。\n",
    "\n",
    "このようにOSの上で、複数の異なるバーションのPythonを備えた開発環境を管理する仕組みを**仮想開発環境**と呼ぶ。Python用の仮想開発環境を作るソフトウェアは複数あり、代表的な物では、\n",
    "* virtualenv: <https://virtualenv.pypa.io/en/latest/>\n",
    "* Anaconda (Miniconda): <https://www.anaconda.com/products/distribution>\n",
    "* Pipenv: <https://pipenv.pypa.io/en/latest/>\n",
    "\n",
    "などがある。\n",
    "\n",
    "ただ、ここで注意しないといけないのは、上記の3つの中でvirtualenvは複数の異なるPythonのバージョンを管理するための仕組みであるのに対して、Anaconda (Miniconda)とPipenvは仮想開発環境の管理とは別に**パッケージ管理ツール**としての役割も持っている。\n",
    "\n",
    "仮想開発環境とは関係がなく、Python向けのパッケージ管理ツールとして最も著名な物は**Pip**と呼ばれるもので、上記の3つの中ではPipenvはvirtualenvによる仮想開発環境の管理とPipによるパッケージ管理を同時に行ってくれる。\n",
    "\n",
    "2023年現在、多くの研究プロジェクトで使われており、またPytorchやTensorFlowといった深層学習用のライブラリの導入を管理しやすいという理由から**本講義では、Anaconda (Miniconda)を用いる**。"
   ]
  },
  {
   "attachments": {},
   "cell_type": "markdown",
   "metadata": {},
   "source": [
    "## AnacondaとMiniconda"
   ]
  },
  {
   "attachments": {},
   "cell_type": "markdown",
   "metadata": {},
   "source": [
    "鋭い読者はさっきから、逐一Anaconda (Miniconda)と書いていることに違和感を覚えているに違いない。結論から先に言えば、このどちらかを使うのであれば、玄人的にはMinicondaをおすすめする。\n",
    "\n",
    "AnacondaはPythonのインタプリタの他に、科学技術計算等に一般的に用いられるNumPyをはじめとする大量のライブラリを一緒にインストールしてくれるという点で、特に自分で必要なライブラリをチェックしなくても、大体のプロジェクトにおいて使えるという点では優れている。\n",
    "\n",
    "その一方で、Anacondaの仮想環境を一つ用意すると、それなりにストレージ (HDDやSSDのこと)の容量を圧迫するため、自分で必要なライブラリのチェックができるようになってしまえば、Minicondaの方が使い勝手が良いと感じている。MinicondaはPython\n",
    "のインタプリタさえインストールしないことも可能 (だが、そういう使い方をすることは希)で、必要なライブラリと、そのライブラリと依存関係を持つライブラリだけを最小設定でインストールするため、ストレージの無駄遣いが防げる。\n",
    "\n",
    "特に、受講者は自分のノートPCで作業をしていることを想定すると、ストレージの容量はそれほど多くないだろうから、Minicondaの方が、その点からも好ましいと言えるだろう。"
   ]
  },
  {
   "attachments": {},
   "cell_type": "markdown",
   "metadata": {},
   "source": [
    "### Minicondaの導入"
   ]
  },
  {
   "attachments": {},
   "cell_type": "markdown",
   "metadata": {},
   "source": [
    "Minicondaを導入するには<https://docs.conda.io/en/latest/miniconda.html>にアクセスし、自分のOSにあったインストーラをダウンロードしてくれば良い。"
   ]
  },
  {
   "attachments": {},
   "cell_type": "markdown",
   "metadata": {},
   "source": [
    "### Minicondaによる仮想開発環境の作成"
   ]
  },
  {
   "attachments": {},
   "cell_type": "markdown",
   "metadata": {},
   "source": [
    "```shell\n",
    "conda create -n sds-1284-ml python=3.9\n",
    "```\n",
    "\n",
    "```shell\n",
    "conda env create -f environment.yaml\n",
    "```"
   ]
  },
  {
   "attachments": {},
   "cell_type": "markdown",
   "metadata": {},
   "source": [
    "## IPythonの利用"
   ]
  },
  {
   "attachments": {},
   "cell_type": "markdown",
   "metadata": {},
   "source": [
    "NumPyの解説に入る前に、以下で用いるIPython環境について簡単に触れておく。IPythonとはInteractive Pythonの略でWindowsならコマンドプロンプトかPowerShell, Mac/Linuxならターミナルを開いて、\n",
    "\n",
    "```shell\n",
    "ipython\n",
    "```\n",
    "\n",
    "と打ち込むと、\n",
    "\n",
    "```python\n",
    "In [1]: \n",
    "```\n",
    "\n",
    "のように表示されて、Pythonのコマンドを打ち込めるようになる。試しに電卓として以下のような計算を試してみよう。\n",
    "\n",
    "```python\n",
    "In [1]: 1 + 2  # Enterを押す(以下では省略する)\n",
    "Out[1]: 3\n",
    "```\n",
    "\n",
    "上記の通り`1 + 2`の計算結果が正しく表示されることが分かる。また、変数に対する代入などといったPythonで普通に行える操作は使い勝手の善し悪しはあるももの、全て使用可能である。\n",
    "\n",
    "```python\n",
    "In [2]: a = 1\n",
    "\n",
    "In [3]: b = 2\n",
    "\n",
    "In [4]: a + b\n",
    "Out[4]: 3\n",
    "```\n",
    "\n",
    "なお、以下では特別な理由がない限り`In [1]:`や`Out [1]`のような表記は省略するので注意すること。"
   ]
  },
  {
   "cell_type": "code",
   "execution_count": null,
   "metadata": {},
   "outputs": [],
   "source": []
  }
 ],
 "metadata": {
  "kernelspec": {
   "display_name": "Python 3 (ipykernel)",
   "language": "python",
   "name": "python3"
  },
  "language_info": {
   "codemirror_mode": {
    "name": "ipython",
    "version": 3
   },
   "file_extension": ".py",
   "mimetype": "text/x-python",
   "name": "python",
   "nbconvert_exporter": "python",
   "pygments_lexer": "ipython3",
   "version": "3.8.11"
  }
 },
 "nbformat": 4,
 "nbformat_minor": 4
}

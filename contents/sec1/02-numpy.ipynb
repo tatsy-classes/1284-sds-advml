{
 "cells": [
  {
   "cell_type": "markdown",
   "metadata": {},
   "source": [
    "# NumPyの基本"
   ]
  },
  {
   "cell_type": "markdown",
   "metadata": {},
   "source": [
    "## NumPyとは？"
   ]
  },
  {
   "cell_type": "markdown",
   "metadata": {},
   "source": [
    "NumPyは一口に言えば、多次元の配列で表わされるデータ (例えば音声なら1次元の配列、画像なら2次元の配列)を様々な線形代数的な演算によって扱いやすくするためのライブラリといえる。まずは、Pythonの配列とNumPyの配列の違いについて見てみたい。\n",
    "\n",
    "Pythonで配列を作成するには`[ ]`で数字をコンマ区切りにすれば良く、"
   ]
  },
  {
   "cell_type": "code",
   "execution_count": 1,
   "metadata": {},
   "outputs": [],
   "source": [
    "numbers = [1, 2, 3]"
   ]
  },
  {
   "cell_type": "markdown",
   "metadata": {},
   "source": [
    "と書く。この時、aの各要素を2倍にしたいとすると、直感的には"
   ]
  },
  {
   "cell_type": "code",
   "execution_count": 2,
   "metadata": {},
   "outputs": [
    {
     "data": {
      "text/plain": [
       "[1, 2, 3, 1, 2, 3]"
      ]
     },
     "execution_count": 2,
     "metadata": {},
     "output_type": "execute_result"
    }
   ],
   "source": [
    "numbers * 2"
   ]
  },
  {
   "cell_type": "markdown",
   "metadata": {},
   "source": [
    "とすれば良さそうだが、これは"
   ]
  },
  {
   "cell_type": "code",
   "execution_count": 3,
   "metadata": {},
   "outputs": [
    {
     "data": {
      "text/plain": [
       "[1, 2, 3, 1, 2, 3]"
      ]
     },
     "execution_count": 3,
     "metadata": {},
     "output_type": "execute_result"
    }
   ],
   "source": [
    "numbers = [1, 2, 3]\n",
    "numbers * 2"
   ]
  },
  {
   "cell_type": "markdown",
   "metadata": {},
   "source": [
    "のように配列が2回繰り返されたものとなってしまう。Pythonの配列でこれを実現するには*リスト内包表記*と呼ばれる記法を使って"
   ]
  },
  {
   "cell_type": "code",
   "execution_count": 4,
   "metadata": {},
   "outputs": [
    {
     "data": {
      "text/plain": [
       "[2, 4, 6]"
      ]
     },
     "execution_count": 4,
     "metadata": {},
     "output_type": "execute_result"
    }
   ],
   "source": [
    "[x * 2 for x in numbers]"
   ]
  },
  {
   "cell_type": "markdown",
   "metadata": {},
   "source": [
    "と書く必要がある。もちろん、これでも必要十分ではあるのだが、気持ちとしては、より直感的な記述で書きたいと思うのが人情という物だ。そこでNumPyの登場である。"
   ]
  },
  {
   "cell_type": "markdown",
   "metadata": {},
   "source": [
    "NumPyはPythonの配列を引数にとる関数`numpy.array`を用いて、"
   ]
  },
  {
   "cell_type": "code",
   "execution_count": 5,
   "metadata": {},
   "outputs": [],
   "source": [
    "import numpy as np\n",
    "numbers = np.array([1, 2, 3])"
   ]
  },
  {
   "cell_type": "markdown",
   "metadata": {},
   "source": [
    " と書くことで作成できる。NumPyの配列であれば、下記のように要素を2倍にする計算を、より直感的に行うことができる。"
   ]
  },
  {
   "cell_type": "code",
   "execution_count": 6,
   "metadata": {},
   "outputs": [
    {
     "data": {
      "text/plain": [
       "array([2, 4, 6])"
      ]
     },
     "execution_count": 6,
     "metadata": {},
     "output_type": "execute_result"
    }
   ],
   "source": [
    "numbers * 2"
   ]
  },
  {
   "cell_type": "markdown",
   "metadata": {},
   "source": [
    "### 多次元配列を作る"
   ]
  },
  {
   "cell_type": "markdown",
   "metadata": {},
   "source": [
    "Pythonの配列で多次元配列を作るには、"
   ]
  },
  {
   "cell_type": "code",
   "execution_count": 7,
   "metadata": {},
   "outputs": [],
   "source": [
    "numbers = [[1, 2], [3, 4]]"
   ]
  },
  {
   "cell_type": "markdown",
   "metadata": {},
   "source": [
    "のように`[ ]`を二重にすれば良かった。また、全ての要素が1の10x10の二次元配列を作りたい場合には、リスト内包表記を用いて"
   ]
  },
  {
   "cell_type": "code",
   "execution_count": 8,
   "metadata": {},
   "outputs": [],
   "source": [
    "ones = [[1] * 10 for _ in range(10)]"
   ]
  },
  {
   "cell_type": "markdown",
   "metadata": {},
   "source": [
    "のように書く必要がある。NumPyで同様の配列を作る場合、先ほど紹介した方法で`numpy.array`の引数にPythonの多次元配列を代入すれば良い。"
   ]
  },
  {
   "cell_type": "code",
   "execution_count": 9,
   "metadata": {},
   "outputs": [],
   "source": [
    "numbers = [[1, 2], [3, 4]]\n",
    "numbers_np = np.array(numbers)"
   ]
  },
  {
   "cell_type": "markdown",
   "metadata": {},
   "source": [
    "また、NumPyにはいくつかの特殊な配列を作る関数が用意されていて、全ての要素が0や全ての要素が1、または特定の要素を持つ配列は次のように作成できる。"
   ]
  },
  {
   "cell_type": "code",
   "execution_count": 10,
   "metadata": {},
   "outputs": [],
   "source": [
    "zeros = np.zeros((10, 10))   # 全ての要素が0の10x10の二次元配列\n",
    "ones = np.ones((10, 10))     # 全ての要素が1の10x10の二次元配列\n",
    "twos = np.full((10, 10), 2)  # 全ての要素が2の10x10の二次元配列"
   ]
  },
  {
   "cell_type": "markdown",
   "metadata": {},
   "source": [
    "上記の関数を使う場合、関数の引数がPythonの配列ではなく、多次元配列の大きさを表すタプルになるので注意すること。"
   ]
  },
  {
   "cell_type": "markdown",
   "metadata": {},
   "source": [
    "### 配列の情報"
   ]
  },
  {
   "cell_type": "markdown",
   "metadata": {},
   "source": [
    "上記のNumPyの配列をIPython上で表示すると"
   ]
  },
  {
   "cell_type": "code",
   "execution_count": 11,
   "metadata": {},
   "outputs": [
    {
     "name": "stdout",
     "output_type": "stream",
     "text": [
      "[1 2 3]\n"
     ]
    }
   ],
   "source": [
    "numbers = np.array([1, 2, 3])\n",
    "print(numbers)"
   ]
  },
  {
   "cell_type": "markdown",
   "metadata": {},
   "source": [
    "のように表示されるが、この実態は`int32`型すなわち32bit符号付き整数となっている。これを調べるには，配列の`dtype`フィールドにアクセスすれば良く"
   ]
  },
  {
   "cell_type": "code",
   "execution_count": 12,
   "metadata": {},
   "outputs": [
    {
     "data": {
      "text/plain": [
       "dtype('int32')"
      ]
     },
     "execution_count": 12,
     "metadata": {},
     "output_type": "execute_result"
    }
   ],
   "source": [
    "numbers.dtype"
   ]
  },
  {
   "cell_type": "markdown",
   "metadata": {},
   "source": [
    "のような出力が得られる。\n",
    "\n",
    "また、配列の大きさは`shape`フィールドに、何次元の多次元配列なのかは`ndim`フィールドにアクセスすることで調べることができる。"
   ]
  },
  {
   "cell_type": "code",
   "execution_count": 13,
   "metadata": {},
   "outputs": [
    {
     "data": {
      "text/plain": [
       "(4, 5, 6)"
      ]
     },
     "execution_count": 13,
     "metadata": {},
     "output_type": "execute_result"
    }
   ],
   "source": [
    "ones = np.ones((4, 5, 6))\n",
    "ones.shape"
   ]
  },
  {
   "cell_type": "code",
   "execution_count": 14,
   "metadata": {},
   "outputs": [
    {
     "data": {
      "text/plain": [
       "3"
      ]
     },
     "execution_count": 14,
     "metadata": {},
     "output_type": "execute_result"
    }
   ],
   "source": [
    "ones.ndim"
   ]
  },
  {
   "cell_type": "markdown",
   "metadata": {},
   "source": [
    "また、始めから配列要素の型を指定して、"
   ]
  },
  {
   "cell_type": "code",
   "execution_count": 15,
   "metadata": {},
   "outputs": [],
   "source": [
    "numbers = np.array([1, 2, 3], dtype='float32')"
   ]
  },
  {
   "cell_type": "markdown",
   "metadata": {},
   "source": [
    "のようにすることもできる。上記の例では、配列内の各要素が`float32`型、すなわち32bitの単精度浮動小数で表わされる。NumPyで使える配列の型には、この他にも`int8` / `uint8` (それぞれ8bit符号あり、符号なし整数)以下、`int16`、`int32`、`int64`が符号付き整数 (それぞれに符号なし整数である`uint..`が存在)の他、64bit倍精度浮動小数として`double`、また複素数を表わす`complex64` (実部と虚部がそれぞれ32bit単精度浮動小数)や`complex128` (実部と虚部がそれぞれ64bit浮動小数)などがある。\n",
    "\n",
    "最初に異なる型で宣言した配列を途中から別の型に変更したい場合には`astype`メソッドを使って、"
   ]
  },
  {
   "cell_type": "code",
   "execution_count": 16,
   "metadata": {},
   "outputs": [],
   "source": [
    "numbers = np.array([1, 2, 3])  # int32型\n",
    "numbers = numbers.astype('float32')  # 型をfloat32に変更"
   ]
  },
  {
   "cell_type": "markdown",
   "metadata": {},
   "source": [
    "のようにすることで実現できる。"
   ]
  },
  {
   "cell_type": "markdown",
   "metadata": {},
   "source": [
    "**閑話休題: オブジェクト指向型言語の用語**"
   ]
  },
  {
   "cell_type": "markdown",
   "metadata": {},
   "source": [
    "Pythonはプログラミング言語の中ではオブジェクト指向型の言語に分類される (他には手続き型や関数型などがある)。オブジェクト指向型言語では、実世界のモノをプログラムにより表現するための仕組みとしてモノ(= オブジェクト)を「クラス」という概念で表わす。ここでは、詳しい明言を避けるが、Pythonのクラスとは以下のようなものだ。"
   ]
  },
  {
   "cell_type": "code",
   "execution_count": 17,
   "metadata": {},
   "outputs": [],
   "source": [
    "class Human(object):\n",
    "  def __init__(self, name, age):\n",
    "    self.name = name\n",
    "    self.age = age\n",
    "\n",
    "  def intro(self):\n",
    "    print('Hi, my name is %s. I\\'m %d years old.' % (self.name, self.age))"
   ]
  },
  {
   "cell_type": "markdown",
   "metadata": {},
   "source": [
    "このようなクラスにおいて、クラスが保持する変数 (= `self.name`や`self.age`)のことを**パラメータ**や**フィールド**と呼び、クラスが備える関数(= `intro`)のことを**メソッド**と呼ぶ。\n",
    "\n",
    "また、上記のクラスを用いて、実際の`Human`を作ること、すなわち"
   ]
  },
  {
   "cell_type": "code",
   "execution_count": 18,
   "metadata": {},
   "outputs": [],
   "source": [
    "taro = Human('Taro', 22)"
   ]
  },
  {
   "cell_type": "markdown",
   "metadata": {},
   "source": [
    "という処理を**インスタンス化**と呼ぶ。これらの用語はPythonに限らず、オブジェクト指向型言語の基本用語なので覚えておくこと。"
   ]
  },
  {
   "cell_type": "markdown",
   "metadata": {},
   "source": [
    "## NumPyを用いた線形代数"
   ]
  },
  {
   "cell_type": "markdown",
   "metadata": {},
   "source": [
    "### スカラに対する演算"
   ]
  },
  {
   "cell_type": "markdown",
   "metadata": {},
   "source": [
    "ベクトルや行列に対して、スカラを四則演算すると、要素ごとに同じ計算が行われる。例えば、"
   ]
  },
  {
   "cell_type": "code",
   "execution_count": 19,
   "metadata": {},
   "outputs": [
    {
     "name": "stdout",
     "output_type": "stream",
     "text": [
      "[2 3]\n"
     ]
    }
   ],
   "source": [
    "a = np.array([1, 2])\n",
    "print(a + 1)  # array([2, 3])"
   ]
  },
  {
   "cell_type": "markdown",
   "metadata": {},
   "source": [
    "の例では、aの各要素に1が足し算されていることが分かる。これは、他の四則演算に対しても同様である。"
   ]
  },
  {
   "cell_type": "markdown",
   "metadata": {},
   "source": [
    "### 要素ごとの四則演算"
   ]
  },
  {
   "cell_type": "markdown",
   "metadata": {},
   "source": [
    "同じ要素数を持つベクトル同士や行列同士を四則演算すると、要素ごとの演算が行われる。例えば、"
   ]
  },
  {
   "cell_type": "code",
   "execution_count": 20,
   "metadata": {},
   "outputs": [
    {
     "name": "stdout",
     "output_type": "stream",
     "text": [
      "[4 6]\n"
     ]
    }
   ],
   "source": [
    "a = np.array([1, 2])\n",
    "b = np.array([3, 4])\n",
    "print(a + b)  # array([4, 6])"
   ]
  },
  {
   "cell_type": "markdown",
   "metadata": {},
   "source": [
    "の例では、aとbの各要素に対して、和が取られていることが分かる。これは、他の四則演算に対しても同様である。"
   ]
  },
  {
   "cell_type": "markdown",
   "metadata": {},
   "source": [
    "### 各要素への関数適用"
   ]
  },
  {
   "cell_type": "markdown",
   "metadata": {},
   "source": [
    "NumPyには`numpy.exp`などのように、ベクトル・行列の各要素に対して、特定のスカラに対する演算を行う関数が用意されている。一例として、`numpy.sin`、`numpy.cos`、`numpy.exp`、`numpy.log`などがあり、高校レベルで思いつくものであれば大抵は用意されている。"
   ]
  },
  {
   "cell_type": "markdown",
   "metadata": {},
   "source": [
    "### ベクトルの内積"
   ]
  },
  {
   "cell_type": "markdown",
   "metadata": {},
   "source": [
    "内積の計算には二つのベクトルに対して`numpy.dot`を用いれば良い。"
   ]
  },
  {
   "cell_type": "code",
   "execution_count": 21,
   "metadata": {},
   "outputs": [
    {
     "name": "stdout",
     "output_type": "stream",
     "text": [
      "11\n"
     ]
    }
   ],
   "source": [
    "a = np.array([1, 2])\n",
    "b = np.array([3, 4])\n",
    "print(np.dot(a, b))"
   ]
  },
  {
   "cell_type": "markdown",
   "metadata": {},
   "source": [
    "また、`numpy.dot`と同じ効果を現す演算子として`@`が用意されており、上と同様のコードは`@`を使って以下のように書ける。"
   ]
  },
  {
   "cell_type": "code",
   "execution_count": 22,
   "metadata": {},
   "outputs": [
    {
     "name": "stdout",
     "output_type": "stream",
     "text": [
      "11\n"
     ]
    }
   ],
   "source": [
    "print(a @ b)"
   ]
  },
  {
   "cell_type": "markdown",
   "metadata": {},
   "source": [
    "### ベクトルの外積"
   ]
  },
  {
   "cell_type": "markdown",
   "metadata": {},
   "source": [
    "外積の計算には二つのベクトルに対して`numpy.cross`を用いれば良い。"
   ]
  },
  {
   "cell_type": "code",
   "execution_count": 23,
   "metadata": {},
   "outputs": [
    {
     "name": "stdout",
     "output_type": "stream",
     "text": [
      "[-3  6 -3]\n"
     ]
    }
   ],
   "source": [
    "a = np.array([1, 2, 3])\n",
    "b = np.array([4, 5, 6])\n",
    "print(np.cross(a, b))"
   ]
  },
  {
   "cell_type": "markdown",
   "metadata": {},
   "source": [
    "なお、この`numpy.cross`は二次元ベクトルに対しても計算が可能で、その場合は二次元ベクトルを並べて作られる2x2行列の行列式が計算される。"
   ]
  },
  {
   "cell_type": "code",
   "execution_count": 24,
   "metadata": {},
   "outputs": [
    {
     "name": "stdout",
     "output_type": "stream",
     "text": [
      "-2\n"
     ]
    }
   ],
   "source": [
    "a = np.array([1, 2])\n",
    "b = np.array([3, 4])\n",
    "print(np.cross(a, b))"
   ]
  },
  {
   "cell_type": "markdown",
   "metadata": {},
   "source": [
    "この計算は二次元平面においてa → bというベクトルの移動が時計回りの回転(負の値になる)なのか、反時計回りの回転(正の値になる)なのかを調べる時などに役に立つ。"
   ]
  },
  {
   "cell_type": "markdown",
   "metadata": {},
   "source": [
    "### 行列の転置"
   ]
  },
  {
   "cell_type": "markdown",
   "metadata": {},
   "source": [
    "### 逆行列・疑似逆行列"
   ]
  },
  {
   "cell_type": "markdown",
   "metadata": {},
   "source": [
    "とある行列が正則行列 (逆行列を持つ = 行列式が0でない)ときには`numpy.linalg.inv`を用いて逆行列が計算できる。"
   ]
  },
  {
   "cell_type": "code",
   "execution_count": 25,
   "metadata": {},
   "outputs": [
    {
     "name": "stdout",
     "output_type": "stream",
     "text": [
      "[[-2.   1. ]\n",
      " [ 1.5 -0.5]]\n"
     ]
    }
   ],
   "source": [
    "A = np.array([[1, 2], [3, 4]], dtype='double')\n",
    "invA = np.linalg.inv(A)\n",
    "print(invA)"
   ]
  },
  {
   "cell_type": "markdown",
   "metadata": {},
   "source": [
    "なお、その行列が正則行列かどうかを調べるには、行列のランクや行列式が0でないかを調べれば良いだろう。"
   ]
  },
  {
   "cell_type": "code",
   "execution_count": 26,
   "metadata": {},
   "outputs": [
    {
     "data": {
      "text/plain": [
       "2"
      ]
     },
     "execution_count": 26,
     "metadata": {},
     "output_type": "execute_result"
    }
   ],
   "source": [
    "# 行列のランク\n",
    "np.linalg.matrix_rank(A)  # 2"
   ]
  },
  {
   "cell_type": "code",
   "execution_count": 27,
   "metadata": {},
   "outputs": [
    {
     "data": {
      "text/plain": [
       "-2.0000000000000004"
      ]
     },
     "execution_count": 27,
     "metadata": {},
     "output_type": "execute_result"
    }
   ],
   "source": [
    "# 行列式\n",
    "np.linalg.det(A)"
   ]
  },
  {
   "cell_type": "markdown",
   "metadata": {},
   "source": [
    "では、次に、正則でない行列 (= 特異行列という)の場合に逆行列を求めようとするとどうなるかを見てみる。"
   ]
  },
  {
   "cell_type": "code",
   "execution_count": 28,
   "metadata": {},
   "outputs": [
    {
     "name": "stdout",
     "output_type": "stream",
     "text": [
      "Exception: LinAlgError\n",
      "Message: Singular matrix\n"
     ]
    }
   ],
   "source": [
    "A = np.array([[1, 2], [2, 4]], dtype='double')\n",
    "try:\n",
    "    np.linalg.inv(A)\n",
    "except Exception as e:\n",
    "    print(\"Exception: {:s}\".format(type(e).__name__))\n",
    "    print(\"Message: {:s}\".format(str(e)))"
   ]
  },
  {
   "cell_type": "markdown",
   "metadata": {},
   "source": [
    "上記の例では、例外処理をしており、**LinAlgError**が発生して、その例外メッセージが**Singular matrix**\"となることが確認できる。実際、上記の行列のランクは1で行列式は0.0になるので、各自で調べて見てほしい。\n",
    "\n",
    "さて、このようは特異行列に対して、逆行列を求めるにはどうすれば良いのだろうか？特異行列に対して、逆行列を求めたい場面というのは実用上はそれなりに多く、その一番身近な例が、以下のような最小二乗問題を解きたい場合だろう。\n",
    "\n",
    "$$\n",
    "\\min_{\\mathbf{x}} \\frac{1}{2} \\| \\mathbf{Ax} - \\mathbf{b} \\|^2\n",
    "$$\n",
    "\n",
    "この場合、 $\\mathbf{x}$ について被最小化関数を微分したものがゼロベクトルになる箇所を探せば、それが求める $\\mathbf{x}$ だが、この際、被最小化関数の $\\mathbf{x}$ についての微分によって得られる\n",
    "\n",
    "$$\n",
    "\\mathbf{A}^\\top \\mathbf{Ax} = \\mathbf{A}^\\top \\mathbf{b}\n",
    "$$\n",
    "\n",
    "という方程式において $\\mathbf{A}^\\top \\mathbf{A}$ が特異行列になることは実問題においては頻繁に起こる問題である。\n",
    "\n",
    "このような場合、上記の最小化問題の解は、特異行列に対して逆行列と似た性質を持つ疑似逆行列 (正しくはMoore-Penroseの疑似逆行列と呼ぶ)を右辺に乗ずることで求められる。\n",
    "\n",
    "すなわち、疑似逆行列を $(\\mathbf{A}^\\top \\mathbf{A})^\\dagger$ のように表わす時、最小化を実現する $\\mathbf{x}$ は次の式のように定まる。\n",
    "\n",
    "$$\n",
    "\\mathbf{x} = (\\mathbf{A}^\\top \\mathbf{A})^\\dagger (\\mathbf{A}^\\top \\mathbf{b})\n",
    "$$\n",
    "\n",
    "では、疑似逆行列とは、一体どういう性質を持った行列なのだろうか？これを説明するには特異値分解について説明をする必要があるため、詳しくは触れないが、ぜひNumPyで疑似逆行列を求める`numpy.linalg.pinv`を用いて、以下の計算を試してみてほしい。"
   ]
  },
  {
   "cell_type": "code",
   "execution_count": 29,
   "metadata": {},
   "outputs": [
    {
     "name": "stdout",
     "output_type": "stream",
     "text": [
      "- pinv(A) @ A\n",
      "[[0.2 0.4]\n",
      " [0.4 0.8]]\n",
      "\n",
      "- A @ pinv(A) @ A\n",
      "[[1. 2.]\n",
      " [2. 4.]]\n"
     ]
    }
   ],
   "source": [
    "# この行列は特異行列\n",
    "A = np.array([[1, 2], [2, 4]], dtype='double')\n",
    "pinvA = np.linalg.pinv(A)\n",
    "print(\"- pinv(A) @ A\")\n",
    "print(pinvA @ A)\n",
    "print(\"\")\n",
    "print(\"- A @ pinv(A) @ A\")\n",
    "print(A @ pinvA @ A)"
   ]
  },
  {
   "cell_type": "markdown",
   "metadata": {},
   "source": [
    "**閑話休題: 数値誤差**"
   ]
  },
  {
   "cell_type": "markdown",
   "metadata": {},
   "source": [
    "上記の例ではNumPyの関数を用いて行列式や逆行列を求める方法について紹介してきた。前述の通り、行列が正則であれば、`numpy.linalg.inv`で逆行列が求められ、そうでなければ特異行列である旨のエラーメッセージが表示されることを確認したが、実際の数値計算で、入力された行列が正則か特異かを判断するのには若干の問題がある。\n",
    "\n",
    "例えば、以下の行列の行列式を計算してみてほしい。\n",
    "\n",
    "$$\n",
    "\\begin{pmatrix}\n",
    "  1 & 2 & 3 \\\\\n",
    "  100 & 200 & 300 \\\\\n",
    "  10000 & 20000 & 30000\n",
    "\\end{pmatrix}\n",
    "$$\n",
    "\n",
    "説明するまでもなく、上記の行列のランクは1だから、行列式は0になるはずだが...各自で結果を確認してみてほしい。\n",
    "\n",
    "このように実際の数値計算では数学的には特異であるような行列が正則と判断されてしまうことなどがあり、実際の問題で逆行列を計算するときには、注意が必要である。多くの場合は、逆行列の代わりに疑似逆行列を用いることで上記の問題を回避できるが、その場合には疑似逆行列を用いて得られる解が、どのような性質を持つかに留意する必要がある。\n",
    "\n",
    "疑似逆行列を用いる、ということは行列が特異、すなわちランク落ちしている場合であるから、実際の線形方程式を満たす解は無数に存在することになる。疑似逆行列を用いて得られる解は、そのうち、ノルムの大きさ (より正確にはl2ノルムの大きさ)が最小になるものになるので、自身が求めたい解がその解で良いのかは、実際の問題を扱う上では重要だろう。"
   ]
  },
  {
   "cell_type": "markdown",
   "metadata": {},
   "source": [
    "### 線形方程式を解く"
   ]
  },
  {
   "cell_type": "markdown",
   "metadata": {},
   "source": [
    "先ほどの説明では、 $\\mathbf{Ax} = \\mathbf{b}$ という線形方程式に対して、逆行列を計算して解 $\\mathbf{x}$ を求める方法について述べた。\n",
    "\n",
    "一方で、この方法は数値計算の側面からは、常に最良のやり方であるとは言い難い。通常、行列のサイズが $N \\times N$ の時に、逆行列を求めるためのアルゴリズムには[Gaussの消去法](https://ja.wikipedia.org/wiki/%E3%82%AC%E3%82%A6%E3%82%B9%E3%81%AE%E6%B6%88%E5%8E%BB%E6%B3%95)などがあり、これらのアルゴリズムの計算量は $O(N^3)$ である。それに加え、逆行列をベクトル $\\mathbf{b}$ に乗ずる操作 (計算量は $O(N^2)$ ) が必要となる。\n",
    "\n",
    "一方で、同様にGaussの消去法を使うにしても、逆行列を求めるのではなく、線形方程式を直接解くように用いることもできる。この場合も計算量は変わらず $O(N^3)$ なのだが、この場合は、直接的に解となる $\\mathbf{x}$ が得られるため、逆行列をベクトル $\\mathbf{b}$ に乗ずる計算が不要な分、効率が良い。加えて、このような余計な行列計算を減らすことで、一般には浮動少数の計算による計算誤差を防ぐことができるため、より高精度に解が求められる。したがって、逆行列それ自体が不要であるならば、行列分解を用いて効率的に線形問題を解く`numpy.linalg.solve`を使う方がより適切である。"
   ]
  },
  {
   "cell_type": "code",
   "execution_count": 30,
   "metadata": {},
   "outputs": [
    {
     "name": "stdout",
     "output_type": "stream",
     "text": [
      "[-1.  1.]\n"
     ]
    }
   ],
   "source": [
    "A = np.array([[1, 2], [3, 4]])\n",
    "b = np.array([1, 1])\n",
    "x = np.linalg.solve(A, b)\n",
    "print(x)"
   ]
  },
  {
   "cell_type": "markdown",
   "metadata": {},
   "source": [
    "また、実用的には $\\mathbf{Ax} = \\mathbf{b}$ という線形方程式で、 $\\mathbf{A}$ は変わらないけれども $\\mathbf{b}$ が異なるような問題を繰り返し解きたい場合というのが多くある。このような場合`numpy.linalg.solve`は内部的には $O(N^3)$ の計算量をかけて行列を[LU分解](https://ja.wikipedia.org/wiki/LU%E5%88%86%E8%A7%A3)した後、分解によって得られた下三角行列と上三角行列に対して線形問題を解く。この際、三角行列を係数に持つ線形方程式を解くための計算量は $O(N^2)$ であることに注意してほしい。であるなら、何度も `numpy.linalg.solve`の内部で同じ行列をLU分解する (しかも、その計算量が $O(N^3)$ )のは非効率に感じられる。\n",
    "\n",
    "このような場合、一度LU分解を計算してしまって、三角行列に対する線形問題を解く、という方法が考えられる。残念ながら、この方法はNumPyには実装されていないが類似ライブラリであるSciPyを用いると、以下の形で実現できる。"
   ]
  },
  {
   "cell_type": "code",
   "execution_count": 31,
   "metadata": {},
   "outputs": [],
   "source": [
    "import scipy as sp\n",
    "import scipy.linalg"
   ]
  },
  {
   "cell_type": "code",
   "execution_count": 32,
   "metadata": {},
   "outputs": [],
   "source": [
    "A = np.array([[1, 2], [3, 4]])\n",
    "lu, piv = sp.linalg.lu_factor(A)"
   ]
  },
  {
   "cell_type": "code",
   "execution_count": 33,
   "metadata": {},
   "outputs": [
    {
     "name": "stdout",
     "output_type": "stream",
     "text": [
      "[-1.  1.]\n"
     ]
    }
   ],
   "source": [
    "b1 = np.array([1, 1])\n",
    "x1 = sp.linalg.lu_solve((lu, piv), b1)\n",
    "print(x1)"
   ]
  },
  {
   "cell_type": "code",
   "execution_count": 34,
   "metadata": {},
   "outputs": [
    {
     "name": "stdout",
     "output_type": "stream",
     "text": [
      "[-2.  2.]\n"
     ]
    }
   ],
   "source": [
    "b2 = np.array([2, 2])\n",
    "x2 = sp.linalg.lu_solve((lu, piv), b2)\n",
    "print(x2)"
   ]
  },
  {
   "cell_type": "markdown",
   "metadata": {},
   "source": [
    "なお、上記のコードで`scipy.linalg.lu_factor`には2つの戻り値`lu`と、`piv`が帰ってくるが、通常、LU分解を上手く計算すると、上三角行列と下三角行列のうちのどちらかは対角成分が全て1になるようにできるので、その1となる対角成分を省略して1つの行列にまとめたものが`lu`である。\n",
    "\n",
    "一方、`piv`はガウスの消去法などを用いて行列分解を行う際に、数値計算の誤差を減らすために行列の行や列の順序を入れ替える操作をすることがあるのだが、入れ替え前後の行、列の対応を表わす行列が`piv`である。このあたりの説明は数値計算の初等的な教科書にも書かれている内容なので、各自、教科書を読むなどして勉強してみてほしい。"
   ]
  },
  {
   "cell_type": "markdown",
   "metadata": {},
   "source": [
    "**閑話休題: 線形方程式の解法における直接法と反復法**"
   ]
  },
  {
   "cell_type": "markdown",
   "metadata": {},
   "source": [
    "先ほど紹介した`numpy.linalg.solve`はLU分解を用いて線形問題を解いていると説明した。このように行列分解などを用いて、線形問題の解を行列のサイズのみに依存する計算量で得るような解法を**直接法**と呼ぶ。直接法にはLU分解を用いる方法の他、[QR分解](https://ja.wikipedia.org/wiki/QR%E5%88%86%E8%A7%A3)など、別の行列分解を用いる方法がある。\n",
    "\n",
    "一方、ここでは紹介しなかったが、線形問題の両辺に特定の線形代数的操作を施すことで、適当な $\\mathbf{x}$ の初期値を徐々に線形問題の解に反復計算によって近づける方法を**反復法**と呼ぶ。反復法の中で最も単純なものは[Jacobi法](https://ja.wikipedia.org/wiki/%E3%83%A4%E3%82%B3%E3%83%93%E6%B3%95)がある (Jacobi法には固有値を求める手法などもありややこしい...)。Jacobi法は係数行列 $\\mathbf{A}$ の対角成分だけを取りだした対角行列 $\\mathbf{D}$を用いて、 $k$ 回反復時に得られている $\\mathbf{x}^k$ を次の式で $\\mathbf{x}^{k+1}$ に更新する。\n",
    "\n",
    "$$\n",
    "\\mathbf{x}^{k+1} = \\mathbf{D}^{-1} \\left( \\mathbf{b} - (\\mathbf{A} - \\mathbf{D}) \\mathbf{x}^k \\right)\n",
    "$$\n",
    "\n",
    "これ以外にも、Jacobi法を改良したGauss-Seidel法やSOR法がある他、実用的には[共役勾配法](https://ja.wikipedia.org/wiki/%E5%85%B1%E5%BD%B9%E5%8B%BE%E9%85%8D%E6%B3%95) (CG法)と呼ばれる、より収束の早いアルゴリズムが用いられる。最も一般的な共役勾配法は対称正定値行列 (正定値 = 全ての固有値が0より大きい)にしか用いることができないが、これを非対称行列に拡張した双共役勾配法 (BiCG法)など、多くの発展的な手法が存在する。"
   ]
  },
  {
   "cell_type": "markdown",
   "metadata": {},
   "source": [
    "### 行列の固有値・固有ベクトル"
   ]
  },
  {
   "cell_type": "markdown",
   "metadata": {},
   "source": [
    "行列の固有値および固有ベクトルは、[主成分分析](https://ja.wikipedia.org/wiki/%E4%B8%BB%E6%88%90%E5%88%86%E5%88%86%E6%9E%90)のような多次元データの分析の他、様々なデータの性質を分析する上で欠かせない情報である。\n",
    "\n",
    "NumPyで行列の固有値ならびに固有ベクトルを求めるには`numpy.linalg.eig`を用いれば良い。"
   ]
  },
  {
   "cell_type": "code",
   "execution_count": 35,
   "metadata": {},
   "outputs": [
    {
     "name": "stdout",
     "output_type": "stream",
     "text": [
      "[ 3. -1.]\n",
      "[[ 0.70710678 -0.70710678]\n",
      " [ 0.70710678  0.70710678]]\n"
     ]
    }
   ],
   "source": [
    "A = np.array([[1, 2], [2, 1]], dtype='double')\n",
    "eigval, eigvec = np.linalg.eig(A)\n",
    "print(eigval)\n",
    "print(eigvec)"
   ]
  },
  {
   "cell_type": "markdown",
   "metadata": {},
   "source": [
    "なお、通常、固有値に加えて、固有ベクトルを求めるには追加の計算が必要になるため、固有値だけが必要になる場合には、より高速に動作する関数として`numpy.linalg.eigvals`を使うのが良い。\n",
    "\n",
    "また、上記の例では、あえて実数が固有値、固有ベクトルとなるように実対称行列の固有値・固有ベクトルを求めたが、通常、対称行列、ないしHermite行列の固有値・固有ベクトルの計算は非対称、ないし非Hermite行列の固有値よりも計算が簡単である。そのため、固有値の計算を行いたい対称が対称行列やHermite行列であることが分かっている場合には`numpy.linalg.eigh`や`numpy.linalg.eigvalsh`のように末尾に\"h\"のついている関数を使うと、より効率的である (とは言っても、効果を実感できるのは少なくとも1000x1000程度の行列からだろう)。"
   ]
  },
  {
   "cell_type": "markdown",
   "metadata": {},
   "source": [
    "**閑話休題: 固有値を求めるアルゴリズム**"
   ]
  },
  {
   "cell_type": "markdown",
   "metadata": {},
   "source": [
    "固有値を求めるという問題は、実用的に非常に広い応用を持つため、固有値を求める対象の行列の性質 (対称行列か、密行列か、疎行列かetc.)に応じて、様々なアルゴリズムが提案されている。ここでは、比較的単純なアルゴリズムとしてJacobi法 (先ほどの線形問題を解く方法とは異なる)とQR法について紹介する。\n",
    "\n",
    "**Jacobi法**は**対称行列**に対するアルゴリズムで、Givens回転と呼ばれる行列の一部要素だけを変換するような下記の行列 $\\mathbf{G}$ を用いる (値の入っていない箇所の要素は全て0)。\n",
    "\n",
    "$$\n",
    "\\mathbf{G} = \\begin{pmatrix}\n",
    "  1 &        &             &        &              &        &   \\\\\n",
    "    & \\ddots &             &        &              &        &   \\\\\n",
    "    &        & \\cos \\theta & \\cdots & -\\sin \\theta &        &   \\\\\n",
    "    &        & \\vdots      & \\ddots & \\vdots       &        &   \\\\\n",
    "    &        & \\sin \\theta & \\cdots &  \\cos \\theta &        &   \\\\\n",
    "    &        &             &        &              & \\ddots &   \\\\\n",
    "    &        &             &        &              &        & 1 \\\\\n",
    "\\end{pmatrix}\n",
    "$$\n",
    "\n",
    "このとき、固有値を求めたい行列 $\\mathbf{A}$ の $i$ 行 $j$ 列の要素を $a_{ij}$ と記すことにすると、上記のGivens回転の回転量 $\\theta$ を\n",
    "\n",
    "$$\n",
    "\\tan 2\\theta = \\frac{-2a_{ij}}{a_{ii} - a_{jj}}\n",
    "$$\n",
    "\n",
    "となるように設定すると、\n",
    "\n",
    "$$\n",
    "\\mathbf{A}' = \\mathbf{G} \\mathbf{A} \\mathbf{G}^\\top\n",
    "$$\n",
    "\n",
    "という変換を施すことで、 $a_{ij} = a_{ji}$ の要素を0にすることができる。この操作を行列 $\\mathbf{A}$ の非対角成分のうち最も絶対値が大きい物が十分小さくなるまで繰り返すことで、固有値を対角行列とする行列 $\\pmb{\\Lambda}$ へと $\\mathbf{A}$ を変換することができる。\n",
    "\n",
    "また、Givens回転行列は直交行列であるため、元の行列 $\\mathbf{A}$ を $\\pmb{\\Lambda}$ に変換する過程で用いた全てのGivens回転の積として得られる行列の各列が固有ベクトルとなる。\n",
    "\n",
    "**QR法**はQR分解を用いて一般的な行列 (= 非対称行列でもよい)の固有値・固有ベクトルを求めるアルゴリズムで、対象の行列 $\\mathbf{A}$ が、QR分解によって $\\mathbf{A} = \\mathbf{QR}$ (ただし、Qは直交行列、Rは上三角行列)と分解されるとすると、\n",
    "\n",
    "$$\n",
    "\\mathbf{A}' = \\mathbf{Q}^\\top \\mathbf{A} \\mathbf{Q} = \\mathbf{Q}^\\top \\mathbf{Q} \\mathbf{RQ} = \\mathbf{RQ}\n",
    "$$\n",
    "\n",
    "のように行列 $\\mathbf{Q}$ と $\\mathbf{R}$の順序を入れ替えるような操作を繰り返すと、 $\\mathbf{A}$ が徐々に固有値を対角成分に持つような対角行列 $\\pmb{\\Lambda}$ に近づいていく。この際、QR分解の性質から行列 $\\mathbf{Q}$ は直交行列であるから、上記の変換の過程で得られる全ての直交行列 $\\mathbf{Q}$ の積を取ることで、固有ベクトルを各列に持つような直交行列を得ることができる。"
   ]
  },
  {
   "cell_type": "markdown",
   "metadata": {},
   "source": [
    "## 練習問題"
   ]
  },
  {
   "cell_type": "markdown",
   "metadata": {},
   "source": [
    "1. 今回の講義で紹介したサンプルコードを踏まえて、正則行列に対する逆行列と、特異行列に対する疑似逆行列の違いと共通点について述べよ。\n",
    "1. 逆行列を`numpy.linalg.inv`によって求めることで線形問題を解く方法と、`numpy.linalg.solve`を用いてLU分解により解を求める方法で計算精度がどの程度変化するかを確かめてみよ。なお、より結果を分かりやすくするために`numpy.random.random`を用いて100x100および100x1程度の大きめのサイズで $\\mathbf{A}$, $\\mathbf{b}$ を作成し、精度については $\\| \\mathbf{A} \\mathbf{x} - \\mathbf{b} \\|^2$ の大きさを使って調べれば良い。\n",
    "1. 前述のヤコビ法により、正しく線形問題が解ける(= `numpy.linalg.solve`と解が一致)ことを調べよ。なお、ヤコビ法は優対角行列と呼ばれる対角成分が、各列の対角成分以外の成分の総和より大きい行列にしか用いることができないので、そのような行列を各自適当に設定すること。\n",
    "1. NumPyには多項方程式を解くための関数として`numpy.roots`という関数が用意されている ([参考](https://numpy.org/doc/stable/reference/generated/numpy.roots.html)、特性方程式の係数は手計算で求めること)。この関数を用いて、以下の行列について、特性方程式を解くことで得られる固有値と、`numpy.linalg.eig`を解くことで得られる固有値が一致することを調べよ。\n",
    "\n",
    "$$\n",
    "\\mathbf{A} = \\begin{pmatrix}\n",
    "  1 & 2 & 3 \\\\\n",
    "  2 & 2 & 3 \\\\\n",
    "  3 & 3 & 3\n",
    "\\end{pmatrix}\n",
    "$$\n",
    "\n",
    "5. 上記の3x3行列 $\\mathbf{A}$ に対してJacobi法ならびにQR法を用いて正しく固有値が求まる (= `numpy.linalg.eig`と同じ結果が得られる)ことを確かめよ。 "
   ]
  },
  {
   "cell_type": "code",
   "execution_count": null,
   "metadata": {},
   "outputs": [],
   "source": []
  }
 ],
 "metadata": {
  "kernelspec": {
   "display_name": "Python 3 (ipykernel)",
   "language": "python",
   "name": "python3"
  },
  "language_info": {
   "codemirror_mode": {
    "name": "ipython",
    "version": 3
   },
   "file_extension": ".py",
   "mimetype": "text/x-python",
   "name": "python",
   "nbconvert_exporter": "python",
   "pygments_lexer": "ipython3",
   "version": "3.8.11"
  }
 },
 "nbformat": 4,
 "nbformat_minor": 4
}

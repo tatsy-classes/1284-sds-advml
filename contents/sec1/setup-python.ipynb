{
 "cells": [
  {
   "attachments": {},
   "cell_type": "markdown",
   "metadata": {
    "editable": true,
    "slideshow": {
     "slide_type": ""
    },
    "tags": []
   },
   "source": [
    "(sec:setup-python)=\n",
    "# Python環境の設定"
   ]
  },
  {
   "attachments": {},
   "cell_type": "markdown",
   "metadata": {},
   "source": [
    "Pythonのプログラミング環境を整えるには、いくつかの方法があり、一口にどれが正解とは言いづらい。最も単純な方法はPythonをインタプリタを直接OSにインストールする方法になる。\n",
    "\n",
    "この場合は、Pythonの公式ページからインストーラをダウンロードしてきて、インストーラの指示に従ってインストールを実行すれば良い (**だが、インストールは少し待ってほしい**)。\n",
    "\n",
    "**Pythonの公式ページ (英語):** <https://www.python.org/>\n",
    "\n",
    "また、MacやLinux (UbuntuやCentOS)等を使っていれば、特に上記のウェブページからインストールをしなくても、ターミナル環境から\n",
    "\n",
    "```shell\n",
    "python\n",
    "```\n",
    "\n",
    "と入力をすることで、Pythonのインタプリタが立ち上がる。すると、ターミナル上に、\n",
    "\n",
    "```shell\n",
    ">>>\n",
    "```\n",
    "のような、入力受付の記号が現れる。"
   ]
  },
  {
   "attachments": {},
   "cell_type": "markdown",
   "metadata": {},
   "source": [
    "## 仮想開発環境とパッケージ管理"
   ]
  },
  {
   "cell_type": "markdown",
   "metadata": {},
   "source": [
    "Pythonを少し使うだけなら、OSに直接インストールするのが一番簡単である。ただ、Python (に限らず他のプログラミング言語でも)には、いくつかのバージョン(例えば、Python 3.6, 3.10)があり、**バージョンによって使えるライブラリが異なる**ことがある。\n",
    "\n",
    "そんな時、Pythonの実行環境をOSに直接作ってしまうと、あるプロジェクトAで使うライブラリはPython 3.6で使えていたのに、別のプロジェクトBではPython 3.10でないと動かないライブラリを使いたい、というような状況が発生する。そんな時、**Python 3.6が使える環境と、Python 3.10が使える環境を別々に用意することができれば便利**だろう。\n",
    "\n",
    "このように一つのOS上で、複数の異なるバーションのPython(や他のプログラミング言語)を備えた開発環境を管理する仕組みを**仮想開発環境**と呼ぶ。Python用の仮想開発環境を作るソフトウェアは複数あり、代表的な物には、\n",
    "\n",
    "- virtualenv: <https://virtualenv.pypa.io/en/latest/>\n",
    "- Anaconda (Miniconda): <https://www.anaconda.com/products/distribution>\n",
    "- Pipenv: <https://pipenv.pypa.io/en/latest/>\n",
    "- Poetry: <https://python-poetry.org/>\n",
    "\n",
    "等がある。余談だが、この講義資料の管理には[Poetry](https://python-poetry.org/)を利用している。"
   ]
  },
  {
   "cell_type": "markdown",
   "metadata": {},
   "source": [
    "ここで注意しないといけないのは、上記の4つの中でvirtualenvは複数の異なる**Pythonのバージョンを管理するための仕組み**であるのに対して、Anaconda, Pipenv, Poetryは仮想開発環境の管理とは別に**パッケージ管理ツール**としての役割も持っている。\n",
    "\n",
    "仮想開発環境とは別に、Python向けのパッケージ管理ツールとしては**Pip**があるが、上記の4つの中ではPipenvとPoetryはvirtualenvによる仮想開発環境の管理とPipによるパッケージ管理を同時に行うソフトウェアである。\n",
    "\n",
    "本書では、多くの研究プロジェクトで使われており、またPyTorchやTensorFlowといった深層学習用のライブラリの導入を管理しやすいという理由から **Anaconda (Miniconda)** を用いる。"
   ]
  },
  {
   "attachments": {},
   "cell_type": "markdown",
   "metadata": {},
   "source": [
    "## AnacondaとMiniconda"
   ]
  },
  {
   "attachments": {},
   "cell_type": "markdown",
   "metadata": {},
   "source": [
    "Anacondaは前述の通り、仮想環境とパッケージの管理を行うソフトウェアだが、類似したソフトウェアに[Miniconda](https://docs.conda.io/en/latest/miniconda.html)がある。\n",
    "\n",
    "**Anaconda**はPythonのインタプリタの他に、科学技術計算等に一般的に用いられるNumPyをはじめとする大量のライブラリを一緒にインストールしてくれるという点で、**自分で必要なライブラリをチェックしなくても、大体のプロジェクトにおいて使える**という点では優れている。\n",
    "\n",
    "その一方で、Anacondaの仮想環境を一つ用意すると、それなりに**ストレージ (HDDやSSDのこと)の容量を圧迫**するため、自分で必要なライブラリのチェックができるようになってしまえば、Minicondaの方が使い勝手が良い。MinicondaはPython\n",
    "のインタプリタさえインストールしないことも可能 (だが、そういう使い方をすることは希)で、必要なライブラリと、そのライブラリと依存関係を持つライブラリだけを最小設定でインストールするため、ストレージの無駄遣いが防げる。\n",
    "\n",
    "特に、受講者は自分のノートPCで作業をしていることを想定すると、ストレージの容量はそれほど多くないだろうから、Minicondaの方が、その点からも好ましい。"
   ]
  },
  {
   "attachments": {},
   "cell_type": "markdown",
   "metadata": {},
   "source": [
    "### Minicondaの導入"
   ]
  },
  {
   "cell_type": "markdown",
   "metadata": {},
   "source": [
    "Minicondaを導入するには<https://docs.conda.io/en/latest/miniconda.html>にアクセスし、自分のOSにあったインストーラをダウンロードしてくる。"
   ]
  },
  {
   "cell_type": "markdown",
   "metadata": {},
   "source": [
    "インストーラの選択だが、よほど古いPCを使っていない限り、Windowsなら「Windows 64-bit」を選択すれば良い。macOSの場合は、最近のM1/M2 Macを使っている場合は「macOS Apple M1 64bit bash」を選び、そうでない場合には「macOS Intel x86 64-bit bash」。Linuxの場合には、通常のデスクトップPCであれば「Linux 64-bit」を選べば良い。"
   ]
  },
  {
   "cell_type": "markdown",
   "metadata": {},
   "source": [
    "```{image} ./imgs/miniconda_versions.jpg\n",
    ":width: 75%\n",
    ":align: center\n",
    "```"
   ]
  },
  {
   "cell_type": "markdown",
   "metadata": {},
   "source": [
    "#### Windowsの設定"
   ]
  },
  {
   "cell_type": "markdown",
   "metadata": {},
   "source": [
    "**Windows**であれば、インストーラの指示に従っていくとダウンロードが完了する。途中、以下の画面になったら、**二番目の「Add Miniconda3 to my PATH environment variable」という項目にチェックを入れる**こと。この項目にチェックを入れると、コマンドプロンプトやPowerShellから`conda`コマンドが使えるようになる。\n",
    "\n",
    "```{image} ./imgs/windows_add_to_path.jpg\n",
    ":width: 75%\n",
    ":align: center\n",
    "```\n",
    "\n",
    "インストールが完了したら、コマンドプロンプトないしPowerShellを起動し、以下のコマンドを実行する。\n",
    "\n",
    "```shell\n",
    "conda init powershell\n",
    "```\n",
    "\n",
    "すると、`conda`コマンドの各シェルソフトでの利用が可能になる。時折、最初の設定時に`conda`がコマンドとして認識されていない場合があるが、その場合は `$HOME/miniconda3/Scritps/conda`などの絶対パスを指定して実行する。"
   ]
  },
  {
   "cell_type": "markdown",
   "metadata": {},
   "source": [
    "#### Mac/Linuxの設定"
   ]
  },
  {
   "cell_type": "markdown",
   "metadata": {},
   "source": [
    "**Mac**や**Linux**であればターミナル環境を立ち上げた後、インストールしてきた`*.sh`ファイルをBashで実行する。\n",
    "\n",
    "```shell\n",
    "# インストーラのパスは適宜読み替えること\n",
    "bash ~/Downloads/Miconda3-xxxx-xxxxx.sh\n",
    "```\n",
    "\n",
    "インストール中、いくつかの質問がなされるが、特別な設定をしたい場合を除き、初期設定のままで問題ない。インストールが完了したら、自分が使っているシェルソフトウェアに合わせて、\n",
    "\n",
    "```shell\n",
    "# Bashを使っている場合\n",
    "conda init bash\n",
    "# Zshを使っている場合\n",
    "conda init zsh\n",
    "```\n",
    "\n",
    "等を実行する。なお、自分が使っているシェルソフトが分からない場合には、\n",
    "\n",
    "```shell\n",
    "echo $SHELL\n",
    "```\n",
    "\n",
    "とすると、何を使っているかを調べることができる (特に設定を変えていなければBashのはず)。"
   ]
  },
  {
   "cell_type": "markdown",
   "metadata": {},
   "source": [
    "```{admonition} シェル設定のすすめ\n",
    ":class: note\n",
    "\n",
    "自分でプログラムを書いて実行する場合など、シェルを使うと便利な場合が多い。一方で、シェルを便利に使いこなすには、各自で設定をする必要があり、初学者にはハードルが高いのも事実である。\n",
    "\n",
    "Windowsを使っている場合には、オープンソースの[PowerShell](https://github.com/PowerShell/PowerShell)を使うと[Oh My Posh](https://ohmyposh.dev/)というソフトを使うことで比較的簡単に設定ができる。\n",
    "\n",
    "MacやLinuxの場合には、BashやZshに対して`.bashrc`や`.zshrc`といった設定ファイルを書けば良いが、手っ取り早く初期設定がなされたシェルを使いたいのなら[Fish](https://fishshell.com/)がおすすめだ。Fishはインストールした段階で、コマンドの補間等の最低限の機能が揃っているため、設定の敷居が低い。こちらも[Oh My Fish](https://github.com/oh-my-fish/oh-my-fish)というソフトウェアを使うことで、もう少し気の利いた設定ができる。\n",
    "\n",
    "シェルの使いやすさは開発効率にも直結するので、ぜひ上記の設定にもトライしてみてほしい。\n",
    "```"
   ]
  },
  {
   "attachments": {},
   "cell_type": "markdown",
   "metadata": {},
   "source": [
    "### パッケージのインストール・アンインストール"
   ]
  },
  {
   "cell_type": "markdown",
   "metadata": {},
   "source": [
    "Minicondaをインストールすると、最初から`base`という名前の仮想環境が用意されている。試しに、この環境にNumPyをインストールしてみよう。パッケージのインストールには`conda install`コマンドを用いる。\n",
    "\n",
    "```shell\n",
    "conda install numpy\n",
    "````\n",
    "\n",
    "すると、Minicondaがインストール済みのパッケージと、新しくインストールするパッケージの依存関係をチェックした後に、インストールをして良いかどうかを聞いてくるので「y」を入力してインストールを実行する。\n",
    "\n",
    "インストールが完了したら\n",
    "```shell\n",
    "python\n",
    "```\n",
    "でPythonのインタプリタを起動して、\n",
    "```python\n",
    "import numpy\n",
    "```\n",
    "としたときにエラーが起こらないことを確認する。また、現在インストールされているパッケージのリストは\n",
    "```shell\n",
    "conda list\n",
    "```\n",
    "とすることで確認することができる。このリストの中にNumPyが含まれていることも確認しておこう。\n",
    "\n",
    "予め、パッケージが存在するかどうかを確認したい場合には`conda search`を使って\n",
    "```\n",
    "conda search numpy\n",
    "```\n",
    "のようにすれば良い。\n",
    "\n",
    "また、Minicondaには**チャネル**という仕組みが用意されており、公式にインストールできるパッケージの他に、有志のユーザが作成したリポジトリからパッケージをインストールすることができる。例えばPyTorchをインストールするためには、`pytorch`という名前のチャネルを指定して、\n",
    "\n",
    "```shell\n",
    "conda install -c pytorch pytorch\n",
    "```\n",
    "\n",
    "のようにすれば良い。\n",
    "\n",
    "よく用いられるチャネルには[conda-forge](https://conda-forge.org/)があり、ここには、公式には用意されていない多くのパッケージが登録されている。単なる`conda install`で見つからないときには、conda-forgeから探してみると見つかることが多い。\n",
    "\n",
    "反対に、インストール済みのパッケージをアンインストールしたい場合には`conda uninstall`コマンドを用いる。試しに、今インストールしたNumPyをアンインストールしてみる。\n",
    "```shell\n",
    "conda uninstall numpy\n",
    "```\n",
    "アンインストールが完了すると `import numpy` がエラーになり、`conda list`で表示されるリストからNumPyが消えるので確認してみてほしい。"
   ]
  },
  {
   "cell_type": "markdown",
   "metadata": {},
   "source": [
    "```{admonition} conda-forge利用時の注意\n",
    ":class: warning\n",
    "\n",
    "conda-forgeは大半のパッケージが見つかるという意味で大変便利なのだが、仮想環境の構築時に依存関係を解決するのにかかる時間が大幅に増大する。従って、特別 conda-forgeにしかないパッケージを入れる、という目的以外では、なるべくconda-forgeを使うことは避け、別途Pipなどを用いてパッケージをインストールする方が良い。\n",
    "```"
   ]
  },
  {
   "cell_type": "markdown",
   "metadata": {},
   "source": [
    "### 仮想環境の作成・削除"
   ]
  },
  {
   "cell_type": "markdown",
   "metadata": {},
   "source": [
    "Minicondaで新しく仮想環境を構築するには`conda create`コマンドを用いる。仮想環境の名前を「advml」のようにする場合には、以下のようにコマンドを実行する。\n",
    "\n",
    "```shell\n",
    "conda create -n advml\n",
    "```\n",
    "\n",
    "このように実行した場合には、Minicondaインストール時の`base`のPythonと同じバージョンのPythonインタプリタがインストールされる。インタプリタのバージョンを指定したい場合には\n",
    "\n",
    "```shell\n",
    "conda create -n advml python=3.9\n",
    "```\n",
    "\n",
    "のようにバージョンを指定することもできる。また、予めインストールするパッケージの一部が決まっている場合には、\n",
    "\n",
    "```shell\n",
    "conda create -n advml python=3.9 numpy matplotlib\n",
    "```\n",
    "\n",
    "のようにパッケージを指定することもできる。\n",
    "\n",
    "このようにして仮想環境が作成できたら`conda env list`で仮想環境のリストが確認できるので、そこに`advml`が含まれていることを確認しよう。\n",
    "\n",
    "また、すでにある仮想環境を削除したい場合には\n",
    "\n",
    "```shell\n",
    "conda env remove -n advml\n",
    "```\n",
    "\n",
    "を実行すれば良い。"
   ]
  },
  {
   "cell_type": "markdown",
   "metadata": {},
   "source": [
    "### 仮想環境の切り替え"
   ]
  },
  {
   "cell_type": "markdown",
   "metadata": {},
   "source": [
    "一度環境が構築できたら、\n",
    "\n",
    "```shell\n",
    "conda activate advml\n",
    "```\n",
    "\n",
    "とすることで、仮想環境が切り替わる。また、元の環境(`base`環境やOSに直接インストールされたPython)に戻りたい場合には\n",
    "\n",
    "```shell\n",
    "conda deactivate\n",
    "```\n",
    "\n",
    "を実行すれば良い。"
   ]
  },
  {
   "cell_type": "markdown",
   "metadata": {},
   "source": [
    "### environment.yamlの利用"
   ]
  },
  {
   "cell_type": "markdown",
   "metadata": {},
   "source": [
    "仮想環境を作る際、逐一、必要なパッケージを指定してインストールすると、別のPCに同じ環境を構築したいときに不便である。こんな時、Minicondaでは`environment.yaml`というファイルを利用して、仮想環境の設定をファイルを通じて行うことができる。\n",
    "\n",
    "一例として、\n",
    "\n",
    "- 名前: advml\n",
    "- 必要なパッケージ:\n",
    "    - NumPy\n",
    "    - Matplotlib\n",
    "\n",
    "といった設定には、以下のようなYAMLファイルを作成すれば良い。\n",
    "\n",
    "```yaml\n",
    "name: advml\n",
    "dependencies:\n",
    "    - numpy\n",
    "    - matplotlib\n",
    "```"
   ]
  },
  {
   "cell_type": "markdown",
   "metadata": {},
   "source": [
    "`environment.yaml`から仮想環境を作成するには`conda env create` (`env`が入ることに注意)に、以下のようにYAMLファイルを指定すれば良い。 \n",
    "\n",
    "```shell\n",
    "conda env create -f environment.yaml\n",
    "```"
   ]
  },
  {
   "cell_type": "markdown",
   "metadata": {},
   "source": [
    "また `environment.yaml`に予め用意されている名前を上書きする形で、\n",
    "```shell\n",
    "conda env create -n myadvml -f environment.yaml\n",
    "```\n",
    "とすることもできる。"
   ]
  },
  {
   "cell_type": "markdown",
   "metadata": {},
   "source": [
    "environment.yamlを使用する際、公式のパッケージが見つからない時には、チャネルを指定することもできる。この場合には、ファイルを以下のように書き換える。\n",
    "\n",
    "```yaml\n",
    "name: advml\n",
    "channels:\n",
    "    - pytorch\n",
    "dependencies:\n",
    "    - numpy\n",
    "    - matplotlib\n",
    "    - pytorch\n",
    "```"
   ]
  },
  {
   "cell_type": "markdown",
   "metadata": {},
   "source": [
    "加えて、Minicondaのパッケージとは別にPipを用いてパッケージをインストールすることもでき、そのためには以下のように`- pip`セクションを追加する。\n",
    "\n",
    "```yaml\n",
    "name: advml\n",
    "channels:\n",
    "    - pytorch\n",
    "dependencies:\n",
    "    - numpy\n",
    "    - matplotlib\n",
    "    - pytorch\n",
    "    - pip\n",
    "    - pip:\n",
    "        - jupyterlab\n",
    "```"
   ]
  },
  {
   "cell_type": "markdown",
   "metadata": {},
   "source": [
    "なお、本講義で用いるパッケージを列挙した[environment.yaml](https://github.com/tatsy/1284-sds-ml-advanced/blob/master/environment.yaml)は、講義のGitHubからダウンロードできるので、こちらを利用すると良い。\n",
    "\n",
    "<https://github.com/tatsy/1284-sds-ml-advanced/blob/master/environment.yaml>"
   ]
  },
  {
   "cell_type": "markdown",
   "metadata": {},
   "source": [
    "## Pythonの実行"
   ]
  },
  {
   "cell_type": "markdown",
   "metadata": {},
   "source": [
    "ここまでで、Pythonを利用する準備が整ったので、早速ターミナル環境からPythonを使ってみる。WindowsならPowerShell、MacやLinuXならターミナル等を立ち上げて、`python`とコマンドを打つ。\n",
    "\n",
    "すると、Pythonのバージョン等の情報が表示されたあとで、Pythonインタプリタのコマンドの受け付けを表わす、\n",
    "\n",
    "```shell\n",
    ">>>\n",
    "```\n",
    "\n",
    "が画面に現れる。試しに、以下のコマンドを打って、簡易的な電卓として使えることを確認しよう。"
   ]
  },
  {
   "cell_type": "code",
   "execution_count": 1,
   "metadata": {},
   "outputs": [
    {
     "name": "stdout",
     "output_type": "stream",
     "text": [
      "3\n"
     ]
    }
   ],
   "source": [
    "# 例1: 足し算\n",
    "a = 1\n",
    "b = 2\n",
    "print(a + b)"
   ]
  },
  {
   "cell_type": "code",
   "execution_count": 2,
   "metadata": {},
   "outputs": [
    {
     "name": "stdout",
     "output_type": "stream",
     "text": [
      "1.4142135623730951\n"
     ]
    }
   ],
   "source": [
    "# 例2: 平方根\n",
    "import math\n",
    "\n",
    "print(math.sqrt(2.0))"
   ]
  },
  {
   "cell_type": "code",
   "execution_count": 3,
   "metadata": {},
   "outputs": [
    {
     "name": "stdout",
     "output_type": "stream",
     "text": [
      "hello, world!\n",
      "HELLO, WORLD!\n"
     ]
    }
   ],
   "source": [
    "# 例3: 文字列の処理\n",
    "s = \"Hello, world!\"\n",
    "print(s.lower())  # 小文字に変更\n",
    "print(s.upper())  # 大文字に変更"
   ]
  },
  {
   "cell_type": "code",
   "execution_count": 1,
   "metadata": {},
   "outputs": [
    {
     "name": "stdout",
     "output_type": "stream",
     "text": [
      "10\n"
     ]
    }
   ],
   "source": [
    "# 例4: 配列の和を求める\n",
    "a = [1, 2, 3, 4]\n",
    "print(sum(a))"
   ]
  },
  {
   "cell_type": "code",
   "execution_count": 9,
   "metadata": {},
   "outputs": [
    {
     "name": "stdout",
     "output_type": "stream",
     "text": [
      "x is 10\n",
      "x is 10\n",
      "x is 10\n",
      "x = 10\n"
     ]
    }
   ],
   "source": [
    "# 例5: 文字列のフォーマット\n",
    "x = 10\n",
    "print(\"x is %d\" % (x))  # C言語風\n",
    "print(\"x is {:d}\".format(10))  # format関数を使う\n",
    "print(f\"x is {x:d}\")  # フォーマット済み文字列リテラル (Python 3.6以降)\n",
    "print(f\"{x = :d}\")  # 評価元の文字列も表示 (Python 3.8以降)"
   ]
  },
  {
   "cell_type": "markdown",
   "metadata": {},
   "source": [
    "このように、Pythonのインタプリタ上では簡単な電卓のような機能を使うことができる。多少の使いづらさはあるものの、通常のプログラミング言語にある**if文**や**for文**なども実行できる。"
   ]
  },
  {
   "attachments": {},
   "cell_type": "markdown",
   "metadata": {},
   "source": [
    "```{admonition} コンパイラとインタプリタ\n",
    ":class: note\n",
    "\n",
    "情報科学を体系的に勉強したことがあれば、それほど戸惑わないかもしれないが、ここではインタプリタとコンパイラの違いについて、少し述べておく。\n",
    "\n",
    "**コンパイラ**というのは人間が理解できるプログラムのソースコードを機械語に翻訳して、コンピュータ上で実行できるようにするためのソフトウェアを指す。例えばC言語であれば、GNU GCCやLLVM Clangなどのコンパイラを用いて、ソースコードを機械語に翻訳する。C言語以外にも、JavaやC#, Go, Rustなどの言語がコンパイラを用いる言語で、これらの言語は一度機械語に翻訳してしまえば、コンピュータが機械語の内容を読み取って次々に処理を実行していくので、一般的に言って計算速度が速い、という特徴がある。\n",
    "\n",
    "**インタプリタ**は、プログラムのソースコードを1行ずつ読み取って、機械語に変換する。こうすることで、ソースコードを完璧に作り込んでから実行する、という使用法に加え、プログラマがコードを入力しては結果を確認するというインタラクティブな使用が可能となり、簡単なプロトタイプのプログラムを作りたい場合などには、こちらの方が好まれることが多い。最近は、インタプリタを用いる言語 (Pythonの他、RubyやJavaScript)なども、様々な工夫によって実行速度が改善してきてはいるが、それでも、コンパイラを用いる言語と比べて、実行速度は劣る。\n",
    "\n",
    "それぞれの特徴を理解した上で使い分けることが重要だ。\n",
    "```"
   ]
  },
  {
   "cell_type": "markdown",
   "metadata": {},
   "source": [
    "## Jupyter Labの利用"
   ]
  },
  {
   "cell_type": "markdown",
   "metadata": {},
   "source": [
    "Jupyterとは、ウェブブラウザ上でインタラクティブにPythonを実行するための開発環境である。Jupyterには以前からある**Jupyter Notebook**の他に、より新しい**Jupyter Lab**があり、後者の方が機能が充実している。\n",
    "\n",
    "どちらも起動するには、ターミナルから起動コマンドを呼び出す。\n",
    "```shell\n",
    "# Jupyter Notebookの場合\n",
    "jupyter notebook\n",
    "# Jupyter Labの場合\n",
    "jupyter lab\n",
    "```\n",
    "\n",
    "本資料では、利便性の関係からJupyter Labを使うことをおすすめする。Jupyter Labを立ち上げると、以下のような画面が表示される。\n",
    "\n",
    "```{image} ./imgs/jupyterlab.jpg\n",
    ":align: center\n",
    ":width: 80%\n",
    "```"
   ]
  },
  {
   "cell_type": "markdown",
   "metadata": {
    "editable": true,
    "slideshow": {
     "slide_type": ""
    },
    "tags": []
   },
   "source": [
    "ここで、画面左上の「＋」ボタンを押すか、既存の`*.ipynb`ファイルを左側にあるファイルエクスプローラからダブルクリックすると、コードの入力画面に切り替わる。\n",
    "\n",
    "```{image} ./imgs/jupyter_notebook.jpg\n",
    ":align: center\n",
    ":width: 90%\n",
    "```\n",
    "\n",
    "Jupyter環境では、標準でPythonとMarkdownが使えるほか、環境設定を行うことで**R言語**等も使うことができる(余談だが、JupyterとはJulia, Python, Rから来ている造語)。ここでは環境設定の方法は特に紹介しないが、興味のある読者は各自調べて見てほしい。"
   ]
  },
  {
   "cell_type": "markdown",
   "metadata": {
    "editable": true,
    "slideshow": {
     "slide_type": ""
    },
    "tags": []
   },
   "source": [
    "### 覚えておくと便利なショートカット"
   ]
  },
  {
   "attachments": {},
   "cell_type": "markdown",
   "metadata": {},
   "source": [
    "Jupyter環境では、いくつかのショートカットキーが用意されており、逐一、セルをマウス等で選択することなく編集を進めるために、これらを覚えておくと良い。なお、現在、セルにコードを入力中なのか、セルが選択されているのかでショートカットキーの挙動が異なるので注意すること。\n",
    "\n",
    "**セルを選択中**\n",
    "\n",
    "- 新しいセルを上に作成: 「a」 (aboveのa)\n",
    "- 新しいセルを下に作成: 「b」 (below, bottomのb)\n",
    "- 選択中のセルを削除: 「d」を2回 (deleteのd)\n",
    "- セルの入力モードに入る: 「Enter」\n",
    "- セルを切り取る「x」\n",
    "- セルを貼り付ける「v」\n",
    "- セルの削除などの操作を取り消す「z」 **(絶対に覚える！)**\n",
    "\n",
    "**セルに入力中**\n",
    "\n",
    "- コードの補間: 「Tab」 **(絶対に覚える！)**\n",
    "- セルの入力モードから抜ける: 「Esc」\n",
    "- 現在の箇所でセルを分割: 「Ctrl」+「Shift」+「-」 (推す順番も関係あり)\n",
    "\n",
    "この他、Jupyter Lab環境では、メニューの「File」や「Edit」等を開くと、右側に各操作のショートカットキーが書かれているので、こちらを参考にすると良い。"
   ]
  },
  {
   "cell_type": "markdown",
   "metadata": {},
   "source": [
    "### ファイルのエクスポート"
   ]
  },
  {
   "cell_type": "markdown",
   "metadata": {},
   "source": [
    "Jupyter環境で作成した`*.ipynb`ファイルはいくつかのファイル形式でエクスポートすることができる。例えば、現在のコードを通常のPythonスクリプトとして出力したり、HTMLやPDFとして出力することもできる。\n",
    "\n",
    "エクスポートのメニューは「File」→「Save and Export Notebook As...」にあるので、ここから、適宜、エクスポートしたいファイル形式を選ぶ。なお、PDFは**LaTeX**環境がインストールされていないと使えない他、日本語を上手く出力できないケースがある。\n",
    "\n",
    "PDFファイルのエクスポート時に日本語を使うためには、以下のようなテンプレートファイル (`jp_template.tpl`とする)を用意する。\n",
    "\n",
    "```latex\n",
    "((=- Default to the notebook output style -=))\n",
    "((*- if not cell_style is defined -*))\n",
    "    ((* set cell_style = 'style_jupyter.tex.j2' *))\n",
    "((*- endif -*))\n",
    "\n",
    "((=- Inherit from the specified cell style. -=))\n",
    "((* extends cell_style *))\n",
    "\n",
    "%===============================================================================\n",
    "% Latex Article\n",
    "%===============================================================================\n",
    "\n",
    "((*- block docclass -*))\n",
    "\\documentclass[xelatex,ja=standard]{bxjsarticle}\n",
    "((*- endblock docclass -*))\n",
    "```\n",
    "\n",
    "このファイルをJupyterのテンプレートが格納されているディレクトリに保存する。ディレクトリのパスを確認するには、\n",
    "```shell\n",
    "jupyter --paths\n",
    "```\n",
    "を実行する。一例として、以下のような出力が得られる。\n",
    "```text\n",
    "config:\n",
    "    /Users/tatsuya/.jupyter\n",
    "    /Users/tatsuya/.local/etc/jupyter\n",
    "    /Users/tatsuya/miniconda3/envs/advml/etc/jupyter\n",
    "    /usr/local/etc/jupyter\n",
    "    /etc/jupyter\n",
    "data:\n",
    "    /Users/tatsuya/Library/Jupyter\n",
    "    /Users/tatsuya/.local/share/jupyter\n",
    "    /Users/tatsuya/miniconda3/envs/advml/share/jupyter\n",
    "    /usr/local/share/jupyter\n",
    "    /usr/share/jupyter\n",
    "runtime:\n",
    "    /Users/tatsuya/Library/Jupyter/runtime\n",
    "```\n",
    "\n",
    "このリストの中でMiniconda3のパスの中にある`/.../miniconda3/envs/advml/share/jupyter`を開き、このディレクトリ内にある`nbconvert/templates/latex`を開き、上記の`jp_template.tpl`を保存する。\n",
    "\n",
    "上記の設定が完了したら、ターミナルから、以下のコマンドを直接実行する。\n",
    "\n",
    "```shell\n",
    "jupyter nbconvert --to pdf --template \"latex/jp_template.tpl\" notebook.ipynb\n",
    "```\n",
    "\n",
    "すると、以下のように日本語が正しく表示されたPDFが作成できる。\n",
    "\n",
    "```{image} ./imgs/jupyter_pdf.jpg\n",
    ":align: center\n",
    ":width: 90%\n",
    "```\n"
   ]
  },
  {
   "cell_type": "markdown",
   "metadata": {},
   "source": [
    "## 練習問題\n",
    "\n",
    "1. 自分の計算機にインストールされているターミナル環境を使いやすいように設定してみよう。Windowsなら[オープンソースのPowerShell](https://github.com/PowerShell/PowerShell/releases/tag/v7.3.6)、Mac/LinuxならFishを導入して、それぞれ「Oh My Posh」や「Oh My Fish」などのサポートツールを使って設定すると良い。\n",
    "\n",
    "2. Pythonはインタプリタ型のプログラミング言語であると同時に「動的型付け」を行う言語でもある。C/C++等は静的型付け言語であるが、それぞれの利点と欠点は何だろうか？\n",
    "\n",
    "3. Pythonで2の100乗などを計算すると、その値が正しく計算される。通常、コンピュータで扱える値は64bit整数 (符号付き整数なら、最大で、$9 \\times 10^{18}$程度)しか表せないが、なぜこのような計算ができるのだろうか？\n"
   ]
  },
  {
   "cell_type": "code",
   "execution_count": null,
   "metadata": {},
   "outputs": [],
   "source": []
  }
 ],
 "metadata": {
  "kernelspec": {
   "display_name": "Python 3 (ipykernel)",
   "language": "python",
   "name": "python3"
  },
  "language_info": {
   "codemirror_mode": {
    "name": "ipython",
    "version": 3
   },
   "file_extension": ".py",
   "mimetype": "text/x-python",
   "name": "python",
   "nbconvert_exporter": "python",
   "pygments_lexer": "ipython3",
   "version": "3.11.4"
  }
 },
 "nbformat": 4,
 "nbformat_minor": 4
}

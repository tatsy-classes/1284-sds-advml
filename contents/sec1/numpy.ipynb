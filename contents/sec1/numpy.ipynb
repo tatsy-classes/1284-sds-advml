{
 "cells": [
  {
   "cell_type": "markdown",
   "metadata": {
    "editable": true,
    "slideshow": {
     "slide_type": ""
    },
    "tags": []
   },
   "source": [
    "(sec:numpy)=\n",
    "\n",
    "# NumPy の基本\n"
   ]
  },
  {
   "cell_type": "markdown",
   "metadata": {
    "editable": true,
    "slideshow": {
     "slide_type": ""
    },
    "tags": []
   },
   "source": [
    "NumPy は一口に言えば、多次元の配列で表わされるデータ (例えば音声なら 1 次元の配列、画像なら 2 次元の配列)の処理と線形代数的な演算を簡易なコードで実行できるようにするライブラリといえる。まずは、Python の配列と NumPy の配列の違いについて見てみたい。\n"
   ]
  },
  {
   "cell_type": "markdown",
   "metadata": {},
   "source": [
    "Python で配列を作成するには`[ ]`で数字をコンマ区切りにすれば良く、\n"
   ]
  },
  {
   "cell_type": "code",
   "execution_count": 1,
   "metadata": {},
   "outputs": [],
   "source": [
    "numbers = [1, 2, 3]"
   ]
  },
  {
   "attachments": {},
   "cell_type": "markdown",
   "metadata": {},
   "source": [
    "と書く。この時、a の各要素を 2 倍にしたいとすると、直感的には\n",
    "\n",
    "```python\n",
    "numbers * 2\n",
    "```\n",
    "\n",
    "とすれば良さそうだが、これは\n"
   ]
  },
  {
   "cell_type": "code",
   "execution_count": 2,
   "metadata": {},
   "outputs": [
    {
     "name": "stdout",
     "output_type": "stream",
     "text": [
      "[1, 2, 3, 1, 2, 3]\n"
     ]
    }
   ],
   "source": [
    "numbers = [1, 2, 3]\n",
    "print(numbers * 2)"
   ]
  },
  {
   "cell_type": "markdown",
   "metadata": {},
   "source": [
    "のように配列が 2 回繰り返されたものとなってしまう。Python の配列でこれを実現するには**リスト内包表記**を使って\n"
   ]
  },
  {
   "cell_type": "code",
   "execution_count": 3,
   "metadata": {},
   "outputs": [
    {
     "data": {
      "text/plain": [
       "[2, 4, 6]"
      ]
     },
     "execution_count": 3,
     "metadata": {},
     "output_type": "execute_result"
    }
   ],
   "source": [
    "[x * 2 for x in numbers]"
   ]
  },
  {
   "cell_type": "markdown",
   "metadata": {},
   "source": [
    "と書く必要がある。もちろん、これでも必要十分ではあるのだが、より直感的な記述で書ければ嬉しいだろう。そこで NumPy が登場する。\n"
   ]
  },
  {
   "cell_type": "markdown",
   "metadata": {},
   "source": [
    "NumPy は通常、`np`というエイリアスを設定してインポートするので、本資料もそれに従う。\n",
    "\n",
    "NumPy を用いて配列を作る場合、Python の配列を引数にとる関数`np.array`を用いて、\n"
   ]
  },
  {
   "cell_type": "code",
   "execution_count": 4,
   "metadata": {},
   "outputs": [],
   "source": [
    "import numpy as np\n",
    "\n",
    "numbers = np.array([1, 2, 3])"
   ]
  },
  {
   "cell_type": "markdown",
   "metadata": {},
   "source": [
    "と書けば良い。NumPy の配列であれば、下記のように要素を 2 倍にする計算を、より直感的に行うことができる。\n"
   ]
  },
  {
   "cell_type": "code",
   "execution_count": 5,
   "metadata": {},
   "outputs": [
    {
     "data": {
      "text/plain": [
       "array([2, 4, 6])"
      ]
     },
     "execution_count": 5,
     "metadata": {},
     "output_type": "execute_result"
    }
   ],
   "source": [
    "numbers * 2"
   ]
  },
  {
   "cell_type": "markdown",
   "metadata": {},
   "source": [
    "## NumPy の配列操作\n"
   ]
  },
  {
   "cell_type": "markdown",
   "metadata": {},
   "source": [
    "### 多次元配列を作る\n"
   ]
  },
  {
   "cell_type": "markdown",
   "metadata": {},
   "source": [
    "Python の配列で多次元配列を作るには、\n"
   ]
  },
  {
   "cell_type": "code",
   "execution_count": 6,
   "metadata": {},
   "outputs": [],
   "source": [
    "numbers = [[1, 2], [3, 4]]"
   ]
  },
  {
   "cell_type": "markdown",
   "metadata": {},
   "source": [
    "のように`[ ]`を二重にすれば良かった。同様の配列を NumPy で作るにはいくつかの方法があるが、最も単純には、上記の配列を`np.array`の引数に設定すれば良い。\n"
   ]
  },
  {
   "cell_type": "code",
   "execution_count": 7,
   "metadata": {},
   "outputs": [],
   "source": [
    "numbers = [[1, 2], [3, 4]]\n",
    "numbers_np = np.array(numbers)"
   ]
  },
  {
   "cell_type": "markdown",
   "metadata": {},
   "source": [
    "また、全ての要素が 1 の 10x10 の二次元配列を作りたい場合、Python の配列では、リスト内包表記を用いて\n"
   ]
  },
  {
   "cell_type": "code",
   "execution_count": 8,
   "metadata": {},
   "outputs": [],
   "source": [
    "zeros = [[0] * 10 for _ in range(10)]"
   ]
  },
  {
   "cell_type": "markdown",
   "metadata": {},
   "source": [
    "のように書く必要があった。NumPy で同様の配列を作る場合、先ほど紹介した方法で`np.array`の引数に Python の多次元配列を代入する以外に`np.ndarray`という関数を使う方法がある。\n",
    "\n",
    "`np.ndarray`は配列のサイズをタプルとして引数に取るので、10x10 の配列を作りたい場合には、引数に `(10, 10)`を指定すれば良い。\n"
   ]
  },
  {
   "cell_type": "code",
   "execution_count": 9,
   "metadata": {},
   "outputs": [],
   "source": [
    "zeros = np.ndarray((10, 10))"
   ]
  },
  {
   "cell_type": "markdown",
   "metadata": {},
   "source": [
    "### 特殊な配列の初期化\n"
   ]
  },
  {
   "cell_type": "markdown",
   "metadata": {},
   "source": [
    "NumPy では直接、Python の List を指定して配列を初期化する以外に、いくつかの便利な配列初期化方法が用意されている。ここでは、特によく用いるものをいくつか紹介する。\n"
   ]
  },
  {
   "cell_type": "markdown",
   "metadata": {},
   "source": [
    "#### 同じ値での初期化\n"
   ]
  },
  {
   "cell_type": "code",
   "execution_count": 55,
   "metadata": {},
   "outputs": [
    {
     "name": "stdout",
     "output_type": "stream",
     "text": [
      "[[0. 0. 0. 0. 0.]\n",
      " [0. 0. 0. 0. 0.]\n",
      " [0. 0. 0. 0. 0.]\n",
      " [0. 0. 0. 0. 0.]\n",
      " [0. 0. 0. 0. 0.]]\n"
     ]
    }
   ],
   "source": [
    "print(np.zeros((5, 5)))  # 全て0で初期化"
   ]
  },
  {
   "cell_type": "code",
   "execution_count": 56,
   "metadata": {},
   "outputs": [
    {
     "name": "stdout",
     "output_type": "stream",
     "text": [
      "[[1. 1. 1. 1. 1.]\n",
      " [1. 1. 1. 1. 1.]\n",
      " [1. 1. 1. 1. 1.]\n",
      " [1. 1. 1. 1. 1.]\n",
      " [1. 1. 1. 1. 1.]]\n"
     ]
    }
   ],
   "source": [
    "print(np.ones((5, 5)))  # 全て1で初期化"
   ]
  },
  {
   "cell_type": "code",
   "execution_count": 57,
   "metadata": {},
   "outputs": [
    {
     "name": "stdout",
     "output_type": "stream",
     "text": [
      "[[10. 10. 10. 10. 10.]\n",
      " [10. 10. 10. 10. 10.]\n",
      " [10. 10. 10. 10. 10.]\n",
      " [10. 10. 10. 10. 10.]\n",
      " [10. 10. 10. 10. 10.]]\n"
     ]
    }
   ],
   "source": [
    "print(np.full((5, 5), 10.0))  # 全て同じ値 (10.0)で初期化"
   ]
  },
  {
   "cell_type": "markdown",
   "metadata": {},
   "source": [
    "上記の関数を使う場合、`np.ndarray`の時と同様、関数の引数が次元配列の大きさを表す**タプル**になるので注意すること。\n"
   ]
  },
  {
   "cell_type": "markdown",
   "metadata": {},
   "source": [
    "#### 等差数列による初期化\n"
   ]
  },
  {
   "cell_type": "markdown",
   "metadata": {},
   "source": [
    "等差数列によって NumPy の配列を初期化したい場合、Python に標準で用意されている`range(10)`などと同様の文法で`np.arange`を使うことができる。\n"
   ]
  },
  {
   "cell_type": "code",
   "execution_count": 58,
   "metadata": {},
   "outputs": [
    {
     "name": "stdout",
     "output_type": "stream",
     "text": [
      "[0 1 2 3 4 5 6 7 8 9]\n"
     ]
    }
   ],
   "source": [
    "print(np.arange(10))  # [0, 10)について1刻み"
   ]
  },
  {
   "cell_type": "code",
   "execution_count": 59,
   "metadata": {},
   "outputs": [
    {
     "name": "stdout",
     "output_type": "stream",
     "text": [
      "[5 6 7 8 9]\n"
     ]
    }
   ],
   "source": [
    "print(np.arange(5, 10))  # [5, 10)について1刻み"
   ]
  },
  {
   "cell_type": "code",
   "execution_count": 60,
   "metadata": {},
   "outputs": [
    {
     "name": "stdout",
     "output_type": "stream",
     "text": [
      "[0 2 4 6 8]\n"
     ]
    }
   ],
   "source": [
    "print(np.arange(0, 10, 2))  # [0, 10)について2刻み"
   ]
  },
  {
   "cell_type": "code",
   "execution_count": 61,
   "metadata": {},
   "outputs": [
    {
     "name": "stdout",
     "output_type": "stream",
     "text": [
      "[9 8 7 6 5 4 3 2 1 0]\n"
     ]
    }
   ],
   "source": [
    "print(np.arange(9, -1, -1))  # 9以下かつ-1より大きい整数を列挙"
   ]
  },
  {
   "cell_type": "markdown",
   "metadata": {},
   "source": [
    "#### 等比数列による初期化\n"
   ]
  },
  {
   "cell_type": "markdown",
   "metadata": {},
   "source": [
    "`np.linspace`を使うことで、上限と下限の間を固定の数で分割した等差数列を得ることもできる。このとき、上端を含むか、含まないかを`endpoint`引数により指定することもできる(初期値は`True`)。\n"
   ]
  },
  {
   "cell_type": "code",
   "execution_count": 13,
   "metadata": {},
   "outputs": [
    {
     "name": "stdout",
     "output_type": "stream",
     "text": [
      "[ 0.   2.5  5.   7.5 10. ]\n"
     ]
    }
   ],
   "source": [
    "print(np.linspace(0, 10, 5))  # 両端点を含み0.0と10.0の間を5分割"
   ]
  },
  {
   "cell_type": "code",
   "execution_count": 63,
   "metadata": {},
   "outputs": [
    {
     "name": "stdout",
     "output_type": "stream",
     "text": [
      "[0. 2. 4. 6. 8.]\n"
     ]
    }
   ],
   "source": [
    "print(np.linspace(0, 10, 5, endpoint=False))  # 上端を含まず、0.0と10.0の間を5分割"
   ]
  },
  {
   "cell_type": "markdown",
   "metadata": {},
   "source": [
    "同様にして、`np.geomspace`を用いると、上限と下限を指定した上で、固定の項数を持つ等比数列を得ることもできる。\n"
   ]
  },
  {
   "cell_type": "code",
   "execution_count": 75,
   "metadata": {},
   "outputs": [
    {
     "name": "stdout",
     "output_type": "stream",
     "text": [
      "[  1.   2.   4.   8.  16.  32.  64. 128.]\n"
     ]
    }
   ],
   "source": [
    "print(geom := np.geomspace(1, 128, 8))  # 1から128までの項数が8の等比数列"
   ]
  },
  {
   "cell_type": "code",
   "execution_count": 76,
   "metadata": {},
   "outputs": [
    {
     "name": "stdout",
     "output_type": "stream",
     "text": [
      "[0. 1. 2. 3. 4. 5. 6. 7.]\n"
     ]
    }
   ],
   "source": [
    "print(np.log2(geom))  # 底が2の対数を取ると等差数列になっている"
   ]
  },
  {
   "cell_type": "markdown",
   "metadata": {},
   "source": [
    "`np.geomspace`と類似した物として`np.logspace`もあり、`base`を基数とするべき乗の上付き添え字が等差数列になるような、等比数列を作成する。\n"
   ]
  },
  {
   "cell_type": "code",
   "execution_count": 79,
   "metadata": {},
   "outputs": [
    {
     "name": "stdout",
     "output_type": "stream",
     "text": [
      "[  1.   2.   4.   8.  16.  32.  64. 128.]\n"
     ]
    }
   ],
   "source": [
    "print(logsp := np.logspace(0, 7, 8, base=2))  # 2^0から2^7までを8項で結ぶ等比数列"
   ]
  },
  {
   "cell_type": "code",
   "execution_count": 80,
   "metadata": {},
   "outputs": [
    {
     "name": "stdout",
     "output_type": "stream",
     "text": [
      "[0. 1. 2. 3. 4. 5. 6. 7.]\n"
     ]
    }
   ],
   "source": [
    "print(np.log2(logsp))  # log2を取ると、等差数列になっている"
   ]
  },
  {
   "cell_type": "markdown",
   "metadata": {},
   "source": [
    "#### 二次元座標系の作成\n"
   ]
  },
  {
   "cell_type": "markdown",
   "metadata": {},
   "source": [
    "特に画像を取り扱う場合など、画素の次元を取得するために、二次元の離散的な座標系を作成したいことがよくある。例えば`ix`は`[[1, 2, ..., 10], ..., [1, 2, ..., 10]]`、`iy`は`[1, 1, ..., 1], [2, 2, ...., 2], ..., [10, 10, ..., 10]]`といった形だ。このような場合には`[1, 2, ..., 10]`という配列を作成した上で`np.meshgrid`を用いると良い。\n"
   ]
  },
  {
   "cell_type": "code",
   "execution_count": 83,
   "metadata": {},
   "outputs": [
    {
     "name": "stdout",
     "output_type": "stream",
     "text": [
      "ix=\n",
      "[[0 1 2]\n",
      " [0 1 2]\n",
      " [0 1 2]\n",
      " [0 1 2]\n",
      " [0 1 2]]\n",
      "iy=\n",
      "[[0 0 0]\n",
      " [1 1 1]\n",
      " [2 2 2]\n",
      " [3 3 3]\n",
      " [4 4 4]]\n"
     ]
    }
   ],
   "source": [
    "ix = np.arange(0, 3)\n",
    "iy = np.arange(0, 5)\n",
    "ix, iy = np.meshgrid(ix, iy)  # ix, iyの順序に注意\n",
    "print(f\"ix=\\n{ix}\")\n",
    "print(f\"iy=\\n{iy}\")"
   ]
  },
  {
   "cell_type": "markdown",
   "metadata": {},
   "source": [
    "また、NumPy には`np.mgrid`という変数が用意されていて、これはすでに全ての整数において`meshgrid`を用いたような二次元配列(のようなオブジェクト)となっていて、配列の範囲を指定することで`np.arange`を用いることなく二次元座標系を作成することができる。\n"
   ]
  },
  {
   "cell_type": "code",
   "execution_count": 84,
   "metadata": {},
   "outputs": [
    {
     "name": "stdout",
     "output_type": "stream",
     "text": [
      "ix=\n",
      "[[0 1 2]\n",
      " [0 1 2]\n",
      " [0 1 2]\n",
      " [0 1 2]\n",
      " [0 1 2]]\n",
      "iy=\n",
      "[[0 0 0]\n",
      " [1 1 1]\n",
      " [2 2 2]\n",
      " [3 3 3]\n",
      " [4 4 4]]\n"
     ]
    }
   ],
   "source": [
    "iy, ix = np.mgrid[:5, :3]  # 軸の順序に注意\n",
    "print(f\"ix=\\n{ix}\")\n",
    "print(f\"iy=\\n{iy}\")"
   ]
  },
  {
   "cell_type": "markdown",
   "metadata": {},
   "source": [
    "また、1 飛ばしで二次元座標系を作りたい場合、`np.arange`を用いれば、\n"
   ]
  },
  {
   "cell_type": "code",
   "execution_count": 85,
   "metadata": {},
   "outputs": [
    {
     "name": "stdout",
     "output_type": "stream",
     "text": [
      "ix=\n",
      "[[0 2 4]\n",
      " [0 2 4]\n",
      " [0 2 4]\n",
      " [0 2 4]\n",
      " [0 2 4]]\n",
      "iy=\n",
      "[[0 0 0]\n",
      " [2 2 2]\n",
      " [4 4 4]\n",
      " [6 6 6]\n",
      " [8 8 8]]\n"
     ]
    }
   ],
   "source": [
    "ix = np.arange(0, 6, 2)\n",
    "iy = np.arange(0, 10, 2)\n",
    "ix, iy = np.meshgrid(ix, iy)\n",
    "print(f\"ix=\\n{ix}\")\n",
    "print(f\"iy=\\n{iy}\")"
   ]
  },
  {
   "cell_type": "markdown",
   "metadata": {},
   "source": [
    "のように書けば良いが、`np.mgrid`を用いる場合には、スライスに与える添え字の書き方を工夫して以下のように書けば良い。\n"
   ]
  },
  {
   "cell_type": "code",
   "execution_count": 92,
   "metadata": {},
   "outputs": [
    {
     "name": "stdout",
     "output_type": "stream",
     "text": [
      "ix=\n",
      "[[0 2 4]\n",
      " [0 2 4]\n",
      " [0 2 4]\n",
      " [0 2 4]\n",
      " [0 2 4]]\n",
      "iy=\n",
      "[[0 0 0]\n",
      " [2 2 2]\n",
      " [4 4 4]\n",
      " [6 6 6]\n",
      " [8 8 8]]\n"
     ]
    }
   ],
   "source": [
    "iy, ix = np.mgrid[0:10:2, 0:6:2]\n",
    "print(f\"ix=\\n{ix}\")\n",
    "print(f\"iy=\\n{iy}\")"
   ]
  },
  {
   "cell_type": "markdown",
   "metadata": {},
   "source": [
    "上記の例に見られるような`[0:10:2]`といった添え字の書き方は**0 から始まり 2 刻みで 10 までの数字を添え字として配列要素を取り出す**という意味で様々な応用が可能なので、興味のある読者は発展的なスライスの使用法について調べて見てほしい。\n"
   ]
  },
  {
   "cell_type": "markdown",
   "metadata": {},
   "source": [
    "### 配列の情報\n"
   ]
  },
  {
   "cell_type": "markdown",
   "metadata": {},
   "source": [
    "上記の NumPy の配列を IPython 上で表示すると\n"
   ]
  },
  {
   "cell_type": "code",
   "execution_count": 19,
   "metadata": {},
   "outputs": [
    {
     "name": "stdout",
     "output_type": "stream",
     "text": [
      "[1 2 3]\n"
     ]
    }
   ],
   "source": [
    "numbers = np.array([1, 2, 3])\n",
    "print(numbers)"
   ]
  },
  {
   "cell_type": "markdown",
   "metadata": {},
   "source": [
    "のように表示されるが、この実態は`int64`型すなわち 64bit 符号付き整数となっている。これを調べるには，配列の`dtype`フィールドにアクセスすれば良く\n"
   ]
  },
  {
   "cell_type": "code",
   "execution_count": 20,
   "metadata": {},
   "outputs": [
    {
     "data": {
      "text/plain": [
       "dtype('int64')"
      ]
     },
     "execution_count": 20,
     "metadata": {},
     "output_type": "execute_result"
    }
   ],
   "source": [
    "numbers.dtype"
   ]
  },
  {
   "cell_type": "markdown",
   "metadata": {},
   "source": [
    "のような出力が得られる。\n",
    "\n",
    "また、配列の大きさは`shape`フィールドで、全要素数は`size`フィールドで、何次元の多次元配列なのかは`ndim`フィールドで調べることができる。\n"
   ]
  },
  {
   "cell_type": "code",
   "execution_count": 94,
   "metadata": {},
   "outputs": [
    {
     "name": "stdout",
     "output_type": "stream",
     "text": [
      "Shape is (4, 5, 6)\n",
      "#elements is 120\n",
      "#dimensions is 3\n"
     ]
    }
   ],
   "source": [
    "ones = np.ones((4, 5, 6))\n",
    "print(f\"Shape is {ones.shape}\")\n",
    "print(f\"#elements is {ones.size}\")\n",
    "print(f\"#dimensions is {ones.ndim}\")"
   ]
  },
  {
   "cell_type": "markdown",
   "metadata": {},
   "source": [
    "また、始めから配列要素の型を指定して、\n"
   ]
  },
  {
   "cell_type": "code",
   "execution_count": 22,
   "metadata": {},
   "outputs": [],
   "source": [
    "numbers = np.array([1, 2, 3], dtype=\"float32\")"
   ]
  },
  {
   "cell_type": "markdown",
   "metadata": {},
   "source": [
    "のようにすることもできる。上記の例では、配列内の各要素が`float32`型、すなわち 32bit の単精度浮動小数で表わされる。\n",
    "\n",
    "NumPy で使える配列の型には、この他にも`int8` / `uint8` (それぞれ 8bit 符号あり、符号なし整数)以下、`int16`、`int32`、`int64`が符号付き整数 (それぞれに符号なし整数である`uint..`が存在)の他、64bit 倍精度浮動小数として`double`、また複素数を表わす`complex64` (実部と虚部がそれぞれ 32bit 単精度浮動小数)や`complex128` (実部と虚部がそれぞれ 64bit 浮動小数)などがある。\n",
    "\n",
    "最初に異なる型で宣言した配列を途中から別の型に変更したい場合には`astype`メソッドを使えば良い。\n"
   ]
  },
  {
   "cell_type": "code",
   "execution_count": 98,
   "metadata": {},
   "outputs": [
    {
     "name": "stdout",
     "output_type": "stream",
     "text": [
      "Original type is int64\n",
      "Updated type is float32\n"
     ]
    }
   ],
   "source": [
    "numbers = np.array([1, 2, 3])  # int32型\n",
    "print(f\"Original type is {numbers.dtype}\")\n",
    "numbers = numbers.astype(\"float32\")  # 型をfloat32に変更\n",
    "print(f\"Updated type is {numbers.dtype}\")"
   ]
  },
  {
   "cell_type": "markdown",
   "metadata": {
    "editable": true,
    "slideshow": {
     "slide_type": ""
    },
    "tags": []
   },
   "source": [
    ":::{admonition} オブジェクト指向型言語の用語\n",
    ":class: note\n",
    "\n",
    "Python はプログラミング言語の中ではオブジェクト指向型の言語に分類される (他には手続き型や関数型などがある)。オブジェクト指向型言語では、実世界のモノをプログラムにより表現するための仕組みとしてモノ(= オブジェクト)を「クラス」という概念で表わす。ここでは、詳しい明言を避けるが、Python のクラスとは以下のようなものだ。\n",
    "\n",
    "```python\n",
    "class Human(object):\n",
    "    def __init__(self, name, age):\n",
    "        self.name = name\n",
    "        self.age = age\n",
    "\n",
    "    def intro(self):\n",
    "        print(\"Hi, my name is {:s}. I\\'m {:d} years old.\".format(self.name, self.age))\n",
    "```\n",
    "\n",
    "このようなクラスにおいて、クラスが保持する変数 (= `self.name`や`self.age`)のことを**パラメータ**や**フィールド**と呼び、クラスが備える関数(= `intro`)のことを**メソッド**と呼ぶ。\n",
    "\n",
    "また、上記のクラスを用いて、実際の`Human`を作ること、すなわち\n",
    "\n",
    "```python\n",
    "taro = Human(\"Taro\", 22)\n",
    "```\n",
    "\n",
    "という処理を**インスタンス化**と呼ぶ。これらの用語は Python に限らず、オブジェクト指向型言語の基本用語なので覚えておくこと。\n",
    ":::\n"
   ]
  },
  {
   "cell_type": "markdown",
   "metadata": {},
   "source": [
    "### 配列要素へのアクセス\n"
   ]
  },
  {
   "cell_type": "markdown",
   "metadata": {},
   "source": [
    "通常、Python で一次元配列、二次元配列の要素にアクセスするには\n",
    "\n",
    "```python\n",
    "print(arr1d[i])\n",
    "print(arr2d[i][j])\n",
    "```\n",
    "\n",
    "のように要素を指定する。特に二次元配列に要素を指定するときには`[i][j]`のように`[ ]`を 2 つ使用して要素のインデックスを指定する。\n",
    "\n",
    "一方で、NumPy を使う場合、一次元配列、二次元配列の要素へのアクセス方法は\n",
    "\n",
    "```python\n",
    "print(arr1d[i])\n",
    "print(arr2d[i, j])\n",
    "```\n",
    "\n",
    "のようになり、特に二次元配列において、より簡素な表記で要素へのアクセスが可能となっている。\n",
    "\n",
    "また、通常の Python と同様に`[:]`を指定することで、その次元の全ての要素を配列として取り出すことができる。例えば、以下のような使い方ができる。\n"
   ]
  },
  {
   "cell_type": "code",
   "execution_count": 24,
   "metadata": {},
   "outputs": [
    {
     "name": "stdout",
     "output_type": "stream",
     "text": [
      "0th column: [1 3]\n",
      "1st row: [3 4]\n"
     ]
    }
   ],
   "source": [
    "arr2d = np.array([[1, 2], [3, 4]])\n",
    "print(\"0th column:\", arr2d[:, 0])\n",
    "print(\"1st row:\", arr2d[1, :])"
   ]
  },
  {
   "cell_type": "markdown",
   "metadata": {},
   "source": [
    "配列要素の書き換えも、同様に可能で、特に`[:]`を指定した場合には、その部分配列の全ての要素を書き換えることができる。\n"
   ]
  },
  {
   "cell_type": "code",
   "execution_count": 25,
   "metadata": {},
   "outputs": [
    {
     "name": "stdout",
     "output_type": "stream",
     "text": [
      "[[2 2]\n",
      " [3 4]]\n"
     ]
    }
   ],
   "source": [
    "# 例1: 単一要素の書き換え\n",
    "arr2d = np.array([[1, 2], [3, 4]])\n",
    "arr2d[0, 0] = 2\n",
    "print(arr2d)"
   ]
  },
  {
   "cell_type": "code",
   "execution_count": 26,
   "metadata": {},
   "outputs": [
    {
     "name": "stdout",
     "output_type": "stream",
     "text": [
      "[[10 10]\n",
      " [ 3  4]]\n"
     ]
    }
   ],
   "source": [
    "# 例2: 部分配列の書き換え\n",
    "arr2d = np.array([[1, 2], [3, 4]])\n",
    "arr2d[0, :] = 10\n",
    "print(arr2d)"
   ]
  },
  {
   "cell_type": "markdown",
   "metadata": {},
   "source": [
    "### 配列の変形\n"
   ]
  },
  {
   "cell_type": "markdown",
   "metadata": {},
   "source": [
    "NumPy では`reshape`を用いることで、配列の形を変更することもできる。例えば 2x2 の二次元配列を 4 要素の一次元配列に変形する場合、以下のように`reshape`を利用する。\n"
   ]
  },
  {
   "cell_type": "code",
   "execution_count": 27,
   "metadata": {},
   "outputs": [
    {
     "name": "stdout",
     "output_type": "stream",
     "text": [
      "[1 2 3 4]\n"
     ]
    }
   ],
   "source": [
    "arr2d = np.array([[1, 2], [3, 4]])\n",
    "arr1d = arr2d.reshape((4))\n",
    "print(arr1d)"
   ]
  },
  {
   "cell_type": "markdown",
   "metadata": {},
   "source": [
    "また、変形後の大きさに`-1`を指定すると、その次元に限り、他の次元から自動的に要素数を計算してくれる。\n"
   ]
  },
  {
   "cell_type": "code",
   "execution_count": 28,
   "metadata": {},
   "outputs": [
    {
     "name": "stdout",
     "output_type": "stream",
     "text": [
      "Before:\n",
      " [[1 2 3]\n",
      " [4 5 6]]\n",
      "After:\n",
      " [[1 2]\n",
      " [3 4]\n",
      " [5 6]]\n"
     ]
    }
   ],
   "source": [
    "arr2x3 = np.array([[1, 2, 3], [4, 5, 6]])\n",
    "print(\"Before:\\n\", arr2x3)\n",
    "arr3x2 = arr2x3.reshape((3, -1))\n",
    "print(\"After:\\n\", arr3x2)"
   ]
  },
  {
   "cell_type": "markdown",
   "metadata": {},
   "source": [
    "これを用いると、一次元配列への変換も、より容易に書くことができる。なお、一次元配列に変換する操作に限っては、`flatten`や`ravel`といった関数を使用する方法もある。\n"
   ]
  },
  {
   "cell_type": "code",
   "execution_count": 29,
   "metadata": {},
   "outputs": [
    {
     "name": "stdout",
     "output_type": "stream",
     "text": [
      "reshape: [1 2 3 4]\n",
      "flatten: [1 2 3 4]\n",
      "ravel: [1 2 3 4]\n"
     ]
    }
   ],
   "source": [
    "arr2d = np.array([[1, 2], [3, 4]])\n",
    "print(\"reshape:\", arr2d.reshape((-1)))\n",
    "print(\"flatten:\", arr2d.flatten())\n",
    "print(\"ravel:\", arr2d.ravel())"
   ]
  },
  {
   "cell_type": "markdown",
   "metadata": {},
   "source": [
    ":::{admonition} flatten と ravel の違い\n",
    ":class: note\n",
    "\n",
    "上記の通り、flatten と ravel はほとんど同じ機能を提供するが、得られる戻り値が、元の配列をコピーした「別の実態」なのか、それとも、単に元の配列の要素へのアクセスを一次元配列的にできるようにした「同じ実態」なのかが異なる。\n",
    "\n",
    "結論から言えば、`flatten`は別の実態を、reshape と ravel は「可能な限り」同じ実態を返す。従って、要素の書き換えを行う場合には、注意が必要だ。以下のコードを実行して違いを確認してほしい。\n",
    "\n",
    "```python\n",
    "arr2d = np.array([[1, 2], [3, 4]])\n",
    "arr1d_rs = arr2d.reshape((-1))\n",
    "arr1d_fl = arr2d.flatten()\n",
    "arr1d_rv = arr2d.ravel()\n",
    "arr2d[0, 0] = 2\n",
    "print(\"reshape:\", arr1d_rs)\n",
    "print(\"flatten:\", arr1d_fl)\n",
    "print(\"ravel:\", arr1d_rv)\n",
    "```\n",
    "\n",
    ":::\n"
   ]
  },
  {
   "cell_type": "markdown",
   "metadata": {},
   "source": [
    "また、NumPy の配列は、次元を増やすことも可能で、例えば 2x2 の二次元配列を 2x1x2 の三次元配列にしたりできる。これには`reshape`を使うことができるほか、新しく追加する次元に対応する箇所に`None`あるには`np.newaxis`と書くことで次元を追加できる。\n"
   ]
  },
  {
   "cell_type": "code",
   "execution_count": 30,
   "metadata": {},
   "outputs": [
    {
     "name": "stdout",
     "output_type": "stream",
     "text": [
      "reshape: (2, 1, 2)\n",
      "None: (2, 1, 2)\n",
      "newaxis (2, 1, 2)\n"
     ]
    }
   ],
   "source": [
    "arr2d = np.array([[1, 2], [3, 4]])\n",
    "print(\"reshape:\", arr2d.reshape((2, -1, 2)).shape)\n",
    "print(\"None:\", arr2d[:, None].shape)\n",
    "print(\"newaxis\", arr2d[:, np.newaxis].shape)"
   ]
  },
  {
   "cell_type": "markdown",
   "metadata": {
    "editable": true,
    "slideshow": {
     "slide_type": ""
    },
    "tags": []
   },
   "source": [
    "## NumPy を用いた線形代数\n"
   ]
  },
  {
   "cell_type": "markdown",
   "metadata": {
    "editable": true,
    "slideshow": {
     "slide_type": ""
    },
    "tags": []
   },
   "source": [
    "### スカラに対する演算\n"
   ]
  },
  {
   "cell_type": "markdown",
   "metadata": {
    "editable": true,
    "slideshow": {
     "slide_type": ""
    },
    "tags": []
   },
   "source": [
    "ベクトルや行列に対して、スカラを四則演算すると、要素ごとに同じ計算が行われる。例えば、\n"
   ]
  },
  {
   "cell_type": "code",
   "execution_count": 31,
   "metadata": {},
   "outputs": [
    {
     "name": "stdout",
     "output_type": "stream",
     "text": [
      "[2 3]\n"
     ]
    }
   ],
   "source": [
    "a = np.array([1, 2])\n",
    "print(a + 1)  # array([2, 3])"
   ]
  },
  {
   "cell_type": "markdown",
   "metadata": {},
   "source": [
    "の例では、a の各要素に 1 が足し算されていることが分かる。これは、他の四則演算に対しても同様である。\n"
   ]
  },
  {
   "cell_type": "markdown",
   "metadata": {},
   "source": [
    "### 要素ごとの四則演算\n"
   ]
  },
  {
   "cell_type": "markdown",
   "metadata": {},
   "source": [
    "同じ要素数を持つベクトル同士や行列同士を四則演算すると、要素ごとの演算が行われる。例えば、\n"
   ]
  },
  {
   "cell_type": "code",
   "execution_count": 32,
   "metadata": {},
   "outputs": [
    {
     "name": "stdout",
     "output_type": "stream",
     "text": [
      "[4 6]\n"
     ]
    }
   ],
   "source": [
    "a = np.array([1, 2])\n",
    "b = np.array([3, 4])\n",
    "print(a + b)  # array([4, 6])"
   ]
  },
  {
   "cell_type": "markdown",
   "metadata": {},
   "source": [
    "の例では、a と b の各要素に対して、和が取られていることが分かる。これは、他の四則演算に対しても同様である。\n"
   ]
  },
  {
   "cell_type": "markdown",
   "metadata": {},
   "source": [
    "### 各要素への関数適用\n"
   ]
  },
  {
   "cell_type": "markdown",
   "metadata": {},
   "source": [
    "NumPy には`numpy.exp`などのように、ベクトル・行列の各要素に対して、特定のスカラに対する演算を行う関数が用意されている。一例として、`numpy.sin`、`numpy.cos`、`numpy.exp`、`numpy.log`などがあり、高校レベルで思いつくものであれば大抵は用意されている。\n"
   ]
  },
  {
   "cell_type": "markdown",
   "metadata": {},
   "source": [
    "### ベクトルの内積\n"
   ]
  },
  {
   "cell_type": "markdown",
   "metadata": {},
   "source": [
    "内積の計算には二つのベクトルに対して`numpy.dot`を用いれば良い。\n"
   ]
  },
  {
   "cell_type": "code",
   "execution_count": 33,
   "metadata": {},
   "outputs": [
    {
     "name": "stdout",
     "output_type": "stream",
     "text": [
      "11\n"
     ]
    }
   ],
   "source": [
    "a = np.array([1, 2])\n",
    "b = np.array([3, 4])\n",
    "print(np.dot(a, b))"
   ]
  },
  {
   "cell_type": "markdown",
   "metadata": {},
   "source": [
    "また、`numpy.dot`と同じ効果を現す演算子として`@`が用意されており、上と同様のコードは`@`を使って以下のように書ける。\n"
   ]
  },
  {
   "cell_type": "code",
   "execution_count": 34,
   "metadata": {},
   "outputs": [
    {
     "name": "stdout",
     "output_type": "stream",
     "text": [
      "11\n"
     ]
    }
   ],
   "source": [
    "print(a @ b)"
   ]
  },
  {
   "cell_type": "markdown",
   "metadata": {},
   "source": [
    "### ベクトルの外積\n"
   ]
  },
  {
   "cell_type": "markdown",
   "metadata": {},
   "source": [
    "外積の計算には二つのベクトルに対して`numpy.cross`を用いれば良い。\n"
   ]
  },
  {
   "cell_type": "code",
   "execution_count": 35,
   "metadata": {},
   "outputs": [
    {
     "name": "stdout",
     "output_type": "stream",
     "text": [
      "[-3  6 -3]\n"
     ]
    }
   ],
   "source": [
    "a = np.array([1, 2, 3])\n",
    "b = np.array([4, 5, 6])\n",
    "print(np.cross(a, b))"
   ]
  },
  {
   "cell_type": "markdown",
   "metadata": {},
   "source": [
    "なお、この`numpy.cross`は二次元ベクトルに対しても計算が可能で、その場合は二次元ベクトルを並べて作られる 2x2 行列の行列式が計算される。\n"
   ]
  },
  {
   "cell_type": "code",
   "execution_count": 36,
   "metadata": {},
   "outputs": [
    {
     "name": "stdout",
     "output_type": "stream",
     "text": [
      "-2\n"
     ]
    }
   ],
   "source": [
    "a = np.array([1, 2])\n",
    "b = np.array([3, 4])\n",
    "print(np.cross(a, b))"
   ]
  },
  {
   "cell_type": "markdown",
   "metadata": {},
   "source": [
    "この計算は二次元平面において a → b というベクトルの移動が時計回りの回転(負の値になる)なのか、反時計回りの回転(正の値になる)なのかを調べる時などに役に立つ。\n"
   ]
  },
  {
   "cell_type": "markdown",
   "metadata": {},
   "source": [
    "### 行列の転置\n"
   ]
  },
  {
   "cell_type": "markdown",
   "metadata": {},
   "source": [
    "行列の転置は NumPy の 2 次元配列を表わす変数に対して `.T`をつけることで計算できる。\n"
   ]
  },
  {
   "cell_type": "code",
   "execution_count": 37,
   "metadata": {},
   "outputs": [
    {
     "name": "stdout",
     "output_type": "stream",
     "text": [
      "A:\n",
      " [[1 2]\n",
      " [3 4]]\n",
      "A^T:\n",
      " [[1 3]\n",
      " [2 4]]\n"
     ]
    }
   ],
   "source": [
    "A = np.array([[1, 2], [3, 4]])\n",
    "print(\"A:\\n\", A)\n",
    "print(\"A^T:\\n\", A.T)"
   ]
  },
  {
   "cell_type": "markdown",
   "metadata": {},
   "source": [
    "また、3 以上の次元を持つ配列の場合には、`np.transpose`を用いることで、次元を自由な順序で入れ替えることができる。\n"
   ]
  },
  {
   "cell_type": "code",
   "execution_count": 38,
   "metadata": {},
   "outputs": [
    {
     "name": "stdout",
     "output_type": "stream",
     "text": [
      "Shape of A: (2, 3, 4)\n",
      "Shape of A: (4, 2, 3)\n"
     ]
    }
   ],
   "source": [
    "A = np.arange(24).reshape((2, 3, 4))\n",
    "print(\"Shape of A:\", A.shape)  # 2x3x4のテンソル\n",
    "A = np.transpose(A, axes=(2, 0, 1))  # 元の次元を2番目、0番目、1番目の順で入れ替え\n",
    "print(\"Shape of A:\", A.shape)  # 4x2x3のテンソル"
   ]
  },
  {
   "cell_type": "markdown",
   "metadata": {},
   "source": [
    "### 逆行列・疑似逆行列\n"
   ]
  },
  {
   "cell_type": "markdown",
   "metadata": {},
   "source": [
    "とある行列が正則行列 (逆行列を持つ = 行列式が 0 でない)ときには`numpy.linalg.inv`を用いて逆行列が計算できる。\n"
   ]
  },
  {
   "cell_type": "code",
   "execution_count": 39,
   "metadata": {},
   "outputs": [
    {
     "name": "stdout",
     "output_type": "stream",
     "text": [
      "[[-2.   1. ]\n",
      " [ 1.5 -0.5]]\n"
     ]
    }
   ],
   "source": [
    "A = np.array([[1, 2], [3, 4]], dtype=\"double\")\n",
    "invA = np.linalg.inv(A)\n",
    "print(invA)"
   ]
  },
  {
   "cell_type": "markdown",
   "metadata": {},
   "source": [
    "なお、その行列が正則行列かどうかを調べるには、行列のランクや行列式が 0 でないかを調べれば良いだろう。\n"
   ]
  },
  {
   "cell_type": "code",
   "execution_count": 40,
   "metadata": {},
   "outputs": [
    {
     "data": {
      "text/plain": [
       "2"
      ]
     },
     "execution_count": 40,
     "metadata": {},
     "output_type": "execute_result"
    }
   ],
   "source": [
    "# 行列のランク\n",
    "np.linalg.matrix_rank(A)  # 2"
   ]
  },
  {
   "cell_type": "code",
   "execution_count": 41,
   "metadata": {},
   "outputs": [
    {
     "data": {
      "text/plain": [
       "-2.0000000000000004"
      ]
     },
     "execution_count": 41,
     "metadata": {},
     "output_type": "execute_result"
    }
   ],
   "source": [
    "# 行列式\n",
    "np.linalg.det(A)"
   ]
  },
  {
   "cell_type": "markdown",
   "metadata": {},
   "source": [
    "では、次に、正則でない行列 (= 特異行列という)の場合に逆行列を求めようとするとどうなるかを見てみる。\n"
   ]
  },
  {
   "cell_type": "code",
   "execution_count": 42,
   "metadata": {},
   "outputs": [
    {
     "name": "stdout",
     "output_type": "stream",
     "text": [
      "Exception: LinAlgError\n",
      "Message: Singular matrix\n"
     ]
    }
   ],
   "source": [
    "A = np.array([[1, 2], [2, 4]], dtype=\"double\")\n",
    "try:\n",
    "    np.linalg.inv(A)\n",
    "except Exception as e:\n",
    "    print(\"Exception: {:s}\".format(type(e).__name__))\n",
    "    print(\"Message: {:s}\".format(str(e)))"
   ]
  },
  {
   "cell_type": "markdown",
   "metadata": {},
   "source": [
    "上記の例では、例外処理をしており、**LinAlgError**が発生して、その例外メッセージが**Singular matrix**となることが確認できる。実際、上記の行列のランクは 1 で行列式は 0.0 になるので、各自で調べて見てほしい。\n",
    "\n",
    "さて、このようは特異行列に対して、逆行列を求めるにはどうすれば良いのだろうか？特異行列に対して、逆行列を求めたい場面というのは実用上はそれなりに多く、その一番身近な例が、以下のような最小二乗問題を解きたい場合だろう。\n",
    "\n",
    "$$\n",
    "\\min_{\\mathbf{x}} \\frac{1}{2} \\| \\mathbf{Ax} - \\mathbf{b} \\|^2\n",
    "$$ (eq:least-squares)\n",
    "\n",
    "この場合、 $\\mathbf{x}$ について被最小化関数を微分したものがゼロベクトルになる箇所を探せば、それが求める $\\mathbf{x}$ だが、この際、被最小化関数の $\\mathbf{x}$ についての微分によって得られる\n",
    "\n",
    "\n",
    "$$\n",
    "\n",
    "\\mathbf{A}^\\top \\mathbf{Ax} = \\mathbf{A}^\\top \\mathbf{b}\n",
    "\n",
    "$$\n",
    "\n",
    "という方程式において $\\mathbf{A}^\\top \\mathbf{A}$ が特異行列になることは実問題においては頻繁に起こる問題である。\n",
    "\n",
    "このような場合、上記の最小化問題の解は、特異行列に対して逆行列と似た性質を持つ疑似逆行列 (正しくはMoore-Penroseの疑似逆行列と呼ぶ)を右辺に乗ずることで求められる。\n",
    "\n",
    "**疑似逆行列を $(\\mathbf{A}^\\top \\mathbf{A})^\\dagger$ のように表わす**時、最小化を実現する $\\mathbf{x}$ は次の式のように定まる。\n",
    "\n",
    "\n",
    "$$\n",
    "\n",
    "\\mathbf{x} = (\\mathbf{A}^\\top \\mathbf{A})^\\dagger (\\mathbf{A}^\\top \\mathbf{b})\n",
    "\n",
    "$$\n",
    "\n",
    "では、疑似逆行列とは、一体どういう性質を持った行列なのだろうか？これを説明するには特異値分解について説明をする必要があるため、詳しくは触れないが、ぜひNumPyで疑似逆行列を求める`numpy.linalg.pinv`を用いて、以下の計算を試してみてほしい。\n",
    "$$\n"
   ]
  },
  {
   "cell_type": "code",
   "execution_count": 43,
   "metadata": {},
   "outputs": [
    {
     "name": "stdout",
     "output_type": "stream",
     "text": [
      "- pinv(A) @ A\n",
      "[[0.2 0.4]\n",
      " [0.4 0.8]]\n",
      "\n",
      "- A @ pinv(A) @ A\n",
      "[[1. 2.]\n",
      " [2. 4.]]\n"
     ]
    }
   ],
   "source": [
    "# この行列は特異行列\n",
    "A = np.array([[1, 2], [2, 4]], dtype=\"double\")\n",
    "pinvA = np.linalg.pinv(A)\n",
    "print(\"- pinv(A) @ A\")\n",
    "print(pinvA @ A)\n",
    "print(\"\")\n",
    "print(\"- A @ pinv(A) @ A\")\n",
    "print(A @ pinvA @ A)"
   ]
  },
  {
   "cell_type": "markdown",
   "metadata": {},
   "source": [
    "```{admonition} 数値誤差\n",
    "上記の例ではNumPyの関数を用いて行列式や逆行列を求める方法について紹介してきた。前述の通り、行列が正則であれば、`numpy.linalg.inv`で逆行列が求められ、そうでなければ特異行列である旨のエラーメッセージが表示されることを確認したが、実際の数値計算で、入力された行列が正則か特異かを判断するのには若干の問題がある。\n",
    "\n",
    "例えば、以下の行列の行列式を計算してみてほしい。\n",
    "\n",
    "$$\n",
    "\\begin{pmatrix}\n",
    "  1 & 2 & 3 \\\\\n",
    "  100 & 200 & 300 \\\\\n",
    "  10000 & 20000 & 30000\n",
    "\\end{pmatrix}\n",
    "$$\n",
    "\n",
    "説明するまでもなく、上記の行列のランクは1だから、行列式は0になるはずだが...各自で結果を確認してみてほしい。\n",
    "\n",
    "このように実際の数値計算では数学的には特異であるような行列が正則と判断されてしまうことなどがあり、実際の問題で逆行列を計算するときには、注意が必要である。多くの場合は、逆行列の代わりに疑似逆行列を用いることで上記の問題を回避できるが、その場合には疑似逆行列を用いて得られる解が、どのような性質を持つかに留意する必要がある。\n",
    "\n",
    "疑似逆行列を用いる、ということは行列が特異、すなわちランク落ちしている場合であるから、実際の線形方程式を満たす解は無数に存在することになる。疑似逆行列を用いて得られる解は、そのうち、ノルムの大きさ (より正確にはl2ノルムの大きさ)が最小になるものになるので、自身が求めたい解がその解で良いのかは、実際の問題を扱う上では重要だろう。\n",
    "```\n"
   ]
  },
  {
   "cell_type": "markdown",
   "metadata": {},
   "source": [
    "### 線形方程式を解く\n"
   ]
  },
  {
   "cell_type": "markdown",
   "metadata": {},
   "source": [
    "先ほどの説明では、 $\\mathbf{Ax} = \\mathbf{b}$ という線形方程式に対して、逆行列を計算して解 $\\mathbf{x}$ を求める方法について述べた。\n",
    "\n",
    "一方で、この方法は数値計算の側面からは、常に最良のやり方であるとは言い難い。通常、行列のサイズが $N \\times N$ の時に、逆行列を求めるためのアルゴリズムには[Gauss の消去法](https://ja.wikipedia.org/wiki/%E3%82%AC%E3%82%A6%E3%82%B9%E3%81%AE%E6%B6%88%E5%8E%BB%E6%B3%95)などがあり、これらのアルゴリズムの計算量は $O(N^3)$ である。それに加え、逆行列をベクトル $\\mathbf{b}$ に乗ずる操作 (計算量は $O(N^2)$ ) が必要となる。\n",
    "\n",
    "一方で、同様に Gauss の消去法を使うにしても、逆行列を求めるのではなく、線形方程式を直接解くように用いることもできる。この場合も計算量は変わらず $O(N^3)$ なのだが、この場合は、直接的に解となる $\\mathbf{x}$ が得られるため、逆行列をベクトル $\\mathbf{b}$ に乗ずる計算が不要な分、効率が良い。\n",
    "\n",
    "加えて、このような余計な行列計算を減らすことで、**浮動少数の計算による計算誤差を防ぐことができる**ため、より高精度に解が求められる。したがって、逆行列それ自体が不要であるならば、行列分解を用いて効率的に線形問題を解く`numpy.linalg.solve`を使う方がより適切である。\n"
   ]
  },
  {
   "cell_type": "code",
   "execution_count": 44,
   "metadata": {},
   "outputs": [
    {
     "name": "stdout",
     "output_type": "stream",
     "text": [
      "[-1.  1.]\n"
     ]
    }
   ],
   "source": [
    "A = np.array([[1, 2], [3, 4]])\n",
    "b = np.array([1, 1])\n",
    "x = np.linalg.solve(A, b)\n",
    "print(x)"
   ]
  },
  {
   "cell_type": "markdown",
   "metadata": {},
   "source": [
    "また、実用的には $\\mathbf{Ax} = \\mathbf{b}$ という線形方程式で、 $\\mathbf{A}$ は変わらないけれども $\\mathbf{b}$ が異なるような問題を繰り返し解きたい場合というのが多くある。\n",
    "\n",
    "`numpy.linalg.solve`は内部的には $O(N^3)$ の計算量をかけて行列を[LU 分解](https://ja.wikipedia.org/wiki/LU%E5%88%86%E8%A7%A3)した後、分解によって得られた下三角行列と上三角行列に対して線形問題を解く。この際、三角行列を係数に持つ線形方程式を解くための計算量は、一般の行列を係数に持つ線形問題を解くよりも小さく $O(N^2)$ であることに注意してほしい。ならば、何度も `numpy.linalg.solve`の内部で同じ行列に対して、何度も$O(N^3)$の計算量をかけて LU 分解するのは非効率的である。\n",
    "\n",
    "このような場合、一度 LU 分解を計算してしまって、三角行列に対する線形問題を解く、という方法が考えられる。残念ながら、この方法は NumPy には実装されていないが類似ライブラリである SciPy を用いると、以下の形で実現できる。\n"
   ]
  },
  {
   "cell_type": "code",
   "execution_count": 45,
   "metadata": {},
   "outputs": [],
   "source": [
    "import scipy as sp\n",
    "import scipy.linalg"
   ]
  },
  {
   "cell_type": "code",
   "execution_count": 46,
   "metadata": {},
   "outputs": [],
   "source": [
    "A = np.array([[1, 2], [3, 4]])\n",
    "lu, piv = sp.linalg.lu_factor(A)"
   ]
  },
  {
   "cell_type": "markdown",
   "metadata": {},
   "source": [
    "この結果において`lu`は上三角行列とした三角行列を結合した行列であり、`piv`はピボット選択によって生じた行の入れ替わり (連立方程式において方程式の順序を変える操作に対応)を表わす自然数の配列である。ピボット選択については、数値計算の初等的な教科書にも書かれている内容なので、各自、教科書を読むなどして勉強してみてほしい。\n",
    "\n",
    "通常、LU 分解を行うときには、上三角行列、あるいは下三角行列のいずれかの対角成分が全て 1 になるように分解が計算されるため、本来、三角行列が 2 つなら$N(N+1)$要素が必要なところ$N^2$個の要素を 1 つの行列として表わしていることに注意すること。\n"
   ]
  },
  {
   "cell_type": "code",
   "execution_count": 47,
   "metadata": {},
   "outputs": [
    {
     "name": "stdout",
     "output_type": "stream",
     "text": [
      "[[3.         4.        ]\n",
      " [0.33333333 0.66666667]]\n"
     ]
    }
   ],
   "source": [
    "print(lu)"
   ]
  },
  {
   "cell_type": "markdown",
   "metadata": {},
   "source": [
    "この LU 分解の結果を用いて線形問題を解くには`sp.linalg.lu_solve`を用いる。実際のコードは以下の通り。\n"
   ]
  },
  {
   "cell_type": "code",
   "execution_count": 48,
   "metadata": {},
   "outputs": [
    {
     "name": "stdout",
     "output_type": "stream",
     "text": [
      "[-1.  1.]\n"
     ]
    }
   ],
   "source": [
    "b1 = np.array([1, 1])\n",
    "x1 = sp.linalg.lu_solve((lu, piv), b1)\n",
    "print(x1)"
   ]
  },
  {
   "cell_type": "code",
   "execution_count": 49,
   "metadata": {},
   "outputs": [
    {
     "name": "stdout",
     "output_type": "stream",
     "text": [
      "[-2.  2.]\n"
     ]
    }
   ],
   "source": [
    "b2 = np.array([2, 2])\n",
    "x2 = sp.linalg.lu_solve((lu, piv), b2)\n",
    "print(x2)"
   ]
  },
  {
   "cell_type": "markdown",
   "metadata": {},
   "source": [
    "```{admonition} 線形方程式の解法における直接法と反復法\n",
    ":class: note\n",
    "\n",
    "先ほど紹介した`numpy.linalg.solve`はLU分解を用いて線形問題を解いていると説明した。このように行列分解などを用いて、線形問題の解を行列のサイズのみに依存する計算量で得るような解法を**直接法**と呼ぶ。直接法にはLU分解を用いる方法の他、[QR分解](https://ja.wikipedia.org/wiki/QR%E5%88%86%E8%A7%A3)など、別の行列分解を用いる方法がある。\n",
    "\n",
    "一方、ここでは紹介しなかったが、線形問題の両辺に特定の線形代数的操作を施すことで、適当な $\\mathbf{x}$ の初期値を徐々に線形問題の解に反復計算によって近づける方法を**反復法**と呼ぶ。反復法の中で最も単純なものは[Jacobi法](https://ja.wikipedia.org/wiki/%E3%83%A4%E3%82%B3%E3%83%93%E6%B3%95)がある (Jacobi法には固有値を求める手法などもありややこしい...)。Jacobi法は係数行列 $\\mathbf{A}$ の対角成分だけを取りだした対角行列 $\\mathbf{D}$を用いて、 $k$ 回反復時に得られている $\\mathbf{x}^k$ を次の式で $\\mathbf{x}^{k+1}$ に更新する。\n",
    "\n",
    "$$\n",
    "\\mathbf{x}^{k+1} = \\mathbf{D}^{-1} \\left( \\mathbf{b} - (\\mathbf{A} - \\mathbf{D}) \\mathbf{x}^k \\right)\n",
    "$$\n",
    "\n",
    "これ以外にも、Jacobi法を改良したGauss-Seidel法やSOR法がある他、実用的には[共役勾配法](https://ja.wikipedia.org/wiki/%E5%85%B1%E5%BD%B9%E5%8B%BE%E9%85%8D%E6%B3%95) (CG法)と呼ばれる、より収束の早いアルゴリズムが用いられる。最も一般的な共役勾配法は対称正定値行列 (正定値 = 全ての固有値が0より大きい)にしか用いることができないが、これを非対称行列に拡張した双共役勾配法 (BiCG法)など、多くの発展的な手法が存在する。\n",
    "```\n"
   ]
  },
  {
   "cell_type": "markdown",
   "metadata": {},
   "source": [
    "### 行列の固有値・固有ベクトル\n"
   ]
  },
  {
   "cell_type": "markdown",
   "metadata": {},
   "source": [
    "行列の固有値および固有ベクトルは、[主成分分析](https://ja.wikipedia.org/wiki/%E4%B8%BB%E6%88%90%E5%88%86%E5%88%86%E6%9E%90)のような多次元データの分析の他、様々なデータの性質を分析する上で欠かせない情報である。\n",
    "\n",
    "NumPy で行列の固有値ならびに固有ベクトルを求めるには`numpy.linalg.eig`を用いれば良い。\n"
   ]
  },
  {
   "cell_type": "code",
   "execution_count": 50,
   "metadata": {},
   "outputs": [
    {
     "name": "stdout",
     "output_type": "stream",
     "text": [
      "[ 3. -1.]\n",
      "[[ 0.70710678 -0.70710678]\n",
      " [ 0.70710678  0.70710678]]\n"
     ]
    }
   ],
   "source": [
    "A = np.array([[1, 2], [2, 1]], dtype=\"double\")\n",
    "eigval, eigvec = np.linalg.eig(A)\n",
    "print(eigval)\n",
    "print(eigvec)"
   ]
  },
  {
   "cell_type": "markdown",
   "metadata": {},
   "source": [
    "なお、通常、固有値に加えて、固有ベクトルを求めるには追加の計算が必要になるため、固有値だけが必要になる場合には、より高速に動作する関数として`numpy.linalg.eigvals`を使うのが良い。\n",
    "\n",
    "また、上記の例では、あえて実数が固有値、固有ベクトルとなるように実対称行列の固有値・固有ベクトルを求めたが、通常、対称行列、ないし Hermite 行列の固有値・固有ベクトルの計算は非対称、ないし非 Hermite 行列の固有値よりも計算が簡単である。そのため、固有値の計算を行いたい対称が対称行列や Hermite 行列であることが分かっている場合には`numpy.linalg.eigh`や`numpy.linalg.eigvalsh`のように末尾に\"h\"のついている関数を使うと、より効率的である (とは言っても、効果を実感できるのは少なくとも 1000x1000 程度の行列からだろう)。\n",
    "\n",
    "固有値を求めるという問題は、実用的に非常に広い応用を持つため、固有値を求める対象の行列の性質 (対称行列か、密行列か、疎行列か etc.)に応じて、様々なアルゴリズムが提案されている。ここでは、比較的単純なアルゴリズムとして Jacobi 法 (先ほどの線形問題を解く方法とは異なる)と QR 法について紹介する。\n"
   ]
  },
  {
   "cell_type": "markdown",
   "metadata": {},
   "source": [
    "#### Jacobi 法\n"
   ]
  },
  {
   "cell_type": "markdown",
   "metadata": {},
   "source": [
    "**Jacobi 法**は**対称行列**に対するアルゴリズムで、Givens 回転と呼ばれる行列の一部要素だけを変換するような下記の行列 $\\mathbf{G}$ を用いる (値の入っていない箇所の要素は全て 0)。\n",
    "\n",
    "$$\n",
    "\\mathbf{G} = \\begin{pmatrix}\n",
    "  1 &        &             &        &              &        &   \\\\\n",
    "    & \\ddots &             &        &              &        &   \\\\\n",
    "    &        & \\cos \\theta & \\cdots & -\\sin \\theta &        &   \\\\\n",
    "    &        & \\vdots      & \\ddots & \\vdots       &        &   \\\\\n",
    "    &        & \\sin \\theta & \\cdots &  \\cos \\theta &        &   \\\\\n",
    "    &        &             &        &              & \\ddots &   \\\\\n",
    "    &        &             &        &              &        & 1 \\\\\n",
    "\\end{pmatrix}\n",
    "$$\n",
    "\n",
    "このとき、固有値を求めたい行列 $\\mathbf{A}$ の $i$ 行 $j$ 列の要素を $a_{ij}$ と記すことにすると、上記の Givens 回転の回転量 $\\theta$ を\n",
    "\n",
    "$$\n",
    "\\tan 2\\theta = \\frac{-2a_{ij}}{a_{ii} - a_{jj}}\n",
    "$$\n",
    "\n",
    "となるように設定すると、\n",
    "\n",
    "$$\n",
    "\\mathbf{A}' = \\mathbf{G} \\mathbf{A} \\mathbf{G}^\\top\n",
    "$$\n",
    "\n",
    "という変換を施すことで、 $a_{ij} = a_{ji}$ の要素を 0 にすることができる。この操作を行列 $\\mathbf{A}$ の非対角成分のうち最も絶対値が大きい物が十分小さくなるまで繰り返すことで、固有値を対角行列とする行列 $\\pmb{\\Lambda}$ へと $\\mathbf{A}$ を変換することができる。\n",
    "\n",
    "また、Givens 回転行列は直交行列であるため、元の行列 $\\mathbf{A}$ を $\\pmb{\\Lambda}$ に変換する過程で用いた全ての Givens 回転の積として得られる行列の各列が固有ベクトルとなる。\n"
   ]
  },
  {
   "cell_type": "markdown",
   "metadata": {},
   "source": [
    "#### QR 法\n"
   ]
  },
  {
   "cell_type": "markdown",
   "metadata": {},
   "source": [
    "**QR 法**は QR 分解を用いて一般的な行列 (= 非対称行列でもよい)の固有値・固有ベクトルを求めるアルゴリズムで、対象の行列 $\\mathbf{A}$ が、QR 分解によって $\\mathbf{A} = \\mathbf{QR}$ (ただし、Q は直交行列、R は上三角行列)と分解されるとすると、\n",
    "\n",
    "$$\n",
    "\\mathbf{A}' = \\mathbf{Q}^\\top \\mathbf{A} \\mathbf{Q} = \\mathbf{Q}^\\top \\mathbf{Q} \\mathbf{RQ} = \\mathbf{RQ}\n",
    "$$\n",
    "\n",
    "のように行列 $\\mathbf{Q}$ と $\\mathbf{R}$の順序を入れ替えるような操作を繰り返すと、 $\\mathbf{A}$ が徐々に固有値を対角成分に持つような対角行列 $\\pmb{\\Lambda}$ に近づいていく。この際、QR 分解の性質から行列 $\\mathbf{Q}$ は直交行列であるから、上記の変換の過程で得られる全ての直交行列 $\\mathbf{Q}$ の積を取ることで、固有ベクトルを各列に持つような直交行列を得ることができる。\n"
   ]
  },
  {
   "cell_type": "markdown",
   "metadata": {},
   "source": [
    "## 疎行列\n"
   ]
  },
  {
   "cell_type": "markdown",
   "metadata": {},
   "source": [
    "疎行列とは、行列の要素のほとんどが 0 であるような行列を指す。計算機科学的には、$N \\times N$の行列同士のかけ算には単純には$O(N^3)$の計算量がかかるが、ほとんどの要素が 0 であるのなら、その要素とのかけ算は無視できるので、計算を効率化できる。\n",
    "\n",
    "疎行列の表し方にはいくつかの形式があるが、代表的なものは CSR(=Compressed Sparse Row)形式と CSC(=Compressed Sparse Column)形式の 2 つである。前者の CSR 形式は、各列が非ゼロ要素の配列として表わされ、そのの配列として行列が表わされている。一方、後者の CSC 形式は各行が非ゼロ要素の配列で表わされ、その配列として行列が表わされている。\n",
    "\n",
    "一例として\n",
    "\n",
    "$$\n",
    "\\begin{pmatrix}\n",
    "1 & 0 & 0 \\\\\n",
    "0 & 2 & 3 \\\\\n",
    "4 & 0 & 5\n",
    "\\end{pmatrix}\n",
    "$$\n",
    "\n",
    "のような行列であれば、CSR 方式では\n",
    "\n",
    "```python\n",
    "csr = [\n",
    "    [(0, 1.0), (2, 4.0)],  # 1列目\n",
    "    [(1, 2.0)],  # 2列目\n",
    "    [(1, 3.0), (2, 5.0)],  # 3列目\n",
    "]\n",
    "```\n",
    "\n",
    "のような形で、CSC 方式では、\n",
    "\n",
    "```python\n",
    "csc = [\n",
    "    [(0, 1.0)],  # 1行目\n",
    "    [(1, 2.0), (2, 3.0)],  # 2行目\n",
    "    [(0, 4.0), (2, 5.0)],  # 3行目\n",
    "]\n",
    "```\n",
    "\n",
    "のような形で表せる。\n"
   ]
  },
  {
   "cell_type": "markdown",
   "metadata": {},
   "source": [
    "疎行列を扱うには SciPy の`scipy.sparse`モジュールを用いる。このモジュールには`csr_matrix`や`csc_matrix`という関数が用意されており、それぞれ CSR 方式・CSC 方式の疎行列を作成してくれる。作成方法は共通で、非ゼロ要素の行番号の配列`rows`、列番号の配列`cols`、そして非ゼロ要素そのものの配列`values`を引数として以下のように与えれば良い。\n"
   ]
  },
  {
   "cell_type": "code",
   "execution_count": 51,
   "metadata": {},
   "outputs": [
    {
     "name": "stdout",
     "output_type": "stream",
     "text": [
      "[[1. 0. 0.]\n",
      " [0. 2. 3.]\n",
      " [4. 0. 5.]]\n"
     ]
    }
   ],
   "source": [
    "import scipy as sp\n",
    "import scipy.sparse\n",
    "\n",
    "rows = [0, 1, 1, 2, 2]\n",
    "cols = [0, 1, 2, 0, 2]\n",
    "values = [1.0, 2.0, 3.0, 4.0, 5.0]\n",
    "m = sp.sparse.csr_matrix((values, (rows, cols)))\n",
    "\n",
    "print(m.todense())  # 密行列として要素を表示"
   ]
  },
  {
   "cell_type": "markdown",
   "metadata": {},
   "source": [
    "疎行列の場合にも`sp.sparse`や`sp.sparse.linalg`モジュールの関数を使うことで、行列に対する様々な演算ができるので、ぜひどのような計算ができるか各自で調べて見てほしい。\n"
   ]
  },
  {
   "cell_type": "markdown",
   "metadata": {},
   "source": [
    "## 練習問題\n"
   ]
  },
  {
   "cell_type": "markdown",
   "metadata": {},
   "source": [
    "1. 今回の講義で紹介したサンプルコードを踏まえて、正則行列に対する逆行列と、特異行列に対する疑似逆行列の違いと共通点について述べよ。\n",
    "2. 疑似逆行列を用いて、{eq}`eq:least-squares`を解く場合、$\\mathbf{Ax} = \\mathbf{b}$という線形問題が、不良設定 (未知数の数が式の数より多い)のか、過剰拘束 (未知数の数が式の数より少ない)のかによって、得られる解の意味が異なる。それぞれは、どのような解を与えるのだろうか。\n",
    "3. 逆行列を`numpy.linalg.inv`によって求めることで線形問題を解く方法と、`numpy.linalg.solve`を用いて LU 分解により解を求める方法で計算精度がどの程度変化するかを確かめてみよ。なお、より結果を分かりやすくするために`numpy.random.random`を用いて 100x100 および 100x1 程度の大きめのサイズで $\\mathbf{A}$, $\\mathbf{b}$ を作成し、精度については $\\| \\mathbf{A} \\mathbf{x} - \\mathbf{b} \\|^2$ の大きさを使って調べること。\n",
    "4. 前述の(反復計算による線形問題解法としての)Jacobi 法により、正しく線形問題が解ける(= `numpy.linalg.solve`と解が一致)ことを調べよ。なお、ヤコビ法は優対角行列と呼ばれる対角成分が、各列の対角成分以外の成分の総和より大きい行列にしか用いることができないので、そのような行列を各自適当に設定すること。\n",
    "5. NumPy には多項方程式を解くための関数として`numpy.roots`という関数が用意されている ([参考](https://numpy.org/doc/stable/reference/generated/numpy.roots.html)、特性方程式の係数は手計算で求めること)。この関数を用いて、以下の行列について、特性方程式を解くことで得られる固有値と、`numpy.linalg.eig`を解くことで得られる固有値が一致することを調べよ。\n",
    "\n",
    "$$\n",
    "\\mathbf{A} = \\begin{pmatrix}\n",
    "  1 & 2 & 3 \\\\\n",
    "  2 & 2 & 3 \\\\\n",
    "  3 & 3 & 3\n",
    "\\end{pmatrix}\n",
    "$$\n",
    "\n",
    "6. 上記の 3x3 行列 $\\mathbf{A}$ に対して(固有値を求めるアルゴリズムとしての)Jacobi 法ならびに QR 法を用いて正しく固有値が求まる (= `numpy.linalg.eig`と同じ結果が得られる)ことを確かめよ。\n"
   ]
  },
  {
   "cell_type": "code",
   "execution_count": null,
   "metadata": {},
   "outputs": [],
   "source": []
  }
 ],
 "metadata": {
  "kernelspec": {
   "display_name": "Python 3 (ipykernel)",
   "language": "python",
   "name": "python3"
  },
  "language_info": {
   "codemirror_mode": {
    "name": "ipython",
    "version": 3
   },
   "file_extension": ".py",
   "mimetype": "text/x-python",
   "name": "python",
   "nbconvert_exporter": "python",
   "pygments_lexer": "ipython3",
   "version": "3.10.14"
  }
 },
 "nbformat": 4,
 "nbformat_minor": 4
}

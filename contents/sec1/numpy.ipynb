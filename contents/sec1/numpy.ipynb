{
 "cells": [
  {
   "cell_type": "markdown",
   "metadata": {
    "editable": true,
    "slideshow": {
     "slide_type": ""
    },
    "tags": []
   },
   "source": [
    "(sec:numpy)=\n",
    "# NumPyの基本"
   ]
  },
  {
   "cell_type": "markdown",
   "metadata": {
    "editable": true,
    "slideshow": {
     "slide_type": ""
    },
    "tags": []
   },
   "source": [
    "NumPyは一口に言えば、多次元の配列で表わされるデータ (例えば音声なら1次元の配列、画像なら2次元の配列)を様々な線形代数的な演算によって扱いやすくするためのライブラリといえる。まずは、Pythonの配列とNumPyの配列の違いについて見てみたい。"
   ]
  },
  {
   "cell_type": "markdown",
   "metadata": {},
   "source": [
    "Pythonで配列を作成するには`[ ]`で数字をコンマ区切りにすれば良く、"
   ]
  },
  {
   "cell_type": "code",
   "execution_count": 3,
   "metadata": {},
   "outputs": [],
   "source": [
    "numbers = [1, 2, 3]"
   ]
  },
  {
   "cell_type": "markdown",
   "metadata": {},
   "source": [
    "と書く。この時、aの各要素を2倍にしたいとすると、直感的には"
   ]
  },
  {
   "cell_type": "code",
   "execution_count": 4,
   "metadata": {},
   "outputs": [
    {
     "data": {
      "text/plain": [
       "[1, 2, 3, 1, 2, 3]"
      ]
     },
     "execution_count": 4,
     "metadata": {},
     "output_type": "execute_result"
    }
   ],
   "source": [
    "numbers * 2"
   ]
  },
  {
   "cell_type": "markdown",
   "metadata": {},
   "source": [
    "とすれば良さそうだが、これは"
   ]
  },
  {
   "cell_type": "code",
   "execution_count": 5,
   "metadata": {},
   "outputs": [
    {
     "data": {
      "text/plain": [
       "[1, 2, 3, 1, 2, 3]"
      ]
     },
     "execution_count": 5,
     "metadata": {},
     "output_type": "execute_result"
    }
   ],
   "source": [
    "numbers = [1, 2, 3]\n",
    "numbers * 2"
   ]
  },
  {
   "cell_type": "markdown",
   "metadata": {},
   "source": [
    "のように配列が2回繰り返されたものとなってしまう。Pythonの配列でこれを実現するには*リスト内包表記*と呼ばれる記法を使って"
   ]
  },
  {
   "cell_type": "code",
   "execution_count": 6,
   "metadata": {},
   "outputs": [
    {
     "data": {
      "text/plain": [
       "[2, 4, 6]"
      ]
     },
     "execution_count": 6,
     "metadata": {},
     "output_type": "execute_result"
    }
   ],
   "source": [
    "[x * 2 for x in numbers]"
   ]
  },
  {
   "cell_type": "markdown",
   "metadata": {},
   "source": [
    "と書く必要がある。もちろん、これでも必要十分ではあるのだが、気持ちとしては、より直感的な記述で書きたいと思うのが人情という物だ。そこでNumPyの登場である。"
   ]
  },
  {
   "cell_type": "markdown",
   "metadata": {},
   "source": [
    "NumPyはPythonの配列を引数にとる関数`numpy.array`を用いて、"
   ]
  },
  {
   "cell_type": "code",
   "execution_count": 7,
   "metadata": {},
   "outputs": [],
   "source": [
    "import numpy as np\n",
    "\n",
    "numbers = np.array([1, 2, 3])"
   ]
  },
  {
   "cell_type": "markdown",
   "metadata": {},
   "source": [
    " と書くことで作成できる。NumPyの配列であれば、下記のように要素を2倍にする計算を、より直感的に行うことができる。"
   ]
  },
  {
   "cell_type": "code",
   "execution_count": 8,
   "metadata": {},
   "outputs": [
    {
     "data": {
      "text/plain": [
       "array([2, 4, 6])"
      ]
     },
     "execution_count": 8,
     "metadata": {},
     "output_type": "execute_result"
    }
   ],
   "source": [
    "numbers * 2"
   ]
  },
  {
   "cell_type": "markdown",
   "metadata": {},
   "source": [
    "## NumPyの配列操作"
   ]
  },
  {
   "cell_type": "markdown",
   "metadata": {},
   "source": [
    "### 多次元配列を作る"
   ]
  },
  {
   "cell_type": "markdown",
   "metadata": {},
   "source": [
    "Pythonの配列で多次元配列を作るには、"
   ]
  },
  {
   "cell_type": "code",
   "execution_count": 9,
   "metadata": {},
   "outputs": [],
   "source": [
    "numbers = [[1, 2], [3, 4]]"
   ]
  },
  {
   "cell_type": "markdown",
   "metadata": {},
   "source": [
    "のように`[ ]`を二重にすれば良かった。また、全ての要素が1の10x10の二次元配列を作りたい場合には、リスト内包表記を用いて"
   ]
  },
  {
   "cell_type": "code",
   "execution_count": 10,
   "metadata": {},
   "outputs": [],
   "source": [
    "ones = [[1] * 10 for _ in range(10)]"
   ]
  },
  {
   "cell_type": "markdown",
   "metadata": {},
   "source": [
    "のように書く必要がある。NumPyで同様の配列を作る場合、先ほど紹介した方法で`numpy.array`の引数にPythonの多次元配列を代入すれば良い。"
   ]
  },
  {
   "cell_type": "code",
   "execution_count": 11,
   "metadata": {},
   "outputs": [],
   "source": [
    "numbers = [[1, 2], [3, 4]]\n",
    "numbers_np = np.array(numbers)"
   ]
  },
  {
   "cell_type": "markdown",
   "metadata": {},
   "source": [
    "また、NumPyにはいくつかの特殊な配列を作る関数が用意されていて、全ての要素が0や全ての要素が1、または特定の要素を持つ配列は次のように作成できる。"
   ]
  },
  {
   "cell_type": "code",
   "execution_count": 12,
   "metadata": {},
   "outputs": [],
   "source": [
    "zeros = np.zeros((10, 10))  # 全ての要素が0の10x10の二次元配列\n",
    "ones = np.ones((10, 10))  # 全ての要素が1の10x10の二次元配列\n",
    "twos = np.full((10, 10), 2)  # 全ての要素が2の10x10の二次元配列"
   ]
  },
  {
   "cell_type": "markdown",
   "metadata": {},
   "source": [
    "上記の関数を使う場合、関数の引数がPythonの配列ではなく、多次元配列の大きさを表す**タプル**になるので注意すること。"
   ]
  },
  {
   "cell_type": "markdown",
   "metadata": {},
   "source": [
    "### 特殊な配列の初期化"
   ]
  },
  {
   "cell_type": "markdown",
   "metadata": {},
   "source": [
    "NumPyでは直接、PythonのListを指定して配列を初期化する以外に、いくつかの便利な配列初期化方法が用意されている。ここでは、特によく用いるものをいくつか紹介する。\n",
    "\n",
    "**同じ値での初期化**"
   ]
  },
  {
   "cell_type": "code",
   "execution_count": 13,
   "metadata": {},
   "outputs": [
    {
     "name": "stdout",
     "output_type": "stream",
     "text": [
      "[0. 0. 0.]\n",
      "[1. 1. 1.]\n",
      "[10. 10. 10.]\n"
     ]
    }
   ],
   "source": [
    "print(np.zeros((3)))  # 全て0で初期化\n",
    "print(np.ones((3)))  # 全て1で初期化\n",
    "print(np.full((3), 10.0))  # 全て同じ値 (10.0)で初期化"
   ]
  },
  {
   "cell_type": "markdown",
   "metadata": {},
   "source": [
    "**等差数列・等比数列による初期化**\n",
    "\n",
    "Pythonに標準で用意されている`range(10)`などと同様の文法で`np.arange`を使うことができる。"
   ]
  },
  {
   "cell_type": "code",
   "execution_count": 17,
   "metadata": {},
   "outputs": [
    {
     "name": "stdout",
     "output_type": "stream",
     "text": [
      "[0 1 2 3 4 5 6 7 8 9]\n",
      "[5 6 7 8 9]\n",
      "[0 2 4 6 8]\n",
      "[9 8 7 6 5 4 3 2 1 0]\n"
     ]
    }
   ],
   "source": [
    "print(np.arange(10))  # [0, 10)について1刻み\n",
    "print(np.arange(5, 10))  # [5, 10)について1刻み\n",
    "print(np.arange(0, 10, 2))  # [0, 10)について2刻み\n",
    "print(np.arange(9, -1, -1))  # 9以下かつ-1より大きい整数を列挙"
   ]
  },
  {
   "cell_type": "markdown",
   "metadata": {},
   "source": [
    "また、np.linspaceを使うことで、上限と下限の間を固定の数で分割した等差数列を得ることもできる。このとき、上端を含むか、含まないかを`endpoint`引数により指定することもできる(初期値は`True`)。"
   ]
  },
  {
   "cell_type": "code",
   "execution_count": 21,
   "metadata": {},
   "outputs": [
    {
     "name": "stdout",
     "output_type": "stream",
     "text": [
      "[ 0.   2.5  5.   7.5 10. ]\n",
      "[0. 2. 4. 6. 8.]\n"
     ]
    }
   ],
   "source": [
    "print(np.linspace(0, 10, 5))  # 両端点を含み0.0と10.0の間を5分割\n",
    "print(np.linspace(0, 10, 5, endpoint=False)) # 上端を含まず、0.0と10.0の間を5分割"
   ]
  },
  {
   "cell_type": "markdown",
   "metadata": {},
   "source": [
    "同様にして、`np.geomspace`を用いると、上限と下限を指定した上で、固定の項数を持つ等比数列を得ることもできる。"
   ]
  },
  {
   "cell_type": "code",
   "execution_count": 28,
   "metadata": {},
   "outputs": [
    {
     "name": "stdout",
     "output_type": "stream",
     "text": [
      "[ 1.          2.15443469  4.64158883 10.        ]\n",
      "[0.         0.76752836 1.53505673 2.30258509]\n"
     ]
    }
   ],
   "source": [
    "arr = np.geomspace(1, 10, 4)  # を初項とし、10で終わる5項の等比数列\n",
    "print(arr)\n",
    "print(np.log(arr))  # 対数を取ると等差数列になっている"
   ]
  },
  {
   "cell_type": "markdown",
   "metadata": {},
   "source": [
    "`np.geomspace`と類似した物として`np.logspace`もあり、`base`を基数とするべき乗の上付き添え字が等差数列になるような、等比数列を作成する。"
   ]
  },
  {
   "cell_type": "code",
   "execution_count": 30,
   "metadata": {},
   "outputs": [
    {
     "name": "stdout",
     "output_type": "stream",
     "text": [
      "[   2.   16.  128. 1024.]\n",
      "[ 1.  4.  7. 10.]\n"
     ]
    }
   ],
   "source": [
    "arr = np.logspace(1, 10, 4, base=2)  # 2^1から2^10までを4項で結ぶ等比数列\n",
    "print(arr)\n",
    "print(np.log2(arr))  # log2を取ると、等差数列になっている"
   ]
  },
  {
   "cell_type": "markdown",
   "metadata": {},
   "source": [
    "**二次元座標系の作成**\n",
    "\n",
    "特に画像を取り扱う場合など、画素の次元を取得するために、二次元の離散的な座標系を作成したいことがよくある。例えば`ix`は`[[1, 2, ..., 10], ..., [1, 2, ..., 10]]`、`iy`は`[1, 1, ..., 1], [2, 2, ...., 2], ..., [10, 10, ..., 10]]`といった形だ。このような場合には`[1, 2, ..., 10]`という配列を作成した上で`np.meshgrid`を用いると良い。"
   ]
  },
  {
   "cell_type": "code",
   "execution_count": 31,
   "metadata": {},
   "outputs": [
    {
     "name": "stdout",
     "output_type": "stream",
     "text": [
      "[[0 1 2]\n",
      " [0 1 2]\n",
      " [0 1 2]\n",
      " [0 1 2]\n",
      " [0 1 2]]\n",
      "[[0 0 0]\n",
      " [1 1 1]\n",
      " [2 2 2]\n",
      " [3 3 3]\n",
      " [4 4 4]]\n"
     ]
    }
   ],
   "source": [
    "ix = np.arange(0, 3)\n",
    "iy = np.arange(0, 5)\n",
    "ix, iy = np.meshgrid(ix, iy)  # ix, iyの順序に注意\n",
    "print(ix)\n",
    "print(iy)"
   ]
  },
  {
   "cell_type": "markdown",
   "metadata": {},
   "source": [
    "また、NumPyには`np.mgrid`という変数が用意されていて、これはすでに全ての整数において`meshgrid`を用いたような二次元配列(のようなオブジェクト)となっていて、配列の範囲を指定することで`np.arange`を用いることなく二次元座標系を作成することができる。"
   ]
  },
  {
   "cell_type": "code",
   "execution_count": 34,
   "metadata": {},
   "outputs": [
    {
     "name": "stdout",
     "output_type": "stream",
     "text": [
      "[[0 0 0]\n",
      " [1 1 1]\n",
      " [2 2 2]\n",
      " [3 3 3]\n",
      " [4 4 4]]\n",
      "[[0 1 2]\n",
      " [0 1 2]\n",
      " [0 1 2]\n",
      " [0 1 2]\n",
      " [0 1 2]]\n"
     ]
    }
   ],
   "source": [
    "ix, iy = np.mgrid[:5, :3]  # 軸の順序に注意\n",
    "print(ix)\n",
    "print(iy)"
   ]
  },
  {
   "cell_type": "markdown",
   "metadata": {},
   "source": [
    "### 配列の情報"
   ]
  },
  {
   "cell_type": "markdown",
   "metadata": {},
   "source": [
    "上記のNumPyの配列をIPython上で表示すると"
   ]
  },
  {
   "cell_type": "code",
   "execution_count": 11,
   "metadata": {},
   "outputs": [
    {
     "name": "stdout",
     "output_type": "stream",
     "text": [
      "[1 2 3]\n"
     ]
    }
   ],
   "source": [
    "numbers = np.array([1, 2, 3])\n",
    "print(numbers)"
   ]
  },
  {
   "cell_type": "markdown",
   "metadata": {},
   "source": [
    "のように表示されるが、この実態は`int32`型すなわち32bit符号付き整数となっている。これを調べるには，配列の`dtype`フィールドにアクセスすれば良く"
   ]
  },
  {
   "cell_type": "code",
   "execution_count": 12,
   "metadata": {},
   "outputs": [
    {
     "data": {
      "text/plain": [
       "dtype('int64')"
      ]
     },
     "execution_count": 12,
     "metadata": {},
     "output_type": "execute_result"
    }
   ],
   "source": [
    "numbers.dtype"
   ]
  },
  {
   "cell_type": "markdown",
   "metadata": {},
   "source": [
    "のような出力が得られる。\n",
    "\n",
    "また、配列の大きさは`shape`フィールドに、何次元の多次元配列なのかは`ndim`フィールドにアクセスすることで調べることができる。"
   ]
  },
  {
   "cell_type": "code",
   "execution_count": 13,
   "metadata": {},
   "outputs": [
    {
     "data": {
      "text/plain": [
       "(4, 5, 6)"
      ]
     },
     "execution_count": 13,
     "metadata": {},
     "output_type": "execute_result"
    }
   ],
   "source": [
    "ones = np.ones((4, 5, 6))\n",
    "ones.shape"
   ]
  },
  {
   "cell_type": "code",
   "execution_count": 14,
   "metadata": {},
   "outputs": [
    {
     "data": {
      "text/plain": [
       "3"
      ]
     },
     "execution_count": 14,
     "metadata": {},
     "output_type": "execute_result"
    }
   ],
   "source": [
    "ones.ndim"
   ]
  },
  {
   "cell_type": "markdown",
   "metadata": {},
   "source": [
    "また、始めから配列要素の型を指定して、"
   ]
  },
  {
   "cell_type": "code",
   "execution_count": 15,
   "metadata": {},
   "outputs": [],
   "source": [
    "numbers = np.array([1, 2, 3], dtype=\"float32\")"
   ]
  },
  {
   "cell_type": "markdown",
   "metadata": {},
   "source": [
    "のようにすることもできる。上記の例では、配列内の各要素が`float32`型、すなわち32bitの単精度浮動小数で表わされる。NumPyで使える配列の型には、この他にも`int8` / `uint8` (それぞれ8bit符号あり、符号なし整数)以下、`int16`、`int32`、`int64`が符号付き整数 (それぞれに符号なし整数である`uint..`が存在)の他、64bit倍精度浮動小数として`double`、また複素数を表わす`complex64` (実部と虚部がそれぞれ32bit単精度浮動小数)や`complex128` (実部と虚部がそれぞれ64bit浮動小数)などがある。\n",
    "\n",
    "最初に異なる型で宣言した配列を途中から別の型に変更したい場合には`astype`メソッドを使って、"
   ]
  },
  {
   "cell_type": "code",
   "execution_count": 16,
   "metadata": {},
   "outputs": [],
   "source": [
    "numbers = np.array([1, 2, 3])  # int32型\n",
    "numbers = numbers.astype(\"float32\")  # 型をfloat32に変更"
   ]
  },
  {
   "cell_type": "markdown",
   "metadata": {
    "editable": true,
    "slideshow": {
     "slide_type": ""
    },
    "tags": []
   },
   "source": [
    "のようにすることで実現できる。"
   ]
  },
  {
   "cell_type": "markdown",
   "metadata": {
    "editable": true,
    "slideshow": {
     "slide_type": ""
    },
    "tags": []
   },
   "source": [
    "````{admonition} オブジェクト指向型言語の用語\n",
    ":class: note\n",
    "\n",
    "Pythonはプログラミング言語の中ではオブジェクト指向型の言語に分類される (他には手続き型や関数型などがある)。オブジェクト指向型言語では、実世界のモノをプログラムにより表現するための仕組みとしてモノ(= オブジェクト)を「クラス」という概念で表わす。ここでは、詳しい明言を避けるが、Pythonのクラスとは以下のようなものだ。\n",
    "\n",
    "```python\n",
    "class Human(object):\n",
    "  def __init__(self, name, age):\n",
    "    self.name = name\n",
    "    self.age = age\n",
    "\n",
    "  def intro(self):\n",
    "    print('Hi, my name is %s. I\\'m %d years old.' % (self.name, self.age))\n",
    "```\n",
    "\n",
    "このようなクラスにおいて、クラスが保持する変数 (= `self.name`や`self.age`)のことを**パラメータ**や**フィールド**と呼び、クラスが備える関数(= `intro`)のことを**メソッド**と呼ぶ。\n",
    "\n",
    "また、上記のクラスを用いて、実際の`Human`を作ること、すなわち\n",
    "\n",
    "```python\n",
    "taro = Human('Taro', 22)\n",
    "```\n",
    "\n",
    "という処理を**インスタンス化**と呼ぶ。これらの用語はPythonに限らず、オブジェクト指向型言語の基本用語なので覚えておくこと。\n",
    "````"
   ]
  },
  {
   "cell_type": "markdown",
   "metadata": {},
   "source": [
    "### 配列要素へのアクセス"
   ]
  },
  {
   "cell_type": "markdown",
   "metadata": {},
   "source": [
    "通常、Pythonで一次元配列、二次元配列の要素にアクセスするには\n",
    "```python\n",
    "print(arr1d[i])\n",
    "print(arr2d[i][j])\n",
    "```\n",
    "のように要素を指定する。特に二次元配列に要素を指定するときには`[i][j]`のように`[ ]`を2つ使用して要素のインデックスを指定する。\n",
    "\n",
    "一方で、NumPyを使う場合、一次元配列、二次元配列の要素へのアクセス方法は\n",
    "```python\n",
    "print(arr1d[i])\n",
    "print(arr2d[i, j])\n",
    "```\n",
    "のようになり、特に二次元配列において、より簡素な表記で要素へのアクセスが可能となっている。\n",
    "\n",
    "また、通常のPythonと同様に`[:]`を指定することで、その次元の全ての要素を配列として取り出すことができる。例えば、以下のような使い方ができる。"
   ]
  },
  {
   "cell_type": "code",
   "execution_count": 17,
   "metadata": {},
   "outputs": [
    {
     "name": "stdout",
     "output_type": "stream",
     "text": [
      "0th column: [1 3]\n",
      "1st row: [3 4]\n"
     ]
    }
   ],
   "source": [
    "arr2d = np.array([[1, 2], [3, 4]])\n",
    "print(\"0th column:\", arr2d[:, 0])\n",
    "print(\"1st row:\", arr2d[1, :])"
   ]
  },
  {
   "cell_type": "markdown",
   "metadata": {},
   "source": [
    "配列要素の書き換えも、同様に可能で、特に`[:]`を指定した場合には、その部分配列の全ての要素を書き換えることができる。"
   ]
  },
  {
   "cell_type": "code",
   "execution_count": 19,
   "metadata": {},
   "outputs": [
    {
     "name": "stdout",
     "output_type": "stream",
     "text": [
      "[[2 2]\n",
      " [3 4]]\n"
     ]
    }
   ],
   "source": [
    "# 例1: 単一要素の書き換え\n",
    "arr2d = np.array([[1, 2], [3, 4]])\n",
    "arr2d[0, 0] = 2\n",
    "print(arr2d)"
   ]
  },
  {
   "cell_type": "code",
   "execution_count": 20,
   "metadata": {},
   "outputs": [
    {
     "name": "stdout",
     "output_type": "stream",
     "text": [
      "[[10 10]\n",
      " [ 3  4]]\n"
     ]
    }
   ],
   "source": [
    "# 例2: 部分配列の書き換え\n",
    "arr2d = np.array([[1, 2], [3, 4]])\n",
    "arr2d[0, :] = 10\n",
    "print(arr2d)"
   ]
  },
  {
   "cell_type": "markdown",
   "metadata": {},
   "source": [
    "### 配列の変形"
   ]
  },
  {
   "cell_type": "markdown",
   "metadata": {},
   "source": [
    "NumPyでは`reshape`を用いることで、配列の形を変更することもできる。例えば2x2の二次元配列を4要素の一次元配列に変形する場合、以下のように`reshape`を利用する。"
   ]
  },
  {
   "cell_type": "code",
   "execution_count": 21,
   "metadata": {},
   "outputs": [
    {
     "name": "stdout",
     "output_type": "stream",
     "text": [
      "[1 2 3 4]\n"
     ]
    }
   ],
   "source": [
    "arr2d = np.array([[1, 2], [3, 4]])\n",
    "arr1d = arr2d.reshape((4))\n",
    "print(arr1d)"
   ]
  },
  {
   "cell_type": "markdown",
   "metadata": {},
   "source": [
    "また、変形後の大きさに`-1`を指定すると、その次元に限り、他の次元から自動的に要素数を計算してくれる。"
   ]
  },
  {
   "cell_type": "code",
   "execution_count": 23,
   "metadata": {},
   "outputs": [
    {
     "name": "stdout",
     "output_type": "stream",
     "text": [
      "Before:\n",
      " [[1 2 3]\n",
      " [4 5 6]]\n",
      "After:\n",
      " [[1 2]\n",
      " [3 4]\n",
      " [5 6]]\n"
     ]
    }
   ],
   "source": [
    "arr2x3 = np.array([[1, 2, 3], [4, 5, 6]])\n",
    "print(\"Before:\\n\", arr2x3)\n",
    "arr3x2 = arr2x3.reshape((3, -1))\n",
    "print(\"After:\\n\", arr3x2)"
   ]
  },
  {
   "cell_type": "markdown",
   "metadata": {},
   "source": [
    "これを用いると、一次元配列への変換も、より容易に書くことができる。なお、一次元配列に変換する操作に限っては、`flatten`や`ravel`といった関数を使用する方法もある。"
   ]
  },
  {
   "cell_type": "code",
   "execution_count": 24,
   "metadata": {},
   "outputs": [
    {
     "name": "stdout",
     "output_type": "stream",
     "text": [
      "reshape: [1 2 3 4]\n",
      "flatten: [1 2 3 4]\n",
      "ravel: [1 2 3 4]\n"
     ]
    }
   ],
   "source": [
    "arr2d = np.array([[1, 2], [3, 4]])\n",
    "print(\"reshape:\", arr2d.reshape((-1)))\n",
    "print(\"flatten:\", arr2d.flatten())\n",
    "print(\"ravel:\", arr2d.ravel())"
   ]
  },
  {
   "cell_type": "markdown",
   "metadata": {},
   "source": [
    "````{admonition} flattenとravelの違い\n",
    ":class: note\n",
    "\n",
    "上記の通り、flattenとravelはほとんど同じ機能を提供するが、得られる戻り値が、元の配列をコピーした「別の実態」なのか、それとも、単に元の配列の要素へのアクセスを一次元配列的にできるようにした「同じ実態」なのかが異なる。\n",
    "\n",
    "結論から言えば、`flatten`は別の実態を、reshapeとravelは「可能な限り」同じ実態を返す。従って、要素の書き換えを行う場合には、注意が必要だ。以下のコードで違いを確認してほしい。\n",
    "````"
   ]
  },
  {
   "cell_type": "code",
   "execution_count": 50,
   "metadata": {},
   "outputs": [
    {
     "name": "stdout",
     "output_type": "stream",
     "text": [
      "reshape: [2 2 3 4]\n",
      "flatten: [1 2 3 4]\n",
      "ravel: [2 2 3 4]\n"
     ]
    }
   ],
   "source": [
    "arr2d = np.array([[1, 2], [3, 4]])\n",
    "arr1d_rs = arr2d.reshape((-1))\n",
    "arr1d_fl = arr2d.flatten()\n",
    "arr1d_rv = arr2d.ravel()\n",
    "arr2d[0, 0] = 2\n",
    "print(\"reshape:\", arr1d_rs)\n",
    "print(\"flatten:\", arr1d_fl)\n",
    "print(\"ravel:\", arr1d_rv)"
   ]
  },
  {
   "cell_type": "markdown",
   "metadata": {},
   "source": [
    "---\n",
    "\n",
    "また、NumPyの配列は、次元を増やすことも可能で、例えば2x2の二次元配列を2x1x2の三次元配列にしたりできる。これには`reshape`を使うことができるほか、新しく追加する次元に対応する箇所に`None`あるには`np.newaxis`と書くことで次元を追加できる。"
   ]
  },
  {
   "cell_type": "code",
   "execution_count": 51,
   "metadata": {},
   "outputs": [
    {
     "name": "stdout",
     "output_type": "stream",
     "text": [
      "reshape: (2, 1, 2)\n",
      "None: (2, 1, 2)\n",
      "newaxis (2, 1, 2)\n"
     ]
    }
   ],
   "source": [
    "arr2d = np.array([[1, 2], [3, 4]])\n",
    "print(\"reshape:\", arr2d.reshape((2, -1, 2)).shape)\n",
    "print(\"None:\", arr2d[:, None].shape)\n",
    "print(\"newaxis\", arr2d[:, np.newaxis].shape)"
   ]
  },
  {
   "cell_type": "markdown",
   "metadata": {
    "editable": true,
    "slideshow": {
     "slide_type": ""
    },
    "tags": []
   },
   "source": [
    "## NumPyを用いた線形代数"
   ]
  },
  {
   "cell_type": "markdown",
   "metadata": {
    "editable": true,
    "slideshow": {
     "slide_type": ""
    },
    "tags": []
   },
   "source": [
    "### スカラに対する演算"
   ]
  },
  {
   "cell_type": "markdown",
   "metadata": {
    "editable": true,
    "slideshow": {
     "slide_type": ""
    },
    "tags": []
   },
   "source": [
    "ベクトルや行列に対して、スカラを四則演算すると、要素ごとに同じ計算が行われる。例えば、"
   ]
  },
  {
   "cell_type": "code",
   "execution_count": 25,
   "metadata": {},
   "outputs": [
    {
     "name": "stdout",
     "output_type": "stream",
     "text": [
      "[2 3]\n"
     ]
    }
   ],
   "source": [
    "a = np.array([1, 2])\n",
    "print(a + 1)  # array([2, 3])"
   ]
  },
  {
   "cell_type": "markdown",
   "metadata": {},
   "source": [
    "の例では、aの各要素に1が足し算されていることが分かる。これは、他の四則演算に対しても同様である。"
   ]
  },
  {
   "cell_type": "markdown",
   "metadata": {},
   "source": [
    "### 要素ごとの四則演算"
   ]
  },
  {
   "cell_type": "markdown",
   "metadata": {},
   "source": [
    "同じ要素数を持つベクトル同士や行列同士を四則演算すると、要素ごとの演算が行われる。例えば、"
   ]
  },
  {
   "cell_type": "code",
   "execution_count": 26,
   "metadata": {},
   "outputs": [
    {
     "name": "stdout",
     "output_type": "stream",
     "text": [
      "[4 6]\n"
     ]
    }
   ],
   "source": [
    "a = np.array([1, 2])\n",
    "b = np.array([3, 4])\n",
    "print(a + b)  # array([4, 6])"
   ]
  },
  {
   "cell_type": "markdown",
   "metadata": {},
   "source": [
    "の例では、aとbの各要素に対して、和が取られていることが分かる。これは、他の四則演算に対しても同様である。"
   ]
  },
  {
   "cell_type": "markdown",
   "metadata": {},
   "source": [
    "### 各要素への関数適用"
   ]
  },
  {
   "cell_type": "markdown",
   "metadata": {},
   "source": [
    "NumPyには`numpy.exp`などのように、ベクトル・行列の各要素に対して、特定のスカラに対する演算を行う関数が用意されている。一例として、`numpy.sin`、`numpy.cos`、`numpy.exp`、`numpy.log`などがあり、高校レベルで思いつくものであれば大抵は用意されている。"
   ]
  },
  {
   "cell_type": "markdown",
   "metadata": {},
   "source": [
    "### ベクトルの内積"
   ]
  },
  {
   "cell_type": "markdown",
   "metadata": {},
   "source": [
    "内積の計算には二つのベクトルに対して`numpy.dot`を用いれば良い。"
   ]
  },
  {
   "cell_type": "code",
   "execution_count": 27,
   "metadata": {},
   "outputs": [
    {
     "name": "stdout",
     "output_type": "stream",
     "text": [
      "11\n"
     ]
    }
   ],
   "source": [
    "a = np.array([1, 2])\n",
    "b = np.array([3, 4])\n",
    "print(np.dot(a, b))"
   ]
  },
  {
   "cell_type": "markdown",
   "metadata": {},
   "source": [
    "また、`numpy.dot`と同じ効果を現す演算子として`@`が用意されており、上と同様のコードは`@`を使って以下のように書ける。"
   ]
  },
  {
   "cell_type": "code",
   "execution_count": 28,
   "metadata": {},
   "outputs": [
    {
     "name": "stdout",
     "output_type": "stream",
     "text": [
      "11\n"
     ]
    }
   ],
   "source": [
    "print(a @ b)"
   ]
  },
  {
   "cell_type": "markdown",
   "metadata": {},
   "source": [
    "### ベクトルの外積"
   ]
  },
  {
   "cell_type": "markdown",
   "metadata": {},
   "source": [
    "外積の計算には二つのベクトルに対して`numpy.cross`を用いれば良い。"
   ]
  },
  {
   "cell_type": "code",
   "execution_count": 29,
   "metadata": {},
   "outputs": [
    {
     "name": "stdout",
     "output_type": "stream",
     "text": [
      "[-3  6 -3]\n"
     ]
    }
   ],
   "source": [
    "a = np.array([1, 2, 3])\n",
    "b = np.array([4, 5, 6])\n",
    "print(np.cross(a, b))"
   ]
  },
  {
   "cell_type": "markdown",
   "metadata": {},
   "source": [
    "なお、この`numpy.cross`は二次元ベクトルに対しても計算が可能で、その場合は二次元ベクトルを並べて作られる2x2行列の行列式が計算される。"
   ]
  },
  {
   "cell_type": "code",
   "execution_count": 30,
   "metadata": {},
   "outputs": [
    {
     "name": "stdout",
     "output_type": "stream",
     "text": [
      "-2\n"
     ]
    }
   ],
   "source": [
    "a = np.array([1, 2])\n",
    "b = np.array([3, 4])\n",
    "print(np.cross(a, b))"
   ]
  },
  {
   "cell_type": "markdown",
   "metadata": {},
   "source": [
    "この計算は二次元平面においてa → bというベクトルの移動が時計回りの回転(負の値になる)なのか、反時計回りの回転(正の値になる)なのかを調べる時などに役に立つ。"
   ]
  },
  {
   "cell_type": "markdown",
   "metadata": {},
   "source": [
    "### 行列の転置"
   ]
  },
  {
   "cell_type": "markdown",
   "metadata": {},
   "source": [
    "### 逆行列・疑似逆行列"
   ]
  },
  {
   "cell_type": "markdown",
   "metadata": {},
   "source": [
    "とある行列が正則行列 (逆行列を持つ = 行列式が0でない)ときには`numpy.linalg.inv`を用いて逆行列が計算できる。"
   ]
  },
  {
   "cell_type": "code",
   "execution_count": 31,
   "metadata": {},
   "outputs": [
    {
     "name": "stdout",
     "output_type": "stream",
     "text": [
      "[[-2.   1. ]\n",
      " [ 1.5 -0.5]]\n"
     ]
    }
   ],
   "source": [
    "A = np.array([[1, 2], [3, 4]], dtype=\"double\")\n",
    "invA = np.linalg.inv(A)\n",
    "print(invA)"
   ]
  },
  {
   "cell_type": "markdown",
   "metadata": {},
   "source": [
    "なお、その行列が正則行列かどうかを調べるには、行列のランクや行列式が0でないかを調べれば良いだろう。"
   ]
  },
  {
   "cell_type": "code",
   "execution_count": 32,
   "metadata": {},
   "outputs": [
    {
     "data": {
      "text/plain": [
       "2"
      ]
     },
     "execution_count": 32,
     "metadata": {},
     "output_type": "execute_result"
    }
   ],
   "source": [
    "# 行列のランク\n",
    "np.linalg.matrix_rank(A)  # 2"
   ]
  },
  {
   "cell_type": "code",
   "execution_count": 33,
   "metadata": {},
   "outputs": [
    {
     "data": {
      "text/plain": [
       "-2.0000000000000004"
      ]
     },
     "execution_count": 33,
     "metadata": {},
     "output_type": "execute_result"
    }
   ],
   "source": [
    "# 行列式\n",
    "np.linalg.det(A)"
   ]
  },
  {
   "cell_type": "markdown",
   "metadata": {},
   "source": [
    "では、次に、正則でない行列 (= 特異行列という)の場合に逆行列を求めようとするとどうなるかを見てみる。"
   ]
  },
  {
   "cell_type": "code",
   "execution_count": 34,
   "metadata": {},
   "outputs": [
    {
     "name": "stdout",
     "output_type": "stream",
     "text": [
      "Exception: LinAlgError\n",
      "Message: Singular matrix\n"
     ]
    }
   ],
   "source": [
    "A = np.array([[1, 2], [2, 4]], dtype=\"double\")\n",
    "try:\n",
    "    np.linalg.inv(A)\n",
    "except Exception as e:\n",
    "    print(\"Exception: {:s}\".format(type(e).__name__))\n",
    "    print(\"Message: {:s}\".format(str(e)))"
   ]
  },
  {
   "cell_type": "markdown",
   "metadata": {},
   "source": [
    "上記の例では、例外処理をしており、**LinAlgError**が発生して、その例外メッセージが**Singular matrix**となることが確認できる。実際、上記の行列のランクは1で行列式は0.0になるので、各自で調べて見てほしい。\n",
    "\n",
    "さて、このようは特異行列に対して、逆行列を求めるにはどうすれば良いのだろうか？特異行列に対して、逆行列を求めたい場面というのは実用上はそれなりに多く、その一番身近な例が、以下のような最小二乗問題を解きたい場合だろう。\n",
    "\n",
    "$$\n",
    "\\min_{\\mathbf{x}} \\frac{1}{2} \\| \\mathbf{Ax} - \\mathbf{b} \\|^2\n",
    "$$\n",
    "\n",
    "この場合、 $\\mathbf{x}$ について被最小化関数を微分したものがゼロベクトルになる箇所を探せば、それが求める $\\mathbf{x}$ だが、この際、被最小化関数の $\\mathbf{x}$ についての微分によって得られる\n",
    "\n",
    "$$\n",
    "\\mathbf{A}^\\top \\mathbf{Ax} = \\mathbf{A}^\\top \\mathbf{b}\n",
    "$$\n",
    "\n",
    "という方程式において $\\mathbf{A}^\\top \\mathbf{A}$ が特異行列になることは実問題においては頻繁に起こる問題である。\n",
    "\n",
    "このような場合、上記の最小化問題の解は、特異行列に対して逆行列と似た性質を持つ疑似逆行列 (正しくはMoore-Penroseの疑似逆行列と呼ぶ)を右辺に乗ずることで求められる。\n",
    "\n",
    "すなわち、疑似逆行列を $(\\mathbf{A}^\\top \\mathbf{A})^\\dagger$ のように表わす時、最小化を実現する $\\mathbf{x}$ は次の式のように定まる。\n",
    "\n",
    "$$\n",
    "\\mathbf{x} = (\\mathbf{A}^\\top \\mathbf{A})^\\dagger (\\mathbf{A}^\\top \\mathbf{b})\n",
    "$$\n",
    "\n",
    "では、疑似逆行列とは、一体どういう性質を持った行列なのだろうか？これを説明するには特異値分解について説明をする必要があるため、詳しくは触れないが、ぜひNumPyで疑似逆行列を求める`numpy.linalg.pinv`を用いて、以下の計算を試してみてほしい。"
   ]
  },
  {
   "cell_type": "code",
   "execution_count": 35,
   "metadata": {},
   "outputs": [
    {
     "name": "stdout",
     "output_type": "stream",
     "text": [
      "- pinv(A) @ A\n",
      "[[0.2 0.4]\n",
      " [0.4 0.8]]\n",
      "\n",
      "- A @ pinv(A) @ A\n",
      "[[1. 2.]\n",
      " [2. 4.]]\n"
     ]
    }
   ],
   "source": [
    "# この行列は特異行列\n",
    "A = np.array([[1, 2], [2, 4]], dtype=\"double\")\n",
    "pinvA = np.linalg.pinv(A)\n",
    "print(\"- pinv(A) @ A\")\n",
    "print(pinvA @ A)\n",
    "print(\"\")\n",
    "print(\"- A @ pinv(A) @ A\")\n",
    "print(A @ pinvA @ A)"
   ]
  },
  {
   "cell_type": "markdown",
   "metadata": {},
   "source": [
    "```{admonition} 数値誤差\n",
    "上記の例ではNumPyの関数を用いて行列式や逆行列を求める方法について紹介してきた。前述の通り、行列が正則であれば、`numpy.linalg.inv`で逆行列が求められ、そうでなければ特異行列である旨のエラーメッセージが表示されることを確認したが、実際の数値計算で、入力された行列が正則か特異かを判断するのには若干の問題がある。\n",
    "\n",
    "例えば、以下の行列の行列式を計算してみてほしい。\n",
    "\n",
    "\\begin{equation*}\n",
    "\\begin{pmatrix}\n",
    "  1 & 2 & 3 \\\\\n",
    "  100 & 200 & 300 \\\\\n",
    "  10000 & 20000 & 30000\n",
    "\\end{pmatrix}\n",
    "\\end{equation*}\n",
    "\n",
    "説明するまでもなく、上記の行列のランクは1だから、行列式は0になるはずだが...各自で結果を確認してみてほしい。\n",
    "\n",
    "このように実際の数値計算では数学的には特異であるような行列が正則と判断されてしまうことなどがあり、実際の問題で逆行列を計算するときには、注意が必要である。多くの場合は、逆行列の代わりに疑似逆行列を用いることで上記の問題を回避できるが、その場合には疑似逆行列を用いて得られる解が、どのような性質を持つかに留意する必要がある。\n",
    "\n",
    "疑似逆行列を用いる、ということは行列が特異、すなわちランク落ちしている場合であるから、実際の線形方程式を満たす解は無数に存在することになる。疑似逆行列を用いて得られる解は、そのうち、ノルムの大きさ (より正確にはl2ノルムの大きさ)が最小になるものになるので、自身が求めたい解がその解で良いのかは、実際の問題を扱う上では重要だろう。\n",
    "```"
   ]
  },
  {
   "cell_type": "markdown",
   "metadata": {},
   "source": [
    "### 線形方程式を解く"
   ]
  },
  {
   "cell_type": "markdown",
   "metadata": {},
   "source": [
    "先ほどの説明では、 $\\mathbf{Ax} = \\mathbf{b}$ という線形方程式に対して、逆行列を計算して解 $\\mathbf{x}$ を求める方法について述べた。\n",
    "\n",
    "一方で、この方法は数値計算の側面からは、常に最良のやり方であるとは言い難い。通常、行列のサイズが $N \\times N$ の時に、逆行列を求めるためのアルゴリズムには[Gaussの消去法](https://ja.wikipedia.org/wiki/%E3%82%AC%E3%82%A6%E3%82%B9%E3%81%AE%E6%B6%88%E5%8E%BB%E6%B3%95)などがあり、これらのアルゴリズムの計算量は $O(N^3)$ である。それに加え、逆行列をベクトル $\\mathbf{b}$ に乗ずる操作 (計算量は $O(N^2)$ ) が必要となる。\n",
    "\n",
    "一方で、同様にGaussの消去法を使うにしても、逆行列を求めるのではなく、線形方程式を直接解くように用いることもできる。この場合も計算量は変わらず $O(N^3)$ なのだが、この場合は、直接的に解となる $\\mathbf{x}$ が得られるため、逆行列をベクトル $\\mathbf{b}$ に乗ずる計算が不要な分、効率が良い。加えて、このような余計な行列計算を減らすことで、一般には浮動少数の計算による計算誤差を防ぐことができるため、より高精度に解が求められる。したがって、逆行列それ自体が不要であるならば、行列分解を用いて効率的に線形問題を解く`numpy.linalg.solve`を使う方がより適切である。"
   ]
  },
  {
   "cell_type": "code",
   "execution_count": 36,
   "metadata": {},
   "outputs": [
    {
     "name": "stdout",
     "output_type": "stream",
     "text": [
      "[-1.  1.]\n"
     ]
    }
   ],
   "source": [
    "A = np.array([[1, 2], [3, 4]])\n",
    "b = np.array([1, 1])\n",
    "x = np.linalg.solve(A, b)\n",
    "print(x)"
   ]
  },
  {
   "cell_type": "markdown",
   "metadata": {},
   "source": [
    "また、実用的には $\\mathbf{Ax} = \\mathbf{b}$ という線形方程式で、 $\\mathbf{A}$ は変わらないけれども $\\mathbf{b}$ が異なるような問題を繰り返し解きたい場合というのが多くある。このような場合`numpy.linalg.solve`は内部的には $O(N^3)$ の計算量をかけて行列を[LU分解](https://ja.wikipedia.org/wiki/LU%E5%88%86%E8%A7%A3)した後、分解によって得られた下三角行列と上三角行列に対して線形問題を解く。この際、三角行列を係数に持つ線形方程式を解くための計算量は $O(N^2)$ であることに注意してほしい。であるなら、何度も `numpy.linalg.solve`の内部で同じ行列をLU分解する (しかも、その計算量が $O(N^3)$ )のは非効率に感じられる。\n",
    "\n",
    "このような場合、一度LU分解を計算してしまって、三角行列に対する線形問題を解く、という方法が考えられる。残念ながら、この方法はNumPyには実装されていないが類似ライブラリであるSciPyを用いると、以下の形で実現できる。"
   ]
  },
  {
   "cell_type": "code",
   "execution_count": 37,
   "metadata": {},
   "outputs": [],
   "source": [
    "import scipy as sp\n",
    "import scipy.linalg"
   ]
  },
  {
   "cell_type": "code",
   "execution_count": 38,
   "metadata": {},
   "outputs": [],
   "source": [
    "A = np.array([[1, 2], [3, 4]])\n",
    "lu, piv = sp.linalg.lu_factor(A)"
   ]
  },
  {
   "cell_type": "code",
   "execution_count": 39,
   "metadata": {},
   "outputs": [
    {
     "name": "stdout",
     "output_type": "stream",
     "text": [
      "[-1.  1.]\n"
     ]
    }
   ],
   "source": [
    "b1 = np.array([1, 1])\n",
    "x1 = sp.linalg.lu_solve((lu, piv), b1)\n",
    "print(x1)"
   ]
  },
  {
   "cell_type": "code",
   "execution_count": 40,
   "metadata": {},
   "outputs": [
    {
     "name": "stdout",
     "output_type": "stream",
     "text": [
      "[-2.  2.]\n"
     ]
    }
   ],
   "source": [
    "b2 = np.array([2, 2])\n",
    "x2 = sp.linalg.lu_solve((lu, piv), b2)\n",
    "print(x2)"
   ]
  },
  {
   "cell_type": "markdown",
   "metadata": {},
   "source": [
    "なお、上記のコードで`scipy.linalg.lu_factor`には2つの戻り値`lu`と、`piv`が帰ってくるが、通常、LU分解を上手く計算すると、上三角行列と下三角行列のうちのどちらかは対角成分が全て1になるようにできるので、その1となる対角成分を省略して1つの行列にまとめたものが`lu`である。\n",
    "\n",
    "一方、`piv`はガウスの消去法などを用いて行列分解を行う際に、数値計算の誤差を減らすために行列の行や列の順序を入れ替える操作をすることがあるのだが、入れ替え前後の行、列の対応を表わす行列が`piv`である。このあたりの説明は数値計算の初等的な教科書にも書かれている内容なので、各自、教科書を読むなどして勉強してみてほしい。"
   ]
  },
  {
   "cell_type": "markdown",
   "metadata": {},
   "source": [
    "```{admonition} 線形方程式の解法における直接法と反復法\n",
    ":class: note\n",
    "\n",
    "先ほど紹介した`numpy.linalg.solve`はLU分解を用いて線形問題を解いていると説明した。このように行列分解などを用いて、線形問題の解を行列のサイズのみに依存する計算量で得るような解法を**直接法**と呼ぶ。直接法にはLU分解を用いる方法の他、[QR分解](https://ja.wikipedia.org/wiki/QR%E5%88%86%E8%A7%A3)など、別の行列分解を用いる方法がある。\n",
    "\n",
    "一方、ここでは紹介しなかったが、線形問題の両辺に特定の線形代数的操作を施すことで、適当な $\\mathbf{x}$ の初期値を徐々に線形問題の解に反復計算によって近づける方法を**反復法**と呼ぶ。反復法の中で最も単純なものは[Jacobi法](https://ja.wikipedia.org/wiki/%E3%83%A4%E3%82%B3%E3%83%93%E6%B3%95)がある (Jacobi法には固有値を求める手法などもありややこしい...)。Jacobi法は係数行列 $\\mathbf{A}$ の対角成分だけを取りだした対角行列 $\\mathbf{D}$を用いて、 $k$ 回反復時に得られている $\\mathbf{x}^k$ を次の式で $\\mathbf{x}^{k+1}$ に更新する。\n",
    "\n",
    "$$\n",
    "\\mathbf{x}^{k+1} = \\mathbf{D}^{-1} \\left( \\mathbf{b} - (\\mathbf{A} - \\mathbf{D}) \\mathbf{x}^k \\right)\n",
    "$$\n",
    "\n",
    "これ以外にも、Jacobi法を改良したGauss-Seidel法やSOR法がある他、実用的には[共役勾配法](https://ja.wikipedia.org/wiki/%E5%85%B1%E5%BD%B9%E5%8B%BE%E9%85%8D%E6%B3%95) (CG法)と呼ばれる、より収束の早いアルゴリズムが用いられる。最も一般的な共役勾配法は対称正定値行列 (正定値 = 全ての固有値が0より大きい)にしか用いることができないが、これを非対称行列に拡張した双共役勾配法 (BiCG法)など、多くの発展的な手法が存在する。\n",
    "```"
   ]
  },
  {
   "cell_type": "markdown",
   "metadata": {},
   "source": [
    "### 行列の固有値・固有ベクトル"
   ]
  },
  {
   "cell_type": "markdown",
   "metadata": {},
   "source": [
    "行列の固有値および固有ベクトルは、[主成分分析](https://ja.wikipedia.org/wiki/%E4%B8%BB%E6%88%90%E5%88%86%E5%88%86%E6%9E%90)のような多次元データの分析の他、様々なデータの性質を分析する上で欠かせない情報である。\n",
    "\n",
    "NumPyで行列の固有値ならびに固有ベクトルを求めるには`numpy.linalg.eig`を用いれば良い。"
   ]
  },
  {
   "cell_type": "code",
   "execution_count": 41,
   "metadata": {},
   "outputs": [
    {
     "name": "stdout",
     "output_type": "stream",
     "text": [
      "[ 3. -1.]\n",
      "[[ 0.70710678 -0.70710678]\n",
      " [ 0.70710678  0.70710678]]\n"
     ]
    }
   ],
   "source": [
    "A = np.array([[1, 2], [2, 1]], dtype=\"double\")\n",
    "eigval, eigvec = np.linalg.eig(A)\n",
    "print(eigval)\n",
    "print(eigvec)"
   ]
  },
  {
   "cell_type": "markdown",
   "metadata": {},
   "source": [
    "なお、通常、固有値に加えて、固有ベクトルを求めるには追加の計算が必要になるため、固有値だけが必要になる場合には、より高速に動作する関数として`numpy.linalg.eigvals`を使うのが良い。\n",
    "\n",
    "また、上記の例では、あえて実数が固有値、固有ベクトルとなるように実対称行列の固有値・固有ベクトルを求めたが、通常、対称行列、ないしHermite行列の固有値・固有ベクトルの計算は非対称、ないし非Hermite行列の固有値よりも計算が簡単である。そのため、固有値の計算を行いたい対称が対称行列やHermite行列であることが分かっている場合には`numpy.linalg.eigh`や`numpy.linalg.eigvalsh`のように末尾に\"h\"のついている関数を使うと、より効率的である (とは言っても、効果を実感できるのは少なくとも1000x1000程度の行列からだろう)。"
   ]
  },
  {
   "cell_type": "markdown",
   "metadata": {},
   "source": [
    "```{admonition} 固有値を求めるアルゴリズム\n",
    ":class: note\n",
    "\n",
    "固有値を求めるという問題は、実用的に非常に広い応用を持つため、固有値を求める対象の行列の性質 (対称行列か、密行列か、疎行列かetc.)に応じて、様々なアルゴリズムが提案されている。ここでは、比較的単純なアルゴリズムとしてJacobi法 (先ほどの線形問題を解く方法とは異なる)とQR法について紹介する。\n",
    "\n",
    "**Jacobi法**は**対称行列**に対するアルゴリズムで、Givens回転と呼ばれる行列の一部要素だけを変換するような下記の行列 $\\mathbf{G}$ を用いる (値の入っていない箇所の要素は全て0)。\n",
    "\n",
    "$$\n",
    "\\mathbf{G} = \\begin{pmatrix}\n",
    "  1 &        &             &        &              &        &   \\\\\n",
    "    & \\ddots &             &        &              &        &   \\\\\n",
    "    &        & \\cos \\theta & \\cdots & -\\sin \\theta &        &   \\\\\n",
    "    &        & \\vdots      & \\ddots & \\vdots       &        &   \\\\\n",
    "    &        & \\sin \\theta & \\cdots &  \\cos \\theta &        &   \\\\\n",
    "    &        &             &        &              & \\ddots &   \\\\\n",
    "    &        &             &        &              &        & 1 \\\\\n",
    "\\end{pmatrix}\n",
    "$$\n",
    "\n",
    "このとき、固有値を求めたい行列 $\\mathbf{A}$ の $i$ 行 $j$ 列の要素を $a_{ij}$ と記すことにすると、上記のGivens回転の回転量 $\\theta$ を\n",
    "\n",
    "$$\n",
    "\\tan 2\\theta = \\frac{-2a_{ij}}{a_{ii} - a_{jj}}\n",
    "$$\n",
    "\n",
    "となるように設定すると、\n",
    "\n",
    "$$\n",
    "\\mathbf{A}' = \\mathbf{G} \\mathbf{A} \\mathbf{G}^\\top\n",
    "$$\n",
    "\n",
    "という変換を施すことで、 $a_{ij} = a_{ji}$ の要素を0にすることができる。この操作を行列 $\\mathbf{A}$ の非対角成分のうち最も絶対値が大きい物が十分小さくなるまで繰り返すことで、固有値を対角行列とする行列 $\\pmb{\\Lambda}$ へと $\\mathbf{A}$ を変換することができる。\n",
    "\n",
    "また、Givens回転行列は直交行列であるため、元の行列 $\\mathbf{A}$ を $\\pmb{\\Lambda}$ に変換する過程で用いた全てのGivens回転の積として得られる行列の各列が固有ベクトルとなる。\n",
    "\n",
    "**QR法**はQR分解を用いて一般的な行列 (= 非対称行列でもよい)の固有値・固有ベクトルを求めるアルゴリズムで、対象の行列 $\\mathbf{A}$ が、QR分解によって $\\mathbf{A} = \\mathbf{QR}$ (ただし、Qは直交行列、Rは上三角行列)と分解されるとすると、\n",
    "\n",
    "$$\n",
    "\\mathbf{A}' = \\mathbf{Q}^\\top \\mathbf{A} \\mathbf{Q} = \\mathbf{Q}^\\top \\mathbf{Q} \\mathbf{RQ} = \\mathbf{RQ}\n",
    "$$\n",
    "\n",
    "のように行列 $\\mathbf{Q}$ と $\\mathbf{R}$の順序を入れ替えるような操作を繰り返すと、 $\\mathbf{A}$ が徐々に固有値を対角成分に持つような対角行列 $\\pmb{\\Lambda}$ に近づいていく。この際、QR分解の性質から行列 $\\mathbf{Q}$ は直交行列であるから、上記の変換の過程で得られる全ての直交行列 $\\mathbf{Q}$ の積を取ることで、固有ベクトルを各列に持つような直交行列を得ることができる。\n",
    "```"
   ]
  },
  {
   "cell_type": "markdown",
   "metadata": {},
   "source": [
    "## 練習問題"
   ]
  },
  {
   "cell_type": "markdown",
   "metadata": {},
   "source": [
    "1. 今回の講義で紹介したサンプルコードを踏まえて、正則行列に対する逆行列と、特異行列に対する疑似逆行列の違いと共通点について述べよ。\n",
    "1. 逆行列を`numpy.linalg.inv`によって求めることで線形問題を解く方法と、`numpy.linalg.solve`を用いてLU分解により解を求める方法で計算精度がどの程度変化するかを確かめてみよ。なお、より結果を分かりやすくするために`numpy.random.random`を用いて100x100および100x1程度の大きめのサイズで $\\mathbf{A}$, $\\mathbf{b}$ を作成し、精度については $\\| \\mathbf{A} \\mathbf{x} - \\mathbf{b} \\|^2$ の大きさを使って調べれば良い。\n",
    "1. 前述のヤコビ法により、正しく線形問題が解ける(= `numpy.linalg.solve`と解が一致)ことを調べよ。なお、ヤコビ法は優対角行列と呼ばれる対角成分が、各列の対角成分以外の成分の総和より大きい行列にしか用いることができないので、そのような行列を各自適当に設定すること。\n",
    "1. NumPyには多項方程式を解くための関数として`numpy.roots`という関数が用意されている ([参考](https://numpy.org/doc/stable/reference/generated/numpy.roots.html)、特性方程式の係数は手計算で求めること)。この関数を用いて、以下の行列について、特性方程式を解くことで得られる固有値と、`numpy.linalg.eig`を解くことで得られる固有値が一致することを調べよ。\n",
    "\n",
    "$$\n",
    "\\mathbf{A} = \\begin{pmatrix}\n",
    "  1 & 2 & 3 \\\\\n",
    "  2 & 2 & 3 \\\\\n",
    "  3 & 3 & 3\n",
    "\\end{pmatrix}\n",
    "$$\n",
    "\n",
    "5. 上記の3x3行列 $\\mathbf{A}$ に対してJacobi法ならびにQR法を用いて正しく固有値が求まる (= `numpy.linalg.eig`と同じ結果が得られる)ことを確かめよ。 "
   ]
  },
  {
   "cell_type": "code",
   "execution_count": null,
   "metadata": {},
   "outputs": [],
   "source": []
  }
 ],
 "metadata": {
  "kernelspec": {
   "display_name": "Python 3 (ipykernel)",
   "language": "python",
   "name": "python3"
  },
  "language_info": {
   "codemirror_mode": {
    "name": "ipython",
    "version": 3
   },
   "file_extension": ".py",
   "mimetype": "text/x-python",
   "name": "python",
   "nbconvert_exporter": "python",
   "pygments_lexer": "ipython3",
   "version": "3.11.4"
  }
 },
 "nbformat": 4,
 "nbformat_minor": 4
}

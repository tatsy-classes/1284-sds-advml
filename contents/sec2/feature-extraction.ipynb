{
 "cells": [
  {
   "cell_type": "markdown",
   "metadata": {
    "editable": true,
    "slideshow": {
     "slide_type": ""
    },
    "tags": []
   },
   "source": [
    "(feature-extraction)=\n",
    "# 特徴量抽出"
   ]
  },
  {
   "cell_type": "code",
   "execution_count": 1,
   "metadata": {
    "editable": true,
    "slideshow": {
     "slide_type": ""
    },
    "tags": [
     "remove-input"
    ]
   },
   "outputs": [],
   "source": [
    "# シードの固定\n",
    "import random\n",
    "import numpy as np\n",
    "random.seed(31415)\n",
    "np.random.seed(31415)"
   ]
  },
  {
   "cell_type": "markdown",
   "metadata": {},
   "source": [
    "さて、今回からは数字ではなく「ひらがな」のデータセットを用いて、より複雑な識別問題に取り組む。\n",
    "\n",
    "データセットは国立国会図書館の[NDLラボ](https://lab.ndl.go.jp/)が公開している文字画像データセットを使用する。\n",
    "\n",
    "- 文字画像データセット: <https://github.com/ndl-lab/hiragana_mojigazo>"
   ]
  },
  {
   "cell_type": "markdown",
   "metadata": {},
   "source": [
    "実際のデータセットは、以下のURLにホストされているので、ここからダウンロードする。\n",
    "\n",
    "**文字画像データセット(平仮名73文字版) (zip形式)** \n",
    "\n",
    "- <http://lab.ndl.go.jp/dataset/hiragana73.zip>"
   ]
  },
  {
   "cell_type": "code",
   "execution_count": 2,
   "metadata": {
    "editable": true,
    "slideshow": {
     "slide_type": ""
    },
    "tags": []
   },
   "outputs": [
    {
     "data": {
      "application/vnd.jupyter.widget-view+json": {
       "model_id": "771dc1d83f5b4b539e02aaf919b0f7a5",
       "version_major": 2,
       "version_minor": 0
      },
      "text/plain": [
       "  0%|          | 0.00/233M [00:00<?, ?B/s]"
      ]
     },
     "metadata": {},
     "output_type": "display_data"
    }
   ],
   "source": [
    "import os\n",
    "import sys\n",
    "\n",
    "import requests\n",
    "from tqdm.notebook import tqdm\n",
    "\n",
    "url = \"http://lab.ndl.go.jp/dataset/hiragana73.zip\"\n",
    "filename = os.path.basename(url)\n",
    "\n",
    "# データ格納用のディレクトリを作る\n",
    "os.makedirs(\"data\", exist_ok=True)\n",
    "\n",
    "# HTTPリクエストを送ってデータサイズを取得\n",
    "r = requests.get(url, stream=True)\n",
    "total_size = int(r.headers.get(\"content-length\", 0))\n",
    "chunk_size = 65535\n",
    "\n",
    "# 実際のファイルのダウンロード\n",
    "pbar = tqdm(total=total_size, unit=\"B\", unit_scale=True)\n",
    "with open(filename, \"wb\") as f:\n",
    "    for data in r.iter_content(chunk_size):\n",
    "        f.write(data)\n",
    "        pbar.update(chunk_size)"
   ]
  },
  {
   "cell_type": "code",
   "execution_count": 3,
   "metadata": {
    "editable": true,
    "slideshow": {
     "slide_type": ""
    },
    "tags": []
   },
   "outputs": [],
   "source": [
    "# ダウンロードが完了したらZIPを展開する\n",
    "import zipfile\n",
    "\n",
    "with zipfile.ZipFile(filename, \"r\") as f:\n",
    "    f.extractall()"
   ]
  },
  {
   "cell_type": "markdown",
   "metadata": {},
   "source": [
    "## データセットの前処理"
   ]
  },
  {
   "cell_type": "markdown",
   "metadata": {
    "editable": true,
    "slideshow": {
     "slide_type": ""
    },
    "tags": []
   },
   "source": [
    "このデータセットは濁音、半濁音を含むひらがな73文字に対して、そのUnicode値のフォルダの中に、48×48の画像がPNG形式で保存されている。\n",
    "\n",
    "各ひらがなのUnicode値を調べるには、`ord`関数を用いてUnicode値に変換した後に、それを`hex`関数を用いて16進数表記の文字列に変換すれば良い。\n",
    "\n",
    "一例として「あ」であれば、以下のようにUnicode値を得ることができる。"
   ]
  },
  {
   "cell_type": "code",
   "execution_count": 4,
   "metadata": {
    "editable": true,
    "slideshow": {
     "slide_type": ""
    },
    "tags": []
   },
   "outputs": [
    {
     "name": "stdout",
     "output_type": "stream",
     "text": [
      "0x3042\n"
     ]
    }
   ],
   "source": [
    "a = \"あ\"\n",
    "hira_a = hex(ord(a))\n",
    "print(hira_a)"
   ]
  },
  {
   "cell_type": "markdown",
   "metadata": {},
   "source": [
    "逆に、あいうえお順で文字を取得したければ、「あ」に対応するUnicode値である`0x3042`からスタートして、1ずつ値を上げていきながら、その数字を`chr`関数を用いて文字に変換すれば良い。\n",
    "\n",
    "なお、16進数の文字列を整数に直したいときには、`int(hira_a)`と単に文字列を渡すだけではダメで、第2引数に何進数の数字なのかを与えて `int(hira_a, 16)` のようにする必要があることに注意すること。\n",
    "\n",
    "上記のひらがなデータセットは「ゃ」や「っ」などの小文字を含まない73文字から構成されているが、「あ」から「ん」までは、小文字を含め82文字なので、これを列挙してみる。"
   ]
  },
  {
   "cell_type": "code",
   "execution_count": 5,
   "metadata": {},
   "outputs": [
    {
     "name": "stdout",
     "output_type": "stream",
     "text": [
      "あぃいぅうぇえぉおかがきぎくぐけげこごさざしじすずせぜそぞただちぢっつづてでとどなにぬねのはばぱひびぴふぶぷへべぺほぼぽまみむめもゃやゅゆょよらりるれろゎわゐゑをん"
     ]
    }
   ],
   "source": [
    "for i in range(82):\n",
    "    print(chr(int(hira_a, 16) + i), end=\"\")"
   ]
  },
  {
   "cell_type": "markdown",
   "metadata": {},
   "source": [
    "ひらがなデータセットのフォルダ名は16進数を表わす`0x`の代わりに`U`が接頭辞になっているので、フォルダ名の`U`を`0x`に置換して、どの文字がデータセットに含まれているかをチェックしてみる。"
   ]
  },
  {
   "cell_type": "code",
   "execution_count": 6,
   "metadata": {},
   "outputs": [
    {
     "name": "stdout",
     "output_type": "stream",
     "text": [
      "There are 73 folders in \"hiragana73\".\n",
      "あいうえおかがきぎくぐけげこごさざしじすずせぜそぞただちぢつづてでとどなにぬねのはばぱひびぴふぶぷへべぺほぼぽまみむめもやゆよらりるれろわゐゑをん"
     ]
    }
   ],
   "source": [
    "# サブフォルダの数を調べる\n",
    "dirname = \"hiragana73\"\n",
    "folders = sorted([d for d in os.listdir(dirname)])\n",
    "print('There are {:d} folders in \"{:s}\".'.format(len(folders), dirname))\n",
    "\n",
    "# フォルダに対応する文字を列挙\n",
    "for d in folders:\n",
    "    x = d.replace(\"U\", \"0x\")\n",
    "    print(chr(int(x, 16)), end=\"\")"
   ]
  },
  {
   "cell_type": "markdown",
   "metadata": {},
   "source": [
    "さらに、各文字に何個ずつ画像が含まれているかもチェックしておこう。"
   ]
  },
  {
   "cell_type": "code",
   "execution_count": 7,
   "metadata": {
    "editable": true,
    "slideshow": {
     "slide_type": ""
    },
    "tags": [
     "hide-input"
    ]
   },
   "outputs": [
    {
     "data": {
      "text/html": [
       "<style type=\"text/css\">\n",
       "#T_88a74_row0_col0, #T_88a74_row0_col2, #T_88a74_row0_col4, #T_88a74_row0_col6, #T_88a74_row0_col8, #T_88a74_row0_col10, #T_88a74_row0_col12, #T_88a74_row0_col14, #T_88a74_row1_col0, #T_88a74_row1_col2, #T_88a74_row1_col4, #T_88a74_row1_col6, #T_88a74_row1_col8, #T_88a74_row1_col10, #T_88a74_row1_col12, #T_88a74_row1_col14, #T_88a74_row2_col0, #T_88a74_row2_col2, #T_88a74_row2_col4, #T_88a74_row2_col6, #T_88a74_row2_col8, #T_88a74_row2_col10, #T_88a74_row2_col12, #T_88a74_row2_col14, #T_88a74_row3_col0, #T_88a74_row3_col2, #T_88a74_row3_col4, #T_88a74_row3_col6, #T_88a74_row3_col8, #T_88a74_row3_col10, #T_88a74_row3_col12, #T_88a74_row3_col14, #T_88a74_row4_col0, #T_88a74_row4_col2, #T_88a74_row4_col4, #T_88a74_row4_col6, #T_88a74_row4_col8, #T_88a74_row4_col10, #T_88a74_row4_col12, #T_88a74_row4_col14, #T_88a74_row5_col0, #T_88a74_row5_col2, #T_88a74_row5_col4, #T_88a74_row5_col6, #T_88a74_row5_col8, #T_88a74_row5_col10, #T_88a74_row5_col12, #T_88a74_row5_col14, #T_88a74_row6_col0, #T_88a74_row6_col2, #T_88a74_row6_col4, #T_88a74_row6_col6, #T_88a74_row6_col8, #T_88a74_row6_col10, #T_88a74_row6_col12, #T_88a74_row6_col14, #T_88a74_row7_col0, #T_88a74_row7_col2, #T_88a74_row7_col4, #T_88a74_row7_col6, #T_88a74_row7_col8, #T_88a74_row7_col10, #T_88a74_row7_col12, #T_88a74_row7_col14, #T_88a74_row8_col0, #T_88a74_row8_col2, #T_88a74_row8_col4, #T_88a74_row8_col6, #T_88a74_row8_col8, #T_88a74_row8_col10, #T_88a74_row8_col12, #T_88a74_row8_col14, #T_88a74_row9_col0, #T_88a74_row9_col2, #T_88a74_row9_col4, #T_88a74_row9_col6, #T_88a74_row9_col8, #T_88a74_row9_col10, #T_88a74_row9_col12, #T_88a74_row9_col14 {\n",
       "  font-weight: bold;\n",
       "}\n",
       "</style>\n",
       "<table id=\"T_88a74\">\n",
       "  <thead>\n",
       "    <tr>\n",
       "      <th class=\"blank level0\" >&nbsp;</th>\n",
       "      <th id=\"T_88a74_level0_col0\" class=\"col_heading level0 col0\" ></th>\n",
       "      <th id=\"T_88a74_level0_col1\" class=\"col_heading level0 col1\" ></th>\n",
       "      <th id=\"T_88a74_level0_col2\" class=\"col_heading level0 col2\" ></th>\n",
       "      <th id=\"T_88a74_level0_col3\" class=\"col_heading level0 col3\" ></th>\n",
       "      <th id=\"T_88a74_level0_col4\" class=\"col_heading level0 col4\" ></th>\n",
       "      <th id=\"T_88a74_level0_col5\" class=\"col_heading level0 col5\" ></th>\n",
       "      <th id=\"T_88a74_level0_col6\" class=\"col_heading level0 col6\" ></th>\n",
       "      <th id=\"T_88a74_level0_col7\" class=\"col_heading level0 col7\" ></th>\n",
       "      <th id=\"T_88a74_level0_col8\" class=\"col_heading level0 col8\" ></th>\n",
       "      <th id=\"T_88a74_level0_col9\" class=\"col_heading level0 col9\" ></th>\n",
       "      <th id=\"T_88a74_level0_col10\" class=\"col_heading level0 col10\" ></th>\n",
       "      <th id=\"T_88a74_level0_col11\" class=\"col_heading level0 col11\" ></th>\n",
       "      <th id=\"T_88a74_level0_col12\" class=\"col_heading level0 col12\" ></th>\n",
       "      <th id=\"T_88a74_level0_col13\" class=\"col_heading level0 col13\" ></th>\n",
       "      <th id=\"T_88a74_level0_col14\" class=\"col_heading level0 col14\" ></th>\n",
       "      <th id=\"T_88a74_level0_col15\" class=\"col_heading level0 col15\" ></th>\n",
       "    </tr>\n",
       "  </thead>\n",
       "  <tbody>\n",
       "    <tr>\n",
       "      <th id=\"T_88a74_level0_row0\" class=\"row_heading level0 row0\" ></th>\n",
       "      <td id=\"T_88a74_row0_col0\" class=\"data row0 col0\" >あ</td>\n",
       "      <td id=\"T_88a74_row0_col1\" class=\"data row0 col1\" >1208</td>\n",
       "      <td id=\"T_88a74_row0_col2\" class=\"data row0 col2\" >ぐ</td>\n",
       "      <td id=\"T_88a74_row0_col3\" class=\"data row0 col3\" >1043</td>\n",
       "      <td id=\"T_88a74_row0_col4\" class=\"data row0 col4\" >ず</td>\n",
       "      <td id=\"T_88a74_row0_col5\" class=\"data row0 col5\" >1046</td>\n",
       "      <td id=\"T_88a74_row0_col6\" class=\"data row0 col6\" >づ</td>\n",
       "      <td id=\"T_88a74_row0_col7\" class=\"data row0 col7\" >1080</td>\n",
       "      <td id=\"T_88a74_row0_col8\" class=\"data row0 col8\" >は</td>\n",
       "      <td id=\"T_88a74_row0_col9\" class=\"data row0 col9\" >1247</td>\n",
       "      <td id=\"T_88a74_row0_col10\" class=\"data row0 col10\" >べ</td>\n",
       "      <td id=\"T_88a74_row0_col11\" class=\"data row0 col11\" >1109</td>\n",
       "      <td id=\"T_88a74_row0_col12\" class=\"data row0 col12\" >や</td>\n",
       "      <td id=\"T_88a74_row0_col13\" class=\"data row0 col13\" >1285</td>\n",
       "      <td id=\"T_88a74_row0_col14\" class=\"data row0 col14\" >ゑ</td>\n",
       "      <td id=\"T_88a74_row0_col15\" class=\"data row0 col15\" >1030</td>\n",
       "    </tr>\n",
       "    <tr>\n",
       "      <th id=\"T_88a74_level0_row1\" class=\"row_heading level0 row1\" ></th>\n",
       "      <td id=\"T_88a74_row1_col0\" class=\"data row1 col0\" >い</td>\n",
       "      <td id=\"T_88a74_row1_col1\" class=\"data row1 col1\" >1122</td>\n",
       "      <td id=\"T_88a74_row1_col2\" class=\"data row1 col2\" >け</td>\n",
       "      <td id=\"T_88a74_row1_col3\" class=\"data row1 col3\" >1155</td>\n",
       "      <td id=\"T_88a74_row1_col4\" class=\"data row1 col4\" >せ</td>\n",
       "      <td id=\"T_88a74_row1_col5\" class=\"data row1 col5\" >1165</td>\n",
       "      <td id=\"T_88a74_row1_col6\" class=\"data row1 col6\" >て</td>\n",
       "      <td id=\"T_88a74_row1_col7\" class=\"data row1 col7\" >1213</td>\n",
       "      <td id=\"T_88a74_row1_col8\" class=\"data row1 col8\" >ば</td>\n",
       "      <td id=\"T_88a74_row1_col9\" class=\"data row1 col9\" >1105</td>\n",
       "      <td id=\"T_88a74_row1_col10\" class=\"data row1 col10\" >ぺ</td>\n",
       "      <td id=\"T_88a74_row1_col11\" class=\"data row1 col11\" >268</td>\n",
       "      <td id=\"T_88a74_row1_col12\" class=\"data row1 col12\" >ゆ</td>\n",
       "      <td id=\"T_88a74_row1_col13\" class=\"data row1 col13\" >1282</td>\n",
       "      <td id=\"T_88a74_row1_col14\" class=\"data row1 col14\" >を</td>\n",
       "      <td id=\"T_88a74_row1_col15\" class=\"data row1 col15\" >1254</td>\n",
       "    </tr>\n",
       "    <tr>\n",
       "      <th id=\"T_88a74_level0_row2\" class=\"row_heading level0 row2\" ></th>\n",
       "      <td id=\"T_88a74_row2_col0\" class=\"data row2 col0\" >う</td>\n",
       "      <td id=\"T_88a74_row2_col1\" class=\"data row2 col1\" >1148</td>\n",
       "      <td id=\"T_88a74_row2_col2\" class=\"data row2 col2\" >げ</td>\n",
       "      <td id=\"T_88a74_row2_col3\" class=\"data row2 col3\" >1058</td>\n",
       "      <td id=\"T_88a74_row2_col4\" class=\"data row2 col4\" >ぜ</td>\n",
       "      <td id=\"T_88a74_row2_col5\" class=\"data row2 col5\" >1115</td>\n",
       "      <td id=\"T_88a74_row2_col6\" class=\"data row2 col6\" >で</td>\n",
       "      <td id=\"T_88a74_row2_col7\" class=\"data row2 col7\" >1178</td>\n",
       "      <td id=\"T_88a74_row2_col8\" class=\"data row2 col8\" >ぱ</td>\n",
       "      <td id=\"T_88a74_row2_col9\" class=\"data row2 col9\" >262</td>\n",
       "      <td id=\"T_88a74_row2_col10\" class=\"data row2 col10\" >ほ</td>\n",
       "      <td id=\"T_88a74_row2_col11\" class=\"data row2 col11\" >1115</td>\n",
       "      <td id=\"T_88a74_row2_col12\" class=\"data row2 col12\" >よ</td>\n",
       "      <td id=\"T_88a74_row2_col13\" class=\"data row2 col13\" >1166</td>\n",
       "      <td id=\"T_88a74_row2_col14\" class=\"data row2 col14\" >ん</td>\n",
       "      <td id=\"T_88a74_row2_col15\" class=\"data row2 col15\" >1285</td>\n",
       "    </tr>\n",
       "    <tr>\n",
       "      <th id=\"T_88a74_level0_row3\" class=\"row_heading level0 row3\" ></th>\n",
       "      <td id=\"T_88a74_row3_col0\" class=\"data row3 col0\" >え</td>\n",
       "      <td id=\"T_88a74_row3_col1\" class=\"data row3 col1\" >1077</td>\n",
       "      <td id=\"T_88a74_row3_col2\" class=\"data row3 col2\" >こ</td>\n",
       "      <td id=\"T_88a74_row3_col3\" class=\"data row3 col3\" >1115</td>\n",
       "      <td id=\"T_88a74_row3_col4\" class=\"data row3 col4\" >そ</td>\n",
       "      <td id=\"T_88a74_row3_col5\" class=\"data row3 col5\" >1285</td>\n",
       "      <td id=\"T_88a74_row3_col6\" class=\"data row3 col6\" >と</td>\n",
       "      <td id=\"T_88a74_row3_col7\" class=\"data row3 col7\" >1184</td>\n",
       "      <td id=\"T_88a74_row3_col8\" class=\"data row3 col8\" >ひ</td>\n",
       "      <td id=\"T_88a74_row3_col9\" class=\"data row3 col9\" >1074</td>\n",
       "      <td id=\"T_88a74_row3_col10\" class=\"data row3 col10\" >ぼ</td>\n",
       "      <td id=\"T_88a74_row3_col11\" class=\"data row3 col11\" >1044</td>\n",
       "      <td id=\"T_88a74_row3_col12\" class=\"data row3 col12\" >ら</td>\n",
       "      <td id=\"T_88a74_row3_col13\" class=\"data row3 col13\" >1114</td>\n",
       "      <td id=\"T_88a74_row3_col14\" class=\"data row3 col14\" ></td>\n",
       "      <td id=\"T_88a74_row3_col15\" class=\"data row3 col15\" ></td>\n",
       "    </tr>\n",
       "    <tr>\n",
       "      <th id=\"T_88a74_level0_row4\" class=\"row_heading level0 row4\" ></th>\n",
       "      <td id=\"T_88a74_row4_col0\" class=\"data row4 col0\" >お</td>\n",
       "      <td id=\"T_88a74_row4_col1\" class=\"data row4 col1\" >1283</td>\n",
       "      <td id=\"T_88a74_row4_col2\" class=\"data row4 col2\" >ご</td>\n",
       "      <td id=\"T_88a74_row4_col3\" class=\"data row4 col3\" >1078</td>\n",
       "      <td id=\"T_88a74_row4_col4\" class=\"data row4 col4\" >ぞ</td>\n",
       "      <td id=\"T_88a74_row4_col5\" class=\"data row4 col5\" >1066</td>\n",
       "      <td id=\"T_88a74_row4_col6\" class=\"data row4 col6\" >ど</td>\n",
       "      <td id=\"T_88a74_row4_col7\" class=\"data row4 col7\" >1134</td>\n",
       "      <td id=\"T_88a74_row4_col8\" class=\"data row4 col8\" >び</td>\n",
       "      <td id=\"T_88a74_row4_col9\" class=\"data row4 col9\" >1045</td>\n",
       "      <td id=\"T_88a74_row4_col10\" class=\"data row4 col10\" >ぽ</td>\n",
       "      <td id=\"T_88a74_row4_col11\" class=\"data row4 col11\" >261</td>\n",
       "      <td id=\"T_88a74_row4_col12\" class=\"data row4 col12\" >り</td>\n",
       "      <td id=\"T_88a74_row4_col13\" class=\"data row4 col13\" >1244</td>\n",
       "      <td id=\"T_88a74_row4_col14\" class=\"data row4 col14\" ></td>\n",
       "      <td id=\"T_88a74_row4_col15\" class=\"data row4 col15\" ></td>\n",
       "    </tr>\n",
       "    <tr>\n",
       "      <th id=\"T_88a74_level0_row5\" class=\"row_heading level0 row5\" ></th>\n",
       "      <td id=\"T_88a74_row5_col0\" class=\"data row5 col0\" >か</td>\n",
       "      <td id=\"T_88a74_row5_col1\" class=\"data row5 col1\" >1259</td>\n",
       "      <td id=\"T_88a74_row5_col2\" class=\"data row5 col2\" >さ</td>\n",
       "      <td id=\"T_88a74_row5_col3\" class=\"data row5 col3\" >1261</td>\n",
       "      <td id=\"T_88a74_row5_col4\" class=\"data row5 col4\" >た</td>\n",
       "      <td id=\"T_88a74_row5_col5\" class=\"data row5 col5\" >1285</td>\n",
       "      <td id=\"T_88a74_row5_col6\" class=\"data row5 col6\" >な</td>\n",
       "      <td id=\"T_88a74_row5_col7\" class=\"data row5 col7\" >1233</td>\n",
       "      <td id=\"T_88a74_row5_col8\" class=\"data row5 col8\" >ぴ</td>\n",
       "      <td id=\"T_88a74_row5_col9\" class=\"data row5 col9\" >126</td>\n",
       "      <td id=\"T_88a74_row5_col10\" class=\"data row5 col10\" >ま</td>\n",
       "      <td id=\"T_88a74_row5_col11\" class=\"data row5 col11\" >1285</td>\n",
       "      <td id=\"T_88a74_row5_col12\" class=\"data row5 col12\" >る</td>\n",
       "      <td id=\"T_88a74_row5_col13\" class=\"data row5 col13\" >1190</td>\n",
       "      <td id=\"T_88a74_row5_col14\" class=\"data row5 col14\" ></td>\n",
       "      <td id=\"T_88a74_row5_col15\" class=\"data row5 col15\" ></td>\n",
       "    </tr>\n",
       "    <tr>\n",
       "      <th id=\"T_88a74_level0_row6\" class=\"row_heading level0 row6\" ></th>\n",
       "      <td id=\"T_88a74_row6_col0\" class=\"data row6 col0\" >が</td>\n",
       "      <td id=\"T_88a74_row6_col1\" class=\"data row6 col1\" >1200</td>\n",
       "      <td id=\"T_88a74_row6_col2\" class=\"data row6 col2\" >ざ</td>\n",
       "      <td id=\"T_88a74_row6_col3\" class=\"data row6 col3\" >1070</td>\n",
       "      <td id=\"T_88a74_row6_col4\" class=\"data row6 col4\" >だ</td>\n",
       "      <td id=\"T_88a74_row6_col5\" class=\"data row6 col5\" >1116</td>\n",
       "      <td id=\"T_88a74_row6_col6\" class=\"data row6 col6\" >に</td>\n",
       "      <td id=\"T_88a74_row6_col7\" class=\"data row6 col7\" >1260</td>\n",
       "      <td id=\"T_88a74_row6_col8\" class=\"data row6 col8\" >ふ</td>\n",
       "      <td id=\"T_88a74_row6_col9\" class=\"data row6 col9\" >1285</td>\n",
       "      <td id=\"T_88a74_row6_col10\" class=\"data row6 col10\" >み</td>\n",
       "      <td id=\"T_88a74_row6_col11\" class=\"data row6 col11\" >1142</td>\n",
       "      <td id=\"T_88a74_row6_col12\" class=\"data row6 col12\" >れ</td>\n",
       "      <td id=\"T_88a74_row6_col13\" class=\"data row6 col13\" >1238</td>\n",
       "      <td id=\"T_88a74_row6_col14\" class=\"data row6 col14\" ></td>\n",
       "      <td id=\"T_88a74_row6_col15\" class=\"data row6 col15\" ></td>\n",
       "    </tr>\n",
       "    <tr>\n",
       "      <th id=\"T_88a74_level0_row7\" class=\"row_heading level0 row7\" ></th>\n",
       "      <td id=\"T_88a74_row7_col0\" class=\"data row7 col0\" >き</td>\n",
       "      <td id=\"T_88a74_row7_col1\" class=\"data row7 col1\" >1121</td>\n",
       "      <td id=\"T_88a74_row7_col2\" class=\"data row7 col2\" >し</td>\n",
       "      <td id=\"T_88a74_row7_col3\" class=\"data row7 col3\" >1285</td>\n",
       "      <td id=\"T_88a74_row7_col4\" class=\"data row7 col4\" >ち</td>\n",
       "      <td id=\"T_88a74_row7_col5\" class=\"data row7 col5\" >1052</td>\n",
       "      <td id=\"T_88a74_row7_col6\" class=\"data row7 col6\" >ぬ</td>\n",
       "      <td id=\"T_88a74_row7_col7\" class=\"data row7 col7\" >1093</td>\n",
       "      <td id=\"T_88a74_row7_col8\" class=\"data row7 col8\" >ぶ</td>\n",
       "      <td id=\"T_88a74_row7_col9\" class=\"data row7 col9\" >1149</td>\n",
       "      <td id=\"T_88a74_row7_col10\" class=\"data row7 col10\" >む</td>\n",
       "      <td id=\"T_88a74_row7_col11\" class=\"data row7 col11\" >1058</td>\n",
       "      <td id=\"T_88a74_row7_col12\" class=\"data row7 col12\" >ろ</td>\n",
       "      <td id=\"T_88a74_row7_col13\" class=\"data row7 col13\" >1069</td>\n",
       "      <td id=\"T_88a74_row7_col14\" class=\"data row7 col14\" ></td>\n",
       "      <td id=\"T_88a74_row7_col15\" class=\"data row7 col15\" ></td>\n",
       "    </tr>\n",
       "    <tr>\n",
       "      <th id=\"T_88a74_level0_row8\" class=\"row_heading level0 row8\" ></th>\n",
       "      <td id=\"T_88a74_row8_col0\" class=\"data row8 col0\" >ぎ</td>\n",
       "      <td id=\"T_88a74_row8_col1\" class=\"data row8 col1\" >1091</td>\n",
       "      <td id=\"T_88a74_row8_col2\" class=\"data row8 col2\" >じ</td>\n",
       "      <td id=\"T_88a74_row8_col3\" class=\"data row8 col3\" >1099</td>\n",
       "      <td id=\"T_88a74_row8_col4\" class=\"data row8 col4\" >ぢ</td>\n",
       "      <td id=\"T_88a74_row8_col5\" class=\"data row8 col5\" >1132</td>\n",
       "      <td id=\"T_88a74_row8_col6\" class=\"data row8 col6\" >ね</td>\n",
       "      <td id=\"T_88a74_row8_col7\" class=\"data row8 col7\" >1126</td>\n",
       "      <td id=\"T_88a74_row8_col8\" class=\"data row8 col8\" >ぷ</td>\n",
       "      <td id=\"T_88a74_row8_col9\" class=\"data row8 col9\" >112</td>\n",
       "      <td id=\"T_88a74_row8_col10\" class=\"data row8 col10\" >め</td>\n",
       "      <td id=\"T_88a74_row8_col11\" class=\"data row8 col11\" >1233</td>\n",
       "      <td id=\"T_88a74_row8_col12\" class=\"data row8 col12\" >わ</td>\n",
       "      <td id=\"T_88a74_row8_col13\" class=\"data row8 col13\" >1283</td>\n",
       "      <td id=\"T_88a74_row8_col14\" class=\"data row8 col14\" ></td>\n",
       "      <td id=\"T_88a74_row8_col15\" class=\"data row8 col15\" ></td>\n",
       "    </tr>\n",
       "    <tr>\n",
       "      <th id=\"T_88a74_level0_row9\" class=\"row_heading level0 row9\" ></th>\n",
       "      <td id=\"T_88a74_row9_col0\" class=\"data row9 col0\" >く</td>\n",
       "      <td id=\"T_88a74_row9_col1\" class=\"data row9 col1\" >1266</td>\n",
       "      <td id=\"T_88a74_row9_col2\" class=\"data row9 col2\" >す</td>\n",
       "      <td id=\"T_88a74_row9_col3\" class=\"data row9 col3\" >1282</td>\n",
       "      <td id=\"T_88a74_row9_col4\" class=\"data row9 col4\" >つ</td>\n",
       "      <td id=\"T_88a74_row9_col5\" class=\"data row9 col5\" >1142</td>\n",
       "      <td id=\"T_88a74_row9_col6\" class=\"data row9 col6\" >の</td>\n",
       "      <td id=\"T_88a74_row9_col7\" class=\"data row9 col7\" >1160</td>\n",
       "      <td id=\"T_88a74_row9_col8\" class=\"data row9 col8\" >へ</td>\n",
       "      <td id=\"T_88a74_row9_col9\" class=\"data row9 col9\" >1114</td>\n",
       "      <td id=\"T_88a74_row9_col10\" class=\"data row9 col10\" >も</td>\n",
       "      <td id=\"T_88a74_row9_col11\" class=\"data row9 col11\" >1187</td>\n",
       "      <td id=\"T_88a74_row9_col12\" class=\"data row9 col12\" >ゐ</td>\n",
       "      <td id=\"T_88a74_row9_col13\" class=\"data row9 col13\" >1053</td>\n",
       "      <td id=\"T_88a74_row9_col14\" class=\"data row9 col14\" ></td>\n",
       "      <td id=\"T_88a74_row9_col15\" class=\"data row9 col15\" ></td>\n",
       "    </tr>\n",
       "  </tbody>\n",
       "</table>\n"
      ],
      "text/plain": [
       "<pandas.io.formats.style.Styler at 0x26c3e3fc160>"
      ]
     },
     "execution_count": 7,
     "metadata": {},
     "output_type": "execute_result"
    }
   ],
   "source": [
    "import numpy as np\n",
    "import pandas as pd\n",
    "from IPython import display\n",
    "\n",
    "chars = [chr(int(d.replace(\"U\", \"0x\"), 16)) for d in folders]\n",
    "dir_paths = [os.path.join(dirname, d) for d in folders]\n",
    "num_images = [len(os.listdir(d)) for d in dir_paths]\n",
    "\n",
    "df = pd.DataFrame([(c, n) for c, n in zip(chars, num_images)])\n",
    "sub_dfs = [df[i : i + 10].reset_index(drop=True) for i in range(0, len(df.index), 10)]\n",
    "df = pd.concat(sub_dfs, axis=1).fillna(\"\")\n",
    "\n",
    "df.index = [i for i in range(len(df.index))]\n",
    "df.columns = [j for j in range(len(df.columns))]\n",
    "\n",
    "\n",
    "def custom_style(df):\n",
    "    index = df.index\n",
    "    columns = df.columns\n",
    "    styles = []\n",
    "    for i in range(len(index)):\n",
    "        s = []\n",
    "        for j in range(len(columns)):\n",
    "            if columns[j] % 2 == 0:\n",
    "                s.append(\"font-weight: bold;\")\n",
    "            else:\n",
    "                s.append(None)\n",
    "        styles.append(s)\n",
    "\n",
    "    return np.array(styles, dtype=\"object\")\n",
    "\n",
    "\n",
    "df.style.format(precision=0).format_index(\"\", axis=1).format_index(\"\", axis=0).apply(\n",
    "    custom_style, axis=None\n",
    ")"
   ]
  },
  {
   "cell_type": "markdown",
   "metadata": {},
   "source": [
    "このように、ひらがなについて、おおよそ1000程度の画像が含まれていることが確認できる。なお、半濁音のひらがなは全体的に少なめで100-200程度となっている。"
   ]
  },
  {
   "cell_type": "markdown",
   "metadata": {},
   "source": [
    "### 分類用のデータ加工"
   ]
  },
  {
   "cell_type": "markdown",
   "metadata": {
    "editable": true,
    "slideshow": {
     "slide_type": ""
    },
    "tags": []
   },
   "source": [
    "MNISTでは手書き文字の画像が28x28=576次元ベクトル、ラベルが10種類の数字のいずれかを表わす0-9の数字であった。\n",
    "\n",
    "このようなデータ形式をひらがなデータセットに対しても作成しておく。なお、今回は分類の難易度を上げるため、**画像をランダムに回転したり、拡大縮小したりして、データのばらつきを大きくしておく**。"
   ]
  },
  {
   "cell_type": "code",
   "execution_count": 8,
   "metadata": {
    "editable": true,
    "slideshow": {
     "slide_type": ""
    },
    "tags": []
   },
   "outputs": [],
   "source": [
    "# 文字への整数の割り当て\n",
    "n_chars = len(chars)\n",
    "char2num = {c: i for i, c in enumerate(chars)}"
   ]
  },
  {
   "cell_type": "code",
   "execution_count": 9,
   "metadata": {
    "editable": true,
    "slideshow": {
     "slide_type": ""
    },
    "tags": []
   },
   "outputs": [
    {
     "data": {
      "application/vnd.jupyter.widget-view+json": {
       "model_id": "06f9f419056243bca1a7ab63f28a780f",
       "version_major": 2,
       "version_minor": 0
      },
      "text/plain": [
       "  0%|          | 0/80000 [00:00<?, ?it/s]"
      ]
     },
     "metadata": {},
     "output_type": "display_data"
    }
   ],
   "source": [
    "import cv2\n",
    "\n",
    "n_total = sum(num_images)\n",
    "pbar = tqdm(total=n_total)\n",
    "\n",
    "# 画像の読み取り\n",
    "X = []  # 画像データ\n",
    "y = []  # ラベルデータ\n",
    "for d in dir_paths:\n",
    "    # 文字に対する数字を計算\n",
    "    char = os.path.basename(d).replace(\"U\", \"0x\")\n",
    "    char = chr(int(char, 16))\n",
    "    num = char2num[char]\n",
    "    # 画像の読み込み\n",
    "    image_files = [os.path.join(d, f) for f in os.listdir(d)]\n",
    "    image_files = [f for f in image_files if f.endswith(\".png\")]\n",
    "    for f in image_files:\n",
    "        image = cv2.imread(f, cv2.IMREAD_COLOR)\n",
    "        if image is None:\n",
    "            raise IOError(\"Failed to load image: {:s}\".format(f))\n",
    "\n",
    "        image = cv2.cvtColor(image, cv2.COLOR_BGR2GRAY)\n",
    "\n",
    "        # データのランダム回転、ランダムスケール\n",
    "        height, width = image.shape\n",
    "        center = (width // 2, height // 2)\n",
    "        scale = np.random.uniform(0.95, 1.05)\n",
    "        angle = np.random.uniform(-180, 180)\n",
    "        trans = cv2.getRotationMatrix2D(center, angle, scale)\n",
    "        image = cv2.warpAffine(image, trans, (width, height), borderMode=cv2.BORDER_REPLICATE)\n",
    "        \n",
    "        X.append(image.flatten())\n",
    "        y.append(num)\n",
    "\n",
    "        pbar.update(1)"
   ]
  },
  {
   "cell_type": "markdown",
   "metadata": {
    "editable": true,
    "slideshow": {
     "slide_type": ""
    },
    "tags": []
   },
   "source": [
    "読み込みが完了したら例のごとく訓練データとテストデータに分割しておく。今回は画像が80000枚あるので、60000枚を訓練画像、20000枚をテスト画像とする。"
   ]
  },
  {
   "cell_type": "code",
   "execution_count": 10,
   "metadata": {
    "editable": true,
    "slideshow": {
     "slide_type": ""
    },
    "tags": []
   },
   "outputs": [],
   "source": [
    "from sklearn import model_selection\n",
    "\n",
    "X, X_test, y, y_test = model_selection.train_test_split(\n",
    "    X, y, train_size=60000, test_size=10000, shuffle=True\n",
    ")"
   ]
  },
  {
   "cell_type": "markdown",
   "metadata": {
    "editable": true,
    "slideshow": {
     "slide_type": ""
    },
    "tags": []
   },
   "source": [
    "データセットの先頭5枚の画像は次のようになっている。"
   ]
  },
  {
   "cell_type": "code",
   "execution_count": 11,
   "metadata": {
    "editable": true,
    "slideshow": {
     "slide_type": ""
    },
    "tags": []
   },
   "outputs": [
    {
     "data": {
      "image/png": "[encoded data removed]",
      "text/plain": [
       "<Figure size 640x480 with 5 Axes>"
      ]
     },
     "metadata": {},
     "output_type": "display_data"
    }
   ],
   "source": [
    "import matplotlib.pyplot as plt\n",
    "\n",
    "fig, axs = plt.subplots(1, 5)\n",
    "for i in range(5):\n",
    "    axs[i].imshow(X[i].reshape((48, 48)), cmap=\"gray\")\n",
    "    axs[i].set_xticks([])\n",
    "    axs[i].set_yticks([])\n",
    "plt.show()"
   ]
  },
  {
   "cell_type": "markdown",
   "metadata": {
    "editable": true,
    "slideshow": {
     "slide_type": ""
    },
    "tags": []
   },
   "source": [
    "### 実験: 線形回帰による分類"
   ]
  },
  {
   "cell_type": "markdown",
   "metadata": {
    "editable": true,
    "slideshow": {
     "slide_type": ""
    },
    "tags": []
   },
   "source": [
    "まずは、MNISTの時と同様にscikit-learnによる分類を試してみる。"
   ]
  },
  {
   "cell_type": "code",
   "execution_count": 36,
   "metadata": {
    "editable": true,
    "slideshow": {
     "slide_type": ""
    },
    "tags": []
   },
   "outputs": [
    {
     "data": {
      "text/html": [
       "<style>#sk-container-id-4 {color: black;}#sk-container-id-4 pre{padding: 0;}#sk-container-id-4 div.sk-toggleable {background-color: white;}#sk-container-id-4 label.sk-toggleable__label {cursor: pointer;display: block;width: 100%;margin-bottom: 0;padding: 0.3em;box-sizing: border-box;text-align: center;}#sk-container-id-4 label.sk-toggleable__label-arrow:before {content: \"▸\";float: left;margin-right: 0.25em;color: #696969;}#sk-container-id-4 label.sk-toggleable__label-arrow:hover:before {color: black;}#sk-container-id-4 div.sk-estimator:hover label.sk-toggleable__label-arrow:before {color: black;}#sk-container-id-4 div.sk-toggleable__content {max-height: 0;max-width: 0;overflow: hidden;text-align: left;background-color: #f0f8ff;}#sk-container-id-4 div.sk-toggleable__content pre {margin: 0.2em;color: black;border-radius: 0.25em;background-color: #f0f8ff;}#sk-container-id-4 input.sk-toggleable__control:checked~div.sk-toggleable__content {max-height: 200px;max-width: 100%;overflow: auto;}#sk-container-id-4 input.sk-toggleable__control:checked~label.sk-toggleable__label-arrow:before {content: \"▾\";}#sk-container-id-4 div.sk-estimator input.sk-toggleable__control:checked~label.sk-toggleable__label {background-color: #d4ebff;}#sk-container-id-4 div.sk-label input.sk-toggleable__control:checked~label.sk-toggleable__label {background-color: #d4ebff;}#sk-container-id-4 input.sk-hidden--visually {border: 0;clip: rect(1px 1px 1px 1px);clip: rect(1px, 1px, 1px, 1px);height: 1px;margin: -1px;overflow: hidden;padding: 0;position: absolute;width: 1px;}#sk-container-id-4 div.sk-estimator {font-family: monospace;background-color: #f0f8ff;border: 1px dotted black;border-radius: 0.25em;box-sizing: border-box;margin-bottom: 0.5em;}#sk-container-id-4 div.sk-estimator:hover {background-color: #d4ebff;}#sk-container-id-4 div.sk-parallel-item::after {content: \"\";width: 100%;border-bottom: 1px solid gray;flex-grow: 1;}#sk-container-id-4 div.sk-label:hover label.sk-toggleable__label {background-color: #d4ebff;}#sk-container-id-4 div.sk-serial::before {content: \"\";position: absolute;border-left: 1px solid gray;box-sizing: border-box;top: 0;bottom: 0;left: 50%;z-index: 0;}#sk-container-id-4 div.sk-serial {display: flex;flex-direction: column;align-items: center;background-color: white;padding-right: 0.2em;padding-left: 0.2em;position: relative;}#sk-container-id-4 div.sk-item {position: relative;z-index: 1;}#sk-container-id-4 div.sk-parallel {display: flex;align-items: stretch;justify-content: center;background-color: white;position: relative;}#sk-container-id-4 div.sk-item::before, #sk-container-id-4 div.sk-parallel-item::before {content: \"\";position: absolute;border-left: 1px solid gray;box-sizing: border-box;top: 0;bottom: 0;left: 50%;z-index: -1;}#sk-container-id-4 div.sk-parallel-item {display: flex;flex-direction: column;z-index: 1;position: relative;background-color: white;}#sk-container-id-4 div.sk-parallel-item:first-child::after {align-self: flex-end;width: 50%;}#sk-container-id-4 div.sk-parallel-item:last-child::after {align-self: flex-start;width: 50%;}#sk-container-id-4 div.sk-parallel-item:only-child::after {width: 0;}#sk-container-id-4 div.sk-dashed-wrapped {border: 1px dashed gray;margin: 0 0.4em 0.5em 0.4em;box-sizing: border-box;padding-bottom: 0.4em;background-color: white;}#sk-container-id-4 div.sk-label label {font-family: monospace;font-weight: bold;display: inline-block;line-height: 1.2em;}#sk-container-id-4 div.sk-label-container {text-align: center;}#sk-container-id-4 div.sk-container {/* jupyter's `normalize.less` sets `[hidden] { display: none; }` but bootstrap.min.css set `[hidden] { display: none !important; }` so we also need the `!important` here to be able to override the default hidden behavior on the sphinx rendered scikit-learn.org. See: https://github.com/scikit-learn/scikit-learn/issues/21755 */display: inline-block !important;position: relative;}#sk-container-id-4 div.sk-text-repr-fallback {display: none;}</style><div id=\"sk-container-id-4\" class=\"sk-top-container\"><div class=\"sk-text-repr-fallback\"><pre>RandomForestClassifier(max_depth=5, max_features=8, n_estimators=20)</pre><b>In a Jupyter environment, please rerun this cell to show the HTML representation or trust the notebook. <br />On GitHub, the HTML representation is unable to render, please try loading this page with nbviewer.org.</b></div><div class=\"sk-container\" hidden><div class=\"sk-item\"><div class=\"sk-estimator sk-toggleable\"><input class=\"sk-toggleable__control sk-hidden--visually\" id=\"sk-estimator-id-4\" type=\"checkbox\" checked><label for=\"sk-estimator-id-4\" class=\"sk-toggleable__label sk-toggleable__label-arrow\">RandomForestClassifier</label><div class=\"sk-toggleable__content\"><pre>RandomForestClassifier(max_depth=5, max_features=8, n_estimators=20)</pre></div></div></div></div></div>"
      ],
      "text/plain": [
       "RandomForestClassifier(max_depth=5, max_features=8, n_estimators=20)"
      ]
     },
     "execution_count": 36,
     "metadata": {},
     "output_type": "execute_result"
    }
   ],
   "source": [
    "from sklearn.ensemble import RandomForestClassifier\n",
    "\n",
    "rf_params = {\"max_depth\": 5, \"n_estimators\": 20, \"max_features\": 8}\n",
    "\n",
    "clf = RandomForestClassifier(**rf_params)\n",
    "clf.fit(X, y)"
   ]
  },
  {
   "cell_type": "code",
   "execution_count": 37,
   "metadata": {
    "editable": true,
    "slideshow": {
     "slide_type": ""
    },
    "tags": []
   },
   "outputs": [
    {
     "name": "stdout",
     "output_type": "stream",
     "text": [
      "Logistic: acc(train)=24.15%\n"
     ]
    }
   ],
   "source": [
    "# 訓練時の識別精度の確認\n",
    "y_pred = clf.predict(X)\n",
    "acc_train = 100.0 * np.sum(y_pred == y) / len(y)\n",
    "print(\"Logistic: acc(train)={:.2f}%\".format(acc_train))"
   ]
  },
  {
   "cell_type": "code",
   "execution_count": 38,
   "metadata": {
    "editable": true,
    "slideshow": {
     "slide_type": ""
    },
    "tags": []
   },
   "outputs": [
    {
     "name": "stdout",
     "output_type": "stream",
     "text": [
      "Logistic: acc(test)=20.52%\n"
     ]
    }
   ],
   "source": [
    "# テストデータに対する識別精度の計算\n",
    "y_pred = clf.predict(X_test)\n",
    "acc_test = 100.0 * np.sum(y_pred == y_test) / len(y_test)\n",
    "print(\"Logistic: acc(test)={:.2f}%\".format(acc_test))"
   ]
  },
  {
   "cell_type": "markdown",
   "metadata": {
    "editable": true,
    "slideshow": {
     "slide_type": ""
    },
    "tags": []
   },
   "source": [
    "もちろん、これはこれで悪くはなく、訓練やテストに十分時間がかけられるのなら、十分実用的だろう。しかし、48x48の画像をそのまま2304次元のベクトルとするのは、少々効率が悪く、例えば画像の中から物体を検知したい場合などは、画像の一部を切り出す窓を移動しながら、識別を繰り返し行うために多大な計算時間が必要になってしまう。"
   ]
  },
  {
   "cell_type": "markdown",
   "metadata": {
    "editable": true,
    "slideshow": {
     "slide_type": ""
    },
    "tags": []
   },
   "source": [
    "### 輝度によるヒストグラム化"
   ]
  },
  {
   "cell_type": "markdown",
   "metadata": {
    "editable": true,
    "slideshow": {
     "slide_type": ""
    },
    "tags": []
   },
   "source": [
    "まず、非常に単純なアイディアとして画像の輝度を基準としたヒストグラム化を考えてみる。今、画像は256階調の輝度で表わされているので、輝度のヒストグラムを作ることで、どれほど大きな画像であっても256次元のベクトルにすることができる。"
   ]
  },
  {
   "cell_type": "code",
   "execution_count": 15,
   "metadata": {
    "editable": true,
    "slideshow": {
     "slide_type": ""
    },
    "tags": []
   },
   "outputs": [
    {
     "data": {
      "application/vnd.jupyter.widget-view+json": {
       "model_id": "28711e2c503647e8b9f8edc40fdf25c7",
       "version_major": 2,
       "version_minor": 0
      },
      "text/plain": [
       "  0%|          | 0/60000 [00:00<?, ?it/s]"
      ]
     },
     "metadata": {},
     "output_type": "display_data"
    }
   ],
   "source": [
    "H = []\n",
    "for x in tqdm(X):\n",
    "    h = np.histogram(x, bins=255, density=True)\n",
    "    H.append(h[0])"
   ]
  },
  {
   "cell_type": "code",
   "execution_count": 16,
   "metadata": {
    "editable": true,
    "slideshow": {
     "slide_type": ""
    },
    "tags": []
   },
   "outputs": [
    {
     "data": {
      "text/html": [
       "<style>#sk-container-id-2 {color: black;}#sk-container-id-2 pre{padding: 0;}#sk-container-id-2 div.sk-toggleable {background-color: white;}#sk-container-id-2 label.sk-toggleable__label {cursor: pointer;display: block;width: 100%;margin-bottom: 0;padding: 0.3em;box-sizing: border-box;text-align: center;}#sk-container-id-2 label.sk-toggleable__label-arrow:before {content: \"▸\";float: left;margin-right: 0.25em;color: #696969;}#sk-container-id-2 label.sk-toggleable__label-arrow:hover:before {color: black;}#sk-container-id-2 div.sk-estimator:hover label.sk-toggleable__label-arrow:before {color: black;}#sk-container-id-2 div.sk-toggleable__content {max-height: 0;max-width: 0;overflow: hidden;text-align: left;background-color: #f0f8ff;}#sk-container-id-2 div.sk-toggleable__content pre {margin: 0.2em;color: black;border-radius: 0.25em;background-color: #f0f8ff;}#sk-container-id-2 input.sk-toggleable__control:checked~div.sk-toggleable__content {max-height: 200px;max-width: 100%;overflow: auto;}#sk-container-id-2 input.sk-toggleable__control:checked~label.sk-toggleable__label-arrow:before {content: \"▾\";}#sk-container-id-2 div.sk-estimator input.sk-toggleable__control:checked~label.sk-toggleable__label {background-color: #d4ebff;}#sk-container-id-2 div.sk-label input.sk-toggleable__control:checked~label.sk-toggleable__label {background-color: #d4ebff;}#sk-container-id-2 input.sk-hidden--visually {border: 0;clip: rect(1px 1px 1px 1px);clip: rect(1px, 1px, 1px, 1px);height: 1px;margin: -1px;overflow: hidden;padding: 0;position: absolute;width: 1px;}#sk-container-id-2 div.sk-estimator {font-family: monospace;background-color: #f0f8ff;border: 1px dotted black;border-radius: 0.25em;box-sizing: border-box;margin-bottom: 0.5em;}#sk-container-id-2 div.sk-estimator:hover {background-color: #d4ebff;}#sk-container-id-2 div.sk-parallel-item::after {content: \"\";width: 100%;border-bottom: 1px solid gray;flex-grow: 1;}#sk-container-id-2 div.sk-label:hover label.sk-toggleable__label {background-color: #d4ebff;}#sk-container-id-2 div.sk-serial::before {content: \"\";position: absolute;border-left: 1px solid gray;box-sizing: border-box;top: 0;bottom: 0;left: 50%;z-index: 0;}#sk-container-id-2 div.sk-serial {display: flex;flex-direction: column;align-items: center;background-color: white;padding-right: 0.2em;padding-left: 0.2em;position: relative;}#sk-container-id-2 div.sk-item {position: relative;z-index: 1;}#sk-container-id-2 div.sk-parallel {display: flex;align-items: stretch;justify-content: center;background-color: white;position: relative;}#sk-container-id-2 div.sk-item::before, #sk-container-id-2 div.sk-parallel-item::before {content: \"\";position: absolute;border-left: 1px solid gray;box-sizing: border-box;top: 0;bottom: 0;left: 50%;z-index: -1;}#sk-container-id-2 div.sk-parallel-item {display: flex;flex-direction: column;z-index: 1;position: relative;background-color: white;}#sk-container-id-2 div.sk-parallel-item:first-child::after {align-self: flex-end;width: 50%;}#sk-container-id-2 div.sk-parallel-item:last-child::after {align-self: flex-start;width: 50%;}#sk-container-id-2 div.sk-parallel-item:only-child::after {width: 0;}#sk-container-id-2 div.sk-dashed-wrapped {border: 1px dashed gray;margin: 0 0.4em 0.5em 0.4em;box-sizing: border-box;padding-bottom: 0.4em;background-color: white;}#sk-container-id-2 div.sk-label label {font-family: monospace;font-weight: bold;display: inline-block;line-height: 1.2em;}#sk-container-id-2 div.sk-label-container {text-align: center;}#sk-container-id-2 div.sk-container {/* jupyter's `normalize.less` sets `[hidden] { display: none; }` but bootstrap.min.css set `[hidden] { display: none !important; }` so we also need the `!important` here to be able to override the default hidden behavior on the sphinx rendered scikit-learn.org. See: https://github.com/scikit-learn/scikit-learn/issues/21755 */display: inline-block !important;position: relative;}#sk-container-id-2 div.sk-text-repr-fallback {display: none;}</style><div id=\"sk-container-id-2\" class=\"sk-top-container\"><div class=\"sk-text-repr-fallback\"><pre>RandomForestClassifier(max_depth=10, max_features=8, n_estimators=50)</pre><b>In a Jupyter environment, please rerun this cell to show the HTML representation or trust the notebook. <br />On GitHub, the HTML representation is unable to render, please try loading this page with nbviewer.org.</b></div><div class=\"sk-container\" hidden><div class=\"sk-item\"><div class=\"sk-estimator sk-toggleable\"><input class=\"sk-toggleable__control sk-hidden--visually\" id=\"sk-estimator-id-2\" type=\"checkbox\" checked><label for=\"sk-estimator-id-2\" class=\"sk-toggleable__label sk-toggleable__label-arrow\">RandomForestClassifier</label><div class=\"sk-toggleable__content\"><pre>RandomForestClassifier(max_depth=10, max_features=8, n_estimators=50)</pre></div></div></div></div></div>"
      ],
      "text/plain": [
       "RandomForestClassifier(max_depth=10, max_features=8, n_estimators=50)"
      ]
     },
     "execution_count": 16,
     "metadata": {},
     "output_type": "execute_result"
    }
   ],
   "source": [
    "clf2 = RandomForestClassifier(**rf_params)\n",
    "clf2.fit(H, y)"
   ]
  },
  {
   "cell_type": "code",
   "execution_count": 17,
   "metadata": {
    "editable": true,
    "slideshow": {
     "slide_type": ""
    },
    "tags": []
   },
   "outputs": [
    {
     "name": "stdout",
     "output_type": "stream",
     "text": [
      "Logistic: acc(train)=31.25%\n"
     ]
    }
   ],
   "source": [
    "# 訓練時の識別精度の確認\n",
    "y_pred = clf2.predict(H)\n",
    "acc_train = 100.0 * np.sum(y_pred == y) / len(y)\n",
    "print(\"Logistic: acc(train)={:.2f}%\".format(acc_train))"
   ]
  },
  {
   "cell_type": "code",
   "execution_count": 18,
   "metadata": {
    "editable": true,
    "slideshow": {
     "slide_type": ""
    },
    "tags": []
   },
   "outputs": [
    {
     "data": {
      "application/vnd.jupyter.widget-view+json": {
       "model_id": "39727aa48c8640a0950d911e6a31cc62",
       "version_major": 2,
       "version_minor": 0
      },
      "text/plain": [
       "  0%|          | 0/10000 [00:00<?, ?it/s]"
      ]
     },
     "metadata": {},
     "output_type": "display_data"
    }
   ],
   "source": [
    "H_test = []\n",
    "for x in tqdm(X_test):\n",
    "    h = np.histogram(x, bins=255, density=True)\n",
    "    H_test.append(h[0])"
   ]
  },
  {
   "cell_type": "code",
   "execution_count": 19,
   "metadata": {
    "editable": true,
    "slideshow": {
     "slide_type": ""
    },
    "tags": []
   },
   "outputs": [
    {
     "name": "stdout",
     "output_type": "stream",
     "text": [
      "Logistic: acc(test)=3.39%\n"
     ]
    }
   ],
   "source": [
    "# テストデータに対する識別精度の計算\n",
    "y_pred = clf2.predict(H_test)\n",
    "acc_test = 100.0 * np.sum(y_pred == y_test) / len(y_test)\n",
    "print(\"Logistic: acc(test)={:.2f}%\".format(acc_test))"
   ]
  },
  {
   "cell_type": "markdown",
   "metadata": {
    "editable": true,
    "slideshow": {
     "slide_type": ""
    },
    "tags": []
   },
   "source": [
    "しかし、実際に試してみると上記のように満足な精度が得られるには至っていない。これは、ほとんどの画像がほぼ同じ割合の白と黒の領域でできていて、それをヒストグラム化してしまうと、文字の分類が難しくなるためである。従って、もう少し気の利いた方法を考える必要がある。"
   ]
  },
  {
   "cell_type": "markdown",
   "metadata": {
    "editable": true,
    "slideshow": {
     "slide_type": ""
    },
    "tags": []
   },
   "source": [
    "### Local Binary Pattern"
   ]
  },
  {
   "cell_type": "markdown",
   "metadata": {
    "editable": true,
    "slideshow": {
     "slide_type": ""
    },
    "tags": []
   },
   "source": [
    "Local Binary Pattern (LBP)は、とある画素を中心とした3x3の領域について、中心画素と周りの画素の輝度の大小を数値化する手法である {cite}`ojala1996comparative`。\n",
    "\n",
    "一例として、とある中心画素周辺の画素値が以下のようになっている場合を考えよう。"
   ]
  },
  {
   "cell_type": "code",
   "execution_count": 20,
   "metadata": {
    "editable": true,
    "slideshow": {
     "slide_type": ""
    },
    "tags": []
   },
   "outputs": [],
   "source": [
    "import matplotlib.pyplot as plt\n",
    "\n",
    "\n",
    "def draw_frame(problem, fig, ax):\n",
    "    mask = (problem == 0).astype(\"float32\")\n",
    "    frame = []\n",
    "    ax.set_xticks(np.arange(0, 9))\n",
    "    ax.set_yticks(np.arange(0, 9))\n",
    "    ax.set_xticklabels(np.arange(1, 10))\n",
    "    ax.set_yticklabels(np.arange(1, 10))\n",
    "\n",
    "    ax.set_xticks(np.arange(1, 10) - 0.5, minor=True)\n",
    "    ax.set_yticks(np.arange(1, 10) - 0.5, minor=True)\n",
    "    ax.set_xticks(np.arange(3, 10, 3) - 0.5)\n",
    "    ax.set_yticks(np.arange(3, 10, 3) - 0.5)\n",
    "\n",
    "    ims = plt.imshow(mask * 0.2, cmap=\"Blues\", vmin=0.0, vmax=1.0)\n",
    "    frame.append(ims)\n",
    "    for (i, j), z in np.ndenumerate(problem):\n",
    "        txt = ax.text(j, i, \"{:d}\".format(z), ha=\"center\", va=\"center\", color=\"k\", fontsize=15)\n",
    "        frame.append(txt)\n",
    "\n",
    "    ax.grid(which=\"minor\", color=\"k\", linestyle=\"-\", linewidth=0.5)\n",
    "    ax.grid(which=\"major\", color=\"k\", linestyle=\"-\", linewidth=1.0)"
   ]
  },
  {
   "cell_type": "code",
   "execution_count": 21,
   "metadata": {
    "editable": true,
    "slideshow": {
     "slide_type": ""
    },
    "tags": []
   },
   "outputs": [
    {
     "data": {
      "image/png": "[encoded data removed]",
      "text/plain": [
       "<Figure size 300x300 with 1 Axes>"
      ]
     },
     "metadata": {},
     "output_type": "display_data"
    }
   ],
   "source": [
    "m = np.random.randint(0, 256, size=(3, 3))\n",
    "fig, ax = plt.subplots(figsize=(3, 3))\n",
    "draw_frame(m, fig, ax)"
   ]
  },
  {
   "cell_type": "markdown",
   "metadata": {
    "editable": true,
    "slideshow": {
     "slide_type": ""
    },
    "tags": []
   },
   "source": [
    "このとき、中心画素と周囲の8画素の大小を見比べて、大きいものを1, 小さいものを0に置き換える。"
   ]
  },
  {
   "cell_type": "code",
   "execution_count": 22,
   "metadata": {
    "editable": true,
    "slideshow": {
     "slide_type": ""
    },
    "tags": []
   },
   "outputs": [
    {
     "data": {
      "image/png": "[encoded data removed]",
      "text/plain": [
       "<Figure size 300x300 with 1 Axes>"
      ]
     },
     "metadata": {},
     "output_type": "display_data"
    }
   ],
   "source": [
    "c = m[1, 1]\n",
    "b = (m > c).astype(\"int32\")\n",
    "fig, ax = plt.subplots(figsize=(3, 3))\n",
    "draw_frame(b, fig, ax)"
   ]
  },
  {
   "cell_type": "markdown",
   "metadata": {
    "editable": true,
    "slideshow": {
     "slide_type": ""
    },
    "tags": []
   },
   "source": [
    "この周囲の8画素に割り当てられた0, 1のパターンが8ビットの符号なし整数であると考えて数値を求める。このとき、以下のような時計回りに2のべき乗が並んだ画像を用いると良い。"
   ]
  },
  {
   "cell_type": "code",
   "execution_count": 23,
   "metadata": {
    "editable": true,
    "slideshow": {
     "slide_type": ""
    },
    "tags": []
   },
   "outputs": [
    {
     "data": {
      "image/png": "[encoded data removed]",
      "text/plain": [
       "<Figure size 300x300 with 1 Axes>"
      ]
     },
     "metadata": {},
     "output_type": "display_data"
    }
   ],
   "source": [
    "p = 2 ** np.array([[6, 7, 0], [5, 0, 1], [4, 3, 2]])\n",
    "\n",
    "fig, ax = plt.subplots(figsize=(3, 3))\n",
    "draw_frame(p, fig, ax)"
   ]
  },
  {
   "cell_type": "code",
   "execution_count": 24,
   "metadata": {
    "editable": true,
    "slideshow": {
     "slide_type": ""
    },
    "tags": [
     "remove-input"
    ]
   },
   "outputs": [
    {
     "data": {
      "text/markdown": [
       "すると、上記の3x3の領域に対しては、LBPの値として**223**が求まる"
      ],
      "text/plain": [
       "<IPython.core.display.Markdown object>"
      ]
     },
     "execution_count": 24,
     "metadata": {},
     "output_type": "execute_result"
    }
   ],
   "source": [
    "from IPython.display import Markdown\n",
    "\n",
    "Markdown(f\"すると、上記の3x3の領域に対しては、LBPの値として**{np.sum(b * p):d}**が求まる\")"
   ]
  },
  {
   "cell_type": "code",
   "execution_count": 25,
   "metadata": {
    "editable": true,
    "slideshow": {
     "slide_type": ""
    },
    "tags": []
   },
   "outputs": [
    {
     "name": "stdout",
     "output_type": "stream",
     "text": [
      "LBP=223\n"
     ]
    }
   ],
   "source": [
    "lbp = np.sum(b * p)\n",
    "print(\"LBP={:d}\".format(lbp))"
   ]
  },
  {
   "cell_type": "markdown",
   "metadata": {
    "editable": true,
    "slideshow": {
     "slide_type": ""
    },
    "tags": []
   },
   "source": [
    "この計算を以下の画像の各画素に対して行ってみる。"
   ]
  },
  {
   "cell_type": "code",
   "execution_count": 26,
   "metadata": {
    "editable": true,
    "slideshow": {
     "slide_type": ""
    },
    "tags": [
     "hide-input"
    ]
   },
   "outputs": [
    {
     "data": {
      "image/png": "[encoded data removed]",
      "text/plain": [
       "<Figure size 640x480 with 1 Axes>"
      ]
     },
     "metadata": {},
     "output_type": "display_data"
    }
   ],
   "source": [
    "im = X[0].reshape((48, 48))\n",
    "im = cv2.GaussianBlur(im, None, sigmaX=0.5)\n",
    "\n",
    "plt.imshow(im, cmap=\"gray\")\n",
    "plt.show()"
   ]
  },
  {
   "cell_type": "code",
   "execution_count": 27,
   "metadata": {
    "editable": true,
    "slideshow": {
     "slide_type": ""
    },
    "tags": []
   },
   "outputs": [],
   "source": [
    "lbp = np.zeros_like(im).astype(\"uint8\")\n",
    "for j in range(1, im.shape[0] - 1):\n",
    "    for i in range(1, im.shape[1] - 1):\n",
    "        c = im[i, j]\n",
    "        m = im[i - 1 : i + 2, j - 1 : j + 2]\n",
    "        b = (m > c).astype(\"int32\")\n",
    "        lbp[i, j] = np.sum(p * b)\n",
    "\n",
    "# 輪郭の画素では計算できないので、輪郭を除いておく\n",
    "lbp = lbp[1:-1, 1:-1]"
   ]
  },
  {
   "cell_type": "code",
   "execution_count": 28,
   "metadata": {
    "editable": true,
    "slideshow": {
     "slide_type": ""
    },
    "tags": [
     "hide-input"
    ]
   },
   "outputs": [
    {
     "data": {
      "image/png": "[encoded data removed]",
      "text/plain": [
       "<Figure size 640x480 with 1 Axes>"
      ]
     },
     "metadata": {},
     "output_type": "display_data"
    }
   ],
   "source": [
    "plt.imshow(lbp, cmap=\"gray\")\n",
    "plt.show()"
   ]
  },
  {
   "cell_type": "markdown",
   "metadata": {
    "editable": true,
    "slideshow": {
     "slide_type": ""
    },
    "tags": []
   },
   "source": [
    "これを先ほどと同じようにヒストグラム化すると、以下のようになる (以下の画像は分かりやすさのためにbinの数を32個にしてある)。"
   ]
  },
  {
   "cell_type": "code",
   "execution_count": 29,
   "metadata": {
    "editable": true,
    "slideshow": {
     "slide_type": ""
    },
    "tags": []
   },
   "outputs": [
    {
     "data": {
      "image/png": "[encoded data removed]",
      "text/plain": [
       "<Figure size 640x480 with 1 Axes>"
      ]
     },
     "metadata": {},
     "output_type": "display_data"
    }
   ],
   "source": [
    "plt.hist(lbp.flatten(), bins=32)\n",
    "plt.show()"
   ]
  },
  {
   "cell_type": "markdown",
   "metadata": {
    "editable": true,
    "slideshow": {
     "slide_type": ""
    },
    "tags": []
   },
   "source": [
    "LBPを用いることの利点は画像の相対的な輝度だけを見ている点にあり、仮に画像の輝度が2倍になったりしても求まるLBPの値は全く変化しない。そのため、同じ対象を異なる光源下で計算した場合などに一貫した特徴を得られる。"
   ]
  },
  {
   "cell_type": "code",
   "execution_count": 30,
   "metadata": {
    "editable": true,
    "slideshow": {
     "slide_type": ""
    },
    "tags": []
   },
   "outputs": [
    {
     "data": {
      "application/vnd.jupyter.widget-view+json": {
       "model_id": "9529111549e44e129cf5de01c49d6486",
       "version_major": 2,
       "version_minor": 0
      },
      "text/plain": [
       "  0%|          | 0/60000 [00:00<?, ?it/s]"
      ]
     },
     "metadata": {},
     "output_type": "display_data"
    }
   ],
   "source": [
    "from sklearn.feature_extraction.image import extract_patches_2d\n",
    "\n",
    "\n",
    "def calc_lbp(x):\n",
    "    x = cv2.GaussianBlur(x, None, sigmaX=0.5)\n",
    "    pat = (2 ** np.array([[0, 1, 2], [7, 0, 3], [6, 5, 4]])).astype(\"int32\")\n",
    "\n",
    "    patches = extract_patches_2d(x, (3, 3))\n",
    "    centers = patches[:, 1, 1].reshape((-1, 1, 1))\n",
    "    binary = (patches > centers).astype(\"int32\")\n",
    "\n",
    "    return np.sum(binary * pat.reshape((1, 3, 3)), axis=(1, 2))\n",
    "\n",
    "\n",
    "def calc_lbp_hist(x):\n",
    "    lbp = calc_lbp(x)\n",
    "    return np.histogram(lbp, bins=255, density=True)[0]\n",
    "\n",
    "\n",
    "L = [calc_lbp_hist(x.reshape((48, 48))) for x in tqdm(X)]"
   ]
  },
  {
   "cell_type": "code",
   "execution_count": 31,
   "metadata": {
    "editable": true,
    "slideshow": {
     "slide_type": ""
    },
    "tags": []
   },
   "outputs": [
    {
     "data": {
      "text/html": [
       "<style>#sk-container-id-3 {color: black;}#sk-container-id-3 pre{padding: 0;}#sk-container-id-3 div.sk-toggleable {background-color: white;}#sk-container-id-3 label.sk-toggleable__label {cursor: pointer;display: block;width: 100%;margin-bottom: 0;padding: 0.3em;box-sizing: border-box;text-align: center;}#sk-container-id-3 label.sk-toggleable__label-arrow:before {content: \"▸\";float: left;margin-right: 0.25em;color: #696969;}#sk-container-id-3 label.sk-toggleable__label-arrow:hover:before {color: black;}#sk-container-id-3 div.sk-estimator:hover label.sk-toggleable__label-arrow:before {color: black;}#sk-container-id-3 div.sk-toggleable__content {max-height: 0;max-width: 0;overflow: hidden;text-align: left;background-color: #f0f8ff;}#sk-container-id-3 div.sk-toggleable__content pre {margin: 0.2em;color: black;border-radius: 0.25em;background-color: #f0f8ff;}#sk-container-id-3 input.sk-toggleable__control:checked~div.sk-toggleable__content {max-height: 200px;max-width: 100%;overflow: auto;}#sk-container-id-3 input.sk-toggleable__control:checked~label.sk-toggleable__label-arrow:before {content: \"▾\";}#sk-container-id-3 div.sk-estimator input.sk-toggleable__control:checked~label.sk-toggleable__label {background-color: #d4ebff;}#sk-container-id-3 div.sk-label input.sk-toggleable__control:checked~label.sk-toggleable__label {background-color: #d4ebff;}#sk-container-id-3 input.sk-hidden--visually {border: 0;clip: rect(1px 1px 1px 1px);clip: rect(1px, 1px, 1px, 1px);height: 1px;margin: -1px;overflow: hidden;padding: 0;position: absolute;width: 1px;}#sk-container-id-3 div.sk-estimator {font-family: monospace;background-color: #f0f8ff;border: 1px dotted black;border-radius: 0.25em;box-sizing: border-box;margin-bottom: 0.5em;}#sk-container-id-3 div.sk-estimator:hover {background-color: #d4ebff;}#sk-container-id-3 div.sk-parallel-item::after {content: \"\";width: 100%;border-bottom: 1px solid gray;flex-grow: 1;}#sk-container-id-3 div.sk-label:hover label.sk-toggleable__label {background-color: #d4ebff;}#sk-container-id-3 div.sk-serial::before {content: \"\";position: absolute;border-left: 1px solid gray;box-sizing: border-box;top: 0;bottom: 0;left: 50%;z-index: 0;}#sk-container-id-3 div.sk-serial {display: flex;flex-direction: column;align-items: center;background-color: white;padding-right: 0.2em;padding-left: 0.2em;position: relative;}#sk-container-id-3 div.sk-item {position: relative;z-index: 1;}#sk-container-id-3 div.sk-parallel {display: flex;align-items: stretch;justify-content: center;background-color: white;position: relative;}#sk-container-id-3 div.sk-item::before, #sk-container-id-3 div.sk-parallel-item::before {content: \"\";position: absolute;border-left: 1px solid gray;box-sizing: border-box;top: 0;bottom: 0;left: 50%;z-index: -1;}#sk-container-id-3 div.sk-parallel-item {display: flex;flex-direction: column;z-index: 1;position: relative;background-color: white;}#sk-container-id-3 div.sk-parallel-item:first-child::after {align-self: flex-end;width: 50%;}#sk-container-id-3 div.sk-parallel-item:last-child::after {align-self: flex-start;width: 50%;}#sk-container-id-3 div.sk-parallel-item:only-child::after {width: 0;}#sk-container-id-3 div.sk-dashed-wrapped {border: 1px dashed gray;margin: 0 0.4em 0.5em 0.4em;box-sizing: border-box;padding-bottom: 0.4em;background-color: white;}#sk-container-id-3 div.sk-label label {font-family: monospace;font-weight: bold;display: inline-block;line-height: 1.2em;}#sk-container-id-3 div.sk-label-container {text-align: center;}#sk-container-id-3 div.sk-container {/* jupyter's `normalize.less` sets `[hidden] { display: none; }` but bootstrap.min.css set `[hidden] { display: none !important; }` so we also need the `!important` here to be able to override the default hidden behavior on the sphinx rendered scikit-learn.org. See: https://github.com/scikit-learn/scikit-learn/issues/21755 */display: inline-block !important;position: relative;}#sk-container-id-3 div.sk-text-repr-fallback {display: none;}</style><div id=\"sk-container-id-3\" class=\"sk-top-container\"><div class=\"sk-text-repr-fallback\"><pre>RandomForestClassifier(max_depth=10, max_features=8, n_estimators=50)</pre><b>In a Jupyter environment, please rerun this cell to show the HTML representation or trust the notebook. <br />On GitHub, the HTML representation is unable to render, please try loading this page with nbviewer.org.</b></div><div class=\"sk-container\" hidden><div class=\"sk-item\"><div class=\"sk-estimator sk-toggleable\"><input class=\"sk-toggleable__control sk-hidden--visually\" id=\"sk-estimator-id-3\" type=\"checkbox\" checked><label for=\"sk-estimator-id-3\" class=\"sk-toggleable__label sk-toggleable__label-arrow\">RandomForestClassifier</label><div class=\"sk-toggleable__content\"><pre>RandomForestClassifier(max_depth=10, max_features=8, n_estimators=50)</pre></div></div></div></div></div>"
      ],
      "text/plain": [
       "RandomForestClassifier(max_depth=10, max_features=8, n_estimators=50)"
      ]
     },
     "execution_count": 31,
     "metadata": {},
     "output_type": "execute_result"
    }
   ],
   "source": [
    "clf3 = RandomForestClassifier(**rf_params)\n",
    "clf3.fit(L, y)"
   ]
  },
  {
   "cell_type": "code",
   "execution_count": 32,
   "metadata": {
    "editable": true,
    "slideshow": {
     "slide_type": ""
    },
    "tags": []
   },
   "outputs": [
    {
     "name": "stdout",
     "output_type": "stream",
     "text": [
      "Logistic: acc(train)=44.64%\n"
     ]
    }
   ],
   "source": [
    "# 訓練時の識別精度の確認\n",
    "y_pred = clf3.predict(L)\n",
    "acc_train = 100.0 * np.sum(y_pred == y) / len(y)\n",
    "print(\"Logistic: acc(train)={:.2f}%\".format(acc_train))"
   ]
  },
  {
   "cell_type": "code",
   "execution_count": 33,
   "metadata": {
    "editable": true,
    "slideshow": {
     "slide_type": ""
    },
    "tags": []
   },
   "outputs": [
    {
     "data": {
      "application/vnd.jupyter.widget-view+json": {
       "model_id": "e86cba52111e45c58969cdbc84c60a0f",
       "version_major": 2,
       "version_minor": 0
      },
      "text/plain": [
       "  0%|          | 0/10000 [00:00<?, ?it/s]"
      ]
     },
     "metadata": {},
     "output_type": "display_data"
    }
   ],
   "source": [
    "L_test = [calc_lbp_hist(x.reshape((48, 48))) for x in tqdm(X_test)]"
   ]
  },
  {
   "cell_type": "code",
   "execution_count": 34,
   "metadata": {
    "editable": true,
    "slideshow": {
     "slide_type": ""
    },
    "tags": []
   },
   "outputs": [
    {
     "name": "stdout",
     "output_type": "stream",
     "text": [
      "Logistic: acc(test)=9.37%\n"
     ]
    }
   ],
   "source": [
    "# テストデータに対する識別精度の計算\n",
    "y_pred = clf3.predict(L_test)\n",
    "acc_test = 100.0 * np.sum(y_pred == y_test) / len(y_test)\n",
    "print(\"Logistic: acc(test)={:.2f}%\".format(acc_test))"
   ]
  },
  {
   "cell_type": "code",
   "execution_count": null,
   "metadata": {
    "editable": true,
    "slideshow": {
     "slide_type": ""
    },
    "tags": []
   },
   "outputs": [],
   "source": []
  }
 ],
 "metadata": {
  "kernelspec": {
   "display_name": "Python 3 (ipykernel)",
   "language": "python",
   "name": "python3"
  },
  "language_info": {
   "codemirror_mode": {
    "name": "ipython",
    "version": 3
   },
   "file_extension": ".py",
   "mimetype": "text/x-python",
   "name": "python",
   "nbconvert_exporter": "python",
   "pygments_lexer": "ipython3",
   "version": "3.10.2"
  }
 },
 "nbformat": 4,
 "nbformat_minor": 4
}

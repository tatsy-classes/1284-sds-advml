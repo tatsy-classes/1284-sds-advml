{
 "cells": [
  {
   "cell_type": "markdown",
   "metadata": {
    "editable": true,
    "slideshow": {
     "slide_type": ""
    },
    "tags": []
   },
   "source": [
    "(sec:feature-extraction)=\n",
    "# 特徴量抽出"
   ]
  },
  {
   "cell_type": "code",
   "execution_count": 1,
   "metadata": {
    "editable": true,
    "slideshow": {
     "slide_type": ""
    },
    "tags": [
     "hide-input"
    ]
   },
   "outputs": [
    {
     "data": {
      "application/papermill.record/text/plain": "30000"
     },
     "metadata": {
      "scrapbook": {
       "mime_prefix": "application/papermill.record/",
       "name": "n_samples"
      }
     },
     "output_type": "display_data"
    }
   ],
   "source": [
    "\"\"\"\n",
    "下準備のコード\n",
    "\"\"\"\n",
    "\n",
    "import os\n",
    "import sys\n",
    "import random\n",
    "import warnings\n",
    "\n",
    "import numpy as np\n",
    "import pandas as pd\n",
    "import seaborn as sns\n",
    "import matplotlib\n",
    "from myst_nb import glue\n",
    "from tqdm.notebook import tqdm\n",
    "from sklearn.exceptions import ConvergenceWarning\n",
    "\n",
    "# 実験に用いるデータ数\n",
    "n_samples = 30000\n",
    "glue(\"n_samples\", n_samples, display=False)\n",
    "\n",
    "# SGDに用いるバッチサイズ\n",
    "batch_size = 128\n",
    "\n",
    "# 一部の警告を無視\n",
    "warnings.simplefilter(\"ignore\", FutureWarning)\n",
    "warnings.simplefilter(\"ignore\", ConvergenceWarning)\n",
    "\n",
    "# シードの固定\n",
    "random.seed(31415)\n",
    "np.random.seed(31415)\n",
    "\n",
    "# グラフの設定\n",
    "matplotlib.rcParams[\"figure.dpi\"] = 150\n",
    "sns.set(style=\"white\", palette=\"colorblind\")\n",
    "\n",
    "# 結果を格納しておくDataFrame\n",
    "result_df = pd.DataFrame(\n",
    "    {\n",
    "        \"Method\": pd.Series([], dtype=\"string\"),\n",
    "        \"Accuracy\": pd.Series([], dtype=\"float64\"),\n",
    "        \"Phase\": pd.Series([], dtype=\"string\"),\n",
    "    }\n",
    ")"
   ]
  },
  {
   "cell_type": "markdown",
   "metadata": {
    "editable": true,
    "slideshow": {
     "slide_type": ""
    },
    "tags": []
   },
   "source": [
    "さて、今回からは数字ではなく「ひらがな」のデータセットを用いて、より複雑な識別問題に取り組む。\n",
    "\n",
    "データセットは国立国会図書館の[NDLラボ](https://lab.ndl.go.jp/)が公開している文字画像データセットを使用する。\n",
    "\n",
    "- 文字画像データセット: <https://github.com/ndl-lab/hiragana_mojigazo>"
   ]
  },
  {
   "cell_type": "markdown",
   "metadata": {
    "editable": true,
    "slideshow": {
     "slide_type": ""
    },
    "tags": []
   },
   "source": [
    "実際のデータセットは、以下のURLにホストされているので、ここからダウンロードする。\n",
    "\n",
    "**文字画像データセット(平仮名73文字版) (zip形式)** \n",
    "\n",
    "- <http://lab.ndl.go.jp/dataset/hiragana73.zip>"
   ]
  },
  {
   "cell_type": "code",
   "execution_count": 2,
   "metadata": {
    "editable": true,
    "slideshow": {
     "slide_type": ""
    },
    "tags": []
   },
   "outputs": [],
   "source": [
    "\"\"\"\n",
    "平仮名73文字データセットの準備\n",
    "\"\"\"\n",
    "\n",
    "import zipfile\n",
    "\n",
    "import requests\n",
    "\n",
    "url = \"http://lab.ndl.go.jp/dataset/hiragana73.zip\"\n",
    "filename = os.path.basename(url)\n",
    "\n",
    "# HTTPリクエストを送ってデータサイズを取得\n",
    "r = requests.get(url, stream=True)\n",
    "total_size = int(r.headers.get(\"content-length\", 0))\n",
    "chunk_size = 65535\n",
    "\n",
    "# \"hiragana73\"フォルダが存在し、その中身が空でないことを確認\n",
    "if not os.path.exists(\"./hiragana73\") or len(os.listdir(\"./hiragana73\")) == 0:\n",
    "    # 実際のファイルのダウンロード\n",
    "    pbar = tqdm(total=total_size, unit=\"B\", unit_scale=True)\n",
    "    with open(filename, \"wb\") as f:\n",
    "        for data in r.iter_content(chunk_size):\n",
    "            f.write(data)\n",
    "            pbar.update(chunk_size)\n",
    "\n",
    "    # ダウンロードが完了したらZIPを展開する\n",
    "    with zipfile.ZipFile(filename, \"r\") as f:\n",
    "        f.extractall()"
   ]
  },
  {
   "cell_type": "markdown",
   "metadata": {
    "editable": true,
    "slideshow": {
     "slide_type": ""
    },
    "tags": []
   },
   "source": [
    "## データセットの前処理"
   ]
  },
  {
   "cell_type": "markdown",
   "metadata": {
    "editable": true,
    "slideshow": {
     "slide_type": ""
    },
    "tags": []
   },
   "source": [
    "このデータセットは濁音、半濁音を含むひらがな73文字に対して、そのUnicode値のフォルダの中に、48×48の画像がPNG形式で保存されている。\n",
    "\n",
    "各ひらがなのUnicode値を調べるには、`ord`関数を用いてUnicode値に変換した後に、それを`hex`関数を用いて16進数表記の文字列に変換すれば良い。\n",
    "\n",
    "一例として「あ」であれば、以下のようにUnicode値を得ることができる。"
   ]
  },
  {
   "cell_type": "code",
   "execution_count": 3,
   "metadata": {
    "editable": true,
    "slideshow": {
     "slide_type": ""
    },
    "tags": []
   },
   "outputs": [
    {
     "name": "stdout",
     "output_type": "stream",
     "text": [
      "0x3042\n"
     ]
    }
   ],
   "source": [
    "text_a = \"あ\"\n",
    "hex_a = hex(ord(text_a))\n",
    "print(hex_a)"
   ]
  },
  {
   "cell_type": "markdown",
   "metadata": {
    "editable": true,
    "slideshow": {
     "slide_type": ""
    },
    "tags": []
   },
   "source": [
    "逆に、あいうえお順で文字を取得したければ、「あ」に対応するUnicode値である`0x3042`からスタートして、1ずつ値を上げていきながら、その数字を`chr`関数を用いて文字に変換すれば良い。\n",
    "\n",
    "なお、16進数の文字列を整数に直したいときには、`int(hex_a)`と単に文字列を渡すだけではダメで、第2引数に何進数の数字なのかを与えて `int(hex_a, 16)` のようにする必要があることに注意すること。\n",
    "\n",
    "上記のひらがなデータセットは「ゃ」や「っ」などの小文字を含まない73文字から構成されているが、「あ」から「ん」までは、小文字を含め82文字なので、これを列挙してみる。"
   ]
  },
  {
   "cell_type": "code",
   "execution_count": 4,
   "metadata": {
    "editable": true,
    "slideshow": {
     "slide_type": ""
    },
    "tags": []
   },
   "outputs": [
    {
     "name": "stdout",
     "output_type": "stream",
     "text": [
      "あぃいぅうぇえぉおかがきぎくぐけげこごさざしじすずせぜそぞただちぢっつづてでとどなにぬねのはばぱひびぴふぶぷへべぺほぼぽまみむめもゃやゅゆょよらりるれろゎわゐゑをん"
     ]
    }
   ],
   "source": [
    "for i in range(82):\n",
    "    print(chr(int(hex_a, 16) + i), end=\"\")"
   ]
  },
  {
   "cell_type": "markdown",
   "metadata": {
    "editable": true,
    "slideshow": {
     "slide_type": ""
    },
    "tags": []
   },
   "source": [
    "ひらがなデータセットのフォルダ名は16進数を表わす`0x`の代わりに`U`が接頭辞になっているので、フォルダ名の`U`を`0x`に置換して、どの文字がデータセットに含まれているかをチェックしてみる。"
   ]
  },
  {
   "cell_type": "code",
   "execution_count": 5,
   "metadata": {
    "editable": true,
    "slideshow": {
     "slide_type": ""
    },
    "tags": []
   },
   "outputs": [
    {
     "name": "stdout",
     "output_type": "stream",
     "text": [
      "There are 73 folders in \"hiragana73\".\n",
      "あいうえおかがきぎくぐけげこごさざしじすずせぜそぞただちぢつづてでとどなにぬねのはばぱひびぴふぶぷへべぺほぼぽまみむめもやゆよらりるれろわゐゑをん"
     ]
    }
   ],
   "source": [
    "# サブフォルダの数を調べる\n",
    "dirname = \"hiragana73\"\n",
    "folders = sorted([d for d in os.listdir(dirname)])\n",
    "print('There are {:d} folders in \"{:s}\".'.format(len(folders), dirname))\n",
    "\n",
    "# フォルダに対応する文字を列挙\n",
    "for d in folders:\n",
    "    x = d.replace(\"U\", \"0x\")\n",
    "    print(chr(int(x, 16)), end=\"\")"
   ]
  },
  {
   "cell_type": "markdown",
   "metadata": {
    "editable": true,
    "slideshow": {
     "slide_type": ""
    },
    "tags": []
   },
   "source": [
    "さらに、各文字に何個ずつ画像が含まれているかもチェックしておこう。"
   ]
  },
  {
   "cell_type": "code",
   "execution_count": 6,
   "metadata": {
    "editable": true,
    "slideshow": {
     "slide_type": ""
    },
    "tags": [
     "hide-input"
    ]
   },
   "outputs": [
    {
     "data": {
      "text/html": [
       "<style type=\"text/css\">\n",
       "#T_5dffe_row0_col0, #T_5dffe_row0_col2, #T_5dffe_row0_col4, #T_5dffe_row0_col6, #T_5dffe_row0_col8, #T_5dffe_row0_col10, #T_5dffe_row0_col12, #T_5dffe_row0_col14, #T_5dffe_row1_col0, #T_5dffe_row1_col2, #T_5dffe_row1_col4, #T_5dffe_row1_col6, #T_5dffe_row1_col8, #T_5dffe_row1_col10, #T_5dffe_row1_col12, #T_5dffe_row1_col14, #T_5dffe_row2_col0, #T_5dffe_row2_col2, #T_5dffe_row2_col4, #T_5dffe_row2_col6, #T_5dffe_row2_col8, #T_5dffe_row2_col10, #T_5dffe_row2_col12, #T_5dffe_row2_col14, #T_5dffe_row3_col0, #T_5dffe_row3_col2, #T_5dffe_row3_col4, #T_5dffe_row3_col6, #T_5dffe_row3_col8, #T_5dffe_row3_col10, #T_5dffe_row3_col12, #T_5dffe_row3_col14, #T_5dffe_row4_col0, #T_5dffe_row4_col2, #T_5dffe_row4_col4, #T_5dffe_row4_col6, #T_5dffe_row4_col8, #T_5dffe_row4_col10, #T_5dffe_row4_col12, #T_5dffe_row4_col14, #T_5dffe_row5_col0, #T_5dffe_row5_col2, #T_5dffe_row5_col4, #T_5dffe_row5_col6, #T_5dffe_row5_col8, #T_5dffe_row5_col10, #T_5dffe_row5_col12, #T_5dffe_row5_col14, #T_5dffe_row6_col0, #T_5dffe_row6_col2, #T_5dffe_row6_col4, #T_5dffe_row6_col6, #T_5dffe_row6_col8, #T_5dffe_row6_col10, #T_5dffe_row6_col12, #T_5dffe_row6_col14, #T_5dffe_row7_col0, #T_5dffe_row7_col2, #T_5dffe_row7_col4, #T_5dffe_row7_col6, #T_5dffe_row7_col8, #T_5dffe_row7_col10, #T_5dffe_row7_col12, #T_5dffe_row7_col14, #T_5dffe_row8_col0, #T_5dffe_row8_col2, #T_5dffe_row8_col4, #T_5dffe_row8_col6, #T_5dffe_row8_col8, #T_5dffe_row8_col10, #T_5dffe_row8_col12, #T_5dffe_row8_col14, #T_5dffe_row9_col0, #T_5dffe_row9_col2, #T_5dffe_row9_col4, #T_5dffe_row9_col6, #T_5dffe_row9_col8, #T_5dffe_row9_col10, #T_5dffe_row9_col12, #T_5dffe_row9_col14 {\n",
       "  font-weight: bold;\n",
       "}\n",
       "</style>\n",
       "<table id=\"T_5dffe\">\n",
       "  <thead>\n",
       "    <tr>\n",
       "      <th class=\"blank level0\" >&nbsp;</th>\n",
       "      <th id=\"T_5dffe_level0_col0\" class=\"col_heading level0 col0\" ></th>\n",
       "      <th id=\"T_5dffe_level0_col1\" class=\"col_heading level0 col1\" ></th>\n",
       "      <th id=\"T_5dffe_level0_col2\" class=\"col_heading level0 col2\" ></th>\n",
       "      <th id=\"T_5dffe_level0_col3\" class=\"col_heading level0 col3\" ></th>\n",
       "      <th id=\"T_5dffe_level0_col4\" class=\"col_heading level0 col4\" ></th>\n",
       "      <th id=\"T_5dffe_level0_col5\" class=\"col_heading level0 col5\" ></th>\n",
       "      <th id=\"T_5dffe_level0_col6\" class=\"col_heading level0 col6\" ></th>\n",
       "      <th id=\"T_5dffe_level0_col7\" class=\"col_heading level0 col7\" ></th>\n",
       "      <th id=\"T_5dffe_level0_col8\" class=\"col_heading level0 col8\" ></th>\n",
       "      <th id=\"T_5dffe_level0_col9\" class=\"col_heading level0 col9\" ></th>\n",
       "      <th id=\"T_5dffe_level0_col10\" class=\"col_heading level0 col10\" ></th>\n",
       "      <th id=\"T_5dffe_level0_col11\" class=\"col_heading level0 col11\" ></th>\n",
       "      <th id=\"T_5dffe_level0_col12\" class=\"col_heading level0 col12\" ></th>\n",
       "      <th id=\"T_5dffe_level0_col13\" class=\"col_heading level0 col13\" ></th>\n",
       "      <th id=\"T_5dffe_level0_col14\" class=\"col_heading level0 col14\" ></th>\n",
       "      <th id=\"T_5dffe_level0_col15\" class=\"col_heading level0 col15\" ></th>\n",
       "    </tr>\n",
       "  </thead>\n",
       "  <tbody>\n",
       "    <tr>\n",
       "      <th id=\"T_5dffe_level0_row0\" class=\"row_heading level0 row0\" ></th>\n",
       "      <td id=\"T_5dffe_row0_col0\" class=\"data row0 col0\" >あ</td>\n",
       "      <td id=\"T_5dffe_row0_col1\" class=\"data row0 col1\" >1208</td>\n",
       "      <td id=\"T_5dffe_row0_col2\" class=\"data row0 col2\" >ぐ</td>\n",
       "      <td id=\"T_5dffe_row0_col3\" class=\"data row0 col3\" >1043</td>\n",
       "      <td id=\"T_5dffe_row0_col4\" class=\"data row0 col4\" >ず</td>\n",
       "      <td id=\"T_5dffe_row0_col5\" class=\"data row0 col5\" >1046</td>\n",
       "      <td id=\"T_5dffe_row0_col6\" class=\"data row0 col6\" >づ</td>\n",
       "      <td id=\"T_5dffe_row0_col7\" class=\"data row0 col7\" >1080</td>\n",
       "      <td id=\"T_5dffe_row0_col8\" class=\"data row0 col8\" >は</td>\n",
       "      <td id=\"T_5dffe_row0_col9\" class=\"data row0 col9\" >1247</td>\n",
       "      <td id=\"T_5dffe_row0_col10\" class=\"data row0 col10\" >べ</td>\n",
       "      <td id=\"T_5dffe_row0_col11\" class=\"data row0 col11\" >1109</td>\n",
       "      <td id=\"T_5dffe_row0_col12\" class=\"data row0 col12\" >や</td>\n",
       "      <td id=\"T_5dffe_row0_col13\" class=\"data row0 col13\" >1285</td>\n",
       "      <td id=\"T_5dffe_row0_col14\" class=\"data row0 col14\" >ゑ</td>\n",
       "      <td id=\"T_5dffe_row0_col15\" class=\"data row0 col15\" >1030</td>\n",
       "    </tr>\n",
       "    <tr>\n",
       "      <th id=\"T_5dffe_level0_row1\" class=\"row_heading level0 row1\" ></th>\n",
       "      <td id=\"T_5dffe_row1_col0\" class=\"data row1 col0\" >い</td>\n",
       "      <td id=\"T_5dffe_row1_col1\" class=\"data row1 col1\" >1122</td>\n",
       "      <td id=\"T_5dffe_row1_col2\" class=\"data row1 col2\" >け</td>\n",
       "      <td id=\"T_5dffe_row1_col3\" class=\"data row1 col3\" >1155</td>\n",
       "      <td id=\"T_5dffe_row1_col4\" class=\"data row1 col4\" >せ</td>\n",
       "      <td id=\"T_5dffe_row1_col5\" class=\"data row1 col5\" >1165</td>\n",
       "      <td id=\"T_5dffe_row1_col6\" class=\"data row1 col6\" >て</td>\n",
       "      <td id=\"T_5dffe_row1_col7\" class=\"data row1 col7\" >1213</td>\n",
       "      <td id=\"T_5dffe_row1_col8\" class=\"data row1 col8\" >ば</td>\n",
       "      <td id=\"T_5dffe_row1_col9\" class=\"data row1 col9\" >1105</td>\n",
       "      <td id=\"T_5dffe_row1_col10\" class=\"data row1 col10\" >ぺ</td>\n",
       "      <td id=\"T_5dffe_row1_col11\" class=\"data row1 col11\" >268</td>\n",
       "      <td id=\"T_5dffe_row1_col12\" class=\"data row1 col12\" >ゆ</td>\n",
       "      <td id=\"T_5dffe_row1_col13\" class=\"data row1 col13\" >1282</td>\n",
       "      <td id=\"T_5dffe_row1_col14\" class=\"data row1 col14\" >を</td>\n",
       "      <td id=\"T_5dffe_row1_col15\" class=\"data row1 col15\" >1254</td>\n",
       "    </tr>\n",
       "    <tr>\n",
       "      <th id=\"T_5dffe_level0_row2\" class=\"row_heading level0 row2\" ></th>\n",
       "      <td id=\"T_5dffe_row2_col0\" class=\"data row2 col0\" >う</td>\n",
       "      <td id=\"T_5dffe_row2_col1\" class=\"data row2 col1\" >1148</td>\n",
       "      <td id=\"T_5dffe_row2_col2\" class=\"data row2 col2\" >げ</td>\n",
       "      <td id=\"T_5dffe_row2_col3\" class=\"data row2 col3\" >1058</td>\n",
       "      <td id=\"T_5dffe_row2_col4\" class=\"data row2 col4\" >ぜ</td>\n",
       "      <td id=\"T_5dffe_row2_col5\" class=\"data row2 col5\" >1115</td>\n",
       "      <td id=\"T_5dffe_row2_col6\" class=\"data row2 col6\" >で</td>\n",
       "      <td id=\"T_5dffe_row2_col7\" class=\"data row2 col7\" >1178</td>\n",
       "      <td id=\"T_5dffe_row2_col8\" class=\"data row2 col8\" >ぱ</td>\n",
       "      <td id=\"T_5dffe_row2_col9\" class=\"data row2 col9\" >262</td>\n",
       "      <td id=\"T_5dffe_row2_col10\" class=\"data row2 col10\" >ほ</td>\n",
       "      <td id=\"T_5dffe_row2_col11\" class=\"data row2 col11\" >1115</td>\n",
       "      <td id=\"T_5dffe_row2_col12\" class=\"data row2 col12\" >よ</td>\n",
       "      <td id=\"T_5dffe_row2_col13\" class=\"data row2 col13\" >1166</td>\n",
       "      <td id=\"T_5dffe_row2_col14\" class=\"data row2 col14\" >ん</td>\n",
       "      <td id=\"T_5dffe_row2_col15\" class=\"data row2 col15\" >1285</td>\n",
       "    </tr>\n",
       "    <tr>\n",
       "      <th id=\"T_5dffe_level0_row3\" class=\"row_heading level0 row3\" ></th>\n",
       "      <td id=\"T_5dffe_row3_col0\" class=\"data row3 col0\" >え</td>\n",
       "      <td id=\"T_5dffe_row3_col1\" class=\"data row3 col1\" >1077</td>\n",
       "      <td id=\"T_5dffe_row3_col2\" class=\"data row3 col2\" >こ</td>\n",
       "      <td id=\"T_5dffe_row3_col3\" class=\"data row3 col3\" >1115</td>\n",
       "      <td id=\"T_5dffe_row3_col4\" class=\"data row3 col4\" >そ</td>\n",
       "      <td id=\"T_5dffe_row3_col5\" class=\"data row3 col5\" >1285</td>\n",
       "      <td id=\"T_5dffe_row3_col6\" class=\"data row3 col6\" >と</td>\n",
       "      <td id=\"T_5dffe_row3_col7\" class=\"data row3 col7\" >1184</td>\n",
       "      <td id=\"T_5dffe_row3_col8\" class=\"data row3 col8\" >ひ</td>\n",
       "      <td id=\"T_5dffe_row3_col9\" class=\"data row3 col9\" >1074</td>\n",
       "      <td id=\"T_5dffe_row3_col10\" class=\"data row3 col10\" >ぼ</td>\n",
       "      <td id=\"T_5dffe_row3_col11\" class=\"data row3 col11\" >1044</td>\n",
       "      <td id=\"T_5dffe_row3_col12\" class=\"data row3 col12\" >ら</td>\n",
       "      <td id=\"T_5dffe_row3_col13\" class=\"data row3 col13\" >1114</td>\n",
       "      <td id=\"T_5dffe_row3_col14\" class=\"data row3 col14\" ></td>\n",
       "      <td id=\"T_5dffe_row3_col15\" class=\"data row3 col15\" ></td>\n",
       "    </tr>\n",
       "    <tr>\n",
       "      <th id=\"T_5dffe_level0_row4\" class=\"row_heading level0 row4\" ></th>\n",
       "      <td id=\"T_5dffe_row4_col0\" class=\"data row4 col0\" >お</td>\n",
       "      <td id=\"T_5dffe_row4_col1\" class=\"data row4 col1\" >1283</td>\n",
       "      <td id=\"T_5dffe_row4_col2\" class=\"data row4 col2\" >ご</td>\n",
       "      <td id=\"T_5dffe_row4_col3\" class=\"data row4 col3\" >1078</td>\n",
       "      <td id=\"T_5dffe_row4_col4\" class=\"data row4 col4\" >ぞ</td>\n",
       "      <td id=\"T_5dffe_row4_col5\" class=\"data row4 col5\" >1066</td>\n",
       "      <td id=\"T_5dffe_row4_col6\" class=\"data row4 col6\" >ど</td>\n",
       "      <td id=\"T_5dffe_row4_col7\" class=\"data row4 col7\" >1134</td>\n",
       "      <td id=\"T_5dffe_row4_col8\" class=\"data row4 col8\" >び</td>\n",
       "      <td id=\"T_5dffe_row4_col9\" class=\"data row4 col9\" >1045</td>\n",
       "      <td id=\"T_5dffe_row4_col10\" class=\"data row4 col10\" >ぽ</td>\n",
       "      <td id=\"T_5dffe_row4_col11\" class=\"data row4 col11\" >261</td>\n",
       "      <td id=\"T_5dffe_row4_col12\" class=\"data row4 col12\" >り</td>\n",
       "      <td id=\"T_5dffe_row4_col13\" class=\"data row4 col13\" >1244</td>\n",
       "      <td id=\"T_5dffe_row4_col14\" class=\"data row4 col14\" ></td>\n",
       "      <td id=\"T_5dffe_row4_col15\" class=\"data row4 col15\" ></td>\n",
       "    </tr>\n",
       "    <tr>\n",
       "      <th id=\"T_5dffe_level0_row5\" class=\"row_heading level0 row5\" ></th>\n",
       "      <td id=\"T_5dffe_row5_col0\" class=\"data row5 col0\" >か</td>\n",
       "      <td id=\"T_5dffe_row5_col1\" class=\"data row5 col1\" >1259</td>\n",
       "      <td id=\"T_5dffe_row5_col2\" class=\"data row5 col2\" >さ</td>\n",
       "      <td id=\"T_5dffe_row5_col3\" class=\"data row5 col3\" >1261</td>\n",
       "      <td id=\"T_5dffe_row5_col4\" class=\"data row5 col4\" >た</td>\n",
       "      <td id=\"T_5dffe_row5_col5\" class=\"data row5 col5\" >1285</td>\n",
       "      <td id=\"T_5dffe_row5_col6\" class=\"data row5 col6\" >な</td>\n",
       "      <td id=\"T_5dffe_row5_col7\" class=\"data row5 col7\" >1233</td>\n",
       "      <td id=\"T_5dffe_row5_col8\" class=\"data row5 col8\" >ぴ</td>\n",
       "      <td id=\"T_5dffe_row5_col9\" class=\"data row5 col9\" >126</td>\n",
       "      <td id=\"T_5dffe_row5_col10\" class=\"data row5 col10\" >ま</td>\n",
       "      <td id=\"T_5dffe_row5_col11\" class=\"data row5 col11\" >1285</td>\n",
       "      <td id=\"T_5dffe_row5_col12\" class=\"data row5 col12\" >る</td>\n",
       "      <td id=\"T_5dffe_row5_col13\" class=\"data row5 col13\" >1190</td>\n",
       "      <td id=\"T_5dffe_row5_col14\" class=\"data row5 col14\" ></td>\n",
       "      <td id=\"T_5dffe_row5_col15\" class=\"data row5 col15\" ></td>\n",
       "    </tr>\n",
       "    <tr>\n",
       "      <th id=\"T_5dffe_level0_row6\" class=\"row_heading level0 row6\" ></th>\n",
       "      <td id=\"T_5dffe_row6_col0\" class=\"data row6 col0\" >が</td>\n",
       "      <td id=\"T_5dffe_row6_col1\" class=\"data row6 col1\" >1200</td>\n",
       "      <td id=\"T_5dffe_row6_col2\" class=\"data row6 col2\" >ざ</td>\n",
       "      <td id=\"T_5dffe_row6_col3\" class=\"data row6 col3\" >1070</td>\n",
       "      <td id=\"T_5dffe_row6_col4\" class=\"data row6 col4\" >だ</td>\n",
       "      <td id=\"T_5dffe_row6_col5\" class=\"data row6 col5\" >1116</td>\n",
       "      <td id=\"T_5dffe_row6_col6\" class=\"data row6 col6\" >に</td>\n",
       "      <td id=\"T_5dffe_row6_col7\" class=\"data row6 col7\" >1260</td>\n",
       "      <td id=\"T_5dffe_row6_col8\" class=\"data row6 col8\" >ふ</td>\n",
       "      <td id=\"T_5dffe_row6_col9\" class=\"data row6 col9\" >1285</td>\n",
       "      <td id=\"T_5dffe_row6_col10\" class=\"data row6 col10\" >み</td>\n",
       "      <td id=\"T_5dffe_row6_col11\" class=\"data row6 col11\" >1142</td>\n",
       "      <td id=\"T_5dffe_row6_col12\" class=\"data row6 col12\" >れ</td>\n",
       "      <td id=\"T_5dffe_row6_col13\" class=\"data row6 col13\" >1238</td>\n",
       "      <td id=\"T_5dffe_row6_col14\" class=\"data row6 col14\" ></td>\n",
       "      <td id=\"T_5dffe_row6_col15\" class=\"data row6 col15\" ></td>\n",
       "    </tr>\n",
       "    <tr>\n",
       "      <th id=\"T_5dffe_level0_row7\" class=\"row_heading level0 row7\" ></th>\n",
       "      <td id=\"T_5dffe_row7_col0\" class=\"data row7 col0\" >き</td>\n",
       "      <td id=\"T_5dffe_row7_col1\" class=\"data row7 col1\" >1121</td>\n",
       "      <td id=\"T_5dffe_row7_col2\" class=\"data row7 col2\" >し</td>\n",
       "      <td id=\"T_5dffe_row7_col3\" class=\"data row7 col3\" >1285</td>\n",
       "      <td id=\"T_5dffe_row7_col4\" class=\"data row7 col4\" >ち</td>\n",
       "      <td id=\"T_5dffe_row7_col5\" class=\"data row7 col5\" >1052</td>\n",
       "      <td id=\"T_5dffe_row7_col6\" class=\"data row7 col6\" >ぬ</td>\n",
       "      <td id=\"T_5dffe_row7_col7\" class=\"data row7 col7\" >1093</td>\n",
       "      <td id=\"T_5dffe_row7_col8\" class=\"data row7 col8\" >ぶ</td>\n",
       "      <td id=\"T_5dffe_row7_col9\" class=\"data row7 col9\" >1149</td>\n",
       "      <td id=\"T_5dffe_row7_col10\" class=\"data row7 col10\" >む</td>\n",
       "      <td id=\"T_5dffe_row7_col11\" class=\"data row7 col11\" >1058</td>\n",
       "      <td id=\"T_5dffe_row7_col12\" class=\"data row7 col12\" >ろ</td>\n",
       "      <td id=\"T_5dffe_row7_col13\" class=\"data row7 col13\" >1069</td>\n",
       "      <td id=\"T_5dffe_row7_col14\" class=\"data row7 col14\" ></td>\n",
       "      <td id=\"T_5dffe_row7_col15\" class=\"data row7 col15\" ></td>\n",
       "    </tr>\n",
       "    <tr>\n",
       "      <th id=\"T_5dffe_level0_row8\" class=\"row_heading level0 row8\" ></th>\n",
       "      <td id=\"T_5dffe_row8_col0\" class=\"data row8 col0\" >ぎ</td>\n",
       "      <td id=\"T_5dffe_row8_col1\" class=\"data row8 col1\" >1091</td>\n",
       "      <td id=\"T_5dffe_row8_col2\" class=\"data row8 col2\" >じ</td>\n",
       "      <td id=\"T_5dffe_row8_col3\" class=\"data row8 col3\" >1099</td>\n",
       "      <td id=\"T_5dffe_row8_col4\" class=\"data row8 col4\" >ぢ</td>\n",
       "      <td id=\"T_5dffe_row8_col5\" class=\"data row8 col5\" >1132</td>\n",
       "      <td id=\"T_5dffe_row8_col6\" class=\"data row8 col6\" >ね</td>\n",
       "      <td id=\"T_5dffe_row8_col7\" class=\"data row8 col7\" >1126</td>\n",
       "      <td id=\"T_5dffe_row8_col8\" class=\"data row8 col8\" >ぷ</td>\n",
       "      <td id=\"T_5dffe_row8_col9\" class=\"data row8 col9\" >112</td>\n",
       "      <td id=\"T_5dffe_row8_col10\" class=\"data row8 col10\" >め</td>\n",
       "      <td id=\"T_5dffe_row8_col11\" class=\"data row8 col11\" >1233</td>\n",
       "      <td id=\"T_5dffe_row8_col12\" class=\"data row8 col12\" >わ</td>\n",
       "      <td id=\"T_5dffe_row8_col13\" class=\"data row8 col13\" >1283</td>\n",
       "      <td id=\"T_5dffe_row8_col14\" class=\"data row8 col14\" ></td>\n",
       "      <td id=\"T_5dffe_row8_col15\" class=\"data row8 col15\" ></td>\n",
       "    </tr>\n",
       "    <tr>\n",
       "      <th id=\"T_5dffe_level0_row9\" class=\"row_heading level0 row9\" ></th>\n",
       "      <td id=\"T_5dffe_row9_col0\" class=\"data row9 col0\" >く</td>\n",
       "      <td id=\"T_5dffe_row9_col1\" class=\"data row9 col1\" >1266</td>\n",
       "      <td id=\"T_5dffe_row9_col2\" class=\"data row9 col2\" >す</td>\n",
       "      <td id=\"T_5dffe_row9_col3\" class=\"data row9 col3\" >1282</td>\n",
       "      <td id=\"T_5dffe_row9_col4\" class=\"data row9 col4\" >つ</td>\n",
       "      <td id=\"T_5dffe_row9_col5\" class=\"data row9 col5\" >1142</td>\n",
       "      <td id=\"T_5dffe_row9_col6\" class=\"data row9 col6\" >の</td>\n",
       "      <td id=\"T_5dffe_row9_col7\" class=\"data row9 col7\" >1160</td>\n",
       "      <td id=\"T_5dffe_row9_col8\" class=\"data row9 col8\" >へ</td>\n",
       "      <td id=\"T_5dffe_row9_col9\" class=\"data row9 col9\" >1114</td>\n",
       "      <td id=\"T_5dffe_row9_col10\" class=\"data row9 col10\" >も</td>\n",
       "      <td id=\"T_5dffe_row9_col11\" class=\"data row9 col11\" >1187</td>\n",
       "      <td id=\"T_5dffe_row9_col12\" class=\"data row9 col12\" >ゐ</td>\n",
       "      <td id=\"T_5dffe_row9_col13\" class=\"data row9 col13\" >1053</td>\n",
       "      <td id=\"T_5dffe_row9_col14\" class=\"data row9 col14\" ></td>\n",
       "      <td id=\"T_5dffe_row9_col15\" class=\"data row9 col15\" ></td>\n",
       "    </tr>\n",
       "  </tbody>\n",
       "</table>\n"
      ],
      "text/plain": [
       "<pandas.io.formats.style.Styler at 0x181e5e00790>"
      ]
     },
     "execution_count": 6,
     "metadata": {},
     "output_type": "execute_result"
    }
   ],
   "source": [
    "import numpy as np\n",
    "import pandas as pd\n",
    "from IPython import display\n",
    "\n",
    "chars = [chr(int(d.replace(\"U\", \"0x\"), 16)) for d in folders]\n",
    "dir_paths = [os.path.join(dirname, d) for d in folders]\n",
    "num_images = [len(os.listdir(d)) for d in dir_paths]\n",
    "\n",
    "df = pd.DataFrame([(c, n) for c, n in zip(chars, num_images)])\n",
    "sub_dfs = [df[i : i + 10].reset_index(drop=True) for i in range(0, len(df.index), 10)]\n",
    "df = pd.concat(sub_dfs, axis=1).fillna(\"\")\n",
    "\n",
    "df.index = [i for i in range(len(df.index))]\n",
    "df.columns = [j for j in range(len(df.columns))]\n",
    "\n",
    "\n",
    "def custom_style(df):\n",
    "    index = df.index\n",
    "    columns = df.columns\n",
    "    styles = []\n",
    "    for i in range(len(index)):\n",
    "        s = []\n",
    "        for j in range(len(columns)):\n",
    "            if columns[j] % 2 == 0:\n",
    "                s.append(\"font-weight: bold;\")\n",
    "            else:\n",
    "                s.append(None)\n",
    "        styles.append(s)\n",
    "\n",
    "    return np.array(styles, dtype=\"object\")\n",
    "\n",
    "\n",
    "df.style.format(precision=0).format_index(\"\", axis=1).format_index(\"\", axis=0).apply(\n",
    "    custom_style, axis=None\n",
    ")"
   ]
  },
  {
   "cell_type": "markdown",
   "metadata": {
    "editable": true,
    "slideshow": {
     "slide_type": ""
    },
    "tags": []
   },
   "source": [
    "このように、ひらがなについて、おおよそ1000程度の画像が含まれていることが確認できる。なお、半濁音のひらがなは全体的に少なめで100-200程度となっている。"
   ]
  },
  {
   "cell_type": "markdown",
   "metadata": {
    "editable": true,
    "slideshow": {
     "slide_type": ""
    },
    "tags": []
   },
   "source": [
    "### 分類用のデータ加工"
   ]
  },
  {
   "cell_type": "markdown",
   "metadata": {
    "editable": true,
    "slideshow": {
     "slide_type": ""
    },
    "tags": []
   },
   "source": [
    "MNISTでは手書き文字の画像が28x28=576次元ベクトル、ラベルが10種類の数字のいずれかを表わす0-9の数字であった。\n",
    "\n",
    "このようなデータ形式をひらがなデータセットに対しても作成しておく。なお、今回は分類の難易度を上げるため、**画像をランダムに回転したり、拡大縮小したりして、データのばらつきを大きくしておく**。また、今回のデータセットは画像が一度JPEGで圧縮されているようで、ブロックノイズを多く含むため、最初にバイラテラル・フィルタを書けてノイズを低減しておく。"
   ]
  },
  {
   "cell_type": "code",
   "execution_count": 7,
   "metadata": {
    "editable": true,
    "slideshow": {
     "slide_type": ""
    },
    "tags": []
   },
   "outputs": [],
   "source": [
    "# 文字への整数の割り当て\n",
    "n_chars = len(chars)\n",
    "char2num = {c: i for i, c in enumerate(chars)}"
   ]
  },
  {
   "cell_type": "code",
   "execution_count": 8,
   "metadata": {
    "editable": true,
    "slideshow": {
     "slide_type": ""
    },
    "tags": [
     "hide-output"
    ]
   },
   "outputs": [
    {
     "data": {
      "application/vnd.jupyter.widget-view+json": {
       "model_id": "6122eabb2c344d669f6968ac3e33425c",
       "version_major": 2,
       "version_minor": 0
      },
      "text/plain": [
       "  0%|          | 0/80000 [00:00<?, ?it/s]"
      ]
     },
     "metadata": {},
     "output_type": "display_data"
    }
   ],
   "source": [
    "import cv2\n",
    "\n",
    "n_total = sum(num_images)\n",
    "pbar = tqdm(total=n_total)\n",
    "\n",
    "# 画像の読み取り\n",
    "X = []  # 画像データ\n",
    "y = []  # ラベルデータ\n",
    "for d in dir_paths:\n",
    "    # 文字に対する数字を計算\n",
    "    char = os.path.basename(d).replace(\"U\", \"0x\")\n",
    "    char = chr(int(char, 16))\n",
    "    num = char2num[char]\n",
    "    # 画像の読み込み\n",
    "    image_files = [os.path.join(d, f) for f in os.listdir(d)]\n",
    "    image_files = [f for f in image_files if f.endswith(\".png\")]\n",
    "    for f in image_files:\n",
    "        image = cv2.imread(f, cv2.IMREAD_COLOR)\n",
    "        if image is None:\n",
    "            raise IOError(\"Failed to load image: {:s}\".format(f))\n",
    "\n",
    "        image = cv2.cvtColor(image, cv2.COLOR_BGR2GRAY)\n",
    "\n",
    "        # ランダム輝度変更\n",
    "        factor = np.random.uniform(0.9, 1.1)\n",
    "        image = (((image / 255.0) ** factor) * 255.0).astype(\"uint8\")\n",
    "\n",
    "        # データのランダム回転、ランダムスケール\n",
    "        height, width = image.shape\n",
    "        center = (width // 2, height // 2)\n",
    "        scale = np.random.uniform(0.9, 1.1)\n",
    "        angle = np.random.uniform(-60, 60)\n",
    "        trans = cv2.getRotationMatrix2D(center, angle, scale)\n",
    "        image = cv2.warpAffine(image, trans, (width, height), borderMode=cv2.BORDER_REPLICATE)\n",
    "\n",
    "        # 細かなノイズの除去\n",
    "        image = cv2.bilateralFilter(image, -1, 15.0, 5.0)\n",
    "\n",
    "        X.append(image.flatten())\n",
    "        y.append(num)\n",
    "\n",
    "        pbar.update(1)\n",
    "\n",
    "X = np.stack(X, axis=0)\n",
    "y = np.stack(y, axis=0)"
   ]
  },
  {
   "cell_type": "markdown",
   "metadata": {
    "editable": true,
    "slideshow": {
     "slide_type": ""
    },
    "tags": []
   },
   "source": [
    "読み込みが完了したら例のごとく訓練データとテストデータに分割しておく。今回は画像が80000枚あるが、実験時間を短くするため、{glue}`n_samples`枚を訓練画像、10000枚を検証用データ (今回は使わない)、10000枚をテスト画像とする。"
   ]
  },
  {
   "cell_type": "code",
   "execution_count": 9,
   "metadata": {
    "editable": true,
    "slideshow": {
     "slide_type": ""
    },
    "tags": []
   },
   "outputs": [],
   "source": [
    "from sklearn import model_selection\n",
    "\n",
    "X, X_test, y, y_test = model_selection.train_test_split(\n",
    "    X, y, train_size=70000, test_size=10000, shuffle=True\n",
    ")\n",
    "\n",
    "X, X_val, y, y_val = model_selection.train_test_split(\n",
    "    X, y, train_size=60000, test_size=10000, shuffle=False\n",
    ")\n",
    "\n",
    "X, y = X[:n_samples], y[:n_samples]"
   ]
  },
  {
   "cell_type": "markdown",
   "metadata": {
    "editable": true,
    "slideshow": {
     "slide_type": ""
    },
    "tags": []
   },
   "source": [
    "データセットの先頭数枚の画像は次のようになっている。"
   ]
  },
  {
   "cell_type": "code",
   "execution_count": 10,
   "metadata": {
    "editable": true,
    "slideshow": {
     "slide_type": ""
    },
    "tags": []
   },
   "outputs": [
    {
     "data": {
      "image/png": "[encoded data removed]",
      "text/plain": [
       "<Figure size 960x720 with 6 Axes>"
      ]
     },
     "metadata": {},
     "output_type": "display_data"
    }
   ],
   "source": [
    "import matplotlib.pyplot as plt\n",
    "\n",
    "fig, axs = plt.subplots(2, 3)\n",
    "axs = axs.flatten()\n",
    "for i in range(6):\n",
    "    img = X[i].reshape((48, 48))\n",
    "    axs[i].imshow(img, cmap=\"gray\", vmin=0, vmax=255, interpolation=None)\n",
    "    axs[i].set_xticks([])\n",
    "    axs[i].set_yticks([])\n",
    "\n",
    "plt.tight_layout()\n",
    "plt.show()"
   ]
  },
  {
   "cell_type": "markdown",
   "metadata": {
    "editable": true,
    "slideshow": {
     "slide_type": ""
    },
    "tags": []
   },
   "source": [
    "### 実験: SVMによる分類"
   ]
  },
  {
   "cell_type": "markdown",
   "metadata": {
    "editable": true,
    "slideshow": {
     "slide_type": ""
    },
    "tags": []
   },
   "source": [
    "まずは、MNISTの時と同様にscikit-learnによる分類を試してみる。この時、[scikit-learnの節](sec:scikit-learn)で紹介したように、予め入力データを正規化しておく処理である`StandardScaler`を使用する。\n",
    "\n",
    "また、scikit-learnには`make_pipeline`というメソッドがあり、これを利用することで、「データの正規化」+「分類器の学習」を連続で行ってくれる仕組みも存在する。\n",
    "\n",
    "ただし、今回は、サポートベクトルマシンの学習が低速である問題を解決するために、`SGDClassifier`というクラスに用意された`pertial_fit`というメソッドを使って、データセットの一部だけを分類器のパラメータ更新に用いる**確率的最急降下法** (SGD=Stochastic Gradienct Descent)により学習を行う。"
   ]
  },
  {
   "cell_type": "markdown",
   "metadata": {
    "editable": true,
    "slideshow": {
     "slide_type": ""
    },
    "tags": []
   },
   "source": [
    "`partial_fit`メソッドは、`make_pipeline`には対応していないため、自前で`StandardScaler`によるデータの正規化と`partial_fit`によるパラメータ更新を連続で行うクラスを用意する。"
   ]
  },
  {
   "cell_type": "code",
   "execution_count": 11,
   "metadata": {
    "editable": true,
    "slideshow": {
     "slide_type": ""
    },
    "tags": []
   },
   "outputs": [],
   "source": [
    "\"\"\"\n",
    "StandardScaler+SGDClassifierの実行クラス\n",
    "\"\"\"\n",
    "\n",
    "from sklearn.linear_model import SGDClassifier\n",
    "from sklearn.preprocessing import StandardScaler\n",
    "\n",
    "\n",
    "class MySGDClassifier(object):\n",
    "    def __init__(self, *args, **kwargs):\n",
    "        self.X = X\n",
    "        self.y = y\n",
    "        self.preprocess = StandardScaler()\n",
    "        self.classifier = SGDClassifier(*args, **kwargs)\n",
    "\n",
    "    def fit(self, X, y):\n",
    "        # 前処理の学習\n",
    "        self.preprocess.fit(X)\n",
    "\n",
    "        # バッチを用いたトレーニング\n",
    "        pbar = tqdm(total=len(X))\n",
    "        rand_idx = np.random.permutation(np.arange(len(X)))\n",
    "        for b in range(0, len(X), batch_size):\n",
    "            if b + batch_size >= len(X):\n",
    "                idx = rand_idx[b:]\n",
    "            else:\n",
    "                idx = rand_idx[b : b + batch_size]\n",
    "\n",
    "            X_norm = self.preprocess.transform(X[idx])\n",
    "            self.classifier.partial_fit(X_norm, y[idx], self.y)\n",
    "\n",
    "            score = self.classifier.score(X_norm, y[idx])\n",
    "            pbar.set_description(\"score={:.3f}\".format(score))\n",
    "            pbar.update(len(idx))\n",
    "\n",
    "    def predict(self, X):\n",
    "        X_norm = self.preprocess.transform(X)\n",
    "        return self.classifier.predict(X_norm)"
   ]
  },
  {
   "cell_type": "markdown",
   "metadata": {
    "editable": true,
    "slideshow": {
     "slide_type": ""
    },
    "tags": []
   },
   "source": [
    "なお、`SGDClassier`は、 `loss=\"hinge\"` とすることで、内部の分類器が線形SVMになる。また、`partial_fit`で分類器のパラメータ更新を行う際は、`learning_rate=...`ならびに更新率を`eta0=...`の設定で学習の進行度が変化する。以下のコードでは`learning_rate=\"optimal\"`を指定して、適当な学習率を自動で与えている。"
   ]
  },
  {
   "cell_type": "code",
   "execution_count": 12,
   "metadata": {
    "editable": true,
    "slideshow": {
     "slide_type": ""
    },
    "tags": []
   },
   "outputs": [
    {
     "data": {
      "application/vnd.jupyter.widget-view+json": {
       "model_id": "536818405ca44f93b4a01553483d23bb",
       "version_major": 2,
       "version_minor": 0
      },
      "text/plain": [
       "  0%|          | 0/30000 [00:00<?, ?it/s]"
      ]
     },
     "metadata": {},
     "output_type": "display_data"
    }
   ],
   "source": [
    "sgd_params = {\n",
    "    \"loss\": \"hinge\",\n",
    "    \"learning_rate\": \"optimal\",\n",
    "    \"penalty\": \"l2\",\n",
    "    \"alpha\": 1.0e-2,\n",
    "    \"shuffle\": False,\n",
    "    \"max_iter\": 10000,\n",
    "    \"n_jobs\": 4,\n",
    "}\n",
    "\n",
    "clf = MySGDClassifier(**sgd_params)\n",
    "clf.fit(X, y)"
   ]
  },
  {
   "cell_type": "code",
   "execution_count": 13,
   "metadata": {
    "editable": true,
    "slideshow": {
     "slide_type": ""
    },
    "tags": []
   },
   "outputs": [
    {
     "data": {
      "application/papermill.record/text/plain": "51.86333333333334"
     },
     "metadata": {
      "scrapbook": {
       "mime_prefix": "application/papermill.record/",
       "name": "naive_acc_train"
      }
     },
     "output_type": "display_data"
    }
   ],
   "source": [
    "# 訓練時の識別精度の確認\n",
    "y_pred = clf.predict(X)\n",
    "acc_train = 100.0 * np.sum(y_pred == y) / len(y)\n",
    "glue(\"naive_acc_train\", acc_train, display=False)\n",
    "result_df.loc[len(result_df), :] = [\"Image\", acc_train, \"Train\"]"
   ]
  },
  {
   "cell_type": "code",
   "execution_count": 14,
   "metadata": {
    "editable": true,
    "slideshow": {
     "slide_type": ""
    },
    "tags": []
   },
   "outputs": [
    {
     "data": {
      "application/papermill.record/text/plain": "48.63"
     },
     "metadata": {
      "scrapbook": {
       "mime_prefix": "application/papermill.record/",
       "name": "naive_acc_test"
      }
     },
     "output_type": "display_data"
    }
   ],
   "source": [
    "# テストデータに対する識別精度の計算\n",
    "y_pred = clf.predict(X_test)\n",
    "acc_test = 100.0 * np.sum(y_pred == y_test) / len(y_test)\n",
    "glue(\"naive_acc_test\", acc_test, display=False)\n",
    "result_df.loc[len(result_df), :] = [\"Image\", acc_test, \"Test\"]"
   ]
  },
  {
   "cell_type": "markdown",
   "metadata": {
    "editable": true,
    "slideshow": {
     "slide_type": ""
    },
    "tags": []
   },
   "source": [
    "**結果: 画像をそのまま入力**\n",
    "\n",
    "- 訓練時精度: {glue:text}`naive_acc_train:.2f`%\n",
    "- 評価時精度: {glue:text}`naive_acc_test:.2f`%"
   ]
  },
  {
   "cell_type": "markdown",
   "metadata": {
    "editable": true,
    "slideshow": {
     "slide_type": ""
    },
    "tags": []
   },
   "source": [
    "このように、今回は分類問題の難易度が上がっており、SVMを用いても十分な精度が得られていないことが分かる。また、単に画像をベクトルとして扱うのは、(特に入力画像が大きい場合には)計算効率の観点からも好ましいとは言いがたい。加えて、必ずしもデータセット中の画像の大きさが揃っていることばかりではないので、画像の大きさに依存しないように画像を特徴ベクトル化できることが好ましいと言える。"
   ]
  },
  {
   "cell_type": "markdown",
   "metadata": {
    "editable": true,
    "slideshow": {
     "slide_type": ""
    },
    "tags": []
   },
   "source": [
    "## 主成分分析による次元圧縮"
   ]
  },
  {
   "cell_type": "markdown",
   "metadata": {
    "editable": true,
    "slideshow": {
     "slide_type": ""
    },
    "tags": []
   },
   "source": [
    "まずは、前項の[次元圧縮](sec:data-visualization)を参考に、主成分分析を用いて、画像データを低次元ベクトルに変換し、それを学習に用いる方策を考えてみる。"
   ]
  },
  {
   "cell_type": "code",
   "execution_count": 15,
   "metadata": {
    "editable": true,
    "slideshow": {
     "slide_type": ""
    },
    "tags": []
   },
   "outputs": [],
   "source": [
    "from sklearn.decomposition import PCA\n",
    "\n",
    "pca = PCA(n_components=50)\n",
    "X_pca = pca.fit_transform(X)"
   ]
  },
  {
   "cell_type": "code",
   "execution_count": 16,
   "metadata": {
    "editable": true,
    "slideshow": {
     "slide_type": ""
    },
    "tags": []
   },
   "outputs": [
    {
     "data": {
      "application/vnd.jupyter.widget-view+json": {
       "model_id": "7ad8cc4f853046b8852f65ab7842ccda",
       "version_major": 2,
       "version_minor": 0
      },
      "text/plain": [
       "  0%|          | 0/30000 [00:00<?, ?it/s]"
      ]
     },
     "metadata": {},
     "output_type": "display_data"
    }
   ],
   "source": [
    "clf0 = MySGDClassifier(**sgd_params)\n",
    "clf0.fit(X_pca, y)"
   ]
  },
  {
   "cell_type": "code",
   "execution_count": 17,
   "metadata": {
    "editable": true,
    "slideshow": {
     "slide_type": ""
    },
    "tags": []
   },
   "outputs": [
    {
     "data": {
      "application/papermill.record/text/plain": "23.426666666666666"
     },
     "metadata": {
      "scrapbook": {
       "mime_prefix": "application/papermill.record/",
       "name": "pca_acc_train"
      }
     },
     "output_type": "display_data"
    }
   ],
   "source": [
    "# 訓練時の識別精度の確認\n",
    "y_pred = clf0.predict(X_pca)\n",
    "acc_train = 100.0 * np.sum(y_pred == y) / len(y)\n",
    "glue(\"pca_acc_train\", acc_train, display=False)\n",
    "result_df.loc[len(result_df), :] = [\"PCA\", acc_train, \"Train\"]"
   ]
  },
  {
   "cell_type": "code",
   "execution_count": 18,
   "metadata": {
    "editable": true,
    "slideshow": {
     "slide_type": ""
    },
    "tags": []
   },
   "outputs": [
    {
     "data": {
      "application/papermill.record/text/plain": "22.25"
     },
     "metadata": {
      "scrapbook": {
       "mime_prefix": "application/papermill.record/",
       "name": "pca_acc_test"
      }
     },
     "output_type": "display_data"
    }
   ],
   "source": [
    "# テストデータに対する識別精度の計算\n",
    "X_pca_test = pca.transform(X_test)\n",
    "y_pred = clf0.predict(X_pca_test)\n",
    "acc_test = 100.0 * np.sum(y_pred == y_test) / len(y_test)\n",
    "glue(\"pca_acc_test\", acc_test, display=False)\n",
    "result_df.loc[len(result_df), :] = [\"PCA\", acc_test, \"Test\"]"
   ]
  },
  {
   "cell_type": "markdown",
   "metadata": {
    "editable": true,
    "slideshow": {
     "slide_type": ""
    },
    "tags": []
   },
   "source": [
    "**結果: 主成分分析による次元圧縮**\n",
    "\n",
    "- 訓練時精度: {glue}`pca_acc_train`%\n",
    "- 評価時精度: {glue}`pca_acc_test`%"
   ]
  },
  {
   "cell_type": "markdown",
   "metadata": {
    "editable": true,
    "slideshow": {
     "slide_type": ""
    },
    "tags": []
   },
   "source": [
    "### 輝度によるヒストグラム化"
   ]
  },
  {
   "cell_type": "markdown",
   "metadata": {
    "editable": true,
    "slideshow": {
     "slide_type": ""
    },
    "tags": []
   },
   "source": [
    "まず、非常に単純なアイディアとして画像の輝度を基準としたヒストグラム化を考えてみる。今、画像は256階調の輝度で表わされているので、輝度のヒストグラムを作ることで、どれほど大きな画像であっても256次元のベクトルにすることができる。\n",
    "\n",
    "一例として、データセットの先頭の画像に対して、輝度ヒストグラムを計算した結果が以下である (分かりやすさのためにヒストグラムのbin数を32としてある)。"
   ]
  },
  {
   "cell_type": "code",
   "execution_count": 19,
   "metadata": {
    "editable": true,
    "slideshow": {
     "slide_type": ""
    },
    "tags": []
   },
   "outputs": [
    {
     "data": {
      "image/png": "[encoded data removed]",
      "text/plain": [
       "<Figure size 1200x600 with 2 Axes>"
      ]
     },
     "metadata": {},
     "output_type": "display_data"
    }
   ],
   "source": [
    "import matplotlib.pyplot as plt\n",
    "from matplotlib.gridspec import GridSpec\n",
    "\n",
    "img = X[0].reshape((48, 48))\n",
    "\n",
    "fig = plt.figure(figsize=(8, 4))\n",
    "gs = GridSpec(1, 2, width_ratios=[1, 1], figure=fig)\n",
    "\n",
    "ax1 = plt.subplot(gs[0])\n",
    "ax2 = plt.subplot(gs[1])\n",
    "\n",
    "ax1.imshow(img, cmap=\"gray\", vmin=0, vmax=255, interpolation=None)\n",
    "ax1.set(title=\"Input image\", xticks=[], yticks=[])\n",
    "\n",
    "ax2.hist(img.flatten(), bins=32, density=True)\n",
    "ax2.set(title=\"Histogram of image intensities\")\n",
    "\n",
    "plt.tight_layout()\n",
    "plt.show()"
   ]
  },
  {
   "cell_type": "markdown",
   "metadata": {
    "editable": true,
    "slideshow": {
     "slide_type": ""
    },
    "tags": []
   },
   "source": [
    "このヒストグラムを画像全体に対する特徴ベクトルとみなし、SVMによる文字分類を試してみる。"
   ]
  },
  {
   "cell_type": "code",
   "execution_count": 20,
   "metadata": {
    "editable": true,
    "slideshow": {
     "slide_type": ""
    },
    "tags": []
   },
   "outputs": [
    {
     "data": {
      "application/vnd.jupyter.widget-view+json": {
       "model_id": "70fd24bbddae4d65bbf09a373c1a1ca4",
       "version_major": 2,
       "version_minor": 0
      },
      "text/plain": [
       "  0%|          | 0/30000 [00:00<?, ?it/s]"
      ]
     },
     "metadata": {},
     "output_type": "display_data"
    }
   ],
   "source": [
    "X_hist = []\n",
    "for x in tqdm(X):\n",
    "    h = np.histogram(x, bins=255, density=True)\n",
    "    X_hist.append(h[0])\n",
    "\n",
    "X_hist = np.stack(X_hist, axis=0)"
   ]
  },
  {
   "cell_type": "code",
   "execution_count": 21,
   "metadata": {
    "editable": true,
    "slideshow": {
     "slide_type": ""
    },
    "tags": []
   },
   "outputs": [
    {
     "data": {
      "application/vnd.jupyter.widget-view+json": {
       "model_id": "ca65fb112bcb4e14b1fa3701233be1f4",
       "version_major": 2,
       "version_minor": 0
      },
      "text/plain": [
       "  0%|          | 0/30000 [00:00<?, ?it/s]"
      ]
     },
     "metadata": {},
     "output_type": "display_data"
    }
   ],
   "source": [
    "clf2 = MySGDClassifier(**sgd_params)\n",
    "clf2.fit(X_hist, y)"
   ]
  },
  {
   "cell_type": "code",
   "execution_count": 22,
   "metadata": {
    "editable": true,
    "slideshow": {
     "slide_type": ""
    },
    "tags": []
   },
   "outputs": [
    {
     "data": {
      "application/papermill.record/text/plain": "2.98"
     },
     "metadata": {
      "scrapbook": {
       "mime_prefix": "application/papermill.record/",
       "name": "hist_acc_train"
      }
     },
     "output_type": "display_data"
    }
   ],
   "source": [
    "# 訓練時の識別精度の確認\n",
    "y_pred = clf2.predict(X_hist)\n",
    "acc_train = 100.0 * np.sum(y_pred == y) / len(y)\n",
    "glue(\"hist_acc_train\", acc_train, display=False)\n",
    "result_df.loc[len(result_df), :] = [\"Hist\", acc_train, \"Train\"]"
   ]
  },
  {
   "cell_type": "code",
   "execution_count": 23,
   "metadata": {
    "editable": true,
    "slideshow": {
     "slide_type": ""
    },
    "tags": []
   },
   "outputs": [
    {
     "data": {
      "application/vnd.jupyter.widget-view+json": {
       "model_id": "8e38f97cdf6f4d7b94b1488eed2d2182",
       "version_major": 2,
       "version_minor": 0
      },
      "text/plain": [
       "  0%|          | 0/10000 [00:00<?, ?it/s]"
      ]
     },
     "metadata": {},
     "output_type": "display_data"
    }
   ],
   "source": [
    "X_hist_test = []\n",
    "for x in tqdm(X_test):\n",
    "    h = np.histogram(x, bins=255, density=True)\n",
    "    X_hist_test.append(h[0])\n",
    "\n",
    "X_hist_test = np.stack(X_hist_test, axis=0)"
   ]
  },
  {
   "cell_type": "code",
   "execution_count": 24,
   "metadata": {
    "editable": true,
    "slideshow": {
     "slide_type": ""
    },
    "tags": []
   },
   "outputs": [
    {
     "data": {
      "application/papermill.record/text/plain": "2.6"
     },
     "metadata": {
      "scrapbook": {
       "mime_prefix": "application/papermill.record/",
       "name": "hist_acc_test"
      }
     },
     "output_type": "display_data"
    }
   ],
   "source": [
    "# テストデータに対する識別精度の計算\n",
    "y_pred = clf2.predict(X_hist_test)\n",
    "acc_test = 100.0 * np.sum(y_pred == y_test) / len(y_test)\n",
    "glue(\"hist_acc_test\", acc_test, display=False)\n",
    "result_df.loc[len(result_df), :] = [\"Hist\", acc_test, \"Test\"]"
   ]
  },
  {
   "cell_type": "markdown",
   "metadata": {
    "editable": true,
    "slideshow": {
     "slide_type": ""
    },
    "tags": []
   },
   "source": [
    "**結果: 輝度ヒストグラムの利用**\n",
    "\n",
    "- 訓練時精度: {glue}`hist_acc_train`%\n",
    "- 評価時精度: {glue}`hist_acc_test`%"
   ]
  },
  {
   "cell_type": "markdown",
   "metadata": {
    "editable": true,
    "slideshow": {
     "slide_type": ""
    },
    "tags": []
   },
   "source": [
    "しかし、実際に試してみると上記のように満足な精度が得られるには至っていない。これは、ほとんどの画像がほぼ同じ割合の白と黒の領域でできていて、それをヒストグラム化してしまうと、文字の分類が難しくなるためである。\n",
    "\n",
    "また、輝度のヒストグラムは写真を写した時の周囲の明るさなどにも影響を受けるため、たとえ写真に写っている物が同じであったとしても、周囲の環境によって、ヒストグラムが変化してしまうなど、一貫性に乏しい。\n",
    "\n",
    "従って、もう少し気の利いた方法を考える必要がある。"
   ]
  },
  {
   "cell_type": "markdown",
   "metadata": {
    "editable": true,
    "slideshow": {
     "slide_type": ""
    },
    "tags": []
   },
   "source": [
    "## Local Binary Pattern (LBP)"
   ]
  },
  {
   "cell_type": "markdown",
   "metadata": {
    "editable": true,
    "slideshow": {
     "slide_type": ""
    },
    "tags": []
   },
   "source": [
    "Local Binary Pattern (LBP)は、とある画素を中心とした3x3の領域について、中心画素と周りの画素の輝度の大小を数値化する手法である {cite}`ojala1996comparative`。\n",
    "\n",
    "一例として、とある中心画素周辺の画素値が以下のようになっている場合を考えよう。"
   ]
  },
  {
   "cell_type": "code",
   "execution_count": 25,
   "metadata": {
    "editable": true,
    "slideshow": {
     "slide_type": ""
    },
    "tags": []
   },
   "outputs": [],
   "source": [
    "def draw_frame(problem, fig, ax):\n",
    "    mask = (problem == 0).astype(\"float32\")\n",
    "    frame = []\n",
    "    ax.set_xticks(np.arange(0, 9))\n",
    "    ax.set_yticks(np.arange(0, 9))\n",
    "    ax.set_xticklabels(np.arange(1, 10))\n",
    "    ax.set_yticklabels(np.arange(1, 10))\n",
    "\n",
    "    ax.set_xticks(np.arange(1, 10) - 0.5, minor=True)\n",
    "    ax.set_yticks(np.arange(1, 10) - 0.5, minor=True)\n",
    "    ax.set_xticks(np.arange(3, 10, 3) - 0.5)\n",
    "    ax.set_yticks(np.arange(3, 10, 3) - 0.5)\n",
    "\n",
    "    ims = plt.imshow(mask * 0.2, cmap=\"Blues\", vmin=0.0, vmax=1.0)\n",
    "    frame.append(ims)\n",
    "    for (i, j), z in np.ndenumerate(problem):\n",
    "        txt = ax.text(j, i, \"{:d}\".format(z), ha=\"center\", va=\"center\", color=\"k\", fontsize=15)\n",
    "        frame.append(txt)\n",
    "\n",
    "    ax.grid(which=\"minor\", color=\"k\", linestyle=\"-\", linewidth=0.5)\n",
    "    ax.grid(which=\"major\", color=\"k\", linestyle=\"-\", linewidth=1.0)"
   ]
  },
  {
   "cell_type": "code",
   "execution_count": 26,
   "metadata": {
    "editable": true,
    "slideshow": {
     "slide_type": ""
    },
    "tags": []
   },
   "outputs": [
    {
     "data": {
      "image/png": "[encoded data removed]",
      "text/plain": [
       "<Figure size 450x450 with 1 Axes>"
      ]
     },
     "metadata": {},
     "output_type": "display_data"
    }
   ],
   "source": [
    "rng = np.random.RandomState(0)\n",
    "m = rng.randint(0, 256, size=(3, 3))\n",
    "fig, ax = plt.subplots(figsize=(3, 3))\n",
    "draw_frame(m, fig, ax)"
   ]
  },
  {
   "cell_type": "markdown",
   "metadata": {
    "editable": true,
    "slideshow": {
     "slide_type": ""
    },
    "tags": []
   },
   "source": [
    "このとき、中心画素と周囲の8画素の大小を見比べて、大きいものを1, 小さいものを0に置き換える。"
   ]
  },
  {
   "cell_type": "code",
   "execution_count": 27,
   "metadata": {
    "editable": true,
    "slideshow": {
     "slide_type": ""
    },
    "tags": []
   },
   "outputs": [
    {
     "data": {
      "image/png": "[encoded data removed]",
      "text/plain": [
       "<Figure size 450x450 with 1 Axes>"
      ]
     },
     "metadata": {},
     "output_type": "display_data"
    }
   ],
   "source": [
    "c = m[1, 1]\n",
    "b = (m > c).astype(\"int32\")\n",
    "fig, ax = plt.subplots(figsize=(3, 3))\n",
    "draw_frame(b, fig, ax)"
   ]
  },
  {
   "cell_type": "markdown",
   "metadata": {
    "editable": true,
    "slideshow": {
     "slide_type": ""
    },
    "tags": []
   },
   "source": [
    "この周囲の8画素に割り当てられた0, 1のパターンが8ビットの符号なし整数であると考えて数値を求める。このとき、以下のような時計回りに2のべき乗が並んだ画像を用いると良い。"
   ]
  },
  {
   "cell_type": "code",
   "execution_count": 28,
   "metadata": {
    "editable": true,
    "slideshow": {
     "slide_type": ""
    },
    "tags": []
   },
   "outputs": [
    {
     "data": {
      "image/png": "[encoded data removed]",
      "text/plain": [
       "<Figure size 450x450 with 1 Axes>"
      ]
     },
     "metadata": {},
     "output_type": "display_data"
    }
   ],
   "source": [
    "p = 2 ** np.array([[6, 7, 0], [5, 0, 1], [4, 3, 2]])\n",
    "p[1, 1] = 0\n",
    "\n",
    "fig, ax = plt.subplots(figsize=(3, 3))\n",
    "draw_frame(p, fig, ax)"
   ]
  },
  {
   "cell_type": "code",
   "execution_count": 29,
   "metadata": {
    "editable": true,
    "slideshow": {
     "slide_type": ""
    },
    "tags": [
     "remove-input"
    ]
   },
   "outputs": [
    {
     "data": {
      "application/papermill.record/text/plain": "123"
     },
     "metadata": {
      "scrapbook": {
       "mime_prefix": "application/papermill.record/",
       "name": "lbp_val"
      }
     },
     "output_type": "display_data"
    }
   ],
   "source": [
    "lbp_val = np.sum(b * p)\n",
    "glue(\"lbp_val\", lbp_val, display=False)"
   ]
  },
  {
   "cell_type": "markdown",
   "metadata": {
    "editable": true,
    "slideshow": {
     "slide_type": ""
    },
    "tags": []
   },
   "source": [
    "すると、上記の3x3の領域に対しては、LBPの値として**{glue}`lbp_val`**が求まる。"
   ]
  },
  {
   "cell_type": "markdown",
   "metadata": {
    "editable": true,
    "slideshow": {
     "slide_type": ""
    },
    "tags": []
   },
   "source": [
    "この計算を先ほどと同様にデータセットの先頭画像の各画素に対して計算すると、その結果と、LBP値のヒストグラムは以下のようになる。"
   ]
  },
  {
   "cell_type": "code",
   "execution_count": 30,
   "metadata": {
    "editable": true,
    "slideshow": {
     "slide_type": ""
    },
    "tags": [
     "hide-input"
    ]
   },
   "outputs": [],
   "source": [
    "img = X[0].reshape((48, 48))\n",
    "\n",
    "lbp = np.zeros_like(img).astype(\"uint8\")\n",
    "for j in range(1, img.shape[0] - 1):\n",
    "    for i in range(1, img.shape[1] - 1):\n",
    "        c = img[i, j]\n",
    "        m = img[i - 1 : i + 2, j - 1 : j + 2]\n",
    "        b = (m > c).astype(\"int32\")\n",
    "        lbp[i, j] = np.sum(p * b)\n",
    "\n",
    "# 輪郭の画素では計算できないので、輪郭を除いておく\n",
    "lbp = lbp[1:-1, 1:-1]"
   ]
  },
  {
   "cell_type": "code",
   "execution_count": 31,
   "metadata": {
    "editable": true,
    "slideshow": {
     "slide_type": ""
    },
    "tags": [
     "hide-input"
    ]
   },
   "outputs": [
    {
     "data": {
      "image/png": "[encoded data removed]",
      "text/plain": [
       "<Figure size 1200x600 with 2 Axes>"
      ]
     },
     "metadata": {},
     "output_type": "display_data"
    }
   ],
   "source": [
    "fig = plt.figure(figsize=(8, 4))\n",
    "gs = GridSpec(1, 2, width_ratios=[1, 1], figure=fig)\n",
    "\n",
    "ax1 = plt.subplot(gs[0])\n",
    "ax2 = plt.subplot(gs[1])\n",
    "\n",
    "ax1.imshow(lbp, cmap=\"gray\", vmin=0, vmax=255, interpolation=None)\n",
    "ax1.set_xticks([])\n",
    "ax1.set_yticks([])\n",
    "ax1.set_title(\"LBP image\")\n",
    "\n",
    "ax2.hist(lbp.flatten(), bins=32, density=True)\n",
    "ax2.set_title(\"Histogram of LBP values\")\n",
    "\n",
    "plt.tight_layout()\n",
    "plt.show()"
   ]
  },
  {
   "cell_type": "markdown",
   "metadata": {
    "editable": true,
    "slideshow": {
     "slide_type": ""
    },
    "tags": []
   },
   "source": [
    "LBPを用いることの利点は画像の相対的な輝度だけを見ている点にあり、仮に画像の輝度が2倍になったりしても求まるLBPの値は全く変化しない。そのため、同じ対象を異なる光源下で計算した場合などに一貫した特徴を得られる。"
   ]
  },
  {
   "cell_type": "code",
   "execution_count": 32,
   "metadata": {
    "editable": true,
    "slideshow": {
     "slide_type": ""
    },
    "tags": []
   },
   "outputs": [
    {
     "data": {
      "application/vnd.jupyter.widget-view+json": {
       "model_id": "76a82f276b2847cbad7bfd0875e411ad",
       "version_major": 2,
       "version_minor": 0
      },
      "text/plain": [
       "  0%|          | 0/30000 [00:00<?, ?it/s]"
      ]
     },
     "metadata": {},
     "output_type": "display_data"
    }
   ],
   "source": [
    "from sklearn.feature_extraction.image import extract_patches_2d\n",
    "\n",
    "\n",
    "def calc_lbp(x):\n",
    "    pat = (2 ** np.array([[0, 1, 2], [7, 0, 3], [6, 5, 4]])).astype(\"int32\")\n",
    "\n",
    "    patches = extract_patches_2d(x, (3, 3))\n",
    "    centers = patches[:, 1, 1].reshape((-1, 1, 1))\n",
    "    binary = (patches > centers).astype(\"int32\")\n",
    "\n",
    "    return np.sum(binary * pat.reshape((1, 3, 3)), axis=(1, 2))\n",
    "\n",
    "\n",
    "def calc_lbp_hist(x):\n",
    "    lbp = calc_lbp(x)\n",
    "    return np.histogram(lbp, bins=255, density=True)[0]\n",
    "\n",
    "\n",
    "X_lbp = [calc_lbp_hist(x.reshape((48, 48))) for x in tqdm(X)]\n",
    "X_lbp = np.stack(X_lbp, axis=0)"
   ]
  },
  {
   "cell_type": "code",
   "execution_count": 33,
   "metadata": {
    "editable": true,
    "slideshow": {
     "slide_type": ""
    },
    "tags": []
   },
   "outputs": [
    {
     "data": {
      "application/vnd.jupyter.widget-view+json": {
       "model_id": "ab3acd86c690415badbd0bd96d06c47a",
       "version_major": 2,
       "version_minor": 0
      },
      "text/plain": [
       "  0%|          | 0/30000 [00:00<?, ?it/s]"
      ]
     },
     "metadata": {},
     "output_type": "display_data"
    }
   ],
   "source": [
    "clf3 = MySGDClassifier(**sgd_params)\n",
    "clf3.fit(X_lbp, y)"
   ]
  },
  {
   "cell_type": "code",
   "execution_count": 34,
   "metadata": {
    "editable": true,
    "slideshow": {
     "slide_type": ""
    },
    "tags": []
   },
   "outputs": [
    {
     "data": {
      "application/papermill.record/text/plain": "9.733333333333333"
     },
     "metadata": {
      "scrapbook": {
       "mime_prefix": "application/papermill.record/",
       "name": "lbp_acc_train"
      }
     },
     "output_type": "display_data"
    }
   ],
   "source": [
    "# 訓練時の識別精度の確認\n",
    "y_pred = clf3.predict(X_lbp)\n",
    "acc_train = 100.0 * np.sum(y_pred == y) / len(y)\n",
    "glue(\"lbp_acc_train\", acc_train, display=False)\n",
    "result_df.loc[len(result_df), :] = [\"LBP\", acc_train, \"Train\"]"
   ]
  },
  {
   "cell_type": "code",
   "execution_count": 35,
   "metadata": {
    "editable": true,
    "slideshow": {
     "slide_type": ""
    },
    "tags": []
   },
   "outputs": [
    {
     "data": {
      "application/vnd.jupyter.widget-view+json": {
       "model_id": "61c065b07d144ff5a7d202bdffc226e2",
       "version_major": 2,
       "version_minor": 0
      },
      "text/plain": [
       "  0%|          | 0/10000 [00:00<?, ?it/s]"
      ]
     },
     "metadata": {},
     "output_type": "display_data"
    }
   ],
   "source": [
    "X_lbp_test = [calc_lbp_hist(x.reshape((48, 48))) for x in tqdm(X_test)]\n",
    "X_lbp_test = np.stack(X_lbp_test, axis=0)"
   ]
  },
  {
   "cell_type": "code",
   "execution_count": 36,
   "metadata": {
    "editable": true,
    "slideshow": {
     "slide_type": ""
    },
    "tags": []
   },
   "outputs": [
    {
     "data": {
      "application/papermill.record/text/plain": "8.17"
     },
     "metadata": {
      "scrapbook": {
       "mime_prefix": "application/papermill.record/",
       "name": "lbp_acc_test"
      }
     },
     "output_type": "display_data"
    }
   ],
   "source": [
    "# テストデータに対する識別精度の計算\n",
    "y_pred = clf3.predict(X_lbp_test)\n",
    "acc_test = 100.0 * np.sum(y_pred == y_test) / len(y_test)\n",
    "glue(\"lbp_acc_test\", acc_test, display=False)\n",
    "result_df.loc[len(result_df), :] = [\"LBP\", acc_test, \"Test\"]"
   ]
  },
  {
   "cell_type": "markdown",
   "metadata": {
    "editable": true,
    "slideshow": {
     "slide_type": ""
    },
    "tags": []
   },
   "source": [
    "**結果: Local Binary Patternの利用**\n",
    "\n",
    "- 訓練時精度: {glue}`lbp_acc_train`%\n",
    "- 評価時精度: {glue}`lbp_acc_test`%"
   ]
  },
  {
   "cell_type": "markdown",
   "metadata": {
    "editable": true,
    "slideshow": {
     "slide_type": ""
    },
    "tags": []
   },
   "source": [
    "先ほどの単純な輝度ヒストグラムに比べれば、精度は改善しているものの、画像をそのまま入力したSVMには劣る結果となっている。\n",
    "\n",
    "今、データセットに含まれるデータはひらがながランダムに回転したりスケールしたりしている。LBPは上記の計算方法からも分かるとおり、物体が回転してしまうと得られる値が変わってしまう性質がある。従って、今回のようにデータセット中でひらがながランダムに回転しているような場合には、もう少し工夫をする必要がある。"
   ]
  },
  {
   "cell_type": "markdown",
   "metadata": {
    "editable": true,
    "slideshow": {
     "slide_type": ""
    },
    "tags": []
   },
   "source": [
    "### Uniform LBP"
   ]
  },
  {
   "cell_type": "markdown",
   "metadata": {
    "editable": true,
    "slideshow": {
     "slide_type": ""
    },
    "tags": []
   },
   "source": [
    "元々のLBPが持つ回転に対して変化してしまう問題を解決した手法の一つに**Uniform LBP** {cite}`ojala2002multiresolution` がある。\n",
    "\n",
    "Uniform LBPの基本的なアイディアは、注目画素を中心に**円状に配置された点の輝度**を調べて、その輝度の大小関係のパターン (つまり, 0, 1の列)が回転したときに一致するものを同じ物であると見なすという部分にある。\n",
    "\n",
    "より具体的には、円状に配置された0, 1の列を1周する間に何回0から1あるいは1から0への変化が起こるかを考える。例えば、12時方向を視点として反時計回りに `(0, 0, 1, 0, 1, 1, 1, 0)` というパターンが現れたとすると、0→1 / 1→0の遷移回数は4回である。\n",
    "\n",
    "Uniform LBPでは、この遷移回数が0回のものと2回のものを特別視する。遷移の回数が0回、ということは、全ての要素が0か1かのいずれかで2通りが考えられる。また、遷移の回数が2回、ということは、0と1が両方含まれているものの、0と1が連続して現れているようなパターンで、これは要素の数が$N$個であれば、$N-1$通りのパターンが考えられる。\n",
    "\n",
    "以上より、遷移の回数が0回のものと2回のものの総数は$N+1$個ある。これ以外のパターンは全て同じものであると見なすと、パターンの総数は$N+2$個である。\n",
    "\n",
    "以下ではscikit-imageの`local_binary_pattern`を用いて、$N=36$とした場合のLBP画像を見てみる。"
   ]
  },
  {
   "cell_type": "code",
   "execution_count": 37,
   "metadata": {
    "editable": true,
    "slideshow": {
     "slide_type": ""
    },
    "tags": []
   },
   "outputs": [],
   "source": [
    "from skimage.feature import local_binary_pattern\n",
    "\n",
    "n_angles = 36\n",
    "lbp = local_binary_pattern(X[0].reshape((48, 48)), n_angles, 1.0, method=\"uniform\")"
   ]
  },
  {
   "cell_type": "code",
   "execution_count": 38,
   "metadata": {
    "editable": true,
    "slideshow": {
     "slide_type": ""
    },
    "tags": [
     "hide-input"
    ]
   },
   "outputs": [
    {
     "data": {
      "image/png": "[encoded data removed]",
      "text/plain": [
       "<Figure size 1200x600 with 2 Axes>"
      ]
     },
     "metadata": {},
     "output_type": "display_data"
    }
   ],
   "source": [
    "fig = plt.figure(figsize=(8, 4))\n",
    "gs = GridSpec(1, 2, width_ratios=[1, 1], figure=fig)\n",
    "\n",
    "ax1 = plt.subplot(gs[0])\n",
    "ax2 = plt.subplot(gs[1])\n",
    "\n",
    "ax1.imshow(lbp, cmap=\"gray\", interpolation=None)\n",
    "ax1.set_xticks([])\n",
    "ax1.set_yticks([])\n",
    "ax1.set_title(\"There are {:d} values\".format(int(np.max(lbp)) + 1))\n",
    "\n",
    "ax2.hist(lbp.flatten(), bins=n_angles + 1, density=True)\n",
    "ax2.set_title(\"Histogram of Uniform LBP\")\n",
    "\n",
    "plt.tight_layout()\n",
    "plt.show()"
   ]
  },
  {
   "cell_type": "markdown",
   "metadata": {
    "editable": true,
    "slideshow": {
     "slide_type": ""
    },
    "tags": []
   },
   "source": [
    "すると、上記の通り、輝度のパターン数は36 + 2 = 38通りになることが分かる (画像の輝度が0から37の38通りになっている)。\n",
    "\n",
    "また、画像の見た目から、文字がある部分の周りが一様に近いグレーで表現されており、回転に対してある程度の不変性を持っていそうなことも確認できる。\n",
    "\n",
    "では、このUniform LBPを用いて、再度SVMによる文字の分類を試してみる。Uniform LBPを使う場合、画像の拡大縮小への対応力を上げるために、**中心画素からどのくらい離れたところの画素をLBPの計算に使うか**を変えつつ、LBPを取得して、それらを結合した特徴量を使う。"
   ]
  },
  {
   "cell_type": "code",
   "execution_count": 39,
   "metadata": {
    "editable": true,
    "slideshow": {
     "slide_type": ""
    },
    "tags": []
   },
   "outputs": [
    {
     "data": {
      "application/vnd.jupyter.widget-view+json": {
       "model_id": "ed4e47faf89a4b2db72c08f83f843587",
       "version_major": 2,
       "version_minor": 0
      },
      "text/plain": [
       "  0%|          | 0/30000 [00:00<?, ?it/s]"
      ]
     },
     "metadata": {},
     "output_type": "display_data"
    }
   ],
   "source": [
    "def calc_ulbp_hist(x):\n",
    "    n_angles = [8, 12, 20]\n",
    "    radii = [1.0, 2.0, 3.0]\n",
    "    hists = []\n",
    "    for i in range(len(n_angles)):\n",
    "        lbp = local_binary_pattern(x, n_angles[i], radii[i], method=\"uniform\")\n",
    "        hist = np.histogram(lbp, bins=n_angles[i] + 1, density=True)[0]\n",
    "        hists.append(hist)\n",
    "    return np.concatenate(hists)\n",
    "\n",
    "\n",
    "X_ulbp = [calc_ulbp_hist(x.reshape((48, 48))) for x in tqdm(X)]\n",
    "X_ulbp = np.array(X_ulbp)"
   ]
  },
  {
   "cell_type": "code",
   "execution_count": 40,
   "metadata": {
    "editable": true,
    "slideshow": {
     "slide_type": ""
    },
    "tags": []
   },
   "outputs": [
    {
     "data": {
      "application/vnd.jupyter.widget-view+json": {
       "model_id": "fff94663e6024234b39f0c8375010453",
       "version_major": 2,
       "version_minor": 0
      },
      "text/plain": [
       "  0%|          | 0/30000 [00:00<?, ?it/s]"
      ]
     },
     "metadata": {},
     "output_type": "display_data"
    }
   ],
   "source": [
    "clf4 = MySGDClassifier(**sgd_params)\n",
    "clf4.fit(X_ulbp, y)"
   ]
  },
  {
   "cell_type": "code",
   "execution_count": 41,
   "metadata": {
    "editable": true,
    "slideshow": {
     "slide_type": ""
    },
    "tags": []
   },
   "outputs": [
    {
     "data": {
      "application/papermill.record/text/plain": "6.0633333333333335"
     },
     "metadata": {
      "scrapbook": {
       "mime_prefix": "application/papermill.record/",
       "name": "ulbp_acc_train"
      }
     },
     "output_type": "display_data"
    }
   ],
   "source": [
    "# 訓練時の識別精度の確認\n",
    "y_pred = clf4.predict(X_ulbp)\n",
    "acc_train = 100.0 * np.sum(y_pred == y) / len(y)\n",
    "glue(\"ulbp_acc_train\", acc_train, display=False)\n",
    "result_df.loc[len(result_df), :] = [\"Uniform LBP\", acc_train, \"Train\"]"
   ]
  },
  {
   "cell_type": "code",
   "execution_count": 42,
   "metadata": {
    "editable": true,
    "slideshow": {
     "slide_type": ""
    },
    "tags": []
   },
   "outputs": [
    {
     "data": {
      "application/vnd.jupyter.widget-view+json": {
       "model_id": "6d87b7a7d706415392b4247a9e40a725",
       "version_major": 2,
       "version_minor": 0
      },
      "text/plain": [
       "  0%|          | 0/10000 [00:00<?, ?it/s]"
      ]
     },
     "metadata": {},
     "output_type": "display_data"
    }
   ],
   "source": [
    "X_ulbp_test = [calc_ulbp_hist(x.reshape((48, 48))) for x in tqdm(X_test)]\n",
    "X_ulbp_test = np.stack(X_ulbp_test, axis=0)"
   ]
  },
  {
   "cell_type": "code",
   "execution_count": 43,
   "metadata": {
    "editable": true,
    "slideshow": {
     "slide_type": ""
    },
    "tags": []
   },
   "outputs": [
    {
     "data": {
      "application/papermill.record/text/plain": "5.7"
     },
     "metadata": {
      "scrapbook": {
       "mime_prefix": "application/papermill.record/",
       "name": "ulbp_acc_test"
      }
     },
     "output_type": "display_data"
    }
   ],
   "source": [
    "# テストデータに対する識別精度の計算\n",
    "y_pred = clf4.predict(X_ulbp_test)\n",
    "acc_test = 100.0 * np.sum(y_pred == y_test) / len(y_test)\n",
    "glue(\"ulbp_acc_test\", acc_test, display=False)\n",
    "result_df.loc[len(result_df), :] = [\"Uniform LBP\", acc_test, \"Test\"]"
   ]
  },
  {
   "cell_type": "markdown",
   "metadata": {
    "editable": true,
    "slideshow": {
     "slide_type": ""
    },
    "tags": []
   },
   "source": [
    "**結果: 輝度ヒストグラムの利用**\n",
    "\n",
    "- 訓練時精度: {glue:text}`ulbp_acc_train:.2f`%\n",
    "- 評価時精度: {glue:text}`ulbp_acc_test:.2f`%"
   ]
  },
  {
   "cell_type": "markdown",
   "metadata": {
    "editable": true,
    "slideshow": {
     "slide_type": ""
    },
    "tags": []
   },
   "source": [
    "すると、今度は訓練のスコアが悪化した代わりにテストスコアが上昇していることが分かる。しかしながら、これでも識別精度としては十分ではなく、回転対称性を考慮したことで精度が改善したとは言いがたい。"
   ]
  },
  {
   "cell_type": "markdown",
   "metadata": {
    "editable": true,
    "slideshow": {
     "slide_type": ""
    },
    "tags": []
   },
   "source": [
    "## Histogram of Oriented Gradient (HOG)"
   ]
  },
  {
   "cell_type": "markdown",
   "metadata": {
    "editable": true,
    "slideshow": {
     "slide_type": ""
    },
    "tags": []
   },
   "source": [
    "Histogram of Oriented Gradient (HOG)が広く知られるようになったのは2005年のことで、コンピュータ・ビジョンの国際会議であるCVPRで発表された論文{cite}`dalal2005histograms`がきっかけとなっている。\n",
    "\n",
    "特にHOGは人物の全身といった特定の物体を見つける性能に優れており、一般物体認識や物体追跡等の多数の応用が生まれた。\n",
    "\n",
    "HOGは画像を、互いに重ならない小さなパッチに分割して計算を行う。今回用いるひらがな画像は48×48の大きさなので、これを8×8のパッチに区切ってみる。"
   ]
  },
  {
   "cell_type": "code",
   "execution_count": 44,
   "metadata": {
    "editable": true,
    "slideshow": {
     "slide_type": ""
    },
    "tags": []
   },
   "outputs": [],
   "source": [
    "im = X[0].reshape((48, 48))\n",
    "s = 8\n",
    "patches = [im[y : y + 8, x : x + 8] for y in range(0, 48, s) for x in range(0, 48, s)]"
   ]
  },
  {
   "cell_type": "code",
   "execution_count": 45,
   "metadata": {
    "editable": true,
    "slideshow": {
     "slide_type": ""
    },
    "tags": [
     "hide-input"
    ]
   },
   "outputs": [
    {
     "data": {
      "image/png": "[encoded data removed]",
      "text/plain": [
       "<Figure size 600x600 with 36 Axes>"
      ]
     },
     "metadata": {},
     "output_type": "display_data"
    }
   ],
   "source": [
    "fig = plt.figure(figsize=(4, 4))\n",
    "gs = GridSpec(6, 6, figure=fig)\n",
    "\n",
    "for i in range(6):\n",
    "    for j in range(6):\n",
    "        ax = plt.subplot(gs[i, j])\n",
    "        ax.imshow(patches[i * 6 + j], cmap=\"gray\", vmin=0, vmax=255, interpolation=None)\n",
    "        ax.set_xticks([])\n",
    "        ax.set_yticks([])\n",
    "\n",
    "plt.tight_layout()\n",
    "plt.show()"
   ]
  },
  {
   "cell_type": "markdown",
   "metadata": {
    "editable": true,
    "slideshow": {
     "slide_type": ""
    },
    "tags": []
   },
   "source": [
    "次に、この各画像に対して、勾配強度と勾配方向を画素ごとに計算する。以下の実装では、x方向の勾配$d_x$とy方向の勾配$d_y$をSobelフィルタを使って求め、勾配強度$g$と勾配方向$\\theta$を以下のように定義する。\n",
    "\n",
    "$$\n",
    "\\begin{align}\n",
    "    g &= \\sqrt{ d_x^2 + d_y^2 } \\\\\n",
    "    \\theta &= \\text{arctan} \\frac{|d_y|}{d_x}\n",
    "\\end{align}\n",
    "$$"
   ]
  },
  {
   "cell_type": "markdown",
   "metadata": {
    "editable": true,
    "slideshow": {
     "slide_type": ""
    },
    "tags": []
   },
   "source": [
    "なお、今回は向きのない方向 (= orientation, 0°から180°)を求めるため、上記の$\\theta$の式において$d_y$に絶対値がかかっていることに注意すること。\n",
    "\n",
    "今、各パッチは8×8の大きさなので、勾配強度と勾配方向がそれぞれ64個ずつ求まる。求まった勾配方向をいくつかの方向に量子化 (今回は20°刻みで9方向)し、ヒストグラムを作成する。各画素の方向に対応するビンには勾配強度を足して、ヒストグラムを計算する。"
   ]
  },
  {
   "cell_type": "code",
   "execution_count": 46,
   "metadata": {
    "editable": true,
    "slideshow": {
     "slide_type": ""
    },
    "tags": []
   },
   "outputs": [
    {
     "name": "stdout",
     "output_type": "stream",
     "text": [
      "36 histograms with 9 bins are obtained!\n"
     ]
    }
   ],
   "source": [
    "def calc_hist(p, n_angles=9):\n",
    "    dx = cv2.Sobel(p, cv2.CV_8U, 1, 0)\n",
    "    dy = cv2.Sobel(p, cv2.CV_8U, 0, 1)\n",
    "    dx, dy = dx.astype(\"float32\"), dy.astype(\"float32\")\n",
    "\n",
    "    g = np.sqrt(dx * dx + dy * dy)\n",
    "    theta = 180.0 * np.arctan(np.abs(dy), dx) / np.pi\n",
    "    t = (theta * n_angles / 180.0).astype(\"int32\")\n",
    "\n",
    "    h = np.zeros((n_angles), dtype=\"float32\")\n",
    "    for g_, t_ in zip(g.flatten(), t.flatten()):\n",
    "        h[t_] += g_\n",
    "\n",
    "    return h\n",
    "\n",
    "\n",
    "n_angles = 9\n",
    "hists = np.array([calc_hist(p, n_angles) for p in patches])\n",
    "print(f\"{hists.shape[0]:d} histograms with {hists.shape[1]:d} bins are obtained!\")"
   ]
  },
  {
   "cell_type": "markdown",
   "metadata": {
    "editable": true,
    "slideshow": {
     "slide_type": ""
    },
    "tags": []
   },
   "source": [
    "これにより6×6=36個のヒストグラムが求まった。ここで注意したいのは、これらのヒストグラムは勾配強度で計算されており、場所によって、ヒストグラムのスケールが異なっているという点である。\n",
    "\n",
    "そこで、HOGでは、この6×6個のパッチを3×3のブロックごとに走査し、そのブロック内で連結したヒストグラムを正規化して用いる。今、勾配方向は9つに離散化されており、ブロック内のパッチが3×3=9個なので、1ブロックが持つヒストグラムの次元は9×9=81次元である。この81次元ベクトルをノルムが1になるように正規化しておく。\n",
    "\n",
    "最終的に、81次元のヒストグラムが複数 (今回の場合は(6-3+1)×(6-3+1)=16個)求まるので、これらを連結して、画像の特徴量として用いる。"
   ]
  },
  {
   "cell_type": "code",
   "execution_count": 47,
   "metadata": {
    "editable": true,
    "slideshow": {
     "slide_type": ""
    },
    "tags": []
   },
   "outputs": [],
   "source": [
    "bs = 3\n",
    "hists = hists.reshape((6, 6, -1))\n",
    "\n",
    "# ブロックの取り出し\n",
    "blocks = np.array(\n",
    "    [hists[i : i + bs, j : j + bs] for i in range(6 - bs + 1) for j in range(6 - bs + 1)]\n",
    ")\n",
    "hog = blocks.reshape((-1, n_angles * bs * bs))\n",
    "\n",
    "# ブロックごとのヒストグラムのノルムが1となるように正規化\n",
    "hog = hog / np.sqrt(np.sum(hog * hog, axis=1, keepdims=True))\n",
    "hog = hog.flatten()"
   ]
  },
  {
   "cell_type": "markdown",
   "metadata": {
    "editable": true,
    "slideshow": {
     "slide_type": ""
    },
    "tags": []
   },
   "source": [
    "以上をまとめると、HOGを計算する関数を以下のように定義できる。"
   ]
  },
  {
   "cell_type": "code",
   "execution_count": 48,
   "metadata": {
    "editable": true,
    "slideshow": {
     "slide_type": ""
    },
    "tags": []
   },
   "outputs": [],
   "source": [
    "def calc_hog(im):\n",
    "    h, w = im.shape\n",
    "    s = 8  # patch size\n",
    "    bs = 3  # block size\n",
    "    n_angles = 9  # number of angle bins\n",
    "\n",
    "    ph = h // s  # number of vertical patches\n",
    "    pw = w // s  # number of horizontal patches\n",
    "\n",
    "    # Divide image into patches, then compute orientation histogram for each patch\n",
    "    patches = [im[y : y + s, x : x + s] for y in range(0, h, s) for x in range(0, w, s)]\n",
    "    hists = np.array([calc_hist(p, n_angles) for p in patches])\n",
    "    hists = hists.reshape((ph, pw, -1))\n",
    "\n",
    "    # Normalize histogram within each block of patches\n",
    "    blocks = np.array(\n",
    "        [hists[i : i + bs, j : j + bs] for i in range(ph - bs + 1) for j in range(pw - bs + 1)]\n",
    "    )\n",
    "    hog = blocks.reshape((-1, n_angles * bs * bs))\n",
    "    hog = hog / (np.sqrt(np.sum(hog * hog, axis=1, keepdims=True)) + 1.0e-8)\n",
    "    hog = hog.flatten()\n",
    "\n",
    "    return hog"
   ]
  },
  {
   "cell_type": "markdown",
   "metadata": {
    "editable": true,
    "slideshow": {
     "slide_type": ""
    },
    "tags": []
   },
   "source": [
    "計算されたHOGを用いて、再度SVMを用いた分類を試してみる。"
   ]
  },
  {
   "cell_type": "code",
   "execution_count": 49,
   "metadata": {
    "editable": true,
    "slideshow": {
     "slide_type": ""
    },
    "tags": []
   },
   "outputs": [
    {
     "data": {
      "application/vnd.jupyter.widget-view+json": {
       "model_id": "6d6fd698f2c34188a19eca8938ffabfc",
       "version_major": 2,
       "version_minor": 0
      },
      "text/plain": [
       "  0%|          | 0/30000 [00:00<?, ?it/s]"
      ]
     },
     "metadata": {},
     "output_type": "display_data"
    }
   ],
   "source": [
    "X_hog = [calc_hog(x.reshape((48, 48))) for x in tqdm(X)]\n",
    "X_hog = np.stack(X_hog, axis=0)"
   ]
  },
  {
   "cell_type": "code",
   "execution_count": 50,
   "metadata": {
    "editable": true,
    "slideshow": {
     "slide_type": ""
    },
    "tags": []
   },
   "outputs": [
    {
     "data": {
      "application/vnd.jupyter.widget-view+json": {
       "model_id": "ffecc111e3f44920a2d0da20d21db7e0",
       "version_major": 2,
       "version_minor": 0
      },
      "text/plain": [
       "  0%|          | 0/30000 [00:00<?, ?it/s]"
      ]
     },
     "metadata": {},
     "output_type": "display_data"
    }
   ],
   "source": [
    "clf5 = MySGDClassifier(**sgd_params)\n",
    "clf5.fit(X_hog, y)"
   ]
  },
  {
   "cell_type": "code",
   "execution_count": 51,
   "metadata": {
    "editable": true,
    "slideshow": {
     "slide_type": ""
    },
    "tags": []
   },
   "outputs": [
    {
     "data": {
      "application/papermill.record/text/plain": "46.03666666666667"
     },
     "metadata": {
      "scrapbook": {
       "mime_prefix": "application/papermill.record/",
       "name": "hog_acc_train"
      }
     },
     "output_type": "display_data"
    }
   ],
   "source": [
    "# 訓練時の識別精度の確認\n",
    "y_pred = clf5.predict(X_hog)\n",
    "acc_train = 100.0 * np.sum(y_pred == y) / len(y)\n",
    "glue(\"hog_acc_train\", acc_train, display=False)\n",
    "result_df.loc[len(result_df), :] = [\"HOG\", acc_train, \"Train\"]"
   ]
  },
  {
   "cell_type": "code",
   "execution_count": 52,
   "metadata": {
    "editable": true,
    "slideshow": {
     "slide_type": ""
    },
    "tags": []
   },
   "outputs": [
    {
     "data": {
      "application/vnd.jupyter.widget-view+json": {
       "model_id": "ef521beee39649e093710175a5e292c5",
       "version_major": 2,
       "version_minor": 0
      },
      "text/plain": [
       "  0%|          | 0/10000 [00:00<?, ?it/s]"
      ]
     },
     "metadata": {},
     "output_type": "display_data"
    }
   ],
   "source": [
    "X_hog_test = [calc_hog(x.reshape((48, 48))) for x in tqdm(X_test)]\n",
    "X_hog_test = np.stack(X_hog_test, axis=0)"
   ]
  },
  {
   "cell_type": "code",
   "execution_count": 53,
   "metadata": {
    "editable": true,
    "slideshow": {
     "slide_type": ""
    },
    "tags": []
   },
   "outputs": [
    {
     "data": {
      "application/papermill.record/text/plain": "44.14"
     },
     "metadata": {
      "scrapbook": {
       "mime_prefix": "application/papermill.record/",
       "name": "hog_acc_test"
      }
     },
     "output_type": "display_data"
    }
   ],
   "source": [
    "# テストデータに対する識別精度の計算\n",
    "y_pred = clf5.predict(X_hog_test)\n",
    "acc_test = 100.0 * np.sum(y_pred == y_test) / len(y_test)\n",
    "glue(\"hog_acc_test\", acc_test, display=False)\n",
    "result_df.loc[len(result_df), :] = [\"HOG\", acc_test, \"Test\"]"
   ]
  },
  {
   "cell_type": "markdown",
   "metadata": {
    "editable": true,
    "slideshow": {
     "slide_type": ""
    },
    "tags": []
   },
   "source": [
    "**結果: Histogram of Oriented Gradientの利用**\n",
    "\n",
    "- 訓練時精度: {glue:text}`hog_acc_train:.2f`%\n",
    "- 評価時精度: {glue:text}`hog_acc_test:.2f`%"
   ]
  },
  {
   "cell_type": "markdown",
   "metadata": {
    "editable": true,
    "slideshow": {
     "slide_type": ""
    },
    "tags": []
   },
   "source": [
    "## Bag of Visual Words"
   ]
  },
  {
   "cell_type": "markdown",
   "metadata": {
    "editable": true,
    "slideshow": {
     "slide_type": ""
    },
    "tags": []
   },
   "source": [
    "ここまでの特徴量は、画素の情報を元にして何らかのヒストグラムを得る、という方法であったが、続いては、画像に内在する画像の構造としての特徴を疎に抽出し、その特徴の集合をヒストグラム化する手法である**Bag of Visual Words** (BoVW, Bag of Featuresとも呼ばれる)について見ていく。\n",
    "\n",
    "\n",
    "BoVWは、自然言語処理分野の**Bag of Words**から着想を得たもので、元のBag of Wordsは辞書に登録された各単語が文書の中に何回登場するかをヒストグラムとして表わした物である。\n",
    "\n",
    "これに対してBag of Visual Wordsは、画像データセットから抽出された疎な特徴量の集合を単語の集まりだと見なす。ただし、画像から得られる特徴量は通常連続的であるため、特徴量をあらかじめクラスタ分割しておき、各特徴が属するクラスタを単語、クラスタの集まりを辞書と見なすことでBag of Wordsと同様の処理を可能にする。\n",
    "\n",
    "以下では、画像に対する疎な特徴量の代表格である**Scale-Invariant Feature Transform** (SIFT)について、BoVWによる画像認識を試みる。"
   ]
  },
  {
   "cell_type": "markdown",
   "metadata": {
    "editable": true,
    "slideshow": {
     "slide_type": ""
    },
    "tags": []
   },
   "source": [
    "### Scale-Invariant Feature Transform (SIFT)"
   ]
  },
  {
   "cell_type": "markdown",
   "metadata": {
    "editable": true,
    "slideshow": {
     "slide_type": ""
    },
    "tags": []
   },
   "source": [
    "Scale-Invariant Feature Transform (SIFT)は、深層学習以前の画像認識における金字塔的な技術で、2000年前後にRoweらによって提案された{cite}`lowe1999object`, {cite}`lowe2004distinctive`。SIFTは画像の中に映り込む物体のスケールや回転に対して不変な特徴量を与えることができる。\n",
    "\n",
    "SIFT特徴量の抽出処理は、少々複雑だが、大まかに分けて\n",
    "\n",
    "- 特徴点の抽出\n",
    "- 特徴点に対する特徴量の計算\n",
    "\n",
    "の二つの処理に分けられる。"
   ]
  },
  {
   "cell_type": "markdown",
   "metadata": {
    "editable": true,
    "slideshow": {
     "slide_type": ""
    },
    "tags": []
   },
   "source": [
    "#### 特徴点の抽出"
   ]
  },
  {
   "cell_type": "markdown",
   "metadata": {
    "editable": true,
    "slideshow": {
     "slide_type": ""
    },
    "tags": []
   },
   "source": [
    "**特徴点の抽出**に置いては、Difference of Gaussian (DoG)というフィルタを用いて、特徴点のスケールを計算する。DoGは二つの異なる$\\sigma_1$, $\\sigma_2$ (ただし$\\sigma_1 < \\sigma_2$とする)を用いて、\n",
    "\n",
    "$$\n",
    "\\text{DoG}(I) = G_{\\sigma_1} \\otimes I - G_{\\sigma_2} \\otimes I\n",
    "$$\n",
    "\n",
    "のように書ける。ただし$G_\\sigma$は$\\sigma$を標準偏差のパラメータとするGauss関数とする。例えば、以下のような画像になる。"
   ]
  },
  {
   "cell_type": "code",
   "execution_count": 54,
   "metadata": {
    "editable": true,
    "slideshow": {
     "slide_type": ""
    },
    "tags": []
   },
   "outputs": [],
   "source": [
    "img = cv2.resize(X[0].reshape((48, 48)), (256, 256))\n",
    "img = (img / 255.0).astype(\"float32\")\n",
    "B1 = cv2.GaussianBlur(img, None, sigmaX=2.0)\n",
    "B2 = cv2.GaussianBlur(img, None, sigmaX=4.0)\n",
    "DoG = B1 - B2"
   ]
  },
  {
   "cell_type": "code",
   "execution_count": 55,
   "metadata": {
    "editable": true,
    "slideshow": {
     "slide_type": ""
    },
    "tags": []
   },
   "outputs": [
    {
     "data": {
      "image/png": "[encoded data removed]",
      "text/plain": [
       "<Figure size 960x720 with 2 Axes>"
      ]
     },
     "metadata": {},
     "output_type": "display_data"
    }
   ],
   "source": [
    "fig, axs = plt.subplots(1, 2)\n",
    "axs[0].imshow(img, cmap=\"gray\", vmin=0.0, vmax=1.0)\n",
    "axs[0].set(title=\"Input image\", xticks=[], yticks=[])\n",
    "axs[1].imshow(DoG, cmap=\"coolwarm\")\n",
    "axs[1].set(title=\"Difference of Gaussian\", xticks=[], yticks=[])\n",
    "plt.tight_layout()\n",
    "plt.show()"
   ]
  },
  {
   "cell_type": "markdown",
   "metadata": {
    "editable": true,
    "slideshow": {
     "slide_type": ""
    },
    "tags": []
   },
   "source": [
    "DoGの抽出を初期のパラメータ$\\sigma$とスケールパラメータ$k$を用いて、$k^n\\sigma$と$k^{n+1}\\sigma$の間で$n=0, 1, 2, ...$の順で計算をしていく。この計算の過程でDoGの値が極値を取っていたら、そこをキーポイントの候補点として選ぶ。"
   ]
  },
  {
   "cell_type": "markdown",
   "metadata": {
    "editable": true,
    "slideshow": {
     "slide_type": ""
    },
    "tags": []
   },
   "source": [
    "選ばれた候補点が実際に特徴点になるかどうかは、DoG値が極値を取るスケールにおいて、DoG画像$D$のその画素における勾配情報を参考にして決定する。具体的には、画像$D$から有限差分を用いて、ヘッセ行列\n",
    "\n",
    "$$\n",
    "\\mathbf{H} = \\begin{bmatrix}\n",
    "    D_{xx} & D_{xy} \\\\\n",
    "    D_{yx} & D_{yy} \n",
    "\\end{bmatrix}\n",
    "$$\n",
    "\n",
    "を計算し、$\\mathbf{H}$のトレースと行列式の比、\n",
    "\n",
    "$$\n",
    "\\rho = \\frac{(\\text{tr} \\mathbf{H})^2}{\\text{det}\\mathbf{H}}\n",
    "$$ (eq:ratio-tr-det)\n",
    "\n",
    "の値が一定の閾値$t$以下であれば、その候補特徴点を実際の特徴点として採用する。行列$\\mathbf{H}$の固有値を$\\lambda_1$, $\\lambda_2$ (ただし$\\lambda_1 > \\lambda_2$とするとき、トレースと行列式は、それぞれ$\\lambda_1 + \\lambda_2$, $\\lambda_1 \\lambda_2$と表せるので、{eq}`eq:ratio-tr-det`は、\n",
    "\n",
    "$$\n",
    "\\rho = \\frac{\\left( \\lambda_1 + \\lambda_2 \\right)^2}{\\lambda_1 \\lambda_2} = \\frac{\\left( 1 + \\frac{\\lambda_2}{\\lambda_1} \\right)^2}{\\frac{\\lambda_2}{\\lambda_1}} = \\frac{(1 + r)^2}{r^2}\n",
    "$$\n",
    "\n",
    "のように書き直せる。原論文では、$r = (\\lambda_2 / \\lambda_1) = 10$を用いて、閾値$t$を\n",
    "\n",
    "$$\n",
    "t = \\frac{(r + 1)^2}{r}\n",
    "$$\n",
    "\n",
    "のように定義している。$t$の値は$r$の変化に対して、以下のグラフのように、ほぼ線形に変化する。"
   ]
  },
  {
   "cell_type": "code",
   "execution_count": 56,
   "metadata": {
    "editable": true,
    "slideshow": {
     "slide_type": ""
    },
    "tags": [
     "hide-input"
    ]
   },
   "outputs": [
    {
     "data": {
      "image/png": "[encoded data removed]",
      "text/plain": [
       "<Figure size 600x450 with 1 Axes>"
      ]
     },
     "metadata": {},
     "output_type": "display_data"
    }
   ],
   "source": [
    "fig, ax = plt.subplots(figsize=(4, 3))\n",
    "r = np.linspace(1.0, 50.0, 100, endpoint=True)\n",
    "t = (r + 1) ** 2 / r\n",
    "ax.plot(r, t)\n",
    "ax.set(title=\"$r$ vs $t$\")\n",
    "plt.tight_layout()\n",
    "plt.show()"
   ]
  },
  {
   "cell_type": "markdown",
   "metadata": {
    "editable": true,
    "slideshow": {
     "slide_type": ""
    },
    "tags": []
   },
   "source": [
    "以上の処理を、直感的に述べれば、前半のDoGの処理は画像中の勾配がある箇所を検出し、さらに、その**勾配がどの程度の鮮鋭度を持つのかをスケールとして定量化**しようとしている。\n",
    "\n",
    "後半の処理、勾配の強さ (鮮鋭度は盛り上がりの角度であり、強さとは異なる)を見ており、$r = 10$とした場合に{eq}`eq:ratio-tr-det`が$t$より小さい、ということは、即ち**ヘッセ行列の2つの固有値の比が一定以下** (10:1以下)かを検証している。\n",
    "\n",
    "なお、この$r$の値は以下のOpenCVのコードでは`edgeThreshold`という変数に対応する。もし、各画像から検出される特徴点が少なすぎるようであれば、この値を少し上げると、固有値の差が小さい(=エッジがそれほど先鋭ではない)特徴点も残されるようになる。"
   ]
  },
  {
   "cell_type": "markdown",
   "metadata": {
    "editable": true,
    "slideshow": {
     "slide_type": ""
    },
    "tags": []
   },
   "source": [
    "また、詳細は割愛するが、各特徴点には、勾配方向も同時に計算される。これは特徴点周りの画素に対して計算された勾配方向のヒストグラムの中で、いくつかの支配的な方向を特徴点に与えるものである。従って、各特徴点には2つ以上の勾配方向が割り当てられる可能性がある。"
   ]
  },
  {
   "cell_type": "markdown",
   "metadata": {
    "editable": true,
    "slideshow": {
     "slide_type": ""
    },
    "tags": []
   },
   "source": [
    "---"
   ]
  },
  {
   "cell_type": "markdown",
   "metadata": {
    "editable": true,
    "slideshow": {
     "slide_type": ""
    },
    "tags": []
   },
   "source": [
    "では、実際にOpenCVを用いて画像からSIFT特徴点と特徴量を計算する。以下では、特徴量の抽出結果を分かりやすくするために、48×48画素の画像を256×256画素にリサイズして特徴量を計算している。"
   ]
  },
  {
   "cell_type": "code",
   "execution_count": 57,
   "metadata": {
    "editable": true,
    "slideshow": {
     "slide_type": ""
    },
    "tags": [
     "hide-input"
    ]
   },
   "outputs": [],
   "source": [
    "# 画像のリサイズ\n",
    "img = X[0].reshape((48, 48)).copy()\n",
    "img = cv2.resize(img, (256, 256))\n",
    "\n",
    "# 特徴量抽出器の準備\n",
    "sift = cv2.SIFT_create()\n",
    "\n",
    "# 特徴点の検出\n",
    "keypoints = sift.detect(img)"
   ]
  },
  {
   "cell_type": "markdown",
   "metadata": {
    "editable": true,
    "slideshow": {
     "slide_type": ""
    },
    "tags": []
   },
   "source": [
    "前述の通り、SIFT特徴点の検出では、位置、スケール、勾配方向が計算されるので、それらを`cv2.drawKeypoints`で可視化してみる。"
   ]
  },
  {
   "cell_type": "code",
   "execution_count": 58,
   "metadata": {
    "editable": true,
    "slideshow": {
     "slide_type": ""
    },
    "tags": []
   },
   "outputs": [],
   "source": [
    "# 特徴点の描画 (画像に書き込みをするだけで表示はしない)\n",
    "img_sift = cv2.drawKeypoints(\n",
    "    img,\n",
    "    keypoints,\n",
    "    None,\n",
    "    flags=cv2.DRAW_MATCHES_FLAGS_DRAW_RICH_KEYPOINTS,\n",
    ")"
   ]
  },
  {
   "cell_type": "code",
   "execution_count": 59,
   "metadata": {
    "editable": true,
    "slideshow": {
     "slide_type": ""
    },
    "tags": [
     "hide-input"
    ]
   },
   "outputs": [
    {
     "data": {
      "image/png": "[encoded data removed]",
      "text/plain": [
       "<Figure size 960x720 with 2 Axes>"
      ]
     },
     "metadata": {},
     "output_type": "display_data"
    }
   ],
   "source": [
    "fig, axs = plt.subplots(1, 2)\n",
    "axs[0].imshow(img, cmap=\"gray\", vmin=0, vmax=255)\n",
    "axs[0].set(title=\"Input image\", xticks=[], yticks=[])\n",
    "axs[1].imshow(img_sift)\n",
    "axs[1].set(\n",
    "    title=\"{:d} keypoints detected\".format(len(keypoints)),\n",
    "    xticks=[],\n",
    "    yticks=[],\n",
    ")\n",
    "plt.tight_layout()\n",
    "plt.show()"
   ]
  },
  {
   "cell_type": "markdown",
   "metadata": {
    "editable": true,
    "slideshow": {
     "slide_type": ""
    },
    "tags": []
   },
   "source": [
    "画像中では、円の中心が特徴点の位置を、円の大きさが特徴点のスケールを、そして円の中心から弧に向かって伸びる線分が勾配方向をそれぞれ表わしている。この際、文字の輪郭線のぼけ具合と円の大きさに相関があり、なおかつ勾配方向が輪郭線とおよそ直交する方向となっていることに注目してほしい。また、特徴点の中には2つ以上の勾配方向を持つものが存在することにも注目してほしい。"
   ]
  },
  {
   "cell_type": "markdown",
   "metadata": {
    "editable": true,
    "slideshow": {
     "slide_type": ""
    },
    "tags": []
   },
   "source": [
    "#### 特徴量の計算"
   ]
  },
  {
   "cell_type": "markdown",
   "metadata": {
    "editable": true,
    "slideshow": {
     "slide_type": ""
    },
    "tags": []
   },
   "source": [
    "特徴量の計算には、特徴点の計算で得られたスケールと方向を用いる。特徴量の計算には4×4のグリッドを用いるのだが、このグリッドの大きさを特徴点のスケールに応じて拡大縮小し、また勾配方向に応じてグリッドの向きを変更する。\n",
    "\n",
    "このグリッドは上記の特徴点の可視化に現れる特徴点のスケールを表わす円に外接するように配置される。この円の大きさは、より具体的には極大のDoG値が検出された時に用いたGauss関数の$\\sigma$の大きさに対応している。\n",
    "\n",
    "グリッドの姿勢が計算できたら、4×4=16個のグリッドのそれぞれについて、特徴点の勾配方向ヒストグラムを45°刻みの8方向について計算する。この8個のビンの値を16個分連結することで、SIFT特徴量としての128次元ベクトルが得られる。"
   ]
  },
  {
   "cell_type": "markdown",
   "metadata": {
    "editable": true,
    "slideshow": {
     "slide_type": ""
    },
    "tags": []
   },
   "source": [
    "では、先ほど求めた特徴点に対して、OpenCVを用いて特徴量(記述子=descriptorとも言う)を計算する。"
   ]
  },
  {
   "cell_type": "code",
   "execution_count": 60,
   "metadata": {
    "editable": true,
    "slideshow": {
     "slide_type": ""
    },
    "tags": []
   },
   "outputs": [
    {
     "name": "stdout",
     "output_type": "stream",
     "text": [
      "(21, 128)\n"
     ]
    }
   ],
   "source": [
    "# 特徴量の計算\n",
    "_, features = sift.compute(img, keypoints)\n",
    "print(features.shape)"
   ]
  },
  {
   "cell_type": "markdown",
   "metadata": {
    "editable": true,
    "slideshow": {
     "slide_type": ""
    },
    "tags": []
   },
   "source": [
    "このように特徴量 (`features`)は「特徴点の数」×「特徴量の次元=128」で与えられることが確認できる。なお、特徴点の抽出と特徴量の計算は`sift.detectAndCompute`を用いることで同時に行うこともできる。"
   ]
  },
  {
   "cell_type": "markdown",
   "metadata": {
    "editable": true,
    "slideshow": {
     "slide_type": ""
    },
    "tags": []
   },
   "source": [
    ":::{admonition} 技術と特許\n",
    ":class: note\n",
    "\n",
    "新しい技術を開発して「特許」を取得すると、その技術の詳細を明細書として公開する代わりに、その技術に関わる権利を得ることができる。この特許は、一見、他の会社が当該の技術を使う障壁を上げており、技術の進歩にとってはマイナスな一面もある。\n",
    "\n",
    "その一方、特許が取られていたがために、その技術を回避する目的で技術が進歩することもある。先に紹介したSIFTは当初2000年に特許が取得された(2020年に失効)が、それに変わる技術として、Speeded-Up Robust Features (SURF) {cite}`bay2006surf`などの多くの特徴量が提案された (SURFは2006年に特許が取得されており、こちらはまだ特許が切れていない)。\n",
    "\n",
    "このような例は他の分野でも、たびたび見られるもので、CT画像から物体の表面形状を抽出するMarching Cubes法も、その特許権を回避する目的で、ほとんど同等なMarching Tetrahedra法が開発されたりした。このように、物事には表と裏とがあるのが常である。\n",
    ":::"
   ]
  },
  {
   "cell_type": "markdown",
   "metadata": {
    "editable": true,
    "slideshow": {
     "slide_type": ""
    },
    "tags": []
   },
   "source": [
    "### 特徴量のクラスタリング"
   ]
  },
  {
   "cell_type": "markdown",
   "metadata": {
    "editable": true,
    "slideshow": {
     "slide_type": ""
    },
    "tags": []
   },
   "source": [
    "BoVWを計算するためには、訓練データに含まれる全ての画像について、特徴量を計算し、それをクラスタリングする必要がある。以下のコードでは、48×48という比較的小さな画像を扱うために`edgeThreshold`を調整して、検出される特徴点の数を増やしている。"
   ]
  },
  {
   "cell_type": "code",
   "execution_count": 61,
   "metadata": {
    "editable": true,
    "slideshow": {
     "slide_type": ""
    },
    "tags": []
   },
   "outputs": [
    {
     "data": {
      "application/vnd.jupyter.widget-view+json": {
       "model_id": "e7fe0e2b35c94f1f8818df88a76daedd",
       "version_major": 2,
       "version_minor": 0
      },
      "text/plain": [
       "  0%|          | 0/30000 [00:00<?, ?it/s]"
      ]
     },
     "metadata": {},
     "output_type": "display_data"
    }
   ],
   "source": [
    "extractor = cv2.SIFT_create(edgeThreshold=20, contrastThreshold=0.0)\n",
    "\n",
    "features = []\n",
    "for x in tqdm(X):\n",
    "    img = x.reshape((48, 48))\n",
    "    keypoints, feature = extractor.detectAndCompute(img, None)\n",
    "    assert len(keypoints) > 0, \"No keypoints detected!\"\n",
    "    features.append(feature)"
   ]
  },
  {
   "cell_type": "code",
   "execution_count": 62,
   "metadata": {
    "editable": true,
    "slideshow": {
     "slide_type": ""
    },
    "tags": []
   },
   "outputs": [
    {
     "name": "stdout",
     "output_type": "stream",
     "text": [
      "SIFT: 873504 keypoints are detected!\n"
     ]
    }
   ],
   "source": [
    "all_features = np.concatenate(features, axis=0)\n",
    "print(\"SIFT: {:d} keypoints are detected!\".format(len(all_features)))"
   ]
  },
  {
   "cell_type": "markdown",
   "metadata": {
    "editable": true,
    "slideshow": {
     "slide_type": ""
    },
    "tags": []
   },
   "source": [
    "特徴量が得られたら、これをk平均法 (k-means法)によってクラスタリングする。今回は、scikit-learnの`MiniBatchKMeans`を用いてクラスタリングを行う (`KMeans`というクラスもあるが、こちらは計算にかなり時間がかかる)。"
   ]
  },
  {
   "cell_type": "code",
   "execution_count": 63,
   "metadata": {
    "editable": true,
    "slideshow": {
     "slide_type": ""
    },
    "tags": []
   },
   "outputs": [
    {
     "name": "stdout",
     "output_type": "stream",
     "text": [
      "CPU times: total: 9.8 s\n",
      "Wall time: 14.2 s\n"
     ]
    },
    {
     "data": {
      "text/html": [
       "<style>#sk-container-id-1 {color: black;}#sk-container-id-1 pre{padding: 0;}#sk-container-id-1 div.sk-toggleable {background-color: white;}#sk-container-id-1 label.sk-toggleable__label {cursor: pointer;display: block;width: 100%;margin-bottom: 0;padding: 0.3em;box-sizing: border-box;text-align: center;}#sk-container-id-1 label.sk-toggleable__label-arrow:before {content: \"▸\";float: left;margin-right: 0.25em;color: #696969;}#sk-container-id-1 label.sk-toggleable__label-arrow:hover:before {color: black;}#sk-container-id-1 div.sk-estimator:hover label.sk-toggleable__label-arrow:before {color: black;}#sk-container-id-1 div.sk-toggleable__content {max-height: 0;max-width: 0;overflow: hidden;text-align: left;background-color: #f0f8ff;}#sk-container-id-1 div.sk-toggleable__content pre {margin: 0.2em;color: black;border-radius: 0.25em;background-color: #f0f8ff;}#sk-container-id-1 input.sk-toggleable__control:checked~div.sk-toggleable__content {max-height: 200px;max-width: 100%;overflow: auto;}#sk-container-id-1 input.sk-toggleable__control:checked~label.sk-toggleable__label-arrow:before {content: \"▾\";}#sk-container-id-1 div.sk-estimator input.sk-toggleable__control:checked~label.sk-toggleable__label {background-color: #d4ebff;}#sk-container-id-1 div.sk-label input.sk-toggleable__control:checked~label.sk-toggleable__label {background-color: #d4ebff;}#sk-container-id-1 input.sk-hidden--visually {border: 0;clip: rect(1px 1px 1px 1px);clip: rect(1px, 1px, 1px, 1px);height: 1px;margin: -1px;overflow: hidden;padding: 0;position: absolute;width: 1px;}#sk-container-id-1 div.sk-estimator {font-family: monospace;background-color: #f0f8ff;border: 1px dotted black;border-radius: 0.25em;box-sizing: border-box;margin-bottom: 0.5em;}#sk-container-id-1 div.sk-estimator:hover {background-color: #d4ebff;}#sk-container-id-1 div.sk-parallel-item::after {content: \"\";width: 100%;border-bottom: 1px solid gray;flex-grow: 1;}#sk-container-id-1 div.sk-label:hover label.sk-toggleable__label {background-color: #d4ebff;}#sk-container-id-1 div.sk-serial::before {content: \"\";position: absolute;border-left: 1px solid gray;box-sizing: border-box;top: 0;bottom: 0;left: 50%;z-index: 0;}#sk-container-id-1 div.sk-serial {display: flex;flex-direction: column;align-items: center;background-color: white;padding-right: 0.2em;padding-left: 0.2em;position: relative;}#sk-container-id-1 div.sk-item {position: relative;z-index: 1;}#sk-container-id-1 div.sk-parallel {display: flex;align-items: stretch;justify-content: center;background-color: white;position: relative;}#sk-container-id-1 div.sk-item::before, #sk-container-id-1 div.sk-parallel-item::before {content: \"\";position: absolute;border-left: 1px solid gray;box-sizing: border-box;top: 0;bottom: 0;left: 50%;z-index: -1;}#sk-container-id-1 div.sk-parallel-item {display: flex;flex-direction: column;z-index: 1;position: relative;background-color: white;}#sk-container-id-1 div.sk-parallel-item:first-child::after {align-self: flex-end;width: 50%;}#sk-container-id-1 div.sk-parallel-item:last-child::after {align-self: flex-start;width: 50%;}#sk-container-id-1 div.sk-parallel-item:only-child::after {width: 0;}#sk-container-id-1 div.sk-dashed-wrapped {border: 1px dashed gray;margin: 0 0.4em 0.5em 0.4em;box-sizing: border-box;padding-bottom: 0.4em;background-color: white;}#sk-container-id-1 div.sk-label label {font-family: monospace;font-weight: bold;display: inline-block;line-height: 1.2em;}#sk-container-id-1 div.sk-label-container {text-align: center;}#sk-container-id-1 div.sk-container {/* jupyter's `normalize.less` sets `[hidden] { display: none; }` but bootstrap.min.css set `[hidden] { display: none !important; }` so we also need the `!important` here to be able to override the default hidden behavior on the sphinx rendered scikit-learn.org. See: https://github.com/scikit-learn/scikit-learn/issues/21755 */display: inline-block !important;position: relative;}#sk-container-id-1 div.sk-text-repr-fallback {display: none;}</style><div id=\"sk-container-id-1\" class=\"sk-top-container\"><div class=\"sk-text-repr-fallback\"><pre>MiniBatchKMeans(max_iter=1000, n_clusters=128, tol=0.0001)</pre><b>In a Jupyter environment, please rerun this cell to show the HTML representation or trust the notebook. <br />On GitHub, the HTML representation is unable to render, please try loading this page with nbviewer.org.</b></div><div class=\"sk-container\" hidden><div class=\"sk-item\"><div class=\"sk-estimator sk-toggleable\"><input class=\"sk-toggleable__control sk-hidden--visually\" id=\"sk-estimator-id-1\" type=\"checkbox\" checked><label for=\"sk-estimator-id-1\" class=\"sk-toggleable__label sk-toggleable__label-arrow\">MiniBatchKMeans</label><div class=\"sk-toggleable__content\"><pre>MiniBatchKMeans(max_iter=1000, n_clusters=128, tol=0.0001)</pre></div></div></div></div></div>"
      ],
      "text/plain": [
       "MiniBatchKMeans(max_iter=1000, n_clusters=128, tol=0.0001)"
      ]
     },
     "execution_count": 63,
     "metadata": {},
     "output_type": "execute_result"
    }
   ],
   "source": [
    "%%time\n",
    "\n",
    "from sklearn.cluster import MiniBatchKMeans as KMeans\n",
    "\n",
    "cb_size = 128\n",
    "cls = KMeans(n_clusters=cb_size, max_iter=1000, tol=1.0e-4)\n",
    "cls.fit(all_features)"
   ]
  },
  {
   "cell_type": "code",
   "execution_count": 64,
   "metadata": {
    "editable": true,
    "slideshow": {
     "slide_type": ""
    },
    "tags": []
   },
   "outputs": [
    {
     "data": {
      "application/vnd.jupyter.widget-view+json": {
       "model_id": "49037b524ea447ec95ed1b5f89715ddf",
       "version_major": 2,
       "version_minor": 0
      },
      "text/plain": [
       "  0%|          | 0/30000 [00:00<?, ?it/s]"
      ]
     },
     "metadata": {},
     "output_type": "display_data"
    }
   ],
   "source": [
    "X_bovw = []\n",
    "for feature in tqdm(features):\n",
    "    distances = cls.transform(feature)\n",
    "    ids = np.argmin(distances, axis=1)\n",
    "    hist = np.bincount(ids, minlength=cb_size)\n",
    "    X_bovw.append(hist)\n",
    "\n",
    "X_bovw = np.stack(X_bovw, axis=0)"
   ]
  },
  {
   "cell_type": "code",
   "execution_count": 65,
   "metadata": {
    "editable": true,
    "slideshow": {
     "slide_type": ""
    },
    "tags": []
   },
   "outputs": [
    {
     "data": {
      "application/vnd.jupyter.widget-view+json": {
       "model_id": "3880e2c286da45aeac2d87653e726c4d",
       "version_major": 2,
       "version_minor": 0
      },
      "text/plain": [
       "  0%|          | 0/30000 [00:00<?, ?it/s]"
      ]
     },
     "metadata": {},
     "output_type": "display_data"
    }
   ],
   "source": [
    "clf6 = MySGDClassifier(**sgd_params)\n",
    "clf6.fit(X_bovw, y)"
   ]
  },
  {
   "cell_type": "code",
   "execution_count": 66,
   "metadata": {
    "editable": true,
    "slideshow": {
     "slide_type": ""
    },
    "tags": []
   },
   "outputs": [
    {
     "data": {
      "application/papermill.record/text/plain": "63.78333333333333"
     },
     "metadata": {
      "scrapbook": {
       "mime_prefix": "application/papermill.record/",
       "name": "bovw_acc_train"
      }
     },
     "output_type": "display_data"
    }
   ],
   "source": [
    "# 訓練時の識別精度の確認\n",
    "y_pred = clf6.predict(X_bovw)\n",
    "acc_train = 100.0 * np.sum(y_pred == y) / len(y)\n",
    "glue(\"bovw_acc_train\", acc_train, display=False)\n",
    "result_df.loc[len(result_df), :] = [\"BoVW\", acc_train, \"Train\"]"
   ]
  },
  {
   "cell_type": "code",
   "execution_count": 67,
   "metadata": {
    "editable": true,
    "slideshow": {
     "slide_type": ""
    },
    "tags": []
   },
   "outputs": [
    {
     "data": {
      "application/vnd.jupyter.widget-view+json": {
       "model_id": "f7a492252a5b40a582fd49b9f49fec24",
       "version_major": 2,
       "version_minor": 0
      },
      "text/plain": [
       "  0%|          | 0/10000 [00:00<?, ?it/s]"
      ]
     },
     "metadata": {},
     "output_type": "display_data"
    }
   ],
   "source": [
    "X_bovw_test = []\n",
    "for x in tqdm(X_test):\n",
    "    img = x.reshape((48, 48))\n",
    "    keypoints, feature = extractor.detectAndCompute(img, None)\n",
    "    assert len(keypoints) > 0, \"No keypoints detected!\"\n",
    "    distances = cls.transform(feature)\n",
    "    ids = np.argmin(distances, axis=1)\n",
    "    hist = np.bincount(ids, minlength=cb_size)\n",
    "    X_bovw_test.append(hist)\n",
    "\n",
    "X_bovw_test = np.stack(X_bovw_test, axis=0)"
   ]
  },
  {
   "cell_type": "code",
   "execution_count": 68,
   "metadata": {
    "editable": true,
    "slideshow": {
     "slide_type": ""
    },
    "tags": []
   },
   "outputs": [
    {
     "data": {
      "application/papermill.record/text/plain": "20.49"
     },
     "metadata": {
      "scrapbook": {
       "mime_prefix": "application/papermill.record/",
       "name": "bovw_acc_test"
      }
     },
     "output_type": "display_data"
    }
   ],
   "source": [
    "# テスト時の識別精度の確認\n",
    "y_pred = clf6.predict(X_bovw_test)\n",
    "acc_test = 100.0 * np.sum(y_pred == y_test) / len(y)\n",
    "glue(\"bovw_acc_test\", acc_test, display=False)\n",
    "result_df.loc[len(result_df), :] = [\"BoVW\", acc_test, \"Test\"]"
   ]
  },
  {
   "cell_type": "markdown",
   "metadata": {
    "editable": true,
    "slideshow": {
     "slide_type": ""
    },
    "tags": []
   },
   "source": [
    "**結果: Bag of Visual Wordsの利用**\n",
    "\n",
    "- 訓練時精度: {glue:text}`bovw_acc_train:.2f`%\n",
    "- 評価時精度: {glue:text}`bovw_acc_test:.2f`%"
   ]
  },
  {
   "cell_type": "markdown",
   "metadata": {
    "editable": true,
    "slideshow": {
     "slide_type": ""
    },
    "tags": []
   },
   "source": [
    "### Gauss混合モデルを用いた改良"
   ]
  },
  {
   "cell_type": "markdown",
   "metadata": {
    "editable": true,
    "slideshow": {
     "slide_type": ""
    },
    "tags": []
   },
   "source": [
    "上記の例では、離散的に特徴量をクラスタ分割して、**最も近いクラスタ**に対して、各特量を割り当てることでヒストグラムを作成した。ただし、複数のクラスタの境界に特徴量が存在している可能性もあるため、その情報を捨てて、一番近いクラスタに特徴量を割り当てるのは、あまり適切とは言えない。\n",
    "\n",
    "そこで、クラスタリングを用いる代わりに、特徴量の分布をGauss混合モデルによって近似しておき、各ガウス分布への寄与 (小数で表わされる)の和を画像の特徴ベクトルとして与えることを考える。"
   ]
  },
  {
   "cell_type": "markdown",
   "metadata": {
    "editable": true,
    "slideshow": {
     "slide_type": ""
    },
    "tags": []
   },
   "source": [
    "**Gauss混合モデル**とは、複数のGauss分布を和が1となるような正の重みによって重み付けたものであり、確率密度関数$P(\\mathbf{x} | \\boldsymbol\\Theta)$, $\\mathbf{x} \\in \\mathbb{R}^D$が以下の形で書ける。\n",
    "\n",
    "$$\n",
    "P(\\mathbf{x} | \\boldsymbol\\Theta) = \\sum_{k=1}^K \\frac{\\alpha_k}{(2 \\pi)^{D / 2} \\left| \\boldsymbol\\Sigma_k \\right|^{1/2}} \\exp \\left( - \\frac{1}{2}(\\mathbf{x} - \\boldsymbol{\\mu}_k)^\\top \\boldsymbol\\Sigma_k^{-1}  (\\mathbf{x} - \\boldsymbol{\\mu}_k) \\right)\n",
    "$$ (eq:gaussian-mixture)\n",
    "\n",
    "のように書ける。この式で$\\boldsymbol\\Theta$はパラメータの集合 $\\{ \\alpha_k, \\boldsymbol\\mu_k, \\boldsymbol\\Sigma_k : k = 1, \\ldots, K \\}$を表わし、$\\alpha_k \\in [0, 1)$, $\\boldsymbol\\mu_k \\in \\mathbb{R}^D$, $\\boldsymbol\\Sigma_k \\in \\mathbb{R}^{D \\times D}$は、それぞれ$k$番目のGauss分布に対する混合率、分布中心、共分散行列を表わす。\n",
    "\n",
    "ガウス混合分布を用いると、とある特徴量$\\mathbf{x}$が$k$個のGauss分布のそれぞれにどの程度の寄与率$\\gamma_k(\\mathbf{x})$を持つかを以下のように計算できる。\n",
    "\n",
    "$$\n",
    "\\gamma_k(\\mathbf{x}) = \\frac{\\alpha_k}{(2\\pi)^{D/2} \\left| \\boldsymbol\\Sigma_k \\right|^{1/2}}\\frac{\\exp \\left( - \\frac{1}{2}(\\mathbf{x} - \\boldsymbol{\\mu}_k)^\\top \\boldsymbol\\Sigma_k^{-1}  (\\mathbf{x} - \\boldsymbol{\\mu}_k) \\right) }{P(\\mathbf{x})}\n",
    "$$ (eq:membership)\n",
    "\n",
    "これにより、特徴量$\\mathbf{x}$に対する、特徴表現として、\n",
    "\n",
    "$$\n",
    "\\boldsymbol\\gamma = (\\gamma_1(\\mathbf{x}), \\ldots, \\gamma_K(\\mathbf{x})^\\top\n",
    "$$\n",
    "\n",
    "が得られる。これを画像に含まれる特徴量の集合$\\mathcal{X} = \\{ \\mathbf{x}_i : i = 1, \\ldots, N \\}$に対して計算し、その平均値を画像の特徴ベクトルとする。\n",
    "\n",
    "$$\n",
    "\\mathbf{f}(\\mathcal{X}) = \\frac{1}{N} \\sum_{i=1}^N \\boldsymbol\\gamma(\\mathbf{x}_i)\n",
    "$$\n",
    "\n",
    "ここまでの議論を踏まえて、BoVWを改善したコードが以下になる。ここではscikit-learnの`GaussianMixture`を用いてGauss混合モデルのフィッティングを行う。ただし、Gauss混合モデルのフィッティングは、かなり時間のかかる処理であるため、計算時間を短縮するために、最初に主成分分析で特徴量の次元を減らしておき、そのデータに対してGauss混合モデルをフィッティングする。"
   ]
  },
  {
   "cell_type": "code",
   "execution_count": 69,
   "metadata": {
    "editable": true,
    "slideshow": {
     "slide_type": ""
    },
    "tags": []
   },
   "outputs": [
    {
     "name": "stdout",
     "output_type": "stream",
     "text": [
      "CPU times: total: 14.1 s\n",
      "Wall time: 7.24 s\n"
     ]
    }
   ],
   "source": [
    "%%time\n",
    "\n",
    "pca = PCA(n_components=50)\n",
    "sub_features = pca.fit_transform(all_features)"
   ]
  },
  {
   "cell_type": "code",
   "execution_count": 70,
   "metadata": {
    "editable": true,
    "slideshow": {
     "slide_type": ""
    },
    "tags": []
   },
   "outputs": [
    {
     "name": "stdout",
     "output_type": "stream",
     "text": [
      "CPU times: total: 4min 59s\n",
      "Wall time: 2min 57s\n"
     ]
    },
    {
     "data": {
      "text/html": [
       "<style>#sk-container-id-2 {color: black;}#sk-container-id-2 pre{padding: 0;}#sk-container-id-2 div.sk-toggleable {background-color: white;}#sk-container-id-2 label.sk-toggleable__label {cursor: pointer;display: block;width: 100%;margin-bottom: 0;padding: 0.3em;box-sizing: border-box;text-align: center;}#sk-container-id-2 label.sk-toggleable__label-arrow:before {content: \"▸\";float: left;margin-right: 0.25em;color: #696969;}#sk-container-id-2 label.sk-toggleable__label-arrow:hover:before {color: black;}#sk-container-id-2 div.sk-estimator:hover label.sk-toggleable__label-arrow:before {color: black;}#sk-container-id-2 div.sk-toggleable__content {max-height: 0;max-width: 0;overflow: hidden;text-align: left;background-color: #f0f8ff;}#sk-container-id-2 div.sk-toggleable__content pre {margin: 0.2em;color: black;border-radius: 0.25em;background-color: #f0f8ff;}#sk-container-id-2 input.sk-toggleable__control:checked~div.sk-toggleable__content {max-height: 200px;max-width: 100%;overflow: auto;}#sk-container-id-2 input.sk-toggleable__control:checked~label.sk-toggleable__label-arrow:before {content: \"▾\";}#sk-container-id-2 div.sk-estimator input.sk-toggleable__control:checked~label.sk-toggleable__label {background-color: #d4ebff;}#sk-container-id-2 div.sk-label input.sk-toggleable__control:checked~label.sk-toggleable__label {background-color: #d4ebff;}#sk-container-id-2 input.sk-hidden--visually {border: 0;clip: rect(1px 1px 1px 1px);clip: rect(1px, 1px, 1px, 1px);height: 1px;margin: -1px;overflow: hidden;padding: 0;position: absolute;width: 1px;}#sk-container-id-2 div.sk-estimator {font-family: monospace;background-color: #f0f8ff;border: 1px dotted black;border-radius: 0.25em;box-sizing: border-box;margin-bottom: 0.5em;}#sk-container-id-2 div.sk-estimator:hover {background-color: #d4ebff;}#sk-container-id-2 div.sk-parallel-item::after {content: \"\";width: 100%;border-bottom: 1px solid gray;flex-grow: 1;}#sk-container-id-2 div.sk-label:hover label.sk-toggleable__label {background-color: #d4ebff;}#sk-container-id-2 div.sk-serial::before {content: \"\";position: absolute;border-left: 1px solid gray;box-sizing: border-box;top: 0;bottom: 0;left: 50%;z-index: 0;}#sk-container-id-2 div.sk-serial {display: flex;flex-direction: column;align-items: center;background-color: white;padding-right: 0.2em;padding-left: 0.2em;position: relative;}#sk-container-id-2 div.sk-item {position: relative;z-index: 1;}#sk-container-id-2 div.sk-parallel {display: flex;align-items: stretch;justify-content: center;background-color: white;position: relative;}#sk-container-id-2 div.sk-item::before, #sk-container-id-2 div.sk-parallel-item::before {content: \"\";position: absolute;border-left: 1px solid gray;box-sizing: border-box;top: 0;bottom: 0;left: 50%;z-index: -1;}#sk-container-id-2 div.sk-parallel-item {display: flex;flex-direction: column;z-index: 1;position: relative;background-color: white;}#sk-container-id-2 div.sk-parallel-item:first-child::after {align-self: flex-end;width: 50%;}#sk-container-id-2 div.sk-parallel-item:last-child::after {align-self: flex-start;width: 50%;}#sk-container-id-2 div.sk-parallel-item:only-child::after {width: 0;}#sk-container-id-2 div.sk-dashed-wrapped {border: 1px dashed gray;margin: 0 0.4em 0.5em 0.4em;box-sizing: border-box;padding-bottom: 0.4em;background-color: white;}#sk-container-id-2 div.sk-label label {font-family: monospace;font-weight: bold;display: inline-block;line-height: 1.2em;}#sk-container-id-2 div.sk-label-container {text-align: center;}#sk-container-id-2 div.sk-container {/* jupyter's `normalize.less` sets `[hidden] { display: none; }` but bootstrap.min.css set `[hidden] { display: none !important; }` so we also need the `!important` here to be able to override the default hidden behavior on the sphinx rendered scikit-learn.org. See: https://github.com/scikit-learn/scikit-learn/issues/21755 */display: inline-block !important;position: relative;}#sk-container-id-2 div.sk-text-repr-fallback {display: none;}</style><div id=\"sk-container-id-2\" class=\"sk-top-container\"><div class=\"sk-text-repr-fallback\"><pre>GaussianMixture(covariance_type=&#x27;diag&#x27;, max_iter=20, n_components=128)</pre><b>In a Jupyter environment, please rerun this cell to show the HTML representation or trust the notebook. <br />On GitHub, the HTML representation is unable to render, please try loading this page with nbviewer.org.</b></div><div class=\"sk-container\" hidden><div class=\"sk-item\"><div class=\"sk-estimator sk-toggleable\"><input class=\"sk-toggleable__control sk-hidden--visually\" id=\"sk-estimator-id-2\" type=\"checkbox\" checked><label for=\"sk-estimator-id-2\" class=\"sk-toggleable__label sk-toggleable__label-arrow\">GaussianMixture</label><div class=\"sk-toggleable__content\"><pre>GaussianMixture(covariance_type=&#x27;diag&#x27;, max_iter=20, n_components=128)</pre></div></div></div></div></div>"
      ],
      "text/plain": [
       "GaussianMixture(covariance_type='diag', max_iter=20, n_components=128)"
      ]
     },
     "execution_count": 70,
     "metadata": {},
     "output_type": "execute_result"
    }
   ],
   "source": [
    "%%time\n",
    "\n",
    "from sklearn.mixture import GaussianMixture\n",
    "\n",
    "gmm = GaussianMixture(\n",
    "    n_components=cb_size,\n",
    "    covariance_type=\"diag\",\n",
    "    max_iter=20,\n",
    "    tol=1.0e-3,\n",
    "    n_init=1,\n",
    ")\n",
    "gmm.fit(sub_features)"
   ]
  },
  {
   "cell_type": "code",
   "execution_count": 71,
   "metadata": {
    "editable": true,
    "slideshow": {
     "slide_type": ""
    },
    "tags": []
   },
   "outputs": [
    {
     "data": {
      "application/vnd.jupyter.widget-view+json": {
       "model_id": "be4eacbb670545d6992a728e018c43a8",
       "version_major": 2,
       "version_minor": 0
      },
      "text/plain": [
       "  0%|          | 0/30000 [00:00<?, ?it/s]"
      ]
     },
     "metadata": {},
     "output_type": "display_data"
    }
   ],
   "source": [
    "X_bovw2 = []\n",
    "for feature in tqdm(features):\n",
    "    sub_f = pca.transform(feature)\n",
    "    probs = gmm.predict_proba(sub_f)\n",
    "    X_bovw2.append(probs.mean(axis=0))\n",
    "\n",
    "X_bovw2 = np.stack(X_bovw2, axis=0)"
   ]
  },
  {
   "cell_type": "code",
   "execution_count": 72,
   "metadata": {
    "editable": true,
    "slideshow": {
     "slide_type": ""
    },
    "tags": []
   },
   "outputs": [
    {
     "data": {
      "application/vnd.jupyter.widget-view+json": {
       "model_id": "c61df0524ed545139ef35805d905430d",
       "version_major": 2,
       "version_minor": 0
      },
      "text/plain": [
       "  0%|          | 0/30000 [00:00<?, ?it/s]"
      ]
     },
     "metadata": {},
     "output_type": "display_data"
    }
   ],
   "source": [
    "clf7 = MySGDClassifier(**sgd_params)\n",
    "clf7.fit(X_bovw2, y)"
   ]
  },
  {
   "cell_type": "code",
   "execution_count": 73,
   "metadata": {
    "editable": true,
    "slideshow": {
     "slide_type": ""
    },
    "tags": []
   },
   "outputs": [
    {
     "data": {
      "application/papermill.record/text/plain": "64.04666666666667"
     },
     "metadata": {
      "scrapbook": {
       "mime_prefix": "application/papermill.record/",
       "name": "bovwg_acc_train"
      }
     },
     "output_type": "display_data"
    }
   ],
   "source": [
    "# 訓練時の識別精度の確認\n",
    "y_pred = clf7.predict(X_bovw2)\n",
    "acc_train = 100.0 * np.sum(y_pred == y) / len(y)\n",
    "glue(\"bovwg_acc_train\", acc_train, display=False)\n",
    "result_df.loc[len(result_df), :] = [\"GMM-BoVW\", acc_train, \"Train\"]"
   ]
  },
  {
   "cell_type": "code",
   "execution_count": 74,
   "metadata": {
    "editable": true,
    "slideshow": {
     "slide_type": ""
    },
    "tags": []
   },
   "outputs": [
    {
     "data": {
      "application/vnd.jupyter.widget-view+json": {
       "model_id": "6292c33f1b1a481db1a2fb607502e193",
       "version_major": 2,
       "version_minor": 0
      },
      "text/plain": [
       "  0%|          | 0/10000 [00:00<?, ?it/s]"
      ]
     },
     "metadata": {},
     "output_type": "display_data"
    }
   ],
   "source": [
    "X_bovw2_test = []\n",
    "for x in tqdm(X_test):\n",
    "    img = x.reshape((48, 48))\n",
    "    _, feature = extractor.detectAndCompute(img, None)\n",
    "    sub_f = pca.transform(feature)\n",
    "    probs = gmm.predict_proba(sub_f)\n",
    "    X_bovw2_test.append(probs.mean(axis=0))\n",
    "\n",
    "X_bovw2_test = np.stack(X_bovw2_test, axis=0)"
   ]
  },
  {
   "cell_type": "code",
   "execution_count": 75,
   "metadata": {
    "editable": true,
    "slideshow": {
     "slide_type": ""
    },
    "tags": []
   },
   "outputs": [
    {
     "data": {
      "application/papermill.record/text/plain": "20.593333333333334"
     },
     "metadata": {
      "scrapbook": {
       "mime_prefix": "application/papermill.record/",
       "name": "bovwg_acc_test"
      }
     },
     "output_type": "display_data"
    }
   ],
   "source": [
    "# テスト時の識別精度の確認\n",
    "y_pred = clf7.predict(X_bovw2_test)\n",
    "acc_test = 100.0 * np.sum(y_pred == y_test) / len(y)\n",
    "glue(\"bovwg_acc_test\", acc_test, display=False)\n",
    "result_df.loc[len(result_df), :] = [\"GMM-BoVW\", acc_test, \"Test\"]"
   ]
  },
  {
   "cell_type": "markdown",
   "metadata": {
    "editable": true,
    "slideshow": {
     "slide_type": ""
    },
    "tags": []
   },
   "source": [
    "**結果: GMM-BoVW**\n",
    "\n",
    "- 訓練時精度: {glue:text}`bovwg_acc_train:.2f`%\n",
    "- 評価時精度: {glue:text}`bovwg_acc_test:.2f`%"
   ]
  },
  {
   "cell_type": "markdown",
   "metadata": {
    "editable": true,
    "slideshow": {
     "slide_type": ""
    },
    "tags": []
   },
   "source": [
    "### Fisherベクトルの利用"
   ]
  },
  {
   "cell_type": "markdown",
   "metadata": {
    "editable": true,
    "slideshow": {
     "slide_type": ""
    },
    "tags": []
   },
   "source": [
    "BoVWの改良としてFisherベクトルを利用する手法は2007年にPerronninらによって提案された{cite}`perronnin2007fisher`。Fisherベクトルは、統計学等でも用いられるFisher情報量に基づく特徴表現である。とある確率密度分布が$\\mathbf{x} \\in \\mathcal{X}$のパラメータ (母数)$\\boldsymbol\\Theta$に関する事後分布として $P(\\mathbf{x} | \\boldsymbol\\Theta)$のように与えられる場合を考える。"
   ]
  },
  {
   "cell_type": "markdown",
   "metadata": {
    "editable": true,
    "slideshow": {
     "slide_type": ""
    },
    "tags": []
   },
   "source": [
    "#### Fisherベクトルの導出"
   ]
  },
  {
   "cell_type": "markdown",
   "metadata": {
    "editable": true,
    "slideshow": {
     "slide_type": ""
    },
    "tags": []
   },
   "source": [
    "Fisher情報量を求めるに当たり、Fisherベクトル$V(\\mathbf{x}; \\boldsymbol\\Theta)$を\n",
    "\n",
    "$$\n",
    "V(\\mathbf{x}; \\boldsymbol\\Theta) = \\nabla_{\\boldsymbol\\Theta} \\log P(\\mathbf{x} | \\boldsymbol\\Theta)\n",
    "$$\n",
    "\n",
    "のように表わす。なお、確率密度関数が連続関数であるとき、このFisherベクトルの平均はゼロベクトルになる。"
   ]
  },
  {
   "cell_type": "markdown",
   "metadata": {
    "editable": true,
    "slideshow": {
     "slide_type": ""
    },
    "tags": []
   },
   "source": [
    "Fisher情報量は上記のFisherベクトルの分散として定義される。この際、Fisherベクトルの平均が$\\mathbf{0}$であることを用いると次の式で与えられる。\n",
    "\n",
    "$$\n",
    "\\mathbb{E}_{\\mathbf{x} \\sim \\mathcal{X}} \\left[ \\nabla_{\\boldsymbol\\Theta} \\log P(\\mathbf{x} | \\boldsymbol\\Theta)) \\right]\n",
    "$$"
   ]
  },
  {
   "cell_type": "markdown",
   "metadata": {
    "editable": true,
    "slideshow": {
     "slide_type": ""
    },
    "tags": []
   },
   "source": [
    "さて、ここで、$P(\\mathbf{x} | \\boldsymbol\\Theta)$が{eq}`eq:gaussian-mixture`のガウス混合分布で与えられる場合を考える。以後、計算を簡単にするために、共分散行列は対角成分を$\\boldsymbol\\sigma_k$とする対角行列であるとする。\n",
    "\n",
    "とあるパラメータ$\\theta$に関する$\\ln P(\\mathbf{x} | \\boldsymbol\\Theta)$の微分は、\n",
    "\n",
    "$$\n",
    "\\frac{\\partial \\log P(\\mathbf{x}| \\boldsymbol\\Theta)}{\\partial \\theta} = \\frac{1}{P(\\mathbf{x} | \\boldsymbol\\Theta)} \\frac{\\partial P}{\\partial\\theta}\n",
    "$$\n",
    "\n",
    "と書けることは言うまでもない。また、$P(\\mathbf{x} | \\boldsymbol\\Theta)$の$\\pi_k$, $\\mu_{k,d}$, $\\sigma_{k,d}$に関する偏微分はそれぞれ以下のように書ける。"
   ]
  },
  {
   "cell_type": "markdown",
   "metadata": {
    "editable": true,
    "slideshow": {
     "slide_type": ""
    },
    "tags": []
   },
   "source": [
    "$$\n",
    "\\begin{align}\n",
    "\\frac{\\partial P(\\mathbf{x} | \\boldsymbol\\Theta)}{\\partial \\alpha_k}\n",
    "&= \\frac{\\exp \\left( -\\frac{1}{2}(\\mathbf{x} - \\boldsymbol{\\mu}_k)^\\top \\boldsymbol\\Sigma_k^{-1}  (\\mathbf{x} - \\boldsymbol{\\mu}_k) \\right)}{(2\\pi)^{D/2} | \\boldsymbol\\Sigma_k |^{1/2}} = \\frac{\\mathcal{N}(\\mathbf{x} | \\boldsymbol\\mu_{k}, \\boldsymbol\\sigma_k)}{\\alpha_k} \\\\\n",
    "%\n",
    "\\frac{\\partial P(\\mathbf{x} | \\boldsymbol\\Theta)}{\\partial \\mu_{k,d}}\n",
    "&= \\alpha_k \\frac{x_d - \\mu_{k,d}}{\\sigma_{k,d}^2} \\mathcal{N}(\\mathbf{x} | \\boldsymbol\\mu_{k}, \\boldsymbol\\sigma_k) \\\\\n",
    "%\n",
    "\\frac{\\partial P(\\mathbf{x} | \\boldsymbol\\Theta)}{\\partial \\sigma_{k,d}}\n",
    "&= \\alpha_k \\left[ \\frac{(x_d - \\mu_{k,d})^2}{\\sigma_{k,d}^3} - \\frac{1}{\\sigma_{k,d}} \\right] \\mathcal{N}(\\mathbf{x} | \\boldsymbol\\mu_{k}, \\boldsymbol\\sigma_k)\n",
    "\\end{align}\n",
    "$$"
   ]
  },
  {
   "cell_type": "markdown",
   "metadata": {
    "editable": true,
    "slideshow": {
     "slide_type": ""
    },
    "tags": []
   },
   "source": [
    "したがって、{eq}`eq:membership`の寄与率$\\gamma_k$を用いると、フィッシャーベクトルの各次元は以下のように書き直せる。\n",
    "\n",
    "$$\n",
    "\\begin{align}\n",
    "\\frac{\\partial \\log P(\\mathbf{x}| \\boldsymbol\\Theta)}{\\partial \\alpha_k}\n",
    "&= \\frac{\\gamma_k(\\mathbf{x})}{\\alpha_k} \\\\\n",
    "%\n",
    "\\frac{\\partial \\log P(\\mathbf{x}| \\boldsymbol\\Theta)}{\\partial \\mu_{k,d}}\n",
    "&= \\gamma_k(\\mathbf{x}) \\left[ \\frac{x_d - \\mu_{k,d}}{\\sigma_{k,d}^2} \\right] \\\\\n",
    "%\n",
    "\\frac{\\partial \\log P(\\mathbf{x}| \\boldsymbol\\Theta)}{\\partial \\sigma_{k,d}}\n",
    "&= \\gamma_k(\\mathbf{x}) \\left[ \\frac{(x_d - \\mu_{k,d})^2}{\\sigma_{k,d}^3}  - \\frac{1}{\\sigma_{k,d}} \\right]\n",
    "\\end{align}\n",
    "$$"
   ]
  },
  {
   "cell_type": "markdown",
   "metadata": {
    "editable": true,
    "slideshow": {
     "slide_type": ""
    },
    "tags": []
   },
   "source": [
    "ここで、$\\mathcal{X} = \\{ \\mathbf{x}_1, \\ldots, \\mathbf{x}_N \\}$として、これらの同時分布$P(\\mathcal{X} | \\boldsymbol\\Theta)$を考える。$\\mathbf{x}_i$は互いに独立なサンプルであるので、\n",
    "\n",
    "$$\n",
    "P(\\mathcal{X} | \\boldsymbol\\Theta) = \\prod_{i=1}^N P(\\mathbf{x}_i | \\boldsymbol\\Theta)\n",
    "$$\n",
    "\n",
    "故に、この対数尤度$L(\\mathcal{X} | \\boldsymbol\\Theta)$は、\n",
    "\n",
    "$$\n",
    "L(\\mathcal{X} | \\boldsymbol\\Theta) = \\sum_{i=1}^N \\log P(\\mathbf{x}_i | \\boldsymbol\\Theta)\n",
    "$$\n",
    "\n",
    "となることが分かる。この尤度関数のパラメータに関する偏微分からFisherベクトルを求めると、以下のようになる。\n",
    "\n",
    "$$\n",
    "\\frac{\\partial L(\\mathcal{X} | \\boldsymbol\\Theta)}{\\partial \\alpha_k}\n",
    "= \\sum_{i=1}^N \\left[ \\frac{\\gamma_k(\\mathbf{x}_i)}{\\alpha_k} - \\frac{\\gamma_1(\\mathbf{x}_i)}{\\alpha_1}  \\right] \\quad \\text{for} ~ k \\geq 2  $$ (eq:deriv-alpha)\n",
    "\n",
    "$$\n",
    "\\frac{\\partial L(\\mathcal{X} | \\boldsymbol\\Theta)}{\\partial \\mu_{k,d}}\n",
    "= \\sum_{i=1}^N \\gamma_k(\\mathbf{x}_i) \\left[ \\frac{x_d - \\mu_{k,d}}{\\sigma_{k,d}^2} \\right] \\\\\n",
    "$$ (eq:deriv-mu)\n",
    "\n",
    "$$\n",
    "\\frac{\\partial L(\\mathcal{X} | \\boldsymbol\\Theta)}{\\partial \\sigma_{k,d}}\n",
    "= \\sum_{i=1}^N \\gamma_k(\\mathbf{x}_i) \\left[ \\frac{(x_d - \\mu_{k,d})^2}{\\sigma_{k,d}^3} - \\frac{1}{\\sigma_{k,d}} \\right]\n",
    "$$ (eq:deriv-sigma)"
   ]
  },
  {
   "cell_type": "markdown",
   "metadata": {
    "editable": true,
    "slideshow": {
     "slide_type": ""
    },
    "tags": []
   },
   "source": [
    "ただし、{eq}`eq:deriv-alpha`では、$\\sum_{k} \\alpha_k = 1$であることを用いて、自由度を一つ減らしてある。"
   ]
  },
  {
   "cell_type": "markdown",
   "metadata": {
    "editable": true,
    "slideshow": {
     "slide_type": ""
    },
    "tags": []
   },
   "source": [
    "ここまでの式から、Fisherベクトルの次元は$\\alpha_k$に関する成分が$K - 1$次元、$\\mu_{k,d}$に関する成分が$DK$次元、$\\sigma_{k,d}$に関する成分が$DK$次元あるので、合計で$(2D + 1) K - 1$次元となる。"
   ]
  },
  {
   "cell_type": "markdown",
   "metadata": {
    "editable": true,
    "slideshow": {
     "slide_type": ""
    },
    "tags": []
   },
   "source": [
    "#### Fisherベクトルの意味"
   ]
  },
  {
   "cell_type": "markdown",
   "metadata": {
    "editable": true,
    "slideshow": {
     "slide_type": ""
    },
    "tags": []
   },
   "source": [
    "上記の通り、Fisherベクトルはとあるデータ集合$\\mathcal{X}$を近似的に表わすGauss混合モデルについて、そのパラメータ$\\boldsymbol\\Theta$に関する勾配を要素に持つ。この意味を考えてみよう。\n",
    "\n",
    "とある確率密度関数をサンプルにフィッティングする問題を考えるとき、その確率密度関数の対数尤度が最大になるようにパラメータを最適化する。従って、**Fisherベクトルの各要素は、そのパラメータの変化が、どの程度尤度に影響を与えるかを示している**、と言い換えられる。\n",
    "\n",
    "この影響を大きさの期待値を表わしているのがFisher情報量であり、各パラメータに関するFisher情報両はFisherベクトルの各要素の二乗平均により与えられる。Fisher情報量は、推定するパラメータを正しく推定するために、どの程度十分な情報(=サンプル)が得られているかを示しており、**情報量が大きければ大きいほど、サンプルから求まるパラメータの最尤推定量が真の値に近づくことが期待される** (推定量の分散とFisher情報量の逆数の関係はCramér-Raoの不等式で与えられる)。"
   ]
  },
  {
   "cell_type": "markdown",
   "metadata": {
    "editable": true,
    "slideshow": {
     "slide_type": ""
    },
    "tags": []
   },
   "source": [
    "従って、とある画像に対して計算されるFisherベクトルは、**その画像(から得られた特徴量の集合)が、画像全体(のGauss混合分布)から見て、どのようなの意外性を持つか、と言い換えても良い**。その画像が全体のGauss混合分布にとって十分尤もらしいものであれば、尤度の勾配から定まるFisherベクトルの要素は小さな値(特に意外ではない)を取り、そうでなければ、大きな値(意外である)を取る、という訳である。\n",
    "\n",
    "ただし、画像の分類の観点から言えば、Fisherベクトルがどのような意味を持つか、ということよりも、それ自体が、単なるクラスタへの所属や、Gauss混合モデル以上に画像を上手く表現できるような特徴を与えるということに価値がある。\n",
    "\n",
    "実際、{eq}`eq:deriv-alpha`は画像が含む特徴量に関して、どの分布にどのくらいの割合で属するかを表わす0次統計量であるのに対し、{eq}`eq:deriv-mu`ならびに{eq}`eq:deriv-sigma`は、それぞれ1次統計量、2次統計量を表わしている。"
   ]
  },
  {
   "cell_type": "markdown",
   "metadata": {
    "editable": true,
    "slideshow": {
     "slide_type": ""
    },
    "tags": []
   },
   "source": [
    "#### Fisherベクトルを用いた画像分類"
   ]
  },
  {
   "cell_type": "markdown",
   "metadata": {
    "editable": true,
    "slideshow": {
     "slide_type": ""
    },
    "tags": []
   },
   "source": [
    "それでは、実際に全画像から取得したSIFT特徴量を用いて、各画像に対応するFisherベクトルを求めてみよう。Perronninらの元論文 {cite}`perronnin2007fisher`では、計算量を削減するために、得られたSIFT特徴量を主成分分析によって50次元減らした後、Gauss混合モデルをフィッティングしてFisherベクトルを求めている。"
   ]
  },
  {
   "cell_type": "code",
   "execution_count": 76,
   "metadata": {
    "editable": true,
    "slideshow": {
     "slide_type": ""
    },
    "tags": [
     "hide-output"
    ]
   },
   "outputs": [
    {
     "data": {
      "application/vnd.jupyter.widget-view+json": {
       "model_id": "86cc406065e8417488278f4c1a7ef4ba",
       "version_major": 2,
       "version_minor": 0
      },
      "text/plain": [
       "  0%|          | 0/30000 [00:00<?, ?it/s]"
      ]
     },
     "metadata": {},
     "output_type": "display_data"
    }
   ],
   "source": [
    "X_fv = []\n",
    "for feature in tqdm(features):\n",
    "    sub_f = pca.transform(feature)  # (N, D)\n",
    "    gamma = gmm.predict_proba(sub_f)  # (N, K)\n",
    "    alpha = gmm.weights_  # (K)\n",
    "    mu = gmm.means_  # (K, D)\n",
    "    sigma = gmm.covariances_  # (K, D)\n",
    "\n",
    "    g_over_a = gamma / alpha\n",
    "    dLda = np.sum(g_over_a[:, 1:] - g_over_a[:, 0:1], axis=0)\n",
    "\n",
    "    tmp0 = (sub_f[:, None, :] - mu[None, :, :]) / (sigma[None, :, :] ** 2)\n",
    "    dLdm = np.sum(gamma[:, :, None] * tmp0, axis=0)\n",
    "\n",
    "    tmp0 = (sub_f[:, None, :] - mu[None, :, :]) ** 2 / (sigma[None, :, :] ** 3)\n",
    "    tmp1 = 1.0 / sigma[None, :, :]\n",
    "    dLds = np.sum(gamma[:, :, None] * (tmp0 - tmp1), axis=0)\n",
    "\n",
    "    fv = np.concatenate([dLda, dLdm.reshape((-1)), dLds.reshape((-1))])\n",
    "    X_fv.append(fv)\n",
    "\n",
    "X_fv = np.stack(X_fv, axis=0)"
   ]
  },
  {
   "cell_type": "code",
   "execution_count": 77,
   "metadata": {
    "editable": true,
    "slideshow": {
     "slide_type": ""
    },
    "tags": []
   },
   "outputs": [
    {
     "data": {
      "application/vnd.jupyter.widget-view+json": {
       "model_id": "aef4849a051643dbb25736501b244a5e",
       "version_major": 2,
       "version_minor": 0
      },
      "text/plain": [
       "  0%|          | 0/30000 [00:00<?, ?it/s]"
      ]
     },
     "metadata": {},
     "output_type": "display_data"
    }
   ],
   "source": [
    "clf8 = MySGDClassifier(**sgd_params)\n",
    "clf8.fit(X_fv, y)"
   ]
  },
  {
   "cell_type": "code",
   "execution_count": 78,
   "metadata": {
    "editable": true,
    "slideshow": {
     "slide_type": ""
    },
    "tags": []
   },
   "outputs": [
    {
     "data": {
      "application/papermill.record/text/plain": "94.30666666666667"
     },
     "metadata": {
      "scrapbook": {
       "mime_prefix": "application/papermill.record/",
       "name": "fisher_acc_train"
      }
     },
     "output_type": "display_data"
    }
   ],
   "source": [
    "# 訓練時の識別精度の確認\n",
    "y_pred = clf8.predict(X_fv)\n",
    "acc_train = 100.0 * np.sum(y_pred == y) / len(y)\n",
    "glue(\"fisher_acc_train\", acc_train, display=False)\n",
    "result_df.loc[len(result_df), :] = [\"Fisher-BoVW\", acc_train, \"Train\"]"
   ]
  },
  {
   "cell_type": "code",
   "execution_count": 79,
   "metadata": {
    "editable": true,
    "slideshow": {
     "slide_type": ""
    },
    "tags": []
   },
   "outputs": [
    {
     "data": {
      "application/vnd.jupyter.widget-view+json": {
       "model_id": "00cc7bb2e84c47d7b088b6f78fcb4231",
       "version_major": 2,
       "version_minor": 0
      },
      "text/plain": [
       "  0%|          | 0/10000 [00:00<?, ?it/s]"
      ]
     },
     "metadata": {},
     "output_type": "display_data"
    }
   ],
   "source": [
    "X_fv_test = []\n",
    "for x in tqdm(X_test):\n",
    "    img = x.reshape((48, 48))\n",
    "    _, feature = extractor.detectAndCompute(img, None)\n",
    "\n",
    "    sub_f = pca.transform(feature)  # (N, D)\n",
    "    gamma = gmm.predict_proba(sub_f)  # (N, K)\n",
    "    alpha = gmm.weights_  # (K)\n",
    "    mu = gmm.means_  # (K, D)\n",
    "    sigma = gmm.covariances_  # (K, D)\n",
    "\n",
    "    g_over_a = gamma / alpha\n",
    "    dLda = np.sum(g_over_a[:, 1:] - g_over_a[:, 0:1], axis=0)\n",
    "\n",
    "    tmp0 = (sub_f[:, None, :] - mu[None, :, :]) / (sigma[None, :, :] ** 2)\n",
    "    dLdm = np.sum(gamma[:, :, None] * tmp0, axis=0)\n",
    "\n",
    "    tmp0 = (sub_f[:, None, :] - mu[None, :, :]) ** 2 / (sigma[None, :, :] ** 3)\n",
    "    tmp1 = 1.0 / sigma[None, :, :]\n",
    "    dLds = np.sum(gamma[:, :, None] * (tmp0 - tmp1), axis=0)\n",
    "\n",
    "    fv = np.concatenate([dLda, dLdm.reshape((-1)), dLds.reshape((-1))])\n",
    "    X_fv_test.append(fv)\n",
    "\n",
    "X_fv_test = np.stack(X_fv_test, axis=0)"
   ]
  },
  {
   "cell_type": "code",
   "execution_count": 80,
   "metadata": {
    "editable": true,
    "slideshow": {
     "slide_type": ""
    },
    "tags": []
   },
   "outputs": [
    {
     "data": {
      "application/papermill.record/text/plain": "94.30666666666667"
     },
     "metadata": {
      "scrapbook": {
       "mime_prefix": "application/papermill.record/",
       "name": "fisher_acc_test"
      }
     },
     "output_type": "display_data"
    }
   ],
   "source": [
    "# テスト時の識別精度の確認\n",
    "y_pred = clf8.predict(X_fv_test)\n",
    "acc_test = 100.0 * np.sum(y_pred == y_test) / len(y)\n",
    "glue(\"fisher_acc_test\", acc_train, display=False)\n",
    "result_df.loc[len(result_df), :] = [\"Fisher-BoVW\", acc_test, \"Test\"]"
   ]
  },
  {
   "cell_type": "markdown",
   "metadata": {
    "editable": true,
    "slideshow": {
     "slide_type": ""
    },
    "tags": []
   },
   "source": [
    "**結果: FisherベクトルによるBoVW**\n",
    "\n",
    "- 訓練時精度: {glue:text}`fisher_acc_train:.2f`%\n",
    "- 評価時精度: {glue:text}`fisher_acc_test:.2f`%"
   ]
  },
  {
   "cell_type": "markdown",
   "metadata": {
    "editable": true,
    "slideshow": {
     "slide_type": ""
    },
    "tags": []
   },
   "source": [
    "## 手法の比較"
   ]
  },
  {
   "cell_type": "markdown",
   "metadata": {
    "editable": true,
    "slideshow": {
     "slide_type": ""
    },
    "tags": []
   },
   "source": [
    "ここまでの手法の訓練時、ならびにテスト時のスコアを比較してみよう。今回は文字のデータを使ったために、HOGやBoVWの性能がそれほど活かせているとは言えない結果となったが、いずれも自然画像の分類には力を発揮する手法である。\n",
    "\n",
    "このように必ずしも、複雑な方法や、新しい方法が目的に合っているとは限らないことは、常に心に留めておくべきである。"
   ]
  },
  {
   "cell_type": "code",
   "execution_count": 82,
   "metadata": {
    "editable": true,
    "slideshow": {
     "slide_type": ""
    },
    "tags": [
     "hide-input"
    ]
   },
   "outputs": [
    {
     "data": {
      "image/png": "[encoded data removed]",
      "text/plain": [
       "<Figure size 1800x1200 with 1 Axes>"
      ]
     },
     "metadata": {},
     "output_type": "display_data"
    }
   ],
   "source": [
    "plt.figure(figsize=(12, 8))\n",
    "\n",
    "ax = sns.barplot(\n",
    "    x=\"Method\",\n",
    "    y=\"Accuracy\",\n",
    "    hue=\"Phase\",\n",
    "    data=result_df.round(2),\n",
    "    errwidth=0,\n",
    ")\n",
    "\n",
    "for i in ax.containers:\n",
    "    ax.bar_label(i)\n",
    "\n",
    "plt.yticks(np.linspace(0, 100, 5))\n",
    "plt.ylim([0, 105])\n",
    "plt.grid(axis=\"y\", color=\"gray\", linestyle=\"--\", linewidth=0.5)\n",
    "plt.show()"
   ]
  },
  {
   "cell_type": "markdown",
   "metadata": {
    "editable": true,
    "slideshow": {
     "slide_type": ""
    },
    "tags": []
   },
   "source": [
    "## 練習問題"
   ]
  },
  {
   "cell_type": "markdown",
   "metadata": {
    "editable": true,
    "slideshow": {
     "slide_type": ""
    },
    "tags": []
   },
   "source": [
    "1. LBPとUniform LBPについて、文字の画像の輝度を増減したり、画像を回転させたときに、その特徴量がどのように変化するかを調べよ。\n",
    "2. SIFT特徴量がスケールや画像の回転に対して頑健であるのは何故か。その計算方法に基づき説明せよ。\n",
    "3. k平均法やGauss混合モデルは、教師なし学習法の一種で、そのクラスタや分布の数はユーザが必要に応じて与える必要がある。これらを自動的に決めるための指標として赤池情報基準(AIC = Akaike Information Criterion)やBayes情報基準 (=Bayes Information Criterion)がある。それぞれがどのようなものか調べよ。\n",
    "4. BoVWの性能がSIFT以外の特徴量 (OpenCVにはBRIEF {cite}`calonder2010brief` (=Binary Robust Independent Elementary Features)やORB {cite}`rublee2011orb` (=Oriented FAST and Rotated BRIEF)が実装されている)を使うと、どのように変化するかを調べよ。"
   ]
  },
  {
   "cell_type": "markdown",
   "metadata": {
    "editable": true,
    "slideshow": {
     "slide_type": ""
    },
    "tags": []
   },
   "source": [
    "## 参考文献\n",
    "\n",
    "```{bibliography}\n",
    ":filter: docname in docnames\n",
    ":style: alpha\n",
    "```"
   ]
  },
  {
   "cell_type": "code",
   "execution_count": null,
   "metadata": {
    "editable": true,
    "slideshow": {
     "slide_type": ""
    },
    "tags": []
   },
   "outputs": [],
   "source": []
  }
 ],
 "metadata": {
  "kernelspec": {
   "display_name": "Python 3 (ipykernel)",
   "language": "python",
   "name": "python3"
  },
  "language_info": {
   "codemirror_mode": {
    "name": "ipython",
    "version": 3
   },
   "file_extension": ".py",
   "mimetype": "text/x-python",
   "name": "python",
   "nbconvert_exporter": "python",
   "pygments_lexer": "ipython3",
   "version": "3.11.4"
  }
 },
 "nbformat": 4,
 "nbformat_minor": 4
}

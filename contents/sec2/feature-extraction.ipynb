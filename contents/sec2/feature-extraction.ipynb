{
 "cells": [
  {
   "cell_type": "markdown",
   "metadata": {
    "editable": true,
    "slideshow": {
     "slide_type": ""
    },
    "tags": []
   },
   "source": [
    "(sec:feature-extraction)=\n",
    "# 特徴量抽出"
   ]
  },
  {
   "cell_type": "code",
   "execution_count": 1,
   "metadata": {
    "editable": true,
    "slideshow": {
     "slide_type": ""
    },
    "tags": [
     "hide-input"
    ]
   },
   "outputs": [],
   "source": [
    "# 下準備\n",
    "import os\n",
    "import sys\n",
    "import random\n",
    "\n",
    "import numpy as np\n",
    "from tqdm.notebook import tqdm\n",
    "\n",
    "# 実験に使うデータ数\n",
    "n_samples = 2000\n",
    "\n",
    "# シードの固定\n",
    "random.seed(31415)\n",
    "np.random.seed(31415)"
   ]
  },
  {
   "cell_type": "markdown",
   "metadata": {
    "editable": true,
    "slideshow": {
     "slide_type": ""
    },
    "tags": []
   },
   "source": [
    "さて、今回からは数字ではなく「ひらがな」のデータセットを用いて、より複雑な識別問題に取り組む。\n",
    "\n",
    "データセットは国立国会図書館の[NDLラボ](https://lab.ndl.go.jp/)が公開している文字画像データセットを使用する。\n",
    "\n",
    "- 文字画像データセット: <https://github.com/ndl-lab/hiragana_mojigazo>"
   ]
  },
  {
   "cell_type": "markdown",
   "metadata": {
    "editable": true,
    "slideshow": {
     "slide_type": ""
    },
    "tags": []
   },
   "source": [
    "実際のデータセットは、以下のURLにホストされているので、ここからダウンロードする。\n",
    "\n",
    "**文字画像データセット(平仮名73文字版) (zip形式)** \n",
    "\n",
    "- <http://lab.ndl.go.jp/dataset/hiragana73.zip>"
   ]
  },
  {
   "cell_type": "code",
   "execution_count": 2,
   "metadata": {
    "editable": true,
    "slideshow": {
     "slide_type": ""
    },
    "tags": []
   },
   "outputs": [
    {
     "data": {
      "application/vnd.jupyter.widget-view+json": {
       "model_id": "3692d5d7e37140ebb756b750d52d0245",
       "version_major": 2,
       "version_minor": 0
      },
      "text/plain": [
       "  0%|          | 0.00/233M [00:00<?, ?B/s]"
      ]
     },
     "metadata": {},
     "output_type": "display_data"
    }
   ],
   "source": [
    "import requests\n",
    "\n",
    "url = \"http://lab.ndl.go.jp/dataset/hiragana73.zip\"\n",
    "filename = os.path.basename(url)\n",
    "\n",
    "# データ格納用のディレクトリを作る\n",
    "os.makedirs(\"data\", exist_ok=True)\n",
    "\n",
    "# HTTPリクエストを送ってデータサイズを取得\n",
    "r = requests.get(url, stream=True)\n",
    "total_size = int(r.headers.get(\"content-length\", 0))\n",
    "chunk_size = 65535\n",
    "\n",
    "# 実際のファイルのダウンロード\n",
    "pbar = tqdm(total=total_size, unit=\"B\", unit_scale=True)\n",
    "with open(filename, \"wb\") as f:\n",
    "    for data in r.iter_content(chunk_size):\n",
    "        f.write(data)\n",
    "        pbar.update(chunk_size)"
   ]
  },
  {
   "cell_type": "code",
   "execution_count": 3,
   "metadata": {
    "editable": true,
    "slideshow": {
     "slide_type": ""
    },
    "tags": []
   },
   "outputs": [],
   "source": [
    "# ダウンロードが完了したらZIPを展開する\n",
    "import zipfile\n",
    "\n",
    "with zipfile.ZipFile(filename, \"r\") as f:\n",
    "    f.extractall()"
   ]
  },
  {
   "cell_type": "markdown",
   "metadata": {
    "editable": true,
    "slideshow": {
     "slide_type": ""
    },
    "tags": []
   },
   "source": [
    "## データセットの前処理"
   ]
  },
  {
   "cell_type": "markdown",
   "metadata": {
    "editable": true,
    "slideshow": {
     "slide_type": ""
    },
    "tags": []
   },
   "source": [
    "このデータセットは濁音、半濁音を含むひらがな73文字に対して、そのUnicode値のフォルダの中に、48×48の画像がPNG形式で保存されている。\n",
    "\n",
    "各ひらがなのUnicode値を調べるには、`ord`関数を用いてUnicode値に変換した後に、それを`hex`関数を用いて16進数表記の文字列に変換すれば良い。\n",
    "\n",
    "一例として「あ」であれば、以下のようにUnicode値を得ることができる。"
   ]
  },
  {
   "cell_type": "code",
   "execution_count": 4,
   "metadata": {
    "editable": true,
    "slideshow": {
     "slide_type": ""
    },
    "tags": []
   },
   "outputs": [
    {
     "name": "stdout",
     "output_type": "stream",
     "text": [
      "0x3042\n"
     ]
    }
   ],
   "source": [
    "a = \"あ\"\n",
    "hira_a = hex(ord(a))\n",
    "print(hira_a)"
   ]
  },
  {
   "cell_type": "markdown",
   "metadata": {
    "editable": true,
    "slideshow": {
     "slide_type": ""
    },
    "tags": []
   },
   "source": [
    "逆に、あいうえお順で文字を取得したければ、「あ」に対応するUnicode値である`0x3042`からスタートして、1ずつ値を上げていきながら、その数字を`chr`関数を用いて文字に変換すれば良い。\n",
    "\n",
    "なお、16進数の文字列を整数に直したいときには、`int(hira_a)`と単に文字列を渡すだけではダメで、第2引数に何進数の数字なのかを与えて `int(hira_a, 16)` のようにする必要があることに注意すること。\n",
    "\n",
    "上記のひらがなデータセットは「ゃ」や「っ」などの小文字を含まない73文字から構成されているが、「あ」から「ん」までは、小文字を含め82文字なので、これを列挙してみる。"
   ]
  },
  {
   "cell_type": "code",
   "execution_count": 5,
   "metadata": {
    "editable": true,
    "slideshow": {
     "slide_type": ""
    },
    "tags": []
   },
   "outputs": [
    {
     "name": "stdout",
     "output_type": "stream",
     "text": [
      "あぃいぅうぇえぉおかがきぎくぐけげこごさざしじすずせぜそぞただちぢっつづてでとどなにぬねのはばぱひびぴふぶぷへべぺほぼぽまみむめもゃやゅゆょよらりるれろゎわゐゑをん"
     ]
    }
   ],
   "source": [
    "for i in range(82):\n",
    "    print(chr(int(hira_a, 16) + i), end=\"\")"
   ]
  },
  {
   "cell_type": "markdown",
   "metadata": {
    "editable": true,
    "slideshow": {
     "slide_type": ""
    },
    "tags": []
   },
   "source": [
    "ひらがなデータセットのフォルダ名は16進数を表わす`0x`の代わりに`U`が接頭辞になっているので、フォルダ名の`U`を`0x`に置換して、どの文字がデータセットに含まれているかをチェックしてみる。"
   ]
  },
  {
   "cell_type": "code",
   "execution_count": 6,
   "metadata": {
    "editable": true,
    "slideshow": {
     "slide_type": ""
    },
    "tags": []
   },
   "outputs": [
    {
     "name": "stdout",
     "output_type": "stream",
     "text": [
      "There are 73 folders in \"hiragana73\".\n",
      "あいうえおかがきぎくぐけげこごさざしじすずせぜそぞただちぢつづてでとどなにぬねのはばぱひびぴふぶぷへべぺほぼぽまみむめもやゆよらりるれろわゐゑをん"
     ]
    }
   ],
   "source": [
    "# サブフォルダの数を調べる\n",
    "dirname = \"hiragana73\"\n",
    "folders = sorted([d for d in os.listdir(dirname)])\n",
    "print('There are {:d} folders in \"{:s}\".'.format(len(folders), dirname))\n",
    "\n",
    "# フォルダに対応する文字を列挙\n",
    "for d in folders:\n",
    "    x = d.replace(\"U\", \"0x\")\n",
    "    print(chr(int(x, 16)), end=\"\")"
   ]
  },
  {
   "cell_type": "markdown",
   "metadata": {
    "editable": true,
    "slideshow": {
     "slide_type": ""
    },
    "tags": []
   },
   "source": [
    "さらに、各文字に何個ずつ画像が含まれているかもチェックしておこう。"
   ]
  },
  {
   "cell_type": "code",
   "execution_count": 7,
   "metadata": {
    "editable": true,
    "slideshow": {
     "slide_type": ""
    },
    "tags": [
     "hide-input"
    ]
   },
   "outputs": [
    {
     "data": {
      "text/html": [
       "<style type=\"text/css\">\n",
       "#T_1a591_row0_col0, #T_1a591_row0_col2, #T_1a591_row0_col4, #T_1a591_row0_col6, #T_1a591_row0_col8, #T_1a591_row0_col10, #T_1a591_row0_col12, #T_1a591_row0_col14, #T_1a591_row1_col0, #T_1a591_row1_col2, #T_1a591_row1_col4, #T_1a591_row1_col6, #T_1a591_row1_col8, #T_1a591_row1_col10, #T_1a591_row1_col12, #T_1a591_row1_col14, #T_1a591_row2_col0, #T_1a591_row2_col2, #T_1a591_row2_col4, #T_1a591_row2_col6, #T_1a591_row2_col8, #T_1a591_row2_col10, #T_1a591_row2_col12, #T_1a591_row2_col14, #T_1a591_row3_col0, #T_1a591_row3_col2, #T_1a591_row3_col4, #T_1a591_row3_col6, #T_1a591_row3_col8, #T_1a591_row3_col10, #T_1a591_row3_col12, #T_1a591_row3_col14, #T_1a591_row4_col0, #T_1a591_row4_col2, #T_1a591_row4_col4, #T_1a591_row4_col6, #T_1a591_row4_col8, #T_1a591_row4_col10, #T_1a591_row4_col12, #T_1a591_row4_col14, #T_1a591_row5_col0, #T_1a591_row5_col2, #T_1a591_row5_col4, #T_1a591_row5_col6, #T_1a591_row5_col8, #T_1a591_row5_col10, #T_1a591_row5_col12, #T_1a591_row5_col14, #T_1a591_row6_col0, #T_1a591_row6_col2, #T_1a591_row6_col4, #T_1a591_row6_col6, #T_1a591_row6_col8, #T_1a591_row6_col10, #T_1a591_row6_col12, #T_1a591_row6_col14, #T_1a591_row7_col0, #T_1a591_row7_col2, #T_1a591_row7_col4, #T_1a591_row7_col6, #T_1a591_row7_col8, #T_1a591_row7_col10, #T_1a591_row7_col12, #T_1a591_row7_col14, #T_1a591_row8_col0, #T_1a591_row8_col2, #T_1a591_row8_col4, #T_1a591_row8_col6, #T_1a591_row8_col8, #T_1a591_row8_col10, #T_1a591_row8_col12, #T_1a591_row8_col14, #T_1a591_row9_col0, #T_1a591_row9_col2, #T_1a591_row9_col4, #T_1a591_row9_col6, #T_1a591_row9_col8, #T_1a591_row9_col10, #T_1a591_row9_col12, #T_1a591_row9_col14 {\n",
       "  font-weight: bold;\n",
       "}\n",
       "</style>\n",
       "<table id=\"T_1a591\">\n",
       "  <thead>\n",
       "    <tr>\n",
       "      <th class=\"blank level0\" >&nbsp;</th>\n",
       "      <th id=\"T_1a591_level0_col0\" class=\"col_heading level0 col0\" ></th>\n",
       "      <th id=\"T_1a591_level0_col1\" class=\"col_heading level0 col1\" ></th>\n",
       "      <th id=\"T_1a591_level0_col2\" class=\"col_heading level0 col2\" ></th>\n",
       "      <th id=\"T_1a591_level0_col3\" class=\"col_heading level0 col3\" ></th>\n",
       "      <th id=\"T_1a591_level0_col4\" class=\"col_heading level0 col4\" ></th>\n",
       "      <th id=\"T_1a591_level0_col5\" class=\"col_heading level0 col5\" ></th>\n",
       "      <th id=\"T_1a591_level0_col6\" class=\"col_heading level0 col6\" ></th>\n",
       "      <th id=\"T_1a591_level0_col7\" class=\"col_heading level0 col7\" ></th>\n",
       "      <th id=\"T_1a591_level0_col8\" class=\"col_heading level0 col8\" ></th>\n",
       "      <th id=\"T_1a591_level0_col9\" class=\"col_heading level0 col9\" ></th>\n",
       "      <th id=\"T_1a591_level0_col10\" class=\"col_heading level0 col10\" ></th>\n",
       "      <th id=\"T_1a591_level0_col11\" class=\"col_heading level0 col11\" ></th>\n",
       "      <th id=\"T_1a591_level0_col12\" class=\"col_heading level0 col12\" ></th>\n",
       "      <th id=\"T_1a591_level0_col13\" class=\"col_heading level0 col13\" ></th>\n",
       "      <th id=\"T_1a591_level0_col14\" class=\"col_heading level0 col14\" ></th>\n",
       "      <th id=\"T_1a591_level0_col15\" class=\"col_heading level0 col15\" ></th>\n",
       "    </tr>\n",
       "  </thead>\n",
       "  <tbody>\n",
       "    <tr>\n",
       "      <th id=\"T_1a591_level0_row0\" class=\"row_heading level0 row0\" ></th>\n",
       "      <td id=\"T_1a591_row0_col0\" class=\"data row0 col0\" >あ</td>\n",
       "      <td id=\"T_1a591_row0_col1\" class=\"data row0 col1\" >1208</td>\n",
       "      <td id=\"T_1a591_row0_col2\" class=\"data row0 col2\" >ぐ</td>\n",
       "      <td id=\"T_1a591_row0_col3\" class=\"data row0 col3\" >1043</td>\n",
       "      <td id=\"T_1a591_row0_col4\" class=\"data row0 col4\" >ず</td>\n",
       "      <td id=\"T_1a591_row0_col5\" class=\"data row0 col5\" >1046</td>\n",
       "      <td id=\"T_1a591_row0_col6\" class=\"data row0 col6\" >づ</td>\n",
       "      <td id=\"T_1a591_row0_col7\" class=\"data row0 col7\" >1080</td>\n",
       "      <td id=\"T_1a591_row0_col8\" class=\"data row0 col8\" >は</td>\n",
       "      <td id=\"T_1a591_row0_col9\" class=\"data row0 col9\" >1247</td>\n",
       "      <td id=\"T_1a591_row0_col10\" class=\"data row0 col10\" >べ</td>\n",
       "      <td id=\"T_1a591_row0_col11\" class=\"data row0 col11\" >1109</td>\n",
       "      <td id=\"T_1a591_row0_col12\" class=\"data row0 col12\" >や</td>\n",
       "      <td id=\"T_1a591_row0_col13\" class=\"data row0 col13\" >1285</td>\n",
       "      <td id=\"T_1a591_row0_col14\" class=\"data row0 col14\" >ゑ</td>\n",
       "      <td id=\"T_1a591_row0_col15\" class=\"data row0 col15\" >1030</td>\n",
       "    </tr>\n",
       "    <tr>\n",
       "      <th id=\"T_1a591_level0_row1\" class=\"row_heading level0 row1\" ></th>\n",
       "      <td id=\"T_1a591_row1_col0\" class=\"data row1 col0\" >い</td>\n",
       "      <td id=\"T_1a591_row1_col1\" class=\"data row1 col1\" >1122</td>\n",
       "      <td id=\"T_1a591_row1_col2\" class=\"data row1 col2\" >け</td>\n",
       "      <td id=\"T_1a591_row1_col3\" class=\"data row1 col3\" >1155</td>\n",
       "      <td id=\"T_1a591_row1_col4\" class=\"data row1 col4\" >せ</td>\n",
       "      <td id=\"T_1a591_row1_col5\" class=\"data row1 col5\" >1165</td>\n",
       "      <td id=\"T_1a591_row1_col6\" class=\"data row1 col6\" >て</td>\n",
       "      <td id=\"T_1a591_row1_col7\" class=\"data row1 col7\" >1213</td>\n",
       "      <td id=\"T_1a591_row1_col8\" class=\"data row1 col8\" >ば</td>\n",
       "      <td id=\"T_1a591_row1_col9\" class=\"data row1 col9\" >1105</td>\n",
       "      <td id=\"T_1a591_row1_col10\" class=\"data row1 col10\" >ぺ</td>\n",
       "      <td id=\"T_1a591_row1_col11\" class=\"data row1 col11\" >268</td>\n",
       "      <td id=\"T_1a591_row1_col12\" class=\"data row1 col12\" >ゆ</td>\n",
       "      <td id=\"T_1a591_row1_col13\" class=\"data row1 col13\" >1282</td>\n",
       "      <td id=\"T_1a591_row1_col14\" class=\"data row1 col14\" >を</td>\n",
       "      <td id=\"T_1a591_row1_col15\" class=\"data row1 col15\" >1254</td>\n",
       "    </tr>\n",
       "    <tr>\n",
       "      <th id=\"T_1a591_level0_row2\" class=\"row_heading level0 row2\" ></th>\n",
       "      <td id=\"T_1a591_row2_col0\" class=\"data row2 col0\" >う</td>\n",
       "      <td id=\"T_1a591_row2_col1\" class=\"data row2 col1\" >1148</td>\n",
       "      <td id=\"T_1a591_row2_col2\" class=\"data row2 col2\" >げ</td>\n",
       "      <td id=\"T_1a591_row2_col3\" class=\"data row2 col3\" >1058</td>\n",
       "      <td id=\"T_1a591_row2_col4\" class=\"data row2 col4\" >ぜ</td>\n",
       "      <td id=\"T_1a591_row2_col5\" class=\"data row2 col5\" >1115</td>\n",
       "      <td id=\"T_1a591_row2_col6\" class=\"data row2 col6\" >で</td>\n",
       "      <td id=\"T_1a591_row2_col7\" class=\"data row2 col7\" >1178</td>\n",
       "      <td id=\"T_1a591_row2_col8\" class=\"data row2 col8\" >ぱ</td>\n",
       "      <td id=\"T_1a591_row2_col9\" class=\"data row2 col9\" >262</td>\n",
       "      <td id=\"T_1a591_row2_col10\" class=\"data row2 col10\" >ほ</td>\n",
       "      <td id=\"T_1a591_row2_col11\" class=\"data row2 col11\" >1115</td>\n",
       "      <td id=\"T_1a591_row2_col12\" class=\"data row2 col12\" >よ</td>\n",
       "      <td id=\"T_1a591_row2_col13\" class=\"data row2 col13\" >1166</td>\n",
       "      <td id=\"T_1a591_row2_col14\" class=\"data row2 col14\" >ん</td>\n",
       "      <td id=\"T_1a591_row2_col15\" class=\"data row2 col15\" >1285</td>\n",
       "    </tr>\n",
       "    <tr>\n",
       "      <th id=\"T_1a591_level0_row3\" class=\"row_heading level0 row3\" ></th>\n",
       "      <td id=\"T_1a591_row3_col0\" class=\"data row3 col0\" >え</td>\n",
       "      <td id=\"T_1a591_row3_col1\" class=\"data row3 col1\" >1077</td>\n",
       "      <td id=\"T_1a591_row3_col2\" class=\"data row3 col2\" >こ</td>\n",
       "      <td id=\"T_1a591_row3_col3\" class=\"data row3 col3\" >1115</td>\n",
       "      <td id=\"T_1a591_row3_col4\" class=\"data row3 col4\" >そ</td>\n",
       "      <td id=\"T_1a591_row3_col5\" class=\"data row3 col5\" >1285</td>\n",
       "      <td id=\"T_1a591_row3_col6\" class=\"data row3 col6\" >と</td>\n",
       "      <td id=\"T_1a591_row3_col7\" class=\"data row3 col7\" >1184</td>\n",
       "      <td id=\"T_1a591_row3_col8\" class=\"data row3 col8\" >ひ</td>\n",
       "      <td id=\"T_1a591_row3_col9\" class=\"data row3 col9\" >1074</td>\n",
       "      <td id=\"T_1a591_row3_col10\" class=\"data row3 col10\" >ぼ</td>\n",
       "      <td id=\"T_1a591_row3_col11\" class=\"data row3 col11\" >1044</td>\n",
       "      <td id=\"T_1a591_row3_col12\" class=\"data row3 col12\" >ら</td>\n",
       "      <td id=\"T_1a591_row3_col13\" class=\"data row3 col13\" >1114</td>\n",
       "      <td id=\"T_1a591_row3_col14\" class=\"data row3 col14\" ></td>\n",
       "      <td id=\"T_1a591_row3_col15\" class=\"data row3 col15\" ></td>\n",
       "    </tr>\n",
       "    <tr>\n",
       "      <th id=\"T_1a591_level0_row4\" class=\"row_heading level0 row4\" ></th>\n",
       "      <td id=\"T_1a591_row4_col0\" class=\"data row4 col0\" >お</td>\n",
       "      <td id=\"T_1a591_row4_col1\" class=\"data row4 col1\" >1283</td>\n",
       "      <td id=\"T_1a591_row4_col2\" class=\"data row4 col2\" >ご</td>\n",
       "      <td id=\"T_1a591_row4_col3\" class=\"data row4 col3\" >1078</td>\n",
       "      <td id=\"T_1a591_row4_col4\" class=\"data row4 col4\" >ぞ</td>\n",
       "      <td id=\"T_1a591_row4_col5\" class=\"data row4 col5\" >1066</td>\n",
       "      <td id=\"T_1a591_row4_col6\" class=\"data row4 col6\" >ど</td>\n",
       "      <td id=\"T_1a591_row4_col7\" class=\"data row4 col7\" >1134</td>\n",
       "      <td id=\"T_1a591_row4_col8\" class=\"data row4 col8\" >び</td>\n",
       "      <td id=\"T_1a591_row4_col9\" class=\"data row4 col9\" >1045</td>\n",
       "      <td id=\"T_1a591_row4_col10\" class=\"data row4 col10\" >ぽ</td>\n",
       "      <td id=\"T_1a591_row4_col11\" class=\"data row4 col11\" >261</td>\n",
       "      <td id=\"T_1a591_row4_col12\" class=\"data row4 col12\" >り</td>\n",
       "      <td id=\"T_1a591_row4_col13\" class=\"data row4 col13\" >1244</td>\n",
       "      <td id=\"T_1a591_row4_col14\" class=\"data row4 col14\" ></td>\n",
       "      <td id=\"T_1a591_row4_col15\" class=\"data row4 col15\" ></td>\n",
       "    </tr>\n",
       "    <tr>\n",
       "      <th id=\"T_1a591_level0_row5\" class=\"row_heading level0 row5\" ></th>\n",
       "      <td id=\"T_1a591_row5_col0\" class=\"data row5 col0\" >か</td>\n",
       "      <td id=\"T_1a591_row5_col1\" class=\"data row5 col1\" >1259</td>\n",
       "      <td id=\"T_1a591_row5_col2\" class=\"data row5 col2\" >さ</td>\n",
       "      <td id=\"T_1a591_row5_col3\" class=\"data row5 col3\" >1261</td>\n",
       "      <td id=\"T_1a591_row5_col4\" class=\"data row5 col4\" >た</td>\n",
       "      <td id=\"T_1a591_row5_col5\" class=\"data row5 col5\" >1285</td>\n",
       "      <td id=\"T_1a591_row5_col6\" class=\"data row5 col6\" >な</td>\n",
       "      <td id=\"T_1a591_row5_col7\" class=\"data row5 col7\" >1233</td>\n",
       "      <td id=\"T_1a591_row5_col8\" class=\"data row5 col8\" >ぴ</td>\n",
       "      <td id=\"T_1a591_row5_col9\" class=\"data row5 col9\" >126</td>\n",
       "      <td id=\"T_1a591_row5_col10\" class=\"data row5 col10\" >ま</td>\n",
       "      <td id=\"T_1a591_row5_col11\" class=\"data row5 col11\" >1285</td>\n",
       "      <td id=\"T_1a591_row5_col12\" class=\"data row5 col12\" >る</td>\n",
       "      <td id=\"T_1a591_row5_col13\" class=\"data row5 col13\" >1190</td>\n",
       "      <td id=\"T_1a591_row5_col14\" class=\"data row5 col14\" ></td>\n",
       "      <td id=\"T_1a591_row5_col15\" class=\"data row5 col15\" ></td>\n",
       "    </tr>\n",
       "    <tr>\n",
       "      <th id=\"T_1a591_level0_row6\" class=\"row_heading level0 row6\" ></th>\n",
       "      <td id=\"T_1a591_row6_col0\" class=\"data row6 col0\" >が</td>\n",
       "      <td id=\"T_1a591_row6_col1\" class=\"data row6 col1\" >1200</td>\n",
       "      <td id=\"T_1a591_row6_col2\" class=\"data row6 col2\" >ざ</td>\n",
       "      <td id=\"T_1a591_row6_col3\" class=\"data row6 col3\" >1070</td>\n",
       "      <td id=\"T_1a591_row6_col4\" class=\"data row6 col4\" >だ</td>\n",
       "      <td id=\"T_1a591_row6_col5\" class=\"data row6 col5\" >1116</td>\n",
       "      <td id=\"T_1a591_row6_col6\" class=\"data row6 col6\" >に</td>\n",
       "      <td id=\"T_1a591_row6_col7\" class=\"data row6 col7\" >1260</td>\n",
       "      <td id=\"T_1a591_row6_col8\" class=\"data row6 col8\" >ふ</td>\n",
       "      <td id=\"T_1a591_row6_col9\" class=\"data row6 col9\" >1285</td>\n",
       "      <td id=\"T_1a591_row6_col10\" class=\"data row6 col10\" >み</td>\n",
       "      <td id=\"T_1a591_row6_col11\" class=\"data row6 col11\" >1142</td>\n",
       "      <td id=\"T_1a591_row6_col12\" class=\"data row6 col12\" >れ</td>\n",
       "      <td id=\"T_1a591_row6_col13\" class=\"data row6 col13\" >1238</td>\n",
       "      <td id=\"T_1a591_row6_col14\" class=\"data row6 col14\" ></td>\n",
       "      <td id=\"T_1a591_row6_col15\" class=\"data row6 col15\" ></td>\n",
       "    </tr>\n",
       "    <tr>\n",
       "      <th id=\"T_1a591_level0_row7\" class=\"row_heading level0 row7\" ></th>\n",
       "      <td id=\"T_1a591_row7_col0\" class=\"data row7 col0\" >き</td>\n",
       "      <td id=\"T_1a591_row7_col1\" class=\"data row7 col1\" >1121</td>\n",
       "      <td id=\"T_1a591_row7_col2\" class=\"data row7 col2\" >し</td>\n",
       "      <td id=\"T_1a591_row7_col3\" class=\"data row7 col3\" >1285</td>\n",
       "      <td id=\"T_1a591_row7_col4\" class=\"data row7 col4\" >ち</td>\n",
       "      <td id=\"T_1a591_row7_col5\" class=\"data row7 col5\" >1052</td>\n",
       "      <td id=\"T_1a591_row7_col6\" class=\"data row7 col6\" >ぬ</td>\n",
       "      <td id=\"T_1a591_row7_col7\" class=\"data row7 col7\" >1093</td>\n",
       "      <td id=\"T_1a591_row7_col8\" class=\"data row7 col8\" >ぶ</td>\n",
       "      <td id=\"T_1a591_row7_col9\" class=\"data row7 col9\" >1149</td>\n",
       "      <td id=\"T_1a591_row7_col10\" class=\"data row7 col10\" >む</td>\n",
       "      <td id=\"T_1a591_row7_col11\" class=\"data row7 col11\" >1058</td>\n",
       "      <td id=\"T_1a591_row7_col12\" class=\"data row7 col12\" >ろ</td>\n",
       "      <td id=\"T_1a591_row7_col13\" class=\"data row7 col13\" >1069</td>\n",
       "      <td id=\"T_1a591_row7_col14\" class=\"data row7 col14\" ></td>\n",
       "      <td id=\"T_1a591_row7_col15\" class=\"data row7 col15\" ></td>\n",
       "    </tr>\n",
       "    <tr>\n",
       "      <th id=\"T_1a591_level0_row8\" class=\"row_heading level0 row8\" ></th>\n",
       "      <td id=\"T_1a591_row8_col0\" class=\"data row8 col0\" >ぎ</td>\n",
       "      <td id=\"T_1a591_row8_col1\" class=\"data row8 col1\" >1091</td>\n",
       "      <td id=\"T_1a591_row8_col2\" class=\"data row8 col2\" >じ</td>\n",
       "      <td id=\"T_1a591_row8_col3\" class=\"data row8 col3\" >1099</td>\n",
       "      <td id=\"T_1a591_row8_col4\" class=\"data row8 col4\" >ぢ</td>\n",
       "      <td id=\"T_1a591_row8_col5\" class=\"data row8 col5\" >1132</td>\n",
       "      <td id=\"T_1a591_row8_col6\" class=\"data row8 col6\" >ね</td>\n",
       "      <td id=\"T_1a591_row8_col7\" class=\"data row8 col7\" >1126</td>\n",
       "      <td id=\"T_1a591_row8_col8\" class=\"data row8 col8\" >ぷ</td>\n",
       "      <td id=\"T_1a591_row8_col9\" class=\"data row8 col9\" >112</td>\n",
       "      <td id=\"T_1a591_row8_col10\" class=\"data row8 col10\" >め</td>\n",
       "      <td id=\"T_1a591_row8_col11\" class=\"data row8 col11\" >1233</td>\n",
       "      <td id=\"T_1a591_row8_col12\" class=\"data row8 col12\" >わ</td>\n",
       "      <td id=\"T_1a591_row8_col13\" class=\"data row8 col13\" >1283</td>\n",
       "      <td id=\"T_1a591_row8_col14\" class=\"data row8 col14\" ></td>\n",
       "      <td id=\"T_1a591_row8_col15\" class=\"data row8 col15\" ></td>\n",
       "    </tr>\n",
       "    <tr>\n",
       "      <th id=\"T_1a591_level0_row9\" class=\"row_heading level0 row9\" ></th>\n",
       "      <td id=\"T_1a591_row9_col0\" class=\"data row9 col0\" >く</td>\n",
       "      <td id=\"T_1a591_row9_col1\" class=\"data row9 col1\" >1266</td>\n",
       "      <td id=\"T_1a591_row9_col2\" class=\"data row9 col2\" >す</td>\n",
       "      <td id=\"T_1a591_row9_col3\" class=\"data row9 col3\" >1282</td>\n",
       "      <td id=\"T_1a591_row9_col4\" class=\"data row9 col4\" >つ</td>\n",
       "      <td id=\"T_1a591_row9_col5\" class=\"data row9 col5\" >1142</td>\n",
       "      <td id=\"T_1a591_row9_col6\" class=\"data row9 col6\" >の</td>\n",
       "      <td id=\"T_1a591_row9_col7\" class=\"data row9 col7\" >1160</td>\n",
       "      <td id=\"T_1a591_row9_col8\" class=\"data row9 col8\" >へ</td>\n",
       "      <td id=\"T_1a591_row9_col9\" class=\"data row9 col9\" >1114</td>\n",
       "      <td id=\"T_1a591_row9_col10\" class=\"data row9 col10\" >も</td>\n",
       "      <td id=\"T_1a591_row9_col11\" class=\"data row9 col11\" >1187</td>\n",
       "      <td id=\"T_1a591_row9_col12\" class=\"data row9 col12\" >ゐ</td>\n",
       "      <td id=\"T_1a591_row9_col13\" class=\"data row9 col13\" >1053</td>\n",
       "      <td id=\"T_1a591_row9_col14\" class=\"data row9 col14\" ></td>\n",
       "      <td id=\"T_1a591_row9_col15\" class=\"data row9 col15\" ></td>\n",
       "    </tr>\n",
       "  </tbody>\n",
       "</table>\n"
      ],
      "text/plain": [
       "<pandas.io.formats.style.Styler at 0x17052fff9a0>"
      ]
     },
     "execution_count": 7,
     "metadata": {},
     "output_type": "execute_result"
    }
   ],
   "source": [
    "import numpy as np\n",
    "import pandas as pd\n",
    "from IPython import display\n",
    "\n",
    "chars = [chr(int(d.replace(\"U\", \"0x\"), 16)) for d in folders]\n",
    "dir_paths = [os.path.join(dirname, d) for d in folders]\n",
    "num_images = [len(os.listdir(d)) for d in dir_paths]\n",
    "\n",
    "df = pd.DataFrame([(c, n) for c, n in zip(chars, num_images)])\n",
    "sub_dfs = [df[i : i + 10].reset_index(drop=True) for i in range(0, len(df.index), 10)]\n",
    "df = pd.concat(sub_dfs, axis=1).fillna(\"\")\n",
    "\n",
    "df.index = [i for i in range(len(df.index))]\n",
    "df.columns = [j for j in range(len(df.columns))]\n",
    "\n",
    "\n",
    "def custom_style(df):\n",
    "    index = df.index\n",
    "    columns = df.columns\n",
    "    styles = []\n",
    "    for i in range(len(index)):\n",
    "        s = []\n",
    "        for j in range(len(columns)):\n",
    "            if columns[j] % 2 == 0:\n",
    "                s.append(\"font-weight: bold;\")\n",
    "            else:\n",
    "                s.append(None)\n",
    "        styles.append(s)\n",
    "\n",
    "    return np.array(styles, dtype=\"object\")\n",
    "\n",
    "\n",
    "df.style.format(precision=0).format_index(\"\", axis=1).format_index(\"\", axis=0).apply(\n",
    "    custom_style, axis=None\n",
    ")"
   ]
  },
  {
   "cell_type": "markdown",
   "metadata": {
    "editable": true,
    "slideshow": {
     "slide_type": ""
    },
    "tags": []
   },
   "source": [
    "このように、ひらがなについて、おおよそ1000程度の画像が含まれていることが確認できる。なお、半濁音のひらがなは全体的に少なめで100-200程度となっている。"
   ]
  },
  {
   "cell_type": "markdown",
   "metadata": {
    "editable": true,
    "slideshow": {
     "slide_type": ""
    },
    "tags": []
   },
   "source": [
    "### 分類用のデータ加工"
   ]
  },
  {
   "cell_type": "markdown",
   "metadata": {
    "editable": true,
    "slideshow": {
     "slide_type": ""
    },
    "tags": []
   },
   "source": [
    "MNISTでは手書き文字の画像が28x28=576次元ベクトル、ラベルが10種類の数字のいずれかを表わす0-9の数字であった。\n",
    "\n",
    "このようなデータ形式をひらがなデータセットに対しても作成しておく。なお、今回は分類の難易度を上げるため、**画像をランダムに回転したり、拡大縮小したりして、データのばらつきを大きくしておく**。また、今回のデータセットは画像が一度JPEGで圧縮されているようで、ブロックノイズを多く含むため、最初にバイラテラル・フィルタを書けてノイズを低減しておく。"
   ]
  },
  {
   "cell_type": "code",
   "execution_count": 8,
   "metadata": {
    "editable": true,
    "slideshow": {
     "slide_type": ""
    },
    "tags": []
   },
   "outputs": [],
   "source": [
    "# 文字への整数の割り当て\n",
    "n_chars = len(chars)\n",
    "char2num = {c: i for i, c in enumerate(chars)}"
   ]
  },
  {
   "cell_type": "code",
   "execution_count": 9,
   "metadata": {
    "editable": true,
    "slideshow": {
     "slide_type": ""
    },
    "tags": []
   },
   "outputs": [
    {
     "data": {
      "application/vnd.jupyter.widget-view+json": {
       "model_id": "8da8b203d784443fb052483eec34b7ed",
       "version_major": 2,
       "version_minor": 0
      },
      "text/plain": [
       "  0%|          | 0/80000 [00:00<?, ?it/s]"
      ]
     },
     "metadata": {},
     "output_type": "display_data"
    }
   ],
   "source": [
    "import cv2\n",
    "\n",
    "n_total = sum(num_images)\n",
    "pbar = tqdm(total=n_total)\n",
    "\n",
    "# 画像の読み取り\n",
    "X = []  # 画像データ\n",
    "y = []  # ラベルデータ\n",
    "for d in dir_paths:\n",
    "    # 文字に対する数字を計算\n",
    "    char = os.path.basename(d).replace(\"U\", \"0x\")\n",
    "    char = chr(int(char, 16))\n",
    "    num = char2num[char]\n",
    "    # 画像の読み込み\n",
    "    image_files = [os.path.join(d, f) for f in os.listdir(d)]\n",
    "    image_files = [f for f in image_files if f.endswith(\".png\")]\n",
    "    for f in image_files:\n",
    "        image = cv2.imread(f, cv2.IMREAD_COLOR)\n",
    "        if image is None:\n",
    "            raise IOError(\"Failed to load image: {:s}\".format(f))\n",
    "\n",
    "        image = cv2.cvtColor(image, cv2.COLOR_BGR2GRAY)\n",
    "\n",
    "        # データのランダム回転、ランダムスケール\n",
    "        height, width = image.shape\n",
    "        center = (width // 2, height // 2)\n",
    "        scale = np.random.uniform(0.8, 1.1)\n",
    "        angle = np.random.uniform(-90, 90)\n",
    "        trans = cv2.getRotationMatrix2D(center, angle, scale)\n",
    "        image = cv2.warpAffine(image, trans, (width, height), borderMode=cv2.BORDER_REPLICATE)\n",
    "        image = cv2.bilateralFilter(image, -1, 15.0, 5.0)\n",
    "\n",
    "        X.append(image.flatten())\n",
    "        y.append(num)\n",
    "\n",
    "        pbar.update(1)"
   ]
  },
  {
   "cell_type": "markdown",
   "metadata": {
    "editable": true,
    "slideshow": {
     "slide_type": ""
    },
    "tags": []
   },
   "source": [
    "読み込みが完了したら例のごとく訓練データとテストデータに分割しておく。今回は画像が80000枚あるので、60000枚を訓練画像、20000枚をテスト画像とする。"
   ]
  },
  {
   "cell_type": "code",
   "execution_count": 10,
   "metadata": {
    "editable": true,
    "slideshow": {
     "slide_type": ""
    },
    "tags": []
   },
   "outputs": [],
   "source": [
    "from sklearn import model_selection\n",
    "\n",
    "X, X_test, y, y_test = model_selection.train_test_split(\n",
    "    X, y, train_size=70000, test_size=10000, shuffle=True\n",
    ")\n",
    "\n",
    "X, X_val, y, y_val = model_selection.train_test_split(\n",
    "    X, y, train_size=60000, test_size=10000, shuffle=True\n",
    ")\n",
    "\n",
    "X, y = X[:n_samples], y[:n_samples]\n",
    "X_val, y_val = X_val[:n_samples], y_val[:n_samples]\n",
    "X_test, y_test = X_test[:n_samples], y_test[:n_samples]"
   ]
  },
  {
   "cell_type": "markdown",
   "metadata": {
    "editable": true,
    "slideshow": {
     "slide_type": ""
    },
    "tags": []
   },
   "source": [
    "データセットの先頭5枚の画像は次のようになっている。"
   ]
  },
  {
   "cell_type": "code",
   "execution_count": 11,
   "metadata": {
    "editable": true,
    "slideshow": {
     "slide_type": ""
    },
    "tags": []
   },
   "outputs": [
    {
     "data": {
      "image/png": "[encoded data removed]",
      "text/plain": [
       "<Figure size 640x480 with 5 Axes>"
      ]
     },
     "metadata": {},
     "output_type": "display_data"
    }
   ],
   "source": [
    "import matplotlib.pyplot as plt\n",
    "\n",
    "fig, axs = plt.subplots(1, 5)\n",
    "for i in range(5):\n",
    "    axs[i].imshow(X[i].reshape((48, 48)), cmap=\"gray\", vmin=0, vmax=255, interpolation=None)\n",
    "    axs[i].set_xticks([])\n",
    "    axs[i].set_yticks([])\n",
    "plt.show()"
   ]
  },
  {
   "cell_type": "markdown",
   "metadata": {
    "editable": true,
    "slideshow": {
     "slide_type": ""
    },
    "tags": []
   },
   "source": [
    "### 実験: SVMによる分類"
   ]
  },
  {
   "cell_type": "markdown",
   "metadata": {
    "editable": true,
    "slideshow": {
     "slide_type": ""
    },
    "tags": []
   },
   "source": [
    "まずは、MNISTの時と同様にscikit-learnによる分類を試してみる。この時、[scikit-learnの節](scikit-learn)で紹介したように、予め入力データを正規化しておく処理である`StandardScaler`を使用する。\n",
    "\n",
    "scikit-learnには`make_pipline`というメソッドが用意されており、このメソッドに入力データに対して行う処理を順に入れておくと、自動的に、それらを実行してくれる。今回はこれを利用する。"
   ]
  },
  {
   "cell_type": "code",
   "execution_count": 12,
   "metadata": {
    "editable": true,
    "slideshow": {
     "slide_type": ""
    },
    "tags": []
   },
   "outputs": [
    {
     "data": {
      "text/html": [
       "<style>#sk-container-id-1 {color: black;}#sk-container-id-1 pre{padding: 0;}#sk-container-id-1 div.sk-toggleable {background-color: white;}#sk-container-id-1 label.sk-toggleable__label {cursor: pointer;display: block;width: 100%;margin-bottom: 0;padding: 0.3em;box-sizing: border-box;text-align: center;}#sk-container-id-1 label.sk-toggleable__label-arrow:before {content: \"▸\";float: left;margin-right: 0.25em;color: #696969;}#sk-container-id-1 label.sk-toggleable__label-arrow:hover:before {color: black;}#sk-container-id-1 div.sk-estimator:hover label.sk-toggleable__label-arrow:before {color: black;}#sk-container-id-1 div.sk-toggleable__content {max-height: 0;max-width: 0;overflow: hidden;text-align: left;background-color: #f0f8ff;}#sk-container-id-1 div.sk-toggleable__content pre {margin: 0.2em;color: black;border-radius: 0.25em;background-color: #f0f8ff;}#sk-container-id-1 input.sk-toggleable__control:checked~div.sk-toggleable__content {max-height: 200px;max-width: 100%;overflow: auto;}#sk-container-id-1 input.sk-toggleable__control:checked~label.sk-toggleable__label-arrow:before {content: \"▾\";}#sk-container-id-1 div.sk-estimator input.sk-toggleable__control:checked~label.sk-toggleable__label {background-color: #d4ebff;}#sk-container-id-1 div.sk-label input.sk-toggleable__control:checked~label.sk-toggleable__label {background-color: #d4ebff;}#sk-container-id-1 input.sk-hidden--visually {border: 0;clip: rect(1px 1px 1px 1px);clip: rect(1px, 1px, 1px, 1px);height: 1px;margin: -1px;overflow: hidden;padding: 0;position: absolute;width: 1px;}#sk-container-id-1 div.sk-estimator {font-family: monospace;background-color: #f0f8ff;border: 1px dotted black;border-radius: 0.25em;box-sizing: border-box;margin-bottom: 0.5em;}#sk-container-id-1 div.sk-estimator:hover {background-color: #d4ebff;}#sk-container-id-1 div.sk-parallel-item::after {content: \"\";width: 100%;border-bottom: 1px solid gray;flex-grow: 1;}#sk-container-id-1 div.sk-label:hover label.sk-toggleable__label {background-color: #d4ebff;}#sk-container-id-1 div.sk-serial::before {content: \"\";position: absolute;border-left: 1px solid gray;box-sizing: border-box;top: 0;bottom: 0;left: 50%;z-index: 0;}#sk-container-id-1 div.sk-serial {display: flex;flex-direction: column;align-items: center;background-color: white;padding-right: 0.2em;padding-left: 0.2em;position: relative;}#sk-container-id-1 div.sk-item {position: relative;z-index: 1;}#sk-container-id-1 div.sk-parallel {display: flex;align-items: stretch;justify-content: center;background-color: white;position: relative;}#sk-container-id-1 div.sk-item::before, #sk-container-id-1 div.sk-parallel-item::before {content: \"\";position: absolute;border-left: 1px solid gray;box-sizing: border-box;top: 0;bottom: 0;left: 50%;z-index: -1;}#sk-container-id-1 div.sk-parallel-item {display: flex;flex-direction: column;z-index: 1;position: relative;background-color: white;}#sk-container-id-1 div.sk-parallel-item:first-child::after {align-self: flex-end;width: 50%;}#sk-container-id-1 div.sk-parallel-item:last-child::after {align-self: flex-start;width: 50%;}#sk-container-id-1 div.sk-parallel-item:only-child::after {width: 0;}#sk-container-id-1 div.sk-dashed-wrapped {border: 1px dashed gray;margin: 0 0.4em 0.5em 0.4em;box-sizing: border-box;padding-bottom: 0.4em;background-color: white;}#sk-container-id-1 div.sk-label label {font-family: monospace;font-weight: bold;display: inline-block;line-height: 1.2em;}#sk-container-id-1 div.sk-label-container {text-align: center;}#sk-container-id-1 div.sk-container {/* jupyter's `normalize.less` sets `[hidden] { display: none; }` but bootstrap.min.css set `[hidden] { display: none !important; }` so we also need the `!important` here to be able to override the default hidden behavior on the sphinx rendered scikit-learn.org. See: https://github.com/scikit-learn/scikit-learn/issues/21755 */display: inline-block !important;position: relative;}#sk-container-id-1 div.sk-text-repr-fallback {display: none;}</style><div id=\"sk-container-id-1\" class=\"sk-top-container\"><div class=\"sk-text-repr-fallback\"><pre>Pipeline(steps=[(&#x27;standardscaler&#x27;, StandardScaler()),\n",
       "                (&#x27;svc&#x27;, SVC(kernel=&#x27;poly&#x27;))])</pre><b>In a Jupyter environment, please rerun this cell to show the HTML representation or trust the notebook. <br />On GitHub, the HTML representation is unable to render, please try loading this page with nbviewer.org.</b></div><div class=\"sk-container\" hidden><div class=\"sk-item sk-dashed-wrapped\"><div class=\"sk-label-container\"><div class=\"sk-label sk-toggleable\"><input class=\"sk-toggleable__control sk-hidden--visually\" id=\"sk-estimator-id-1\" type=\"checkbox\" ><label for=\"sk-estimator-id-1\" class=\"sk-toggleable__label sk-toggleable__label-arrow\">Pipeline</label><div class=\"sk-toggleable__content\"><pre>Pipeline(steps=[(&#x27;standardscaler&#x27;, StandardScaler()),\n",
       "                (&#x27;svc&#x27;, SVC(kernel=&#x27;poly&#x27;))])</pre></div></div></div><div class=\"sk-serial\"><div class=\"sk-item\"><div class=\"sk-estimator sk-toggleable\"><input class=\"sk-toggleable__control sk-hidden--visually\" id=\"sk-estimator-id-2\" type=\"checkbox\" ><label for=\"sk-estimator-id-2\" class=\"sk-toggleable__label sk-toggleable__label-arrow\">StandardScaler</label><div class=\"sk-toggleable__content\"><pre>StandardScaler()</pre></div></div></div><div class=\"sk-item\"><div class=\"sk-estimator sk-toggleable\"><input class=\"sk-toggleable__control sk-hidden--visually\" id=\"sk-estimator-id-3\" type=\"checkbox\" ><label for=\"sk-estimator-id-3\" class=\"sk-toggleable__label sk-toggleable__label-arrow\">SVC</label><div class=\"sk-toggleable__content\"><pre>SVC(kernel=&#x27;poly&#x27;)</pre></div></div></div></div></div></div></div>"
      ],
      "text/plain": [
       "Pipeline(steps=[('standardscaler', StandardScaler()),\n",
       "                ('svc', SVC(kernel='poly'))])"
      ]
     },
     "execution_count": 12,
     "metadata": {},
     "output_type": "execute_result"
    }
   ],
   "source": [
    "from sklearn.svm import SVC\n",
    "from sklearn.pipeline import make_pipeline\n",
    "from sklearn.preprocessing import StandardScaler\n",
    "\n",
    "svc_params = {\n",
    "    \"kernel\": \"poly\",\n",
    "    \"tol\": 1.0e-3,\n",
    "    \"max_iter\": -1,\n",
    "}\n",
    "\n",
    "clf = make_pipeline(\n",
    "    StandardScaler(),\n",
    "    SVC(**svc_params),\n",
    ")\n",
    "\n",
    "clf.fit(X, y)"
   ]
  },
  {
   "cell_type": "code",
   "execution_count": 13,
   "metadata": {
    "editable": true,
    "slideshow": {
     "slide_type": ""
    },
    "tags": []
   },
   "outputs": [
    {
     "name": "stdout",
     "output_type": "stream",
     "text": [
      "Naive: acc(train)=42.45%\n"
     ]
    }
   ],
   "source": [
    "# 訓練時の識別精度の確認\n",
    "y_pred = clf.predict(X)\n",
    "acc_train = 100.0 * np.sum(y_pred == y) / len(y)\n",
    "print(\"Naive: acc(train)={:.2f}%\".format(acc_train))"
   ]
  },
  {
   "cell_type": "code",
   "execution_count": 14,
   "metadata": {
    "editable": true,
    "slideshow": {
     "slide_type": ""
    },
    "tags": []
   },
   "outputs": [
    {
     "name": "stdout",
     "output_type": "stream",
     "text": [
      "Naive: acc(test)=9.35%\n"
     ]
    }
   ],
   "source": [
    "# テストデータに対する識別精度の計算\n",
    "y_pred = clf.predict(X_test)\n",
    "acc_test = 100.0 * np.sum(y_pred == y_test) / len(y_test)\n",
    "print(\"Naive: acc(test)={:.2f}%\".format(acc_test))"
   ]
  },
  {
   "cell_type": "markdown",
   "metadata": {
    "editable": true,
    "slideshow": {
     "slide_type": ""
    },
    "tags": []
   },
   "source": [
    "このように、今回は分類問題の難易度が上がっており、SVMを用いても十分な精度が得られていないことが分かる。また、単に画像をベクトルとして扱うのは、計算効率の観点からも好ましいとは言いがたく、画像の大きさに依存しないように画像を特徴ベクトル化できることが好ましいと言える。"
   ]
  },
  {
   "cell_type": "markdown",
   "metadata": {
    "editable": true,
    "slideshow": {
     "slide_type": ""
    },
    "tags": []
   },
   "source": [
    "### 輝度によるヒストグラム化"
   ]
  },
  {
   "cell_type": "markdown",
   "metadata": {
    "editable": true,
    "slideshow": {
     "slide_type": ""
    },
    "tags": []
   },
   "source": [
    "まず、非常に単純なアイディアとして画像の輝度を基準としたヒストグラム化を考えてみる。今、画像は256階調の輝度で表わされているので、輝度のヒストグラムを作ることで、どれほど大きな画像であっても256次元のベクトルにすることができる。\n",
    "\n",
    "一例として、データセットの先頭の画像に対して、輝度ヒストグラムを計算した結果が以下である (分かりやすさのためにヒストグラムのbin数を32としてある)。"
   ]
  },
  {
   "cell_type": "code",
   "execution_count": 15,
   "metadata": {
    "editable": true,
    "slideshow": {
     "slide_type": ""
    },
    "tags": []
   },
   "outputs": [
    {
     "data": {
      "image/png": "[encoded data removed]",
      "text/plain": [
       "<Figure size 800x400 with 2 Axes>"
      ]
     },
     "metadata": {},
     "output_type": "display_data"
    }
   ],
   "source": [
    "import matplotlib.pyplot as plt\n",
    "from matplotlib.gridspec import GridSpec\n",
    "\n",
    "im = X[0].reshape((48, 48))\n",
    "\n",
    "fig = plt.figure(figsize=(8, 4))\n",
    "gs = GridSpec(1, 2, width_ratios=[1, 1], figure=fig)\n",
    "\n",
    "ax1 = plt.subplot(gs[0])\n",
    "ax2 = plt.subplot(gs[1])\n",
    "\n",
    "ax1.imshow(im, cmap=\"gray\", vmin=0, vmax=255, interpolation=None)\n",
    "ax1.set_xticks([])\n",
    "ax1.set_yticks([])\n",
    "ax1.set_title(\"Input image\")\n",
    "\n",
    "ax2.hist(im.flatten(), bins=32, density=True)\n",
    "ax2.set_title(\"Histogram of image intensities\")\n",
    "\n",
    "plt.tight_layout()\n",
    "plt.show()"
   ]
  },
  {
   "cell_type": "markdown",
   "metadata": {
    "editable": true,
    "slideshow": {
     "slide_type": ""
    },
    "tags": []
   },
   "source": [
    "このヒストグラムを画像全体に対する特徴ベクトルとみなし、SVMによる文字分類を試してみる。"
   ]
  },
  {
   "cell_type": "code",
   "execution_count": 16,
   "metadata": {
    "editable": true,
    "slideshow": {
     "slide_type": ""
    },
    "tags": []
   },
   "outputs": [
    {
     "data": {
      "application/vnd.jupyter.widget-view+json": {
       "model_id": "a50694257b0e4c0b919946f0beaa2eb5",
       "version_major": 2,
       "version_minor": 0
      },
      "text/plain": [
       "  0%|          | 0/2000 [00:00<?, ?it/s]"
      ]
     },
     "metadata": {},
     "output_type": "display_data"
    }
   ],
   "source": [
    "H = []\n",
    "for x in tqdm(X):\n",
    "    h = np.histogram(x, bins=255, density=True)\n",
    "    H.append(h[0])"
   ]
  },
  {
   "cell_type": "code",
   "execution_count": 17,
   "metadata": {
    "editable": true,
    "slideshow": {
     "slide_type": ""
    },
    "tags": []
   },
   "outputs": [
    {
     "data": {
      "text/html": [
       "<style>#sk-container-id-2 {color: black;}#sk-container-id-2 pre{padding: 0;}#sk-container-id-2 div.sk-toggleable {background-color: white;}#sk-container-id-2 label.sk-toggleable__label {cursor: pointer;display: block;width: 100%;margin-bottom: 0;padding: 0.3em;box-sizing: border-box;text-align: center;}#sk-container-id-2 label.sk-toggleable__label-arrow:before {content: \"▸\";float: left;margin-right: 0.25em;color: #696969;}#sk-container-id-2 label.sk-toggleable__label-arrow:hover:before {color: black;}#sk-container-id-2 div.sk-estimator:hover label.sk-toggleable__label-arrow:before {color: black;}#sk-container-id-2 div.sk-toggleable__content {max-height: 0;max-width: 0;overflow: hidden;text-align: left;background-color: #f0f8ff;}#sk-container-id-2 div.sk-toggleable__content pre {margin: 0.2em;color: black;border-radius: 0.25em;background-color: #f0f8ff;}#sk-container-id-2 input.sk-toggleable__control:checked~div.sk-toggleable__content {max-height: 200px;max-width: 100%;overflow: auto;}#sk-container-id-2 input.sk-toggleable__control:checked~label.sk-toggleable__label-arrow:before {content: \"▾\";}#sk-container-id-2 div.sk-estimator input.sk-toggleable__control:checked~label.sk-toggleable__label {background-color: #d4ebff;}#sk-container-id-2 div.sk-label input.sk-toggleable__control:checked~label.sk-toggleable__label {background-color: #d4ebff;}#sk-container-id-2 input.sk-hidden--visually {border: 0;clip: rect(1px 1px 1px 1px);clip: rect(1px, 1px, 1px, 1px);height: 1px;margin: -1px;overflow: hidden;padding: 0;position: absolute;width: 1px;}#sk-container-id-2 div.sk-estimator {font-family: monospace;background-color: #f0f8ff;border: 1px dotted black;border-radius: 0.25em;box-sizing: border-box;margin-bottom: 0.5em;}#sk-container-id-2 div.sk-estimator:hover {background-color: #d4ebff;}#sk-container-id-2 div.sk-parallel-item::after {content: \"\";width: 100%;border-bottom: 1px solid gray;flex-grow: 1;}#sk-container-id-2 div.sk-label:hover label.sk-toggleable__label {background-color: #d4ebff;}#sk-container-id-2 div.sk-serial::before {content: \"\";position: absolute;border-left: 1px solid gray;box-sizing: border-box;top: 0;bottom: 0;left: 50%;z-index: 0;}#sk-container-id-2 div.sk-serial {display: flex;flex-direction: column;align-items: center;background-color: white;padding-right: 0.2em;padding-left: 0.2em;position: relative;}#sk-container-id-2 div.sk-item {position: relative;z-index: 1;}#sk-container-id-2 div.sk-parallel {display: flex;align-items: stretch;justify-content: center;background-color: white;position: relative;}#sk-container-id-2 div.sk-item::before, #sk-container-id-2 div.sk-parallel-item::before {content: \"\";position: absolute;border-left: 1px solid gray;box-sizing: border-box;top: 0;bottom: 0;left: 50%;z-index: -1;}#sk-container-id-2 div.sk-parallel-item {display: flex;flex-direction: column;z-index: 1;position: relative;background-color: white;}#sk-container-id-2 div.sk-parallel-item:first-child::after {align-self: flex-end;width: 50%;}#sk-container-id-2 div.sk-parallel-item:last-child::after {align-self: flex-start;width: 50%;}#sk-container-id-2 div.sk-parallel-item:only-child::after {width: 0;}#sk-container-id-2 div.sk-dashed-wrapped {border: 1px dashed gray;margin: 0 0.4em 0.5em 0.4em;box-sizing: border-box;padding-bottom: 0.4em;background-color: white;}#sk-container-id-2 div.sk-label label {font-family: monospace;font-weight: bold;display: inline-block;line-height: 1.2em;}#sk-container-id-2 div.sk-label-container {text-align: center;}#sk-container-id-2 div.sk-container {/* jupyter's `normalize.less` sets `[hidden] { display: none; }` but bootstrap.min.css set `[hidden] { display: none !important; }` so we also need the `!important` here to be able to override the default hidden behavior on the sphinx rendered scikit-learn.org. See: https://github.com/scikit-learn/scikit-learn/issues/21755 */display: inline-block !important;position: relative;}#sk-container-id-2 div.sk-text-repr-fallback {display: none;}</style><div id=\"sk-container-id-2\" class=\"sk-top-container\"><div class=\"sk-text-repr-fallback\"><pre>Pipeline(steps=[(&#x27;standardscaler&#x27;, StandardScaler()),\n",
       "                (&#x27;svc&#x27;, SVC(kernel=&#x27;poly&#x27;))])</pre><b>In a Jupyter environment, please rerun this cell to show the HTML representation or trust the notebook. <br />On GitHub, the HTML representation is unable to render, please try loading this page with nbviewer.org.</b></div><div class=\"sk-container\" hidden><div class=\"sk-item sk-dashed-wrapped\"><div class=\"sk-label-container\"><div class=\"sk-label sk-toggleable\"><input class=\"sk-toggleable__control sk-hidden--visually\" id=\"sk-estimator-id-4\" type=\"checkbox\" ><label for=\"sk-estimator-id-4\" class=\"sk-toggleable__label sk-toggleable__label-arrow\">Pipeline</label><div class=\"sk-toggleable__content\"><pre>Pipeline(steps=[(&#x27;standardscaler&#x27;, StandardScaler()),\n",
       "                (&#x27;svc&#x27;, SVC(kernel=&#x27;poly&#x27;))])</pre></div></div></div><div class=\"sk-serial\"><div class=\"sk-item\"><div class=\"sk-estimator sk-toggleable\"><input class=\"sk-toggleable__control sk-hidden--visually\" id=\"sk-estimator-id-5\" type=\"checkbox\" ><label for=\"sk-estimator-id-5\" class=\"sk-toggleable__label sk-toggleable__label-arrow\">StandardScaler</label><div class=\"sk-toggleable__content\"><pre>StandardScaler()</pre></div></div></div><div class=\"sk-item\"><div class=\"sk-estimator sk-toggleable\"><input class=\"sk-toggleable__control sk-hidden--visually\" id=\"sk-estimator-id-6\" type=\"checkbox\" ><label for=\"sk-estimator-id-6\" class=\"sk-toggleable__label sk-toggleable__label-arrow\">SVC</label><div class=\"sk-toggleable__content\"><pre>SVC(kernel=&#x27;poly&#x27;)</pre></div></div></div></div></div></div></div>"
      ],
      "text/plain": [
       "Pipeline(steps=[('standardscaler', StandardScaler()),\n",
       "                ('svc', SVC(kernel='poly'))])"
      ]
     },
     "execution_count": 17,
     "metadata": {},
     "output_type": "execute_result"
    }
   ],
   "source": [
    "clf2 = make_pipeline(\n",
    "    StandardScaler(),\n",
    "    SVC(**svc_params),\n",
    ")\n",
    "clf2.fit(H, y)"
   ]
  },
  {
   "cell_type": "code",
   "execution_count": 18,
   "metadata": {
    "editable": true,
    "slideshow": {
     "slide_type": ""
    },
    "tags": []
   },
   "outputs": [
    {
     "name": "stdout",
     "output_type": "stream",
     "text": [
      "Histogram: acc(train)=27.45%\n"
     ]
    }
   ],
   "source": [
    "# 訓練時の識別精度の確認\n",
    "y_pred = clf2.predict(H)\n",
    "acc_train = 100.0 * np.sum(y_pred == y) / len(y)\n",
    "print(\"Histogram: acc(train)={:.2f}%\".format(acc_train))"
   ]
  },
  {
   "cell_type": "code",
   "execution_count": 19,
   "metadata": {
    "editable": true,
    "slideshow": {
     "slide_type": ""
    },
    "tags": []
   },
   "outputs": [
    {
     "data": {
      "application/vnd.jupyter.widget-view+json": {
       "model_id": "2d51319e69cd406f9bd4ce4fd907a8b3",
       "version_major": 2,
       "version_minor": 0
      },
      "text/plain": [
       "  0%|          | 0/2000 [00:00<?, ?it/s]"
      ]
     },
     "metadata": {},
     "output_type": "display_data"
    }
   ],
   "source": [
    "H_test = []\n",
    "for x in tqdm(X_test):\n",
    "    h = np.histogram(x, bins=255, density=True)\n",
    "    H_test.append(h[0])"
   ]
  },
  {
   "cell_type": "code",
   "execution_count": 20,
   "metadata": {
    "editable": true,
    "slideshow": {
     "slide_type": ""
    },
    "tags": []
   },
   "outputs": [
    {
     "name": "stdout",
     "output_type": "stream",
     "text": [
      "Histogram: acc(test)=1.50%\n"
     ]
    }
   ],
   "source": [
    "# テストデータに対する識別精度の計算\n",
    "y_pred = clf2.predict(H_test)\n",
    "acc_test = 100.0 * np.sum(y_pred == y_test) / len(y_test)\n",
    "print(\"Histogram: acc(test)={:.2f}%\".format(acc_test))"
   ]
  },
  {
   "cell_type": "markdown",
   "metadata": {
    "editable": true,
    "slideshow": {
     "slide_type": ""
    },
    "tags": []
   },
   "source": [
    "しかし、実際に試してみると上記のように満足な精度が得られるには至っていない。これは、ほとんどの画像がほぼ同じ割合の白と黒の領域でできていて、それをヒストグラム化してしまうと、文字の分類が難しくなるためである。\n",
    "\n",
    "また、輝度のヒストグラムは写真を写した時の周囲の明るさなどにも影響を受けるため、たとえ写真に写っている物が同じであったとしても、周囲の環境によって、ヒストグラムが変化してしまうなど、一貫性に乏しい。\n",
    "\n",
    "従って、もう少し気の利いた方法を考える必要がある。"
   ]
  },
  {
   "cell_type": "markdown",
   "metadata": {
    "editable": true,
    "slideshow": {
     "slide_type": ""
    },
    "tags": []
   },
   "source": [
    "### Local Binary Pattern"
   ]
  },
  {
   "cell_type": "markdown",
   "metadata": {
    "editable": true,
    "slideshow": {
     "slide_type": ""
    },
    "tags": []
   },
   "source": [
    "Local Binary Pattern (LBP)は、とある画素を中心とした3x3の領域について、中心画素と周りの画素の輝度の大小を数値化する手法である {cite}`ojala1996comparative`。\n",
    "\n",
    "一例として、とある中心画素周辺の画素値が以下のようになっている場合を考えよう。"
   ]
  },
  {
   "cell_type": "code",
   "execution_count": 21,
   "metadata": {
    "editable": true,
    "slideshow": {
     "slide_type": ""
    },
    "tags": []
   },
   "outputs": [],
   "source": [
    "def draw_frame(problem, fig, ax):\n",
    "    mask = (problem == 0).astype(\"float32\")\n",
    "    frame = []\n",
    "    ax.set_xticks(np.arange(0, 9))\n",
    "    ax.set_yticks(np.arange(0, 9))\n",
    "    ax.set_xticklabels(np.arange(1, 10))\n",
    "    ax.set_yticklabels(np.arange(1, 10))\n",
    "\n",
    "    ax.set_xticks(np.arange(1, 10) - 0.5, minor=True)\n",
    "    ax.set_yticks(np.arange(1, 10) - 0.5, minor=True)\n",
    "    ax.set_xticks(np.arange(3, 10, 3) - 0.5)\n",
    "    ax.set_yticks(np.arange(3, 10, 3) - 0.5)\n",
    "\n",
    "    ims = plt.imshow(mask * 0.2, cmap=\"Blues\", vmin=0.0, vmax=1.0)\n",
    "    frame.append(ims)\n",
    "    for (i, j), z in np.ndenumerate(problem):\n",
    "        txt = ax.text(j, i, \"{:d}\".format(z), ha=\"center\", va=\"center\", color=\"k\", fontsize=15)\n",
    "        frame.append(txt)\n",
    "\n",
    "    ax.grid(which=\"minor\", color=\"k\", linestyle=\"-\", linewidth=0.5)\n",
    "    ax.grid(which=\"major\", color=\"k\", linestyle=\"-\", linewidth=1.0)"
   ]
  },
  {
   "cell_type": "code",
   "execution_count": 22,
   "metadata": {
    "editable": true,
    "slideshow": {
     "slide_type": ""
    },
    "tags": []
   },
   "outputs": [
    {
     "data": {
      "image/png": "[encoded data removed]",
      "text/plain": [
       "<Figure size 300x300 with 1 Axes>"
      ]
     },
     "metadata": {},
     "output_type": "display_data"
    }
   ],
   "source": [
    "m = np.random.randint(0, 256, size=(3, 3))\n",
    "fig, ax = plt.subplots(figsize=(3, 3))\n",
    "draw_frame(m, fig, ax)"
   ]
  },
  {
   "cell_type": "markdown",
   "metadata": {
    "editable": true,
    "slideshow": {
     "slide_type": ""
    },
    "tags": []
   },
   "source": [
    "このとき、中心画素と周囲の8画素の大小を見比べて、大きいものを1, 小さいものを0に置き換える。"
   ]
  },
  {
   "cell_type": "code",
   "execution_count": 23,
   "metadata": {
    "editable": true,
    "slideshow": {
     "slide_type": ""
    },
    "tags": []
   },
   "outputs": [
    {
     "data": {
      "image/png": "[encoded data removed]",
      "text/plain": [
       "<Figure size 300x300 with 1 Axes>"
      ]
     },
     "metadata": {},
     "output_type": "display_data"
    }
   ],
   "source": [
    "c = m[1, 1]\n",
    "b = (m > c).astype(\"int32\")\n",
    "fig, ax = plt.subplots(figsize=(3, 3))\n",
    "draw_frame(b, fig, ax)"
   ]
  },
  {
   "cell_type": "markdown",
   "metadata": {
    "editable": true,
    "slideshow": {
     "slide_type": ""
    },
    "tags": []
   },
   "source": [
    "この周囲の8画素に割り当てられた0, 1のパターンが8ビットの符号なし整数であると考えて数値を求める。このとき、以下のような時計回りに2のべき乗が並んだ画像を用いると良い。"
   ]
  },
  {
   "cell_type": "code",
   "execution_count": 24,
   "metadata": {
    "editable": true,
    "slideshow": {
     "slide_type": ""
    },
    "tags": []
   },
   "outputs": [
    {
     "data": {
      "image/png": "[encoded data removed]",
      "text/plain": [
       "<Figure size 300x300 with 1 Axes>"
      ]
     },
     "metadata": {},
     "output_type": "display_data"
    }
   ],
   "source": [
    "p = 2 ** np.array([[6, 7, 0], [5, 0, 1], [4, 3, 2]])\n",
    "\n",
    "fig, ax = plt.subplots(figsize=(3, 3))\n",
    "draw_frame(p, fig, ax)"
   ]
  },
  {
   "cell_type": "code",
   "execution_count": 25,
   "metadata": {
    "editable": true,
    "slideshow": {
     "slide_type": ""
    },
    "tags": [
     "remove-input"
    ]
   },
   "outputs": [
    {
     "data": {
      "text/markdown": [
       "すると、上記の3x3の領域に対しては、LBPの値として**223**が求まる"
      ],
      "text/plain": [
       "<IPython.core.display.Markdown object>"
      ]
     },
     "execution_count": 25,
     "metadata": {},
     "output_type": "execute_result"
    }
   ],
   "source": [
    "from IPython.display import Markdown\n",
    "\n",
    "Markdown(f\"すると、上記の3x3の領域に対しては、LBPの値として**{np.sum(b * p):d}**が求まる\")"
   ]
  },
  {
   "cell_type": "code",
   "execution_count": 26,
   "metadata": {
    "editable": true,
    "slideshow": {
     "slide_type": ""
    },
    "tags": []
   },
   "outputs": [
    {
     "name": "stdout",
     "output_type": "stream",
     "text": [
      "LBP=223\n"
     ]
    }
   ],
   "source": [
    "lbp = np.sum(b * p)\n",
    "print(\"LBP={:d}\".format(lbp))"
   ]
  },
  {
   "cell_type": "markdown",
   "metadata": {
    "editable": true,
    "slideshow": {
     "slide_type": ""
    },
    "tags": []
   },
   "source": [
    "この計算を先ほどと同様にデータセットの先頭画像の各画素に対して計算すると、その結果と、LBP値のヒストグラムは以下のようになる。"
   ]
  },
  {
   "cell_type": "code",
   "execution_count": 27,
   "metadata": {
    "editable": true,
    "slideshow": {
     "slide_type": ""
    },
    "tags": [
     "hide-input"
    ]
   },
   "outputs": [],
   "source": [
    "im = X[0].reshape((48, 48))\n",
    "\n",
    "lbp = np.zeros_like(im).astype(\"uint8\")\n",
    "for j in range(1, im.shape[0] - 1):\n",
    "    for i in range(1, im.shape[1] - 1):\n",
    "        c = im[i, j]\n",
    "        m = im[i - 1 : i + 2, j - 1 : j + 2]\n",
    "        b = (m > c).astype(\"int32\")\n",
    "        lbp[i, j] = np.sum(p * b)\n",
    "\n",
    "# 輪郭の画素では計算できないので、輪郭を除いておく\n",
    "lbp = lbp[1:-1, 1:-1]"
   ]
  },
  {
   "cell_type": "code",
   "execution_count": 28,
   "metadata": {
    "editable": true,
    "slideshow": {
     "slide_type": ""
    },
    "tags": [
     "hide-input"
    ]
   },
   "outputs": [
    {
     "data": {
      "image/png": "[encoded data removed]",
      "text/plain": [
       "<Figure size 800x400 with 2 Axes>"
      ]
     },
     "metadata": {},
     "output_type": "display_data"
    }
   ],
   "source": [
    "fig = plt.figure(figsize=(8, 4))\n",
    "gs = GridSpec(1, 2, width_ratios=[1, 1], figure=fig)\n",
    "\n",
    "ax1 = plt.subplot(gs[0])\n",
    "ax2 = plt.subplot(gs[1])\n",
    "\n",
    "ax1.imshow(lbp, cmap=\"gray\", vmin=0, vmax=255, interpolation=None)\n",
    "ax1.set_xticks([])\n",
    "ax1.set_yticks([])\n",
    "ax1.set_title(\"LBP image\")\n",
    "\n",
    "ax2.hist(lbp.flatten(), bins=32, density=True)\n",
    "ax2.set_title(\"Histogram of LBP values\")\n",
    "\n",
    "plt.tight_layout()\n",
    "plt.show()"
   ]
  },
  {
   "cell_type": "markdown",
   "metadata": {
    "editable": true,
    "slideshow": {
     "slide_type": ""
    },
    "tags": []
   },
   "source": [
    "LBPを用いることの利点は画像の相対的な輝度だけを見ている点にあり、仮に画像の輝度が2倍になったりしても求まるLBPの値は全く変化しない。そのため、同じ対象を異なる光源下で計算した場合などに一貫した特徴を得られる。"
   ]
  },
  {
   "cell_type": "code",
   "execution_count": 29,
   "metadata": {
    "editable": true,
    "slideshow": {
     "slide_type": ""
    },
    "tags": []
   },
   "outputs": [
    {
     "data": {
      "application/vnd.jupyter.widget-view+json": {
       "model_id": "6ca8a0746244468aac9259f213a37d00",
       "version_major": 2,
       "version_minor": 0
      },
      "text/plain": [
       "  0%|          | 0/2000 [00:00<?, ?it/s]"
      ]
     },
     "metadata": {},
     "output_type": "display_data"
    }
   ],
   "source": [
    "from sklearn.feature_extraction.image import extract_patches_2d\n",
    "\n",
    "\n",
    "def calc_lbp(x):\n",
    "    pat = (2 ** np.array([[0, 1, 2], [7, 0, 3], [6, 5, 4]])).astype(\"int32\")\n",
    "\n",
    "    patches = extract_patches_2d(x, (3, 3))\n",
    "    centers = patches[:, 1, 1].reshape((-1, 1, 1))\n",
    "    binary = (patches > centers).astype(\"int32\")\n",
    "\n",
    "    return np.sum(binary * pat.reshape((1, 3, 3)), axis=(1, 2))\n",
    "\n",
    "\n",
    "def calc_lbp_hist(x):\n",
    "    lbp = calc_lbp(x)\n",
    "    return np.histogram(lbp, bins=255, density=True)[0]\n",
    "\n",
    "\n",
    "L = [calc_lbp_hist(x.reshape((48, 48))) for x in tqdm(X)]"
   ]
  },
  {
   "cell_type": "code",
   "execution_count": 30,
   "metadata": {
    "editable": true,
    "slideshow": {
     "slide_type": ""
    },
    "tags": []
   },
   "outputs": [
    {
     "data": {
      "text/html": [
       "<style>#sk-container-id-3 {color: black;}#sk-container-id-3 pre{padding: 0;}#sk-container-id-3 div.sk-toggleable {background-color: white;}#sk-container-id-3 label.sk-toggleable__label {cursor: pointer;display: block;width: 100%;margin-bottom: 0;padding: 0.3em;box-sizing: border-box;text-align: center;}#sk-container-id-3 label.sk-toggleable__label-arrow:before {content: \"▸\";float: left;margin-right: 0.25em;color: #696969;}#sk-container-id-3 label.sk-toggleable__label-arrow:hover:before {color: black;}#sk-container-id-3 div.sk-estimator:hover label.sk-toggleable__label-arrow:before {color: black;}#sk-container-id-3 div.sk-toggleable__content {max-height: 0;max-width: 0;overflow: hidden;text-align: left;background-color: #f0f8ff;}#sk-container-id-3 div.sk-toggleable__content pre {margin: 0.2em;color: black;border-radius: 0.25em;background-color: #f0f8ff;}#sk-container-id-3 input.sk-toggleable__control:checked~div.sk-toggleable__content {max-height: 200px;max-width: 100%;overflow: auto;}#sk-container-id-3 input.sk-toggleable__control:checked~label.sk-toggleable__label-arrow:before {content: \"▾\";}#sk-container-id-3 div.sk-estimator input.sk-toggleable__control:checked~label.sk-toggleable__label {background-color: #d4ebff;}#sk-container-id-3 div.sk-label input.sk-toggleable__control:checked~label.sk-toggleable__label {background-color: #d4ebff;}#sk-container-id-3 input.sk-hidden--visually {border: 0;clip: rect(1px 1px 1px 1px);clip: rect(1px, 1px, 1px, 1px);height: 1px;margin: -1px;overflow: hidden;padding: 0;position: absolute;width: 1px;}#sk-container-id-3 div.sk-estimator {font-family: monospace;background-color: #f0f8ff;border: 1px dotted black;border-radius: 0.25em;box-sizing: border-box;margin-bottom: 0.5em;}#sk-container-id-3 div.sk-estimator:hover {background-color: #d4ebff;}#sk-container-id-3 div.sk-parallel-item::after {content: \"\";width: 100%;border-bottom: 1px solid gray;flex-grow: 1;}#sk-container-id-3 div.sk-label:hover label.sk-toggleable__label {background-color: #d4ebff;}#sk-container-id-3 div.sk-serial::before {content: \"\";position: absolute;border-left: 1px solid gray;box-sizing: border-box;top: 0;bottom: 0;left: 50%;z-index: 0;}#sk-container-id-3 div.sk-serial {display: flex;flex-direction: column;align-items: center;background-color: white;padding-right: 0.2em;padding-left: 0.2em;position: relative;}#sk-container-id-3 div.sk-item {position: relative;z-index: 1;}#sk-container-id-3 div.sk-parallel {display: flex;align-items: stretch;justify-content: center;background-color: white;position: relative;}#sk-container-id-3 div.sk-item::before, #sk-container-id-3 div.sk-parallel-item::before {content: \"\";position: absolute;border-left: 1px solid gray;box-sizing: border-box;top: 0;bottom: 0;left: 50%;z-index: -1;}#sk-container-id-3 div.sk-parallel-item {display: flex;flex-direction: column;z-index: 1;position: relative;background-color: white;}#sk-container-id-3 div.sk-parallel-item:first-child::after {align-self: flex-end;width: 50%;}#sk-container-id-3 div.sk-parallel-item:last-child::after {align-self: flex-start;width: 50%;}#sk-container-id-3 div.sk-parallel-item:only-child::after {width: 0;}#sk-container-id-3 div.sk-dashed-wrapped {border: 1px dashed gray;margin: 0 0.4em 0.5em 0.4em;box-sizing: border-box;padding-bottom: 0.4em;background-color: white;}#sk-container-id-3 div.sk-label label {font-family: monospace;font-weight: bold;display: inline-block;line-height: 1.2em;}#sk-container-id-3 div.sk-label-container {text-align: center;}#sk-container-id-3 div.sk-container {/* jupyter's `normalize.less` sets `[hidden] { display: none; }` but bootstrap.min.css set `[hidden] { display: none !important; }` so we also need the `!important` here to be able to override the default hidden behavior on the sphinx rendered scikit-learn.org. See: https://github.com/scikit-learn/scikit-learn/issues/21755 */display: inline-block !important;position: relative;}#sk-container-id-3 div.sk-text-repr-fallback {display: none;}</style><div id=\"sk-container-id-3\" class=\"sk-top-container\"><div class=\"sk-text-repr-fallback\"><pre>Pipeline(steps=[(&#x27;standardscaler&#x27;, StandardScaler()),\n",
       "                (&#x27;svc&#x27;, SVC(kernel=&#x27;poly&#x27;))])</pre><b>In a Jupyter environment, please rerun this cell to show the HTML representation or trust the notebook. <br />On GitHub, the HTML representation is unable to render, please try loading this page with nbviewer.org.</b></div><div class=\"sk-container\" hidden><div class=\"sk-item sk-dashed-wrapped\"><div class=\"sk-label-container\"><div class=\"sk-label sk-toggleable\"><input class=\"sk-toggleable__control sk-hidden--visually\" id=\"sk-estimator-id-7\" type=\"checkbox\" ><label for=\"sk-estimator-id-7\" class=\"sk-toggleable__label sk-toggleable__label-arrow\">Pipeline</label><div class=\"sk-toggleable__content\"><pre>Pipeline(steps=[(&#x27;standardscaler&#x27;, StandardScaler()),\n",
       "                (&#x27;svc&#x27;, SVC(kernel=&#x27;poly&#x27;))])</pre></div></div></div><div class=\"sk-serial\"><div class=\"sk-item\"><div class=\"sk-estimator sk-toggleable\"><input class=\"sk-toggleable__control sk-hidden--visually\" id=\"sk-estimator-id-8\" type=\"checkbox\" ><label for=\"sk-estimator-id-8\" class=\"sk-toggleable__label sk-toggleable__label-arrow\">StandardScaler</label><div class=\"sk-toggleable__content\"><pre>StandardScaler()</pre></div></div></div><div class=\"sk-item\"><div class=\"sk-estimator sk-toggleable\"><input class=\"sk-toggleable__control sk-hidden--visually\" id=\"sk-estimator-id-9\" type=\"checkbox\" ><label for=\"sk-estimator-id-9\" class=\"sk-toggleable__label sk-toggleable__label-arrow\">SVC</label><div class=\"sk-toggleable__content\"><pre>SVC(kernel=&#x27;poly&#x27;)</pre></div></div></div></div></div></div></div>"
      ],
      "text/plain": [
       "Pipeline(steps=[('standardscaler', StandardScaler()),\n",
       "                ('svc', SVC(kernel='poly'))])"
      ]
     },
     "execution_count": 30,
     "metadata": {},
     "output_type": "execute_result"
    }
   ],
   "source": [
    "clf3 = make_pipeline(\n",
    "    StandardScaler(),\n",
    "    SVC(**svc_params),\n",
    ")\n",
    "clf3.fit(L, y)"
   ]
  },
  {
   "cell_type": "code",
   "execution_count": 31,
   "metadata": {
    "editable": true,
    "slideshow": {
     "slide_type": ""
    },
    "tags": []
   },
   "outputs": [
    {
     "name": "stdout",
     "output_type": "stream",
     "text": [
      "LBP: acc(train)=39.20%\n"
     ]
    }
   ],
   "source": [
    "# 訓練時の識別精度の確認\n",
    "y_pred = clf3.predict(L)\n",
    "acc_train = 100.0 * np.sum(y_pred == y) / len(y)\n",
    "print(\"LBP: acc(train)={:.2f}%\".format(acc_train))"
   ]
  },
  {
   "cell_type": "code",
   "execution_count": 32,
   "metadata": {
    "editable": true,
    "slideshow": {
     "slide_type": ""
    },
    "tags": []
   },
   "outputs": [
    {
     "data": {
      "application/vnd.jupyter.widget-view+json": {
       "model_id": "4e252a2abe4d4f19ad72b840cccb0372",
       "version_major": 2,
       "version_minor": 0
      },
      "text/plain": [
       "  0%|          | 0/2000 [00:00<?, ?it/s]"
      ]
     },
     "metadata": {},
     "output_type": "display_data"
    }
   ],
   "source": [
    "L_test = [calc_lbp_hist(x.reshape((48, 48))) for x in tqdm(X_test)]"
   ]
  },
  {
   "cell_type": "code",
   "execution_count": 33,
   "metadata": {
    "editable": true,
    "slideshow": {
     "slide_type": ""
    },
    "tags": []
   },
   "outputs": [
    {
     "name": "stdout",
     "output_type": "stream",
     "text": [
      "LBP: acc(test)=1.55%\n"
     ]
    }
   ],
   "source": [
    "# テストデータに対する識別精度の計算\n",
    "y_pred = clf3.predict(L_test)\n",
    "acc_test = 100.0 * np.sum(y_pred == y_test) / len(y_test)\n",
    "print(\"LBP: acc(test)={:.2f}%\".format(acc_test))"
   ]
  },
  {
   "cell_type": "markdown",
   "metadata": {
    "editable": true,
    "slideshow": {
     "slide_type": ""
    },
    "tags": []
   },
   "source": [
    "先ほどの単純な輝度ヒストグラムに比べれば、精度は改善しているものの、画像をそのまま入力したSVMには劣る結果となっている。\n",
    "\n",
    "今、データセットに含まれるデータはひらがながランダムに回転したりスケールしたりしている。LBPは上記の計算方法からも分かるとおり、物体が回転してしまうと得られる値が変わってしまう性質がある。従って、今回のようにデータセット中でひらがながランダムに回転しているような場合には、もう少し工夫をする必要がある。"
   ]
  },
  {
   "cell_type": "markdown",
   "metadata": {
    "editable": true,
    "slideshow": {
     "slide_type": ""
    },
    "tags": []
   },
   "source": [
    "### Uniform LBP"
   ]
  },
  {
   "cell_type": "markdown",
   "metadata": {
    "editable": true,
    "slideshow": {
     "slide_type": ""
    },
    "tags": []
   },
   "source": [
    "元々のLBPが持つ回転に対して変化してしまう問題を解決した手法の一つに**Uniform LBP** {cite}`ojala2002multiresolution` がある。\n",
    "\n",
    "Uniform LBPの基本的なアイディアは、注目画素を中心に**円状に配置された点の輝度**を調べて、その輝度の大小関係のパターン (つまり, 0, 1の列)が回転したときに一致するものを同じ物であると見なすという部分にある。\n",
    "\n",
    "より具体的には、円状に配置された0, 1の列を1周する間に何回0から1あるいは1から0への変化が起こるかを考える。例えば、12時方向を視点として反時計回りに `(0, 0, 1, 0, 1, 1, 1, 0)` というパターンが現れたとすると、0→1 / 1→0の遷移回数は4回である。\n",
    "\n",
    "Uniform LBPでは、この遷移回数が0回のものと2回のものを特別視する。遷移の回数が0回、ということは、全ての要素が0か1かのいずれかで2通りが考えられる。また、遷移の回数が2回、ということは、0と1が両方含まれているものの、0と1が連続して現れているようなパターンで、これは要素の数が$N$個であれば、$N-1$通りのパターンが考えられる。\n",
    "\n",
    "以上より、遷移の回数が0回のものと2回のものの総数は$N+1$個ある。これ以外のパターンは全て同じものであると見なすと、パターンの総数は$N+2$個である。\n",
    "\n",
    "以下ではscikit-imageの`local_binary_pattern`を用いて、$N=36$とした場合のLBP画像を見てみる。"
   ]
  },
  {
   "cell_type": "code",
   "execution_count": 34,
   "metadata": {
    "editable": true,
    "slideshow": {
     "slide_type": ""
    },
    "tags": []
   },
   "outputs": [],
   "source": [
    "from skimage.feature import local_binary_pattern\n",
    "\n",
    "n_angles = 36\n",
    "lbp = local_binary_pattern(X[0].reshape((48, 48)), n_angles, 1.0, method=\"uniform\")"
   ]
  },
  {
   "cell_type": "code",
   "execution_count": 35,
   "metadata": {
    "editable": true,
    "slideshow": {
     "slide_type": ""
    },
    "tags": [
     "hide-input"
    ]
   },
   "outputs": [
    {
     "data": {
      "image/png": "[encoded data removed]",
      "text/plain": [
       "<Figure size 800x400 with 2 Axes>"
      ]
     },
     "metadata": {},
     "output_type": "display_data"
    }
   ],
   "source": [
    "fig = plt.figure(figsize=(8, 4))\n",
    "gs = GridSpec(1, 2, width_ratios=[1, 1], figure=fig)\n",
    "\n",
    "ax1 = plt.subplot(gs[0])\n",
    "ax2 = plt.subplot(gs[1])\n",
    "\n",
    "ax1.imshow(lbp, cmap=\"gray\", interpolation=None)\n",
    "ax1.set_xticks([])\n",
    "ax1.set_yticks([])\n",
    "ax1.set_title(\"There are {:d} values\".format(int(np.max(lbp)) + 1))\n",
    "\n",
    "ax2.hist(lbp.flatten(), bins=n_angles + 1, density=True)\n",
    "ax2.set_title(\"Histogram of Uniform LBP\")\n",
    "\n",
    "plt.tight_layout()\n",
    "plt.show()"
   ]
  },
  {
   "cell_type": "markdown",
   "metadata": {
    "editable": true,
    "slideshow": {
     "slide_type": ""
    },
    "tags": []
   },
   "source": [
    "すると、上記の通り、輝度のパターン数は36 + 2 = 38通りになることが分かる (画像の輝度が0から37の38通りになっている)。\n",
    "\n",
    "また、画像の見た目から、文字がある部分の周りが一様に近いグレーで表現されており、回転に対してある程度の不変性を持っていそうなことも確認できる。\n",
    "\n",
    "では、このUniform LBPを用いて、再度SVMによる文字の分類を試してみる。"
   ]
  },
  {
   "cell_type": "code",
   "execution_count": 36,
   "metadata": {
    "editable": true,
    "slideshow": {
     "slide_type": ""
    },
    "tags": []
   },
   "outputs": [
    {
     "data": {
      "application/vnd.jupyter.widget-view+json": {
       "model_id": "36f3ea44b12646bca650ffe3f2e2236c",
       "version_major": 2,
       "version_minor": 0
      },
      "text/plain": [
       "  0%|          | 0/2000 [00:00<?, ?it/s]"
      ]
     },
     "metadata": {},
     "output_type": "display_data"
    }
   ],
   "source": [
    "def calc_ulbp_hist(x):\n",
    "    lbp = local_binary_pattern(x, n_angles, 1.0, method=\"uniform\")\n",
    "    return np.histogram(lbp, bins=n_angles + 1, density=True)[0]\n",
    "\n",
    "\n",
    "L = [calc_ulbp_hist(x.reshape((48, 48))) for x in tqdm(X)]"
   ]
  },
  {
   "cell_type": "code",
   "execution_count": 37,
   "metadata": {
    "editable": true,
    "slideshow": {
     "slide_type": ""
    },
    "tags": []
   },
   "outputs": [
    {
     "data": {
      "text/html": [
       "<style>#sk-container-id-4 {color: black;}#sk-container-id-4 pre{padding: 0;}#sk-container-id-4 div.sk-toggleable {background-color: white;}#sk-container-id-4 label.sk-toggleable__label {cursor: pointer;display: block;width: 100%;margin-bottom: 0;padding: 0.3em;box-sizing: border-box;text-align: center;}#sk-container-id-4 label.sk-toggleable__label-arrow:before {content: \"▸\";float: left;margin-right: 0.25em;color: #696969;}#sk-container-id-4 label.sk-toggleable__label-arrow:hover:before {color: black;}#sk-container-id-4 div.sk-estimator:hover label.sk-toggleable__label-arrow:before {color: black;}#sk-container-id-4 div.sk-toggleable__content {max-height: 0;max-width: 0;overflow: hidden;text-align: left;background-color: #f0f8ff;}#sk-container-id-4 div.sk-toggleable__content pre {margin: 0.2em;color: black;border-radius: 0.25em;background-color: #f0f8ff;}#sk-container-id-4 input.sk-toggleable__control:checked~div.sk-toggleable__content {max-height: 200px;max-width: 100%;overflow: auto;}#sk-container-id-4 input.sk-toggleable__control:checked~label.sk-toggleable__label-arrow:before {content: \"▾\";}#sk-container-id-4 div.sk-estimator input.sk-toggleable__control:checked~label.sk-toggleable__label {background-color: #d4ebff;}#sk-container-id-4 div.sk-label input.sk-toggleable__control:checked~label.sk-toggleable__label {background-color: #d4ebff;}#sk-container-id-4 input.sk-hidden--visually {border: 0;clip: rect(1px 1px 1px 1px);clip: rect(1px, 1px, 1px, 1px);height: 1px;margin: -1px;overflow: hidden;padding: 0;position: absolute;width: 1px;}#sk-container-id-4 div.sk-estimator {font-family: monospace;background-color: #f0f8ff;border: 1px dotted black;border-radius: 0.25em;box-sizing: border-box;margin-bottom: 0.5em;}#sk-container-id-4 div.sk-estimator:hover {background-color: #d4ebff;}#sk-container-id-4 div.sk-parallel-item::after {content: \"\";width: 100%;border-bottom: 1px solid gray;flex-grow: 1;}#sk-container-id-4 div.sk-label:hover label.sk-toggleable__label {background-color: #d4ebff;}#sk-container-id-4 div.sk-serial::before {content: \"\";position: absolute;border-left: 1px solid gray;box-sizing: border-box;top: 0;bottom: 0;left: 50%;z-index: 0;}#sk-container-id-4 div.sk-serial {display: flex;flex-direction: column;align-items: center;background-color: white;padding-right: 0.2em;padding-left: 0.2em;position: relative;}#sk-container-id-4 div.sk-item {position: relative;z-index: 1;}#sk-container-id-4 div.sk-parallel {display: flex;align-items: stretch;justify-content: center;background-color: white;position: relative;}#sk-container-id-4 div.sk-item::before, #sk-container-id-4 div.sk-parallel-item::before {content: \"\";position: absolute;border-left: 1px solid gray;box-sizing: border-box;top: 0;bottom: 0;left: 50%;z-index: -1;}#sk-container-id-4 div.sk-parallel-item {display: flex;flex-direction: column;z-index: 1;position: relative;background-color: white;}#sk-container-id-4 div.sk-parallel-item:first-child::after {align-self: flex-end;width: 50%;}#sk-container-id-4 div.sk-parallel-item:last-child::after {align-self: flex-start;width: 50%;}#sk-container-id-4 div.sk-parallel-item:only-child::after {width: 0;}#sk-container-id-4 div.sk-dashed-wrapped {border: 1px dashed gray;margin: 0 0.4em 0.5em 0.4em;box-sizing: border-box;padding-bottom: 0.4em;background-color: white;}#sk-container-id-4 div.sk-label label {font-family: monospace;font-weight: bold;display: inline-block;line-height: 1.2em;}#sk-container-id-4 div.sk-label-container {text-align: center;}#sk-container-id-4 div.sk-container {/* jupyter's `normalize.less` sets `[hidden] { display: none; }` but bootstrap.min.css set `[hidden] { display: none !important; }` so we also need the `!important` here to be able to override the default hidden behavior on the sphinx rendered scikit-learn.org. See: https://github.com/scikit-learn/scikit-learn/issues/21755 */display: inline-block !important;position: relative;}#sk-container-id-4 div.sk-text-repr-fallback {display: none;}</style><div id=\"sk-container-id-4\" class=\"sk-top-container\"><div class=\"sk-text-repr-fallback\"><pre>Pipeline(steps=[(&#x27;standardscaler&#x27;, StandardScaler()),\n",
       "                (&#x27;svc&#x27;, SVC(kernel=&#x27;poly&#x27;))])</pre><b>In a Jupyter environment, please rerun this cell to show the HTML representation or trust the notebook. <br />On GitHub, the HTML representation is unable to render, please try loading this page with nbviewer.org.</b></div><div class=\"sk-container\" hidden><div class=\"sk-item sk-dashed-wrapped\"><div class=\"sk-label-container\"><div class=\"sk-label sk-toggleable\"><input class=\"sk-toggleable__control sk-hidden--visually\" id=\"sk-estimator-id-10\" type=\"checkbox\" ><label for=\"sk-estimator-id-10\" class=\"sk-toggleable__label sk-toggleable__label-arrow\">Pipeline</label><div class=\"sk-toggleable__content\"><pre>Pipeline(steps=[(&#x27;standardscaler&#x27;, StandardScaler()),\n",
       "                (&#x27;svc&#x27;, SVC(kernel=&#x27;poly&#x27;))])</pre></div></div></div><div class=\"sk-serial\"><div class=\"sk-item\"><div class=\"sk-estimator sk-toggleable\"><input class=\"sk-toggleable__control sk-hidden--visually\" id=\"sk-estimator-id-11\" type=\"checkbox\" ><label for=\"sk-estimator-id-11\" class=\"sk-toggleable__label sk-toggleable__label-arrow\">StandardScaler</label><div class=\"sk-toggleable__content\"><pre>StandardScaler()</pre></div></div></div><div class=\"sk-item\"><div class=\"sk-estimator sk-toggleable\"><input class=\"sk-toggleable__control sk-hidden--visually\" id=\"sk-estimator-id-12\" type=\"checkbox\" ><label for=\"sk-estimator-id-12\" class=\"sk-toggleable__label sk-toggleable__label-arrow\">SVC</label><div class=\"sk-toggleable__content\"><pre>SVC(kernel=&#x27;poly&#x27;)</pre></div></div></div></div></div></div></div>"
      ],
      "text/plain": [
       "Pipeline(steps=[('standardscaler', StandardScaler()),\n",
       "                ('svc', SVC(kernel='poly'))])"
      ]
     },
     "execution_count": 37,
     "metadata": {},
     "output_type": "execute_result"
    }
   ],
   "source": [
    "clf4 = make_pipeline(\n",
    "    StandardScaler(),\n",
    "    SVC(**svc_params),\n",
    ")\n",
    "clf4.fit(L, y)"
   ]
  },
  {
   "cell_type": "code",
   "execution_count": 38,
   "metadata": {
    "editable": true,
    "slideshow": {
     "slide_type": ""
    },
    "tags": []
   },
   "outputs": [
    {
     "name": "stdout",
     "output_type": "stream",
     "text": [
      "Uniform LBP: acc(train)=23.55%\n"
     ]
    }
   ],
   "source": [
    "# 訓練時の識別精度の確認\n",
    "y_pred = clf4.predict(L)\n",
    "acc_train = 100.0 * np.sum(y_pred == y) / len(y)\n",
    "print(\"Uniform LBP: acc(train)={:.2f}%\".format(acc_train))"
   ]
  },
  {
   "cell_type": "code",
   "execution_count": 39,
   "metadata": {
    "editable": true,
    "slideshow": {
     "slide_type": ""
    },
    "tags": []
   },
   "outputs": [
    {
     "data": {
      "application/vnd.jupyter.widget-view+json": {
       "model_id": "e0b9b2f6781b4a19a6e8616d0a3d0f62",
       "version_major": 2,
       "version_minor": 0
      },
      "text/plain": [
       "  0%|          | 0/2000 [00:00<?, ?it/s]"
      ]
     },
     "metadata": {},
     "output_type": "display_data"
    }
   ],
   "source": [
    "L_test = [calc_ulbp_hist(x.reshape((48, 48))) for x in tqdm(X_test)]"
   ]
  },
  {
   "cell_type": "code",
   "execution_count": 40,
   "metadata": {
    "editable": true,
    "slideshow": {
     "slide_type": ""
    },
    "tags": []
   },
   "outputs": [
    {
     "name": "stdout",
     "output_type": "stream",
     "text": [
      "Uniform LBP: acc(test)=4.00%\n"
     ]
    }
   ],
   "source": [
    "# テストデータに対する識別精度の計算\n",
    "y_pred = clf4.predict(L_test)\n",
    "acc_test = 100.0 * np.sum(y_pred == y_test) / len(y_test)\n",
    "print(\"Uniform LBP: acc(test)={:.2f}%\".format(acc_test))"
   ]
  },
  {
   "cell_type": "markdown",
   "metadata": {
    "editable": true,
    "slideshow": {
     "slide_type": ""
    },
    "tags": []
   },
   "source": [
    "すると、今度は訓練のスコアが悪化した代わりにテストスコアが上昇していることが分かる。しかしながら、これでも識別精度としては十分ではなく、回転対称性を考慮したことで精度が改善したとは言いがたい。"
   ]
  },
  {
   "cell_type": "markdown",
   "metadata": {
    "editable": true,
    "slideshow": {
     "slide_type": ""
    },
    "tags": []
   },
   "source": [
    "## Histogram of Oriented Gradient (HOG)"
   ]
  },
  {
   "cell_type": "markdown",
   "metadata": {
    "editable": true,
    "slideshow": {
     "slide_type": ""
    },
    "tags": []
   },
   "source": [
    "Histogram of Oriented Gradient (HOG)が広く知られるようになったのは2005年のことで、コンピュータ・ビジョンの国際会議であるCVPRで発表された論文{cite}`dalal2005histograms`がきっかけとなっている。\n",
    "\n",
    "特にHOGは人物の全身といった特定の物体を見つける性能に優れており、一般物体認識や物体追跡等の多数の応用が生まれた。\n",
    "\n",
    "HOGは画像を、互いに重ならない小さなパッチに分割して計算を行う。今回用いるひらがな画像は48×48の大きさなので、これを8×8のパッチに区切ってみる。"
   ]
  },
  {
   "cell_type": "code",
   "execution_count": 41,
   "metadata": {
    "editable": true,
    "slideshow": {
     "slide_type": ""
    },
    "tags": []
   },
   "outputs": [],
   "source": [
    "im = X[0].reshape((48, 48))\n",
    "s = 8\n",
    "patches = [im[y : y + 8, x : x + 8] for y in range(0, 48, s) for x in range(0, 48, s)]"
   ]
  },
  {
   "cell_type": "code",
   "execution_count": 42,
   "metadata": {
    "editable": true,
    "slideshow": {
     "slide_type": ""
    },
    "tags": [
     "hide-input"
    ]
   },
   "outputs": [
    {
     "data": {
      "image/png": "[encoded data removed]",
      "text/plain": [
       "<Figure size 400x400 with 36 Axes>"
      ]
     },
     "metadata": {},
     "output_type": "display_data"
    }
   ],
   "source": [
    "fig = plt.figure(figsize=(4, 4))\n",
    "gs = GridSpec(6, 6, figure=fig)\n",
    "\n",
    "for i in range(6):\n",
    "    for j in range(6):\n",
    "        ax = plt.subplot(gs[i, j])\n",
    "        ax.imshow(patches[i * 6 + j], cmap=\"gray\", vmin=0, vmax=255, interpolation=None)\n",
    "        ax.set_xticks([])\n",
    "        ax.set_yticks([])\n",
    "\n",
    "plt.tight_layout()\n",
    "plt.show()"
   ]
  },
  {
   "cell_type": "markdown",
   "metadata": {
    "editable": true,
    "slideshow": {
     "slide_type": ""
    },
    "tags": []
   },
   "source": [
    "次に、この各画像に対して、勾配強度と勾配方向を画素ごとに計算する。以下の実装では、x方向の勾配$d_x$とy方向の勾配$d_y$をSobelフィルタを使って求め、勾配強度$g$と勾配方向$\\theta$を以下のように定義する。\n",
    "\n",
    "$$\n",
    "\\begin{align}\n",
    "    g = \\sqrt{ d_x^2 + d_y^2 } \\\\\n",
    "    \\theta = \\text{arctan} \\frac{|d_y|}{d_x}\n",
    "\\end{align}\n",
    "$$"
   ]
  },
  {
   "cell_type": "markdown",
   "metadata": {
    "editable": true,
    "slideshow": {
     "slide_type": ""
    },
    "tags": []
   },
   "source": [
    "なお、今回は向きのない方向 (= orientation, 0°から180°)を求めるため、上記の$\\theta$の式において$d_y$に絶対値がかかっていることに注意すること。\n",
    "\n",
    "今、各パッチは8×8の大きさなので、勾配強度と勾配方向がそれぞれ64個ずつ求まる。求まった勾配方向をいくつかの方向に量子化 (今回は20°刻みで9方向)し、ヒストグラムを作成する。各画素の方向に対応するビンには勾配強度を足して、ヒストグラムを計算する。"
   ]
  },
  {
   "cell_type": "code",
   "execution_count": 43,
   "metadata": {
    "editable": true,
    "slideshow": {
     "slide_type": ""
    },
    "tags": []
   },
   "outputs": [
    {
     "name": "stdout",
     "output_type": "stream",
     "text": [
      "36 histograms with 9 bins are obtained!\n"
     ]
    }
   ],
   "source": [
    "def calc_hist(p, n_angles=9):\n",
    "    dx = cv2.Sobel(p, cv2.CV_8U, 1, 0)\n",
    "    dy = cv2.Sobel(p, cv2.CV_8U, 0, 1)\n",
    "    dx, dy = dx.astype(\"float32\"), dy.astype(\"float32\")\n",
    "\n",
    "    g = np.sqrt(dx * dx + dy * dy)\n",
    "    theta = 180.0 * np.arctan(np.abs(dy), dx) / np.pi\n",
    "    t = (theta * n_angles / 180.0).astype(\"int32\")\n",
    "\n",
    "    h = np.zeros((n_angles), dtype=\"float32\")\n",
    "    for g_, t_ in zip(g.flatten(), t.flatten()):\n",
    "        h[t_] += g_\n",
    "\n",
    "    return h\n",
    "\n",
    "\n",
    "n_angles = 9\n",
    "hists = np.array([calc_hist(p, n_angles) for p in patches])\n",
    "print(f\"{hists.shape[0]:d} histograms with {hists.shape[1]:d} bins are obtained!\")"
   ]
  },
  {
   "cell_type": "markdown",
   "metadata": {
    "editable": true,
    "slideshow": {
     "slide_type": ""
    },
    "tags": []
   },
   "source": [
    "これにより6×6=36個のヒストグラムが求まった。ここで注意したいのは、これらのヒストグラムは勾配強度で計算されており、場所によって、ヒストグラムのスケールが異なっているという点である。\n",
    "\n",
    "そこで、HOGでは、この6×6個のパッチを3×3のブロックごとに走査し、そのブロック内で連結したヒストグラムを正規化して用いる。今、勾配方向は9つに離散化されており、ブロック内のパッチが3×3=9個なので、1ブロックが持つヒストグラムの次元は9×9=81次元である。この81次元ベクトルをノルムが1になるように正規化しておく。\n",
    "\n",
    "最終的に、81次元のヒストグラムが複数 (今回の場合は(6-3+1)×(6-3+1)=16個)求まるので、これらを連結して、画像の特徴量として用いる。"
   ]
  },
  {
   "cell_type": "code",
   "execution_count": 44,
   "metadata": {
    "editable": true,
    "slideshow": {
     "slide_type": ""
    },
    "tags": []
   },
   "outputs": [],
   "source": [
    "bs = 3\n",
    "hists = hists.reshape((6, 6, -1))\n",
    "\n",
    "# ブロックの取り出し\n",
    "blocks = np.array(\n",
    "    [hists[i : i + bs, j : j + bs] for i in range(6 - bs + 1) for j in range(6 - bs + 1)]\n",
    ")\n",
    "hog = blocks.reshape((-1, n_angles * bs * bs))\n",
    "\n",
    "# ブロックごとのヒストグラムのノルムが1となるように正規化\n",
    "hog = hog / np.sqrt(np.sum(hog * hog, axis=1, keepdims=True))\n",
    "hog = hog.flatten()"
   ]
  },
  {
   "cell_type": "markdown",
   "metadata": {
    "editable": true,
    "slideshow": {
     "slide_type": ""
    },
    "tags": []
   },
   "source": [
    "以上をまとめると、HOGを計算する関数を以下のように定義できる。"
   ]
  },
  {
   "cell_type": "code",
   "execution_count": 45,
   "metadata": {
    "editable": true,
    "slideshow": {
     "slide_type": ""
    },
    "tags": []
   },
   "outputs": [],
   "source": [
    "def calc_hog(im):\n",
    "    h, w = im.shape\n",
    "    s = 8\n",
    "    bs = 3\n",
    "    n_angles = 9\n",
    "\n",
    "    ph = h // s\n",
    "    pw = w // s\n",
    "\n",
    "    patches = [im[y : y + 8, x : x + 8] for y in range(0, h, s) for x in range(0, w, s)]\n",
    "    hists = np.array([calc_hist(p, n_angles) for p in patches])\n",
    "    hists = hists.reshape((ph, pw, -1))\n",
    "\n",
    "    blocks = np.array(\n",
    "        [hists[i : i + bs, j : j + bs] for i in range(ph - bs + 1) for j in range(pw - bs + 1)]\n",
    "    )\n",
    "    hog = blocks.reshape((-1, n_angles * bs * bs))\n",
    "\n",
    "    hog = hog / (np.sqrt(np.sum(hog * hog, axis=1, keepdims=True)) + 1.0e-8)\n",
    "\n",
    "    hog = hog.flatten()\n",
    "\n",
    "    return hog"
   ]
  },
  {
   "cell_type": "markdown",
   "metadata": {
    "editable": true,
    "slideshow": {
     "slide_type": ""
    },
    "tags": []
   },
   "source": [
    "計算されたHOGを用いて、再度SVMを用いた分類を試してみる。"
   ]
  },
  {
   "cell_type": "code",
   "execution_count": 46,
   "metadata": {
    "editable": true,
    "slideshow": {
     "slide_type": ""
    },
    "tags": []
   },
   "outputs": [
    {
     "data": {
      "application/vnd.jupyter.widget-view+json": {
       "model_id": "b0e32691b5694ccfab666b51eeafecdd",
       "version_major": 2,
       "version_minor": 0
      },
      "text/plain": [
       "  0%|          | 0/2000 [00:00<?, ?it/s]"
      ]
     },
     "metadata": {},
     "output_type": "display_data"
    }
   ],
   "source": [
    "hogs = [calc_hog(x.reshape((48, 48))) for x in tqdm(X)]"
   ]
  },
  {
   "cell_type": "code",
   "execution_count": 47,
   "metadata": {
    "editable": true,
    "slideshow": {
     "slide_type": ""
    },
    "tags": []
   },
   "outputs": [
    {
     "data": {
      "text/html": [
       "<style>#sk-container-id-5 {color: black;}#sk-container-id-5 pre{padding: 0;}#sk-container-id-5 div.sk-toggleable {background-color: white;}#sk-container-id-5 label.sk-toggleable__label {cursor: pointer;display: block;width: 100%;margin-bottom: 0;padding: 0.3em;box-sizing: border-box;text-align: center;}#sk-container-id-5 label.sk-toggleable__label-arrow:before {content: \"▸\";float: left;margin-right: 0.25em;color: #696969;}#sk-container-id-5 label.sk-toggleable__label-arrow:hover:before {color: black;}#sk-container-id-5 div.sk-estimator:hover label.sk-toggleable__label-arrow:before {color: black;}#sk-container-id-5 div.sk-toggleable__content {max-height: 0;max-width: 0;overflow: hidden;text-align: left;background-color: #f0f8ff;}#sk-container-id-5 div.sk-toggleable__content pre {margin: 0.2em;color: black;border-radius: 0.25em;background-color: #f0f8ff;}#sk-container-id-5 input.sk-toggleable__control:checked~div.sk-toggleable__content {max-height: 200px;max-width: 100%;overflow: auto;}#sk-container-id-5 input.sk-toggleable__control:checked~label.sk-toggleable__label-arrow:before {content: \"▾\";}#sk-container-id-5 div.sk-estimator input.sk-toggleable__control:checked~label.sk-toggleable__label {background-color: #d4ebff;}#sk-container-id-5 div.sk-label input.sk-toggleable__control:checked~label.sk-toggleable__label {background-color: #d4ebff;}#sk-container-id-5 input.sk-hidden--visually {border: 0;clip: rect(1px 1px 1px 1px);clip: rect(1px, 1px, 1px, 1px);height: 1px;margin: -1px;overflow: hidden;padding: 0;position: absolute;width: 1px;}#sk-container-id-5 div.sk-estimator {font-family: monospace;background-color: #f0f8ff;border: 1px dotted black;border-radius: 0.25em;box-sizing: border-box;margin-bottom: 0.5em;}#sk-container-id-5 div.sk-estimator:hover {background-color: #d4ebff;}#sk-container-id-5 div.sk-parallel-item::after {content: \"\";width: 100%;border-bottom: 1px solid gray;flex-grow: 1;}#sk-container-id-5 div.sk-label:hover label.sk-toggleable__label {background-color: #d4ebff;}#sk-container-id-5 div.sk-serial::before {content: \"\";position: absolute;border-left: 1px solid gray;box-sizing: border-box;top: 0;bottom: 0;left: 50%;z-index: 0;}#sk-container-id-5 div.sk-serial {display: flex;flex-direction: column;align-items: center;background-color: white;padding-right: 0.2em;padding-left: 0.2em;position: relative;}#sk-container-id-5 div.sk-item {position: relative;z-index: 1;}#sk-container-id-5 div.sk-parallel {display: flex;align-items: stretch;justify-content: center;background-color: white;position: relative;}#sk-container-id-5 div.sk-item::before, #sk-container-id-5 div.sk-parallel-item::before {content: \"\";position: absolute;border-left: 1px solid gray;box-sizing: border-box;top: 0;bottom: 0;left: 50%;z-index: -1;}#sk-container-id-5 div.sk-parallel-item {display: flex;flex-direction: column;z-index: 1;position: relative;background-color: white;}#sk-container-id-5 div.sk-parallel-item:first-child::after {align-self: flex-end;width: 50%;}#sk-container-id-5 div.sk-parallel-item:last-child::after {align-self: flex-start;width: 50%;}#sk-container-id-5 div.sk-parallel-item:only-child::after {width: 0;}#sk-container-id-5 div.sk-dashed-wrapped {border: 1px dashed gray;margin: 0 0.4em 0.5em 0.4em;box-sizing: border-box;padding-bottom: 0.4em;background-color: white;}#sk-container-id-5 div.sk-label label {font-family: monospace;font-weight: bold;display: inline-block;line-height: 1.2em;}#sk-container-id-5 div.sk-label-container {text-align: center;}#sk-container-id-5 div.sk-container {/* jupyter's `normalize.less` sets `[hidden] { display: none; }` but bootstrap.min.css set `[hidden] { display: none !important; }` so we also need the `!important` here to be able to override the default hidden behavior on the sphinx rendered scikit-learn.org. See: https://github.com/scikit-learn/scikit-learn/issues/21755 */display: inline-block !important;position: relative;}#sk-container-id-5 div.sk-text-repr-fallback {display: none;}</style><div id=\"sk-container-id-5\" class=\"sk-top-container\"><div class=\"sk-text-repr-fallback\"><pre>Pipeline(steps=[(&#x27;standardscaler&#x27;, StandardScaler()),\n",
       "                (&#x27;svc&#x27;, SVC(kernel=&#x27;poly&#x27;))])</pre><b>In a Jupyter environment, please rerun this cell to show the HTML representation or trust the notebook. <br />On GitHub, the HTML representation is unable to render, please try loading this page with nbviewer.org.</b></div><div class=\"sk-container\" hidden><div class=\"sk-item sk-dashed-wrapped\"><div class=\"sk-label-container\"><div class=\"sk-label sk-toggleable\"><input class=\"sk-toggleable__control sk-hidden--visually\" id=\"sk-estimator-id-13\" type=\"checkbox\" ><label for=\"sk-estimator-id-13\" class=\"sk-toggleable__label sk-toggleable__label-arrow\">Pipeline</label><div class=\"sk-toggleable__content\"><pre>Pipeline(steps=[(&#x27;standardscaler&#x27;, StandardScaler()),\n",
       "                (&#x27;svc&#x27;, SVC(kernel=&#x27;poly&#x27;))])</pre></div></div></div><div class=\"sk-serial\"><div class=\"sk-item\"><div class=\"sk-estimator sk-toggleable\"><input class=\"sk-toggleable__control sk-hidden--visually\" id=\"sk-estimator-id-14\" type=\"checkbox\" ><label for=\"sk-estimator-id-14\" class=\"sk-toggleable__label sk-toggleable__label-arrow\">StandardScaler</label><div class=\"sk-toggleable__content\"><pre>StandardScaler()</pre></div></div></div><div class=\"sk-item\"><div class=\"sk-estimator sk-toggleable\"><input class=\"sk-toggleable__control sk-hidden--visually\" id=\"sk-estimator-id-15\" type=\"checkbox\" ><label for=\"sk-estimator-id-15\" class=\"sk-toggleable__label sk-toggleable__label-arrow\">SVC</label><div class=\"sk-toggleable__content\"><pre>SVC(kernel=&#x27;poly&#x27;)</pre></div></div></div></div></div></div></div>"
      ],
      "text/plain": [
       "Pipeline(steps=[('standardscaler', StandardScaler()),\n",
       "                ('svc', SVC(kernel='poly'))])"
      ]
     },
     "execution_count": 47,
     "metadata": {},
     "output_type": "execute_result"
    }
   ],
   "source": [
    "clf5 = make_pipeline(\n",
    "    StandardScaler(),\n",
    "    SVC(**svc_params),\n",
    ")\n",
    "clf5.fit(hogs, y)"
   ]
  },
  {
   "cell_type": "code",
   "execution_count": 48,
   "metadata": {
    "editable": true,
    "slideshow": {
     "slide_type": ""
    },
    "tags": []
   },
   "outputs": [
    {
     "name": "stdout",
     "output_type": "stream",
     "text": [
      "HOG: acc(train)=31.50%\n"
     ]
    }
   ],
   "source": [
    "# 訓練時の識別精度の確認\n",
    "y_pred = clf5.predict(hogs)\n",
    "acc_train = 100.0 * np.sum(y_pred == y) / len(y)\n",
    "print(\"HOG: acc(train)={:.2f}%\".format(acc_train))"
   ]
  },
  {
   "cell_type": "code",
   "execution_count": 49,
   "metadata": {
    "editable": true,
    "slideshow": {
     "slide_type": ""
    },
    "tags": []
   },
   "outputs": [
    {
     "data": {
      "application/vnd.jupyter.widget-view+json": {
       "model_id": "7ec843edcf7d46848e829fa2630adab9",
       "version_major": 2,
       "version_minor": 0
      },
      "text/plain": [
       "  0%|          | 0/2000 [00:00<?, ?it/s]"
      ]
     },
     "metadata": {},
     "output_type": "display_data"
    }
   ],
   "source": [
    "hogs_test = [calc_hog(x.reshape((48, 48))) for x in tqdm(X_test)]"
   ]
  },
  {
   "cell_type": "code",
   "execution_count": 50,
   "metadata": {
    "editable": true,
    "slideshow": {
     "slide_type": ""
    },
    "tags": []
   },
   "outputs": [
    {
     "name": "stdout",
     "output_type": "stream",
     "text": [
      "Uniform LBP: acc(test)=4.15%\n"
     ]
    }
   ],
   "source": [
    "# テストデータに対する識別精度の計算\n",
    "y_pred = clf5.predict(hogs_test)\n",
    "acc_test = 100.0 * np.sum(y_pred == y_test) / len(y_test)\n",
    "print(\"Uniform LBP: acc(test)={:.2f}%\".format(acc_test))"
   ]
  },
  {
   "cell_type": "markdown",
   "metadata": {
    "editable": true,
    "slideshow": {
     "slide_type": ""
    },
    "tags": []
   },
   "source": [
    "## Scale-Invariant Feature Transform (SIFT)"
   ]
  },
  {
   "cell_type": "markdown",
   "metadata": {
    "editable": true,
    "slideshow": {
     "slide_type": ""
    },
    "tags": []
   },
   "source": [
    "Scale-Invariant Feature Transform (SIFT)は、深層学習以前の画像認識における金字塔的な技術で、2000年前後にRoweらによって提案された{cite}`lowe1999object`, {cite}`lowe2004distinctive`。SIFTは画像の中に映り込む物体のスケールや回転に対して不変な特徴量を与えることができる。"
   ]
  },
  {
   "cell_type": "code",
   "execution_count": 51,
   "metadata": {
    "editable": true,
    "slideshow": {
     "slide_type": ""
    },
    "tags": []
   },
   "outputs": [],
   "source": [
    "sift = cv2.SIFT_create()\n",
    "im = X[0].reshape((48, 48)).copy()\n",
    "im = cv2.resize(im, (256, 256))\n",
    "\n",
    "# 特徴点の検出\n",
    "keypoints = sift.detect(im)"
   ]
  },
  {
   "cell_type": "code",
   "execution_count": 53,
   "metadata": {
    "editable": true,
    "slideshow": {
     "slide_type": ""
    },
    "tags": [
     "hide-input"
    ]
   },
   "outputs": [
    {
     "data": {
      "image/png": "[encoded data removed]",
      "text/plain": [
       "<Figure size 640x480 with 1 Axes>"
      ]
     },
     "metadata": {},
     "output_type": "display_data"
    }
   ],
   "source": [
    "im_sift = cv2.drawKeypoints(\n",
    "    im,\n",
    "    keypoints,\n",
    "    None,\n",
    "    flags=cv2.DRAW_MATCHES_FLAGS_DRAW_RICH_KEYPOINTS,\n",
    ")\n",
    "\n",
    "plt.imshow(im_sift)\n",
    "plt.title(\"{:d} keypoints detected\".format(len(keypoints)))\n",
    "plt.show()"
   ]
  },
  {
   "cell_type": "code",
   "execution_count": 54,
   "metadata": {
    "editable": true,
    "slideshow": {
     "slide_type": ""
    },
    "tags": []
   },
   "outputs": [
    {
     "name": "stdout",
     "output_type": "stream",
     "text": [
      "21 descriptors with 128 dimensions are detected!!\n"
     ]
    }
   ],
   "source": [
    "# 特徴量の計算\n",
    "_, descriptors = sift.compute(im, keypoints)\n",
    "print(f\"{descriptors.shape[0]:d} descriptors with {descriptors.shape[1]:d} dimensions are detected!!\")"
   ]
  },
  {
   "cell_type": "markdown",
   "metadata": {
    "editable": true,
    "slideshow": {
     "slide_type": ""
    },
    "tags": []
   },
   "source": [
    "### Bag of Visual Words"
   ]
  },
  {
   "cell_type": "markdown",
   "metadata": {
    "editable": true,
    "slideshow": {
     "slide_type": ""
    },
    "tags": []
   },
   "source": [
    "SIFT特徴量は各画像に対して求まる特徴量の個数が異なる (次元は一律で128次元)ため、そのままでは、画像の特徴量として用いることができない。\n",
    "\n",
    "そこでSIFTから画像特徴を得るための方法として**Bag of Visual Words** (Bag of Featuresとも呼ばれる)という方法がある。これは、自然言語処理分野の**Bag of Words**から着想を得たもので、元の**Bag of Words**は辞書に登録された各単語が文書の中に何回登場するかをヒストグラムとして表わした物である。\n",
    "\n",
    "これに対してBag of Visual Wordsは、画像データセットから抽出されたSIFT特徴量をクラスタ化し、そのクラスタ中心をBag of Wordsで言うところの「単語」だと見なし、そのクラスタの集まりを「辞書」だと見なす。\n",
    "\n",
    "各画像で抽出されたSIFT特徴量から一番近いクラスタ中心が、その特徴量が属する「単語」であると考えると、各画像に対してBag of Wordsの要領でヒストグラムが求まることが分かる。このヒストグラムを各画像の特徴量として用いる。"
   ]
  },
  {
   "cell_type": "code",
   "execution_count": null,
   "metadata": {
    "editable": true,
    "slideshow": {
     "slide_type": ""
    },
    "tags": []
   },
   "outputs": [],
   "source": []
  },
  {
   "cell_type": "markdown",
   "metadata": {
    "editable": true,
    "slideshow": {
     "slide_type": ""
    },
    "tags": []
   },
   "source": [
    "## 参考文献\n",
    "\n",
    "```{bibliography}\n",
    ":filter: docname in docnames\n",
    ":style: alpha\n",
    "```"
   ]
  },
  {
   "cell_type": "code",
   "execution_count": null,
   "metadata": {
    "editable": true,
    "slideshow": {
     "slide_type": ""
    },
    "tags": []
   },
   "outputs": [],
   "source": []
  }
 ],
 "metadata": {
  "kernelspec": {
   "display_name": "Python 3 (ipykernel)",
   "language": "python",
   "name": "python3"
  },
  "language_info": {
   "codemirror_mode": {
    "name": "ipython",
    "version": 3
   },
   "file_extension": ".py",
   "mimetype": "text/x-python",
   "name": "python",
   "nbconvert_exporter": "python",
   "pygments_lexer": "ipython3",
   "version": "3.10.2"
  }
 },
 "nbformat": 4,
 "nbformat_minor": 4
}

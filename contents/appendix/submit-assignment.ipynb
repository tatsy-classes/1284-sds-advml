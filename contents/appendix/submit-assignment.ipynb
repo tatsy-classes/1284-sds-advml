{
 "cells": [
  {
   "cell_type": "markdown",
   "metadata": {},
   "source": [
    "(sec:submit-assignment)=\n",
    "# 課題の提出方法"
   ]
  },
  {
   "cell_type": "markdown",
   "metadata": {},
   "source": [
    "本講義では、課題の提出と採点に[GitHub Classroom](https://docs.github.com/ja/education/manage-coursework-with-github-classroom/get-started-with-github-classroom/about-github-classroom)を使用する。\n",
    "\n",
    "GitHub ClassroomはGitのプッシュ機能を使って課題を提出し、GitHub Actionsの機能を使って課題を自動採点する。\n",
    "\n",
    "各課題にはテンプレートファイルが用意されており、そのテンプレートを学生自身が編集してコミット、プッシュをすると、自動で採点プログラムが動き、採点結果を学生自身も確認できるのが特徴である。"
   ]
  },
  {
   "cell_type": "markdown",
   "metadata": {},
   "source": [
    "## 課題用リポジトリの作成"
   ]
  },
  {
   "cell_type": "markdown",
   "metadata": {},
   "source": [
    "各課題の招待リンクは、課題の直前に教員が指示する。\n",
    "\n",
    "その招待リンクからGitHub Classroomにアクセスすると、以下のような画面が表示されるので、**Accept this assignment**をクリックする。"
   ]
  },
  {
   "cell_type": "markdown",
   "metadata": {},
   "source": [
    ":::{image} ./imgs/accept_assignment.jpg\n",
    ":align: center\n",
    ":width: 90%\n",
    ":class: with-border\n",
    ":::"
   ]
  },
  {
   "cell_type": "markdown",
   "metadata": {},
   "source": [
    "すると、以下のような画面が表示される。画面中央にあるGitHubのリンクが課題用のリポジトリのURLである。"
   ]
  },
  {
   "cell_type": "markdown",
   "metadata": {},
   "source": [
    ":::{image} ./imgs/you_are_ready.jpg\n",
    ":align: center\n",
    ":width: 90%\n",
    ":class: with-border\n",
    ":::"
   ]
  },
  {
   "cell_type": "markdown",
   "metadata": {},
   "source": [
    "このURLにアクセスすると、以下のような課題用のテンプレートを含むリポジトリが現れる。"
   ]
  },
  {
   "cell_type": "markdown",
   "metadata": {},
   "source": [
    ":::{image} ./imgs/assignment_repo.jpg\n",
    ":align: center\n",
    ":width: 90%\n",
    ":class: with-border\n",
    ":::"
   ]
  },
  {
   "cell_type": "markdown",
   "metadata": {},
   "source": [
    "\n",
    "\n",
    "以後は、通常通り、このリポジトリのコードをクローンして、課題用のプログラムを作成した後、コミット・プッシュを行なうと、自動的に採点プログラムが動く。"
   ]
  }
 ],
 "metadata": {
  "kernelspec": {
   "display_name": "sdsadvml-NOwn6uOF-py3.10",
   "language": "python",
   "name": "python3"
  },
  "language_info": {
   "name": "python",
   "version": "3.10.10"
  }
 },
 "nbformat": 4,
 "nbformat_minor": 2
}

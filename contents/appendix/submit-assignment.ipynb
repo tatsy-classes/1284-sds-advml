{
 "cells": [
  {
   "cell_type": "markdown",
   "metadata": {},
   "source": [
    "(sec:submit-assignment)=\n",
    "# 課題の提出方法"
   ]
  },
  {
   "cell_type": "markdown",
   "metadata": {},
   "source": [
    "本講義では、課題の提出と採点に[GitHub Classroom](https://docs.github.com/ja/education/manage-coursework-with-github-classroom/get-started-with-github-classroom/about-github-classroom)を使用する。\n",
    "\n",
    "GitHub ClassroomはGitのプッシュ機能を使って課題を提出し、GitHub Actionsの機能を使って課題を自動採点する。\n",
    "\n",
    "各課題にはテンプレートファイルが用意されており、そのテンプレートを学生自身が編集してコミット、プッシュをすると、自動で採点プログラムが動き、採点結果を学生自身も確認できるのが特徴である。"
   ]
  },
  {
   "cell_type": "markdown",
   "metadata": {},
   "source": [
    "## 課題用リポジトリの作成"
   ]
  },
  {
   "cell_type": "markdown",
   "metadata": {},
   "source": [
    "各課題の招待リンクは、課題の直前に教員が指示する。\n",
    "\n",
    "その招待リンクからGitHub Classroomにアクセスすると、以下のような画面が表示されるので、**Accept this assignment**をクリックする。"
   ]
  },
  {
   "cell_type": "markdown",
   "metadata": {},
   "source": [
    ":::{image} ./imgs/accept_assignment.jpg\n",
    ":align: center\n",
    ":width: 90%\n",
    ":class: with-border\n",
    ":::"
   ]
  },
  {
   "cell_type": "markdown",
   "metadata": {},
   "source": [
    "すると、以下のような画面が表示される。画面中央にあるGitHubのリンクが課題用のリポジトリのURLである。"
   ]
  },
  {
   "cell_type": "markdown",
   "metadata": {},
   "source": [
    ":::{image} ./imgs/you_are_ready.jpg\n",
    ":align: center\n",
    ":width: 90%\n",
    ":class: with-border\n",
    ":::"
   ]
  },
  {
   "cell_type": "markdown",
   "metadata": {},
   "source": [
    "このURLにアクセスすると、以下のような課題用のテンプレートを含むリポジトリが現れる。"
   ]
  },
  {
   "cell_type": "markdown",
   "metadata": {},
   "source": [
    ":::{image} ./imgs/assignment_repo.jpg\n",
    ":align: center\n",
    ":width: 90%\n",
    ":class: with-border\n",
    ":::"
   ]
  },
  {
   "cell_type": "markdown",
   "metadata": {},
   "source": [
    "以後は、通常通り、このリポジトリのコードをクローンして、課題用のプログラムを作成した後、コミット・プッシュを行なうと、自動的に採点プログラムが動く。"
   ]
  },
  {
   "cell_type": "markdown",
   "metadata": {},
   "source": [
    "## SHA値の取得方法"
   ]
  },
  {
   "cell_type": "markdown",
   "metadata": {},
   "source": [
    "各受講生が採点をして欲しいコミットを明示するために、各コミットに振られたSHA値を用いる。Gitで管理されたコミットには識別用に必ずSHA値が設定されている。\n",
    "\n",
    "Gitで用いられているSHA値はSHA-1という種類でビット数にして160ビットの長さを持つハッシュの一種である。通常、4ビットを1単位として16進数の文字(0-9, a-f)が20文字の文字列として表現される。\n",
    "\n",
    "SHA値は、各自のコンピュータでGitのレポジトリをターミナル等で開き、`git log`を実行することで調べられる。一例として、以下のような出力が得られる。\n",
    "\n",
    "```shell\n",
    "commit 12f434cc79f5d40b6a0d4e3a6e228e7eeeeb8354 (HEAD -> master, origin/master)\n",
    "Author: Tatsuya Yatagawa <xxxxx@xxxxx.com>\n",
    "Date:   Mon Oct 14 12:29:46 2024 +0900\n",
    "\n",
    "    Minor update.\n",
    "\n",
    "commit 744877b6feab88b101f2841a3ca772d0d8ec7882\n",
    "Author: Tatsuya Yatagawa <xxxxx@xxxxx.com>\n",
    "Date:   Mon Oct 14 12:24:15 2024 +0900\n",
    "\n",
    "    Minor update.\n",
    "```\n",
    "\n",
    "このような出力において`commit`の右側に書かれている英数字の文字列がSHA値である。"
   ]
  },
  {
   "cell_type": "markdown",
   "metadata": {},
   "source": [
    "また、SHA値はGitHub上でブラウザから確認することもできる。各レポジトリの画面右上の方にある「Commits」という文字をクリックしてみよう。\n",
    "\n",
    ":::{image} ./imgs/click_commits.jpg\n",
    ":align: center\n",
    ":width: 90%\n",
    ":::\n",
    "\n",
    "すると、次のようなコミットの履歴画面が現れる。各コミットの右側にはSHA値の先頭6文字が表示されており、さらにその右にコピーボタンがある。このコピーボタンをクリックすると、SHA値全体がコピーできる。"
   ]
  },
  {
   "cell_type": "markdown",
   "metadata": {},
   "source": [
    ":::{image} ./imgs/copy_sha.jpg\n",
    ":align: center\n",
    ":width: 90%\n",
    ":::"
   ]
  },
  {
   "cell_type": "markdown",
   "metadata": {},
   "source": []
  }
 ],
 "metadata": {
  "kernelspec": {
   "display_name": "sdsadvml-NOwn6uOF-py3.10",
   "language": "python",
   "name": "python3"
  },
  "language_info": {
   "name": "python",
   "version": "3.10.10"
  }
 },
 "nbformat": 4,
 "nbformat_minor": 2
}

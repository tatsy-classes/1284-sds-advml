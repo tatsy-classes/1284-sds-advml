{
 "cells": [
  {
   "cell_type": "markdown",
   "metadata": {},
   "source": [
    "(sec:notation)=\n",
    "# 資料中の表記について"
   ]
  },
  {
   "cell_type": "markdown",
   "metadata": {},
   "source": [
    "## Pythonモジュールのエイリアス"
   ]
  },
  {
   "cell_type": "markdown",
   "metadata": {},
   "source": [
    "資料中では、特に指定がない場合、以下のようにモジュールがエイリアスを使ってインポートされているとする。従って、`numpy.array`などは、資料中で`np.array`のように略記することがあるので注意すること。"
   ]
  },
  {
   "cell_type": "code",
   "execution_count": 3,
   "metadata": {},
   "outputs": [],
   "source": [
    "# NumPyなど前半で使うモジュール\n",
    "import numpy as np\n",
    "import scipy as sp\n",
    "import matplotlib as mpl\n",
    "import matplotlib.pyplot as plt\n",
    "import seaborn as sns"
   ]
  },
  {
   "cell_type": "code",
   "execution_count": 4,
   "metadata": {},
   "outputs": [],
   "source": [
    "# PyTorch系のモジュール\n",
    "import torch.nn as nn\n",
    "import torch.nn.functional as F"
   ]
  },
  {
   "cell_type": "markdown",
   "metadata": {},
   "source": [
    "## 数学の記号"
   ]
  },
  {
   "cell_type": "markdown",
   "metadata": {},
   "source": [
    "本資料では、特に断りがない限り、以下のように数学のシンボルを区別して用いる。"
   ]
  },
  {
   "cell_type": "markdown",
   "metadata": {},
   "source": [
    "| 表記 | 意味 |\n",
    "|:-----:|:-----|\n",
    "| $x$ | スカラー |\n",
    "| $\\mathbf{x}$ | 列ベクトル |\n",
    "| $x_{i}$ | ベクトル$\\mathbf{x}$の$i$番目の要素 |\n",
    "| $\\mathbf{0}$ | 全ての要素が0の列ベクトル |\n",
    "| $\\mathbf{1}$ | 全ての要素が1の列ベクトル |\n",
    "| $\\mathbf{A}$ | 行列 |\n",
    "| $A_{ij}$ | 行列$\\mathbf{A}$の$i$行$j$列要素 |\n",
    "| $\\| \\mathbf{A} \\|$ | 行列$\\mathbf{A}$の行列式 |\n",
    "| $\\mathbf{A}^{-1}$ | 行列$\\mathbf{A}$の逆行列 |\n",
    "| $\\mathbf{A}^{\\dagger}$ | 行列$\\mathbf{A}$の疑似逆行列 |\n",
    "| $\\mathbf{I}$ | 単位行列 |\n",
    "| $\\mathbf{O}$ | 全ての要素が0の行列 |\n",
    "| $\\mathbf{x}^\\top$ | ベクトル・行列の転置 |\n",
    "| $\\\\| \\mathbf{x} \\\\|$ | Euclidノルム |\n",
    "| $\\\\| \\mathbf{x} \\\\|_p$ | $\\ell_p$ ノルム |\n",
    "| $\\\\| \\mathbf{A} \\\\|_F$ | Frobeniusノルム |\n",
    "| $\\mathbb{N}$ | 自然数体 |\n",
    "| $\\mathbb{Z}$ | 整数体 |\n",
    "| $\\mathbb{R}$| 実Euclid空間 |\n",
    "| $\\mathbb{R}^{n}$ | $n$次実Euclid空間 |\n",
    "| $\\mathcal{B}$ | Banach空間 |\n",
    "| $\\mathcal{H}$ | Hilbert空間 |\n",
    "| $\\langle f, g \\rangle$ | Hilbert空間上での内積 | "
   ]
  },
  {
   "cell_type": "code",
   "execution_count": null,
   "metadata": {},
   "outputs": [],
   "source": []
  }
 ],
 "metadata": {
  "kernelspec": {
   "display_name": "Python 3 (ipykernel)",
   "language": "python",
   "name": "python3"
  },
  "language_info": {
   "codemirror_mode": {
    "name": "ipython",
    "version": 3
   },
   "file_extension": ".py",
   "mimetype": "text/x-python",
   "name": "python",
   "nbconvert_exporter": "python",
   "pygments_lexer": "ipython3",
   "version": "3.11.4"
  }
 },
 "nbformat": 4,
 "nbformat_minor": 4
}

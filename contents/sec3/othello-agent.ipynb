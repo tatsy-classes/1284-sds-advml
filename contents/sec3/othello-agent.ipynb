{
 "cells": [
  {
   "cell_type": "markdown",
   "metadata": {
    "editable": true,
    "slideshow": {
     "slide_type": ""
    },
    "tags": []
   },
   "source": [
    "(sec:othello-agent)=\n",
    "# オセロAIの作成"
   ]
  },
  {
   "cell_type": "markdown",
   "metadata": {
    "editable": true,
    "slideshow": {
     "slide_type": ""
    },
    "tags": []
   },
   "source": [
    "ここからは、より高度な強化学習の対象としてオセロを取り扱う。ご存じの通り、オセロは(諸説あるものの)日本で発祥した「はさみ碁」の一種で、白と黒の石を8×8の盤の上に並べ、同色で挟まれた石を裏返すことで、より多くのマスを獲得した方が勝利するというゲームである。"
   ]
  },
  {
   "cell_type": "markdown",
   "metadata": {
    "editable": true,
    "slideshow": {
     "slide_type": ""
    },
    "tags": []
   },
   "source": [
    "```{note}\n",
    "オセロというゲーム名はメガハウス社の登録商標であり、日本以外ではリバーシのように呼ばれることがある。リバーシは初期状態として、石が置かれていない状態からスタートするが、オセロは盤の中央に白黒2枚ずつの石を置いた状態からスタートする、という違いがある。\n",
    "\n",
    "参考: [オセロ（ボードゲーム）- Wikipedia](https://ja.wikipedia.org/wiki/%E3%82%AA%E3%82%BB%E3%83%AD_(%E3%83%9C%E3%83%BC%E3%83%89%E3%82%B2%E3%83%BC%E3%83%A0))\n",
    "```"
   ]
  },
  {
   "cell_type": "markdown",
   "metadata": {
    "editable": true,
    "slideshow": {
     "slide_type": ""
    },
    "tags": []
   },
   "source": [
    "---"
   ]
  },
  {
   "cell_type": "markdown",
   "metadata": {
    "editable": true,
    "slideshow": {
     "slide_type": ""
    },
    "tags": []
   },
   "source": [
    "**Google Colab用の準備**"
   ]
  },
  {
   "cell_type": "code",
   "execution_count": 1,
   "metadata": {
    "editable": true,
    "slideshow": {
     "slide_type": ""
    },
    "tags": [
     "remove-output",
     "hide-input"
    ]
   },
   "outputs": [
    {
     "name": "stdout",
     "output_type": "stream",
     "text": [
      "You are running the code on the local computer.\n"
     ]
    }
   ],
   "source": [
    "IN_COLAB = True\n",
    "try:\n",
    "    import google.colab\n",
    "\n",
    "    print(\"You are running the code in Google Colab.\")\n",
    "except:\n",
    "    IN_COLAB = False\n",
    "    print(\"You are running the code on the local computer.\")\n",
    "\n",
    "if IN_COLAB:\n",
    "    # Gymnasiumのインストール\n",
    "    !pip install myst-nb\n",
    "    !pip install git+https://github.com/tatsy-classes/cothello.git@v1.0.0\n",
    "    pass"
   ]
  },
  {
   "cell_type": "markdown",
   "metadata": {
    "editable": true,
    "slideshow": {
     "slide_type": ""
    },
    "tags": []
   },
   "source": [
    "**下準備のコード**"
   ]
  },
  {
   "cell_type": "code",
   "execution_count": 2,
   "metadata": {
    "editable": true,
    "slideshow": {
     "slide_type": ""
    },
    "tags": [
     "hide-input",
     "remove-output"
    ]
   },
   "outputs": [],
   "source": [
    "import time\n",
    "import random\n",
    "import contextlib\n",
    "import multiprocessing\n",
    "\n",
    "import numpy as np\n",
    "import joblib\n",
    "import matplotlib\n",
    "import IPython.display as display\n",
    "import matplotlib.pyplot as plt\n",
    "from myst_nb import glue\n",
    "from tqdm.notebook import tqdm\n",
    "from matplotlib.animation import ArtistAnimation\n",
    "\n",
    "matplotlib.rcParams[\"figure.dpi\"] = 200\n",
    "\n",
    "# 乱数シードの固定\n",
    "random.seed(12345)\n",
    "np.random.seed(12345)\n",
    "\n",
    "# 実験に用いるエピソード数\n",
    "n_episodes = 1000\n",
    "\n",
    "# 並列化スレッド数\n",
    "n_jobs = min(4, multiprocessing.cpu_count())"
   ]
  },
  {
   "cell_type": "code",
   "execution_count": 3,
   "metadata": {
    "editable": true,
    "slideshow": {
     "slide_type": ""
    },
    "tags": [
     "remove-input",
     "remove-output"
    ]
   },
   "outputs": [
    {
     "data": {
      "text/plain": [
       "1000"
      ]
     },
     "metadata": {
      "scrapbook": {
       "mime_prefix": "",
       "name": "n_episodes"
      }
     },
     "output_type": "display_data"
    }
   ],
   "source": [
    "glue(\"n_episodes\", n_episodes)"
   ]
  },
  {
   "cell_type": "code",
   "execution_count": 4,
   "metadata": {
    "editable": true,
    "slideshow": {
     "slide_type": ""
    },
    "tags": [
     "hide-input"
    ]
   },
   "outputs": [],
   "source": [
    "# joblib用のtqdm\n",
    "@contextlib.contextmanager\n",
    "def tqdm_joblib(total=None, **kwargs):\n",
    "    pbar = tqdm(total=total, miniters=1, smoothing=0, **kwargs)\n",
    "\n",
    "    class TqdmBatchCompletionCallback(joblib.parallel.BatchCompletionCallBack):\n",
    "        def __call__(self, *args, **kwargs):\n",
    "            pbar.update(n=self.batch_size)\n",
    "            return super().__call__(*args, **kwargs)\n",
    "\n",
    "    old_batch_callback = joblib.parallel.BatchCompletionCallBack\n",
    "    joblib.parallel.BatchCompletionCallBack = TqdmBatchCompletionCallback\n",
    "\n",
    "    try:\n",
    "        yield pbar\n",
    "    finally:\n",
    "        joblib.parallel.BatchCompletionCallBack = old_batch_callback\n",
    "        pbar.close()"
   ]
  },
  {
   "cell_type": "markdown",
   "metadata": {
    "editable": true,
    "slideshow": {
     "slide_type": ""
    },
    "tags": []
   },
   "source": [
    "## オセロゲーム環境"
   ]
  },
  {
   "cell_type": "markdown",
   "metadata": {
    "editable": true,
    "slideshow": {
     "slide_type": ""
    },
    "tags": []
   },
   "source": [
    "### オセロモジュールのインストール"
   ]
  },
  {
   "cell_type": "markdown",
   "metadata": {
    "editable": true,
    "slideshow": {
     "slide_type": ""
    },
    "tags": []
   },
   "source": [
    "今回は、講義用に用意したオセロ用のゲーム環境を用いる。ゲーム環境用のモジュールは以下のGitHubレポジトリに公開されている。\n",
    "\n",
    "<https://github.com/tatsy-classes/cothello/>\n",
    "\n",
    "今回は各自の計算機上でビルドを行うインストール方法とwheelと呼ばれるビルド済みのパッケージを用いる方法を2種類を紹介する。"
   ]
  },
  {
   "cell_type": "markdown",
   "metadata": {
    "editable": true,
    "slideshow": {
     "slide_type": ""
    },
    "tags": []
   },
   "source": [
    "#### 各自の計算機でビルドする方法 (推奨)"
   ]
  },
  {
   "cell_type": "markdown",
   "metadata": {
    "editable": true,
    "slideshow": {
     "slide_type": ""
    },
    "tags": []
   },
   "source": [
    "上記のモジュールはPythonをC/C++により拡張するためのソフトウェアであるCythonを用いて書かれている。CythonのビルドにはC/C++のコンパイラが必要なため、これらを予め各自の計算機にインストールしておく必要がある。\n",
    "\n",
    "**Windows**であれば、[Visual Studio Build Tools](https://www.google.com/search?q=visual+studio+build+tools+install)をインストールする。ウェブ検索してインストーラを取得したら、インストール時に「C++によるデスクトップ開発」(Desktop development with C++)というワークロードを選ぶのを忘れないようにすること。\n",
    "\n",
    "**MacOS**であれば[Xcode](https://www.google.com/search?q=xcode+install)をインストールすればC/C++のコンパイラが一緒にインストールされる。しかし、Xcodeは開発環境そのものも含むため、おすすめとして、[Homebrew](https://brew.sh/)をインストールし、その過程でインストールされるXcode Command Line Toolsを用いるのが良い。\n",
    "\n",
    "\n",
    "**Linux**の場合であれば、別段コンパイラのインストールは不要だが、この機会にgccやclangなどのコンパイラをアップデートしておくと良い (そもそもLinuxを使っている人に、このアドバイスは不要かもしれないが...)。\n",
    "\n",
    "上記のコンパイラのインストールが完了したら、Anacondaの仮想環境を`advml`や`othello`等の本資料用のものに切り替えた後、Pipを用いてインストールを行う。\n",
    "\n",
    "```shell\n",
    "pip install git+https://github.com/tatsy-classes/cothello.git\n",
    "```\n",
    "\n",
    "上記のコンパイラのインストールに問題がなければ、自動的にソースコードがダウンロードされた後にビルドとインストールが実行される。"
   ]
  },
  {
   "cell_type": "markdown",
   "metadata": {},
   "source": [
    "#### Wheelからインストールする方法"
   ]
  },
  {
   "cell_type": "markdown",
   "metadata": {
    "editable": true,
    "slideshow": {
     "slide_type": ""
    },
    "tags": []
   },
   "source": [
    "予め、いくつかのOS上で作成したビルド済みのモジュールであるwheelは以下のURLからダウンロードできる。\n",
    "\n",
    "<https://github.com/tatsy-classes/cothello/releases/>\n",
    "\n",
    "このURLにはPython 3.9, 3.10, 3.11用のインストールパッケージ (Wheel)がOSごとに用意されている。Windows, Linuxの場合はそれぞれ対応する`xxxxxx-win_amd64.whl`と`xxxxxx-manylinux_2_35_x86_64.whl`をダウンロードする。\n",
    "\n",
    "MacOSの場合はM1/M2等のCPU (ARM製)を持つモデルなら`xxxxxx-macos_14_0_arm64.whl`、そうでない場合 (Intel製)は`xxxxxx-macos_12_0_x86_64.whl`をダウンロードする (どちらか分からない場合は「このMacについて」の「チップ」を確認)。\n",
    "\n",
    "ダウンロード後、Anacondaの仮想環境を`advml`や`othello`等の本資料用のものに切り替えた後、WindowsならコマンドプロンプトかPowerShell、Macならターミナルを開いて、以下のコマンドでパッケージをインストールする。\n",
    "\n",
    "```shell\n",
    "# \"xxxxxx\"の部分は自分がダウンロードしたWheelのファイル名に読み替えること\n",
    "pip install othello-xxxxxx.whl\n",
    "```"
   ]
  },
  {
   "cell_type": "markdown",
   "metadata": {},
   "source": [
    ":::{admonition} 自分でビルドするか、ビルド済みを使うか\n",
    ":class: note\n",
    "\n",
    "Pythonに限らず、実行環境を用いるインタプリタ言語の場合、その速度不足を補うために、処理の一部をより低レベルなプログラミング言語であるC/C++で作成することは多い。しかし、C/C++に依存するライブラリを個々の計算機上にインストールするにはビルドというやっかいな作業が必要になる。とはいえ、上記の方法で各OSにあったコンパイラをインストール済みであれば、多くのモジュールは特に苦労することなくインストールできるだろう。\n",
    "\n",
    "一方でビルド済みのパッケージを使うことの利点はなんと言っても、個々の計算機にビルドするための環境 (コンパイラ等)をインストールしなくて良いということである。Anaconda等でインストールされるモジュールは、実は環境に合わせて事前にビルドされたものであり、その事前ビルドされたパッケージが存在しない場合 (有名ライブラリでは少ないが)、インストールができない、という問題が生じることがある。\n",
    "\n",
    "単なるユーザとして一生を終えるつもりなら、自分でビルドする必要はないかもしれないが、世界中には研究レベルで、自分でビルドしなければ使えないようなライブラリが宝の山のごとく存在している。ぜひ、この機会に、自分でビルドする道の第一歩を踏み出してほしい。\n",
    ":::"
   ]
  },
  {
   "cell_type": "markdown",
   "metadata": {
    "editable": true,
    "slideshow": {
     "slide_type": ""
    },
    "tags": []
   },
   "source": [
    "### オセロモジュールの概要"
   ]
  },
  {
   "cell_type": "markdown",
   "metadata": {
    "editable": true,
    "slideshow": {
     "slide_type": ""
    },
    "tags": []
   },
   "source": [
    "このモジュールには大きく分けて、3つのクラスが定義されている。\n",
    "\n",
    "**Env**はオセロゲームを取り扱う環境で、合法手の列挙や盤の状態の更新などの関数を提供する。ただし、`Env`クラスは直接インスタンス化する代わりに、`gymnasium`と同様に環境作成用の`make`関数が用意されているので、こちらを用いると良い。\n",
    "\n",
    "**Move**はオセロゲームにおける「手」を表わすクラスで、現在のプレイヤーと石を置く場所を格納している。\n",
    "\n",
    "**Player**は厳密には列挙型として定義されていて、プレイヤーが黒番なのか白番なのかに加えて、次のプレイヤーに手渡しする関数などが提供されている。\n",
    "\n",
    "まずは、これらをモジュールからインポートして、ゲーム環境を作成してみる。"
   ]
  },
  {
   "cell_type": "code",
   "execution_count": 5,
   "metadata": {
    "editable": true,
    "slideshow": {
     "slide_type": ""
    },
    "tags": []
   },
   "outputs": [],
   "source": [
    "# オセロモジュールのインポート\n",
    "import othello\n",
    "from othello import Move, Player"
   ]
  },
  {
   "cell_type": "code",
   "execution_count": 6,
   "metadata": {
    "editable": true,
    "slideshow": {
     "slide_type": ""
    },
    "tags": []
   },
   "outputs": [
    {
     "data": {
      "image/png": "[encoded data removed]",
      "text/plain": [
       "+-+-+-+-+-+-+-+-+\n",
       "| | | | | | | | |\n",
       "+-+-+-+-+-+-+-+-+\n",
       "| | | | | | | | |\n",
       "+-+-+-+-+-+-+-+-+\n",
       "| | | | | | | | |\n",
       "+-+-+-+-+-+-+-+-+\n",
       "| | | | | | | | |\n",
       "+-+-+-+-+-+-+-+-+\n",
       "| | | | | | | | |\n",
       "+-+-+-+-+-+-+-+-+\n",
       "| | | | | | | | |\n",
       "+-+-+-+-+-+-+-+-+\n",
       "| | | | | | | | |\n",
       "+-+-+-+-+-+-+-+-+\n",
       "| | | | | | | | |\n",
       "+-+-+-+-+-+-+-+-+"
      ]
     },
     "execution_count": 6,
     "metadata": {},
     "output_type": "execute_result"
    }
   ],
   "source": [
    "# 環境の作成\n",
    "env = othello.make()\n",
    "env"
   ]
  },
  {
   "cell_type": "markdown",
   "metadata": {
    "editable": true,
    "slideshow": {
     "slide_type": ""
    },
    "tags": []
   },
   "source": [
    "上記のように、オセロ環境は初期状態では石が配置されていない。ここでも`gymnasium`と同様に`reset`関数を呼び出すことで、ゲーム環境が初期化される。\n",
    "\n",
    "なお、オセロのプレイヤーや盤の情報などは全て変数`env`の中に`env.player`ならびに`env.board`として格納されており、`gymnasium`と異なっているので注意すること。"
   ]
  },
  {
   "cell_type": "code",
   "execution_count": 7,
   "metadata": {
    "editable": true,
    "slideshow": {
     "slide_type": ""
    },
    "tags": []
   },
   "outputs": [],
   "source": [
    "env.reset()"
   ]
  },
  {
   "cell_type": "code",
   "execution_count": 8,
   "metadata": {
    "editable": true,
    "slideshow": {
     "slide_type": ""
    },
    "tags": []
   },
   "outputs": [
    {
     "name": "stdout",
     "output_type": "stream",
     "text": [
      "BLACK\n"
     ]
    }
   ],
   "source": [
    "print(env.player)"
   ]
  },
  {
   "cell_type": "code",
   "execution_count": 9,
   "metadata": {},
   "outputs": [
    {
     "name": "stdout",
     "output_type": "stream",
     "text": [
      "+-+-+-+-+-+-+-+-+\n",
      "| | | | | | | | |\n",
      "+-+-+-+-+-+-+-+-+\n",
      "| | | | | | | | |\n",
      "+-+-+-+-+-+-+-+-+\n",
      "| | | | | | | | |\n",
      "+-+-+-+-+-+-+-+-+\n",
      "| | | |x|o| | | |\n",
      "+-+-+-+-+-+-+-+-+\n",
      "| | | |o|x| | | |\n",
      "+-+-+-+-+-+-+-+-+\n",
      "| | | | | | | | |\n",
      "+-+-+-+-+-+-+-+-+\n",
      "| | | | | | | | |\n",
      "+-+-+-+-+-+-+-+-+\n",
      "| | | | | | | | |\n",
      "+-+-+-+-+-+-+-+-+\n",
      "\n"
     ]
    }
   ],
   "source": [
    "print(str(env))"
   ]
  },
  {
   "cell_type": "code",
   "execution_count": 10,
   "metadata": {
    "editable": true,
    "slideshow": {
     "slide_type": ""
    },
    "tags": []
   },
   "outputs": [
    {
     "name": "stdout",
     "output_type": "stream",
     "text": [
      "[[ 0  0  0  0  0  0  0  0]\n",
      " [ 0  0  0  0  0  0  0  0]\n",
      " [ 0  0  0  0  0  0  0  0]\n",
      " [ 0  0  0 -1  1  0  0  0]\n",
      " [ 0  0  0  1 -1  0  0  0]\n",
      " [ 0  0  0  0  0  0  0  0]\n",
      " [ 0  0  0  0  0  0  0  0]\n",
      " [ 0  0  0  0  0  0  0  0]]\n"
     ]
    }
   ],
   "source": [
    "print(env.board)"
   ]
  },
  {
   "cell_type": "markdown",
   "metadata": {
    "editable": true,
    "slideshow": {
     "slide_type": ""
    },
    "tags": []
   },
   "source": [
    "また、Jupyter Notebook環境においては`env`を表示することで盤面を表わす画像が表示されるようになっている。"
   ]
  },
  {
   "cell_type": "code",
   "execution_count": 11,
   "metadata": {
    "editable": true,
    "slideshow": {
     "slide_type": ""
    },
    "tags": []
   },
   "outputs": [
    {
     "data": {
      "image/png": "[encoded data removed]",
      "text/plain": [
       "+-+-+-+-+-+-+-+-+\n",
       "| | | | | | | | |\n",
       "+-+-+-+-+-+-+-+-+\n",
       "| | | | | | | | |\n",
       "+-+-+-+-+-+-+-+-+\n",
       "| | | | | | | | |\n",
       "+-+-+-+-+-+-+-+-+\n",
       "| | | |x|o| | | |\n",
       "+-+-+-+-+-+-+-+-+\n",
       "| | | |o|x| | | |\n",
       "+-+-+-+-+-+-+-+-+\n",
       "| | | | | | | | |\n",
       "+-+-+-+-+-+-+-+-+\n",
       "| | | | | | | | |\n",
       "+-+-+-+-+-+-+-+-+\n",
       "| | | | | | | | |\n",
       "+-+-+-+-+-+-+-+-+"
      ]
     },
     "execution_count": 11,
     "metadata": {},
     "output_type": "execute_result"
    }
   ],
   "source": [
    "env"
   ]
  },
  {
   "cell_type": "markdown",
   "metadata": {
    "editable": true,
    "slideshow": {
     "slide_type": ""
    },
    "tags": []
   },
   "source": [
    "## ランダムな着手"
   ]
  },
  {
   "cell_type": "markdown",
   "metadata": {
    "editable": true,
    "slideshow": {
     "slide_type": ""
    },
    "tags": []
   },
   "source": [
    "まずは、オセロ環境の仕様を理解するために、白番、黒番ともにランダムに行動させて、どのように状態が変化するかを見てみよう。\n",
    "\n",
    "`env`には、現在の盤の状態で取ることができる「合法手」の配列を取得する`legal_moves`関数が提供されている。"
   ]
  },
  {
   "cell_type": "code",
   "execution_count": 12,
   "metadata": {
    "editable": true,
    "slideshow": {
     "slide_type": ""
    },
    "tags": []
   },
   "outputs": [
    {
     "name": "stdout",
     "output_type": "stream",
     "text": [
      "[('BLACK', 4, 3), ('BLACK', 3, 4), ('BLACK', 6, 5), ('BLACK', 5, 6)]\n"
     ]
    }
   ],
   "source": [
    "moves = env.legal_moves()\n",
    "print(moves)"
   ]
  },
  {
   "cell_type": "markdown",
   "metadata": {
    "editable": true,
    "slideshow": {
     "slide_type": ""
    },
    "tags": []
   },
   "source": [
    "上記の出力から、黒番が3行5列、4行6列、5行3列、6行4列の4箇所のいずれかに石を置くことができることが分かる。\n",
    "\n",
    "着手を決定したら、`env.update`関数に手を表す変数を渡すと盤の状態が更新される。"
   ]
  },
  {
   "cell_type": "code",
   "execution_count": 13,
   "metadata": {
    "editable": true,
    "slideshow": {
     "slide_type": ""
    },
    "tags": []
   },
   "outputs": [],
   "source": [
    "env.update(moves[0])"
   ]
  },
  {
   "cell_type": "code",
   "execution_count": 14,
   "metadata": {
    "editable": true,
    "slideshow": {
     "slide_type": ""
    },
    "tags": []
   },
   "outputs": [
    {
     "name": "stdout",
     "output_type": "stream",
     "text": [
      "WHITE\n"
     ]
    }
   ],
   "source": [
    "print(env.player)"
   ]
  },
  {
   "cell_type": "code",
   "execution_count": 15,
   "metadata": {
    "editable": true,
    "slideshow": {
     "slide_type": ""
    },
    "tags": []
   },
   "outputs": [
    {
     "name": "stdout",
     "output_type": "stream",
     "text": [
      "[[ 0  0  0  0  0  0  0  0]\n",
      " [ 0  0  0  0  0  0  0  0]\n",
      " [ 0  0  0  1  0  0  0  0]\n",
      " [ 0  0  0  1  1  0  0  0]\n",
      " [ 0  0  0  1 -1  0  0  0]\n",
      " [ 0  0  0  0  0  0  0  0]\n",
      " [ 0  0  0  0  0  0  0  0]\n",
      " [ 0  0  0  0  0  0  0  0]]\n"
     ]
    }
   ],
   "source": [
    "print(env.board)"
   ]
  },
  {
   "cell_type": "markdown",
   "metadata": {
    "editable": true,
    "slideshow": {
     "slide_type": ""
    },
    "tags": []
   },
   "source": [
    "`env`のJupyter Notebook環境における表示により、黒番が3行5列に石を置いたことで、着手したセルがハイライトされて、かつ、盤の状態が正しく更新されていることが確認できる。"
   ]
  },
  {
   "cell_type": "code",
   "execution_count": 16,
   "metadata": {
    "editable": true,
    "slideshow": {
     "slide_type": ""
    },
    "tags": []
   },
   "outputs": [
    {
     "data": {
      "image/png": "[encoded data removed]",
      "text/plain": [
       "+-+-+-+-+-+-+-+-+\n",
       "| | | | | | | | |\n",
       "+-+-+-+-+-+-+-+-+\n",
       "| | | | | | | | |\n",
       "+-+-+-+-+-+-+-+-+\n",
       "| | | |o| | | | |\n",
       "+-+-+-+-+-+-+-+-+\n",
       "| | | |o|o| | | |\n",
       "+-+-+-+-+-+-+-+-+\n",
       "| | | |o|x| | | |\n",
       "+-+-+-+-+-+-+-+-+\n",
       "| | | | | | | | |\n",
       "+-+-+-+-+-+-+-+-+\n",
       "| | | | | | | | |\n",
       "+-+-+-+-+-+-+-+-+\n",
       "| | | | | | | | |\n",
       "+-+-+-+-+-+-+-+-+"
      ]
     },
     "execution_count": 16,
     "metadata": {},
     "output_type": "execute_result"
    }
   ],
   "source": [
    "env"
   ]
  },
  {
   "cell_type": "markdown",
   "metadata": {
    "editable": true,
    "slideshow": {
     "slide_type": ""
    },
    "tags": []
   },
   "source": [
    "オセロはルール上、着手可能な手がない、すなわちどこに石を置いても裏返せる相手方の石が存在しない時にはパスをすることになる。\n",
    "\n",
    "合法手が存在しない時には`legal_moves`が長さが1でパスを表す手を含む配列を返してくる。その手 (`Move`)がパスの手かどうかは`move.is_pass()`で判定できる。"
   ]
  },
  {
   "cell_type": "markdown",
   "metadata": {
    "editable": true,
    "slideshow": {
     "slide_type": ""
    },
    "tags": []
   },
   "source": [
    "これらを踏まえて、黒番、白番ともにランダムに着手させて、盤の状態変化を確認する。"
   ]
  },
  {
   "cell_type": "code",
   "execution_count": 17,
   "metadata": {
    "editable": true,
    "slideshow": {
     "slide_type": ""
    },
    "tags": []
   },
   "outputs": [],
   "source": [
    "# ゲームのリセット\n",
    "env.reset()\n",
    "frames = []\n",
    "\n",
    "# エピソード開始\n",
    "while not env.is_done():\n",
    "    # 現在の状態画像を保存\n",
    "    img = env.render()\n",
    "    frames.append(img)\n",
    "\n",
    "    # 合法手の列挙\n",
    "    moves = env.legal_moves()\n",
    "\n",
    "    # 着手可能な手があればランダムに1つを選ぶ\n",
    "    move = np.random.choice(moves)\n",
    "\n",
    "    # 着手による盤の状態の更新\n",
    "    env.update(move)"
   ]
  },
  {
   "cell_type": "code",
   "execution_count": 18,
   "metadata": {
    "editable": true,
    "slideshow": {
     "slide_type": ""
    },
    "tags": [
     "hide-input"
    ]
   },
   "outputs": [
    {
     "data": {
      "text/html": [
       "<video width=\"512\" height=\"512\" controls autoplay loop>\n",
       "  <source type=\"video/mp4\" src=\"data:video/mp4;base64,AAAAIGZ0eXBNNFYgAAACAE00ViBpc29taXNvMmF2YzEAAAAIZnJlZQABMgdtZGF0AAACrwYF//+r\n",
       "3EXpvebZSLeWLNgg2SPu73gyNjQgLSBjb3JlIDE2NCByMzEwOCAzMWUxOWY5IC0gSC4yNjQvTVBF\n",
       "Ry00IEFWQyBjb2RlYyAtIENvcHlsZWZ0IDIwMDMtMjAyMyAtIGh0dHA6Ly93d3cudmlkZW9sYW4u\n",
       "b3JnL3gyNjQuaHRtbCAtIG9wdGlvbnM6IGNhYmFjPTEgcmVmPTMgZGVibG9jaz0xOjA6MCBhbmFs\n",
       "eXNlPTB4MzoweDExMyBtZT1oZXggc3VibWU9NyBwc3k9MSBwc3lfcmQ9MS4wMDowLjAwIG1peGVk\n",
       "X3JlZj0xIG1lX3JhbmdlPTE2IGNocm9tYV9tZT0xIHRyZWxsaXM9MSA4eDhkY3Q9MSBjcW09MCBk\n",
       "ZWFkem9uZT0yMSwxMSBmYXN0X3Bza2lwPTEgY2hyb21hX3FwX29mZnNldD0tMiB0aHJlYWRzPTE1\n",
       "IGxvb2thaGVhZF90aHJlYWRzPTIgc2xpY2VkX3RocmVhZHM9MCBucj0wIGRlY2ltYXRlPTEgaW50\n",
       "ZXJsYWNlZD0wIGJsdXJheV9jb21wYXQ9MCBjb25zdHJhaW5lZF9pbnRyYT0wIGJmcmFtZXM9MyBi\n",
       "X3B5cmFtaWQ9MiBiX2FkYXB0PTEgYl9iaWFzPTAgZGlyZWN0PTEgd2VpZ2h0Yj0xIG9wZW5fZ29w\n",
       "PTAgd2VpZ2h0cD0yIGtleWludD0yNTAga2V5aW50X21pbj0xMCBzY2VuZWN1dD00MCBpbnRyYV9y\n",
       "ZWZyZXNoPTAgcmNfbG9va2FoZWFkPTQwIHJjPWNyZiBtYnRyZWU9MSBjcmY9MjMuMCBxY29tcD0w\n",
       "LjYwIHFwbWluPTAgcXBtYXg9NjkgcXBzdGVwPTQgaXBfcmF0aW89MS40MCBhcT0xOjEuMDAAgAAA\n",
       "FrRliIQAEf/+94gfMstp+TrXchHnrS6tH1DuRnFepL3+IAAAAwAABHUc0eeasjtsuwAABZwAQSov\n",
       "7g8VYAHIaOuIdIDsTsv5jz2TO5IGnXLYtiDBw8Sue50yJW5qAbo4PmgWn0Xp+Cbf8t7auKDFU54a\n",
       "Vob40nu9Me1o1kRKG6ECXtbg6hmHc+tww+eICtoKdDig07QYfr/tpTOmQIUSEozXHdZS8Guyi23b\n",
       "8/mm+kpYGtoHGfQx36sCszZMg0n8dA3ZaijJwRBr40oJNC1HfOKykZklRz5BGQmwSm3ye6tPtSDy\n",
       "svwIOu0zR2z63dc6eg+1d77RRJZWhd/eHD4UF+YFs8vIEH2WJRyqbUYChmkQHZVMa3H4tm/7G5Z+\n",
       "bsXQKIvk/TXJAkormJmIf8R/555X8sXw0TOLavC0fGxJ/v2FN9xb8kS2FaA8Lmrjrp+sRz68VAjy\n",
       "BHUTeMDnhCImLhR5nrkshFL2cyWmS/Ds5gfepEgRWoQUPv7RqLH8n4UUQ+HsSba51LI8eFWv7qoh\n",
       "a9QD20ms747l8kukoJMkZ9XvzM0sV1XGyrbKT6Rjxhe70uUT5DotHRftYFA/natMyrYbJbErbA99\n",
       "Zc3IYggD4Q+Z17BLqxHEo8R+zSkKkKTvJnraUf1fA1mpW4vq7QQ4AD1uBnQ45pcYxu8thPmsrRwd\n",
       "fxCDwdH2G5I4vLieUIaEXW8R+k9fhD16CZJZjtL3IcsjB09ULqLUmK9fafMuXQTOhhP/pR7cvAOF\n",
       "P5fuuZBzk7wlgUaO2c9St6y9TgD8uPGShK/rcecMHeym6d/zaCIUjtTFXVac/iZ90I4NQgnFS8JE\n",
       "KxQ1a6UezLIJO7bSicOrvwyYycoX7LvLxt5zul/lCm9AtWxU2PDv5laMAk9Vh34WW11gj60Y0yHJ\n",
       "z0Txh70KqQo3woK5shGiz1t6L244VCKpHy48suO9BwcuC5ao/Uk1oKmuMMlUUeIdrf3iEQFXCd8N\n",
       "aTr+PL97t9wi7UDoTdJ7pzXpv6d4vs/2wPtEmHbHkGcTMRYA2jEPBYMdmeqq97oLwVByk4sPMCTy\n",
       "u6zvdqzk/zUfQl30cPYL5UtCdVhjP7avJ8bOyP3BdOKRKiDPG8pxptS07Nwp9vidqA+jTaSD4Ra1\n",
       "DimBkf4jAOdhlef+XyDkDkFEovpufmt3Y9YJtGgOAHTRK+DuInEC+8lEr6xNCIw1TntnDVWOhJdL\n",
       "5MkAcAJsCEIp+fsXjk16CAK9wb7G6O+zC2ocBn8vZ/UOfyt8/TMIBvgL1DIdKzpYZhRl6eNQiI39\n",
       "x8TWs39EUyX4iv1+RcylSO+3vAKM2oNwwmEaL+tqyK2Dd5KXXZGQfjdALeB4ElGHwUO5T3At+n+A\n",
       "OCAz+AUMaml9RvfaH2b2OHrYXuPUsv8ND45Wc049xRJlaCdnrqCO+oymttHVHfaxgjwI+3+eL/gy\n",
       "i5goNNJdJ/1X+85ETQzGKLAOrF0m9lwORJpVoxhWlJFhzkiohN1YHvL83zDJJMepAMWwz/v/+k0G\n",
       "lCrAIAhVWSnLif6WB9cYj+BftzeA+74z+Lo244BInWN2i3DU2QJpcdWkBypWzIICYMN9ArF8C/id\n",
       "xBPV0ckuW7x9lWciP56mdTdxe9ACAKZEyt5HCZ3AWJxhXtE+QN9Y4RrCGQ1iEpDfNY+2Bzs2pRIT\n",
       "0GKzhi9nRVdmNXlYDkkIncicKPlFXlqMkDW9qVS77GA2yS9Y7MzZsz577CzFWkimJ8TBuF/jHoZm\n",
       "dwNCnfEtZ1gNpAYQOdLujBbvyfyPg1YF1z9lFQgaWQ6mXJ6ZrfErHe++bS2pFHm8PuXS7XNYaj3b\n",
       "DBiNYI0t7USzTQk6mfv/NxqsAuWSWXhY/1KGODjUxtXtbupgKUb9Rhn4N4TSFd3zyUyOtJxYq6q9\n",
       "AYixhsMSIOc2HokLIzwfHB3keO5qCMDt755wvlS/2HZtvWww2Rag9PHhYc0/eX2/PjmpsLG4TT3D\n",
       "dSXvR/0c9OMXDW2jId31rljQfTl1+p6/YGCCGf+VQ6S9fFvTrZs251OeCv308wJplSLuNdIvtnI1\n",
       "L/dyrNyuUbs/iPWNgEO4yDMXhnjzzKC+INeLyii5zRM7CCfRxXmo5VK/zT6bvRtE8D80RA0uoeS/\n",
       "va/YL95Da7gRIZrH2fuQHk6q2BjHU1Glmee9mmSwqPkLJC1IlQmb6VLNKLz94kU/ck0bCH5RBnyH\n",
       "/5R6Y/zir59wBaLpSQYDqG44DFGGTbFAZ9BovAw2ZvyvAgBM3E4qRpJR5rbvUKnStnwWS7l87hfr\n",
       "QiXk/JMYIKrcCKvZiKvLmimvcrAn77GKXzxqZAt4BfvON80PV8O0imJYlFcEgMR+9+farcMod5Wf\n",
       "JqWYWEJTcCpyopz35klPSX4yUzb2955pJstVzJcK2Fzn9UsP3SubxY9VA1Ln/ZYjh/sDqAIkuMQp\n",
       "Tgkz7/AtKVNhsPRubfaJd8C391iX+sgKKZYuia0OQ0eDdPvJ1ZW8iTkYYifBD0GlfIklzfK32xXj\n",
       "gJ+/ZauyNvgD5ygtc4GBpO7Ws2GxHZWSkFWooIyY/zjVSIdG+hIWUw0y1tt7iSE7ozizi8AUsJHF\n",
       "6kMCVdglbYvqy2InQRLN8iLFsLTfeoe4NJLrzlF6+EZBo90hshpTtmnSmpp+2DksSZGSX25PRayD\n",
       "UtcIRGc4nnein53gTd+QwLe462lehzjASX0rWg8djUYnuyAARildy/PppWb00HO5YkkrAFQPwDkH\n",
       "xg+KPD5ayO8rkLLKrgqprL6u0uTAc/QgEI8ef8FNbk7Q2KkdAN78H9Ok/uFoHvSo9Q4h4UOGNm9K\n",
       "lM1eeK+5/hpxa74K1I3a0rRvm9k2CXiLxlAzT2my//V0LI5pS36PEvCF6TUB0o0CQKTU3owWQ/Ah\n",
       "e4meq/OlTXKe0tYLqfXOGL7EPPJp/y4txHub1TKF6OcfM5bL6LDESd+Q+5kJxZ87BqbZ8/dEuI8d\n",
       "9drulsJLPgzsbm06lS/q8h51RU8uujpXQHYnQQhkQ40ggKA4KkiPJk7PI657ucJtcT6Yibu0xjsd\n",
       "CQkcxLAzUZoqwvpsUUla9PZr6pB8LBCA/4IzMF5HUCQiyo609qEGGk6PlmQiA4HB/b2u6ju2ICrq\n",
       "3W7XhzadGVLpUYD4hnS1c/ZcGB8PUYyPB7fP+uCvDnhELeIX1pW+Zbya9xGU5cYzLN9VzSpKgm0c\n",
       "lcM43eupiBJ5As6dZklFQH4E2/gi2NWmz6OKLk/d8h1soAfI8i/8nvotd8WJWhwRp733XlGn0iPC\n",
       "mcCa0kY9920MOTX+fO3YaWUnQgCXToF5towmCyDdnrb4We3oqp3BwY/KWXg1c/t3+QouCE2VjQCE\n",
       "2H999hBL0DYfTUKBzt4fStyBd5bCeeTuFBriWKWPC386Wafv4P1ZwY5D6kJWdZRKLKUO+aV+3GPx\n",
       "lqN+d3RB9EqOJzUFONebWxKcUnAuTdzvUDhvq8sfxkhhFVQK1QutbyB4PIBd1P2sI8EcT1cL2jCt\n",
       "2++H4iIWHRAgYrbGXKcnquthGGqErUsWLT1iMkZLb+vfiALmXZ17eHEVE1VCqpdj8tbBI+0YBZFT\n",
       "kC+ihlB2RloKEQ0V+FePWjzolswLSnMBLVIPBZrMTt42oHzp06QHjQ5DPyqh9C2oiElmli2Dg5A1\n",
       "OZ8ubmBhWrvILwkHnhCO2szQY0Vef8sSDYiniUuU6FJtm44E+1CDNWhVjdAY+NbPtOiqV++zJn98\n",
       "t8r3cSTHugaDDUYtC3hh3FjIYefN2g7f1FE953N//bYikJuUFOzeQXjHJ/Oki/Q0kp/SA6R4gML3\n",
       "PhDUxtZbxQB/CNoY8rNalATQED65OsvlxLb/GoqT8I+hau5EfJXL2HxcwLHD1ZVoE0lQZeMUmwcU\n",
       "F0shLm361kDvhF5GL1DngKhNz2xqIgitT+NAmFdEqmQsWqjwNbvjwQo4x2ZYxyRvIZP/VFc+6Hmq\n",
       "1gfJ49ayayqsoCZINnaWNDlMH6qpP5B8FXTP04L0fi3bK6rkQed4keRUMHvFTfxInYHsHvNH18Ca\n",
       "weuqUF4ZMCxk4pFQ7VeOq6YbJ3l91BghhKBUy46FwdJU4RFuOFJKDtiGvAP489hQII5at3sRCvp9\n",
       "zr98aRR/tCeVpFQ4nqZAMxJQ2fTT93Q4NzFo1DZtKTJT92jEJPWhvfLV3RICoMGlj5C9oT4giGIa\n",
       "saEcOuvOPjAuEkAjmPiccXViZWB71NMuXxE9T0/E9gk7SKwV0JAhXRzNmrey/yuCnbpeNiNvaeDS\n",
       "HicYXqegfwIOUjthHYETxq3lw1FJnY1Iyt9N8YTW3hai5keiWYZaeKGL9vmXbFmyif8BvS3yM1X4\n",
       "9feXk7oFa0qzbm6b7bfcHQw/m1b5jXl/9Rfue8VXfPTbApQW3X65IOgOrWpx4/G/sLLwhbWw90fE\n",
       "mVpGO9ZgjQgDVvanzZ3Ehiiustfqh07XIAo/CbLdOqTJvLpxZfjEzXBT1VfmbWHkALn9kfMUxDIi\n",
       "SQS8Wmvh83s9l0lmv3OfItI7eDstab0ccpEphrLtcjNMwjC5RDHkzg0TMgkc1suo+VNkiJikM2mk\n",
       "K09AMmUtu5FI0xvuzh4kitXqxW9jeryMwDXvzsv3xeLjZ3piip9ze3GGzQxiaas9KSVfPBbJN+QN\n",
       "ApuPX4bOweBff14QpeDwhF3iiQee8KGAGEm1yh0Yfyi393sluULHhTESALA4hlTcUJbo3nbVl3lY\n",
       "+68FGBeJWpRfw69fgAAEnh4ZJ2ToPCNy8tqSdeUcsWxchzs69UPZXKka8Whmb/ov7OcloSfR4QEQ\n",
       "BqZXaVCwR19sH0Pu2R8VQxfFAEcTjzdu/mfhuiBgFaCg1y3jLOhN3tMIyP/odPTnM0DhGqLDUUvq\n",
       "2NbAInqBX2RPo5Jo1mbg4XPnHRo5PSM0lYtKdaaMCqpYpMosGgy5rnjaT+KQbPnlwxwyZnRhWTnA\n",
       "eBD12gnkRJaSuK/h/CwoWllmqPxk9BFxgy0gi12I6AY4F2ZuNPf0fHivs4zqkVnSWioy2KyANmMv\n",
       "gq5H2Th2zLFyzPG59e1TB8I92JzLTfQ0XNCysqowB3HQhu23fE/RBxZY0z9ubSq5Rr9Qtfp/V/vc\n",
       "cy0WNnTnMoA98aO8K2Bq9dWjdvf9xuWsL3z/OK+MpXlc6uDL67jgrQ+zUoS8wYDfRucHJZKouUew\n",
       "O/yKT6es+hjQcMD1raRNpe/Y5mo+zOnl+OLt/jzxrgfMWRdef8P8ddHplbdzrVPRA6pxs03TGSrY\n",
       "o4Oxh6SocT+v4iNv5ZltnYXVjUo5E/AnjJts2y/2Vh49n3iyZVCx7vOiFb79g6nSRLAUQK5W7+y8\n",
       "D6JKbZqctLqCAN8A9lMpxLZMWdbuV75aSMVQpBBei8PDfSPQhU2pT6g8n9xG3eF+o9Iyxnbi4GSO\n",
       "39PlvaRgvyJrNSln5Eog3n9aWY/r/yhxbebvzrxxsyohmxrYr6MSg9YuEKPre87HFhxNAGFACeBA\n",
       "+d9JXfVydpKf6pJ5QR2Lk/lbVdpOzrqcIfsfkroGdoarcUvANacE/fyUioX0KqTYpB7gblYkJuna\n",
       "AOYppZucRJUnfr/la2iTMoJrhw0HWUs0X0ZxC7t7pMaH9GQoc0v2z//8jiAcn16n/7829armYbrD\n",
       "9dP3S0kYp2I9GK+aacJ3uzG8obyn7XsE80/zdpmmaxmytmIfL+IIIVyKFlD5FJLL0hnFr7Pwk+c9\n",
       "ESmgYCePIMyO/hvF6eFttgcp3E3BDg6jbFJt82e+Qq+cLfdqo3ousTfsuxuAPG+4Q2wM1DYh8BaK\n",
       "Y9Z17Zi4gAqkS/13/HBUQWK4QjaqfWycJhGyI6uLr3fMxN2P2sRVPnMkcPoI2v+HpRjly7VXMKx4\n",
       "cQxF7gLyWNJqNIO6I44XNJcsEfI8UTSiE6mYEf+kXWVrfKXn4pYj26avP+Zqp7xl1d/Jcv2Lybcq\n",
       "ywFW0SAbaBJ8Vjjc0YQrIz0rOacAezaL4y6Q+BZ8dOe8JQe91Mk4mNA3r478sPciKLTOoaZJrX3i\n",
       "3uxr/LRN9VNP1xx8Gc4Emlzpxfqz4VSRMMEl7I7xjq/bigBy231fvwuvC/+5HdjXu6PZabg1hXow\n",
       "aspw+5Rs9qRNh+tp39lWHTD2LyMNp2/H3b9CwxFuAExS/ozq3QPGYRBaqWAKnXfS4wDG3FPIfokD\n",
       "HMAooNmZuU6P/oT+6j5T5+l9+2IKUsfyDSA4TNTicBMEF27OdP+UbANKaVRH/y8qgUOm/O3/A51v\n",
       "IWtQzrBydCnSD54P/v3XEADXr8jlaXDJCDSEMkUns18DloWZevgYebaZI8UdZuRL39tLI9KoH3xm\n",
       "c/j59wh+fDi0jt/gR1YrAyqo0roTuK1Pot50uIVVV91AR50dQf/AS9tclspXsfuk4B5rTEQqMPxG\n",
       "vP+/Scddcw/ZE7zZJp3MquXD4gA3gu+PNOyAqgfVS2DheY2N3Nx6kZ4IOoFl5WyJn0z5GgsqO4SE\n",
       "+bfhtdJx9+twkDugD0SbqLbLiziDubrw8LR1tg7awgsDI8KBe8clIDxuNTXf8b/sC0XwC3m1yjwc\n",
       "9R1B+EzXMJlQbdC99KcYPt4Udh66MDJwaleBISszOlyF+UnVZaJgBj0fbMc/zX6oeoNp/hd/R9Gw\n",
       "51TlbDgRHz9rmmycAYszJAh0WbREyE4UsW4Jc3/hgcDyL/P7RxOOmOgVFwhMt2H1SQbj1dTaB7OH\n",
       "g3Ii5hj+XJuTPQNSGL3VxVT3VbFl1ZgnQdb1LMA2KUzf8qUH4OjcFHKEI6WvPbFixYYOwi9DDySY\n",
       "XdwmaH/N9+IQy8xVztLAq8bReGPt8NxOyWv+NvESXEtCeEVczUwrNR4Dq6zmvUDCFRBCQs7XV4Zx\n",
       "j2MDuf6KYKUD/jZfY/CdSiYvz6F1dFu2QIKFIBFa5//xTvV7R/DsmPFbTGkKiAx3V1gb9X1MmCtu\n",
       "AsgyNBE/rPC7aM8CO1YA3Km+yecQZJRnA544hW13JQLdqNC5fi0owNViz98QBieHSj6YFiey4/I9\n",
       "7wlBoOD/jJ8iFtnhJS20B5tdwM4FyFPZjGA/2aO1KAf8nEhwPaKLDWtrOizRu2gTOIdHKuvQz6J5\n",
       "xrlVjgHMcHZ1TZJbbH5+XVF817mWWoqFy98rxcTOicEAILqNGhluj8PmD7riEzP+0UTc3mmaZj6v\n",
       "eybJBhpsio/iEwPNjkfsAu4UvzUNxDXy+16BmC6K7xssKQWRAQVcKADE+4w6nv7yLGTuAtFzeS/O\n",
       "Uao+4n4j1OoeSkSA+TXBX5BujQDt2yifzjDOYiNoyyslbWxA52jiFehxXEvWhqZsoqL2YIVAjaS8\n",
       "Ap5UNVl6PnoK0OYu46n3TgbawgVTc5hdI++Pg3U0Yk3uj9jod0MRWVG9VE8qvdxzZh33dyae4b7W\n",
       "YaBup3LGkfHgcHf+ndcn+oxoP59Bi3iXVfUOlFfOdGMp8vLsaPzzUZQ68jNEhAY5zm4hoWptywVF\n",
       "9E06ZDszsoLQS/15uW2LtT6h/M5dlWMxUAghjCEf2GFBmXBxnWKLsp8r+HNDYemWAqPjjuO6nlBY\n",
       "L92QmLdR3v28f2XyBWu+Khkaj6ra7Z0B5mxUH0JseaUkmUaaHjp1gufWYpge5+t5O7hFtNcXGuCB\n",
       "EVMQIA4reE2SoTI+HL0nDm7mhcl/jCq2ZlnoSENSRMcvT55as0GqfNXneI/8gnaA78OzG8tVa5dK\n",
       "lCGT3bWzgF7BxusQ8nVTpvXXEhCrxLK2JJFKSmTKrqbkVjY7RltbL9JE5XxZ1pAZWcfAKZ/YAALT\n",
       "AAAIs0GaJGxBD/6qVQATBghmAKAj5JL2rCbFfAAZizDKd0PsWRJ87n9/gZFacjeg9P5ayRtsgJIQ\n",
       "7r/FoRgrJP/yzno758fV980DaGY4+YS6kJlMJdVuuqjNDuaS6HBt3aqHPg4tqNFiVfyL2VE0B2rf\n",
       "EXnOo7aBsU8NDzNvYAFJ4EEiTruTSm+JNd93Q8hJRkyAQFEQGoybUNxu4o5ysCrUrrE/CJvi5WHf\n",
       "0i2ZXn9bmVUBbjdIBzbiSnSqoGhykSsxDJvBvuYHPbrOyMJZyea5DMuew5eEYFOAlU51uRPD+HiA\n",
       "97fsxK1poyKiMK/rezUKM2icl/XlOlcEzcG39gpJDr4bfHYgF2e44a68AaIjk5DXovIhcgmX9bLa\n",
       "x3hCZictXsd/vBeuIES1ks0Gy9CCLjE9Fdv02qvwkoFtSn8C0KRpDo/t7YC9RrMxajC3l2mIkU3y\n",
       "GBcfPNXP/sbvH5razJmKs4wZdk9tsAorCe/IiuhZJMkdGEi+nI/4dfAVFj0Rkvze/+vgMFfAu1k2\n",
       "fd8fdinl7pa0VoXZKDMULcnz1OYWFOylXV2rm020JnV/PN/5kv62UeeUUSWg86HsXhwPXfDaSH27\n",
       "YAJJCL1YPRCftq44d8I6SUlReK2OE43HYQFCN0TRYuG3EDvD2N9F54hFvH3qz7wv1WbUv8RSylnA\n",
       "cZQ7TCVAtBYKtc6jPjXT7zg8uUhZc0iEwG/xj2N8HaF/MGlbkmCSSjpl7tcmtJwoOZ+Kb6sv4XBW\n",
       "yh38JOWjDmsubicp9q+g9GvctH1BhH/d+nQE98f1bFyU4MaUq7Ur9rjCsYJXQQNxOiaBS47K4gJq\n",
       "8ujJOWTLcv21B45s1bilDIZMwCFq0tijLAN0PjUy01LSbDH7ew8uTc+uRkGqmbAsx3hymWgxbYYE\n",
       "s02Tvx1RuJrVh/ya3xs8kGPGGShwFaR0GXAvgOZ2MErZ2CzqXhVCw6W/5kdeZdWSIAPZ8uTv0mwb\n",
       "AXIQIIyegbhFL5luxagHKjoQkV/r0hfPr4sLRJZ4AqOTzVJnTY4aBEwJQVDs+9uoYLJpbYboI1er\n",
       "EHQzdih5m6J405CUk0JpLZakeIeh7D/3b+/6R0IWHYo43sWE4X6gWc9qiqibQUtJknlwCwo/H8F6\n",
       "G9EkecAi2DpIMLjZzbQ70iSTdm9zWK0QpZNcgTDoLX1fUl4vBLcw8n/t4BQzZDmaDtVVNUNlsO9d\n",
       "R4RSquOgIIP4Yj5DWQCSLpJinTMd5VXMMOWQwIBt4RoM13mryRQ5alfmU88Gdu+1evasMTfzMnC9\n",
       "KM4qGrEJI+RmU8kmTo+maQw9TDCFQ5c6L4PaE0RZ8jTdaW0KsY1QbWrTSEYJB8C1NrHNznghCzkf\n",
       "BnogjjiMKWR2aRt8UCGFWsKaIgtHaKo7xBgci7S4tb3rr0Bid8uQJ0p3DfTkYbyGZGKm+9r5VOnO\n",
       "lx7AznLnY6zGkeLcDWBP5dKI6XaheoCMV170VpkycgVjuKXo7rB34L/PEsy6BTvxSkw5mHSWwz2m\n",
       "BJl6poDOJqMy39SJk/R+VmoCyhyAoqJGxIead30IiDNXy/dsal2JGKi8m4/wWkHNnCCAH3Ewy9+C\n",
       "PYZIMRDunOTCqWpUbmMXOhjXli6nGRGYAJvORy+slE00qiGY5+bJekH5x7dTfrzctqxs59eT+3fw\n",
       "6FSjcB9WlNLWYKaHKet4AjZiVZH8BcW+L+PSc+X5Ats9TfFGh1bI9eVK0o2bXRFwlghgyBrL1Txh\n",
       "44vN/ytTUENgIZhJfoCgLbbTlLZtaLYXAWgRR8m1XcEB6RcB+irM1+klY4LMyBqF2v2CJf6mqHOe\n",
       "6Bpi71CdSyaKCkTb2lpY+m4mBcXAZEW2VRS78fmwwNV34TD/y7xkU49mjolQwMNXV/rMi02unMyE\n",
       "j4ZVF6ABFJ4I9WwO70wdiCcAG2jG8EYaoNQ9b0SKNcSwrN+X/lfIchh2FhVX2R+EiV38DfRILc44\n",
       "UIQmwCbI3LIpZnLc4qwsMtfEGt9yq9ABC4sGbQwSmisff4h5Djd66+v7cAK8eEEA/31Gm0iMzvp9\n",
       "/2ZdnSI8MwzqzvDF3pTLaMgdTQfGmz+y3BQ/CiWdyjuMEGA2ycsntL6L1Vivs1LpEN1pnLdkNxsW\n",
       "sDq1t6aVD8GD8R7ZTL3USQnlGCfV7T7cPc/mMgm6lNQV3zyrqk0fd4uSCbVHpI343dw2cR7VFcwQ\n",
       "CQ9037RTueQNIJZKT6dm3XjiQFexmPcb8YC0O99gO34MeuTZ5lgVxICzVQUsibH8iOzdRIGumWfB\n",
       "z/noitLPphoVmQWBR9dn7i+yWFJaEmeWslIuPHFtss8xl8D0MntO/eoRxsglX/lGJ+q+fGJzV/2G\n",
       "wiaGk+8K5EF1RWSWRupzOJMYnH2Zwk3ZLDCuESp94QilQBDbOsX2jXXKs++0wU6ZoO9IMtABX3eB\n",
       "C/nPv8BG4VcOvvSfOQkhQP1VhuHtGs7lwyPtBKv8PnMIgi/V4gEegQKxPVVZTxNMS8e+hMepF1+2\n",
       "xYYvZpgcgzX68x5LnaCEyiusWhwmSOoCUzqXq0+YU1XWtKx5f2Z+nEVhRwiro4O8MN3koHn0b0fy\n",
       "xEmNZUDMfd/c4ytpicRDJvnR3Gv102In7DVr3su2hodlipKfmLkNvPCPc3T1p7rZcEeNNqpAMxqE\n",
       "CQh/7qmEMSvuABI9m2Ub7MdMUfNNFIUZKtc1M/X3OxVAR3gJBsaCk7vCKAQUurCt7JIF0BWsdlnL\n",
       "FaY+s9ax7b0x4uig4pf2aIy7/dyRP3413MtU5B8Jy/Or3BLT0OdJggaT70eSMbljPqNry3Jn5w+Y\n",
       "wvDet69uFzmVdTrgKL+Vu3loZ6OFeaJP8JhoWxn+NBO2NmYWXCbMDIWyA4z4BfOQTQL9j4Wc5lJ0\n",
       "UYUeQdpUkmFscCtadfo7bQw7wqmql9GcRWnLjaGIOJOb8EDMy2cjRIBwzMPoCdYEjjr/MMAwNyfj\n",
       "I8V0xq0ATcAAAAPvQZ5CeId/AAAYDaWy8AgvguqNbZkDg9Wlps/ACB2bJ7sac3ABrApvG0GESzsz\n",
       "pGnswa8yaipL8UxsQlOoBRTW/X1shCu07yGB97rIV48MrCZy+MjpsJTLcBBXepULIxP0IpGB+BsR\n",
       "GFvVnasHiXLrgZR5FpdYSr5fMGaSp62CKei0Evp+S+WFQxSemQmL897IAUg/G3+B3XAk9cQXVTmL\n",
       "QOZzDZ4U0UOcuzi4eX6cqLwQuwd7LdMzX+lQHkC7Yq1wvdffQabz0u02UL4tIU/VareckTRPqGTE\n",
       "6CmyNXFNmIPyB7z7WwxhLgR51ls4/KrL+WfgjfV6etPVEqorzvJcTtuXWFgjLnN1TcYxz2CEw/i5\n",
       "5kK9retKE7/xhoACot2MLAZYJfaGbl+fIOAlHwqWUFBiUj64rPQ+5/TyAW6H1Pg5Y8rB9GAgDtoT\n",
       "SP7n3xXDL6wRGSEiwBK5FMVAXjaUYkqo/Zs7IAAmROIyy7fWA1vskrQnVS9Ofkx6bxwsVPKjuRbc\n",
       "g4j9ohWvQeZxP4Vf36+JP9zlW0df7CToPAe07DJCAgbIqHMm+hI6wNj4cpewAXbnKQEaOdGmMVwx\n",
       "QFG9rT79TwY1d5HGgsGZoVT6c6pF9Ih2wZFsmSV0dPtOus/nf9B6AMriZ7MWVF3vxQQpFVFZ5KTK\n",
       "4qnLfH0mMheCIjslnP2GdxCJH1kxDUjWsvoDRfWvR1A9FQD72IKz1qASRb8PzicfYD6b8KIGnIE4\n",
       "HUV/xn98P97QrNn/lN1hBJW8zmjrYJiKhSSt99mFr2ocCqTr8oC2VHVKzlzhIc6mAS7Bfxxtc0/Y\n",
       "c/X+ujfGa+FCXK2t+irXpawT6WAuH/LmVaOcsUu3CFbLnga1GAyYWPCG/61Z0vs4Qq8FLdQRWJIb\n",
       "gjWXhHHzd67PEfpKKLhiZtRbcHsYsm4uamzp+bpt3LKljH7ihc06B3+459RSeAO7NF6yQWBdq07E\n",
       "OBZtHhMlvm65bxngxtaU1nQGgWLJmv8WVlAUUJspZE+/OOjNMtnPfw2yX+0md1YLYChB+EDV4PSC\n",
       "w6C+QUt0PAmcG4bdd2UUIbmgm0SuQGaaQIxM7ARpN/5lOolAsZYj/C9fMxtil2tu6hiXFJJj+UL/\n",
       "OWS8VcMc+dD2Gml0pbN2Nsiui6lB6SUJw53l1iaHCpXvXGVdZt7REcRZATNIayzjJGugj7t0WyCb\n",
       "7tnMSuybv07OrpeK39KPTc1a2Ol2ALmBSVsMV/cVxq4OSjoVxgt7pTYeMUpvhQKDJ6ijtXp0PVzM\n",
       "9RCPvY+EDq1c1mQVzzMyZcpPvNxrjHZH+pfMXWIptowmQsnHoTA7W4EGIbWe2rRQeEEAAAFrAZ5h\n",
       "dEN/AAAhr6zVVivPFgAELh0sGpw2WEqTcsmWSCFEw+HaAFOOjEyy/FWWoYTPjC+SZ9jETUHzCrfe\n",
       "uQwirVSZACYjq0aM53XGeEGawwwRAprQ5iOwMMRxQ+4AyGGP9cJEE4o6tB1zEOboSdCA/L+tyK1B\n",
       "VLyetFGtHPLr+4vaNLYRS8O4aDUvRVQbx9hlCJC1ABA7d3bcWluN1xjNOuMrX+v6VqgBRPd1zbtc\n",
       "R2oJL7q4enPQkXY7/QKPqPwXqaxw9A9w4eaMI/8IajiF1aCRfWZ5py2SvUL2BJqcdMqikA0GiYAU\n",
       "zWyM1fEOKl+7v/uCm3SvCJe7kV6Qo016SOEaEKlHsIr55ugSTHGC9iNkE38wesV0ZBfmGARSAgd/\n",
       "v8fRmcZ8MYQLTmW7k0fkWdSITDx8Az2wLbo9rJ+nqZ9G464Ng2iIEaIFkMpd6ILc6hjsydw1GnvF\n",
       "qPAKY2uMy5uyHV42ivOvoBdwAAABMwGeY2pDfwAAAwMkFdIACte2FL1RPbWbWwgoDAhLVMhlwnAk\n",
       "uEk0hNR3Sk/0IrxitGg+kKbXxLxn0Bugs0UpQXO5+aPnHDCzX/U5IocVLcE6DVt9PMHOAgTUZb+p\n",
       "kXsCiXC84Ndm0k2gV092kPe1c/6vJ0nbzCQA0aSmcMjUuNOLaL59VkowZ8Tu1k2OFWAQysyJy3Pr\n",
       "9Z80JIecfaXQ4UVsl4Dzd4BygveOgXiwFfj55VnhscZF7zND6jeGidiXjqoxs5+OUM1aJLPzoqBt\n",
       "ViJUgRkZRkJQkrKQpclIoOEqE4AfGnZuUtUlmJ4S99c+iSFbaLwhTDTxIfd/FJis3PIdGbhiuyvh\n",
       "okIAdXPvoKegr3ZUqhMYC1V0NoMNPsHIt+qDUAj937kaiR6yUJp2ZxsAUMEAAASIQZpmSahBaJlM\n",
       "FPBH//61KoAAADqPaqi95G1A8qLlUS1JJsABZ4XJC8fTs9Fr2eJGFU+pI73rZ90kFCiimK18SiUY\n",
       "TFeql82ctFPhHBzcruoXCMye5h58CJYI3hAfgx7G5SXpWrt41vRRpA8bTNwA7MJY1wD5cW8handz\n",
       "rMulEZ36rm335ZefMixcSQENbkofnoS3QdmpQ6ISPMYp2mPpIV//9MAnTHdgOXhb+Aqx4gAPueqt\n",
       "P5QRrq/5lM9zee0gwLQLWpK2vA5eT301pKu2QzsvVCiK/+s7kXMCkPBLdYVUztFDr6Kgw+Zq1QI3\n",
       "2Efl1HG8TUeug0+MNcbuSH7HRBRfs5nY/mDkQrxC+gTBBuyXM8gglVr9ZobPeE+27mfYBCeBB9a8\n",
       "B7OlZA7Ik5q5PaezIjrtyFIv0+MNfqDWEf08DL7wvIKU76BDF/tVORAPS3FRpTdKGBAVtG0kLAvS\n",
       "X8oFr4YdJYr2aq1dDtdP6yRb6uXBnXS5idemwkPIQDa5+7mICeu/vZLIyYF+8/Zw/PQL9ZFoVu1z\n",
       "lsJEs58e6nqlwfwmnakLCy1TJr6CXkZTiooQ7hAiHHyADNJ173EPT+hZSggRrFws0ArBG6F6bg3A\n",
       "tJcZDHtfk0Kw7R4anWN10bGroFzAI6gUtZrnQ6o7wXisiZS2wL9UjE1seig5EzsbCTYtsyWu2dY4\n",
       "TIs73jNAEPcQltjFZCG9xXlOZ7lrF8ra22Sf+ZQnpgF68mJIaoXOeQT92mfSssZ+xcpvgO2n3Gmy\n",
       "L9HbqaRC1fa9lEBX7swtqC/2t0OVD3+EWPvw7Ctc/No4Vt4vpkU2YzQpHYvMkTKk2LXzFnW1xZrX\n",
       "tKV1XoNzXQdq4+5Fmu4dIMt47l6PANBL9rZ2j/J2z4BeH631U/oTWNMLxB9aQ3Qk7GszF3sdxYo+\n",
       "UF/ivO9oMRiP8salfAJmQZEJkvsXqY0MvW7qASvUbukzz1zTwAoOzYwVaEpaaIq6KqgeW4qGmu55\n",
       "MVuGhE3dm2olXc0oO3HZt+mkfKsAhfL0E+UoQHkP624AxunFd8KcQUVnVpgK2qjKwRf5okHSYN7H\n",
       "HcQEz1dB5eP8fVyuyBNqcsiQBRI5JdpKGWsvTDU1+kXYl2Vigub+LHKueDJD1GZQCiBUpFO/zSc7\n",
       "TxECDhuBeALoz5GKQx+N9jVEr6wuh7JDuWxFqybOPaXdADwnxvUUy1WTM6N5eSK+/84ACzo/Libe\n",
       "8SrRkGN3Hq7fO7LU8e7vbJfxNXE18uqDLTZ3yLpCyyxQtkAM/GsxUIruI94kjxg2e3fvAgS53gLM\n",
       "roBrmDwnWS+e6djgKBY/QGV1osbFwNrS8GsD4sTcMho6ymEMxOBD6G3zw3k/Tp0gt3RVJmzEBsVH\n",
       "xszFkGpSjiT9oLN3vKlOXU+n/rLJc655ydmyPr8E8crJQgDhhwMCuyVup1ZFBmKUNyvmiLTASkw4\n",
       "dMAWjB3eWWrivQgnvR384eWf8SAsSaLWc2tPQIfeBRyT3uQiNOfAfVHtqiqhMxnmZxKZ7esOBt9V\n",
       "GcFmvmOjTVAAwIEAAAF5AZ6FakN/AAADAGwLtLMETWs8o2O9jeq1KhK8rkb0/eLo85+d6/oVbFOH\n",
       "hpe5dQAlo3ZfpjtW0T6NBLTaooVKD5xYWX+8F280U8rvFLZ+ZopdcyO1AIcqvvHfUPcbkspfzVvX\n",
       "KSNi9ouX9/Obixt1mVSaRK56otVdNzp5X4JXqo/CAjh2GIchLIH5seyh/xADLNjf02sri5YTypX0\n",
       "lZPXqvD8s8fRYmKoYnCrlgNsJebLH066WzVclhtfBgUXHNinXXgePUSoRoH1/r30U4ieQ7U9xhgB\n",
       "OcZ5t3eQm5MmYmzcFSgr46+ZDT6MDAhiaFzH86DZbBRv2FVSgACFqe1txt9CRi5qpkPz+SQMgROs\n",
       "EWvh1QROw/zQ22cEg0bQgg5ZA6ESg7JbdckPeEpSpLQ8b+Ri2jEhf668XMgOCpX8grg5qcMmomVi\n",
       "6SX3iSXesdCHNYBzG2Pp5TIk2YBhWSLOE1zRtNt5wx7eHVbhLwU6wAZ6PKlndx1gBs0AAAq6QZqK\n",
       "SeEKUmUwIIf//qpVAAAMVQrlAHJbHNUR2ynuPPW8X/G+OAQrhOkoukCxenuGoLLq8N2qtz8o1+02\n",
       "BRIks8NXL82CkPCiPUBlh/ZUoR7Ahv1QNybvaJj0jmAgoeHIzoXVW2pYJlkNOrBuJOTLSsJ6TZrj\n",
       "u1Rll+u+tZfRHVpnLC4RffjMAgofwAfEZcqTy9aqh/J+S4hA0lOzToRuqqPqmolN9TCL5zpX2np8\n",
       "bm4pZ41cjbacpvTaZ+fjxvfUfxJddo5IJojyVdZujSHDmP+8N+0q5ZSJMjOoPQOBipK1qUvB4uSM\n",
       "aXgnWqjKcN1lPSXq40QYIqmkxdglzlWHbznpwbvYg/qyCUnW6ksCHJ/tctxZaQT6/WKbuCZUTBzK\n",
       "CPShJWo3Mq8VowJBM/9QCoTNlu8drITmOHDv/tc1J49zNcLB8Kf1/7Swpm/i6pLnRycG4bzCaj+v\n",
       "bCtfTmqVCD03VpA5bZf9lG11rtUy5YKCzWF9Uf4wnuvQ1/nikC7sA27jQQ48dgLdwKvrbbDuPCiU\n",
       "ZMZI10D7OBn5vWj7Y71JlQSU/XytwTVFKT+iw9LlGgsfpVeALxDCZ9SgV4DwGZZh8DiitNoGPQ9U\n",
       "fIO/KHNPxuDMtoY/Z8HvnRDMD/MCr1FhaEG1SXRqYeNLktV91R3NjP3wNHQC1AG63Nnu04gjDEFa\n",
       "d1Hx3bEMfpnLiofxdAVDnACXuZOW0jNOiN7rF14P07Vm+b5Fn1nbpWBNnb+s+FWDQ4Tv+0mhLITZ\n",
       "Bzd9cVQDHzAREbrWxdHavFCC40cb0LeLDWuwcg31UdrznVtrD1GuAVBU2W5PbUJbjl4le2u1Mtl+\n",
       "306lgq0LoymyFyUj/h9n8Yd04oaUMhVCBxTmH2r+HiL0xAiFSaM9nWBNwPEVNh+OMOaDMCqg5QMT\n",
       "Ca2Ntr6LxqzDJaUac1mq6h8cGvmu3AEH2VpBXMuZM66Zc+WKnzsXh3uwkC9jf7DQHWhN8vuqI4Sm\n",
       "EbWjD/ibA0owylr6OvyRQhxZfjh6xncCKLwTOEIUuLfiWZI6CH/3f6GAQ1FxYChfGln+UqwbzD7e\n",
       "YFOhqlzpFtKqtO8stmjSKqPf55CKuHlinrx7oVW1YuZqn2SRF1n97k0gfcxcZxhcJ0iT3rhZTOzo\n",
       "2uirVwe9CdTMVO+3PMu093K8wx9fuMkP3jN0Me9VceQnFSA6c68uhL848Ha4MuZJiTs/019PewVz\n",
       "dq9xM/o+4/T+6KwlVBrZdVnrrX0l5N3QXeCIg9bQ+tnU8xednqfHcOfpkSlV1hgX3H/HcO4QE6oh\n",
       "57Qy4AbdpRd4KMjSnDBzJodO9rxEA1zrnca9xpZxITiKBStOSeLo0UckBASfl0Isxf4ohj0IvFR3\n",
       "vGxHwBi5Xa/RbCq1yjOjKDLAOwkze00byykiU2TyZ6cnDcmy+P77eZ/62fuJCzYudGdGvaqmEt9+\n",
       "w7CdJy+e3km0olbEmkZI+cQxtpGIhXgjmV4F5fPp7WcaMgt7kL5QdLw7O5/fMegMC/TXlNP2QuOf\n",
       "zLB/7ZhDxYOldNWRLoB3aNWZpPdTNjiY+qlgJ/u7RkgeVOq5Tl2ikvWM5TMfbsCU4pNSL2ud7eHf\n",
       "LAgf0RrVqpmO/741abFaTlIRVqlWHVHtI1WbaPGy1uP7eBcE5Eb0huStQHO6LmOLRMrVfXn2XLM9\n",
       "2NPj/oOSwvrrACsToM+S1ma/4gggjGCAHg9FRuTDpPXEMFzDky71AOKMZCNh/vqezlVbGMHPsU0t\n",
       "80yeiz5Gl05tt5VtWCfaQEn8PPtqrFo8He1v4uIOY+MdrXMIkaAD1FGeIU32QOHm2F4qIR/XBCXR\n",
       "yx3j0hm4HT/1qY8+19kkq6qTKB1wZW5CKPlId9HWdkpD6/Q4xTE9LGRvJ30ec3EgEL2SuZE1iGRx\n",
       "YVyctax8X4ygTesX+M7RuRHC7fanOGuWptHw7BnF1A32NPF1sB3f+iCIO/cUeNTqz79o4v3Y7c+3\n",
       "Ue8NIGixxkkHTBT4/XSXFsCNqVTSfjc94E9Z+/nb5cUZ3g2r1wr/aKzc5iLmKYQm4xKPSROwfqzz\n",
       "qpCkqRqLVGlS0vSVATXoL1tp/beVZDCekOic4BlOhsdcbstsalNxBXZahy8LeV7hvIuWa2kU5uMA\n",
       "pA6xyiN12yPoc1O9rv/5Xifw/PUPLtw7BG8licLtTn8BhRHnX0BYvMsFGYtBEOpXra171Vne/Zwz\n",
       "zgeXZ6G7zsB8pQuucYDWLOE/ecsOPGsZvPaCLpFwmDMuS9/BUxmfRtVaKLg1C1aU2qdrsaHmfdh4\n",
       "kh9rlO6eWObury44vwn6iJmxqbw9lUr3foCIQAfexJbZD6ibvKrhQxYcQ1DpTOwBijxXNLu5LbI2\n",
       "BG+amdqBihWzuXIxMvtmUJOGHgBWFG0o5//byWObMFIqXTKzAMftd/D46D+5iXRU0yVwwVtTijqg\n",
       "j5A+hQHlWN7OoI98jYjb+ueE40TPDUKvhn+VLeQHzHJL03nX79lUmkjFJmoOPGICLlaIU1WB16pB\n",
       "n4psJJrqKMvwFiCXOzk8jRBpE2dOc/XAScn8auBOV8wvcCiyAK9ZfSXFFGL57ElCdcw9gwdHrhyE\n",
       "bw4Y9EzIcHLLvw/xYh0KytX+VoIIUZT0ztip5tVvhhJ0BBVqCI7TQC4oVqXF1qVJDYEuSI9rX9XM\n",
       "IHz5OUOfE3RKoHkDkCIDllGoSFC0eC6OcUd+W+DbR95dsIYYtmwkUIQmDZ5xxF2ojgQL/rCuTvsa\n",
       "IxvNlZL7sZglZK1TcM0AD8ax27MIVi1MHwotoP/4I94iOqGxU8Ge0IuY6K8pPgAmmur1ZF/LFRiR\n",
       "GCyl/lWoZ7iyRCF51t7HO2p2WFekU6os/ZGJYT/EP4pqjzlWYh2JwotLmX7RWyCVOMzgagJZjPoC\n",
       "H2qjalt3StPVLInqyppx7clCZYFvGjHk5QehtsLX+aeNry7DFDc7qphz6PGrFl4Un578cfIsMG4g\n",
       "PkDMRj7rhsmmSNBtJMEbkW210OaOmL6UgCv2QmZuIh21QfVMSE7PRcRmpuXLh4oiI/nx25fpQIvj\n",
       "JuPrLk0Ilwy4j++zJXzIdLAU1hsn/mYvWTRK1yuZRZAQ59XEMq8CEcWgVGiz8CYb6X9CYrIhlFSJ\n",
       "IRUOXi0S+EnARHFd3+mY8p9cIqQz9sVVgMK4OcjkWV+8/Pv4eIMqZ8NYK6wpvIzhwRp5/EllgKbb\n",
       "PoWJe2ZO16yYDW/Lh1tE32Z1ZzNL9p/uFEGlUUgBa4+1mnqYDYn7YdM62xB1T9h0HvxkceJkVPgC\n",
       "o5eg/iDdtN45Rhb7mgzpaWZMK1VJEAxaZ5v2gQt9f7JtUFlBBqKHuCrQbzUvGeTf5QmLPvz+utR3\n",
       "oTckgXX0sDWZHjl6h+JASjXC/5PCEMyf7UEMG2bdCRw98iiQyDMSAOjdiOZvdI5pt8zunY8+lACz\n",
       "7kHv5IJqp8nYkvtu/Q3ha3o6u2YD1iMhtQpkLW+1BAPl1/ZLQoDjWXr8uYIl8Iw9RzKwIMQk2sVM\n",
       "TWcBBR0Q2oRAUVOa7IABbSKHEfJKYEq2mQfBEflYy5eNEnv2dTahsX0IOpUZa3PJlkiQyCJYoSjD\n",
       "qrqQTTS7cgsVKwQLBzRrX+LlqwWTczAMf/yiFSZutdPbAXVDn5kOjk1VpLJzlWD32voDCOcY9NTe\n",
       "HAOLDojAgQAAAUJBnqhFNEw7/wAAGA5QxAB+/ikzHTP8ToDIXoxNzesznKktVhwDpzGmYD1EFx88\n",
       "5X34pn3ZEVOHazpBqmKPjsf5/MQ0m65bJ5BAD1i/y8ckisb5zcpBROVtX95TZNltZEOkPnkgVbdu\n",
       "6qwoOnyiA6tV+D/p7VP8DcyOGPD4Xz99Exb+S+Zy8NbII+FBUBfddcEz1zdNjTn6Chjk+VVyjyAh\n",
       "Bro5rUJCXBlA26Pe61Vo5/+BBBBpm88VDwl8/tfDe3yMM8TPJX45lAIjub4WEdRPE6nfUfu2HDfI\n",
       "RZXj0H7bGO7T5WT60f/g2gBuPVRXbjULTWdflgmeEgzATwUfzSjuGhpt3PTxqBWsomMuivIfhQA6\n",
       "WyRN91UoBQ6wrwepevIC3kwjLKhpQKQW6UnQDMUj/RKGaCN8/s2/lUBh5WRmwA9IAAABXAGex3RD\n",
       "fwAAIbeItPXlqeAPC2evGsXkmdjrBHKMdn4QF1Tj9QktIwgKkXEFLm09o7k0Chp0PmJRVa4oADPR\n",
       "Jm6pGTOFajySVKB//FtLWCowdf5k+pRxY3kdv9u2KxpNapPyuSybr4iYriUJvgZeb3Nfdj+KswHW\n",
       "jte1t0MBXsY9luDhE+c1UVu+mjajtnL0lsA1QshiQjKJ7Y7W1h6Ac6mKsudCSuLsQDEdMV6KYESH\n",
       "/AdpUP6uXw5PhmdNBFFQEqi4DCz6qEjUB3YwBVT12H2tMMm6ffbETwuQonzAJIdxTtyWUqbc9I/3\n",
       "dxx0YV4iwUn3pHYG/SR4ZLw05vPIBvNUMwNstLlATd41UP/zjRx1U3a4Cbvv9t7V+fjly07ndVeZ\n",
       "v01hSuWPM1Q3IbHTQEMVWl495ZzLc032uH25eB+7ecr7fk4axdCqjhagBAPzIuJErkUBDw34m6SH\n",
       "pAAAAVoBnslqQ38AACGxkpFhXpiFH+AAguKgQAgEOJeItJjhlCTRQJGmfSUU7cbh17elMuFE4yqr\n",
       "R21J7RLOFjoUwsM5P0dz9U874pvVyiB73rOFDI2aV7osYPoLCD7uT7qVaP8JGn4nY4o3njZ5QeqN\n",
       "n21Ju2Rv9y73xILAWc1ovWpQON/Vx50cxic6G+yTnTwGX3vDx8lx3aM4k8p7/1wVwSMikIVt3l1e\n",
       "AKS2QqpDvyEuSxIykxA/uP7tQBMrCMLYRW596yrxbWPn6cJgb4vQzNTgnKQizhhgCWXXzd+MyJEt\n",
       "K2L4jM2VhCWwKQhe4rRNFurBSPCLkdgmNJzRqUlwhWLlviWv4VxRV7k301PABzcWF/+VK7AniMA7\n",
       "eB7Fa0GadALb7bzBUccSnxikNIVX4rA10v/TX2AIlewSuV4I9e5dgoiBDxsgH1bKqf8JcWynFln+\n",
       "lXxratyz+AHHAAAEW0Gay0moQWiZTAgj//61KoAABbggSIASqUEYzVEnwweLx3IDl7/AmhNrUEwJ\n",
       "SPKC0PibijuPftWrJJ5vZqWf6oe+oXkLrt/7RCsoqn3ES/0QOWG+CGEFzf2nrTPd8zBz7gv9ubqo\n",
       "UFDf63x3JAnpL9WcTaOUZC1c8hHKshVnbRuSKaCBFrniUvuX0eCYx12YNFw3APh0+bB9JSAw+RKg\n",
       "OEMi9Pwj26ndWs0LvSvYGG0J75YuG+7c5q+Bh72hZE+F9VMxBgxyrNA47SMq/fWPeu1Fz2OTx6iz\n",
       "DC+wB/EqRjFKmDaj6PV//hl5fabVX67u0nfkaR+pke2bjJuUkXcYC1PlQQl7haylSKyeSiyeTLIs\n",
       "a98lGq1aH1ZtlTloLtOAKuhra8Cl0d8FKH3hmrnr0bFccJ1DgZehkWAssMQgc4kWKs/E88pLyIkL\n",
       "DI0tCPZxr8+D7vOZELB2WUiRp1l0y/u48AhBcjfKzhm3fsbSD0FjKJ/UCFpe5cpGMRzMu7H1aiuW\n",
       "c6EVGR6y7PTF/W2mp3xBx5L1+DUzalx55z/Q23vTnjFRshKOag6dICYQLGm9H0BxqSEVzRHWN6Do\n",
       "5+tOXKz2sALIZMhmxv5Z7R09ZofuD6R/vyPvTOTOwUxNYGKanu6fiSr4DQfwPIDz0eKhkoA+XLQ5\n",
       "3rWwzmoRNTt3TMFgEVBXsZXTd1IEvomJrCtRlAitVZO5A5u1MXY6k6BrvRy2Dr9wZO7ZAIr6JDDm\n",
       "CqYJIq0qLZn8EimJhAmAaI4pvSKWR2ObwMr/SUWKt2GA/4R0g19Xgacn6j77MIj3l3rRGMjcORva\n",
       "a/RkQjIxdT+3mLk+tHIEm9tjMl/fpQzD4g50nXLFaPTXWx4ooFPA4rYOIHjEXqu/LMjzZx0ZBXtd\n",
       "lNbnPKY38seKJc2Rc56QrqZoZt9m5X/6PBfChjgRRt0UX9HQAe0VMKA9TlglcsaKt7ObeEvY2P72\n",
       "1GHRB1xiSkDXSRksjiIgS57e9Ub29RZLJLcWyq5TBLoMbHv+NhVzP5N1NsW0k1H0CDierDuGoRiP\n",
       "8wfiERgJOZ2rvYaY74TFSGdEXdC5+BR6xg+AeUGg7JgbOMKyPUENl0EAq8EJUh0tYqRX9jqaxu+6\n",
       "4n5nQh483ChMJzHHuP0ke6sZOeIJnky2OPPojR1xoj3jiH2hqY7LXf/YXl56ucy2B3b0xMXV7qQG\n",
       "lb4RtahsBKLLGDkQthWwc0W4d+JDs9HwOfCo56kI6Kijtya5uwtccWaIMLO8zvKf6+UoQu1KTprt\n",
       "m09H+wSorjOhfiOUcmJCjDRn+IgssCA7JH1kPvFsTJ3W2+SjPNAIGTd3inAF+4P+Om7jO/VyTIWV\n",
       "Fggyyh6f3p3EFDbddTB9RCMcv/jhPJqxX6OeFfrYSd7MEFeOcrEJR+tnMolzORU0h31FNIhWDQiV\n",
       "RU+DJw6N0eKy7ni+T8UurCgeKF77sZ/oDAP6vwiSYgbqgXAovlcx5SbiGA6YAAAKDkGa7knhClJl\n",
       "MCCP//61KoAABstu71DxYKzu9QbMwlQZDHbuu5W/nt+BhMyACMAzG7P5x9/7sSZZCjj2Cd76Y9DK\n",
       "FyA421xitn3z6lmD9JyYWqCBy+zVGZwLZJYNwyRNloeiKn0AW/tJXGNJAscIbHeSRiGLxrBcfOCl\n",
       "34Fo245HJCaRLw9Q8NCJv6YD2m1XNI7qk4sbd1xGq9h8H8PcdQ0xsbTtMzspjRrLqBYs1uKBI1ik\n",
       "TFkw0GIsqewQbv5lGsNjPT/+FMiMT7sKNcLuupEP5YVTmeBxJmgP39GeXk4+HyR06Ms2hQNbH186\n",
       "HAWmSf/ssR6VOvvPRAG+7vOocJW+POz16geoC+YeSGXz5v+eezzb9i79PV1+C4M6OEX6MzuA/66R\n",
       "UbBinxww7cRLbAcCYYgVUJokyrcXYhT+WQL7PFIwEtHn3uTAthUWFABrTaVRIDLjJ2OD4zbNQdUy\n",
       "vvy6eEPVHvOg2M0A03SLoPaJ4Q2wZOzf/5L+62wmi8SZGlNRovJZrecTEQh8VTy+x/C+5zcJEL0U\n",
       "1s8NWUTicZZ+RAdF7UKE1O74b7ijr4cJoVfdQ73OQ9bXtEw1/A528K8BgcTXcOCMzGeWdMDEUIDy\n",
       "1CIUe8OZRz8sk9OaDcZq7C9Ecjl6/KwlRemxscmblClKGIIcWkDlZyYBmCaI4MouWQRF2ILf3bmA\n",
       "Pa79HZMZgh6yJhv3SZPJHm+1cknoUb1TyohlYSOmnvWC7kaM7WuJMWFiAGSxpqYYSATO7nEd2zi1\n",
       "4DaYmffWbiVsI27n9PwjNKuajjWxqzkZq471QXtyzzmgmJOtnN9JzA+xeyGn9vCRp8hlYJ7EMjBe\n",
       "ySYzSz2t03tumC7ICv9ZNr4nD5hCz6uZ5Wf2s6tSIEvqBlj3s99EoUrpRmpa/NJ6fiwIb8/4q0sk\n",
       "eFldLBKvCJgofSqyBOReA0WguKr62BVrCRJdyGBdhlj/bh1E29G9/JEQpdNf5pz7WdsIAtqtzy6p\n",
       "wj11hIMQlLCjVRluaiiybjzdy0NHOIpAYnnenF78vA6UoQjuWUXtk1I2PJhfof99Zd+8XUd3cnHB\n",
       "JXEAhLugXvpNh8uSEWfvBRgAd8nnxEj+1C8wjVpudUBsl7BFChGr1dyA3FVlZTO4AS4qKLPClfOS\n",
       "qkf72g8+jR2/wlww4ZcUP/HACVIV/nHhoOBE0D/1g8R0wrUOHcEJ8P/gRr7RZLkTU+JhjTrOCZcl\n",
       "KaXm2W9y8GFWuwMQmGy3Cdm3TSc1gMY+ndAgeZ8IUN5jC26F9S7vxiTtmWiYHR/F9YmBmfmuy2eu\n",
       "nbtJRU/uSspLD6mmXP5Eh9wxGLdbjI5Go0q8EGLa8yRS91qZh/ElYKkTjTYIKgurYOLLYHz66kIo\n",
       "Y9xm2lz3p2T5Qy/0qkm5PkkdR1CSJa92tXY0PVcru9zWJRzppzXxRgArcv24JOWC1VbnPKcs9wFe\n",
       "vY5CEbwWTmQZBmIs7MLKgP43mHuyRR35DygLj6bc6E83On8xkICCCedf5sOjAbJ0pgQLuYDu9mG2\n",
       "zltoRQw1Z/KBI1aOM4LpI8xGnSFnP/ND5QyoU4lCtJg7pvyK/mlamjjJKc+mB71JDofdUJGZveFu\n",
       "UPTXoOw+21eC2vOok9ElltlAIk03uZpiBw/6VqzpmupB9y7PB0fK0G2bjk5nBrhdLFMdnyn2dOaA\n",
       "wBKjUNKyFJtuAOG6BHo+pUHfSt7mYEgf4P37mo8ocogtyIoZmz9CngcMaW7aefVbDtu0D/YrEvRg\n",
       "5tSggAhzeYOqnbyAhdLv4IAh7hMjcP2UJpBB6768mSis3TsrOwOTzODrDyiuwJwgxfYhYy8ktv0i\n",
       "QnAIQlaU7BhgaQdKhOmdfEwRvSJTyEbJj7LfkhStfaBbQxeYub7QPix8u3bc51XsYDiIS5qAGD6a\n",
       "svAM6PZ/AJn5ysYlYCnqMMSoxmasbagtt8eYoJIwfME+om3ESzeNQUGcc1xkW1P2BXsZ/t2vrPWv\n",
       "DHKHixco2rErHh6eOp1CiLRUFXj7JqARFG2Z0/a8lBGkb0hH19EQNyUPnheL8SLtwN4RQ9xc+LWz\n",
       "2f+nzU1ZSCaucoxh5pImUBjGvFf5nSStMiN9FRzO+CZURuJB8WwHtOt/cQFbcFLhF3jTv1Xm9Eb+\n",
       "7LK6R1WrGDDpwJI4w5ilIUT8ZglaYRJwLSZENOtuR4KmopEHtSasYfZQ2NK3NGYAfsuV9y3iu9r5\n",
       "bslMv1qF6xSqkLsL9BGg2V/LNyk0tbfI8JJ9u/R/rmQMIMN8yWdQdmN+ox5f/WQ3kmp1cy39tLgv\n",
       "wmLR+8M+7npGrPJGQqCcqtqu/nmZPY5GwGxLVeK7W62Gg3aZ8m1Oe63ng5iERxKrmXpMI28kq23g\n",
       "jhM0fVr7nbt65Ncg8F0UgRUYToEYi6DMKtMWmfr+9dukkEd7vjIbBlc0n76ttssQuu6uOWJ/RLmu\n",
       "ikXQKQWkTDDYamj89pD9zXIOda64WZP42FNwtnzUhYKfjDQ1E1wt/9ae5JQOFY/+91ZwdiwLWPN+\n",
       "P7DoCdT8OMXfsTn3J++2oxzOWhh33PetqpMZVRohA+PbJ0QhzIMkQWI34ixJXV7cuv8bvI3NZJ8V\n",
       "IWc0N3qPHA0Qd2JsRYoYpRiqtYm9+Lkrup4yLgug6OZbJanVNJpnRZNJAlQTSdMycYbyvfy8Z3sj\n",
       "co/LJM+6MeEpzFM77as1g5yOKeygGKURq5OCUfk6wOi5wE8Tnmtel3XA/FVcR6VXoSCbVrH0cu6Q\n",
       "Nw3tm23vK99jGvH4wYtnarwB5P2w/kAy4CsfM/mxyesw+wcxRTm7Om2mcP9nwZTUtnSESCNVBiON\n",
       "StP9bO729oRjH+6A/+pL7aCcGSQ+f78IwtT2RLC7TAOdhtlyXsElyKvFC9qhdRQFXPMmcxRTkClb\n",
       "x4Psg6HE7XqQuko55Qodf+YRRE88YpPmXme1lsSSiN5K/cncIK/P8Nm5BfdB8cj2/N5P/ZYgJLgU\n",
       "BOcP1ULiK2in76jHDwsAx4YdavONHoyo2nWYi6v8EmGuy91f9bz6igMbcj/OPivao0ThqhvSdf9S\n",
       "4QLob1wTIVAGw9NS2lCXl8MSvWgBHFltFeEcf4rKioTlf1X/cv8ETskaybL0vCRxtr9kGptEE+4C\n",
       "v9qmXnN3RHMOBAnlMj6J92dsoMLfAEbOVKU1pyetvmZahIrBukBzyEP+CC7eYOmOSAYI0oawzJIw\n",
       "PcnHgIkl11hsYVclhpG+FvWdDkhU0uBUM9vJNyNUiDUBL1JYT+ZoOQ9T497M11baYdxvtQu2MtSB\n",
       "q9xulfXj3vLE2zPg7hP0qV8loJpdTlRIrvHY/pslG1t2mSIfbTgrgfu38vA4sh0gXIqHJWcHGeAD\n",
       "Ux/7eThc5ZvxiuC1lIznjd1ej8BvqZNvDUoqDbB2WvLT2WSqQlHRH4EudGlwim5dIWn8oAAAAwAK\n",
       "mAAAAVlBnwxFNEw3/wAAGwLpMQV3bzBume+X2yWAcNXPgWUzaQWOQYdZIIJOClWYwsm/oQ+MfYdm\n",
       "hDanHHmpch+yGNsUguQA4yNKjJVIiMkqfa44AH7z58aUDDA03akav+auK593v3cw5wK9I09n95VO\n",
       "Oga1gHUvtty8I98Sl9eL5T7c82N/yWX0sIX502YMtnafQQTA56DtKaJBSzQ7KXLAtd+YfV+6MVjq\n",
       "Dd8ZgWSd30Au6bKoM9DX+GdxiMFy+HIUkRkOxRAzX2m4dY12pWGGFclp0E9U7GSS4yXwoUKzLbs4\n",
       "zJuhP5bvgril+fcFbTXDGCRNmvrgFxILCQypw77A06D9tUbRGTuW0m/a0VPcEuWNnkI3jaIWnC4E\n",
       "AcCq8pnFd/X0rIxHTEF/w65KGtp5tS1jr4u+ZrNmIIN+0MuqwSCyiL1I7RabpRKDOSe728zeXQ0M\n",
       "tqo1kRloKmEAAAF4AZ8takN/AAAbAukxBXdvO2JEMkNDLTdNF3FRnKNCwSVuUXC8fQ//UunKX3XI\n",
       "gBUoC85pow45yv4pXPAey+EtHr7n9n8YAdTuG96EpP64Xu60zLCJr5ifJeT8A2HOlmF2l0I9hbq8\n",
       "F3CSO8/HBqIuksGFpSsqIGmE/OoCkWB/bDVqVPUKZcZIKsRrokx1k8ApfLhTgC4Dcd7/F360SFYy\n",
       "w4k0yUG9MWs7MlkrWVr9hKVlMdCbn/Veq126qB1rco3WoVK+PSghJqm52bmLX6nupjyBTJc0NEfV\n",
       "jlp/LqhMnji7s+pof6woX2L5ZIy/b1rxr559WtO6GWV8Hgp/jyNqpWt4+0fkOrBepzSAuHpJmjQv\n",
       "Nw+0OczR0GxyJQAEUt0F6M7IRvFqHSsGYPg9pSdROOIGZ7TTPxJLPJh/sDjOk/jnn6ZjyX0X1EHV\n",
       "9F+PcO3lqMfYFVjqzGj3McxNjQf6L++1kjknF8y1Fq2IsrIVBBQ4WI/o5VoNSQAADRJBmzBJqEFo\n",
       "mUwU8Ef//rUqgAA9D5XwCzGMW1Q75TcrpWEtMRyhBSa4NbuAtWa7z8SWcnMqHgfhrD/XBWosMsP/\n",
       "M7eublH1d4VeeCCCk7RFcw8XRjWMtF1XIEyPp5nZfRpzNYwNLucOltYclAGZCN3a5pvy478FwuTP\n",
       "KP47cB9PjoLrw8y4BNwKRMuOGo25sh5iBQgvq52vLvRAhUwXgPro8zEMx+NKJ7iVGwzJdOvUv8Mz\n",
       "BtYHqfW9ggXzJgEB6v6w++nQvowdiq+SpcV6n/QfrmHlp+4N3tWJZ7C187AaqqaWAXUVFHkDRijr\n",
       "oaeXdFebdgqjqeciCyVoNNW9QtyURj1FWoj6xg6+X19/+m6PrzZxZmyXrTrZfFfNhpVV6Y8CZ46w\n",
       "ahWXvWvbvdJVOX+sJd1MFhgx3L8HH8zi0bMJkCOGvBWCi5CLHbYw275iPulKPUNkWzxfKbpzwGkl\n",
       "Rk2d8LkdLft/p8ZKOwDQyOaPv4yXwKhH1k2g7ZsZswB5XCk3ZKiYItHedr5sRPPiY4YULLNIf1YU\n",
       "0UAvlwKr9hDyeLKWfN+MNR8lezDnm/LLcfoxDjjzGbb1qPZU6o1yLJYiFGvMa1UbEn1inOeD85ns\n",
       "yfiu2FE+9kguLe2MX05bsEUcXoxeXcPNKT2IXfhPINXgmMJ5l+2cI9CsyoiILEdZ7AhGJtL9UK0t\n",
       "Cr2q3/Csq00nuxFUWyhpxkPHpXoHxSzSwL1m5FaL3lfVO6OF74Uaxxc+p0F+/xiyrXeEf+5NO6W8\n",
       "7eqZQkiG1ouJmL1UXJW+rvxO/bjWPHIMQjUehS4wetxRUPP4VIAl9J/H2pRuhBB26rku0WbnQo2f\n",
       "+zTAG/fCD/jRSWjwCJfB/RFGOu0ddLGatKTyBdatUhCE+ltC/PEiFhb3Aa80iD2xCGC7yfTB7F0X\n",
       "j+cIpRHZ1bMobO7KhE/Ru28QKA5yQLVvfv+86ffdcNXBm4IuCjd/raY5L2ddJOgRX6h6uf///yJP\n",
       "ooywWbDXK5iYDd7jv2UkThRptPGs6pv+SpQt327CMjRbMNf9ffI++YzIjqLTS+cHY7Rc4paG1Gf8\n",
       "W8dEQMeoUnqJVLbeayyRYpMff5kFVee6d3AvjYKIHariL1hawjTOUjQ/MVX9QIyb+G4nicjCJXA8\n",
       "BYhDY2ESpMkZgfsaacWcT9Uxx4D48kFzsCF3lyit2up3L7xJbJdsL+FyWuhh37xJ5kCzisK01I28\n",
       "Rf4WVC4t3iQEJTVbZ5zHcgXX+tJ7qls3RtnQRXVI7AykD3EGGVgvyPpv/tiFiMPBUlTXSOPS69zg\n",
       "3KICb1Ap8zom+VFa39exBdsQfRypnqOfSWueMl1wq3Qs/pcPfsRVvycvINwFuxk2nQUUlRRgS4iW\n",
       "WdH/nuzmfrHg/cJqnw7vTeLcLvHIJgWLEjZ+l3VKqk5A5j7oePTqzzU5yBT3KpQlyfULktMaFmlj\n",
       "iEwL+m4wfnzt5Ke2n+/1XTthHd0onZJyxpaDWHge9flYiBF+41AU3BQ/Xu6rLtrXrDVHjR9LCZ7g\n",
       "H09Rp8hDB91ubJe5sFa/CJIaXqGr0lSRbXdNOJ8+dyNaHlCLE1VlcJduGGIQofHs8rcreN64UgP+\n",
       "1mPCw17LnoO//v++5nZ3ewnLbt20/KQyCWxhqMgXom7Z9pYZLSmwzotqQCi5mk3u6QJh9d8unIzq\n",
       "pWH8/G2b7hT5rZF6CFMbv8mdf5/lRtbD+WQavU3DBkr2ouyiuwRcCDlh4LjDsL80seojMZDJ85xw\n",
       "hZ5rXBMjHJp8CZY11Udi6ujqLiprs4v/2RgKN6yeRBwecm3q24tbpb2S1tXgClwlOEtpZXDHi8Ps\n",
       "I/XDFn88roDGGhKrux0fnlStI6kzY+C2ewuKCwUm9RnowfTWlkGCtt54/a0PRHDl8aCM8Nqr01Sl\n",
       "EIBXwzgjlrJByFIk3se+dT6W8gmVKvtx4KnWtzHzLoz3hdX6ZL8xoS5I722PqINRBvlVAePWKhCm\n",
       "sPb8b1tK4ymZXYrMQlNkWaH2pqX59ybdoX6sBtDsMr1yd4tNahkS/UXFoXhqNc2LK+R1NmPZHKp4\n",
       "auVhT9iyK5EgoRc5sM/OLPvc5mSl7b10fvRQiRtqfgzVx+iG+Ia08ASXhYCWZRhz4lu8mP26s1uy\n",
       "Ftbsr18AUj0M8vc+McIn45G/WuJhqcQzjo2AE1e/3Cct/Ep70wEaEbFnuTyqfvS6Y7YdGmAAx4d2\n",
       "/9/PoyGNV8UZlE9yu2pR3ZOyG92yn0urTXJoiwi+VSCNr6TIlcMuCQJQ7/ji55dyu3YwRakBSqYX\n",
       "l9mEXBG7TSdXPRBbFGlDmc/0QP2RTVS5GakYcNK5SKOqk6E7HkL8CmMtGfKYbTMcezCL1oHPvZwn\n",
       "VQuPy4qlaeBHasNNd2ywkDIaEsBAd9u7ArjLALIjlprMwc0X4JTKhrhcdyLcmPNhIrMQ9IPgEScQ\n",
       "mQ5y8SHeuMlRfU3rLiaeZUAm0EL6RXESCX9nColFpYJyYQYePs8EUuDN2bHQ/QIGXTev5k7QPD26\n",
       "Li+tyVb6MEtKI/h2YTzZu2Ei7S4+So9xG9VABkmE1PtnTYJYecMrGMeMKLFjPXnve/aU4qevTC5y\n",
       "DkhssVlFQmDKsso5PTYvRdQ6Apqtt7uigJ57KUGUauH8ebzfuNL3EozuJUqLjtYF3r1hXAiGUR27\n",
       "alzshJ5GHyJM+NGUjt3m61ZfDjIQPnkhF3J/1rivfIH0IB5+CeTkah3F+23yDEZmiRLUxYFHG6+5\n",
       "i08eHQorOEYKKqdCEP9htm3/u2kYmnW3iDNwqHLHAzuaUtOXAAWP6v09QerVcBNFuho9Cw+wl5/e\n",
       "qbMvzQlz6topiyacMcHKNApFgVWJOvQM8KYhGeYSTJekAiU/HLQaReN80NKKzXvA8Woivf4TtrNv\n",
       "l9MTpUEMPBBv+c+Qv62PTUhP46LY7+qGwIc9qntD2FL8VNEZMzDw9Rmisrlpll0reBU6Yv5IkGpr\n",
       "xAluVKro/MZgn/+SWeB+B1G/NMx7kj+ERjWMym6XZGquMyICQDTSaQsG6Ps1vABZ3gpkEftZkVMT\n",
       "byOExJMfvQeqQYD5OHT16V5ID01i4a/5Qo5EfYG5rIWMi+BCVHZLaxdtC0U/Yc8HYT46ji0bJnnU\n",
       "8vr4Zk2QzvwWA1irvgeu7fkYno7n8OrVPdJ3pSIF/V4n/ejQRiLnJlM3Vnf2nEnEeUpIMjRyB9f5\n",
       "jWJnxSVihENxgLu66XKVW5WObGo9D9Ka6u5wyD3FNTon+J1fG/A2b/RhhvVRniug3MUJR9Qn6s0X\n",
       "xVXT8K1NsrKelBaTKFJMOkj6zqUqWFeh5YpWoqGYUj2+n7Xz5XkyXvmflJdd6SoeBsZPrUn7vEMm\n",
       "2TXdtFHpCQ8KT4LaFc7JtEViJaZxF9Ld44CB8zEldudlsFSg7DPN/X1ruQ58PxDlTsNT1Ts1zPSK\n",
       "NnB0SM7URSNKAqRgvSfDtw0Qp8+x143YQ8N7eHu1qK2IXGq9yKlT2Gsbgb3AncXs63G4gO36ni+T\n",
       "b/yMcnCin+Tal2XRWo3qI/TsiLc5LzeeXtSWLspPfysO/7vIa54cr+JifP9ygsB6/1rudhgnrKhK\n",
       "G68zJKJbnPjriehg4p167NtglzNuF2NC03qMzq0xj3OjB7UA1iZPfmYrRzQcoB4307Sg3WhBdix+\n",
       "666rIMlestWO4STtWD1yqtZda/NwUq5RlFg47qvS5Qba/3T+FCoBhq2O9MrCJOoUSlj70OkNEKkK\n",
       "5fRPz4IccNqKRXFr/OREY6D5K82ytCf6U98DUudklEIVMyPUUBbU8VsjUJoHJZRJvQtNv0iv//3J\n",
       "moDgv/70wg7eYvQ3CJ5F7ENCOanZVRl717VCI7n7VWjBKXotAfowDUklMnaKuQ9VLFJCzH1o5NC3\n",
       "sI34R/SK7qxtf/neVwJHiCp0WCAQY5/Y8I9kJCrP9K9z0zLcoAWrGEX3m4BNeztEoOtFt4x2z8PV\n",
       "m16kAWu06RHQxxbgjzpHVo2JgCaGpTJf+WHO/6DQgW2xS9b5iUirlcvSHTc//0Wk8FwpKunomWoa\n",
       "LSlwahX91nrxXfHuk41P9E2TSCZT/oGRpVGcYVkyT3kS7SB7q6HMQX5qaL+8kRVfH11NQ6pWqd6B\n",
       "soBnHuXoCT5LTBeT0IldSIOI/v5StStSjJITFFrZ3D3/E/sj3NEj29ehRVK2JGxa3FVS6/C3neHn\n",
       "Mbn8fOpYDnNfcEFH6gFQwJklOWBciii0ufqSk7VQRV+pvFW020QtHZdM54TiXfmIm3zy3N/jD/RL\n",
       "MBlJXebpPMA/HGnzCks1qVvt/1bLdaR2gWJFkcfRh6ASS/nfP6njjp60CBhmFThxwK7Yj4ntBeav\n",
       "YGIok5G5dMNxVL65iM+g1NBgb7te0wTXmh7mhzRzJlef+i5EZRX2EEFYozV/QSRlMzR7qe0PTc0o\n",
       "J86nAlcepnE+ymT8LJv2TuxlQeEqRTQISkV9SFsxYGpBAAABVAGfT2pDfwADEfcgBxdMCEkkNSP1\n",
       "6nYOj1dE0rp7gApwBggwdwEoFl4CPXpdU5sJXxqAs1B2Z7ct19Zl+x3ghTRSnpSSkjOSi3kF/Sx2\n",
       "hHhgfMyde16L3wCztdaT5xZVaazBP4BoSVCxeY38d/yULZ6TpcFjb2+9TGIurPGi0o3btmCmtGga\n",
       "dB4aOCrpdMvv4ms5NofZFd7vfA7Wq/UsTaaHfDY+n4ZcJPc3lHfAtA7KIbKC8ngCF5c12TRz3Vq9\n",
       "4zTC0xp6gJh8hWEIfPoP3fmH9FhkLAfpPr5B7ZfDibd5rgDNP+Oa+PCXpxUWH453u2IApDZddQDB\n",
       "bBxGnh3rFjb7Nrmk0cEgFp7/XKC38bWoX7EKEGgQvFXRIYwn25fakABucJbmwfx3Q9yiEE7cwkdc\n",
       "HKgx0UsKzZNwJSS4nHLy5zbk0bm9Fz3IzBLhpl8x1i14IUkAAAmTQZtUSeEKUmUwII///rUqgADA\n",
       "cOYQGV7zFbNGXFy1n9eH8XIWTlVGr3ENXB44Lh3VpEImaXKiFe0Twn1TbGIXLZmz3O2BLsJgIog8\n",
       "P4IoahfmTY2jrDM19jxrTqkjIQD3auXyXR6koFDcA4p3ZQkt/2e/iF7lzoYI922j3qP3e2LT1RLp\n",
       "hI3oAjQAl8rfBAeq08esbGTQ4hEiioPMrkTGY5PFuFZjClZjmAjfGzvnufCVaLYcEmAv7rMJ6GlF\n",
       "yL7zg5LXjCyc+N0tc4zmdLWesRgu8ZjqhKRfuEnBTzZ+XMyg3SeOCDEW2iHEnUJzchw5A/5VrDlh\n",
       "HIpaeG4cpK4YGirmf6B7z3ezf6DD0UeQFi9aJsS56GtwFd+czURMoVKMNHVhETO1B3YpUxgeoJTV\n",
       "NQMl0EzZ/9c42YmTtWJ+LZq3e+7tUnc0cmbCiHUdxQFf/M9/rlcCXvpoAeu2UtPU7kwH3ZFvbyss\n",
       "af1XyKXN1XxVo3PKQbGyKSLJz8YOSJG+hP1TjCbejwe5WjqaqdZ6b5JNYZm1wuBZuCsGA8PTwSep\n",
       "4IT6BKHFw09/DtBnNbBPwdwbi9a+Zhy0D+wEdDD9+8txXtK4Fi9S7QRxjLDcOlF7WEKXRoB/hF/8\n",
       "aeeT6+TIUrqPRIYSSwxNWE6jJnHWXlYL3XXgKMVwpWp8VIPfYlTIErwV7+cHMMBBDC3UZhFxF6Pg\n",
       "76YshfvIsf5JPxJgbajbUxT58uNDR96lte4JtcfX83vjwzM6vr50vou/sO2hnUNfPPiee/OelgD5\n",
       "oLFBaxysQlM9jFNuTTgXv5IeH0xz9IVytMphNOfW2fiLSfZNojmwH7yUPy03h4Lz42e7dXZUZegd\n",
       "Ju7kG04L5Ulu+Cu9PXRKVOApkmPLToHlmg9dtg5S5rXupwUx6p8yJzSbakEOXp7JLuHeO/G/Bviu\n",
       "dhLeaxzyojcAmZKF5KsCwMKboOvRdFdWShwf9NO68A0GYntnV1QVaLBN4VUDGXMJNiyrk2i4uEcU\n",
       "eInWELyMt6UN9ZcbeLxqOtrWhQhNOO96BBOUth1InIhFcnbQuLee+hv2eChvtwGBHqw5dkfT1Srs\n",
       "eSaSgV/2czxN3QRAWfc7BlEP8PhFDsAHnFxMb/+8Smu4kEL9C78xdoBAmqKrE8E9tJRTPyU/E8F5\n",
       "Y4YtZhHQ8RvvEW6CV9/ef5IAe00a+KJgJiWzTmCAJV6lnrhFytZ3qwYtNUms19rnX+N9lH9GQ3dJ\n",
       "6sLWWlc6yANV5I1g8BhjLoBHlW6CRKm4WOptnhPBiLip4TGtbjiDwPs2wZXY+yVn7vg9YTp4mBPw\n",
       "NrnC4kqwW6y2cLmLd5oRSERULHozfBQNxKDrTNTbeB4GkKbCeJwqdx9PNgK/pgkc2onQjgRQa8vh\n",
       "eG5kqoCl4EptqlkmZHyuqXtympH0GZETP3KWHtCBtsXhHeW61Z/WyJ15fQ2v8Fpi9f0xLisvJtGo\n",
       "aUaYu6JNvJGxSZ/o5WtdVWR8VSxRgPVALIhufntBQFkou6vgtDmXW/CwcPT3IA053E5BzqjoyAxO\n",
       "/b37HEN6l2NRVW9SjyzclAup2vRN1qIZr3a9hoJyCHJS6L2ZalpwjLeGHsyYW0oCLWfRjwxP7eCO\n",
       "xZyWEmY9HE3oDPGLuFl4GKOBWeQtnbQB1PFG8IYyByRkRpDsRs523O3ixkplOazabJ2QxTD4Pbty\n",
       "1hCgdGc4QKvBmJv4HIHQNe0lM5zIqCdPh6mE9ahRwLemoDsteb2/QEU2UatwSAAjRCy29ki62Vrn\n",
       "soRc7eboIRkDH27J6+5cq/qxyNC2pFuYMf3TImSx0anG1Xs5fnoDEZ+8beH01t7oQwH2AgGmfxDX\n",
       "IMsbpIl+MiZj9vQlUJq+r8k9WdkrRPBfnX4AR8mi82Qq5D7Erc89+G/dLN/MARZPVwRlQA/HqsfR\n",
       "oaKyV/HxxM0TKt254bbsVQO6web9zp7evp9YgB7A2eAH8wrWJ3pGRi+xuGHvzO/uoPgpVu7IjKo0\n",
       "yjPFd+44lDaqlMRbdx08LXGy5VbNn2mXA+ggh0Y6AbLt8JzUTLJvK4pv1nUZztLnAsCtUa0IYF3K\n",
       "V4ypTi54XBBzF1D6Z+QzVPqjX3+d+9mNm4tFaacedqAeZj0IyEOCOOElg1V5xBBmhwExTlPSUZED\n",
       "DEslswZfVZ0yvZwh5OOqPWiVDt6TfZfm7ieQ7VLu8GLiEAwAz5PpZFnX1/VCxo7yi5P1IjIkwWHw\n",
       "WJrnAXNpvdEscTUqPOuI8Mti2+0GiwzRne4PBJLs3ce39uE2SD4BUYY8zB2HiHYZbV0xutXVLgil\n",
       "Sv7xvwJon/M5/mC2xExXG6tIFPvVBi8Y4LV10l7x8Bg1jJQRDKsFhXsCqh/PNabaPTR9QxhkJ95F\n",
       "MwB30kjAJa68uadDIdLMZ/kWTA1Ye6r69Yq7VALNhSUfWLWdm5kSdeMOOmQ7GP5mOR4uhoprozdR\n",
       "o1N9VE9JmRbir4jar/1ZfNovBcWjwjaEokj58KS9OSZzuwNASgrkpXfUR2CoUFrzfRFpABbOIj4f\n",
       "cz9i8h3zWiPfiDeb1x3dsqzb2vdLLcOEdII/Qpn0ZbGwZe8Mi5qxr6bmRjBfvnxdQAWvLsNG6ev+\n",
       "KweFpg0fooahZeBrd9wuHruJhRR9vlVaULNAJ/QflYJ8SQvNw3lEr3rPW1xiW3kJdXpKyVqZAiFb\n",
       "XLoFFplkqJs0UP9rAUz75245YGAb5KF4NJFF06u9f3sfqzu4U9EvEoZ+u94cY7j7DZ6MBC8RIX9R\n",
       "j2RxVYLUjJS+Od/ZWL2eEkUekFbCD2Wu9Zt13cb4b0XLm/999y7M9tQIMnc/bTVwpjHRlfi/KINR\n",
       "rm74FlYBJM0wtYOaJq3Ij/JKtCt7GSNkArWEwn6hUDfex/UjHjUBLxKiuyDSNzBSRFOG5o6ZZ3FY\n",
       "cTmf/RVJPkc6gDVuDkJXdCWJXntjlvnGwOEjofJHHDNsQQu1ZGfphTjb/ZQv475Rxd72zA7BloiI\n",
       "8ul9rNt1OGkIzPyqcc7/zIytfbGJ6gFaxqDRjuRuqPGGSSjtodK1ddTRON74Spdifq0X3zeR0wkW\n",
       "tlnH4FptMMl0D1gRfJMISYWX1h2U3CpDxRBeRYNomJt//d1xiRyz/TkktB1gSusk9VmzZg3diqw8\n",
       "76LuASypBOcazgjQDkv4IV/0JqxbFP2myKMQJsDk7H6hAXPS267FBFhY6ggGgX25zImqqBipndbJ\n",
       "VAhaVcvVWR23CbfUJkB/QXz1Ubddtrnw5c16gkJo+4JwAOTjuu7gAAABOkGfckU0TDv/AALuq9eb\n",
       "Y4QU4K9Rko7oKJ+AAoXoLdC1sSTEpRueHUQO8RkTqcYhhneAOjivqV9zXLunWfZIkprbaL+9ZbQm\n",
       "u8pVB+guRVUVAqIk18UAAFkIA86HqTGU/3/+KhgFlMjsSdSEU3R3+qAE9g9e6yGhA6W0ARLKMK+x\n",
       "thO4D1oZutu240zoimElGJtroc8kN4E3wEKqNrU2SbOMDFZ+ZNo0TK/gAwCoBcZ+52xTBFetIpNC\n",
       "3ifqnO5zk8+7LhYZ/qPWn89NQs8r+zrxBj9qaUuWCBwVSIREuL4DlCk4uB4NoSaJyVq0lauJw6Pl\n",
       "driUw5HWoEe07Qarc609UrLvNgJUtTXVL7Kh7b04+TfIIu8R//+JkwyPOKTkOozR/+3sI9nVp5Qq\n",
       "t/z6KbRTknzaqQnekgOZAAACbwGfkXRDfwAADiafgHdluZpyorDl7bBetNnVfpsV4Iwn5nePkD+g\n",
       "CoK5GYTiioLY0UBGZvrGdSesLAEZXIX1dtAXYs/db4wi817ukRCuiR92smTDgmsoAbAoogMzvrcB\n",
       "JadsmqddjZOlCCu/9zPZ5Q6wJ04beeUTdAUXepym00FVeC7Flc7eJQhuMpHKwWI8oecdMFXFX667\n",
       "kyb/w3dP+6L8rh1YdLERr3PfWTkXTykksn7PDPXR2iaz40TOiMitz4C+DcH5d7ul+w7WazVfPjq3\n",
       "lXPYfqeg2mmDmoA9mUyqJLhVcgoto43rPoh6HGgPsmwtCsJrMsDBcQG+wdLuCQiNyKRR39RpEq3j\n",
       "LBlTcDENIYKBRmAgvMjMfnyYEg70zuUz/gnTbIs/9ymnMLlr6cVPPZVbfpdDvXEAVyTLLJSDyVzf\n",
       "KvFyuDwm5tR6pSoLE8vsNwfv54jSM38kvZBsPOy3U3yNJBkrE9QTLKApJZlLd0/MKKMOL0ZLNX/5\n",
       "8weDrefC+UJIvlNvCD7t1pVpSu7yLx///AEiHYyTLp0D7ZFgVJNR5ljs2aKtGY3Bmgc3O7CWBmiX\n",
       "QL8h+nbrZ+JHAdNBEh6DpHtsxf21RvBf8CtqJnslodqEveBej7bVidi563yuq7MkCNGlM3dZKK4U\n",
       "Q9t0NOu21IafTCn/A3d001lHya3aMz2y4GfmC+Px6250KFN8mfMJj1is/qAiO+qAAzw5SfgHIpdB\n",
       "F+DueYmkAjVI19ptt7yjE1QpyXiiY+Oj8RFvNlvMIwBUUm6mUZ7OSyJYlGVHdNgFQ1VBatXj3jOB\n",
       "M1/9uyDCSXJTOlheSrvmAAABzwGfk2pDfwAEFr0A5z1M8z/VB2O9NctBgBbGwIaSi2ClTQGQ89h8\n",
       "JLY10G/U3BwNu67UA1w7ZmxRL1tzZuDBVG7RbLFDdkiyOesvo0eTwD6Wp2X+sue0o9y5VzbfF1d2\n",
       "nR8K5KoyCdZOBShjC+9zUABc54YTYAz/x3XTvuumwRVBaZiHxSP3Hj/HkeqAg/AdJWXfybWpxjEf\n",
       "XvZUI33GxLKY1bNKOKOojWRR0zTakbxjHU9Y4+NmSEoPs+DuCtRrgw7pW6Mb+Ot8ul+4XPDfoJhN\n",
       "FcjXIzjjQHgEOc3TDM6xwfY7dUatxQnGSJL6xWkpJcZdvcAgelkIjCxY22IOr3lQgXptS5b4H0hU\n",
       "URzbrit6qNS3WZs7rAcprx2g4ExP4tAKW4yiJ6UYceHw9wRKKwqcFR9oInvmVFiYptk3yGRcF0J3\n",
       "MRagWqjym2mwoGkTVjp9i6++1T3vhotipwjehJNpsJMIcV6cYnjzXP/kYbW4xeXCzLBcLZebUpv3\n",
       "onKtOmBFP7pbstQbelHbtxf07pLQ/ohYlJS7E2yy98I4EmnA5mwB5Z2NtBWgfgQut6ByvNsH/rBV\n",
       "rOh61qrCdq1JFsFfqgQujMBgl6crPV6/0mYAAAw0QZuYSahBaJlMCCP//rUqgADATRh40f/BbveS\n",
       "AG6P/4gJKpfKF583WPgRthi6HLtHRYoh/NczLxr4IEUS6kP5/l08eYMc8MEduF/IWCy5tax525xZ\n",
       "qToI2V8jb0LrFm8el7wd21oTJXa/NnYjrcQNTV6xwL+XXW5rn3TreuVO1xEgaZtMZTB63xahgXzo\n",
       "40T2FhM0WlbaV4SloDIocB9iE+LfEsINDDkFSbXmTLCHbIOLfO/9iWybHTcVftboV4T5De8ei5nc\n",
       "NSEvbCq2x7aWKw27sRCNHL5EaXns2Py9DKIRQB92aZWRcz0SMbQXYzfoEY8qfIj8iTUi6YB72DY/\n",
       "zuDvMne5nvN+mUvhlJ295b7LXGtEd1QGn/wVpZ9Vs9/4KWidrQmJYXcAoU6VnxVv4O6eExZuG8DR\n",
       "lMLsxeol0K4ccFkjHIhTwQblFgNcLEdVx2IfP52jny68hR8LBbCi77E85HCy1yXk69Kl/SwVZgYP\n",
       "ODB+XIr3ZWHxzztyUClxzffx5+p2V1JQStkEHQaQux4G0AzEi/OX+wT7YSnllI/6Boip10F4nQzd\n",
       "BmjGxam3Dc127OAx2XgSJhWSEt6sZsw7Gb5CuSSGjRy6fuQIH/cD6T07t/lyyaHAVFqjMRniIndT\n",
       "OuA05Tyi79QDxA4ZTooDfT1TQHHgVD4vNgUv/1tMS+F7b3CjAq/CnH1IqUBjx0kWk4BFj6gj318W\n",
       "CrsQXVBlnKXyNo35Oj6bqmj+2aPu9i+3bUCnX4yEstG6UKOfMk8IAXLlqu3pHRTV/SRxY0ODhGh6\n",
       "VSB41+ihqV8y3HK7AjsHXZTNc2XzOT5LoQog8Nai4rrMbXBiF5d1FErpvxNLihQQWw8ImX3sGM+c\n",
       "BCFM/rKd+35ddEZ7CWe0vfLfGqnD/6ZqazmXvG31KqIPjKXhGHzf9EWDBuVpBKNEXZBD6LBFju2D\n",
       "HNxK5kK6uHWVnWtvvBnJ06Yl7dcwBjXbiErMujYfJQoke4fexatGOPAZqJXQDNewIZOWhytU5gP9\n",
       "EAbfEA/PpIwdQmOHs+48LCkqVSYnTFF5uBt6G+RLGhem43iCZKuITyzA02mIFF7QuyWaW5xzEVWl\n",
       "gHpSQAWH4eR3dMx1WgQs/8y9QQ1DejP0x+DEP9HJQMaYszV+VPSae3Q3LrpID53FWYMWxX1LDR/I\n",
       "kM+PKt4TmekZHCAcu0dWuOeRyHdm6R4akQp6wz0Kh/GXMakv8ds3lgt36e1KvKT1l/Vpkd1J96UU\n",
       "zx8lWYbDRmDaNXCa1r7xC7bPppFy2/IaDbt1hB8vqUU9u50s8ipkmN8VImtxRSet7wgrKcE5Crek\n",
       "j+5FgrSWVauqTivKWLv/nn6IaKzAsGdGRIAIE6MTEwoOsjA2up+AHW3XDGlEQCF+kgJQ0efJn7zf\n",
       "XmEHuuJ1DKVuClMDR13gKTpRG/bfTcyHJcUWy8EFSivzfrJtMZDAhFs8rei7ibbaFeKPimg5n5yE\n",
       "mfoSvsYyLQ5Ky3yKDXQTNWKua2q9OwPmt22R2b/8ztZ8HcGn4GjTnIO8/x/zvsOcHiDY5emLQ6CS\n",
       "1PBLa5kp3tyGugpHI2cOer/shQc4/GDLgOlBYQ2Zuwamd9WRJl+rWVVDGm1BgvnrQcz3YmxDxMb8\n",
       "IfxpvHD56ixK8MVGPcpNVG80Ripy4xaOWcmMH8H7FI5xxWrf5HWMCKz5QAFtyQMFK4PAYRHV/+/i\n",
       "X7DmyQ2CrkZAwxzU+aolV6WMNllOEwu9I2eAJmnIVBrexIcIjQU+nWq8aixSXa/uNcv6W7rMpt98\n",
       "Percq0rCOQeVVPSUHi7N2Vfke5ZtA58O1fG+EmtesRUfqqC7vkUTC5ZSBpW9W/O56esqGQetVyl8\n",
       "hGM49KgubZVfcCQz4y91rXho1+eZ3wILNu9CCTidYg/ZML3edHL/gqMNngNxJIWpnYxyTwFEbn1d\n",
       "PPeLwl6EdXRTY/Q5Bp+CaBXMUd6TmQUTAsYzB1MhvSlWNOyvxjoa9dy6ByWHfiwgasrQm0HVEzys\n",
       "21PPv/p4UM8ybv5oYWEEyCZ5DnHML5yZI02cnS+kfoFPRXcNv8XaR3fT7ZZktbH8kNp/0wYPNXmn\n",
       "2+E/dscVx6fsC2IGBMdpujEzlVqtTlntG36RaCUcgicfnUrnqBnYFl1lCiggIlyjBNLwE8qifK+2\n",
       "Ba447hT2mBFNd+T6toXIWKqsIanZRr5HFP/0k0/5lbwP6K/ODDzYLjcUyegzxpLdyj6pm7WLiTAK\n",
       "NsQdkE2uTW7GLU8GbDJ3RWl/pyCdx/bQca0vYSbSo4j1OUdkXrXF/E6AuLHtu/y9XQuzJSYHEnBI\n",
       "YUgnNn2fVU0td8Xuk5uL30hqbmKjDFttQbRHydkJEl6UFTH54+NTbmpdWlM3HIw8qiRX+TeW1+1b\n",
       "nHuWRbSsyS7RGqulP3B3vxn2q7mL9e9KmZk4F6h1JA8Ta9bvE+wga5EBNKEo3QOdlgsm7R4tvpi8\n",
       "fCbmweE/ou39HbTKfh1XvLWeaSe6CbBVevlftWTsT9jUwMvH3itLTzaYmX7dIcQC5sGkSpdcO6LK\n",
       "ZwWchWHMcXXsJtpYpNQLPWbjOSxT2lLAXYbeg/861AwGEGP4pbDty3sBTAKZlYfiuP7j7tiG47Zg\n",
       "AUiLTrPpBIdfd3mZ3xwBb2FCADbEbZZK7lJOir3D6cwrxjfUddoJeGOJbhKn9XZmXS7TjA3UYd/m\n",
       "r4UhwA3YJE2bYu5X32o+wa9Ly6dvFYJC44XGL8C4t7ZQIE8sF9/SWP/6Oz7WA3O9NjJAdXG64VA2\n",
       "YMXiDnw916FER7y7/YtOiwcQphOKmAF4kmrliBO1x/EatLgewMw9zRokKCFkU/09kMbsIG24qZUJ\n",
       "MBuAiht8Sc7x8S1xCx2oc7lefYfnOYRf1NgfRwX8yeg8lovgcZ7SKOEdooRqHMibXJdVDl1vSH+X\n",
       "XV7kiAx5pZZqkSnR/bjabJG/XLVUKI5re2DbtsP8T/tO9o5rbg45NfFUKecs8oJMXaNmsWL2FOkw\n",
       "FQdRaz1cQIz7y2shaf3iWryKrsRNoIDIKXo0BC5yW8BRN0Y9yfZwX89H7NiVF2gHJDC8qsQgWFDF\n",
       "8Q5r8MiLRHQgbpkZqAty3onRqyAwRTwTVwWH6cBGxkMhlRkBhH868x9JdPx4yM9sGwhJMc+MDEem\n",
       "DMkQ7VFSUwsUnzLNbZXsHohlUsXSWMu6alC8Gpd+kQji6sgWYLXD+pwyBuXsccVS66Y/w3Tm9EIg\n",
       "WakvVQQM6xA5n3rF32UOfhojsIrRU3tAG1welne131gucnMVS0n/vMCFrawkl+M+imlEYI+umkbw\n",
       "BWj8IxlaSyEhp8+TVRL2+w+nibJyf3o8Kcdv9xA3vytOu0TQfB8RmLJi53nzdttUgFFGGhr9vqpw\n",
       "mPFLaqvlB0wiFic/TMjhf2ayBapPT/lD9d9Q7XIXa4/xNUmThnPWBvfVKpFb59HER5umitouGTkl\n",
       "8paG0ZbUhHSnymIw3k8wYGjVlu7HY5Okqfoh4JvMmPC9ymp1JoBGfgo92+2w2oiDo1M6wk3JYY7G\n",
       "7VNqeyzNjOvXng8ibuUHPcKjBbkzNUFb4cFiTZ6W3zU+egGKxCtkrliBnR8/FEy4/vy42Y66gEHx\n",
       "VYgePoAQqeF8/J/QY2+NPIs9gMyz1CcKDy7xuiFq7/J/cOTmE2kH4WUBVEWLnN0YKat3q4a+AblK\n",
       "SrrjO6OwyWU7jtuNanVx7D8MNei5RVj7rzvyu3WlPrJfzthdw7Uy3GqnIOIKQXaA96GO4sSnYEYT\n",
       "RIksS3q5Tn9vuUcVdTNpV4VhbBH2ODn3lnj2/WlE1CVVdF07/j7RTNe0gCB9qska3TiOv6RnpFsR\n",
       "usVNZ5LOghUPUhHdWsSmQzpZKnJ/WZZjBDt41HXpjK4k2bxLPRs9elX27stBm0GlfPa72hWddevT\n",
       "/7G5usfqQ+RDsNGVra53v8Jk+ESuMeKBCWStxl/ftMKXTrx+A18bm+Z23x2w4XVJCLhu9/6BVFdS\n",
       "Vi5v3IaGUZPz/93KyHYFNkjF/FleY4qa5yJIZjuguT+bZvaw3xMO4+gcX+bQn5PAB0F0r9wnx8aZ\n",
       "vDnVxF9Vj/Xcb0yR1n3RRljywgD14Ff5+3wYS37VT540v1UfTm2qJH/2DXUpHvudiuqnXMBVCeo1\n",
       "YFOEEHR0cALQl0pHWIWpncALxQAABBFBn7ZFESw3/wAEFjJSMN6gDmXffC5uhohimb6AAf29g94u\n",
       "xtaa39cpUd+UEyyvfoqN9jvUqrB9c6+pFMdVNJWxdgfZObnaEoJnQWkjjez/UQhBBH062S5qbLbB\n",
       "MGwoPJh0GYMMFdDFGISPYo+cioTzpxz7W3oyNxqPYTaukCf9rqOzAC32s+B/I9ZG/HTNDs9B/Pt/\n",
       "lSKZn7/PJiL1HWgfG86VFC1ih+iZMJWJnqC4/VDKvP2A6tcrNFEgGiCMO26hy5NSoBznfofPKfbL\n",
       "2r9xRepyj7DK+OXnt8hp44An8OdUpRKd8DyLL5wSsaI8U6ywhlbR5AHCrQXOxW2esSvaC2COmM1n\n",
       "Ogny2p4V6RDCkwcPtJ096tqCKq1Dx74KxWfv/f2V0ai56E0yDoiAPGAg8Wilp5e2IUgjqX5mOnZZ\n",
       "NCoXnYXE0xVKj78uvPenkqy1GlwCyjd+RdOEfNd203aWTagQZfNat8D/Zow7O52gVqFd4ihzNpgz\n",
       "DieNzBZjQzGENp30ntT1YH4WCpTtJFMXJGklTZUXgMSTEgKQzxOw0bimiEjhj8/dkROYdUXrx4RW\n",
       "tVSvm/hJbv61691MI/7bSAC6T6jGM2o+ofB7aG4auTVAdOlliMORkswc3pQvCynsJM8pfi3PdGmF\n",
       "zkI5evcILBufzGVY3Ud6IqMLWmWR/V2gkDR2owqTtRB2z7dy1UUe8paaoIj96qo+2wb0lg3cyFyF\n",
       "AZH+iArbvvGcgUCSjixLVsiZdmg5zjvBgS4jbXVaue9CD3mNByg2ze4f/LzRkvdmj0JHWbpkvaQl\n",
       "9VLGrSx3/9ePtrmZhmG0YbvDMUe7R8l5KV11Zp2mqZeH2+HltcivnWV+S5iC+WFd48XzXUVaMwB8\n",
       "38ivjR2i0XM7Dl2NknMJE8TH8O2fnLGxCaqgwidj/4c5Au+S16cSR6KY43Yl7UYRqPj7tTYSp0uJ\n",
       "wnlEGcm9WDiwIGvFZHfn4/WRpL/0ZX/nSZRlPT3z/jZwnqaMbC3bFjD6B6YBcJslomzh/2yYPncp\n",
       "WfY7nRqQ8MeyRCSU4pfGm8tNJoI0+3Ndlamghg21GjluZVGopvtYg0sFhUpweOXU46ENOYWC1M16\n",
       "Eo+z1wti8xpy+O96Al2OSmBoa7VuRg2lW3RWawGDFJX+L2F4kNL/MNoH364d1iAGSzO9LOJqFTaq\n",
       "mf88hLbkEgAfErJX4jL7cIg6t3wcJjISbd4UKK5lrFjhDZkmN5eVPwygUHu0VaedIGLYCRP2VY4v\n",
       "u+xcp58yxn5NbVunyVLjW52svQ8ex9D/byCpvpcFYVqMH08eqA1LZg5wFgsqUge8QZNXqJohjMOQ\n",
       "M/47aWnT3349gHxdsdFgH1xm0EeHzM8NG67c8rjV+b2cQWj07oAAAAFjAZ/VdEN/AAQV9ZqqxXni\n",
       "wACFw3eL1x43PGpi2TBF394FMc2X64XUmgG4f+gIDx8eeyIjMUIAAzqMBnJd/ysHcT1cEsk1WvaL\n",
       "l/gDjKTc6wlm3WAkK1NLDbP5vGVimzeT+HGQz7kMY+85jJrolBxyDNwwqSVkwcEiiEiV0SYUoPtd\n",
       "kjjUTeLKxWHmDmLL/YkZGWgcgq9qPAT13ZkVlobnJDHigaR5S8Y9ZuAsgQSV5TjHioaTJ7Sb3YYk\n",
       "kdflGqDsFoEsvTNhset4qDHAMiGrnavELwVjqqVvJ2TDLl+PhBBroBxG7GxVfSOUnwcMSeSBVJMT\n",
       "dj3wquT39x7+UVYF/zPOFw7LswGXTWEI9aHW2emyh34uWMnDo/N5L3+pfHn6h78QdzLM/uXy3eUu\n",
       "zVz9lXRVQFEfUUeVRldmlAB8T5/s9eo3Okm0BPUiiScP3Nu+/Xl6xZuVvPX3Hdb3ev/vKKTdwQAA\n",
       "AUoBn9dqQ38AAAuj0J+TG2pCMLJK4lPfSV+5GjaZOFCki7yoBkzaIUZBtFiR11uCAAAeAeZWwXhb\n",
       "nrkthm8+QAONrwiXxT6/6x381gHB+RDf+KllA3Y2gBKYLRZvjlyrKuOfv6/C1CbJ9eCBK+wUpVKB\n",
       "Yn4B7BJ8z9Btx2CCmLT0cV4A9LFdJ/MQOwWQFnZ4MH5RozuACwLaRK6UU3Nsu3xinqNbSObuEsB1\n",
       "60gHCT7n0myRt4q7DIBoR/rPLBfeQiLVkqbk/tVJF7qPkn5UfPklqwWjpbTS/94oqbOK9TitGz3L\n",
       "i70riQAsmAeSAw5bZP6QXOv7UVYmnUjecMRIaZ+LnbDGyD3igsHWFr3G7OW8a6B1jnn7kLruxdjP\n",
       "1/ImeYRPX5ZxxZN+ilxLUYp3htwR5ejaK/hQdFnOOSx+3/xo5zG/OQxqq4rlqYEAABGhQZvcSahB\n",
       "bJlMCCH//qpVAAwFD4AALsHJoUOSHo5VXmFOj/24HPPP4HAfDtPX+a/d2AcGEy7phnX4LGxKDzpc\n",
       "31ePSZ1s2rtv30e0Neo7KAO0TdR3ZIISHjOY/H0vgg5R+xaJFkTSAypiFvYICg0uIRvCMtoAfSCp\n",
       "mqaHgLz7XnPCowh+zfB2YJD3Dk0nIOXF8H5HIS0oJJnoejlLLxiv4z4okY378f2B2Ny0sEd+g5uO\n",
       "o+vZqn3GzdmsVv2CNZSYTpUIxCM8kJeADhPLZXXnD11eIfYnDptAbbIETukM85M604dXxZ5XAFa4\n",
       "2TC/QG+5wMKo7D+nmzG5s7pO9s1e1MlqxjFEApz+JPfXpq7tRo9IPNUZAUgdW+entnAk98aM/Dbp\n",
       "LD5XBu+meIXj1KjIy5vxPHQQFv4Qfnp4eEQ7yH07dMZCKxoPK91dfCTMsT12akCLlCa4aXeWq2Ln\n",
       "Wi/MnCu9Xsx5g9lP6ats7Xhw6jm661s/OARHES2zN1cW05SUzXidB4eiSNhUYF63kfbeQwtrSJBr\n",
       "4CaHQ5UO0iF+L0opIX25602ozsG5mWcb3v11HJk1mUISIOuzubNX0pOw49t+ZITIo9y+DnBZYPjj\n",
       "uOm18zUzXmFnWqMvh76PAClXSrqZREfEvx3fttKyzYewNo3C89fefXKvsqL//lcoofWwUhwixnMH\n",
       "KUxk6VfBnmdIgFzqIAFKTx+b9OzpXRXzhDGSWdJZI+6f6n3B5OpYwi27ScZ/1Fjv9NUGd5I5TWlv\n",
       "zz/YsS9WUFekcnnv/gpgI87DetlRj8i1croxOhs3cw3h8a2hfKX0wc6QD3CxxmLl9GMMlJ+XJNWx\n",
       "N9IZsUMSI1UKqL8yhR/FI0ztN5DBY6KUE85Aks/MVD0hijNsDKGWGvQSlcQZUbIWzMTWWL9Q60xy\n",
       "fCfOh8qJxf8le7zKCTIXSGib6yfKGqSrtjaoGG9gbKFa8bFCzmEo85KMRDrLLN9J6sap3b4lyj29\n",
       "CZGmsHqyV2YLSoGjus5VDRidW8Av7vQ99Z6oHBDzYxXXRUjgbgbIZVkhNCSYIxdLpqcwlNdOxvnK\n",
       "vlD5PtdieQaCeBnJKb7PCNrAzGxZduVUSa8R4juZmdHm14e0BepTeAiaUPkzlFzHCQQ1v9sDaqlF\n",
       "jqmBSyhGhm8apVUYpU2SbdUPo3vwcMvox8cFBHdmT6bHdlUFAiTGRYMR/qpQv91TEvropRoO5M3w\n",
       "ctUMQ7rfXol2H8ljJXWdEtmXx2SN0w5w/jxw+b1e8+Su5/WNqHKibvLqpwNNL1O6TtHtFxi6+M6U\n",
       "LbkEIW7Hnp97JXlzJclelwA7KcK73taCxo7WsiLuOitsCi7LVCJQLUxbc1F2ipDUWrpGn2/NafUE\n",
       "Ol81V7V5OokRb7NLWwYLh/QQ8oknZ7FfFD0giIOgw21IHk3qUpQzZAiIoFEfF54PUp5yLqGIALpu\n",
       "CYtNLxfGtu8eFhtnrESwwtcIqII1Ut59NfKQAeBhi3/wHhjXOl2J1x4N1lG6/obS0Xb6imAVsu0S\n",
       "YkdNajCHIoOmUPlHX1ILorOtSbmIuVbgVIrgv8q5+ZkgsVJ9s7dzhhdO3XMaAKDmoW20I2q2RGtQ\n",
       "7y5iU7iv7+YxkNlIEcT9xlP+XySTylF9s30oD8LfdMh+Hj+nuvZKiPEzecDvVWXseEBx4E2DPM15\n",
       "vDL/ERzxVR9rFUK1y11B8Qbr9KMhTnjX+NMKm/hjXieQIepD2A1LiUxSlUc8v2st5M5+Oam2Zuf2\n",
       "tDpjoLxs3Jm8uaTUgrRFF1nlCqcqomzSkjReMCN4iLflBs0Wu+mK2DuWGBbH8q7OW7TE8q7EXZlu\n",
       "VjpCSLW8ArFDbfdCafmT+R4ca9IOgzdmaGZyUxqJpe8AA4mtmqhamjiq+iIWoFFx87uOzs8V/XBJ\n",
       "vptDgPcMEQROgHWU0LTMmcNr2JuUEP2JuJt+zOS5Rd86DKfgQ2Xrt1Y31KHWy25RmKZeN6OdPlkD\n",
       "hob1M6Z0oZDdSvjLKjNTZNSNBtf6YBgax8CZt1bxvPzHlAZi+5W4SeQW0a6MtCMoikOcQ392NWPS\n",
       "NYEkTuL6Hi4ZE4m11g43c5QtmAa5Czyt9iJTnXbzbkhFrnI7At24yW83/Z0BPoNKHfEsHVX2novr\n",
       "uU+SVrzJuwZY6dKwTS54ryg2gDMNg1fjCajXXvG8CYaC8J0DK5X9SB8Gg8aF/AEaGTY7WOI7YQ1+\n",
       "ytJnJO4zAnzXRtuiMP8YFaHrTOQVy//CFMl7x9N/XFNzpfUXn1gpy5EFXcu7MVoLDpIAWDKZy3OD\n",
       "e2IVRQO3GyzQPxYHg75EFk6u7WnXq2FfusN4hgUg63wzodjXbMJl/qemonSVAQEhdIrJ8mVJPuqZ\n",
       "x+26Xm/5Lxg6vtDr8BETdBZZN7MUa3fI2c/crZzTOefGBQUkm/hz/iVxx+VgZm201+vkhPXUaHOY\n",
       "mC7vLiYTlTLupLMT58Iyw2G2zrmWcclPeszj0l1VZPX6IT9UsnS2WmaOAX8DF1WUPXezKTlXps3g\n",
       "TI9HWJmccuht5QD4m9U7vkT68PY40cAl6VjDay7K9xnoWxVzJuh9sb30tT4iS92z6YPf8R/+HVD5\n",
       "B8ARz1/22+AxQ5uhxB5uOIqT2wEBsWB6dUMhQNVhlR+x0bs6KEIF9A0diBrG5Z0mfoyk9AudK6S1\n",
       "zT+iAvHqJgEMpi6nAOgfSYWLk1a6SMOJSqSfoTk+KVKV8ybFym3CARBa8t0BCSQZWq2CIcioXdcD\n",
       "+V8po9n9PFny7/HOWrn9Osiaw2fJUtfvVuu68S+XUSmlN7Char1ORC+z/fKIWsl7eN+ePPxmX9Q1\n",
       "Zouc9k7AqXKl7mUn+pNLILWUZxiYz3F/NbtFRaRlW29wk8fjKJiAfaD7j6i6EcAm3Nvo2VompUP6\n",
       "DOIXU4jFVfVwa8KFJXDUhCR9QxVo9G2UFgaDR/tabi7lOxz4VRgtg6LwEGSov6MhkFlbF4NqMUJt\n",
       "gPe0NItqnNlAPBw+1SGLMUsakpNtbhckU2V3Ro8I+JwLblhnCmEQbG3h6AXGEO0t3w4nNxZZxVGk\n",
       "DUOX7odY3m58uXogQgcMJ2c7OFwvmtniu2NqMcH/sNsZ2wytFRC44XAegstfrbSAP/h2FloWZ1O1\n",
       "iNu22N47sI7mtCkoDAF9DMv+uh5RFv5djtxfBh5G30USfEZme8cw0uzAaCVOQJjwhfpSSmaTe10u\n",
       "J0jSZbJn8gAJFmpElUfDeUYj1ZLzYgGcgyQP+GMmrnmVtyO1dzBjfpM44Cqu+xHFNk8V6/WuWmih\n",
       "To2CCt34uIbAKxCtMJRiQOw23dENKmnE80FZfgpFtN4DOmFn6K+pEKFq0f7HxaoJ5oxnUid6IkWq\n",
       "XT5ZJzbnzqkbrr0KtG0z75UfXOcPb6syJWr0VS28dWlMCxAUpz8iciomoV2vKzYZXYUk0baAR8Eg\n",
       "5i18QzboaqNJCTd8RbZo4WDE6nf9MAvsc4bIWTU4LuTXYV4WFp/Su6C3bnKM14HAgyE41VOld6Y7\n",
       "FtobPJhj0Ikg/Ou0l11tPnzxa0SxZC2hfLP1YJyvuBIQmnOpX3MK+TbuTrbUFZNeokhp58rPYzTe\n",
       "lh064tf4ycSAbrt2neC3VrIiay0zDupatvbRF67+J4mnRJ3Knby/Zts7W0RPBBNXfQWY/ntkQelf\n",
       "aLLCfk9ZucG6Os8uyTdnaaZqXS7fJc3T+jy8W1jaztDGz4kE8pB3CSEzfq6coA0MlnoTrpb0lqfP\n",
       "yvlHwOc1pl0+IfSBlQv5oW7PxyDGUFRZw94MdLhMjRSPNPsgYx6YPjdoLGQiKmkrsnCQnBNB+Bo+\n",
       "rCWJpEN/tGEfV5hG/rhGnCARPuZwykl25smbcArBGDZ9DbDCwqOc4g1CLYJCALqV3ZA8D1IqYldO\n",
       "9zvGwkPlOtK+TgxrbCXHQJgA8Qu0E3k8LK9oPXf1AsLh0XQVnAeE5YGl6fdoAC/wKg4R5lFuZrcd\n",
       "zoj0gUEaOujxcpPUC9HHxwC0eU2lKwaHL9AbX4BWPDpl1Q7+UB1AbB3PMS29tdobOFhOOwWeNhU7\n",
       "7bssMtCzUnstKs1Ps4CCojbBI0O1+ZN/8LbIhrza7n5qtr/vGfND5qCN/8NA8E9prfnluvmgwvy2\n",
       "KhRbf6DBX176wiT4OZrHeZ27/CerYyoQPAL9WGQRRnLjgLEbevQJ/aWm+FGfKRrntCxa0mffCrGM\n",
       "H0rEWPIXmeXb9C0MG7N271U2SoM1OEFzA54xxFnSWmFqQmYdJ0HOaBoI+cYrLVWzZ4DWC6lXHaa3\n",
       "+uOycolNNX6wQlY7r7uqkqH88bswRlvHsPj02nwClciFBlwV/8K19S0kwu1KYNRUOkYYEBfG7UIV\n",
       "56ZyzQe8xuWS58UffmV7Q6p221YWChu0b8ZapSDqYsEE6+n4xVdQ6fPm3awGhmf1QIAuJslVohIU\n",
       "A99Wy1ZrsI5P8NkRA+LICdrtGY0YJWGqfx6fDWu9xLJiJNiPZjEgEsKyW+VLzsGka98MuMVQaPEE\n",
       "8IN0bjmOZdX/ehsy8fSggT9Qiwe6CYlNZIZitbB+VZz3bTQCLEUIMUO56rwZr/kc4Zhp78pLt+HN\n",
       "yA/9BjCxW5XKdnU+KDUon51Cm6FKVyvwHjK58+1uTPdcJhnwMy/IyTeOcHITlW4aIYDCgatTPQlp\n",
       "2cCqIvwzONGSFG8VffkWfQMQmSwRDuJ2G3CZ85GKShYgaTpLkBOK0M9ykA+ekzZRRAXRYfBapyLF\n",
       "/jYd5bd0Frgp/h+LlFYOLtxvQ97R2BHJhjjaDMb2s3Axn5SG6JXWt0I8tVdudBe9A+r5hCTfJoha\n",
       "iFQj8PG8nLa/BYg5168gwinwF+6kmroZmihktaTmyz6fWHx9ybZaG9NvzShJRAgI+Qlz0TYlgZ9r\n",
       "U85gqh2DZqNhs3OfncAz7zD718e4Qq6qXbN3jZlhcMDeAjfHpnwgdDiepUEvL0OmScLcSm598BU3\n",
       "U2iTtY5LnhdQ8C+EW6ZSrRWrxLIeity74dwOepD03PMwDiq3iryvg8PC7stxs8T6DMI/Z6ShZm45\n",
       "UMa6fibnq+Ds+PUdEsFliaY7a47E7lLnJ/4zlAcTSdjn5SjZHGt/erEM4kHV2jSt63Aed/bPhOZf\n",
       "RZnKpujgphVC2mRdo54xaJYL/LQqyuRN1jL72ES/J9tZ/B8btyvbFn4QqJqnZQo4zt50XkHKcl0b\n",
       "lpsqoEDZBB92A9BrZw7TbT4cV10g2kiL0uBpKPKM4U+5CDDN/Z+IzGXgOeMZcuIJQLLf6k123NSd\n",
       "kqo4l0bU56YbfGHZjoI4WsmEzI6cx4jUklJpOH5yFqM+NGy+dSHMYAgV3TfUKAPSf2d4rsnB6/QE\n",
       "mJCckYKWQEyg8SqQnxsMjtoUcUo3wUTMZIWXD65kkkTvU/RJsGe1cM4Kpu3RVpbm5X2ul/BT+FaZ\n",
       "WUbM/j1GSm6b9aiz4SsSnAtzG9mhHtTSWpHNC2iXgU4MgMrHUFhzeUfNZXgaF75fa+Rq0NvC0yAA\n",
       "E8dLmnPHzobDJfALZ/AIxXJIJ/P3JTGqfdBmQRRuLGXWFAdVkm6CRgBHIRxWxSdYdx2ZwDU9LTlQ\n",
       "FZQv+PEt9JayquEolo0MasS3jln9sC1HA8DdhGKinVLv/6jdY+WTobcaD+Bw13wGqkRY9LvXhex8\n",
       "Lnx/w01wk+uvOXaaNYPpzF8hoDYoWYuJnCmOI+fL5HwiS9z3z1W/1K2tIq2Ss+uL0ZUdj1pifwVH\n",
       "hh0atXatE03fZxaiBSflaP3LmoZvD7aehUbyJ29IB/fVtKa4L35Axvtsrrh+CYI9Qy8A1RGFj1p+\n",
       "71ajxyOHBl2a4HHal2T+JYW8Zx7nY8T2A9JtxKu5Pe8r/vin0m+r//HHcTq124tZLt5+wV3YppH1\n",
       "O+VqFBbQTtdUM8IrczsezT3g4gomUwdQVPtua4Bgs/BBt38oSfKSmwBwmWffznnlW3RJjPNHoaZ7\n",
       "25/kIOk8LmKx09gbmVEv6RQWDNKvCgUhIW5G0BlGBg/7egf6OWtnSZJAi1m+vOuoinBucItXXi+p\n",
       "AYK0jAAAAZxBn/pFFSw7/wAXdV682xwgpwV6jJR3RNubyNCFNAKTyMS9L4gUHl5yMYfg7GgeKdXW\n",
       "vDdEO7TvJg4cOlfN7PB25E1xACqBxdoT2qROMEm4I5xWQ28Sg5VSTpja8zB+Z8HOSjgY3vKqyd7S\n",
       "TGlQVIUU8sN/TgKjX7xuupn/VR/92mdE3rin4keMXvDjglcQJEGh/MEianmyl67eXHxMjm9EjFyu\n",
       "PAD+6MOAR5G6+mMD+jOgin9uOjFTMueiO+1wNC+xQZHel1GnXr4I7f/lPcO1fqSipsKCrfiUF6xi\n",
       "OPDCE9W7OVGQbAKYUoQzPjnStP3eaojavpO8VNwfR6kLOZfbClV9TyawNz8L//fOhLhIdyMN4H7D\n",
       "UGFj+jFQbr/gy0DN0lw9iVgAavTYvuYf3Kt8I1DzQY0jizuRhlSC3HouA+iGzNmpK2rILYQAD6mB\n",
       "PrxLLDIuUvgOabTybEtw+3b30FgxAWIvPx7SAB357jnSpVBSvNAskj6m1jkGeZgVBbptd3zdslMV\n",
       "O4rakiSMuw75/lGCK5evnS8G/wqZAAAB7gGeGXRDfwAADiafgHdlCnOUtvxLVA9Adz5ME9lVBxOW\n",
       "9Gc+o+e3iLaPxbY3Q7l4ONBL9mPu9QArQynkvNy2p5K+f/+WQyrEigfhlwuJC8cXvS8VYqTywB5r\n",
       "zYJyfQHss/k5xAPi5MOiwh/4CyhaNd0ggpW59SXiQQxMAvnFHGVxea3m6etRB+piBx46I3RtTv9/\n",
       "PQnoiSijX4sURSNd1KRDT1JKa96CdS79SOQnR/RREkc2mREWqgN2c5RHdM5ayy36FB8oxP25e0gx\n",
       "eFPgHYm5WlwKiJwk41IV66xRaok+AYSyq4VkmN+TFL0qefCE14USZkeZuG9tSqvE6omL/C8CulTG\n",
       "x/zlPs1vBdNiF4qhJ+RsbxxSGhtnRVR1Za0yHZ8l9DB8XfeoA0Kpu4nQn12u0CtaLAaQamsQMlTJ\n",
       "ZxQMBETSJKq3GKGCxjY0AjHcSVm7ydoxLNHR8qw6D4fgfqEIIUkQ6Y4isVLmFtuDCHp1KmkMo/Rr\n",
       "/65+SrfTeg6+wT3bd1P+3c7v9LeQBavM4egcgFQ56dyOcOcYTptBteLy7nQw2+YV5KZI8fVmFylt\n",
       "hqVVaZNt6G25M0AnfOLTTx/ZO/JJfQBySs0M+YUNzWKFa2/WyOph+sPX9GgE8Na1mH1LcVQgm1JR\n",
       "hA/BUOVgAAABSAGeG2pDfwAgtegHOepnmf6oOx3qB/HiP/94AE1npg7ZoIgt4wt/oIACUGaHkMqR\n",
       "ITgty+gNqgWOoWS0LtzkZ167yXXYitadOI583wS9P5t1gJBqRH+fJot3i7dGmcS+BnLVQsRRBKXG\n",
       "A4awQqZNwFDpgkVhrhPQ3KS61MGwF4KiWdRgH3OVWjHV2yQAOg5YMIt8/CMV4syLZSjdKVsS8bwt\n",
       "2oAHyXcIH3u6/zZJMBYGA37MGW0i/Y5ZAAHjE8Qy4BJNXcN2GAbYLla3avIbm/yOZF6YZ+bYOdAX\n",
       "1VcrZtkHNsN0WluI1WsVuOOKNtT6p6xsmDMywDzStZBMF4BOU64dUnbJlOwhXplixDIJ7mW9pY1A\n",
       "ZogEo2I6hVzo/oRHbrRwHl3H/xAfLdCdeYJZ886iCxegnOoyMkeo6Ka/bQjGUbEOwomzGTkAABBc\n",
       "QZoASahBbJlMCCH//qpVAAwGBDAr4hWFqUqxkBn0ZKmlfWUPopeNc0/Fhzsp8faS0DbNNX/jFyDc\n",
       "nJkF3OMQigTvfd/+OSlWTnSVHm/OEm2B+rHCj9vyvrrPhLabsOXndk9/TTzdB3tBgjWdvFBbdy4/\n",
       "7w0tffxVZsrVi/rtxjb5rsvo3qDMTrkvsLjg9/QarG2yu/OsXRDQqIZWvVaxBs3/nHfU/LrunXNM\n",
       "XeVMTHm6rlLl+uq2nIelwdS9XDkmhscBQDZj1JF7r77AoTe5DTGS4b/nEDk13oDrQAwTC8lD2bBA\n",
       "HYxUAbhF//9iddOAvIrZOgVLFq9ryqn2k4xugiZzvqng7wLwUYDlqrS+AjhPR56APJHNWwGwJe2M\n",
       "e9w+K2GkARd44V6SOvc7SduN2jrFH3i+oL1t+X9/wEEE0UP5JGc18tTddRTi5e+XYM8Nl5vgUSXF\n",
       "ImiV1bpqLc9h6NfCQr5sKbnwieJL5eww/Q9A+fmD45CAJNCupuWq+FqJaMWBb9EMrSGSzGzT0vvw\n",
       "PHuSf91Gz8Cs+gLi+NiLKBTQKHES3zFj7B1nagAluDiIuYZei3e1HUU/a9ywulybRa0HKlXKCUy4\n",
       "Q9gAG1oi0/EpVVjT7JNQ3z6fBI0Mp430cbskVTCr+t6eLJyKQ5T4QaPPKoqdVKF6X41tMoPnqgtk\n",
       "uNZr3G5SxEQUBKoSF/eLCc3GFULeKWYLs9Nc0p0Cn1EsP3CuvwUZDaUuAJeh5VARBHt3FSXIUe15\n",
       "KD/hSSa6aLYqAmSwtlPJxmyD7X8PAGgmzcLMBuL5RAOaRS/+iUnxJqZ4Rd0xjeDHPu3CcyeXwadA\n",
       "lchNM+cPidD8ktaa5AxrJr6AoHUnHsKTdldH99UmnVHyo7XZxmnw0DrqT7PyUuqhg9Aj+0xr30iz\n",
       "Ne7JdvvADdTaUdEw43pBBsNIdV/lQUxVE20o/V0ET5xuMiN9wqntXA0TbP5EJ5OZuEOP2hPkCz9e\n",
       "D2O7rM/F717FDtEqmJP0K6zn8B6ud1wOjbGPd086Wgco7nz8iU4rBABpiuyJhiVtJ7lvMJohUeHf\n",
       "q2tLTEq4R4Tit07cdib1j/FirgY80OGbbyKO17iRU1z9bKm7w5c4vrZUD1eZ05a6d1aJxx1dZZkk\n",
       "Mh5MrIhApmJPwID5SZjViQi1+cNpjcWRJcPgLhkkNit5dZAUTRJqO+719Xa28ySbG3DcBSPWyYUO\n",
       "P8eoItLn86ci92wRITPxZub5YH+u2agKL7DduLQrmskDl95QUhymxVrRaZtautT9odx4rRVO02U5\n",
       "wN/uhRB2CLxbmZlrExuOzP7rgeU47IU3rpb5eGWZi+CVG9kMvPJ/sOWc56DNrqaA1cvr2mHU7AaC\n",
       "RTWt1TGmeHeM7cP2mJbuc0b6rAUXGXw5VeMk9xWjU7pFZCWKg02IAZPA9OpzbtzMkWYe4emgC5bN\n",
       "E3Y9GjNYw3Wp6YyUCFtPqaYwJeV5P6H2icL94Zbr2cS61PSYJDicQOCkU/C38PfovFXgsTFS9M9E\n",
       "Ifet3gfWD9BEs/ntMx6zIRYblSShQHAfX9i+qijxuqq7+GA/Zjr7zaw0/HrnTKv+9RcQHEifsdbd\n",
       "ZP+wCrvP/a38dReIKkGJmlenmHBFWkEfejqCbtLFRF2HNWRvTy7y9xEBoX+KpeJthfdKzMFMaFwB\n",
       "TNAOcdL/Dmw0fFF01tLXFfBb/CJxJmi9EHHqnLzu2ZsWIWijd3/x/REvw1M4RFgwzUDrxOxiOluG\n",
       "5dWBjqA9GB9vv8YlrZocuJQhu5+rF7rqIzvQIp879MtXXOdebCEn+VIn/K4pN7dMezS0BnnmKtIL\n",
       "zd6a59IPKaki6rUxobrIULCDF6uAtLHGFiWuKVhSVs08aHbGahAInR8GCmw+uYkKYN1zgKc6Eib5\n",
       "MG2I77n9hch29nR/3w0fHhlIY/9dE3XJ2xMOAEkg5JHI9e9oZHLZqV4Jn8Xg+84aiK96j3m+3CiC\n",
       "TpLSlW7GnAIxzpK9mSgGerfkolUfkOc7huOQJwfVOaJwJhPLdTmaqZXGpFsVkdTJWRRpnGCArai4\n",
       "6tvyyypL7NH9QLlYpOCLIWRZ7a+xEAbsENBIYhZMNvO6akZJfqSjI8DsNyM/lwxqux9j3CwJwYHv\n",
       "rVoDmjIHgxMgHrnvKzgsJFBOFSGgyPf8XPJMZt7VicEybtrK8MKtc8hWgr/9rbmK9xmZH9W3HK46\n",
       "RYvasR1fYvc9ZVXAlwHF62PFmmdsjmyBZ3kOvVpUsOsSjUVVcN2kVa0LRRD+8hAVatHAQpOON8tz\n",
       "BhIq5jZU8DRvMJ0SMPmycW78LovCq56EJkzuZI/qwEHGApE1qMQxLyzm1oy0BL4b+cRySWGpCErV\n",
       "vjsi0/iPPx/sfOUSOXOfbLr1sbef2F2JK/6UuATOQJafq6sQrb0sEX4yswi7tv8B4qXZ8smo6gzF\n",
       "ZqwHLjHOgwdP88xYCsbOWj34A6i6foMS17aEUMR3bPTkoOAmxhRfn7uDU/Aip5zpC9qRyoRq0ZT6\n",
       "sy6BFWLiyoMY5uBoR79HoktJP2mI/a5f3pLX2PW1d5EaCaKZz7OL8kqtJjL9tfW28fmCFQL0wOSg\n",
       "2uRmMmUUyc66UXN7ChKx9LYbK0HN4DN6Qm1arrLdWhcuPtBJgVhGgCHfJ92P0X9zxMW9bR2s9Q5d\n",
       "TOUCZ228wE09jxvWgaFy+xAcuWDUl0HWVFuhXiYmBHQpwKvnFsFY5kAAd8viX37gTU0jkXONYuaK\n",
       "yhBoCHkfBUj06uzTDfpxxPOI6vnfM1t/IG+BagPTMQIg0kuUjqskITOPiDIewViUuMMTM21HbKOo\n",
       "SPlWNpcPeVcs2YOebnzOYfddt/xo7HrMQ4DROBCssVSAiDAGAm/EUPJvp9PPleA9T3wmDa0esaJK\n",
       "nnI5vcZNYsBRj44S6Q+ZWq0RbgiCyq1SxB/xSri0HnOEc2yv1QdSS4FkXeKBAX2p+9xkf4xfZM2y\n",
       "RXpsbQ26+AIK4C4KBhv7U122+AQDUlRgJ1SRh7GjYuQhUP8caEzy6VHj2FFh2sWWO0v+qCNL4TRa\n",
       "D1iGWo6yCnRsow4LWitth2swl8ce0P6Ui7fUttTl3Qnjwdm8ubiEvRAnr641F/yi8HOP53mvMYR6\n",
       "viJpmEeKQcFWlgiWHMQvbvmEoyfaXBjf46Ao/GFK+MxZqRmg3xLGzOpJ22JRhhfWNUX0MzPZpasA\n",
       "hXfGQui4nHrX/eX4j5kyStI5CKTTeII8wuKT8sHj3JmxgJ6Z2tTlLP14L/iGtCgTDi4GFZTpLvsE\n",
       "uk08hY9XelaBqf9Qk5E8b+pc3EmkJegjtFl1o9lMs1MHbdisR/65+HPjDtWxGjZPmrnHwlht0NV1\n",
       "aZzjmgBHPx4h4kYsLx/4tHlyw0KeL8cRsFRILbM3AXZbg9p905ZsoAJas2MPtjN6MChQHgqmGcVf\n",
       "7s3UBQG61AI3vWTwOpzqPYZD8HgBhrj1t+pbOMlfKNSlSq78WxMiRHnywwEaVff+eYGfsXqSlQZ+\n",
       "lpF3am3RMlEiBaxCfTi9mUsAPChsqbTdsPXZ58PLorbQO5oQQ4Vk7RALu1jmbijBBJCGXYO0IcNd\n",
       "QyvglT97JBb+OT/N9iQx18i6YbR7BcW0sv8Io1ab1J/L+/xS1UMmlYOfxnrLpEWTMk7uy1pzqMxV\n",
       "w2tCyP9ria0QMSY2d+FRuw2kZxj/6VnSTU4a2aoLnjPyGFH91l1+4pkNKnaS5spbvO6/TUfGNoZY\n",
       "2XMqKinfpwnblVLDHEncC+q2XrUZ9ScRSJZjwpuolKab+SikX33EnfzYSpvB/F3wvR9jKbdD3P+W\n",
       "17NS6EO1u1bZQn8Wp+tzv1dNsq03iLhOWw122tqpgRDX6LzJkLKWep4qjh2DPXiA8R4id3HjlB4w\n",
       "KqQJhgRCfxpO09xPAxj3YNBbFQoF3Ahaw9zatELib5WLfTmpcrq8HP8RpdhF+m/pAeX94FhA/i/2\n",
       "bloPIudaB4QaxfAXew2S4h8trDPVCQFZODr/AYliNyDqmpB6XQatOnfDoKG5bqSHBA5kVAAZBeVv\n",
       "RDNktKqF67IV1xfyBix/P6kl5s/9mipIIv+PByLlcCDPBnVo+t6s3GdWc1yCVrK7nDpBtL5PEWZW\n",
       "Z7AdAvGvZfuYlZMowx/mwlasf8ANEwZ+AhPFFUWYPcvWsGMTEHTpqjoeUCOnI6q2X25w0wXfQ/G3\n",
       "nSNXYTTmx8NfAjJxJsP0cn0840hrC1Jsa6D7I275cNbYCHONO8qKMqIhR1TK2DiabKKAvRWc+JHh\n",
       "8O5D8u/MhA1c/c2NJ8gOkDA5vfifduNnCHvXJhQN0AsT0A039lD3tj0jGk1vJkdk8l4R2R//hTTE\n",
       "eUSCTnJIr5XS9jUD+iw1jZI+b959n9zTzUOaRez4PT9u1AhKdDO5bcAr/yEcvX9n7m37oQl8MzYo\n",
       "Ib6iOhsgR3aCjobeEhsbOeKGN56j5YmwrzYjA5J7pjEgcTb5CiGLg1PyckeV2GHTpOi3EXCfleH6\n",
       "J9IVvhtynI50wbF25gxd8xJ3j3nxyUPAfjFxGhteKsQbAqFK/OSL9hMWwUcLl1tvJI8SqG+ld2rS\n",
       "PdxJVFkMeyDO3AUyRuwo42AXFtYdO8FR9l5sStQsJpcIM1O8d/PopvHe7hwMwOX/uPNAOTKOhmAs\n",
       "J2hJazFDr/u3WZjmmhZjqSICL4Vkv/6Xz05pQbRqLGZznp3WJ3sQtkHsS3be3kGVeYZ++IJGFRdQ\n",
       "93SY5vfCMRgR3Z6qcd8fl+Ufn/OOeVa00a8dpzIXASh7xOwoiceqUr6EHUxhmGC2i8KYBT5MdENa\n",
       "/zrHqaY3JLSJU5tp/b4eOtrI4rjC+qzqOzkcseuHXsgbQXFPLa3FdY47lKE/LC7lXmlsrarEJU/2\n",
       "OWQQ+Tl+SP2+JFgBFbiZisXvM1CdOLmm6gPdQe15boaC7EGYFP2ZSDoDsYCeO+15tHavWXyRVRMO\n",
       "DTrQ3D5ZmxX47hjSQ/Chw1VNUD3ZetPn3Qg7nRjf5HYeo37iY1UIwSvCyW0ePKItLgro8oczAO7k\n",
       "1KV2yrUv1q1EcDPwu71PSOHY5V8wIWMlm3wvVOSzRSafZwgnNRdfzYh3npK7A3nJUt1r9NOeo4X0\n",
       "jF7x6DlmuUwx80UM/XRxFf2c+hEeUjABFbyytgANiH3yt+497JPCX6B2Ocfp2xvm85cqpL1gyreV\n",
       "HSenDE4wj6K3WsgKtoJoEdHmUIBfBkhJJ4I80rIhOPlPHUD93CqG4e2ougBGgpbdHHvNylQfRb0u\n",
       "XG2isv2+l83JIbCtMFCxiv0Z5GVYf/dtdn3xn1pWYw19/s2Mq69zzlaAULKm3uHwOrxxg0+deESp\n",
       "YnSvewfJz4LvwRyjYW7RdcLKuz12dZVdo6ke1fQrFzRuOuWBjAgI5vyld0NokkAe6ojQIPQiwekh\n",
       "ubcslJE/RU2HhDqcIerGzHbpjGrCzeM9KKpfG062AwmAdIEcQUjL4WOpZgHoPQMX0ZzpC9E1xDI3\n",
       "plQ8YsNJFvAWD1Pmwc2YmRDpP4xwVr8KRQZYmlNhJNRwvw5KmXPcxvm8W5vDJwUGFw5iQAIm6byt\n",
       "iJ3zy+WCFxZU/+9jP9OKatlFUMKM3I1rgC7hAAABUkGePkUVLDv/ABdzFNyvYTF2dg+d3c6CHWEU\n",
       "HR/Dz3AggYN5NQD+wOJeOWM5LMIBc+JUy4mvxpR8gnpyqk/wDuJCABNatvXO6Tho3906vu5udJMq\n",
       "4Oa0cJSFpJOVGyH8AieLkD9sqdqdS1napMT0AGbExqk9G1MSG5azHKqu3soXigNyFuKR0NWRRycx\n",
       "Te2AJAN2q1GaK+YUQi5ZKCCQJIrybt6UC6mbnP/1bOn+O3RPg8OvpSwDZdDPYFr7WVECNY4EFFWM\n",
       "qKNW6VlPwOxBgONHu5FJKRbJ5IivzjTrOXxX50+d2uAAkC04ZLaZrni0OXCUDAN3ETxU/1NybVm3\n",
       "NuIrSue51UkFF5CVkJYG9o/0+i/uDywiIvoxU3E7jFAP44AMO8dUqYQ7qMe00ASo4E41RbeWy3Ku\n",
       "FalsxhzaBLVhH0E1BSxtikKYN+W+UMBEAeosAAABYgGeXXRDfwAgr6zVVivPFgAELhu8MR+ywRDI\n",
       "Q0GrFiFJ2V9Dg4qj/sz7AHCg4kAHGz88Ms8/6+pLIaEjMwMDnspxLiXgbEfoLEk2F583U4gRCtsC\n",
       "mP8ik5aW319zQn8cLH8fW5yxPzcKf+0owmtVuPK2fYeb9aP3QT0gV3CwgEuxGbDX5PjuTYQK7PmN\n",
       "Dl7OHFfFXZHt4myYTgTkIQL5gbyACmM0A+TilHThXw3rGVQtdwgPShc93twIIoy8t8x1tNfAOc/N\n",
       "0CnFhK9/FOcXQjyk2fnV+geTTeS3BA+XnChpzhNAwUSyom1Y+fQNxsm4WWOCXUDd9jgYGigjuz4k\n",
       "i610u0553hdm25sx7FDvrQtTnEKqM2iwptTpNZWuRnbHGiuRkhj0pt0SbfLfOr/mfNRyLSLsRTEn\n",
       "OqIcgqnxH4NF5hDBAL9BA+zwY9NZNXRK5sx5tdEdJfUpXdf7OcX+c3yFTAAAARMBnl9qQ38AA8xQ\n",
       "gOc9W3ojRdoPWb8DUfrn6AAlt4qr8Q8xz+/wHcu9cfh+3QOOcAS06R5Lxf88R0GjkSXFEbrzN5Nb\n",
       "dAyoC/jblyCJICudNfxyJwOWgMy6Vo/fZYQZq9OmOWnuDYX/tPVOuGttyg4tIAdkH8RTiJJ9SJz2\n",
       "MUeJ6/OZ2w/kUgAUlGlvxIt16W4o0QGYQ5CdPCJoqJtaKfO+yofdKiMoYsX3yz8UOn4AFxs5O4a9\n",
       "aaXK/x3Q+qfv7D1kGKl5RHF7iNvF4jqdMeOUi6O1IIIeNM3vWG7B1jApQAAAAwLu5uFkmaxV4C9z\n",
       "YiV5HsFxTOIyAdzxUgmR0ETe20aAACxDPfgTUxdy5Y+5bP8Q8QAAFr1BmkRJqEFsmUwIb//+p4QA\n",
       "CsgmZ0jmiP5Hxr4AbshGcwkVQ0wz4AOvm1DZdjeWrZmsws5nLSGscHJd6fcIkiNnLoJfhMv0Q0vA\n",
       "OijJGLQmt5pwpBmRsOVw+St0XzZ/fqWChnXdgjt3+Pbthvw7rMfKDibjfXG/GeYynp5oMjHZPUZU\n",
       "1e7jAxZ70gbUAACXw59IQkmJws9he9zT+wE5RUsCw7SqpjPkyjtgPXf5Re+hqAdAknxHlVIIdkOi\n",
       "r++fScopXwBN6l3LN4xxSmoB7iFyZd960W2b6tVzEnSCbKd3S1njHQglYv7nOav7J9pjNQIpISeY\n",
       "fWDr7laaKTF+Xa/gK1R54VHl2U+BLXVl1I7K86+a+/gM8W4b7DmTzrMzfuqPthXFXtjEuo1+ChDw\n",
       "SLfo6/WzPe4GIEJqLuPcbNty1tiwjUYmFJCAgVPZ6pBrHPeEnnWwqpRmvxzSrWMd18V5AO7hY4//\n",
       "60UMKAnXN/b5Lc/9vol3tft9+TYWpdq5dz/75JTTOnh0Q1mr7j2qBztlX3bavkpGosUwpkISH1Sj\n",
       "KD7sDwOkZjX1EFtXFEc8zyTlJamW1xVNmGVt7Qi6yyPIFPbL/P4oow6OdaYWQZZ9rKDqIIzLzAje\n",
       "+H8EA/FKJWtSpkTpAYK0J2q3eeSIygpTZhZJr3IA5KWjHYj97tdosyGcGQ2SL8pseYhQtk43DJ1d\n",
       "uwul54p58peRqeGlzs2J7XdZ7lvDAdPQcnW35J4Kh+j8tNp20+I4/IOoOjvKk4VxSlbVHglJVYRd\n",
       "0hH+uSm5FLoeuO5NRFVe6h2VBTi8ozIMBti5RO7RjcVpc61XB3HR2evut8Fq3V0AP33CNzsaDbxp\n",
       "V22izIXtquu/YojJUa6H8roTU4QTge1/DZ6YrVxRjLba+Zk7yduUzt1V8VM2Hjb9aygtBFobITUu\n",
       "p7pEFa+/wzEB2Pk0lm+rEY+xH3nc6cdNpZVAu2QJJY/nquSvusPTjbf0/lF5lS+ANoVpc+9qAJda\n",
       "+8EgjlPCNFBCHHmspiUNfISwHSNxQUD5etfkFwo64Wru1exJqdUJrMp0E/jmK3EIzA9gKOey20e9\n",
       "xLIFhvUCq3v4phRQECgFb60ugMFvdSpJkx+r7Bz5pihhqANhBXNkngj/XZg1K6Um76Jc+prcO9Ww\n",
       "SXc9tPG9JPmZ7ceKloQUw37DJlznuwcy5XLNpOGAWt0cgXvLjJvIroIM5BCPLb2nQ60XyosvwLom\n",
       "dxsh3CJTgXdseFcgaGlzgPxg7vWzsO6OoufX6qYSnAHYEAFDJPGHl9ESfumKHW46CChXCrvavmFq\n",
       "U+mxUzJeY/p4q+Gloy3CwFQprM5EZNH8zPjmuCPlCWbWKR9QgqoEj8IOplfs+1I3NCoVyHMkJYGQ\n",
       "R3inlyUWRQglhbom+rssdoBbptXBbBvb4gRoxqjzCnX0rJgytAytCyKPIHqq1ulQ/9lQZS9gGxIn\n",
       "zRrLXvhIhP+xf7WnfTqEA7Rnx3SwW4TkEjr7Iu49Ea86rWfQr6bTHj8C9h3mi5EYjZAa00gGcJCp\n",
       "OOIXjFtfTiSHobE9QSl5vD8UE3VsRmyhkFmWP/GccQgtIYGkwxSWUvsrWpI9Bc2j3rvb7t3C/bHE\n",
       "HHZkH19qWLrapIUW0GUKVvvhNQz9/Zh5ztVMIh9iqKs8QTcAoiaxqpFg570wq07V7lVyMg0XsI9T\n",
       "lZPWEPzXUeqnuXdvYpeXNPMH/5Zf2flbuK9ibAJOQDg6ScZxzWzjHMO7VC5lZuq/5aINMqRiJE2b\n",
       "Eo9OS19meSs9D0WFUsOoJgZegUDUgYAgZT9bF2iC/te18TRDp0N3zhAsZUojpQk8jkClpDRRzYGp\n",
       "vVIFqNWq+QDSdSKi+2CleTaOXjzK0OfTiC/ORpWb+pPkHtyESkK7JoX4hRZ40ekD/pH0R7ac5wwE\n",
       "6BpmsW13cX9cUdD64F/NHYYqftIIWd+XTe6dQRfsB4eL7PQKffBNLWqUXX395D3z8xG23KzuGt+L\n",
       "bFq2Y+jYw7a91gPuP1DlSp8Qb4+3xbpnuAMBjKvC6quspJPt8yg0lDmkYZitTMAU9Vjvtwti5iv0\n",
       "vlmUGtJgH+S+46k/DOwmmrUr7fgpXnokr3yeZyhZN1k3vx4zqofuxZyl9tiK9LCKIqWq0O2gHGNO\n",
       "w0ZcjEC9vZVJ9sOQCW5yk+h20TrRQv0drPydw0KLo+x0Z/bZOxss04XxFCvrC/tDDIWOPlCaUwYq\n",
       "XaKiFKaMGiKht7XBPHBjua81EwRng7urnYdk3JN/RQ9wZZnb9ctFVmHSArDETeh2mLSwHipY241r\n",
       "yCKmzuYmEHvm6K0zC9uZvvMlCUuYzZbOEz+RSaRcsngKFpZSs4OS1+LpiuJ4Zqf06SypQ/oX4AF0\n",
       "lTazyzFaOqvvkwJzmTAEm8Wtq0cIxM/+KevGu6M0En1i9AAcpHOWTZ/rUM6oVCqTkbYohTaSfpfm\n",
       "4X2IL8+DvIBOP/e/8p9qA2L2B611UQSjnRNT/dAs5yM0vpErdr3KM3/UB3BlYPsEcMawupyCDRkt\n",
       "j7K6F9z5phJy3flRNkYcoiG/a1wnE2TEzcKTnMo+DT5HSoZLABRrHqlgliS2FhR0BEnWFOSOEg7V\n",
       "W8AFmWVas7C7qQrTJkCua+sR/p5yppZhddLVG/6nRTI54ksc2cXLFJ0Pm3OVP0jlTBORIA2L4V34\n",
       "XCmNTTKq1iUq8jL63HpdebvPiPcJN5l3zXrsfmUtY0cd3jEMNCdYV2jpKKwoxkULZcIV5/PjzqW7\n",
       "EmXa6BwEqj4rfm8ncOXEeGwuJxL4TLx7PRS7KjnO2HoUpZ63DgXgp1E9y7zp6fOS+KNtuYIHbnaD\n",
       "3vRRCdI2MEgzxwJyh9ugrPyUmScw3ta3IKd39EgZF5dvEZOrYLQHdrNawP3/Dqyl50Hoj+jco8gp\n",
       "EpQGAKpVpyyAh6r836nJFJ9AckDiJ0ZIcfKUsFRHJ327ydGc2s9SoERjWmQKT4VID/dPffRKMMW4\n",
       "pDI/AyYE3uWoYyEvCPFC5aF5RRhf9zolWtaROnlm/HhTlXXAdc5a77yQCq7y5epeKxv+JWD8a2OH\n",
       "rsS5Ta1XBhsZpv4r4PgWaslejL9rIr5gsRYdtFxFtcxKlcPjJS8ChcYBXa5Wbpv7ZNjG74almXrS\n",
       "58ty5OseKX8b6MzjeLPrkvoIR2/AM/Gld2ogBO8aklEE3wQWLNDHsd7wIotCsIAk0QohjATWlxU8\n",
       "Rm/B7oVvfQ5DHuRDBfqTJD/UmyjyJrFlWLKm0bMnSZXi7hPUc9ad0ju8lB1TRkxjaydK89oqBu4Q\n",
       "AaVoJemrV/vpqNV6PZbwQwHgSg48xEOyHTrUqbxi81ArSxePnrrkXCmcZBVKvbH97PAQYrKbXPv1\n",
       "j2U4G3bfgf8ZY8v9Xcx+cQZMfxYfWv06zaRCRHvtc2f7+bSczxZkw1eIshluTbd0w7ix16cgP2aV\n",
       "m3qljwKTOThMggqO2i39soZ49xfrmJkjZgn4kYxihGpC//9YgRnjeLVGo8hsGwGwq3CO+1MCzrXB\n",
       "L8/uu7PzKWAUMNH4dwCpJO+BHrhNr6qT1+lNPDDqOYdEow7m8AHuEtu9HkRRYPtHiUlD/JT9a0V2\n",
       "N2SSqGAeUaiMkct8CSPnTRBX/yUDkdqcrPwU/5xSRwwXxna1u4Yy0u9bhncHkiHgAD2Nnkk26l7p\n",
       "LOVDr8p1XqzZSL506/hY/akfG/KcMTV2ZSAWrty+aihsPjo4n3UFtZZ3VwNGYsaexDkc3uGmE7gN\n",
       "tAajZaxBF61r9/T9melkJGS5ZfS5N+I3Rc5spCBFOOPkPZXZJCnW9svt1EvAz01cgjWl11xffOn7\n",
       "J0tpMtJqqPk5UDZcQtvnIclzKMKnZMhEJZzgx7/tNV6/HuIW6lFZYeD/qR720wtyYyU7RNWui0ke\n",
       "Sl/8N37Z65hrGF20Q3Ni+GMD1GYB6N3ahtuMQVWR8sdqEKmGZXOWLb4eEruBVgLPC+PstvKrGaK1\n",
       "NIg85TdYau0joaS94LOX1VWv4BqleYuB9+czTf1fbfxgQLvbHGI8M+pIP1EQAYXp2+7RMBeUG6fE\n",
       "deDNT4kdK9/214tLWBLLfG9miWoQJNaKtla9tnItU5f18xl8nO1/8Qx8ncirR3bvlFKvPCzcsNQ7\n",
       "gdT/8hwVpnfBqZFAwXkRF9uitEm5iqYgnwqRfJMgNWLFBA+wzKwQXMjR6Vjoj5j+jP9Hy8VXcn2K\n",
       "Dtvlip6NvziW5HltwXzgB8UwR9H7mowL9DvcTO4+Ln0QulUuXIY2ian2PjtzzWRsysA/9lhsqqkU\n",
       "coYnKCykZkPtTYjqi568e/UrKf08gYCYDe3nS7YiaR1KY32DOi11vVjLbWJ6S1kFQyAbUCguU/gG\n",
       "70H7tnPRqBIkvieKf04FCbnZqKlSBdEFqqUvEWmQGSzmwd2vySbfplky6KQLzvlFvjB7T/jUH7Dv\n",
       "tAil8bDV5TBamafmUEAX+yF+9J2qtGIM0/dllGK/5ozoYmvNP6Msshst1CRxc4gBrzFtSDq4diUr\n",
       "gx7Ii+6hKgjj18CD6jN3PrphF/xLwV68vRGA34/qk/CALMeXcMCQiNNhvP5phhx1l2Wj7vDnUJNV\n",
       "k3DxsMPn1edFyWP0HBrXAucZQ9W3e5UyRKTrjGlBhPhVu1w+RFSrXmbXeNBpRlEEoTZScd0d+JSc\n",
       "OaoqZQPvo5fyTZ8GrbKxBRfnrM917hncBTZ6fr6+6QA00ASBBRjuc8zo8cb/AJEVp1YQwdxj6yQx\n",
       "xERoL6nh+IHT0+y/F9+VfnUHPtKBbnBoV2kdOuYH83N3FNTHyidCmfbiKWdna2O48yjitL744AMM\n",
       "lFtgOwQBuOuKZSzQPHwFkE3Z1VBkORbKHUfIbKbxOQDjvWqKK4iLEzbQTJlEnQjqsxHjFU4AAn/C\n",
       "EAwSJq3oOQ9IChKJmCdYnJmsQua4q9MCv8iTgenQls36DNiYSVaUHXZSfZtfUoTFWOAKlVRsZ7mG\n",
       "2uADKrTc/T15mtFOru6BZnheh07JphK3SpDmnulQn6hfdtIQEZVU9pcvORQOFnjUkybrKo/cH8Zu\n",
       "r2kyHSsfulDJA3fzlIehZF65auEOkfYFWG1gjvkLs7iB4eLrORBuRMzZPVrPq3V7T4NgwEsD6Mea\n",
       "PhwiIqFcPvtMRlzUNsECeokkW9kApGERB9KiqWGsjgJmWaM0ra84myasWWKmjsnvh7wXhH6YIhyE\n",
       "cg8nxsQv5l/4ZNfKxWNpJGVWXrvEwdP4jLKRU4SLz226N8cbXO0p4AfsooZhlzI6XhW+/iz3RUrb\n",
       "neorT3lZFkMw9MO97GTCwIHUfy0TbYIH3SnUGFeEkYE9EmQ48M5vYPUKuy6vA9Cyqu7MUf+ODnec\n",
       "tn1S5rN+ak6kDiP99Z9Ch/0eTqjWphoNHuKemYC91+PY7jrwwBRIkEHkvpAJKyrgdZgrVFQJ7m6q\n",
       "DGmC8Qs01+80n6ByeTmQAB4zsf4Xq12xowkQ2pPGDrvm+Io92AKylEbis/qOpPaq6hHZ9yOjT75y\n",
       "IP5TIy95I/8fc9j+GAjcQ8byGVuQf0UpwMM49jckLBbn6FmfVUQIq+HXOzyibrWx65bGEQDQwx8U\n",
       "A5aVyFGIJPYF7k26H6sT6iN0YCaxU8uXu65I3jiyKY+6c5ZFxzifIcI5qmUNQwG0+Ddxa7eSRIAs\n",
       "jiMakiCL6HenGHA1asCIMfwt37VbpVnFUcx2/lE40EwcjXZzduQgcNbR7ywJKoRG7kUxHG8Ks6fu\n",
       "A41AINlGMms+0SQLIkq32G97pa/UjnFDJl5iyc9Q/LwHp1hX2B4aGdFLSNxcko0IdaB+EsKhMUMC\n",
       "/tKqwyC33RGEwPlZcoQx5P6tyZX4Y3C/gOzl03cqF0z2CBwsRl/toPj+51jgom42Ukt0nbBrMV6S\n",
       "moeWJqcHTm/y7E84S83o0K9Sy31V+NifNBy3+uMU9ykrzBT9Oc8+fR6jlYgrXrPAIBmMj6cYFyh6\n",
       "tive0KzgO/Vy9Fu6/TGTKpVH0V+KFkja/tU47ijvuS/GEkVvhBzKDWHnD5+XRzyc++wy+1LLExTC\n",
       "rNtrqVQ17rfLDLVWUZMFurWATYjpN6La02F9c/VUfvTDBhAk5fMy/BGDffJZOLStAVHbA7r3Wa3E\n",
       "xLoH2Pvj2jjF+zIcB6LUWt66EBVgWjuPKtLu5LEC37/7LIULBQPog3qZNb+VlouKKB7w4j+c8rAH\n",
       "PuetlMGl7zBPMOgWYks0ywGNfUfYzpUidHdojtZhPMe6ydfIrVZINC2qZXRmlZW8ig/nPgVjfffP\n",
       "KVlysnE5j8nDwSXjwKNZtRhJfOGFoac4aBJTo33sCRA6T8LlCAQiBj2wFPbDUOktRk3bNryWsNi7\n",
       "8G+3jcqWTUlGYpSo5bNDp/gyxUDdsjryBSRVlqDErLzOngdOsjjPRLLyoUXYMi+GXU2bTSN9TpK1\n",
       "csDIY8Qy3pExlMcSarT8B7vyTv0XzK5r0/KZ/ztWgiTal5ZsmVEiLPBRoEBQQ3Vy0scNZ6WFKjlF\n",
       "6+Rr/44SaemDM683cPtuUMyX+GEYSgl4J5GghUr0L//QzmyoYxNRFFbWQ1MACVya+M6A5eU2NCod\n",
       "w4QqM4iWJDSdbuPbDy3u5c8k6aoGascMO1IhPyMKhR98WUXqOTw3EOfy0jy5FDN+t0ZgtzmHb7Ax\n",
       "QUTJtfep3+LQyzxqNOPiPj0eYaqEcMtZ5gsBtBaCDFcHjfKCSgcXa8uXlCBJtN2z9xIsSGw4ltNk\n",
       "RA9iazK7ldNqHfY2R+aPljdWVAEtf+8Eqq9FLRNxZnbou0etf3BL0ke9vSZVnLrsV/KhXvtWkybE\n",
       "Z3sjqNkbMHN0hU7fBqa1hsBxIx7JK3HPmqLap4RINhx0mvzCVQohz1frjb+18Z81HrceqsW7Nliy\n",
       "4bA5kim0Wu9ZrteCYVZ8R4BmRePdO1rseNywVsuyke/vHIwrHPHOhEDYBvifb+NcFunj8sWDyy/R\n",
       "tuoDmMyZ9DT2tYcvcx3eDgW/QR32mcabWhhabPaMI4jVdnMZ+0gZkGcj4Ps3dQeg9iKK/9Bs8fXy\n",
       "l+2Ia1lsQVsckCzuwEwPirG6OsTErdA5orMrpa+6jYV32PRx7QaMZcKmZc8/0JjZt3Mm5DT0q5or\n",
       "ysiZDcS0waJoq5rnq3aQHLdoMU2bFN8ck5qETqFw9XdQvwUpmZXwCJZ5LbJYjayTuOsCNtCwVho3\n",
       "SIzTPb7U8yMzI2q9skcniqZtcYy1wp5T/Vcc/IFK2n2SQEmr/g13x8eUvUV7QZmINXCFG1gl4Zi/\n",
       "mrH6L0bUS+tKwU3TBlSntvzUtxeKqMQux0+EPAub/NdMWH3ZRl3xjj7mHkOKtJZhPsgBWQ5OW1K4\n",
       "5pAbmg+edeNilHt6BbF8ba1WP21XwbsT4RJAKA7mIylpDyYBg8UDm4G2/7qa9iNzj6cE7m3AD36R\n",
       "tRFDEmsLlL5s1IfAhgpfQSHt9p/LS3RVwHnzNrL8gTdtgw7b+VOSfHdEmMJNj/5gVu7XC0SnCKB8\n",
       "lYVYYocIqdzyRslUqPjwY6B1ZzBFLOne6E2apR67vmpue/EU+ujFmeKkWQEOgfynAduom2jSLF0/\n",
       "545zdiKChtbhkz/fJNgKSrdjaIf+4Da7LQL11QiFpmsaRwkIeiafCE1D0VSPYd9O3cbKaUZLhbJj\n",
       "Sd3lGNlzyFLLVlaXZuPO1EDSUcEgH/BfzMqfe6X5EnytBtZqB0m494/DM3/MLgr8ltD9SUNmw6ka\n",
       "xpprJ/LtPKqo+J63gw37kae7GOKkVPJDOQmTueKCFLq/AS+vZ6rn4Kn/STyEhPvEAAABR0GeYkUV\n",
       "LDv/AARilRrjXgZ1Funi+oQ+GWv4NZU09Aci7gKsSc9vsYcTKgDEbxlK0UUEqm4XTkxa8KAD+3mv\n",
       "5mG0GoaKv4+hp2Lsd2PxB/ZEGCXKOUJhP06dij+T5bSr8eecmyjtiH3uBXfLPtGiPn2zYENBvmyd\n",
       "x8o3XSXA6E+hEgsLCaPv77lYzpekPCgeA3T+FtMk6hGy8aTtiBMfaVPLgfn6IZyBYjyafh+H1Hsk\n",
       "/P8GMeHCfyVivFp/36i3kGNOvbulTNSH8ywstdA7VpxddpgPaqcjdO2y/wkNOAqfQHTnEB6zdlLy\n",
       "6F/xwajenLFkYpP2tdEfZtv1tKx24kpPQqXDa89pQG6trTGM5NS14MrdTPFi4+qbOm0IzZR93kHZ\n",
       "5XuOI9BNnH0M31kPrjuQGZKMvP9ZTOR6qzaqPVtDol3cgqkTcQAAAT0BnoF0Q38AA8um0qrHLsAC\n",
       "D0ApwBdoN6BHMQrM/quiqT18QaoaYfNtP/Ihbi3Mu///FbHS1rPdLohhO7/OydLH34oJB/1jy+Pi\n",
       "8fuUxkbCqI8mJcCj9Zy5qVFFdoQN5zn8SGziTxCcmcGbmJ/daiVS+TZ46J7a1ackKrM0DaYUqNDe\n",
       "+iOjOjYe5/7oZRd5rRB52Qq/Am0L8pe+bzZ4hpChfHxeUqf90lfJzIavZPGbNkq2GRdBV1+1GwRj\n",
       "ZAJ1oS/7Leprse6oJy0CGzgXfZoaHsvqk05UtWFkfMG1bqDynAQncFCeVqB9Ge+Y/3PC61zOHGR8\n",
       "BuKZloIZgRzm+4VssAxrBAygYvKoGgc7gNWVdT39WaS25BNIUa/2svafA4k9h1iVHOXb9eTFb0l1\n",
       "yFJQZ6o8WD7W3d7zTiATugAAApQBnoNqQ38AAsT0Iq+ehIc92zwUQmPLSloOpfbDyAOwOWsqt6H8\n",
       "qPKePvEALpPXGgUQZDR44Vt/e3VVrWI3H5DnGHdV3Vxn03XhMT8BBkdQA09ksuYxA8zCmC5pgAmM\n",
       "h4DeJY26jTcXvbHqtigU5dnNSflA+SfQx7UxqrydG0qvFvJIGVCBcT715358IvNzCarCqegNjUXX\n",
       "Wkm1hB7+KsR1WvT/Rd0uMBfb/1jJt2WsRe5Wz7LHznHpPKpuDZBABhZfXZJbxUeksD9ujC6E03JZ\n",
       "bOm2pb6nWc1OItMzNTHyZRok/63SDb5aEBWGZpFzIUkbCd+qOc7mJFqB6qlAJ/kbxCxYEEHsFDtC\n",
       "+d1sVMQPBkVblxYu4PgQHnQonH2uPUlLHNRylRvlylVycpl+sDlwj1J26rgH3bo2+T+AknKreyvD\n",
       "kPGJOdeQC5RMjqcHF5diPkfrw78Bu+8uQlecivsEMXjlZNDDOiQ8uEWVOY1uDMr7PMF9Ozf4b8Op\n",
       "SPQSnPlLCuSoXPwrM4HLhm/L+TpsY+GqazHC2Mte0SYOfu3CCcKqo5JWwYWYcfKTxsC/IaqwWvvh\n",
       "HPrv3INP+cChAiC6l8M5OsGS3P3BuHl+iwbvZau2/xsTaXSkWwgPouCjlJl9kMDCdTIK5WrWCF3e\n",
       "YOBSaWu/kQRwEc3rB9tI1Vj4U5U/BpieEbN2vQKiMoRxTCHb01LISiq5Ob6UWyuF7pdzLuQlB4Xk\n",
       "ISU2SM2AudF/QPe+KnE7MBz5yBlHRBC4RxMAfYSF1d0Sck87pl/DOfcddIlwG8PGq3W0qeFZj/Ms\n",
       "KeRbXtzZILjQsMMk5Yhgada36G9Gbwc5AMZfGI+IjtQD9WfDaYIfYhtUvgqgo1rOdViKC7kAABBs\n",
       "QZqISahBbJlMCCP//rUqgAVwmr0CZW5gtB//HMVscXch/cXbVY0/3qPRSL1ZqsNkbIuumRii2Ts3\n",
       "VCK01/EN9MWQRUuBUKtCHQPjapCXXIOX5pwWRIossvQekKF7BgYw6A37Ib9q3OA0nUIBCRkMyPUo\n",
       "teTiA1reueAE8NjV1a1BYTtdCP1Ur2/HbSxK+NQshyAuCTa5CMbKiEiYuv5P9Yj61XaKN72B6dWB\n",
       "XYyzuWC9z717kd9Lk0vCe8kFKleWxvDsxTkjQoSMNJ9HJE+kO1pgUk7LozBbPGJdYZA2vckFf68m\n",
       "6JpJLBVtoUjcX1sH4POoQ+KLGFx/oMbyuJv5LvreRvoYDJMeVOnCSJlpR5xVN0xoMQKQpG1WSMyq\n",
       "2zYd4svVzYsLVzsLFg02CgDRH3kya6bN6QmzDEaonc3sfSHGjUG9uNQBQ7b8QrH4BKHDk4itOGaE\n",
       "IaSHyG7NTRah1c/eh+KgV6UP04Cjbre+8JoF9PI3ZKpJxaGCttZD10rGIkUOU/2m+5YP4eFaNiVx\n",
       "f+jS4f/CQ/QIrxrlwIQWlHgJH5X8e7wE5g6oh8/op3VeorvTFD46JDSBzwghWuGwnqOsaCFWD9iT\n",
       "Xbs4DgSKw+nJbVMaWmka3GKn+5ucrKkOL0cz9CIyu8wY3hi68Hg6y5aMvmVwPwJx52h8vTzgaTpU\n",
       "R4zibdicAC/bKiC4NG9S1KAbht/MygCMKD1+TeKlspeH5VBebakHLITydwGtglzlmXCX/JxfUwF1\n",
       "UwqQI74BvHzKjduznrUJGhTwMUPSnHB57vFi3h3FYniLYOZVk5xm+iZsusPSkNQeG5lrIXRjNxND\n",
       "G/OrE9QYKJm4+6EXbIT0lsUfCtIabCT/FbnzMKY3y1weS/yK5C3esWsT+CJzXRB5MjFgWaqwrzg0\n",
       "TL778jb3KYMFOdhZYp4dYJDOrwr4YGzeB05Y+aENONIuzbda81CvFL2veto2x/OnHV8/yfStQujC\n",
       "jJxkGzYoce+cUJCMBpd0SjxTclt8lbmL8AFfvF5Ln5u7WEwgi0x9RGmD88XPCAmpRjmBcCeEJ2zt\n",
       "F4Kf2W6lCHlH04d2mS1ThgB4Kft9HN/iMDL4X3AaYJ5JP3WD3GvAlhCz83NGGIcZ00QcjTxTzzaw\n",
       "jzBPTs7fbFCYYLfa+NfYQirGTGleOZPMO0wKz8fc/vcGoOq6NqpE6zTQrYnrveQAP4rJ4wZFE67Z\n",
       "Zp3YorHbISMjmVvskX2IOhbiylTRjKVLmaynq0Ias7ThoiKtNwMPEoN7/5iyNbzo/VFs7tZ8WwGs\n",
       "QSmRoQ4ObEbM/KIh+BaxFwkt1pyZbqbBsv+k2MB0t/uP0JsFS1XwpWGLXzqaYlioD6OTkOIhFIST\n",
       "U1u3CHFDq9c3ILBX9o+YotP+r4or3If7+UPIs5Wo81I8EEVAquVWqrNKLS1yIcsJXMZmqLnF09XE\n",
       "JYe+MLicLoDV5KteW+XfJ5VhC03KIf5+fAbK77k89RW5tPjAD9Bea9zzfiZ0ibe3m3LP5MGVYCqV\n",
       "pfQzYAfQpiiYHHrcHiyeUknWEtgi1emYPLAu3unc16N4fTNXSTBEo8lD+KYK5iCte5dv/25eVQo9\n",
       "TnyxyDJAz5Tzrt3hkYfbl2q9m7BQSPrMP6ndPAlfTTfS1uBEtHWS/LyIMYkJlL25KKyLqb3EIJlb\n",
       "7Xy0PB2BzKIKB2BkKWD0Ph9zvGi6QgrYjuvoA5jum20L21kypLxPkZSMAsMJIOaMpY5NjWiBFu+M\n",
       "pPn3/fN6E/v9XxrmVgM6wO0CRUQam5G6piR+CE3ffRKr9gpJvoFlaM7aX8TjBsiAuyOmqkeFVmzt\n",
       "RXJ59jiqlDVPKLpUGgbdXBSR3wu0cNEFjgSV4GlgPxov2MmnY4JQqbgKx9TtjEtcbN/GuaaD4vWU\n",
       "U0zp49l+OZ2VhFHjT0KyLfLrR/S6T5SZ15yVi9l1u613irYTdlDiPU/9y9TpsSldX/BpEKNzREAS\n",
       "FwxmO7D0eTeEEAWrZIRrnFjiHQB8JUgBpXR01dv9i7RpITL8GG3SCjCrlsTtJCGtau400nEPHUEJ\n",
       "fup5tCadsIwX8CbQNjgUnO739fPjdeUSYk+Utqp9EOnBrqNTFNyq7dwddGd1WIFNqn7dtZGq7lAX\n",
       "nbN5iCpnWXvq97InAScGYRsw3DE6YieGopbTAwEyRfGlnLu/h2mt3GdTIfnO3iDB+ScET5oxcAhn\n",
       "PreDZWXMHR5idIZLDmhoq9b5CUGhgrIK10r8aC/JwTIp9XS9cA8lXvvU5ACwqX+3kV/ifcnt5fxa\n",
       "glzjiybpkQmJ/xpB+9wnO/OHLe2w052ftbeXH2J8+YznYbVQfQLtm7gcyUiQTqdRjWk+S76WObza\n",
       "iSQD3rtUnZDm4MKZ6TQEIcIrVZKC7vpXIUXgLWJwtGUbI/I+yIhzVJztgLPTPyIEwRG8mozN10A4\n",
       "/u7NtC9KBTGwQN0g9kOG3F2QSKPOU65FuWBWFVtYxwPtayJWpPtebEhkwIfC4Env5kta73sEoeYi\n",
       "b/pVVY97PskP9CE+mYqBd4CoEzu/1LbCUVqqBjZUsaOZUzbTETe4rwo2EJwr9tR/Ac3f68vmPf4K\n",
       "L06ddxhH6puCJisMSx/ScfVifXFB0qxyHRXWwH1hk/wu54xGlwpB66T7Nxq7vYPUnJxSP9EI0uaF\n",
       "WkYYm5nvC8rLvj7MjAMGlRph1zRVxk8td9erG7A2gUNwn+Dl1OupjD0S4t0Fkj8UxG5So6aiFryt\n",
       "Upbo6yzeRy2eGyynm/3ceaRBX1xaNAW3mG0AKghlh9rYjKuocy0MxVllkd/v//n40DJubhCp/Tiv\n",
       "PBtGjRel0oJmvcM32yItNvybQJre35JwNvCjwREpFVQdMnHBF5pIgYR3ELWBIxCIz+bWwm/mmBfJ\n",
       "xKzUABjphRSpVTNz50cyudDG35vFUdnjB7TGbgywnER3ST7xO7JOoQJK5G0vFxZIj/U3wq2vQlHF\n",
       "0bUqfuCoVIwCJJOlebYWGR6O6dGlaulc2zwanNHhwnkOEs68uHroZ2EkAyKCFq+HiafYacnCfFFn\n",
       "HBHOopr+e7oLl4SvDkVv6NXaUgGFe0GIeG1FpPhbFouLKNKBs3A6FiJ+RraKbpkLXr/NeqmSiWks\n",
       "28G5Z9VG5BdDknc0eEUIMHjHOGnFgKl9RkwEI8WwIZhe12Ec44vTRO/KCT1XqVYlVhmVN0Hq5VK8\n",
       "YLGM3tlKYglKKcMY8LmQzt3KyBQ79HWHeg3GNxNQdwnndVExSstlErfANbqTCDXx8QwAtYEkGVAj\n",
       "ipIWK0z0KMpy5KKFdnew5tlNKdA10h1hZGYetQ6YHqRDmscVEABklnyKFE5pyfNxE3278kRx1+f/\n",
       "eA41RgsWY63GplMfSFxKYSjNjVb4DVZOrM8+Dru4tJ3LG9V08UZx2lS2d+SHKvYwmLPJbGsmWp2E\n",
       "4JAgqMWdRny/JZ9IZgaZKZSi9P57c3TYP3wRmGD0wF3dLaXiwVf4ruRcda5EZrJ0cDdhxwFyX6gG\n",
       "ACS3UoPHXKxH/C1AqNYCwphi3t/ueWzibA2hOS2dmaw4DGFaB2tHLUHLmVYOGDH2DpxTgCKSzRCx\n",
       "KWNOXHPLgYkBHzavQKrvhgAisygh/MH99B/P4sQv7tkvjS8Fl7U3w0CB4ZxSRCdurQMpGigSTMvg\n",
       "zSETcwfDjdTLWZpjDTWoBWvrnFdp4j047to7oaeh4J40KRPPhQYCQIoDePraTuE0Ma0h+xNUlKCL\n",
       "p7AOkZe+5CuTzwjxkTvdA1ExEITtiCWAMt3/KvSuN6aPKnm1eyjXgvEEb0pNVLUAmsfe4AEQEjzP\n",
       "u2aPmPUtR2AMEK8gpkhlBytHs7is7dfLmzi+j7B18Ym71f2AM4NkiE6gzlmE+g3zg1bmssbOBBas\n",
       "SqsQi6YkwEf2uh6YAm/pyC5e4hPZcV0I1apNO5N2vuYmJCQkSUpitzwPVHkRm5K5jFY2d7aQkH9/\n",
       "OeotVHw47dltVSmRtauKNdryCIDTqENY9WymXnXZv2ZKPJmfYFtp2a2b3XNyL0JJOk7hF5hSe03c\n",
       "QtW9u5sKuQPGY17dVfQwVpqO9wEj0KKeEA2FjRolbtU3ZNJ84gSY6Q/HwVXIlG2Rmykxe9FhHurD\n",
       "9zbbcqWwSvM/6ZoAfNm9PGmLD51OabC91gO4lvSrzzPAPjyEH7P0Q4tT0tl2Rjk2Z3XYUQTZflpb\n",
       "VDkgHy9X2Hey4pPBAAC4AgsqFn1gYYGYBKKkeH6jPLC9lv57zbOPmSvov8r7yhSAGXmy3OkVKcR0\n",
       "md8j8Of2h2gfDC6HrQy+WQJO5bCzzCXeoRg3Q9xq3dLvc5rzAyaUTuLychgwtqUZ2g2xMiyw0z+b\n",
       "nb4DpfmHwDEoVZTMokDLJ5oAdf+Qx1CMX1o899lHRWxgenzbCKvpszRwwd9vfN5PXXGle0OSpGqn\n",
       "ns903f0YRRt3tbDbHL7NOtPO7t55DY6hjj7E5FqzowzsAtEyQ+XAWcucisjy0tUgBCrQ8lAI+9dE\n",
       "mbO26jWlAzHh0XCn00cPgH+i2xwxSKNGdjJVZ8FO/yB8b948Lcug3RG97o05S0ok4evxdY6unfpF\n",
       "/TL9G2EqqMWXvCIPs4RwMXVB67ok8qv/zJ3ABlL2I7FDuZch/2+uBYJGT6eETEyocryiyvD0xrYR\n",
       "hmlLV/Kn6vWGFuDybYSfakR+2zwO/pACGI5eofE6EA2UwNg6qHVMr7r3My3UFx2Zjuqw3Rmaj1Z6\n",
       "CfN3eBUl8WqaC4UdxHlb+1kBie9ZxB7/ycKWoOzVbuj2tIUBi3mCyN8s8ESccea+xYGASuUpluV6\n",
       "voeDRXoclYl8mXIlQT4abbLBNs2+UkNy5UhjItlQCO0oMLq4DKeWh2QKmkPiyO50lAmtiAzkG79h\n",
       "zWLU1+NpD87TjZ9zU68/qtGtkgiOF1jVgdoZu9LBfOjV6m70gpah9BLZooDjs0loYv/5vsRDTlLv\n",
       "r2ORm6Cf2UNSgfap0PNDzEv3tFUSxoOiW7Mk8CdlOAKyul6PHwSy1No0jSeAaAA8XA3ryZOO+7CM\n",
       "0gUVwS9Gyg9LHF00Rve4vMtIM9PaVhwsRa/78EJ3O0v3BgeVHrnOIjAeZDP/8y3Qf8nG/71b7vkK\n",
       "kusCKARwccHQ14KxbxwkrEQwGKUzAYbF9mO0TmhZCQYfgDJan0VikcApTNdrBrUC4Voiks2pjiX/\n",
       "/0nBgF3MgFoRsPaz7tFBicA3JZdqEks9f4o6GSRysXAmUidQlKYS5vnxkroS6Mv5FOFePBqI2j9j\n",
       "FXJtfE4ca2N/r45ZAGjFwp40hqMGCcZZIiNFZ0PCsZVVH1FOMproJ6EZMWpdTdoQnazoo5uScCBD\n",
       "luFlF/xbplY7NZnKhcX2tMDRPfflr6qHRO5gJ1tr0ndcumsFihiNzoBi3yVt2mJjikt1yfWMlw8E\n",
       "IYB8iQb5jpENumg9Ic8LyT+SsDlh1DiSfu+qODq5lBHUyGQg9Xv8vtsYFCyI9soP4oBY0jUCsKBc\n",
       "z5+L0ZnZkftPZW3c7/w90rnLaLjEyZtSQAug7xGu8V1eS6Jr/KdzORzeO7letM7Wi1ESxzuElx3J\n",
       "JHw+DhTP3BKZ0eJoRolciOp1HwegtaRWHtA0lEolW9gpNsC0dHRhnkar4QAAAUtBnqZFFSw7/wAP\n",
       "R/d0QQ1IU4KtIn6qwXr/DZap77GmGj8ZJf11G1e+8NVGtAlPlm2Zj8dQAA3/2nf3e3hf7d6rzQKV\n",
       "r7sHkovsAl3o0kUg7KmzERfvCdEGrIeOyKw6vmsM+19/wtp9zsrkhZKyNQf8R3oqCZu/Dpry8jH4\n",
       "jPmpoji88Xrv9g6LwCxjWmv8MHTtVm3MWXs64+W7M9p7/u4e+ox+qTNIHfJ/B425Ie10btQJo2PS\n",
       "XgLeJ/ns0nhSlxkDkiMQD9m7d1XwtnvFFfrnQyBZ2c31eYWpaCfSDu+RN3SgKge6X+iOSttoTbSw\n",
       "CaKKB6kq+OY0cIe+g9bd5d2OynVi66bpzvqd3pFyUdhjgokcke4zF0QnILaDp9XBkpsbPWZvkmRK\n",
       "PGDraWpNtYZtY1c57CxPjcyMljHB6eEwXF1zsEotmRlHfA25AAABJgGexXRDfwACxHfLftmRU2zO\n",
       "0Wo9I00V7UAKcaAq9ojFQ+k+0Afhixqnnwn4hyPZt8g6F/pX1aARUmEm3fI0llvovNQtbJlUcbAR\n",
       "uJr7Ggbrj+syBCWE1medWUEhja3YnZnlCDGv33mXLD+qJsaVGXnMH49moYXghgLmJJady/MN+VN1\n",
       "LYKnsO434IVjgwa7SHutydR0c89KQ7sGwoSzIc08+8//BEgjcpwKF7dfOlM3rLAQBmrImsVj6w7K\n",
       "pO04idBZOI9ZkB98x0opLqU1Noh4C2w1TScETFoHv3zxcxCyeyFPTfnYhQuKk9PdWzfxolyQdD0q\n",
       "UQw1DFxAjyYky2sYYCVKeuC+QWVyXDVAW5fNz+rZ19UlV49wdRx8au39aeaoMDwsoQAAATQBnsdq\n",
       "Q38AMSZ4gA+DVSoUKDL0LR+vU7B0elcLOsnAvHLKr9n/KUajFoClOd0kQQuv1ZPLE0KG/+DVH0hf\n",
       "utprtDp2jzflCHU20HkshN0iT8LbeSXjE4BOzr4qDGpfkN8/fB2ov3FxvSqz1iSuL1Mif/GD/Le4\n",
       "joG79ehnbdXn+vIlreok5Cy8t7LVq/CBpQVLxTjpYZOY1kfoEsm2OJ6ahjIT8LEsPZ8tNiWr3Sry\n",
       "IOmbEAj2MgoMtWgZ1+Gi+kXXAv/rRNOFFKRAXUL0raIjImxq2Tze6HjX6oYmH1LtbvnZWF0L6gql\n",
       "fjlORLmlcpHgGdkpBJx+yx0NazB3NN28XNctxckYYvuOP1UV77HKHU//ZJHd9KNH6vCuo5BlKU9Q\n",
       "RV+/9WiMnhznbpXBncDVlyYEnAAACzFBmstJqEFsmUwII//+tSqAA+ZmlOOwYAUNTjK7P+X4DEws\n",
       "GzUNPVd+J9bHXnbP3YEjgfpejgTIQrzHmS++o0NJm92yoszoUQiqb1efLUsJRh7ThhRCOTHiLt86\n",
       "rK7P0eu7B44+rgKS1NDw3qjimDTYraTwgXWJF02CTKjEuGZzv/oGgD0Tj3Au3TjZDZivwNr1LY2j\n",
       "301+OfOLvUvbnbmWSEPesqw9+UjX3jM3Jb2gk5kEV6kWF2SNoIBQGzqUGyS7HBVuRRGY315efS9x\n",
       "lnknkhu28c++syTSd4fpIpOZkfXqTCeRY8M/qu59oN/mW7FRhvIF/CWQe3fxfQU/3Hak4Cr7QJaV\n",
       "WqzCEKa48cxo4mJhc9KAiQ13+eOWxN9xOrRzWyoaXYVThinLjx+Eipt7GpPf3JlPWn/A/hgQJ1el\n",
       "lCBgItNrpW2TkDMBN4RlP3cELrDbnDEOkh61F0UL+cmuxv7l5Y/nQau9HjKK9iXoBaom7kkzHvgU\n",
       "obzOYVikEDtqEUuoxa9/586SbEPZrgpH6sWfwGz6tZrSrNzbrL9Vl5KP+0ZvFtLvu/dvosRKRT4Z\n",
       "KfPf4zdwm2Bpz5WPHJVt7ysz8HaJOayCm7m6Y2ftrR/poZyIKXBjU70TxFk1FenNkol2L76bkmSP\n",
       "eHt2gg/Q5zV+CTDjERVKiKwPAFNbZCUvGdfsrvzshLWtIM74u08EENfSBFc0Ug6fY8bjdvtDTY/r\n",
       "B9guqGF3JCjOejWSG8hE0K34Hwdi1whvNWXX5OtdQjYb4/QSPToFdnRVkwR1nYTuIFTr3Naeu/WH\n",
       "PX01o9rsmWOxIpCjw5FffQrAYMFr/4OEC3/EDMw+zUn3RsYrDT19+/iUhO3+YcC4ioSrRH/ZPPJb\n",
       "vK8KHuZGexZa3/DFY2+cXXq6AwEHzP0WiJ2rlCKh6AeamjcUuN/GU27kU3MZvFZsLa6xCAqIZZv6\n",
       "gFSOAFs4VmGV1HMwh63JwSZzKsjI6YYO8naq0BalV++gmkNt1cx1S2d1FNwJOb87xeswlN+Uvy2n\n",
       "3/6V/ZdmbtX6DFo6fZwG9vt7gsUwKa2p3nDPk0ypdwuX19ZC52mAFDVyuh+/6CMk+f8gh3OAfoRN\n",
       "FeTbEnOeDJZlLJA1EXw0R2ivmz8b3Y12UovWCmYVibQ96IZMZinu8hRpIWzWC/auuuq4P6FBNh68\n",
       "OpMs+3Z8rOI+blugFBa3gIYnXgr0KL/AUhx3ntql/4HncyeqlfvUV+EKiaCxTpWOWwYu3G4JjbxF\n",
       "dpIp7Nx9waitz7TWMfNaZEMN6jojutbNIcqZGm+4jaBUFw7HccN/7YqTLhH7wmAgXIaBMWXeI6n4\n",
       "So7RGE+oKCWpEixlMxtBac8VNII9VRUzp/qPmufSqd76iGjvOl7MemagnTvy3pSUIRU9ub5M6aHU\n",
       "NhNL43TtiDNxrP9RT9sh0D+nkclLqMZzaUyxz4iCVF87mYNv9y7kBmSA6Wb0e4NF8vspUXTHsW26\n",
       "NFg+7HKqgT43JoS9GnQ7lQDjDv5t+KFRXfbHfnAQLYEffvrWW4rkZtiPKvBeB/28VB0jUB0Oo4G9\n",
       "vMK8Ri9aL1lqDbOoCXBqhErWJza+qdiHkVicFiGPaLTxHLGzCVmvjzpt1fyz+1KOxFWojcKTfNU9\n",
       "PpSlwniUgid2KYnj+M1zh341jdai6uKvrfaHpvN2CDGCggAKrbStb8IuqsXXu+8wNrxoML55I52/\n",
       "xskvYjFBNtfSsMnTF+n8hCFJKUv7BhC3P/eEfO/D9/Waj5atbBybCifIxI6cTxcSQT49FO0tmjhX\n",
       "7wx7ee2GCB2MuGvhP8gtFMgR6DC3j3mmLt/Kqnvb/TQUA1wYU56NViiUoRxdS1Jy6AVrPWKUGkP5\n",
       "CAolc9MRyiwytYPwVijuQEqiZZqePtrPna45iC27FmGYltG0bWaof4+edvAKUT8UPBImGYRYeBMC\n",
       "yL4T/R+PDebWBWfYhGUFP9Lo7ixrosLXWjhY2010NG0hTJz2I27xrHPloRNy6rCHkyOHOs3pfhlX\n",
       "U1+Y0qb7UIx8SLr2279OpXOcZpskt97M4yScdm3AaTruz3h1T++os7DVc+xGoVAnp+CtlxGv8mJ7\n",
       "2a/ihZctYeDgqZ8XfaX4tYY9TGdXnH3I0mkMaOgi88DmIBAdskJQzRDlzRdq+/3GiuIsifg6/z7I\n",
       "IuQt0RLmC3IYHCiWQwXw2IyXf3E40WV9FUCgETjfdTDNBpVN+63/jUiETtNDrQk9DYYlikGHdPJ0\n",
       "OVGN1hQWnpIzZk4u7xhSWucbq777xQf+CISH4zOC/EcTz3wHB4k9njnSfJT2+pSNM+swgkT+kmw+\n",
       "vk51JCiLfFN5aHSnRp2WYn4zOhSSytOySKe56zhVbzisR6BrOcuE0lUwozWE1vEnRKV6ifBX04Ec\n",
       "TKStELH82rUWeqK26jJg0Kd6A4KNH/hD1az31Gfk2xHcn16qxhAI1e/RCNqVfJJAq13ZRmRZJsr1\n",
       "qNN451MKqPSiqnjTaKR4S7BBsRh1JLleF6XqnZZzL4+otipcfNObBQSWOsI0zU4tKde4YrLgrUZB\n",
       "kAwoxEBM9BStt0oOHDV9noslSCuwYOfkLetX0jdXF7mdwTAVNwTINvLqPyg3BUQR7ch83iWycCou\n",
       "pAN3J3Xkt76yE3n5cLM0Qm0BponMEMgP3OXEa6VfHryRN6E134+s+4saBvx6EFSF05pccKbBYS07\n",
       "hVLABQmRF2t1BMj3j2L34jZrUSOx7ZbP9aW7fVmdhbXU5Gi1MHSwzIhVGn3h/u0g+vjdxLix6WEh\n",
       "d/Xp7cIJECUptanAldrX9ZDxSW2h7fUvtTL8IcPEerAWgCLYAzRo8fzap74ShHY/ayjSMNHnK3EW\n",
       "DG3hDN2N8bNngAIXtSCzIJnJTK3rqEG8jGZwrPvnB0lkxWBk87+jpbVCE43cws9CZgrbTqGIBu+q\n",
       "qyezzMh3uFKm3rigEpYtR3nIOs9VWiT+XfdcDZpD9PmHFf1MjVzMn+AjutpKfF/92b7MVZkXBwLD\n",
       "EyY4XCcpalIKcMHvyKKJHS8lnzmqcg7Vs/zcPSKjyXAWULKDzX6t6+5uUADomz1cPDLcmVqalOJx\n",
       "TDXOWAdjZW6UCxKUow2MjtTWjiI70C4amLXfLWyk0rGdk188mKPdTordr8d7Nwse7wpe9GRJELRa\n",
       "0djRD9ALs64zyFIjIhA+vbH8lcCStmM8jZn+c35dT9s76Q/HNOfBFrR99nldhJwhlWmsaEUaUIlC\n",
       "eWfuX/D0Rys473BtPJOnGDsXH2XI4Hw5dl+1v65Kc1TC4hRnPqtkpIXDzkNVw0REcobSiCu+DfDi\n",
       "gF1Gnwa0yQsUbr/e0YtQrxsRgClVaI1cH9o1FiUUeIEFxPa0EMz+a/s4bnAE2btUskhwvWdOg+pZ\n",
       "LCa0STP+etpRUwnDTo/Q4iD6sym0hT08VLp/iueoeM+PxhJ8KNzTkAX14e+bWC9rQX0ZtaTY4qhR\n",
       "gwsyNo6dt902bhNN8biSLvYnCHuj4blpha1IdFfzXRfH3F87anVdL38DAZIjAHcP5QRId0RXrS1F\n",
       "vURfy0y+6znovhyHp8r2wpIXJ1rtzVq4rsk+LAJUSixwoAYzJvAIxn4MQfyl/cAa+1rkA7J2zB6T\n",
       "72beW2FD/IQ5tiisyflqhgZYs/6lytxe2NTtIjA6xCgeCnMovOv/+YdT5o6BcAJisnfDCNXnxOxK\n",
       "cXgHurFQnky/lSOjzRH3XBFfpoJqz0KTMR/QImyHQaVZfeg0QNsd84jBQt4psJjV/25OB4Psf5tg\n",
       "IS+RB70o4TqEK+S/RnmxyARtPdiX4FJcaA49OxlFC6PxLuHAhYAAAAE8QZ7pRRUsN/8AFiT0HV+W\n",
       "WgZZF0YCezvgoURB4rjzEyOA0xNMw3rrsAFf1+SwJNu1KM/W300raGB7mQpS/Rie4HRMG1nlA0Sy\n",
       "Yf4IStIFLwozpoSP2KPPxiskudj9gS3cOisDYNpuq2czjRI0wxlXZ/WJc/aNhmu4rgTE6hTkv6Bs\n",
       "plODWeT6vLJ7Ena42aS//4scYJohOcTqhkWDZ3YIYWlUr3BMLamy/bBtGKrG8gBuylX4b1Rw4C7y\n",
       "g+YaVHEqCYeRMm85jyWAup5Ob6tMBODqm/xOBvUon0i21fggTt5AtzVEu7Lx8PSiRD/J2zgsFXH1\n",
       "CnA8zmbBhbTYq4UCfcJhFhBGf9KwIipMBNoHkfiiHn8q5op4Tdzt2Uy+y9FsVf2a9bkNB5a6cKZs\n",
       "udt9xmJ0MN4FzEBfwB5mVQAAAS4BnwpqQ38AJshMAAgn+xjPN1XXqdg6PSuFnWTk3/KeFhQBCAlI\n",
       "N//v959jyrh4Wed0e/Av2A/wOAUfIdkXBITDpLMqJiYZskPjXSBBRR/hB9F871/BiUJ+1B7EqLD2\n",
       "oLHvpchd14BRtBnsgHrpgFFhKcpGDWudr+mgisFITRVtwlPb7Zr5VnZecCTpxY40m8GqHtaglpVO\n",
       "rJaTeLkDnZEP/FAbThppop8wS50cs8Ih7C5q4sEABeWenZwZwkLdxHc2fVVTIC7dPQvi6FgcTBLF\n",
       "9jE4Tyvs0yZEkETAo14ESw+yhF0/+fPjaPD+HZ115W7EeiYYJB7dJ5d6AwIG1QAu0NtgzAv/Umsi\n",
       "hm7MKGuT1Im9HNs2yP/3wJcaUgugMYts+aOMgJDsaNWFs6yDUgAAFA1Bmw9JqEFsmUwII//+tSqA\n",
       "BXCnOxLGXuDEwTt0sydFWaWHq0uv+4/YGMsLVTx61IJ2woYpD+qscWXG1R0VXCW0UsCDpH48uE/l\n",
       "Vh/lJ3LhqQWymgiVKXKCETdV7u5EJw2bIs6Q9ysTCcPBJ59hmOLx8VVKvoqt5T3eg+3IWFJy8/Gg\n",
       "BoOHDU+fN3fhoaL9wJm1SU/C66KbqDWen44wf06FD/jUaaqVYyuzOH6OB5kVZTPVqs1HShmNg520\n",
       "/IP2danB3KyUA/onPPsjfZTuNPKdiiULN/n8lotDaMjFaZ+K8hEG+UxgX/csNzHOL0HpljRjyPMI\n",
       "soyS4Vc3+nA6qyrVaIWNA5OQo/RIrDbwEyHFqpw6MVHXfDoMnRyhyxgqldfOkawxNRtuqFAnnySK\n",
       "Kged40sq33EVfRpphrUHBoOZysbhH8twslNMPqtNBFn3TEWAH/b3Mz+CqojcPCXngfFOggOJL8Yh\n",
       "uEr32wMI4LWb2GCpjepg/gcr498fV/cq8qoqrI0UY51/I5xSyFGcaPHs8virbdtQEdh/fPA2WLBg\n",
       "75Mc/aRct0l/GTyhDrU5lwiehH/Ubxwe3d5r1PKmL5aJKnyvKoHvu4/yhuSgl622kysCnnNF8IVk\n",
       "5SS96S0j/2/LXVarMKEtUtWK9b+uUF9qrWETxI1Mlcf4TgLCUKkI0RjG109QsxX7O1EufXkGaZmX\n",
       "fwT6PVk2Va0Dy89t1EvNTLT4oWTgDkt34dkIEwKfnJudqDi1l2HkxBsqjG9U1R0U2RqcLFPd7RZk\n",
       "dXDxSC9YKkE9pvAMjXcYGWlJw1r1k61+6Kb+Hsv+c9IinUo1ikxqRbw0ggTLdrF6PuDsiKopuEVy\n",
       "Ag+J67SnZFJ/roCPdg2yY2HZ7eEuxzgjnKz2EGByJXYWz04gcAfl7UxgCBJ0DxzR8Y/pZPzqv9e9\n",
       "KavF2Z13copfuLxQv2gK7fo5+rYfK6MGktY4t8Yss+GqWednp0ArDtKDIH7NN6aFvcApxbHqjhzZ\n",
       "/tu8a+3DZZTjwoJjEazEUFjgw8SyFweBq0SGgCaBIj1C0GNALdHFbEY1BgM6uZVup71SWJ4UYqcf\n",
       "pYn4DFm/YUgWmwNdvqF+jhLQglQl6qGDMALK9zie4VeF7Geew2RWujQYC6dfRa3T79WkysZOaAuS\n",
       "97x6qgbjla7S2hKIl2wyxOcGagDe1X4GLQiHUUXxUDfaPOQLcIS5ip13xE21KTlFRBFxKRQODW48\n",
       "LTnIJewnde6Dqz9pGr8TBq5dsVZlQXVJLREBGqPFaVq3XcRzFjHJiNvz3LO0P2XG1suoGlzSPplf\n",
       "SJv2rgBwExeYtb/gs6GZKlpsclCP9tci4XSK5AKyxCEhW+HS1TL6g/RgFh0gssRPgbnJjXgRoQ7M\n",
       "biH/WMct2CFgPBuboOMvcQsk2y695cYhi/WimZCzfqNU4U7VH6UObXgNp3uMagDlLdx723nq9oLq\n",
       "GMt7L+0frkxXsH6MG5EMn0f9LCZfdBaQ5CemqwUsURb/KEuZGkxVC2wbXpqlAYDqqZXFriE6fP0u\n",
       "9pMm+Ev1hbmAR6QhExeua5S1Acrjs+r9h8ZV6ebfFbbs5f8nYz57qpJwuuHmSQpgECbO0RZOHMWD\n",
       "KrSNUezQsSj1ezWxTFCAaLyx/FuwVsxr6qmg+2wzkJtqevlGuzDXVAOz7Wscpc+4hVWeNjuUX8UC\n",
       "Hu8b6ytRV9YhW554gpw1fLL2a6VBcZIqbNYUePDwg6C24oPkeuFuc3wqLXiATg+ol1weV5L4vUXk\n",
       "W7ZtOUMJv3DyyQRdRAB2dJqP26v5Bs0mBeivfsfjaJS7nE5Ej3RaZUtjia2TiszYJXlFYRDC9hrc\n",
       "7TTAFVNf4Ky9Of7s3Mi7JMUH0H0dTjsNZDJLhV6bz2LG0vjBd73qO1Zr9fC1FpeFvT6iRVP9dqAu\n",
       "zIBDGc8F8czc0zvEC6+orH7lsB6D9DoJOf3MrezeWUaOIZf8B6bggjMv7qir2HGtnMULuHtYK6Nd\n",
       "RhfYSqk4bUmpTysRSrJQvNQ0X4qUG8u6hB2JNu86udOH6u3HLZJIu/ForoGG8LLutaweAC6QATuO\n",
       "UzzOFMBlFyPm1Z+aM1vrYQPJR1J/Xx2gEdrtQz0ohS50QrLxluq7aZhZ6JuE4UGht+9LcH2ajsKv\n",
       "kzHkUMazpeRnYLeWpxFLZA7zx1GmqUvqkGrug5lxEkjooC6YSQE/g/VQnS6crSjONZqwPyaKnviA\n",
       "ylJ4zaFHvpelYnObZL68D/7WUQtAHqvs1q7R+aVybcOx0+0fdZ476tmZRdKVlWUxoXECdz6Nyy38\n",
       "vXMxb/RHZxQi0T3ix6r1ixUSEXfbbh/zBJDqqg+ncG78oZl+KVlQclz0ExjJXdeEPqkeykbQFOvp\n",
       "jfJgvK+HGBrXUKqhgbHLmMYgH2STKeFDP8pYYMXg15QzD8npMq07xMZoRWZsV6U+2VLB4AP/Xjcl\n",
       "XWQ7UJxiHgbtD+5UVOExFfHgxzQ2Jae+tNN0EG5dfvUj6yB8NzeRrMrody0GrO7EmAo2yCXqQhIP\n",
       "0KYIc8XlTMNn5ZjMPHkp3d5smfxuxaozdsHYV3gA/13/aJuR94Xrg6mdtHxnaZw21baDVf91ESm8\n",
       "iJ/pYVMP6WNBBkfyoSHOTMwOzhDP7wnsyRvaZI1Jrk8qEGJM4o2C6j4KZNoyQaxhhrI+8s5W6VW0\n",
       "BkQy/P4jZA1I6mEaEjsXf6iDdcZIk5M3V4kL6jyuwp4jiHx4dk74XLmdHgYf+ewzMXOXZCZ9swlo\n",
       "KDMpDEPV5uH5cbtCwp+lvEzPmU5LWT18lr1XQOtp92ZRhyv9ZpH9S5ocju13hnSfu+KSq2+LrXiP\n",
       "fE2MzOJqd4jHC5zx6Ys5GBqXwNj2deycklkHCTjRZ3DTz3zTXjGk4swY2D38zf6K4CRJTVWXDYeo\n",
       "8A65WA2b1WMKAAQQ1C9daqnahpogONOUeHLDRdpbjTbXV/4sOu7WKh41WKKNKnNyIfrrj/kplXr9\n",
       "GemNDcxuxGgV+G4G7jTlXiXdVOvT9c4pX8Zucl7KmYjG3Cx7SzTiAP5KWfG5xBrEa/cMM8tgvQyR\n",
       "kAKx8pDV8GN34YTmwsINiO8pgC4GEsJa70zEsWXlqltCn8k0acnU2VF56f/ffEPVk0JiDHjv3O/i\n",
       "Z8Pt/SkHXy//K9N+v/l8gP/sGZMpsM67DnvnANziHgMPosSrpfPQG4Rgn4s5/4P1M/45BvW7pfYY\n",
       "5elfMuF5iH12Y6lXbzuF3WMCXbX1U+l79lYneS7UEKGbpEFWe4H9qpa6PcDosHIb2c/YQuLFQ9KZ\n",
       "WmrEGodPEEpLOZUbBISlfHBWFzhza9PET09hgsUUd8e47jqUfJSJIdLaZw3XDsdTzeVyape6d75k\n",
       "1YEdEM970PTmsRjlUGQw9V9XNynVefwMdj2cSAJmdrdZkHHwp9DhmjK34kZNVHoSTm+D3b3uwrWj\n",
       "SBge1Aepnj7YED1fAvNwc2IzXts1ryQjh3oIlHtTUmIYXb9WHwmrHZocbHo9MG+F9xAkVm3R3l4s\n",
       "6wk7O2LgBJssUOm4eZlJudbt0JnM3ylgB37motyh1TVI1figzlXZedfcdfuEBdqJu5VQkLAxrZ/N\n",
       "Gre5TiII5/MOPWAjjKLE9fTcEiw3pNwrACase9DTY0vFjbdqWtStETqvdvRqPDMlk0hZnA7fnuJj\n",
       "lt/UsSehenX3k42Hbeb8IGGaSu/Kb/phGP3CyyIx/FqcXAXZ8+jbeGv+w6kgtJI67eE5sG5EWfT5\n",
       "rg93suMRUazWC0zQUSNacsmBhfW6nkUe/vb1U1MuxrIpPBmFGINMEqKvOFSHk2Af8WJGek7RxaaO\n",
       "VyPywbIBkeW9B252htkTHNCom5e2ivs7Ckt+tfdQtbLRD9mR7cJ6NwZaTlIIzmByXIGpkObMVYmS\n",
       "Few7vkNixZ7ghLfp/pi1+Tt6KWIQG/7viOpOvWin0sqJur6wGoFTaz2nOodcHgKDx0nMU7HFaUQp\n",
       "GEyJLPnq5D/xrkjg+ke24mEZ2t7/LKVJVQMsT5Pu8dbCtdFtZr/eg6oegK7FkElibzQsfBR3pS+J\n",
       "QPtjNg/QuvGBPXMS+4y0PCiuGIKrmxXOyss+Sn2I6PIrRs4hGJkE71mL/zk5F8c/xgiU/b0vvHCI\n",
       "TRKjOMKqRGBfdMmZDTy/pM+c/xIgkRFADPam/ksGNazD0CebAsQyq+bqs+7+CYnwwfIZ9XIm7cX6\n",
       "KavroKVel8cxRfdr8RQtM1AmJdlWUKcyc0oHaNXIA9wSgX3k0hWZ58G9+EZrGYUeN7SyRBczshd8\n",
       "oL3IzrUi2ANVnQkJA+RvYjwYzgbqBEY8wZvaoquMsfSJxAb11KHhZGj0Yq3RKoU1/BKv5ed6Xf5j\n",
       "YlvM6/lGZNl2CvqP1zp1/8X+gAYNQAxD896QppSFHWMg6+Nfx0jFt+SCjvdtyHLrN9QafWR23aRM\n",
       "9vUxBxPn1t5FWcKFu2BlrqnSUlLgLLBhdRbUMzJ8R5qmFVwRbmNhIA51ORvJtAvnKlTBL4Io3Veg\n",
       "cW83fF3uSCTtCaLv8TbhuO57AP6qVJE6QWL2efNa31l93HUZbIV6H78jI9w1hdgOfKu6pCjUM1qt\n",
       "VV5wM2GUGJyFO66rXiPeRnMBOmFuGZ4OwJVu1FAYV2OWdWIrANv9+ySgHlEzc275FrWddO6HSRbZ\n",
       "/GWLPGSOxIJXxRJco6EDcfe+gXvOfe7GCNXCUjrNCg+BndC1qMmQNpZJyWac2ChxO2dAGqIIqats\n",
       "Bx7/3mYpJqbPcnGvXwnRYtE8cWALKYxczftMm3PEU2p2alyJlumnac8oKNJ8ZRqjO7dhLtHfMqGN\n",
       "3CAWN3TzuC9J9rsNgbUDr/6oc5X4DD4rpNv0OTY+6BCHqqATvjJjDv4Qz17fuiFJl+RfG8aIga21\n",
       "U0HUu+o7J45BXYFHmkKbrFzHWMUslYNsc+qQxMAQVJQmaaG25KCNuWl9PM9RMbMH9+VXHxIotARp\n",
       "T9QijFNDY1IVpbjxoWsUHoTpent6poA47TKe1ycBLa7ZHWuG6aO8NCp5cPPTG2dRntGuZJ9c6LZ3\n",
       "OLj2URFJFvHaMe5hJbs00+VamYMKxwC/Sh0fjhE99dfUlgXsHBHVf3KPJqKM9x4ICV37pGgPdi9L\n",
       "Asz5BbYrSe8Q9liKL5+efTZyMf6RSDMPvy+4T/3xXCm+h/0rBzKp6ytnXMUuApTPRPuB/MwiDmnG\n",
       "eg82+lfLSuWMAI8O9RRC8mGZUmvmwdz24++qsIbKMsISogRWBJbRI3BqhAx4ImAuI+UeOkWhHAmE\n",
       "vQ58nFRDKqNXeTDqfHtMlUpn5ZrnROvYZVK0nrj1+0sQRoCdDZJnWBL9CTVBW3PC2TgOTygNvJiV\n",
       "2Y7YuAe0qZnfkjx5SfwrqjmAAaWopugMmqHeFRFpgppg8zuv3diITj7u1AaYxfUyMpaRfEs7afdw\n",
       "pCJ3MuVYV+nxZSDqyIz6wp9nTkIHfT7hy1Zng3+ft0l4+nplyHx7H5lgkWhLPN32paLZQIdf5wwX\n",
       "HzDWU5bSTkwa8NGx1AyLmlCMaZnnzJNS/KCjP9j+Dh23C0KwkYYqqsZpvdpgdmQDKv8kFrkPcoNL\n",
       "q5weBmXwXxsOMWOzbc//CGeg9QaB9Hoz1l4iv5Ossb1rrIviHLixYwJ/RWu2nlugv/+64PGenXVf\n",
       "URwd+/OVMFU4WCfAyWxRf544UD55sohgYfOb56YHf9+1bQOCxIQ8weA0bsoyi1B43vsEmKTnsG6/\n",
       "QdghKd3SH5kQ1617pP81dpi2z2vBsmMu3AWj/D0LodaF5JjJjsDawUR9vKeLmEXV9nSHGvZdvFaw\n",
       "7e229NJc19dlWDpyzfOn2DNChOhRX5Li1iiz1nbqPH8XfgdVL3GPdgEHp+msKgz8Z7MqVSsOioCe\n",
       "y8Q0dIK2j7dvCGQShnUkiA7bECER4QLkfM7DPHkCzL09PXYCHDzA9FQXcgoa9Jyf/YMdFICDgMyI\n",
       "e+YPKWQ0k35XAsvjbEH9/wjtTRIzPfymavFLCa/984UeTy8z3jX2mfW0z+et7UfOZKwH+FKnnIZx\n",
       "y53sHJ7LImG231CEm3lXTld5vB8epf8iqZumOyneERpC7VaXLuJVYLOnBtaax43hB/eTr7Sbgkb2\n",
       "4so+neHXtl2ScEy941zX0i6iwhEEhekSk41yueb9K0ZGKB1tY9NTR9FZ9g7diB5/x8dof4jf1FvD\n",
       "LkwSOD0OTpac8uwSU5VwZwdsG/7KHUVMU0PB8ZhKWPgCYeB5y4nZl+vlg0AovlJg5fEzoPyWmCXa\n",
       "ln3E1PBL6W2uSfZ93IkYh4stn+1w/Z9jyAWOvWipET5iWFdVPpGve72v5mPZPXBEmFVrj76Fvwha\n",
       "ys4Z7xPXzdCcNxB9y/WzZs1asmiOifahxOUzGsEPmrSF7L7RWvIEO9ZpiOgEq1Qtk0x/VjbgOQ3d\n",
       "e7zXs2NJHKH2Y1r/bwpm8uezo45t9B0iJ8L2xx3W5jaRrOjkT12WAwMcpCN63nuGcSxzpaNwrjTu\n",
       "1r2cpMvG3RquUjY0TNqSjZSpmXwQkqekb/NCd8qfXvkChPuv0ZG8KQ8llpuu96RYA/NLCGMT7c1s\n",
       "Gc9nFe5tRcVgBLDccbVdkZKXKeIcPvjdpMJvoY/Ou4ySKdlB4AclPIzABKB7WgoXyXrvE7dxjLZP\n",
       "O2rFjsU7jtGZ2/cBttBUEpkFB6aj75DrbZVpOh7MYEhtuhxRfdFgMqaGfXC3CinxOndP2ORz7VhG\n",
       "30OgfnZfvwqUQODtF8XqKw/IvQskyArd838ehk/h/oSakOQNgw9poUZjwvUR3kutrtZR+F80fbBa\n",
       "yyKQvs50o2HzoxKa1642cDFXW3uhs9sJOlSh2YTjBc6M18GacLv4QWhhmNAAAAGDQZ8tRRUsO/8A\n",
       "BsyQD4Kv3cM5s/zHj6MG9vTKX6hWhaQuG9qmPzqL+8pM2ztfNT8kcWiZYDnpMYv29oXDaxFs4fyG\n",
       "D74jnhkiMcWyZ0lt1g+qBt7n79y2ECWvmIfwZKGWHeVmbT5dcipcbiGkST/vNnO4kHb8epVsnVHG\n",
       "4QAONsLgGEYf+Md52eoevoILdfG76gCI/q23UKfz+A4DZ/gMPIvEvil5DkM6Hjyg7VI/6+Dt/Vt3\n",
       "zZvAq1x2rD5yw943qLghMC40h86N7wzU4Y2xpE7uAYj7gR7mwf6GG2fJt0Rmo8btW+GropNIPGwn\n",
       "09ERGQpEOc3TDyBo27SHfmzXaLgd9V1jOxRkj6s91l+N74PDrvyCoOgS5vwwRQ7RKd213Fgd2X3+\n",
       "qdAihPhCF2E4WqkPhu/FobuKMV8V4VCE65RqwRncdbZFdETM4Nrbj7PExfIkeJ1v/8/DslfinFUH\n",
       "7HbvmK57gR5g7Ie92isg+cIYLnynMhaSPHbDwnpm95lGh/yBAAABKQGfTHRDfwAJq+yulp9IAWy/\n",
       "AajpedJbk9EXZsDMODWMKiQgLqxCdBx7vXzTLD8NXyP+bdq+LvWKkUHeUP+Lm+6atTeiP+vs+UMn\n",
       "8O9DNQts4BS/fWt36+9fCKl7/875b7W7PhyeXfuXZto7hpM7Ychyd9nk3TYU8P/KDmafyrj3WkjZ\n",
       "bCwBnQicifU9Lq20N633JEVPDCIxHD8w9Ini/H8M4ApTXIZiSI8yUS7R50wB7YOiQ0/YN7tWZa19\n",
       "Slp0NEUNEh9qt9i5JDC0Q48hkoXT1FPI0XccRVA2HXoE9Y6wTwuKpBFD8nhNJwOYzsZDDrJUEQZZ\n",
       "IwMGAt/pWu9Bwy1r/Oz5tbCxlLSDZ2lVL9nnD5bOVxnksW0GeoVULV86I8kzFZqsN5+zAwAAARQB\n",
       "n05qQ38ACa17Oj0c0ofHrpC3L/oDVcbJxenyH7b8qQJy2qxxgTsZJPQAEAx61rHahMj/Gi9YvFQl\n",
       "yR5bLdavC9AfPkXWxH9pbx086UOhwZHy5gtojLwRCIYnNSKXGdcA3sjlXJAP4L2ZDV04s7QNo+nj\n",
       "Y3GAMGqao47lorMJnsea7m9Hj5fQ7pSIOufs1MVRklxhp8JDzUpCjNAuwk5nWmUhntb8vJl71+zr\n",
       "08DaeBgC8ebndt7tqvQqWcVhxUtM+z284NbLRTYj2qI6/ZUNn2YYZGLwDaOf+l1P3Gw0PxeoBS4w\n",
       "tU9avDKFRGuLhhsvGSxMsdjPvHfYkRMDqH7GejS/4BqgWkWUBU8SzbPJnGgHqmEAAA9KQZtSSahB\n",
       "bJlMCCP//rUqgAWUNPoACJ02ckTR0GFqARdlO2p6Kltrui+0fnT++1vv1CD4TIu1YHC2Xou7dfAK\n",
       "+JuNebVNHdOojxYClXkXkDgUehldgaTOu9tWSINkaPp7sRdfkcNEFBrOTmK6Jdjkc+i+WMAr0BMW\n",
       "rP+9HAkcN9bcz2HLjJ33HZcWrsUR1W9vFWrdS03/QQJrK+jL6fDVserNuM3oaTuMVYDbBGcelG1D\n",
       "slcuocOXqfxZGr/+YA8/mpNVgPIBNfmXp9CW62h06OCrKSH4UdmgCQkDz8fkxVY5sb/elDUgAgwA\n",
       "aV8YSUTK5mHjg4/DV0jVSzASbq3jZ81vxBRzgZP+ljA3u1GcEhWGOC6XvHX9+Z8aZ1ZOcVRY5H8E\n",
       "m+/Nss5JZFLbER/SNfL9vBU9ovL7Tx5jA3aNJSvv/WJO/k02koAcHHY57/KI9lkcRvD/4A8+rTSZ\n",
       "MJ/U1EV5hMJp6U+lFMoVTV2Z3um5DHo7feLhYVLH0I4oI+BWZL98WUxEugNxKFH7Y2S2p2oTeD3D\n",
       "ZIAWB0Z5UnMvtLMSLAp/TuoXKKJZRuQy1R6O9M/DOP884gQMavyW9dHn30l4ct/2Y7NFiv9kIvAb\n",
       "LMTSKwXaC4G4b8VruONQjDd9NGuqSDQqze2iALGUIX71gK95FnhuqSxCbmmOJqSF7+xyCD2/eniE\n",
       "tdKVH26x/dKPCIBu/+E5ppUHqaXxWq/9IB9qjhf5qpvEY+EuJd04nVx87NHDYV/GrUQb18B8AfUf\n",
       "gbfoFi4UGKU2+vckEj+pFGKD8ovn4mJskUSDiGtcq2j391I4tTcC65FX+z4aA9MfIXaR37IwvmjP\n",
       "xijne+NcYuVwEUYDLhbgr5wC5fLkwyNScvqFmZsXgkdLE76v8GfS2A43lhY+4bFxqIyxDQCLnndV\n",
       "EnHYVVAlbVZv4BswkKvkK3aTAV98mAryaNM/7AqeYkW7oH8vb0qECbhBJ9QhQiVcvr1rLmB9acVq\n",
       "UXWH1uoupzoI6XXm1L6f/vfGAqKvwpeJ0atE2WODP0Hif1OK1alSZqe92iJuCXDljRRgv9xQNj6L\n",
       "H7m9mPPsm51finvK64Qt4iXG26qgo0Gu/QPfax2sYfIs2Y4sluMaA8ZAEJoIFvB7pCAYQAmsWQil\n",
       "YCRj783hC2qEzGLKnjnh+uxOP00RiAGiSGEHdkUi10AVITcVVum9BRYLlWMgTpoXPtNPdZAfPP4A\n",
       "M1mIVHL8m9mPLUm4RBTbfX/gpLTBY8ArZV8FSGGlGuKT7zUvO19zGKsz2PydCYv5VITypKaT/j97\n",
       "T1gyNYcCH4mNdDfk2coIoDsNYJBHePnL78lNfJvzkQG/L2k81QDzHbaEe6PqupnbHbzgysn9lNH9\n",
       "HeFkxONiDCinQhegf5z0i+yxu46h+X7izesM22tAWnY+g8p2t+A6XBvN3sBTSQA0u748Nm655dT8\n",
       "xHOnE14d8wsVmf3Ju8G7Ldp6bhWxYegPuEBVVs4WWJvgMnsGbZgHTFHFKK8CeGYfwhX9Zi2SnYsN\n",
       "75dk5z4oeGeKP3XCje7PhN+MDSR0aKgRwSVmmHRJOUwJgss/VddTPupZ59NRnJhkYUKAxx0EM3oV\n",
       "Zzl2Xg3wn3ZEE9NvrMbvmmqD4K9MLPmaRuaiJd687HMMtUwsCfGR478Fl3sUZtPgFBm53WCHbbGC\n",
       "8voTi172Zxm8wQo3z3vIQlB7/+ZdIa+Phu+8Ys/TkobZk1Yea8PZmdrC5lRFk4nwsbRclVwEdKvr\n",
       "fB7eLhhHlq60GXu0U6YH17UDYHnkB6fUcSsxQDzZMEyS5t/IPq6qXaMbrP7f310ob83qwoVzc+p4\n",
       "7Jc5WdYlgcarCc0XM1mK7jUybyai+Yc/29IJXrfeUxSRdNKfPQNj83mTnpwn2+HresQxYevmntdh\n",
       "+4AtQav7h4YqfiyvQzvc4rZkraNM+6JQL74Z0mI04RLu2RnDuIrVzlOpA+3Jy4+xexws5StxU0WJ\n",
       "8eTRz7kxaSOwF0WII7qLH7Q6a0+SklERp55PxIhByIMFNVplVUr6hoMke3eqY5pH9BamcRXctcJz\n",
       "DV6voOxjAfIY74KxPpHoLjVSxT4MEqu+f9UN4tkUwzml3DY57zJES9Y+V98zWQ3pCsMEofpCdM7O\n",
       "goi0xUDC9UZAUplDjDlYixfpp3yMCvT6jziI+nVFMdaRSwshYGTBvYsaU5nqTpVKzUyXGFef6Am6\n",
       "glUlX6o8wy995TeMeAbXrzYQs34IVtwOpHVY5B8kiXpB8EEETBAkwRX98mZfBWzaijNfZnySb0aF\n",
       "7LyZC+CMqHK0HSwNKJNn/FfxbCRhX7VeVsDoferkt8HFD972lqWbLGe22BCWmGE2QpE2YQ53D7Y4\n",
       "0JCPFwDe62ie2HWjPJqb2JaqDb2xgvSTslbmQM3CCb45Mzgr3GHFuzIJhK97nKkpAcMOyu0moK9I\n",
       "1dhkMIBJfW3e1imkKhootarAPBC3RhWWhfvbIW/g1eapkoxFrIz/xQjyfC4YTiznPHIFM4Kopu1D\n",
       "TPNf36kbmszoy37J5r2+ZOLTsv0qkgDL9mghSICTWqvZtsz1XaZakditFTUBcrOVkjKl8aOAyfzd\n",
       "SJUCSNz5127jtJhMC+4fK82vY4mLZClhla4/w7cUjMP83LImF8T9M1fBjdtufXtdddbadhRG4G+6\n",
       "n1wmr3VaeI+DRYKDGq9OHWBkxVe6S4QKpyT67C4jR9rlIWkiXu7IzGS4/9OXYaudSAQyC+2qw2Ma\n",
       "6zZIR/iTlsj9kUBrubbPp4bDxr0xFlW6y18G47RwK1SZe+2tgeeQdF7stEPVxDFNUKyoUMhLWq9v\n",
       "enu0PJtHai5zYx0PHSV4JTET9jgOjnamWZEeQ+5O63Zgvg1BGsn5KZfuU/0zRNsSjHDPL9fpG4Tm\n",
       "kkBEXO2E9Iso4qYZEiRRvrBw/Vao1pMFi7HD7puXsykmrwm+xZqa1Qe6fzR6pGq20qhCfBs83rvN\n",
       "yKoU5seunH5aLMwvEuMCFcyVuXWRO6B8eINWqS5puATOJD4N2tXDNSNyboU9LEF8Jn+dEpyetUq6\n",
       "WTP3z8zjF+3yTT0QJGRRtkGl76tN50c3oXZam1H1SXuxP+KJSM/GBYAulEVlcZXnzhnhZmp9Vtit\n",
       "dDIeL92gTPeFuNEeX2u+PUWCa0Yh1Z7Dt5tn4lPHgharxdqlXnZ1l+Bh3k0mZflvKcWk2+0CUGcR\n",
       "zcIA7/lhyCyOQY5ezAZJ8NGNaSwMdActdDiJ3ITe3yWOIRRsFgXgMtVs41Zfbv39VIdtlyQtYLH3\n",
       "v0tr7JMtwdHv5Aq8zR6D8Se5hEM5dPsR5fkHAk4XFKn/wRvdbbtDstDz9tKU92HwPvbkhKnePuKn\n",
       "qzZhv82IPOZZ/v9Wgog8rUY58oIU6bPX/SFsBsd4uQz1ux5cuhrcxnIKzWy1rPgiKTe/l9wtmOya\n",
       "C3CECK1125szC1nG9FPGDOTMSae2WaxggQM+/PdLrk0AImI/wmRrk6FvsKGWpdqAcYwN7bbgYVtp\n",
       "ceUvtS3y2gE1e4uGwivYak0JrnFH12NwhE+XPAr9E5FjGH4AO//a+PXc0eTBqyQQUSCcvtNKK7TI\n",
       "r8Brc7HgPf6N/po5fSYtuWrib1YTyxQXY/rimyGEHZ68gZPo93q1xytvlSTe/r/dfW6VVL82l4+L\n",
       "8QOMiJiNjSCDtEZnvU7fthwipnQ9pqLUamQoicoxNhTr8LVrszb5o+GuvH7wDawvAQ9Rq0PcS5DU\n",
       "uYIwjzOyVi+dRY7WLwjFOAwS0iCzTuJcQMKqlZxEPxlI/M3b01g5YNtHUg6Z9aBqW6xbk+QE9hhb\n",
       "po/ACmSridFQvmVajhSMaj0UCD3v9fGNi34E5fru6EB3SCQcm7/5G0YMZOvGmPNWmAcxG4+CeC3l\n",
       "FN3/DEa+Xm7wZqOlZkOkzeBubVkNGN71kNH+5uphsfjUk+n+5xSYbq3FQ/moRCX2DI+wVex+wjpE\n",
       "+k6UAuLMymjjh+62yCZTVTJZeV8gqcGQFspa986yJ7yE0O0vKyZfNxItkdNMCODXYfUuo/BL/+UY\n",
       "MmR9C+iSsdlPrE/Klr9tH9c+E7EGAAQITpLBKKtcOCcOIckHkg0NrIB22QYI6XBrZwB4O+S3n/Zy\n",
       "9kt+6KFcBgCFHuoDbbLEEmLnQxgvtaWnEva88QJEPxqthZ9WzhmJDxDH7ty9ABygqtjnmpqKvqCj\n",
       "Ufh+q6+hosg4TkOhwr6iV306LMO1ZO3KfcITnyMgXRI7XLeRS6RiMOPeVQQO7PsrPdz/7JsNlmop\n",
       "hzX7NBCD2PXDRCR8/K4W7suYVPNvGnhwzxQr6aP1JvLHCbU7H4Hc4Rb67ArXqVMm1FRC8xUhXqcH\n",
       "A3ISszVPRBFQDaDtDz5v6D8phzO0Aln8x9SwqkHsqtSBNAFWwGEagLrRHLa851ASwhOGi8jLGSxn\n",
       "lJX1cLti1A6tONizBuvW0q6VA6Ji+CoQMNZepJ87VR6+k7+zPtqdlvnzVbVey+HdwRoyhlPKocZy\n",
       "zsObjA2kVIKswWNzaKUEXXMDHaNbG/Sha8bcr3Hnbykra3q82KuSghrZC/5LrqRc+2C1nwY91Eey\n",
       "oewCFtyi+Ru6d6tpAUizAi0YL7n+4x4PsdvS0NITPKqBd6K0rcipwZsvjArxmIZNdXQZR7dPZ4Gf\n",
       "RQ3eEqRnUaoxTo5GJ1OYLgRMZzEPlMOnNXcuMZgIWOI56LskfyRzxc/rzsJI5RP5wpl+/5Mbf1s7\n",
       "Ey/00ijutpTaTlP6A/OLaejEGBpaBFTwd/+6lS561HE2BOPLAtPPOZvP4ym+ALggXfNmQ1hS3bNd\n",
       "cE9HQ3My4Q5GTeaf6vdCV6ZSm5hwNoSrzfs/vZy5VD1HVBeNU+okLcsEKPzRsmRlUbpN96m90toG\n",
       "IDeOuo6zvCUEKhtoxN/Q0u2rgM9hWRJZcZv2fe1Poyd3Lxx0uFmFQ47M9XdsIjKivn1PO4u8PknE\n",
       "8yittyOpAqOfPCVIAqOTS5XnKWy55oE91ah3mVNMjrqbleIMNxN7Boa9QDEVa5KdWbLgmDLwKkRc\n",
       "tdOyBS4g8LBXXgTL/0cuSijIn0aj1TfqjGkbqJgp6FTd0vvvfKI82gZd3wODexjO1hgOxV8+hP4o\n",
       "2DaqA1YBpuZa1wtVSBxzReqM8uXValbj62eKqIYKUC/IhWLqbS2VLHZvi47HDSToRxF12pB52iB1\n",
       "lq6Mp4NxtZeiKGs+ri0NoOd14lNCKcnibXVQG65dA4AAAAIJQZ9wRRUsN/8AHbJ02ourET0FoMtg\n",
       "jsD+0e7CRw/m+tr4CeT+QB0rkutYjQFJRL1rZlGNeMV0GFf/+20Ti1ZisbCTDYWMANgL2iMfNfft\n",
       "ZHAZqwD8Y5k22jXcl2mT0YFBBPWhNc7u6nXt7kfmsLyrdXaUsQVMFsC3YKnk17UF8j2vIjy31ExO\n",
       "XTyr6AhxE8h2pTp7a7Nhs8WSlmndFBJYdi+7vz9/Tt+kXRrfr0o49BBPuvqm7y0a4gKryiMb5Q6p\n",
       "4cN5kG2ElLG2jvgE+M0yeY9qS65HHxq0ghMpZZP1FrUSW6NWZ5CWqjNyPDb17jBo6SfVxGLNPxon\n",
       "X5m336WCaH7khhEtPie3OS3btwNXCFzQtiNOAp+LQPz82WG8Xqr+krr8VRlFxRe5aFwj809IAnTv\n",
       "45tHkRUsL3euVulvKpBY5romFwAxyovMcXGFyv4nn6gnFB/nQAERGdWaof42RlyyhCmmxIBOS6dG\n",
       "IdytxZQ2wdZnggrJ3nlLvUcwAOA3XdQh3nSzeG5vqQPBsB38uMygoygrVEt95G4gDFDj3f8oz41f\n",
       "6vUB2p4eBBGY3wxAojFS2me59a8E+D31JbglzYqUSbvgzpmlzE3qsu9m/dIsnMZa8z2bwPztd7uu\n",
       "wKHveDtea5XRb8jCOHEjjdMAQBR9dCVda8thi6qmODlECtAaR9bVqEbQLPgAAAI5AZ+RakN/AB5l\n",
       "Ka1bUL2KdKoIXSPm+RZkW4gdhM61PR3rkNqcSBR+x2V+f8QplWqrXIFlVSwCPfiwbMvtn/SfExLM\n",
       "ZqA9ZY/giB4+hgVSJY0ZpgxsOz7f2t7+YjUb8Q1vM2ATAp6IZ2GiYxbWr0wFn/lFhnZ8rm6Xk/IA\n",
       "cVr2V4zAy3oav7l+nhDg23Ae78lfmPQL/Y9QY+MyAwm8ic94ai8LfVQA1flyT3+o0vDL3sFN4XOG\n",
       "t2z9MwCgNevi3/r9A8Q22rTeSXXiA21sncWSLguRjpWoxBmkdjWkHfpIn6qTvWrImEnwPleq3/7z\n",
       "eNtglisH3kfweUEzdxrAcDB5H+hZ+IpgCzMCZhwCbTCmaqPoGQJd82VGwqQWtwU3NyLXAIDq4jBJ\n",
       "xDevARMixo0ieUZ8bpcftdrQ9O2JRgMXWQvGSMtGx4MxU/i43BWEp3MUu4B0EiQBvBHgfliWYHZu\n",
       "zgfWToOHUb5mjZ/o083y4OXEZUVGb/evbtnFLnyonlN+K350R06g5HDx6CcRKf/HWM5kLjTjL1wy\n",
       "MBYv87mmwKAp4EaYeYlQFj19eEMF3Gtbq0CJbFVd3UHZXU/ye/mSASA55R9JdXdMd8iUx0cT7b0g\n",
       "unO8gbRTnIi6cTt3CXT01Tzj60SuyhWCqck60g8/AdmVVYgwy0CA6ibxsAshJuTg5jFRpyJGOw9U\n",
       "8CE7P0HSvEgXsK8czRZ1RRDMF7OzLJbcBqdFsezPOdd2X/EFe8Hy7t4qF6PkiXcAAAgNQZuWSahB\n",
       "bJlMCCH//qpVAAso3OTYXLWeWYlGY62AAZ8cXRTfZKRdaKqjwqyMPXB5603BsvTOYcNc3kaCq8Aw\n",
       "vG1Vu6SfaKnxeyp/+61Y92yfSlTwaW/sSfNOz21WbSe1aeEubb2gNZrVbGdXRJk8nfkTX/p4GXfi\n",
       "NCsH+BKuxCWgw6PcXKBVyVYWg+Vpx6scSt3peHTsmXuXjvXrjw6x7ntRvzHI8kXlOpQhrXdPQCc9\n",
       "2Bbf+OUbzm3sbLL7x0Q61H7xFuSFip8Q30R1j7q8UTI3indr/JGqJaEf+7HnOC0ndHPxDCxwJlAv\n",
       "ESlXEECCPTGvYj/n/QtVS3ngaoDQMnF5DuJf/5uxIvl+ODUhHblPxXZfghitJ5r8pZNx3XmXmid1\n",
       "Vk13gJF5Fpn8/xfqetbP3PXUOY6uw3X3RtGE95HNf0bZ/7+WKqMFTThJxu/+baMUMDIqGM8FBZDd\n",
       "Czg7W/sXggUubTfDuLwX5qlE3cHVMqsvviULfVRAZuToMxnI3nHH4lrKU11MJY6vMyRriVQMSWAL\n",
       "n4QVxZhnhNpCx0C2NWKA4VN4g3w9Xfynu01gI62ODUQ9Fq9Bpd8ABCbCDt2Ckx7NlKnYl8+98OpL\n",
       "y3L1EbZY2YDvZtx1gPb8lMnq9Xm3BFKFljCi4ptGntHr6nChaLB7iBJVAZcDgh8yGQ/ANuXB/GUH\n",
       "dB91oYD/pEuh3Msxtxx+cxd27eOoZRjfczlTW1jaFGBaMV7mBdckcs5Q8gQC865/pc+Y+0Lg7DqB\n",
       "SyawNhg+RYEs/EUBA3Jp6GBLQRQwJHh84EIaazyhJHt0PhAcV1e1ZvhJhguhoWWJs9CC4DNxadp7\n",
       "TJsWwN88oHBkp4E0xcYDQKFiMda3DJ7oBYX9Okvk1NY2D39nIocpJk4DAfZQ356jM6VHc2oLI+X0\n",
       "F+Vc6Mk6WqAH6CoiHvyykFnc8qXgebbhfR97zo31V2SfHIc5L23vWB/d3CNP8WErsXe6AhW2u8r/\n",
       "hH4ozALEMWBIkGJ6zXJD8XrC4YMKlCqd9lxlRlUu/XNqLh13U5QsWONOyQqGSK0KPc+j2mtvn3YB\n",
       "G9ecsE+44qu/F0l2RiTSHQEYuqg1LKlNxGKlILHIhC6VS4jmD8rHbgxuiea5bL9PvMRNjhl2qykW\n",
       "tJjHatT/GSfL0d9jYBDm1xRll25Hmt9LthdyRCGsQ0GhDaoCT20GL6YujQuoSRacGpPQYVCIYX0v\n",
       "7rHB/xWGIxOMI9sTO85EdoSZunvQisunPXdi9XrizqGMstZVgQEHo7OsJucL79mdZeRuHQ9PPa3j\n",
       "3A8XnqAJu/FD6VnPs6mQx7E2skA03idmF0FQ9H5sl7AtQb+FeqUsDqHEc5klqCcZug29AXugOwJP\n",
       "mBkYvSPLlURrbrva4aUm0Ii0YAAIUPPFxESfAPIIjkkP+C7WFXE/UM89sHhp39D4EDMghWYiAAzH\n",
       "56KhCjizbuPGF2lS6HQPf1GIneL5xCkMVggv69tvWti5qhsM4mupDFiRNxX5RMr6TPfveccdu+vn\n",
       "dIazaFf/H/+OQG3ukE4QMrEaRKM73CwfRkSda06kNckWR3dVtIIqA2/al3CzF84uNG5pwTInygD4\n",
       "uOHH5GxVZ73ZTzqoyThXMcaivc958VDsWcWHMTQlEgKNUKyIS1QCXawSci49Qk+Z1MJsU44HFSdT\n",
       "W0wLrp+dH5+Dk3lViX0ZDf6CGNfR/lHanecyKxp9NoQQe963+gudQp+vXKsvlXCF5zsV3OSWuj8v\n",
       "4Ppc+QbFcgV457L9xEcS0DMyMXzZk4lUJZXBcjlETEjggpJSJuHZwFQvE0jYxqWM6Ou/hVcHpo5K\n",
       "0ak6tB2Z/3nBXpOXSZPUGNsC7RcQc9jYDG/auhmX4jWFee0W04WPdh+7zoIoqB1OeKMinc61kPli\n",
       "TpdJy2Tzsx5Za6pCXaihg3rF9Sgcta31V5cLRuDkWCeWFi0OtXfb/QiyvEJ7DuFUgnP9YGnuKwFc\n",
       "XuykGiGx4ubJFBNMEx3ZpiGzPD3QZmQ0opDEXWgwGlDt28yKN5zSiB5HW8KeiQP0KrnESiJm4/nU\n",
       "StVMpOzsKmrCfD1Jtgek1DGrgsYVoiqfjvgNK89q8qLYTWshIzdhGEcpedakfdcP2akvhn2zIWXC\n",
       "GhNw3Q62MY5OHi84k6toSmtwPkUMi//sipxyA7CeihEOUPNF/48UBZE1Bc9gS8yj+mEpf4D6k9AZ\n",
       "ZIvxdxnYwAyL6j1vCmR/h2TGpaKZA2ngs6Y/7LFP6rBWEn9+2PONTRyOziNQ36HxE7ZOkbT3kvp6\n",
       "uaQpTnOsecp3GGpnL7ABtQrzFXvwv28BIKOkwLXje/eQeVC5HK/STRCz9+LBShJpgvWzdzKdfQjd\n",
       "MrwWXxPsLgk5M34AMv9+7iUYGexEbMQWZ/E2wwyX/tFYP90aul7wtHFi6aB65nPyQepTR+Qo6sQP\n",
       "4nk37G+JolqZLykQvKRT6SHbZ65EfuwRe/lN27fF1yPv/4h5CM4WfOAmspvNX+w4D3TVjn+nBxmn\n",
       "7pHZ9omTazmVeMkie0jd+YtewRJFL/3gpZnsrLUHvk7dCLj545dbb6wavK37+gB2NZiYdBT2/XAa\n",
       "YvDZ8dYODumixQA7w3+n42bv3Y4OrvtgGrNfjBPfQujDjTlwEGujOeC996TlEN9KN5oRbz9NNwRv\n",
       "jeaIuN4rA8C89qs7j0O/m3PVh8osPZ51BEHVWBrBhby11rCH/lrJ0yWVi6TAaYlfBqMH4qvSIPfj\n",
       "TbfYAAABmkGftEUVLDv/ABXDFNyvZiix3+U5e27MtTNoec+5BrrfN0VpnTBdnUj4cP8wpe+dDp2F\n",
       "CST+EZRpJm/ZsbNmtO97q2EblvI+SdeKk0AbHFbTYU54BujmAhPksUPDp1kT7UTvOZqUIGm4lfHC\n",
       "BehYRZorl2TuL6iz/iAFeNJEU5f+Mvr8pn9tT2u6Wlf8sb9WaOohBpulLAUpv3zlOZBN0vEXwgsZ\n",
       "gCPJe9fcGspbt7MrYvYHnu8Vpn+3QmgCVEDvBblBDhT+kwngTNsuwhvm+iu8E9ahwmXe7vzfI1H4\n",
       "DjhIHiE8D5cq5VXg9AK/kEloFvwvF0QrPSIC1OKrMUhaLKb1YCEvn/Y5zrKkjDIRrViDBAx5hSTC\n",
       "orTs12ddoFaQZM4gYBU/g1l2Tz+VKT9fixdUI2PmlH8kySz0v18o0FLj+28ycsFqMd9bCjXqA5vc\n",
       "HtAz09mV5u32W9tXqxeig+MO+KYQm3mP6OLBOzMm+W/aHhtTjf00K4j5DZ+Afgi1ZiSSPfeV0ZgB\n",
       "NhfkWDaCqtOLCAfj/HfoZ7g4AAABgQGf03RDfwAeXTaVVivPFgHSJXjOJoBnnQOINpE0pk2nXZ/3\n",
       "yVnbfAAM5sVWVXJeltGVPwxYlK8NtMIcW1V6vOZoyaZBh9baDiJS+GcA9KFrU26NvhLTPhUmqzh7\n",
       "tCBMoX3SERTS6Ec8jBnVvgKJ2lj9eIlOt/XiZjAnkYpz91GzpaN/dZXCONUIDqGO/HUWZOfrnEJJ\n",
       "cQAgYMzXqC6fjhFFXldMvrI8LKffprcZyMAZOg1c7N7B6KdglAbqF+PbY/etUKLes//UJJg0zvHu\n",
       "mNpgfpQEWSf2sL0qGtHkiZzp1ap4/z8D2G3kCSNfl/RS5r3FvgwfmenZDgzR7q7Z2hsUUu0XKEu/\n",
       "AUfobaN//9K9X4yVTFIFcRQgOYJaSazKQ3naQzs8dGTEI1OXeGNYVNsMOtHZEj/J3DK97ye0+5ei\n",
       "25TThCMDFYma3rc67t8mqap5C8T5a6pTGKSJiLOwHoZbCnUe+08KLhy4dYOqYIoWX7XWMRpPl7az\n",
       "r1LS0gRKDTEAAAFtAZ/VakN/ADTiagAH8mpe9qiJ5iNj2yCaPB9JtrBTP3h3D8Olfvod4M4vEORW\n",
       "64mGAizDUSJsqfo4TI0y3+9JcFwjMxhMRtZRhZESiy1k+vUftRg2FWwMJxQRzCR2KgLJ+Pnd86/i\n",
       "juW6KJM2+eolY4IR8ewqegboFq2DuC/EF688aMLKo11AWJQMKq60OjewZk7/FLmPKXNhmz9+1hTt\n",
       "cmdos/uaiPiZjkqf1R4GZ+Zdt9h0EZrgCSLzuuJcXWS9JasWJ0Q2CAO6u7Z0+1NdEVlvrFn0yh3e\n",
       "HP8J6hiizmS4D9cWOripumuj9w+1IbGJnGhffduS3kAZyNrDSgqlgP0bLbCvvc88Rksneh9QfCWj\n",
       "KZSCisx2tdtgAJUbY0Yg+rcU1zu3GTbsAtGE0atRKMkLVTSNDQnU4pAZRpoU+Jth4HfK/Z65wa3o\n",
       "rez5g1wKVsa23F1XfLe0CiXxgS7I20ZV4ApZsnmVJPkmv8AAAAk4QZvaSahBbJlMCHf//qmWABvr\n",
       "ufk19c34Abd8PkDCStBNqNe1krwF5PapqL2GrjmuJYx0sKDbdhiyvfrHnbKBfG2yi6My0LKRBPil\n",
       "iVazDJk1htYidfcmj0+WKYXv9hsZljb7yjUOOlmXZepB/sf+CXkA89kbt2QUP9xOXFtQU3pX/Bxo\n",
       "PigvJ+L1FeBP9Q9eToGf9XiYkKWTKXrDn0V+87LBkFjkYzIf79Ek7slxEhP0V5SaVWq05NoBYp+c\n",
       "cS0hXb7oEmRltJbNi7QkIB8bX8Nhj/469PmI91ZgJU0vszZ3GSBQYb9mVxKZZeK1yPg8SHzFVwyy\n",
       "Rl7dYRBS79nkZjPXOWQR5wah13UY6e3p5NXOiG9rSIFcr/oNvZ/2H6yUg7Jsqfn2tvLGVGF7JOWE\n",
       "+EVPfhFaRfqwb2vu5vqCPzF8AWDspj5pSNfuSSVPp2wZFJhIQpDBVlKzGh1MMeyOIDTBGsbK4GVD\n",
       "8pGFlSo0WQ+FA1gSPf6QF0nr5/xwkd6VMnXAg/k6cI7yOxgJ8m+ZEB9dSbazHgX/Fhb8OPrp+qKk\n",
       "1TqcnQzgVJcg3BcibJN6+hS2Z2riF9JYqpD3FcNCLt12gxHpcF9Np6T9N3LGlW/W3FS+Hmod1rVh\n",
       "TkF7cAFTMNe9k6raaBIsh6Gw2C+l+l2lfYlnh1ro+rstW7XeGVNfJg0+HlmWBjKYHnbhYhSVvDbd\n",
       "teHzuuHg1hdJ1rkzBe1+zKZ4tT1G1ty/0wlyeyWFs2Oo1vU8lwo4QDoMIqD4yJQhVpDJ9g6JF0SK\n",
       "YjIuKmTzMkJT1SB5KcAyRSSPP82JU4KVkIiKcaSGyRbSeXlLWuWJu3Nky1+OPvPYqNvH0/5RYcts\n",
       "KzzYWtlx1DDAz3HWlbAXxBWb4/G6E8RH7FaIHBMiZc9pkUHYH0dCDGbuaQItlP6Z9xOunuwvhHzz\n",
       "0qdNSJo1HJhBqBjWGe+KqxdYes9lxttpVan7wsvWn2RUZOO0jNwSqYA+6XVlPDJrk5VRsom1BKd9\n",
       "6sqryoFbckHqMzfoFFYG4XCs3wC32P4Czb/2Zm+KMv6vdlRM3Or7YDUuBKN8KZQLgjs+YwUPr064\n",
       "mUFZXrHJ9DmOTBu/BwOy6T2epcAexZ29QCpMrklDAF8BInJnHrwqN7Qb7h7c8SJrOpecR8frtqfD\n",
       "I4MBk0oCA/RXCwSSSwRDNZ9vHR6R5WcGanmXjSVipiDIz9SAACJravp2RduvM3hW04K3XgbNLjDS\n",
       "wW0Qk2beMLRFbfPnQs0us5ByRQ2QffB1tixAKhyp1stIg3IIR7+hkBKNhRvRWt1uRgMk1WyB7bec\n",
       "rCPyKBRwnC25oQTgIlP9HU1ru6ZHmBGxJ7AxrsHumeI3YrzOV8NLTlYJvQpEFw0cuTkuVpi/ovqY\n",
       "gnOMFDM0HPExSUiAqIFjylOvYfEzGt1muAJSuvmGeADKJKA1Gh0anyRa5f/89yeznQdVCRH56EkN\n",
       "qQtRf4Yn60GeOVa3KCwXnGmEgs3kNEHPQyEU6N2xJoxoXboknWu/2AoQK8OdDH51GCz1arIEUCND\n",
       "avwQ5HaaZ39M5P8AyrxC9KAATYZgIm6kLnuY+CqF8J4Zwn/ABoYTiAhMELkF3jIgxH4IdmULfo6M\n",
       "pF22kPVB9Uk+lvDL1h7+euh63PW31FMfLc9QycPHH94lb0sLABd8QQ+5VTDNk490m8DfZlJi/WON\n",
       "1PilDRsCakYdidL0+NNPJ5eXDs2LKY8jByqZ9JwqXiCCD2q3w6ZJl/7gzTEOz56YilfAOR4xOehu\n",
       "I7kUFlqsYqv01s+0vIsQBaBxERxLCnLZ2aAms7Z3uPjuRfqS3xgHZDtJehiyjJelMQRiJqLneTFv\n",
       "vB1yeGnJjLke0rK1Q4ktEGHeeoXlOa7Ru3jkCZoc8q3qt6h8241UOhmuPaL1Rt24NT3n7zJ2CKcP\n",
       "0xwAKrX2nnwhJNi5gNoaCgSbJGvkvPI2KBucwA9WQ5aFaEHk4M2O+Z+q7AmOItW9TalEQLNGXVHJ\n",
       "TaxadUA/lJuekcKNoKaGnxqBxekAL/BeQFx0d9WRZ+JpjDysrFmnlObfGGoc/jAhHD3QSW2bLrut\n",
       "roaOtGY0tfcSqyoik8+VMfvDkJpqrtAABTpDU/CM1+K/XzLJQf68SdcOpNOup/MM0NSpjc+dpU3v\n",
       "Llq2zO0SIFDZPPaWWHINs7nq7qpshQtm7UA5e49bSmHLX8mGbPKkGfqwWJhgWuS1QUL1C+oMy9uP\n",
       "0rO/XA4plBa8aPEt7FdMcHKyFD2D/qgdyMQTfYeLpV0Se4OBztPIh7UbXLMvqLn7ehqtHc4zY+vn\n",
       "VEx63uUe3xSA7Jxauxa4f2eXKb2rcRUkkW6KRFrVmxAFDm76CHKBZn0zBMePjWVVKaJ8+CjGAG0L\n",
       "xGhjadA6HE6KaAQkVzJ8qsUTgCwb+Bn4LN7YIl3W7bu9614lAA/r6kPisu+l7/O2/qKT45lLcvOh\n",
       "x9beyBwYedZdpFq8EgfKMPOIZYwM+vrUvV1aSrvPL8PxDcD6QSyCINZb+yeFxRmFSMGeYWkNeOxc\n",
       "KfvvoekG7uV2xb2KsdzbpLO2Ilbqx7MUtcMcAoh/vuKVGFJuJzTAsCUOQL2IwiRf+kXephqDsJSf\n",
       "K9YTitSe+VvEtQBbBn+UcxLMx3GMrdSEcKUW6iyJNwZPVcLlL2DTAh62hreLkpfB3W1ioATyhKJe\n",
       "TUwt7KV9KqUkW2C35GisZP94XjfRHE+rNI1WzrhDD7kgjuQSrBTV/JPAUE4djQQLJotgZRJMAzqM\n",
       "8BqGb/hylBocBi9Gb1sI0TgCAZh6KgSF+93nH9Onj+5SDthuDxdV2lvfwO/LxhbepUppu5suhgus\n",
       "JGuxh1aQZ+Kk6voEsyymN8EWovBlG5e9kvg7wUenByysI8lkKo73+XiQsrWUcO0hhhXZ9fx8BvpQ\n",
       "U8zD+XE8VvT8rZyITyD5KeUATQDZZXGRhtVDFOD2VNnBd1WvQNT3hkv3y5KWlTXfemL8dczXWyrg\n",
       "5odXqTEkcmAyt38u/3RH365GqABfNS25Cdtcgx7l3RGiV5pcQ/P51d125IQtMFvFod4Olfh/pxJ4\n",
       "QiPzRDZRAcB+nUEfE+fcPeLulK+ahxiFui5FJab70bho+YOWPb9V55eiY+ih3PupIW5ZCKR9vKcl\n",
       "csPD/iEAAAGpQZ/4RRUsO/8AH0+FQAWlcT+XTSP1OrVmJzGVczWTs/TnBt5KF0Z3226fHXn2N7cd\n",
       "h07g7kv1esMZeC15qgMRRQYFNePTV/G/W2/M5su6GQoxw9vhBcutV770Pk0x6dL8fxqnYWnyJtcE\n",
       "Rjq+FJ2RsEx1ElXnIVf/MZclsmdOmIuA7EIOTiPGhugaOv7pVgJgUFKx6mrS3Zn3Dyu4jKnTxpSo\n",
       "FO02a9dj4TtN2jaw12SEYUWQnCFB5cCqfDS4JWa9nIIamr2n1iSd6Qbu4QiRFafRfGZ2ORnk8XhJ\n",
       "IQvA855jRAgneQhnZg5pyBx91PZnaerIpWHlR6Hhefn0ljlqMRfLH10qLj8uzWJnt26W/NibEOGR\n",
       "vNbc3UBN3cKoeL6EcwwjNMFbHVZKyTWkQ4ACKHjSjDSX7BrF53Mb7sA0giwTBVvQa56S0t2DEbLW\n",
       "LBny8rhKlF8PhhXfJ2DZzURbfTQ93NyKb2OxU74tOwCnqKzB0MrN0+wTkZ2v23eo4sxLQQ/WZBE1\n",
       "FNvOCd+sg0Y4Bn7LNuk+uE9HEhV2LLDoQUh19DTzc2GQKeEAAAIcAZ4XdEN/AC1xJTT6R7gUMOP4\n",
       "4gYhKA8JECA2z2j0wlZn5FNOe/P41VkmiWNdbGyzs60EOjiEXiCEi2wOk+1//NjICH+dLmQAugmp\n",
       "h1qP/GChfuE/NKm+8sF7Jo8AAfc60bbbllghnRN6RKL2h4NZuby9fyKBvdUec43vfI2SNYOb83IG\n",
       "YOrj/pdU3OEoJvHXtAIJm4vrn14/kDAHy8c0kPkE/8g17MA/qOu1bpCwsV6T02f/L9muQfE33eGa\n",
       "zexbPByVnPt7LkJnS8PyNeL59qYOLDQ+8UX6Yjh6EWlrnyncfqR94RSsrYO9swmN6Qn/l0rCsVJw\n",
       "FYHfuUSl3H8I+1hWCt5GL1v2hDGndQintU9btCwpP7KyJWdcqrH7OfnsdsUl7JyLsthuKb4QWbIx\n",
       "eXteUYJlmLaJ6avj7gZNVy4TeuKvytASOjIluAhgZCHhsO0D+1hC1KNAUW2sdkQtIHIqL5f395AA\n",
       "qwYPBmIcGqZsMTQg8ZTKDY9l2Rw9N09f4PdXy97bUWqMFfvalrFNhwHAlRoKbWH6gMhrvNaK8Txm\n",
       "p+EAXQdHqsuY88n45D6KjvFP7LKg4w2j4L2ySHLbUA2m6kc/EYIxPjYHDDTjBUGHwoIkZsF3VpR6\n",
       "8Z7sPvdTTlnMYZoyL+3VtGO+dyMmDNi2oFsC6nK269ZfOft+RDd37c9a9xDd7ipmQCJv1h8prGog\n",
       "1buq5/+nl0npAAABjgGeGWpDfwAtadIaz70wAhT0M9R+TbojlH69TsHR6VwtEBsN2U4T4VwE0O8p\n",
       "ZOf0m0ybPgh1rKiYC7v6YrBIqPdULzsJIj/J5mmkyFXQKNVOGmBHQpGzsVoV8qW7ooKKFxFWedEd\n",
       "KIsOZCiQqz4R6EooGZH03hrBto4fc6zUYlCuWeLCAAqCWuV9lxmAhduEImSFjy7/mCRtbmOHPLif\n",
       "r55Yj/OU1T1hTR1ZRDH9ADPXGE8OxSHCdbTlf8BQBV/4wgPmbZW0xaQrnj2rsuSU2ECu65iXHT5P\n",
       "UcufR05298yBkZxCC4bFCC5L2brE58ELIgtIbJe9p1cU83Sl3YLr0JKe1PaB7otMbhLbZES6hvPy\n",
       "gkFJwgVVTwcDp6ZOf/zHdKs8cPtn70ESZLcx3g9R2Cz8PXU8YlCY1pttMJb8EDMp1YlNfHsrpsyB\n",
       "BTpACbTpL/BgUe3YjwUYAxium8b7knDsUqrNb2M3gZMyEIrz85solqrpzScFIAa5r0vhWzKXfIA0\n",
       "krSQEdGS0AcJIlD5AAADiEGaG0moQWyZTAhv//6nhAAYfjbkfie1Vn3r4bD8V+puCZIll23CwQ+f\n",
       "zABwu+I9nPdpkGyonTHtnkhWn1nbtXgyobdQEs2kjwuW+/z1VvTGZMrV1g6I8Y3MAJAmD7HStkH8\n",
       "gVB6eNvDwPcB4R9/3FNhikcPSFkBQ5aZ4fJb3Wf/5/bsadOA/udl1oWks/WLAyEfmjEHXNXXaNIJ\n",
       "usRaWPy3mjG0J3c0QOGZiT2RFA34/fu1uiv/mUXbaCPewsRBs58PPfaNmfSVDzxufIawjowrrB60\n",
       "Ktb8z2GXp6/AsMpWDd14a6tFwtvY9PE2qxkkqmCtv8Vg7ylTpznTLGCG4yPvQC4NJa2JQQq9Ta3X\n",
       "t1vv+f5cx7PWUjQjePk82GMfW/s8Y8Zyd4fM5NxjprurmNLyJNcBx45G08m7y4oWWnJQtHtJsqAB\n",
       "4W0Ds7io191Zxf5Lf03PH5SZbBmXS0I+ijyKUh5FULCjf04cKYsWBBAS5IdycdUyAPz5uWoPltWq\n",
       "i8t2T6GBwfFRnfBo3IdbgRmY44xrWr/1UiDAbVh1UuiMDWcYIyF3YZNoGDzvWucd/586WPH9pMc3\n",
       "BGZQRaow3FxLXrpvSPTLZ/G5aHAKg+/7XtBHEqAmKwLCxMXbmbw+h8vwiTqjb8LTsn9Yf80TxyfR\n",
       "cQcXHWysFUVslMFDhzerhZNLR+e07mqjlcXgpBzj2eX2mFtnAudHxyRLwoYHTjmo6Y2c8Po0EReF\n",
       "VnQsDZ5kq0FY6PgLBNlPH9cM4cX2qXb6A3WeunCaKv0eGdK9/dUx18qYGn9dFbqXxp2hpM0N34Vx\n",
       "7YT4kVlA57UQP3DLS0QePW4NjvQcmldMvGBnfy8Y9WMZ/jRruLSaPzs0eOhtRh/kT63fE5sWIddg\n",
       "IkF6fZb8EqFNSZR3cuFASfaYYb7hF5vIFPY2CMc9cy5VxgtTFZWWN2Pgv5u0vdQh+LC80aZoTY8D\n",
       "bam7pz1e4bbvJZCczIjFlhvrKrDpFcwLa7g+XLo+bUMGRuIZ1pLayOuqsNskAkAmPSCq9azrFvEg\n",
       "saprOaV1bqvKkobV/OgmX8rH6JVjyWESWjXhtuf44fNSij4Iecm5j3AqTrDSrIi5obEtLOCEa9RK\n",
       "40rqIb/77bq0PBTcKNctKmbkC20+6vsTMGMdLpOWXVT7bR3cSymu7IBNHLYhnviQBWhJeuwpi9bm\n",
       "9QGZSuxcRMAAAAXpbW9vdgAAAGxtdmhkAAAAAAAAAAAAAAAAAAAD6AAAF3AAAQAAAQAAAAAAAAAA\n",
       "AAAAAAEAAAAAAAAAAAAAAAAAAAABAAAAAAAAAAAAAAAAAABAAAAAAAAAAAAAAAAAAAAAAAAAAAAA\n",
       "AAAAAAAAAAAAAgAABRR0cmFrAAAAXHRraGQAAAADAAAAAAAAAAAAAAABAAAAAAAAF3AAAAAAAAAA\n",
       "AAAAAAAAAAAAAAEAAAAAAAAAAAAAAAAAAAABAAAAAAAAAAAAAAAAAABAAAAAAgAAAAIAAAAAAAAk\n",
       "ZWR0cwAAABxlbHN0AAAAAAAAAAEAABdwAAAIAAABAAAAAASMbWRpYQAAACBtZGhkAAAAAAAAAAAA\n",
       "AAAAAAAoAAAA8ABVxAAAAAAALWhkbHIAAAAAAAAAAHZpZGUAAAAAAAAAAAAAAABWaWRlb0hhbmRs\n",
       "ZXIAAAAEN21pbmYAAAAUdm1oZAAAAAEAAAAAAAAAAAAAACRkaW5mAAAAHGRyZWYAAAAAAAAAAQAA\n",
       "AAx1cmwgAAAAAQAAA/dzdGJsAAAAt3N0c2QAAAAAAAAAAQAAAKdhdmMxAAAAAAAAAAEAAAAAAAAA\n",
       "AAAAAAAAAAAAAgACAABIAAAASAAAAAAAAAABAAAAAAAAAAAAAAAAAAAAAAAAAAAAAAAAAAAAAAAA\n",
       "AAAAGP//AAAANWF2Y0MBZAAW/+EAGGdkABas2UCAEGhAAAADAEAAAAUDxYtlgAEABmjr48siwP34\n",
       "+AAAAAAcdXVpZGtoQPJfJE/FujmlG88DI/MAAAAAAAAAGHN0dHMAAAAAAAAAAQAAADwAAAQAAAAA\n",
       "FHN0c3MAAAAAAAAAAQAAAAEAAAHYY3R0cwAAAAAAAAA5AAAAAQAACAAAAAABAAAUAAAAAAEAAAgA\n",
       "AAAAAQAAAAAAAAABAAAEAAAAAAEAAAwAAAAAAQAABAAAAAABAAAUAAAAAAEAAAgAAAAAAQAAAAAA\n",
       "AAABAAAEAAAAAAEAAAgAAAAAAQAAEAAAAAACAAAEAAAAAAEAAAwAAAAAAQAABAAAAAABAAAUAAAA\n",
       "AAEAAAgAAAAAAQAAAAAAAAABAAAEAAAAAAEAABQAAAAAAQAACAAAAAABAAAAAAAAAAEAAAQAAAAA\n",
       "AQAAFAAAAAABAAAIAAAAAAEAAAAAAAAAAQAABAAAAAABAAAUAAAAAAEAAAgAAAAAAQAAAAAAAAAB\n",
       "AAAEAAAAAAEAABQAAAAAAQAACAAAAAABAAAAAAAAAAEAAAQAAAAAAQAAFAAAAAABAAAIAAAAAAEA\n",
       "AAAAAAAAAQAABAAAAAABAAAQAAAAAAIAAAQAAAAAAQAAFAAAAAABAAAIAAAAAAEAAAAAAAAAAQAA\n",
       "BAAAAAABAAAQAAAAAAIAAAQAAAAAAQAAFAAAAAABAAAIAAAAAAEAAAAAAAAAAQAABAAAAAABAAAU\n",
       "AAAAAAEAAAgAAAAAAQAAAAAAAAABAAAEAAAAAAEAAAgAAAAAHHN0c2MAAAAAAAAAAQAAAAEAAAA8\n",
       "AAAAAQAAAQRzdHN6AAAAAAAAAAAAAAA8AAAZawAACLcAAAPzAAABbwAAATcAAASMAAABfQAACr4A\n",
       "AAFGAAABYAAAAV4AAARfAAAKEgAAAV0AAAF8AAANFgAAAVgAAAmXAAABPgAAAnMAAAHTAAAMOAAA\n",
       "BBUAAAFnAAABTgAAEaUAAAGgAAAB8gAAAUwAABBgAAABVgAAAWYAAAEXAAAWwQAAAUsAAAFBAAAC\n",
       "mAAAEHAAAAFPAAABKgAAATgAAAs1AAABQAAAATIAABQRAAABhwAAAS0AAAEYAAAPTgAAAg0AAAI9\n",
       "AAAIEQAAAZ4AAAGFAAABcQAACTwAAAGtAAACIAAAAZIAAAOMAAAAFHN0Y28AAAAAAAAAAQAAADAA\n",
       "AABhdWR0YQAAAFltZXRhAAAAAAAAACFoZGxyAAAAAAAAAABtZGlyYXBwbAAAAAAAAAAAAAAAACxp\n",
       "bHN0AAAAJKl0b28AAAAcZGF0YQAAAAEAAAAATGF2ZjYwLjMuMTAw\n",
       "\">\n",
       "  Your browser does not support the video tag.\n",
       "</video>"
      ],
      "text/plain": [
       "<IPython.core.display.HTML object>"
      ]
     },
     "metadata": {},
     "output_type": "display_data"
    }
   ],
   "source": [
    "# アニメーションの描画\n",
    "fig, ax = plt.subplots(figsize=(4, 4), dpi=128)\n",
    "ax.set(xticks=[], yticks=[])\n",
    "\n",
    "# 各フレームの描画\n",
    "draw = []\n",
    "for i, f in enumerate(frames):\n",
    "    ims = plt.imshow(f)\n",
    "    draw.append([ims])\n",
    "\n",
    "# アニメーションの作成\n",
    "ani = ArtistAnimation(fig, draw, interval=100, blit=True)\n",
    "html = display.HTML(ani.to_html5_video())\n",
    "display.display(html)\n",
    "\n",
    "# Matplotlibのウィンドウを閉じる\n",
    "plt.close()"
   ]
  },
  {
   "cell_type": "markdown",
   "metadata": {
    "editable": true,
    "slideshow": {
     "slide_type": ""
    },
    "tags": []
   },
   "source": [
    "最終的な状態において、黒番、白番がそれぞれ何個のセルを専有しているかは`count`関数により計算できる。"
   ]
  },
  {
   "cell_type": "code",
   "execution_count": 19,
   "metadata": {
    "editable": true,
    "slideshow": {
     "slide_type": ""
    },
    "tags": []
   },
   "outputs": [
    {
     "name": "stdout",
     "output_type": "stream",
     "text": [
      "#black: 28\n",
      "#white: 36\n"
     ]
    }
   ],
   "source": [
    "print(\"#black:\", env.count(Player.BLACK))\n",
    "print(\"#white:\", env.count(Player.WHITE))"
   ]
  },
  {
   "cell_type": "markdown",
   "metadata": {
    "editable": true,
    "slideshow": {
     "slide_type": ""
    },
    "tags": []
   },
   "source": [
    "最後に、両者ランダムに着手する場合に1000回対戦すると、どの程度の勝敗になるのかを調べてみる。ランダム対戦には少々時間がかかるため、以下のコードでは、`joblib`を用いて、並列実行により同時に複数の対局を行なっている。"
   ]
  },
  {
   "cell_type": "code",
   "execution_count": 20,
   "metadata": {
    "editable": true,
    "slideshow": {
     "slide_type": ""
    },
    "tags": []
   },
   "outputs": [
    {
     "data": {
      "application/vnd.jupyter.widget-view+json": {
       "model_id": "9e5ca5b6134f4539bf0f2b3ac088d582",
       "version_major": 2,
       "version_minor": 0
      },
      "text/plain": [
       "  0%|          | 0/1000 [00:00<?, ?it/s]"
      ]
     },
     "metadata": {},
     "output_type": "display_data"
    }
   ],
   "source": [
    "def match():\n",
    "    # ゲームのリセット\n",
    "    env = othello.make()\n",
    "    env.reset()\n",
    "\n",
    "    # エピソード開始\n",
    "    while not env.is_done():\n",
    "        # 合法手の列挙\n",
    "        moves = env.legal_moves()\n",
    "\n",
    "        # 着手可能な手があればランダムに1つを選ぶ\n",
    "        move = np.random.choice(moves)\n",
    "\n",
    "        # 着手による盤の状態の更新\n",
    "        env.update(move)\n",
    "\n",
    "    n_black = env.count(Player.BLACK)\n",
    "    n_white = env.count(Player.WHITE)\n",
    "    return n_black, n_white\n",
    "\n",
    "\n",
    "b_win = 0\n",
    "w_win = 0\n",
    "draw = 0\n",
    "\n",
    "chunksize = 32\n",
    "pbar = tqdm(total=n_episodes)\n",
    "for i in range(0, n_episodes, chunksize):\n",
    "    chunk = min(n_episodes - i, chunksize)\n",
    "    result = joblib.Parallel(n_jobs=n_jobs)(\n",
    "        (joblib.delayed(match)() for _ in range(chunk)),\n",
    "    )\n",
    "\n",
    "    result = np.array(result, dtype=\"int32\")\n",
    "    b_win += np.sum(result[:, 0] > result[:, 1])\n",
    "    w_win += np.sum(result[:, 0] < result[:, 1])\n",
    "    draw += np.sum(result[:, 0] == result[:, 1])\n",
    "    pbar.set_description(f\"B:{b_win:d}, W:{w_win:d}, D:{draw:d}\")\n",
    "    pbar.update(chunk)\n",
    "\n",
    "pbar.close()"
   ]
  },
  {
   "cell_type": "code",
   "execution_count": 21,
   "metadata": {
    "editable": true,
    "slideshow": {
     "slide_type": ""
    },
    "tags": [
     "remove-input",
     "remove-output"
    ]
   },
   "outputs": [
    {
     "data": {
      "text/plain": [
       "451"
      ]
     },
     "metadata": {
      "scrapbook": {
       "mime_prefix": "",
       "name": "rand_b_win"
      }
     },
     "output_type": "display_data"
    },
    {
     "data": {
      "text/plain": [
       "505"
      ]
     },
     "metadata": {
      "scrapbook": {
       "mime_prefix": "",
       "name": "rand_w_win"
      }
     },
     "output_type": "display_data"
    },
    {
     "data": {
      "text/plain": [
       "44"
      ]
     },
     "metadata": {
      "scrapbook": {
       "mime_prefix": "",
       "name": "rand_draw"
      }
     },
     "output_type": "display_data"
    }
   ],
   "source": [
    "glue(\"rand_b_win\", b_win)\n",
    "glue(\"rand_w_win\", w_win)\n",
    "glue(\"rand_draw\", draw)"
   ]
  },
  {
   "cell_type": "markdown",
   "metadata": {
    "editable": true,
    "slideshow": {
     "slide_type": ""
    },
    "tags": []
   },
   "source": [
    "**対局結果: ランダム vs ランダム**\n",
    "- 黒番勝ち: {glue:}`rand_b_win`\n",
    "- 白番勝ち: {glue:}`rand_w_win`\n",
    "- 引き分け: {glue:}`rand_draw`"
   ]
  },
  {
   "cell_type": "markdown",
   "metadata": {
    "editable": true,
    "slideshow": {
     "slide_type": ""
    },
    "tags": []
   },
   "source": [
    "このようにランダムな着手では当然ながら、勝率はおよそ五分五分になる。ただし、オセロは後手である白番の方が若干有利であると言われており、ランダムに着手した場合には白番の勝率がやや高くなっている。\n",
    "\n",
    "以後は、この着手の方法を改良していき、より高い勝率を目指してみる。以下、利便性のために、ランダムに着手する関数として`move_by_random`を作成しておく。"
   ]
  },
  {
   "cell_type": "code",
   "execution_count": 22,
   "metadata": {
    "editable": true,
    "slideshow": {
     "slide_type": ""
    },
    "tags": []
   },
   "outputs": [],
   "source": [
    "def move_by_random(env):\n",
    "    \"\"\"合法手の中からランダムに手を選ぶ\"\"\"\n",
    "    moves = env.legal_moves()\n",
    "    return np.random.choice(moves)"
   ]
  },
  {
   "cell_type": "markdown",
   "metadata": {
    "editable": true,
    "slideshow": {
     "slide_type": ""
    },
    "tags": []
   },
   "source": [
    ":::{admonition} オセロが解けた？\n",
    ":class: note\n",
    "\n",
    "2023年10月に「Othello is Solved」という衝撃的なタイトルの論文が、プレプリント投稿サイトのarXivに公開された。この論文は、オセロゲームが「弱解決」したことを示している論文で、「弱解決」とは両対局者が常に最善の手を指し続けると、結果がどうなるかが解析できたことを示す。\n",
    "\n",
    "人間の体感としては後手の方が(最後に石をおけるという意味で)若干有利のように感じるが、この論文によれば、オセロは、**両者が最善手を指し続けると引き分けになる**そうだ。興味のある読者は是非、以下の原著を読んでみてほしい。\n",
    "\n",
    "Othello is Solved: <https://arxiv.org/abs/2310.19387>\n",
    ":::"
   ]
  },
  {
   "cell_type": "markdown",
   "metadata": {
    "editable": true,
    "slideshow": {
     "slide_type": ""
    },
    "tags": []
   },
   "source": [
    "## セル評価値を用いた着手"
   ]
  },
  {
   "cell_type": "markdown",
   "metadata": {
    "editable": true,
    "slideshow": {
     "slide_type": ""
    },
    "tags": []
   },
   "source": [
    "人間(の初心者)がオセロを指すときに最初に覚えることと言えば、角が取れるように着手を調整する、ということだろう。\n",
    "\n",
    "角のセルは一度石を置いてしまえば、それ以降、相手に取られることがなく、また縁の領域にある石を一度に多くひっくり返すこともできるため、角に石を置くことができれば有利になることが多い。\n",
    "\n",
    "一方で、角のセルに隣接するセルに石を置くと、相手に角を取られる可能性が出てくるので、角に隣接するセルにはできる限り石を置かない方が良いことが分かる。\n",
    "\n",
    "このような人間の経験則に従って、各セルに石を置くことが、どのくらい得でどのくらい損なのかを表わす評価値を以下のように定義する。"
   ]
  },
  {
   "cell_type": "code",
   "execution_count": 23,
   "metadata": {
    "editable": true,
    "slideshow": {
     "slide_type": ""
    },
    "tags": []
   },
   "outputs": [],
   "source": [
    "scores = np.array(\n",
    "    [\n",
    "        [120, -20, 20, 5, 5, 20, -20, 120],\n",
    "        [-20, -40, -5, -5, -5, -5, -40, -20],\n",
    "        [20, -5, 15, 3, 3, 15, -5, 20],\n",
    "        [5, -5, 3, 0, 0, 3, -5, 5],\n",
    "        [5, -5, 3, 0, 0, 3, -5, 5],\n",
    "        [20, -5, 15, 3, 3, 15, -5, 20],\n",
    "        [-20, -40, -5, -5, -5, -5, -40, -20],\n",
    "        [120, -20, 20, 5, 5, 20, -20, 120],\n",
    "    ],\n",
    "    dtype=\"int32\",\n",
    ")"
   ]
  },
  {
   "cell_type": "code",
   "execution_count": 24,
   "metadata": {
    "editable": true,
    "slideshow": {
     "slide_type": ""
    },
    "tags": [
     "remove-input"
    ]
   },
   "outputs": [
    {
     "data": {
      "application/papermill.record/image/png": "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",
      "application/papermill.record/text/plain": "<Figure size 1280x960 with 1 Axes>"
     },
     "metadata": {
      "scrapbook": {
       "mime_prefix": "application/papermill.record/",
       "name": "cell_scores"
      }
     },
     "output_type": "display_data"
    }
   ],
   "source": [
    "fig, ax = plt.subplots()\n",
    "\n",
    "ax.set_xticks(np.arange(0, 8))\n",
    "ax.set_yticks(np.arange(0, 8))\n",
    "ax.set_xticklabels(np.arange(1, 9))\n",
    "ax.set_yticklabels(np.arange(1, 9))\n",
    "\n",
    "ax.set_xticks(np.arange(1, 9) - 0.5, minor=True)\n",
    "ax.set_yticks(np.arange(1, 9) - 0.5, minor=True)\n",
    "\n",
    "ax.imshow(scores, cmap=\"tab20\", interpolation=None)\n",
    "for (i, j), z in np.ndenumerate(scores):\n",
    "    txt = ax.text(j, i, \"{:d}\".format(z), ha=\"center\", va=\"center\", color=\"k\", fontsize=15)\n",
    "\n",
    "ax.grid(which=\"minor\", color=\"k\", linestyle=\"-\", linewidth=0.5)\n",
    "ax.xaxis.tick_top()\n",
    "\n",
    "glue(\"cell_scores\", fig, display=False)\n",
    "plt.close()"
   ]
  },
  {
   "cell_type": "markdown",
   "metadata": {
    "editable": true,
    "slideshow": {
     "slide_type": ""
    },
    "tags": []
   },
   "source": [
    "```{glue:figure} cell_scores\n",
    ":figwidth: 512px\n",
    ":name: \"オセロ盤のセル評価値\"\n",
    "```"
   ]
  },
  {
   "cell_type": "code",
   "execution_count": 25,
   "metadata": {
    "editable": true,
    "slideshow": {
     "slide_type": ""
    },
    "tags": []
   },
   "outputs": [],
   "source": [
    "def move_by_score(env):\n",
    "    \"\"\"セル評価値を用いた着手\"\"\"\n",
    "    moves = env.legal_moves()\n",
    "    best_move = moves[0]\n",
    "    best_score = -np.inf\n",
    "    for move in moves:\n",
    "        if move.is_pass():\n",
    "            continue\n",
    "\n",
    "        score = scores[move.x, move.y]\n",
    "        if best_score < score:\n",
    "            best_move = move\n",
    "            best_score = score\n",
    "\n",
    "    return best_move"
   ]
  },
  {
   "cell_type": "markdown",
   "metadata": {
    "editable": true,
    "slideshow": {
     "slide_type": ""
    },
    "tags": []
   },
   "source": [
    "このルーチンを用いて、先ほどと同様に{glue:}`n_episodes`回の対戦を行ない、ランダムな着手に比べて、どのくらい勝率が上昇するかを見てみよう。"
   ]
  },
  {
   "cell_type": "code",
   "execution_count": 26,
   "metadata": {
    "editable": true,
    "slideshow": {
     "slide_type": ""
    },
    "tags": []
   },
   "outputs": [
    {
     "data": {
      "application/vnd.jupyter.widget-view+json": {
       "model_id": "d7aa10275cea49c5a890032189e307dd",
       "version_major": 2,
       "version_minor": 0
      },
      "text/plain": [
       "  0%|          | 0/1000 [00:00<?, ?it/s]"
      ]
     },
     "metadata": {},
     "output_type": "display_data"
    }
   ],
   "source": [
    "def match():\n",
    "    # ゲームのリセット\n",
    "    env = othello.make()\n",
    "    env.reset()\n",
    "\n",
    "    # エピソード開始\n",
    "    while not env.is_done():\n",
    "        # 黒番:\n",
    "        if env.player == Player.BLACK:\n",
    "            # セル評価値が最も高い場所に着手する\n",
    "            move = move_by_score(env)\n",
    "        # 白番:\n",
    "        if env.player == Player.WHITE:\n",
    "            # 着手可能な手があればランダムに1つを選ぶ\n",
    "            move = move_by_random(env)\n",
    "\n",
    "        # 着手による盤の状態の更新\n",
    "        env.update(move)\n",
    "\n",
    "    n_black = env.count(Player.BLACK)\n",
    "    n_white = env.count(Player.WHITE)\n",
    "    return n_black, n_white\n",
    "\n",
    "\n",
    "b_win = 0\n",
    "w_win = 0\n",
    "draw = 0\n",
    "\n",
    "chunksize = 32\n",
    "pbar = tqdm(total=n_episodes)\n",
    "for i in range(0, n_episodes, chunksize):\n",
    "    chunk = min(n_episodes - i, chunksize)\n",
    "    result = joblib.Parallel(n_jobs=n_jobs)(\n",
    "        (joblib.delayed(match)() for _ in range(chunk)),\n",
    "    )\n",
    "\n",
    "    result = np.array(result, dtype=\"int32\")\n",
    "    b_win += np.sum(result[:, 0] > result[:, 1])\n",
    "    w_win += np.sum(result[:, 0] < result[:, 1])\n",
    "    draw += np.sum(result[:, 0] == result[:, 1])\n",
    "    pbar.set_description(f\"B:{b_win:d}, W:{w_win:d}, D:{draw:d}\")\n",
    "    pbar.update(chunk)\n",
    "pbar.close()"
   ]
  },
  {
   "cell_type": "code",
   "execution_count": 27,
   "metadata": {
    "editable": true,
    "slideshow": {
     "slide_type": ""
    },
    "tags": [
     "remove-input",
     "remove-output"
    ]
   },
   "outputs": [
    {
     "data": {
      "text/plain": [
       "766"
      ]
     },
     "metadata": {
      "scrapbook": {
       "mime_prefix": "",
       "name": "score_b_win"
      }
     },
     "output_type": "display_data"
    },
    {
     "data": {
      "text/plain": [
       "193"
      ]
     },
     "metadata": {
      "scrapbook": {
       "mime_prefix": "",
       "name": "score_w_win"
      }
     },
     "output_type": "display_data"
    },
    {
     "data": {
      "text/plain": [
       "41"
      ]
     },
     "metadata": {
      "scrapbook": {
       "mime_prefix": "",
       "name": "score_draw"
      }
     },
     "output_type": "display_data"
    }
   ],
   "source": [
    "glue(\"score_b_win\", b_win)\n",
    "glue(\"score_w_win\", w_win)\n",
    "glue(\"score_draw\", draw)"
   ]
  },
  {
   "cell_type": "markdown",
   "metadata": {
    "editable": true,
    "slideshow": {
     "slide_type": ""
    },
    "tags": []
   },
   "source": [
    "**対局結果: セル評価値 vs ランダム**\n",
    "- 黒番勝ち: {glue:}`score_b_win`\n",
    "- 白番勝ち: {glue:}`score_w_win`\n",
    "- 引き分け: {glue:}`score_draw`"
   ]
  },
  {
   "cell_type": "markdown",
   "metadata": {
    "editable": true,
    "slideshow": {
     "slide_type": ""
    },
    "tags": []
   },
   "source": [
    "上記の通り、人間の経験則を導入することでランダムに着手するのと比べて大幅に勝率が上昇していることが分かる。"
   ]
  },
  {
   "cell_type": "markdown",
   "metadata": {
    "editable": true,
    "slideshow": {
     "slide_type": ""
    },
    "tags": []
   },
   "source": [
    "(ssec:minimax)=\n",
    "## ミニマックス探索"
   ]
  },
  {
   "cell_type": "markdown",
   "metadata": {
    "editable": true,
    "slideshow": {
     "slide_type": ""
    },
    "tags": []
   },
   "source": [
    "上記のセル評価値に基づく着手では、今まさに打とうとしている手が、**その時点においてどのくらいの価値を持つのか**だけを考慮していた。\n",
    "\n",
    "しかし、実際には、局面によっては、角に単にセルの評価値が高い石に置くよりも、その後、何手か指した後に、より勝ちの高い手が打てるような手も存在するだろう。\n",
    "\n",
    "実際に人間がオセロをプレイするときも、ある程度は「次に相手が何を」してくるかを考えているはずで、その際、**できるだけ自分に得**で**できるだけ相手に損**な手を指すのが良いと考えるだろう。\n",
    "\n",
    "このような考え方に基づいて、手を先読みして着手を探索する手法に**ミニマックス探索**がある (min-max探索ではないので注意)。"
   ]
  },
  {
   "cell_type": "code",
   "execution_count": 28,
   "metadata": {
    "editable": true,
    "slideshow": {
     "slide_type": ""
    },
    "tags": []
   },
   "outputs": [],
   "source": [
    "def minimax(env, move, depth, max_depth):\n",
    "    env.update(move)\n",
    "\n",
    "    if depth >= max_depth:\n",
    "        score = move.player * np.sum(env.board * scores)\n",
    "    else:\n",
    "        # 相手にとってのベストスコアを計算\n",
    "        best_score = -np.inf\n",
    "        for next_move in env.legal_moves():\n",
    "            score = minimax(env, next_move, depth + 1, max_depth)\n",
    "            if best_score < score:\n",
    "                best_score = score\n",
    "\n",
    "        # 自分にとっては相手のベストスコアは小さい方が良い\n",
    "        score = -best_score\n",
    "\n",
    "    env.undo()\n",
    "    return score"
   ]
  },
  {
   "cell_type": "code",
   "execution_count": 29,
   "metadata": {
    "editable": true,
    "slideshow": {
     "slide_type": ""
    },
    "tags": []
   },
   "outputs": [],
   "source": [
    "def move_by_minimax(env, max_depth=2):\n",
    "    moves = env.legal_moves()\n",
    "\n",
    "    best_move = moves[0]\n",
    "    best_score = -np.inf\n",
    "    for move in moves:\n",
    "        score = minimax(env, move, 0, max_depth)\n",
    "        if best_score < score:\n",
    "            best_move = move\n",
    "            best_score = score\n",
    "\n",
    "    return best_move"
   ]
  },
  {
   "cell_type": "code",
   "execution_count": 30,
   "metadata": {
    "editable": true,
    "slideshow": {
     "slide_type": ""
    },
    "tags": []
   },
   "outputs": [
    {
     "data": {
      "application/vnd.jupyter.widget-view+json": {
       "model_id": "3074a097cf8d44a78a723d0ce36284b0",
       "version_major": 2,
       "version_minor": 0
      },
      "text/plain": [
       "  0%|          | 0/1000 [00:00<?, ?it/s]"
      ]
     },
     "metadata": {},
     "output_type": "display_data"
    }
   ],
   "source": [
    "def match():\n",
    "    # ゲームのリセット\n",
    "    env = othello.make()\n",
    "    env.reset()\n",
    "\n",
    "    # エピソード開始\n",
    "    while not env.is_done():\n",
    "        # 黒番:\n",
    "        if env.player == Player.BLACK:\n",
    "            # セル評価値が最も高い場所に着手する\n",
    "            move = move_by_minimax(env)\n",
    "        # 白番:\n",
    "        if env.player == Player.WHITE:\n",
    "            # 着手可能な手があればランダムに1つを選ぶ\n",
    "            move = move_by_random(env)\n",
    "\n",
    "        # 着手による盤の状態の更新\n",
    "        env.update(move)\n",
    "\n",
    "    n_black = env.count(Player.BLACK)\n",
    "    n_white = env.count(Player.WHITE)\n",
    "    return n_black, n_white\n",
    "\n",
    "\n",
    "b_win = 0\n",
    "w_win = 0\n",
    "draw = 0\n",
    "\n",
    "chunksize = 32\n",
    "pbar = tqdm(total=n_episodes)\n",
    "for i in range(0, n_episodes, chunksize):\n",
    "    chunk = min(n_episodes - i, chunksize)\n",
    "    result = joblib.Parallel(n_jobs=n_jobs)(\n",
    "        (joblib.delayed(match)() for _ in range(chunk)),\n",
    "    )\n",
    "\n",
    "    result = np.array(result, dtype=\"int32\")\n",
    "    b_win += np.sum(result[:, 0] > result[:, 1])\n",
    "    w_win += np.sum(result[:, 0] < result[:, 1])\n",
    "    draw += np.sum(result[:, 0] == result[:, 1])\n",
    "    pbar.set_description(f\"B:{b_win:d}, W:{w_win:d}, D:{draw:d}\")\n",
    "    pbar.update(chunk)\n",
    "\n",
    "pbar.close()"
   ]
  },
  {
   "cell_type": "code",
   "execution_count": 31,
   "metadata": {
    "editable": true,
    "slideshow": {
     "slide_type": ""
    },
    "tags": [
     "remove-input",
     "remove-output"
    ]
   },
   "outputs": [
    {
     "data": {
      "text/plain": [
       "835"
      ]
     },
     "metadata": {
      "scrapbook": {
       "mime_prefix": "",
       "name": "minimax_b_win"
      }
     },
     "output_type": "display_data"
    },
    {
     "data": {
      "text/plain": [
       "128"
      ]
     },
     "metadata": {
      "scrapbook": {
       "mime_prefix": "",
       "name": "minimax_w_win"
      }
     },
     "output_type": "display_data"
    },
    {
     "data": {
      "text/plain": [
       "37"
      ]
     },
     "metadata": {
      "scrapbook": {
       "mime_prefix": "",
       "name": "minimax_draw"
      }
     },
     "output_type": "display_data"
    }
   ],
   "source": [
    "glue(\"minimax_b_win\", b_win)\n",
    "glue(\"minimax_w_win\", w_win)\n",
    "glue(\"minimax_draw\", draw)"
   ]
  },
  {
   "cell_type": "markdown",
   "metadata": {
    "editable": true,
    "slideshow": {
     "slide_type": ""
    },
    "tags": []
   },
   "source": [
    "**対局結果: ミニマックス vs ランダム**\n",
    "- 黒番勝ち: {glue:}`minimax_b_win`\n",
    "- 白番勝ち: {glue:}`minimax_w_win`\n",
    "- 引き分け: {glue:}`minimax_draw`"
   ]
  },
  {
   "cell_type": "markdown",
   "metadata": {
    "editable": true,
    "slideshow": {
     "slide_type": ""
    },
    "tags": []
   },
   "source": [
    "上記の通り、ミニマックス探索で2手先を読むだけで飛躍的に勝率が上昇していることが分かる。\n",
    "\n",
    "ただし、ミニマックス探索は再帰的に手を探索するため、より多くの手を読もうとすると、かなり多くの時間を要する。実際、ミニマックス探索は「本来探索する必要のない手」も探索しているがために、余計に計算を行なっている。"
   ]
  },
  {
   "cell_type": "markdown",
   "metadata": {
    "editable": true,
    "slideshow": {
     "slide_type": ""
    },
    "tags": []
   },
   "source": [
    "ミニマックス探索は、現在の局面から先の手を読むときに、相手も自分自身に取って最善となるように手を検討する。そのため、相手の手の評価値は検討を進めるに従って**相手にとっての価値は上昇していく**一方で、**自分にとっての価値は減少していく**ことが分かる。\n",
    "\n",
    "従って、今得られている価値が最大の手の評価値より、相手の手の探索中に得られる評価値が小さくなった瞬間に、それ以上手を探索する必要がなくなる。このような原理に基づいて探索の枝刈りを行なう手法に**アルファベータ探索**がある。\n",
    "\n",
    "アルファベータ探索は上記の`minimax`関数を少し改良するだけで実装できるので、練習問題として取り組んでみて、探索の効率が上昇することを確認してほしい。"
   ]
  },
  {
   "cell_type": "markdown",
   "metadata": {
    "editable": true,
    "slideshow": {
     "slide_type": ""
    },
    "tags": []
   },
   "source": [
    "(ssec:monte-carlo)=\n",
    "## 原始モンテカルロ探索"
   ]
  },
  {
   "cell_type": "markdown",
   "metadata": {
    "editable": true,
    "slideshow": {
     "slide_type": ""
    },
    "tags": []
   },
   "source": [
    "ここまでに紹介したミニマックス法やアルファベータ法は、現在の状態に対して何らかの評価値が既に与えられている場合には有効であるものの、このような評価値を**どのように決定すれば最適なのか**は実際のところ難しい。\n",
    "\n",
    "特に上記の例では、オセロ盤の状態ではなく、セルに対して評価値を与えているが、実際のオセロにおいて、どのセルに石を置けばより勝ちに近づくかは、そのときに既に置かれている石に依存するだろう。\n",
    "\n",
    "従って、ここまでのセルの評価値に基づく探索には限界があり、**実際に勝てるのかどうか**に基づいた着手を目指す必要があると分かる。しかし、勝ち負けを知るためにはオセロを終局までプレイしなければならない。では、その過程ではどのような手を指せば良いだろうか。"
   ]
  },
  {
   "cell_type": "markdown",
   "metadata": {
    "editable": true,
    "slideshow": {
     "slide_type": ""
    },
    "tags": []
   },
   "source": [
    "**原始モンテカルロ探索**は、モンテカルロ法、すなわちランダムな着手によって、今の**オセロ盤の状態がどの程度、勝ちやすい、負けやすい状態なのかを近似的に推測しながら着手する手法**である。言い換えれば、どのような手が良いのかは一旦おいておいて、**適当に指しても勝ちやすければ、それが勝ちやすい局面**と見なして着手を決定する。\n",
    "\n",
    "今、とあるオセロの局面を考えたとき、着手できる手は通常複数ある。このような複数の手をランダムに指して、どの手がより勝ちに近づくかを推定するのだが、この問題は、まさに**多腕バンディット問題**と同様の問題であることが分かる。多腕バンディット問題においては、どのスロットアームを回すかを最適化していたが、今回はオセロの合法手に対して同様の操作を行なう。"
   ]
  },
  {
   "cell_type": "markdown",
   "metadata": {
    "editable": true,
    "slideshow": {
     "slide_type": ""
    },
    "tags": []
   },
   "source": [
    "まず、とある局面からランダムにプレイを行なって終局まで進める操作を関数として定義しておく。このような操作を**プレアウト**と呼ぶ。"
   ]
  },
  {
   "cell_type": "code",
   "execution_count": 32,
   "metadata": {
    "editable": true,
    "slideshow": {
     "slide_type": ""
    },
    "tags": []
   },
   "outputs": [],
   "source": [
    "def playout(env):\n",
    "    \"\"\"ランダムに着手して終局まで進める\"\"\"\n",
    "    while not env.is_done():\n",
    "        moves = env.legal_moves()\n",
    "        move = random.choice(moves)\n",
    "        env.update(move)"
   ]
  },
  {
   "cell_type": "markdown",
   "metadata": {
    "editable": true,
    "slideshow": {
     "slide_type": ""
    },
    "tags": []
   },
   "source": [
    "この関数を呼び出して、とある局面を終局まで進めたとき、今の手番のプレイヤーが勝ちなら **+1点** の報酬を得ることとする。\n",
    "\n",
    "プレイアウトをするべき手は多腕バンディット問題において、良い性能であったUCB1値を用いて選択する。UCB1値の定義を再掲しておく。"
   ]
  },
  {
   "cell_type": "markdown",
   "metadata": {
    "editable": true,
    "slideshow": {
     "slide_type": ""
    },
    "tags": []
   },
   "source": [
    "$$\n",
    "\\text{UCB1}_i = \\frac{n_{i,{\\rm hit}}}{n_{i,{\\rm play}}} + \\sqrt{\\frac{2 \\log(n_{\\rm total})}{n_{i, {\\rm play}}}}\n",
    "$$"
   ]
  },
  {
   "cell_type": "markdown",
   "metadata": {
    "editable": true,
    "slideshow": {
     "slide_type": ""
    },
    "tags": []
   },
   "source": [
    "この定義は多腕バンディット問題用の表記になっているが、これをオセロの着手に置き換えると、個々の変数は以下のものを指す。\n",
    "\n",
    "- $n_{i, {\\rm hit}}$: $i$番目の候補手を指してプレイアウトしたときの勝利回数\n",
    "- $n_{i, {\\rm play}}$: $i$番目の候補手に対してプレイアウトをした回数\n",
    "- $n_{\\rm total}$: 全ての候補手に対するプレイアウト数の合計\n",
    "\n",
    "以下、UCB1値は定義上、$n_{i, {\\rm play}}$ 即ち、各候補手に対するプレイアウト回数が1回以上ないと計算できないので、UCB1を用いた原始モンテカルロ法においては、\n",
    "\n",
    "1. 各候補手に対して1回ずつプレイアウトを実行\n",
    "1. 以下、UCB1値を計算し、その値が最大の候補手に対してプレイアウトを実行\n",
    "\n",
    "という流れでどの候補手が最も勝ちやすいのかを推測していく。\n",
    "\n",
    "このプレイアウト操作を予め決められた回数 (以下の実装では `n_trials=20` 回) 実行したら、プレイアウトされた回数が最大の手が最適な手であると判断する。プレイアウトされた回数が最大である、ということは、UCB1値を用いた探索において、最も有望な手であるということに留意している。"
   ]
  },
  {
   "cell_type": "code",
   "execution_count": 33,
   "metadata": {
    "editable": true,
    "slideshow": {
     "slide_type": ""
    },
    "tags": []
   },
   "outputs": [],
   "source": [
    "def move_by_monte_carlo(env, n_trials=20):\n",
    "    moves = env.legal_moves()\n",
    "    n_wins = [0] * len(moves)\n",
    "    n_checks = [0] * len(moves)\n",
    "    for t in range(n_trials):\n",
    "        # まだ調べていない手があるときはその手を調べる\n",
    "        move_idx = -1\n",
    "        for i, n in enumerate(n_checks):\n",
    "            if n == 0:\n",
    "                move_idx = i\n",
    "                break\n",
    "\n",
    "        # 全ての合法手を最低1回調べたら、UCB1値に基づいて着手\n",
    "        if move_idx < 0:\n",
    "            ucb1_vals = []\n",
    "            for w, n in zip(n_wins, n_checks):\n",
    "                ucb1 = w / n + np.sqrt(2.0 * np.log(t) / n)\n",
    "                ucb1_vals.append(ucb1)\n",
    "            move_idx = np.argmax(ucb1_vals)\n",
    "\n",
    "        # 手を進めてプレイアウトする\n",
    "        env_cpy = env.copy()\n",
    "        env_cpy.update(moves[move_idx])\n",
    "        playout(env_cpy)\n",
    "\n",
    "        # UCB1値計算用のチェック回数と勝利数を更新\n",
    "        n_checks[move_idx] += 1\n",
    "        if env_cpy.is_win(env.player):\n",
    "            n_wins[move_idx] += 1\n",
    "\n",
    "    # プレイアウト回数が最大の手を返す\n",
    "    return moves[np.argmax(n_checks)]"
   ]
  },
  {
   "cell_type": "code",
   "execution_count": 34,
   "metadata": {
    "editable": true,
    "slideshow": {
     "slide_type": ""
    },
    "tags": [
     "hide-input"
    ]
   },
   "outputs": [
    {
     "data": {
      "application/vnd.jupyter.widget-view+json": {
       "model_id": "af648158aec2431397bbb04de02fefa2",
       "version_major": 2,
       "version_minor": 0
      },
      "text/plain": [
       "  0%|          | 0/1000 [00:00<?, ?it/s]"
      ]
     },
     "metadata": {},
     "output_type": "display_data"
    }
   ],
   "source": [
    "def match():\n",
    "    # ゲームのリセット\n",
    "    env = othello.make()\n",
    "    env.reset()\n",
    "\n",
    "    # エピソード開始\n",
    "    while not env.is_done():\n",
    "        # 黒番: 原始モンテカルロ探索\n",
    "        if env.player == Player.BLACK:\n",
    "            move = move_by_monte_carlo(env, n_trials=20)\n",
    "        # 白番: ランダム\n",
    "        if env.player == Player.WHITE:\n",
    "            move = move_by_random(env)\n",
    "\n",
    "        # 着手による盤の状態の更新\n",
    "        env.update(move)\n",
    "\n",
    "    n_black = env.count(Player.BLACK)\n",
    "    n_white = env.count(Player.WHITE)\n",
    "    return n_black, n_white\n",
    "\n",
    "\n",
    "b_win = 0\n",
    "w_win = 0\n",
    "draw = 0\n",
    "\n",
    "chunksize = 32\n",
    "pbar = tqdm(total=n_episodes)\n",
    "for i in range(0, n_episodes, chunksize):\n",
    "    chunk = min(n_episodes - i, chunksize)\n",
    "    result = joblib.Parallel(n_jobs=n_jobs)(\n",
    "        (joblib.delayed(match)() for _ in range(chunk)),\n",
    "    )\n",
    "\n",
    "    result = np.array(result, dtype=\"int32\")\n",
    "    b_win += np.sum(result[:, 0] > result[:, 1])\n",
    "    w_win += np.sum(result[:, 0] < result[:, 1])\n",
    "    draw += np.sum(result[:, 0] == result[:, 1])\n",
    "    pbar.set_description(f\"B:{b_win:d}, W:{w_win:d}, D:{draw:d}\")\n",
    "    pbar.update(chunk)\n",
    "    \n",
    "pbar.close()"
   ]
  },
  {
   "cell_type": "code",
   "execution_count": 35,
   "metadata": {
    "editable": true,
    "slideshow": {
     "slide_type": ""
    },
    "tags": [
     "remove-output",
     "remove-input"
    ]
   },
   "outputs": [
    {
     "data": {
      "text/plain": [
       "842"
      ]
     },
     "metadata": {
      "scrapbook": {
       "mime_prefix": "",
       "name": "mc_b_win"
      }
     },
     "output_type": "display_data"
    },
    {
     "data": {
      "text/plain": [
       "153"
      ]
     },
     "metadata": {
      "scrapbook": {
       "mime_prefix": "",
       "name": "mc_w_win"
      }
     },
     "output_type": "display_data"
    },
    {
     "data": {
      "text/plain": [
       "5"
      ]
     },
     "metadata": {
      "scrapbook": {
       "mime_prefix": "",
       "name": "mc_draw"
      }
     },
     "output_type": "display_data"
    }
   ],
   "source": [
    "glue(\"mc_b_win\", b_win)\n",
    "glue(\"mc_w_win\", w_win)\n",
    "glue(\"mc_draw\", draw)"
   ]
  },
  {
   "cell_type": "markdown",
   "metadata": {
    "editable": true,
    "slideshow": {
     "slide_type": ""
    },
    "tags": []
   },
   "source": [
    "**対局結果: 原始モンテカルロ vs ランダム**\n",
    "- 黒番勝ち: {glue:}`mc_b_win`\n",
    "- 白番勝ち: {glue:}`mc_w_win`\n",
    "- 引き分け: {glue:}`mc_draw`"
   ]
  },
  {
   "cell_type": "markdown",
   "metadata": {
    "editable": true,
    "slideshow": {
     "slide_type": ""
    },
    "tags": []
   },
   "source": [
    "このように、セル評価値のような人間の前提知識に頼ることなく、原始モンテカルロ法により、高い勝率が得られていることが分かる。\n",
    "\n",
    "しかし、原始モンテカルロ探索をミニマックス探索と対戦させてみると、まだ、その勝率はミニマックス探索に及ばないことが分かる。人間の事前知識は意外にも侮れない。"
   ]
  },
  {
   "cell_type": "code",
   "execution_count": 36,
   "metadata": {
    "editable": true,
    "slideshow": {
     "slide_type": ""
    },
    "tags": [
     "hide-input"
    ]
   },
   "outputs": [
    {
     "data": {
      "application/vnd.jupyter.widget-view+json": {
       "model_id": "18afdb0a3a5846c7ae2863b248efc1e4",
       "version_major": 2,
       "version_minor": 0
      },
      "text/plain": [
       "  0%|          | 0/1000 [00:00<?, ?it/s]"
      ]
     },
     "metadata": {},
     "output_type": "display_data"
    }
   ],
   "source": [
    "def match():\n",
    "    # ゲームのリセット\n",
    "    env = othello.make()\n",
    "    env.reset()\n",
    "\n",
    "    # エピソード開始\n",
    "    while not env.is_done():\n",
    "        # 黒番:\n",
    "        if env.player == Player.BLACK:\n",
    "            # 原始モンテカルロ探索\n",
    "            move = move_by_monte_carlo(env)\n",
    "        # 白番:\n",
    "        if env.player == Player.WHITE:\n",
    "            # ミニマックス探索\n",
    "            move = move_by_minimax(env)\n",
    "\n",
    "        # 着手による盤の状態の更新\n",
    "        env.update(move)\n",
    "\n",
    "    n_black = env.count(Player.BLACK)\n",
    "    n_white = env.count(Player.WHITE)\n",
    "    return n_black, n_white\n",
    "\n",
    "\n",
    "b_win = 0\n",
    "w_win = 0\n",
    "draw = 0\n",
    "\n",
    "chunksize = 32\n",
    "pbar = tqdm(total=n_episodes)\n",
    "for i in range(0, n_episodes, chunksize):\n",
    "    chunk = min(n_episodes - i, chunksize)\n",
    "    result = joblib.Parallel(n_jobs=n_jobs)(\n",
    "        (joblib.delayed(match)() for _ in range(chunk)),\n",
    "    )\n",
    "\n",
    "    result = np.array(result, dtype=\"int32\")\n",
    "    b_win += np.sum(result[:, 0] > result[:, 1])\n",
    "    w_win += np.sum(result[:, 0] < result[:, 1])\n",
    "    draw += np.sum(result[:, 0] == result[:, 1])\n",
    "    pbar.set_description(f\"B:{b_win:d}, W:{w_win:d}, D:{draw:d}\")\n",
    "    pbar.update(chunk)\n",
    "pbar.close()"
   ]
  },
  {
   "cell_type": "code",
   "execution_count": 37,
   "metadata": {
    "editable": true,
    "slideshow": {
     "slide_type": ""
    },
    "tags": [
     "remove-output",
     "remove-input"
    ]
   },
   "outputs": [
    {
     "data": {
      "text/plain": [
       "306"
      ]
     },
     "metadata": {
      "scrapbook": {
       "mime_prefix": "",
       "name": "mc_vs_minimax_b_win"
      }
     },
     "output_type": "display_data"
    },
    {
     "data": {
      "text/plain": [
       "675"
      ]
     },
     "metadata": {
      "scrapbook": {
       "mime_prefix": "",
       "name": "mc_vs_minimax_w_win"
      }
     },
     "output_type": "display_data"
    },
    {
     "data": {
      "text/plain": [
       "19"
      ]
     },
     "metadata": {
      "scrapbook": {
       "mime_prefix": "",
       "name": "mc_vs_minimax_draw"
      }
     },
     "output_type": "display_data"
    }
   ],
   "source": [
    "glue(\"mc_vs_minimax_b_win\", b_win)\n",
    "glue(\"mc_vs_minimax_w_win\", w_win)\n",
    "glue(\"mc_vs_minimax_draw\", draw)"
   ]
  },
  {
   "cell_type": "markdown",
   "metadata": {
    "editable": true,
    "slideshow": {
     "slide_type": ""
    },
    "tags": []
   },
   "source": [
    "**対局結果: 原始モンテカルロ(黒番) vs ミニマックス (白番)**\n",
    "- 黒番勝ち: {glue:}`mc_vs_minimax_b_win`\n",
    "- 白番勝ち: {glue:}`mc_vs_minimax_w_win`\n",
    "- 引き分け: {glue:}`mc_vs_minimax_draw`"
   ]
  },
  {
   "cell_type": "markdown",
   "metadata": {
    "editable": true,
    "slideshow": {
     "slide_type": ""
    },
    "tags": []
   },
   "source": [
    "## モンテカルロ木探索"
   ]
  },
  {
   "cell_type": "markdown",
   "metadata": {
    "editable": true,
    "slideshow": {
     "slide_type": ""
    },
    "tags": []
   },
   "source": [
    "原始モンテカルロの弱点は、**自分の候補手に対してしか有望な手を考えていない**という点にある。原始モンテカルロにおいては、自分が候補手を指したあとは**自分も相手もランダムに着手する**と仮定しているが、実際の対局においては、自分も相手も、より勝ちやすい手を指すのが普通だろう。\n",
    "\n",
    "**モンテカルロ木探索**は、上記の問題を解決するために、自分に対しても相手に対しても原始モンテカルロ同様にUCB1値に基づいて最善手を推定する手法である。\n",
    "\n",
    "ここで「木探索」という用語が出てくるが、モンテカルロ木探索では[ゲーム木](https://ja.wikipedia.org/wiki/%E3%82%B2%E3%83%BC%E3%83%A0%E6%9C%A8)と呼ばれる木構造の中で手を探索する。ゲーム木では「局面を表すノード」が「その局面における候補手を指すことで得られる次局面を表すノード」とツリー状に接続されている。\n",
    "\n",
    "UCB1値を使って候補手の探索を行なう場合、この木構造を特に**UCT** (Upper Confidence Tree)と呼ぶ。"
   ]
  },
  {
   "cell_type": "markdown",
   "metadata": {
    "editable": true,
    "slideshow": {
     "slide_type": ""
    },
    "tags": []
   },
   "source": [
    "以下の`move_by_mcts`関数は、今の局面 `env`に対してUCTの根ノードを作成し、候補手に対応する子ノードを探索するものである。"
   ]
  },
  {
   "cell_type": "code",
   "execution_count": 38,
   "metadata": {
    "editable": true,
    "slideshow": {
     "slide_type": ""
    },
    "tags": []
   },
   "outputs": [],
   "source": [
    "def move_by_mcts(env, n_trials=20):\n",
    "    # ノードと直接の子ノードの作成\n",
    "    root_node = UctNode(env)\n",
    "    root_node.expand_child_nodes()\n",
    "\n",
    "    # 評価を繰り返す\n",
    "    for _ in range(n_trials):\n",
    "        root_node.evaluate()\n",
    "\n",
    "    # 最も評価回数の多いノードを選ぶ\n",
    "    n_list = []\n",
    "    for node in root_node.child_nodes:\n",
    "        n_list.append(node.n_check)\n",
    "\n",
    "    moves = env.legal_moves()\n",
    "    return moves[np.argmax(n_list)]"
   ]
  },
  {
   "cell_type": "markdown",
   "metadata": {
    "editable": true,
    "slideshow": {
     "slide_type": ""
    },
    "tags": []
   },
   "source": [
    "具体的な実装は後述するが、まずはおおまかなモンテカルロ木探索のアルゴリズムの流れについて見ていこう。\n",
    "\n",
    "`move_by_mcts`関数の中では、現在の局面 `env`に対応する `root_node`を作成した後、`expand_child_nodes`を呼び出して、候補手に対するUCTのノードを作成している。\n",
    "\n",
    "その後、`root_node`に対して `evaluate`関数を呼び出し、候補手のUCB1値に基づく探索を実施する。最後に、最も評価された回数が多い候補手を最善手であるとして選択する。\n",
    "\n",
    "以上のように子ノードの展開 (`expand_child_nodes`)と子ノードのUCB1値に基づく探索 (`evaluate`)を除けば、大きなアルゴリズムの流れは原始モンテカルロ探索と共通していることを確認してほしい。"
   ]
  },
  {
   "cell_type": "markdown",
   "metadata": {
    "editable": true,
    "slideshow": {
     "slide_type": ""
    },
    "tags": []
   },
   "source": [
    "では、上記の流れを踏まえて、UCTのノードの実装を見ていこう。以下はやや長いコードになるが、全体の実装を掲載した後で、各メソッドに解説を加えていく。"
   ]
  },
  {
   "cell_type": "code",
   "execution_count": 39,
   "metadata": {
    "editable": true,
    "slideshow": {
     "slide_type": ""
    },
    "tags": []
   },
   "outputs": [],
   "source": [
    "class UctNode(object):\n",
    "    \"\"\"UCB1値を用いた子ノードの探索を行うノード\"\"\"\n",
    "\n",
    "    # 子ノードを展開するまでのチェック回数\n",
    "    N_VALID_CHECKS = 10\n",
    "\n",
    "    def __init__(self, env):\n",
    "        self.player = env.player\n",
    "        self.env = env.copy()\n",
    "        self.n_check = 0\n",
    "        self.value = 0\n",
    "        self.child_nodes = []\n",
    "\n",
    "    def evaluate(self):\n",
    "        \"\"\"現在の盤に対する最善手を探索し、評価値を算出\"\"\"\n",
    "        if self.env.is_done():\n",
    "            # ゲーム終了なら勝敗に応じて報酬を返す\n",
    "            if self.env.is_win(self.player):\n",
    "                value = 1\n",
    "            elif self.env.is_lose(self.player):\n",
    "                value = -1\n",
    "            else:\n",
    "                value = 0\n",
    "\n",
    "            self.value += value\n",
    "            self.n_check += 1\n",
    "            return value\n",
    "\n",
    "        elif len(self.child_nodes) == 0:\n",
    "            # 評価回数が不十分ならプレイアウトをして報酬を計算\n",
    "            value = self.playout()\n",
    "            self.value += value\n",
    "            self.n_check += 1\n",
    "\n",
    "            # チェック回数が十分になったら子ノードを展開する\n",
    "            if self.n_check >= self.N_VALID_CHECKS:\n",
    "                self.expand_child_nodes()\n",
    "\n",
    "            return value\n",
    "\n",
    "        else:\n",
    "            # 子ノードがあればUCB1値に基づいて相手の手を選択・評価\n",
    "            value = -self.choose_next_move().evaluate()\n",
    "            self.value += value\n",
    "            self.n_check += 1\n",
    "\n",
    "            return value\n",
    "\n",
    "    def playout(self):\n",
    "        \"\"\"ランダムにプレイアウトをして評価値を取得\"\"\"\n",
    "\n",
    "        env = self.env.copy()\n",
    "        player = self.player\n",
    "\n",
    "        while not env.is_done():\n",
    "            moves = env.legal_moves()\n",
    "            move = np.random.choice(moves)\n",
    "            env.update(move)\n",
    "\n",
    "        if env.is_win(self.player):\n",
    "            return 1\n",
    "        elif env.is_lose(self.player):\n",
    "            return -1\n",
    "        else:\n",
    "            return 0\n",
    "\n",
    "    def expand_child_nodes(self):\n",
    "        \"\"\"次の候補手に対応する子ノードを作成する\"\"\"\n",
    "        moves = self.env.legal_moves()\n",
    "        for m in moves:\n",
    "            self.env.update(m)\n",
    "            new_node = UctNode(self.env)\n",
    "            self.child_nodes.append(new_node)\n",
    "            self.env.undo()\n",
    "\n",
    "    def choose_next_move(self):\n",
    "        \"\"\"プレイアウトを実施する候補手の選択\"\"\"\n",
    "        # 評価回数が0回のノードがあったら、それを返す\n",
    "        # (そうしないとUCB1値が計算できない)\n",
    "        for node in self.child_nodes:\n",
    "            if node.n_check == 0:\n",
    "                return node\n",
    "\n",
    "        # 子ノードの総評価回数\n",
    "        t = 0\n",
    "        for node in self.child_nodes:\n",
    "            t += node.n_check\n",
    "\n",
    "        # UCB1値の計算\n",
    "        ucb1_values = []\n",
    "        for node in self.child_nodes:\n",
    "            # 子ノードの評価値は相手の手の評価値なので-1を掛けていることに注意\n",
    "            ucb1 = -node.value / node.n_check + np.sqrt(2.0 * np.log(t) / node.n_check)\n",
    "            ucb1_values.append(ucb1)\n",
    "\n",
    "        return self.child_nodes[np.argmax(ucb1_values)]"
   ]
  },
  {
   "cell_type": "markdown",
   "metadata": {
    "editable": true,
    "slideshow": {
     "slide_type": ""
    },
    "tags": []
   },
   "source": [
    "`UctNode`のコンストラクタである `__init__` では、候補手の探索に必要な諸変数を初期化している。この中で、子ノードの配列は`child_nodes`であり、現在のノードの総評価回数が`n_checks`、子ノードの探索に基づく評価値 (本実装では総勝利回数)を`value`に格納している。"
   ]
  },
  {
   "cell_type": "markdown",
   "metadata": {
    "editable": true,
    "slideshow": {
     "slide_type": ""
    },
    "tags": []
   },
   "source": [
    "`evlauate`関数は、子ノードの探索に基づいて、現在のノードの評価値を算出する関数である。この評価値の探索には、以下の3つのパターンが考えられる。\n",
    "\n",
    "1. 盤の状態が終局に達している → 勝ち負けに基づいて評価値を計算\n",
    "2. プレイアウトによる価値評価回数が不十分 → 現局面からプレイアウトして局面を評価\n",
    "3. プレイアウトによる価値評価回数が十分 → 有望な候補手である可能性が高いので、子ノードを更に探索\n",
    "\n",
    "まずは、盤の状態が終局に達している場合で、これ以上プレイアウトが実行できないので、単純に勝ち負けに基づいて評価値を算出する。\n",
    "\n",
    "終局に達していない場合には、手の探索を行って価値評価を行なうことになるが、ここで、ノードの評価回数に基づいて処理を分ける。今、とある盤の評価回数が一定以上である、ということは、**その盤状態に至る着手がそれなりに有望である**ことを意味している。逆に評価回数が一定以下であるときには、**その盤状態に至る着手が有望かどうか判断しかねる**状況であると言える。\n",
    "\n",
    "子ノードを展開すると、評価しなければならないノード数が増加して、その分だけ他のノードの評価回数が減ってしまうので、できる限り有望な手に対してだけ、その後の局面を評価する方が望ましい。従って、上記の`evaluate`関数では、評価回数が一定以上 (`N_VALID_CHECKS=10`以上)の時だけ、子ノードを作成・探索するようにしている。"
   ]
  },
  {
   "cell_type": "markdown",
   "metadata": {
    "editable": true,
    "slideshow": {
     "slide_type": ""
    },
    "tags": []
   },
   "source": [
    "`playout`関数は原始モンテカルロ探索で用いた同名の関数を改良し、直接勝ち負けに基づいた評価値を返すようにしたものである。"
   ]
  },
  {
   "cell_type": "markdown",
   "metadata": {
    "editable": true,
    "slideshow": {
     "slide_type": ""
    },
    "tags": []
   },
   "source": [
    "`expand_child_nodes`関数は、現在の局面における候補手を列挙して、その手に対応するノードを作成する関数である。この際、次の局面を調べるために`env`の`update`と`undo`がペアで呼び出されていることに注意してほしい。"
   ]
  },
  {
   "cell_type": "markdown",
   "metadata": {
    "editable": true,
    "slideshow": {
     "slide_type": ""
    },
    "tags": []
   },
   "source": [
    "`choose_next_move`関数はUCB1値に基づいて、どの子ノードに対して評価を実施するかを決定する関数である。原始モンテカルロの時と同様、UCB1値は全ての子ノードの評価回数が最低1回はないといけないので、まず全子ノードの評価を実行し、以後はUCB1値に基づいて、どの子ノードを調べるかを決定している。"
   ]
  },
  {
   "cell_type": "markdown",
   "metadata": {
    "editable": true,
    "slideshow": {
     "slide_type": ""
    },
    "tags": []
   },
   "source": [
    "以上が、モンテカルロ木探索の全体像であるが、再帰的な探索など、やや高度な内容を含むので、何度もコードと解説を読み直して理解に努めてみてほしい。"
   ]
  },
  {
   "cell_type": "markdown",
   "metadata": {
    "editable": true,
    "slideshow": {
     "slide_type": ""
    },
    "tags": []
   },
   "source": [
    "---"
   ]
  },
  {
   "cell_type": "markdown",
   "metadata": {
    "editable": true,
    "slideshow": {
     "slide_type": ""
    },
    "tags": []
   },
   "source": [
    "では、このモンテカルロ木探索をミニマックス探索と対戦させて、実力を確かめてみよう。"
   ]
  },
  {
   "cell_type": "code",
   "execution_count": 40,
   "metadata": {
    "editable": true,
    "slideshow": {
     "slide_type": ""
    },
    "tags": []
   },
   "outputs": [
    {
     "data": {
      "application/vnd.jupyter.widget-view+json": {
       "model_id": "db1b7746aae84cfe89ff4e49aba2e1fe",
       "version_major": 2,
       "version_minor": 0
      },
      "text/plain": [
       "  0%|          | 0/1000 [00:00<?, ?it/s]"
      ]
     },
     "metadata": {},
     "output_type": "display_data"
    }
   ],
   "source": [
    "def match():\n",
    "    # ゲームのリセット\n",
    "    env = othello.make()\n",
    "    env.reset()\n",
    "\n",
    "    # エピソード開始\n",
    "    while not env.is_done():\n",
    "        # 黒番:\n",
    "        if env.player == Player.BLACK:\n",
    "            # モンテカルロ木探索\n",
    "            move = move_by_mcts(env, n_trials=20)\n",
    "        # 白番:\n",
    "        if env.player == Player.WHITE:\n",
    "            # ミニマックス探索\n",
    "            move = move_by_minimax(env)\n",
    "\n",
    "        # 着手による盤の状態の更新\n",
    "        env.update(move)\n",
    "\n",
    "    n_black = env.count(Player.BLACK)\n",
    "    n_white = env.count(Player.WHITE)\n",
    "    return n_black, n_white\n",
    "\n",
    "\n",
    "b_win = 0\n",
    "w_win = 0\n",
    "draw = 0\n",
    "\n",
    "chunksize = 32\n",
    "pbar = tqdm(total=n_episodes)\n",
    "for i in range(0, n_episodes, chunksize):\n",
    "    chunk = min(n_episodes - i, chunksize)\n",
    "    result = joblib.Parallel(n_jobs=n_jobs)(\n",
    "        (joblib.delayed(match)() for _ in range(chunk)),\n",
    "    )\n",
    "\n",
    "    result = np.array(result, dtype=\"int32\")\n",
    "    b_win += np.sum(result[:, 0] > result[:, 1])\n",
    "    w_win += np.sum(result[:, 0] < result[:, 1])\n",
    "    draw += np.sum(result[:, 0] == result[:, 1])\n",
    "    pbar.set_description(f\"B:{b_win:d}, W:{w_win:d}, D:{draw:d}\")\n",
    "    pbar.update(chunk)\n",
    "\n",
    "pbar.close()"
   ]
  },
  {
   "cell_type": "code",
   "execution_count": 41,
   "metadata": {
    "editable": true,
    "slideshow": {
     "slide_type": ""
    },
    "tags": [
     "remove-input",
     "remove-output"
    ]
   },
   "outputs": [
    {
     "data": {
      "text/plain": [
       "424"
      ]
     },
     "metadata": {
      "scrapbook": {
       "mime_prefix": "",
       "name": "mcts_b_win"
      }
     },
     "output_type": "display_data"
    },
    {
     "data": {
      "text/plain": [
       "506"
      ]
     },
     "metadata": {
      "scrapbook": {
       "mime_prefix": "",
       "name": "mcts_w_win"
      }
     },
     "output_type": "display_data"
    },
    {
     "data": {
      "text/plain": [
       "70"
      ]
     },
     "metadata": {
      "scrapbook": {
       "mime_prefix": "",
       "name": "mcts_draw"
      }
     },
     "output_type": "display_data"
    }
   ],
   "source": [
    "glue(\"mcts_b_win\", b_win)\n",
    "glue(\"mcts_w_win\", w_win)\n",
    "glue(\"mcts_draw\", draw)"
   ]
  },
  {
   "cell_type": "markdown",
   "metadata": {
    "editable": true,
    "slideshow": {
     "slide_type": ""
    },
    "tags": []
   },
   "source": [
    "**対局結果: モンテカルロ木探索 (黒番) vs ミニマックス (白番)**\n",
    "- 黒番勝ち: {glue:}`mcts_b_win`\n",
    "- 白番勝ち: {glue:}`mcts_w_win`\n",
    "- 引き分け: {glue:}`mcts_draw`"
   ]
  },
  {
   "cell_type": "markdown",
   "metadata": {
    "editable": true,
    "slideshow": {
     "slide_type": ""
    },
    "tags": []
   },
   "source": [
    "上記の通り、相手の手や、その後に続く自分の手に対してもUCB1値に基づく有望手の推定を行なうことで、ミニマックス法と同程度の強さを実現することができた。上記の例では、1手の探索に用いる手の評価回数を `n_trials=20` としているが、この数を増やすと、着手に時間はかかるようになるが、より勝ちやすい手を選べるようになる。"
   ]
  },
  {
   "cell_type": "markdown",
   "metadata": {
    "editable": true,
    "slideshow": {
     "slide_type": ""
    },
    "tags": []
   },
   "source": [
    "## 練習問題"
   ]
  },
  {
   "cell_type": "markdown",
   "metadata": {
    "editable": true,
    "slideshow": {
     "slide_type": ""
    },
    "tags": []
   },
   "source": [
    "- 本文中に示した`minimax`関数を改良して、アルファベータ探索を実装せよ。\n",
    "- ミニマックス探索で利用したセル評価値に基づく盤面の評価に加えて、相手の着手できる合法手の数や、それ以後、確実に奪われない確定石の数を考慮した、より高度な評価関数を設計せよ。\n",
    "- 原始モンテカルロ探索やモンテカルロ木探索において、プレイアウトする手の選択方法をUCB1値でない方法 ($\\varepsilon$-greedy 法やソフトマックス探索)に置き換えた時、オセロAIの強さはどの程度変化するか調べよ。"
   ]
  },
  {
   "cell_type": "code",
   "execution_count": null,
   "metadata": {
    "editable": true,
    "slideshow": {
     "slide_type": ""
    },
    "tags": []
   },
   "outputs": [],
   "source": []
  }
 ],
 "metadata": {
  "kernelspec": {
   "display_name": "Python 3 (ipykernel)",
   "language": "python",
   "name": "python3"
  },
  "language_info": {
   "codemirror_mode": {
    "name": "ipython",
    "version": 3
   },
   "file_extension": ".py",
   "mimetype": "text/x-python",
   "name": "python",
   "nbconvert_exporter": "python",
   "pygments_lexer": "ipython3",
   "version": "3.9.17"
  }
 },
 "nbformat": 4,
 "nbformat_minor": 4
}

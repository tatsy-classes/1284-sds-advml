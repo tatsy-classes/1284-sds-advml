{
 "cells": [
  {
   "cell_type": "markdown",
   "metadata": {
    "editable": true,
    "slideshow": {
     "slide_type": ""
    },
    "tags": []
   },
   "source": [
    "(sec:othello-agent)=\n",
    "# オセロAIの作成"
   ]
  },
  {
   "cell_type": "markdown",
   "metadata": {
    "editable": true,
    "slideshow": {
     "slide_type": ""
    },
    "tags": []
   },
   "source": [
    "ここからは、より高度な強化学習の対象としてオセロを取り扱う。ご存じの通り、オセロは(諸説あるものの)日本で発祥した「はさみ碁」の一種で、白と黒のディスクを8×8の盤の上に並べ、同色で挟まれたディスクを裏返すことで、より多くのマスを獲得した方が勝利するというゲームである。"
   ]
  },
  {
   "cell_type": "markdown",
   "metadata": {
    "editable": true,
    "slideshow": {
     "slide_type": ""
    },
    "tags": []
   },
   "source": [
    "```{note}\n",
    "オセロは日本以外ではリバーシのように呼ばれることがある。リバーシは初期状態として、ディスクが置かれていない状態からスタートするが、オセロは盤の中央に白黒2枚ずつのディスクを置いた状態からスタートする、という違いがある。\n",
    "\n",
    "参考: [オセロ（ボードゲーム）- Wikipedia](https://ja.wikipedia.org/wiki/%E3%82%AA%E3%82%BB%E3%83%AD_(%E3%83%9C%E3%83%BC%E3%83%89%E3%82%B2%E3%83%BC%E3%83%A0))\n",
    "```"
   ]
  },
  {
   "cell_type": "markdown",
   "metadata": {
    "editable": true,
    "slideshow": {
     "slide_type": ""
    },
    "tags": []
   },
   "source": [
    "---"
   ]
  },
  {
   "cell_type": "markdown",
   "metadata": {
    "editable": true,
    "slideshow": {
     "slide_type": ""
    },
    "tags": []
   },
   "source": [
    "**Google Colab用の準備**"
   ]
  },
  {
   "cell_type": "code",
   "execution_count": 1,
   "metadata": {
    "editable": true,
    "slideshow": {
     "slide_type": ""
    },
    "tags": [
     "remove-output",
     "hide-input"
    ]
   },
   "outputs": [
    {
     "name": "stdout",
     "output_type": "stream",
     "text": [
      "You are running the code on the local computer.\n"
     ]
    }
   ],
   "source": [
    "IN_COLAB = True\n",
    "try:\n",
    "    import google.colab\n",
    "\n",
    "    print(\"You are running the code in Google Colab.\")\n",
    "except:\n",
    "    IN_COLAB = False\n",
    "    print(\"You are running the code on the local computer.\")\n",
    "\n",
    "if IN_COLAB:\n",
    "    # Gymnasiumのインストール\n",
    "    !pip install myst-nb\n",
    "    !pip install git+https://github.com/tatsy-classes/cothello.git@v1.0.0\n",
    "    pass"
   ]
  },
  {
   "cell_type": "markdown",
   "metadata": {
    "editable": true,
    "slideshow": {
     "slide_type": ""
    },
    "tags": []
   },
   "source": [
    "**下準備のコード**"
   ]
  },
  {
   "cell_type": "code",
   "execution_count": 2,
   "metadata": {
    "editable": true,
    "slideshow": {
     "slide_type": ""
    },
    "tags": [
     "hide-input",
     "remove-output"
    ]
   },
   "outputs": [],
   "source": [
    "import time\n",
    "import random\n",
    "import contextlib\n",
    "import multiprocessing\n",
    "\n",
    "import numpy as np\n",
    "import joblib\n",
    "import matplotlib\n",
    "import IPython.display as display\n",
    "import matplotlib.pyplot as plt\n",
    "from myst_nb import glue\n",
    "from tqdm.notebook import tqdm\n",
    "from matplotlib.animation import ArtistAnimation\n",
    "\n",
    "matplotlib.rcParams[\"figure.dpi\"] = 200\n",
    "\n",
    "# 乱数シードの固定\n",
    "random.seed(12345)\n",
    "np.random.seed(12345)\n",
    "\n",
    "# 実験に用いるエピソード数\n",
    "n_episodes = 1000\n",
    "\n",
    "# 並列化スレッド数\n",
    "n_jobs = min(4, multiprocessing.cpu_count())"
   ]
  },
  {
   "cell_type": "code",
   "execution_count": 3,
   "metadata": {
    "editable": true,
    "slideshow": {
     "slide_type": ""
    },
    "tags": [
     "remove-input",
     "remove-output"
    ]
   },
   "outputs": [
    {
     "data": {
      "text/plain": [
       "1000"
      ]
     },
     "metadata": {
      "scrapbook": {
       "mime_prefix": "",
       "name": "n_episodes"
      }
     },
     "output_type": "display_data"
    }
   ],
   "source": [
    "glue(\"n_episodes\", n_episodes)"
   ]
  },
  {
   "cell_type": "code",
   "execution_count": 4,
   "metadata": {
    "editable": true,
    "slideshow": {
     "slide_type": ""
    },
    "tags": [
     "hide-input"
    ]
   },
   "outputs": [],
   "source": [
    "# joblib用のtqdm\n",
    "@contextlib.contextmanager\n",
    "def tqdm_joblib(total=None, **kwargs):\n",
    "    pbar = tqdm(total=total, miniters=1, smoothing=0, **kwargs)\n",
    "\n",
    "    class TqdmBatchCompletionCallback(joblib.parallel.BatchCompletionCallBack):\n",
    "        def __call__(self, *args, **kwargs):\n",
    "            pbar.update(n=self.batch_size)\n",
    "            return super().__call__(*args, **kwargs)\n",
    "\n",
    "    old_batch_callback = joblib.parallel.BatchCompletionCallBack\n",
    "    joblib.parallel.BatchCompletionCallBack = TqdmBatchCompletionCallback\n",
    "\n",
    "    try:\n",
    "        yield pbar\n",
    "    finally:\n",
    "        joblib.parallel.BatchCompletionCallBack = old_batch_callback\n",
    "        pbar.close()"
   ]
  },
  {
   "cell_type": "markdown",
   "metadata": {
    "editable": true,
    "slideshow": {
     "slide_type": ""
    },
    "tags": []
   },
   "source": [
    "## オセロゲーム環境"
   ]
  },
  {
   "cell_type": "markdown",
   "metadata": {
    "editable": true,
    "slideshow": {
     "slide_type": ""
    },
    "tags": []
   },
   "source": [
    "### オセロモジュールのインストール"
   ]
  },
  {
   "cell_type": "markdown",
   "metadata": {
    "editable": true,
    "slideshow": {
     "slide_type": ""
    },
    "tags": []
   },
   "source": [
    "今回は、講義用に用意したオセロ用のゲーム環境を用いる。ゲーム環境用のモジュールは以下のURLからダウンロードできる。\n",
    "\n",
    "<https://github.com/tatsy-classes/cothello/releases/>\n",
    "\n",
    "このURLにはPython3.9用のインストールパッケージ (Wheel)がOSごとに用意されている。Windows, Linuxの場合はそれぞれ対応するものを、MacOSの場合はM1, M2等のCPUを持つモデルなら`..._arm64.whl`、そうでない場合は`..._x86_64.whl`をダウンロードする。\n",
    "\n",
    "ダウンロード後、Anacondaの仮想環境を`advml`等の本資料用のものに切り替えた後、WindowsならコマンドプロンプトかPowerShell、Macならターミナルを開いて、以下のコマンドでパッケージをインストールする。\n",
    "\n",
    "```shell\n",
    "# \"xxx\"の部分は自分がダウンロードしたWheelのファイル名に読み替えること\n",
    "pip install xxx.whl\n",
    "```"
   ]
  },
  {
   "cell_type": "markdown",
   "metadata": {
    "editable": true,
    "slideshow": {
     "slide_type": ""
    },
    "tags": []
   },
   "source": [
    "### オセロモジュールの概要"
   ]
  },
  {
   "cell_type": "markdown",
   "metadata": {
    "editable": true,
    "slideshow": {
     "slide_type": ""
    },
    "tags": []
   },
   "source": [
    "このモジュールには大きく分けて、3つのクラスが定義されている。\n",
    "\n",
    "**Env**はオセロゲームを取り扱う環境で、有効手の列挙や盤の状態の更新などの関数を提供する。ただし、`Env`クラスは直接インスタンス化する代わりに、`gymnasium`と同様に環境作成用の`make`関数が用意されているので、こちらを用いる。\n",
    "\n",
    "**Move**はオセロゲームにおける「手」を表わすクラスで、現在のプレイヤーとディスクを置く場所を格納している。\n",
    "\n",
    "**Player**は厳密には列挙型として定義されていて、プレイヤーが黒番なのか白番なのかに加えて、次のプレイヤーに手渡しする関数などが提供されている。\n",
    "\n",
    "まずは、これらをモジュールからインポートして、ゲーム環境を作成してみる。"
   ]
  },
  {
   "cell_type": "code",
   "execution_count": 5,
   "metadata": {
    "editable": true,
    "slideshow": {
     "slide_type": ""
    },
    "tags": []
   },
   "outputs": [],
   "source": [
    "# オセロモジュールのインポート\n",
    "import othello\n",
    "from othello import Move, Player"
   ]
  },
  {
   "cell_type": "code",
   "execution_count": 6,
   "metadata": {
    "editable": true,
    "slideshow": {
     "slide_type": ""
    },
    "tags": []
   },
   "outputs": [
    {
     "data": {
      "image/png": "[encoded data removed]",
      "text/plain": [
       "+-+-+-+-+-+-+-+-+\n",
       "| | | | | | | | |\n",
       "+-+-+-+-+-+-+-+-+\n",
       "| | | | | | | | |\n",
       "+-+-+-+-+-+-+-+-+\n",
       "| | | | | | | | |\n",
       "+-+-+-+-+-+-+-+-+\n",
       "| | | | | | | | |\n",
       "+-+-+-+-+-+-+-+-+\n",
       "| | | | | | | | |\n",
       "+-+-+-+-+-+-+-+-+\n",
       "| | | | | | | | |\n",
       "+-+-+-+-+-+-+-+-+\n",
       "| | | | | | | | |\n",
       "+-+-+-+-+-+-+-+-+\n",
       "| | | | | | | | |\n",
       "+-+-+-+-+-+-+-+-+"
      ]
     },
     "execution_count": 6,
     "metadata": {},
     "output_type": "execute_result"
    }
   ],
   "source": [
    "# 環境の作成\n",
    "env = othello.make()\n",
    "env"
   ]
  },
  {
   "cell_type": "markdown",
   "metadata": {
    "editable": true,
    "slideshow": {
     "slide_type": ""
    },
    "tags": []
   },
   "source": [
    "上記のように、オセロ環境は初期状態ではディスクが配置されていない。ここでも`gymnasium`と同様に`reset`関数を呼び出すことで、ゲーム環境が初期化される。\n",
    "\n",
    "なお、オセロのプレイヤーや盤の情報などは全て変数`env`の中に`env.player`ならびに`env.board`として格納されており、`gymnasium`と異なっているので注意すること。"
   ]
  },
  {
   "cell_type": "code",
   "execution_count": 7,
   "metadata": {
    "editable": true,
    "slideshow": {
     "slide_type": ""
    },
    "tags": []
   },
   "outputs": [],
   "source": [
    "env.reset()"
   ]
  },
  {
   "cell_type": "code",
   "execution_count": 8,
   "metadata": {
    "editable": true,
    "slideshow": {
     "slide_type": ""
    },
    "tags": []
   },
   "outputs": [
    {
     "name": "stdout",
     "output_type": "stream",
     "text": [
      "BLACK\n"
     ]
    }
   ],
   "source": [
    "print(env.player)"
   ]
  },
  {
   "cell_type": "code",
   "execution_count": 9,
   "metadata": {
    "editable": true,
    "slideshow": {
     "slide_type": ""
    },
    "tags": []
   },
   "outputs": [
    {
     "name": "stdout",
     "output_type": "stream",
     "text": [
      "[[ 0  0  0  0  0  0  0  0]\n",
      " [ 0  0  0  0  0  0  0  0]\n",
      " [ 0  0  0  0  0  0  0  0]\n",
      " [ 0  0  0  1 -1  0  0  0]\n",
      " [ 0  0  0 -1  1  0  0  0]\n",
      " [ 0  0  0  0  0  0  0  0]\n",
      " [ 0  0  0  0  0  0  0  0]\n",
      " [ 0  0  0  0  0  0  0  0]]\n"
     ]
    }
   ],
   "source": [
    "print(env.board)"
   ]
  },
  {
   "cell_type": "markdown",
   "metadata": {
    "editable": true,
    "slideshow": {
     "slide_type": ""
    },
    "tags": []
   },
   "source": [
    "また、Jupyter Notebook環境においては`env`を表示することで盤面を表わす画像が表示されるようになっている。"
   ]
  },
  {
   "cell_type": "code",
   "execution_count": 10,
   "metadata": {
    "editable": true,
    "slideshow": {
     "slide_type": ""
    },
    "tags": []
   },
   "outputs": [
    {
     "data": {
      "image/png": "[encoded data removed]",
      "text/plain": [
       "+-+-+-+-+-+-+-+-+\n",
       "| | | | | | | | |\n",
       "+-+-+-+-+-+-+-+-+\n",
       "| | | | | | | | |\n",
       "+-+-+-+-+-+-+-+-+\n",
       "| | | | | | | | |\n",
       "+-+-+-+-+-+-+-+-+\n",
       "| | | |o|x| | | |\n",
       "+-+-+-+-+-+-+-+-+\n",
       "| | | |x|o| | | |\n",
       "+-+-+-+-+-+-+-+-+\n",
       "| | | | | | | | |\n",
       "+-+-+-+-+-+-+-+-+\n",
       "| | | | | | | | |\n",
       "+-+-+-+-+-+-+-+-+\n",
       "| | | | | | | | |\n",
       "+-+-+-+-+-+-+-+-+"
      ]
     },
     "execution_count": 10,
     "metadata": {},
     "output_type": "execute_result"
    }
   ],
   "source": [
    "env"
   ]
  },
  {
   "cell_type": "markdown",
   "metadata": {
    "editable": true,
    "slideshow": {
     "slide_type": ""
    },
    "tags": []
   },
   "source": [
    "## ランダムな着手"
   ]
  },
  {
   "cell_type": "markdown",
   "metadata": {
    "editable": true,
    "slideshow": {
     "slide_type": ""
    },
    "tags": []
   },
   "source": [
    "まずは、オセロ環境の仕様を理解するために、白番、黒番ともにランダムに行動させて、どのように状態が変化するかを見てみよう。\n",
    "\n",
    "`env`には、現在の盤の状態で取ることができる「有効手」の配列を取得する`legal_moves`関数が提供されている。"
   ]
  },
  {
   "cell_type": "code",
   "execution_count": 11,
   "metadata": {
    "editable": true,
    "slideshow": {
     "slide_type": ""
    },
    "tags": []
   },
   "outputs": [
    {
     "name": "stdout",
     "output_type": "stream",
     "text": [
      "[('BLACK', 3, 5), ('BLACK', 4, 6), ('BLACK', 5, 3), ('BLACK', 6, 4)]\n"
     ]
    }
   ],
   "source": [
    "moves = env.legal_moves()\n",
    "print(moves)"
   ]
  },
  {
   "cell_type": "markdown",
   "metadata": {
    "editable": true,
    "slideshow": {
     "slide_type": ""
    },
    "tags": []
   },
   "source": [
    "上記の出力から、黒番が3行5列、4行6列、5行3列、6行4列の4箇所のいずれかにディスクを置くことができることが分かる。\n",
    "\n",
    "着手を決定したら、`env.update`関数に手を表す変数を渡すと盤の状態が更新される。"
   ]
  },
  {
   "cell_type": "code",
   "execution_count": 12,
   "metadata": {
    "editable": true,
    "slideshow": {
     "slide_type": ""
    },
    "tags": []
   },
   "outputs": [],
   "source": [
    "env.update(moves[0])"
   ]
  },
  {
   "cell_type": "code",
   "execution_count": 13,
   "metadata": {
    "editable": true,
    "slideshow": {
     "slide_type": ""
    },
    "tags": []
   },
   "outputs": [
    {
     "name": "stdout",
     "output_type": "stream",
     "text": [
      "WHITE\n"
     ]
    }
   ],
   "source": [
    "print(env.player)"
   ]
  },
  {
   "cell_type": "code",
   "execution_count": 14,
   "metadata": {
    "editable": true,
    "slideshow": {
     "slide_type": ""
    },
    "tags": []
   },
   "outputs": [
    {
     "name": "stdout",
     "output_type": "stream",
     "text": [
      "[[ 0  0  0  0  0  0  0  0]\n",
      " [ 0  0  0  0  0  0  0  0]\n",
      " [ 0  0  0  0  1  0  0  0]\n",
      " [ 0  0  0  1  1  0  0  0]\n",
      " [ 0  0  0 -1  1  0  0  0]\n",
      " [ 0  0  0  0  0  0  0  0]\n",
      " [ 0  0  0  0  0  0  0  0]\n",
      " [ 0  0  0  0  0  0  0  0]]\n"
     ]
    }
   ],
   "source": [
    "print(env.board)"
   ]
  },
  {
   "cell_type": "markdown",
   "metadata": {
    "editable": true,
    "slideshow": {
     "slide_type": ""
    },
    "tags": []
   },
   "source": [
    "`env`のJupyter Notebook環境における表示により、黒番が3行5列にディスクを置いたことで、着手したセルがハイライトされて、かつ、盤の状態が正しく更新されていることが確認できる。"
   ]
  },
  {
   "cell_type": "code",
   "execution_count": 15,
   "metadata": {
    "editable": true,
    "slideshow": {
     "slide_type": ""
    },
    "tags": []
   },
   "outputs": [
    {
     "data": {
      "image/png": "[encoded data removed]",
      "text/plain": [
       "+-+-+-+-+-+-+-+-+\n",
       "| | | | | | | | |\n",
       "+-+-+-+-+-+-+-+-+\n",
       "| | | | | | | | |\n",
       "+-+-+-+-+-+-+-+-+\n",
       "| | | | |o| | | |\n",
       "+-+-+-+-+-+-+-+-+\n",
       "| | | |o|o| | | |\n",
       "+-+-+-+-+-+-+-+-+\n",
       "| | | |x|o| | | |\n",
       "+-+-+-+-+-+-+-+-+\n",
       "| | | | | | | | |\n",
       "+-+-+-+-+-+-+-+-+\n",
       "| | | | | | | | |\n",
       "+-+-+-+-+-+-+-+-+\n",
       "| | | | | | | | |\n",
       "+-+-+-+-+-+-+-+-+"
      ]
     },
     "execution_count": 15,
     "metadata": {},
     "output_type": "execute_result"
    }
   ],
   "source": [
    "env"
   ]
  },
  {
   "cell_type": "markdown",
   "metadata": {
    "editable": true,
    "slideshow": {
     "slide_type": ""
    },
    "tags": []
   },
   "source": [
    "オセロはルール上、着手可能な手がない、すなわちどこにディスクを置いても裏返せる相手方のディスクが存在しない時にはパスをすることになる。\n",
    "\n",
    "有効手が存在しない時には`legal_moves`が長さが1でパスを表す手を含む配列を返してくる。その手 (`Move`)がパスの手かどうかは`move.is_pass()`で判定できる。"
   ]
  },
  {
   "cell_type": "markdown",
   "metadata": {
    "editable": true,
    "slideshow": {
     "slide_type": ""
    },
    "tags": []
   },
   "source": [
    "これらを踏まえて、黒番、白番ともにランダムに着手させて、盤の状態変化を確認する。"
   ]
  },
  {
   "cell_type": "code",
   "execution_count": 16,
   "metadata": {
    "editable": true,
    "slideshow": {
     "slide_type": ""
    },
    "tags": []
   },
   "outputs": [],
   "source": [
    "# ゲームのリセット\n",
    "env.reset()\n",
    "frames = []\n",
    "\n",
    "# エピソード開始\n",
    "while not env.is_done():\n",
    "    # 現在の状態画像を保存\n",
    "    img = env.render()\n",
    "    frames.append(img)\n",
    "\n",
    "    # 有効手の列挙\n",
    "    moves = env.legal_moves()\n",
    "\n",
    "    # 着手可能な手があればランダムに1つを選ぶ\n",
    "    move = np.random.choice(moves)\n",
    "\n",
    "    # 着手による盤の状態の更新\n",
    "    env.update(move)"
   ]
  },
  {
   "cell_type": "code",
   "execution_count": 17,
   "metadata": {
    "editable": true,
    "slideshow": {
     "slide_type": ""
    },
    "tags": [
     "hide-input"
    ]
   },
   "outputs": [
    {
     "data": {
      "text/html": [
       "<video width=\"512\" height=\"512\" controls autoplay loop>\n",
       "  <source type=\"video/mp4\" src=\"data:video/mp4;base64,AAAAHGZ0eXBNNFYgAAACAGlzb21pc28yYXZjMQAAAAhmcmVlAAEqg21kYXQAAAKhBgX//53cRem9\n",
       "5tlIt5Ys2CDZI+7veDI2NCAtIGNvcmUgMTYwIC0gSC4yNjQvTVBFRy00IEFWQyBjb2RlYyAtIENv\n",
       "cHlsZWZ0IDIwMDMtMjAyMCAtIGh0dHA6Ly93d3cudmlkZW9sYW4ub3JnL3gyNjQuaHRtbCAtIG9w\n",
       "dGlvbnM6IGNhYmFjPTEgcmVmPTMgZGVibG9jaz0xOjA6MCBhbmFseXNlPTB4MzoweDExMyBtZT1o\n",
       "ZXggc3VibWU9NyBwc3k9MSBwc3lfcmQ9MS4wMDowLjAwIG1peGVkX3JlZj0xIG1lX3JhbmdlPTE2\n",
       "IGNocm9tYV9tZT0xIHRyZWxsaXM9MSA4eDhkY3Q9MSBjcW09MCBkZWFkem9uZT0yMSwxMSBmYXN0\n",
       "X3Bza2lwPTEgY2hyb21hX3FwX29mZnNldD0tMiB0aHJlYWRzPTE2IGxvb2thaGVhZF90aHJlYWRz\n",
       "PTIgc2xpY2VkX3RocmVhZHM9MCBucj0wIGRlY2ltYXRlPTEgaW50ZXJsYWNlZD0wIGJsdXJheV9j\n",
       "b21wYXQ9MCBjb25zdHJhaW5lZF9pbnRyYT0wIGJmcmFtZXM9MyBiX3B5cmFtaWQ9MiBiX2FkYXB0\n",
       "PTEgYl9iaWFzPTAgZGlyZWN0PTEgd2VpZ2h0Yj0xIG9wZW5fZ29wPTAgd2VpZ2h0cD0yIGtleWlu\n",
       "dD0yNTAga2V5aW50X21pbj0xMCBzY2VuZWN1dD00MCBpbnRyYV9yZWZyZXNoPTAgcmNfbG9va2Fo\n",
       "ZWFkPTQwIHJjPWNyZiBtYnRyZWU9MSBjcmY9MjMuMCBxY29tcD0wLjYwIHFwbWluPTAgcXBtYXg9\n",
       "NjkgcXBzdGVwPTQgaXBfcmF0aW89MS40MCBhcT0xOjEuMDAAgAAAF1dliIQAEf/+94gfMstp+TrX\n",
       "chHnrS6tH1DuRnFepL3+IAAAAwAABHUc0eeasjtsuwAABZwBJW8GIf/cHiaAROmryIdIDsTsv5jz\n",
       "2T+cgXYTHOId1mhdW0r6pZ1WIsjDdHB80C08gJDzyj/yntq4oMVTnhpWhvjSe71TJO2Jxb6N7dNp\n",
       "e1iDqGYdz63DD54gKxP8axrAyKdrxMMVrE+/eTUf6B1VJrpRDvARcQ/OLL/tpTOmP2uDLV63CkIA\n",
       "OKhBRCbNqwQ6/ekHXAAwYRMZHkAIzbiEoWVlfVRp86QO1LfHWfNK5u6f4/f/EfJ56+UVY4cuXSSd\n",
       "zlj3ts1oh/3tkKjv6KTEqzuZ7fVA8NjX/LLwl0yEvz2ORq2Wt2f0Gz2DO5Pc1hgIiPaaOjmygfyR\n",
       "37/F0D/W0B8rFd3kx2YQYkVTpJmk0cHj7CRNphkGe4PJjR8/lW/5Di4WBVLmBM2l37ivWe1QjDdF\n",
       "5YnGHXuPAJgqgwZCaulghZ2+ftiWin0YtXfcIYWQGzoTCmPQRw3tapHegHJIm58GFKLCJSEiGHov\n",
       "C/mMhoDMMGfb3nY2uGMAftqJBOfNcqpmkhJq3lyJiT53b9wt9IymVT85l+KQfTyZDIxyQaIlQftA\n",
       "yIZOuQLX+06otE2XqTnqf2IqdykWvidfnLmCJ0IP3M66AJBAk4fsjB3YcLkoZBQw7tj8J4D5i8dB\n",
       "mmheOMfPL5dUoQVAzDwbgbgsKIfecjUeKgent32OXKxPw/PsYFgDeJ0J9iVGW7ieC68lY0MFX5wn\n",
       "9VUG8X36f3DKMnGuF+j3nU4bw5xlC9ZdL9Oept/TeLMprEQevNkItbMSGSwbkvll8Y4vNjllbC37\n",
       "Rt+qdRbzNV5pTxfS+0wmzGdcsnzs2eViMgMp3fu02ln1QOEASKPb6IWrYRXjMqXjdMWQJsna9ie2\n",
       "3Hfm9nHLvwUnJx5aOUb35Djpqm1KBbz0wwmQ/z1nCEuLhhdRs1Q8ncVBh/fcwPbb9DzlsKPg6tEL\n",
       "nXxvZK7+gfDH18TkO+vkduLSxfaqE/j/g1N2YDy1mSMK5JaqdJJ4rd5YFVOo8CEcTcJlmxBRLEM/\n",
       "THey5CyDqRLx22F4NUkB0c8R0UJ9TqIHWQFuZ/Pft2aTW+2qpZLAmsujIQI80VuB+5H///+Df/80\n",
       "cRUtbB1UCogwpgMUA3h43KS8GMEOCaLBPpohqWeOg9NA5c+KrgmuA02Qou0/666TFJ3/TlrQDacf\n",
       "EF93ETwuZXJO2MBChaFnIRKAFLm04dDFgGu7PiHcwF+/dD1bko0mhF7ak6guyeE27TBgAAD2Vh05\n",
       "1clRIFGN3mrU5GKul+2iTt6yFJbeybOQCzgfwtS+zsANLtIAvlJ4/h4vMlE53udYgLZ2GFAOAh1L\n",
       "N+rz5Z6MmWy8IXYiOJUgZTsKrr8O45LzFGNhm5Yt6nY//uQ5aPc8XH4H09r/phRawkEWnc6/AAhM\n",
       "GiEBPdBwLm43Jak9zLI3yIbMRu0OBrpRO0MToto2WyzA+d/+3M08E5mK3XVkGsYKy9Nbj9DtbBLo\n",
       "alnSXrCOEZbEwpb07MD7CvZoyUNlF4NBTBOKql0jg79BWQKBDVJWhfJ/besTlZvaM7dUU2SubFrn\n",
       "cQTYiUMa/2IQKNQvFuy5Sq9Mp1Dn3QuAjfYmCAfpdhIzKJsURz3uHunl7m5/LxpKhjCbTwo+da3h\n",
       "hSouy/95Eo0wjUa5Pj1nkpAPT/jM7BKGiz8zbIw+eh9DitQlvuHYXk+yw0xcQ7yaE80+1RE06CYx\n",
       "Ftaur8/83e8KtTi6bk9Fu/Xf44eY2F1EfXnyivrnNPeF+sLKE6JbAnEYj7RNJARucYA6dXS6nepj\n",
       "csz7NnOWdj6Hw3kVPpOXgnUwTJUrFhJFdVfppdtl1EnOtbEnygmwqmDypAFQziNUvrLH9xanQAHd\n",
       "Rl9XFmAcUs4MphHyUxDrGLS3jbsXvsYJkNajqZN+JVFtaXIbiqOBsYmMJZtcPOR4dR1tb86TuQA7\n",
       "rQmoma6fW+fMq4ASsVo6OYeIoq8E7iw4a0Syr6LGtbT4DIIiTT941V+iRTF0+oQK5PLmwda/F0aT\n",
       "4aS65BHgUY0/7cAifhnf36nzfKreegNnTROLYyWK2O7zmj75JjKhGkWS+yYkgov8tSSA2PkyKOyW\n",
       "n0GqE4lhx9Rtc7Qtw/1AUgrAohmCQx6SEk+AqnEQ2FrH27srSRCBlrO2RNM8kDLaGM6mJhOeXiP/\n",
       "sPN0zajF/rqH8/wXCwZp6NNI/aOiyohsTIgTb2HFWagj9AltGldLyZhS5rtaPvG1ZYhvJPuM7Ujo\n",
       "HdQqybc1aX4hPa1fAx1/+O5iCYRsuJ3VMLJRnH/8vId2t1iKO17RKRMKlJzgwlwEFfF+44q/GvtT\n",
       "fDqQP5BoFwzn/nDRNRKNUzKw+3aAwCx1YweZ4rpW9XjWQQBvdVP6AgvgAqTxs662gB68jqBZ0Kl0\n",
       "kyVAciNYFTa12PDI+m4vm3rnrBmx3HBbxosIMiPyqCjAvh0q5caNPiKzk31gWBkPVTFUkNwQnoxV\n",
       "HP6mVC9tMixTCXyd8AF4aoCQu0OyHzJXpAEtlTV1V+wC/b531oRWl1qxnTK/CmREOCLdi5JLmtoH\n",
       "YlX/q8RjQYYSOMV++chVEo6G/IhP0EOx0hzWNOT7wijItTMMqEM/Ly/+idE/2R4UqaOzqh3fkHdS\n",
       "hEt7xERdpSyJg/lrnWtvOlH8c3hcVcMYzWamTVICfwuFuWISspM+Iln6304h+fm3cxXG2PPG5H+O\n",
       "mSKr95zGwa3Fhn/acprBb2Y9L+XBxWcgr0OICvCxifVzNt3xUkhoS0ZfcszmbukZVUkxJPsYeju/\n",
       "UAINCAWxNxw0PFd1b7FeiJNdX2kr31dX5f/+Tt8/q0DFd5Ranjnsc8Dlf5TIsmY51U1mNSpEIy4W\n",
       "x5DAAhhT3kdMoXO4r31wJf5Qs6Iu9UygoV+HmbyCwTFlG9604vc5lO/6onNz9hmn9yR8vwCZwiE6\n",
       "+T2fQWjzbzjgywyz7+dSrbbju1XF0Rkn1SGhrUnBhQ9Rswx1ysZNtSwhpEpxwRCDgoChyFK96JJd\n",
       "jvXBGn+C6LK8P7L2c2AxDoEnPIV6fgZq8/1oSIAeJrTh5g2JZTlDG+yru5nNXE/SjFctb+42I7x7\n",
       "o12W+i49x/AFo2Fotm1IMcsBGxPPUIyY2yQoPBoh4eXwGqkEHrNZ5MHe9xwoVEA9ogN9iFEhzdD1\n",
       "3MToQtSzxAs44/57iWz1qP2f0ZxOJOyvhAGuZdmu8JQoBjobluUbW+TResP6TI9CJo9CqgAT/9N4\n",
       "H96oukYzxUgsZ0Cg4e5uhcTHiopfx+vo7LCtLf8ziDxn2OwlyqTG8VzqPsQ3PbE2GY4e0UOa686d\n",
       "miMYaJNKlxIj99TL0xHOeaSI4nB7zg1EDmKwWeeccThC46+IQzMqmLe3DRD0YslczsJdamTz5Une\n",
       "zAVWq0wl+kguorICP80l1419C6iD1goNp9ePibMxJHDwNpUiAon6xVUzncVLO4Q+nqhNcwGe3nSn\n",
       "QTt/2PJyqcQoeeel7oJ5IfxoOEhrDHwwR8owL2AO7uqDZ1x4ZlxeHtOEqWFtqis8vdOn/Jwcp49+\n",
       "8MzT4yDR+DthZsm7+YA8I8B6aoDwbsIOsZ37rjBR82ZXcQk0X47lhaPfrlR2wxQsN3xc9W6Tv9ph\n",
       "iS+YzwyLspYXkTMQmQ85FcJRCE/upDvuZiyST61TCxOslnCLAZzFJsNHuY4wh4v/pf9535EfKnAT\n",
       "TQMFXFu4iXunSklxiPyV+fwS6DwvNll089nV356l9bmujAIiM38b0nwA0miMxSTh66x0jygE7nH1\n",
       "ycJto+I21TF2ZWBxSj30aV+bwW1x/qne6irqIbqhhgQRypLp7r0QARLlTHLYsm1O76JAaiiePFgZ\n",
       "lttoi5GTW0R+eerP0IG2A7VaL/oVBp3CWXohRSgTndFdwIdfkZe7M4yyCsJ/7Slm75FZSYqDi52j\n",
       "RaGiQPUEQHnoajQwMrpidxBjy/o8erosW3dpOPBTNrZ9P+0IY35vpxBzX7RkC8sUV5IVnAxg4w8L\n",
       "OMh6lv2dac5KejxCjJVU59gjv4WLOG1hLkinJmB71u1kpyRYUOYaKLJHsHsYyh64ER9DQrUpSF9Z\n",
       "jGpWMgSqcSSgg+MdYwihXS0VExDjygHDBBicNWqijSnkYmRVhbdp1JVj9fFGmZAawWXE7SxY+iuE\n",
       "rcc7u1ZU/lVadz/4u+CzADpcOvnywRSn6sOADgxYODIoca7Ad36AIGEOEYNjPZglQDwkzUrIe+eK\n",
       "KdUxWrJcQ3LqijCGdK9Xzsrn46SkA2I892q/oJ92CHI99wZFvSSLuo2hvjEcxFLd3A4wwcuDFROc\n",
       "kfxdLjzpGA/kY8OQiY9Jdft/6aJKpxnK0Pr4bDUMQmAxEXvCd97t1H/67s1eS4pIqS/42IQLeZ9g\n",
       "MTgjDZtuaVqeYhGoSRtLRj9mhH8wdpfYEBWblk4w+SHziSHTkjVCE/L9+8NmBWHwxqcCaXgS6IDo\n",
       "PugfkPN92u+3pUkGDYYzq38RadoOmLYF1kEYT3oBs/szWHqmovCv8l78lAiFZwlsfS+sL5lT3MI1\n",
       "KmvFHKprPMGiClsrPGsuJQF7dyfYjTM7T/LgH82wATUB2eskrXCeYz8+4xjZCQDE9bYImCM2P57P\n",
       "hJtEOCiL6/xhI3u6rwrRroRDuHUBVBTwvuls7OE3p1/8/kpr8Vb+3cFDwmkxFgwYml/UZnj2ifCV\n",
       "NwZ/4frwHxJ7kPqP6SiVVtVuSgGJI3yzfeka9DBBSlaceSO3Nuz0B0bHe6J2KRinXfBLFZ3mifOn\n",
       "KtToB/RlzAFGnfY2pAqe+bDf3i2c7sliFn5pXqQLOE6YLDrDt+RGJs0fugjfpTXYdoznSjg67RIn\n",
       "jQsU7V6DEmXAn6NtkAsh5eS0yeOTzchAGvtGCuoOsF7HDRFsm/69M2T1n+QhYa/SOu28h1cSP/Ob\n",
       "FuSaI4ZCWztjFLEyAj86uN28uH7MsdE3lX2RmHZmpD+7PjYBLHD2m8moPBJ0/DU9I69oicRbC8YH\n",
       "AbysqHBQ+MOOFsfNikRraW4sLBE7c5nxnJ0mbK5B+w1KmKhiljN5CxmOY6Xuqq1JR2O62nSyknng\n",
       "MJB7BYAgBnNAlF/jCK/7gHhJZ3nF1vMzhhitV2+MxzNg/G6ZHZU/42UlBU8kv7oHy8Qm7tBVO3b9\n",
       "vC3SsO/lza9OFJKluF1/heA/cwHoNLN0puolmTj2DhBDmKXzMond+j/xJAs80+rjjm8SO7cmO5Cs\n",
       "ocFS5VG9w4nBLahW/s/KJf779SopQoRnKGauc0kAQ0VM+8vXle1ecr0oRq7ZQZLRrO1dUqYCEXl3\n",
       "lI9gdBQhaUjVqM/1UloQkKjMGvkz8bAr0v8qr7osx8F36Q2qfnNZ3v0M+S5Ft4IvToZGXuIq6IAL\n",
       "squy2kkYl2qeqletwVjf616UQ+yjj5IdcMrup6saFog33efKCjlnkUNG/WimNQvCiCdRmqonR7bA\n",
       "CwnjFsKwnjcSEvj2Al5DsvFAWCmrDC9jCS1zdMkvt7dFbFUl+7kmChhITxNdAJO97+sk/G8OeVzB\n",
       "EeSNUAW+Va3zShseuoVs3tC0DxYw9jehQEAs36C7aZFLSpRStpLz7qNZupJZR+AAmM+mIZOrNaKB\n",
       "03AmoF5AQK+VrdKTbMnnpvXNKlwYQDY7v7AR94jYUdt4l/9wopKIZV96zb14GqOeRxuLCHCue83y\n",
       "GumZPPJoRf/TYfEsMgWjG1yw+yZNtuug6lupx8awXqXa2TAneqbddTFBhMvvZJwXNyzlJ5M6mTSg\n",
       "zoSZH3p5tpevEQ/rAUmO///t+5oHSY0/+/NW6PicqfEcZI2VGFS3b8Yh6wExpQ4owLSe6TP2sgNy\n",
       "jFrHTbCX4nvs3iFkRzSKRFd27TXtLly2mmucloyeE5kbti9PcKOwLqfVL7fwOYTL6pJKftOQf7Gf\n",
       "QlPQS7gJYPNGJb7gIcsDcM2hUFgFmGlL0wwZ7/WqsTw6oe1swdj2B8W+Ocxw0eAYt+teYI+O4iGp\n",
       "cJ4h7sZe/+lDUSSIjLifq+1/7xazuIJtEz8ZE6UzyueaRf329/CJsTWoE9Mn2OoQcnhyk2l0wddj\n",
       "mYKuiaf+CP0VwK7i5ViEpWRaEnNmSFIwv+wYF5k+uSlbTdriDaln/xOrPWsbltcbC8x/gdfdAqDF\n",
       "cFcmqf5ayboJAasWbMJq/TaXQHu2Nf2jfAQMmc22uFsPYwYog6r0ABh4MXEiNXRH7/kdCpz6PVDL\n",
       "paEYROUjxGaxnT0rMmstfeGD9Br6oalNdTGHvRliV90NTSuWM8Lv9xQIZbQtpfxaShu8mrPlKNvA\n",
       "ywsCzljO8EXIowRzrpjsNWglzkVvgOzbGtXXRUzRX4XNkTyxypwn2Q6Hr5v1bmxSsLOOxbJkIaSr\n",
       "Z0KPwCEtY/CEQx1E8rQA8BitT3eUamjZxYkccP4mO1yVwPhZ68mDHX8lN6pSojbvZVb/RYgeXEVL\n",
       "noj40auP7eGpFhxfiDGr5JYxrKm0F3Dng75EmSrAKF8i6PiK+RG97di38WG6K7MgqsjU0OnrIJFq\n",
       "snEVjVY+8d6oeg9LvbvNdw4UYius4f+D+G9KoEdVKjo60Ee24MLAYQBIgbA9LFJRs+qL57klMZab\n",
       "8eMh//JkvpuoZ898m/6Ym84i97Kvv4h/MY+ghLphM0YCwKAfgIy1aTamhfNM+s0U3/lPZ1vVRtDJ\n",
       "2Ow9VCwvsfHc/L6XxU1kprt8TUUkp4Jal7y03TuhE+M/2ug72Wbz/P1Bb/h+EBHUi781SSX47wvU\n",
       "hA0zrcXfVA7Uy5nZGDC6yOWmx3d1KYzz5WXZEMVnyKV0+H8pXZZ89xFXfIklq/85QjDAN1YyxqXW\n",
       "Yl5bPFS7SbbL/NagAipDKjUaa+rDKgreIrApKw70zu0AhGnIJOvC4S20JW5BGNRzikk+FAKUCRC/\n",
       "9kOWosc6tuvr8u/xXfGhljeal6wbryw7oEG4fDaNCXR40Osk89nJJq1FBti09NZnsGUbYiHxwC/l\n",
       "XweLPuL++Opfj1vP2R4vlLqDAs6Rptv2zSedbbxogMYVnFH3JX9USwd1/FH21plwcvvgdNNaCste\n",
       "b0t+oGIZTguu+s438rZj2tpR1mnpQbt7FeYBNXLxvPgA9xLtBTI0M/fCRA8dncELTHr8RcXiIEGf\n",
       "DT2KtmKqkvDNvskYUKw2+koSnff98BiopdN4XdLyXA93cuUOseydtSY1vi8GFMKOoP8XlfnWR+0G\n",
       "LjiVqJUaNnWGFRBuMVml4/3qP7L8ytSiiDBDjfCP5QVDVlRfVhqDaPqoj8FRBK2YTo5cg+ihYuOR\n",
       "3+dl28YocfnEyK5UkitxApkDNc7g4ZMvIVEBYT1voRqRzLHN3IGmvdPIDTnDBT5qtkJ+AjoDKRUx\n",
       "5f1uvY1WXjkjJ+ymCqNM8OuirvGuyt/hFVE+oQvWJwQeMPQUfOGg3ErGEmn1jnuekTsJxCt1VN0S\n",
       "tFP48WdHxKW4pwbXguz6Rq5C4VOaMVITgtm/fcJrNnp/1zw86eruvuwwdrQIpMY7oLrw5NXO7i0u\n",
       "+gmbIqFz3z+bS9+rbLe2bXn+egrKxPJBLVXS4lhPuKpE09ACclysTx2gHXMDgnd8ddbX7Fcpzcno\n",
       "8ytvEP5vetMXwZwkcNlKr6sBtC+7U/tXWbKfF78fTkvupGhoCF1JOEohMyXQlL3JE6vwpJ/wCDrK\n",
       "GlsBpE5xI8p1tiXmXoC4dU5iO4wZO5JMy07Xh/JpZjAcCOhJh+vqYCqcICuu4GgmFga4unsUpHKC\n",
       "lPfAorrL3/8uBZWdSanI1RDHI7//qOmqCdxmXP4TlH74mAlmVtGsDeRTuKpwa2D7VudGZuZESsLF\n",
       "7A5nCfNDGKtkioqC5+y046MXy0vFP+8lUdGOYs70XxyXQPrMqIGJHG3iA7Jqx2z6ihN9SBKrUsgN\n",
       "LKL5fjTuHX/8583s+mZAabwIiA9VWLXrbAAAAwAYEQAAB8lBmiRsQR/+tSqACYMly4A6KSxSSWeO\n",
       "Ry33llYTzUvxuHvDD/71mvLtv8J8OvrbGippAz/o7QAoZiKEbBJK/HLaQ12T1fR+EXq3Gu7Y//0o\n",
       "zOVnZnZ4VYcc+8f8S7nJtzLKf5CL8yAAw1wSOgglY1Z2iEVmexm7iHfRNUl8L+Fy6CfaGbRvcge2\n",
       "YGMlksTrxdLZd4exEugYtGrzouRZ0eN5TiBPN8Zn5ddWGSug+E81yFUkcii0LdzlSTy+XqAGUd4z\n",
       "UJCC8iV2DKLvU3s6mh+7NBSnu0BXL+/u+eSNT9Sq1s7Q1wF1YIvjo3ZVCsjq0B5PgBPWO//nfQCo\n",
       "3m4/47VUYJF04HT+0JM6mfVtvq6GCK+e6t4rnfjOn9uCXN/KplJC2fVODUWWJBUVO84pnyI6XdP/\n",
       "PvHUxg90vk8WmU4dBjT5fA6oCVD2OGzvj4eycZ8yRB4fk4PTMJEf7mVo3+nSh7n7MgUrePJT4eUy\n",
       "tBRiHLOIWNRcd+9sR+wvirH0w+tSZB6bLimSugHAcVh8oBMIBUC41XWkzIUMFwB6EmOFn5qwyp5y\n",
       "eoQb+tY3r1/xdGR08UJfo404alPm8YTjwkLs1AKO+CACEej4RdZAxrH2QG1OCF9pKQOA9iwIAEUI\n",
       "cExhj8cJBb9r23xqdd96hC/I9/9AIQhXx/4NAqODNm7BrlZI/gnEjAkRv+zI7cvwfvuoV9kGgM85\n",
       "i0OUD69fBT98+9shKi78iZnyTKFHozsfBYN13e1JV7guNweakn4gn9wqXflNkWINt4vppo1xU51o\n",
       "qGhEG3pqGRLF0ZN/qflaqNM0JmW5DJ4ompKzP8AoQtZAQdY7sh7qjriQtVh2/bCcEvwNfTZ5HL+X\n",
       "L7CAP+zmZCHwcnjeLf028cdt3/Qm1Su2VJLY3rvKWaTeOi6+wfC1hoAHkVtLmvExKg97ZzZgG7IZ\n",
       "URIhLSLXQWU75cIqVA5UBnOtjqznw6h2Imyemd8XSUhsMw9YBEaLwJQRhRzaUmR8DBujRbR6Wzng\n",
       "4zD7LcqJA3ev3ZKERMgxSfdjXXH/POuF9196qj55d8No91vaVl4wuXS7VUAkO9Pef/fXOfPJwz6g\n",
       "Kq2BhqqZ1YxrxZ6P8PBuCEytuqCPjrsAgLJnojQmR1YJ6mYQP8wl9KkWgKy8Qo+w086HsqfsgT4z\n",
       "UMYhkSF4D6nJR51t54ftyXxZ38HOd6JtDfn/gNFSQbZsfZ7LwoBIUZ9Da7empGJl8sB0YBo3Eqmx\n",
       "Fbd15aMfek/K+VSQR50KSvn9o5ui5phT5perJFXyqD+39mfObB4JPAYuaJUsOEwdwpXOWv6LV4OO\n",
       "TN99s3BKDTg5EpIviqWUYOWLca7zH6ZtIjG9uf2+JvzxAV5XxMVjlsiwa0+8ePJ/5w2F3a0H+/1Z\n",
       "quarKoxK6jZLhv1CQ6L0M0r5HKSbwjGJguQq2XBLMsyBoeap7tQAAXVGVRKPMWa47RLMrlx1DuYS\n",
       "UWv6cOBO6nlfbF91fforVEQ6/lYa1RVN0e5zbivyDAySkTF6xGer/M4LnmfbSAIhzIfuXbShACTU\n",
       "XdHS9KBW6hfsl9jL2+pUzHcVFksNuYy0eQd6tTNyeox6Bdd2EdiYnjKVfxBXa07UybKOap5Ll0iG\n",
       "D39t1hYQDEj24xwQAV3Ma54UbmG+PSYvUEYZpNmhcthd38508UwAlb+U1gSy82+HFwKr9hlGeWBJ\n",
       "cMSlSNtsitSsFgsrMF/0PM7lQA7wKy31tzI/IiAH42y5RP/IGE1bz1yJDy2VmgqpvEhCZFbuJK+2\n",
       "k6UhpJ+RwfzAPBAsOTJRgfZUTMQhq/vMW2IxquEeztA+5lpsoc8XEW3TKzOdYmQwEmi5G8Uh70sG\n",
       "Og02Fi5HoRFmEEZaXeeWacMoVV1vMZ4YIFdWUFVOhaxzqadmaWVnHgk5Oc+GsKEk5icyEc86t1oR\n",
       "OBvY78MpR8lwUSbuG9fnJGyYlhF/MtqFsc4M84Jk9eUACfZ3XDwWNq4CS6e+nXby7IB+tMnEBBzj\n",
       "eoDXzRhHvSyTtA5XUGqlUw6/NjETGsQLTPfwccvxQbNdb02nabfhdm5GQFe0FNcpanvPqJ3NId6t\n",
       "IAdx1dtjKOsM3k0zEg3C/2wKVqpJr/P/yU8VLI16te8pEr9UIhrXd7VTX7YZDO5210Vygt8VJESm\n",
       "ST9U68VglmxyZmK01Uw/21uVqkHTsvn2p8dhg6bIqrLsL1tNfuZviAoxiw9zwHMJqVTdQ7ZD+p6Z\n",
       "6F1x/bkqSrOvIu+hFuVy1sHHdXNfNxE5CLwNr3L/YB/XQswaYPzLZjXevac7LYp/musgYZpg3ZYE\n",
       "wwYxaA+k1hEWMRBK9Is0poUnGwjrdBrqggRVdHwehbSnhDZr3yQl8Z8DjgsN5k/6OaSaXIDyFI7W\n",
       "detVIwjTSpwu9hOeqGvi6r6oJEBg4TwYRTrijuGbjXL47R76wF+uBbTYN7i2CBVk9GliX0dloSRH\n",
       "nzPtDgJ1ZJdfHmnsE1C2oZXmIjiei3v7Or4Skd6uXy8I3e/wa6rpKK75qnRencC0/LG3lvu3erhy\n",
       "zfU/CGkt/1uXgOQ/6qPN4diRY9VGE2LbsDtyymu+//i97L10Kl1kTmgvV4+rbBaUuEVfoE5rHmJP\n",
       "th43GFu+Vqf1S/hqHnNjSTaVA9ZKnHGy28L4YVSpADrgAAABOUGeQniHfwAAFKY9vN+PC4i3hhp3\n",
       "L6+gnTmfMYKYFOKJ1IzZM1RZ4HxJ0AHhVycasrJUrVol20hXtAZZh0XdfDHV45CvV6dQqxp+aPt9\n",
       "ZXIC2rXJ31zr7lmaOuEuVk9MFzEsD8Ti8ydNeZZxJcJoaELCEYtCRwXGbcxuem1McTBVK6lx8DAC\n",
       "B63AgROoQyxpjgKFmUu8YMnkSK6oYS9wwV4DKZ024yV6XWwIpJe+238eGU2483FZ6x38klb6b2C2\n",
       "2D/fL2kMU0WNskZXW9pyHR3g339Sz1Dz7oqoZcaDr1iC4D6WLD8BFfCmaPPvV/71Q8LZwXpcy9QP\n",
       "wqsYnQuC85iR4D7YAQpfabi20A9rS8gHOt3JapQsNiTbuX1RkCKypwcwfgxpXyV9vVNP7P0t+GjN\n",
       "uXL82Dd4DFkAAAFTAZ5hdEN/AAADATV9kzrh70AI0kyQ0Pwzvb3lUhqKqC5pPsxDos3bZhgb9/EP\n",
       "rVXSuJfDeQTuXAIR3+EJtKo/lvRryTmzt8CZ3PNLWX3xe3/HkgQrKoa5NR5B3djRwz0bIi+0dFJH\n",
       "rO13RApCgIDoXHiB6CxDKfMk6C1aayHIAxy6moAh9Jep81JE8uMVYs8TvGnuM+Hl6iF9LtEy/HuP\n",
       "LdcT4IUzXacvUohmh/Rs02kbNRq1aNMPCZnWeuALsmjbhcRDsBSKySGNfm5NNli4yUR15UPigQKI\n",
       "G7J9oQmKu6TTYz6QtegYEEXGfoykMaf33ac6oJzmDhnJYhrEUg92FC8v8yU8Ptq8g4RkKBHjKoCF\n",
       "YcxV3bDNn/gkFUSk84oeS93syf38bkR2opqdK1HyD8X6xeAlNa78CoxmwTuDpoITQuMI5GZmgoMA\n",
       "JvfTSX0iSaXcAAACUgGeY2pDfwAAHQKEBznqZ5n+qDtk7uQARlaEXwZiLU+IYsrQbCx8uzS+Bdvl\n",
       "afZ2N89DkI3K7+8rBlsSXIcZeBjYjFXlLHik+rbGgbTbc7blqYuBX8SOaKVYsVpzI/8XECNHzUy7\n",
       "8aM+5o7Nu6YAzyKxekNBjp9TnlYDq0w0y2kwJjbE5XySakvStWF89lEyh37idBO9wRuF6yjfAsNn\n",
       "LJEVnb1xEUv5HdpLp9C7HqCF86Ey3PrmCjaPzElYSY3HxftxmH3qZT9jMAxGkKWZgXlnR1fTdes5\n",
       "eXg1/2OzEGZ0o61B64ey+/2D0N/auegfd6e4w/zuBRCqI3RgnaPnoF2SfaIksGmhhfn7JVIkWucR\n",
       "sXI0oGUVzk+blRst+Kg4zbIAjWTjDe5pxlgiFyPlXyQDIFPEv+9E9LlOGdcavH24tYZLDmt+nSnL\n",
       "TlYRwX/a0aS1GQ3QtpSQ1pUTmFarT4rpDVerCRYqFkSgtLh46BQIf6RMcLVOHEcy/yTu9EhVp7A5\n",
       "5TVT7I6XRj1ljkKJP3tY9gc6Xc25027gRDkPeTtanI7wpcDoqqBJ+kGAHMTzW3SklEMag/R0CYZM\n",
       "yXXHfI3fKmaOS9wafgvxEY1TdDSMJJ3C1YU/GgElJT/fh+gbHxO5mflKGWeEPfsHpkLShZCpl0TH\n",
       "3dR2N9f27wpH3BP0B8kET2owagb4tLNw1xF9ZP//mkdPt7EicVkCiJBv4c0b5Ii+MFf1ggCP8XLJ\n",
       "mF1e7tOSAEjzxZhjo7r5CZd41zH0NPiAY3RJ9yI84butgACpgQAADBFBmmhJqEFomUwII//+tSqA\n",
       "AD0PlfALMYxbVDubVA2ihLTGsw7OKuet3AWrPqBAjASTkBT9Uy6NU6NfLKupm6982V5uUfV2j0uI\n",
       "d4LZCTxAGWT34bXkDJIDjcSwUU4Htw03chT7ubj9HO3/nCpkI5un7LPQ8w4LTbHT/5O7hKskIZRy\n",
       "8zaPINCGBvA3InSuJn8aOmiAqVIIxGyzG+RTVkwcnFc+HGwLY9Znml0RsKaQSyvBo13+AVTaO1Y0\n",
       "OarN735VoQdhk6TXHvMi8b7v6hHPRQPt8WiGwuOUYB7YA2CnnlhplLa9AKa1HUS94vmqTqtgyS1s\n",
       "TWwKvhmJS5cS2Rl50ggNr4wP/amJTPw8/YuNsBis6deEvmsJaduK5OG88o3AwrQWPrnAsXbC0F2w\n",
       "fSoup40noZOMcy9iN6tAk1zwQw5oexQ/szH6tWS6QobSKCRMnfsIxbhW1hxDIQzMEktNaNyKvtmW\n",
       "9EE7d+2nDiTz5NNGGEW0Q1GAHjCsFIeXhRyEMeXV/3nfGpHotDoUjgO6eB/yRsyC63eejBIwhdRE\n",
       "egB/fN9RbjSTvtRz07aknm1Ehkb0CNi5mHJugtB3ZAb7W6J6GnnxL4siJLr+FjD0oF+ZFtR2NuR+\n",
       "ut8BhuR7W9l6aGs3dDsYSMQrGF8B19Y5knfapcsH5AeNO5165qf6LvB+MpogtVlSEqQwWiVWbZgO\n",
       "mnykhulN+UvcbG3jF6p54fVUK8mCtZCYINZVY43fJYRU9xgy4mMyx4gXosri3Gm+WJi1+GNcbVOO\n",
       "hsSHWSNLRoIamfzsqq1x/aw//5emuA9ZSWH8uTxPCRS/WFiZvSPtRl3aItuMjmvv0f1Nkul6tg9O\n",
       "4vy9EAp/iB2AdJfHJ9kHRvyLiZaPFH0N0ZPg4xKzkA0wUidZ1uy+I0QcT1lxeUT1hE1N7QAawQ5Q\n",
       "UeANpeod+GbTLHlPU614xI0wRhf16zD4lwxhl/FkoOaD1PPs8S5qr05GkmshmJuWe9K0Kd36pTT+\n",
       "/cWVTcRRXlwwBTre/FMQkFuA4QgWWRLDzM++23J2kcZ5bwvo1DFATRCIGWiT9FjNEcevtunbro7Z\n",
       "9kfb7tiURx99R3uNj47aO/aj7JQw7mdQSjfDZxYX+Hq209k2+9u5EuUfYrX2nlmezBty8DyIThLR\n",
       "iBO6cqRXfqhkBrArzCNxATxxEBT7g8e8Rg2//PVZy++9A+5uiX5tq1aroXgHshHlmWQZSMBtO/Kx\n",
       "umds2IENgeHPXKuo6GcU4uuuv2Zg4e892BN/c/gT82ExVp15PfjzEhOdchwElW35+Ox/2UBUTzCa\n",
       "kdVeTRKu36952gO/mOr32mG/yQbzNoKuS0UlJcBN6onivIHjRwliAsjUBXrz4jeTT64V3Yd0xn7h\n",
       "+yooJWMUoMGplVWq46Ny0VW0oB1c/fNz9PgMuz5Os2FNMlvIq+ePCTO+2TFPk3B8LAngBvLI5Evs\n",
       "+frIN3s8XNSOkAc6VgONIdmDhjt7l5GS3C4uGiBq31M+R8rqdDQ3XSi3z4w/FkGGyrXh9hpGYuW9\n",
       "pQPdkZW9AHAyMeRPnRFS9gkiQzWayZLK0SQYS55Z8mqtktN/a7iEH7IuXW1nByPmceBn7JpKiPc+\n",
       "RFTOgtDQjee4M2V/194Smg/l2qpp45fRdC1AdAazq/GOPt6FmfeYpf+a+Z+A9H1fiIvl55/1wyht\n",
       "zjI/MM8IqHNHdg49dIp6rZ2PmY5TepCwV9mDkTGdwQELQuClgkztnqTMzizNFqkI8vSkhde98sWC\n",
       "hQuoyEA/quKBilEd/1i+AEW7hAEuwNaY9/loCo29vrK/+QN10maJO5Z3xLHNIz9+VmUuF0VBLUWR\n",
       "4zPPmhHmjzX96LWypMPF8Ae0DwYA+2V3W8LMBIc/Fzcrj1y4R7HZMShMP0QtUTfSHvtWgzy83lGF\n",
       "Orzh5buIcZN83CCqY/WzCZqM7toMA+bojIbvQsNjF+lbkfJHr3Ag14nEc/yynsYMl8wD570IUkj3\n",
       "9cqPzJuiyrE509kb6nt9NmAfmMmZ6Zem7Yy/LuOjo3O071gR6Vc79/3VZzmqMgwxMUSTNCRho9SN\n",
       "coGJyA0U9FGI3M14FADiDeXJmptcgG4mhs1RVSXHn2IyhoABPll233xpSfLsMhCk4P49MVVtKMnR\n",
       "aPm/kYZHyjp8FH1UwyVICw/cAc5vexwLziczZ40SFHrGXe2cwMnarlnkkDL/eLdZZ4fuGbjk76mH\n",
       "LdOQThuHTWpUw9eJzO/jkvLlVQNM/uTatSaJ+u0OTHC6N1hkKnRA6LPJc2+Mlf/KsJqLoLkXuMr8\n",
       "F0Xepbb8VxxXS6BY8fvNvCXH6aXGuHFccGytiNnq58Ur8xvN7fKQkfbU9thyXnJ5uk2fABujedao\n",
       "YZXc+V7yzH5LPDl0zH8QIzHFGL5CA+usV5+934eifIteH2yQ0pL7rQ8YLK3LSAxccBdEasDXDC+k\n",
       "V81Mvb/taMzgZ8oIrt8Mz5xrW7RIbGgqYrkVbZChxpoL9bu9OWG+onRO8sIVRz2HTq0QAXRzvzUu\n",
       "6icHzbvTPHUH0w1fbeTYXSgen8K8sCVQM/U8vozhefBRacabMCEa6v8exv+/BHul/b80AyhS7xIN\n",
       "zuVKuIwlthLtpAshOdgfZXs5aPWTtVBZRgsLvlnq69dGoQXu+x3JbpHM2H4UorJw2MpiZxf/6uPC\n",
       "CfPD+mdfWqWe7SD4bZ89mx9ewmKtkjFV1ong9295AZoSWKnAIGmJ9lnd8bms0LZ/509UFfr+UtuP\n",
       "xZtaGcZSKk4pj7qbjywtrLZP8Ap/LAu+36BCxPPshqHlZD7BUblxoDaEIYQU1wFB+ViNmNOwa+6x\n",
       "44si1V1E27fz5whoY0hqQIUGzJr+fSpNna/PgtPjWeIfbbuZdl7cfzaGiwroQseL1WhGlq8n7H8i\n",
       "3t5wcTNxV55Z+XdDeKoMP+O/p8h1QpyCFu54poEsMni57Ocrg4vVQsMzRmRKON5auTYwaZHHSY3X\n",
       "2T1TC6MpSMgdkqitYG18hymsQ1wv0OrUpcjNv1TmBm/+4IxREkZSlEJ4BLKVoLbERh17Ci5iCvej\n",
       "zht2mxO1bNXkXP8nE8fA6BbgsdsCAxs2Uaiw/aSFbX8McQI5gDnCaxvhbVRJok4qYlUxDY1o0Js4\n",
       "tXy8lRxb0dwcfO4ViAa+gg1VLsqN/7HCmuBpTjmhGQv3F5ddjFplxQ9+g6XYPRF/L+98O1IfCvXE\n",
       "iO3GHeHQCr6tmbZ3qKUYayJAJ5rhiKMPp5Gv+P6rxBR41r0q/EgNwKOmnYCaZQWsKTc8ppoPC06T\n",
       "cAIHe7bNcbGkqVa8HPjOV2f11txzUrASmHb919FzYbZ4db2ni8oYWXYbnCGIkdf9tJozaCyvrNS2\n",
       "EEHpOFI4iyrvhIJyA4TY1AMDXb9bJoFNGbE/YjwzB2K+ZlajVixeVbVEBvWM/2DSoyroGGdkMbLn\n",
       "Y8qIHEeqZfOUYBF7MmfSlKYUesBMz54DbhBl9ViRk2gSeTOohx8sZKsSRNq9dKi4+Fd9vK2cG3LG\n",
       "JLeI4Ny8i5cZldwVdicEeutAE+enmK1vwZZKTbUBM4Gb305cBoETWPvpsZXDLM62Vy24EsF5uf+Y\n",
       "jqYwUmZLTdDJcQVoSMWIYSoqQgG3JRQ2R1dJRp+jZcYFRapouVxic7XSVmovwIpaY0tAPTYJBvTh\n",
       "fvk4nIhOpMndfUDtc41M+hutZyPlrZoVVQvXlAI1G6C5rXYXZnjFr9Oo1VxTviyRZf3edoai0u1Z\n",
       "CFExGA/dn0vIJvALBkY+4dX7u0ZEzhv399wwWAtSZDDv/J0DnlYlgLt3mBE4T1gJlzlcxKBUknvm\n",
       "lwW6A5YS/6Q4I4yrNqiN6uPU+KhuhL14q8h249HMSAV+p5t7DOSrY44SSV3T06dwDtG1id35s1+q\n",
       "nW+F89pdTwg4fArFLYJUM6N+wht/Pi1YZonUr2H3PqsmpPVmu/G921xsfS2tgbMHULOO5CHbYZc+\n",
       "MPjfLYva7cAOdzLffHCGb6WPMPDNJqdWROG1C8h1VFYqJ+lJuJDn8utD+QLBnJhFiIUxOaE+Xyco\n",
       "37dUlXsTS4hAuUdpiewtocGUQBNr1lzmbW/K/tsksZKWkJ+nXXmFbwUACCZ3Jmc5XeepcwAAAcZB\n",
       "noZFESw7/wAA7ugNl4BBfB/6Ju5ISFWK6SNgAED/FJmOmf4nQGQxmMo5LnAlef2Nxln1OGsg8nLY\n",
       "U/5AzGinF5soJvGhjlj7V5cJ62JuDbnZxjOnaWfpB7c0yKF2PEof30wwGym2S9OtxvydqwcLrj8b\n",
       "2P4GVWfMeOy1LIgQwXZ3KtjPiWO4mjrvlRtkB8tgAg3gbfDgypS3fKn6xzY+pQWcjaVvr/97Pf//\n",
       "g4MWNW2tFndwShcoUKjoJFTHcpcy5GVi8Tp3WOiXxS4CL8bdrCz9f7os+WRQS4IW1f79JvAisSD8\n",
       "gcpS0HBdUow/D/8FzCCBBMJRElSMTCzlPR49ijeI4/FHKK1l317ywW6TOaamRtFPBjXvklNNW+N9\n",
       "G1DUU4YLxo1xwwEKg5tCSzlunIeW314KrUKpdnvy1m/0uyTbhdtYdqQEbOmnDmr74s4XpDBlxSma\n",
       "DqlWP9/HiGp8sQDxJGuKv7p0+RA9/fhmK0zbbVQct5m25r4chWFoNq6INZzh/mIRREDu/mGC5L0F\n",
       "rsNDQgRMRP1BscxE1aJWEYPRivl71noOZetQ//YO6d0ee4tFzuhhZVCo/JRcHpJGQvEgAAspAAAB\n",
       "PQGepXRDfwADEgGoAapgIgqz8Li7kALSW7QgRzWHYHR5oXm+u/8ZjtypIV05EdxA5QTiIm943w0o\n",
       "mg62EZfP3ghEYheFUvpMe7VKrOAeY+NicUSW+M9VDGfxD4NvAwlmDM4izBqA/IwhhC9wEl4/8Sjn\n",
       "ivG3IMnITHMGr73bYXTTZKwbAo1X1hFFA4LwKkvIR87M+YQR8qPMwC/xniDvVosZfQ8AqyoDxVNG\n",
       "YNRf8WoIx4lFz5z0OX+wiC40aUrLQYan723GVtWyuQNrsQByhRXf/FKXjgEn7bgBRGpqnX5jk4+X\n",
       "GGussNEDLHoiPxc2LOrrgENA1GjE2MXuFOabKwkol1cwkyEnNyJCflHL5mw/XB+tZZO0vKAS8YD1\n",
       "l3YYnOmOpXxM156yfBMmYV3QLl4uncG4t7xMMW3QAAP9AAAB5AGep2pDfwAAJ88+RznrNNOGBmqT\n",
       "MZ5fhkevHL0n4/weyaIAEp7K+qdePuUTfHU3axE4isZ3XlO5wrghUC9O+LbcLo8G9rocXlthe8VT\n",
       "6jPX96+bIrt1mtFw4O8m+9LqMswVONYP2t4JIjAcGgV2K2Av/hACBaLTGn9/5UBfwIHfO72SDFG7\n",
       "UiCwyrsqifi0WSrTR4eyMbZfuZGeLR87g5V4QSAwDqEW5+GRCCow5EQbImk7x3F8JdqA4aIAfj3M\n",
       "puYroDP65Z+aItVeQUi8MTZrVul7RvAUpqpWXYJwiv/zKVZGEUFHC/O3qG98hrHzxzyRsWlzgJZI\n",
       "Dd1pjWb79lrYr2g8PmI1cPM+1hphX3fvZoaseeYk2mQjJTBs9PxXp1XjGefBUKw5NTnheX/Hx1O7\n",
       "YHPC9ccyDPaQ5iHMM3boowHkwgsjq3p+Vh8b8X9d8Zkp9yoIpzFp0HbK7fcQ0zBOkYh68UdBcdB8\n",
       "ksb54yiHsJg6fKZXuJYJ+M6fIlV44yd/DyIl4XeXE4kiwXj9O8tduQ1AcLVbPrV8YOsCwKLKv9nO\n",
       "OkXYfiAqeRTHLIBifCgR4G7HzgpaWKcaQ4yCqOSj4pOUF+0YhukhwEa4VFMzZpopgg8lv4Uxt3uk\n",
       "InWatETqAj4AAAxPQZqsSahBbJlMCCH//qpVAArfnmVbVgvn6fUufzJ8GHFhmr4FuOslfs2mJlIn\n",
       "THR6ORzuKgoWCvPOt/+HmJH/VH4vdzpSyD+yg3iwQN0Hr6Aq5VMn3B2uzwvw9TAwLmW9+ejZSP8Z\n",
       "NeWKm9ECVMQYtXIVbSIyq/1A7umh1XwvJoI2JkD1IsB1FS57G1/rhtQBZz0Inc7mX98ishsI2PVP\n",
       "Y9cSYVu886KCT9PnMxhhwH+BS5U2BFH7ngCWdhPUC6yS5PHWSPpjQAnU8vFDCZg3UevLIYPZpcWU\n",
       "7bB6HrSv8K7w4hYeXnODZFA90kwckUzF8f9PBWZf1qls6RjtaLFpb4UpoXfIPCZBTTjPpb4YpMt0\n",
       "8OlZcEMz3qwORzQucHuu232WDt7mHan1p4m9bswbwRR1LUzd0B+hCXzOEHG2k40uLLEl3h0WxYQZ\n",
       "fa/W2RAn7S5Iregio53y13BTwz++r6CrmjNCut0rymMzTtD4AvF7mIp/AobihPEnG/U2KVKVb3mb\n",
       "XzA+ynsFsJ7s+BMhXbV7h3B8iVg/rBzPOPoL/NeYVLMLKIgaaUN0lalbVnaLqb878CZdRP+BoA3x\n",
       "HGe10gc6DJiBECC1Q7lgAyo+WXtLQm5+JZT+Wu1AYYhlbE7dFHQ1n0g0N1LveFnTJg1BPaBhnv4U\n",
       "wQw0oalx5yOiU46+91fPE9t+4T+Hy1dTVbkhdMBBkrPH6ScidAfoZQV0Vl14yZTyIkHyZvfoqGDu\n",
       "QjfvctJGRWW3CeICMiozjjq2icZp6HjMv0rY3cDzsyiOwFLXjm1UUPLbK65RRED3sYvbCcAvmq/a\n",
       "VmctTjIl7vlUwjABafr21Rx3AmfUFR8wFBoiosiSih+LrluxXtHMrztLKEPifkisJQ14gIRi9YPm\n",
       "Pn6lst5H+WFHaFCr13+s2gtgUVFwwCtujs1XS0EjOVP7krYTGVYX2fPSabgcYCrdX3bkCdva8WkF\n",
       "gkHUBnVwPK2ahbiSeh00i7JKKpFTrMfTwKUNx6E+6MnPBd2+bnrigMUR0ofpsCm2kGlDC3lAD6BX\n",
       "/dcbPyAuP8j5LgJmoq3kfa//4fgWHYfFFDB3poywsS/3r+uQv9nVox76fg3OXXCvddN5UuSBxnhi\n",
       "zSYbT4BHcsHPJ2LEzchmPgF4gQeLydvUIc6rKX0RU+hRukR6S5RRyFBpyh71B4V44M4PpesBwbWh\n",
       "t1xNNDTbNSasPEWmY1kjvfXBUE8a7jy0HE+ADOquAn2Zcix8tnSEhgYISR0PRwhL6pW+gE6u032c\n",
       "Z0FVnt4jph6UU9HPeFEehVlY0/cmQKpDqxaq6qCP4PqK5s+9ACM1cuUUv2CRcFY+TGg1I4zheWiJ\n",
       "+PnwKAhyACmh6AMcbqMAkdSr4i5bNtAuaSqsoEKojdVqi8lj9Yx6RYLcpEx32MWT0nzRqN8/lZ3p\n",
       "jF8K3hZgQTJ2Pu2j0Pjnp5cu0OmyiUBO+VI0kr39y9huz3NykZMXsNAgQzicnXExa0jCn1ODkHj0\n",
       "G0DUNBXKDi1I35pmrIB5JP5jndKf5nKJCszHa/X78fHTnmtoDRLbylbMcZTGkWNXtyri1Ij8UVwT\n",
       "bJtJJfztvIF9eRpLLRpMG14nAlD9OSFKp8IuMyJnBs9CjI8JsDsytRx0xKsQ8nwr0zuf090P98xO\n",
       "9ZxmdXdc85Zb87RmKd7Z4CeiZZ3PrA7G7+SgZkiAb86K4rLm5KS29yXlrNqxuMq3uy/ywUVJqFOP\n",
       "2DoaLzM9WAPyKAF0EazP3RHP/YNWZ7WUwseq1/zh2fhV9jjIZs2Iqd5BS6JwasuXJIAMC5oMI3dI\n",
       "l6JChageNs42+kKuzYSYBA6veISEwXnZGa+d273QqyJ7HNyENLi2AiPqoOOSQBmsYzttdaP5JGdK\n",
       "TndmGdQIHQPaoHqJRWj7xClGZMm/3YsjPNMcqJ+IsuoAjQ1PN6nAfhas7yTIL7SCsMES6SdjnGdA\n",
       "tPpcs00IQeXytsMnI7xe30XuehhJ9vmKtO+5m2AQCcsCcd/LDcb/CgRrsU+Bv3QEkzG3gs+Blia7\n",
       "m7nbmrTnCZ6ALmZ8gay8tzfx3Hgs2z0AKW3vrmQKPE1uEv0KFdnnnZkFnVJNRvuUtU7PAvlOtktQ\n",
       "PQiuDQZHvDv4VTX0Wv6RIS65jsc8dOt7bEBnjOlNzAri9tPAhCrZlnmB+cMd83a9uqJ15xebYLFP\n",
       "+9MhGUTmKjs+mZMKxtSI49Ve4FYxzurPTcbghGMffTfnlo4O3EA9KrFqAlHlGxcULVnt3T+yW3pp\n",
       "qXW1VN/1piGp7h30cvf/5EjRN2tLid3VJpElY5Bq1rzw1PpAq79J2yGCtJoulHXB0hnuAeRUyfmT\n",
       "jvw2Z9z0n3Sy79+QqbGUgYZq3alQy5ShfOa9fjfgvxtMKK7Aj9lA2DZXjaKqi1c2wHsyewvubwR+\n",
       "HcJlVwC5OWWanyQbKJwueaB40caf7i6DPCFVPFdy2/1LRCqyEI+3e8yffkZ8c+13MZJcJUGfRgeH\n",
       "q3sfgk96oZU/0Cngo2I5if+rhWOKLOA5PYIJ6sfwxXWhBYs1yrvZhyNlsxep9e+l9SaN7plOf+MH\n",
       "acb4wnWSAvPzIYSystDZorORF7G2EIpGqccXbCRHdfRByE8FZ67W1tlbPMriyZmQtpb9TpaxjN5B\n",
       "DtA5PwPRMr824i3hrG1lKETrjHdQAR1aBein7ZYCLPFSf+9ugl1Qi3x8DW+x3a7ikhZ2OP5kGS2o\n",
       "B3tD3+kjM4ggZm51T4o7sFeEkF4c2jDTb134ppp+Dz4kPL/XlqMdHAnTAZdRsQmqmuYPsq0mkml+\n",
       "AHJHElS7GMRXxodeRbAcPhsg7aWY3g4FZ2oiwIsBP45jOmtM3Cso9G7a6JjEBXBhR+/qrMudY+DQ\n",
       "rhU41FthyQiFEujIHq6wX6hN/7E8pKvYjC58aAJ0O4NF2rH98GVThb/bUKp60yLJ6AxGC41he66l\n",
       "fteOaf3EPWdZfOQFvD2/UWE8k0bDA0FlG2KG//C5iFzmIMKjyxUf67TVnHYeJLYhro+rdeLKJZz7\n",
       "hxf9IR7LdT2rmAgyyOuyCgLq0FUfqTtTQ+ji7yoaLE9wHngXu7hbW5BSnGgHbHn8TS2HgNKF3fWx\n",
       "pBDqylEkwSrLSE5n+J7nybqiYl/tKCBCKPTF/keAPRQ18Dn91fPlxvvr8YYIHJIZFDYnffzFY3GR\n",
       "cY13QQ0d1R+CVAigfGfBT/w0U7dSOROZtOYAAS6/3DVkwoxVsn3K4PWCEQSfi/2rDOXM2wydMsA+\n",
       "P68aGSw2L8Zv3aIB5I+740uGhR5KCuLUYfEbPMYngFjMa7J+tanH3bKkA0Y0rBDIst9Spba2OMfW\n",
       "3cQaMdD/fSq4GB2oKSGh/rQp5XIH2Cb0yrCFrN50RgdT2iISmZsGVjzgSzzkJazlyY+2+kfdfZ/d\n",
       "OisN0AhhTCFPNQXfWvB2qLwSR9HS/Rh7lYo17/ltz0EYd72JOFGUyCD2jyPWw2N67FVM6j6JgqmW\n",
       "jifS6VpAcBkDDO1Ig51bQPIw3c3D+QCh5GMdQQ6/uM4objCX5o55AfpMWuNsHgtIR8nrw9VLK3a4\n",
       "MHsJiWpmlhTWrQLIhZXse0Vt8jRj1Tn+OaYyQsxydT/c83f+oiOwTjuk72L+cHyLyu//RtB9CEg7\n",
       "L+SIMmOMfWNw4d7FdpvTMARTsNkb5dhd4Md/W4QaaxIwVVqW9mGqaZSzP0x8RI5oZ+dArudEe2cM\n",
       "jXxN79NpX9CnwZPSw7v63XnDUx1frQ9lArKYXYf61dL+CoLTPztE3xwqfKuPmdFh5MFnfnE2XHd7\n",
       "H6wicmgyUVJvZdoaZpf1T0VXMp3/bzVUsc/m/jp03Qyr1vYABw2fkZVfgVIxQPqW3ncDBQ1Nba8u\n",
       "oXExcNMo0R/4KH2p6Anvf6v78HVzdMhWfqIQLuWB0iEMUkEu6jmx6fBCnTJuvYavTgTJcptmC2xX\n",
       "pnduBZYLhB1wg2VZb8Ka3+WaW5N013F6L9CBWzTPy9pj7i+spXN3eDu06cEYD5UQXKbrR73gfHZk\n",
       "WT1YT+9IOm7jKYuB0d/gBfdUSqQ6QJe4+v0XZ7KVg0XjfM0xW6OZ56NXSWbGP1OTD7zTB2IMD3L+\n",
       "Jv2dGVt2Dd//wSVA8xgKjLR+yrdaj9CnSE+uZkU0YNT6uSFAiwlWWUzYRAr+EfvxxtHgmCSC4y5o\n",
       "wyO2EEoG7URkcgSb6uHimHUT2RcX4627HknO6AAABFlBnspFFSw7/wAAG82lsvAIL4LyRKypbXtL\n",
       "hQOv7lK9dgAXVc//5MbzvyoW8mV0L063v3TWF3tBpc5KUgxk1uW35IlL+xGXr/qm9BODk8bw+r7C\n",
       "7Qx/X9NStP0In/DOK+STVrnxkmXfWG2YC7iqiMIK+jW2V//1/RSRPyfh+nPmJH+YfRRANX7aFs2S\n",
       "EBFoCsGnYnyA+P10c9ZAdFb+FE7YuF8pegdC3ywSBXCAI6DBkGp0TGfBPuQ835zu/VGsQmbXcFLE\n",
       "6fjWxklEi/ZsICWs1IGvS2hpVsF4q117qgMV4vTcOViGKcH/F6lIX4vQWo/K3U/Nt027M7NMkF2n\n",
       "7ASiKU4h9ucCThvi2mD+ZiucpxkjzHmbF0C01NlxyL9fK37lOJ9A0kHHJH/5J16i+WusO9ehZ2WZ\n",
       "J3g0hxx8J/maWFw5676CfCxh/b5vxp5Se3syI62AR4uTrk3VbIj8M3iFCMqX82xsjcb0KTbms4lh\n",
       "ZjrZ+4ua1dPMIrUZ1n9m47iX/Y49yy32DBgkrkvWV2sx2yn5oBKzd7H1FppZBpxr1RHuL1d+8FtW\n",
       "/Py1XLZ+AY1xUUPEVzwMqMs5PVySYh9wWoLwBSJLTIbFq/1JZGH3oosXMKXmx+F4Ii4yJC9vlBV1\n",
       "0HO6zonGhKOoLrygS5zti/cVVaZjHxnyGEU2KiZqKq7NV2SfL6ZndC8IyKidFq1foBaw1Ub2el4Q\n",
       "SaASrMh3/uXUIvx6y5xLDlc1XuGyUTjya/JKc10a0a35MdAlUu8srGdUg1h0AMEdY1VC7mF23fuD\n",
       "pQ6nWKv9vQ2OjWx364sb9KRwGJ2iDDXZ+gs4mUND2w9P+Ifq8lmZ8zcdQcHw0ucBZnDcGsCkWNWl\n",
       "rsBS34XxFPIFfmtu5IvwCpT8oMw9cXlMGGa1dUE7XxysdgIj86SsFREnv40C+oHjr+GKs9ktAfh7\n",
       "4nvqsVi2O7yZaEmtuS0NkDXrVEFN7FV58uT4tVnpp+FGeYMv0fov4MK9ntCKT7KMXtBairL/JT/y\n",
       "uNnmgG0Oz839VYxakZKgWKFeH8pf3hBzjmeLtlpj3xYzA7/f4bxC3zkZGNj5tWoUMqAdJPwostH6\n",
       "Iqaf0vzf9aWQHi5FHSr8bhBbGEe1IeI8sCerlFUr1odujIrDSB01AHs5OdEbbTrYmDIoBMf8Me9e\n",
       "c/PKP557M4B9ScA7/0tSIbjCxFexLsgNwI5sXYVUAKsNS6dlxb/0jXB03bYSDFkgAE9yBLMh4UsS\n",
       "A5MrNPT8V7GHAiOLip4JrsHYVtn3REzaKRKX0gNCL72O9qs6wa9otbamPuVLxk+jXH9rFbcmLb7Y\n",
       "iSUi/ePelSW5rmCj+OtvWSqVFNMVVl8GCxOlYN7Jg3XvGaeLj6JrLKHEl3U2F0c8Tq1YmvjjtcL/\n",
       "XDcxs8KY2rZf2m7+QWnpIocrTB/AFpAbfkzsH4TN7TQet4V9edaNqY09tPKrFNamXb7UfHY/n9yK\n",
       "s2XqC0EAAAGDAZ7pdEN/AAAnx3RnaChpzSxiwuw7wL38lNrLAtrPMybRMGaAjzdTDcD9FnyANOWO\n",
       "40vAZgRP238ieSfDCdp39QQAXRsfBDOy6xbaxQWAcOM2RamipLk9TBqAO1sPZkIt7lPJes/WsNht\n",
       "QNCqiXErdRQOCFg3uA+tpV8a48hMmbDTv1dhg+Aa3eWjDs8sPvPaJOnJunjItoHynkgvyDiL43VA\n",
       "xpebekgFQJf4+5yckZp1TudqfBiMGkQrW8K58Znrx9a/XO0KKAnNXndYIj4hLXQkxvSSfHBrzbsE\n",
       "FXr005j9Zc7gLBEhNLBGa7YJCud0fq0UuDt73mlWR2axaxg7vNvbtEsj8SvrLKUM5v9zDT4szXw4\n",
       "reC8jcN4319YlOrnC4zrPwdWRGVg4+4+vpFEXOnRTIqwNz6OBtZMYiObn6/Phe8mgkqihjaaFTlr\n",
       "2kYWSGg4xx5PQ+lIl8a4vUWYHRc9aRf5+C1+HnMcglm0ZuPzOH+XHWwkjbgoAFhoDHCoGE6YAAAB\n",
       "VwGe62pDfwAAB8SiEUMbakFEt0vTTQI9F5cIMffvsyPE4E9sAGuQeVN72VuZv1GE7e0RKXhQV6LA\n",
       "DQyht0EGBolBTIBCceXzwsVNhRT85rxfI+/+u7kcNXg5P3gGZgTOpCMPtbHAeRUevH2NujNFqHuD\n",
       "ax163FaTeED928SmlsBptRc2inHU6IL6dN/PrfGdsMWOAmmepDtArOu+czLq60MqNTKl8hFRti0u\n",
       "XGINGkulubLbpmLRyTIRrI9omavwsOokm9s8ZaMX43bdSg6bKo3ToB0yi+Y4ScbhGJ58U566eeV/\n",
       "G6W18zZHN/AB931FGD0vv0uihfWpa7gfeF4RnuIlqlooa3yySfgM4/wtA2WuARlsNYN1vVuJj+At\n",
       "y9jtEOxePBEgjOe4dqBi7v+CV97+zYkrWtbFJ4K2x+fDMY4gIdZsPp/S0zJIzi3SWTzZipqzVnBQ\n",
       "MPAAAArAQZruSahBbJlMFEwQ//6qVQABAD/6gMW0B6XqZtvD17qMW362QHA5I5eGtzD7X4oybr7W\n",
       "aNAQTjD5bSyF4CB1tqsl/UzENPUzamUiSLwq/SaYoFF/7M5WVv290lk7FGElA9XJIEDPIRnuxHW+\n",
       "d0QXZtAHzdbxDkXDJONnOKDgErK1+qm+/N4cfnxtyqHx2rLrtMRsz5lo1GFleivg5GBTUWpPapCV\n",
       "q75R4EDszveY4b96rIu9LNNYgLXSu7TnYytOaBYzxmKURH5mW+x6O2CJSeA7TVxiG3GKQcjgseT3\n",
       "CqCitgb0RwuQ/pdrpcYPx+wdzjfXpSuvg+3fB30dOUM1MM+7RuFG44qyyfgrBp6/LnRBfIdSugGL\n",
       "1kjy1+am4A7+qySh7FvtP7Wfvkx0lBD6P3dzq3jkpOjy90UJWK1vtV7ud3kDbpmVJMcY/WEtpvhu\n",
       "Wz/+UetWQTd8IF0dYOE1K3bmqhwZ7oxAv7NxOiIIhqQx5M4WaMKSDtgcgZBCQEi5ClWeSekpYRow\n",
       "D3K6/s8QOrELy5kjWFs0BZednfvjt7rwdJspM+QYdEbWbSKsIHi3QMZVy+M8NgZPgSqVQT+5LUsu\n",
       "bF3RRsS8eTQWpDcWFsXBCI++d7mzrAv0DwO6Cw0yJ/ia4eaPH5PSpxHEi+94YVQreK5U8n19B9sY\n",
       "RbmV4RcVvkpw894IJwuK8Cqtyr17Z0tevuRHoJ/pjw1LiBtDplEagHE4Xjy/M/6FWzpzgw9z8QNq\n",
       "c8ffkBTGF+uMC//ptMD+bK/PadVdkJU4uh4cT7F03ODInJL8p2kg91I9sPuTCZKFQiwOwY1Zg3Ip\n",
       "RDsZMghcH/xqv9O2YPNUiiIsIQm/6XStiTHJ3HxB19Y6j2PymXsQlmf9It3w+mz5KRotUmxKOVGS\n",
       "kuslDra97tphObGnpvk+hKFQuDtmbsf2nYzy8Ofs05qfF+ls5vHVRx9Zo/Ly68kRz/bbf9ZgVGT4\n",
       "3BmQND0iVa444oKso2mXw6rrM9QYgCQwZgl3tdRNOQaOowJeXNWSXmIFbMpRRN+UAO+WZkcw/wlj\n",
       "ffVoQCXf3wwv4VLtRRZOTTMo9Qqh/eZkAtZMA8Qs8mapUnG+12+A99WqBk/0POVFt4810emMrq3E\n",
       "AIHs3T18/AlkRU1D3f3jRK4vbCQgscslgQf4sj7QxEVVV0mXWFQyayuCReyjfs9/7540JKNQscsD\n",
       "wFgak2QV7dTC07B2Fm0M5n6rvtaa9isuBgEaFPzhMSj08I0PzhDD1SIacG9ZdpNO6G/g9444dcdl\n",
       "KaeajkvZO4U/Db4S9RiqaoZnbvmrQBO3+T9RDofwNlF1Wkc8Xb0Q1KEnWtHtIkiPXxsUQoTSGAot\n",
       "rv5OwALlFidIDKldZ8enH0KPaqTTETSlaGJ4KFB21ZV56sHdM7iOb5shmGdkPbs6U4/oIGzwbgpm\n",
       "39feVggao1xh2tTV9VEfT1hJhR+gXp+Al7kElp3XeIkSblM4T1fa4/bnTL/ZZSHVS3qJvpXa+8Zm\n",
       "PB0GmORTvDhPBPFQ9hp6Wk4lXuvKiKlLTCVaSSJnzvPBcAI31bSBxBCNoVzHSKIwzTPhgaLSniF0\n",
       "/WG2dpPFnfY/3/uMG9UvhA1g0G2uL+tNfAncnhmdFSfSm5YxTWHOQ39lHL8FIZSdp2uM/Qsb+yC+\n",
       "wDFP1b3n8FUm1ifoeIxrk+UsTzJ5o/VFRa+lQYOweZslBMnetdjJYg3IQFJtD0VY+omhwZCux/or\n",
       "sPgn8Q41YDatOcun03Z8qdxon+Xt6aMzabve+ctIgt40O4HkrmyNFUcnlHACa9nbRSyXyJRNUjw0\n",
       "KFh/6q/w+CnJ80Ttw/teK7bW3E64DIk8iv5l8x3NCth6nTDkTsllkbx83IgjtgdFf9wLhVsMwL6x\n",
       "I1sUiesy7AIjwfWxWb0MiwlgSZiktihfL09obLdT8hUNmFXauz7C1xrFNdVtmuCMt/8F4NTZwg3p\n",
       "pDl3ygKN1+Dki8nd+brQgodC6l0fTTeYI/WnoIrrEtm6b0Hjdsrd0lS87xfysejc153TybLOz/d3\n",
       "gcnX1ku+5nQDp1FtFpkNbz5RZjXl71jjk+ceFz8UsFxdn+fZ4e8IEF57RIRStkmvGJIU0sHBSjE4\n",
       "ZZTCocXksnTvc/z/Qac0zi2rmL+f7nkiVaKV1zoRUqQwpo2q+u/Rcp5QcTQEObPVyJGLIIyCBgTn\n",
       "iUVT75RRbNbzkyINqbpGy5fRxhNNeuGjC+vWxT7m3mixFg+1tfnj63/RfHzwW0T/owNVNeUyjbOF\n",
       "yvxGINKYFYKMjAfyfCtmjqyseKEPjYJn2e20L+pt00RHkKUytcCxw8jCLA0NX78k4uQNHDyuA/Hm\n",
       "5ep5s41IGC57KRhrzwHYShkeXeX3XxpNqD1KJ5P5bmsMw53eOloLY4xPke70y6lGAgyD6pR5v7g9\n",
       "qDwqGVUn4OpyFvEDJt6CuCqCwL4vmxRpM7jZwD5U4+4pgPlWsYrHgK4uqaPpVYTyaeC1l8rrmYWT\n",
       "FOk+m3roHDcJTiHwKstfcOapJJn2Hdke72eFMs0b/KYvaW1QkgEgtQJBduSJrthywJ5Q3s3rH/A4\n",
       "7sCYydUEv1Q1gV03fWJPyeMMkdkRB1Y9PXUswP6JroLHG45NgVSPUmNzlFvFSoh+/jar8WdU428r\n",
       "AhyqhlzyhHkjbJy2Cdb2S8nCrumRALo7CeYwYcJLHfia5YakOedsRS/1me1pup966YTzleJmyx8R\n",
       "R7v4pTA3XN4QRv9hQy9JfQeWhH7BzUB7AET21SAoMMxEfj/adafZShpa4BjnPGneiPOR2dBRSsPZ\n",
       "FHycSH8SDKcrKbuCQIWFEgbRuO6YFNjmFDSUMMzZrzYgDqYp/0ozWjVaggQRktA9RqPMjaZLe7oJ\n",
       "PMslHHzsDAkwzsr0ZFX2yb57afHq9Mz4YR31KfamRGxfX1qlkbQuswlPMMGHc8F4RP4ezB1lPmAU\n",
       "EEfZqzOcp867aW076fImKt3jYxvXoM7e5F8LLKD3ZdE5gPK159fIcaGcejoKmzTPgT04AbLY45Aq\n",
       "w0uX991Ow4WXESC3K6J3MffXid06MMSd5hITyZAXLNUxAIpImvbBnn1i7Eil1mpVTzdK1GkHrtZA\n",
       "Ln/oOQFmnIjFsa2DP//hzJY3ZWKVz8ss6WccW9gNGzIMkSvciwXELjEPwlxEt+3ys5fQo2Q5NKZz\n",
       "6qoU/POeSVA8ie+NjBmWn0Sw+e5xwwaJENj5LXmHA2O4lFbbK8Hv/tytGx3qWr7uP3/PNfDgZSfb\n",
       "3n2ZFMyPkwmhJBxA7aA+0Ak2C441++NAxT+8H6XuUZaLqj0v1fHVK/AHIjbg8W+RbXyd6YNwksbu\n",
       "jfoldoOTFEoaZZIaSHlIWQ+JkvkaIlmp0Bz6VFnpChEsTjWsV1pDTlqS6BnRw9ymJBOGJsGSNJl2\n",
       "3nol6GMU3AFMxrPspoCPoEg/Hi/KqihV2fAS7xsMme/NBQuQ93fUQqehuUZHkGoEbJklnTtvSIwf\n",
       "l6EgLVaAuZMC9dpH05f0VqvhYoercIPRhJTLVVyjrsDzj8gLvy3dQMtOvdIGogd71RsqrBosu5Lz\n",
       "GjqdtE1nmG0tVUO3K8RRFbwIRqbJ6XQRMsHHlXwzwEhnXqg3eYzHF9N3sSreRbclOTFYt+jlpJmd\n",
       "syxa78GkQ4RDPk39wJdmwlxLABQXEQAAATYBnw1qQ38AAtbz5HOepnmf6rjZ7XWmFfSuNxaMNnKF\n",
       "yoScTcKoBK38B4AWjuAkz+5LPFDlkNCWRe+jnsp3CTN4wmavWzHfwRjDIE55ZnaMWbnNnvawA9+G\n",
       "mCXnl0a5h/xMqKSibmPDqCXrPRwNiWJN7foko31K3eqCpoipVPS7JH1rb/tYHezlzvO8BshtPOa2\n",
       "oscjUNBO9H13B2axDVSVIPN1wnFPYIR0gY4AMCRcrz0xmGPn3TghH3J+fIbJKlCyiBGU9Jjpzch3\n",
       "LElrbnj72Or7FIb+xVZ5JomUw6d6lLRIRzscR4IZUZlVoDYMfz6y/gweT6ZFg1pqD4Tu27OGLAPu\n",
       "E5oVPKXXMyzsMicjNdFRBMaf36ub9Q0/KPUtqi30J6XFvvwGk/Q24z7r1m9ebuFEq13BAAAGTUGb\n",
       "EEnhClJlMFLBH/61KoAFlDT6AAidNnJE0dBhagEXZN7DW9i4auUZjXVmqrI0LvLz6zUx8QjxhSzC\n",
       "YGxGmivLQGYpzmQciCPOmCPUEFd/sxompakBuSm6XS9bSpqBSqC/qSe4hsXoDpyzNLEcFcT0aaZm\n",
       "lBapTqDLWWTOlmZ0On/NcklKAO4Ve4HPhI3FWv9ZowCdngvXsk0DejY7I6B4QJRxrtuYWqmg155J\n",
       "Dl+IaIkPTPrqGFmPbo6SIXNMgKvDJH6fAZ/mh07yj5Ta6am9LVearWWbgWhl9BE9fXyemK8TluVZ\n",
       "Bh5nxBlldKzxuVamIEbHKe1YvwF9KyGAyJ7roTz1RHWY46MojPnuUdRYqwBCENu8lOFgMU87TzA7\n",
       "gVmadhxMZmBN62lVdMnW8SV6AKaMh4QeTkhoEZONFoTznmtS3y6BmfnSM7EL+GreOzEamA+O5LSj\n",
       "v/cw9K7LxvVfTestahV+tEiYWS2tGIMuMET7/NFI8zBi0WjS9XAlteYrn9oHlInWe2ZNjKQ8rGrQ\n",
       "QTug4THYA5rtaC5368MUAa2AiwgGM5XvPOGQwuL6y/4neOEJWwxLTve6x99LYc9waUhCm0v8yaI1\n",
       "s7x8NPzpwLotMpaLlJYqtgixdlcbhMiZDRKT7yxHNW1urYPvzZi97ybHyUps/Pbx0xztPwrG8nfP\n",
       "Cj5JgygH1FlcLr1K9zIQ3zawDaIO1Rz/4MoUD6X4YG2xH9RNJ+jXoRXEnr0nONoBQ7uJeVRBxrJ5\n",
       "PXZXlco7LKJNGgneW/GXpgsbt0fr24A0bHfiYDIOYLI29xEsAfm+SyzlqJMVmetZl4ZdFnJowg34\n",
       "elgFFU6VOJaBmAIjwttgDOhpmWWtGQ2R5EHrx2VwNeHvg6rOaQnR0p88Uqysua3KTaS+LyfFQLDn\n",
       "KGhA7Ng+88mlIRnyyDexRc11IJcEAUlMS+nfrXIid5/a6h64tjYxki0Jq9a/LQVM46kxwbAOdylE\n",
       "50AuvdRO0UT3/ZSLaA0+GJiENHePWpObPkb1/nepFfg1+5QMFWNnxyY1I5vY/rd8kbLuRQv+fEEy\n",
       "L1npC5ibSVYS7i2x4t+sDr9puED44MvAXXOAS3KfTPKJG/kLCslZ2a8fYUi0GPUHdGXDDIoX+3Lp\n",
       "BJzF2Yfu/UsYFudeE4VLTSx5eZSADUYPaljx/xuM5Y7hWa2ZNELY/8obnLxcmbG5EMs1UJTBmoVa\n",
       "yCk5G4N0sfdLVrm0KAD7EPDTG9sgO5zIlxz3SBlOwn84rz7rvp6Cv28jqgy0dmmWskoU8vhgZ7Rw\n",
       "QCKlol7eIlKizZWSYJ8yd45Jp7qUo7J+A498ssMA1nZCJX4UnWTgqJ3TEt26MYfcM/4G06Ft8oyV\n",
       "koyNsBzcC5e1Pd9hBjvzHTnVS6b9htZxG2gbBmu2hPqSCVapTk6aAlrFDuWLp9MEt3EdzQckVyRK\n",
       "EC/a+ptVKIWPzb+m9lrswPn+JzS8H6DJ4hBm5yzL/9F54DlRENIdKUgXn0DR2/BAilXAe4UAMsJ0\n",
       "eMD84b/kj08KnywYQ28Q0WEX4+WN3pwPONWnCzrwhpfuJ7+DMAOYfgU6iSFcx4ERPkf5UImKplrb\n",
       "sF7MGHjMImaXLmGen2dRRm/KFw+2x4tKAQvCWeDv/TTzOrB/FK5z5o/B8hBI0ch0xXtOKqJAN4/B\n",
       "dUMfnFGTBsb8OmG+7EKHs/LNEhD/zmTD0Y90SUNuzr+ycKw1wnVuWtH7KPSBa4Eu886MOkyPvykP\n",
       "Ivnfaf1upaRfC0nQ25PrfFrcfKi6e1d1+HllFuXZtrJ7btBOjQJubG0kmf0PvwnWA5VRspNfhJDA\n",
       "9O3TL4wrg+gO145ScVX4aGEvWQa7+iQrhBq+X9gYWCShwSyW3EVz+omoO0tZrcJ6VYrNxvTRespF\n",
       "Y83GzigGe4JqhDSDJ00pCbP34lQ+5nrTnzpkFPSoHC7o+877XUoZxF7wXXSPjdFK3psISLI8VQLr\n",
       "eH6acRhZD35Ar8lCt1d/pA1aQr6fws17HcfFXWRIzY6tup6QX6XoL3o/x7AHD3eEiU0wR1hLtd7T\n",
       "cgTvVhISKuiPuxXmKgs+U2DsQBKXwuervbOxaNZSEiAaE1vxMXCXsIE0Rid05R11Ad9OMhX7MheO\n",
       "oKr2MJ8ahr0P+3IlxP0xAAABUQGfL2pDfwAeYoQHOepnmf6oO2RbQ013wAjKJckhKGTw5JBaACPs\n",
       "+Z/PK1XXmwe3Z5bJgI9PyQOipvKrvZ/QFyxsc7ltj9JM8M+jbBiUmqtQfuvJQgU2MLmcDNELRVTO\n",
       "qoBwScQSza2VaUeek4vTy5DM9kbR+yMABVmA76ghSCryjycAEzDZGbqbTBcVgff/mEU9nw3QfQNJ\n",
       "HwfRERpK+bB/VKdyZRB3zYtol18u2zFgl+c4u9IAFntrRcQcTBAzgBbpUPcRA0l9ZRjRr/cCG2vM\n",
       "hKzufqDaTaQ9Iuuo3ltONWIG8CXBwI3ULzlGI4Dm+cqZuh0pj7skLk41bHGPR69KM84udXknDgMf\n",
       "aegKzOJKlIGadYKQHFAYVpb2h7uYRQTjaAMrjZbO9tCEBLpuayfPOuXtFqP8iyGzr2QQ5NEYHrDb\n",
       "rnh4+4Ha0IScSopIKCAAAAk2QZsySeEOiZTBRMEf/rUqgAWTqMPGj/4HKBAAtpGr4oZ6VlRmOjxH\n",
       "L//+tFB4OkJbZkM7DwvmryYce4Yz5pTuctm+hzbj4S7EEU22qlLpfbAlMwEHTC1QkYEWUnpJcjn3\n",
       "jgndzCW6X2IJia/TmPsq0jBBIL33I68TLx3JMMplT0sUP1tGyXfehJALk4RtF7uji7NbCzhsLJZH\n",
       "fVUasXOgU5whd/tdE+4vgkZ8VMco0NSG9cMfknrFI0LG4AwaxI4rVVLwzswiHlE73PnzTOmq/Cx1\n",
       "rh4ONdqx/hZajCF3qWDbP1BVx3NyvFH7TigGTlIgwXG5lOEWTGT9w7f4P8yXgrsZnezPufDzkCg9\n",
       "vCvFrXviBUuplqQaoNMy6n28gl/z6m5XCI5le+6P8uedhXNuNwvPnP9Pbpy/zRg3Z6876vBN0pmd\n",
       "w2c/wgVoOajG+y7NN4FR7AeJq6PzMhuStJcPl/VnL7UkHJ247pkhrBD4R/zk5mnxAEjkjv4wdTVL\n",
       "OG9pJIZNk38kSn4dKqZJAzuf7HNnkdXCP8YGRSVHyGDTD/iY/lfwqPrInsTHnwBnZSudorfgYM7g\n",
       "/v3LgjM8PQKDUUZnhnnjqT2udO84pLQosJId1besc5MALC3xVZywGNs8rHRoRxBY03WmWY7Qjd6+\n",
       "rQdNErM1UmkMYNMq7sl0jYRQjmDeTyhFKZsozmOhhOIzM9SKX2kGm+gus4D4LbPrsCbbcRQp7WGT\n",
       "8qQfeeSIZOQrojsWpmkcCwAQVY/ltHipPOg5R4NGKCpkz4F3tDKYBacPreqmwn5X01XRCOSYbrZh\n",
       "PFbNYpdAa45zqy8Lu9ugkafNygSLo4MdlrHYaxd4qIHVmtTWwCDLQdQ6pt0Al0fqAXBqIC4B22cJ\n",
       "Eju9tXncSRfC6vH6n7I5m5N2w3EdVhKuw1AYQX2XiiGuLJf9+hREV5VY40lTnBdJEQQdheztDdBe\n",
       "KSRgDSETI5OEzvmlJoZ1aNpPosp8BmbVZazWpYQDCC+4al30D8Fi23N5ICp9Q4ir5CTlDRMYh8KD\n",
       "KiaWRFl03SEhyc2GZkNyn9uUlxcmoaf88JlUzuaTVVNSUVIY/JlJaU+OLwBuBBR8alt2xE2oR0TJ\n",
       "cJGDUwfmZkzQdB1P5WFoJ0pdRyJl53LojD7XQSVmybY5qb098DejjvWJM1B5adLYaW7CAuROvdZA\n",
       "6Ts63Z8P/u+FaGkKuEh0SGNldWdGgBUGF/fWR3TEcUY2My801AXjyzksDMHXplaRTdvyOxQbDJhv\n",
       "+SusoBYMBKOUPS4us7Sjiw5zq2Z3l/eiNLXa9ZAob8Z9JTIgE++f2crv+TVrtNDskG2jib/uOx/g\n",
       "qnx7mmtUqNNNvSJhzCFWJ5SmX9T6NHtZDqol4PcPELqOy6UGiRNvBigZhzcwUaCNOm0zKK2HQ4zT\n",
       "r27v9JzBiI9ppvOj/FHi+Ek4OQw0+d55EeJAChIcHoGxolXbGHULyYHneHqp0MxrVDEWPH3DvE5J\n",
       "V9D+BBNbdue1x7oticZncd33uHeH+Fc4fAIYdQ7OwiIuhOB5tdo0h6nv3+M/bbUDmpSYmj0rzcG6\n",
       "9Ym55DyRuqj7bY1Kf1Jtx/f8D0kubO4mJKIxmxoeDyya45CBKoB6qg7wiaEMx8AdvLvcvJNyKfWb\n",
       "0Q5w/5liI1ihpXQCfLMXe+KMr5YZUqpleFiDqN1JXIiuqK3N1/sCMeR4y2qhd6vWumLNURBiSUQH\n",
       "IEdeum/7MLcoUrZUEQZb+UYPOTAkzp82odyHtvWMdN4R1xXpDpJyFwzVIBucY86OpnPcs0Kq5kI9\n",
       "xAd/nJB9lPKS+E7gPunxCY58dwJR1ojfTU1Oz4HKkvOuBOl71H2we7nUukVD2KwUc9coOcHwX/I7\n",
       "Zl4oFjSw+Lvij2TbbLI54irBd21YBBPFrL6KgSswyr8aO0J0pmnO+PboKAALbJvoveMJNATS37ON\n",
       "499L/8BeqLNeWOWChDRX6c8tO6cDPvEODkOjvgkZ/FvDM51fnaIbHglVbBT64tyB79uz4GqdJRaf\n",
       "NGPPIr6FQI2HfwVbQy+ATYGC59jen6q53ECcft8AaF2ih+K+Grk4GK3/sO/abudYSX07ARwxEvs9\n",
       "pW5PmOmEjTQKl4MTuGj37x0lKeubbjfSW4UoIq+EKjEDlaOjZP690D6PiwoTC2ESX6FA4DovZqob\n",
       "+QhLMV/ebpZ0hJ61UdKroBDad9GaEgwR3Tow8P4SIskoxAmEDQLAxL845LyWPzdcbnZ1vrH3XgJQ\n",
       "6a5lxuJT/mSQvk3boVuQHEP92XXpzGAQ99J9B/MmAMfjfqcUclbJsl+KAjE3DQUawLiRvw8mOu3n\n",
       "m5cQGtf/T+RI5fbbU61abygan4foZnvANwYiSS4bwTX5eT62GGCFtx9hPBwAxV7D1xkX8oUyVv7P\n",
       "edZ4W91YXUdi2hYn+WT8En3nee5cPqOA+Uwl1ih6VQAEkkptH8/BTPJ9upCGlHrZI1bvCY8gz7/Z\n",
       "FrkMb627vgUmDKkfRJSZ8Tvn6cIfokC08LMn/jVkK4pK7XkTQmRQAU0KSHVD7x5f4P3DA0y9QtQ7\n",
       "RB61nLjGKERsjf68AQPV2pquSurVVoCBwHVR/jGWmpkPI4j4qhuyXgHiMTiYOXDAJLj2Z/Y5fE3u\n",
       "onTXtL12XDK/SnhmOXXg3zxAtQcusbaCTWXpI5OvufDEY+Z8m9S57EX6i3xIM7/l1woUgBjE6NTg\n",
       "ftiDnlUlNRG9zeSS8e8xMg1ry2VYzUl8z4Mv5D9ZPHQyRwCZO2swUBjRp3nHqgnNwXiclJTdOS3C\n",
       "L2kqsRqiBIRGrmLdH3OayFs4kr6zmU/mfJaEzlrgZCowcFicQnpBVLWyzm0lsyaU37u7Q8GXl0R4\n",
       "2dprxCZC/wAtRUvhacDyUPdANmOsuHWl/V+89pTK2p4v236ZgSyBqn1ljKHfMh4L1GfdnmRjP/q8\n",
       "/44ls3oJ2hkF7DMd7VjUUZyoynqUpODC7c1J/6USH4DjD8lacO3IUS5GMZKoYi9F8k1iO61BCdKn\n",
       "x/HNdFqeeE59P06dJim4XwqnCzaRl8TJoqxGTRutc6e66KjRFhz43gjmMWC0jAC0F6za8aF6ZjqL\n",
       "HG3b3e9nKTwDb8bNlHp2DPxfgm1Sy8cFOWpyaapMqlb9oBsAkrpgAAABCgGfUWpDfwAeXtYRhvUA\n",
       "cu2bQGUYMK810fcPYwaQA0QlVOokP9Kjzp+nJk7zV52ajx4hn9VR2oM1l/TJ+cgs0cT0gAtPJUiI\n",
       "Vh9+kxJT0OqIYgpFOLKMg9TQCRWyWEqSbqCL8U8HuS0Qt7Hdj4cK+Pwc7H2v/niPUkc88MZO9Zcw\n",
       "dEym+l/OcTqi3tMIphSvVOe7DRffKouU9mB/VsV5pkrg2Q0O98nViRdF1XiItOaR9PwVX25HZ2BX\n",
       "aTa3sw590vUrrAMc/9FqJt6qHq1TAAlDgzTQ5FjMZ8CQ03Gt9dotV+pps5uzPjbubQI062pdjFMI\n",
       "soZ5IwCBqBLy9bGsv8I7wNIX2wzGAASNAAAL+EGbVknhDyZTAgh//qpVAAVLxN4BRCslQgo5yg4i\n",
       "RNlPBykZzaczYE/KK4JA6D45HvgE2sh6P+K+76F4TvF1+VBCfp960SZsosEf24Du9uZjMS9exHQI\n",
       "wzgnL8n1G0kEhHeLseBpM3rqAirlMz8Xkcko5qcLPObLRnxqf7eeecEA5WNA82mE0NfGE9kMM8xU\n",
       "p0hiuCFIxHOKOnh2a2mUPGmxJ2SaBAWkaDDPohQH+gs4QvX6idBODq+MIvBj2gSZ09SouAcJA2OS\n",
       "M0iBMsMRwp2su1nsjeYAZozAhF9lcYNJkJlT92wlKxRVO3LQaNmD+9zho/RmvV/GuCq7KtP0m/k8\n",
       "zOmygDNOVH/ZBKZUw9LtTuHe3GJM7p/sztxs3I3L1/HOP3w9JxhnLRa/iS1Sh4lMfKzhiulSuHG5\n",
       "S4T1C3Rz/bVD5BjOt7t1jv+djfjawthSm7lUTRAjnnxhVNNyXkaoa2Rv+IPbI8DlMpApgYikYof1\n",
       "kze2Qnlp0nHJbcv6UNnTgwQpJ5NJ/0FRdhkHkUemy3cJrHizp5ioW168OwaFZl+lv6fasZy/wXnw\n",
       "c6SlWRTws6iZjazYGEggSku6WuNZn26dd441k6VA5aFqv4VwJt5JIInr8T4/nPs9YAFxT4INGf6V\n",
       "HzRZDlRpr3qzwK6jwxia4GpZk3QHz94SCIQduSixTwJE/bKqtWo+aNVtUbZrShRI7mfFIY6DeIIg\n",
       "pbWIZOnJ85kMxuZE/DQSqtdaVs/7zd7BG43LUlUGeP9PY/an+NdMyaHTXenppCkX1xLEpD2bMJOF\n",
       "G+XlCHjgyFAov3OGEOFu1q33IDc7upk63WLi8tvMwZmtvqgEGhr9gJrSKx4aDKlVfpUQDD4gEtrQ\n",
       "KqrJFqbCact5X0sZmqcVnd5CUqQlG0DKdVeA4PvvId6JJl5f9FAModPmH0cxxoa7H1QlMfWELrIX\n",
       "KPKry0S8naZuA9cgsXRqKp4Y+Kv4/4+RwBO1/OBSew4eR/be2QTaP78GfM4RSCzHFMRtPUDD4qP7\n",
       "P9Qsl2jhFWzERTtgFnl8F+jAjbicJ8qnwbhF6bxqUzAh2bzI24K21FdBeUeEnvQUNLCwr8981fXQ\n",
       "nJ6Oqe89FIPJLJNbbgla8TDifEb1c2hSuX7wzhA+jZREnOSIGmmimMHFN2NzStnb0qTIaSE1qOOe\n",
       "BA9Ipzb/+CTVmVIxmPZpt3jMEq81e8ZI9o05MuxPNGF7pQ8qx3HOH1uRuCVXMM34vC+ITTkmhyW2\n",
       "6VZ8WNVZmtOh+cUF6+AB4fa7hrOOWKxWzeFELYS8ypPg4x/xI+GoOuoZmTp3xBCI2LYuFHg7HDHZ\n",
       "VrseXKYdGdjTRHdviXZ1RGxU7ssMiS3/61qaGlFpPG+UOn3Nh7hliDZ7LVLczVHCvcqjGbPxvNP3\n",
       "BqYi9FhUiokOSg3Mk4biCej6zIsyuijeCDbzSWyF+2YcHPeKU3WE9JA1Z6d+IrUnK5rxv36iCKsT\n",
       "cX63G9vuw0v4xxDFRylLvTWREAHI4gHcGahqjwU+uK2pWHmSHsx7XoiGUroH/7L8B4sxElWVkzTJ\n",
       "UOyj1YRm/64v/uQCDryhY1t6Cvb/2a97ZF8P12CGp8vgUkxs1R4ehLALLNqwsnpdns0QnJqH2ktj\n",
       "9ahBwnaDVDHiFPGs/YXpHLQA5QFe2PQpVfeD7YwJL/py1NK0DcWQrDdewH6Yo5ib9FUDuProKffY\n",
       "JSpPHuAOD7BmyLxHQDJdbZjl7TYHaf2sBbHKNVJY/+f/0cvouJ0BafKqan4dBvZYiPDCZ6iJECOk\n",
       "DzgZf3wOd0NkqjUpXNaBd0QN4fr5N9ZrjcYkdx7aio2UGM22cd32DoYS3tQeOTfNzuGgFTcCN5s7\n",
       "MWHMscuGSrHoFnAIzkGvsKTgC3bFMFJEY0F2QlP3vYcCqbgVVl64Jp9xMviiV9kThPyhl9kweGt4\n",
       "BheO9f/epKeHR4d5rDE5tfVuSG4pqprevOakOy/JjKLv8W9Nu/YY+fni5R8MO8mgbnfKFW96lm1F\n",
       "pSlnxjyB/yLYxezkMQPepR7JjC5plbRkKwWm/dEY99m0/ToAVVxGSYGNlszfzsfZ8NTWmDxq7k/C\n",
       "wfID4HbV3YhOCXxmuyEfhw1hEhYieITZbkS6w/m9kUKOb9YxAA8dgAXM82yGg5Hn0ln9gUfkLBn+\n",
       "fnkvP/rVMHdrdXm2z6L6z0/NqGYp9J9T+SONklg8RXW1BFjmNCPdxkxkVjWUQ6qqR1if1X/7rVvi\n",
       "Rjx6vPTBm433dXZsyP7NcsHZk2XdeLPgJ0aUgD5pSEL9BkdnwodW39oMQyJfXfxF9gxM7XhOkK1e\n",
       "op3eyaR8TcebDQElj6PYFdW9qKyJ3MBHYaa5xres7repj2Xc2/ZX46MLIJ2nmT832Nna8qFlzDq2\n",
       "AWycuQ+Mks36DkwkK8rT6ZVcQD0xRvX36nZppQ5vDF7U/z7g/RwySxmttEpgXj51YVUArkoTMY7n\n",
       "T2RKZVzsR9nJK+77g+BDHfc7nDW4MYeDWCq1VGWfvDshZcNZy5gsxmbjeSGDVlI/Xr0izzsEZ+IO\n",
       "m1Rdu7t4/BUS6WO6UnxsyPmAJkr1dhhtO8F9sLbTza+OQaHGZG3lapJDXkMQrt8gecNxrhihWsEs\n",
       "7ih937y+s2uf8LQNsbJs2tv7kvSIOwBRyp+pnlHNBaTt7tqc2g9nozwTlHG9FYHQ0Hb346FhQwTp\n",
       "SO+pkcQpZrpP9UARht0hECOCc3zOyK0+VPyryZPIGI0SrOCoRT5zRJocV9n3i6UKdHoaqucHrDng\n",
       "l2POvJfaOHjpUTqrCHp/RPuvv2f7ByTFMXx1Al2vWa726GTaQy5CGWd7Ej/7fgeZXNgaD8NWHrYh\n",
       "iydwGX+cM3N0tvPbgkRzduLYIaqm29+ktvlK+bB5DFR1ci20DKmHjoaII+W/0zxZuXzfsQadLXDR\n",
       "XGCMO9gyzA5tURfJoa6vTAcg8cm6YhGSpSG6VCFXjqVW1AAMS5feqt6gNGqEXuxWbDxOlAhhX6tL\n",
       "N48IaqWEG85+HvvGqaBGny3mrjNHYwAKBCA/FAXjIryt+ATBksnV/w5wjnQMaEXbRymbQUaghQsZ\n",
       "XAK+Tt7b3VCewu/nWgZRdq0SzgYevTZzvZ5MIJyaYOf09B05riFXlp8zin3S1POiBq4eVm3kXOWZ\n",
       "lhk6mrf8w5QwnnpZaELyIdV+IE5b2leHg5vq6w7RTh6VnYUtv4WGuM+N5sAFEN+cALvgh4RPAS4d\n",
       "6zuf0Jg5asR9pG2sAboWELDMOobIgexmZLippajjyMydpkDnpikcSeY25b0y91jaYgb5eQ42fgso\n",
       "U2bEuswBQ+AoYfxYOny+R1wLPMglDkAb1BD6iWmGUJQwkBj0devwWp0mVeLaexV2ww+nNZAGsAjG\n",
       "zoddMQjwW6wMEcCO9QfkWVnEjKug0JTT/9a0JSV1yH+aV/oRi9FPtWXoNQAOarYYms7dsU4wooiU\n",
       "96PrLiXUTKVYSUVyvnieFnp5BuvfdWABaDUbUghPOpzRMX8fnAAbVC/C9ySwTkKnLXvUFIP8BV92\n",
       "IXLOy9ixAbhmmLwXYeXkjcg7BUUNvNDO7Bxs52JRfs8FPj0X1cGdUcfsmNg3VbtsHibF43yWJlg2\n",
       "1RuQZwtDH4T1kkw9BS1J1A7IhbWjvnyo5/AOnt1BWAmMNlQnz1o1QAgILpfJBjNgAc5jSSXNIQnC\n",
       "GgxrzJA1zNV9dpqk9SHVV1cJx+pKog5talHzHK/NdktLdMv+26aGlzenN56mfNRGgyNAtN4Y9CgT\n",
       "WBHomOTmp71iMaAob+q56IkDJayiwb4U/yVEL30qDrQipUPVz/P2T5BG1tzlk4zOx9xwCQfm75L3\n",
       "x6U3civPWBEoFC3Ylj9YiC/fXOGJmMlA2NVpPFHo9cb3BgC/um7J4oVogh/hb10R+HLe/NnP3Hod\n",
       "9IsfVwtZxIjL3WrBtGUQ1/y30KkS4rdDtgcVF6L6Tt5oSVCAvjaRcxIi8Hs9/6Mox39NQvZOrvi+\n",
       "tJ2nxnH5q5Cw/jCVJCak/e8APi2qm0WtCY09qxAJlFXORrv2wb6SqQ3G5KGwNaGK7qJrhdlCTlO7\n",
       "sgruyZEIkVPO2hMgCHgAAALaQZ90RRE8O/8AF381AA7M0iT1u0nUXl5iCtIwYT8MSkjR4N11qUO4\n",
       "kKEVu6j76/coMiylwPMMN+IWh1A+B5yBPjBlKeY82sphzjJHeRrRIC/hEqaAB6qcJfG8SHDDnh16\n",
       "p/9LAO1WdRPzdaASz4ZEtb3uEfr1ILaxQ1lyjy/ItruainN9qa1P7CAI4bmBdB6uo8vLdcEbZ6Ak\n",
       "OucVVOjNzXMr/luHhQQw6WBVF7NXjbD7Ziywil97oAvtSfpqxdKbwZYGdnQTB111uSzOjuY+RJL5\n",
       "8o8O6k0zzVi2owgEksXpWGTZAa+V2ZxSdOaVaPp9Om8tjBPlQVynKdI+DNcbD5k2ya6dP8CF1575\n",
       "l4/dmYy8z/mFlAKNXhNoCBe/U89IFufW6xnRt/tjZuH9FAnD4ceeSDVbGttLezQ0eVVkwqkU5pcN\n",
       "JLyeb2evFXDqHI3zyCuY+rn+NswPw1pvB+w6bFaq9/5FPyjX6HKg/Z7H+A62aqWz2NPbjVCYq8B0\n",
       "my4iFM/j0oaZ6FpDNi9ypnskaPlrE9vQ/hgK1nqjX9XDd+uvOgFTMsPTpCEmgy072F5QAiFvuNoy\n",
       "NqDrThnLvBbxKxceM1gmwoU0cJGnOcqT2uROYAw+lwsOzviTZpYqZoFnfqejOlJ4nkRO+vfY5rj2\n",
       "E2XRGlRL9R74buANkIwwq7rOrXT1R4TG6E+JiGmnKBSpPT6WEsZnUdeNNW95FEz0I5iVCGZkDsdc\n",
       "H6YyFcbfnsJ0FObDlQk/9wB4xasX1K88hNxjPf0buZPaQnLcLtIeoAVuiLtbUD3rUaJufmLpyAEZ\n",
       "BGUOM8Aq/bbjEAsVNRKg4w4C53a3V+yBAsecp3RanLxwUay9JmljPRIsmP7irWpRBXvBKRRfkGUu\n",
       "6/hvhfzReE3tv/nZNFnfMzjv1H/GsX5UHv/mGm7YVAr670MW+PlryD1KdXpuvWb7fFL1JfMYpu+V\n",
       "aztMn6BswAAAAakBn5N0Q38AILeItPXlqeAjVLY1l8Yvgjvw///ybJqzKAiyDyBDIiYWT/yMKv2Q\n",
       "Zc10B9sitx8GTnHTi/NOircXnf6oVrQAp8h1Nbv91gZH6PjsAkwCEzZQuC2AlKDseX8Vnhr8dP48\n",
       "SP+eFi3JY4sukyBXYQRPyV1U2D3BnkH9WKM0nRblOT+k2L7jSn9c7iQY6UU1keiaTpDQ2xQrggzm\n",
       "tPoLtFPKQps3nYo7V4cnccZp3+rvfk0ZuXnwrDkbc0ejgZjqaLOXZyLbWhcvRN7BZr6otWRiijIQ\n",
       "tks+zXWOQM7HCX+hT44AJGvyXLBDOf1QAvrHXMLGFO7p5VAvMGnsuJfcuVDZF0tgzTGIM5E/IiOH\n",
       "zAnkb0RuM+6RoD3+I5EMapTlKCllsTiikoob2C8FBo/lNkrqGvYn4HjT5rBw9qakoVPntFgnbP+a\n",
       "PYMteiOVqHd0oL+wQK7cn13dAPSyaJk5UIZJUL0w2ps5mlfC4g0KhO8Oe5o6rQ9Y4QmK91g9UKOS\n",
       "qa6GUcHOnANr14onxtmlNq8dWoqTb6s5wU+4WTEMo5j0inFi0wAAAVUBn5VqQ38AILGSkYb1AHMu\n",
       "/Hv9HlVZQAEHoBTgC6CF1oDcblj8dTmTaFUD+lwPyI3QsdEtzLv//xWfhJ9AZk5cqKp6/87J0sff\n",
       "gJM96S1ldN5mAfeIBFWx4zyYlmDwfA+elwTACzf4wRvS5uLWKRxyN9LKuIoOi8+fktLEpyJTxUz5\n",
       "KSkdd7/w6SkkP6cHyJAzeIHRQL+EfsSt8/StmZmanI4GmBpEHHa1gULCej17SFfNSVUER+CfuiHt\n",
       "f0Sy7ddKvYqs5/3odjULxLf/hP4+1kO4oymsK559bRfc1unEM9eB9VH13W3Xb3Ms6bdhoZMofLPN\n",
       "Tpkx0fuzo6Yg3D/TRZ+BpyLK4+acaEd1wpfmfo8e76ITg2NQ5giGrU+40DGDmDZe4YVg9GPTs5GZ\n",
       "ArHjTpJf/V1NcPZhgNLOkRTEd3xi2wrlyMiyhzG5pAORIEa2hAYVcAAADtBBm5lJqEFomUwIIf/+\n",
       "qlUABUu+qADWxBLSg+CSuBz/lvGMl1+JR3lZamhy9G6XJcXkwNYM/m5Cm6HISa8q9CbVhoX63F+f\n",
       "dCUd/Zlq8lH/UizhGVkLNDvwjErtIAIOpr6+HjFPE9D6nCjylSIOxVHlXCB3jX8NQOChlQ2XC0rJ\n",
       "uF5j/0EIBRFhFcMUMgYyRwKhmf+csSH8534mqvQCBi3usZUrcCldQnGAKdzJ59+eXcgTlYdQpTMP\n",
       "RmI3YcACuFaxWFn6sm8Er4tAlGtGIfgO17wOQKy0yGKtpGbplZG7dNwmkvLTiZEPGcV4EW7z3LnK\n",
       "e/wIp80ycmM4Gjmh7EieExa1hWtFzDYpx7RRDLFpme0EOyE72yb2XtknGp7eV22EX+nH2JjlDcq9\n",
       "tdhcWBfQ44wabdnRcvCZpNxPQ1d3vRnGt0kD2rkL8o0Q9uuKrw4b40m0s3GMEBmt+ELZCfW/vHbc\n",
       "i3x8ew0aXvXKP084+gtyuElvbPk+6tk9H4A5XIECoVzIsdoD3dd+1T9YgczlNxIxvfjOYkJ22g38\n",
       "C9wfh5d9ExT59TnukQVatVOpAB44QulD1pijDDNxZBwfk0UPcBKjIJgdhvQdOwYDidWKfHn1LccN\n",
       "5iaJp9Omlg4R+PNwmg/gOlFVLwt2VumlUaM7zcFcWBzq6j1fd7qBe/qVscX4KYfMEJp82CUre9t/\n",
       "aZkTDrYXXBkD4byp7pgWYtxaZw41jkEDWwXLcWKiqi8M0uuEtevZa7DEKy+n2mq7ImdW1aKeEouY\n",
       "fOAoVKrg00NwiDGyuTUKHuU6K3TFtVUHeR8r4O6aB2sN2OpBDhQ8hwfZVOQx2Ypf0lKmh/DLmdBD\n",
       "lYENLndOgwutOH0hfgTHRYslW1CxChM3dh04CgslZDQw22c+ujgMQK7LKvhErr6GsgGnQ+ZjrlkR\n",
       "LmJEUIO1WoOcmdd5QmAstF4NQhZVqGpwsJwfgba/CejFBlN17aqLyJvyzV9zzFUNdXR7f0SxHhKf\n",
       "rtLO4YcvtgFd8ff66h+fWPaH1z6wh47FVkJFTlPXEhUKahFstTr7mPGSk0gmRpV/ZSwg+KI2lhex\n",
       "7EygcNm3UozxEzWp4oLJm+XaOssQv2X1JbdDh1II6j9t7e9aKtVandhUaj12qfvTIZw/Y9eyu4Bs\n",
       "8jlc8eOnWTjmQHKHPw2KlVw0bAZ+qENLo0gHrEHNTkiX+dFqLxHUsctBWVkB7OHlbJHTDToiBK9K\n",
       "i3E2TRMN15kXOZMfW8VB5DZ0EB4HGHu1Ei4l9FqJBWDtFAsE0AFoqrHFQ6+mPNGUj0JH9x4PDZGW\n",
       "qHGhpvElGWh4hP5z5FaGOv5YenaZJHUXDDKWKUPbi6wLHjkseTAUvl3eRkHr4hw2A8Ch65J8Ml5/\n",
       "a1SPB+s6LDxXiBoRKQI6hdHZMliheSvdFSqcv7x16rCgch5rf+2xfxoFlb8Fk4jPPTp8GBEppbT+\n",
       "6xTwhaPiuRoKfwR6Omq7KI4V0R7YFjWOIZMwNn/N9QNcGqVkvly9Yzdmi1xmVrWrVT1p87bAx0Lf\n",
       "VX8tFHFG60vXdwmfHtDhXS74rEtKhWTdVCQkA+f8AOTEvVUbJM1v8b3QirEQNl098N+eIh2h1DCk\n",
       "Sbp22AObjaa0BdbM7ItM/9sGyZPdZyuabLnCf1DP+mjHGnpSIlRLWikYDgnOxfgdG9SYjLIJlBmt\n",
       "sUm0FRnGgUofiLYxqxeHhJ1PoUglV9T/R9dy+2PPRgWkPqnT3Khrpvy9kt1Qa5KKi0qMK/eMA1Cz\n",
       "yeu+WkONjzic1u8O4jsWQXIyMmCs4c/WbYfUc+AuNrfhVWr5mAS3BPMK0jpvVm3vo5D5Ng6vor07\n",
       "LLM08FbJF6yoxESAvG5TgdIfSXPik4xovRojByJ2WIpwdRWf7AhGyjFEtpHJuQsrDObbSOkSyZru\n",
       "o3LN+Y4AIaKgIdCd6KjLkPAXzntxoWHJjv4UVi7Cy8kgT/wRbDiL21rwkHqoiXnW8QuLSQ+fuvpq\n",
       "/dk///87SqLdcII7YOtNBZM155/gmjJX4alqLnQIdFyBQemO/NJLi4cP6O4926fK/SfZS35FgtGO\n",
       "ZpJxJV7N3f4dlHROy2j0siOG6zLR08rd+AGrCR3r9ODpSgU6sP7SP2FF96P84reDlOlMz8lgZTzD\n",
       "DW7m4OlMM0K3eNDFN6CwfHJkJdX4r4qS6cAaz/tRYN2aHIy3TQkHmXZxm7iNqG5dA4iwIGwyedIm\n",
       "uxfVXfrYqHWIbBHIXevu7llZ7bvohjZLxpsuDeceQuMyV+rADP6sBVdzl8CYWHeF7MpKCYk06V+r\n",
       "232YxiBV2Ww+a09nHXQae8ZnfbaXrDWg8WHjCQqwt7RI4EluYOjkbL30M2dS4AfdWNyNiOnLQOOe\n",
       "jZ/nRR6cIRNysSA8D28+Nn5IwNqQy0T62ee9Fk7oRgRFfY2viBxKuouVHygDMhjx2Ushs5vFu85J\n",
       "Noq5RsZbp4nbms5h01IIkgJPL6zz0bRCGnlJ2fZeK5vWOlFlOJULqxs+RcsGGjwOc363agUQYalt\n",
       "R6g5UXiqiTBtpNt5MYlkq1ralvBw/giobBGzlt3Ba2ygZe3pZMVnVEmS7R6MACYji8kf5Yck/vIg\n",
       "3p5uJZIeqX5h7Eap1kEGd5/pNTJUc4BZWNnqjnjn2DJktm3b9VrPHt+jjqBsTS1k4jDoPnho7sjA\n",
       "JdCylHUC41G7jH99lgj/z47M/wvETiwhCOyl6CfsVbfykZkAe3PGH4XtTbAZsQuxBWW6LZ3+IkOG\n",
       "ZhNIKHtg/bx3aPqSmc4pPMm533wYe/lt2Ptnfg7xjw7LHcjVCAfeXx5ZpodPQ33yn6UYCFX0GVG1\n",
       "yyY7Bcc4RdgdTcyWqzNFM5R6yAbIB4nJt0aawppwUmHoct7/GdZhwQBgzkW4AYfqViYZvJs6ERBa\n",
       "oTTgW7qhK5W09fxE5IfBEAWf+ACCujE62tHVP7MmQEp6fnJLC+66Vb0UBmfCa3hQNokv+NdnCzS4\n",
       "UVtf1lCIc38TqSTyZnhDUgkroC/Ymi1xGJDQQtgQIzOPi2LBsScbnvm5Aj+0x+UrRR3N0qfd6mEo\n",
       "EL8HTU/OI4vbhf7BR+netrZgK5/IkByl4q9bqv6HOTIRtdnlfZB+ALWdS2z1OXk1ZnfyNlN1+eJJ\n",
       "ietGOWi8ujk2Bw4vLQOahoqMZk9VXVuP/36saQW1dqraYopH784K20MbJwr+yL+lm/1M9At1m9db\n",
       "KgUxg0BCbBDGq3JtbUf8yznqfGr0ppIBVwnb92Q+mCIZgpyGfDYONd/gHaWX9OV7Bbf4XFjkt7mn\n",
       "4/35VDe9zc5YoE3cQT78Lf1t5yxGC+yNgUDqEEk35UfWza+JphblxWn6t7woP6S2Jus2CrQ2QeIZ\n",
       "+/AkdoYmfJ9lBXuvfMniBb0pN260E5qmSEH9vBvV8mgs+KoSik4qcYXpFgFglAml2lYX5PeKwwBE\n",
       "3Hjj9Q8Ekpeb1QufHq9dsdAmY3+1SHJCbeGMNVmduOvArzR9D/eZ07UIqR4OP5SEsRmMkn8P4DKz\n",
       "4XdHCrTrb7Cw3pAAtuxpbzZY/qR4SL4Fd3iV/YPqMPLi7jGjw8lw2cf1aM60OKCxTKfksPtw41SP\n",
       "V2ENHT7fddIZcWOew5Yc+SrggswKnopQ1aOlHqBucmV7fqiV+3wrY1vSn5SXNUiyhXWUhoNmsg9w\n",
       "7G1Zmhb/2w+ZWvVPkQ4SzaA+uIYMWUMJFbhzp9dS2ItYAz4ZX0r1tbUjRLOusF916paA+AtIA8ey\n",
       "sxSAoSm2el2ni+F8ELf0Ylo64ZLrlpn4iTL91lZtOUlVvYxKFY9fha+UoDB/FiXLbQqkSRxqxKvp\n",
       "HDV9ivDOAVIO6R0AF3Xjr7BqzmVWTx1TSg2S0Us40o3g7RRfMK1XoAnMNMN9XBXhpK5D+T++q3Oq\n",
       "cDxyUJslNz6GGhu8QFB1gW5NVRvH6okH7XKjyiHaIlRmQQRLPiqIGXmf+1v4G2HJWFYn1xD5O/AX\n",
       "Z4xpxsMW2jC8fQwYLsNX/O0bmOaog/7VGqbBIcwyWDOmGuKM8cbRraWsYmx0doUsCH6d9ehhIoD7\n",
       "7Du2RUxIbZbQe+Et8ehHfhH3Wc0NJLLDN3NEl6gpraiLB96tOhGG5b01wWvUJnesut8apTgs0Qj6\n",
       "56vn5jS4BBCoksSBnvE9/spc3AHCMlxKampQg/UUoT5qXQj9wpHPPT+KIo9At0wu0Y/+P7gGzNZK\n",
       "9z+i43qsmGoEh97v6ozOcHOPRNAgiHM8S0JAmIMKQDxr2yDheHJ1nGN2C69gshxn7475bOEY3/Wi\n",
       "c7Vzs6J86DiOnTiPaYKXsr/zc3C6q/cakNRx84RNyu9Ii0deu3tZbfdZoXoWpwkOlBfhm/tlm1bi\n",
       "GzR3A+mUJoGIebHWO/NhNQivmH9qrq5JCI7GiaZU7nVBOdJGtIK2qwegsLP8fR/Z0OZp8zdBXjX1\n",
       "OSgiqb/DvMUMkaZ91Um6ciuAFPza9OgbmEWhFAYnmj2Eqnvp/AddxgQWdEb9YQELH1l8bUCXYkt1\n",
       "5jFWNhqi2E5RQtrQXAi2SaVwRK+MqIDEN2+2I03+enkMblG9GF1Je2de6uNVFAnYa1faY1RWpze6\n",
       "3MR+Weiv+bzAZcpdnoCldeifFtJJeFN27xj1Z9NaLV14YVp1pI/Hmfnh/PAeFVvtgVZIPRbzXscL\n",
       "+1zpFsw0lO6rg73e8svta+y+reRhjSSqw5STYNmfJAL8nGtEGQggKcXzlWRvTmGTD+DqyRhWSz1C\n",
       "O9D4mKznIc69G09Hr0S8HZdf9lLSOIXe3SMq6M/XOgZwS5ZcE5TEHde0QnB2lfo7Rsr0MM1DvspL\n",
       "by5hM7SdWKRbxNYCulCt4a8nliXozNAmZrIYJsfhNXESHbCUZ+0RZ6Tu1WnP8CqPr9Xcb1RnqZeR\n",
       "nNa/+tA7LIZSJ5FSkdiD7AS5yycxM+qzVrHgBac6LjAsjIOLkhEp7jkVNdqFw/bSZW+7iPjz5Sk1\n",
       "Qtf3JkC2QrqKCLBNYFxQhl/fH4BGN89t7wXmCiYx20/lCCKOlppt5GKP1WID8WlMh2zz/JS3A1l/\n",
       "5NKpPZQHDoA1ytlFVZpKU3EAAAH+QZ+3RREsN/8AAT5PEGUbjy6y8YNt0DjwzK6LCTImBJPjVwaH\n",
       "zShFDTr7ozCJMlfBHdyewPAAABfM4kSV7Ojr8rEIknWxzdzjOwIWncJASx4f+8clFfnb0tHFS9Lu\n",
       "MtNuxnIrcIAcEGTTKDSSDnMKsWprQaF89+PrmjU+xl3caGQraMetYTY2OKMplQiL1eiSMShh8xbe\n",
       "BMu7sw3wDOsENp8bZsPIRFmhK9vaHPdkRjkP/zC+t8PP6lrZFcKKGZxiHRU858PubhlVydc5FTTv\n",
       "QoCm8+PqZd1G+cI4Zio+q+qgeAA29ASgfoPJsYi82s5Wq54ifUFYcPA4PRYPwGBrP9iVExTAAbxj\n",
       "oJpiZaKLbzjM/TMNEfCHHq90qAM+c8bAkl3llxtJG8OYD2vKs9SmMPdFSCICK535E5RoS9JU+1S2\n",
       "8BpaWvkFvIUyOaa9gh80nngZRSGemL3yYaqY6YZivRAsNbQRpzbUKrN997fKuMXBSelLNmRsJ4dw\n",
       "c4PQmkvnmEUgohHhQd6lYxGtUUrsLECGwoXjBPk3K8txRoJ0luuI1gINhM1DK9/Jxa8b3sjyRheF\n",
       "tknCnRmmeUyybCAzN1cS4CEMN6uRTrn6eGBIRNMPZi12w5fgf9feAfiv3j06uQPsHvdrjHVwPa3Z\n",
       "mfgGj1hCLCSHT4db0mWQqD5hAAABDAGf2GpDfwAAhtewhWszoAO0/4zapWzMVv6XlCso2ooVIKwN\n",
       "BABif7EkReh/+tW7XKnyPWI+57ud/HDR+Lj7CUfxN7wdk4oT6/BvrL4l7LC6NdkCusm9GrrRbUhG\n",
       "vbzszIkeeiTL9B+Iz0EReqe+2dl9uCk7scubAeck+R/DGSmZ7+8g4tKqGz/EX4sDkIQnWIhZRQ1h\n",
       "pAOvMrOEDeIZmdXyiunis5X8QVu6v9XaH6WDXwG7ZVyBr+0YP4U1uNl288sHFAzBOaGSIa6/OTG+\n",
       "Sew0v9tkwRfQP4rthQXkrLwaHwmquRz/rA9MDJeKp+F1My7Z46OX0WjwZyK1PgfXJ7+N3RNlJ30C\n",
       "Eww4xxwAAAbiQZvbSahBbJlMFEwQ//6qVQAA7p5IACfjFTwXz1GVLXJvPl//9G+AaddnZBNXebY/\n",
       "rseCFiVbJ6MChBy8SLosW46JGVto0kgMotmm38TG5OG1tem0bNh9HL3uKVnr+nEudKXCbg3CLZ5X\n",
       "j7sV8zDo8tcTaYz1jdrC99prK+juq6FNJGflFZhbzt7vX9kGIf65gbHRiPSkVR002C6At3soBtKb\n",
       "Bj6S+PgHvbBg7GeZFXGl4xiy3S/XwYIzFnQyOLX+/hn7GV2PjNudOXgxChxEpmL10aVPViEemDng\n",
       "h0rgHrSw9m1p7DTZ7YI788ZzL/6qXPV9bYvwWsvzfrl2Y+1Qa7MCsmMcw4r1kaCrpFlX4xw90j3n\n",
       "Mig0U6hzzujUv9lh9guxbtVDI6TagDvuF+GJZv4QBUDmVy+E4qeLDyuB+27KwIdE+GU5oOC8pgV1\n",
       "is6pQntora37ml/kSkrWKYhh9CRX0ZuXgIGAU+ZVocwwEBWnEvpljZuUahXIJ3BsnfklZGVzOLiu\n",
       "ZMrbigyIO6vI1DPcHIbTSSxA7GxXIr/NKsWImGHZKXknXGb/LEsswng96jtXLxrBuf4J+cIYoN1M\n",
       "XSjn73/AxWuDau//7PqsEbL7X3++eGfSLYmwH3hN8lInfOnq6pv/zSp5NiS7jt1NZ4m0WF5gxeUE\n",
       "VQSsLWd/bZnkUWosN0kI0xuiLZVFod+0h/HO7giDAEpb+cXCLBW9PPZ/AIqPh9NxnuqP4x4XdESZ\n",
       "+2xmMD25iOTsUhRU+u+6GyGdMa+HxwLEWsDUJ0lGXzAg2ZkFsP9Dxu5BKZtwUGZwjyNq53NjXd64\n",
       "91p65JwMmge/sODIZRaf/SedZd/vvrWmveYIDXGLLj5rAA/E/cgdk3BN8SyPRb3RaTjaUAeQSL7Q\n",
       "Z0jqWvHdyjT0WhmmOcjhqP/34bd4eE5TN+UVspp5HNZejinVxCVmpQ18/JbwQAkaYTaTGODdkQXZ\n",
       "suQBppAcGbeMhGLBpjBEfhcoXrY/3xKv81jngZFSN7g38L8yVMJk969akyZkoB8jlNuNTgHPhtvr\n",
       "O7G93XNlsDMfZrnS0SoMTG1oXjtk/ddGf/Q/zMXqRvFiVaNhpCNe/+OnK5rgHm5L6bkW9TFmL7RN\n",
       "f3ZZK6f7Km2SyLm7oPfyPTYAjHgmnReQMWJDm/RvpCaxvafn1ZUF4FiNs5kYQ0Dk+8ztbChYAmJZ\n",
       "tqlD+s0I0vVny/RtOlDadtkEbLmixQKMyb/fw6mPy3fdmcd9YCMM1Hu86bd2ZPGq0xBwNlM2sBPu\n",
       "XndWFRmjuPMQH8kf93H/+5tMWE0Qpo+tKFzi7kZ/eDy6MF3Q6aaPzZcFKB+Zct7n7n1EQbNRRXta\n",
       "VHDNxMqKvOpCZdPgjq49LLRRtt0hxbcJSjXf9FmLFcccGJ8lf8nNznOgZAmlxQeBYVcH7xP/qzmo\n",
       "5AK1IeUtUPlIeHWJnf+4jEq1yJo8Lwy9136Wkp1ZK+CYqRsqg5FjzBfA7q8qEfpaiaHxXsib2u2v\n",
       "3psIjAFEdgAx/klcX1oAF9AU4s68vVcz0VV4Z5WRvO/2rvIoHhUI6N81Mn55aCI7y/t0VbFFyHcQ\n",
       "iAgpxN51l70MKwNsUcXbXpiA4Fzkgb5183R/VWdqMtWhM6gGo5Nq/vQNdS2fcDX9wBcsU7XwhQwU\n",
       "rxz4EwTiXnyWFax07oHq/fPBjWu/lJGOZks4jOhPEVaKnUCgWQPObQ0W0N8CuxCS156+IN+CQi1S\n",
       "PXHFljkYcPtgbdOEVp5KQjBsE4BzNxmMouEubO1x7MM0eMzI+wUtkpT0TRRuUggUTqkGR89s9361\n",
       "+dDpMP06PNwkz/cFfBVLOvwe1KMKA9nTGlhXSvyhgtnRfMgMPLsoXL8uJ75QwUaRwPEJ4O8puvrF\n",
       "8DzPRLeowBIdc1rEBciBzmasNLTdJQ9LznLU2MRCKUxWXdxRnu6zySGi/UWFNVGKcQ08qGwjr0Li\n",
       "aTI2UV1DynMHoLr0cYB8CBg1LBBCPxsoHgpdq1nRdA/5OcQo2ELdQMoC9f1c+NhW1mgZ1l4eUhzA\n",
       "1q8hIZOuS9+v9TnsDoeWxOVcLeV59hhqMBT849tzVaTdEVCRZiaoP/mNwUeFnJSfHBTIRkLALCT0\n",
       "feTwIkfOgmt5QnFjRfekpaFNZ9V0CD8l5Cf8ghp1j3vZM0Y6FcAS5QjuFUjYqdLjOhuak3d+aLkS\n",
       "I9W86Gcmx9SAIUe/yrfpcuNVTK/SnZQAKd70JU/Dntdi+V8eLkcSoj9t17rhLfNBTOrxKrOmGSgZ\n",
       "Y50s/DbSdD+eHZ2p1hcEm1Ov2oqW+1KfH3Ijg25fGEtLTGFIpVx7/O6K2z5irrXiQXjSCdeD7ThP\n",
       "gACygQAAAU4Bn/pqQ38AAIbkZHc0lk+w+Gw9wvGsdohDHigwjt9zAw6UG7sRnEljo1LcZaYm4uo7\n",
       "QAGeiTN1QmWvel6idEkMFz//FtLVsjDzyQcntzp6yHsCze1E6bgkP/YLJhjccCokJQSKJCugJOMA\n",
       "sDGMHGSx3FFyTrcTXFi7kmhnjAA3xOvKyuYOkrq4xvmlEIRfpqqsPvH3kKeLWc6rla+ZT1LktRRB\n",
       "sE0nZTePkvI4/4LM1OMQVJQxE4DRTMtCg4g5Qj6xQu5+1/eKcoC5ctvoUBfRO8RXnVdER1IGYDB+\n",
       "PZqzn2/TuEezAv3sEL6pBh8BshTkludd290xDoCKAx5CZ0CSLt7Zg6InBsvkDBI94uJhZX3yyedM\n",
       "k4hKnRfloADPkGjr2WH/xCEzKn0fONxbQzpaCrxkAY/ZNvN03xCL3Dc0hsykBa/fyADHlvp4AHzA\n",
       "AAAQZEGb/0nhClJlMCH//qmWABoNMS+vitUqAGxsNuQAV2uaSjb/YhrzuSaVTIuRJK5UlbzOHCzI\n",
       "rVGDvFbSSJ9jz0J8I5nsuhdRUgBE2xARJqJapQuTln91KB/PdVmfHYUHM0ApBn2qVLW7M+6AHvDa\n",
       "KVwgNGM1g/BiStW2b3oDRIsd1lO2KkXUOZsXqAVndQPUL4OLXsaSRGknpMQoEI3t//wh17stgVv3\n",
       "9YxJ+ApTyvrUCJar9iYn+OB+BAYJ0eC1Tl/fsSOPBGLZvV0c04BrxV9yomYYOSX3b6AvM3VdRLFE\n",
       "H6HvZGFg85CPx2i56wcm+TaPHFUYS3aWdLg52yq0PCAvbBru0YoUTBx0oUxPHObbrQcAiEDWRnsB\n",
       "i001MY+jh5eswKdXa3WwGDOD9yMLbwL0ujchir/mbWhzdoPV8H4otGJnfCpUkxgEieYB/rxBa95S\n",
       "RcPbWrjZPSAs45uyPaU+j6HXuwtnSVc7UglHynXZ2IriyW5gQVbNg+hUXGQehQneABaYmMgDdVRB\n",
       "1NfU5aSnz/TSgeW2p81GPOyKFTPixkiONrJVUFXcpVwZyezEeLPNG8y/YQAIx9im1cbzg1Olr7sh\n",
       "fw1QS/AEWWd/2zfh6JAgNuo3NKDjQZsD68ZTpyl3UoriMh8XrC8NoSnwKq+Zz0RiEdPlk+FIeS9L\n",
       "Dd6MfD/JsJKzEgxSS3V+xVl447hrq6VASWqMKMPOulyjbfC28aXqyEF4eeIyLKss/WxIoVL2s9ny\n",
       "BCbADMsHBvY55SVscOsrZncJD8BHuAMUzKI+RHQQiWx7ZcWeaYDx2mWyP7ai9KTUERxR2B9Hptv/\n",
       "4SP/H42vnT/NrUhzkxy3iXGsvAFTwv7IYJOMgyX/X/P3tF/z4QHJGLnvUVbUsZ2ItONGttrJHhEv\n",
       "yvm79GVdmVBU2HkDLwD8E8cYt+V6agFt1spn040yf0RrykWA55cEV+PXr+1bC00/DNLMBGnjAuVI\n",
       "xTN85ncPURxJaWpUWGTSwBLFPXvv9vxE/a29O9dix3OSSn548LythLCDMSuisz5jM+NvrkiSuE6B\n",
       "VikJ6vKjnupjtIKm3+vKzE7lZSV3H1ftgqpNa07YgPvD7X/LC0MDLo0ytJ8BaDn7VDJnVgtIkRLs\n",
       "QJ55o1tSvv3zczJ/kgxDZ4NsffxEBM2837W67B+f2hx3v+FMYgwGCbzP+NSsncvFbNqYlPl93yOK\n",
       "uK+kVTy2Tj5D44jEkKWk/CBSZpxA6MgsOKKdjl4ChSPeS8bGKxZMjhy1L7qDT8Xd6USdj0aMYt/6\n",
       "4T2aF6wL61ITea3fBRSjac7f+L1FJYCzAVBcKoALnBP+wLcUrC55pwAU8YiOhNiC90U2UbGLhhoc\n",
       "FkOfKFqiUR+jB6MDnzqblOc87ZiYhvJn3cDkBGcUjvFj308jp+UBc7WbEfaEHPwURgmqD7IsuC2d\n",
       "EK068gAwTRdN5xxr3//HnW3bnY/eARNkXAGW6uK0q9M3UwhJBE5p4IE5yfmQN77P/RZyYG2SW4b/\n",
       "vgy8mRv6cm3NpbeUri+CM0MPBBUDgpZV+cxtJZ404+oPXWaztkPnVGbkL4iVpgzckGz4+LEMQEa9\n",
       "jgcO6U9EZ0oBDf5TbZtLEPtGnt4fvh1xOBdsRbJC0IBnXnJbE6SKNx6gQ2zSDMmwxBDlFTSUOGgp\n",
       "0KCGXuGCojBAkwk37FNaWFm5pwv/972nTPwQ6vVlgn5AdgwPhWnJ8iwixwxRC9IsUzQuq+4OXz7d\n",
       "RGY1vb761fxzScJb/9cuf9oXxdudtoiZVF0unjBSfhQxXgAfpRBE/xHVk5vfx6wxjUmZ9jKPJ++M\n",
       "n1+3peeKZYYhrN4jIeGboXlVyRjvB7VJJiRMJVWOupvoyr2D+Hn28jZh3EZwltXd6Dy9ZdDiqO/S\n",
       "A3U40kfQNp1tI6OGg3g+p7YOcJlrtlSMzHk8V/zzXW7O2x5MsTYh95Y31BgRAxq47mjzouiZKEvL\n",
       "jXCKCdidfaUi3uHTPFQUwUBQBi3oUskYrCnSP+BnXUm+EV/gpwAETcYuzudxKjbeqm5flnGZ2hQV\n",
       "tjiwgSmb7YSbaDpW/DTtBQzYlC2mf68v0mTJR0E2BtirzGhEIb2CgQaJR8Px8N8Crtr+4RXJjrpQ\n",
       "dneCZgz5cOVUIsXQXYjWwRH1qDvID6mfneXGrp3YmFu2A5+BA+VRdv1p0AS8INH5EiWStbNyZyKR\n",
       "ER5aCZ7I3FImZd1aace7hfWQ/zadJjBi7q6d6nRokAbiHjWBhsUwD4Nx1Iy7vQGSsHJljkSQU+qK\n",
       "NSgCkHYD580XuEzo4SJA+VoG4Gj4pzGic06MnC6vhEkeuUGp3IQXndEdcJDsRO2YpnaISI5E/iUL\n",
       "jJNrOc6t5zVzTIkapxpf67BUfltzoZJ+rOpECQmVSgUwfPYGVktaGRZOnmjzH+Jx5prBaGeOpjXp\n",
       "V/ZPpLjKUTwAXYaTKI3Y+h0HkHjil4DjAvkjzzpJsC4Z3Q8YJffgTDWxDsQDN0JRBoOPt5YHg2u7\n",
       "vjy/RG0spJEVdFUrmJyNrOAoeD3OT0t+zhWvX0bQ9wkeRDhx8DuPAc/xNPrP9lIrSBH85ebdT8zt\n",
       "DmO4TYl6d/I1Pns5MCs6E0PkwsI7W+Jl4pG7lrHG1RTPkoOsReXNy9aKgBPMTssWJZ42svtiEeBX\n",
       "RVciP2eLCOnXZrISR+3P0QuB8Hb8sRe2Rf6AK30kbZWN4aMe3UXYJhVyS4xRED39A6Hyj43bV9zV\n",
       "Xn9s6KPrdskGmQ6Osjh7ZMyOrZKsEoCh5nMel34EaKwfaVkqvULDLyDPf7Bq7NaBzmMaGufvn9p9\n",
       "EN4/8kEFVyL9r1rCqvmJNVPptPY2NcjxvlkbHqgXiTqMwrzPec85FydE6/PCrH+A9BtmpW1NoRA3\n",
       "2zHENvJOHAnOReOgA2GApExSLTc9iuIinN0vNNVmF+bcoTUKBE20yUAUcM0z06Xj/+o7KMBVDfkn\n",
       "RBIM3F2DtSlxs3/0PNqFGdrnzVIzOFanAyFvwO022dZJlKDkXBB2912RXLPMkOaedzV5Et1jGp9m\n",
       "gXpqD7jxoI1aaBtYJqmkc/X9vZAweM9xIPDIzYQ1adfdgYw7MmU5WnS8WvwVJD2OcGEZUunGVbfF\n",
       "DAhsz4MZAMEFLyMIAKfJshtKys6FMOqbAicmXJhSejuclYtYAN1y3e/MS0QS8m6hnOJFLwW7jaEA\n",
       "7A+nKvWkPXCYSmEuiSH9D//8Ca2D7hdgk3+5AxULqaw2lQu41tmhZo1iRDKgVyoAumhIdis/ngkC\n",
       "oSmetFffr/0TT9j70Um/wIc7EsePfbQpyXHJ6XJ2T7TLs7GKAxXfSpyC3aHFA/Gp27cZtSRaeph2\n",
       "IHfLpPwNsGPrKa6c90jOK2oZbCqsPuQoFLtTD0j/z85nOBIPwkJfQpl3DaKdyUE6tJXrf9D/Xa8S\n",
       "KYDKuyZkTOy2Jfy45eE/fXst++/01geRKNeJqzhjxtcovRYvhEjRtRrpNLeqDcEI2oUdrQm2uPWR\n",
       "VCfNP3KldkFUXXyMSKvKZ2NSInp1h1eFc/Jjf2Xdo9dt6DCN7Xv5ke6ITQIXRWgD69or9MBTemqB\n",
       "+TaoxOvnA/Go9q91M7UGA3HLLfFefQEeyxQAuucQQCA+LTdi9ULDO7yhX7CtUbeoGOptVYpoNT0V\n",
       "iPYYHQc/gIIkU58XnA3fgeY3duOdYm72YH9gvF5IUvGydqjDI3a0RExrAgwTX7/i4d3VlRRr/5DT\n",
       "ov2V/KlzK5nEfw9vUCbhO6SHVdKAEPUPGfsl3pDgrGSKC02f1tXNXsz4C9dwdP+/4S9smI6+LnMa\n",
       "ZRo1zUJZM5nfmAccfl4QXJdnvb5c8kFLWrw9L2Gp6xPi8U4fKverVQVpTt804W2QTY+46HzKvR7B\n",
       "2QahMyRh2MZCNUydY5WThMA/tlATmjgLm7OLqGkRWKdYfeDrkfXaHbYviKFQFK5AiafPGwH+kCLw\n",
       "yB8y67ncECHQTAvgIGpcTpH5iXNas5xraufgP+5O5i1CuESkJHUbcuoyXTP7dh3kX3lqQYQ4jpQ1\n",
       "pMdpck+C668kmen/vgWQfs5rdZloaVJIE16w5qzYIrws3RrgDVqQHtRlnKpcTDdzsUtnMKOfg7Qw\n",
       "e7ZCLGx8zR+iYOqICzfafon62GGZzAT2CPboG5LzKHG7t0A6k1OJfKaxi4wb83s30CS3mz1cw4JS\n",
       "XmD9i3GSngZUwZvAyPTOx6Kfl4HN4KqJSrcAX7QjcN7/PpiMSTr4xqM96Ii0W7HKO7Yh+u/TqqAX\n",
       "ZMwRLU+9R80SmYFrb8ULA+bDMurS5E4Vznpg3Ev7lfMnED1NZtrZwM+AX/iP+6gpLSEK34Pxm0BW\n",
       "BDQ/iV5d2yaXEa/iuNyEiAjENSzDzPKVi9PAZ4b6pXwXaL3TSaWIitqtsTggUFnNxFkyJ/7ljzV6\n",
       "rQmua07aomfOtsRcKYuSYPUFgm/uaOysF2lezdouCPn5L6SLottESeCjZpk9rBT/MRpx9nF9vbXd\n",
       "S8jt4m4Y5Q03BmUTMfl5ly1E82pINxfA8UQP6paGhgWUnRwYRhtiAOhSWzFa79C80w3m8vhX/EsA\n",
       "0mjqxa29IcqS42K6dkyddARvnTZBOwf3Z7Ys3aGYVY9fX+jxfaoDrV2ylW4mJWun7CmECaISdy5/\n",
       "8aS+2jm4NXmDK1vQO+KKiAHGF9ydcWhIH9T0rtGAfJRTOnNgMVbcCDKSbPHBPKELsLGHPAsAhu6T\n",
       "d7cNwF618EnABnLF6B6HII9Is5L53UUEJ1Wwq97XaaRWsn2ZTVWGUssRk1wmHPq+ywiLc9anbceQ\n",
       "VJfUUCaclK+jwH79Tzgcd2PtgTsRkvuNJj3cyFHk1GK2qFfK/kX4eF/7f/xEdyM0tCJUzHVY0A7e\n",
       "7RxN117lxSSpjT+SpQTLoqHQDs0HeNXFak333iZVmdzg9fCxh8H2cEBjQ0NHMGTHz5enNv+GDMeh\n",
       "MAP2aVVwAmCtA3LTbhCbof+2Dn6leP3pbidvzFMxkINkFhWz1dZHm5hhxy/84WQsY37t4VkHM+tr\n",
       "SWj4eahvpr65aaItBxq+3kl2x7XE6FPfsVNHEPo2ONyM2g2armEDRg30Z/V6M0VJgt3W7GBTp25j\n",
       "D58LylJlDSaKH0oxTsByVHozIpfF6BFtgBSL1WDKkQIsUR7Q49AaTJDg6Ryc8dt0uCG9J5MUA8CO\n",
       "OS+s+ovrBMoG6QUEiJdA6/9I9W8o6ASqWUSDGfU5N69KPY4wW5sCdlUBEXBm9TZTj/waZHBKJIEc\n",
       "wu5PMfWEVw6Xs9DfYmgRLzQNAd7gGFbI5cWWdOGUZH38BcovjO0mvIKjBPhVnKL2avdyLSxKBksF\n",
       "Tbh25qTwUY6rJ8ym55h/PTsp8jP4Uj0lDWmFZp/pwdTAB3Ooc+5kP81P1pS+L2m1zdC2c1iVAoI6\n",
       "5kzaYCJ7pS7R9pGN10Q8fq3ekfx+AyW8HdrNXhOVwjvw5pM0rCs+fG7DLt0QmL+JhJ6Z2zaBecLP\n",
       "fcSmDtlH9BhjjY1l6zkY/V1NCZtn8wbmf0T8DYcvuflUtqPk7/oFvGPtx/+P7K4P9RgSt3tkLyUg\n",
       "LULIZDQpkn4/HC9Y1D6mAMcA1593RGq1mVdQLqUVzSL2kMhtSK0hAAABmkGeHUU0TDv/AAz4I/6d\n",
       "jhBTgr1GSjueUevFAoTdasGgF7pIX06Igme8IouaNv3J973jxHen2jMfXroFAumZxCwHGqgZr9NT\n",
       "VI53eQJD4R49ACtSixKFHWgmlH0U+zcSbwzEEndD2n1jSmk+xGhbsDspawL8sOH/9CR7nDnzNZSt\n",
       "hiegebC6RTZ8MMvFXWYL2enPZy5wf6f82QZUoBLDooc2wt8tH6jPcO1pKkHFuhNvkUR8m8/fdQGX\n",
       "Zymsyxg3mJV0uzwAb63KPxyalH5a0awmt/4rPjKtVtkj5LS6FwMaGuLHdGG60lOi/kHGYU4FjzYW\n",
       "g/c+OkPDG5QzFsTY7XIcyBf/J9toP7WCkB03CiVAJTruFrGe9RZEZBuNiONCE7RoYdk3iP+jRWbP\n",
       "5R0xZ7MzwTzEosSnbgA44c7X9KnoZBXsbf6hR3ILZucbmA59ldUkK6j2NQbqyo5O8DsAi28UbysS\n",
       "SyZ6ocI0WE+rAL3+UlcI5A4ae1SuOi7g/YGJsp+N3KV8b/uKBJfkTdaldrqu6HuzQykMmtmBAAAB\n",
       "JAGePHRDfwAAhr7JFuhgTnM7tzvnJ2iK5urQAZuLQ8hlSJCcFuX0B0CFjnzRcR1OtvSoD7XRGY3b\n",
       "lkDc3icekMsO9pkPoSmeVNVAE+gx+XxiimFI1UYTzSdKLuOhgUIc2siCDaR4rrXEEgOLHzZ+jv8C\n",
       "nyXGQcTFJAmflU4eCtPNwBt+MNZD2XCL9VDIblloRrPYeFuxHvdUGQJAYgNlLuYAgoD3gusVQikH\n",
       "j5F0ZWu4Nl17lsE/zh3EVrI+elQOyER4Wj94ykqpJO1h30ABFteWXMiRcnLpqNW5XEiP/9KAtWwl\n",
       "YQXIEMkx7SRise6vKVqyhUES+ScykGODy4kQCRT8kMb0kOFwKmOYppespdq6M6/Ah00pNBYdT0XF\n",
       "3kCVjvceh4AAAAELAZ4+akN/ACokbAAIJ/sYzzdV16nYOj0rhZ1byuluObEiK+4OChm//33bqAOu\n",
       "jJ/dRmadCThRqLVL49RcjjyNtXM4S4z4KJRgdaalyGQB305He1TLC4vDI6IVOeBl/5qK1eb2rxio\n",
       "xRbwGPFwAwr7jwwkPBvMPcQu2yEo7CzCo3QGKdGufknDhVYGzPBCkL743KIt/yilT2ajCWM1EBsz\n",
       "SxEV7NOZPvvy2jGDC0iaCF/c+7RF0oOXygg8MHPRDBGVt99QX3/oCBeO9C5z+XyCzVue0cBsHlfg\n",
       "a99R0+6AXC3GtuHuCMSAKtdlvm3br9QzqJSeVR+QQHCTbB9XlkDTmytsFgdOhzAn8PZgAAAGfkGa\n",
       "IEmoQWiZTAh3//6plgACQKnN/Rj3bUA9/Jn0A+9GS6mM27j6g3aPHjTvPhrPFm09TXD4I40Ubij+\n",
       "FOWiYz0Js52Q100zForOLe3pdSZBpv6z86Z40HZLUjncfKp58Yt+I01EFFL4py/7+FDlL0nrOK9b\n",
       "YXtktNE49hKd33rwdhAU2AbPA5T53Ikkf/EEGLoCeHv0UtwwNmNShTJ8Q1U9cfmp/cKB3b2jk2OB\n",
       "x8A72/Ab6IoB1cMATn56T8PbutSipNUQIksr7GS+mqVPvmWNxR+VgfhNQ7OM49RbRCO/23jNBHG1\n",
       "E6uhX0cAirRM0ER8jSYbaH2YOa/n5A8O+Rm4R3tD3x/sqssWqOY/l99Ra+MRMzdX37AHdL26aTRs\n",
       "nfPPkkqw9+fBd7vDBAAWGjdZIxirzCUNXD6crmK+XmQGuxAOYUJwiQwuQyDppqocjsgJmpxdfHGt\n",
       "Ni52nN4WLT+PasjN8juwK5Z/GTpSXj6GFvAVgL8Go4KSuUdLuQ77hOzhEjVUJb0ajzqPb2bzot7n\n",
       "kXp8zcsOIE1lcC7ezM0Zoo34PkJKByz0fxx8X/9XrVnnAC4VoljjGSS8VkZ1C7vibpOOGhYNmhdW\n",
       "BZjbr750iu7aagp2WIO6iO4dW+DKpMTKva+h+auCXhfmdZQXk/YTaDbs6y0Hv75c4FZcF8uTyUby\n",
       "73mfY3DgmXcckk4q0+yp73SRLu+bmJYDzGSSQnLJZSc5vw+HNDecRIvX1Ww//y+znoziNRx830fc\n",
       "iObhEhQ19XpwwITedL7JVYdz8Fx0OU70z06fp8UGD0YHmM3WGKjNQu6DdG31tI7OVWLuquDKPpxh\n",
       "lDE9MlYUj80DqEbLShZvwTbBOOM7zltfVfay+5lHF83oK3w1gdaaZnYcEU8p7PbUO1DwblwzNVzG\n",
       "rM4zZ2XGonvh0lEg4CoYy9YjPng4g+IKVqRZqRUxHqMAsKRAZwrBdiZcAOT+7sonxT4CTmEtS4+l\n",
       "/d9X7H23yV4Yabkaj4J5rPkAVo1HdOvx5ApMh+Rbw92m5RN6ys50ZffdN4EoIH+fABT/P3EeWaSy\n",
       "HeVwtTFoTWugShSQBJrii1apzWhZoSzsVHuhqKWND3dSvg/QQ4DgLcVK/bLCDvb5hLJbQEmpLGoJ\n",
       "JD6Gdju1dvSZGszzQrVZ2Z3u/sO81GXigpmlvZsnlWrNdb/RG/oqXlSQSoSrqf+VJOxglFoelwB5\n",
       "p2+HtVY10FDAs8Fa0/NOZQI1LfIKO0Fk/B2Esot0EqgvdxnFch1KkZOUOrVWYXGsypb0dG1AZnSB\n",
       "+ugbRkMRZtqg39G29gPgZfVmgjd4JBvXo0fjunVLOOzZDhKuucaAAbsfugnNTv5gstpRsA/uG3kk\n",
       "+Hmks8xEyByv/43dUN4YblSzSNXLcLZb5bpuT7dF/w+kmJot2umpQH1izG6/KizBGIQoxamAMeiK\n",
       "BRAz6WIY5gfiIZOilvq+GAUYelsC98IUCPTTtS7udvgugMpv0SxxBW1d/smrmWz7mlEefqQy+DyN\n",
       "+0/DZmWIZegVMiojlUwKo5GWQ9sLCnvONOY1uVWLP+kEd41UmRmSDbLtiigc2ONvEQFWa6+ETbwH\n",
       "FWWsQKd1+qGF5pIuRin9EZeQuP8y8LQrg0PGe41Yez83Tu3LEtunURD9PbLToBZMSLANFUyI8Or6\n",
       "ZjPX5O5zXd9ivjZNMyetJE3woQtpAD3Y1h7WmMu0ZjDKG8kqTeGFvP+Ulc5KXRNZi7iv1XNvZ0kt\n",
       "YDckxDf+RXTBHdRFKdbzeVj/4jmDYFLKFPUvMmOPLUWyDdG4cpFOV98CpIynKEKqVEdyzm20fA2P\n",
       "oJbek7iuipJzXgoHZg8mLspvfvSB1nIT34EIZ0RARYEgEpXsnrDENRX+EVA0+fVH0FZ+BdiHqp4r\n",
       "N6bPDmqqOTAP1k4k4R2FoALlKn0tvkjt9GPG39hd7Kr5pSiMp2Rp3FWdQB09fECJc8rs0BIoJRXp\n",
       "s227jx+Ux9+8lgK1AHmKip94pLlElZJouBgqj5NJyBkzogXu5rTktT1s68zABx2Uc3iBzBXkeBDx\n",
       "pSsl4cBi6sli1Fl6+wAieAo1CQYpmJc9v6X8EOJxFHmdXWeUQx4kcTBhMYfCdlcqVzxGGMfe6CO6\n",
       "zsrRY4JeU2qDL3ifzGl/XAB8pJIm5N8WWetYB6TqqfPRdf+KBMX9ywEv4+VleabPOKwK00GCagCR\n",
       "jEcHfoAFbQAACuJBmkRJ4QpSZTAh3/6plgAb67n5O1/hZygMzLYnkPWLyD19T++PfVCGHfzHkK5l\n",
       "BSFcEiGoN/oJPsG8qJViSBDcUWLUsvZCqmiUg6LU0HMAL4e4c8cRtrHNyNRMghwihbMwSm+qyKda\n",
       "MElWve3TEQ2CCy4lW80qNrnPg8vWHRURlpyrx9EBtvoXzz58q1KwBsficds4RP/7AykTtsqOpO82\n",
       "GEecDbLHblv0RlCrpGnacX2hu9b7L8JllkA1MmE1gS8fK5DXBF4fpVTEvEpcV84EPDdWmKlrWVO0\n",
       "kHe5sndPD0YvOEYZ1z4ERlwTwLB56rV6np6HBsvvO07JNIblnkbVzA/03xIK2AWGsQSfeNRGfuIB\n",
       "lnZmpUmFmU4KWCaiKDt6k4VjBBVTSrtPM3lgRfwXZpJh6DrYrIfSwpqSj9+lC1+a8wrRGUvU/krM\n",
       "FJ4iUDp9NC7vfp7oAgosll9zsoxjQfUFPJeOGsNOJBq/d6ZRU6sEzQcD4UXWm7jTZiXaTl1ceTMr\n",
       "PQouHld8xpYPG1TMvIiBybWMvvvt/jsDZxkHGxNdnYm0sN6qlotO7CZjjk4ywir0jypFlj5P8lTy\n",
       "iUEMhhfUKV15NyVyrAdZgFnpMszXdG7eX9hYtw+UgPhExWVM+nuQlNjSIGyMEdu/+XuR8Pn7mwe1\n",
       "/mJgNvkZgRV1SWgpAgVSK/68fWxw3RzTArfiSFDWCNXDt9gkdYZ4vya31lTm4L89Wun9RtPAs5vg\n",
       "dy7YX68EYA15ZjZrFWRvCO4SP//xyyn+0UpK8ec10suPdhNCAjtIAMrh+IgW+cGdFMFM9kD6w17K\n",
       "XUc0np7hJFHJq/vOr1+rbAmNgQeQMhLyOPnoWJYXWaYs7bsM0RX1RwGR8AgKQRl2hN19boBURCoL\n",
       "gEUR8SdHL+rEuX9QJtVSfrSJoXCbZDLb7ZtQlHonMAfpit02zmEdUjOJRn+C89IOf4S2mvGv/5NC\n",
       "FcPgm1I7+r25cJ9fpf+dg/YootLdYA+TXx7up5jQglaMkxkCJflzvUFMb/Kr3iij4l8DX5qZ/Ck6\n",
       "wKcVj1aDc41tLEb2hxElY5OYlLol3ikHZUZcPN62B+/w3RCGVRCuf7Ern5SR23yyh49wSNt8BjAa\n",
       "WFlpFWv4ckpdJo0YnAb3ftGQ6x/lU0Zh7WPjTaSLUhWVwIH0b94dwJ5g1C9wQYkgmni4d3v6eJEC\n",
       "7sGDdLmjAzZNlwtzKoKcKYvu92nJ5Xo0jxn/SjmCeREPhEU0lpHT+51ALzdKg3qPPXziMCIGTtVo\n",
       "drM8AViBwva9VrFp4W3D5RlC0o3Ws0+XPdyy2mUlosJHcf/hjFXSUk+fCxGe6gb5R0opNOq6cEo3\n",
       "M8KAP5T0xqfS6DJ384CdHelRe17CndpatZbGOJcLSId96MalXAPAdRMWDrJK3nAL5hppfv+fqFpv\n",
       "OnuQv7Ur63DRcig28R3IkKEaFprbWUxVXZNwk922prVkZdScn2qqAZsJDwBL7xyawfcEC6mG95SR\n",
       "ZM3Ltr/aPRnK0WFjDQlfNe7d9cOTlj34v35ttJbbCVB69Nr2NImsvLvFyrgfWZOhOKYRLb/8sqdR\n",
       "K+79W/bIf/2HzDfHhxNeAf22FrbneeDrji/c3Y6kSODulDh/HmzXerYjBB5nn2aaOIz1lYQm4+Op\n",
       "jMkd9TsVhIGu2n4R2Mk8yfH5Ysr53S1iJGYOyQ8xZuOLqqZuZ59EAhoeYFM2Ewt4pXjSnLZxTxzL\n",
       "GD495g8xQRZ2uM23J9lF5vn/45DrM8SiONIDNYCyB74JzVZ76Ovsv5Q0jRpD8kWawSzat06e7Htw\n",
       "PS+cXrQ+z1Zk95XHIBZXslT2CeAdt33vmGnHkPIZ96Zp+Ods72pcglx5rRrmMWRJ6G3EXHvAutCn\n",
       "lHWF3loH/6KBEHCrX/AQFa7ZjnCU5SPaaB/Q6n/+ZvE1AVfVvscfKy582czC+HJgETuJ0FCMxfXv\n",
       "fblNadXcA/BFFdy//ggJR2kRP9hfMKbtkieYaDovmWg3kcKFDRHx4pwtl/94MWJ/yFKHYi5Na3az\n",
       "02tvq4MsTlojOUNDDR6Fhi0NST6KAvDNnMwy1D/9mM7kEhgCSkXsCm8STss25i5E2pv/8cRG6sKT\n",
       "KeW/lddGqzXk95ZewL5lDXHuaH56EZgznoeS5F0vSG5+g1W0YWG9/HKIrwQOUu7MFG0yOU2HV1mr\n",
       "EwrelAEKO0XiKFGQ3CnzuIoPB5dg7cKwixwafLqaJnrbdjrTdu/ISnVwJtXF8qNEHrIiRvjoSew3\n",
       "CymxR2bD3fAk+wxkvEqWjwDbS1s9ZyUxLO7Z4hxhwf3mnd22Y+P9NIzAwKJeACoslUqAoUy31REl\n",
       "0dpaaMMqBuT1NyveJ5Ap4sTgBpnrs5BdWhs3xTEARa4F6mNlD42hde0LKCfjAeD+zsDcnTpd8Ji0\n",
       "5Ga8VoHkccHZsHftbVuQo0m0RwtgGupEkUSeTHKJW8HgmYube9KhHKuypzRWCzO784bSGvbeUJ/7\n",
       "jlLe1Bf5tZ04806cfNcY8YD7A0uEfUCRVW/jawosQHwZMp2wxwuwITuYwTG7LbLplAh+ZkqsuLyo\n",
       "yahTKulStJpIFCRyuddsXW/fiL1zd52AY/NKt2zkmybGb48rDYfx3NOxoP86Z0QJUaWb09827KvI\n",
       "OuBtoQvaY7BW9Synts4dL0INeMzLwx3FUALGe0c5Bmf0Yc/DvYtdn0kpePlq/r02ennb7Zrw7HdH\n",
       "PSXbgk7ygiz5FJ14gQAy8O+HXWjG93TUTNKtOTSjmmy8JqP6X8/lvZY1etZZdqWMRnaVkUJA4SbE\n",
       "3D1JJRtlqlUTfCEugFiCvfvtLXc/EyNSoL+/iQ5szIPd/3YYrWi0X0IZT0cxy+Uq+LmfeBV/o+yC\n",
       "drTSFLgRkwByB6mQljtHcRmySROSOS6l6McVKzb38NHJSvtvz7/oKE3pCDrHoKgzqmp3n0ryDiCy\n",
       "Yjm/TUjQrR/BvyXh99xrwy8O5sWhkaqsN9LV+oEs3BPNFhxii+Kag+2xhOBKN4qVQ65dvjqiAMLB\n",
       "hTlOe4JOKqtvsFdp7HqOLtSG8zyTFdsGKlzn1au6DX9Ld1J0B51WBr7Qlr1KkgC7UWlht6fAFiiL\n",
       "v/SHW9KTixi96dswxKQNYpRrU5m/wKGE+tKRC4AoEZ9HTOdtXYTApQkujtThAWdYHjANG50Bi6vu\n",
       "o+Lmib5C63/9WP3jRYS41FC/3LvrNywve9fBJarRiEgukb6psG0l6+QISyj9uZwCkmTxWU3QgFXZ\n",
       "7Pb1z7NlGz3SVV4IDFzt7dSeMUQk3JJw03cA6OBHJTg/WpYe0GmTLgOKyoHbHOvf/kOLWG321DKo\n",
       "rl7XtKxiZyaG3KMsO1SQeXxhpWoF00UobWdcVKlsOzqOlehOk0J/RcCWTa574DLynVsEakBCLenF\n",
       "4eSpdD6v9veAmMJLCTzlGHvA8OF9th3ADbGrWOOoMtD/648H5fPVuKq0Wn3OE+eRZz1/cB59pdvy\n",
       "kp1SurJHeAPmnFpzsyDBB3a6TUs13stkew9dvbOUjGMAoLDNGRBa8TkEB7iL2tM+nU/ufGvXmXrz\n",
       "NNed0mhlsx7guqR55/2ce9FdOFAPytL6LYXrhIjJJa0rhCu9BbWulpQxTGePm5pMj6QP1/HlaYPC\n",
       "H0BSMO8l4fYsYB54/+Se7gtGn9Im3ilWgBxRP9mtqe6u3lfebIIzUDy77O9aEt2rkLG5A10Ya1ee\n",
       "tiuGkgAAAVZBnmJFNEw7/wAN5tLZeAQXwPwe+2Zsa07aiHRYDeUr0qrGRtB+gAD+nPK53hMtjcu3\n",
       "dJz/I/L3MSs4E5TCteQAkClBjhBXHfi6kwOkm5BXpVbSyj2xaGALAGDhHCGIu8yrzDHl4D98Nn9D\n",
       "siKESXPkpAUeK6ZXeiJJWso8i6p3/v8D5nJY2Uk0ANCXIwVflzXHtsJ5wzr33ciEtdxfrke3uUad\n",
       "Etz6zUmWx7s0YdmQL6lwU9G3qnneNS5USCYcwNSA+AoBitwtgUcapkVkhWUWNsmejPZNuocyFept\n",
       "PSIDBd0Iih1uKDxlOphYVjjNqbmdbqc8eihIBxMkalAQycg7BhmmbZ4dxQW61oZwrIuh0CpvnbDQ\n",
       "effS0ZWu5Z++C3BeCnL5f+MEYuno+NUS5P2OMdzfwvGSDhICEnipgJjjnAM58/GDk8pkrUZio6Fb\n",
       "h9f6of3IebkAAAEtAZ6BdEN/AC2JEAAH8aqBIXh7ULlJ+p2Do9K4WdZOBeOWSlR2peo5yV0LZp5L\n",
       "g2eBkruLhc0trD9HDBK5Z8dkQvfs6hTVf8ch/A5ZrBKisyFDM+9y+D+S/lVm8tcECceX46+DBD/1\n",
       "5XWdgr+EPn8cjAZQ9pvlsI3f20wOOL/OyU/4eN6ioKB3Fsygx9ccXjgBJgvpgbzeD+AwHDRjoisa\n",
       "lfpFu6479I7WAUDRWC6j2NCfYy2dlYHCz00iLZPWydvWPdykkhL841TeoSWQ8WjtjnoNJ1qURMbE\n",
       "U7R12J/XXOgYr/SuNXrqfZq9Uh/JHCU8BEXNYYZykGn1ufoAwP5R4GOaCx2heGZrtU4QryrDiBEk\n",
       "Yd3BJ1YGOiinlq4F5JobaiP+jbqMihzb0uU1IAAAAUwBnoNqQ38AAKg9FQ9A5Lc3CgKXoARgcYNL\n",
       "mVuqdH1vhkabV8q8QXGiqBCnAIVPizzB16+Y6Gh3qKFJf0oqQzWNUyNERO+pd96tW3yvyaO8XtIG\n",
       "OAvf3Nn0TBiKmkqAI1b46MH5uyzHyCJbetl6lkfbV8HGvlYhtoDKz3g0PVAa0neRcFMBQO7cMcCj\n",
       "KoiKBkjUIdhMX5O+pQOsMPN8CrMtR591Q1KpHWwC5nVz+23LX6GQaJZiyC2o829rfgrmy8iEHRsj\n",
       "XsPj/YpIZN7VOWvYXP3j8EohGtO2ewFcMtdIb8ucZedBMuMKFDnLUcyL/wOZPt8bHPKgUWe0fCuE\n",
       "aM8fRt6NKmTcP1XnxNj9rilJPr2/2X+Hqlc1aArnXzTTNWh1gHZ7HGO9t/ZCli+1pZ2k0zJvIver\n",
       "BoIdxP6YBlxcMaZ3jxadFJJ/qS7NwQAAEihBmohJqEFomUwIIf/+qlUABbfE3gBzP8mgygsBNHJl\n",
       "dGG0nCy1l323b7SqyDNT3+ydriBArnGWYUp/AEkq/AIOVc4IKU0QEQ6lBZT9fe6yei1JgH1zHZd4\n",
       "PO9vOOj71zsYIE16ljD9/8fZApvKxvjyJaC6WA8iDVdF9FhHbPHHLu50AIORKp9ek25j915tQB2c\n",
       "0kmaN1B9LY2gUq3lyLv4oAK55YCGULBHbRhdTp1TDidnumaXlCDfqXR+S/ZD8b7I6G+d8LBZ3hSr\n",
       "UiKfd2vcags9aDiM2TjQ9E4FMTm6MJodSKHN9yNJId/E+fJ2re7/qbHrAkLxVp7WjYCzP/+GXU8Z\n",
       "MlmIb8knangfFO9WfU62aHPOXuYM8tlI5vtXsUC51hUv44lhw5RNFK+Q77H+T+o+qli21TcB9/Sm\n",
       "0KqsvLrYl9+hNW1rSsIeWTIAfI26SQIdntGwubCXLCGcPA6DVwGlhqvnGmaKq2ymsRdoygJ+pchs\n",
       "gzfs/1hqjbvBNwCTx452TtqS78omATylqAuDP5r5EDQVDQ89n+SeWu/ks1zbFcqu5xsmFfTaQ+Tb\n",
       "iuNSNmdM7+Nf8IcBwitscoWbY5RFgIkPPfcu5j7NoUzw5w9TphR9XW16qBY11ZJ4BePeja4zPsV9\n",
       "HPZ1b0iEuZy4c42JiguFsQSni7MT5K75AVOKcCZNhYB1XhU4ql9+bsZ4X4kZ/HZD5r6XjlWV2VlI\n",
       "M50dVn3gN3AAnfbf2sM0/bCIbaPipP3OzMyEnKHcif3swCXA2e6b+IF82rdpa6AFdUXyJLi50548\n",
       "ycbUNugFla2ozAR8DahWS8rA4vS4CgBJZVs9i0jgOEqR2AHak/4D69VZ1koKrUjO4dnTLtKCorFk\n",
       "Q0vXr4BobGXwtgLq8Wl/7e5i8jf4h5TAtdlBVCiDK+QugEz7U6owrl37Qz1AS/8FPJDKFYgGoquY\n",
       "TivvPPMDmQjNeP7spofBWBZB/fpeDVn5igQIC6TBwn959Tq7CYTSu6AvmaFgsJSxuO/0860rmpwx\n",
       "noN/vIVKR96mc09kB8/rxQWFg8KQa15cT6JjpUpn2AqhIuQdEmw0/QAEW9kri22EpBnSE5ls+uuP\n",
       "jLEP8tm4Srlc2VzxxFfPZXWBhTv5N+Y61kONRQpyp7NMk1qd1BuJHjHLSt+QHda6klwEdXCO5kF9\n",
       "4GQWJxKVpgkJyFoDTiUgvbPcbiZu4Z+w492ucwb/qXCixjbBn+UulL3n31Y5/huZ4La/EVu0EGUI\n",
       "ZKQiH/SDR2OaxriPHCu5aX+tjk9H+ouRDA9/jIJNwQFpwZib3X2FX69jzgbR0FuVE2AF2BDJ0e/Z\n",
       "VWT/1HV+Wz1Rg1zEezaRki2/Nmywm7RWH0yfCUlDll+T1fIdMNnQRWs2wZdBT1k44nHLMpHO6Y1f\n",
       "oJHWBUapfkdBPNQfswPIBroXjjPvmz536+I3IwtstbyL3Q58Vkt1VXyWwHYNLmRvyuo3pnhD5yq4\n",
       "hgZG4/TF8YkQf42//gP4031pYY9iyhS6CdLMeaApYw5lkbm+LRZ1sAnw+XllOjPK6LKgY3TpBpGw\n",
       "QC8d6kceKf51cLLXvp5+IX/0dsDlFTRe4nBEkD2Wh0RdsBIKmiE9lXQTqt1hEcCbvjzJCo/DtmAt\n",
       "aqB07aqDZl8cZWAxq7ikc1emWV13VJdgFVrjvaJxCvZDDbdrD6wH79TxMD10qb8c6m31rT3by1Oy\n",
       "mV824GUFTzQAb5E8pREjxJm4/HWF6JpwOYqYnpOoiVu5DYD5VSmVSg5t7HLwB2w62IqD6KJdpQOS\n",
       "yFreXiT/FWNQu1NU79QCH5NrYFIaWs9N0YnN3I/2xHkdlIEj6NGLlr36hO/OZxDJn/xnO6U4m/4O\n",
       "CC8+4mIF+CAEQGy3tL07F9lRuatxsOta2XQ3lbDvHaVjx36eWaRQA47sXUZcp/sk+REhqQwiOgEu\n",
       "ik4tdcUVG/rqt7U3SlLvm8HnhoFCjMNzOE9xjr6pLFnfeQPa1g5f0+NY+qCVF7S/1wHwW5hcnKjB\n",
       "hRju5Yj3dREyyrOObiyaLOlahpppqaCRJhaoCS6Sl+AQCOWtoKnx8PU1JHErVzVlPcWg9n/sNO9M\n",
       "P/eWv9wsMMjqoBast+aI/dYhatb9xtz4OYMJ2gnvNeQ2nQXXnVNz2CpmUjjf+coRe16/9Q1opv5t\n",
       "i7HIQwlNzsfjpu7VcLMKal12miNdNZDV20eAi3YQQCcwkDwU1+uzdVFL84lCEXP45tXPWyr5LDN+\n",
       "1PrPLeYmsh0QzpWaKCzwHkhqEmcjOymKyquJC+lC8Kqt+AZ+sP6TrNBIvUVXwcNhf4yqRUQsw56O\n",
       "bhqHFul+WL91l/lve/FE6nWaADuMPnhSPKtvQWvyWiqwTxQIEcOIUjYQUh2TbLZM0Z9kdtETXbSz\n",
       "H6QEQk0yip8U8XCcutXGmQogKt2GZqPYy5Ua6l0ZxSCwT6206/fWhkRETkI/IFHB5yF1WLIZtoVH\n",
       "oACvPJStbfRyLHs0a3vKeD/8CXUrzYILCeoD+3FbFIM5TskGGevGp4A1Ca8BZSVdRsEdbun84alh\n",
       "abxG38dCqBnqSpOJt1X8rAixiWHfR5tcddAx0oKbM7EGjhdlb15QNLNZBNZ1iCqt8J9W0b4t2ep0\n",
       "TsfBDkm9v5tGaScYYkF0dPGoM42p3+AO1kDP8s9Xqnhd3BaON4P6fldtPPKl5WkiQqvpV2mhizKK\n",
       "zKeF5SIvN3mBXPoared2PDK5MZ5EjXb0TfBvxHKCoXC+rp+UTIfvyzgYV9Ta+Gw3M0UYebLfA8lm\n",
       "KWsd46vvLAbUB0VLcG3ZHEpuU+eiGgq9fqmTQQ29tO5S07LA0scaPihDUAAAAwC8eF4aOG1KjbPA\n",
       "V+dBXPJnE+CIh9JD3dyrYJQmotxm4Y0tECs729e3rC02/LRI1lHGDzHmuVpASU8Gt4LKiimaIU61\n",
       "tbg8GvfNXpeXcCpMVpFVfzB0HjC3Q6ecwJ4hUUZ78G6dt1sEP9hd0acuImG0UpkEPWjshanQHOFi\n",
       "HS5/iXyxE2TxTlDRWNwarScoGIs4XZKumoFfJjJITgcIvfV4MeiovfW+8rGVDmSt2B3uYEp8nnLo\n",
       "9FF2jC+g2NOwTF+1md17FNK8AfHkIL5DcFNcM2/5l0E2VaGnKV2PTiXwbzafZLUzrgMLTgIAKNqh\n",
       "VC6YLU2NHQtXynyrhgS9SdD7mPdg1UGzyrMgs8t7kZMHs5pjAHmFgB4jlMv+nvS1LRklinOZSRog\n",
       "aBRe4qnPNWS8BIlI/ZXorKuvfPA1m7bMqzzrDmx0qeniYmrh/y5QKSGNWG43Tws4LGa0HpsUgax3\n",
       "m+EZJhVqaXlpGxKW1Uw5XL8q2VgGgWE7qbupUhoYzYZ3v011XGZJ6GEYEydaA3pVBd+TRb2I6aPr\n",
       "Orb3hz9pJyf432+/HlomXTrBM9/3l5vAs8g67GY/ZDiI08zK1yzwGQMqxa3cjfIQ+kU/GYzNgo+9\n",
       "A63v0YAO9XSY8ZGvZxFoYy308+19Wo/m26EogcC5dhgbRLCX6BwfI+UFNdZg4qUJCkZQ35nHOymY\n",
       "Z6+1CcHyyOlM8U2CklTfAlOlohAH7LoAPEpAN+NSU2KnGNFozY55aarWaXJOSzLgJ8YEEXeaiOv1\n",
       "fY+deXVTjvXe144VtHo57PO0icMXfprniGI+zlITK1NJh28rnrOZdKynWZFmEC3YU5kJq8ALHVHV\n",
       "AgJTX23CrZpYWcWP2Cmaa4a0Ua0f8dLwRM5F4S40ImS0ylG4mVStiCqDfe5+m5jVOa+UTQ6thf6m\n",
       "seXPhjgENdQcaIramPjgfDu4Syb7C/1ue1oSujrSnxSXClN/TrUwpiOJircfcuGyi0YI9pFh6nDw\n",
       "E3Bstikk3uTEKTzyZerNm0N51AMsxxhC+bwbfLrjtzpVeCV33niB9WXT+2vbKOA2M/nnJaNDxNyk\n",
       "vr9Nrqci0TgPu13mnmaqrtaJDhkCL6DmHL0gs1WH0RX8bi1LySWPVkhnFP4tFP3PeUNH5EFX7sTx\n",
       "vyONlrxauTU7WFAPIlsLV//hKBBmBnRpHW6Hz34mVv4sXZg1zTEZioVkVM82orGvltIqR51IOAJJ\n",
       "0DjRaCQ87MiLGIFzjz0TdxfshyFS3gljBOBv4MMOGK1Tkod/jxrVCfSEol0kPWjJIcPCxZjo5mgf\n",
       "IkkO89ymMfcqcXpcfIUr8ZHvS8xylndfP4QyJA9Xvwp3VjP/ClDinmaEUOARa1B7SPjTAKOtacCA\n",
       "tYhAdb81ckEu1QqGcjQuzS5QZTO5Cul7yp/vbH7KJTfbeJP2CMyvZu5l6OrR1RiAASDLB0E9Bdka\n",
       "kdxrXcNtTrO2Bjj4ONrXjLTii5AlukR3q2+QdOHGWikOZj4BZLQk4X4aSTAiNVAIyBiHfMEg4WA7\n",
       "4y+hnHPMxO7q2OSBGNjZmElY5vcRyIv+TWiTysN9iK1MQJH2THH3eMVuzG4owiz4AkCcx7U0uon9\n",
       "F1GqQM8vviZ5ndwPfdArM7eSZvcJT3zPwzLYS3OZ+VCbS6qG7VceLFt1VxcLtcZ3/noAkhdKv3Hi\n",
       "BMulpe5ETnhycSg3POqtoHlveSDbnavvOzCc3hghIeF0F4qUphtwRpvGyzCxwe6WkKY7OE2P4zEc\n",
       "8xH0MKsYZ8Ts1o49uIYehGGmmAylEyhTeg288qYsZzODUA5Qi56RNffPl+lPSD/m2gQeR4K83JWj\n",
       "ym3GrAjXenHwiDKj5F0rPFwiuO1QHfSnsBkUAzIBnmd5AQOmg7rfaXvhA3dP99wHVRc92+9eHHD6\n",
       "lCXs73yC5W1HqHl6UHw1UP44u+5rO4O2cYTWYLkju0yN5GwU09o8noYTe6LB4hkMGeXwoNXACzwW\n",
       "zUuMk443xgmYDyJ5qn8eGS9QskVaH1bLAtxznQP4io2iCcB4IXZSfc/jiDsWckMF5Zx07e8VJZTi\n",
       "5a597dnFiMmnYlGE1cheJZmtY676b9dKD83CbIdv2iO0a/8gnSB8H9Mp6BC98Hk1TwSC3wBL8onq\n",
       "jtSCgE5v8HQMia1DYmJJCBmlNhjW2mWDYjo1emye7KfWfT51c7eIQFb6qv2d2qQRCmG9XD+UyUC2\n",
       "1+b3Eud+L+540Y0f0aX0ZEVmhn0CJrVwnfv0hR3LCsD1E5qxjQtbOFUXoKB2dlO/uUUNqMXEt39X\n",
       "eWJ/F0RnXiZ6Z4F4qlnBwb5iY+S1q5XPP+8divscf2qcZE1VfRNfgoQq0H4rMQ1QRg5HJUrgXfLF\n",
       "ZRKIfDx8a+pZb9/Dov0qt6ZcwYCAxDd5Rk65JT/jL2RxR+ZQffQY5s2x8E+YIoXVrJpTWZQZ2DQy\n",
       "ezgXij0x001aX5iD9VS2QMlGBOnHfJHrmpVDm/THpzmv2mfzGImQmX7m26ohD7Sg/72j6iCL/UCg\n",
       "bjCl7qlDWp8lybGsc/foyfgpNwy6TSwYC277HZKPDKaRqnvX77o+DPri2e1T47YqwsP+oq8N+AEQ\n",
       "7FpRoOzHIwa+tNGS3m5GTwpve5suNONSfNlrVggjD/pqCwiew5XGHBEdgQu/IvJ0lq0meRAwfaFx\n",
       "AU1kHC58Btd79a6OgYd5dVAWb6J0aK0A+yDpQZMp39GWPlN1IvcKnbBMgfHjiHe0knz0U3TQk9gd\n",
       "SGdmKtF8wRygejC80ooVqRc+7nG43nhFyyndmWLOXDPh6MZQ4laxJQMcA01LHoia8poTfcOU8W//\n",
       "BUHZ3UNpLDbuqy2Nad0EsuudX+ARMren3WYW4031PVhIWW0y1dPq2vg9cG4m9sIwYBbiYFPVcSDX\n",
       "gib3eSJ/XNyi+n+VCtHmDbP/s2Ov8Iu86gr2hcmTEY4oWUYo+FK+ez9F17fkIakpoEinbawUATx2\n",
       "teeu9mw9PLe8H4L0vU62Mp8AhXInHclY5uJKXXgqOge8j6m8okvwgb1IB8mpm8/QUnEz4Il7CwOJ\n",
       "9GxBsRwWrMkGgiCmHFJw51SEl73mxMjY5Iaanon19wMU+emAPmEKDvbB28JOsawK8QhclQ0GUbbi\n",
       "ZZwCD6IjQwxykU8Rp18t64ryRKASKMwP6F0faPVbtzXWYqR1WgiJKpSGZDJEbQ1YEPuAayuc4muC\n",
       "eZOXmtU7S2xOq/6UgQjCU05eH31IrLCfkfMFzqGvYm3fs8MU7VWMiibBERETvZUt37jH6mvPHo+S\n",
       "eA60qr4RCesmMhFXteYSeMpKy7zHy7064JUmcdeYMDrwMFoLpOhMJ3gcPACB0/Wx7bYt1Ug2CEvB\n",
       "AAABU0GepkURLDv/AAsqr15tjhWl6uS9iouD/KoJi6nmZtCUv1XQAWz3jntZ1/cVC5WNrTWQr6+0\n",
       "EDduugQV6+O9FE1tyDTTmotp/ckUNG0ZHCOikAGwonREafw+c8u4Wf9fI8eNLUBf+j0t8HBVJBUW\n",
       "3BEPoVwkhLRaC1wG9pxJji6JOMRGueqe8NgjXiFO0En678x250zhK9giSLbu+t6rXRdfjyni2a1z\n",
       "3UQIhxY6jgAaZRvKhX4XjPrM/eWjumSMcZXDPZ7bbmttyvp320jHlhn/feYZ1bLEcuzFACSrR9kL\n",
       "bBLsK6aFXKLcAoJgk0KYZX05dr+LlpPtnnrdma+Rps5pL4E0BPboyFuYJ3g8xN4zO3a5+9XQeopG\n",
       "FYr7iAkvY7ltQGuUKL80Z0/DcJ/X9P6FPfkecqOBMonQuRSH30ILsfTya+No6MUSjkx0rV8uo6Ly\n",
       "sQAAAYsBnsV0Q38AAKgeAyRhSWLMeRfwdGw9a2X3PvCiNhbQAe6ADM5Rq/NtLUkAnEeI913C47bb\n",
       "bdJvYoHP6cjr+6W56Cue/YkTTNrQzwV3hxlf13UKWEKaDOinX4gBpEWRpeeSZv9YoxweB9SM34Je\n",
       "uRN+9As2bZx7UwHvljDaH0CyL/7gutXiO4Msa+p5i62OxBLjqapwjse4/rHMBdSK6SyH9aUomKsV\n",
       "toN/cZvvmyh1EGFFAuE8qR1FekvsxdzTvZDQdQXBu77VerdwFgUjYE4fn3GpBhrbAUh2RseuAE/C\n",
       "/L5u8WFUWzw3ZgXFXXbFyxHVaMiF/NsRiC5n8C7SWQnKDHAvrJg0DQwjEYVwd8zQKwxrCm5BJQGB\n",
       "L7H4wn2cXwmZDYsFuJKuYoGxtlbU0jnv+mqJkqEHD3XdZ8kUITjvLoY5J1iN7b69OL/20z32BJvb\n",
       "4bkTuYH03SUFfKKsPRSZboegTmBhZBRMkHExxk8V5yeuSJDy384SF3vSBVqREdMUfxIoCAXQiICk\n",
       "WwAAAWABnsdqQ38AI8hMAAgzqnubquvU7B0eRPwvGysnJu/gS6BcC3k9Iv/8SKs8PN0SHJSx2j/q\n",
       "ulGRF0Xm7nFMaj0Lh9lx4+7Pr7nUPTsAx/I0TDdFoyniTpErO1anp09T3HcRM/Mwg/l70NWeeCSD\n",
       "JNrOBxFONt7FX6mL0txbW19Bx+0LUL5tOJG5ymUVyofmOzUYogwF3EnCBu62v/KI8IEsjs1nY1lF\n",
       "1JTK8QPRVKZ78HmiOZKI18bDaYdd88m8Wyi98D87RWqqpTOSBsn96h9NgYITF+TdWN6Eep8f5CCY\n",
       "gTcvoxNPArVoTMPIBjJNLtgIUoaYR3dlTdmfYwMrvZY4c+p5+/RV962rnqGRsIZKta/tNMpahRTY\n",
       "hBb+YU6cfXy5YKrcaadacikvzoLr6qvLWnpeFarySffOmXFAiyWxWMxYjOGUuUlAqS2ovFBg2ps4\n",
       "6P8RjyNnzS2l7chJBe44AAAKaUGaykmoQWyZTBRMEf/+tSqAAFUyu+52wKxgAVIbiv9vqv5zjC1T\n",
       "9u9YuOTwO4DLUSVsz2pVx73aB3AyVrharqAvfBcQVxdWsjw7Q5LhKsbhCMJLkl1J3pVai6L54X19\n",
       "v6NHuenwTzEHJHCIe/uz5YYpMIqwUJ+P8ZPEVcZRDy1/SlkneKAXdtKlpTRiOoNfSyUX2V/gVHl9\n",
       "98WC3c/ZYR85LBzSay5B0zUTpYHmH0LGKi3CckUvvEmiFqtDMVkI3gCStT4fuY2YTsMb1Agmx7oi\n",
       "8B8hX+2LTugdYDTAf3PeN13uR5c1MA3IdDiSnjQo2Ge3w+4Ykoa4m75zVkFsjaHJj+h7X4av6ESB\n",
       "Lsz8kchXDj8mi/waVKWFwoIrr4JFDvRWGc00DjGZEMIEj5C+rNYW6ok++bVl2ZX6QXtltEL+HtRb\n",
       "UjW7l38tAmHyXoPoHutmqpRnhjWq5E3VSAQ41HDAcKq2W49IYXFBXRNXbCSe268lDFA/mvaXbQx4\n",
       "ILPqWnBpiiI61BWTeSNhsJzQucTnYlR9ACHCjGn9xwOC/LJWOonmBBdrj7uBNWcDujPHvLh17FZs\n",
       "KeyRS9FUdbL0MB0WOL42LoAnse8q9pf+EJnZrNKCPEVPlRK5xdeuePpmm/gky9In/FkYapA3CzKo\n",
       "Xd0Cvgn74v/BYvrt9uavzthRpR/Nl4cOruX83VU543d6xZhI6Wutw0qB5WsYt0XWqRPx0eg3nsp0\n",
       "146+MEX2L3yVbDr//nMEQ26jh0mgL2rKHha9vwcQW+9kiSG+pRMTcWGkyLlC/vX/hqVUCcGqSunp\n",
       "9IMRET1HjRAcbXNCo2tBDIxg9DDFFp0AoLHVKVQGZlcwlBJg67G5bwOy50vy0u2w1RJmAs5eBbXs\n",
       "KbGasAkOudzRe+MT9kueDBZOxz3N23QQqIRJk+MjNflwufdfYhMWFAYQAjLlpUHOXGxgtUCqOEXj\n",
       "Y95wsOi/xTQOWCa+eb6iYBaXuJ1ByyXLRHXv1JTjRUCLKK3DbpUYkC7P95xVOyndwMqFbsP9bNFq\n",
       "DzO3Tnr0BhpFLv1fJEKUY5l4KbjJRJDCD6KLVVrRBe9mV5R6WCIVnYDVbM4A66g4WCJAAuckcE44\n",
       "ZgxKtKK3pE+PcMAh8SV5KzJGehVyCZtEWWkZTGAhodwCwJosxPJ2VgmwB2AURUdCb7+wLnmdD16d\n",
       "I27h3oVAhHfZ57NiwqPHEKM3sTbzcamWSs/Qsk0hCBKoHOGzZxk3njTr4Dm66U+iq03d36TVwMx/\n",
       "rKtkOOjO491nEIofqR/2qG6e9/TRHP6Aizc3B/wraMJPUJWNy/hZdB/uiz3Gqpe4o5Q6iZupeHYV\n",
       "LfsMrFDLu5tSQORB5IVpKagv0lu508xVWygW9CAHqI1ejXOy56xaJJupgcP3kGbw0M/4eco228Wq\n",
       "K1lV8BTq2QHBV4EetBkZQa1maKijNKhSfXkBAqsC1flgVX9Mi13fP71jwHG5zh88OJ3bsRxTlZ6a\n",
       "F5bqFv29j4Gnp1r54fyAE7t3Cdh6N8YJCi+z3q9rtALnve/3MFX1i273zPbuCiDKQPkA+7DyHbjS\n",
       "WkdAHDeKlFtIxoYbcQPGqEkdo9qFWp5oHTtDSJ1MFbfdf+cq6gwo6UA/lyD9OafTH7I/RDwb7AsD\n",
       "3dYE7pcf67snNP7YZYDi1m/VQTg1xTzbZ7eu6FRRIuaLMwAQVV5PzkuM7letyB+mSG0NuwGfguRl\n",
       "DGxl+VvSr8urMzTLOldMksj9lTLhZrjylmvBspp34yepL5nWXCRqdsfxGten1b5UuzarHl6p9WTF\n",
       "GEaVMTXMzoDUHbGTBNAsR9I1jhK2jRLS/PCanO6qfh738tXekjxXKlr+YFqK0+GRzZg9z7UAoIrH\n",
       "+4fqKxvzKbcjdp7ZPL0CT5lvWouIwEMur/o7UMAVc0+uH7zUGpETPWuRQH/60SbDqag5bU3aXjvS\n",
       "PxMlZXbT8iDtD5sR14Qt4U9/4H0u0yvxjZLMou7AAyrC/X7TJhgqSgv+5WOFimCaQnnj+1VBM0QZ\n",
       "cU/bwX6I7p/jmdi0pgiTJL2JVGtMA/TAcdj3db+5/fR+Own2SGn6HMbjAu2YaxU/RsohHIAT1MTa\n",
       "E9ZlKfv2FL0A4QYTH+P+TyiGAVACYunwU/ReguLJ7ViwFSYX0Ri0b2wBJx4oo6EfPwcUfPg70Csu\n",
       "keaLzrHF5rAFWLGJRbhDIxNTjSi/0oP2OdfVmhgSrvKhFNDfYdICvg+Fc9BvTiUmo/4g2ZVjzSZb\n",
       "Bav7XYNYiCYh274l+mxU/PP+tT3HUtJhtYQQhSEuh5DOGghrk5yV29IKVmztBRc02iuu7aFrNznY\n",
       "yj4bCPADH4nU8VPauAvzMufDZfEYHBwiL6yfzECyLq8tdLNrgwP4JJsqq4wqWEEim+gCXCFJdce6\n",
       "bGkGOyp81NJaToDswdyaHVzoWLTeuSxsnXn9yJ1fDzulfhkI6L9U0vLdCfWx3jaBPBBRHHhOTmHx\n",
       "Ctyv0zKOOarcjkJ3R+owii5IGBtdcGBXzWE0i6pGovxn087UKspCOeoyKZKx/QAPVhw61mBgXDrq\n",
       "eiyzdIdQFNqgh47yJrIr5+C09YFFVRt/bvoMeQXFs9syV78SUTHWFwXvrN88/8oYt/QZqqSP/fIH\n",
       "hx5rytrvKE8WXvPOZUFZ/8csAGidDb6g/A47Q/ZSZO4c4sBXxp+SaYoGiVU7Omzq5YP33y31SOQv\n",
       "bovMoZ83J33+G5Tb//drmURteeXS39KVP8bmsERVjHWlGNKvPc14pr6sOnngg3xD7jryMkOD7FVJ\n",
       "TjGgtcXe7frKkMYh/ftbBhShSUklTBKjWNrQeM45qOHTG7g9EI5PrF5m0pX0c+FdCyBiPg8KFP9b\n",
       "4MsnjFZonsCidoChgEBDuZFL6fbyCdIAUml6irMU2huZMvRg+GyGS7CgcBj2yyyROx2fK8Ikoo1T\n",
       "+bqXGTNr8STRKlFsmoVEQAJj2nAIZs7/BHd60+mXnmYjpOFqGMs0EA/NyN9ibpnNS2rEJW/gPMt+\n",
       "ijLK59JQY5DktOQMv/tZbOVHPq3EKy9fpRPmytz2mbYuvBUbyqFhdIdZHpolO6THGJcEe8SAQQv4\n",
       "LTxLAlxSFmu1NcsGXLUyEqZ3quInL+5RMwQLcPioDPM2CtpFSYbChJbrZ1EuBCdK0heNL6Uq72Ki\n",
       "30a1YxXgEAnqan6L4J6c/3El29dP1pia1QzvA6zw1Bll/mMHsG1hUzufJ4dMWpxR2XxF41xXt78z\n",
       "SRXkj73+iHoBpAw2IUKMSbIB9hSoYC5cD4L4u66W8EaBmN7lId8+elw5tnAnjQiHyW6rasrfzQc3\n",
       "CR2oqPAooYCBHecv5TAFfh+hk/8oe1pRrrPaNA/MHdBU8xAJMpxJjhjZQ2ayHjcKexvc5avgT6lp\n",
       "GfygjJZgkgBmUhi5jbPsjozYfS1+fZqLMwlyEuKR4s+s3Wi974E9el5jZwG8aay0BdFdXGp661zs\n",
       "87kPB9qjU06XoRIfGZVFsqOtUSAYdCBgizSF1nSWOzGkMhmo9GM6qKRcERb8xIbUbpyzBABte6dQ\n",
       "uaxsKE4AAAF5AZ7pakN/AAfxSrD0I3nAAEZSgSkd3y1I0B8exNpesBkbTkro1VxdDqKW/aCWbNAD\n",
       "4xhBrGa/4futivokcJxgPN0nPwCgmlcXfe8vVgxPzhQ3LmDrLFRtvRgrF8PSiHHTXeUlDgUO+c4u\n",
       "6lKvCQTih9PLG+5m8yV93o4v8q9yGiV7PkZTNvoePnY1ATtusQi7LaXCkALenPhIQuGSIyFjTS0W\n",
       "XZzGhXgiXP1Sj1+Ge9fxUGMLAANyjBG3hS2MReDvMQlv6UsDlOQu0Mg0z+kX0X4OEdNrrohZgBfj\n",
       "vQBFieuuXIDFvN7xXwFfcL5Nkcnxqamqaak20Zn0jhxlxZhuW/mSzqUWV/DC2xXbRYwFOnA5SW7/\n",
       "tZuHnrDazsfBsbNWhQ6H82dX/VtMP1LjI34ovICZ9pcKKjePdBEZz944WtoUBGPJyMFKtNemGH0u\n",
       "Ntiux6UniLBej3CCslIkV6eSInykFZJ93aXa7BTA1VHVIFEdfNcLtKFULtEAAAb5QZrsSeEKUmUw\n",
       "UsEf/rUqgAAM9GSHEBjcgwAVv5igLJJXOplgUMreViQQU1RXPeFTSmEkayv5jiyns+Nlb4/6Vf/N\n",
       "qnAT6CUVREdXlGpMAUauV/FmsQB4PATGcsbmmI2ntS3gSyfyOZWWy/w9lVRqM+2DFxZpLHy++gEu\n",
       "vsq7QvpTbFaLmfNo7/fB5AnfMM6FPott0lww+SRz/BdD1guyO8czLYs/bjrvydOWZ3s4B8xUjIFK\n",
       "XEAVq8SERtVU4+RrEcTGQrHE+N7t8/R9sjsWxNm/r7elIia5NW9pYZrjvvs/beJnt8TRtNhMZCvD\n",
       "yt67lsbkpwCGg5mK6Si3s3XeFSpfb3kNjpm3dNkqeXyhKLqY63SfE9bZZ4NR9nxIWQgK4L8CVpV8\n",
       "FtRgOVNbUWtSw4uKfAu/9J6coHdOlywX1CXR7Cdy47g8HqrGa76vgC2+ljFJ/hiTgcwGtlVoupo9\n",
       "x23na7UUPMOQpIq/DVXeyT0bdIbcmf554d6LeNbGmdA04iffWWvCLi8YRQt+jwTw4619reySrndQ\n",
       "EfRTPgTme4kbMo/dw5d7eqM34ntIp73/dpvPPzlbVdFZt0mPPGrjqJJCAGw/AgA3N2GCdXBVGFhi\n",
       "FTOkUT831CaTRm1wt3/7YG1XL4nswMiKN/fHU8ZJULvTNd/vPOROUL6CGPm9hul/kvjzsP2+1nIZ\n",
       "Mrt9P+ZKOV6D0durgzmJvmTfdbHzvZbjqFXtwSz/FS5+av03DkMuKrH7Ekuy2c5971DJ8xtqDIoW\n",
       "AU8L7Kbnnxrry8Ow5SvuFIxOFOcrhHxFFuirksdFF6WnJyFb38W753LeW06fIkt5fhRgmjQhEBt8\n",
       "xB68MTrMYnPMVdlb8Pfw7rMAbB6MarC5Ma7Xr/6QvG4ujPhej8+0AAIxrqWlP9bfEF//ztNlfx56\n",
       "wHZJqkyziR2NJoPR1F7eW0u/eIv4dgeem9QrhN2MGCeUw3UHwxyALdt2WZ6/wxN+vS+Nrup5qZxQ\n",
       "u957bb7nQe7B1c6VS5b7qBEBR2oe9mK1nfg0oQ2SwntLchANKfaTg7Q3ka2dRtkFoPgr0bvHfU/W\n",
       "iy6ewQ42NworR2ix/AANkELLfPy6gIXLkUvjdK3g77xmdmmPKDqk5f86H15MhEIasy85m1g34VsZ\n",
       "LMHinwfU1qzBUDjbFlRJuvogoqX4P5gGi3hl8vsjT6z1RzTVuBrZgooPqGT4TUUa6JDJ8Nsp8Mms\n",
       "VmYt594TD3yau9TSwKQrW7GQiPqfHO8lgpjyMNqKM889+0ONJjrJ27yxAXysiScSv6KLY9wV+CO4\n",
       "ta6vhrxdCuHOZqGa8oByWl//eOEL+0Ou0zwoUMpqOfhZfMD9qQHHhprUl3xRRvSeZLQI539yh1co\n",
       "xbgc2UXGbBq2s9dJsRbbqvqFolwU9Fa/SBG7+peq2vBBHT/M2m0J0v+qJBa0rmsmSPLWmV4lwWJN\n",
       "5xI/6DcPXpxtTCBCdt+fOMCk5IBb4AqWv9w08ICIvIXkc580cPcEYvwadEprEx9EVXCbi+qm3pYu\n",
       "DTSDdSLcYNS7ICitn4gYNOayW0Kuwc4MuBP07q40vQjoIE/7aCpM/U+mdLu8LOOmiFc6gb8R5RmO\n",
       "xx/rFqSbnSdPj7mjio8Xx7sha+cp1EZdnmhU5rSxPYHiPuRM0uBzq/pf1CySqWy5WsqeNzt/P3o2\n",
       "wDuVXpYW61LPWGrKDqwyyx2rVVIS/ywFoM/Kp9VRRtIKdJLflBkzPrcam7GLh4Py96jmtcvKKrY+\n",
       "2lzEHJosFc452qs+59eesVkK26D//+IqMGGIaYRID0U4Yr03GzhqVzes2C0vVs1J5F8cz9u/jUzK\n",
       "snCDO/yFoN3hPbSFZb4eemYJ05e1Mzl3AWVfLeHaoAwdeCe9EAI3+9KZqu8Kp/69tnfBE7c2m0mD\n",
       "ZTCL9oEaomN2yaoXJO9CgX1i/QzPbjUqCTsFC6pwB6VEYpZgkokbmF2kSLyZ0tL2wzFEmgqLSajK\n",
       "EkWXF+sZt9TRbkXDWhbiffDJG7ffgTM7n7Uf1jmOBZwa+TRb181Y/kHB8OfpJTe38LwpwoKGkwil\n",
       "oqe1AoMRr1C1o3EEkW2J1lQmt+pwMzXuw399/y0gz9KGNbAl4ed9k6zZ6KNnVO2wzYCf08EaxO5y\n",
       "Jrk+zYqUoQ8H6+AwBPOApsKX0Sc4BBPsYgiebKz3ARz3P58Sw2yAmcV45ROToHU3eIwCeeM2jRqj\n",
       "ptEk161IyfE0X/JjEabct5sbr1EwaIeQzs050Vyp6OyPmO5EZ+ZewJkn0r/kOQUAngZpGvyQzhoH\n",
       "h08dNZnPMhyVZCPbUY8DHAbx7Y1fUIH3k0a6MGsEz4nCpxE0UyvzZEn8VtTPOWY49WqRh1ra0XL8\n",
       "6PAwlKIkkiUtAAABCwGfC2pDfwAApliReZt7yAEhUlD1+nJ+zL9+Gd1LHMV+tLEzv6Sn5L39X7vf\n",
       "I/9Ev413cwye6dwNsHcUrIQUlLNhKizvIp0NlxPXVPRbrNVVvvn6LNJONSxl0NuU1wxVdKnLxBVA\n",
       "m0TjUV4+5SwIvFtQc7DZg5VxcUKv6hTbgN/DV7B7iAK7eYMqDXow79CzdwT1JPC32ecNPISMPMNr\n",
       "UWIDmD/iieKT/4yt6vQgRLvVZfhV7Tl7RoI1f2lftqvgHWY4IQ0ttBPYlcIFCABGU0mc5dw4CglV\n",
       "D/P6RRMjbjNDtZg6sXeIPsrOvIBVjx43/GcxgEyLmSZjHik9GW5SC04MSN+6P+mbMkwVsAAADY9B\n",
       "mxBJ4Q6JlMCCP/61KoADFbANAAfuUqkF4k3ICcGouuHkUIOiXMYYOwzFVR/MX+gfSkT3Us7QRBnM\n",
       "5CORQAq89itsU0xjn4cwhvE4H+lKpeTKhcGYkcs499Dz3VGPwvSOVva+RMuTY6TM0k4fE5+mVGeP\n",
       "8X6KlPdH5j4aSbfUkireYch0leS2dpaAlt3iZD8Jf4/J2g1np1auceC5p/zUm6tuhi4a/wewqGy9\n",
       "rXCbysxOq0VwME+lWdrBbQLPkDTg0ErwCftvrGs5CcsOrxa1NUXhZm8XOAB5bYAcItdsjq455l74\n",
       "tgS1msG0Ayo8yz/zPHVHH4jqzkNmJStqaw/E5D5cq+EeLX9sS6+lC3+kXYCqEkbkB2OPKXwz5ssG\n",
       "x/kRqTw4godIVLsiaHHNAGwpGyuO/FK1VlQNw4pBkjrAWBRHOOWTtU8tILMCsi56Q/BqVOqNMorg\n",
       "W4iqn5whZAZdZWMcyNEhLw/vUjYK/GnYmaCjlrpvn+oCDrGDOpremN9JOl2uVjgkrrmSvgoAlNu5\n",
       "VYYaSjr87Za81SwODcEoN3l/SfeWBJxabPNUPB2yxzv/10l10cYp+RkyYWHta2sKTOqTai9rkN+3\n",
       "yCq9KN+GBLUba8KVIl453RZFAGa4A+uMi61s3bDf+diZ787x+UOXuR20R3qsNx4IzmUKTsdTkuXI\n",
       "kqqMRP2LifdhRDVHETfNFU6aVceTbf33gTW5PG60N6yRsDk4VhPcMHlI7kB6Jws6702fdhrVyVJb\n",
       "VEtTjfk+rBdOQjmFg5SyQcUcx2EvReVoc0MUU5irFDa9Mh4xrsDBL9BxG2oMBNhduy/GkMuPTkg0\n",
       "xz3dTC+Bd8z1Z1rfnBpZdCX8qikpmeA1p7f3Li0ffPl+kzwwajYXSc+Ka8UJC5TkWlW+agSd9fw+\n",
       "nKT1cJ/+hklq7Ac90OWWaBKbnlx4wpjfE9b5Kt+fl7r6JyKiOIdNl5M+hIBYiZkzfLOUd2TzuW+9\n",
       "COpn9QEm68u97X2xsOeDzfDlxv3IP64edJEiLeKW7fGA3xxL+SuJv/tAxb9jZf1gPB7kmWghZQ3m\n",
       "SJlH8iDNlEn42kzKeAbVez0dR3EsvE7PTwD9pvHmaAvFM0/gG19MswRSt35gYXu+lKgbz+BXfZWg\n",
       "U1R834f5kw9D7cNfMq1iba7ypWa/CXcEwHESd7/OwK53jRFF5+tv3Zn2vBFG+yYiwxJOH9LQBSw8\n",
       "SHs6pZZ6jn+TdBCwoqWCRG1Be0C+bp/3F3SO+oRRsy5/5pfbGyeyXXK1EibTPJ1kYwlgrMtiZ/W1\n",
       "BJlO8FuD8aPu4R8gHVzeq4XqLLxkbtmSoQtAbqTBqU/1Q91piwIX0xuTAgL+0HzDv3/2LYrqHE5X\n",
       "xq3XMbrfq6LvDZ6NsaToOK0YuiBEwXXVdr1O8a73TFFJWWJ5ifVE0ioPJEaciZ58r3TAy6setpIh\n",
       "JWvRJPjpwYPVOBIdfx2Z9SzB1gQA3qkD94aiHJrx1ta1cGRnT3I9nWDh5lWmVOKsWwMY3ukiLW4k\n",
       "5zrt23NqZqXIET8A2riw6ov2vXEHu887MnilJb9EkwLcAYsn9Z6qq2riM92qrhWG2My47z+JAQ/v\n",
       "XoAKBuXUCY7ZF3NVAIALau5c48CqPUTN1g/ZP19qRafs3QBzWXJeSgBONOFUjg6t8xSAjidLotVz\n",
       "1cuXws/4hUCmVID3ccxn+jLcNUBq/sBiupJ3N7mCvekKdwgMW3qqEqS/ZDPdv6V5eFzbHC7dwD2A\n",
       "Mj8SbzJOqWl+sDf5BUyXhZL3VvfsCOHst5KtMBMb0Mvl8rbGI/oao+5hDOYcb8QPArMgTJBTTzff\n",
       "GdizQbJHWBqnryexoD11jrgreyF6c2jWALCtwz4O6r9OzpCnDtcJFQ2ZuoV/qZPhajP6bWlpK9Gr\n",
       "l8cZve+fMx+5Sbn54EqISrTC5I9myWxzJTbwJWNX0vhk/7EAac+8J00pbYwpSmn3NPpH/bKymHin\n",
       "w7Q0tDxZyQrBvfdYwxMNFuFOsiBA6QT463jsBtWsfcrl8Y5izOzAVFd9D/UzBU+CG2qAb0sk5Lb8\n",
       "Ya+oY1dhHvP+Cmh7+qsXQokmcsp5Qf+1eaLetED/Mi1e2GuJINOjE8o91LpWRqjUR95GuPCFaf+M\n",
       "Hb0CQZvn+8yIzf7lAu7y5kHePqdmALvNoJ1+cwRtjXSnNMONNsXtHzITR4Li2nLTwwNIM2e+z/Is\n",
       "QmGP+jvUk7+0/pWqNln2NBzABZv22M5La/QV17TIbZ5spQliXzU89cNK6i7JcNV4BFcWeqRXNARF\n",
       "pC4vXAM5vWPhUM/MNjKEti3ranvHLl5Qr7hv2LR/39cLWvtOvwwR7CkViBjiHrF7nqYY1vuW4pva\n",
       "CYjnHDq2TyMT+WoakcQr8gELTBiFRlPKqr3/1HCVOx7gggP+BC/rJv7av2u//PM4Hj3Xs1mPmBVS\n",
       "3sevNYxcFInnvoaT97BwS3Jx5fHyreB6m5MN6feRjnxppkQVFNUWuwr0c3fT8aGEJeoRh8dTVZ/j\n",
       "316LRxu3FR6ZSiV7cgn2S/aFqSxF+kbImjt0C57miwusUcOa5wHT0lx48Cm0Fa2CJJ5yK7pVq7Hd\n",
       "KTQQ7pviI/ZI9P6Zmmz/h7qXLQNkNJ8+LYvOpNfGI2aF8gMoLGRwUKAHgtjPd8MGVmSG2gB0OwAT\n",
       "CzAyYJko2DXb5eru0H1Q5IF2+rpj78sAA1efGyQTzAQSxrMILArxwZxNocO2tx2bjJKHGDL1K9BF\n",
       "qv3ykLj0r963tnLhmdKp7aGE/ezy/n7+HsPbExVelJpK+MbpwrKoLMlShZx/EaAD0qZmZgcRwRXq\n",
       "zKm9z37WiQGmqEK2OzV0KTbw57OP2h0D+/W+2YaA4vk3TZjVooGSbktasRqS2sF2V4tmffzyFT1r\n",
       "iBWyqjxmS1x6hmsOjp+Cr3wPZ3q+aFOWxVu4SAuPD5KSfGKRFduyUwkg7y8tXuWPhYndP5bKsjNd\n",
       "6LhjS5XmMov2l4Q9KFTf7CaSyFL/Zzbjuhac6JzQG77Hocq0/6otwexr/I733LUa/v+8xrR2pJSW\n",
       "Y2Dogtcvpyh1aLzB73Q9f6FKYdz4Ugga80JLvSZ64Y1BDEKRHIOcn2W+IiHXh5Ttte6tAIu9SHZN\n",
       "tYGmf+AulX4da7eRPAIPn5mEeKjZH8POHfMCHwYhc5C4K/mN2+X1iL/1W0ddspM5PZF1LCAq3tuB\n",
       "Q8eyZlKV7IAc47un9GvEPwfny/IdVAcUXNO7bNgtrNECeKEOoIM3s/MGS9P6OaQfv8g1Fj2NvZTt\n",
       "VX5SVlMeU8aVE9Gngh4NNuzdsTfx5Vdw+GjYO8DNF3QUgp9TDsNtc5uF3tIyh0pgR4YHWFzIWj0p\n",
       "rN7VO2SEqnfxg5DGmtQNYd7lIGfsJuOO7hf6aj9KD6QeAk8jQIyozI1y653CV7o06Qd/zRaeOIKf\n",
       "MDMayhe5QrKgO8ZMO65SDBIv2C4z4PZfEWt+d6pHCmvsSftmYHmY6zDZ+8Qw5T51dAKVaEv514lM\n",
       "kS1hB/NVTTgkzRrdYUbIG8DRDbotEuRQ67d6JuoDLxiw61LVzThfsbPuJDi5Wk0BeWKygmBe+ecS\n",
       "S3Fo7UOnEbEPeSU759JuBl6fZl7yUaFllEnWVJEV1rE4EGb8tXTzBQ6fSU4+zbd8xSXWEGGtXGwU\n",
       "qxRamAq+uwv++3PQPasH4diZYTlPgXFArkseCAhCYmhPWKMzPuefn3DaQB+SDx1g3dc4OZUJ63R1\n",
       "MbSEmwYtpAhn5Qr5V/3JHbD245pbu1UgfC7uxN/SfmtzUl2RVU7xB+tjAmng10qg+ZDQF73IzxnD\n",
       "UqF0bCfx+DtGVLPMMaTu3N3Qv1JiKACXqEzXWVXhvwSqgQiyGyGSlJCAAHdWv5XjGEwG1Q062HB/\n",
       "ghzbABBPw6zUp7gBXok+tBn1LuTpkwYd0ksl8ydpJsut5qnx5VL0VHm6STVdc4krduPurSg8pp7E\n",
       "HRRKQy0adX7ZUJLzXvmgP02HdMSKcr86DoHEFEYWjyccWB39YJtBzMqn1X4W2VSbHxNp5QPDd04q\n",
       "bHOsGRIWDG7CF9yxYyEWAqiFSAzLLNzBtYTZL5SztTduN22J9iCqSt+F+FllPAkQbej0ig65vmRe\n",
       "XZI1HUL/Nl5kVb2CpWg9YNP7nUEgINO3Peje7RSn4sDt+utF6KI8+ZLhZ7P62cw1wFViU8y8bvVh\n",
       "vIR0NKkOOQWB8SoZ7LVKiJ0X+rXyFt4Zj5OuX6yxPvXmd6IOB1CdrGPKWNH1tKW5SsI4M802yBpI\n",
       "2OqFu7TQBwCx9vG2NwdaUMwPqwTRIaS2u6WJb+TzyTl00jw8qz/r3L1hyw/6KLmcx/TGr4Hqwwfe\n",
       "l663htIHA+XUpmjrAjx7MW686CCYdrJJI56yxUyVmF4EbIHCY0qw4K8sI0vhrR6PxhrBvGYxdOY2\n",
       "nm1gmGiB3l3O1CofCSs7ltBHrAOjUlLsR2H67h5v6rXrIv8+EDwtzQN3wNOigxxFpFkXN4jPJKJl\n",
       "pc7afO04I78KjxFTkGU2wLZ16BA824lVLzRm/TY6dLNeZcjbA95IjUL27/uOGu8psRaEwGUqDEg8\n",
       "dElN2vDMv5s9d+ec28/aOBq8RcbfcqY9XFSnUELVZPiMUAOh/W/PtRsPOcA9MpqDlg8AAAFOQZ8u\n",
       "RRU8O/8AGzx2AAOSaRo9FdWrMTmMq5msnZ+oPI/zJIYOYWk//sjM/1FjGEh5mGFRToc3uCn1+CWE\n",
       "7XE6pJ+8uRo3HbGZbkGiit/gSi+R7xG5OFhuqlIOnDVRf+f8IZG7s3weEPEca0O7InG4liRX1jpn\n",
       "Y1r7Wdn98WCU73oKLcmfvJJaP3wUPaU7BDftoY2TyTyKtcoSDxqWvYe220nXTNeCLMvMqzWnDd8x\n",
       "2D1NgWfjQlhNgWGs6acjmBJCBWcCSskVjw8YOxOyDEkcpXBaej5jgjw6e2xYFaqFV5S9eirgNK3Y\n",
       "XOXxqTacAQdcvvOe66k1DEkM7O/A3LSQSyC1Uq5MnC73rIfjISyhy+6DjLxUn38TeimOxjqfVIkx\n",
       "/RwLU57vCRP69gJDobuvUwvKCCW3U16yPBWyXPmQXr6I5wKhkiDg5RHOuPQVIQAAAXkBn010Q38A\n",
       "JreItPXlqd/owATqAt75BzUbuCN6i0lFQwhxOnbP/mADJDAY4ES2XdrjEpTZkNHIHuxRyBuTlswb\n",
       "Wxb5x80AIwdmaJs3I//NdqmZg7f8UrgA/wWB7tilvLSFRvUj93D7hx9q18QS6PYoxB81EW6nXH9s\n",
       "8VqzQja3ccDQvezyhyQEOw3LvNowg8tYGNEUQgbCSTsHMm9AMkrz4DcPze+fpyU5784vR4qhKya5\n",
       "9wmhqNRzlzgxXefY2kfS9rKMFltV1x7SfkPR8O9MXyyZ7386vY3e38Avefx8iG7uTxCLSH80Ju1A\n",
       "42/OOq0MZpMc+tPge3StJhVaFmLmKE3Q7sHX8TpzVA+UyvGYKHMDHV3Lv8zvkuF8VTn25tmSY9od\n",
       "I2Pg3UxpUQdEPsbML24Ekt9NvTNUmA+1vUa8+66KpaHCfPq9G2LdFu9Rs6D85XzVXBofRg8Nykud\n",
       "ODpbTMON+FocLobp7vZZv1epIoC4nJT9kiccsQAAATUBn09qQ38AJrGSkYb1AHN4cCcpKzbDQumh\n",
       "rxKh2WhER11+IU6svU+yjfLRHGYEtl3a4xKDe3sPWTcqstntqvD9Zn28kc8R2MpJ3OpUVPKMSCp4\n",
       "j9umAVuJr8uEJkjADdguGEMU+v+sd/NYBwfkQ3/ipZQN2JUFhchskahGG9RjY+2N9l6U0+l8A34P\n",
       "2ys/cUerNo3zv9D64tPOcDnMF6Ac/+UvaQsZ08TRoXD/5NPchaU3DQEtahsvU3IL7yjKddHAcOpY\n",
       "atonHA9x8T6s3Eil/cuYiNUaQb88GuFBJnpdlvNwPFO1mP5vQ8/SIREUMSFcP7YBhvlkjQzojiAU\n",
       "fioHK9wwltiV3gXEQKho3hJai+4OBZ9OyVq8lm0dutuWeU9TR24OGFnwBkKmhYsLLilr4JWv23AA\n",
       "AAoWQZtUSahBaJlMCCH//qpVABMEEYgBbByuGJUWMAS79sMw9k25/CRenjLptsg79ZJvmkBNqZ80\n",
       "BTT1i0qc6uouMK9nhyOFhelwuqzKNSjYrDhK/8/92hxfpcc8g/mj1PM6nI4CAj+WBntRUBv26tV5\n",
       "Etrji0P0AdBEm5gwAmfRhxCz3OCGZRCPs7MoH/3GeOWWBBi5U5K5N3Nt4jCKifRG4ZI4ySivTd9d\n",
       "hKNKgKwQc3fTj873+gZ2UJdINmKPGcodaeHLv80MKbSSgK/abWr5X512lhL1LXuEk/WWztVwCRh0\n",
       "dBC3gno9nVJuJRYiTO7QF3TZgHIEPWSPO3nAx4omfKR48eTYbk2kgwGJDnPMeqn42SgdLfIyB2ju\n",
       "Y6d3Me7lZjKj7LLurcTz/QV7sWM12gEx0siZFFTUMBeBbL1kuXFHq2FNgKFch5yaIVNL1iAB+N7j\n",
       "6seFURgB1rUWqRYw8NAoJKvdGdFwbW9UJAT/q112TQGBdhMXLwrEnR6Pt774+gn7q0xfIX8cZYAA\n",
       "J/q0vg8uBWxa6Yk1M+2AE+rHxDVQ7HrPkPe1Gjw0J9YBATksWuCqvpZBw2khQHwAZ1yokBaCooth\n",
       "3mWcieFnNds8IRLjVC0NafpwZ9qt2S2vo+HPDT/tvfgiv9HezWjKm/azVoW2C7kN+mBQB08IIYwE\n",
       "WsZ+GocnERWacLFgRSw7Gk9kABurCHDic8CmqkkS04RF7ARle5eO2Le89QeKatyCNrZsF3c2SwrU\n",
       "qB0udWmY53z2nDqfWgr5wue/s8ezzwNA4VVpDYccVQxCHihrhLcKoyco5SuliRFYXWHcPuY2tPQy\n",
       "2hzOWR4hkad8dx6BMcGeGJY/19M2X9cBXA+dNB0pHhLCvUzQbCNmmq4DuMgy/5BpeV9jlyJv/uvQ\n",
       "hNOfoILwQTjV6/eo2yGJgtAX1zbeDvhNBibULg0v2N8tDkXqYDxDV6d/ZrsERH6syVsUFgRVfYzE\n",
       "lDotw1Uv+17pG+LgAAADAPDhwdwxunGQxl1tYlweimZWhyZQNmdMbA01jaup8WgXZF0ExHX21XTc\n",
       "bPTny19jr8xLlY2OHny/d3a00jB/FtwVc5YlrmZdWqcPG9o/eXfWh1Xxp5pSBnENpqKvMn6ByRO2\n",
       "C66GDglazEAtepLUqoY8Mj4uUDv7YxZeFSuzK6aE12AiJMNEslir0ykL3J0I4HWzV099OXHknbMU\n",
       "MZ1ymPye72x6V1/UaoEcgz9kgCqxkJc07Z2CflR10qrACzXBj8LnuNajAPcHKI6TR0KiWbkU3e9Z\n",
       "pu83EWLc440Pj5tKpleL/6Uvxl596ACZzLtDWWWOs8wGeYepfG5MG4Ah1qJ7IFvoxNp3UUL7vRHP\n",
       "7M1oxTP1DOpY8y6jSKZsavobp2EnYsJs0fQcXEIgad30dSffpMczt4ojW7qRVxeWDeFkdmsxn2t2\n",
       "yy7Kg12eZHaILoR7D2VLqQdXbPbfzMF9uZrGmlubX1xkZx+gX/KJ+xhb5QDdZVoRF1f0p/s0zL36\n",
       "Gg2zh1QrDuodKW4Y8TGZzBHXKTdw3MctCiDDkix7GZQr6wGlH/Gw6HZpjQm48VtVNUGppwFat+oQ\n",
       "HKoeMNOWVkE+iR2DIdfjgau8poXbKkNXFZUsWjzjmLm10/wgddbj3hdvHltXk7AJBujZp0n5wyf0\n",
       "fnCUL6GO5LyrgC8xt0BHw4lkPJ05owdCJQcqjAmba/ZNn+sZzrQI+xpi89LfamjliURsrB202uQp\n",
       "s2HHQ0SDLKfmki+oNpz1vdhfsYbIKhldwdXC77aY/f2D/r22RJR5J/XL3NcITGuOhVwx9fVRMneW\n",
       "LKA8PF1QP0omwMm9mPtvQCpcCuuM+u1kJdZo72U4kyqcIXFciDlqLebkGfYWvYiT5UKpkbQWf9Tm\n",
       "TB3Pb9Wp8HyluGpSpOBwtvIy2nen7H1ANNiwe/r2+MlA3mNtdolWIvnWEqgf3Gzx8IUEiNLH6sPh\n",
       "viWpjT+DP2/9O99TYE/VwXxGSSqiZnq6oYBCfAjbrQJ/Ml0t15SWI4p3Clu1oNvjaaFyGFaeSZm1\n",
       "nPK90hBSqBQIz+IKmmYMeEZkb8kjV3jXYVkPD7bLjTkIuf0UrPK8rq5BCjFyou2Dj/OqstvIFIfD\n",
       "CE5hP3W6ay66MZs2oVZisvjUHMy62UjUnZvhuZm6flr2x5v6CTYj8mfROBo5sHOBPm/PJBetA7fj\n",
       "HgqKgNdrTYKe5TUmn6TFzjnSXygl4U+vepZSOIFOlF/7uERqQWbFs09ZtApaLJPH8JOIlfwRLdu7\n",
       "7O0bNSUgLC9wq8C+5MCgYmChY1wBw045IJr79TcWTuBZcd+7/9sMYU8qNuMsMuN0KEPcWVQREUz/\n",
       "X5Ripknur7f14qQ/H7ZRFoDnn8uMM25HN8hYYTKsmp7cA172t18ZMvh3FFJTWM+z3qCxw2przHA/\n",
       "CzBH6CAO75jg8KKHqO6XNfWF23jI6F66TYJZVF0EKXJAWgjZDz8LAdH3Xc0qLpCH6JxfZ+ZlHmK3\n",
       "mCPCGpM6fCOLIy0Gv5c+DEg6C+GRdv8cT7Kz6CsjEEhcHBR5gbmJPwc2dCBxXVx/YDbEWtbfx7JE\n",
       "Qj/wFiAujWOFymR6Eyu6OMq5Aw7G50icTsEF4TvPury0CFdm6vDJypzfobOI5/3uPIp0ZCIzJpVY\n",
       "Rl9pv7pqkJmH026x8aKVwc8jYQE+evJmwwObcsu95UNYHSHm8pAaaNHPH92S6JRBtvKdi0kKHyDf\n",
       "RZffNUej+/MW4xZyuEyw+uEJr+kjFvhCPJKp/tla3s5ElDp1BOj+rSSm4N8v93DdJHsWLV60Jfnx\n",
       "WREYB7mCHCQ9XhXXroZMZaWhiQwP4N/EKwMeaFY6DqAcujrV0sMHj2rxcdZ6AGxH0uLA8GoeUTOw\n",
       "lySgNwSqBTNnxRaDZFdv2a9+14Y7Jc/ru2rzrUsAfQ0VYeF40A1pjcqyvzgNWUneX03ic41oFx1/\n",
       "nv7xtznbx1zuj531ysgCz+1gN2NKE13KdCg0YsrVN8dnWLMTpdJ3Td4TvNa1fhWR4/NwdsftXf4c\n",
       "tPV6djliWBWArUh8l5USpecQ54a4Ca9wQgHnq+y9vqpfui/9Fyjk5vuLgm6wbFEL7CFoLvozBS97\n",
       "XehhovZBbFZPm/wC5AtNwzvzto0Df0mI5Tn49UVJxOfwlq+xXaMIRLA52h5GrCekrvbI8TdaGtGf\n",
       "6JVcqf4WEAdd2lsH7X/fVW+/8jGSy+I2tArWWt3qhRqpb8cH97D8lJpj9JIUoUa2rLC0U51+ov27\n",
       "IpMGCvlmgcY/fwkN27pdpo6KKSdiyg7sbAmzmExqHWhJwWtmBrlej0Grhmo1vZS8u03RAc8BLH83\n",
       "gqlS4GzMny5kQLku9Otvjc3nfLOkxGae5atUb6NVdCj9BnZ42XXdifJJr77EtxyyX3eTW9drJrh7\n",
       "PyCVZnwWeC1dguV9L2UWxhqM1KIAAAGaQZ9yRREsO/8AJRH9ebY4QU4GC+2G9t8ARNa3s7xto1si\n",
       "KZy0odzXGTUML3uRbrXeULDwBdnMhHoHL3H+bUWynnruglYdJSVbRjeWhX1yJaq30dn6O5m+7lyC\n",
       "JWcWMgjXya1uRwVODE/Pi2hwSFNS9P68nryqrfVQ1FEzJ2sT6/IClP1K8tye/f3q4iXvEQNxVyup\n",
       "bZNhmH3QVySqK53lwxRB01wy7UNCXlx3yBQCUrDGJJBUXBR1DRHATQlCSm4EeGIMpfZJUnpUiIOq\n",
       "Ay821KC/rowOe+mUyaud4RzuKD00wpbLY9s7W6cT1KlAHLIug1644q5BkyHJQ6Qf5CglPsF5JFa8\n",
       "pCgcbbAzn8kqQGGizZ5bcXrB4PxxwEE5+R/aiJ3uxN0zvzCyWuELbKJNek7l5PGu5wscTBLU3LIx\n",
       "rxaZL5R46O5Es+mIWEFWvcOA453Yd4BSqN9wQ6p/EvcqQ+h3E5cGsWxB40e3HaSy3EzFbXP5YOrk\n",
       "OqglPwTRE6lhtsmSLPfkC7C4cYty8OrhTFYhN8Y3Of8qW6cAAAFyAZ+RdEN/ADEmeIAPg1UqFCgy\n",
       "9C0fr1OwdHpXCzrJwLxyyV5RMl4Nb/bM/MU908fKe87SliBf0/V7fNp7WNhGVv8ZC2mu0OmEYoEi\n",
       "byCzKfmAStb0wTgvLsAMqfzlhxd5Uz/XoJYc2cytbUT9J1xnmw+eU9qV2j7yPN3IW5KxzWt+2oNf\n",
       "J7srQe2lYVT/Ffimdrf6aMXJhUlIqUN6mWABfS2RyMvIaPtIJYDEoj+87eiZg/0iLT+npKsk7YIx\n",
       "tLRQUML+ifbu3n3w5qcxEkS74eCCeh4rLYAUfooIQhYwtS3dBOmvw+mRcJdCHxC0/EOyh30PcEcm\n",
       "G3CGjfYdjCu1hr8e6/oBX77y94QdDR04Fzx5EPVALauvWQ7/QNZt07tN+tq0u/EJ6m/9x6tKcq9q\n",
       "YvCabVpI+JfGqdnej0vDWVB4f9De8WnUyHesIq/zzWCCh+MAIqpHBTIso+UFkYvRVBi8K6M9MLdM\n",
       "wkH330vm0SBWwAAAAXYBn5NqQ38ANMXSYgvtSv94Yzmg3LCZnLsgUBglqjaEfJE3n4VVFxYMYsFU\n",
       "I/9MsOLb0u4Om+jACx39VQM6QI/La2qyINNVe1Hwxzj78kS74lnFQgBBJpyWCJguZKaWcPuEAAau\n",
       "SilDoDy4tosAmbQXknSz1YmCsaLsfu8kebsw8vUIsVdfg0vA5RzmwtB3osRp5q9IxxFMxREDwgy9\n",
       "xwFeyXLP4ayUrogN3dirJN+Rl35ZIo7UoPlP8xHJyS49l2/pilcu6ieTtYP5bBf4eZzz4+zP/cL/\n",
       "miWnq4lSD9Se/hGec3YyOCBy1MzyZbtxfH67sMP4oEwrBJkClBoABFTrimSa9pPhb//tnMzd69bN\n",
       "joRhBd2K1+za80bZwSaRlObpA/yeDvT3MujXjurMoeXqUc7XhNyqC7+yBZje9FBCA8KegD81BBFO\n",
       "oWGMD4jRXnxr97XqPK1FprAnJ95IpzDBwu3z/WnUG8K/b8QznLK1J227GfwFLwAAEHxBm5dJqEFs\n",
       "mUwIf//+qZYAShZk+ZcaSoZXe4FACMFXQlw0euG0LIysVEFeM/tDAqp07l3NeBmODsKWQnYAqH1m\n",
       "/EwWZORyzxvt7WfCnf7UVR8X427kebTvm+cn9cb//zLhPExM0CpPaRUtrvF2Vo7b14eo3XcMgWKV\n",
       "1se1/PbOs8s8UgC9IdWSMjboJYUUNZY64d4v/QTg50VA0v6lmiTovxEUWPlaPUyOGouS/XX++MVP\n",
       "SG2NsqYvynvsLg+d9i/+MNhONEXbMn/mf0iYsg6WTr+WeXULtEZT8PL4oH6kVDq79wn09D4o6H3B\n",
       "09pI3nIr8OWEPwBoGJw4ZT8RGiPBr0RUzT2TaXgfRQRtSBPrvFmpGLhm2sdO4Iu1YhCcL6CMov32\n",
       "Czg113lB9ezR7/bwHrNkl/2KuValTgjaLpdBMStsvcH2+sKk5i05q/1kUHO/Nh/esUkoAgpun90f\n",
       "bSMILgtVC6CJ27bfzoAVrlQDIx3FUvU/YRA7LkK1upAlTJOthfsyeXuMUbNZ6dmUzfsFxHyDI8WN\n",
       "x2NcSjbmLHj015hJhClRFpBbGPjwzHSx3Rlxy9c+my8kpF2qovQVEZOW+6MbCk7gTmS67JC/7hAD\n",
       "0mKe/WvIhmN/eVgwMhfNBHEpVNtCQhFdLwZBG5FLbGDyuU3wJ4qZnL0qH64F55fOOfwXtvliLmGn\n",
       "VorjBaqoyCBvRDrc276svsSV31S4nEMY9ySvdzSvHZ+pAfrNm7+Bt47/fPxds082Ve1XrPWjsvNt\n",
       "ooZSiwrXyAq+jFlUNpnvqh/sJ6QNdOyaiIFXv7yA1pZbUBvGuX+VC7QailbbOjm9AliGBRlaOl09\n",
       "cr9XszGOffQsaCfl5Ggh40yBuxt+DOVsUPozVVmUsMmXxU89n9VLow33kueMvLCnRbbGRJs10gIN\n",
       "42JecqIF8ok9vJe0P0dPCHoHnLFGPI44Zk/Zvcf08B05EZT1Q4wZQ7CRmAwWuaXoAL8fs0EjGp8p\n",
       "kkyJs2uFrpzpd+0+MEqr+8atp/FBoAP9yMHoFzYiK58nOVFZoQeU1WZu6Z5ZmEVCiwjCQ5GXLpEy\n",
       "phmgLhM6uyRHFVq+J6KklS4c9c/MZ9tXUUG5Bz1ISFGAQPtaROJVk3dEzlue5otxTPRE1Jx5w30d\n",
       "EAEIita8nt0VAzmypTGbA5Zg0bR8GJgAbK9oQS8YnqeAysNMEBfYNBDHznAacfSqioVQUoIuoc/G\n",
       "45uwfByrZJZMIHH4lcJxXa8L9iLEqadHUDFeJePbi+gzhgkXvfHVPAgAPSDJo2ZXAHT6tMWyjHx1\n",
       "8gVG17GrIL1ATZ37XDGclNMgHaFgZSSsxnAHSzDIuPeSqZapYd9Av65Ej9yZ8Zo/FAMxM96sYHt2\n",
       "c+/SAH9++rTR8cVdmImZDbFupmValIlGPfZ1wzulIAkmXTV2groeav44Jz9M0S/2al8it/auFB2t\n",
       "yy6qLTXk+tPAlHEFx8prK2ms2pEsgukczhqse6EOKvLmr1GtwO4w6wuZ2gpg6cHiF/d91/X8n2Nc\n",
       "1c/kCH2U0YI+1i7yFAMGM5CeX24jrhD/GW5qjUgjt6GWtxH/6cGiDpYrqQOW9o5QhitiS6WGsMWt\n",
       "hH4JSFmd386sz1pX4JyzgAZcLolq3FbEkt3VXuyY379uJl1LQA8oS2Y3pB90zlXoPzYwxcFCBXcE\n",
       "Q0AAfSXgtsqjCdoC/w3qly7wNlA5yQnUZaPYHr/g7VIO76bYkspoRhcJsG9OEnvetfNW6A4yAW5e\n",
       "iCrQn83mpaXnd6ZOPGWxeyqxno70BLbPtDLUs3neZSKTwPFL8AwDKp2ap82cLOd35jjWWmpm1OPL\n",
       "mb5T50sUviMxdbiyYtr+XeiF9Xmon0+bcMYxhIdXwUDfjB2BWfm9S5EMJ88xhXE4kt6H5AMOBARM\n",
       "r0GA5lGkaLqGfOLbsrQRPvQpXghp6Sy4ac4MYO4+Iu74zn8s/ozviOIZPLO310hSaydKNSzPtchf\n",
       "rJv6dK2+KyVeAEvPftMSyTxPTMaC7CtgyC3zzxGzjev2IWfryorc95H5NdNI3OXlVh5E+G5N/UAg\n",
       "5gzdj1GRXUftWLc7TDlb7Epxn7LMtS+o6nZHXdcI5Ytyppmy7Yxm+tDmLKXUwvCDCGmStCgCyv3s\n",
       "aeBsnnkmBp9wuwM8rLpnsoyLSX6vx6oEOuAeOLxpcnjtERyhVanL9/3tY3gyBDZ/WvCblMtJbfjx\n",
       "cu41H3eTS5ISRKrG1UdNBYWUfCOWx5wLeHmDs+58Fp9Emtp2v9ksXyTOyGxx5ComgUsMRCaSwRRm\n",
       "iV4ayN4M1s3Kgamd9yh+xwR7W1e+XfLZuIdedTTiALuiJOJyAjZ7Uc4CXwfRO309bbV/G1dmflLT\n",
       "SZlkoWTu3M7aMK3evLxXy1NfepC6yQyQMR1Y91v20tuqOwwc5bYy4Wzmev/k6EqDxvzbcrvcYjuC\n",
       "WJbKl0KCeAM8UFjqjk/wZrKOTet+7Yf17DaId/LHq30dXMgIutv+uWvpKF0qVKj3Ovr8+0FMpZ6O\n",
       "o+zul1OLygwNvHSN5/z3yQperaxHj9Jvkdy+H3k8C52hzvd4GdjTwESgR8295ZkS/YiYkONmvqE3\n",
       "Oru/VBL3zrb/yfLt2TKW1tn6oAGq6k6jWLCg2ExtC7qXUmx3tDpkfIvrOSyGkhYGhmL8rl/ToA1H\n",
       "y8MzKW9TxCfQV9RuwfAiN9Xy506R4f7AkEAZY49mK5Au7eRiDiwEmICITh5+3+XAsReHDYUB+9Tw\n",
       "MyZdAQZjF3g9hJukgCAMSHsIuilZWgzEXIW1xv+lew/3JETDflJ8bt1wR0Hrfmx2yWeGV6lV55xz\n",
       "NH6qKcP3M0kt5IuSx/g043Kw2wOj3FVWngxsLtnC54FkVPt1bzUz4MA6cxQro1Qs+cN7yWFbUcXs\n",
       "QG4MZ6tU/8pNeOW4L5XKXCPrOFiQv3YIZl1bTFPZVVi9e+iyrSv/GqiHMD31eeX0//9nUi7QLiju\n",
       "hG36y2KoJLWScxTgBVuFbkS/3gJYhKwQK/p/o6Dn/dnM9qfSoI3609SWGSapFKoTkz6GQPtkBwv6\n",
       "OpKDwZGF8Ud3t5e1JUvw38a8nwAickdfgRcX2rkFTDlmM0JNvMM6qdovy4avVauZBFGElrns9SKj\n",
       "Uh8xyfWbGTBunJJQnr/JW6umj7+4llZmoopLMNjqqJyyPUyyG5jyMzN63iyPDrk8YOM8kX8eX7Zl\n",
       "jT6kZr0zCW8HLfaC2Ahz7t6/IbJDxq8++SsDu53Yc0u2O/byQUQORqnoSO+FDleHLHlfifhiK9H3\n",
       "/d96bU3syHXJbuJJdTQeu+7MCbyFVDoGbnczcA2lyOquxcKRcZa5P7jWw6FCQMl78g84eG0VwDz6\n",
       "xXJQsMna+aLl5OHJn4xDRPgmFkiXPzPs4cT1YB7FFy5U3iEAY7ePpjk+kxeSjz7NKzrh5VpZ5LC+\n",
       "rdYn5r2oTR9Io5J/bPaW0WeHteWg5Wnn20S4Q0hr3NN2PX9CNXMviPOgQi963DLUVNsmUiR3qE9S\n",
       "ktXSk0ALyTerhvKOp/kaSrVga5BIIKjpb6ubUcyjov+nssUJ6XsRVfEoVOol9q/ZlL0/CPPigAGE\n",
       "k/6O+RdFB//Ym+9WLPyd6U1NU2nbv2B+z9jAA9UR5+jhq+hbxWoo9Zkim1Hfbt3OaNa72MZuwuV8\n",
       "4aswJNoxGqJ5H5btvMjw6Dk51/w0QlcNpnIL/+4Pnp9J28xq3yR388UTr/sYQoJFTS8epnW5YDBO\n",
       "jUwaSa8fD8vfO+1qGMwCKRpRkQysqimQR//kUeAsNUrYK0IJ+Rw0QiSwqUpbUpirRqHgSzTJrKX2\n",
       "ehCTbMahvh7pZJZY1KFvnUXQz3Xy5MhdFICRvVG4ni/xXXcxdufuBdYnNftnI9vBU0Foaba7hS6B\n",
       "KhIdG61fJgXOc+/ygJ/GZiVHcXwnFwitN4W/eD8oY8Qy9jSUdJyVYmUrawPC6l+zMdf2+1Dt1njf\n",
       "d4V4gOkRfBMiSo9sxdmy9+EVNHzJFkCKPF6/UJhJ7mPBhzMabt5HoWaWzLguRZnU1k7OPGBi7cXz\n",
       "xzJpZzPyMca+CrrhOeHdqGOfbYJ6gvPVD10BJLDX9EpTQLs5O9EsyqYLX6YlEnQ3t3ZKFhP9Dq8w\n",
       "kOqoASX9TktleB8NbO3af9flvJPyyg3MDT20u4cfLYXvYLtADhlonOJEHI9qyLJ2nGP46xtNNaED\n",
       "eNfkf1+DgZHLMR+/CX3TzfhFT2J6kd6JqKWV2gitSFcABVPC0xAMSEyU94HjmUckeRG2wBFtO+XJ\n",
       "1sUNi/c7n7cq36ELBjBo0RAaCvhe4giXDOX5R8O5YUwCdr3uF2feEuDB/XA6h1yDJGV4GRIqD4jT\n",
       "d2+9bPl/rsgpUFgB2LGnXrXCiB3FGHU59D9Z9+ngHbGe1Zgio+v9TQj8Z+wF7J2EHj1ha00xGeY6\n",
       "nblPZvwemNDGfyx3LaGUjxrFSV6ajpVjQpOa8ZXjPXnWuLTLFyEwsIOGCDkoKIFT4lZerg7+blAq\n",
       "v9jybt8QNeisXbHzSmSWISWpmqcdMT/+3ZG85Zc1LCyPVLgTvT7KMgzbAv2o+XRlmcNj7E2j2m1C\n",
       "v/ji/O9OhQwk+BvEKWpgLYuNc9Su9JJFqmiWLisvnrCo7/wed0IjnYTPs8yf8N/xqVEmS2VfZq0f\n",
       "CrmrHgUADlX3uM0OOhT/yTgASLQi6UbzPjRKv2rGHdkAhI+bD7UhGqaj3Q5e2fMZyL18CkQJlwz1\n",
       "VZF2WgTzwdR2R4uSI/ZB3DToW9B7xIXLtVKEqpVjHp/VzhcGSjrYUJsHablHTQdkLdUj9RFVVTOl\n",
       "OHwvtgnMFPqpNS5HGqyI/W7E6zgX2iJVskZmQj1vKbWA4rRNsOy4Qfs/Py5Ybyc7tQqIXGWDf1kY\n",
       "M9XjGdNUY1XDIXwZO6otwsvb3w7D5890kZw+OFupD6up9V/jllez8rMeBbAZaI/rs3YoQHzsWfjV\n",
       "KAGsSZWFpOnZq2oNHluwyZQCzsRSR0nztVtqJ+A0g7jQ3fFq5C60QDfC5UBFZvDLjC2QAu8enmOR\n",
       "m2iWCjtHNwOKAOpbLtvnqrGDSxMU/Gsp7n6kkOxw9hP24w1lzW5I3ZQ594Q+WC5XIt4y/zNXnGNT\n",
       "7Iob3pyJO2LpaXb3KTqRvqnA5T5Pr6Ak3dcQPkQ9mIAf2xkHux7pWhLAFUEYHnJIm5IDFFw3f0MJ\n",
       "9oO+lTBgplRKWmshMJlfMx5SPglduDlGjWiZLNkf6R8MOLK0O1cSSSYCPPtjFczgEUEV1qGPXRSc\n",
       "IZ6w6Fm8kpk1jMoBFNlj1GZzOsGPfzyzr5E8be3vZUYK01/H801VEW1bzR6Fkh4IoVC37WtEuJWW\n",
       "ooQwxjzeCW6316vE0rrX8JfXYlnDfH4Z3jQ+NvxMvJgQIIBW/GF+Dnoe2bqj5Eif9MsEWY9ybMLg\n",
       "vegTiG2qBHmIRXOzgnor/WpvQLttKEBKMuLlVDRAgqDroXBg2Y9MAkAaBPu9KI4BWD8BPtkBz8Ix\n",
       "3tpwF9FlFQE5jcnKKXl35Ie9Pq/UZaT3bT8dgjiKb7yfXqR8I0/meTg1T8jLg13kYREuxHrpMK1k\n",
       "sUtEEalxk47PIoAwbjGYbLHSGIpOMxEEh4Z5/F4k5nYf6jLgmaVkQTphul4wPEQoPCNukQAAAdxB\n",
       "n7VFFSw3/wA0wAoazrUAc15yLK+hJ1bkRcSw5ksAIM2vr5Cx3OZfDspMUFx+o+VZNQHCx4T8Qt1A\n",
       "ePyxqCR7KLYrUyTdn7nQ8r8xFc5WKDtrMbnWrQ4eRSknwN+P4MZeC6Vwz7YSxNFM9HZYxqSvcPFC\n",
       "UKL15hsuRQvs5A+03vsi4tvVv/7x6A2M/uyegTIjucDu2InbEmyZWo9AweZoyTv2QZeaaRUx5Boe\n",
       "kAWkEHRfCXWAShH63nnfw+w8AWenrdaTRp6LmZMFshPsgHjw0kzN+Uty6IfjliGkMHu7Q5oRkoxA\n",
       "+x+q1MUfJdbOlPFFQI6PqIlm44SRWuzFZzJUGO5fIsISwdLwpoctGSLirrO/Jrqh+qkyn7Uml9c9\n",
       "+jI3SoUB+q6tDVJLsqs24wq3XST9lladcmwE3P4ILKnguU7M3S2xPTxHTBSYhUFDwbuKrEXYB7rl\n",
       "vWM4T4UzVhtCqY9HVNr8+e9iz3sr99NyUXh2jkUdj4I2WXY6DKHuGv+1fWXSH39urTE7l2QIPr6E\n",
       "6i1AxPiZC81DUEYYkcDC9NyJuhC0SbTYKaekC3uVIryQf2aU9Ed7zV9hR9NXD/ZCda+PJ6KtEeGf\n",
       "pvNQPcHYtteMWhWBrg+QnToxwAAAAXIBn9ZqQ38ADoFEq7MeRikYZdhm2X0tjTx8gFH30KghZKpp\n",
       "rGkrM3voHfL103lToPsddDrQ9TNlLopLNj9K49Jc0HR/UBE5kSvRsUqLCpm3FCKpY2/39/kjACaW\n",
       "xfQCQJvL7QrabmO9I/QzXwYWhi2GsOaT/0xx3ozz7BvIsMes3NwYW2RfUJpyg0D0dWk/pEw7pzs2\n",
       "WNcUu2iM41mvey1vuhhOhjzbstOjakVIqOPS91tA9FK2eBsvbWnqyenWx28adutGwpqOD82EuIhY\n",
       "F0bkJXEhiDZAHGuHP+aRnsykpak5+RbXGnMnJs1vd0IUKcLVfw48yltu43JpxEU75Ytj2WTpwMuI\n",
       "xqXqhLkiRElBfAuAndBTZVr3rUBuBrGLRNUGL8WYeapw/q93TGRbh/sykZusXdezdVqmOLDghdG4\n",
       "oysTXZkQfvEgT+laA/iJU40DQ8PnxB4jnb89LGKmlpoD0s2WQfvH2Gg+AbPxu6tRH+9NAAAFkEGb\n",
       "2kmoQWyZTAhv//6nhAAD9j21AHG0QQSbX7iE1FUDZmmJWabHiwLdgT94b3+1bYzdH+xiDIT+UuwW\n",
       "0tRVPHnx9Wuf8oNFKnG1xeMn2R3BTui9JNTNtQAqRYQpkjdJ0FzgGhRSzy19UAvep7heqgqkyLUw\n",
       "nCPBJGnV6I/LYzyCrztNmxXNRRVfIryLxBil+Q7iNo7B9aGiTbUzXVilc/v5xkqXnU2i1cmCDise\n",
       "btQMZlKhSSHLdreJS9s+IBPDh41xgRybNWiIP7hHbGfaGZO3T2622V6MmyoxiBOy/j5ZoI6f8Hvu\n",
       "lASs+5QPjEDLcB2raCyDcZxm+KFQ5EytpMtfd2bxHwx6fD7OSzheXGpaBJu0+4bx5kYv5PWIojp1\n",
       "13id8qF/PsPztbPLQiMXdrCuiql7pcVyJ0rXbHEmgZJjyDNrQvQbFuNSTh9jqcgl6/Iv21OUemi2\n",
       "MKFml6l0X8QKOBhT2liPqGLmw5ct4c6cxG8g5aK5cOCs2ABH2HD8y1DfS7sNpudme1Wm+73DLhed\n",
       "8J4P/U0TmZlwi9Vvppf3xqTu+U9Wn55vgB3l9SPfs3uDpoA0lcQJdb2ReMJSvI5k79Gfk78N6w0y\n",
       "TfN1LbZtK4k0Y7xgl0ZDyT+drRbFGe/WaXAnGjh7oTa0l0b/laT9rcsKiKOyUAuHzNPf0lQDIzDk\n",
       "f6ACDxC2oKOZwEp66HH/7QqATdYCLBxYZsWkyI6BvGKYmu2oMoxN/pmHkFL5Sh4oypP4tzqXBexv\n",
       "FRrdVwCcgXavUWZW4ENUFpv4zEdfGeATtLfOsaYsX2Rym9GDdQDNS4HxhSAuNJ/52v3FP3F4gSP1\n",
       "s3b0iwZN3Q3BJm3TvNnXE+xzS7dYwKEiH8tO30Ix28pLpYKtecWP3cGIxpGCGWcL8So49ZrL5bJo\n",
       "85DGpR+U5XEpjc7rvNUkHdS2fs1Uy7wEZYirr6L585saZI41Pz+FrSQVv5gOVEjHx+5BVWLUZZsI\n",
       "/T2q4eQeXzmSMZ9a0Z1uVLSMJfp3EMBgYphnJj5pDFps9gr32Vb5at4vhbjhAHSQu/Fcm7AEM/O1\n",
       "CbICY6JMeUetZnBORT4bq9XstSF92Vlr0qZfiOtnUxRT4hMWzajwffD05P+5q06kDPfkMusDlOt9\n",
       "fpxVR6HH2hYNV42SR6menK8wKT5OcEd7a48KX+46hZkwEQHI0H8sE9f17pmvfWo16va6+NRwbJD8\n",
       "na7SQOJxHBHE3rd7w2uNkfRs0IFIL8RyBMTG2FhWCk6DIf9rnkPA18ZAZr/4gCPW/FbSfAQlf/Wz\n",
       "LnXxylP4J0rt55BgDN8hYp9w9qkd6qzyuq4V2ssAq22zNNb0WehTMcVZ0AtVNvvasGBrAxqDQDWX\n",
       "PoMLVbIqW4gnSNeqd2ADQHrK51zzO+PYutI0w1LVeox4Sfhk9rQhtZxKLg4H5iD4LwhB+YWSg7PQ\n",
       "3Wz8cbeZyPk/u/FbTRhrS8eNiepbLBRdD9pPp2Oq65sY12q3fiRxuVMfPAsreEb3j66/QsaDN+Pg\n",
       "7g7XKcYLOuJcNEfhAbtjJCAcJZLk6Qal/8aHX90h73yVi5fD1GXM+muCIvzYdUtC6vBH2YmvyM36\n",
       "zDnMz+MQvDj8ya17V44Pj0cE1zf5FBMgNj4buRmc6d20gfkRwuPs5byuHQB9x5DhS/2NPkz6Hmzv\n",
       "9J6r7yuh/ZlqZ1r6diJrY3xHkv3BDP6tmU7kyb5xbnTEIL9kv01/wCqGBL8RuHnUUjoYmLtzKgUg\n",
       "+0lUmn+VMSLbB7OsuoHmnkPc3wu8nYvquShcrmY8ntGo8jvEskSI+/1ZdAxM6GF77Lb8DkTNGOHa\n",
       "fGBPMEq9qRZO/e5faev6x5/9QCO7/qJPyi6ab1+XTjBYNwwIe/KNF2zLLccI6+gXZyBg/9xRAAAB\n",
       "g0Gf+EUVLDf/AA6ClXcAYxJrxJY/UL5m1bMV4qOZeMCYYinuwb7jO/faqQJACWrSuLHhGqLnzApA\n",
       "fa2/aFRKkuwSqAcZa/v5HF6tkYUHSzBYBgg+sxXYujHAyf4+czaZgCSObA5IddE/H4Uahys7jkDA\n",
       "1arouWgCjDFS2hURXB/Flz4MME7/6qs4/xDFcMoY4AEx7+/skeGwKcCmPQ5vD9x0LEwncJMa0/KK\n",
       "TwA1A/5iPjt2xseM3vPN+dTNBwbAponsZeJeXaQtmAUnZaGoMlSIGAeGEvTuV5uJl/rsIaaLp1DT\n",
       "F19uooN6c+JgfHwP/HaZ9XrBRd8lWuwMILbaTRhr5Bs9KGKEMc/WCjbQDHPR5eS5LFGBVMAlwQl3\n",
       "46e0THACqSG0rU1PCmfvGnVjox1lKJS8vVGsTb0kT9mINo98VcGJAtAqEjJAKfzwsPMiQR1IYK+t\n",
       "YKUOG5kf3UEYZxMyIf2fy3XA31Bymg9CQ/dUO69Xj5ixLup8AC6bMouUxqRmzAAAAewBnhlqQ38A\n",
       "DoFEq7MbOsUlb6AEr+jzQvFx1s3XVS9BrgdFmcrz//k8mK7AMwcRUrbP3smQgDQhRTlZWbO6XJQg\n",
       "cumJwMy5eC+YU8DvkRgp1/T79LlfatPnawvUdbVtkxlYwZRVrChtVHg0DWI6+q8F3W/Gxl0wGgnb\n",
       "orvKFRu6wwrfEksA7VG5UihdXfGQ2EdXbHhIcMaFGuYXWJqIw4lbthoVMPF1MwS3eR+whOnCEzBc\n",
       "eVFygpG2sYy5CQV53AVPf6PcqRYVZ9u6YzqRzKUY9WWtkcAQcOkd87S5v0EsPtAc2btY4aHNA3QR\n",
       "+a19m1/0fCjB4VWSesO0B5M/3OUiks0lEZqU8WY0eb6z+1rggtP+IXBev+kAoLsy5lY4rT0c61wW\n",
       "UpkrocYkmKBvME1Js/mp2hbTRsaA55eXScyk4XHa9ImOFk4aFwpc0LlCJj2M3lmvqBP9cgPih2Dz\n",
       "O2mLmxtc/ggCkBaKxyFGNp8uwO3xBykrVcVGbxyrhP+9uNdiezb+ejOKigpuNSIUOSpVZ3aVZiHc\n",
       "RP4llqvsVx/TSrOQ4cLHffs78fCeDnGZA88KMq8oM1OrkC1g3oPiQvjMXSsMezxt5a2EUGlY1PJv\n",
       "npEVElEhl1rDTgvU/OEBvhbplIpHZrSr3DudLUkAAAQsQZobSahBbJlMCG///qeEAAHPTxZFfsUg\n",
       "wLC+I2VWhHoNZclGceFJuYAS1ae0zgaVBV9te33CS3PFNAL64rssMAL7ag2/5fmYacJfiVdHshB+\n",
       "+jT0oo0OWGktd1dD6nqccY8CxwkTatXbo1+9j+9pCItCTH/RcLem3Bogr0Q0P01CubCVyJ8Rietf\n",
       "N5vg6U5i0ESpUG81+K9DXA7AbnV8ViLsG39BJHxHGMb1myI6UJ1D1PmJwjweo9G496zxr7PMf7YI\n",
       "zzCXF9Ex/4j2qBZ4aZ3Xm+ktksP7Wmrl+tsSnyPIz2fc9YH+HwoOY37NlzhcnIkAvhuBvU0nM/FC\n",
       "jO2AD2As9GuUC54H33DCPC9QYZTTQ/ZMq8XfmwfLqRS9BVT3DYh932XcRN5py6hTnmbdK3qOXTW2\n",
       "il0a3bDeRqW9jlaGCp0XukFhSUcx/RsIIq6HYu/nzdT6iZScpP0qFSRWuFZ7WJiurRPMwUuf5HMM\n",
       "WzYt8v3fgLCO5NXPQ0WHymLQmUNr4q3zVZItDnkCxg2f4mVzI/WLlBI9sNaBVPl2cjsn/MQ4Wv8i\n",
       "+5GqPTP3+W0LlD+hz0DhcOCWGOZupE2P13H3PwK2Ed2Mq82lBpci/KxqK3iN/yO8WQp0gVXk4AM7\n",
       "6oWxGRSDuhHnpAlKwz31YPv+L1qXQAngy+aqo1chh13Lj/zc+NEB7MbfSrfbQTZZglM6gJ8MyIv+\n",
       "+eo/n3wjyTDWtYxuv+eTqCNvbbrVQ/oUr4g8QDkkOjnCl+kl6jqsnh0ae8EGWX+dbbiJAMi7oTSs\n",
       "q84AbQ5hKfSa+GgkpYco9JlSHOzKsq47Z2Ne/vxT3uKNE6Umu5/L/XOjkNca5jwJMNZdgxXyTZa4\n",
       "QiZTjbxeuLMSt3ezcialWmWoh0UM6mhKSZtm/jM8nNOj7h2qbfUtZSAGVrkwHXjOx97UAQNX5EEC\n",
       "naZwMrIRMi6JaKT+BpRkPvL9vBCmPvc1G++SEE2u8J5nXBsHeKK7dWhIBfpxmwKLZA/+tUGn+tVN\n",
       "asCylLFPsZXpl3PTwxXxD/ZJJTzEyNlq6m2USfzTen9b6MDTGtQzmHp/5MYR9tzxzjJ754v/mtzB\n",
       "LHutQq8EWFCyKBCUI75XWzCRCvlXuion24hSesM7/qaZ4roCefl+Zd6RGUByPNYl7xW0QBppIlIY\n",
       "QV7ah6NzIIbphZdD71R439UWaTmdbbPhsmL0Hz/Ha3FYzz92eqf41Nssnvvqmtf6J9NuKTROQvOf\n",
       "Trhe/hnFmTQkHlxAJGNI5J1st88l3ieHzJHKV2G7DxmEQGuuFp81ctzhWUr+ASeFtletQPq1F5TF\n",
       "6VIp8xDhtS62xgTHRnJAgGc5ORMYyFQcnfw6Ck67i1L3+meacwE+Ni55V4R3QjTKIOrL8MPvfXGC\n",
       "fm/r2pXFGfNNIJbIkjdMIJuAAAAF5m1vb3YAAABsbXZoZAAAAAAAAAAAAAAAAAAAA+gAABdwAAEA\n",
       "AAEAAAAAAAAAAAAAAAABAAAAAAAAAAAAAAAAAAAAAQAAAAAAAAAAAAAAAAAAQAAAAAAAAAAAAAAA\n",
       "AAAAAAAAAAAAAAAAAAAAAAAAAAIAAAUQdHJhawAAAFx0a2hkAAAAAwAAAAAAAAAAAAAAAQAAAAAA\n",
       "ABdwAAAAAAAAAAAAAAAAAAAAAAABAAAAAAAAAAAAAAAAAAAAAQAAAAAAAAAAAAAAAAAAQAAAAAIA\n",
       "AAACAAAAAAAAJGVkdHMAAAAcZWxzdAAAAAAAAAABAAAXcAAACAAAAQAAAAAEiG1kaWEAAAAgbWRo\n",
       "ZAAAAAAAAAAAAAAAAAAAKAAAAPAAVcQAAAAAAC1oZGxyAAAAAAAAAAB2aWRlAAAAAAAAAAAAAAAA\n",
       "VmlkZW9IYW5kbGVyAAAABDNtaW5mAAAAFHZtaGQAAAABAAAAAAAAAAAAAAAkZGluZgAAABxkcmVm\n",
       "AAAAAAAAAAEAAAAMdXJsIAAAAAEAAAPzc3RibAAAALNzdHNkAAAAAAAAAAEAAACjYXZjMQAAAAAA\n",
       "AAABAAAAAAAAAAAAAAAAAAAAAAIAAgAASAAAAEgAAAAAAAAAAQAAAAAAAAAAAAAAAAAAAAAAAAAA\n",
       "AAAAAAAAAAAAAAAAABj//wAAADFhdmNDAWQAFv/hABhnZAAWrNlAgBBoQAAAAwBAAAAFA8WLZYAB\n",
       "AAZo6+PLIsAAAAAcdXVpZGtoQPJfJE/FujmlG88DI/MAAAAAAAAAGHN0dHMAAAAAAAAAAQAAADwA\n",
       "AAQAAAAAFHN0c3MAAAAAAAAAAQAAAAEAAAHYY3R0cwAAAAAAAAA5AAAAAQAACAAAAAABAAAUAAAA\n",
       "AAEAAAgAAAAAAQAAAAAAAAABAAAEAAAAAAEAABQAAAAAAQAACAAAAAABAAAAAAAAAAEAAAQAAAAA\n",
       "AQAAFAAAAAABAAAIAAAAAAEAAAAAAAAAAQAABAAAAAABAAAMAAAAAAEAAAQAAAAAAQAADAAAAAAB\n",
       "AAAEAAAAAAEAAAwAAAAAAQAABAAAAAABAAAUAAAAAAEAAAgAAAAAAQAAAAAAAAABAAAEAAAAAAEA\n",
       "ABAAAAAAAgAABAAAAAABAAAMAAAAAAEAAAQAAAAAAQAAFAAAAAABAAAIAAAAAAEAAAAAAAAAAQAA\n",
       "BAAAAAABAAAIAAAAAAEAABQAAAAAAQAACAAAAAABAAAAAAAAAAEAAAQAAAAAAQAAFAAAAAABAAAI\n",
       "AAAAAAEAAAAAAAAAAQAABAAAAAABAAAMAAAAAAEAAAQAAAAAAQAADAAAAAABAAAEAAAAAAEAABQA\n",
       "AAAAAQAACAAAAAABAAAAAAAAAAEAAAQAAAAAAQAAFAAAAAABAAAIAAAAAAEAAAAAAAAAAQAABAAA\n",
       "AAABAAAQAAAAAAIAAAQAAAAAAQAAEAAAAAACAAAEAAAAAAEAAAgAAAAAHHN0c2MAAAAAAAAAAQAA\n",
       "AAEAAAA8AAAAAQAAAQRzdHN6AAAAAAAAAAAAAAA8AAAaAAAAB80AAAE9AAABVwAAAlYAAAwVAAAB\n",
       "ygAAAUEAAAHoAAAMUwAABF0AAAGHAAABWwAACsQAAAE6AAAGUQAAAVUAAAk6AAABDgAAC/wAAALe\n",
       "AAABrQAAAVkAAA7UAAACAgAAARAAAAbmAAABUgAAEGgAAAGeAAABKAAAAQ8AAAaCAAAK5gAAAVoA\n",
       "AAExAAABUAAAEiwAAAFXAAABjwAAAWQAAAptAAABfQAABv0AAAEPAAANkwAAAVIAAAF9AAABOQAA\n",
       "ChoAAAGeAAABdgAAAXoAABCAAAAB4AAAAXYAAAWUAAABhwAAAfAAAAQwAAAAFHN0Y28AAAAAAAAA\n",
       "AQAAACwAAABidWR0YQAAAFptZXRhAAAAAAAAACFoZGxyAAAAAAAAAABtZGlyYXBwbAAAAAAAAAAA\n",
       "AAAAAC1pbHN0AAAAJal0b28AAAAdZGF0YQAAAAEAAAAATGF2ZjU4LjI5LjEwMA==\n",
       "\">\n",
       "  Your browser does not support the video tag.\n",
       "</video>"
      ],
      "text/plain": [
       "<IPython.core.display.HTML object>"
      ]
     },
     "metadata": {},
     "output_type": "display_data"
    }
   ],
   "source": [
    "# アニメーションの描画\n",
    "fig, ax = plt.subplots(figsize=(4, 4), dpi=128)\n",
    "ax.set(xticks=[], yticks=[])\n",
    "\n",
    "# 各フレームの描画\n",
    "draw = []\n",
    "for i, f in enumerate(frames):\n",
    "    ims = plt.imshow(f)\n",
    "    draw.append([ims])\n",
    "\n",
    "# アニメーションの作成\n",
    "ani = ArtistAnimation(fig, draw, interval=100, blit=True)\n",
    "html = display.HTML(ani.to_html5_video())\n",
    "display.display(html)\n",
    "\n",
    "# Matplotlibのウィンドウを閉じる\n",
    "plt.close()"
   ]
  },
  {
   "cell_type": "markdown",
   "metadata": {
    "editable": true,
    "slideshow": {
     "slide_type": ""
    },
    "tags": []
   },
   "source": [
    "最終的な状態において、黒番、白番がそれぞれ何個のセルを専有しているかは`count`関数により計算できる。"
   ]
  },
  {
   "cell_type": "code",
   "execution_count": 18,
   "metadata": {
    "editable": true,
    "slideshow": {
     "slide_type": ""
    },
    "tags": []
   },
   "outputs": [
    {
     "name": "stdout",
     "output_type": "stream",
     "text": [
      "#black: 27\n",
      "#white: 37\n"
     ]
    }
   ],
   "source": [
    "print(\"#black:\", env.count(Player.BLACK))\n",
    "print(\"#white:\", env.count(Player.WHITE))"
   ]
  },
  {
   "cell_type": "markdown",
   "metadata": {
    "editable": true,
    "slideshow": {
     "slide_type": ""
    },
    "tags": []
   },
   "source": [
    "最後に、両者ランダムに着手する場合に1000回対戦すると、どの程度の勝敗になるのかを調べてみる。ランダム対戦には少々時間がかかるため、以下のコードでは、`joblib`を用いて、並列実行により同時に複数の対局を行なっている。"
   ]
  },
  {
   "cell_type": "code",
   "execution_count": 19,
   "metadata": {
    "editable": true,
    "slideshow": {
     "slide_type": ""
    },
    "tags": []
   },
   "outputs": [
    {
     "data": {
      "application/vnd.jupyter.widget-view+json": {
       "model_id": "f63d7ac7461142df88184e5fd05dd737",
       "version_major": 2,
       "version_minor": 0
      },
      "text/plain": [
       "  0%|          | 0/1000 [00:00<?, ?it/s]"
      ]
     },
     "metadata": {},
     "output_type": "display_data"
    }
   ],
   "source": [
    "def match():\n",
    "    # ゲームのリセット\n",
    "    env = othello.make()\n",
    "    env.reset()\n",
    "\n",
    "    # エピソード開始\n",
    "    while not env.is_done():\n",
    "        # 有効手の列挙\n",
    "        moves = env.legal_moves()\n",
    "\n",
    "        # 着手可能な手があればランダムに1つを選ぶ\n",
    "        move = np.random.choice(moves)\n",
    "\n",
    "        # 着手による盤の状態の更新\n",
    "        env.update(move)\n",
    "\n",
    "    n_black = env.count(Player.BLACK)\n",
    "    n_white = env.count(Player.WHITE)\n",
    "    return n_black, n_white\n",
    "\n",
    "\n",
    "b_win = 0\n",
    "w_win = 0\n",
    "draw = 0\n",
    "\n",
    "chunksize = 32\n",
    "pbar = tqdm(total=n_episodes)\n",
    "for i in range(0, n_episodes, chunksize):\n",
    "    chunk = min(n_episodes - i, chunksize)\n",
    "    result = joblib.Parallel(n_jobs=n_jobs)(\n",
    "        (joblib.delayed(match)() for _ in range(chunk)),\n",
    "    )\n",
    "\n",
    "    result = np.array(result, dtype=\"int32\")\n",
    "    b_win += np.sum(result[:, 0] > result[:, 1])\n",
    "    w_win += np.sum(result[:, 0] < result[:, 1])\n",
    "    draw += np.sum(result[:, 0] == result[:, 1])\n",
    "    pbar.set_description(f\"B:{b_win:d}, W:{w_win:d}, D:{draw:d}\")\n",
    "    pbar.update(chunk)\n",
    "\n",
    "pbar.close()"
   ]
  },
  {
   "cell_type": "code",
   "execution_count": 20,
   "metadata": {
    "editable": true,
    "slideshow": {
     "slide_type": ""
    },
    "tags": [
     "remove-input",
     "remove-output"
    ]
   },
   "outputs": [
    {
     "data": {
      "text/plain": [
       "428"
      ]
     },
     "metadata": {
      "scrapbook": {
       "mime_prefix": "",
       "name": "rand_b_win"
      }
     },
     "output_type": "display_data"
    },
    {
     "data": {
      "text/plain": [
       "522"
      ]
     },
     "metadata": {
      "scrapbook": {
       "mime_prefix": "",
       "name": "rand_w_win"
      }
     },
     "output_type": "display_data"
    },
    {
     "data": {
      "text/plain": [
       "50"
      ]
     },
     "metadata": {
      "scrapbook": {
       "mime_prefix": "",
       "name": "rand_draw"
      }
     },
     "output_type": "display_data"
    }
   ],
   "source": [
    "glue(\"rand_b_win\", b_win)\n",
    "glue(\"rand_w_win\", w_win)\n",
    "glue(\"rand_draw\", draw)"
   ]
  },
  {
   "cell_type": "markdown",
   "metadata": {
    "editable": true,
    "slideshow": {
     "slide_type": ""
    },
    "tags": []
   },
   "source": [
    "**対局結果: ランダム vs ランダム**\n",
    "- 黒番勝ち: {glue:}`rand_b_win`\n",
    "- 白番勝ち: {glue:}`rand_w_win`\n",
    "- 引き分け: {glue:}`rand_draw`"
   ]
  },
  {
   "cell_type": "markdown",
   "metadata": {
    "editable": true,
    "slideshow": {
     "slide_type": ""
    },
    "tags": []
   },
   "source": [
    "このようにランダムな着手では当然ながら、勝率はおよそ五分五分になる。ただし、オセロは後手である白番の方が若干有利であると言われており、ランダムに着手した場合には白番の勝率がやや高くなっている。\n",
    "\n",
    "以後は、この着手の方法を改良していき、より高い勝率を目指してみる。以下、利便性のために、ランダムに着手する関数として`move_by_random`を作成しておく。"
   ]
  },
  {
   "cell_type": "code",
   "execution_count": 21,
   "metadata": {
    "editable": true,
    "slideshow": {
     "slide_type": ""
    },
    "tags": []
   },
   "outputs": [],
   "source": [
    "def move_by_random(env):\n",
    "    \"\"\"有効手の中からランダムに手を選ぶ\"\"\"\n",
    "    moves = env.legal_moves()\n",
    "    return np.random.choice(moves)"
   ]
  },
  {
   "cell_type": "markdown",
   "metadata": {
    "editable": true,
    "slideshow": {
     "slide_type": ""
    },
    "tags": []
   },
   "source": [
    ":::{admonition} オセロが解けた？\n",
    ":class: note\n",
    "\n",
    "2023年10月に「Othello is Solved」という衝撃的なタイトルの論文が、プレプリント投稿サイトのarXivに公開された。この論文は、オセロゲームが「弱解決」したことを示している論文で、「弱解決」とは両対局者が常に最善の手を指し続けると、結果がどうなるかが解析できたことを示す。\n",
    "\n",
    "人間の体感としては後手の方が(最後にディスクをおけるという意味で)若干有利のように感じるが、この論文によれば、オセロは、**両者が最善手を指し続けると引き分けになる**そうだ。興味のある読者は是非、以下の原著を読んでみてほしい。\n",
    "\n",
    "Othello is Solved: <https://arxiv.org/abs/2310.19387>\n",
    ":::"
   ]
  },
  {
   "cell_type": "markdown",
   "metadata": {
    "editable": true,
    "slideshow": {
     "slide_type": ""
    },
    "tags": []
   },
   "source": [
    "## セル評価値を用いた着手"
   ]
  },
  {
   "cell_type": "markdown",
   "metadata": {
    "editable": true,
    "slideshow": {
     "slide_type": ""
    },
    "tags": []
   },
   "source": [
    "人間(の初心者)がオセロを指すときに最初に覚えることと言えば、角が取れるように着手を調整する、ということだろう。\n",
    "\n",
    "角のセルは一度ディスクを置いてしまえば、それ以降、相手に取られることがなく、また縁の領域にあるディスクを一度に多くひっくり返すこともできるため、角にディスクを置くことができれば有利になることが多い。\n",
    "\n",
    "一方で、角のセルに隣接するセルにディスクを置くと、相手に角を取られる可能性が出てくるので、角に隣接するセルにはできる限りディスクを置かない方が良いことが分かる。\n",
    "\n",
    "このような人間の経験則に従って、各セルにディスクを置くことが、どのくらい得でどのくらい損なのかを表わす評価値を以下のように定義する。"
   ]
  },
  {
   "cell_type": "code",
   "execution_count": 22,
   "metadata": {
    "editable": true,
    "slideshow": {
     "slide_type": ""
    },
    "tags": []
   },
   "outputs": [],
   "source": [
    "scores = np.array(\n",
    "    [\n",
    "        [120, -20, 20, 5, 5, 20, -20, 120],\n",
    "        [-20, -40, -5, -5, -5, -5, -40, -20],\n",
    "        [20, -5, 15, 3, 3, 15, -5, 20],\n",
    "        [5, -5, 3, 0, 0, 3, -5, 5],\n",
    "        [5, -5, 3, 0, 0, 3, -5, 5],\n",
    "        [20, -5, 15, 3, 3, 15, -5, 20],\n",
    "        [-20, -40, -5, -5, -5, -5, -40, -20],\n",
    "        [120, -20, 20, 5, 5, 20, -20, 120],\n",
    "    ],\n",
    "    dtype=\"int32\",\n",
    ")"
   ]
  },
  {
   "cell_type": "code",
   "execution_count": 23,
   "metadata": {
    "editable": true,
    "slideshow": {
     "slide_type": ""
    },
    "tags": [
     "remove-input"
    ]
   },
   "outputs": [
    {
     "data": {
      "application/papermill.record/image/png": "iVBORw0KGgoAAAANSUhEUgAAAzAAAAM6CAYAAABek6Z9AAAAOXRFWHRTb2Z0d2FyZQBNYXRwbG90bGliIHZlcnNpb24zLjguMiwgaHR0cHM6Ly9tYXRwbG90bGliLm9yZy8g+/7EAAAACXBIWXMAAB7CAAAewgFu0HU+AADaHklEQVR4nOzdd3hUVf4/8Pe0zEwy6SEF0kghlFAEQaqAFAuIIgsKawHbujZYd0W3sevu/tayKir7VVcRESwIiChFRRQQEaVIrwk1Ib33qff3R2SSmzpDZubOnXm/nicPuXdu+eRw55zzueVchSAIAoiIiIiIiGRAKXUAREREREREjmICQ0REREREssEEhoiIiIiIZIMJDBERERERyQYTGCIiIiIikg0mMEREREREJBtMYIiIiIiISDaYwBARERERkWwwgSEiIiIiItlgAkNERERERLLBBIaIiIiIiGSDCQwREREREckGExgiIiIiIpINJjBERERERCQbTGCIiIiIiEg2mMAQEREREZFsMIEhIiIiIiLZYAJDRERERESywQSGiIiIiIhkgwkMERERERHJBhMYL1FUVISNGzdi0aJFuPHGGxEVFQWFQgGFQoG5c+dKHZ7P2bdvH/7xj39g8uTJiI+Ph1arhcFgQK9evTBv3jx8//33UofoM6qqqrBq1Sr8/ve/x9ixY5GWlobQ0FAEBAQgOjoa48aNwwsvvIDS0lKpQ/ULTz31lL1uUSgU2L59u9Qh+YTmZdrRz7hx46QO1SddvHgRf/vb33D11VejW7du0Ol0SEhIwJgxY7Bo0SIcPXpU6hBlbdy4cQ4f46xbXMtkMmHp0qW4/vrrERcXZ++vZGRkYN68efjhhx+kDlEaAnkFAO3+3HPPPVKH51PGjBnTYXlf/rn77rsFo9Eodbiy9/XXXztU3lFRUcKXX34pdbg+7cCBA4JarRaV+7Zt26QOyyc4cowDEMaOHSt1qD7ntddeE4KCgjos9/nz50sdpqyNHTvW4WMcgKBUKoXc3Fypw5a98+fPC/369eu0vB977DHBZrNJHa5HqbueApGrJSYmonfv3tiyZYvUofikvLw8AED37t0xc+ZMjBkzBomJibBardi9ezdeeuklXLp0CStWrIDZbMaHH34occTyl5CQgPHjx2PIkCFISEhAXFwcbDYbcnNzsXbtWqxbtw4lJSWYNm0a9uzZg4EDB0odss+x2Wx48MEHYbFYEB0djaKiIqlD8km//e1v8fDDD7f7eVBQkAej8X3/+te/8Ne//hUA0KtXLzzwwAMYOnQoQkNDUVpaigMHDuDTTz+FUskbTrri3XffRW1tbYfLHD9+HLfffjsAYMKECejRo4cnQvNZZrMZU6ZMwbFjxwAAAwYMwBNPPIGMjAxUV1fj+++/x0svvYTa2losWbIE3bt3x9NPPy1x1B4kdQZFjRYtWiRs2LBBKCgoEARBEM6dO8crMG4yZcoU4eOPPxYsFkubnxcXFwu9evWyl/+OHTs8HKFvaa+cm/v000/t5T19+nQPROV/Fi9eLAAQevfuLfzxj3/kFRgXu1yef/vb36QOxW9s3bpVdMXcZDK1uyyvprvfwoUL7f8fK1eulDoc2VuzZo29PEeMGNFmW7pv3z5Bo9EIAISwsDDBbDZLEKk0eErCSzzzzDOYOnUqYmJipA7F523cuBGzZs2CSqVq8/OoqCi89NJL9um1a9d6KjSf1F45N3frrbciIyMDALBz5053h+R3Ll68aD9L/eabbyIgIEDiiIi6xmaz4be//S0AYODAgXjnnXeg0WjaXZ7HvHvZbDZ88MEHAACDwYDbbrtN4ojkr/mzLX/84x/bbEuHDBmCqVOnAgAqKipw4sQJj8UnNSYwRG0YP368/fczZ85IGIn/CA4OBgA0NDRIHInveeSRR1BTU4N77rkHY8eOlTocoi7bsmULsrKyADQOTKFW8454KX3zzTe4dOkSAOBXv/oVAgMDJY5I/kwmk/33lJSUdpdLTU1tcx1fxwSGqA1Go9H+uyNXEKhrTp06hYMHDwIAevfuLW0wPmb16tXYuHEjIiIi8OKLL0odDpFLrFmzBkDj6G+Xz0ADQFlZGbKyslBWViZVaH5pxYoV9t/vvvtuCSPxHZfvSgCAs2fPtrvc5ZOsCoUC6enpbo/LWzCBIWrDjh077L/36dNHwkh8V11dHbKysvDyyy9j7NixsFgsAIAFCxZIG5gPqaiowPz58wEAzz//PKKioiSOyPetWbMGffv2RWBgIIKDg5Geno577rkH27Ztkzo0n/Ljjz8CAJKTkxEcHIwPP/wQ/fv3R2RkJHr16oXIyEhkZGTgxRdfFJ2QIterqanBp59+CgBISkriUOEuMnv2bISEhABorL+tVmurZQ4cOIBNmzYBAObMmWNf3h/wmitRCzabDc8995x9etasWRJG41uWL1+OefPmtfv5008/jTlz5ngwIt+2cOFCFBQUYNSoUbjvvvukDscvHD9+XDSdnZ2N7OxsrFixArfeeiuWL1+O0NBQiaLzDTabDSdPngTQ+Mzi/Pnz8dprr7Va7vTp03jyySfx6aefYtOmTQgLC/NwpP7hk08+sY9Qduedd0KhUEgckW+IiorCypUrMXv2bOzatQtDhw7FggUL0KtXL9TU1GDXrl146aWXYDKZMHjwYNGzu/6AV2CIWli8eDH27NkDALjtttswZMgQiSPyfYMGDcKePXvw7LPPsvFzkZ07d2Lp0qVQq9V48803Wa5uFhgYiDvuuANvv/02du7ciQMHDmDLli3485//jMjISADA+vXrccstt8BsNkscrbxVVlbCZrMBAI4cOYLXXnsNcXFxeP/991FWVoa6ujrs2LEDw4cPB9D4MPS9994rZcg+jbePuc+0adOwf/9+3H///Th48CDuuecejBgxApMmTcLf//53BAYG4pVXXsHOnTv9bxAoqYdBo7ZxGGVpbN++3f6iv+joaKGwsFDqkHxKeXm5cOTIEeHIkSPCnj17hI8++kiYPn26AEBITU0VNmzYIHWIPsFoNAq9e/cWAAhPPvlkq8//9re/cRhlFysvL2/3s4KCAuGqq66yl/mrr77qucB8UE5OjuglfoGBgcLJkydbLVdXVycMHDjQvtyPP/4oQbS+LScnR1AqlQIAYfjw4VKH43OMRqPwxz/+UejWrVu7L7G8+uqrhc8++0zqUD2OV2CIfnHs2DFMnz4dFosFOp0Oa9asQXR0tNRh+ZSwsDBkZmYiMzMTQ4cOxR133IF169ZhxYoVOHv2LG655RYsX75c6jBl79///jdOnjyJxMRE/O1vf5M6HL/Q0e1JMTExWLt2rX2Y3yVLlngoKt+k0+lE0/fff7/ogefL9Ho9/t//+3/26Y8//tjtsfmb999/33417J577pE4Gt9SW1uLiRMn4tlnn0VZWRkWLlyIEydOwGg0orKyElu2bMHo0aOxb98+3HrrrXj55ZelDtmjmMAQATh37hwmT56M8vJyqFQqrFq1Ctdee63UYfmNu+66CzNnzoTNZsOjjz7KEYS64OTJk3j22WcBNHaU+eZ375CSkoJJkyYBaHwuJi8vT+KI5OvykOuXTZ48ud1lJ0yYYB9iee/evW6Nyx+tXLkSAKDVanH77bdLHI1v+fvf/25/L9o777yD559/Hr1790ZAQABCQkIwadIkbNu2DePHj4cgCHjyySdx6NAhiaP2HCYw5Pfy8vIwceJE5OXlQaFQYNmyZbjlllukDsvvXC7z2tpafPnllxJHI1+LFy+GyWRCSkoK6urqsGrVqlY/R48etS//7bff2udffhCX3KNv37723y+/M4Ocp9Vq0a1bN/t0QkJCu8vqdDr76HvFxcVuj82f7Nu3zz5oxdSpUxEeHi5xRL5DEAQsW7YMANCrV692r26p1Wr885//BNA4uIU/3cHAUcjIr5WUlGDSpEn2MdaXLFnChxAl0rxDcuHCBQkjkbfLQ8aePXsWs2fP7nT5y40f0Hglklds3IcDKbhOv379sH37dgBoc3jZ5i5/zpddulbzh/d5+5hrFRYW2u9EuOqqqzpctvlAQ5dH5/MHvAJDfquyshLXX3+9/QzSc889h0ceeUTiqPxX8zPSBoNBwkiI3KP5EMvdu3eXMBL5a36Lb0cv+auqqkJJSQkAoEePHm6Py1+YzWasWrUKQOPJpxtvvFHiiHxL82T78jvS2tN8VEN/StKZwJBfqqurw5QpU/Dzzz8DAP785z/jqaeekjgq/3b5zdoA0L9/fwkjkbfly5dDEIQOf5o/2L9t2zb7/OTkZOkC93Hnzp3D119/DQBITU1lZ7qLZsyYYf/98ksU2/Lpp59CEAQAwJgxY9wel7/44osv7LfkzZkzx686zp4QERFhfynl7t27O0ximr94u2fPnm6PzVswgSG/YzKZMH36dOzatQsAMH/+fPzrX/+SOCrftXz5cjQ0NHS4zOLFi7F582YAjRUwOxokJxs2bOiwg1FYWIgZM2bAZDIBAB5++GFPheazBgwYYD/r/9FHH+Gbb75ptUxBQQH+8pe/AAACAgI6fIkuOYfvfnEvpVKJKVOmAGh8Trf5aHrNlZeXi06+Tp061SPxeQOFcPnUBEnq+++/R3Z2tn26pKQETz75JABg1KhRuP/++0XLz50715Ph+ZQZM2Zg3bp1AIDrrrsOr7zySof3pgcEBKBXr16eCs/nJCcno7q6GjNmzMDo0aORmpoKg8GA6upqHDlyBB988IE9mQwICMCmTZswceJEiaP2bX//+9/xzDPPAGi8AjNu3DhpA5K55ORkmM1mzJgxAyNGjEBycjL0ej1KSkqwfft2/O9//7PfxjR69Ghs3boVWq1W4qjl7/Tp07jmmmtQUVEBnU6HBQsW4KabboJer7e/GDc3NxcA8Pzzz2PhwoUSR+wbysvLERcXB6PRiMzMTBw5ckTqkHzSyZMnMWTIENTV1QEAbr75Ztxzzz1ISUlBQ0MDfvzxR7zyyiu4ePEigMYR97Zu3SplyJ4lwbtnqA333HNPuy8pauuHrpwz5QxASEpKkjpkWUtKSnKonOPj44UtW7ZIHa5f4IssXcvRY3zGjBkdvvCSnLdz504hJiam3TJXKBTCX/7yF6nD9ClvvPGGvXxfeOEFqcPxaV9//bUQFRXVad1y3XXXCWVlZVKH61G8aZGI3Oqrr77Cpk2bsGvXLmRnZ6OwsBClpaXQ6/WIjo7GoEGDMHXqVMyaNQuBgYFSh0vktPfeew87duzA7t27cfbsWZSUlKCqqgoGgwEJCQkYOXIk7rnnHowYMULqUH3O6NGjcezYMSxZsgTr16/HuXPnYDKZEBcXh3HjxuGxxx7rdBQncs7ld7+oVCr8+te/ljga3zZx4kScPHkS77zzDr744gscO3YMFRUVUKvViI2NxdChQzFnzhxMmzbN70Y55C1kREREREQkG3yIn4iIiIiIZIMJDBERERERyQYTGCIiIiIikg0mMEREREREJBtMYIiIiIiISDaYwBARERERkWwwgSEiIiIiItlgAkNERERERLLBBIaIiIiIiGSDCQwREREREckGExgiIiIiIpINJjBERERERCQbTGCIiIiIiEg2mMAQEREREZFsMIHxQrm5uVAoFFAoFMjNzZU6HL/AMvcslrfnscw9i+XtWSxvz2OZexbLW4wJDBERERERyQYTGCIiIiIikg0mMEREREREJBtMYMjl+vXrh379+kkdht9geXsWy9vzWOaexfL2PJa5Z7G8Pcsd5c0EhoiIiIiIZIMJDBERERERyQYTGCIiIiIikg211AG4U0NDA44cOQIA6NatG9Rqefy5+fn5bf4uF2azGQBkNU65nMuc5e1ZcixvgGXuaSxvz5JzeQMsc09jeXuOxWJBXV0dgMZ+uU6nc8l2FYIgCC7Zkhfau3cvhg0bJnUYRERERER+bc+ePRg6dKhLtsVbyIiIiIiISDbkcU/VFerWrZv997+s3Yiw6BgJo/Effd+8Fjd9WI/Nc/ToH6OSOhyfd6TQ2ljejz6M/j16SB2Ozzty6RJu+u/rePTdeeiRESd1OH7h0ql8/HfeuyxzD7lc3qxTPOdyvcJ20zMut5u/e3slemT0ljocn1ZRVIh//WoqAHG/vKt8OoFp/sxLWHQMImK7SxiN/4gxKO3/xofwIp+7FdU23gUaExKC+PBwiaPxfUXV1QCAkKhghMeFSRuMn6gurQHAMveUy+XNOsVzLtcrbDc943K7GRLVjX1DD3Lls+j8lhARERERkWwwgSEiIiIiItlgAkNERERERLLBBIaIiIiIiGSDCQwREREREckGExgiIiIiIpINJjBERERERCQbTGCIiIiIiEg2mMAQEREREZFsMIEhIiIiIiLZYAJDRERERESywQSGiIiIiIhkgwkMERERERHJBhMYIiIiIiKSDSYwREREREQkG0xgiIiIiIhINpjAEBERERGRbDCBISIiIiIi2WACQ0REREREssEEhoiIiIiIZIMJDBERERERyQYTGCIiIiIikg0mMEREREREJBtqqQMgoKG2FpeyT6HgTDZqKsphNhoRGBKCkMgoJGcORFR8gsv3eSnrFM4fPYzK4iLYrFYYwsPRI703UgZeBZXadw4LQRBwvkLAkSIrcqsEVDQI0KqAcL0C6RFKDO2hgk6tcOk+q40CduVYcbrUiiojoFcDSWFKjExQoXuw/M8ZCIKA86WlOHIpD7nl5aior4dWrUZ4YCDSo6MxNDkJOo3GpfusbmjArjNncLqwCFUNDdBrNEiKiMDI1BR0Dwtz6b6IyLNYp3gXtpvegX3DjnlXNF6mvCAfZw8fxNlDB3DuyAGcP3IYDbU19s8je8TjP9t+uqJtnzn0Mw58/RVO7P4e548dhmCztbtsZI94jLvjLoy7404EhYZd0f6Axkrp+08+xua3/w+F5862uYwhLBzj5tyNKQ8+Cm1g4BXvS0rl9QLWnzTjyzMWfHvOipI6od1lNUpgSi81FlwTgLHJXfs6nCu3YdF2I1YfM8Nkbf25AsDYZBWeGafFtUny+uqV19Zh/aFD+PLYMXx76jRKamraXVajUmFKZiYWTBiPsb16dWm/50pKsGjDRqze/zNMFkurzxUKBcamp+GZm6fi2vT0Lu2LiDyHdYp3YbvpOPYNvaNv6B1HgxfJ2r8XXy37H84eOoCKogKXb//i8aP4v8ceRHHOBYfXKb2Ui09eehZbV7yDe599Gf2vHe/0fuuqKvHG/IdwbNd3HS5XU1GOja+/ip82rMfjb76LHukZTu9LSo9sqsfSA21XhG0x24D1Jy1Yf9KCuwdqsORGHUK0zp9ZWn3MjHmf1aPO3P4yAoDt560Yt7wOC0cF4NkJWigUrj2L5Q6PfLQKS3f90GZj3xaz1Yr1hw5h/aFDuHv4NVhy+yyE6PVO73f1vv2Yt2Il6kymdpcRBAHbT2dh3MuvYOHkSXj21ltkUabusuGVLdj06tYrXn/4jCGY++LtLozIt7G8rwzrFO/CdrNz7Bt6X9/QP6/LdeDckYP4+esv3HKAAkBZYX67B6g+OASxPVPRc8BV6JaQ1OpLWllchFcevBs/bfzMqX2aGurx0r2/bnWAqjUBiOmZgviMPq0y6uKcC3jhrpkovHDOqX1J7adL1jYrYZUCiA9RYEicEgNilAjVtl5mxSEzJq2sRY2p/TNPbVlzzIzZn7SuhLsFKjA4Ton4EAWa/08KAJ7fZcITXxmd2o9Ufjp3vs2OhkqpRHx4GIYkJmJAjx4IbaNDseLHnzDp1SWoaWhwap9r9v+M2e8sa9XR6BZswODEBMSHh4m+H4Ig4PmvtuCJNZ84tR8i8jzWKd6F7Wbn2Dds5E19Q16BcYI2KAjG2lqXbjN10GAMnzYDvYePRI808aXxqrJSfPfxB9j45msw1dcDAASbDUufmo/YlFQk9c10aB+rnn0G5w4fsE8rlEpM/e3jmDz3AftlR4vJhB83foqPn/0HaisrAADVZaV4Y/5DWPTJZihVqq7/sR4WpgPmZGowpZcaYxLVCG52hshqE7DzohWLthmx82JTzb3nkg1z19dj7SzHLpGeKbNh3mf1sDWruwfGKLH4eh3G92z6ep0qseJP3xqx7kRTo/3KTyaMSVLhtj6uvbfbncIC9ZgzdCimZGZiTHoagnU6+2dWmw07s7KxaMNG7MzOts/fc/485r63Emt/84BD+zhTXIx5K1bCJjQV6sD4eCyeOQPjM5rO+pwqKMSfPvsM6w4ctM975dtvMSY9FbdddVUX/koi8hTWKd6F7abz2DeUBhOYduiCDEjO7I/k/oOQMmAQkvsPQknuRbxw18wub1uhVGL41Ftx028e7fAyXEhEJKb+9nEMHD8RL9w9E7UVFQAAq9mMj/7f3/D0B52fGco/k43vVn8omvfAi0swfOqtonnqgACMvu129Ow/CM/Ono66qkoAjZc1d61fizEz5HObQ3KYAn8Zo8Wc/hroNW1falYpFRiXrMa2e1R4eFMD3vq56TTQJycs2HbOIqpI2/PXbQ2obXYGaWh3JbbeHdTqcnpGlAprZ+rx0EbxvhZ+3YBpGWqold59i0JyZCT+ctMNmDN0KPQBAW0uo1IqMS6jF7alL8DDH63CWzu/t3/2yYED2HbqlKiz0J6/fr4Btcams2xDk5KwdcHjrW4ZyYiNwdoHH8BDH34k2tfCdesxbcAAqGWYdLvajD9NQXyf7g4vHxoT4sZofB/L23GsU7wL203HsG/oPX1DJjAtDLpuEvqNHou4lDQoleI77EpyL3Z5+7HJKfjHhq1O3T+Y0Lsv7n12MZb8dp593um9P6LwwjnEJPXscN31r70Im7XpTMmIW2a0OkCb65GegVlP/RXL//wH+7zP//syRky7DWoXjwLjDs+M02JSqhoBKscqNpVSgden6PBzgRX78poellt6wNRpRXysyIqPjzWdGQpQAe/dqm/3XmCFQoFXb9Rh23krssoa93WmXMC7B8x4YEjbDbg3eObmKZjUpw8CHByBRKVU4vXZd+Dnixex70LTd2bp9z902tk4lpeHj/ftt08HqNV4b+7d7d7vrlAo8Oqsmdh26jSyiooANJ5tffeH3XhgzGiH4vVlif3jkTE8Veow/AbL2zGsU7wL283OsW/ofX1DPgPTQnRiMnqk9Wp1gLpKbM/UK3r46aoJk9G9xWXEo99t73Cd2soK/Pz1F/ZphUKBWx77faf7Gj3jdkT2iLdPl17KxfEfdjoXsESm9NI4XAlfplIqsHCk+Ober7I7f5px2QGz6BL4HZka9OnW8Rk6nVqBp0eLK92lB9p/oNQbTOnf3+GOxmUqpRILJ08Wzfvq+PFO11v2w27RbR53XD0EfeLiOlxHp9Hg6evF+1q66wcnoiUiT2Kd4l3YbnaOfUPv6xsygZGRXlcPE02X5l/qcPnD27+BtdmDkhnXjEB0YlKn+1EqlRh9m/iy4IGtXzoRqfyMSRJXoKX1AurMHT+U+Plp8UOo913l2FmI2/tpENRs0b2XbMirbn+oRLkakyY+E11aW9vh6D8A8Pmhw6Lp+0aNdGhft189BEHapsZ074ULyPvlsjoR+QbWKd6F7aZ38Ne+IRMYGQkMCRNN11dXdbj8oe3fiKb7jRrr8L76jRoj3ta2b9pZ0jeE61qffapsaL8iPlViRXZZU+UZpAFGJjh2f3RQgEK0rABg02nHhhOVk/A2xoqv/OWBw7acKihEdnGxfTpIq8XIlBSH9tW4bNMlc0EQsOnIUSeiJSJvxzrFu7Dd9A7+2jdkAiMj5YX5omlDWHiHy+ecOCaaTht8tcP7SsocAHVA09mniqICVJWVOry+3Fyqbl3pRga2f0n9YIH4zM+wHiqnHigclSC+feJggYMD8MvIpYrKVvMig4LaXf5gbo5oelhyklMPzY5KFZ+dPZib6/C6ROT9WKd4F7ab3sFf+4ZuTWCKioqwceNGLFq0CDfeeCOioqKgUCigUCgwd+5cd+7a5wiCgKz9e0XzYnq2fybJYjaj6OJ50bzuqY6/wVgToG11STH/TJbD68vNzgviMzlJoYoO7wk+USKuOPt2c+6r1HL5EyW+dym8+bCnAJAUEdHhfe8n8sXj6/eN7fg+9Zb6triv/USBe8brJyJpsE7xLmw3pefPfUO3jkIWExPjzs37lZM//SAa6UKhUKD/mPbfulqcc0F0j2OATofgiAin9hkR1x152aft0wVnzyBj6HCntiEXyw6K36Z1U3rHX41TpeKKMyHEuYo4IVRcybfcni9Y9oP4odebMvt1uPypwiLRdEJEx2eRWkoIFy9/qqDQqfV9ldloQUlOKWrL66BSqxAUHoiwmBAE6L135Ds5Y3m7D+sU78J2U3r+3Df02DDKiYmJ6N27N7Zs2eKpXfoMm82GT156VjQvc8x4hHaLbned6lLxJb2wmFin99tynaqyEqe3IQebs8z47oL4zNDcQR13NopqxZfO452siHsEi5cvrnXuLcbebvORo/guS3y2dO6IER2uU1RdLZqODwtzap89wkJF08U1NU6t74tWLVqPkoulMBvFZ0qVaiWSMuPRb1wGxt45AsGRBoki9C0sb/dhneJd2G5Kz9/7hm5NYBYtWoShQ4di6NChiImJwfnz59GzZ8djU1NrX73zJs4eEr8t9bYnnupwnYY68VthtXrH3pDb0TrG2jqnt+HtyuoF/GZjg2jerb3VGNaj4/uka0ziijPIyZOrQQHiM0lmG2C0CNCqvfuFlo4oq63Fbz4UvyDr1oEDMaxncofr1TR70RwABGmdK9TmIwYBgNlqhdFshlYG7y9yl/ysts8Y2yw2nDt4EecOXsRXb27HpAeuxdT5k6BU8bHIrmB5uwfrFO/CdtM7+Hvf0K0JzDPPPOPOzfuF03t/wrrFz4vmTbrnfiT1zexwPWOLg1TToiJ2RIBO1+E25c4mCLhzXT1yq5oq1VAt8NoNug7WalTTYuROnZMVqL6Nb16NSf4Vsc1mw53LliO3vMI+L1Svx2u3d/6W4padDZ2TnQR9G8vXGI1+39nojLnBjM1LvkH23nN4eOk86IKcryvIcSxv57BO8S5sN70D+4YevIWMnFd08QL+++j9ovsVE/v0w4zfP93puuYWFbda4/z91+oA8TqmhoZ2lpSnJ7cY8UW2+FaP/03VIyG087OiDRbxmaQAxwe2AQBo2/jm1fvAiJBPrvsUXxwTj3Dyv1/PRoID99g2mMX3UweonKuetG08zFvfYpv+QKFQoOfgRPQf3wfJAxMQmxaNoLBAKBQK1FbU4uLRSzjy7Qn8+Ml+0a1Op388i3ce/wC/fWsurww4geXtXqxTvAvbTemxb/hLHJLslTpVXVaGxQ/ciZryMvu8kKhueOS/S6EJ6DxjbplVW8zOv7XW0uIFYVeSqXur134y4uUfxX/fwpEBuD3TsTNrjWeOmipjk5OjORrbqHR1Mv82vvbtNry8VTwm/MLJk3D71Y4N0djy7KjJ6lzLZLS0Xt7ZM65y13dMLwybdhViUrq1+XlYTCjCYkIxYEJf3PToBCx9/EOc2Xfe/vmRb09ix8rdGD93lIciljeWt3uxTvEubDelx75hE1n/1+d2MiZ7fn5+h597q/qaGiy+/04Unjtrn6cPDsET73yAbgmJDm1DGygeG79l1u2Illl1y226w9azjjcwE1Ou7PD98IgZC74Ul8fcQRo8N9HxL6GhxUmLlmeWOtPWWSNDgHwvg3+4Zy8WrFkrmjd3xHA8N/1Wh7dhaFEJtjx72pm2zoy23KavSx2S7PCy4XFhWPD+A1g85y2c/fmCff7m/36DUbcP5ahZDmB5uw/rFMex3fQP/tw3bIusE5iEhASpQ3A5s7EBS347F+ePHrLPC9DrseCtFUjs0/GQkc3pWhxQxnrnH7JquY4uyPmHvZw1aaXjcQp/C3F6+xtPm3HP+no0rzZv66PG0pt1UCgcrwhbVpq1Tp7EqG3xMKNa6fz9wN5i4+EjuGf5exCEpr/ptqsGYelddzpXpi06BrVG5wq1tuWlcaXSr8+WOkKj1WDuS7fj75NehM3SOCRpdWkNju88jUGTO76XmpzH8nYM6xTnsN30ff7eN2wLb7z1IhazGW/Mfwgnf9ptn6fWBODR/y5F+pChTm0rODJSNF1R6PwLuFquExwR5fQ2vMm2cxbMXFMPS7Oh4yelqPDRDD1UTrwNGACig8TL51Y5Nx79pWrx8t06eHuxN9t26hRmvr0UFlvT3zOpT298dN+9UCmdq16ig4NF07kVFU6t3/It3d1abI/aFp0chYET+4rmHd/puy+tlRrLu2OsU7wL203psW/YNllfgcnJyenw8/z8fAwbNsxD0XSNzWbD0oXzcfDbr+3zlCoVHnz5v8gcM87p7XVLSIJKrbY/5GVqaEBVWSlCIiI7WbNJad4l0XRcaprTcXiLn3ItmLaqDg3NLkGPTFDh09sDO3xzcHsyIsUN6cVK5yrii5XiM0m9o+R3LuGnc+cw7fU3RbdljExJwacP/abDt2O3JyNGPHb9xbKydpZsW8vle8fyRbqOyhiZhgNfHrVPF54tljAa38fybhvrFO/CdlN67Bu2T9YJTHx8vNQhuIQgCHjvLwuxZ9Nn9nkKhQJz/99/cPX1U65om2qNBt0SklBw7ox9Xn72aYQM6/jFX5eZTUYU51wUzYtLcf9BeiWXtztzuNCKGz+oEw3heFWsEpvnBLYaV95RvaPEw6ccL3GuIj5RLF5ebhXx4dxc3Ljk/0TDlF6VkIDNjz3S6t0JjuodK3451nEnn2E7USA+K9Q7xr86G10RERcmmq4p5Qv73Inl3RrrlCvHdtM3sW/YMd/+35eJj/79N+xc+5Fo3py//BOjb7u9S9tteV9k9s/7HF73wtHDsJiaGpLQ6BiERMrvFrJTJVZMWlmH8mbPnPWJUuKrOwMRqrvyy8+DYsVfnb2XrLDYHH8gcVeO+GnEQbFOjicpoVMFhZj06hKU1zXdB9snNhZfPf4oQvX6K97uoATxCYm9Fy7CYnV8mJpdZ86Ipgf54DNy7qLSiI8/q8W5jgU5h+UtxjrFu7Dd9A7sG3aMCYzE1r3yAra+945o3ownnsaEu+Z1edsDx08UTR/74TuH1z22a6doelCLbcnBhQobJq6sQ1FtUwXZM0yBr+8KRLegrh36vaNUSA1vqshrzcAPOY41jLUmAbtzm5ZVAJjaSx4XQy+UlmLiq6+iqLraPq9nVCS+nv94l+8P7x0bi9RuTcPR1hqN+OHs2Q7WaFJrNGL32XP2aYVCgan9+VC0oyqLq0XThghpRpXxFyzvJqxTvAvbTe/AvmHnmMBI6Iulb2Dj66+K5k35zaOY8tBjLtl+/7HXQdXsvuFTP+1G0cULHazRSBAE7Pp0tWjeVROud0lMnpJfbcOEFbWitwX3CFbgm7uD0CPENYf9tAzxaDTvHHBsiM6Pj5lFl+Wv7q5E92Dv/yrmV1Ziwiuvid6I3SMsDN8smI8e4WEu2ce0Af1F0+/s+sGh9T7et19068nViYnoHuaamPzBmb3nRNPh3UMlisQ/sLwbsU7xLmw3vQP7ho7xzf99Gdi+aiXWvPAv0bwJd87DjN//0WX7MISF46qJTQeXIAj4bMlLna63c+0qlOQ2DZAQ2SMefUeOcVlc7lZWL2DSyjqcKW+qhLsFNp5B6hnuukP+3qs0aH4xfdVRM04Ud3w2qcEi4LnvxWNH3neV97//oay2FpNefQ1nipseNu4WbMDX8x9DzyjXXT6+d+RI0bCcq/btx4lO7ltvMJvx3FdbRPPuGzXSZTH5urqqetED5QDQe2S6RNH4PpZ3I9Yp3oXtpndg39BxTGAk8OOGT7Hy738SzRs943bM+es/Xb6vWx7/AxTNhp7c/dkn+HHj+naXv5R9GqufF8dx88MLoA6QR2VRbRRww/u1ONbsYb8wHbDlrkD06eba+2Uzo1WY1a/pLIbJCtyzvh5Vxrbv6RUEAQu+bEBWWVNsKeEK3HuV971XoLnqhgbc8Np/cSyvqdEPC9Rjy+OPoU9cnEv3ldmjO2YNGWyfNlksuGf5ClTV17e5vCAIWLB6DbKKiuzzUqKicK+PdzZc6ZP/txF1VU3lqw5QIXNchoQR+TaWN+sUb8N20zuwb+gc372BsAuy9u+FqaF15ZZz8rho2mw04tiutu8dDIuJRY+0Xq3mH9v1Hd55agGEZmPcx6WkYdhN03D8h52tlu9IUGgYkjMHdLhMj7ReuHbmbOz4+AP7vLf/8Bjyz2Rh8twHEBQaBqBxnPEfN6zDx8/+A3VVTWPfx2f0wajpM52KS0rTVtVhb574gdgnhmtRUic49bZiABgSp0K4vuMHFv91nQ4bTteg7per4HvzbLj23Vq8coMO45Kbvl6nS6344zdGrDshjuG5CTpormA4Sk+a9vob2HtBfHn5iQkTUFJTi60nTjq1rSGJiQjv5KVX/5p2MzYcPoI6U+MZt70XLuDalxbjlZm/wriMpu/U6cJC/HH9Z1h34KBo/eem3wqNyrcf7mzLl29sQ5/R6Ujq79jojFaLFZ8+txm7Vu8VzR8zZzhCo10/qpGvYXlfOdYp3oXtpmPYN/SuvqFbE5jvv/8e2dnZ9umSkhL779nZ2Vi+fLlo+blz57ozHIe99YdHUXopt9PlqkqK8dK82W1+Nmr6TNz3/Cut5mft32sff/uy/LPZePm+XzsdZ8awEXjq/bWdLnfHn57BhWNH7W9wFWw2bPi/V/DFW68jKj4B6oAAFOdehLG2VrSeITwCD7/2P9G9kt5u+/nWl6IXbTe2sWTntt0TKKpM25IWocQ70/SY80nTW4oPFdow/r06dAtUIDFUgaJaAblVAlqeX3psWABm9vP+s0jbT7d+yd6iDRuvaFvbfrdA1GFoS1p0NN65607MWfau/U3ch3JzMX7xK+gWbEBieASKqquRW1EhelM3ADw2fhxmNjvb6k+O7TiF9S98gZQhSRgyZSB6j0xDbGo3qNTijld9VT2Obj+JLf/bgZzjeaLPuiVFYsrj8huwQwos7yvHOsW7sN10DPuGjbylb+jWvS9duhTvvfdem5/t2rULu3btEs3zlgTG12j1ejyx7AO88fhvcOLHpjK3mE2iscCbi4pPwONvvIvYnqmeClO27sjUQBCA+z6vR32z+qe4TkBxXduXxf8wIgAvTLqydxv4gzuGXg0BAu5b8T7qm73Urri6BsXVbb8z4w+TJuKF26Z7KkSvdXb/BZzd33h2Wx2gRnhcKPTBOiiUStRW1KI0txxCG0OXhnQLxqPv3gtDuP+OiHUlWN7ywDrFu7DdlJ7c+4byObVOXWIIC8fvl6/CzjUf4Yulr6Powvk2lwsKC8O4O+7ClN88Bl0QG1ZHze6vwTXxKvx1WwPWHLPA3M5rHa5NUuEf47QY28kZKgJmDx2Ka5J74q+fb8Can3+GuZ33N1ybnoZ/3DwVY3t1fBbWH1lMFhRfKO10uczxvXH3C7MQEmXwQFS+i+Xt3VineBe2m9KTc99QIbS8XupDcnNzkfDLi6de/G4vImK7SxyR98g9dQIXjh1BRXERbDYrDGHh6JHeGykDr4Ja07XLswNf7IUhb9Vi/4NBGBznu/cNt6fKKOD7ixZkldpQbQJ0aiAxVIlRCSqXDUXZ3M/51sby/tPTGJyY6PLte4Oq+np8n30GWUVFqDYaoVOrkRgRgVGpqS4bbtVRP1+8iCH/fg5/2vA4EjMde/7BE47vPI2DXx1F9t5zKDhTDJu145cjaoMC0G9sb4y/eyTSr0nxUJRX5uLRXPz75te8qsz9obxZp3jO5XqF7aZn282/ffolkvr173wFP+GOvmFZQR7+cO1QAEBOTg7i411ThzOd9VPxGX0Qn9FH6jB8UohWgZvSNYD/jYzqNiF6PW7yg5fIdUXfMb3Qd0zjGWNTvQn5WYUoyS1HVVE1jHVG2GwCAkP0CAzVIy49Bj0yYqFUcSDKK8XyljfWKd6F7aZ3kFPfkAkMEZGPCdAHIGlAApIGJEgdil9geRMReRZPBxERERERkWwwgSEiIiIiItlgAkNERERERLLBBIaIiIiIiGSDCQwREREREckGExgiIiIiIpINJjBERERERCQbTGCIiIiIiEg2mMAQEREREZFsMIEhIiIiIiLZYAJDRERERESywQSGiIiIiIhkgwkMERERERHJBhMYIiIiIiKSDSYwREREREQkG0xgiIiIiIhINpjAEBERERGRbDCBISIiIiIi2WACQ0REREREssEEhoiIiIiIZIMJDBERERERyQYTGCIiIiIikg0mMEREREREJBtMYIiIiIiISDaYwBARERERkWwwgSEiIiIiItlgAkNERERERLLBBIaIiIiIiGSDCQwREREREckGExgiIiIiIpINtdQBuFK/fv1E02az2f573zevRYyB+ZonTM57CMBLmJz3EDTGBKnD8Xnm0hwAL+GWkvehDdBKHY7PM5YYAQArNqyDdj/L2xOMeSxzT7pc3qxTPOdyvcJ20zMut5vpK29FnyiV1OH4tMIam1u2qxAEQXDLliXQVgKTlZUlUTRERERERAQAOTk5iI+Pd8m2fOoKzLFjx0TTubm5SEhoPJOxeY6eV2A8ZHLeQyjd+BIip/4emkieSXI3c2kOSje+hPgH46HtzrOl7mbMMyL3rVyWtwexzD2L5e15l8uc7aZnXG43379NxyswblZYY8NNH9a7fLs+lcB0pH+MCvEhTGA84fLlb01kArSxaRJH4z+03bXQJ+ulDsNvsLw9j2XuWSxvz2O76Vl9olQYHMcExp1yqxRu2S579EREREREJBtMYIiIiIiISDaYwBARERERkWwwgSEiIiIiItlgAkNERERERLLBBIaIiIiIiGSDCQwREREREckGExgiIiIiIpINJjBERERERCQbTGCIiIiIiEg2mMAQEREREZFsMIEhIiIiIiLZYAJDRERERESywQSGiIiIiIhkgwkMERERERHJBhMYIiIiIiKSDSYwREREREQkG0xgiIiIiIhINpjAEBERERGRbDCBISIiIiIi2WACQ0REREREssEEhoiIiIiIZIMJDBERERERyQYTGCIiIiIikg211AH4E0EQcL5CwJEiK3KrBFQ0CNCqgHC9AukRSgztoYJOrXDpPquNAnblWHG61IoqI6BXA0lhSoxMUKF7MPNXdxAsJjRcOgFLaS5sDTWASg11cBQCumdAExYrdXhERERexZ/bTfYNrwwTGDcrrxew/qQZX56x4NtzVpTUCe0uq1ECU3qpseCaAIxN7tp/zblyGxZtN2L1MTNM1tafKwCMTVbhmXFaXJvkn4dB8ecvoO7Ed6J5qpBoxP922RVtz1pXicpdH6LmyDcQzA1tLhMQm4bQkXcgMH34Fe2DiIhIKmw3XYN9w67z7uhk7pFN9Vh6oO2DpC1mG7D+pAXrT1pw90ANltyoQ4jW+ax79TEz5n1Wjzpz+8sIALaft2Lc8josHBWAZydooVC4NsP3ZnXZP7WqhLui4eJhFK9/Drb6qg6XMxVko3jdvxCUeR0ib3gMCpXGZTHISeGnhSj+rPiK1w8bFYb4B+JdGJHvY5l7Fsvb81jm7sV20zXYN3QNeVwnkqmfLlnbPEBVCiA+RIEhcUoMiFEiVNt6mRWHzJi0shY1pvaz8rasOWbG7E9aH6DdAhUYHKdEfIgCzQ9FAcDzu0x44iujU/uRM5uxFmVfve6y7TXkHkPRmmdaVcJKbRACYlKhCo0BFOKvWu3Rb1Hy+X8gCM79/xIREXka203XYd/QNXgFxkPCdMCcTA2m9FJjTKIawc2yZ6tNwM6LVizaZsTOi01H9Z5LNsxdX4+1swId2seZMhvmfVYPW7PjemCMEouv12F8z6b/6lMlVvzpWyPWnbDY573ykwljklS4rY+8z2w4onzbMlhrSgEACo2u3cvWjrA21KDks+chWJq+5KqQaERMfBD6tGvsZy4sVSWo3L0KNQe/tC9Xd/oHVO9dj5Bh0694/0RERO7GdtM92De8ckxg3Cw5TIG/jNFiTn8N9Jq2L8OplAqMS1Zj2z0qPLypAW/93JQif3LCgm3nLKKDrD1/3daA2mbZ9dDuSmy9O6jVpcaMKBXWztTjoY3ifS38ugHTMtRQK73zcqErNFw8jJpDWxonFEqEjpqNiu3vXvH2qn76BNaaMvu0OjQGMb9+AergSNFy6pAoRF7/KNQh0aj4boV9fsUPqxA0YBJUOsMVx+ALYm+PhS5R5/Dy6jBWXV3FMvcslrfnscxdg+2m67Fv2HX8trrRM+O0mJSqRoDKsf90lVKB16fo8HOBFfvybPb5Sw+YOj1IjxVZ8fGxpqw5QAW8d6u+3fskFQoFXr1Rh23nrcgqa9zXmXIB7x4w44EhAQ7FKzc2sxGlXyxB48VRIHjwVGjj0q94e9a6SlT/vFE0L+KGx1pVws2FDJ+J+nM/w5hzFAAgGGtRtWcdwq+9+4rj8AW6ZB0MfeTbGMkRy9yzWN6exzLvOrabrse+oWvwGRg3mtJL4/ABeplKqcDCkeIbH7/K7vxJr2UHzKLLg3dkatCnm6rDdXRqBZ4eLT4glx4wOR6szFTufB+WinwAgCqkG8KuvatL26s98R0EU719WpuQCX3yoA7XUSgUCB01W7ydw1/L/p5eIiLyPWw3XY99Q9dgAuOFxiSJD67SegF15o6/qJ+ftoim77vKsfsVb++nQVCzRfdesiGv2tb+CjJlzD+Nqn2f2acjJv0WygB9l7ZZn/WjaNowYJJD6+kSB0AdGmOfttaWw5R3skuxEBERuRLbTe/CvqEYExgvFK5rnZlXNrR/kJ4qsSK7rOnACtIAIxM6zrDtywYoRMsKADa1OODlTrBaUPrFa4DQWEaBGaMRmDasS9u0merRkHNMNE+fPNihdRUKBXQtzjjVndnbpXiIiIhche2m92HfUMytCcy+ffvwj3/8A5MnT0Z8fDy0Wi0MBgN69eqFefPm4fvvv3fn7mXrUnXrAzIysP3LjQcLxFnxsB4qpx62GpUgvofyYIGDg5PLROWPa2AuPg+gcYjGiIm/6fI2zSUXAVvTl1kdGgOVIdzh9bU9+oq3V3i2yzERERG5AttN78O+oZjbHuK/9tprsXPnzlbzTSYTsrKykJWVheXLl+Puu+/G22+/jYAA73o4SEo7L4iz3KRQRYf3S54oER9Ufbs5l5e2XP5EiXddJuwKU8lFVO7+2D4dNm6eUxVme8ylOaJpTVSiU+trohI63B4REZEU2G56J/YNxdyWwOTl5QEAunfvjpkzZ2LMmDFITEyE1WrF7t278dJLL+HSpUtYsWIFzGYzPvzwQ3eFIjvLDorfNHRTesf/TadKxQdVQohzB2lCqPgL0HJ7ciUINpR+8SpgbfzSa+P7wTDwepds21yWK5pWBUc5tb46uJto2lJVDMFigkLtv4m8zWyDqdgEa40VCpUCKoMKmjANlFre6eouLHPPYnl7HsvcOWw3vRf7hmJuS2B69+6Nf//735gxYwZUKvE9d8OHD8ddd92FUaNG4fTp0/joo4/w0EMP4dprr3VXOLKxOcuM7y6Is+a5gzr+chbVii8rxjt5kPYIFi9fXCvPkT1aqt63Aaa8U40TKjUib3jU/oKsrrLWVoqm1U5WxMqgMECpAmy//F8LNljrq5zejq/IX5kPU7EJQssHElWAPkmP4AHBiLguAuoQjvzuKixzz2J5ex7L3HlsN70T+4atue0UxMaNGzFr1qxWyctlUVFReOmll+zTa9eudVcoslFWL+A3G8Vvt721txrDenT80FWNSXxQBTl5MiIoQFw5mW2A0eJdB6qzzBUFqNi50j4dOnwmNJEJHazhnJZvIVZoHH9ZGtD4QGLLs0aC6crfbCx3xjxj604GAFiB+rP1KFpfhFN/OIXCdYUQbPI+Nr0Fy9yzWN6exzJ3DttN78S+YdskvYY6fvx4++9nzpyRMBLp2QQBd66rR25V08ERqgVeu6HzL3hNi+G5dWrnzpbo2zj51PLAl5uyL/9rryzVEfEIHTHLpdtvPo49ACjUjg1NKF5HPKa7zez7FXFXCCYBxZ8X4/wL52Ft8K6HCX0Vy9yzWN6exzJvwnbT+7Bv2D5Jr5sajUb77+1dqfEXT24x4ots8QNa/5uqR0Jo5zlmQ4uMOMDJotS2cRTUe9doeU6pPrQFDRcO/jKlaLwErnK+ouyIYBXXDAqV81+lljEJFmM7S/ooBRCYGgjDQAMCUwKh7a6FKkgFKABrjRX1F+pRfbAaFbsqRGdRa0/WIveNXCTOT4TCiRFVCCxzT2N5ex7L/Iqw3fRO7Bu2T9IEZseOHfbf+/Tp4/T6ubm5HX6en5/v9Dal8NpPRrz8o/iLvXBkAG7PdKzyaMyqmw5Uk5MnkYxtHJA6md4SbKkpQ8W2d+zThoGToUvIdPl+FKoWl7Gtzn+rBav4gbyW2/RlwZnBCBsRBm2sts3PleFKaMI1CBkUguhp0ch5Iwd1WXX2z6sPVaPsmzJETor0VMiyxzL3LJa357HMrwzbTe/EvmHHJAvFZrPhueees0/PmuX8pcqEBNfdm9mWrWcd/3JNTLmyovzwiBkLvhSfQZg7SIPnJrZdAbfF0OL72zLr7kxbGbUhQJozUPXnDzq8rL7FS60AoOzrN2Az1gIAVEHhCB83z0WRiSlavI1YsJjbWbJ9Lc8cKQOcux9YzgLTAx1eVhOhQfKTyTj3wjnUZzfdglC0oQjh14ZzNCEHscw9i+Xtef5a5mw3PYt9Q+8gWQKzePFi7NmzBwBw2223YciQIVKF0q5JK+s6X+gXwt9CnN7+xtNm3LO+Hs0Pqdv6qLH0Zp1To360PKBqTe0s2I7aFvc0qpXO3yvpKkUf/8XhZZOe2iiarj35PepP77ZPh094EEqdwWWxNdfy4cOWDyd2RhAECJYWl9M1+naW9i41x2ocXtbQzzXlrwxQIv6BeGT9KQv45SyStcqKmqM1CBni/HdPbljmnsXy9jyW+ZVju+lZ7Bt6B0kSmB07duDpp58GAERHR+ONN964ou3k5HT8EqP8/HwMGzbsirbtbtvOWTBzTT0szYbVnpSiwkcz9FA5ef9tdJB4+dwq58bqvlQtXr5bB2929Wbl25bZf9enDkVQnzFu25cqKFQ0bakucWp9W21F01CQAKBQQhUojwbz/H/OO7xs5nLX3YagjdEiZFAIqvZX2efVHJNXR+NKscw9i+XteSxzabDd9C7sGzrO4wnMsWPHMH36dFgsFuh0OqxZswbR0dFXtK34+HgXR+cZP+VaMG1VHRqaXZ4bmaDCp7cHdvhW1fZkRIovdV+sdO4gvVgpzrJ7R8nn0nlzly+BA0D9mb248PxUp7dhrSpqtV7c3NcQEJMimqeJEB971qpip/ZjqSoSTatDuvnNy7i6IqhvkKijYcz37Qc4vQHL3LNY3p7nz2XOdtN7sG/oHI8mMOfOncPkyZNRXl4OlUqFVatWefXLK6/k0l9nDhdaceMHdaLh7a6KVWLznMBWY247qneUeGiJ4yXOHaQnisXLS3mQtry87a1aVsSm0o6vBrZkLhUPQKGOlGcy7mmaCPHDi5ZqLxoSxUexzD2L5e15ci9ztpuexb6hd/BYApOXl4eJEyciLy8PCoUCy5Ytwy233OKp3XuFUyVWTFpZh/Jmt332iVLiqzsDEaq78ktzg2LFB9XeS1ZYbALUDl5u3JUjrqwHxfr3kNaO0EQlAko1YGssO2tlISw1ZVAbIhxa33jpuGg6IDqlnSW9jytv33CWouVZKD95bQPL3LNY3p7HMvd9/txudoR9wyvjkQSmpKQEkyZNwtmzZwEAS5Yswd133+2JXXuNCxU2TFxZh6LapktyPcMU+PquQHQL6lpW2ztKhdRwBc6UN2671gz8kGPFtUmd//fWmgTszm2qrRUApvbyonHynBB9218g2JxrecxFZ0X3ACuDwhA19Q+iZdThca3WU2oDoUvoh4YLh+zzGs4fgCFzQqf7FAQBDS1GjQlM885ntbyNpVJcoaqCvatC9UUsc89ieXueP5c5201psW945dweTWVlJa6//nocP96YOT/33HN45JFH3L1br5JfbcOEFbWiN6n2CFbgm7uD0CPENZfkpmVosLjZeOHvHDA7dJB+fMwsumR5dXclugd712VCR+kS+zu9jkIp/lsVqoA2h5lsiz7tGlFFXHP4a4cq4oaLh2GpLLRPK4PCENA9w7GA/VzzdzYArW/9INdjmXsWy9vz/LnM2W5Kh33DrnFrNHV1dZgyZQp+/vlnAMCf//xnPPXUU+7cpdcpqxcwaWWdPQMGGkdy+PquQPQMd13x33uVBs0vCq46asaJ4o7PqjRYBDz3vXhcvfuu8p0H4twtqM+1omEhjTlHUd+sYm6LIAio3PWRaJ6h/0QoFN5VMXgja60VlfsqRfMMfd0z3Cc1Ypl7Fsvb81jmnsV2sxH7hl3ntv99k8mE6dOnY9euXQCA+fPn41//+pe7dueVqo0Cbni/FseaPQgVpgO23BWIPt1ce4k6M1qFWf2asmqTFbhnfT2qjG2/uEgQBCz4sgFZZU2xpYQrcO9V/nPmqatUQWEIHiweeaXsi9dgqS5td52qH9fAmHPUPq3QBiFk2Ay3xehLCj4ugK2u6XhVqBUwDGBHw51Y5p7F8vY8lrlnsd1k39BV3HYL2ezZs7FlyxYAwHXXXYf77rsPR48ebXf5gIAA9OrVy13hSGLaqjrszROP4vDEcC1K6gSn3uQKAEPiVAjXd/zg1b+u02HD6RrU/fJy2715Nlz7bi1euUGHcclN/9WnS6344zdGrDshjuG5CTpormCoPn8Wcs0M1B79BtbacgCApbIQBe8/iYiJv4E+bZj9pVOWqhJU7l6FmoNfitYPHTELKn2wx+OWUvHGYhgyDdAnO/YCMsEqoGB1Acq/KxfNjxgfAU2Y91Wq3ohl7lksb89jmcuHv7eb7Bu6htsSmHXr1tl///bbbzFgwIAOl09KSsL58+fdFY4ktp9vfZlu0fYrG19+2z2BogOtLWkRSrwzTY85nzS9wfVQoQ3j36tDt0AFEkMVKKoVkFsloGXu/diwAMzsx0rbWSp9MKJueQpFqxfZ3xBsrSpC8bp/QqkNgjosFraGGliqigFBXGHp04cjZNhtUoQtqeoj1ShcW4jAtECEDAuBoa8B2jhtq5GArHVWVB+uRsnmEjRcFL+xOSA6AN1u6ebJsGWNZe5ZLG/PY5nLh7+3m+wbuoZ3DSlAXXZHpgaCANz3eT3qmyXRxXUCiuvavmT4hxEBeGGS1kMR+h5dQia6/epvKFn/HGwN1fb5NmMtTIVn2lwnsO9YRN24wH6myR/VZdehLrvx4VmFWgFNhAZKvRIKpQKWGgvMJWa0qk0BqEPVSHoiCWoDqy9nscw9i+XteSxzeWC76Vm+2Dd02zdVENouEHK/2f01uCZehb9ua8CaYxaY23l30bVJKvxjnBZjO8neqXP6pIHofv/rqNj1EWqPfgPB3PbZlICYVISOuB2BGSM9HKF3EywCTEWmTpczDDAg/v54qEN4zHYVy9yzWN6exzL3bmw3PcvX+obeHZ3MueNtrY5KCVfig9sC8cYUAd9ftCCr1IZqE6BTA4mhSoxKULlsmD450yUOcNlbjFVB4Yic/DDCx98H46UTMJfmwGashUKlhsoQCW33DGjCu7tkX3IWfXM0qrpXofZ0LYz5RqCTlwMrdUoY+hsQOTESQRlBngnSx7DMPYvl7Xksc89hu9k17Bu6BhMYHxeiVeCmdA2QLnUk/kOp0UKfPMjhcfH9jSHTAENm4yg/NqMNxjwjTCUmWCossBltEGwCVIEqqIJU0HbXQpegg8LBNwdT21jmnsXy9jyWubyx3fQsX+gbMoEhIskotUroe+qh7+nYyEHUdSxzz2J5ex7LnMj3yeM6EREREREREZjAEBERERGRjDCBISIiIiIi2WACQ0REREREssEEhoiIiIiIZIMJDBERERERyQYTGCIiIiIikg0mMEREREREJBtMYIiIiIiISDaYwBARERERkWwwgSEiIiIiItlgAkNERERERLLBBIaIiIiIiGSDCQwREREREckGExgiIiIiIpINJjBERERERCQbTGCIiIiIiEg2mMAQEREREZFsMIEhIiIiIiLZYAJDRERERESywQSGiIiIiIhkgwkMERERERHJBhMYIiIiIiKSDSYwREREREQkG0xgiIiIiIhINpjAEBERERGRbDCBISIiIiIi2WACQ0REREREssEEhoiIiIiIZIMJDBERERERyYZa6gBcqV+/fqJps9ls//2I+W4UmUM8HZJfUmtftP+r1msljsb3WbVGAMBv3qxDitYqcTS+76zRiIUAxoYORWxktNTh+IWC8iKcwRmWuYdcLm/WKZ5zuV5hu+kZl9vNE5aZgDlW4mh8W6G5CsDrLt+uQhAEweVblUhbCUxWVpZE0RAREREREQDk5OQgPj7eJdvyqSswx44dE03n5uYiISEBALD50YcRE8IrMJ5wS8n7yH0rF/EPxkPbnWeS3M2YZ0TuW7l4ITYOKVqWt7udNRqxsCAf9y6+A7FpvBrgCQXZRVj2u1Uscw+5XN6sUzzncr3CdtMzLreb7987F31ieQXGnQqrqnDTf11/BcanEpiO9O/RA/Hh4VKH4Re0AY2Vr7a7FvpkvcTR+I8UrRZ9dTqpw/AbsWnRSMx0zZkkcgzL3LNYp3ge203P6hMbi8GJiVKH4dNyy8vdsl0+xE9ERERERLLBBIaIiIiIiGSDCQwREREREckGExgiIiIiIpINJjBERERERCQbTGCIiIiIiEg2mMAQEREREZFsMIEhIiIiIiLZYAJDRERERESywQSGiIiIiIhkgwkMERERERHJBhMYIiIiIiKSDSYwREREREQkG0xgiIiIiIhINpjAEBERERGRbDCBISIiIiIi2WACQ0REREREssEEhoiIiIiIZIMJDBERERERyQYTGCIiIiIikg0mMEREREREJBtMYIiIiIiISDaYwBARERERkWyopQ7A1wiCgPOlpThyKQ+55eWoqK+HVq1GeGAg0qOjMTQ5CTqNxqX7rG5owK4zZ3C6sAhVDQ3QazRIiojAyNQUdA8Lc+m+iMj7WUwWFJwpRmluGSoKq9BQY4TVYoXeoENQeCB69I5DXFo0lCqew3IVljkRtYd9Q9djAuMC5bV1WH/oEL48dgzfnjqNkpqadpfVqFSYkpmJBRPGY2yvXl3a77mSEizasBGr9/8Mk8XS6nOFQoGx6Wl45uapuDY9vUv7IiLvtn/zYZzclYUz+y+g4EwRbBZbh8vrg3UYOm0Qrps3GrGp0R6K0rewzImoPewbuhcTmC565KNVWLrrhzYPkraYrVasP3QI6w8dwt3Dr8GS22chRK93er+r9+3HvBUrUWcytbuMIAjYfjoL415+BQsnT8Kzt94ChULh9L78QeGnhSj+rPiK1w8bFYb4B+JdGJH3KjSbcaShAYcb6nGkoQFHGxpQa2vquHVXq7E1Ne2Ktt331MkuxfZ1Sgp6aAK6tA25WvPPDagoqHR4+frqBnz3wY/YtXovbnh4PKbOn8T6wUksc9dgnSJPbDfbx76h+zGB6aKfzp1v8wBVKZWICw1BTHAIzFYrLpSVobK+XrTMih9/wsmCQnyz4HEYdDqH97lm/8+Y/c4y2ARBNL9bsAEJ4eEoqq7GpYpKCL98LggCnv9qC4xmCxbP+tUV/JXk736uq8Py8jIcbmhAkYMVMklPo1UjonsYdMF6CIINNWV1KM+rsNcNAGA1W7Hp1a0oz6/E3c/PlDBa38AydwzrFPJl7Bu6HxMYFwoL1GPO0KGYkpmJMelpCG524FltNuzMysaiDRuxMzvbPn/P+fOY+95KrP3NAw7t40xxMeatWCk6QAfGx2PxzBkYn5Fhn3eqoBB/+uwzrDtw0D7vlW+/xZj0VNx21VVd+CvJHx1taMDWDi5/k3cIjQlB//G9kT4sBSmDkxCZEA6lUvzMRW1lHX7efASblzR2oC/7YfVepF2djJEzh3o6bFljmV8Z1inkL9g3dA8mMC6QHBmJv9x0A+YMHQp9QNuXmlVKJcZl9MK29AV4+KNVeGvn9/bPPjlwANtOnRIdZO356+cbUGs02qeHJiVh64LHW11qzIiNwdoHH8BDH34k2tfCdesxbcAAqFUqZ/9MvxJ7eyx0iY6f+VCH+e9XKVChRJ3Q8b3/VyJDq8WT3Zx7TiBK5b//D48uuxc9esd2eitAUGggxsy+BoNv6o9X73wbF49esn/22YtfYviMIa064NQ2lrl7sE6RJ7abYuwbupdvHz0e8MzNUzCpTx8EqB0rSpVSiddn34GfL17EvgsX7fOXfv9Dpwfpsbw8fLxvv306QK3Ge3Pvbvc+SYVCgVdnzcS2U6eRVVQEoDFLf/eH3XhgzGiH4vVXumQdDH0MUofhdYKUSvTT6pCp06G/XodMnR6XzCbMzclx+b5ClEqMDApy+XZ9VXyfOKeWDwoNxLzFd+Afk1+231JQWVSNM/suIH1YT3eE6HNY5l3HOsV3sN1swr6h+/GUTxdN6d/f4QP0MpVSiYWTJ4vmfXX8eKfrLftht+jy4B1XD0GfuI4bUJ1Gg6evF+9r6a4fnIiWCBhnMODz5J74KS0dyxMT8YfoaFwfHIIeLh72kTwrLi0Gif17iOYVZBdKFI1/YJk3Yp1Cvox9Q/djAiORMWmpounS2toOR40AgM8PHRZN3zdqpEP7uv3qIQjSau3Tey9cQF5FhWOBEgFIDAhAmlYLpQxHKqGOdUuMFE3XlNdJFIn/YJmzTiFqC/uGjmMCI5HwwMBW81qORNHcqYJCZBc3DVcYpNViZEqKQ/tqXLbp9gRBELDpyFEnoiUiX2U2ikfK0Yc4fg87XRmWORG1hX1Dx7ktgamqqsKqVavw+9//HmPHjkVaWhpCQ0MREBCA6OhojBs3Di+88AJKS0vdFYJXu1TR+t0BkR3cm3swV3w/8LDkJKcethqVKs7qD+bmOrwuEfkmQRBw/rC4bknK9M33MngLljkRtYd9Q8e57SH+PXv2YPbs2W1+VlxcjB07dmDHjh34z3/+g/fffx/XX3+9u0LxSs2HywOApIiIDu+XPJFfIJruG+vcw6N9W9wPeaKgoJ0lichf/LB6LyoLq+zTsanRSB6UIGFEvo9lTkTtYd/QcW4dhSwhIQHjx4/HkCFDkJCQgLi4ONhsNuTm5mLt2rVYt24dSkpKMG3aNOzZswcDBw50ZzheZdkP4oelbsrs1+HypwqLRNMJEeFO7S8hXLz8qQL/e2jUWTazDaZiE6w1VihUCqgMKmjCNFBqeeelJxVbLCiyWFBvsyFEpUS4So1uTj4cSa3t/mQfPlr0qX1aoVTgjmfk+UZmuWCZewfWKe7DdrNr2Dd0nNu+sePHj8fFixfb/XzWrFlYv349pk+fDpPJhGeeeQbr1q1zVzheZfORo/guS5xlzx0xosN1iqqrRdPxYWFO7bNHWKhoupgvEOtQ/sp8mIpNEMziN9pCBeiT9AgeEIyI6yKgDmGj5y6njUZMPnsGuWZzq8+iVCoMDQzEraGhGBPEYTvbUni2GGV5FfZpq8WKusp65J0uwKGvjyM/q6mhUgeo8Ot/z0DvUekSROo7WObejXWKe7Hd7Br2DZ3jtqNI5cA9eLfeeisyMjJw6tQp7Ny5012heJWy2lr85sMPRfNuHTgQw3omd7heTbMXFAFAkLbtlyK1p/lIEwBgtlphNJuh5ZCVbTLmGdv+wArUn61H/dl6FG8uRtQNUYi+NRoKJc+gulqlzYZKW9svsyuxWvFFdTW+qK5GH60Wz8bFoZeWD0I3t+P93fj23e87XEahUKDv2F6Y/uSNiO/b3UOR+S6WuXdjneJebDevHPuGzpP8ml5wcDAAoKGhQeJI3M9ms+HOZcuRW15hnxeq1+O122d2um7Lg1Tn5MGlb2P5ltsk5wgmAcWfF+P8C+dhbbBKHY7fOmE04o4LF/BldVXnC5PI4Jv648ZHJrAj7UEsc+/HOsV92G62xr7hlZH0Ot6pU6dw8OBBAEDv3r2lDMUjnlz3Kb44dkw073+/no2EiIhO121occk7QOXcf522jft769u4jO7XFEBgaiAMAw0ITAmEtrsWqiAVoACsNVbUX6hH9cFqVOyqEF0irz1Zi9w3cpE4P5FnlFwgXKXC2CADRgQFIkOrRYxagyClEnU2G/LNZuyvr8eaygqcalbJNggCnsrPR5RKjavbGIaS2rZ/02Hs33QYaUN74u4XZiI6OUrqkHwey9zzWKe4EdvNLmPf8Mp4PIGpq6vDpUuXsGHDBrzwwguwWBrHw1+wYIGnQ/Go177dhpe3fiOat3DyJNx+9dUOrd8yqzZZLe0s2TajpfXyzmbqviw4MxhhI8KgjdW2+bkyXAlNuAYhg0IQPS0aOW/koC6r6eVz1YeqUfZNGSInRba5Pjnm+bg4XB8cgoA2HmoOUakQolIhQ6fDnPBwfFxRjmeLimD65Q3EZkHAk/l5+LJnCrRKyS8uS27WommYtWiafdrUYEZteS1yT+Tj4FdHsefzgzA3NDZU2XvP4blblmD+yvuRNIAjYl0plrn3YZ3iPmw3u459wyvnkW/k8uXLoVAooFAoEBQUhF69euH3v/89CgsbH2h8+umnMWfOHKe3m5ub2+FPfn6+q/+UK/Lhnr1YsGataN7cEcPx3PRbHd6GocV9ii2z7s60lVG33KY/C0wPbLcSbkkToUHyk8nQp+lF84s2FMFmbPv+anLMzSGhbXY02nJ7WDj+E9ddVIkVWiz4sKLcPcHJXIBOg/C4MPS/rg/uen4m/vrF75DQ7Damuqp6vPGbFairav+laeQclrn0WKe4D9vNrmHfsGskPaUwaNAg7NmzB88+++wVDSOZkJDQ4c+wYcPcELVzNh4+gnuWvwdBaLp0ettVg7D0rjud+ptbHlC1RpNTcdS2uKdRrVTKJsvuTM2xGod/XEUZoET8A/FAs7EqrFVW1ByVzwgevmBScDCmhYSI5n1exfvWHRGdHIX5Kx9AePcw+7yKgkps+d8O6YLycSxz7+cvdQrbTWmxb9h1HrmF7NZbb8XVv1wOq6+vx5kzZ7B69Wp8+umnmD17Nl555RVMnTrVE6F41LZTpzDz7aWwNBv1ZFKf3vjovnuhcvJydPQvgx1clltR4dT6Ld/u2q3F9uTs/H/OO7xs5vJMl+1XG6NFyKAQVO1vatxqjtUgZEhIB2uRq82NiMD6Zh2M00YjSiwWRPG9Dp0yRATh5gWTsGLhGvu83Z/sw61P3iBhVL6NZe79/KFOYbspHfYNXcMjV2DCwsKQmZmJzMxMDB06FHfccQfWrVuHFStW4OzZs7jllluwfPlyp7ebk5PT4c+ePXtc/8c46Kdz5zDt9TdFl/NGpqTg04d+0+FbVduTERMtmr5YVubU+i2X7x0b43QM1FpQ3yDRtDFfHqN3+JJeWh0imw3bLgA4b3LuLJQ/G3R9puiMX2VhFUpzecuMO7HMvRvrFPfy53aTfUPXkfQWsrvuugszZ86EzWbDo48+ijInCz4+Pr7Dn7i4ODdF3rHDubm4ccn/iYaiuyohAZsfe6TVmNuO6h0bK5o+7uTzPScKCsTbi5HPQerNNBHiS62WauceoCPXiGlR8ZdbOTynowJD9AgME9+XXlVc3c7S5Aosc+/HOsV9/LXdZN/QtSS/HnrLLbdg9erVqK2txZdffnlFD/N7k1MFhZj06hKU1zWNtNEnNhZfPf4oQvX6Dtbs2KCEeNH03gsXYbFaoXbghaEAsOvMmRbb851Rb1x5edtZClWLe1XZxklC3eKeYYsgtLMkOUKl4YhLnsYy9y6+Xqew3fQs9g1dT/Ias1u3bvbfL1y4IGEkXXehtBQTX30VRdVNZ9J6RkXi6/mPd/m+wt6xsUhtVla1RiN+OHvWoXVrjUbsPnvOPq1QKDC1v3SVly+xVIrPHKmCHas0yLVKWgwFGe5g5U1AQ00D6irEo2AFR8nnPmg5Ypl7P9Yp7uNv7Sb7hu4heQJz6dIl++8Gg0HCSLomv7ISE155TfQm1R5hYfhmwXz0CA9zyT6mDegvmn5n1w8Orffxvv2iS5ZXJyaie5hrYvJ3zce0B1pfGif3KzCbkdeisxErk1FUvMGRbSdFI+EERwYhNJqdaXdimXs31inu5U/tJvuG7iN5ArNmTdNILP379+9gSe9VVluLSa++hjPFxfZ53YIN+Hr+Y+gZ5bq3LN87cqTowc9V+/bjRCf3OzaYzXjuqy2iefeNGumymPyZtdaKyn3iETwMfeWbhMvVJ5Xi/4NYtRrJAQESRSMvpgYzNi4W1w/9r+sDJV/a5zYsc+/HOsV9/KndZN/QvdxWYy5fvhwNDQ0dLrN48WJs3rwZANCzZ0+MGTPGXeG4TXVDA2547b84ltd0sIQF6rHl8cfQx8WDCGT26I5ZQwbbp00WC+5ZvgJV9W2/BE0QBCxYvQZZRUX2eSlRUbhXZgeptyr4uAC2uqZhEBVqBQwDfLMi9lZnjEYsLxcP/jHB4H9nsj95dhPOH8pxap3aijq8fv9yFJ4rsc9TqpSYcK/86mEpsMx9E+sU9/KXdpN9Q/dz20P8f//73/H73/8eM2bMwOjRo5GamgqDwYDq6mocOXIEH3zwAXbt2gUACAgIwFtvvQWVDO8xnfb6G9jb4tmdJyZMQElNLbaeOOnUtoYkJiI8KLDDZf417WZsOHwEdb8M6bj3wgVc+9JivDLzVxiX0cu+3OnCQvxx/WdYd+CgaP3npt8KjQzL2Z2KNxbDkGmAPtmxB+kEq4CC1QUo/0487GnE+Ahownz3Urg7nWhowJ66OswKC4PewTPRJxoa8OilXNQ2G0tfp1DggcgId4XptU7sPI2v39qB5IEJuHrqQGSMTEP39BioNOLvuiAIKDxbjP2bDmPbe7tQU1Yr+nzCvaPRo7c0ozfKDcvcu7FOcS+2mx1j39D93DoKWVlZGd5++228/fbb7S4THx+PZcuWYeLEie4MxW22n85qNW/Rho1XtK1tv1sgOtDakhYdjXfuuhNzlr1rv4f6UG4uxi9+Bd2CDUgMj0BRdTVyKypE91gDwGPjx2FmsyydGlUfqUbh2kIEpgUiZFgIDH0N0MZpW42UYq2zovpwNUo2l6DhovjqYkB0ALrd0g2+7Oe6OjS0MRLPKaO4LIyCgB9qa1stBwDRajXS2hgustpmxfPFRfhfWSkmGQyYYAhGf50O4S2GMhUEAVkmI9ZUVGJNZQVMLeL5XbduiFb7XmPoqPOHcuxXBdQBKoTFhEIfooNao0ZDrRHl+RVoqGn7nQvDZwzB9Kdv8mS4PoFlfuVYp8gX282OsW/ofm5LYL766its2rQJu3btQnZ2NgoLC1FaWgq9Xo/o6GgMGjQIU6dOxaxZsxAY2HFmSWJ3DL0aAgTct+J91Dd7GVJxdQ2Kq2vaXOcPkybihdumeypEWarLrkNdduPDhQq1ApoIDZR6JRRKBSw1FphLzI1vNGtBHapG0hNJUBskH5XcrRbm57V6sLUtpVYr7s9t+9aaW0NC8O+47u2uW2G1Yk1lJdb8cg96pEqFcJUKQUol6mwCCi1mVDU7O9rc3PAI3BXOM6WXWUxWlOR0/m4tXbAO0xfeiGt/PVx0HzU5j2XuHNYp8sd203v4W9/QbUdORkYGMjIy8MQTT7hrF35t9tChuCa5J/76+Qas+flnmNt5yda16Wn4x81TMbZXx9k7iQkWAaaizt+8bBhgQPz98VCHsBJ2h1KrFaWdvEDOoFTirzExuDkk1ENReZ/7XpuDw1tP4MT3WTh/OAcN1R0/f6hQKNA9IxbXTB+METOGIDjS9+5BdzeWuTyxTnEftpvS86e+IY+eLhLefF2yfad0i8IH983DG3PuwPfZZ5BVVIRqoxE6tRqJEREYlZrqsmH6fFn0zdGo6l6F2tO1MOYbgbZPxtkpdUoY+hsQOTESQRlBngnSx/XS6vD7qG74qb4OR+rrUdnOGdHmUgICMD00FL8KDUOozO7ddbW4tBjEpcXg+ofGwWazoehcCYovlKIsrwINNQ2wmm3QGrTQB+sQGR+OxH49oA/WSR22rLHMvRvrFPdiu9kx9g3djwmMDwjR63GTjF4+5G0MmQYYMhvPhtqMNhjzjDCVmGCpsMBmtEGwCVAFqqAKUkHbXQtdgg4Kpf/d9rE1Nc1t2w5TqXBfZCTuQyQA4JLZjAsmE/ItZlRZrTAKAgIUCoQqVYhSqzFQr0cYOxhtUiqViE2NRmxqtNSh+A2W+ZVhnSJfbDe9n6/3DZnAEDWj1Cqh76mHvqdjI6uQe/TQaNCDL44jIhdhneI+bDdJCnxzFhERERERyQYTGCIiIiIikg0mMEREREREJBtMYIiIiIiISDaYwBARERERkWwwgSEiIiIiItlgAkNERERERLLBBIaIiIiIiGSDCQwREREREckGExgiIiIiIpINJjBERERERCQbTGCIiIiIiEg2mMAQEREREZFsMIEhIiIiIiLZYAJDRERERESywQSGiIiIiIhkgwkMERERERHJBhMYIiIiIiKSDSYwREREREQkG0xgiIiIiIhINpjAEBERERGRbDCBISIiIiIi2WACQ0REREREssEEhoiIiIiIZIMJDBERERERyQYTGCIiIiIikg0mMEREREREJBtMYIiIiIiISDaYwBARERERkWwwgSEiIiIiItlQSx2AK/Xr1080bTab7b8/H5uNkKhgT4fkl4w/Gxv/zTNKHIl/uFzOmxcMx89p0RJH4/sKsouA351v/Jc84nJZs8w943I5s07xnMv1CttNz7hczv/X7Txie9RJHI1vq9JWu2W7CkEQBLdsWQJtJTBZWVkSRUNERERERACQk5OD+Ph4l2zLp67AHDt2TDSdm5uLhIQEAMCj787jFRgPWbFhHXLfykX8g/HQdtdKHY7PM+YZkftWLu5dfAdiebbU7Qqyi7Dsd6tY3h7EMvcslrfnXS5ztpuewXbTc6pKqvHfee+6fLs+lcB0pEdGHMLjwqQOwy9o9zdWvtruWuiT9RJH4z9i06KRmOmaMxvUOZa357HMPYvl7XlsNz2Lx7j7ledXuGW7fIifiIiIiIhkgwkMERERERHJBhMYIiIiIiKSDSYwREREREQkG0xgiIiIiIhINpjAEBERERGRbDCBISIiIiIi2WACQ0REREREssEEhoiIiIiIZIMJDBERERERyQYTGCIiIiIikg0mMEREREREJBtMYIiIiIiISDaYwBARERERkWwwgSEiIiIiItlgAkNERERERLLBBIaIiIiIiGSDCQwREREREckGExgiIiIiIpINJjBERERERCQbTGCIiIiIiEg2mMAQEREREZFsMIEhIiIiIiLZUEsdABH5PovJgoIzxSjNLUNFYRUaaoywWqzQG3QICg9Ej95xiEuLhlLFcyruUHyhFOcPXUR5fiUsZisCQ/WITY1G6pAkaLQaqcPzOSxv92OdQuTfmMAQkVvs33wYJ3dl4cz+Cyg4UwSbxdbh8vpgHYZOG4Tr5o1GbGq0h6L0bQe3HMXmJd/g4tFLbX6uDQrAiBlXY+r8STBEBHk4Ot/D8nYv1ilEdBkTGIlseGULNr269YrXHz5jCOa+eLsLI/JvhZ8Woviz4iteP2xUGOIfiHdhRPK35p8bUFFQ6fDy9dUN+O6DH7Fr9V7c8PB4TJ0/CQqFwo0R+i6z0YKVT63Bns8OdLicsdaE7St+wP5Nh/Dg/92F9GtSPBShb2F5ewbrFO/CdtP12Dd0HK+tEpHHaLRqxPSMQtKABCT274GIHuGtOhRWsxWbXt2KlU+vlShKebPZbFj62AetOtNKlRJRCRFI6Nsd+mCd6LPq0losmfcOzv58wZOh+gSWt7RYpxD5J16BISK3CY0JQf/xvZE+LAUpg5MQmRAOpVJ83qS2sg4/bz6CzUu2ojy/6ezqD6v3Iu3qZIycOdTTYcva12/twKGvj4nmXfvr4bjpsQkIiwkF0NjpPvT1caz5x+coy6sAAJjqzXj70fex6MsnoA/Rezps2WJ5exbrFCICmMB4jRl/moL4Pt0dXj40JsSN0VDs7bHQJeo6X/AX6jB+lVp6dNm96NE7ttNbNoJCAzFm9jUYfFN/vHrn26LnBz578UsMnzGkVQeF2lZTXosv/u9b0bxbF96IG347XjRPqVTiquszkTwwAS/OfB2lueUAgPL8Smx9Zydu/t1kj8UsZyxvz2Kd4t3Ybroe+4bt49HjJRL7xyNjeKrUYdAvdMk6GPoYpA5D1uL7xDm1fFBoIOYtvgP/mPwyBEEAAFQWVePMvgtIH9bTHSH6nC3/24GGGqN9On1YT1z/0Lh2lw+PDcVdz/0Kr9z5tn3eN8t2YvzcUTCE8yHzzrC8PYt1indju+l67Bu2j6cgiMhrxKXFILF/D9G8guxCiaKRF5vNht1r94rmTV3Q+UPLvUelI21oU2euocaI/ZsOuyVGX8LylgfWKUS+iQkMEXmVbomRouma8jqJIpGXs/svoLq01j4dlRiBXg6euRt1u/iZgENbjrWzJF3G8pYP1ilEvocJDBF5FbPRIprWhzh+T7U/O7LtpGi6z+h0h4eM7TM6XTR9+qczMNaZXBabL2J5ywfrFCLfwwSGiLyGIAg4fzhHNC8pk+8JcETu8TzRdOrgZIfXDYsJRWR8uH3aYrIiP4u32XSE5S0PrFOIfJNkCcxTTz0FhUJh/9m+fbtUoRCRl/hh9V5UFlbZp2NTo5E8KEHCiOQjP7tINB2X7tybx+PSY0TTBS22R2Isb3lgnULkmyQZhezgwYN4+eWXpdi1VzMbLSjJKUVteR1UahWCwgMRFhOCAH2A1KH5JZvZBlOxCdYaKxQqBVQGFTRhGii1vHDpDrs/2YePFn1qn1YoFbjjmVv45mwHmBrMKP/l/SKXhceFObWN8LhQ0XTB2St/w7avY3nLA+sUz2O76XrsG7bN4wmMzWbDgw8+CIvFgujoaBQV8awTAKxatB4lF0tb3aurVCuRlBmPfuMyMPbOEQiO5BCFnpC/Mh+mYhMEsyD+QAXok/QIHhCMiOsioA7hSOSOKjxbbH+JHwBYLVbUVdYj73QBDn19XHQLjTpAhV//ewZ6j0pvY0vUUk1ZrX2YWABQaVQIjnKurrj80sXLqktrXBKbL2J5ewfWKd6F7abrsW/YPo8fRa+99hr27t2L3r17Y/r06Xj22Wc9HYJXau/+Z5vFhnMHL+LcwYv46s3tmPTAtZg6fxKUKp7NcCdjnrHtD6xA/dl61J+tR/HmYkTdEIXoW6OhUPKMXmd2vL8b3777fYfLKBQK9B3bC9OfvBHxfR1/eZe/M9aJj9cAncbps8zaQPHZvJbbpCYsb+/AOsW7sN10PfYN2+fRv/TixYv461//CgB48803ERDg35e/nGVuMGPzkm/wyp1voaGWjZ3UBJOA4s+Lcf6F87A2WKUOxycMvqk/bnxkAjsaTjLWikew0midPzel0Wk63CY1YXnLB+sU78J20/X8tW/o0SswjzzyCGpqanDPPfdg7Nix2LZtmyd373UUCgV6Dk5E//F9kDwwAbFp0QgKC4RCoUBtRS0uHr2EI9+ewI+f7BddPjz941m88/gH+O1bc/0q23Y7BRCYGgjDQAMCUwKh7a6FKkgFKABrjRX1F+pRfbAaFbsqRJfIa0/WIveNXCTOT+QZpS7av+kw9m86jLShPXH3CzMRnRwldUiy0PL2AlWA81W7usU6ZqO5SzH5Mpa3fLBOcTO2my7HvqFjPJbArF69Ghs3bkRERARefPFFT+3Wa/Ud0wvDpl2FmJRubX4eFhOKsJhQDJjQFzc9OgFLH/8QZ/adt39+5NuT2LFyN8bPHeWhiH1bcGYwwkaEQRurbfNzZbgSmnANQgaFIHpaNHLeyEFdVtPL0KoPVaPsmzJETopsc30CZi2ahlmLptmnTQ1m1JbXIvdEPg5+dRR7Pj8Ic0NjJy577zk8d8sSzF95P5IGcMSgzrS8AmA1WdpZsn2WFutcyVUFf8Hy9g6sU6TFdtP12Dd0nEdStIqKCsyfPx8A8PzzzyMqyjVnQHJzczv8yc/Pd8l+3CF1SHK7B2hL4XFhWPD+A0gZnCSav/m/38BUz9sOXCEwPbDdSrglTYQGyU8mQ5+mF80v2lAEm9HmjvB8UoBOg/C4MPS/rg/uen4m/vrF75DQ7DaPuqp6vPGbFairqpcwSnnQBolvx215hcARlzt69m0GOvZ98Ecsb+/EOsWz2G66HvuGjvNIArNw4UIUFBRg1KhRuO+++1y23YSEhA5/hg0b5rJ9SU2j1WDuS7dDqW76L6surcHxnacljMo71ByrcfjHVZQBSsQ/EA+omuZZq6yoOcqRhK5UdHIU5q98AOHdw+zzKgoqseV/O6QLSiZadn5NDWbRKFmOaPkm+JYPmVMTlrc8sE5pH9tN3+DPfUO3X7PeuXMnli5dCrVajTfffJPjr3dBdHIUBk7siwNfHrXPO74zC4MmZ0oYlfTO/+e8w8tmLnddWWljtAgZFIKq/U0vSas5VoOQISEu24e/MUQE4eYFk7Bi4Rr7vN2f7MOtT94gYVTezxARBIVCYe9EW81WVJfUIKRbsMPbqCisFE07OyywP2F5ywfrlLax3fQd/to3dOsVGJPJhAcffBCCIOB3v/sdMjNdW5g5OTkd/uzZs8el+/MGGSPTRNOFfPmZpIL6Bommjfn+MwKIuwy6PlN0oqOysAqlueUSRuT9AnQa0VlmAKL3Yzii5fKxKc69Wd6fsLzlhXWKd2G76Xr+2Dd06xWYf//73zh58iQSExPxt7/9zeXbj4+Pd/k2vV1Ei7c91/DlZ5LSRIiHQrVUO38vPIkFhugRGKZHbXnTw55VxdWIjA+XMCrvF5vaDWWXmjpl+dmFSB7o+MPKBdnilwrHpDp2H7a/YnnLB+sU78J20/X8sW/otgTm5MmT9pdULlmyBEFBQZ2sQY5QaVSiaauFD7+58vK2sxSqFrdEclh7t1BpfH9IyK5K6Nsdx79ruu/57P4LGDHjaofWrSwSn5FWaVSIS49xeYy+hOUtb/5ep7Dd9C3+2Dd0WwKzePFimEwmpKSkoK6uDqtWrWq1zNGjTffrffvttygoKAAA3HzzzUx42lFZXC2aNkSwnKRkqWzxPohgVTtLkqMaahpQVyEeJSg4yvFnC/xV/+v64Ks3t9unT+zKgiAIDj132PKBz4zhqdAFcVSsjrC85YN1indhu+l6/tg3dFsCYzQ23tN49uxZzJ49u9Pl//nPf9p/P3fuHBOYdpzZe040Hd49VKJICIBoTHug9aVxct6RbSdFIzoFRwYhNJqdjc6kDEmCISIINWW1AICSi2U4/eMZZIxI62RNYNfHe0XTAyb1dUuMvoTlLR+sU7wL203X88e+oX9fQ5WZuqp60SgTANB7ZLpE0ZC11orKfeKRhAx9OZJQV5gazNi4eItoXv/r+kCpZFXVGaVSiREzhojmbXx1a6fD+57clYXsZo2fzqDF1VMGuiVGX8LylgfWKd6F7abr+Wvf0G3f4OXLl0MQhA5/mj/Yv23bNvv85ORkd4Ula5/8v42iF3CpA1TIHJchYUT+reDjAtjqmu4zVagVMAxgRQwAnzy7CecP5Ti1Tm1FHV6/fzkKz5XY5ylVSky4d4yrw/NZ1z80XvSSxayfzopuc2qpvKASK59eK5p33dzRfnH7gSuwvD2HdYpvYLvpev7aN3T7e2CotS/f2IY+o9OR1N+xUdSsFis+fW4zdq0W33YwZs5whEZz7PSuKt5YDEOmAfpkfecLAxCsAgpWF6D8O/EwnBHjI6AJ46VwADix8zS+fmsHkgcm4OqpA5ExMg3d02NaPWgoCAIKzxZj/6bD2PbeLvvtOJdNuHc0evSO82TosmaICMKND1+H9f/50j5v/QtfoCyvAjc9eh3CYhpvK7DZbDi89ThWP/O5aDjf0JgQTHzgWk+HLVssb89hneJd2G66HvuGzmECI4FjO05h/QtfIGVIEoZMGYjeI9MQm9oNKrW4Iq6vqsfR7Sex5X87kHM8T/RZt6RITHl8oifD9lnVR6pRuLYQgWmBCBkWAkNfA7Rx2lYjpVjrrKg+XI2SzSVouNgg+iwgOgDdbuEwqC2dP5RjP2uqDlAhLCYU+hAd1Bo1GmqNKM+vQENN2+8AGD5jCKY/fZMnw/UJkx8ahzP7L+DItyfs8757fze+/+gnRPQIgz5Yh9KcctEZOwDQ6DR44L93IjDEsQ4JNWJ5exbrFO/AdtP12Dd0DhMYCZ3dfwFn918AAKgD1AiPC4U+WAeFUonailqU5pZDsLW+nzqkWzAeffdeGMJ524Er1WXXoS678eFChVoBTYQGSr0SCqUClhoLzCVmoI3b29WhaiQ9kQS1gV+njlhMVpTklHW6nC5Yh+kLb8S1vx7u0IhOJKZUKvHg63fivSdXY9+GQ/b5NqsNJRfbLv+g8EA8+PpdSLs62UNR+g6Wt3RYp0iP7abrsW/oGB45XsJisqD4Qmmny2WO7427X5iFkCjeM+pOgkWAqcjU6XKGAQbE3x8PdQi/Ss3d99ocHN56Aie+z8L5wzloqG7ocHmFQoHuGbG4ZvpgjJgxBMGRPL67QqPV4P7Xfo3BNw7AF//9ptVZusu0gQEYftsQTJk/iXVKF7C83Y91ivdju+l67Bu2T9Kj5+9//zv+/ve/SxmCJG585DrEpUUje+85FJwphs3a8QuHtEEB6De2N8bfPRLp16R4KEr/EX1zNKq6V6H2dC2M+Uagk/c/KXVKGPobEDkxEkEZ/nGmw1lxaTGIS4vB9Q+Ng81mQ9G5EhRfKEVZXgUaahpgNdugNWihD9YhMj4cif16QB+skzpsnzP4xv4YfGN/FJ0vwbmDF1FRUAWr2Qp9iA5xadFIvToZGi3vP3cVlrf7sE7xLmw3XY99Q+cw/ZVA3zG90HdMLwCAqd6E/KxClOSWo6qoGsY6I2w2AYEhegSG6hGXHoMeGbFQqjjko7sYMg0wZDaetbAZbTDmGWEqMcFSYYHNaINgE6AKVEEVpIK2uxa6BB0USt6G4CilUonY1GjEpkZLHYrfik6OQnRylNRh+A2Wt3uxTpEe203XY9/QOUxgJBagD0DSgAQkDUiQOhQCoNQqoe+ph74nH6wlIiLqDNtN12PfsHP+m7oREREREZHsMIEhIiIiIiLZYAJDRERERESywQSGiIiIiIhkgwkMERERERHJBhMYIiIiIiKSDSYwREREREQkG0xgiIiIiIhINpjAEBERERGRbDCBISIiIiIi2WACQ0REREREssEEhoiIiIiIZIMJDBERERERyQYTGCIiIiIikg0mMEREREREJBtMYIiIiIiISDaYwBARERERkWwwgSEiIiIiItlgAkNERERERLLBBIaIiIiIiGSDCQwREREREckGExgiIiIiIpINJjBERERERCQbTGCIiIiIiEg2mMAQEREREZFsMIEhIiIiIiLZYAJDRERERESywQSGiIiIiIhkgwkMERERERHJBhMYIiIiIiKSDbXUAbhSv379RNNms9n++6VT+agurfF0SH7JmGcU/UvudbmcC7KLJI7EP1wuZ5a357DMPYvl7XmXy5rtpmew3fScqpJqt2xXIQiC4JYtS6CtBCYrK0uiaIiIiIiICABycnIQHx/vkm351BWYY8eOiaZzc3ORkJAAAHj03XkIiQqWIiy/s2LDOuS+lYv4B+Oh7a6VOhyfZ8wzIvetXNy7+A7EpkVLHY7PK8guwrLfrWJ5exDL3LNY3p53uczZbnoG203PqSqpxn/nvevy7fpUAtORHhlxCI8LkzoMv6Dd31j5artroU/WSxyN/4hNi0ZipmvObFDnWN6exzL3LJa357Hd9Cwe4+5Xnl/hlu3yIX4iIiIiIpINJjBERERERCQbTGCIiIiIiEg2mMAQEREREZFsMIEhIiIiIiLZYAJDRERERESywQSGiIiIiIhkgwkMERERERHJBhMYIiIiIiKSDSYwREREREQkG0xgiIiIiIhINpjAEBERERGRbDCBISIiIiIi2WACQ0REREREssEEhoiIiIiIZIMJDBERERERyQYTGCIiIiIikg0mMEREREREJBtMYIiIiIiISDaYwBARERERkWwwgSEiIiIiItlgAkNERERERLLBBIaIiIiIiGSDCQwREREREcmGWuoAiMj3WUwWFJwpRmluGSoKq9BQY4TVYoXeoENQeCB69I5DXFo0lCqeU3GH4gulOH/oIsrzK2ExWxEYqkdsajRShyRBo9VIHZ7PYXm7H+sUIv/GBIaI3GL/5sM4uSsLZ/ZfQMGZItgstg6X1wfrMHTaIFw3bzRiU6M9FKVvO7jlKDYv+QYXj15q83NtUABGzLgaU+dPgiEiyMPR+R6Wt3uxTiGiy5jASGTDK1uw6dWtV7z+8BlDMPfF210YkX8r/LQQxZ8VX/H6YaPCEP9AvAsjkr81/9yAioJKh5evr27Adx/8iF2r9+KGh8dj6vxJUCgUbozQd5mNFqx8ag32fHagw+WMtSZsX/ED9m86hAf/7y6kX5PioQh9C8vbM1ineBe2m67HvqHjeG2ViDxGo1UjpmcUkgYkILF/D0T0CG/VobCardj06lasfHqtRFHKm81mw9LHPmjVmVaqlIhKiEBC3+7QB+tEn1WX1mLJvHdw9ucLngzVJ7C8pcU6hcg/8QoMEblNaEwI+o/vjfRhKUgZnITIhHAoleLzJrWVdfh58xFsXrIV5flNZ1d/WL0XaVcnY+TMoZ4OW9a+fmsHDn19TDTv2l8Px02PTUBYTCiAxk73oa+PY80/PkdZXgUAwFRvxtuPvo9FXz4BfYje02HLFsvbs1inEBHABMZrzPjTFMT36e7w8qExIW6MhmJvj4UuUdf5gr9Qh/Gr1NKjy+5Fj96xnd6yERQaiDGzr8Hgm/rj1TvfFj0/8NmLX2L4jCGtOijUtpryWnzxf9+K5t268Ebc8NvxonlKpRJXXZ+J5IEJeHHm6yjNLQcAlOdXYus7O3Hz7yZ7LGY5Y3l7FusU78Z20/XYN2wfjx4vkdg/HhnDU6UOg36hS9bB0McgdRiyFt8nzqnlg0IDMW/xHfjH5JchCAIAoLKoGmf2XUD6sJ7uCNHnbPnfDjTUGO3T6cN64vqHxrW7fHhsKO567ld45c637fO+WbYT4+eOgiGcD5l3huXtWaxTvBvbTddj37B9PAVBRF4jLi0Gif17iOYVZBdKFI282Gw27F67VzRv6oLOH1ruPSodaUObOnMNNUbs33TYLTH6Epa3PLBOIfJNTGCIyKt0S4wUTdeU10kUibyc3X8B1aW19umoxAj0cvDM3ajbxc8EHNpyrJ0l6TKWt3ywTiHyPUxgiMirmI0W0bQ+xPF7qv3ZkW0nRdN9Rqc7PGRsn9HpounTP52Bsc7ksth8EctbPlinEPketyYwCoXCoZ9x48a5MwwikglBEHD+cI5oXlIm3xPgiNzjeaLp1MHJDq8bFhOKyPhw+7TFZEV+Fm+z6QjLWx5YpxD5Jl6BISKv8cPqvagsrLJPx6ZGI3lQgoQRyUd+dpFoOi7duTePx6XHiKYLWmyPxFje8sA6hcg3eWQUst/+9rd4+OGH2/08KIijrwCNl7lLckpRW14HlVqFoPBAhMWEIEAfIHVofslmtsFUbIK1xgqFSgGVQQVNmAZKLfN+d9j9yT58tOhT+7RCqcAdz9zCN2c7wNRgRvkv7xe5LDwuzKlthMeFiqYLzl75G7Z9HctbHlineB7bTddj37BtHklgoqOjkZmZ6YldydaqRetRcrG01b26SrUSSZnx6DcuA2PvHIHgSA5R6An5K/NhKjZBMAviD1SAPkmP4AHBiLguAuoQjkTuqMKzxfaX+AGA1WJFXWU98k4X4NDXx0W30KgDVPj1v2eg96j0NrZELdWU1dqHiQUAlUaF4Cjn6orLL128rLq0xiWx+SKWt3dgneJd2G66HvuG7eNR5CXau//ZZrHh3MGLOHfwIr56czsmPXAtps6fBKWKZzPcyZhnbPsDK1B/th71Z+tRvLkYUTdEIfrWaCiUPKPXmR3v78a3737f4TIKhQJ9x/bC9CdvRHxfx1/e5e+MdeLjNUCncfosszZQfDav5TapCcvbO7BO8S5sN12PfcP2+c9f6gPMDWZsXvINXrnzLTTUsrGTmmASUPx5Mc6/cB7WBqvU4fiEwTf1x42PTGBHw0nGWvEIVhqt8+emNDpNh9ukJixv+WCd4l3Ybrqev/YNeQVGQgqFAj0HJ6L/+D5IHpiA2LRoBIUFQqFQoLaiFhePXsKRb0/gx0/2iy4fnv7xLN55/AP89q25fpVtu50CCEwNhGGgAYEpgdB210IVpAIUgLXGivoL9ag+WI2KXRWiS+S1J2uR+0YuEucn8oxSF+3fdBj7Nx1G2tCeuPuFmYhOjpI6JFloeXuBKsD5ql3dYh2z0dylmHwZy1s+WKe4GdtNl2Pf0DEeSWDWrFmD1atX4/z581CpVIiNjcXIkSMxd+5cjB8/3hMheJ2+Y3ph2LSrEJPSrc3Pw2JCERYTigET+uKmRydg6eMf4sy+8/bPj3x7EjtW7sb4uaM8FLFvC84MRtiIMGhjtW1+rgxXQhOuQcigEERPi0bOGzmoy2p6GVr1oWqUfVOGyEmRba5PwKxF0zBr0TT7tKnBjNryWuSeyMfBr45iz+cHYW5o7MRl7z2H525Zgvkr70fSAI4Y1JmWVwCsJks7S7bP0mKdK7mq4C9Y3t6BdYq02G66HvuGjvNIinb8+HGcOHEC9fX1qKmpQXZ2NlasWIHrrrsO06dPR2Vl5RVtNzc3t8Of/Px8F/8lrpM6JLndA7Sl8LgwLHj/AaQMThLN3/zfb2Cq520HrhCYHthuJdySJkKD5CeToU/Ti+YXbSiCzWhzR3g+KUCnQXhcGPpf1wd3PT8Tf/3id0hodptHXVU93vjNCtRV1UsYpTxog8TPU7S8QuCIyx09+zYDHfs++COWt3dineJZbDddj31Dx7k1gQkMDMQdd9yBt99+Gzt37sSBAwewZcsW/PnPf0ZkZGPGvX79etxyyy0wm52/fJ6QkNDhz7Bhw1z9J0lGo9Vg7ku3Q6lu+i+rLq3B8Z2nJYzKO9Qcq3H4x1WUAUrEPxAPqJrmWausqDnKkYSuVHRyFOavfADh3cPs8yoKKrHlfzukC0omWnZ+TQ1m0ShZjmj5JviWD5lTE5a3PLBOaR/bTd/gz31Dt16zvnTpEsLCwlrNnzRpEh577DHceOONOHDgAHbs2IE33ngDjz/+uDvDkb3o5CgMnNgXB748ap93fGcWBk327yGqz//nvMPLZi53XVlpY7QIGRSCqv1NL0mrOVaDkCEhLtuHvzFEBOHmBZOwYuEa+7zdn+zDrU/eIGFU3s8QEQSFQmHvRFvNVlSX1CCkW7DD26goFF8Jd3ZYYH/C8pYP1iltY7vpO/y1b+jWKzBtJS+XxcTEYO3atdBoGkdiWbJkidPbz8nJ6fBnz549Vxq618oYmSaaLuTLzyQV1Ff8ElZjvv+MAOIug67PFA1JW1lYhdLccgkj8n4BOo3oLDMA0fsxHNFy+dgU594s709Y3vLCOsW7sN10PX/sG0o6TEFKSgomTZoEAMjOzkZeXp5T68fHx3f4ExcX546wJRXR4m3PNXz5maQ0EeKhUC3Vzt8LT2KBIXoEhonvk64qrpYoGvmITRXfN52f3fb7A9pTkF0kmo5Jdew+bH/F8pYP1inehe2m6/lj31DyYU/69u2LzZs3A2i85ax7d47V3hGVRiWatlr48JsrL287S6FqMfwjh7V3C5XG94eE7KqEvt1x/Lum+57P7r+AETOudmjdyiLxGWmVRoW49BiXx+hLWN7y5u91CttN3+KPfUPJv8HOvr3Y31W2OGtkiAhqZ0nyBEtli/dBBKvaWZIc1VDTgLoK8ShBwVGOP1vgr/pf10c0fWJXlsMPlrd84DNjeCp0QRwVqyMsb/lgneJd2G66nj/2DSVPYI4fP27/nVdfOndm7znRdHj3UIkiIQCiMe2B1pfGyXlHtp0UdQSDI4MQGs3ORmdShiSJGq2Si2U4/eMZh9bd9fFe0fSASX1dGpsvYnnLB+sU78J20/X8sW8oaQJz7tw5fP311wCA1NRU9OjRQ8pwvF5dVb1olAkA6D0yXaJoyFprReU+8UhChr4cSagrTA1mbFy8RTSv/3V9oFRKfq7F6ymVSoyYMUQ0b+OrWzu9KnByVxaymzV+OoMWV08Z6JYYfQnLWx5Yp3gXtpuu5699Q7d9gzds2ACLpf0HswoLCzFjxgyYTI1j4T/88MPuCsVnfPL/NopewKUOUCFzXIaEEfm3go8LYKtrus9UoVbAMIAVMQB88uwmnD+U49Q6tRV1eP3+5Sg8V2Kfp1QpMeHeMa4Oz2dd/9B40UsWs346i6/e3N7u8uUFlVj59FrRvOvmjvaL2w9cgeXtOaxTfAPbTdfz176h2x7if+yxx2A2mzFjxgyMGDECycnJ0Ov1KCkpwfbt2/G///0PJSWNlcro0aPxyCOPuCsUr/PlG9vQZ3Q6kvrHO7S81WLFp89txq7V4tsOxswZjtBojp3eVcUbi2HINECfrO98YQCCVUDB6gKUfycehjNifAQ0YbwUDgAndp7G12/tQPLABFw9dSAyRqahe3pMqwcNBUFA4dli7N90GNve24WaslrR5xPuHY0evX1vNEF3MUQE4caHr8P6/3xpn7f+hS9QlleBmx69DmExjbcV2Gw2HN56HKuf+Vw0nG9oTAgmPnCtp8OWLZa357BO8S5sN12PfUPnuHUUsry8PCxZsqTDd7zMmDEDS5cuhVbrPw8wHttxCutf+AIpQ5IwZMpA9B6ZhtjUblCpxRVxfVU9jm4/iS3/24Gc4+IhprslRWLK4xM9GbbPqj5SjcK1hQhMC0TIsBAY+hqgjdO2GinFWmdF9eFqlGwuQcPFBtFnAdEB6HYLh0Ft6fyhHPtZU3WACmExodCH6KDWqNFQa0R5fgUaatp+B8DwGUMw/embPBmuT5j80Dic2X8BR749YZ/33fu78f1HPyGiRxj0wTqU5pSLztgBgEanwQP/vROBIY51SKgRy9uzWKd4B7abrse+oXPclsC899572LFjB3bv3o2zZ8+ipKQEVVVVMBgMSEhIwMiRI3HPPfdgxIgR7grB653dfwFn918AAKgD1AiPC4U+WAeFUonailqU5pZDsLW+nzqkWzAeffdeGMJ524Er1WXXoS678eFChVoBTYQGSr0SCqUClhoLzCVmoI3b29WhaiQ9kQS1QfJRyb2axWRFSU5Zp8vpgnWYvvBGXPvr4Ryl8AoolUo8+PqdeO/J1di34ZB9vs1qQ8nFtss/KDwQD75+F9KuTvZQlL6D5S0d1inSY7vpeuwbOsZtR87YsWMxduxYd23e51hMFhRfKO10uczxvXH3C7MQEsV7Rt1JsAgwFZk6Xc4wwID4++OhDmEl3Nx9r83B4a0ncOL7LJw/nIOG6oYOl1coFOieEYtrpg/GiBlDEBzJ47srNFoN7n/t1xh84wB88d9vWp2lu0wbGIDhtw3BlPmTWKd0Acvb/VineD+2m67HvmH7ePRI4MZHrkNcWjSy955DwZli2Kwdv3BIGxSAfmN7Y/zdI5F+TYqHovQf0TdHo6p7FWpP18KYbwQ6ef+TUqeEob8BkRMjEZThH2c6nBWXFoO4tBhc/9A42Gw2FJ0rQfGFUpTlVaChpgFWsw1agxb6YB0i48OR2K8H9ME6qcP2OYNv7I/BN/ZH0fkSnDt4ERUFVbCardCH6BCXFo3Uq5Oh0fL+c1dhebsP6xTvwnbT9dg3dA4TGAn0HdMLfcf0AgCY6k3IzypESW45qoqqYawzwmYTEBiiR2CoHnHpMeiREQulikM+uosh0wBDZuNZC5vRBmOeEaYSEywVFtiMNgg2AapAFVRBKmi7a6FL0EGh5G0IjlIqlYhNjUZsarTUofit6OQoRCdHSR2G32B5uxfrFOmx3XQ99g2dwwRGYgH6ACQNSEDSgASpQyEASq0S+p566HvywVoiIqLOsN10PfYNO+e/qRsREREREckOExgiIiIiIpINJjBERERERCQbTGCIiIiIiEg2mMAQEREREZFsMIEhIiIiIiLZYAJDRERERESywQSGiIiIiIhkgwkMERERERHJBhMYIiIiIiKSDSYwREREREQkG0xgiIiIiIhINpjAEBERERGRbDCBISIiIiIi2WACQ0REREREssEEhoiIiIiIZIMJDBERERERyQYTGCIiIiIikg0mMEREREREJBtMYIiIiIiISDaYwBARERERkWwwgSEiIiIiItlgAkNERERERLLBBIaIiIiIiGSDCQwREREREckGExgiIiIiIpINJjBERERERCQbTGCIiIiIiEg2mMAQEREREZFsMIEhIiIiIiLZUEsdgCv169dPNG02m+2/D/ywAjEhNk+H5JeMJcbGf/OMEkfiHy6Xc9gDaxCl1Uocje+rMjaWd0F2kcSR+I/LZc0y94zL5cw6xXMu1ytsNz3jcjn3/bQKfXaXSRyNbyusqnLLdhWCIAhu2bIE2kpgsrKyJIqGiIiIiIgAICcnB/Hx8S7Zlk9dgTl27JhoOjc3FwkJCQCAzY8+jJiQECnC8ju3lLyP3LdyEf9gPLTdefbO3Yx5RuS+lYsXYuOQwrOlbnfWaMTCgnzcu/gOxKZFSx2OXyjILsKy361imXvI5fJmneI5l+sVtpuecbndfP/euegTGyt1OD6tsKoKN/33dZdv16cSmI7079ED8eHhUofhF7QBjZWvtrsW+mS9xNH4jxStFn11OqnD8BuxadFIzHTNmSRyDMvcs1ineB7bTc/qExuLwYmJUofh03LLy92yXT7ET0REREREssEEhoiIiIiIZIMJDBERERERyQYTGCIiIiIikg0mMEREREREJBtMYIiIiIiISDaYwBARERERkWwwgSEiIiIiItlgAkNERERERLLBBIaIiIiIiGSDCQwREREREckGExgiIiIiIpINJjBERERERCQbTGCIiIiIiEg2mMAQEREREZFsMIEhIiIiIiLZYAJDRERERESywQSGiIiIiIhkgwkMERERERHJBhMYIiIiIiKSDSYwREREREQkG0xgiIiIiIhINpjAEBERERGRbKilDsDXCIKA86WlOHIpD7nl5aior4dWrUZ4YCDSo6MxNDkJOo3GpfusbmjArjNncLqwCFUNDdBrNEiKiMDI1BR0Dwtz6b6IyPtZTBYUnClGaW4ZKgqr0FBjhNVihd6gQ1B4IHr0jkNcWjSUKp7DchWWORG1h31D12MC4wLltXVYf+gQvjx2DN+eOo2Smpp2l9WoVJiSmYkFE8ZjbK9eXdrvuZISLNqwEav3/wyTxdLqc4VCgbHpaXjm5qm4Nj29S/siIu+2f/NhnNyVhTP7L6DgTBFsFluHy+uDdRg6bRCumzcasanRHorSt7DMiag97Bu6FxOYLnrko1VYuuuHNg+StpitVqw/dAjrDx3C3cOvwZLbZyFEr3d6v6v37ce8FStRZzK1u4wgCNh+OgvjXn4FCydPwrO33gKFQuH0vvxB4aeFKP6s+IrXDxsVhvgH4l0YkfcqNJtxpKEBhxvqcaShAUcbGlBra+q4dVersTU17Yq23ffUyS7F9nVKCnpoArq0Dbla888NqCiodHj5+uoGfPfBj9i1ei9ueHg8ps6fxPrBSSxz12CdIk9sN9vHvqH7MYHpop/OnW/zAFUplYgLDUFMcAjMVisulJWhsr5etMyKH3/CyYJCfLPgcRh0Oof3uWb/z5j9zjLYBEE0v1uwAQnh4SiqrsalikoIv3wuCAKe/2oLjGYLFs/61RX8leTvfq6rw/LyMhxuaECRgxUySU+jVSOiexh0wXoIgg01ZXUoz6uw1w0AYDVbsenVrSjPr8Tdz8+UMFrfwDJ3DOsU8mXsG7ofExgXCgvUY87QoZiSmYkx6WkIbnbgWW027MzKxqING7EzO9s+f8/585j73kqs/c0DDu3jTHEx5q1YKTpAB8bHY/HMGRifkWGfd6qgEH/67DOsO3DQPu+Vb7/FmPRU3HbVVV34K8kfHW1owNYOLn+TdwiNCUH/8b2RPiwFKYOTEJkQDqVS/MxFbWUdft58BJuXNHagL/th9V6kXZ2MkTOHejpsWWOZXxnWKeQv2Dd0DyYwLpAcGYm/3HQD5gwdCn1A25eaVUolxmX0wrb0BXj4o1V4a+f39s8+OXAA206dEh1k7fnr5xtQazTap4cmJWHrgsdbXWrMiI3B2gcfwEMffiTa18J16zFtwACoVSpn/0y/Ent7LHSJjp/5UIf571cpUKFEndDxvf9XIkOrxZPdnHtOIErlv/8Pjy67Fz16x3Z6K0BQaCDGzL4Gg2/qj1fvfBsXj16yf/bZi19i+IwhrTrg1DaWuXuwTpEntpti7Bu6l28fPR7wzM1TMKlPHwSoHStKlVKJ12ffgZ8vXsS+Cxft85d+/0OnB+mxvDx8vG+/fTpArcZ7c+9u9z5JhUKBV2fNxLZTp5FVVASgMUt/94fdeGDMaIfi9Ve6ZB0MfQxSh+F1gpRK9NPqkKnTob9eh0ydHpfMJszNyXH5vkKUSowMCnL5dn1VfJ84p5YPCg3EvMV34B+TX7bfUlBZVI0z+y4gfVhPd4Toc1jmXcc6xXew3WzCvqH78ZRPF03p39/hA/QylVKJhZMni+Z9dfx4p+st+2G36PLgHVcPQZ+4jhtQnUaDp68X72vprh+ciJYIGGcw4PPknvgpLR3LExPxh+hoXB8cgh4uHvaRPCvu/7d35/FRVXf/wD+zZWay7wtZWcMSdkEBQRBwAaSIRQRRQaXa1oVaxdpHrdb2J9qqKH207QNKxQ0RAUFRFKEim4CsMewQCGTfM8ns9/dHZJI7mUxmktnuzOf9evmSe3OXw+HmnPO959xzeqUga2C6aF/J6VI/pSY0MM+bsUyhYMa2ofcxgPGTsb16irYrdTqns0YAwGeHj4i27xsz2qV7zb5qOCLUatv2vsJCXK6pcS2hRACywsLQS62GXIIzlZBzSVkJou2G6kY/pSR0MM9ZphA5wrah6xjA+ElceHibffYzUbR2oqQUp8tbpiuMUKsxukcPl+7VfGzL8ARBEPD50WNupJaIgpXJIJ4pRxvt+hh26hzmORE5wrah6xjA+MmlmrZrByQ4GZt7qEg8HnhkTrZbH1uN6SmO6g8VFbl8LhEFJ0EQcP6IuGzJzgvOdRkCBfOciNrDtqHrfPoR/4ULF7BixQp8/vnnKCwsRH19PZKSkpCTk4MJEybg9ttvR15eni+T5Detp8sDgOz4eKfjJQuKS0Tb/VPd+3i0v914yIKSknaOJKJQsevjfagtrbNtp/ZMRs6QTD+mKPgxz4moPWwbus5nAcyyZcvw1FNPQafTifYXFRWhqKgI33//Perq6rB06VJfJcmv3t4l/lhqSt4Ap8efKC0TbWfGx7l1v8w48fEnSkLvo1F3WU1WGMuNsDRYIFPIoIhUQBWrglzNjktfKjebUWY2o8lqRbRCjjiFEklufhxJbe1eux8fPrvOti2Ty3DH89JckVkqmOeBgWWK97De7Bq2DV3nk9/Yv/zlL3jmmWcAAH369MHChQsxYsQIxMTEoLKyEgcPHsS6detCZh78L44ew3enxFH2/FGjnJ5TVl8v2s6IjXXrnumxMaLtci4g5lTxqmIYy40QTOIVbaEAtNlaRA2KQvz18VBGs9LzlpMGA244ewZFJlObnyUqFBgRHo4ZMTEYG8FpOx0pPVuOqss1tm2L2YLG2iZcPlmCw1//hOJTLRWVMkyBO//fbeg7prcfUho8mOeBjWWKd7He7Bq2Dd3j9ado69attuDl7rvvxvLly6GymyZx4sSJePzxx2HsYKaFYFCl0+GBDz4Q7ZsxeDBGds9xel5DqwWKACBC7XhRpPa0nmkCAEwWCwwmE9ScstIhw2WD4x9YgKazTWg624TyL8qReFMikmckQybnG1RPq7VaUWt1vJhdhcWCzfX12Fxfj35qNV5MS0MfNT+Ebu2/7+3Gt+987/QYmUyG/tf1wa1P3IyM/t18lLLgxTwPbCxTvIv1Zuexbeg+r3Z5WK1W/PrXvwYADB48GCtWrGgTvLQW1s5KpcHCarVi3tsrUVRdY9sXo9XijdmzOjzX/iHVuPlwaR0cb39Nco9gFFD+WTnOv3weFr3F38kJWQUGA+4oLMSX9XUdH0wiw6YMxM2/nciGtA8xzwMfyxTvYb3ZFtuGnePVHpgtW7bg1KlTAIAnn3wSyhAfY/rEp+uwOT9ftO9fd85BZnx8h+fq7bq8wxTu5aXaQd43OehGD2kyILxnOCIHRyK8RzjU3dRQRCgAGWBpsKCpsAn1h+pRs7NG1EWuO65D0VtFyHo0i2+UPCBOocB1EZEYFRGOXLUaKUoVIuRyNFqtKDaZcKCpCWtqa3CiVSGrFwQ8WVyMRIUSVzmYhpIcO/D5ERz4/Ah6jeiOu1+eheScRH8nKegxz32PZYoXsd7sMrYNO8erEcWaNWsANHeZT5s2zba/qqoKlZWVSEhIQLwL/0DB4I1vt+HVb7aK9i2+YTJmX3WVS+fbR9VGi7mdIx0zmNse726kHsyi8qIQOyoW6lS1w5/L4+RQxakQPSQaydOTcfGti2g81bL4XP3helRtrULC5ASH55NrXkpLw41R0Qhz8FFztEKBaIUCuRoN5sbFYXVNNV4sK4Px5xWITYKAJ4ov48vuPaAOke/pnLn92em4/dnptm2j3gRdtQ5FBcU49NUx/PDZIZj0zRXV6X3nsOQXy/DoqvuRPYgzYnUW8zzwsEzxHtabXce2Yed59Tdyz549AICcnBxERUXhgw8+wMCBA5GQkIA+ffogISEBubm5+Pvf/w5DJ7qsrsxg1t5/xcXFnv4rdcoHP+zDojWfiPbNH3UNltw6w+VrRNqNU7SPujviKKK2v2YoC+8d3m4hbE8Vr0LOEznQ9tKK9pdtLIPV4Hh8NbnmlugYhw0NR2bHxuFvad1EhVip2YwPaqq9kziJC9OoEJcWi4HX98NdL83CM5t/h8xWw5ga65rw1gPvorGu/UXTyD3Mc/9jmeI9rDe7hm3DrvFaAGO1WnH8+HEAQGJiIh599FHceeedOHZMvMrnyZMn8cQTT+D6669HTU2NW/fIzMx0+t/IkSM99dfptE1HjuKelf+BILR0nc4cOgTL75rn1tSZ9g+UzuDehAc6uwBRKZdLJsruSEN+g8v/eYo8TI6MhRlAq/WiLHUWNByTzgwewWByVBSmR0eL9n1Wx3HrrkjOScSjqxYirlusbV9NSS22/Ou//ktUkGOeB75QKVNYb/oX24Zd57UhZLW1tbD+PNvH0aNHsW/fPqSlpeFvf/sbpkyZAo1Gg3379uHJJ5/Enj17sGvXLtx777349NNPvZUkn9t24gRm/d9ymFvNejK5X198eN+9ULjZHZ0cFSXaLnIz2LNf3TXJ7npSdv5v510+Nm+l5xZKVaeoET0kGnUHWiq3hvwGRA+PdnIWedr8+Hisb9XAOGkwoMJsRmKIf3Pnisj4CNyyaDLeXbzGtm/32v2Y8cRNfkxVcGOeB75QKFNYb/oP24ae4bUemNYLVur1eoSHh2Pbtm248847ERcXB61Wi3HjxuHbb7/F4MGDAQDr1q3D3r17Xb7HxYsXnf73ww8/ePzv5aq9585h+pv/FHXnje7RA+sefMDpqqrtyU1JFm1fqKpy63z74/umpridBmoron+EaNtQLI3ZO4JJH7UGCYqWV3oCgPMhMCW7pwy5MU/0xq+2tA6VRRwy403M88DGMsW7QrneZNvQc7z2OkGjEc+ffv/99yM3N7fNcVqtFn/9619tH/mvXr0aV199tUv3yMjI6HpCveBIURFuXva/oqnohmZm4ouHf9tmzm1X9U1NFW3/5Ob3PQUlJeLrpUjnIQ1kqnhxV6u53r0P6MgzUpRKVFpapuSstnB6TleFR2sRHquFrrrl49q68nokZLi3ojO5jnke+FimeE+o1ptsG3qW1wKYKLtuqBtuuKHdYydOnAilUgmz2Yx9+/Z5K0k+caKkFJNfX4bqxpaKqV9qKr565CHEaLVOznRuSKY4WNtXeAFmiwXKVm+JnNl55ozd9YJn1htPdm+7S6awG6vKOs4vlHZjhs2C0M6R5AqFijMu+RrzPLAEe5nCetO32Db0PK+VmGq1GklJSbbtTCeZotFokJjYPBd+eXm5t5LkdYWVlZj0+usoq6+37euemICvH32ky+MK+6amomer/NQZDNh19qxL5+oMBuw+e862LZPJMG2g/wqvYGKuFb85UkS5VmiQZ1XYTQUZ52LhTYC+QY/GGvEsWFGJ0hkHLUXM88DHMsV7Qq3eZNvQO7z6ymfAgAG2P1s66H698nOpLnZZXFuLiUvfEK2kmh4bi62LHkV6XKxH7jF90EDR9oqdu1w6b/X+A6Iuy6uystAt1jNpCnWt57QH2naNk/eVmEy4bNfYSJXILCqB4Oi246KZcKISIhCTzMa0NzHPAxvLFO8KpXqTbUPv8WoAM27cONufzzqJCOvq6lBRUQEASE9P92aSvKJKp8Pk19/AmVa9R0lRkfj60YfRPdFzqyzfO3q06MPPj/YfQEEH4x31JhOWfLVFtO++MaM9lqZQZtFZULtfPINHZP9IP6UmdK2tFf8bpCqVyAkL81NqpMWoN2HTa+LyYeD1/SDnon1ewzwPfCxTvCeU6k22Db3LqyXmbbfdZvvzunXr2j1u3bp1trdRY8eO9WaSPK5er8dNb/wD+ZdbHpbYcC22PPIw+qWlefReeendcPvwYbZto9mMe1a+i7omx4ugCYKARR+vwamyMtu+HomJuFdiD2mgKlldAmtjyzSIMqUMkYOCsyAOVGcMBqysFs+iMjEy9N5kr33xc5w/fNGtc3Q1jXjz/pUoPVdh2ydXyDHxXmmVwf7CPA9OLFO8K1TqTbYNvc+r47UGDRqEm2++GZs3b8aHH36IBQsWYOLEiaJjSkpK8PTTTwMAwsLCsGDBAm8myeOmv/kW9hUWivY9NnEiKhp0+KbguFvXGp6VhbiIcKfH/GX6Ldh45Cgaf57ScV9hIca98hqWzvolxuf2sR13srQUT63fgE8PHhKdv+TWGVBxLK9I+aZyROZFQpvj2od0gkVAycclqP5OPO1p/IR4qGKDtyvcmwr0evzQ2IjbY2OhdfFNdIFej4cuFUHXai59jUyGhQnx3kpmwCrYcRJf//u/yBmciaumDUbu6F7o1jsFCpX4d10QBJSeLceBz49g2392oqFKJ/r5xHuvRXpfz1auwYp5HthYpngX603n2Db0Pq9/cLJ06VLs3r0bNTU1mDZtGhYtWoQpU6ZAq9Xihx9+wIsvvoiioiIAwAsvvCC5IWTbT55qs+/ZjZs6da1tv1sketAc6ZWcjBV3zcPct9+x9VodLirChNeWIikqEllx8Sirr0dRTY1ojDUAPDxhPGa1itKpWf3RepR+UorwXuGIHhmNyP6RUKep28yUYmm0oP5IPSq+qID+gl70s7DkMCT9IgnB7MfGRugdzMRzwiDOC4MgYJdO1+Y4AEhWKtHLwXSR9VYLXiovw7+qKjE5MhITI6MwUKNBnN03cYIg4JTRgDU1tVhTWwOjXXp+l5SEZGXwVYauOn/4oq1XQBmmQGxKDLTRGihVSuh1BlQX10Df4HjNhWtuG45b/zDFl8kNCszzzmOZIl2sN51j29D7vB7A9OnTBxs3bsQvf/lLlJaWYsmSJViyZInoGJlMhv/5n//B4sWLvZ2coHDHiKsgQMB9776HplaLIZXXN6C8vsHhOY9PnoSXZ97qqyRKUuPpRjSebv64UKaUQRWvglwrh0wug7nBDFOFqXlFMzvKGCWyH8uGMlKaE1C4anHx5TYftjpSabHg/iLHQ2tmREfj/6V1a/fcGosFa2prsebnMegJCgXiFApEyOVotAooNZtQ1+rtaGvz4+JxVxzflF5hNlpQcbHjRc00URrcuvhmjLvzGtE4anIf89w9LFOkj/Vm4Ai1tqFPnpxrr70W+fn5WLZsGdavX49z587BaDQiLS0N48ePx8MPP4yhQ4f6IilBY86IEbg6pzue+Wwj1vz4I0ztzPI2rncv/PmWabiuj/PoncQEswBjWccrL0cOikTG/RlQRrMQ9oZKi0W0mJwjkXI5nklJwS3RMT5KVeC57425OPJNAQq+P4XzRy5CX693erxMJkO33FRcfeswjLptOKISgm8Murcxz6WJZYr3sN70v1BqG/rs6UlISMBzzz2H5557zle39Anhn2/67d49khLx/n0L8NbcO/D96TM4VVaGeoMBGqUSWfHxGNOzp8em6Qtmybcko65bHXQndTAUGwDHL+Ns5Bo5IgdGImFSAiJyI3yTyCDXR63B7xOTsLepEUebmlDbzhvR1nqEheHWmBj8MiYWMRIbu+tpab1SkNYrBTc+OB5WqxVl5ypQXliJqss10DfoYTFZoY5UQxulQUJGHLIGpEMbpfF3siWNeR7YWKZ4F+tN59g29D6Gv0EgWqvFFAktPhRoIvMiEZnX/DbUarDCcNkAY4UR5hozrAYrBKsARbgCiggF1N3U0GRqIJOH3rCPb3r28tq1YxUK3JeQgPuQAAC4ZDKh0GhEsdmEOosFBkFAmEyGGLkCiUolBmu1iGUDwyG5XI7UnslI7Zns76SEDOZ557BMkS7Wm4Ev2NuGDGCIWpGr5dB210Lb3bWZVcg70lUqpHPhOCLyEJYp3sN6k/yBK2cREREREZFkMIAhIiIiIiLJYABDRERERESSwQCGiIiIiIgkgwEMERERERFJBgMYIiIiIiKSDAYwREREREQkGQxgiIiIiIhIMhjAEBERERGRZDCAISIiIiIiyWAAQ0REREREksEAhoiIiIiIJIMBDBERERERSQYDGCIiIiIikgwGMEREREREJBkMYIiIiIiISDIYwBARERERkWQwgCEiIiIiIslgAENERERERJLBAIaIiIiIiCSDAQwREREREUkGAxgiIiIiIpIMBjBERERERCQZDGCIiIiIiEgyGMAQEREREZFkMIAhIiIiIiLJYABDRERERESSwQCGiIiIiIgkgwEMERERERFJBgMYIiIiIiKSDKW/E+BJAwYMEG2bTCbbn49euoSy+npfJykkGSoMzf+/bPBzSkLDlXw+a2B++8KVfC45XebnlISOK3nNPPeNK/nMMsV3ruQ1603fuJLPBSUlfk5J8Cutq/PKdWWCIAheubIfOApgTp065afUEBERERERAFy8eBEZGRkeuVZQ9cDk5+eLtouKipCZmQkA+GKuFimRHDHnCzdcfhCVm15BwrTfQ5WQ6e/kBD1T5UVUbnoFGb/KgLqb2t/JCXqGywYU/buI+e1DzHPfYn773pU8Z73pG1fqzfdmatAvUeHv5AS10gYrpnzQ5PHrBlUA48zAFAUyohnA+ILK0Fz4qhIyoU7t5efUhA51NzW0OVp/JyNkML99j3nuW8xv32O96Vv9EhUYlsYAxpuK6mReuS5b9EREREREJBkMYIiIiIiISDIYwBARERERkWQwgCEiIiIiIslgAENERERERJLBAIaIiIiIiCSDAQwREREREUkGAxgiIiIiIpIMBjBERERERCQZDGCIiIiIiEgyGMAQEREREZFkMIAhIiIiIiLJYABDRERERESSwQCGiIiIiIgkgwEMERERERFJBgMYIiIiIiKSDAYwREREREQkGQxgiIiIiIhIMhjAEBERERGRZDCAISIiIiIiyWAAQ0REREREksEAhoiIiIiIJIMBDBERERERSQYDGCIiIiIikgylvxMQSgRBwPkaAUfLLCiqE1CjF6BWAHFaGXrHyzEiXQGNUubRe9YbBOy8aMHJSgvqDIBWCWTHyjE6U4FuUYxfvUEwG6G/VABzZRGs+gZAoYQyKhFh3XKhik31d/KIiIgCSijXm2wbdg4DGC+rbhKw/rgJX54x49tzFlQ0Cu0eq5IDU/sosejqMFyX07V/mnPVVjy73YCP800wWtr+XAbguhwFnh+vxrjs0HwMyj97GY0F34n2KaKTkfHrtzt1PUtjLWp3foCGo1shmPQOjwlL7YWY0XcgvPc1nboHERGRv7De9Ay2DbsusFMncb/9vAnLDzp+SBwxWYH1x81Yf9yMuwersOxmDaLV7kfdH+ebsGBDExpN7R8jANh+3oLxKxuxeEwYXpyohkzm2Qg/kDWe3tumEO4K/YUjKF+/BNamOqfHGUtOo/zTvyAi73ok3PQwZAqVx9IgJaXrSlG+obzT58eOiUXGwgwPpij4Mc99i/nte8xz72K96RlsG3qGNPqJJGrvJYvDB1QhAzKiZRieJsegFDli1G2PefewCZNX6dBgbD8qd2RNvglz1rZ9QJPCZRiWJkdGtAytH0UBwEs7jXjsK4Nb95Eyq0GHqq/e9Nj19EX5KFvzfJtCWK6OQFhKTyhiUgCZ+FdNd+xbVHz2NwiCe/++REREvsZ603PYNvQM9sD4SKwGmJunwtQ+SozNUiKqVfRssQrYccGCZ7cZsONCy1P9wyUr5q9vwie3h7t0jzNVVizY0ARrq+d6cIocr92owYTuLf/UJyos+OO3BnxaYLbtW7rXiLHZCszsJ+03G66o3vY2LA2VAACZStNut7UrLPoGVGx4CYK55ZdcEZ2M+Em/grbX1bY3F+a6CtTu/ggNh760Hdd4chfq961H9MhbO31/IiIib2O96R1sG3YeAxgvy4mV4emxaswdqIJW5bgbTiGXYXyOEtvuUeA3n+vx7x9bQuS1BWZsO2cWPWTteWabHrpW0fWIbnJ8c3dEm67G3EQFPpmlxYObxPda/LUe03OVUMoDs7vQE/QXjqDh8JbmDZkcMWPmoGb7O52+Xt3etbA0VNm2lTEpSLnzZSijEkTHKaMTkXDjQ1BGJ6Pmu3dt+2t2fYSIQZOh0ER2Og3BIHV2KjRZGpePV8ay6Ooq5rlvMb99j3nuGaw3PY9tw67jb6sXPT9ejck9lQhTuPaPrpDL8OZUDX4ssWD/Zatt//KDxg4f0vwyC1bnt0TNYQrgPzO07Y6TlMlkeP1mDbadt+BUVfO9zlQLeOegCQuHh7mUXqmxmgyo3LwMzZ2jQNSwaVCn9e709SyNtaj/cZNoX/xND7cphFuLvmYWms79CMPFYwAAwaBD3Q+fIm7c3Z1ORzDQ5GgQ2U+6lZEUMc99i/nte8zzrmO96XlsG3oGv4Hxoql9VC4/oFco5DIsHi0e+PjV6Y6/9Hr7oEnUPXhHngr9khROz9EoZfjDteIHcvlBo+uJlZjaHe/BXFMMAFBEJyF23F1dup6u4DsIxibbtjozD9qcIU7PkclkiBkzR3ydI19LfkwvEREFH9abnse2oWcwgAlAY7PFD1dlk4BGk/Nf1M9OmkXb9w11bbzi7AEqRLQ6dN8lKy7XW9s/QaIMxSdRt3+DbTt+8q8hD9N26ZpNp/aItiMHTXbpPE3WIChjUmzbFl01jJePdyktREREnsR6M7CwbSjGACYAxWnaRua1+vYf0hMVFpyuanmwIlTA6EznEbbt2DCZ6FgBwOd2D7zUCRYzKje/AQjNeRSeey3Ce43s0jWtxiboL+aL9mlzhrl0rkwmg8bujVPjmX1dSg8REZGnsN4MPGwbinktgBk/fjxkMplb/23fvt1byZGUS/VtH8iE8Pa7Gw+ViKPikekKtz62GpMpHkN5qMTFycklonbPGpjKzwNonqIxftIDXb6mqeICYG35ZVbGpEARGefy+er0/uLrlZ7tcpqIiIg8gfVm4GHbUCxgemDkcjl69+78h2HBZEehOMrNjpE5HS9ZUCF+qPonuffPan98QUVgdRN2hbHiAmp3r7Ztx45f4FaB2R5T5UXRtioxy63zVYmZTq9HRETkD6w3AxPbhmJem4XsnXfegU6nc3rMTz/9hNmzZwMAJk6ciPT0dG8lR1LePiReaWhKb+f/TCcqxQ9VZrR7D2lmjPgXwP56UiUIVlRufh2wNP/SqzMGIHLwjR65tqmqSLStiEp063xlVJJo21xXDsFshEwZWLN8+JLVZIWx3AhLgwUyhQyKSAVUsSrI1QHzniXoMM99i/nte8xz97DeDFxsG4p5LYDp3r17h8esWrXK9ue775bmdHie9sUpE74rFEfN84c4/+Us04m7FTPcfEjTo8THl+ukObOHvfr9G2G8fKJ5Q6FEwk0P2RbI6iqLrla0rXSzIJZHxAJyBWD9+d9asMLSVOf2dYJF8apiGMuNEOw/SFQA2mwtogZFIf76eCijOfO7pzDPfYv57XvMc/ex3gxMbBu25bffWqvVivfffx8AEBkZiZkzZ/orKQGjqknAA5vEq9vO6KvEyHTnH101GMUPVYSbLyMiwsSFk8kKGMwC1MrAWrTIHaaaEtTsaAmQY66ZBVVCppMz3GO/CrFM5fpiaUDzB4kyZZhoOknB2PmVjaXOcNng+AcWoOlsE5rONqH8i3Ik3pSI5BnJkAXYglpSxDz3Lea37zHP3cN6MzCxbeiY3/pQt27dikuXLgEAfvnLXyI8PNxfSQkIVkHAvE+bUFTX8sDFqIE3bur4F7zBbnpujZsPl9ZBGGv/4EtN1Zf/sBWWyvgMxIy63aPXb12AAoBM6drUhOJzxHO6W03BXxB3hWAUUP5ZOc6/fB4WfWB9TBismOe+xfz2PeZ5C9abgYdtw/b5rQfm3Xfftf2Zw8eAJ7YYsPm0+AOtf03TIjOm4xhTbxY/UGGuzZJno3bwFDQF1mx5bqk/vAX6wkM/b8mau8AV7heUzggWcckgU7j/q2SfJsHcztvCYCUDwnuGI3JwJMJ7hEPdTQ1FhAKQAZYGC5oKm1B/qB41O2tEQ0B0x3UoeqsIWY9mhfwbU7cxz32L+e17zPNOYb0ZmNg2bJ9fApiGhgasW7cOAJCdnY3x48d36jpFRUVOf15cXNyp6/raG3sNeHWP+Bd78egwzM5zrfBojqpbHlSjmy+RDA4eSI1EhwSbG6pQs22FbTty8A3QZOZ5/D4yhbgvVrC4/1stWMQf5NlfM5hF5UUhdlQs1Klqhz+Xx8mhilMhekg0kqcn4+JbF9F4qtH28/rD9ajaWoWEyQm+SrLkMc99i/nte8zzzmG9GZjYNnTOL0lZu3atbYayefPmdfoDscxMz43NdOSbs67/ck3q0bms/OCoCYu+FL9BmD9EhSWTHBfAjkTa/f7aR90dcRRRR4b55w1U0/lDLh+rtVvUCgCqvn4LVkPzs6WIiEPc+AUeSpmYzG41YsFsaufI9tm/OZKHuTceWMrCe7s+ZFQVr0LOEzk49/I5NJ1uGYJQtrEMcePiOJuQi5jnvsX89r1QzXPWm77FtmFg8EsAI5XhY5NXNXZ80M+EP0W7ff1NJ024Z30TWj9SM/spsfwWjVtBnf0DpTO2c2A7dHZjGpVy98dKekrZ6qddPjb7yU2ibd3x79F0crdtO27iryDXRHosba3Zf3xo/3FiRwRBgGC2605Xads5OrA05De4fGzkAM/kvzxMjoyFGTj1x1PAz2+RLHUWNBxrQPRw93/3pIZ57lvMb99jnnce603fYtswMPg8gCkqKsL27dsBANdccw369OnT6WtdvOh8EaPi4mKMHDmy09f3pm3nzJi1pgnmVtNqT+6hwIe3aaFwc/xtcoT4+KI69+bqvlQvPj7Jycqugax629u2P2t7jkBEv7Feu5ciIka0ba6vcOt8q66mZSpIAJDJoQiXRoV5/m/nXT42b6XnhiGoU9SIHhKNugN1tn0N+dJqaHQW89y3mN++xzz3D9abgYVtQ9f5PIB57733YLU2Z8o999zTpWtlZGR4Ikk+t7fIjOkfNULfqntudKYC62aHO11VtT25CeKu7gu17j2kF2rFUXbfROl0nbd2pQscAJrO7EPhS9PcvoalrqzNeWnz30BYSg/RPlW8+Nmz1JW7dR9zXZloWxmdFDKLcXVFRP8IUUPDUBzcH3AGAua5bzG/fS+U85z1ZuBg29A9Pg9grixeqVarMXv2bF/f3i2d6frryJFSC25+v1E0vd3QVDm+mBveZs5tV/VNFE8t8VOFew9pQbn4eH8+pPbd24HKviA2VjrvDbRnqhRPQKFMkGYw7muqePHHi+b6AJoSJUgxz32L+e17Us9z1pu+xbZhYPBpALN//3789NNPAIBp06YhLi7Ol7f3uxMVFkxe1YjqVsM++yXK8dW8cMRoOt81NyRV/FDtu2SB2SpA6WJ3486L4sJ6SKqbc+2FIFViFiBXAtbmvLPUlsLcUAVlZLxL5xsu/STaDkvu0c6RgceTwzfcJbN/CxUiyzYwz32L+e17zPPgF8r1pjNsG3aOTwOY1h/vd3X4mNQU1lgxaVUjynQtXXLdY2X4+q5wJEV0Lartm6hAzzgZzlQ3X1tnAnZdtGBcdsf/vDqjgN1FLaW1DMC0PgE0T54bkmc+DcHqXs1jKjsrGgMsj4hF4rTHRcco49LanCdXh0OTOQD6wsO2ffrzBxGZN7HDewqCAL3drDHhvQLzW61AY64VF6iKqMAqUIMR89y3mN++F8p5znrTv9g27DyfpcZkMuGjjz4CACQlJeHmm2/21a39rrjeionv6kQrqaZHybD17gikR3umS256rgqvtZovfMVBk0sP6ep8k6jL8qpucnSLCqxuQldpsga6fY5MLv67yhRhDqeZdETb62pRQdxw5GuXCmL9hSMw15batuURsQjrlutagkNc6zUbgLZDP8jzmOe+xfz2vVDOc9ab/sO2Ydf4LDWbN29GeXnzB1tz586FUhlYkZy3VDUJmLyq0RYBA80zOXx9Vzi6x3ku++8dqkLrTsGPjplQUO78rYreLGDJ9+J59e4bGjwfxHlbRL9xomkhDRePoalVweyIIAio3fmhaF/kwEmQyQKrYAhEFp0FtftrRfsi+3tnuk9qxjz3Lea37zHPfYv1ZjO2DbvOZ//6Uln7xZPqDQJuek+H/FYfQsVqgC13haNfkme7qPOSFbh9QEtQaLQA96xvQp3B8cJFgiBg0Zd6nKpqSVuPOBnuHRo6b566ShERi6hh4plXqja/AXN9Zbvn1O1ZA8PFY7ZtmToC0SNv81oag0nJ6hJYG1ueV5lShshBbGh4E/Pct5jfvsc89y3Wm2wbeopPukGqq6uxaVPzLBl5eXkYNmyYL27rd9M/asS+y+JZHB67Ro2KRsGtlVwBYHiaAnFa5x9e/eV6DTaebEDjz4vb7rtsxbh3dFh6kwbjc1r+qU9WWvDUVgM+LRCnYclEDVSdmKovlEVffRt0x7bCoqsGAJhrS1Hy3hOIn/QAtL1G2hadMtdVoHb3R2g49KXo/JhRt0OhjfJ5uv2pfFM5IvMioc1xbQEywSKg5OMSVH9XLdofPyEeqtjAK1QDEfPct5jfvsc8l45QrzfZNvQMnwQwq1evhsHQPK96qPS+AMD282276Z7d3rn55bfdEy560BzpFS/HiulazF3bsoLr4VIrJvynEUnhMmTFyFCmE1BUJ8A+9n54ZBhmDWCh7S6FNgqJv3gSZR8/a1sh2FJXhvJPX4BcHQFlbCqs+gaY68oBQVxgaXtfg+iRM/2RbL+qP1qP0k9KEd4rHNEjoxHZPxLqNHWbmYAsjRbUH6lHxRcV0F8Qr9gclhyGpF8k+TLZksY89y3mt+8xz6Uj1OtNtg09wycBzJW1XxQKBe68805f3DJk3ZGngiAA933WhKZWQXR5o4DyRsddho+PCsPLk9U+SmHw0WTmIemXf0LF+iWw6utt+60GHYylZxyeE97/OiTevMj2pikUNZ5uROPp5o9nZUoZVPEqyLVyyOQymBvMMFWY0KY0BaCMUSL7sWwoI0PjOzpPYp77FvPb95jn0sB607eCsW3ok9/UnTt3+uI29LM5A1W4OkOBZ7bpsSbfDFM7axeNy1bgz+PVuK6D6J06ps0ejG73v4manR9Cd2wrBJPjtylhKT0RM2o2wnNH+ziFgU0wCzCWGTs8LnJQJDLuz4Ayms9sVzHPfYv57XvM88DGetO3gq1tGNipkzhvrNbqqh5xcrw/MxxvTRXw/QUzTlVaUW8ENEogK0aOMZkKj03TJ2WarEEeW8VYERGHhBt+g7gJ98FwqQCmyouwGnSQKZRQRCZA3S0XqrhuHrmXlCXfkoy6bnXQndTBUGwAOlgcWK6RI3JgJBImJSAiN8I3iQwyzHPfYn77HvPcd1hvdg3bhp7BACbIRatlmNJbBfT2d0pCh1ylhjZniMvz4oeayLxIROY1z/JjNVhhuGyAscIIc40ZVoMVglWAIlwBRYQC6m5qaDI1kLm4cjA5xjz3Lea37zHPpY31pm8FQ9uQAQwR+Y1cLYe2uxba7q7NHERdxzz3Lea37zHPiYKfNPqJiIiIiIiIwACGiIiIiIgkhAEMERERERFJBgMYIiIiIiKSDAYwREREREQkGQxgiIiIiIhIMhjAEBERERGRZDCAISIiIiIiyWAAQ0REREREksEAhoiIiIiIJIMBDBERERERSQYDGCIiIiIikgwGMEREREREJBkMYIiIiIiISDIYwBARERERkWQwgCEiIiIiIslgAENERERERJLBAIaIiIiIiCSDAQwREREREUkGAxgiIiIiIpIMBjBERERERCQZDGCIiIiIiEgyGMAQEREREZFkMIAhIiIiIiLJYABDRERERESSwQCGiIiIiIgkgwEMERERERFJBgMYIiIiIiKSDAYwREREREQkGQxgiIiIiIhIMpT+ToAnDRgwQLRtMplsf361/1uITkzydZJC0t+PzsA8AH+v/wP6qRX+Tk7QK6i3YB6A5y+MRT9jqr+TE/QKSkowD2dwXcwIpCYk+zs5IaGkugxnmOc+cyW/Wab4zpVyhfWmb1ypN//VZwnSevb2d3KCWl1FOYC7PH5dmSAIgsev6ieOAphTp075KTVERERERAQAFy9eREZGhkeuFVQ9MPn5+aLtoqIiZGZmAgB+93+r2APjI71XzcC8T/V4b6YG/RL5JsnbCioszfl973z0S+XbUm8rKCnBvLdX4t7X7kBqL/YG+ELJ6TK8/buPmOc+ciW/Wab4zpVyhfWmb1ypN3/192XsgfGyuopyvLbQ8z0wQRXAOJOe2xfxqd38nYyQcKXw7ZeowLA0FsS+0i81FcOysvydjJCR2isZWXmeeZNErmGe+xbLFN9jvelbaT17I3vAQH8nI6hVlVz2ynX5ET8REREREUkGAxgiIiIiIpIMBjBERERERCQZDGCIiIiIiEgyGMAQEREREZFkMIAhIiIiIiLJYABDRERERESSwQCGiIiIiIgkgwEMERERERFJBgMYIiIiIiKSDAYwREREREQkGQxgiIiIiIhIMhjAEBERERGRZDCAISIiIiIiyWAAQ0REREREksEAhoiIiIiIJIMBDBERERERSQYDGCIiIiIikgwGMEREREREJBkMYIiIiIiISDIYwBARERERkWQwgCEiIiIiIslgAENERERERJKh9HcCCNDrdLh0+gRKzpxGQ001TAYDwqOjEZ2QiJy8wUjMyPT4PS+dOoHzx46gtrwMVosFkXFxSO/dFz0GD4VCGTyPhSAIOF8j4GiZBUV1Amr0AtQKIE4rQ+94OUakK6BRyjx6z3qDgJ0XLThZaUGdAdAqgexYOUZnKtAtSvrvDARBwPnKShy9dBlF1dWoaWqCWqlEXHg4eicnY0RONjQqlUfvWa/XY+eZMzhZWoY6vR5alQrZ8fEY3bMHusXGevReRORbLFMCC+vNwMC2oXOBlZoAU11SjLNHDuHs4YM4d/Qgzh89Ar2uwfbzhPQM/G3b3k5d+8zhH3Hw669QsPt7nM8/AsFqbffYhPQMjL/jLoy/Yx4iYmI7dT+guVD6fu1qfPF//4vSc2cdHhMZG4fxc+/G1F89BHV4eKfv5U/VTQLWHzfhyzNmfHvOgopGod1jVXJgah8lFl0dhutyuvbrcK7aime3G/BxvglGS9ufywBcl6PA8+PVGJctrV+9al0j1h8+jC/z8/HtiZOoaGho91iVQoGpeXlYNHECruvTp0v3PVdRgWc3bsLHB36E0Wxu83OZTIbrevfC87dMw7jevbt0LyLyHZYpgYX1puvYNgyMtmFgPA0B5NSBffjq7X/h7OGDqCkr8fj1L/x0DP/78K9QfrHQ5XMqLxVh7Ssv4pt3V+DeF1/FwHET3L5vY10t3nr0QeTv/M7pcQ011dj05uvYu3E9HvnnO0jvnev2vfzpt583YflBxwWhIyYrsP64GeuPm3H3YBWW3axBtNr9N0sf55uwYEMTGk3tHyMA2H7egvErG7F4TBhenKiGTObZt1je8NsPP8LynbscVvaOmCwWrD98GOsPH8bd11yNZbNvR7RW6/Z9P95/AAveXYVGo7HdYwRBwPaTpzD+1aVYfMNkvDjjF5LIU2/ZuHQLPn/9m06ff81twzH/77M9mKLgxvzuHJYpgYX1ZsfYNgy8tmFo9ss5ce7oIfz49WavPKAAUFVa3O4Dqo2KRmr3nug+aCiSMrPb/JLWlpdh6a/uxt5NG9y6p1HfhFfuvbPNA6pUhSGlew9k5PZrE1GXXyzEy3fNQmnhObfu5W97L1kcFsIKGZARLcPwNDkGpcgRo257zLuHTZi8SocGY/tvnhxZk2/CnLVtC+GkcBmGpcmRES1D639JAcBLO4147CuDW/fxl73nzjtsaCjkcmTExWJ4VhYGpacjxkGD4t09ezH59WVo0OvduueaAz9izoq32zQ0kqIiMSwrExlxsaLfD0EQ8NJXW/DYmrVu3YeIfI9lSmBhvdkxtg2bBVLbkD0wblBHRMCg03n0mj2HDMM1029D32tGI72XuGu8rqoS361+H5v++QaMTU0AAMFqxfInH0Vqj57I7p/n0j0+evF5nDty0LYtk8sx7deP4Ib5C23djmajEXs2rcPqF/8MXW0NAKC+qhJvPfognl37BeQKRdf/sj4WqwHm5qkwtY8SY7OUiGr1hshiFbDjggXPbjNgx4WWkvuHS1bMX9+ET253rYv0TJUVCzY0wdqq7B6cIsdrN2owoXvLr9eJCgv++K0Bnxa0VNpL9xoxNluBmf08O7bbm2LDtZg7YgSm5uVhbO9eiNJobD+zWK3Yceo0nt24CTtOn7bt/+H8ecz/zyp88sBCl+5xprwcC95dBavQkqmDMzLw2qzbMCG35a3PiZJS/HHDBnx68JBt39Jvv8XY3j0xc+jQLvwtichXWKYEFtab7mPb0D8YwLRDExGJnLyByBk4BD0GDUHOwCGoKLqAl++a1eVry+RyXDNtBqY88JDTbrjo+ARM+/UjGDxhEl6+exZ0NTUAAIvJhA//+if84f2O3wwVnzmN7z7+QLRv4d+X4ZppM0T7lGFhuHbmbHQfOAQvzrkVjXW1AJq7NXeu/wRjb5POMIecWBmeHqvG3IEqaFWOu5oVchnG5yix7R4FfvO5Hv/+seU10NoCM7adM4sK0vY8s00PXas3SCO6yfHN3RFtutNzExX4ZJYWD24S32vx13pMz1VCKQ/sIQo5CQl4espNmDtiBLRhYQ6PUcjlGJ/bB9t6L8JvPvwI/97xve1naw8exLYTJ0SNhfY889lG6Awtb9lGZGfjm0WPtBkykpuagk9+tRAPfvCh6F6LP12P6YMGQSnBoNvTbvvjVGT06+by8TEp0V5MTfBjfruOZUpgYb3pGrYNA6dtyADGzpDrJ2PAtdchrUcvyOXiEXYVRRe6fP3UnB7488Zv3Bo/mNm3P+598TUs+/UC276T+/agtPAcUrK7Oz13/Rt/h9XS8qZk1C9ua/OAtpbeOxe3P/kMVv7P47Z9n/3jVYyaPhNKD88C4w3Pj1djck8lwhSuFWwKuQxvTtXgxxIL9l9u+Vhu+UFjhwVxfpkFq/Nb3gyFKYD/zNC2OxZYJpPh9Zs12HbeglNVzfc6Uy3gnYMmLBzuuAIPBM/fMhWT+/VDmIszkCjkcrw55w78eOEC9he2/M4s/35Xh42N/MuXsXr/Adt2mFKJ/8y/u93x7jKZDK/fPgvbTpzEqbIyAM1vW9/ZtRsLx17rUnqDWdbADORe09PfyQgZzG/XsEwJLKw3O8a2YeC1DfkNjJ3krByk9+rT5gH1lNTuPTv18dPQiTegm1034rHvtjs9R1dbgx+/3mzblslk+MXDv+/wXtfeNhsJ6Rm27cpLRfhp1w73EuwnU/uoXC6Er1DIZVg8Wjy496vTHX/N+PZBk6gL/I48FfolOX9Dp1HK8IdrxYXu8oPtf1AaCKYOHOhyQ+MKhVyOxTfcINr31U8/dXje27t2i4Z53HHVcPRLS3N6jkalwh9uFN9r+c5dbqSWiHyJZUpgYb3ZMbYNA69tyABGQvpcNVK0XVl8yenxR7ZvhaXVh5K5V49CclZ2h/eRy+W4dqa4W/DgN1+6kVLpGZstLkArmwQ0mpx/lPjZSfFHqPcNde0txOwBKkS0OnTfJSsu17c/VaJUje0lfhNdqdM5nf0HAD47fES0fd+Y0S7da/ZVwxGhbqlM9xUW4vLP3epEFBxYpgQW1puBIVTbhgxgJCQ8Ola03VRf5/T4w9u3irYHjLnO5XsNGDNWfK1tW9s5MjjEadq+farVt18Qn6iw4HRVS+EZoQJGZ7o2PjoiTCY6VgDw+UnXphOVkjgHc8XX/vzBoSMnSkpxurzcth2hVmN0jx4u3av52JYuc0EQ8PnRY26klogCHcuUwMJ6MzCEatvQJwGM0WjE8uXLceONNyItLQ1qtRqRkZHIzc3FggULsGtX8HbNelJ1abFoOzI2zunxFwvyRdu9hl3l8r2y8wZBGdby9qmmrAR1VZUuny81l+rbFroJ4e13qR8qEb/5GZmucOuDwjGZ4uETh0pcnIBfQi7V1LbZlxAR0e7xh4ouirZH5mS79dHsmJ7it7OHiopcPpeIAh/LlMDCejMwhGrb0OsBTGFhIYYNG4aFCxdiy5YtKCkpgdFohE6nw8mTJ7Fy5UqMGTMGjzzyCATBvXnEQ4kgCDh1YJ9oX0r39t8kmU0mlF04L9rXrafrKxirwtRtuhSLz5xy+Xyp2VEofpOTHSNzOia4oEJccPZPcu9Xyf74gorg6wpvPe0pAGTHxzsd915QLJ5fv3+q83Hq9vrbjWsvKPHOfP1E5B8sUwIL603/C+W2oVcDGJPJhKlTpyI/vznaGzRoEFauXIndu3djy5YtePbZZxHx89uTZcuW4aWXXvJmciTt+N5dopkuZDIZBo5tf9XV8ouFojGOYRoNouLj3bpnfJp4OtCSs2fcOl9K3j4kXk1rSm/nH5ieqBQXnJnR7v0qZcaIC3n76wWDt+16VqfkDXB6/InSMtF2Zrzzt0j2MuPEx58oKXXr/GBlMphRfLoUp/edw7mDF1B2vgLGpsCeOELKmN/ewzIlsLDe9L9Qbht6dRrlDRs22IKXUaNGYceOHVC06r6dPHkypk+fjlGjRsFkMuGll17C448/DqWbs5MEO6vVirWvvCjalzd2AmKSkts9p75S3KUXm5Lq9n3tz6mrqnD7GlLwxSkTvisUvxmaP8T59IxlOnFvYYabBXF6lPj4cl1w9T5+cfQYvjslfls6f9Qop+eU1deLtjNiY926Z3psjGi7vKHBrfOD0UfPrkfFhUqYDOI3pXKlHNl5GRgwPhfXzRuFqIRIP6UwuDC/vYdlSmBhvel/od429GoPTOtvW5566ilR8HLF8OHDMW3aNABATU0NCgoKvJkkSfpqxT9x9rB4tdSZjz3p9Bx9o3hVWLXWtRVynZ1j0DW6fY1AV9Uk4IFNetG+GX2VGJnufJx0g1FccEa4OR19RJj4TZLJChjMwVEYV+l0eOAD8QJZMwYPxsjuOU7Pa2i10BwARKjdy9TWMwYBgMligcFkaufo0FB8qrRNYxoArGYrzh26gE1Lv8Yfr30Rn736FawWvs3sKua3d7BMCSysNwNDqLcNvRrAGFtNb9jDycwfPVt9KGfsYErEUHNy3158+pp4aN3ke+5Hdv88p+cZ7B5SlV1B7IowjcbpNaXOKgiY92kTiupaCsAYNfDGTRonZzVrsHtMNUr35tDXOuhktC/cpchqtWLe2ytRVF1j2xej1eKN2R2vUmzf2NC4uTiW1sHx9tektkx6E75YthVL5/0beh3zy9uY3+5hmRJYWG8GBrYNvTyELLfVCrlnz57FgAGOx6ueOdM8fk4mk6F3797eTJKklF0oxD8eul80XjGr3wDc9vs/dHiuya6QVarcX7FWGSY+x6jXt3OkND2xxYDNp8VvS/81TYvMmI7jer3dW58w1ye2AQCoHfzmNQXBjJBPfLoOm/PFM5z86845yHRhjK3e7s1mmMK94kntYOhpUwi+LZXJZOg+LAsDJ/RDzuBMpPZKRkRsOGQyGXQ1Olw4dglHvy3AnrUHRL0FJ/ecxYpH3sev/z0fcgVn2HcV89u7WKYEFtab/se24c/p8ObF58yZg6effhp1dXV46aWXMGXKlDbDyA4ePIjPP/8cADB37lxER0d7M0mSUV9VhdcWzkNDdZVtX3RiEn77j+VQhXUcMdtH1WaT+z1bZrvesM5E6oHqjb0GvLpH/PdbPDoMs/Nce0PX/OaopTA2ujmbo4NRJtBI/NOvN77dhle/Ec8Jv/iGyZh9lWtTNNq/HTVa3KuZDOa2x7v7xlXq+o/tg5HThyKlR5LDn8emxCA2JQaDJvbHlIcmYvkjH+DM/vO2nx/99jj+u2o3Jswf46MUSxvz27tYpgQW1pv+x7ZhC6/+0ycmJmLVqlWYM2cOdu7ciREjRmDRokXo06cPGhoasHPnTrzyyiswGo0YNmwYXnnlFbeuX9TBnOzFxcVOfx6omhoa8Nr981B67qxtnzYqGo+teB9JmVkuXUMdLp4b3z7qdoV9VG1/TW/45qzrFcykHp17fD84asKiL8X5MX+ICksmuf5LGGn30sL+zVJHHL01igxzrzs9kHzwwz4sWvOJaN/8Uddgya0zXL5GpF0haP/2tCOO3ozaXzPY9Rye4/KxcWmxWPTeQrw29984+2Ohbf8X/9iKMbNHIEzr/pu5UMP89h6WKa5jvRkaQrlt6IjXY9fp06fjwIEDeOWVV7BixQrcc889op+npKTghRdewMKFCxHuYJVdZzIzMz2Z1IBgMuix7Nfzcf7YYdu+MK0Wi/79LrL6OZ8ysjWN3QNlaHL/Iyv7czQR7n/s5a7Jq1xPp/An93vrNp004Z71TWhdbM7sp8TyWzSQyVwvCO0LTZ2bLzF0duN2lXL3xwMHik1HjuKelf8RreM0c+gQLL9rnnt5atcw0Bncy1Sdfde4XB7Sb0tdoVKrMP+V2Xhu8t9hNTd/VF5f2YCfdpzEkBucj6Um9zG/XcMyxT2sN4NfqLcNHfH6wFuj0Yh3330XGzZscLhQZWlpKd577z1888033k5KwDObTHjr0QdxfO9u2z6lKgwP/WM5eg8f4da1ohISRNs1pe4vwGV/TlR8otvXCCTbzpkxa00TzK0m/5ncQ4EPb9NC4cZqwACQHCE+vqjOvRmFLtWLj09ysnpxINt24gRm/d9ymK0tf5/J/friw/vuhULuXvGSHBUl2i6qqXHrfPtVupPsrkeOJeckYvCk/qJ9P+0I3kVr/Y357RzLlMDCetP/2DZ0zKsBjE6nw6RJk/Diiy+iqqoKixcvRkFBAQwGA2pra7FlyxZce+212L9/P2bMmIFXX33VretfvHjR6X8//PCDl/5mnme1WrF88aM49O3Xtn1yhQK/evUfyBs73u3rJWVmQ9HqA0SjXo+6qkonZ7RVefmSaDutZy+30xEo9haZMf2jRuhbdUGPzlRg3exwpysHtyc3Qfyrc6HWvYL4Qq04mO+bKL2PePeeO4fpb/5TNCxjdI8eWPfgA05Xx25Pbop47voLVVXtHOmY/fF9U1PcTkOoyh0t/t0uPVvup5SEBua3YyxTAgvrTf9j27B9Xh1C9txzz2HHjh0A0Gb4WFhYGCZPnowJEybghhtuwLZt2/DEE09g4sSJGDx4sEvXz8jI8Eq6fU0QBPzn6cX44fMNtn0ymQzz//o3XHXj1E5dU6lSISkzGyXnWlZILT59EtEjnS/8dYXJaED5xQuifWk9vP+QdqZ7uyNHSi24+f1G0RSOQ1Pl+GJueJt55V3VN1E8GcVPFe4VxAXl4uOlVhAfKSrCzcv+VzSl6NDMTHzx8G/brJ3gqr6p4sWxfnLzG7aCEvFbob4podXY6Ir4tFjRdkMlF+zzJuZ3WyxTOo/1ZnBi29A5r/3rC4KAt99+GwDQp0+fNt++XKFUKvHCCy8AaI40V65c6a0kBawP/9+fsOOTD0X75j79Aq6dObtL17UfF3n6x/0un1t47AjMxpaKJCY5BdEJ0htCdqLCgsmrGlHd6puzfolyfDUvHDGaznc/D0kV/+rsu2SB2er6B4k7L4q/RhyS6uZ8kn50oqQUk19fhurGlnGw/VJT8dUjDyFGq+30dYdkil9I7Cu8ALPF9Wlqdp45I9oeEoTfyHmLQiV+/ixm9xoW5B7mtxjLlMDCejMwsG3onNcCmNLSUlT93P06dOhQp8cOHz7c9ufjx497K0kB6dOlL+Ob/6wQ7bvtsT9g4l0LunztwRMmibbzd33n8rn5O3eItofYXUsKCmusmLSqEWW6lgKye6wMX98VjqSIrj36fRMV6BnXUpDrTMCui65VjDqjgN1FLcfKAEzrI425IAsrKzHp9ddRVl9v29c9MQFfP/pIl8eH901NRc+klulodQYDdp096+SMFjqDAbvPnrNty2QyTBvIj6JdVVteL9qOjPfPrDKhgvndgmVKYGG9GRjYNuyY1wIYZasxdmYHc6m3Zmo13lXZiXGuUrV5+VvY9Obron1TH3gIUx982CPXH3jd9aKxjif27kbZhUInZzQTBAE7130s2jd04o0eSZOvFNdbMfFdnWi14PQoGbbeHYH0aM889tNzxbPRrDjo2hSdq/NNom75q7rJ0S0q8LvCi2trMXHpG6IVsdNjY7F10aNIj4v1yD2mDxoo2l6xc5dL563ef0A09OSqrCx0i/VMmkLBmX3nRNtx3WL8lJLQwPxuxjIlsLDeDAxsG7rGa//68fHxtkUpd+/e7TSI+e9//2v7c/fu3b2VpICy/aNVWPPyX0T7Js5bgNt+/5TH7hEZG4ehk1oeLkEQsGFZx2vt7PjkI1QUXbRtJ6RnoP/osR5Ll7dVNQmYvKoRZ6pbCuGk8OY3SN3jPPfI3ztUhdad6R8dM6Gg3PnbJL1ZwJLvxXNH3jc08Nd/qNLpMPn1N3CmvOVj46SoSHz96MPonui57uN7R48WTcv50f4DKOhg3LreZMKSr7aI9t03ZrTH0hTsGuuacPDLY6J9fUf39lNqgh/zuxnLlMDCejMwsG3oOq8FMHK5HFOnNn9kdPnyZfz1r391eFx1dTWefPJJ2/a0adO8laSAsWfjOqx67o+ifdfeNhtzn3nB4/f6xSOPQ9Zq6sndG9Ziz6b17R5/6fRJfPySOB23/GYRlGHSKCzqDQJuek+H/FYf+8VqgC13haNfkmfHy+YlK3D7gFazeViAe9Y3oc7geEyvIAhY9KUep6pa0tYjToZ7hwbeugKt1ev1uOmNfyD/ckulHxuuxZZHHka/tDSP3isvvRtuHz7Mtm00m3HPyndR19Tk8HhBELDo4zU4VVZm29cjMRH3Bnljw5PW/nUTGuta8lcZpkDe+Fw/pii4Mb9ZpgQa1puBgW1D93h1vNazzz6LDRs2oLGxEc899xwOHDiAe+65Bz169IBer8eePXuwdOlSXLjQPKPBxIkTccMNN3gzSS45dWAfjPq2hdvF4z+Jtk0GA/J3Oh47GJuSivRefdrsz9/5HVY8uQhCqznu03r0wsgp0/HTrh1tjncmIiYWOXmDnB6T3qsPxs2ag/+uft+27/8efxjFZ07hhvkLERETC6B5nvE9Gz/F6hf/jMa6lrnvM3L7Ycyts9xKlz9N/6gR+y6LP4h97Bo1KhoFt1YrBoDhaQrEaZ1/sPiX6zXYeLIBjT/3gu+7bMW4d3RYepMG43Nafr1OVlrw1FYDPi0Qp2HJRA1UnZiO0pemv/kW9hWKu5cfmzgRFQ06fFPg3jdrw7OyENfBold/mX4LNh45ikZj8xu3fYWFGPfKa1g665cYn9vyO3WytBRPrd+ATw8eEp2/5NYZUCmC++NOR758axv6Xdsb2QNdm53RYrZg3ZIvsPPjfaL9Y+deg5hkz89qFGyY353HMiWwsN50DduGgdU29GoA07dvX2zYsAFz5sxBRUUFNm7ciI0bNzo89vrrr8eaNWu8mRyX/fvxh1B5qajD4+oqyvHKgjkOfzbm1lm476WlbfafOrAPFrvhdMVnT+PV++50O525I0fhyfc+6fC4O/74PArzj9lWcBWsVmz836XY/O83kZiRCWVYGMqLLsCg04nOi4yLx2/e+JdorGSg236+bVf0s9sNDo7s2LZ7wkWFqSO94uVYMV2LuWtbVik+XGrFhP80IilchqwYGcp0AorqBNi/X3p4ZBhmDQj8t0jbT7ZdZO/ZjZs6da1tv1skajA40is5GSvumoe5b79jW/z2cFERJry2FElRkciKi0dZfT2KamraLI778ITxmNXqbWsoyf/vCax/eTN6DM/G8KmD0Xd0L6T2TIJCKW54NdU14dj249jyr//i4k+XRT9Lyk7A1EekN2GHPzC/O49lSmBhvekatg2bBUrb0Ot3nzRpEo4fP44VK1Zg8+bNyM/PR01NDZRKJVJTUzFixAjMnTsX06dPF41TJc9Ra7V47O338dYjD6Bgz07bfrPJKJoLvLXEjEw88tY7SO3e01fJlKw78lQQBOC+z5rQ1Kr8KW8UUN7ouFv88VFheHly59Y2CAV3jLgKAgTc9+57aGo1yUd5fQPK6x2vmfH45El4eeatvkpiwDp7oBBnDzS/3VaGKRGXFgNtlAYyuRy6Gh0qi6ohOJi6NDopCg+9cy8i40J3RqzOYH5LA8uUwMJ60/+k3jb0SfiUkJCAxYsXY/Hixb64HTkQGRuH36/8CDvWfIjNy99EWeF5h8dFxMZi/B13YeoDD0MTwYrVVXMGqnB1hgLPbNNjTb4ZpnaWdRiXrcCfx6txXQdvqAiYM2IErs7pjmc+24g1P/4IUzvrN4zr3Qt/vmUaruvj/C1sKDIbzSgv7HiV5bwJfXH3y7cjOjHSB6kKXszvwMYyJbCw3vQ/KbcN+TQ48Ldte7127RmP/B4zHvm9167vjFwux3Wz78R1s+9E0YkCFOYfRU15GaxWCyJj45Deuy96DB4KpSrwhzW1xxsrEruqR5wc788Mx1tTBXx/wYxTlVbUGwGNEsiKkWNMpsJjU1H6kvDPN/127x5JiXj/vgV4a+4d+P70GZwqK0O9wQCNUoms+HiM6dnTY9OtSt3Nv70eab2ScXrfOZScKYfV4nxxRHVEGAZc1xcT7h6N3lf38FEqgwfzu/NYpgQW1puuYdswsNqGDGBCVEZuP2Tk9vN3MoJStFqGKb1VQOjNjOo10VotpoTAInJd0X9sH/Qf2/zG2NhkRPGpUlQUVaOurB6GRgOsVgHh0VqEx2iR1jsF6bmpkCsCo2EgRcxvaWOZElhYbwYGKbUNGcAQEQWZMG0YsgdlIntQpr+TEhKY30REvsXXQUREREREJBkMYIiIiIiISDIYwBARERERkWQwgCEiIiIiIslgAENERERERJLBAIaIiIiIiCSDAQwREREREUkGAxgiIiIiIpIMBjBERERERCQZDGCIiIiIiEgyGMAQEREREZFkMIAhIiIiIiLJYABDRERERESSwQCGiIiIiIgkgwEMERERERFJBgMYIiIiIiKSDAYwREREREQkGQxgiIiIiIhIMhjAEBERERGRZDCAISIiIiIiyWAAQ0REREREksEAhoiIiIiIJIMBDBERERERSQYDGCIiIiIikgwGMEREREREJBkMYIiIiIiISDIYwBARERERkWQwgCEiIiIiIslgAENERERERJKh9HcCvMlsNtv+XFNW6seUhJbSBqvt/0V1Mj+nJvjZ8ruuDkXV1X5OTfArrasDANRV1KO6uMa/iQkRdRX1tv8zz73vSn6zTPGdK+UK603fuFJv1lWUo6rksp9TE9xat79bt8u7SiYIguCxq/nZgAEDRNuNjY04f/68fxJDREREREQAgB9++AEjRozwyLU4hIyIiIiIiCQjqHpg7On1ehw9ehQAkJSUBKUyqEfMEREREREFDLPZjPLycgDAwIEDodFoPHLdoA5giIiIiIgouHAIGRERERERSQYDGCIiIiIikgwGMEREREREJBkMYIiIiIiISDIYwBARERERkWQwgCEiIiIiIslgAENERERERJLBAIaIiIiIiCSDAQwREREREUkGAxgiIiIiIpIMBjBERERERCQZDGCIiIiIiEgyGMAQEREREZFkMIAhIiIiIiLJYABDRERERESSwQCGiIiIiIgkgwEMERERERFJxv8HXobxc9AkQxUAAAAASUVORK5CYII=",
      "application/papermill.record/text/plain": "<Figure size 1280x960 with 1 Axes>"
     },
     "metadata": {
      "scrapbook": {
       "mime_prefix": "application/papermill.record/",
       "name": "cell_scores"
      }
     },
     "output_type": "display_data"
    }
   ],
   "source": [
    "fig, ax = plt.subplots()\n",
    "\n",
    "ax.set_xticks(np.arange(0, 8))\n",
    "ax.set_yticks(np.arange(0, 8))\n",
    "ax.set_xticklabels(np.arange(1, 9))\n",
    "ax.set_yticklabels(np.arange(1, 9))\n",
    "\n",
    "ax.set_xticks(np.arange(1, 9) - 0.5, minor=True)\n",
    "ax.set_yticks(np.arange(1, 9) - 0.5, minor=True)\n",
    "\n",
    "ax.imshow(scores, cmap=\"tab20\", interpolation=None)\n",
    "for (i, j), z in np.ndenumerate(scores):\n",
    "    txt = ax.text(j, i, \"{:d}\".format(z), ha=\"center\", va=\"center\", color=\"k\", fontsize=15)\n",
    "\n",
    "ax.grid(which=\"minor\", color=\"k\", linestyle=\"-\", linewidth=0.5)\n",
    "ax.xaxis.tick_top()\n",
    "\n",
    "glue(\"cell_scores\", fig, display=False)\n",
    "plt.close()"
   ]
  },
  {
   "cell_type": "markdown",
   "metadata": {
    "editable": true,
    "slideshow": {
     "slide_type": ""
    },
    "tags": []
   },
   "source": [
    "```{glue:figure} cell_scores\n",
    ":figwidth: 512px\n",
    ":name: \"オセロ盤のセル評価値\"\n",
    "```"
   ]
  },
  {
   "cell_type": "code",
   "execution_count": 24,
   "metadata": {
    "editable": true,
    "slideshow": {
     "slide_type": ""
    },
    "tags": []
   },
   "outputs": [],
   "source": [
    "def move_by_score(env):\n",
    "    \"\"\"セル評価値を用いた着手\"\"\"\n",
    "    moves = env.legal_moves()\n",
    "    best_move = moves[0]\n",
    "    best_score = -np.inf\n",
    "    for move in moves:\n",
    "        if move.is_pass():\n",
    "            continue\n",
    "\n",
    "        score = scores[move.x, move.y]\n",
    "        if best_score < score:\n",
    "            best_move = move\n",
    "            best_score = score\n",
    "\n",
    "    return best_move"
   ]
  },
  {
   "cell_type": "markdown",
   "metadata": {
    "editable": true,
    "slideshow": {
     "slide_type": ""
    },
    "tags": []
   },
   "source": [
    "このルーチンを用いて、先ほどと同様に{glue:}`n_episodes`回の対戦を行ない、ランダムな着手に比べて、どのくらい勝率が上昇するかを見てみよう。"
   ]
  },
  {
   "cell_type": "code",
   "execution_count": 25,
   "metadata": {
    "editable": true,
    "slideshow": {
     "slide_type": ""
    },
    "tags": []
   },
   "outputs": [
    {
     "data": {
      "application/vnd.jupyter.widget-view+json": {
       "model_id": "faf847a18f5040669f003d0fd62437b3",
       "version_major": 2,
       "version_minor": 0
      },
      "text/plain": [
       "  0%|          | 0/1000 [00:00<?, ?it/s]"
      ]
     },
     "metadata": {},
     "output_type": "display_data"
    }
   ],
   "source": [
    "def match():\n",
    "    # ゲームのリセット\n",
    "    env = othello.make()\n",
    "    env.reset()\n",
    "\n",
    "    # エピソード開始\n",
    "    while not env.is_done():\n",
    "        # 黒番:\n",
    "        if env.player == Player.BLACK:\n",
    "            # セル評価値が最も高い場所に着手する\n",
    "            move = move_by_score(env)\n",
    "        # 白番:\n",
    "        if env.player == Player.WHITE:\n",
    "            # 着手可能な手があればランダムに1つを選ぶ\n",
    "            move = move_by_random(env)\n",
    "\n",
    "        # 着手による盤の状態の更新\n",
    "        env.update(move)\n",
    "\n",
    "    n_black = env.count(Player.BLACK)\n",
    "    n_white = env.count(Player.WHITE)\n",
    "    return n_black, n_white\n",
    "\n",
    "\n",
    "b_win = 0\n",
    "w_win = 0\n",
    "draw = 0\n",
    "\n",
    "chunksize = 32\n",
    "pbar = tqdm(total=n_episodes)\n",
    "for i in range(0, n_episodes, chunksize):\n",
    "    chunk = min(n_episodes - i, chunksize)\n",
    "    result = joblib.Parallel(n_jobs=n_jobs)(\n",
    "        (joblib.delayed(match)() for _ in range(chunk)),\n",
    "    )\n",
    "\n",
    "    result = np.array(result, dtype=\"int32\")\n",
    "    b_win += np.sum(result[:, 0] > result[:, 1])\n",
    "    w_win += np.sum(result[:, 0] < result[:, 1])\n",
    "    draw += np.sum(result[:, 0] == result[:, 1])\n",
    "    pbar.set_description(f\"B:{b_win:d}, W:{w_win:d}, D:{draw:d}\")\n",
    "    pbar.update(chunk)\n",
    "pbar.close()"
   ]
  },
  {
   "cell_type": "code",
   "execution_count": 26,
   "metadata": {
    "editable": true,
    "slideshow": {
     "slide_type": ""
    },
    "tags": [
     "remove-input",
     "remove-output"
    ]
   },
   "outputs": [
    {
     "data": {
      "text/plain": [
       "725"
      ]
     },
     "metadata": {
      "scrapbook": {
       "mime_prefix": "",
       "name": "score_b_win"
      }
     },
     "output_type": "display_data"
    },
    {
     "data": {
      "text/plain": [
       "221"
      ]
     },
     "metadata": {
      "scrapbook": {
       "mime_prefix": "",
       "name": "score_w_win"
      }
     },
     "output_type": "display_data"
    },
    {
     "data": {
      "text/plain": [
       "54"
      ]
     },
     "metadata": {
      "scrapbook": {
       "mime_prefix": "",
       "name": "score_draw"
      }
     },
     "output_type": "display_data"
    }
   ],
   "source": [
    "glue(\"score_b_win\", b_win)\n",
    "glue(\"score_w_win\", w_win)\n",
    "glue(\"score_draw\", draw)"
   ]
  },
  {
   "cell_type": "markdown",
   "metadata": {
    "editable": true,
    "slideshow": {
     "slide_type": ""
    },
    "tags": []
   },
   "source": [
    "**対局結果: セル評価値 vs ランダム**\n",
    "- 黒番勝ち: {glue:}`score_b_win`\n",
    "- 白番勝ち: {glue:}`score_w_win`\n",
    "- 引き分け: {glue:}`score_draw`"
   ]
  },
  {
   "cell_type": "markdown",
   "metadata": {
    "editable": true,
    "slideshow": {
     "slide_type": ""
    },
    "tags": []
   },
   "source": [
    "上記の通り、人間の経験則を導入することでランダムに着手するのと比べて大幅に勝率が上昇していることが分かる。"
   ]
  },
  {
   "cell_type": "markdown",
   "metadata": {
    "editable": true,
    "slideshow": {
     "slide_type": ""
    },
    "tags": []
   },
   "source": [
    "(ssec:minimax)=\n",
    "## ミニマックス探索"
   ]
  },
  {
   "cell_type": "markdown",
   "metadata": {
    "editable": true,
    "slideshow": {
     "slide_type": ""
    },
    "tags": []
   },
   "source": [
    "上記のセル評価値に基づく着手では、今まさに打とうとしている手が、**その時点においてどのくらいの価値を持つのか**だけを考慮していた。\n",
    "\n",
    "しかし、実際には、局面によっては、角に単にセルの評価値が高いディスクに置くよりも、その後、何手か指した後に、より勝ちの高い手が打てるような手も存在するだろう。\n",
    "\n",
    "実際に人間がオセロをプレイするときも、ある程度は「次に相手が何を」してくるかを考えているはずで、その際、**できるだけ自分に得**で**できるだけ相手に損**な手を指すのが良いと考えるだろう。\n",
    "\n",
    "このような考え方に基づいて、手を先読みして着手を探索する手法に**ミニマックス探索**がある (min-max探索ではないので注意)。"
   ]
  },
  {
   "cell_type": "code",
   "execution_count": 27,
   "metadata": {
    "editable": true,
    "slideshow": {
     "slide_type": ""
    },
    "tags": []
   },
   "outputs": [],
   "source": [
    "def minimax(env, move, depth, max_depth):\n",
    "    env.update(move)\n",
    "\n",
    "    if depth >= max_depth:\n",
    "        score = move.player * np.sum(env.board * scores)\n",
    "    else:\n",
    "        # 相手にとってのベストスコアを計算\n",
    "        best_score = -np.inf\n",
    "        for next_move in env.legal_moves():\n",
    "            score = minimax(env, next_move, depth + 1, max_depth)\n",
    "            if best_score < score:\n",
    "                best_score = score\n",
    "\n",
    "        # 自分にとっては相手のベストスコアは小さい方が良い\n",
    "        score = -best_score\n",
    "\n",
    "    env.undo()\n",
    "    return score"
   ]
  },
  {
   "cell_type": "code",
   "execution_count": 28,
   "metadata": {
    "editable": true,
    "slideshow": {
     "slide_type": ""
    },
    "tags": []
   },
   "outputs": [],
   "source": [
    "def move_by_minimax(env, max_depth=2):\n",
    "    moves = env.legal_moves()\n",
    "\n",
    "    best_move = moves[0]\n",
    "    best_score = -np.inf\n",
    "    for move in moves:\n",
    "        score = minimax(env, move, 0, max_depth)\n",
    "        if best_score < score:\n",
    "            best_move = move\n",
    "            best_score = score\n",
    "\n",
    "    return best_move"
   ]
  },
  {
   "cell_type": "code",
   "execution_count": 29,
   "metadata": {
    "editable": true,
    "slideshow": {
     "slide_type": ""
    },
    "tags": []
   },
   "outputs": [
    {
     "data": {
      "application/vnd.jupyter.widget-view+json": {
       "model_id": "ac75cc94f61d4ad3b6bb0aaf974f6195",
       "version_major": 2,
       "version_minor": 0
      },
      "text/plain": [
       "  0%|          | 0/1000 [00:00<?, ?it/s]"
      ]
     },
     "metadata": {},
     "output_type": "display_data"
    }
   ],
   "source": [
    "def match():\n",
    "    # ゲームのリセット\n",
    "    env = othello.make()\n",
    "    env.reset()\n",
    "\n",
    "    # エピソード開始\n",
    "    while not env.is_done():\n",
    "        # 黒番:\n",
    "        if env.player == Player.BLACK:\n",
    "            # セル評価値が最も高い場所に着手する\n",
    "            move = move_by_minimax(env)\n",
    "        # 白番:\n",
    "        if env.player == Player.WHITE:\n",
    "            # 着手可能な手があればランダムに1つを選ぶ\n",
    "            move = move_by_random(env)\n",
    "\n",
    "        # 着手による盤の状態の更新\n",
    "        env.update(move)\n",
    "\n",
    "    n_black = env.count(Player.BLACK)\n",
    "    n_white = env.count(Player.WHITE)\n",
    "    return n_black, n_white\n",
    "\n",
    "\n",
    "b_win = 0\n",
    "w_win = 0\n",
    "draw = 0\n",
    "\n",
    "chunksize = 32\n",
    "pbar = tqdm(total=n_episodes)\n",
    "for i in range(0, n_episodes, chunksize):\n",
    "    chunk = min(n_episodes - i, chunksize)\n",
    "    result = joblib.Parallel(n_jobs=n_jobs)(\n",
    "        (joblib.delayed(match)() for _ in range(chunk)),\n",
    "    )\n",
    "\n",
    "    result = np.array(result, dtype=\"int32\")\n",
    "    b_win += np.sum(result[:, 0] > result[:, 1])\n",
    "    w_win += np.sum(result[:, 0] < result[:, 1])\n",
    "    draw += np.sum(result[:, 0] == result[:, 1])\n",
    "    pbar.set_description(f\"B:{b_win:d}, W:{w_win:d}, D:{draw:d}\")\n",
    "    pbar.update(chunk)\n",
    "\n",
    "pbar.close()"
   ]
  },
  {
   "cell_type": "code",
   "execution_count": 30,
   "metadata": {
    "editable": true,
    "slideshow": {
     "slide_type": ""
    },
    "tags": [
     "remove-input",
     "remove-output"
    ]
   },
   "outputs": [
    {
     "data": {
      "text/plain": [
       "811"
      ]
     },
     "metadata": {
      "scrapbook": {
       "mime_prefix": "",
       "name": "minimax_b_win"
      }
     },
     "output_type": "display_data"
    },
    {
     "data": {
      "text/plain": [
       "147"
      ]
     },
     "metadata": {
      "scrapbook": {
       "mime_prefix": "",
       "name": "minimax_w_win"
      }
     },
     "output_type": "display_data"
    },
    {
     "data": {
      "text/plain": [
       "42"
      ]
     },
     "metadata": {
      "scrapbook": {
       "mime_prefix": "",
       "name": "minimax_draw"
      }
     },
     "output_type": "display_data"
    }
   ],
   "source": [
    "glue(\"minimax_b_win\", b_win)\n",
    "glue(\"minimax_w_win\", w_win)\n",
    "glue(\"minimax_draw\", draw)"
   ]
  },
  {
   "cell_type": "markdown",
   "metadata": {
    "editable": true,
    "slideshow": {
     "slide_type": ""
    },
    "tags": []
   },
   "source": [
    "**対局結果: ミニマックス vs ランダム**\n",
    "- 黒番勝ち: {glue:}`minimax_b_win`\n",
    "- 白番勝ち: {glue:}`minimax_w_win`\n",
    "- 引き分け: {glue:}`minimax_draw`"
   ]
  },
  {
   "cell_type": "markdown",
   "metadata": {
    "editable": true,
    "slideshow": {
     "slide_type": ""
    },
    "tags": []
   },
   "source": [
    "上記の通り、ミニマックス探索で2手先を読むだけで飛躍的に勝率が上昇していることが分かる。\n",
    "\n",
    "ただし、ミニマックス探索は再帰的に手を探索するため、より多くの手を読もうとすると、かなり多くの時間を要する。実際、ミニマックス探索は「本来探索する必要のない手」も探索しているがために、余計に計算を行なっている。"
   ]
  },
  {
   "cell_type": "markdown",
   "metadata": {
    "editable": true,
    "slideshow": {
     "slide_type": ""
    },
    "tags": []
   },
   "source": [
    "ミニマックス探索は、現在の局面から先の手を読むときに、相手も自分自身に取って最善となるように手を検討する。そのため、相手の手の評価値は検討を進めるに従って**相手にとっての価値は上昇していく**一方で、**自分にとっての価値は減少していく**ことが分かる。\n",
    "\n",
    "従って、今得られている価値が最大の手の評価値より、相手の手の探索中に得られる評価値が小さくなった瞬間に、それ以上手を探索する必要がなくなる。このような原理に基づいて探索の枝刈りを行なう手法に**アルファベータ探索**がある。\n",
    "\n",
    "アルファベータ探索は上記の`minimax`関数を少し改良するだけで実装できるので、練習問題として取り組んでみて、探索の効率が上昇することを確認してほしい。"
   ]
  },
  {
   "cell_type": "markdown",
   "metadata": {
    "editable": true,
    "slideshow": {
     "slide_type": ""
    },
    "tags": []
   },
   "source": [
    "(ssec:monte-carlo)=\n",
    "## 原始モンテカルロ探索"
   ]
  },
  {
   "cell_type": "markdown",
   "metadata": {
    "editable": true,
    "slideshow": {
     "slide_type": ""
    },
    "tags": []
   },
   "source": [
    "ここまでに紹介したミニマックス法やアルファベータ法は、現在の状態に対して何らかの評価値が既に与えられている場合には有効であるものの、このような評価値を**どのように決定すれば最適なのか**は実際のところ難しい。\n",
    "\n",
    "特に上記の例では、オセロ盤の状態ではなく、セルに対して評価値を与えているが、実際のオセロにおいて、どのセルにディスクを置けばより勝ちに近づくかは、そのときに既に置かれているディスクに依存するだろう。\n",
    "\n",
    "従って、ここまでのセルの評価値に基づく探索には限界があり、**実際に勝てるのかどうか**に基づいた着手を目指す必要があると分かる。しかし、勝ち負けを知るためにはオセロを終局までプレイしなければならない。では、その過程ではどのような手を指せば良いだろうか。"
   ]
  },
  {
   "cell_type": "markdown",
   "metadata": {
    "editable": true,
    "slideshow": {
     "slide_type": ""
    },
    "tags": []
   },
   "source": [
    "**原始モンテカルロ探索**は、モンテカルロ法、すなわちランダムな着手によって、今の**オセロ盤の状態がどの程度、勝ちやすい、負けやすい状態なのかを近似的に推測しながら着手する手法**である。言い換えれば、どのような手が良いのかは一旦おいておいて、**適当に指しても勝ちやすければ、それが勝ちやすい局面**と見なして着手を決定する。\n",
    "\n",
    "今、とあるオセロの局面を考えたとき、着手できる手は通常複数ある。このような複数の手をランダムに指して、どの手がより勝ちに近づくかを推定するのだが、この問題は、まさに**多腕バンディット問題**と同様の問題であることが分かる。多腕バンディット問題においては、どのスロットアームを回すかを最適化していたが、今回はオセロの有効手に対して同様の操作を行なう。"
   ]
  },
  {
   "cell_type": "markdown",
   "metadata": {
    "editable": true,
    "slideshow": {
     "slide_type": ""
    },
    "tags": []
   },
   "source": [
    "まず、とある局面からランダムにプレイを行なって終局まで進める操作を関数として定義しておく。このような操作を**プレアウト**と呼ぶ。"
   ]
  },
  {
   "cell_type": "code",
   "execution_count": 31,
   "metadata": {
    "editable": true,
    "slideshow": {
     "slide_type": ""
    },
    "tags": []
   },
   "outputs": [],
   "source": [
    "def playout(env):\n",
    "    \"\"\"ランダムに着手して終局まで進める\"\"\"\n",
    "    while not env.is_done():\n",
    "        moves = env.legal_moves()\n",
    "        move = random.choice(moves)\n",
    "        env.update(move)"
   ]
  },
  {
   "cell_type": "markdown",
   "metadata": {
    "editable": true,
    "slideshow": {
     "slide_type": ""
    },
    "tags": []
   },
   "source": [
    "この関数を呼び出して、とある局面を終局まで進めたとき、今の手番のプレイヤーが勝ちなら **+1点** の報酬を得ることとする。\n",
    "\n",
    "プレイアウトをするべき手は多腕バンディット問題において、良い性能であったUCB1値を用いて選択する。UCB1値の定義を再掲しておく。"
   ]
  },
  {
   "cell_type": "markdown",
   "metadata": {
    "editable": true,
    "slideshow": {
     "slide_type": ""
    },
    "tags": []
   },
   "source": [
    "$$\n",
    "\\text{UCB1}_i = \\frac{n_{i,{\\rm hit}}}{n_{i,{\\rm play}}} + \\sqrt{\\frac{2 \\log(n_{\\rm total})}{n_{i, {\\rm play}}}}\n",
    "$$"
   ]
  },
  {
   "cell_type": "markdown",
   "metadata": {
    "editable": true,
    "slideshow": {
     "slide_type": ""
    },
    "tags": []
   },
   "source": [
    "この定義は多腕バンディット問題用の表記になっているが、これをオセロの着手に置き換えると、個々の変数は以下のものを指す。\n",
    "\n",
    "- $n_{i, {\\rm hit}}$: $i$番目の候補手を指してプレイアウトしたときの勝利回数\n",
    "- $n_{i, {\\rm play}}$: $i$番目の候補手に対してプレイアウトをした回数\n",
    "- $n_{\\rm total}$: 全ての候補手に対するプレイアウト数の合計\n",
    "\n",
    "以下、UCB1値は定義上、$n_{i, {\\rm play}}$ 即ち、各候補手に対するプレイアウト回数が1回以上ないと計算できないので、UCB1を用いた原始モンテカルロ法においては、\n",
    "\n",
    "1. 各候補手に対して1回ずつプレイアウトを実行\n",
    "1. 以下、UCB1値を計算し、その値が最大の候補手に対してプレイアウトを実行\n",
    "\n",
    "という流れでどの候補手が最も勝ちやすいのかを推測していく。\n",
    "\n",
    "このプレイアウト操作を予め決められた回数 (以下の実装では `n_trials=20` 回) 実行したら、プレイアウトされた回数が最大の手が最適な手であると判断する。プレイアウトされた回数が最大である、ということは、UCB1値を用いた探索において、最も有望な手であるということに留意している。"
   ]
  },
  {
   "cell_type": "code",
   "execution_count": 32,
   "metadata": {
    "editable": true,
    "slideshow": {
     "slide_type": ""
    },
    "tags": []
   },
   "outputs": [],
   "source": [
    "def move_by_monte_carlo(env, n_trials=20):\n",
    "    moves = env.legal_moves()\n",
    "    n_wins = [0] * len(moves)\n",
    "    n_checks = [0] * len(moves)\n",
    "    for t in range(n_trials):\n",
    "        # まだ調べていない手があるときはその手を調べる\n",
    "        move_idx = -1\n",
    "        for i, n in enumerate(n_checks):\n",
    "            if n == 0:\n",
    "                move_idx = i\n",
    "                break\n",
    "\n",
    "        # 全ての有効手を最低1回調べたら、UCB1値に基づいて着手\n",
    "        if move_idx < 0:\n",
    "            ucb1_vals = []\n",
    "            for w, n in zip(n_wins, n_checks):\n",
    "                ucb1 = w / n + np.sqrt(2.0 * np.log(t) / n)\n",
    "                ucb1_vals.append(ucb1)\n",
    "            move_idx = np.argmax(ucb1_vals)\n",
    "\n",
    "        # 手を進めてプレイアウトする\n",
    "        env_cpy = env.copy()\n",
    "        env_cpy.update(moves[move_idx])\n",
    "        playout(env_cpy)\n",
    "\n",
    "        # UCB1値計算用のチェック回数と勝利数を更新\n",
    "        n_checks[move_idx] += 1\n",
    "        if env_cpy.is_win(env.player):\n",
    "            n_wins[move_idx] += 1\n",
    "\n",
    "    # プレイアウト回数が最大の手を返す\n",
    "    return moves[np.argmax(n_checks)]"
   ]
  },
  {
   "cell_type": "code",
   "execution_count": 33,
   "metadata": {
    "editable": true,
    "slideshow": {
     "slide_type": ""
    },
    "tags": [
     "hide-input"
    ]
   },
   "outputs": [
    {
     "data": {
      "application/vnd.jupyter.widget-view+json": {
       "model_id": "7a6f75044c244bbf981de63e7064fe21",
       "version_major": 2,
       "version_minor": 0
      },
      "text/plain": [
       "  0%|          | 0/1000 [00:00<?, ?it/s]"
      ]
     },
     "metadata": {},
     "output_type": "display_data"
    }
   ],
   "source": [
    "def match():\n",
    "    # ゲームのリセット\n",
    "    env = othello.make()\n",
    "    env.reset()\n",
    "\n",
    "    # エピソード開始\n",
    "    while not env.is_done():\n",
    "        # 黒番: 原始モンテカルロ探索\n",
    "        if env.player == Player.BLACK:\n",
    "            move = move_by_monte_carlo(env, n_trials=20)\n",
    "        # 白番: ランダム\n",
    "        if env.player == Player.WHITE:\n",
    "            move = move_by_random(env)\n",
    "\n",
    "        # 着手による盤の状態の更新\n",
    "        env.update(move)\n",
    "\n",
    "    n_black = env.count(Player.BLACK)\n",
    "    n_white = env.count(Player.WHITE)\n",
    "    return n_black, n_white\n",
    "\n",
    "\n",
    "b_win = 0\n",
    "w_win = 0\n",
    "draw = 0\n",
    "\n",
    "chunksize = 32\n",
    "pbar = tqdm(total=n_episodes)\n",
    "for i in range(0, n_episodes, chunksize):\n",
    "    chunk = min(n_episodes - i, chunksize)\n",
    "    result = joblib.Parallel(n_jobs=n_jobs)(\n",
    "        (joblib.delayed(match)() for _ in range(chunk)),\n",
    "    )\n",
    "\n",
    "    result = np.array(result, dtype=\"int32\")\n",
    "    b_win += np.sum(result[:, 0] > result[:, 1])\n",
    "    w_win += np.sum(result[:, 0] < result[:, 1])\n",
    "    draw += np.sum(result[:, 0] == result[:, 1])\n",
    "    pbar.set_description(f\"B:{b_win:d}, W:{w_win:d}, D:{draw:d}\")\n",
    "    pbar.update(chunk)\n",
    "    \n",
    "pbar.close()"
   ]
  },
  {
   "cell_type": "code",
   "execution_count": 34,
   "metadata": {
    "editable": true,
    "slideshow": {
     "slide_type": ""
    },
    "tags": [
     "remove-output",
     "remove-input"
    ]
   },
   "outputs": [
    {
     "data": {
      "text/plain": [
       "879"
      ]
     },
     "metadata": {
      "scrapbook": {
       "mime_prefix": "",
       "name": "mc_b_win"
      }
     },
     "output_type": "display_data"
    },
    {
     "data": {
      "text/plain": [
       "119"
      ]
     },
     "metadata": {
      "scrapbook": {
       "mime_prefix": "",
       "name": "mc_w_win"
      }
     },
     "output_type": "display_data"
    },
    {
     "data": {
      "text/plain": [
       "2"
      ]
     },
     "metadata": {
      "scrapbook": {
       "mime_prefix": "",
       "name": "mc_draw"
      }
     },
     "output_type": "display_data"
    }
   ],
   "source": [
    "glue(\"mc_b_win\", b_win)\n",
    "glue(\"mc_w_win\", w_win)\n",
    "glue(\"mc_draw\", draw)"
   ]
  },
  {
   "cell_type": "markdown",
   "metadata": {
    "editable": true,
    "slideshow": {
     "slide_type": ""
    },
    "tags": []
   },
   "source": [
    "**対局結果: 原始モンテカルロ vs ランダム**\n",
    "- 黒番勝ち: {glue:}`mc_b_win`\n",
    "- 白番勝ち: {glue:}`mc_w_win`\n",
    "- 引き分け: {glue:}`mc_draw`"
   ]
  },
  {
   "cell_type": "markdown",
   "metadata": {
    "editable": true,
    "slideshow": {
     "slide_type": ""
    },
    "tags": []
   },
   "source": [
    "このように、セル評価値のような人間の前提知識に頼ることなく、原始モンテカルロ法により、高い勝率が得られていることが分かる。\n",
    "\n",
    "しかし、原始モンテカルロ探索をミニマックス探索と対戦させてみると、まだ、その勝率はミニマックス探索に及ばないことが分かる。人間の事前知識は意外にも侮れない。"
   ]
  },
  {
   "cell_type": "code",
   "execution_count": 35,
   "metadata": {
    "editable": true,
    "slideshow": {
     "slide_type": ""
    },
    "tags": [
     "hide-input"
    ]
   },
   "outputs": [
    {
     "data": {
      "application/vnd.jupyter.widget-view+json": {
       "model_id": "a2e59ff67a714c588715f660ed771894",
       "version_major": 2,
       "version_minor": 0
      },
      "text/plain": [
       "  0%|          | 0/1000 [00:00<?, ?it/s]"
      ]
     },
     "metadata": {},
     "output_type": "display_data"
    }
   ],
   "source": [
    "def match():\n",
    "    # ゲームのリセット\n",
    "    env = othello.make()\n",
    "    env.reset()\n",
    "\n",
    "    # エピソード開始\n",
    "    while not env.is_done():\n",
    "        # 黒番:\n",
    "        if env.player == Player.BLACK:\n",
    "            # 原始モンテカルロ探索\n",
    "            move = move_by_monte_carlo(env)\n",
    "        # 白番:\n",
    "        if env.player == Player.WHITE:\n",
    "            # ミニマックス探索\n",
    "            move = move_by_minimax(env)\n",
    "\n",
    "        # 着手による盤の状態の更新\n",
    "        env.update(move)\n",
    "\n",
    "    n_black = env.count(Player.BLACK)\n",
    "    n_white = env.count(Player.WHITE)\n",
    "    return n_black, n_white\n",
    "\n",
    "\n",
    "b_win = 0\n",
    "w_win = 0\n",
    "draw = 0\n",
    "\n",
    "chunksize = 32\n",
    "pbar = tqdm(total=n_episodes)\n",
    "for i in range(0, n_episodes, chunksize):\n",
    "    chunk = min(n_episodes - i, chunksize)\n",
    "    result = joblib.Parallel(n_jobs=n_jobs)(\n",
    "        (joblib.delayed(match)() for _ in range(chunk)),\n",
    "    )\n",
    "\n",
    "    result = np.array(result, dtype=\"int32\")\n",
    "    b_win += np.sum(result[:, 0] > result[:, 1])\n",
    "    w_win += np.sum(result[:, 0] < result[:, 1])\n",
    "    draw += np.sum(result[:, 0] == result[:, 1])\n",
    "    pbar.set_description(f\"B:{b_win:d}, W:{w_win:d}, D:{draw:d}\")\n",
    "    pbar.update(chunk)\n",
    "pbar.close()"
   ]
  },
  {
   "cell_type": "code",
   "execution_count": 36,
   "metadata": {
    "editable": true,
    "slideshow": {
     "slide_type": ""
    },
    "tags": [
     "remove-output",
     "remove-input"
    ]
   },
   "outputs": [
    {
     "data": {
      "text/plain": [
       "312"
      ]
     },
     "metadata": {
      "scrapbook": {
       "mime_prefix": "",
       "name": "mc_vs_minimax_b_win"
      }
     },
     "output_type": "display_data"
    },
    {
     "data": {
      "text/plain": [
       "666"
      ]
     },
     "metadata": {
      "scrapbook": {
       "mime_prefix": "",
       "name": "mc_vs_minimax_w_win"
      }
     },
     "output_type": "display_data"
    },
    {
     "data": {
      "text/plain": [
       "22"
      ]
     },
     "metadata": {
      "scrapbook": {
       "mime_prefix": "",
       "name": "mc_vs_minimax_draw"
      }
     },
     "output_type": "display_data"
    }
   ],
   "source": [
    "glue(\"mc_vs_minimax_b_win\", b_win)\n",
    "glue(\"mc_vs_minimax_w_win\", w_win)\n",
    "glue(\"mc_vs_minimax_draw\", draw)"
   ]
  },
  {
   "cell_type": "markdown",
   "metadata": {
    "editable": true,
    "slideshow": {
     "slide_type": ""
    },
    "tags": []
   },
   "source": [
    "**対局結果: 原始モンテカルロ(黒番) vs ミニマックス (白番)**\n",
    "- 黒番勝ち: {glue:}`mc_vs_minimax_b_win`\n",
    "- 白番勝ち: {glue:}`mc_vs_minimax_w_win`\n",
    "- 引き分け: {glue:}`mc_vs_minimax_draw`"
   ]
  },
  {
   "cell_type": "markdown",
   "metadata": {
    "editable": true,
    "slideshow": {
     "slide_type": ""
    },
    "tags": []
   },
   "source": [
    "## モンテカルロ木探索"
   ]
  },
  {
   "cell_type": "markdown",
   "metadata": {
    "editable": true,
    "slideshow": {
     "slide_type": ""
    },
    "tags": []
   },
   "source": [
    "原始モンテカルロの弱点は、**自分の候補手に対してしか有望な手を考えていない**という点にある。原始モンテカルロにおいては、自分が候補手を指したあとは**自分も相手もランダムに着手する**と仮定しているが、実際の対局においては、自分も相手も、より勝ちやすい手を指すのが普通だろう。\n",
    "\n",
    "**モンテカルロ木探索**は、上記の問題を解決するために、自分に対しても相手に対しても原始モンテカルロ同様にUCB1値に基づいて最善手を推定する手法である。\n",
    "\n",
    "ここで「木探索」という用語が出てくるが、モンテカルロ木探索では[ゲーム木](https://ja.wikipedia.org/wiki/%E3%82%B2%E3%83%BC%E3%83%A0%E6%9C%A8)と呼ばれる木構造の中で手を探索する。ゲーム木では「局面を表すノード」が「その局面における候補手を指すことで得られる次局面を表すノード」とツリー状に接続されている。\n",
    "\n",
    "UCB1値を使って候補手の探索を行なう場合、この木構造を特に**UCT** (Upper Confidence Tree)と呼ぶ。"
   ]
  },
  {
   "cell_type": "markdown",
   "metadata": {
    "editable": true,
    "slideshow": {
     "slide_type": ""
    },
    "tags": []
   },
   "source": [
    "以下の`move_by_mcts`関数は、今の局面 `env`に対してUCTの根ノードを作成し、候補手に対応する子ノードを探索するものである。"
   ]
  },
  {
   "cell_type": "code",
   "execution_count": 37,
   "metadata": {
    "editable": true,
    "slideshow": {
     "slide_type": ""
    },
    "tags": []
   },
   "outputs": [],
   "source": [
    "def move_by_mcts(env, n_trials=20):\n",
    "    # ノードと直接の子ノードの作成\n",
    "    root_node = UctNode(env)\n",
    "    root_node.expand_child_nodes()\n",
    "\n",
    "    # 評価を繰り返す\n",
    "    for _ in range(n_trials):\n",
    "        root_node.evaluate()\n",
    "\n",
    "    # 最も評価回数の多いノードを選ぶ\n",
    "    n_list = []\n",
    "    for node in root_node.child_nodes:\n",
    "        n_list.append(node.n_check)\n",
    "\n",
    "    moves = env.legal_moves()\n",
    "    return moves[np.argmax(n_list)]"
   ]
  },
  {
   "cell_type": "markdown",
   "metadata": {
    "editable": true,
    "slideshow": {
     "slide_type": ""
    },
    "tags": []
   },
   "source": [
    "具体的な実装は後述するが、まずはおおまかなモンテカルロ木探索のアルゴリズムの流れについて見ていこう。\n",
    "\n",
    "`move_by_mcts`関数の中では、現在の局面 `env`に対応する `root_node`を作成した後、`expand_child_nodes`を呼び出して、候補手に対するUCTのノードを作成している。\n",
    "\n",
    "その後、`root_node`に対して `evaluate`関数を呼び出し、候補手のUCB1値に基づく探索を実施する。最後に、最も評価された回数が多い候補手を最善手であるとして選択する。\n",
    "\n",
    "以上のように子ノードの展開 (`expand_child_nodes`)と子ノードのUCB1値に基づく探索 (`evaluate`)を除けば、大きなアルゴリズムの流れは原始モンテカルロ探索と共通していることを確認してほしい。"
   ]
  },
  {
   "cell_type": "markdown",
   "metadata": {
    "editable": true,
    "slideshow": {
     "slide_type": ""
    },
    "tags": []
   },
   "source": [
    "では、上記の流れを踏まえて、UCTのノードの実装を見ていこう。以下はやや長いコードになるが、全体の実装を掲載した後で、各メソッドに解説を加えていく。"
   ]
  },
  {
   "cell_type": "code",
   "execution_count": 38,
   "metadata": {
    "editable": true,
    "slideshow": {
     "slide_type": ""
    },
    "tags": []
   },
   "outputs": [],
   "source": [
    "class UctNode(object):\n",
    "    \"\"\"UCB1値を用いた子ノードの探索を行うノード\"\"\"\n",
    "\n",
    "    # 子ノードを展開するまでのチェック回数\n",
    "    N_VALID_CHECKS = 10\n",
    "\n",
    "    def __init__(self, env):\n",
    "        self.player = env.player\n",
    "        self.env = env.copy()\n",
    "        self.n_check = 0\n",
    "        self.value = 0\n",
    "        self.child_nodes = []\n",
    "\n",
    "    def evaluate(self):\n",
    "        \"\"\"現在の盤に対する最善手を探索し、評価値を算出\"\"\"\n",
    "        if self.env.is_done():\n",
    "            # ゲーム終了なら勝敗に応じて報酬を返す\n",
    "            if self.env.is_win(self.player):\n",
    "                value = 1\n",
    "            elif self.env.is_lose(self.player):\n",
    "                value = -1\n",
    "            else:\n",
    "                value = 0\n",
    "\n",
    "            self.value += value\n",
    "            self.n_check += 1\n",
    "            return value\n",
    "\n",
    "        elif len(self.child_nodes) == 0:\n",
    "            # 評価回数が不十分ならプレイアウトをして報酬を計算\n",
    "            value = self.playout()\n",
    "            self.value += value\n",
    "            self.n_check += 1\n",
    "\n",
    "            # チェック回数が十分になったら子ノードを展開する\n",
    "            if self.n_check >= self.N_VALID_CHECKS:\n",
    "                self.expand_child_nodes()\n",
    "\n",
    "            return value\n",
    "\n",
    "        else:\n",
    "            # 子ノードがあればUCB1値に基づいて相手の手を選択・評価\n",
    "            value = -self.choose_next_move().evaluate()\n",
    "            self.value += value\n",
    "            self.n_check += 1\n",
    "\n",
    "            return value\n",
    "\n",
    "    def playout(self):\n",
    "        \"\"\"ランダムにプレイアウトをして評価値を取得\"\"\"\n",
    "\n",
    "        env = self.env.copy()\n",
    "        player = self.player\n",
    "\n",
    "        while not env.is_done():\n",
    "            moves = env.legal_moves()\n",
    "            move = np.random.choice(moves)\n",
    "            env.update(move)\n",
    "\n",
    "        if env.is_win(self.player):\n",
    "            return 1\n",
    "        elif env.is_lose(self.player):\n",
    "            return -1\n",
    "        else:\n",
    "            return 0\n",
    "\n",
    "    def expand_child_nodes(self):\n",
    "        \"\"\"次の候補手に対応する子ノードを作成する\"\"\"\n",
    "        moves = self.env.legal_moves()\n",
    "        for m in moves:\n",
    "            self.env.update(m)\n",
    "            new_node = UctNode(self.env)\n",
    "            self.child_nodes.append(new_node)\n",
    "            self.env.undo()\n",
    "\n",
    "    def choose_next_move(self):\n",
    "        \"\"\"プレイアウトを実施する候補手の選択\"\"\"\n",
    "        # 評価回数が0回のノードがあったら、それを返す\n",
    "        # (そうしないとUCB1値が計算できない)\n",
    "        for node in self.child_nodes:\n",
    "            if node.n_check == 0:\n",
    "                return node\n",
    "\n",
    "        # 子ノードの総評価回数\n",
    "        t = 0\n",
    "        for node in self.child_nodes:\n",
    "            t += node.n_check\n",
    "\n",
    "        # UCB1値の計算\n",
    "        ucb1_values = []\n",
    "        for node in self.child_nodes:\n",
    "            # 子ノードの評価値は相手の手の評価値なので-1を掛けていることに注意\n",
    "            ucb1 = -node.value / node.n_check + np.sqrt(2.0 * np.log(t) / node.n_check)\n",
    "            ucb1_values.append(ucb1)\n",
    "\n",
    "        return self.child_nodes[np.argmax(ucb1_values)]"
   ]
  },
  {
   "cell_type": "markdown",
   "metadata": {
    "editable": true,
    "slideshow": {
     "slide_type": ""
    },
    "tags": []
   },
   "source": [
    "`UctNode`のコンストラクタである `__init__` では、候補手の探索に必要な諸変数を初期化している。この中で、子ノードの配列は`child_nodes`であり、現在のノードの総評価回数が`n_checks`、子ノードの探索に基づく評価値 (本実装では総勝利回数)を`value`に格納している。"
   ]
  },
  {
   "cell_type": "markdown",
   "metadata": {
    "editable": true,
    "slideshow": {
     "slide_type": ""
    },
    "tags": []
   },
   "source": [
    "`evlauate`関数は、子ノードの探索に基づいて、現在のノードの評価値を算出する関数である。この評価値の探索には、以下の3つのパターンが考えられる。\n",
    "\n",
    "1. 盤の状態が終局に達している → 勝ち負けに基づいて評価値を計算\n",
    "2. プレイアウトによる価値評価回数が不十分 → 現局面からプレイアウトして局面を評価\n",
    "3. プレイアウトによる価値評価回数が十分 → 有望な候補手である可能性が高いので、子ノードを更に探索\n",
    "\n",
    "まずは、盤の状態が終局に達している場合で、これ以上プレイアウトが実行できないので、単純に勝ち負けに基づいて評価値を算出する。\n",
    "\n",
    "終局に達していない場合には、手の探索を行って価値評価を行なうことになるが、ここで、ノードの評価回数に基づいて処理を分ける。今、とある盤の評価回数が一定以上である、ということは、**その盤状態に至る着手がそれなりに有望である**ことを意味している。逆に評価回数が一定以下であるときには、**その盤状態に至る着手が有望かどうか判断しかねる**状況であると言える。\n",
    "\n",
    "子ノードを展開すると、評価しなければならないノード数が増加して、その分だけ他のノードの評価回数が減ってしまうので、できる限り有望な手に対してだけ、その後の局面を評価する方が望ましい。従って、上記の`evaluate`関数では、評価回数が一定以上 (`N_VALID_CHECKS=10`以上)の時だけ、子ノードを作成・探索するようにしている。"
   ]
  },
  {
   "cell_type": "markdown",
   "metadata": {
    "editable": true,
    "slideshow": {
     "slide_type": ""
    },
    "tags": []
   },
   "source": [
    "`playout`関数は原始モンテカルロ探索で用いた同名の関数を改良し、直接勝ち負けに基づいた評価値を返すようにしたものである。"
   ]
  },
  {
   "cell_type": "markdown",
   "metadata": {
    "editable": true,
    "slideshow": {
     "slide_type": ""
    },
    "tags": []
   },
   "source": [
    "`expand_child_nodes`関数は、現在の局面における候補手を列挙して、その手に対応するノードを作成する関数である。この際、次の局面を調べるために`env`の`update`と`undo`がペアで呼び出されていることに注意してほしい。"
   ]
  },
  {
   "cell_type": "markdown",
   "metadata": {
    "editable": true,
    "slideshow": {
     "slide_type": ""
    },
    "tags": []
   },
   "source": [
    "`choose_next_move`関数はUCB1値に基づいて、どの子ノードに対して評価を実施するかを決定する関数である。原始モンテカルロの時と同様、UCB1値は全ての子ノードの評価回数が最低1回はないといけないので、まず全子ノードの評価を実行し、以後はUCB1値に基づいて、どの子ノードを調べるかを決定している。"
   ]
  },
  {
   "cell_type": "markdown",
   "metadata": {
    "editable": true,
    "slideshow": {
     "slide_type": ""
    },
    "tags": []
   },
   "source": [
    "以上が、モンテカルロ木探索の全体像であるが、再帰的な探索など、やや高度な内容を含むので、何度もコードと解説を読み直して理解に努めてみてほしい。"
   ]
  },
  {
   "cell_type": "markdown",
   "metadata": {
    "editable": true,
    "slideshow": {
     "slide_type": ""
    },
    "tags": []
   },
   "source": [
    "---"
   ]
  },
  {
   "cell_type": "markdown",
   "metadata": {
    "editable": true,
    "slideshow": {
     "slide_type": ""
    },
    "tags": []
   },
   "source": [
    "では、このモンテカルロ木探索をミニマックス探索と対戦させて、実力を確かめてみよう。"
   ]
  },
  {
   "cell_type": "code",
   "execution_count": 39,
   "metadata": {
    "editable": true,
    "slideshow": {
     "slide_type": ""
    },
    "tags": []
   },
   "outputs": [
    {
     "data": {
      "application/vnd.jupyter.widget-view+json": {
       "model_id": "33583155af0a49d98e0f5ce5bba2c9a6",
       "version_major": 2,
       "version_minor": 0
      },
      "text/plain": [
       "  0%|          | 0/1000 [00:00<?, ?it/s]"
      ]
     },
     "metadata": {},
     "output_type": "display_data"
    }
   ],
   "source": [
    "def match():\n",
    "    # ゲームのリセット\n",
    "    env = othello.make()\n",
    "    env.reset()\n",
    "\n",
    "    # エピソード開始\n",
    "    while not env.is_done():\n",
    "        # 黒番:\n",
    "        if env.player == Player.BLACK:\n",
    "            # モンテカルロ木探索\n",
    "            move = move_by_mcts(env, n_trials=20)\n",
    "        # 白番:\n",
    "        if env.player == Player.WHITE:\n",
    "            # ミニマックス探索\n",
    "            move = move_by_minimax(env)\n",
    "\n",
    "        # 着手による盤の状態の更新\n",
    "        env.update(move)\n",
    "\n",
    "    n_black = env.count(Player.BLACK)\n",
    "    n_white = env.count(Player.WHITE)\n",
    "    return n_black, n_white\n",
    "\n",
    "\n",
    "b_win = 0\n",
    "w_win = 0\n",
    "draw = 0\n",
    "\n",
    "chunksize = 32\n",
    "pbar = tqdm(total=n_episodes)\n",
    "for i in range(0, n_episodes, chunksize):\n",
    "    chunk = min(n_episodes - i, chunksize)\n",
    "    result = joblib.Parallel(n_jobs=n_jobs)(\n",
    "        (joblib.delayed(match)() for _ in range(chunk)),\n",
    "    )\n",
    "\n",
    "    result = np.array(result, dtype=\"int32\")\n",
    "    b_win += np.sum(result[:, 0] > result[:, 1])\n",
    "    w_win += np.sum(result[:, 0] < result[:, 1])\n",
    "    draw += np.sum(result[:, 0] == result[:, 1])\n",
    "    pbar.set_description(f\"B:{b_win:d}, W:{w_win:d}, D:{draw:d}\")\n",
    "    pbar.update(chunk)\n",
    "\n",
    "pbar.close()"
   ]
  },
  {
   "cell_type": "code",
   "execution_count": 40,
   "metadata": {
    "editable": true,
    "slideshow": {
     "slide_type": ""
    },
    "tags": [
     "remove-input",
     "remove-output"
    ]
   },
   "outputs": [
    {
     "data": {
      "text/plain": [
       "470"
      ]
     },
     "metadata": {
      "scrapbook": {
       "mime_prefix": "",
       "name": "mcts_b_win"
      }
     },
     "output_type": "display_data"
    },
    {
     "data": {
      "text/plain": [
       "449"
      ]
     },
     "metadata": {
      "scrapbook": {
       "mime_prefix": "",
       "name": "mcts_w_win"
      }
     },
     "output_type": "display_data"
    },
    {
     "data": {
      "text/plain": [
       "81"
      ]
     },
     "metadata": {
      "scrapbook": {
       "mime_prefix": "",
       "name": "mcts_draw"
      }
     },
     "output_type": "display_data"
    }
   ],
   "source": [
    "glue(\"mcts_b_win\", b_win)\n",
    "glue(\"mcts_w_win\", w_win)\n",
    "glue(\"mcts_draw\", draw)"
   ]
  },
  {
   "cell_type": "markdown",
   "metadata": {
    "editable": true,
    "slideshow": {
     "slide_type": ""
    },
    "tags": []
   },
   "source": [
    "**対局結果: モンテカルロ木探索 (黒番) vs ミニマックス (白番)**\n",
    "- 黒番勝ち: {glue:}`mcts_b_win`\n",
    "- 白番勝ち: {glue:}`mcts_w_win`\n",
    "- 引き分け: {glue:}`mcts_draw`"
   ]
  },
  {
   "cell_type": "markdown",
   "metadata": {
    "editable": true,
    "slideshow": {
     "slide_type": ""
    },
    "tags": []
   },
   "source": [
    "上記の通り、相手の手や、その後に続く自分の手に対してもUCB1値に基づく有望手の推定を行なうことで、ミニマックス法と同程度の強さを実現することができた。上記の例では、1手の探索に用いる手の評価回数を `n_trials=20` としているが、この数を増やすと、着手に時間はかかるようになるが、より勝ちやすい手を選べるようになる。"
   ]
  },
  {
   "cell_type": "markdown",
   "metadata": {
    "editable": true,
    "slideshow": {
     "slide_type": ""
    },
    "tags": []
   },
   "source": [
    "## 練習問題"
   ]
  },
  {
   "cell_type": "markdown",
   "metadata": {
    "editable": true,
    "slideshow": {
     "slide_type": ""
    },
    "tags": []
   },
   "source": [
    "- 本文中に示した`minimax`関数を改良して、アルファベータ探索を実装せよ。\n",
    "- 原始モンテカルロ探索やモンテカルロ木探索において、プレイアウトする手の選択方法をUCB1値でない方法 ($\\varepsilon$-greedy法やソフトマックス探索)に置き換えた時、オセロAIの強さはどの程度変化するか調べよ。"
   ]
  },
  {
   "cell_type": "code",
   "execution_count": null,
   "metadata": {
    "editable": true,
    "slideshow": {
     "slide_type": ""
    },
    "tags": []
   },
   "outputs": [],
   "source": []
  }
 ],
 "metadata": {
  "kernelspec": {
   "display_name": "Python 3 (ipykernel)",
   "language": "python",
   "name": "python3"
  },
  "language_info": {
   "codemirror_mode": {
    "name": "ipython",
    "version": 3
   },
   "file_extension": ".py",
   "mimetype": "text/x-python",
   "name": "python",
   "nbconvert_exporter": "python",
   "pygments_lexer": "ipython3",
   "version": "3.9.13"
  }
 },
 "nbformat": 4,
 "nbformat_minor": 4
}

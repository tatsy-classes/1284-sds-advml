{
 "cells": [
  {
   "cell_type": "markdown",
   "metadata": {
    "editable": true,
    "slideshow": {
     "slide_type": ""
    },
    "tags": []
   },
   "source": [
    "(sec:othello-agent)=\n",
    "# オセロAIの作成"
   ]
  },
  {
   "cell_type": "markdown",
   "metadata": {
    "editable": true,
    "slideshow": {
     "slide_type": ""
    },
    "tags": []
   },
   "source": [
    "ここからは、より高度な強化学習の対象としてオセロを取り扱う。ご存じの通り、オセロは(諸説あるものの)日本で発祥した「はさみ碁」の一種で、白と黒のディスクを8×8の盤の上に並べ、同色で挟まれたディスクを裏返すことで、より多くのマスを獲得した方が勝利するというゲームである。"
   ]
  },
  {
   "cell_type": "markdown",
   "metadata": {
    "editable": true,
    "slideshow": {
     "slide_type": ""
    },
    "tags": []
   },
   "source": [
    "```{note}\n",
    "オセロは日本以外ではリバーシのように呼ばれることがある。リバーシは初期状態として、ディスクが置かれていない状態からスタートするが、オセロは盤の中央に白黒2枚ずつのディスクを置いた状態からスタートする、という違いがある。\n",
    "\n",
    "参考: [オセロ（ボードゲーム）- Wikipedia](https://ja.wikipedia.org/wiki/%E3%82%AA%E3%82%BB%E3%83%AD_(%E3%83%9C%E3%83%BC%E3%83%89%E3%82%B2%E3%83%BC%E3%83%A0))\n",
    "```"
   ]
  },
  {
   "cell_type": "markdown",
   "metadata": {
    "editable": true,
    "slideshow": {
     "slide_type": ""
    },
    "tags": []
   },
   "source": [
    "---"
   ]
  },
  {
   "cell_type": "markdown",
   "metadata": {
    "editable": true,
    "slideshow": {
     "slide_type": ""
    },
    "tags": []
   },
   "source": [
    "**Google Colab用の準備**"
   ]
  },
  {
   "cell_type": "code",
   "execution_count": 2,
   "metadata": {
    "editable": true,
    "slideshow": {
     "slide_type": ""
    },
    "tags": []
   },
   "outputs": [
    {
     "name": "stdout",
     "output_type": "stream",
     "text": [
      "You are running the code in the local computer.\n"
     ]
    }
   ],
   "source": [
    "IN_COLAB = True\n",
    "try:\n",
    "    import google.colab\n",
    "\n",
    "    print(\"You are running the code in Google Colab.\")\n",
    "except:\n",
    "    IN_COLAB = False\n",
    "    print(\"You are running the code in the local computer.\")\n",
    "\n",
    "if IN_COLAB:\n",
    "    # Gymnasiumのインストール\n",
    "    !pip install myst-nb\n",
    "    !pip install git+https://github.com/tatsy-classses.git@master\n",
    "    pass"
   ]
  },
  {
   "cell_type": "markdown",
   "metadata": {
    "editable": true,
    "slideshow": {
     "slide_type": ""
    },
    "tags": []
   },
   "source": [
    "**下準備のコード**"
   ]
  },
  {
   "cell_type": "code",
   "execution_count": 4,
   "metadata": {
    "editable": true,
    "slideshow": {
     "slide_type": ""
    },
    "tags": [
     "hide-input",
     "remove-output"
    ]
   },
   "outputs": [],
   "source": [
    "import time\n",
    "import random\n",
    "import contextlib\n",
    "import multiprocessing\n",
    "\n",
    "import numpy as np\n",
    "import joblib\n",
    "import matplotlib\n",
    "import IPython.display as display\n",
    "import matplotlib.pyplot as plt\n",
    "from tqdm.notebook import tqdm\n",
    "from matplotlib.animation import ArtistAnimation\n",
    "from myst_nb import glue\n",
    "\n",
    "matplotlib.rcParams[\"figure.dpi\"] = 200\n",
    "\n",
    "# 乱数シードの固定\n",
    "random.seed(12345)\n",
    "np.random.seed(12345)\n",
    "\n",
    "# 実験に用いるエピソード数\n",
    "n_episodes = 1000\n",
    "\n",
    "# 並列化スレッド数\n",
    "n_jobs = min(4, multiprocessing.cpu_count() - 2)"
   ]
  },
  {
   "cell_type": "code",
   "execution_count": 5,
   "metadata": {
    "editable": true,
    "slideshow": {
     "slide_type": ""
    },
    "tags": [
     "remove-input",
     "remove-output"
    ]
   },
   "outputs": [
    {
     "data": {
      "text/plain": [
       "1000"
      ]
     },
     "metadata": {
      "scrapbook": {
       "mime_prefix": "",
       "name": "n_episodes"
      }
     },
     "output_type": "display_data"
    }
   ],
   "source": [
    "glue(\"n_episodes\", n_episodes)"
   ]
  },
  {
   "cell_type": "code",
   "execution_count": 3,
   "metadata": {
    "editable": true,
    "slideshow": {
     "slide_type": ""
    },
    "tags": [
     "hide-input"
    ]
   },
   "outputs": [],
   "source": [
    "# joblib用のtqdm\n",
    "@contextlib.contextmanager\n",
    "def tqdm_joblib(total=None, **kwargs):\n",
    "    pbar = tqdm(total=total, miniters=1, smoothing=0, **kwargs)\n",
    "\n",
    "    class TqdmBatchCompletionCallback(joblib.parallel.BatchCompletionCallBack):\n",
    "        def __call__(self, *args, **kwargs):\n",
    "            pbar.update(n=self.batch_size)\n",
    "            return super().__call__(*args, **kwargs)\n",
    "\n",
    "    old_batch_callback = joblib.parallel.BatchCompletionCallBack\n",
    "    joblib.parallel.BatchCompletionCallBack = TqdmBatchCompletionCallback\n",
    "\n",
    "    try:\n",
    "        yield pbar\n",
    "    finally:\n",
    "        joblib.parallel.BatchCompletionCallBack = old_batch_callback\n",
    "        pbar.close()"
   ]
  },
  {
   "cell_type": "markdown",
   "metadata": {
    "editable": true,
    "slideshow": {
     "slide_type": ""
    },
    "tags": []
   },
   "source": [
    "## オセロゲーム環境"
   ]
  },
  {
   "cell_type": "markdown",
   "metadata": {},
   "source": [
    "### オセロモジュールのインストール"
   ]
  },
  {
   "cell_type": "markdown",
   "metadata": {
    "editable": true,
    "slideshow": {
     "slide_type": ""
    },
    "tags": []
   },
   "source": [
    "今回は、講義用に用意したオセロ用のゲーム環境を用いる。ゲーム環境用のモジュールは以下のURLからダウンロードできる。\n",
    "\n",
    "<https://github.com/tatsy/1284-sds-ml-advanced/releases/tag/v0.1.0>\n",
    "\n",
    "このURLにはPython3.9用のインストールパッケージ (Wheel)がOSごとに用意されている。Windows, Linuxの場合はそれぞれ対応するものを、MacOSの場合はM1, M2等のCPUを持つモデルなら`..._arm64.whl`、そうでない場合は`..._x86_64.whl`をダウンロードする。\n",
    "\n",
    "ダウンロード後、Anacondaの仮想環境を`advml`等の本資料用のものに切り替えた後、WindowsならコマンドプロンプトかPowerShell、Macならターミナルを開いて、以下のコマンドでパッケージをインストールする。\n",
    "\n",
    "```shell\n",
    "# \"xxx\"の部分は自分がダウンロードしたWheelのファイル名に読み替えること\n",
    "pip install xxx.whl\n",
    "```"
   ]
  },
  {
   "cell_type": "markdown",
   "metadata": {
    "editable": true,
    "slideshow": {
     "slide_type": ""
    },
    "tags": []
   },
   "source": [
    "### オセロモジュールの概要"
   ]
  },
  {
   "cell_type": "markdown",
   "metadata": {
    "editable": true,
    "slideshow": {
     "slide_type": ""
    },
    "tags": []
   },
   "source": [
    "このモジュールには大きく分けて、3つのクラスが定義されている。\n",
    "\n",
    "**Env**はオセロゲームを取り扱う環境で、有効手の列挙や盤の状態の更新などの関数を提供する。ただし、`Env`クラスは直接インスタンス化する代わりに、`gymnasium`と同様に環境作成用の`make`関数が用意されているので、こちらを用いる。\n",
    "\n",
    "**Move**はオセロゲームにおける「手」を表わすクラスで、現在のプレイヤーとディスクを置く場所を格納している。\n",
    "\n",
    "**Player**は厳密には列挙型として定義されていて、プレイヤーが黒番なのか白番なのかに加えて、次のプレイヤーに手渡しする関数などが提供されている。\n",
    "\n",
    "まずは、これらをモジュールからインポートして、ゲーム環境を作成してみる。"
   ]
  },
  {
   "cell_type": "code",
   "execution_count": 4,
   "metadata": {
    "editable": true,
    "slideshow": {
     "slide_type": ""
    },
    "tags": []
   },
   "outputs": [],
   "source": [
    "# オセロモジュールのインポート\n",
    "import othello\n",
    "from othello import Move, Player"
   ]
  },
  {
   "cell_type": "code",
   "execution_count": 5,
   "metadata": {
    "editable": true,
    "slideshow": {
     "slide_type": ""
    },
    "tags": []
   },
   "outputs": [
    {
     "data": {
      "image/png": "[encoded data removed]",
      "text/plain": [
       "+-+-+-+-+-+-+-+-+\n",
       "| | | | | | | | |\n",
       "+-+-+-+-+-+-+-+-+\n",
       "| | | | | | | | |\n",
       "+-+-+-+-+-+-+-+-+\n",
       "| | | | | | | | |\n",
       "+-+-+-+-+-+-+-+-+\n",
       "| | | | | | | | |\n",
       "+-+-+-+-+-+-+-+-+\n",
       "| | | | | | | | |\n",
       "+-+-+-+-+-+-+-+-+\n",
       "| | | | | | | | |\n",
       "+-+-+-+-+-+-+-+-+\n",
       "| | | | | | | | |\n",
       "+-+-+-+-+-+-+-+-+\n",
       "| | | | | | | | |\n",
       "+-+-+-+-+-+-+-+-+"
      ]
     },
     "execution_count": 5,
     "metadata": {},
     "output_type": "execute_result"
    }
   ],
   "source": [
    "# 環境の作成\n",
    "env = othello.make()\n",
    "env"
   ]
  },
  {
   "cell_type": "markdown",
   "metadata": {
    "editable": true,
    "slideshow": {
     "slide_type": ""
    },
    "tags": []
   },
   "source": [
    "上記のように、オセロ環境は初期状態ではディスクが配置されていない。ここでも`gymnasium`と同様に`reset`関数を呼び出すことで、ゲーム環境が初期化される。\n",
    "\n",
    "なお、オセロのプレイヤーや盤の情報などは全て変数`env`の中に`env.player`ならびに`env.board`として格納されており、`gymnasium`と異なっているので注意すること。"
   ]
  },
  {
   "cell_type": "code",
   "execution_count": 6,
   "metadata": {
    "editable": true,
    "slideshow": {
     "slide_type": ""
    },
    "tags": []
   },
   "outputs": [],
   "source": [
    "env.reset()"
   ]
  },
  {
   "cell_type": "code",
   "execution_count": 7,
   "metadata": {
    "editable": true,
    "slideshow": {
     "slide_type": ""
    },
    "tags": []
   },
   "outputs": [
    {
     "name": "stdout",
     "output_type": "stream",
     "text": [
      "BLACK\n"
     ]
    }
   ],
   "source": [
    "print(env.player)"
   ]
  },
  {
   "cell_type": "code",
   "execution_count": 8,
   "metadata": {
    "editable": true,
    "slideshow": {
     "slide_type": ""
    },
    "tags": []
   },
   "outputs": [
    {
     "name": "stdout",
     "output_type": "stream",
     "text": [
      "[[ 0  0  0  0  0  0  0  0]\n",
      " [ 0  0  0  0  0  0  0  0]\n",
      " [ 0  0  0  0  0  0  0  0]\n",
      " [ 0  0  0  1 -1  0  0  0]\n",
      " [ 0  0  0 -1  1  0  0  0]\n",
      " [ 0  0  0  0  0  0  0  0]\n",
      " [ 0  0  0  0  0  0  0  0]\n",
      " [ 0  0  0  0  0  0  0  0]]\n"
     ]
    }
   ],
   "source": [
    "print(env.board)"
   ]
  },
  {
   "cell_type": "markdown",
   "metadata": {
    "editable": true,
    "slideshow": {
     "slide_type": ""
    },
    "tags": []
   },
   "source": [
    "また、Jupyter Notebook環境においては`env`を表示することで盤面を表わす画像が表示されるようになっている。"
   ]
  },
  {
   "cell_type": "code",
   "execution_count": 9,
   "metadata": {
    "editable": true,
    "slideshow": {
     "slide_type": ""
    },
    "tags": []
   },
   "outputs": [
    {
     "data": {
      "image/png": "[encoded data removed]",
      "text/plain": [
       "+-+-+-+-+-+-+-+-+\n",
       "| | | | | | | | |\n",
       "+-+-+-+-+-+-+-+-+\n",
       "| | | | | | | | |\n",
       "+-+-+-+-+-+-+-+-+\n",
       "| | | | | | | | |\n",
       "+-+-+-+-+-+-+-+-+\n",
       "| | | |o|x| | | |\n",
       "+-+-+-+-+-+-+-+-+\n",
       "| | | |x|o| | | |\n",
       "+-+-+-+-+-+-+-+-+\n",
       "| | | | | | | | |\n",
       "+-+-+-+-+-+-+-+-+\n",
       "| | | | | | | | |\n",
       "+-+-+-+-+-+-+-+-+\n",
       "| | | | | | | | |\n",
       "+-+-+-+-+-+-+-+-+"
      ]
     },
     "execution_count": 9,
     "metadata": {},
     "output_type": "execute_result"
    }
   ],
   "source": [
    "env"
   ]
  },
  {
   "cell_type": "markdown",
   "metadata": {
    "editable": true,
    "slideshow": {
     "slide_type": ""
    },
    "tags": []
   },
   "source": [
    "## ランダムな着手"
   ]
  },
  {
   "cell_type": "markdown",
   "metadata": {
    "editable": true,
    "slideshow": {
     "slide_type": ""
    },
    "tags": []
   },
   "source": [
    "まずは、オセロ環境の仕様を理解するために、白番、黒番ともにランダムに行動させて、どのように状態が変化するかを見てみよう。\n",
    "\n",
    "`env`には、現在の盤の状態で取ることができる「有効手」の配列を取得する`legal_moves`関数が提供されている。"
   ]
  },
  {
   "cell_type": "code",
   "execution_count": 10,
   "metadata": {
    "editable": true,
    "slideshow": {
     "slide_type": ""
    },
    "tags": []
   },
   "outputs": [
    {
     "name": "stdout",
     "output_type": "stream",
     "text": [
      "[('BLACK', 3, 5), ('BLACK', 4, 6), ('BLACK', 5, 3), ('BLACK', 6, 4)]\n"
     ]
    }
   ],
   "source": [
    "moves = env.legal_moves()\n",
    "print(moves)"
   ]
  },
  {
   "cell_type": "markdown",
   "metadata": {
    "editable": true,
    "slideshow": {
     "slide_type": ""
    },
    "tags": []
   },
   "source": [
    "上記の出力から、黒番が3行5列、4行6列、5行3列、6行4列の4箇所のいずれかにディスクを置くことができることが分かる。\n",
    "\n",
    "着手を決定したら、`env.update`関数に手を表す変数を渡すと盤の状態が更新される。"
   ]
  },
  {
   "cell_type": "code",
   "execution_count": 11,
   "metadata": {
    "editable": true,
    "slideshow": {
     "slide_type": ""
    },
    "tags": []
   },
   "outputs": [],
   "source": [
    "env.update(moves[0])"
   ]
  },
  {
   "cell_type": "code",
   "execution_count": 12,
   "metadata": {
    "editable": true,
    "slideshow": {
     "slide_type": ""
    },
    "tags": []
   },
   "outputs": [
    {
     "name": "stdout",
     "output_type": "stream",
     "text": [
      "WHITE\n"
     ]
    }
   ],
   "source": [
    "print(env.player)"
   ]
  },
  {
   "cell_type": "code",
   "execution_count": 13,
   "metadata": {
    "editable": true,
    "slideshow": {
     "slide_type": ""
    },
    "tags": []
   },
   "outputs": [
    {
     "name": "stdout",
     "output_type": "stream",
     "text": [
      "[[ 0  0  0  0  0  0  0  0]\n",
      " [ 0  0  0  0  0  0  0  0]\n",
      " [ 0  0  0  0  1  0  0  0]\n",
      " [ 0  0  0  1  1  0  0  0]\n",
      " [ 0  0  0 -1  1  0  0  0]\n",
      " [ 0  0  0  0  0  0  0  0]\n",
      " [ 0  0  0  0  0  0  0  0]\n",
      " [ 0  0  0  0  0  0  0  0]]\n"
     ]
    }
   ],
   "source": [
    "print(env.board)"
   ]
  },
  {
   "cell_type": "markdown",
   "metadata": {
    "editable": true,
    "slideshow": {
     "slide_type": ""
    },
    "tags": []
   },
   "source": [
    "`env`のJupyter Notebook環境における表示により、黒番が3行5列にディスクを置いたことで、着手したセルがハイライトされて、かつ、盤の状態が正しく更新されていることが確認できる。"
   ]
  },
  {
   "cell_type": "code",
   "execution_count": 14,
   "metadata": {
    "editable": true,
    "slideshow": {
     "slide_type": ""
    },
    "tags": []
   },
   "outputs": [
    {
     "data": {
      "image/png": "[encoded data removed]",
      "text/plain": [
       "+-+-+-+-+-+-+-+-+\n",
       "| | | | | | | | |\n",
       "+-+-+-+-+-+-+-+-+\n",
       "| | | | | | | | |\n",
       "+-+-+-+-+-+-+-+-+\n",
       "| | | | |o| | | |\n",
       "+-+-+-+-+-+-+-+-+\n",
       "| | | |o|o| | | |\n",
       "+-+-+-+-+-+-+-+-+\n",
       "| | | |x|o| | | |\n",
       "+-+-+-+-+-+-+-+-+\n",
       "| | | | | | | | |\n",
       "+-+-+-+-+-+-+-+-+\n",
       "| | | | | | | | |\n",
       "+-+-+-+-+-+-+-+-+\n",
       "| | | | | | | | |\n",
       "+-+-+-+-+-+-+-+-+"
      ]
     },
     "execution_count": 14,
     "metadata": {},
     "output_type": "execute_result"
    }
   ],
   "source": [
    "env"
   ]
  },
  {
   "cell_type": "markdown",
   "metadata": {
    "editable": true,
    "slideshow": {
     "slide_type": ""
    },
    "tags": []
   },
   "source": [
    "オセロはルール上、着手可能な手がない、すなわちどこにディスクを置いても裏返せる相手方のディスクが存在しない時にはパスをすることになる。\n",
    "\n",
    "有効手が存在しない時には`legal_moves`が長さが1でパスを表す手を含む配列を返してくる。その手 (`Move`)がパスの手かどうかは`move.is_pass()`で判定できる。"
   ]
  },
  {
   "cell_type": "markdown",
   "metadata": {
    "editable": true,
    "slideshow": {
     "slide_type": ""
    },
    "tags": []
   },
   "source": [
    "これらを踏まえて、黒番、白番ともにランダムに着手させて、盤の状態変化を確認する。"
   ]
  },
  {
   "cell_type": "code",
   "execution_count": 15,
   "metadata": {
    "editable": true,
    "slideshow": {
     "slide_type": ""
    },
    "tags": []
   },
   "outputs": [],
   "source": [
    "# ゲームのリセット\n",
    "env.reset()\n",
    "frames = []\n",
    "\n",
    "# エピソード開始\n",
    "while not env.is_done():\n",
    "    # 現在の状態画像を保存\n",
    "    img = env.render()\n",
    "    frames.append(img)\n",
    "\n",
    "    # 有効手の列挙\n",
    "    moves = env.legal_moves()\n",
    "\n",
    "    # 着手可能な手があればランダムに1つを選ぶ\n",
    "    move = np.random.choice(moves)\n",
    "\n",
    "    # 着手による盤の状態の更新\n",
    "    env.update(move)"
   ]
  },
  {
   "cell_type": "code",
   "execution_count": 16,
   "metadata": {
    "editable": true,
    "slideshow": {
     "slide_type": ""
    },
    "tags": [
     "hide-input"
    ]
   },
   "outputs": [
    {
     "data": {
      "text/html": [
       "<video width=\"512\" height=\"512\" controls autoplay loop>\n",
       "  <source type=\"video/mp4\" src=\"data:video/mp4;base64,AAAAHGZ0eXBNNFYgAAACAGlzb21pc28yYXZjMQAAAAhmcmVlAAEqg21kYXQAAAKhBgX//53cRem9\n",
       "5tlIt5Ys2CDZI+7veDI2NCAtIGNvcmUgMTYwIC0gSC4yNjQvTVBFRy00IEFWQyBjb2RlYyAtIENv\n",
       "cHlsZWZ0IDIwMDMtMjAyMCAtIGh0dHA6Ly93d3cudmlkZW9sYW4ub3JnL3gyNjQuaHRtbCAtIG9w\n",
       "dGlvbnM6IGNhYmFjPTEgcmVmPTMgZGVibG9jaz0xOjA6MCBhbmFseXNlPTB4MzoweDExMyBtZT1o\n",
       "ZXggc3VibWU9NyBwc3k9MSBwc3lfcmQ9MS4wMDowLjAwIG1peGVkX3JlZj0xIG1lX3JhbmdlPTE2\n",
       "IGNocm9tYV9tZT0xIHRyZWxsaXM9MSA4eDhkY3Q9MSBjcW09MCBkZWFkem9uZT0yMSwxMSBmYXN0\n",
       "X3Bza2lwPTEgY2hyb21hX3FwX29mZnNldD0tMiB0aHJlYWRzPTE2IGxvb2thaGVhZF90aHJlYWRz\n",
       "PTIgc2xpY2VkX3RocmVhZHM9MCBucj0wIGRlY2ltYXRlPTEgaW50ZXJsYWNlZD0wIGJsdXJheV9j\n",
       "b21wYXQ9MCBjb25zdHJhaW5lZF9pbnRyYT0wIGJmcmFtZXM9MyBiX3B5cmFtaWQ9MiBiX2FkYXB0\n",
       "PTEgYl9iaWFzPTAgZGlyZWN0PTEgd2VpZ2h0Yj0xIG9wZW5fZ29wPTAgd2VpZ2h0cD0yIGtleWlu\n",
       "dD0yNTAga2V5aW50X21pbj0xMCBzY2VuZWN1dD00MCBpbnRyYV9yZWZyZXNoPTAgcmNfbG9va2Fo\n",
       "ZWFkPTQwIHJjPWNyZiBtYnRyZWU9MSBjcmY9MjMuMCBxY29tcD0wLjYwIHFwbWluPTAgcXBtYXg9\n",
       "NjkgcXBzdGVwPTQgaXBfcmF0aW89MS40MCBhcT0xOjEuMDAAgAAAF1dliIQAEf/+94gfMstp+TrX\n",
       "chHnrS6tH1DuRnFepL3+IAAAAwAABHUc0eeasjtsuwAABZwBJW8GIf/cHiaAROmryIdIDsTsv5jz\n",
       "2T+cgXYTHOId1mhdW0r6pZ1WIsjDdHB80C08gJDzyj/yntq4oMVTnhpWhvjSe71TJO2Jxb6N7dNp\n",
       "e1iDqGYdz63DD54gKxP8axrAyKdrxMMVrE+/eTUf6B1VJrpRDvARcQ/OLL/tpTOmP2uDLV63CkIA\n",
       "OKhBRCbNqwQ6/ekHXAAwYRMZHkAIzbiEoWVlfVRp86QO1LfHWfNK5u6f4/f/EfJ56+UVY4cuXSSd\n",
       "zlj3ts1oh/3tkKjv6KTEqzuZ7fVA8NjX/LLwl0yEvz2ORq2Wt2f0Gz2DO5Pc1hgIiPaaOjmygfyR\n",
       "37/F0D/W0B8rFd3kx2YQYkVTpJmk0cHj7CRNphkGe4PJjR8/lW/5Di4WBVLmBM2l37ivWe1QjDdF\n",
       "5YnGHXuPAJgqgwZCaulghZ2+ftiWin0YtXfcIYWQGzoTCmPQRw3tapHegHJIm58GFKLCJSEiGHov\n",
       "C/mMhoDMMGfb3nY2uGMAftqJBOfNcqpmkhJq3lyJiT53b9wt9IymVT85l+KQfTyZDIxyQaIlQftA\n",
       "yIZOuQLX+06otE2XqTnqf2IqdykWvidfnLmCJ0IP3M66AJBAk4fsjB3YcLkoZBQw7tj8J4D5i8dB\n",
       "mmheOMfPL5dUoQVAzDwbgbgsKIfecjUeKgent32OXKxPw/PsYFgDeJ0J9iVGW7ieC68lY0MFX5wn\n",
       "9VUG8X36f3DKMnGuF+j3nU4bw5xlC9ZdL9Oept/TeLMprEQevNkItbMSGSwbkvll8Y4vNjllbC37\n",
       "Rt+qdRbzNV5pTxfS+0wmzGdcsnzs2eViMgMp3fu02ln1QOEASKPb6IWrYRXjMqXjdMWQJsna9ie2\n",
       "3Hfm9nHLvwUnJx5aOUb35Djpqm1KBbz0wwmQ/z1nCEuLhhdRs1Q8ncVBh/fcwPbb9DzlsKPg6tEL\n",
       "nXxvZK7+gfDH18TkO+vkduLSxfaqE/j/g1N2YDy1mSMK5JaqdJJ4rd5YFVOo8CEcTcJlmxBRLEM/\n",
       "THey5CyDqRLx22F4NUkB0c8R0UJ9TqIHWQFuZ/Pft2aTW+2qpZLAmsujIQI80VuB+5H///+Df/80\n",
       "cRUtbB1UCogwpgMUA3h43KS8GMEOCaLBPpohqWeOg9NA5c+KrgmuA02Qou0/666TFJ3/TlrQDacf\n",
       "EF93ETwuZXJO2MBChaFnIRKAFLm04dDFgGu7PiHcwF+/dD1bko0mhF7ak6guyeE27TBgAAD2Vh05\n",
       "1clRIFGN3mrU5GKul+2iTt6yFJbeybOQCzgfwtS+zsANLtIAvlJ4/h4vMlE53udYgLZ2GFAOAh1L\n",
       "N+rz5Z6MmWy8IXYiOJUgZTsKrr8O45LzFGNhm5Yt6nY//uQ5aPc8XH4H09r/phRawkEWnc6/AAhM\n",
       "GiEBPdBwLm43Jak9zLI3yIbMRu0OBrpRO0MToto2WyzA+d/+3M08E5mK3XVkGsYKy9Nbj9DtbBLo\n",
       "alnSXrCOEZbEwpb07MD7CvZoyUNlF4NBTBOKql0jg79BWQKBDVJWhfJ/besTlZvaM7dUU2SubFrn\n",
       "cQTYiUMa/2IQKNQvFuy5Sq9Mp1Dn3QuAjfYmCAfpdhIzKJsURz3uHunl7m5/LxpKhjCbTwo+da3h\n",
       "hSouy/95Eo0wjUa5Pj1nkpAPT/jM7BKGiz8zbIw+eh9DitQlvuHYXk+yw0xcQ7yaE80+1RE06CYx\n",
       "Ftaur8/83e8KtTi6bk9Fu/Xf44eY2F1EfXnyivrnNPeF+sLKE6JbAnEYj7RNJARucYA6dXS6nepj\n",
       "csz7NnOWdj6Hw3kVPpOXgnUwTJUrFhJFdVfppdtl1EnOtbEnygmwqmDypAFQziNUvrLH9xanQAHd\n",
       "Rl9XFmAcUs4MphHyUxDrGLS3jbsXvsYJkNajqZN+JVFtaXIbiqOBsYmMJZtcPOR4dR1tb86TuQA7\n",
       "rQmoma6fW+fMq4ASsVo6OYeIoq8E7iw4a0Syr6LGtbT4DIIiTT941V+iRTF0+oQK5PLmwda/F0aT\n",
       "4aS65BHgUY0/7cAifhnf36nzfKreegNnTROLYyWK2O7zmj75JjKhGkWS+yYkgov8tSSA2PkyKOyW\n",
       "n0GqE4lhx9Rtc7Qtw/1AUgrAohmCQx6SEk+AqnEQ2FrH27srSRCBlrO2RNM8kDLaGM6mJhOeXiP/\n",
       "sPN0zajF/rqH8/wXCwZp6NNI/aOiyohsTIgTb2HFWagj9AltGldLyZhS5rtaPvG1ZYhvJPuM7Ujo\n",
       "HdQqybc1aX4hPa1fAx1/+O5iCYRsuJ3VMLJRnH/8vId2t1iKO17RKRMKlJzgwlwEFfF+44q/GvtT\n",
       "fDqQP5BoFwzn/nDRNRKNUzKw+3aAwCx1YweZ4rpW9XjWQQBvdVP6AgvgAqTxs662gB68jqBZ0Kl0\n",
       "kyVAciNYFTa12PDI+m4vm3rnrBmx3HBbxosIMiPyqCjAvh0q5caNPiKzk31gWBkPVTFUkNwQnoxV\n",
       "HP6mVC9tMixTCXyd8AF4aoCQu0OyHzJXpAEtlTV1V+wC/b531oRWl1qxnTK/CmREOCLdi5JLmtoH\n",
       "YlX/q8RjQYYSOMV++chVEo6G/IhP0EOx0hzWNOT7wijItTMMqEM/Ly/+idE/2R4UqaOzqh3fkHdS\n",
       "hEt7xERdpSyJg/lrnWtvOlH8c3hcVcMYzWamTVICfwuFuWISspM+Iln6304h+fm3cxXG2PPG5H+O\n",
       "mSKr95zGwa3Fhn/acprBb2Y9L+XBxWcgr0OICvCxifVzNt3xUkhoS0ZfcszmbukZVUkxJPsYeju/\n",
       "UAINCAWxNxw0PFd1b7FeiJNdX2kr31dX5f/+Tt8/q0DFd5Ranjnsc8Dlf5TIsmY51U1mNSpEIy4W\n",
       "x5DAAhhT3kdMoXO4r31wJf5Qs6Iu9UygoV+HmbyCwTFlG9604vc5lO/6onNz9hmn9yR8vwCZwiE6\n",
       "+T2fQWjzbzjgywyz7+dSrbbju1XF0Rkn1SGhrUnBhQ9Rswx1ysZNtSwhpEpxwRCDgoChyFK96JJd\n",
       "jvXBGn+C6LK8P7L2c2AxDoEnPIV6fgZq8/1oSIAeJrTh5g2JZTlDG+yru5nNXE/SjFctb+42I7x7\n",
       "o12W+i49x/AFo2Fotm1IMcsBGxPPUIyY2yQoPBoh4eXwGqkEHrNZ5MHe9xwoVEA9ogN9iFEhzdD1\n",
       "3MToQtSzxAs44/57iWz1qP2f0ZxOJOyvhAGuZdmu8JQoBjobluUbW+TResP6TI9CJo9CqgAT/9N4\n",
       "H96oukYzxUgsZ0Cg4e5uhcTHiopfx+vo7LCtLf8ziDxn2OwlyqTG8VzqPsQ3PbE2GY4e0UOa686d\n",
       "miMYaJNKlxIj99TL0xHOeaSI4nB7zg1EDmKwWeeccThC46+IQzMqmLe3DRD0YslczsJdamTz5Une\n",
       "zAVWq0wl+kguorICP80l1419C6iD1goNp9ePibMxJHDwNpUiAon6xVUzncVLO4Q+nqhNcwGe3nSn\n",
       "QTt/2PJyqcQoeeel7oJ5IfxoOEhrDHwwR8owL2AO7uqDZ1x4ZlxeHtOEqWFtqis8vdOn/Jwcp49+\n",
       "8MzT4yDR+DthZsm7+YA8I8B6aoDwbsIOsZ37rjBR82ZXcQk0X47lhaPfrlR2wxQsN3xc9W6Tv9ph\n",
       "iS+YzwyLspYXkTMQmQ85FcJRCE/upDvuZiyST61TCxOslnCLAZzFJsNHuY4wh4v/pf9535EfKnAT\n",
       "TQMFXFu4iXunSklxiPyV+fwS6DwvNll089nV356l9bmujAIiM38b0nwA0miMxSTh66x0jygE7nH1\n",
       "ycJto+I21TF2ZWBxSj30aV+bwW1x/qne6irqIbqhhgQRypLp7r0QARLlTHLYsm1O76JAaiiePFgZ\n",
       "lttoi5GTW0R+eerP0IG2A7VaL/oVBp3CWXohRSgTndFdwIdfkZe7M4yyCsJ/7Slm75FZSYqDi52j\n",
       "RaGiQPUEQHnoajQwMrpidxBjy/o8erosW3dpOPBTNrZ9P+0IY35vpxBzX7RkC8sUV5IVnAxg4w8L\n",
       "OMh6lv2dac5KejxCjJVU59gjv4WLOG1hLkinJmB71u1kpyRYUOYaKLJHsHsYyh64ER9DQrUpSF9Z\n",
       "jGpWMgSqcSSgg+MdYwihXS0VExDjygHDBBicNWqijSnkYmRVhbdp1JVj9fFGmZAawWXE7SxY+iuE\n",
       "rcc7u1ZU/lVadz/4u+CzADpcOvnywRSn6sOADgxYODIoca7Ad36AIGEOEYNjPZglQDwkzUrIe+eK\n",
       "KdUxWrJcQ3LqijCGdK9Xzsrn46SkA2I892q/oJ92CHI99wZFvSSLuo2hvjEcxFLd3A4wwcuDFROc\n",
       "kfxdLjzpGA/kY8OQiY9Jdft/6aJKpxnK0Pr4bDUMQmAxEXvCd97t1H/67s1eS4pIqS/42IQLeZ9g\n",
       "MTgjDZtuaVqeYhGoSRtLRj9mhH8wdpfYEBWblk4w+SHziSHTkjVCE/L9+8NmBWHwxqcCaXgS6IDo\n",
       "PugfkPN92u+3pUkGDYYzq38RadoOmLYF1kEYT3oBs/szWHqmovCv8l78lAiFZwlsfS+sL5lT3MI1\n",
       "KmvFHKprPMGiClsrPGsuJQF7dyfYjTM7T/LgH82wATUB2eskrXCeYz8+4xjZCQDE9bYImCM2P57P\n",
       "hJtEOCiL6/xhI3u6rwrRroRDuHUBVBTwvuls7OE3p1/8/kpr8Vb+3cFDwmkxFgwYml/UZnj2ifCV\n",
       "NwZ/4frwHxJ7kPqP6SiVVtVuSgGJI3yzfeka9DBBSlaceSO3Nuz0B0bHe6J2KRinXfBLFZ3mifOn\n",
       "KtToB/RlzAFGnfY2pAqe+bDf3i2c7sliFn5pXqQLOE6YLDrDt+RGJs0fugjfpTXYdoznSjg67RIn\n",
       "jQsU7V6DEmXAn6NtkAsh5eS0yeOTzchAGvtGCuoOsF7HDRFsm/69M2T1n+QhYa/SOu28h1cSP/Ob\n",
       "FuSaI4ZCWztjFLEyAj86uN28uH7MsdE3lX2RmHZmpD+7PjYBLHD2m8moPBJ0/DU9I69oicRbC8YH\n",
       "AbysqHBQ+MOOFsfNikRraW4sLBE7c5nxnJ0mbK5B+w1KmKhiljN5CxmOY6Xuqq1JR2O62nSyknng\n",
       "MJB7BYAgBnNAlF/jCK/7gHhJZ3nF1vMzhhitV2+MxzNg/G6ZHZU/42UlBU8kv7oHy8Qm7tBVO3b9\n",
       "vC3SsO/lza9OFJKluF1/heA/cwHoNLN0puolmTj2DhBDmKXzMond+j/xJAs80+rjjm8SO7cmO5Cs\n",
       "ocFS5VG9w4nBLahW/s/KJf779SopQoRnKGauc0kAQ0VM+8vXle1ecr0oRq7ZQZLRrO1dUqYCEXl3\n",
       "lI9gdBQhaUjVqM/1UloQkKjMGvkz8bAr0v8qr7osx8F36Q2qfnNZ3v0M+S5Ft4IvToZGXuIq6IAL\n",
       "squy2kkYl2qeqletwVjf616UQ+yjj5IdcMrup6saFog33efKCjlnkUNG/WimNQvCiCdRmqonR7bA\n",
       "CwnjFsKwnjcSEvj2Al5DsvFAWCmrDC9jCS1zdMkvt7dFbFUl+7kmChhITxNdAJO97+sk/G8OeVzB\n",
       "EeSNUAW+Va3zShseuoVs3tC0DxYw9jehQEAs36C7aZFLSpRStpLz7qNZupJZR+AAmM+mIZOrNaKB\n",
       "03AmoF5AQK+VrdKTbMnnpvXNKlwYQDY7v7AR94jYUdt4l/9wopKIZV96zb14GqOeRxuLCHCue83y\n",
       "GumZPPJoRf/TYfEsMgWjG1yw+yZNtuug6lupx8awXqXa2TAneqbddTFBhMvvZJwXNyzlJ5M6mTSg\n",
       "zoSZH3p5tpevEQ/rAUmO///t+5oHSY0/+/NW6PicqfEcZI2VGFS3b8Yh6wExpQ4owLSe6TP2sgNy\n",
       "jFrHTbCX4nvs3iFkRzSKRFd27TXtLly2mmucloyeE5kbti9PcKOwLqfVL7fwOYTL6pJKftOQf7Gf\n",
       "QlPQS7gJYPNGJb7gIcsDcM2hUFgFmGlL0wwZ7/WqsTw6oe1swdj2B8W+Ocxw0eAYt+teYI+O4iGp\n",
       "cJ4h7sZe/+lDUSSIjLifq+1/7xazuIJtEz8ZE6UzyueaRf329/CJsTWoE9Mn2OoQcnhyk2l0wddj\n",
       "mYKuiaf+CP0VwK7i5ViEpWRaEnNmSFIwv+wYF5k+uSlbTdriDaln/xOrPWsbltcbC8x/gdfdAqDF\n",
       "cFcmqf5ayboJAasWbMJq/TaXQHu2Nf2jfAQMmc22uFsPYwYog6r0ABh4MXEiNXRH7/kdCpz6PVDL\n",
       "paEYROUjxGaxnT0rMmstfeGD9Br6oalNdTGHvRliV90NTSuWM8Lv9xQIZbQtpfxaShu8mrPlKNvA\n",
       "ywsCzljO8EXIowRzrpjsNWglzkVvgOzbGtXXRUzRX4XNkTyxypwn2Q6Hr5v1bmxSsLOOxbJkIaSr\n",
       "Z0KPwCEtY/CEQx1E8rQA8BitT3eUamjZxYkccP4mO1yVwPhZ68mDHX8lN6pSojbvZVb/RYgeXEVL\n",
       "noj40auP7eGpFhxfiDGr5JYxrKm0F3Dng75EmSrAKF8i6PiK+RG97di38WG6K7MgqsjU0OnrIJFq\n",
       "snEVjVY+8d6oeg9LvbvNdw4UYius4f+D+G9KoEdVKjo60Ee24MLAYQBIgbA9LFJRs+qL57klMZab\n",
       "8eMh//JkvpuoZ898m/6Ym84i97Kvv4h/MY+ghLphM0YCwKAfgIy1aTamhfNM+s0U3/lPZ1vVRtDJ\n",
       "2Ow9VCwvsfHc/L6XxU1kprt8TUUkp4Jal7y03TuhE+M/2ug72Wbz/P1Bb/h+EBHUi781SSX47wvU\n",
       "hA0zrcXfVA7Uy5nZGDC6yOWmx3d1KYzz5WXZEMVnyKV0+H8pXZZ89xFXfIklq/85QjDAN1YyxqXW\n",
       "Yl5bPFS7SbbL/NagAipDKjUaa+rDKgreIrApKw70zu0AhGnIJOvC4S20JW5BGNRzikk+FAKUCRC/\n",
       "9kOWosc6tuvr8u/xXfGhljeal6wbryw7oEG4fDaNCXR40Osk89nJJq1FBti09NZnsGUbYiHxwC/l\n",
       "XweLPuL++Opfj1vP2R4vlLqDAs6Rptv2zSedbbxogMYVnFH3JX9USwd1/FH21plwcvvgdNNaCste\n",
       "b0t+oGIZTguu+s438rZj2tpR1mnpQbt7FeYBNXLxvPgA9xLtBTI0M/fCRA8dncELTHr8RcXiIEGf\n",
       "DT2KtmKqkvDNvskYUKw2+koSnff98BiopdN4XdLyXA93cuUOseydtSY1vi8GFMKOoP8XlfnWR+0G\n",
       "LjiVqJUaNnWGFRBuMVml4/3qP7L8ytSiiDBDjfCP5QVDVlRfVhqDaPqoj8FRBK2YTo5cg+ihYuOR\n",
       "3+dl28YocfnEyK5UkitxApkDNc7g4ZMvIVEBYT1voRqRzLHN3IGmvdPIDTnDBT5qtkJ+AjoDKRUx\n",
       "5f1uvY1WXjkjJ+ymCqNM8OuirvGuyt/hFVE+oQvWJwQeMPQUfOGg3ErGEmn1jnuekTsJxCt1VN0S\n",
       "tFP48WdHxKW4pwbXguz6Rq5C4VOaMVITgtm/fcJrNnp/1zw86eruvuwwdrQIpMY7oLrw5NXO7i0u\n",
       "+gmbIqFz3z+bS9+rbLe2bXn+egrKxPJBLVXS4lhPuKpE09ACclysTx2gHXMDgnd8ddbX7Fcpzcno\n",
       "8ytvEP5vetMXwZwkcNlKr6sBtC+7U/tXWbKfF78fTkvupGhoCF1JOEohMyXQlL3JE6vwpJ/wCDrK\n",
       "GlsBpE5xI8p1tiXmXoC4dU5iO4wZO5JMy07Xh/JpZjAcCOhJh+vqYCqcICuu4GgmFga4unsUpHKC\n",
       "lPfAorrL3/8uBZWdSanI1RDHI7//qOmqCdxmXP4TlH74mAlmVtGsDeRTuKpwa2D7VudGZuZESsLF\n",
       "7A5nCfNDGKtkioqC5+y046MXy0vFP+8lUdGOYs70XxyXQPrMqIGJHG3iA7Jqx2z6ihN9SBKrUsgN\n",
       "LKL5fjTuHX/8583s+mZAabwIiA9VWLXrbAAAAwAYEQAAB8lBmiRsQR/+tSqACYMly4A6KSxSSWeO\n",
       "Ry33llYTzUvxuHvDD/71mvLtv8J8OvrbGippAz/o7QAoZiKEbBJK/HLaQ12T1fR+EXq3Gu7Y//0o\n",
       "zOVnZnZ4VYcc+8f8S7nJtzLKf5CL8yAAw1wSOgglY1Z2iEVmexm7iHfRNUl8L+Fy6CfaGbRvcge2\n",
       "YGMlksTrxdLZd4exEugYtGrzouRZ0eN5TiBPN8Zn5ddWGSug+E81yFUkcii0LdzlSTy+XqAGUd4z\n",
       "UJCC8iV2DKLvU3s6mh+7NBSnu0BXL+/u+eSNT9Sq1s7Q1wF1YIvjo3ZVCsjq0B5PgBPWO//nfQCo\n",
       "3m4/47VUYJF04HT+0JM6mfVtvq6GCK+e6t4rnfjOn9uCXN/KplJC2fVODUWWJBUVO84pnyI6XdP/\n",
       "PvHUxg90vk8WmU4dBjT5fA6oCVD2OGzvj4eycZ8yRB4fk4PTMJEf7mVo3+nSh7n7MgUrePJT4eUy\n",
       "tBRiHLOIWNRcd+9sR+wvirH0w+tSZB6bLimSugHAcVh8oBMIBUC41XWkzIUMFwB6EmOFn5qwyp5y\n",
       "eoQb+tY3r1/xdGR08UJfo404alPm8YTjwkLs1AKO+CACEej4RdZAxrH2QG1OCF9pKQOA9iwIAEUI\n",
       "cExhj8cJBb9r23xqdd96hC/I9/9AIQhXx/4NAqODNm7BrlZI/gnEjAkRv+zI7cvwfvuoV9kGgM85\n",
       "i0OUD69fBT98+9shKi78iZnyTKFHozsfBYN13e1JV7guNweakn4gn9wqXflNkWINt4vppo1xU51o\n",
       "qGhEG3pqGRLF0ZN/qflaqNM0JmW5DJ4ompKzP8AoQtZAQdY7sh7qjriQtVh2/bCcEvwNfTZ5HL+X\n",
       "L7CAP+zmZCHwcnjeLf028cdt3/Qm1Su2VJLY3rvKWaTeOi6+wfC1hoAHkVtLmvExKg97ZzZgG7IZ\n",
       "URIhLSLXQWU75cIqVA5UBnOtjqznw6h2Imyemd8XSUhsMw9YBEaLwJQRhRzaUmR8DBujRbR6Wzng\n",
       "4zD7LcqJA3ev3ZKERMgxSfdjXXH/POuF9196qj55d8No91vaVl4wuXS7VUAkO9Pef/fXOfPJwz6g\n",
       "Kq2BhqqZ1YxrxZ6P8PBuCEytuqCPjrsAgLJnojQmR1YJ6mYQP8wl9KkWgKy8Qo+w086HsqfsgT4z\n",
       "UMYhkSF4D6nJR51t54ftyXxZ38HOd6JtDfn/gNFSQbZsfZ7LwoBIUZ9Da7empGJl8sB0YBo3Eqmx\n",
       "Fbd15aMfek/K+VSQR50KSvn9o5ui5phT5perJFXyqD+39mfObB4JPAYuaJUsOEwdwpXOWv6LV4OO\n",
       "TN99s3BKDTg5EpIviqWUYOWLca7zH6ZtIjG9uf2+JvzxAV5XxMVjlsiwa0+8ePJ/5w2F3a0H+/1Z\n",
       "quarKoxK6jZLhv1CQ6L0M0r5HKSbwjGJguQq2XBLMsyBoeap7tQAAXVGVRKPMWa47RLMrlx1DuYS\n",
       "UWv6cOBO6nlfbF91fforVEQ6/lYa1RVN0e5zbivyDAySkTF6xGer/M4LnmfbSAIhzIfuXbShACTU\n",
       "XdHS9KBW6hfsl9jL2+pUzHcVFksNuYy0eQd6tTNyeox6Bdd2EdiYnjKVfxBXa07UybKOap5Ll0iG\n",
       "D39t1hYQDEj24xwQAV3Ma54UbmG+PSYvUEYZpNmhcthd38508UwAlb+U1gSy82+HFwKr9hlGeWBJ\n",
       "cMSlSNtsitSsFgsrMF/0PM7lQA7wKy31tzI/IiAH42y5RP/IGE1bz1yJDy2VmgqpvEhCZFbuJK+2\n",
       "k6UhpJ+RwfzAPBAsOTJRgfZUTMQhq/vMW2IxquEeztA+5lpsoc8XEW3TKzOdYmQwEmi5G8Uh70sG\n",
       "Og02Fi5HoRFmEEZaXeeWacMoVV1vMZ4YIFdWUFVOhaxzqadmaWVnHgk5Oc+GsKEk5icyEc86t1oR\n",
       "OBvY78MpR8lwUSbuG9fnJGyYlhF/MtqFsc4M84Jk9eUACfZ3XDwWNq4CS6e+nXby7IB+tMnEBBzj\n",
       "eoDXzRhHvSyTtA5XUGqlUw6/NjETGsQLTPfwccvxQbNdb02nabfhdm5GQFe0FNcpanvPqJ3NId6t\n",
       "IAdx1dtjKOsM3k0zEg3C/2wKVqpJr/P/yU8VLI16te8pEr9UIhrXd7VTX7YZDO5210Vygt8VJESm\n",
       "ST9U68VglmxyZmK01Uw/21uVqkHTsvn2p8dhg6bIqrLsL1tNfuZviAoxiw9zwHMJqVTdQ7ZD+p6Z\n",
       "6F1x/bkqSrOvIu+hFuVy1sHHdXNfNxE5CLwNr3L/YB/XQswaYPzLZjXevac7LYp/musgYZpg3ZYE\n",
       "wwYxaA+k1hEWMRBK9Is0poUnGwjrdBrqggRVdHwehbSnhDZr3yQl8Z8DjgsN5k/6OaSaXIDyFI7W\n",
       "detVIwjTSpwu9hOeqGvi6r6oJEBg4TwYRTrijuGbjXL47R76wF+uBbTYN7i2CBVk9GliX0dloSRH\n",
       "nzPtDgJ1ZJdfHmnsE1C2oZXmIjiei3v7Or4Skd6uXy8I3e/wa6rpKK75qnRencC0/LG3lvu3erhy\n",
       "zfU/CGkt/1uXgOQ/6qPN4diRY9VGE2LbsDtyymu+//i97L10Kl1kTmgvV4+rbBaUuEVfoE5rHmJP\n",
       "th43GFu+Vqf1S/hqHnNjSTaVA9ZKnHGy28L4YVSpADrgAAABOUGeQniHfwAAFKY9vN+PC4i3hhp3\n",
       "L6+gnTmfMYKYFOKJ1IzZM1RZ4HxJ0AHhVycasrJUrVol20hXtAZZh0XdfDHV45CvV6dQqxp+aPt9\n",
       "ZXIC2rXJ31zr7lmaOuEuVk9MFzEsD8Ti8ydNeZZxJcJoaELCEYtCRwXGbcxuem1McTBVK6lx8DAC\n",
       "B63AgROoQyxpjgKFmUu8YMnkSK6oYS9wwV4DKZ024yV6XWwIpJe+238eGU2483FZ6x38klb6b2C2\n",
       "2D/fL2kMU0WNskZXW9pyHR3g339Sz1Dz7oqoZcaDr1iC4D6WLD8BFfCmaPPvV/71Q8LZwXpcy9QP\n",
       "wqsYnQuC85iR4D7YAQpfabi20A9rS8gHOt3JapQsNiTbuX1RkCKypwcwfgxpXyV9vVNP7P0t+GjN\n",
       "uXL82Dd4DFkAAAFTAZ5hdEN/AAADATV9kzrh70AI0kyQ0Pwzvb3lUhqKqC5pPsxDos3bZhgb9/EP\n",
       "rVXSuJfDeQTuXAIR3+EJtKo/lvRryTmzt8CZ3PNLWX3xe3/HkgQrKoa5NR5B3djRwz0bIi+0dFJH\n",
       "rO13RApCgIDoXHiB6CxDKfMk6C1aayHIAxy6moAh9Jep81JE8uMVYs8TvGnuM+Hl6iF9LtEy/HuP\n",
       "LdcT4IUzXacvUohmh/Rs02kbNRq1aNMPCZnWeuALsmjbhcRDsBSKySGNfm5NNli4yUR15UPigQKI\n",
       "G7J9oQmKu6TTYz6QtegYEEXGfoykMaf33ac6oJzmDhnJYhrEUg92FC8v8yU8Ptq8g4RkKBHjKoCF\n",
       "YcxV3bDNn/gkFUSk84oeS93syf38bkR2opqdK1HyD8X6xeAlNa78CoxmwTuDpoITQuMI5GZmgoMA\n",
       "JvfTSX0iSaXcAAACUgGeY2pDfwAAHQKEBznqZ5n+qDtk7uQARlaEXwZiLU+IYsrQbCx8uzS+Bdvl\n",
       "afZ2N89DkI3K7+8rBlsSXIcZeBjYjFXlLHik+rbGgbTbc7blqYuBX8SOaKVYsVpzI/8XECNHzUy7\n",
       "8aM+5o7Nu6YAzyKxekNBjp9TnlYDq0w0y2kwJjbE5XySakvStWF89lEyh37idBO9wRuF6yjfAsNn\n",
       "LJEVnb1xEUv5HdpLp9C7HqCF86Ey3PrmCjaPzElYSY3HxftxmH3qZT9jMAxGkKWZgXlnR1fTdes5\n",
       "eXg1/2OzEGZ0o61B64ey+/2D0N/auegfd6e4w/zuBRCqI3RgnaPnoF2SfaIksGmhhfn7JVIkWucR\n",
       "sXI0oGUVzk+blRst+Kg4zbIAjWTjDe5pxlgiFyPlXyQDIFPEv+9E9LlOGdcavH24tYZLDmt+nSnL\n",
       "TlYRwX/a0aS1GQ3QtpSQ1pUTmFarT4rpDVerCRYqFkSgtLh46BQIf6RMcLVOHEcy/yTu9EhVp7A5\n",
       "5TVT7I6XRj1ljkKJP3tY9gc6Xc25027gRDkPeTtanI7wpcDoqqBJ+kGAHMTzW3SklEMag/R0CYZM\n",
       "yXXHfI3fKmaOS9wafgvxEY1TdDSMJJ3C1YU/GgElJT/fh+gbHxO5mflKGWeEPfsHpkLShZCpl0TH\n",
       "3dR2N9f27wpH3BP0B8kET2owagb4tLNw1xF9ZP//mkdPt7EicVkCiJBv4c0b5Ii+MFf1ggCP8XLJ\n",
       "mF1e7tOSAEjzxZhjo7r5CZd41zH0NPiAY3RJ9yI84butgACpgQAADBFBmmhJqEFomUwII//+tSqA\n",
       "AD0PlfALMYxbVDubVA2ihLTGsw7OKuet3AWrPqBAjASTkBT9Uy6NU6NfLKupm6982V5uUfV2j0uI\n",
       "d4LZCTxAGWT34bXkDJIDjcSwUU4Htw03chT7ubj9HO3/nCpkI5un7LPQ8w4LTbHT/5O7hKskIZRy\n",
       "8zaPINCGBvA3InSuJn8aOmiAqVIIxGyzG+RTVkwcnFc+HGwLY9Znml0RsKaQSyvBo13+AVTaO1Y0\n",
       "OarN735VoQdhk6TXHvMi8b7v6hHPRQPt8WiGwuOUYB7YA2CnnlhplLa9AKa1HUS94vmqTqtgyS1s\n",
       "TWwKvhmJS5cS2Rl50ggNr4wP/amJTPw8/YuNsBis6deEvmsJaduK5OG88o3AwrQWPrnAsXbC0F2w\n",
       "fSoup40noZOMcy9iN6tAk1zwQw5oexQ/szH6tWS6QobSKCRMnfsIxbhW1hxDIQzMEktNaNyKvtmW\n",
       "9EE7d+2nDiTz5NNGGEW0Q1GAHjCsFIeXhRyEMeXV/3nfGpHotDoUjgO6eB/yRsyC63eejBIwhdRE\n",
       "egB/fN9RbjSTvtRz07aknm1Ehkb0CNi5mHJugtB3ZAb7W6J6GnnxL4siJLr+FjD0oF+ZFtR2NuR+\n",
       "ut8BhuR7W9l6aGs3dDsYSMQrGF8B19Y5knfapcsH5AeNO5165qf6LvB+MpogtVlSEqQwWiVWbZgO\n",
       "mnykhulN+UvcbG3jF6p54fVUK8mCtZCYINZVY43fJYRU9xgy4mMyx4gXosri3Gm+WJi1+GNcbVOO\n",
       "hsSHWSNLRoIamfzsqq1x/aw//5emuA9ZSWH8uTxPCRS/WFiZvSPtRl3aItuMjmvv0f1Nkul6tg9O\n",
       "4vy9EAp/iB2AdJfHJ9kHRvyLiZaPFH0N0ZPg4xKzkA0wUidZ1uy+I0QcT1lxeUT1hE1N7QAawQ5Q\n",
       "UeANpeod+GbTLHlPU614xI0wRhf16zD4lwxhl/FkoOaD1PPs8S5qr05GkmshmJuWe9K0Kd36pTT+\n",
       "/cWVTcRRXlwwBTre/FMQkFuA4QgWWRLDzM++23J2kcZ5bwvo1DFATRCIGWiT9FjNEcevtunbro7Z\n",
       "9kfb7tiURx99R3uNj47aO/aj7JQw7mdQSjfDZxYX+Hq209k2+9u5EuUfYrX2nlmezBty8DyIThLR\n",
       "iBO6cqRXfqhkBrArzCNxATxxEBT7g8e8Rg2//PVZy++9A+5uiX5tq1aroXgHshHlmWQZSMBtO/Kx\n",
       "umds2IENgeHPXKuo6GcU4uuuv2Zg4e892BN/c/gT82ExVp15PfjzEhOdchwElW35+Ox/2UBUTzCa\n",
       "kdVeTRKu36952gO/mOr32mG/yQbzNoKuS0UlJcBN6onivIHjRwliAsjUBXrz4jeTT64V3Yd0xn7h\n",
       "+yooJWMUoMGplVWq46Ny0VW0oB1c/fNz9PgMuz5Os2FNMlvIq+ePCTO+2TFPk3B8LAngBvLI5Evs\n",
       "+frIN3s8XNSOkAc6VgONIdmDhjt7l5GS3C4uGiBq31M+R8rqdDQ3XSi3z4w/FkGGyrXh9hpGYuW9\n",
       "pQPdkZW9AHAyMeRPnRFS9gkiQzWayZLK0SQYS55Z8mqtktN/a7iEH7IuXW1nByPmceBn7JpKiPc+\n",
       "RFTOgtDQjee4M2V/194Smg/l2qpp45fRdC1AdAazq/GOPt6FmfeYpf+a+Z+A9H1fiIvl55/1wyht\n",
       "zjI/MM8IqHNHdg49dIp6rZ2PmY5TepCwV9mDkTGdwQELQuClgkztnqTMzizNFqkI8vSkhde98sWC\n",
       "hQuoyEA/quKBilEd/1i+AEW7hAEuwNaY9/loCo29vrK/+QN10maJO5Z3xLHNIz9+VmUuF0VBLUWR\n",
       "4zPPmhHmjzX96LWypMPF8Ae0DwYA+2V3W8LMBIc/Fzcrj1y4R7HZMShMP0QtUTfSHvtWgzy83lGF\n",
       "Orzh5buIcZN83CCqY/WzCZqM7toMA+bojIbvQsNjF+lbkfJHr3Ag14nEc/yynsYMl8wD570IUkj3\n",
       "9cqPzJuiyrE509kb6nt9NmAfmMmZ6Zem7Yy/LuOjo3O071gR6Vc79/3VZzmqMgwxMUSTNCRho9SN\n",
       "coGJyA0U9FGI3M14FADiDeXJmptcgG4mhs1RVSXHn2IyhoABPll233xpSfLsMhCk4P49MVVtKMnR\n",
       "aPm/kYZHyjp8FH1UwyVICw/cAc5vexwLziczZ40SFHrGXe2cwMnarlnkkDL/eLdZZ4fuGbjk76mH\n",
       "LdOQThuHTWpUw9eJzO/jkvLlVQNM/uTatSaJ+u0OTHC6N1hkKnRA6LPJc2+Mlf/KsJqLoLkXuMr8\n",
       "F0Xepbb8VxxXS6BY8fvNvCXH6aXGuHFccGytiNnq58Ur8xvN7fKQkfbU9thyXnJ5uk2fABujedao\n",
       "YZXc+V7yzH5LPDl0zH8QIzHFGL5CA+usV5+934eifIteH2yQ0pL7rQ8YLK3LSAxccBdEasDXDC+k\n",
       "V81Mvb/taMzgZ8oIrt8Mz5xrW7RIbGgqYrkVbZChxpoL9bu9OWG+onRO8sIVRz2HTq0QAXRzvzUu\n",
       "6icHzbvTPHUH0w1fbeTYXSgen8K8sCVQM/U8vozhefBRacabMCEa6v8exv+/BHul/b80AyhS7xIN\n",
       "zuVKuIwlthLtpAshOdgfZXs5aPWTtVBZRgsLvlnq69dGoQXu+x3JbpHM2H4UorJw2MpiZxf/6uPC\n",
       "CfPD+mdfWqWe7SD4bZ89mx9ewmKtkjFV1ong9295AZoSWKnAIGmJ9lnd8bms0LZ/509UFfr+UtuP\n",
       "xZtaGcZSKk4pj7qbjywtrLZP8Ap/LAu+36BCxPPshqHlZD7BUblxoDaEIYQU1wFB+ViNmNOwa+6x\n",
       "44si1V1E27fz5whoY0hqQIUGzJr+fSpNna/PgtPjWeIfbbuZdl7cfzaGiwroQseL1WhGlq8n7H8i\n",
       "3t5wcTNxV55Z+XdDeKoMP+O/p8h1QpyCFu54poEsMni57Ocrg4vVQsMzRmRKON5auTYwaZHHSY3X\n",
       "2T1TC6MpSMgdkqitYG18hymsQ1wv0OrUpcjNv1TmBm/+4IxREkZSlEJ4BLKVoLbERh17Ci5iCvej\n",
       "zht2mxO1bNXkXP8nE8fA6BbgsdsCAxs2Uaiw/aSFbX8McQI5gDnCaxvhbVRJok4qYlUxDY1o0Js4\n",
       "tXy8lRxb0dwcfO4ViAa+gg1VLsqN/7HCmuBpTjmhGQv3F5ddjFplxQ9+g6XYPRF/L+98O1IfCvXE\n",
       "iO3GHeHQCr6tmbZ3qKUYayJAJ5rhiKMPp5Gv+P6rxBR41r0q/EgNwKOmnYCaZQWsKTc8ppoPC06T\n",
       "cAIHe7bNcbGkqVa8HPjOV2f11txzUrASmHb919FzYbZ4db2ni8oYWXYbnCGIkdf9tJozaCyvrNS2\n",
       "EEHpOFI4iyrvhIJyA4TY1AMDXb9bJoFNGbE/YjwzB2K+ZlajVixeVbVEBvWM/2DSoyroGGdkMbLn\n",
       "Y8qIHEeqZfOUYBF7MmfSlKYUesBMz54DbhBl9ViRk2gSeTOohx8sZKsSRNq9dKi4+Fd9vK2cG3LG\n",
       "JLeI4Ny8i5cZldwVdicEeutAE+enmK1vwZZKTbUBM4Gb305cBoETWPvpsZXDLM62Vy24EsF5uf+Y\n",
       "jqYwUmZLTdDJcQVoSMWIYSoqQgG3JRQ2R1dJRp+jZcYFRapouVxic7XSVmovwIpaY0tAPTYJBvTh\n",
       "fvk4nIhOpMndfUDtc41M+hutZyPlrZoVVQvXlAI1G6C5rXYXZnjFr9Oo1VxTviyRZf3edoai0u1Z\n",
       "CFExGA/dn0vIJvALBkY+4dX7u0ZEzhv399wwWAtSZDDv/J0DnlYlgLt3mBE4T1gJlzlcxKBUknvm\n",
       "lwW6A5YS/6Q4I4yrNqiN6uPU+KhuhL14q8h249HMSAV+p5t7DOSrY44SSV3T06dwDtG1id35s1+q\n",
       "nW+F89pdTwg4fArFLYJUM6N+wht/Pi1YZonUr2H3PqsmpPVmu/G921xsfS2tgbMHULOO5CHbYZc+\n",
       "MPjfLYva7cAOdzLffHCGb6WPMPDNJqdWROG1C8h1VFYqJ+lJuJDn8utD+QLBnJhFiIUxOaE+Xyco\n",
       "37dUlXsTS4hAuUdpiewtocGUQBNr1lzmbW/K/tsksZKWkJ+nXXmFbwUACCZ3Jmc5XeepcwAAAcZB\n",
       "noZFESw7/wAA7ugNl4BBfB/6Ju5ISFWK6SNgAED/FJmOmf4nQGQxmMo5LnAlef2Nxln1OGsg8nLY\n",
       "U/5AzGinF5soJvGhjlj7V5cJ62JuDbnZxjOnaWfpB7c0yKF2PEof30wwGym2S9OtxvydqwcLrj8b\n",
       "2P4GVWfMeOy1LIgQwXZ3KtjPiWO4mjrvlRtkB8tgAg3gbfDgypS3fKn6xzY+pQWcjaVvr/97Pf//\n",
       "g4MWNW2tFndwShcoUKjoJFTHcpcy5GVi8Tp3WOiXxS4CL8bdrCz9f7os+WRQS4IW1f79JvAisSD8\n",
       "gcpS0HBdUow/D/8FzCCBBMJRElSMTCzlPR49ijeI4/FHKK1l317ywW6TOaamRtFPBjXvklNNW+N9\n",
       "G1DUU4YLxo1xwwEKg5tCSzlunIeW314KrUKpdnvy1m/0uyTbhdtYdqQEbOmnDmr74s4XpDBlxSma\n",
       "DqlWP9/HiGp8sQDxJGuKv7p0+RA9/fhmK0zbbVQct5m25r4chWFoNq6INZzh/mIRREDu/mGC5L0F\n",
       "rsNDQgRMRP1BscxE1aJWEYPRivl71noOZetQ//YO6d0ee4tFzuhhZVCo/JRcHpJGQvEgAAspAAAB\n",
       "PQGepXRDfwADEgGoAapgIgqz8Li7kALSW7QgRzWHYHR5oXm+u/8ZjtypIV05EdxA5QTiIm943w0o\n",
       "mg62EZfP3ghEYheFUvpMe7VKrOAeY+NicUSW+M9VDGfxD4NvAwlmDM4izBqA/IwhhC9wEl4/8Sjn\n",
       "ivG3IMnITHMGr73bYXTTZKwbAo1X1hFFA4LwKkvIR87M+YQR8qPMwC/xniDvVosZfQ8AqyoDxVNG\n",
       "YNRf8WoIx4lFz5z0OX+wiC40aUrLQYan723GVtWyuQNrsQByhRXf/FKXjgEn7bgBRGpqnX5jk4+X\n",
       "GGussNEDLHoiPxc2LOrrgENA1GjE2MXuFOabKwkol1cwkyEnNyJCflHL5mw/XB+tZZO0vKAS8YD1\n",
       "l3YYnOmOpXxM156yfBMmYV3QLl4uncG4t7xMMW3QAAP9AAAB5AGep2pDfwAAJ88+RznrNNOGBmqT\n",
       "MZ5fhkevHL0n4/weyaIAEp7K+qdePuUTfHU3axE4isZ3XlO5wrghUC9O+LbcLo8G9rocXlthe8VT\n",
       "6jPX96+bIrt1mtFw4O8m+9LqMswVONYP2t4JIjAcGgV2K2Av/hACBaLTGn9/5UBfwIHfO72SDFG7\n",
       "UiCwyrsqifi0WSrTR4eyMbZfuZGeLR87g5V4QSAwDqEW5+GRCCow5EQbImk7x3F8JdqA4aIAfj3M\n",
       "puYroDP65Z+aItVeQUi8MTZrVul7RvAUpqpWXYJwiv/zKVZGEUFHC/O3qG98hrHzxzyRsWlzgJZI\n",
       "Dd1pjWb79lrYr2g8PmI1cPM+1hphX3fvZoaseeYk2mQjJTBs9PxXp1XjGefBUKw5NTnheX/Hx1O7\n",
       "YHPC9ccyDPaQ5iHMM3boowHkwgsjq3p+Vh8b8X9d8Zkp9yoIpzFp0HbK7fcQ0zBOkYh68UdBcdB8\n",
       "ksb54yiHsJg6fKZXuJYJ+M6fIlV44yd/DyIl4XeXE4kiwXj9O8tduQ1AcLVbPrV8YOsCwKLKv9nO\n",
       "OkXYfiAqeRTHLIBifCgR4G7HzgpaWKcaQ4yCqOSj4pOUF+0YhukhwEa4VFMzZpopgg8lv4Uxt3uk\n",
       "InWatETqAj4AAAxPQZqsSahBbJlMCCH//qpVAArfnmVbVgvn6fUufzJ8GHFhmr4FuOslfs2mJlIn\n",
       "THR6ORzuKgoWCvPOt/+HmJH/VH4vdzpSyD+yg3iwQN0Hr6Aq5VMn3B2uzwvw9TAwLmW9+ejZSP8Z\n",
       "NeWKm9ECVMQYtXIVbSIyq/1A7umh1XwvJoI2JkD1IsB1FS57G1/rhtQBZz0Inc7mX98ishsI2PVP\n",
       "Y9cSYVu886KCT9PnMxhhwH+BS5U2BFH7ngCWdhPUC6yS5PHWSPpjQAnU8vFDCZg3UevLIYPZpcWU\n",
       "7bB6HrSv8K7w4hYeXnODZFA90kwckUzF8f9PBWZf1qls6RjtaLFpb4UpoXfIPCZBTTjPpb4YpMt0\n",
       "8OlZcEMz3qwORzQucHuu232WDt7mHan1p4m9bswbwRR1LUzd0B+hCXzOEHG2k40uLLEl3h0WxYQZ\n",
       "fa/W2RAn7S5Iregio53y13BTwz++r6CrmjNCut0rymMzTtD4AvF7mIp/AobihPEnG/U2KVKVb3mb\n",
       "XzA+ynsFsJ7s+BMhXbV7h3B8iVg/rBzPOPoL/NeYVLMLKIgaaUN0lalbVnaLqb878CZdRP+BoA3x\n",
       "HGe10gc6DJiBECC1Q7lgAyo+WXtLQm5+JZT+Wu1AYYhlbE7dFHQ1n0g0N1LveFnTJg1BPaBhnv4U\n",
       "wQw0oalx5yOiU46+91fPE9t+4T+Hy1dTVbkhdMBBkrPH6ScidAfoZQV0Vl14yZTyIkHyZvfoqGDu\n",
       "QjfvctJGRWW3CeICMiozjjq2icZp6HjMv0rY3cDzsyiOwFLXjm1UUPLbK65RRED3sYvbCcAvmq/a\n",
       "VmctTjIl7vlUwjABafr21Rx3AmfUFR8wFBoiosiSih+LrluxXtHMrztLKEPifkisJQ14gIRi9YPm\n",
       "Pn6lst5H+WFHaFCr13+s2gtgUVFwwCtujs1XS0EjOVP7krYTGVYX2fPSabgcYCrdX3bkCdva8WkF\n",
       "gkHUBnVwPK2ahbiSeh00i7JKKpFTrMfTwKUNx6E+6MnPBd2+bnrigMUR0ofpsCm2kGlDC3lAD6BX\n",
       "/dcbPyAuP8j5LgJmoq3kfa//4fgWHYfFFDB3poywsS/3r+uQv9nVox76fg3OXXCvddN5UuSBxnhi\n",
       "zSYbT4BHcsHPJ2LEzchmPgF4gQeLydvUIc6rKX0RU+hRukR6S5RRyFBpyh71B4V44M4PpesBwbWh\n",
       "t1xNNDTbNSasPEWmY1kjvfXBUE8a7jy0HE+ADOquAn2Zcix8tnSEhgYISR0PRwhL6pW+gE6u032c\n",
       "Z0FVnt4jph6UU9HPeFEehVlY0/cmQKpDqxaq6qCP4PqK5s+9ACM1cuUUv2CRcFY+TGg1I4zheWiJ\n",
       "+PnwKAhyACmh6AMcbqMAkdSr4i5bNtAuaSqsoEKojdVqi8lj9Yx6RYLcpEx32MWT0nzRqN8/lZ3p\n",
       "jF8K3hZgQTJ2Pu2j0Pjnp5cu0OmyiUBO+VI0kr39y9huz3NykZMXsNAgQzicnXExa0jCn1ODkHj0\n",
       "G0DUNBXKDi1I35pmrIB5JP5jndKf5nKJCszHa/X78fHTnmtoDRLbylbMcZTGkWNXtyri1Ij8UVwT\n",
       "bJtJJfztvIF9eRpLLRpMG14nAlD9OSFKp8IuMyJnBs9CjI8JsDsytRx0xKsQ8nwr0zuf090P98xO\n",
       "9ZxmdXdc85Zb87RmKd7Z4CeiZZ3PrA7G7+SgZkiAb86K4rLm5KS29yXlrNqxuMq3uy/ywUVJqFOP\n",
       "2DoaLzM9WAPyKAF0EazP3RHP/YNWZ7WUwseq1/zh2fhV9jjIZs2Iqd5BS6JwasuXJIAMC5oMI3dI\n",
       "l6JChageNs42+kKuzYSYBA6veISEwXnZGa+d273QqyJ7HNyENLi2AiPqoOOSQBmsYzttdaP5JGdK\n",
       "TndmGdQIHQPaoHqJRWj7xClGZMm/3YsjPNMcqJ+IsuoAjQ1PN6nAfhas7yTIL7SCsMES6SdjnGdA\n",
       "tPpcs00IQeXytsMnI7xe30XuehhJ9vmKtO+5m2AQCcsCcd/LDcb/CgRrsU+Bv3QEkzG3gs+Blia7\n",
       "m7nbmrTnCZ6ALmZ8gay8tzfx3Hgs2z0AKW3vrmQKPE1uEv0KFdnnnZkFnVJNRvuUtU7PAvlOtktQ\n",
       "PQiuDQZHvDv4VTX0Wv6RIS65jsc8dOt7bEBnjOlNzAri9tPAhCrZlnmB+cMd83a9uqJ15xebYLFP\n",
       "+9MhGUTmKjs+mZMKxtSI49Ve4FYxzurPTcbghGMffTfnlo4O3EA9KrFqAlHlGxcULVnt3T+yW3pp\n",
       "qXW1VN/1piGp7h30cvf/5EjRN2tLid3VJpElY5Bq1rzw1PpAq79J2yGCtJoulHXB0hnuAeRUyfmT\n",
       "jvw2Z9z0n3Sy79+QqbGUgYZq3alQy5ShfOa9fjfgvxtMKK7Aj9lA2DZXjaKqi1c2wHsyewvubwR+\n",
       "HcJlVwC5OWWanyQbKJwueaB40caf7i6DPCFVPFdy2/1LRCqyEI+3e8yffkZ8c+13MZJcJUGfRgeH\n",
       "q3sfgk96oZU/0Cngo2I5if+rhWOKLOA5PYIJ6sfwxXWhBYs1yrvZhyNlsxep9e+l9SaN7plOf+MH\n",
       "acb4wnWSAvPzIYSystDZorORF7G2EIpGqccXbCRHdfRByE8FZ67W1tlbPMriyZmQtpb9TpaxjN5B\n",
       "DtA5PwPRMr824i3hrG1lKETrjHdQAR1aBein7ZYCLPFSf+9ugl1Qi3x8DW+x3a7ikhZ2OP5kGS2o\n",
       "B3tD3+kjM4ggZm51T4o7sFeEkF4c2jDTb134ppp+Dz4kPL/XlqMdHAnTAZdRsQmqmuYPsq0mkml+\n",
       "AHJHElS7GMRXxodeRbAcPhsg7aWY3g4FZ2oiwIsBP45jOmtM3Cso9G7a6JjEBXBhR+/qrMudY+DQ\n",
       "rhU41FthyQiFEujIHq6wX6hN/7E8pKvYjC58aAJ0O4NF2rH98GVThb/bUKp60yLJ6AxGC41he66l\n",
       "fteOaf3EPWdZfOQFvD2/UWE8k0bDA0FlG2KG//C5iFzmIMKjyxUf67TVnHYeJLYhro+rdeLKJZz7\n",
       "hxf9IR7LdT2rmAgyyOuyCgLq0FUfqTtTQ+ji7yoaLE9wHngXu7hbW5BSnGgHbHn8TS2HgNKF3fWx\n",
       "pBDqylEkwSrLSE5n+J7nybqiYl/tKCBCKPTF/keAPRQ18Dn91fPlxvvr8YYIHJIZFDYnffzFY3GR\n",
       "cY13QQ0d1R+CVAigfGfBT/w0U7dSOROZtOYAAS6/3DVkwoxVsn3K4PWCEQSfi/2rDOXM2wydMsA+\n",
       "P68aGSw2L8Zv3aIB5I+740uGhR5KCuLUYfEbPMYngFjMa7J+tanH3bKkA0Y0rBDIst9Spba2OMfW\n",
       "3cQaMdD/fSq4GB2oKSGh/rQp5XIH2Cb0yrCFrN50RgdT2iISmZsGVjzgSzzkJazlyY+2+kfdfZ/d\n",
       "OisN0AhhTCFPNQXfWvB2qLwSR9HS/Rh7lYo17/ltz0EYd72JOFGUyCD2jyPWw2N67FVM6j6JgqmW\n",
       "jifS6VpAcBkDDO1Ig51bQPIw3c3D+QCh5GMdQQ6/uM4objCX5o55AfpMWuNsHgtIR8nrw9VLK3a4\n",
       "MHsJiWpmlhTWrQLIhZXse0Vt8jRj1Tn+OaYyQsxydT/c83f+oiOwTjuk72L+cHyLyu//RtB9CEg7\n",
       "L+SIMmOMfWNw4d7FdpvTMARTsNkb5dhd4Md/W4QaaxIwVVqW9mGqaZSzP0x8RI5oZ+dArudEe2cM\n",
       "jXxN79NpX9CnwZPSw7v63XnDUx1frQ9lArKYXYf61dL+CoLTPztE3xwqfKuPmdFh5MFnfnE2XHd7\n",
       "H6wicmgyUVJvZdoaZpf1T0VXMp3/bzVUsc/m/jp03Qyr1vYABw2fkZVfgVIxQPqW3ncDBQ1Nba8u\n",
       "oXExcNMo0R/4KH2p6Anvf6v78HVzdMhWfqIQLuWB0iEMUkEu6jmx6fBCnTJuvYavTgTJcptmC2xX\n",
       "pnduBZYLhB1wg2VZb8Ka3+WaW5N013F6L9CBWzTPy9pj7i+spXN3eDu06cEYD5UQXKbrR73gfHZk\n",
       "WT1YT+9IOm7jKYuB0d/gBfdUSqQ6QJe4+v0XZ7KVg0XjfM0xW6OZ56NXSWbGP1OTD7zTB2IMD3L+\n",
       "Jv2dGVt2Dd//wSVA8xgKjLR+yrdaj9CnSE+uZkU0YNT6uSFAiwlWWUzYRAr+EfvxxtHgmCSC4y5o\n",
       "wyO2EEoG7URkcgSb6uHimHUT2RcX4627HknO6AAABFlBnspFFSw7/wAAG82lsvAIL4LyRKypbXtL\n",
       "hQOv7lK9dgAXVc//5MbzvyoW8mV0L063v3TWF3tBpc5KUgxk1uW35IlL+xGXr/qm9BODk8bw+r7C\n",
       "7Qx/X9NStP0In/DOK+STVrnxkmXfWG2YC7iqiMIK+jW2V//1/RSRPyfh+nPmJH+YfRRANX7aFs2S\n",
       "EBFoCsGnYnyA+P10c9ZAdFb+FE7YuF8pegdC3ywSBXCAI6DBkGp0TGfBPuQ835zu/VGsQmbXcFLE\n",
       "6fjWxklEi/ZsICWs1IGvS2hpVsF4q117qgMV4vTcOViGKcH/F6lIX4vQWo/K3U/Nt027M7NMkF2n\n",
       "7ASiKU4h9ucCThvi2mD+ZiucpxkjzHmbF0C01NlxyL9fK37lOJ9A0kHHJH/5J16i+WusO9ehZ2WZ\n",
       "J3g0hxx8J/maWFw5676CfCxh/b5vxp5Se3syI62AR4uTrk3VbIj8M3iFCMqX82xsjcb0KTbms4lh\n",
       "ZjrZ+4ua1dPMIrUZ1n9m47iX/Y49yy32DBgkrkvWV2sx2yn5oBKzd7H1FppZBpxr1RHuL1d+8FtW\n",
       "/Py1XLZ+AY1xUUPEVzwMqMs5PVySYh9wWoLwBSJLTIbFq/1JZGH3oosXMKXmx+F4Ii4yJC9vlBV1\n",
       "0HO6zonGhKOoLrygS5zti/cVVaZjHxnyGEU2KiZqKq7NV2SfL6ZndC8IyKidFq1foBaw1Ub2el4Q\n",
       "SaASrMh3/uXUIvx6y5xLDlc1XuGyUTjya/JKc10a0a35MdAlUu8srGdUg1h0AMEdY1VC7mF23fuD\n",
       "pQ6nWKv9vQ2OjWx364sb9KRwGJ2iDDXZ+gs4mUND2w9P+Ifq8lmZ8zcdQcHw0ucBZnDcGsCkWNWl\n",
       "rsBS34XxFPIFfmtu5IvwCpT8oMw9cXlMGGa1dUE7XxysdgIj86SsFREnv40C+oHjr+GKs9ktAfh7\n",
       "4nvqsVi2O7yZaEmtuS0NkDXrVEFN7FV58uT4tVnpp+FGeYMv0fov4MK9ntCKT7KMXtBairL/JT/y\n",
       "uNnmgG0Oz839VYxakZKgWKFeH8pf3hBzjmeLtlpj3xYzA7/f4bxC3zkZGNj5tWoUMqAdJPwostH6\n",
       "Iqaf0vzf9aWQHi5FHSr8bhBbGEe1IeI8sCerlFUr1odujIrDSB01AHs5OdEbbTrYmDIoBMf8Me9e\n",
       "c/PKP557M4B9ScA7/0tSIbjCxFexLsgNwI5sXYVUAKsNS6dlxb/0jXB03bYSDFkgAE9yBLMh4UsS\n",
       "A5MrNPT8V7GHAiOLip4JrsHYVtn3REzaKRKX0gNCL72O9qs6wa9otbamPuVLxk+jXH9rFbcmLb7Y\n",
       "iSUi/ePelSW5rmCj+OtvWSqVFNMVVl8GCxOlYN7Jg3XvGaeLj6JrLKHEl3U2F0c8Tq1YmvjjtcL/\n",
       "XDcxs8KY2rZf2m7+QWnpIocrTB/AFpAbfkzsH4TN7TQet4V9edaNqY09tPKrFNamXb7UfHY/n9yK\n",
       "s2XqC0EAAAGDAZ7pdEN/AAAnx3RnaChpzSxiwuw7wL38lNrLAtrPMybRMGaAjzdTDcD9FnyANOWO\n",
       "40vAZgRP238ieSfDCdp39QQAXRsfBDOy6xbaxQWAcOM2RamipLk9TBqAO1sPZkIt7lPJes/WsNht\n",
       "QNCqiXErdRQOCFg3uA+tpV8a48hMmbDTv1dhg+Aa3eWjDs8sPvPaJOnJunjItoHynkgvyDiL43VA\n",
       "xpebekgFQJf4+5yckZp1TudqfBiMGkQrW8K58Znrx9a/XO0KKAnNXndYIj4hLXQkxvSSfHBrzbsE\n",
       "FXr005j9Zc7gLBEhNLBGa7YJCud0fq0UuDt73mlWR2axaxg7vNvbtEsj8SvrLKUM5v9zDT4szXw4\n",
       "reC8jcN4319YlOrnC4zrPwdWRGVg4+4+vpFEXOnRTIqwNz6OBtZMYiObn6/Phe8mgkqihjaaFTlr\n",
       "2kYWSGg4xx5PQ+lIl8a4vUWYHRc9aRf5+C1+HnMcglm0ZuPzOH+XHWwkjbgoAFhoDHCoGE6YAAAB\n",
       "VwGe62pDfwAAB8SiEUMbakFEt0vTTQI9F5cIMffvsyPE4E9sAGuQeVN72VuZv1GE7e0RKXhQV6LA\n",
       "DQyht0EGBolBTIBCceXzwsVNhRT85rxfI+/+u7kcNXg5P3gGZgTOpCMPtbHAeRUevH2NujNFqHuD\n",
       "ax163FaTeED928SmlsBptRc2inHU6IL6dN/PrfGdsMWOAmmepDtArOu+czLq60MqNTKl8hFRti0u\n",
       "XGINGkulubLbpmLRyTIRrI9omavwsOokm9s8ZaMX43bdSg6bKo3ToB0yi+Y4ScbhGJ58U566eeV/\n",
       "G6W18zZHN/AB931FGD0vv0uihfWpa7gfeF4RnuIlqlooa3yySfgM4/wtA2WuARlsNYN1vVuJj+At\n",
       "y9jtEOxePBEgjOe4dqBi7v+CV97+zYkrWtbFJ4K2x+fDMY4gIdZsPp/S0zJIzi3SWTzZipqzVnBQ\n",
       "MPAAAArAQZruSahBbJlMFEwQ//6qVQABAD/6gMW0B6XqZtvD17qMW362QHA5I5eGtzD7X4oybr7W\n",
       "aNAQTjD5bSyF4CB1tqsl/UzENPUzamUiSLwq/SaYoFF/7M5WVv290lk7FGElA9XJIEDPIRnuxHW+\n",
       "d0QXZtAHzdbxDkXDJONnOKDgErK1+qm+/N4cfnxtyqHx2rLrtMRsz5lo1GFleivg5GBTUWpPapCV\n",
       "q75R4EDszveY4b96rIu9LNNYgLXSu7TnYytOaBYzxmKURH5mW+x6O2CJSeA7TVxiG3GKQcjgseT3\n",
       "CqCitgb0RwuQ/pdrpcYPx+wdzjfXpSuvg+3fB30dOUM1MM+7RuFG44qyyfgrBp6/LnRBfIdSugGL\n",
       "1kjy1+am4A7+qySh7FvtP7Wfvkx0lBD6P3dzq3jkpOjy90UJWK1vtV7ud3kDbpmVJMcY/WEtpvhu\n",
       "Wz/+UetWQTd8IF0dYOE1K3bmqhwZ7oxAv7NxOiIIhqQx5M4WaMKSDtgcgZBCQEi5ClWeSekpYRow\n",
       "D3K6/s8QOrELy5kjWFs0BZednfvjt7rwdJspM+QYdEbWbSKsIHi3QMZVy+M8NgZPgSqVQT+5LUsu\n",
       "bF3RRsS8eTQWpDcWFsXBCI++d7mzrAv0DwO6Cw0yJ/ia4eaPH5PSpxHEi+94YVQreK5U8n19B9sY\n",
       "RbmV4RcVvkpw894IJwuK8Cqtyr17Z0tevuRHoJ/pjw1LiBtDplEagHE4Xjy/M/6FWzpzgw9z8QNq\n",
       "c8ffkBTGF+uMC//ptMD+bK/PadVdkJU4uh4cT7F03ODInJL8p2kg91I9sPuTCZKFQiwOwY1Zg3Ip\n",
       "RDsZMghcH/xqv9O2YPNUiiIsIQm/6XStiTHJ3HxB19Y6j2PymXsQlmf9It3w+mz5KRotUmxKOVGS\n",
       "kuslDra97tphObGnpvk+hKFQuDtmbsf2nYzy8Ofs05qfF+ls5vHVRx9Zo/Ly68kRz/bbf9ZgVGT4\n",
       "3BmQND0iVa444oKso2mXw6rrM9QYgCQwZgl3tdRNOQaOowJeXNWSXmIFbMpRRN+UAO+WZkcw/wlj\n",
       "ffVoQCXf3wwv4VLtRRZOTTMo9Qqh/eZkAtZMA8Qs8mapUnG+12+A99WqBk/0POVFt4810emMrq3E\n",
       "AIHs3T18/AlkRU1D3f3jRK4vbCQgscslgQf4sj7QxEVVV0mXWFQyayuCReyjfs9/7540JKNQscsD\n",
       "wFgak2QV7dTC07B2Fm0M5n6rvtaa9isuBgEaFPzhMSj08I0PzhDD1SIacG9ZdpNO6G/g9444dcdl\n",
       "KaeajkvZO4U/Db4S9RiqaoZnbvmrQBO3+T9RDofwNlF1Wkc8Xb0Q1KEnWtHtIkiPXxsUQoTSGAot\n",
       "rv5OwALlFidIDKldZ8enH0KPaqTTETSlaGJ4KFB21ZV56sHdM7iOb5shmGdkPbs6U4/oIGzwbgpm\n",
       "39feVggao1xh2tTV9VEfT1hJhR+gXp+Al7kElp3XeIkSblM4T1fa4/bnTL/ZZSHVS3qJvpXa+8Zm\n",
       "PB0GmORTvDhPBPFQ9hp6Wk4lXuvKiKlLTCVaSSJnzvPBcAI31bSBxBCNoVzHSKIwzTPhgaLSniF0\n",
       "/WG2dpPFnfY/3/uMG9UvhA1g0G2uL+tNfAncnhmdFSfSm5YxTWHOQ39lHL8FIZSdp2uM/Qsb+yC+\n",
       "wDFP1b3n8FUm1ifoeIxrk+UsTzJ5o/VFRa+lQYOweZslBMnetdjJYg3IQFJtD0VY+omhwZCux/or\n",
       "sPgn8Q41YDatOcun03Z8qdxon+Xt6aMzabve+ctIgt40O4HkrmyNFUcnlHACa9nbRSyXyJRNUjw0\n",
       "KFh/6q/w+CnJ80Ttw/teK7bW3E64DIk8iv5l8x3NCth6nTDkTsllkbx83IgjtgdFf9wLhVsMwL6x\n",
       "I1sUiesy7AIjwfWxWb0MiwlgSZiktihfL09obLdT8hUNmFXauz7C1xrFNdVtmuCMt/8F4NTZwg3p\n",
       "pDl3ygKN1+Dki8nd+brQgodC6l0fTTeYI/WnoIrrEtm6b0Hjdsrd0lS87xfysejc153TybLOz/d3\n",
       "gcnX1ku+5nQDp1FtFpkNbz5RZjXl71jjk+ceFz8UsFxdn+fZ4e8IEF57RIRStkmvGJIU0sHBSjE4\n",
       "ZZTCocXksnTvc/z/Qac0zi2rmL+f7nkiVaKV1zoRUqQwpo2q+u/Rcp5QcTQEObPVyJGLIIyCBgTn\n",
       "iUVT75RRbNbzkyINqbpGy5fRxhNNeuGjC+vWxT7m3mixFg+1tfnj63/RfHzwW0T/owNVNeUyjbOF\n",
       "yvxGINKYFYKMjAfyfCtmjqyseKEPjYJn2e20L+pt00RHkKUytcCxw8jCLA0NX78k4uQNHDyuA/Hm\n",
       "5ep5s41IGC57KRhrzwHYShkeXeX3XxpNqD1KJ5P5bmsMw53eOloLY4xPke70y6lGAgyD6pR5v7g9\n",
       "qDwqGVUn4OpyFvEDJt6CuCqCwL4vmxRpM7jZwD5U4+4pgPlWsYrHgK4uqaPpVYTyaeC1l8rrmYWT\n",
       "FOk+m3roHDcJTiHwKstfcOapJJn2Hdke72eFMs0b/KYvaW1QkgEgtQJBduSJrthywJ5Q3s3rH/A4\n",
       "7sCYydUEv1Q1gV03fWJPyeMMkdkRB1Y9PXUswP6JroLHG45NgVSPUmNzlFvFSoh+/jar8WdU428r\n",
       "AhyqhlzyhHkjbJy2Cdb2S8nCrumRALo7CeYwYcJLHfia5YakOedsRS/1me1pup966YTzleJmyx8R\n",
       "R7v4pTA3XN4QRv9hQy9JfQeWhH7BzUB7AET21SAoMMxEfj/adafZShpa4BjnPGneiPOR2dBRSsPZ\n",
       "FHycSH8SDKcrKbuCQIWFEgbRuO6YFNjmFDSUMMzZrzYgDqYp/0ozWjVaggQRktA9RqPMjaZLe7oJ\n",
       "PMslHHzsDAkwzsr0ZFX2yb57afHq9Mz4YR31KfamRGxfX1qlkbQuswlPMMGHc8F4RP4ezB1lPmAU\n",
       "EEfZqzOcp867aW076fImKt3jYxvXoM7e5F8LLKD3ZdE5gPK159fIcaGcejoKmzTPgT04AbLY45Aq\n",
       "w0uX991Ow4WXESC3K6J3MffXid06MMSd5hITyZAXLNUxAIpImvbBnn1i7Eil1mpVTzdK1GkHrtZA\n",
       "Ln/oOQFmnIjFsa2DP//hzJY3ZWKVz8ss6WccW9gNGzIMkSvciwXELjEPwlxEt+3ys5fQo2Q5NKZz\n",
       "6qoU/POeSVA8ie+NjBmWn0Sw+e5xwwaJENj5LXmHA2O4lFbbK8Hv/tytGx3qWr7uP3/PNfDgZSfb\n",
       "3n2ZFMyPkwmhJBxA7aA+0Ak2C441++NAxT+8H6XuUZaLqj0v1fHVK/AHIjbg8W+RbXyd6YNwksbu\n",
       "jfoldoOTFEoaZZIaSHlIWQ+JkvkaIlmp0Bz6VFnpChEsTjWsV1pDTlqS6BnRw9ymJBOGJsGSNJl2\n",
       "3nol6GMU3AFMxrPspoCPoEg/Hi/KqihV2fAS7xsMme/NBQuQ93fUQqehuUZHkGoEbJklnTtvSIwf\n",
       "l6EgLVaAuZMC9dpH05f0VqvhYoercIPRhJTLVVyjrsDzj8gLvy3dQMtOvdIGogd71RsqrBosu5Lz\n",
       "GjqdtE1nmG0tVUO3K8RRFbwIRqbJ6XQRMsHHlXwzwEhnXqg3eYzHF9N3sSreRbclOTFYt+jlpJmd\n",
       "syxa78GkQ4RDPk39wJdmwlxLABQXEQAAATYBnw1qQ38AAtbz5HOepnmf6rjZ7XWmFfSuNxaMNnKF\n",
       "yoScTcKoBK38B4AWjuAkz+5LPFDlkNCWRe+jnsp3CTN4wmavWzHfwRjDIE55ZnaMWbnNnvawA9+G\n",
       "mCXnl0a5h/xMqKSibmPDqCXrPRwNiWJN7foko31K3eqCpoipVPS7JH1rb/tYHezlzvO8BshtPOa2\n",
       "oscjUNBO9H13B2axDVSVIPN1wnFPYIR0gY4AMCRcrz0xmGPn3TghH3J+fIbJKlCyiBGU9Jjpzch3\n",
       "LElrbnj72Or7FIb+xVZ5JomUw6d6lLRIRzscR4IZUZlVoDYMfz6y/gweT6ZFg1pqD4Tu27OGLAPu\n",
       "E5oVPKXXMyzsMicjNdFRBMaf36ub9Q0/KPUtqi30J6XFvvwGk/Q24z7r1m9ebuFEq13BAAAGTUGb\n",
       "EEnhClJlMFLBH/61KoAFlDT6AAidNnJE0dBhagEXZN7DW9i4auUZjXVmqrI0LvLz6zUx8QjxhSzC\n",
       "YGxGmivLQGYpzmQciCPOmCPUEFd/sxompakBuSm6XS9bSpqBSqC/qSe4hsXoDpyzNLEcFcT0aaZm\n",
       "lBapTqDLWWTOlmZ0On/NcklKAO4Ve4HPhI3FWv9ZowCdngvXsk0DejY7I6B4QJRxrtuYWqmg155J\n",
       "Dl+IaIkPTPrqGFmPbo6SIXNMgKvDJH6fAZ/mh07yj5Ta6am9LVearWWbgWhl9BE9fXyemK8TluVZ\n",
       "Bh5nxBlldKzxuVamIEbHKe1YvwF9KyGAyJ7roTz1RHWY46MojPnuUdRYqwBCENu8lOFgMU87TzA7\n",
       "gVmadhxMZmBN62lVdMnW8SV6AKaMh4QeTkhoEZONFoTznmtS3y6BmfnSM7EL+GreOzEamA+O5LSj\n",
       "v/cw9K7LxvVfTestahV+tEiYWS2tGIMuMET7/NFI8zBi0WjS9XAlteYrn9oHlInWe2ZNjKQ8rGrQ\n",
       "QTug4THYA5rtaC5368MUAa2AiwgGM5XvPOGQwuL6y/4neOEJWwxLTve6x99LYc9waUhCm0v8yaI1\n",
       "s7x8NPzpwLotMpaLlJYqtgixdlcbhMiZDRKT7yxHNW1urYPvzZi97ybHyUps/Pbx0xztPwrG8nfP\n",
       "Cj5JgygH1FlcLr1K9zIQ3zawDaIO1Rz/4MoUD6X4YG2xH9RNJ+jXoRXEnr0nONoBQ7uJeVRBxrJ5\n",
       "PXZXlco7LKJNGgneW/GXpgsbt0fr24A0bHfiYDIOYLI29xEsAfm+SyzlqJMVmetZl4ZdFnJowg34\n",
       "elgFFU6VOJaBmAIjwttgDOhpmWWtGQ2R5EHrx2VwNeHvg6rOaQnR0p88Uqysua3KTaS+LyfFQLDn\n",
       "KGhA7Ng+88mlIRnyyDexRc11IJcEAUlMS+nfrXIid5/a6h64tjYxki0Jq9a/LQVM46kxwbAOdylE\n",
       "50AuvdRO0UT3/ZSLaA0+GJiENHePWpObPkb1/nepFfg1+5QMFWNnxyY1I5vY/rd8kbLuRQv+fEEy\n",
       "L1npC5ibSVYS7i2x4t+sDr9puED44MvAXXOAS3KfTPKJG/kLCslZ2a8fYUi0GPUHdGXDDIoX+3Lp\n",
       "BJzF2Yfu/UsYFudeE4VLTSx5eZSADUYPaljx/xuM5Y7hWa2ZNELY/8obnLxcmbG5EMs1UJTBmoVa\n",
       "yCk5G4N0sfdLVrm0KAD7EPDTG9sgO5zIlxz3SBlOwn84rz7rvp6Cv28jqgy0dmmWskoU8vhgZ7Rw\n",
       "QCKlol7eIlKizZWSYJ8yd45Jp7qUo7J+A498ssMA1nZCJX4UnWTgqJ3TEt26MYfcM/4G06Ft8oyV\n",
       "koyNsBzcC5e1Pd9hBjvzHTnVS6b9htZxG2gbBmu2hPqSCVapTk6aAlrFDuWLp9MEt3EdzQckVyRK\n",
       "EC/a+ptVKIWPzb+m9lrswPn+JzS8H6DJ4hBm5yzL/9F54DlRENIdKUgXn0DR2/BAilXAe4UAMsJ0\n",
       "eMD84b/kj08KnywYQ28Q0WEX4+WN3pwPONWnCzrwhpfuJ7+DMAOYfgU6iSFcx4ERPkf5UImKplrb\n",
       "sF7MGHjMImaXLmGen2dRRm/KFw+2x4tKAQvCWeDv/TTzOrB/FK5z5o/B8hBI0ch0xXtOKqJAN4/B\n",
       "dUMfnFGTBsb8OmG+7EKHs/LNEhD/zmTD0Y90SUNuzr+ycKw1wnVuWtH7KPSBa4Eu886MOkyPvykP\n",
       "Ivnfaf1upaRfC0nQ25PrfFrcfKi6e1d1+HllFuXZtrJ7btBOjQJubG0kmf0PvwnWA5VRspNfhJDA\n",
       "9O3TL4wrg+gO145ScVX4aGEvWQa7+iQrhBq+X9gYWCShwSyW3EVz+omoO0tZrcJ6VYrNxvTRespF\n",
       "Y83GzigGe4JqhDSDJ00pCbP34lQ+5nrTnzpkFPSoHC7o+877XUoZxF7wXXSPjdFK3psISLI8VQLr\n",
       "eH6acRhZD35Ar8lCt1d/pA1aQr6fws17HcfFXWRIzY6tup6QX6XoL3o/x7AHD3eEiU0wR1hLtd7T\n",
       "cgTvVhISKuiPuxXmKgs+U2DsQBKXwuervbOxaNZSEiAaE1vxMXCXsIE0Rid05R11Ad9OMhX7MheO\n",
       "oKr2MJ8ahr0P+3IlxP0xAAABUQGfL2pDfwAeYoQHOepnmf6oO2RbQ013wAjKJckhKGTw5JBaACPs\n",
       "+Z/PK1XXmwe3Z5bJgI9PyQOipvKrvZ/QFyxsc7ltj9JM8M+jbBiUmqtQfuvJQgU2MLmcDNELRVTO\n",
       "qoBwScQSza2VaUeek4vTy5DM9kbR+yMABVmA76ghSCryjycAEzDZGbqbTBcVgff/mEU9nw3QfQNJ\n",
       "HwfRERpK+bB/VKdyZRB3zYtol18u2zFgl+c4u9IAFntrRcQcTBAzgBbpUPcRA0l9ZRjRr/cCG2vM\n",
       "hKzufqDaTaQ9Iuuo3ltONWIG8CXBwI3ULzlGI4Dm+cqZuh0pj7skLk41bHGPR69KM84udXknDgMf\n",
       "aegKzOJKlIGadYKQHFAYVpb2h7uYRQTjaAMrjZbO9tCEBLpuayfPOuXtFqP8iyGzr2QQ5NEYHrDb\n",
       "rnh4+4Ha0IScSopIKCAAAAk2QZsySeEOiZTBRMEf/rUqgAWTqMPGj/4HKBAAtpGr4oZ6VlRmOjxH\n",
       "L//+tFB4OkJbZkM7DwvmryYce4Yz5pTuctm+hzbj4S7EEU22qlLpfbAlMwEHTC1QkYEWUnpJcjn3\n",
       "jgndzCW6X2IJia/TmPsq0jBBIL33I68TLx3JMMplT0sUP1tGyXfehJALk4RtF7uji7NbCzhsLJZH\n",
       "fVUasXOgU5whd/tdE+4vgkZ8VMco0NSG9cMfknrFI0LG4AwaxI4rVVLwzswiHlE73PnzTOmq/Cx1\n",
       "rh4ONdqx/hZajCF3qWDbP1BVx3NyvFH7TigGTlIgwXG5lOEWTGT9w7f4P8yXgrsZnezPufDzkCg9\n",
       "vCvFrXviBUuplqQaoNMy6n28gl/z6m5XCI5le+6P8uedhXNuNwvPnP9Pbpy/zRg3Z6876vBN0pmd\n",
       "w2c/wgVoOajG+y7NN4FR7AeJq6PzMhuStJcPl/VnL7UkHJ247pkhrBD4R/zk5mnxAEjkjv4wdTVL\n",
       "OG9pJIZNk38kSn4dKqZJAzuf7HNnkdXCP8YGRSVHyGDTD/iY/lfwqPrInsTHnwBnZSudorfgYM7g\n",
       "/v3LgjM8PQKDUUZnhnnjqT2udO84pLQosJId1besc5MALC3xVZywGNs8rHRoRxBY03WmWY7Qjd6+\n",
       "rQdNErM1UmkMYNMq7sl0jYRQjmDeTyhFKZsozmOhhOIzM9SKX2kGm+gus4D4LbPrsCbbcRQp7WGT\n",
       "8qQfeeSIZOQrojsWpmkcCwAQVY/ltHipPOg5R4NGKCpkz4F3tDKYBacPreqmwn5X01XRCOSYbrZh\n",
       "PFbNYpdAa45zqy8Lu9ugkafNygSLo4MdlrHYaxd4qIHVmtTWwCDLQdQ6pt0Al0fqAXBqIC4B22cJ\n",
       "Eju9tXncSRfC6vH6n7I5m5N2w3EdVhKuw1AYQX2XiiGuLJf9+hREV5VY40lTnBdJEQQdheztDdBe\n",
       "KSRgDSETI5OEzvmlJoZ1aNpPosp8BmbVZazWpYQDCC+4al30D8Fi23N5ICp9Q4ir5CTlDRMYh8KD\n",
       "KiaWRFl03SEhyc2GZkNyn9uUlxcmoaf88JlUzuaTVVNSUVIY/JlJaU+OLwBuBBR8alt2xE2oR0TJ\n",
       "cJGDUwfmZkzQdB1P5WFoJ0pdRyJl53LojD7XQSVmybY5qb098DejjvWJM1B5adLYaW7CAuROvdZA\n",
       "6Ts63Z8P/u+FaGkKuEh0SGNldWdGgBUGF/fWR3TEcUY2My801AXjyzksDMHXplaRTdvyOxQbDJhv\n",
       "+SusoBYMBKOUPS4us7Sjiw5zq2Z3l/eiNLXa9ZAob8Z9JTIgE++f2crv+TVrtNDskG2jib/uOx/g\n",
       "qnx7mmtUqNNNvSJhzCFWJ5SmX9T6NHtZDqol4PcPELqOy6UGiRNvBigZhzcwUaCNOm0zKK2HQ4zT\n",
       "r27v9JzBiI9ppvOj/FHi+Ek4OQw0+d55EeJAChIcHoGxolXbGHULyYHneHqp0MxrVDEWPH3DvE5J\n",
       "V9D+BBNbdue1x7oticZncd33uHeH+Fc4fAIYdQ7OwiIuhOB5tdo0h6nv3+M/bbUDmpSYmj0rzcG6\n",
       "9Ym55DyRuqj7bY1Kf1Jtx/f8D0kubO4mJKIxmxoeDyya45CBKoB6qg7wiaEMx8AdvLvcvJNyKfWb\n",
       "0Q5w/5liI1ihpXQCfLMXe+KMr5YZUqpleFiDqN1JXIiuqK3N1/sCMeR4y2qhd6vWumLNURBiSUQH\n",
       "IEdeum/7MLcoUrZUEQZb+UYPOTAkzp82odyHtvWMdN4R1xXpDpJyFwzVIBucY86OpnPcs0Kq5kI9\n",
       "xAd/nJB9lPKS+E7gPunxCY58dwJR1ojfTU1Oz4HKkvOuBOl71H2we7nUukVD2KwUc9coOcHwX/I7\n",
       "Zl4oFjSw+Lvij2TbbLI54irBd21YBBPFrL6KgSswyr8aO0J0pmnO+PboKAALbJvoveMJNATS37ON\n",
       "499L/8BeqLNeWOWChDRX6c8tO6cDPvEODkOjvgkZ/FvDM51fnaIbHglVbBT64tyB79uz4GqdJRaf\n",
       "NGPPIr6FQI2HfwVbQy+ATYGC59jen6q53ECcft8AaF2ih+K+Grk4GK3/sO/abudYSX07ARwxEvs9\n",
       "pW5PmOmEjTQKl4MTuGj37x0lKeubbjfSW4UoIq+EKjEDlaOjZP690D6PiwoTC2ESX6FA4DovZqob\n",
       "+QhLMV/ebpZ0hJ61UdKroBDad9GaEgwR3Tow8P4SIskoxAmEDQLAxL845LyWPzdcbnZ1vrH3XgJQ\n",
       "6a5lxuJT/mSQvk3boVuQHEP92XXpzGAQ99J9B/MmAMfjfqcUclbJsl+KAjE3DQUawLiRvw8mOu3n\n",
       "m5cQGtf/T+RI5fbbU61abygan4foZnvANwYiSS4bwTX5eT62GGCFtx9hPBwAxV7D1xkX8oUyVv7P\n",
       "edZ4W91YXUdi2hYn+WT8En3nee5cPqOA+Uwl1ih6VQAEkkptH8/BTPJ9upCGlHrZI1bvCY8gz7/Z\n",
       "FrkMb627vgUmDKkfRJSZ8Tvn6cIfokC08LMn/jVkK4pK7XkTQmRQAU0KSHVD7x5f4P3DA0y9QtQ7\n",
       "RB61nLjGKERsjf68AQPV2pquSurVVoCBwHVR/jGWmpkPI4j4qhuyXgHiMTiYOXDAJLj2Z/Y5fE3u\n",
       "onTXtL12XDK/SnhmOXXg3zxAtQcusbaCTWXpI5OvufDEY+Z8m9S57EX6i3xIM7/l1woUgBjE6NTg\n",
       "ftiDnlUlNRG9zeSS8e8xMg1ry2VYzUl8z4Mv5D9ZPHQyRwCZO2swUBjRp3nHqgnNwXiclJTdOS3C\n",
       "L2kqsRqiBIRGrmLdH3OayFs4kr6zmU/mfJaEzlrgZCowcFicQnpBVLWyzm0lsyaU37u7Q8GXl0R4\n",
       "2dprxCZC/wAtRUvhacDyUPdANmOsuHWl/V+89pTK2p4v236ZgSyBqn1ljKHfMh4L1GfdnmRjP/q8\n",
       "/44ls3oJ2hkF7DMd7VjUUZyoynqUpODC7c1J/6USH4DjD8lacO3IUS5GMZKoYi9F8k1iO61BCdKn\n",
       "x/HNdFqeeE59P06dJim4XwqnCzaRl8TJoqxGTRutc6e66KjRFhz43gjmMWC0jAC0F6za8aF6ZjqL\n",
       "HG3b3e9nKTwDb8bNlHp2DPxfgm1Sy8cFOWpyaapMqlb9oBsAkrpgAAABCgGfUWpDfwAeXtYRhvUA\n",
       "cu2bQGUYMK810fcPYwaQA0QlVOokP9Kjzp+nJk7zV52ajx4hn9VR2oM1l/TJ+cgs0cT0gAtPJUiI\n",
       "Vh9+kxJT0OqIYgpFOLKMg9TQCRWyWEqSbqCL8U8HuS0Qt7Hdj4cK+Pwc7H2v/niPUkc88MZO9Zcw\n",
       "dEym+l/OcTqi3tMIphSvVOe7DRffKouU9mB/VsV5pkrg2Q0O98nViRdF1XiItOaR9PwVX25HZ2BX\n",
       "aTa3sw590vUrrAMc/9FqJt6qHq1TAAlDgzTQ5FjMZ8CQ03Gt9dotV+pps5uzPjbubQI062pdjFMI\n",
       "soZ5IwCBqBLy9bGsv8I7wNIX2wzGAASNAAAL+EGbVknhDyZTAgh//qpVAAVLxN4BRCslQgo5yg4i\n",
       "RNlPBykZzaczYE/KK4JA6D45HvgE2sh6P+K+76F4TvF1+VBCfp960SZsosEf24Du9uZjMS9exHQI\n",
       "wzgnL8n1G0kEhHeLseBpM3rqAirlMz8Xkcko5qcLPObLRnxqf7eeecEA5WNA82mE0NfGE9kMM8xU\n",
       "p0hiuCFIxHOKOnh2a2mUPGmxJ2SaBAWkaDDPohQH+gs4QvX6idBODq+MIvBj2gSZ09SouAcJA2OS\n",
       "M0iBMsMRwp2su1nsjeYAZozAhF9lcYNJkJlT92wlKxRVO3LQaNmD+9zho/RmvV/GuCq7KtP0m/k8\n",
       "zOmygDNOVH/ZBKZUw9LtTuHe3GJM7p/sztxs3I3L1/HOP3w9JxhnLRa/iS1Sh4lMfKzhiulSuHG5\n",
       "S4T1C3Rz/bVD5BjOt7t1jv+djfjawthSm7lUTRAjnnxhVNNyXkaoa2Rv+IPbI8DlMpApgYikYof1\n",
       "kze2Qnlp0nHJbcv6UNnTgwQpJ5NJ/0FRdhkHkUemy3cJrHizp5ioW168OwaFZl+lv6fasZy/wXnw\n",
       "c6SlWRTws6iZjazYGEggSku6WuNZn26dd441k6VA5aFqv4VwJt5JIInr8T4/nPs9YAFxT4INGf6V\n",
       "HzRZDlRpr3qzwK6jwxia4GpZk3QHz94SCIQduSixTwJE/bKqtWo+aNVtUbZrShRI7mfFIY6DeIIg\n",
       "pbWIZOnJ85kMxuZE/DQSqtdaVs/7zd7BG43LUlUGeP9PY/an+NdMyaHTXenppCkX1xLEpD2bMJOF\n",
       "G+XlCHjgyFAov3OGEOFu1q33IDc7upk63WLi8tvMwZmtvqgEGhr9gJrSKx4aDKlVfpUQDD4gEtrQ\n",
       "KqrJFqbCact5X0sZmqcVnd5CUqQlG0DKdVeA4PvvId6JJl5f9FAModPmH0cxxoa7H1QlMfWELrIX\n",
       "KPKry0S8naZuA9cgsXRqKp4Y+Kv4/4+RwBO1/OBSew4eR/be2QTaP78GfM4RSCzHFMRtPUDD4qP7\n",
       "P9Qsl2jhFWzERTtgFnl8F+jAjbicJ8qnwbhF6bxqUzAh2bzI24K21FdBeUeEnvQUNLCwr8981fXQ\n",
       "nJ6Oqe89FIPJLJNbbgla8TDifEb1c2hSuX7wzhA+jZREnOSIGmmimMHFN2NzStnb0qTIaSE1qOOe\n",
       "BA9Ipzb/+CTVmVIxmPZpt3jMEq81e8ZI9o05MuxPNGF7pQ8qx3HOH1uRuCVXMM34vC+ITTkmhyW2\n",
       "6VZ8WNVZmtOh+cUF6+AB4fa7hrOOWKxWzeFELYS8ypPg4x/xI+GoOuoZmTp3xBCI2LYuFHg7HDHZ\n",
       "VrseXKYdGdjTRHdviXZ1RGxU7ssMiS3/61qaGlFpPG+UOn3Nh7hliDZ7LVLczVHCvcqjGbPxvNP3\n",
       "BqYi9FhUiokOSg3Mk4biCej6zIsyuijeCDbzSWyF+2YcHPeKU3WE9JA1Z6d+IrUnK5rxv36iCKsT\n",
       "cX63G9vuw0v4xxDFRylLvTWREAHI4gHcGahqjwU+uK2pWHmSHsx7XoiGUroH/7L8B4sxElWVkzTJ\n",
       "UOyj1YRm/64v/uQCDryhY1t6Cvb/2a97ZF8P12CGp8vgUkxs1R4ehLALLNqwsnpdns0QnJqH2ktj\n",
       "9ahBwnaDVDHiFPGs/YXpHLQA5QFe2PQpVfeD7YwJL/py1NK0DcWQrDdewH6Yo5ib9FUDuProKffY\n",
       "JSpPHuAOD7BmyLxHQDJdbZjl7TYHaf2sBbHKNVJY/+f/0cvouJ0BafKqan4dBvZYiPDCZ6iJECOk\n",
       "DzgZf3wOd0NkqjUpXNaBd0QN4fr5N9ZrjcYkdx7aio2UGM22cd32DoYS3tQeOTfNzuGgFTcCN5s7\n",
       "MWHMscuGSrHoFnAIzkGvsKTgC3bFMFJEY0F2QlP3vYcCqbgVVl64Jp9xMviiV9kThPyhl9kweGt4\n",
       "BheO9f/epKeHR4d5rDE5tfVuSG4pqprevOakOy/JjKLv8W9Nu/YY+fni5R8MO8mgbnfKFW96lm1F\n",
       "pSlnxjyB/yLYxezkMQPepR7JjC5plbRkKwWm/dEY99m0/ToAVVxGSYGNlszfzsfZ8NTWmDxq7k/C\n",
       "wfID4HbV3YhOCXxmuyEfhw1hEhYieITZbkS6w/m9kUKOb9YxAA8dgAXM82yGg5Hn0ln9gUfkLBn+\n",
       "fnkvP/rVMHdrdXm2z6L6z0/NqGYp9J9T+SONklg8RXW1BFjmNCPdxkxkVjWUQ6qqR1if1X/7rVvi\n",
       "Rjx6vPTBm433dXZsyP7NcsHZk2XdeLPgJ0aUgD5pSEL9BkdnwodW39oMQyJfXfxF9gxM7XhOkK1e\n",
       "op3eyaR8TcebDQElj6PYFdW9qKyJ3MBHYaa5xres7repj2Xc2/ZX46MLIJ2nmT832Nna8qFlzDq2\n",
       "AWycuQ+Mks36DkwkK8rT6ZVcQD0xRvX36nZppQ5vDF7U/z7g/RwySxmttEpgXj51YVUArkoTMY7n\n",
       "T2RKZVzsR9nJK+77g+BDHfc7nDW4MYeDWCq1VGWfvDshZcNZy5gsxmbjeSGDVlI/Xr0izzsEZ+IO\n",
       "m1Rdu7t4/BUS6WO6UnxsyPmAJkr1dhhtO8F9sLbTza+OQaHGZG3lapJDXkMQrt8gecNxrhihWsEs\n",
       "7ih937y+s2uf8LQNsbJs2tv7kvSIOwBRyp+pnlHNBaTt7tqc2g9nozwTlHG9FYHQ0Hb346FhQwTp\n",
       "SO+pkcQpZrpP9UARht0hECOCc3zOyK0+VPyryZPIGI0SrOCoRT5zRJocV9n3i6UKdHoaqucHrDng\n",
       "l2POvJfaOHjpUTqrCHp/RPuvv2f7ByTFMXx1Al2vWa726GTaQy5CGWd7Ej/7fgeZXNgaD8NWHrYh\n",
       "iydwGX+cM3N0tvPbgkRzduLYIaqm29+ktvlK+bB5DFR1ci20DKmHjoaII+W/0zxZuXzfsQadLXDR\n",
       "XGCMO9gyzA5tURfJoa6vTAcg8cm6YhGSpSG6VCFXjqVW1AAMS5feqt6gNGqEXuxWbDxOlAhhX6tL\n",
       "N48IaqWEG85+HvvGqaBGny3mrjNHYwAKBCA/FAXjIryt+ATBksnV/w5wjnQMaEXbRymbQUaghQsZ\n",
       "XAK+Tt7b3VCewu/nWgZRdq0SzgYevTZzvZ5MIJyaYOf09B05riFXlp8zin3S1POiBq4eVm3kXOWZ\n",
       "lhk6mrf8w5QwnnpZaELyIdV+IE5b2leHg5vq6w7RTh6VnYUtv4WGuM+N5sAFEN+cALvgh4RPAS4d\n",
       "6zuf0Jg5asR9pG2sAboWELDMOobIgexmZLippajjyMydpkDnpikcSeY25b0y91jaYgb5eQ42fgso\n",
       "U2bEuswBQ+AoYfxYOny+R1wLPMglDkAb1BD6iWmGUJQwkBj0devwWp0mVeLaexV2ww+nNZAGsAjG\n",
       "zoddMQjwW6wMEcCO9QfkWVnEjKug0JTT/9a0JSV1yH+aV/oRi9FPtWXoNQAOarYYms7dsU4wooiU\n",
       "96PrLiXUTKVYSUVyvnieFnp5BuvfdWABaDUbUghPOpzRMX8fnAAbVC/C9ySwTkKnLXvUFIP8BV92\n",
       "IXLOy9ixAbhmmLwXYeXkjcg7BUUNvNDO7Bxs52JRfs8FPj0X1cGdUcfsmNg3VbtsHibF43yWJlg2\n",
       "1RuQZwtDH4T1kkw9BS1J1A7IhbWjvnyo5/AOnt1BWAmMNlQnz1o1QAgILpfJBjNgAc5jSSXNIQnC\n",
       "GgxrzJA1zNV9dpqk9SHVV1cJx+pKog5talHzHK/NdktLdMv+26aGlzenN56mfNRGgyNAtN4Y9CgT\n",
       "WBHomOTmp71iMaAob+q56IkDJayiwb4U/yVEL30qDrQipUPVz/P2T5BG1tzlk4zOx9xwCQfm75L3\n",
       "x6U3civPWBEoFC3Ylj9YiC/fXOGJmMlA2NVpPFHo9cb3BgC/um7J4oVogh/hb10R+HLe/NnP3Hod\n",
       "9IsfVwtZxIjL3WrBtGUQ1/y30KkS4rdDtgcVF6L6Tt5oSVCAvjaRcxIi8Hs9/6Mox39NQvZOrvi+\n",
       "tJ2nxnH5q5Cw/jCVJCak/e8APi2qm0WtCY09qxAJlFXORrv2wb6SqQ3G5KGwNaGK7qJrhdlCTlO7\n",
       "sgruyZEIkVPO2hMgCHgAAALaQZ90RRE8O/8AF381AA7M0iT1u0nUXl5iCtIwYT8MSkjR4N11qUO4\n",
       "kKEVu6j76/coMiylwPMMN+IWh1A+B5yBPjBlKeY82sphzjJHeRrRIC/hEqaAB6qcJfG8SHDDnh16\n",
       "p/9LAO1WdRPzdaASz4ZEtb3uEfr1ILaxQ1lyjy/ItruainN9qa1P7CAI4bmBdB6uo8vLdcEbZ6Ak\n",
       "OucVVOjNzXMr/luHhQQw6WBVF7NXjbD7Ziywil97oAvtSfpqxdKbwZYGdnQTB111uSzOjuY+RJL5\n",
       "8o8O6k0zzVi2owgEksXpWGTZAa+V2ZxSdOaVaPp9Om8tjBPlQVynKdI+DNcbD5k2ya6dP8CF1575\n",
       "l4/dmYy8z/mFlAKNXhNoCBe/U89IFufW6xnRt/tjZuH9FAnD4ceeSDVbGttLezQ0eVVkwqkU5pcN\n",
       "JLyeb2evFXDqHI3zyCuY+rn+NswPw1pvB+w6bFaq9/5FPyjX6HKg/Z7H+A62aqWz2NPbjVCYq8B0\n",
       "my4iFM/j0oaZ6FpDNi9ypnskaPlrE9vQ/hgK1nqjX9XDd+uvOgFTMsPTpCEmgy072F5QAiFvuNoy\n",
       "NqDrThnLvBbxKxceM1gmwoU0cJGnOcqT2uROYAw+lwsOzviTZpYqZoFnfqejOlJ4nkRO+vfY5rj2\n",
       "E2XRGlRL9R74buANkIwwq7rOrXT1R4TG6E+JiGmnKBSpPT6WEsZnUdeNNW95FEz0I5iVCGZkDsdc\n",
       "H6YyFcbfnsJ0FObDlQk/9wB4xasX1K88hNxjPf0buZPaQnLcLtIeoAVuiLtbUD3rUaJufmLpyAEZ\n",
       "BGUOM8Aq/bbjEAsVNRKg4w4C53a3V+yBAsecp3RanLxwUay9JmljPRIsmP7irWpRBXvBKRRfkGUu\n",
       "6/hvhfzReE3tv/nZNFnfMzjv1H/GsX5UHv/mGm7YVAr670MW+PlryD1KdXpuvWb7fFL1JfMYpu+V\n",
       "aztMn6BswAAAAakBn5N0Q38AILeItPXlqeAjVLY1l8Yvgjvw///ybJqzKAiyDyBDIiYWT/yMKv2Q\n",
       "Zc10B9sitx8GTnHTi/NOircXnf6oVrQAp8h1Nbv91gZH6PjsAkwCEzZQuC2AlKDseX8Vnhr8dP48\n",
       "SP+eFi3JY4sukyBXYQRPyV1U2D3BnkH9WKM0nRblOT+k2L7jSn9c7iQY6UU1keiaTpDQ2xQrggzm\n",
       "tPoLtFPKQps3nYo7V4cnccZp3+rvfk0ZuXnwrDkbc0ejgZjqaLOXZyLbWhcvRN7BZr6otWRiijIQ\n",
       "tks+zXWOQM7HCX+hT44AJGvyXLBDOf1QAvrHXMLGFO7p5VAvMGnsuJfcuVDZF0tgzTGIM5E/IiOH\n",
       "zAnkb0RuM+6RoD3+I5EMapTlKCllsTiikoob2C8FBo/lNkrqGvYn4HjT5rBw9qakoVPntFgnbP+a\n",
       "PYMteiOVqHd0oL+wQK7cn13dAPSyaJk5UIZJUL0w2ps5mlfC4g0KhO8Oe5o6rQ9Y4QmK91g9UKOS\n",
       "qa6GUcHOnANr14onxtmlNq8dWoqTb6s5wU+4WTEMo5j0inFi0wAAAVUBn5VqQ38AILGSkYb1AHMu\n",
       "/Hv9HlVZQAEHoBTgC6CF1oDcblj8dTmTaFUD+lwPyI3QsdEtzLv//xWfhJ9AZk5cqKp6/87J0sff\n",
       "gJM96S1ldN5mAfeIBFWx4zyYlmDwfA+elwTACzf4wRvS5uLWKRxyN9LKuIoOi8+fktLEpyJTxUz5\n",
       "KSkdd7/w6SkkP6cHyJAzeIHRQL+EfsSt8/StmZmanI4GmBpEHHa1gULCej17SFfNSVUER+CfuiHt\n",
       "f0Sy7ddKvYqs5/3odjULxLf/hP4+1kO4oymsK559bRfc1unEM9eB9VH13W3Xb3Ms6bdhoZMofLPN\n",
       "Tpkx0fuzo6Yg3D/TRZ+BpyLK4+acaEd1wpfmfo8e76ITg2NQ5giGrU+40DGDmDZe4YVg9GPTs5GZ\n",
       "ArHjTpJf/V1NcPZhgNLOkRTEd3xi2wrlyMiyhzG5pAORIEa2hAYVcAAADtBBm5lJqEFomUwIIf/+\n",
       "qlUABUu+qADWxBLSg+CSuBz/lvGMl1+JR3lZamhy9G6XJcXkwNYM/m5Cm6HISa8q9CbVhoX63F+f\n",
       "dCUd/Zlq8lH/UizhGVkLNDvwjErtIAIOpr6+HjFPE9D6nCjylSIOxVHlXCB3jX8NQOChlQ2XC0rJ\n",
       "uF5j/0EIBRFhFcMUMgYyRwKhmf+csSH8534mqvQCBi3usZUrcCldQnGAKdzJ59+eXcgTlYdQpTMP\n",
       "RmI3YcACuFaxWFn6sm8Er4tAlGtGIfgO17wOQKy0yGKtpGbplZG7dNwmkvLTiZEPGcV4EW7z3LnK\n",
       "e/wIp80ycmM4Gjmh7EieExa1hWtFzDYpx7RRDLFpme0EOyE72yb2XtknGp7eV22EX+nH2JjlDcq9\n",
       "tdhcWBfQ44wabdnRcvCZpNxPQ1d3vRnGt0kD2rkL8o0Q9uuKrw4b40m0s3GMEBmt+ELZCfW/vHbc\n",
       "i3x8ew0aXvXKP084+gtyuElvbPk+6tk9H4A5XIECoVzIsdoD3dd+1T9YgczlNxIxvfjOYkJ22g38\n",
       "C9wfh5d9ExT59TnukQVatVOpAB44QulD1pijDDNxZBwfk0UPcBKjIJgdhvQdOwYDidWKfHn1LccN\n",
       "5iaJp9Omlg4R+PNwmg/gOlFVLwt2VumlUaM7zcFcWBzq6j1fd7qBe/qVscX4KYfMEJp82CUre9t/\n",
       "aZkTDrYXXBkD4byp7pgWYtxaZw41jkEDWwXLcWKiqi8M0uuEtevZa7DEKy+n2mq7ImdW1aKeEouY\n",
       "fOAoVKrg00NwiDGyuTUKHuU6K3TFtVUHeR8r4O6aB2sN2OpBDhQ8hwfZVOQx2Ypf0lKmh/DLmdBD\n",
       "lYENLndOgwutOH0hfgTHRYslW1CxChM3dh04CgslZDQw22c+ujgMQK7LKvhErr6GsgGnQ+ZjrlkR\n",
       "LmJEUIO1WoOcmdd5QmAstF4NQhZVqGpwsJwfgba/CejFBlN17aqLyJvyzV9zzFUNdXR7f0SxHhKf\n",
       "rtLO4YcvtgFd8ff66h+fWPaH1z6wh47FVkJFTlPXEhUKahFstTr7mPGSk0gmRpV/ZSwg+KI2lhex\n",
       "7EygcNm3UozxEzWp4oLJm+XaOssQv2X1JbdDh1II6j9t7e9aKtVandhUaj12qfvTIZw/Y9eyu4Bs\n",
       "8jlc8eOnWTjmQHKHPw2KlVw0bAZ+qENLo0gHrEHNTkiX+dFqLxHUsctBWVkB7OHlbJHTDToiBK9K\n",
       "i3E2TRMN15kXOZMfW8VB5DZ0EB4HGHu1Ei4l9FqJBWDtFAsE0AFoqrHFQ6+mPNGUj0JH9x4PDZGW\n",
       "qHGhpvElGWh4hP5z5FaGOv5YenaZJHUXDDKWKUPbi6wLHjkseTAUvl3eRkHr4hw2A8Ch65J8Ml5/\n",
       "a1SPB+s6LDxXiBoRKQI6hdHZMliheSvdFSqcv7x16rCgch5rf+2xfxoFlb8Fk4jPPTp8GBEppbT+\n",
       "6xTwhaPiuRoKfwR6Omq7KI4V0R7YFjWOIZMwNn/N9QNcGqVkvly9Yzdmi1xmVrWrVT1p87bAx0Lf\n",
       "VX8tFHFG60vXdwmfHtDhXS74rEtKhWTdVCQkA+f8AOTEvVUbJM1v8b3QirEQNl098N+eIh2h1DCk\n",
       "Sbp22AObjaa0BdbM7ItM/9sGyZPdZyuabLnCf1DP+mjHGnpSIlRLWikYDgnOxfgdG9SYjLIJlBmt\n",
       "sUm0FRnGgUofiLYxqxeHhJ1PoUglV9T/R9dy+2PPRgWkPqnT3Khrpvy9kt1Qa5KKi0qMK/eMA1Cz\n",
       "yeu+WkONjzic1u8O4jsWQXIyMmCs4c/WbYfUc+AuNrfhVWr5mAS3BPMK0jpvVm3vo5D5Ng6vor07\n",
       "LLM08FbJF6yoxESAvG5TgdIfSXPik4xovRojByJ2WIpwdRWf7AhGyjFEtpHJuQsrDObbSOkSyZru\n",
       "o3LN+Y4AIaKgIdCd6KjLkPAXzntxoWHJjv4UVi7Cy8kgT/wRbDiL21rwkHqoiXnW8QuLSQ+fuvpq\n",
       "/dk///87SqLdcII7YOtNBZM155/gmjJX4alqLnQIdFyBQemO/NJLi4cP6O4926fK/SfZS35FgtGO\n",
       "ZpJxJV7N3f4dlHROy2j0siOG6zLR08rd+AGrCR3r9ODpSgU6sP7SP2FF96P84reDlOlMz8lgZTzD\n",
       "DW7m4OlMM0K3eNDFN6CwfHJkJdX4r4qS6cAaz/tRYN2aHIy3TQkHmXZxm7iNqG5dA4iwIGwyedIm\n",
       "uxfVXfrYqHWIbBHIXevu7llZ7bvohjZLxpsuDeceQuMyV+rADP6sBVdzl8CYWHeF7MpKCYk06V+r\n",
       "232YxiBV2Ww+a09nHXQae8ZnfbaXrDWg8WHjCQqwt7RI4EluYOjkbL30M2dS4AfdWNyNiOnLQOOe\n",
       "jZ/nRR6cIRNysSA8D28+Nn5IwNqQy0T62ee9Fk7oRgRFfY2viBxKuouVHygDMhjx2Ushs5vFu85J\n",
       "Noq5RsZbp4nbms5h01IIkgJPL6zz0bRCGnlJ2fZeK5vWOlFlOJULqxs+RcsGGjwOc363agUQYalt\n",
       "R6g5UXiqiTBtpNt5MYlkq1ralvBw/giobBGzlt3Ba2ygZe3pZMVnVEmS7R6MACYji8kf5Yck/vIg\n",
       "3p5uJZIeqX5h7Eap1kEGd5/pNTJUc4BZWNnqjnjn2DJktm3b9VrPHt+jjqBsTS1k4jDoPnho7sjA\n",
       "JdCylHUC41G7jH99lgj/z47M/wvETiwhCOyl6CfsVbfykZkAe3PGH4XtTbAZsQuxBWW6LZ3+IkOG\n",
       "ZhNIKHtg/bx3aPqSmc4pPMm533wYe/lt2Ptnfg7xjw7LHcjVCAfeXx5ZpodPQ33yn6UYCFX0GVG1\n",
       "yyY7Bcc4RdgdTcyWqzNFM5R6yAbIB4nJt0aawppwUmHoct7/GdZhwQBgzkW4AYfqViYZvJs6ERBa\n",
       "oTTgW7qhK5W09fxE5IfBEAWf+ACCujE62tHVP7MmQEp6fnJLC+66Vb0UBmfCa3hQNokv+NdnCzS4\n",
       "UVtf1lCIc38TqSTyZnhDUgkroC/Ymi1xGJDQQtgQIzOPi2LBsScbnvm5Aj+0x+UrRR3N0qfd6mEo\n",
       "EL8HTU/OI4vbhf7BR+netrZgK5/IkByl4q9bqv6HOTIRtdnlfZB+ALWdS2z1OXk1ZnfyNlN1+eJJ\n",
       "ietGOWi8ujk2Bw4vLQOahoqMZk9VXVuP/36saQW1dqraYopH784K20MbJwr+yL+lm/1M9At1m9db\n",
       "KgUxg0BCbBDGq3JtbUf8yznqfGr0ppIBVwnb92Q+mCIZgpyGfDYONd/gHaWX9OV7Bbf4XFjkt7mn\n",
       "4/35VDe9zc5YoE3cQT78Lf1t5yxGC+yNgUDqEEk35UfWza+JphblxWn6t7woP6S2Jus2CrQ2QeIZ\n",
       "+/AkdoYmfJ9lBXuvfMniBb0pN260E5qmSEH9vBvV8mgs+KoSik4qcYXpFgFglAml2lYX5PeKwwBE\n",
       "3Hjj9Q8Ekpeb1QufHq9dsdAmY3+1SHJCbeGMNVmduOvArzR9D/eZ07UIqR4OP5SEsRmMkn8P4DKz\n",
       "4XdHCrTrb7Cw3pAAtuxpbzZY/qR4SL4Fd3iV/YPqMPLi7jGjw8lw2cf1aM60OKCxTKfksPtw41SP\n",
       "V2ENHT7fddIZcWOew5Yc+SrggswKnopQ1aOlHqBucmV7fqiV+3wrY1vSn5SXNUiyhXWUhoNmsg9w\n",
       "7G1Zmhb/2w+ZWvVPkQ4SzaA+uIYMWUMJFbhzp9dS2ItYAz4ZX0r1tbUjRLOusF916paA+AtIA8ey\n",
       "sxSAoSm2el2ni+F8ELf0Ylo64ZLrlpn4iTL91lZtOUlVvYxKFY9fha+UoDB/FiXLbQqkSRxqxKvp\n",
       "HDV9ivDOAVIO6R0AF3Xjr7BqzmVWTx1TSg2S0Us40o3g7RRfMK1XoAnMNMN9XBXhpK5D+T++q3Oq\n",
       "cDxyUJslNz6GGhu8QFB1gW5NVRvH6okH7XKjyiHaIlRmQQRLPiqIGXmf+1v4G2HJWFYn1xD5O/AX\n",
       "Z4xpxsMW2jC8fQwYLsNX/O0bmOaog/7VGqbBIcwyWDOmGuKM8cbRraWsYmx0doUsCH6d9ehhIoD7\n",
       "7Du2RUxIbZbQe+Et8ehHfhH3Wc0NJLLDN3NEl6gpraiLB96tOhGG5b01wWvUJnesut8apTgs0Qj6\n",
       "56vn5jS4BBCoksSBnvE9/spc3AHCMlxKampQg/UUoT5qXQj9wpHPPT+KIo9At0wu0Y/+P7gGzNZK\n",
       "9z+i43qsmGoEh97v6ozOcHOPRNAgiHM8S0JAmIMKQDxr2yDheHJ1nGN2C69gshxn7475bOEY3/Wi\n",
       "c7Vzs6J86DiOnTiPaYKXsr/zc3C6q/cakNRx84RNyu9Ii0deu3tZbfdZoXoWpwkOlBfhm/tlm1bi\n",
       "GzR3A+mUJoGIebHWO/NhNQivmH9qrq5JCI7GiaZU7nVBOdJGtIK2qwegsLP8fR/Z0OZp8zdBXjX1\n",
       "OSgiqb/DvMUMkaZ91Um6ciuAFPza9OgbmEWhFAYnmj2Eqnvp/AddxgQWdEb9YQELH1l8bUCXYkt1\n",
       "5jFWNhqi2E5RQtrQXAi2SaVwRK+MqIDEN2+2I03+enkMblG9GF1Je2de6uNVFAnYa1faY1RWpze6\n",
       "3MR+Weiv+bzAZcpdnoCldeifFtJJeFN27xj1Z9NaLV14YVp1pI/Hmfnh/PAeFVvtgVZIPRbzXscL\n",
       "+1zpFsw0lO6rg73e8svta+y+reRhjSSqw5STYNmfJAL8nGtEGQggKcXzlWRvTmGTD+DqyRhWSz1C\n",
       "O9D4mKznIc69G09Hr0S8HZdf9lLSOIXe3SMq6M/XOgZwS5ZcE5TEHde0QnB2lfo7Rsr0MM1DvspL\n",
       "by5hM7SdWKRbxNYCulCt4a8nliXozNAmZrIYJsfhNXESHbCUZ+0RZ6Tu1WnP8CqPr9Xcb1RnqZeR\n",
       "nNa/+tA7LIZSJ5FSkdiD7AS5yycxM+qzVrHgBac6LjAsjIOLkhEp7jkVNdqFw/bSZW+7iPjz5Sk1\n",
       "Qtf3JkC2QrqKCLBNYFxQhl/fH4BGN89t7wXmCiYx20/lCCKOlppt5GKP1WID8WlMh2zz/JS3A1l/\n",
       "5NKpPZQHDoA1ytlFVZpKU3EAAAH+QZ+3RREsN/8AAT5PEGUbjy6y8YNt0DjwzK6LCTImBJPjVwaH\n",
       "zShFDTr7ozCJMlfBHdyewPAAABfM4kSV7Ojr8rEIknWxzdzjOwIWncJASx4f+8clFfnb0tHFS9Lu\n",
       "MtNuxnIrcIAcEGTTKDSSDnMKsWprQaF89+PrmjU+xl3caGQraMetYTY2OKMplQiL1eiSMShh8xbe\n",
       "BMu7sw3wDOsENp8bZsPIRFmhK9vaHPdkRjkP/zC+t8PP6lrZFcKKGZxiHRU858PubhlVydc5FTTv\n",
       "QoCm8+PqZd1G+cI4Zio+q+qgeAA29ASgfoPJsYi82s5Wq54ifUFYcPA4PRYPwGBrP9iVExTAAbxj\n",
       "oJpiZaKLbzjM/TMNEfCHHq90qAM+c8bAkl3llxtJG8OYD2vKs9SmMPdFSCICK535E5RoS9JU+1S2\n",
       "8BpaWvkFvIUyOaa9gh80nngZRSGemL3yYaqY6YZivRAsNbQRpzbUKrN997fKuMXBSelLNmRsJ4dw\n",
       "c4PQmkvnmEUgohHhQd6lYxGtUUrsLECGwoXjBPk3K8txRoJ0luuI1gINhM1DK9/Jxa8b3sjyRheF\n",
       "tknCnRmmeUyybCAzN1cS4CEMN6uRTrn6eGBIRNMPZi12w5fgf9feAfiv3j06uQPsHvdrjHVwPa3Z\n",
       "mfgGj1hCLCSHT4db0mWQqD5hAAABDAGf2GpDfwAAhtewhWszoAO0/4zapWzMVv6XlCso2ooVIKwN\n",
       "BABif7EkReh/+tW7XKnyPWI+57ud/HDR+Lj7CUfxN7wdk4oT6/BvrL4l7LC6NdkCusm9GrrRbUhG\n",
       "vbzszIkeeiTL9B+Iz0EReqe+2dl9uCk7scubAeck+R/DGSmZ7+8g4tKqGz/EX4sDkIQnWIhZRQ1h\n",
       "pAOvMrOEDeIZmdXyiunis5X8QVu6v9XaH6WDXwG7ZVyBr+0YP4U1uNl288sHFAzBOaGSIa6/OTG+\n",
       "Sew0v9tkwRfQP4rthQXkrLwaHwmquRz/rA9MDJeKp+F1My7Z46OX0WjwZyK1PgfXJ7+N3RNlJ30C\n",
       "Eww4xxwAAAbiQZvbSahBbJlMFEwQ//6qVQAA7p5IACfjFTwXz1GVLXJvPl//9G+AaddnZBNXebY/\n",
       "rseCFiVbJ6MChBy8SLosW46JGVto0kgMotmm38TG5OG1tem0bNh9HL3uKVnr+nEudKXCbg3CLZ5X\n",
       "j7sV8zDo8tcTaYz1jdrC99prK+juq6FNJGflFZhbzt7vX9kGIf65gbHRiPSkVR002C6At3soBtKb\n",
       "Bj6S+PgHvbBg7GeZFXGl4xiy3S/XwYIzFnQyOLX+/hn7GV2PjNudOXgxChxEpmL10aVPViEemDng\n",
       "h0rgHrSw9m1p7DTZ7YI788ZzL/6qXPV9bYvwWsvzfrl2Y+1Qa7MCsmMcw4r1kaCrpFlX4xw90j3n\n",
       "Mig0U6hzzujUv9lh9guxbtVDI6TagDvuF+GJZv4QBUDmVy+E4qeLDyuB+27KwIdE+GU5oOC8pgV1\n",
       "is6pQntora37ml/kSkrWKYhh9CRX0ZuXgIGAU+ZVocwwEBWnEvpljZuUahXIJ3BsnfklZGVzOLiu\n",
       "ZMrbigyIO6vI1DPcHIbTSSxA7GxXIr/NKsWImGHZKXknXGb/LEsswng96jtXLxrBuf4J+cIYoN1M\n",
       "XSjn73/AxWuDau//7PqsEbL7X3++eGfSLYmwH3hN8lInfOnq6pv/zSp5NiS7jt1NZ4m0WF5gxeUE\n",
       "VQSsLWd/bZnkUWosN0kI0xuiLZVFod+0h/HO7giDAEpb+cXCLBW9PPZ/AIqPh9NxnuqP4x4XdESZ\n",
       "+2xmMD25iOTsUhRU+u+6GyGdMa+HxwLEWsDUJ0lGXzAg2ZkFsP9Dxu5BKZtwUGZwjyNq53NjXd64\n",
       "91p65JwMmge/sODIZRaf/SedZd/vvrWmveYIDXGLLj5rAA/E/cgdk3BN8SyPRb3RaTjaUAeQSL7Q\n",
       "Z0jqWvHdyjT0WhmmOcjhqP/34bd4eE5TN+UVspp5HNZejinVxCVmpQ18/JbwQAkaYTaTGODdkQXZ\n",
       "suQBppAcGbeMhGLBpjBEfhcoXrY/3xKv81jngZFSN7g38L8yVMJk969akyZkoB8jlNuNTgHPhtvr\n",
       "O7G93XNlsDMfZrnS0SoMTG1oXjtk/ddGf/Q/zMXqRvFiVaNhpCNe/+OnK5rgHm5L6bkW9TFmL7RN\n",
       "f3ZZK6f7Km2SyLm7oPfyPTYAjHgmnReQMWJDm/RvpCaxvafn1ZUF4FiNs5kYQ0Dk+8ztbChYAmJZ\n",
       "tqlD+s0I0vVny/RtOlDadtkEbLmixQKMyb/fw6mPy3fdmcd9YCMM1Hu86bd2ZPGq0xBwNlM2sBPu\n",
       "XndWFRmjuPMQH8kf93H/+5tMWE0Qpo+tKFzi7kZ/eDy6MF3Q6aaPzZcFKB+Zct7n7n1EQbNRRXta\n",
       "VHDNxMqKvOpCZdPgjq49LLRRtt0hxbcJSjXf9FmLFcccGJ8lf8nNznOgZAmlxQeBYVcH7xP/qzmo\n",
       "5AK1IeUtUPlIeHWJnf+4jEq1yJo8Lwy9136Wkp1ZK+CYqRsqg5FjzBfA7q8qEfpaiaHxXsib2u2v\n",
       "3psIjAFEdgAx/klcX1oAF9AU4s68vVcz0VV4Z5WRvO/2rvIoHhUI6N81Mn55aCI7y/t0VbFFyHcQ\n",
       "iAgpxN51l70MKwNsUcXbXpiA4Fzkgb5183R/VWdqMtWhM6gGo5Nq/vQNdS2fcDX9wBcsU7XwhQwU\n",
       "rxz4EwTiXnyWFax07oHq/fPBjWu/lJGOZks4jOhPEVaKnUCgWQPObQ0W0N8CuxCS156+IN+CQi1S\n",
       "PXHFljkYcPtgbdOEVp5KQjBsE4BzNxmMouEubO1x7MM0eMzI+wUtkpT0TRRuUggUTqkGR89s9361\n",
       "+dDpMP06PNwkz/cFfBVLOvwe1KMKA9nTGlhXSvyhgtnRfMgMPLsoXL8uJ75QwUaRwPEJ4O8puvrF\n",
       "8DzPRLeowBIdc1rEBciBzmasNLTdJQ9LznLU2MRCKUxWXdxRnu6zySGi/UWFNVGKcQ08qGwjr0Li\n",
       "aTI2UV1DynMHoLr0cYB8CBg1LBBCPxsoHgpdq1nRdA/5OcQo2ELdQMoC9f1c+NhW1mgZ1l4eUhzA\n",
       "1q8hIZOuS9+v9TnsDoeWxOVcLeV59hhqMBT849tzVaTdEVCRZiaoP/mNwUeFnJSfHBTIRkLALCT0\n",
       "feTwIkfOgmt5QnFjRfekpaFNZ9V0CD8l5Cf8ghp1j3vZM0Y6FcAS5QjuFUjYqdLjOhuak3d+aLkS\n",
       "I9W86Gcmx9SAIUe/yrfpcuNVTK/SnZQAKd70JU/Dntdi+V8eLkcSoj9t17rhLfNBTOrxKrOmGSgZ\n",
       "Y50s/DbSdD+eHZ2p1hcEm1Ov2oqW+1KfH3Ijg25fGEtLTGFIpVx7/O6K2z5irrXiQXjSCdeD7ThP\n",
       "gACygQAAAU4Bn/pqQ38AAIbkZHc0lk+w+Gw9wvGsdohDHigwjt9zAw6UG7sRnEljo1LcZaYm4uo7\n",
       "QAGeiTN1QmWvel6idEkMFz//FtLVsjDzyQcntzp6yHsCze1E6bgkP/YLJhjccCokJQSKJCugJOMA\n",
       "sDGMHGSx3FFyTrcTXFi7kmhnjAA3xOvKyuYOkrq4xvmlEIRfpqqsPvH3kKeLWc6rla+ZT1LktRRB\n",
       "sE0nZTePkvI4/4LM1OMQVJQxE4DRTMtCg4g5Qj6xQu5+1/eKcoC5ctvoUBfRO8RXnVdER1IGYDB+\n",
       "PZqzn2/TuEezAv3sEL6pBh8BshTkludd290xDoCKAx5CZ0CSLt7Zg6InBsvkDBI94uJhZX3yyedM\n",
       "k4hKnRfloADPkGjr2WH/xCEzKn0fONxbQzpaCrxkAY/ZNvN03xCL3Dc0hsykBa/fyADHlvp4AHzA\n",
       "AAAQZEGb/0nhClJlMCH//qmWABoNMS+vitUqAGxsNuQAV2uaSjb/YhrzuSaVTIuRJK5UlbzOHCzI\n",
       "rVGDvFbSSJ9jz0J8I5nsuhdRUgBE2xARJqJapQuTln91KB/PdVmfHYUHM0ApBn2qVLW7M+6AHvDa\n",
       "KVwgNGM1g/BiStW2b3oDRIsd1lO2KkXUOZsXqAVndQPUL4OLXsaSRGknpMQoEI3t//wh17stgVv3\n",
       "9YxJ+ApTyvrUCJar9iYn+OB+BAYJ0eC1Tl/fsSOPBGLZvV0c04BrxV9yomYYOSX3b6AvM3VdRLFE\n",
       "H6HvZGFg85CPx2i56wcm+TaPHFUYS3aWdLg52yq0PCAvbBru0YoUTBx0oUxPHObbrQcAiEDWRnsB\n",
       "i001MY+jh5eswKdXa3WwGDOD9yMLbwL0ujchir/mbWhzdoPV8H4otGJnfCpUkxgEieYB/rxBa95S\n",
       "RcPbWrjZPSAs45uyPaU+j6HXuwtnSVc7UglHynXZ2IriyW5gQVbNg+hUXGQehQneABaYmMgDdVRB\n",
       "1NfU5aSnz/TSgeW2p81GPOyKFTPixkiONrJVUFXcpVwZyezEeLPNG8y/YQAIx9im1cbzg1Olr7sh\n",
       "fw1QS/AEWWd/2zfh6JAgNuo3NKDjQZsD68ZTpyl3UoriMh8XrC8NoSnwKq+Zz0RiEdPlk+FIeS9L\n",
       "Dd6MfD/JsJKzEgxSS3V+xVl447hrq6VASWqMKMPOulyjbfC28aXqyEF4eeIyLKss/WxIoVL2s9ny\n",
       "BCbADMsHBvY55SVscOsrZncJD8BHuAMUzKI+RHQQiWx7ZcWeaYDx2mWyP7ai9KTUERxR2B9Hptv/\n",
       "4SP/H42vnT/NrUhzkxy3iXGsvAFTwv7IYJOMgyX/X/P3tF/z4QHJGLnvUVbUsZ2ItONGttrJHhEv\n",
       "yvm79GVdmVBU2HkDLwD8E8cYt+V6agFt1spn040yf0RrykWA55cEV+PXr+1bC00/DNLMBGnjAuVI\n",
       "xTN85ncPURxJaWpUWGTSwBLFPXvv9vxE/a29O9dix3OSSn548LythLCDMSuisz5jM+NvrkiSuE6B\n",
       "VikJ6vKjnupjtIKm3+vKzE7lZSV3H1ftgqpNa07YgPvD7X/LC0MDLo0ytJ8BaDn7VDJnVgtIkRLs\n",
       "QJ55o1tSvv3zczJ/kgxDZ4NsffxEBM2837W67B+f2hx3v+FMYgwGCbzP+NSsncvFbNqYlPl93yOK\n",
       "uK+kVTy2Tj5D44jEkKWk/CBSZpxA6MgsOKKdjl4ChSPeS8bGKxZMjhy1L7qDT8Xd6USdj0aMYt/6\n",
       "4T2aF6wL61ITea3fBRSjac7f+L1FJYCzAVBcKoALnBP+wLcUrC55pwAU8YiOhNiC90U2UbGLhhoc\n",
       "FkOfKFqiUR+jB6MDnzqblOc87ZiYhvJn3cDkBGcUjvFj308jp+UBc7WbEfaEHPwURgmqD7IsuC2d\n",
       "EK068gAwTRdN5xxr3//HnW3bnY/eARNkXAGW6uK0q9M3UwhJBE5p4IE5yfmQN77P/RZyYG2SW4b/\n",
       "vgy8mRv6cm3NpbeUri+CM0MPBBUDgpZV+cxtJZ404+oPXWaztkPnVGbkL4iVpgzckGz4+LEMQEa9\n",
       "jgcO6U9EZ0oBDf5TbZtLEPtGnt4fvh1xOBdsRbJC0IBnXnJbE6SKNx6gQ2zSDMmwxBDlFTSUOGgp\n",
       "0KCGXuGCojBAkwk37FNaWFm5pwv/972nTPwQ6vVlgn5AdgwPhWnJ8iwixwxRC9IsUzQuq+4OXz7d\n",
       "RGY1vb761fxzScJb/9cuf9oXxdudtoiZVF0unjBSfhQxXgAfpRBE/xHVk5vfx6wxjUmZ9jKPJ++M\n",
       "n1+3peeKZYYhrN4jIeGboXlVyRjvB7VJJiRMJVWOupvoyr2D+Hn28jZh3EZwltXd6Dy9ZdDiqO/S\n",
       "A3U40kfQNp1tI6OGg3g+p7YOcJlrtlSMzHk8V/zzXW7O2x5MsTYh95Y31BgRAxq47mjzouiZKEvL\n",
       "jXCKCdidfaUi3uHTPFQUwUBQBi3oUskYrCnSP+BnXUm+EV/gpwAETcYuzudxKjbeqm5flnGZ2hQV\n",
       "tjiwgSmb7YSbaDpW/DTtBQzYlC2mf68v0mTJR0E2BtirzGhEIb2CgQaJR8Px8N8Crtr+4RXJjrpQ\n",
       "dneCZgz5cOVUIsXQXYjWwRH1qDvID6mfneXGrp3YmFu2A5+BA+VRdv1p0AS8INH5EiWStbNyZyKR\n",
       "ER5aCZ7I3FImZd1aace7hfWQ/zadJjBi7q6d6nRokAbiHjWBhsUwD4Nx1Iy7vQGSsHJljkSQU+qK\n",
       "NSgCkHYD580XuEzo4SJA+VoG4Gj4pzGic06MnC6vhEkeuUGp3IQXndEdcJDsRO2YpnaISI5E/iUL\n",
       "jJNrOc6t5zVzTIkapxpf67BUfltzoZJ+rOpECQmVSgUwfPYGVktaGRZOnmjzH+Jx5prBaGeOpjXp\n",
       "V/ZPpLjKUTwAXYaTKI3Y+h0HkHjil4DjAvkjzzpJsC4Z3Q8YJffgTDWxDsQDN0JRBoOPt5YHg2u7\n",
       "vjy/RG0spJEVdFUrmJyNrOAoeD3OT0t+zhWvX0bQ9wkeRDhx8DuPAc/xNPrP9lIrSBH85ebdT8zt\n",
       "DmO4TYl6d/I1Pns5MCs6E0PkwsI7W+Jl4pG7lrHG1RTPkoOsReXNy9aKgBPMTssWJZ42svtiEeBX\n",
       "RVciP2eLCOnXZrISR+3P0QuB8Hb8sRe2Rf6AK30kbZWN4aMe3UXYJhVyS4xRED39A6Hyj43bV9zV\n",
       "Xn9s6KPrdskGmQ6Osjh7ZMyOrZKsEoCh5nMel34EaKwfaVkqvULDLyDPf7Bq7NaBzmMaGufvn9p9\n",
       "EN4/8kEFVyL9r1rCqvmJNVPptPY2NcjxvlkbHqgXiTqMwrzPec85FydE6/PCrH+A9BtmpW1NoRA3\n",
       "2zHENvJOHAnOReOgA2GApExSLTc9iuIinN0vNNVmF+bcoTUKBE20yUAUcM0z06Xj/+o7KMBVDfkn\n",
       "RBIM3F2DtSlxs3/0PNqFGdrnzVIzOFanAyFvwO022dZJlKDkXBB2912RXLPMkOaedzV5Et1jGp9m\n",
       "gXpqD7jxoI1aaBtYJqmkc/X9vZAweM9xIPDIzYQ1adfdgYw7MmU5WnS8WvwVJD2OcGEZUunGVbfF\n",
       "DAhsz4MZAMEFLyMIAKfJshtKys6FMOqbAicmXJhSejuclYtYAN1y3e/MS0QS8m6hnOJFLwW7jaEA\n",
       "7A+nKvWkPXCYSmEuiSH9D//8Ca2D7hdgk3+5AxULqaw2lQu41tmhZo1iRDKgVyoAumhIdis/ngkC\n",
       "oSmetFffr/0TT9j70Um/wIc7EsePfbQpyXHJ6XJ2T7TLs7GKAxXfSpyC3aHFA/Gp27cZtSRaeph2\n",
       "IHfLpPwNsGPrKa6c90jOK2oZbCqsPuQoFLtTD0j/z85nOBIPwkJfQpl3DaKdyUE6tJXrf9D/Xa8S\n",
       "KYDKuyZkTOy2Jfy45eE/fXst++/01geRKNeJqzhjxtcovRYvhEjRtRrpNLeqDcEI2oUdrQm2uPWR\n",
       "VCfNP3KldkFUXXyMSKvKZ2NSInp1h1eFc/Jjf2Xdo9dt6DCN7Xv5ke6ITQIXRWgD69or9MBTemqB\n",
       "+TaoxOvnA/Go9q91M7UGA3HLLfFefQEeyxQAuucQQCA+LTdi9ULDO7yhX7CtUbeoGOptVYpoNT0V\n",
       "iPYYHQc/gIIkU58XnA3fgeY3duOdYm72YH9gvF5IUvGydqjDI3a0RExrAgwTX7/i4d3VlRRr/5DT\n",
       "ov2V/KlzK5nEfw9vUCbhO6SHVdKAEPUPGfsl3pDgrGSKC02f1tXNXsz4C9dwdP+/4S9smI6+LnMa\n",
       "ZRo1zUJZM5nfmAccfl4QXJdnvb5c8kFLWrw9L2Gp6xPi8U4fKverVQVpTt804W2QTY+46HzKvR7B\n",
       "2QahMyRh2MZCNUydY5WThMA/tlATmjgLm7OLqGkRWKdYfeDrkfXaHbYviKFQFK5AiafPGwH+kCLw\n",
       "yB8y67ncECHQTAvgIGpcTpH5iXNas5xraufgP+5O5i1CuESkJHUbcuoyXTP7dh3kX3lqQYQ4jpQ1\n",
       "pMdpck+C668kmen/vgWQfs5rdZloaVJIE16w5qzYIrws3RrgDVqQHtRlnKpcTDdzsUtnMKOfg7Qw\n",
       "e7ZCLGx8zR+iYOqICzfafon62GGZzAT2CPboG5LzKHG7t0A6k1OJfKaxi4wb83s30CS3mz1cw4JS\n",
       "XmD9i3GSngZUwZvAyPTOx6Kfl4HN4KqJSrcAX7QjcN7/PpiMSTr4xqM96Ii0W7HKO7Yh+u/TqqAX\n",
       "ZMwRLU+9R80SmYFrb8ULA+bDMurS5E4Vznpg3Ev7lfMnED1NZtrZwM+AX/iP+6gpLSEK34Pxm0BW\n",
       "BDQ/iV5d2yaXEa/iuNyEiAjENSzDzPKVi9PAZ4b6pXwXaL3TSaWIitqtsTggUFnNxFkyJ/7ljzV6\n",
       "rQmua07aomfOtsRcKYuSYPUFgm/uaOysF2lezdouCPn5L6SLottESeCjZpk9rBT/MRpx9nF9vbXd\n",
       "S8jt4m4Y5Q03BmUTMfl5ly1E82pINxfA8UQP6paGhgWUnRwYRhtiAOhSWzFa79C80w3m8vhX/EsA\n",
       "0mjqxa29IcqS42K6dkyddARvnTZBOwf3Z7Ys3aGYVY9fX+jxfaoDrV2ylW4mJWun7CmECaISdy5/\n",
       "8aS+2jm4NXmDK1vQO+KKiAHGF9ydcWhIH9T0rtGAfJRTOnNgMVbcCDKSbPHBPKELsLGHPAsAhu6T\n",
       "d7cNwF618EnABnLF6B6HII9Is5L53UUEJ1Wwq97XaaRWsn2ZTVWGUssRk1wmHPq+ywiLc9anbceQ\n",
       "VJfUUCaclK+jwH79Tzgcd2PtgTsRkvuNJj3cyFHk1GK2qFfK/kX4eF/7f/xEdyM0tCJUzHVY0A7e\n",
       "7RxN117lxSSpjT+SpQTLoqHQDs0HeNXFak333iZVmdzg9fCxh8H2cEBjQ0NHMGTHz5enNv+GDMeh\n",
       "MAP2aVVwAmCtA3LTbhCbof+2Dn6leP3pbidvzFMxkINkFhWz1dZHm5hhxy/84WQsY37t4VkHM+tr\n",
       "SWj4eahvpr65aaItBxq+3kl2x7XE6FPfsVNHEPo2ONyM2g2armEDRg30Z/V6M0VJgt3W7GBTp25j\n",
       "D58LylJlDSaKH0oxTsByVHozIpfF6BFtgBSL1WDKkQIsUR7Q49AaTJDg6Ryc8dt0uCG9J5MUA8CO\n",
       "OS+s+ovrBMoG6QUEiJdA6/9I9W8o6ASqWUSDGfU5N69KPY4wW5sCdlUBEXBm9TZTj/waZHBKJIEc\n",
       "wu5PMfWEVw6Xs9DfYmgRLzQNAd7gGFbI5cWWdOGUZH38BcovjO0mvIKjBPhVnKL2avdyLSxKBksF\n",
       "Tbh25qTwUY6rJ8ym55h/PTsp8jP4Uj0lDWmFZp/pwdTAB3Ooc+5kP81P1pS+L2m1zdC2c1iVAoI6\n",
       "5kzaYCJ7pS7R9pGN10Q8fq3ekfx+AyW8HdrNXhOVwjvw5pM0rCs+fG7DLt0QmL+JhJ6Z2zaBecLP\n",
       "fcSmDtlH9BhjjY1l6zkY/V1NCZtn8wbmf0T8DYcvuflUtqPk7/oFvGPtx/+P7K4P9RgSt3tkLyUg\n",
       "LULIZDQpkn4/HC9Y1D6mAMcA1593RGq1mVdQLqUVzSL2kMhtSK0hAAABmkGeHUU0TDv/AAz4I/6d\n",
       "jhBTgr1GSjueUevFAoTdasGgF7pIX06Igme8IouaNv3J973jxHen2jMfXroFAumZxCwHGqgZr9NT\n",
       "VI53eQJD4R49ACtSixKFHWgmlH0U+zcSbwzEEndD2n1jSmk+xGhbsDspawL8sOH/9CR7nDnzNZSt\n",
       "hiegebC6RTZ8MMvFXWYL2enPZy5wf6f82QZUoBLDooc2wt8tH6jPcO1pKkHFuhNvkUR8m8/fdQGX\n",
       "Zymsyxg3mJV0uzwAb63KPxyalH5a0awmt/4rPjKtVtkj5LS6FwMaGuLHdGG60lOi/kHGYU4FjzYW\n",
       "g/c+OkPDG5QzFsTY7XIcyBf/J9toP7WCkB03CiVAJTruFrGe9RZEZBuNiONCE7RoYdk3iP+jRWbP\n",
       "5R0xZ7MzwTzEosSnbgA44c7X9KnoZBXsbf6hR3ILZucbmA59ldUkK6j2NQbqyo5O8DsAi28UbysS\n",
       "SyZ6ocI0WE+rAL3+UlcI5A4ae1SuOi7g/YGJsp+N3KV8b/uKBJfkTdaldrqu6HuzQykMmtmBAAAB\n",
       "JAGePHRDfwAAhr7JFuhgTnM7tzvnJ2iK5urQAZuLQ8hlSJCcFuX0B0CFjnzRcR1OtvSoD7XRGY3b\n",
       "lkDc3icekMsO9pkPoSmeVNVAE+gx+XxiimFI1UYTzSdKLuOhgUIc2siCDaR4rrXEEgOLHzZ+jv8C\n",
       "nyXGQcTFJAmflU4eCtPNwBt+MNZD2XCL9VDIblloRrPYeFuxHvdUGQJAYgNlLuYAgoD3gusVQikH\n",
       "j5F0ZWu4Nl17lsE/zh3EVrI+elQOyER4Wj94ykqpJO1h30ABFteWXMiRcnLpqNW5XEiP/9KAtWwl\n",
       "YQXIEMkx7SRise6vKVqyhUES+ScykGODy4kQCRT8kMb0kOFwKmOYppespdq6M6/Ah00pNBYdT0XF\n",
       "3kCVjvceh4AAAAELAZ4+akN/ACokbAAIJ/sYzzdV16nYOj0rhZ1byuluObEiK+4OChm//33bqAOu\n",
       "jJ/dRmadCThRqLVL49RcjjyNtXM4S4z4KJRgdaalyGQB305He1TLC4vDI6IVOeBl/5qK1eb2rxio\n",
       "xRbwGPFwAwr7jwwkPBvMPcQu2yEo7CzCo3QGKdGufknDhVYGzPBCkL743KIt/yilT2ajCWM1EBsz\n",
       "SxEV7NOZPvvy2jGDC0iaCF/c+7RF0oOXygg8MHPRDBGVt99QX3/oCBeO9C5z+XyCzVue0cBsHlfg\n",
       "a99R0+6AXC3GtuHuCMSAKtdlvm3br9QzqJSeVR+QQHCTbB9XlkDTmytsFgdOhzAn8PZgAAAGfkGa\n",
       "IEmoQWiZTAh3//6plgACQKnN/Rj3bUA9/Jn0A+9GS6mM27j6g3aPHjTvPhrPFm09TXD4I40Ubij+\n",
       "FOWiYz0Js52Q100zForOLe3pdSZBpv6z86Z40HZLUjncfKp58Yt+I01EFFL4py/7+FDlL0nrOK9b\n",
       "YXtktNE49hKd33rwdhAU2AbPA5T53Ikkf/EEGLoCeHv0UtwwNmNShTJ8Q1U9cfmp/cKB3b2jk2OB\n",
       "x8A72/Ab6IoB1cMATn56T8PbutSipNUQIksr7GS+mqVPvmWNxR+VgfhNQ7OM49RbRCO/23jNBHG1\n",
       "E6uhX0cAirRM0ER8jSYbaH2YOa/n5A8O+Rm4R3tD3x/sqssWqOY/l99Ra+MRMzdX37AHdL26aTRs\n",
       "nfPPkkqw9+fBd7vDBAAWGjdZIxirzCUNXD6crmK+XmQGuxAOYUJwiQwuQyDppqocjsgJmpxdfHGt\n",
       "Ni52nN4WLT+PasjN8juwK5Z/GTpSXj6GFvAVgL8Go4KSuUdLuQ77hOzhEjVUJb0ajzqPb2bzot7n\n",
       "kXp8zcsOIE1lcC7ezM0Zoo34PkJKByz0fxx8X/9XrVnnAC4VoljjGSS8VkZ1C7vibpOOGhYNmhdW\n",
       "BZjbr750iu7aagp2WIO6iO4dW+DKpMTKva+h+auCXhfmdZQXk/YTaDbs6y0Hv75c4FZcF8uTyUby\n",
       "73mfY3DgmXcckk4q0+yp73SRLu+bmJYDzGSSQnLJZSc5vw+HNDecRIvX1Ww//y+znoziNRx830fc\n",
       "iObhEhQ19XpwwITedL7JVYdz8Fx0OU70z06fp8UGD0YHmM3WGKjNQu6DdG31tI7OVWLuquDKPpxh\n",
       "lDE9MlYUj80DqEbLShZvwTbBOOM7zltfVfay+5lHF83oK3w1gdaaZnYcEU8p7PbUO1DwblwzNVzG\n",
       "rM4zZ2XGonvh0lEg4CoYy9YjPng4g+IKVqRZqRUxHqMAsKRAZwrBdiZcAOT+7sonxT4CTmEtS4+l\n",
       "/d9X7H23yV4Yabkaj4J5rPkAVo1HdOvx5ApMh+Rbw92m5RN6ys50ZffdN4EoIH+fABT/P3EeWaSy\n",
       "HeVwtTFoTWugShSQBJrii1apzWhZoSzsVHuhqKWND3dSvg/QQ4DgLcVK/bLCDvb5hLJbQEmpLGoJ\n",
       "JD6Gdju1dvSZGszzQrVZ2Z3u/sO81GXigpmlvZsnlWrNdb/RG/oqXlSQSoSrqf+VJOxglFoelwB5\n",
       "p2+HtVY10FDAs8Fa0/NOZQI1LfIKO0Fk/B2Esot0EqgvdxnFch1KkZOUOrVWYXGsypb0dG1AZnSB\n",
       "+ugbRkMRZtqg39G29gPgZfVmgjd4JBvXo0fjunVLOOzZDhKuucaAAbsfugnNTv5gstpRsA/uG3kk\n",
       "+Hmks8xEyByv/43dUN4YblSzSNXLcLZb5bpuT7dF/w+kmJot2umpQH1izG6/KizBGIQoxamAMeiK\n",
       "BRAz6WIY5gfiIZOilvq+GAUYelsC98IUCPTTtS7udvgugMpv0SxxBW1d/smrmWz7mlEefqQy+DyN\n",
       "+0/DZmWIZegVMiojlUwKo5GWQ9sLCnvONOY1uVWLP+kEd41UmRmSDbLtiigc2ONvEQFWa6+ETbwH\n",
       "FWWsQKd1+qGF5pIuRin9EZeQuP8y8LQrg0PGe41Yez83Tu3LEtunURD9PbLToBZMSLANFUyI8Or6\n",
       "ZjPX5O5zXd9ivjZNMyetJE3woQtpAD3Y1h7WmMu0ZjDKG8kqTeGFvP+Ulc5KXRNZi7iv1XNvZ0kt\n",
       "YDckxDf+RXTBHdRFKdbzeVj/4jmDYFLKFPUvMmOPLUWyDdG4cpFOV98CpIynKEKqVEdyzm20fA2P\n",
       "oJbek7iuipJzXgoHZg8mLspvfvSB1nIT34EIZ0RARYEgEpXsnrDENRX+EVA0+fVH0FZ+BdiHqp4r\n",
       "N6bPDmqqOTAP1k4k4R2FoALlKn0tvkjt9GPG39hd7Kr5pSiMp2Rp3FWdQB09fECJc8rs0BIoJRXp\n",
       "s227jx+Ux9+8lgK1AHmKip94pLlElZJouBgqj5NJyBkzogXu5rTktT1s68zABx2Uc3iBzBXkeBDx\n",
       "pSsl4cBi6sli1Fl6+wAieAo1CQYpmJc9v6X8EOJxFHmdXWeUQx4kcTBhMYfCdlcqVzxGGMfe6CO6\n",
       "zsrRY4JeU2qDL3ifzGl/XAB8pJIm5N8WWetYB6TqqfPRdf+KBMX9ywEv4+VleabPOKwK00GCagCR\n",
       "jEcHfoAFbQAACuJBmkRJ4QpSZTAh3/6plgAb67n5O1/hZygMzLYnkPWLyD19T++PfVCGHfzHkK5l\n",
       "BSFcEiGoN/oJPsG8qJViSBDcUWLUsvZCqmiUg6LU0HMAL4e4c8cRtrHNyNRMghwihbMwSm+qyKda\n",
       "MElWve3TEQ2CCy4lW80qNrnPg8vWHRURlpyrx9EBtvoXzz58q1KwBsficds4RP/7AykTtsqOpO82\n",
       "GEecDbLHblv0RlCrpGnacX2hu9b7L8JllkA1MmE1gS8fK5DXBF4fpVTEvEpcV84EPDdWmKlrWVO0\n",
       "kHe5sndPD0YvOEYZ1z4ERlwTwLB56rV6np6HBsvvO07JNIblnkbVzA/03xIK2AWGsQSfeNRGfuIB\n",
       "lnZmpUmFmU4KWCaiKDt6k4VjBBVTSrtPM3lgRfwXZpJh6DrYrIfSwpqSj9+lC1+a8wrRGUvU/krM\n",
       "FJ4iUDp9NC7vfp7oAgosll9zsoxjQfUFPJeOGsNOJBq/d6ZRU6sEzQcD4UXWm7jTZiXaTl1ceTMr\n",
       "PQouHld8xpYPG1TMvIiBybWMvvvt/jsDZxkHGxNdnYm0sN6qlotO7CZjjk4ywir0jypFlj5P8lTy\n",
       "iUEMhhfUKV15NyVyrAdZgFnpMszXdG7eX9hYtw+UgPhExWVM+nuQlNjSIGyMEdu/+XuR8Pn7mwe1\n",
       "/mJgNvkZgRV1SWgpAgVSK/68fWxw3RzTArfiSFDWCNXDt9gkdYZ4vya31lTm4L89Wun9RtPAs5vg\n",
       "dy7YX68EYA15ZjZrFWRvCO4SP//xyyn+0UpK8ec10suPdhNCAjtIAMrh+IgW+cGdFMFM9kD6w17K\n",
       "XUc0np7hJFHJq/vOr1+rbAmNgQeQMhLyOPnoWJYXWaYs7bsM0RX1RwGR8AgKQRl2hN19boBURCoL\n",
       "gEUR8SdHL+rEuX9QJtVSfrSJoXCbZDLb7ZtQlHonMAfpit02zmEdUjOJRn+C89IOf4S2mvGv/5NC\n",
       "FcPgm1I7+r25cJ9fpf+dg/YootLdYA+TXx7up5jQglaMkxkCJflzvUFMb/Kr3iij4l8DX5qZ/Ck6\n",
       "wKcVj1aDc41tLEb2hxElY5OYlLol3ikHZUZcPN62B+/w3RCGVRCuf7Ern5SR23yyh49wSNt8BjAa\n",
       "WFlpFWv4ckpdJo0YnAb3ftGQ6x/lU0Zh7WPjTaSLUhWVwIH0b94dwJ5g1C9wQYkgmni4d3v6eJEC\n",
       "7sGDdLmjAzZNlwtzKoKcKYvu92nJ5Xo0jxn/SjmCeREPhEU0lpHT+51ALzdKg3qPPXziMCIGTtVo\n",
       "drM8AViBwva9VrFp4W3D5RlC0o3Ws0+XPdyy2mUlosJHcf/hjFXSUk+fCxGe6gb5R0opNOq6cEo3\n",
       "M8KAP5T0xqfS6DJ384CdHelRe17CndpatZbGOJcLSId96MalXAPAdRMWDrJK3nAL5hppfv+fqFpv\n",
       "OnuQv7Ur63DRcig28R3IkKEaFprbWUxVXZNwk922prVkZdScn2qqAZsJDwBL7xyawfcEC6mG95SR\n",
       "ZM3Ltr/aPRnK0WFjDQlfNe7d9cOTlj34v35ttJbbCVB69Nr2NImsvLvFyrgfWZOhOKYRLb/8sqdR\n",
       "K+79W/bIf/2HzDfHhxNeAf22FrbneeDrji/c3Y6kSODulDh/HmzXerYjBB5nn2aaOIz1lYQm4+Op\n",
       "jMkd9TsVhIGu2n4R2Mk8yfH5Ysr53S1iJGYOyQ8xZuOLqqZuZ59EAhoeYFM2Ewt4pXjSnLZxTxzL\n",
       "GD495g8xQRZ2uM23J9lF5vn/45DrM8SiONIDNYCyB74JzVZ76Ovsv5Q0jRpD8kWawSzat06e7Htw\n",
       "PS+cXrQ+z1Zk95XHIBZXslT2CeAdt33vmGnHkPIZ96Zp+Ods72pcglx5rRrmMWRJ6G3EXHvAutCn\n",
       "lHWF3loH/6KBEHCrX/AQFa7ZjnCU5SPaaB/Q6n/+ZvE1AVfVvscfKy582czC+HJgETuJ0FCMxfXv\n",
       "fblNadXcA/BFFdy//ggJR2kRP9hfMKbtkieYaDovmWg3kcKFDRHx4pwtl/94MWJ/yFKHYi5Na3az\n",
       "02tvq4MsTlojOUNDDR6Fhi0NST6KAvDNnMwy1D/9mM7kEhgCSkXsCm8STss25i5E2pv/8cRG6sKT\n",
       "KeW/lddGqzXk95ZewL5lDXHuaH56EZgznoeS5F0vSG5+g1W0YWG9/HKIrwQOUu7MFG0yOU2HV1mr\n",
       "EwrelAEKO0XiKFGQ3CnzuIoPB5dg7cKwixwafLqaJnrbdjrTdu/ISnVwJtXF8qNEHrIiRvjoSew3\n",
       "CymxR2bD3fAk+wxkvEqWjwDbS1s9ZyUxLO7Z4hxhwf3mnd22Y+P9NIzAwKJeACoslUqAoUy31REl\n",
       "0dpaaMMqBuT1NyveJ5Ap4sTgBpnrs5BdWhs3xTEARa4F6mNlD42hde0LKCfjAeD+zsDcnTpd8Ji0\n",
       "5Ga8VoHkccHZsHftbVuQo0m0RwtgGupEkUSeTHKJW8HgmYube9KhHKuypzRWCzO784bSGvbeUJ/7\n",
       "jlLe1Bf5tZ04806cfNcY8YD7A0uEfUCRVW/jawosQHwZMp2wxwuwITuYwTG7LbLplAh+ZkqsuLyo\n",
       "yahTKulStJpIFCRyuddsXW/fiL1zd52AY/NKt2zkmybGb48rDYfx3NOxoP86Z0QJUaWb09827KvI\n",
       "OuBtoQvaY7BW9Synts4dL0INeMzLwx3FUALGe0c5Bmf0Yc/DvYtdn0kpePlq/r02ennb7Zrw7HdH\n",
       "PSXbgk7ygiz5FJ14gQAy8O+HXWjG93TUTNKtOTSjmmy8JqP6X8/lvZY1etZZdqWMRnaVkUJA4SbE\n",
       "3D1JJRtlqlUTfCEugFiCvfvtLXc/EyNSoL+/iQ5szIPd/3YYrWi0X0IZT0cxy+Uq+LmfeBV/o+yC\n",
       "drTSFLgRkwByB6mQljtHcRmySROSOS6l6McVKzb38NHJSvtvz7/oKE3pCDrHoKgzqmp3n0ryDiCy\n",
       "Yjm/TUjQrR/BvyXh99xrwy8O5sWhkaqsN9LV+oEs3BPNFhxii+Kag+2xhOBKN4qVQ65dvjqiAMLB\n",
       "hTlOe4JOKqtvsFdp7HqOLtSG8zyTFdsGKlzn1au6DX9Ld1J0B51WBr7Qlr1KkgC7UWlht6fAFiiL\n",
       "v/SHW9KTixi96dswxKQNYpRrU5m/wKGE+tKRC4AoEZ9HTOdtXYTApQkujtThAWdYHjANG50Bi6vu\n",
       "o+Lmib5C63/9WP3jRYS41FC/3LvrNywve9fBJarRiEgukb6psG0l6+QISyj9uZwCkmTxWU3QgFXZ\n",
       "7Pb1z7NlGz3SVV4IDFzt7dSeMUQk3JJw03cA6OBHJTg/WpYe0GmTLgOKyoHbHOvf/kOLWG321DKo\n",
       "rl7XtKxiZyaG3KMsO1SQeXxhpWoF00UobWdcVKlsOzqOlehOk0J/RcCWTa574DLynVsEakBCLenF\n",
       "4eSpdD6v9veAmMJLCTzlGHvA8OF9th3ADbGrWOOoMtD/648H5fPVuKq0Wn3OE+eRZz1/cB59pdvy\n",
       "kp1SurJHeAPmnFpzsyDBB3a6TUs13stkew9dvbOUjGMAoLDNGRBa8TkEB7iL2tM+nU/ufGvXmXrz\n",
       "NNed0mhlsx7guqR55/2ce9FdOFAPytL6LYXrhIjJJa0rhCu9BbWulpQxTGePm5pMj6QP1/HlaYPC\n",
       "H0BSMO8l4fYsYB54/+Se7gtGn9Im3ilWgBxRP9mtqe6u3lfebIIzUDy77O9aEt2rkLG5A10Ya1ee\n",
       "tiuGkgAAAVZBnmJFNEw7/wAN5tLZeAQXwPwe+2Zsa07aiHRYDeUr0qrGRtB+gAD+nPK53hMtjcu3\n",
       "dJz/I/L3MSs4E5TCteQAkClBjhBXHfi6kwOkm5BXpVbSyj2xaGALAGDhHCGIu8yrzDHl4D98Nn9D\n",
       "siKESXPkpAUeK6ZXeiJJWso8i6p3/v8D5nJY2Uk0ANCXIwVflzXHtsJ5wzr33ciEtdxfrke3uUad\n",
       "Etz6zUmWx7s0YdmQL6lwU9G3qnneNS5USCYcwNSA+AoBitwtgUcapkVkhWUWNsmejPZNuocyFept\n",
       "PSIDBd0Iih1uKDxlOphYVjjNqbmdbqc8eihIBxMkalAQycg7BhmmbZ4dxQW61oZwrIuh0CpvnbDQ\n",
       "effS0ZWu5Z++C3BeCnL5f+MEYuno+NUS5P2OMdzfwvGSDhICEnipgJjjnAM58/GDk8pkrUZio6Fb\n",
       "h9f6of3IebkAAAEtAZ6BdEN/AC2JEAAH8aqBIXh7ULlJ+p2Do9K4WdZOBeOWSlR2peo5yV0LZp5L\n",
       "g2eBkruLhc0trD9HDBK5Z8dkQvfs6hTVf8ch/A5ZrBKisyFDM+9y+D+S/lVm8tcECceX46+DBD/1\n",
       "5XWdgr+EPn8cjAZQ9pvlsI3f20wOOL/OyU/4eN6ioKB3Fsygx9ccXjgBJgvpgbzeD+AwHDRjoisa\n",
       "lfpFu6479I7WAUDRWC6j2NCfYy2dlYHCz00iLZPWydvWPdykkhL841TeoSWQ8WjtjnoNJ1qURMbE\n",
       "U7R12J/XXOgYr/SuNXrqfZq9Uh/JHCU8BEXNYYZykGn1ufoAwP5R4GOaCx2heGZrtU4QryrDiBEk\n",
       "Yd3BJ1YGOiinlq4F5JobaiP+jbqMihzb0uU1IAAAAUwBnoNqQ38AAKg9FQ9A5Lc3CgKXoARgcYNL\n",
       "mVuqdH1vhkabV8q8QXGiqBCnAIVPizzB16+Y6Gh3qKFJf0oqQzWNUyNERO+pd96tW3yvyaO8XtIG\n",
       "OAvf3Nn0TBiKmkqAI1b46MH5uyzHyCJbetl6lkfbV8HGvlYhtoDKz3g0PVAa0neRcFMBQO7cMcCj\n",
       "KoiKBkjUIdhMX5O+pQOsMPN8CrMtR591Q1KpHWwC5nVz+23LX6GQaJZiyC2o829rfgrmy8iEHRsj\n",
       "XsPj/YpIZN7VOWvYXP3j8EohGtO2ewFcMtdIb8ucZedBMuMKFDnLUcyL/wOZPt8bHPKgUWe0fCuE\n",
       "aM8fRt6NKmTcP1XnxNj9rilJPr2/2X+Hqlc1aArnXzTTNWh1gHZ7HGO9t/ZCli+1pZ2k0zJvIver\n",
       "BoIdxP6YBlxcMaZ3jxadFJJ/qS7NwQAAEihBmohJqEFomUwIIf/+qlUABbfE3gBzP8mgygsBNHJl\n",
       "dGG0nCy1l323b7SqyDNT3+ydriBArnGWYUp/AEkq/AIOVc4IKU0QEQ6lBZT9fe6yei1JgH1zHZd4\n",
       "PO9vOOj71zsYIE16ljD9/8fZApvKxvjyJaC6WA8iDVdF9FhHbPHHLu50AIORKp9ek25j915tQB2c\n",
       "0kmaN1B9LY2gUq3lyLv4oAK55YCGULBHbRhdTp1TDidnumaXlCDfqXR+S/ZD8b7I6G+d8LBZ3hSr\n",
       "UiKfd2vcags9aDiM2TjQ9E4FMTm6MJodSKHN9yNJId/E+fJ2re7/qbHrAkLxVp7WjYCzP/+GXU8Z\n",
       "MlmIb8knangfFO9WfU62aHPOXuYM8tlI5vtXsUC51hUv44lhw5RNFK+Q77H+T+o+qli21TcB9/Sm\n",
       "0KqsvLrYl9+hNW1rSsIeWTIAfI26SQIdntGwubCXLCGcPA6DVwGlhqvnGmaKq2ymsRdoygJ+pchs\n",
       "gzfs/1hqjbvBNwCTx452TtqS78omATylqAuDP5r5EDQVDQ89n+SeWu/ks1zbFcqu5xsmFfTaQ+Tb\n",
       "iuNSNmdM7+Nf8IcBwitscoWbY5RFgIkPPfcu5j7NoUzw5w9TphR9XW16qBY11ZJ4BePeja4zPsV9\n",
       "HPZ1b0iEuZy4c42JiguFsQSni7MT5K75AVOKcCZNhYB1XhU4ql9+bsZ4X4kZ/HZD5r6XjlWV2VlI\n",
       "M50dVn3gN3AAnfbf2sM0/bCIbaPipP3OzMyEnKHcif3swCXA2e6b+IF82rdpa6AFdUXyJLi50548\n",
       "ycbUNugFla2ozAR8DahWS8rA4vS4CgBJZVs9i0jgOEqR2AHak/4D69VZ1koKrUjO4dnTLtKCorFk\n",
       "Q0vXr4BobGXwtgLq8Wl/7e5i8jf4h5TAtdlBVCiDK+QugEz7U6owrl37Qz1AS/8FPJDKFYgGoquY\n",
       "TivvPPMDmQjNeP7spofBWBZB/fpeDVn5igQIC6TBwn959Tq7CYTSu6AvmaFgsJSxuO/0860rmpwx\n",
       "noN/vIVKR96mc09kB8/rxQWFg8KQa15cT6JjpUpn2AqhIuQdEmw0/QAEW9kri22EpBnSE5ls+uuP\n",
       "jLEP8tm4Srlc2VzxxFfPZXWBhTv5N+Y61kONRQpyp7NMk1qd1BuJHjHLSt+QHda6klwEdXCO5kF9\n",
       "4GQWJxKVpgkJyFoDTiUgvbPcbiZu4Z+w492ucwb/qXCixjbBn+UulL3n31Y5/huZ4La/EVu0EGUI\n",
       "ZKQiH/SDR2OaxriPHCu5aX+tjk9H+ouRDA9/jIJNwQFpwZib3X2FX69jzgbR0FuVE2AF2BDJ0e/Z\n",
       "VWT/1HV+Wz1Rg1zEezaRki2/Nmywm7RWH0yfCUlDll+T1fIdMNnQRWs2wZdBT1k44nHLMpHO6Y1f\n",
       "oJHWBUapfkdBPNQfswPIBroXjjPvmz536+I3IwtstbyL3Q58Vkt1VXyWwHYNLmRvyuo3pnhD5yq4\n",
       "hgZG4/TF8YkQf42//gP4031pYY9iyhS6CdLMeaApYw5lkbm+LRZ1sAnw+XllOjPK6LKgY3TpBpGw\n",
       "QC8d6kceKf51cLLXvp5+IX/0dsDlFTRe4nBEkD2Wh0RdsBIKmiE9lXQTqt1hEcCbvjzJCo/DtmAt\n",
       "aqB07aqDZl8cZWAxq7ikc1emWV13VJdgFVrjvaJxCvZDDbdrD6wH79TxMD10qb8c6m31rT3by1Oy\n",
       "mV824GUFTzQAb5E8pREjxJm4/HWF6JpwOYqYnpOoiVu5DYD5VSmVSg5t7HLwB2w62IqD6KJdpQOS\n",
       "yFreXiT/FWNQu1NU79QCH5NrYFIaWs9N0YnN3I/2xHkdlIEj6NGLlr36hO/OZxDJn/xnO6U4m/4O\n",
       "CC8+4mIF+CAEQGy3tL07F9lRuatxsOta2XQ3lbDvHaVjx36eWaRQA47sXUZcp/sk+REhqQwiOgEu\n",
       "ik4tdcUVG/rqt7U3SlLvm8HnhoFCjMNzOE9xjr6pLFnfeQPa1g5f0+NY+qCVF7S/1wHwW5hcnKjB\n",
       "hRju5Yj3dREyyrOObiyaLOlahpppqaCRJhaoCS6Sl+AQCOWtoKnx8PU1JHErVzVlPcWg9n/sNO9M\n",
       "P/eWv9wsMMjqoBast+aI/dYhatb9xtz4OYMJ2gnvNeQ2nQXXnVNz2CpmUjjf+coRe16/9Q1opv5t\n",
       "i7HIQwlNzsfjpu7VcLMKal12miNdNZDV20eAi3YQQCcwkDwU1+uzdVFL84lCEXP45tXPWyr5LDN+\n",
       "1PrPLeYmsh0QzpWaKCzwHkhqEmcjOymKyquJC+lC8Kqt+AZ+sP6TrNBIvUVXwcNhf4yqRUQsw56O\n",
       "bhqHFul+WL91l/lve/FE6nWaADuMPnhSPKtvQWvyWiqwTxQIEcOIUjYQUh2TbLZM0Z9kdtETXbSz\n",
       "H6QEQk0yip8U8XCcutXGmQogKt2GZqPYy5Ua6l0ZxSCwT6206/fWhkRETkI/IFHB5yF1WLIZtoVH\n",
       "oACvPJStbfRyLHs0a3vKeD/8CXUrzYILCeoD+3FbFIM5TskGGevGp4A1Ca8BZSVdRsEdbun84alh\n",
       "abxG38dCqBnqSpOJt1X8rAixiWHfR5tcddAx0oKbM7EGjhdlb15QNLNZBNZ1iCqt8J9W0b4t2ep0\n",
       "TsfBDkm9v5tGaScYYkF0dPGoM42p3+AO1kDP8s9Xqnhd3BaON4P6fldtPPKl5WkiQqvpV2mhizKK\n",
       "zKeF5SIvN3mBXPoared2PDK5MZ5EjXb0TfBvxHKCoXC+rp+UTIfvyzgYV9Ta+Gw3M0UYebLfA8lm\n",
       "KWsd46vvLAbUB0VLcG3ZHEpuU+eiGgq9fqmTQQ29tO5S07LA0scaPihDUAAAAwC8eF4aOG1KjbPA\n",
       "V+dBXPJnE+CIh9JD3dyrYJQmotxm4Y0tECs729e3rC02/LRI1lHGDzHmuVpASU8Gt4LKiimaIU61\n",
       "tbg8GvfNXpeXcCpMVpFVfzB0HjC3Q6ecwJ4hUUZ78G6dt1sEP9hd0acuImG0UpkEPWjshanQHOFi\n",
       "HS5/iXyxE2TxTlDRWNwarScoGIs4XZKumoFfJjJITgcIvfV4MeiovfW+8rGVDmSt2B3uYEp8nnLo\n",
       "9FF2jC+g2NOwTF+1md17FNK8AfHkIL5DcFNcM2/5l0E2VaGnKV2PTiXwbzafZLUzrgMLTgIAKNqh\n",
       "VC6YLU2NHQtXynyrhgS9SdD7mPdg1UGzyrMgs8t7kZMHs5pjAHmFgB4jlMv+nvS1LRklinOZSRog\n",
       "aBRe4qnPNWS8BIlI/ZXorKuvfPA1m7bMqzzrDmx0qeniYmrh/y5QKSGNWG43Tws4LGa0HpsUgax3\n",
       "m+EZJhVqaXlpGxKW1Uw5XL8q2VgGgWE7qbupUhoYzYZ3v011XGZJ6GEYEydaA3pVBd+TRb2I6aPr\n",
       "Orb3hz9pJyf432+/HlomXTrBM9/3l5vAs8g67GY/ZDiI08zK1yzwGQMqxa3cjfIQ+kU/GYzNgo+9\n",
       "A63v0YAO9XSY8ZGvZxFoYy308+19Wo/m26EogcC5dhgbRLCX6BwfI+UFNdZg4qUJCkZQ35nHOymY\n",
       "Z6+1CcHyyOlM8U2CklTfAlOlohAH7LoAPEpAN+NSU2KnGNFozY55aarWaXJOSzLgJ8YEEXeaiOv1\n",
       "fY+deXVTjvXe144VtHo57PO0icMXfprniGI+zlITK1NJh28rnrOZdKynWZFmEC3YU5kJq8ALHVHV\n",
       "AgJTX23CrZpYWcWP2Cmaa4a0Ua0f8dLwRM5F4S40ImS0ylG4mVStiCqDfe5+m5jVOa+UTQ6thf6m\n",
       "seXPhjgENdQcaIramPjgfDu4Syb7C/1ue1oSujrSnxSXClN/TrUwpiOJircfcuGyi0YI9pFh6nDw\n",
       "E3Bstikk3uTEKTzyZerNm0N51AMsxxhC+bwbfLrjtzpVeCV33niB9WXT+2vbKOA2M/nnJaNDxNyk\n",
       "vr9Nrqci0TgPu13mnmaqrtaJDhkCL6DmHL0gs1WH0RX8bi1LySWPVkhnFP4tFP3PeUNH5EFX7sTx\n",
       "vyONlrxauTU7WFAPIlsLV//hKBBmBnRpHW6Hz34mVv4sXZg1zTEZioVkVM82orGvltIqR51IOAJJ\n",
       "0DjRaCQ87MiLGIFzjz0TdxfshyFS3gljBOBv4MMOGK1Tkod/jxrVCfSEol0kPWjJIcPCxZjo5mgf\n",
       "IkkO89ymMfcqcXpcfIUr8ZHvS8xylndfP4QyJA9Xvwp3VjP/ClDinmaEUOARa1B7SPjTAKOtacCA\n",
       "tYhAdb81ckEu1QqGcjQuzS5QZTO5Cul7yp/vbH7KJTfbeJP2CMyvZu5l6OrR1RiAASDLB0E9Bdka\n",
       "kdxrXcNtTrO2Bjj4ONrXjLTii5AlukR3q2+QdOHGWikOZj4BZLQk4X4aSTAiNVAIyBiHfMEg4WA7\n",
       "4y+hnHPMxO7q2OSBGNjZmElY5vcRyIv+TWiTysN9iK1MQJH2THH3eMVuzG4owiz4AkCcx7U0uon9\n",
       "F1GqQM8vviZ5ndwPfdArM7eSZvcJT3zPwzLYS3OZ+VCbS6qG7VceLFt1VxcLtcZ3/noAkhdKv3Hi\n",
       "BMulpe5ETnhycSg3POqtoHlveSDbnavvOzCc3hghIeF0F4qUphtwRpvGyzCxwe6WkKY7OE2P4zEc\n",
       "8xH0MKsYZ8Ts1o49uIYehGGmmAylEyhTeg288qYsZzODUA5Qi56RNffPl+lPSD/m2gQeR4K83JWj\n",
       "ym3GrAjXenHwiDKj5F0rPFwiuO1QHfSnsBkUAzIBnmd5AQOmg7rfaXvhA3dP99wHVRc92+9eHHD6\n",
       "lCXs73yC5W1HqHl6UHw1UP44u+5rO4O2cYTWYLkju0yN5GwU09o8noYTe6LB4hkMGeXwoNXACzwW\n",
       "zUuMk443xgmYDyJ5qn8eGS9QskVaH1bLAtxznQP4io2iCcB4IXZSfc/jiDsWckMF5Zx07e8VJZTi\n",
       "5a597dnFiMmnYlGE1cheJZmtY676b9dKD83CbIdv2iO0a/8gnSB8H9Mp6BC98Hk1TwSC3wBL8onq\n",
       "jtSCgE5v8HQMia1DYmJJCBmlNhjW2mWDYjo1emye7KfWfT51c7eIQFb6qv2d2qQRCmG9XD+UyUC2\n",
       "1+b3Eud+L+540Y0f0aX0ZEVmhn0CJrVwnfv0hR3LCsD1E5qxjQtbOFUXoKB2dlO/uUUNqMXEt39X\n",
       "eWJ/F0RnXiZ6Z4F4qlnBwb5iY+S1q5XPP+8divscf2qcZE1VfRNfgoQq0H4rMQ1QRg5HJUrgXfLF\n",
       "ZRKIfDx8a+pZb9/Dov0qt6ZcwYCAxDd5Rk65JT/jL2RxR+ZQffQY5s2x8E+YIoXVrJpTWZQZ2DQy\n",
       "ezgXij0x001aX5iD9VS2QMlGBOnHfJHrmpVDm/THpzmv2mfzGImQmX7m26ohD7Sg/72j6iCL/UCg\n",
       "bjCl7qlDWp8lybGsc/foyfgpNwy6TSwYC277HZKPDKaRqnvX77o+DPri2e1T47YqwsP+oq8N+AEQ\n",
       "7FpRoOzHIwa+tNGS3m5GTwpve5suNONSfNlrVggjD/pqCwiew5XGHBEdgQu/IvJ0lq0meRAwfaFx\n",
       "AU1kHC58Btd79a6OgYd5dVAWb6J0aK0A+yDpQZMp39GWPlN1IvcKnbBMgfHjiHe0knz0U3TQk9gd\n",
       "SGdmKtF8wRygejC80ooVqRc+7nG43nhFyyndmWLOXDPh6MZQ4laxJQMcA01LHoia8poTfcOU8W//\n",
       "BUHZ3UNpLDbuqy2Nad0EsuudX+ARMren3WYW4031PVhIWW0y1dPq2vg9cG4m9sIwYBbiYFPVcSDX\n",
       "gib3eSJ/XNyi+n+VCtHmDbP/s2Ov8Iu86gr2hcmTEY4oWUYo+FK+ez9F17fkIakpoEinbawUATx2\n",
       "teeu9mw9PLe8H4L0vU62Mp8AhXInHclY5uJKXXgqOge8j6m8okvwgb1IB8mpm8/QUnEz4Il7CwOJ\n",
       "9GxBsRwWrMkGgiCmHFJw51SEl73mxMjY5Iaanon19wMU+emAPmEKDvbB28JOsawK8QhclQ0GUbbi\n",
       "ZZwCD6IjQwxykU8Rp18t64ryRKASKMwP6F0faPVbtzXWYqR1WgiJKpSGZDJEbQ1YEPuAayuc4muC\n",
       "eZOXmtU7S2xOq/6UgQjCU05eH31IrLCfkfMFzqGvYm3fs8MU7VWMiibBERETvZUt37jH6mvPHo+S\n",
       "eA60qr4RCesmMhFXteYSeMpKy7zHy7064JUmcdeYMDrwMFoLpOhMJ3gcPACB0/Wx7bYt1Ug2CEvB\n",
       "AAABU0GepkURLDv/AAsqr15tjhWl6uS9iouD/KoJi6nmZtCUv1XQAWz3jntZ1/cVC5WNrTWQr6+0\n",
       "EDduugQV6+O9FE1tyDTTmotp/ckUNG0ZHCOikAGwonREafw+c8u4Wf9fI8eNLUBf+j0t8HBVJBUW\n",
       "3BEPoVwkhLRaC1wG9pxJji6JOMRGueqe8NgjXiFO0En678x250zhK9giSLbu+t6rXRdfjyni2a1z\n",
       "3UQIhxY6jgAaZRvKhX4XjPrM/eWjumSMcZXDPZ7bbmttyvp320jHlhn/feYZ1bLEcuzFACSrR9kL\n",
       "bBLsK6aFXKLcAoJgk0KYZX05dr+LlpPtnnrdma+Rps5pL4E0BPboyFuYJ3g8xN4zO3a5+9XQeopG\n",
       "FYr7iAkvY7ltQGuUKL80Z0/DcJ/X9P6FPfkecqOBMonQuRSH30ILsfTya+No6MUSjkx0rV8uo6Ly\n",
       "sQAAAYsBnsV0Q38AAKgeAyRhSWLMeRfwdGw9a2X3PvCiNhbQAe6ADM5Rq/NtLUkAnEeI913C47bb\n",
       "bdJvYoHP6cjr+6W56Cue/YkTTNrQzwV3hxlf13UKWEKaDOinX4gBpEWRpeeSZv9YoxweB9SM34Je\n",
       "uRN+9As2bZx7UwHvljDaH0CyL/7gutXiO4Msa+p5i62OxBLjqapwjse4/rHMBdSK6SyH9aUomKsV\n",
       "toN/cZvvmyh1EGFFAuE8qR1FekvsxdzTvZDQdQXBu77VerdwFgUjYE4fn3GpBhrbAUh2RseuAE/C\n",
       "/L5u8WFUWzw3ZgXFXXbFyxHVaMiF/NsRiC5n8C7SWQnKDHAvrJg0DQwjEYVwd8zQKwxrCm5BJQGB\n",
       "L7H4wn2cXwmZDYsFuJKuYoGxtlbU0jnv+mqJkqEHD3XdZ8kUITjvLoY5J1iN7b69OL/20z32BJvb\n",
       "4bkTuYH03SUFfKKsPRSZboegTmBhZBRMkHExxk8V5yeuSJDy384SF3vSBVqREdMUfxIoCAXQiICk\n",
       "WwAAAWABnsdqQ38AI8hMAAgzqnubquvU7B0eRPwvGysnJu/gS6BcC3k9Iv/8SKs8PN0SHJSx2j/q\n",
       "ulGRF0Xm7nFMaj0Lh9lx4+7Pr7nUPTsAx/I0TDdFoyniTpErO1anp09T3HcRM/Mwg/l70NWeeCSD\n",
       "JNrOBxFONt7FX6mL0txbW19Bx+0LUL5tOJG5ymUVyofmOzUYogwF3EnCBu62v/KI8IEsjs1nY1lF\n",
       "1JTK8QPRVKZ78HmiOZKI18bDaYdd88m8Wyi98D87RWqqpTOSBsn96h9NgYITF+TdWN6Eep8f5CCY\n",
       "gTcvoxNPArVoTMPIBjJNLtgIUoaYR3dlTdmfYwMrvZY4c+p5+/RV962rnqGRsIZKta/tNMpahRTY\n",
       "hBb+YU6cfXy5YKrcaadacikvzoLr6qvLWnpeFarySffOmXFAiyWxWMxYjOGUuUlAqS2ovFBg2ps4\n",
       "6P8RjyNnzS2l7chJBe44AAAKaUGaykmoQWyZTBRMEf/+tSqAAFUyu+52wKxgAVIbiv9vqv5zjC1T\n",
       "9u9YuOTwO4DLUSVsz2pVx73aB3AyVrharqAvfBcQVxdWsjw7Q5LhKsbhCMJLkl1J3pVai6L54X19\n",
       "v6NHuenwTzEHJHCIe/uz5YYpMIqwUJ+P8ZPEVcZRDy1/SlkneKAXdtKlpTRiOoNfSyUX2V/gVHl9\n",
       "98WC3c/ZYR85LBzSay5B0zUTpYHmH0LGKi3CckUvvEmiFqtDMVkI3gCStT4fuY2YTsMb1Agmx7oi\n",
       "8B8hX+2LTugdYDTAf3PeN13uR5c1MA3IdDiSnjQo2Ge3w+4Ykoa4m75zVkFsjaHJj+h7X4av6ESB\n",
       "Lsz8kchXDj8mi/waVKWFwoIrr4JFDvRWGc00DjGZEMIEj5C+rNYW6ok++bVl2ZX6QXtltEL+HtRb\n",
       "UjW7l38tAmHyXoPoHutmqpRnhjWq5E3VSAQ41HDAcKq2W49IYXFBXRNXbCSe268lDFA/mvaXbQx4\n",
       "ILPqWnBpiiI61BWTeSNhsJzQucTnYlR9ACHCjGn9xwOC/LJWOonmBBdrj7uBNWcDujPHvLh17FZs\n",
       "KeyRS9FUdbL0MB0WOL42LoAnse8q9pf+EJnZrNKCPEVPlRK5xdeuePpmm/gky9In/FkYapA3CzKo\n",
       "Xd0Cvgn74v/BYvrt9uavzthRpR/Nl4cOruX83VU543d6xZhI6Wutw0qB5WsYt0XWqRPx0eg3nsp0\n",
       "146+MEX2L3yVbDr//nMEQ26jh0mgL2rKHha9vwcQW+9kiSG+pRMTcWGkyLlC/vX/hqVUCcGqSunp\n",
       "9IMRET1HjRAcbXNCo2tBDIxg9DDFFp0AoLHVKVQGZlcwlBJg67G5bwOy50vy0u2w1RJmAs5eBbXs\n",
       "KbGasAkOudzRe+MT9kueDBZOxz3N23QQqIRJk+MjNflwufdfYhMWFAYQAjLlpUHOXGxgtUCqOEXj\n",
       "Y95wsOi/xTQOWCa+eb6iYBaXuJ1ByyXLRHXv1JTjRUCLKK3DbpUYkC7P95xVOyndwMqFbsP9bNFq\n",
       "DzO3Tnr0BhpFLv1fJEKUY5l4KbjJRJDCD6KLVVrRBe9mV5R6WCIVnYDVbM4A66g4WCJAAuckcE44\n",
       "ZgxKtKK3pE+PcMAh8SV5KzJGehVyCZtEWWkZTGAhodwCwJosxPJ2VgmwB2AURUdCb7+wLnmdD16d\n",
       "I27h3oVAhHfZ57NiwqPHEKM3sTbzcamWSs/Qsk0hCBKoHOGzZxk3njTr4Dm66U+iq03d36TVwMx/\n",
       "rKtkOOjO491nEIofqR/2qG6e9/TRHP6Aizc3B/wraMJPUJWNy/hZdB/uiz3Gqpe4o5Q6iZupeHYV\n",
       "LfsMrFDLu5tSQORB5IVpKagv0lu508xVWygW9CAHqI1ejXOy56xaJJupgcP3kGbw0M/4eco228Wq\n",
       "K1lV8BTq2QHBV4EetBkZQa1maKijNKhSfXkBAqsC1flgVX9Mi13fP71jwHG5zh88OJ3bsRxTlZ6a\n",
       "F5bqFv29j4Gnp1r54fyAE7t3Cdh6N8YJCi+z3q9rtALnve/3MFX1i273zPbuCiDKQPkA+7DyHbjS\n",
       "WkdAHDeKlFtIxoYbcQPGqEkdo9qFWp5oHTtDSJ1MFbfdf+cq6gwo6UA/lyD9OafTH7I/RDwb7AsD\n",
       "3dYE7pcf67snNP7YZYDi1m/VQTg1xTzbZ7eu6FRRIuaLMwAQVV5PzkuM7letyB+mSG0NuwGfguRl\n",
       "DGxl+VvSr8urMzTLOldMksj9lTLhZrjylmvBspp34yepL5nWXCRqdsfxGten1b5UuzarHl6p9WTF\n",
       "GEaVMTXMzoDUHbGTBNAsR9I1jhK2jRLS/PCanO6qfh738tXekjxXKlr+YFqK0+GRzZg9z7UAoIrH\n",
       "+4fqKxvzKbcjdp7ZPL0CT5lvWouIwEMur/o7UMAVc0+uH7zUGpETPWuRQH/60SbDqag5bU3aXjvS\n",
       "PxMlZXbT8iDtD5sR14Qt4U9/4H0u0yvxjZLMou7AAyrC/X7TJhgqSgv+5WOFimCaQnnj+1VBM0QZ\n",
       "cU/bwX6I7p/jmdi0pgiTJL2JVGtMA/TAcdj3db+5/fR+Own2SGn6HMbjAu2YaxU/RsohHIAT1MTa\n",
       "E9ZlKfv2FL0A4QYTH+P+TyiGAVACYunwU/ReguLJ7ViwFSYX0Ri0b2wBJx4oo6EfPwcUfPg70Csu\n",
       "keaLzrHF5rAFWLGJRbhDIxNTjSi/0oP2OdfVmhgSrvKhFNDfYdICvg+Fc9BvTiUmo/4g2ZVjzSZb\n",
       "Bav7XYNYiCYh274l+mxU/PP+tT3HUtJhtYQQhSEuh5DOGghrk5yV29IKVmztBRc02iuu7aFrNznY\n",
       "yj4bCPADH4nU8VPauAvzMufDZfEYHBwiL6yfzECyLq8tdLNrgwP4JJsqq4wqWEEim+gCXCFJdce6\n",
       "bGkGOyp81NJaToDswdyaHVzoWLTeuSxsnXn9yJ1fDzulfhkI6L9U0vLdCfWx3jaBPBBRHHhOTmHx\n",
       "Ctyv0zKOOarcjkJ3R+owii5IGBtdcGBXzWE0i6pGovxn087UKspCOeoyKZKx/QAPVhw61mBgXDrq\n",
       "eiyzdIdQFNqgh47yJrIr5+C09YFFVRt/bvoMeQXFs9syV78SUTHWFwXvrN88/8oYt/QZqqSP/fIH\n",
       "hx5rytrvKE8WXvPOZUFZ/8csAGidDb6g/A47Q/ZSZO4c4sBXxp+SaYoGiVU7Omzq5YP33y31SOQv\n",
       "bovMoZ83J33+G5Tb//drmURteeXS39KVP8bmsERVjHWlGNKvPc14pr6sOnngg3xD7jryMkOD7FVJ\n",
       "TjGgtcXe7frKkMYh/ftbBhShSUklTBKjWNrQeM45qOHTG7g9EI5PrF5m0pX0c+FdCyBiPg8KFP9b\n",
       "4MsnjFZonsCidoChgEBDuZFL6fbyCdIAUml6irMU2huZMvRg+GyGS7CgcBj2yyyROx2fK8Ikoo1T\n",
       "+bqXGTNr8STRKlFsmoVEQAJj2nAIZs7/BHd60+mXnmYjpOFqGMs0EA/NyN9ibpnNS2rEJW/gPMt+\n",
       "ijLK59JQY5DktOQMv/tZbOVHPq3EKy9fpRPmytz2mbYuvBUbyqFhdIdZHpolO6THGJcEe8SAQQv4\n",
       "LTxLAlxSFmu1NcsGXLUyEqZ3quInL+5RMwQLcPioDPM2CtpFSYbChJbrZ1EuBCdK0heNL6Uq72Ki\n",
       "30a1YxXgEAnqan6L4J6c/3El29dP1pia1QzvA6zw1Bll/mMHsG1hUzufJ4dMWpxR2XxF41xXt78z\n",
       "SRXkj73+iHoBpAw2IUKMSbIB9hSoYC5cD4L4u66W8EaBmN7lId8+elw5tnAnjQiHyW6rasrfzQc3\n",
       "CR2oqPAooYCBHecv5TAFfh+hk/8oe1pRrrPaNA/MHdBU8xAJMpxJjhjZQ2ayHjcKexvc5avgT6lp\n",
       "GfygjJZgkgBmUhi5jbPsjozYfS1+fZqLMwlyEuKR4s+s3Wi974E9el5jZwG8aay0BdFdXGp661zs\n",
       "87kPB9qjU06XoRIfGZVFsqOtUSAYdCBgizSF1nSWOzGkMhmo9GM6qKRcERb8xIbUbpyzBABte6dQ\n",
       "uaxsKE4AAAF5AZ7pakN/AAfxSrD0I3nAAEZSgSkd3y1I0B8exNpesBkbTkro1VxdDqKW/aCWbNAD\n",
       "4xhBrGa/4futivokcJxgPN0nPwCgmlcXfe8vVgxPzhQ3LmDrLFRtvRgrF8PSiHHTXeUlDgUO+c4u\n",
       "6lKvCQTih9PLG+5m8yV93o4v8q9yGiV7PkZTNvoePnY1ATtusQi7LaXCkALenPhIQuGSIyFjTS0W\n",
       "XZzGhXgiXP1Sj1+Ge9fxUGMLAANyjBG3hS2MReDvMQlv6UsDlOQu0Mg0z+kX0X4OEdNrrohZgBfj\n",
       "vQBFieuuXIDFvN7xXwFfcL5Nkcnxqamqaak20Zn0jhxlxZhuW/mSzqUWV/DC2xXbRYwFOnA5SW7/\n",
       "tZuHnrDazsfBsbNWhQ6H82dX/VtMP1LjI34ovICZ9pcKKjePdBEZz944WtoUBGPJyMFKtNemGH0u\n",
       "Ntiux6UniLBej3CCslIkV6eSInykFZJ93aXa7BTA1VHVIFEdfNcLtKFULtEAAAb5QZrsSeEKUmUw\n",
       "UsEf/rUqgAAM9GSHEBjcgwAVv5igLJJXOplgUMreViQQU1RXPeFTSmEkayv5jiyns+Nlb4/6Vf/N\n",
       "qnAT6CUVREdXlGpMAUauV/FmsQB4PATGcsbmmI2ntS3gSyfyOZWWy/w9lVRqM+2DFxZpLHy++gEu\n",
       "vsq7QvpTbFaLmfNo7/fB5AnfMM6FPott0lww+SRz/BdD1guyO8czLYs/bjrvydOWZ3s4B8xUjIFK\n",
       "XEAVq8SERtVU4+RrEcTGQrHE+N7t8/R9sjsWxNm/r7elIia5NW9pYZrjvvs/beJnt8TRtNhMZCvD\n",
       "yt67lsbkpwCGg5mK6Si3s3XeFSpfb3kNjpm3dNkqeXyhKLqY63SfE9bZZ4NR9nxIWQgK4L8CVpV8\n",
       "FtRgOVNbUWtSw4uKfAu/9J6coHdOlywX1CXR7Cdy47g8HqrGa76vgC2+ljFJ/hiTgcwGtlVoupo9\n",
       "x23na7UUPMOQpIq/DVXeyT0bdIbcmf554d6LeNbGmdA04iffWWvCLi8YRQt+jwTw4619reySrndQ\n",
       "EfRTPgTme4kbMo/dw5d7eqM34ntIp73/dpvPPzlbVdFZt0mPPGrjqJJCAGw/AgA3N2GCdXBVGFhi\n",
       "FTOkUT831CaTRm1wt3/7YG1XL4nswMiKN/fHU8ZJULvTNd/vPOROUL6CGPm9hul/kvjzsP2+1nIZ\n",
       "Mrt9P+ZKOV6D0durgzmJvmTfdbHzvZbjqFXtwSz/FS5+av03DkMuKrH7Ekuy2c5971DJ8xtqDIoW\n",
       "AU8L7Kbnnxrry8Ow5SvuFIxOFOcrhHxFFuirksdFF6WnJyFb38W753LeW06fIkt5fhRgmjQhEBt8\n",
       "xB68MTrMYnPMVdlb8Pfw7rMAbB6MarC5Ma7Xr/6QvG4ujPhej8+0AAIxrqWlP9bfEF//ztNlfx56\n",
       "wHZJqkyziR2NJoPR1F7eW0u/eIv4dgeem9QrhN2MGCeUw3UHwxyALdt2WZ6/wxN+vS+Nrup5qZxQ\n",
       "u957bb7nQe7B1c6VS5b7qBEBR2oe9mK1nfg0oQ2SwntLchANKfaTg7Q3ka2dRtkFoPgr0bvHfU/W\n",
       "iy6ewQ42NworR2ix/AANkELLfPy6gIXLkUvjdK3g77xmdmmPKDqk5f86H15MhEIasy85m1g34VsZ\n",
       "LMHinwfU1qzBUDjbFlRJuvogoqX4P5gGi3hl8vsjT6z1RzTVuBrZgooPqGT4TUUa6JDJ8Nsp8Mms\n",
       "VmYt594TD3yau9TSwKQrW7GQiPqfHO8lgpjyMNqKM889+0ONJjrJ27yxAXysiScSv6KLY9wV+CO4\n",
       "ta6vhrxdCuHOZqGa8oByWl//eOEL+0Ou0zwoUMpqOfhZfMD9qQHHhprUl3xRRvSeZLQI539yh1co\n",
       "xbgc2UXGbBq2s9dJsRbbqvqFolwU9Fa/SBG7+peq2vBBHT/M2m0J0v+qJBa0rmsmSPLWmV4lwWJN\n",
       "5xI/6DcPXpxtTCBCdt+fOMCk5IBb4AqWv9w08ICIvIXkc580cPcEYvwadEprEx9EVXCbi+qm3pYu\n",
       "DTSDdSLcYNS7ICitn4gYNOayW0Kuwc4MuBP07q40vQjoIE/7aCpM/U+mdLu8LOOmiFc6gb8R5RmO\n",
       "xx/rFqSbnSdPj7mjio8Xx7sha+cp1EZdnmhU5rSxPYHiPuRM0uBzq/pf1CySqWy5WsqeNzt/P3o2\n",
       "wDuVXpYW61LPWGrKDqwyyx2rVVIS/ywFoM/Kp9VRRtIKdJLflBkzPrcam7GLh4Py96jmtcvKKrY+\n",
       "2lzEHJosFc452qs+59eesVkK26D//+IqMGGIaYRID0U4Yr03GzhqVzes2C0vVs1J5F8cz9u/jUzK\n",
       "snCDO/yFoN3hPbSFZb4eemYJ05e1Mzl3AWVfLeHaoAwdeCe9EAI3+9KZqu8Kp/69tnfBE7c2m0mD\n",
       "ZTCL9oEaomN2yaoXJO9CgX1i/QzPbjUqCTsFC6pwB6VEYpZgkokbmF2kSLyZ0tL2wzFEmgqLSajK\n",
       "EkWXF+sZt9TRbkXDWhbiffDJG7ffgTM7n7Uf1jmOBZwa+TRb181Y/kHB8OfpJTe38LwpwoKGkwil\n",
       "oqe1AoMRr1C1o3EEkW2J1lQmt+pwMzXuw399/y0gz9KGNbAl4ed9k6zZ6KNnVO2wzYCf08EaxO5y\n",
       "Jrk+zYqUoQ8H6+AwBPOApsKX0Sc4BBPsYgiebKz3ARz3P58Sw2yAmcV45ROToHU3eIwCeeM2jRqj\n",
       "ptEk161IyfE0X/JjEabct5sbr1EwaIeQzs050Vyp6OyPmO5EZ+ZewJkn0r/kOQUAngZpGvyQzhoH\n",
       "h08dNZnPMhyVZCPbUY8DHAbx7Y1fUIH3k0a6MGsEz4nCpxE0UyvzZEn8VtTPOWY49WqRh1ra0XL8\n",
       "6PAwlKIkkiUtAAABCwGfC2pDfwAApliReZt7yAEhUlD1+nJ+zL9+Gd1LHMV+tLEzv6Sn5L39X7vf\n",
       "I/9Ev413cwye6dwNsHcUrIQUlLNhKizvIp0NlxPXVPRbrNVVvvn6LNJONSxl0NuU1wxVdKnLxBVA\n",
       "m0TjUV4+5SwIvFtQc7DZg5VxcUKv6hTbgN/DV7B7iAK7eYMqDXow79CzdwT1JPC32ecNPISMPMNr\n",
       "UWIDmD/iieKT/4yt6vQgRLvVZfhV7Tl7RoI1f2lftqvgHWY4IQ0ttBPYlcIFCABGU0mc5dw4CglV\n",
       "D/P6RRMjbjNDtZg6sXeIPsrOvIBVjx43/GcxgEyLmSZjHik9GW5SC04MSN+6P+mbMkwVsAAADY9B\n",
       "mxBJ4Q6JlMCCP/61KoADFbANAAfuUqkF4k3ICcGouuHkUIOiXMYYOwzFVR/MX+gfSkT3Us7QRBnM\n",
       "5CORQAq89itsU0xjn4cwhvE4H+lKpeTKhcGYkcs499Dz3VGPwvSOVva+RMuTY6TM0k4fE5+mVGeP\n",
       "8X6KlPdH5j4aSbfUkireYch0leS2dpaAlt3iZD8Jf4/J2g1np1auceC5p/zUm6tuhi4a/wewqGy9\n",
       "rXCbysxOq0VwME+lWdrBbQLPkDTg0ErwCftvrGs5CcsOrxa1NUXhZm8XOAB5bYAcItdsjq455l74\n",
       "tgS1msG0Ayo8yz/zPHVHH4jqzkNmJStqaw/E5D5cq+EeLX9sS6+lC3+kXYCqEkbkB2OPKXwz5ssG\n",
       "x/kRqTw4godIVLsiaHHNAGwpGyuO/FK1VlQNw4pBkjrAWBRHOOWTtU8tILMCsi56Q/BqVOqNMorg\n",
       "W4iqn5whZAZdZWMcyNEhLw/vUjYK/GnYmaCjlrpvn+oCDrGDOpremN9JOl2uVjgkrrmSvgoAlNu5\n",
       "VYYaSjr87Za81SwODcEoN3l/SfeWBJxabPNUPB2yxzv/10l10cYp+RkyYWHta2sKTOqTai9rkN+3\n",
       "yCq9KN+GBLUba8KVIl453RZFAGa4A+uMi61s3bDf+diZ787x+UOXuR20R3qsNx4IzmUKTsdTkuXI\n",
       "kqqMRP2LifdhRDVHETfNFU6aVceTbf33gTW5PG60N6yRsDk4VhPcMHlI7kB6Jws6702fdhrVyVJb\n",
       "VEtTjfk+rBdOQjmFg5SyQcUcx2EvReVoc0MUU5irFDa9Mh4xrsDBL9BxG2oMBNhduy/GkMuPTkg0\n",
       "xz3dTC+Bd8z1Z1rfnBpZdCX8qikpmeA1p7f3Li0ffPl+kzwwajYXSc+Ka8UJC5TkWlW+agSd9fw+\n",
       "nKT1cJ/+hklq7Ac90OWWaBKbnlx4wpjfE9b5Kt+fl7r6JyKiOIdNl5M+hIBYiZkzfLOUd2TzuW+9\n",
       "COpn9QEm68u97X2xsOeDzfDlxv3IP64edJEiLeKW7fGA3xxL+SuJv/tAxb9jZf1gPB7kmWghZQ3m\n",
       "SJlH8iDNlEn42kzKeAbVez0dR3EsvE7PTwD9pvHmaAvFM0/gG19MswRSt35gYXu+lKgbz+BXfZWg\n",
       "U1R834f5kw9D7cNfMq1iba7ypWa/CXcEwHESd7/OwK53jRFF5+tv3Zn2vBFG+yYiwxJOH9LQBSw8\n",
       "SHs6pZZ6jn+TdBCwoqWCRG1Be0C+bp/3F3SO+oRRsy5/5pfbGyeyXXK1EibTPJ1kYwlgrMtiZ/W1\n",
       "BJlO8FuD8aPu4R8gHVzeq4XqLLxkbtmSoQtAbqTBqU/1Q91piwIX0xuTAgL+0HzDv3/2LYrqHE5X\n",
       "xq3XMbrfq6LvDZ6NsaToOK0YuiBEwXXVdr1O8a73TFFJWWJ5ifVE0ioPJEaciZ58r3TAy6setpIh\n",
       "JWvRJPjpwYPVOBIdfx2Z9SzB1gQA3qkD94aiHJrx1ta1cGRnT3I9nWDh5lWmVOKsWwMY3ukiLW4k\n",
       "5zrt23NqZqXIET8A2riw6ov2vXEHu887MnilJb9EkwLcAYsn9Z6qq2riM92qrhWG2My47z+JAQ/v\n",
       "XoAKBuXUCY7ZF3NVAIALau5c48CqPUTN1g/ZP19qRafs3QBzWXJeSgBONOFUjg6t8xSAjidLotVz\n",
       "1cuXws/4hUCmVID3ccxn+jLcNUBq/sBiupJ3N7mCvekKdwgMW3qqEqS/ZDPdv6V5eFzbHC7dwD2A\n",
       "Mj8SbzJOqWl+sDf5BUyXhZL3VvfsCOHst5KtMBMb0Mvl8rbGI/oao+5hDOYcb8QPArMgTJBTTzff\n",
       "GdizQbJHWBqnryexoD11jrgreyF6c2jWALCtwz4O6r9OzpCnDtcJFQ2ZuoV/qZPhajP6bWlpK9Gr\n",
       "l8cZve+fMx+5Sbn54EqISrTC5I9myWxzJTbwJWNX0vhk/7EAac+8J00pbYwpSmn3NPpH/bKymHin\n",
       "w7Q0tDxZyQrBvfdYwxMNFuFOsiBA6QT463jsBtWsfcrl8Y5izOzAVFd9D/UzBU+CG2qAb0sk5Lb8\n",
       "Ya+oY1dhHvP+Cmh7+qsXQokmcsp5Qf+1eaLetED/Mi1e2GuJINOjE8o91LpWRqjUR95GuPCFaf+M\n",
       "Hb0CQZvn+8yIzf7lAu7y5kHePqdmALvNoJ1+cwRtjXSnNMONNsXtHzITR4Li2nLTwwNIM2e+z/Is\n",
       "QmGP+jvUk7+0/pWqNln2NBzABZv22M5La/QV17TIbZ5spQliXzU89cNK6i7JcNV4BFcWeqRXNARF\n",
       "pC4vXAM5vWPhUM/MNjKEti3ranvHLl5Qr7hv2LR/39cLWvtOvwwR7CkViBjiHrF7nqYY1vuW4pva\n",
       "CYjnHDq2TyMT+WoakcQr8gELTBiFRlPKqr3/1HCVOx7gggP+BC/rJv7av2u//PM4Hj3Xs1mPmBVS\n",
       "3sevNYxcFInnvoaT97BwS3Jx5fHyreB6m5MN6feRjnxppkQVFNUWuwr0c3fT8aGEJeoRh8dTVZ/j\n",
       "316LRxu3FR6ZSiV7cgn2S/aFqSxF+kbImjt0C57miwusUcOa5wHT0lx48Cm0Fa2CJJ5yK7pVq7Hd\n",
       "KTQQ7pviI/ZI9P6Zmmz/h7qXLQNkNJ8+LYvOpNfGI2aF8gMoLGRwUKAHgtjPd8MGVmSG2gB0OwAT\n",
       "CzAyYJko2DXb5eru0H1Q5IF2+rpj78sAA1efGyQTzAQSxrMILArxwZxNocO2tx2bjJKHGDL1K9BF\n",
       "qv3ykLj0r963tnLhmdKp7aGE/ezy/n7+HsPbExVelJpK+MbpwrKoLMlShZx/EaAD0qZmZgcRwRXq\n",
       "zKm9z37WiQGmqEK2OzV0KTbw57OP2h0D+/W+2YaA4vk3TZjVooGSbktasRqS2sF2V4tmffzyFT1r\n",
       "iBWyqjxmS1x6hmsOjp+Cr3wPZ3q+aFOWxVu4SAuPD5KSfGKRFduyUwkg7y8tXuWPhYndP5bKsjNd\n",
       "6LhjS5XmMov2l4Q9KFTf7CaSyFL/Zzbjuhac6JzQG77Hocq0/6otwexr/I733LUa/v+8xrR2pJSW\n",
       "Y2Dogtcvpyh1aLzB73Q9f6FKYdz4Ugga80JLvSZ64Y1BDEKRHIOcn2W+IiHXh5Ttte6tAIu9SHZN\n",
       "tYGmf+AulX4da7eRPAIPn5mEeKjZH8POHfMCHwYhc5C4K/mN2+X1iL/1W0ddspM5PZF1LCAq3tuB\n",
       "Q8eyZlKV7IAc47un9GvEPwfny/IdVAcUXNO7bNgtrNECeKEOoIM3s/MGS9P6OaQfv8g1Fj2NvZTt\n",
       "VX5SVlMeU8aVE9Gngh4NNuzdsTfx5Vdw+GjYO8DNF3QUgp9TDsNtc5uF3tIyh0pgR4YHWFzIWj0p\n",
       "rN7VO2SEqnfxg5DGmtQNYd7lIGfsJuOO7hf6aj9KD6QeAk8jQIyozI1y653CV7o06Qd/zRaeOIKf\n",
       "MDMayhe5QrKgO8ZMO65SDBIv2C4z4PZfEWt+d6pHCmvsSftmYHmY6zDZ+8Qw5T51dAKVaEv514lM\n",
       "kS1hB/NVTTgkzRrdYUbIG8DRDbotEuRQ67d6JuoDLxiw61LVzThfsbPuJDi5Wk0BeWKygmBe+ecS\n",
       "S3Fo7UOnEbEPeSU759JuBl6fZl7yUaFllEnWVJEV1rE4EGb8tXTzBQ6fSU4+zbd8xSXWEGGtXGwU\n",
       "qxRamAq+uwv++3PQPasH4diZYTlPgXFArkseCAhCYmhPWKMzPuefn3DaQB+SDx1g3dc4OZUJ63R1\n",
       "MbSEmwYtpAhn5Qr5V/3JHbD245pbu1UgfC7uxN/SfmtzUl2RVU7xB+tjAmng10qg+ZDQF73IzxnD\n",
       "UqF0bCfx+DtGVLPMMaTu3N3Qv1JiKACXqEzXWVXhvwSqgQiyGyGSlJCAAHdWv5XjGEwG1Q062HB/\n",
       "ghzbABBPw6zUp7gBXok+tBn1LuTpkwYd0ksl8ydpJsut5qnx5VL0VHm6STVdc4krduPurSg8pp7E\n",
       "HRRKQy0adX7ZUJLzXvmgP02HdMSKcr86DoHEFEYWjyccWB39YJtBzMqn1X4W2VSbHxNp5QPDd04q\n",
       "bHOsGRIWDG7CF9yxYyEWAqiFSAzLLNzBtYTZL5SztTduN22J9iCqSt+F+FllPAkQbej0ig65vmRe\n",
       "XZI1HUL/Nl5kVb2CpWg9YNP7nUEgINO3Peje7RSn4sDt+utF6KI8+ZLhZ7P62cw1wFViU8y8bvVh\n",
       "vIR0NKkOOQWB8SoZ7LVKiJ0X+rXyFt4Zj5OuX6yxPvXmd6IOB1CdrGPKWNH1tKW5SsI4M802yBpI\n",
       "2OqFu7TQBwCx9vG2NwdaUMwPqwTRIaS2u6WJb+TzyTl00jw8qz/r3L1hyw/6KLmcx/TGr4Hqwwfe\n",
       "l663htIHA+XUpmjrAjx7MW686CCYdrJJI56yxUyVmF4EbIHCY0qw4K8sI0vhrR6PxhrBvGYxdOY2\n",
       "nm1gmGiB3l3O1CofCSs7ltBHrAOjUlLsR2H67h5v6rXrIv8+EDwtzQN3wNOigxxFpFkXN4jPJKJl\n",
       "pc7afO04I78KjxFTkGU2wLZ16BA824lVLzRm/TY6dLNeZcjbA95IjUL27/uOGu8psRaEwGUqDEg8\n",
       "dElN2vDMv5s9d+ec28/aOBq8RcbfcqY9XFSnUELVZPiMUAOh/W/PtRsPOcA9MpqDlg8AAAFOQZ8u\n",
       "RRU8O/8AGzx2AAOSaRo9FdWrMTmMq5msnZ+oPI/zJIYOYWk//sjM/1FjGEh5mGFRToc3uCn1+CWE\n",
       "7XE6pJ+8uRo3HbGZbkGiit/gSi+R7xG5OFhuqlIOnDVRf+f8IZG7s3weEPEca0O7InG4liRX1jpn\n",
       "Y1r7Wdn98WCU73oKLcmfvJJaP3wUPaU7BDftoY2TyTyKtcoSDxqWvYe220nXTNeCLMvMqzWnDd8x\n",
       "2D1NgWfjQlhNgWGs6acjmBJCBWcCSskVjw8YOxOyDEkcpXBaej5jgjw6e2xYFaqFV5S9eirgNK3Y\n",
       "XOXxqTacAQdcvvOe66k1DEkM7O/A3LSQSyC1Uq5MnC73rIfjISyhy+6DjLxUn38TeimOxjqfVIkx\n",
       "/RwLU57vCRP69gJDobuvUwvKCCW3U16yPBWyXPmQXr6I5wKhkiDg5RHOuPQVIQAAAXkBn010Q38A\n",
       "JreItPXlqd/owATqAt75BzUbuCN6i0lFQwhxOnbP/mADJDAY4ES2XdrjEpTZkNHIHuxRyBuTlswb\n",
       "Wxb5x80AIwdmaJs3I//NdqmZg7f8UrgA/wWB7tilvLSFRvUj93D7hx9q18QS6PYoxB81EW6nXH9s\n",
       "8VqzQja3ccDQvezyhyQEOw3LvNowg8tYGNEUQgbCSTsHMm9AMkrz4DcPze+fpyU5784vR4qhKya5\n",
       "9wmhqNRzlzgxXefY2kfS9rKMFltV1x7SfkPR8O9MXyyZ7386vY3e38Avefx8iG7uTxCLSH80Ju1A\n",
       "42/OOq0MZpMc+tPge3StJhVaFmLmKE3Q7sHX8TpzVA+UyvGYKHMDHV3Lv8zvkuF8VTn25tmSY9od\n",
       "I2Pg3UxpUQdEPsbML24Ekt9NvTNUmA+1vUa8+66KpaHCfPq9G2LdFu9Rs6D85XzVXBofRg8Nykud\n",
       "ODpbTMON+FocLobp7vZZv1epIoC4nJT9kiccsQAAATUBn09qQ38AJrGSkYb1AHN4cCcpKzbDQumh\n",
       "rxKh2WhER11+IU6svU+yjfLRHGYEtl3a4xKDe3sPWTcqstntqvD9Zn28kc8R2MpJ3OpUVPKMSCp4\n",
       "j9umAVuJr8uEJkjADdguGEMU+v+sd/NYBwfkQ3/ipZQN2JUFhchskahGG9RjY+2N9l6U0+l8A34P\n",
       "2ys/cUerNo3zv9D64tPOcDnMF6Ac/+UvaQsZ08TRoXD/5NPchaU3DQEtahsvU3IL7yjKddHAcOpY\n",
       "atonHA9x8T6s3Eil/cuYiNUaQb88GuFBJnpdlvNwPFO1mP5vQ8/SIREUMSFcP7YBhvlkjQzojiAU\n",
       "fioHK9wwltiV3gXEQKho3hJai+4OBZ9OyVq8lm0dutuWeU9TR24OGFnwBkKmhYsLLilr4JWv23AA\n",
       "AAoWQZtUSahBaJlMCCH//qpVABMEEYgBbByuGJUWMAS79sMw9k25/CRenjLptsg79ZJvmkBNqZ80\n",
       "BTT1i0qc6uouMK9nhyOFhelwuqzKNSjYrDhK/8/92hxfpcc8g/mj1PM6nI4CAj+WBntRUBv26tV5\n",
       "Etrji0P0AdBEm5gwAmfRhxCz3OCGZRCPs7MoH/3GeOWWBBi5U5K5N3Nt4jCKifRG4ZI4ySivTd9d\n",
       "hKNKgKwQc3fTj873+gZ2UJdINmKPGcodaeHLv80MKbSSgK/abWr5X512lhL1LXuEk/WWztVwCRh0\n",
       "dBC3gno9nVJuJRYiTO7QF3TZgHIEPWSPO3nAx4omfKR48eTYbk2kgwGJDnPMeqn42SgdLfIyB2ju\n",
       "Y6d3Me7lZjKj7LLurcTz/QV7sWM12gEx0siZFFTUMBeBbL1kuXFHq2FNgKFch5yaIVNL1iAB+N7j\n",
       "6seFURgB1rUWqRYw8NAoJKvdGdFwbW9UJAT/q112TQGBdhMXLwrEnR6Pt774+gn7q0xfIX8cZYAA\n",
       "J/q0vg8uBWxa6Yk1M+2AE+rHxDVQ7HrPkPe1Gjw0J9YBATksWuCqvpZBw2khQHwAZ1yokBaCooth\n",
       "3mWcieFnNds8IRLjVC0NafpwZ9qt2S2vo+HPDT/tvfgiv9HezWjKm/azVoW2C7kN+mBQB08IIYwE\n",
       "WsZ+GocnERWacLFgRSw7Gk9kABurCHDic8CmqkkS04RF7ARle5eO2Le89QeKatyCNrZsF3c2SwrU\n",
       "qB0udWmY53z2nDqfWgr5wue/s8ezzwNA4VVpDYccVQxCHihrhLcKoyco5SuliRFYXWHcPuY2tPQy\n",
       "2hzOWR4hkad8dx6BMcGeGJY/19M2X9cBXA+dNB0pHhLCvUzQbCNmmq4DuMgy/5BpeV9jlyJv/uvQ\n",
       "hNOfoILwQTjV6/eo2yGJgtAX1zbeDvhNBibULg0v2N8tDkXqYDxDV6d/ZrsERH6syVsUFgRVfYzE\n",
       "lDotw1Uv+17pG+LgAAADAPDhwdwxunGQxl1tYlweimZWhyZQNmdMbA01jaup8WgXZF0ExHX21XTc\n",
       "bPTny19jr8xLlY2OHny/d3a00jB/FtwVc5YlrmZdWqcPG9o/eXfWh1Xxp5pSBnENpqKvMn6ByRO2\n",
       "C66GDglazEAtepLUqoY8Mj4uUDv7YxZeFSuzK6aE12AiJMNEslir0ykL3J0I4HWzV099OXHknbMU\n",
       "MZ1ymPye72x6V1/UaoEcgz9kgCqxkJc07Z2CflR10qrACzXBj8LnuNajAPcHKI6TR0KiWbkU3e9Z\n",
       "pu83EWLc440Pj5tKpleL/6Uvxl596ACZzLtDWWWOs8wGeYepfG5MG4Ah1qJ7IFvoxNp3UUL7vRHP\n",
       "7M1oxTP1DOpY8y6jSKZsavobp2EnYsJs0fQcXEIgad30dSffpMczt4ojW7qRVxeWDeFkdmsxn2t2\n",
       "yy7Kg12eZHaILoR7D2VLqQdXbPbfzMF9uZrGmlubX1xkZx+gX/KJ+xhb5QDdZVoRF1f0p/s0zL36\n",
       "Gg2zh1QrDuodKW4Y8TGZzBHXKTdw3MctCiDDkix7GZQr6wGlH/Gw6HZpjQm48VtVNUGppwFat+oQ\n",
       "HKoeMNOWVkE+iR2DIdfjgau8poXbKkNXFZUsWjzjmLm10/wgddbj3hdvHltXk7AJBujZp0n5wyf0\n",
       "fnCUL6GO5LyrgC8xt0BHw4lkPJ05owdCJQcqjAmba/ZNn+sZzrQI+xpi89LfamjliURsrB202uQp\n",
       "s2HHQ0SDLKfmki+oNpz1vdhfsYbIKhldwdXC77aY/f2D/r22RJR5J/XL3NcITGuOhVwx9fVRMneW\n",
       "LKA8PF1QP0omwMm9mPtvQCpcCuuM+u1kJdZo72U4kyqcIXFciDlqLebkGfYWvYiT5UKpkbQWf9Tm\n",
       "TB3Pb9Wp8HyluGpSpOBwtvIy2nen7H1ANNiwe/r2+MlA3mNtdolWIvnWEqgf3Gzx8IUEiNLH6sPh\n",
       "viWpjT+DP2/9O99TYE/VwXxGSSqiZnq6oYBCfAjbrQJ/Ml0t15SWI4p3Clu1oNvjaaFyGFaeSZm1\n",
       "nPK90hBSqBQIz+IKmmYMeEZkb8kjV3jXYVkPD7bLjTkIuf0UrPK8rq5BCjFyou2Dj/OqstvIFIfD\n",
       "CE5hP3W6ay66MZs2oVZisvjUHMy62UjUnZvhuZm6flr2x5v6CTYj8mfROBo5sHOBPm/PJBetA7fj\n",
       "HgqKgNdrTYKe5TUmn6TFzjnSXygl4U+vepZSOIFOlF/7uERqQWbFs09ZtApaLJPH8JOIlfwRLdu7\n",
       "7O0bNSUgLC9wq8C+5MCgYmChY1wBw045IJr79TcWTuBZcd+7/9sMYU8qNuMsMuN0KEPcWVQREUz/\n",
       "X5Ripknur7f14qQ/H7ZRFoDnn8uMM25HN8hYYTKsmp7cA172t18ZMvh3FFJTWM+z3qCxw2przHA/\n",
       "CzBH6CAO75jg8KKHqO6XNfWF23jI6F66TYJZVF0EKXJAWgjZDz8LAdH3Xc0qLpCH6JxfZ+ZlHmK3\n",
       "mCPCGpM6fCOLIy0Gv5c+DEg6C+GRdv8cT7Kz6CsjEEhcHBR5gbmJPwc2dCBxXVx/YDbEWtbfx7JE\n",
       "Qj/wFiAujWOFymR6Eyu6OMq5Aw7G50icTsEF4TvPury0CFdm6vDJypzfobOI5/3uPIp0ZCIzJpVY\n",
       "Rl9pv7pqkJmH026x8aKVwc8jYQE+evJmwwObcsu95UNYHSHm8pAaaNHPH92S6JRBtvKdi0kKHyDf\n",
       "RZffNUej+/MW4xZyuEyw+uEJr+kjFvhCPJKp/tla3s5ElDp1BOj+rSSm4N8v93DdJHsWLV60Jfnx\n",
       "WREYB7mCHCQ9XhXXroZMZaWhiQwP4N/EKwMeaFY6DqAcujrV0sMHj2rxcdZ6AGxH0uLA8GoeUTOw\n",
       "lySgNwSqBTNnxRaDZFdv2a9+14Y7Jc/ru2rzrUsAfQ0VYeF40A1pjcqyvzgNWUneX03ic41oFx1/\n",
       "nv7xtznbx1zuj531ysgCz+1gN2NKE13KdCg0YsrVN8dnWLMTpdJ3Td4TvNa1fhWR4/NwdsftXf4c\n",
       "tPV6djliWBWArUh8l5USpecQ54a4Ca9wQgHnq+y9vqpfui/9Fyjk5vuLgm6wbFEL7CFoLvozBS97\n",
       "XehhovZBbFZPm/wC5AtNwzvzto0Df0mI5Tn49UVJxOfwlq+xXaMIRLA52h5GrCekrvbI8TdaGtGf\n",
       "6JVcqf4WEAdd2lsH7X/fVW+/8jGSy+I2tArWWt3qhRqpb8cH97D8lJpj9JIUoUa2rLC0U51+ov27\n",
       "IpMGCvlmgcY/fwkN27pdpo6KKSdiyg7sbAmzmExqHWhJwWtmBrlej0Grhmo1vZS8u03RAc8BLH83\n",
       "gqlS4GzMny5kQLku9Otvjc3nfLOkxGae5atUb6NVdCj9BnZ42XXdifJJr77EtxyyX3eTW9drJrh7\n",
       "PyCVZnwWeC1dguV9L2UWxhqM1KIAAAGaQZ9yRREsO/8AJRH9ebY4QU4GC+2G9t8ARNa3s7xto1si\n",
       "KZy0odzXGTUML3uRbrXeULDwBdnMhHoHL3H+bUWynnruglYdJSVbRjeWhX1yJaq30dn6O5m+7lyC\n",
       "JWcWMgjXya1uRwVODE/Pi2hwSFNS9P68nryqrfVQ1FEzJ2sT6/IClP1K8tye/f3q4iXvEQNxVyup\n",
       "bZNhmH3QVySqK53lwxRB01wy7UNCXlx3yBQCUrDGJJBUXBR1DRHATQlCSm4EeGIMpfZJUnpUiIOq\n",
       "Ay821KC/rowOe+mUyaud4RzuKD00wpbLY9s7W6cT1KlAHLIug1644q5BkyHJQ6Qf5CglPsF5JFa8\n",
       "pCgcbbAzn8kqQGGizZ5bcXrB4PxxwEE5+R/aiJ3uxN0zvzCyWuELbKJNek7l5PGu5wscTBLU3LIx\n",
       "rxaZL5R46O5Es+mIWEFWvcOA453Yd4BSqN9wQ6p/EvcqQ+h3E5cGsWxB40e3HaSy3EzFbXP5YOrk\n",
       "OqglPwTRE6lhtsmSLPfkC7C4cYty8OrhTFYhN8Y3Of8qW6cAAAFyAZ+RdEN/ADEmeIAPg1UqFCgy\n",
       "9C0fr1OwdHpXCzrJwLxyyV5RMl4Nb/bM/MU908fKe87SliBf0/V7fNp7WNhGVv8ZC2mu0OmEYoEi\n",
       "byCzKfmAStb0wTgvLsAMqfzlhxd5Uz/XoJYc2cytbUT9J1xnmw+eU9qV2j7yPN3IW5KxzWt+2oNf\n",
       "J7srQe2lYVT/Ffimdrf6aMXJhUlIqUN6mWABfS2RyMvIaPtIJYDEoj+87eiZg/0iLT+npKsk7YIx\n",
       "tLRQUML+ifbu3n3w5qcxEkS74eCCeh4rLYAUfooIQhYwtS3dBOmvw+mRcJdCHxC0/EOyh30PcEcm\n",
       "G3CGjfYdjCu1hr8e6/oBX77y94QdDR04Fzx5EPVALauvWQ7/QNZt07tN+tq0u/EJ6m/9x6tKcq9q\n",
       "YvCabVpI+JfGqdnej0vDWVB4f9De8WnUyHesIq/zzWCCh+MAIqpHBTIso+UFkYvRVBi8K6M9MLdM\n",
       "wkH330vm0SBWwAAAAXYBn5NqQ38ANMXSYgvtSv94Yzmg3LCZnLsgUBglqjaEfJE3n4VVFxYMYsFU\n",
       "I/9MsOLb0u4Om+jACx39VQM6QI/La2qyINNVe1Hwxzj78kS74lnFQgBBJpyWCJguZKaWcPuEAAau\n",
       "SilDoDy4tosAmbQXknSz1YmCsaLsfu8kebsw8vUIsVdfg0vA5RzmwtB3osRp5q9IxxFMxREDwgy9\n",
       "xwFeyXLP4ayUrogN3dirJN+Rl35ZIo7UoPlP8xHJyS49l2/pilcu6ieTtYP5bBf4eZzz4+zP/cL/\n",
       "miWnq4lSD9Se/hGec3YyOCBy1MzyZbtxfH67sMP4oEwrBJkClBoABFTrimSa9pPhb//tnMzd69bN\n",
       "joRhBd2K1+za80bZwSaRlObpA/yeDvT3MujXjurMoeXqUc7XhNyqC7+yBZje9FBCA8KegD81BBFO\n",
       "oWGMD4jRXnxr97XqPK1FprAnJ95IpzDBwu3z/WnUG8K/b8QznLK1J227GfwFLwAAEHxBm5dJqEFs\n",
       "mUwIf//+qZYAShZk+ZcaSoZXe4FACMFXQlw0euG0LIysVEFeM/tDAqp07l3NeBmODsKWQnYAqH1m\n",
       "/EwWZORyzxvt7WfCnf7UVR8X427kebTvm+cn9cb//zLhPExM0CpPaRUtrvF2Vo7b14eo3XcMgWKV\n",
       "1se1/PbOs8s8UgC9IdWSMjboJYUUNZY64d4v/QTg50VA0v6lmiTovxEUWPlaPUyOGouS/XX++MVP\n",
       "SG2NsqYvynvsLg+d9i/+MNhONEXbMn/mf0iYsg6WTr+WeXULtEZT8PL4oH6kVDq79wn09D4o6H3B\n",
       "09pI3nIr8OWEPwBoGJw4ZT8RGiPBr0RUzT2TaXgfRQRtSBPrvFmpGLhm2sdO4Iu1YhCcL6CMov32\n",
       "Czg113lB9ezR7/bwHrNkl/2KuValTgjaLpdBMStsvcH2+sKk5i05q/1kUHO/Nh/esUkoAgpun90f\n",
       "bSMILgtVC6CJ27bfzoAVrlQDIx3FUvU/YRA7LkK1upAlTJOthfsyeXuMUbNZ6dmUzfsFxHyDI8WN\n",
       "x2NcSjbmLHj015hJhClRFpBbGPjwzHSx3Rlxy9c+my8kpF2qovQVEZOW+6MbCk7gTmS67JC/7hAD\n",
       "0mKe/WvIhmN/eVgwMhfNBHEpVNtCQhFdLwZBG5FLbGDyuU3wJ4qZnL0qH64F55fOOfwXtvliLmGn\n",
       "VorjBaqoyCBvRDrc276svsSV31S4nEMY9ySvdzSvHZ+pAfrNm7+Bt47/fPxds082Ve1XrPWjsvNt\n",
       "ooZSiwrXyAq+jFlUNpnvqh/sJ6QNdOyaiIFXv7yA1pZbUBvGuX+VC7QailbbOjm9AliGBRlaOl09\n",
       "cr9XszGOffQsaCfl5Ggh40yBuxt+DOVsUPozVVmUsMmXxU89n9VLow33kueMvLCnRbbGRJs10gIN\n",
       "42JecqIF8ok9vJe0P0dPCHoHnLFGPI44Zk/Zvcf08B05EZT1Q4wZQ7CRmAwWuaXoAL8fs0EjGp8p\n",
       "kkyJs2uFrpzpd+0+MEqr+8atp/FBoAP9yMHoFzYiK58nOVFZoQeU1WZu6Z5ZmEVCiwjCQ5GXLpEy\n",
       "phmgLhM6uyRHFVq+J6KklS4c9c/MZ9tXUUG5Bz1ISFGAQPtaROJVk3dEzlue5otxTPRE1Jx5w30d\n",
       "EAEIita8nt0VAzmypTGbA5Zg0bR8GJgAbK9oQS8YnqeAysNMEBfYNBDHznAacfSqioVQUoIuoc/G\n",
       "45uwfByrZJZMIHH4lcJxXa8L9iLEqadHUDFeJePbi+gzhgkXvfHVPAgAPSDJo2ZXAHT6tMWyjHx1\n",
       "8gVG17GrIL1ATZ37XDGclNMgHaFgZSSsxnAHSzDIuPeSqZapYd9Av65Ej9yZ8Zo/FAMxM96sYHt2\n",
       "c+/SAH9++rTR8cVdmImZDbFupmValIlGPfZ1wzulIAkmXTV2groeav44Jz9M0S/2al8it/auFB2t\n",
       "yy6qLTXk+tPAlHEFx8prK2ms2pEsgukczhqse6EOKvLmr1GtwO4w6wuZ2gpg6cHiF/d91/X8n2Nc\n",
       "1c/kCH2U0YI+1i7yFAMGM5CeX24jrhD/GW5qjUgjt6GWtxH/6cGiDpYrqQOW9o5QhitiS6WGsMWt\n",
       "hH4JSFmd386sz1pX4JyzgAZcLolq3FbEkt3VXuyY379uJl1LQA8oS2Y3pB90zlXoPzYwxcFCBXcE\n",
       "Q0AAfSXgtsqjCdoC/w3qly7wNlA5yQnUZaPYHr/g7VIO76bYkspoRhcJsG9OEnvetfNW6A4yAW5e\n",
       "iCrQn83mpaXnd6ZOPGWxeyqxno70BLbPtDLUs3neZSKTwPFL8AwDKp2ap82cLOd35jjWWmpm1OPL\n",
       "mb5T50sUviMxdbiyYtr+XeiF9Xmon0+bcMYxhIdXwUDfjB2BWfm9S5EMJ88xhXE4kt6H5AMOBARM\n",
       "r0GA5lGkaLqGfOLbsrQRPvQpXghp6Sy4ac4MYO4+Iu74zn8s/ozviOIZPLO310hSaydKNSzPtchf\n",
       "rJv6dK2+KyVeAEvPftMSyTxPTMaC7CtgyC3zzxGzjev2IWfryorc95H5NdNI3OXlVh5E+G5N/UAg\n",
       "5gzdj1GRXUftWLc7TDlb7Epxn7LMtS+o6nZHXdcI5Ytyppmy7Yxm+tDmLKXUwvCDCGmStCgCyv3s\n",
       "aeBsnnkmBp9wuwM8rLpnsoyLSX6vx6oEOuAeOLxpcnjtERyhVanL9/3tY3gyBDZ/WvCblMtJbfjx\n",
       "cu41H3eTS5ISRKrG1UdNBYWUfCOWx5wLeHmDs+58Fp9Emtp2v9ksXyTOyGxx5ComgUsMRCaSwRRm\n",
       "iV4ayN4M1s3Kgamd9yh+xwR7W1e+XfLZuIdedTTiALuiJOJyAjZ7Uc4CXwfRO309bbV/G1dmflLT\n",
       "SZlkoWTu3M7aMK3evLxXy1NfepC6yQyQMR1Y91v20tuqOwwc5bYy4Wzmev/k6EqDxvzbcrvcYjuC\n",
       "WJbKl0KCeAM8UFjqjk/wZrKOTet+7Yf17DaId/LHq30dXMgIutv+uWvpKF0qVKj3Ovr8+0FMpZ6O\n",
       "o+zul1OLygwNvHSN5/z3yQperaxHj9Jvkdy+H3k8C52hzvd4GdjTwESgR8295ZkS/YiYkONmvqE3\n",
       "Oru/VBL3zrb/yfLt2TKW1tn6oAGq6k6jWLCg2ExtC7qXUmx3tDpkfIvrOSyGkhYGhmL8rl/ToA1H\n",
       "y8MzKW9TxCfQV9RuwfAiN9Xy506R4f7AkEAZY49mK5Au7eRiDiwEmICITh5+3+XAsReHDYUB+9Tw\n",
       "MyZdAQZjF3g9hJukgCAMSHsIuilZWgzEXIW1xv+lew/3JETDflJ8bt1wR0Hrfmx2yWeGV6lV55xz\n",
       "NH6qKcP3M0kt5IuSx/g043Kw2wOj3FVWngxsLtnC54FkVPt1bzUz4MA6cxQro1Qs+cN7yWFbUcXs\n",
       "QG4MZ6tU/8pNeOW4L5XKXCPrOFiQv3YIZl1bTFPZVVi9e+iyrSv/GqiHMD31eeX0//9nUi7QLiju\n",
       "hG36y2KoJLWScxTgBVuFbkS/3gJYhKwQK/p/o6Dn/dnM9qfSoI3609SWGSapFKoTkz6GQPtkBwv6\n",
       "OpKDwZGF8Ud3t5e1JUvw38a8nwAickdfgRcX2rkFTDlmM0JNvMM6qdovy4avVauZBFGElrns9SKj\n",
       "Uh8xyfWbGTBunJJQnr/JW6umj7+4llZmoopLMNjqqJyyPUyyG5jyMzN63iyPDrk8YOM8kX8eX7Zl\n",
       "jT6kZr0zCW8HLfaC2Ahz7t6/IbJDxq8++SsDu53Yc0u2O/byQUQORqnoSO+FDleHLHlfifhiK9H3\n",
       "/d96bU3syHXJbuJJdTQeu+7MCbyFVDoGbnczcA2lyOquxcKRcZa5P7jWw6FCQMl78g84eG0VwDz6\n",
       "xXJQsMna+aLl5OHJn4xDRPgmFkiXPzPs4cT1YB7FFy5U3iEAY7ePpjk+kxeSjz7NKzrh5VpZ5LC+\n",
       "rdYn5r2oTR9Io5J/bPaW0WeHteWg5Wnn20S4Q0hr3NN2PX9CNXMviPOgQi963DLUVNsmUiR3qE9S\n",
       "ktXSk0ALyTerhvKOp/kaSrVga5BIIKjpb6ubUcyjov+nssUJ6XsRVfEoVOol9q/ZlL0/CPPigAGE\n",
       "k/6O+RdFB//Ym+9WLPyd6U1NU2nbv2B+z9jAA9UR5+jhq+hbxWoo9Zkim1Hfbt3OaNa72MZuwuV8\n",
       "4aswJNoxGqJ5H5btvMjw6Dk51/w0QlcNpnIL/+4Pnp9J28xq3yR388UTr/sYQoJFTS8epnW5YDBO\n",
       "jUwaSa8fD8vfO+1qGMwCKRpRkQysqimQR//kUeAsNUrYK0IJ+Rw0QiSwqUpbUpirRqHgSzTJrKX2\n",
       "ehCTbMahvh7pZJZY1KFvnUXQz3Xy5MhdFICRvVG4ni/xXXcxdufuBdYnNftnI9vBU0Foaba7hS6B\n",
       "KhIdG61fJgXOc+/ygJ/GZiVHcXwnFwitN4W/eD8oY8Qy9jSUdJyVYmUrawPC6l+zMdf2+1Dt1njf\n",
       "d4V4gOkRfBMiSo9sxdmy9+EVNHzJFkCKPF6/UJhJ7mPBhzMabt5HoWaWzLguRZnU1k7OPGBi7cXz\n",
       "xzJpZzPyMca+CrrhOeHdqGOfbYJ6gvPVD10BJLDX9EpTQLs5O9EsyqYLX6YlEnQ3t3ZKFhP9Dq8w\n",
       "kOqoASX9TktleB8NbO3af9flvJPyyg3MDT20u4cfLYXvYLtADhlonOJEHI9qyLJ2nGP46xtNNaED\n",
       "eNfkf1+DgZHLMR+/CX3TzfhFT2J6kd6JqKWV2gitSFcABVPC0xAMSEyU94HjmUckeRG2wBFtO+XJ\n",
       "1sUNi/c7n7cq36ELBjBo0RAaCvhe4giXDOX5R8O5YUwCdr3uF2feEuDB/XA6h1yDJGV4GRIqD4jT\n",
       "d2+9bPl/rsgpUFgB2LGnXrXCiB3FGHU59D9Z9+ngHbGe1Zgio+v9TQj8Z+wF7J2EHj1ha00xGeY6\n",
       "nblPZvwemNDGfyx3LaGUjxrFSV6ajpVjQpOa8ZXjPXnWuLTLFyEwsIOGCDkoKIFT4lZerg7+blAq\n",
       "v9jybt8QNeisXbHzSmSWISWpmqcdMT/+3ZG85Zc1LCyPVLgTvT7KMgzbAv2o+XRlmcNj7E2j2m1C\n",
       "v/ji/O9OhQwk+BvEKWpgLYuNc9Su9JJFqmiWLisvnrCo7/wed0IjnYTPs8yf8N/xqVEmS2VfZq0f\n",
       "CrmrHgUADlX3uM0OOhT/yTgASLQi6UbzPjRKv2rGHdkAhI+bD7UhGqaj3Q5e2fMZyL18CkQJlwz1\n",
       "VZF2WgTzwdR2R4uSI/ZB3DToW9B7xIXLtVKEqpVjHp/VzhcGSjrYUJsHablHTQdkLdUj9RFVVTOl\n",
       "OHwvtgnMFPqpNS5HGqyI/W7E6zgX2iJVskZmQj1vKbWA4rRNsOy4Qfs/Py5Ybyc7tQqIXGWDf1kY\n",
       "M9XjGdNUY1XDIXwZO6otwsvb3w7D5890kZw+OFupD6up9V/jllez8rMeBbAZaI/rs3YoQHzsWfjV\n",
       "KAGsSZWFpOnZq2oNHluwyZQCzsRSR0nztVtqJ+A0g7jQ3fFq5C60QDfC5UBFZvDLjC2QAu8enmOR\n",
       "m2iWCjtHNwOKAOpbLtvnqrGDSxMU/Gsp7n6kkOxw9hP24w1lzW5I3ZQ594Q+WC5XIt4y/zNXnGNT\n",
       "7Iob3pyJO2LpaXb3KTqRvqnA5T5Pr6Ak3dcQPkQ9mIAf2xkHux7pWhLAFUEYHnJIm5IDFFw3f0MJ\n",
       "9oO+lTBgplRKWmshMJlfMx5SPglduDlGjWiZLNkf6R8MOLK0O1cSSSYCPPtjFczgEUEV1qGPXRSc\n",
       "IZ6w6Fm8kpk1jMoBFNlj1GZzOsGPfzyzr5E8be3vZUYK01/H801VEW1bzR6Fkh4IoVC37WtEuJWW\n",
       "ooQwxjzeCW6316vE0rrX8JfXYlnDfH4Z3jQ+NvxMvJgQIIBW/GF+Dnoe2bqj5Eif9MsEWY9ybMLg\n",
       "vegTiG2qBHmIRXOzgnor/WpvQLttKEBKMuLlVDRAgqDroXBg2Y9MAkAaBPu9KI4BWD8BPtkBz8Ix\n",
       "3tpwF9FlFQE5jcnKKXl35Ie9Pq/UZaT3bT8dgjiKb7yfXqR8I0/meTg1T8jLg13kYREuxHrpMK1k\n",
       "sUtEEalxk47PIoAwbjGYbLHSGIpOMxEEh4Z5/F4k5nYf6jLgmaVkQTphul4wPEQoPCNukQAAAdxB\n",
       "n7VFFSw3/wA0wAoazrUAc15yLK+hJ1bkRcSw5ksAIM2vr5Cx3OZfDspMUFx+o+VZNQHCx4T8Qt1A\n",
       "ePyxqCR7KLYrUyTdn7nQ8r8xFc5WKDtrMbnWrQ4eRSknwN+P4MZeC6Vwz7YSxNFM9HZYxqSvcPFC\n",
       "UKL15hsuRQvs5A+03vsi4tvVv/7x6A2M/uyegTIjucDu2InbEmyZWo9AweZoyTv2QZeaaRUx5Boe\n",
       "kAWkEHRfCXWAShH63nnfw+w8AWenrdaTRp6LmZMFshPsgHjw0kzN+Uty6IfjliGkMHu7Q5oRkoxA\n",
       "+x+q1MUfJdbOlPFFQI6PqIlm44SRWuzFZzJUGO5fIsISwdLwpoctGSLirrO/Jrqh+qkyn7Uml9c9\n",
       "+jI3SoUB+q6tDVJLsqs24wq3XST9lladcmwE3P4ILKnguU7M3S2xPTxHTBSYhUFDwbuKrEXYB7rl\n",
       "vWM4T4UzVhtCqY9HVNr8+e9iz3sr99NyUXh2jkUdj4I2WXY6DKHuGv+1fWXSH39urTE7l2QIPr6E\n",
       "6i1AxPiZC81DUEYYkcDC9NyJuhC0SbTYKaekC3uVIryQf2aU9Ed7zV9hR9NXD/ZCda+PJ6KtEeGf\n",
       "pvNQPcHYtteMWhWBrg+QnToxwAAAAXIBn9ZqQ38ADoFEq7MeRikYZdhm2X0tjTx8gFH30KghZKpp\n",
       "rGkrM3voHfL103lToPsddDrQ9TNlLopLNj9K49Jc0HR/UBE5kSvRsUqLCpm3FCKpY2/39/kjACaW\n",
       "xfQCQJvL7QrabmO9I/QzXwYWhi2GsOaT/0xx3ozz7BvIsMes3NwYW2RfUJpyg0D0dWk/pEw7pzs2\n",
       "WNcUu2iM41mvey1vuhhOhjzbstOjakVIqOPS91tA9FK2eBsvbWnqyenWx28adutGwpqOD82EuIhY\n",
       "F0bkJXEhiDZAHGuHP+aRnsykpak5+RbXGnMnJs1vd0IUKcLVfw48yltu43JpxEU75Ytj2WTpwMuI\n",
       "xqXqhLkiRElBfAuAndBTZVr3rUBuBrGLRNUGL8WYeapw/q93TGRbh/sykZusXdezdVqmOLDghdG4\n",
       "oysTXZkQfvEgT+laA/iJU40DQ8PnxB4jnb89LGKmlpoD0s2WQfvH2Gg+AbPxu6tRH+9NAAAFkEGb\n",
       "2kmoQWyZTAhv//6nhAAD9j21AHG0QQSbX7iE1FUDZmmJWabHiwLdgT94b3+1bYzdH+xiDIT+UuwW\n",
       "0tRVPHnx9Wuf8oNFKnG1xeMn2R3BTui9JNTNtQAqRYQpkjdJ0FzgGhRSzy19UAvep7heqgqkyLUw\n",
       "nCPBJGnV6I/LYzyCrztNmxXNRRVfIryLxBil+Q7iNo7B9aGiTbUzXVilc/v5xkqXnU2i1cmCDise\n",
       "btQMZlKhSSHLdreJS9s+IBPDh41xgRybNWiIP7hHbGfaGZO3T2622V6MmyoxiBOy/j5ZoI6f8Hvu\n",
       "lASs+5QPjEDLcB2raCyDcZxm+KFQ5EytpMtfd2bxHwx6fD7OSzheXGpaBJu0+4bx5kYv5PWIojp1\n",
       "13id8qF/PsPztbPLQiMXdrCuiql7pcVyJ0rXbHEmgZJjyDNrQvQbFuNSTh9jqcgl6/Iv21OUemi2\n",
       "MKFml6l0X8QKOBhT2liPqGLmw5ct4c6cxG8g5aK5cOCs2ABH2HD8y1DfS7sNpudme1Wm+73DLhed\n",
       "8J4P/U0TmZlwi9Vvppf3xqTu+U9Wn55vgB3l9SPfs3uDpoA0lcQJdb2ReMJSvI5k79Gfk78N6w0y\n",
       "TfN1LbZtK4k0Y7xgl0ZDyT+drRbFGe/WaXAnGjh7oTa0l0b/laT9rcsKiKOyUAuHzNPf0lQDIzDk\n",
       "f6ACDxC2oKOZwEp66HH/7QqATdYCLBxYZsWkyI6BvGKYmu2oMoxN/pmHkFL5Sh4oypP4tzqXBexv\n",
       "FRrdVwCcgXavUWZW4ENUFpv4zEdfGeATtLfOsaYsX2Rym9GDdQDNS4HxhSAuNJ/52v3FP3F4gSP1\n",
       "s3b0iwZN3Q3BJm3TvNnXE+xzS7dYwKEiH8tO30Ix28pLpYKtecWP3cGIxpGCGWcL8So49ZrL5bJo\n",
       "85DGpR+U5XEpjc7rvNUkHdS2fs1Uy7wEZYirr6L585saZI41Pz+FrSQVv5gOVEjHx+5BVWLUZZsI\n",
       "/T2q4eQeXzmSMZ9a0Z1uVLSMJfp3EMBgYphnJj5pDFps9gr32Vb5at4vhbjhAHSQu/Fcm7AEM/O1\n",
       "CbICY6JMeUetZnBORT4bq9XstSF92Vlr0qZfiOtnUxRT4hMWzajwffD05P+5q06kDPfkMusDlOt9\n",
       "fpxVR6HH2hYNV42SR6menK8wKT5OcEd7a48KX+46hZkwEQHI0H8sE9f17pmvfWo16va6+NRwbJD8\n",
       "na7SQOJxHBHE3rd7w2uNkfRs0IFIL8RyBMTG2FhWCk6DIf9rnkPA18ZAZr/4gCPW/FbSfAQlf/Wz\n",
       "LnXxylP4J0rt55BgDN8hYp9w9qkd6qzyuq4V2ssAq22zNNb0WehTMcVZ0AtVNvvasGBrAxqDQDWX\n",
       "PoMLVbIqW4gnSNeqd2ADQHrK51zzO+PYutI0w1LVeox4Sfhk9rQhtZxKLg4H5iD4LwhB+YWSg7PQ\n",
       "3Wz8cbeZyPk/u/FbTRhrS8eNiepbLBRdD9pPp2Oq65sY12q3fiRxuVMfPAsreEb3j66/QsaDN+Pg\n",
       "7g7XKcYLOuJcNEfhAbtjJCAcJZLk6Qal/8aHX90h73yVi5fD1GXM+muCIvzYdUtC6vBH2YmvyM36\n",
       "zDnMz+MQvDj8ya17V44Pj0cE1zf5FBMgNj4buRmc6d20gfkRwuPs5byuHQB9x5DhS/2NPkz6Hmzv\n",
       "9J6r7yuh/ZlqZ1r6diJrY3xHkv3BDP6tmU7kyb5xbnTEIL9kv01/wCqGBL8RuHnUUjoYmLtzKgUg\n",
       "+0lUmn+VMSLbB7OsuoHmnkPc3wu8nYvquShcrmY8ntGo8jvEskSI+/1ZdAxM6GF77Lb8DkTNGOHa\n",
       "fGBPMEq9qRZO/e5faev6x5/9QCO7/qJPyi6ab1+XTjBYNwwIe/KNF2zLLccI6+gXZyBg/9xRAAAB\n",
       "g0Gf+EUVLDf/AA6ClXcAYxJrxJY/UL5m1bMV4qOZeMCYYinuwb7jO/faqQJACWrSuLHhGqLnzApA\n",
       "fa2/aFRKkuwSqAcZa/v5HF6tkYUHSzBYBgg+sxXYujHAyf4+czaZgCSObA5IddE/H4Uahys7jkDA\n",
       "1arouWgCjDFS2hURXB/Flz4MME7/6qs4/xDFcMoY4AEx7+/skeGwKcCmPQ5vD9x0LEwncJMa0/KK\n",
       "TwA1A/5iPjt2xseM3vPN+dTNBwbAponsZeJeXaQtmAUnZaGoMlSIGAeGEvTuV5uJl/rsIaaLp1DT\n",
       "F19uooN6c+JgfHwP/HaZ9XrBRd8lWuwMILbaTRhr5Bs9KGKEMc/WCjbQDHPR5eS5LFGBVMAlwQl3\n",
       "46e0THACqSG0rU1PCmfvGnVjox1lKJS8vVGsTb0kT9mINo98VcGJAtAqEjJAKfzwsPMiQR1IYK+t\n",
       "YKUOG5kf3UEYZxMyIf2fy3XA31Bymg9CQ/dUO69Xj5ixLup8AC6bMouUxqRmzAAAAewBnhlqQ38A\n",
       "DoFEq7MbOsUlb6AEr+jzQvFx1s3XVS9BrgdFmcrz//k8mK7AMwcRUrbP3smQgDQhRTlZWbO6XJQg\n",
       "cumJwMy5eC+YU8DvkRgp1/T79LlfatPnawvUdbVtkxlYwZRVrChtVHg0DWI6+q8F3W/Gxl0wGgnb\n",
       "orvKFRu6wwrfEksA7VG5UihdXfGQ2EdXbHhIcMaFGuYXWJqIw4lbthoVMPF1MwS3eR+whOnCEzBc\n",
       "eVFygpG2sYy5CQV53AVPf6PcqRYVZ9u6YzqRzKUY9WWtkcAQcOkd87S5v0EsPtAc2btY4aHNA3QR\n",
       "+a19m1/0fCjB4VWSesO0B5M/3OUiks0lEZqU8WY0eb6z+1rggtP+IXBev+kAoLsy5lY4rT0c61wW\n",
       "UpkrocYkmKBvME1Js/mp2hbTRsaA55eXScyk4XHa9ImOFk4aFwpc0LlCJj2M3lmvqBP9cgPih2Dz\n",
       "O2mLmxtc/ggCkBaKxyFGNp8uwO3xBykrVcVGbxyrhP+9uNdiezb+ejOKigpuNSIUOSpVZ3aVZiHc\n",
       "RP4llqvsVx/TSrOQ4cLHffs78fCeDnGZA88KMq8oM1OrkC1g3oPiQvjMXSsMezxt5a2EUGlY1PJv\n",
       "npEVElEhl1rDTgvU/OEBvhbplIpHZrSr3DudLUkAAAQsQZobSahBbJlMCG///qeEAAHPTxZFfsUg\n",
       "wLC+I2VWhHoNZclGceFJuYAS1ae0zgaVBV9te33CS3PFNAL64rssMAL7ag2/5fmYacJfiVdHshB+\n",
       "+jT0oo0OWGktd1dD6nqccY8CxwkTatXbo1+9j+9pCItCTH/RcLem3Bogr0Q0P01CubCVyJ8Rietf\n",
       "N5vg6U5i0ESpUG81+K9DXA7AbnV8ViLsG39BJHxHGMb1myI6UJ1D1PmJwjweo9G496zxr7PMf7YI\n",
       "zzCXF9Ex/4j2qBZ4aZ3Xm+ktksP7Wmrl+tsSnyPIz2fc9YH+HwoOY37NlzhcnIkAvhuBvU0nM/FC\n",
       "jO2AD2As9GuUC54H33DCPC9QYZTTQ/ZMq8XfmwfLqRS9BVT3DYh932XcRN5py6hTnmbdK3qOXTW2\n",
       "il0a3bDeRqW9jlaGCp0XukFhSUcx/RsIIq6HYu/nzdT6iZScpP0qFSRWuFZ7WJiurRPMwUuf5HMM\n",
       "WzYt8v3fgLCO5NXPQ0WHymLQmUNr4q3zVZItDnkCxg2f4mVzI/WLlBI9sNaBVPl2cjsn/MQ4Wv8i\n",
       "+5GqPTP3+W0LlD+hz0DhcOCWGOZupE2P13H3PwK2Ed2Mq82lBpci/KxqK3iN/yO8WQp0gVXk4AM7\n",
       "6oWxGRSDuhHnpAlKwz31YPv+L1qXQAngy+aqo1chh13Lj/zc+NEB7MbfSrfbQTZZglM6gJ8MyIv+\n",
       "+eo/n3wjyTDWtYxuv+eTqCNvbbrVQ/oUr4g8QDkkOjnCl+kl6jqsnh0ae8EGWX+dbbiJAMi7oTSs\n",
       "q84AbQ5hKfSa+GgkpYco9JlSHOzKsq47Z2Ne/vxT3uKNE6Umu5/L/XOjkNca5jwJMNZdgxXyTZa4\n",
       "QiZTjbxeuLMSt3ezcialWmWoh0UM6mhKSZtm/jM8nNOj7h2qbfUtZSAGVrkwHXjOx97UAQNX5EEC\n",
       "naZwMrIRMi6JaKT+BpRkPvL9vBCmPvc1G++SEE2u8J5nXBsHeKK7dWhIBfpxmwKLZA/+tUGn+tVN\n",
       "asCylLFPsZXpl3PTwxXxD/ZJJTzEyNlq6m2USfzTen9b6MDTGtQzmHp/5MYR9tzxzjJ754v/mtzB\n",
       "LHutQq8EWFCyKBCUI75XWzCRCvlXuion24hSesM7/qaZ4roCefl+Zd6RGUByPNYl7xW0QBppIlIY\n",
       "QV7ah6NzIIbphZdD71R439UWaTmdbbPhsmL0Hz/Ha3FYzz92eqf41Nssnvvqmtf6J9NuKTROQvOf\n",
       "Trhe/hnFmTQkHlxAJGNI5J1st88l3ieHzJHKV2G7DxmEQGuuFp81ctzhWUr+ASeFtletQPq1F5TF\n",
       "6VIp8xDhtS62xgTHRnJAgGc5ORMYyFQcnfw6Ck67i1L3+meacwE+Ni55V4R3QjTKIOrL8MPvfXGC\n",
       "fm/r2pXFGfNNIJbIkjdMIJuAAAAF5m1vb3YAAABsbXZoZAAAAAAAAAAAAAAAAAAAA+gAABdwAAEA\n",
       "AAEAAAAAAAAAAAAAAAABAAAAAAAAAAAAAAAAAAAAAQAAAAAAAAAAAAAAAAAAQAAAAAAAAAAAAAAA\n",
       "AAAAAAAAAAAAAAAAAAAAAAAAAAIAAAUQdHJhawAAAFx0a2hkAAAAAwAAAAAAAAAAAAAAAQAAAAAA\n",
       "ABdwAAAAAAAAAAAAAAAAAAAAAAABAAAAAAAAAAAAAAAAAAAAAQAAAAAAAAAAAAAAAAAAQAAAAAIA\n",
       "AAACAAAAAAAAJGVkdHMAAAAcZWxzdAAAAAAAAAABAAAXcAAACAAAAQAAAAAEiG1kaWEAAAAgbWRo\n",
       "ZAAAAAAAAAAAAAAAAAAAKAAAAPAAVcQAAAAAAC1oZGxyAAAAAAAAAAB2aWRlAAAAAAAAAAAAAAAA\n",
       "VmlkZW9IYW5kbGVyAAAABDNtaW5mAAAAFHZtaGQAAAABAAAAAAAAAAAAAAAkZGluZgAAABxkcmVm\n",
       "AAAAAAAAAAEAAAAMdXJsIAAAAAEAAAPzc3RibAAAALNzdHNkAAAAAAAAAAEAAACjYXZjMQAAAAAA\n",
       "AAABAAAAAAAAAAAAAAAAAAAAAAIAAgAASAAAAEgAAAAAAAAAAQAAAAAAAAAAAAAAAAAAAAAAAAAA\n",
       "AAAAAAAAAAAAAAAAABj//wAAADFhdmNDAWQAFv/hABhnZAAWrNlAgBBoQAAAAwBAAAAFA8WLZYAB\n",
       "AAZo6+PLIsAAAAAcdXVpZGtoQPJfJE/FujmlG88DI/MAAAAAAAAAGHN0dHMAAAAAAAAAAQAAADwA\n",
       "AAQAAAAAFHN0c3MAAAAAAAAAAQAAAAEAAAHYY3R0cwAAAAAAAAA5AAAAAQAACAAAAAABAAAUAAAA\n",
       "AAEAAAgAAAAAAQAAAAAAAAABAAAEAAAAAAEAABQAAAAAAQAACAAAAAABAAAAAAAAAAEAAAQAAAAA\n",
       "AQAAFAAAAAABAAAIAAAAAAEAAAAAAAAAAQAABAAAAAABAAAMAAAAAAEAAAQAAAAAAQAADAAAAAAB\n",
       "AAAEAAAAAAEAAAwAAAAAAQAABAAAAAABAAAUAAAAAAEAAAgAAAAAAQAAAAAAAAABAAAEAAAAAAEA\n",
       "ABAAAAAAAgAABAAAAAABAAAMAAAAAAEAAAQAAAAAAQAAFAAAAAABAAAIAAAAAAEAAAAAAAAAAQAA\n",
       "BAAAAAABAAAIAAAAAAEAABQAAAAAAQAACAAAAAABAAAAAAAAAAEAAAQAAAAAAQAAFAAAAAABAAAI\n",
       "AAAAAAEAAAAAAAAAAQAABAAAAAABAAAMAAAAAAEAAAQAAAAAAQAADAAAAAABAAAEAAAAAAEAABQA\n",
       "AAAAAQAACAAAAAABAAAAAAAAAAEAAAQAAAAAAQAAFAAAAAABAAAIAAAAAAEAAAAAAAAAAQAABAAA\n",
       "AAABAAAQAAAAAAIAAAQAAAAAAQAAEAAAAAACAAAEAAAAAAEAAAgAAAAAHHN0c2MAAAAAAAAAAQAA\n",
       "AAEAAAA8AAAAAQAAAQRzdHN6AAAAAAAAAAAAAAA8AAAaAAAAB80AAAE9AAABVwAAAlYAAAwVAAAB\n",
       "ygAAAUEAAAHoAAAMUwAABF0AAAGHAAABWwAACsQAAAE6AAAGUQAAAVUAAAk6AAABDgAAC/wAAALe\n",
       "AAABrQAAAVkAAA7UAAACAgAAARAAAAbmAAABUgAAEGgAAAGeAAABKAAAAQ8AAAaCAAAK5gAAAVoA\n",
       "AAExAAABUAAAEiwAAAFXAAABjwAAAWQAAAptAAABfQAABv0AAAEPAAANkwAAAVIAAAF9AAABOQAA\n",
       "ChoAAAGeAAABdgAAAXoAABCAAAAB4AAAAXYAAAWUAAABhwAAAfAAAAQwAAAAFHN0Y28AAAAAAAAA\n",
       "AQAAACwAAABidWR0YQAAAFptZXRhAAAAAAAAACFoZGxyAAAAAAAAAABtZGlyYXBwbAAAAAAAAAAA\n",
       "AAAAAC1pbHN0AAAAJal0b28AAAAdZGF0YQAAAAEAAAAATGF2ZjU4LjI5LjEwMA==\n",
       "\">\n",
       "  Your browser does not support the video tag.\n",
       "</video>"
      ],
      "text/plain": [
       "<IPython.core.display.HTML object>"
      ]
     },
     "metadata": {},
     "output_type": "display_data"
    }
   ],
   "source": [
    "# アニメーションの描画\n",
    "fig, ax = plt.subplots(figsize=(4, 4), dpi=128)\n",
    "ax.set(xticks=[], yticks=[])\n",
    "\n",
    "# 各フレームの描画\n",
    "draw = []\n",
    "for i, f in enumerate(frames):\n",
    "    ims = plt.imshow(f)\n",
    "    draw.append([ims])\n",
    "\n",
    "# アニメーションの作成\n",
    "ani = ArtistAnimation(fig, draw, interval=100, blit=True)\n",
    "html = display.HTML(ani.to_html5_video())\n",
    "display.display(html)\n",
    "\n",
    "# Matplotlibのウィンドウを閉じる\n",
    "plt.close()"
   ]
  },
  {
   "cell_type": "markdown",
   "metadata": {
    "editable": true,
    "slideshow": {
     "slide_type": ""
    },
    "tags": []
   },
   "source": [
    "最終的な状態において、黒番、白番がそれぞれ何個のセルを専有しているかは`count`関数により計算できる。"
   ]
  },
  {
   "cell_type": "code",
   "execution_count": 17,
   "metadata": {
    "editable": true,
    "slideshow": {
     "slide_type": ""
    },
    "tags": []
   },
   "outputs": [
    {
     "name": "stdout",
     "output_type": "stream",
     "text": [
      "#black: 27\n",
      "#white: 37\n"
     ]
    }
   ],
   "source": [
    "print(\"#black:\", env.count(Player.BLACK))\n",
    "print(\"#white:\", env.count(Player.WHITE))"
   ]
  },
  {
   "cell_type": "markdown",
   "metadata": {
    "editable": true,
    "slideshow": {
     "slide_type": ""
    },
    "tags": []
   },
   "source": [
    "最後に、両者ランダムに着手する場合に1000回対戦すると、どの程度の勝敗になるのかを調べてみる。ランダム対戦には少々時間がかかるため、以下のコードでは、`joblib`を用いて、並列実行により同時に複数の対局を行なっている。"
   ]
  },
  {
   "cell_type": "code",
   "execution_count": 18,
   "metadata": {
    "editable": true,
    "slideshow": {
     "slide_type": ""
    },
    "tags": []
   },
   "outputs": [
    {
     "data": {
      "application/vnd.jupyter.widget-view+json": {
       "model_id": "993f79dfed30456e81bd5e62f5d4f2ff",
       "version_major": 2,
       "version_minor": 0
      },
      "text/plain": [
       "  0%|          | 0/1000 [00:00<?, ?it/s]"
      ]
     },
     "metadata": {},
     "output_type": "display_data"
    }
   ],
   "source": [
    "def match():\n",
    "    # ゲームのリセット\n",
    "    env = othello.make()\n",
    "    env.reset()\n",
    "\n",
    "    # エピソード開始\n",
    "    while not env.is_done():\n",
    "        # 有効手の列挙\n",
    "        moves = env.legal_moves()\n",
    "\n",
    "        # 着手可能な手があればランダムに1つを選ぶ\n",
    "        move = np.random.choice(moves)\n",
    "\n",
    "        # 着手による盤の状態の更新\n",
    "        env.update(move)\n",
    "\n",
    "    return env.count(Player.BLACK), env.count(Player.WHITE)\n",
    "\n",
    "\n",
    "with tqdm_joblib(n_episodes):\n",
    "    result = joblib.Parallel(n_jobs=n_jobs)(\n",
    "        (joblib.delayed(match)() for _ in range(n_episodes)),\n",
    "    )\n",
    "\n",
    "result = np.array(result, dtype=\"int32\")\n",
    "b_win = np.sum(result[:, 0] > result[:, 1])\n",
    "w_win = np.sum(result[:, 0] < result[:, 1])\n",
    "draw = np.sum(result[:, 0] == result[:, 1])"
   ]
  },
  {
   "cell_type": "code",
   "execution_count": 19,
   "metadata": {
    "editable": true,
    "slideshow": {
     "slide_type": ""
    },
    "tags": [
     "remove-input",
     "remove-output"
    ]
   },
   "outputs": [
    {
     "data": {
      "text/plain": [
       "471"
      ]
     },
     "metadata": {
      "scrapbook": {
       "mime_prefix": "",
       "name": "rand_b_win"
      }
     },
     "output_type": "display_data"
    },
    {
     "data": {
      "text/plain": [
       "485"
      ]
     },
     "metadata": {
      "scrapbook": {
       "mime_prefix": "",
       "name": "rand_w_win"
      }
     },
     "output_type": "display_data"
    },
    {
     "data": {
      "text/plain": [
       "44"
      ]
     },
     "metadata": {
      "scrapbook": {
       "mime_prefix": "",
       "name": "rand_draw"
      }
     },
     "output_type": "display_data"
    }
   ],
   "source": [
    "glue(\"rand_b_win\", b_win)\n",
    "glue(\"rand_w_win\", w_win)\n",
    "glue(\"rand_draw\", draw)"
   ]
  },
  {
   "cell_type": "markdown",
   "metadata": {
    "editable": true,
    "slideshow": {
     "slide_type": ""
    },
    "tags": []
   },
   "source": [
    "**対局結果: ランダム vs ランダム**\n",
    "- 黒番勝ち: {glue:}`rand_b_win`\n",
    "- 白番勝ち: {glue:}`rand_w_win`\n",
    "- 引き分け: {glue:}`rand_draw`"
   ]
  },
  {
   "cell_type": "markdown",
   "metadata": {
    "editable": true,
    "slideshow": {
     "slide_type": ""
    },
    "tags": []
   },
   "source": [
    "このようにランダムな着手では当然ながら、勝率はおよそ五分五分になる。ただし、オセロは後手である白番の方が若干有利であると言われており、ランダムに着手した場合には白番の勝率がやや高くなっている。\n",
    "\n",
    "以後は、この着手の方法を改良していき、より高い勝率を目指してみる。以下、利便性のために、ランダムに着手する関数として`move_by_random`を作成しておく。"
   ]
  },
  {
   "cell_type": "code",
   "execution_count": 20,
   "metadata": {
    "editable": true,
    "slideshow": {
     "slide_type": ""
    },
    "tags": []
   },
   "outputs": [],
   "source": [
    "def move_by_random(env):\n",
    "    \"\"\"有効手の中からランダムに手を選ぶ\"\"\"\n",
    "    moves = env.legal_moves()\n",
    "    return np.random.choice(moves)"
   ]
  },
  {
   "cell_type": "markdown",
   "metadata": {
    "editable": true,
    "slideshow": {
     "slide_type": ""
    },
    "tags": []
   },
   "source": [
    ":::{admonition} オセロが解けた？\n",
    ":class: note\n",
    "\n",
    "2023年10月に「Othello is Solved」という衝撃的なタイトルの論文が、プレプリント投稿サイトのarXivに公開された。この論文は、オセロゲームが「弱解決」したことを示している論文で、「弱解決」とは両対局者が常に最善の手を指し続けると、結果がどうなるかが解析できたことを示す。\n",
    "\n",
    "人間の体感としては後手の方が(最後にディスクをおけるという意味で)若干有利のように感じるが、この論文によれば、オセロは、**両者が最善手を指し続けると引き分けになる**そうだ。興味のある読者は是非、以下の原著を読んでみてほしい。\n",
    "\n",
    "Othello is Solved: <https://arxiv.org/abs/2310.19387>\n",
    ":::"
   ]
  },
  {
   "cell_type": "markdown",
   "metadata": {
    "editable": true,
    "slideshow": {
     "slide_type": ""
    },
    "tags": []
   },
   "source": [
    "## セル評価値を用いた着手"
   ]
  },
  {
   "cell_type": "markdown",
   "metadata": {
    "editable": true,
    "slideshow": {
     "slide_type": ""
    },
    "tags": []
   },
   "source": [
    "人間(の初心者)がオセロを指すときに最初に覚えることと言えば、角が取れるように着手を調整する、ということだろう。\n",
    "\n",
    "角のセルは一度ディスクを置いてしまえば、それ以降、相手に取られることがなく、また縁の領域にあるディスクを一度に多くひっくり返すこともできるため、角にディスクを置くことができれば有利になることが多い。\n",
    "\n",
    "一方で、角のセルに隣接するセルにディスクを置くと、相手に角を取られる可能性が出てくるので、角に隣接するセルにはできる限りディスクを置かない方が良いことが分かる。\n",
    "\n",
    "このような人間の経験則に従って、各セルにディスクを置くことが、どのくらい得でどのくらい損なのかを表わす評価値を以下のように定義する。"
   ]
  },
  {
   "cell_type": "code",
   "execution_count": 21,
   "metadata": {
    "editable": true,
    "slideshow": {
     "slide_type": ""
    },
    "tags": []
   },
   "outputs": [],
   "source": [
    "scores = np.array(\n",
    "    [\n",
    "        [120, -20, 20, 5, 5, 20, -20, 120],\n",
    "        [-20, -40, -5, -5, -5, -5, -40, -20],\n",
    "        [20, -5, 15, 3, 3, 15, -5, 20],\n",
    "        [5, -5, 3, 0, 0, 3, -5, 5],\n",
    "        [5, -5, 3, 0, 0, 3, -5, 5],\n",
    "        [20, -5, 15, 3, 3, 15, -5, 20],\n",
    "        [-20, -40, -5, -5, -5, -5, -40, -20],\n",
    "        [120, -20, 20, 5, 5, 20, -20, 120],\n",
    "    ],\n",
    "    dtype=\"int32\",\n",
    ")"
   ]
  },
  {
   "cell_type": "code",
   "execution_count": 22,
   "metadata": {
    "editable": true,
    "slideshow": {
     "slide_type": ""
    },
    "tags": [
     "remove-input"
    ]
   },
   "outputs": [
    {
     "data": {
      "application/papermill.record/image/png": "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",
      "application/papermill.record/text/plain": "<Figure size 1280x960 with 1 Axes>"
     },
     "metadata": {
      "scrapbook": {
       "mime_prefix": "application/papermill.record/",
       "name": "cell_scores"
      }
     },
     "output_type": "display_data"
    }
   ],
   "source": [
    "fig, ax = plt.subplots()\n",
    "\n",
    "ax.set_xticks(np.arange(0, 8))\n",
    "ax.set_yticks(np.arange(0, 8))\n",
    "ax.set_xticklabels(np.arange(1, 9))\n",
    "ax.set_yticklabels(np.arange(1, 9))\n",
    "\n",
    "ax.set_xticks(np.arange(1, 9) - 0.5, minor=True)\n",
    "ax.set_yticks(np.arange(1, 9) - 0.5, minor=True)\n",
    "\n",
    "ax.imshow(scores, cmap=\"tab20\", interpolation=None)\n",
    "for (i, j), z in np.ndenumerate(scores):\n",
    "    txt = ax.text(j, i, \"{:d}\".format(z), ha=\"center\", va=\"center\", color=\"k\", fontsize=15)\n",
    "\n",
    "ax.grid(which=\"minor\", color=\"k\", linestyle=\"-\", linewidth=0.5)\n",
    "ax.xaxis.tick_top()\n",
    "\n",
    "glue(\"cell_scores\", fig, display=False)\n",
    "plt.close()"
   ]
  },
  {
   "cell_type": "markdown",
   "metadata": {
    "editable": true,
    "slideshow": {
     "slide_type": ""
    },
    "tags": []
   },
   "source": [
    "```{glue:figure} cell_scores\n",
    ":figwidth: 512px\n",
    ":name: \"オセロ盤のセル評価値\"\n",
    "```"
   ]
  },
  {
   "cell_type": "code",
   "execution_count": 23,
   "metadata": {
    "editable": true,
    "slideshow": {
     "slide_type": ""
    },
    "tags": []
   },
   "outputs": [],
   "source": [
    "def move_by_score(env):\n",
    "    \"\"\"セル評価値を用いた着手\"\"\"\n",
    "    moves = env.legal_moves()\n",
    "    best_move = moves[0]\n",
    "    best_score = -np.inf\n",
    "    for move in moves:\n",
    "        if move.is_pass():\n",
    "            continue\n",
    "\n",
    "        score = scores[move.x, move.y]\n",
    "        if best_score < score:\n",
    "            best_move = move\n",
    "            best_score = score\n",
    "\n",
    "    return best_move"
   ]
  },
  {
   "cell_type": "markdown",
   "metadata": {
    "editable": true,
    "slideshow": {
     "slide_type": ""
    },
    "tags": []
   },
   "source": [
    "このルーチンを用いて、先ほどと同様に{glue:}`n_episodes`回の対戦を行ない、ランダムな着手に比べて、どのくらい勝率が上昇するかを見てみよう。"
   ]
  },
  {
   "cell_type": "code",
   "execution_count": 24,
   "metadata": {
    "editable": true,
    "slideshow": {
     "slide_type": ""
    },
    "tags": []
   },
   "outputs": [
    {
     "data": {
      "application/vnd.jupyter.widget-view+json": {
       "model_id": "84757e5667a54335b5650b7bfcc1571d",
       "version_major": 2,
       "version_minor": 0
      },
      "text/plain": [
       "  0%|          | 0/1000 [00:00<?, ?it/s]"
      ]
     },
     "metadata": {},
     "output_type": "display_data"
    }
   ],
   "source": [
    "def match():\n",
    "    # ゲームのリセット\n",
    "    env = othello.make()\n",
    "    env.reset()\n",
    "\n",
    "    # エピソード開始\n",
    "    while not env.is_done():\n",
    "        # 黒番:\n",
    "        if env.player == Player.BLACK:\n",
    "            # セル評価値が最も高い場所に着手する\n",
    "            move = move_by_score(env)\n",
    "        # 白番:\n",
    "        if env.player == Player.WHITE:\n",
    "            # 着手可能な手があればランダムに1つを選ぶ\n",
    "            move = move_by_random(env)\n",
    "\n",
    "        # 着手による盤の状態の更新\n",
    "        env.update(move)\n",
    "\n",
    "    return env.count(Player.BLACK), env.count(Player.WHITE)\n",
    "\n",
    "\n",
    "with tqdm_joblib(n_episodes):\n",
    "    result = joblib.Parallel(n_jobs=n_jobs)(\n",
    "        (joblib.delayed(match)() for _ in range(n_episodes)),\n",
    "    )\n",
    "\n",
    "result = np.array(result, dtype=\"int32\")\n",
    "b_win = np.sum(result[:, 0] > result[:, 1])\n",
    "w_win = np.sum(result[:, 0] < result[:, 1])\n",
    "draw = np.sum(result[:, 0] == result[:, 1])"
   ]
  },
  {
   "cell_type": "code",
   "execution_count": 25,
   "metadata": {
    "editable": true,
    "slideshow": {
     "slide_type": ""
    },
    "tags": [
     "remove-input",
     "remove-output"
    ]
   },
   "outputs": [
    {
     "data": {
      "text/plain": [
       "735"
      ]
     },
     "metadata": {
      "scrapbook": {
       "mime_prefix": "",
       "name": "score_b_win"
      }
     },
     "output_type": "display_data"
    },
    {
     "data": {
      "text/plain": [
       "230"
      ]
     },
     "metadata": {
      "scrapbook": {
       "mime_prefix": "",
       "name": "score_w_win"
      }
     },
     "output_type": "display_data"
    },
    {
     "data": {
      "text/plain": [
       "35"
      ]
     },
     "metadata": {
      "scrapbook": {
       "mime_prefix": "",
       "name": "score_draw"
      }
     },
     "output_type": "display_data"
    }
   ],
   "source": [
    "glue(\"score_b_win\", b_win)\n",
    "glue(\"score_w_win\", w_win)\n",
    "glue(\"score_draw\", draw)"
   ]
  },
  {
   "cell_type": "markdown",
   "metadata": {
    "editable": true,
    "slideshow": {
     "slide_type": ""
    },
    "tags": []
   },
   "source": [
    "**対局結果: セル評価値 vs ランダム**\n",
    "- 黒番勝ち: {glue:}`score_b_win`\n",
    "- 白番勝ち: {glue:}`score_w_win`\n",
    "- 引き分け: {glue:}`score_draw`"
   ]
  },
  {
   "cell_type": "markdown",
   "metadata": {
    "editable": true,
    "slideshow": {
     "slide_type": ""
    },
    "tags": []
   },
   "source": [
    "上記の通り、人間の経験則を導入することでランダムに着手するのと比べて大幅に勝率が上昇していることが分かる。"
   ]
  },
  {
   "cell_type": "markdown",
   "metadata": {
    "editable": true,
    "slideshow": {
     "slide_type": ""
    },
    "tags": []
   },
   "source": [
    "(ssec:minimax)=\n",
    "## ミニマックス探索"
   ]
  },
  {
   "cell_type": "markdown",
   "metadata": {
    "editable": true,
    "slideshow": {
     "slide_type": ""
    },
    "tags": []
   },
   "source": [
    "上記のセル評価値に基づく着手では、今まさに打とうとしている手が、**その時点においてどのくらいの価値を持つのか**だけを考慮していた。\n",
    "\n",
    "しかし、実際には、局面によっては、角に単にセルの評価値が高いディスクに置くよりも、その後、何手か指した後に、より勝ちの高い手が打てるような手も存在するだろう。\n",
    "\n",
    "実際に人間がオセロをプレイするときも、ある程度は「次に相手が何を」してくるかを考えているはずで、その際、**できるだけ自分に得**で**できるだけ相手に損**な手を指すのが良いと考えるだろう。\n",
    "\n",
    "このような考え方に基づいて、手を先読みして着手を探索する手法に**ミニマックス探索**がある (min-max探索ではないので注意)。"
   ]
  },
  {
   "cell_type": "code",
   "execution_count": 26,
   "metadata": {
    "editable": true,
    "slideshow": {
     "slide_type": ""
    },
    "tags": []
   },
   "outputs": [],
   "source": [
    "def minimax(env, move, depth, max_depth):\n",
    "    env.update(move)\n",
    "\n",
    "    if depth >= max_depth:\n",
    "        score = move.player * np.sum(env.board * scores)\n",
    "    else:\n",
    "        # 相手にとってのベストスコアを計算\n",
    "        best_score = -np.inf\n",
    "        for next_move in env.legal_moves():\n",
    "            score = minimax(env, next_move, depth + 1, max_depth)\n",
    "            if best_score < score:\n",
    "                best_score = score\n",
    "\n",
    "        # 自分にとっては相手のベストスコアは小さい方が良い\n",
    "        score = -best_score\n",
    "\n",
    "    env.undo()\n",
    "    return score"
   ]
  },
  {
   "cell_type": "code",
   "execution_count": 27,
   "metadata": {
    "editable": true,
    "slideshow": {
     "slide_type": ""
    },
    "tags": []
   },
   "outputs": [],
   "source": [
    "def move_by_minimax(env, max_depth=2):\n",
    "    moves = env.legal_moves()\n",
    "\n",
    "    best_move = moves[0]\n",
    "    best_score = -np.inf\n",
    "    for move in moves:\n",
    "        score = minimax(env, move, 0, max_depth)\n",
    "        if best_score < score:\n",
    "            best_move = move\n",
    "            best_score = score\n",
    "\n",
    "    return best_move"
   ]
  },
  {
   "cell_type": "code",
   "execution_count": 28,
   "metadata": {
    "editable": true,
    "slideshow": {
     "slide_type": ""
    },
    "tags": []
   },
   "outputs": [
    {
     "data": {
      "application/vnd.jupyter.widget-view+json": {
       "model_id": "95a6583de90544ba83a2cf14630c33c1",
       "version_major": 2,
       "version_minor": 0
      },
      "text/plain": [
       "  0%|          | 0/1000 [00:00<?, ?it/s]"
      ]
     },
     "metadata": {},
     "output_type": "display_data"
    }
   ],
   "source": [
    "def match():\n",
    "    # ゲームのリセット\n",
    "    env = othello.make()\n",
    "    env.reset()\n",
    "\n",
    "    # エピソード開始\n",
    "    while not env.is_done():\n",
    "        # 黒番:\n",
    "        if env.player == Player.BLACK:\n",
    "            # ミニマックス探索\n",
    "            move = move_by_minimax(env, max_depth=2)\n",
    "        # 白番:\n",
    "        if env.player == Player.WHITE:\n",
    "            # セル評価値に基づく着手\n",
    "            move = move_by_random(env)\n",
    "\n",
    "        # 着手による盤の状態の更新\n",
    "        env.update(move)\n",
    "\n",
    "    return env.count(Player.BLACK), env.count(Player.WHITE)\n",
    "\n",
    "\n",
    "with tqdm_joblib(n_episodes):\n",
    "    result = joblib.Parallel(n_jobs=n_jobs)(\n",
    "        (joblib.delayed(match)() for _ in range(n_episodes)),\n",
    "    )\n",
    "\n",
    "result = np.array(result, dtype=\"int32\")\n",
    "b_win = np.sum(result[:, 0] > result[:, 1])\n",
    "w_win = np.sum(result[:, 0] < result[:, 1])\n",
    "draw = np.sum(result[:, 0] == result[:, 1])"
   ]
  },
  {
   "cell_type": "code",
   "execution_count": 29,
   "metadata": {
    "editable": true,
    "slideshow": {
     "slide_type": ""
    },
    "tags": [
     "remove-input",
     "remove-output"
    ]
   },
   "outputs": [
    {
     "data": {
      "text/plain": [
       "810"
      ]
     },
     "metadata": {
      "scrapbook": {
       "mime_prefix": "",
       "name": "minimax_b_win"
      }
     },
     "output_type": "display_data"
    },
    {
     "data": {
      "text/plain": [
       "147"
      ]
     },
     "metadata": {
      "scrapbook": {
       "mime_prefix": "",
       "name": "minimax_w_win"
      }
     },
     "output_type": "display_data"
    },
    {
     "data": {
      "text/plain": [
       "43"
      ]
     },
     "metadata": {
      "scrapbook": {
       "mime_prefix": "",
       "name": "minimax_draw"
      }
     },
     "output_type": "display_data"
    }
   ],
   "source": [
    "glue(\"minimax_b_win\", b_win)\n",
    "glue(\"minimax_w_win\", w_win)\n",
    "glue(\"minimax_draw\", draw)"
   ]
  },
  {
   "cell_type": "markdown",
   "metadata": {
    "editable": true,
    "slideshow": {
     "slide_type": ""
    },
    "tags": []
   },
   "source": [
    "**対局結果: ミニマックス vs ランダム**\n",
    "- 黒番勝ち: {glue:}`minimax_b_win`\n",
    "- 白番勝ち: {glue:}`minimax_w_win`\n",
    "- 引き分け: {glue:}`minimax_draw`"
   ]
  },
  {
   "cell_type": "markdown",
   "metadata": {
    "editable": true,
    "slideshow": {
     "slide_type": ""
    },
    "tags": []
   },
   "source": [
    "上記の通り、ミニマックス探索で2手先を読むだけで飛躍的に勝率が上昇していることが分かる。\n",
    "\n",
    "ただし、ミニマックス探索は再帰的に手を探索するため、より多くの手を読もうとすると、かなり多くの時間を要する。実際、ミニマックス探索は「本来探索する必要のない手」も探索しているがために、余計に計算を行なっている。"
   ]
  },
  {
   "cell_type": "markdown",
   "metadata": {
    "editable": true,
    "slideshow": {
     "slide_type": ""
    },
    "tags": []
   },
   "source": [
    "ミニマックス探索は、現在の局面から先の手を読むときに、相手も自分自身に取って最善となるように手を検討する。そのため、相手の手の評価値は検討を進めるに従って**相手にとっての価値は上昇していく**一方で、**自分にとっての価値は減少していく**ことが分かる。\n",
    "\n",
    "従って、今得られている価値が最大の手の評価値より、相手の手の探索中に得られる評価値が小さくなった瞬間に、それ以上手を探索する必要がなくなる。このような原理に基づいて探索の枝刈りを行なう手法に**アルファベータ探索**がある。\n",
    "\n",
    "アルファベータ探索は上記の`minimax`関数を少し改良するだけで実装できるので、練習問題として取り組んでみて、探索の効率が上昇することを確認してほしい。"
   ]
  },
  {
   "cell_type": "markdown",
   "metadata": {
    "editable": true,
    "slideshow": {
     "slide_type": ""
    },
    "tags": []
   },
   "source": [
    "# (ssec:monte-carlo)=\n",
    "## 原始モンテカルロ探索"
   ]
  },
  {
   "cell_type": "markdown",
   "metadata": {},
   "source": [
    "ここまでに紹介したミニマックス法やアルファベータ法は、現在の状態に対して何らかの評価値が既に与えられている場合には有効であるものの、このような評価値を**どのように決定すれば最適なのか**は実際のところ難しい。\n",
    "\n",
    "特に上記の例では、オセロ盤の状態ではなく、セルに対して評価値を与えているが、実際のオセロにおいて、どのセルにディスクを置けばより勝ちに近づくかは、そのときに既に置かれているディスクに依存するだろう。\n",
    "\n",
    "従って、ここまでのセルの評価値に基づく探索には限界があり、**実際に勝てるのかどうか**に基づいた着手を目指す必要があると分かる。しかし、勝ち負けを知るためにはオセロを終局までプレイしなければならない。では、その過程ではどのような手を指せば良いだろうか。"
   ]
  },
  {
   "cell_type": "markdown",
   "metadata": {},
   "source": [
    "**原始モンテカルロ探索**は、モンテカルロ法、すなわちランダムな着手によって、今の**オセロ盤の状態がどの程度、勝ちやすい、負けやすい状態なのかを近似的に推測しながら着手する手法**である。言い換えれば、どのような手が良いのかは一旦おいておいて、**適当に指しても勝ちやすければ、それが勝ちやすい局面**と見なして着手を決定する。\n",
    "\n",
    "今、とあるオセロの局面を考えたとき、着手できる手は通常複数ある。このような複数の手をランダムに指して、どの手がより勝ちに近づくかを推定するのだが、この問題は、まさに**多腕バンディット問題**と同様の問題であることが分かる。多腕バンディット問題においては、どのスロットアームを回すかを最適化していたが、今回はオセロの有効手に対して同様の操作を行なう。"
   ]
  },
  {
   "cell_type": "markdown",
   "metadata": {},
   "source": [
    "まず、とある局面からランダムにプレイを行なって終局まで進める操作を関数として定義しておく。このような操作を**プレアウト**と呼ぶ。"
   ]
  },
  {
   "cell_type": "code",
   "execution_count": 30,
   "metadata": {
    "editable": true,
    "slideshow": {
     "slide_type": ""
    },
    "tags": []
   },
   "outputs": [],
   "source": [
    "def playout(env):\n",
    "    \"\"\"ランダムに着手して終局まで進める\"\"\"\n",
    "    while not env.is_done():\n",
    "        moves = env.legal_moves()\n",
    "        move = random.choice(moves)\n",
    "        env.update(move)"
   ]
  },
  {
   "cell_type": "markdown",
   "metadata": {},
   "source": [
    "この関数を呼び出して、とある局面を終局まで進めたとき、今の手番のプレイヤーが勝ちなら **+1点** の報酬を得ることとする。\n",
    "\n",
    "プレイアウトをするべき手は多腕バンディット問題において、良い性能であったUCB1値を用いて選択する。UCB1値の定義を再掲しておく。"
   ]
  },
  {
   "cell_type": "markdown",
   "metadata": {},
   "source": [
    "$$\n",
    "\\text{UCB1}_i = \\frac{n_{i,{\\rm hit}}}{n_{i,{\\rm play}}} + \\sqrt{\\frac{2 \\log(n_{\\rm total})}{n_{i, {\\rm play}}}}\n",
    "$$"
   ]
  },
  {
   "cell_type": "markdown",
   "metadata": {},
   "source": [
    "この定義は多腕バンディット問題用の表記になっているが、これをオセロの着手に置き換えると、個々の変数は以下のものを指す。\n",
    "\n",
    "- $n_{i, {\\rm hit}}$: $i$番目の候補手を指してプレイアウトしたときの勝利回数\n",
    "- $n_{i, {\\rm play}}$: $i$番目の候補手に対してプレイアウトをした回数\n",
    "- $n_{\\rm total}$: 全ての候補手に対するプレイアウト数の合計\n",
    "\n",
    "以下、UCB1値は定義上、$n_{i, {\\rm play}}$ 即ち、各候補手に対するプレイアウト回数が1回以上ないと計算できないので、UCB1を用いた原始モンテカルロ法においては、\n",
    "\n",
    "1. 各候補手に対して1回ずつプレイアウトを実行\n",
    "1. 以下、UCB1値を計算し、その値が最大の候補手に対してプレイアウトを実行\n",
    "\n",
    "という流れでどの候補手が最も勝ちやすいのかを推測していく。\n",
    "\n",
    "このプレイアウト操作を予め決められた回数 (以下の実装では `n_trials=20` 回) 実行したら、プレイアウトされた回数が最大の手が最適な手であると判断する。プレイアウトされた回数が最大である、ということは、UCB1値を用いた探索において、最も有望な手であるということに留意している。"
   ]
  },
  {
   "cell_type": "code",
   "execution_count": 31,
   "metadata": {
    "editable": true,
    "slideshow": {
     "slide_type": ""
    },
    "tags": []
   },
   "outputs": [],
   "source": [
    "def move_by_monte_carlo(env, n_trials=20):\n",
    "    moves = env.legal_moves()\n",
    "    n_wins = [0] * len(moves)\n",
    "    n_checks = [0] * len(moves)\n",
    "    for t in range(n_trials):\n",
    "        # まだ調べていない手があるときはその手を調べる\n",
    "        move_idx = -1\n",
    "        for i, n in enumerate(n_checks):\n",
    "            if n == 0:\n",
    "                move_idx = i\n",
    "                break\n",
    "\n",
    "        # 全ての有効手を最低1回調べたら、UCB1値に基づいて着手\n",
    "        if move_idx < 0:\n",
    "            ucb1_vals = []\n",
    "            for w, n in zip(n_wins, n_checks):\n",
    "                ucb1 = w / n + np.sqrt(2.0 * np.log(t) / n)\n",
    "                ucb1_vals.append(ucb1)\n",
    "            move_idx = np.argmax(ucb1_vals)\n",
    "\n",
    "        # 手を進めてプレイアウトする\n",
    "        env_cpy = env.copy()\n",
    "        env_cpy.update(moves[move_idx])\n",
    "        playout(env_cpy)\n",
    "\n",
    "        # UCB1値計算用のチェック回数と勝利数を更新\n",
    "        n_checks[move_idx] += 1\n",
    "        if env_cpy.is_win(env.player):\n",
    "            n_wins[move_idx] += 1\n",
    "\n",
    "    # プレイアウト回数が最大の手を返す\n",
    "    return moves[np.argmax(n_checks)]"
   ]
  },
  {
   "cell_type": "code",
   "execution_count": 32,
   "metadata": {
    "editable": true,
    "slideshow": {
     "slide_type": ""
    },
    "tags": [
     "hide-input"
    ]
   },
   "outputs": [
    {
     "data": {
      "application/vnd.jupyter.widget-view+json": {
       "model_id": "b8b0cd8950114a238de41ba841365f77",
       "version_major": 2,
       "version_minor": 0
      },
      "text/plain": [
       "  0%|          | 0/1000 [00:00<?, ?it/s]"
      ]
     },
     "metadata": {},
     "output_type": "display_data"
    }
   ],
   "source": [
    "def match():\n",
    "    # ゲームのリセット\n",
    "    env = othello.make()\n",
    "    env.reset()\n",
    "\n",
    "    # エピソード開始\n",
    "    while not env.is_done():\n",
    "        # 黒番:\n",
    "        if env.player == Player.BLACK:\n",
    "            # 原始モンテカルロ探索\n",
    "            move = move_by_monte_carlo(env, n_trials=20)\n",
    "        # 白番:\n",
    "        if env.player == Player.WHITE:\n",
    "            # 着手可能な手があればランダムに1つを選ぶ\n",
    "            move = move_by_random(env)\n",
    "\n",
    "        # 着手による盤の状態の更新\n",
    "        env.update(move)\n",
    "\n",
    "    return env.count(Player.BLACK), env.count(Player.WHITE)\n",
    "\n",
    "\n",
    "with tqdm_joblib(n_episodes):\n",
    "    result = joblib.Parallel(n_jobs=n_jobs)(\n",
    "        (joblib.delayed(match)() for _ in range(n_episodes)),\n",
    "    )\n",
    "\n",
    "result = np.array(result, dtype=\"int32\")\n",
    "b_win = np.sum(result[:, 0] > result[:, 1])\n",
    "w_win = np.sum(result[:, 0] < result[:, 1])\n",
    "draw = np.sum(result[:, 0] == result[:, 1])"
   ]
  },
  {
   "cell_type": "code",
   "execution_count": 33,
   "metadata": {
    "editable": true,
    "slideshow": {
     "slide_type": ""
    },
    "tags": [
     "remove-output",
     "remove-input"
    ]
   },
   "outputs": [
    {
     "data": {
      "text/plain": [
       "877"
      ]
     },
     "metadata": {
      "scrapbook": {
       "mime_prefix": "",
       "name": "mc_b_win"
      }
     },
     "output_type": "display_data"
    },
    {
     "data": {
      "text/plain": [
       "119"
      ]
     },
     "metadata": {
      "scrapbook": {
       "mime_prefix": "",
       "name": "mc_w_win"
      }
     },
     "output_type": "display_data"
    },
    {
     "data": {
      "text/plain": [
       "4"
      ]
     },
     "metadata": {
      "scrapbook": {
       "mime_prefix": "",
       "name": "mc_draw"
      }
     },
     "output_type": "display_data"
    }
   ],
   "source": [
    "glue(\"mc_b_win\", b_win)\n",
    "glue(\"mc_w_win\", w_win)\n",
    "glue(\"mc_draw\", draw)"
   ]
  },
  {
   "cell_type": "markdown",
   "metadata": {
    "editable": true,
    "slideshow": {
     "slide_type": ""
    },
    "tags": []
   },
   "source": [
    "**対局結果: 原始モンテカルロ vs ランダム**\n",
    "- 黒番勝ち: {glue:}`mc_b_win`\n",
    "- 白番勝ち: {glue:}`mc_w_win`\n",
    "- 引き分け: {glue:}`mc_draw`"
   ]
  },
  {
   "cell_type": "markdown",
   "metadata": {
    "editable": true,
    "slideshow": {
     "slide_type": ""
    },
    "tags": []
   },
   "source": [
    "このように、セル評価値のような人間の前提知識に頼ることなく、原始モンテカルロ法により、高い勝率が得られていることが分かる。\n",
    "\n",
    "しかし、原始モンテカルロ探索をミニマックス探索と対戦させてみると、まだ、その勝率はミニマックス探索に及ばないことが分かる。人間の事前知識は意外にも侮れない。"
   ]
  },
  {
   "cell_type": "code",
   "execution_count": 37,
   "metadata": {
    "editable": true,
    "slideshow": {
     "slide_type": ""
    },
    "tags": [
     "hide-input"
    ]
   },
   "outputs": [
    {
     "data": {
      "application/vnd.jupyter.widget-view+json": {
       "model_id": "8e3be4d3c1d442dd9516bbfe94b300ca",
       "version_major": 2,
       "version_minor": 0
      },
      "text/plain": [
       "  0%|          | 0/1000 [00:00<?, ?it/s]"
      ]
     },
     "metadata": {},
     "output_type": "display_data"
    }
   ],
   "source": [
    "def match():\n",
    "    # ゲームのリセット\n",
    "    env = othello.make()\n",
    "    env.reset()\n",
    "\n",
    "    # エピソード開始\n",
    "    while not env.is_done():\n",
    "        # 黒番:\n",
    "        if env.player == Player.BLACK:\n",
    "            # 原始モンテカルロ探索\n",
    "            move = move_by_monte_carlo(env)\n",
    "        # 白番:\n",
    "        if env.player == Player.WHITE:\n",
    "            # ミニマックス探索\n",
    "            move = move_by_minimax(env)\n",
    "\n",
    "        # 着手による盤の状態の更新\n",
    "        env.update(move)\n",
    "\n",
    "    return env.count(Player.BLACK), env.count(Player.WHITE)\n",
    "\n",
    "\n",
    "with tqdm_joblib(n_episodes):\n",
    "    result = joblib.Parallel(n_jobs=n_jobs)(\n",
    "        (joblib.delayed(match)() for _ in range(n_episodes)),\n",
    "    )\n",
    "\n",
    "result = np.array(result, dtype=\"int32\")\n",
    "b_win = np.sum(result[:, 0] > result[:, 1])\n",
    "w_win = np.sum(result[:, 0] < result[:, 1])\n",
    "draw = np.sum(result[:, 0] == result[:, 1])"
   ]
  },
  {
   "cell_type": "code",
   "execution_count": 38,
   "metadata": {
    "editable": true,
    "slideshow": {
     "slide_type": ""
    },
    "tags": [
     "remove-output",
     "remove-input"
    ]
   },
   "outputs": [
    {
     "data": {
      "text/plain": [
       "327"
      ]
     },
     "metadata": {
      "scrapbook": {
       "mime_prefix": "",
       "name": "mc_vs_minimax_b_win"
      }
     },
     "output_type": "display_data"
    },
    {
     "data": {
      "text/plain": [
       "658"
      ]
     },
     "metadata": {
      "scrapbook": {
       "mime_prefix": "",
       "name": "mc_vs_minimax_w_win"
      }
     },
     "output_type": "display_data"
    },
    {
     "data": {
      "text/plain": [
       "15"
      ]
     },
     "metadata": {
      "scrapbook": {
       "mime_prefix": "",
       "name": "mc_vs_minimax_draw"
      }
     },
     "output_type": "display_data"
    }
   ],
   "source": [
    "glue(\"mc_vs_minimax_b_win\", b_win)\n",
    "glue(\"mc_vs_minimax_w_win\", w_win)\n",
    "glue(\"mc_vs_minimax_draw\", draw)"
   ]
  },
  {
   "cell_type": "markdown",
   "metadata": {
    "editable": true,
    "slideshow": {
     "slide_type": ""
    },
    "tags": []
   },
   "source": [
    "**対局結果: 原始モンテカルロ(黒番) vs ミニマックス (白番)**\n",
    "- 黒番勝ち: {glue:}`mc_vs_minimax_b_win`\n",
    "- 白番勝ち: {glue:}`mc_vs_minimax_w_win`\n",
    "- 引き分け: {glue:}`mc_vs_minimax_draw`"
   ]
  },
  {
   "cell_type": "markdown",
   "metadata": {
    "editable": true,
    "slideshow": {
     "slide_type": ""
    },
    "tags": []
   },
   "source": [
    "## モンテカルロ木探索"
   ]
  },
  {
   "cell_type": "markdown",
   "metadata": {
    "editable": true,
    "slideshow": {
     "slide_type": ""
    },
    "tags": []
   },
   "source": [
    "原始モンテカルロの弱点は、**自分の候補手に対してしか有望な手を考えていない**という点にある。原始モンテカルロにおいては、自分が候補手を指したあとは**自分も相手もランダムに着手する**と仮定しているが、実際の対局においては、自分も相手も、より勝ちやすい手を指すのが普通だろう。\n",
    "\n",
    "**モンテカルロ木探索**は、上記の問題を解決するために、自分に対しても相手に対しても原始モンテカルロ同様にUCB1値に基づいて最善手を推定する手法である。\n",
    "\n",
    "ここで「木探索」という用語が出てくるが、モンテカルロ木探索では[ゲーム木](https://ja.wikipedia.org/wiki/%E3%82%B2%E3%83%BC%E3%83%A0%E6%9C%A8)と呼ばれる木構造の中で手を探索する。ゲーム木では「局面を表すノード」が「その局面における候補手を指すことで得られる次局面を表すノード」とツリー状に接続されている。\n",
    "\n",
    "UCB1値を使って候補手の探索を行なう場合、この木構造を特に**UCT** (Upper Confidence Tree)と呼ぶ。"
   ]
  },
  {
   "cell_type": "markdown",
   "metadata": {
    "editable": true,
    "slideshow": {
     "slide_type": ""
    },
    "tags": []
   },
   "source": [
    "以下の`move_by_mcts`関数は、今の局面 `env`に対してUCTの根ノードを作成し、候補手に対応する子ノードを探索するものである。"
   ]
  },
  {
   "cell_type": "code",
   "execution_count": 46,
   "metadata": {
    "editable": true,
    "slideshow": {
     "slide_type": ""
    },
    "tags": []
   },
   "outputs": [],
   "source": [
    "def move_by_mcts(env, n_trials=20):\n",
    "    # ノードと直接の子ノードの作成\n",
    "    root_node = UctNode(env)\n",
    "    root_node.expand_child_nodes()\n",
    "\n",
    "    # 評価を繰り返す\n",
    "    for _ in range(n_trials):\n",
    "        root_node.evaluate()\n",
    "\n",
    "    # 最も評価回数の多いノードを選ぶ\n",
    "    n_list = []\n",
    "    for node in root_node.child_nodes:\n",
    "        n_list.append(node.n_check)\n",
    "\n",
    "    moves = env.legal_moves()\n",
    "    return moves[np.argmax(n_list)]"
   ]
  },
  {
   "cell_type": "markdown",
   "metadata": {
    "editable": true,
    "slideshow": {
     "slide_type": ""
    },
    "tags": []
   },
   "source": [
    "具体的な実装は後述するが、まずはおおまかなモンテカルロ木探索のアルゴリズムの流れについて見ていこう。\n",
    "\n",
    "`move_by_mcts`関数の中では、現在の局面 `env`に対応する `root_node`を作成した後、`expand_child_nodes`を呼び出して、候補手に対するUCTのノードを作成している。\n",
    "\n",
    "その後、`root_node`に対して `evaluate`関数を呼び出し、候補手のUCB1値に基づく探索を実施する。最後に、最も評価された回数が多い候補手を最善手であるとして選択する。\n",
    "\n",
    "以上のように子ノードの展開 (`expand_child_nodes`)と子ノードのUCB1値に基づく探索 (`evaluate`)を除けば、大きなアルゴリズムの流れは原始モンテカルロ探索と共通していることを確認してほしい。"
   ]
  },
  {
   "cell_type": "markdown",
   "metadata": {
    "editable": true,
    "slideshow": {
     "slide_type": ""
    },
    "tags": []
   },
   "source": [
    "では、上記の流れを踏まえて、UCTのノードの実装を見ていこう。以下はやや長いコードになるが、全体の実装を掲載した後で、各メソッドに解説を加えていく。"
   ]
  },
  {
   "cell_type": "code",
   "execution_count": null,
   "metadata": {
    "editable": true,
    "slideshow": {
     "slide_type": ""
    },
    "tags": []
   },
   "outputs": [],
   "source": [
    "class UctNode(object):\n",
    "    \"\"\"UCB1値を用いた子ノードの探索を行うノード\"\"\"\n",
    "\n",
    "    # 子ノードを展開するまでのチェック回数\n",
    "    N_VALID_CHECKS = 10\n",
    "\n",
    "    def __init__(self, env):\n",
    "        self.player = env.player\n",
    "        self.env = env.copy()\n",
    "        self.n_check = 0\n",
    "        self.value = 0\n",
    "        self.child_nodes = []\n",
    "\n",
    "    def evaluate(self):\n",
    "        \"\"\"現在の盤に対する最善手を探索し、評価値を算出\"\"\"\n",
    "        if self.env.is_done():\n",
    "            # ゲーム終了なら勝敗に応じて報酬を返す\n",
    "            if self.env.is_win(self.player):\n",
    "                value = 1\n",
    "            elif self.env.is_lose(self.player):\n",
    "                value = -1\n",
    "            else:\n",
    "                value = 0\n",
    "\n",
    "            self.value += value\n",
    "            self.n_check += 1\n",
    "            return value\n",
    "\n",
    "        elif len(self.child_nodes) == 0:\n",
    "            # 評価回数が不十分ならプレイアウトをして報酬を計算\n",
    "            value = self.playout()\n",
    "            self.value += value\n",
    "            self.n_check += 1\n",
    "\n",
    "            # チェック回数が十分になったら子ノードを展開する\n",
    "            if self.n_check >= self.N_VALID_CHECKS:\n",
    "                self.expand_child_nodes()\n",
    "\n",
    "            return value\n",
    "\n",
    "        else:\n",
    "            # 子ノードがあればUCB1値に基づいて相手の手を選択・評価\n",
    "            value = -self.choose_next_move().evaluate()\n",
    "            self.value += value\n",
    "            self.n_check += 1\n",
    "\n",
    "            return value\n",
    "\n",
    "    def playout(self):\n",
    "        \"\"\"ランダムにプレイアウトをして評価値を取得\"\"\"\n",
    "\n",
    "        env = self.env.copy()\n",
    "        player = self.player\n",
    "\n",
    "        while not env.is_done():\n",
    "            moves = env.legal_moves()\n",
    "            move = np.random.choice(moves)\n",
    "            env.update(move)\n",
    "\n",
    "        if env.is_win(self.player):\n",
    "            return 1\n",
    "        elif env.is_lose(self.player):\n",
    "            return -1\n",
    "        else:\n",
    "            return 0\n",
    "\n",
    "    def expand_child_nodes(self):\n",
    "        \"\"\"次の候補手に対応する子ノードを作成する\"\"\"\n",
    "        moves = self.env.legal_moves()\n",
    "        for m in moves:\n",
    "            self.env.update(m)\n",
    "            new_node = UctNode(self.env)\n",
    "            self.child_nodes.append(new_node)\n",
    "            self.env.undo()\n",
    "\n",
    "    def choose_next_move(self):\n",
    "        \"\"\"プレイアウトを実施する候補手の選択\"\"\"\n",
    "        # 評価回数が0回のノードがあったら、それを返す\n",
    "        # (そうしないとUCB1値が計算できない)\n",
    "        for node in self.child_nodes:\n",
    "            if node.n_check == 0:\n",
    "                return node\n",
    "\n",
    "        # 子ノードの総評価回数\n",
    "        t = 0\n",
    "        for node in self.child_nodes:\n",
    "            t += node.n_check\n",
    "\n",
    "        # UCB1値の計算\n",
    "        ucb1_values = []\n",
    "        for node in self.child_nodes:\n",
    "            # 子ノードの評価値は相手の手の評価値なので-1を掛けていることに注意\n",
    "            ucb1 = -node.value / node.n_check + np.sqrt(2.0 * np.log(t) / node.n_check)\n",
    "            ucb1_values.append(ucb1)\n",
    "\n",
    "        return self.child_nodes[np.argmax(ucb1_values)]"
   ]
  },
  {
   "cell_type": "markdown",
   "metadata": {
    "editable": true,
    "slideshow": {
     "slide_type": ""
    },
    "tags": []
   },
   "source": [
    "`UctNode`のコンストラクタである `__init__` では、候補手の探索に必要な諸変数を初期化している。この中で、子ノードの配列は`child_nodes`であり、現在のノードの総評価回数が`n_checks`、子ノードの探索に基づく評価値 (本実装では総勝利回数)を`value`に格納している。"
   ]
  },
  {
   "cell_type": "markdown",
   "metadata": {
    "editable": true,
    "slideshow": {
     "slide_type": ""
    },
    "tags": []
   },
   "source": [
    "`evlauate`関数は、子ノードの探索に基づいて、現在のノードの評価値を算出する関数である。この評価値の探索には、以下の3つのパターンが考えられる。\n",
    "\n",
    "1. 盤の状態が終局に達している → 勝ち負けに基づいて評価値を計算\n",
    "2. プレイアウトによる価値評価回数が不十分 → 現局面からプレイアウトして局面を評価\n",
    "3. プレイアウトによる価値評価回数が十分 → 有望な候補手である可能性が高いので、子ノードを更に探索\n",
    "\n",
    "まずは、盤の状態が終局に達している場合で、これ以上プレイアウトが実行できないので、単純に勝ち負けに基づいて評価値を算出する。\n",
    "\n",
    "終局に達していない場合には、手の探索を行って価値評価を行なうことになるが、ここで、ノードの評価回数に基づいて処理を分ける。今、とある盤の評価回数が一定以上である、ということは、**その盤状態に至る着手がそれなりに有望である**ことを意味している。逆に評価回数が一定以下であるときには、**その盤状態に至る着手が有望かどうか判断しかねる**状況であると言える。\n",
    "\n",
    "子ノードを展開すると、評価しなければならないノード数が増加して、その分だけ他のノードの評価回数が減ってしまうので、できる限り有望な手に対してだけ、その後の局面を評価する方が望ましい。従って、上記の`evaluate`関数では、評価回数が一定以上 (`N_VALID_CHECKS=10`以上)の時だけ、子ノードを作成・探索するようにしている。"
   ]
  },
  {
   "cell_type": "markdown",
   "metadata": {
    "editable": true,
    "slideshow": {
     "slide_type": ""
    },
    "tags": []
   },
   "source": [
    "`playout`関数は原始モンテカルロ探索で用いた同名の関数を改良し、直接勝ち負けに基づいた評価値を返すようにしたものである。"
   ]
  },
  {
   "cell_type": "markdown",
   "metadata": {
    "editable": true,
    "slideshow": {
     "slide_type": ""
    },
    "tags": []
   },
   "source": [
    "`expand_child_nodes`関数は、現在の局面における候補手を列挙して、その手に対応するノードを作成する関数である。この際、次の局面を調べるために`env`の`update`と`undo`がペアで呼び出されていることに注意してほしい。"
   ]
  },
  {
   "cell_type": "markdown",
   "metadata": {
    "editable": true,
    "slideshow": {
     "slide_type": ""
    },
    "tags": []
   },
   "source": [
    "`choose_next_move`関数はUCB1値に基づいて、どの子ノードに対して評価を実施するかを決定する関数である。原始モンテカルロの時と同様、UCB1値は全ての子ノードの評価回数が最低1回はないといけないので、まず全子ノードの評価を実行し、以後はUCB1値に基づいて、どの子ノードを調べるかを決定している。"
   ]
  },
  {
   "cell_type": "markdown",
   "metadata": {
    "editable": true,
    "slideshow": {
     "slide_type": ""
    },
    "tags": []
   },
   "source": [
    "以上が、モンテカルロ木探索の全体像であるが、再帰的な探索など、やや高度な内容を含むので、何度もコードと解説を読み直して理解に努めてみてほしい。"
   ]
  },
  {
   "cell_type": "markdown",
   "metadata": {
    "editable": true,
    "slideshow": {
     "slide_type": ""
    },
    "tags": []
   },
   "source": [
    "---"
   ]
  },
  {
   "cell_type": "markdown",
   "metadata": {
    "editable": true,
    "slideshow": {
     "slide_type": ""
    },
    "tags": []
   },
   "source": [
    "では、このモンテカルロ木探索をミニマックス探索と対戦させて、実力を確かめてみよう。"
   ]
  },
  {
   "cell_type": "code",
   "execution_count": 48,
   "metadata": {
    "editable": true,
    "slideshow": {
     "slide_type": ""
    },
    "tags": []
   },
   "outputs": [
    {
     "data": {
      "application/vnd.jupyter.widget-view+json": {
       "model_id": "f180c12fc6a24a56b166c9b6214a60b2",
       "version_major": 2,
       "version_minor": 0
      },
      "text/plain": [
       "  0%|          | 0/1000 [00:00<?, ?it/s]"
      ]
     },
     "metadata": {},
     "output_type": "display_data"
    }
   ],
   "source": [
    "def match():\n",
    "    # ゲームのリセット\n",
    "    env = othello.make()\n",
    "    env.reset()\n",
    "\n",
    "    # エピソード開始\n",
    "    while not env.is_done():\n",
    "        # 黒番:\n",
    "        if env.player == Player.BLACK:\n",
    "            # モンテカルロ木探索\n",
    "            move = move_by_mcts(env, n_trials=20)\n",
    "        # 白番:\n",
    "        if env.player == Player.WHITE:\n",
    "            # ミニマックス探索\n",
    "            move = move_by_minimax(env)\n",
    "\n",
    "        # 着手による盤の状態の更新\n",
    "        env.update(move)\n",
    "\n",
    "    return env.count(Player.BLACK), env.count(Player.WHITE)\n",
    "\n",
    "\n",
    "with tqdm_joblib(n_episodes):\n",
    "    result = joblib.Parallel(n_jobs=n_jobs)(\n",
    "        (joblib.delayed(match)() for _ in range(n_episodes)),\n",
    "    )\n",
    "\n",
    "result = np.array(result, dtype=\"int32\")\n",
    "b_win = np.sum(result[:, 0] > result[:, 1])\n",
    "w_win = np.sum(result[:, 0] < result[:, 1])\n",
    "draw = np.sum(result[:, 0] == result[:, 1])"
   ]
  },
  {
   "cell_type": "code",
   "execution_count": 43,
   "metadata": {
    "editable": true,
    "slideshow": {
     "slide_type": ""
    },
    "tags": [
     "remove-input",
     "remove-output"
    ]
   },
   "outputs": [
    {
     "data": {
      "text/plain": [
       "468"
      ]
     },
     "metadata": {
      "scrapbook": {
       "mime_prefix": "",
       "name": "mcts_b_win"
      }
     },
     "output_type": "display_data"
    },
    {
     "data": {
      "text/plain": [
       "456"
      ]
     },
     "metadata": {
      "scrapbook": {
       "mime_prefix": "",
       "name": "mcts_w_win"
      }
     },
     "output_type": "display_data"
    },
    {
     "data": {
      "text/plain": [
       "76"
      ]
     },
     "metadata": {
      "scrapbook": {
       "mime_prefix": "",
       "name": "mcts_draw"
      }
     },
     "output_type": "display_data"
    }
   ],
   "source": [
    "glue(\"mcts_b_win\", b_win)\n",
    "glue(\"mcts_w_win\", w_win)\n",
    "glue(\"mcts_draw\", draw)"
   ]
  },
  {
   "cell_type": "markdown",
   "metadata": {
    "editable": true,
    "slideshow": {
     "slide_type": ""
    },
    "tags": []
   },
   "source": [
    "**対局結果: モンテカルロ木探索 (黒番) vs ミニマックス (白番)**\n",
    "- 黒番勝ち: {glue:}`mcts_b_win`\n",
    "- 白番勝ち: {glue:}`mcts_w_win`\n",
    "- 引き分け: {glue:}`mcts_draw`"
   ]
  },
  {
   "cell_type": "markdown",
   "metadata": {
    "editable": true,
    "slideshow": {
     "slide_type": ""
    },
    "tags": []
   },
   "source": [
    "上記の通り、相手の手や、その後に続く自分の手に対してもUCB1値に基づく有望手の推定を行なうことで、ミニマックス法と同程度の強さを実現することができた。上記の例では、1手の探索に用いる手の評価回数を `n_trials=20` としているが、この数を増やすと、着手に時間はかかるようになるが、より勝ちやすい手を選べるようになる。"
   ]
  },
  {
   "cell_type": "markdown",
   "metadata": {
    "editable": true,
    "slideshow": {
     "slide_type": ""
    },
    "tags": []
   },
   "source": [
    "## 練習問題"
   ]
  },
  {
   "cell_type": "markdown",
   "metadata": {
    "editable": true,
    "slideshow": {
     "slide_type": ""
    },
    "tags": []
   },
   "source": [
    "- 本文中に示した`minimax`関数を改良して、アルファベータ探索を実装せよ。\n",
    "- 原始モンテカルロ探索やモンテカルロ木探索において、プレイアウトする手の選択方法をUCB1値でない方法 ($\\varepsilon$-greedy法やソフトマックス探索)に置き換えた時、オセロAIの強さはどの程度変化するか調べよ。"
   ]
  },
  {
   "cell_type": "code",
   "execution_count": null,
   "metadata": {
    "editable": true,
    "slideshow": {
     "slide_type": ""
    },
    "tags": []
   },
   "outputs": [],
   "source": []
  }
 ],
 "metadata": {
  "kernelspec": {
   "display_name": "Python 3 (ipykernel)",
   "language": "python",
   "name": "python3"
  },
  "language_info": {
   "codemirror_mode": {
    "name": "ipython",
    "version": 3
   },
   "file_extension": ".py",
   "mimetype": "text/x-python",
   "name": "python",
   "nbconvert_exporter": "python",
   "pygments_lexer": "ipython3",
   "version": "3.9.17"
  }
 },
 "nbformat": 4,
 "nbformat_minor": 4
}

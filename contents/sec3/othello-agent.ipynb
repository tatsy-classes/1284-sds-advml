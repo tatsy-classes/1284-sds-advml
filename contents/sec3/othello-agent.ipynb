{
 "cells": [
  {
   "cell_type": "markdown",
   "metadata": {
    "editable": true,
    "slideshow": {
     "slide_type": ""
    },
    "tags": []
   },
   "source": [
    "(sec:othello-agent)=\n",
    "# オセロAIの作成"
   ]
  },
  {
   "cell_type": "markdown",
   "metadata": {
    "editable": true,
    "slideshow": {
     "slide_type": ""
    },
    "tags": []
   },
   "source": [
    "ここからは、より高度な強化学習の対象としてオセロを取り扱う。ご存じの通り、オセロは(諸説あるものの)日本で発祥した「はさみ碁」の一種で、白と黒のディスクを8×8の盤の上に並べ、同色で挟まれたディスクを裏返すことで、より多くのマスを獲得した方が勝利するというゲームである。"
   ]
  },
  {
   "cell_type": "markdown",
   "metadata": {
    "editable": true,
    "slideshow": {
     "slide_type": ""
    },
    "tags": []
   },
   "source": [
    "```{note}\n",
    "オセロは日本以外ではリバーシのように呼ばれることがある。リバーシは初期状態として、ディスクが置かれていない状態からスタートするが、オセロは盤の中央に白黒2枚ずつのディスクを置いた状態からスタートする、という違いがある。\n",
    "\n",
    "参考: [オセロ（ボードゲーム）- Wikipedia](https://ja.wikipedia.org/wiki/%E3%82%AA%E3%82%BB%E3%83%AD_(%E3%83%9C%E3%83%BC%E3%83%89%E3%82%B2%E3%83%BC%E3%83%A0))\n",
    "```"
   ]
  },
  {
   "cell_type": "code",
   "execution_count": 1,
   "metadata": {
    "editable": true,
    "slideshow": {
     "slide_type": ""
    },
    "tags": [
     "hide-input",
     "remove-output"
    ]
   },
   "outputs": [],
   "source": [
    "\"\"\"\n",
    "下準備のコード\n",
    "\"\"\"\n",
    "\n",
    "%load_ext autoreload\n",
    "%autoreload 2\n",
    "\n",
    "import time\n",
    "import random\n",
    "import contextlib\n",
    "import multiprocessing\n",
    "\n",
    "import numpy as np\n",
    "import joblib\n",
    "import IPython.display as display\n",
    "import matplotlib\n",
    "import matplotlib.pyplot as plt\n",
    "from tqdm.notebook import tqdm\n",
    "from matplotlib.animation import ArtistAnimation\n",
    "\n",
    "matplotlib.rcParams[\"figure.dpi\"] = 200\n",
    "\n",
    "# 乱数シードの固定\n",
    "random.seed(12345)\n",
    "np.random.seed(12345)\n",
    "\n",
    "# 実験に用いるエピソード数\n",
    "n_episodes = 1000\n",
    "\n",
    "# 並列化スレッド数\n",
    "n_jobs = min(4, multiprocessing.cpu_count() - 2)"
   ]
  },
  {
   "cell_type": "code",
   "execution_count": 2,
   "metadata": {
    "editable": true,
    "slideshow": {
     "slide_type": ""
    },
    "tags": [
     "remove-input"
    ]
   },
   "outputs": [
    {
     "data": {
      "application/papermill.record/text/plain": "1000"
     },
     "metadata": {
      "scrapbook": {
       "mime_prefix": "application/papermill.record/",
       "name": "n_episodes"
      }
     },
     "output_type": "display_data"
    }
   ],
   "source": [
    "try:\n",
    "    from myst_nb import glue\n",
    "except:\n",
    "    glue = lambda _: _\n",
    "\n",
    "glue(\"n_episodes\", n_episodes, display=False)"
   ]
  },
  {
   "cell_type": "code",
   "execution_count": 3,
   "metadata": {
    "editable": true,
    "slideshow": {
     "slide_type": ""
    },
    "tags": [
     "hide-input"
    ]
   },
   "outputs": [],
   "source": [
    "# joblib用のtqdm\n",
    "@contextlib.contextmanager\n",
    "def tqdm_joblib(total=None, **kwargs):\n",
    "    pbar = tqdm(total=total, miniters=1, smoothing=0, **kwargs)\n",
    "\n",
    "    class TqdmBatchCompletionCallback(joblib.parallel.BatchCompletionCallBack):\n",
    "        def __call__(self, *args, **kwargs):\n",
    "            pbar.update(n=self.batch_size)\n",
    "            return super().__call__(*args, **kwargs)\n",
    "\n",
    "    old_batch_callback = joblib.parallel.BatchCompletionCallBack\n",
    "    joblib.parallel.BatchCompletionCallBack = TqdmBatchCompletionCallback\n",
    "\n",
    "    try:\n",
    "        yield pbar\n",
    "    finally:\n",
    "        joblib.parallel.BatchCompletionCallBack = old_batch_callback\n",
    "        pbar.close()"
   ]
  },
  {
   "cell_type": "markdown",
   "metadata": {
    "editable": true,
    "slideshow": {
     "slide_type": ""
    },
    "tags": []
   },
   "source": [
    "## オセロゲーム環境"
   ]
  },
  {
   "cell_type": "markdown",
   "metadata": {},
   "source": [
    "### オセロモジュールのインストール"
   ]
  },
  {
   "cell_type": "markdown",
   "metadata": {
    "editable": true,
    "slideshow": {
     "slide_type": ""
    },
    "tags": []
   },
   "source": [
    "今回は、講義用に用意したオセロ用のゲーム環境を用いる。ゲーム環境用のモジュールは以下のURLからダウンロードできる。\n",
    "\n",
    "<https://github.com/tatsy/1284-sds-ml-advanced/blob/04373681857fa15b89b4b993bf295e2313903d4d/lib/sdsadvml-0.1.0.tar.gz>\n",
    "\n",
    "ここから`sdsadvml-0.1.0.tar.gz`をダウンロード後、ファイルを展開すると、その中に`setup.py`というファイルが入っている。WindowsならコマンドプロンプトかPowerShell、MacOSならターミナルを開き、以下のAnacondaの仮想環境を切り替えた上で、以下のコマンドを実行するとライブラリがインストールされる。\n",
    "\n",
    "```shell\n",
    "python setup.py install\n",
    "```"
   ]
  },
  {
   "cell_type": "markdown",
   "metadata": {},
   "source": [
    "### オセロモジュールの概要"
   ]
  },
  {
   "cell_type": "markdown",
   "metadata": {
    "editable": true,
    "slideshow": {
     "slide_type": ""
    },
    "tags": []
   },
   "source": [
    "このモジュールには大きく分けて、3つのクラスが定義されている。\n",
    "\n",
    "**Env**はオセロゲームを取り扱う環境で、有効手の列挙や盤の状態の更新などの関数を提供する。ただし、`Env`クラスは直接インスタンス化する代わりに、`gymnasium`と同様に環境作成用の`make`関数が用意されているので、こちらを用いる。\n",
    "\n",
    "**Move**はオセロゲームにおける「手」を表わすクラスで、現在のプレイヤーとディスクを置く場所を格納している。\n",
    "\n",
    "**Player**は厳密には列挙型として定義されていて、プレイヤーが黒番なのか白番なのかに加えて、次のプレイヤーに手渡しする関数などが提供されている。\n",
    "\n",
    "まずは、これらをモジュールからインポートして、ゲーム環境を作成してみる。"
   ]
  },
  {
   "cell_type": "code",
   "execution_count": 4,
   "metadata": {
    "editable": true,
    "slideshow": {
     "slide_type": ""
    },
    "tags": []
   },
   "outputs": [],
   "source": [
    "# オセロモジュールのインポート\n",
    "import othello\n",
    "from othello import Move, Player"
   ]
  },
  {
   "cell_type": "code",
   "execution_count": 5,
   "metadata": {
    "editable": true,
    "slideshow": {
     "slide_type": ""
    },
    "tags": []
   },
   "outputs": [
    {
     "data": {
      "image/png": "[encoded data removed]",
      "text/plain": [
       "+-+-+-+-+-+-+-+-+\n",
       "| | | | | | | | |\n",
       "+-+-+-+-+-+-+-+-+\n",
       "| | | | | | | | |\n",
       "+-+-+-+-+-+-+-+-+\n",
       "| | | | | | | | |\n",
       "+-+-+-+-+-+-+-+-+\n",
       "| | | | | | | | |\n",
       "+-+-+-+-+-+-+-+-+\n",
       "| | | | | | | | |\n",
       "+-+-+-+-+-+-+-+-+\n",
       "| | | | | | | | |\n",
       "+-+-+-+-+-+-+-+-+\n",
       "| | | | | | | | |\n",
       "+-+-+-+-+-+-+-+-+\n",
       "| | | | | | | | |\n",
       "+-+-+-+-+-+-+-+-+"
      ]
     },
     "execution_count": 5,
     "metadata": {},
     "output_type": "execute_result"
    }
   ],
   "source": [
    "# 環境の作成\n",
    "env = othello.make()\n",
    "env"
   ]
  },
  {
   "cell_type": "markdown",
   "metadata": {
    "editable": true,
    "slideshow": {
     "slide_type": ""
    },
    "tags": []
   },
   "source": [
    "上記のように、オセロ環境は初期状態ではディスクが配置されていない。ここでも`gymnasium`と同様に`reset`関数を呼び出すことで、ゲーム環境が初期化される。\n",
    "\n",
    "なお、`reset`関数は現在の手番を表わす`player`と、現在の盤面状態を表わすNumPyの配列である`board`を返してくる。この点は`gymnasium`と異なっているので注意すること。"
   ]
  },
  {
   "cell_type": "code",
   "execution_count": 6,
   "metadata": {
    "editable": true,
    "slideshow": {
     "slide_type": ""
    },
    "tags": []
   },
   "outputs": [],
   "source": [
    "player, board = env.reset()"
   ]
  },
  {
   "cell_type": "code",
   "execution_count": 7,
   "metadata": {
    "editable": true,
    "slideshow": {
     "slide_type": ""
    },
    "tags": []
   },
   "outputs": [
    {
     "name": "stdout",
     "output_type": "stream",
     "text": [
      "BLACK\n"
     ]
    }
   ],
   "source": [
    "print(player)"
   ]
  },
  {
   "cell_type": "code",
   "execution_count": 8,
   "metadata": {
    "editable": true,
    "slideshow": {
     "slide_type": ""
    },
    "tags": []
   },
   "outputs": [
    {
     "name": "stdout",
     "output_type": "stream",
     "text": [
      "[[ 0  0  0  0  0  0  0  0]\n",
      " [ 0  0  0  0  0  0  0  0]\n",
      " [ 0  0  0  0  0  0  0  0]\n",
      " [ 0  0  0  1 -1  0  0  0]\n",
      " [ 0  0  0 -1  1  0  0  0]\n",
      " [ 0  0  0  0  0  0  0  0]\n",
      " [ 0  0  0  0  0  0  0  0]\n",
      " [ 0  0  0  0  0  0  0  0]]\n"
     ]
    }
   ],
   "source": [
    "print(board)"
   ]
  },
  {
   "cell_type": "markdown",
   "metadata": {
    "editable": true,
    "slideshow": {
     "slide_type": ""
    },
    "tags": []
   },
   "source": [
    "また、Jupyter Notebook環境においては`env`を表示することで盤面を表わす画像が表示されるようになっている。"
   ]
  },
  {
   "cell_type": "code",
   "execution_count": 9,
   "metadata": {
    "editable": true,
    "slideshow": {
     "slide_type": ""
    },
    "tags": []
   },
   "outputs": [
    {
     "data": {
      "image/png": "[encoded data removed]",
      "text/plain": [
       "+-+-+-+-+-+-+-+-+\n",
       "| | | | | | | | |\n",
       "+-+-+-+-+-+-+-+-+\n",
       "| | | | | | | | |\n",
       "+-+-+-+-+-+-+-+-+\n",
       "| | | | | | | | |\n",
       "+-+-+-+-+-+-+-+-+\n",
       "| | | |o|x| | | |\n",
       "+-+-+-+-+-+-+-+-+\n",
       "| | | |x|o| | | |\n",
       "+-+-+-+-+-+-+-+-+\n",
       "| | | | | | | | |\n",
       "+-+-+-+-+-+-+-+-+\n",
       "| | | | | | | | |\n",
       "+-+-+-+-+-+-+-+-+\n",
       "| | | | | | | | |\n",
       "+-+-+-+-+-+-+-+-+"
      ]
     },
     "execution_count": 9,
     "metadata": {},
     "output_type": "execute_result"
    }
   ],
   "source": [
    "env"
   ]
  },
  {
   "cell_type": "markdown",
   "metadata": {
    "editable": true,
    "slideshow": {
     "slide_type": ""
    },
    "tags": []
   },
   "source": [
    "## ランダムな着手"
   ]
  },
  {
   "cell_type": "markdown",
   "metadata": {
    "editable": true,
    "slideshow": {
     "slide_type": ""
    },
    "tags": []
   },
   "source": [
    "まずは、オセロ環境の仕様を理解するために、白番、黒番ともにランダムに行動させて、どのように状態が変化するかを見てみよう。\n",
    "\n",
    "`env`には、現在の盤の状態で取ることができる「有効手」の配列を取得する`legal_moves`関数が提供されている。"
   ]
  },
  {
   "cell_type": "code",
   "execution_count": 10,
   "metadata": {
    "editable": true,
    "slideshow": {
     "slide_type": ""
    },
    "tags": []
   },
   "outputs": [
    {
     "name": "stdout",
     "output_type": "stream",
     "text": [
      "[('BLACK', 3, 5), ('BLACK', 4, 6), ('BLACK', 5, 3), ('BLACK', 6, 4)]\n"
     ]
    }
   ],
   "source": [
    "moves = env.legal_moves(player)\n",
    "print(moves)"
   ]
  },
  {
   "cell_type": "markdown",
   "metadata": {
    "editable": true,
    "slideshow": {
     "slide_type": ""
    },
    "tags": []
   },
   "source": [
    "上記の出力から、黒番が3行5列、4行6列、5行3列、6行4列の4箇所のいずれかにディスクを置くことができることが分かる。\n",
    "\n",
    "着手を決定したら、`env.step`関数に手を表わす変数を渡す。`step`関数は`reset`関数と同様に次の手番を表わすプレイヤーと、現在の盤面の状態を返す。"
   ]
  },
  {
   "cell_type": "code",
   "execution_count": 11,
   "metadata": {
    "editable": true,
    "slideshow": {
     "slide_type": ""
    },
    "tags": []
   },
   "outputs": [],
   "source": [
    "player, board = env.step(moves[0])"
   ]
  },
  {
   "cell_type": "code",
   "execution_count": 12,
   "metadata": {
    "editable": true,
    "slideshow": {
     "slide_type": ""
    },
    "tags": []
   },
   "outputs": [
    {
     "name": "stdout",
     "output_type": "stream",
     "text": [
      "WHITE\n"
     ]
    }
   ],
   "source": [
    "print(player)"
   ]
  },
  {
   "cell_type": "code",
   "execution_count": 13,
   "metadata": {
    "editable": true,
    "slideshow": {
     "slide_type": ""
    },
    "tags": []
   },
   "outputs": [
    {
     "name": "stdout",
     "output_type": "stream",
     "text": [
      "[[ 0  0  0  0  0  0  0  0]\n",
      " [ 0  0  0  0  0  0  0  0]\n",
      " [ 0  0  0  0  1  0  0  0]\n",
      " [ 0  0  0  1  1  0  0  0]\n",
      " [ 0  0  0 -1  1  0  0  0]\n",
      " [ 0  0  0  0  0  0  0  0]\n",
      " [ 0  0  0  0  0  0  0  0]\n",
      " [ 0  0  0  0  0  0  0  0]]\n"
     ]
    }
   ],
   "source": [
    "print(board)"
   ]
  },
  {
   "cell_type": "markdown",
   "metadata": {
    "editable": true,
    "slideshow": {
     "slide_type": ""
    },
    "tags": []
   },
   "source": [
    "`env`のJupyter Notebook環境における表示により、黒番が3行5列にディスクを置いたことで、着手したセルがハイライトされて、かつ、盤の状態が正しく更新されていることが確認できる。"
   ]
  },
  {
   "cell_type": "code",
   "execution_count": 14,
   "metadata": {
    "editable": true,
    "slideshow": {
     "slide_type": ""
    },
    "tags": []
   },
   "outputs": [
    {
     "data": {
      "image/png": "[encoded data removed]",
      "text/plain": [
       "+-+-+-+-+-+-+-+-+\n",
       "| | | | | | | | |\n",
       "+-+-+-+-+-+-+-+-+\n",
       "| | | | | | | | |\n",
       "+-+-+-+-+-+-+-+-+\n",
       "| | | | |o| | | |\n",
       "+-+-+-+-+-+-+-+-+\n",
       "| | | |o|o| | | |\n",
       "+-+-+-+-+-+-+-+-+\n",
       "| | | |x|o| | | |\n",
       "+-+-+-+-+-+-+-+-+\n",
       "| | | | | | | | |\n",
       "+-+-+-+-+-+-+-+-+\n",
       "| | | | | | | | |\n",
       "+-+-+-+-+-+-+-+-+\n",
       "| | | | | | | | |\n",
       "+-+-+-+-+-+-+-+-+"
      ]
     },
     "execution_count": 14,
     "metadata": {},
     "output_type": "execute_result"
    }
   ],
   "source": [
    "env"
   ]
  },
  {
   "cell_type": "markdown",
   "metadata": {
    "editable": true,
    "slideshow": {
     "slide_type": ""
    },
    "tags": []
   },
   "source": [
    "オセロはルール上、着手可能な手がない、すなわちどこにディスクを置いても裏返せる相手方のディスクが存在しない時にはパスをすることになる。\n",
    "\n",
    "有効手が存在しない時には`legal_moves`が空の配列を返してくるので、そのときには`Move.Pass(player)`を呼び出して、パスを表わす「手」を用意する。\n",
    "\n",
    "```python\n",
    "moves = env.legal_moves(player)\n",
    "if len(moves) = 0:\n",
    "    move = Move.Pass(player)\n",
    "```"
   ]
  },
  {
   "cell_type": "markdown",
   "metadata": {
    "editable": true,
    "slideshow": {
     "slide_type": ""
    },
    "tags": []
   },
   "source": [
    "これらを踏まえて、黒番、白番ともにランダムに着手させて、盤の状態変化を確認する。"
   ]
  },
  {
   "cell_type": "code",
   "execution_count": 15,
   "metadata": {
    "editable": true,
    "slideshow": {
     "slide_type": ""
    },
    "tags": []
   },
   "outputs": [],
   "source": [
    "# ゲームのリセット\n",
    "player, _ = env.reset()\n",
    "frames = []\n",
    "\n",
    "# エピソード開始\n",
    "while not env.gameset():\n",
    "    # 有効手の列挙\n",
    "    moves = env.legal_moves(player)\n",
    "\n",
    "    # 現在の状態画像を保存\n",
    "    img = env.render()\n",
    "    frames.append(img)\n",
    "\n",
    "    # 着手可能な手があればランダムに1つを選ぶ\n",
    "    # 選べる手がなければパスする\n",
    "    if len(moves) != 0:\n",
    "        move = np.random.choice(moves)\n",
    "    else:\n",
    "        move = Move.Pass(player)\n",
    "\n",
    "    # 着手による盤の状態の更新\n",
    "    player, _ = env.step(move)"
   ]
  },
  {
   "cell_type": "code",
   "execution_count": 16,
   "metadata": {
    "editable": true,
    "slideshow": {
     "slide_type": ""
    },
    "tags": [
     "hide-input"
    ]
   },
   "outputs": [
    {
     "data": {
      "text/html": [
       "<video width=\"512\" height=\"512\" controls autoplay loop>\n",
       "  <source type=\"video/mp4\" src=\"data:video/mp4;base64,AAAAIGZ0eXBNNFYgAAACAE00ViBpc29taXNvMmF2YzEAAAAIZnJlZQABKRdtZGF0AAACrwYF//+r\n",
       "3EXpvebZSLeWLNgg2SPu73gyNjQgLSBjb3JlIDE2NCByMzEwOCAzMWUxOWY5IC0gSC4yNjQvTVBF\n",
       "Ry00IEFWQyBjb2RlYyAtIENvcHlsZWZ0IDIwMDMtMjAyMyAtIGh0dHA6Ly93d3cudmlkZW9sYW4u\n",
       "b3JnL3gyNjQuaHRtbCAtIG9wdGlvbnM6IGNhYmFjPTEgcmVmPTMgZGVibG9jaz0xOjA6MCBhbmFs\n",
       "eXNlPTB4MzoweDExMyBtZT1oZXggc3VibWU9NyBwc3k9MSBwc3lfcmQ9MS4wMDowLjAwIG1peGVk\n",
       "X3JlZj0xIG1lX3JhbmdlPTE2IGNocm9tYV9tZT0xIHRyZWxsaXM9MSA4eDhkY3Q9MSBjcW09MCBk\n",
       "ZWFkem9uZT0yMSwxMSBmYXN0X3Bza2lwPTEgY2hyb21hX3FwX29mZnNldD0tMiB0aHJlYWRzPTE1\n",
       "IGxvb2thaGVhZF90aHJlYWRzPTIgc2xpY2VkX3RocmVhZHM9MCBucj0wIGRlY2ltYXRlPTEgaW50\n",
       "ZXJsYWNlZD0wIGJsdXJheV9jb21wYXQ9MCBjb25zdHJhaW5lZF9pbnRyYT0wIGJmcmFtZXM9MyBi\n",
       "X3B5cmFtaWQ9MiBiX2FkYXB0PTEgYl9iaWFzPTAgZGlyZWN0PTEgd2VpZ2h0Yj0xIG9wZW5fZ29w\n",
       "PTAgd2VpZ2h0cD0yIGtleWludD0yNTAga2V5aW50X21pbj0xMCBzY2VuZWN1dD00MCBpbnRyYV9y\n",
       "ZWZyZXNoPTAgcmNfbG9va2FoZWFkPTQwIHJjPWNyZiBtYnRyZWU9MSBjcmY9MjMuMCBxY29tcD0w\n",
       "LjYwIHFwbWluPTAgcXBtYXg9NjkgcXBzdGVwPTQgaXBfcmF0aW89MS40MCBhcT0xOjEuMDAAgAAA\n",
       "F2hliIQAEf/+94gfMstp+TrXchHnrS6tH1DuRnFepL3+IAAAAwAABHUc0eeasjtsuwAABZwBJW8G\n",
       "If/cHiaAROmryIdIDsTsv5jz2TO5IGnXLYtiDBw8Sue50yJW5qAbo4PmgWn0Xp+H2/8p7auKDFU5\n",
       "4aVob40nu9Me1o1kRKG3TaXtYg6hmHc+tww+eICtoKdDigTafCYYrWJ9+8mo/0DqrmrDlvMQJD84\n",
       "sv+2lM6Y/a4MtXrkSL9P51CMkBcOGq/YxWwQPRTi209sgBGbcQlCysr6qNPnR2gEtfViKlJyXXQm\n",
       "q7bUT8mwSm1vDyhV6u1sdQhNb8bp1vU/0cUluHMYYxUrB4bGv+WXhLp/B/xr00CKyrxyFk6LG/+H\n",
       "oV7Yetq1Tzlf4YkPxqaxQetwD2GbjojFc/1KfZ3e3eZn7hoAMVTEQ0eGTZGcB6VbNqkooLkqQIIW\n",
       "/xv/JLpiWJCxt8XQCiQgBx75gviNIC8S/5ao1cEGJRWN/yLDAhpRtbewzIrRmaXWgwDzqxCvqYEv\n",
       "qUWE1UlLQXaV/dcerSs0TEHf/77JTHajWeuGMAftqIx8YCveiCj8kDSh4jSxOwp9A+u8OP5IYzWL\n",
       "8d3FFFDLSFl6Kij/GICnyZkJo9wITn9f1f9MDmQwlR9AuKJs3M2JIgum79P744cKqOGPxcVgQfMQ\n",
       "tBbC1C3qKCZvNnE+EHswAX4/eSXr/F/9lPmJhxKaaF44x88vl3rDeO8f/Ui+agFffGPhIWn7r9ml\n",
       "eRGqwseRqOv8RkrHu9iVGW7ieC68deH6e8bETYwJMqn/1k3gBOx4AxB8pd/+wTFmO2C9ZdL9Oept\n",
       "/TeLMprEQev2965D1S8J28lOj1UeI3WDh+F4NousDb9U6i3marzSni+mFJ70oQ70KCVfVqRWpXGo\n",
       "e6yFSiza75QLdKH6IWrYRXjMqXjeAPhRgZzFWH+fu3xLBc612mvrbX1rZJ+zJawLNzdANoV9iPcf\n",
       "hkUBa1YYO9B4idC7GkdVGkL5Lg4cB1aIXOvje3NHOd95JRBOlGimVVTs3a3+GNgG2Wj7MB5azJGF\n",
       "cktVPiw6U7yjNxh61X2+HFwXXH0AKl82IDxtYhn0dDhCMya1iSfIYwz6UDqt1aFryFsdWENPAVvt\n",
       "k8Ru/bzsuwdPnGn6Cwykb8TxjPTfMev/l6sLG3t4ipa2Dn+JVYq5vWnGYIheaEmrAUnNtLifTRDU\n",
       "s8dBrLseDmEnWtiDM1LAr2nILwMSCG8gtIHfPlLZP1cPr5TmfvJO2MBCJmBns559NCm2K84fHD2B\n",
       "OQ93MBfv3TQiCt4Kd+IcQtbAAB+3QvVf9ID2Vh1dUbDj8mmTe/wiAvoesBCok7et9Uc4OMebBP01\n",
       "AYJ03ImrzBsFHSKgAwQoWtsC6DAAsk+PSaUYYpIlg/Tsjf8UDjw2nzNi38Cr9tkgh8/DNWPHr4yv\n",
       "8evcOrk23+LL/fNvIcFlf2sl/wF+tfhBCYqhngCEw6IQE90HAubjclqT3MvqVexKnyPa8Li8Wb4k\n",
       "/c8hgMYnq8X/9JoQhpvc1uurINYwVl6a3H6Ha2CXQ1LOkvWEcIzAh8sNLO1Gukt1K6n4Qyvk0thO\n",
       "Msh3eMSDMl5kCgQ1SVoXyf23rE5gqPwZuCnrtQlEZ6KbfHaKfroCECjULxbsuUqvTKdQ590Lgxt+\n",
       "9oxMkkJ3Pomc6QLTeub3fCGP5mNJUMYTaeFHzrXCjPAS33rlKD4zpTxbLopn9u+LJn9sR9nhVDcs\n",
       "aYYBP+oycgTczNIhG9VcNHK81wVOuNjJ+gA3IJJ0RIJEHyIqizxzg34VKtzGjc8bV06/y07RbuJe\n",
       "BlgB4qP6avrnqs2Sxrfe6TPX2WSc3BI53Q7SYo39NFEGyc+u4HY++2H3hFdtnZeWNTuD43/gtEHk\n",
       "b33iK216dEvcPMzptsv7g4RyS7iKavJNwpxJrfu0QNyhNy312SkUA9WfnLDVTBe9qF/jPHMliVSX\n",
       "xT07X5H1qJ+rwNe0Jv5bCHFVSVoTre0pdYaGxJcU7sC4PTnGcVPrHyMDZVD1Ast+sNeCdM8/39Gw\n",
       "cNyxkq9X5fjiVjGdImYMm5aZYPhGDva0+b0IZCTC3zSuKS9ZdCBdh4oZBfoY0S47QVrYnQrr5G6q\n",
       "25W+kZ2kZW2xuru+iE5Vl3d1Xvs/G5djsz0oxo12SAzLQArbWP88zwM0GQkqr7Dp3q29FsxEdKff\n",
       "YltQFBbFWoC1jGR1mmrrz8fHIGcuprLHczlo1WLG6Ju/FvlvgKpbQjWAkpXggZBJ39NOkc6VsFon\n",
       "aF5qsqHo8Aha7T8PLTDjV1rfuUh3IqTualX9v3kfekHnrVrp4dhFzTcbejPoT1EggLsL3onA/WaU\n",
       "oyyqOUf1/wzH/KQJHa9+2xdOgLr//LybBs+i2j5e/LenhcpOZVsokhd4v3EZ5ZPF0j8fFat+2ibs\n",
       "0XE9O7ZeTE7L63Wvgx7GZFhMa7XlctbNlngA8SPGhKI7Q94F4iXckbYRpMgzVpbf0auJGPFE9HzI\n",
       "Oa3+RPizOfYafc+AbHzXsPtXMwM6h5eOL+hhkxq1Afwli/+w7rEkBrnXZql8NRsImkOkFIenf8U9\n",
       "S7rYBSSXxr2dPGFT7+QKdYTfH47Iv+ces99IzIWBpdaYeFrVaFvA1G8xFbZm1zW/BOcZIwdBkGAw\n",
       "M4k9eyad9iJvHRJ/YRIaOrdpgE0LbCd+l5ZujODFFT3Wlb+LnGCWdA7OqHgyJkRCpy0Iz82pclh0\n",
       "/wyAFBEVrfkD9XNBJPes1/tVOtIXC6+X3YTyIMpphvySmVSazznbsCdpUeRW6OVeDwUHEgJxJJuj\n",
       "oHwKBtS9gRrRC6vJ1bVc5+hbZQkle7AH4s1WcuhRczKiWZuQTMunqacTjGU6EQwjQqPt0qNRo6Ye\n",
       "UEYYymxF/gnwBJ/dLDbebv4xV+BM/uVibm3b+7Llr9NQfsCZfIJR1j1bYybZnW35YijM9mRg6Wxh\n",
       "oiBFX/Pl8ud4SEEMj/rxDDPiSKXmwpsRz6lMFBz87QMJXo+rcXr4WVLQwObpN5bSfjCs5KetNI8/\n",
       "Th1P9qS+XxgWGnRpRRhx3SreON8rrnRKHOQyhDyvnaJ/wpGXiNYFbHGNa6LIiUkh3UPcP1MZFBaq\n",
       "W7eCtsERWnrW2C+OZq7+qNE2CaMzfsnU+nJR5RtgUhF2wkgYahC0736QycNOL1L69sCKSLg92Jz/\n",
       "xdxoNXEl1l03b3TQAuOU/LQfAOTlNtaVKP5sQCq6xjOiW6mR57hnsQIqJsiNKnEHCFU3HRM0UdI7\n",
       "Igr9ml8pbH4YXDKDlv+/lQQGNv6XvDAKU/oti5J+EttM6MMQKmiNu5hXM9OFdBwl+BWEa5VmzW8A\n",
       "tXSSoVLGw4Pu+Mv3fUmg5mUj7DkpLcTS8Po6Txvz0uzQg/8dfjwSQvXhCdnI3mYm9o2t5HlpR4Vg\n",
       "Lr4sfR7oPpSVLYYg1OIfiCNWtqKWrzNuLBMo5AKVUYELi5PSMqQSjZ8xSzknSCBCHEzuFlOqzBwz\n",
       "hZS/S1BUUNzOqiozYDILUfaFeHuPtJQo0p8wqgkos4dQpzG53/ftJzN8wzNu5a/p6/hmiIn6kVxJ\n",
       "z1TXRdYcW0OfwEBG+Bqv0jvMHzzDuBZIK2ZwobMiB1+xODJT3ZrWLsXCky1bHQxfXrAM4WihoU4B\n",
       "RSNJbw0v+wOkuGM9GkeSMc6IWLLP78saa94UX4KUglkspk8AwrIzW6H4J5JJ7Z4amQOEg88JjNQL\n",
       "xRBZPLtUwmqbBeQ4nCySgoIkWVUIGA+NeFul56Ao9urozyTe2SCu2fv30gXRMVqHoxe4lBu9Z3Vy\n",
       "kezFdyBgM53dBqmdLIOTyPxqeK0J/Lwxv5tZIcXDsOZTRB6qxQbxFbSMuDMKdvpvymi0UNwQuzeK\n",
       "LL4cVoz6VsxpngAKR2jIrsc0wny69WsEZ09rzgkfzaNFkuZh8sEb1c08eK/MORfjn4qLarO+2A6m\n",
       "tOOo5+A98r3+87wXaNcte+snBHq4l1eHAr6Pybmn4xcJ8Cu2+j0XGA1dn3Lmo0EDp24dGnW1SB1d\n",
       "Z9Y3G3/ovt0ytMUc98YIvMSI34zLIMQwkI7HULWia1IgMg97InkUWJpraJVPSyrZX6jnpVhHHwvA\n",
       "bAgO/eDFGiRPkxbdGI2wDH/Bn/g9JlDtE8kWHjxKU19BsOqzOUIe4yEBDPv2jum7Fr6Q5riGpeCN\n",
       "9DmnoJFyviE7Ld4CxIforFp9ltCiKl5GZu+KxlpRGrqoJOQ/D3h+OaTVTWSb3H4QZK9c1Xp+2U/d\n",
       "fwudxH4weU7umgXWgGS8OXN6IKBjzG5VtfPZILkPfPFFLG2MZA3Inh0Uapv8MF6yGEf1YsQh1ooi\n",
       "gdfDuFkAcLxSpdSDDxnbedAFQ3Skffb7DBykMZPDKTFfX+G9D5Me+Djy/rj0l1UMz3q4fqGKMkjR\n",
       "GWE2tNQh4vwwKIxdj/2avilHlCt2RSI/bDNAixcFM9OJAZEU3UON6lcd1S5H4aNRrK1tVAddFhQz\n",
       "QjMRmgilXAj13INVybbqP85mX2YUY/GSxMw+efXzGv8OHJExIBsvzkJ/atueA1GrJxbWHIZpzX4/\n",
       "W/fLhHf5TVcOabsUfujt0WSCEiaUel4VhGQ22HoCEnS+b1Lj7NOnW9a1U2yrkfzVYvJDOOJZCIhp\n",
       "QKP26sHsP3tHl7hZ5jvwW+Kncxhm5/x461l+LJwzErPHrNu/wBjyoaJObZpDIBi4gTIBqyT1kg2w\n",
       "OG8li9TKJXYfyyhFR2G5qnUHYwz9LQyS+lMCOt9iDRqiexnKSMLoJ7pLmPVAazhoXkC8DzGoq8Gy\n",
       "Zd4i9NemqrPyJTx6A6NjKPmqVa9Sb+5G/pxsd+by4yzj5rZnBezK48KioVjSelxdXfd1NZUD4UKh\n",
       "TaDeL7umEg0+tC9zWgkKDfyroIH/G3q7cg3XZhVjsI/viiXH42s3wSgpQ3TEElHL3Sfc7OqLRTAO\n",
       "dY3KC3KhrbYdt8K3/zGB1vc+VQcg1+kcOF5DwmYqF0t7mC9Wj6p/MYw9NxnGOfzxWBGVlw0YQN/g\n",
       "Hy0chvqSsupBJGUe4/zew/3FRO1oWwa5Cqolp5sXWS2IGRGFPhGPN3pKUpgIHFP5E6EBmUWUQO2O\n",
       "YpQ3UxfRkRG+jv6gypBfHMmbv4oeqEntsfC1xVa9dYHlZKO8bKUzk1qMCS3ZpKdDvbC97XZ3VDrX\n",
       "kcCNA+3aYGlLBSMGaWPAWF5BFlruemMJs0vj92+pdW6NUTNYO/azhAaf9ajQ7aUdXH/wowvWf79w\n",
       "cFkPLNyNY67HDX0H8bNl7VJ2LiY+qrlsdqGnwjhfcAvvUtwr6yfoXl3SkiQQ0JZimhGYFaEXtMPD\n",
       "Tt6yvLHjTNXw1mA0UebKqzCQQsmLMak0S9Ipn7HjowIDVLMcUZSksOhplqo7CJLYGGFbMvPJ0b5l\n",
       "UKPDjBL9E+mqLMhMwQ0oILjgiQpRti4eulCIwsioyXizVPpxV2VXZbSSEYxoVJoW+igGBekPJvgW\n",
       "Fsn2EyWcwG9fTYNICOYddnQwORO3T9BgjULwogqI2RKJzzWCO80WGzPE2hDZ+pJgDQCkgW+C0Qkn\n",
       "L68fG1S+tBmLKRJJFdPhmHYEoBi+FMn3xxvf9dUMARRAMtCq+u13gWsLr6EJi7hy1JNRIws9Oc0V\n",
       "JbwlAjqjcR3SYd8vC2iQGTmxhVliG5NMkmKYJpmsBVTr9yLnxhPLXQbtzdR7afvMtJ175Q5Lu9o1\n",
       "nEp1JBd5P1xwG5Dn794mMDSDSLkT0eBcie/frInwIIS0dKkklWKd5vQfSwMmeLhhrMjFpZQ+cOHe\n",
       "LGKXWvLi61UC0bC+cYAqD/++9m3oHTWnDAKW5CLtAPY0qyZ3Zy0LklF13u7HEkgCOD//keHMGTCl\n",
       "//fh1wSAKAksp+Fmujqxu4gIVfvsBIBRfjePGplc0+5PD5/GQBpIPz4y3vpj7xmB7w2bmYzWsyCo\n",
       "f95qN7By7V0TUOpmcH2Ttx31xKLvOz8DU+Er46+1RPg1Dq+TdfB6bBGMFFtg26HzW+iNweTn0cvw\n",
       "vDeERVkpek4+cSdl6eL3TrdCH0iv5Peqf/55SaRdB64GLOB4kGIhqXCd2mG6RJnU4hwIiG87ghC/\n",
       "h5QF7NRI/7c2um2FPriKi723fF+PDQr1rtw3VDTJr2fd/NrXe+BGDRRSSTQg2/L7cz00tbGhVV+0\n",
       "FNha+LgKZEtKLCnsr08Y3Zha2DOB68QnHx2p/xVcefK7PwuJ2Yd7hn/DQoBgMScUcydPqSyAfrE6\n",
       "p1YzVkzq17Vm0JIUn/qsPJ+Vj+r+I81EBAa4FEsKH3VOUtUQYUW7ebIoQug0HY/rVKWChtfWIklb\n",
       "ye7Xz4/apmp9beL9R26l++9SXByNJZHd8q86ArVfgemSfSJPuVaPb+LbiwAty6lxEp0EtV4cIGsr\n",
       "xG2ee94aTlR9hk3noandlD0sHwAOUF/dRbtPE3K9gmisvQZtrPWmQSnycOGb9/C0iywF1sj3M1oS\n",
       "MdN7NQAfDheoDZrYvHQf9K5K4S+Z7dnxKAb2InFG1bemGvJsLE/BGC6SYLC/S1A3CJPpbeTLPyzp\n",
       "5Fbxom6XJy7jElIZ2FXFSiB5Ah3yDvdRcS0U9pLUDFjHfubeunuwaOa/KUF2+g3H+KSP/uvw3pVA\n",
       "YzsDmxTYL6HT6pzX8nlujEVVqvZD69a/x6oNvk5Ipv/yDopgI7IvEEPMv21wjNqvPLiIihc/M0xE\n",
       "0BulM+V3yyG5dmIzVLXcVq3oYonaOzgzq748faUFdrkIxefl9MCoDIUlIy3uRgYEA4RC+j3+rwuc\n",
       "5h+CHLN4LFS8xyCu1kycPvXH1yEdygW9NzoIfsEhOWLeYT/cWiUnnMomQ3dKisrTMG+2KyiKIln/\n",
       "x75EqG7CFwZU2RelR6xjSfNMFdaNmzmdroOsxLy2leJWx5TtsvfxcDNla9tPX7QKI7rtbjbiEG+v\n",
       "QYyoo7kI2makRDIdbqKCJJohPcABsYopkTg2JzW23rMJyBRPxMvyut8euaj0yvrj3h2UXA2eviXU\n",
       "P6ndqskEGZ6S5wyvXAFsLALb2dV3OOLFwfA+SevSKn9gxanem8POxrROvlY8/i6US3KsUByOKDIy\n",
       "2vzJWvYB4TTspJOQN4t7KX6vmykSjQ98VCGWnTfPgq26Wis21EypEHgcYTUJbK/EG1H7V2SLGtoX\n",
       "LFuSY+1vnbfqyBDc1Myd75OalkctK9rkkvYujBma3tm5Zw0OstwzB7pzybN6hv7rGeqMApwLKCl4\n",
       "3lVKCjlWAyjYcucjMMjk+m8GxSuhIJpTNA0w1S1Na0YCn0XS/7elz7bqUnvgFrra4WE/1kW8nk6D\n",
       "9tcetXncJdlcoIMqAZbqz0eKOVLpaFjCbBWjV/ahCgf5qGDsJjO4i3a8/v0X3b3JgEPY8eNj2Izj\n",
       "9KlzkNCr8kqBMbxRWE+N8Rj1VZ0GBW3RY2dUcjJjNJhBbkYQje5upTDpEyplPBIIkiK6KRffYZ15\n",
       "hMM8HJErEVaCAqSDYbWR/FI1Oe4Sb3iYQ0qoIf8BfapzkKP4XX98N17Fiy1glYo+To+mJtK/Ip2r\n",
       "pEWd+7x6tIJqP1qmoh/h2a2C6FwZyaFrfR/XnEIIWFeIa3Meg4ZIo4M0ErR84uaHcKPK3qxOkrvN\n",
       "z2nyWJljEQFKwRwrnXPkZiG6R6atejGWdgejMoC4vZfy83IGHP32XwBYIE4l0BFI2G8a0TtGP2Bs\n",
       "CPcMCoaor8qV9s2591It+hIDdg/0oz/DrczgROr8KSf7j+D1AM4pGtTt/otys/cMiWnDPV957qsE\n",
       "7aJdiOXrjz1S+xsp+zn95lbVJwggjWdEblvn8wEDdvjOCwkRWxVYSVzXHrsEhp0m71kc7V2ZMwAc\n",
       "W824gLxeUKAIqxlJnGPhEQwIyTuJRwa2PvRTq35iaSz9F6Dg7Q3V5HjeKxxRsS8KVzMglduY9ZUC\n",
       "IVKA0Do2kzAG8zpxpi+f15B573uvkfK7Kt2IUmg3UBHe4uMVmLvUY9XrUe1XL1HoDTeekQbsBaiw\n",
       "XGG6AAADAJqBAAAHvUGaJGxBH/61KoAJgyXLgDopLFJJZ45HNsqBGLnJsvO1GwdeJLEF5AQLAwao\n",
       "YAYYVvf4aAOPeHaKlShkEjtAChmItsha52VBDnjdfKEIUfhF6tyvaJBMmdozOVnXiX6sfo171TQs\n",
       "v5c4h38PoKHyED4gZjQmKsavC4ckdpVgoWnSAkj4JapNPw9sMYlGrH/yvrt1be5rlH8QDQrDNVst\n",
       "QrquFT7lA6cVE0P6Qays4o9tt8MSG81yCrEcii0LdzlTQklJ1ADHQ9nnDy0qIDSOyfqg9dFc6BJo\n",
       "JPNX/CsIGkdt7yXnIOvYBPc6uU8e6385GwHlyTJjS4k+AY9ZTyTCuj/F6G/WEL1ZYA15/GMkrYwU\n",
       "d60tDLtWDM1NJaxcoHtCkqe6CbxSRThC/Ch2HGYHxt73YopIo9p2tcffTlmv0esxJLX/hE+gbe9U\n",
       "QZNeTceAm7u4ASCFYiDWp1NzmmK+hFOdqu7G9zX0alsVJwHKiVC7+eKgRr266utkVr0LKJugOnKK\n",
       "a+3SCX0vjXK5/sOJ8n/SU4QVeElTWoevGgkGwOLN4j8nQ/C3E07FJtV3rDr6g+nFKP2sgNM96i+P\n",
       "q1hKRd81q2fGIuPl45fCoNphYLzCiqOu2Ak23ZsZeRoBUeBfzjRlYtMolZKTxkzWwQ14W+VlXUl+\n",
       "/+k3euMNIydva6eOqy216DQp7P+euX/3RnCzOJbZrSeXcF5jvtTvJHD2k8+w6wbzRKWgSyIvWzRB\n",
       "un5h9rU6vL1luQyx4FAJytVc65w603/GDWX6XkzYB1C2wmCIr+Ih8IrdgMP81A3f4DudThoVgllX\n",
       "Ku5BdQarXi59QUFZuywiXBzfrew15RW7Wnx1B3Jx3g3+PkphPc4vo+rvdg9zKCzhdJb5enLswH09\n",
       "TgVkGTyNHimUk7yJqiM2eB6q6AU9xk8bucGDf93/OYCmBwECXcjLZvCo2Mzg36zDuja348uiLqIN\n",
       "iTG0OcveQAKhsrXvVTNuGcQuNr85MvqHfiba+Zsz0IQUOiNX1zBKDAtrN4PUtHT7xDYTsAdQ8OoX\n",
       "hEhyAV++afopfq1A5n70/l50Pltm/BEyAMT5+/aK46SUww4LAVs+h3/nhn1AVVohXYX8VkgHZiwR\n",
       "GPJ7V4CQpkaIZUTbj+7W7AoqcVS2cwmPLdVbyL8M/TTToFI9F+6YkmeZ23jt3N1eXYJI4+cTthbp\n",
       "NXUen42BAonn+5lUXvPmsjm1Is49jh11b0sDCU6timw62euYo83+B0LQOot4ffkwjJcyX4hv8rGm\n",
       "LkVjafq/zLlZKPKlMgZs7vlXqXi2F3HR5pIGSR3BBA2LKWl+VlBvUR1jN1BDUAggYq1x/W/A/j7n\n",
       "ClNuGzKPrLohdEt4pB7BkYlLvPMeY3He1arrK3PkmLumTZhmFn5T9LYDgJ+rEEojEQX3ZMwmH0Hd\n",
       "xwPsYaUSgi4wpMGZrglZo1/Um8EgxKqqglRm6a4vOFbp4twubf6t9ydIzlWu2meHo8dLOGZ4Mwsq\n",
       "b0pFDVQ3ZKvY1Qz3Hl5MsOw6nf7BxlQFqj+jvGf8MFEYbPkgLOrVFlL0TpQ49ACWOBu0L1C32xNp\n",
       "Hu0MaXJ9paHcWWVQXZiQ8DJfh1HIboXKETDMZy03KxsAkPUXFAAjqmTZRzYcWnr/qekaPpC76VAh\n",
       "SBat8T/S8SlvLqzz+Xf+tnYwAclafcpp4c8lEpoK98dJ4+n5daBlBkDjYyJBcV6rzEZ4oo1Xa8uA\n",
       "OA1o+y6zjEGTlAayElAhkIBuF7Lpz2vsjSYpHrbLc15R/aTt7xjLJFuA7VVrxfmn8aWBSR/Hjlfz\n",
       "tuj78rQhstICYInsPVwbWGRSvzrQUMokLnZ9Babqlp1Qd+RMX1fclAp2rlP9/CZl15N0guR5nnUZ\n",
       "MAfFlraIE1k7h/obxMUcq/qyAY/9XMlvVZs5f1GTYaNjZz9rmlFrCPyWFr6EsaviY/Y0HoKp1Aq3\n",
       "ckRuXDgXFrqyDBJhqFvEQjeA4cjiwnsMMrYR4r3ovUIv17wG5iOPFw//dUJ2CAB2WBvn1S7JIRcW\n",
       "LQLTPfQoQ1qIlT6NSDKEBB5AzIsi5TkUVLqYnTyuOZpBliQRgQEiMEv64sAKZZ9hijNXr3nW452/\n",
       "BPzvTtqV6qGOi6Y27S7Fh7Fun/RVIXT6C0QGZBPFArfTR7fb/4Qt1VGMGU7Gwg+HwQ+7ocU0Scnl\n",
       "kzMgmhV1QRDMqhgOTLPl122uqNqQnoUpe9wLj6Z+THjG+EQADwV0h72dv8t9ADu77tUEthyLhUNB\n",
       "wf6vwjMbYKQp03b/7ivGomcj9JOK81behRdlQ9+8kgDj8rqJDJzgSPF+CUcvNiottIszvbdDZG9m\n",
       "mO38a4I5sOAx4o6ZUU/1e47SIbGNIVTQCQR2sH6VFJC3AaX37Gj4l1X1QSICRfCRWtvrijt89vrl\n",
       "8L2s+t94jFjEoZ4p7hhUq9Gli2ZRIqrJ42oSXkQywaA+RKt76C9Fz9f3CcHQj7QnGRdTYLeX+7K8\n",
       "IBI/wa6rKivvwNXnSRgEdFCyLMSh0YFFeRgumgu8rmjpbuar/2c2yHmMslrbNS57yze2JXncYuOi\n",
       "6kDJsL/YTvNgT6vC3ZJy+89fMI09gnTxue/OqyPJyCuxI/es3nPFoaGCks+mjpAfUIE0zPmAIeAA\n",
       "AAFHQZ5CeId/AAAUpj28348LiLeGGmopUSG6B4aZBzxKH+BQTB1kC47lvI6dAB4VcnGrKyVK1aJd\n",
       "tIV7QGWYdF3R9bn0ipXq9OnIUr6aOcmsrWEdFJlwsFl+QmEJuEiJVkp11uRUufnho9eZZyruGawi\n",
       "5eQbtK17t/wiVvOn9NOf6yzN0OTFjjNUa1YgAlWT/enW6wxQvO/iNvUrmdk6fZWeJrPA9x5v12UQ\n",
       "OPyXlSiBHoqITTvd7LfQj6Qs0LxpRSa441v1kA+GS3wD0SAqR5RvjdWBDyMVrZe9igB1gz10moOx\n",
       "kjCpsDclawy/mEPzvKrWT9gIEZtDYH+4ffioLF0vHapBCZCtK9/Lb0AG8UKj68uRFui45Gn/k3cZ\n",
       "mFC3Rpz/sK6g1/ig8zsN3CjI7iDtWgicQRlPH2qoFszZ+bu2x/4Umh16mB6xAAABVwGeYXRDfwAA\n",
       "AwBDYFKgAK70LsPYGfvb3lUhqKqC5pOuLtSzdtmGBv3vGu63WrpzNiUELelfZ/7oVAhaseLVz14M\n",
       "n/hR6GW9GvXidEA5ZTvq5VZc54Iwh1BXODZM6UO8YQd3Y0TQ8mKoX4gRRWZgl9OdRRcghuS+lEwE\n",
       "ZVip8Jh7iOBMTjZyIGhXYzly2UNJuqP3vikDWLyJ3zp49Qny9XpfCpFkVCMXRO3edZDeC0/rIVpZ\n",
       "dRuSA331EKxu3A43rDvZ+ij1qZ3UiN6GAM7QidbDvXUWeL2Mf9dKh/jUbzZoDLoY/aBfamXhuQ00\n",
       "HA8HR2cnkWByZcdLR3d1vH90GlY4Ea+WjQLdqtiq60cfeEtCQZ109HF4+TSJExi8lj/+CQPyueG3\n",
       "p/Jcixk8jZiGCSFcTKu2hSC5JhlfcPscU5Wi2x/PVJbAU+FXHoMPTEd4gbaC40SOw6YAAAJVAZ5j\n",
       "akN/AAAdAoQHOepnmf6oO2Tu5ABGVoRfBmItT4hiytBsLHy7NL4F2+Vp9nY3z0OQjcrv7ysGWxJc\n",
       "hxl4GNiMVeUseKT6tsaBtNtztuWpi4FfxI5opVixWnMj/xcQI0fNTLvxo1Luyrl6qOJrjY5dU13o\n",
       "+pzysB1aYaZbSYE+W8gOOzNSPpQLC+eyiZQ79xOgne4I3C9ZRvgiSEOJDOLDOl4CbtQolGVSCM+a\n",
       "uhAhxpOq4g3kjVspde6bbd3igujTGpdOcrCAavd8GppgsskHlMjXnOTjR6h09mIMzjD1qD1w9l7V\n",
       "EuX8U9c9A+709xDPV8CiFURujBO0RZ7IZU46IksGmhX9kj1eFQtc4f3decxMm7ok+blRst+Kg4zb\n",
       "IAjWVIZWX8I4flTI4fGN0saVnwICLHlvQVZpFsq7NlkAGpCDquc+5d7iGU0qAGjMvblyIFTB1gx0\n",
       "ZXpILjq/VCyQvGP0enmRJy0uHjnJAh/pExs304QRzL/JO8PMlXC7hxdC2SUs4BkQZYwPiDwP7qxX\n",
       "BDlJjIjkwVj3umbyCFsrDbznTSqAxt5/Ug0UxvOMgDZrhDpZ7WTAEzv4WFOv788d8jd+QFn4FySq\n",
       "V1vnLhVKWz6YpyO8iG9nTN8T4GompBSI+9a/0och+sMqcwWnjAg/xM1b7eOC0tqRh3In5bhYLfJw\n",
       "97aKcH3Gg4Th+i6BiHxJX/+mGjBYHuAEpP82o55OtSICa06v2ni4N+ZbanoiU2rDOFHz5jKX4Xwl\n",
       "q8PkoX1poDRPFBS2onm/7gPXTKf64AETAAAL7UGaaEmoQWiZTAgj//61KoAAPQ+V8AsxjFtUO5tU\n",
       "DaKEtMazDs4q563cBas+oECMBJOQFP1TLo1To18sq6eMfvmyvNyj6u0elxDvBbISeIAyye/Da8gZ\n",
       "JAcbiWDVvJkNsW9R8NN3IU+7m4/Ry/sTOIaJ7Mc8OOtVTV6PXHW1GruEwdldlHOHmXAJklNDsxuR\n",
       "RbbxsJ1/sxYBFbC8VOWhiMVVIeBMLVkJ0rS+rSZI7FyhTDH3MDHub1/gFVfm+nFx/LzlB6VCGimx\n",
       "gZxEyCONL/T6BqXKDY295PgwJ4k6HT8n0JRi1RLJTqal/ap5a7UYaLxmk6rYMktbDhjnmiWVqB1I\n",
       "vhtEu/oRDb51YJHzibMmId+QV4Nz6n4hRW3j3i/CluMRtXhl+EDR5y7luWvoIV+d5nwYCyD7hB2D\n",
       "8XIqaJmNA1JQ8JN0rouPjQf7lj1EHH6hvok/v2EYdPdRhQR0BGVNzRbls3L/aObtt9zlClvPG/cQ\n",
       "Ld1sUB5CwKPuJX/OPPfqEp+aPTjSVZcj60L44nwv/fwP9VW61cz6fUQmJZXueiBq56AbHnvlh1r4\n",
       "lTZsEMaaOxtijpvWoCsNENvkBunoF1P+JskUHYYEIAgbVGZmnXiZeKp5bX91CVjWH+HEgH6eGQuZ\n",
       "+7V+5b6t/Tz/V28cxNOt8AEkBM8G2j4xknM0FiihN1cXLY7CobXT3grySoBRNyjfyY53m7rNj0uN\n",
       "Hf+rdIWRQBYFbq6REtI+iktYAuof+m7tRc3E1ZEt9n6450ZjMuY9sfTQTR4d449sUWvOunk90WY2\n",
       "91NU0GauUQ6jDhLFp20Wj8OGuewIki7NDzktv72EZvI3w6x1tw/XE8cmBjv5y4cGMZq89Si1k5L/\n",
       "Vu1iuLt60wvq9g9g0iEQ6YDPIM2LMVueHmWmlYZi/68RriSpV6PX0w0hsRWVVZu8Jda8pmTL8ruL\n",
       "DlFvNwwdLYBgeP9yaTiF/1Tj0zm1xlFxgyZks++Z5CkWTbsjWkFlwXJE4GxG3LHfg8jQrwHJtMsM\n",
       "9y9peiZxRXOaat993ZHhfj7hNOv3m1V+Qjc0yqHUlzDZ2xhN+eTIEu+FOrI1DnyFOD65q6cTfGRu\n",
       "DvAC6EwGpaOr9yUG3+yhMBlfaJk1U/9gFw60RLFm0nljRLpAu7xB5YIWUv0c8+NRxkctvMxlAhAw\n",
       "iLImHqBpNRs8uqsAYwZw/1wEFe+DFljX/6TtY5kObqT5HbZAJ7KRoOIdB9AFlSW+cT8wB+ZOZI6/\n",
       "BfSq9dI9PO66yLc4rOWsQxLI1W7ZSs7DkNaDD30UoMbMmKELdyB0hVAkOxIQb6VrjHqTZ9OpX1ic\n",
       "5XZv3TT2thCiZel7fKigu/RQoKOpSI9zxkwRkrlyQIM3z+oUo34sQ5k6xHEfuXOdjs3rSpoJ89Cs\n",
       "GOyFner3bf08aAvT1wpAr5ntvPPKIwuW8eaxtVXS5iO5+i1UKhGnA8D3s8XNSClIM00dVukOwwFf\n",
       "GncoTJbhcXDatw0Z73/rbkOIzVzndg1jUY6hj/6apFx1aT/O1iC4/hjHNRECEBtbTwGG5E9wn999\n",
       "qsHMB8IsXIkfSNNH9m9wviXZoRZf4ctdGQyXlls4CkZum9a2PYkqKuabKUEinlCwLBwlpDggvk6B\n",
       "+0eMHguIJ8IZj4ONZZbPLdRjj7ehZ6xdbgcmBMwfgttry8/NQWbeKpflR5ihP+tKUQ+K7JurSKaR\n",
       "BVRDcUhfOTiG2uEIdhLbHWeCabRADAId+ZPQVa+lO81obuilSiU+wErr4wk/8/GAIKUF2aiP+7bf\n",
       "PvVRnzu/7VMx5glp4wj/5cvlF0X+d1CEpicx7NVVZO7oKJToHoZ4kIEmWANchbwZv/cIUH4Ld6Mk\n",
       "KP5X9SSsA2OREDgoekQOnej4ogcKi5vHb60O5XB1kfIF4qL7LoHsGO3ynTZY7mh/7W69E6BHKcO5\n",
       "VH6zabNtPa2HwHp9m9xEbeICYd3n3mfbyqQY2Xic2aqqJSeMiMLHmme+tuAk55fCgbOobIX59xoE\n",
       "6hVvEuVJ2NGQYrYX8k+Pw8B/JRbS9JxlPf0aX/5ZSGHvNLxCvgb7QRNTLxU4/07V9oVjqMihzRGv\n",
       "9EABNg1iMRGxkgAtRccWRPt7CbWIVjYAHCWdnvKkOutdZrP9SIaHphUGWf3oK9ibwWqHoUfp8ule\n",
       "jzJpQF3ddAGSfwsU1ZUjH7phsi1hyUKiwum5IcFKJhT0vtmp5BThfNM+yT4qg0Ur7aOt9twlFyxi\n",
       "6CvxDOa6gCqgaXa5m5VJon67PQBPcJyitDzWjz5DGS5t8Xt/+PYVsmJ6WEwXKJXMmAxc4L5vpFkz\n",
       "R/KlRN8NS2DO42MU7T214tJy+XPildpkSf+jKxUFwa6XWYWfyAyMJwAU6bnreDG+RbzreAZHjUKG\n",
       "CVsr3y8pnzDiVN3eac1exa4rfIzhR/mElE6A54E99hks5aQD1ogRAg+ELRy10MftT/qRPhkuoAAU\n",
       "PgjpOD8FjDBSAHB/lzo7iuM3/OMYBSyfcrc+6kfS4OxFNibHE7z201n92ClP4EMnnNIvrvd3FOEW\n",
       "wmzIF9vW3Nbuvzney/9v3P94HD51T75aktgxLvNRj7u48IPa433Dqwb60HN1gpnfUBdjGT6QLIRW\n",
       "PXey7WBJidHgduyjVTzkZcF29UxutuDqExP/vmSpdgv0JPj8IkP/JG8P93DAlMN2N9TucBb8faA/\n",
       "QjzsyUhx+ly0qAMaLQcEnLnmrrrXBtMT7p5YvuazQtn/nT1RGnPzEMpHzaflcv6rbZHTfHN94DE1\n",
       "51g2cOD497v0z63cILoEPoEVZFRvNmgNl/YrAv154T9HkbMadfk/wlJZ3CddMhZm1DysbAIFikvP\n",
       "JzblV/L9QvZnabuhKjjQ4mCaYCLqtvLLWoo8O7zFqKeiI7AcOlp84WSFZpSujp99JBw1aotKEBMD\n",
       "taZ+62stM6lv7+fqDRTGtpEPQ9SL2vHatM+WVbDDQN4FzyWH88uRDxGcR3Iq52qAKF69y4cNq1yi\n",
       "JJ2PSkqHbAGNhPKboaNcbnW1Vy574BXGihTSf07iOXy9gojUe8VYMif0mWgff6t5Q/8Mp4MQ8yoL\n",
       "jrhWMYZh1RA7n7WFNBVBjRN8BYy7g3q8zwaEKtrGcX8wJhx7QCjG0TyufOBl4JoGpqujNllFUP8L\n",
       "I4phEZlWMvS+u0vMVSh2LbKXJ5VD4f6qseK1OzLv/fHsfsoUYxJO9AafGmNR5ZNtT6iImMAa9dKZ\n",
       "kLEw/PUXU/taVxanf6Wz9kjHFE70BHxW2uu88tkiRnI4bFir2XMxrrrdLX5cW02lRqFjOJzdfmQZ\n",
       "ihBTZ4Af+JIJJWAZcMxim14g9Z7JqIwapactH+qxRdBMUaQQB6xPw9kNVF1uRPkw9jRTHtMsQJkh\n",
       "X7A4Vbg1sMXZWUotfmMp2ple4K2fc/uOlbK9ExIUQwzJX9LYOkF7HMelqkm3+ZdhcN1EMNi/0M69\n",
       "dkOOmzIVwbilyOh3hXqezt0fIRbDWXzneawONcc3hCyQbluZIfa8UmSsccAVGWa+W4yc0VRvZ9WS\n",
       "DdwVZGYr1GO7SepWpnLJk20B85EX6qtsh3fKjTUyY3ll8Z00T0O7eGZVOMsGEtw+yCXTu+xuxncW\n",
       "urBtTro+51w/rAaZLhHe6MD6I2NNGbSBlbRcviiziAx7nkaOKoHUO45RBdxzrbvzlj3+196vLSl7\n",
       "PjivKd0/uoitPk3z62fgOkCbhZL7kCs9aez6iQADsyMbiPdXyIo84aa+pGvCfL+R88OjjhTNmeMS\n",
       "1M7XHlxWDLRc57zHwMMZhRrDRptdgsJZYt/FiH0byK/+Ho7h1fEkNElrGVjXr5jLHUCcvCXC4uiy\n",
       "pfUzZXgBietSA4xDW6FUzaHGILS6k0X04HkqhFkT+WK1Ymswq0Jle9aBgof4HHVTV8ygfnuNFIbG\n",
       "YKGtMgfxtur9eq2Zit6Nsozq2o2nF59BbJ3EWoE2XqOAtXU6gxT2i3IjokqJFnw2C2geGNW9fBbN\n",
       "L3ts5jNIhqEvP1i1Y8bh7vL6cg+yjoOdBAGaVbJrobpbeffXH3kGDY5GbqMANhMjRkt5y94ZudC7\n",
       "1s2pAAABzUGehkURLDv/AADu6A2XgEF8H/om7khIVYrpI2AAQP8UmY6Z/idAZDGYyjkucCV5/Y3G\n",
       "WfVGH28kat4fZohJMuu56oAgCsu/JcxOx979ax9exVw4WE8xI/m3QltswlD++mHd/P62F1WWlfKq\n",
       "7Ewmf43sfwXgRZGjoiX8z8r4g4628gEqlZ2BTh6idurreAXnZn1ry4Oj91wVSt8AMGIxRmdOABvi\n",
       "/Rmjl//BsiWTgHlfDUoSTcS/o/OxbDO74np3+Ak8UqjsvvfjrvWslmJY19g91lSVZ8r8LbQLH4Gn\n",
       "pn4FN/inBakrxOAQ/+KIkSgFKkeFzCS7dWBYFZjYIEDRRvEcfjyLJ3CRSyIO/v43PXo0fW0vxiw5\n",
       "sCxOHmYn8nWzVFZeT5C8hkhXdIxmQWAuGeHJdYcSjzKeMrCKajNW4U+F4H31mt911XKZXhhH3Yiq\n",
       "uQFHJImMoo/5XtncOgTlnEnltUQMOw4Swj5fJR2ydH6EjVaEmURek5mGL0v47rtqIgtSVJ4RiWtL\n",
       "ojDe/qlYK9xA0ZxeTKBdMulmGvOVOTINmzIbM4pznnzXw9YEMKev66D1Xn1LTl25oW7ORvt1y34t\n",
       "XtmaTgvA9xy9AF3BAAABOAGepXRDfwADEgGoAapgIgqz8LjbUAtHDJZPipgLD5oXm+u/8ZjtypIV\n",
       "05EdxA5QTiF/Ym151j8qxgNw+fvBCIxC8KpfSY92qVVb+zDiT4EzSW+M9VDGfxD4Nu+tJeTl0T/L\n",
       "bVzCwxiwrCV7gJLx/4lHPFeNuQZOQmOYMK+gkXbZdOZgprRpH3QeGjgvAoUy5ZENbp9JryOmUXBi\n",
       "Jizw+2BrV9RL6HgFWVAeKpozBqL/i1BGPEmuJ64Feaf3DItw1IjkqQ/bVVCTwTvMw1Manxx58xzf\n",
       "/E+xHIGZcn9BRGpqnX5jk4+XGGussNDxjIYaPxc2LOrrgENA1GjE2MXuIp08KiFnDHMX3k4g9MII\n",
       "59YvPxBFwSsPfi+vdGZDZWlceQSZxhjm3v2puZ7BLF6l9Q0VvwaKPAA/wQAAAeYBnqdqQ38AACfP\n",
       "Pkc56zTThgZqkzGeX4ZHrxy9J+P2Rk0QAJT2V9U68fcom+Opu1iJxFZQ17HI1zefpuCFQL074ttw\n",
       "ujwb2u/IJ2tvdYm9RnryfEJgD4y5pMyFINTM04Rk5uC9XefzX8EkRgODQIs5skTNJY+wS2BMn90O\n",
       "UBfwJX23PigwP2obhhEMSa37NsiBNu5WmjwhLY2yRNdglUBkiqHLBdmAV6+EW5+GRBZZ9sIg2QkZ\n",
       "3juM+hwfdiQCTuv27juOU/xt5zOLlaax7TaMKReGJtCe0/VQ/fB6IOQa+RJ9Ul//f/JCkePBvb2y\n",
       "zAy3a2RKsviwMQ8o9XaMorZmaicaOaQHpim0LNHyUKFZXeYp+bbgXKRLBjuflNbQziomRvv5wnlk\n",
       "z3KvscI87ke/kY+Tq40L2fvdWo0Mj9E7o7hjW0/eEoiZTpamqCBOdlOFDq8lob/DqADRK1bWaVb5\n",
       "HMXbe36Ty24gKzL4dg0FMfxBMLj89jPAmvgT/UtEff6KAQA5jKi0Dc4svyWSO5bDAW6+UWGWvXeg\n",
       "mlvGyhkRQH4bN9DqloxAw+JYHvmS+4v6NWGY3BPr0zhtV65tpXeqtqM6DfOUbCCr7iJJjKwRf4s5\n",
       "P5QlRwoaU0mg4hbl1EKMnUAA9IAAAAvqQZqsSahBbJlMCCH//qpVAArfnmVbVgvn6fRo6ZJUj3SH\n",
       "w4f/tBS3FcmBpUbe9TXgCe4hSlcg0riVs7d/agqBy5LEA+EsAqM68OTpcdNRHt/YFnZM1Rzi0uhZ\n",
       "33446PS01n3pFJJkzbUMpvmeNlsjHZ5An+64dWf1o6khWS0CXK+S5/TM32T5YzpWacKsW5z7sKWt\n",
       "ETuilp2TLkHmlZC32bDonH29P6noAkqW+AprUfT3nlFRE5wNCRP/t0aIlqN6fBmDFEeP0uEj9wKp\n",
       "pBS09WTl/J6fpodWaQlbhRWwfRhUYsqCJxHhGhGVOsK83uCbydxV11McRqOlpAHAEvbYs5SzgaGP\n",
       "0S04xesCZg/ciAnRZi+bKcdjyR+6JmOMHxQo4+yVSrM8+HpVDKv0n2z5AdTYrXHnoueUJmUEUxA1\n",
       "QuLtmH9ifAok1tSRAy/T/AL/+OE4+BTSzyHqLgFZtSEnYTPK4YAOIMunWLT3DqbG5i3Ps45OISkj\n",
       "9WV6us4oMMC6pJshTs/Pu6p3wbnGt/3velYHI2O2J+3Qe9wbWVhSVYVhrzDORL9FGOCRFulVIgFa\n",
       "XxNEzbb/sdc61xSePtEbJzwt1LHQE4QkpMWMnXnaQwfKt+0NpNVqqAa2g1a/kleA7rjmDTndwxUh\n",
       "LRz9Dk7LdPrXELNSz58HbcnGLc3+oaE0F0juSpucX5vgqKGo3F7VPQdqWvHNx5y7bO/9R0fSAjK3\n",
       "D0hWcQxr0iZ/oYZ0s0SDRj5hl7lASXvLAZ9dLY4IELW6ddRJKTKfFrLWKfOJQWDs1a0tCSw3nrOY\n",
       "VZEI+a8AGMYRS735Wlrw/bfNeRUVlT2kKUgSxMJWE4GNSGaoCFP84ObyNyoXjhlK8PRUXot49AnK\n",
       "++5BnHPXPvCmhrMBneeBF6jA2UOOuCUqFWmeyZfPTxd3aJEPFeWxp2SifPsgq1VBguogvJoJ1N7K\n",
       "EIfg5ESWy193PXad7KWcjoVKTHAgsjOc8oTuYF7sqJHtQQkYB9kQj2wPBMeM9gQlW1JXxPp3M3nm\n",
       "rcScwnf5d4sdVlJFj23mogdLGj/3DStv3JKSl2RHrA9HLe7ZlV/zGEl7lCEfQSzrf/OF5LGwBP/l\n",
       "iBOUhgRwD0fpnhvnJLmUl7dD7Hr5abJK6638b+i2T1hxxYOkcsuqBYE/rQSerx0724ChMzp/k/0z\n",
       "FG9/eyoISuW5ueAE95KrVZWNKMHvsWaKSJq3h8BIG0gF184+yGNf4A4xWdIpZlmgCaU7j1TN9vHz\n",
       "Y5OCiCmYDUeYkzb4FwbUPDgIBvBfDx0gAubV17x2Wy5wtpNU0481Bz93pbZIrpFe82PlD0K5aInr\n",
       "z3Di4j9D7JE+wkxsAJEcCM9FsLct9Adpve3+ps88UZvm5SMXsQZzepFDmlP7E1T4dfgCJsbS6r4G\n",
       "nEQgmxggSRXLccAldHamP4XlyAesi4Ym9zGv6Kzb15U4NAZGFUkNlSMPHyEyG7u5nNjL4QO32yzM\n",
       "YTadhS2KC2mrYVfaanzKzcXEEBFb48EDUZRp4D1evMo0U4HZldwq3Jdp8opmgrhSXdNA1sT1MA9b\n",
       "T6QtHbm9aJQQJCM6x6Qfj1i26Ag9CvSRELjvKM6tcImFyixXwA4j09NzvrZoH8Fr1PVGD50inAaQ\n",
       "p2yJiDiB+QC2EELokZM177Jkh/iIY9Q8QrJRxTYPu6xu9DPaj2Us9AphAIw5PU3hQ7Jgy/k88dij\n",
       "SlaIL/+o/ac/OChtYa6DTCqCp69lN4g3K6e4fmFcrs7vF9rvnL/vBSYy4u5Yx8K1jjIMntVsKZSI\n",
       "Wehey7r9YE1tYUnRT6aej0Q2bOj2RwtFEqgUBY1OU8xSSCGUevyRxWNX3r5xL74PY4KgsTpXl6AY\n",
       "ZVFIDulaWxERTgf+WRg4S1bGSzeYSpkX7yqOz9h0QsptV0+5EEdgv1c4nNXsz7fpI26E2RPa73sA\n",
       "NzB6yOuMrpsH+H9gWmXA+hrbOmSN119QadxNU2reQIxQ7F9BOW3DOdmI1zhdpN6RL1SsgZi3C/tB\n",
       "FX0IFp1CltopkTFxL2XazqVD+v/1Cws0q6w+uEEiPomI7G2Mi4vRFqYmqspZZ9ZYXxjxB6u5OGRw\n",
       "HUOYOqRM9lq/Vklv3jjgwLlSiNahO32eWtZTH+MT9lE2VKRgB5aWU/1JEVggYoRXclb8x0Y2IJWs\n",
       "R+z0L+cz/FIV77zRNUs/3zBXZwcJlNEezWTTA32SrJLtZXaNOdordrJRh8jps91H/ooq3d+5Hi1C\n",
       "Gvop4W7zO/dJASMxO5h9OQtHs2PED7RfGF0wdb6W+jVhGOghd1XvDuGj7etLpq2XChnmKE7EMpcv\n",
       "2Xa9Vxsv3yUdSvGDA/C/QKQ0bFaQ53qJ/4tpEMwY9wqs+bDEIH5QtQsFU2IrzyWBTDqkpoKEmU/4\n",
       "VqT61KSC6EG3kFtjrboEikZx+XW9Ly+0CZT/ZaIDLYaS+LpjjjjX/t9Nw0uSQ2rN37ERV2vsrMvg\n",
       "d4BTMsCROT8s2DwGeSmGnZTOERPWroGojIGYvqJBL/uW6X8CjMQ/42yxqVaVDkN3rzCIdeFI4NGa\n",
       "jVQ2brC8PLLgutxbruBQLmq76PRPvk2KEKI+4F5wW48JbGGQ4FuxSIK+3l0F67/P2XMcE9QnUsy8\n",
       "apNcxkPcYUZ9Rpdy9wY4G/aTh0dcEIAIjvOyDYLwatanc+VdrIrEKx9/kvjC2rTnuKhhHge2X8Fq\n",
       "en5lErMIPA1RndiDfWHKjmYRBYBviqBIxEooQGwtxzNdT1hDuRFap/RC1QnczlEob9D3csseyKYk\n",
       "1id1Ax7Q8he7jFxgzCFy04KP8Y19QY8BIpvRLnRm/C+alDhT373gzlnR18znYU3Cl0fCkzv/UaFM\n",
       "KVaF1sbJz/y0DJ8uoZ20w3WRQ0iVkpbKSCGrKuAdcvb09G2hMExTSbNh2EIckr/xIDaBS7f2Lq4P\n",
       "NqNaZiVc1Ooq0uSHpZyhwSq4E8bu9WReztnDpguuOXerb3dYrLbsg4/klJe0Xr3Msbqi3gcKmQ9l\n",
       "O+cC8UkoyLDXwfmnLaXOhSsksgyjt5DOYbE77+Y4igoZDcewdthAe4waSXgHOyIVJI+JzlSQvCrR\n",
       "3HpJgtDvkzxKNEYp0e5YMhFkQXPjiCHxFuntQ9vtwwD4/ryV9VUqM75THGZFvV6YCUztMhdd+V47\n",
       "tcp1kEloT0usTH+dU0JHzCygH372ntRFUlHGQLxbvdEJ6Z8UGtS8mVYBNuzVSQ1Bdg7MwUVZud9D\n",
       "6l3Z2mdEYHMN0UFuWbBlY84mxxtTInpcdr9t9D3X26iWXWkIq63dRktydjw33jKuNxUo0NLeJ+yq\n",
       "z6OEOEZ85lQK38Frrrv5qhe1/X3+lYFCDO7jWGZNQnwgl6yH0+QpSflEOYUEYkndxpSEZgqGgw6r\n",
       "kF9kNxhMEY/wbYB23RQs80LduPk9vP/wx/2Ox5wolzCYWlg+ZPo6zh/v7RBJitbjNkOQPWnlZju2\n",
       "ljwxEV7HN1AgzEomeMbj5ah8i8rwBOJOeqgPqWrdiKfEesEvdpri1QDXEa07AXKXgx39bZ5PIJGC\n",
       "qtTR7WdhCgTLn+0mu7u7+7XAXPl6PjhlCRUV+1ZHBj47CmFmOAtXAyXg+oJmMDAWot1UZspq7V5R\n",
       "lF2YNlT/GqyevH5ZCOl2ewWfK8weCSbkmh7RQ0GSipCdufTrNJqi7Cke/g/yZr5sDKPN5EeYZ8yW\n",
       "llmwzm6NJ4sq/AqRlhonxn5xEOGErtg6/pc4IYxVmb4tyw13OvaBItmdHW2gN9WU3bXu82GKSDg3\n",
       "j3Ks/5VgO7wmM/an3lRri9AekhtH+Qi6K4dQl6sAnB0koWxAGd87nkDUJ+cxX4xWjCWNWeRbwo05\n",
       "KzKrfM+lG6nmpXxtKmqaQpBR3r0fb9ovCVKI2zOfI5WyDKeG+xN6nlk4gg9DE5b8e9urpC3YclsC\n",
       "NVSiTQe2mm1K3PF3AHsW0bs6mkLtQN3Br+Jv1qlo8QnmF/oHrjjvVV21LV70LKADXA0hPrmfe5Sn\n",
       "MnKTHenfhi64Kc/qc5DcUfPp2/NlxVhSQsT9d20fDAAbup5HKqMzrAnDpe1dfe1uBma8G/AAAARk\n",
       "QZ7KRRUsO/8AAGLJmjhl3Lfh3+Iue7AybtKgCfJPn2qeRAC3rn/9odjbKyYDEZ1C7HeJzHJhywnt\n",
       "sHqil8QHpbh/cpf2Iy9f9U3oJwils7pXtZ37pwAxGzv3xbihEzihUCZuri/JQZ2WVJxNKbBKnuMp\n",
       "5LfKYDK3ZA7BtY5PvYj4V/u5MAuuXDFFnWT09wFUG+1GUqekHmQ+DJ7WWVDRJ5vXECMMw1ngfKAj\n",
       "a8r86DD3a0lOr0V7DwN4vXc5HIIcHbEpqzPN5EbaJel3Bj+ckOMvBbq0BY15gonphdTxPPxc4GQa\n",
       "p82UxZApAczBAEYSbDsOboByA+rSrzlsbneeSgekT5nNv1OMpMympZDlXyCcYsmo+bz1lAQWTkA+\n",
       "z1+fPj8+IjHfLxmtn/5JTSNGOa/0gkrNYo9dYAJ6P2NhV61gSQcKSbEdrywCx3540yJZq6iN4QwX\n",
       "Rsw+3fkJfE3PRmo+LKf6skhNYDYGOzWU+Xvt+fBLBL9kWdUUAH33yW2XTFJF0cWlqfHh/WNJPwJa\n",
       "ttI3fWfP68tSJ/94U4CjyAzXTqAuQUleiiyP4Uscsu3DbVBxn8C9pT5Xu8bf0xyQwIinSAPPUQlc\n",
       "QnASPtafkhxHQHt5HoI14vdzcBQLuTcrcdxo3pcFvxvFyR4xvyPUAfjWDj8XTU1uoYqYhzUMXyhL\n",
       "n34XlwICp5MjqsNCk4Gsw0SW8sQZqYu0olrGCoW2vVDXFgVGmcdRI7pqD2cn/3ex33wx7w0E6sLj\n",
       "oYtUJ7UrNdEduonJVQ++qDnvKaDZziAg9IzrG+zvEXGOm7H8YDY4mLPGxgHfPG7eDcZr24CymO8S\n",
       "tgQffg5+TNSEnuUWJg1BXAQVfjsj8/AENnn9GIJc9rBl/3JFvd/kMG/Z1V/zNrdaZeRYINylMuPK\n",
       "zO1sKZc+g9WNIUb5+2Arlk6XZ/0DCKqJh5MrY886m6eYxTs5iwTmbrCPBWlhs/WZSYpK+GvoAmih\n",
       "5zXcSxwW/Mv8yXhL3nfmH/A5T4Gpy6O/hhD9gyeLU39bAr8UYtLRSlBUwY5Qtz2qM6TPCpO9xm4x\n",
       "pZojM05IKJgGqafxzzugRjaO/hdcs9fibXh9VN6KL8DSyGFc+hJ6KEPmqS60bfLTP9g8/oHRBjsF\n",
       "WtKrkciFbdVErZhkXErtLsAlHDYYF4FjP+2Fo0nQLBf59QsPyIce/mhY/wnH3TW0+m5Hxw+Lk0bO\n",
       "5OuslAgrts6w0adYrVkzdkwxPuEqxqQ0dyzBR6kkX5eiiZgNoxexoCmKkNqWPSSl+OKMThF0t2po\n",
       "H+Sv8Sa/p3wlhaZ6oI6F7EL8I4HvH8htVETtuclW4whTMjbCg1ZaSoG7t4XLO10K+LW7UmE7LY3u\n",
       "WHYCTRBfCy6W5LtTzZuVVspMVuIJEeuqZ+YPcYRZSkEV0rO/MMA5rcjLiUvAk70Hg4Ke4gl6kwX5\n",
       "2I1mOsu3JBTTN9Q/UnPMm77G1iVDyApqcTg5eoU4OxuretWN2RzOV+UAAAFzAZ7pdEN/AAAnx3Rn\n",
       "aChpzSxiwuvBgvfyU2ssBxvIbr3Z7Xe9XeBdpc8BTRmshRYhFERWcM391EAI9g6icHY+3lK7KOIY\n",
       "tmd1MGoA7Ww9lrnTBrN5z8pXqgbwT1ZfV9iWDW5mJ59WcSwgL28J8SxBXlo7ReXYnopHmkEwyVnn\n",
       "1+2EAbNQGNql+pflBcdhpOR+DOX+0Af0i7LeNTEfrJRNisD9IRQSbP4uzSW2t9lYU1c9bP1lz4oc\n",
       "Q9UylNm+kJEIkq2BSMf8nW1tnwsieRAGqKdrodJjN/9PUi1rN9H120JBNdQ7eS/cKjfnAH711cUz\n",
       "2PQ1rsO0+d+digwiHX+kGWKwJXIGPqQ/dDBZvO12LLAkicoxksukxgHXH3SRlKKdFv0kxsD5pHHM\n",
       "zQppIbYDs7gOE7yr/jVyUDFDRE6MbCCzqZbKQf5R2wlPEzOCUqhg3hmDpVXz02AUlmqlXvcYzL8B\n",
       "7aYyxr+7wWRfd/XG2ex0qYAAAAFvAZ7rakN/AAADAnydIazjShKJwsbvfiWfhB/GRJW2PO/ONp7g\n",
       "1ksf4Kl4Pt4YNe6ZNACoxo6PC84Pcg3IFOGGakWuoobdA396dm+BAjg9aKBWJPyL/x/bBGcGsY76\n",
       "7kcNYrDrHvs6w3tVRhnnDoZgDLi4AzWHmS1TWcIx/I2rMo1o55df3F7RpbCKXh3DQaQxUK3xqlwv\n",
       "WYIbbHCW/XJfe9imQnUGxiqbPZLYah18RTZ3nYULYCNIlBQVFSHnTNSeEItd8FncPTEDm4MgCDPF\n",
       "uOIgoRQ+ZjSEQrZ4Jb6r6/JtBB0iaA+E1A4YCHDDcV0O3+AEYSG3h5RKfX4P/Lj7KIvMftn6fOav\n",
       "MT3AStMlIIR0Tg4/UiZCorOsQ7yna8Io/sfslI2vWGLLQiBzyidbklbPbmpbfe3/3R/gRmwA8YzP\n",
       "f+CVupafkTXEFw3X1w/9bg3V2NA49BI2aiyPhhING29LX1JnnlGXekXi8lKTgAAACtJBmu5JqEFs\n",
       "mUwUTBD//qpVAAHzQhwgZQNcfPhVzYpbIHdoaMEUHpepm28PXuoxbv9G8kXEFlRLNr4nbzbS0vMD\n",
       "8RoCCcYfLaQw726a21WS/qZiGnqZtTKRJF4VfpNMUCi/9mcrK4jYloydguDf4zyDeOkpepPQnFH7\n",
       "sRDBgN3IvgeiHIuGScbOcUHAJWVr9VN9+bw4/PjblUPjtWXXaYjZnzLRqMLK9FfB36QTn+P/ETE6\n",
       "KXNEGcZpiglaP9KqmSe712gNaMJRrU2+bAX2GYz4Z5ratcf7xkS8sePLURZ+kxnOExSDkcFjye4V\n",
       "QUVsDeiOFyH9LtdLjB+P2DQsb6xOLW338QVmGZjngGpwEDQ/fL+0lZYsA95vUOj/ogvkOpXQDF6y\n",
       "R5a/NTcAd/VZI5gL/vfBYsIyIbnNQuTbzQ63NlapsfZeHzs3E09USjzAaZlSSY4yusJbTfDctn/8\n",
       "o9asgm74QLo6wcJqVu3NVDgz3RiG/2wObKSnXHSnIPZrsp3N1wdK51WwMRSFMKnpFAaEaMA9PPL+\n",
       "xRA1eQvLmSNYWzQFl52d++O3uvB0mykz5Bh0RtZtS+eApAlwNbFnxlPeggqWGBNqrr4OxaV2Luij\n",
       "Yl48mgtSG4sLYuCIO8ne5s+IKuInQOTUHOntC1hmDFbrtPDFovPMgWJVCt4rKH4Nfv9CseigQyt/\n",
       "5YNh0gnxPpRmZTW1VWq9dzLMGkfhlpXFHQMIRY7+Xt9DBbwsQqUVNf+J5XvD+eY4ooHCK+Lz8CZg\n",
       "6jEG7xGRWc/CLUcafZCjaqfZ+O/8GGHVkTf14Ywc0fUy7lkDlwW9ISNP/mc1kJESvpKSGLnWolSh\n",
       "qnwBF7X00zsZlS61IosBlIw/pforaO7ZcAQXxIWdiEt+h4TBUK+UXqrV1Q0ld71UTcIVEXJA3llS\n",
       "1LndF3zxd7wB0uPIme86VzL9CNRjyOjyKYyBiSYi/CGDGMRhzrffU8V5Yw2P4wukvjdSSG/4NzWM\n",
       "1POAUv0NEicYjSvOmJ3mCRMmF3OTFvEdQW5uomnCJcHIqsUyBvXdcKRfcpGjSmTo5kCZg4/x5qYQ\n",
       "wNn+ZhXwzH4VRAyEnPEcwNhcq9aU72F/G7YPJJXirW9q/f5NRFDAvfwKhFafZmWSp0Qmx1F8oYRJ\n",
       "887K7gdkEsiKmhN3+yCkri80TEeRywYLSlfuWlhiBKd1xhoV+s8WCT36H+1xYuYTunnBNx4IGau/\n",
       "l0SwLmfHJY+YkyFp2DsLMMUbGAQfrq2sjOhpaAnC7XJrYa+UFRscj84lEfnCA3NjZnU3FvyxskxG\n",
       "0ANPiqYv4R1F8pSJ/8jMpdgLB2hykyBN64ELSwTZgiNWX6uo+9yBdPmQ0N8Y/ENSb2VYTBa20JjL\n",
       "6PoLMQF0X3dfjADpWxWwZGfYVzR2HlJEg4/Z15WY4Bk/uRYvnG6/+DjAZDkQKKYcYdzxTykOIKe4\n",
       "SOhlKY20/6pZxLd7vcvUmva7Q3wbr3ZAHoIGYgqHYWTuo2znv9rfwJyOCjefJ+ifxeJ/XSHdgIEc\n",
       "82NK+t9AfOZVClyeKh5sXkEErgnuvLkG0nC/uxvxd9O0mcT3cYzF0LAfIfFZ00YjHgt1tDvl6rY/\n",
       "crfMBBrjBSW4Nvfynp7LUW36G4LAea2/vnMjmailfBVlJYxTWHNnCNlWZSTi/DZApkVIDIkepRgb\n",
       "nTh0mIiFRILp4IczT2OfxoiNziWBzWkJ38z6hFGDoMrMQFSOhTju807OmBEG26BisO5bGnYsxgjQ\n",
       "xojo32rYWbfL0x1o+mNPdCdlf2clKzxCqrvUu2FyhHZXPGh1RAzVHMNUC+cH9RJzu8aKjAfXJCvy\n",
       "5SbAhgHrGbfGnau/CL38XuQ/PzOFj1lm2Djg61LctXl2ReI1I/Wfh8cq3w3kOUPUR5zwgPP/m/gB\n",
       "fJiGFtz0WOl4wjyP7frSACZtWoI1c41gbgx3WmVhjfzSBaC/2Fk/xWr/JTvCOfeOhg/G9g2bmlgW\n",
       "GCGlGQW+/+Pr48mFDdhEwdHiHyXP5FOa9olcYKNd91umWYQ8SXBHxqyvtWSg0R73IO/AmP/5n2d9\n",
       "M5T63mtvaW3C7PDs+Z3NMVvRAkD4L/eiiwo/uwCPxkvIk7HFF3gWYtbJnTDGiJtxOKhfQTqNFGy0\n",
       "0+0hRaU79LW31VpexN9T9uWq30Iq0X03wo1cLumM9no2ECu96d8tu3kWBX07TSdbdmwcFyU1LQm0\n",
       "XCk5Hrigv3gRxMX9BnXzABcxqlAbg+5lutQT7In/X5rWW0N5UQhJI4s6M7sRAY+t9uCHDywJXYiR\n",
       "U2x8pPVTe3I9GZoHKOzKAC/DWefTMVWVjUFMN2qP9gvo8/rnRqdTlpf7Pwe+WQ0/tTidu5hDbDzB\n",
       "mSueKN/b/khdD8Z6Oyz6OKR+c3Xz1PAdhKce3XWXcriy1793XkrFyL6BUqYie0Zn/8hzzqaIL6Ws\n",
       "oX1iWGt2HT21G52jHhTXGkQ1PPivvP7mov1NUbWr6fc+qBWlP0YinaRxymst80wHyqZE9PwEqBEG\n",
       "0fQiyAIe6tS/ZzRKvE/QQsytFFS9UU80A+KSTLloAXd2ag23LwUY4VR5FoMrJv8RBqyauSJPZGfM\n",
       "8gk2HZACz/j6zEGWW6lkfM2VCKTLUwNjeSK020L1DjJsc4McFTHly4uyuuLkjtkmG1UGqDUQBC3l\n",
       "b3yolq9L58+fqxZ6+Eh8ZRMbWZsFpBNa0HjmI9wpRIVbatNdqBDYKkUy6jYQ3xAyCjgegD9iOS4d\n",
       "UJHnAnTC0qyr995oInHH4TDiiZ1jadDBoZyUa60tbT5UA68zVBZBFK2MSqR4R85iRtGLoGsHTy+x\n",
       "pPMnZFE6Su2pPyeCkf8dEEeZJU1I8NFcjk8J/bjQd1/rEccGs1O9aCv0ErIiO0rlI1TtZtu9QT6B\n",
       "YyvIOb38MNChPiluGogJMM7K7Q4Yw1+xNjpTRU+59iA5WlxrBAgExi/5Qjxbr+oZux9ww79EltMC\n",
       "1aJKt/A+wvwaKTnenY4o0Mrot1D/O4Rahb8BATKpILn6T3IwDXG1bwJGijmcCuq+EaX/h3IIQVpy\n",
       "US/IQavzxUjViuN/fDH2NUH9Zz1L951FiIAfPwIx4vBqMnTWOK/VCGLcHqIfpKtR+tX/63POCsAn\n",
       "/IG+qRSt8aEjsv8SMfsmFhriLKq/L+Qbc9k8jalf/obKG18exL7PWQeVSY0nZJxMs35H5QpJe9R+\n",
       "ELC1oOs67BvoDdpniC4bXcbTpCHwFd+nzS2DWojKNX+oe3EkbU1gwGs2UJ9v9ULzb+D96ptN46o8\n",
       "PB8b74Gfqi8XxExsofhPkvDo3DtoQGHLiaAW+qoIBm8e9nAON7A0i/G884DOUOEMRmyFkRQsUyUK\n",
       "g0x+Ima2xjGXp1VezVQiqp8mcCg0//0jBm5mntqunKACnFaW8PGEi29oh1DrBkLqeVU4Ppx079hl\n",
       "ivJjn+dze2oo8i2iks3ukk70LhdJkr7c/nq1WECQOY2NeKGYZk10IVodmnwuNVYTccGr7HJT1srg\n",
       "pYHVd3tunDjxSrCdtL3kH74KCJd9KvPLzlkid7t04ecKPcZZA6pDmvti+ypk8G7CyjGYMng9FrIk\n",
       "kCQsZ3dl8q4SMOOMl4nChhBAYJXx+O8+PZK8htuz6fCLPb/Zu5bipQkpX/bsaTXi/2PVHhfnoelz\n",
       "MOIuNlBZsgT1fdXQ0rk+HQTBZIqjghcCBaJvAAABPQGfDWpDfwAC1vPkc56meZ/rSVtaMc4WzC27\n",
       "m1HNZ4lSVU2gEXrKaSaPgmcAFo7gJM/uSzxQ5ZDQlkXvo57KcS5XfBPlmaZnwduDGGQJzyzO0Ys3\n",
       "ObPe1gB78NMDSQfFSZuOGADN0omwmcQj7sNmMALdNtkKpnPHuZIoRJTrP0Ux8BE1Yk+5nft8lIEC\n",
       "VYSCsmXOaXhI5PyAkXohILVa7NYgapKkW1E/j66bQ92wQvcfGsAFslGeJgagzrbgg8Z42SoKVwLK\n",
       "IEZTslTOTdeNn9r0X6g7vkN4Y3SW/SNFO8vqWYNysyvlMSEc7HDxBuj7BjbSFnMSG9TCVGBiBbuF\n",
       "7ftyRsR3/tvLW78hG+5RlwNcrmjHimHM85caiNBPn129NaTg1OeFauNJp5WL1DAivVN1LErHNrdD\n",
       "0+DEwsqZAAAGTEGbEEnhClJlMFLBH/61KoAFlDT6AAidNnJE0dBhagEXZTtqeipbYhtECzVVkaF3\n",
       "l59ZqY+IRa+mi9tH1J85pKD3RbDje44v1zQIEEeoIK7/ZjRNS1IDclRbCq/kpWc6bSyzD7b0sv6v\n",
       "QHTlmaWI4K4no00zNKC1SnUGWssmdLMzodP+a5JKUAdwq9wOfCRuKtf6zRgE7PBevZJoG9Gx2SNb\n",
       "mQ06plB102FhNvVCiQIYKfEMkMeuPpVC8gZw/akcByg/k8ijreHAh0Ybj3igva1VL3Xc8LpQrNwL\n",
       "Qy+gievr5PTFeJy3Ksgw8z4gyyulZ43KtTECNjlPasX4C+lLDO+B1UKRFSxI2x4jCWO+u6YtvFxT\n",
       "D8UkwjAvNkQYp52nmB3ArM07DiYzMCb1tKq6ZOt4kr0AU0ZDwg8byTU1FQzgN4+upQGl6g2+fPSG\n",
       "iNm9fouJ0GDuid37sAwuBXyCBHSD4vWevxsRRotkmFktrRiDLjBE+/zRSPMwYtFo0vPwcVuGET9M\n",
       "49vJ4uTNDEeDDVkDeEE7oOEx2AOa7WgvUBYza7whDKqHjXV1Ie+j72L8lfaXkUQ8MdpvSXPe6x99\n",
       "LYc9waUhCm0v8yaI1s7x8NPzpwLotMpaLlJYqn/oG2hhoIknqjJxOchopnnUj/3K/gTTmpbya1qo\n",
       "gXu7LEIQ4A9Lcy1RQBcYNFb/8ik9v1tmjGI4j2F9N6nAdL8N2t2ernKzKFvzX5iqs54CG16ItyUC\n",
       "6XEuqSEJ2r72+mxq4SncFsghmbCFiD/ObStSHyUD5I5rQqsRiZZqmUgI7kRd2pNYi1Q4fmRGSUFq\n",
       "JMOnjEp+jC7U2tkFoHC8wrRfI6aMLVmX/hUHt9F5yWEuzfl7oci77CxMTokcXLCNo0KCXrcg2pRL\n",
       "R4nPyoROG/XKaUSJKTefpgvZ30NaCMXjf41Gup8of+V4V19cjoo5aYig3bu/AF5pmDQyW1m/RRXA\n",
       "nlxK6kIRdiaVqawK9wCT50AdGsedoonv+yk/HyKj8CW8wLpYMcKObL0NL1sCVl6XXxHcqGeiFkeK\n",
       "t5gpS+TTEgZDKdu5YU9DSoaYmM+Lfo5AVHVJhvsGDcKcDIUGgRe6WoQbE/jn+HtNrwjLujCoki7C\n",
       "1s7b38iwjGmnTOObWDJLxbkQZohggLJuEbN9/33LC/x7hycMFHSyzWL1UsUCiG4Ow9bp6ewrxeLU\n",
       "S5EOBzm+64FlC5VoknHalunr9mPBJgjgT3nhKlOIlxAdlLSmFywVjtoUpe53KpG1fotTT1WSrtA6\n",
       "LiDsmKjRFhbbRJdjJPwtzXCRKAnqK7WlIjr/cSniaEeoUBoFqXlJ4h4GBsUbQ88vUBgseuBz94hi\n",
       "bbeBEvkmEqMogonx4Q3R5XYG9XaFwVqeU5T9cyB+2hEh3aC06UQK8mij9iB/sEOwqybaiDo092Td\n",
       "ovUBNyk6YRIheqVrIor3zKYMHYn9N7LXZgfP8Tmnu8IbH9GgGcE8NP1GPySzzeYWSJV+CWUOR27b\n",
       "c74dtXR5tANq0tV4bJRgiuo1Onicf50RvVpFezFQFD/Y+H0WojDaapALyatvsCx6axbD5HjsbgYC\n",
       "0ieIsmoRMI80vhEZ5hdRBBxMcAX1WnS1j9+vFI4a/viZEAL498aZqHg97GC5SJNXsSBM4PKfZG3z\n",
       "0knvtvpC/scIqmHws/HyQorf4h8E+YoNa/mXw/KVWJokobdnX9k4XXMK+27xnTgSFuHHJuCRe9bm\n",
       "ox8xYdtJjx6lGftoNzMcGqXWxOVHwL4G2+TTDbA6A0msk3FQ9GSoLf+7t/mIQti+Fie47k329moZ\n",
       "Hqiq1yTOx+9c/ED648uxtdDp/u27AX6KEMXmBklnAPk8zRtNmNTHv1bAj+4pB62/6isqvugROCaN\n",
       "ZFSIrnkHeQjbl6tKAZXz+Xusa6SCTcasDaNpJkDKGHRS2+ZCo/Bz/+IHx2A5jkIUremxNMa4meSv\n",
       "kZmcuZzCyDK7blVfIPPEBh0HEcWzEy5Jb7xxxxWKeuokW2PsCfWbngCZ0hxUM2vMyGz/vqgYzn19\n",
       "uVFPAjFmYtfTpKx7OityaXQ7aObw5GfKz/Z0hkN/n0h/101vxSdaQwWLnMfotpsuosTUldA/P+iJ\n",
       "zxkT7uol9PoOizyI/NKIxmjgkbX+Vr/xUHEAAAEvAZ8vakN/AB5ihAc56meZ/qg7ZFtDTXfACMol\n",
       "ySEoZSfqWIrtOFB/Z8z+eVquvNg9uzy2TARu6nweipvKrvZ/QFyxsc7lth752d/20Ie37CRMajma\n",
       "ffXzQeU9kb0PToAfwN3F2vebGiX6LIf6Mk5QtzAbqf11hvQmoCsoonZoG5IqHvIkSLA455N2IFqh\n",
       "jHJfrbQ/RCHcL/zl1PQfk1vSCv83hZEBu2oTrib5vwd2a5vwa5VxtsyPOO2iFc8j6c31DWl14Iiy\n",
       "an6ge0FfiAp9RpuRQpDYgEy1RtlUUbQLWPXRjKahBqGnqBFIhdDkNhD4rmO1v02ayKH7mbg0UV0l\n",
       "pAIcSzLOoc/gWg0+FHP9oEl/ePIAlGQfM2sAs8dWJC21kp3MKBZIvoBUYvSe7HqgAAAJOUGbMknh\n",
       "DomUwUTBH/61KoAFk6jDxo/+BygQALaRq+KGelZUZjo8Ry///rRQeDpCW2ZDOw8L5q8mHHuGM+aU\n",
       "7nLZvoc4h1GYyKoW1qFKXS+2BKZgIOmFqhIwIspPSS5HPvHBO7mEt0vsQTE1+nMfZVpGCCS1KKvw\n",
       "6chQTIMgnwDiS54YdJ0Zk70CFAXJwjaL3dHF2a2FnDYWSyO+qdBV/IHucT+sOGTD6jvrZju2DHwz\n",
       "FYH6nJPYDUi44Hk+ThUynoGD5lcAyfeuXMMnURUGikHHRRy7p2rYttJL+Ap/GTqsulWLyWR2aCYS\n",
       "HNz6XRkvvojiXTU5WpIZyA6J1nXh4l/ggn2fdXbsp0PePknbgzXs6bvFhfcpVumwKzJzzsWntfrr\n",
       "wDqWQLN2ORaHitj1HuSgieFmjeRfUtFs3zbiDxuppz+hxOP+6ijSYzYTKzJknSNADjSx0FmlrM9G\n",
       "LKDg5EzpkjTqNVuoolO0gzw5izmP3Pf2FqOnqbX1Rbbuz0I4ke5f86alMHR6w7JOclopz/Vxj03L\n",
       "r4ZvZR4ilA37JSxE29N15kOQGsrJKba41dmIc8O/v3LgjMmdZY6fDshFnxHvcjMJhCM4R7aZqyY3\n",
       "f4T1Eamm6lb4uPLcf72lfb3eQxsoe2TrXGlNILeOdRTko1YduUP4gF+gNKB6aaVGzIUlKGMeK0zh\n",
       "2HMdEofeuaYkiYnfBMxYRpna3rNduW0+q7wVASb/nJYh5r7cCXjRoN/cnqonfqc6zU4h5w20fRPY\n",
       "hfnHMO2AaJsmyxSOEK5EjCkLYbZ4pR7p0J3HjmMc0VSualZirPXOOd74jT5mKH9sy4Y7lOTI80zL\n",
       "0TLLN5CBobvXpKsy1/NPzAf/J/B/KBI3iiR9A6Jdv9y4TjrIghr2DGWxzDvSIX5i9c+dazx2vXG3\n",
       "M8oiq6JFW0t5CUKx7QbCODZPtyRrLTJ9GTA0VlDg+Bx770lheluo8Y3Y7YPzhvvkTdlQMQOqbXgG\n",
       "emjZZsytzeR62q91pANeVCYx/GH6FS6ThP4pj+znkhgXcCHO53osKCtYufUxTnjI/DCz7zQIX8rc\n",
       "6qxqKizkzc8rmhey/fsl52xE2nerPwE63kp8FK2orRPqAzgoP3xxd5vsIT05DsoBoNL356iK+6dA\n",
       "81J8TUKLDS6Aga7DcIARI+1Bv+14LaqU1LEmqLEp+rWIhylgNhpOeQrlnRsAOX1mDVYPOtEZtbkB\n",
       "GYNmcbXyJFfo8Y6EjPY/vgqrOPhNId9kK3IEK3sLDY8inw8NLDnIrWzXH0sgUfDUYED+YJTLNzsU\n",
       "sFuTEnDwhed14OQaVl0gH/vGRMcfvzAd1NMCmZH4IcvJ1b7EodTDar/5vb0lugK8Jku4x8G+tvFO\n",
       "2EzKm6TkdPOw/AuiABqrepjnQwDaevSseRypa5oB4JPSse1FARtGaS6P7Ly+/lk/sdto+AKbppAl\n",
       "x3ICSeHTroDwlMM/oinykWJ8HL80Xcdjq6cSEhhlVwOLeqMwvrUv/jGKkXU/0vHoFI0SARVW9Nlv\n",
       "qaduan68rPME4R1Y5mTYDHctg/5WD+6T7V+kCrKP1e/+mtl78KmR65W4mpZR8cO3zxcnX6gSey8M\n",
       "dglyimQb+sH8LagIDyIiwiIIwWgTVADKn1P0uHccFO/qr+Nb5ZdA2HlWPkqBdDhZHJ5Yt8KCfRxC\n",
       "ZccvcaJNAQ/qFMvO6y6A/y14vLOC5i0qNMgODrwxwfSpxQytPj+fGiwVweRO36yRVFXnzrUWA0R7\n",
       "ZkkgYa6fmDDX7/BMs6kEs/QbkiYpIvW1LdRnkWMfZZywsO/9dl4MS7xT/MDkTq7X0okmi+Pfl26z\n",
       "GAPcmc5kavfG57AAuztEWFcqOqpmswWrEdhGkaJm+lmJIJmXA94kA49CgLdfqGo8qEoYUCBMqsiF\n",
       "DV1tBO4KWSGxtoxuu+ZYZc2gSTgaQlQzrMqKRr5ClJxLfMuj+8/vWM3T0+qP6x9STXAvqHbMft83\n",
       "gqu70aESbwjVrzXeOwH3QqizS8PjUUzxRDG+yAzxlK8YghDp2yCnN0EqUWnzRmDvBpaGxiJE0fs1\n",
       "D8jPyKD3QkbTVJX6jVlgFuis8/2FbyH5sYU+Jf6040ni9vg2cJ7w44umML2x3WJgndQcsXzU9xhw\n",
       "/TTMIJ3YumDseakBc/UiZKDUHwdb0o3UhhtH1TiPC07QlHv7i2es6gjn2q5iE9hBxIoXijaVwluP\n",
       "hEMgpUHn1rRprMf6TZTodaxALFRFgRdQ97MOT2q/iIjNQgcI4LvqOMjJsmvkW2dJ44GsREbXg+Vn\n",
       "Iz7zVKYf4x73jgwE8KY2QjcfgZrH2jNhwdHzs9YCWzIbfBAeenU1cGUYEwZQI43gqPVpEDwrrOrV\n",
       "Y9RAagKoTANyztNWHYn6TBaN+Q+jfoCfmxG7yYVV5Nw7jhwf+WxSgjdC9U5W794wIDvHDf3c9Hbk\n",
       "Et2gYD4BN+F5kyt6z56AjnBq21Wq04aKtNylqNjHCpFIgTsnEObsnCPWPGLDOoZ2QQu7hAiu0P1b\n",
       "hhSmQEv45xeBr1Ivl6EKYsuid+Zgd4lWSXB2/NfKUHuRJF/+cCUkzKR72/r0+eMbHeQYcicHBvNQ\n",
       "Z+To6MccbkDKo/samxe6dOywjnnny/iTaYMWRoXM2oAMRgr0awuIXSszMJwX7GEK0Ti3NDK4lnVt\n",
       "NL0+d1wi9Q57tSdHEo0Pq811dPmREv4iuMx46vWCZe7z7W5kMNEXgEuLtT5l3GFaywlMcfA5ymLw\n",
       "H30kh94/VsuCA1BXAghay+q4Y6Q1vM+JgX953L6GiLtU0pIGq/A6Pm4AjUVICYhJp5tNo5bjYbIp\n",
       "PCRZpJjpcSAGd7fldroQ8VWBbDUPemgWz5MlGVWzhPm/hMqanp6LJI/jzg/xOPaAxaDP5briUWbl\n",
       "u+1ZCt6DlPLXViKpQDvKu62PgwnqI89ZzcaOAOp6d6dIF6Zv7Hr0IyszUuTn+WevMGF2RH7jrcbp\n",
       "kpJ71SJEW8DlomKQKC6519cHQce4kqAm6BWxuS0ObFs4mxbqvUiRcWjKSVN2M1MHfCK7RU2IiMJx\n",
       "Yxb9GIfhhEb5G61zGwAd/0pMvJ1n4G7NakkwfwrkcVV8/zP2BGlhwMYERIXRctypSotyQIDOGuAJ\n",
       "amPjeC4TF/2YVf6CSzbF+qVzQAAAAQcBn1FqQ38AHl7WEYb1AHLtm0BlGDCvNdH3D2MGkANEJVTq\n",
       "JD/So86fpyZO81edmo+XU6AjgI1Bmsv6ZPzkFmjiejsFp5KkRCsPv0mJKeh1RDEFIpxZRkHqaASK\n",
       "2SwlSTdQbQ3LktELeyvEYQkyo8hj7X/zxGzK26dourA3D9V/2Q9SjlowxWZMLGCAAJdDjnOXVqCA\n",
       "7lPVoM3e2lVWZ7cbqNZi9s259AvO/ej8LRyv5XT7cjs7ArtJtb2Yc+6XqV1hE9n5AYjZujClYgR0\n",
       "Ej84qgjY9XjXyMlb9c7tTz6uPxHAzLO1XbK1jBgu8stQ6R+cM1L/epJeMPWWSfYjX3cyd/cEOABx\n",
       "wQAADClBm1ZJ4Q8mUwIIf/6qVQAFS8TeAUQrJUIKOcoOIkTZTwcpGc2nM2BPyit2rdUscj3wCJdI\n",
       "ej/ivu+heE7xdflQQn6fetEmbKLBH9uA7vbmYzEvXsR0CMM4Jy/J9RtJBIR3i7HgaTN66gIq5TM/\n",
       "F5HJKOanCzzmy0Z8an+3nnnC5r7JlwK7cajBnvtoMKYYz/SGc3ZUjEc4zPP+qJyQ36KYw4+QJ+Fp\n",
       "Ggwz6IUB/oLOEL1+onQTg6vjCLwY9oEmdPUqLgHCQNjkjNIgTLDEcKdqtsDOpf267uOMUB0AXVKk\n",
       "DQZdOJixaMNpwOWg0bMH97nDR+jNer+NcFV2VafpN/J5mdNlAGacqP+yCUyph6XancO9uhKkLcq5\n",
       "4ipY3oxfRxAu8uUqcW2t4ta4pzF+WBjYdIUoDlzu9qn9ZxBiVD9/tqh8gxnW926x3/OxvxtYWwpT\n",
       "dyqJogRzz4wqmm5KpZ8haUrvv//UUWQnFpDJBLa84k/vfmxfrzXTV/2usHpIeEd5cJeHTavjKgXy\n",
       "/T/oKi7DIPIo9Nlu4TWPFnTzFQtr14dg0KzL9Lf0+1Yzl/gvPg50lKsinhZ1EzG1mwRJO4ycQTN2\n",
       "/J7/FOo/f8wn8mz/jYKEvYo7Uq0S8inME6rax9n/AefEs8SLDNGzGugll1pr3qzwK6joRia385Zk\n",
       "3QHz94SCIQduSiYTwJE/bKqtWo+TYQMNTWAZaMiRU2NdEielGTYOhmxNSsXznBQ/qd1ggIgrcDt/\n",
       "AXm72CNxuWpKoM8ELNOScCRa6Zk0Omu9PPSFIvriWJQ/s2YScKPW5NuWpBxTJaxyazCKYr8ZD6l5\n",
       "0FNIi1oNs5Cj2m3DP68MWX1CDQ1+wE1pFY8NBxGon9/TDD4jUtrQKqrJFqbEUSGlxv95z7Hk/+LW\n",
       "TNyaMH3f2oBldaIMh3okmXl/0UAyh0+YfRzHGh2KML4m7tKW/Z4ORvae5tn39i0B+xDMwMzT07gZ\n",
       "OAbFd1eRy1tKhlv+7iO62ZVvy4JawflnoTG4EzR8bdZvZaEfBo2iebR24x4AUB0Y/Mr5Kne1QJVg\n",
       "iWohqwgsy+kPYAEP72S6ZrAuDxHJSC1yb4e2ahukch08lmaeDZWKJnQusWI0zpiDPBWH1a4iO5aG\n",
       "JdIeleAf/yx2AxsK7BydCwHgaCzY0bW9uDHVCtzHaLW2TILAq4B+K9IZE4O3uCqBeMZLXLK+PaAo\n",
       "1yJF+HbX09Z55jxreseBovd5dU8qrHUEFb2c5liPjINwoA8omf/FFmuAICHveIPNjQqc/dM/LHdK\n",
       "vug7uHF2LSlOHfqBjawlMgpEP/ZnxAGiTJydITFKWaYPlytNnTnm50xwgHp9WB4XoqM8b+gCQQQq\n",
       "2NuFbpPVp8f//wHSZfO7MTO8l9M676OnOPOyBOLZg7mhENDQcDsZ68ft4UBF6SOtFdI7OpVsIFWy\n",
       "n5+q4NqnEYdqZfntx0Y/v+3z0JuaTRyYyRZUwA78RVUHPJfxPedxdjqNwGeOi864Vek9bZiTsGDp\n",
       "M6x7rlJjMnbpPWF+i5LVZbtQbi5Ieye9JZ5Ipzr2EWWWXxbMo/M2XyYmJZR+aRw24DJ8u2Hh14o6\n",
       "Sp82QII0SEUdCXRyvZj+ZYNls95B7bsAVMLOROfu1U+gHuTUgIEX6a5WAYY2+H8KshjwMsKJw9Yj\n",
       "yyJxOXksR9O/DeiAoXc9JD0Tf5C+cjijtev60wo5b1JToHcfXQH5GeiO03fLkgM5bW6POroUHbUU\n",
       "bCgiFnRff2UoIeCKN+/5//Rf1NHtypB1ukrSUR5mdj204EL8JvyhpaJwy/uEKvRLtpN4ZVnBM2MF\n",
       "OwgD+/rNcbqRqaz1+kGyw+PiSuvttLnbCs5/rpFlLB1WXPRtpj6VlHmE+SqLEJaYR/6hipeCp+FJ\n",
       "wBbvfr6HDeWNPIdTCWufPKx8vXBNPuJluVyvsicJ6GSe/m1ITW42zD3r/71JUDEqmisNDLuyqYSo\n",
       "zpr8EDg88fEuPgr59KP/PZrPwmrEEdzpv7h+tA3WMu5N71LNqLSlLQM3kD/kWxi9jIoYe9S4Y3WF\n",
       "zTK2jVqgq9/Ich/2YvVLRPCPENkXSzS4ukMwIYpmG4tUmNyAazB8gPgdtXdiE4JfGeO2UCHhCESF\n",
       "iJ4hNpNaRbj66kIi6ASRFBlzNwd3i/IuHjRMeeBzKLYEPp6Bo266EvisAj/aDDVowffo55Lz/61Q\n",
       "aQ9LI/xUt11YCHVPXPJK0qUVXsw+rQauilVW6cG/CpRhD5z1LMng6n9Z3lpVK1NyNhzHbUyggZi9\n",
       "92bDBOVNuBVOPMXqX6QCvTXsO+pVURk6EeJmaQPnSWbGOd5KzGqa5AQUnGeaQzsDGJnNfAECbvyO\n",
       "2NjxyULi8F0up595ure4naLGuvYtq8zZRSH6hVFaoEpXznRSN09hcHBVjGmZzCPweXlnVKHRJfCh\n",
       "AlQSUYTplIOkFGXUBH+GpveVHCoA/W3su+7chBuUZZObhiCrvwa5gzEKCyjJkfWlkvrEQRuvHYyq\n",
       "ddk1rGbEl7gfxfTXQSIHmg9TBT+1mdc7H8UceI6l8W6UyrmMSOnOCe77hR9X1znO5w1t+1FBm3CV\n",
       "WKP/oWvmXEVYXXkv+QESEkCJjiCG/XREVvrz8Wrog6bVF27u3j8BfK7N+O5JgRivMpg9qVBCC3aa\n",
       "VNfbHtysogv3MUOJsfGS4Ch5zybUGEXtvbKnjQuNALY3qG65Ps7Fhh/d1AYWLegGprxpD2yyMyhO\n",
       "j2Fj8wDgKVeP4LC0jDCOnq7+zQjTdBysyyFObQRbz0O98Lusff8oAZDg7WbnvZ+MC5MgbIaEq6vZ\n",
       "Fmtr6/Hb46DAPvFPXEzlaxQh9l+KDNeS3qLmxFjvRRpONs9R1TrtdCfabq7W+LvZuuPMwWHSYImG\n",
       "qDtDGiMiDtI8cIEuedAuYHjUB4CwRbS9KkLC0fQcx360gMwDPcRCQObFJe6Edv1nU65NGWJbrwkT\n",
       "gLe+kPUGKx/jzEkJOVyFEuqLorj/4c79+5PrS6tSwLAs13nWr9PQGe5Qy5MN3jja1DWCqAdYndwI\n",
       "YqyyrqsvCiM4fFscxLqvz23SDaiVGKzYdzr+iZN7v4jsH3MF5YQaFhwtX9Dxqrp43Il2Ffjvl2x/\n",
       "gJbSuQdmVNfAkgQ6Sgmt9NS2OlfvocUGCsTUELNhCGRE7LeXMMKdn0eGoeltReWtqjIP9JBL5JEm\n",
       "1BouFLOMPmn8jgWfdyjwWz1Nl4NsPZQYM3pC3KtGf7/gAXHyZw/T1BZogxSvDRbyGMMm8hTjE8Pk\n",
       "6z6x68OlPUU+E1Ki9WmmnUP0xkePKFa60ZFEjHGhk2Ft/JsbYHLRzJJDwnqucpIJlkAV9I9Bm7PZ\n",
       "WA/KeXnxyPvoxC8D9k/YsHzVfDcHMwqfcgsWhSPCPJoazAFCNDPucJysj6ClmNP7+rNK4NNVopQD\n",
       "VfFXF4GY2CbE06frulE674P254zUL1kRLEqe3Zhw0aP6r1IAs09VGqIwRBy78Pljr4Ql5K4Z1vTX\n",
       "+aX5SchfI5120/ftGmB/MynWO5F/1rvIzB7t4lNAy53prCSivTNdQ53auQbr37fgAdeL9Bf2xxAc\n",
       "ArUEVProJ85kvlW1paYGr0Wh0FIP8c9Zs2i2lxloMo/9jm9XfzU2N9XR0g7BUUBqVz95+4uR0YJP\n",
       "mc1B+M1soR6w0TbtWwctmLewhBrQtFLaCZsV4owV/Vl7gCe0KInou4Jf7y1Xdi4ztmQ/4zaAOvWI\n",
       "bFD0/37/hEO0ak7Jcd0vlGVzLURjFgvgHZuw1ECg++KTJwbSgTEgPtaK4ZZj0J8+ssVT2Be2vVCn\n",
       "0GEZ7fL+D+GhaJUoSGkvRwctdOYl6OpgGLiPw0LLlfBHUgPyL53CaJFXWWqPiCXlSBtpWVUFQC6k\n",
       "ZHNxZdymIg89yqGSJUybd2Z+BnPMtBoCIc50hCUyif3NoWHjp5yEtkKKHS7AFXccAaW5Z9uLSeKP\n",
       "R61hhd4W6qdV+Y5Skx0k3TwOZJVoF1VCe0F5mmSUDtr5iMKDPVbjY2EtTIFn+TZUzWT48mIMyq++\n",
       "yyrlDply8jo/wuCT8/mYeT7Cw1dgtkBJQE+CNRQ365hrElRVexas7R/mbujey0QzESAFeJFAO/r/\n",
       "zn9KgGBNT/3BxA6U1aQaQkljWwI2iH7gCfBLSgDSmpi0CZdosH1y4AAAAvBBn3RFETw7/wAXfzUA\n",
       "DszSJPW7SdReqfjIlpWYgc5hiOJJeIV2+8oe9D9ldR99fuUGKpS3OmF02JDvKhbA85AnxgylPMeb\n",
       "WUw5xkjvIPtd2fqD7iAg/U4Va/Amu6fDTkrh/t7wYZ2dZ+brQCsLNHts9og9Yr69R40UqCGgvK78\n",
       "NirRVq+dvI86uJiUGXrhGQN3bBkldupe0o/cOkcv2+Bfw72qKAFE4gdx3mekF7A+B7+pbEZMij/g\n",
       "685Yk5NXsj1LtEmbZ1P99GrVnbZK5pUj3kpKdtjSlcvyxs2bv9qPo6iP6O8UdlJWJ02UoBVq+TGZ\n",
       "qURt389Gk3Uy5RnvfdhhhTlOlPBmuNh8ybZNdOn8xNuJUUBK5yxQCwK/3pxMVjh9ZS5UR4nbLefJ\n",
       "20TRMtveJkNBVgamr2fvkiW7eu/wEHD2z1noHAJQ8Qc+5YLDZyXuTnkLXvMMiGipKlY3g9XNVSGV\n",
       "8qCE3AJS15k//wBww/G++SYnYLB1rfRJCRn9iKj6NME2Nu505E4hYbTsO/e6RAnB9fk/wcA/XFUu\n",
       "FGBwX4zAB0qTlZHmsY5bagLwQEGDeoYsN27U3mIpJPk9KRcwHmFd2oFikn5EYE4MQepNQ5Rqiu3j\n",
       "HosK7PzqyofL13og0T8J3bDsUeyTbj0oecwb8FPmD2aHwv/4QgcIyZA0/9Ggb1262uAZnQjhKhrg\n",
       "JP0fr61I/In/IeFItfldJoRofE/eBmatOmW9afQScYBiQs3Z/M/v1d93TrBpjTrkTua8g7kfvmo2\n",
       "eLBS3km6Buk/Wmr31e45WnRLsNngPUf/U6kKNex28+9lJoWQoo/0BYkEHXW5E9+icTtHbNrA94eT\n",
       "isIxXtafOAroV0TiYpD5x5HTT2q3l+BciuVpLZzNaQN5XBQSrduPkfEuF74LrFKgl6ODyntoCq+s\n",
       "/9SZAzfFYNUIP73y4UhvnrjRU4wRFMJd8i7rwPJTaf90kjkTTHx4NqPHPY/Rw6MYT7DUg2NxwAAA\n",
       "AVgBn5N0Q38AILeItPXlqeAjVLY1l8Yvgk73LAKa6Qunx8ITIF9O1rs1kI0xXSmN6XMZz9ZEr49Z\n",
       "G+6GGfe5fYM+fmKg1L82Ui95SAFuHoVYKRnS5PIKKLiKrLPO6PxgAM9Di3ThX5tfLRWU12eaFdPn\n",
       "MUUBMQy3UNeSJ1pEH44fp9VFuSk5JYkd4SoMxVHFO64Dj39lJVQLaWe6HTw8lLhzy2P78fPpzbsW\n",
       "h74/qXSV/00npw7y0w6hoIHRWzBfj1/7HLm71YAiTCsQCl9cCZbHYSls1Y4Rz8S/vZCApKDRCnwl\n",
       "ayhddrOl45jZ93FUdgu2zBEP1KRzEDuLnp/De9jlRUs7OePSOXFbTrzwClMU/wvhlDCrhMHq2stI\n",
       "h2aT9x+yiTcWqKQksZW6f1k1MLwXFVAbSL4Wf4nlTtFZk1Y7Eg2angNDJi3Gg8MGeupXuMRHiU3L\n",
       "nyrBAwAAAU4Bn5VqQ38AILGSkYb1AHMu/Hv9HlVZQAEHoBTgC6CBHkBaS3aDe7BsyslA/pcD7xtz\n",
       "rHRLcy7//8Vn4SfQGZOXKivR8l0oKtldKhjv4DiA5+w9PrYHlX/hKMD2mFI0tpdDnhjgbeBAbn8O\n",
       "1vmxqkTUSY626Yt5pPgfxkZdLqsLazp0JH+ehi5dpV+bgrmTaVNoYCl4CO9Yho6TU1ADVdNhk7jY\n",
       "rHFBvJOcvfEmh4U5jYRKFvxojPVhiVuoVUQpT1QOAK85k2GEErNl/RER5COmdSUv0J/4qeqSYNhO\n",
       "jVqit8z4AkAGQxetReKr42fyWh3/HoDld55XT/sahVSHUE8rQuvbQvcSi63W2vyKUTsOSf9MtRqc\n",
       "EswOqavHPk9xbNHpdr3BvZkmdD1FkEI1xjY9uy2JjdOJ1ILtQp2HB/0dQnx7UYBp26+idBe+gFBA\n",
       "AAANNkGbmUmoQWiZTAgh//6qVQAFS76oAM5Yt+6rv/ORHMKtgnYHBclD8tI+afdovbdGhYaKg+Sr\n",
       "PXKvQm1YaF+txfn3WfaX6+38ysIYWxmOslAgn0kM+R4EGksNP450zK0iKeJ6H1OG/Sbuk2TgUpQe\n",
       "0+a9r58jEhLT6Xcr+JdtNDStapKGhdUwAh46FQikckq+/Ih9y7AK9ecQZo0Kzdfk5G5mxEGT12HZ\n",
       "RCgsnyTLzi/9/TrHYKd4fbUR3x8b6by6Xaf0NxYE83hUwb8rbnETgr8JCPGyV/MOQPqcbOtr6rKa\n",
       "AMTtE09b6uJyilyDJ8V7DZaV9OKLduo1PSkF5NCEkpFaxQDvbFvsS0JEnSBCV8YHtC2kXDBqonm8\n",
       "qX9lURHGjpk+1w7aZ+FveyEkl4AQctujqm602rmYtbOUmMT8FqYH5FeMGLKSb22fbcW0ZVb8dcXe\n",
       "JAa4/3RymEIt+c4NLxkID015y6Xa35g+sre7Llo2MLeV4zsyEHH3d14KWjfqVnVtbDO/nuvvwU7B\n",
       "vlnpzdrdWw38Sq2Y5iQnboTP8j1Uj7MyTf37TuJ98ZFCoI6CnuPdKdyoP7zP9PIR3MiPEcU8t8id\n",
       "myDHGBh1mTcxwH2VtprORW/a6Bb+5L10XDdbaFdpmgpgfRtl0j2pRKchB0UvLgBwmRXbb3b642UM\n",
       "BnPadQ6Kl9Xz91a4MXHNhCMSqYfo+/kaIzysjmkTCzhro/lB92TaaB/OvxXhEOS8TUi1R34FK0m3\n",
       "3ley/3xJ5Zi70jkiDrzbiGXstdhj/0PR0HYK1JskUrLoWJ95f28mWA40qcPzUpzTjQDXBKPGp+VL\n",
       "RXiKdtU1j+GG+zKFWUQo4V0le+nGn7ztH+nU7P5n/lesPNUXnX6w8wn4498LSK98/bdz9RYIaeRQ\n",
       "k5IyHDkvfym8zeUCTEKfzgTK1RWBcUPRDn0L2aMMWXMtMlz4ujWVmyMZPHNPoVQ17bBGY19DjPAO\n",
       "cgtLNm2v1PXotP/i7VeoFzoaR0yCZe2kk/HTVlW8s6dBRxyu7hoFtdAq8WygK7VygHKCFc/rwMj7\n",
       "6Vtf0q3ggTt10kLRDrg3/g9VoJtzTOiyyvnb0LQojciYVfb0SqnoiImjukfKE1NYwQkXKWvIZqyy\n",
       "UTFhwADF18wUJag/ApU6nRge7gaZqH4speMTCn+VYlbsT906MM7xltsavF3NyJqeo7N5NotBNA6/\n",
       "GzCz+owoceUFVcIZ5kLTWEC0KkQrG5cJtJLaqzkXtKhMbElO/vJGeTJPqZbKhxJ7oCm9R/RPoth7\n",
       "abG9J05kb6O+E4EYZ0UDa33RZK2hC/P/MptpEgYdjoHH1D3Fe8Pnx2aCjm0elLrCExIWHccibR49\n",
       "ojeBiYXuQk4YJLZ/nyP1MWePJ4aXsJW0WbrWDyj6g6gOouo1gYrz92ewyuH2myoHRSDxnIxWdjlI\n",
       "3U+mxlAzXI7Pvd/JYBuc7GOcfAubYKLftFI6nvz1ExF/3jXgGulZRbiOIzzztAKIJD4zagAuOg/t\n",
       "MOK5Ggp/t6+1BzslMW4+JvDQw+GECvfAiW+/5fEtUyPbHq02H1khb9fnvnOeXXcVgiAKUD1/Uj+J\n",
       "7GY7CjvBSc0snyPTUsR50rm4l7NJM0TF13hWUcktK1puNT3VIG83TI26oYpCYoQWTnXbqtK6Eax2\n",
       "6gepiZcJPntAF4VYYBJVapw3NyNUB+wT9c1it6vd9XTf3ACGbPXRIrcOfb3RlPB5KuJXEo/MiJY5\n",
       "jjcitDHgwcZA0T5deEPqUBOUezKx11FFKOjdX2sOJZI78bTR6s1LsejvDtYvqL1TK/QSYo6AFM3H\n",
       "1YekFSM/uf18xoQn/fCNh3vqIpB4+RYopbouAD5zvXEpnqVU6/lwdHWYRPk7Pof3hXlyVB8rj8Si\n",
       "XcABs4SIK50X9HOAsB45JfEIHhgKkpmceqRqsbZb2DjAKiqieNEHlUWBlA7Py4sadlk65x/KpLtf\n",
       "rs01GiKa7elFMDI1Md63aD90t28Cla4AppBmK1GxUNVboK79qaSxNE+J9zf71HxUrvfCz8Lh5YYX\n",
       "Ce0kyJ3Hr67ZaROLs3ztXm1IOeSXy70pNiZOyvcZg5vO8Ycx9PMvGpCvDHZdD05Fj3WULaAwR2ea\n",
       "POmuWlVbLOQJFGbKXsPO1QzxRCEbT36/oPajv6YzIHAD/G2flhEXWqtNXjg8S0ryc3+g1ISrHNwI\n",
       "SrJTaXpnuINNBPk12Tydd2/Kci7sR8jit1dm3hadhajL2clBhjRUDZZU6tUTjGLroqnfPDBKfN8h\n",
       "/rQJ4xCsOZ86t+n6/STfpafgbwytWi2sSsXuwpy7FkSn/F8oDUuPFLPi51NiT5ApTzf73QEnQceT\n",
       "vkRFUqkvgYXZqFZrP9dJVf9nKGO2KdtBGzk1qjDpqyrwTFUzwsfaRjoSU+saL0AGUXiDsIsgAegC\n",
       "ayW9fsR1P0XMXmq8YoLQYRu5eVW4yenbT+PQI03CAZo4YM/8cqhaUWG6NM9wdTtegakNKh/PmGvM\n",
       "ucLNBeH/oFNBYFgxfxdBKQ6Nw9Hy5nDI/6EVy/2dEY9P54sBzoCTjxu3qiH0bfDD6TjPPG/VnKgf\n",
       "0xl2FoKyIatQ+TxvkWVoT/gdChpYz2V5wggaSQMwDsvJ8k9Yq/t1p4piwjU7X8/lkJ7XjX3OaYPG\n",
       "Mfw29JG2QCkDFOKC6ShgFBnUPS8l1WcviIJmTlCEZaaeRoI+85ou0oGwCknfcEj4jecilEqtK3DU\n",
       "+Gs9kaDIAFh0J+TO224YM9WzpueKwPn2/oD47aSD3e5bwPtaF4SGRmFSEcKwbwEcNJa2r3MXWG1o\n",
       "QRsfCqeDPhpyKIatQaa9LBblHHJVlDCQRuMgQNTPhAXeUp0NBKK4lqM1/No2IFJI8JbBjP3Z9KZ6\n",
       "X39rMBaNmwq9MN+4Jmhpb2oAu7/cJMzmRkUYyTyhxy7mFc3DvBD9p/9PiaM4KBCzpaUCWi1cYDFN\n",
       "OBWWLIvpZWlaOWzSxJYUqzqeZkRVlBGAZGZ8RfEnNuCF34oTqJrKvXgCCMGvNhkSF/vdWPSiLbjl\n",
       "BhT42leg2itqhD6iFVWNiJcqpInK7KSDks5FZtx5Ca6OZa76xmKD4usqKpMGEyZpoSTAPDsjv/Ec\n",
       "VUJZcfOhQM5v7/VQIwYyZPcn0MzAqnjPRDFtRrXP1R+usHmZL9S45BkYfMrla7JM2Qv8rH7DJXcL\n",
       "uKDDfVUJK6FV/osXtkZH0oRcOQ+1bEOoRZqsjpyS0otpf9vWJuGoMshyZ366+iZg7Qs1G3T46qqJ\n",
       "uAzCgio/EwcBjkm23w4uHaiIkU37rWzNRYEZXNCXRo86cIXQDtmTQ0ZbTdEclp5honEMbjuq7gdQ\n",
       "hW3IZ06ijKvu5YdkZAF6hSTxvPC/4F1guv/UzsfF4AkShaCq9sXIAqBC+jfLRJWYgniX1Tua+Zyn\n",
       "7ZNywgZ0V03wIl9a/7CIRv75vYYG4WUq+ljKD/CYK3AUxl2LaQm4QwRtikmh/MxPCgZCiWSl0sYf\n",
       "XVd5J2vkPSj3Qfd7H8AFR7YUwccJMNLT4sabjf/qYO5wLqQ8KVCjNXVwe+Af4Cy2BzAl7AzJ8g+X\n",
       "WsICLRSPMuefU9cWktd/Tzf5D3tS9rb0CvecS82DAmPceoZ4hZ4i95OBmu631tRy5/rdAUZ7cAn5\n",
       "9UU3YsSh+SciZQQltHZiLgLzaCnObgrZszX8IAFuB5rLnQAfydrVg4qu1DDsIdk0WegJxBhjokUW\n",
       "uNYGwVsF2I1uN7QHg/+paw8TEuOK7XOSLw20nk6McZvhK4wRnW8z+ryXHSKXL1EX2W6ZRz6dEJ3s\n",
       "I5nJKs7i5VayD4z1cQatIZLEH5spCQu2NQWHLBUVt4FQg0mkcVp+apfk/0EeuB6aDLlNfhtf5snl\n",
       "vjdX0+YEtCsiO95N//OyrQRa/RzYwpYbisS3s6XDa053fQgpjcRmKjwIZqHViWBEnOZbM6AGYPrC\n",
       "GB7IYMxTcKRSZ9C4qvxBRj4/z/uheknean/pmfQad3zPI3JSytuKp59i8LvOw+fFsWCxFjyNJMUY\n",
       "zfYGFJnIaPWq/UYHJ8pz4EXoRF7QMoCOfMU/JcJTWSfLEavixO8SaoTyK52cn0UtOaQsazZSOhJi\n",
       "7++6SHyYBxhcnat8aRllAxbyHLKL4eEAGe5JyDwMtju3AzCnRenrgyi1ISfxYAqZO4emZd2dkFo6\n",
       "1UcwYUsSlAHtFf1v7vvkXxvkDqKKeKWH2SAY7kO5lamS8uFTtfcireFRAqlmjh8kB+ijUBFlk3J5\n",
       "Md4XyjebNkJ7sg3N1uKe01fgugsMWXncnY/1HyZMkjDVzD+aNQFOLVqaElg4bJzaq0VSmFfNZEFf\n",
       "lNFZ396iY6G5FBA1jMuLoc/1F1v7pbWkY0sHUJmRcZt7nWiEmz38W2sZCbsyrkcvf9seMoAmvidf\n",
       "BPEPItkQogK6tubI1yQ8jaIjrdulEhe/Kq7tQgJ0elUJWt5v0pJ7rU/bADeeUeD/uzmB8+uswEm9\n",
       "A7pT9p4mIhrQ/o0Dym9h4x1SlQywfKEAAAHSQZ+3RREsN/8AAIbje7mK9k8B2ysUXmj6tlve6hP5\n",
       "N/EBy5Nk3km514Rl8Uaigvdrntjbd0edtyQYsFLhYgalhsTF5JUSL75I7OuOfll0+QyibTbqFoqE\n",
       "/gA4IMmmUGkkHOYVYtTWg0L578fXNS15UEMWLWgs2iLtzF+gPgw3jeGmNauuzBumbcs1d5AFC1AD\n",
       "N1CInYlHW8b29Do69SQaAZfG1a+aHqIUSI0FfofG05PmpDHomnrFUU9xm/vulK9yDFwWk3AMk6lA\n",
       "jz4vsfCNKGH2HuRGszl/A/e3+mSRXeerQY09ig8P/BGc7lrh4rTa6O709gq8bI3DHtTs1zH0zTCp\n",
       "QRydrOyTcggllzk1otHaBPQj2p/5dwOcchtBvqWq/XiuZFGEbUmLHkXA0BF39V/99VatEQTliKbv\n",
       "kXGM16uVvxkDD+deYxocgaKCfQe4h6y16/qM853RwibOUrr+cwObPOWkIibOdOQJ3j8UcfoaDx74\n",
       "ZDO3izxTxQnxq6o8pXbxMawy+ouXoluwzLAQXQtBp/KXIxAB3fHP+o1UPgHIY3LDu9xCFFwJMQD1\n",
       "ewWrslYfpj2yW9N37buG/Jrp/JZE9Lvu7akaAAtxcU8UVTmT3QAAASIBn9hqQ38AAIbXsIVrM6AD\n",
       "tP+M2qVszFb+l5QrKNqKFSEs6Dn9q+CF6zv7RKc7NneQz/7tZynyFJXwPfi6pPbdTmBMbXyDjNMc\n",
       "aEzH139bzh/uM3ofZpwVIJuWozLGqGqzyvGD0gp8dC8pF9No4kW+PSmftq7pE2ey5iL9TKPILIXJ\n",
       "x8ortt55/is0/7dnzSMlk7M337Ec82q0bjriz+640vdblGPT/nBqYSZFhTADAFfrn7UO1ibQUSIC\n",
       "EYCMsCf0/x0ZvsFWXnLeif2obRJYqbC5WB3ps4MA5/ugmWrSlGuCUBdTwJvsjUrX82TBHgoiNgM2\n",
       "KJjJWkgdtDHWcn3ckfDUSo5JZIagd48j+w5txLNhS4slmMf4wAmBjlkxXwBUwAAABxlBm9tJqEFs\n",
       "mUwUTBD//qpVAADunkgAJ5uVwoHCXbaDDBqQeefK6z6hSGTl9lOKAOPCZ+MKXXsVZ/Vi1SjIyUNn\n",
       "K+U8WGpdxPeeeH6D3J8BkZaLyUcH+EAjsgBt535ztaI4C9atQPaXAknnM25ffm985/ixZBUJe7T5\n",
       "VcL7iLDU39cNGBpSIuUImKXfsE2l3zzOXodlDLtEliXJ9ENA8vU5ZmbrlxxYEB+GgqMFLp+IETTH\n",
       "nAYijhdvA8yoHBMcqGrCiRegEvDUTx2VHi7AfPa3gICU7ClXzTd2KQIt2KycPgayAP99qeFT5vOX\n",
       "elvpvM3TlKC1Wf7DC6vx/drPAvBeoWxzt5qxK2anSXBfkjTm/Cz5TdVtx3BF2P8JDZuuSZTDCEpO\n",
       "JR555s3NK6wqcpLJ/iWjVAY+Q0iZGI4sz51kC9lfLRo1s/4yk1tM7NiQhX+FHGc8u0fhuHZZ1req\n",
       "Tl94JtcXHW/zo7d6upi1v5YEQqpEvBCPmHZaeA/o2VHJfLBA8EWgRJlIV0iI334YVDxh/sPjPuve\n",
       "nFX3jVB7cfspRGK3He27zn/jzPHMsQ4dHA338ERp01MjmH23J7Fs4kaZPj3KVQKHlLoM4zJ89ts1\n",
       "H8Ux/tW8vtaV3pioRth0WVYtoh7oGNHaiYcagQWzzQWbmULA4GLBYUUYitH8RgSQtHsxLQsMTqOC\n",
       "ZJ7S2lNJS5P/aAM+KWIBf+JwRs6tf14FAPJIjKZ30k9dY9S4qFopPQrMv6v0Hy4rmcZ+Tog+UekF\n",
       "4oo2Nfl+QFmbrHXE98T3jP5Yn/C4vO7uyKuMebvtlTeGSbwsw27AT1sLZb/0EGVJi3TMNfApaDY6\n",
       "S0LB8KI9VOrL/fVbuMk3NdDQMzZsUih5Ggg3vI7pGxfqhMiIjcPu+RR6mxC2MojZ8in/BPguyPQd\n",
       "0a2BL/VzAYSrtHHFTbYeAKAyhMNGmeC3jbeayxkgyEhuc/4YwqEAKhT7nfaS52QgbYSd5LdaSw54\n",
       "WC9PRZLXCBt2drE9uEof/cSKg5O4ob9BoOTmyV9ddciYm97/2B8dx/V3vdutW+UGccrCSfFIvEkZ\n",
       "e8Zl+a0o+bQfJsjvAR6aw37qnqeYoQSTnnK6Z/fK9zX0b3bwqXX87HDmFDa8c8Ghf9XhyfRoH1ak\n",
       "QVNxQE+kiXcAXCe6wlGKFoaIaGLKVkOxg8ikU/xMZf/xEsH2wsmCsDbsFIwQKrfhLp4VwXKs2GXl\n",
       "3icUU1k2pPHOWojREVWV4q1kW+kP09KN0CDuEnMhhwv9aE7PgoRNWhAF1KV/QITV/7zXtt7kqq3e\n",
       "HIHikN7vvSPYAU4v7AgC1m5N+oimkbcL0LOZt55nN1m/tUgbwo1r9kQyUEXB1VsVbthgxyPDetrQ\n",
       "lHIHwWNVr0irJUs0xDGsHD9+jbeGgKiH7zfSnkMaU/Oqz38ouDdpbrCjlQIkxt4xHUe3wkByQxI3\n",
       "uAVnNUjjN0HvwawWiVSyAOi8wGxfPiX9uC/PkfNOCWh5mLxtA4J5qKcKEsbvcfhMLmQiW/gYMs+7\n",
       "b367W4b59QA6mYSieX7sx3TtaOn2n/UiizXSwbC+fepSP0ftmISA1tzkxJPtomw92mklIWu2eS49\n",
       "LQRUUt/mENAtu9VRb0Nu8edpNFDe1ua6xpKilqqTSRtyEoU21c18gzOCPaXjHQuH+CFM5ocIha6T\n",
       "z1C9ry9FT5kTtG3HTAmr4dk1YGYkq4mMgigpzNOKXDzSCVNq5AmhVUTOSyEOY12JVOiyjiTuC+DV\n",
       "admUrVYCMpB5Cwll+SmRpw/r1EBzkRlwqL+Pht1q049LuCFTZfOlTQ/34vl0clDr/Cr8x1YYbZUb\n",
       "SpqUboDoUZ/amLiK+2YLMpjhsqNZTrKdQL0g0I8MrzN+jUidBBuJcFM/2FtrXlDBjNZLz/Ozv1oh\n",
       "yog95Sr2Ntpv07W5S3O71ClTiHSIXdyACy/7A+cM/3eCfK1TrryaqQQYADt5rD3AZum/tTMvg2os\n",
       "B3DWSf/khAf4RsM3xHUWC5dGMahDhsvrr6PbAc9FuDvNYF9dhlgq/YTy/6/dYuk7YU2kS277DMAM\n",
       "/KR3zeH2RGMnZql6srkcYeUxA1f0uIOrwR1Kx0SF6NEdk1hNEeDBsWzVcKPEZjWXeETXJKiss/kV\n",
       "bjO8CAA+6rq7NRs/rmbzkfZEQ4f5nAuipwolE+8kV0xriKlICg+yGNAxMGnqYHSDPoxmCGWkoIXG\n",
       "MBbXxxPpeba4hGf9YYJxQEwg8cYRE7aAxV4MowngsBxxX35dJQOGcOvICwlEMHfHP0y1XDmdFm6m\n",
       "EsyDxhw8OjsRcAwzKO+O8Ur32yv09mtvWKCivjwg8IMtQJ5ejLP0PP4kAmRamajn5/QIG8UlOo4i\n",
       "fmUTuYJY6W7sBYXinmETxqh47KR7j4kFXoILBONq44b9CQGrLIA5AABxwQAAAVgBn/pqQ38AAIbk\n",
       "ZE9gN4hnq0rdOzRHfUBkmF0lwQNX81iWdbFa+UFtoV2lBIAZhFM3VCZa96XqJ0SQwXP/8W0tWyMP\n",
       "KWbTDjFYdx5CJ80aYJ/TcEhmzCAKYmjST9ITVWa6xMZ2Zwc8IoihIN+JXUNfidAYXXwSeNV2mDKa\n",
       "zvOd9YMnTpSuU++MXQefDZFKYIW1LAadKuVr5lPZOPRyQpHrqkmUQiD42Z6a11ezBVOGOFkhuzgK\n",
       "asb6aXg/mdrXJbvROl5+HqOV+hThq5l9uo8SyQhiaDiDuBUudgZUZ84oSf4CYs6FTiqKbptC1/ac\n",
       "Vo9+k4qEym4uZySm42DLpa/zWtdobEz+3kIxT4LTae60OX0QuORDe4BTFiAm7ePYFD1L2y4KKQkP\n",
       "ELvTo5HqW6wTnnOryKf2A44YleKoxxz80SzgmLBydtLTwqK9JBJ9bw62fvlLzB0A/wAAEB5Bm/9J\n",
       "4QpSZTAh//6plgAaDTEvr4rVKgBsbDbkAFdrmko2/2Ia87kmlUyLkSSuVJW8zhwsyK1Rg7xW0kif\n",
       "Y82hPhHK2ludKGNHwCc+S/QgLoIsDDA3S7ZXZMSkZWeTqluKNcNAgYrIjkZ9qlS1uzPugB7w2ilc\n",
       "IDRjNYPwYkrVtm96A0SLHdZTtipF1DmbF9T21DCAiYZ1cvLhAfkiKEhhlvfgbYM9/romSv7Kut5K\n",
       "LrXg8lfMYUm9u5cEQElwg5BH4EBgnR+LU+X9+xI4yMRX453l1ngHYYD4H1vDBuEjoktASfh+fJO8\n",
       "OHKFNuf6i4lR9r2/1SC4HpBDTIS/Ej6mSv2ziZxxZ4Uo9cBPO+Lv8hTGa3M3uPCdREv0OQ+rrG7L\n",
       "i8jPjFkg8xnIniQM8IQGIiqfd+qzVS/A5tTEwEKMoZNmucMLMbCGqhDkEzvhU3VmtAlasMM1pLLr\n",
       "Fy4Hc05ZSqRPicZzr5gIzV0rWqitRTVc7Uh8cSnXZ2IriHN0eajkNgntmJAwUpmCzAADKCbuiGDk\n",
       "xSqCc6FYtGfDkLwnQO1JEkBhUbF+uk9Po0JYH3CiCiGZ5U1RbQUa4TjHtWvLCG38n1pye/vKX3Nt\n",
       "bHsMOZ7hQjax0/byqu61P7xN4KIjCCE5XWjacq8CTQGnLVstk/5MyLBvT9bfL3wJ3Kgm/4X2phCN\n",
       "+nO/xuSryewf2u5ijh6JyTOd0aIy0IEZjjCjaUPq8o23wtvGmSMhBeHnedSyrLUC7KPNbqReePCV\n",
       "QCiCZiIg8yqURqdaHURv+UoiWnq+7dC28whCDTOPbLizzTAeO09uQW7UXpSajyPjemZoyymj/CR/\n",
       "3aNKQOgEtakOcmOR8S41l4Aqeng/9bxg8sEjZ/5++IvNC58MtElj3dKyUEg1kDOuiAi+8GG3Z+Z+\n",
       "Gzd+jKuzKgq7DwViP7+CUtQTJK9Rel6yk5I56zOIZhwly4RI2WNoqU9u8/0gWmn4trpgI08ZHdmL\n",
       "OXZbmPAYkqFB041M0zxuAy5Vr7/b8RY6NvcjbFLH2LwjfPHhjvengI/aJnlhesO1afyQOHTb+yDs\n",
       "KwKqwSx85lN7Qgj9eJy6i50FLb0+Z0OFP3TcdTth878Ppe8XC5JjajT80nwFuuUJc085bEwkygMr\n",
       "sBGU2gwgBgavA1XQqO+ImDbH3zB13JvDJpwIxQCTonHK3BhLITTb3XknUrJ2rxW4UGwb2CvPdqZK\n",
       "hw9ruKy0Rme8Rh6FIwOJBdLk4cuRGdxtRsuoiqhLE5wgp5GV02Q4TZWmoKWyMyMwIoKCNGMW/9cJ\n",
       "7NC9WF9YLFvNbvgdjhtOdv4tSikehZgKguFUAFzgN/XkuKVhc5LurZOkd6DgHCLKnO4UpClRfdM4\n",
       "wG1UMZPOFs8KCNVGpg6WnpavreT3SZ92/5ARoFIitA99PI6fk+XO1j5xYX/mMFALtkK+ynLgKx12\n",
       "ipPjBp4a/8Zk+zYZ9N7fTvk9h3/cKcVMF9hJbayhmyzUDkhQp4IE5x6oeevowPDTkndskpHprWIT\n",
       "FMjfAAwk/Q1cSXF8EZoYd3Coz7Syr1ZlaSzxiBPW4XYFaMDOLDmJHQiHgQr2m75Clsb6qC5rTb7x\n",
       "Bbp6O5pnsSi2aKDlLEPtCnuKi9EY59UePGTVyxaEAxrzkteo9JJleQmNUNPxmwxBDJkSSUOxo7lk\n",
       "IEUzw9ofVvOEiFY8isPxNf9CWe+k7JKbCpChNRBkU/cwpP+3mkVaMPZztjsHj8Uglrqdwc0r2ia1\n",
       "vWxt+IslkFHh874HBIOuDBR/O849FVwTLcUeivlvYjNlGdbewegrb97e6DJB4YlNNEOmUeT97pPp\n",
       "5PoVjy3Um5xaAwn0WVMW5vJiHptMevdTc3iszOHngrHoJr7kAX2dokLXKxiT+Jo7GZIZbpY5Cqgb\n",
       "qcachiamRRjXdDQ1TMBSIiTSF2tVEgTYYBFf6+SXtM8aiYAl5jIUbg1mKxcKrQdR55KC46iEZtDX\n",
       "Ap0NtSJsci1GglHk4g0qtdpHLY5XF80SUT+8DNdXN8Ir0qHxPPGOL9oaABPsCKLs8GfiQ5Kg5kFC\n",
       "VNCzHH19Cmi9AERYpI02F41Dj3kRdQ2WGSH4+rjITeF9W0DbcaxnsibYCKuyaUlMcIK3OPrT9aKz\n",
       "wkAFn7/JU/9VAyZLZAh2CI8Z+00b9zBrPf6qCaekPp9XG8b9bdN/aCdgw2isTVf9dqvyPwFx+9+C\n",
       "5Zl+SwrA0b3jwETOrunf6UnpIawfjsFCy0TENHhhspef7+q/5ljHXbilEzuLUfGeWaBwnM36nBm6\n",
       "v8QAmCl+WMRm+ZS7hjZMjfoblaVWGhtey7upC71TUWUvNLHtk0TyKHAa41i5CgKoRjBGFAsGtLP3\n",
       "ngCT9QZSHgAFj9wFFcAvWxaapiMW+CaIy3zYu9Vcovnu9S5xB5v6XoOeNg2jfuyTQpFAFO6f5ttr\n",
       "2+Z3PKBe6YLlyia9XIeut69jduOhFilUDotY20D/QnUSEoRnaC2PpizKAYZ6K5fljwPS+bLCtXc9\n",
       "zN/L5TiucqNV7y3gm3Dl4rCwYmyiKV/1yNwq4MT7iSHnEaysDldJnRrdpoPy1BA1htwcFuB8znAG\n",
       "HBLfHZ+F6FU4qgkM82cAmY2KUmbiAs3yQoL5FYNApH61jGCN7E4pUbhD8Zkx73eEQSmQ9MMHXq8C\n",
       "uhscspHFW0zvwYv2kj+OTh5K9aji3u+mGEmEWMXCPT6HUOu3rFHejJfm1LkDYTuF1LatI5OWqXss\n",
       "t9S2V1xjThvYy7Cki5vgS8yPQDUNKf/bCrfJ7FpFCY/3dUFJAELNMnAW5wL9ZXfW3fRn1CU3U9CS\n",
       "QgPXch1kLSrRPitk5ceqs11hPnCAyAkjJTrZv9znD9jOrA2gBZnrJgnbvHlBQcBpqXLC3TPsumBV\n",
       "p1VptWtyYzG2yuAir8XE0G9Jt267DkkGHE709FiW+stu2yQ8FcML/EshYjoprh1nTKt9UIPar2U6\n",
       "2gc2OLLjvXnDKPcXQaRUj6fQ0VtyySbQ3VtXlEYkJ3zMlJKrT2DF8Wtgaxw8sS+D+VaID5od6em5\n",
       "Gj604sncL5uLcPcW8nVDbhJ/vS4IWHHKyM631yLDbVhxAnQ6a8QsnIh8vnTDLoORD40ourw8QdOq\n",
       "tSgPCvdNUUhWblJScIESEtTekiELi2VbPbf8DmP3JfPxWmrV6siV1yRpzGLSUbAN2POzNLExOVF7\n",
       "jlyPL+NhFJjyIH14HZNf//iM45UMNJphPnpVx9V+f0x3BTWxMJmV1YpgBw7SbEipexN15xAgJ0ZQ\n",
       "g74CjYqP+iZ5DMWq+jH34NLmkaiP/SQXokti9sz75VRnOOHW0a8r4I+aERKPx5lBNhPZNJSN9K3c\n",
       "DVeMnxdd+pN7C61d83OvPAU8L7lkG6+S4o8PmRVpbOXTlVx2uMeafVTsWYUN7OpCHoJzUNu8CtYH\n",
       "WFfndCcK4MW3bEk26/Hh257p9Ir9e3PdZ6iFrJpHjhOS4HHKEgPzj+GJJRjuKDGHMDHZ+cWqkfzH\n",
       "kbQ3Rjbp+l9Cnphd29nJkmzPWN1cO2VwD3DrwXaCuUT23aNstpXjXfJ+m2GdRnWcrENU5H+A/8fE\n",
       "DVB4nISQ5iviR9zzB4naWrOuzZxXhucKZUQBDKZM09LGJl9O+z+nj6C1dHCYoONvODWtpNUDGQjG\n",
       "ukBgQ+AJaqNp7l32sXijVnj/7HXYItDKREL85KJ8MDnO0nuffszoHVEAdLSIRHwwp9MkZgDIiXWd\n",
       "IbfTh+UhXYJ58SYXHqUmpb7JD8DdjxUOc3c9MHNMS6U1sFcgsnH/rGCtUTv6YiYloEQ939HtZ6Q8\n",
       "59Lo1a+8svl9euCr+uSHbFGhW/NB36tRiTfDpZOXW1f6izTVaotaTixWr61k6zjGFMfaT57ca0TP\n",
       "hPKRwsZR3fuleFkbDVWM+WeeEnx0Vb+AVkSxP9a9D0WRvAOd71WG0uZCpCcvcClwQ/YZqQS6FsLh\n",
       "Cn5xp1sq7L8k1Ce9JB53W7g9pjG6mPIbjUqAHhaZM8UR1oubDtpJssbow6EZ9oeK2brG8ZY4X4Vj\n",
       "XJzABfiKodFZFa9s7GZKljTrWNVMOn2iLEEbfq4OT43gqYk4De+7Ffa+zzwlFAdldVhTYIezgoeo\n",
       "9+EJlg7mReBvY863tXoMC3D2HKpYayRROEL8suyw5Dz1mLHItNraW/Au8r/HMB1mQ+azinz156w/\n",
       "/j24e2ZIksDKt7movl/zBMUcM0plq6zKkOoyPx3cxYxnfyy7KtUV9p2Rp/apqQayvCFiY9gejDS8\n",
       "pc+LBxGa3+2TJHTMLjjo1osKWQcPVDGlt3NsATbDdgxFGaHLVCFh6q9h4Rcd1nBpMdU2MRvZYVtH\n",
       "pz6UeziE1s/HciQHa7oGK8irpocpv/ifLbtPDEidyiY00vRDVPrI5xLVbeZ+CgZNEL+hOTIgz/ly\n",
       "33dV7Rf/WyzAuowt769yOrXTWwViUxsKcYdaRguHe545HizuDiz0pofYZDY7+pRGfIDeH1wYyWH5\n",
       "ST1eyOQQ5vWFt9l3mgyAtgjx9uTw0m+PAFBQ1XmsPKthdWrBhoPDfMHxOZwhHMjsGcOMzbUQNlZh\n",
       "tkt1cbUK+y7BYFAc2852+GvvN3oH+7JaXSX2OYkGHxIqis7rG3jRs3LH1OItA3Atj1AZzGXHPGQm\n",
       "xMYbjH8iUKeBhYrJclR/wXqiiqFYhWj3z0DveOyt3crh21eNwFICnMwLiPgi83taOymkUKiolujI\n",
       "ykrXdZ1tOxnjgpZXV4rd9KVoONA+p4RRhKbkcyG2spH5+NGjItQNMDoZ6UjI3xmeOffdiPGycrf3\n",
       "AehaV+ft99xScTudb1n7vpVN+6ntYUbuLAd/2c3VyabWg/BZtUvLKNVqYIDtHW566jFBZAiHA8K3\n",
       "Ai0ccmCfetI8jCpIldIFJJUogqEtlVFXdOFJMfhdysTXsX4I6A7yT+ZjYtDI4/wI5gLVoR/+Z0i/\n",
       "WducGNjMfPjUK4/tIZ78Uh1gFD435MIccQX/6xS9Tuv+0emDBGq5Z+k4YSClgQjZx4e0tvX/euHd\n",
       "IGmqG0gbPFIBF/zzsO26UOs7rnjuZums+IbAUItynA4na4qu8/VavAH2EjhtiH1QT9NLdBKTigkR\n",
       "LoHlA4spad/L55CoWXTy/fcn/8ks7up7OaSCiU2caDgc6fKyTUl5iiGypYdrBPuHyciY9XQij6jc\n",
       "JpH6qyUjL+gAqIupMb/MZSvZfcFVJtdbcIyZIrpQMHNRWKP4UyrLYFIVQyDc1aL1YmsXQ1OAPIr6\n",
       "gIMPILvY9jT5p8Vgr5sqhP621S7mdzi2LyFySylv2pY62cDwET8gYPInkIOqVsMwfCdxrD0PAFUZ\n",
       "V1wsvAFG5sAHLBUIHfKSeipmPtmRKCLd0bRAQCOBe6ewFdPmH8h9YEbJvroT+YaxtNpkc+potcdX\n",
       "e9HSpv83/b1f+lDpRjQUhD2FAY2R7kKuNN9d0a8EPSHBkH6qQtANC4GEgfJAWJArLMdG/gDc69de\n",
       "typ4hUp0lo5oWm711HPrKDSRAAABkEGeHUU0TDv/AAz4I/6djhBTgr1GSjueUevFAoTdZRK/xWzb\n",
       "JdARfnUCQtpotZI6Q4sa20TGDh0HduPCsL2mGl6jaEzrpp2VVnPwAtfG8Cq8S3pFjLNdhcm8MxBJ\n",
       "3Q9p84GuRjOKKkabdQNiptwv3/riUqOeCVe946zoJhaoDlB27Zmyl+J93dageYbTx/EAgCib+MRo\n",
       "Ka8I10bRr9giqVTQS+Z5esVIsRkzeRT2JOFtFaB9+T5vknrRjl3GWsdN+e2aVH9+MKFPwD//6hoO\n",
       "agPD9PylK+qMbL1qCMDqIaWRLIzDn2xmMJP+RoLPOT1jG2RedTFXhAzXHnFEVCSsSznNNNG0wMCo\n",
       "wl3uLgkjPxGiJqUQYiLmNcbfRjHd76gnld1wDMX//xX7scQ8aOzlqVCNejY+olU7tB+A7TC21vAc\n",
       "kZKH4pW+XX26fMUWmAx8EV0DD7GDgBmTo3YQH8IV4JfkM+aO3c1dBC64uTxEFF7KyGVAur/krt5i\n",
       "O/lyUkmKvK/u+fkzDkOVT+fK/SAAS/MAAAEfAZ48dEN/AACGvsiiyO3/gB9hJAwAD+ywTzATFjgt\n",
       "yGcCJYvpk34Cfi3XXrvJdcdNuii+ukUNwyjwIsJr1Bihe+uAJ8hd8tzFFMKRqth/Bfw6DHWygm9V\n",
       "gLW8RuYtjXCwFwErsmWrnD/8CTWD+VASJHrOVeVIJXhJZrh+ypsFFLORzOyIb29OSb2CrmvUvsti\n",
       "MgNvingMlb6T1aYnsRCnqw0SS8uqnZWX1yQx0t9d/OHcRWsj56VA7IRHgfb+efAcxX7iaca1B14V\n",
       "m2eQ8k31pzSHcG7LgDJZWIinbdiznD2TWjMKOMyFGQNW67nh5bj9pi2xFburubn6yXtSZ4EEZhgu\n",
       "1pjO6LGa8kAtmEGSQo8TNjAztAuBhDzwTCsROOAAAAENAZ4+akN/ACokbAAIJ/sYzzdV16nYOj0r\n",
       "hZ1byuluObEiK+4OChm//33bqAOujJ/dRmafqfJu0X8gQkZhi/l3ThLjpPyvTBDn2zS42twyrJ5B\n",
       "GDWppgs/6mepkiGXsdBitzTCwqOYnPbl39062IoCXbLZz2O3IQm7HloJ6cbB0FBgFOsV1VtMcz0n\n",
       "rc7mFxfTgECg/OQPI1Dg9qCUHRoy1PNQ5SV3aBuv1+g00EaNG8ZYdnXN0bEQayIuEz/nsDP0OxV0\n",
       "t0JqHzQlu7H4gHekH1bqkQFTzDkB1AVKy5sQOVkuW1cHto4LHBIRwRB+pFjNtMFe/07txGck8/dk\n",
       "2EgP9YoDK5lDH6hYqR+aBx8AAAadQZogSahBaJlMCHf//qmWABgI/wgYbYBkW0ODhYcWr61+wmqA\n",
       "o96Xz9n41WQOB2735p3nw1nizbs2rE7IVRGUUCWJWd9bk97oTgoSVm34iIisIYCEg0G5L+rJ/Esx\n",
       "eQObYP/y53qR9xk+d5pZjlkn9eFOArbtXuOIq1Ut1r2IjSLLLk2Je7cp80MblV7Mq/U3wihhqkMl\n",
       "EQwOMuco7IFh9nPQwgqFmTD6C9ApoXks8F0jliEdoElKilwQrNzFo1Iwt2ln/4RZvtH/diOrD6ja\n",
       "7RJU+qXbI/wF/SeK3FTYHPoEoaJO9q5FgAR/AXtoomMfFlsqxqIUJLdRYr7yphs1aSV9lNUqbnEG\n",
       "gOTN4E5NfUqXGVooVmFbBq4u51iUoPWsZAB2dCrodmzYu94yyAIzsFKgu1ssI8IHikabl2F4GaH8\n",
       "Do1DsMV80upe52+mvlDja0mbNp0l6sM0H90Mwp3h9CLYt4B4mE9WwDHZmplaUeBxfADzArTWCkyi\n",
       "O51sfaHCJSDUcwDCBTIwaRo/Xq87yyRoPzzJ8UDExQaZFk4FIzgnx2orioN4l+miwHOpfIJHfZ+X\n",
       "GFg2b8PgHGDRIfxfLmXE60rCTz/8X2h2dFs78vJI+HUWjYVoUmmogl/aMd5zyhrYpJbAO2t7RNTn\n",
       "aeLmHptNn4tOSwJic0l+1obLC/sxesjDU5JLA3G8adA+4NLj8d2zCNqRnRme8eCf4dMMHIiXgdLw\n",
       "6NL5Ml7OE5if4eIubwdOzVt9G9LtVBlUAER7+zExUXSjRM0H2esS0lm6kMV0UPE3utoqdhLAOfGn\n",
       "oaGD9slsxT1YnR4635oN5WxTYplbjoULKA/R/ETEjDeHP+O0GUVKdPby7jyCFebqNEZ6Yz5WlJLG\n",
       "iwne6tblsLQEQ/XUcqihwOWgRRVmd53bqITjhNr5FuhjSOGqN/xt0b+H3pJc4s88U80OGDo0cpGb\n",
       "T+6qpzgHb51+NfyRGm3BzDFvH1cYjmXO64w56OylhcxjJhZxU9X3l6lwxPCCnZdQfNdrzfHArhTQ\n",
       "D31ODEWL8YT9wI6vW1rECQvfe8xzVJyHDcuXIflj470YFnBNJO4q6AsYJjLqHVy8tqNPuRU2c1Gu\n",
       "6vnMbQgC6Td7w895YaWdRUd26voowoW51Sqw/Xg9cAMhXnSdSwsNA/m8M+m4bQF+iRpAREwwge8V\n",
       "L2p/pWvBHaZAurDBYT/QBiPiEinuQ0+5HlSvMRzYnltKL4NBMLmiW/Z1KYFIYiHBTLrZWcFf/9Jm\n",
       "pGqwll4nJtgzHK/ownjwFWcrhn3ErYecRgE0Q/8xwS3AKX6kS6L76KOI7eTZdvfVx9j6dtLvnVIG\n",
       "eHrDovw6U6WsKe5xlAcZRcFy4vRHJnf0aIObDQ86tyOChj+fp5opFQ/3XSdcGR0RS3gZG0dcI8V4\n",
       "cMKJEcfWSn2bx7HyfezZJXC9/E1z9XzqgcuM43ArWvwT2dVd3aly+kyyYj1DO7ym/ynle1h3Lxke\n",
       "FM8zcBgAIDrNRYPCIdrdMmzVYhDQH1YRld5Bs5BEVgFbMVVoaah79/COia+5VcJlUl8OIkPpR3AF\n",
       "srm27obdjSjhEVriJfucHrct0uEX7TDWaQ0eKJGXW+IQMWDdOEQVKwgJEFdzxuHg8p6fnx/FUyIe\n",
       "DEY48aaDZe4sJxOyf0HU9YvSN5nTVj7/7XBdFk4NfA38bm2FUIFc518uZurlUm3YP5HIisf829SP\n",
       "GwWdevDUgT+IP1ocNru004Iq5uYSB+JYtkoSg51SVVoCLpi+rn5uvZeWoIoWA3T6Q0/05YKZVRmK\n",
       "lGc0xC3aUCgLKHEZMpMMxEf/GaT1I9PR2XdlOWboLYaUDfQvWtd+jhylOFx8AYXa0YVikX+bKSMI\n",
       "aIwFaFgTkoHwtKD/m9aAGKTNNaWTJkrpiWRmRSqkpQlwouqixvKKBFBOm8XAK/hIQxfEg5aUfVKi\n",
       "LKLXfCNoYDWOjCz1G3aLudeNUvpEISFRrP2YUdERb3Hl5juqtt1MeT0vFDa3jZ2B8lMTgeMf6vkQ\n",
       "ypHROAAOaBc8iOGSZcic6H6TCeg4Nk4iG4cvKb/VO7Z8u0J3aH6Q2JOQ+RYw6z7jUBVXwolH3fGO\n",
       "OxzJSAgdzJV1CGl49xhKXctDbbEwpT2SbPxzaqAE/28yWMAy6aVhzmCmDonqFIHhaabMYc5uFoAL\n",
       "maZGOrFu81yt5ucb1VoQpWPj1w1gIjzjmDIWNcnABsqD0Bh/o8QOph/Qjvn1swZupcmIXRfvZpGr\n",
       "Rtfh8wAACuBBmkRJ4QpSZTAh3/6plgAb67n5N+7Y5QGZlsTyHrF5B6+p/fHvqhHu+E3jPZWeXSr8\n",
       "q9vH844W/R1a30Eov3eVEq3LgctsRAIwF88YSf6qLIOgJuHL/zDbaitRVwbR1H0zMn4KjF2ZgnrK\n",
       "1kU60YJKte9umIhsEFlxKt5pUbXOfB5esOiojLTlYNnlw44X9YRjpOfpeNykyg2ayb8IRZIF1mJz\n",
       "Une7PQVC4dfAcSnpE4qGyuWQmA973iELoiislxrxUXSs1aLBcTqxuA/4ZWaRHSHjMmirlpsHqVri\n",
       "EHKKoOp31n5v1hXEBR/caWn1mcD48Pnz5x3AWuLWndoFZlJUFJdLmjlD4lYibHBfsLaebXuGZwEZ\n",
       "+4kg8N/Nc3gMefff8PwHuaqFYwf/4m1QPxEVZzJpm8aYDUrsCm8B9pIRSBWTXFo15jQfHVbQQdu2\n",
       "ratUyu2dKGR3N3DYFggtUtp6udj48Le5lUUQ1k0uKdybdii95S3rHiwrG+5XefI3Ougy8gN5crTs\n",
       "fA3k0bJ8kg6nG/FvOE7J+7X6GYtrhZyvFan14XcEfWLF6m+cZC4iFaYnU1NYBBaW67JLFf5RI5EV\n",
       "PES3PuuFvk7peqsB1mAYLt/P/g6lWiLzz5ILLBp6PEWbuCRZXuQR8gUJiT7LsfvrA5FMoTDo66IY\n",
       "b409Z2taYXpp2O8DH6TLAaAPrY6r0OpKnMKK1DbXcZvGboikaHgUcqZiWOXhpYGp1guwchQ7I2ut\n",
       "iz3///OWVRoIg/+57fal8kYSskqG0V/65cl2RnIN0JQvMFSIrT0EfdL3GNdV+qntCoMNHTDIjTmb\n",
       "z/z3WkTHq+3gOzfksLAu2C5w5rOvnyl5+/z1/6i3I5C1Ll8BWK3UJAHpp0DgYFYJeOcAIxW3Rsna\n",
       "cRtbd36oy15NYimTBoOTHQ65V6wkdI33Fz2z8v86ZAI7weYHgR4CcO8/6AMSdTgVdloo8G0sH2d/\n",
       "IHyzzGndcLcCcBRzwVoFoDh/9+m96mDeity25BvDgJOam/ATeOQwDgWbkjlLKk0KQAypN+aGHCKz\n",
       "3YJK5jKppKfgCy7kLVDRuep0YmH2e7TPz/023qOStcIqoMa5NRZbnq1OYqdu+7nPzy9MMB7ZADQn\n",
       "FK2r77qoZxrODoCI0DReqUNFjpHBQRD+ZZ3FXffOyFFgea9P95g83bTL2uMbDItdp06NtHMzTHE0\n",
       "qQDBKluCLt1nbKspUX3CUttM612+LvOVxe5CASTh1VEfsrrISDr+4SfhFMGnutbovi77nr2sJy2D\n",
       "Jj9HcqWo+oA57LgEA+seKeDSg/JZL7N1ODXRFpwel+ETeNavma9xZFmzO2MoK2Huf0dJ7nucmkpL\n",
       "VEtvT1CzhwevjRowi6f6EEgUb3eh2wgIP/1Cd0yZ8zYufl2AcNkzBz0RX5OA5HOcAtoqxGrftYZq\n",
       "9Q1ELmxEV2U9Iq84XxTXE21gJqDGdw5YJjPcnQPr1wi5cJMf7nPoQaVkoRZNeZf7a93ivmvg7E3u\n",
       "4HOvpGyWLp33bhajjDpXnp4qZsNypTm4sy6JmbMXs+4IgmYO+4fwooqun2wn8l2vbt7Bp91S16AJ\n",
       "dVMzKTZ4Dpbx0EqkUzHAMtkPsX01b80lUCCnIEng6xGrVp40MSPh9kN/6c9QKZYLt6caQ4FDKZvE\n",
       "Rp8vZEMtcH+Ze5gNd3pS6oGE65iLwDGfsY1OZTwqyqADysr2+dUhSOh7lh/8O0v7KHclWOdj4WFm\n",
       "qa/DmEa14bo48Q86dk33jQPrRi/QNENqsxS9fqNqLJrTUfhE5pipB2iSGnDvRNaIUXu/RRN+/tyo\n",
       "3QENfKuRgpuOT2dNSZZxY1KbzneY+UIwYdckRXK//68r8sbuQNNFpWnkrfdMeQuzvIQugVqd5ifX\n",
       "x9s2fCEGgT3ViUK3DfvWtBkErmNSzZJ+QZSQe718eP8rufyGJX/NRsumwQV1nzqVRb0gtMNRsmu5\n",
       "ddzdINYG4pEKq0lx3ui5Q3BUuLONM9NH2uy01bZzB4NmAV+KtbcoZJ4RMhcBEeQuFfeqbCso0tpt\n",
       "CUCjbFQZpn3wI1GZtTEUu8xK/Q9n86c+20Cw64NMvyv5aqmHlF5RwCf0mNhNv72wxazHBiVwJYta\n",
       "94hDJ4wq6RkqJwmYtPbdWreEeK7Hqfs3wAyJaVijy+oMwO4Bbfq3WVNhstk2kLUMyFEPAP1DT1VA\n",
       "Wv//m0+5T46AHrn4u3eknKVTn/eCo7ZLjdsZfoH990vLCPD35POd7r+0dC53+D4TQW1X4MCUvpUJ\n",
       "A1FwM3ZyO6C4OdxAcAbm0uCKy/P/w92ZZAJxJDcnE9YP+J9S8Plw1y5RMFCy2x5cf6DbYUnquMgy\n",
       "6WJhcVxlHbHBJwt9HEMd19DhwszwFmQLm85Ae4PA1VcCQNBByAzIi21EzFoAExL+Jg9OwnpcVzzo\n",
       "VjT0gtsr6i4cps9z8t1ePnAWDRmScCYkyeeQ15LriQEUufy1+tTlP2jkre6FlidSEs3yEoag6IYk\n",
       "c6uddORyM0nPCJ2tuI10fI4aes5LWDm2CXlZZcCAUBi3gHAjNKQmImZMnELx4kC7byuveJC+Xx5u\n",
       "gvnBmAwLEJ1IkXjpENnI7VqfFdD6rXQ2Pay0HtQITRWHSN4lwzgXg+tulFG0+u8xzU3KxRyU9TZ3\n",
       "8WydkL22yHaDWr0Z30dI8mVG0FCTYkfc1ExN/89ExDfNB9LpfvF0JfbEHtHQqqD7JKGIMhKiPwfl\n",
       "HgZ9SXPEUSr7KR5Tk1IPb/uh4T0Ydu0mxSehID4e329COADFxN9IOVOMMwUZUlPTG0gOslFy4AS5\n",
       "T9bOCu8vsn1636PlWU+oOqjGIYwcpXsAZbOOwXAaj2iuc9uxvTQTiowR1bGm/utO3xlwEgYDd21k\n",
       "NOjRA37RRH86WKRY0cepKEPTWVgEQsifd+piwS5j9++aEzm3z4HscvsJm8pV+QianIQ0jc9BObp2\n",
       "+O1Wsj70kqhiAY1RYj1HqwbvT35Rm3GcMHjORBBN9uSI/cegfyl93HkCbW/yUlTxaFrX0pxWL2mR\n",
       "uMRnvQQ7pXiHhTn2GtE1+x8bCmBeEXJw6ewZyKVSHDzNlK08jJanILmyvMcC2xgqbWqztlWfrHsd\n",
       "sILpx2i97UGgbA6JB8hTAkQcs/2tKlf8+SiKqojriGNmYx62Uiiv5EJjt/HrQPr84DHZsUYhq7WT\n",
       "YGA2D4Z6mgJUZAiy69tbVGLrCtRaZ/hiagRko0N36AuJGwyeFCNmnme36Vo4sUwVvNtACfn/Oj5+\n",
       "mXhCmVEKHh+xTAp79UitGrt98VSnIkITFksOv5aywO/YxZMGmYU9k6S5nKFuZfwQ6XPudh1zFlqf\n",
       "52ufRJDEbRc4YF7XJSo6oeAeOGZO6FPJw2zB8OPul9AnH7vWZOZCIPACmyWszEULsL5t0fPMA6XW\n",
       "SCU6RBRNzKM39DEsDx3EmgyaEgQFaEl6UcXeHAaCeS94aEHziKIEW1ER3i9LSXYFXwyk/osfvk35\n",
       "PFNNS8QiTYe5QE68c8ZnKtjdpvM36p44bVVtwS/sqWiZXz/lCHT4g2Re8DRr7OQMuQjW4TnsLxSS\n",
       "NnYRetqkrQc2JO9SW4CzLmujx6TxaumhJHfZ7hYl37c74UxBGVASGQ9Y/QJZFAr4QnKgxNrjsjRN\n",
       "npcGbv9K4I3PnigBkErC4TUhnCEf9fDVnlk8iSh9KYFp2OmqcU1dTNvV352r1fOn98rHj/DOZFQA\n",
       "AAFdQZ5iRTRMO/8ADebS2XgEF8D8HvtmbGtO2vnCQN6QwySppqAIGkS/E0q5I2scyLu+HEtEWxfq\n",
       "HMACTJHh5ACQKUGOEFcdq2fGF+k2nkARrkivNbAJWTI0L/v/DdgERRW3i8qTE7yFB6fA8VrQ+Mae\n",
       "LQS/fBVH4jheVznWyqeFJavmV6c749J4Fz2JooI/YbIAlI41s5vXZYmOHrpHQbSgPUIHVaTUb5zS\n",
       "cRRuLJYmxI2mu2ibzHFt0SeVyBe7ZNHTJvJSQNr9qP5SjcrrqipeSDFO9yS//t4R+U6mijWYvaGW\n",
       "VhYUL2hkXQh7y15PzRz4F263YkqAnPBYFMQHJis5b3Wmwxx4vrZH30enYwBt6nEpv7Oa4UVPTCst\n",
       "x8W1RaeFq3M/72b8yx71r/wZkr8v7WRs6xRahP2WkrWwD0kHJYt6f7gTweVT8GawC5vxJWNc8diH\n",
       "pdQKlX9wCcZzcQAAASQBnoF0Q38ALYkQAAfxqoEheHtQuUn6nYOj0rhZ1k4F45ZKVHal6jnJXQtm\n",
       "nkuDZ4GSu4uFzS2snxVHLebqeESIXv2dQpqv+OQ/gbjbDly8hQAmUJGm1X3yeVWby1wQJx5b2b3c\n",
       "8t/vokvMPCHz+ORgMiSlpg/3ut9GVhMRLwHdySglmdKOh1qE+dgOwZJg4YR5omPpON2U6xsUWAoL\n",
       "tQodp3qJPjZHDkVQn8QBU87p5qWCtjzRKyfpK+sbotFMWCgpg3qgJ9IbY3QbixpL5XWTlAR1HJyQ\n",
       "w2Q1a8FU4MG0fUEndQX4NbJPrvwqCSc+uAjQs7g+K+36htMqvCQbhuNlyhF3oMn5I02ylHAEf59B\n",
       "5+3rkvK/jKKT38q0BCoYczulHPSAAAABRAGeg2pDfwAAhtevta3d4ACtdf3pcMaNySZAaauatx2B\n",
       "KEPcMzk7LWuhX9ynSk/UUKTDI8GJvT6IXXVGZScHufo0KBMAy/fT+9cbop9yybjbwF/ilf7WDnCy\n",
       "r3OIEKTysu6N9yPtq+DjYC4d6MiBo/AqFXqHTu25gEdD6K5FAAXFIXLHdcLTAnKwVArHJGkdCRrR\n",
       "2cHRhgdszYvZkvc95f8C5K34BNTNaUFll3ETnCHAjmfAa/9sdOe28vekiLburC0wt9rItLIQywmf\n",
       "tnVZIKyKVr4yUM3ix4N/Ok8ydwykHfOXk2xk8deAMpHZJ8+AY8vyIM8OltgxRNpkSU7zoCORnmXC\n",
       "/AxTHUf4NkQaIG5UrUcJES7GhXqiBrjYKzHF1whiRtfSBVU+VwmRI/+i14uU4l207RoIQ+wXPF1I\n",
       "7MwQkJ5iwQAAExhBmohJqEFomUwIIf/+qlUABbfE3gBzP8mgygsBNHJldGG0nCy1l323b7SqyDNT\n",
       "3+ydriBArnGWYUrGnnOtd/hcdHBBSmiBJgkNJkB+euv4cwqUOYfFALaB9mneZiblY1E/t5x0feub\n",
       "i1Z36QG/bQNYGPpHCgORbBWgvzxeiRfxfLpgO2d/QfpnTcUmRLMRUbgZ6SUsqJ5dgjbrF5vQcEC4\n",
       "tTrgRRrlJRtQJqLHy1j2wcROpY/sKN7PdM0vKEG/Uuj8l+yH432R0gp/kHna7oYZjtqreLXT6g6h\n",
       "NWms8Dj533g5Kgo8AQWZ5JZoYy+kUTZsYU8aj9rQAG1p6vtKe0oVW60E/ji//4OW1gyuZfHrlEFv\n",
       "KNKyB6AlXXyKn4OBiiDBhLUmj73eapPstsAIRMjh96GEZcg77KoUOmZWuINCEwcmxtSTnmr++X1Q\n",
       "+/Qmra1pWKkxeanido/Gw7eDYEkBx8uaHSK4IrVl3297zXkycsGbU1GobZ01uq5vChsiJftAEny5\n",
       "5DvEbm7SKRmX6FJ1XpADH0p6LA0hVgJHEGQMzThJ1UYvFkJTMK5tiww7wxdSbBDAc7h30lhfls3U\n",
       "oRkHB+zgVzFeBtDdP0lJRxSIJ9BCRfHyL0eTT1aq/1B3wKZcHDlmK94ZDYD8G9hWFF9IiyNEfrDt\n",
       "uOK5L52R0OjuXlgD68zJiQlWh5mHu7DE5ZrSt9LCatZRStfCkqIkPx6nDmOKln7W8NeeGK7KybYT\n",
       "z+aMS+85MveSqjj42ilamvUlAd5kg15Xxw26q6V2z+ezcJcSOXdGEFeDhW4nU0A7TNhFnioFTOqK\n",
       "vWP4Z364OARa518hnOZLycum9qmEjQCWA9XppJQXkXPzRaGpGXxpcA1w0c/UpgYdCgZzrghnmNI9\n",
       "CZFjIMqAMF85JgAfJVsvfnAkscMKUC52Plh8FMydQGhyfa32U7rAUs24n5NGe1iVdO1HAFtLedyr\n",
       "QToQe48FYlg3/sXJwsCHu42GTyNDzAhTXJVDjS3THNWsZij/L3BIFuYIp8qWckLsKSTyMD1GDWaG\n",
       "//8oLtNheGnsPaq1hxvRPcGrRyhKTDV4uhZtpS+G5+owgZTesBQxMV2FHaOb7qJ1h+xV2sj9HljY\n",
       "l027teSISfXUHof5i8zuXzNkyULx8ZAh81Dwu10/rdu4bFOHwgUEIA97UF7s7k4AS8Au8Iptz8+6\n",
       "q40iVpfi5VpUxZGTtOTfqsTjJkSTxhyUulM2nG7iPv8IO75mAqPRJ+rHP8OkdrWM6zu2z+bxK3P9\n",
       "FBw0U6S41GcRLJxENRwEkzj6byXjbndAoVVSgRwCLZPj49ajyN6jzgbR00wryu4AtwPpPLxn+0BD\n",
       "mI0jFxWjfW3c+211eRQ3cWCweokRhSevuMzBzH5lwUkgshJkYps45546DGDEsH2JjFkZkn3y5Pbe\n",
       "igmpa/Y6ThU6eSQJXklnUO2oLt267JLTyLxxK+cOM6hIsxECp87d4MFKsNavX3/0z+JMh9T5q4kD\n",
       "ThSgNVugAyEwr7m/Kts55A9iyhS4qLAhi8rnjxkhvmbz/4nw61vCkLs8Q+0Wkl6W2jwESZldrFE1\n",
       "W1HqBLLxuqo9l3C1KS5584oHBKFVb3cJIHsNjghhHlNGIpU8fDVVddYNelJcnYIwVnaYhgOTuptv\n",
       "lGGz6jp+bUQoineIJyq23fgPzRMo+sn3OOiZMn2jP3xwk34XYi7vRVoAi5o3LwID2YpysuZZQwAl\n",
       "MBCuRcdrNVE6XP6r8DjzawIibqLRcOt0w4TfEwqV4nL9UkHUR2C0JPmadBBEdInljJ8xk7giJiIH\n",
       "Egk0WHjf1e1TFoKwIs8iS9b3P/0GeRKk9IT+V1riFurR1SAz0Nl/d8VGK+fo6J52WXt+pCVy+QBC\n",
       "+ggY1AfJHW2BrjvZae1ROPvEwI1+ZNsFNe7M9pZBARTuQyOvBxT6AZtswGBJT5eS61LmDKVPBHl6\n",
       "QZ8xydrbZsGrjYlt7n0/OAf74p4TvsyWI4i/y2/PdEQxVVs1jPxSSeKzU+xq3swyVPpFztt237d7\n",
       "+lH1lSKqzNarPYFsT4PSS0t8MM67DRCYBMSeSc4JLr8AiUIJIsY8Hcavqfl7Bp5V25WJe/3YQA5d\n",
       "0D+0ArQzaw0H/UwKKYsoPbittw+1L0sVfHGfk7wfpjJl2lsv+fkIOSlEZUel1oE6UWc+WC6I9R13\n",
       "Vi3glE7RdoiiWWU7kTm1Bn7zA6R1hu0ta5nZdINX6r457LUtMoAnutmCfa7RCCA2X+nYFHcicH25\n",
       "2GsnkVRZQAS2n3a1sgItBokZwQwkXW6GjMc/KTv1j75ZzoQeXkZqgYigCDTVUsgw12fPriJ6q1aH\n",
       "8mGckYl/vr+/l/3Tc+ji4oA//WWG9//1hvxH/pSrZKrrkaN6oj3zqfAwMvs17D/Gm5WWRgVvWfuu\n",
       "CFiWRMML8MYfG4NO+UnO0t+xk0gHt5KbPpjup+J0DhkCkpOgy0v0Y9EFJWmTrv3OtFEG5Vuw5nj3\n",
       "2pZzf8jQ4AAWi3tnYE9t5uI1KtLLnizgrqoH2yUF2+nqn1JRzN/rHBAZGkxhYc5eIq4zee0BtM76\n",
       "rbqkjZpQha32IAacSsFS3xUmBInPsjNMAVT2z9SrKDcvk5aomnJdr2ppi8XpcAybGpDMfaYdmN4F\n",
       "yzaJRoZJLiq5t+aQRNjTgXWC0cq5As0/86XRbjshuqR8cz5huplgkNDwa9Ecl/00yqCmKmoeHY4G\n",
       "JYKi52BpVqbf+cGdxc05YVYM7D7iMv1FYGZwmN02R61HR18k2KW8m0WTl7LJrdhP73CrpjEANAw1\n",
       "RGkS0OuP2Db27W0RR1PCMeqlM0sXDwDIAAFdRkFGt3BuOqtg6qjCmqAS875m/MFn4krOgcr3lrHL\n",
       "Wsw/ETZ/rr6Y0ieljyj1wkP/tDxmi9bNxbVZMroNDwGLub5dX4sqQ1hJR950RZKUgHk4lT9hOn+2\n",
       "18vr9TZqvCyCZxQ6vt4i6oP2foujKysXwtWcVUQviyviyOtKqXPWRZJuIa/79cJj+h0rtVoGxdgl\n",
       "2ZyFIjzNDVZjycr14bActCSGCKI9GZ/LP+1WZE6QRJaQwFazMjFGiy85rDB9OcIHMLI928WmdzTS\n",
       "6N5Echho80FlyQ5DTCbZ7dktUPv1u+UAAjzwpZpziBghtVa/fLPdU2HfkUt7qDFK5iSJSaqCgGo3\n",
       "UqCtRZsr7ymb2HSMDLJ0D6OTiPV7xEW2Riuf+FJlrmrRpmzv5WAuorzoaErRenCHTDXfAGH6O0x2\n",
       "jNEmbpnqECS+6O+2xe86/veRx3RMAVwjLDLO6H6CTCU6Szk32UD09+hWV+3aO99tEJZy00jT/Jam\n",
       "VgSf88ABY/A0EIaykOFWw2sNr1VWhAgq9UUorOzQ6snKhujQDDOE1Q62nWOq6ylI6hYldjTHnYGC\n",
       "f3NYF9TXSzFNypQDF0UPpFUDb4X+/Z4uHUPgTAAcZeO24LoY3hdvcGv5mqZW4k79bKEAz6N/CsuV\n",
       "okKbDIOaQQ8N3LxvSG8+lqIGaY8rFqZngLe6p61pJUPN0EwphONVc7Mn5+GAnFhOnbmdVV8ipyya\n",
       "+HcdXAAFP5KXUo7qPDPDkuRiOg/pCv3ontTjWjRkNeC9RGo8Sd4Xc3g7lHbAy3cp3HUMgQhgAYIP\n",
       "QHgn6g97gBBaJNFIFtR3Z1Sh21rAenGk+/P8NTShJKfGd9pHiXSXnfzkUoyallO2ZdD8Y4/AR0jl\n",
       "sTxC7ViS1FuS+9chAFRkUsF+NZWHKTdaAdcfmzRf0CaNycfwznKsyffxzrkBSXRzgZFLhh62YUub\n",
       "K29dkp6+y2gHgNOpeT/L4Vv/od10PWy1snBJv29gK7ycydEBPgTT1wO2jwzMavCfegs3w5JFmOMW\n",
       "foDrfA5TLTIxJc8wI9ix/oISOWuzBDnnEBSoQ9f2p5uOmTeG/RMyNBv85TIBxJrMrNmTEVGDqpz3\n",
       "mZUXdcUbFsXzog/R7Uo2uSyZcL2IdVVei3XdH8Mzs6l+fUCEdG3kmT/KlAq2wd9OFATSowhcM5P5\n",
       "rNSAOfbzIWZ6K3tDAGE8MrzGF9zUBMXU5Eby/bjgeTDPNSNdf2jAvmB3oyFCd/naNfKIEVghLljg\n",
       "6ojvdyVCQVhmzAsZhRjoRheh9qOKTkQoFaqlk4366X/ke7+KPbsfU66khf1p/VO2NrAosPez4pxR\n",
       "RxMdP2xxerLoJEmlvnqStRR5CZXCNiFojzYa8G49p0zao9TAIheF8xoaUONVUr/Ya1clj/kG7fLy\n",
       "zNtUNmPULcO47X/jS9B41Y0/TaQ2g10ovi5lgtGTJZAf72dCJ/I3M/oczQwBi3nOCpIqBKE+kEFC\n",
       "bFEUnYDhdckLiWaZKpS6ktlawnu8ul2A32tamy5qF2NdwW4uwESL6OcW8HU5v/bJYd37V1COSZ11\n",
       "EaWqSWVsD79bCv1IBgc24zwCta9D77luq1tW5e+CU2bYtYvdMM7FgtUnxOCnZf4bHwesK3lkIU8P\n",
       "vmbfTVnny/wivDjfM6HgCvvtYdxEAvRDvmbST93yE5mPLuSjYRVhBseCapREa86MLbQ3ds15hRK0\n",
       "byMSqZfpfsgWMyXAKNdQIsStAM3DgaDSXETaKoIntWF1AsxsriBv0ux03Q7eJOYArAwavduWpPgy\n",
       "/3DLZbZ/QHl9nwjRbfkobJ135wKEZ0qbnjt5x9x+MwFGgqh33GjJxki8jTDYN/zQID6GS/Okj4ph\n",
       "lvNcOFLfg82XI4ziD75c/O+G2gmArf0nxmWTtsTR9nbnuxYGEZc7StjDjdi/ZE9sSU+BEvfvyq+l\n",
       "rAXTvDe4/8Pi9ESFDfVTCoEO3saW2OEhNkpxBBL7JsNSBVVsue7dq14+oJhAGB871J5GYpErtvbx\n",
       "mY7jb7l/GQPArvDJ2MsHR3QcxrocQlua4FdCtiVOzB6xokLG7q+yvu7ULp8p7/to1rdjXjZPwsSp\n",
       "rt347rb/LHlCZdDL3jpdfdrvq1DBJ29EOy04vAJ2qmBvYIUp2asga3HteHQSufvomKtKqRcAMGVY\n",
       "23Odf55cMlSxhKWReEaD3MXpxUdy6zFpD+Yt9t7YS49gxTGrduXGj9MwVnrGL6o01EEH8ZLNG6ib\n",
       "+RHdV+qOAAQH8sWE1H3fLqwthAtPNcSICu0Q/tbFVevCdYtJjcIEngBexeizcw4JOb2pg0SooLxT\n",
       "WzWc6jtlYQUGd6w9X85o8hOaCncc2ZtN2vKKBk7FvQo6KezTFXWBkbfXXP0Mlf3d7w+2+I0I0sTn\n",
       "TDAQxTzEYOTvFCn8lZ/3kjPEvfBGkxTRTSiVoHelFbavBiwka3v93kX9Dp7cfzmV5Lh8Jlu+HcGj\n",
       "2Lh0GGN6+crdSO8kueF3AROBlwgIZvdAA3agkOcH/eZhX5AuAzP8J6X9AWOjp3BN0o7fd8PT2eHW\n",
       "th9DjLFcZexwU/KwFxPyVWBE6AD26DNjr39g5ydRtPSZrZpTPHfUHQcK3DjfC/A9s9K5t5RpU1Qr\n",
       "P/803GrHhfYG76okQbKfNGaD4Asm7MauX4SReGLjyvbim4j1yhtX3Q8qWWFItapXA7He59xxo6er\n",
       "OkTNohMglQi3yQYe1DuVkYts+M7Ln0SroRzHXPEKN8u/uGJyJZ5SvaQA5RjP85cxoTZxSsPqcKl5\n",
       "fHDi0ylEPmMavMfvk0EWb4nH7nL10l6yWGnEDYUW1LnPUC1ifNJG3eY28Tr+ubGo6xGmeFsXE4BI\n",
       "fWhRMkNkpHrqak7buCSfad5L6UKRnoCVuj7h1Z0iPb7lDye907FXEoz00shhXmU8HK7RvhEmxZM3\n",
       "pVEpPdz9bMxU0LGvUtT9mgdvyd5MMGE7n3NNHDkSps3Xg6VFKcbjcqsxOIDm/rm5ZqiGgWprj0jn\n",
       "az2Z+WHDWGxbQrzDL0mM1+AWxl9zF4XBTuZpqhT5k6V4fiQ3wXl0UcMKy8QsWj1L5sHK8bBapmwH\n",
       "f3hv4XR0FJZS5SbziqONEAMdZJgzudg9OU+18YBvr2/D1Z5LC9Fxd3Dr7yM+mxmfOV5wybnuH+b0\n",
       "l1uLygWBT+LQnwy7t7unriuIzAOlBm7RIYuT65EzTcOkEXAvlaTLkBErD6Lqb9BJhM8FB/WG5MQY\n",
       "1wqhogI3IK/P89sp3dipVUDE7XzHkZGlxw35116DxoENDv/uXOD5EFsg2LU5CHZnVJz2RRkmVOE2\n",
       "PW7QB00BG1rKrwWxtygySi14OB2UFu1Qazs2NXha70zY6pRv9fY3VGy0yMcV22IUMBb5dyMd75Z4\n",
       "hPM1sh7cscgWFgzNuWmONMkMcM7XirLbuaNtky2ncnL9AtzLL/bZfx1lqq0+xJHx+TBY4wVztVbZ\n",
       "/aogSMDd7k4pTBeCTnWSIwU2nF144d7GYEEFXBVduOMuuvGBIZ6+pBxGs2H4igZv1Yflgs/95Doq\n",
       "76yrI7gg2Tl2ICWrwB8us+LuCifruKZHYQRZuVQbLU8BHfNwrcFCidn7CeYLFwkhRuciKm/D02zq\n",
       "j/iRbxqeUSJsIm0flSakkhZi/Zk9dInffYd9K0+UTNZJxIGEvSKn9tRLruYpeR3wjsl+Vw+ZAAAB\n",
       "R0GepkURLDv/AAsqr15tjhWl6uS9iouD/KdhoDC8ruPQABw60mURyn4pQ3K0Sme7g3vhKRhqm6A4\n",
       "W/x8MQWVxwgaveOjgYW+LtQkaRWF6qCodfRU31/1P4ebIFXqbf95BDyhy5tS7KWBVTzeQi5on2/i\n",
       "RSDnmJt7u7MMRzHMCUM1rhIM12jjw17HF2iPcTdpE54fiN5jcY19kffTh4PGhpFtt9nd9rC+HlD3\n",
       "NMA2/znOOaqzjgMO1H7qurqhPoNKz3eLgUFff6eKVTxGDb4IQ7y+EnWJIN+G4i9yH4bhGUQyQAAp\n",
       "kgAjVHnPEi4qp/PN5nNXBqFnfHXcU7UUCAIk4/oiyu73kSMRrkyQQH2zIb8w8zo46QpTM07Ncas6\n",
       "rLYa52px3SI+3gC8+bmQYe9ewfG0wAdxD96ogwlpayehALledKu41ytVMQAAAVwBnsV0Q38AAIa+\n",
       "yd6ORwVGs/d54NR7lAv35z/WRyCyXRroq55o/DjVwiFD1jCdNiDKDYy7sJEa2BpKkwDx/eQrt3Py\n",
       "860+IpYCfUAK0Mp5LzyTN/rIZW+jyEkl34JkNVlzQxYppZbttF/2Ke4XWa2cdcIvVciMXEymzQwr\n",
       "zSyg9SK2SCP+E8QHMWTrJKJ3nVw9yUxnwZ3VQkM02hMPNmZHnw6QxJRQJlsY6aMTX4d/8rGxyKGq\n",
       "OYRto+BBZX6sZmIWWJlAEYipd/C7KAkDh8WHfi+VinKQhoBQtI8mDzUWsqzNTYgZuRmFIIPHumZQ\n",
       "dY4zHRpFzrJvK2xjNJQDUS/VYin+pos/IPoT6dG7PJaaYXtd8QnHekJlw0nsnKnM+QToJFEZH2J7\n",
       "Wvd8Qo+JKd4EBsnjnApEAHlDL0llt29pRFUJiMyWrLfQklwcryRF1sDc7ztdIc8gxpfdyPkAAAFH\n",
       "AZ7HakN/ACPITAAIM6p7m6rr1OwdHpXCzrJybv4EugXAt5PSL//EirPDzdEgO0KbmE47xPXBXReb\n",
       "ub+3Y9C4gNELrJd+MiHIvXdRvUmG6LRGvEnSNuKr/w6iVGNQg5PgWT/y+DGrPPBJBkm1nA3pu/wO\n",
       "kTz8tKmb5OtTE9rF1WZsPGAalMDrYUg0uwMaYYDigKYwXgLf4qZatnT8BU9FplbLW7qH7rcztwzU\n",
       "l6lgB+DyhvzGoi4Y3V0xWDIhx4pH7yzh49KllprDBCaEuFq3biy1AEqm3IujxG59GBj3rcSuOKvw\n",
       "JQFL8ljfVg+XBIeZINIGV3ssJAU1aTz9vZmmbXmJrMg8Dx3Pif1uImeBhAUfwqNsMF7R06/mynEz\n",
       "88wfTjv2RfLt7hZm3+ee1pn+UZrd2FpiwCwm7PI5wHoZtFW1WEMU0SkgAAAKXkGaykmoQWyZTBRM\n",
       "Ef/+tSqAALKTV6AL48KPrFxWO6nPaJ6P9E7er2Qo5ZhCo333c4CIM5jkvrKwUhuPDb0z//h99TF0\n",
       "/qM+BBXhyUoyrYSh+3IxiRYb3zYyVpPLqxXmymgsnpO7En5NjXXyoyoY/wQ30KfhUHCQN7HzUqi3\n",
       "0FXS1URG9JHU40rEkLMDuBM28dSeomoSEvIHeglLsfRWyAEeO21OVZzyF2DFbf3NxQo+tFMnCEmH\n",
       "klG2NZsprOiCTAa4egeD8G40O7IHBT+7pwUi+AFRxKbjx1ReNpP7/3usjitD+CYvuJS/p+YmEv7U\n",
       "eK4BcuDLmGp/y2e/87BTmA8NEwa+n84YkfoHOiGfO+WekPCMzyIkslBphtO3/qJwV0iiyyue0ZEu\n",
       "6mtmjZ3WNaP7JYsoPD/mCeRBSwGiTUvmMPqoyxggtaWY7E1wY/IJTOYmxMHz/ka63vpkCcBmT3aF\n",
       "YG1dpU6FlpX8ETYV5j8SnOX1DaP7pmE6pfM/dyvzaNz3LxH6ch02IP2G9n3Poob99tHM1IDReyPm\n",
       "LEADOhzy5ldl1LLMsav9IUqfNLjG02ikPByiSVwwkQsD6wResd40yBC8XBu/kEFhi/2/YIwZpekA\n",
       "5j2ufP1exB0M3l9AyaLQ0Yovk+32/PK2lrITa0HzKlmII5KrWjKY+s0BVV4UkuRKbCYl8UlxkFve\n",
       "OFnGuPRDsAQ1SeJd6Uk+2VSWmLa6jAMbVcOUOzVHBUYt1UUyQkhUE9haLrwoz17U7m+idi2u2+0u\n",
       "xLwtpWJkqqx/WVhPaQSkjT7KDFRGxtXhK57da18cffw+2IFTBsowIVvwEka3jHtgPa+ZyTbXKaCn\n",
       "qeueHtyQ68znj5oMaBuh6/3o46p58mF2L1YJ+I2g7205Fo2LEAS4u777RRiqGMG90gGHphk8b7wP\n",
       "eDw71loHVfdM2hImsXR/DF61vTIw5Tw/G5bMCYqhWcnJvuZSmbyZNfbxADu1kWEnWxG9DxAjgUir\n",
       "akgzIFFRAhtF/heOqIMEUYpYn3pHV7HUbVOlq5O/xnpb+yHgLcMorQNxDyJplCU+z3Z00elNwWJ5\n",
       "Xy8fq/3PihIOHAQI95AEa4l92jca9t2DEd1h2TC1HQJma+4rRCkqH6gCkwVOHEyibQtPThnGJk4w\n",
       "p6agcN5EPIqsvPrrgAKD1W/3ZB+gKFFwySnd04+JK24ETAVYC67XUNZqgt4KjFnnV+HWptVR9HsA\n",
       "OxumZWfIMYgwHjm9HRV8SZ8HlbSDXJ3Nw54pQd56eoKMlVIr+2HH5Vjr+EuHtuWWQ0RdXU7TYHQ/\n",
       "Rwax8dDyaLDWMCif/3Iltw+QDvDGlDhtji4ctnt7R+6oLeSiFgBclXFC6XSM7xGNW5zXBq8RRzea\n",
       "1sLlLLLo+UzrDblL+g04VZUc5LpZqMY3BEM8NOIeVA272up8ovLI/DqebOJ5qdRsXe14pGJQE9A9\n",
       "mhdYYqHLTuFheWpA0nXydWDOeK56vX2fxCUvURYm6nBkpxPSQBTrIZSK7wnf3HrOs5FHOnNL83DV\n",
       "igAbdQcQ7qAkWicuc2/4rKtmRC0Iazo3BO4Auvo3CCa+onu+Q6aNwvK2ZPFo1xpwXxagw2fQYKXn\n",
       "6o57uvKP7xs0FhcoWsRYAkEcbEdso6sVS9A/hWYr/DPa5gAylc7vMgVzQb/v5AuSmQOZzAyPc7B2\n",
       "GWs3S6rgfyUKeHkoPFye0HGBAmcQkuK61RggbV6EB6kvmZ5osvax8qFgzQkziYFdCbzK+nvQSHek\n",
       "KP5CKhV1fX9TC6CBeDmCa3CrIjJPo7rJD/1hcjWO9tZYfUxRYgl3SR7KU+R2vpCoolUjzzKB3Ogq\n",
       "2W7jmymZeDZZfudQA5q/uw6akNfaJBOM8VSNDluERlqCygsmuoNKtrJkFWRYdWc02CfngtiPJDJq\n",
       "SNs6wkEmqbfcOMsVCVhOFHgPtVRc+gWinX9Vig7r3CF2ieTdqlFoB/8/sOZuELwnsryiYpNQW6zG\n",
       "q4wpEEWXUcLJQOaH3He6niUJNLYedbU2NZPBVaPj+X5Bwfu9j4RqsXnOZz/35e5DXCPPyyLGGb7P\n",
       "xGep3EklvPL3WWhcnmKXa7j1FTEiOGCvVqMtXuSvgLdPdTDu+1rGzN+7RPEO0nrqTElyr/L6BESX\n",
       "ro5gYffpl+uNMEaIMJ9UuCAZ4sK9FDETF1C7NotA+Frb5J8SuHsq7Joy6ejIak1FbBUN4ToS+lT9\n",
       "+8lws2qNNf0T8x4JGAOOqYpWTw2AjPD1GHRDoQVy9PTQ/7Y2dO3N5o9JP5RgJIb4k144By6/Fv4H\n",
       "GMcTwJCyAp+nabQ+xEtxeh6F4UTwDeuRLr6iee3c4gqLU/5HOPQEMN8Mka70PzYtcWDlx/0vWeA9\n",
       "DZeM3WpzEYsJ04SYcd1tx1bsrz3le1wQIQgGHjX6iv+QDWxff5f7O6eoUyZzxtkxaHvgzpBQACum\n",
       "qNcbNWiJbCEEcAmCsQedxP4Xhi0SDL0Pt8/HH8RedLquIhX6vLkrCkLHLgl3OxzKV1iRfb+Zm9LN\n",
       "qjPJzhtOkq7vvq4ckJFRh5DGIXuy/gcp6DXH8AUaliisHGaASVCswjjVRTNBkbMhzW2poWsRVI7p\n",
       "BzToZeYsnuHzpb0JH00siiIdr1fG01HxOaKM4xJY6Tm+wBG7qcNGX7+HdxNxrZi6nfOZlNT37vaZ\n",
       "Pq62ItJU6pfpMgPdeeH1KqVxlGp+069Vu/EEYTR7MU6XdKdOda6hcEjjlbmyf1b8pitEZbg8vk9L\n",
       "LhztUMlt+ZW4MkCXS4uWGyUBIws11SQj7GQ2l895q1xvVukjGT6QbWobpW9XCsqX2WNVvOkbZiul\n",
       "tAOidm8ZabcNLccyx8d3fuwuMkm8RxBYNoG8he6/YVPMzO5x/QAH6jAVK6++SPnaiFluiCr320+S\n",
       "KCQlHD+GB0GT3czgdJoRopKlXPz9FZ7KnxIDQr4lyaaPTrMm+pddYaJUADJnNqYGox/ibg1R/13D\n",
       "VAw+MOrfQUL3kHlz4GXybyu/hRT/tl8yGqjBhyYKvDIVJ2D/ZCYaqT3Gxc749SLxniUiL5XZegC/\n",
       "CuEXAOQYGcWD83iCGUq5IamLtE8XmnSNDZzWRfFL23j+t/mNezTOn+01pNPy+AngRpoEeJK7H6LL\n",
       "MfCYbSDl6FaUrAy7/MAAInT3D10t6XzyFg8ES+6aN/3pzj5Plu6v2pnYe00u2q9eBcfm1Szuyr5J\n",
       "qoZ8H+YatHNvjrzSuB8ZrqNfmG5rKCeOU3KFB7ixSTAwgiKxvzfopiSal6k5P8JQ9lpBsZmK2nXc\n",
       "+f+PHFNlX5z6zCugtinT0tPQWBF6aUDFe3RkmftOjw7wrm70nn5tma/TjId2k5yw+C4JsSBBqoDz\n",
       "ylY/nPgPFp3FrOHXna9iv/ZAMKYwVB805GAMBi6ChejxANtaNx+Co2AujYiIY2pzIsWvfeu668H7\n",
       "RtB4kZxjv8CI3YTmX+MiZ+Q+rj1fa4n3HbTGDikvnRUEJ+l3FGpkAlsjbHE9dfWnxLljg5FGHKLX\n",
       "3YnPKpKvzbIC58f7u5niQqI+UFlMAAABZwGe6WpDfwAEB1ePbIAEZSgSkd3y1I0gAvkwkR5De735\n",
       "GmYbuVSqK56joAlmzQA+MYQaxmv+H7rYr6JHCcYDzdJu+AgFEsQb7xe9+QgJVV2mEHjCj/DhXWwx\n",
       "6tviJ5H9OifXaJDt8erB2jH8GHG9uB/LwpS5wDj8BiCrR8H9/31v1QMF4RiSvhQvmJSdWB8aiv7X\n",
       "Qnc/G3GKLTrAvq5+5IZjgu9LvPiMSJc/VKPX4Z71/FQYxGS7raqS2Vp5T9o68uHlE7YbMgsYoN3i\n",
       "vbUf3CWgs7j34HAXhVSTmMpG2JQqgR656BytV6Owgi5ho8P1mWCo4Cg6Vi626Da/1W1/AbAbNJ8h\n",
       "jMQP+vKPbRY3cAxb3hMEQzCoCicaYvdqqPS9wcyWgAQgZeygR9r1e8mNjV4B5G2bsIuOAPaJC3IO\n",
       "oSlR3FOiHoq0NuLD0xK22lLKGlRBViEngVBbEAkqLA6agUCQ44m768OPAAAG2kGa7EnhClJlMFLB\n",
       "H/61KoAAB6IG9gCPkVSJZJK51MsChlbysSCCmqK57wqaUwkjWV/McWU9nxsrfH/Sr/5tU4CfQY4x\n",
       "ISLBactSrZ4uvynFhdoz6aKaLDKab0ze4dcpIBiDaAnbL/D2VVGo4FjXDFxU2rb9KVHTVdXaVWMf\n",
       "Iq6JdUXPKuCN9Td8QbNnX9OCkAUxRAYBs7Xz6KDO4kej3Fn7cMfIV4mfwkaKAmX+zgRRVMnXNBeL\n",
       "szMnfJUgVeciOOYROdkX63LNqF52N1o+UmKOvF3muA8ACETXJKT5568ZnFh97dV3RyDMDHlrbIhV\n",
       "lDiGB9ChsSm3AdveiXbmc1kSfrlXWBDSSudDc461zbYGde3z1gbeZiaYuFrRRuMznwq+CkPl1wJX\n",
       "0WIUq9i9Mnw9sbjvt60GFQiXuPPywPvuJjg/IeLFt8v8qmeEwa8v7xW/9f+DmSNgPQs566XFWqtR\n",
       "PNw/Yh8nErnHNrCw7ubRkDMz//97Xtx96dadk3NOIEgXC9AbdgcO4mg1FacW8CcycEjXSr+OqpRs\n",
       "evjfh8vWSCUT0ZfJyfMZol5a4NznPNW5QU/G4RxQQCA83NSXlWILHCknJvh2ykUV4908FUvG1+Fu\n",
       "9yO7qimNxPZgZEWB0z0Oc1M3yzSrjhDlQPYauTD970yQzTqkzba4fuHNC12Lt+s+vsTjE5xKwZu5\n",
       "WvKEc7FKKMfma4Qxb4M3USyQ6E4hh6ALu+TdcQi+oTP5KA1a3PhzS9KGsscoAqo3EVgbFNNEHSH5\n",
       "yl8z5XJmQcoiE/LwUSSRaBIYBoQbi4hJRQsdTC18FKW7tS3l4K11Pi0oL6vv19B73oxus+MvhzbI\n",
       "fz2hgU/2lwlwABNd7OfVsMDAO5U9FiVc7VLPPLa4bIrP85WMHJ/ygRg8eLPrn2DvNTEDcbEKGkfq\n",
       "JUr/gK1XclxIeOXaXo79VPy2mN5NTJmRcfNPKN7h5HuDZM4sASJw3pXf1vDP8ThbeTNwepaNHsdi\n",
       "Y5pvy/oXtkZUJW2m3QvnoxJjsAGL6woYCkbZBuC2b2YnCR2UtsrQmyxndeWc4romEEUgAMsfRq4Q\n",
       "MWDSywvYkhtsOUesmkKcx2BqYPIN3zluGgdQaSdQxbS3oIAp+Db2bWjelfBGwJnRICKkbC+ITubI\n",
       "vkQd9pOx4LU22ZPYXQ/Jc+bZmzi52Q+gLat/5NLP3u5Uu7K7Q5O2Ua7S8kUKBNCVSrJi/aUCcYvF\n",
       "0NepjXpG5QBDIF/rQklEw26tYw6aRVCz1R4+tB/8+OResFyhav0PyFjx1UYDJvJoIVnIVNWsDDqz\n",
       "G5Kj8ldIyDt7cEnjcPU6w3yw8vs4xSLYs/97g+sfgRpq+5aIoNVxyRoYPTC47ZUSuSMQbLocAnnX\n",
       "eG1/WIk0swgATRk72vXBW/V43WmavcSjJNIGVPEH+ezPr7l7mCqNOPry9H7rrg9rjJejMtaz3TL9\n",
       "Ev006ryh+K1xFHmJrnotFdV/TFyzjVdQ4D+0XTKT/oU44YJzq5pNQPRw+yjZjIMiLQT8AQB/qiEc\n",
       "wAO5Zw7BfrF0qXOkmzSkphNRUDAtNc3u0FH2ONPePKM8y8ghS2QPxW3ciao54RCglvpqPjuaxh8a\n",
       "qr+XORDGlhJMDzkK2uMW4U09VuiedfOuqkDPin3C+q5p3o9Kt/dV5W7NnpQXe4Ky0KchdUSyYrfw\n",
       "NYbsXDOXrswnbfVZiAN7ZFDm+WUmmsP4JvMv+PO8MEP3FO2uhAs4wEF+DRHj68pvXGaizA8FNhaU\n",
       "4XxrJ5w/CwSWFc76uJNZWUJIbAT/4mvqF1fxwvOtDneH0DVo4xYQVfVgyc+bwm6OJjK5xfD7Utt5\n",
       "gBzX+0gA3jl3HB22zYQ/7G2pDZHw2mP4uhdW8LPiAOvrOHU4m+w+nMdZeXsyvwe/WKJL/5snw2Xd\n",
       "KCnh1GrZOY/Ni17a5ZaZrk1+yymuKsM5EseU7PbTY4sppB5hvwTmyt7jO9ZxYjpX+ZB4oun45p9n\n",
       "nXN/+m1PgmldSnCtBDHn24fnIIawbR31+G2UYBS9JaiN5dxUA8g9g7fyDACcdw6sqVTyzQ4J0W+5\n",
       "GtU837WeYsgeIuAQXRgC/Zo/DM9wKGb1OIXieLKqhmh52n2xjRXXeLuSYD4joq3/GoPMmLkxbtkg\n",
       "y7swR1WGOQLyMXb9nLllEp42cQwhFCzA+E2h1A9qMTHylnwNKl86VMSgANiJh7DX8DFTq8qHqOq3\n",
       "3to5NRqtPm+LfUAasA5SuvfGXzSchQrLN7ngDj14fxTuAZqx8Fe79TXpSvMDDOd+Orqxdu6UKO6d\n",
       "b/TuQ5Ia6nD+1q0Wt2DIlRIIlbtQCTMgYSIKXnO5RiVRAAABGQGfC2pDfwABsFNaMZK5TUflWBi4\n",
       "P9u8x+/6KQAkKkoev05P2ZfvwzupY5iv1o824M1cqP9J2BKuq46L28BSfT1mYu4TugEv/o68CdmP\n",
       "N01Onh1Gi98iRymz0vD4awR/NojJqph6Rc/1hxtGwAUyZ6lHdrttFCQkxgNRlDWwr735hlcvcdOP\n",
       "8Q1W+moiBW08ps7ZTHgLJNnktOdrH0p107O7WTNBHnt1s89YDEkhgMkXV76EO3KAHDmqEEAB/khm\n",
       "043NevOh4rW0o55z/AbIQNK+ZhCnsuULh3ZLx52uQutMw18TZfQZ9oDVxLwGh2swdWLuwbhpGviw\n",
       "xZinopqSrNoHOuhkKVd1IgAq20bjYcKjXQ/ZPOYt0g44AAANYkGbEEnhDomUwII//rUqgAMVsA0A\n",
       "B+5SqQXiTcgJwai64eRQg6Jcxhg7DMVVH8xf6B9KRPdSztA8XiJyEsPeCrz2K2xTTGOfhzCG8Tgf\n",
       "6Uql5MqFwZiRyzj30PPdUY/C9I5W9r5Ey5NjpMzSTh8Tn6ZUZ4/xfoqU90fmPhpKxc6SKzYSXJh/\n",
       "b8dAEYG3xD1pL0yVe1v0t0oKotilaOUve0m6tuhi4a/wewqGy9rXCbysxOq0VwME+lWdrBbQLPkD\n",
       "Tg0ErwCftwRyn8E5boZHZwKjsc7W+criNE7u5UlaEAmueZe+LYEtZrBtAMqPMs/8zx1Rx+I6s5DZ\n",
       "iUramsPxOQ+gWrs7usrxx5WdLhdgxBXXIlX6eApGOSYDTnm1U1xqTw4godIVLsiaHHNAGwpGyuO/\n",
       "FK1VlQNw4pBkjrAWBRHOOWTtU8tILMCsi56Q/BYGaT8sqGZoFqmp9W+RQ1oujVBnZDRgvP8h4/f+\n",
       "YTsTNBRy103z/UBB1jBnU1vTG+knS7XKxwSV1zJXvv54mPOi1TvEUZA5lqlnjWoEtMwvJeDk55Tg\n",
       "YLqdnmqHg7ZY53/66S66OMU/IyZMLD2tbWFJnVJtRe1wktEsidxe8rw0xsN/+Y7UsWSSfbApvp9o\n",
       "0dKSBOPnrY+qoTt2HY0EPmMRHAUouRM5L8rZ8uungtjyUj3WDv03rtpdfD3iCcbrpabIglJHIIVs\n",
       "Pti3E0hKKhA/Sr7CMNxPJKLtjUBa62v2gw8wTalOdVc/OHaMG1WL3Upda/ekpJmDBQub6YlsXso9\n",
       "afGzX3jpkEL8g4Yu4KqxY4Pt7wfgbiA5Z2ZWnuRnQ+RUN6zmODJ7ZTfzxH6dF/vnS9tcgzJGczoX\n",
       "NujFL++92EYMI8bFWucUsep60x8Y1RAywLCiOsPodWmM5XeQcd0sxz8J81qDkYxHrbMcRi0nB+nn\n",
       "SvIm2u7AJXpQ7hqarth7pERI7jlBd9bHhraWdFMMquK5aI7MqQ/ltSJeWPFrrYH+wyWKsAYmuA06\n",
       "fr77C2y9Yl4CXFrkOE4qFr9GdwuZYQx4ix1uO8lQot/9w/0/nBpmpPh1Ni4ECstTWuvhjtK94yn/\n",
       "mro8Ch0vjhVCJHQ/sTGOgk8dHBZrBAJ1jIWPEcDJR/Pr+u7xpLh+PSm6mynUGrd1ZXGXK2ynBieW\n",
       "QxhY+xfPQL214AkHuF7zo9X0nxFWglJ1wZyrpt1cwiC/3D+u1Eab0nJ2eYwPNGHOPMcIaDh4FGrO\n",
       "043JKFNEMuuR9yZs52JfSANczPerPuoIP8kYwi4ye4Tutoey5a6tgq7T5hG213lu1w95Qox+bWHP\n",
       "SgOMYTcCO30oS+Z4g8PwRlSPRGL94UnbnlPdQ46582Njtk7CY+KsTgcYXDKj5sLLD0xFineA5GGU\n",
       "cpJbYo9WSKvCR9QUlmg30OORNB38MzgFz6yb6CiEw8aoSlH5gN7MWRHpheHZmD1U3jQkACZfv5KJ\n",
       "tzmaDUm7gKy9ib9DUpk3XdWVB23tOKPHtb4OktaDt2WTSkziQqxnZ1epXZFPaLYrOw+X1TdQ1AUD\n",
       "V4qz4flimVNmXZpjQFvy4rrpBzavk/B4VKK5t8iC2JXKpOsdv7nLTADQLSkfKXx5jxhS00t1dEem\n",
       "Drm9T60Dn+zm9zG1cbqLh0DgA2GV3DpRZ78t8xRDNCzgRv6LOpyD4pxwyJIhF1zdqTFeG6C0sD4O\n",
       "LkbeWnAplzGI04u5LtCFDPKBCbl4hrP2SaX38qhXSai/eRcii8t7Ljl+bZVOOM6ry5/mZGlRzwn9\n",
       "C5/SaJY+VXqMDlqKhc6jjcDtesu04NHmcAWQFguPV9wYyQ3h1emtK2WBaNDHXRSrTxu8NRBBRahI\n",
       "WTpb5gZmJk1p+eLQ+ONRRhZgWGh6RMrsflXJ53jelZ0RMWOsvic4rrP7empHyQaqvfO5loVPFwE3\n",
       "aCBn4WAuDUpsgAv/5+XVUpp9zT6R/2ysph4p8O0NLQ8WckKwb3TzdyE55Xp9HCNZsS1hdOTjr7Oz\n",
       "bz5QddYpGm6ddR5PDu8NyCkmYi+Gv4Jld+bvgjpycGkZhvY1hRA0UUVeQTX1X1LmdusBci0l2jVR\n",
       "OuRFHqIRiXOlot0iCGw6/DCCZ6jo03P2HROwg7NHScvT6Vko1hNsjprlP4qNEi5P0DjaoGtvEoge\n",
       "N8zDnTcbmT5kqAgXijEeaaGDJEvyHpse9O0Cs6HP+eguY7cGlftmHVIgR/YHgMA5csDSohLng5R+\n",
       "f6/x4zupdOBY4YeMmHB7VeBLRc6RV6vt8n+PlQVY9AZp0l1h8bqyfCLbWavwyodzzTcTSA0vXojv\n",
       "W/ovZYjbZf9BSa5QTUK2vci2JY3hCMZMwEnXQKI+8E/TNcZ7V+tbIK7SPojkw22H8FxNey332OYE\n",
       "MlD4oWdirkCvsFovf/gGcDV35Suj7ruhPU+I65gr0TSHwhaHSzsJEhy5PKOhmrBGlmmPo/hKy47J\n",
       "61NfD1kAErtHwSBseiQ8dV9VZVlkVU1+f49pwFz4Vhh5w4WadXVRU98OqEKWI5wtG18J+HDBQ2Hv\n",
       "Aohj1zgOnpLjx35kDEL8I2YnkxYsy5sMzMvMUGshkfOv3d3JN3C06mtN5oRQvE3bcRrH7QiJJ7PE\n",
       "jovNixxkscAKh2gUn5jlfqkeaLXEdDSTSlcg5qD7zOY51zHWwvim5jlOL/WIibc0I3T+2CPSa3iG\n",
       "U3ewQiaA/ba+BSwmuuo2mBjntRdDgt6F7z0NpkbOYkgp3Rt7I0xNEWpip+ZaHU9DEn3DHrkdWUsg\n",
       "yszp0t1TzyN+X3sX+SAZT01uYqhlswqFuvV04JTER2e8hZNXnPL+8HIEgeFrWHhtKflUXHN8nb0z\n",
       "PcX7XEojX+hGl97pWERTLNKtAWK2WLPTVakriIoMx8UlvooYeyt3W4VzhgtwsDe9TwQ4WNb7/iQR\n",
       "hvLxkhhIzDdlBINH0e32nc5L+6NIq/siY8BoWaH3eLATMC+RH9xqhxqNdAwC9R4GSs0zrncmMwV0\n",
       "mplA+L/zxEJuQ69KnIthoKejPb74lFD7XGghEOLc0nyn9nYuRlr0cTeTl1gKqbGLwql04Yl00EFX\n",
       "V+m7WJGyG7Yw+ROG5nMJXOggj1l2z1gNAE1BtLanIvHwXvCoC1tXXJYIhV2jiksvIGwGdWZ0l5+x\n",
       "gvdhzTtky5L3nnSAKWD6QjEvFhLYMb2JTbbq5s9usqqpNeuo58hwBk9k7cgVe5xUO9hAM4KAw68m\n",
       "rdQvZYgudxFV8WL19hPHZ043ESM1c3LEmPO1ZFjQYy7HBZpidGw2xwdnQIauAQ8HFfNc9/vt2vpF\n",
       "t0AActEd6NEWhxPuJewJoXUcg3v18fhE9j5Ul6jyYLbyPAOryfN3OYH5nBwcnjobYjmcfK2DJOfj\n",
       "ktEZbzpLJ6nLOxlphDhNJ9j82zqh2QqJSOtRXAXViJbRn+mxh63lW0TrscNQUEF3zMuW4zodkpX6\n",
       "Svqgq9q8vTfH5EJOTYvr/NctbSoa1i4wkl7E4y5g/GHWQqBJ9UeGWkmSHtqzPnyDOw/V8kfCp5yb\n",
       "YeTiFEKt2gizzkkT1cyaZIIJDNIOtHGEftvftskOK8cGnT6BBIMxG86as+huUNnChrx695uZqZZz\n",
       "MPv7oqPLLSjZ3ah4y11slMCaes3o8eSszlJ2pQcTWJeBv8AcYdyLEGUFl9e+XPg1Us3ipi3kzXSR\n",
       "N7h0L4FTvIqvivVm3jg0NE0oLHIVgRfj/hAhFTV+CEtaSzom9BQ2IFJicxmDPTFKzBF5ub4yBbib\n",
       "H36mJxW+oi1GWaR54q/HdxneQNMcsaAk0ec0K7xECAHMsSdtHR7vbYnb9kIlHHt4UP2pvOTXo312\n",
       "M1Q90ayU7pQZw1qM1R2DQxKWPlgEUkN/XbHx6ahXK12wuRo5qVozLnPecvJdB+67dSA6u41dWWOW\n",
       "bexyYBYgA89ZbfejeCRVBn4/aIPH32qGnXx+qhlnpkd4O9XghUZ1FVQpOD0jbI5PKNttLwZeSGFi\n",
       "KF+ZyC0wdXksgQlJqqBzqBEu7t1ns+cF1+PW6PmfUMZiJdH81+3kL2FZGc/Xk0EBUGvKE/sgdJRe\n",
       "b+eG1jwqC3j0roCJd70f07/Q/xuiQp6AK9rpyoGrT6nzvG3JxRzNDpS4sitq59z5e4rU4Yri4Rio\n",
       "ii3fTBFM2tSmbDizYcb3V4L1gAZ5gUGgejcm4IxJ+I+KHO9AeVQUqoOQ7rDCrwG38s1v2+dVcef8\n",
       "iFp+IiStJcJeYZ49hf8EEginvbvR3oXfaKJv94P7NEoSjQ1OdMyaaxTvaMCfm39dsXWZ3KnW6ySw\n",
       "GfsgqTVPzaJVToRrQZBx1o1qewn8k1KchGZvHeEn97Jm4jLckcA/qqZTpdc29Ga23bl/krQCMfrd\n",
       "VJX1Wl+9ldiv08mR0BAcu4pVoAx7FxTW4C6si48vJnCiPAkiB2a82qOIefy5/bZBHfQMrcbfvndu\n",
       "OarCo7wVaa1de35JZkOWhB9i/scPvEhN6aSw/naMTua1SK7b/9e/7m42QyJRS7VpGtTlCbBAzKCk\n",
       "OWeJ+Rtj+fw1QFBB3E3qy/jHFd2jQv5RnbrKgjD0j0E35BJq71WvS2ipmQAAAUxBny5FFTw7/wAb\n",
       "PHYAA5JpGj0V1asxOYyrmaydn6g8j/Mkhg5haT/+yMz/F1C6iNt5QFRTmu8PYidch/Vg2xXpJ+8j\n",
       "/3Zs++kLX4M+rfpa272dD0N4KF0rxhJwPv5/whkaSmLjYZvHWnsZn2hhYFapsOTBoa/Po95t1hOi\n",
       "qJcSoZ2f6xQiRZQgWxz4eDiWvK9QzaUa8pUmA62Da7MquufOajnC95ejstLBRAhqgmu5hMkADm3q\n",
       "sVfWludTV4fQ3Y9EAK0T9bROybop4HEjxmiLqV9fqPCHXlCoFh3/7FAtZsJ+qIOSHwFu8Y7735UT\n",
       "o9ehjQed2arIWVDG44tGy6g2UxCTkd4h3y7FnwT15KJVHwjjTTsIEwpJIZ7s1Je57Qvz2lLND1oi\n",
       "e2ocUCvDFCpLJxRZuNMpYyvuVYdlK4E5qTvBW5DX65BAg+/acQAAAWwBn010Q38AJreItPXlqd/o\n",
       "wATqA1dHNPbu1eQIPqEgKRI6A+oTNWTDwlOrO6+oVh6izSAFVEwX02bkf/mu1TMwdv+KVwAf4GHR\n",
       "eLp39gb98G2iG8GNgCwLelfZ/0ghmH5fqSq/M5vDwNmjNhRbbs3fokCXzHnQTflDiQdMTeimQnUU\n",
       "Ltp+oUSAUIjGhHaJcd+2YRSn5fiTJzexTI4FzPdpFsEUPVUTYUOIs7YTpo4SanhF0ZhuEcnhpERT\n",
       "tlh65MXMdDfESO/vbz3ti6MXfHR5UWxiDGjEZchhVLRHeTottfH0ntKSqlQ4amlnvik3qmWSJAtg\n",
       "xmi3NIl4lruPP7iI/7iu/dQVdyjnWUUlX7mWKw6jxJwUI2OoDcvOVjygI7h2v5NJo15aqSD+Kzx9\n",
       "bu2qVn1+eb/A51PjBIZD/MqA90lBKm8wVkJSZY86ogxe9gcPAIlXHrqLAuhF/0+GXrsuU0HKl0vu\n",
       "GLJVkII/AAABLwGfT2pDfwAmsZKRhvUAc3hwJsP/lgtvUMHas69kU7+ApxMCrZShXu4BQiloD08X\n",
       "ohId4cxQLphLH1FbMzRtqhc2a7dEjQ3mlkADja8Il8U+v+sd/NYBwfkQ3/ipZQN2NoASmC0Wb45c\n",
       "fLfWaX3tSiHqnGMkIUnf7REHDAngFnEr4TeWY/+0hvQtYy2xbjZ+DMdgUb2gFZrz6OqhwMPqx3Hp\n",
       "oSSVvUi+X5dY/iwxjCxd8J3BKewvVOB9bRHvWvuloYK3jTGdal958WqWA5kmNAjimZ2ApXrop8eh\n",
       "uTsSmDVh6Sw8BE8Jmsk85RGd2d5xzIskQDs0/iteOlDZcMkobd/8G1hMtMvrmhlav+ghE+Go5FFp\n",
       "813F9jIJuOnQ3RsUAl23pCY3445Ghgxj/LKVsAAAC7dBm1RJqEFomUwIIf/+qlUAEwQRiAFsHK4Y\n",
       "lRYwBLv2wzD2Tbn8JHcOlh4uHtHekh9r8ECbUz5oCmnrFpU5zrqLjCvZ4cjhYXpcLqsyjUo2Kw4S\n",
       "v/P/docX6XHPIP5o9TzOpyOAgI/lgZ7WBGnkx5J+qfxnazq0oCAFDi4So7xrGgZP7n6GZu9L7qAl\n",
       "NctP6yBNrwzbt74lcm7m28RhFRPojcMkcZJRXpu+uwlGlQFYIOa8cylULkUnGTHy4azvLBMAs87b\n",
       "Wml6up3IvHMr5Xk7seE9hL1LXuEk/WWztVwCRh0dBC3gno9nVJuJRYiUabRhvrwbLeC+Z9baglwt\n",
       "pMTkL3H/ME18JtCChNXNmuELqp+NkoHS3yMgdo7mOndzHu5WYyo+yy7q3E9Aghyfl3Lr+BTYAhvj\n",
       "acVMiXtLbIuXHw0SYUNZhTnUKq9/DRDS9YgAfje4+rHhVEYAda1FqkWMPDQKCSr3RnRb78wVagU0\n",
       "Ed7fb2cS54It34a2V/Q1pt6QanevLOzhIX8cZYAAJ/q0vg8uBWxa6Yk1M+2AE+rHxDVQ7HrPkPez\n",
       "yu8sZGQR10nnLBYy4VrUxVzToBY2Cqa+Ag9ylRadxDGJ4Wc12zwhEuNULQ1p+nBn2q3ZLa+kT1WR\n",
       "SNLSejQkFvETPvyo3gNfZj17fJJuGxSGSiYm3tZ1LlKdcNNmrQdmTb6RLRpKFcb+0Kk6jj001J3V\n",
       "xZeRrX3Kdg8ukmcmR9Z5Rdc0M/DTLWdDfm5oHc0BB4IFv3cH0TgRxOkyQxVIXkZDLWa6dSOvAABq\n",
       "0+oIFQLDFrDCU9uthVTSlGu4ru0SzRxYj9rPYY9eCd4YIZgAoTrY2AJqiQhHXALthEZPjshMb3qH\n",
       "hozD3sM7cNv2n7QTNH1mkoC20RhKxWEtdSK/eDk2xUIotWeYVadDaWtHQYCWp0sdGmA58SToIBtN\n",
       "Rkkao/QXXTs3TEjNxhxO0mmIuyX4Joambb/V4Dqd6w9EvKdQOFiwD4tvU/wmgxD1uVTksb5aHIz9\n",
       "E9557I+RG2x1RKbG72RFr0KGhuZh3kf2k9L3CrqEDk4AAAMC3Hzn5y0ziUrJhjPUo5VRSCHegblR\n",
       "+8yTyUL/Qs4zqkZYNR7zBWOgnPMWUJhjJIC3YWqe4Tf7vS1q6xY5zOi0GYFiku1ZJ1O/JwSoaKWt\n",
       "qj55kFXFHe4XwWqLK3CbqF6YkkalgiJT2LdVM55JY9tng7h/v5TN2BIR7a/yedoOF/yIx1NJrhUR\n",
       "aourQ7PXbyxOn4mBruaVfQ+JnRG3J2p8FroqTfVAjkGc0vvHWMhLJl5nArQJE29VgHQMCLozg8ir\n",
       "+WbcjdYcI0PB6C+JIVbQyJdcwNi/mqjA9HilRmML+IWPx9s0TJCWAKe3aGsstQWshCelJk6alTsl\n",
       "dvYwvSw+92zgCprTB/qnO/PpPuzU6RGmF0txh8y7v7mkgexCJMAx38KDNtVFdk0g02a1iNrw4VA3\n",
       "m/ryIK1WJb0MydQJCGCV1PHLBC1o1nYcqx9M3Pxh3ebFD5xVr8kDrPfAJMJeZfMJYybEbN+JJHeh\n",
       "9htj2jjhUfESXUaJzvviLzMU2s8Ri8/CCOX9HGA4WALtoACsCBMC/1JUsMMSRY9sYYFspnLxameJ\n",
       "1HxUqShaRoaBCZOyuIEQjVlz33h3pw/kcv7WJLQrty8UM5dyvY/6JaLqHTLMrZgz/1XNbRYglIbZ\n",
       "3PXLxUsGlWMc2faIQ2QggEG8OvwnFkduX3u1KxLfnW+PxuH7KqAxXcHMNZbY4zBPTwnsgS5Gemiz\n",
       "eV5hPhVW+K+VzXMaIgqE7aSShBbzJO7NJx+tErFXyPNRMEqMk70wASA+uTtJ8wAdHm5YsW0CQWy0\n",
       "+antZTbp0BQ4zLGpeQ+lCd84M9uOvtacDXTEi0FBn2wQyyX9YX6q2RLgu28XHPfLkwZsUwwjHZom\n",
       "E3idSF29Na6A7b3hTfoegwGOtFMv4JwcAQsnkz1IfmEnrFtnp5c0QE4evO7SuAnjcDlxCtFsCpNC\n",
       "ERGdT/UVnruH239+XW0r3GXpRm8fp21qk8+JdkGqS4ipvzL7o4UHfr2aiHk1r2UFg9FLp+pcJqVH\n",
       "mgk4BjVwOa8wZxE+IpPWqC+iCwa9tw7dBoYsaceP3N/j57ghbuUEo6bXEOzEgRG6SnCQqvnCEdBF\n",
       "xrkCF3iSFjlZ43xpGRkqAZwY4mAK4Y8lQ1bsH8t81mo8ggsLbjnKVYDCsfkAL0irQJ57CVj7n2oG\n",
       "q3S3S5HHZezWYNx5FmNuX0mjiQ4aFikauzAP3ZOcBjZJp5ZgQAx6j+4IYHs3QXUCwyTbSkAbsHsh\n",
       "bjHWFQRI25G0jES2V9jCZrJC+nlxDRgvh3ZEX3QHcrefwI8/8k5N7rpGQwqLTFixNI6XR170Q85k\n",
       "sHvZFNh94s18tLZYZ7/E2MvIY8aW90UlJ3yt3i6iOtUktvzDs+/2aSwu4uaHfarijponcOO4Mwfh\n",
       "n7tcDPaEMQgObEg8G61UJnBRgzZ24d0uIReSnVdFDjlzESiA9jauSSIf5xeBt8/y2S8qjTvz2CyZ\n",
       "Fw9XNiTJtuhOIyt4k0yZRDC53qoZ3OnbXslf5kH0OCRz3u6VkPh22Zw8PElmAQUdRnNl72RQBdZY\n",
       "aeBEl5BcOF93+8pTSKhfOZf5dvkuDvrbMtWJ5EqfZpuUr6yYHlT4eVS7jHs0WPJlGuuQ+RMt9pPG\n",
       "lf37MbCqFZyLknPtsJNpf9jyn0SSG7v4TvZrltwnQ+7p1AcXq5jBueTokTEzoBgVI0YdLlqJAQwh\n",
       "J0Dl3j+6yz6X0hwjhgsPJNeeT79r0ICdLECjncKNFO8cLsGWtLWqxt0UY1g0EzQMFANGbLjsXH4F\n",
       "N+W9BKMHfMrdTri+kzmTjX5BhyAAHGuxaMy6M/kzj7W8IApPweSuawrid+AL1YWjLU/Dh9cugdZX\n",
       "J8IYNFS7uZdxuBD4MnUnxN+a8HPeERPGfgHv+d+9tuiAATFP55jk1AKGvjAKfJFKVmGldDDOXa1H\n",
       "Nmv7dPtHjNjikwsyovQChovJB7nBM/jQLHVq6QE9Qlfaega3Sgn1XrJsgGFBjxREUqXJgY4Cfj/y\n",
       "r46849FrXLpBGxSNNxkADvGM5EJGNh8RUPHjQ29f4cLqWF08jyEp7gUIHIcn9syKqGoP0DSe0Bh/\n",
       "5uyMlAQ86t0XklUuMOUL2OnaXM/Dg0IMNkpkF579nUmF+NG3+Eh3Lew/lrIwbDSVYuXRPsjmJJ2Y\n",
       "bgpDvDj4H+aLdN7r2CThUXN6w6fMBvcYXtZdghpTMnPz2XBimnxc7rL5PZlkb45R4TyKFTloN5k0\n",
       "dD7FnCh3dH4X0TiAVfKv0emY36Sy6udIJPFsScoX3e11EMG61HBxcU2d9zwHJujMK5XFMV9/ffzm\n",
       "FohliJZWmOQKM79gZ9zZxnFlW7qeeFuEUX4aNNt3x/6AG+io7+/uRd/n0eZcc9Fl/CH/c+pFwsyD\n",
       "bwnkXkdMfXBgWtc2QV2bddnuHKNznR4ELrkkvmiK96a/+HcARNzlZIUfITZoY1VRG7NORRTkTvFD\n",
       "y+F7czypIS+cbh+yJEIZW3UE0kYXZMDQzT0QFs2pTnKEmDks4JAp36ffPtyzS2ZzIz/okHXMzJBh\n",
       "S+y9uELyn+X3jHShDa4xhUTO5814OCPJuYH6/5KBAnb8fF3OAjMj4tjMVoz31CyGVCUAsXdTDA32\n",
       "cI5ToUSF4/YplZ/NLYyGY8aI5WiC7ro8IM8MwGhDXRgBXKUpD24Q0pJyDc1nZTPxpDtJ8B2nYG+0\n",
       "+H3FcStH96Cy94T4PG8ez+o4sHBbffWWSpqfZxynPRFmz6ePD+o6XBHWQEjfbzVE3KODt1I6hF+2\n",
       "oaUal/RSicnVyvt1DnsI+fICLUCdQnc2HQl+XBdrKCMEYRGp1c10c1BJktoymBF1PM1TwpSiJ/oO\n",
       "W8wCisQppZdCJtbknDtCU2FaEsBIY/FPD/DN5GK520S6ZqTFQwxTLqIkzN09Y64cUsmNYArpgLfu\n",
       "lIJYuwPXgCApSQAAAXhBn3JFESw7/wAlEf15tjhBTgYL7ZiK+AImtb2d420a2Txom5TnDqzBqOnu\n",
       "bIxVQzX4AuzqzKkC7MC1ei5dWVABvadRZiuQFmOoPdouO73Io7qxUxJc20kXlo7mXj/gkkV1NMLw\n",
       "E0POcE1W8AhWNocEWN6jk/YU8T3AP+G6MefWt0M6EY/QBjj+0OwSCeHHMVTy5ySm4niLayeu14rh\n",
       "b14AimsRKdbjlGljsDGhEeSsDBwr8/iZm669coixHO/DLUXVEphV+iMT26sJ2Xhfxgp3jdAcyEcv\n",
       "pozObkiFD25/QE3psiYFOfBekd4vpsdhTkXxPtCUEb4u9aRxcJ8u5vaFHCpH5XyU4TV/kXnoGp62\n",
       "dUPXC8jD+PuGKRXQHHEDqGanjQnqGsaGekyt5uZfsCUqj5bIzKIO+l42l5ZGtmg1YfISfoGm6N6n\n",
       "dUQSKgELNQEoRalNLgWc/qEeS1ixA2kicGmZXw7wv7CUzBhzuIZm8HdkLC6fX8PzAAABUQGfkXRD\n",
       "fwAxJniAD4NVKhQoMvQtH69TsHR6Vws6ycC8csleUTJfI0oCAbnN0eQyW6AuqgoB6KGc0PwRcCWB\n",
       "WUFjW+VUt4gkAUor7OrZdvqPPl8Sl8xVeL8X1Yd5E7fl/9nweJ292eB/Yr+iPvY4O9a2hl0z6WfM\n",
       "UwA8hmDr3xTgvT028U7GTqIqITBsrRon5fQGeH+UPWv61xcR/sI3VYrU1godL1lU1pMsSz99T/dB\n",
       "OOFnAsm5sft8ZjTrPbvw3KeGtEos3/epNvYqP9Xr6oesIY0CiCAtF9pXEHZbdNztU7aTGM/iSho4\n",
       "dKyCNMY/jU2EAQ8XIWfhgcBzlt1VrtfQFT0TbtAT7J2vhwXA1bO70qZRZZrZsoE/czixDptAgIT8\n",
       "rsngtMG2MwM7scuKtzcMr8R/8cWrMA7Lfi2LwbCFjzkUFqhIWGWTDbxj2v7fyDgAAAFYAZ+TakN/\n",
       "ADTF0mIL7Ur/eGM5oNywmZy7IFAYJax+xoX5GBPK1v9zLwfXWVsH6QarkEpD3QwvhvhBGHvjLJvS\n",
       "rnR7cQsQA2Wgjs2Sr8JZb4eVwUy6jJAQnqcl16WS1nT29M2AANe1IiNvLi2xWFEki8k6VrK7jgcI\n",
       "7kkYj4BZsB3WYSxWzJgz3xJ4uUU8Q2UgomQSacIjPwsueKb2lIT6eYwS6uvqPnOoTduZa6qdqNpS\n",
       "WbtmlI24TOCPTZgde76dqCtOefJubj+9BmUuHVlik/uF/zBQ4GySo8hq9jc5gAkLoiRfa3CIPSO6\n",
       "YQAOAlAFHclKwYvV7qfC5nYStjkXLHJXPaLJuSxJlKraDTcF3a8F6dxto3W4nEygnxI86Buoz9Fn\n",
       "V7JvffKxCp69kfBy4xwKWnpTj9fPtT1WQ493bUfIOSFAyQoS0vmzGWjfo94TbkEvPP1hddwAAA+x\n",
       "QZuXSahBbJlMCH///qmWAEoWZPmXGkqGV3uBQAjBV0JcNHrhtCyMrFRBXjP7QwKqdO5dzXgiaYw1\n",
       "o9SBgO4z6zfiYLMnI5Z4329rPhReuRUXgGTZoYwbTvm+cn9cb//zLhPExM0CvSRGP38CKsq18zX5\n",
       "It1u4ZAsVMkectXkatpP8fBrjrzMK9k2SBDCUXINmDiBwLpr35xXIUDS/qWaJOi/ERRY+Vov+v6R\n",
       "wwwW9fj1BRO0BuWwNIrICK9jRiQHZ/Tq3shYWD0k2Ial/iI/nfsR4WvTcsHcZgjKfPsSLnGVcRks\n",
       "y4VD31aYwIinsOEWWZEWHw2XXpey3Rpv/VDtLZW6OEWVhY4W7tDuEfZKUj53YcT4DUETME0FDoLm\n",
       "4RUEUIZgatmIOMc96pJYStKLRCWp0DZ/7bGWONTf34dValTgjaLQep1nTyj2dzlkAqBmrbmW/vFz\n",
       "W0CEQSGJ0yp1sLpVzHnwjr1viPFxK2iNjC8BP+K/Z0B/IBwPNM1SHaHxpesjZbyZ7dz5q5tyKpJa\n",
       "Hr28Ug9wudn+ICAQCf1LF9FgVDDQBKwGmft/RmRubY23HNQgizOW1HwVfKRoUOzmUHGqsYk7iAIy\n",
       "1TiVJvgjhhD8/oFj+krcRXPZmPt4iAsr6qmhvDUFqK0VTrPvT5GfBARkYZBQVhV9amrx6zmp0d8A\n",
       "lzE8sTPEGW1Y1F/L28xOKzgDmOibxN2RE8E+C39ll5CbEUxB5zcSp4KYkKoLubuLD3Yl/4Qe8nTd\n",
       "5X2DKOVNGiFhhtG6bjjhmUL2Yd+b9dmfoKcKCUUBNAqk+3+ji/Tx4cplJ8IS7nG59+7oHE+oGPje\n",
       "2zo5vhhVlgvOwT2gTgg/HrapBbXBCe/7f9jkbiAa9NfMBfcFF5AaR5pR1oUMnZajOsMzWJBCBtjH\n",
       "aLBpmMxsbWBbRFOOwnFssfyf579SezMGWeyfMhRHFNNgkbZlRi562EgsJicPq70NkNwgUYSUPmJp\n",
       "iyy2/X8OCrcHgNER5rKcCIyN2yY36DKU+HVEbKonMg5Ncdij2ZJzayNMNZStpHoh1wYZRoVpC3yh\n",
       "JcFhCrz6HmcvbjtAcM5kmFBCCX7N8leRA2CPGbrjv9og+lqofuUYkEx8STwFfxqpPHiSy4UYGYlt\n",
       "bTvhQwmaj16xv4bFyv5V+yucgpso/WE41iNOKTXXoamIf422/mG+sDo8NDb1sfn3kfWzHZypuZpM\n",
       "+u8JRe7BNnWcSC5kVfwl1thI51HHhMpCVsXEnj7rEc7sbw0jkY3l+KYjjoKHKWXRz2OuUK5tXekw\n",
       "NrAS/8WZybi8ik3oSXbjRRw9sk6lM0Z+cD5z5FnU0iWarog/NaMKdL4PCWieSIyTM9A0S3USnNSQ\n",
       "5WZU+VCN5kIYQvrCYpUu/KAj2zuJFU0ALNDTeQb4nvmati66iGntW/y4Gqf0QdyljyVeUM8xklWm\n",
       "wUczjc31/tjShrI6ieht9BIvVmE7dcYx8Hkjrh/+l/k4vfldOf5BxSYfZsvp7VhPHa0JtPys2rb6\n",
       "GbcD0W/h2gPdRAAR5AQyEE4LHzOVhpPfH2iTJsSywY7ynN8oTI3seQTxfrzsA6VISbMofnLdQfXV\n",
       "iKAFMrnMikl3hzgyrY969yzwRgLDS2p130vp+v6kWtItWH1iF9A1HRS5m253qOFEjmWM9QKzMWPM\n",
       "L9KyA5ojmZLW4K519WG/LE1LiQhbDIghS7wngJgLY0SSma6llPzKDuGd0yq1api5Qd1uC8aHUT/9\n",
       "oUHIqOtyeQWFBbmWYj0FHl26nmbpUtEkZOKaw8hm0/h7G02VHBBYafMPxe1/x/o0raRTgBvGifgE\n",
       "3aCDKsYO5JBwQoJqbK1Jm6a9Zf6R+ZtctkwydcuHECQjS84M6DEdFb7UL8k/CS3PGyEJog9AXrb8\n",
       "EqrEZYeZIosuKd37IpmbxdNIiyV+6f+7XHE9vxRXM2T/A6ACZ7FE6E1s2MouF/9Cz4/i59v7ig7K\n",
       "Lb0hcEeaGXca7sgEq7eoU1r9yABTyrdOnH+ZzL1ki77sgAmzk+uqnBLOesH1cVSiTL4ZG3UIfaTl\n",
       "dl2J7NwDZYg5e0ACfjNVuU1BUx69GBIWM6g5qK7qJbLyGD4W0zLgjFM5yDgBmWAo2mo7b7IDwuwd\n",
       "/O71BKQNUlEZbmXUYDK6YqqrjQYH4AdMdu++TPae3KGYNf7cMmF0TDfxdP3DTqGn8oVl/5pXd3tl\n",
       "euu6w8pVyVbtCXuDZ9vsFqdLvIBZf4lbRq8MfxbthKW1U9mrqRhzA1xT2fSe0aOiomk9k7exldVC\n",
       "RgJXzl4sNaaxIC3yFEu6yQAW8YrvwAk7QrAY3VH5buNMZ4xvCGapKBl4a24IVzTOPchRBNg6mSUT\n",
       "tWGqOQsKjFbnrdoEcbPkY9hK+Y64ALDj5+b02XJiZh7AhkdW4rpZy6fE3fG0pnLGxX8vj4O+E//P\n",
       "99z6TBzwTxy6dnMbPa1Z8rCFsjiSwpjEQZFIxsOfi0SqPgwepXbO8MvLCNErV7/iEMtrf8kvyrTD\n",
       "n9okT1LPcXkYXVvqQ2uQYuWnodb7Gzzg31fvr9w7J+GhN29pWmlR6nFxrRkVTybRtpd0xIcbNfXZ\n",
       "45SVEHggbU9z+/M6w0jzTwII5ACipkcBxBlZ7tyMjtTQ4SllW6+OCO+mg6n/fnB19Ym3VmZSeife\n",
       "iwlx7WYvrLZpFFBI5dD9KGeP7/h2ZmyT+1YgBb8LKUM3W54684o7UFTH/hkPf+rIUbjs2pMNpHyb\n",
       "RJGBxNaGk+ekesoRLrDpGXqJqvwppWViuK2EYMbRjB6tp60d77LW8mxtgdHKbD6ffYIwJiaGAega\n",
       "MnRGo18XswKDOpC/vd6e89sSmer7VCmq9lSwfOYG13nhlltxwGUc9vCKvPhzR1KOYuOCZPRxUmgm\n",
       "RsnJB0+GYhlTOZ5Quh8qDYCIFAG4I40vKgE+ouxdckP6hSgvRKXx7t1z75DV+T3/CLz3MqIcYGAr\n",
       "jBTJWm0d8LzTpvAMkNWJw9AbkDS2iVkhjwrVdL9WTKLwJtBj9WMl5z0kz4hLaS2tsY9PZWNJ7pMm\n",
       "jixmf9bs+iNPRcmXzmBEIskIliRzh9FS1nx5yZZKhkJ7xFpFcDvC/GkO9U4KJs4abNHqaBsHJezt\n",
       "A4TdKJ5iSap6VGb8v0QWGvS62c7ldKSOlWAP4IuNGzx0gqcRpOw6fmU22r7WITWQxaS3/TkDmRkb\n",
       "KdGwaxdtPzqTbm5ZeeXvbU4sdJEXIUIKd1bpMU8lrGRMK3hA4ZUXq7V0aC1OAeVZxd8FgvXMlDvz\n",
       "1U7KplXfN08WhVln/wuhCYLSPKYJrrThrnVSBQi+IxtU2zYiGhrF7+6eOQq6Qqk93G9udIpmXOqm\n",
       "QP/dWTsMJ/aKQqx7Ivj8vTYiJRoFuI/pMUMxc+H6GMJRPNwPeRGBhdnh3GC5cikAyyK0V0A8y8+j\n",
       "RI59qfnqmafmI/ZjxWdfrZdmrcBmFAmiV7ePhAN5jZt5oOyd9vYFH3TE7AYYbHCQP3jTWa8aq1LY\n",
       "erUdg60fiJFqWdF8/kBL6GNQr2OvCuTpESeCnSRStEMkVYNXCQGtxI/guCp1q0YQTIJoChEHbEFv\n",
       "Okn7TFe1MMqlGR+P5GVtpRB081viNSROZ9bvhFkAFPw7VhVaZckajTzQb/yYxdrZJ2E5cIHxUGhD\n",
       "FSwEsT5le+wGalHCgrz52uHShzPiuC3uD+pIfIRtczWWVE6PjN9QcZRtBh5XjrX0B3ZYS0HlmGLQ\n",
       "oxTEO/tSLTKj8ZQaPLXuvlVOgV5ZAWkXgnyLfWPeRGbayNOiFZZ2oq2uwq/Kp6I+ioicl5H/5b+R\n",
       "3ENZkXILgZLdXf4jVw/OtHpd6cf7p6jzpVsTtd0IrY11s4y5JCUgJa/sqBT6i9kjC6MoQTLp3MZL\n",
       "9vJnByMyw90ViNX/p1EmOwTxxL1hdTdbxrWO1xEM8KPkVfelWE+A4x2OyHr0e/t0XbAL0TMkkg4M\n",
       "TjxTZxzIKEJq46e/tcFOPmp8wA+KqDPwe5vIx+VAGa3L+TBR6cOBpPvKDw1bLRTiAleBkSIC8TwI\n",
       "OzjB70pzuseoIKL+y46HmC7O5DNRUMWcv5+CpUe5ypUtuJF3BeXXEnng/irSILcH3AhmbuYJC//k\n",
       "SQEatHHyiLDz/F9oDb10MKA8vnprm/Sct7wHgdd8Qh4RNSb7xrUeuS8XZpObt1wI9QVSKrU/EySr\n",
       "8HX+HvhSHhlF2iI2+WDYGwXrwdA8EUwkkmM32lmZ9l/PWeJRwCL7lLMBuCBc9FXFtqDgjUnOzIu3\n",
       "bzz8gmDhUmo+Nvozw4RAOQ0oyZDI6x/9/Zkb/iS9rl+kNS3KWCsCZNhegQY5KbYNg35TX9Lqd29a\n",
       "SV6upXDPVRZTKLLyaXuVBThFKc1nB+5jWA3sBzTPA4dWyw8XJh8lKcCNQsDazdNokLAGLSzTdpuG\n",
       "BnvX7llGQ/UW/XjDdM43dPw5Rhb9ZdAGBMHT6qINMov1TzpL2mfOUZ4pGdYf0QDOEeq3J11fsM/3\n",
       "zEoiUQ7dIREz63NcO9r4nfOkSR6ZDL5POX46vRSlKFE12LnDvQ12zjZGUlcphWHy45YcrXY2EAnI\n",
       "bfv6eMNxjpdtEtBMvdxHnebQRp/gbb+YATmO9ixrO93qIzb3u6K92CEp/me73E27ZS4EshSexGGt\n",
       "D9gS3KlR9tCNY1Jgkjwn97IUnY/vhmdGW9i3+ptUqOQhWLIddqvfSUH3Jlep04EY/CwSK8CaOVV5\n",
       "kR3xK0U1t0IHDnZTHi1zLwzEt7cBE0CIhpH7I1YnTwfuj9NQuUo9wGWjYrWmqACGBL3Yjxwx+qki\n",
       "q42QN0WbEdRfRWc2leG7Ep/N1ST8iFvtCnt99ic5nRKZaSYkKM9RIju84N5XKwhRbYVD7627Rr+s\n",
       "ms1ktb/otjt90aNap9RLeh6btpJ9qVaPpbuKXyjfSm8HDpv4XdQO8/FaX/r9hgv4xPfD4YfLCHnA\n",
       "aye1Scx0KjjgtFtLYb0Qedkv0rvdGELxzT2p3/6A736kOHTr8Sjnxcew1eE+MPbBLphET2M322AB\n",
       "K4JQq2VuXv66tXzdeurGnPmOB2XxM+C6PkMdEdCuQeZ/+nsNHx+0O5mdLlXkV8zUF5biz3Lg2ykZ\n",
       "XChcb6WimqVgueF/Hauhmvk5eWSFfk7FgrhX7Yi0LMhGiLuIobWXuKLMgY7rfOsrJkTLx9/zvDJZ\n",
       "bfN2aU5f3deNtDJbYLm10SFo86u1AKOSh7Vvw969pkY1Dk+jSsDJAau6H1YTt7jCa/SMgSShVtY2\n",
       "KSYVLp/vkeIrlZMdTaEL5g1aC/Mc1dw3eoIw9WHqCATUQWe0u48ZBDCPZ+kLqiG4a2j4f1brT6QB\n",
       "mdStnRdwVZGWn1txd1gc0POP7qx9utb+pwq/AAACCkGftUUVLDf/ADTAChrOtQBzXnIsr6EnWgXx\n",
       "L9Sw5ksAIM2vr5Cx3OZfDqaiguQSymfpqA4WPCfVXJ+P50Sd0Ej1SgxhMr3LGzfCWssRIpVOofmQ\n",
       "nTDm0ocmDcIAcITD+FBlLvFwL5rw4y23CvjE9JteWYTdLk99BqKOYoR6BIdNmwQAZGVdjeuDCN0V\n",
       "IWbtT1PF53Ca6VyrHrYan+842ZZ0CRfYR69N8M6B0zjeekJuMmfVgAnCVU7Lq3yzXWJLqOS2vzPn\n",
       "pZ6Na3bUC+jEjqazJbeVjVylFPdsi7ywqqKX2lmXRkvhmavkK/mlMT2V+g3SG+1Rgb+0uTJRBcVP\n",
       "OPmsMD61/s7liaQ7NjeltkqPys8rmgjUU1m0vQZQBESZ5I15XBPPln0DHppJM9bWW5ygMvdyd7Pb\n",
       "SZp8g1jTmEIIkthGmKLG/W5FT2LMttHsIYq4g9NypdOPlsjDrIa46gprqByCM6tZzXLK/ZHvB2D+\n",
       "y+ORDKHiy99jVuCWT5zuBL/DJo5wjeMj4a00r3KyX0vMiprF25lpjyPkpm7Fjja7msXQyhIKo7G4\n",
       "Hx+MXnUJEfUWhDGgEE6i2N5qcUMiMMV/e3ZdL3ip27GVDyWYpRDhCyiyEiFSdWzlfp8EN58Ppw9+\n",
       "+ekBa0/M3YHRDBUrOBzpp/kORZSct2GFGeBx8DyB+0hVl2pJTMcDwAAAAV0Bn9ZqQ38ADoFEq7Me\n",
       "RjHPmHwcwpkipXOtcmYWacHj/OtpfYqqai4cNdiWhJ3bY5zTtJU8Ffzqp8/ztFwIJKt+dY8peU7M\n",
       "rF3vigBNLYvoBIE3l9oVtfiEnpLeje6WwtDFsNZFB72WKD5pLel7kWGMWgZmcqvS+Sa9OXeLcLU9\n",
       "RBt8W3lWDHjz6nKHCClthO3rasIfPiLtbxpymQwlzdjvqR+G553UjTQWysEBCyxBAzIwF4IGI3Jx\n",
       "BL+jbFhPYeTbPYEMCJg41qXtxg0IPT/FC6dVu89EY2BrQ3zOCdKb5pzW7TE6HiXZJekyZZ5BoBYS\n",
       "26MnjFkytX3mFYaZfHUOoji1THsE4BXjSectpVBryP2QHWvP7H3czCaYnPFMkbQ5/awBWC4KZLAu\n",
       "9Wz7joOk7xs7qpW42zMdObDYZP5801cT/v9QZMy8KNhnfABTaSYzazyP8af4JprVFNb1AAAFUEGb\n",
       "2kmoQWyZTAhv//6nhAAZu1C2rRx5ADmaIIJNr9xCaiqBszTErNNjxYFuwJ+8N7/atsZujCyJ+4jk\n",
       "1kAhPbSpMJaucvfAMs2MQqv/JG3omSG0NNJMg7rIuCM21ACpFhCmSN0nQXN9CsBKOdauUOp//5q2\n",
       "9bqVnFUB4JI06rbn5bGeQUnM+8RRmm6U5slQm7CqBPdgrmMtrlNqj7Cm2pmuq+xBKMRhcRO5Wusd\n",
       "HsDz+929ebcFI6jbMamzpRera7EAnhw8a4wI5NmrREH+eLvu29mNtwe/622i4trIM4JGXDXfbVWp\n",
       "DsTR8ZuBMhvQ2GDi1Au97VtC7huJozcaQobTHVSKLpI0J6w7EYjEJt6GQUBo5lhEkScvt5qdTd3t\n",
       "FsnQQxtubqOWZWrC5MLs8sIQjikLCmU/y0+MBXEx1BLHVyXiIkjRL5BIJV7VF1OiQBrknlEYn0UM\n",
       "why7Qi9LgbgT9iJz2emiJ5IV2V/EiZH8MxqrzznOrMjSwz9XfWAc5MDv0MQEIWck/VMjTZkVwFY7\n",
       "da/f4rzgf0GI/jxS31TAdyzua4PlLTeiVkyB7Hd7Oe4Q4obmTo7+Sgh02AThrlE6NUX5OzP16E1+\n",
       "CQgkVXeslmD5B8SMju0F6ee1f78o7Yerci3ZpV9q0VUTMvM0kc3CBUlSwc61OmMmdgYwt8B3tw95\n",
       "1alXpYG4/WzuVhGpG6MyC4kJ2wD2sIKEgeKoQRS65ZVd7cOK7RrACmIKCL9fVDsjI1pcJVW69RYI\n",
       "sIwceNLfLZoACQiqcOVr/vIbvsV0etn+aRCDmj4EubRQG7/zC7eyfW7JN6cEZ7CkIpLASBUizQFt\n",
       "fdalq6hX70Gj2Sbplw6zsntI76QX5Mcb+8X0eLh0Je6anuFrSgNCYKbWhxzCU99QVIzTJRN6qQ8Z\n",
       "N4OpYeiyXbHl4egIM0IPH7/Hgi+uhATUyvksfs3KODWDWspLszegzONnTM9Mp/V5NU93cMa70ya5\n",
       "esITVxxRkoHzFJ9/WtyCxTQ/ZD4/9Wtyt9fuI3/iG53Qqs8oEM5vpiH6xlEnm4Np1pFjgeufbkk0\n",
       "NuBDK2+8OyNjfDNdl7YDpIOGyuT3yfeitkBR/vslsh18W5GKoY9JEOc5cfy8SSjWBN9b+usMGf0v\n",
       "v2AEPqpT1Dxk42wxi4/o57SsmWGZ9lPrXkUI4iCjs3WeEYg/ObZcxAEv8aajBF60By7vBASZ4KfY\n",
       "j+zbsTb61yh3uWUa4+nQbwh88Nyv1sZE/vWNxYw3/2+WzgzTvzhCVCDFv8QBC9DuJjZiMJX5ICS4\n",
       "H1jgIcpKRIiREpNKPidca+ZLIjvSkx0FMVgPZ/rQmkG3OhyHrkeGctYcSJrTymg5PwrtBG5HiqrR\n",
       "5N0WSXapYLXq9le29SSQ7cgoeSqgENO3vkxDRG1q410MrcZbl+DpE9Jvz2l6OTfaIQVv11+hWsMr\n",
       "wa/DDmzrmhVgZ8CUWEKsW6P25MUWT4y100uhZaHhOKyHY/wJ0z4s8VYjy/fIhXk1538M37hu529s\n",
       "LWZNuh4nGKiTwJjytf0ZlskY8JF0vL5+6gnn56Yaqx2nU7BD7UHup6qwrOBSNaxLayX4b9Y2Hflm\n",
       "a/IXPLoWlpO53w1EWSiMWMncvFnLxrtjkoYZP9cDUoYfF5IfXlQLFZjO6ekhMgUgttA90Ko/pL3g\n",
       "8lcRbnmHXsoZrP2e7oNBshuLGzduP8zLQA5wjjEpkhPO7Bpf2P/psXZ4Z6Wi+vLJrIfun+Raa6tc\n",
       "UhFiLkiP9UL/+ICejlcy2qgXis5Mm7GC1nBgrW3PheU/RLrAcspFWTDc6JsGiDEAAAGQQZ/4RRUs\n",
       "N/8ADoKVdtIfLXJuZXEz9t9LlVm5ST5JcsCWl9txkLCJpfo5ientkALqtK4seEaoufMChhZcDeou\n",
       "fiqQ6fqsb88qES+1h05UhvxaP8JtOAdD5hSYKo8/HnovJAwW5JkEXpLMKyz4CRi/DHrhKxGjmwzR\n",
       "/6lHCgC8VnE5riTSC+/o3ewu+nJncVkG/2H+BQZv+ZWfAql1nLlkmB3ltlPOEGggPaOCwb0k9GXT\n",
       "W+mpFKnwQAZpdNVP9//UPzzQ40ioGoTJT27sImoQfq9+zR4GvV1xXtokHJ7CrUgXHNuKTbiqDDF3\n",
       "ny5lH3zvvpVVaC97MN/xD+p8k55bRdcgTabaWCFYBumALfM7ok19rOIu8xiGzYi2cX60/LQY2EYe\n",
       "UrAiJkLQvy7lg4TzaemslqIozkhWXlUzOZMTNwKBryBchB9dcH+8lIP3WFe+EIDyxweiX30oJfEG\n",
       "vuDL171OZvG/x8GIGvW2uqYbogo8qQ2U5kEeyehU8bvP3jPgDw/ip6XgCNSM9MgYTrSTgAAAAfEB\n",
       "nhlqQ38ADoFEFDQpJSsAJX9HmheLoAZiWCl6DXe0ZrlyMc//+MJI//OPgsVK2z97JkIA0IalNk+d\n",
       "3HJXIMdHF2ZC4KJdtDkHQHp9crs0yLnUiMvj70om/lTt8Ey/ibhzACJZznskJRpNBA5/GR1sGa8D\n",
       "EqUi00lJoK7ErkBPl8Uonp+fSLqc78jCEDkGWIYK/hPCjc8Rvs1H/Lxf9XIuxTRmQkDyjqrlYwpA\n",
       "J0hm0f5kNj/RVtg1P810Zs3OgeiFuVNVw3pAbKAgks6as1r/AYE/vYW4NoIFLXcbMp4ZO1hRu/gk\n",
       "wB7BLLYvWEAQseo/gpYoP0BqJnVlaOhe/vGfV2krxcBzJlCUgr1cvTgevJELWxwIar6lZ5bmXpxp\n",
       "r7RTG4T8f623Li4nkOwUCOYETckIjkIP8mkJXmThFUcvT+6Hck2tmiFtxUdD2e7cgWd8h8Q0wOZ4\n",
       "9gtVZdOa73yDmmh9Bwdsbvkcoqr4BUIzCLsC+nyPMVaa/5By7V+Fu7GmR59M3DeiuahFSVDHGi1x\n",
       "2p8PljX8W62gLE3MhoDtfwUObbGoz/gL5FTHZ1QccN6O/xP3vqhOqgIpMs/rYJPGwut57VOMeeKE\n",
       "uvJwY7+leqdRKkYck1X6erlO/qlEle8AyTlveCWmmk9vrZuoLwSogQAABEhBmhtJqEFsmUwIb//+\n",
       "p4QAAc9PHR95p8jGJYnwSPtpKFWctA7rLfUABdSGwzSDSkZ4E1kTkENLIDJePBMRrhuDtDqVmYsA\n",
       "hWvfSOTTH4SjOcXQO9RzYqb2H3OB9j0yOGmbfob8JYPej1dCg4yw/4AMXvSBoMvP2PGTO4MnIHVH\n",
       "e04Hrm15Leot17tuujsnLpfDIW9aZFryoZqeCiMOBvjsr+5RwYIi+Alx/8Eu9pnshE13XA9RjjNb\n",
       "0U154OvWqpx7vuvPRj9rIBUK6uoUiLQKASiylhI0mOWS2uL4yHkAo/D1m27H+eeMmrDUIlk3xX5n\n",
       "EYur8WXY2ia5Olba3nlw9qtSzv+dkrzbSG6QRwb46hZY7F3dgvTvC8+EJUgMe5sdL33PXVjbmShd\n",
       "hJzojhJw3SmOY8ZGnzsrKB9zUi7bOG0pqfBdS/dt87EtuoAt6Tg+A8t4oK2grSm9+smjeFp7ei33\n",
       "UwbY8eNPhtYNvlAf+ZYk5tSvdF8MWxEm2wrG9d1XdFrkAnEF6Hg3gBHIR6XGqMAW885ucDfoozqh\n",
       "/SfU2fqG28I4DIYIPdvNgNBG9YW4KMVpajZLfwqJXzofhI0tOMR4nNla2rEvXm5vxms9Hb4pKzWY\n",
       "TDqLV8ILmFVJODqXRqki3vpwgH0rccihQMUSGh/81ke8go7SRiTqdz/aelOW7DnF8BxPthnH/rWR\n",
       "6u1wvzhKfUBDgHrsv7aOZy97H4xlvBJnm9TaT679Yb2zxAjnVE3hkzbfbiyYzfJVymNR+XsStMLM\n",
       "oM/0IqgCHazEYU8DuEx+9mwS2E7FPPED5HGY9lGSEr3xcIZv/oJKYQi1OuP8wqgimGu+Qk/Kjve+\n",
       "ZChGhKC7Uqn64MRF0giUVLH/wtlZdNKXUtJGx9okGpQDKOz6t96Zc16900XMoQmQLUxz5CawG+bz\n",
       "k6KM7d5exlQAPAKJp3sHM0KNABGhfxa+fCUPv9hGeX6e+l43gLLNKr67orDlgevbtu1jroODjWOa\n",
       "qu+8FUildeU38HbKoKQjSZQlaHrU+sk7mjzBGPYeOj6HszL0KLVrk3Q7qyc/7LfOS3OwXapoCs4V\n",
       "QtSx3zyAKTuD1JFOy/1rPzK4TgnWY36R9bWFZES9uRGteLK7P7M8Z2sJit0YwaCS4ZMDvxG2f5Xv\n",
       "vNzNzZcEl3onXxaBej0EqO5kh7qGinZi5LllR2YAg2yI8NzL4lyDn1uh0BIAi07ubJqSKq7FDQQ7\n",
       "UF3RITjheajfIOh9n+3emWLiuBgLJB1T7LHMYusli7nzmB+vBCi8fxOtd5U1OjWdgv2+7N2nrA0R\n",
       "NyiWoXxR0ABVKGaqGcYEVKg9FWy55q1U2jkSF8/KsTT45OCe42O1aTGSQDgMrTquQ4MY0WTqZGqx\n",
       "bZLQggyLXNkfd1QX3tqaNNRhHiMpSXxdhQjGoLMkUxUoJn1zXREFaKfpQm5hwDejAVXaxbBFNeqA\n",
       "AAAF6W1vb3YAAABsbXZoZAAAAAAAAAAAAAAAAAAAA+gAABdwAAEAAAEAAAAAAAAAAAAAAAABAAAA\n",
       "AAAAAAAAAAAAAAAAAQAAAAAAAAAAAAAAAAAAQAAAAAAAAAAAAAAAAAAAAAAAAAAAAAAAAAAAAAAA\n",
       "AAIAAAUUdHJhawAAAFx0a2hkAAAAAwAAAAAAAAAAAAAAAQAAAAAAABdwAAAAAAAAAAAAAAAAAAAA\n",
       "AAABAAAAAAAAAAAAAAAAAAAAAQAAAAAAAAAAAAAAAAAAQAAAAAIAAAACAAAAAAAAJGVkdHMAAAAc\n",
       "ZWxzdAAAAAAAAAABAAAXcAAACAAAAQAAAAAEjG1kaWEAAAAgbWRoZAAAAAAAAAAAAAAAAAAAKAAA\n",
       "APAAVcQAAAAAAC1oZGxyAAAAAAAAAAB2aWRlAAAAAAAAAAAAAAAAVmlkZW9IYW5kbGVyAAAABDdt\n",
       "aW5mAAAAFHZtaGQAAAABAAAAAAAAAAAAAAAkZGluZgAAABxkcmVmAAAAAAAAAAEAAAAMdXJsIAAA\n",
       "AAEAAAP3c3RibAAAALdzdHNkAAAAAAAAAAEAAACnYXZjMQAAAAAAAAABAAAAAAAAAAAAAAAAAAAA\n",
       "AAIAAgAASAAAAEgAAAAAAAAAAQAAAAAAAAAAAAAAAAAAAAAAAAAAAAAAAAAAAAAAAAAAABj//wAA\n",
       "ADVhdmNDAWQAFv/hABhnZAAWrNlAgBBoQAAAAwBAAAAFA8WLZYABAAZo6+PLIsD9+PgAAAAAHHV1\n",
       "aWRraEDyXyRPxbo5pRvPAyPzAAAAAAAAABhzdHRzAAAAAAAAAAEAAAA8AAAEAAAAABRzdHNzAAAA\n",
       "AAAAAAEAAAABAAAB2GN0dHMAAAAAAAAAOQAAAAEAAAgAAAAAAQAAFAAAAAABAAAIAAAAAAEAAAAA\n",
       "AAAAAQAABAAAAAABAAAUAAAAAAEAAAgAAAAAAQAAAAAAAAABAAAEAAAAAAEAABQAAAAAAQAACAAA\n",
       "AAABAAAAAAAAAAEAAAQAAAAAAQAADAAAAAABAAAEAAAAAAEAAAwAAAAAAQAABAAAAAABAAAMAAAA\n",
       "AAEAAAQAAAAAAQAAFAAAAAABAAAIAAAAAAEAAAAAAAAAAQAABAAAAAABAAAQAAAAAAIAAAQAAAAA\n",
       "AQAADAAAAAABAAAEAAAAAAEAABQAAAAAAQAACAAAAAABAAAAAAAAAAEAAAQAAAAAAQAACAAAAAAB\n",
       "AAAUAAAAAAEAAAgAAAAAAQAAAAAAAAABAAAEAAAAAAEAABQAAAAAAQAACAAAAAABAAAAAAAAAAEA\n",
       "AAQAAAAAAQAADAAAAAABAAAEAAAAAAEAAAwAAAAAAQAABAAAAAABAAAUAAAAAAEAAAgAAAAAAQAA\n",
       "AAAAAAABAAAEAAAAAAEAABQAAAAAAQAACAAAAAABAAAAAAAAAAEAAAQAAAAAAQAAEAAAAAACAAAE\n",
       "AAAAAAEAABAAAAAAAgAABAAAAAABAAAIAAAAABxzdHNjAAAAAAAAAAEAAAABAAAAPAAAAAEAAAEE\n",
       "c3RzegAAAAAAAAAAAAAAPAAAGh8AAAfBAAABSwAAAVsAAAJZAAAL8QAAAdEAAAE8AAAB6gAAC+4A\n",
       "AARoAAABdwAAAXMAAArWAAABQQAABlAAAAEzAAAJPQAAAQsAAAwtAAAC9AAAAVwAAAFSAAANOgAA\n",
       "AdYAAAEmAAAHHQAAAVwAABAiAAABlAAAASMAAAERAAAGoQAACuQAAAFhAAABKAAAAUgAABMcAAAB\n",
       "SwAAAWAAAAFLAAAKYgAAAWsAAAbeAAABHQAADWYAAAFQAAABcAAAATMAAAu7AAABfAAAAVUAAAFc\n",
       "AAAPtQAAAg4AAAFhAAAFVAAAAZQAAAH1AAAETAAAABRzdGNvAAAAAAAAAAEAAAAwAAAAYXVkdGEA\n",
       "AABZbWV0YQAAAAAAAAAhaGRscgAAAAAAAAAAbWRpcmFwcGwAAAAAAAAAAAAAAAAsaWxzdAAAACSp\n",
       "dG9vAAAAHGRhdGEAAAABAAAAAExhdmY2MC4zLjEwMA==\n",
       "\">\n",
       "  Your browser does not support the video tag.\n",
       "</video>"
      ],
      "text/plain": [
       "<IPython.core.display.HTML object>"
      ]
     },
     "metadata": {},
     "output_type": "display_data"
    }
   ],
   "source": [
    "# アニメーションの描画\n",
    "fig, ax = plt.subplots(figsize=(4, 4), dpi=128)\n",
    "ax.set(xticks=[], yticks=[])\n",
    "\n",
    "# 各フレームの描画\n",
    "draw = []\n",
    "for i, f in enumerate(frames):\n",
    "    ims = plt.imshow(f)\n",
    "    draw.append([ims])\n",
    "\n",
    "# アニメーションの作成\n",
    "ani = ArtistAnimation(fig, draw, interval=100, blit=True)\n",
    "html = display.HTML(ani.to_html5_video())\n",
    "display.display(html)\n",
    "\n",
    "# Matplotlibのウィンドウを閉じる\n",
    "plt.close()"
   ]
  },
  {
   "cell_type": "markdown",
   "metadata": {
    "editable": true,
    "slideshow": {
     "slide_type": ""
    },
    "tags": []
   },
   "source": [
    "最終的な状態において、黒番、白番がそれぞれ何個のセルを専有しているかは`count`関数により計算できる。"
   ]
  },
  {
   "cell_type": "code",
   "execution_count": 17,
   "metadata": {
    "editable": true,
    "slideshow": {
     "slide_type": ""
    },
    "tags": []
   },
   "outputs": [
    {
     "name": "stdout",
     "output_type": "stream",
     "text": [
      "(black, white) = (27, 37)\n"
     ]
    }
   ],
   "source": [
    "# 黒番、白番の獲得セル数がtuple型で与えられる\n",
    "print(\"(black, white) =\", env.count())"
   ]
  },
  {
   "cell_type": "code",
   "execution_count": 18,
   "metadata": {
    "editable": true,
    "slideshow": {
     "slide_type": ""
    },
    "tags": []
   },
   "outputs": [
    {
     "name": "stdout",
     "output_type": "stream",
     "text": [
      "#black: 27\n",
      "#white: 37\n"
     ]
    }
   ],
   "source": [
    "# 黒番だけ、白番だけも計算可能\n",
    "print(\"#black:\", env.count(Player.BLACK))\n",
    "print(\"#white:\", env.count(Player.WHITE))"
   ]
  },
  {
   "cell_type": "markdown",
   "metadata": {
    "editable": true,
    "slideshow": {
     "slide_type": ""
    },
    "tags": []
   },
   "source": [
    "最後に、両者ランダムに着手する場合に1000回対戦すると、どの程度の勝敗になるのかを調べてみる。ランダム対戦には少々時間がかかるため、以下のコードでは、`joblib`を用いて、並列実行により同時に複数の対局を行なっている。"
   ]
  },
  {
   "cell_type": "code",
   "execution_count": 19,
   "metadata": {
    "editable": true,
    "slideshow": {
     "slide_type": ""
    },
    "tags": []
   },
   "outputs": [
    {
     "data": {
      "application/vnd.jupyter.widget-view+json": {
       "model_id": "a60934efd04f442780190c7aea7d76ed",
       "version_major": 2,
       "version_minor": 0
      },
      "text/plain": [
       "  0%|          | 0/1000 [00:00<?, ?it/s]"
      ]
     },
     "metadata": {},
     "output_type": "display_data"
    }
   ],
   "source": [
    "def match():\n",
    "    # ゲームのリセット\n",
    "    env = othello.make()\n",
    "    player, _ = env.reset()\n",
    "\n",
    "    # エピソード開始\n",
    "    while not env.gameset():\n",
    "        # 有効手の列挙\n",
    "        moves = env.legal_moves(player)\n",
    "\n",
    "        # 着手可能な手があればランダムに1つを選ぶ\n",
    "        # 選べる手がなければパスする\n",
    "        if len(moves) == 0:\n",
    "            move = Move.Pass(player)\n",
    "        else:\n",
    "            move = np.random.choice(moves)\n",
    "\n",
    "        # 着手による盤の状態の更新\n",
    "        player, _ = env.step(move)\n",
    "\n",
    "    return env.count()\n",
    "\n",
    "\n",
    "with tqdm_joblib(n_episodes):\n",
    "    result = joblib.Parallel(n_jobs=n_jobs)(\n",
    "        (joblib.delayed(match)() for _ in range(n_episodes)),\n",
    "    )\n",
    "\n",
    "result = np.array(result, dtype=\"int32\")\n",
    "b_win = np.sum(result[:, 0] > result[:, 1])\n",
    "w_win = np.sum(result[:, 0] < result[:, 1])\n",
    "draw = np.sum(result[:, 0] == result[:, 1])"
   ]
  },
  {
   "cell_type": "code",
   "execution_count": 20,
   "metadata": {
    "editable": true,
    "slideshow": {
     "slide_type": ""
    },
    "tags": [
     "remove-input"
    ]
   },
   "outputs": [
    {
     "data": {
      "application/papermill.record/text/plain": "455"
     },
     "metadata": {
      "scrapbook": {
       "mime_prefix": "application/papermill.record/",
       "name": "rand_b_win"
      }
     },
     "output_type": "display_data"
    },
    {
     "data": {
      "application/papermill.record/text/plain": "501"
     },
     "metadata": {
      "scrapbook": {
       "mime_prefix": "application/papermill.record/",
       "name": "rand_w_win"
      }
     },
     "output_type": "display_data"
    },
    {
     "data": {
      "application/papermill.record/text/plain": "44"
     },
     "metadata": {
      "scrapbook": {
       "mime_prefix": "application/papermill.record/",
       "name": "rand_draw"
      }
     },
     "output_type": "display_data"
    }
   ],
   "source": [
    "glue(\"rand_b_win\", b_win, display=False)\n",
    "glue(\"rand_w_win\", w_win, display=False)\n",
    "glue(\"rand_draw\", draw, display=False)"
   ]
  },
  {
   "cell_type": "markdown",
   "metadata": {
    "editable": true,
    "slideshow": {
     "slide_type": ""
    },
    "tags": []
   },
   "source": [
    "**対局結果: ランダム vs ランダム**\n",
    "- 黒番勝ち: {glue:}`rand_b_win`\n",
    "- 白番勝ち: {glue:}`rand_w_win`\n",
    "- 引き分け: {glue:}`rand_draw`"
   ]
  },
  {
   "cell_type": "markdown",
   "metadata": {
    "editable": true,
    "slideshow": {
     "slide_type": ""
    },
    "tags": []
   },
   "source": [
    "このようにランダムな着手では当然ながら、勝率はおよそ五分五分になる。ただし、オセロは後手である白番の方が若干有利であると言われており、ランダムに着手した場合には白番の勝率がやや高くなっている。\n",
    "\n",
    "以後は、この着手の方法を改良していき、より高い勝率を目指してみる。以下、利便性のために、ランダムに着手する関数として`move_by_random`を作成しておく。"
   ]
  },
  {
   "cell_type": "code",
   "execution_count": 21,
   "metadata": {
    "editable": true,
    "slideshow": {
     "slide_type": ""
    },
    "tags": []
   },
   "outputs": [],
   "source": [
    "def move_by_random(env, player):\n",
    "    \"\"\"有効手の中からランダムに手を選ぶ\"\"\"\n",
    "    moves = env.legal_moves(player)\n",
    "    if len(moves) == 0:\n",
    "        return Move.Pass(player)\n",
    "    else:\n",
    "        return np.random.choice(moves)"
   ]
  },
  {
   "cell_type": "markdown",
   "metadata": {
    "editable": true,
    "slideshow": {
     "slide_type": ""
    },
    "tags": []
   },
   "source": [
    ":::{admonition} オセロが解けた？\n",
    ":class: note\n",
    "\n",
    "2023年10月に「Othello is Solved」という衝撃的なタイトルの論文が、プレプリント投稿サイトのarXivに公開された。この論文は、オセロゲームが「弱解決」したことを示している論文で、「弱解決」とは両対局者が常に最善の手を指し続けると、結果がどうなるかが解析できたことを示す。\n",
    "\n",
    "人間の体感としては後手の方が(最後にディスクをおけるという意味で)若干有利のように感じるが、この論文によれば、オセロは、**両者が最善手を指し続けると引き分けになる**そうだ。興味のある読者は是非、以下の原著を読んでみてほしい。\n",
    "\n",
    "Othello is Solved: <https://arxiv.org/abs/2310.19387>\n",
    ":::"
   ]
  },
  {
   "cell_type": "markdown",
   "metadata": {
    "editable": true,
    "slideshow": {
     "slide_type": ""
    },
    "tags": []
   },
   "source": [
    "## セル評価値を用いた着手"
   ]
  },
  {
   "cell_type": "markdown",
   "metadata": {
    "editable": true,
    "slideshow": {
     "slide_type": ""
    },
    "tags": []
   },
   "source": [
    "人間(の初心者)がオセロを指すときに最初に覚えることと言えば、角が取れるように着手を調整する、ということだろう。\n",
    "\n",
    "角のセルは一度ディスクを置いてしまえば、それ以降、相手に取られることがなく、また縁の領域にあるディスクを一度に多くひっくり返すこともできるため、角にディスクを置くことができれば有利になることが多い。\n",
    "\n",
    "一方で、角のセルに隣接するセルにディスクを置くと、相手に角を取られる可能性が出てくるので、角に隣接するセルにはできる限りディスクを置かない方が良いことが分かる。\n",
    "\n",
    "このような人間の経験則に従って、各セルにディスクを置くことが、どのくらい得でどのくらい損なのかを表わす評価値を以下のように定義する。"
   ]
  },
  {
   "cell_type": "code",
   "execution_count": 22,
   "metadata": {
    "editable": true,
    "slideshow": {
     "slide_type": ""
    },
    "tags": []
   },
   "outputs": [],
   "source": [
    "scores = np.array(\n",
    "    [\n",
    "        [120, -20, 20, 5, 5, 20, -20, 120],\n",
    "        [-20, -40, -5, -5, -5, -5, -40, -20],\n",
    "        [20, -5, 15, 3, 3, 15, -5, 20],\n",
    "        [5, -5, 3, 0, 0, 3, -5, 5],\n",
    "        [5, -5, 3, 0, 0, 3, -5, 5],\n",
    "        [20, -5, 15, 3, 3, 15, -5, 20],\n",
    "        [-20, -40, -5, -5, -5, -5, -40, -20],\n",
    "        [120, -20, 20, 5, 5, 20, -20, 120],\n",
    "    ],\n",
    "    dtype=\"int32\",\n",
    ")"
   ]
  },
  {
   "cell_type": "code",
   "execution_count": 23,
   "metadata": {
    "editable": true,
    "slideshow": {
     "slide_type": ""
    },
    "tags": [
     "remove-input"
    ]
   },
   "outputs": [
    {
     "data": {
      "application/papermill.record/image/png": "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",
      "application/papermill.record/text/plain": "<Figure size 1280x960 with 1 Axes>"
     },
     "metadata": {
      "scrapbook": {
       "mime_prefix": "application/papermill.record/",
       "name": "cell_scores"
      }
     },
     "output_type": "display_data"
    }
   ],
   "source": [
    "fig, ax = plt.subplots()\n",
    "\n",
    "ax.set_xticks(np.arange(0, 8))\n",
    "ax.set_yticks(np.arange(0, 8))\n",
    "ax.set_xticklabels(np.arange(1, 9))\n",
    "ax.set_yticklabels(np.arange(1, 9))\n",
    "\n",
    "ax.set_xticks(np.arange(1, 9) - 0.5, minor=True)\n",
    "ax.set_yticks(np.arange(1, 9) - 0.5, minor=True)\n",
    "\n",
    "ax.imshow(scores, cmap=\"tab20\", interpolation=None)\n",
    "for (i, j), z in np.ndenumerate(scores):\n",
    "     txt = ax.text(j, i, \"{:d}\".format(z), ha=\"center\", va=\"center\", color=\"k\", fontsize=15)\n",
    "\n",
    "ax.grid(which=\"minor\", color=\"k\", linestyle=\"-\", linewidth=0.5)\n",
    "\n",
    "glue(\"cell_scores\", fig, display=False)\n",
    "plt.close()"
   ]
  },
  {
   "cell_type": "markdown",
   "metadata": {
    "editable": true,
    "slideshow": {
     "slide_type": ""
    },
    "tags": []
   },
   "source": [
    "```{glue:figure} cell_scores\n",
    ":figwidth: 512px\n",
    ":name: \"オセロ盤のセル評価値\"\n",
    "```"
   ]
  },
  {
   "cell_type": "code",
   "execution_count": 24,
   "metadata": {
    "editable": true,
    "slideshow": {
     "slide_type": ""
    },
    "tags": []
   },
   "outputs": [],
   "source": [
    "def move_by_score(env, player):\n",
    "    \"\"\"セル評価値を用いた着手\"\"\"\n",
    "    moves = env.legal_moves(player)\n",
    "    if len(moves) == 0:\n",
    "        return Move.Pass(player)\n",
    "    else:\n",
    "        # 有効手の中で最も評価値が高いセルに着手する\n",
    "        best_move = moves[0]\n",
    "        best_score = -99999\n",
    "        for move in moves:\n",
    "            score = scores[move.x, move.y]\n",
    "            if best_score < score:\n",
    "                best_move = move\n",
    "                best_score = score\n",
    "\n",
    "        return best_move"
   ]
  },
  {
   "cell_type": "markdown",
   "metadata": {
    "editable": true,
    "slideshow": {
     "slide_type": ""
    },
    "tags": []
   },
   "source": [
    "このルーチンを用いて、先ほどと同様に{glue:}`n_episodes`回の対戦を行ない、ランダムな着手に比べて、どのくらい勝率が上昇するかを見てみよう。"
   ]
  },
  {
   "cell_type": "code",
   "execution_count": 25,
   "metadata": {
    "editable": true,
    "slideshow": {
     "slide_type": ""
    },
    "tags": []
   },
   "outputs": [
    {
     "data": {
      "application/vnd.jupyter.widget-view+json": {
       "model_id": "65e0c4ee36ed4a698ae3f7f41d218b7f",
       "version_major": 2,
       "version_minor": 0
      },
      "text/plain": [
       "  0%|          | 0/1000 [00:00<?, ?it/s]"
      ]
     },
     "metadata": {},
     "output_type": "display_data"
    }
   ],
   "source": [
    "def match():\n",
    "    # ゲームのリセット\n",
    "    env = othello.make()\n",
    "    player, _ = env.reset()\n",
    "\n",
    "    # エピソード開始\n",
    "    while not env.gameset():\n",
    "        # 黒番:\n",
    "        if player == Player.BLACK:\n",
    "            # セル評価値が最も高い場所に着手する\n",
    "            move = move_by_score(env, player)\n",
    "        # 白番:\n",
    "        if player == Player.WHITE:\n",
    "            # 着手可能な手があればランダムに1つを選ぶ\n",
    "            move = move_by_random(env, player)\n",
    "\n",
    "        # 着手による盤の状態の更新\n",
    "        player, _ = env.step(move)\n",
    "\n",
    "    return env.count()\n",
    "\n",
    "\n",
    "with tqdm_joblib(n_episodes):\n",
    "    result = joblib.Parallel(n_jobs=n_jobs)(\n",
    "        (joblib.delayed(match)() for _ in range(n_episodes)),\n",
    "    )\n",
    "\n",
    "result = np.array(result, dtype=\"int32\")\n",
    "b_win = np.sum(result[:, 0] > result[:, 1])\n",
    "w_win = np.sum(result[:, 0] < result[:, 1])\n",
    "draw = np.sum(result[:, 0] == result[:, 1])"
   ]
  },
  {
   "cell_type": "code",
   "execution_count": 26,
   "metadata": {
    "editable": true,
    "slideshow": {
     "slide_type": ""
    },
    "tags": [
     "remove-input"
    ]
   },
   "outputs": [
    {
     "data": {
      "application/papermill.record/text/plain": "736"
     },
     "metadata": {
      "scrapbook": {
       "mime_prefix": "application/papermill.record/",
       "name": "score_b_win"
      }
     },
     "output_type": "display_data"
    },
    {
     "data": {
      "application/papermill.record/text/plain": "221"
     },
     "metadata": {
      "scrapbook": {
       "mime_prefix": "application/papermill.record/",
       "name": "score_w_win"
      }
     },
     "output_type": "display_data"
    },
    {
     "data": {
      "application/papermill.record/text/plain": "43"
     },
     "metadata": {
      "scrapbook": {
       "mime_prefix": "application/papermill.record/",
       "name": "score_draw"
      }
     },
     "output_type": "display_data"
    }
   ],
   "source": [
    "glue(\"score_b_win\", b_win, display=False)\n",
    "glue(\"score_w_win\", w_win, display=False)\n",
    "glue(\"score_draw\", draw, display=False)"
   ]
  },
  {
   "cell_type": "markdown",
   "metadata": {
    "editable": true,
    "slideshow": {
     "slide_type": ""
    },
    "tags": []
   },
   "source": [
    "**対局結果: セル評価値 vs ランダム**\n",
    "- 黒番勝ち: {glue:}`score_b_win`\n",
    "- 白番勝ち: {glue:}`score_w_win`\n",
    "- 引き分け: {glue:}`score_draw`"
   ]
  },
  {
   "cell_type": "markdown",
   "metadata": {
    "editable": true,
    "slideshow": {
     "slide_type": ""
    },
    "tags": []
   },
   "source": [
    "上記の通り、人間の経験則を導入することでランダムに着手するのと比べて大幅に勝率が上昇していることが分かる。"
   ]
  },
  {
   "cell_type": "markdown",
   "metadata": {
    "editable": true,
    "slideshow": {
     "slide_type": ""
    },
    "tags": []
   },
   "source": [
    "(ssec:minimax)=\n",
    "## ミニマックス探索"
   ]
  },
  {
   "cell_type": "markdown",
   "metadata": {
    "editable": true,
    "slideshow": {
     "slide_type": ""
    },
    "tags": []
   },
   "source": [
    "上記のセル評価値に基づく着手では、今まさに打とうとしている手が、**その時点においてどのくらいの価値を持つのか**だけを考慮していた。\n",
    "\n",
    "しかし、実際には、局面によっては、角に単にセルの評価値が高いディスクに置くよりも、その後、何手か指した後に、より勝ちの高い手が打てるような手も存在するだろう。\n",
    "\n",
    "実際に人間がオセロをプレイするときも、ある程度は「次に相手が何を」してくるかを考えているはずで、その際、**できるだけ自分に得**で**できるだけ相手に損**な手を指すのが良いと考えるだろう。\n",
    "\n",
    "このような考え方に基づいて、手を先読みして着手を探索する手法に**ミニマックス探索**がある (min-max探索ではないので注意)。"
   ]
  },
  {
   "cell_type": "code",
   "execution_count": 27,
   "metadata": {
    "editable": true,
    "slideshow": {
     "slide_type": ""
    },
    "tags": []
   },
   "outputs": [],
   "source": [
    "def minimax(env, move, depth, max_depth):\n",
    "    next_player, _ = env.step(move)\n",
    "\n",
    "    if depth >= max_depth:\n",
    "        score = move.player * np.sum(env.board * scores)\n",
    "    else:\n",
    "        # 相手にとってのベストスコアを計算\n",
    "        best_score = -99999\n",
    "        for next_move in env.legal_moves(next_player):\n",
    "            score = minimax(env, next_move, depth + 1, max_depth)\n",
    "            if best_score < score:\n",
    "                best_score = score\n",
    "\n",
    "        # 自分にとっては相手のベストスコアは小さい方が良い\n",
    "        score = -best_score\n",
    "\n",
    "    env.undo()\n",
    "    return score"
   ]
  },
  {
   "cell_type": "code",
   "execution_count": 28,
   "metadata": {
    "editable": true,
    "slideshow": {
     "slide_type": ""
    },
    "tags": []
   },
   "outputs": [],
   "source": [
    "def move_by_minimax(env, player, max_depth=2):\n",
    "    moves = env.legal_moves(player)\n",
    "    if len(moves) == 0:\n",
    "        return Move.Pass(player)\n",
    "\n",
    "    best_move = moves[0]\n",
    "    best_score = -99999\n",
    "    for move in moves:\n",
    "        score = minimax(env, move, 0, max_depth)\n",
    "        if best_score < score:\n",
    "            best_move = move\n",
    "            best_score = score\n",
    "\n",
    "    return best_move"
   ]
  },
  {
   "cell_type": "code",
   "execution_count": 29,
   "metadata": {
    "editable": true,
    "slideshow": {
     "slide_type": ""
    },
    "tags": []
   },
   "outputs": [
    {
     "data": {
      "application/vnd.jupyter.widget-view+json": {
       "model_id": "5228269b571a490b92efcfb870b14c2f",
       "version_major": 2,
       "version_minor": 0
      },
      "text/plain": [
       "  0%|          | 0/1000 [00:00<?, ?it/s]"
      ]
     },
     "metadata": {},
     "output_type": "display_data"
    }
   ],
   "source": [
    "def match():\n",
    "    # ゲームのリセット\n",
    "    env = othello.make()\n",
    "    player, board = env.reset()\n",
    "\n",
    "    # エピソード開始\n",
    "    while not env.gameset():\n",
    "        # 黒番:\n",
    "        if player == Player.BLACK:\n",
    "            # ミニマックス探索\n",
    "            move = move_by_minimax(env, player, 2)\n",
    "        # 白番:\n",
    "        if player == Player.WHITE:\n",
    "            # セル評価値に基づく着手\n",
    "            move = move_by_random(env, player)\n",
    "\n",
    "        # 着手による盤の状態の更新\n",
    "        player, _ = env.step(move)\n",
    "\n",
    "    return env.count()\n",
    "\n",
    "\n",
    "with tqdm_joblib(n_episodes):\n",
    "    result = joblib.Parallel(n_jobs=n_jobs)(\n",
    "        (joblib.delayed(match)() for _ in range(n_episodes)),\n",
    "    )\n",
    "\n",
    "result = np.array(result, dtype=\"int32\")\n",
    "b_win = np.sum(result[:, 0] > result[:, 1])\n",
    "w_win = np.sum(result[:, 0] < result[:, 1])\n",
    "draw = np.sum(result[:, 0] == result[:, 1])"
   ]
  },
  {
   "cell_type": "code",
   "execution_count": 30,
   "metadata": {
    "editable": true,
    "slideshow": {
     "slide_type": ""
    },
    "tags": [
     "remove-input"
    ]
   },
   "outputs": [
    {
     "data": {
      "application/papermill.record/text/plain": "866"
     },
     "metadata": {
      "scrapbook": {
       "mime_prefix": "application/papermill.record/",
       "name": "minimax_b_win"
      }
     },
     "output_type": "display_data"
    },
    {
     "data": {
      "application/papermill.record/text/plain": "108"
     },
     "metadata": {
      "scrapbook": {
       "mime_prefix": "application/papermill.record/",
       "name": "minimax_w_win"
      }
     },
     "output_type": "display_data"
    },
    {
     "data": {
      "application/papermill.record/text/plain": "26"
     },
     "metadata": {
      "scrapbook": {
       "mime_prefix": "application/papermill.record/",
       "name": "minimax_draw"
      }
     },
     "output_type": "display_data"
    }
   ],
   "source": [
    "glue(\"minimax_b_win\", b_win, display=False)\n",
    "glue(\"minimax_w_win\", w_win, display=False)\n",
    "glue(\"minimax_draw\", draw, display=False)"
   ]
  },
  {
   "cell_type": "markdown",
   "metadata": {
    "editable": true,
    "slideshow": {
     "slide_type": ""
    },
    "tags": []
   },
   "source": [
    "**対局結果: ミニマックス vs ランダム**\n",
    "- 黒番勝ち: {glue:}`minimax_b_win`\n",
    "- 白番勝ち: {glue:}`minimax_w_win`\n",
    "- 引き分け: {glue:}`minimax_draw`"
   ]
  },
  {
   "cell_type": "markdown",
   "metadata": {
    "editable": true,
    "slideshow": {
     "slide_type": ""
    },
    "tags": []
   },
   "source": [
    "上記の通り、ミニマックス探索で2手先を読むだけで飛躍的に勝率が上昇していることが分かる。\n",
    "\n",
    "ただし、ミニマックス探索は再帰的に手を探索するため、より多くの手を読もうとすると、かなり多くの時間を要する。実際、ミニマックス探索は「本来探索する必要のない手」も探索しているがために、余計に計算を行なっている。"
   ]
  },
  {
   "cell_type": "markdown",
   "metadata": {
    "editable": true,
    "slideshow": {
     "slide_type": ""
    },
    "tags": []
   },
   "source": [
    "ミニマックス探索は、現在の局面から先の手を読むときに、相手も自分自身に取って最善となるように手を検討する。そのため、相手の手の評価値は検討を進めるに従って**相手にとっての価値は上昇していく**一方で、**自分にとっての価値は減少していく**ことが分かる。\n",
    "\n",
    "従って、今得られている価値が最大の手の評価値より、相手の手の探索中に得られる評価値が小さくなった瞬間に、それ以上手を探索する必要がなくなる。このような原理に基づいて探索の枝刈りを行なう手法に**アルファベータ探索**がある。\n",
    "\n",
    "アルファベータ探索は上記の`minimax`関数を少し改良するだけで実装できるので、練習問題として取り組んでみて、探索の効率が上昇することを確認してほしい。"
   ]
  },
  {
   "cell_type": "markdown",
   "metadata": {
    "editable": true,
    "slideshow": {
     "slide_type": ""
    },
    "tags": []
   },
   "source": [
    "(ssec:monte-carlo)=\n",
    "## 原始モンテカルロ探索"
   ]
  },
  {
   "cell_type": "code",
   "execution_count": 31,
   "metadata": {
    "editable": true,
    "slideshow": {
     "slide_type": ""
    },
    "tags": []
   },
   "outputs": [],
   "source": [
    "def playout(env, move, n_trials):\n",
    "    oppo, board = env.step(move)\n",
    "    n_moves = len(env.history)\n",
    "\n",
    "    score = 0\n",
    "    for _ in range(n_trials):\n",
    "        player = oppo\n",
    "        env.board = board\n",
    "        env.history = env.history[:n_moves]\n",
    "        env.stack = env.stack[:n_moves]\n",
    "\n",
    "        while not env.gameset():\n",
    "            next_move = move_by_random(env, player)\n",
    "            player, _ = env.step(next_move)\n",
    "\n",
    "        if env.count(move.player) > env.count(oppo):\n",
    "            score += 1\n",
    "\n",
    "    env.undo()\n",
    "\n",
    "    return score"
   ]
  },
  {
   "cell_type": "code",
   "execution_count": 32,
   "metadata": {
    "editable": true,
    "slideshow": {
     "slide_type": ""
    },
    "tags": []
   },
   "outputs": [],
   "source": [
    "def move_by_monte_carlo(env, player, n_trials=4):\n",
    "    moves = env.legal_moves(player)\n",
    "    if len(moves) == 0:\n",
    "        return Move.Pass(player)\n",
    "\n",
    "    best_move = moves[0]\n",
    "    best_score = 0\n",
    "    for move in moves:\n",
    "        score = playout(env, move, n_trials)\n",
    "        if best_score < score:\n",
    "            best_move = move\n",
    "            best_score = score\n",
    "\n",
    "    return best_move"
   ]
  },
  {
   "cell_type": "code",
   "execution_count": 33,
   "metadata": {
    "editable": true,
    "slideshow": {
     "slide_type": ""
    },
    "tags": []
   },
   "outputs": [
    {
     "data": {
      "application/vnd.jupyter.widget-view+json": {
       "model_id": "534c5ed70af942958e3e6c8c9a15a816",
       "version_major": 2,
       "version_minor": 0
      },
      "text/plain": [
       "  0%|          | 0/1000 [00:00<?, ?it/s]"
      ]
     },
     "metadata": {},
     "output_type": "display_data"
    }
   ],
   "source": [
    "def match():\n",
    "    # ゲームのリセット\n",
    "    env = othello.make()\n",
    "    player, board = env.reset()\n",
    "\n",
    "    # エピソード開始\n",
    "    while not env.gameset():\n",
    "        # 黒番:\n",
    "        if player == Player.BLACK:\n",
    "            # 原始モンテカルロ探索\n",
    "            move = move_by_monte_carlo(env, player)\n",
    "        # 白番:\n",
    "        if player == Player.WHITE:\n",
    "            # 着手可能な手があればランダムに1つを選ぶ\n",
    "            move = move_by_random(env, player)\n",
    "\n",
    "        # 着手による盤の状態の更新\n",
    "        player, _ = env.step(move)\n",
    "\n",
    "    return env.count()\n",
    "\n",
    "\n",
    "with tqdm_joblib(n_episodes):\n",
    "    result = joblib.Parallel(n_jobs=n_jobs)(\n",
    "        (joblib.delayed(match)() for _ in range(n_episodes)),\n",
    "    )\n",
    "\n",
    "result = np.array(result, dtype=\"int32\")\n",
    "b_win = np.sum(result[:, 0] > result[:, 1])\n",
    "w_win = np.sum(result[:, 0] < result[:, 1])\n",
    "draw = np.sum(result[:, 0] == result[:, 1])"
   ]
  },
  {
   "cell_type": "code",
   "execution_count": 34,
   "metadata": {
    "editable": true,
    "slideshow": {
     "slide_type": ""
    },
    "tags": []
   },
   "outputs": [
    {
     "data": {
      "application/papermill.record/text/plain": "817"
     },
     "metadata": {
      "scrapbook": {
       "mime_prefix": "application/papermill.record/",
       "name": "mc_b_win"
      }
     },
     "output_type": "display_data"
    },
    {
     "data": {
      "application/papermill.record/text/plain": "176"
     },
     "metadata": {
      "scrapbook": {
       "mime_prefix": "application/papermill.record/",
       "name": "mc_w_win"
      }
     },
     "output_type": "display_data"
    },
    {
     "data": {
      "application/papermill.record/text/plain": "7"
     },
     "metadata": {
      "scrapbook": {
       "mime_prefix": "application/papermill.record/",
       "name": "mc_draw"
      }
     },
     "output_type": "display_data"
    }
   ],
   "source": [
    "glue(\"mc_b_win\", b_win, display=False)\n",
    "glue(\"mc_w_win\", w_win, display=False)\n",
    "glue(\"mc_draw\", draw, display=False)"
   ]
  },
  {
   "cell_type": "markdown",
   "metadata": {
    "editable": true,
    "slideshow": {
     "slide_type": ""
    },
    "tags": []
   },
   "source": [
    "**対局結果: ミニマックス vs ランダム**\n",
    "- 黒番勝ち: {glue:}`mc_b_win`\n",
    "- 白番勝ち: {glue:}`mc_w_win`\n",
    "- 引き分け: {glue:}`mc_draw`"
   ]
  },
  {
   "cell_type": "markdown",
   "metadata": {
    "editable": true,
    "slideshow": {
     "slide_type": ""
    },
    "tags": []
   },
   "source": [
    "## 練習問題"
   ]
  },
  {
   "cell_type": "markdown",
   "metadata": {
    "editable": true,
    "slideshow": {
     "slide_type": ""
    },
    "tags": []
   },
   "source": [
    "- 本文中に示した`minimax`関数を改良して、アルファベータ探索を実装せよ。"
   ]
  },
  {
   "cell_type": "code",
   "execution_count": null,
   "metadata": {
    "editable": true,
    "slideshow": {
     "slide_type": ""
    },
    "tags": []
   },
   "outputs": [],
   "source": []
  }
 ],
 "metadata": {
  "kernelspec": {
   "display_name": "Python 3 (ipykernel)",
   "language": "python",
   "name": "python3"
  },
  "language_info": {
   "codemirror_mode": {
    "name": "ipython",
    "version": 3
   },
   "file_extension": ".py",
   "mimetype": "text/x-python",
   "name": "python",
   "nbconvert_exporter": "python",
   "pygments_lexer": "ipython3",
   "version": "3.9.17"
  }
 },
 "nbformat": 4,
 "nbformat_minor": 4
}

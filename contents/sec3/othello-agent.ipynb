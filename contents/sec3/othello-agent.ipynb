{
 "cells": [
  {
   "cell_type": "markdown",
   "metadata": {
    "editable": true,
    "slideshow": {
     "slide_type": ""
    },
    "tags": []
   },
   "source": [
    "(sec:othello-agent)=\n",
    "# オセロAIの作成"
   ]
  },
  {
   "cell_type": "markdown",
   "metadata": {
    "editable": true,
    "slideshow": {
     "slide_type": ""
    },
    "tags": []
   },
   "source": [
    "ここからは、より高度な強化学習の対象としてオセロを取り扱う。ご存じの通り、オセロは(諸説あるものの)日本で発祥した「はさみ碁」の一種で、白と黒のディスクを8×8の盤の上に並べ、同色で挟まれたディスクを裏返すことで、より多くのマスを獲得した方が勝利するというゲームである。"
   ]
  },
  {
   "cell_type": "markdown",
   "metadata": {
    "editable": true,
    "slideshow": {
     "slide_type": ""
    },
    "tags": []
   },
   "source": [
    "```{note}\n",
    "オセロは日本以外ではリバーシのように呼ばれることがある。リバーシは初期状態として、ディスクが置かれていない状態からスタートするが、オセロは盤の中央に白黒2枚ずつのディスクを置いた状態からスタートする、という違いがある。\n",
    "\n",
    "参考: [オセロ（ボードゲーム）- Wikipedia](https://ja.wikipedia.org/wiki/%E3%82%AA%E3%82%BB%E3%83%AD_(%E3%83%9C%E3%83%BC%E3%83%89%E3%82%B2%E3%83%BC%E3%83%A0))\n",
    "```"
   ]
  },
  {
   "cell_type": "markdown",
   "metadata": {
    "editable": true,
    "slideshow": {
     "slide_type": ""
    },
    "tags": []
   },
   "source": [
    "**Google Colab用の準備**"
   ]
  },
  {
   "cell_type": "code",
   "execution_count": null,
   "metadata": {
    "editable": true,
    "slideshow": {
     "slide_type": ""
    },
    "tags": [
     "hide-input"
    ]
   },
   "outputs": [
    {
     "name": "stdout",
     "output_type": "stream",
     "text": [
      "You are running the code on the local computer.\n"
     ]
    }
   ],
   "source": [
    "IN_COLAB = True\n",
    "try:\n",
    "    import google.colab\n",
    "\n",
    "    print(\"You are running the code in Google Colab.\")\n",
    "except ImportError:\n",
    "    IN_COLAB = False\n",
    "    print(\"You are running the code on the local computer.\")\n",
    "\n",
    "if IN_COLAB:\n",
    "    # othelloモジュールのインストール\n",
    "    !pip install git+https://github.com/tatsy-classes/cothello.git@v2.1.0\n",
    "    pass"
   ]
  },
  {
   "cell_type": "code",
   "execution_count": null,
   "metadata": {
    "editable": true,
    "slideshow": {
     "slide_type": ""
    },
    "tags": [
     "remove-cell"
    ]
   },
   "outputs": [
    {
     "data": {
      "text/plain": [
       "1000"
      ]
     },
     "metadata": {
      "scrapbook": {
       "mime_prefix": "",
       "name": "n_episodes"
      }
     },
     "output_type": "display_data"
    }
   ],
   "source": [
    "import random\n",
    "import contextlib\n",
    "import multiprocessing\n",
    "\n",
    "import numpy as np\n",
    "import joblib\n",
    "import seaborn as sns\n",
    "import IPython.display as display\n",
    "import matplotlib.pyplot as plt\n",
    "from tqdm.notebook import tqdm\n",
    "from matplotlib.animation import ArtistAnimation\n",
    "\n",
    "try:\n",
    "    from myst_nb import glue\n",
    "except ImportError:\n",
    "    glue = lambda *args, **kwargs: None\n",
    "\n",
    "rc = {\"figure.dpi\": 150}\n",
    "sns.set_theme(style=\"white\", rc=rc)\n",
    "\n",
    "# 乱数シードの固定\n",
    "random.seed(12345)\n",
    "np.random.seed(12345)\n",
    "\n",
    "# 実験に用いるエピソード数\n",
    "n_episodes = 1000\n",
    "glue(\"n_episodes\", n_episodes)\n",
    "\n",
    "# 並列化スレッド数\n",
    "n_jobs = min(4, multiprocessing.cpu_count())"
   ]
  },
  {
   "cell_type": "code",
   "execution_count": null,
   "metadata": {
    "editable": true,
    "slideshow": {
     "slide_type": ""
    },
    "tags": [
     "remove-cell"
    ]
   },
   "outputs": [],
   "source": [
    "# joblib用のtqdm\n",
    "@contextlib.contextmanager\n",
    "def tqdm_joblib(total=None, **kwargs):\n",
    "    pbar = tqdm(total=total, miniters=1, smoothing=0, **kwargs)\n",
    "\n",
    "    class TqdmBatchCompletionCallback(joblib.parallel.BatchCompletionCallBack):\n",
    "        def __call__(self, *args, **kwargs):\n",
    "            pbar.update(n=self.batch_size)\n",
    "            return super().__call__(*args, **kwargs)\n",
    "\n",
    "    old_batch_callback = joblib.parallel.BatchCompletionCallBack\n",
    "    joblib.parallel.BatchCompletionCallBack = TqdmBatchCompletionCallback\n",
    "\n",
    "    try:\n",
    "        yield pbar\n",
    "    finally:\n",
    "        joblib.parallel.BatchCompletionCallBack = old_batch_callback\n",
    "        pbar.close()"
   ]
  },
  {
   "cell_type": "markdown",
   "metadata": {
    "editable": true,
    "slideshow": {
     "slide_type": ""
    },
    "tags": []
   },
   "source": [
    "## オセロゲーム環境"
   ]
  },
  {
   "cell_type": "markdown",
   "metadata": {
    "editable": true,
    "slideshow": {
     "slide_type": ""
    },
    "tags": []
   },
   "source": [
    "### オセロモジュールのインストール"
   ]
  },
  {
   "cell_type": "markdown",
   "metadata": {
    "editable": true,
    "slideshow": {
     "slide_type": ""
    },
    "tags": []
   },
   "source": [
    "今回は、講義用に用意したオセロ用のゲーム環境を用いる。ゲーム環境用のモジュールは以下のURLからダウンロードできる。\n",
    "\n",
    "<https://github.com/tatsy-classes/cothello/releases/>\n",
    "\n",
    "このURLにはPython3.9用のインストールパッケージ (Wheel)がOSごとに用意されている。Windows, Linuxの場合はそれぞれ対応するものを、MacOSの場合はM1, M2等のCPUを持つモデルなら`..._arm64.whl`、そうでない場合は`..._x86_64.whl`をダウンロードする。\n",
    "\n",
    "ダウンロード後、Anacondaの仮想環境を`advml`等の本資料用のものに切り替えた後、WindowsならコマンドプロンプトかPowerShell、Macならターミナルを開いて、以下のコマンドでパッケージをインストールする。\n",
    "\n",
    "```shell\n",
    "# \"xxx\"の部分は自分がダウンロードしたWheelのファイル名に読み替えること\n",
    "pip install xxx.whl\n",
    "```"
   ]
  },
  {
   "cell_type": "markdown",
   "metadata": {
    "editable": true,
    "slideshow": {
     "slide_type": ""
    },
    "tags": []
   },
   "source": [
    "### オセロモジュールの概要"
   ]
  },
  {
   "cell_type": "markdown",
   "metadata": {
    "editable": true,
    "slideshow": {
     "slide_type": ""
    },
    "tags": []
   },
   "source": [
    "このモジュールには大きく分けて、3つのクラスが定義されている。\n",
    "\n",
    "**Env** はオセロゲームを取り扱う環境で、有効手の列挙や盤の状態の更新などの関数を提供する。ただし、`Env`クラスは直接インスタンス化する代わりに、`gymnasium`と同様に環境作成用の`make`関数が用意されているので、こちらを用いる。\n",
    "\n",
    "**Action** はオセロゲームにおける「手」を表わすクラスで、現在のプレイヤーとディスクを置く場所を格納している。\n",
    "\n",
    "**Player** は厳密には列挙型として定義されていて、プレイヤーが黒番なのか白番なのかに加えて、次のプレイヤーに手渡しする関数などが提供されている。\n",
    "\n",
    "まずは、これらをモジュールからインポートして、ゲーム環境を作成してみる。"
   ]
  },
  {
   "cell_type": "code",
   "execution_count": null,
   "metadata": {
    "editable": true,
    "slideshow": {
     "slide_type": ""
    },
    "tags": []
   },
   "outputs": [],
   "source": [
    "# オセロモジュールのインポート\n",
    "import othello\n",
    "from othello import Action, Player"
   ]
  },
  {
   "cell_type": "code",
   "execution_count": null,
   "metadata": {
    "editable": true,
    "slideshow": {
     "slide_type": ""
    },
    "tags": []
   },
   "outputs": [
    {
     "data": {
      "image/png": "[encoded data removed]",
      "text/plain": [
       "+-+-+-+-+-+-+-+-+\n",
       "| | | | | | | | |\n",
       "+-+-+-+-+-+-+-+-+\n",
       "| | | | | | | | |\n",
       "+-+-+-+-+-+-+-+-+\n",
       "| | | | | | | | |\n",
       "+-+-+-+-+-+-+-+-+\n",
       "| | | | | | | | |\n",
       "+-+-+-+-+-+-+-+-+\n",
       "| | | | | | | | |\n",
       "+-+-+-+-+-+-+-+-+\n",
       "| | | | | | | | |\n",
       "+-+-+-+-+-+-+-+-+\n",
       "| | | | | | | | |\n",
       "+-+-+-+-+-+-+-+-+\n",
       "| | | | | | | | |\n",
       "+-+-+-+-+-+-+-+-+"
      ]
     },
     "execution_count": 5,
     "metadata": {},
     "output_type": "execute_result"
    }
   ],
   "source": [
    "# 環境の作成\n",
    "env = othello.make()\n",
    "env"
   ]
  },
  {
   "cell_type": "markdown",
   "metadata": {
    "editable": true,
    "slideshow": {
     "slide_type": ""
    },
    "tags": []
   },
   "source": [
    "上記のように、オセロ環境は初期状態ではディスクが配置されていない。ここでも`gymnasium`と同様に`reset`関数を呼び出すことで、ゲーム環境が初期化される。\n",
    "\n",
    "なお、オセロのプレイヤーや盤の情報などは全て変数`env`の中に`env.player`ならびに`env.board`として格納されており、`gymnasium`と異なっているので注意すること。"
   ]
  },
  {
   "cell_type": "code",
   "execution_count": null,
   "metadata": {
    "editable": true,
    "slideshow": {
     "slide_type": ""
    },
    "tags": []
   },
   "outputs": [],
   "source": [
    "env.reset()"
   ]
  },
  {
   "cell_type": "code",
   "execution_count": null,
   "metadata": {
    "editable": true,
    "slideshow": {
     "slide_type": ""
    },
    "tags": []
   },
   "outputs": [
    {
     "name": "stdout",
     "output_type": "stream",
     "text": [
      "BLACK\n"
     ]
    }
   ],
   "source": [
    "print(env.player)"
   ]
  },
  {
   "cell_type": "code",
   "execution_count": null,
   "metadata": {
    "editable": true,
    "slideshow": {
     "slide_type": ""
    },
    "tags": []
   },
   "outputs": [
    {
     "name": "stdout",
     "output_type": "stream",
     "text": [
      "[[ 0  0  0  0  0  0  0  0]\n",
      " [ 0  0  0  0  0  0  0  0]\n",
      " [ 0  0  0  0  0  0  0  0]\n",
      " [ 0  0  0 -1  1  0  0  0]\n",
      " [ 0  0  0  1 -1  0  0  0]\n",
      " [ 0  0  0  0  0  0  0  0]\n",
      " [ 0  0  0  0  0  0  0  0]\n",
      " [ 0  0  0  0  0  0  0  0]]\n"
     ]
    }
   ],
   "source": [
    "print(env.board)"
   ]
  },
  {
   "cell_type": "markdown",
   "metadata": {
    "editable": true,
    "slideshow": {
     "slide_type": ""
    },
    "tags": []
   },
   "source": [
    "また、Jupyter Notebook環境においては`env`を表示することで盤面を表わす画像が表示されるようになっている。"
   ]
  },
  {
   "cell_type": "code",
   "execution_count": null,
   "metadata": {
    "editable": true,
    "slideshow": {
     "slide_type": ""
    },
    "tags": []
   },
   "outputs": [
    {
     "data": {
      "image/png": "[encoded data removed]",
      "text/plain": [
       "+-+-+-+-+-+-+-+-+\n",
       "| | | | | | | | |\n",
       "+-+-+-+-+-+-+-+-+\n",
       "| | | | | | | | |\n",
       "+-+-+-+-+-+-+-+-+\n",
       "| | | | | | | | |\n",
       "+-+-+-+-+-+-+-+-+\n",
       "| | | |x|o| | | |\n",
       "+-+-+-+-+-+-+-+-+\n",
       "| | | |o|x| | | |\n",
       "+-+-+-+-+-+-+-+-+\n",
       "| | | | | | | | |\n",
       "+-+-+-+-+-+-+-+-+\n",
       "| | | | | | | | |\n",
       "+-+-+-+-+-+-+-+-+\n",
       "| | | | | | | | |\n",
       "+-+-+-+-+-+-+-+-+"
      ]
     },
     "execution_count": 9,
     "metadata": {},
     "output_type": "execute_result"
    }
   ],
   "source": [
    "env"
   ]
  },
  {
   "cell_type": "markdown",
   "metadata": {
    "editable": true,
    "slideshow": {
     "slide_type": ""
    },
    "tags": []
   },
   "source": [
    "## ランダムな着手"
   ]
  },
  {
   "cell_type": "markdown",
   "metadata": {
    "editable": true,
    "slideshow": {
     "slide_type": ""
    },
    "tags": []
   },
   "source": [
    "まずは、オセロ環境の仕様を理解するために、白番、黒番ともにランダムに行動させて、どのように状態が変化するかを見てみよう。\n",
    "\n",
    "`env`には、現在の盤の状態で取ることができる「有効手」の配列を取得する`legal_actions`関数が提供されている。"
   ]
  },
  {
   "cell_type": "code",
   "execution_count": null,
   "metadata": {
    "editable": true,
    "slideshow": {
     "slide_type": ""
    },
    "tags": []
   },
   "outputs": [
    {
     "name": "stdout",
     "output_type": "stream",
     "text": [
      "[BLACK 4 3, BLACK 3 4, BLACK 6 5, BLACK 5 6]\n"
     ]
    }
   ],
   "source": [
    "actions = env.legal_actions()\n",
    "print(actions)"
   ]
  },
  {
   "cell_type": "markdown",
   "metadata": {
    "editable": true,
    "slideshow": {
     "slide_type": ""
    },
    "tags": []
   },
   "source": [
    "上記の出力から、黒番が3行5列、4行6列、5行3列、6行4列の4箇所のいずれかにディスクを置くことができることが分かる。\n",
    "\n",
    "着手を決定したら、`env.update`関数に手を表す変数を渡すと盤の状態が更新される。"
   ]
  },
  {
   "cell_type": "code",
   "execution_count": null,
   "metadata": {
    "editable": true,
    "slideshow": {
     "slide_type": ""
    },
    "tags": []
   },
   "outputs": [],
   "source": [
    "env.update(actions[0])"
   ]
  },
  {
   "cell_type": "code",
   "execution_count": null,
   "metadata": {
    "editable": true,
    "slideshow": {
     "slide_type": ""
    },
    "tags": []
   },
   "outputs": [
    {
     "name": "stdout",
     "output_type": "stream",
     "text": [
      "WHITE\n"
     ]
    }
   ],
   "source": [
    "print(env.player)"
   ]
  },
  {
   "cell_type": "code",
   "execution_count": null,
   "metadata": {
    "editable": true,
    "slideshow": {
     "slide_type": ""
    },
    "tags": []
   },
   "outputs": [
    {
     "name": "stdout",
     "output_type": "stream",
     "text": [
      "[[ 0  0  0  0  0  0  0  0]\n",
      " [ 0  0  0  0  0  0  0  0]\n",
      " [ 0  0  0  1  0  0  0  0]\n",
      " [ 0  0  0  1  1  0  0  0]\n",
      " [ 0  0  0  1 -1  0  0  0]\n",
      " [ 0  0  0  0  0  0  0  0]\n",
      " [ 0  0  0  0  0  0  0  0]\n",
      " [ 0  0  0  0  0  0  0  0]]\n"
     ]
    }
   ],
   "source": [
    "print(env.board)"
   ]
  },
  {
   "cell_type": "markdown",
   "metadata": {
    "editable": true,
    "slideshow": {
     "slide_type": ""
    },
    "tags": []
   },
   "source": [
    "`env`のJupyter Notebook環境における表示により、黒番が3行5列にディスクを置いたことで、着手したセルがハイライトされて、かつ、盤の状態が正しく更新されていることが確認できる。"
   ]
  },
  {
   "cell_type": "code",
   "execution_count": null,
   "metadata": {
    "editable": true,
    "slideshow": {
     "slide_type": ""
    },
    "tags": []
   },
   "outputs": [
    {
     "data": {
      "image/png": "[encoded data removed]",
      "text/plain": [
       "+-+-+-+-+-+-+-+-+\n",
       "| | | | | | | | |\n",
       "+-+-+-+-+-+-+-+-+\n",
       "| | | | | | | | |\n",
       "+-+-+-+-+-+-+-+-+\n",
       "| | | |o| | | | |\n",
       "+-+-+-+-+-+-+-+-+\n",
       "| | | |o|o| | | |\n",
       "+-+-+-+-+-+-+-+-+\n",
       "| | | |o|x| | | |\n",
       "+-+-+-+-+-+-+-+-+\n",
       "| | | | | | | | |\n",
       "+-+-+-+-+-+-+-+-+\n",
       "| | | | | | | | |\n",
       "+-+-+-+-+-+-+-+-+\n",
       "| | | | | | | | |\n",
       "+-+-+-+-+-+-+-+-+"
      ]
     },
     "execution_count": 14,
     "metadata": {},
     "output_type": "execute_result"
    }
   ],
   "source": [
    "env"
   ]
  },
  {
   "cell_type": "markdown",
   "metadata": {
    "editable": true,
    "slideshow": {
     "slide_type": ""
    },
    "tags": []
   },
   "source": [
    "オセロはルール上、着手可能な手がない、すなわちどこにディスクを置いても裏返せる相手方のディスクが存在しない時にはパスをすることになる。\n",
    "\n",
    "有効手が存在しない時には`legal_actions`が長さが1でパスを表す手を含む配列を返してくる。その手 (`Action`)がパスの手かどうかは`is_pass()`で判定できる。"
   ]
  },
  {
   "cell_type": "markdown",
   "metadata": {
    "editable": true,
    "slideshow": {
     "slide_type": ""
    },
    "tags": []
   },
   "source": [
    "これらを踏まえて、黒番、白番ともにランダムに着手させて、盤の状態変化を確認する。"
   ]
  },
  {
   "cell_type": "code",
   "execution_count": null,
   "metadata": {
    "editable": true,
    "slideshow": {
     "slide_type": ""
    },
    "tags": []
   },
   "outputs": [],
   "source": [
    "# ゲームのリセット\n",
    "env.reset()\n",
    "frames = []\n",
    "\n",
    "# エピソード開始\n",
    "while not env.is_done():\n",
    "    # 現在の状態画像を保存\n",
    "    img = env.render()\n",
    "    frames.append(img)\n",
    "\n",
    "    # 有効手の列挙\n",
    "    actions = env.legal_actions()\n",
    "\n",
    "    # 着手可能な手があればランダムに1つを選ぶ\n",
    "    action = np.random.choice(actions)\n",
    "\n",
    "    # 着手による盤の状態の更新\n",
    "    env.update(action)"
   ]
  },
  {
   "cell_type": "code",
   "execution_count": null,
   "metadata": {
    "editable": true,
    "slideshow": {
     "slide_type": ""
    },
    "tags": [
     "hide-input"
    ]
   },
   "outputs": [
    {
     "data": {
      "text/html": [
       "<video width=\"512\" height=\"512\" controls autoplay loop>\n",
       "  <source type=\"video/mp4\" src=\"data:video/mp4;base64,AAAAHGZ0eXBNNFYgAAACAGlzb21pc28yYXZjMQAAAAhmcmVlAAEx021kYXQAAAKhBgX//53cRem9\n",
       "5tlIt5Ys2CDZI+7veDI2NCAtIGNvcmUgMTU5IC0gSC4yNjQvTVBFRy00IEFWQyBjb2RlYyAtIENv\n",
       "cHlsZWZ0IDIwMDMtMjAxOSAtIGh0dHA6Ly93d3cudmlkZW9sYW4ub3JnL3gyNjQuaHRtbCAtIG9w\n",
       "dGlvbnM6IGNhYmFjPTEgcmVmPTMgZGVibG9jaz0xOjA6MCBhbmFseXNlPTB4MzoweDExMyBtZT1o\n",
       "ZXggc3VibWU9NyBwc3k9MSBwc3lfcmQ9MS4wMDowLjAwIG1peGVkX3JlZj0xIG1lX3JhbmdlPTE2\n",
       "IGNocm9tYV9tZT0xIHRyZWxsaXM9MSA4eDhkY3Q9MSBjcW09MCBkZWFkem9uZT0yMSwxMSBmYXN0\n",
       "X3Bza2lwPTEgY2hyb21hX3FwX29mZnNldD0tMiB0aHJlYWRzPTE2IGxvb2thaGVhZF90aHJlYWRz\n",
       "PTIgc2xpY2VkX3RocmVhZHM9MCBucj0wIGRlY2ltYXRlPTEgaW50ZXJsYWNlZD0wIGJsdXJheV9j\n",
       "b21wYXQ9MCBjb25zdHJhaW5lZF9pbnRyYT0wIGJmcmFtZXM9MyBiX3B5cmFtaWQ9MiBiX2FkYXB0\n",
       "PTEgYl9iaWFzPTAgZGlyZWN0PTEgd2VpZ2h0Yj0xIG9wZW5fZ29wPTAgd2VpZ2h0cD0yIGtleWlu\n",
       "dD0yNTAga2V5aW50X21pbj0xMCBzY2VuZWN1dD00MCBpbnRyYV9yZWZyZXNoPTAgcmNfbG9va2Fo\n",
       "ZWFkPTQwIHJjPWNyZiBtYnRyZWU9MSBjcmY9MjMuMCBxY29tcD0wLjYwIHFwbWluPTAgcXBtYXg9\n",
       "NjkgcXBzdGVwPTQgaXBfcmF0aW89MS40MCBhcT0xOjEuMDAAgAAAFwhliIQAEf/+94gfMstp+TrX\n",
       "chHnrS6tH1DuRnFepL3+IAAAAwAABHUc0eeasjtsuwAABZwAQf1v4M0/8RGblJb1xp5VG//XahaK\n",
       "n+qeMowh0rTyusnEw44ch5n513A9ksc4h28Hh4fI/3P0BK3AjUSl5S8B6eYKb+/c/2c2y4oMVTnh\n",
       "psJW9xP+7+pbLcHu3ueGwjIfBtn1EkLYWtJiYamKW6xKvnX/BmPtpTOmQG+QXLVJVVU4fQ1Bfn8z\n",
       "wLS+LxKnU19LwOOKmAT6Oa7xNod7XB5SxvL9BiHz8ZHlrtE9GBq/GQc9SfpgfQn8mAi3qoI0xabg\n",
       "D2OUdjwr9/mk6MqLMp47UzXzLOBPdTQt8sMOsBukugbeAG7aF//6nRP6ultl9QWuUf0CkCPmM3h8\n",
       "NqJy5qo1XEhNQETA1fc1ngqdAELWe6UIEgRzv9GEB7gNdhUz7Sv+tLYM92+8v9IwRTCVawgK4f9q\n",
       "o4aq0B8KjiNGHsiHp91hnJf2dJ5zHL11zJTscEo7yjzNTCuD4LA8sm6NTcLVoydpX/l31aGRRVFV\n",
       "gfQsznXWyoZa1kN/1la39ly4CLw6NwIz///j7UodulwX8W47c2KXRWwejv+i9NqOG2xbpjSS3/4b\n",
       "XwA75iDl2EVMKzZcrdfyKJeaYO866K0/yFuAg3qLrPafAnr0qeSmZROYWkSRnyyVbugxAxVUdeX9\n",
       "HYLNnwEzfYtOYgAp+F0HKgqJtxQfIavZ2PkBZnM+bPtmxWE8sXWe+yq8v2la+UvX5S9bUh2xT3cO\n",
       "69//75Ru7CQ1IweHObvPPTsIFo9Wf1iktZqhgNVR+reMlM9fmOSNbsoUz8+MjjfoXVLQRVDDiWyy\n",
       "ieEU+s798TgmCPRJFJ/AbNOJyRH0M6DaOTgvbT5UT5JhCRPO+z0jDwa0ss5+khLTa30SjBDbPg3u\n",
       "jaoIJQFDAYkO+C5cU4NFsOdy/oAqrK5hqBJj0Hwytdq8Ik6oTjine6YhwNu1TgURFFkus2k1Cb0k\n",
       "bGoPINMQuEJbFTCiqgvmIir5BhbqyjAGj4CQnJQKEb/zIK7nyGFyBzJMOmo683Lg1n3+lDU++OR/\n",
       "tkAm7m4zF7WUhH9+eC3GpR0YuOTDLVzprVPoW29C+piqFLuMl8C06rXYG+Wb1TgzjMqpwBy6/1+Z\n",
       "xchJ+Gmqs8u3njoVCcLgkKIP61Jsd6NOBPu8NXmtOhcTLXqkDfsQTR3ZCymmdEKkgjFiPTsEsKCh\n",
       "CA8z00xd9gbYK0xf1mePd3zps21Y7l017ylkgMQ0CPCB/Pnh4o/KxZHEaQuABL/OrVnB4wTLCY/9\n",
       "cp3PYQC9F7evDKjneIkO08XRLuL9hVvgNVUP0cxDVNNchjYjSmMBMiIcXNYyh6ns/aHtgAJXO83L\n",
       "ZF/RSVjMtlz7p4J2xDOVCrtLvV0gymu3LwgtEdesovmJm3f+OWBKzQ94JBlv9hAGG75CTb85XJUi\n",
       "carVtbjbhq0vs/uJqn/x6/2iJ4f1Nf2lfRwQE/wj8jDyqveAIqU1VGXmX4pIc4c+RPkBJ83z9hAw\n",
       "niSXBeobTkPErsACKeL/+k0K8jXlGmm3iRrBDaUPOd8BwcSOoK0uRYrK3WbbfqLO0OL7peTWLJv5\n",
       "w+dewCX7/tyCyBQMZgD/ve9W30g4BwvIZlnoqNNd5X8Vb3cSMnWoUuks14yhZIWhvOxdmHG2L4cR\n",
       "Y8v8QnfVaEMmnxMCHkkEIM2ee5D4Qx4S4luSVQZ32K3BY+ZTlE0zhqlWIb4i80cqsJEOSmf274nt\n",
       "rjN8TjVOtORq1r4JY0qJbIyqYYJhneQkAff8Prjr22zpBl557Slbg9uJvjQn0htB9X0M1UvrSMBd\n",
       "t58UFv7JEIjx7kkDrlnaKZkIjj2wh1lngf1Su224EwzoCuezdmfwhhpMxR67kHB/T644+Fzenou5\n",
       "nRg8HsSP1xkiFrvytqurpT1/4hiNxv+zX6H5sxws+eDblUCshjDPq55hePdOkplE6o7wNHojfZuz\n",
       "PEOk/3b9pjhkeJl/DS84tlZGeTNkg5LgU3uR982dXPqJts6WdQNarOfsxdwot/U87ChaDrTEzift\n",
       "KIyRYOF5HHbVEAc7znw/IBRGGvKg6za2W3G8jwboNwdsmpXiQ+vG/Qiejk+MOwARkN60Zye/9kP4\n",
       "ntRTC8+g5AxsonBalSQ1m5J092SnMMH4bCAnfoYFx9xsQuqdZMFoBuoFW0NzFdAeIigwpvlZ0NXn\n",
       "VaDQi6XKpsl82QZKFf3AbGU2WPqLxgD7XYiPY7uo1UKVnyW/InyQcfErdqQcN43TM93vC1SWqDPC\n",
       "eyIzpAHt5nUZbbB+lS8//J+IBBysKtp8nHzzWGspXLzP235WIY0IZNkCxf9ig/4KWD9qRA95HPfT\n",
       "1qy+8DH4BrvG6BAjZuncP1vAgwOAwliK+S28FxwTW/Lm98pPwrd8FpI7WbcbQ/gYeTYBvsuEI0m6\n",
       "0mhYEMhQFXC4VpoPVKHVQGKxk5hwoBwVr8FhbfiB75wAS+NRVPspM/SXH3BaExcOELjrctC7mKFb\n",
       "QIbJCXXSX7VPXqoskCIEV43yvzbhmhPWSDZH8F+IFZ3n+7gm0YNDzU3v0xOAq5/ltnx/uPqsOqWn\n",
       "fykcmppdfaNp+CI/e0is92bDNMBPYWkOq+vYoO8ZKb2gHO1M8vXXZ+ipAwb8ZFX5lNGmaALU1g0T\n",
       "18IPh6OUcJk8TXWYXcIRG2Nq05onoVfm/NvPERbi+QfUo1y0mQj+uKz/Rna0jMKaFVfTpR/fEzBu\n",
       "Ax+uEIx+MmVjQs/LkjxpCpHzuxSQRA9hhSnQoJBB5QUXeHGGo0El22iJBU6nowCzt0Ueol2rWl3r\n",
       "MLl7RU+wQk7wXqAADU5A08ZldLW0iqaoACnsRQEGbF3e2eXQigu7RaF5UT+/NWw2OHiLPYybVgwU\n",
       "0TUtSPZdB2EcwRUoxn/R1T2tT8f0C0PiofHBKPemn2Mlj6BepsDK+mIyJxR8sValNa9WBjZfX7ee\n",
       "fP/cqV6W7Z5B5xBcLltQoOeKdhSzXh2//7YHMJan7qs0BNiz1Zm9SiZy27siUdAp+8WTXMDijAoL\n",
       "5D+oGbD0TDfElNSQ4vxKS7NjUgLR9voCGh2BcWLSWj3oh2uGwptO5FBhRk/768RvMU9Da2J7f11Z\n",
       "Fq6bIzLcdhEZ8FvMlYa9uqz8Ktr4nF5fBWTS/XzSwP7Ha8mHje4fVsl2a4fGRzg+hzDy6Iklhc3q\n",
       "gjWNMfMTT9+Y8PByLxZ1GmfNYER+EqFmZAOkQ/sssZZqt9cE2kgSERkQHFMBTwr3LPwnqx/vE7gg\n",
       "mWd2Sy8EnHCrk8hMzUI1lGPP1g71nBldyWM7bSc22tDc/8Mf1vg5nDqvwBQ3QCh0XersDOjRyn2v\n",
       "fbdvLLaRqz/q1trH+ODxnI43JyiS2w4XT6pC4e7SW0SVz6dSyID3+6GvKaAiHqTcFgRREOpISYI8\n",
       "CsY7PRiUVxNx3awB8so3yTmY5dPuWWgdIviBvIWNieqGaqCxq6rGKUXYxkbNy6k2Szjt4+/LLhfJ\n",
       "OqtJWw/CQ7Uf34p4J5uv7O4NFGdsCSjUu9AW2T6Fy8moHdKnFdJFzYufEFbcbEcKoYdamp34YrFc\n",
       "slBQPqbA79HsO2VhKaM2+G0/12a4qlxcCg5H4vSBup1JZIP1dnaa+kkhO6xHbmJqVGg37hH3G/hJ\n",
       "hIPPCx1RbFufpejxTwHCmmK7vdu87Sm4hq1/yI7VKoJZbKQZHFyy4HzICECD+DLXNuV7uGwnxHYA\n",
       "tlVXU87PbTxIIpl8BaLLEP7z5N2sVzd6EinaWxYgUIGfyh9/hCf5eNHsTV7kwQmf/y2BB2uqp0Gl\n",
       "isrY65otlazPoKMTQroToDky/jfyTTmXQ1G0ofUeSS8g3kPHiyBbivYVYZan8QHOIAlsK24npcKT\n",
       "ImJsx6fQUJvHsifxPN//VwGflf1lg4hBzke0SGnfT8/nIEqyxfZHjEAifhr9djwJqnJjdeiJdnZ/\n",
       "fCguoYbwkB6s2B7wqdKhZUTlv/odL0u6tueWsQG1uZj/2gUqRTRDD23bpbR91TyzV+r7qKxld1Qc\n",
       "YPf+RAe3C1mWyY0bL4MHIiiJwO796pOaTiLZQ85JOBKnhDpOQ4toKC1D3y4sxApdL8eFftioVQcd\n",
       "CiWTNQosEMwTQuWtgmMV+2kqqkCJsJIle85OoW5ly8mB4H+iCT+oNWQxIIO9ZPxSJ7WGD5WRE0rm\n",
       "d6ndl/bgcJc8dMltMpxxWuXgze+hAI+yUg8U+hslYtveaD42DC9+gdpawc7j+rOnwW3nQtkZu9Xn\n",
       "hI64464/3iIxUeIQVJ3mHaSyAg9O9/8bh26crr65gcAhXWyissRhju7NrjkV4RevsFM5a3keFH83\n",
       "WBpp1G1w04BK296JgRC/PxIY16EFM1TEGIYpQEOsCUZNfWbWCjUtlT+BJfGCUbxf9R2BD/7bpTmu\n",
       "PKQ8L3q9R/IUH2nEA46rdgfNsMINsYzqd8R9xIYo2vNV0ihHNccj7DlQtxbTFDrAsBJl7Ma4Kypi\n",
       "yRQiPbVITqAjLRjnARPeMKe3tWicvjVNg8/zNJmCT7N873a+6Gcwpqs9UuOB+6cXOXpZpPsXCPqW\n",
       "fmTkkyJOoVk9Ue2cCvnmPAVRQSt+fbgML33+C67lBRgDfCdRmMW3ToZT/DE2XKzh2cmu4m9V57eW\n",
       "SFxN4FAEx44sGliY+E7mCIjfRgGVgBJzX8WNr8usrmf2ZBxyHtvIFzYdSkImbSUqGijUjAR5Yz11\n",
       "Lzly7ufHXmm8+FSsiZb8yjTL8vHDhXOLgFm9P5I4PInYmHSMjh5bndohRVKZeZyFJxGphSGm+5pd\n",
       "hZmI8eCtM3WizOB8zGy43qEJM/Qj6hS9mJLdGAhneuu1xW+MA7OP8Thuu+Q2s4TtdmbvBzB/zUYm\n",
       "5NI74iVExJoqznFSgs3Mr4SzSVyTeBBNQb4Lkwh1cx9TK/0p/3mPq7PkEbfzk8dgvwqb+7eYVrSh\n",
       "SdYOZgpnk0tHQrKwstVHi4ymahIHB1/c2pB/De3uT9x+mEfAlfUVmqCRkpus2EKFZoAqdnjs0ebR\n",
       "EQX7pcIKqQXly/ofBvcyjb4/TF5WWo/H9wZVAtT3qow63fyVWHhdnRAswRrvv36MH/51Lz8xj6SZ\n",
       "cPlUxPt76B807u6uBJFNQ/+r1vNhFSiJBlExA2xzmq6zV6FX905MC/NAvyubOWklk7sk9LVUR2gX\n",
       "i37uSlHh5bqo07ARlbl2o5sANZyh9wwtv8nP5T2qVZa1bF2IUsFRbgs16HFITH8J/3EcIR4O20Ks\n",
       "DYhggsEQg+7C1OahBu30KpVCPbNFkZiN3/M2A/UiDPBHZFMTqY2LIZTDxt8vspJ4fCdCQYFiBRdP\n",
       "22pFuT8Uge1eW1gBakM1FMx4M1tt63BIpaD22IfazpCQ3TdfSMfzrEiaACj0KW+k4D4a1w4gmd/j\n",
       "8IWEF8VWvtct+WJxRqY7AKkZLYtBwM/WvMGfImwz0mhWWK0bsMz8X5TdBSRSNXU26KUWBt2oT4xD\n",
       "n4d/03oC7ET1I5umpIkQcM1BdpdTM9YS3D4FLZPDuIedfzE8F9nACqGyX9CHjlEoQzcK/43M5Ceq\n",
       "9Li7kaoQ+XRw7f8KzKewpU4u9Tstr9kudq1IzlZ9peRlwZXbA+Zo0qpfim6pvpDzpte74W3////s\n",
       "lGKmZSv1kqVcOnwSan8XWJTFZtl7bfSVMvHHAjZsxM9YxwTjPhDEsJAqV8ETXi1Xdb6PIQdqi8Cv\n",
       "fjtNVECeucYGjm71bcD4OOPz28jSPtiRhBuYPKCjFut5P5wKUkARzbWbRMsc6igRyTvIYjVhCfLg\n",
       "GrE/K52W874RuQFGirxAAXDq5uJf/3Xkb21IzS9G0lAKyHN5rzY7H+yGp6opkdoAeq5Dan2b4UCN\n",
       "F7Z/JrjwNPOy2uS4UP6KhVo20/wyFPH5rydEA712EtGynj7Wru7NCpD9OT/7RktpD+oyw9gTqET0\n",
       "LJANe0fewwaNhQmpt2FB0Zzp5io6pCL5pNQl/MufpyHgmpzIS3wq2f6UOstELgKisivSJTNDMF9a\n",
       "1WrbHd3c4f7FLzDUEBGAyv21H8Hl27fgep7p12gA+taLzYiChEPf9lP0iAl+CPl1BiNIRUuKU6LB\n",
       "5lfEa3x88By8cSUdJ162iznklOftzojY4lqWJooKm794muI0bdn+zgv7jNC5VT2NRlJevoC9DcOT\n",
       "m31oxnEHdGbB8x6h2qmJgCQajryxRZbpmnqtB60/A0R8jH8Fc+lINjGXOJjyOjqAdMCzulG8PSgh\n",
       "fDbzX8nBC94xPFfZTFNGjovfS8xdvPRbJcQZWrQaOHaIrIeovZ6s8gaSgWVXAoEU4MD/H2FBubYb\n",
       "PqA8J8l3kS0EiMDZZm3kdKRspf/QnA5NGrQWgiVqgmV+b7cxp9WodtxlHlpop5FR7ozNiByIy31K\n",
       "7oY2G9bH0cfJKKIZctNFbY2iqJduEHMHKJOut3ZQyHHeTQ2PKoKYYSxie8CsjyymYml/5agl2SuW\n",
       "YpIwoeIEt6IAuoZDHUHP2zp0nqDEbdBhyKv+eqORCex0kqsYZ2TWPtMI7PXNHp+kvICULEXEal6u\n",
       "uYvQUEbqDsgLp4clTLC0MJYDr5EjR2f/KtYuOz0taSEuvcerJ/YI5O/GJknzh6+QV2RTH8SQiy0T\n",
       "AOItKWJeLS6ZCG2ZjTLdkAN3i0F73JgBi6GW/p342SQjqRyq8BsRQh7NU8y/3Zt+cfIjWLKnvd0Y\n",
       "fsIFW5uQ1zt5FzsN6+hRPl4wnz+VhQirfvQCgzpFgqP0xw2Ith99eW4qBbGov2SQbZv1ZaOQrcUt\n",
       "ixYrTVHpI8YArt4Fzi1wRjBE5zPLJi+Mnlb7h3QT1OLV5T/KqwwU21oCH2OcHJmmkWdhDsn3vjVA\n",
       "WeVmTzo76NuMp7EOnKNIC756S1EL1Z59x3LLwrlihLUUAwZQKfuOvQx8nvUdzX1qiaftimDnn1TM\n",
       "daDYgImbD2uBME7yOlTLJG+CgDaL+uwrYc5pOAY1VbMJeO9IjmsTFwJXWK3DM/VGAqiEPUuJlw4y\n",
       "mDUmvdVJRbq1C0+CjNORwkEJIngQoky41jVI1D/zntMXa6oxRK5rbCuDT0FsDUsqZL9vEw6yzMmn\n",
       "o97UZhW/dzEK3hDVmI/mDRKlIb7MPDgUF1Y3whhy3BBrXqjqJZFkeLEePePqqHqEckoJ7MDZYUCG\n",
       "xzgaHN8pnhQDnqlmNnP5j4r/JcN5SuSKQCRSsrGh8DQiwB98GDnHWTO7xmzlXKlALA1wyF4IR6tD\n",
       "p/hS0qNtfHH30UAKZVb90rMWWMxNJLEVbGe3sWTOmpy2qsSrrarT27qwAcTaKvlYALSyUSpHcSxx\n",
       "EUrwP1+HT4ZS2C6JaUoVWhljT076SyeNjpkdyjinT0JiXgpBFFHfPXiCrYdXOi3uq5QcAvlgZQ6k\n",
       "7YCYrAh3NdHWnHocwhBlL8bmAdH5RjEN9hd4DpEf3oEqzFAoQzId+RWbuZHtR6323Jf/nyaXAJRW\n",
       "MDhXOjmTy1lnGQYWHwgB0sl0R7/xkMcXNUBarCPqvWDLJSzpnVCUkreIMbJgZJZssR6JPLLiJJAg\n",
       "GgfGG+MEKb2kher4PVfoXQKGrMov7ueJ0uQVFB4l6ZKqcOzf2x3JdtRqRbtztIZOPnfTZH9uqvHu\n",
       "+G5CS2i4qPxNbL5aJBbKlJwECPvaaLdRR1+ZPglXlbDqdJOmCwZVXj4txFC9h7dXl7XAUx0Steym\n",
       "BGrR4KqKGOjUXd4sOYKS/SV8iIoxbpICWB6vclQaWvA9PNJVRMgNovoxdiLupxqpNLlrCmJQgzcZ\n",
       "MTKuE0oQ+xATvmeS0ZyzckooCxcA/o37xDNWzaXlse4KgoJA/yI7zAREYXSXT3RQq8I+PimuZqQZ\n",
       "vMZWCQAAAwPHAAAKsEGaJGxBD/6qVQAGUjFeig57WmICKN6dUtAICiIDUZNqG43cUc5WBVqV1ifh\n",
       "HIRmHGzVyg3eF+IhBpATd/0YZRjNDfe+rlf8wPH76JqY6+4jdf2dLpkhKD5ZVMgTvu9olp7spjzJ\n",
       "WM6IqPyvQRwDKA+4Hcqpn4WSH4MF9ekcLS58ZTyY85w/8AVUKlw73kwQ3YkM7seTT+YC4xbMEuPi\n",
       "Uji8W9xwo+xaa0ITSiUTWg+yDVxj6V/GJ/W1lniFYY1q1rBdlaI+QiLdOHgEPQiH4HHNtOGWs8pv\n",
       "DkePWcpUOnA72sqo8VRsnDyMJDW/tekvs6H6R3iOYAXUfDyri+WoDfIcPcFeoVc/5H3zLPGcI7gU\n",
       "EX8lngfyNntpH/xJ2sB9+yHvsUBIMydIPYkitJMFyHBQoMRgQ3wPprMMzXTUGX4ym3AWWpTGQcHC\n",
       "L0VmnFew65H+lCNHqMophHAfVYZkA1mPJfJ3MHWofpjQ8y+VzJ2P4n3UuXLzd7dXxPBOHoeukxS9\n",
       "+5C3MmTcVPrHeBy7SvhttLyaE7oz7IVbV6DpPLozR6LBYreyEVaXz+1aIqbIrp2u4w12F5lAKow/\n",
       "fEZLBm7ZomuLudM5MJV6Q+jnw2fgONWixrnRm4Q3AL4bs35ECdQGVvF4NvNBf8dxyWAbVLSmbDt4\n",
       "+efn0+MzJBOEQT2gM91IZK5MMP4o8YvFptrCVpUv9wVpWUUC9sve4IfKh6VA0b5nSvG8ObybtKCy\n",
       "5Gp+a3TVE/hSpmUhO2VbtdB8vx2Mu71AOYxSrD01FT2gzbkN+5ppCO17/KvXlIreQY8h3ZkH8sq/\n",
       "EHV6XHhYXzIdHjIUYq3qFcUMFXTtVFrpEJCeK6/tvRS6yRBahe5O/CRWYqHfZA0PxT41gVy/iRji\n",
       "HawU7jR0FytCJQDm2gulLG2+ZEO0IjnwTfg6QvQD/oSvl9dBpgj8lN3ub7amn6/zFBLKawCMb96z\n",
       "vVJXDgR1ZqcKw/fVuo3ABkY3vRNFyCtjwc5xsMkPi17fc0zb+FQj6pJTT8Wt571K6murWU1Y1oVK\n",
       "EB3g4FU3DlzPlpAuhOxabua77cIhDvct+ik0fdriVapXw+cd+9ayPaZpwkkOdDlUBVY9SLQJbUo8\n",
       "hXdMGLTvwNEWyOlDYnffHZacsxZyeDKtaWJBde83zcObRdw8KYPpu7ibFxxLgcNkkxz+8ZZnAUqm\n",
       "jy0pj7zeS4jPrxB496HL7q/yIIY3mh41YIhXUN9pN58oLb6EtmDCbyuA6CdLQvMSbkUOwUYv+lk7\n",
       "cow7WX5PRv788nH1CC1n+HmsJ/6FUaSRlXK5nkWORObgzy0XwOZ8tx64dE7G9ym5eGzgLExxVJDm\n",
       "pVD3j6/wTtrjnW2ZOwaiAmdk0ke0QlE1z51/sHaO2Fn3FwNgYFnu/GmJw6WIVcfC6qmCX6etnx36\n",
       "cebPatbzZWB4hFQUg/HhEnqXro/12fW9LLLB7TIGQ/KwFkXwcc2ziPSZjdU5No7KN4esWdpi3Bj8\n",
       "AC2aaQRE1H0FOuXEw2rKNAOO1KAbz2YFBZewTPujT0FId33LXQSBmGKSgdfjqEsssfr5/P2Cw7HU\n",
       "tLGnugQHefqlRPZQb6wfD2b34fRCPrspTSh3/RQMIeCJq+nJeUUdG14Jesko7HiAaSFRYkooAqAu\n",
       "Eh+PgGlKjjuI7xlUQ9jyGHk3DnlbJYg4WgizKvc90eYgWJTqlgzPlk3G5Z/HNyl3Cac/XpOdAEXZ\n",
       "TBCaMhy9F9w3xpwzCehIVWCxCaP4qUzS7YBnKaZltVhXk8qZqU27kThxVhbUy4HK7/XAhDAFiYTP\n",
       "gPtXtS/F27+0rO+QbunGSRSc/peRmc4fWYZ8M29bTP8p+V4bK7w7ShyBLBsyZqklSWybNDioi56s\n",
       "sk5v4fvB89l8FpLufupGgFnfiFhZP6y7uEN3iAiQqoWm5Sn2kP06MPvWlbmI7XZmMwm4L9FZNOQf\n",
       "0+2wihpNeqNeWtTb4xThrqAHwVt5om53oIUP9oaZm1HnNDFXz+EkmKTlC4ewXJHJFjWrJHx1j14p\n",
       "MpvmJ5E1I8zXZqPNpPCE/pLgm28ND4YvuWPhTdCUiNJhYXj9F1/o41G4tPWvmGC4vcvsqSRUTX9Z\n",
       "qAh7pk+oRTRe7r87CEJtJHLGxi9g4KRnMC1s3I8oeyTAIolvTa+tdm3eLfSB5epIsMD0y//A0p06\n",
       "ayZv+m1V/RofBbFyKvKllB480bllJL83nsBQLgBBdt+/21bnfiHD3/1ZIc7GqIMaO8tX6yUkb7Ja\n",
       "JCE5GRU3ONPl4FXkTAu9S4sLwo9fyVt/ej0hvHBTJsQNTiVHS8lLWCmoIGwTVETQwl8ZBfe0Thj8\n",
       "6k/X0AMupHKv6090raQWU+kid1rBETbVF4fma3kw1zmyM1KQouCx4fepsWDeIynOtJpH9Lt3Rj64\n",
       "ZM7y1ZkAE6F81qPD8VEBj6W4GfwmPejV+DtMVIb8+BhrexIx2AoLWjGHMuaQr8gmw6vGso5S2dvH\n",
       "ins9SnWbeF3wUoD16kXFCySiNxJpYAeXtCmRI8knoZ33l1QyJzOj5TMHy+2Ptr495AnLSloSwWJ3\n",
       "qY7BHDgiFJWcziZ7H5x5RgDLgOzocX+IKKkzX4oB4+f5KhavYffQmULxo0zxcfCzsZiS/ioLcLan\n",
       "kFyg7XBo9Iw86adDv/aREV5w4CBzUxx12fbTm+3EL2918WwrZ4ubjBAJP7WEKDjwb+MTRs2d3Xn5\n",
       "FRXQAfwTpyoEQrbmpzdTJr2WcNCF3Nzhsj+rfM8Qvw+/DJLItdkqeh3oAPc5QJ7cz6Ffm76wgMjV\n",
       "F7/SQShuEyOPjJEhXiboIFpXlBqqA3ArA3Hd7znUCSDQ5tmEBUgh+63B+CS2/vNEQgd82X6HeIPJ\n",
       "7Kg/u+doEHAo+8vTAIK86Q5orTyHrh6hyjrFNl5hlu3kEd/KlzJZjZY37t9s+zewH5oxf8gZ6Ikj\n",
       "s/DxZT0PXL1vmPVj2ReM+JazBKWaBbfugGHq7kQaoEeA2nOdkv1E+8PMYteQ2/G7O+V4hmWbhAbY\n",
       "sIhMVGFCiHB4QhZnM+mn2UktXB7vF4Z8KeauLtKVFkghpE1++vkJg4wrFE5S3pB4fiOw0p4zrCVg\n",
       "VgjPUjcxpJtC6K/9syn2xNrZUXyTe53yeD82GXJ4b0D8OONhLgMzz3CBR6VrNKxcYp0b7M0E8EnQ\n",
       "3Ca3KgFpoFcUsoZBIwWvAuXpwd5FR14ID0BXimYfb2cPNtEx/tP99Jugu06aYmIvN/jSATbjHzoI\n",
       "1jsAMSlZjF1mNt51yoiiPyQwJal1W9TCUJaPwjJhFrT1Sh/OQt/Qq3+bJulDlV3dP+5zllg3IEM7\n",
       "qsUoz+PKJ7sP5asHvhxQwbotSHSFe+q3R/cW0+cYbKfS7XmN/WYrIvg055QuGUcAOyFyRsEWCThY\n",
       "C3KloBYE8zCOK2ssXXb78+f2lAvlrU/ve5vSCDsxOm+XLy2Lb+cayA9zqOMqNOJVbpjEujmYQjgC\n",
       "AQQrpwmF4b1rbY0FlyOT2CTosPQ5on5O2pGjOeznlVrgvGqAO+sZZlYBfWJO9myPn2y/fvdG+jWi\n",
       "VopGuAzFLkDSmx+ovB2Va/79dZhgGcOmLEjVThaHsae44c40cabgnJ/7Y/Q1YGhYeSp1CaVlwL7U\n",
       "2K8323Tv8Lt083MFJAAAA+lBnkJ4h38ADKkBeePSMpqtolosZwSiNrTpD3oFIKdkokAcy5+q0Qxs\n",
       "QlOoBRTbjDzo4pAx9gBZ3mRU9hbgVTNvbcWZTmbyKjZFaxHA6iedulVze+PeVg8S5dIJIJAZlMJI\n",
       "/y3NRR53HuvoaOIcI2buA1/UrPE4xlj650fH87O4q9Uy0c+Y9a2nTgIbQORI1EGmu0fKjICEUAx/\n",
       "F8H4B2DvMw8m1HL1eWEX6xcE80kFhWyelhH0finf4My5n7+qsU5b1Fw5pmgPraxZTNoKQCb4s650\n",
       "Yp4sRGbL1FwNa5u+M70r0vpv+HaL68PJsP3Rg0ZmQppsZW6bG7g+MJ0YfrhnDdNtva3CBvtdwg2j\n",
       "wU/gh6YJ/zKAnBVtoyGv4jkFDDgSSzh22Pj1wkNO29qLcUAwxIRYxE17caypHJkpe7ynrBryCggU\n",
       "mpeIOL6tu5rpMgaPJfShie1A0Gfi6ZO4XGjCxgJMseqeR6pMkQB2zc0fLYJxHoOdVtfgydwmdtlJ\n",
       "QJTUpucq/vBX9YJsfCmmrUpjz4hffIISNwdhG7CY4aVFQw2+40cbwg0pVkdSwP/5VbwJ6V72O/8F\n",
       "yOJPOQS5fOKAAj75ZkfzbCTfKRvrUwuCKMShQaLZnT+/pV/Rn6Rb2rFrSsszyQyO5FvkxFcXfecu\n",
       "8WYsL2X4QHmcHTp2nCnH+uf9BqOkI6GVwgy7PweKwZ0vYg/1Ru34UxAgSTtVDEjxnkffIUgIMl7K\n",
       "kWwgcxRIDhk3DQCL0hP/l+eXsSXK/jkmG2UBR8Cgktva4u2ID/j8ZxGgDrM98I7TCxvoadY29WEf\n",
       "AdAY6VpT1quiibm5ALbYyaakhTa4944d2dtJ+WWHL7/6SNQiBhnNMKdz90uJc/l1aKDJJjL2PmC5\n",
       "NcWfmdt4zWAq/G5eapr9a0GoI9Iuod/8lxT18g9JQmwQoUkjwSFYkCB99Aq2uHgPKfiauftS0lUy\n",
       "i03coHiqZG0pcoqPBNcJk1di0YpNHb2r7OE+Npdsqk8QxgIA3w7ifNyPW3NSwBqcwtjUPLEygQAz\n",
       "d2b/uV0TXx56959sO7A6lSeVYcn1K93RWWnhFBAcfedcMg61Xi5GSeRwuBEko6JQUjzVcAE95Prc\n",
       "7rYTxFp8XHvOA4tR1OgKoFQcQbKKR6T8IKQCIaG1rE79jBtSOtX/e3xzesiLUgnr/UpLQ8cwA4Ae\n",
       "R/0XLinkQiiCo9dIcRB8MJ2w99ifqsvSquVnnwNF81O4xHJhd6a78Yv/h1ATao5Mo8vqp7leWLWa\n",
       "qbAROSs5gBfyv/rSkAnBTyDCPaitOwDC0zqzim95YOQoBNVTHFQNkS+A18dWEGhUwQAAAV4BnmF0\n",
       "Q38AAAMBPjvlExyOCYfyqz/SkqQAa5B5TtWQFcV9cTPx66UAEh1vSWSZ9iht1DYCtCUFMgEJx54q\n",
       "hFC2Of8AM51zNRGCVJIXZFGEeP3wG1aml5qrfm8pl9N6oFwSGReNar5RtfJOPbPC0G4oRW18r0bA\n",
       "sqOmiLSkkTkt949/y5864wTThi4w5ajnS4iRwgGqdKKoaJ+Pqx2XZiZMCK+Ar1AG16pbtK1u0NH6\n",
       "tZU7xx28gzGrtZBfqwZ5E9Gzwf4vnBynqFj8m2EbPbFtVQUe7iDZC/33OsKlD9AlRPzhPCgOZw6S\n",
       "Wwcfi/s/uAa8d8yHXDHhm0BqoTQkz4tAhp2ZXxa1RoUUFsL3F4hh+FyTkJhvZuEVXDDA2ITAckHN\n",
       "yk/mu8WpAxXKgtobLGXfRbYLKGps6sbPtEQI0QK4YhEAnU2M3MxBZCJ+XRQfHkDaBCSHT8dOq+SO\n",
       "IiADpgAAATEBnmNqQ38AAAMDJBXSAArXthNUSKzq2pKySMjZXXk8y0mSlHZx3KdnIRVUPZQrJo19\n",
       "3E2WLieCJjvyxNfCvi4XMa264LNHXuhVOZJMLQDRGKTpZ5dbQSfcNjm0ue03UHw33g8npib7wMqM\n",
       "k2zUg2ATnck7I7g3jXfGI/lX0uvzyRarsg7lC0mQyp6rZPEshrTxGMwAfnr4syoaA3rtN+f+96PF\n",
       "M7DRXOgdRS28Tiwm4zpO/J5khNanQQbI8WVdgBpHtZ8p/xfD39fBNltBg5N4Nly6Y/sb8grbF7g2\n",
       "GiPs9V83ibm1xHiSzWqrFnmhlrkTWj5ktGTw5lOfbraNf3r31YPd+/n5rqG9y/ZIw03L7Db+sGcr\n",
       "w20JnjVIALqDxLkvrsKzAGRjBTkcIdWJypgBGwAABO1BmmZJqEFomUwU8Ef//rUqgAAAkDbiAAlA\n",
       "rln1OKoliyMYNguSF4+nZ6LXs8SMKp9SR3utY2F6mdbixW1qC4r1Uvmzlop8I4Obld1C4RmT7vAn\n",
       "u76KDGa8473CEdKszX/nv5gtJoSFz+NM8AjswljXAPlxbyFqd3Osy6UT3agqGm32UIa3zaQrSfsj\n",
       "sdU+mm2Osxr3JVWEepVyGCQJJ3PPggdhXgKSL/jNhDcMIMegdr7d8vRsE1QjpiN2SWC/x2MSUB1X\n",
       "NLGQd/sJxB/OzEm+EzN+Q8N4+1B6k5Z0kq9VoFE6wscdHeK3ud/8DyXts7BFX1y7uc9oaHiasiNt\n",
       "3rsNTSdX3t8PuBjSyOdLVNHg5IMVY/VljP/45TjD7xLh8ylSHmEaPkYP8vJxQjnQdFsoGfvw4t6/\n",
       "3h3sv5GnAdrIGE9FA9Kwx9RUOki6MR/IokT6jbkb0R0pQLWOXy/kqD1QcwElhGH7biUZQwGhG7/f\n",
       "S0oXYMGgfLedBszXbPihSlF/8PSPd6AzxRyOC9vG6pB+ToKC9XTsNkTJnprxznIxBl5Hq0gmSktf\n",
       "56dbt29Ly6TlbF8GPbaMwyWRUeUryMyeGc5t6PlVe5USaqx4oTUdYisupW2bjXrtmKn/NBDXUwKX\n",
       "C8mR9r/YwEvGdqYl5qsBnX152RTu5JqGdVxIkvytlrBKurINsOJ4YK6GJCP+Ypt0rf3+mpLxQdcL\n",
       "DbkAF8BKEDd1nVNHmAjXbWH+JfxWIi/Uodc5NfrBqTwE1GswYJTu9ispmyy2TgKcHDm7EIMcY8lG\n",
       "kERzVPHGkBouqWD3bv3Oz9vpWI/8wFg3U4pEdgZJ0ldoLK5U8U8U3pmyoXE7TjqenfFM3e317mp0\n",
       "JsGwJnQyF+3NKNRblbdEhgR4rZvfRmx8HXpBqyUT6N8Lqrj+Uvmo89TdQkyoPSz8UAdtybtcvghC\n",
       "WBWf9akF8ujvEyM7ixIcDqHAthgwIi8rsbsA/CyAiT0ZM0965n1MW5nw8h5qTouwvkGn3DeB33xe\n",
       "ux+doVbiQLeOU3Grc5IAgF/U6HgaROI1YLbUj1qcaGEE3SVp63DljkL0u9IJcQrxe/P/6xLlrBvu\n",
       "xe+wLJG61aSOPnSOA2kT9PMVoIier49zCmqJhm9cd1/Uh+Lc8C/fRmFdZ2JEsu0+OQAv5IoPOQ8t\n",
       "HxkPfeWx6l0LLUT4xn1ki7/E1OM82kCN+oeQcsoFIvdbAynh025CTVxMhyWkeKXJ6UVhf6rZ/pJg\n",
       "M10MjO3hQXadoytY7Z2eqlZNWYKlZtYsG4tSUP1b+qNqGvX/X4XJodSkh2xRcmNYRMj+SXcusIB1\n",
       "JgRvFhluU4ivn77z8QULIbe6OkmID4vMoA425c5g96qXiiKkdiWKgfqXAm9Ki8FqUBvRYzZC4z8i\n",
       "2FE8269mlOnDJ2ffGzsR7S65lwT5xyh2Jg2bSQbej8l5ofXFddHNtNSgG7dKvzNDXj8M4DXItJZr\n",
       "j1Goj/2ctXT7kKfaE2+D9FDQMiPDGbW+I0PemgulONYHv2cPyTp4HVQ+dLrj+GazTU4/o2MJ2z2A\n",
       "aJkV4MhfSBl+bksMKaXM8Kv3n7lkG2V3evLCdjh1+AUyqSZQwxWwoWgU6WiX0qxbD7ovScAt05Lm\n",
       "aHsMnyzEi6IEjjcQ+TOXiN8KZozkzxlaqKk9f0pU09mE8IaM3AOnAAAB9QGehWpDfwAR3IyJgM4T\n",
       "Kex+C6MKKEOwaMARNYb3To+zTVnYs6j2UUK0He198P4Xx+mjywM+4yzbZKdqbCUP3lakaOZ9Dtvq\n",
       "//PlYkkklj+tktelPpe+nPOwGVDNZMKaC9HWZOCtcrowAq+1JyJ6PzBZMZ8wfHd11c6k/f/85Rhy\n",
       "2J2ClFQg5HqF7VE0itGmB3l6W0bYVEWNU9pF5wLLRQBY1xeb6w2YLJIKDjXBj/I8RAoS7fMYkqWy\n",
       "U9YAjN3mdCJdsTt8z9dlj/hSbhrF+ORtrOreCs8hxuSyl/wbuL0F++G7T0MP3mw8Ww1PQD3SL+eY\n",
       "vJJyxuqzoAfxrQRbqbDyJjz7HkjIObYjlz2riN9R6TFNTCB/wePLpWKkAy+dONPChyrlgNsEPQjO\n",
       "ovitjwCHx7T7gQouPJgWaNGwrElry3jX8VHzXHVT1D41ey7s8H+bi49+xNqMqmNyj1cVQIm0gkUL\n",
       "eQK4YEQ08zdIoXm+eHjMOraE9kelhmp3P4BlhrGseWGfbXkG9sroONf77/ecv5fmORSzSFAEaaRu\n",
       "B363e/5L1tSmThOmLUNJEjowEVAqKDH/SsEmLjSI2ctjE5rvm/k43yIH3+ddvSPWP3HS56u1Ogo3\n",
       "enOVqDmCqWFVOH2boIz8XI0ky/YoKJ+FH135DYAm4QAAC01BmopJ4QpSZTAgh//+qlUAAAxVCuUA\n",
       "clsc1RHbKe489bxf8b44BCuE6Si6QLF6e4agsurw3aq3PyjX7TYFEiSzw1cvzYKQ8MKt7otGv9lH\n",
       "9IF01dGLghQJEPXIR2R60oDkZ0LqrbUsEyyGnVg3Em02TFJQ2zqI6UIsHqlYSLbX7E8C8m7XnB3C\n",
       "Qwod3ktoUnrVVLFWS1wwWT8yXy7n8vhUjUWF779XGO34MDFFMat1tIyvVzBL7YPHUxLyuC2bwqz2\n",
       "6rGncnRxi/kNITU1H5S/kSm+LBvrtOWELldL6oVrjvXe87EGujfWbgwp1Xo0xr5IuuhE4KBOGVH3\n",
       "4H8Qu+kQFmmGZ97iijk7/Q79peF9PtVm03hxW/M3FV3kALJuIs6WtMa68CzYRcc/feQlXJrkvjXK\n",
       "aI9B0357YRIoQmRA+L1/oClSkpGro90lSXE00HzSvNbnXDmv2ipUL/+yq+T6OYecRRymCN/tsmtj\n",
       "l/iFkuJIKbsC6+rgbJwjSzAkUg3Xa0a8yl+nuldDBTnYlTHkDrv2dfrXhsZ3BFBPSgkqHM4NjCCL\n",
       "GN5eudl5wpbCgd4yCNU1hKrNjHgd8cJh8ETesrfvVoITKl/YrMWBBrw/hyJfcSVozohsofj7UtLh\n",
       "tx3fVQJaa13SYwne8pbYouFQHXufh2bM6yPwjijUOzvYOV5glCGwmFnBbDz1SUf2j5JQUlrsiT04\n",
       "6z0XPbOaTn0Dqee7w+0jacDgDwhCoMQMnM6dmXXJe6bg0JIDCf1xHSyA/dlfyCFdiGFQZjCvkQkz\n",
       "qCQH3PTU2cOKlsK8FojKqgCoKmm/whkrGWb2G/DqL8l0ml4gcC60qEj9UUa/0Eg9X7/AlwfuZgae\n",
       "7dTASFZ665/gWU1T3wqmzcN2lQKUaGipMusjCTle4vP24cYy2AE4tOgPa8snBa6PkppEWbYjf1/n\n",
       "8C81Xr0bACWYOHkpaD0DAIZhw+ICYxEEdp/RoTYI2wmYX3VmkmZFRPxksBl66mRimk6q78YIV/d3\n",
       "sT+FxVpiPymGIZmYbsminIQr3IgGCx9VdXYZtxnvdsgkhkNpMmydgXTXSGRhAAn00aAekBLZYWZl\n",
       "yjiGM8qoqQNuup8VeTn6faTcDINrhPCH11F4U7z/Z9kJ71wRgdCsVi9wwzALHI3akCCUnePJXriW\n",
       "aI73hUx0yNyRPJVX5QCjf15e4vlaF9dtAiX5x4O1w3ntpoJ7bfXYwXlzN9B6xcVXcH8yP/dJXgHm\n",
       "czf0fz1v76hNGe7+e+WS46VZgMrCesX+PeoHNc5F+F3+fyOk8TB50Q5h57VOH5Mq/lrQOWDWfMSs\n",
       "DjA7W3lL7EgrfM3UU/P1nB+gOjigkqX6ni6OgCXYaIUsNQgO1nSxpoPRxmd9kgjExk4YjQea3TJg\n",
       "7RTuRhsd0yEOZeVKM5vvzxfmzUfKZ9Jpf/JrsI/zfL/him5XPoD1hN8H9YwRF2NCgG6rMPdSmfzg\n",
       "TZ2Pv1N0jRlEyLGEkDeIHnVl7G4UWAXY5vkBX6nKg+D81g3nMOeSNuD111AyQgXgi+Yk3CcYVxtw\n",
       "NY2gmIPDOaj8AB8e7K8eqlIzshHY4UncxevKvjl25wHEIDtFHh9si9nahHtkY+2vBe4wZMHEibEF\n",
       "FWh3pCsAzifgKRpLvXEMBR4oQ1AJAh6l8UkNtc46mXafuWTadwTskBVuif3HwZ2irfM/U8zyDRjq\n",
       "8ORCm5sneCcQPtjJlhTx3uQ9EUC80o8dTWkfFUWS/+3KYBV4TTU9zDB1EBo4D+jmq9Ws/VeGTaXV\n",
       "6+c7mZTDKS/PlZtJpLb7BYvgJEuMadjC6WiLQdH1PEp07x48MWuIhL2qudcrdUapCKzunTHSBnPF\n",
       "lKvY/9J2I1ZP4QdGTOpLxwCLtwfy6bwswls23HTzsCEh3RqgQpk27BvWbPbizmEQHG0fty7qv3zs\n",
       "GBher2aPB5V7QFmJFX463YbBOaUTrCqtKdkDbd81JMr/vDoh9TicGJtEo3aU8fTQr1U0tDbECj4c\n",
       "6HYRBg1u1vkO5fJu3O9tHbq4udKnG1Hz/HL4qOBX4Y8eKxlCs6CbSPYmdLLx9MV0pvgliQbuW8LP\n",
       "nCNfAiovp1S6nzXMVrGjyBjPGjeQTpyh2iQCIGbChqmEoyZ/W0Xh/3vIpgvTpUq2UPhQd9ddfMGT\n",
       "4+skyVylsto0dV8tV2L+ZEclDalIaKuj46fp7oT+/+gl3/0XLOBtZvQ85uh0oPZfmPAUp3BXlz64\n",
       "uz9YqHLln2+1ac1xlS7PZo0EA3L1AbPEDX3DnWbuF+pgGPFz5rKuRdFf7ZgoeRJH8Ddpf9ewzi09\n",
       "cFbTUFEaefqMT/cX/LZVOQpVmkce5mgEwrG1igf8nwz7E5kcKT9jPPfO8jQm0O1ZWJnl4p55CNDA\n",
       "mrxD75GJByLmfs+flcJyEAg8axQrEX0esqwjLhlIOUtqIcVWE9vLD0OkP/FgjzNxZ+NAAw4IkjgL\n",
       "3QzyeznzdkJmLXJahh/vB3WZiQ2BKY0d3pSsdtrKRyoR3cKcjfcVL/URQAhcxo3O0dSdtHuYlM0h\n",
       "Vl5lCnirTw2Al/L1S/Gkt69qworSCVwdkj5OYpDH8/w2X7A7d0ZfxItQMx85eiz6/fSdANkn/kV5\n",
       "MJ2DtjN+7gPPFo0DW/6uR0Biv+rMe46HZ5S795Qge73ZW79xiVhmRrhNpNVu3g/W/FM3V6E2548o\n",
       "WGufkzFgBgkPOU7v96kwksGG8IhtrCYwCFwVHS6JuOKEmnN/Ox6QEPbpRFyMjcJQrB0iafyOD/Oi\n",
       "OshyQ6+rvkmCWv9UX10fhEl/8ZUe+BBHwx9T3z1FUyMpVRUlbhPJpG/ZYxBW6QlN1YGhdx22ccSn\n",
       "QTDJXHP+SlFaJUIJP6ByH/7v6YY6QOswKmv068Q7CevoCsv2+2gE2wjGnSCFEMhCfV8o579kNh2E\n",
       "KUrj6MoIx23mpF/GbAZWxxU4ytvMZ4Z7FWLjqLpBqYtPsnEwGrNVczoZNDEiUX+NiG2naWGvABxw\n",
       "A8WQaY8r8NQZzzGnJgT2yrS5ypO/kj0Lre51qAYciOkRnbXDFNU/rIGNTCK/IkLGl2QHerr/ROjW\n",
       "jmUFnAW+949vczUnRoU+TftYN667cXJk9jxRZs+ZB+vBgmKYfiVaHDbg9El37Z5ljAuBTf/+qZtJ\n",
       "r/p1/gVXBxCyhHmL/7pyjJYkE/6L/ksxHBMTQ8vI8Cfa+PNi7GZnqLO8qXN95Aae5Dt4b/fkygaM\n",
       "OMzskjrtbdS55FJVdfydpP4X4A9MXiFjUb6uAkZ4rVi/OGPZY3T+231W55dXdgXV3AgeFOkNXd85\n",
       "kPnZHlJrG3rLylXQqXsV/Aldz7pG3Cyl29xBiPdHSIlRfaX6PlyO48PdN3fzs1uXNFJsd5L6Nr+p\n",
       "I2FJNKf96zlc4gBzjCkw5HtvP2evjbyTx9T9JSfw2LdPlvKNnUDeYayxmbbVqGMKq5U+eBQO+DQI\n",
       "EE7WRgUkFjRndVAwYDrdOGGuxUkYQ4oKOdkmHnErtOMEWv3a6bVXbdRLhPSPje+EX/EihI9TAtCb\n",
       "KezFUCDI5DdmwNx6U+QSNUI3M8E8Z39j9CetHypc/BvIk9IhdG/aQmAX5VKlKQELM/E0GXxoPxUP\n",
       "xfN2tCFOlaf9o94zhr5FIV8nYNmikqj2WxOwj1aC5Hy9bMwFn9EHn+Qj6jKKj7ZFUylNU4jmycFH\n",
       "IvT/my0scZEPHc4X6JdLUXdljUxiPY8d1LyrpAR5L5rgSrXAN6qPhiENPT4W/sv/Zl4dQxm3iQGs\n",
       "HGRB9hpBrXU5g7ApjAuMmK1K4FxzgdVGa+AD9jRgYMr9NsrYuM0AwvSo7YLfp/S9Trk4GS+uuicd\n",
       "NrxgtuBOVdWzuMSP8rQHrZ8WRaGLAAABdEGeqEU0TDv/AAynUNy8t12QAaLUUmY6Z/idAZC9GJub\n",
       "1mc5U4ZP7G4vk8w1bPRPpGr4GEhS7v4Rx6gRG4p5NhVlj7/aFHNBsZ4feZoFe83WUqnQg4l+npmf\n",
       "k1tYuUZ72pTx4KAjBUEN3I4PBk7wm4lHx2/+hF8qyLhIqI53uKVv69IUxLm62Qo5q2R3enDtcpOs\n",
       "SHxGKCR74WT4wUSxrSNs3a1aBQcUkyT7xgLHsPuaQmiet/BG2NBQSnm6YZ6cKQLH/0EuPYR5snKS\n",
       "BvSDzo7ax+ssExYbVjVeusluIWJIfiTBssejIWtanf5dog3Q5uhBSqB5CEQn+MYLQ3jRwWXt2IF0\n",
       "T0uLGkMpWBunPrOdLwQvjBfD9ojwTN1XHoZzOAnie0NfYC0faQ/fmpUUuODb20eAi1N/G1bXogPc\n",
       "wCLTyJrTS/deR4j1z60m5AJfOld/hLJh8MhrNzgPYwjOUE6sERDpnkEVt/9bUnqT1yjUa1gD/AAA\n",
       "AY8Bnsd0Q38AACG3iLJuT04ScD4uf8qOWR4LnHUT97A18e6g7OwhFI/4QajvLVgxPdX4gfyJnMkV\n",
       "eM8APrqA0SmVlxtAAM9EmbqkZM4VqPJJUoH/8W5ODa/JPODVLGJW3yadfyjwK5KHtvrs1USJIKv8\n",
       "2BrPopn6KfaG65fwZHvDZXCneWk3Bm5PfxP+NZ0PGX6YfQ6boOp2fT06lBY9rh98/eeUVdhH+2C9\n",
       "/5qc4g3GphuinjjRe+R6nCp1jPEWUVMqgxtb/jKSB6dmTn13piqpdraGHfTE/msuKDfVQMVzOfJu\n",
       "T8Z4FEQ/TAoBouvzk6Ej3Z4lWB9vL31Y+VCWQXf5rURCaVdGp1FwSwv7AgnpmyQl26aFMj2l0NjN\n",
       "ZZicX+eIIExOuUINhXhsis5i5STBqZnkQVTXlMB9cNMTlJlNaQ7glg/RbMDYOy3VTaZY20olDPqk\n",
       "MHCSnlKi8xIV1RTqKy9Ma0T1Ya15OBNmIc9yAP7aLkiq+BAznLdSpBIoR+iEkz8puWIRBEh7FGmt\n",
       "BWwAAAFPAZ7JakN/AAAhsZKRYV6YhR/gAILioEAIBDiXiLT+3DKEmigSMYRzNrQMbhEHd5oGBF50\n",
       "B8cFICfHMBY6FMLks9WI7HlL/aW51tJdx0tywqnKwVhIKMYZM8rwEvQ+w7xXrS1H4N9OsVWwrWeg\n",
       "qUqxKiz6tw1au25zS8NgRaFLOhpE4NSviILGAerxaLbY4qK7fBdSe7XRWtVZ47k03Z3n77/VgIn7\n",
       "ZKWB3FqKnFuQn+SYAXHLUfpEMrPViKCqHSPW8yv8oCEnYuWFYSexzLDYHe7VMXXyJON8zmsHSHlG\n",
       "MoQGWRDkIauIh6uiefNb6IS+DhWoodOvUcXZv7zR+U9O5/9SU1BJD1f/KI+KRbfoULLb/FqBAMdu\n",
       "eEp0AgtoetvIXVIfqpaKejfw3ooh8240stH9gy+Z+2bztW81S2BIDj1WqMSOOQTjitdD5LdaA48A\n",
       "AARWQZrLSahBaJlMCCP//rUqgAAFt2apHeJgT8YAFynY4J1NJMxp+EnahAc/s1+qcn6Eg+H4Ybv2\n",
       "WmMdl7nqAJHZGn/3Mv/BE1vnVCnNGSoCf1r4LHcHw00a6GAlBcCQ9pMp+wR5DQRBSY5Ej0c7vyL5\n",
       "eP9kBuzvSXV1aa0YzPWzScehUf2r/ontOmqxvtG7onGQ8LztMjG2FwS7klNEGvm9uDnq1pNpQt7x\n",
       "vwc+LXa5ZfDOXqi1H0VH0XK+YpwWf1T7Hg8vlE0MmcwrLbxl1h54UadKR9/x+PK5iB41HWcFJSG+\n",
       "8XGYTdNrHb3LBKvJEACGeoY/bIr6AX72TtWhN1S4s2BvbtS4FXqhlAPKsBuZ4sPbgn7HuKVXyles\n",
       "KMMQk+0G0dIDGKbxKbBR5GfzleFESqG92VcxxYWfCm9bNLcFLTM31+4HyugfRBhktlaURztBQLmC\n",
       "jkv+tGVSVFSySxFHIgeLhjPi8iE2fR58PTD2ds7VmyihhnQpwIfaPr+tgw1EvjpQn7C2Iz+ySEf8\n",
       "vPIwLlNI2+CVDd2I2p2yGgwFzRnMKtUZaisqxCYYOBdAMbzzuFRl94jJfO6o6WJ4wiVp0HpwjaFa\n",
       "+3JI6TGFS5ZwuGEL9Ycul9YxA48ih6CfCyLxa+JniuLBom0aJIMMbJ0bJcAMJvuu0R2b8/xaHpHs\n",
       "xhWZ0AY+/GXwAJYioh095MgNBXuO5S6TjjU1jV7NCub3Ew9WhHEbIWKIJaGG/f/i1EZAf7ASw5Md\n",
       "IVytibq4pORcmNtI7aLtnptPhkYwmKamRVjubBMkTEnOjdDAlrZ7cWLz9tUH77bp5WnRvPOH5hhA\n",
       "gzlLk7G86Hn9Hxoc0X0HxhwWul2iabcBTzNxLc0yrS/DV+YJ/a8jIn9TucrQyEuHJJIivvBPWmDV\n",
       "7Gell2HxfAXiFxNIMTmtYmVIqmAnBu6lhrXc1jcwEqJ1fg+YJEsM0bn2jT+dHljD95RIZKVYvnZd\n",
       "evaAdPJCq2ZDA1XYh8Xi/Wh9uHbPLPUVSxYBOK/NOj3fSwm4ONBCU6rhXncjJooVwvZmWUX89PZu\n",
       "/iwuyXb/gXIOikUfD+fA197iRlcUzsNG9PgGzl1CuL7h9O+ElerbQfQN277ATm57On9yaJODVsnV\n",
       "knSCILMKPLIzVjeIqAvAE4fRQXQkOwi6jq5NWHYe4uazgTxrmPVk/nHV5xcRNnd+i9HNG62hdxB0\n",
       "c2YcV4y63RELs56tc/W5FoPcz2jVDq8akJ4yTyrwT1cm/e3M+5747novs9tjazhNtuI08d3LrD++\n",
       "wvYb7rcPvGhaCXBatorvb7zYmdfHYh9HJ4sRuWsP8J6E17+YCvQ8sWojmBggCeTVis56oBnaSB4d\n",
       "hRSqOW+1A7SbmNhzcLb1Zs20rdGKyOXuvIPCfceNWXlHpVfxy+nNzBKIMrUXJ7RzixwPldXCPp4c\n",
       "tjSdZ/3DPAW3ftUu6u/erRnOyUEZFVf/h6WfuHQIAAAKKEGa7knhClJlMCCP//61KoAABOHDcgCD\n",
       "hA5dv/GpWke4cd5NoH4GF77qIwLVq4/tMqE1lyb+DXHsE8X8HCwpOIFvOd6KPXVi82f2CFi16KuX\n",
       "8IxK7R5l24elxk7XE2Wh4OU0g2kDlhGMdYdOWntxFh2WEGelbEBortTnpKUooOOLWYdtiSnS6VfM\n",
       "Fh8eyP7zu+cxGb6T2VTYNuMQVNluca181Qq7ZZchzjbc3F4smGsR9uOT61thMt+FR4NDdV5vEpBH\n",
       "wy1ghC6AJhx3qbCrjuLQDKUHdO0NGNlV5P5CZ2hyAfOc65x9GqlmQtW8StO89D+zwLeEEeRO+N49\n",
       "s7xJHo8QHKJBp3VkJE6x9+mu10Mi1WLqNIvyTvpv9yWd3YmlGY1h23Ejm1YmdMW5+U+qmaLX1k19\n",
       "Bzyn7xB0gzEyF3BTUlQuYVwJeo8zgNoGAs4MW8KHjSdhwCIqB+8iAQUviGHDWr1Ub0Qf/rv+uk6O\n",
       "kJRuEfHPaIL1bL1XYtuBpCfLCklnib7soAfcIBePrWdXe/FZ+Xk6j7wWxtEEtfIHcay98UG08Ldt\n",
       "N8Bs1ihSL5o5zFO1cn2GOhf2sFT/SMupMKcVsPCi/w39GJJpo/vxJdaSLCIZzxCvbh5sZ7JoyBlS\n",
       "ZYRRu3n73n46IfiCujuaw4tYcxwL+jDKivcPCwxZK4yY4sHriNdiNThGJhm7nyiEOj3M2lhlYUnl\n",
       "N9cQ0d813uKTvqHX/270vf/d92nlgDAsiXpv3PhFP0I9Z1Q5jk+VuebRcUk6NxXFQBL3POj/Olzd\n",
       "/kMlIowD0KCHm4uTV/UG3GtB2pTLSX4F66AKpHdpVp+tQ2EaJJ7pBTh0VUj82Qyxdk6aSSpUhczl\n",
       "pj9A05TlDQo0AxAdzMvu4Rc+FJ9hgx+KyhdZK2f1j6aUL6Nrp6dsWBbNXTV2HH/pe3ij87Cq1fmZ\n",
       "v+X1nvFz7sGX71NO17OesOMMKKeBHJc059rOEfe9t9zy6pv2qtlmU2UPB3CqstpzQ3J82vGSCpsq\n",
       "gMCA1uBTp2cdW+YDjOVB93OcWHxmqRKW5dHtD1P2/5cB9wgn0Ycwyn0BRAn3APjB/sO/qkXyyk6v\n",
       "6eU9NHuL9WVgYTLTDCFCplSNNAFLXbzvDbAjIRT+ntMUfaS8tgWEyb7P7Pjh5KzfAPuomlFeszTg\n",
       "VLjuoC9gMXpvDkmeXdUJeIr8cE85vfuakmwOhAI4T66KYoxcVozocSnmhCGrk30LkblIeBfcq+U0\n",
       "XU+9wbowR0fR1U1QrhOW6JGbLys7wyf+lusOuFOtEbi3UiYAAVMsMdInyySQ2W9scNeCKvy6fy42\n",
       "hZSo6Q4ce+fITqW5yw9ZcsI2OIJv0qPaYODExAbkjb0iPr4Td/vovhjvTaGb8qwxTNVLANXWSGYQ\n",
       "Nu9/CsZGH5Q113yfyxxGjOXZhf9KrOGsWK3wtnqnos+oJSO2DyyZevx5o0/4kgh7/GmZbrySVnk2\n",
       "N/h8mSOTmXtsAI71LqsfacJMyfp5wiKuhb3A30+I7G6X3U2PY7ldW7Otu+Kei1npplTNaXoaZZqq\n",
       "mDOY6QjS2LNte8ye1+8IyGMbGzpjP5jnTtb4ZQXmgLcMMeQpqSbd94keLykT4rAYSDzKRmch4ltW\n",
       "wOPOTPL+BvvgeH2EqasjvwKdRZOptJ+KHkQWLsV9V3cMuw975s9L82+Lj4GLmx1WZx+4DHxbLSBU\n",
       "tLasZeswqtIyIpUvINV+Nl/dFmDl7Gv2OHvysdcLvRkPfoHka0JWYy34xLFlF9DFeXkXR3fp4o/y\n",
       "DZOhcq4cQn4Djdi99ozVpj5AFsDaYnm4x9+6nVQxrVMt3mUi06zRg6n790y4GqXm5y3ser2N5oqq\n",
       "cLgeh5Hflu9/pzkiwINgK3nBn+nYvp8TaeYAtvvqza+bLPKwS4PaIjIcCbCH34CMJP7BB5OFSWAY\n",
       "/aRzX1ckyYI64LCpy7sPmg7g8vXpeRie2dY1iwXvlP3h6h6rN9QDpYkS9PjchTh7MNqItflLdYLu\n",
       "FdcjDDoU5Ko8iGidi2qUI/cF/NkQY1qIZXxyUmRhzQPJPPAXyp+o0PbsH1uUf4DD2gVDR1LvhQwI\n",
       "OmPTp0/YjWuTBrz/qICudYOtEHnc/JmWcuq6anWE6Otqa6lU5bk9arcYdDerWoRf5bAuKsF6D5RK\n",
       "vnMPcJ4uKU40QDUHv1TtOpph/zW7PZEF3EArEUXWyhsdSWRv3Fthaef4EnTpj+BVrSvOHvEaAkwU\n",
       "7EUJKzk6u77sn+QHL+tLMQSPvzk+I2nAfnGFJkCbxZ0S2T+3wvCOkjIz2IHqa2ExVRrtj80u5JOO\n",
       "Ho/E6jeEDWIgHEkRkN8TrPHy5Eo/IDpjB8k1yGGC/JtI/qxvpevDfDDx7cWkRjbm23P5sffz4YGs\n",
       "ooF6gwuODYr6zYCOdPMPqWAEwMw+wIO+GjZ5gczzQJSpOrkDTwsxYQlUHC9BVMvNXPzIziQs8yag\n",
       "LvAO4tHCcrwle6bagNb6dgZ2BeE3dYOLf60dvz4HsJ08lNQHEZrYaLz+SHAuzl4f/Tz6nmI9eixG\n",
       "74bbSW+8JX7h0DbYLN00NdpS9I32K7ZnalNndNl4LqBT6l5LdC4mpYyK/e4irlGeVHhCUJLQplfL\n",
       "OngDv9xf3mGCYXctjpmRZ13MB1eJpOkf6kCGSjytaqUY9JhFzV1ygNCQSjQMmDMzsxuACbuIvwpE\n",
       "8fhExHDY4AMSBjHlfx/WdprZfpaTHsIZyMn4aflrVS6I3L/RmSaT/F78+L4glVFRhgjoagBqlR1y\n",
       "otueVcGo5GJQyd+psdMa6LA7SJCimOwDv+FdVXo7mKZJn5SRPi2wxpp7mbzNEkmLetRJP97FhpCJ\n",
       "bSx2DJkoUiyi92aenDQK0kJFrkcm/f5nPIvMFHQ2cnmy0RFfIZQAAUJheV3eK5rffq0cIH91mkNV\n",
       "iC+JEp0HFqJND2G3kcB4d8LAAkEKIo+b7McpkvFxCpPNoyOyOLx3o9xzhjGNO9n7/1sHCTaRh6lM\n",
       "OXcfw00mNbHsIbFdNj/Pp/yD9BKQ4XYAmvvSNcmJ8hIKPcGCemKPS271sX7abXGTaDOSvT9f/Byw\n",
       "YPROraXkODFcQPfZgkKZ8iJytTivdV6M7NVLsZTHEKz6Mr7kcsFWadATdGm4XJOew35xPWHc2PiG\n",
       "8m2X3idXbij9fBMFdlkSsZx4Yaku2TY6A1NS5ZW4tYXwa32wdj0bRGa0C0RYUvPdccQMlH9eAGF8\n",
       "rQ0aV/PkzddmSF22g/Aq5LBxEq4b0xxfcdGCRP9bt3YuGi2oIMSeqEOXJ1Lnn2yUGOWUw1l529Nn\n",
       "6WL5fD/vFV0kEpcd6JX4gqAODzqTy/OrHsbPDQtcqoRniu4EXDRVTNT7kh5RaEvAg0VVwVhhALhv\n",
       "0lCkST+0KZhtGLAGzQNEhL4pEWd7q2gJt/ErEQeCJksJ/XyX4rd4G6cH5GLdEddW72h7v6NMDyW7\n",
       "n9srzK4ad2P+V0z4AAABREGfDEU0TDf/ABHZe6nR3z+ldjsVZvYzffpE/a6KGAwimxPFXDoo9u7v\n",
       "XyO+Jci16e/6fYX9cZHCHmvkJTTJskqF7gePABOp2N5o37d82MgI2Hky96SURJfhRn5wK9BV7P7y\n",
       "qcdA1qU8L6vSNEIYPl6WDf4IVogTap/r/aLOltacO/er25KQvHvyFZYMgBOoPfCUC5+U+GVRa+9o\n",
       "Y9bMzyWmf4LDdeWpM9awvcL39Ne4d5btyX4LGi7mrhqJgnYwvLQaPRYgTiVsjD96q1LUCAnOlmOu\n",
       "Qg7EuvX0oOWh0enUw4H+dEfPFeVv+7BLPhI0ZC575L7i6zAEMx3KXhzYXyCQ4B/Ofq4xYuDAi4nJ\n",
       "jpnxfiZpOdfab8Hf7+WPBoE5SGzwQ2lCJ7tuaRs8aYPUNkbHIUiqmZo0/9+4grSkWBge3/8EjQAA\n",
       "AW8Bny1qQ38AABsC6TEFd287tzqHnIZg1+gcjWtp6K6gQ5914bkcNIzkx+u6tVnGgBU1NsoBtJ+v\n",
       "KtE8PuAe2fdjq12al3EALrCKmfeAsrNuo9SvSp+ZGalhqfKkO7vua9huxeqiArITZJUOU2uMhhxn\n",
       "+n/7C0xNNU4neR6YQN/atezZr7ojLmz7ooYQjGDdUHtHTvxcXfQNfrRXFP/yTsL00yUFQ7VV5SXY\n",
       "rZKk3Iuxpj4ieRI1S5S2kZ4sAKTqsWllQdTAmwmiSx6dUdMwGo7dNPDibtaCcea8cKmRuyNfiigW\n",
       "cqwmnmbPINpuLiTPBtKPlK/7uVDYTdqUz3sv9bEDDAMVCcZZRBAUwPH0CUMD3mpwHEL8pYxWsji0\n",
       "S3IT9j2IRZSwV6+B6HjeBuNS64Q4KgURQdUVKZvlPY8LK+YQ/8Ghlxc6J8y9O8xUHx0rubR+4Csp\n",
       "ACTBznwHO9UFtuScc3OsNUHaB3Cu85Y8UcfNAAANPUGbMEmoQWiZTBTwR//+tSqAAD0PlfALMYxb\n",
       "VDvlNyulYS0xHKEFJrg1u4C0EEGkCMBJOZUPA/DWH+uCtRV1M3XvmyvNyj6u8KvPBBBSdoiu3E0q\n",
       "GNsP0YZ1bxEmQectHYQdvy3Er6NlYyW1ozLDrmMRzdPyE9Eu3kLZWcqbduXdabtk3MvOI85GgGBv\n",
       "A3ImR1mEoeHjQbRGNmdXm+Oytdqqclzlcvfsev69aUjHpXScXLT04s0NTfAXj4CbtHmTAID1f1h9\n",
       "9OhfRg7FV8lS4r1QAoTXMY9qwBHAtl3TQTC7ckIxT3tALbAGwUpUnhxDPWnlMRS3RG4l5UGXFrwq\n",
       "w9W5xElFuLsje7ouCK9BbBIqrniCfyvh94YadbR+3gHvzAJlbX50uno2thieEeRnwpgPDgfoEdH3\n",
       "rVoqbysQkKC42DPGElF1ECCvdQBdgmEFzOnH4pruowfYGMuwEQXxQosHLM4Qe8/sWTv2Elgybmmb\n",
       "nrtOlI67j4gq+d0OoG0u/sUBvMq30K4bo+FrOtVkYktHKPgEpVwYTy/3dyPu6bTrj4AxZCJ9oAEa\n",
       "QsUjBY8Q5lUl46oaG7MddSXtK9/dQ909vOkpNtOYh+7L05lCz+PegPldIsYDcpMD+/rD/la5JUoN\n",
       "222EDZtaX7oU1n+sVtCCgHW2bwt779A9Xx2hlK5X7RTLnodWJD749x1HPLyZqq5wx2VoP6vwKQ5O\n",
       "9LOHTnZq586dyqa0oJ8JINU7o4YosghRl/09y9wkWoPG1gvRvec8uVsCyz+akRBH3SaLj+iglMyi\n",
       "5ed8kXi5aoFFSaIpkMKoE+5Qa8IbJh3Xg9yhqKrplDI75MX8ZoCJr4W/1eORkYlMDMk9CQejc52m\n",
       "f9I+nV7ZWmWT9tCBbjhBw4KTozdBmaZ5u0oXMgzMPA3nVPw10qCw0gH973gU2azRqB3CyOj4D10k\n",
       "kMH3XquS+vtAVgAVQBk06uGrgzcEXfdNEDBg+D6RDCYXA0uoUhuymvHg+8B8lgb2t1Tok67Z4kEg\n",
       "JqVSyCCxtWVz6zfUu8ogdS/8fRxAgYBD158mEodb0Tcmx/CuH4aEGmCoe2buqzaWqrwWlYSLWkM+\n",
       "27pXyAFGm9ML2jwcXYhV7uHWEs9qsdbyEGYUncX2vyEMt5wa6tQIz9w6dDJ2oNbVIwywGkVdgB0j\n",
       "13R6iZf4W/kryni2sbQwaFZ8kHF+4Sj8W4XmpCSLCUh9RXNivYOQWdWs3OK62L6Zr1cVrUyLiLgN\n",
       "8wK3KjLBIBfrKO/T+BwbzlhobfrY2Tqi6vHGLF32JouizPGDvc8DJQPa5VU43PHGrX9cmdUhMr1N\n",
       "F9igYmkDSgeFgfWV1zphMGEwlUsbtpWGROYUKhHvAbBEWKTW9EunomDjxsRgrD1O13oC8hQuplgr\n",
       "n4LJZzKcKKVlkJf9NUvqqFHtQL4wz+2MjDD6A0XFiZyKsFfc+lrJiKRa+ppFBP+wi/MYkruiy+DS\n",
       "CtYdcoWtdETi9MZydlNLwWWxv1HHZwGZt8NhEbjZp0FYtNwG5t61+dWzJgZbFWTLfLlfTpMYAipa\n",
       "DhtCot4699VuevHLfgig82gFoyZ7VuxrgT0UButz+UVcICrB0ZxXIwE81DH3gCPziUt/+WDelm5W\n",
       "yZvImu1YNW4iLW2fB97Rh2+uImrRI5ajmv5pzAzLhbiuv0Xs9mGXyl9GM8ikV2l/AaE91GA06jQT\n",
       "6PKKI16bK9sxgzD9ePDYIMTAQcvJd92K/JUA5UXUmezSyYuHSHxJBRi7O4N856zcBSGOMXbH43J4\n",
       "VNGX//+mxfqBPmhEn+e/dbNDZadDTUUdPTPjhhxC8kIGmSoQkNFH4vp/tBdm380lqNwcasIqGLFc\n",
       "TvRp9oC9H/SZqEpuArSblYPHU3DXAjXRyWHyrLgODLhb/yhDWaaNc0TdDANDycArjq2fcpBpZowB\n",
       "qaWPguTgw7RAZslvz4gl5vP0j0Zf4rWXznLCAFjA6MSAzutYpFSmK3Hx/EaEpuyyeIgTDLyi0CAW\n",
       "lwJCN9s3ygfE3QM8SVgsGNaOz0UqOZNKwM6J+1BBb3RPWngTqFmrRxQ4jJjK+CIGrw58XpqADRHL\n",
       "2a/dTp25mTa5mEYRVr25EQu4cW9weXGYSB+rEJW9LR2/T8vSk+1DFWwbGaxkldjP31wi0sH9Bpko\n",
       "Drpi/9pfaZuAvaVnfPR1utOP5hklfMWtVR0P1wq7LPgTWUVRQCYKM5RJK95a6lZxu+vG6Ebr2skZ\n",
       "JCo5528jqYAWAerr/S0PG0nG/nf2BFWjVuF4QMyDMxS8Na4/oj5YyDY20cgcoUCR9YC9s1l8DxcY\n",
       "5sNEW0nNDpfUI4GsBxNCvCvdC0hnkOWuIOSUvf3l7PMnJVZlDudbAXKhFlQJA7iuMv1ZaOGtEgqY\n",
       "hEiEr5wy18trigZ0jGMvrIgt9tZbTMMhn+gcMk0Qg5lRNxdEHTjJDDzpOR7nouQSbG+jyxpoaXH9\n",
       "R7eSnrNfiYxWC8QvEcM45oN3vsjBT3OjoAhwABFLHhgU+IHB3ojA9RUh9CvJJYIYuJxmkDtsOBL2\n",
       "mZKGspksMueOKrBD4/cshxiTtYASl76YYricySLOrSw9PtkSRFzUybA+EFr80zzLpIHNgt6pZW/d\n",
       "Od+LS/NOQ5/7z8hG3xVS69NpNCNKlTD2ydYsWF6fIWiWcmrmOaa9eehZcA/9wYyN7gKop/LWUpdK\n",
       "3qsMKgm0rdH2hnsV04iZdiStEKwGG7SnJv2AxMpE+e/S570bB5n9KQteq0ZLSVTsLLDkPqRdWsdu\n",
       "7fRmFLwH7IrUwoA3p/Ix+Qhq0DaA1+PuBRrYJs8kBVS+z3lvyq9lmwAAq0JqIvwZ/qojS12EqGD9\n",
       "urfv9k80z2300Wd3jO9j1Fmch5tZmfYZMgioMFFG0vVSL9Rk1wz29mu9GROkz+3N4yzlb01xnO27\n",
       "6QSENWbgs/ZWi+8Ayo4bRSN4emRVCv/8RAr2MkI5gGOmZDNgj+QNCAUjvC0H/YjoPi8x112uQpy4\n",
       "634qwCLxc33uLA0k16MBbzhaPigxpfEZtgSjuNQm6LqxEH+0FQfQ7xjka7D/aY5UMaE23lHAzKqG\n",
       "7h9sTfa/9OOzfGXz+5JVAv3bRz9tiRZMXZHcZ+xgUo8fR7HETIQ8elHviyqpuTFzyLRwvesZwR3u\n",
       "xYMaM3w0oubzVVQD7T1pZGXupWur/6O00gphE3i/703lT4/KkSLmEfrK7gBjOh/vA0GuF+yV49pA\n",
       "Whunr0LolQu0Qkuxhxt3CM4KIwHrc27YhZy801ae9OZdlIHxD6TUkZBnL86buzRnAepwdsGpChad\n",
       "/ladybd87G64wG6Bwj92S8iTzF2/UUDus12T76u6U9G6Py3nA0sqxjM13Hx0OEnv1wWoI0kndcmD\n",
       "8kL5Pfg4AL56VLW3SHaFTPIk1SS2dpBeA5LAy2q573zz8au508lJxU3d4ume/3A43rTI/0LQKtiL\n",
       "9xjFfFq/rPlJR2yQyFA7Xryg8oGHJ1yjzaVH88XBusy3rd1NLP3nQ2LwtACQ6WU9HIDmbJcDc1zu\n",
       "EPKwBEKbs5fDv9Q+GXV/BMuNMvxel0IAexWBpwt7X+BC6oWf9zIWxZw+3T4UsQRJ0wgN30Bn5GTI\n",
       "iXjBziA3FPFEDy/y7QmMq9yGCuV+XKtJSeqrb+mKKgo+rd8BtcT0SO/WtunTWprAWoxl4uVipPYq\n",
       "jiglK2w4DyblP25DR3Lmm8XCRMDrmDm6vrCNEmmN61jbuvPwo3STGmXwJPWV44KIM0815dfTSdRP\n",
       "zjjGi83bA5dy0XxxAW4aKY8+KTHBDzZHPYJ5WhVaQrWfakW772C7jPuGCm9ZXTThXArpKByS7BlS\n",
       "tLchNdrfasHweGdEnCYf6unQM1jP97FBCp4sQml4MdVyDx32BpPe/vmaIKUBiit4pM1ey0hjoKay\n",
       "Pe0vgEe0JTB+0BA5F+rZxknMo4ibunCjctUgL08aMVAbjpQ0l3UUBlyWK4nlk+Qdi//pUySLH+ss\n",
       "rYzUpzS48lHxnY87+bt9iehuh37bVNN/UA0Q1+UgG1H3xqgzV/W8TjLMZlvUOvIGUYypVu9A6sw5\n",
       "RuAVOWCyFFeImcKRfC34YmRMl/CeOO0Kta+HfT2TdxGyS4yP0Z8nV7yvGRk1kxGrPmWdOYgNRIue\n",
       "zqVh0LZKg/JkpN+b87vZ/EthszjIiNnhkJbkifyGIvB68kguL5SEUZjLTopp8mHwbcDUgCcdZJqC\n",
       "Ha9hPf1/DCWtq57VqZQesWSoihJl2Rz/VZH/IyeoDNg6ZLcclwSIDx8/8YFiEaWSXIIFaM8VTcH2\n",
       "UEUE0IEo/lax7hygs+0OVt2zDdyBYCLWBJmAgg2YB8S/9sO4C9pz2A0saRitNPojBqzwq1XxcOEo\n",
       "o8VIHEZa33X/LKepJbBrG91hXxGXf9pNaiCYe5e1ARVOkMBTia2TywGeJfo7NR41bOZC2xnTnf5K\n",
       "hAzBXRW6jLrsjwZHcA5wvZOrC4a6ZHRL919NRf6Kmre3nTwXFXUOaQ7YCbPPVQKg0c9QvsddnCDh\n",
       "AAABOwGfT2pDfwAR3IySsrcQBAaAU4A47YnzHBaOGN1OI2lorNNQBfa/luO3UMBXTlUetWBwyH4N\n",
       "NeDT0s+9iMvn7wQi9hJ+johk2Iy0VVb+zDk22YPz8DHBOFDMkCXsVWnC8E3t15A4NHX/f8pntYl9\n",
       "QJG1YBzO5xZh3qEIggQSOAW9mFg/NCeCWQCM0b6tGF1vRUsZFnXtlfgn1Q9e728LjHP6IuavaZOv\n",
       "Fl+J10WlTm9FzTVqLr72D/0XehTzSDK8aVjcrP6TqkQLn/Eoix7fGroxAqwqvwbLCCPgdpF/aukh\n",
       "tzDNXIWnpUCWo2bF+neu0QgEabz+b3MSREiHVaE/MOTkCAfEzOOjn7t1/UWJ4KjA+JYMPT0vADbg\n",
       "SQrstBQCuZmaXhaqGY9x6FsqK2zFBIsKU3terjXXcADMgAAACbRBm1RJ4QpSZTAgj//+tSqAAMBw\n",
       "5hAZlwX4mv6a9l3zP7Nkz0rwnmss+ynhYpISEyimdkh47mlyohYKRNEaXfS5hI/82MIuQ4CTlVt/\n",
       "Toh1EKga9dl1ameeRxqY6R2g5nrte6638L6j51GAqV8x3pMS8O/ENFCcIGCorko96jzCMb0FUS6X\n",
       "r9C4d0mzAM2PucFx49Ys1kNdQwvUsGyuRdbpucLAQmMKsVNcByCEmFM8tCzMANYDqC9SkBf0eUar\n",
       "RWeD7lknNz/zGIajoHM6WtR3HDMyMsSU/2OfvkTRTZ3P3dxNN1osjvkjzoe0uv0VcBbkYGoKsd7W\n",
       "K4xPxIH/svnwY9q8JTnWGcpj8UIhy3n3wmmjTAy2UmwcxLqyOG/cTDj4b2FXEtgJmXWQnkzDFLYR\n",
       "xUDJgN1TglbhL7zxujr+GzXlV93yk4hSdtNdIdBM+RaX/PEM/Mcj+PD7FlgIygWmfr2sAtBXafeQ\n",
       "equpI4Sgu/3LwxrdTbATRfrxTHX4X9sMGczOUm6aXK2fSRSM3uI1qRnbREMo5rJ6dO/+jzqcgsas\n",
       "qWgO7UR5uxl4UvtdkLeKT5yIAvM6VNSAeT4L0Z5KNKjLDNtKm/v1Wl4TDc/8pcDFaB8aGBz+nQeV\n",
       "gDAhL9XWAX/4Dl5WC9ixznV7hTGzQbZtKpt2MVSAvhgd/l8BoBtY7h0r9VWYYasiL3PYuKrAL0+C\n",
       "km/CN30K7d1j2JokrBe91/N8R41IWs/vwboLR2EQYCqVisxqPysjaZq3weVkpEaxwYDDyXBfS/ff\n",
       "NFQl40V3dbMSqsiAhTATjcRAtd9w9w9BEEY8fhwOfxrnvFeCH9vvqSHKoC7O/Tf0jugh3KmsT2kR\n",
       "Li3ZA/0C3pWqRs2o8QFomvq77UOlzRsZk1U7GBDSb6eCM4Kzirg6nRIReh8lt/Z935kvQXhDI56W\n",
       "8PFvo8fBuerr8MbNj2n2eC1ojFObxJzO4drOi0F5Srau5pqYBKUF9AkKXv9cM/TW9RyW9aOayHnm\n",
       "kEomYlznDkLXJxj6x89MPvheiMFnidBHAmvh0UNlA2ervo9/wJw0smJAcRk9Bp5qJuiDFUX6PLSu\n",
       "qWi3Nzus2YBjisGe7y9kGmwTPfL+bbBGGC8H/rbJjzFzGaC67W57hfB6eCjiAMWGupviqmZA3W+y\n",
       "MrBxjzP2hC5A/wF7F+WvH2i0/mYbdBrVuHmwe4zOT7yCqvnHrK8LvgYlM/3jLmrOPNmaYHlXgnql\n",
       "90iNXY0u8aRB/cU036emsZphPoFciltc1vH31TbUbKWkgR+lvf1OxbbjSImMlyj0gUUeb6o55+CV\n",
       "Y28iJlc9kLBM2EewtGF/qAN4n7W/l3wkdJEHbeWb09vOxf/92/t9hgS9x6lUlNDYIxUv+vs6ODEJ\n",
       "0HNImjjwihYSBqJ+/n8dgztojCxsynwNRJiyJKcjAoVfxI3BxnYBzOqbvVYqRTMO8gOVf7wfPEJG\n",
       "iEqfvlzYCGIJjkv1mwNFOWGmfLKWtT/DHz54mpzmSscnSc5M6Q9dSplcrFwwwyT81w1wHCSl1DT+\n",
       "W8XzfV+FKGLjuQyGhaqLVJ5eXFJ5XNwVhqSUIUMa/nktaPTBVxmhIfXrexWi8UtjVV36TGBBQb4+\n",
       "cCaP9Wvk3zSbIX6GYhduy9rCqdUfyhBHkls8X6UpuY8XURhQc6aTuoQQUHWdez4YAXRbWwutf31e\n",
       "pgzTSG8KKt0HvXNzvTpy6I+VjDBAsesqQruOGgv8es//ORkrgz8LcfZm8KXuSCjaKjYH2X+6jZnY\n",
       "Hbf7wyM0fC6WkUTwaLc7AVFPrsLhUGWUcFJKdTz/99ZAjPKxUac+iYEG+BgxNd5RuFmofrsN+1cw\n",
       "2X4mPAWxa3Dbk9+JWINzJYiH5J6JIgVAhKj2FN3dfujetNTD+T49I0vAPc9AKUGcmcdAWv6XNxL3\n",
       "lNQTYP8806GLjaqe0XklKo7MbK16AA/au9Oa+n4z3Ce556RpWvcXQEitt1HFtp5l/0PxYstidqsp\n",
       "KT9JYalMQmiMmlzFfAEp79O2QSKnRvOhha4p5uMvfHexyjfSXCSkjQ0ySw6wfHxiFd5FRBQMZq1F\n",
       "omzwXwG5er/sR5RO3Qizq/LGw95na9yXq2q+CYaioF/uFq5c6xSgc87Xms0S6eYnz1cJyLFnJVku\n",
       "UXPpLRExx/JGHbsLPqjdxzIjUumSFYdt+RhXjmut5MzGDcgYhOFf2ZDhK7opMjZg/hsUTL10VEFT\n",
       "rGqSQiOUS2J4+nFkSU/MwUok3T0MVHrAZFhslqFpoIjUrIYe2qP3T8vGzwOVaXzOmj2WJH9+T4FW\n",
       "b79xUJDGFfVKLdJSKl/ru8zlMsJtWI51fkTxzO80VCoeRo9BkmX2W0VUeBPIM2W0MwXg7bijAaZk\n",
       "aeq1RM7sOufyibUhTHQ4V6g22UfoPGZdIUM0EztTApYdQPmyEGEOUNjebZ4P1Cwl8KgajBZgT10e\n",
       "gCNZ/jWSIJyV5nL0eoCU2tZwWH3vE2xIRHQahuN83B2IAkdjn0i3aJ8hIuTCG8uKvrfAeLOjwiiT\n",
       "ih8Euzjtp6Fjr+hHfGohkll0MBtpzUsQL6vCDkHTAOVAs2qvHR+gg9fU1Z2oxXlI3M3+3AKOdNur\n",
       "HXE+uKL4dnhy315rbJKi20Q3j5CRt/NeROtZzkm5PqoYQajX3LVBqf6JowcOiz4wU3BugGWF6de0\n",
       "53UIPRHnsf/pRV71OxuNlym4szU+5bZrkCxQ2D0RR7xe8XDsS/6JkTmErdSjbP6PfEHE7Gg7yKgw\n",
       "M/6waSKLCll9T69E9DIS5mmT0gDreZIf/q7aaejDixW2B/Afn9FWaibUH2Fd5u5xOvRmaHxwfzeM\n",
       "p+aQ29eEk7KlOCPD+PV6bFbqE7EK370SUshNE9LiW0E1JGtULxP8dn6dLgJQArm3Tlbffmjw006R\n",
       "Sicc51A5FWdEEj1l7WOo435GWy/75VRn73GZl8xnXtBmle5VuBoXs/tPDeC8KyR1Vl9r0zpSyA4e\n",
       "zZcnli3GxYCmVkZ+kbK/378XVfsYxrDwdhZLWMVLwQqyyt5yTZhYm66MMzDdr/vCOo3UZvCWhD7d\n",
       "MgL9x5tzl4kT6wcDOOLxqp83yy3spKyAnAtPbODrjmIjabTC6grUfBvb37nwEW85OXaNUYOiDsEo\n",
       "OmRuo/+2/ADHWjtx/6C3RoOsaC8eopDI0zmVmwjY0AuXASGXqFTuwp3z4LYNWsigmRqhoTes02RJ\n",
       "s3UToVf8qqd1hEb4WN6LRH3kvUxkv1tUlE1VRWUOATopr7oKo+V7D1m9gtW6WcFcDuKZw8iwKuRC\n",
       "GM2di6bOAQcjt9kaoOAAAAE2QZ9yRTRMO/8ADKdQ4+vugAmmrhGC52Q+pevNAAMmO8qcb/d3IE5S\n",
       "u+wF7g6whuiAqg0DaD0TyZ726C++Z2X0kSD501n8fFUJ/pXSh5ShQxjeVAthGv7eUAI+D7ZAMGU/\n",
       "3/+Kf5eoxvN1u1dDv6341MIyMp0oBvKtsNREVLdkEWsAEXG+bzmm2AzXQenZCXz1AEnVxttnuAlS\n",
       "8Er2+Wf0ynwh8GlgoMnZt9f3mmVrNfi+uk4ppg/sN37ZT2hIalf++UBoTvu321o637J7fQRqjHTT\n",
       "5UOrQAr4dTqlJEUEZHzrkTZ8taBzUOEvpwF36ieje+QldpQHeQ+TcHhuwrO29fGxvcRRbIA8WqT0\n",
       "SvZAAz8cDE4FuNiHidZTilC6qMHhBp633did+iwgJrU6yW7i0FJHiJQbmQAAAjoBn5F0Q38AAA4m\n",
       "n4B3ZdKxZ25mnZTm+Gn6elwMPqQMcStLK4xqeZxUCqS8jDkdgA49wwGw11e6VGMzY9dl+szeF0RY\n",
       "b+pnjIurf/xAhAraZ+IcHW77iaeocCkqmUJ6JZdnoGTX9i3ZTnU6wSr1G2q1XSrWqj5qzVFOMPSO\n",
       "Yk8Y9rZQyG1SeMbbAPTsVAe0hdz7SI4Vr6T9iyh2pEyYURlgesL4UDCyw1j9yNVqXGAkV/tU8U4C\n",
       "szWn9lj31doQ5IgYF5GY0ULcEeBIsjyJGTEjBmiNNWmQ7TJrJQi933mfZ2TjVAv6kwUA9bsNWabR\n",
       "EsTMnfbzwuSzqI06Vt2wdlwP2a8PBLUvjno3/me20r/+B1mSvA9SvOVdmtMzixPNPa/5gS9b8xvn\n",
       "NjO5RxD//lDXdtnWQiVwPdTXdcORsN4KaU5RPmIO1rfoCj2wYE0E5aybaDdeJd7SGr8NcG9cyU2w\n",
       "KgGNrZ3DcdOuR5nw0l264NUfaXemp6skZMN+tvH9zmTfMhLrB6nzOsJpFVpxswYFzqkwpSYnPSDX\n",
       "HyMOYmOXbhRlMX3y7oH4Pdg3Fy7jRKPH7hRj2uAe2ADSkcVxPKvLhSZ3u6WXaw9S/v/hpcpQ9aH7\n",
       "grzklzSRaiQU/H0dxvmYZ8kPZtv5GKUkvDGF9YNhCem+8Q9KlC6y8moEk8Li6/Fp0B2bRhskYMO8\n",
       "Vk6h595lQt8MS/Tq8sWHwRlboxvEuJiaDQ/mSnFNRw9P1urVShz+xeIjSRg7eeAAAAHNAZ+TakN/\n",
       "AAQWvQDnPUzzP9UHY701y0GAFsbAhpKLYKVNAZDz2Hw5d7pWW8y1NIrVLagGuHbM2KJetubNwYKo\n",
       "3aK0TUy1SIsjNU4VEezwD6Wp8vrLntKPcuVgfppdXdp0fCuSQRfmOFqxMq7H100gALmPDCbAsVIF\n",
       "HbeDg8c26CuTL4pHdiVqFB1L+eBeHSfEBzuxrcYzHz4WpWZ5N/VlMatnVHfIqzRvwjtr3AS3Yo2a\n",
       "Lguu1UpRicz4O4K+RmfQLm8lJUujOhdLPXIDvPD7y6OVe40Wj7VNwBLxZtUcH2O3sNLBCeE4yRJe\n",
       "4rHP6n2LIRhBBorGiZixaHEnaG8vqT83zegkoVWN8ExaEu3RGdfWUiAuIUdHXWXmrMC4SiRIKmS3\n",
       "bODZHkn8mI7APHGS/lwTHej7clLai4LoDiQNALxtsrYgxsGgqhmsZLEkGxEM2x1Q43u1bIF8YG75\n",
       "EiJK2xdm+FNrQ7a70Id4aBbAFW4PJLlclbjLNSVlPOVv0Q+AsmHiFyNz/NSmzqJFPgSHF6qtrJAh\n",
       "TKb9ZOelONn2ToAl3wKp0U9jMQ1M+8yvfZhg/rfUu419avstuxKVBwo2XmQdn9fjfJmaYu1btVAA\n",
       "AAwbQZuYSahBaJlMCCP//rUqgALcTV6Ahb+X4xGxH0Jo3lEAB//EBJVL5QvPm6x8CNsMXQ5do6LF\n",
       "EP5rmZeNfBAiiXUh/P8umMrBjnb8FyquHDhddBItcrfDeagwXgIAOXFAVSiJMLjCSvnntaEyV2vz\n",
       "Z5fBhJR4wD8pSs0a4tANRJ03rqzqcFLNJ0bzECOaW6cijgzAbOICQX2tn+HuJx765oLcfxNKvLuH\n",
       "sp4lVDTzEkK7s3KbtgSJt6q2gHF/7RtnujL5941d+EgcWQXrmw87cYsWb6qWF2YZyxG+feBT9xkF\n",
       "sK7d4exRi7t08YH2a+ZMFZURji44gNpWW2jiiBxu0bexHvT3JAUGD87g7tcAlGOQ+KhTW8LQVjgY\n",
       "BQz7m1VOQNB+nnZSCKHdmUFFXmNVeDipQqSLj57bFGIiaTHtsEiYW9YoDcOQxNDOjBzXB8+hpVVo\n",
       "lZf2qWoKvXRiMzJ1FSF+dMld8f9uhcatl4iysY4MOuREum9GI9yIuKyXhHYlwWwftgUBlWZTZlfg\n",
       "oI1APzjAhxe7aCy5lpehq76REp1BYFHTFzHjjAnAVerzpLHHiJ9Ic/M26N4CAa1U780eLzTdEcxg\n",
       "vZHNc5HsKV+aMbBCDTqAGvUfKXrr0tTUoLPwGfaTeX7YeyzdNuJZ4DeusnNyTGwmN0pvbvw1MOTx\n",
       "kWqdvWx38hIjf/6VO+qkGSz4g82pUuTgYMt39bcsWwAkEh50Wok6SF1zvCcYSC8aPpRfzA6gZb4C\n",
       "xsPfhg/SDPJXKTqq1JMFX2humhRfXk1vdZYa4X6d6ShDiFzjm8nm8N3eYkLNTEaI7xp/h/p9tlQe\n",
       "3kzG7nTBDrIGSdAZ6GR8+7LgS6UNGRQm2jrhexBgBvtYS7MKD9uM7znMvK7DtBPwH0NECSVEPtq8\n",
       "nfVhYymhxjnCXhe7thyzEdtGJk0f14DcQ5PtcKpC9Ar0UXmIeeP6aAnQpI+mm0Y8Aq7TxVKwIOD8\n",
       "joJEn4tNwWIo6JZbtsU6iijfTUqrhHvokRksSr29PqmBz9yhr0uQxGXs6FmMOdq1kKPbs9efllsF\n",
       "R0gL4aK72ETQtyUuAQGti7ssHIWvtuDkFSJIQqLyk/PDj44fz7vyHjG619BXGXb4zSPFchL0O7k7\n",
       "/+Pgeit8zygU31c8IjVhopr1FYNQbGBqIo+gpjANi3RfF9OFIVRBjYDBl1h41HGjRkGeTX8CtD/K\n",
       "VVVbOH81iAMuLR4vcFVWFXHIEsEIpUaUBDv2wwbiFtj2nsUIYJW3/iq+OmIXz7TJUVo7UPH2qw62\n",
       "q3+ozRgep4L3tfRuxge5er65lGzp/oEfcD5VJeFIoIucsKs9w+DmvnEWzQbJc8+NG2p56U33JTit\n",
       "lhMSkyd7iPNcofzrcyCcDL5W3/LJ8kAefoOAFZdDr2gtd34AKUmsH3+Gzm/hA/QFwzEO5Ztb3DVE\n",
       "FjQrSPB8LYYGJhuxd4uszyKXMhKkh0xsH2Yegs9tptj9WkPLWjbm9JyY0hxMrQorhbNn+6VMXYfT\n",
       "YhKBAMaFgMnuFbRq6x6nPnT86dE96CpLl7RhgJ2tYq18KFkZ3ARM99TtRHZHkzVAnnUVovq9uf+4\n",
       "FJt+j6mjjNZdw90N5LI4EtUK5jzd55c7IBrnWjUwJ0u/vFpCSynAmpAU3WUPiFQ07rA/XoRLfPr/\n",
       "fkncF6zpiymvRG6GGjm8dQXoGKpVrnwbM3Zv2z7SbKWpPL2H1/TGQg/BoQ+u6koTATiUQLGEbxo/\n",
       "uebfn59gbiDX33RuBT3NdLcLOobKaNHOdOuyrDq9xhWS65jFV6d3yDT4WPPb+711KUaUwetbknIT\n",
       "6twQJGVuoDFTkfPj/Aqw6RPTm4r02vOPZtsNqTnCS8i0UBiVz7db1+AK5stpS44dzXnVfPW723CH\n",
       "rMbm5ymKORm8yZ0RgRcyCgSwN/Zoe4q3Y5FL53zam7WX9+TZImxSGwjiKkTLeyNiFXudrQSnbNgz\n",
       "00u/n1gXzk4RdZ05m7LCTux9yhpxm/sWtk0brl08tlJsPx/6Din58yvZfcplnxxdof0cfC3cLgbO\n",
       "NOAP4eP3t9qPgU5FZLYeg1sz0GdndFdVkHW+Z+hUMcaKjVTCqNbTHTtYOz9XOxs++Ie3s/4tUJ0Q\n",
       "KO8a9yCs1z9aQWBi7IiIDPgb3RcAvMTD2QDoIMBa6aAjBCF+BBDOXEfu6x84MQ/5lFOL2w8z6Qpq\n",
       "MqdmuYvqmisKIsl/Okp6ZBVNW45NjWqvYYdIProzG9QRBoJiAbDKfapjUpLxCvTP4RbAI5mC60ER\n",
       "VXhoIz2krnxPET1lq7DRkefs1BAwg1bTi4Tx+8squ8Ob69sfvgC/BGL+joYOifkWbfp4DpNXahF8\n",
       "5JCN0cSQvzte3xvVDJ0DF+OqZBabHuDBB1EWQ/sGWFDvvn2gIhvPAeF6yzxqv8juxR6ie9G49NJH\n",
       "cKA/jnlzmeQKg7kGFDnMMohkeMiMZn3tFE5171pAFBHX6dtUsAIMA64xFMwCWh3mdpcTUF7odpUG\n",
       "6SbZHQF3BQhkz1vXigS8rB2lB/gpmyoxyNaxvg8Fis9iJgAByAUVQPLscHium1DimiuaWb4D3N3s\n",
       "qR0g/NIneSfFkLB4Ck0AALfsrPAe6L6+jWeMlZPkhktmf5EcJDoHmq98vnmueM9TjfPTQtcHOo13\n",
       "B4m/m5bAY1J9pbiaGjf6cifbWiodnfMI8m1U87xy+X4eeEAsrtv2F/6xIwJ/+9vSYD3losl02TG2\n",
       "WDP9qvQnyBBGIhdWqFYD558FlyA/QAHG3drwsf247FrZGemUK+iIJW+ks2rT661cMMuNecncXHyd\n",
       "j9fM1efYi9a7zCMmkoLHrk6dzY4/I+B27H+MEniPWVrxqDeANPgJujD/2h4steMsE3NMj5JD2n8z\n",
       "Jt63ZevVc8L1B+r/HxxGIFbyZYBCgEz2N51f6Goc8BqluZCMwjXqIHyIFD6GsbizBbe7DC2N5Xqf\n",
       "3M6vcVXNd4boRggusWgOqRnBOLR06K7Xq3knHizP9NqsmZ5MCUMp8ajokdPFFipWd1fRZyATgoaW\n",
       "zYueuV+ZGD0VOwT11KOfWUvAllsFzkCCRVQnOliiBbuDkMWHehmL88HwkP5mChd04DRt5SYTSwP6\n",
       "hfq+lCldapbUbF0LdSnbogmb5dGBvoQ+yDQS8r+ZPpa5co5lIKfbyQkHs9aWs3XkOpct693/Ljx1\n",
       "D+7VSazrAqTKVCq0KcC21KGC2dYGT/GMA2RrYmzQoIPqCSOdOEGywfW8wIe/Wh3qzqt/sde9jFkg\n",
       "9wcvXmlS5Ui+GB58ymSJKuasCSv/W5g20ssKIgoYUZ6Hec433Y4GPddoVdhXI+RvlpTKZc8nR484\n",
       "8wPz3jcnKXb0QEXQo59/gk4QHYTuDUBIbff77gs5gj+JnoWVpvOZIKJJMgkMdGPOqkgVw34qM45M\n",
       "TDGnBz0lW8MFuXuXt7vsQZnmD4qb+zFFvJh+V8bvqNiXoOUfGFYLzZ/VxHnYqV3gJnZ3OCtb23lH\n",
       "TpIq9CTIf75enrtqk8N4+f3GH6mdQTTgDP7d8/J7JMrAfthkq/+ypxRKNwzOxACOrM+xrMA+cIpi\n",
       "ivuMsRTM4+FSMlZHFjfM7fzn3R64GSe9rMtetoa7uv1wym6Yv2uGAc2MthDQqP9o+lHt/p9JyFHW\n",
       "wtx7dUSUPMbQW99rn8Zn8T+zUnEl7iRq8HteiGQcwtl1QLcTjqe8nogPZyn03StK8+I5B4w/5HB+\n",
       "dnX4QCHw1yN4qSHKQJC52g6dHcYNjDFFHD89EsZAN6+4Ysy+CUGWs4nXxDMrqTxUyJGwZnbV5H33\n",
       "irRLjiKz6X0RB4/kk6Qzb3tFMf3w37qcWzKp2fctgBNSmZiARdL4PN3qIRNzeEB8NH91a06YafUU\n",
       "AHzE5+3tgogJAsYCZXN2CGUk6JoYTYE8krRSXrtY7Vlw+Kv6vgM9WO2HLZ/jcSdwfv5LllKAp5SK\n",
       "vALhy3Bwtv+XgIlxyvPfxf9snWGeySBs34jvh1HBXT5As1DfWkuhdrNlF2Kpcq7EgnaTIp0DjfVz\n",
       "Q4Drw8vrP+jU5iMTJ5dMP7UC1x/nSil4c5hrefZhBiIbkRgZ8Wj3v30ZoJoXQyqlCKW3xfnqbZ4Q\n",
       "KcQn73bmpGWrNifKRtaU+HSU+TQC1f+BAAAELEGftkURLDf/ABHZe7YOuaCHljPh1kJ5L8dFSuyi\n",
       "Ec9jokgA+HT8yaCi8w1ut/NbWN/+QtmArJoqN/9ynT8xI6tsjhQ5l1WFYH4JwtkCor2srwHeiz55\n",
       "DPDGSZRiydERumiviiIJg2FB5MOgzBhQ34XFEL2Vb1Q1lTVuBeah2kURREmdxEULT63oEZP+3EHg\n",
       "0m+hwZPI7LSUWZytygAV5X/l7tzRbM38QuxE5ikT6cG31YRWpI0UlLfXCd+jWupVqM8gEAHJK+cD\n",
       "UlfjBO+0znskAY7+DR2kNoQ96hEMdhLQSnsBdjFuzpDo8WFZFZZ7uPvXAh1Q6beLtdCxPFs0TkFY\n",
       "3P7Shhl9pZ0g1hvLTncEw/4wxaRnP8QwfQF8H3+YUnghvciVATvEzbi0ahCGGZ97baF/sro1F91I\n",
       "JMSFecCffOSlyPpBobA05DXX+/ojqdQLKlIbIz8YNIZB9BpI3U95uwHMpOjS4VtK/ho8m/AXh5pM\n",
       "tHtVJ+Y+BFK5D8+cfOoPzP/sh4mvatmWosC2KFhN8fKAIbIeCQ//hSQvz5BWkDZjR+Bsi9oIQYYp\n",
       "OeylBcdoGedNWl9JYJGjZEhkUw7SaFJX6/hYfPBehpx1IP05ZIdWxZtWI6aZ2+716nmf5j+fhNqD\n",
       "VoVaqcVAzW+ToADNnolJIANfDGSU1As+SMfdYvNfn5c274JUvBYq1ZXU643Zxdh9xNmF5KzWtrg1\n",
       "CrqSt81SgCLFbqteymdE20kdrdBof0hCDH4dBKoddbNV0TtRt8HOfFKui3kzcNsqwWuxsdEbLmQf\n",
       "i4eREg8rOv6HnWHKnjmy+Ocp2Ig3zioWrFpeozDnHdoBsukIRBMFBS8I3JOH/qddMUoH6RHNHccT\n",
       "uOUtqsRxicE5Fts4DQaBTdWQ9TBtlEnA7lXcQosKk9T+SYBTsw2vbPPkrFN5xIiuutPlJFC7PWfQ\n",
       "6EIbRFVFScN8or2CJoc7UoYvd8prxxhhWuUVN/B2m/j2zKizZuo3gy1q3eQr1CNWWzN5Wo1O+ku0\n",
       "cw1lqj/ETGt5p1CIBWdNKHpCOKURbyRceJURrLWSlyeNYI/ib1NCZq6RWK/gqSCWY6n+KdZ90d7W\n",
       "pzA4q4XwT9ohyQKF9z6jNYzYYm3XBmLhNYJgwWAReHdVl9AVT17VXHIlCdf/L/ZJEttLBMDRZDM/\n",
       "gt2/Iri/32R3jSxFSJEkda+Q65D65A4+UPsp16RDjEHqgbIfYlse8UUpx7+6M5OHa+Icl1g1Zim4\n",
       "lYC0JNLYOc0r8a/rJi0at8qebZavJGjOmhwd+n2G1Vzo2olmDBfNnH7W4YXVHosFrDm8Hy7FgJW8\n",
       "btsnTOp3JPhw8iNV5G9XDj9VmxcSbm36QhnRzzsxHZTQUIPxPZFVARyHuuZtAGOnB5eWJcsoUIlz\n",
       "q1nILWmeed8oZzBVwAAAAWYBn9V0Q38ABBX1mqrFeeLAAIXDd4lQPQ6go6cn46k5Rq7lHP5jL9lf\n",
       "W73017kVufzt6MEAHFqeGNsaK7TPKefV4DG3zyn3yTXo2aJqD56+kTFE5oL1xGytHKqAct6/60Q1\n",
       "1eDlxms+RDGPvOYyc8cKkccxXtTqP1Y9grwS3BhCZrqxoWpFPLn4NfeO5Xl/hfzTOcGK85qNywZI\n",
       "ZY8kyqA+UG5Amima5WuLWHw+ZreUA/fdu4FP18ik5FZK1lowi6NW2Y5Lh1vBRNNxczUvrywcLWE5\n",
       "ANAd5l2kAn6QL3FhNIBXKvtGYcJYCd68aXUs+17l1CutjgcGo30GD4VmnA049iXmHu4xaUde0pwV\n",
       "6MSox0b/vgvF1C8hjaPv/Ge0T5lf9g94pSIzTQeKLn8ZCNY2sDnVRKGA1wN3dnkFD9pdOcwDEQZU\n",
       "99f6m9THXybDxMls10cgTMEdPVHIr3mjbz4hpfUYmEvBAAABRwGf12pDfwAAAwNgAKGs61AHNziq\n",
       "alV4U8BxpjpwUkDubzUN/yQYewfQBRUy65s+AAKEDG/9+QhdO4J61G3QAG5TviUABq5KKTvlpuWy\n",
       "7/RT20EF/7HQAlMFos3xrv0Cn2TW0YokMWhFVKpKhJoVJ+NjCmN2J/UEf9LsBvKNGPUr0KEGBiXU\n",
       "tzninAOHVsShECQL4uhAIs49tX+MD5fRldB+SNtMSAOH977HA45H/ACegkhvl5m4FionCrFP8SOg\n",
       "2DJpoQOMBP1yffe601V9/jho5l9frZQQrErao6kURKx6bC5/sojCtLC6d5DReYTdm4WLUs27Tfeh\n",
       "JlHH+lLkuryK8wg+Scx8VAJRJ1L+mr2hnZopHr6lbJB4LJ9UqVW9iqTqL/KD6fXfFzO9ky8p904n\n",
       "D6PurcQPzl8eecL8DVgYOEWHIcdt6QAAEP1Bm9xJqEFsmUwIIf/+qlUADAUPgAAuwcmhQ5IejaIK\n",
       "dIAAntL/+H8/LiJLqd8DGHdwz2S8tlbXYJhbWTtiXIaRGjEMsOW1f4o3cCjozfjZIIRRjOY/H0vg\n",
       "j5Q250hqHiXQORoSD+klGEdtfIQtJkhzulzLCWcAC8+17LKSvfxuB0i2cycA0Zbr7m5PkHet2agE\n",
       "kz0PRykK3hZgf50SMb+9nSQ74CQKU8nlmFlSvbY1Nyt3z8oorYXWn5EU3Vqk95G+lbzGhcIx+W//\n",
       "No9h76ehw2sUjfHrmgF7uHFMCPBP1ICkvGyYX6BJ5u7wqjsQCoZovArdcZG6uZpazrI3+XUzEl67\n",
       "kO3PLGvmV2wSOmcYh83wcWjvYnP91srZbVdlAS9cVmMUek1UDGlWrv7oJk5qXRoPzuid+2KEX9C5\n",
       "Bu9EH5TUuYkZJ3VMcyECIz4qq2tYoIaKzNtvbH19RhycntCpdBOOTosaOTK4NWtn5wCIxvs66iEV\n",
       "bhtGfX/C0dVk0I+f/08iboqIzt2uBoBICx8ceQDSIyHJh9iAa2JQyZZLxLf4zaY4ODL4vXJCqjZV\n",
       "4agJs/rMRyJZKzmy9ZlOXlTzBc/tq4NQOqrp736DitlvKogmUKtuqoQ/Tf+2xKGU3yq2wvGeAnv7\n",
       "qEiFuIZ+Hr2uTRZq8GGnN6ofVUSwDvN78RrP/2wW6F5WEOmY+s7a+9D/0fD8m7nuOPa19sXXxL6P\n",
       "zrYqI/4JS5uqxuk+zmLG249/1WxAzwXVZEr3vcyZM+t8rzlIKkf6CPPzBl/eQ6Zm96AlHVwgvQk5\n",
       "SZ24dc7durpFrAUyr9CL7vFeKkpkQ37P1gJOBvZIuHKaecL/RZ2jFdCVYQ8oVS3poOND1wGdnr9r\n",
       "EruKEm2PWb1XutKcqRdpOprwlJFeJrkhB3HDaVb359ok/efHDUXDwIbWxcKeHkSA0rhYTgzC/QKF\n",
       "A3lblC3al6rhMPUq5BRacZbpmckI1KhYbquDnyz/TcrPZNBpFPBNFo8B0dtfM1z7bu23TRihv5Y6\n",
       "/UgqsiXIIGKOjAp9Nd6uN9ljr0B0pErJHFBWDRh2M1zeYQrbor2RLGaMJe0R8v7qPmpcZahSAy1S\n",
       "lfVmgYris06oG/Y6s1vHDlbnck4WQ+COfQdshPhsfN8UJtp8gdctdgA271z6+DOAVyzM72rZeC0r\n",
       "MHDyhrdZT0z09GLYsIJCgD5kaa+bnt28bA13BCHA0pEX163fEKwZHgSKN7uqLyllrrME5appwCjg\n",
       "mwZ1REAdkpCW2NahDNnySoVH96dCZsUFuEZ2SangQQnzgkV8w1hCbnDnwkJCUWvtBDJzJZ9MFrxl\n",
       "rIX9nMWZA6IWsWoJiN3Pols0i3KZa5Q/BcoCAGHCBPrF8zYM/d6rsJrDFhZ0wsRdVy/EJE6hhZCt\n",
       "xGjG5tipIbFeQTyR+yBIO7T18tZkEhK2VvsKRJ7RLixSGOBv/QiQAqLRFu683v8kF0Sh4zaawf/w\n",
       "cqcUpwhFxKRGNu8Rkc66OjLFG6+BttueJODEQJ2IeTebOlisVzVzYyaJpU8Ud26v5L4W14MHQwW4\n",
       "or9UNtb4/xzssXlMtMovBSbMRTCfhryh1R5zoNLuk5KmwXsxzjPPlW4w5SBHUwyY8lRhjkAkCYSr\n",
       "3tRZIR3CWe0h/fFJAje+Uf7S9Dz2aymELSO5BlhZNZNVxYrQ7dGf44cTKpkqS5kfg1JDGyWNcQIy\n",
       "J4HwoJQsS3A6JuoRD4EvJg0efcHXtU7huyTfuvfKeIb2Qnm1rTXl2Y8L5mkLa9kZ/zygQDIkxqXx\n",
       "BTqy1FdJauUTrjw0BF5ZhK953/Rsedj39doaCzyoYJbRdkYsvHxcCskYQJ1FVuEEeHGvR+8BuqpV\n",
       "3tTS7kPmSIm+I/o0I5ykzivbHsRJhcXs1uM0sVChCgdO+db71lxJXHcogk+LJtPKxPfw7q6+luRv\n",
       "Riy5SXMa1VBgO2GvG6SnEOdVIz52Zqh+tZxu0RKdu5MhlmyatChh+UUTrUesZ02Tp/j4BCNZ6Y10\n",
       "AanDbLaDHDlBeUHUa9RfLz5JdBLFp8lBdNxLFD4FjWf0IjLbip3m+E/XbvpjAc0Ia1fs4aUrPBbF\n",
       "YINuVBwW6HbvgX7vX6BFWoU/HfmWuF02uZWEttoW2VCM9417mnCRMQTZofXj3fjOIATU0eIy8Qrh\n",
       "Gp8TnoKnmyaA+eaaGgP8ZOrnlWq1SfKiQlWGIL1LG1ty/mElPq2WuYRqlrvpfayctzjaTNamAsQL\n",
       "y2E+muw9s7FZkCaBZPNiRVdhOgUt6fMtBdN9Hqq0tqM2cNuITHTJdKXrtS3KMeK2qDuSHMxJuSi1\n",
       "BL3RjQnBTciuoydMqxAvhYMg64ZtKOa1YwMQ4XngcCpUkV/6a4pafUW7Mds4amNFpQdiF1XBxg/0\n",
       "rXsROXUeGCbDvJLtVdWUhnusyQcr/ZkIrfBShyKDKxhxzGFcAkfTHLQaF5jxs595ymCFW6Pg0fLj\n",
       "9CeGkzrE5vMMtraauTMwuGPd2zfdgZDE521oP8EyBcMuGqTrQX4en7QE7KzQ6+hQFlnkqraamZt/\n",
       "8Bkv0nqi2XzHwp8uevL7cSHZP/ZJcJRHPyq/q3Clu5sM9JcPUxCvnn5XQtISoU/BTHzaYDfR2z82\n",
       "D8fq4+IbZuAyqFiG5pJSR3CSocR8VsdIZh971GSlEwOyjpzgXW1R7NNd/KKiRKUAzgCr4gkoEQNX\n",
       "oDec/fBB4N0HYPAP7FVbS5hf6Hqqno95fZS2FMGVgY0wkHuvfKaCGifPkWKG2pghX6XpCeKOo/Kl\n",
       "M3FFsqmwY7Sd782Mxr99519h3aZEV75iAbea0q4VrKXTvdD5Lo1ijRljnKoAYvNeuuNPHaHEUPZk\n",
       "5ZMOtCBZBHU/Dr+PdtG9CvJNweaZou1ZxwqIRFSOKmnWngj/nHzs4j+xCKyTh4BFtr6DVT+aDtdh\n",
       "DBNeY8VhB4cJUM3z0tNAB1ccsK8jZhpS758LpIrEZ27vizK5jmc/ofLyX5XLnHnX/nLraQj8vWA1\n",
       "lXpKwyCEkZtY9bh1WeTsgOtnGCIBth/7AKfG5pkjvbl1e0nFgi+bOLLlviojPy4/T821u7vn2HfR\n",
       "Ru3DLglesImDjA8gwhSiziiHfRgYBE/THvmyhmfExZe/OzxkAiMieNzA29rqP+VO8dI9TPR0UE+k\n",
       "BUAQtODRlykZNAiOyFAL60b4UgrmZrhMLBedt7eYCuFB/H5sr3pp9pa/DilC9MNv7P+uyAbPbkAr\n",
       "lfhUR2roAl7Z/3SWVJB19kT8OMJ1DeX1HhMXrzlwqp411Z15XLoMpSAtBJ9PEsRvnLiHOnO8VUzE\n",
       "unQQt9rgCE7nWyXjhC0HWyV8a/iMkcKvuMOZWsEmGUb+gxAkLz8uMNbgwlqRl2FnaIXTRac4wqVZ\n",
       "0D7y8A5BpwulgXfxMDgoIHr2Nm1FvDTAFN7dv0YeReTnZBpX82eyEsNBuqgNOAkymHTjzwEMfcce\n",
       "AY+ztc0g7PoKpWKmX6+o4qU88LHSN0QhBRN0PFl3LaJLO5QXF9q3aEXOECG/IIXlT+ziY04gbo3k\n",
       "v/a+l8AtMDQBsKkAH89HEwcw5MSUsY/AhT7oO7VkfWKa/Ge8/G0iVv+oY7xd6PyOgIv84j0wzFoc\n",
       "W1RJtuLoTH9+9wyHFhy9HWJxrljTzS6jT1IFMKAsvDwJbNihQPuijTICFcOmLQqJ92O+O+EW7S+r\n",
       "VZIqeB71cjihX8rjzYa2lEPoqbIl3cJO6G58L10etBOqH0ZvcGuShsfTt+Hp2ponmkLIoibHWknl\n",
       "QIzBGaLijzwDQwbxIqyi+yO72QXces8lt4+WTdUahqM0UgTgGYIU3VTvSxosNfrrKjqTSsf4BgWE\n",
       "59tVbxhRcbcOlu0d/Z/PGx09Zz80+Q+y5/4wPVF/HK1SC3VnB6iJwErKlx4jy2KOP/aiSM0eSUWY\n",
       "P0EUEY1R06t//btwhq8pN7GZGQyxHvmmPKf7nRvWVRfYxM46IaxTfFiHgWyt+j2LG8+E2FNraY7I\n",
       "/ZNiSpBRFrrprZCB6uJr4JrLWTNLeqLj9nC99ifn3ZYs3kLhtdlzhCCAr+wSR8QxoAl4UngJqjeB\n",
       "bu9VIXpL3Zrs3n9eyADwYXh7GqxTk/7FinDzcvJHf2fwDfiBTIrH++qTeg/bgb/gXjtxleoNQNSP\n",
       "IZtBchg65oZ4ZyF8+CGt+yULywnAT1IXpUnjnr6bEE8IfRCZRUAgLq5pB3Yz2Btijv6aP0bylrvu\n",
       "MgSN7XWTV6HEELwCe5ZQwvyVPox+G9ndVQJcOOOtQA6mMSpfV/zZxRFJh8b6CRtnCdytGs3VVGrp\n",
       "3JZZ+uoDTWlf1X/d4rqWdNewlPdURSwiy1tPrtoyZkeCmgOWonwNtkxtmx3FXIefqq82bjhaJnYn\n",
       "+ZEZCbla147wSdA3z1DScOvpnXEss7LRD4oorrb2OmUyIgoZxMvynG7GVpysT/WeKj+A7ecjr4ED\n",
       "EBF7m+LaSpQ9sH1ShAfKuK+YBrCpImb41PmlESg67hI0BFA6RNnJGe8gu/e6xuq5ngLZyx0El7bp\n",
       "UDajhxJcluhDOHAIu7peJYArB+E1HFKbXHVdwMuRI8ofvsXHHT4c9AHnAbw3aPoFye2eWv6amD6a\n",
       "ilSjT79LTvvjmtu+ThFBRSeOkpDQ8MqJGvVv0xhI5PFtUY1LupMxGZfFWTXYgmVZauLxBBvNY1zD\n",
       "fdXHLmb0n7QYwJ+rxUtdGPhQkweS0KDN63hT/b6EcvR005Btn6VJXJ29JlUPfyVq84NAJYRZjP0e\n",
       "x7MxOgVFA0kbXNJo5Eoson+mXKdMhmIOPAzO11/a1+n/iU/LECOMNK7H7o0uh09RPsl1/wGZlLaa\n",
       "rIEWtjc4BAPLdgx46cv3L8PhViE9NEmfbPKliXMdijths5veXk/nlFAnWDdN0LDc4pmgDShSMtv4\n",
       "pO+uz1yAp9Sqf53/npsVyfDdoLWYdoCWXo79O9g/pAY1KyZpA2fbif+l86HYMO1VMmNlAQBNc1C7\n",
       "64fRmw83np9+U4kq6wQUKS/Az3gezzbMPOyq7tq5bZ/WD2beev3ZX3tAp2PL+Z9gx9zLU0WfPjPe\n",
       "Xvj3Rk30jTY0NU1WQJhAxf+y/Kv3k+3U3rGKYw/L12a/bY4zsCJCsCWiCyq7j58HhIkh4SLvQR++\n",
       "3kOS7+WYUIJQSPHBmNZy3ZSPS2J6x6MZjj1n0d6P0Rnsqwdx+g+H7xppNjUZKb926s4yvkDiOsCr\n",
       "WgaYC11/f74JZBKNUFryAsyj//+0g14PiuEJqxqKZSsmhTt9lOnHKvxd0s6+CfG94ZQXQ6ENZBxy\n",
       "BlVvtnddLpswnDoPjIkok+QJbQnRAHPNjy/RupxDFFmDtF2DhMmQWNDMPPShDzC8syIyjx4PvknH\n",
       "/MYFA7Tbamaiuzr5jz5tiuUsiQBP3rmngVW3z504T94sS3IR7bKmSwNPSBtz9nfnBGBoRBXD/yVe\n",
       "sjHNGo5bwzxjNun/iwjsDUHOCm7Tq//U5FIfAYzbnkubf4/cLyO2xGGZrPy0rnHqg+s8lc25O2ZJ\n",
       "zzB2Z40+3OmhLHNZE9/k8YuUik+xrVJed4tyeL12ejDQ1YBVO6fyfGKKUKts0IaOejrwhEcDJf5a\n",
       "VK5zjD4vAQqIxZ6inqzfjFYCtPUAZrMdhuWCxXfWtHLdI0TQOpgEmGeDD1IO8zdEPbmdj3CnxCrr\n",
       "t3kmjXxwInYF8OxXZBr7aGTkEXi1OpJTJ6RXz2z+INjKwYifidf/iL9KGl153HT2Bu5gEQEyeuk9\n",
       "Uf3Pem88W5G0Bm3mVJQJFr3+cjCtDvOmdD1ChXq/1R6jkErIjpqAKY98TAAAAYxBn/pFFSw7/wAX\n",
       "dV682xwsopT5h2vnn0sDsMAzh4poApPMoHJwTXOHqNmFz8RHidQ4AeNBOmms1V5byuJD0ZOgYRR+\n",
       "BOHraD8ZBhwR+4yzm58ABWf8yRk1NyKHVcf8ys9szEI7j3x8HV4f5oM0v9MLyBhrFzoC3YGX3rx9\n",
       "HtvjgBw76nGaUU9RFa7BHqSh5x/uEPuJ3F93MrvOHV55S35IX74CCDef2zxEEKh00w6ZexWzOoST\n",
       "WELRV3Te5j2zxAbdd6gFgYOGp/QAmVS3CEYUuwwwIDrO9WHJORWlCzzZZYTkvpQTrrCk4K5RR7Aq\n",
       "v//FeCZvpNvFKVJ9dgIUA6NzUiz8UE/Rb6DR12HSZjbZMBctD5d2l1jf+A/rxUGdIMGSJeB/U5xu\n",
       "LXvyOQuxUQToWaRctF5nmDz4AN8efbi802LpwrpFh30HEBxeAdotSUIBLCtsEIR6fLbCdfqPTJ3t\n",
       "QlkooX0Ld3UyO48zXfoKQZBzgBNMIyzsOyHX0CCknNH+VCdgZGcEIZD1tRcAAAIIAZ4ZdEN/AAAO\n",
       "Jp4PShf7zMr3esxHuasbaB+OZSzo9ie8KEGJYuj5wfJiBbjuBNN/lL8JoAVoZTyXnVgTyjf/+WQy\n",
       "rEigfYTaQ9ebiQteWtJn4s1EvrAHmvNgnJ9AfTky6h/aDAzPW/HflmU/IldIIKVuXMGLykYV6nOl\n",
       "o1Hql+Ni2WLZQ2GBZ9a0kxhqar/poYdqg/awSNt0znR19xLfp1SQeQfFhfqYrRz/g23YDBiTExky\n",
       "5YXsowY06SutFcn/Y/oYB3D8MDA1WL7babPwuAkkEN2qVS7Z69pXXj5MainswmDGZ7oIKap6fvlb\n",
       "fZuofyWBLFqtHbG5EzunsGiBEqXjOSbG0+N1yyDS+S8tQAyvgObDGo7NwvbXJRQRRm62LQwuGnhx\n",
       "lS9/veZwgq9db8Kz9FtjVR/3Enxu92SqsyG/hqj5mMu/LLs/u50mYTLIunOcBzBWMBlnf1IeVYN3\n",
       "i66jspXONMbvAiFZQl/xTzeAFPQaJBiZlazOjcIK5EZQfe2xRcZJFDbosa1V15QBQ9PLwJ7w0xf8\n",
       "shvEL8UziN0plg5W7IYXokRYTY2YPq1mqU1UWfzEFSHzE+/8lm3ocDjLgmSzQL+1aAdDYQkUY3n7\n",
       "v9800cutQLtt+SneQZK81WgXhR+RcCyakWmUjIpH1M9fypu2EIupYXPNij0R2LgJEum+c5rHgAAA\n",
       "AVoBnhtqQ38AILXoBznqZ5n+qDsd6gfx4j//eABNZ5moFwvLNg4Pt2J60I6jdAAVqw6mtCpG6LZz\n",
       "JkLBNfROAclPEIMXbnIzr1ypLA80uZQZTOHsRfnfSD91nm4szNNC4FGekSya/34aNE6PR8flmESE\n",
       "SbVw0SYK2Ks5CRjEaK+cccuhoSZUjrqSf9iELbnaW0Bw2AV5jyvSOSxexBVd89I7d1g+Pg7i0Ofj\n",
       "HQLIf1ICgtCe2wdBvX/fCfR67Rs74W3d5NUp7U3jZaXvHAZ6gGrPNEvkLYfAkT8NmLWgbHByZq7D\n",
       "2ghSafIhSmWWX23Y+Gk2aL6e6MV/2stNGwRvsqhRniRryd/hl8mLED89LnlGFqsBLoQaMorVkFiG\n",
       "3VcaFsxCmO2rCHnQ3ofvxvApOXfdPJje8G982OJdcmYzSSPzhoHUzvSXoWeYJwjmg4oJwU1uR2rz\n",
       "SKVyMxwJAAAO70GaAEmoQWyZTAgh//6qVQAMBgQwK+IVziedAP37OLLL9c6drr0/sfg8oGdl3iBQ\n",
       "7LLB1BliYfu3enmYfsCqdmDJBtRKDsqXL1gxbf2JbmL7lAVKR52UuIM1uG5t8+SotkSOf9PQCVyt\n",
       "qVNha6KoFPgoNky8Dy1rn55QAae7Q2dV5lGDLqmao8sX0lmBQ9JAp1V0GNY++gAk/E6mQuqcV5RJ\n",
       "ZZsR2QJjKOzahL65jpiBbP5H9orihEwvHlBrqv81ErNbeiXG6fLgynEWktsV8I5UmIWWHB/dJJcn\n",
       "XNfW6slkUg43Z+wiwNyk7ZJ/5D02NMXfEKDk/o2l6gu4r/gxs60Mz69lGk7AyYRf5G0epp/QwsNy\n",
       "daWRQNLM2n9bZhsRMlV9/t8xzubct5piJgZTn0AC2vhjLvUpGCh2cFoEsLLknLslMPiDlG0tBDtx\n",
       "ac7V01lUZDrd8OdBPyivkbbDfDfwUf3kvriYwqnVl18jZV0CotBItS8gRc0oFrz+30KWGGTGVY/2\n",
       "9ORlGIg+ZMbxzmJufSr5uZJG4/XHvwDpvtmIEZXser9kaezVwQKjMTOAWqvPyZlWrx9TDO/6fUu+\n",
       "SaOXPip6oGth6IvniOWCn1ifo+m2DO2tBWRgZ4GeOzXAZDQ8ukK3qH7K0r79T0Q+UbB/sB+u7++B\n",
       "kF+fZO5Skxef7AOR0ImlUrGxchZHdORCPT+jvZvhAjGW5JeW/xP01/4n3YnUAbz4medGLYgQfLdV\n",
       "OdYRLjRSmmUgSFM5e00QqTYSnxNRa3eYBe1ojPmIP3rdjXUXSOdewlptbAa3PN7xDZSmxrXblp93\n",
       "ylMHZBb9U3Mx+lrU6oIufTjk5pOVunNL3d1JUIUl1BI91xVtPuqZbeLtzvRifI6RFV2MswqaDm/z\n",
       "sc6g5J+HlPbcWCJfBuM7F4j23AhMErEJ96qTvel2xoWbkTonxfHo3WZ4CdHsONViMKJoJ623xLi0\n",
       "sv0x3kO5AB/quEfePnPcd52MSV4T4qDd/85MmQXDNT+8+abFnOpYKVysxHiVQBxytY9cIak36eKd\n",
       "O4ii8FwfCrYhTxNvoWOHbuZtZGThNFaPRuaZb721yE1qKx0b18AIWWbkVMi7XCSPH1StMZdkcuG/\n",
       "OtL//oQSYYlaVi5hmwOE/5FxL7IZAQtC1ykfeGU/eUKKjAZ3pHzlmmmT+/JC/hmjORSdQfzzYlQT\n",
       "+gRX//RJRs0JaLfDZzJ/aWMiYgzgD8b/RJP1htFc/m+SCjgzSMoqQyCbTxGD0SUq22QfsgNm6OAv\n",
       "sSqcSZkmy/++gX6rj3vDJFeR+QNbO5a21SluAVKKOw8yhakv0a3T4OPfCUrUNqHTUNYBp8CmJrou\n",
       "pSG5BywTz26lO9mtNxERnu3GQG3Pk6OU+UYu/YzBXTyf8ITjEAXI1yOGGJbNiaMAv03W/vOlmE72\n",
       "c5wcnn39I9M1jT6I0J11QyvwMHZu7ZbrV58ioC8EiRbuUPDTCHhU123UgQCf4cuzdqzKXOZwUQEE\n",
       "+JEFbGcri187qRf043wksN+qOXRFLIV2JqC7aXTJEhQAtDB6BowMKWj45jnrObwq7wQ/2IZdW9q5\n",
       "pwe8X3d6NhF894yOMrTE+I7hCo5YMPSXLnbxNJgjZ3bBz7WlAorCSsGyOB1UvzUsa9j1wfqhDGNz\n",
       "ozaq3Q7gMSran8JqIJDQO1WMknO8ETXTHRYChIf/UZ6Ic/+qyRyfhM6D61qa8AsEL0LHdgCfI6S3\n",
       "zouJJIoxq9pCmURbdeCXfzwQHPrzrBDCQJ01KSoRRn4dP6QJTZlFmLE/QhmBtt2h9MUwTfTAMhQV\n",
       "cO+R4W9KNJJ3FXQ6J26YOUFfXzpFO7vytO1B3pKJlmp6QBgWILl77+5eIniPXGrLTF6V4EbUy4GW\n",
       "7Z+LkJMbZQUsAl9vyArWXg84cvSLzJ5kbi8k18cRSSM85rSG2EIeJViz95TdauI+466di3KhRlaf\n",
       "gcU0/1zSWIfy7ryo+xp3YD57KcDsbhMXHc9y6+kUiLaUwFGgbq5BJvCq9FCWpqIBlTR+R6HRPO2i\n",
       "8vu6aguuo6juA1KTY9KWCMrkN/pDE8h5eZMh9uurKiShKw/EVaTCsn3tma1Ocwdcolhi8/Cz6mUv\n",
       "Tn8yf3+kXvslE4fmf3ogLDQz0ezk5Exnc896qwR6jC6siCJJh2b32ckJfXkx2pW3UJfRd9nG+8Gy\n",
       "HfIMWyo3bzPL4Aw9o1n66SjLCfXlVy6XX1WLY86dPljwgmuZFLVRlo9WkCWZBtL3YOGw7Zjib0Y0\n",
       "o8GznMn35tKvUY2PNdoPyAtnFqd8xOVvgzu4lxE6XFg/BOu6jY85vh9LrYuJ/LdaJuh71STFNCUg\n",
       "ILLVcZ283h2BfgKfkFeMEC9cKYUX9R9hdevVh1egSselHDOOQQekgmc4Lt/S2u1Ohky2SwXi1+lj\n",
       "f639R78AYAW/ux0PiHHO+PpkaRmTkEO0db3ELQUYAvzMAIVOrOW+fiQhEKEb0O+O1vJCybuDSDHj\n",
       "X27eR6z9qIy9OfYGx+qt67GVGjMVvVROazfr5pEsz/Z5FdyBQaV1z5gQOynUBSlKPEpSq9uPgHSy\n",
       "yG5yGflLJlErl+H+JJEBqr1jxy4lJBEDt4GX7DpxXbQv9xn/C/49xQMFvjJ6lsaMIas5q3qS1dxv\n",
       "NaMEHzSXarVr6pwwUhScJcSm3ePkC7NAmdRJIdkUQPbFNSWRSmhVB0eZ1EiO430dyzDmY5eif+2B\n",
       "uH/hTDfqHgSAiDcQIuamiERKR8hl1FAj/5nodSxuNgOba3lznNrh1NDflbF23NSmNyNHB5gCDZ2b\n",
       "XZ1hJofteh27rXjKdy9uIB7oVfp4fDzUQKeNvqg1Cwx+ToS9R3XL5r6ew7BCPM6muba8izF9GXe6\n",
       "q4yrOd06LiGqAg8Up24Bv3b/zkSksZIO6EmZ7b1WkXzjTu9IxjPaU8hjuVapGJjEr+I6gal1QeNW\n",
       "JXSfuyoZ/883Mbwn1Hhg2/gFh38MTJknk0S3ygRGZVzVX9GtFdU9hYDMq3SzfZrpPlo4VmBshbjP\n",
       "EYc5072Sgr3ii3bETYHblhK8bTM428s1r9maMPz0lwVAk73IJoqo30j24nsY7kD5Y/BxmnAbLkMN\n",
       "Kvwlf9FZJODPN59+L0FyCZYdkCXekuq+fzjOEsOIj45LvpNr59OIczbL6xfr/6ASE15/0pWOzn5M\n",
       "hGSvPQdQcl5+fEcYrKgGEmihc4qAEtxJtgW4/gVTv45bJnhP6rpuogLv+JkBpUtz4JvLxjJYSVUc\n",
       "k/Bxw5a4xaKV2dQ3ZlZa7psP1jnuA23hTLldMuoPFcJvQZ8qm6bGoOE9HdqiS6C2KdUsMV6i4r5K\n",
       "0yKm/ZtJfqpI6GnLl2wA0L4WIGgjitAB4vcsCoKHvSOTLgaxo+Rfcpx8/b01BnIHsxBG1gtXV/kb\n",
       "uK4pziScF9oSmi2gksN8+tx/BFaIenCBqbYGtMqW2NGFFdIuxhAcPEtYaU2ezqqDb9HqZaDZIgOm\n",
       "fNvPs7zco6LAhbOzCaNgw3JGK3QfRj3DwRK5wBj3bg13GiZ2kJuq+obfHWmqQp6Q6ajGBDr5X5d6\n",
       "avG9YT//h0P//cWmHy3fwbKrm/phjrb3wHKzvhYKhlwvbivi17ZRgNd9Tz49GGw+tBzz/nSiIaQQ\n",
       "ufoDd+ssmS4tkw7NL8xkTL703c2xTEK90DYENrOa+132ttnK1gPuOCuI+5ebbqhIHRNwx/4dasYr\n",
       "xT7c4Dcjb0rT5BIiCc9ThSEtw2wAog5qLBq/85f6hnpNMV4VnwmWjxK7E/vsNQvNlWigiwC2Rs0R\n",
       "Mz9110MdA7LwY7EgbLFCQ1mhrCbbppP8Cn1oV5XR70XaVcOLNiqg0B0JNupzn4uTV/857R46KR2P\n",
       "SR/2JJND78RQ3DTytVDFpS/irWwSMbgekxhVRCqqJvHFspHujeodxEyfgXYN9ZTFWizKUylm5Zky\n",
       "2x36IJyfoNIMjLS+12Sihq0RsPBsZvXs4ODYx5noE8NKCWDiGS//E02jHM3zodbO6WMFWzjhOLa8\n",
       "c68eX29uEQabwMh/u9vRInawoJ5p8RUrbiTbg+izMNKRKdSh2qfjC4ry/m+vzJkWpzMVvxwBw54w\n",
       "AC/qRyugnflbf9WAxKDCzMtqQAwYS0YPQ5Lt9FpMuqKDuOsbDZ1H7YOU0pibA0mHobaFrjfJ9k+e\n",
       "6g3CccpsyafUUHIb7nIBjo/v4e1jCY4iZxU0xiFxDEzV1pLrXRcxOGMAkpf1m/AixC9zW3MQnlYF\n",
       "0cqbxnifcDXl2p8a40IrBKkKUGa5z/lJ2NVGQHJj2NGyOPTyMeVgtz3/QQdA4F1Nn7dO0OYACh+i\n",
       "2jwoSuy9ead41IxsnyJJQoLZmrXqLy8rp0bmmY5vlzO3AOoGHCEZ0qe6gLeGJ1yyU4qzGTcqBpHn\n",
       "zlrtpk6fQwp0FGnuOCdXcOv6cfCX9uF4LD0ahJDw1mHFDqPKDQX+ri35ghXHB022ma1BFOpW9wsD\n",
       "baps7SVR9HHlvbX/gfjwwISj+cOWDFmR4E/aZTgK1ZWnoaWzJi4oBe2O04bm3ceehTcNPiMYJPRc\n",
       "rvJyVjKGE6K8alG+6zjJucqXJK8fgUeDOVNRQD78CRXiHfuVGktwbwU7XtJ/5OUgQwC6D5xX2W19\n",
       "35+b4IPRnfnwPPIYK2DcpNpcO8jmLmoHn/+3sE0D8802yrJ3zL5NArIDFIUvqQbNgsa+GNQRlVCR\n",
       "fQYfhUZ9EXjz8+dTyoCTT7/Cd0G4Yyhc8tWY72FR35svvCMDtBdMSiwGcZMNfdz9aLtf56K4LT58\n",
       "jX2VZWoysRyMsQ5nVQwCpGRi3LaDnfSuEhN7XE+QSgYPEUMPoV8bsHZ0WifCwUJHiHz3GwzzXWal\n",
       "diVNZbCBtpLHSF9ss/fW08xY4dK/vF9Slfkq6Ee81e7X/ZrCm5rIs7lDKcQJeDSZDaS0gcVbMawx\n",
       "KryGzGvN7LCmZ1aD3Cd4o5wptiJXHdYeWkR68xI1u9fMPa2EadOwN60OGJjL0Goea6jI2ebWB+i1\n",
       "H775coA6tsiPpyp5fekWGkkLRku0ydg/qLzxdbCNX68WJTLy5y3mJcK/dGheQ5S/Z0wXC8jpmFvy\n",
       "RR7kHtHNZtTpg+Xkf3cAAAFPQZ4+RRUsO/8AF3MU3K9jbpoDhduLB91omS3IyiMVg+4rEI43qXWB\n",
       "nqpad1VSFD+NTJ+ZqE8BiRfSFvdvLdeR61pRH7FflwpbOPtJ1QUczt1/kdkm9wziCg2TvTtbH9u6\n",
       "ad3d/GAD+U/1SejamJDctZdGKtCzqd8Pd5IEF5uOtkuaMf1da/OBAsheWwNA3wJeqeM8J7FDCuSi\n",
       "Us7/9JeeW2D2RXYQlj0sA2XQz2Ba+1nvMdlsf75F5TdZ+jReJFJW2A6Jz997JDQxxLyi+9djuovK\n",
       "vESuwTf6NvxVGdGWXK+azXZhu0v2DkAzEmC3c5rF3K7HPCuhFgt5TUQfG/n+T57St5vzZJpaLYgF\n",
       "+hMWus3RQLFNGB1vLgDeGlIDMqC0yhAn88/MrP2NrCCrN7479oHEHuXFmRt5kJ12Qdy4HUQH1Ko2\n",
       "7ipZvyU9LzHMIOAAAAFeAZ5ddEN/ACCvrNVWK88WAAQuG7xMgZ8QhB3ny7x55WUiwdsmJS+s6wPX\n",
       "UVAM5mTBFmADjZ+eGbu+zFP7vImW36OeynEuIvw1p1YRYBmwi34CHrefhjWJBZk1PjuqmJrlkuhP\n",
       "94W6kU4re0nrQbV5iRfAtBSiT0kpS22Y73/7Sxaw8Sr4eQNNe3gimxa2/CU5WAxgvAiuFiW/AtPT\n",
       "b1ev7lp+JmV9/eKvEbvdk4uvTn8zhvxcKjOIt0mRx0DbKJAlMUtbgPSYJU6IT5lFS6yVJ3/4kCBt\n",
       "CM2hakL1G6qKvQYTNqv80KHA3GyoMzSSTQG/PD26B8GLyS+P46r19/Murkm2e2f8nVmzJcToSe+v\n",
       "WF+2Di1v/fA/wOwCWsvhBHVrYsAngiW3vHnz97VcSOWO2hYLaiPiGIzqpizjhI3tcCdTVwXEX4Lq\n",
       "o3vw1G3el82LNrJ1n1wajVIMmdrUQqYAAAEbAZ5fakN/AAPMUIDnPUzzP9UHY71ER6xQAEpoFfX6\n",
       "yHR++yPd/fDOuKckSeOYFicRFwa9yrl6djd9rW8ms2AZUBVv60ylqgO0mGzWJciSfgVxeNVH3c78\n",
       "ydTXta8Jj3U9MwTdhYvFwQqS1DP3fbSXweDQe2CrSMkGWv9NTOt3ANuRANeBF5feyS759GgnVroh\n",
       "nlTk8TG+Fyj7ukLwKKGCgqU/0utye+qPqPtgxD/4+wCAUtEXsxDCQGyB4kNftAzS1ITXK883GaK2\n",
       "mjDRQboVigL/G1ecobzD3o1gRz7v3ddZC7Gt91oMfZCnGQb8ZMY7AMFX1PSex0Fncan0NENfIDzR\n",
       "TdGM+gxr8ZE5nJOThZ7zr7MCvTO7mjUVMQAAFP5BmkRJqEFsmUwIb//+p4QAJKoPb1UqG+hXobLM\n",
       "UeADje8zmEiqGmGeubzQydWjuaMWK59s1mFnM5aQ1jgeYmHQ1WpD18DbN4YGfIfSWcPNklWApvNN\n",
       "hKpPA+WQ9gZafVYYIphvAJv+7kky+6gQ0AumFOUhxWg/RkSbxRv/sQE8hJIwIhY79UyR1sMxgJ5Y\n",
       "KvHa6kLvZqEs/B+NKf221Sz/wWxcGgZaBX5Egix80CBaiSxq4321ELS+9WN6mofzzs8MfxNgvtrH\n",
       "rVHLMidBCiutGomatNtl+KzxcG8gtVomEr/hmSI4tfJ2WFG0tRT2YIP9h+c+jVelllppzDzfq+ov\n",
       "jGtcKhVcV0/O6/DV8hQ63mku4+0ucicOrui7POHNlc4wbL9GU4S+AxBc3D7CDLcgBYlwFFCKuvDw\n",
       "axlo5OLHxU2qewlxxbpQBJsU0qaIrIPa/Tmha9ehK10DltSHj/kFAPGRn8pKPkODOCZZoAZJnR8W\n",
       "GKCJgFTWrpOEH2k/CnaU4uwZ+tB3PK3Svv1rvS1RtD4yAVSUeFJ7mE+Ini68A2scTVtcZD0gdrAv\n",
       "a9wec/yaUCZucGFoKAcvvvKMtXIfN8q5RQkei1w74TvxHQtBS7wzjq9B+i0PYy/hfiByHUvdhFvV\n",
       "6OVbxJkBUNRdtJgaRRSY/znAhKtElGea0Xi+dIPJd5iKLacGxMfWZzEMtGDuivqcfjyolQDc6Opy\n",
       "AIkhR9I6PZ4BuZ5SJJfG0gvigna6exjdYeVxGikGNPToi12J8P/iy6AYhlPfMVSGvqXn40VbnSa1\n",
       "Xhh7dTY3arX5yh+mp5Gen7QWoyPZSWfBoL1ZMnTUGULPzYDifg7nMX9S3o99RvELAHvcXnhPk6Yx\n",
       "/WEW/FHXRuN/2ThINsZ0IiBYd98s+H9BfWf8O1y4waYUqCRB30nLljnWtagQob8hmLSeE3ForLmp\n",
       "4a5TfRDGglOltNeWKqZ+5wxPy1CgEjG3vVZEJjYjrpyhyxdy63k9kOP0Y7F6ld3THifbRFrN53F1\n",
       "ZN9hQz2MVWzI7gesOmH9Vqw5M+t80Rb4Vo/Vlwo64Wy819MxygJKtD027bJccteefE7Yd/+JwBBS\n",
       "RE15RCbbFiw5AFuIbKc7UHUaSQksg3PTqwMxH7fq4RHXhpj9oy8udRKcdBL0s1BjYP6bFBxCnrGc\n",
       "JSIBynOlbnddjkr9Ur9d5Coy3ZwiTjIRxkW97CLdb856JedJGdII/SPm46ttWNy/m1QWguSCRa9r\n",
       "kQV6a9foeGD5qFDU65n4D2CoSEPHkeF1IlwoB1NHzyMQUCMsQIS6w9BjEfssXUWLfG12xqaMFp9Z\n",
       "t1em/JJBW/k5vIcd6zitW0VgX8ds2kqwmGGghjztNl9kdf5JMgKHsogJdQuln+PIpxRfeM19QjZx\n",
       "JE2UJvA4NKYoLR/O+Evi0d6dmJHcKJN5V29OE7+QzX2ms3UjiwNO9pjuq3VXO1DkUgtbsbsFwJuU\n",
       "o22JlUz+UE6Scp4PRoh5srTlJ5nWFqrz4/VSAZT9kjo8sIqzTAwMmb94j+NK3jZGq5hzvGfukftc\n",
       "MSM6MhmVMls7JlbMFbrYfvKacaHESFGJGMnV7Z/fsiqwNuSMI21kS3CWhYBdw4DxZFL9nAEYrln3\n",
       "tMHwL6FjOqWrL26H7QuPVWj33ZvTot3+Dy/BPVwy92ApwgqrqR7Ru+dtegDsEIrWV3l3OvA9Z+JC\n",
       "Hiwowzz8XisIO2UuZdaAdhNZ7dTkHy/hLUMsItuuCTTL+SXkZVM94bMUaJbK9pj4AlM3cKmeEIJr\n",
       "9ZeCyGu/DhLKQOdo9aLB8wuLjWovMN10NSBNfxwvNhBQbRUisGVmlBbcvzV+cjde0AiItfTvNuzn\n",
       "3FcRzxWzqmZwMReydDCqbHdb6FqlgMOCeLkfl/VlOx+YsWGUmpizK7oPeMTPnfn0J1+HUUuxK/ze\n",
       "CmkZzhv5SDqmt9/o+gYIZSxCS5rEi+1tbtqkdxAkzay0EuMZRPljZ3cIfEqlouPiAbsXdnZtm7Ji\n",
       "URPDRcin13U04WnabrdgWAmPkX6zSuEChhwDpFvbOk0ce8aTmsb/IZ9LBwDHaTwI36cCy0ARWQcJ\n",
       "GOTYUBbzzMvV78PqDaQKPYLxqmwGCRgq1u4rg4yNyvRFsTQkZz92kXKlohn92SEYnhncv7Vc5cej\n",
       "Pr0vcQ39I+s4dioUefGuucTGppOe18iYTfC/zGX/a/D/Ffmeoa3//Yw/MzOt5CvCSI3b17lS2fDb\n",
       "YPOgvaciL8t0UMZ7EAMW6BYTKaDzeLN7gOMkwP3DSQwvhgpCFCjomW3/A8xzPrMxVfzCjpdLwPhu\n",
       "1RK5BOq0FkD+AHMo548+k8TiXCGKdUDS+eQjTDOOC7pPqkwQi1C7PRHZbrzMEKYxlkrxdWKe0uPR\n",
       "0Hpv1uPPElnRrHutZXs5skL/vUd0zYcwtERiVcCX27eajQK1HhVbBDVrmpgaSK2R4U1PDsO3xdc0\n",
       "WIQtgNg0KN3piy83SX0kOptyk6mOdhNWvbCksaZWfL44cLKHqQAWGyKYxNYzrNmF/QAx0bmOuMp9\n",
       "g/l8iNyiURDi6MzuuBwYlyX70IQ5auTAcBuLBQ+LkqDFcd5ilCXrQDjJElTdi2gW13BBXNCYdqCd\n",
       "a3FeoOzptLTVnnZgDlWEctxOGRsmVA3Py8kgxGtMe4C7L397prXSSCn+IghEvjNGxAgzKx3799sl\n",
       "JtKLbsL8465x8AQgkQTLzIxx7OvEO874zMDYR5lqUBTqoxbPqflrhHp3r04lrVpQOCCwrD4yWQDm\n",
       "7Z5O/5zvf/lDX1lPt+/QXkvtNBPHocPpxn12qNKXWawTnvOCSEilsJ7/f6rt/uJ2PzFs4wBhbJPX\n",
       "HpBjeE2+MPb/srZfyRZWyFmf4ceHd65XocoTQcS4xQ9kDOSnpmwvIM7WjC0ajnndRGCPbD5LOxLj\n",
       "d3F1uZxDuuoUabpim+BmYqmNlNpxN1UkdrtFmdoIu03d1PGg1SWcvcjHtU74gEgWBRuuxg2BmdQZ\n",
       "DrUwSLeHlaHPzJqaTaWv3fQQDNvzORFOEs3sN+JukEoRp66KTP8t/W2HCO4+iSbNTB6P8w32aGKU\n",
       "mwUIl73A52fmxp1JO6lBwWjwkk2OiagSNcRANumZgyBGPUWMhrKew6BYxudu/4qL6ZUQv2M4uzcN\n",
       "MGAaE8FM9H/JVlo+lrh18DGP6Ad8k3PITTn8QV39ZR494aWBTsFR4vyylPVASoPK9OsC0u/eV7eW\n",
       "bPfSMBYNimgjbXM1680K0iHTScODn+GYBbBOjpWKNRwAJ+PabVtydch3q4Iwj+6H5lLXuvpgJScq\n",
       "f8zWWHdr5gjhNPYmS+PpKJqVQ6r73i1qT9gsiwshPi00zy+fbngTXgBYS9cuZetY4QtJToJeGftQ\n",
       "9Ts5bLklGo+Bavpupy3GkqlChMQwEA3Y4YkZC4/nId3r88IelFy0B0MhHEUnGmFtGr6GnMKfBwZj\n",
       "gZROyWMBHRgz89Nh8Lry4nogd0v1exe0C5wDFh1JzE+YjgwYcNuYX6wzpnPDctFDE6bjUe27yCrj\n",
       "YKAqvSKmqG3CfKVepL5mR0s+DTLowZah+TSE+FVsvQ70I+2cCqn+TVLmUE/Nar7eO68To1X3ZzdU\n",
       "/dWM3IJ86IaVIFzDPk3kvy3OFCoTHbwGZ79kRhXVIMgeMdYs34lsx9EOzNNcA0vA5H8rsiaLUxf9\n",
       "N7tmcfZSy06gVyRQJUqpHLNSaVYVpVWoIJGkEJ/zd10l2keO7NV6B1bw6aOVQlR0tXNgAxh/cBwK\n",
       "WJ0tbmq2Y3BHQqr1Hz5tXnrTGLAOruDkpWpeFelykFok04/nXvEz4RFGV+wVrAvJVaYCvPmFbKgr\n",
       "8mdtabX3ModopHF7RShxcAk25rrM2tu3CzSEiEgJaNv6FSmi2IrwpvA2nJuagAOSUM3E939Xy6Zd\n",
       "gIPQjYCtClO+idbw1E/iwpKkqlRWKHOhHreyZdJ+TWWGc2DxBiubX7a/aZNg1ORPu1bvEEySVTib\n",
       "zKyEaVCZm9zyMbIImWnFRkhf76JdX8rUnl+l6P4J3zf8rar9outlorqkUWqnFP6JiMMHnU5w1ouj\n",
       "r/TTot2Dw1Z2VZ+zuXwTL5aerNxvDL0r9Z0SBt+HBvKNbHLd2k3/NcMS2aljxAQKD42vRr5tajMR\n",
       "lj4NLy/orWXeP+bn2SKEXhr67kOaj+wyU3kS1YUUJGHKv6jePXeV0lPvj4cfCJp3Rl+OFASwZwLQ\n",
       "hBzFu/kps16Zmdmr4uB2wnvVxF+L3JGyTDqFc373aNuVgYP/dagqEbonTRxVCXo8Ijq0ihwjw/sp\n",
       "W5UgNmJmmAdAOVdfd1gsIeRwgDNQJS4CHyP3EATFLwoWqOCW6j4eImXywYy5pj4mtUyzkbh/1wi7\n",
       "/t38YHwI5Y1mabqjDTjZakJWMbh3j5bLtbGTxhfg+F0rYmWcpaKn4R4yknBqK78EhyIIpPPdW+kQ\n",
       "QS1TMiWaq6YYxbVwK44EZlO2nUrfYT9X0VUz0d8Y9vf2eMlGHu/MJurlHiBwvoDOmxpxP+I34evC\n",
       "ToY+p66rQNG5fiJP9DzYOqKkBHVJkwiaA/Tlxrt9F5zFvX5qlv0yYThyg82Ni2ucUpeV2yodVJK3\n",
       "/FsGR6VJDoxv/frylfFvzM8lfyJSFxjuk2MSz+zTsXwfjPGl2j9eC6rqlPiHvTQI/j+/W/wAPNz9\n",
       "QIXhlkpBg9SzQySQO+kBHl/sAFMVlpKfZsN1T3VxHe97X+vfym78E41GbaQQfyB7a/pdGjXOgYdn\n",
       "tzIvh/edMNB+BTPTIkJWTPgVi4rQcVQehPbwmuoctFytkOu6kCdoKNYNYOjccyQkmCfgyMjcaNaw\n",
       "Oo9lITudu/XdXkjJphSPUav41fFqB604FzWTck3VPls0oifWZ3roEq3ooXpD4Ekf97UWhPn/mZZk\n",
       "UPQbelZhksayHZNihjJKr549q/DmrbVcTDFVPEPn3xGuCiCPAEYvdBoEyDJZ/AERTOiINXF0O9pX\n",
       "E3a3RgJrFTxFYNzYd8cWRTH3TdConecT5DhHNUyhYvMsypBOTSQPqM4OyCEMo2lNvztglm+pdZDG\n",
       "Ssw/LBKNntWRkYILFqTNB7Xo9qrzNNjKYzwgWHff6pq7tIrUS9Pfth3e7AwBXnhQKDcpHfa/Ge+e\n",
       "dCTwaBGyX23C/96f+yTv139pUbrvZDDCFsE9dC9pu0km0PeyrjWNqfjHNEi37akwy18CDPAAYTUa\n",
       "MpSiwvxYi0NOANg+d3MZc+5s2d4xaitSwJMmi3dYWcMUS4HojIuY6pFzbJrU65NQRhgl4edxRAMT\n",
       "ZaEPfouaDZJJHouFxncV5yc4YHu/pKbIL3aHFxUlvobuUQEFpk4nNid4nj1JjGKHHa+YB/f2uaGv\n",
       "0pvOH4Au2/n/3l6xfh+UJsAgyG5hdzZ9+9AdBFGjJHK19YUpdhd1Q58PrquKtC93UHgKB5QMuZHM\n",
       "PaGnChG+UwiNw8CkGpjTxUQ+t0FxSC3LSa5VYHYEpZoTm268elmg5dsq+8MBF2jw/qEZQP3JuHbh\n",
       "K5SfLWN3ahT66DPxU3CCVhabBfA8+TQFYyuVHmftDLHyMPOL2TMdcavKoyWJrrmuhZRe6eRsP32a\n",
       "XSi9DL8vEwFshCgOO+pWMsKQdaNAyoPkUoklq6qjN04YIdCr2RfZH5LxIZddZYWhwQQ3gixvbtwl\n",
       "s0UuwL+GpWVe/0fBo3CfN/EBQ6mDJENClVDM0cwwrPhTF07Hmze53+VUH27SlpoqY8PAkiqz7rxb\n",
       "QcaviauR13ReAoXKGCtjEj5JJOIS6S/uYNXWZSNUoTybXVxkNKKRk8LMHd4MoH43fdmkn/t5GFwi\n",
       "LmtxzpgFS0ApnXaJq+dxF5EZdkJ9ZDuSTCQ78vYTn9USfxyJtrfbWR17cpNzCJj6G8Fo9Da9KRt2\n",
       "OMC4yV///38qwU4WajRJo5ot6qKXQo3NBmzJ1bN56wA813bblhrL67EC0dLEJ6habz0cz5kSSLtN\n",
       "zJvSk1o46huwB4muZHRNv1ipluCyJbr21eCLqKE3icNfVLiK/ISdxbk/hVZXIqUseXVxS8cb2JcZ\n",
       "6zbqo6zK3xDSMc8HwB+fnKBHKtEMgbRne7ZEeaCY7ZXoHCiIBMns5TitLY+bXaoVVb4AdcPT3MmL\n",
       "Jqh+JZdJGa1vVk3CuPE7rV6SWGCcaiJCb3lUvvgkiak2xWWUM0GfGIgsFvrEkQDdzK+aFepkmN2O\n",
       "Z6H66J+MXsNYT5LSEiFlLB9fjRjsoqeOsNUlXTC5Q0omust57/1HbOtEuoslG5gfu1iJ7fWFRaSD\n",
       "c+Db8v+t3NXQCKqWv5fohaqOMvluSBZ2vEPpc+LCxo2OT4rST/sboG8ZPwgGzLkp/3GVp9Y8V90N\n",
       "6R1fe4R1AvOTUJohTzZpQSlQVBq+Cru3LG3U5YPl+HpngbFjJ1zxbR9iOeb4mVzdJZJg99/mZVSY\n",
       "N5xEYlkW7lvpbTsCcTXpFvV38ojirBlwB3VDTaG54j1g3f2StF/mKVeF3vQPV6Fl+2dSPyQ08ADq\n",
       "HjAc4/t1tHwFFxOhwQZN38E99+Uf70hyVOQSuaTGtMtanN6XpsV8Hxj4qqrPSAaZiA1CeaAmLBbS\n",
       "2TNbi27EQQ4NLBDQ8Pfxap0jT107RTnID/oUPrIyS+smnT/jUyVLALch9PZS3QnIvcTdM9p5ANRJ\n",
       "hW5R/A59z3bskCNZTp/myCueKpei5YZ4+nKAYA5ea9RZCZp+XV7JAxhMFV4d5tdjP5dUAEkJ+Jf6\n",
       "4vmrzDHC4XCPWKvZyePHJoN1rIHoY7WV+IywY31Fkyr/93p4QjZRHLgAe//WAtfzLFIlFrDwoCsl\n",
       "JvJ+UCfKYGy5Nbzg24UmCLc5b9s/EfYbvVNrwWYURqfohMSKHAGpW1+Wp6Cyf3eqV7nAmx1v/F2Y\n",
       "1JrTs99+5cjC1h5TuL2xLVOB+6rVWZmx5gwNJ/Mv6H/UAeDCVAcvaT/0fDQx0O8T17e9AHblmPGs\n",
       "abS/RCKFiOrMpzI40X1FroICYAo/WEXY9NsNgel7jNoHODwj2cB8J6P85YSQXeMB7BYNlQNZeeXq\n",
       "J4otnXEHDJdd5w0dlQBZQElJVoGdCMpV9fjc2cJ05ioHKA97EoVS9MGETrvojXalhzSno2vjHp+Z\n",
       "Wr+2XBNe0EV/dTsdohtqpJBrEYcZli16zKv6UXxVwuZoOSkbVj29fkBqdSdAAAABJEGeYkUVLDv/\n",
       "AAypIAahg0/z3mlAfUKKBZYrbIMQ3TpDUUOrcDkL4LixAQEgqQJNN3ePR92OAoACh/8pKKB2tAua\n",
       "nqRFZEqtk58B6z4bKq4HO5yEtxwnG4MNjNpo59MdLAYrnEwtH1XBZP+PjACXroU88hLFEExSZfZa\n",
       "MfzmwihyhzhCcKfdB89I/VE29c4DBHC0FTFXCOuyyOf/oLV/mHc2GRsNd11zJ3qWBqen51r1eg4G\n",
       "PIyZhL9A/1DJBYDfFBNmgsiZy7FLDe4tcdnpE0hSpcoQV6aHWUzK0zUiMjttSJmMAo1ATxjhFXhD\n",
       "v02MEuyD44QhX+Odfq7q5nhyv6GwtWmEkmxl8j7dPx6FFCT2vfrV3zmP1gSFyl0sqdu1AMTUmYEA\n",
       "AAEvAZ6BdEN/AAPLptKqxy7AAg9AKcAXaCgZAWkt2hLQg7aVxzSGHlQkbgQtxbmXf//itjpayNdl\n",
       "qe8JACjO2SQbvQN9gZCYM5mvppNIBEQS9CUmOM1A6uFxXa5ymTudzortiv3u6EJE91pFDduJuXM9\n",
       "jGiuTBD0dauaSkbL/2aSSwlo8w8ct9f2wedt6RNeES461/uQE8aHlaFDzgRoiKv/YWiO4AD2Qqea\n",
       "T7bSwAMN3E/ec7ZghMr2FmHpyOhG8u1P7MkqSPtyjbGJROftY9cpBCLrkYUDhynlK9HBzHVlgVey\n",
       "O43QtjMUb39yf+/YedQAUzpDXcrwvgltNX+H/18r2q7oEygSwAelIELioy29jCqrcKhaDrGscLwz\n",
       "OtGFtZL/0DgOzlW1UhyQTKDomRqQAAACiQGeg2pDfwAAtb0I8J59oCUSPcxXnFC5SUkVuGtHigh/\n",
       "IlJLSfd4AW6euNAogyGjxwrcIVlM+2speXMdzy/XD14TE/AQZHUANPZLL8zrPMxVdKiwr0jHFaGN\n",
       "Nx7VCdvUlHVUsLsUK+osm7/Uj9Czr/UR13blz51sZoWx7b2MR6WtozF/ODQyIFua0/DOwGLUegwe\n",
       "6mw7CXmKnWzLCOleNu9Mzo6ndQhdL3e/D7fKDgUCOV6IzB0OIlCGV/FBEkJZMz6CKI1Z60phXgHO\n",
       "tqShYPCTd92lwQLXNaqDikqyW7Oah0pbcR5fL0GcZWD5bVTEcWXKbe4RJfxxfwFQQ4vQgRuSXr23\n",
       "p2851AFeo96YuyUClk86Mux2K09ZRYX7IHAV/8k2ANmeWDKVkhOTcpj2FvsQNewITDJlP0NrS9Fb\n",
       "2Z6R6YeEKzsrkIYXhhCKMauwg8aqMES8SZI5MwshM4Iji2h/S3s/c5I3H/wvubQx1K879QPV6V6z\n",
       "3P/zNwP1smzUNis5SaVPZA3fjF1d6fuyV1ExK3FKXsJWSiMn87HT+SFObNQqaND+9QMV37RB/lFJ\n",
       "PwcDTYwjWxU2piSv+Rcz9jINZvsHH1k7bLrbFZLAG6GgR7pLZVOm6XcUxLVI1piiA7S16IjMRmQI\n",
       "a7SRxdOG/3IUXzuJNfFNFINdgXyyqRKgfyIUGdTIRKuzykgKBPw7dwR1bPYfUDY/Tca+535BW7YD\n",
       "oMBRp1FVfqUaQUrvOsth8qvagFaZ1SreCLaBxll5uuKokbzLbHpGAHR9X52LoAIrx9ebg9gJkzG+\n",
       "PgFeE+Cw3djD7abJqy4jiQ+kZqC9wpX6TI8rd06Dte+jUEO8Ef1pdD/weVyPZF0AABBrQZqISahB\n",
       "bJlMCCP//rUqgAPVd0//PCFCAAySA03fShhp7vCdeZk5+zzixuaBaO/jLo0rLf/DpaE/Pe52vjNf\n",
       "iRQN6PF8GYjglg1BHYLjTgcTQx9dXipV8Hmud2nweZZpdkHAlql9cZJQlbLDs0uDV+sC3zMuOmkY\n",
       "S3Ajn0mAjob65pDzkmM62kMgzNuOb4uDDDEZcIx0k1AJ/++QIX7EEoxp2BMTblEoiPL3XeTfHcg6\n",
       "xsOYm6n4FESnE13Kh6eGzb0xh39QhqU1aiN5xfeWwwRly1XNvaQLfNcJ/yn7IosK21RgVQyKdEO3\n",
       "29o4qNzm7bARZR1AHx0mb6zw6tnYj6ZDqWKBu+rcY8hVTrkjOfB/39anoIcLFoNz0W1bECb2VgFc\n",
       "fSx+b8mMU+4pJVbpTIzOjS5QN5kt+PjASZH4G5C+gaChzso4t2MAcBefzE6MdWFui1Pq/9WVx52r\n",
       "S+6zwj1gGTuy3i9jFgsNVIA6kcx7Kwad26UXFOTz361rH+6nom/uClWcbfx99Wbao//iBCAUjXhL\n",
       "rwaN40aVl75e3G/LLQYqHDGTjF5fKAu95k/2Ji86q8uTYfVWELjCsB5jKnhc+svLR7ENIL2iFe6N\n",
       "dJxzFuK2BdSjQW/+5SYgcZEyXIsVMmrqxsF1COCEOeztvQF5m3vCglpOOU7gw3nA7IEP97HstHqE\n",
       "74ei0/+HDxQC7/WoFHL94VeowMXV6yecCSwvz/sAYtwJReztEHBbsXN+fWujFKg00myBjPKsyMxo\n",
       "6taByz5MF/Mt6Ki8r6o2M45hj4NS8KbmaUH4PrWrV9BnUOww9jKCCzPNlQfph940Pybnbwb2rNS7\n",
       "p3QjUfGZOw4FEQ2k2KKg4Yy5UrTmH9XEDGiZXZrC+v15yz2i4pREOTTZsATEElMTzdbQez35Yz/H\n",
       "owiVIvl7x0DLabscHMkdyJQPEbkht85A2TowirbSYVZrzGoqrFYCYh7U1/Vs/c7uVRfK1r0YKA46\n",
       "MKHV3G7r7ohc5xac5vgjN1PMMwq3JFLgFMQ1kQg94Gzvc/cuLp3VgeBy32ZX+0odUJcousi3aLR9\n",
       "k4pS4mrqXVCds5xThgxcrKuKIwsPt3+ATl+zc8RSLisJA3z4lzW9kGilFmODI5stqorpg+WbXZEI\n",
       "vIwgV8A38XqZ4jM3sU5UEllNu+gT6yBzbsMp3mrg8mVys8VGTEAPC7MQdiSmyLHypp5y0rWhWlba\n",
       "27JVo5ED4qNMVYrqZez5St2YyB2PC11QBloImZaH60XXx+Hol75zI8G+uV432eBtZ2Z+dLLCetGg\n",
       "Z7XtYnFd4efXjSaYO59IqG0pCVqsGAyPAx68FnLyFVvcqhBroFifC8p1shxRKHt1b8efLBq8GQA4\n",
       "IZ9XIyi2khPmL3Klvj2uX2Q5sNMnyRBOWFQu3zw/EgoyB9EUZedpYYxWtfn/SsDh9AlaXCD4oMjC\n",
       "u4SmK0eVeYjL/80JP3j+Fb6nSzfruT2aYyp2nVvQyjZQsGqGxWaiqfnmYPVkxyte4c9+tMZO8wdh\n",
       "CT33KeMfc1xorr3GDpgx4BEF0wAdx9ihYvAG+qQFJQ7EFQTsq0qozJXorxmo0tQolbyW++MMOQ52\n",
       "ofUl4sCZl6370X1Rmf/IKaQ+9Xwg96E300TrYxV4CunqPa/usN2j+3+o4vWYBYE+khidthkgZVjB\n",
       "Jea2DKjuRYu4N027Osr3J8cXGIinkAhq6NFO3hRM6TD+uwjJGV3NlhLGKnZjpdSEj1jhrPFwwv+4\n",
       "Ft6LICkmh5PLQQV7Ew/pfl/PQP4LQ5WA/V0LKzn/AKtXDtAzKqM11oeGjJ6xh7Jktn222EqF0EEc\n",
       "1wtlpVtfJuKf5FYqT8fT6/cYIgr+MVnGyTAd8wgqR0YDyQVQsT5LPUsrV1243NZbfrON7TUEif2t\n",
       "TAGgH6zHQ3nFAJllXuA7ccrFvbkD+8Nuu1lsmYQCKYdFU8XEa45RE44K2VJY5ecya7yOXYn7EIYg\n",
       "/h4vxMsp1P2S0sp9RckFq83dHhANa4OOdJnIa86I+OIQ/5dZvKx/HTWvCbhTw0cLX0xBPVG8agzx\n",
       "8FmyJdLyE8LduVTsp1uqkR/kzl7cYcbIgFxwtkMkQKEYDfTk+XjtZU3HEgXhHrLtdOmLmyIR6eVD\n",
       "Ft9gR+jrin0HBlpIISrZWCJkPznbxBg/JOCJ80YuADin0Tfjq1IQVzGrUToGz4c61OQrHl/x5iP8\n",
       "t44NNZydzocK0t1Z3WGvlWv2YCbZA0/zcTlKxmjiC6pKKLHvJt54IvtZ4LMAPsEzlJD8KDYl+0mr\n",
       "4suwWBQELOyD7SAsxvt6vLXhmz7GQgru/pEntj086u2LwDYaNHND8mm5NzMxys6AhgreBKqOyND3\n",
       "BvfVLcx0p2b/uJrPJE3BIKxzQ8BC+ipie9f8rpfWwQnS9d0I1nXr+nwRFjWEtoPq1Q2qaOn+pC8u\n",
       "P2D7Os+aNV6D8ljK7mAZ5LEPxPBkNdkmUIA5Vehhn6lApw3EOjbmQZA/8TV4PqDuxI6mh30rZ6kQ\n",
       "eDPPo/jG0kdDSyvxwcgwT1pGb97O5+/viod0P9O5J7hG0ip7qZAcrXdqfYIPobPaAunFBicqq2i7\n",
       "IfwhiwpuYNI+MMn9rtIWqsP5WuL9BKE6EaGmQbcUCT65oxy6TVlsd0y8PXv+Q8amsduEgkkD+IqX\n",
       "dha76+v843aVewRMgTqmf1FiNR7ocFne4SR8wj71j4FgYw/XkobIPBZykIGn+hwAvBy6rfOVWazu\n",
       "vytqSPVHKZtVMgI7wkegblRJEl12X4OW54ZVRJTXi5TdSaikzv4ovDHSpwn43McW+TI8FfZK4MLK\n",
       "nazs1t1pC3twbpPs1KxElR73fbt9NyikSKpraJR9R7ciPZZ7nAJSbU/iEkT5IpaD8vhe91q0NXu2\n",
       "rS3DfMoy7/6JJ+a7Sc6BIh5Pp9H54bWPs3f58DUy+bZ1gQasNQoLmr+Mt38O4YLNaLrvm29Kmtbd\n",
       "EcsAGfcFLPQhsW3BNRwcQ0mUMGVAvUeMsxGBfs7AF8msdtVm9iqQy6ihQkrD1dFFAnp0AIkmCweC\n",
       "rB4pnE96q4MjYDXa99nG0q4DJfvjBvwatKcoFPpmiUU5e5SpiUumj1Klc2rplR9/5uk2y88YNnA1\n",
       "Kxw4sBE8m/kKjSwO3oBZvbx0QE0rmDqua5+Ym4YonVh/BlN4WQxXrfAofQF2NC7t7uqUylBATGQr\n",
       "9tFl5DfCJevxI8kGP6CIEKkiqj6QcJ/p0zMS51dRrWNp1phNUUO/bRhxCYiEicdFIlo4GD0bo8wv\n",
       "e6y+dIBVZiotYhEASAhIx24xO3BKPwOZ6k9Prw4WUW9S/nbZt45G7vfBNxwltrXHxe54oG02K5cY\n",
       "2KOiN4LyvqDn89+I0s2Z+d6QuKU5l29vH05o60JTBaWToyHZAZvcgrJdLCXEwaAFpjIzmOx5GuBR\n",
       "ywp/B4vAk3Cr3ux7RZO2znoVmiSgYoOcyTAhG5zetmWy9Y7nsv8SELHzg0Y7e7M2+PNEz0W7yiA8\n",
       "MlY/TzE5iIFpso1JDKHuR15hJ484Pjdj7qBzdt7x+UikGwIWCNG+3kz3xVDrlSrkoB/RhtFvASLh\n",
       "cvAWcSuMC/fPl17gOWwsyKP8E1D5G33vB2PU75zA3yaMfJTpVIog58jLum0dowRF767JbKsc/VLP\n",
       "+2gHnaKAmyLr9E2KV5aXxoV2/vinPZd9s0UsbSf71cF8VqIR8E/BkiVIv+cIVWwC0jbxEeEmLxbJ\n",
       "02FAmbO3+X58a+jwQWCLA3lRlThiYsooQlM7U6EOQbTJ8pgqb7IvdkUZLXmsl10761Mil9ueRZZI\n",
       "cq7/VCzyU+Jv4kduM2s/g8vk7WjkSLsOkp8PfMIOq/uH+lY12Fqk7YqH7zWbjhtW3zjnA6pPvfTU\n",
       "V97lzfUwcCatIMDlpUsyqNgiarxp46rYub+KwZusGHbJ7VHxqGeopY3JnOOV9uheQLhMWa7JmQyk\n",
       "OiAbEWXWTS4358fKCbWRQDYPPpYn/yLUMeg4AeUmlNTpZrpmVBT6qZXDuD/RlXuqE3YEcFlTfAbv\n",
       "oyOcptgKFsJvyYhZSh4NXxVELD2VVUv9Pm8siHdfYEjZpXnpvD67nQe8E5RMbpoTXXqEDRE/h/5G\n",
       "o08qqOF6TNuqBG9gMMIj6AkyFcrTgL+7vAjPQyvTe3r+gF+pxWVO5G4JXvqhbvxoRItZ3ltYrmAA\n",
       "HYM+uxyuRQvt9wzPkonXg8O2WBtg8ntxnoHP+5Kyjeo+sjklH+nlBM3DOpqi0f9uWto1ZLXeENWo\n",
       "r+OCPmhf6gysLaGWLdAcH+slEKPNQY8dTpq3GAIA2CvG9+ihdZO06HtZDy0c0s38gMqDg21BZ1ht\n",
       "k8Q6YVHzaFdnoyK+6t0vXexkFcd5vXoqN55v7X1gbtqOZATxbaoysBOX/dwZj+ou52FkYAwXr1oh\n",
       "T005nnMNlDCv1zaI3D3ZosYaJXCD5SONMkxVImvObllrsv2FI4Zq8VgD+zXuIVuU3BDwnb3tQ+25\n",
       "MlE6xAUfJVMung9l7ZRcZq1BoBc0qGxZr1u0ynfuRfXxTJCV63TgdvJ9/eRdPJ8i5Wytr6rlMA09\n",
       "66e1PpgfbOJ6FAI6fR7duLOKvMCImBxMANabHiypZJtHpIZmpxPR+/H2S9BAR8Mwdmdcwi4SRUn7\n",
       "TqValols9GzswBZE1ry8U2OTfUYlMlJsLKMwZifFvWtFslQKMo+KzlTPdWBMW57SCuPwAdlCGy2r\n",
       "ebnhmWQeaJcMVYE5S9xLCjFqLOAhLYG+WiLvRGj8YW5iffFZvgeC1m58x6czV8+0M1zSUXiYxaGi\n",
       "GTDdXQFq40jtLpBscs9T0zD2/aqvwm2lAV7TKMUJxCk3jrYMa5hERd4rnoIMUSdr18bNmLOneLnL\n",
       "3V6SDgmp7pZpq0tboBo1b7bHhlscOxZjChSzyo/lGuc5Ljq4wLIxQHuiw1cBFZKsI6tb/lStOFqX\n",
       "x1sHYMPxilisDXvTxkXk8PypaHrz39JPUJRcHRpgExa7a7Ja3XA2NzkduCIoTUyEEC1CJpOoAtb5\n",
       "87AV5iOdOKDI3eexRtoZqiGbB51BhuStUPikc23mRG1mnkNMey5OH1o4WcLK3SQMqKxvrGgegaVe\n",
       "ytSNFy8tcZUn5oec+TCsIekt9n9GXTqDPeTbGeWHbv/4tMf2sxeUVOBruNzEMn5lUMfVK0BaGMTl\n",
       "FXIK4QXFKN3klnRRCvp5HR0GoMNFF/2qabghmx0DfFTWwFat6pBMv/ir9klPAFSHIKfksUWolSmb\n",
       "LZFsAD0Szb/GW1xPDvqRH5QSrT2RM0SVnBN3d2NtJ0ifk74RN9jK6X615sY3/WiL7eNwPvrGNYdu\n",
       "yV9zlcVRK2yt9neP0e6w6aQNCPIUy9naXcU9CdxJPp71bS25NULl4bwtNMVulzh36jzmbRrby3QV\n",
       "Ca0+NTa+DGm5GQFEyyBvhYck+ImhY//uOuUTst5l7zA9OU0YX7CEYQ3i8ubEXjzZCA2VbBZ0ajHr\n",
       "dY2xcpv17gOs+GphQgq6Ugsu0N9FlG8IFoHGqWdXJURSb97kPZOlg41ujc/cqxPTlR7ntsnykseM\n",
       "dYCMI1MVYlCKJuJwUuS88jjJLPXab5fPJTntBW4y21SuxEZlAAABSEGepkUVLDv/AA7v93RBTEyv\n",
       "I+8sFkwLYzGJY0J3jELGvcXmAKa0sTyzUDWr18FGAAOAu0LJtC+wajwaJzKQO1mkB6BWxr9Qbf5A\n",
       "tlfCfwrYj0+VYstaUvBZGyv7W8eF+UkWoD8Rn83U92GcQ1NQWhGjvDoxhmNVFOMgpK6o35g2sOkx\n",
       "j0pgZrFcBmjM5jhKsR4nSUECK3d3xwLW0mxPrc/1LFMWWb5M3RDcIdlCIg3aA3aXb30dxK9WrVcV\n",
       "HTJYdjdFaL2JcTNAF/2FCQDC2JfppnY6zSpe6BQTdNCsFxV/wjr32RfL6FcDT8WdPOE6orlcQRbd\n",
       "MCKbYGYGY8zA3FrurPSPM+lUQoNQqTuwffaXqDX/CEkY3hZqyUV5CbQCgBCnblDoeOWBjeqqAZrA\n",
       "AFFHGs6gYuugFeSFmT0bdoVKykQCtaOJgD0AAAEXAZ7FdEN/AAC1ndGrxbZnaoGK8UCV7UAKcaQV\n",
       "7X/6Lwue0k0MWNU8+FDcORwn1vuMl+RuCNBPKcalk8pxMcJuvqx3KfSkS1lMziYgLPvzP6M92M3H\n",
       "TAtUd9dZIw6Uj0a1qojvdCR+3nPRM5g/Hs1m3a6s2tM0+JFlSnkvyFHWxW6OGc4/tq4U+vwnjXG3\n",
       "YM2jrMqe5jJ1IPPk8+Eh+HazurvEh56L1ayF123ixOUdF8kV7iGo4j2mMpiryo8tVtM+/OKPQsNE\n",
       "vyo7dIdbsfibDW6SNDdoW7xFxgToJ8fn5aR+A5hkc8aTQ7d6kNaGGPVHP3JwPiwBpTnu2EUUpEeZ\n",
       "jVGJx38PXvnRP1jHcgnllcIUdWeC68kfAAABLwGex2pDfwAxIwuAEKbJsDtT3ZQ0H1TAzB0elcLO\n",
       "snjgNBBa4Y1Er/4aCA6pp99qA5m2asqv3JL9cpze4JpieWvX/IU3Y6BmlMQG7YTOXn5YqIvmeTQm\n",
       "Yv+CJeQQsTwJAwP410HigM11QrLOH1IbhYvxKOpvLKfzehICkVqtKUKPU15CWp0NEk5+tQAt8k7x\n",
       "ovSPsUq8dhh3SAQREgDNd5/sHzL4wCQMCvvzktaDD3ppSqM+TADMQTc87wsqyojmdie1iinNcsYQ\n",
       "rwzdWvT7VpTCxEPg6Ah9SMG+pDBbdF1Zk5+clyjRRPBcRDPuuNmXEo8MZOjeMBYUeU42cVWPt1z/\n",
       "Uuio93YD6Bc4Co+OFeeVhAasVvn+3+cLRE9r2oH6YNaq1XoYLxBUcHDvqSuB8wAACwdBmstJqEFs\n",
       "mUwII//+tSqAA7pPt2Pf1cN/njpwAfTGImqaYCShYsqt/l+CWH/1ghs1ET1XfifWx152kZP6FCzM\n",
       "7fApoUr0c4mTsFgZQ2SGXfuZclY76ZnHB5wLdxpwxihHJIHFU9vTS+39eN7FkDeLOw0+IHyImJSy\n",
       "PMiEDhxCAsHxZjEaGxJqlsrdv2naR6dL7fTTuhwzp4JZpt6hh0L6yCF//ap0nzu8PEgTNwCPr9RC\n",
       "n7bcyfbYKgRwI9sWtgZr2ThrknpztSaGtI1q4Sk/2Grm9jxbH09AowZbtoYPHQT7qjNTdj8EKTmZ\n",
       "K16odgYtsMqhKsLVKGHxRwyOd4yhJRJZB7d/F9Bkm4lj1gKvtAlpVarMJq6dpw1j4fD/tElJRqN7\n",
       "72yUu4w0JXpODS0vuquGHi/KDSGnz4HGGOgx0uWDHLu6ti5dS0UJw6FwGdqb6SYuP5U83cVKaCim\n",
       "J4YDF/lmRKCTX2nOCxa/sY4KJw4/nR8QjPJAIZieToR7LLBeSRHwskhw13eyG80BsH9hE/bmFem6\n",
       "3IBcXJhm2yp3nmpgbiTtpf7+7TN1n/QzAkqzCr0KtDuOn2GkOoDJoL4AjFWwNOVfGqiSdPmDOvkr\n",
       "+IyE1QJSwGE9tPgCFnBnLOHVCJpPLXufOCn0+2sMrd+GAV9Ee429wKVZqh3r9X4JJTARxr6RWB9g\n",
       "kTrThmbjr9ig+32yl/i6Ij8hDszIa+kCLI5Vh2Ll+U9kjo33R4BbRNAi+Cfhwptrx/4A1Z2Xx3YC\n",
       "ZL1Hh0XvNWXX5OtbxNH3x/eIeYx/UaMzNb5gQSGCKQQExXjE8uYFqXHE9Iurs3/4kAhVJannbb9m\n",
       "1nDVyIFBUKwmlb2m7h38Bf4kbGz26vv4lIYpXcdUH5izAy53a9Yrci6m+LV8a6U+/Aui+/gWxNW7\n",
       "PJIVVDZ2ukROcAOf7Am1D5LeJa3eBMHnOAEBLb0eaFkSbpyb+CMGIMAB94/d+vikKCu6kCB1HY1I\n",
       "V9lKsilP9IRrBfgVNbqlCRzHVLZzg0ka+Gr0Ox2Bg8JonWbf4VrN5qedEfzIQW85wcKpjLBfYqZT\n",
       "a1erH0+letOlvU7XEK7hv0TJvfA/nWWtyrC9FtngSfgIv3AIYNNm0ZuYIHvyjxv/z+Gn8epeEanU\n",
       "hqs9Il37pXAGjD2E26gP1ArIB/WvvnI3YC390Kuq6Rrm2qud0t74kOFf+IUyw+LrGZi4yU4R4wSU\n",
       "cpYR2PEOiufAaCNJjaIVCN18V4gsOQvn/chfFcMaN+t9q/fZ73lj52fJr41yctc8rB/00LobQx4s\n",
       "hxD6PC3gZjm3poXMWSbgzdrW/6grWtHHgnK+8/Ac3KG7yDAbOKUTQp7IEYEtMJVTxtxmDsn0OopP\n",
       "sKZ/SWpTpw0M5xredG0WdslovcdB3jdAgTvmlnE3Uls2e7XodQtymYAP22rTGuYF+zq1mj50n+lE\n",
       "PCvBCo+MpZUCAKgQrGAAXlzucC3TsPqpdLu/z9kI0UfaVQ671qsm0nKkGAPk6YHRclS2kb2mQBeN\n",
       "DbSBxc9cr5gr3rVd8fhC7HiTnK3K+PK7rbwO64CxRckSybpjYumrpEWkOnpSpkJPXmdMBS5eFXSo\n",
       "BrjUnm4Mduvl2RpyW72tlIhRtErlxAQGIbwqHuVmEJaj4dscB3zMYjAqQr0Na0x9sf4DzYe6Drbu\n",
       "fYcLV8saYbnpDYrcxmMdD+utrdq2lYrmyC5QJWF1xeJEgtyH0GGxJ+l/TO7TYLf/wGWn5MzjruOK\n",
       "wS687rAxAagG3CKFD47g8XTr5NQXPUNFbUNuScR1QITTjbz5d7ANqI3DxeBzShaBBWOhk/kkKstY\n",
       "fiwM3zT2yxy+SRutUbGGkLqxw5D7stsb01kX+1EQmXdfd7ips2rHXmQTNQ2FKasGdxPmaEIfiFlP\n",
       "aZMQFJwOWa193jR6raKHdS8bNPETMTuNNFzm5NAitmVgbjPj7511cKd/0Mm71vEJh8LsfH9LflKp\n",
       "pHrE+Rb+TYkLkEpW00gfNBxyLGFAeDQn0jS0TQQyO8VA+d0Fn0klloYyy8bzLTN51rg4h/utxrMo\n",
       "t3cOkt5kuBz8xyMSW4zRQJQ5QaHK423JcWMfX9Xr/BWyMIwOnge/NqM9I9eswbcU4vOP6gvAX+s+\n",
       "gbRXIa7QyYVbKHv63SPmHhZCRVgbtO0kbuaWRjnIsse5LvEr/LHiTl9dsc0/yVe3k8BG72T7/mTt\n",
       "Tmz3B3SYOyjzbi1XnMc/gbL2/8RtYM9aYEM0cRauhobZzyJccVCFoGLmBz0Gc/mw26zYSXBxyCo8\n",
       "knYWb+FYy8fhA3V/op1+hMWDBYo51C7Eadq9RhOE8+vqYMl1mmRoouZ16YdRkCremTZcgsCQw3pX\n",
       "+kaO1kq6zNWFTSTenjAr/tU/XLnNCK+VPJq8hxYp5OIFbPaQS0DgNQ2BYLblG/AT60N6t6UxmVyk\n",
       "efF8ZPKFcsgLmHW60YSkBAhfLkZQ7LI+cKg1C55q/zl6hcV9sCOFb0mg4jhKknwoVQcLImp1o/s7\n",
       "WcpPzhLhyylZVHTzZunDi1dOBSkxYV+5f4xTHBsJx8tiOjsJNpuZLyDwVqvof+K1q6bzOnR388fb\n",
       "xRgCoOH8GsV3Pm51HDgFyqy5HnyjuAzCbMNQRURo/qH4GJ6xqa1o/elnHGkQrVyctnQKVnWxS2CD\n",
       "C/jnHP4QIRDxHG4nDCbCf1eYI/7iuvZqwV/pWKQzv7RNmip71pYpDZDkzdLVSVs2EJAAH7wWfblr\n",
       "ZH37MEf1CQTHM5qRuUOyNSX9gWj3w94YOt3uBzkoiOtZuFTtUM2d8ZXVTYZ042ebCrHrPx3tdELo\n",
       "nZLUte4aAC47xOYTGHbRU6ACyIVu2Eam6p8YT/IzpRN6c6qx9iFuMNxtL6H64v2a9H4mpIFk/MUI\n",
       "bxew9gvHYjpg1pBm68/wuTgS6Gz5DGhflbYBvmzPs0j12LFY1G52lCe5dQSL83+IlUXS64m5Vuly\n",
       "s5HLrYgU9GzMoI62Q0+GsIdekrXwWtSje78ATwK9p3XqpEW4YJL48U0vJiZES8qKZisUA94zKzNY\n",
       "ooZWwfPLJBWjPY3SmKqO9PicI35SbbGeKvf8QO/gn+k5rSPBg2FFdqBBVPNXU5dnCIzzagnXMOJN\n",
       "eU7wGQiUuXCkNK12PRQLpHJIyv3XB5C7jEVw2R1yDAev4DotGEvCaWUHECpGQIN/0QL9t9T6JGW2\n",
       "bqLj1njSGApWdGrJaLe+3OYBwOz2FfTicXhpzI7Oz4OAHp2TtciB9t5ssqSKKV/HLrq24QoCEI0X\n",
       "V8ZJKRQE2hfmq+DKIrf8/HE6n7le441kflY3YZKOKwhyA+dppawdKLOsmPvGcRm5vDVWEm4bC+Si\n",
       "PKkK/UUtYEowGZ7nvL3lWjld+CbzUUVJeVH9h5XywEZTgqiFCuzvc6O5Hp2t65G4tjVu+ZcD52wl\n",
       "GIbHqzXf1d9NDYbYbrNnXSAKNtGdm0rRlBI0XzgAtd/NsjdY/uR8kGiLkY3reZ0vyd9dqmPsJvia\n",
       "bgNH1CgiT0m5CPP6X8eZuJXIHEFxmds0Y+INZJc5mmI+VzsxCiVYK9SIjjxqegYic0fsZF30rLva\n",
       "6UPVjS3OiKyHfhAr3WnY8OJGNP9C5PnMq0G0C6SFbpyeS7v4fWG2dIISXUuYU383pUf/v2sFQ5HL\n",
       "bTDR9b+pF7J2e1b9FTPlNNEE1e4pasE2VLrGevp4c7UmJkmgCnuH8OUNVNc4uwYnkUh9yv7Gq4yf\n",
       "V3trT7pP9R7loyf1HzFwrknDM3YETcAAAAEyQZ7pRRUsN/8AFQT4BVeyoDMDvH2/jMdLdKzJE5xr\n",
       "tmVhAPAc2RedAjABtjWj6takGwS59bhz7tocKGZB8oVlPuB0TX6SgaJZMP8EJWkCl4UZ00JH7J3o\n",
       "DBV43ZxOlfdh0VRW4kpA+nCQXBgkXe5p4l3r24lmjDmeLZfn9JfPrSc/3l+yQN+3UPvNYhVOjXy7\n",
       "wIjPgepmP2CF7aN5BGq+ZRG+5Ez/dzj0LcIZ0lIiXJQNCHcmbYdGAJbdLFKR+hhvr37L7ZtP8+q+\n",
       "PHW/i9+KIyjgXPf4J0L42SmlVsXxliLaeAGNEVmpgQ37LPimsd6UTa6kVZ7K3u8R6AWkW/PRdIIM\n",
       "MkrDKEh+Z4kV22exoyjoNyB4U6HwF2eAaxW77rNXtLCcyYDt0B7wDjR0OdGcIAg5AAABLAGfCmpD\n",
       "fwAmyEwACCf7GM83Vdep2Do9K4WdZOTf8p4wlURzFv/9mdIS4kUJh+QTDHChdbuBByRBy08u/AAi\n",
       "IR3or7DnIVB9gLn7nIR/CeMEhPMV0KnF83Tx7rW2SvyyU42G+EceTwYp5V/A0OEQTE9MfrHN8v/3\n",
       "0X5m4YV33L1Rvbp88JBWJCoqqDkXFxpypbKZCO3psAS/fEfH3fBJfMYoBM/4bCJHlnlI/aK2ocyX\n",
       "TVrcfkNDzZ1d+CnO3RdX/hIOcHPEXxgRMovtB5V9SGON0iIuge13YbaJ3GoGyTyAtKgtIScvhQyY\n",
       "elTGKtLijl0x4Bz5uQgAa6Xxxh2YtcQQhDeYG4w6coWtONA0KxQddW95GMV0MOItqtkK3Hmcj4SJ\n",
       "l0+sd/i42sRf4AAAE/xBmw9JqEFsmUwII//+tSqAAJgWYIkbUAWgg3BNt5dLKAoFojuBN50cPDX/\n",
       "z0UgHkeRyASlmFChnd+/rDbJJKczwjzGE2OAxoIAsgjM5qknjf54R96dTrZgn+qByGJ+boAoh/yB\n",
       "6NT9RGBSkovyyS9lCprp/+T3jXsBr5OS+tBasse4MCl83gTWf1j8yPX/CD0kOhgQAfx/kdjTIKgP\n",
       "w7JHRdWX9jKn603D3g3gjhkj44kL8OnVzvQjgbphXuXcqAdhK/q8crrXqoVrw4HycTPYKGw1ox9M\n",
       "2HJMKWo6Q4Nd82pwCDMDBvA/CfLlVzRVP7+7D6dVcugqeSYZBAcsUZh2UZ4jvr5ZD7hV3WhyOAwH\n",
       "CDWbNZn9US1Ee+TFAo8niEUGyPK84wn5neiQktkg3eBk2cl0E6cVrjMBM/4rPKCAPuQCVk3CFBU6\n",
       "TOqKTcy+sgD0ohJrUS4CtUSI2Qh1aPMwjKhEGspufwnm2HcIa+KA6/IctAHSbwyOAH4CoTx/I1TX\n",
       "EBbKo8sDYjWVe0RpSenKryi4llReP9D/pc5LC5MR6SIABmbf1kytI8/FjKcYTuUQ6zKYd4DRUsvT\n",
       "VgNON5y/3y//VnxwPlNX/YpV06UqNo7KpqP6U3xHArlfCZdUGPvluMizpVPu26IbJK1MLFo4gEb2\n",
       "QE4MZHWDf10vlmy6peU81SwwWk5yrjds09tz3Zml8fkgwcdRxnnsilrXsEM2q78PbGlK39G5L18u\n",
       "3WQzIUWhKITMVnX4gbQtgH9LrhqyZNgBZZoPd5QDdwbVXaa8bvgslxN1ve7v8KQDe3AUNVOuMlHW\n",
       "WjrNmKf34RL1BUqS/tdmI+A6KKlNvi08E9+1c1j6nHTGTpC+7Ca5zaoZMvmRntRf4q+j1Z0NOTGn\n",
       "+0xYgErO8hQVtrMl1/GBuPdpi4SeJsQJ2npzQdCGhitGRAzcvjlMR96Ida9XxO0s8hDeMbBzigmZ\n",
       "9Cfiy9ZIiybvPnYv7JnRv8QftJ9DllBjYILjwclU4nm/Zu+12kEffn/H+yrDkS4nT1vR7G9Q2Yc9\n",
       "9mZeBGxwLV/RU12QgsldGpGWXEIvanTP8RpP8FVp6QspIIQyePgUt70HVoUZgL3HN6kLBU81NRRX\n",
       "Ey2redJXlbAca6cOSEiluWP8Nz2aD0kRrAH78GVj54c7kweB7+MYp9mUdjrlGWpdsyJC1c5AGCbA\n",
       "S498L95ZwyOl4PgHpex385yqrd8mFane0WXE95okBVJugZCp4AkjR2hVBxKSZ3URCnonzK66qm5o\n",
       "+kazEY+OQOO0J6WuHmCXkDsvQAr0/Nszxx5ESkY3C/f+p+EYF2bedijnvMRhLjDBPTNTIvrqMmMw\n",
       "CtZxmUt9g61kzjDOisnEbomDRGJJ+fyCXm+a97SvejapaFI+XawCYKmZulRhFu8+1yH/y6ysY2fY\n",
       "McCfVFrVRwGMgV+Rqdxdp0q2m1V6NYOSmHnOb8CrOzt5cBfGMJw4BYbQ04QGSiSMugr8p8P1GLjn\n",
       "vA+Hs5Q/qWi5dhn71Eu1xfrKWVuid7EOOwubp4p0YAwUw5lpJLuoOP+Dos/ijhGb2Iuod5NCxLC+\n",
       "mcJRDJtQMwiHZDp9ftTzrgqHjibunbc7AZscUzAGZAsBOY76CSWld2XYqg02WrTH7LlHEU3EQWvW\n",
       "G8WielCfQKFM9tXkYu0HoABzPkIqLWK3op0hpuqj/jVuMzaHUvj0FZg5nVeopr6oe583VCo8coMT\n",
       "Dp+1U1ITRkLeVtffrXxMhH87FPbxLS0x4UVSiO18tkPXBWnfveUz3zxxfAox4LdPjIcFkozJ7jgZ\n",
       "TD8K6xeAogsmXGRV+WER2uriWk0tUM5F2qsS6L+FHqpHIGig6ZpBUCnvd7wBzc8bWxUXS95DJha2\n",
       "LDbNUAUsmxeKVdm7tlB8CnBpWejnHchw1aChPy0fdPu1OOFViWOgS26xR56U6CSAlEe7oC013oyk\n",
       "CmAY0VLlKRq9psSWzqAPEOqgD+Gz3HLiEs/UTH2/lixlvUh/8C6ouyeLqpgvjQkFYN/qiv0B4KRz\n",
       "OVQTXx1avejPyRrIcV2ZYNP7SGMbasyVd0ktVbwVPSJzD3Xt2Tz97pjgtVBbru3dcHgxHKOlDAd/\n",
       "K+UWsl8yfjKaWWoiRJIIMO6aYZzqqMdM50/JqLpthMtJAjExjPbhOpkffVhFR0IbhJNfgmB9adz2\n",
       "Ky0DXY0WNTRJyydGSYoyGaRFiCUcfnAmk+7eUHXx8VUz0jvjYq/p+w55TZ4hJL0CZRxhc2IbRb6R\n",
       "B5jtrEJUpInLoj3jFkQHsMw0LIrJDl0PMNwATbYgj4oTgfSF2Uy5MGr/3T7mETgQc+JKVowhqfrt\n",
       "HSuk9/+dOoh/HKu/hMXypLwCvLc61J7KMKx6g3rNsXl3dLqm8JsSnkD2lki5sKoqzZNeJB3STATF\n",
       "oIshDPIu5uOGYzUvMsdkRIlLX/G7ngLx+m0O7UYVhB1KzmLs4/lJBGye8S8g/CBEL7YyaoSoBQEg\n",
       "wRyALCTITjtbXjo8Fjseg06mpSfrAdUKjoxGttHiMAX3lP8OB043bE8zPd+vJZSVMnG3biXdAV/9\n",
       "lG8+Wcs5FN22PCJTtehRnHChZpQNs1ysFlmbzeQoGO2yOAjnS5geDyqZ6xqbrfGN03pWSIj4pfeg\n",
       "FJfqwZhlsSdxVNB3BqZHS5Ox5lSFM8Nnd7FvJ7YwieUnYepTkN9pv9fvrYY2pzTyM3KCc0qT6seL\n",
       "RTX65loOYz5ngW88uzWDBU7zfLpv0I+l2tjduiMs4Wx28j4g76hq12SViQENvW+E9RdogpbbnTrt\n",
       "x2X4WAVh7dR1/QkkzCWYNYlvzFmI0dPtORDNclX1pPc7mEVGoMGBdRF7CvUZ2p7UnobDAVwr6lWz\n",
       "D09ctZZtSf065ZXoPmlq6ZRRiha6ZMIb/ViY2F2MCDsppaLkyOHMpBlSDO5sPzE7SPj5S9i9Zair\n",
       "IBiQYXIzxNwse0jqZyx5p/DZ8S8Mo5yzm4CXykDKIG1PCdqGQo+FqtXwWevOyyCamsraC6Y6sMUG\n",
       "kEg6SYYAV1DbKQrP7L3Kw2caisd9AIO2JuZxA8uFy261Bfm//20zFf9QC166XVStG23AwEHd3J8M\n",
       "S1nykeVC+0cPr3rVEsu/lNM/+2RevruAV+iw/dOMXEb0/EOtHirhA0/t6u+xLjT17TOiXJjjm/nO\n",
       "c9yFEfbnH8u6Wv8e2F+Y6PzSNXue+wS6PHfbZNS/RXnHzCFr5OA+le0N8QN8pf8uMqAIA3yjzhuO\n",
       "lar4tg846w9Y4QStICUQUJhrRnT4oDVEObWRF4yLkGfHhA2j/woKiJQ2n75rWDaMBLBQuptqvUdX\n",
       "+G8MzwTePJEVVkgdElZqkeXHOfbEBP9gU/Ri6j+mYOWdqm546BidYLWj/vl4KfbdDP7Zh5B+ru5B\n",
       "9ZSfQm0fCAMwINorFZpM2UeO7BGberJHNIVHQpRlXPUDfav94eMko1uNJ7+7VKdun0uA/3Rhb7UT\n",
       "mw16FjwSYTBSHzY8Y0yD0V1BAvCqmm08ycP2wA5plIoenyrFlRIuEzxtRzbgDbPbXfytbM41NVFk\n",
       "uCsfYuQe6Z9OU9rITVi+TjG/6iLCNGcUTx1EvH94L3gs4/21D66XSS0a1X2vB55rqcDaaIIhFSPm\n",
       "r3prH4X4CY0avSQ/KitZHJ4qVVhUj9kZVGc195jVFYy1SpW9KmGj7XsxwvNPB0I684qzDAhoy0kr\n",
       "94R4cytSTYdCbKqYh6FXT3Kk3vnLFPANqxSAvsuSe6+BvL9m8nMToaPuoKleBN+nkdQ4gn4//mtw\n",
       "W99W7JpPmpqfIJm9iSgUoxjK3Gohfm+U8eo+juNiP7XGkak5+3ES1+VCxLhyiqx3TVaEAh+avxOj\n",
       "WQixl1mH4vDtSO3tHIk3qJIOhNGVapV8OMNUVx/AMA5kSOnSu8FJURVwagr4hqvonsgEwk71orPm\n",
       "fJ8pjxPxMmXN2+z6q0PFHsF+toUnk0/DU6crcGZU8b6LkFRa6CTroSDqJPiCxJ/mi5W5txxqwv3r\n",
       "5T8UTKDMXecLeyrNdJUdG6tLGWcmF8RPCwF1ifilUxJWHlZW8CKfQa1cT64fnRy3IXykW9uQGJl8\n",
       "9Xtkr6otW4aIkdI9PVb9dACP0HG8+t/CQBUrAvgeDvXEXSgkPQ4pwmaqYgvUK6tA4+f8nV+oyWHx\n",
       "6aWxy7J6RZRkDFwEhHsXHmAxYp9L/PBj4ZGEmAhAvMp4lZCbOQLYlBarcIv3P+ygo/B/dBvlloXB\n",
       "AtSZRSx8J91ryHtcnc5nhfEivjg+1InUwdEgXA+33WIVRQKJAvrLhatDciOVhMO4q6wDX5u6GkR9\n",
       "xvWF3h+/s52Ze5b2avMEVsb0UaAHqO6W+gz+qsLotG84slO2/uPGPj80eHReP+OPac79JemT7Feq\n",
       "Vq5ZwDb3Kmxs++ETiJ/Jj/kL74ud9VUv0TpjFA9FR1dbtvN2/Y9kw4NzIVg/OozIMyjupAJGenYC\n",
       "uygem0K+gAXoIUngOU/PWHsKauIoZ/57Mfcy4LEyQjXxWaCQyev4pfcybSSXIYY7dB32KsoiASQp\n",
       "qcr098rTi8ShTy48rt+yuUN9i0bJ7fkwzD5nZPquPPoXVg3WAVC/Xa4YHYPOmChl9HPu7eHzcXdm\n",
       "V5SrvF8ztMZgzZgsKG3wU/S7+hMAGOzBdf0Oc/U01WaJXbEqKN5m2FGPUyhwxMUYwoHzHtqWp2DY\n",
       "BB+VlTQa9GHipJkvbiQfqzqV9SEgqCP16h1MRulDQtP/YZehoIzoeqK665IXt/LulqxgAJ3+MGEk\n",
       "YMjVrG7dsErM7y462f7C0eTKooH/9jM+I1yiP4yJeVdGh+zZ9/FDRVc8TJ2BJ6Cp60ACsIaonQUU\n",
       "pf79OyngtrPzIcOk5S1+ECSJlXj8hWdnSz7pJ8Gnd7BG6HUD5UP3ElsrsIDT1WiOP4IhVifML93Y\n",
       "zs7uL3axxk4G1Cy5Yfw8a+g1wDEp5b/7PvXa+D4Y1egVfPHtkjHk5IPu4T7bwJOwG1cwA07N6go4\n",
       "Nvshcf93f2l7ix8v3lzCNZGQPV8kDvHng1SjDxgGUE77C+TPXqFp8ng8oIqPRFXkoabsSikz/J0T\n",
       "hJcBQxiNXx26+xnhM5/+7PKk2EvslfFaoAcmHrhGRN5cTxFOM3UeCi0+DqEQD2TEeo0qv31KNWXh\n",
       "Z3c4CQv2WbQLtk93YAVtOrRzFtO5+1gbOStQeO77jtUYT8Wl0eFnJrOzWAlMRyMPO3xuqMQeHE1R\n",
       "I1a1KjweHn5E+Pm9E8sfvT92o6gp5EFxt0qvFETkcR/NdnpW860QxxMm6TpaFwyGtJci18bL7Foq\n",
       "cvNgQVgKKaha5yhtcyIRVufOWqNCEUygo85BsdIN6lnBRpMuonfaClyDFVUqlo7ZLVUWdisXPrMW\n",
       "eGohqCE/zegbclBQvvTVGuyhc7f03lC8UymemEytRD0ih404ICs/NiyVnIstkxknZl7zMcKiyJUA\n",
       "3Cyoit5OacEhYGmhoNeLOB5IzxLsFabfwELs71KrwlDwClGZueAlBs7wMoLG2i3p4dU0x+ZKev7u\n",
       "JDXDD1Qyc/s/wB6rnJxNun2BP1SlGaeg9OeJeUMS9VDEi+qaULTRS2aks0JaPUllnYdh+/219Asg\n",
       "nVACXbkQAEikGUqgfeFz5cs4E1R1qB6lwsMQb1mlPaKYun8deylVHGniohVayzkrVSl//1mC2BSX\n",
       "TxzV//zudK7ZTYopCDmviOQeZiSuD+Z7pP6ykHcmr+GyTtoOapnyJQLyOv6vWokd0Mpiaf8LLquk\n",
       "VfiNN7wWKP1x4V5b/CDvkyCJ/HEov6WQc9BRQct6UbAeQYWYxWOIT1+gBZiiUCol1ZiNEmKDZ+f2\n",
       "uj3h+vnhNE1nhflMAonvWZKTkDDpvL8e4S0ngjLp2GoI8IJdO9dy058RewLn34y5vrubYiWMBjIz\n",
       "6R0kKYU1uxZkbfbWC52gAarax9D5rKRzb3TffM4rCVYq44yqDgmpGxuGjF9lUBqnca1S5zsIEXHk\n",
       "CQx89b6N1yMK2Pvu10FylHEn+4gnwrJvig9mdIty0YOQ2C+1dj0FnTKxBO/T3qWw6OL3p3NG3WOg\n",
       "uG5i4JH9tyOjg+FRA5HwMC59MqKEaEx6dOO3soSHsyZD9G0TwaSnSu5znRh+WfJLnIRhv5CVLLPt\n",
       "ICP52uJyVeF3ys695lnTWWJhEG4FHFDfRKpMF8mKObAacoCJl2MAc/O88EJjipOELpdXF8r8F4uc\n",
       "twA/drW7ws9NI9HcfyXErt2brHRcUN+QA9d8lBix0DsYL/gG7+cJFPZI94sAKm87ISlOtS29yy58\n",
       "9pKvZPkHbsa+dnBos+PJkoaLtfYbVhPH20+Nl52vlSW/Klkn60KdK3vxcuZdPCTAK9QTwAmAangz\n",
       "x26mzqRGnRQjl7mp9K43jsF8IIoPzDoTMvroL4Q1Z1eUdvSWWp8GN5YoVv4qzCO65JJosBRnIVst\n",
       "9OGagzqiqgHZ7VCnh8CRzvwOx+K+A9z/wlxpE6Qp79LVGl4XXGco+zDZ2FCmXfpO3K67PXluJA+4\n",
       "hRzG+6/+GKfw3UxXO+Z2K6MiaYnM29zvT6xOjA5P6QeVPfrr7EE3OKudMqUkUDogWxd0Md5msVZ7\n",
       "Nko5iJdWBsepe7qL4vJp8XRQ5JClcIPh+5ugOiv0Xc72UoSmUeLd4kuoPxsb594HdLsWiLS+rFtZ\n",
       "k7HvktYaWsXbphga7dO4GENglJssSnO+gJevrUqdBrB1r2MaA3j8ny7BABJJkk4xj3xbz8k1HqFV\n",
       "+RUXjzw29Et6sVaI7FZD+GwokJbEiVczdAfyCcftoYKMzxcI08KLJ2ToCyM3++s/BfFID+Wkvce/\n",
       "AAABdUGfLUUVLDv/AAypIAXhg0/z6UoSpYX0dYC4mOVnwbpohXToFIowIKJFTXC6NgMslmFESnPd\n",
       "dPsjk10/SslFhCAYC4nKssf7FOPQg+kw66jU3NcZj39YszLRpNL9Qc6RdWsfcHLKkvW3jR/QFSFA\n",
       "kRmDTWenYuVeSRXON3uEADjbC5Nf/kHPqdXVmMnvYtH6WZSbxrblMQ1SGAte37gLza0BVLHrIOAd\n",
       "qcLAWXldCn8/hc+bS8eXmDoP/OhPgq3emjVy8or/bi3Lzz7VurbL9MBg2H4wULvQ92W6QbSYbXMu\n",
       "Is69+l6u59ROtl3vPPAUm9giceVbWfC2cNKW2cqQX+GKOFNoYiE1QQW6ZOOhF56aiD5EfJi5wU5m\n",
       "7Zd7ppuF+oSwBz4k+hw7NrgYDhZM7GRgloxlTqPsTzekooX4uNdsw21YWvr4TL1hjyCb7BRi+mUT\n",
       "QqLAcLyXwbwS7lduxEidSJ9zfHMEOsQkbTsdJ2WvrrOtW+cAAAEXAZ9MdEN/AAR2DQ0ACL/HRg9g\n",
       "UuOXG4ECBj1ObOndhb4Z6diqvxQw3+4DZfTOL71PXAFsXEC82/q/gDPY2osOLrV5VLqB9Oj5LijZ\n",
       "T98D4THmU3Ar+86kOI4QXeALI5WhwCShYO/IYpoimPCremm3XmOEi9cU3QDb8G8pVDJCVS9jpmmy\n",
       "3P0voI1ri9YBCkjlNDjQtFOMXvVMTaW1eUekdvB6IDirGZ1tbBkkhtkJwc0tClx2FH/W5m519d9O\n",
       "vUyuZf/HPKmmzBON5y/Pr78h7zUe9cBpnkJp0i/L6WSaNRohv8oPKm+mjsWg1C8+r8S/ro63xTDX\n",
       "QPpNZa8KmBiMcxQSuF8ULjB15Gle78r472SS6MVYe8+BAAABGQGfTmpDfwAC1vPkc56pQTujxTVM\n",
       "51MzX7MxAUTQZV7b4GYGpMQAD+sy0TjBGjXi5ykcg2mSK3oOKo3+uvpqXaMvJt6I6nBzeVupkE/7\n",
       "42JiPux3vsdr6qhiyAW6cD/iZZ5zRtIInBUvHSPKpth3mdVM9j0iwm8n9sfztQvpLZEsc0gv1P3g\n",
       "LW/JFVPV1GqGUdmC41A/rLHNlleN3IRRmpJaGjtBp4TpLDyJ130hhA045Omnx+30JVxvL3xKInvH\n",
       "PBRC6RYj1f4n/81zwGy+C/u0XmLZAqrW26l7tWkZM/MxisEN+ywUFrSmvYGyXfPIT9r0IaKgz7nP\n",
       "5G0koLD2BwsbOD2HfHnZApgQNuSh3SFjsfpD0FufMteRAAAPOkGbUkmoQWyZTAgj//61KoAFlDT6\n",
       "AAidNnJE0dBhagEXZTtqeipba7aIFejg+1z/gos3P0sMv274OtKDI6fAKYXD/kt7Kk2RZ9/ZqC+k\n",
       "ppqfVEznjV7Y5Vpg93W95Ig2Ro+nuxF19/CJCCl34Vb1h9KzsEC3mPh2ySYLo73fb2SA/Ypu912U\n",
       "Yo8MPq9iOrag0sBhatDeW3qaDwsKHw19erO8Ubxgrng1ykJ+1EjEeh3nKTqP8otXqIiD0/i1L//0\n",
       "b29AjZNYHDDpVfljf7y3GDZ6880Ut1qiE7gt9q/raEgykUo8Yi8KhRM36fay4LnmVSSAh5R5t35n\n",
       "xCjEMzb1tGr59MsLZJwAvsScUmZ7HKQtluHwOYcFnTVPpKwKc5z37Kl55Bxu84HWjqFv7IdGfEem\n",
       "BHVPwmdX/q8ZvLnij4Rb1VEuFKbAxTva0w0H5xntfSkYeX7MGvazfOFghwAvpnMusb1Q1jLHpYKJ\n",
       "wUS8zxpWshkUbkltuyfAZfLKVJR4dp8YscIAklhLa2bumu8/GC8d78Zcrazp7gQws+JjvNEXFh7B\n",
       "xRR7aTxJllKUh2e1165KxivP9bU4ok6LvgozH4NFO94qtpigpdo8ZmuYlbI+m/CYqzOOTiQ4/Wr9\n",
       "jlCUO9ZtoDZQocLEfSSCPIOpjU/jsDj5Zd9NcklJnLEB3N2dy7X7mhqkXZfyLyayWIEuZavCPXJs\n",
       "sDfmgnqrTyv8+LGh0XR5iH5ymCFNp3LKWPUNcc66rfOUq1meBTWTBEZydRgRhMJcw5rFkT862Cia\n",
       "NbaeIjGvBCyAcU0UFc0UQPm522l0ZR0Mg+5dYLJaCZM9/sWrMNEsho5PiHUeteZB/fkMuvVJfx8W\n",
       "NPm7xJ+7yMEkVSxEtRMgGfTPzfdYtmT7VZU1QJDsxY+udJjM1RlcIcp/8agltol3cxKSXeXroGyw\n",
       "FyhtH/cqTvm5UmDIual2sGEPnDNGIVsxwAQ1Vx2Aty68+XdYOeqN/+nuP4A3FnvkwhxwhJzgKM67\n",
       "JYZmxSpm25+PIGSUp2e7P2hgYcF3dNgHhqC+TlLBDfSPncmXQlHmJhe7ddrVbJ7dCyZWnoD/xzPM\n",
       "B4M6wn+2QhXldjasp1QQG+fzK8dksfGmC9bbk62zfxohKN7R5u9Nhr6DVj8xo/8+2vZ7d6Gm9vp/\n",
       "+IE8KmRJzE63phPT0opHCuK3XZEQpWryBepxHBQbBYILLghVFUtwEazSxk6fextFQ1SxW0Lq51Xv\n",
       "AjfceyjHFLcNUXav+gB7zZW0zawrM+o7cvQ1EXEE6Yh/qBdtI2WGuMoqQiyWRpgWEXzj97T1+BVO\n",
       "ywVk1TjfB0QaJlCK0yEuQv5+mhBHfQbl3j2YPhcv1BgdRa+w4DDdz8VFpxzeTgnr9hy/NpLsoF9d\n",
       "Lj8ub32oP856OBBOIXOoff6DA2A94Ftm6mSxV6z9xlRTgRrJeRh1ULiiIXCnP4Cf2DPhGxWW2fL9\n",
       "NO50SxK1QbRF66NL77RGS1tGB0M3UiH4nOACYtkn8okQihTs5HrSgVbtXr4I5TR4RluCdXtetxKL\n",
       "b5jpIIq3AEZUFDWOn2yLlAEiXnNLVaARCmKky6Kow08kQ99exriqntYGLJiorC2u6vZJz3TufeeZ\n",
       "CPhLPTcDlNkvFbjYk1QLAYnuVBLlB7ncMfMBOVkSPaffXK1FCt2QFoXaj1dH+QpEm7GC8voTizRE\n",
       "xkVVtSptCCf7f8I2OIwLMpxgCPfdUyMk3J7+tvcMbCmlrgVdBGOOsF+vi18dytGnhtayNiPgtW+g\n",
       "wKYec9r/zvguKVGt0r7vIVmw3fjllJmmdPeFAqYxoyjg1PNYtMDbSklCN6c8qbdOv7DwGK+NnocN\n",
       "RebMGvDevdrdhvwkx8/Q4bWlSk+pJfKsjNSvpGIbNWFrEz3o4IfmYxkVSi1mJgICZ8sx7BwOAhaG\n",
       "n7dzKtzbTeGbUe/G4ZYD3PNPiCA/Cuq4VZ81P9Tki5oIIRZqbSNPAirY8UAEnzacawVcIH1Gbp6q\n",
       "TdR8ax7jOArWE3M5oGKoWgswgfpe/Auf9hf2U232n9NcaIgwDZdQXpcNhxJ8fsLY71rn40CdaNoX\n",
       "FhFK03O4sQc86KRAl1byoQGLsN+4CTaNUI/BKH6Qt0rkoKItMUGP9cA0UUwQ4w7DjWFZ6iRnT1P6\n",
       "ssHcaYGjtVaVx1KsFTSAHpSczP0NcaKN6iVYex3gIBZTOvGhVpl+gyyKlOO2jRWickdbtZHQLBOd\n",
       "thPifuE3YVFcxGJJZ6mqqlc3QM0SEOX4gfcfMfx3sXYrH58u0erK8L8ixiUaUmIqU8TfjUuUCovE\n",
       "N9XiZ2oYZmUmbfBBDwvRbGnOqQZS6A9u2wgKREXXbBrhv7KBusNOqWMFrY67SW2Cruzy8bD2qfMW\n",
       "k0ZlcEErbNsSwbg5JCEQnuiYPc0WMY/dM5XwBmbPZu3gy5+KbgwSSfsz0Tq30ScoNbfYFUAMYZD8\n",
       "CA3NxABcjflO+iSYMspPBwpllTawnq0yC154UUo4459dWzLYHL517uMJCIWeh5qgP2QtCBFy/5jZ\n",
       "QDbzgfhMxDQk+RLFVQzFzR5EPgOxhy07Q74H3QzCDiQhH5url0Fu8ahd82B52zLF3oGoMXRUS90b\n",
       "Mj2EZdVrJpSBV07sBvC0w4N7M1o+eNtSwdP+ULVBqoW/u4eW6n1wmr3U2LNEzLCZ3ieF06wMnFnB\n",
       "QjluW4E5FR62Cawzq1vlkljRGyYOAZTO2gcOesAxVebfwD0ggppAGiKipu3KmmUH7CxIzzWrL09O\n",
       "YMI0FVJU2m/XmqZMygeM2rX4OihsJhtgeGKlCQtkbjEJT3n6+wXw6RRzce+R+KC/yF2DmjzwHjwf\n",
       "h4elk5/knhJICbVYxkK3Y+xvZ5hNVarEd17Qty82jIUo+BJ2/L8LSXeKuoO7nhioYIIv4dD1WqNb\n",
       "XMct1RsDz6XXLp9x4DqVpoH4TodetSTpLYUwyDnKvRwax/xhk9khd7p4fw1iU3b3xIIOEQZLACnx\n",
       "B8qbqybtbiBUf0jFrMS5wGqT8X3o6CbKzhaygn+fXn0P2esdv3RGeJHinnV+KAlQUZOURctriBtm\n",
       "DVKyxaVDvC3ZFBnxNjOiNDTfsvVdOjy9W3l+wH6iK3Yjv6lqJZsW60B3u+r++86hnajwEnn7ynLA\n",
       "V9IIj0+ymwE5hzPOXqz5GrBqC5EaOSC4S/KZOZIJ251Mx5IKUyE5l+k10Jc4e9TJLnm1uWl+CdUl\n",
       "GquhuW7tk/38wfJKOvGe2q8953qKCVzyouSX6bd0Q5f9AO/ndM77UQ6rZ7cmyDXsJ3WyKbKYopxm\n",
       "pMCBlikeFys8b4MTD7utO8HB0gEmQPyZZ97WIjhxBrvjV59lkhmClV4WqVYLy/v0ySG2Mg+I0pdp\n",
       "O+pZc2q72eA8Qq7zg8Rf+pBPjYyX2zGqc6lhKSSSD7fDXjTTAkl7Lor3NIGygwpSjKzQWMnKRX7M\n",
       "6OC0jNOrlPArryClZ54Wq9iatFpMwNA1UVYhtLU4bbgDJVTEE1uRIBofPmmuKDgJjY/SVvUjwDXO\n",
       "M1hco+0/iD2LUYxI84D3YL00Jso56OSxdE+rQTL/ouxW0ulbkaqqV+PqOGxZWJtIn3tmxmozW/Hr\n",
       "LT41HkcVVE3OIzuoSjnT+jBTGN9aYJoYQg7G89ftgKbZrQmfvUk9K7kNjyo5VzTrBbk/HCENNbWk\n",
       "mU55/GFHCm0w1wPX+XZG7F2lF11/EzbAgBEsVOiy4Mff5aFNWb/KBoR70mp4dA0MB+nhRDGcFfiZ\n",
       "UX7IqO7/OSC126Hhrl+9QJuEjMNvGIIpG0TOzjOmb+g1ECJ8/RCVRRN8S2q5SVtbANcoSdPFEo76\n",
       "kY7CyGIKVh8JApH+I2zBjlbtHaZjyO73A2FoaXsMFluII8vnAWBODJ0W6QLWz8DeTwSF5IP9hSx+\n",
       "qVSLiebT4km0ujaQZi9fBHhT2Yxu7gltvfdJjBpphvCWN6p6zS6MIfgxdU1kdGVfAy8Y+aDYA9EF\n",
       "HZoxB8DOYacrQ6cQutOqlRTOghpX7UI7Hbr1MA2+UU2r5Y5zgAKJWzlFmWSVZ37boCFC5tV5JQNL\n",
       "ua3Z2ffQO2RfNSPK8O5aMUiupZ8ecUHrj91EMY5GaQ7DOki7wrN4KZ/pxl/LJR+ajEZJlPKWgD5G\n",
       "hNmTmZGXXdAXSnZdoGJ/FnsqfKboZi9wlQMTz+xn9XafOFh1kmbZk34yVeLDLLlViGG+EJTTk6xJ\n",
       "ymg1ULZH5bbZS4SqOvGXvEq1IZkRR9HTa14koUuw84CiK4Jsgi0ocX4C7xwSVaz5lNA0+JvGEflo\n",
       "rxsMhx5zEl02Gt0AwzG23ZxRQZqnogwi57cU27p/m3vdEUvenwCS3j2oe5pSEdcB0QH1JyZZw7DQ\n",
       "fGv0LKLS+U33dqQ/k0DrAwEkD+mDxOgQ/4dO68r2bcarIYMhvKYP6vlmjKHg4QQ5uzOpCF5Xw5c6\n",
       "7FBdYVhds3et87oPxJSDcWA/xerjqQ1MTQcr3a+fcn3YmP8TrOqTmenKD/yRK9t0UM5q1BK5CwSc\n",
       "hXp8KOcwvgILfS5RUXJ9FxZH3hyFGLXfyJMj4zLXFNWadB0oF78vfaNF1erO4Cafc1yKY+07elUX\n",
       "4GkltCz9xaCA1h5vu9dpjV2jSQqtpkwqwQPOSssVMuua3n3oLkUnyidHskkjyfOq9JwcljpeUOWO\n",
       "gGByozXt5QSqC9YA1suwxuWo+pUJ4pwrqFQjM6IgsEiyYgKe528pYfCG2WNZJMaLuhl1FC3wDwM1\n",
       "xPaegGQLsv5KAxR6Eq6FNGZFgWmfJYS8mQABxWcUe7cOKoAgPVy/fyCjoVkMk778ZeB4kZwA2Qo/\n",
       "iTrm5+XVwRTmf9b9KtMWYjOqILTMgRAak1RKmTli89KQfxUGEcEyOCistPuwJG5dPFuNhFWA6S8E\n",
       "nFNBRKQOuB4nEz/bctOx2eRH6NEbEj8SRRZabRyLv5p/GdGx9Nkc7TxkBOC1faYzutatb1zPwLpW\n",
       "yythPK8pu1rlCUzpOaipznsoYQxXl/ad9nYpMMRbQfOcmSZc39dqqGwivdLW64DLgEbLWMfV4Ynl\n",
       "D8cgXN4E2CxkTZ+L1FeDsZ5/CQbyq/MiYnuK4tCVfb1vGsDgoTDgUrsbfhl+DNjPFUjc+InR3Fjx\n",
       "oDWKMCwACH2Zm97G0g/HgbMtXCNCJtefwwDuZDUCERaQv0lixu2BG6e767XSG5LFBepMuRYV+5fi\n",
       "9IAAAAIHQZ9wRRUsN/8AHmKEBznqrHBIvby8g0UykoDLpZ0Ymx8XgC/3JdaxGgKSib3CCubK6k1D\n",
       "MyjJ//sSsZxh4jJPbUpEJmdke73sJt6DD6VzZcK477Wqlv65wLz/+eTRPHtgVtbe3kwJawknMUTL\n",
       "4Y9Vaxmt+/oUiV9hkRyQakLiwOEu6bNNhOWspMm9DjTNPH9keq/wt7E4W01gGXt8vsEdQrWqzIlt\n",
       "C1H0uHRfO6jZ2zI6abXZMmahts6iBVsdK4MpZk5Kfr5nCboSdqX7HxVlKNQq1p0eSdQD45HfPrvq\n",
       "eOC+QT7736u5TRXC4LL1fBCUi8pYwYQd/wVo8pu5uzkCQFVvgbT0GBipNhUjBenp7aEYFJZnXI1q\n",
       "AK7bYtj77LevbcG5630am39kxkxmVRv9ztuubJg2/fzHACqSrpk2p/kVvIZgGuk/cbKbGQU5hOuw\n",
       "bUq0geyYy3zGym4loWamuiKCP+DKkkOS4wnot3Oszp5eBM8ie2cR+g+3PtYtgqAFATRNq4Feqn0W\n",
       "9SjBcL70i0WVjV4ElSEk7gjpj0kc2A5IV4Z02loia88bwfKCuiYWWTJrNr5OzXzFY/I7McH0jmDA\n",
       "kpGgQklzZFlF4y8H4znSJJUbqsTXyt10qB9+0KAKqzLACtVFLfj/4Gm5fhOZRfsbztHAPAOroqaA\n",
       "ztWt4cizKSet6K8aAAACSAGfkWpDfwAeYoQHOepnmf7zw2AfrNNw4tu5CMxD831aSPaV0tm8792M\n",
       "pDE95ypHzPiAA3cjN5PFAPA/D7ngAbvQid2qfRoeZp3plJHTh6xQPNh8VD1O6SEsIMY8bNqly4fb\n",
       "decoJbZe+qf/CW23QnGWfd8vnXJ7eaxdeimgzPveTN//jpG90EbSFEiZd6y8bxeLiI2abN4Mz5k0\n",
       "RMlmAZpmzSq+EovCeccANWGbRkvQfqP0wLWN5V5Xbo9nNY3liMUKtH3YDtKIP0NocZ4mLAshKIT/\n",
       "E1OpCrHt7sawUpFdnpKbyjVO8k3Uw784njgfw4itUXR/qsey2ru1E1mYYJgfpFE3Twjh0TX2MvLK\n",
       "lSvu2Y8fugGw7d5sfhXLsl9KXg80+YK05PXN9sVe4gzuaqpdfDNzlC+cvgzqMgLc/RwAQqL9c2dB\n",
       "RMXvUELswzEP8oW8a8BjgyrmqGWS38K0Au6rxSGtLVFYQPKrfY7apkH64S4kQm5QMozlukT9yYio\n",
       "ZzJQKWbTZzrIOjfk4ky6dSrIExEOvgm6nBEx1A/fxdEbfx/JcprX2PtD8M53JbgUHoT8NxJZPvgT\n",
       "WD6cwyTWH7ooLZhmnF7V1FNG5aGdMHDNuEACpDG+Cs5ScspIv/Lcj4f8shO4edXUyNhYgfVoKgKr\n",
       "Gi0a2374w0dOzaqbTypmr6QoyJlcpFI4yo4FEIZqS03K/XF98BzBqVVBSFmYEr8/hnKqIE56XZqv\n",
       "XH3aC6a4ydaIci5BQ0VpOQfLyY+GtFweNHTCEb1nAAAITEGblkmoQWyZTAgh//6qVQALKIVLLwZu\n",
       "ISsXs2hSJoC8AIoAXtTkwLjNXTLTsKqIHG2x6m/jGIXlWriLxtVbukn2inunx/v/utWPdXtXLEp+\n",
       "Z0ZDT5p2e2jdcFwxi+nTvZFKk1YA/GJYWCBqXK3GL7JFgYsuzpAGEVCLq7ojYtiySO3nbzrrGMEO\n",
       "jSJU7MSzG+Q5TPtZzddRZmvZNvzJuCWiYccRnCa2+nPhV0IE9ATxa/RNsU5jzVvEGPtpguuX1hTW\n",
       "ZzkRT4UFjjQfQXjArL4gfeSlqL9Dk19OpSfFSMVceVXpaX+8EEj1t79s9RhkJUq83UVVi3q8DbXG\n",
       "xSAvrFblnA+lPNgvdm72CH1FXhVYKYfwpk1XhhAVHr7cCCcoNc9pw1JqIMtP/GTM1Z3odklxz1LP\n",
       "nD9MCuH16wJoxc5jsnLdn1d9RLRwiwK+3DuaGVVaqrosNblooQOTjfjU9CsQiCC1s8Id0xd57oLm\n",
       "S0qHZxW6ADFMWbxFF6T9cw1o7PMD0eNFkqz4iBST8wBk874adeuk5hM6C/Tx5ZbXi1ayZ3k0dcFf\n",
       "10H/+riOlnS9ELcmCuSDCZHj3o6ik0lUkgsIhevx3I3WMXC2ZgThggqE51c3P/O0V/3CEcxMjNNK\n",
       "yZjhfL028/j7MoCpDYIBd8HegtToqz+ZdGLtSYgS/KcF06BAKBQfoEC/azg0TkV5GqkgS9A7pEG8\n",
       "HWw9rHcAu8ImXj/xwX+TwJPNexmNkPfM6Q7p/GDDGdZOKm4VjJEJ3bogkqGddrP3Kle3Q+O4vl8L\n",
       "eUTYc9DKzOssV73uoduUdwetLH/AwE9FFAzVuQKbuAhMUQaIokBy2CV5hbFpKHmQCRhFnFyxIHBA\n",
       "lFkS3Vz7tZzSNm1nNIllGsZo3xPM/hxhyPcs8+XScBE1kvwZRRO0VPseLguZquNv2uzQIDgdNWNX\n",
       "qL3yoOoK1DgT2zmix/Uel+lT2VN676TzwfbZvS151PQFnR+dO5MsSjrFKj4tMhS/WuJp8zgBZniP\n",
       "kZn9bEiQLuR/+0vg64OF8U92H5yh+PdGpEW3+BQPo+QsWymiFSKpYzLmJvHuF8Frz73EAeeAm6ma\n",
       "zQEZ8LsumKBAQn3xKduzzX0s7+oLx+XyuRFTKwXjLwwzQurQcMFSU1uU0kpZ422TMJHaJxnNdZpO\n",
       "pLqbLcvpYM+2OeikXeoF9Anu+fJD12N0Q+ZdByaO0aZftHiRc/JXO6MEnmsxM04TrZkMbAZxqAxF\n",
       "EkZXILzh9We5piV42JaM/im7XvYvMtzTFy2KimRSM/J9+Isb3fKxQOxABFTvj9Z08kbsfxrNj+yx\n",
       "xwNKCQxWJ2+etLppjl6sB3ysYhSt1KDVm40T1+qg/dRlBuQUNQyhWRAL1iEPhnnuRIRfiNkI2s8Z\n",
       "zMmA+vLmg2lG8InItiGhds6x+1Ra08UQkk81kk+qeGST78ab5F1DxSOol+TYem26Atirk6VpKA5C\n",
       "IIvxBtvGrNIHX8MpmdsY8jmKRtPHgBZOltMFgZFgwS+8KYGwS2KmWzEa96OSlIbrPfFcNnzvgxs8\n",
       "f/+cgM1THJarVfcIV+ySNpCnykpGtN17Xqa8XdULwNaLy40QMQCaISRmbqfGGnisD1NON5jMq5Op\n",
       "wFDAQbLHvEneVKR0I+ePXzQ34uqQ3GKYr4auFHgkky/BVvc6lxLfeTHOeMl79J8uklB+0HMAZATr\n",
       "FjApfzXOqYHKZouPiWBdNvgP4aKN/SHXe9t8Fdc4ROflioCoOd0fTR1tUxmcoTEVR20NVhPiyznR\n",
       "F1baN2Jj1ZGAirXU3FlXLn7fB2/RkpFGRudDoXiaZciEsZ0nfQNn1oG/wdS+UtiGZPh44XNKgcL0\n",
       "9X317HruoT1xKoJyWkP5sPGsBu9JvHAGcwpMOP3edlGiBT7avkU7ncPwnm6kKItUnaCg7MeXNyu8\n",
       "/KWswUm8i/cRjIJE0YGVFtSQV2cNSUhStl7Xyto4hMbunEtcqKE/yAAcRxsnYqDUWoG1+BjovKEf\n",
       "4YWDfp8qeSej5aNEotQIjRnTyg5FpqIl+peOxJaVRbGwnq1WWH26Ig3ZbIH33MEipSERqSmcJNFv\n",
       "xEPA5HcA/NruiGngJAHIgJHMNuscexRVA4DJfh3WqX93hVBlRomVAKEPWG3IA88b2Ny8U+uEzP2I\n",
       "/pY6/tj6r7BGnfhNlFEODiCSjtbMhlxRYoKmpRKDRq3lz/yQr0OFou/bHchDBiaaNR63hTI/RotS\n",
       "lQKG0pN7O0X2Nra9s1/fZcLwQ+35zOKZZnOXVWhMLbhHUtlTO1nLszJr542A5xSKSelUS+wAbWUP\n",
       "9vWGXtHL0w4oKh1jn1iFHa06KdEFOz4XkJIH5xvMybNsTsHx2IznQaE9fUbQHx/8BQaWE6Oapw6n\n",
       "Xb4iXx/Tj9ETf7nLcfRRXRp6ksC/TjpmfM+O0/SRkhkF1sZksk46BNOfeoXOjKGvdhNzXGE9Jgav\n",
       "LD11cfcx4j9+WUHW7HNfAJC4QZnjctCba5pK+RPDx23vB5FP7NXCwJeb9SiYkAPm6bxHaqV7voy3\n",
       "mTmnze5z9X/2Ep8KbyDgxt+6FkH8rjrnYXQFtd7MgbQb8mTz5LxhAcX/T+mknnen6BkYE0pq24fe\n",
       "HQZ9Jer6t61N8WbPZsfZYRgQoqhfHqKhADxPO65zNxnP9TY5KHv2oQngWvc/cY44q7G1hlye6kWG\n",
       "HxpxO+p5750nZTgwVxSRUF21YPd3I1/cwbTf+/BxrPVkfRz5JWWKC2PIjOjb7tW28NbXQ+NR+eLR\n",
       "nx/PjEF8uV6SH61gfAvs25mh0F59xamnBTkx+T05g5WOc6kh8TEOR1bhJVx68JDEgAAAAatBn7RF\n",
       "FSw7/wAVwxTcr2Yosd/7VP8LQ33ljb82lEjBhNMGxno74EzN2aulkovI5aUCnXUqNBjVujGfVHe0\n",
       "42Mu1BswtVH3MvDUGUXMynGwp7KSoV7SOUdzS+KBgZt+d0oj2aeWHPVV0PqM1P7fj6Pg8iEE/hi3\n",
       "f4ABZDSRFOX/jMlgcxm24XJMupd5YuFadVMQrx867zS+J9P55vSuDUig0I+J2o+AlBNHW75lbF7A\n",
       "3n5KVUeT2IgxxWgrLjDVz5vsp40MPXdhBENv//FZtpQ8hlLpdz767Dc61gEkVpr6M3dT1AD7t/Ye\n",
       "IdZ04ewIIZOqNU7DYgbgOSvQBN121oq5ZjpsuRdUJ9WimY3dnlebt5RoOsM1/VfzDN08UubNI8V8\n",
       "u/RdHBZIbhQ48yO7t34hKDJcqikHk5QEgyKhQadzjjqDCtaKVd3R7kzK6mbzeDJtOCQBho7m9oBd\n",
       "KqRgDp7MNLEYYUJ6DfNoah7x0oia2yjkt3EaLPE1kcnssIXv5WcYVJUpY/3CDSpD5VItG8LO+fEC\n",
       "vpjibL85Das/umPLtRFnNapAXyIr2EtmAAABeQGf03RDfwAeXTaVVivPFgDkhMKKjpi+TjKe5JE6\n",
       "c6zCq+q/eY3wADObFWKh5L0pOyd4YsSl/XetpxTjzZYWfO1KT/3ypZ/hNhedBrdriWhw2f8K1nug\n",
       "Ygj3N5IKSSsJNBrdPMNsPKf4YzZ5AwGs9Q00M7UwCXZ0Tk3RnID50KHlxqHDdvyTov9+p6XO8eI6\n",
       "j+lhEz937zLuLU+xtirc0m4y9vDwtRW5DC8+c7aNtGSLh1tWYu1Dn0E9B07NWOpTJEEM29dYQ/Ht\n",
       "QpR4txEn3sVcO64D33/galifixUC9QrxPd4hfEFvGYkTABnadSVyK4u3L3rWftySNkValhgV/AG4\n",
       "JIgwnCIh3pKSgn//iWBE/9zJywGiebjYuNbWZZr4GqbxqbCb1H97ycwb8LFFozr8eSqCSrVnfr1G\n",
       "vFO+xWONZl9x38Shtg7nnlgy737l0LQZFPVGxhkbqSmLBzBSWdRM+Pc+kWXlTV9EFuGGIb1wVApX\n",
       "sIoJmDehAAABbQGf1WpDfwA04wuAEJ0QHI8sCIDmiIT65YkALSW7QgR+8NdygcPR7YcWIf1Ab9JC\n",
       "ofS+ZBWHJH2Lz1ONF3ykYZBCMJSl/yfPdz767OjnKZqk10Sli7TbOHrFnAu/m7U5G366C53OY12G\n",
       "IEmd0rQlYmh1004HtrYyyT5mK1TKJSLmkV4mIvMyFUl5OohlpAVD2CFhi/FIHE7V0KdaEu8QBa7K\n",
       "/J7O+qp+fGYvSITj1i8W4ijombb5Q8xoaCXqP+kXnaNDGJZI1xGYNxv18c3kxDTIGYp6CO8K1tP0\n",
       "IfsJGgQsr2DUJ+EPviSt6UqQZM4GExYt0kZbheXgYHJqNqCae62YH6+XHSoK/Kivt48vBbsxFQ9D\n",
       "dvvwfx1dXOamWqHd1O98Tkusdl2EGu1Q3UO2LBlN48JSaVePejYvjQ8Fh7bMV87WCMag+BCajtH2\n",
       "6BUKMJZgLe5IKTS6oHn3Lodrwx44PcAagnt6MYghRvVQAAAIZkGb2kmoQWyZTAh3//6plgAb67q/\n",
       "rA6iZACMrR4+7toIDrQjW2li8MDcxoH4WDIQdLCg23YYsr36uXBVet4E1o2U3os+GeA+WA9zn8Oc\n",
       "NAALikmIBKoH+Tt6GzmlZUK1Di1A44f7OuBan4JUJN8VTsIMzXw+tayhS2ulv6zgtI+fDrWxLAj4\n",
       "HBsyE7kd9TWySHhREKZqB5Lt+3BZDcydV4fmB++zCSvucuzcM+ppRl99YLv88wNMYFeG5FpP/QWs\n",
       "xvg/4sYW+WPIaU4N00J6PIL2zkosF1Rpt3bSV3fU+HJjfq/GCGHldG95iCsbplR2R7Cn2aujsj56\n",
       "3dnQumCNprdFrX9VtkhzgNRQA7V9e78s90J6QcM/ULuYU5dJwDeINcGSiKJT0B5W/avtEIKwH1FU\n",
       "DYqCJLoMvXCCNUhuwFg7DkO9hv0OdiPGSddwAEcZtLRMah+UWDFX+iOSrpIUlIgfTWxHyUwqYtA/\n",
       "1yRoaPB+bkaednCFaDP8zv2Weh4mNNr4NFSHsEVXqjJiPEeFSpCJY2rd7Kkc68VnMfRdgiN4QQc4\n",
       "9T2uLiSNF9fb6Da+74KJDhs/SWwRMQSEswxt35m5w+7IYv+NJU2/eTi9bSTUq86yTidHSYpt4jXg\n",
       "jDKnL6/HseacNNpWCn6HUiy+ysm78RPAIAC7f2tNbQE+Bzk3jdjzIpG6KCzyf/abwqXPJDv2+Od5\n",
       "xwjj8FLz8yGNYPuaUSAAgorrDNSZnaLhOwjV+RyUwQYtY8Po/+d+WrwiyrjyvysBGR05CeEa5ksi\n",
       "mxuNl/CfkNgJ3OYvzjlSOfqbwoPc9y/NyXBLcmnPJ3CQr91IJ1nXyWV1Nush3IVGuqqba8H/jfXM\n",
       "VUPu2HgSv0F7qmkyUWoxTj/eAbab8Nhwv4wWGHnRKeHp83mRSS4o98EUOW6A3hZ5lbanADgaeK0m\n",
       "NcxZYsvXnn0nE8HvNGGqnicmb3F9YB9DxXtHUubqVKW1RIw0IRU0TXXmx8Whhjy3YJgoJmANjsPV\n",
       "ka4rWKczQn7aYZ3ZN6N2XIzWVPlxAsnoQXXWPZWUYY+1KkXTB8be96fESKyl6Xdi3azYjnG+3Ws5\n",
       "TPjM84bFRBne5vZ/NQlkpiyrX11pmMOazeNMJ5ARBvuHSL7RQorM9XzHJBdgJouULjK4nu2NDXV/\n",
       "mTp0lNiadDLkXRLKG25IRSuJ2pQ0czAAHR07F3X84jHcgNtVOLHCjhxavBA+d5eoqUSJTVxmqTfI\n",
       "pkNyBpGHJW2njjqW35jUuN+gN1aelYzR6zgj03b9CZdqD6s1xc6pDac1pOVJirf+LMhRyEfL5Iin\n",
       "c9j1SD7iS9nsaQ9mX+tD5mBTeoQ/cP2+EWkY7bbIoQ9QZW0DzUWWfE/d8m1M+iF2bx76U1fUPqEd\n",
       "jJHxDmqBzPre1eVXSMte+q9Zh2S4WngAtVn5ODBEBQ1Itf/+e5R1VsGcQsPKqIjuzdC3bWaP7+ty\n",
       "MTRY6epHxCroMncnjtzdaA04p+lC2MqBDAEycN28dVNSL2ltvJZvbasgw6CoaqjmKj0PoNxM8R1L\n",
       "S1IHTg3UyZRjlDJbb7a8oS3jZm7WNUQNfeBYlUK3sIDlorJT1PhNTVK2nC1irhO6cICnCVulaFk+\n",
       "0WHm5fkUmf62mN3a9+UTAPo17F4+ME3fTnd6HycXTzNS0AePQf3MT94pumbKCD3V/3hTdc09ffOO\n",
       "n8fg/Y+3t/+nRCSKVc5HIYvb73mUAuxoQDbUKH+mdfzs0WOAxpQum1n/r/uIFTx3IhyFxtY+2g/G\n",
       "8I6soeLJCvLOhV7P4FJVfmvSu4fDr+dcb3bPtFNGaHo/9g9KZuF5u8BwWskVWRPFss6bZQFJR09D\n",
       "nTZWVZp0IgnUqLDro/T8/hPcilTsVNBPCgH3BduDU+dRDYsa1j/7xsAA8c/q+uQPwuPXYOy4uRk+\n",
       "qTWCh05+hd3VZ5ht4KdnrgfN9ap0/U7K7BdyuvXtBI2H8DYnltUlXKltnfvX2O/dEFPsT2ssBKyk\n",
       "H3ogqS5i8lo2HVKXTfyPqrxCG1E3RpQYZeXry1dghddRcGgGjGsJPgcrG0d5OHukDq0P/Opk5IJV\n",
       "XgkAHSWtyr41e8DLhBmJJTNhjIKkO2wpdqhSCSRo13RU2FSD3udox2+Xn7AfRpxkb3dONxqRC8qU\n",
       "AALGuo+CNV990N8aGV1WRQ/GqkhzN/tef/x8ImOZdrM5xmHkgh7lqK59tAMLjKVunlylfXGsWXta\n",
       "RU8zCjI6LTz6gQK8BaPg0A2WggH68bxW2HVJJ/UytjIakL48DB+R+uPJoU4Oae4U0JjSZX0S73Wa\n",
       "Hri/L+wDKNcfN4jerNSyfzpPf3x/YlsHNDFvOl7/qmBDxA13GVITi/VJ6IhE6Rr/ffw8Jai8ZK+1\n",
       "83oCRvj/tB5MlM8j63MtHX8em88OnL113D8ziIjmlBVDIFye0+4rnRxnZbG3FCUDKS8UeZe5JHQN\n",
       "Gxcpz6QKmnp3i8PAv+rlonJenivJ6kBqRaxVFbHLxh0Pp71uNo3tn3L5O2T+C75M6RkbxMRWWY1b\n",
       "AtLBE49KDg0ZLPCDsi9Cj9UBXHLjMKm7U5xe6XLlTp4tGf/zIOQWMSNymj2zizHc7OvCnen0M9me\n",
       "tGI/4LIOayxB+xJ1gyhe9bWCMkWvo9F7XM7HHd8wELT/a/wwqLapyxiU0ty8Y+BDwJNNyln9H+B3\n",
       "vnzqx3sj0ryx0qR+bVvTILWsxC+4f6fAw2/7hYau06kMa/JBsGwrOHbiaQi1duzoAV3eWH5onpzb\n",
       "2mag1558PbL7DbvB47mofxC10w94BAqWbs9/gXXIxToQQGBPZeMNyXRQReXSEUpzs4gWKVoajgVG\n",
       "xNYml9LlcX20ZVM6hXE0X5wIPMoZAAABykGf+EUVLDv/AB9OEVABaVxP5dNJEgdpBW4vAX16zF2f\n",
       "p2g28lC6M77ddc2NMY3T1YKYmPrcZXaJqQGIooMCgIBMtTOaII5iCAdYIHqJDNjc2UhbISErlFWm\n",
       "gYmNjxO4KoUONDDUxvbw3R07jVKVmpjNcfFpi2vgFNwstuA6toOzcq46iBygW6wan9ivZ2psumU/\n",
       "1ShTZ2NjwNWMNBoY5tzRl5/09K6PqjXEFQVxujqqnhkhjFNXOV4iFPmWGxnUERfwdjmoha/OsQUL\n",
       "OnHmdNy/XYPyJamvrGLF8hPPIcmDK5uVKJFmfJudhD+NJ5POtMlwZGljCaIDzMTv7LZzHn6Qq257\n",
       "tcFI/gdNBAQUowEi56QycZAraehcX40gzcCgdP9wHUMvNnnYt+YqYIMACgoccFJI2SB6Y1BiziJs\n",
       "pKRSsC9g0xebD78iYlD+B23KjnkcxKsHCRn5ZgX+Q8MTNdpECcW5tI9FDj+LRhywqVzbXqll2Xjr\n",
       "aOoUHUyj6VUkJ9QhOZHuNjrHge9ww5sPMd9Ldc1jXOU04g7G5+sHBacb5x/BWpfUyerQFdryCPqm\n",
       "UYS7hqY9ghPV8PyVaF0+YNNziUlsYq72KGxvAAADMwGeF3RDfwAtcSU09eWp4NPUHmMFVdgCPmIN\n",
       "vMMBdR8JsWKD1sQiOGaOiPiB1Z8T9NlZCRhE8qwyauW24XANIoYu+1e8H+YAXUh4izWctXAEnyak\n",
       "ZzqqAAfo1mw4vmDJ+0NLjX2rJlnoJx2hK8bjHNvuR4Mu6XKCGPNsDbqYXwvkIxZA3QrBooEMNonW\n",
       "xSg04Rj1xbrUa1HTyXJoZzPy34mb1LCZl7w4Rmj82VQQrsy50lwvUhkJ9HIWQCjWgpl5NoKN5dFX\n",
       "T+eWKkaZc/30Eab05mzmx0/c+xwEjslEHlrNff2kbUm9DvhkvixAiYDlZ3aUacCttjGS/6IYnWjd\n",
       "1PXV51/m+Sbzqe79sSQBIaFsRfyUy0v2rUyD4rczrQd5rRqQlcsbBRZmJaBn3eKNQ6vIDVuseXQD\n",
       "O9qNTn4esSB//iBeDK5iArBAzdBNpcBXTVCz4AUMLto2l2zFMv2Mi5kWhE4FXX9Q51C2x/dYS+n0\n",
       "lb301f3B1rhVGEsVhCo07OAOXUGjCrCYwipuNmtCiIIGSk7Owpf1d+3JOPSpRSJqYBAR/GiDRdhV\n",
       "sh+cVQjOEG0nF0CoSMrddWnFqtJS4y8TJhmzmwyNY72FXtnQBfdYZWWqGE/LvLrWTW96Ln1SYVwo\n",
       "19a7YeEd5X24EHCVwlCdv0uzE4j5ANm+YlDDYVZYCsJLlN85S1f4zTLtdUF15YV2xodRuwmQi0Kd\n",
       "A4hCgZBLXqbjYdMO8POTRAQOz85NLvOQ2NS+wmPXjR2rsCYt20P6hTHeNGzIHqBD4q6ca8OH7k7O\n",
       "0IPLe1G2vSQaF0P7AQlK1C0ZGM6TJ7VzearjmCwyg5kvaNcKHw/eoo+64bJchHxn7OFpNRHbSG3e\n",
       "ydf4/pVZgimqf7g+7q5dr39SFHts5q3UT4iEOA7p+qOSxE2XqL9OZEzQJ+46LNErIiqHZRRajaqm\n",
       "mKEqC2W07xcz6Ptheb4e9am4B2eq7oeyHFSzQ4BwfgdmgGpki/DI3ml5aJp2OfEp+czMXzODiRBK\n",
       "BGWED3EzMJHVxmVuyLtNlX8MTjXRKwe0CLrUbSOugbzmR87zPQokVdo2P4EkgzoHVYwRsAAAAaoB\n",
       "nhlqQ38ALWnSGs+9MAIU9DPUfk26I5R+vU7B0elcLRAbDdlLuRzCjRIw70fsRmbTPs+CURsuwLA9\n",
       "/aCpmAAhdULzsJSekWex2oIlVIKNaKRNBGU6BhbmOIdO+6P87p0F6nhHmAkmBPZ5oylJxkpI3HUh\n",
       "ucCR7AKQ2ML5VU4GsG1lAZPoSx2q39wdEx31oSTtQ2XYW0ws+p84E8dME5nExsDBoQs066B7pzu+\n",
       "q7te9ayjKloOB9Lq0gTmtaGZcbDkjI7nMg3og3vZPRj3GLKJS1Y2OJAWYrEOB3oghm9cn1tEb5Sm\n",
       "34QbVADb62FNzpSLC0XaL8hMdl0LOOQK7fahu8tCqpQVgrSpg7Og+EMRIGIPAUODCx8107/nPyAY\n",
       "Jdo4Id73HbOH244RajSapNiKQ6bNX4gTggi08+2Zv1Fvt61X911HUQX1NY7lto0IkX8SY8f3Sdp5\n",
       "4XhAmr1dlDrRoWyUZ4K2E6qltvGVQ21Cqo74y2n+97cEYiAFdfVT5VJR5igZtXdY3thenRW76WMY\n",
       "yncrQIRyDSgj55laQdMh4FvhrYbecSelDukAAAMJQZobSahBbJlMCG///qeEABWMZCy/VR2I9uz1\n",
       "rrUBiIZBRzyLk7ODfxABtu+I9nPdpkGy7zpfYfDdbS8pR2Nst16xTcmJpc/AVsO+QSTwqty1WX95\n",
       "zP7FHP+s9+SBE/T3541bYkBlvsY2S9Uyv9HzvQsiyKWQfUnRRQXlvTLGJoTC+zes8QcOp9D8CBay\n",
       "2kjBsD4Hd4O0GFOnkUvWx81CxSR69OfsaVag2+NB6bBz91w8f2X7cmVRxXT2R23MtjznmfXeVN68\n",
       "LU5C31XdUw5YBSnXXR31ZwGX4/K262L55tqCfKbNwIXs7bbRF/huEDrizj/aawSxmM/MQMvvNRUv\n",
       "lDcqOoLPfB5iTLtb/xNwKiC4v72XA4DcVxssM9PnPKwzhgOkB5cKQ3EQR3v7EmcSn+yX6z29CUda\n",
       "D5e53Frz8E3WLrbmYV5MxbQDrUJcBiKaeuAqh2XB0igpyw1eBQrdwKDd9LDj2viw4VlhSHlcuOWG\n",
       "CHAki6OnTuUU7Jr3wrLPlskQhvQAJwMEzgjpoCXOJoY5u2kfefHODMlBZbdWeJWqQD9m1kQKAnQ+\n",
       "XLCN6wTDTmHKBT6ckEBmd5sqM3X9DL7UFqmZX+ANGJeWcxwP6/ZgricuZVgfcdQ1O/ogghabsC4L\n",
       "JXjnL1sKEX617wg+5txGFJtj6kbPjLL0idEd/KiJyK64xCh4ieV8nUc/wzFkFS+zHa2IzDLLIUmk\n",
       "G1UL41q/hxrAHDxnjUuP9tHmPC87Ybh4/XdZ4h7PtuSoj6ZhELURjwkfCmKMuxmPhCwsnIkqV862\n",
       "QPmjUT1DSs/qa21gk9zfH9ZUMeEC4QgjBL3aNvlEz/qWRa3zPmwF2tWvqUJ0QnMMdzKxzmHq/mZd\n",
       "MAcIqi2Vx4xP0WPfJgB5PcJoJwxHjXPA2pEpphkmjREpsCjKSeLNoKOplOj4tg6FK3Z5FQDmqlXj\n",
       "l4E4SWYxKDkvzr3bu40yePcYzgf8Kz1idXyMYoQn63wyj49DwjGazvb9DLXuHX7ZtNOKY4zLNXeS\n",
       "0CrDrFs1hBXwAAAF5m1vb3YAAABsbXZoZAAAAAAAAAAAAAAAAAAAA+gAABdwAAEAAAEAAAAAAAAA\n",
       "AAAAAAABAAAAAAAAAAAAAAAAAAAAAQAAAAAAAAAAAAAAAAAAQAAAAAAAAAAAAAAAAAAAAAAAAAAA\n",
       "AAAAAAAAAAAAAAIAAAUQdHJhawAAAFx0a2hkAAAAAwAAAAAAAAAAAAAAAQAAAAAAABdwAAAAAAAA\n",
       "AAAAAAAAAAAAAAABAAAAAAAAAAAAAAAAAAAAAQAAAAAAAAAAAAAAAAAAQAAAAAIAAAACAAAAAAAA\n",
       "JGVkdHMAAAAcZWxzdAAAAAAAAAABAAAXcAAACAAAAQAAAAAEiG1kaWEAAAAgbWRoZAAAAAAAAAAA\n",
       "AAAAAAAAKAAAAPAAVcQAAAAAAC1oZGxyAAAAAAAAAAB2aWRlAAAAAAAAAAAAAAAAVmlkZW9IYW5k\n",
       "bGVyAAAABDNtaW5mAAAAFHZtaGQAAAABAAAAAAAAAAAAAAAkZGluZgAAABxkcmVmAAAAAAAAAAEA\n",
       "AAAMdXJsIAAAAAEAAAPzc3RibAAAALNzdHNkAAAAAAAAAAEAAACjYXZjMQAAAAAAAAABAAAAAAAA\n",
       "AAAAAAAAAAAAAAIAAgAASAAAAEgAAAAAAAAAAQAAAAAAAAAAAAAAAAAAAAAAAAAAAAAAAAAAAAAA\n",
       "AAAAABj//wAAADFhdmNDAWQAFv/hABhnZAAWrNlAgBBoQAAAAwBAAAAFA8WLZYABAAZo6+PLIsAA\n",
       "AAAcdXVpZGtoQPJfJE/FujmlG88DI/MAAAAAAAAAGHN0dHMAAAAAAAAAAQAAADwAAAQAAAAAFHN0\n",
       "c3MAAAAAAAAAAQAAAAEAAAHYY3R0cwAAAAAAAAA5AAAAAQAACAAAAAABAAAUAAAAAAEAAAgAAAAA\n",
       "AQAAAAAAAAABAAAEAAAAAAEAAAwAAAAAAQAABAAAAAABAAAUAAAAAAEAAAgAAAAAAQAAAAAAAAAB\n",
       "AAAEAAAAAAEAAAgAAAAAAQAAEAAAAAACAAAEAAAAAAEAAAwAAAAAAQAABAAAAAABAAAUAAAAAAEA\n",
       "AAgAAAAAAQAAAAAAAAABAAAEAAAAAAEAABQAAAAAAQAACAAAAAABAAAAAAAAAAEAAAQAAAAAAQAA\n",
       "FAAAAAABAAAIAAAAAAEAAAAAAAAAAQAABAAAAAABAAAUAAAAAAEAAAgAAAAAAQAAAAAAAAABAAAE\n",
       "AAAAAAEAABQAAAAAAQAACAAAAAABAAAAAAAAAAEAAAQAAAAAAQAAFAAAAAABAAAIAAAAAAEAAAAA\n",
       "AAAAAQAABAAAAAABAAAQAAAAAAIAAAQAAAAAAQAAFAAAAAABAAAIAAAAAAEAAAAAAAAAAQAABAAA\n",
       "AAABAAAQAAAAAAIAAAQAAAAAAQAAFAAAAAABAAAIAAAAAAEAAAAAAAAAAQAABAAAAAABAAAUAAAA\n",
       "AAEAAAgAAAAAAQAAAAAAAAABAAAEAAAAAAEAAAgAAAAAHHN0c2MAAAAAAAAAAQAAAAEAAAA8AAAA\n",
       "AQAAAQRzdHN6AAAAAAAAAAAAAAA8AAAZsQAACrQAAAPtAAABYgAAATUAAATxAAAB+QAAC1EAAAF4\n",
       "AAABkwAAAVMAAARaAAAKLAAAAUgAAAFzAAANQQAAAT8AAAm4AAABOgAAAj4AAAHRAAAMHwAABDAA\n",
       "AAFqAAABSwAAEQEAAAGQAAACDAAAAV4AAA7zAAABUwAAAWIAAAEfAAAVAgAAASgAAAEzAAACjQAA\n",
       "EG8AAAFMAAABGwAAATMAAAsLAAABNgAAATAAABQAAAABeQAAARsAAAEdAAAPPgAAAgsAAAJMAAAI\n",
       "UAAAAa8AAAF9AAABcQAACGoAAAHOAAADNwAAAa4AAAMNAAAAFHN0Y28AAAAAAAAAAQAAACwAAABi\n",
       "dWR0YQAAAFptZXRhAAAAAAAAACFoZGxyAAAAAAAAAABtZGlyYXBwbAAAAAAAAAAAAAAAAC1pbHN0\n",
       "AAAAJal0b28AAAAdZGF0YQAAAAEAAAAATGF2ZjU4LjI5LjEwMA==\n",
       "\">\n",
       "  Your browser does not support the video tag.\n",
       "</video>"
      ],
      "text/plain": [
       "<IPython.core.display.HTML object>"
      ]
     },
     "metadata": {},
     "output_type": "display_data"
    }
   ],
   "source": [
    "# アニメーションの描画\n",
    "fig, ax = plt.subplots(figsize=(4, 4), dpi=128)\n",
    "ax.set(xticks=[], yticks=[])\n",
    "\n",
    "# 各フレームの描画\n",
    "draw = []\n",
    "for i, f in enumerate(frames):\n",
    "    ims = plt.imshow(f)\n",
    "    draw.append([ims])\n",
    "\n",
    "# アニメーションの作成\n",
    "ani = ArtistAnimation(fig, draw, interval=100, blit=True)\n",
    "html = display.HTML(ani.to_html5_video())\n",
    "display.display(html)\n",
    "\n",
    "# Matplotlibのウィンドウを閉じる\n",
    "plt.close()"
   ]
  },
  {
   "cell_type": "markdown",
   "metadata": {
    "editable": true,
    "slideshow": {
     "slide_type": ""
    },
    "tags": []
   },
   "source": [
    "最終的な状態において、黒番、白番がそれぞれ何個のセルを専有しているかは`count`関数により計算できる。"
   ]
  },
  {
   "cell_type": "code",
   "execution_count": null,
   "metadata": {
    "editable": true,
    "slideshow": {
     "slide_type": ""
    },
    "tags": []
   },
   "outputs": [
    {
     "name": "stdout",
     "output_type": "stream",
     "text": [
      "#black: 28\n",
      "#white: 36\n"
     ]
    }
   ],
   "source": [
    "print(\"#black:\", env.count(Player.BLACK))\n",
    "print(\"#white:\", env.count(Player.WHITE))"
   ]
  },
  {
   "cell_type": "markdown",
   "metadata": {
    "editable": true,
    "slideshow": {
     "slide_type": ""
    },
    "tags": []
   },
   "source": [
    "最後に、両者ランダムに着手する場合に1000回対戦すると、どの程度の勝敗になるのかを調べてみる。ランダム対戦には少々時間がかかるため、以下のコードでは、`joblib`を用いて、並列実行により同時に複数の対局を行なっている。"
   ]
  },
  {
   "cell_type": "code",
   "execution_count": null,
   "metadata": {
    "editable": true,
    "slideshow": {
     "slide_type": ""
    },
    "tags": []
   },
   "outputs": [
    {
     "data": {
      "application/vnd.jupyter.widget-view+json": {
       "model_id": "8ba143d9c4234cc3b944f8a26e9bd405",
       "version_major": 2,
       "version_minor": 0
      },
      "text/plain": [
       "  0%|          | 0/1000 [00:00<?, ?it/s]"
      ]
     },
     "metadata": {},
     "output_type": "display_data"
    }
   ],
   "source": [
    "def match():\n",
    "    # ゲームのリセット\n",
    "    env = othello.make()\n",
    "    env.reset()\n",
    "\n",
    "    # エピソード開始\n",
    "    while not env.is_done():\n",
    "        # 有効手の列挙\n",
    "        actions = env.legal_actions()\n",
    "\n",
    "        # 着手可能な手があればランダムに1つを選ぶ\n",
    "        action = np.random.choice(actions)\n",
    "\n",
    "        # 着手による盤の状態の更新\n",
    "        env.update(action)\n",
    "\n",
    "    n_black = env.count(Player.BLACK)\n",
    "    n_white = env.count(Player.WHITE)\n",
    "    return n_black, n_white\n",
    "\n",
    "\n",
    "b_win = 0\n",
    "w_win = 0\n",
    "draw = 0\n",
    "\n",
    "chunksize = 32\n",
    "pbar = tqdm(total=n_episodes)\n",
    "for i in range(0, n_episodes, chunksize):\n",
    "    chunk = min(n_episodes - i, chunksize)\n",
    "    result = joblib.Parallel(n_jobs=n_jobs)(\n",
    "        (joblib.delayed(match)() for _ in range(chunk)),\n",
    "    )\n",
    "\n",
    "    result = np.array(result, dtype=\"int32\")\n",
    "    b_win += np.sum(result[:, 0] > result[:, 1])\n",
    "    w_win += np.sum(result[:, 0] < result[:, 1])\n",
    "    draw += np.sum(result[:, 0] == result[:, 1])\n",
    "    pbar.set_description(f\"B:{b_win:d}, W:{w_win:d}, D:{draw:d}\")\n",
    "    pbar.update(chunk)\n",
    "\n",
    "pbar.close()"
   ]
  },
  {
   "cell_type": "code",
   "execution_count": null,
   "metadata": {
    "editable": true,
    "slideshow": {
     "slide_type": ""
    },
    "tags": [
     "remove-cell"
    ]
   },
   "outputs": [
    {
     "data": {
      "text/plain": [
       "458"
      ]
     },
     "metadata": {
      "scrapbook": {
       "mime_prefix": "",
       "name": "rand_b_win"
      }
     },
     "output_type": "display_data"
    },
    {
     "data": {
      "text/plain": [
       "486"
      ]
     },
     "metadata": {
      "scrapbook": {
       "mime_prefix": "",
       "name": "rand_w_win"
      }
     },
     "output_type": "display_data"
    },
    {
     "data": {
      "text/plain": [
       "56"
      ]
     },
     "metadata": {
      "scrapbook": {
       "mime_prefix": "",
       "name": "rand_draw"
      }
     },
     "output_type": "display_data"
    }
   ],
   "source": [
    "glue(\"rand_b_win\", b_win)\n",
    "glue(\"rand_w_win\", w_win)\n",
    "glue(\"rand_draw\", draw)"
   ]
  },
  {
   "cell_type": "markdown",
   "metadata": {
    "editable": true,
    "slideshow": {
     "slide_type": ""
    },
    "tags": []
   },
   "source": [
    "**対局結果: ランダム vs ランダム**\n",
    "- 黒番勝ち: {glue:}`rand_b_win`\n",
    "- 白番勝ち: {glue:}`rand_w_win`\n",
    "- 引き分け: {glue:}`rand_draw`"
   ]
  },
  {
   "cell_type": "markdown",
   "metadata": {
    "editable": true,
    "slideshow": {
     "slide_type": ""
    },
    "tags": []
   },
   "source": [
    "このようにランダムな着手では当然ながら、勝率はおよそ五分五分になる。ただし、オセロは後手である白番の方が若干有利であると言われており、ランダムに着手した場合には白番の勝率がやや高くなっている。\n",
    "\n",
    "以後は、この着手の方法を改良していき、より高い勝率を目指してみる。以下、利便性のために、ランダムに着手する関数として`action_by_random`を作成しておく。"
   ]
  },
  {
   "cell_type": "code",
   "execution_count": null,
   "metadata": {
    "editable": true,
    "slideshow": {
     "slide_type": ""
    },
    "tags": []
   },
   "outputs": [],
   "source": [
    "def action_by_random(env):\n",
    "    \"\"\"有効手の中からランダムに手を選ぶ\"\"\"\n",
    "    actions = env.legal_actions()\n",
    "    return np.random.choice(actions)"
   ]
  },
  {
   "cell_type": "markdown",
   "metadata": {
    "editable": true,
    "slideshow": {
     "slide_type": ""
    },
    "tags": []
   },
   "source": [
    ":::{admonition} オセロが解けた？\n",
    ":class: note\n",
    "\n",
    "2023年10月に「Othello is Solved」という衝撃的なタイトルの論文が、プレプリント投稿サイトのarXivに公開された。この論文は、オセロゲームが「弱解決」したことを示している論文で、「弱解決」とは両対局者が常に最善の手を指し続けると、結果がどうなるかが解析できたことを示す。\n",
    "\n",
    "人間の体感としては後手の方が(最後にディスクをおけるという意味で)若干有利のように感じるが、この論文によれば、オセロは、**両者が最善手を指し続けると引き分けになる**そうだ。興味のある読者は是非、以下の原著を読んでみてほしい。\n",
    "\n",
    "Othello is Solved: <https://arxiv.org/abs/2310.19387>\n",
    ":::"
   ]
  },
  {
   "cell_type": "markdown",
   "metadata": {
    "editable": true,
    "slideshow": {
     "slide_type": ""
    },
    "tags": []
   },
   "source": [
    "## セル評価値を用いた着手"
   ]
  },
  {
   "cell_type": "markdown",
   "metadata": {
    "editable": true,
    "slideshow": {
     "slide_type": ""
    },
    "tags": []
   },
   "source": [
    "人間(の初心者)がオセロを指すときに最初に覚えることと言えば、角が取れるように着手を調整する、ということだろう。\n",
    "\n",
    "角のセルは一度ディスクを置いてしまえば、それ以降、相手に取られることがなく、また縁の領域にあるディスクを一度に多くひっくり返すこともできるため、角にディスクを置くことができれば有利になることが多い。\n",
    "\n",
    "一方で、角のセルに隣接するセルにディスクを置くと、相手に角を取られる可能性が出てくるので、角に隣接するセルにはできる限りディスクを置かない方が良いことが分かる。\n",
    "\n",
    "このような人間の経験則に従って、各セルにディスクを置くことが、どのくらい得でどのくらい損なのかを表わす評価値を以下のように定義する。"
   ]
  },
  {
   "cell_type": "code",
   "execution_count": null,
   "metadata": {
    "editable": true,
    "slideshow": {
     "slide_type": ""
    },
    "tags": []
   },
   "outputs": [],
   "source": [
    "SCORE_BOARD = np.array(\n",
    "    [\n",
    "        [120, -20, 20, 5, 5, 20, -20, 120],\n",
    "        [-20, -40, -5, -5, -5, -5, -40, -20],\n",
    "        [20, -5, 15, 3, 3, 15, -5, 20],\n",
    "        [5, -5, 3, 0, 0, 3, -5, 5],\n",
    "        [5, -5, 3, 0, 0, 3, -5, 5],\n",
    "        [20, -5, 15, 3, 3, 15, -5, 20],\n",
    "        [-20, -40, -5, -5, -5, -5, -40, -20],\n",
    "        [120, -20, 20, 5, 5, 20, -20, 120],\n",
    "    ],\n",
    "    dtype=\"int32\",\n",
    ")"
   ]
  },
  {
   "cell_type": "code",
   "execution_count": null,
   "metadata": {
    "editable": true,
    "slideshow": {
     "slide_type": ""
    },
    "tags": [
     "remove-input"
    ]
   },
   "outputs": [
    {
     "data": {
      "application/papermill.record/image/png": "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",
      "application/papermill.record/text/plain": "<Figure size 960x720 with 1 Axes>"
     },
     "metadata": {
      "scrapbook": {
       "mime_prefix": "application/papermill.record/",
       "name": "cell_scores"
      }
     },
     "output_type": "display_data"
    }
   ],
   "source": [
    "fig, ax = plt.subplots()\n",
    "\n",
    "ax.set_xticks(np.arange(0, 8))\n",
    "ax.set_yticks(np.arange(0, 8))\n",
    "ax.set_xticklabels(np.arange(1, 9))\n",
    "ax.set_yticklabels(np.arange(1, 9))\n",
    "\n",
    "ax.set_xticks(np.arange(1, 9) - 0.5, minor=True)\n",
    "ax.set_yticks(np.arange(1, 9) - 0.5, minor=True)\n",
    "\n",
    "ax.imshow(SCORE_BOARD, cmap=\"tab20\", interpolation=None)\n",
    "for (i, j), z in np.ndenumerate(SCORE_BOARD):\n",
    "    txt = ax.text(j, i, \"{:d}\".format(z), ha=\"center\", va=\"center\", color=\"k\", fontsize=15)\n",
    "\n",
    "ax.grid(which=\"minor\", color=\"k\", linestyle=\"-\", linewidth=0.5)\n",
    "ax.xaxis.tick_top()\n",
    "\n",
    "glue(\"cell_scores\", fig, display=False)\n",
    "plt.close()"
   ]
  },
  {
   "cell_type": "markdown",
   "metadata": {
    "editable": true,
    "slideshow": {
     "slide_type": ""
    },
    "tags": []
   },
   "source": [
    "```{glue:figure} cell_scores\n",
    ":figwidth: 512px\n",
    ":name: \"オセロ盤のセル評価値\"\n",
    "```"
   ]
  },
  {
   "cell_type": "code",
   "execution_count": null,
   "metadata": {
    "editable": true,
    "slideshow": {
     "slide_type": ""
    },
    "tags": []
   },
   "outputs": [],
   "source": [
    "def action_by_score(env):\n",
    "    \"\"\"セル評価値を用いた着手\"\"\"\n",
    "    actions = env.legal_actions()\n",
    "    best_action = actions[0]\n",
    "    best_score = -np.inf\n",
    "    for action in actions:\n",
    "        if action.is_pass():\n",
    "            continue\n",
    "\n",
    "        score = SCORE_BOARD[action.x, action.y]\n",
    "        if best_score < score:\n",
    "            best_action = action\n",
    "            best_score = score\n",
    "\n",
    "    return best_action"
   ]
  },
  {
   "cell_type": "markdown",
   "metadata": {
    "editable": true,
    "slideshow": {
     "slide_type": ""
    },
    "tags": []
   },
   "source": [
    "このルーチンを用いて、先ほどと同様に{glue:}`n_episodes`回の対戦を行ない、ランダムな着手に比べて、どのくらい勝率が上昇するかを見てみよう。"
   ]
  },
  {
   "cell_type": "code",
   "execution_count": null,
   "metadata": {
    "editable": true,
    "slideshow": {
     "slide_type": ""
    },
    "tags": [
     "hide-input"
    ]
   },
   "outputs": [
    {
     "data": {
      "application/vnd.jupyter.widget-view+json": {
       "model_id": "88e39780f06548339d2131ecef15f55f",
       "version_major": 2,
       "version_minor": 0
      },
      "text/plain": [
       "  0%|          | 0/1000 [00:00<?, ?it/s]"
      ]
     },
     "metadata": {},
     "output_type": "display_data"
    }
   ],
   "source": [
    "def match():\n",
    "    \"\"\"\n",
    "    対戦を1回行なう\n",
    "    \"\"\"\n",
    "\n",
    "    # ゲームのリセット\n",
    "    env = othello.make()\n",
    "    env.reset()\n",
    "\n",
    "    # エピソード開始\n",
    "    while not env.is_done():\n",
    "        # 黒番:\n",
    "        if env.player == Player.BLACK:\n",
    "            # セル評価値が最も高い場所に着手する\n",
    "            action = action_by_score(env)\n",
    "\n",
    "        # 白番:\n",
    "        elif env.player == Player.WHITE:\n",
    "            # 着手可能な手があればランダムに1つを選ぶ\n",
    "            action = action_by_random(env)\n",
    "\n",
    "        # 着手による盤の状態の更新\n",
    "        env.update(action)\n",
    "\n",
    "    n_black = env.count(Player.BLACK)\n",
    "    n_white = env.count(Player.WHITE)\n",
    "    return n_black, n_white\n",
    "\n",
    "\n",
    "# joblibを用いて並列で対戦を実行\n",
    "b_win = 0\n",
    "w_win = 0\n",
    "draw = 0\n",
    "\n",
    "chunksize = 32\n",
    "pbar = tqdm(total=n_episodes)\n",
    "for i in range(0, n_episodes, chunksize):\n",
    "    chunk = min(n_episodes - i, chunksize)\n",
    "    result = joblib.Parallel(n_jobs=n_jobs)(\n",
    "        (joblib.delayed(match)() for _ in range(chunk)),\n",
    "    )\n",
    "\n",
    "    result = np.array(result, dtype=\"int32\")\n",
    "    b_win += np.sum(result[:, 0] > result[:, 1])\n",
    "    w_win += np.sum(result[:, 0] < result[:, 1])\n",
    "    draw += np.sum(result[:, 0] == result[:, 1])\n",
    "    pbar.set_description(f\"B:{b_win:d}, W:{w_win:d}, D:{draw:d}\")\n",
    "    pbar.update(chunk)\n",
    "\n",
    "pbar.close()"
   ]
  },
  {
   "cell_type": "code",
   "execution_count": null,
   "metadata": {
    "editable": true,
    "slideshow": {
     "slide_type": ""
    },
    "tags": [
     "remove-cell"
    ]
   },
   "outputs": [
    {
     "data": {
      "text/plain": [
       "739"
      ]
     },
     "metadata": {
      "scrapbook": {
       "mime_prefix": "",
       "name": "score_b_win"
      }
     },
     "output_type": "display_data"
    },
    {
     "data": {
      "text/plain": [
       "213"
      ]
     },
     "metadata": {
      "scrapbook": {
       "mime_prefix": "",
       "name": "score_w_win"
      }
     },
     "output_type": "display_data"
    },
    {
     "data": {
      "text/plain": [
       "48"
      ]
     },
     "metadata": {
      "scrapbook": {
       "mime_prefix": "",
       "name": "score_draw"
      }
     },
     "output_type": "display_data"
    }
   ],
   "source": [
    "glue(\"score_b_win\", b_win)\n",
    "glue(\"score_w_win\", w_win)\n",
    "glue(\"score_draw\", draw)"
   ]
  },
  {
   "cell_type": "markdown",
   "metadata": {
    "editable": true,
    "slideshow": {
     "slide_type": ""
    },
    "tags": []
   },
   "source": [
    "**対局結果: セル評価値 vs ランダム**\n",
    "- 黒番勝ち: {glue:}`score_b_win`\n",
    "- 白番勝ち: {glue:}`score_w_win`\n",
    "- 引き分け: {glue:}`score_draw`"
   ]
  },
  {
   "cell_type": "markdown",
   "metadata": {
    "editable": true,
    "slideshow": {
     "slide_type": ""
    },
    "tags": []
   },
   "source": [
    "上記の通り、人間の経験則を導入することでランダムに着手するのと比べて大幅に勝率が上昇していることが分かる。"
   ]
  },
  {
   "cell_type": "markdown",
   "metadata": {
    "editable": true,
    "slideshow": {
     "slide_type": ""
    },
    "tags": []
   },
   "source": [
    "(ssec:minimax)=\n",
    "## ミニマックス探索"
   ]
  },
  {
   "cell_type": "markdown",
   "metadata": {
    "editable": true,
    "slideshow": {
     "slide_type": ""
    },
    "tags": []
   },
   "source": [
    "上記のセル評価値に基づく着手では、今まさに打とうとしている手が、**その時点においてどのくらいの価値を持つのか**だけを考慮していた。\n",
    "\n",
    "しかし、実際には、局面によっては、角に単にセルの評価値が高いディスクに置くよりも、その後、何手か指した後に、より勝ちの高い手が打てるような手も存在するだろう。\n",
    "\n",
    "実際に人間がオセロをプレイするときも、ある程度は「次に相手が何を」してくるかを考えているはずで、その際、**できるだけ自分に得**で**できるだけ相手に損**な手を指すのが良いと考えるだろう。\n",
    "\n",
    "このような考え方に基づいて、手を先読みして着手を探索する手法に**ミニマックス探索**がある (min-max探索ではないので注意)。"
   ]
  },
  {
   "cell_type": "code",
   "execution_count": null,
   "metadata": {
    "editable": true,
    "slideshow": {
     "slide_type": ""
    },
    "tags": []
   },
   "outputs": [],
   "source": [
    "def score_fn(env):\n",
    "    if env.player == Player.BLACK:\n",
    "        return np.sum(env.board * SCORE_BOARD)\n",
    "    else:\n",
    "        return -np.sum(env.board * SCORE_BOARD)\n",
    "\n",
    "\n",
    "def minimax(env, depth):\n",
    "    if depth == 0 or env.is_done():\n",
    "        # ゲームが終了しているか、深さが0に達したら評価値を返す\n",
    "        best_score = score_fn(env)\n",
    "    else:\n",
    "        # 相手にとってのベストスコアを計算\n",
    "        best_score = -np.inf\n",
    "        actions = env.legal_actions()\n",
    "        for action in actions:\n",
    "            env.update(action)\n",
    "            score = minimax(env, depth - 1)\n",
    "            env.undo()\n",
    "            best_score = max(best_score, score)\n",
    "\n",
    "    # 自分にとっては相手のベストスコアは小さい方が良い\n",
    "    return -best_score"
   ]
  },
  {
   "cell_type": "code",
   "execution_count": null,
   "metadata": {
    "editable": true,
    "slideshow": {
     "slide_type": ""
    },
    "tags": []
   },
   "outputs": [],
   "source": [
    "def action_by_minimax(env, depth=2):\n",
    "    \"\"\"ミニマックス法に基づく着手\"\"\"\n",
    "\n",
    "    actions = env.legal_actions()\n",
    "\n",
    "    scores = np.zeros(len(actions))\n",
    "    for i, action in enumerate(actions):\n",
    "        env.update(action)\n",
    "        scores[i] = minimax(env, depth - 1)\n",
    "        env.undo()\n",
    "\n",
    "    return actions[np.argmax(scores)]"
   ]
  },
  {
   "cell_type": "code",
   "execution_count": null,
   "metadata": {
    "editable": true,
    "slideshow": {
     "slide_type": ""
    },
    "tags": [
     "hide-input"
    ]
   },
   "outputs": [
    {
     "data": {
      "application/vnd.jupyter.widget-view+json": {
       "model_id": "0f292e651a4240bf96e7722619c71322",
       "version_major": 2,
       "version_minor": 0
      },
      "text/plain": [
       "  0%|          | 0/1000 [00:00<?, ?it/s]"
      ]
     },
     "metadata": {},
     "output_type": "display_data"
    }
   ],
   "source": [
    "def match():\n",
    "    # ゲームのリセット\n",
    "    env = othello.make()\n",
    "    env.reset()\n",
    "\n",
    "    # エピソード開始\n",
    "    while not env.is_done():\n",
    "        # 黒番:\n",
    "        if env.player == Player.BLACK:\n",
    "            # セル評価値が最も高い場所に着手する\n",
    "            action = action_by_minimax(env)\n",
    "\n",
    "        # 白番:\n",
    "        elif env.player == Player.WHITE:\n",
    "            # 着手可能な手があればランダムに1つを選ぶ\n",
    "            action = action_by_random(env)\n",
    "\n",
    "        # 着手による盤の状態の更新\n",
    "        env.update(action)\n",
    "\n",
    "    n_black = env.count(Player.BLACK)\n",
    "    n_white = env.count(Player.WHITE)\n",
    "    return n_black, n_white\n",
    "\n",
    "\n",
    "b_win = 0\n",
    "w_win = 0\n",
    "draw = 0\n",
    "\n",
    "chunksize = 32\n",
    "pbar = tqdm(total=n_episodes)\n",
    "for i in range(0, n_episodes, chunksize):\n",
    "    chunk = min(n_episodes - i, chunksize)\n",
    "    result = joblib.Parallel(n_jobs=n_jobs)(\n",
    "        (joblib.delayed(match)() for _ in range(chunk)),\n",
    "    )\n",
    "\n",
    "    result = np.array(result, dtype=\"int32\")\n",
    "    b_win += np.sum(result[:, 0] > result[:, 1])\n",
    "    w_win += np.sum(result[:, 0] < result[:, 1])\n",
    "    draw += np.sum(result[:, 0] == result[:, 1])\n",
    "    pbar.set_description(f\"B:{b_win:d}, W:{w_win:d}, D:{draw:d}\")\n",
    "    pbar.update(chunk)\n",
    "\n",
    "pbar.close()"
   ]
  },
  {
   "cell_type": "code",
   "execution_count": null,
   "metadata": {
    "editable": true,
    "slideshow": {
     "slide_type": ""
    },
    "tags": [
     "remove-cell"
    ]
   },
   "outputs": [
    {
     "data": {
      "text/plain": [
       "828"
      ]
     },
     "metadata": {
      "scrapbook": {
       "mime_prefix": "",
       "name": "minimax_b_win"
      }
     },
     "output_type": "display_data"
    },
    {
     "data": {
      "text/plain": [
       "138"
      ]
     },
     "metadata": {
      "scrapbook": {
       "mime_prefix": "",
       "name": "minimax_w_win"
      }
     },
     "output_type": "display_data"
    },
    {
     "data": {
      "text/plain": [
       "34"
      ]
     },
     "metadata": {
      "scrapbook": {
       "mime_prefix": "",
       "name": "minimax_draw"
      }
     },
     "output_type": "display_data"
    }
   ],
   "source": [
    "glue(\"minimax_b_win\", b_win)\n",
    "glue(\"minimax_w_win\", w_win)\n",
    "glue(\"minimax_draw\", draw)"
   ]
  },
  {
   "cell_type": "markdown",
   "metadata": {
    "editable": true,
    "slideshow": {
     "slide_type": ""
    },
    "tags": []
   },
   "source": [
    "**対局結果: ミニマックス vs ランダム**\n",
    "- 黒番勝ち: {glue:}`minimax_b_win`\n",
    "- 白番勝ち: {glue:}`minimax_w_win`\n",
    "- 引き分け: {glue:}`minimax_draw`"
   ]
  },
  {
   "cell_type": "markdown",
   "metadata": {
    "editable": true,
    "slideshow": {
     "slide_type": ""
    },
    "tags": []
   },
   "source": [
    "上記の通り、ミニマックス探索で2手先を読むだけで飛躍的に勝率が上昇していることが分かる。\n",
    "\n",
    "ただし、ミニマックス探索は再帰的に手を探索するため、より多くの手を読もうとすると、かなり多くの時間を要する。実際、ミニマックス探索は「本来探索する必要のない手」も探索しているがために、余計に計算を行なっている。"
   ]
  },
  {
   "cell_type": "markdown",
   "metadata": {
    "editable": true,
    "slideshow": {
     "slide_type": ""
    },
    "tags": []
   },
   "source": [
    "ミニマックス探索は、現在の局面から先の手を読むときに、相手も自分自身に取って最善となるように手を検討する。そのため、相手の手の評価値は検討を進めるに従って**相手にとっての価値は上昇していく**一方で、**自分にとっての価値は減少していく**ことが分かる。\n",
    "\n",
    "従って、今得られている価値が最大の手の評価値より、相手の手の探索中に得られる評価値が小さくなった瞬間に、それ以上手を探索する必要がなくなる。このような原理に基づいて探索の枝刈りを行なう手法に**アルファベータ探索**がある。\n",
    "\n",
    "アルファベータ探索は上記の`minimax`関数を少し改良するだけで実装できるので、練習問題として取り組んでみて、探索の効率が上昇することを確認してほしい。"
   ]
  },
  {
   "cell_type": "markdown",
   "metadata": {},
   "source": [
    "::::{admonition} 問\n",
    ":class: question\n",
    "\n",
    "本文中に示した`minimax`関数を改良して、アルファベータ探索を実装し、その性能をミニマックス探索と比較せよ。\n",
    "\n",
    "::::"
   ]
  },
  {
   "cell_type": "markdown",
   "metadata": {
    "editable": true,
    "slideshow": {
     "slide_type": ""
    },
    "tags": []
   },
   "source": [
    "(ssec:monte-carlo)=\n",
    "## 原始モンテカルロ探索"
   ]
  },
  {
   "cell_type": "markdown",
   "metadata": {
    "editable": true,
    "slideshow": {
     "slide_type": ""
    },
    "tags": []
   },
   "source": [
    "ここまでに紹介したミニマックス法やアルファベータ法は、現在の状態に対して何らかの評価値が既に与えられている場合には有効であるものの、このような評価値を**どのように決定すれば最適なのか**は実際のところ難しい。\n",
    "\n",
    "特に上記の例では、オセロ盤の状態ではなく、セルに対して評価値を与えているが、実際のオセロにおいて、どのセルにディスクを置けばより勝ちに近づくかは、そのときに既に置かれているディスクに依存するだろう。\n",
    "\n",
    "従って、ここまでのセルの評価値に基づく探索には限界があり、**実際に勝てるのかどうか**に基づいた着手を目指す必要があると分かる。しかし、勝ち負けを知るためにはオセロを終局までプレイしなければならない。では、その過程ではどのような手を指せば良いだろうか。"
   ]
  },
  {
   "cell_type": "markdown",
   "metadata": {
    "editable": true,
    "slideshow": {
     "slide_type": ""
    },
    "tags": []
   },
   "source": [
    "**原始モンテカルロ探索**は、モンテカルロ法、すなわちランダムな着手によって、今の**オセロ盤の状態がどの程度、勝ちやすい、負けやすい状態なのかを近似的に推測しながら着手する手法**である。言い換えれば、どのような手が良いのかは一旦おいておいて、**適当に指しても勝ちやすければ、それが勝ちやすい局面**と見なして着手を決定する。\n",
    "\n",
    "今、とあるオセロの局面を考えたとき、着手できる手は通常複数ある。このような複数の手をランダムに指して、どの手がより勝ちに近づくかを推定するのだが、この問題は、まさに**多腕バンディット問題**と同様の問題であることが分かる。多腕バンディット問題においては、どのスロットアームを回すかを最適化していたが、今回はオセロの有効手に対して同様の操作を行なう。"
   ]
  },
  {
   "cell_type": "markdown",
   "metadata": {
    "editable": true,
    "slideshow": {
     "slide_type": ""
    },
    "tags": []
   },
   "source": [
    "まず、とある局面からランダムにプレイを行なって終局まで進める操作を関数として定義しておく。このような操作を**プレアウト**と呼ぶ。"
   ]
  },
  {
   "cell_type": "code",
   "execution_count": null,
   "metadata": {
    "editable": true,
    "slideshow": {
     "slide_type": ""
    },
    "tags": []
   },
   "outputs": [],
   "source": [
    "def playout(env):\n",
    "    \"\"\"ランダムに着手して終局まで進める\"\"\"\n",
    "    while not env.is_done():\n",
    "        actions = env.legal_actions()\n",
    "        action = random.choice(actions)\n",
    "        env.update(action)"
   ]
  },
  {
   "cell_type": "markdown",
   "metadata": {
    "editable": true,
    "slideshow": {
     "slide_type": ""
    },
    "tags": []
   },
   "source": [
    "この関数を呼び出して、とある局面を終局まで進めたとき、今の手番のプレイヤーが勝ちなら **+1点** の報酬を得ることとする。\n",
    "\n",
    "プレイアウトをするべき手は多腕バンディット問題において、良い性能であったUCB1値を用いて選択する。UCB1値の定義を再掲しておく。"
   ]
  },
  {
   "cell_type": "markdown",
   "metadata": {
    "editable": true,
    "slideshow": {
     "slide_type": ""
    },
    "tags": []
   },
   "source": [
    "$$\n",
    "\\text{UCB1}_i = \\frac{n_{i,{\\rm hit}}}{n_{i,{\\rm play}}} + \\sqrt{\\frac{2 \\log(n_{\\rm total})}{n_{i, {\\rm play}}}}\n",
    "$$"
   ]
  },
  {
   "cell_type": "markdown",
   "metadata": {
    "editable": true,
    "slideshow": {
     "slide_type": ""
    },
    "tags": []
   },
   "source": [
    "この定義は多腕バンディット問題用の表記になっているが、これをオセロの着手に置き換えると、個々の変数は以下のものを指す。\n",
    "\n",
    "- $n_{i, {\\rm hit}}$: $i$番目の候補手を指してプレイアウトしたときの勝利回数\n",
    "- $n_{i, {\\rm play}}$: $i$番目の候補手に対してプレイアウトをした回数\n",
    "- $n_{\\rm total}$: 全ての候補手に対するプレイアウト数の合計\n",
    "\n",
    "以下、UCB1値は定義上、$n_{i, {\\rm play}}$ 即ち、各候補手に対するプレイアウト回数が1回以上ないと計算できないので、UCB1を用いた原始モンテカルロ法においては、\n",
    "\n",
    "1. 各候補手に対して1回ずつプレイアウトを実行\n",
    "1. 以下、UCB1値を計算し、その値が最大の候補手に対してプレイアウトを実行\n",
    "\n",
    "という流れでどの候補手が最も勝ちやすいのかを推測していく。\n",
    "\n",
    "このプレイアウト操作を予め決められた回数 (以下の実装では `n_trials=20` 回) 実行したら、プレイアウトされた回数が最大の手が最適な手であると判断する。プレイアウトされた回数が最大である、ということは、UCB1値を用いた探索において、最も有望な手であるということに留意している。"
   ]
  },
  {
   "cell_type": "code",
   "execution_count": null,
   "metadata": {
    "editable": true,
    "slideshow": {
     "slide_type": ""
    },
    "tags": []
   },
   "outputs": [],
   "source": [
    "def action_by_monte_carlo(env, n_trials=20):\n",
    "    \"\"\"\n",
    "    原始モンテカルロ法に基づく着手\n",
    "    \"\"\"\n",
    "\n",
    "    actions = env.legal_actions()\n",
    "    n_wins = [0] * len(actions)\n",
    "    n_checks = [0] * len(actions)\n",
    "    for t in range(n_trials):\n",
    "        # まだ調べていない手があるときはその手を調べる\n",
    "        action_idx = -1\n",
    "        for i, n in enumerate(n_checks):\n",
    "            if n == 0:\n",
    "                action_idx = i\n",
    "                break\n",
    "\n",
    "        # 全ての有効手を最低1回調べたら、UCB1値に基づいて着手\n",
    "        if action_idx < 0:\n",
    "            ucb1_vals = []\n",
    "            for w, n in zip(n_wins, n_checks):\n",
    "                ucb1 = w / n + np.sqrt(2.0 * np.log(t) / n)\n",
    "                ucb1_vals.append(ucb1)\n",
    "            action_idx = np.argmax(ucb1_vals)\n",
    "\n",
    "        # 手を進めてプレイアウトする\n",
    "        env_cpy = env.copy()\n",
    "        env_cpy.update(actions[action_idx])\n",
    "        playout(env_cpy)\n",
    "\n",
    "        # UCB1値計算用のチェック回数と勝利数を更新\n",
    "        n_checks[action_idx] += 1\n",
    "        if env_cpy.is_win(env.player):\n",
    "            n_wins[action_idx] += 1\n",
    "\n",
    "    # プレイアウト回数が最大の手を返す\n",
    "    return actions[np.argmax(n_checks)]"
   ]
  },
  {
   "cell_type": "code",
   "execution_count": null,
   "metadata": {
    "editable": true,
    "slideshow": {
     "slide_type": ""
    },
    "tags": [
     "hide-input"
    ]
   },
   "outputs": [
    {
     "data": {
      "application/vnd.jupyter.widget-view+json": {
       "model_id": "569a839964ef4503999b6357cd2b0993",
       "version_major": 2,
       "version_minor": 0
      },
      "text/plain": [
       "  0%|          | 0/1000 [00:00<?, ?it/s]"
      ]
     },
     "metadata": {},
     "output_type": "display_data"
    }
   ],
   "source": [
    "def match():\n",
    "    # ゲームのリセット\n",
    "    env = othello.make()\n",
    "    env.reset()\n",
    "\n",
    "    # エピソード開始\n",
    "    while not env.is_done():\n",
    "        # 黒番: 原始モンテカルロ探索\n",
    "        if env.player == Player.BLACK:\n",
    "            action = action_by_monte_carlo(env, n_trials=20)\n",
    "\n",
    "        # 白番: ランダム\n",
    "        elif env.player == Player.WHITE:\n",
    "            action = action_by_random(env)\n",
    "\n",
    "        # 着手による盤の状態の更新\n",
    "        env.update(action)\n",
    "\n",
    "    n_black = env.count(Player.BLACK)\n",
    "    n_white = env.count(Player.WHITE)\n",
    "    return n_black, n_white\n",
    "\n",
    "\n",
    "b_win = 0\n",
    "w_win = 0\n",
    "draw = 0\n",
    "\n",
    "chunksize = 32\n",
    "pbar = tqdm(total=n_episodes)\n",
    "for i in range(0, n_episodes, chunksize):\n",
    "    chunk = min(n_episodes - i, chunksize)\n",
    "    result = joblib.Parallel(n_jobs=n_jobs)(\n",
    "        (joblib.delayed(match)() for _ in range(chunk)),\n",
    "    )\n",
    "\n",
    "    result = np.array(result, dtype=\"int32\")\n",
    "    b_win += np.sum(result[:, 0] > result[:, 1])\n",
    "    w_win += np.sum(result[:, 0] < result[:, 1])\n",
    "    draw += np.sum(result[:, 0] == result[:, 1])\n",
    "    pbar.set_description(f\"B:{b_win:d}, W:{w_win:d}, D:{draw:d}\")\n",
    "    pbar.update(chunk)\n",
    "\n",
    "pbar.close()"
   ]
  },
  {
   "cell_type": "code",
   "execution_count": null,
   "metadata": {
    "editable": true,
    "slideshow": {
     "slide_type": ""
    },
    "tags": [
     "remove-cell"
    ]
   },
   "outputs": [
    {
     "data": {
      "text/plain": [
       "882"
      ]
     },
     "metadata": {
      "scrapbook": {
       "mime_prefix": "",
       "name": "mc_b_win"
      }
     },
     "output_type": "display_data"
    },
    {
     "data": {
      "text/plain": [
       "107"
      ]
     },
     "metadata": {
      "scrapbook": {
       "mime_prefix": "",
       "name": "mc_w_win"
      }
     },
     "output_type": "display_data"
    },
    {
     "data": {
      "text/plain": [
       "11"
      ]
     },
     "metadata": {
      "scrapbook": {
       "mime_prefix": "",
       "name": "mc_draw"
      }
     },
     "output_type": "display_data"
    }
   ],
   "source": [
    "glue(\"mc_b_win\", b_win)\n",
    "glue(\"mc_w_win\", w_win)\n",
    "glue(\"mc_draw\", draw)"
   ]
  },
  {
   "cell_type": "markdown",
   "metadata": {
    "editable": true,
    "slideshow": {
     "slide_type": ""
    },
    "tags": []
   },
   "source": [
    "**対局結果: 原始モンテカルロ vs ランダム**\n",
    "- 黒番勝ち: {glue:}`mc_b_win`\n",
    "- 白番勝ち: {glue:}`mc_w_win`\n",
    "- 引き分け: {glue:}`mc_draw`"
   ]
  },
  {
   "cell_type": "markdown",
   "metadata": {
    "editable": true,
    "slideshow": {
     "slide_type": ""
    },
    "tags": []
   },
   "source": [
    "このように、セル評価値のような人間の前提知識に頼ることなく、原始モンテカルロ法により、高い勝率が得られていることが分かる。\n",
    "\n",
    "しかし、原始モンテカルロ探索をミニマックス探索と対戦させてみると、まだ、その勝率はミニマックス探索に及ばないことが分かる。人間の事前知識は意外にも侮れない。"
   ]
  },
  {
   "cell_type": "code",
   "execution_count": null,
   "metadata": {
    "editable": true,
    "slideshow": {
     "slide_type": ""
    },
    "tags": [
     "hide-input"
    ]
   },
   "outputs": [
    {
     "data": {
      "application/vnd.jupyter.widget-view+json": {
       "model_id": "56cc36b9d65a43c6b6f075cb0a17928a",
       "version_major": 2,
       "version_minor": 0
      },
      "text/plain": [
       "  0%|          | 0/1000 [00:00<?, ?it/s]"
      ]
     },
     "metadata": {},
     "output_type": "display_data"
    }
   ],
   "source": [
    "def match():\n",
    "    # ゲームのリセット\n",
    "    env = othello.make()\n",
    "    env.reset()\n",
    "\n",
    "    # エピソード開始\n",
    "    while not env.is_done():\n",
    "        # 黒番:\n",
    "        if env.player == Player.BLACK:\n",
    "            # 原始モンテカルロ探索\n",
    "            action = action_by_monte_carlo(env)\n",
    "        # 白番:\n",
    "        elif env.player == Player.WHITE:\n",
    "            # ミニマックス探索\n",
    "            action = action_by_minimax(env)\n",
    "\n",
    "        # 着手による盤の状態の更新\n",
    "        env.update(action)\n",
    "\n",
    "    n_black = env.count(Player.BLACK)\n",
    "    n_white = env.count(Player.WHITE)\n",
    "    return n_black, n_white\n",
    "\n",
    "\n",
    "b_win = 0\n",
    "w_win = 0\n",
    "draw = 0\n",
    "\n",
    "chunksize = 32\n",
    "pbar = tqdm(total=n_episodes)\n",
    "for i in range(0, n_episodes, chunksize):\n",
    "    chunk = min(n_episodes - i, chunksize)\n",
    "    result = joblib.Parallel(n_jobs=n_jobs)(\n",
    "        (joblib.delayed(match)() for _ in range(chunk)),\n",
    "    )\n",
    "\n",
    "    result = np.array(result, dtype=\"int32\")\n",
    "    b_win += np.sum(result[:, 0] > result[:, 1])\n",
    "    w_win += np.sum(result[:, 0] < result[:, 1])\n",
    "    draw += np.sum(result[:, 0] == result[:, 1])\n",
    "    pbar.set_description(f\"B:{b_win:d}, W:{w_win:d}, D:{draw:d}\")\n",
    "    pbar.update(chunk)\n",
    "pbar.close()"
   ]
  },
  {
   "cell_type": "code",
   "execution_count": null,
   "metadata": {
    "editable": true,
    "slideshow": {
     "slide_type": ""
    },
    "tags": [
     "remove-cell"
    ]
   },
   "outputs": [
    {
     "data": {
      "text/plain": [
       "366"
      ]
     },
     "metadata": {
      "scrapbook": {
       "mime_prefix": "",
       "name": "mc_vs_minimax_b_win"
      }
     },
     "output_type": "display_data"
    },
    {
     "data": {
      "text/plain": [
       "626"
      ]
     },
     "metadata": {
      "scrapbook": {
       "mime_prefix": "",
       "name": "mc_vs_minimax_w_win"
      }
     },
     "output_type": "display_data"
    },
    {
     "data": {
      "text/plain": [
       "8"
      ]
     },
     "metadata": {
      "scrapbook": {
       "mime_prefix": "",
       "name": "mc_vs_minimax_draw"
      }
     },
     "output_type": "display_data"
    }
   ],
   "source": [
    "glue(\"mc_vs_minimax_b_win\", b_win)\n",
    "glue(\"mc_vs_minimax_w_win\", w_win)\n",
    "glue(\"mc_vs_minimax_draw\", draw)"
   ]
  },
  {
   "cell_type": "markdown",
   "metadata": {
    "editable": true,
    "slideshow": {
     "slide_type": ""
    },
    "tags": []
   },
   "source": [
    "**対局結果: 原始モンテカルロ(黒番) vs ミニマックス (白番)**\n",
    "- 黒番勝ち: {glue:}`mc_vs_minimax_b_win`\n",
    "- 白番勝ち: {glue:}`mc_vs_minimax_w_win`\n",
    "- 引き分け: {glue:}`mc_vs_minimax_draw`"
   ]
  },
  {
   "cell_type": "markdown",
   "metadata": {
    "editable": true,
    "slideshow": {
     "slide_type": ""
    },
    "tags": []
   },
   "source": [
    "## モンテカルロ木探索"
   ]
  },
  {
   "cell_type": "markdown",
   "metadata": {
    "editable": true,
    "slideshow": {
     "slide_type": ""
    },
    "tags": []
   },
   "source": [
    "原始モンテカルロの弱点は、**自分の候補手に対してしか有望な手を考えていない**という点にある。原始モンテカルロにおいては、自分が候補手を指したあとは**自分も相手もランダムに着手する**と仮定しているが、実際の対局においては、自分も相手も、より勝ちやすい手を指すのが普通だろう。\n",
    "\n",
    "**モンテカルロ木探索**は、上記の問題を解決するために、自分に対しても相手に対しても原始モンテカルロ同様にUCB1値に基づいて最善手を推定する手法である。\n",
    "\n",
    "ここで「木探索」という用語が出てくるが、モンテカルロ木探索では[ゲーム木](https://ja.wikipedia.org/wiki/%E3%82%B2%E3%83%BC%E3%83%A0%E6%9C%A8)と呼ばれる木構造の中で手を探索する。ゲーム木では「局面を表すノード」が「その局面における候補手を指すことで得られる次局面を表すノード」とツリー状に接続されている。\n",
    "\n",
    "UCB1値を使って候補手の探索を行なう場合、この木構造を特に**UCT** (Upper Confidence Tree)と呼ぶ。"
   ]
  },
  {
   "cell_type": "markdown",
   "metadata": {
    "editable": true,
    "slideshow": {
     "slide_type": ""
    },
    "tags": []
   },
   "source": [
    "以下の`action_by_mcts`関数は、今の局面 `env`に対してUCTの根ノードを作成し、候補手に対応する子ノードを探索するものである。"
   ]
  },
  {
   "cell_type": "code",
   "execution_count": null,
   "metadata": {
    "editable": true,
    "slideshow": {
     "slide_type": ""
    },
    "tags": []
   },
   "outputs": [],
   "source": [
    "def action_by_mcts(env, n_trials=20):\n",
    "    \"\"\"\n",
    "    モンテカルロ木探索に基づく着手\n",
    "    \"\"\"\n",
    "\n",
    "    # ノードと直接の子ノードの作成\n",
    "    root_node = UctNode(env)\n",
    "    root_node.expand_child_nodes()\n",
    "\n",
    "    # 評価を繰り返す\n",
    "    for _ in range(n_trials):\n",
    "        root_node.evaluate()\n",
    "\n",
    "    # 最も評価回数の多いノードを選ぶ\n",
    "    n_list = []\n",
    "    for node in root_node.child_nodes:\n",
    "        n_list.append(node.n_check)\n",
    "\n",
    "    actions = env.legal_actions()\n",
    "    return actions[np.argmax(n_list)]"
   ]
  },
  {
   "cell_type": "markdown",
   "metadata": {
    "editable": true,
    "slideshow": {
     "slide_type": ""
    },
    "tags": []
   },
   "source": [
    "具体的な実装は後述するが、まずはおおまかなモンテカルロ木探索のアルゴリズムの流れについて見ていこう。\n",
    "\n",
    "`action_by_mcts`関数の中では、現在の局面 `env`に対応する `root_node`を作成した後、`expand_child_nodes`を呼び出して、候補手に対するUCTのノードを作成している。\n",
    "\n",
    "その後、`root_node`に対して `evaluate`関数を呼び出し、候補手のUCB1値に基づく探索を実施する。最後に、最も評価された回数が多い候補手を最善手であるとして選択する。\n",
    "\n",
    "以上のように子ノードの展開 (`expand_child_nodes`)と子ノードのUCB1値に基づく探索 (`evaluate`)を除けば、大きなアルゴリズムの流れは原始モンテカルロ探索と共通していることを確認してほしい。"
   ]
  },
  {
   "cell_type": "markdown",
   "metadata": {
    "editable": true,
    "slideshow": {
     "slide_type": ""
    },
    "tags": []
   },
   "source": [
    "では、上記の流れを踏まえて、UCTのノードの実装を見ていこう。以下はやや長いコードになるが、全体の実装を掲載した後で、各メソッドに解説を加えていく。"
   ]
  },
  {
   "cell_type": "code",
   "execution_count": null,
   "metadata": {
    "editable": true,
    "slideshow": {
     "slide_type": ""
    },
    "tags": []
   },
   "outputs": [],
   "source": [
    "class UctNode(object):\n",
    "    \"\"\"\n",
    "    UCB1値を用いた子ノードの探索を行うノード\n",
    "    \"\"\"\n",
    "\n",
    "    # 子ノードを展開するまでのチェック回数\n",
    "    N_VALID_CHECKS = 10\n",
    "\n",
    "    def __init__(self, env):\n",
    "        self.player = env.player\n",
    "        self.env = env.copy()\n",
    "        self.n_check = 0\n",
    "        self.value = 0\n",
    "        self.child_nodes = []\n",
    "\n",
    "    def evaluate(self):\n",
    "        \"\"\"\n",
    "        現在の盤に対する最善手を探索し、評価値を算出\n",
    "        \"\"\"\n",
    "\n",
    "        if self.env.is_done():\n",
    "            # ゲーム終了なら勝敗に応じて報酬を返す\n",
    "            if self.env.is_win(self.player):\n",
    "                value = 1\n",
    "            elif self.env.is_lose(self.player):\n",
    "                value = -1\n",
    "            else:\n",
    "                value = 0\n",
    "\n",
    "            self.value += value\n",
    "            self.n_check += 1\n",
    "            return value\n",
    "\n",
    "        elif len(self.child_nodes) == 0:\n",
    "            # 評価回数が不十分ならプレイアウトをして報酬を計算\n",
    "            value = self.playout()\n",
    "            self.value += value\n",
    "            self.n_check += 1\n",
    "\n",
    "            # チェック回数が十分になったら子ノードを展開する\n",
    "            if self.n_check >= self.N_VALID_CHECKS:\n",
    "                self.expand_child_nodes()\n",
    "\n",
    "            return value\n",
    "\n",
    "        else:\n",
    "            # 子ノードがあればUCB1値に基づいて相手の手を選択・評価\n",
    "            value = -self.choose_next_action().evaluate()\n",
    "            self.value += value\n",
    "            self.n_check += 1\n",
    "\n",
    "            return value\n",
    "\n",
    "    def playout(self):\n",
    "        \"\"\"\n",
    "        ランダムにプレイアウトをして評価値を取得\n",
    "        \"\"\"\n",
    "\n",
    "        env = self.env.copy()\n",
    "        while not env.is_done():\n",
    "            actions = env.legal_actions()\n",
    "            action = np.random.choice(actions)\n",
    "            env.update(action)\n",
    "\n",
    "        if env.is_win(self.player):\n",
    "            return 1\n",
    "        elif env.is_lose(self.player):\n",
    "            return -1\n",
    "        else:\n",
    "            return 0\n",
    "\n",
    "    def expand_child_nodes(self):\n",
    "        \"\"\"\n",
    "        次の候補手に対応する子ノードを作成する\n",
    "        \"\"\"\n",
    "\n",
    "        actions = self.env.legal_actions()\n",
    "        for a in actions:\n",
    "            self.env.update(a)\n",
    "            new_node = UctNode(self.env)\n",
    "            self.child_nodes.append(new_node)\n",
    "            self.env.undo()\n",
    "\n",
    "    def choose_next_action(self):\n",
    "        \"\"\"\n",
    "        プレイアウトを実施する候補手の選択\n",
    "        \"\"\"\n",
    "\n",
    "        # 評価回数が0回のノードがあったら、それを返す\n",
    "        # (そうしないとUCB1値が計算できない)\n",
    "        for node in self.child_nodes:\n",
    "            if node.n_check == 0:\n",
    "                return node\n",
    "\n",
    "        # 子ノードの総評価回数\n",
    "        t = 0\n",
    "        for node in self.child_nodes:\n",
    "            t += node.n_check\n",
    "\n",
    "        # UCB1値の計算\n",
    "        ucb1_values = []\n",
    "        for node in self.child_nodes:\n",
    "            # 子ノードの評価値は相手の手の評価値なので-1を掛けていることに注意\n",
    "            ucb1 = -node.value / node.n_check + np.sqrt(2.0 * np.log(t) / node.n_check)\n",
    "            ucb1_values.append(ucb1)\n",
    "\n",
    "        return self.child_nodes[np.argmax(ucb1_values)]"
   ]
  },
  {
   "cell_type": "markdown",
   "metadata": {
    "editable": true,
    "slideshow": {
     "slide_type": ""
    },
    "tags": []
   },
   "source": [
    "`UctNode`のコンストラクタである `__init__` では、候補手の探索に必要な諸変数を初期化している。この中で、子ノードの配列は`child_nodes`であり、現在のノードの総評価回数が`n_checks`、子ノードの探索に基づく評価値 (本実装では総勝利回数)を`value`に格納している。"
   ]
  },
  {
   "cell_type": "markdown",
   "metadata": {
    "editable": true,
    "slideshow": {
     "slide_type": ""
    },
    "tags": []
   },
   "source": [
    "`evlauate`関数は、子ノードの探索に基づいて、現在のノードの評価値を算出する関数である。この評価値の探索には、以下の3つのパターンが考えられる。\n",
    "\n",
    "1. 盤の状態が終局に達している → 勝ち負けに基づいて評価値を計算\n",
    "2. プレイアウトによる価値評価回数が不十分 → 現局面からプレイアウトして局面を評価\n",
    "3. プレイアウトによる価値評価回数が十分 → 有望な候補手である可能性が高いので、子ノードを更に探索\n",
    "\n",
    "まずは、盤の状態が終局に達している場合で、これ以上プレイアウトが実行できないので、単純に勝ち負けに基づいて評価値を算出する。\n",
    "\n",
    "終局に達していない場合には、手の探索を行って価値評価を行なうことになるが、ここで、ノードの評価回数に基づいて処理を分ける。今、とある盤の評価回数が一定以上である、ということは、**その盤状態に至る着手がそれなりに有望である**ことを意味している。逆に評価回数が一定以下であるときには、**その盤状態に至る着手が有望かどうか判断しかねる**状況であると言える。\n",
    "\n",
    "子ノードを展開すると、評価しなければならないノード数が増加して、その分だけ他のノードの評価回数が減ってしまうので、できる限り有望な手に対してだけ、その後の局面を評価する方が望ましい。従って、上記の`evaluate`関数では、評価回数が一定以上 (`N_VALID_CHECKS=10`以上)の時だけ、子ノードを作成・探索するようにしている。"
   ]
  },
  {
   "cell_type": "markdown",
   "metadata": {
    "editable": true,
    "slideshow": {
     "slide_type": ""
    },
    "tags": []
   },
   "source": [
    "`playout`関数は原始モンテカルロ探索で用いた同名の関数を改良し、直接勝ち負けに基づいた評価値を返すようにしたものである。"
   ]
  },
  {
   "cell_type": "markdown",
   "metadata": {
    "editable": true,
    "slideshow": {
     "slide_type": ""
    },
    "tags": []
   },
   "source": [
    "`expand_child_nodes`関数は、現在の局面における候補手を列挙して、その手に対応するノードを作成する関数である。この際、次の局面を調べるために`env`の`update`と`undo`がペアで呼び出されていることに注意してほしい。"
   ]
  },
  {
   "cell_type": "markdown",
   "metadata": {
    "editable": true,
    "slideshow": {
     "slide_type": ""
    },
    "tags": []
   },
   "source": [
    "`choose_next_action`関数はUCB1値に基づいて、どの子ノードに対して評価を実施するかを決定する関数である。原始モンテカルロの時と同様、UCB1値は全ての子ノードの評価回数が最低1回はないといけないので、まず全子ノードの評価を実行し、以後はUCB1値に基づいて、どの子ノードを調べるかを決定している。"
   ]
  },
  {
   "cell_type": "markdown",
   "metadata": {
    "editable": true,
    "slideshow": {
     "slide_type": ""
    },
    "tags": []
   },
   "source": [
    "以上が、モンテカルロ木探索の全体像であるが、再帰的な探索など、やや高度な内容を含むので、何度もコードと解説を読み直して理解に努めてみてほしい。"
   ]
  },
  {
   "cell_type": "markdown",
   "metadata": {
    "editable": true,
    "slideshow": {
     "slide_type": ""
    },
    "tags": []
   },
   "source": [
    "では、このモンテカルロ木探索をミニマックス探索と対戦させて、実力を確かめてみよう。"
   ]
  },
  {
   "cell_type": "code",
   "execution_count": null,
   "metadata": {
    "editable": true,
    "slideshow": {
     "slide_type": ""
    },
    "tags": [
     "hide-input"
    ]
   },
   "outputs": [
    {
     "data": {
      "application/vnd.jupyter.widget-view+json": {
       "model_id": "8f70c8f40d384eddbee12c8507a8997c",
       "version_major": 2,
       "version_minor": 0
      },
      "text/plain": [
       "  0%|          | 0/1000 [00:00<?, ?it/s]"
      ]
     },
     "metadata": {},
     "output_type": "display_data"
    }
   ],
   "source": [
    "def match():\n",
    "    # ゲームのリセット\n",
    "    env = othello.make()\n",
    "    env.reset()\n",
    "\n",
    "    # エピソード開始\n",
    "    while not env.is_done():\n",
    "        # 黒番:\n",
    "        if env.player == Player.BLACK:\n",
    "            # モンテカルロ木探索\n",
    "            action = action_by_mcts(env, n_trials=20)\n",
    "        # 白番:\n",
    "        if env.player == Player.WHITE:\n",
    "            # ミニマックス探索\n",
    "            action = action_by_minimax(env)\n",
    "\n",
    "        # 着手による盤の状態の更新\n",
    "        env.update(action)\n",
    "\n",
    "    n_black = env.count(Player.BLACK)\n",
    "    n_white = env.count(Player.WHITE)\n",
    "    return n_black, n_white\n",
    "\n",
    "\n",
    "b_win = 0\n",
    "w_win = 0\n",
    "draw = 0\n",
    "\n",
    "chunksize = 32\n",
    "pbar = tqdm(total=n_episodes)\n",
    "for i in range(0, n_episodes, chunksize):\n",
    "    chunk = min(n_episodes - i, chunksize)\n",
    "    result = joblib.Parallel(n_jobs=n_jobs)(\n",
    "        (joblib.delayed(match)() for _ in range(chunk)),\n",
    "    )\n",
    "\n",
    "    result = np.array(result, dtype=\"int32\")\n",
    "    b_win += np.sum(result[:, 0] > result[:, 1])\n",
    "    w_win += np.sum(result[:, 0] < result[:, 1])\n",
    "    draw += np.sum(result[:, 0] == result[:, 1])\n",
    "    pbar.set_description(f\"B:{b_win:d}, W:{w_win:d}, D:{draw:d}\")\n",
    "    pbar.update(chunk)\n",
    "\n",
    "pbar.close()"
   ]
  },
  {
   "cell_type": "code",
   "execution_count": null,
   "metadata": {
    "editable": true,
    "slideshow": {
     "slide_type": ""
    },
    "tags": [
     "remove-cell"
    ]
   },
   "outputs": [
    {
     "data": {
      "text/plain": [
       "536"
      ]
     },
     "metadata": {
      "scrapbook": {
       "mime_prefix": "",
       "name": "mcts_b_win"
      }
     },
     "output_type": "display_data"
    },
    {
     "data": {
      "text/plain": [
       "376"
      ]
     },
     "metadata": {
      "scrapbook": {
       "mime_prefix": "",
       "name": "mcts_w_win"
      }
     },
     "output_type": "display_data"
    },
    {
     "data": {
      "text/plain": [
       "88"
      ]
     },
     "metadata": {
      "scrapbook": {
       "mime_prefix": "",
       "name": "mcts_draw"
      }
     },
     "output_type": "display_data"
    }
   ],
   "source": [
    "glue(\"mcts_b_win\", b_win)\n",
    "glue(\"mcts_w_win\", w_win)\n",
    "glue(\"mcts_draw\", draw)"
   ]
  },
  {
   "cell_type": "markdown",
   "metadata": {
    "editable": true,
    "slideshow": {
     "slide_type": ""
    },
    "tags": []
   },
   "source": [
    "**対局結果: モンテカルロ木探索 (黒番) vs ミニマックス (白番)**\n",
    "- 黒番勝ち: {glue:}`mcts_b_win`\n",
    "- 白番勝ち: {glue:}`mcts_w_win`\n",
    "- 引き分け: {glue:}`mcts_draw`"
   ]
  },
  {
   "cell_type": "markdown",
   "metadata": {
    "editable": true,
    "slideshow": {
     "slide_type": ""
    },
    "tags": []
   },
   "source": [
    "上記の通り、相手の手や、その後に続く自分の手に対してもUCB1値に基づく有望手の推定を行なうことで、ミニマックス法と同程度の強さを実現することができた。上記の例では、1手の探索に用いる手の評価回数を `n_trials=20` としているが、この数を増やすと、着手に時間はかかるようになる分、より勝ちやすい手が選べるようになる。"
   ]
  },
  {
   "cell_type": "markdown",
   "metadata": {
    "editable": true,
    "slideshow": {
     "slide_type": ""
    },
    "tags": []
   },
   "source": [
    "::::{admonition} 問\n",
    ":class: question\n",
    "\n",
    "原始モンテカルロ探索やモンテカルロ木探索において、プレイアウトする手の選択方法をUCB1値でない方法 ($\\varepsilon$-greedy法やソフトマックス探索)に置き換えた時、オセロAIの強さはどの程度変化するか調べよ。\n",
    "\n",
    "::::"
   ]
  },
  {
   "cell_type": "code",
   "execution_count": null,
   "metadata": {
    "editable": true,
    "slideshow": {
     "slide_type": ""
    },
    "tags": []
   },
   "outputs": [],
   "source": []
  }
 ],
 "metadata": {
  "kernelspec": {
   "display_name": "sdsadvml-dBAaNFbd-py3.10",
   "language": "python",
   "name": "python3"
  },
  "language_info": {
   "codemirror_mode": {
    "name": "ipython",
    "version": 3
   },
   "file_extension": ".py",
   "mimetype": "text/x-python",
   "name": "python",
   "nbconvert_exporter": "python",
   "pygments_lexer": "ipython3",
   "version": "3.10.10"
  }
 },
 "nbformat": 4,
 "nbformat_minor": 4
}

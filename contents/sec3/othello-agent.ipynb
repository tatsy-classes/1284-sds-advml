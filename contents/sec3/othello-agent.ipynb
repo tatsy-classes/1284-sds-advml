{
 "cells": [
  {
   "cell_type": "markdown",
   "metadata": {
    "editable": true,
    "slideshow": {
     "slide_type": ""
    },
    "tags": []
   },
   "source": [
    "(sec:othello-agent)=\n",
    "# オセロAIの作成"
   ]
  },
  {
   "cell_type": "markdown",
   "metadata": {
    "editable": true,
    "slideshow": {
     "slide_type": ""
    },
    "tags": []
   },
   "source": [
    "ここからは、より高度な強化学習の対象としてオセロを取り扱う。ご存じの通り、オセロは(諸説あるものの)日本で発祥した「はさみ碁」の一種で、白と黒のディスクを8×8の盤の上に並べ、同色で挟まれたディスクを裏返すことで、より多くのマスを獲得した方が勝利するというゲームである。"
   ]
  },
  {
   "cell_type": "markdown",
   "metadata": {
    "editable": true,
    "slideshow": {
     "slide_type": ""
    },
    "tags": []
   },
   "source": [
    "```{note}\n",
    "オセロは日本以外ではリバーシのように呼ばれることがある。リバーシは初期状態として、ディスクが置かれていない状態からスタートするが、オセロは盤の中央に白黒2枚ずつのディスクを置いた状態からスタートする、という違いがある。\n",
    "\n",
    "参考: [オセロ（ボードゲーム）- Wikipedia](https://ja.wikipedia.org/wiki/%E3%82%AA%E3%82%BB%E3%83%AD_(%E3%83%9C%E3%83%BC%E3%83%89%E3%82%B2%E3%83%BC%E3%83%A0))\n",
    "```"
   ]
  },
  {
   "cell_type": "markdown",
   "metadata": {
    "editable": true,
    "slideshow": {
     "slide_type": ""
    },
    "tags": []
   },
   "source": [
    "**Google Colab用の準備**"
   ]
  },
  {
   "cell_type": "code",
   "execution_count": 1,
   "metadata": {
    "editable": true,
    "slideshow": {
     "slide_type": ""
    },
    "tags": [
     "hide-input"
    ]
   },
   "outputs": [
    {
     "name": "stdout",
     "output_type": "stream",
     "text": [
      "You are running the code on the local computer.\n"
     ]
    }
   ],
   "source": [
    "IN_COLAB = True\n",
    "try:\n",
    "    import google.colab\n",
    "\n",
    "    print(\"You are running the code in Google Colab.\")\n",
    "except:\n",
    "    IN_COLAB = False\n",
    "    print(\"You are running the code on the local computer.\")\n",
    "\n",
    "if IN_COLAB:\n",
    "    # Gymnasiumのインストール\n",
    "    !pip install git+https://github.com/tatsy-classes/cothello.git@v2.0.2\n",
    "    pass"
   ]
  },
  {
   "cell_type": "code",
   "execution_count": null,
   "metadata": {
    "editable": true,
    "slideshow": {
     "slide_type": ""
    },
    "tags": [
     "remove-cell"
    ]
   },
   "outputs": [
    {
     "data": {
      "text/plain": [
       "1000"
      ]
     },
     "metadata": {
      "scrapbook": {
       "mime_prefix": "",
       "name": "n_episodes"
      }
     },
     "output_type": "display_data"
    }
   ],
   "source": [
    "import random\n",
    "import contextlib\n",
    "import multiprocessing\n",
    "\n",
    "import numpy as np\n",
    "import joblib\n",
    "import seaborn as sns\n",
    "import IPython.display as display\n",
    "import matplotlib.pyplot as plt\n",
    "from tqdm.notebook import tqdm\n",
    "from matplotlib.animation import ArtistAnimation\n",
    "\n",
    "try:\n",
    "    from myst_nb import glue\n",
    "except ImportError:\n",
    "    glue = lambda *args, **kwargs: None\n",
    "\n",
    "rc = {\"figure.dpi\": 150}\n",
    "sns.set_theme(style=\"white\", rc=rc)\n",
    "\n",
    "# 乱数シードの固定\n",
    "random.seed(12345)\n",
    "np.random.seed(12345)\n",
    "\n",
    "# 実験に用いるエピソード数\n",
    "n_episodes = 1000\n",
    "glue(\"n_episodes\", n_episodes)\n",
    "\n",
    "# 並列化スレッド数\n",
    "n_jobs = min(4, multiprocessing.cpu_count())"
   ]
  },
  {
   "cell_type": "code",
   "execution_count": null,
   "metadata": {
    "editable": true,
    "slideshow": {
     "slide_type": ""
    },
    "tags": [
     "remove-cell"
    ]
   },
   "outputs": [],
   "source": [
    "# joblib用のtqdm\n",
    "@contextlib.contextmanager\n",
    "def tqdm_joblib(total=None, **kwargs):\n",
    "    pbar = tqdm(total=total, miniters=1, smoothing=0, **kwargs)\n",
    "\n",
    "    class TqdmBatchCompletionCallback(joblib.parallel.BatchCompletionCallBack):\n",
    "        def __call__(self, *args, **kwargs):\n",
    "            pbar.update(n=self.batch_size)\n",
    "            return super().__call__(*args, **kwargs)\n",
    "\n",
    "    old_batch_callback = joblib.parallel.BatchCompletionCallBack\n",
    "    joblib.parallel.BatchCompletionCallBack = TqdmBatchCompletionCallback\n",
    "\n",
    "    try:\n",
    "        yield pbar\n",
    "    finally:\n",
    "        joblib.parallel.BatchCompletionCallBack = old_batch_callback\n",
    "        pbar.close()"
   ]
  },
  {
   "cell_type": "markdown",
   "metadata": {
    "editable": true,
    "slideshow": {
     "slide_type": ""
    },
    "tags": []
   },
   "source": [
    "## オセロゲーム環境"
   ]
  },
  {
   "cell_type": "markdown",
   "metadata": {
    "editable": true,
    "slideshow": {
     "slide_type": ""
    },
    "tags": []
   },
   "source": [
    "### オセロモジュールのインストール"
   ]
  },
  {
   "cell_type": "markdown",
   "metadata": {
    "editable": true,
    "slideshow": {
     "slide_type": ""
    },
    "tags": []
   },
   "source": [
    "今回は、講義用に用意したオセロ用のゲーム環境を用いる。ゲーム環境用のモジュールは以下のURLからダウンロードできる。\n",
    "\n",
    "<https://github.com/tatsy-classes/cothello/releases/>\n",
    "\n",
    "このURLにはPython3.9用のインストールパッケージ (Wheel)がOSごとに用意されている。Windows, Linuxの場合はそれぞれ対応するものを、MacOSの場合はM1, M2等のCPUを持つモデルなら`..._arm64.whl`、そうでない場合は`..._x86_64.whl`をダウンロードする。\n",
    "\n",
    "ダウンロード後、Anacondaの仮想環境を`advml`等の本資料用のものに切り替えた後、WindowsならコマンドプロンプトかPowerShell、Macならターミナルを開いて、以下のコマンドでパッケージをインストールする。\n",
    "\n",
    "```shell\n",
    "# \"xxx\"の部分は自分がダウンロードしたWheelのファイル名に読み替えること\n",
    "pip install xxx.whl\n",
    "```"
   ]
  },
  {
   "cell_type": "markdown",
   "metadata": {
    "editable": true,
    "slideshow": {
     "slide_type": ""
    },
    "tags": []
   },
   "source": [
    "### オセロモジュールの概要"
   ]
  },
  {
   "cell_type": "markdown",
   "metadata": {
    "editable": true,
    "slideshow": {
     "slide_type": ""
    },
    "tags": []
   },
   "source": [
    "このモジュールには大きく分けて、3つのクラスが定義されている。\n",
    "\n",
    "**Env**はオセロゲームを取り扱う環境で、有効手の列挙や盤の状態の更新などの関数を提供する。ただし、`Env`クラスは直接インスタンス化する代わりに、`gymnasium`と同様に環境作成用の`make`関数が用意されているので、こちらを用いる。\n",
    "\n",
    "**Move**はオセロゲームにおける「手」を表わすクラスで、現在のプレイヤーとディスクを置く場所を格納している。\n",
    "\n",
    "**Player**は厳密には列挙型として定義されていて、プレイヤーが黒番なのか白番なのかに加えて、次のプレイヤーに手渡しする関数などが提供されている。\n",
    "\n",
    "まずは、これらをモジュールからインポートして、ゲーム環境を作成してみる。"
   ]
  },
  {
   "cell_type": "code",
   "execution_count": null,
   "metadata": {
    "editable": true,
    "slideshow": {
     "slide_type": ""
    },
    "tags": []
   },
   "outputs": [],
   "source": [
    "# オセロモジュールのインポート\n",
    "import othello\n",
    "from othello import Action, Player"
   ]
  },
  {
   "cell_type": "code",
   "execution_count": null,
   "metadata": {
    "editable": true,
    "slideshow": {
     "slide_type": ""
    },
    "tags": []
   },
   "outputs": [
    {
     "data": {
      "image/png": "[encoded data removed]",
      "text/plain": [
       "+-+-+-+-+-+-+-+-+\n",
       "| | | | | | | | |\n",
       "+-+-+-+-+-+-+-+-+\n",
       "| | | | | | | | |\n",
       "+-+-+-+-+-+-+-+-+\n",
       "| | | | | | | | |\n",
       "+-+-+-+-+-+-+-+-+\n",
       "| | | | | | | | |\n",
       "+-+-+-+-+-+-+-+-+\n",
       "| | | | | | | | |\n",
       "+-+-+-+-+-+-+-+-+\n",
       "| | | | | | | | |\n",
       "+-+-+-+-+-+-+-+-+\n",
       "| | | | | | | | |\n",
       "+-+-+-+-+-+-+-+-+\n",
       "| | | | | | | | |\n",
       "+-+-+-+-+-+-+-+-+"
      ]
     },
     "execution_count": 5,
     "metadata": {},
     "output_type": "execute_result"
    }
   ],
   "source": [
    "# 環境の作成\n",
    "env = othello.make()\n",
    "env"
   ]
  },
  {
   "cell_type": "markdown",
   "metadata": {
    "editable": true,
    "slideshow": {
     "slide_type": ""
    },
    "tags": []
   },
   "source": [
    "上記のように、オセロ環境は初期状態ではディスクが配置されていない。ここでも`gymnasium`と同様に`reset`関数を呼び出すことで、ゲーム環境が初期化される。\n",
    "\n",
    "なお、オセロのプレイヤーや盤の情報などは全て変数`env`の中に`env.player`ならびに`env.board`として格納されており、`gymnasium`と異なっているので注意すること。"
   ]
  },
  {
   "cell_type": "code",
   "execution_count": null,
   "metadata": {
    "editable": true,
    "slideshow": {
     "slide_type": ""
    },
    "tags": []
   },
   "outputs": [],
   "source": [
    "env.reset()"
   ]
  },
  {
   "cell_type": "code",
   "execution_count": null,
   "metadata": {
    "editable": true,
    "slideshow": {
     "slide_type": ""
    },
    "tags": []
   },
   "outputs": [
    {
     "name": "stdout",
     "output_type": "stream",
     "text": [
      "BLACK\n"
     ]
    }
   ],
   "source": [
    "print(env.player)"
   ]
  },
  {
   "cell_type": "code",
   "execution_count": null,
   "metadata": {
    "editable": true,
    "slideshow": {
     "slide_type": ""
    },
    "tags": []
   },
   "outputs": [
    {
     "name": "stdout",
     "output_type": "stream",
     "text": [
      "[[ 0  0  0  0  0  0  0  0]\n",
      " [ 0  0  0  0  0  0  0  0]\n",
      " [ 0  0  0  0  0  0  0  0]\n",
      " [ 0  0  0 -1  1  0  0  0]\n",
      " [ 0  0  0  1 -1  0  0  0]\n",
      " [ 0  0  0  0  0  0  0  0]\n",
      " [ 0  0  0  0  0  0  0  0]\n",
      " [ 0  0  0  0  0  0  0  0]]\n"
     ]
    }
   ],
   "source": [
    "print(env.board)"
   ]
  },
  {
   "cell_type": "markdown",
   "metadata": {
    "editable": true,
    "slideshow": {
     "slide_type": ""
    },
    "tags": []
   },
   "source": [
    "また、Jupyter Notebook環境においては`env`を表示することで盤面を表わす画像が表示されるようになっている。"
   ]
  },
  {
   "cell_type": "code",
   "execution_count": null,
   "metadata": {
    "editable": true,
    "slideshow": {
     "slide_type": ""
    },
    "tags": []
   },
   "outputs": [
    {
     "data": {
      "image/png": "[encoded data removed]",
      "text/plain": [
       "+-+-+-+-+-+-+-+-+\n",
       "| | | | | | | | |\n",
       "+-+-+-+-+-+-+-+-+\n",
       "| | | | | | | | |\n",
       "+-+-+-+-+-+-+-+-+\n",
       "| | | | | | | | |\n",
       "+-+-+-+-+-+-+-+-+\n",
       "| | | |x|o| | | |\n",
       "+-+-+-+-+-+-+-+-+\n",
       "| | | |o|x| | | |\n",
       "+-+-+-+-+-+-+-+-+\n",
       "| | | | | | | | |\n",
       "+-+-+-+-+-+-+-+-+\n",
       "| | | | | | | | |\n",
       "+-+-+-+-+-+-+-+-+\n",
       "| | | | | | | | |\n",
       "+-+-+-+-+-+-+-+-+"
      ]
     },
     "execution_count": 9,
     "metadata": {},
     "output_type": "execute_result"
    }
   ],
   "source": [
    "env"
   ]
  },
  {
   "cell_type": "markdown",
   "metadata": {
    "editable": true,
    "slideshow": {
     "slide_type": ""
    },
    "tags": []
   },
   "source": [
    "## ランダムな着手"
   ]
  },
  {
   "cell_type": "markdown",
   "metadata": {
    "editable": true,
    "slideshow": {
     "slide_type": ""
    },
    "tags": []
   },
   "source": [
    "まずは、オセロ環境の仕様を理解するために、白番、黒番ともにランダムに行動させて、どのように状態が変化するかを見てみよう。\n",
    "\n",
    "`env`には、現在の盤の状態で取ることができる「有効手」の配列を取得する`legal_actions`関数が提供されている。"
   ]
  },
  {
   "cell_type": "code",
   "execution_count": null,
   "metadata": {
    "editable": true,
    "slideshow": {
     "slide_type": ""
    },
    "tags": []
   },
   "outputs": [
    {
     "name": "stdout",
     "output_type": "stream",
     "text": [
      "[BLACK 4 3, BLACK 3 4, BLACK 6 5, BLACK 5 6]\n"
     ]
    }
   ],
   "source": [
    "actions = env.legal_actions()\n",
    "print(actions)"
   ]
  },
  {
   "cell_type": "markdown",
   "metadata": {
    "editable": true,
    "slideshow": {
     "slide_type": ""
    },
    "tags": []
   },
   "source": [
    "上記の出力から、黒番が3行5列、4行6列、5行3列、6行4列の4箇所のいずれかにディスクを置くことができることが分かる。\n",
    "\n",
    "着手を決定したら、`env.update`関数に手を表す変数を渡すと盤の状態が更新される。"
   ]
  },
  {
   "cell_type": "code",
   "execution_count": null,
   "metadata": {
    "editable": true,
    "slideshow": {
     "slide_type": ""
    },
    "tags": []
   },
   "outputs": [],
   "source": [
    "env.update(actions[0])"
   ]
  },
  {
   "cell_type": "code",
   "execution_count": null,
   "metadata": {
    "editable": true,
    "slideshow": {
     "slide_type": ""
    },
    "tags": []
   },
   "outputs": [
    {
     "name": "stdout",
     "output_type": "stream",
     "text": [
      "WHITE\n"
     ]
    }
   ],
   "source": [
    "print(env.player)"
   ]
  },
  {
   "cell_type": "code",
   "execution_count": null,
   "metadata": {
    "editable": true,
    "slideshow": {
     "slide_type": ""
    },
    "tags": []
   },
   "outputs": [
    {
     "name": "stdout",
     "output_type": "stream",
     "text": [
      "[[ 0  0  0  0  0  0  0  0]\n",
      " [ 0  0  0  0  0  0  0  0]\n",
      " [ 0  0  0  1  0  0  0  0]\n",
      " [ 0  0  0  1  1  0  0  0]\n",
      " [ 0  0  0  1 -1  0  0  0]\n",
      " [ 0  0  0  0  0  0  0  0]\n",
      " [ 0  0  0  0  0  0  0  0]\n",
      " [ 0  0  0  0  0  0  0  0]]\n"
     ]
    }
   ],
   "source": [
    "print(env.board)"
   ]
  },
  {
   "cell_type": "markdown",
   "metadata": {
    "editable": true,
    "slideshow": {
     "slide_type": ""
    },
    "tags": []
   },
   "source": [
    "`env`のJupyter Notebook環境における表示により、黒番が3行5列にディスクを置いたことで、着手したセルがハイライトされて、かつ、盤の状態が正しく更新されていることが確認できる。"
   ]
  },
  {
   "cell_type": "code",
   "execution_count": null,
   "metadata": {
    "editable": true,
    "slideshow": {
     "slide_type": ""
    },
    "tags": []
   },
   "outputs": [
    {
     "data": {
      "image/png": "[encoded data removed]",
      "text/plain": [
       "+-+-+-+-+-+-+-+-+\n",
       "| | | | | | | | |\n",
       "+-+-+-+-+-+-+-+-+\n",
       "| | | | | | | | |\n",
       "+-+-+-+-+-+-+-+-+\n",
       "| | | |o| | | | |\n",
       "+-+-+-+-+-+-+-+-+\n",
       "| | | |o|o| | | |\n",
       "+-+-+-+-+-+-+-+-+\n",
       "| | | |o|x| | | |\n",
       "+-+-+-+-+-+-+-+-+\n",
       "| | | | | | | | |\n",
       "+-+-+-+-+-+-+-+-+\n",
       "| | | | | | | | |\n",
       "+-+-+-+-+-+-+-+-+\n",
       "| | | | | | | | |\n",
       "+-+-+-+-+-+-+-+-+"
      ]
     },
     "execution_count": 14,
     "metadata": {},
     "output_type": "execute_result"
    }
   ],
   "source": [
    "env"
   ]
  },
  {
   "cell_type": "markdown",
   "metadata": {
    "editable": true,
    "slideshow": {
     "slide_type": ""
    },
    "tags": []
   },
   "source": [
    "オセロはルール上、着手可能な手がない、すなわちどこにディスクを置いても裏返せる相手方のディスクが存在しない時にはパスをすることになる。\n",
    "\n",
    "有効手が存在しない時には`legal_actions`が長さが1でパスを表す手を含む配列を返してくる。その手 (`Action`)がパスの手かどうかは`is_pass()`で判定できる。"
   ]
  },
  {
   "cell_type": "markdown",
   "metadata": {
    "editable": true,
    "slideshow": {
     "slide_type": ""
    },
    "tags": []
   },
   "source": [
    "これらを踏まえて、黒番、白番ともにランダムに着手させて、盤の状態変化を確認する。"
   ]
  },
  {
   "cell_type": "code",
   "execution_count": null,
   "metadata": {
    "editable": true,
    "slideshow": {
     "slide_type": ""
    },
    "tags": []
   },
   "outputs": [],
   "source": [
    "# ゲームのリセット\n",
    "env.reset()\n",
    "frames = []\n",
    "\n",
    "# エピソード開始\n",
    "while not env.is_done():\n",
    "    # 現在の状態画像を保存\n",
    "    img = env.render()\n",
    "    frames.append(img)\n",
    "\n",
    "    # 有効手の列挙\n",
    "    actions = env.legal_actions()\n",
    "\n",
    "    # 着手可能な手があればランダムに1つを選ぶ\n",
    "    action = np.random.choice(actions)\n",
    "\n",
    "    # 着手による盤の状態の更新\n",
    "    env.update(action)"
   ]
  },
  {
   "cell_type": "code",
   "execution_count": null,
   "metadata": {
    "editable": true,
    "slideshow": {
     "slide_type": ""
    },
    "tags": [
     "hide-input"
    ]
   },
   "outputs": [
    {
     "data": {
      "text/html": [
       "<video width=\"512\" height=\"512\" controls autoplay loop>\n",
       "  <source type=\"video/mp4\" src=\"data:video/mp4;base64,AAAAHGZ0eXBNNFYgAAACAGlzb21pc28yYXZjMQAAAAhmcmVlAAE01G1kYXQAAAKhBgX//53cRem9\n",
       "5tlIt5Ys2CDZI+7veDI2NCAtIGNvcmUgMTUyIC0gSC4yNjQvTVBFRy00IEFWQyBjb2RlYyAtIENv\n",
       "cHlsZWZ0IDIwMDMtMjAxNyAtIGh0dHA6Ly93d3cudmlkZW9sYW4ub3JnL3gyNjQuaHRtbCAtIG9w\n",
       "dGlvbnM6IGNhYmFjPTEgcmVmPTMgZGVibG9jaz0xOjA6MCBhbmFseXNlPTB4MzoweDExMyBtZT1o\n",
       "ZXggc3VibWU9NyBwc3k9MSBwc3lfcmQ9MS4wMDowLjAwIG1peGVkX3JlZj0xIG1lX3JhbmdlPTE2\n",
       "IGNocm9tYV9tZT0xIHRyZWxsaXM9MSA4eDhkY3Q9MSBjcW09MCBkZWFkem9uZT0yMSwxMSBmYXN0\n",
       "X3Bza2lwPTEgY2hyb21hX3FwX29mZnNldD0tMiB0aHJlYWRzPTE1IGxvb2thaGVhZF90aHJlYWRz\n",
       "PTIgc2xpY2VkX3RocmVhZHM9MCBucj0wIGRlY2ltYXRlPTEgaW50ZXJsYWNlZD0wIGJsdXJheV9j\n",
       "b21wYXQ9MCBjb25zdHJhaW5lZF9pbnRyYT0wIGJmcmFtZXM9MyBiX3B5cmFtaWQ9MiBiX2FkYXB0\n",
       "PTEgYl9iaWFzPTAgZGlyZWN0PTEgd2VpZ2h0Yj0xIG9wZW5fZ29wPTAgd2VpZ2h0cD0yIGtleWlu\n",
       "dD0yNTAga2V5aW50X21pbj0xMCBzY2VuZWN1dD00MCBpbnRyYV9yZWZyZXNoPTAgcmNfbG9va2Fo\n",
       "ZWFkPTQwIHJjPWNyZiBtYnRyZWU9MSBjcmY9MjMuMCBxY29tcD0wLjYwIHFwbWluPTAgcXBtYXg9\n",
       "NjkgcXBzdGVwPTQgaXBfcmF0aW89MS40MCBhcT0xOjEuMDAAgAAAFw1liIQAEf/+94gfMstp+TrX\n",
       "chHnrS6tH1DuRnFepL3+IAAAAwAABHUc0eeasjtsuwAABZwAQf1v4M0/8RGblJb1xp5VG//XahaK\n",
       "n+qeMowh0rTyusnEw44ch5n513A9ksc4h28Hh4fI/3P0BK3AjUSl5S8B6eYKb+/c/2c2y4oMVTnh\n",
       "psJW9xP+7+uP5fPYkyW5HvSHwbZ9RJC2FrSYmGpiYyzyUMF/wZj7aUzpkBvkFy1SVVVOH0NQX5/M\n",
       "8C0vi8Sp1NfS8DjDqmYQBdiQKvhR10HlLG8v0GIfPxkhC+jLAFpcu3rgiSfpgfQn8l+HVJ5jJHzb\n",
       "w1gb/4j5RJ0ZUWTIky6jYK9L9BIEFl4NrMHjYbkpn71b7lLnpNhY7wqewDTmQ2zF1yY8xvbUo5El\n",
       "47SdhcY+xQMhOpuO1WConulCBIDSB/DnCei3Vgi97yp7yVeV9lXTc8Yl4W98CUIBdxAYfd1ZkOHJ\n",
       "6J+HhniC4hJMJhxaOh5DXra5lifXY4IrvyI+v1mZJJAuBBJz5/N98Jtoxixt0LwYlFDH9BFRVyya\n",
       "5F2PFa2RYMCVAVhZGpuvZ6MD3pvUre6O3Qjkjtc6vPxi9z8sF/lVjkPvPPoivhgRwpbi9D2WTdEg\n",
       "ceHXI7jbFcG1fHswCD3tPbIg7Di7P56FjIa+pYJ2MiedCssNwYuR3v1kFUIXIl6vlIDlILAQSh6Y\n",
       "VBHOnp7KXL0pP/hw6uqvO2h+/1N+a4pAdjnAEMOdm32cv3x1XZftIs97ddadfrZFlpbBiZtB6IQx\n",
       "fbWNtAo4Sh0KGY9556dhAtHwl+bKeCHB//yoEABhWK+ba0dTE609EyilZXteEJ4N6piWYUCzIpic\n",
       "vOetXnwwp66S/q3nIqmt93imwop17LzSIbok+5D79nbifmfshKvU5XrkU3lzEHyFJ8iohorm17/A\n",
       "SwYy0lTMDhPfZIBkJlz6o6DbMJXF882Ye32Qvaert0nzQO8MufaXv3oWXTnY4uRooqPkKX/WhZoJ\n",
       "JbwahZ9l1RgIefzmHLG9qjWK2JBlSK9EniAM7SV4IavDfTW/JyHYentYG4nLKr/zbkuohAO6s0O0\n",
       "2RgfMNIDh4YiwTeOXLvT2TZDTIjxAxqPEFXed1AvVXOM64XBh0c1vKb+4ye7St+EKFZaZvwWBEPx\n",
       "WHf+b+FA31i/CEXRi1rs6Odsh2lTVafWGKrYKMqHhfWt3gxCPgrjOjcmogiFdPKIPmMhL9NfBpAW\n",
       "yvL47ojWaB8kVuU7YXmaKHMqjm6gZATwaPtq7zikzyxWFd2O3Arp9Ftk/7l4TD9FkxZhcgLMsPz0\n",
       "XGungZ5ldME/nD120reASbbW2/jEWA5H8RT+6atpoH0Q9IM79vmqHT9nsFTSbajEzUdqZAecAYgS\n",
       "g7+a5+GfOMeP/VnS0ES0NoWBRtH/fL5i+9wKJWKIcWiE7X5Wk5ARCAQQQygHospExjjWUroYq976\n",
       "mh/G2ev/P9/ptv6nrUNBioqHBAT+w/53PK0nAPAgU+wj4g/Lu+o4PyFVv4sPGZO3vCdtp44YkG6n\n",
       "aRLYb4U+//6TQh9q1Ak/kZlGtyRd+7TvgZdNS3m6d4V68MNmQarsguKrCZTk47VU4fx5768tOcBJ\n",
       "Y+xfBdPATRQIW2+kJ/BXUwtBRCZhN+f14BfEQdnTrULyTzGe0gMfhm3rtTiNrvXDEZPa5GhY5Js7\n",
       "agFJWTQega9UA4aIHwhkEoehZuQdYQaVEQP1vegi9M7LzaLLngM+/m9iD3ZOYvGzPnvsJEJ4LS6g\n",
       "ZLgwyUnSD9G8EHKSWlIMViEM4x6Np/zyU4RNPgJVhOCVybo6OByxlrJ4xk9QeTJHvu2NkyCkMeFp\n",
       "7cYCnVEe7bhsO2v/CU569LdKZQb7kevIs8ufJLIVeudyCiRwyZOuggCGos58AZkWcuPcEUsCp42o\n",
       "/HTDxqgM9V6gXxrj9V3C8T1Bs0hy5/zyTZqmhR6bU9b+Z0BhbgSknhjGMLL1lu5DZ9RHVBNl9KU6\n",
       "5ChQfxYczVmjF3xqrU2YdEftqhquiYpTtCQYkYzRYixXdLaPHnSHzXUurdwue0UMKmoaF2ME4nw2\n",
       "SBjIlmpoQD6XocEYDz3Tnnt4FJpo2YeQqLDKZjVK6Nb1vxu2Pc6RZ3vKr1M3M3m2uyJW3jTKPQT+\n",
       "/zTeOgfFVNRJnaRqMi9Jx3wvEah+ojVq1SHhUuqcCKr7CrxDyqnVMRIMphyRyyGFDfbWr1E2HD5i\n",
       "exTpfywjQ1i7T/L/Rt+jiQTbnvB3eh2SeGOO4bv1WD0DpnAPq6G9RAeV3D9l/WIEq5p4FeFelfrm\n",
       "WdWHlYJ4vjBRQbwMwctJhF/RS/7D1j3N35yG2KHVC9RUmUDYz7ZXUhUMYCpz/j2NUpZFehLXEZWq\n",
       "1go+yRxXQRGw7AxiXlS7Zw3rsZN4NmWClri/k1cm5cMFNUhbEp6/MW3kuCY+qt3juJvTzDe4TESs\n",
       "pss0SFUOcsVgTc5iUaQtsaWKcx3ErSjDpjR5JpjxOC4iSwJYIsn8yQEpmwuqN15uhbQ00lPxByXJ\n",
       "MuAhyQHVyTh3LrFiYWhkXb236vtdHDH2Rqz1SdTQh0YnrTATxSGY1wQfPTeP8kiU7Jgfp/yeAdXB\n",
       "W0cqK1r1ZpLnA3RKWvA9jqA1IR02qgKMTrscPGrdg69ApLZmAubXIMFXQynWMqBDUQriZj5cQzWg\n",
       "mUHNbzvn5Bb6cY4ACRa+WPXd7ffjkXRD5dx8O6VieByr0DzxX4cSnNTB9wz+CeOWqIuWVdzM7nnr\n",
       "OV1h95W9uNMjjJ4QM+6TrCJecPkNOmWuuq8SHDJDgDVcjzH2WiqnFgyeY/3HMEjZxkK5MmG3rZpH\n",
       "vEjC8Xi/q0DHy8SBdJhrFNoL7sDuYsQUbZZ0FiwevFzDMPJME6a59l5aJ6Y/qlIYnPLAKr/DdVFT\n",
       "AHrTnCJ+FN/Qn8z8DMRKva62UoDOhtKlTEu5HPfV1ZInL+OE39Ufewf5mn0UV9pJWa2tgLZnlheN\n",
       "HWOUKdUzO1ZnDsKp8+uxkYC1Gq14T80by+/gLKLUApPkE/oKubezLwxad2xaBJEdVOs3CBjAU1K4\n",
       "UjPImN4ACCaCVDp48Hy8BEhvHvQjK1UeOMxPDorV/kADXri5Qhk3eLXEaO23KWqmdi5rkkpdDFvv\n",
       "ihI05VrJsApUsNrKiuDKSRSxbeyHlkxsKcnqLGmjR2MHnGYhg8rmo7EEzi9TMn6PgSOI64kMg+UN\n",
       "95o9RptHs+T3Zl2JfqKwEapgbVY6EQOPrzSGV+r8CtTs4qBAjaD2tN4VG5Cvph63p8Dl9HfHs8Wf\n",
       "LkZQMsslP3xzsj++Pf/Zi7XlIJBo7kZ5mWfmGvniHAwYgUU9pcX4GUczNEHnqaMp3neRI/7zayPb\n",
       "KBahT7eUPDu1rN/V2qCvCxazEwQ1nNZUJZhQd1sYFK2DYYnjfF6OJ+ai+WW5m7JzqzUx5xrfxoxb\n",
       "nc7EtX1T8Rz6KHw9h5JCoafXQlQWamQ0kctYBgV0P1kTbivdNQEsxemTZLuajVDVD5xTK9iPFHFw\n",
       "pH+LjIocussWebsGcxR0BqUFCox9DflMOgzp/yNwrn6ZseubzFUxSrgfYnp3JxuAsMtBZnBH0HL0\n",
       "8G/CASif1PA5xUB3mbFdkFM2tY/8vQYgb0XsXS0qfmgqTHsmW+7QJnyHU6UmvYodrCshtB3nheWS\n",
       "Z2rG3yubPa6dPr5I//8wUIpUQx6fSaxV1a+UnbMjTPTUDV0VmdMlo4IHK96tvJncRNhzCfNF88bO\n",
       "p6Is+gZVY5kd+JDHErEP9NL06ef+Xe5NbMOea3OTukerw/ujvwhrcXwgbF8rwfWhABoieHYO84EE\n",
       "B1wjFMStQmuhaPgnZpldzK87k0AYhdyK54lU7HQ06o8VtsfU9mEKFqymKFoZ2IDIHDWKT44CNULo\n",
       "l2OaQF4eeQjl3LikVUD17pL4Uc3lUM5NW5CnDBb6aGf4cK9vcSCnSr01ePmAV4Mxsok6Q77XGJQI\n",
       "/lfX8mNnkUa26fBCtsuxqPR1/QO8ILgJJcXlaqJAPR2EID/lrLzKXfE95YMyH7aYk0hKarpIHdqY\n",
       "u8kerRh3WvFaFmfl65/9Q7z9wwQO7fT5fCS4MtW62mnLMBUe/sPxvEKNyeKmaxbqx5G2crPbBesT\n",
       "Qn+fqDUuQrOFMLgB+PAjxrD9E4siDU/lvk+TmF+3D8JXkLLbvhwY0HL7fq24t1zkuKegOMgxCnHg\n",
       "pn++OP9JQajchnlZQmHuP3Iqf/DKUFsABSjNvxNxHtqDBmr35C8wG4vj9MINxxGG51YuxznNa3uX\n",
       "IHnB6YYb8COhnbLRvF39gw1oHj/mZDy5mO35et+G6OmWnwSwgqQI878xXuu1qXh/lWL6wBg0kzmw\n",
       "58hOumAxNZM9znhHY/a9/l4oV/26WtS3mLKZAUbLwTvwoEnHRQRZj6g6EoKs2DxYWo5jfdNaHUG+\n",
       "RXMYcdjnTZBXP/mGyB4jgxz0RAy2tzwuJXcKFTIMlXLguo12u+HBnM/0ZIlBriFKY57nW6OOqC75\n",
       "157X/fvRx4lOYU0wHwDNCKrW1MNcvTTRLCiQ6a9YT8QGzH1IDgkhCEToNO7kI1aQY5AHS+2dF/D6\n",
       "RAL+6WNugDI7qmOjxC1J4j4adFLr3a6UVZ27qoguO2FKZZgN+coZeABUhfprW8I09YD4Ndu8cIJF\n",
       "o8PbDqVqygAPc8xc1OvX0BSd5X7OTTEvT4VPKG9d07OgtgSOdQBc7j5WCgx3BnRVuI2V7riNr6eI\n",
       "UMgXFg/GSLQiU1EIzv7Au9eK0T8iVcPUacJoDmzvni52yumd4BWxLWsjdwNKKQ3b+o9iHNIV9uum\n",
       "SBxrcWeAb5IHI7F7Gd04TEGOgGGBTOZS0bmz9VYwl9A0YLFrFIQt3yA/8ouAJ5xt8BLNidZJ10zR\n",
       "5Lr5NS7q1N0JwCpxFSHW9ivDdf2FsFHWknXYYfVVLFChYM1vmKh9nlfBcyliHAy2Mr9Pvuyc57rE\n",
       "2idlYHcBWEXhSUeOxeBgYSmmNDln8aBByJobi+35LAhJqqMg3woL57+uDNZAu0WEfru6hoK6WI4V\n",
       "HTSEAkVVJ23wGJAhdQ3uYGhUPh6gSvpcdk3XJoTlr4CsIM5wZYN2274ozkX3u4U3/MInXEjTKN8I\n",
       "2z+0jhe+6VY/4lQ+n02ZIOzjRca8Dv6fEbFXYkKHUXfl7jKV5cvDzkjY5nHITBM2ZtRxilJTaOQI\n",
       "z57DIewh9SHTROSIcpXUafhq1BHNFM17L0+QP7tmynkcCWH7uS/Xrz/qZAyUQDGZupjetU9EDdZt\n",
       "cHzYVde3eqIZmzvch98T279gfxqk1hBjwgsxbsCQuxJ9SUJOnB1xpDtlDG4HArAC3QbrSDbUyIXO\n",
       "m6WvFxeC+781Nqrq1Gfoh+8dOiCTctTghyJfUVTZ3ID/BU0SO/69fHIKEMTgJ3vaIe0kx0HfX3S/\n",
       "96LBFLT5b8Y6NmD1vMHBizbIoOrj3JFFPmfPpJysiSYNghZn31Jq4x9QCd1T1i4R/NQ+wZ39BwFL\n",
       "AUAJ0ehMSheEL1rv42B5AoFwBzYE2MNw8aBTiApouoZKLm45u4acAvxreTlwVsjRTo3qaC2OCgmk\n",
       "R9jNFAcC/6N+iNTG9LKikNm9kT2euIAQpcOkKLyNBaRdrz4DZXq0HwWJ4if///VtlggM95//s0Fp\n",
       "uQpjQ51T++XEApjzpEWJicSgQJ8+h3oGNyEpAGxdv04TVEIN67vP/cw7AXds/aQ1y95m7eYOG6Ui\n",
       "hmzlgPGIB5h0VxBAeseMMPyh/GVhX2AnSHrCUWhfqzYqtmCgoW6S0u/tvf+xGrA+ESO7M0RAuOqq\n",
       "drlYh3BezQH/dMfSHPwu54Q4/cfa+C550ALDwWuRUDVvrzTYyWhFcjtHjRAbRsx9/PgV9YGnCa48\n",
       "A01Fp+qImGLCqiw/KJFImlhM3MQN2ZQ6nIBC+HeIyHUxYPQlezGPlh06F+JwmQSaJ3nsNivniUfS\n",
       "K3AWwYBnrIeZOqFvtBtwZ4QmqaaQ6XI4CAEpJvL51znyA9Ac3j8fA2ddo5tKdwrMhuPy4Aj+rhrB\n",
       "HSJ+PzT6Pu0+7I1SMiTQ6jROIoiIkZreOq1g7pTh9rsDKrFRDYDIS5YdVO5IkGkZiRMIj7TcxnxW\n",
       "912szOCWeyfu17ZRYeRhaRtWdn28RCeZ1d+d6C7V9Dajhxz1/ebfcZodBXKpI3zyPxwllPMNO1uQ\n",
       "A2SpAP04d4jeV6YcAJ7fu5a1z0zfEr99c34WcE6w1iP53frN9FNmGqlbfHOVZsWU5YqyoAqVcJOF\n",
       "dUpgpOdPijU8MuW187KJRa1NXTqI6R5+bqXFkrN5RSIISaGchCsk1bDOBXpuziZ9hN/zNxBw3+9N\n",
       "QmKscPuVvDexwpkYVKny7lCMHfd8TW6bwfN2d29919xdWodtymekVYjvGsTTJGoCUkul+oxhHSro\n",
       "dzBWm8beap8ytbHe9nHNhs2o+GHrEEzvcgQnfGNiAnmmJ+ikm8pxxNY4dbDPzbmcUZQCNoigjzEC\n",
       "W9EAXT0fZFo8sS5/OPxzbcVVM4u1rPILAsmowDuuULA1DH2mEdgVtbgNtRo/qmlgCwaIjB8vjxhI\n",
       "S5pTDiqhKy9/3g/57FmEizu4iD1rFyGcbJ+Ft+TNMdUmwGnVl7SMqur2ZjGuVflJ1WWiYANY4hwv\n",
       "Gz2kUvnVZaZbsgBu8E0cA/yDgIvw/5xqN1oMtYhqvAbEUI0T6BXQnusb90BeyxZhJcZRzlBoQDnM\n",
       "T0TUsIABOR34px+awxvWlal45eU2JfVJfrTyPw45DfeDiiwGYNRmEt5jBOOldhzBYb9QsWLlCeK/\n",
       "VD8XbKlf0/bCuDI2W2oXvVie2nPaeCzcsf6GJXV/2pr8J52Lglkb9HX1kX6gJyjKU5lHnkGbRV/t\n",
       "f2kyrwSRIq2gkP6E3HVpmK38veR7xGD8xYv2V2GHBipIplP+wXekPzvy5h8RBEcJFF0IZwnVMyWP\n",
       "l1m0KypN7prVi16KmWTSkZAI6U3jgVfrSKiT8FBFx+2VblGn8+++MDCqCMYGRy7zsESm/zLhxlMG\n",
       "oVgU6K8rq1C0LtVcgoenwHaihHc257nVmSqqM5bR6zhlxHAr0d+6+BRq0a70qlOgSszrKzKNGT+T\n",
       "mhwJKNZ7J1xGaT3nxD5qcHNyGNKrhwKC6vmJyhj28+k3yFiP2bMs5IG5VmE7xwSIMvXRbdFma1hs\n",
       "c3DX2I3kzgA56on7cPrEbUP8ltolMxmaEuVG0il06OgUICRbnvp37cQzhAA1SqFv34ZC8Fg8ugTG\n",
       "QpaU8eBPHRnZvfS1NagaolbriCxHnq3HIN1rPr4Zjegjtwmp0oCS5BxHE2izU0y8qeP2k8PgxUEO\n",
       "y7pKEKf7thG0hG/H522UNkaenfSJ/yYPxBeWbkpVQEQIVCBPRVQIxLaC/Pf1NCVMqrQktPjZ75ON\n",
       "PZmbSZzhlMX0nSixajW3Y9VuC1zLvcl5kSiXUeu7ntuZ+QKhIvbs6HrvVjxkUQXVD/+b3ty1sgze\n",
       "yTaYcyew3EUtAu2+EATy1ZkBOfcy1pc1QFqvY+q9gKr5WCjnS27bzWHueCKbLDaQ/hmtzq0Dk7bl\n",
       "DYcV1kxB0Vhma1cUVIj0ppe1gtzxOlyRNpFkQuSrB7s39bs1w2PR4P2gYba3j6A+TJgIdQZkY7ek\n",
       "f+bw+L0r32VLSnKUgzDAEcgWHVP7jyI25IowToJDqpyT5Lw9ZfHxbjKHTP0kexoJZcVyEs1PW637\n",
       "LpdTbujMFF0Ay7RgjdouP8cvFuv2aK/Ve9Y0gA+6GS9uGbMYGk+L6OLEgL8aqTPffaCu/2lqqVRS\n",
       "agEcZxEGGmYpg9DwxmbZ+0CvN5U1ZlwwjLiHs/Kfq6OS7Jmxx2V+mWCI5xrHp8gkp36Ks1xfkTJ/\n",
       "dVuWpiOJxrEWUIAAAQMAAAqbQZokbEEP/qpVAAZSMV6Kkq4ggGU0uJur/9r+acQvLj1CUyHNFpQE\n",
       "UC18gNvbFGP8nMP3bCNNX/i13pQZ2bjb4y3rNlumZI4GDxjei0dZfbcllNgBVvd0Dy4Tx5S+3Ahq\n",
       "GgoCSoGXuekdlkYZesT6ZJMbq9+cYtxEkK/K3cAg5aqubBdRkrzht+Rt0y1grYnDedXFtm5Ci8dv\n",
       "CN9QwB6GOG/M2sCzzI16dwVgFHsx1WLLAJ1zkLSwVr8bgti/0bfiWMfUQx5suPeO8d7yACyUERhU\n",
       "T9v1KBNBD4IHSyhaeufhP0sYVg4ai/l+13aFnaG2fqD00RAcVzAC/6HLHX3Iw7DkjyB1CkDc3NYQ\n",
       "Qe6e1L8D0XNX+cdecjuAXCG8zLED6MMGW7Cg8nldH9+bXahH3+nt5EOGicUa4dYEg+4eKmML+du/\n",
       "tfFhU140qXEVljQWV90fuXEO3/c0NAp6jO/GWD2u1KRJHjAb61TFsgBffBL9wGyf18zwybY3/z8b\n",
       "vjkpNDbS7Ysl216HkDIhoPzipU+tmA7X5nx9Gj75qckUFKKaEAa2y4PQEKiInVZO/NNlG/nCF+8M\n",
       "fp804iquXidIP/Ih9uCcnKG8rAK8n07uImKe1IIomAKMzWJ2Cpa+MugM5jH145131FHgKJfm/9iS\n",
       "u7sbULDKW2pZIIGNlu7VVVgHIlkgcsBgnOWIop2L3ybkVMOveQt5dWjDmVvIIHawOMrA0gN6+6P/\n",
       "OSoph0qJyjkkFscAZ7pWTFo6mT9zGLzwxZ/ChnqcHHeZgPdCuHfelWczORw9UdgRdfqQHPFSzN5e\n",
       "piqlAVAD5W90lHMmsIJ7WRlkfLEhPtNS9eaUfbtCHMa5/JjKZ9R+2u4ordRfnwzkUutvXrazb0AX\n",
       "FyzpPS5ltbl2A6AcB8lad3DUFnjYnopHnljopeQozyRYyGfoTmDPPoJ5V+rmy8OhWoH7Ucuq3B9U\n",
       "L9Lj1FAPJGKHWzKvC40+DUys+iJ07AFUUPjEIYdfOKVnP4d+0meydpQESolHDRWhn0Bn48MJXOAS\n",
       "vlPmjcI8BJyOKW0Hs/wK8kw/sfVD0trqyKU9NeI/HGFFERQy79WGHOv17Exsc34P26vAacap6NNo\n",
       "b0I4dIZwO1MxHiz9WJUPtxrpfrlJ5cVzBEZ5v3ju0zcu+8lk5GoPjK9Er4RJ+LGC4XarQZjjvyb5\n",
       "7faDRYKy1UNVd2KiiqJ7LczZjIYFsmHqY4l+PY+SS8gkn6YNpSRBtwKkZhft8k5R61ff6SPlH+1J\n",
       "LIwiaahp2tmX70VWgORpe6FRdXVAuEkfn75utWOX7kcGcvZqY3LxB0rul4IAZ5aYNKIu2DXEpFTT\n",
       "2Z05FNHEckN7tPHl0Ejtw+CsjfwOEFkTA9jZGhjXWOSOZ/H+tGrMQDURihz0Oh8lH1nGXqTN7Lge\n",
       "ILhWONR4RJCzG6vmlBKzYh9AuAbBUyhhtqhsRssJEPhB+Un1gKeFCllcPlNS3Bj7/S13oBd4E7ip\n",
       "Mi23HknwFbKl5myAlm8mEc1yOjVYr1QzY9oR+M00xWkwO7MghlrZXPNFp2RFNdbe2fxc3wAEUUaL\n",
       "o9DNSVTz9uplq6gkHPsFbAARHNPYgWirahe7SU4GmPV/QLXQ881pN6W38kSm8IecwRW/iIgyTLSH\n",
       "yaXn//dtVq8oTchh1J6bSf+eMKGnfCXOdF56Dk8WJbaa409qImRThqcpdwQWDVGvd5AUivCDKEKZ\n",
       "lDk9nHM6RgR9T4BWnzqcFZOQwFmwYMspqofgywBJqKMWsD9PMrM0FWGtrx1Q/j+YOlv052GXvDc+\n",
       "/fkI+/Rv7KLYGNDnMCWFgTdN5ieg8+6YHI6Ra2VRYT7jw4kGR7pmNcbkDXYFS7Knj8J+HY7cKOJu\n",
       "Kd7zt5nmASlqbn7qJ6XGF8QqObes9EWEe8yXWF1UHi4njICPwtFkUK6ugY2uaiOuPA40VWi93OnF\n",
       "a0XLu8gSIMESpZoleF6AIOLUMtkjUVh+4bSyHRMdxZDAAcD4fCSSZL3fDB7LxZYbUy305Puaewet\n",
       "/Wi+SYRKsuq+mgFYcMDUfgcYqA02PRWdmJ+AckVeu/rpGHe3i8K4VMMA0aJZXBchhyTlSOGzPOAt\n",
       "KAWYT9H9zEc7nTYj1A5rxlbdP+aLTNbj0upqHJuzdceQNmAUkE3evLDxJ1vKOcZmRj4gZf+STv0M\n",
       "8vIQGfJaozQe1cUGwp+DQr8dCaUpRvQd2P9tr0Pcb9G1ee31yLAiMC50QTXzCJHuOeFwO3oahY4e\n",
       "Ht+xOklayseJeiCYXgGBRMM1sey9ja+wx3SbQX1dWt7QHDpxeAbOdAq89bOxSgq0bug3wHqXxkl3\n",
       "2i0XGlzylChQo/k+g++4rxDsqOy282OqQb5M2UrVDC1tdsC3VRLZGcQbkKWG4fSaifIHQnmuHxAJ\n",
       "JZNpMMi6zQNZVLcaw0e0pXmXjsaMX0W9wAxv5GarvlFp/RejliXYAgaTOP40PDc6MjKaVf0bYVnh\n",
       "0F2WOxhYoD5shbNLBeEAHD7KjaavTSzujl0ggkVkv8yFRNxH9HqtNKYYqFFg7tDYZtKSj7a1wlqD\n",
       "XJH9Ahc1t+MlY66DsrFe6cieEhcY5DLyNKStGeU1XwQZ77Mo+nKUTeBrFhbQBh2FhVXUXfyIe3VZ\n",
       "ThE6231Gr1ggNPf1H1abcvd2btIi6MniSTaP/lhNmSsjSmn1l/yrda782K5S/ATR79wAluf2vEzL\n",
       "G53qGh2VC07b9TD3IIMNgVARbjv+bId5d8g9KDk8Ur5YyWix82kES2+Jz4KMpORKsHdAIzKLwaQ/\n",
       "qgRlCQY2R9Ehnrgg7qKTSsFwCRheU/WOEGu9lnRdYz9anMdyQe0rKoNRB+7StCdomDKEFXJg9OAo\n",
       "VPqgHfNhP+MYm1ukzbzdFiHW7wIqVLY0lWPfFCaMg8Wz3riRR5TidZXl+tWm59HDGll5AfmX+3X1\n",
       "9bJKj19IKNHiSOz8MMq0OeA2DuVOJNKeeIIw2+cRBvka14SNfzXRC3RVsK5kTJzkXPF3Qyc9bUI3\n",
       "EMyxe2lC3CnQYmKk0AvwaDYyeXSRkfCRvZLZRaHJXkiVcIHhRZQr7LHjc77rRrqoHG6MnHVR814q\n",
       "hm+RlnPuKUPf8roei6lPkcPFBh5f+hQ4A/3fcPlPrybEsd8CFl0EOXdsEdSByYraHGnHiOdLagHj\n",
       "tMWS5+PJ+c0rLgT/NY+A485LV44zcNZSk+nuILM/jkqD+4L77TtahaZ+uznpv5XtG3Bi8p8p/hYp\n",
       "uZ9B5k5cKShMJ7MzHbSf/auUi9YTrfb58IK+7TJP+UXQ+Uelhlte1Ik1kZkm2lI4LrhzXtKKC17L\n",
       "CgBeiHA45Wzs5PP1FFM4V2guo6hwSbQQ74iu4XmcElWeHjCNpAQ7hq4I0q871mCXmAa3N1eq4KQq\n",
       "H7DcK8Eh+RgMHBWsZ644vwKmi6lGQ70H+9nKy2rRcytOgZrqtZHel11WqpPRVEw6WcUMg/nJheG9\n",
       "ZsYHyS5GZcFBY+bR/wpM7dYP/DcV+eeMdzrmZwhxsXUzpK75YrN67MV+Tje4mj74aGsp0nmISBox\n",
       "bg8DTSY9rfRyPIdFtU3xOpSpw684zUkqu2wmQpF1/r/6Ay7FfLFNGjqfog44YtMCGFGEABvQAAAD\n",
       "5EGeQniHfwAMqQF549Iymq2ihGBIQo110kPegUgp2SiQBzLn6rRDGxCU6gFFNuMPOh3RsupAFneZ\n",
       "FT2FuBVM29txZlOY6feOGB+RsNpWIbvm4/A2IjC3qztWDxLl0i6oSAH2MLBlm429JU9dwjyvUhk/\n",
       "wj0X0H9rItetCzCwhUiT74/G3+B3XAk9cQXVV2LQOY7LgFnvcuDNFsYwSEBqPJ4IUP5PMwFs2qVt\n",
       "MtKYcU2qCpqSqG7eMh/hdtLAQP2qRzH8Kcuei4c74sToxbI1cYln7rp6sLwwucLFd41W0OjJnyrN\n",
       "EpYKkNUZYz0V53kuJ23LrCwiPqfUN/XSXo7Ga8Swr5y7Rnt32u4QbR4KfwQ9ME/5hAknkdoyGv4j\n",
       "kFDDgSSzh22Pj1wkRO29qLcT9ExKQAiIqccnEwpWm/Dq63j5CZulk15i8+KDyTK+bPX92MwaqVFm\n",
       "DBce6LIUtAFAGt9klaE6qXpz8mPTeOFip5UdyLbkHEeouTeHb66/6kn2F5WM3Cjd/rMrAm/7mXRj\n",
       "VPqj6ThfV/1o9q+6xdVgbHw5S9gAu3OUgI0c6NMaqIJVxwfetPhD112i2tGB6bdFzaoGHqIwbbT7\n",
       "vh7mOQ5u2qaU2tcQI0Rc7BYb/4Xp6kENJnbQUxgftsIqorPJSZXFU5b4+kxkQBREpeav9lH5LRz3\n",
       "4+MeOpO6MjWhAxbLhTqoB97EFZ61AJIt+H5xOMSYLq7rnjI6fR4d3azsiEHHNSCrkW5QQzClrpIH\n",
       "EV8hThCPVHsigrYplYev58/9YWAqEYTvyRZ44eNB2EmEVsadiu9n1tsreiLPmp44Ynq6S8AwFRIO\n",
       "Z5Y0Le4pJ8TApHaOdakozMP8u7Rn+uRDmJrF41R6djkcMaFkubqyoM0BcND8w7m0/uazXPzFFmGq\n",
       "YjveeOlJzA7X/W9hP09mTsCC+K3xKM8IDaG11Y1dY5BVlNljaCMChcj4KzkEcI8os1ZX25Xa60vy\n",
       "pNO9cfcyjQsg4Qiahd1QBGVv1GtmsVGiS6J7Pp6zQy/NeBSUPUY352V2SSNjVb0MUW79zJY4ZKbj\n",
       "42Y1co9W4vpikLO6rcuzXT3IHxWIaCxc+bR61vm/eBXZzLYYxu6HYQ2aGxpYfZRluV75WzCRNMWr\n",
       "xxvIv7xRSfsu6GG9FmgoyTvfB28Lew4R6LdL6t/CfPtQ6wNX22NtGyjDObttoDdVST8/V1iOYkg2\n",
       "NbVrfMqQfWZhYztxNZzxjnsnIl4ybaGoUJmwomuSgtslLeX8YZ9hfkzKCWAaBBCMmRk1B6zhOq0P\n",
       "pspQblemYgg+2zhnNMbbtnQhmFDzSfPPD+DpgQAAAWABnmF0Q38AAAMAPie9rDpEyC9tQigQAGek\n",
       "Aec7kRUugQ/h+BfJM+xiJqD5yCPvTrniEqx7JhFOmwaunHhZDd9VSDPpFZyPpv7yOi8yKREd6RUc\n",
       "A6iP8Kj2w+pZ+4lOsZCXrFzEcSB5pHi6/uL2jS2EUvDuGg1L0VUG8fYZQiRE/InODXzZSXOMKXWZ\n",
       "W0vM1Kbbl/4Ej3M8rEmyxPJc/+fbNqH8M+1eLMzW+VewqpzPDyQIG1T85iHKHZfUSnIDdWxK+s5T\n",
       "skrtidPGWEIO+O2VSB2y/ymg+CGdemHRBuv5DlPTnuwyof/W1u+wx1cj+FoPSfcXF0HrHWUNoas9\n",
       "kDrWQDU8McBRRMfIifZ6tBWLR1yR4AzhqMXFcuObHJqIH63RARBXH8ptDh5M0h813tgXZLInbYiP\n",
       "9r66x/gRogWQsUJogFC/ZwauTmokrwIP5Z5Z3jJTsnhx/ppPP2UkAHzAAAABKwGeY2pDfwAAAwMk\n",
       "FdIACte2FL1RQvxtma0kdeOxxJ6F7vCXeQPqO6Un+hFeO0XEV+W1RhLLUSSVF/Ew4l6+oYYwj3Kw\n",
       "mFGlIobpZ5tvf/KrZGJ0c8DVknHcUUsNP3JVuKZhQ1MKUagV5QSC0NzN6AWVP/dcUa0NGEzL7CUP\n",
       "ngkSZozxXZTsj2innraiuDZ4KnAMCpcMcTLOpTwRPyvO7cvJjptD5yBE47sqtdVi3iO+pfNQCXWp\n",
       "Y9AmIZCTPfkOi4XKW82SCYAqDafiAH8CdguFPRLRUcGhnoqBzOZ5XouNXIra+YUYVQvP5nFKM4As\n",
       "3r1fj3+XFAX3Ou/KQ5+sn5EE218yP33xb/gfE/7JV2TzWnqHQDQY84Ov+vRjS6P1Z0H8GVpR6xm/\n",
       "6AGLAAAE60GaZkmoQWiZTBTwR//+tSqAAAAMZoneorUk92AAlpa5cCQptsO8gyqfcSfELjovJybV\n",
       "imKnsSiUYTFeql82ctFPhHBzcruoXCMyf3NF6YP8QtVD7KaFYxp1/wiqUa2iaZ1E7Z7aZuAHZhLG\n",
       "uAfLi3kLU7udZl0ooriCopO+SZAzHs8CKLwlbEFtNaJGkNdTmCqwj1KuQwSBJO558EDsK8BSVBHX\n",
       "I7u6dCilRj7N//FHGoCRhhektbBXMPEA9mkeGtJSTNQ9B4pSfml+GhDyye5BCf6e5K/CLUPGO61o\n",
       "P3PFP79cuqxsVxVMxuJs+b4Sc0d8sj365tGXv0LGyBr8NkcOegwMFEnZ1leLWtwfgrtmyfYH+iaw\n",
       "58r0D0qNHu3UZt8pBTOjnJN8K2cu3nSEP/3cLT25byTw+WdXQx9OBvyk95kMGupsH/TV4TC8yNTT\n",
       "6CevfyW1BRHRYUceN/SAbKd6OkYl47o/D0X+loRUfVRVvtTRAvGFwRwd0ASLPLyh/xhVoZ5nCSIw\n",
       "6rHcbqPASSGfLTRLQpXVKwoVUQTQu5zRRaQtpyY+NN5Uw+B/u0R6AeLHVySd1QYIsh5wD+8vgtls\n",
       "WUimW5q42rvvUtxTrlZaBxW6w6EaynN3gVCa7uxcamNYiE6ZdhP5aJXVTuiVqyVJS+PQes/l07OB\n",
       "s/A00/crut/yfBz+t3e6bvRfzNkbqHuN/Y+LQZd6L0ry2baoqjY/uiW+dLTe8AVMp5xuejvErQNN\n",
       "4YwesylgC6tGKbpGOjvmSwj/PI7VI9nWPTdGzBY3KeSYwifLLdiEmss0K0D4wL/qcjRuEe1iRUoS\n",
       "TEEc6vKzUotBmnQJL/fnvfTzpObYPCBpHmeDzR75ur5hT4xvj0mE+ePV3R2hQspD+8WSVYtHjQr5\n",
       "E3/d38jhz90T+fUI15a45hf33PINn1bq3Bb9QEMwM7E5p5T3HtSAwE+lxTHFnqCapTebwGWyYuL/\n",
       "ngTblhrvowBXVbQEMLIFm9xinNiZbCzxPbVEXPuem82KgpZLNj2Q4ctq5vFdGO0Hxy4StREqD81N\n",
       "S2oIXzs60d0cUErnSEDDHA0RRnUXIg/IUnQw/2Jnew45EKcKtTzUkgdmB5ZRKfloy2WoN4V3oBkZ\n",
       "PdEqAIkecX/+OvCKy/Zmc/occx9r+bV8TQk0LWUL6CkqCjsP/5p+od25nn+CzS8ZrBgYGgL+fAGw\n",
       "bsdmWUkQyue5jNREISi4QHGHGakrVOxcaL6l2ttRi9djMy99LA+aa4PGBXraDBrwRGLdCPTLmSEY\n",
       "WjWbAu6Ogmg43nya/KknP/zwNSJy/Vgc9uDQUXw1VTV/3YfGpL0l5ZTL8LIZUfZuw84Rzpfl6Dc4\n",
       "QuyxZzT0tEEu+AityQBBtS5dU7KgYrc2wKuonOTiUq1M0SaqD8OYfMpA9m7dYpqJL3t/gjREyRzv\n",
       "rd/w70rIFIC27FLIFXo5cWDe0y8wpg+E20y+wYLjXZ5Ah4zmagKJNaM3Rvj4Uc+LryFqT9bU5okR\n",
       "qLDw7VHDS3kb5OUCVJGU1p7AWK8Q4NsZWUm9yuZMf1QbngXCqslU9yGdQqyQZxHzWkh4kcwABqDn\n",
       "4EfM5I7O6h1iK8J2LGz7Pzjxul4tLNybc06obeAdRm2I/zFxDXKHYyxbniUtJqWlzKvWWd4qJkor\n",
       "NW/U4vA7nZpNAAwJAAAB9QGehWpDfwAR3IyJgM4wQYnF2mjCf8nUbbgBx6/l5v/GIEIf0tMzuLAN\n",
       "n+x6Z6FtLCNmjM2azt+PwQ1Zi6hlTmBv32Rhhs4jZbTdGtoz6KbkbEwqvnjND3Gq28iD5DW1ywSc\n",
       "4xKFvurMFKNEtre1tkoKqVZnr3wTswSBySQ5xgH+1fCA3oILK/idvElweYYszmJiESTXqVeBHpSC\n",
       "wTEe0qrbu+gCw2O2p70oCaWQLPx7KPpvOX5H4iPOfULliTvZwmGnsGRSxMYTS/10rn2wYDy8FMsX\n",
       "+/0oiHG5MNa//+CJlRlGT51jeuEH2tytWQK16sUtzEUVfVsgxjhN40rZkws73g8GZwl6dfqrYIMN\n",
       "TANACRJ9V3r5qxJGd4pFr3PwqEK/cybcLwo7L3+n3yHbGSSTLz4YBsZUfPFcO+GEx+ubhTtQleEm\n",
       "IsbG3coWBkHqJjgKoIMOtxNeRPidjAmqf1w/jGWh/3170jUf7Dve8YwDkhzB2RdpIcKGtTKnBtkL\n",
       "xrVj8+rhOJ8gq1t5P5/OZmq4fppqC+nDvXOKN8jeS5KVnJsS1kx9M+IVoGkNvzlGe8RnQQkAQLQ9\n",
       "F6iy4tHW1KdVP/uf+zWjmV3BKH253OqsG9s4LW7c/6VHNNNJdxeMEmU1xhv8RkRrgnSH8+RyCebS\n",
       "TNgCTwAACxFBmopJ4QpSZTAgh//+qlUAAAxVCuUAclsc1RHbKe489bxf8b44BCuE6Si6QLF6e4ag\n",
       "surw3aq3PyjX7TYFEiSzw1cvzYKQ8KI9QGWH9lShHsCG/VA3Ju9omPSOYCCh4cjOhdVbalgmWQ06\n",
       "sG4k2myYpKG2dRHShFcX677+RDvUY99u/wi+/GYBBQ/gA+Iy5Unl61VD+T8lxCBpKdmnQjdVUfVN\n",
       "RKb88Samm116NtTuEr2GpKMTFNqT5xWg9vj0EiWOAIbeJP/oEKhmw2DUtcehVLc5+uWUiTIzqD0D\n",
       "gYqStalLweLkjGl4J1qoynDdZT0l6uNEGCKppMXYJc6Nx24X/sSH/i2ON+zuBVcmKniMFJlpBoSb\n",
       "Ou0v5/RHstLgCUJK1G5lXitGBIJn/qAVCZst3jtZCc4KajXA4yRgrOUIRKceP9f9NeKI8Zuurpng\n",
       "eJyG8wmo/r2wrX05qlQg9N1aQOW2X/ZRtda7VMuWCgs1hfUHaEkFN2BagiuxZwjSPZjbG3XbShrG\n",
       "SYElsO48KJRkxkjXQPs4Gfm9aPtjvUmVBJT9fK3BNUWMby9c7LzhStWYaRQPDmttfZRqYqw6qTGg\n",
       "gXX1psrjcOqPkuqjosWvZTMwkvGJ2D3zohs0fkbE8rhtx/PNFlAYW6pMYOvuUttqy++Bo5/9VzeK\n",
       "7Iv997LROAtfWo+O7Yhj9M5cVD+LoCoc1/YWdcMMfIU8td52SS+nJ8K7sbxchKmcAShNxC2HOAFE\n",
       "767SpUNZF6CAtHA6Ax8wERG61sXR2rxQguNHG9C3iw1rtAjs9NTZw4uETm9OG0RlVQBUFTTf+P7N\n",
       "lK9xG31vDBc/dt9hi3PYtd9urbesZZOPtBLUtFDfQ62p22QrPW5VsMymqeySeDSA3aVApRn726a3\n",
       "AcYc1OYIy6K/v9/7F23xFswuumGAW+TUXTbEb+v9B6aQq9ejYAS9w/9JVRoXlC3jylZTJtMBGIf2\n",
       "T/V0Cyqy+URyKgbKBbDfibA0rSNur6OvylQhxbFeghPncG7J97VqGPmG7JopyENK7gqhY+qursU2\n",
       "+5m+R9JIZDq3eelkHXrLloTKiVGGmDeG1X5eNSRUIm509AvYp9pK0HclDs1SeEIi6z+zk0QPuVl5\n",
       "ffYxxeQyLgjqWG8Vi4wyR+/Yi5akuCYkG/YUHiG/CRxAlnDpfNDn/NgYFMAnnx5EKw5cUiAJQqX3\n",
       "7Ve1w4HwqeFGiYFBXJjFC2r1sHLm5jZ4H+6SvLhK+6ve3GYl+oBHqlpmG624hyOJFBZz3fD1o0hJ\n",
       "suci/Dp8FZHSzBU86IajODVOH18pAF+P1eq/vuJYzUplTXjTCUIaTp0SgIq0Klw434k6QtVBHB8d\n",
       "kgEmUxeA+OATVygACaDHrsFXg0L/X3elXWA1/E2QVrlIP5YMLuL2Ojtxu2VTtVe9AMnBk1aP/tTo\n",
       "v/+OtyuZX/VlrvY0Df2ubZzX1Y8RRWzaySulgFkix6T7kS501IOQpb8HXKCfyASQfeS3kvwgxDF9\n",
       "pMbuvVB8HaFNzOYc8kbcHlWBeNOHXgCOblJ/EKVUCWOwq8oDO7LrwwAAnjkX9FtVlegzGa228gvf\n",
       "ZGjbCRUMnFwEOPx2909r/dbwh51so6+ULkIxK480eweVaHekKYsbo+iOTvQtRzqTa0ehSzZKs7LC\n",
       "32L9fIiNufOX03/5RVBFCAOBaiPLwuaZaqCFmOhSF5W8dtJWeefRFt+NL3jfJTvM5+/ILWcMHa1G\n",
       "S8DGibe5SKe6f+UIl5uZoLeHeG1LiDNv92UCWQgCU/hU6VkdNC251IPL6S3Z7vMyx203ME93a6OU\n",
       "St09bayB4zaOLyW4EHEWifk6qm+WG8GdaYT6QoXz01zf3oS5YJBiqxOt4Ou1sqKpj+5wppjCTRiO\n",
       "QtKO/d2J11ODeDzyAxR85nht2J0mYC/FFZXC0loD4lnh+1R+rJL2hWUS+pJUQ/5dZ1h/ol/+a85a\n",
       "NnyS73+DeFM/XDAQkQb7/nUUkvk+1UIb78RW0A6Paem6QRd8hSdbXfw2GaPSIffGZJtufNSk+IIT\n",
       "1ZkL8oe9r0mywJ52gWke0YVaShJgLkJELhE2JCYcsAih+MjgAdz/ZsHwTHVxGFpsy0Qhc2PdXveE\n",
       "dGh/xB2OTLvT8u80wYKGnZpNvaD7PnbCFJ5an1iF2lfNVR4xboBoB7/gwWA+rQxShsi3ctZP/T7p\n",
       "If2O9UNRLabsd9BElBE5PwK/T0qohgUwYB7rMoGwkWP35SyvLNFH53QvVlV6dWeAitBLDTMpz8DZ\n",
       "vWW0wjL8nIxUYk3a/73glf1lnzkWTb/zWk1BbeHYX6rJXVfPdVu9VjK5Ob8KPCvHaH1QpyTD9C+G\n",
       "fYnMcDeN0sFgm8U1ffoYY+imMh8xXEV4PueQ76dfw3h9ZLzHVczaWXHFdcDlH4b1CD227F1f28dj\n",
       "7VFiMHetS8CZWPGXfZI9XyEClIkZHcIE3XfkMikFWzaueGLPPqrhP33UqcF/hEROv+4u7k5XzAIE\n",
       "kOGPYlf9pDFfUdxBwZCauFOgKVYVRgrgAvuu/B5n39oPtd49KLaPmOO4cJr7LHltSVWM2RmKwp+w\n",
       "bngvMEyzbE65eBXLuHslZ/A3R+dFRsrn8IhhA4jKc+Ayuol7/zalQhRP0+U92sXaq1xFoozmOmEo\n",
       "SriKrJK9bJiDDnW1F2zGWuX6ld2DkFyXyPdUUPOp8QXppyGaxBLMs1BY7QYTDIHDcukYaa0wF5zy\n",
       "rLhpTy2vi1dtEPRXospPZ9SD0A6eLfA1SdJkwsHu7FeiWq9TDwbhMUmvrfCLOjWxVLhy9VhQjNiO\n",
       "ZWquY79beqWGezRwbxoO6I6RkjSmtXErHZ6l185OSRPEzX2Vh4w4+eKJjAj/kvO0oNpYfToLtloV\n",
       "gfmOwaHU2fcoJnzEejBwAglOi3N/60zkJO/6QKaAj4YTT9YIez5N8eJ6YBSW5LFJZwm+Y7YyVXaV\n",
       "9qe6sshc0b2B3nkkQMhsY9f14f1Qq/eNLrpL718lOFy0lgndbM09D2JAXnmJlX36ExAIo+qRHVFs\n",
       "sk6g79qM3Uq1PNtVXTlN15ibLgC3vEmTUvvszgKj9UZ7n/N8vcSAC8eldbBCr6PK5/GGLjZYKH0h\n",
       "/nddIpJ2x8lltRU368dXyI1l0L99roEZtSbmc3ZRAlZIEbGWvjpb5ptwWyb/mMvb7bxje7Hc+Mel\n",
       "IuUrzqPSH/lKOTyD2H29Dj5xTv5MyplfaD4zhmMu7RJHx0zEl9MX5kzKtPxQis41brrI/2Au6VEs\n",
       "zBNWSN7JuyY5HPi034Pw/bDW+CKHz1UdWdRyFL8CxIQdGCMSByGPTeeowGv9vIpblWdIcNDKpRog\n",
       "ypIAHSMlE6AyAp78C5ameOgD+xA1CuMfIeiB3+5B3USXX2NVZO2OEvO9mRHEPykFtmv91turgKX4\n",
       "kcjqngYzHchR4/L2uyh9hwnluvSZU7gR4oOtok9/acqBqIV+XFjIPa1KfTBPCESWxmHKoPBnjWFB\n",
       "w5ADWkIupga4iEX3YRLzokAWlWkxKRXEosoPUhG4WiRspEzQumogd/iWAD6oVijDuX5ILaMdT48t\n",
       "ByC/+fOap1Z3fg58g3TeWE92uYevUoQtaS66ngnWwt755rNuzXu+aROrPhqjtjIMmpshJlKKEbP3\n",
       "NkKqHtTRlN1cbEwIQSVflcvRwYoXMzK6PXdO2azr7FxAoSjEDLoa0fJ7p7sCi0keDfvaASjmhZvi\n",
       "Gv8NNRKI/n4fsiN19sE+ATZuf8XCOK5GVC7TjTwTyKTPVK6k0+4QkTYawcmapD0hAAABZkGeqEU0\n",
       "TDv/AAynUNy8t12QAaLUUmY6Z/idAZC9GJub1mc5UlqsCE+CXL9EBARPpGr4GEhS7v4iKnDtZ1HW\n",
       "fH10Ky1emKOaDYzw+8zQK95uspVOg+tZqH51vhltYmv15NSnjwUBGCoIdGbfLrdPlEB1afpqAbSk\n",
       "9JeOOtjO4aLqkRNkWnIURb3Wr3KyYN17jkAfAXdLSnTCKjy08rGnJ1YBFtCLizwyiCANliv60fIu\n",
       "EDME4/TDkTi08NP+QUJwYIw+IVxW8gVYNTf+Sv+oAcc5cXY0Tj405719pR8UEGeBWtangIcON/YD\n",
       "2NOyOaoMU1sW+IOgeiF5vxtCNXckg/xzAdl9fmI82PX0NBUAJyR3ZxuFsGAAH3sPcx0/tPhrmqUa\n",
       "ZyKEhjuf24l1cBbIBgRo/KVhm60m5//g7IesqcWFwLsUuUaHFncWTsZjgLD07UsGdEkpcDIXhhEX\n",
       "35m3EmfK0KxgGDAAAAF1AZ7HdEN/AAAht4iybk9OEnAdmhCLHGegoeR6NVJA1H5xji99SrUFPybE\n",
       "eEzYOLHaL7A9RdvGNACn2fzFvDes++eSSVKB//FtLWCowdf5k+pSIMk/q2/27YrGk1npWi95VyJQ\n",
       "hXnN/JCuZB4OMw1Zs/hVZ5a9fvE0ZWqgEg5jHBHNoKDBsAXoA9ZTWYPwFDNY85TlS4rt+5fUFIjK\n",
       "MEphN0GFIBKPOwXNjzLtzt9P0Y/SbiPw+IIggh8rQboDw0AULzOr0Wb6fjPAoiDzOcy3i8Y8p6UD\n",
       "5vGq9xgmFwex0JMF3Dm0vNc7hSvXVItdpLg1ziyRfqfhqsYmg8kPczKs6yovP9Nz0DAyZZGShbhU\n",
       "rI6VG45wtqsCqYNq4ejMsZmHrLSNWNpNpcwHfYvCgfmk7hRMQBKhysCGzox9lI9VMiGxaOhdj4Tg\n",
       "BViDGtDHtSveh2oS4Mtgo467288Ck+kJrwyfJncU7DKUXU2N88fQ6srEUDLSzgAAAWQBnslqQ38A\n",
       "ACGxkpFhXpadH+AAguKgQAgEOJeItQtwyhJooEjIvpHcyNtgiDz8BDhX70hpvOF7uMXLeTmzjuw4\n",
       "0NfyhWUJg9na1QV8GcQR9dOTxN7HJwCeZCxHnoTF1ckYf3KfDtV9jTd81hC15WFIITB6YMhBJJIn\n",
       "bBrO+TKrAKXMQDUyhohrXzkhsRYlQvjTElS62b+Sdp/6S1zD530ZGWEHZkJHH6y3OAD8EIQpaORS\n",
       "vJpjdHUZV9wOtj32BvUT5gsrePBartwsgsh9PZ1rZcKFqSSSmycOkX+X6cc3YJZxkCX1N9uvyc7+\n",
       "5ztyLtEyYRg92QhtB4gteVRuKtfvW+wkAlCPO5vGxfxF9eP1P5BNbwo/PFf/ibLwQr066k4O1ZtK\n",
       "ABJzmflWzMdIcvCSUHB5JjVgKzQtRoupLL/nVAo8wOcn8VFjTuhUf2fKkx3ed4FzUcHpisxsDQ2p\n",
       "otMohwAu4QAABFVBmstJqEFomUwII//+tSqAAAW3ZqkgTmBQAQAFkUWco9G0rVCZk9r1mTXKhU/h\n",
       "hQoqY/q29fGlpRLlRgzavZmrCW5Z0QyuCAnsc/8QP/UqQQAAws1d/vHVsV3w6aoW8XpQcirAEQLq\n",
       "GdPc38i0yNOXMG2/h8iiVljWOWA8Q44nPHVSeOG4o2sl1xcz6v8wT+YduyUzo/zyqKS7k4DrhZ0w\n",
       "1bRItkrgSBUr0CFqL/NT6aF81xUXFftSd8O/E1cblLiSrnIvYeXgyQ/un517jWlSbXZPiufvDw/F\n",
       "/gjPGO3yH1cC3Nv3xfj9Pw36HsWrF6kMQT86kxQvee69tDdsANmAYAPmaLBXFQQeuO3vGvSiN2bn\n",
       "xPWkv1Yfxpl+oXecdh3y9xlhvvVAlEkBsoR/H2n2yIDYBKgPJkzAf/yyGQYPQvUZNk8c+S5IbYn7\n",
       "ltj9k/3SeNDAAx8OsQdWKhRKqXOe3G9Ys5XV+TpSD2kC2NGHWyRtR1j07Ov7IrOFTM8/xZueRaIX\n",
       "UpVkLXgAvh8GzQu6lU9363lwBPJRmBLkuL9LllDofSAQtVccwBGz3y/4XW1e3pNJU3Z3RI32eF6p\n",
       "s3AE4CJx1b5uxsn0mvJTvrN5yMHWaZEOW2eBtoCDsi5IzvcC1U+THC2Bp3R836KWWmQ/M1KoSGG8\n",
       "HYwoodNgxAOD/UmMym9Yn/S1kZod+xmTJMvJv87wP4X0MAr+RN/neu4bECxsSeqRlVS1ca+Z/FWi\n",
       "ssMQMt3XmOydKTFidB0vDTQ5p4Thoa+ngmN4cTNJlNFdMQVNLOarQmvrCxLoWD7hhsHuW7XuaPtr\n",
       "AeHJ3ThYOYsuCB3tP0djGO/cCHMtIZ3ucTG6kpQqFEq2EK0bHsBmbvZofMnkTpOREp+scTwq0pTY\n",
       "GfvPzubpiTH5F1Dc6VOBLuI/HnYj3aRZAC/KG3LWgNePVNZRQGwJEa9OuTY3Hj/bVHrHKwinl+Lp\n",
       "oakWu8TDaIXEhrCaTLYifHsDp1lf+0aib8bTMxYQTt54nKCO6UDSQUaPGFpcGVbqK5TCiNlJFJug\n",
       "rP7VJJCWDXiS4BwC1XnrAovP96nFBBphLkDvZxPWCT3EwOmXS7niLa3pc66rZhkCzayD/is8B25f\n",
       "vQfxYP0m0cLSzrlVuEUhisntaEhIU1YNh5O8/iiHb6fl/Puth6A+13O/AHTAj12m0KKT20pAKUOv\n",
       "2dsO78NNMq4OUREKWwPzeSLEEJ79BioEZU1sgZNMIm0BadT6BxKL/FZIv5VvK1AZThWvycroRv7e\n",
       "FMGDJ2H3h1HoZzPWUou3GfHgoGHkW7aaeqa5eRL2tw1XzdF1IAG+Icd0iLF8vuj44QBbF8Gyg4xi\n",
       "hFC/wNegwdX5k/DVlTieKX1VpwPzotpMMzN3Vgj26u8Xl89LJ6CP85RGDOE7bA+fMgQyRoYqKfPc\n",
       "zVebU+JkS6PZq5vSPGkbuVY9DkYlUzL/VBak6iEn/uStqIBncAAACoJBmu5J4QpSZTAgj//+tSqA\n",
       "AAThw3IAhXm3jvMjzBakeyBL5NoH4GElJ0vXfM8qJqan4eVfrIUcewTxfwcH+gzKBv/57Vwqzv41\n",
       "FRKBbSm/F+zVGZwLZH3TGxWayoeDlNH4PYyucSOnU9V+FrWZrvyRNG5+3nyjxfZsXsn2mWeen8r0\n",
       "n26ETf0vyU6S9diJBMA2ra3B3ouKX6c7KpsJeVDxcpMpjZHrqOE01uCTZBf6TFkw1aYtAHQQbv8K\n",
       "msNkzlPsv8xydgK69Aff7NKdw+7sqZ5rBmHCjIqzVnvgaZQbnc9kpe+FGPzvHH1l2m95lQqxM79P\n",
       "RBZfOtUwEJW+POz2ffwYC+YeSI9N3wob9S9Z3dIMIzq6mO/D+HB3ttf2NngQw7mY0JgW3+W5tRrt\n",
       "YOqoTRJR5ZiM5/9L+TmQJJC7BDlf9T24Hc3lADXNFCvOcgSJ1uB7uSf6KKDRzFP1/Wu2RQWn75RM\n",
       "Pax0ucNenZjmQMf/5MubbRXF4fCtYnhovIVrLUzEQYiFT5YVaTXCVtb0FSviRvrVzSXjjewImXDE\n",
       "y7XTtLDBEmWt/xlHGYjv1gv89gy7Jb4jEvMDUpjqxCl0gbOtC9I5FUMG9UG3KToq1xt3toYs5rHF\n",
       "/VQpyPFqJaJxUhWTzQqwablAWdjmtD6AASlPRH5D+IE0zukF/c15+ScAAsBWn1YHMW0iCFaIZ0td\n",
       "wrsg23c+UQgTBKlKWGVffKC31xDNmA/ta4k1BEvlnFP+/EY90uGQhn9XOMhPjd7Bneo+ABz05Znm\n",
       "0Y9o+bphBVJ/1b8llD0eGM8tqc7hAIqDe6jppOHwSWH3TZhJVdv+RCWdEU8Al3GXpUpXbftvxXt5\n",
       "daQeZbpw+YQtJs2eoEgRqpY21j1AyxuQlYWMfvUrK4Yd5qdMwagqacZ1fj/0itTeU+eOkv/T0Q4S\n",
       "P+bI8QdC8R4KyGNdTQNwe1Q7J7Sn/8SgAjNkj8jvas4PX6ILnfK2Ck0SoRZZwaiAYT5NIkypxEJQ\n",
       "0BzbFcd8Um5P7Mu/g9981G+0eoARZivq3zAUTaoPu5MyXmZArQ0NtUQ/JPH5Ju5Mw5fGiTNFNs35\n",
       "MC4Wz6qr5FO5PFD04SRRDWdKWpvoc8M4RKuEdbDvquLfMVhY3qmariYMhKEWaTx63+IDIVmv9MY5\n",
       "RU3r5uFZTJcMsEiJpywxKFQi3l1GAh2BrMsXnW1GAaQ/FQ9KnyZA5ZlAp6Nu+NUz2lZ/66GvuAji\n",
       "C/E1o7HJo7VhjLfyaUybT0UjRKokMjnDD+KwMotmvpeysO9d9Yw9jweUHvznkZD272ByspCNIici\n",
       "oyUUAPXTnfzzNDJEQeZ+Z1T86UDLHfpRY2B6FPJSmGcqfcyDwujbwK28NoKQ1i1dzONEtzixhxjz\n",
       "mhv7hTnrYO4gd6TtpIqEzziQkVQorUyX57YtmHFNPKcmSzCYXmEIUUL81AKCmSodp1dHoUSJ/JEa\n",
       "JTnHJGRuEWI5CNCgq15fAtsGOfAnZP6Qp967SesrJMdx2d4RLAgr3nB63zYkEyGLWKYGUzz7zTDW\n",
       "DvzNRDMC7T7voCTHXqQFdFUiIHZ/NrqF4c75WOmedtFTr6TVq8hhwCYxqvNg2Akz2RXh+AFa4JXG\n",
       "asxJjfzDbuWM3mLjtNZ6RdyhWqZB/62SBe62EV0gs64oAi6qRQhMXo2BmpUyepOXGp/qvJEEQ7Zh\n",
       "IIPTMcuVjHhMfK9t5TcZUB/kI+sYRl995wvRgnDAK5I+H+8frhne/m8TRWV6GIxI1QXUWbSbqJ7N\n",
       "vBjkeui1o/W4you7tn/SPXJBx6zKx01o3SV2BwD47EGyPB04sbXIEUr4+g2OBEXeoA0NGwYYQ4Z8\n",
       "btiH9lHqmOcyTt2F8Gu/m/6U+Lflv8BINASQs0eE4T0x4Wiy2ALATvQ0DB/iJ4jTP905UiTZ9iDM\n",
       "uYlttx6BbLPFE0CQr2alGT2LLmVRd8pXFgxSgtDuOyN3+1rCG4GE6dnLKLUHdu4sSndvA9QFD4lp\n",
       "uAiN/rLtGv+0zsNpjK44cwilhoEVAL+5B2CJXGYCvgQb/aAY+4NNeBiH1kqCEMigg7wdrUZ8cCr1\n",
       "aqreAJBBYtqEAZcEoVDZ8RnaczkTEvwjn9vt+0+4UgVX+Dnsh3MHy+fnqIABDqUPAJ6eKW0Nwxll\n",
       "rMQWzQOJmCTLeDVTIzCdJh3bM/bborR7RKBWG/SzwvzWltKoRBaU+Pu0vnQP/CJ7iM03HjjoR8og\n",
       "pbM4Ah5meSKsUNIE5GW4Jp3oKe5sfEvtdP/TYsoEGeo11gKK0wN8jVXsmvzlxFvIPRH4tQVJACaJ\n",
       "E8kLjJ0Dvcz7EHUyEzlrES5v4U35E0H7P7kDpPJ8JT9LXdj7mVvyGk5bRXDW9inbHkLf2Ulh0jO9\n",
       "ckfL3njgsDOrqNl6t1QdQ1OFrpxK6a1vfjkP3zS32JJwPkx57YfGxVARh/yhJ1dwakTq9p3J5riv\n",
       "0niHF/WWpMb/aRoQG7Dr2tBpljBsGJYfRk8cCz3i3kmQ5eITBCDEqfon71/qgZWYOloadAvBUowZ\n",
       "+5CrM8yrBPKvaIDRNfIZaoY4gpWDnePCXlpHsrrs7ZSJYULE/5xN9vFkHgmmCMqBtGHSXMC2AjgU\n",
       "/GDZ1yU7VL3+Tx+z+lL2Ncsn68cuQLl74/Q6GapbXuD1w3VkoZt0MdhHMg/Lw34gJs2vRBh0xbHp\n",
       "3LRfZK+zvebqRkAbWdkVBs7xiPIwVl5w9LZb7mfOese0oHcdR5DrN1l2RIhrsQdFhsKvXwsV7ETr\n",
       "Ua1HvHRGemnF8Dc7Xy6pH7aL08xII/0KBIs19lZqO6yWtsKr0u7cFWkVbsu3Wjbj8YsupE8TI1Kv\n",
       "ceg1k5rohRReTWeAoSM5QGPNHCa2NbMc0wJE2f5Qzm4xHMlW+PfZahqzjyhV5JrlfCWRkmUMjr8u\n",
       "aWbCyg3zXEX+Vgy4ls2UTJ01Uj+0VwIgb3bS9Y4XOsDR6wmCO9O5Olmiku2U6pDygbqzmL6e1gjv\n",
       "BXUQRMIjfGy9L/rLAAAj8NzaTCiniQJ7sILTBB1uFH3cyrcINmPPjJA/7jbrg10r8KPvSmfOhPQA\n",
       "loEpShSZr9594OCPkmx/caqp/C9bVCEqUaaXic5bvh2go/R3Q5BCU4qA6AhDaCTKfbMBE6tJHP2u\n",
       "BdHqqn+zM8RQ1PuwH28EPcYau48k43Y4lUWper6MkcxgKCRI5XjFykArs31IHXd/bIRypY46q53o\n",
       "P6wXIvMRwddOHbSlIx2SfezBfS/105X4BaVT92yGIWheKC31tTYg6V8EOtvvXpazd8h1WdRq66s5\n",
       "8FzduvM35eI8SHg/BnzKHL6i/dXlD4anrIBTvIHaIdQFevKb1NgvZfqFP1WBW7/rJE7kW6FsPZNs\n",
       "YjaeoCZbUL6MAkTp3ZlMvaHOAMUwrA+xcHIsOMNnN1HWAPqmFR+CV4m1RCTZudE++1vws74uK8N/\n",
       "VDh8J+lStbnpSPq7zuiS6p1yYNnQczT6bJeK4Jboeh3lvn2RknDxo9SmD9//d6hDA78ZVbhoIAK0\n",
       "6dZ6677XSK1M9J+oL5tIpJYd9iSeK2d2mYSZjF68/HPf/J+D5qR88jG96zEnQC/VEVTRjQAAAVFB\n",
       "nwxFNEw3/wAR2Xup0d8/pC4LHodzJUDSrd83VWnwtUbq8/gPwLAh/HXFiVAu+7UShtdyxzA3og+k\n",
       "Fre17vcg8g2Zn0gRMJbYYHxd7IAE6nY3mledADpnoGah4++0TQpjrG+tWqSI09n+B76x/R54SB22\n",
       "5eEe9Fvd7L3RVfqW8JalhGGp6X4bWnDv5LuztPoEU0ZiGBIUUzDOqH+SfymLEX1cDWSdMjWgZYd/\n",
       "KiKEwS8pJUfvj3vIHDvLduS/BYx3BAWPt7Q0Oi/Cmnjn0NfIxwt/Sj/RbzoEKrsqI72iFgkENdTx\n",
       "grrfMB3ELEHY2nen1OX3HRyYZXnolGKZ16urm6bRGM6ayqk7fzWyeuywOKBj+oMVoI4pKPBpIowm\n",
       "g3NYEso4G+snopgwigfTpa7Z09lFcTpBUcMzmyGJRes7bJu1qSfEyNedXL+xJWRnUhKxAAABiQGf\n",
       "LWpDfwAAGwLpMQV3bzvCry1mfC1SU+9LUOeX4cYx0l1Q9qTI1bW4IhlIrZ6gAM7AMZqiO8MTq4Ju\n",
       "n+RWXLlsdYNw8gyKxuG96EpP64XvPptMlgoRlMAJVYoPZKyFPzVjyBKV2/njHo6vOhaEd+edKsjR\n",
       "d9kP/GRtqDQHm7kwh0LhUx6XNZYncxYwgfH913KAdVqc3Oy+jv19WzieEwjAcykdK0jigNoUPBY5\n",
       "JkOiChtuWEImuzPQ0ptKCw9TmBKQcktyOQYzZIq00vWbOSxxIF6ombMXJ+4Tp07OP+9kYyd2ky/L\n",
       "RorSOKFjv+E6OJllBQuvDto9SBaPjRARyylLKgAW2i7ebthJDK9sndE23NfryAnTtVXxKY7LieCH\n",
       "Ad+9+2fq1B2+Ssfae7DWHfidYB4kn329vVO5CnGCYW72+9bVPqT6Z+JHPv0OCXt6yV0/jWTaWM8/\n",
       "85a2kV7ZQGacZbOWzA2cgsrZwsD7YwrTR6jzbl1v5Y7lsVhzReldKa6fOqcOEPfi7wAADddBmzBJ\n",
       "qEFomUwU8Ef//rUqgAA9D5XwCzGMW1Q75TcrpWEtMRyhBSa4NbuAtWa7z8SWcnMqHgfhrD/XBWoq\n",
       "6mbr3zZXm5R9XeFXngggpO0RXMPF0WTmFx+qgZx0yUWtYUBZw02tZfQErJyBlwlAGZCN3a5pvy45\n",
       "eQuUjEO47cvDUiDJud7KOAlyAZlxs5RUiYt1pz/Q/FGNPP3Zg7IcvQ5uCDuYFBmMicaaqabAK1u+\n",
       "xWkitVMWumWQFB5XrewQL5kwCA9X9YffToX0YOxVfJUuK9T/oPi/aair8ivd5/QtOO55yd6u9KAV\n",
       "42VSpBzQaLCb6E4y8JwvsmjMG/Qhh1Uxrkq5n31qwD6dQZkpf9RmuYilJgsJxwikVmVX6mCWuqWr\n",
       "es+LlMs68qMu/KmgNewPnVo15VU/f8beZM9HsNUIOSajkfQTIDAJAVAMOIvJk4xVYjzXUBVBNcU4\n",
       "y4US44QROU6EWwqj7qPoV0jNvYSiRftjkM5haEah083wN8Otjy0WDjUzW6GbgUgrjjnfWTqz7oZB\n",
       "m1ys7ySE3RTsjYOuYqy4kzda9dQjmaX3CkjkZaTbTjFLixeZhgmimukSdyJy8fetsUAogAE/qV40\n",
       "vbYtxfgBpdc4omPEKZ9Oua0tTXPHMAVBS2kLzoOu5UQFlragoA8g3ivOQv40NUTpU3Kbz4XvCa6M\n",
       "IJ2Y/CwO+I5t9RPk5xfbItsHm+Oxm4rCRqcMxeUE544XhbOeNbl3dH9juBPwDJy3v19YmExp2T/P\n",
       "rAMIKlKH04Vp9FeZwBKgrZvL2hspTvisuWzloxJpvCwuPLcp/wS13dUJm/pfHi97ZR9QDI2RBUCL\n",
       "nOlNGl4NPIOuWwHQWrNIlHcIqYwFx5MRGYrAgeac2TwDP7FQ0Mzi10YxEq7AYGSbXMckmn3cKEtC\n",
       "n6WfLov2DOnv+bjLbJE/LZx5Q6OAKZo2sygCNGCrjU7DAr0OcGbgipJxz4pD8Bl8uO4GGIKgp/oO\n",
       "sr86gJ+w7A3tbqnRJ2I6xLJXNOjBDF27YFaWTDxlJ06Wr0fVCGUhdVV56g1DYfbPj6fXY+/pSLpW\n",
       "D7JeA3hwo6RPjUrXcr71qtcF6w8BQK00ijFr6otExwtiq+mfMAFjq4O8cvt4V9z5vyLzX50dahRx\n",
       "l7uvZM4DshnCVDl6dc4BdQdEyjGBt7o2NlpprKBoa58bGO2hgg0NguZp5gq4hcorwiEKUeFZaeP/\n",
       "W1rxephEBgFRyqHl+lijmwURgJSRxI2MQ0tGhfX4gZhNI5JmLXyKuf+7S2DJC49YHieX9oFwYtxt\n",
       "2mMGcy32dau8zhfse5MkN2WK13zW5Y2M0P2pM58YwG0TSmY0RT05Al3TWawQhci5Qq4OT5EOGLnB\n",
       "jUnPoYsfMDzdkTc6UOK/bbr31cNlUj42AidHpNLd9t1mNEmUnD2t7MqftwrfGB4lls4fL71nf9xD\n",
       "3iYWaMUk3WI4NWf1lfvHiduF7DP1RaUC8pt88C3A0qoho3MNKex8pqus0iRltA2ziC/Ea+U3Agpv\n",
       "/dn08TRMX7r7anEdBFBM1cH4p3WNqC9/3xoLO8SEdgMb4zK44uhB1esr3xI0OipZKq3Rs/XP64Yw\n",
       "KwShalm3vQFgk9jJmMPvDmvYCupCQ2ILE1j01AKvvMK+i+23GtF/5Et8O4TdgWoCh3RkWiG4dzJg\n",
       "mq1wKliFLUfqjOiL2+xlel6tFj7jMHmH77Q42Qz74wik+30D2lIDjXCTncQPJYBDAfSISm0oRVwR\n",
       "lKrDlqH+Uv0jBq+CyII9tump9syEqyrLu+SNurTKJyToTpoEUhS5PxRO9upj5MOsuhDx3ck05j++\n",
       "dTPP4poVg3pB4IJGgxPtqY2cl17FOoS0/bl/ZFohszbYauLiTbNhNA+Vf8+tKUe08cQPGSxOJqDI\n",
       "1cBiYPs5RG+7sF9oxlydwpzt6pGGDqg0X5V+mVCu6q9uZlDPIu1IxiwDBAw8z8ienbtLCXFhHrR7\n",
       "d8jJojRrfcwqqAdZcAtdJu+VIAfON7usK/SRBoBmv1PaclSYbOZOuNeyjL3/Vskr2RhawlLPCZ6m\n",
       "4kktdHip7t7pd7v51nu+eBTEqQEqpgkOUxfl+z3gRv+LLUmL5NFONWJhMQaYNEAMoflWmO5FDXyM\n",
       "mFIutwCsrvK6I+nqL5RpBmtllU+X50shVMnjWmcPWiC0O6MLqNPEZozo9xeGmzyHDixosE+Dsqfy\n",
       "Qv/ZS10qm+ZW4qyLBq12zzyOeHzJLeUUZfY1ZmRSLHLSDUc7+k6/r9UZ4BjdSXpCw12a23LqZlOl\n",
       "d4BbFTcf72HlrIa6cLOkFlVMZCcjWlmgesef+wUGfzYXTd7pEIzztc7Okd2q88/rboZAZNVjg61x\n",
       "IAQd/BRHnBoqiIxeeHvNCcwSqwzn2632AcVBuoNiHfCgDbFWiE6PUTxTNg9nO8y4gWRoOPKvBuUo\n",
       "adQZpHCwN49lOPZuS2jmYwyruSmuS8MjmwYAvpz9gkwus9r2/Yto2GUv9c0RASY1/OLfRtC/ODOa\n",
       "0nMrW6SjXtrLVcdcEhzXCPI3xYerdK/4AzFfMCae5E1BNfvUwnwr72sHqPCNlDX47QKfHbIIdmJt\n",
       "m7FPG6BtX23uKfSeUO4+TYIc0/MVPvS+qN736ZsxrfvGiGoDQUKV0fvknZNmQodwW2KKxr7YmZae\n",
       "UI5SM97fHW1kER2ieRNt1bmJGJMRFzR/TnnXFBF31bVaC/YlpA/7qpCKidDcrc5B300ylgoNxY3l\n",
       "V68bO3110C1dD5CFo44fKBqmziae2DqrnXXrWJDb3eUPq+99Lj2XSsj2+rP4LeqOg308JcUBCb+6\n",
       "U/+8ePH3hj9gPooDWK8K6BYYy8sWmPpHRH5x4+lLt0Y4lL5HZ2dTtnx59d8XZ+BINsd9AH+Hd01d\n",
       "H5P8Ovfg+T4M2I2cBmTRmc7MGLE7w97I5tsYJW5qW/BavxnmxJXgg9pVH4SXF2sGdjGe7TnCZh6e\n",
       "B8JInhHXwbc9BlyI1Z6/FMJa5sUFe2Nc0SD/cwC9+uEAARj39zCeLwPTdB06NRFlsNyK2xXs7VTK\n",
       "mI9N8tNLaJSeOQJaF+I/OaBDmrUSuRzWGswH7S9Y8HiHIVE7nmfcUJMzp4fXkf3NP1/JcZNwefAz\n",
       "5fK/7V6xEllVvt2iYd6ZBfi81air1uVyboMLG8s5bflWhw9G6rOBXKn+9ahP9FVW5ngN+U/BQnal\n",
       "6spudpezbsTypXfVwP64MCTvQufi0QtZphi30n/+rqvCuGa+zg7BlL62MlirbBtDh0rI3bTY0zNU\n",
       "p6iJJFagaB3G/80/lmRTAY7jhNJKb669uvbFEH1ogbbN6G+r3nlhwR8r9jnbEny2pvyO1yxO3Wtb\n",
       "BBs1MmEZe6JAV7/6O00NgvgbxwoBUArwl8wxcdQ3i7JRMyf+6HoZPL9ksBQvX/qeuaZXZzaxu9Nx\n",
       "Oo6/N7RwcYOY/DDHGJ/1qCz94NwLp0datoOuSyrbJixgvT+rpRAF4HJDg0rRbqgMyEViBQe81PZA\n",
       "4cW+C5MCi51q2pJne7fCKOrK8M9G9jZjdsh1usY1l9x8cyRcqkdapishZ3BtCSWuPh33+KonIrWK\n",
       "6D7hSvPbSrAjif67cFibDzuLCE9qJMPS1qcro146aoO7yBBKe3ugqkw03t9TUVq5ZQ5bGq37jbFe\n",
       "k2LAoIwtn9jPG4rXePjyDTWBfGp4bIrDD26GrnrFj/mW7/2eXNIi0GI1AZ3Qrewd0/ur/wzDxzgB\n",
       "IZ0+En8QMfRsthLzLq265nx8dopqia4m20ULE2Dzgm8ChtMssIZUzMeoj9O1/L25KagNoU5RIT2d\n",
       "1ilFt/5oVPJsRRcEb6CVED1+EQyV4l7WeaNaPeNe4HhtZWBfWAi+eIeWr9B0H2r2iJ55OvUaqtG8\n",
       "rgWusbkQOykzI/S+/8k2S2M94pcXTUxnvqcwpY9L6JV5KfpZ2z2OouHY4JPVJqo1fGaea8un7H0u\n",
       "x4JMvfC4tQbVdLwgV3hJMJRyjFsZF8ctrhl+sRRplcqPSVW/ptuOIB9wf24d5/RjJrjwpFO1gPVX\n",
       "SpvKgIVFbIzGDIwC4WLhxwJ+CKo+D+Utd5VsGNztN5ESRsNIADGus+8vFS7rJp9nhxGZGKtLBaLa\n",
       "MFhSW1M71fHtyIwVtAQORfxNSgjHwZx+/LZPfMZ+kdXSZoxE5IPua6zRrxFJ/cVieWT4dEAYxf+6\n",
       "0sC7JZPytmPx/4mGJWs64IHVKnDLx/rOpUsigCbDX9W6mpyn5Xd63s0amn431dd7orRx20yuxVfB\n",
       "kJ0190AqmcsGI2QP3Pw/SHIHcz4m/OlNDBDJ2vLrk95nUarSOnQdENrMSQaBP+d2OWlC1VlV8RW/\n",
       "G4ExFfq9G2a12COreSV1tZZYnFPjg3yD44kjFvdOVJc9rtBlYyhkjhW7JcQU2fjHySN31Vzsqjxc\n",
       "LFC8onCgGrNciINUaNxA0sTCmCVoQ+BIX1DCMxu7bplG93xASBAgRCfqJCxLCpR18pVZlUjLh5L2\n",
       "kCqmTLF+xyg8ieSLJ6mijAnTuT+qILQCdAmWyAVUmLxQLv4ApAcfrn0vTUQXUHWxZLxazXLEFVqZ\n",
       "1Rcjk8tfRBwEahhbfdfCyPAXLe6twOzqqNs39B39SBG/reuLI3zHHzxlc80ptsXeOi+ToiOI2tNQ\n",
       "Krr478k3wDMmAj+nqm9/Yyjt/ahUWel3Y9uquk2eWQN+G7RP3K+gzFq8mLLbhMsBNmiHESndc67l\n",
       "tHbhPmEAAAFbAZ9PakN/ABHcjJKytxAEBrOJsJx0jyDQDy1RscayZ+mxmPAwT2v8aiU22Nog43m4\n",
       "GioLpg/MuV+DUe5V7/WPjjpvGsFKtS9wt+gi8G2kMJzW0NM/xGf1w5NQmbqr5tPwDLqJixW8rBSk\n",
       "0k2bAbQ8FdfL23W3Ra69Tb6b+VZqYZHvV5TuubNIL+hmNfxXPKeN/rAAJEKicpJ61rbZi94z+F1e\n",
       "etLUBoRm7qfzf/a4FjePkY4GGNzFxnm/KJXr7I8BKKRaic/JALOwKIGL5CXVyAwpqbzIrIKi7ZJ/\n",
       "4T7lDPN+cp5NAMdgNhPh69D+6nj/Gyzo7Cqpm2RSZq9LZtF7JB1h3aBfwY8Qupt49bhyd9vWFFRA\n",
       "YTDfBvBgiGaFdN4HrbAAPLPvBoLTZ17wBLkGcb4g8EQnuj3dgM6RpSTtvJ7C8/wdVZ5uTBoA0upF\n",
       "92MxFySDfXE7DiVAYsAAAAnfQZtUSeEKUmUwII///rUqgADAcOYQGZcF+Jr+mvZd8z+zZM9K8J5r\n",
       "LPsp4WIAQT4SrJbft9+5pcqIWCkTRGl30uYSP/NjCLkOAk5Vbf06IdRCoGvXZdWpnnkcamOkdoOZ\n",
       "67Xuut/C+o+dRgKlfMd6TE18udse/bcvSeqAXyViR8z9FH0QL3Px/inxjMAzY+5v0nj1jIcYWCDC\n",
       "9SojT0T2pq5wsBCYwqxU1wHIISYUzy0LMwA1gOoL1KQF/R5RqtFZ4PuWSc3P/MYhqOgczpa1JQMM\n",
       "56CfOJST9wnms87/thmRpLTxwQYjSEQ4k77c3a/35GA6bg5YRPrKJ4kD/2Xz4Me1eEpzrDOUx+KE\n",
       "Q5bz74TTRpgZbKTYOYl1ZHDseKBRoZWIYOxz8mg+n/9+llp6A1AyXQTNkzmyYsxMnau5STUchK9z\n",
       "ORdzRyZsKIdBM+RaX/PEM/Mcj+PD6jT51iUpAI5pwpdwzD/tkW+V3TJC3qwyCQFfdwwhMJQXf7l4\n",
       "Y1uptgJov14pjr8L+2GDOZnKTdNS89U42kAk48X9nNYLaX1QlcxGnaQQoKiDeLhp7+HaDOa2UhZ4\n",
       "sbi9Kfa7IW8UnzkQBeZ0qakA8nwXozyUaVGWG4r1Ss6RXrnp3fNX426DYoYvMaNyijrLJaK0S/V1\n",
       "le/+A5eVgvYsc51e4UyMJNxrt1uEsGHUbnfg3EXwGgG1juHSv1VZhhqyIvc9i4qsAvT4KSamMJLX\n",
       "4XAS6pBk+UZj3l/N8qWnsZhz55k0ZusO2hnOrbZ47Knr1V9UKF9287eAtTQZskuC+l+++aKhLxor\n",
       "u62YlVZEBCmAnGbKMK26G7LSpl7bKPy1P3fnG0BZImXHxs+Fmy+1tYEOkeBuejlTWJ7SIlxbsgf6\n",
       "Bb0rVI2bUeIC0TX1d9qHS5o2MwwF86V8u6aGGIhy9PZi18Wx38r4N7qz11Lg2X2MJVHi1SheVrAs\n",
       "DCbeDu8MbNj2n2eCz4cvXaWRfzqKtirSYJvCqgaaYBKotceQpfAJr5nCjpmf4NC5I2jfJGMqX6Fr\n",
       "QdVXLHWkv/6pnxmL/FoqZmA4W7Wu+HA4ShJ0u/nVR8sh75hJaP4Ey6qo+H8wTnErjxU/SXDknKfu\n",
       "K0FwDbkre6/ZRRg2loGIIMBJ4SMCNCfPsJhU7aHHMe+qV4AG5u1Je9pB9s9J0reBp0Sy522rmfyf\n",
       "5942kxjP9ACpZaalYNCLCoao53rwwBoCG6uvWuJrUaona1xtpFESeAyCXpINcOdJ2C0GZRRAC59R\n",
       "WVNTPs/VNpIvsbouZq1JvJfKpa+1gHB45gAkaZR7s1xTXA7qTGgwGdC8FUW6sxtkOjiddFydgT86\n",
       "5sIBXynFV9vAdxfetm7VBlPCiSa8sNEozUjxlYYlpFIu2GhM56FqjWfgIAb1mEBGlpmvz4pr7Irv\n",
       "NRpddMt0VbN0OyDF2tWXavT6FOc5RaZNPJY7V/iiKkG0T7sEp87EEQdiyHbOBAYIssu1I49Y7RmM\n",
       "5UvpRCQGDgOdvxUJkypJa3V8J54zkltUG4rNNoIuy/AHDKmCEuMssoj6C34Rs4zXYFvUgc2hvqOK\n",
       "XjcoqS/5yxnc60rXuW3cLJ/yUylE3bf/wlfxDnK2b3aKXnA3H3MmvpvU/RDbz1VnuKmxeKWmf96t\n",
       "L3fms6yiodMYsYiz37UF5tvT/eXnbdCcZjZCR6p2yq3IiTWkUfXg70YYOrHjSMsmafYQrAD1cn1w\n",
       "+LV2uZfsi7RtCituiTLfrV51tjVZY059sS81SCvOwTI1IUTa5C47Qn2e2dOTrdVLtW6uJwtHURoI\n",
       "Czvne4mdi1gODCc6KEkzeJPJFzLlPUqGU+ncr6gYFqeciCpEww/M2KhSfpmEXEzcWpsrOGwz2wlE\n",
       "FaDzU/mHzZhFzQiyv1mvQK/mZ4b1JMDdqSU8+Nm4AsulG9pLaUsPhvqMfMB/AS2n1edPGSZDptRx\n",
       "nNtvEx1Xuef53ONx9FX7JYGcyV0Pq4JjuLM8KSpUyvNI9gL5wtulgqAdijKs699FJmmo58s/1nbD\n",
       "NBZUBp3UH39eE11PXuTchKA3BmmAl3M9Wq8KdCG+Q3ijaCavSEDxEFkA98BB4ICsystG0ZijtojR\n",
       "LOYneRaPK5/LRaxdZHaW9/wW2OU23XyV0dykhPeEcC8DhUvX/F2aPIyVetK9vO9H8Bc3suquohgX\n",
       "cXQ5gXuRDveaAMLaImtBjhyKg+7SPwNchhEqGyrSKGctsuAjGHMMGfiozE8x2p90cuIL9E6WMJpK\n",
       "MhQl4/aK65fZzQbnJkCkoV4Ui6B8QeKkcnT8xVxODwXH00a9ds6/tdM8rimqkMRw6WBmdWnIkwlf\n",
       "KmUXYCM1W3LJIb2NYjRuKDpGsINv6LYi3I5+16lvAF/u949SFv4+YNl/ezSF4vPtQc1nltSu67RM\n",
       "UHE+BQbOzZb4dsZwMkJ/QChfkiWgceZrnpY/782rdFtWPY9pPwspMZQR+hJBRguJRuB0L34Sq6Om\n",
       "hBd8o1d+1mvKmYSOalLRXdWHauk1ZBwVLmDfxTfYwNpuySt1Vne3fAtuhbjks/asS/GAbj+Mer5p\n",
       "/xEAMlZSUI/X7WjfQqJ7D7E9EVez0YqenR+hbuoyef2VFGMdDAbUGjIaVulOIkBV7d6aodZ1dul8\n",
       "04921yCy3UyCDPB2CZd45Rod/GNhM+rhJeUoJWQ6APgaQW3RFTILjKmk8r74iM4S2NiRryeBKXSf\n",
       "Ad1xetXjh/uOAQY0hqhEpjKg7b4uCz/yR95KzbgqhJxb99LIuNA6M+Xj3KZe1W3dNhe/mE6r1DJr\n",
       "qj54Vh/mOu0hbYD56qFJO90LrjqeYES1oBkdPikxvEIMM4HllA2g2kBmiaejEHSW/ZnNVlTiNna2\n",
       "tyNzIuEDcJpR6IaWWV2W3V41Tn7PbzHjmL2HVo1+Tcbbpgj+3lX2RU8v9h6N78XzVhnNgdBHtQ9p\n",
       "grBzRNM8epE35Mmpp9WJn+dsUa5jov3pvDWsBMrNLFaK7IMS9/eiKcNyh00WaOj0/rkZkRjrPHCI\n",
       "/e9WVeYgVeJzxBbKQacC7s6HwihKSnPcEE32VGwex6tdo1UpVswv1adSkVEQTM7pjh3TlVvkAb2V\n",
       "QwVpswKYodfmaWeBlHasXr9cpiru3P5kApUb322gQlqG4vSRsAa07sm/qhrmvWSKoE7S6V7mp6AV\n",
       "i4sMPL5iaxOq7alyo3almqjryc1fQjagcaML+vloa9SJK6/4/rpoWvKVx0qFsQeWfKTpq7TOnFxx\n",
       "bcLjwxGkNOIRkh3wD+YGjw2X9MRqDjK9viYrrItvHZWwsC9tPoo9Ggo4kJC2vghKqukIcA59GEAU\n",
       "VTZWLnYV1XyVi0Co8gYCmX4Z2nlMKmYWbO1cWRr+PI7fYmAl4AAAATZBn3JFNEw7/wAMp1Dj6+6A\n",
       "CaauEYLnZD6l680AAyY7ypxp/enkKZ5a9RuzJlQgKDYFpg+oipTflnT/8TGkU0rZ8CH3GGMG/HZy\n",
       "ntRa728oAR8H2yAYMp/v/8W00Od1LsQfV4jXVd4GkkEZGU6UA3lW8z4HuKDkPO91gAi43zec02wG\n",
       "TcgCKqhb63undpbaON8BCrPr/6zpUiSBlRi/mfQ9Dpt9KdrHQFSRReue18q3T2PA7TLNhZASSuRw\n",
       "tJJIX3AXu0fJ0JuBcaLTRZ1vITwtjpiFRoTE9dR15q+HOpBXjccdgOjgKzjLUaVzDFbc5kkfH3R9\n",
       "Rdo5KXMF0H+MAnDNmzCZxsfkhC4SYZUgCmhqjvMEZWzlzeZPo9FPxlCKiDEJK/65gwZC7VTNU3cx\n",
       "evEpJtd5jQW3AAACdwGfkXRDfwAADiafgHdlz0XuKN/8L9eU/Pdx00JpRpvUc8Ou7NSSgHIYhxgN\n",
       "yvfZLAT9joO1yAHHuQvrFgvTAIxmjBEsrq3CxEx6GgfcTUBm//8QIxa13KqwwfAMQrbmUQpKplCe\n",
       "iWcP6BlCQEqmyM6nWCVeaZNqjwqtaqPtXNaz4xNI5iTydWtlDIbR55JtukvPV8nuF4txSMA7br63\n",
       "qiybHosGU7WzOqYvPzcO1hfCgYWX4abM0IvSOMA1j2cmMvZhL2WEJxneWJvCU0EFeRmMlC2PSATb\n",
       "plaKkz/CbZkcbzfhxbt1cOHHW8UbEF/UkzvwE3QXdyPUfCIGB2BZXwCezQdMqF1FP1TqNraDaNf3\n",
       "7+b1mI6unTOg+0Z4jvcKwDfBy/2dKJ+wmUctWIQvDYskn9Hp8UzV/mFoZpEaL8xNVFS+5T5ecCTw\n",
       "lKsUECpjZMF+5uidQV3leoizkfbGBDDQfFxKtnNDjJZN67zkJ0xpo77bh/qfunBhb0SzEzhTpglu\n",
       "liSdGnBG3lBKS5DjclvL//AChN7xcwH6jQ1uSjJNJji3gqtWo6o9qShX5ymgVzuIg/6qRDGDT3Wd\n",
       "x9en7WeTC01ravPgCpWk4DR8OFV0ItnCY98rS59xKq62e9lxSAsWPxhswPQecraSAp1F1uiZbi0X\n",
       "x6loP2W9JfKd3OZMOrkW0yrvYpfuORjVT6l0sJYklZCTvm3Ytq0e8kGtnCz1D0adnhCj2x/AGTSe\n",
       "NP/f2Uy46RptFreFc8W8OXeLiuTuKNkVTE2J+Vx9mqkAUCChaMZ/L7iLUQbt1BEBESWR/DAzo2MP\n",
       "ZVV1IJBggwaG1t8robwyPzwAAAHMAZ+TakN/AAQWvQDnPUzzP9UHY701y0GAFsbAhpKLYKVNAZDz\n",
       "2Hw5d7pWW8y1NIrVLagGuHbM2KJetubKeurZu0VomplqkRZGapwqI9ngH0tTpR6y57Sj3LlYH6aX\n",
       "V3adIVO05dzvmOFqxMq7H100gALmPDCbALP3TgJeDg8c26CuTL4pHdiVqFB1L+eBeHC93nIfmtxj\n",
       "MfPhalZnk39WUxq2dUd8irNG/CO2vcBLdilb0LrtWyXZX9cGnBXxmANijIQKiZ1v9C6WeuQHeeH4\n",
       "TVvfCUQhSk2oX0GG+ZjVrY92cLEsqyajX4YfUV7UVbFBuLqDPagLDohH3aDabyPlQytmPX5fVzg3\n",
       "jZVaUV10NgggOw/NFGubJHpwSCD8FGKYLnksPxT/9sQO/C7X5NdVOKzPAJ44+1RWULY8e/ffyGD+\n",
       "YmO09H0A1AbIZf+obIJaPUrvxLAxRlhzLoyV83oSIVahzDxhGKvQn3YnpAnwSuuk7UIWNK4j878o\n",
       "w9VVqGX7BlL0YG+Db0qNduhmngUELeFetPvO11G28ww9ZoQCBGe/Kz3n+pULOBGTB0FRtNwS2YWD\n",
       "g8jrtAtfe5Be5nDHSAvSlire6RB2eOjZeAAADJxBm5hJqEFomUwII//+tSqAAtxNXoCFv5fjEbEf\n",
       "QmjeUQAH/8QElUvlC8+brHwI2wxdDl2josUQ/muZl418ECKJdSH8/y6YysGOdvwXKq4UInNYgWLX\n",
       "K/wZqgkEJBABy4oCqURJhcYSV889rQmSu1+bPL4MJJnMrUE73VdbmufdOt65U7XEEbhowSZ++Q1b\n",
       "IQgkEJUnlmK8nYFsqcZhxC21mmtNJCQslW0SwsDVEf0ia4hvFhDtkHFvnf+xLZNjpuKvrw3dsTYR\n",
       "xLiaCdEBwGeZx1GHh3T06dngELesK3Xej+Y8+SDoZEuHsjibuzTKyLmdMhkOZB5IC8CYSBvec620\n",
       "QRkSxeMf53B3dTwOjs8hTw887YMMnH1lKik9c/IKOZ6telsIh19zmznA5a+W4zhwvdNzStYu97t+\n",
       "w37fG3HNbTUSomJPLGrxkzq7XVwtSYvCDr8Mh6S8XmjCXh9hq38VxApb/zOcM5fijSeBfkh3suRY\n",
       "SaYBRi6ClKrTyPKP3FDzmF3JzcgHcY9Fj3xGtgnVmvwiD6+oP3IzHaQjSEh5tkY+Yd/sQp4ArhNO\n",
       "zQU3xtoQAOZVdTk01x4SeDmsKytAYXQbQ4VS5fU6vjCrnLKZ96oeWUEE/xV6Wf0X0E6lstcO2pYG\n",
       "rzzcF83n3RN9x21riyJcmugSDBbi4IJ+NvynT5sE2nxeaHcI/GhpHADo6JtRmA62cXlGVpo2y2iS\n",
       "hCwPVXSfoNT0z5ZPS7ZPQEGRIT8nR9N11jmQNfyfxfbvfyTy3QrJqofinX9ipNGAIKJDfOvc6adK\n",
       "9YysXrqxTCBs7AFuGVEr0B+jXRxItnc+WWIxUVF6kcjIeM0Y2NQ4D3FrqMmImYmq9rQRxV65Kb4+\n",
       "QOU7jZCJCTHNinSMaSPz8tbH0u6toFnjLroiJzbWJAZ6hUd7LG0NLv4SFGztueqaPuOSwmGkMYuZ\n",
       "vZaqmjO3EBoZEhg8RAkzZfCWwVSsGaToNIuAk6l3zOtZsFIvvXGURcoztgGZHyfZl0s1MYyiVE/G\n",
       "krff8f5Po8qX753ww6UrVGwQVzRzJZd/0WG04wTyl8I+AZzY4y1zCkQTbRq0Zk3gfUWtlNrhA4+L\n",
       "NZqLKXmWpalSbatXu5IF3C+/mXcWuJAcfC4n9WnP/6RxSteqf/uPobWnk8zWl83uD679DJzkIcCH\n",
       "uvtGPtjoiPwE2OJxexvvToi+37B2a/tgZGLHLG9quq+mxDqj9r3sNCRyVTJEKGHJtlv8nAGBq3TZ\n",
       "V4G+4pAjgCfyGVu2N1nJWNJfZmEeQw570teR0uljKhfoNj8cFVDsBDcVt8PX/FysWa+a1T6oONOr\n",
       "s+Aq+t9gZ8pHjgVVirrTdPOLGmBk2CJrmBGkK+l3SSKYrUZegD59uvI39WILXfHHo49QqrqyTlND\n",
       "QJcgWEhWxbNYkV3eUCHKl2dBWOp3gF3l45du695i7L9aC1O30uggZ3Ms11YfyxR5YbOsFts8WoFN\n",
       "IB1czNHNau7l+IKO5+aiCLuZ8mUW/rIiwAm+t7Q2wh2SmWSjpc2CljVil/716afidT+uKG9v7J5P\n",
       "yCM90X2JJ8w+dg9qu0KPX2qgMt4F1f13JFV2qK0e+x1K2IbAUBTwppOQJHyUJ1zKMoBOzlKf+1Cl\n",
       "naONfqd+cIM6NLX4BnNUmg8+fZH+yLLa6cUb0YxkXmUBAcXyPbEaFwNXIkxXf6jUWtCydn2/z7CT\n",
       "FCpF38eFgFX7B7VuuV4aBClkKMeJ9Hi6rHzim2ZIvaSyJJq8X+tdPHsOea2gnInEWnQWnjWkrhdV\n",
       "BQDNEuigEnYFo6/GG5TistGqefUjjRLQjM3oV8rVKGOxhj7vjWwnR+uI7mXfR6tjCbnSvm093Mm8\n",
       "zbfVqkOeKNNuZuObCL4thmoSUXN61WFyHXreuuJG+CQNQJtmUWi4OBzsxoSZMxgj/eYGmTRoQTOP\n",
       "4ECWWCEK12LFNJeBaPNPiVK1ZGlte7wUIqUV5XkB6iaoWeRJR8BV42OUGZYE+ibF8ILrWHgfkbJM\n",
       "U56Tu5j+vwG2Sj+At9ujhyneBvg/013KEXhec6rApyk76zQRM6nlRSsWyNhCq21m+KsRJQzk2ad1\n",
       "Iz8CT5fLRaEHe/j+B0N7hZfATjKqN+W5WF5N2eTthiFWe3tqTCoL5CjFoLhHapjV8Nq2bYuTEGCl\n",
       "6wgCBxzIsTV+KgD659W0PqjMqAXLdwKhQa+AvW14ZfcEp2hoaDvc9Vq7FGUiZPzhraAEELm7Dhg+\n",
       "3HLkucOaBSWxPmVvA/or84MO02Jp/NLFe6wg2BW8uyTwLXtmyXx5tJ6gl+IUTkRlKpf1r9DE/bZG\n",
       "d3mKiIvXd0jNjzC6QdZGe0n4qcfOXBnyM3QyRkb6VVUT53FU+OA16F8i8p1T1z4Z25LOAdtHwTvy\n",
       "fOmTvz3EBNRdEmEIR8ozpk15Y8ONyvxJHasDp9tvAVoCr9wHSNpeCk2S09+qjvhcA7NXZFVxKOYc\n",
       "OehN8jvp1LJdMWD1OYKweIDOSdTdnMc0QWKRVPuukrx/EyYPF1pYYopZbtTjt8hWp23nRNZMrH0a\n",
       "G0EWyVwZA6oSmQopE6AVpw/LaaWLOw6Hi7Esp0J9nUrKg89EGVgSR46gVR2fil0FdKuZDUA27xMx\n",
       "MH8l2L4c65w853XV6dGCEp0YW0cSKSGimdWV2mgnFIsDsNDAXroMZ8femUfxCI7c5a9sLUXj3ohE\n",
       "jRPOPHKD5I65W74JaJ9CeYWqBttJSizzwEa1DIdl9IxtJjwAE9x6KqiXY4PHS94GPdlH5obXJb9r\n",
       "qz1MUzDnFuSfpXS8e7SCv/l5cRU/PhkEcFPKs0l0Yz+t0TuAi9CZMVt179cM/qi+9tqEno3/mh6B\n",
       "jP1RWW7T0K+YUYkNkwRZTZn2ysxwwvH7nBWXsoI7MF+9yyEwOKgD/8G3MCklvtF/OWdT6tPTswYO\n",
       "2aEmCPeaqQduo/0jNeOCsC0t3q0otSLnL7CgEkRUv3X+p48omBQ+1ooeirHwubWLHpjYpLfT/k6Q\n",
       "uQfuU4hdncqzW6swGgw6yFITdmfrvrizbETwIrdwwZK19nlhLT1AKphtbmcEjtcSgkSJMJ8DQSEf\n",
       "MMKjmdZuoib413JxIZTD/BYaReQeaff9xYuPCrxG/kNTu6tht42toWY8ULhv82sE0rVeOo5J2UKI\n",
       "1VWjTws4tHPXM5NSGWMHvsJ3sCHqU3/cR2ui2PlmDp/VYHbya3xUIxf1Tt8hokR3KQ07BbgTGQvj\n",
       "OYysRh3uyx191ytNIJth1lVxUtVMxLTW/tFKVkNeQT1xDdpsGk2G7QxJ62tC6i48LyIX6NzbWqnp\n",
       "tOCQTO1GOiF4gP2DFpzVfJz3lwSA2HrBtNSf0z8x0kPKzPL3QTx2ZApoD+5tZlWdx7BFb2loKyq5\n",
       "1ag2MpMGi585M9V5gq+N5mPKSv2eY9C77egoxdpCcYHYlBvtwO46v+15GAXXqM8m2K9sbNQoIPqC\n",
       "Swa2e6Y7VIO6j9anaO7WXcZqqv1L9TIQ2MYGlkOTLv6zkcFT3eYreoRAjlE0E/JLhEiIPnRq3+HO\n",
       "av6d+xwdqDkjcdDCx2z2wWTGMkzRdTVnsQ2UiFue9z+OepSF448UG8YGU+cLNSkPPQ5gcS5b9xJx\n",
       "t+MD6FLABMbr2sGK7WxDA3Qsxo1/ZgiPies6nVTjae9NVfx1UK6xnyC6LEtBS85Z3DPBj4dcDN2L\n",
       "GkorOfTJOeXh0m++g8fVjtidpG3yPzGK5+/M4l8NnUxS4MV+ilcKe8QceUVhT0EMPhft3zWMLlJO\n",
       "H0ZEgNNOqLSiXU1RbJ/h5CBR4J5nKkfpbFJdwgJz42dgBLXJC+CmOuPlRisDsf9+wRUPSaI/CO2P\n",
       "zuS79nDSsVva6QosvSoh1Ub3C7QLrzDTDse5o68LTZjfhQClAPGt/DjdZ/vTn9Sb9VVi77WnZhhJ\n",
       "68obWRaR+srygjVEe6BhEnHNx+Y61UmalwId951ZUNbM/E7eFuWTPMH1zY/Ft/WkoPOWSlsdVOgq\n",
       "KAunpVrtVttdleTs1d991fDGj+vEM/sfGB2uxATe2RvrWa+EUIcqjNM+POAn9RMxkSvkRSIPzACY\n",
       "XHM6MySefYCCMmMHbJ3dWYakQ/U0H2cqPbuRWO2CpDADAQMSv/GaMvNqi6asW+MSRJ4a3y3BhaZC\n",
       "mBVULdDhjeC1kol5A4XeDSyEZ/nmDShiYpP8LfUNURK5leUMetAPUNYDjfV0evjtfj3epS+t20nZ\n",
       "QBfKve9c0p9eagwzo+xe2Vrmace/5uYjfZ788+jSR9IGSFrNINiEBmOmDcky4/6NPGKQvlfFYlqa\n",
       "0v9WuyavYXUAAAQMQZ+2RREsN/8AEdl7tg65oIeWM3Ml6Y6A37ow+qFlZ+kAHxxaquuxs6a39Y8l\n",
       "dIA/PlcTRUb7HepVWFpIP+2YHqodlkeKizNjpLtUNn5MmyEySsq/9jWWTomqrl2ZnY3bhKqpy1eZ\n",
       "zIvlDT3siCaoojhRIfEIeBbvEc4CAVLdIRCsQpKY0Galpz4JcSyv1c0YFu2quTr3Ep11lIyeCvz6\n",
       "34jxwOP8BXZAfpa2Ljt1WS/U7Emo1DEP5UeJDoRX1w5Kd/yh7arNIisrjb2R1OvP7rLygt1qKGYc\n",
       "kLifoChxDjvjKvuTblpKYD8IUZ3705fAmuPJMGEVQCl/Y8U53qN9XbvUiHKVz1oAdvhcSp4S/mU6\n",
       "xT8icyilNRvlYK400FGIOGRNH1oORrdPP9ldGoOah/hZeSVTgkzKW2eLPFueVr/LECan/7t9QUD/\n",
       "NlOViRrymE9pZz5N0dNMflqNLgcgPHCJ5x9xl1JBlgxEzbVeG38JuQ/iFbrY071Fte6R1zmIbCcW\n",
       "MTuVzi+yEBlKVaJOJuJaSgkS5jzaO0KWwgp28xWt0y0gMUnInPR2KNXnfJAhLUlxkiaovXkScYP3\n",
       "TX/uJwi50JFEWuEVv89Fe8GGqZcxTizQRzh4Vc20lnwc0fLd/Q6iTVSRUL+2hzlxphc5Bv3u7gdK\n",
       "C6tbJxzFWIQOQd9hBxxs6vmstszSSMhjKuWbhR90uaRw7hXZmESS+fAe+QUa30bjyqjDQbJN5dCd\n",
       "oIhMnhMS7GRUK1bImRlNLiJ5gQOYRcEs6X+lTdnf5oLgriduxcG5GpfRN2ewxAqgQ8h64FcXzNDZ\n",
       "+2cmLG3mL/k8CVbDNrUg/HXw/jhLeYyU0te5/uvmCcFqe01DSSt1b0WLY4OHg4XmN46/DkDbj07W\n",
       "YS4AMeOJi/+uVn4OeLpYCIRQCP/w6l7/a9VVR1yOeDMdH3oTgPETRC6DsgIzMsZqxs+FxcbHkgat\n",
       "8+QIQmWMMXT5hj40es/w9zduojWhomc/yuDzd14eGiPXmTU8Ukl5rPzDEr1xJENERqdoQ5FEF1PQ\n",
       "VQRzsVSShnrHJZukDVK1JLi8pc5PcVtmThFUAq8AWn336CEF/C3OvnOOvCRWkN05ifBGap7FJ926\n",
       "7V53U9j20l9kmf/xAMZUjFnF7KuGrk6VWc0Xg/nZooui/megOezrM7w5EuDaHOWkwlP/Wa2u3O/a\n",
       "IAl8WUQzEglUEVEy7aZ31SyqlhhUul/kKU53J35Vcfd1evRwnyAPAb3K8Xgww0UN6p4Z9JbehP8r\n",
       "AincxC7IF8nODn/+lLh5SUehLsfVxD1Csto3tzGe6CB9s7riXp+3xsLGPfsKqNS4cWaAcDLWb5De\n",
       "Tj27oZFtJmuQPEsQ30jhsokkDd1UtwAAAWUBn9V0Q38ABBX1mqrFeeLAAIXDd41A1NsSAq0Tj16s\n",
       "EXs4XK/r8vpMRQEViFeUG9YTFC4AWwdIBDY0V2meU8+rwGNvnlPvkmq14O3AKbHYj7HQhnBenH23\n",
       "APO9EWe9cnVlX7O9lSn82hfvHWFpwJ79t3yAF6ajOEEExxGjFOAotEoK5IpHlJNEY08uPOHwLrAl\n",
       "Pbgzdq/IrBXzwXD6cDKsql5Qp4UroRG9sdNuAxe3KXAzs9YsatRBlYpchnd88HTs0Cd6Vdn6r1+H\n",
       "Awo6sKVftI1NHXVu4db9owApQ+fnT6MSDNjQRC7xdJqv0kgUm496y3RHdNGzaeLQ/amEXs8qiZmr\n",
       "jMbeuoi50I8agTM2uiL3qWYTI6rcHb0ZctPnp+4C/f9SeHOahSIrCAPqLb7u5UpCFSSB/hHqBHAk\n",
       "rAMa3KXEVKWBtxPqyMxJ819ZT5EPaL6xba96rkK43nSPLXSgRFJxY1cAAAE4AZ/XakN/AAAOKUWB\n",
       "6CH7Fb4EJG/AudDVbFvGKj0aedsExt3WRTkLXesjiofo6wbEKBw/TQhs/AIrsVy8JynPUpADSHX9\n",
       "nnlpuWy7/RT20EF/7HQAlMFos3xy5TcJJraMUSFtxMtLaHPJJNYsYUo0Z/wo200yWbiVxheZRZJC\n",
       "LZxWStHMOyivPPsEgV6GClse2r/GB8voyvF5cDy7scx8MKUq8yfkgFcVumejtkf1k7yCplG9vaTF\n",
       "svQCRd48SsilTTZDO91rGeMncGAbrdNkSRgMrAVe07zGZgmt4TvrtW28lvQzN9vv099hFeskq96s\n",
       "YLTr9YDQUzyOagMd5M42heeNLQb1iqBganudlJzeaUOh3ZeBaQpZ3fm+Cor1UMNkocwd8r/948Zj\n",
       "VjHi98oZKWMO/MivxiyhAAAR/0Gb3EmoQWyZTAgh//6qVQAMBQ+AAC7ByaFDkh6NrzUnSAAJ7Geg\n",
       "NJhREl1O+BjDu4Z6t/VitrsEwtrJ2xLkNIjRiGWHLawPdTUVdfM342SCEUYzmPx9L4I+UfsWkNQ8\n",
       "SkByNCQf0kowjtr5CFpMkOd0uZYSzgAXn2vZZSV7+NwOkWzmTgGjLdfc3J8g71uzUAkmeh6OUhW8\n",
       "LMD/OiRjf3aKSLlwi9UuPAbkt7Xvh41Nyt+SWjWSKyhE9yRXfggXPfsflETUmGn476LgG8ew98hB\n",
       "u6T4UvLm/98FacUbo8E/UgKS8bJhfoEnm7vCqOxAKhmi8Ct1xkbq5mmHhFSHearq+iYKRIZmGax1\n",
       "IXbF4WpBNI9sTIzx8NP+62VstqyuCV4f+fe8l9oUDGlWrv7oJk5qXRoPzigI0hm5jPyK9A9B2YMf\n",
       "RBoXN4twAQ93X1npNy0JIhh5C7e3Df7mjM5PaFS6CccnRY0cmVwatbPzgERjfZ11EIq92V+06/uC\n",
       "0IxCGjmuClHR1XCvvCmVoyPFnTevDXYB9tyQ1X8meqtbGBJt7agTx6THBwZfF65IVUbKvDUBNn9Z\n",
       "iORLJWc2XrMpy4B+elBbr9kf8gO5BLcpE3TT0xHBbB8dOEP03/tsSoyg637GxHequWRhfXPKyqUZ\n",
       "QYm5LqMGGnN57shVHUWvB78Rvm/+2T8KD7I1EijyYIb0Ob/qZj7Jvi5fRH6SODzZrP98UzD0Kz/9\n",
       "2EoBN0Db708pe7EHg7mxbNs+0tV3MpHxPhWMFFm48Y69909CX3m7xzfdrtmOpdUHGSrn3wgBIEcn\n",
       "neM+HhCE0KRLKgP2SSqJuFsq/8ws1ITMnVKRHf2WBs4omPfTevkbPmISdlJQQrIaHT60hb69RtSk\n",
       "YRd4B/kJ7Ade0AQ9HQxN6R3mdN6tsKYaVOUjDhmzZdKJFn8giN05pbGn/KHelC7oPezbcw6fzrbf\n",
       "Zy8miI8qfT6+/Or/Ap4o0mwVBwyzSrt2gTzKVQAGps2kdtfB6sG7u23TRih35FruXnVZzUIItah/\n",
       "aNUgNwoAq4ibj2bzpRgqRIhZ/H29eDa5IMn6Kx9FSwLzPfkmRp8r5VnrYPR3hrNpqXIBokyjdwa9\n",
       "TKoUdozAyIEYM206hZjKAaMhyori1cw2NuPUkSaJ5ATmMgQc+fHpb3y5a6izrdUyxzwsxKoJ0rep\n",
       "Fs6dQ0L1y7vcsSwtUMmwh41+16QpYxoxBvfxohgDjARH9puc7rNdAUNs9J6amp1guaNvL89JrkNS\n",
       "/QZLuh/QC5xgawg20b70Nxz3Z5Q4tn34zkZhLypLZtApreiQ1sBNdKyQA1kuUGJlLuObJDJrxByV\n",
       "iLZ3LldHWeJV+4I/diduXO5tj4W9ZCEHaKmI6bWF6NZUQ5kkWAYJsSQrI5MCT2H/DQwXkExncxsN\n",
       "rydcq+4vWb6E3YlF51PM/R+TKryeNU+stuCRn6BkPaLLhEqRCn4hiaEIUSemdTFe7wsCkD/dJhCO\n",
       "rwgxtCquE45ZRqwXdf4uzTC2retYnWPjDzP0sXLVtjWWUH9jylWhanMfrITa8GDlxX6O3m9sSypY\n",
       "GcZFk4dZzbdaaBjMVR8UOr7kslXG2cuRfz96UMxzjPPlW4w5SBHUwcSMU0axzuKvbZMBJGjc8YTs\n",
       "TWwX6GVGz+aWI7h3DdUZrplQkAE2CPuAaxjaddDt0mtDZvEmWhpUtfAxD59fh1OyAFQjn+HlKF4H\n",
       "EtiX30aFURxlLfGbZiTM+DYof03B3AB7W5MhPDHrgIE604c8gRzbHRd1MYUXG9Q4uOMFn8/qwxkr\n",
       "NBYsb7R2aD5XUqwqxog1REIIvCiYSUorCv/TJD8vHxcQnylUm4gWQ/seHGvRCwuzbwvfR5IvBWbK\n",
       "PTAwH56gEZlTxVBtE18YKTaZYDe/SvOsp8nEySKWQXk6dcZpV9eb11O7r/THGXJowTr2RdAW2krh\n",
       "yQNaRrc2l13b5Nmwx/cxWrbxFFUGCLON1e65lyjqEmU/MgxPR4+gDVLWWiRreKqhCrdDxhi1LGEV\n",
       "LqN1DlkXDbkZiKZyuWfOb1gK0k9XHHQo9D+q1dojBbSUmfF/ksqpm+wp524BUdaaGUzolaBbb38a\n",
       "tSvfwAySh19amiNzoMSsJItwGvPP5AdVD+EvIy4dbeMnF/oTXeGIKlu0v2ezX8pmcXwbaa6H7TKn\n",
       "uWPZTTMNUVGSmYWrPINxfySGsYJN+wvGDgREimFfqqKeCqq2WdUKGqJfjRzJ0cYFyP35nXRF6W0Z\n",
       "3X1DrOTiECE/cs8UwjVJm0al4hNIbHFqWQsBu1tpMPUjSa4oDIx9ufb2HsDIDgjY4L5Z9amUkT6a\n",
       "4lbRizBA5ZaZ9wffTu6opYUqNP/odJcjCiukxvAWYYVaEatCYt3XpM0dozdV4sQfsRZGNRW05Uxf\n",
       "C64WfXwkDX2nanRYXRj5+65+Xl5/MjITsTcphByj2eoQz42EqzdL4OVqhP1VCBR89jtALGOCAqOY\n",
       "aLgPWu6fNKb7EFt9TobRiKiIvimOqZsB5GCE2P7DnIBpxuM3kCZYExOR1hQitasLSh3k3ZiSs4x0\n",
       "Yzb4Vy/t9gFwU1qroKjIsL3Wuul7aHS8xN2RL+4jv9dBw88z5J8bYUJt4xbs/PAPdfpDp70gdTVL\n",
       "k6D68XepDUUUNY/jN7GUefyxLE8olKn8xFJDymmxr/EH8k/kAPyh23AI6TJhm7lPU3G5Vi+QwMGa\n",
       "6Theckhl+GzLDI9mUtwsCf6ytjlKX927sEQ6V6ybB822CmERia9v+Y66n+0RKD6p+v3bybcP3CnX\n",
       "BA3D1jty7xRvTf1OpyU+8J+iZ0REptp8JQtk+j+BUwW4tKB0IDBPFRKYpreT9BBhTgz48YBqF4/B\n",
       "/chwimL9TDA6eW7Ng3glkKKX1RSVr3HdkaILk527wZPQBN3Vsc7pB4FZ5CkJJuXv4CuTvStB/gb0\n",
       "dASE81C2q1zXCUm2R0L4kobXjF6JoeSsKKBATCchyKZfxAnvf5FECNODMg2STyA+51Bq8OXZwaVM\n",
       "ACAGPeDRN43D7+HHOFLz4ThpuVeN9piP5fNm3R8As2QuLscpbmEkhGKWFxM4+B8NhbGLdiWvk7hV\n",
       "YePh7G9mF5AbXWO9PzbHYcrpouwnT34BPubTvr+Ky2HAtNA+rPNDuTtDCBp5CAUE83uGku6/N2uC\n",
       "uli6A74Pn8WvMbB34UUgef60g1hqZ/OVgasM/hcbbu0TR2FGRQDOzncLXDpaGrZEv3UB5ckfHXAF\n",
       "4/WwZHHhOEaLTO0hLrYE0lDniXV67E+Cx5Toa1Lf4EXGRmW8I2kJQRC7eYeEL522E4MU17+yOBAi\n",
       "K/EFFl7PNasNgEQTEj0rT4Qqf8sg3xCo1a9WkLIiNbqMNkq8q6aA2i13wdt2V0puzuYKJuCN/12U\n",
       "egDvUrrsScr3+Sd6EVN2rT9t/jbP3pF4HQMYlJIZ4CNxvEIn94n6TROe5W6BPwF+C/fus7anBduy\n",
       "VNGhwtQBz8fy9veYkctRi3jfLJt6i3iVTQ2encDEPQiPPoY0KUk2tGZrWTXDwhUtRuiDL9qDgda5\n",
       "S1GmQ/D9/8gEiV/yQ8Nzc4PBx5vSYLOfjbRw8olvCeBTRzRj0I5qdUUSt/Rne4zEmJPqcXg11qDA\n",
       "nhq81MOwKTFvRu9RVDq/GlImnP5GNGL1AQE5DseSDp9Vvj4m4haqTjRvhlaH/f5EumLvmFecDdfv\n",
       "n4npbcS6/vthbFCRSdRhFDsXO7Nt1cqeYl7Z4WTbTtHm4bSKUowgYBQOzRbjqs6vUcHNV/6FbPMT\n",
       "Aul8zeok5Q1DqrFyu+25XUKje9U779F6eBSqWpOee9lhxGuBy1Mr2yqIEJ4jgyejgvPQhyAfOHOz\n",
       "mRmJX4ZHt3UeVNA8NRKM9lJNmwdfFYdp1uBYxjNoTBukqFRp0OhH/NzCCXdI0k4LAQtg1lQTu1JH\n",
       "ZUl0u49mtr8OK7Q6wSJktiF1pSfbkzf/piWjHyCSKtxgGho4CuDghot+/smCuJ/pzpCTHWk0bymm\n",
       "u2fGXpeXQ2TY66iceNNbp+Mx9BqTO1Q41rj8aR2EIRuef/mgYIOavJeqO1TNpJb0pnv8+2plJ44k\n",
       "qS8EeaoJbIUsteHG7rA3Iuyk7Bpdh+wEPSzSWT0+a5amwBzDfQeQ1KXCLZQWJq4yvf7tY5qfXhRv\n",
       "/hhJd5ADjKrdVf2WRPVeMEXRCBFkPnIR6uJfOrRIxN5BUlKh/5bvYyYdsx6eCpsRcA3+UUxBnNNG\n",
       "3hq5EM9ob/zzif157jHMMio9BoyVozDQAsn8+MyrcPHFR+yXef+ccmqyjfG+ZIsJMbnmbCCd68Hy\n",
       "LG3wWpCBQfutZ+WkQCdbqjQqgtLi2mOzBnsV3/C+jLKLloOOLV/V89m0LDYuIVvSaaeLdcioOCpb\n",
       "GpJW3ylsHTit4jSe6ofkO/2z1Xioe5UIXMZ60IjqNV4tDihhmxF4wQp61+RShPrPazOyFnpqD+ta\n",
       "ylBTLtc8nnA4bpq2OXMqTgmvOoAvUkgk5RdurOAPizK3eK49ZkHLcO/yR4POgeSmrAkrZJJWO2tX\n",
       "To74UBqRxJ34EtweR5urFWthwBfLRWL0woo8ZgNJxLTURR/+CLQktlQ/gyxygOxYDrrqBBAUut6i\n",
       "d13JTVa9xGaxibWtakoQIMHtJPqnX/5DMEFmlIlGqUl+NbIm8uwOb4LrtGWH9LQYmKQwFqqCZ4ZT\n",
       "dJy293ddASW7O/r2R8ougKWV9W1cPrdJiD51ZX4SVUfbWkGzazi3IeijeKvv0K9fRpYNpZdLJ/T7\n",
       "pUVXB5jyesZBkIf7odV3rhIgQ0i3rvhZ61/B6IwBdsQGU95Fjq0tk81PdGn2hcGKKL1GijeCafVi\n",
       "xaLle1Xa+XU9k28PlzKinUv7+bSmYSJtlodar9+wOnrOtrnqlPR6XhiICiE5n9eCq0+u1KGmBomP\n",
       "zhEyXH1An1KzSpP3jWUJY/ODSfIesnhkDVcC2mt/Q7X5Cyc3DwK+F9En2+6rQ3WCFy/aDlhsSRjh\n",
       "IKgp9kgbFctVF5MCdW/bvnjPWHwZyNCJAmFGWVf2CYB13qQii0knU6Z3oQdjOirPsOnRN0OhIF0h\n",
       "dryWswpBrUJB4RNstCJ3J2JUYe1p1dUT+hUsTLHRvnOF5ajZNIe75Jc6na+V3OahGx6AePNYM/Ux\n",
       "DLhrb/OuLlKxujo41EaiMSEsRWEjtpTx8C06pdcG5XwsfrvpScnN+wbF6XKI2EbsoIybIocSnLGW\n",
       "dBsf3026MIe8n44nfeR9iKGVZvfBfWVP5Ydkdyp6gUzeqaE+6wW0aUiYBDnuMhhNpzNLyDqBiIuB\n",
       "kEREn+lLdEzBG2qizKTaezkQXI1YOIz3tVupjRIRbyGQGXjxCwCSIDPY3AvHHed1OVRVewGY+I4e\n",
       "Io0hP+XZkgQJv8tmNzykPztWYzNmPEoNIkjm6IVKiLgCQoMQwlFBT3NpEXnkc/HWKoQsq6qT8c3i\n",
       "XLPGcS9fTXV1cGr9vCTisexeDrpYpgAomY9vB1cp6ABDBj1yIoqCLxh2M56k1BPBhySiLuIf1tgu\n",
       "stsQv4jzHY+T2ccyx8skg8hk38EbT/7NnzQvcAsPUC7ptwH87wd6/XtfNm1m99ftQV817vKwJBy4\n",
       "4GPf6b2+hfcH45/V9EukOOqTET+fuTI5jHoQeWFtC2pUbOHVWVJUkAFPX9h7VfskVefuDSFUp9+s\n",
       "DZdS3yYdyFGZHBCJa/9aqp49TF2eBVvrwQk/qe19yq759nfyGm8jhtIlWq2XTJWo9Tef3nyKQctc\n",
       "Y0XAaeB2z/i7VDMMysiBuH/kq9ZGOX9lXaV1k3bkhVOAHLgr56V88A8P1Lg5s3xIGUOg+bNn55ZZ\n",
       "4YdGoarQxIgS652rKGwokWZ6DUjmaIgxNRyqYxPSAf31bSmuC8LB4bLeu+IjGbVia+y/ttZIPyWO\n",
       "4GQwKPJ8rD2t6CSpQiuqUcBEtKlcfxC5wfUGdelvAL1Iv4p5QmXfO3UOgUQ/S4os6O4aoT2VLnph\n",
       "/H/X4tbNUYVpqArVqFBsstEs7WZrU+SV5o81wvXIdAL8qErhyziSgycHFvrQfoD3H1pLeU1eiZ6N\n",
       "iJGTW0JiXwzx346USlpexNeLkVlOY9VFwi0inr6LaSGEKhUvroiNhB0iCLnQ8iUqZpwGUkx1lSD5\n",
       "RPTiOCU8aolbAAABykGf+kUVLDv/ABd1XrzbHCyilPmHa+efSwOwwDOHimgCk3g6ZEsrPBJkuCiL\n",
       "jkZ/m94vGGwW2DMvBr3AIgFrTdkBkeuAAVoOLtCe1SJxgk3BHOKx5DDFjA6vD/NBml+qmo+XLbN8\n",
       "M7pjjV9mY39tPSgaCqa4HdqUa4IUaHNB6dmynFqD5+7P8/qjOtXMdY/nLfhyWMi+g+eX2g1q7Q6W\n",
       "TTiLgAQg89TZ0bwakAzBrvAlolphZn4O34XDdHzJvAYacugt66DPggQW/E19NGWDvqnl8pmwj1fY\n",
       "/AIE8/kZquzsjIfECRrImV98KvihTP+6NFURyw+LEdT72AFb++z147+omL+S8qt38floBmbd7Ftd\n",
       "aaDBoQQzssfmdWXdUjwvVsC64F2ao/UnfiPi6RPnm36jL/+JL+6kbH4cHPpZrLHcIwSyFC7m3beJ\n",
       "238cAq1BHMmDyZwnVoj50EnkjPAF/6GKerMkcaK4u53pUslFYDozaXJbHVPrpFywa6UWhzaP1jbl\n",
       "s95Q4BafPBoXMhgUqhCYPSF5jVG3w5YaQyKBjHp1553vyxUPOee9lssCQiGmB8c2n1gUtQjpyNTZ\n",
       "Gwt5wZ53yB1ZjJgiPwanAAABvwGeGXRDfwAADiafgHdlCnOUtvxLVA9Adz5ME9lVBxOW9Gc+nc1Q\n",
       "7ZdHnaKWSUI843V+sh+PcNACtDKeS86sCeUb//yyGVYkUl2E2kNTq5wBxxe9OLJipPLAHmvNgnJ9\n",
       "Aeyz+TnEA+Lkw6LCH/gLKFo13R7XPhlVBi8pGFepzpaNR6pfjYtli2UNhgWfWtJMYamq/6aGHNgr\n",
       "DZyrvYoika7qUiGnqSU6fkZwGrPr/7xS7AYMSYmMmXLC9lGDGnSV1ork/7H9C7cqEMjcNVi+22mz\n",
       "7yAIvReHWX7kNkFVQGzUX/Ex+qKyHURmwUImx9k5UxcL9zXWxRGaMjITrvaDdttI4T1LMz/IjYkT\n",
       "jza3D5ot0NxlfbcWvrWRsHZD3c3n6tvEE1OiX9c2IMbH49GJ7QUPNxrIW99NQ4ryBdQHXR1VG53N\n",
       "CkfARJOEfuW+paQEFp9KB+gsQoGKgOqoPV4y3+RNQEocW35gRLCcG92EXRzTVtN/ruzqtjaUmscv\n",
       "3iMnK0Cc1WPlwcxXROB/DbMbTJkabb4Zh/6vrA0l8jUR8obm/lekYUWnEXp8/tPhpSTFmo1q3es7\n",
       "mJ2OQWvFtOjYMAAAAWIBnhtqQ38AILXoBznqZ5n+qDsd6gfx4j//eABNZ6YO2b2jTwmIlsIM0ABW\n",
       "rDqa0KkbotnMmQsE19E4ByU8PdxVLm91165Ulxao8yHaoIc+b4iF7KttkJGMzx/mNh/4gfURhdaB\n",
       "UdBekdYPwrFCIpmNpJdA25yICY/aw7ladS4c+iGI6Re+8ka/UW02ySx1jOhpAAwFFcw/NXMiw2/J\n",
       "JlQeOlyLa7x+5zVG9gxXHZZUh9qQDgEgGn3gZee5V86W1Z6ZkSviGeUoQTjW8RJ/5kKXkLO7IXYd\n",
       "lJIDedJvRGCu0tZPXa5WZooBHL+TmqnsW/ul6ldav/OgD95Yh0IgCSwA40/suY10bH7RvUj17ag4\n",
       "hbNT5hIutANKI3wpOIKeBmQNSh2v81IvLKyermmwvtGmDdlbMs+9/xAsTJwm2qSPiWynALydSvQT\n",
       "ndGIcSgYSY9aFeRNr9jhHGPwyKzThz6DejEAABBgQZoASahBbJlMCCH//qpVAAwGBDAr4hXOJ50A\n",
       "/fs4ssv1zp2uvT+x+DygZ2XeIFDsssHUGWJiQYx2KjgP6hwQHoBYfll1Z1hrS3Pd9bSAc38AYlfC\n",
       "p6bxm3KG5t8+SotkSOf9PRRPztGKcZQA039P1QGwx070QDw8oANPdobOq8yjBl1TNUeWL6SzAoec\n",
       "FVqYTN73Hl6Ge/tm/ZPMK8okss2I7IExlHZtQl9cx0xAtn8j+26J4obgxZNJs97yqU1Zrb0S43T5\n",
       "cGU4i0ltivhHKkxCyw4PEQH6WXvQ8aNzHjs+ukP6XEHbBT8dX/kPTY0xd8QoOT+jajUwAOKCWBkv\n",
       "Dx98j1tJ2BkwTgzvoo9TUJ41WCyIzKpj6mXVeC3WbQWmSq+/2+Y9GduVo4MV43+xBoW18NUZqFIw\n",
       "UaHgtAl9348YJhx4kjiSakW9j6RwkHW6P5Dd2CHkAI8mCL6zO4R6ZzYk2onJ93KuTsiKgd+ov31H\n",
       "EZVBXMrmsN88SCPS/XCium8IeGIzYSbu6/5JyhEYPCQRG18F9b89Xiz31vETFEBGV7HrDCmiSA6R\n",
       "NPNc/jFRSQurvWCJze57yaoDh3/ZJPaHnxU9UA+nR769B3TAMYTQwPBVbnDf0FnU7pnJLjR+Sbq9\n",
       "7bQRO5l/govVjZBnqgQ4CzaYgsbiQN7/8iYZiAwcK8nXwU0U+VB6DsIw0F+mkEmBN/BSyAy3JLy3\n",
       "+KCA6yqNTT4DP+/mNeTxOhwmsrgWB0YNmpNCdDH8D3XUy7P2pDVsJT4mwLdxVRX+8zJZVYJCbzq8\n",
       "BeWirWumPYDKHZxtQIkujlz6bvp7X45g1VHlA4fCf/FApbS3p8W+dr8KYtchkWPEs5mG0i78pyMP\n",
       "na3FAW1YpIqd3NO7yKmoN5L+e5af0rBl/Pm5l8uYCmSq430gFiQwWf3H2Nbv5Ht3g0wxZ5jPNFzM\n",
       "gsix0RSBYURKYPDg6WOFwEhv/vjqr/AAnkC1y1hif+8rEUTs5UJlwW/33wC3f5hyVySGlu9ArGqJ\n",
       "mCp8s2auzerggRTvDAodtXesbm8Y0aO4NoPutpeFMEyoTD9c7T0KkvpgRYWtxLNSXMn3RJAUpXF5\n",
       "c5WUFvFabM2vAst7aSUXkIDZIa04f69bM7n+IBfRvnHPFQCeper+xVOLYh6wFcJGQI+CQf48ELZO\n",
       "qT/OHM+xZv6h3UMG9gRQXYtKEvXM3delwgZAOYqBOcYsWt+9Thh/CB9XKNmKCD/ZSCoNigSqKVJQ\n",
       "9nkvyHbG6G8l1w9JwWT7zI9gFoDCbyYJ21kdQiR0mwujZMA7u+SuHvQBedJyNRDFvxZdJ47Uj3TQ\n",
       "0YVnwaBBRV4DNmoGL4L0tfbvTHv7bkBWuHyqmGRlWFV4EhfB9mFU1KwdlMYci7MDGdtPodNGac0E\n",
       "Vc5yzKEJAp23cUpV4bQNpWh9ZXAk0ObkyKEVISVGu26KgqYq9B1OFlbRrpf/E60CuCu8solVdRVa\n",
       "nYLhKJnmElO8Z2155vZhwA7D/YVMzI4xdSMt/ZFTwdW55N+QwfFKQOTz0Sl0N1TGGnlIwvuqs6MC\n",
       "ivkPfQQRXcLu2PgLYIXKqt4UDVykr7vNNJwMWCawNEV+ggGDW7DvdIZa+4qCAZTyMHAIDa6+9ukl\n",
       "UFRKui39FXJOn7BngIGTVuBZivrDQwBxhni35kSvy1pmA657dxP5dAOVM148wb6mrP5kGhJf4VKa\n",
       "GufQnnwB2cCDn77O5tHh6OMQb2whBK88V9+Iz+m6NUeO66mDG2wZz3AAzdxkGVg5EuB8G8kWEMUp\n",
       "J13ttsCNRkFLWCmlIrBqILkV4mxGOfVT5F1v9Nn/wF1H5DcKm3edldV5hOnM26Q4AwK+fdwtePLt\n",
       "9U2x3+BxFkx48wxQx4d33mYgQdt4Im5yvUVgI4DxBUXatmkPIRVsnl4CdZ4vgfn71iQFjeclIMP0\n",
       "xYFjpkz2nvn7F4SnaXFqT7GCDkQYwOr4F1z+dMyRXZf1VeoM3dRKWz0LxFiTgSHh0Cc7eNiZ3xUl\n",
       "zUkGU8f5ueZP77hT9JJZsYDq2TOE8eQS4PO3q7xfFqxRZe3Eyn/f2YcvKuEy9FlyXbHQ0cwaGXOY\n",
       "nvCSJJk97xX2d4zl8LX1tl6yZTkUDHB3kcvETMmKLrNhJ7d6shKzMoM59+MN4hTXFTRzf6Gbxggf\n",
       "1Jk+ZoPgygGPiJX3t/YtotylyFX2Vx+vg9HBQ+T9xHkg/4J9ovDjn7fPfiMk7GtE3VGx4RNLHqt1\n",
       "ipYPfPjOWz9EzCoTwQjy4CilLuMZtji4RW+Yet2BPYvbyps9oSj4bPoDb98iCMKNnT/RhiEbqbgH\n",
       "AXJia/9s8bj4OOkiLJ21wHIehrFUweOBtAHegX3CVPK+URlOXtIlVNj2z2eeRMOEJfqvISX7Hszn\n",
       "MtJIpBiGohcN4sM+2jhJRZ3KYk7Ewlgp8igCvO8g2VAZZQFg70EC38gS9jonHeSEuRWJp7P6M7Hv\n",
       "KKlG+ietMSUkcbE0qnQ8uwhmUsdv/whEbcFc95rLK5cgb7bQ/EKpimpH2811MGWZFtkZm3fxEI3M\n",
       "YI/zViZzLLNdEFWlN8J6cve1mSkpUzXdRMnxSXYpwM61uyqI7tGkJX2CaSpQbiJ6IYR8JZdTKo85\n",
       "QVO6nnG2bUZvBdjus5X57JfW451TgR2zCYxwkCbU/H6MV/lZ/k3/XHVBIi/qBXGTn9Jum0rU2cag\n",
       "DVjBO8uz+I/SMBKp/a5E0wvUPg+gGkrBsOQ8l7IzuyAZQfu2n0qrivcrlj4HIKbNvZEsnH56SMmR\n",
       "DoRz9bQMJlrSrVXSLe01iExZcgKL6srZxDNYCLz819LOdBoxxvjMHHwM8pqpW3N9HNQYvbgjbmF2\n",
       "WnfoUNo7BYrgR515rETDlIywlQNC2c8jaTS/ao8dusPK9ZOh8rmlquCV6xOFejiBI/zQR+qnHw0U\n",
       "x2BpUtJtTCsyErTCAa8fpfyLc0uI8A1GEjneCfKFX3DPfJQei+dHJRqXzKpqn2cmVuPkVC7/0s+U\n",
       "y/SUmnrApmD99fRIafwleFEdvkilzj5McaqetFDHVUcPBs3+YKY+lAGYL4GqFAS8T9cUFdI9dM1F\n",
       "upkKh6Ubq/SlxpxQkdAyVwZydiRWRE9H7HxqydUw37B4843EmZIAhXma4k7V6xOdJ4ugcOKgSbmF\n",
       "8Tf4UjeRfHRBKR9Hs8uh56WbvWejv8paqo5G574wxfeA9/t7FQ5IW/8sauVeZ3FiDBiWWp0LYcFB\n",
       "ZY8RSzP0WmJl/D6XFDxgdPrkgqsuBouHK35IvbIszr+5XLtTfNCzqnnJFHD5N2XtgRgNwwiZhzL2\n",
       "GilbMSU793d/qexvmcuyaZ1wWFcpZZkiuwHdcZQx7JIWUZr+ySe4L7/xhUuXNEvrZBDkwhUY8bas\n",
       "fiBSv1+gv0VCBFXalU7RoOa1eobhrKDaSb5s0xKdt4EL9y5MFnxiIv4bGxPgxsd+Cl/u0YsqsPti\n",
       "TA7DGtIPpcjTGNPoh+/jhXsVm+OEoEy918WslFN2IYjpppurp3A4daPXMrBh9WLwubJRZW/rDo8j\n",
       "vediMJ6YSMFT0nwrBOQdYyQytlZZ2BjlKTFe0ru+Y508OAKgjLMhuh+KcPPKjvPdqx3gTXCQHhhO\n",
       "ZYOOOjKI2yOdZQ1lk9yRZu5/x+J4LUz7PMHQNmGHPzO/v9gLcvQig9scIjhsLjtC//Y1lLw2Q8Ff\n",
       "xiSmYlbmQ8XusAiiSyL16KbrvTwrcdVunefp+hLlAvYfY8DADLVWFcPaxI59aqyfjsru/pBri9M4\n",
       "96c5U1XEa/uTmP4ITtIS2WuAYwwWzY4c+39ZfI6L511bnAcCrn4hkCIcDnZVxu657HH8p7ht5pAk\n",
       "0GNtfQ5Mzj29ctETlOWbwgz2oAJB1tbrLg0hvwUCxquPo/Lq4z9wf/h4RR/hDnhotOyhA1WdEoaF\n",
       "nObyuiOj3w2covn9T1yzkuBtw2SJYfbX2g/9M+OvDdMj/k/vsOjVgjgCPQtDU9aqpDrLRBpN5EB9\n",
       "e37XaBt8Gq9gp4SCfChCNXKAxKngTD+LIHlxLzmuumr6UCisRSqH49HRWutg6sMZWdA/XUhxyh07\n",
       "r2baYhiIuxgMJp07LF7+uq9+mZemEmZYvYfinC2CBm7bVVLJUZVxudPCQQ3K7+8ca6ySfevPNAsx\n",
       "+oRyk83R1v0WiK/EZLpaaOadTg2XpHMz7A2LZXoGW44h8NY2RH1bc7gBI/a9J2Uf/EhsHdUcrQ0J\n",
       "fZ9tvs2rucUY5oW0LAvvxQvsdHChEyorJmxpY4VUC7wTpxeMo5Hsot7qSZULtwNfqBbE+TwJ0yzu\n",
       "5R2BqZBB2HjL5aBhWBjsOrxVyxPnDYSlTFBEz87PzTPM3fwwIxxqAw9LYSI53+uaeahYgWT7FXqC\n",
       "hhzwvFZz3fJL/8gmUxrUbn1QiZXsuZrBHzKdTDWEFpZaxt2Om6zMK1sfIHNApyg93JBWqEflIKqo\n",
       "Fno6TKP8ugymF3w1QCqXaGnwpWJuj+2wM7Q9gCgf+GE+OLjHD0Y7BU6Pyn+aUlkInD3cWy9VX4RF\n",
       "Zs40e7bE2V7ntVCn7MldzSQ3+1LFfY8b+9PV47Yj+BikxMJwipKWVmAJrQw1CYBpu9Jlx+V54lZ/\n",
       "TDwvUYt5UeqGzVjkfNcIp1MoIw8xBEzxZArmgAR63u9M44idB6O1qkVptrHZBYkyV4q87JF1fxC9\n",
       "0s3XOVLklEjmV8NDf3z/X69QUcQfOBic4p3f+3LC+8NmygDJHpZuDJ6vOpbRNdmc8qy+CWwxHBts\n",
       "uv48zDBHve74lTPZALFZEuZcEZu5qICWneP4UdOSuPaJFWaDQE63mfMQq++UmNqtG2DJxQ6C/vEl\n",
       "NxUKI5CTRNviTaXWL+KoYbYzOtBM2BYxzTN5m9WIfahWDbYZfleWiSwTYbQTw5+TKIx6A1275GZ1\n",
       "blB38G5z9gZWa20i6POR+FyOcOyAY0EA2cyAUVRrn0RJDJvfKrLUYDpoB0FjHQKP9jeCzzyIqEY8\n",
       "ObxwKlGUcNc7TqEaeIxp4F8woKyeyPJnZzvCK+RVD4etMhrrzjQsK0Ohcc9KGpfW26U92WdqM2Zg\n",
       "PD1BjuRX3nCXKRvF94aLuLvb4uxkXQm7Mz3c1EcWl4mtpOvyY5m++iAYIMPBK+YVi4iqlPZaKGaG\n",
       "UnPyuMs2evbP2ZqouF405xxBMUJrpVDqMULjAjSGqpfrxakT8rgTl03T9v+/IbZELdksqpz+EORR\n",
       "//AWEFI1rQGnhehVFlLsEaVF48/Y6gD39diTbuEvOaRF+bcxQ6wg6lp8Z6y3rQdN+Di7MktdF38e\n",
       "woVL3pL0sn5SUStzD5W3coLetWK8FiW0LpTI6kOR32YrfgI9lvCTjEzm8Ubl3oLffgzrYMc2Tzbx\n",
       "HJqyXPy09f3JQMBntMD2NYOOmBUw1K+e39eEWXVZRETe1HAlPH9KIIdoN8e1SDS48UMKf1FRIyBd\n",
       "YW8SDsgeMKiWO/B5Ev7LY+e7aF121Q6rpJwCGSRhDKNzl9y4Q3k/xiuJ4AaSGP1Ybx9WHEp9BiL+\n",
       "K6CXwROenl1++1yrGAAXb9IB0ovMqR1BPcoeXJAqwYivgUvexijXtoWHTr1bjsWP1HuGtnUFPt7L\n",
       "WpSHgQAAATpBnj5FFSw7/wAXcxTcr2NumgOF24sH3WiZLcjKIxWD7isNAAMdwJruQTHP9ZjbErxE\n",
       "yLC4ASONupwzXp6lGDs9luO5cY9IVrOg6VIltrWEOSZmRne8wcl/A+AAfyn+qT0bUxIblrLoxVoW\n",
       "dTvh5vYDKjqucOP6jJjH+5nVZ45EnAOrij3AJehkndG0X6xhoRQs/++kdPwhqUVefSmRbk+TVez2\n",
       "Ba+1nu1blMf95ApxHkDwwmziIvtgeXBD3hoZEaKR2uyKrDM0ho9U+MzSnX3x4ka5objyrhphQNOb\n",
       "BzAppGQxZqz2oj3XFkQcs7ey3QxcSWvgS60xRYXimWqlaLkFiEhzGW1/3Tr18shJ4sXbTlLXMNb+\n",
       "vATQPENKELAH9lgJE1rSkc5b/+/0LjTTV2o73GYvmkL53YCHgAAAAWABnl10Q38AIK+s1VYrzxYA\n",
       "BC4bvDEfssEHQkGqhU6QzLvlA8YwIm892AC2f8M+nDgevqSyGhIzMDA57KcS4idynOWBIqmVDcCk\n",
       "KX447977R0hLsC8bjhMOJ9nzQn+8LdSKcjDz4oH//aUYf4om5avVfx1imc7sOyQOWhqO3OXIRSBA\n",
       "r8HH/3mo5PZENp5877rxMZlrvknRBAWSMpiDmpPcrd3zmp8o0XkllOQNaoic4MafMtPAbfYk1MFS\n",
       "lF4+DNK8unRgOdkVOq9/AUS9eUPjAQaI1P9Kv7eSvxRVER3fUL1u2/9+xSigedNab88LjesIKNvw\n",
       "QHQFZXK6qjDRLtPhRb+lXhPXqk/AfcSskB/6qs6FJwydkQzWpaIRgeDNzsrvksOJnccq5C5c1xUs\n",
       "DTMylisN8/z/1f0EDIc+IG4FfycbISQL3UfiWw57NUlzoyJrlUQEx7FsY/U05A0nAFJAAAABCAGe\n",
       "X2pDfwADzFCA5z1M8z/VB2O9REesUABKaBX1+X1c/37x757O5TZ6cpnf0lOlyyLg17lYI4RxStby\n",
       "a1GBlQF2TCt/Wpkgm0PIiPPbIPYQVL5yRJwXzaoFqyp2ICUUlJvpV107T0S3tTf7IABxK+SzQTFI\n",
       "Gw/D6qK7pqVmBSJl1qD939S/8LkIfEwIuWKTzS+aE6J2qMjuYSVvBPsasT1y7jm+RH7EApoAhy0U\n",
       "KhooAjnf2PWdrAL1y3feyQEigl50NuOB5EsxoVBa5EW08YhX4vYms1lt4VVxR96kh3uM+ZqzoEHu\n",
       "yxHvsQthdKCU8cH3pPHAODgZVGaX+ViLuyN6neKdDkAS8QAAFqtBmkRJqEFsmUwIb//+p4QAJKoP\n",
       "ajLrhCqxlx3wT4syDoALaQjOYSKoaYZ65vNDJ1aO5oxYrn2zWYWczlpDWOBFiEfNRakPXwNs3hgZ\n",
       "8h9JZw80hYtCa3mnCkSff/C+koQp/Lfm6nu/26DrvvpJX3kVEF+XN4VJ/apZl8zX8kKVsbdzMxF6\n",
       "lij16bEmEfE7cLQOPJ4JC0PhT3vWf/o00tn6PXMqoLH1KGM2ryIBvA9eAy1cb7cRd0SfUeVUgfH2\n",
       "3Kd97/3ZX7Fk4oa3ZYml2ilNQEPkPOQ8Rdkgh1qpL9IoENZqxZ9+jLQglaJJHO6v6/+WfmsJ41SB\n",
       "3jQvpZ76tHl5i15b07yg8sI/77E5eJ4vnbqeA5OYDVa7SNbj0mEyxaiVn3L/u4xEQAkeNy9unSlQ\n",
       "9CGqg20gsHTNc8rLlCbro50QRWcJdX6sF9v1r7k9PMHnryHEd4wceLXes5qhVwiYWulXKdI/aIHX\n",
       "7euFqv077H3fGDGQkq/ocRo50ndwvk9O40QPGo+cLUNGAozDpVOzMDBGvyEh7b51PZ6lvS5J/dDG\n",
       "+1Fg3DXXF0Q/N1FgzQV7PkOXxlGW0eBoqM1m5Qi65U20Ui1Og0NWzMXDo+fahE+wUhZAV6vmFIRE\n",
       "s71mfsRTAyDK+aQ9uv/uT2iSPAHooq4Iwj+vIUxANUisbC2VvodaLZ3eUT5QtPvZOZ7NnBE62cGS\n",
       "AUMjwiu0Z0yGnEQ1d3EQXSMGzh8urvqg5csIXnb/EDfbz9IsgyD54CkygY0hzdLt0LXtjFGBmh0d\n",
       "TaENDlmnwh9Fi+SZQkFJWMWa45RLM7CmKSEGA2xceZmTK2swz5nw5X4pWQEaN9+y1T/+lNpd3cOI\n",
       "xe+jACm+89jNoyh23gNZPy6d1Kf5SYMDIQnQBGofiA8A1oB9k8ocWgVLFupyt0ecs0haTVnv3btF\n",
       "OMDZa+V1Rg9zAYdNoKgI2gB7Uzfvi+klHIiGdSNKUfMvq5epocXhO+Mdx1adkhAfwhzLPJ01+Fo+\n",
       "8AnkQ6Y68/0CKBTaLOGLf4FHP/IMss5QiWBIrN+tY5lnVS7KBR+m0LD/ZDvQzksVJih0IOuUXwEZ\n",
       "FmNCc1jWNgmW+hBwciE22KPl53xVKKvAWb+pawWFHzejqm3B4nkmYTOog5ltv95JBvU385R7EkyK\n",
       "dHKI4l6XN8Dv++tsyC2pQOH5qddvwFRpQk+cmTqMKrgLtxgXBGU26+YxqJVju7lF06VAOIayC767\n",
       "3244L2LgXiwaZExm3C6d6GovveE8oARlOq38QLhEDOk+PV80dNaH38K1vqmbvEcUoZBWqQyTvzcP\n",
       "2HHFENhDKFDjVxOu5OPlHFN/W+pCamcL7PBHb06j3SQLu4vKQwFAo8kU7O6ck+G+VD06YxsXx5ZV\n",
       "OzL/4hG9MBAbe2noz120IDq3199X8oCJR1myrTREYJvQvikx79vNS3WGDGFG1h/HBvSksqNLSpto\n",
       "EFH/0Z6b/XFlvlsF9m6UsldNwn2TUTCQIAaF0DsVPdujLs1+sP40omJFnl+ER+4uoS0jd0hiX1ki\n",
       "nCxZ1HnpOkRConGx/X3kq349qGxg286SDJXPYDD4OnenF48krG40hgwqzyIMtNAG+0EztMfXlShh\n",
       "bAcB1PHOf78DX9ryaRORhs4lwHEo31iod6+MYPoJA2XgG1v2nE1ydhkHTVUriblsUQ1G8e9ZiyN4\n",
       "bxtkATi86fq+7C4nk2MZDqcVCdDf4z/BCKx8+Lb1Cl91nrPbioFWyN2IaHUpTE4yWQ1UXUkBOXlf\n",
       "Lf5NUZmf5s0AJo/Q/PMtyj/3NQWRtBBvi/3fVZMcr6nCU86YkagfYiYa1o8Q8n3fn9K8zhkRUr4Q\n",
       "37IgGLmYkhVnEd7BCx9SCYjnf3GKRhvpBFmA0VC46u0auYbkOdqgO/Ye0JomvI6xdcKpmsTdD47d\n",
       "2Pf2LnBIQjEeT1RKOdxxGPctRz+3tlCnrIFnSinyGHFwG8EpxKujdKtLQ9/TuoEDAtIavi9n2STn\n",
       "KqLdcHMUxAHgBfIh7YiIQ2bfBmEvWs7C/tu+TJIa45Tq5qr01bhPjpdbtjH39AlNGeZrJpgqixtI\n",
       "y9Q0yZ+bLluv5sKI2Qy8WlG8WAkmJ6JMP2jwa1nZjII02ksqd64FiI1s0X5agwHlQ6sxf51nu9cv\n",
       "MvuJl1b2VS+pau/V2KMucg6DOOurQRVecjPrx10QKj5266SOmRx30NTBXrHnyKg+aOH/+qnltIRL\n",
       "7PM9Cdk7ZOFCHonKo8su9KKtwLO3on9lZYHolPtzB43jV+QLwJOp2uMrxixbVRiHScAnRmEX2WM+\n",
       "8dXvNibUc2cq8lodAQF6cTV92a4WXxjd2p7Ul6ebnoXL7u8hn0y50IF3jThDgOzRX+cxB0+3C8/5\n",
       "HAfNqsQ1pZS4nwCAR4GXuOao7tKphKrCSJAj3Gf+jBuA7B/cVEy+2DJKV72z+lmRJBRboRS6GTTm\n",
       "JfzmWGvP38S/kX+ODglP2goYz8yWqOpzTa3HphT+5eBae41F1SObTz9pV9+l8Hivq/RTFnq1iGMz\n",
       "fvYGBMQFUofky1MFQuG+KGTKaYlnNluaL2Kd72KOhfOPb8lH4cEXq20TWEeqUsOJplYqbJ64mq+W\n",
       "E+3p0rfRTiHq8tur8ywnfwopeWbGbeHjYXCiY9gub6mD9i2kHlQgn2iHvzlYrteAwtoRx5yimH10\n",
       "jgnh51I705HBpviYspDSJYKSzLBo5Lvb8Bfy7IfbrxNbqmnML6gj8JE0J2JtWyN1E5FoI8D024ee\n",
       "v2+Hr6uEVu9ztc6IK4/DhLfO1mcnFdmkqENHeCRJeQR7PBWEscoRwko7fiPNI/IsryUyXhWnujGj\n",
       "1aqI9SOq7pF3IPSuHeqJaQufdnauHUt9SjYy5KQ2Y9YaF3WgahS3Nl/0OHiby8PKry2TbITGOlv7\n",
       "KZ4kbxiHfj6nf8lukjvdS8OhoYBRm2sT4CPR/SqqQ4KcrJaXRxC/lLYO1fPgH19ngevkguEe+Pc1\n",
       "bp0OXtzs8BZqSMfEi60qHc+JRYc6NV9ARZwazugehmpuCkedmaV3KUUgkGyIzyg7r1xabNXPJ6OD\n",
       "GC29EPZ5fFnCsBO2hb+4cyTeE1dzfFHZnjDKjwDLhjqtU09CPEaMUmC8n2woJ9di8GGjfn2k4Ek4\n",
       "CqWMFfQV8ua8T9gwag7NQN59F9O1xD71CQRvmiU77MpUGZaY7BtkGfDgnFM1zn5i7HWkOBTamWaY\n",
       "HZtE6LOGur0/3lwmpZunNhgS2ttVWmsp/X1wBB9nUQ742fwD+pJkGKoBmWo2qSwzxp9WJvchO5jW\n",
       "VKDFh/A0RA3B+UqfyX8zm8nrsCGtUH0pYzLDT6PPMGgw/+LDBoKVuqM1Ln4TeiPBB407lJR+MB/c\n",
       "ODU93vBS0zIrCXqnxmUo6yRw/Z5v5MsuqgrjVOEHIwVmIRt8veM+xQ59cRcXKJWc7cpLPqnCDVMZ\n",
       "LMC3GgwNeKWU8KCnhKC7871j1OXB5mdrBnthCdzhE2H2u8fLsKdzucD7zn5G9wgj8IjmYqHORUYv\n",
       "/v7WOBqIR6FagKCczrUQR6S2N2T1siiP56pkZw1J+T1TLL3uueV/kAHUBfFpNnH4IrnyapEMExXw\n",
       "wFxGTyaRIlkYcWsCR091C39fNbEQRqKNQNvdgibGPla3WFPXyGqwLEhAyoFk5eli+q1IFOjr5Duf\n",
       "DivHOaTArXbb959wwqaSNythCaDisuoLGhX7QS4i4mXjrpuH2OhhgPjOP60nFFIrU37jFIlYbpaI\n",
       "SvFTc7QkdVexjCDbTjxDa80OCABWqoz0auIoX4wSILU95h300475FXm2vco+Ov+FQYwdB2jyygJd\n",
       "D7LLKFByw3tm3ibLrwqHC8Ngxe0ztaxjH7ninEKhcgw3vaJMJuRXgZM5+YKV7GwimiGovf5NIlFR\n",
       "StOfH8qGIx5R6Leyb4rN3RV4mUezPlKgjtYlz2SpizLIOGJLw9CF+4H4zChdK3KdYtBH++iK33m2\n",
       "Raa0UxnUFly5EBgd/Cp8qpiVRU6Oe3iv3VzSyTDseVB4wGwKZ7Gt3BNWDrK7g8YPyJ8nw6uFVYaA\n",
       "Ozfq86cMDLDShCJhEeYrfrnKgtbOc++SD9ikhRKtLZ2T5MNeHIAz1Xno+tWjtgh9dd9IxfQGHWxt\n",
       "AadqGV63cgx1Z2t0L8bF94GJPtUeDNe1PZlqQfyhgHMccS7m/OoJnt/wZZHFIbeX3rbb7QPEGm1F\n",
       "m8ABylsY/tvfLVmAWfGm1jwdE24v//rMy/6pwQu1iUfoP7XYSrDMJEJADqs8r9EilR4iQcXzqnPn\n",
       "R4sZG8dzWOjqCLz5HAN2kDJcTuG33JhZ2XCOhiVYB2IjKzONPTRPxwyJYW7rSZZzYO54ISKeJfGG\n",
       "EC/uz0+2VPwkZN0qbQ+LTj9+IM8d9Lkh5SHGzd6VzJ5mjCiuWrw3V98iRLFSk4fHgYeb5B4RpuIE\n",
       "/YcRtIgvc46t4kcDTiJKv4aOaFFLA8b6eme6WjulJFv/d1of3MoEAd11DaujuJbR7sKLyhLKQ9NI\n",
       "s66Oj2RodVE3bFI/5boQX7wAgCH3eXzzUtslYU7CBb7rUaJ0IkLZpxjaJpBufYdyXEN2MhnRzCB7\n",
       "iSKHOlMVwAFtbkaHJZV/sRVLlXDnpvhrlCujcSsGH/68UhVuCBwXdwUnx9krOStRWwMv7UD4QMkV\n",
       "HICIs0i1x2twyID8plyxDCN/liJjwqdvjVMqGcpEmbMvjXGgVKfutR4abzIxdeoLSy66M69lPVKo\n",
       "g+AcAFKCYzUWyglSQOJeQD3Fxsi/PEF5LBArcMMqc2Tgh+xL63oYZkZmMx5dVNSG/BMGA9X8uLSh\n",
       "jl/MR95f8oOyid3w+YLEig5Zjvlw+8mI0cp28KMh/D6Nzxo468FMAq5jbs6kchgQxkCQuX37sPck\n",
       "BAQAs6UNHq3LMJvjUBB7nsVMDq9dRmoDwLrjbNiZzX9qZXdO5RPiJ+tZpK+ifZYCBN0i+KzzSqMl\n",
       "VOVRimoQu0ECm2iDtPReHJIAHb+adVwfz/oFYzm+VwlwmIPnWhdhAH2Hl4sDibPoNvTINfGR2DfA\n",
       "5D9NzTEmKiolV1DTHuwjjnpbdNLUUZMICICBsq7PL3SMlBVvYAQBL12aRQ52qtt/4cEQae2EofIO\n",
       "Q0HaHvQRzo/OeTPoOchzDql/Mv/DJr38zz8yh7CaDERBwGbJP4ql1yl7vLffrQiU6bvqLVmsggzp\n",
       "W0irPv4AEVwjDpQxDLFJe3OfzsdqZ1txW3Us7e1j/l0tzpyHOMvMrvpkWYToff2JZOuzVDMUbr4O\n",
       "ohWVV3Zij/14NXUOYuqXNZI3STqQOI/3+KLKvsJGpQIRV3TCxuQop5qYTrQPlOl2jtJbkpteHjPY\n",
       "DpImHuy6RJH+xl6B2yHLFrxnH0ZFeTvd0nGcD6k+ICtnMzrakujVM1ZV1Lum0tOJuVJTQV+HMy8g\n",
       "PI7RTKtqQkVIXN2Riiuwj5IN5UmqiY+U9T9KBsFraOnYLW++Hw45szpv7Eu53WF4J/3JiiFSCfUM\n",
       "IyEFgyevfFBpanVLVxI8+OHLZjZqZ0RBq2lzhaVxN2t0YCaxU8lt10mhvjiyKY+6cuQSPjjbcrr/\n",
       "XblXJETYy8ng/EdUOtJOKXGZ46Xh0O9OMOBq1zyLUkN9Hv8O52yBSe9Tlxf4FeZgXxWFCGhfpYi3\n",
       "FqbvRoXx/zVRJn/7aGko7vv0+sljZ71v+3/Kns3Szq1rMLr3bcXJGhEeb6Ym7I5xQsK9QkKlC3tj\n",
       "fnzMkpCkQsOC8e1gHpRm6fHD8HS6X/Gj0Ktz0Y+xUsspRGpNUyJDv3tdV69O3MDot1qp0dMBZj9w\n",
       "6zFDnLX8RZbSJpdRCOTYBKRVyzUwObUd/J0AgXu8+iwBFMI/qWc5SCLGAsTgGSZGDPFE4B7/YbHF\n",
       "LApy/NnmKIwLjQRa6VCPguC8J9zHcmtUBhhS2T4UdqL1yWgPVDIiI/IhTVLRxQoUbr+1U8/ZfUKt\n",
       "Iyx4QmTlnxJ389eihjMpFJVn+2e+Nz/tF1PyQWhDCuARQ47mqDAjeEFCiLqoRaRnOjMBjk4vgk9B\n",
       "+/u9YaZllMD38n62Iw4YYSOoVKzQX/Z0OT8ofRIa9dQ85+HyhA0/d7sD3xQC7vJe0dKRcM2QbBrq\n",
       "veuULdvyuxBlAxEMKuyjcpv08WzPgF7UyIwUWuA/1ej7FWPc8mcB21QOQ5yFxmHSk6XljQqg/jBG\n",
       "WY3xtkhyFW0hB0Hjxku+eJxNB8HrCCoEcs24iCmbo/70J7o+JpOHM7HIZWJv8Yxwz5T/v7sTAoFB\n",
       "9kCPsi9Fbsnntiv2N3N8b+MA3OgILUtMiQxa1mx6spZCmMIZerj+NypNvRTfiFI8dOsMkHiD9tOL\n",
       "XSkwYK0/VAcHLp4IIUwA8+G+lx2LZIcWwY4j3GH2zRT9j41d9RzIEMkvc/yhTJFVdxoYAnWnABzE\n",
       "w3FTueT+6aXVNcKm0D/EnFWUkmJjmVCxdeX/l2dQin3IHK13YIDv71x8fEmfcmTay3iovFKEUhFg\n",
       "R9b0OPQif4df0uvbDtX6K1VjA2vDKKHZ7RsxQfC4/1pyiVboYTNYtrWLS6SBsikNLJLOL9uCMxqd\n",
       "Auf02mx/xAS/u5YMPDevvw3gommwnbHmBNc3XRepivM4hgMQVKt9pEUKEZ+sD78h/UUyll6vcihT\n",
       "ll2hu4EqA/OBlKspk25jjxb88G4XYH4ovrM2XXoS3pgKTMUiLkbiZqKbBbxY3KgoRqIKTRUFJtBV\n",
       "KZhKPE8o+NZul5DXmmu1Unh8Heg0lEybQGrZykd4hDLMczKLQ2oy1enznSbsAe7BQlqpuprY5vAd\n",
       "yOp+IW/ZakCkc15gHShNTyDT8Zeu3oJVTXqM+fMdvhaXI6eSa1mfBrScppm7tJR8CJaGC6u8Y4K2\n",
       "YQb6S/szNt8cjPPRm0J2TTa/poTcBGVdzKjMWk+J6B5vffhr2xtcRJEhg5uJBvCDNvOwm0erV14b\n",
       "dcnNgIDEbUkcE90Z550QY+h9m7J6a/UTNBZn3NTqagJ+RvQ2eZSDp4iWJBBS2E66mRwxp12I5lHS\n",
       "yuWLKE1hXfaFtytTIrORWgR2EW+sX+ZfpFlkKJZu1vJyGAM78hoyG81EWbfouoeVPbita9/jGQB6\n",
       "T8kp7aYFrLCSS3EnPDiBUBjuGVyJI39U2gct4GR31CloMmNyFCMXkdVx7VTWMybH5vGoLJvM3tRb\n",
       "SJxNWIPRxJ6wwcuOvLO3x5S9it8N/O2LkGoMTAI0EX81kYghdnlSsBQxDnAwKWXz+gA/W5cw8V8G\n",
       "z355esUIctfooPSjE+48EjY4/6EZLGXLAqiJd0HFW4m5AEUb7VDi9z32r5F2Qksd5ZJ9MVtVmcPq\n",
       "cGmDAGQaZM3KWkPQPuS1s07yV/TiLqvNBRrqaY3wj+euBAK4GLi2JBrdO2AqOsmig4bw4R/oWFeL\n",
       "KRaHgip/QZUrVZUU5rwHdiPlBcCiqSMtxb9KF2xPWUTB5lhtKC4mhCsvMGdiZPJsxvqznuIuAH8p\n",
       "ct48HKFKyz9LZTbDjopRk8xWh1aArRAA9VMvbF94azZ5sDcH1XbuB48Epl/3yS+vBv0tz5vFYN5e\n",
       "tvZHWr5SdiO3Ow7ALGDSiSi3uD4ZfsX7RIGkCUYG5FGAaqWXhKt0GsbgtdTp63D+hYCla/hAQKp4\n",
       "TyHUG+IyQ+6ooCOS4swFAVM0+HaLF0sjVl+K697Gf1vi4yTPJhtf5UPkq9QdtVsBKQvH7eGyTMmf\n",
       "KUFaJ3Tkw14pb7vp2RxwF1DJ3reITx1TkAmAAAABJ0GeYkUVLDv/AAypIAahg0/z3mlAfUKA6TUh\n",
       "dvNpn9szqQeSBmH5tqnm2ROlhanmHyh0jVn3KyLYfZ8Sgs2OFh2H5cu/xZVSuX1SBbNEJkLaNd1e\n",
       "veVHpRWbq/AAFWrAqjW8MK4IF7hLeyouTe2VUCvhQvstGP5zYRQ3vm4cMdib0kF5Xx8SV5H00vNv\n",
       "os91xiYUxxP/6HUqA6DwdtODg/mxsbge2S1baamU5hRwwipkb6Uz0QcI27t1R8pgE/wuz4T7p102\n",
       "9pFPkg1tku0fUTTlPmTYFV30kUqB9JOMC3be2soT2dN9r33RRcA8SKidlJmYTMwygbum3+ABFQNk\n",
       "rp/OJayFDpeq9fUGdOmX897337k1WcD+ammTN8VtFuxuORLPNhTEQZ8AAAEtAZ6BdEN/AAPLptKq\n",
       "SbuUAEZXBOYSdDHsfJHMJvjZMABhnBnl1MWsc3e2I7//itl2/5sCJhCj4QAvyDTjCJTsViFSrCfE\n",
       "zqIkoQldRDN7ag2x3kKIbxOebERgh3Nf6zlJTFWadpKl/d7nZMsb9MzqZ2ySiyc//Vom/zSjQztB\n",
       "PI+JsnUbUX65c1nzKy84zXUQUSGjYHshVuqSaukhacFf2aW8o76iB8N0xHkEjKqCezgBKyTnXVB3\n",
       "USCPxFixg43ifNYJjtolQ/wOThONStKjmFDophkPXpYK9e9SxvdlOyEKlsmBzzYIDf9pSu6wBMI2\n",
       "uoAzJ/k3IU2plz2r2feR3PEO1jUsAKIFV/kwQFWMyKRmfeMrDPsIqUs/UCHsDAcDSEcNw2W3bZRy\n",
       "4btFUwAAAoQBnoNqQ38AALW9CPLelQl973gohMcYyu42aaaTsccL//SPKdP/XwAt09caBRBkNJ2J\n",
       "VnDCQ1tNWUvRyKGpMtnjq1IzFvZHUANPZLLwERy7HCxpB3k8iU68t4OYMe1QYwi98rpLC8fJNtWk\n",
       "3kWnz8TbtZy/EinSMXkwwDRXCoc0hqghiRoQhPnenP8srnvSTAKn2gUg/y5oQNNbWtZiEqDmU/VQ\n",
       "BFZanVM72rxUzXE5BErEFRJSNGTa1soIwlSVXGBAsESq4x8UgF9esXZtMqcHnROYF+4R9V0dzcku\n",
       "odclyBuFmhpUG2RVUmVP+pHu/Odw+rxx4mYiIrYDJMdAtWqllvXGo4j0r/PVvGRKRaAfca1lOtJH\n",
       "DsxDz/duWaWOaAfffTdP1EUSSA5kxjlqM+oqYdtcs/8w7hUhbaYFm7zsAIKt6pf1q+CVcQfr8zR7\n",
       "G4QPrxCBSTJ7PPaLKIUBwz6duOZeXT1V2F9XjSHH/yUSmP2fuuGcXtoFuw1Em7BKa5M4UTJDesbO\n",
       "OOx68CIqeKiHO6EW838w/lSfug4bSIOUsB0Mc2pDvq6c9Ceni88LTtN7iXN+NTjG8XPetmjciZ7Y\n",
       "tBH0tbATU+TOODB7UZE5+Uhzbh1lNt5m+0DhOZOOlNyGtcngcrzsEv+QJJ+SIQEWJjZi373roQnv\n",
       "dXIcApB3PpW8pbdYHt8llHqmxzgaC6POEQclIrZUUA1+T7rLsxa/LltsPjje22nUmy7zmyP48iOo\n",
       "g4pPJrsj5+sKMjyJDzmGjijarKxHoulisbkCmy7CR37qg4gh+Da9pCNqSlcepmGhkskzNumdXWPK\n",
       "qU1bbdJ7EgK01Qw0hkKJzACa14Ecq38k3QAAD41BmohJqEFsmUwII//+tSqAA9V3T/+RFBAAZJAa\n",
       "bvpQw093hOvMyc/Z5xY3NAtHfxdaXNOl4QY/Zzvy+dscjmgkUDZzqKoGI4my47gU222pBAL3pjq8\n",
       "VKvFwjl/kwPWyjCVA8xbc4xwZ9WNaICCfjuBzkMiB0Oe3oXL7ADqUeKbDonb38rVcaa8XckBV26n\n",
       "N8W8vhpyt/f+7JTX69GQrBmq/KP/8r/O4So7EP7XtJrVYuuVd0q182kvrTHZwroWgsgkQP/u4tDv\n",
       "WG5rTUGWxReR0WbcnMTWMYYdyp3Pn4cJbvvhvCev2aEowm4KFBnulgFf0bR6jzt9+SAb1nh1bIUH\n",
       "elC0vHeBX5qT8MUZkub8P76BghghFSID98Ci6JG9i3eKOjJdnDLlcE7j1RpdE0cEjNsXZLxZV4iY\n",
       "DB+v31q9kqrJaC0LPzFCxRH9pHWQqJhkej4gYOjhqzT9YMRUILsCJg/F69aE8obxlsB+yKuRnauh\n",
       "Cp8OFyAwXC+/srGJwDgNu/kdrofUYjW//xAg/NxrxffjLtTV3WyKxPOwW5inqgZYZOKszMdVyHMn\n",
       "+wtkKrBbq2srHmEL8JB+vo3yq5kNg/U7BknkKeyMDXy4wbB0TMFfe3//gHOutzm5cyymchtx1iRw\n",
       "Maieh5qhW3HB5h6U6NP611SwG/E7mmYpdz72pZej1ZYGtgPHZR/GxlKJRheqEfxThckKQyp/DZ7A\n",
       "JK4q2H8FkhAt1IubjJwxJynjnM9cfXMbKJNk2la2N3qula0UU0pFqJCxaQoMiVWpWZRDjXzzBffN\n",
       "yVU17od6xHFjerHq7kcDdlcfYOYjz3RfSk1R6SnBBcnmTfQPnLVroCFrHjMisMPP4LeDQlafD+Gb\n",
       "OuHBLxxnBum5bkSPw6vzX9Jkb5s/qwsI+6VtVp4g3boq5CQmmPk5oryNRkUN4XrRDK0BthwnuG7L\n",
       "LZgTHRWkE/ZrwQVwZ+uXnH3V0WthjvEtF3E1s53AMr/DE8JZH8cs/3Cn5cbJ4eUUkC8owi5Bm+RD\n",
       "DtziP073P4BvqO3lA4zQsDQZl9dR+lwS8bpmXo89nVS0xNJ1iypns8E7fzvV2fa69C8Q7QkZmFfK\n",
       "1P7mY50rEy/sy3e4t76SoLnxxtQr5WHLadbUfy92YYbIdB+T4MqCfw+C4wRkr53wruShKteV3+fA\n",
       "eN7aJ8XxKwiSdu+APcMPt3/XvXgHFjGt08w9FZzUzMybp8lCYATcjmyKZkj1DX9hOO+WuqAMtBEz\n",
       "2zL60lKUKXF45Do1hNk6WC8EuoD6tfPwmCuivPAmLbnwf073h/oTc98nwhsUIHTaIywRgrPxN0+9\n",
       "Xd1ElOvtEvKPsTjpVRRKQ4rQwRVPkXR/OlBXNA3HwBrjna/6JzqWZu3zSEPeHxrwBJYswpV8vRz1\n",
       "wiMcsruPp2tAo40ZTzNKHIPZ0x2T5iFJx7xIKfdR6kjd+nqzV3muSjKqn3+wAUa3LDM2/j3Vizuo\n",
       "UYMf1Cfms9Khfm9bYGCo8sRh1BcTsMgewiBd8ZqW52Mr8m/eGXpmPSK1mcYrIyyeWcARrKhmB3FG\n",
       "svDDU3lFkclMW4InR245ppbz5Ya5xa5a/FWsCpBa8ZfYIs1wRNzyrbrT5S84E5R1FifvEGUqm4G0\n",
       "+6Smw0UKDICnfPlQZVJf5CoTqn2CTqNUqXtZbxFE3aFzmxOus/OMztPextnERGO9nQZDHk4s5hP3\n",
       "kN0cAV3U1/ZlGPgY/xN5XXXKP90P4qhWDYVArZRYTEvg8jZds5C7XjncuKBBuY0FWXTVFmkcuDZ2\n",
       "ASeMrezbfBfQ+E8cG/4tFhjvGrtW/kdmOhQOlm4t0Xott8fBrw4N7eumvmnhO482NIsYsBS9nsxW\n",
       "Y59Ms/pLEicJqCVFgMBjcoIc1PBWRVC2Kx5WZMXi2OdvqN116o9Dxr0AG6epAClTEOvfOTRu7Go6\n",
       "0HpGta60n19JxCV5j5fUj9o7fpy8TJU8NHsePD3HSx4WZt2LhffbHtBwcPlVN0mBBbyBPACEi57J\n",
       "cIfNbq+G6mYd0AjA5JnzzSsllmVoMmPYWScCGJXWS8K6G1b0DX9DMnfBHd1NoZM7CghRMgpJA6C/\n",
       "kUSAUhcjjFZPk1GIvhpIUzPO9V3l16/HT8iDErVG6YO8APzEw5bRHCNIVeBkiVFGr5yUWJ6xGAbJ\n",
       "gwfknBE+aMU3VnMel47+2YRE+1YBHbr2GY1oKJUJijBCkP71I2GXDlUmYFdT1LbdRBYDAWfvwlL3\n",
       "I8zSYJskm5kQRvgok+8yp3AX/lHFh7rQIXWH2XKr02RaqkjYM0gJSPuZgn5zKcaxAm/w8ydzGQuw\n",
       "VhPjAAAg29fpJo8wbNpQBjGlUhuI8rqfAkhUgrUnAcD3fNw8vxBNtzYeq3nTn3e4vr2HywTmPNal\n",
       "BwY3RX9+GbHMAbg6Jatkgik75s6vwKV82z7HJsBVSWHD8Bf5OPTLvgnRD7Rx1se7LRnDWvwc58SX\n",
       "X0YfqLghwGXfPZnjg0gALZ0NtayH+jcgLPSWCuHy9zj0/DkNhLlNQQ7ys5H0tjvEkN7vaf9QROlR\n",
       "D/Nzgg7apIYIkypg3R3xuKcRwzWLhmjZxeMJ6Lsv3yEqefZIjFJ1ecsn9FZMUch5UYk8ZEvivYSk\n",
       "EOfsbfvkMIEWaXbcpzE+eThgpjFwyZGKCm36l83RCpC65CJuKUOIkYmAe3zGSs8IlXQJw78n9+/m\n",
       "QtPEpRizbKSnVGKS4RHEcEEKV5ZQr2vIznToX3US/Mdgj58eWiwU8VJFyalw2OLlspE2NcxfZT3x\n",
       "ylimmhvhPnDJYYetkQnjerCOWqGagBAeM2y3+oRqh6jITeEziEt4p0t72VDsfj+yZI2fmUpSkENb\n",
       "0OkzI1zykV5HYGsZD8dx3n3eTDeL46F6bNZfJTolHzNhAT1URarODSDmyiYq5Yp9vPgVs97JwJZF\n",
       "HIQlCsHgZ5YYKM3Lr1PrhMUi0N3dyu57OOBNdW0j6+OZLLvGN0wVFhxflXsmH/eKbYPU4gIs+BbN\n",
       "1a63BGD2rmbhc36uNLWKpc1638eG3fJXV3iF4nh8mS/03l9GTKeBo4YuaGIHpeDJu2sSCsCMjPQU\n",
       "1URC9hlsftX9FkFG9yhsPG/qb2MScuxf5l6ksQ8NpT2qvRV5EzNwDwzJGGbzta8U+jL8rBkyQdeI\n",
       "ct5afw2IK/Q0bDPP8LwzYCZLWpetF1ZaSc+4X30GIzCch5Tim2N5XHo6Sit/a85r3KBOvhoQqeZG\n",
       "r7P1ZpjE6xHx/OR+J1yz0sOe9YQeaokBWmfJCaPJ6tWeMVGjQoK47ZDZjDIRMocVDI74EO5oInqU\n",
       "BDgpAJvd4awzS1Wqv5NjXDXBF7Ma7mgDfyoBVaHG1dHOnonuX5mwnIPdLN9AsHja98GTqRXU7AnP\n",
       "5P4hqBJllN3Sc7QtPIGPcc3Jxc81dVe6h8vw12qf9S+PjyEjVE6ySiSNkJftA08rNymW0Csm32bv\n",
       "9SCGMZidxzA1/Hh5o1JkNGtPkMvaY1FkbCw6ExnjNtJDe6nn6W8tgQNhqRzOF73t2qxwC/GY8gDK\n",
       "+M+tb0JzxCveT9rZlFbTi6dPmWkOeyVUp8OjX8VnPZFR8IqFOPKgjxcT3IwTTuDFiSeXOYaDX9Sm\n",
       "HEQnv/em5p5YG5jhDTHzWWG+ErsxnzKZ8KxHwutbWsqZ8VR0KXjSIV+dDqRid+alSbSSWb4ENHXP\n",
       "6D0OrL3uXyGnXUwgOayejFmTuOHcsYhXMxz7i459SpMg34KF8EZmlYpfUVZTwAqk/I3x4tf1Bdo8\n",
       "EqbP360MpfLD6Y/7SO0hoasJ26NXhac2SfhXq68S0PHd7sQIOxnfKhnpgDq04DdlY3utSKBWGeoK\n",
       "8RX6sbOJuyHnzinh8yceM44ibVnmDIAAEgPheoGkc77TyH/uIPMp0ZHAX0rC+TJ+33XC5XSdF95T\n",
       "HHsa4iUE6NV3s1Epv/dJG0AGVzzOnlXGWur20MJKACm7wtjfPsTXkIyxou94MS8bIonLbu/elosz\n",
       "zZcpVihGVVWUsMbMLEq7troeOH6daG1mELfDdguHrk02bVjaD2NDKQ3MbIfzERM73fMuVL/thFdv\n",
       "+3ETwYypiEIsfNbC+iThfuPRlejAOJ8khrmSqGjHtXhwnrRoVqLnH2TiFCdHHrb1QkIh7azOWX4o\n",
       "u6lTUX5H3B3+8CQvUkZSeVxfAe1I/hWfzTTNzKaLFfrfqy6cIA4f0kRwFWk4/5kLAOrosTNIEdN6\n",
       "uA6YWg0p5ZJwUtFq3p0NzaPIS0ceidr6hwOFssL7O1UXKYWVQLsAtezxZ+dpy6x2OAn6F3XezcD9\n",
       "filJh0J7N+N5hNCfP5eJXvqGRgbzzx16RIZvpS4DOfxkwHAx3KcoxDGAoXbMcUmW8wiBerBIrDXI\n",
       "bRLtyNn9+SRcerL32sINn0HAjA6sn0O2TtIIO5LsT2XA743Gol5Y5yeQcxjwdOeadAEMnh7xDUmV\n",
       "EFECRhFgWyUKdyMDHEDHo0tYwiTa7nLv+NIEl8TkRtDhRF35BH/Yf+7tlmvo9lHGAtX+9Fxojzc4\n",
       "yYYwp/Z6F6tmZqhdxt1V7he5BOvYIICb1FsRp3VyPfmux9sK9mh9CB8NW41rgQf/KR28M/MRlfNe\n",
       "A1CJ7HoLn/2EBsqQBZwGMZAtXDFR0yahaIz7Lf/3xY1VjpmQJEnmHOw1/Gy+QPNV/Sj5dUjN/Ybq\n",
       "zVJaa2fR9LlUJmI2QeAvg7Xton1QozwmNUqvEnUIm6DNCTZ8ihE/mD1Iqha3jkcmiUMSLjD9I3SQ\n",
       "QPuYChuPMAJ2+cVkSISj4VhMr6dg8oZMZcFtqhDhqUytj83bGiGEPBMcKnAm7swkPMGNOKbh//ph\n",
       "xejMF7Xr1RMdrFNPdUWpy0Djfm9koXq2C39ESpRqh1TOK+Sza2i8q3x3rfs/W1KA7MspFzGIidVd\n",
       "gdKumWf/T8XO/mJNkgly89U1W6tM1oBU7rExp/vzdDC0bfI131nY67A3vcp+aBcZ3zbrze9eNbwx\n",
       "+6LssBqllr7HLkamg0ZjIRm0CPROMwCvgM/vHSxdsINm9w0xGdClxZsg1PxKid+ek9NPvBAEBuPR\n",
       "9PDQZmmb2AdiDHm8NxtjGsY4+vPF2sjVZIunESdwBOWpTh4bjX71FOqxh7o5sqDKHc9obicjwl+X\n",
       "Z+HrTiyPlaEypsMy0T+xsbnrnm3A0m1Y5KvYFDB8JlIFg0wIh6feTH5a83YimZtsrPqURvWWXZzn\n",
       "t5CaBxwKen8SftHOqKWP6dXECGzDVGAqzaqkr8fDzHwnMhBbxUB6qJfG5+aPR0bJuy5zY90vWzxB\n",
       "+VpH8+u+Tr8lxLA9N74+lVDzabkAAAEsQZ6mRRUsO/8ADu/3dEFMTK8j7ywWTAtjMYmWLqrDcneW\n",
       "reCrbahoEzGRrfhEepFkbIi3M/mdj6AC1FpDBqnuRGkeDROfYh9Ae2KRGvy3KsN/XR95POuwWZu5\n",
       "YZ/7qDtx2OW1+gEHtssTV/cn8UYE+WpUoZ+wYyEOFVESgeCUYgaOob+OBzNLxLwO48mhN28BlxUl\n",
       "TmypqiIAFd3qGFWWdi8phFTEJElD+SGn7aeHdhDECOnkuXhcrSGVvLp0z2qWbP9+3MLgdKFi5mH8\n",
       "DVzjlye5/Bk1hIwOI3cpiSr/4jfVnlfFdbSGWikmlBc0ix8vPU8MD8N2Bb3mVIPFZrTM1X5yvNbO\n",
       "Uzbo0rWlTmEUhvZSH+Gbf+jOXAqryelarcC7LwpSe52XY9MzHt1lAAABHQGexXRDfwAAtZ3Rq29W\n",
       "ZrKqcte86um6wgBTjQFXrp/6L9J9mq3i4DVPPhM3c5xpQj+h3rGaO/th2JI4CpSximTWTnGyj47m\n",
       "UNZZhbnQxCJHaBLqtFGCuuSkvyDTdM9lw/QN4ZxinQ9kK078GSTIICxLH+Nt72wiV5mrgVd+Yxo0\n",
       "q22Ff7AUsLbIRiXQFH8Z6MwlTOLdEzfaIYd7958IgIIZepXn4nfshSng4IzuOqY/MFfwUYsyiZ93\n",
       "KXpO9iJzXqae6YqZblGgGRXz9KwDbkae51NSrom//EL23xW5Ic0wAXjWEkdzFl8LObqH9cDNVud6\n",
       "9ie6/WJSpziHkQAD452vHjQil5ggKov0vhY+AAxlj6CLNZ1FmvliYLjCtwAAATUBnsdqQ38AMSML\n",
       "gBCmybA7U92UNB9UwMwdHpXCzrJ44DQQWuGNRK/+GggOqaffagOZtmrHN0z8kHFGv3uTHxi2Q1/h\n",
       "O1wszhnAa/h5iw4bFiSmQowLMX/CrfIIWJwNrhh58O0actQgdokayzh9SG4WwnRTvIeTmm0AG+3p\n",
       "3tWpfRcI0Wr0NEk5+ukRDqJeMVO8urlyfYpV47DDukAgiJAGa7z+i8k9CmIgavb79gbWgw96aUqj\n",
       "PkwAyv4XWcny8QfxUMFraKKc1yxhCvDNAQbqfXUyEQ+DoCH1Iwb6kMFt0VbPqqcm8QG5dUaIi0lf\n",
       "dcbMuJR4XiKYyv2AwMxETiweboLcpLPRbE87skbFK5d0aUwNzM/b2f1geUpkyUe6ZWCiw/skMFrt\n",
       "lDfPn2bxCxxY+UXttXwAAAv1QZrLSahBbJlMCCP//rUqgAOOg4hXAB9MYiappgJKGg62n/l+A5Hs\n",
       "D2hs1ET1XfifWx152kZP6FCzM7fApoUrzW8S++nF9EoGvwd+5lyVjvpmccHnAt3GnE2KEckgcVT2\n",
       "9NL7f143sWQN4s7DT4gfIiYlLI8yIQOHEICwfFmMRobEmqWyt2/adpHp0vuGpL0rz+Qj/jTb1DDo\n",
       "X1kEL/+1TpPnd4eJApCHw8aas83e25qe2wVAjgR7YtbAzXsnDXJPTnak0NaRrVwlJ/sNXN7Hi2Pp\n",
       "6BRgy3bQweOXBW9Id/SwjU1Pc9WvUmE8ix4ZVFd0tQdxAKwpjv10JKJLIPbv4voMk3EsesBV9oEt\n",
       "KrVZln0k1lcGxEJiEnPUQu9OS73w1cYaEm0nBpaX3VXDDxflBpDT58DjDHQY6XLBjl3dWxcOBPKB\n",
       "OQ4MEFPT/JqILs4fHjAFuwNLK2cl/lmRKCTX2nOCxa/sY4KJw4/nR8QjPJAIZieToR7LLBeSSTUs\n",
       "UshZwqFubwZY5kN+xytZZbkPeQC4uTDNtlTvPNTAdUTuf6Of4cOB9v0f/JFGstbOkoVF2UZYdsFv\n",
       "EOd1xirYGnKvjT9wvi4Ngf789pO3/T1/x1UJgAdO7tKXx/51QSa6okghwr5y7a1jJHJ0IRCTI/0k\n",
       "MbMDSm9fq/BJCcqQB2BgL4AFeTwEMzIA/zRtu+2dNcrREfkyBnEFM6WRZMyIQZAN0O/392zsnUfT\n",
       "HaBxuPkwsHlt/ldzEtKy9k3ztezliJx5dfk61vF0cOsXJBtJtYccqAEDhZ3ZYuWFh89wjErUNqSo\n",
       "xdx/+I/Ow5Cg0kAt+zYOhks4A9DAIJl3wjoHF3p7fq4RtHv1ffxKQxTg5BgYBMyhlbw3JB1g8h3Z\n",
       "k7JDUpuloNwwLifx/RuFAMCFDP66RE54WcKN2l2c7zWHu9+XQLV9qo9K0DZe/+SAOyiZIYdZV/SU\n",
       "BkXQYJ3/W46K0Sfrm8AgyI+1KGMX6YmybiRMixAJchU5jqls5vKp4DHc2EDxWB66Un+qVSD5B5p5\n",
       "0nfigWW88xJZd5uQ0xz6E22rPeuSKRTqj7oiGHDtJv0HyZPqBOH9PGzSQX2+dH7Hx639CLrboPAX\n",
       "DMecUP8zR3JSISDZkKnUhuDrO1TI6NQKOZ7SwAQ7CNnfUrV2xxIzaNmIGWrpSqU37P3G3O7F+7xj\n",
       "TlfyAIPCRUGdcXGSk2LepIpSlhHYz8Vq9ilpo0TAw8ekmviyGv8r//Qw40WMimHp26rbeIsQ3rE+\n",
       "vE8a5GE8xVg/6f7QNoI5WRUh9GEjSEiZuBuBh9n0WDZIUclkgMhBgbwil7WsK1KqTWGJ/N+V7Tjb\n",
       "qvKMMn2lhgw3mYPGfQ6ilC6Vn9JalaIoI+0M/w/tH2vpBkBG8LulkaX7CMQfXaS83uTpodTbJLN1\n",
       "Pk91IutfS9XVrNHzpP9KIeFeCFR8ZSyoHcLrCpKboUevdIFC5AfK0qse8IGY6EvcCjBJKGfcJvdj\n",
       "lKkGAPk6YHRclkekb2kyRHpd9IHFz1yvmCxG8IHtFYB1AJOcrdhBBzutyvmA84p+VaQ9vdvb67mE\n",
       "KvxpMBNq/nfx5TAUuXhZiLea41R98CF4pqStydVu9rZSIiplPyD7kmJ7IqirlZgCaLHDtjgPLU5F\n",
       "pQ4iFZG0BmTW+oJCFDJF1wim4HNGa0QjEoiir3NPKU3wo1hGQkVPjAfBTfWEZD6DEWkSKPpy8Uiw\n",
       "DpQdkZLySKqclJ2ttsKMqC5jtOI/Is3zwzlh1R/z8crzE8VpHTiokAKCfSMDa6KIEr7KD4Vf1bT/\n",
       "hePUPkWR54tZZOdiXrxsJ/j+HJ0x1aLHqfITtrauI6uZHBj0I92v17Owpx1u+Tos6MPT/TWuZHJ0\n",
       "GqIQRuQIW3dHqVhkUhHKVELg+LkQjGPz37xhaSqwUQRPdfGbnQdWeyUw0Okflw+zSqJVY28IyUQ/\n",
       "dypFJLFjNXwjQA6ZBa0PSOx+RNkDmc6xL2i4Cz82+giwo5nDxFZlWRgpp7nB6nbEY1D39phvpEtu\n",
       "NiJEmGGfLGYJ1si9RfTCDjy37qSs6prP3AIeoKCVDFqghwj3TITe2RIxnB9Ox/hE4UKOH8ZQX0Vc\n",
       "DB0c+9DuiWoPQuONy6AdCDAxl9g/hbTwHdVHVJHkpf1awTCRyURvhPK706k00NPvfAJSk/e3IdVj\n",
       "qG0CiV1pOL1VPpEz9eo45L2Y9UqaR8a6dJgdYjrvG6/95JHlHmc/cnGx8DLe6DPd1XpnmkpzMzBn\n",
       "+07zNNFgFxPo/K+qRmrSZEuD/cgqPJJ9IHXrMrF8blbfzntkiAM/b3D846UCmQxWgH1W4DQAU9iS\n",
       "+aJ2MafzXGWdy4/MN+odmXk2a4Evj3YDlfepEJ0tqcp5ynqCws9QeRRVcijbCzCnsIcs0hyYnXFE\n",
       "8zTwD9YAAUGr6yu55fLkCRu/z4G8CKxlwlX/82JnWo4OByUOODnaZbBqJePMfXxHZ0LQ7nEKHrnP\n",
       "NFYt5hyxlFdqI119cLoAblEb9SCf+hAiJHiFVWCOcixLj5o5OAkDa1ODW7IKp0+ajjuy3kr4oHlL\n",
       "t/S+o3FSWlO0U72mcSydyPsbDqn7MytRQAh8z/zne77HhdHcZD4RmXbdIexyVY2vAmoUwsLvLCvw\n",
       "oakdG9onkKxp3gG8M8gTM/7/7VX90FCDw3YTh6qRgZqed52eZQ/HdKvGhvilUk5ifMTPt+OBWjyb\n",
       "6UrmhdjFRkdkGpJIrFiUlyYYTypsd2WeV5vZQWWhg67pCYWhAnvenhCFLsjcSg/17vd469ms+0q4\n",
       "chWNg0DMzJ3TsU7LI567v1dud0W7xVKdQKzLSKm/pfTeqkGcHqVRFauiG5ANz0zR7As49IkWBD+k\n",
       "bn3WSCsDMPOOWUlw2tSav/Gxx/y9sWMv/ptVlq4TqFgoKUHHeqeV/PJXUL/528+uh+KzB1y0GFBA\n",
       "FfHOq4KpGSN9rvl2f7wv8OrMTCPtOtxTHEbWYJ0yXQA0pLoQmzaAcny4436eevoAxdcALP6PYtw4\n",
       "E1Rgl4G3ZTM7Ag9jm1sUCswNj9eC9jh9vRlFnNYp0NYPYQ9+9NhTXMT34co1l5v7WacUxxg9M6q8\n",
       "p/THwjpaGS07X7h217e5Ia/KOsHxYLgmYmv7qlY2YxTF4j3qV9E1whXlTrn2dJM6FAjdV/1f73Ar\n",
       "gv+LSx5FeB0bFKRWUBCqdhKtN0wjsebuC5LlSBOcCrkXIfAPJ8jlE1xPZlThhCp0fH2QqGbMAd7y\n",
       "CnCBcjGE1+1U8v+WRLFMoE/4Zg6JleeP6T2qLC0ghEKuFCDnJFUXNzqLY5XmNfR/wWzlyGJ9oaxq\n",
       "p+7MaLQ7nj5ZIU6uf3nRmvEFVPRMO0Cs0f0CtS+Huw+oA+410cHgjiVaVJ6Nrsm69nptnqSd2aqZ\n",
       "Dnnf00Q55VJAZuRsCRm94+J+8jNPplLy3IZL6DTQvLpGJLzMvAKhi9kZwk8pBZP2RYQck/N1p+pX\n",
       "Pj+S/0FLgrcB/7KVHroW/BdXNhd364Dt853ILGzbW8aBslqQzLI7gHwEF4bvFMXbaaXCS8vrczOa\n",
       "gR37x5k67/so1NzxoFOFIk2fuOn77vh1xL1lDo55pmM2yJ3P3+OHy7sZyKPvY3YSVf666Lq5IsFi\n",
       "06TOlRE9FDAVGexDbAUGd4pHod3USkR+mvHax/AtWirhqwtSmuBaPi3xHECeXaQea5zBWOj4hW3G\n",
       "BC0ZywmbQlj3nGTPHa9y7QC9LskVeLeLrMCxWMCSDkvSfUqSZ9ww2l3hoPr6VcdNnAwc85EmulPJ\n",
       "Ct8IuWOywrxKrghIsArh9fqvTn2aZw/RN2g+jNAkkm+pdQPCvHYjGKJHlWYG4TpdzrEcMaeH3yhc\n",
       "85V615h3lq/YAaisxOe52hO3WbXB9Yw0sO7GtSkNQSlb+l0SXydUrw+yMbdEY78RhGrlcrMhqmp4\n",
       "PWrXdN6o/P1QT8DMpHpKe5OXYsMmYbc1XTUWzZMGkfrAUwQmy732A+DfuqwND/KogDYMRgdLNr9o\n",
       "rw2HafaqJoD4y8rcMVs/L7vsPbnaCEx83VlAgH10lRWJMSfm0EoPiQ+vX5gMw42ldcmaqaL1BpaB\n",
       "wQAAARhBnulFFSw3/wAT5Pa98/otqS7uF/cCBp1pemdXLDcArwU/1+WBIAOCjN6lX52VAumQfKFX\n",
       "F9hM+CaBolkw/wQY0PEbC3i9jDprvQF9FhntmGjrEri8ODPbtLmk/mxuzdQL12ZRP4iPw6IlVbJo\n",
       "yOakr26+GPyXDio3tsHxA784GtQmTTluUapUsfNO5kfOkmnaJVd7ZmDQfY2xcOL0Q8221jHOqWg8\n",
       "8eTL6dXoaj3O2bi3QqmDVONJUQ8FsgukajnUBNoP16NfF/F3TlLLXRRV8oDrUigBxSL4nYmTouoV\n",
       "Pqz6/lFk7pvEqWisfkikySeueKOBZB+T868uJQoc8g9glLzcp+mSIwcY0v+lHNxyqFYtRf2Jl0PB\n",
       "AAABDAGfCmpDfwAmyEwACCf7GM83Vdep2Do9K4WdZOTf8p4wlURzFv/9mdIS4kUJi03Rrlwz1eKi\n",
       "SSTBS2InCWmwkneivjr/ZLdm45yEfwnjBITzEDeKQvJ7yHtFtkr8slONhvhHHk8GKeVfwLWyaMta\n",
       "4/WOb5f/vovzNwIq3uXqje3T54SCsSFRVT1IuLjTlS2UyEdvUfgNkTw4ZHOgdxIs9mkaRD7jXpTl\n",
       "VP2hEbq06vAZZDS8gdqjgd9vL6L03TxP7MyzJGTp/DVf5kMcbpERdA6SZA3Ju6b1h+nuMFo9YnPx\n",
       "FqfWPz7zAhclHs6QtjgA2A3mYa0jPW1ASYOQE+3vVfKOAA+Nbm3co4qN/ZQAABIAQZsPSahBbJlM\n",
       "CCP//rUqgAD5wDLUAXpY7LRWCnuGO/kOwtX5/Ae34Pt/4nVg1Yq0/5gZSUrhYnZLuDIt9zWoNyIb\n",
       "U5ui6HfoRN1X6MBCmgBnKyMnZ3Jq1WZcyDLWqsCtdXwz/xnGo4m5yoUB2oV9sZIxoBxEHVVuTQ9e\n",
       "3SLrYxBu2r02d7B8VJ7lwLGy8py7hEULd1oLrzeBNZ8CuJQM8TyJiSft1upqsgYLzO2o53++vRXn\n",
       "MoFrk1WywDWD8+z1WUBM6KF6Vz/Clj3Wn3OsqoEdmtf97ZWTnr9hjLEGzaTik59MtG9uwDG/GDqd\n",
       "tCHBrvo+D99l24N4H7k7frizmi+IMzoE1Vy6Cp1wCOtaRZdDWR0S4I77YWNiO7pUy8Rtaj7SFzs1\n",
       "m+pVjgrPCArHXLb3qfpg+V5xllUHIAhJbY9t4TMY3DN83ufrvar+J7fT47dAiGJMH58NPFgyELwa\n",
       "sz6O0HYMuhOsRAiTb9bSkOt57q5uWDl+syWMp7rWZkXYGO0luKcw6V6LKWwAt5o+0lPS3qvXp2oj\n",
       "pDdlotM91Wr3taH3BpD/gvDfzgRR0vONl70X3YtkABi0JrXlp1ivDmD28Ngr71s5WR/nwWQ72myO\n",
       "YGMrsNS/DankOJtVwA4fx5en3x0ww7iZKTCNOHg4D6gR1Bn4HdJmqo3CnOUDkJcve8wVhiI/eCfy\n",
       "Jynp+E/ya4mcIRFpOJauHYpuKqWD7nHSj3LzzQ1vZshWLU1CGtciUD5861lvaxvbWBqdUgEYCgTn\n",
       "w8m6WC4yrYFkzH9b5DJo6GshCr71IxnTBWK5GAFmIkS2zapt2A4qAN0VU64yXbwmXSYHnm3HpzYa\n",
       "4Ds5uEU6YsQHoYGzHVBoaadwTDNegdxBerc+lVUSBRupF/ir8uWf256Nt5uaJazc8KEG//wwn7N3\n",
       "k9z/g3cfhX75gt31mYR97NfIa5mdyh/CkL6w//FfmY30OifOEBovXRbFTKeQbIFplKY1B8OhHLRV\n",
       "xYUDPcS3mRy6O8wV8Ilm0gcyfjCM+B77udQyquM7cdJ/8WdzTIapjvkR/4Smupk+7V/vepubfiIx\n",
       "nb2ciddPgdALUEGUuR6ECYQmqn+Dj/WSOPpYIg6jmwpu3t21Jut/dmXy8dAyOnjjbSe6UMljtWPN\n",
       "8kC2xEaNQHTNHu2zy2eApdCjMpFLLmERTMazmh8Q38Xtqsh8tvgL0Hufpl07r/BD4BXbO2h2R4m7\n",
       "HhJ/DmX22L2RHwPdbBf88YTbCBFMznAbNG8uSspHhsuxYFWq1FXvUb2ZBg/FPMJFOym3ae1Q6ew3\n",
       "WD7jbJ+YbwjdgEkKo5+1dLTvJCwDaUwV1X/pmlhVqu0qn/WqJatXCKPGMy1CQaJA2QSGFYogPtQH\n",
       "yTTGx63nF54TZy24JflbXKkIYHhRiGIQCulbaQq6aKNEdwpJ5LqYdFdkPvujqgsxxvRh/RdXu9Fg\n",
       "01d3JQqW+NXv75hRviTYoY8fRP4TU9WW0lsBKMIDEpmBhg/tRv7SjDQVPJMBkyvt35OpfjJyAyL2\n",
       "xeuhpQAyT7O2EyZTRRrI4vQ89ROESpR5yGmHXoX/YBkSb+nzVid6aSYmHMIafvjXlbsS2QpwMCqh\n",
       "mJyWAWk4IEICUh5w9gxIMNMA4yl5UyYo12Zs8pvgbwp2vCfoETnBqS2gG1epoUeJPtM3O6nfHbCY\n",
       "2QJuRAYipyx2gLxmwxFG8fFXFMp7s9odS91Y/hiG8f/Twgxny3zrBZrJAER9EHJoIWkAQ9KJNGtA\n",
       "oXmJxSKXyVWKyPKZf65EPkiTTLWc3bUGdvZdMglSBfzBnQcysCYaEKEGOJaNYjv5QlX/Dmvi7Udk\n",
       "5Q3LEimGIs1HR6WWf1TTATOsPmCUTaxZL+6GqTVw6QDot7RYcuB+o7hDqfG1KRMZETjrunugJG+U\n",
       "+SYOmDoa6qBPsS/oASTccn+d23uZd91GRTMPscBjA+5oM+BNkqV1flu4aWvymzuUD/ThaZ/JwpEJ\n",
       "M2KfzRmy8LcCBGu0I0mLQOD6wIXeUDPO0NrYgdTujDRkF/fp2jSkvhWyQqDdYJVLRhg9RqS4jy4d\n",
       "90kRer7s/+6f3Mn7Z0drS/lsoYwPk4N7qX6KbHcUp3RRz41MKiq+uwNCaHwMjAkVEDaA4Fa3VC/G\n",
       "MzlaAJKC3uN4FYNFLCSyDN2NiSRSOcThuPKfqlsKFqZ8b20YYsD5MpIeobzgMLQz8XZph/hem/I6\n",
       "FLuz1bDKVDZ4ehsFZRTiEz5pk+zWfsp+xyV6pxXfsfO6HRAw5F2L8ZrpXceueO6w/LkeCwMOqIjC\n",
       "WvHZxQkjJKJSgfEBfl831lyd0WdsTZzvMRnZZjA+YYLAIfYPg2EPkU1zX18TxzROjtsaB8q6fCxH\n",
       "CpbgYRUOSohgzhLtzAzTZDg2dkZysDEk0RkMVdEsV+wbmmG8+7He7RBoYDqy6pH7TurcUxwZmOzg\n",
       "JjYQleg3Ba1a3tpSuipWldM8Kzh+zCpTuit6nuDlZg8NFXZtkbrgecgHa8kXd0jP5rFCnXOw4MZZ\n",
       "QkCq9B3Fspkp+MCGdhBPMMhnNxDYcDNKezLVY1h4U/iMwmFVlkCd6/Db2CNjeoa+YhR8hswcjfLS\n",
       "txi/L4EIriOgvt9WEEGauzCd6yYVwwtn/jdzJn9ldKIK4XMzCIKJs+IprtZoA2GeXnHHMErrkS2k\n",
       "ufU4vbOMJvkk6w75Yxa0cmGk2DP/NVVB66cm6/GqSpfIAl9TLMAkDg7/MYg2opFnKQbrcrzwRK92\n",
       "4Dq0lY5s2Ghzrnmps6bzjmFcbVrNyuWS43xbFZ3sjY+Z+EEo4DlvbWzXJyNrll1u0+uAxSC2HpTh\n",
       "3vb40HgdQOrOwq7wlfA0bS3U2Nsz2EFTflb9OHSV+nFO8wHXAyv0jwr3aAhyBvgFqeEdYjzPxYZ/\n",
       "zFzMIevutDiplRT6GP91/yU+fznRpbhiWcz3pAT6eraksUPBa+yg7YhK+NhDcEHqJwITnCIWk52C\n",
       "ticlttlwVpb/7ULHtNNhd6zQO55e+bCGTExSPWy0vHvooSwb52oZCj2AesJGT0/E3vS7yRALCycm\n",
       "6noi9lpLSLGrClw+avWJovUc/tgh3rF37W3fGPW1vP7TaMyAIz90Y0z75e4XBAyqNdrtYQFWKUTz\n",
       "/W4GYA3nPqkEG38A2f2lY/kUYxXn7wz3I8yQPZRH4RKKFtrBnd3QRZb4HV/ZmokuT8YxGwXhI/tW\n",
       "f1NlmZ/WGAqvg/Z3fquox0ZwgNy6/XR3LaXWWylTvjbKzEBk6UgFy5qTn0NnzU8cw5Fm4AwYlrV5\n",
       "INc7u7tdaG2vI+RPQvL3gUd6sk5kow5LA7K8C+rzYDSoVvxiAl7HRCDZi4TkwHeIC7mf3QONsc5p\n",
       "vR3nU3JG37BmozWFerQfEsjGo4+RPVezTIeZmqrW3wlkWQWlWcC38f6MRY/uuicR+aQdehSjKLKG\n",
       "h7RYU+OVN1J28eDZdg8o5TPv2/NWPLRS2F5bv66iodKWU75cJLU712f759LQwaEqEFoP+hD93cph\n",
       "pvuqQ9t8kb776mNC2KXjweTtox+eEKI9cHqlmUHex6T2GbXFTOS6hc1v94PHxuURbM+9tw/Wkm8S\n",
       "4ZbmWy6AR7Zx4F3gH906yUAmDrGDiuVX7CSeeGziR3xW/VtXswO7J18nVy4T9r9B9l92lxNgqbhh\n",
       "dX4ramJNPcoRGP/2j7RxxWaOj4oOMhVkNGkHoD/zyJLNLBz5LlHaXF2hw59r6sAUZK/N7WpxeEHo\n",
       "iyWuk6KcD7S+o/WLFPz8MhM4svWYnQd0JupjnDJi+95D4Aah+2aJALqo5TGTM5fBJa2R7pMDKvxn\n",
       "r2bfZ9fTeEfE6bJjk2eDu7zI7exw+/4Jbmkic61zIegdo1cmBrCJo+8rs1zkfdOBhtRU2SzY+xuP\n",
       "7tuyKO9uPHm+LlQaQ7XePfGiM8mE5LZjA6NzfPk8/Yxq7fgi9T6oPNNiT4tR5Mm//VoC/RjxAO5o\n",
       "i+zKAQQ4PcNsnlyRXnHqupB6oL6z09bA9r1RZKafwfTXFlJrni41a7JI52uxyNuYgcWamrYV1h0u\n",
       "x7jLGLgbizrGajmHpdg1iOyb6as6fvYhO7DSF+tBY+pCCg9iWaHe1QAWb7MhHIEMmNYVLBuQb8W4\n",
       "CgIbzZEo7/GFXynH2VkK+eLZWsjC84oLVXzxGwMAYbpuyYcDZ+F7DU5x1cJfUv31KnQJtttXHYNe\n",
       "lbSpmDyxZWNNgKZ6DXjw3zTjWLKaSjIogw8geire4P1/hnXAPyStnGUoheq213q1EAnyEHo6Sene\n",
       "9B9pyN5+DnhvcVVmb3cLLKcwfZVKCD3GvoOOhdOkLgH/y+a8dsffqUcO7EpvTTB19p0SJJ5mU7Q8\n",
       "AdsXRpbyLMr6sZtyBPXGbNqWNJHZZM+lAscsAu4Q3ccZe0hxSU+x61Puz//+eDOFCLTIvWVSkfls\n",
       "HoaxQxEcmSf9/jEFtsK2NlN0DD2ndKfSDcrso7nkoFp7pWK96yL9ESzDc4t1Ky65Eo8MvAgt6RqG\n",
       "LniR5dJXUKeWd2CVFq3wYjQcXZ71pjQGZBSxuaBOGgiCx6/faYh2BOCyf81tJGxsXI1mjN5/Q7/g\n",
       "fwXX3cNVLVN2+B83LztDPsRSSc/X1Z1IZipLF4/zEtI9Z9eOpt2zf5eV3TLto6ag6QR+LjtewZ0d\n",
       "DiTrhU08nR9baK9Tl4H3Beog47y3y3Gq8/i5FTsjnWwl1QiMKeiTShVvwOBHn8SpW0vROD2qceBH\n",
       "l+ZQzPaTuUv7J6TXsBKzpyVWNGG/2BFZAy7Y4SYDi7MznS/Vs89dy2RwYhwsZUHzRjhET8iJfMXX\n",
       "VtJuCfXGTCUyWGJwJ9y9+emeGebbet6KGttWz1+y9zUBo/URKvmfzQbWhmKXpui9KQhqThQTbWhT\n",
       "M6WWwmMpVFf1Vagzul/oCcxw5bQlHObbaWg/tzAQfK7kbvhi/oPWwrg7PeFLLW+9erE4TVijnrAk\n",
       "ky+HrpFMR1KujGfCq0bVZBZJ4R1j719fN7nda0tEaC75uwwAX/dncic2X8L19LAv1Bb2okgB2RgN\n",
       "Ye6+KZxeUwhy7Cqtlq4PdPlx5O0vGLDCtaQoNJ+N0hm3VpBqTOUtAdFipRe6sRcdVuHXzvqbQSKF\n",
       "aGbf/VteFb6HcvM1hic/gCDZHLMgeygsmx5Pk1tW7f+Ntw3JqHrtyjKisNgJL76acoOa92ISEN1A\n",
       "VYYP06IRKDbpweDHD6+MHNyODO3LJbJBOHak9NVosbUPfjBi7hXXRG+nUZd+m582SfaQoNN8e5u8\n",
       "2hDkaEC5GEbY/NfTnkkunro2SeF/6IL+x0uGJRHd7N2touKG9sa5RaAVW4WttcpWDT8vi9mUzQ4B\n",
       "L+d6zELFCj4SOB6Xhvor/eZTq9J3m9lkOwtQmE6OpbKh6hZcYGh3SXMSwVb0AjZHAjVw6gyhpmoz\n",
       "pxOKWz6KOHthmQKEzZk7m3hdWdWJ5AwZBMP3Jx5jZsM351owgxrQ4IIkVO4+y8zQOBMVAKYoGdG5\n",
       "1uGpULbyyITUhM+9yRaOqtoMTnH/6/3Y/F/yARCe16Tq9ip79SK/8Y2RDwxNiM2EYZpit5DQ73rA\n",
       "561ZVjp//NYbKTkoazgWnEvJ9FCOW317xJN7K997i58zXFszNB9quW+ZUAIlszvIFjEUqWnS2aB/\n",
       "9hN2Pw4SahsRgMaSR1corQSzlqYFg8LN4je5P82kj7yIPUh6hYBBtY5ou8mj4nPHbPBvFRGMVdAZ\n",
       "dVo8d2PpGegpuk8rkeskt0ub7D5CU01/NSn3Mlkq+YZP7hw0TcKFYTFap+BDkQoohLNPcrI64boF\n",
       "vSAA/it6sSAqzTXviHfERZGz2flL5P3CzmOFiTcVyqKjb4Xu6V+KEcDEmp1opAmz1rwDdvYCm91O\n",
       "rONhIGtV0w5IQLAW2fp63FQ4Eg89aBZJXEE+2Zg4BJuPLF+ljxGyr2DyKYy2N0Mt5gVT1V7nSTCf\n",
       "ejNzl9/PK+8D/VeOzlF61jOI/2RH/TaBMlhP7DxKR4kNcgSE+dCmEj383RTrk1eO1Re9kbhVasj4\n",
       "Anqh+u+lbhqJdJJvVDOmDwxW7Cm8tyBeN1A0Zn2AFfMd74YNKa23z4spfb09kInj75wCcbd5aGiq\n",
       "7X3cKHI8z+kqHlsqV7IwM76THOCIKMUQGnEZar1Q2Mt+zJXn2m9AAAABcEGfLUUVLDv/AAypIAiq\n",
       "9iT/DL/roQvimt1HOB13GEI4NqahC4aWVRTv2KtmZnpRKrBxcc8tsauKXCisZaHS8Z6af2nWYiA4\n",
       "sri4ooVsEoCo6YztQ7msFgTPuFG+iqC9wNNvAA42wuAYRh/4x3nZ6x/Ubkkjb8bvqMUfioaQ6cM7\n",
       "jjyLB7omugwN+4ysE1V255i99qokbwzXPKDtTXa5+BMgyHPM/dqoC0U1/rUdKTJmkzZwZD54jtM/\n",
       "/xQywmNhFC/wpX2Eb3MoLtFN6LrNfpBshmOOSG0T0xApVx7fshGxI6CVesr2s3rDmhqzmGy1/iaO\n",
       "izaWZ6QmjfzFF6a4PDrSVkSbgAweFv+PEUT5ccxvGSZTM1ryoU4x6/dcC0c3o06bNqy02iidvzJ/\n",
       "U89NHx3CUZV6ZsIOaPQnp5lyT2ZAzY1xwRgSrg4mQtTxfofDnf8+Prv71DxAdAmqzh1uUH7YLDVF\n",
       "2wcAlgDZ6QliQQ25AAABFQGfTHRDfwAEdg0NAAjDcUL4WBSe/RO5OIGPU5s6d2Fvhnp2Kq/FDDf7\n",
       "gNl9M4vvEECwBbFxAvNv6D9l6ewspYcXWryqXT3LrJFSlUMr++B8Jj4KbgV/edSHE3ZafgCyOVoc\n",
       "AkoSSWHZZtlYHnhKXpTbrzI4UGFfjCBtg+o5Ksf81x+mAgOsRGKPr74jLqY53sSN4D8TJ4nOBFtX\n",
       "lR5DcerrxZF8TFOwLKRo0oatXYpaLi9lOgGCbc9DqpFi9LMDOQyjm/NvzKKCDZiQrze1W9WTdd7P\n",
       "SVwMAkOiWZjE7rIN4igB0HuIGuEaepYbaNkUx5Np7T5yfO8Cbk+giTnSzqELUPB6aflQrSLlpGfM\n",
       "TJWh8zszPLEAAAEXAZ9OakN/AALW8+RznqlBO6PFNUzsXolbL3ZQ8DfBcThIEAGbizkTjBGjXi5y\n",
       "kcg2mSK3oOKo3+uvpqXaMvJt6GPJS3xFupkE/9pYMwVzg14oTtfETj+hNZ4H/BqzzmjaQPv5YNAd\n",
       "3RW/Zrxo+njY3GAMGjMG78uXvz/3epYDBC9C/c5Bfn9N+w/PY0YXEO8YafCRI8gRRmcCd/9JTkfo\n",
       "ZfbTD2fFujv5AElnTR5WRScjKnsf2M2U4PfrPVqMZeaNU5lGYzaeCyYd0VBYGpk2HoE5XgbH0uNm\n",
       "np8bbXK1j+uUep30VNWGqRz7axeo67E+iG4MhFfhqdaq/0locgzNz0ZQcP4BSo8Rd1EycA5++0ib\n",
       "HpYWjM+BAAAPM0GbUkmoQWyZTAgj//61KoAFlDT6AAidNnJE0dBhagEXZTtqeipba7aIFei8+EOC\n",
       "X1nF+lgv4No8bixR5wqVJ9aQbVZKfkt6ok2Q7Y/YN9fS801PqiaI5xi2RjJL8oFuU5dedM6Yc1H5\n",
       "chAxIQUu/CresPtWdggW8x8O1STNdHe8neyRH7FN3CuyjFCVGg1wBqi9vyNsJyrviqk0P6Iss6F9\n",
       "w7lqx9EySF/fzd0KyvVvkgtCwW7DIRavUREHp/Fqb//o3pQWUAW3VsYQqorsRLQK4Rd+ZA3qpqiE\n",
       "7bc96K6h2wLMicOWF9EVMAQaNmnvf6UFlsgA1hn1vkbsoM1QtusKlnFegjbJ2E2vbOrfbSbiL/iq\n",
       "F3ZXZnrLSHuTuIm5mEAWA0CJrYztjNVolJrtA6RcfjdTsuT+Qhm8sjZE6Tj+y5CcFATiqiM1zH/1\n",
       "/+Jn9XyoRwiTsADV1EmSdHhjf9I3+UYRsIE2GclW3PdttxaNA7PC+uT4AAIDpQwkfko8Q5FSWOEv\n",
       "xtrpkQvr2c39POQWqWZytrOyO8D2bx70MM19IKExXLmnVZP6f0GmlVvKuWM+YKH8cAnNsSC97rQo\n",
       "C7iyGE2Ug+HDmkLIlBOorA/6X34QNKLxyYZhQdqXdbggFAfrFwMcZpYUrOodDjKXws2wuvgfPLb1\n",
       "+Myzem7ISgA70yPgfEbglNrcIvJrJamsVoQAW9cm1382CNeq9ebDD4uPlBqnmIf0osFUkOvdUFfA\n",
       "/M+rnGQv0p9klNA38ERnJ1zR5Ibuag+pEfns51A3ijlNckzI0KKFaJZhQVXdjPVjcQvR+wRVnWBp\n",
       "4EJD7RAGYWpZ3KUhpttazdoUDiByYS3hoH+gSpa/Ill4JNNy+edvgWw5oiE3rvNmfHcGoI92xbMn\n",
       "b97mAJY4MLm+9Mnj8SyhdP2ZRsXGjqvsPs/DOXIi8JaZYb6CvbHfB+mEFC3w+Bxvy9Bv+p5EjsfK\n",
       "0X0X7YM4Cjga8RKLHfjqcK9ZjIoGZX5LWW2oW993wCa0LwOGYkoRp4a1O6b0df7pZjBZKLDlxXUM\n",
       "ydYD0i/vgu1WZfC/pSSE4CDU5lqvIaugTeFVRDlRNy1NdpfopI3trf05yRVXkMtWkDYU7MXDN/6G\n",
       "wmmKE4SUnjx+h7uGUt2XFJ3Qsdg6oRZJCfe92CidTHJS1dkmKuR+9GA7R2Wqsr/NFlYQyGN1M3aL\n",
       "uNBfRSA0cTiEad+L3acdmooarp579OYb910b2vsXB8gc20HPSDDD191AW+w6xUH2691qYWnHDixn\n",
       "4AZoQtigsdfdwzpbqMPh82+aBk8v1hV1h5x+9p6wmqkk0WWQWOk6gGXF2NWGoOyRYMF9OcPf+JaP\n",
       "r+RqQ9se1hPEgFxnsWApK5U58yGM8G71jCmkwr6NJAu1HjAx6FuOWdh16nsRwK1wZTytLbWsXXTj\n",
       "/7zgkm1ENx14Gczh24WgzX8/9UpCenLhmmJDUWTnXamvDvlrrtQFY+BbGGtli2YQrnYP0QJh1Rfz\n",
       "6JNNecDasFJ4iiCf2BKh0CbDhxgzhxNcZx9kOWX2AJFv6pReaDAJ34PDPHNBdYpPxKy8NWKgIARk\n",
       "yh8L8Ax0hrZljRlJFCfaVXH9SFQXVF+OjM21ugHU7nT5U8gU2tjETdB5Kf+rh7T1NJL9BOZ0Jbna\n",
       "XoSLbS6hIkLMiW6iGKbNBnCKfWu0n5AOy+TPt7z8ypuFjgXl9CcWcET0t0+AlPW3zhzMzzP0ACfr\n",
       "9RsDmhrYLKBpQvtP5UQBuWwVjrhdIPfnxR3z1NNv5E958P89+1JTtQ+XXPhdNdU2QccqFpHUZDRc\n",
       "zC73Lo3E1QQCDGAEsMEvvm5sEuByG61Obrcn04QvN6omMEbxQQgfcQV5BB3cbBhkk9NmhkKHHy1b\n",
       "DM/nf7CbRYZzpg4UvnBEbA12P4yJC2clQi6Q5q/lJ/z1k5kjiFztpGPHTDdJzU2bFyYzg0FIPSYm\n",
       "855r8sUs3NH45ZNsicMDQhSnRPsl+QnKUmleagsJoJIgtVkkylPEvp5RTqtdyiyT4kSa6aDXf6Fh\n",
       "WSzyxreikIkELZQ117FEcerWans5qlAnLpcFvVf4y4++myEkfx+pGgHBoMvkfDVVSpnjlhxFyjHG\n",
       "Pg67BPsxuXjFgnpQxJ81fc2sPC5s1rUU/SE6Z2dBRFpigx/2ieQmxeV4WSObsTxc8cbkL63/2oIY\n",
       "iBspYYfeNuPUInXvexfRJeNav6aCr5yYoZRPlHyvDfQVG9/7p9pyfFuhbuQFrr/r4sEUuAkVD3Z3\n",
       "INv8J1OF379oOmQiVVRsT82GbJNt/vV32Xtebi8OQ1FYYcHpWSc069GORkvGkbvmkFiIcxS8KQAk\n",
       "XTG7w1cCFkaj0yYgR4n3wESc9vGOMVP08eLSbvAwS3T4NAcIgEgVhItEh2nrLfZxd0fmBweOL9Ak\n",
       "PYSWZQHsp6k+qE8qZcZRE5II+rfVLJVtTrPpUaCfrsTRTgZsp+GOs30lpJnlPLQGbtlsybWinvBo\n",
       "PpzGUpLZxnVrhMnidn9uhZkHmpS0pNh3aihuFwUYtjphIa9KzQaOjJhzvdczz+oCLptdznYI4TBX\n",
       "cHy+QyCXEDIAvbMiHwG/yJK5UDoA7/3m94DOYEzJYKP1W2fNJHQfvF0Oiq9kWvqopFo87dx0tqvN\n",
       "LngkNCMA62kUOU4WhplpmZhfJUPtQGvVlnj9NYXBH3fF1YUBh75sjImkpLKioG0NOyRvqQfCRmUB\n",
       "yzWZWyXCon/c1KkOx/qIrqAWYLMYlZgUnwMEyFRl+lWviZRE7KG+KU3zP+GIYFRPderACzY4fevx\n",
       "LmkjPMy/MzkR/Qw9s6+k2JU8xpUGwoS40h2BUjaSaYOXgYtTJgOF/PniTH6uYwphIayymzIM6xWl\n",
       "elnvYTDKEv+G/M+kyiiUkh8Rz4fZjTfKP+i9RKMCXg5/iXP85SUcFpflaH4GM4Ls1+AvfOZJb6Oy\n",
       "yb50PIL1RNBOtB6jOHd1DWON+PBLo5zKUTCAFlR4/f2GTgbboY5pKYcqk7iqTAsRYgoiz3SX8VNb\n",
       "AQBxkGsOvjeMBOPifFa1N7RRPj82Tg6YngpGQbe29k275lKsjuu3w+MZIyOA2Za/xscfZ4vXNOk0\n",
       "IUbVqBSDLoLjYsbtQKKcZSLfwH+/r6j82xntYsKB4moF825IMprxkBOFPsi79RHdSUPVn6veVTZq\n",
       "5SwTtb/G4P7y+fQO4CH0ZjdyrF3QRTFL/YuqLmuDRwZxzFfrgcBkFEDvFPnux4oPJaZJphbDBUB3\n",
       "EA/wefWjrLu++42w5u2bPlcwCumoLqdMxTX1vR644m/KxnaKg814V/YwMOkEq9fKHNXh+n5y4tpT\n",
       "sBjb/drnpv1sC01Y9n0Ba1z8VoKPCjTtNy2nQTvKnLYudn9R2S5VJvIeg12773AhwrdW9Lc4KIC2\n",
       "OpVEkOfHKdbmM5BSORPxTC8stOXfSvqaZwfWz95RV7lM9jPBnYjb4vka18gCIEXBw/gx61ilSI4J\n",
       "d3StMzml2BFi4fZ+8e7PG0ru/12qBq7zV55p/rtkqL/R5zW6RNylafSTJKsdVzA7NS9GgImsHqhk\n",
       "1X+nHwH4aCoeomb6/ooMfwnTeErcgxsUfTVvpN/f3+/plSGqkFVWGU1MwOP/IS52WF+GVGhnblov\n",
       "IxgGanUThi8DUjmiOfVLZ6y7V/pqoPa37AdrbCRErQ/mRZ0D87L1+480Lx5Ji3DAbDsVHdHNcCCp\n",
       "12ZFzKbfqDltGuN4ZL1bLLygooOo2UNFRtfDBfJvvdo/KONFrDbLNLH7pPFyFt7OQ77GAvpKK1Zb\n",
       "Ic02yMrMRB4CsxGc/Gg7GsEZb3q/+tDAqNWl0r73aQAF/hmmYB406vrtz4eGIlzAw6DYMGuFnnF8\n",
       "wz3J48YtHryX4j2bzOQdmZ1EIKIGG+Yed5++cLo7gaSDFxlMYiYvd6NoV63R06Ubggsl70dPzOft\n",
       "wi7SnkXPW7cZM4jVnZy6fpFklIqIyiU7tixyCykyhzgCMrP6ydBDK1oS3fBRARU43ejeevqqH+iG\n",
       "au/gcjQ/+wJJUVIZK+VhLxy8nvs9O9+JGhPkfIck/JjPEN+0RqRe+7iexNeeAB8kihtMOUHeLE+J\n",
       "9NqN9p+CkGcGhQ0vko34MHrc5XZt1xhvSYoc3ohEOwAHv1ju3n81Zpfw+lJoWst6rmUoWoQeb6dN\n",
       "o4xZUv/FdvOudrO+aXibbjVojQChcWISd1PtjfQ8X2qx7lfYD4S8zJUQ57Kuvps+hjewAx3MmMjG\n",
       "pmMbFX0HFDfcrqbZWeuNH3YiX7cL12IsI0W8Hn6tvGlod3KE3ivEAszi7+kfpIWEv+RmW+vqyVq1\n",
       "Z0FfcKN90Of9Mkzr6LqGhmhUqH7W8BISGW9aQnNx3UsTf6LBIgBVEZEZAp07PSk7B+Bf1ki6SA0j\n",
       "0BiT2gCT5XcPcNbqSnBcY1qGUuQ9lfdtVxaaD6Hq4fKhNNA8CWr8oibf0ZwG1v6iqt8zTCj0s0Z/\n",
       "4taRc1FAduoOph/m4YYHFpdrJXMEAWKXC4ZE1/8V2e9Pu2P/4Y1k0OJKz318zK6xNyAIA977xSz/\n",
       "Vjm2sla4xJrU5YhA76+wXXAlS7nI9ohybsiYLHfRnqDOY79Ys+lrmBwVL1BQjsOwwEdQRmLGZtuk\n",
       "yMGW+d20thUVuH8oi2jkZBDyEzG/5ZaEx7xJ1a399lh8lwzV0Naam9EEScCSanvUaeivUM0fTXco\n",
       "c1y0S0k5Xm8K18zKQNB7I22eTBP1q/uEMiNwZ2HFs2GG2y4cGaRh8fNLM8Tbh7pdG9bjDKLDx4pO\n",
       "fXRuezQ3/VmHZSkFuV3hR4II3IUmMzRMuFuvLkYW4/QyOsfd25UwlFuu/c8lneZWbVUMDZBO9pj3\n",
       "3VuRcA7grCJG6m/45s9k+Sb3l7Ue0UqTV+D/RwJv6Gl21cBp316FOVzOC9tcS3FSBPlxRtpEUnhR\n",
       "XuyqxWaofzqIC0ApcKLP+57gopnDGun62rZdBEK5uFYMGckDcumpkzccH+FGww72t+GAaWIAfPpM\n",
       "2ZaTbHqS5JhvDDQIQcRTvA8P1jis1bqV+lj9PiSIA4Ip5DXo9I0FxI0PAo7B96uD5lCKZpLjVTl4\n",
       "kSbjf/jVYg1pEA4CWQFtsFvBvKe3+yRcMvS5mx5y3Y9xHKj6v8hWCahRjdZRYXtnqXusq7KQonI0\n",
       "9omavB4wp7AnABGl4AsOtfZ95DhqJpyJuAAAAgpBn3BFFSw3/wAeYoQHOeqscEi9vLyDRTKSgMul\n",
       "m/1PN+P/AAaud/GTx7ja4bYtux5sUZ1u/+4zfisYajn7D+Br3+JPge+7Fj4awzOICkn/wiufa6IL\n",
       "UMb5JrH0hK9nBuDDziNwqG2ML+0FP9DAxA42n1sg0ZmWpuxAn8IQYYHHb6zXZEviXuuVUdsCmR2h\n",
       "ziTdTwrZs4Xx3TaMBGrGaJv1W5Uf0Ou7HIJHcXVuE7CvurMyke1j2NwzzxCnISHt7egbcqJWu/yt\n",
       "akXgrdNv3pKYSip+np/GDfZV9NeLaUTKIDYtYre9TExyYPFbH9VhzTsvxszLQ8nBiqNxkSJ62T9+\n",
       "i3vQRQ5RRrNFVaS0Z/ROa0pFrnuLS9x82Av+oc8ohkIUyX4rC9RO7K8bjbNNS3lMyqLRkMoqJUk3\n",
       "tMujoEa24VTbQJnv4G+nyXwB/9Lrt+bqhUHVH7zYmSCRCF2powJWg8aVP3BrwnywTS0GpDxVzJ9J\n",
       "sqs6icJxOC6oBp/mx/POzjk1Zf2ZpwCypCMCoyUjv4fkAV9zo0RArEA9+YBfLWB42Vvezhrm+PnC\n",
       "9PJPv/JGn6w81rXwh6+Q+8ytyZM6iY2SGtTsPSQHcqG4MAXdoT5mVLuUkxB0G9ZeHkHQPuyI5g03\n",
       "fRqMEmK14My7CMSW+9f7i3Hr7xKG/NOWF1bm07m8J4vdqOFGA6oAAAIqAZ+RakN/AB5ihAc56meZ\n",
       "/vPDYB+s03DixPYdbEVmbhlXbGjD//BQZJcnJ4nRCb9Rowe3YRdMxpIDDPhb6N2hZ7+w+Hf6hQNk\n",
       "8hwF4LFKDTZVafyeVx4DOT7A9teIAQDuBMwmGT3Lbas8Ohvf5M8h/m7Kcvkc6lIZdf/7R9rvFGcJ\n",
       "9WzRx0alW26EwKUnWymgNY5XJBDRmfVuhnPtagHhRCdVYljP2H5TWjolPIzf8AwuBfrAy3YgSBDC\n",
       "2S0z6SBiSDGZnr3EXt3j5DMKmtMBWIkH8h46893d3Od1pC2bEaie0qLzoqmSTnwwm1UWWuAM/WSP\n",
       "YdGjoWO73BFEC+R0CLlhQIe/Yb4/lpVOnHmaW9glp6ppMgq3BoblEHj8+NwjtZgkC+5ds9d7tOoz\n",
       "xBUOtvOcnWDBjAh+sC8P053zU9h/Kgde7ATcTG4huxm7QYO5zcBD4hZhMk7hZMKD9zCCTJRUbXpw\n",
       "cuIyoeeODcxzsgDYz5EQCnm3AJn1Rs4EVTNt4goiKrVNB9lezeeGtdbJ+wJGGDivcxMSyOkTMNWj\n",
       "xr1dEdyIxVq5eAX/dXO7IULBYPNHkYPPYd8w23a6FYYkf/yyrhnnDDW4Q0a3AC395LvTF4utnEwx\n",
       "C+aGAZIvh1xSvpKUxoq8ijL/AghWNsjonx6aoIzoWR5H4dh/ZXQGYGE/Ce8LIUg1LE6PgMq4XA58\n",
       "jmZW6ySZVILhL3ovDU/MBVCvbox3pvw7AWUAAAjdQZuWSahBbJlMCCH//qpVAAsohDAr4hZiTliW\n",
       "56fmmgBv3F7U3A8uM+Z4PV+3gCWw6J5q+Ajd842Zkk0k+0VRVwA6r/91unEGBq4bL/mhbtW4doXS\n",
       "d176LcY5QFf1hmEWpmyJgPfTreQ+LPACT4u1XqaahmDAT4HdRe4aoNsLEIEuI42XWllKXjBSdgvz\n",
       "YIU7KZw70iDE41jCh/CFyxjFldy0fwbMT+rWzAKI8lzex3JiIe2YOgQvM29Bm0JLSFgdDc9jEh8t\n",
       "+4XQBHHbNzZiuJr4Dwn5Fkn31k5VV64nJk9XzO8ni3s8aSjNZp47ZwruHEPpTLI3qsfS2UJz+TTu\n",
       "jpVz2i2MEXOY8KjlCT8oxYUHnEWWdMxGHbw5kLAoUJZxA67I4we2tPb5d/qPX1V+W3ZenhDJ7Syt\n",
       "XdkCHHDz5LdpJaYb6q4UNpjKuQVcj0VDcoorDscr40zt/E6z18IJwI3EaMCKFILEmArkMX2Id7Ge\n",
       "kAUJ5zDUpLRaa3GrtGSJhRTAC3YyuAmW39kFJ8U4u3ImeWVCF/tfSfq8wouhyFnGJBxN1+pKHEI7\n",
       "c3mEHzMb1E+5mJ1i5Fkp0qnVn3JExhD/JjGtJmvKNA45GFVMc7rh4SC8uY91Ru0w0BKeKsPKgTS+\n",
       "v4TkZmsN1huaLEWMXlvuOBWfxdcsXl1Qw9uuK6Zn5rS6nAWDTf/8SeioXmn+c3pBtebiWGYMZxnu\n",
       "ZVdSyHYyb4MCJRhVJ0xnW1HSJmcSRmVU1VbknKYr6I+g4Nx+0UL3Am0HR1DLjixJ73++Ds+ALDKV\n",
       "xTvpWJZj1ccMGJTHTbKURHZ2D8wq3kI27CZZwdzhw2EB/4zB3Lv6sXZqfH72yAry+02qMNUMF9WX\n",
       "f/4xNn8Hm5gbRPZDvzEq/Qu0Uqwr/S+fP0PppchtQn3CeDit6o33WxGP4aTDNc6iE6aG6li7xOJ3\n",
       "kHvAVebTokZfYij0BpHF65/7rCzRf2L/UsAnoAyBEPB/0OJjNf5VIXhXVjY6FNHk3/PtozotpUkJ\n",
       "698mIEla38vj5EV7FCxQx7ZqqtTlDzx+M6LpOzCiM3xfw8iGM5EvuTYZHUtOk6Ngnr/rQQPIKdDV\n",
       "XEdb/NYLTYRj/4IxM+sBYwAdnqZ6z7RfH3Oq0by771SEh+D+mURrzscuAWrEMb/XUfiqUVFZqKAt\n",
       "b9Pe7cWp/YZjAnXMo8cF6aHIzR3r5lb74npttX+P66r2C96VhZ/OZZjnoc46K9u9UmhdK8j94a8g\n",
       "MJ1ZgVfyGTODuu8/GNIgIEvc0YirikXcn+rI35H62yKwYel4ylTb3Jfz3KDKOIkPkA4zgnVTfYfn\n",
       "i7gAGdSavDhKVrmFKAMMeCEB7npbUXKaAeJf2Hy9cfxsD1+n3m7zW+ro3JYCGts3I8fmShkbTnpB\n",
       "joXvD+3KL99RwBLIHqS0/whlvqkzZtdb53tkzck1TVwKXf9ORUBt54RokKPV+XLdJ5SA4iYsEPio\n",
       "AiN0a0LJ7aEISvXkwaFcEeZykK6AVrn+THgvr/4nHKpfYPbsbJ02eAFzwdxwmS6lgzX3NGu7XP5g\n",
       "ehPrz2i6tw4UtRnGdBgyYECLDql0Ir4wd1mcD+nixuy2NtSRxN9nVvZh0OkEp8v2E8D1FlgiADes\n",
       "fiAJJ/C+M8dD5KIua/O9pNeLefySTQenp/IQwH48dkgvHrnHzGdMQYTbA9FNyL5E5vnDyNtiuCmn\n",
       "9oL0Q61R/k7TU0bCnsW2Ha4i6FsluomViwm9BNzAt+rLxWzDok8KLiXTEx+wSMAhAnL2b6NXNPm/\n",
       "zLOxNdSGLYCbob4ANNDqymbbcK7AqunHbw2IqZEPKd23d//45AiipIbgAL/H45rLxafLkV/etnD6\n",
       "Gwv7o85Y2uqhjXFjkIfNFtTvj3/SnK5trOsriEWpL7ZUPsiw2XKOma616cx6c1wpJ45N9tIJwc56\n",
       "sPK742r7xa6uuRHEqAqeutVhYpxtJ/ms9VUys/TOwQhp0nNfWPiU8FlpmRbJwrVLjSRpQe963XPG\n",
       "R/h8lsnlalOUrwavByoKVN3WY1WxE/MFq83xNwPpylsqUrbxY1B1FwFfK8NEZUHltWHdo/wcqJzp\n",
       "dUak8QvSxZEUrtgC4qt10J23knWtgyY0t2q6DyrQ6B5xx6kPhKSN8WGX5iJvhrXpiaDi2n0BEzkE\n",
       "KIlu87KNCJNVumnSx8bwravo59Y6XVkegp2vimlYXUkFQuW0ujZP/od/yLQfgAmfSE0f8KzPK23/\n",
       "Ykr4ln5Z7gfpv/wlRy4I5ufyGEjzm7VLjq+v94yIGDNo/uWb8ti0Y9Lqb7J4i9VvrCb0BuzR0zgT\n",
       "01a7tE45JQ1oXKsJUHDGGE8FtA37cPVxUKNuO1NGyjklegpYXW+a8rkL3W81KevkL2oHhhWesR8b\n",
       "rvHfhKI1rYp9JoBdE4UeGzZZJfrEceiZwI6Z9XSUmcp8B1evq2mP/yVAi8HhNiKOJKdeog6fboZq\n",
       "rrkm6SyfmMJfC44/Ur47gxU880uxMIqSYiFIKPmBBa+wuqQnkU5U+8ObQsZ5zlFbo84+K3wvBoRA\n",
       "1kRQ6Q68Y1H1Zjbx542nB9yVPBdFbamHXvYGYDAKqan69rIB6QbSuHfiIEqHJ4MSx9JscbPc2nbr\n",
       "clCA++YPDhEs39gaCZI7jlawz//gBD4r1rHQe2s8qjfR6HboveaH9ZVHPENPop5NhHbuEQsKHZH8\n",
       "Y2HrBSpAqYP8GApYRnlJH1TOMcHIakkqM1+tsiGwYJTDtD4S+zg5frkeXd0tJv/oKJSHBOsMDUZ7\n",
       "xqoXEppRBUCiBpWKL54FUzt7qYR4dpWU7kFg0HS8kVdgHMKhOC8lFLPMLxSFjxAvxQQslSRvrYNw\n",
       "SeJ7EkQkLGs71OPQla2blbB13/V4wXNNwtrSuwXnwwhd5N3G4Djp3uMpXbuHWQVHyqNgmklHm00M\n",
       "8RpnI8KiPSNykFCubKh0weaZUTnLYSmuTmv6q0zt6oaKXgQU7JkLojfeImDW5obZjnVgDhl8CytI\n",
       "h8Zwur+k5ytggmOIvz1rl0dC7AAAAatBn7RFFSw7/wAVwxTcr2Yosd/7VP8LQ33ljb82lEjBhanX\n",
       "6I1rzmrF6ESrFTLthv0cbqgJo1aGucavHCbq+RKdp7Y3TZrUtXJtLymgZ88OvTRSctXo6WnLQ4uo\n",
       "AWEHgtudmB258UN9KIimflHrQsGT14Tb+K24pPqBAxc9OWxzEU5f+MyWB0Qzu2mdC6zY6Ut29mVs\n",
       "XsDP63VuGolCC0MCjOreqtbHWjsEd0SH7kXOPZzY7YWwKjRKd0LuYWy8xby9R+3wsDItNk8eS3b6\n",
       "wQaDrf1j//8r4Anq7h3ZS9Zzy7x+NxwwW5FxIhBtjpQ0vsUgo1ElJfC86QU0GsOlC3cU/mmK1N5t\n",
       "ms19Gsc5URbowU9dVAneRxa656j8UcxTQ39mE1AvHzqKQxPVbQ8cNle/lM6xbZSKNKavPDQSUZMM\n",
       "mHycRMPoIjxc08Ar1sESpQC4zXDM2GIpOm7Tx2xeuGrGS+gePmLqjRNNp2F48aSBxt3voifq4yT7\n",
       "BeXOx5cbVBx6a97ILGPa2Sw3ONyS8gXow/S8rfKn8qENt0SkejnFTxn9Ba1n9cH1ILBgAAABZgGf\n",
       "03RDfwAeXTaVVivPFgDkhMKKjpg4JRsa/gVxu7dvDn2KgTgAGc2KsVDyLHwd74p8kSl/Yivmddcx\n",
       "ZhYFCdg8UmCMD3U3X2oEdp6IT+u23FJq0IX51ANdQ88OIhUHHJivRKuC4TopHbGfxtne4pBRmOx9\n",
       "mditkg5natmfm+4yHkyKoUNAJI9+EoB5LugskzNnjkNW0/n4fdx7JnhGDL5YOabwov+zjAH4QiOS\n",
       "EiT52n1yMp3Lk0gRlkuOwQhlqeK97hIdVI5i/0KjjlPoZFbuDQHo3qsl0fH2X3f7Wo2294RN2FmS\n",
       "/UkZq6LEcZ+CRQitNLrG833PYLz//5MlvtwKtiy6DRXV8hoxbirj+vCiIvvk8sqVYIAP80kT3zL1\n",
       "gn2eCt6xFW8ZkXp/hxxTz+IZLeGgD17Sq40zl2gDK0QXsMHA3CId8rCQHIik79vu7hZdiceVrGZc\n",
       "tZVcznZ28KtSJAE4B+UAAAFpAZ/VakN/ADTjC4AQnRAcjywIgOaIhPrliQAtJbtCBH7w13KBw9Ht\n",
       "hxYh/UBv0kKh9L5kFxLvRruZ6nGi75SMMghGEpTBXoJjx6xujnKZqk10Sli7TYN0e7a/PPm7T4CH\n",
       "v3fGyw4suGIEmbXRoSscDehHd/htPuiT5PG1TKJQzsaRXiYi8zAWvvKQQHk40r/d3pP0EKr/biH7\n",
       "umuSeB1uKCjYTYl1QqRtSjfdKoMelQ4AgD++4BBgpUjL0a4Ihgc7RoYxLJGuIzBuN+vjm8mIaZAz\n",
       "MzZEq0MN5XQzI5PaJp8pqyANkPviSt6UqTWo5sK3QFlJ/FcLy8DA5NRtQTT3WzA/Xy46VkPnLpaS\n",
       "BxzXlMDYEG3D7sHbOAZNVHODRNIIaRqYZK6+urV8Bb1KcQb5uRfqjf0H/plhsZyqPs5vKcDsvRao\n",
       "uNdDVgvtoHaNkYH71iBsrpAP2HmlZ4IqQ8w6s2WaYAqdtciq2AAACUBBm9pJqEFsmUwId//+qZYA\n",
       "G+u6v5YmkyAEZWjx93bQRZJIlcleA1dMwZ5YxoH4WDGmtLCg23YYsr36uXBVet4E1o2U3hzywIBp\n",
       "25+W47GMjGiWgbevnrn/5O3okFv9o7l6JS2/Th/s64FqfglQk3xVOwhJSZGG61laEvDLex6JaVlx\n",
       "GgFvGyzgcGzIUBA8kvdt2kfp4pmIOQkVQc/0NzR0SM9o0TThq5X/XUYgqtNizW2Vgu/zyLd61aE3\n",
       "Ir1v5kz+N8H/FjC3yx5DSnCrTIBJTf1xmoqzN+ak5uxPsWv58OTG/V+MEMPK6N7zEFY3TKjshdFH\n",
       "oJb38kmlQ0ZbgaYIiVt0Wtf1W2SHOA1FADtX17vyz3QnpBwz3M+bzqd8nAN4l6wjJhzOqekRGekw\n",
       "fo/KDEdVYqCI9WlAZgCzQ0LRhZ7DkO9hv0OdiQxBq6FL2YTNjzcJoMosGLZStlD8b5/6f1QUHoRu\n",
       "VBqsm4Ye/1FLjwfmbdnm/AryBpYZE7alnaXxP9X0x5D1BR1ixwneePMHwq+UF5qNdtqplYElnIf6\n",
       "t1nkM1KaXb6T/6CSAXA6Da+74KJDhs/dRLIgQXhMwlADABX1/Qe9oxUmeNS2hMfm0AIO83kjsOhb\n",
       "jHjZe14IwsOtG/rqO0AqPSlIgDAdhc3u6LgFypfJ+kwf2tD++bqzewnFrmxJkrn3nTcYpV3AzQN9\n",
       "UzVac7w6sJTGWPe+98WSVn8pQWjBwY4GjxXYgHFMI1fkclMBveXIRX7uyZifw/BOWYxbi1IGEHIT\n",
       "EXXMdoU2Nxsv4T7OtqhLbUWcbGTX1POn6/3utsUOifMftS7H6Ke5hetzpbgxAL0FiPhw7cuEDPdb\n",
       "Y7uJxNbj+Nr5SBVGZwPC1I+50oquD9A4JgSzSd+qeY1lik7P4PRd4fnzGORc7CjX19MsqZSCn1rL\n",
       "hMjUcmEGjyQnq0Ul6FHsOuH5AKfQWvHR63UlK4NLsvuUAM4GsaoeTm/QQaCzk3iGGPKfUwUGP1YR\n",
       "/q953QibVJ0um573Sy/YCEGSg+hPMp5OnmMvgiZNSTNQ+XbEPfdGpfoDavaPdZRO0+zecgOCHDG7\n",
       "rOGxQnW4o+NkI+Mzzh0Q0raTgFHSyBUMgyUVw6MywhNgprFG75ZARBlVr0bQv82+b6Hxq3SoHOFJ\n",
       "ingH7QYW7pVtOMJckwe3G/JCdJq5I10Fs0Aao5nqKPfF68ZkAAWimlddT5VcSoGKzBoFDlWEOsDW\n",
       "SVGHlgkdoO+rZDxwD6gBKiPDOOes6v96+fqiHjPlLLVwMuRb0laCGneBhu6qHndDUCIyddwW1K2j\n",
       "pVGQeIXSQsPOWeoGkxhUmPY/iejbw7ecCEEltEaU9pPDwY3dQVvDBiw+mY1NyliyrRa6DwZlQUod\n",
       "KD7uN3BwqIXp1fRdNv7I1BGh39brkWfx33FD3nGlbbO6lAEoLZd/U14wSYACas0Mty3zi4fMcSTY\n",
       "XHEpVVtDD29nzCkU6kxZJkp721Hv/U4/VyFBUdjiiWSr1E8N51Uvm7s8cnNs6wpff8Zmb+0l0VAc\n",
       "CjFfmWp4qQXu0cl00i/gaijkemfCl4m5fEnBpcGyOiffWQJLxXR7lR4uxT9EfsYr2dANd9gaxMU+\n",
       "CGln7vXdLZsXvhnT4XVccB1BgHv0dJv3c/OT5UAfvVV4FKeJJ2+z4VBy8DqaMfEP/Fb8vD3TRPZC\n",
       "tjgrXZMBxzbca24AMZFpCUjPRm2S6yyJKdYZulLOeX69O1u6/CIGPG0P446IbpvksucDrEhSJF8H\n",
       "OArzetoo7FiIJedqeXjg1tZY0YXH+K9jC/JM2zm53cevkSJxjBHfkooheAN02qe9DDFW3cHbd134\n",
       "B0xEG9wD9I/FuyMNymFLCgOaOUcjLUJiQTqIQ5U4b0fRPOzWi0KZf590SlYqHEdK91LA/ba0Dt0W\n",
       "KIDvnQ2Cz2VqScIjj20K8NGAAKaSXmGXVgPoYQpKqK3YiacMcKSl7Oh2C4NAAYPlRHE6w+pG99Od\n",
       "3LpY4dBYLCNGJDoQ1E23wTyfxr/a3vjiUI/PHUyTMaMnynDn6LQavHUV0lNCBbh58QSrhCoh8vEf\n",
       "aZqZl93uHOf8gNytzkGHhKoCgO8Nmj2owMar/H4ssZbXajCl02UMufy4Vp4lf7BM3Pih+pH0O+S8\n",
       "32ehJ/1rX9E7jyyVM0NONwb53/fNU+6zJOo/mybuBQ+lYlDSkTxdVNW4AH5zuw3EkvF41BFYgrmf\n",
       "HBO0fYgVn4epbF+vjZixvMTiK3ZIvnY4jgj8VQQHLqeb4eQKutMcJpOGEKUVVFcbTQJtxb557sXJ\n",
       "P2DtjLF9y8++gzVWHcCmcS68JCGYdkycYjjTQpunPI/zkPUoBJkuv1sSRv0IYcRpBdkg07LtcNt2\n",
       "oi/7ZD4yijSAk7mQyWY7pgVwxIPA3EiJV9sJzUWvZ4ZaQadUZkP+YE7PmU++jnmM+Hm/sy2m1mcD\n",
       "LKsVITv30ShO/LSaXDSPMArjRBw72rmNzie2FmildON3fbYsHewA07ZoOmyRGf3+tNdJLNvP6hK7\n",
       "Gg0Z9nbXWQlvQdj4zQHtpIcRD+0VCfXoAaVOqeMAgvOd+1IoML0OWFCSbeY+FKyX2fa5wGzq3+Q4\n",
       "E9iVm2jDega8MTSeFrQAULDeNbpKJamJ+WyP4WIOeT16fcQ8LVXYCymLzuGcFHf5rSoeKwz50C8a\n",
       "rFuKmfPovV4ooEE7XPcs4VJBSRpE5C5urrik8sY0rgpzdquDO1flIffI7avfw+AWPwUoM5Ow7mja\n",
       "wHqLxoX2RBNK/MYfEQoHrkDdE27U7ON0m6Fcu2HP6/Fp5FVJABlr+aLeIGEppBmrBmcl6gBRK78L\n",
       "fYozM2BHXmUtbKVO3OX4W/9LsF58yvOczgUlP4uqCGU1f3b96PxOhJWeQnF7o/Kuh0W/CBdQQLMQ\n",
       "VnyqHjjskomN/xLUtdp31+ZcePaqoWSS0isxZEoAYIttviVtqvjvmzfkvp+teL9e5RrNdyrTUmNf\n",
       "Bq9E/F0G4iqpfgYfZyn+eVmjakKNfW0yeqNmJaEH9U03YmsZOUgkCrhBj54cJ0xmCXgreLb5qLJS\n",
       "X1zgZ/9AoPQsD8ufIakeCU0XawExuG7ebJOvkRSyQXSik6jxt0xlBaKg2qYgSNuP0s7i8cyvf2FP\n",
       "IlQt1FdIFtig1nyRKduhAAABrEGf+EUVLDv/AB9OEVABaVxP5dNJFCC7lbD2Avr1mLs/TtBt5KF0\n",
       "Z32665saYxunqwUxMfW4y8XjKgMRRQYFAQDKDIiz1Fhdbk9UrlRNHEdrDhlWGSt3j06X6MSPU8Ml\n",
       "MhCV3xgSLFN3ZGwTVafmpltczFpkWvew3WivYNCoQdk2runAJUMJ21228TQcsYUxELnCwL+2Euv/\n",
       "QZp4ZXw4/Oux90OTtrR1f00IqN6jcwh4LGaMmTuLo0zRuj2LCNyX7Ji1zkiq5nLMFegookVrDSBe\n",
       "l5H6MYw5v2HOxWZ+/9QltMwQeCyqbKd6d+z1HHxYVgCnod5/8vHnmQ01L2EYtJAz/2R6uMZI60lI\n",
       "qwRkraw2X7RaIM91NQC3Ix78g6LnTVbcD1kJWemYpeBFCAWtmy3ITp78J/+clIft1VZeeQdLWb9N\n",
       "X0sOIgSTVfom+CzfXogarpmD+ovius+pAhvHWxXIFS8sk6H2hb1Ki6GF5LiEpsX9xryPKgEnL0N8\n",
       "U1trbTtMy7yEkk+HYHo6NQJpArLaRWNHLJUyG/W3UEnD2uk6vwZzkbLi9id1cg8hAAACEQGeF3RD\n",
       "fwAtcSU09eWp4NPUHmMFVYnOoCux86DQdGAklhzRvPkEJ0ZGqJdQkQxpYldX1ZrzbjcNk6JO88+z\n",
       "/gAF1AIEg5+XloCT5NCV0NMIrSyALUni294M5EUGb+yUepDN2kMyckOYWveqD6yZVwjADIUA2hK/\n",
       "GIzxjcid3HswHebeJIMHDdcyIv0xwZ8Il5bHknj0vyNg8s5vHugX2Qg6fmypGuVpdmhYnjnsil5t\n",
       "10QtehGJr60XFKdYsfbPf0lnXLywXoUU5+7qXjr3ukYOpMamM7s6kfS3tD8wA2pCoRLNwEcYEmUt\n",
       "DYI/xTAd0rrQ8A7UJDAqUEOrHQC7bZjegDH4HG2yOkVzKfNPl9S8Kf2pfdWdu+MztS5RKi9BqIgM\n",
       "0vxjeYtGtHFrIQUxYTrhqdRfdqWUDdam04SVbK/+DbXL1YHcFaSgBkh+zr35LRxGO5OBCj25anyZ\n",
       "/a8hwIY7hkOOlqUCMaQldypoBsd5BPgTuh4WXS9HQcCKgWlR/Ci0Mf8S2lBjQUp7GRiu79Ft1bAr\n",
       "6bLs/h3LPrnGT0Jv7aeyEnIrJ2BdJxBOqVl97fgYyqizDazGEcKxeBcntnSeaKbHYdfLLKFBzotU\n",
       "vgji9Bh8E7vMXbGloLLYTI2t855tqXESb45KPmE305tcIgaJLTpZNa9cZl9kc1gLOOBUpcMCAf03\n",
       "jEoDeHYQxNbVkxYAAAGYAZ4ZakN/AC1p0hrPvTACFPQz1H5NuiOUfr1OwdHpXC0QGw3ZS7kcwo0S\n",
       "MO9H7EZm0z7PglEbLsCwPf2gqZgAIXVC87CUnpFnsdqCJVSCjWikTQRlOgYXEpd7g/dTMMaC+DZu\n",
       "ShpDPns80ZSk4yUkbc4KsVeFseTuvozDrycUJNZWRR0fqg5n+2xDPE8Z7RRK2QaUEdTuFn1PnAnj\n",
       "poKcIn0RVBoVH9YrN+tFMCv6uOGO/54fc/VZBKvXMY9iLQ69m4054xRCDYdMSs8HOXE5G7+hneGM\n",
       "mB3oghm9crRveEzx4L8O0aMW88R9qeWAiT4RU5FvOVLAZzZT6+oxPRJPx53kdXk6RSsbYeLhiFt9\n",
       "nTGP1c1LQa5TeEQf9d8AO5CSIejQylqiJOXgOLa4lEAfHLqYh2C4YDwxqHgiO1RNwejCMYn5NnMK\n",
       "CHt3ynUIyksO45mRQrd1I5pgp15tMJA4ul5midOryrmoBucAfQwn6qljwuY7Xdjeh60HCEQWAhWO\n",
       "y5vpcyC9kWIWZzZmO6p4m/uk+ajwWlVBAAAC7kGaG0moQWyZTAhv//6nhAAVjGQsv+AdC8uF/DoK\n",
       "Mbgq7j8lOWqG0N/EAG274j2c92mO+Nr/zpj2aylzUVejs0/nlnYHokFwx8ufgRngwGn9EzFRdboL\n",
       "o2/v/ZsyZXj1K0HHFtWHDPJhB6cxXtLpjPMYVxEli2l5EfJnaTsw061uOsVyQFNhKZWy07CmIexY\n",
       "zzKfP6gh34cANVgRToqmdaTBRHPtnkTZ3SpLVS1CPR+Aw2CTxRHBvrfg70U7BYlHxmepTRE1MpiX\n",
       "jP0t7QW2NyE9NZ1BbjBbI2FT/qq2MJY3WxOiKrLY4lm2ELS/pJl1uuj04EKZclSn2GnJNpuZdDOb\n",
       "zQPoxNmVwpYmi0gLYaj+mmWE1JVh+t6BUYi/Ni54o+PQgIjXD1LmgiTcVe5Pfopim/lf77mGcaAg\n",
       "DgI9h5ErOdaEG2UM5x1eJaDicQFvHzxO6mZWN2B+WkzoNTlWUTBeQ/JB23bcdwn48dUqwNKkxqVk\n",
       "eLorPo35SiE1OvS63VCyEHKVH9BkcourIH+g6Ve5GLQF4U7JpRdwE5PLcdv6eDs8xCjHJap3im5o\n",
       "+eZULShDLU77SdCYIoEnJ0XUvKkmNtCN4Gj5/c0hV1ewSu058e5PufnkXhuq452H2bXF1i/GtHnR\n",
       "R+CwzDyNvgmK0PtXtGnrgNBzm4s16iYTAWk/Sg0cvDCaUrt+p04vImBhotGdCJgok/u71TQqKidT\n",
       "INDZaSVSO/AQByzKvH4aVh7RecGBTLhDwzmbkUPc5JnfyEhpNYG6a7Biy/rkbopien7Av0NHA6GW\n",
       "VzpwAAQfUb1liRnnhbOnyMzxfdwm36SMhJSis4s8JVPO1q19TbjSG5YV/3Yok0v0CJ4vJ4iiRk6E\n",
       "/jJvD2ObCzqQ+VoMf8lp+4WtuYOxTO4D71Ksd0/kLiAfgRvQlvJ3n1Z5YBErxtZK0vH+FUNBLKnZ\n",
       "08jBXPweQGsy1Y8kMnAKIOsCWfJYz6JvYjMZbSRtIdhF7TDjgAAABeZtb292AAAAbG12aGQAAAAA\n",
       "AAAAAAAAAAAAAAPoAAAXcAABAAABAAAAAAAAAAAAAAAAAQAAAAAAAAAAAAAAAAAAAAEAAAAAAAAA\n",
       "AAAAAAAAAEAAAAAAAAAAAAAAAAAAAAAAAAAAAAAAAAAAAAAAAAACAAAFEHRyYWsAAABcdGtoZAAA\n",
       "AAMAAAAAAAAAAAAAAAEAAAAAAAAXcAAAAAAAAAAAAAAAAAAAAAAAAQAAAAAAAAAAAAAAAAAAAAEA\n",
       "AAAAAAAAAAAAAAAAAEAAAAACAAAAAgAAAAAAACRlZHRzAAAAHGVsc3QAAAAAAAAAAQAAF3AAAAgA\n",
       "AAEAAAAABIhtZGlhAAAAIG1kaGQAAAAAAAAAAAAAAAAAACgAAADwAFXEAAAAAAAtaGRscgAAAAAA\n",
       "AAAAdmlkZQAAAAAAAAAAAAAAAFZpZGVvSGFuZGxlcgAAAAQzbWluZgAAABR2bWhkAAAAAQAAAAAA\n",
       "AAAAAAAAJGRpbmYAAAAcZHJlZgAAAAAAAAABAAAADHVybCAAAAABAAAD83N0YmwAAACzc3RzZAAA\n",
       "AAAAAAABAAAAo2F2YzEAAAAAAAAAAQAAAAAAAAAAAAAAAAAAAAACAAIAAEgAAABIAAAAAAAAAAEA\n",
       "AAAAAAAAAAAAAAAAAAAAAAAAAAAAAAAAAAAAAAAAAAAY//8AAAAxYXZjQwFkABb/4QAYZ2QAFqzZ\n",
       "QIAQaEAAAAMAQAAABQPFi2WAAQAGaOvjyyLAAAAAHHV1aWRraEDyXyRPxbo5pRvPAyPzAAAAAAAA\n",
       "ABhzdHRzAAAAAAAAAAEAAAA8AAAEAAAAABRzdHNzAAAAAAAAAAEAAAABAAAB2GN0dHMAAAAAAAAA\n",
       "OQAAAAEAAAgAAAAAAQAAFAAAAAABAAAIAAAAAAEAAAAAAAAAAQAABAAAAAABAAAMAAAAAAEAAAQA\n",
       "AAAAAQAAFAAAAAABAAAIAAAAAAEAAAAAAAAAAQAABAAAAAABAAAIAAAAAAEAABAAAAAAAgAABAAA\n",
       "AAABAAAMAAAAAAEAAAQAAAAAAQAAFAAAAAABAAAIAAAAAAEAAAAAAAAAAQAABAAAAAABAAAUAAAA\n",
       "AAEAAAgAAAAAAQAAAAAAAAABAAAEAAAAAAEAABQAAAAAAQAACAAAAAABAAAAAAAAAAEAAAQAAAAA\n",
       "AQAAFAAAAAABAAAIAAAAAAEAAAAAAAAAAQAABAAAAAABAAAUAAAAAAEAAAgAAAAAAQAAAAAAAAAB\n",
       "AAAEAAAAAAEAABQAAAAAAQAACAAAAAABAAAAAAAAAAEAAAQAAAAAAQAAEAAAAAACAAAEAAAAAAEA\n",
       "ABQAAAAAAQAACAAAAAABAAAAAAAAAAEAAAQAAAAAAQAAEAAAAAACAAAEAAAAAAEAABQAAAAAAQAA\n",
       "CAAAAAABAAAAAAAAAAEAAAQAAAAAAQAAFAAAAAABAAAIAAAAAAEAAAAAAAAAAQAABAAAAAABAAAI\n",
       "AAAAABxzdHNjAAAAAAAAAAEAAAABAAAAPAAAAAEAAAEEc3RzegAAAAAAAAAAAAAAPAAAGbYAAAqf\n",
       "AAAD6AAAAWQAAAEvAAAE7wAAAfkAAAsVAAABagAAAXkAAAFoAAAEWQAACoYAAAFVAAABjQAADdsA\n",
       "AAFfAAAJ4wAAAToAAAJ7AAAB0AAADKAAAAQQAAABaQAAATwAABIDAAABzgAAAcMAAAFmAAAQZAAA\n",
       "AT4AAAFkAAABDAAAFq8AAAErAAABMQAAAogAAA+RAAABMAAAASEAAAE5AAAL+QAAARwAAAEQAAAS\n",
       "BAAAAXQAAAEZAAABGwAADzcAAAIOAAACLgAACOEAAAGvAAABagAAAW0AAAlEAAABsAAAAhUAAAGc\n",
       "AAAC8gAAABRzdGNvAAAAAAAAAAEAAAAsAAAAYnVkdGEAAABabWV0YQAAAAAAAAAhaGRscgAAAAAA\n",
       "AAAAbWRpcmFwcGwAAAAAAAAAAAAAAAAtaWxzdAAAACWpdG9vAAAAHWRhdGEAAAABAAAAAExhdmY1\n",
       "OC4yOS4xMDA=\n",
       "\">\n",
       "  Your browser does not support the video tag.\n",
       "</video>"
      ],
      "text/plain": [
       "<IPython.core.display.HTML object>"
      ]
     },
     "metadata": {},
     "output_type": "display_data"
    }
   ],
   "source": [
    "# アニメーションの描画\n",
    "fig, ax = plt.subplots(figsize=(4, 4), dpi=128)\n",
    "ax.set(xticks=[], yticks=[])\n",
    "\n",
    "# 各フレームの描画\n",
    "draw = []\n",
    "for i, f in enumerate(frames):\n",
    "    ims = plt.imshow(f)\n",
    "    draw.append([ims])\n",
    "\n",
    "# アニメーションの作成\n",
    "ani = ArtistAnimation(fig, draw, interval=100, blit=True)\n",
    "html = display.HTML(ani.to_html5_video())\n",
    "display.display(html)\n",
    "\n",
    "# Matplotlibのウィンドウを閉じる\n",
    "plt.close()"
   ]
  },
  {
   "cell_type": "markdown",
   "metadata": {
    "editable": true,
    "slideshow": {
     "slide_type": ""
    },
    "tags": []
   },
   "source": [
    "最終的な状態において、黒番、白番がそれぞれ何個のセルを専有しているかは`count`関数により計算できる。"
   ]
  },
  {
   "cell_type": "code",
   "execution_count": null,
   "metadata": {
    "editable": true,
    "slideshow": {
     "slide_type": ""
    },
    "tags": []
   },
   "outputs": [
    {
     "name": "stdout",
     "output_type": "stream",
     "text": [
      "#black: 28\n",
      "#white: 36\n"
     ]
    }
   ],
   "source": [
    "print(\"#black:\", env.count(Player.BLACK))\n",
    "print(\"#white:\", env.count(Player.WHITE))"
   ]
  },
  {
   "cell_type": "markdown",
   "metadata": {
    "editable": true,
    "slideshow": {
     "slide_type": ""
    },
    "tags": []
   },
   "source": [
    "最後に、両者ランダムに着手する場合に1000回対戦すると、どの程度の勝敗になるのかを調べてみる。ランダム対戦には少々時間がかかるため、以下のコードでは、`joblib`を用いて、並列実行により同時に複数の対局を行なっている。"
   ]
  },
  {
   "cell_type": "code",
   "execution_count": null,
   "metadata": {
    "editable": true,
    "slideshow": {
     "slide_type": ""
    },
    "tags": []
   },
   "outputs": [
    {
     "data": {
      "application/vnd.jupyter.widget-view+json": {
       "model_id": "88227d17298d4dfab8bf8222d99660c1",
       "version_major": 2,
       "version_minor": 0
      },
      "text/plain": [
       "  0%|          | 0/1000 [00:00<?, ?it/s]"
      ]
     },
     "metadata": {},
     "output_type": "display_data"
    }
   ],
   "source": [
    "def match():\n",
    "    # ゲームのリセット\n",
    "    env = othello.make()\n",
    "    env.reset()\n",
    "\n",
    "    # エピソード開始\n",
    "    while not env.is_done():\n",
    "        # 有効手の列挙\n",
    "        actions = env.legal_actions()\n",
    "\n",
    "        # 着手可能な手があればランダムに1つを選ぶ\n",
    "        action = np.random.choice(actions)\n",
    "\n",
    "        # 着手による盤の状態の更新\n",
    "        env.update(action)\n",
    "\n",
    "    n_black = env.count(Player.BLACK)\n",
    "    n_white = env.count(Player.WHITE)\n",
    "    return n_black, n_white\n",
    "\n",
    "\n",
    "b_win = 0\n",
    "w_win = 0\n",
    "draw = 0\n",
    "\n",
    "chunksize = 32\n",
    "pbar = tqdm(total=n_episodes)\n",
    "for i in range(0, n_episodes, chunksize):\n",
    "    chunk = min(n_episodes - i, chunksize)\n",
    "    result = joblib.Parallel(n_jobs=n_jobs)(\n",
    "        (joblib.delayed(match)() for _ in range(chunk)),\n",
    "    )\n",
    "\n",
    "    result = np.array(result, dtype=\"int32\")\n",
    "    b_win += np.sum(result[:, 0] > result[:, 1])\n",
    "    w_win += np.sum(result[:, 0] < result[:, 1])\n",
    "    draw += np.sum(result[:, 0] == result[:, 1])\n",
    "    pbar.set_description(f\"B:{b_win:d}, W:{w_win:d}, D:{draw:d}\")\n",
    "    pbar.update(chunk)\n",
    "\n",
    "pbar.close()"
   ]
  },
  {
   "cell_type": "code",
   "execution_count": null,
   "metadata": {
    "editable": true,
    "slideshow": {
     "slide_type": ""
    },
    "tags": [
     "remove-cell"
    ]
   },
   "outputs": [
    {
     "data": {
      "text/plain": [
       "439"
      ]
     },
     "metadata": {
      "scrapbook": {
       "mime_prefix": "",
       "name": "rand_b_win"
      }
     },
     "output_type": "display_data"
    },
    {
     "data": {
      "text/plain": [
       "523"
      ]
     },
     "metadata": {
      "scrapbook": {
       "mime_prefix": "",
       "name": "rand_w_win"
      }
     },
     "output_type": "display_data"
    },
    {
     "data": {
      "text/plain": [
       "38"
      ]
     },
     "metadata": {
      "scrapbook": {
       "mime_prefix": "",
       "name": "rand_draw"
      }
     },
     "output_type": "display_data"
    }
   ],
   "source": [
    "glue(\"rand_b_win\", b_win)\n",
    "glue(\"rand_w_win\", w_win)\n",
    "glue(\"rand_draw\", draw)"
   ]
  },
  {
   "cell_type": "markdown",
   "metadata": {
    "editable": true,
    "slideshow": {
     "slide_type": ""
    },
    "tags": []
   },
   "source": [
    "**対局結果: ランダム vs ランダム**\n",
    "- 黒番勝ち: {glue:}`rand_b_win`\n",
    "- 白番勝ち: {glue:}`rand_w_win`\n",
    "- 引き分け: {glue:}`rand_draw`"
   ]
  },
  {
   "cell_type": "markdown",
   "metadata": {
    "editable": true,
    "slideshow": {
     "slide_type": ""
    },
    "tags": []
   },
   "source": [
    "このようにランダムな着手では当然ながら、勝率はおよそ五分五分になる。ただし、オセロは後手である白番の方が若干有利であると言われており、ランダムに着手した場合には白番の勝率がやや高くなっている。\n",
    "\n",
    "以後は、この着手の方法を改良していき、より高い勝率を目指してみる。以下、利便性のために、ランダムに着手する関数として`move_by_random`を作成しておく。"
   ]
  },
  {
   "cell_type": "code",
   "execution_count": null,
   "metadata": {
    "editable": true,
    "slideshow": {
     "slide_type": ""
    },
    "tags": []
   },
   "outputs": [],
   "source": [
    "def action_by_random(env):\n",
    "    \"\"\"有効手の中からランダムに手を選ぶ\"\"\"\n",
    "    actions = env.legal_actions()\n",
    "    return np.random.choice(actions)"
   ]
  },
  {
   "cell_type": "markdown",
   "metadata": {
    "editable": true,
    "slideshow": {
     "slide_type": ""
    },
    "tags": []
   },
   "source": [
    ":::{admonition} オセロが解けた？\n",
    ":class: note\n",
    "\n",
    "2023年10月に「Othello is Solved」という衝撃的なタイトルの論文が、プレプリント投稿サイトのarXivに公開された。この論文は、オセロゲームが「弱解決」したことを示している論文で、「弱解決」とは両対局者が常に最善の手を指し続けると、結果がどうなるかが解析できたことを示す。\n",
    "\n",
    "人間の体感としては後手の方が(最後にディスクをおけるという意味で)若干有利のように感じるが、この論文によれば、オセロは、**両者が最善手を指し続けると引き分けになる**そうだ。興味のある読者は是非、以下の原著を読んでみてほしい。\n",
    "\n",
    "Othello is Solved: <https://arxiv.org/abs/2310.19387>\n",
    ":::"
   ]
  },
  {
   "cell_type": "markdown",
   "metadata": {
    "editable": true,
    "slideshow": {
     "slide_type": ""
    },
    "tags": []
   },
   "source": [
    "## セル評価値を用いた着手"
   ]
  },
  {
   "cell_type": "markdown",
   "metadata": {
    "editable": true,
    "slideshow": {
     "slide_type": ""
    },
    "tags": []
   },
   "source": [
    "人間(の初心者)がオセロを指すときに最初に覚えることと言えば、角が取れるように着手を調整する、ということだろう。\n",
    "\n",
    "角のセルは一度ディスクを置いてしまえば、それ以降、相手に取られることがなく、また縁の領域にあるディスクを一度に多くひっくり返すこともできるため、角にディスクを置くことができれば有利になることが多い。\n",
    "\n",
    "一方で、角のセルに隣接するセルにディスクを置くと、相手に角を取られる可能性が出てくるので、角に隣接するセルにはできる限りディスクを置かない方が良いことが分かる。\n",
    "\n",
    "このような人間の経験則に従って、各セルにディスクを置くことが、どのくらい得でどのくらい損なのかを表わす評価値を以下のように定義する。"
   ]
  },
  {
   "cell_type": "code",
   "execution_count": null,
   "metadata": {
    "editable": true,
    "slideshow": {
     "slide_type": ""
    },
    "tags": []
   },
   "outputs": [],
   "source": [
    "SCORE_BOARD = np.array(\n",
    "    [\n",
    "        [120, -20, 20, 5, 5, 20, -20, 120],\n",
    "        [-20, -40, -5, -5, -5, -5, -40, -20],\n",
    "        [20, -5, 15, 3, 3, 15, -5, 20],\n",
    "        [5, -5, 3, 0, 0, 3, -5, 5],\n",
    "        [5, -5, 3, 0, 0, 3, -5, 5],\n",
    "        [20, -5, 15, 3, 3, 15, -5, 20],\n",
    "        [-20, -40, -5, -5, -5, -5, -40, -20],\n",
    "        [120, -20, 20, 5, 5, 20, -20, 120],\n",
    "    ],\n",
    "    dtype=\"int32\",\n",
    ")"
   ]
  },
  {
   "cell_type": "code",
   "execution_count": null,
   "metadata": {
    "editable": true,
    "slideshow": {
     "slide_type": ""
    },
    "tags": [
     "remove-input"
    ]
   },
   "outputs": [
    {
     "data": {
      "application/papermill.record/image/png": "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",
      "application/papermill.record/text/plain": "<Figure size 960x720 with 1 Axes>"
     },
     "metadata": {
      "scrapbook": {
       "mime_prefix": "application/papermill.record/",
       "name": "cell_scores"
      }
     },
     "output_type": "display_data"
    }
   ],
   "source": [
    "fig, ax = plt.subplots()\n",
    "\n",
    "ax.set_xticks(np.arange(0, 8))\n",
    "ax.set_yticks(np.arange(0, 8))\n",
    "ax.set_xticklabels(np.arange(1, 9))\n",
    "ax.set_yticklabels(np.arange(1, 9))\n",
    "\n",
    "ax.set_xticks(np.arange(1, 9) - 0.5, minor=True)\n",
    "ax.set_yticks(np.arange(1, 9) - 0.5, minor=True)\n",
    "\n",
    "ax.imshow(SCORE_BOARD, cmap=\"tab20\", interpolation=None)\n",
    "for (i, j), z in np.ndenumerate(SCORE_BOARD):\n",
    "    txt = ax.text(j, i, \"{:d}\".format(z), ha=\"center\", va=\"center\", color=\"k\", fontsize=15)\n",
    "\n",
    "ax.grid(which=\"minor\", color=\"k\", linestyle=\"-\", linewidth=0.5)\n",
    "ax.xaxis.tick_top()\n",
    "\n",
    "glue(\"cell_scores\", fig, display=False)\n",
    "plt.close()"
   ]
  },
  {
   "cell_type": "markdown",
   "metadata": {
    "editable": true,
    "slideshow": {
     "slide_type": ""
    },
    "tags": []
   },
   "source": [
    "```{glue:figure} cell_scores\n",
    ":figwidth: 512px\n",
    ":name: \"オセロ盤のセル評価値\"\n",
    "```"
   ]
  },
  {
   "cell_type": "code",
   "execution_count": null,
   "metadata": {
    "editable": true,
    "slideshow": {
     "slide_type": ""
    },
    "tags": []
   },
   "outputs": [],
   "source": [
    "def action_by_score(env):\n",
    "    \"\"\"セル評価値を用いた着手\"\"\"\n",
    "    actions = env.legal_actions()\n",
    "    best_action = actions[0]\n",
    "    best_score = -np.inf\n",
    "    for action in actions:\n",
    "        if action.is_pass():\n",
    "            continue\n",
    "\n",
    "        score = SCORE_BOARD[action.x, action.y]\n",
    "        if best_score < score:\n",
    "            best_action = action\n",
    "            best_score = score\n",
    "\n",
    "    return best_action"
   ]
  },
  {
   "cell_type": "markdown",
   "metadata": {
    "editable": true,
    "slideshow": {
     "slide_type": ""
    },
    "tags": []
   },
   "source": [
    "このルーチンを用いて、先ほどと同様に{glue:}`n_episodes`回の対戦を行ない、ランダムな着手に比べて、どのくらい勝率が上昇するかを見てみよう。"
   ]
  },
  {
   "cell_type": "code",
   "execution_count": null,
   "metadata": {
    "editable": true,
    "slideshow": {
     "slide_type": ""
    },
    "tags": []
   },
   "outputs": [
    {
     "data": {
      "application/vnd.jupyter.widget-view+json": {
       "model_id": "baed23b8ed5041e380b8d0329cd4b117",
       "version_major": 2,
       "version_minor": 0
      },
      "text/plain": [
       "  0%|          | 0/1000 [00:00<?, ?it/s]"
      ]
     },
     "metadata": {},
     "output_type": "display_data"
    }
   ],
   "source": [
    "def match():\n",
    "    # ゲームのリセット\n",
    "    env = othello.make()\n",
    "    env.reset()\n",
    "\n",
    "    # エピソード開始\n",
    "    while not env.is_done():\n",
    "        # 黒番:\n",
    "        if env.player == Player.BLACK:\n",
    "            # セル評価値が最も高い場所に着手する\n",
    "            action = action_by_score(env)\n",
    "\n",
    "        # 白番:\n",
    "        elif env.player == Player.WHITE:\n",
    "            # 着手可能な手があればランダムに1つを選ぶ\n",
    "            action = action_by_random(env)\n",
    "\n",
    "        # 着手による盤の状態の更新\n",
    "        env.update(action)\n",
    "\n",
    "    n_black = env.count(Player.BLACK)\n",
    "    n_white = env.count(Player.WHITE)\n",
    "    return n_black, n_white\n",
    "\n",
    "\n",
    "b_win = 0\n",
    "w_win = 0\n",
    "draw = 0\n",
    "\n",
    "chunksize = 32\n",
    "pbar = tqdm(total=n_episodes)\n",
    "for i in range(0, n_episodes, chunksize):\n",
    "    chunk = min(n_episodes - i, chunksize)\n",
    "    result = joblib.Parallel(n_jobs=n_jobs)(\n",
    "        (joblib.delayed(match)() for _ in range(chunk)),\n",
    "    )\n",
    "\n",
    "    result = np.array(result, dtype=\"int32\")\n",
    "    b_win += np.sum(result[:, 0] > result[:, 1])\n",
    "    w_win += np.sum(result[:, 0] < result[:, 1])\n",
    "    draw += np.sum(result[:, 0] == result[:, 1])\n",
    "    pbar.set_description(f\"B:{b_win:d}, W:{w_win:d}, D:{draw:d}\")\n",
    "    pbar.update(chunk)\n",
    "pbar.close()"
   ]
  },
  {
   "cell_type": "code",
   "execution_count": null,
   "metadata": {
    "editable": true,
    "slideshow": {
     "slide_type": ""
    },
    "tags": [
     "remove-cell"
    ]
   },
   "outputs": [
    {
     "data": {
      "text/plain": [
       "736"
      ]
     },
     "metadata": {
      "scrapbook": {
       "mime_prefix": "",
       "name": "score_b_win"
      }
     },
     "output_type": "display_data"
    },
    {
     "data": {
      "text/plain": [
       "218"
      ]
     },
     "metadata": {
      "scrapbook": {
       "mime_prefix": "",
       "name": "score_w_win"
      }
     },
     "output_type": "display_data"
    },
    {
     "data": {
      "text/plain": [
       "46"
      ]
     },
     "metadata": {
      "scrapbook": {
       "mime_prefix": "",
       "name": "score_draw"
      }
     },
     "output_type": "display_data"
    }
   ],
   "source": [
    "glue(\"score_b_win\", b_win)\n",
    "glue(\"score_w_win\", w_win)\n",
    "glue(\"score_draw\", draw)"
   ]
  },
  {
   "cell_type": "markdown",
   "metadata": {
    "editable": true,
    "slideshow": {
     "slide_type": ""
    },
    "tags": []
   },
   "source": [
    "**対局結果: セル評価値 vs ランダム**\n",
    "- 黒番勝ち: {glue:}`score_b_win`\n",
    "- 白番勝ち: {glue:}`score_w_win`\n",
    "- 引き分け: {glue:}`score_draw`"
   ]
  },
  {
   "cell_type": "markdown",
   "metadata": {
    "editable": true,
    "slideshow": {
     "slide_type": ""
    },
    "tags": []
   },
   "source": [
    "上記の通り、人間の経験則を導入することでランダムに着手するのと比べて大幅に勝率が上昇していることが分かる。"
   ]
  },
  {
   "cell_type": "markdown",
   "metadata": {
    "editable": true,
    "slideshow": {
     "slide_type": ""
    },
    "tags": []
   },
   "source": [
    "(ssec:minimax)=\n",
    "## ミニマックス探索"
   ]
  },
  {
   "cell_type": "markdown",
   "metadata": {
    "editable": true,
    "slideshow": {
     "slide_type": ""
    },
    "tags": []
   },
   "source": [
    "上記のセル評価値に基づく着手では、今まさに打とうとしている手が、**その時点においてどのくらいの価値を持つのか**だけを考慮していた。\n",
    "\n",
    "しかし、実際には、局面によっては、角に単にセルの評価値が高いディスクに置くよりも、その後、何手か指した後に、より勝ちの高い手が打てるような手も存在するだろう。\n",
    "\n",
    "実際に人間がオセロをプレイするときも、ある程度は「次に相手が何を」してくるかを考えているはずで、その際、**できるだけ自分に得**で**できるだけ相手に損**な手を指すのが良いと考えるだろう。\n",
    "\n",
    "このような考え方に基づいて、手を先読みして着手を探索する手法に**ミニマックス探索**がある (min-max探索ではないので注意)。"
   ]
  },
  {
   "cell_type": "code",
   "execution_count": null,
   "metadata": {
    "editable": true,
    "slideshow": {
     "slide_type": ""
    },
    "tags": []
   },
   "outputs": [],
   "source": [
    "def score_fn(env):\n",
    "    if env.player == Player.BLACK:\n",
    "        return np.sum(env.board * SCORE_BOARD)\n",
    "    else:\n",
    "        return -np.sum(env.board * SCORE_BOARD)\n",
    "\n",
    "\n",
    "def minimax(env, depth):\n",
    "    if depth == 0 or env.is_done():\n",
    "        # ゲームが終了しているか、深さが0に達したら評価値を返す\n",
    "        best_score = score_fn(env)\n",
    "    else:\n",
    "        # 相手にとってのベストスコアを計算\n",
    "        best_score = -np.inf\n",
    "        actions = env.legal_actions()\n",
    "        for action in actions:\n",
    "            env.update(action)\n",
    "            score = minimax(env, depth - 1)\n",
    "            env.undo()\n",
    "            best_score = max(best_score, score)\n",
    "\n",
    "    # 自分にとっては相手のベストスコアは小さい方が良い\n",
    "    return -best_score"
   ]
  },
  {
   "cell_type": "code",
   "execution_count": null,
   "metadata": {
    "editable": true,
    "slideshow": {
     "slide_type": ""
    },
    "tags": []
   },
   "outputs": [],
   "source": [
    "def action_by_minimax(env, depth=2):\n",
    "    actions = env.legal_actions()\n",
    "\n",
    "    scores = np.zeros(len(actions))\n",
    "    for i, action in enumerate(actions):\n",
    "        env.update(action)\n",
    "        scores[i] = minimax(env, depth - 1)\n",
    "        env.undo()\n",
    "\n",
    "    return actions[np.argmax(scores)]"
   ]
  },
  {
   "cell_type": "code",
   "execution_count": null,
   "metadata": {
    "editable": true,
    "slideshow": {
     "slide_type": ""
    },
    "tags": []
   },
   "outputs": [
    {
     "data": {
      "application/vnd.jupyter.widget-view+json": {
       "model_id": "11a867c08756451c9b34ff9fadde2065",
       "version_major": 2,
       "version_minor": 0
      },
      "text/plain": [
       "  0%|          | 0/1000 [00:00<?, ?it/s]"
      ]
     },
     "metadata": {},
     "output_type": "display_data"
    }
   ],
   "source": [
    "def match():\n",
    "    # ゲームのリセット\n",
    "    env = othello.make()\n",
    "    env.reset()\n",
    "\n",
    "    # エピソード開始\n",
    "    while not env.is_done():\n",
    "        # 黒番:\n",
    "        if env.player == Player.BLACK:\n",
    "            # セル評価値が最も高い場所に着手する\n",
    "            action = action_by_minimax(env)\n",
    "\n",
    "        # 白番:\n",
    "        elif env.player == Player.WHITE:\n",
    "            # 着手可能な手があればランダムに1つを選ぶ\n",
    "            action = action_by_random(env)\n",
    "\n",
    "        # 着手による盤の状態の更新\n",
    "        env.update(action)\n",
    "\n",
    "    n_black = env.count(Player.BLACK)\n",
    "    n_white = env.count(Player.WHITE)\n",
    "    return n_black, n_white\n",
    "\n",
    "\n",
    "b_win = 0\n",
    "w_win = 0\n",
    "draw = 0\n",
    "\n",
    "chunksize = 32\n",
    "pbar = tqdm(total=n_episodes)\n",
    "for i in range(0, n_episodes, chunksize):\n",
    "    chunk = min(n_episodes - i, chunksize)\n",
    "    result = joblib.Parallel(n_jobs=n_jobs)(\n",
    "        (joblib.delayed(match)() for _ in range(chunk)),\n",
    "    )\n",
    "\n",
    "    result = np.array(result, dtype=\"int32\")\n",
    "    b_win += np.sum(result[:, 0] > result[:, 1])\n",
    "    w_win += np.sum(result[:, 0] < result[:, 1])\n",
    "    draw += np.sum(result[:, 0] == result[:, 1])\n",
    "    pbar.set_description(f\"B:{b_win:d}, W:{w_win:d}, D:{draw:d}\")\n",
    "    pbar.update(chunk)\n",
    "\n",
    "pbar.close()"
   ]
  },
  {
   "cell_type": "code",
   "execution_count": null,
   "metadata": {
    "editable": true,
    "slideshow": {
     "slide_type": ""
    },
    "tags": [
     "remove-cell"
    ]
   },
   "outputs": [
    {
     "data": {
      "text/plain": [
       "815"
      ]
     },
     "metadata": {
      "scrapbook": {
       "mime_prefix": "",
       "name": "minimax_b_win"
      }
     },
     "output_type": "display_data"
    },
    {
     "data": {
      "text/plain": [
       "148"
      ]
     },
     "metadata": {
      "scrapbook": {
       "mime_prefix": "",
       "name": "minimax_w_win"
      }
     },
     "output_type": "display_data"
    },
    {
     "data": {
      "text/plain": [
       "37"
      ]
     },
     "metadata": {
      "scrapbook": {
       "mime_prefix": "",
       "name": "minimax_draw"
      }
     },
     "output_type": "display_data"
    }
   ],
   "source": [
    "glue(\"minimax_b_win\", b_win)\n",
    "glue(\"minimax_w_win\", w_win)\n",
    "glue(\"minimax_draw\", draw)"
   ]
  },
  {
   "cell_type": "markdown",
   "metadata": {
    "editable": true,
    "slideshow": {
     "slide_type": ""
    },
    "tags": []
   },
   "source": [
    "**対局結果: ミニマックス vs ランダム**\n",
    "- 黒番勝ち: {glue:}`minimax_b_win`\n",
    "- 白番勝ち: {glue:}`minimax_w_win`\n",
    "- 引き分け: {glue:}`minimax_draw`"
   ]
  },
  {
   "cell_type": "markdown",
   "metadata": {
    "editable": true,
    "slideshow": {
     "slide_type": ""
    },
    "tags": []
   },
   "source": [
    "上記の通り、ミニマックス探索で2手先を読むだけで飛躍的に勝率が上昇していることが分かる。\n",
    "\n",
    "ただし、ミニマックス探索は再帰的に手を探索するため、より多くの手を読もうとすると、かなり多くの時間を要する。実際、ミニマックス探索は「本来探索する必要のない手」も探索しているがために、余計に計算を行なっている。"
   ]
  },
  {
   "cell_type": "markdown",
   "metadata": {
    "editable": true,
    "slideshow": {
     "slide_type": ""
    },
    "tags": []
   },
   "source": [
    "ミニマックス探索は、現在の局面から先の手を読むときに、相手も自分自身に取って最善となるように手を検討する。そのため、相手の手の評価値は検討を進めるに従って**相手にとっての価値は上昇していく**一方で、**自分にとっての価値は減少していく**ことが分かる。\n",
    "\n",
    "従って、今得られている価値が最大の手の評価値より、相手の手の探索中に得られる評価値が小さくなった瞬間に、それ以上手を探索する必要がなくなる。このような原理に基づいて探索の枝刈りを行なう手法に**アルファベータ探索**がある。\n",
    "\n",
    "アルファベータ探索は上記の`minimax`関数を少し改良するだけで実装できるので、練習問題として取り組んでみて、探索の効率が上昇することを確認してほしい。"
   ]
  },
  {
   "cell_type": "markdown",
   "metadata": {
    "editable": true,
    "slideshow": {
     "slide_type": ""
    },
    "tags": []
   },
   "source": [
    "(ssec:monte-carlo)=\n",
    "## 原始モンテカルロ探索"
   ]
  },
  {
   "cell_type": "markdown",
   "metadata": {
    "editable": true,
    "slideshow": {
     "slide_type": ""
    },
    "tags": []
   },
   "source": [
    "ここまでに紹介したミニマックス法やアルファベータ法は、現在の状態に対して何らかの評価値が既に与えられている場合には有効であるものの、このような評価値を**どのように決定すれば最適なのか**は実際のところ難しい。\n",
    "\n",
    "特に上記の例では、オセロ盤の状態ではなく、セルに対して評価値を与えているが、実際のオセロにおいて、どのセルにディスクを置けばより勝ちに近づくかは、そのときに既に置かれているディスクに依存するだろう。\n",
    "\n",
    "従って、ここまでのセルの評価値に基づく探索には限界があり、**実際に勝てるのかどうか**に基づいた着手を目指す必要があると分かる。しかし、勝ち負けを知るためにはオセロを終局までプレイしなければならない。では、その過程ではどのような手を指せば良いだろうか。"
   ]
  },
  {
   "cell_type": "markdown",
   "metadata": {
    "editable": true,
    "slideshow": {
     "slide_type": ""
    },
    "tags": []
   },
   "source": [
    "**原始モンテカルロ探索**は、モンテカルロ法、すなわちランダムな着手によって、今の**オセロ盤の状態がどの程度、勝ちやすい、負けやすい状態なのかを近似的に推測しながら着手する手法**である。言い換えれば、どのような手が良いのかは一旦おいておいて、**適当に指しても勝ちやすければ、それが勝ちやすい局面**と見なして着手を決定する。\n",
    "\n",
    "今、とあるオセロの局面を考えたとき、着手できる手は通常複数ある。このような複数の手をランダムに指して、どの手がより勝ちに近づくかを推定するのだが、この問題は、まさに**多腕バンディット問題**と同様の問題であることが分かる。多腕バンディット問題においては、どのスロットアームを回すかを最適化していたが、今回はオセロの有効手に対して同様の操作を行なう。"
   ]
  },
  {
   "cell_type": "markdown",
   "metadata": {
    "editable": true,
    "slideshow": {
     "slide_type": ""
    },
    "tags": []
   },
   "source": [
    "まず、とある局面からランダムにプレイを行なって終局まで進める操作を関数として定義しておく。このような操作を**プレアウト**と呼ぶ。"
   ]
  },
  {
   "cell_type": "code",
   "execution_count": null,
   "metadata": {
    "editable": true,
    "slideshow": {
     "slide_type": ""
    },
    "tags": []
   },
   "outputs": [],
   "source": [
    "def playout(env):\n",
    "    \"\"\"ランダムに着手して終局まで進める\"\"\"\n",
    "    while not env.is_done():\n",
    "        actions = env.legal_actions()\n",
    "        action = random.choice(actions)\n",
    "        env.update(action)"
   ]
  },
  {
   "cell_type": "markdown",
   "metadata": {
    "editable": true,
    "slideshow": {
     "slide_type": ""
    },
    "tags": []
   },
   "source": [
    "この関数を呼び出して、とある局面を終局まで進めたとき、今の手番のプレイヤーが勝ちなら **+1点** の報酬を得ることとする。\n",
    "\n",
    "プレイアウトをするべき手は多腕バンディット問題において、良い性能であったUCB1値を用いて選択する。UCB1値の定義を再掲しておく。"
   ]
  },
  {
   "cell_type": "markdown",
   "metadata": {
    "editable": true,
    "slideshow": {
     "slide_type": ""
    },
    "tags": []
   },
   "source": [
    "$$\n",
    "\\text{UCB1}_i = \\frac{n_{i,{\\rm hit}}}{n_{i,{\\rm play}}} + \\sqrt{\\frac{2 \\log(n_{\\rm total})}{n_{i, {\\rm play}}}}\n",
    "$$"
   ]
  },
  {
   "cell_type": "markdown",
   "metadata": {
    "editable": true,
    "slideshow": {
     "slide_type": ""
    },
    "tags": []
   },
   "source": [
    "この定義は多腕バンディット問題用の表記になっているが、これをオセロの着手に置き換えると、個々の変数は以下のものを指す。\n",
    "\n",
    "- $n_{i, {\\rm hit}}$: $i$番目の候補手を指してプレイアウトしたときの勝利回数\n",
    "- $n_{i, {\\rm play}}$: $i$番目の候補手に対してプレイアウトをした回数\n",
    "- $n_{\\rm total}$: 全ての候補手に対するプレイアウト数の合計\n",
    "\n",
    "以下、UCB1値は定義上、$n_{i, {\\rm play}}$ 即ち、各候補手に対するプレイアウト回数が1回以上ないと計算できないので、UCB1を用いた原始モンテカルロ法においては、\n",
    "\n",
    "1. 各候補手に対して1回ずつプレイアウトを実行\n",
    "1. 以下、UCB1値を計算し、その値が最大の候補手に対してプレイアウトを実行\n",
    "\n",
    "という流れでどの候補手が最も勝ちやすいのかを推測していく。\n",
    "\n",
    "このプレイアウト操作を予め決められた回数 (以下の実装では `n_trials=20` 回) 実行したら、プレイアウトされた回数が最大の手が最適な手であると判断する。プレイアウトされた回数が最大である、ということは、UCB1値を用いた探索において、最も有望な手であるということに留意している。"
   ]
  },
  {
   "cell_type": "code",
   "execution_count": null,
   "metadata": {
    "editable": true,
    "slideshow": {
     "slide_type": ""
    },
    "tags": []
   },
   "outputs": [],
   "source": [
    "def action_by_monte_carlo(env, n_trials=20):\n",
    "    actions = env.legal_actions()\n",
    "    n_wins = [0] * len(actions)\n",
    "    n_checks = [0] * len(actions)\n",
    "    for t in range(n_trials):\n",
    "        # まだ調べていない手があるときはその手を調べる\n",
    "        action_idx = -1\n",
    "        for i, n in enumerate(n_checks):\n",
    "            if n == 0:\n",
    "                action_idx = i\n",
    "                break\n",
    "\n",
    "        # 全ての有効手を最低1回調べたら、UCB1値に基づいて着手\n",
    "        if action_idx < 0:\n",
    "            ucb1_vals = []\n",
    "            for w, n in zip(n_wins, n_checks):\n",
    "                ucb1 = w / n + np.sqrt(2.0 * np.log(t) / n)\n",
    "                ucb1_vals.append(ucb1)\n",
    "            action_idx = np.argmax(ucb1_vals)\n",
    "\n",
    "        # 手を進めてプレイアウトする\n",
    "        env_cpy = env.copy()\n",
    "        env_cpy.update(actions[action_idx])\n",
    "        playout(env_cpy)\n",
    "\n",
    "        # UCB1値計算用のチェック回数と勝利数を更新\n",
    "        n_checks[action_idx] += 1\n",
    "        if env_cpy.is_win(env.player):\n",
    "            n_wins[action_idx] += 1\n",
    "\n",
    "    # プレイアウト回数が最大の手を返す\n",
    "    return actions[np.argmax(n_checks)]"
   ]
  },
  {
   "cell_type": "code",
   "execution_count": null,
   "metadata": {
    "editable": true,
    "slideshow": {
     "slide_type": ""
    },
    "tags": [
     "hide-input"
    ]
   },
   "outputs": [
    {
     "data": {
      "application/vnd.jupyter.widget-view+json": {
       "model_id": "c9d446541bae40d9b6b3ad82d2104ae9",
       "version_major": 2,
       "version_minor": 0
      },
      "text/plain": [
       "  0%|          | 0/1000 [00:00<?, ?it/s]"
      ]
     },
     "metadata": {},
     "output_type": "display_data"
    }
   ],
   "source": [
    "def match():\n",
    "    # ゲームのリセット\n",
    "    env = othello.make()\n",
    "    env.reset()\n",
    "\n",
    "    # エピソード開始\n",
    "    while not env.is_done():\n",
    "        # 黒番: 原始モンテカルロ探索\n",
    "        if env.player == Player.BLACK:\n",
    "            move = action_by_monte_carlo(env, n_trials=20)\n",
    "\n",
    "        # 白番: ランダム\n",
    "        elif env.player == Player.WHITE:\n",
    "            move = action_by_random(env)\n",
    "\n",
    "        # 着手による盤の状態の更新\n",
    "        env.update(move)\n",
    "\n",
    "    n_black = env.count(Player.BLACK)\n",
    "    n_white = env.count(Player.WHITE)\n",
    "    return n_black, n_white\n",
    "\n",
    "\n",
    "b_win = 0\n",
    "w_win = 0\n",
    "draw = 0\n",
    "\n",
    "chunksize = 32\n",
    "pbar = tqdm(total=n_episodes)\n",
    "for i in range(0, n_episodes, chunksize):\n",
    "    chunk = min(n_episodes - i, chunksize)\n",
    "    result = joblib.Parallel(n_jobs=n_jobs)(\n",
    "        (joblib.delayed(match)() for _ in range(chunk)),\n",
    "    )\n",
    "\n",
    "    result = np.array(result, dtype=\"int32\")\n",
    "    b_win += np.sum(result[:, 0] > result[:, 1])\n",
    "    w_win += np.sum(result[:, 0] < result[:, 1])\n",
    "    draw += np.sum(result[:, 0] == result[:, 1])\n",
    "    pbar.set_description(f\"B:{b_win:d}, W:{w_win:d}, D:{draw:d}\")\n",
    "    pbar.update(chunk)\n",
    "\n",
    "pbar.close()"
   ]
  },
  {
   "cell_type": "code",
   "execution_count": null,
   "metadata": {
    "editable": true,
    "slideshow": {
     "slide_type": ""
    },
    "tags": [
     "remove-cell"
    ]
   },
   "outputs": [
    {
     "data": {
      "text/plain": [
       "867"
      ]
     },
     "metadata": {
      "scrapbook": {
       "mime_prefix": "",
       "name": "mc_b_win"
      }
     },
     "output_type": "display_data"
    },
    {
     "data": {
      "text/plain": [
       "123"
      ]
     },
     "metadata": {
      "scrapbook": {
       "mime_prefix": "",
       "name": "mc_w_win"
      }
     },
     "output_type": "display_data"
    },
    {
     "data": {
      "text/plain": [
       "10"
      ]
     },
     "metadata": {
      "scrapbook": {
       "mime_prefix": "",
       "name": "mc_draw"
      }
     },
     "output_type": "display_data"
    }
   ],
   "source": [
    "glue(\"mc_b_win\", b_win)\n",
    "glue(\"mc_w_win\", w_win)\n",
    "glue(\"mc_draw\", draw)"
   ]
  },
  {
   "cell_type": "markdown",
   "metadata": {
    "editable": true,
    "slideshow": {
     "slide_type": ""
    },
    "tags": []
   },
   "source": [
    "**対局結果: 原始モンテカルロ vs ランダム**\n",
    "- 黒番勝ち: {glue:}`mc_b_win`\n",
    "- 白番勝ち: {glue:}`mc_w_win`\n",
    "- 引き分け: {glue:}`mc_draw`"
   ]
  },
  {
   "cell_type": "markdown",
   "metadata": {
    "editable": true,
    "slideshow": {
     "slide_type": ""
    },
    "tags": []
   },
   "source": [
    "このように、セル評価値のような人間の前提知識に頼ることなく、原始モンテカルロ法により、高い勝率が得られていることが分かる。\n",
    "\n",
    "しかし、原始モンテカルロ探索をミニマックス探索と対戦させてみると、まだ、その勝率はミニマックス探索に及ばないことが分かる。人間の事前知識は意外にも侮れない。"
   ]
  },
  {
   "cell_type": "code",
   "execution_count": null,
   "metadata": {
    "editable": true,
    "slideshow": {
     "slide_type": ""
    },
    "tags": [
     "hide-input"
    ]
   },
   "outputs": [
    {
     "data": {
      "application/vnd.jupyter.widget-view+json": {
       "model_id": "029d299fcc714e1593cd8afd69b30cc0",
       "version_major": 2,
       "version_minor": 0
      },
      "text/plain": [
       "  0%|          | 0/1000 [00:00<?, ?it/s]"
      ]
     },
     "metadata": {},
     "output_type": "display_data"
    }
   ],
   "source": [
    "def match():\n",
    "    # ゲームのリセット\n",
    "    env = othello.make()\n",
    "    env.reset()\n",
    "\n",
    "    # エピソード開始\n",
    "    while not env.is_done():\n",
    "        # 黒番:\n",
    "        if env.player == Player.BLACK:\n",
    "            # 原始モンテカルロ探索\n",
    "            move = action_by_monte_carlo(env)\n",
    "        # 白番:\n",
    "        elif env.player == Player.WHITE:\n",
    "            # ミニマックス探索\n",
    "            move = action_by_minimax(env)\n",
    "\n",
    "        # 着手による盤の状態の更新\n",
    "        env.update(move)\n",
    "\n",
    "    n_black = env.count(Player.BLACK)\n",
    "    n_white = env.count(Player.WHITE)\n",
    "    return n_black, n_white\n",
    "\n",
    "\n",
    "b_win = 0\n",
    "w_win = 0\n",
    "draw = 0\n",
    "\n",
    "chunksize = 32\n",
    "pbar = tqdm(total=n_episodes)\n",
    "for i in range(0, n_episodes, chunksize):\n",
    "    chunk = min(n_episodes - i, chunksize)\n",
    "    result = joblib.Parallel(n_jobs=n_jobs)(\n",
    "        (joblib.delayed(match)() for _ in range(chunk)),\n",
    "    )\n",
    "\n",
    "    result = np.array(result, dtype=\"int32\")\n",
    "    b_win += np.sum(result[:, 0] > result[:, 1])\n",
    "    w_win += np.sum(result[:, 0] < result[:, 1])\n",
    "    draw += np.sum(result[:, 0] == result[:, 1])\n",
    "    pbar.set_description(f\"B:{b_win:d}, W:{w_win:d}, D:{draw:d}\")\n",
    "    pbar.update(chunk)\n",
    "pbar.close()"
   ]
  },
  {
   "cell_type": "code",
   "execution_count": null,
   "metadata": {
    "editable": true,
    "slideshow": {
     "slide_type": ""
    },
    "tags": [
     "remove-cell"
    ]
   },
   "outputs": [
    {
     "data": {
      "text/plain": [
       "384"
      ]
     },
     "metadata": {
      "scrapbook": {
       "mime_prefix": "",
       "name": "mc_vs_minimax_b_win"
      }
     },
     "output_type": "display_data"
    },
    {
     "data": {
      "text/plain": [
       "606"
      ]
     },
     "metadata": {
      "scrapbook": {
       "mime_prefix": "",
       "name": "mc_vs_minimax_w_win"
      }
     },
     "output_type": "display_data"
    },
    {
     "data": {
      "text/plain": [
       "10"
      ]
     },
     "metadata": {
      "scrapbook": {
       "mime_prefix": "",
       "name": "mc_vs_minimax_draw"
      }
     },
     "output_type": "display_data"
    }
   ],
   "source": [
    "glue(\"mc_vs_minimax_b_win\", b_win)\n",
    "glue(\"mc_vs_minimax_w_win\", w_win)\n",
    "glue(\"mc_vs_minimax_draw\", draw)"
   ]
  },
  {
   "cell_type": "markdown",
   "metadata": {
    "editable": true,
    "slideshow": {
     "slide_type": ""
    },
    "tags": []
   },
   "source": [
    "**対局結果: 原始モンテカルロ(黒番) vs ミニマックス (白番)**\n",
    "- 黒番勝ち: {glue:}`mc_vs_minimax_b_win`\n",
    "- 白番勝ち: {glue:}`mc_vs_minimax_w_win`\n",
    "- 引き分け: {glue:}`mc_vs_minimax_draw`"
   ]
  },
  {
   "cell_type": "markdown",
   "metadata": {
    "editable": true,
    "slideshow": {
     "slide_type": ""
    },
    "tags": []
   },
   "source": [
    "## モンテカルロ木探索"
   ]
  },
  {
   "cell_type": "markdown",
   "metadata": {
    "editable": true,
    "slideshow": {
     "slide_type": ""
    },
    "tags": []
   },
   "source": [
    "原始モンテカルロの弱点は、**自分の候補手に対してしか有望な手を考えていない**という点にある。原始モンテカルロにおいては、自分が候補手を指したあとは**自分も相手もランダムに着手する**と仮定しているが、実際の対局においては、自分も相手も、より勝ちやすい手を指すのが普通だろう。\n",
    "\n",
    "**モンテカルロ木探索**は、上記の問題を解決するために、自分に対しても相手に対しても原始モンテカルロ同様にUCB1値に基づいて最善手を推定する手法である。\n",
    "\n",
    "ここで「木探索」という用語が出てくるが、モンテカルロ木探索では[ゲーム木](https://ja.wikipedia.org/wiki/%E3%82%B2%E3%83%BC%E3%83%A0%E6%9C%A8)と呼ばれる木構造の中で手を探索する。ゲーム木では「局面を表すノード」が「その局面における候補手を指すことで得られる次局面を表すノード」とツリー状に接続されている。\n",
    "\n",
    "UCB1値を使って候補手の探索を行なう場合、この木構造を特に**UCT** (Upper Confidence Tree)と呼ぶ。"
   ]
  },
  {
   "cell_type": "markdown",
   "metadata": {
    "editable": true,
    "slideshow": {
     "slide_type": ""
    },
    "tags": []
   },
   "source": [
    "以下の`move_by_mcts`関数は、今の局面 `env`に対してUCTの根ノードを作成し、候補手に対応する子ノードを探索するものである。"
   ]
  },
  {
   "cell_type": "code",
   "execution_count": null,
   "metadata": {
    "editable": true,
    "slideshow": {
     "slide_type": ""
    },
    "tags": []
   },
   "outputs": [],
   "source": [
    "def action_by_mcts(env, n_trials=20):\n",
    "    # ノードと直接の子ノードの作成\n",
    "    root_node = UctNode(env)\n",
    "    root_node.expand_child_nodes()\n",
    "\n",
    "    # 評価を繰り返す\n",
    "    for _ in range(n_trials):\n",
    "        root_node.evaluate()\n",
    "\n",
    "    # 最も評価回数の多いノードを選ぶ\n",
    "    n_list = []\n",
    "    for node in root_node.child_nodes:\n",
    "        n_list.append(node.n_check)\n",
    "\n",
    "    actions = env.legal_actions()\n",
    "    return actions[np.argmax(n_list)]"
   ]
  },
  {
   "cell_type": "markdown",
   "metadata": {
    "editable": true,
    "slideshow": {
     "slide_type": ""
    },
    "tags": []
   },
   "source": [
    "具体的な実装は後述するが、まずはおおまかなモンテカルロ木探索のアルゴリズムの流れについて見ていこう。\n",
    "\n",
    "`move_by_mcts`関数の中では、現在の局面 `env`に対応する `root_node`を作成した後、`expand_child_nodes`を呼び出して、候補手に対するUCTのノードを作成している。\n",
    "\n",
    "その後、`root_node`に対して `evaluate`関数を呼び出し、候補手のUCB1値に基づく探索を実施する。最後に、最も評価された回数が多い候補手を最善手であるとして選択する。\n",
    "\n",
    "以上のように子ノードの展開 (`expand_child_nodes`)と子ノードのUCB1値に基づく探索 (`evaluate`)を除けば、大きなアルゴリズムの流れは原始モンテカルロ探索と共通していることを確認してほしい。"
   ]
  },
  {
   "cell_type": "markdown",
   "metadata": {
    "editable": true,
    "slideshow": {
     "slide_type": ""
    },
    "tags": []
   },
   "source": [
    "では、上記の流れを踏まえて、UCTのノードの実装を見ていこう。以下はやや長いコードになるが、全体の実装を掲載した後で、各メソッドに解説を加えていく。"
   ]
  },
  {
   "cell_type": "code",
   "execution_count": null,
   "metadata": {
    "editable": true,
    "slideshow": {
     "slide_type": ""
    },
    "tags": []
   },
   "outputs": [],
   "source": [
    "class UctNode(object):\n",
    "    \"\"\"UCB1値を用いた子ノードの探索を行うノード\"\"\"\n",
    "\n",
    "    # 子ノードを展開するまでのチェック回数\n",
    "    N_VALID_CHECKS = 10\n",
    "\n",
    "    def __init__(self, env):\n",
    "        self.player = env.player\n",
    "        self.env = env.copy()\n",
    "        self.n_check = 0\n",
    "        self.value = 0\n",
    "        self.child_nodes = []\n",
    "\n",
    "    def evaluate(self):\n",
    "        \"\"\"現在の盤に対する最善手を探索し、評価値を算出\"\"\"\n",
    "        if self.env.is_done():\n",
    "            # ゲーム終了なら勝敗に応じて報酬を返す\n",
    "            if self.env.is_win(self.player):\n",
    "                value = 1\n",
    "            elif self.env.is_lose(self.player):\n",
    "                value = -1\n",
    "            else:\n",
    "                value = 0\n",
    "\n",
    "            self.value += value\n",
    "            self.n_check += 1\n",
    "            return value\n",
    "\n",
    "        elif len(self.child_nodes) == 0:\n",
    "            # 評価回数が不十分ならプレイアウトをして報酬を計算\n",
    "            value = self.playout()\n",
    "            self.value += value\n",
    "            self.n_check += 1\n",
    "\n",
    "            # チェック回数が十分になったら子ノードを展開する\n",
    "            if self.n_check >= self.N_VALID_CHECKS:\n",
    "                self.expand_child_nodes()\n",
    "\n",
    "            return value\n",
    "\n",
    "        else:\n",
    "            # 子ノードがあればUCB1値に基づいて相手の手を選択・評価\n",
    "            value = -self.choose_next_action().evaluate()\n",
    "            self.value += value\n",
    "            self.n_check += 1\n",
    "\n",
    "            return value\n",
    "\n",
    "    def playout(self):\n",
    "        \"\"\"ランダムにプレイアウトをして評価値を取得\"\"\"\n",
    "\n",
    "        env = self.env.copy()\n",
    "        while not env.is_done():\n",
    "            actions = env.legal_actions()\n",
    "            action = np.random.choice(actions)\n",
    "            env.update(action)\n",
    "\n",
    "        if env.is_win(self.player):\n",
    "            return 1\n",
    "        elif env.is_lose(self.player):\n",
    "            return -1\n",
    "        else:\n",
    "            return 0\n",
    "\n",
    "    def expand_child_nodes(self):\n",
    "        \"\"\"次の候補手に対応する子ノードを作成する\"\"\"\n",
    "        actions = self.env.legal_actions()\n",
    "        for a in actions:\n",
    "            self.env.update(a)\n",
    "            new_node = UctNode(self.env)\n",
    "            self.child_nodes.append(new_node)\n",
    "            self.env.undo()\n",
    "\n",
    "    def choose_next_action(self):\n",
    "        \"\"\"プレイアウトを実施する候補手の選択\"\"\"\n",
    "        # 評価回数が0回のノードがあったら、それを返す\n",
    "        # (そうしないとUCB1値が計算できない)\n",
    "        for node in self.child_nodes:\n",
    "            if node.n_check == 0:\n",
    "                return node\n",
    "\n",
    "        # 子ノードの総評価回数\n",
    "        t = 0\n",
    "        for node in self.child_nodes:\n",
    "            t += node.n_check\n",
    "\n",
    "        # UCB1値の計算\n",
    "        ucb1_values = []\n",
    "        for node in self.child_nodes:\n",
    "            # 子ノードの評価値は相手の手の評価値なので-1を掛けていることに注意\n",
    "            ucb1 = -node.value / node.n_check + np.sqrt(2.0 * np.log(t) / node.n_check)\n",
    "            ucb1_values.append(ucb1)\n",
    "\n",
    "        return self.child_nodes[np.argmax(ucb1_values)]"
   ]
  },
  {
   "cell_type": "markdown",
   "metadata": {
    "editable": true,
    "slideshow": {
     "slide_type": ""
    },
    "tags": []
   },
   "source": [
    "`UctNode`のコンストラクタである `__init__` では、候補手の探索に必要な諸変数を初期化している。この中で、子ノードの配列は`child_nodes`であり、現在のノードの総評価回数が`n_checks`、子ノードの探索に基づく評価値 (本実装では総勝利回数)を`value`に格納している。"
   ]
  },
  {
   "cell_type": "markdown",
   "metadata": {
    "editable": true,
    "slideshow": {
     "slide_type": ""
    },
    "tags": []
   },
   "source": [
    "`evlauate`関数は、子ノードの探索に基づいて、現在のノードの評価値を算出する関数である。この評価値の探索には、以下の3つのパターンが考えられる。\n",
    "\n",
    "1. 盤の状態が終局に達している → 勝ち負けに基づいて評価値を計算\n",
    "2. プレイアウトによる価値評価回数が不十分 → 現局面からプレイアウトして局面を評価\n",
    "3. プレイアウトによる価値評価回数が十分 → 有望な候補手である可能性が高いので、子ノードを更に探索\n",
    "\n",
    "まずは、盤の状態が終局に達している場合で、これ以上プレイアウトが実行できないので、単純に勝ち負けに基づいて評価値を算出する。\n",
    "\n",
    "終局に達していない場合には、手の探索を行って価値評価を行なうことになるが、ここで、ノードの評価回数に基づいて処理を分ける。今、とある盤の評価回数が一定以上である、ということは、**その盤状態に至る着手がそれなりに有望である**ことを意味している。逆に評価回数が一定以下であるときには、**その盤状態に至る着手が有望かどうか判断しかねる**状況であると言える。\n",
    "\n",
    "子ノードを展開すると、評価しなければならないノード数が増加して、その分だけ他のノードの評価回数が減ってしまうので、できる限り有望な手に対してだけ、その後の局面を評価する方が望ましい。従って、上記の`evaluate`関数では、評価回数が一定以上 (`N_VALID_CHECKS=10`以上)の時だけ、子ノードを作成・探索するようにしている。"
   ]
  },
  {
   "cell_type": "markdown",
   "metadata": {
    "editable": true,
    "slideshow": {
     "slide_type": ""
    },
    "tags": []
   },
   "source": [
    "`playout`関数は原始モンテカルロ探索で用いた同名の関数を改良し、直接勝ち負けに基づいた評価値を返すようにしたものである。"
   ]
  },
  {
   "cell_type": "markdown",
   "metadata": {
    "editable": true,
    "slideshow": {
     "slide_type": ""
    },
    "tags": []
   },
   "source": [
    "`expand_child_nodes`関数は、現在の局面における候補手を列挙して、その手に対応するノードを作成する関数である。この際、次の局面を調べるために`env`の`update`と`undo`がペアで呼び出されていることに注意してほしい。"
   ]
  },
  {
   "cell_type": "markdown",
   "metadata": {
    "editable": true,
    "slideshow": {
     "slide_type": ""
    },
    "tags": []
   },
   "source": [
    "`choose_next_move`関数はUCB1値に基づいて、どの子ノードに対して評価を実施するかを決定する関数である。原始モンテカルロの時と同様、UCB1値は全ての子ノードの評価回数が最低1回はないといけないので、まず全子ノードの評価を実行し、以後はUCB1値に基づいて、どの子ノードを調べるかを決定している。"
   ]
  },
  {
   "cell_type": "markdown",
   "metadata": {
    "editable": true,
    "slideshow": {
     "slide_type": ""
    },
    "tags": []
   },
   "source": [
    "以上が、モンテカルロ木探索の全体像であるが、再帰的な探索など、やや高度な内容を含むので、何度もコードと解説を読み直して理解に努めてみてほしい。"
   ]
  },
  {
   "cell_type": "markdown",
   "metadata": {
    "editable": true,
    "slideshow": {
     "slide_type": ""
    },
    "tags": []
   },
   "source": [
    "---"
   ]
  },
  {
   "cell_type": "markdown",
   "metadata": {
    "editable": true,
    "slideshow": {
     "slide_type": ""
    },
    "tags": []
   },
   "source": [
    "では、このモンテカルロ木探索をミニマックス探索と対戦させて、実力を確かめてみよう。"
   ]
  },
  {
   "cell_type": "code",
   "execution_count": null,
   "metadata": {
    "editable": true,
    "slideshow": {
     "slide_type": ""
    },
    "tags": []
   },
   "outputs": [
    {
     "data": {
      "application/vnd.jupyter.widget-view+json": {
       "model_id": "c711a5deca6845afac5a6d28caa64938",
       "version_major": 2,
       "version_minor": 0
      },
      "text/plain": [
       "  0%|          | 0/1000 [00:00<?, ?it/s]"
      ]
     },
     "metadata": {},
     "output_type": "display_data"
    }
   ],
   "source": [
    "def match():\n",
    "    # ゲームのリセット\n",
    "    env = othello.make()\n",
    "    env.reset()\n",
    "\n",
    "    # エピソード開始\n",
    "    while not env.is_done():\n",
    "        # 黒番:\n",
    "        if env.player == Player.BLACK:\n",
    "            # モンテカルロ木探索\n",
    "            action = action_by_mcts(env, n_trials=20)\n",
    "        # 白番:\n",
    "        if env.player == Player.WHITE:\n",
    "            # ミニマックス探索\n",
    "            action = action_by_minimax(env)\n",
    "\n",
    "        # 着手による盤の状態の更新\n",
    "        env.update(action)\n",
    "\n",
    "    n_black = env.count(Player.BLACK)\n",
    "    n_white = env.count(Player.WHITE)\n",
    "    return n_black, n_white\n",
    "\n",
    "\n",
    "b_win = 0\n",
    "w_win = 0\n",
    "draw = 0\n",
    "\n",
    "chunksize = 32\n",
    "pbar = tqdm(total=n_episodes)\n",
    "for i in range(0, n_episodes, chunksize):\n",
    "    chunk = min(n_episodes - i, chunksize)\n",
    "    result = joblib.Parallel(n_jobs=n_jobs)(\n",
    "        (joblib.delayed(match)() for _ in range(chunk)),\n",
    "    )\n",
    "\n",
    "    result = np.array(result, dtype=\"int32\")\n",
    "    b_win += np.sum(result[:, 0] > result[:, 1])\n",
    "    w_win += np.sum(result[:, 0] < result[:, 1])\n",
    "    draw += np.sum(result[:, 0] == result[:, 1])\n",
    "    pbar.set_description(f\"B:{b_win:d}, W:{w_win:d}, D:{draw:d}\")\n",
    "    pbar.update(chunk)\n",
    "\n",
    "pbar.close()"
   ]
  },
  {
   "cell_type": "code",
   "execution_count": null,
   "metadata": {
    "editable": true,
    "slideshow": {
     "slide_type": ""
    },
    "tags": [
     "remove-cell"
    ]
   },
   "outputs": [
    {
     "data": {
      "text/plain": [
       "509"
      ]
     },
     "metadata": {
      "scrapbook": {
       "mime_prefix": "",
       "name": "mcts_b_win"
      }
     },
     "output_type": "display_data"
    },
    {
     "data": {
      "text/plain": [
       "398"
      ]
     },
     "metadata": {
      "scrapbook": {
       "mime_prefix": "",
       "name": "mcts_w_win"
      }
     },
     "output_type": "display_data"
    },
    {
     "data": {
      "text/plain": [
       "93"
      ]
     },
     "metadata": {
      "scrapbook": {
       "mime_prefix": "",
       "name": "mcts_draw"
      }
     },
     "output_type": "display_data"
    }
   ],
   "source": [
    "glue(\"mcts_b_win\", b_win)\n",
    "glue(\"mcts_w_win\", w_win)\n",
    "glue(\"mcts_draw\", draw)"
   ]
  },
  {
   "cell_type": "markdown",
   "metadata": {
    "editable": true,
    "slideshow": {
     "slide_type": ""
    },
    "tags": []
   },
   "source": [
    "**対局結果: モンテカルロ木探索 (黒番) vs ミニマックス (白番)**\n",
    "- 黒番勝ち: {glue:}`mcts_b_win`\n",
    "- 白番勝ち: {glue:}`mcts_w_win`\n",
    "- 引き分け: {glue:}`mcts_draw`"
   ]
  },
  {
   "cell_type": "markdown",
   "metadata": {
    "editable": true,
    "slideshow": {
     "slide_type": ""
    },
    "tags": []
   },
   "source": [
    "上記の通り、相手の手や、その後に続く自分の手に対してもUCB1値に基づく有望手の推定を行なうことで、ミニマックス法と同程度の強さを実現することができた。上記の例では、1手の探索に用いる手の評価回数を `n_trials=20` としているが、この数を増やすと、着手に時間はかかるようになる分、より勝ちやすい手が選べるようになる。"
   ]
  },
  {
   "cell_type": "markdown",
   "metadata": {
    "editable": true,
    "slideshow": {
     "slide_type": ""
    },
    "tags": []
   },
   "source": [
    "## 練習問題"
   ]
  },
  {
   "cell_type": "markdown",
   "metadata": {
    "editable": true,
    "slideshow": {
     "slide_type": ""
    },
    "tags": []
   },
   "source": [
    "- 本文中に示した`minimax`関数を改良して、アルファベータ探索を実装せよ。\n",
    "- 原始モンテカルロ探索やモンテカルロ木探索において、プレイアウトする手の選択方法をUCB1値でない方法 ($\\varepsilon$-greedy法やソフトマックス探索)に置き換えた時、オセロAIの強さはどの程度変化するか調べよ。"
   ]
  },
  {
   "cell_type": "code",
   "execution_count": null,
   "metadata": {
    "editable": true,
    "slideshow": {
     "slide_type": ""
    },
    "tags": []
   },
   "outputs": [],
   "source": []
  }
 ],
 "metadata": {
  "kernelspec": {
   "display_name": "sdsadvml-kOzjjOMa-py3.10",
   "language": "python",
   "name": "python3"
  },
  "language_info": {
   "codemirror_mode": {
    "name": "ipython",
    "version": 3
   },
   "file_extension": ".py",
   "mimetype": "text/x-python",
   "name": "python",
   "nbconvert_exporter": "python",
   "pygments_lexer": "ipython3",
   "version": "3.10.15"
  }
 },
 "nbformat": 4,
 "nbformat_minor": 4
}

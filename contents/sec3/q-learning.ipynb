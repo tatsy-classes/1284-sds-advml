{
 "cells": [
  {
   "cell_type": "markdown",
   "metadata": {
    "editable": true,
    "slideshow": {
     "slide_type": ""
    },
    "tags": []
   },
   "source": [
    "(sec:q-learning)=\n",
    "# Q学習の基礎"
   ]
  },
  {
   "cell_type": "markdown",
   "metadata": {
    "editable": true,
    "slideshow": {
     "slide_type": ""
    },
    "tags": []
   },
   "source": [
    "ここまでで扱った多腕バンディット問題は、取れる行動の種類が少なく、また、問題の状態が変化しない、すなわち、いつスロットを回しても、各アームの当たり確率は変化しない、という特徴があった。しかし、実際の問題は取れるべき行動の種類が多く(場合によっては連続変数)、また、ある時刻で取った行動により、行動を行う対象の状態が変化するのが一般的である。\n",
    "\n",
    "このような状況において用いられる強化学習の手法に**Q学習**がある。Q学習のQとは**行動価値関数**を表すQ値のQであり、とある**状態**$s$ (stateのs)において取った**行動**$a$ (actionのa)の価値を関数として、$Q(s, a)$のように表す。\n",
    "\n",
    "このようなQ値を学習する方法はQ学習以外にも**SARSA**(state-action-reward-state-action)と呼ばれる方法もあるが、本節ではQ学習に絞って説明する。"
   ]
  },
  {
   "cell_type": "code",
   "execution_count": 81,
   "metadata": {
    "editable": true,
    "slideshow": {
     "slide_type": ""
    },
    "tags": [
     "hide-input"
    ]
   },
   "outputs": [],
   "source": [
    "\"\"\"\n",
    "下準備のコード\n",
    "\"\"\"\n",
    "\n",
    "import random\n",
    "\n",
    "import numpy as np\n",
    "import seaborn as sns\n",
    "import matplotlib\n",
    "import IPython.display as display\n",
    "import matplotlib.pyplot as plt\n",
    "from tqdm.notebook import tqdm\n",
    "from matplotlib.animation import ArtistAnimation\n",
    "\n",
    "try:\n",
    "    from myst_nb import glue\n",
    "except:\n",
    "    glue = lambda _: _\n",
    "\n",
    "# 乱数のシードを固定\n",
    "random.seed(31415)\n",
    "np.random.seed(31415)\n",
    "\n",
    "\n",
    "# グラフの設定\n",
    "matplotlib.rcParams[\"figure.dpi\"] = 150\n",
    "sns.set(style=\"white\", palette=\"colorblind\")"
   ]
  },
  {
   "cell_type": "code",
   "execution_count": null,
   "metadata": {
    "editable": true,
    "slideshow": {
     "slide_type": ""
    },
    "tags": []
   },
   "outputs": [],
   "source": [
    "\"\"\"\n",
    "Google Colab用の準備\n",
    "\"\"\"\n",
    "\n",
    "IN_COLAB = True\n",
    "try:\n",
    "    import google.colab\n",
    "\n",
    "    print(\"You are running the code in Google Colab.\")\n",
    "except:\n",
    "    IN_COLAB = False\n",
    "    print(\"You are running the code in the local computer.\")\n",
    "\n",
    "if IN_COLAB:\n",
    "    # Gymnasiumのインストール\n",
    "    !pip install \"gymnasium[classic-control]\""
   ]
  },
  {
   "cell_type": "markdown",
   "metadata": {
    "editable": true,
    "slideshow": {
     "slide_type": ""
    },
    "tags": []
   },
   "source": [
    "## 背景"
   ]
  },
  {
   "cell_type": "markdown",
   "metadata": {
    "editable": true,
    "slideshow": {
     "slide_type": ""
    },
    "tags": []
   },
   "source": [
    "Q学習で扱う対象は**Markov決定過程**と呼ばれる状態遷移のモデルである。\n",
    "\n",
    "Markov決定過程をかみ砕いて言えば、その時々で取った行動により次の状態が変化するが、それより過去に取った行動がその状態の変化に影響を与えることはない、という性質 (この性質を**Markov性**と呼ぶ)を満たす状態遷移のモデルである。\n",
    "\n",
    "Markov性を満たす状態遷移であれば、とある状態$s$において、行動を$a$取ったときに、別の状態$s'$に移る確率は$s, a$だけに関する事後確率として$P(s' | s, a)$のように書ける。\n",
    "\n",
    "Q学習では、この事後分布$P(s' | s, a)$を用いて、行動評価関数$Q(s, a)$が以下のBellmanの最適性公式を満たすと仮定する。\n",
    "\n",
    "$$\n",
    "Q(s, a) = R(s, a) + \\gamma \\sum_{a' \\in \\mathcal{A}} P(s' | s, a) Q(s', a')\n",
    "$$ (eq:bellman-equation)\n",
    "\n",
    "この式において$\\gamma$は**割引因子** (discount factor)と呼ばれる値で、$0 < \\gamma < 1$であり、$R(s, a)$は状態$s$において行動$a$を取ったときに即座に得られる報酬を表す。\n",
    "\n",
    "{eq}`eq:bellman-equation`は、**最適な行動価値関数が、その時、即座に得られる報酬$R(s, a)$と未来の行動から得られる報酬に一定の減衰を加えたものの和として表せる**ことを示している。\n",
    "\n",
    "一方、多くの状態遷移のモデルでは、状態遷移は確率的なものではなく、行動$a$の結果として**一意に次の状態が決まる**ことが多い。そこで$P(s' | s, a) = 1$と仮定する。さらに、仮に理想的なQ関数が求まっているのであれば、$s'$において行動価値が最大になる行動$a'$をQ関数から決定できるので、$a'$は行動価値が最大になるものであると仮定する。\n",
    "\n",
    "これら2つの仮定により、{eq}`eq:bellman-equation`は、以下の形で書き直せる。\n",
    "\n",
    "$$\n",
    "Q(s, a) = R(s, a) + \\gamma \\max_{a' \\in \\mathcal{A}} Q(s', a')\n",
    "$$ (eq:bellman-equation-2)\n",
    "\n",
    "Q学習は、{eq}`eq:bellman-equation-2`を満たすような$Q(s, a)$を強化学習の枠組みによって求めるものである。"
   ]
  },
  {
   "cell_type": "markdown",
   "metadata": {},
   "source": [
    "## アルゴリズム"
   ]
  },
  {
   "cell_type": "markdown",
   "metadata": {},
   "source": [
    "Q学習は、実際の環境において、適当な行動を取ったときに得られる報酬と状態遷移から、{eq}`eq:bellman-equation-2`の両辺の差が小さくなるように$Q(s, a)$の値を更新する。\n",
    "\n",
    "典型的なQ学習の実装では、$s$と$a$を離散化して、$Q(s, a)$を二次元配列として扱う。このような離散化されたQ関数を**Qテーブル**と呼ぶ。\n",
    "\n",
    "Qテーブルの更新は現在の$Q(s, a)$の値 (学習途中は必ずしも{eq}`eq:bellman-equation-2`を満たしていないことに注意)を{eq}`eq:bellman-equation-2`の右辺に近づくように更新する。\n",
    "\n",
    "具体的には、学習率$0 < \\alpha < 1$を用いて、以下の式で$Q(s, a)$を更新する。\n",
    "\n",
    "$$\n",
    "Q_{\\rm new}(s, a) = (1 - \\alpha) Q(s, a) + \\alpha \\left[ R(s, a) + \\gamma \\max_{a'} Q(s', a') \\right]\n",
    "$$\n",
    "\n",
    "また、この式は以下の形で書き直すことができる。\n",
    "\n",
    "$$\n",
    "Q_{\\rm new}(s, a) = Q(s,a ) + \\alpha \\left[ R(s, a) + \\gamma \\max_{a'} Q(s', a') - Q(s, a) \\right]\n",
    "$$ (eq:q-update)\n",
    "\n",
    "{eq}`eq:q-update`の右辺の\n",
    "\n",
    "$$\n",
    "R(s, a) + \\gamma \\max_{a'} Q(s', a') - Q(s, a)\n",
    "$$\n",
    "\n",
    "は、**TD誤差** (temporal difference error)と呼ばれ、Q学習はこのTD誤差を最小化する問題であると言い換えることができる。"
   ]
  },
  {
   "cell_type": "markdown",
   "metadata": {
    "editable": true,
    "slideshow": {
     "slide_type": ""
    },
    "tags": []
   },
   "source": [
    "## 倒立振子のバランシング"
   ]
  },
  {
   "cell_type": "markdown",
   "metadata": {
    "editable": true,
    "slideshow": {
     "slide_type": ""
    },
    "tags": []
   },
   "source": [
    "Q学習を実際に試すために、比較的単純な倒立振子のバランスを取るゲームについて考える。倒立振子のシミュレータは[Gymnasium](https://gymnasium.farama.org/)というライブラリ(旧名: OpenAI Gym)から簡単に使用することができる。\n",
    "\n",
    "モジュール`gymnasium`をインポート後 (`gym`とエイリアスをつける)、`gym.make`関数を用いてゲーム環境`env`を作成してみる。\n",
    "\n",
    "`gym.make`関数に倒立振子のゲーム環境である`CartPole-v1`を指定し、`render_mode`パラメータに`rbg_array`を指定する。\n",
    "\n",
    "このように`render_mode`を指定しておくと、`env.render`関数によって画面の情報をNumPyの配列として得ることができるので、Matplotlibを用いて、初期状態を描画してみる。"
   ]
  },
  {
   "cell_type": "code",
   "execution_count": 2,
   "metadata": {
    "editable": true,
    "slideshow": {
     "slide_type": ""
    },
    "tags": []
   },
   "outputs": [],
   "source": [
    "import gymnasium as gym\n",
    "\n",
    "# ゲーム環境の作成\n",
    "env = gym.make(\"CartPole-v1\", render_mode=\"rgb_array\")\n",
    "\n",
    "# ゲーム環境のリセット\n",
    "obsrv = env.reset(seed=31415)\n",
    "\n",
    "# 現在の状態をRGB画像として取得する\n",
    "img = env.render()"
   ]
  },
  {
   "cell_type": "code",
   "execution_count": 3,
   "metadata": {
    "editable": true,
    "slideshow": {
     "slide_type": ""
    },
    "tags": [
     "hide-input"
    ]
   },
   "outputs": [
    {
     "data": {
      "image/png": "[encoded data removed]",
      "text/plain": [
       "<Figure size 960x720 with 1 Axes>"
      ]
     },
     "metadata": {},
     "output_type": "display_data"
    }
   ],
   "source": [
    "fig, ax = plt.subplots()\n",
    "ax.imshow(img)\n",
    "ax.set(xticks=[], yticks=[])\n",
    "plt.show()"
   ]
  },
  {
   "cell_type": "markdown",
   "metadata": {
    "editable": true,
    "slideshow": {
     "slide_type": ""
    },
    "tags": []
   },
   "source": [
    "このように、CartPoleは台車 (cart)の上に倒立振子 (pole)が取り付けられたものを制御して、できる限り長い時間、振子が倒れないようにバランスを取るゲームである。"
   ]
  },
  {
   "cell_type": "markdown",
   "metadata": {
    "editable": true,
    "slideshow": {
     "slide_type": ""
    },
    "tags": []
   },
   "source": [
    "倒立振子は、その状態を表すいくつかのパラメータを持っており、それが`reset`関数の戻り値として取得される`obsrv`の中に格納されている。\n",
    "\n",
    "`obsrv`は`tuple`型の変数になっていて、CartPole環境の場合には**第1要素に状態を表す変数が入っている**。"
   ]
  },
  {
   "cell_type": "code",
   "execution_count": 4,
   "metadata": {
    "editable": true,
    "slideshow": {
     "slide_type": ""
    },
    "tags": []
   },
   "outputs": [
    {
     "name": "stdout",
     "output_type": "stream",
     "text": [
      "[-3.1067048e-05 -3.8479745e-02  3.6217723e-02  3.3740070e-02]\n"
     ]
    }
   ],
   "source": [
    "# 現在の状態変数を確認\n",
    "print(obsrv[0])"
   ]
  },
  {
   "cell_type": "markdown",
   "metadata": {
    "editable": true,
    "slideshow": {
     "slide_type": ""
    },
    "tags": []
   },
   "source": [
    "CartPole環境の場合は、4つの浮動小数が格納されており、先頭から、\n",
    "- 台車の水平位置\n",
    "- 台車の速度\n",
    "- 振子の角度\n",
    "- 振子の角速度\n",
    "をそれぞれ表している。\n",
    "\n",
    "また、それぞれの値が取る範囲は以下のようになっている [[参考URL]](https://gymnasium.farama.org/environments/classic_control/cart_pole/)。\n",
    "\n",
    "|Num|Observation|Min|Max|\n",
    "|---|---|---|---|\n",
    "| 0 | 台車の位置 | -4.8 | +4.8 |\n",
    "| 1 | 台車の速度 | -Inf | +Inf |\n",
    "| 2 | 振子の角度 | -24° | +24° |\n",
    "| 3 | 振子の角速度 | -Inf | +Inf |"
   ]
  },
  {
   "cell_type": "markdown",
   "metadata": {
    "editable": true,
    "slideshow": {
     "slide_type": ""
    },
    "tags": []
   },
   "source": [
    "この値は、`env`の`observation_space`フィールドで確認することができる。\n",
    "\n",
    "CartPole環境の場合には`observation_space`は`Box`という型で表されていて、`low`、`high`というフィールドにパラメータの最小値、最大値が格納されている。"
   ]
  },
  {
   "cell_type": "code",
   "execution_count": 5,
   "metadata": {
    "editable": true,
    "slideshow": {
     "slide_type": ""
    },
    "tags": []
   },
   "outputs": [
    {
     "name": "stdout",
     "output_type": "stream",
     "text": [
      "Lower bound: [-4.8000002e+00 -3.4028235e+38 -4.1887903e-01 -3.4028235e+38]\n",
      "Upper bound: [4.8000002e+00 3.4028235e+38 4.1887903e-01 3.4028235e+38]\n"
     ]
    }
   ],
   "source": [
    "print(\"Lower bound:\", env.observation_space.low)\n",
    "print(\"Upper bound:\", env.observation_space.high)"
   ]
  },
  {
   "cell_type": "markdown",
   "metadata": {
    "editable": true,
    "slideshow": {
     "slide_type": ""
    },
    "tags": []
   },
   "source": [
    "Gyminasiumのゲーム環境には、この他にも多数の関数が用意されており、それを強化学習に用いることができる。\n",
    "\n",
    "まずは、その挙動を理解するために、ランダムに行動を選んだ場合にどのような動きになるのかを確認してみよう。\n",
    "\n",
    "ランダムな行動選択には、`env.action_space.sample()`を使うことができる。CartPole環境の場合には`env.action_space.n`に格納されているとおり、取り得る行動は **0: 左に移動**, **1: 右に移動** の2つだけなので、`sample`関数はこのうちの一方をランダムに返してくる。"
   ]
  },
  {
   "cell_type": "code",
   "execution_count": 6,
   "metadata": {
    "editable": true,
    "slideshow": {
     "slide_type": ""
    },
    "tags": []
   },
   "outputs": [
    {
     "name": "stdout",
     "output_type": "stream",
     "text": [
      "1\n",
      "1\n",
      "1\n",
      "1\n",
      "0\n"
     ]
    }
   ],
   "source": [
    "# ランダムに5回行動選択をしてみる\n",
    "for i in range(5):\n",
    "    print(env.action_space.sample())"
   ]
  },
  {
   "cell_type": "markdown",
   "metadata": {
    "editable": true,
    "slideshow": {
     "slide_type": ""
    },
    "tags": []
   },
   "source": [
    "選んだ行動をとって状態を更新するには`env.step`関数を用いる。`step`関数の引数に行動を表す整数を与えることで状態が更新される。\n",
    "\n",
    "`step`関数もまた`reset`関数と同様に`tuple`型の変数を返してくる。ここには`reset`関数の時よりも多くの情報が含まれていて、\n",
    "\n",
    "- **第1要素:** 現在の状態を表すパラメータ (上記の`obsrv`と同様)\n",
    "- **第3要素:** 行動により直接得られた報酬\n",
    "- **第4要素:** エピソードが終了したかどうか (ゲームオーバーになったかどうか)\n",
    "- **第2要素:** 行動を表すパラメータが範囲外に外れたかどうか (今回は使用しない)\n",
    "- **第5要素:** その他の追加情報 (今回は使用しない)\n",
    "\n",
    "のような構成となっている。"
   ]
  },
  {
   "cell_type": "code",
   "execution_count": 7,
   "metadata": {
    "editable": true,
    "slideshow": {
     "slide_type": ""
    },
    "tags": []
   },
   "outputs": [
    {
     "name": "stdout",
     "output_type": "stream",
     "text": [
      "Observation: [-0.00080066 -0.23410185  0.03689252  0.3376265 ]\n",
      "Reward: 1.0\n",
      "Finished?: False\n"
     ]
    }
   ],
   "source": [
    "obsrv, reward, done, _, _ = env.step(0)\n",
    "print(\"Observation:\", obsrv)\n",
    "print(\"Reward:\", reward)\n",
    "print(\"Finished?:\", done)"
   ]
  },
  {
   "cell_type": "markdown",
   "metadata": {},
   "source": [
    "### ランダムな行動選択"
   ]
  },
  {
   "cell_type": "markdown",
   "metadata": {
    "editable": true,
    "slideshow": {
     "slide_type": ""
    },
    "tags": []
   },
   "source": [
    "これらを用いてランダムに行動選択をし、その時々の状態を画像として格納する。"
   ]
  },
  {
   "cell_type": "code",
   "execution_count": 8,
   "metadata": {
    "editable": true,
    "slideshow": {
     "slide_type": ""
    },
    "tags": []
   },
   "outputs": [],
   "source": [
    "# ゲーム環境のリセット\n",
    "obsrv, _ = env.reset()\n",
    "frames = []\n",
    "\n",
    "# ゲームループ\n",
    "while True:\n",
    "    # 現在の画面を画像として保存\n",
    "    img = env.render()\n",
    "    frames.append(img)\n",
    "\n",
    "    # ランダムに行動選択\n",
    "    a = env.action_space.sample()\n",
    "\n",
    "    # 状態を更新する\n",
    "    obsrv, reward, done, _, _ = env.step(a)\n",
    "\n",
    "    # もしゲームが終了していたらループを抜ける\n",
    "    if done:\n",
    "        break"
   ]
  },
  {
   "cell_type": "code",
   "execution_count": 9,
   "metadata": {
    "editable": true,
    "slideshow": {
     "slide_type": ""
    },
    "tags": [
     "hide-input"
    ]
   },
   "outputs": [
    {
     "data": {
      "text/html": [
       "<video width=\"640\" height=\"480\" controls autoplay loop>\n",
       "  <source type=\"video/mp4\" src=\"data:video/mp4;base64,AAAAHGZ0eXBNNFYgAAACAGlzb21pc28yYXZjMQAAAAhmcmVlAAAP+21kYXQAAAKhBgX//53cRem9\n",
       "5tlIt5Ys2CDZI+7veDI2NCAtIGNvcmUgMTYwIC0gSC4yNjQvTVBFRy00IEFWQyBjb2RlYyAtIENv\n",
       "cHlsZWZ0IDIwMDMtMjAyMCAtIGh0dHA6Ly93d3cudmlkZW9sYW4ub3JnL3gyNjQuaHRtbCAtIG9w\n",
       "dGlvbnM6IGNhYmFjPTEgcmVmPTMgZGVibG9jaz0xOjA6MCBhbmFseXNlPTB4MzoweDExMyBtZT1o\n",
       "ZXggc3VibWU9NyBwc3k9MSBwc3lfcmQ9MS4wMDowLjAwIG1peGVkX3JlZj0xIG1lX3JhbmdlPTE2\n",
       "IGNocm9tYV9tZT0xIHRyZWxsaXM9MSA4eDhkY3Q9MSBjcW09MCBkZWFkem9uZT0yMSwxMSBmYXN0\n",
       "X3Bza2lwPTEgY2hyb21hX3FwX29mZnNldD0tMiB0aHJlYWRzPTE1IGxvb2thaGVhZF90aHJlYWRz\n",
       "PTIgc2xpY2VkX3RocmVhZHM9MCBucj0wIGRlY2ltYXRlPTEgaW50ZXJsYWNlZD0wIGJsdXJheV9j\n",
       "b21wYXQ9MCBjb25zdHJhaW5lZF9pbnRyYT0wIGJmcmFtZXM9MyBiX3B5cmFtaWQ9MiBiX2FkYXB0\n",
       "PTEgYl9iaWFzPTAgZGlyZWN0PTEgd2VpZ2h0Yj0xIG9wZW5fZ29wPTAgd2VpZ2h0cD0yIGtleWlu\n",
       "dD0yNTAga2V5aW50X21pbj0xMCBzY2VuZWN1dD00MCBpbnRyYV9yZWZyZXNoPTAgcmNfbG9va2Fo\n",
       "ZWFkPTQwIHJjPWNyZiBtYnRyZWU9MSBjcmY9MjMuMCBxY29tcD0wLjYwIHFwbWluPTAgcXBtYXg9\n",
       "NjkgcXBzdGVwPTQgaXBfcmF0aW89MS40MCBhcT0xOjEuMDAAgAAABG5liIQAO//+906/AptFl2oD\n",
       "klcK9yHrOuLcX/hC+FSuAAADAAADAAADADB2N9dUvGtnWaAAAAvYAjYN4Pvgdr3AGLJk5PgFGAy/\n",
       "gtWxg9J0hZnEwy8/Jwn69Zdp6mN7oKcOiAriBWrmsZuqASrbt2FiQq4YT2wS4odq79AYZQ1mQXua\n",
       "DE7T5MHyBAFPw0Ejg1knBYbX2vvunE63KbKi183hv3PenpgMqcykK2fRD/x3CE7sY4nBgpvEd/2S\n",
       "/Z7GEBOulLugtqcqqKLfdhHlyi+X0PF2i1Q+fRimtpzmuJlJGtvBTqglWPbW2moisdqy1y4P9OmG\n",
       "ZI1i9DALYETiJx7DAALNMDWk62t6bMpbyNhDr4g/YWt19iuMbMMJSxx/rYM9+vLIVap0KwiewylW\n",
       "WcYqSC0KONkS8UOSkmbRPTN2/76dnlDSf6XB8ROTTC1gF7rBxPpZyaL1pxJCGOSverXXunAAAAMA\n",
       "G1vH09lSmgI0ypjxLzNZda5USS0HgbzNo8WrHoxqnDa/J1x4B5zoPiLlaTqlmoQTCFCTkqhKSA5v\n",
       "2/isBgqUzoXS7j1VWcSf4s6jvSIRPBhsrgg+7Q8dVUTTN64gbj5/Zcwtca1iKpScNFEzCAKGdPil\n",
       "zTabiE45B0okVtmyNmMUojz2mYt5CJ847ne1U6qReSX0BGSxCZNa3pImfzOmLucxyySrWiF7K4Fx\n",
       "9uU5P811tFg0k2d9LRxPlmAVEQEmrL+iM2bWb3CA47I5eCHp0QDQnVfK7B4z93b9QkAxqql8D6Zf\n",
       "IdgdDqBBbJ4B+7IAAAMAA66yv+UKbgAAAwDNwGeh5gAAAwAALJpK25a/2QA8gdYwsy86bNZDgOJ6\n",
       "OGfetBofwkCCWfiLmnMv/rj5zB72wTKS65jZd90pAABhlOsCs2L7BTHLolY5XCOQ8qTtFxOXRGEg\n",
       "muEAcpJal6z8txu05BM3XNCbkfjXr9cbflLcelnY1AGcwgJV5N3+mgE4MZmokchQPh9l9jd/06Cg\n",
       "G/aZ7fGwALav9EQ6cjYOBp/Z/efSIfXKlxHuNWG+gT2r/UffGwwezFdYltX+LhGYO5ipUztmXofH\n",
       "wPQ9PZy3m00Ld+vzlsr4rrGkGCVOoZA9HiO8JSvE1s5kWPGUOLKW+vFWGJdSrwv0gxD0Vw0XUXjk\n",
       "ZI6tY1Q/TxO88+wg6K+2cKX77qv+GPSYTJot5XF8ljAXXIrM2t24ebqdS9uAiOrNTvOqejci073i\n",
       "4HUhws75hAQybZ4AnpAbZGh2PiRHmg7rlOH3/gIlFmOuPm2mhzvRSfa2S3DA/Z4MhwOMiYhbL8Hd\n",
       "9ClwWcRXABrpf0QfhpEsmWpzsufQTUeY3O1FHvwOKj33NGc8sdlkeTPgdVrReObxgSPXgw8lXKAz\n",
       "NABWrCTAY5b6zRMaEKZe0mF8LGkgeAjfmKGQ31bDYrAlVkaE41X1GcZADukAABqJ5WMyqWwJs+Ty\n",
       "TfvXuMps3YKylGM1iI7YCBU/No3DwjRCkwAjkAAAAwAANGEAAAF5QZokbEO//qmWAASBckwBEqBK\n",
       "59mYjjnS4YPp4R7tI61eFm18B/r3hvU9cBWzRAWgI0q4mhaAYgDbd69ocgzO3StrLA6klQIc1s5c\n",
       "Izyns2vM+lW5T0RnTS1Kulfu1xS5nVvirAKYvfpSlQrFSgwMViXk8Ps/kfQH+ISI17jiB/EUT2wD\n",
       "LSNN8ssQ0YE87+v2O7e8djRhXSCz/yKQSrCIIUF3lJhyjZu/tb3rZEe2z7qcHK9DdcHqoIkozECF\n",
       "uWEGTV76H8IR6ryljorVVylthTQz/sPhhc+LYv3bHFlyVeeg1dlwBr0MARQTTE6nHiol6W1rG0Y+\n",
       "t5001RFVexkzPgOSQT73PsfSKD0qv6BFMgQcQBefrQYTk5PSUSnBdBxuTr79wjlSv+TUIQAB/WJ3\n",
       "3PWs9dIbdNRZy4U2rL0z08qZ/EjqowtKio0HAU1we8uIpPCl6glFIxxvELCHreIkvupq6z/Y+2L7\n",
       "i4S54GR9Lgs5bxJNrr5GiEAAAACbQZ5CeId/AAJAItmNAB728yxtaOI/W5Dry/K+7EtC1JRSVFFj\n",
       "drcG71tA0l8m5xck05nKjhj4msM+zjBUmg1s0Vb1Q2tUpeAwSgUxMnZSFNo/RUPld1eqEceIBPo9\n",
       "swfo89ACIPX+93yMWfHjMSRoaqThnfK6Dmgs+TQen499JPW+Fualj1OoiAQLdIXoUJle9V4qgCwa\n",
       "O8RUYEEAAABiAZ5hdEN/AAM32JIAE019+ZpH0IS/rYwpd6FWb3CmxjgZNx+oPgrNCn7aFdLO5yUN\n",
       "kLGi/4aIcWJehUXjan0ojLOcUW9Y4LDK2fqBNnjCEnzTUsrmQYOF3ZvZMmwCSgIoATcAAACWAZ5j\n",
       "akN/AAM3Rpw5ABq2Pjv3VyGEqLT42TLd7PstWyPDqOYAxsG77uoLG0FsP5XO1X9aSxiGlBmvcEw6\n",
       "NqJFq8ICuYR89cNHldDYljeGX3UKEMWmfZgFBvjZSYAGRSQ8tEQMH05VsXdzmwlb4vnnAfVSyQfS\n",
       "0eefop/l/5xbjnqgfFDE0Xo7Lq0OxsbD9z0R7N5Y1GpBAAABXEGaaEmoQWiZTAh3//6plgAEgm/M\n",
       "aAEj8VOSie31wx7OrDaDFgcja38qAn+T6Lpy9MgjvOWHu6exLG8w8PUDHUL77H7X9R02dVKo6PU5\n",
       "wk5EEj74YUciT8yyCm8Qfr1OLGebFJbNYg+Z/1OndKoYe6/5MeKNHfDxXk1lFR3lZnY++gI88Kpb\n",
       "Uv9P8EZ1AAJ7s8Dinv97dZKjiTSrDZf7BYRQNvqUgVmSYA6yzLY5PFR5pau60hbtk/TnISad0QYX\n",
       "m+VaANt72QeY5O7cT77BjjWXEnxXVz+xGjQsvXVoSn/8Cjjj3UGRftW/wilCJamDHAzO94Dq/Fos\n",
       "bpkKTYjpDuZcBNVnRONKRtYp94tXpvLxySgovngSUrHHAdLe71PKfcZ4Tpw/FlSs98vO3NE5Cwtq\n",
       "WLLmwuahOvO+DAO9M6qVSMitxdwNc2jAXHAqxnUcFtEk5ZMoi5yEdKD5gQAAAONBnoZFESw7/wAC\n",
       "OmiWxAA1XqmRAUWNWEyVEr69wEqumiqFN2Nv8PkR3iBm9HkwnDRqzs4lehKVNd64J67udmwPEFVm\n",
       "qaYGOYVAAsTL2gSQoP67Mk3UgAlo/QxzY7ke72Jz2+PJJcQQ00ZdpRduhWsoKNuz/cBkcS6knv3B\n",
       "Vu6jX2hIJvMJmGdUU+vQb5wKR1fiOyiXl3615t/9Oat7QpVktSVPkaBAv63ndKWJ/u8AfumVfbOK\n",
       "Fy0tRPkINxx8Wt2XDmgK2KF8C1Oih1mhqvcCmL71jrLeCQmJtbs9tglDtQQHzQAAAJIBnqV0Q38A\n",
       "AzeWG9wAgZH9yqz35crSUY0FAjPIs5SyHlm0/4JvNFKIauR6oWziRlzEhhC1PKckB7/TxZ2xq4me\n",
       "C4XhwwpS0DxvjXL9HqWGPiApNB2S6cZSSkCVdq19KlSOIlyORI5zyVstKpsSnO9Lt5NWDD8po0Vi\n",
       "LFow5wPUy/PvRrm9vzlMc83C8ze4SqkTMQAAAJ4BnqdqQ38AAzgFuQAhOhuMeoAZRUgo2VTeyv/J\n",
       "AYIK6mgYlKpW3xxdSCb+xPf2Q8lk/VC6YEZPXz84v3Y+pdh8BCAB/LyzXRUPk3vk1K36E3GOh163\n",
       "tAa4AwfKEoLfX/UdvqS3sWKsap9FDySbgAJkx64dsCm34zhRUxyBcasEyDrj836CQl/i1lpAc/gX\n",
       "KRzlRhagypyHwoSMpCyJmAAAARFBmqtJqEFsmUwIb//+p4QACOqHOQAgaoK2WC2uZm8j4I9EVRdH\n",
       "QEdK5fKIRe5NVKNDtIKdpG07w6tnTZZ0/5nMhgW4jtaAEcny/QqMzbZLy21b/f+KqW8z+yb/r7XE\n",
       "DiZqgfME6u3L1DtAwG+Z2COD8lVW505cwy+H18BlFwpv7fgO9oi09X1lnbmMnPXXO/j5IlzENKH9\n",
       "oO4xoc8vvZt8s+T2vlZLTcHjJhAfTBX9BimlqAUosVSsO0uW7fkd0pHtoZOAyxk4Wxom3GDTHjtW\n",
       "6odGSpOSLYwRcyQdz4B4wSCFyFlGrgrMxywBnnNwH3OnrDQ3L84mXlOKeU50EiKaEvF0YKSoLuy9\n",
       "O6kpbGIMsEAAAACqQZ7JRRUsN/8AAzgAuHEgA+f+7uJPOInfBq+9+N6oG2vnnxiVJF6IgCCqTNnW\n",
       "sStRiNXzrxv0/9fbGRlLwY9wcZgzL2u6e9BXKWYiZaveAo/8kFhvQC/uEVIxApOkUbkYncvvUFN/\n",
       "f1wKQHYf4WRtF7GWyXoQkXOzdVJXmNzhcBPak8ZzQfI0ggsUEJM6i5mupWRn7atRoIYwyQq6lGaE\n",
       "1q6tE0kUBrQkYEEAAAB6AZ7qakN/AAMbPJP5cALTU2vnAbAIjeTIP54JIevMDN4+NboNrG2gADXJ\n",
       "Sc59HQ3Acu7UThJBL3LN/17q4U2D4ce3/CDwq9URW5v+JOrpTqmxwzP4rDSTKLlCkHnZlH5TFZvC\n",
       "p/MmwWIbeOmlrjuCFFNO9mL+49Y+FVAAAAO2bW9vdgAAAGxtdmhkAAAAAAAAAAAAAAAAAAAD6AAA\n",
       "BLAAAQAAAQAAAAAAAAAAAAAAAAEAAAAAAAAAAAAAAAAAAAABAAAAAAAAAAAAAAAAAABAAAAAAAAA\n",
       "AAAAAAAAAAAAAAAAAAAAAAAAAAAAAAAAAgAAAuB0cmFrAAAAXHRraGQAAAADAAAAAAAAAAAAAAAB\n",
       "AAAAAAAABLAAAAAAAAAAAAAAAAAAAAAAAAEAAAAAAAAAAAAAAAAAAAABAAAAAAAAAAAAAAAAAABA\n",
       "AAAAAoAAAAHgAAAAAAAkZWR0cwAAABxlbHN0AAAAAAAAAAEAAASwAAAIAAABAAAAAAJYbWRpYQAA\n",
       "ACBtZGhkAAAAAAAAAAAAAAAAAAAoAAAAMABVxAAAAAAALWhkbHIAAAAAAAAAAHZpZGUAAAAAAAAA\n",
       "AAAAAABWaWRlb0hhbmRsZXIAAAACA21pbmYAAAAUdm1oZAAAAAEAAAAAAAAAAAAAACRkaW5mAAAA\n",
       "HGRyZWYAAAAAAAAAAQAAAAx1cmwgAAAAAQAAAcNzdGJsAAAAs3N0c2QAAAAAAAAAAQAAAKNhdmMx\n",
       "AAAAAAAAAAEAAAAAAAAAAAAAAAAAAAAAAoAB4ABIAAAASAAAAAAAAAABAAAAAAAAAAAAAAAAAAAA\n",
       "AAAAAAAAAAAAAAAAAAAAAAAAGP//AAAAMWF2Y0MBZAAW/+EAGGdkABas2UCgPaEAAAMAAQAAAwAU\n",
       "DxYtlgEABmjr48siwAAAABx1dWlka2hA8l8kT8W6OaUbzwMj8wAAAAAAAAAYc3R0cwAAAAAAAAAB\n",
       "AAAADAAABAAAAAAUc3RzcwAAAAAAAAABAAAAAQAAAGhjdHRzAAAAAAAAAAsAAAABAAAIAAAAAAEA\n",
       "ABQAAAAAAQAACAAAAAABAAAAAAAAAAEAAAQAAAAAAQAAFAAAAAABAAAIAAAAAAEAAAAAAAAAAQAA\n",
       "BAAAAAABAAAQAAAAAAIAAAQAAAAAHHN0c2MAAAAAAAAAAQAAAAEAAAAMAAAAAQAAAERzdHN6AAAA\n",
       "AAAAAAAAAAAMAAAHFwAAAX0AAACfAAAAZgAAAJoAAAFgAAAA5wAAAJYAAACiAAABFQAAAK4AAAB+\n",
       "AAAAFHN0Y28AAAAAAAAAAQAAACwAAABidWR0YQAAAFptZXRhAAAAAAAAACFoZGxyAAAAAAAAAABt\n",
       "ZGlyYXBwbAAAAAAAAAAAAAAAAC1pbHN0AAAAJal0b28AAAAdZGF0YQAAAAEAAAAATGF2ZjU4LjI5\n",
       "LjEwMA==\n",
       "\">\n",
       "  Your browser does not support the video tag.\n",
       "</video>"
      ],
      "text/plain": [
       "<IPython.core.display.HTML object>"
      ]
     },
     "metadata": {},
     "output_type": "display_data"
    }
   ],
   "source": [
    "# アニメーションの描画\n",
    "fig, ax = plt.subplots(dpi=100)\n",
    "ax.set(xticks=[], yticks=[])\n",
    "\n",
    "# 各フレームの描画\n",
    "draw = []\n",
    "for i, f in enumerate(frames):\n",
    "    ims = plt.imshow(f)\n",
    "    txt = plt.text(20, 30, f\"frame #{i+1:d}\")\n",
    "    draw.append([ims, txt])\n",
    "\n",
    "# アニメーションの作成\n",
    "ani = ArtistAnimation(fig, draw, interval=100, blit=True)\n",
    "html = display.HTML(ani.to_html5_video())\n",
    "display.display(html)\n",
    "\n",
    "# Matplotlibのウィンドウを閉じる\n",
    "plt.close()"
   ]
  },
  {
   "cell_type": "markdown",
   "metadata": {
    "editable": true,
    "slideshow": {
     "slide_type": ""
    },
    "tags": []
   },
   "source": [
    "このようにランダムに行動した場合には、途中で棒の傾きが一定以上になってしまい、エピソードが終了していることが分かる。以下では、Q学習によって行動評価関数を最適化し、より長い時間、倒立状態を保てるようにしてみよう。"
   ]
  },
  {
   "cell_type": "markdown",
   "metadata": {
    "editable": true,
    "slideshow": {
     "slide_type": ""
    },
    "tags": []
   },
   "source": [
    "### Q学習による行動選択"
   ]
  },
  {
   "cell_type": "markdown",
   "metadata": {
    "editable": true,
    "slideshow": {
     "slide_type": ""
    },
    "tags": []
   },
   "source": [
    "まずはQテーブルを作成するために、4種類のパラメータを離散化しておこう。以下の例では、**速度と各速度の範囲を適当に狭めておき、その上で各パラメータの取り得る範囲を8分割する**"
   ]
  },
  {
   "cell_type": "code",
   "execution_count": 69,
   "metadata": {
    "editable": true,
    "slideshow": {
     "slide_type": ""
    },
    "tags": []
   },
   "outputs": [],
   "source": [
    "N_INPUTS = env.observation_space.shape[0]\n",
    "N_ACTIONS = env.action_space.n\n",
    "N_DIGITS = 8\n",
    "\n",
    "lower = env.observation_space.low\n",
    "upper = env.observation_space.high\n",
    "lower[1], upper[1] = -5.0, 5.0  # 速度の範囲を修正\n",
    "lower[3], upper[3] = -0.5 * np.pi, 0.5 * np.pi  # 角速度の範囲を修正"
   ]
  },
  {
   "cell_type": "markdown",
   "metadata": {
    "editable": true,
    "slideshow": {
     "slide_type": ""
    },
    "tags": []
   },
   "source": [
    "今回の倒立振子の例ではパラメータ4つを8分割しているので、取り得る離散状態の組み合わせは$8^4 = 4096$通りである。取り得る行動は左に行くか、右に行くかの2種類であるので、結局、Qテーブルのサイズは$4096 \\times 2$となる。"
   ]
  },
  {
   "cell_type": "code",
   "execution_count": 35,
   "metadata": {
    "editable": true,
    "slideshow": {
     "slide_type": ""
    },
    "tags": []
   },
   "outputs": [],
   "source": [
    "# Q値テーブルの初期化 (乱数による初期化)\n",
    "q_table = np.random.random(size=(N_DIGITS**N_INPUTS, env.action_space.n))"
   ]
  },
  {
   "cell_type": "markdown",
   "metadata": {
    "editable": true,
    "slideshow": {
     "slide_type": ""
    },
    "tags": []
   },
   "source": [
    "8分割されたパラメータの範囲を求めるには`np.linspace`関数が使える。この関数はこれまで第1, 第2引数にスカラー値を入力して使ってきたが、サイズが同じであれば配列を指定することもできる。"
   ]
  },
  {
   "cell_type": "code",
   "execution_count": 62,
   "metadata": {
    "editable": true,
    "slideshow": {
     "slide_type": ""
    },
    "tags": []
   },
   "outputs": [
    {
     "name": "stdout",
     "output_type": "stream",
     "text": [
      "[[-4.8        -3.4285717  -2.057143   -0.68571424  0.68571424  2.0571427\n",
      "   3.4285717   4.8       ]\n",
      " [-5.         -3.5714285  -2.142857   -0.71428585  0.71428585  2.1428576\n",
      "   3.5714283   5.        ]\n",
      " [-0.41887903 -0.2991993  -0.17951958 -0.05983984  0.05983987  0.1795196\n",
      "   0.29919934  0.41887903]\n",
      " [-1.5707964  -1.1219974  -0.67319846 -0.22439945  0.22439945  0.67319834\n",
      "   1.1219975   1.5707964 ]]\n"
     ]
    }
   ],
   "source": [
    "bins = np.transpose(np.linspace(lower, upper, N_DIGITS))\n",
    "print(bins)"
   ]
  },
  {
   "cell_type": "markdown",
   "metadata": {
    "editable": true,
    "slideshow": {
     "slide_type": ""
    },
    "tags": []
   },
   "source": [
    "今、とある状態変数が与えられた時に、それが4096個の離散状態のどれに対応するのかを定めておく必要がある。\n",
    "\n",
    "これには、4つあるパラメータのそれぞれが8個の範囲のどれに入るのかを求めて、その値を元に状態を表わす整数を計算する必要がある。\n",
    "\n",
    "各パラメータが8つの範囲のどれに属するかを求めるには`np.digitize`関数が使える。4つのパラメータのそれぞれについて、リスト内包表記によって所属する範囲のインデックスを求めるとすれば、以下のようなコードになる。"
   ]
  },
  {
   "cell_type": "code",
   "execution_count": 63,
   "metadata": {
    "editable": true,
    "slideshow": {
     "slide_type": ""
    },
    "tags": []
   },
   "outputs": [
    {
     "name": "stdout",
     "output_type": "stream",
     "text": [
      "[4, 4, 4, 4]\n"
     ]
    }
   ],
   "source": [
    "obsrv, _ = env.reset()\n",
    "digits = [np.digitize(o, b) for o, b in zip(obsrv, bins)]\n",
    "print(digits)"
   ]
  },
  {
   "cell_type": "markdown",
   "metadata": {
    "editable": true,
    "slideshow": {
     "slide_type": ""
    },
    "tags": []
   },
   "source": [
    "このように`digits`変数にはパラメータと同数で、0-7の整数が与えられる。ということは、この数字を8進数であると考えて、10進数表記に直せば、各離散状態に対して重複のない整数のインデックスを付与することができる。\n",
    "\n",
    "このような計算は、単純には以下のようなfor文を用いたコードで実現できる。"
   ]
  },
  {
   "cell_type": "code",
   "execution_count": 64,
   "metadata": {
    "editable": true,
    "slideshow": {
     "slide_type": ""
    },
    "tags": []
   },
   "outputs": [
    {
     "name": "stdout",
     "output_type": "stream",
     "text": [
      "2340\n"
     ]
    }
   ],
   "source": [
    "index = 0\n",
    "for n in digits:\n",
    "    index = index * N_DIGITS + n\n",
    "print(index)"
   ]
  },
  {
   "cell_type": "markdown",
   "metadata": {
    "editable": true,
    "slideshow": {
     "slide_type": ""
    },
    "tags": []
   },
   "source": [
    "もう少しPythonらしい書き方にするのであれば、`functools.reduce`関数を用いて以下のように書くこともできる。"
   ]
  },
  {
   "cell_type": "code",
   "execution_count": 70,
   "metadata": {
    "editable": true,
    "slideshow": {
     "slide_type": ""
    },
    "tags": []
   },
   "outputs": [
    {
     "name": "stdout",
     "output_type": "stream",
     "text": [
      "2340\n"
     ]
    }
   ],
   "source": [
    "from functools import reduce\n",
    "\n",
    "index = reduce(lambda a, b: a * N_DIGITS + b, digits)\n",
    "print(index)"
   ]
  },
  {
   "cell_type": "markdown",
   "metadata": {
    "editable": true,
    "slideshow": {
     "slide_type": ""
    },
    "tags": []
   },
   "source": [
    "これを踏まえて、状態を表わすインデックスを計算するコードを関数化しておく。"
   ]
  },
  {
   "cell_type": "code",
   "execution_count": 72,
   "metadata": {
    "editable": true,
    "slideshow": {
     "slide_type": ""
    },
    "tags": []
   },
   "outputs": [],
   "source": [
    "def to_state_index(obsrv, bins):\n",
    "    digits = [np.digitize(o, b) for o, b in zip(obsrv, bins)]\n",
    "    return reduce(lambda a, b: a * N_DIGITS + b, digits)"
   ]
  },
  {
   "cell_type": "markdown",
   "metadata": {
    "editable": true,
    "slideshow": {
     "slide_type": ""
    },
    "tags": []
   },
   "source": [
    "### $\\varepsilon$-greedy法によるQテーブルの更新"
   ]
  },
  {
   "cell_type": "markdown",
   "metadata": {
    "editable": true,
    "slideshow": {
     "slide_type": ""
    },
    "tags": []
   },
   "source": [
    "ここまでで下準備が整ったので、前回[強化学習の基礎](sec:reinforcement-learning)の節で紹介した$\\varepsilon$-greedy法を用いてQ学習を実行してみる。\n",
    "\n",
    "Q学習においては、とある状態$s$において**何らかの方策**によって行動$a$を決定し、行動後の状態$s'$を得る。その後、$s$, $a$, $s'$の組に基づき、{eq}`eq:q-update`に従ってQテーブルを更新する。\n",
    "\n",
    "この際、行動$a$を決定する際に用いる方策に、$\\varepsilon$-greedy法の他、前節で紹介した手法が使える。"
   ]
  },
  {
   "cell_type": "markdown",
   "metadata": {
    "editable": true,
    "slideshow": {
     "slide_type": ""
    },
    "tags": []
   },
   "source": [
    "Q学習で$\\varepsilon$-greedy法を用いる場合、多腕バンディット問題の時と同様、適当な$0 < \\varepsilon < 1$を決めておき、$\\varepsilon$の確率でランダムな行動を、$1-\\varepsilon$の確率でQテーブルに基づいた最適な行動を取れば良い。"
   ]
  },
  {
   "cell_type": "code",
   "execution_count": 73,
   "metadata": {
    "editable": true,
    "slideshow": {
     "slide_type": ""
    },
    "tags": []
   },
   "outputs": [],
   "source": [
    "# ランダムに行動する\n",
    "a = env.action_space.sample()\n",
    "obsrv, reward, done, _, _ = env.step(a)"
   ]
  },
  {
   "cell_type": "code",
   "execution_count": 43,
   "metadata": {
    "editable": true,
    "slideshow": {
     "slide_type": ""
    },
    "tags": []
   },
   "outputs": [],
   "source": [
    "# 一番価値が高く見積もられている行動をとる\n",
    "s0 = to_state_index(obsrv, bins)\n",
    "a = np.argmax(q_table[s0, :])\n",
    "s1 = env.step(a)"
   ]
  },
  {
   "cell_type": "markdown",
   "metadata": {
    "editable": true,
    "slideshow": {
     "slide_type": ""
    },
    "tags": []
   },
   "source": [
    "今回は、以下のハイパーパラメータを用いてQ学習を行なう。"
   ]
  },
  {
   "cell_type": "code",
   "execution_count": 76,
   "metadata": {
    "editable": true,
    "slideshow": {
     "slide_type": ""
    },
    "tags": []
   },
   "outputs": [],
   "source": [
    "# Q学習のハイパーパラメータ\n",
    "alpha = 0.1\n",
    "gamma = 0.99\n",
    "n_episodes = 10000"
   ]
  },
  {
   "cell_type": "markdown",
   "metadata": {
    "editable": true,
    "slideshow": {
     "slide_type": ""
    },
    "tags": []
   },
   "source": [
    "また、多腕バンディット問題の時と同様に$\\varepsilon$の値はエピソードが進むごとに徐々に小さい値になるようにスケジューリングしておく。\n",
    "\n",
    "以下が、$\\varepsilon$-greedy法によるQ学習のコードの一例である。"
   ]
  },
  {
   "cell_type": "code",
   "execution_count": 77,
   "metadata": {
    "editable": true,
    "slideshow": {
     "slide_type": ""
    },
    "tags": []
   },
   "outputs": [
    {
     "data": {
      "application/vnd.jupyter.widget-view+json": {
       "model_id": "e1b12b0839484932b9fcb09777c07ed5",
       "version_major": 2,
       "version_minor": 0
      },
      "text/plain": [
       "  0%|          | 0/10000 [00:00<?, ?it/s]"
      ]
     },
     "metadata": {},
     "output_type": "display_data"
    }
   ],
   "source": [
    "e0 = 0.3\n",
    "e1 = 0.001\n",
    "e_scale = np.exp((np.log(e1) - np.log(e0)) / (n_episodes - 1))\n",
    "epsilon = e0\n",
    "\n",
    "# Q値テーブルの初期化\n",
    "q_table = np.random.random(size=(N_DIGITS**N_INPUTS, env.action_space.n))\n",
    "\n",
    "for epi in tqdm(range(n_episodes)):\n",
    "    # ゲーム環境のリセット\n",
    "    obsrv, _ = env.reset()\n",
    "\n",
    "    # エピソード開始\n",
    "    while True:\n",
    "        # 現在の状態に対応する行番号を計算\n",
    "        s0 = to_state_index(obsrv, bins)\n",
    "\n",
    "        # ε-greedy法による行動選択\n",
    "        if np.random.uniform(0.0, 1.0) < epsilon:\n",
    "            a = env.action_space.sample()\n",
    "        else:\n",
    "            a = np.argmax(q_table[s0, :])\n",
    "\n",
    "        # 状態の更新\n",
    "        obsrv, reward, done, _, _ = env.step(a)\n",
    "\n",
    "        # 新たな状態に対する行番号を計算\n",
    "        s1 = to_state_index(obsrv, bins)\n",
    "\n",
    "        # Qテーブルの更新\n",
    "        q0 = q_table[s0, a]\n",
    "        best_q1 = np.max(q_table[s1, :])\n",
    "        q_table[s0, a] = (1.0 - alpha) * q0 + alpha * (reward + gamma * best_q1)\n",
    "\n",
    "        if done:\n",
    "            break\n",
    "\n",
    "    # epsilonの更新\n",
    "    epsilon *= e_scale"
   ]
  },
  {
   "cell_type": "markdown",
   "metadata": {
    "editable": true,
    "slideshow": {
     "slide_type": ""
    },
    "tags": []
   },
   "source": [
    "学習が終了したら、実行フェーズにおいては、常にQテーブルに基づいて最適な行動を取ることとする。\n",
    "\n",
    "状態の画像を保存しつつ、学習結果に基づいて行動をするコードは以下の通りである。"
   ]
  },
  {
   "cell_type": "code",
   "execution_count": 78,
   "metadata": {
    "editable": true,
    "slideshow": {
     "slide_type": ""
    },
    "tags": []
   },
   "outputs": [],
   "source": [
    "frames = []\n",
    "obsrv, _ = env.reset()\n",
    "while True:\n",
    "    img = env.render()\n",
    "    frames.append(img)\n",
    "\n",
    "    # 最もQ値の高い行動を選択\n",
    "    s0 = to_state_index(obsrv, bins)\n",
    "    a = np.argmax(q_table[s0, :])\n",
    "\n",
    "    obsrv, reward, done, _, _ = env.step(a)\n",
    "    if done:\n",
    "        break"
   ]
  },
  {
   "cell_type": "code",
   "execution_count": 79,
   "metadata": {
    "editable": true,
    "slideshow": {
     "slide_type": ""
    },
    "tags": [
     "hide-input"
    ]
   },
   "outputs": [
    {
     "data": {
      "text/html": [
       "<video width=\"640\" height=\"480\" controls autoplay loop>\n",
       "  <source type=\"video/mp4\" src=\"data:video/mp4;base64,AAAAHGZ0eXBNNFYgAAACAGlzb21pc28yYXZjMQAAAAhmcmVlAAB+hW1kYXQAAAKhBgX//53cRem9\n",
       "5tlIt5Ys2CDZI+7veDI2NCAtIGNvcmUgMTYwIC0gSC4yNjQvTVBFRy00IEFWQyBjb2RlYyAtIENv\n",
       "cHlsZWZ0IDIwMDMtMjAyMCAtIGh0dHA6Ly93d3cudmlkZW9sYW4ub3JnL3gyNjQuaHRtbCAtIG9w\n",
       "dGlvbnM6IGNhYmFjPTEgcmVmPTMgZGVibG9jaz0xOjA6MCBhbmFseXNlPTB4MzoweDExMyBtZT1o\n",
       "ZXggc3VibWU9NyBwc3k9MSBwc3lfcmQ9MS4wMDowLjAwIG1peGVkX3JlZj0xIG1lX3JhbmdlPTE2\n",
       "IGNocm9tYV9tZT0xIHRyZWxsaXM9MSA4eDhkY3Q9MSBjcW09MCBkZWFkem9uZT0yMSwxMSBmYXN0\n",
       "X3Bza2lwPTEgY2hyb21hX3FwX29mZnNldD0tMiB0aHJlYWRzPTE1IGxvb2thaGVhZF90aHJlYWRz\n",
       "PTIgc2xpY2VkX3RocmVhZHM9MCBucj0wIGRlY2ltYXRlPTEgaW50ZXJsYWNlZD0wIGJsdXJheV9j\n",
       "b21wYXQ9MCBjb25zdHJhaW5lZF9pbnRyYT0wIGJmcmFtZXM9MyBiX3B5cmFtaWQ9MiBiX2FkYXB0\n",
       "PTEgYl9iaWFzPTAgZGlyZWN0PTEgd2VpZ2h0Yj0xIG9wZW5fZ29wPTAgd2VpZ2h0cD0yIGtleWlu\n",
       "dD0yNTAga2V5aW50X21pbj0xMCBzY2VuZWN1dD00MCBpbnRyYV9yZWZyZXNoPTAgcmNfbG9va2Fo\n",
       "ZWFkPTQwIHJjPWNyZiBtYnRyZWU9MSBjcmY9MjMuMCBxY29tcD0wLjYwIHFwbWluPTAgcXBtYXg9\n",
       "NjkgcXBzdGVwPTQgaXBfcmF0aW89MS40MCBhcT0xOjEuMDAAgAAABE1liIQAEf/+94gfMstp+TrX\n",
       "chHnrS6tH1DuRnFepL3+IAAAAwAAAwAAZUDfKVB/eXDc4AAABPAAuoSNBf4LV/iA/V75VsqkoGQl\n",
       "oiI8yCMn4FoEVAFEChC/vlw6cM2CzttwDUiLkkuNMl/eHlN29x6AkHymSMX8xQk1rUVTSMwmCnYg\n",
       "z48kEzMJxcjmQhNfy3v6g3vZ8W7ggnXk9WdRxfYFGOCodj4+CHRVTT6b+XvlOBBfL38QGHJkVEdu\n",
       "SB6Z74bkSGKYwYMasPig4l2JbjC5B8fLiIbggPQuPrKzVNqArlTgFUer3L2tmpI/jyBbBM/aWuTS\n",
       "s4brYbkyVER/GdDdVvOZVPq/jFKb4Op9lXCiM03ly6zoQteUzjlS6leD4VuOLKMA0+BJ1yIbMmpf\n",
       "B3qHJyrDZF9k7orXcEM8yUwzhPWGxlRIpRTC/FTeKMjfB1Q1Djv/6c9rOnbSIc7xuV3rQDZcr++5\n",
       "0SA5i+kQycYGdMrOT1uPBwezMAAIIymB59w+/Ckzm8X/mAIgQ/eDicnW0Yus7bc2+GthP+Ebi6VE\n",
       "VgEYXVYQ3DoUpgdJVhuXk2c49mbGRUtDuLge1F6QEVbTDVTKBFM5fD5x/IMzebKrMRDlr67lLK6d\n",
       "31AJsCK+7oa3mJBmFxUgGVmX34zGvKSkx0GC7BCgT+ovzlxhVVvGT0yBfX9t6wVYGy7jNbI2Fi2D\n",
       "fWnrfpIeUCSwe2i0dPv7zromEY1x0GL3xJwcZAyBTpJMvqwNXzUTNJKaU+TN5Koe85FLkwksYUZT\n",
       "VDq6XAYw8GOPpXrmpKPUJeidzzdlrP872sL0J3tcBiWRP1bNm5DyvWPQoCeLBSl/KYAAqER9MhMb\n",
       "AAAE6HYEWEeEqHUJ0Wly+Ug8uXTOLOuCzS4j9kQdh1lVTm0qhJG2RsOsR/V92NDwneVqc/tA8CqX\n",
       "YwgrX4a/rt8MlJVbQOCAQEhWMqxEUeANNFwr/yvVUBLkBpYCMCRCa1y8l9w0Vpmtn9NVEWLwk4FJ\n",
       "OP+a0WxfrJZA8vLq18H/kUqcBkbDjopCtPOgNwH2Fl6YqLrtLS0NK1pxx2HaeekHbgJ01qRkKPMv\n",
       "By2Xf2DRfsPEyhO+HYECOGTf+yucCye2WP9prvyUbD5J81q+mzSBuTtUIC+HJYnXuTXOIm0MxDuh\n",
       "w/CCOFImB9KRrM/7w0WJV4gDNiVRpHpxACMZBAQfvc21nIrRx4gMkUoDYQLqaGdO/bbvxggamM+K\n",
       "GDeKl/2yBbQk6CgYopQwSNQUecsgK+aa6d5Ej93EUSMiNIGXqTVbxXp62J4OUugys2XWMcrXX60w\n",
       "Vu/2Nb3LXljzQhyAAAADAAAJCr/ZcdlT8MidlcyM4AD7OJk7LIuDatMCofTGZpwRoxuwSxhcOTSu\n",
       "vjAWyKjo5vdBUTU5nxT2eV8r0Ssg5Zo6ZfhpAx3LTmXtOo7HTi/xDjmZfq4nQOLA/CIAAAMAAAMA\n",
       "AfUAAACiQZokbEEP/qpVAAFBGCQAGsRa9fY9ajDjY+isHanfYx1Da+eef+tukVeUE+qEQjqO8UWF\n",
       "tR1pEd6KAIguT7fWajNthniLlwfSGT7x5qP33U8SkHM0F1GbwRw1vwZ/ScCrZs4vBjTRxCnZj3kc\n",
       "ogvDrNsCHYk2iA+EVkIEPA+hrG4SC4R5HoMlUDfevK03QNYi49K0qj+ehP7f9vbsAAADADKgAAAA\n",
       "WEGeQniHfwACcOVdyjIdAB5LOsvWlme5PcZl/h2DSpjN5oUB9g/YSeqKPCHFUNcLOha1om46fdf6\n",
       "ayaSxaZlVLY9QDfXiQ0+1rq3mRk9svB3XP3DwAAADZkAAABcAZ5hdEN/AAN0KnkGlcAJpqsxppCn\n",
       "lCOAAaXHwNbWU8+uIJANyZeNkAhY8H96ulaqqQlbdPNukaq4raSV3mr/TGCXPQite8oHD+Oi5JNn\n",
       "gLDcCrbASoWIAAADAQMAAABdAZ5jakN/AAM4p3JABsXyz2R6Envo2sf0yurizno4aRYXuQJtqlXO\n",
       "iflC/2QvhqmKJH7POv1ZkV0MeQh4AWQm+Futgf7LXvV6d1dnKERp61gGUqm9QgiaoAAAAwF5AAAA\n",
       "7UGaaEmoQWiZTAh3//6plgAEgdKVADTIOWpcQuEwS7FXH67Iv96W2iSXhm4wI4wdw8mKpDlp7iVk\n",
       "+SgfPMhH58DS0ml7KepKN9M44g+0X2zqbMIPlRf+6rdsrsZ9wlOY8MxXLyyxDS8sjzhgCpJ8bfNg\n",
       "QnD7fw5zRU7WpG7GfjGqBXs8D443LjVH12S6mklozEaZHoSPPsARO505PM1fW7VzwPvZNlz3ziqT\n",
       "4okQUfBvgPiex2Za5PV66wdxuGuHHgcnix0Dec7DTBaWgj9mnesRocwDMsmSMNqE2hoEIOlDqzpP\n",
       "dCirocILFGxT4QAAAGtBnoZFESw7/wACOmiWxAA1YO0HPnRZe82hlN1tX+DA+nWwLRNoZQsdsbS9\n",
       "4C1QW4C8Eu90Tfm3HM+cxDXiatG7vtgxKiV1Wq7Tpv2gsrRuOrXSACWz1esJ3Y3MHrhHM8+m4TAH\n",
       "3kLbA0hNwQAAAFMBnqV0Q38AAzUzk9kAH6hZc5oUd+2hcpgLWto5IuGodpduy+FYATwLE5dHO6iR\n",
       "lzdROFqjKMkCSutrzH+45WqHzgjoc9vjY3r/nmCrJjDx+OB6QQAAAFQBnqdqQ38AAzgFuQAhOhuM\n",
       "oGhz3FXDs+z7HmP9f8tgVlAlyEqBrO4SULYVXnM3ULFjnUh33L3LIV5+Uzc+jpN7k6g9P8CbqD3O\n",
       "u1pcAAN0BDgAccAAAAF2QZqsSahBbJlMCHf//qmWAASF34CgCYdpVzVj9OGH1G6joIRu9cxkPiPt\n",
       "9GJqIRE67JtLdhPCxkOKrJTKeqrkE7Rfviij2sdn+8PLN5FVcfxrxv4yGaC4TY6F4LqAu6Mmmzfv\n",
       "7vn9ADA6ihuLQuvkyUFr0ot5gdF6zFC8N2Q5jjBN3rzPCzoTU4nGptljekp4Ku3CWT6gPIJ39MKy\n",
       "TngpuKb1MthXkUFuec2ctd8aU0ZPGdqkVMH/W6WWDDX5wsvpkhMgtgduRxWu6cEUEs6ImFz97ZjX\n",
       "wut4+m5j2V766Xf+XRfVKfU2vgQjD/KGyj/OScMSvcwbD5vcKZSFv0OpyZJTlT7QMr2L6kyHWvcz\n",
       "sAYvWZOdI6L4HyqWdiniX5BMO9veSPm9q5VGuuXjlNrJh/wwGu/JvE8a6g/u5jR/brzXz4BBubpe\n",
       "BeBaMTJLzkD1Sw+JlfDcRn8Mqo6dFKoHu24wqU5HZdArUwZ0X8bdv1YCTHuJnagAAABLQZ7KRRUs\n",
       "O/8AAkDjU3ZYOACYnIri+CGUHsNCHgh6xxlaWovYPztlEdSWt5nqAAfMoXeVDfyK+ucEJJPMq8dn\n",
       "0e0gJzREaR3awA/xAAAAXQGe6XRDfwADN9VvSEgA+HZ9RDgt9D96afBTZ4/z7QHnyUDd0egh615W\n",
       "BCm0Ok/CVgMP1Lg+cWMG5ItVvu7lZ1Pv9sA065ju+MANgXSxrhgxrs6t/NmYxh6Bxm+OOAAAAEwB\n",
       "nutqQ38AAyL38vIATV7fFuzVjp/gw2WSCzZTeUsjSz/BLaevKoYMbPUjAZOrY8a36GzDiaHFE+mv\n",
       "iKz2LbvOmUFtNZXiAAADAAScAAABI0Ga8EmoQWyZTAh3//6plgAEZ5X8A/uN6wAFrgBTnp/vsOf/\n",
       "fyDedOcOZ1fHgARCU4jnyJJkAx+jzmAdomYQSn0PTbA8n/yY02hEfDDg4i/FjKO0HwAhC2WdpC+x\n",
       "J2xefNWvvx35k7d5v7Nnlr5b/7Cqh8/SsJ+QRgzgrMM81QM5/cnLizmkO/FIcBZnfccVCI+UAamt\n",
       "q1z1NPiQs1EtRpT8u2z9aV953jprGLWNwiGL7xurpg7ZZRXWJOGeJSGS13cxW16sj75IrF/We5cH\n",
       "zGJBOMANm0XRN+0j0wnyViFC/UB25fnRAxDP2ECeaK6EbwPSeBIvj7SgiJR7Ykpmxnm8FKfC7+CY\n",
       "+4j3pO+exi5GydBrpJmoQS4TqRLVmS2qcitARQAAAIJBnw5FFSw7/wACMnzABJ3FGr9/iu9O6HYh\n",
       "+vPEe4PGMiI1wiYXiQU4Q7p3jz5kZ4hAsAKarF65p1mfB7y9Bo+7gKIlQ9kgZGnO9nSLdmJwWi6G\n",
       "uM2hS8E/QsC+j9QVvJRZdi4ErUEtdGPCiD3KqJYRRC5rD6EnjwJ73qRZeA4SqgP9AAAAagGfLXRD\n",
       "fwADHHX4daPC38AJVGXdLQ1UT7/0Ueyta6IM7tdG8fjqR2UrS5nUKFx3Guh3VM0TTIlZ1QLFefCI\n",
       "H5fwQ1k69QlBFqxgr14v9qJJOODsWQkBHc+uMWXW3rcIHMnD45b4k0EqFBEAAABdAZ8vakN/AAMk\n",
       "PX1AATkUXkHskcpSS6HMkcoVC8WQjU2yPvTrKiNJdtd76+lLWVH0g8lG1CfeLic+0r1G4f0TCh8h\n",
       "mIaqdka9WT6zGazTCcJt6mMw5A6GhNOWEIRsAAABrkGbNEmoQWyZTAh3//6plgAEgOEmAoPt5f7z\n",
       "nuakX1pb9ih4TRN16IG1j//nyfgeQEcqHzVeBz0YjVNrmG6MYTFxhsi3T3TLSbRL0ZA/Dtczx7P+\n",
       "kDQxpswT9M+ogK+jCaTlYZD1cp8bWT5rKrL1Qq08pCCdOOuKw3q8K8zQuzOCBXdlm/qY1Xho81hh\n",
       "WwsIgoB6zz+Pgbla1wvQqNLUz+v+D3AEVrnIC+xl3cxujKH/9PkPCbx6j0lHmmqtoDtphUJWriuO\n",
       "SIPNTud/dFgmbHedlp8MKMssnpKNeeJNolvjGT2kYGxP9HUWZHw7OCmznh2On7NvsRViZkbVZsrN\n",
       "gFzbGvgcMZDykouftEm9cHB9tmI0QLwyksUXlGNZ4f1cxSykIuL3VhSNOT3nQBVngl80e3IWgWBg\n",
       "J9lTAZnXSMZ5Rc09NoHjm6SNa/lyueoSF17Ir+nw84vt0be0Gu4xi9egK4pTEbV6oeain/43gn3u\n",
       "N5LEQdzWAM2rrZz6W7gqxytp3vKj78HU1oTu3zPFeePloAMY02f1nN6bfF4Ifd2Ajz6lNm3t9q8Q\n",
       "Pl3G3EAAAACFQZ9SRRUsO/8AAjn3BSmEH3ACWRb68NQZ5AVNXaC8NbAsM5XYP5J57UGAOtwzNv0c\n",
       "y6RKMhNxBCqeaWESO+mWLdfKbTE+bzKGSSp612fwnC8CZJxu/JF3lehFNG34vMLP1qEth8wloW7b\n",
       "x0keQ5Wr5JIVVLgerJK3d4G7NfaTDSU59SROwQAAAFQBn3F0Q38AAyLkRNNyAE0w7OTTr8pZcNHL\n",
       "5xen8jiXZxFFgNQ3VvLrP79AUAD5os4iUhr1B97UEujH0fJUDCQk9Q+fvAiuW05BX5XjfTMZ7HSH\n",
       "AbUAAAB1AZ9zakN/AAM3/1MwjRIAPFuVHLSztyufkF7mCdO2EViliIhrH1UI8uSerKF8AvoNKhCs\n",
       "jidXYv71A47mLmB0ffnUSBx+WYS14OVV/KuBcfa7GqNHbf1qnoqHyQe7RE6NujrUFzfRKJJ/YgDr\n",
       "QvRoB3UXXimgAAAAzUGbeEmoQWyZTAh3//6plgAEZ5X9VA+RYgaAFhfZu2X8G8CWt1jN+lcAYvFa\n",
       "iHANpNirlaLBPKGnD7YnO1PYKCI15Bv//aeHtWvrKpfcdieRQylm/TFE/FGe3KcdVBbniHHm5R2N\n",
       "WnbrMgMNMGYI80miiUf73X//t9QBLbWxIM543M0vXJZsejs8Y4db3qH0C3Sa6ppb4AriLKxsXPLu\n",
       "2vJe+MODlRUDl6krXTQHpCc6qRCMnU1kBzDJt+1zbPSupDjTIU/GfCWb13aAoIEAAABvQZ+WRRUs\n",
       "O/8AAimMA+H3wAPxcVa+R5UsZgsJy3WWufMc7QrIq2klmqlfSNMngLGCnBznbBufoRm0cMBXT6Rl\n",
       "QIrOqEcQiTXu3gN7u4SE69v+fSnPwk8iZz2I6B6ZSRr4xzzwIpwGZ74UQv0cvBLwAAAAXgGftXRD\n",
       "fwADIuR5RAATt7vnxTQalvvnzrsJErqE1I6mN+O6bx/rypZSdHybmpWuWWMfNs7xQPHM/OvTs75c\n",
       "9+avmo7rVi0HLyQMklvK7PcAmuX7IQK7WwRhL5x6QS8AAABkAZ+3akN/AAMjU887cgBIlIwnNew5\n",
       "0FXNY1ZG8fYG3RSpWCfuk3tkNXeASTRiESaQ8iX1frbyIezERNuxPUOpjbsFGH8PRDhSzA57YMgU\n",
       "SDEHgMQII3SAaOqlM4PBzfqHG0BbQQAAASRBm7xJqEFsmUwId//+qZYABGODnxtABcWKb1TXkP4H\n",
       "PmwxD8x2Oi0zN4R6t9gji9PyUvA1SLkdY9ge3OT6IAfeNvzpPpUtzAF8alje36IkHoQ0Bhr34qAJ\n",
       "t3jzoXGA8F/5n+xq4JrFDMcjC+QCMVT/vDZ+anuSDi3IGHtw8spUKzDHK6lik2qjxI82dTNSFzfe\n",
       "ZOMhjl6h0SC21VxuWFt2pWNGd8hklRhEUJP9gKqlrIG9SoHU3NLEVyLbj0OVzFmdlUOJPb2yBmdH\n",
       "pkcdaG8a/Iih/sCJUWilpJXkg3+xmXDR+o99L6VDc+a3wZ4am3NyrDAThe89z8XJFMAtOo/apPCh\n",
       "Ft/xgdzLfxjNqnV/TleYaLWFaOvm31I4Fe4yoU/ax8N6AAAAsUGf2kUVLDv/AAIwb0RDhGAEC5jp\n",
       "e9wo/+aRhDj9/9twKqCnHOKol51HdVQzDaUVRttD2PhafAwf4etAoQ338svWmy0yfoEfaBycJ+4N\n",
       "iL+6IfPxFaNeAMAtRibj6C2GYbOfanNrpF42rEd0UwWt8ooDPIDyjV/7k9m/wMFTIXKtE9ujj7PI\n",
       "ZDpIXRQ8gk3rTKQ75ptv+81kRhgXp5PanC9Ri/MiQowgPJwH9TKnH2/xxwAAAHYBn/l0Q38AAyOR\n",
       "bsoACaDaqG4tP0XUEXHiBTzRI04wStslSOTlfDImUGZYtIGMHPyAsIk2IhU6wOLG32vwkj5xr61A\n",
       "ARHENrTr2p7VZUXkTAldI7hov9x1SVAYgUy0unVQqTFRcAQgEhDZ6ytaY/NqdPdZ14poAAAAdQGf\n",
       "+2pDfwADHk44SpoSAEyKp7FegNBDAoxX6pgBh38vpYVfy1YtPT1nMjP/5aOLqITgzNZPEQqdrHGo\n",
       "uMmgMuQoZt100EDOGnKOJQSwfCzF/ivVr+KLubMASHQ3muF4h7IXtJ4GEZFJ1M6tiOo5ShYQXYKM\n",
       "WQAAAWdBm+BJqEFsmUwId//+qZYABIDaagDUiU/TrZ1s9hnbRXbpBQj29bN8RdaqkSWt8LgXIjgG\n",
       "+VgI6YTUH/BVe548v0kGshKwZwYGg8irJip7+BdDkJeXItn3Fa/srQF6pnzqrhaCtayuKk0QDW0U\n",
       "Ibi8UPMJvof/chb2doCrZlCCdpb+aJycfaWc/PU9XPG+IHM6CMWOiQfuNqDuvX274fA/ypq6214y\n",
       "8NSO49xjQsFl/J7C1fNgy0HeUlSMf6TdBo2yEVBGD8FSH3aGGUMEZE+7MqG9oJlfeFQcKy95U0CV\n",
       "t2+vzjggpoqyFn/ZKzZaicjHJCdjzBj0giverfi+vqGltnxWLlQMLxPNRT9Eg1u/HKR+VXauIrPE\n",
       "gwM0usVswBo2Ya8zj8c2V63XQRlEBGXWdhvJCsGYNhAb+LuVZrg9fc1qz2uP01JmHe8yeb1tvXyS\n",
       "vr+HiONzzrJh423QoPACP86663P3OQAAAJxBnh5FFSw7/wACQOOgz60rt9UAGrpnkw/PSMLWv3U/\n",
       "sskg075yxsU3UWHdGc+wGR/xcqQ8CGUT3/sPfnU4J7QcFXLt2Z0egjV9rYehJMiJMq7VCuNYHgoX\n",
       "KI2MiSupFRAK/7Qb+eEQaJBXFu2sgR0qJAJz/V+0NdmAJxo7rnaxrAQkczPKTUGGR1VSk4U9jJdb\n",
       "bCJ4f9D3LzhCg/wAAABlAZ49dEN/AAM31HKkw8AATaHy9XwxeFtx19LVErWIslM4lpwZoqD7t6uT\n",
       "sWs61V4fCr+xI7HHiwIRChwC7zPlvKpMSzWNVES7KK/ZsOHE/L3qlYuF7zVCFHYTZnpsZT7/eRnK\n",
       "LuAAAACHAZ4/akN/AAMc/gIB2OKAAnUzthbPNcumO+MWKWMM4/e9kmXum8f67X1s2tmyGdWZfMx3\n",
       "QHWIK/JrJZit6p1YgNeOkIQOKc9Mg8kV1qBoWI9IiUmPfGCocN4sAy0htaLiKcdT6WQ6/H5iYOLg\n",
       "POEE2CdrKeuxCuDgXHIQIwn+gI85063DijFhAAABXEGaJEmoQWyZTAh3//6plgAEZ5X9TAjosIQA\n",
       "klnJoRnQRDjSi7+NmfuC/ZbFO8nOyA09/qx2qL/0SO+ZPwITMseS9e0KuT5i46iW87apv/v5Pbr2\n",
       "QfyVD2gRpMDZ+5izsMoAmlIv42titVKp378tqjlBT0OvxAfmbvJmrxQ5ZRCTlSao+B1ETeqNQ+US\n",
       "Q75kAbSFtwQlZ3I/yhqmhx3W4YoHA0jMxjz11krEV8p2KYqJJsGrkRqahFuS7L5Ic/aNcHm89HLe\n",
       "UGFv7wOOxkj+j+8XBSzl1Zabq2Qj4c024LPlQtuzgBc8WvhVxlmrOf1Te8X5K+Q5FBrpqMHfuGcR\n",
       "uyzGiNDDSYCgLuoZ6v7/ahcFF1UgOVLxYqtFn3MlwtgDX9wt4ESjUBraUIcF9jF6ddea+ebIW+9f\n",
       "McQy+dcVOvjojEPHo0WRzua12CD363+5HIy3SOjLQqpL7CKXwAAAAMhBnkJFFSw7/wACKYu0VNgY\n",
       "AWQbiOU3s0FRh3IHQ5kaZfrVNLUUxXRzrdKMKBQ94YfeT7uMYvf3Ei/T0FIQ8S1gaP4pqnfiVkgZ\n",
       "wjTBs9a9bRfEHTgPisq9obQW0h5eULC//2urAqxeVlNG5t4jzCu3aXxoPq6aJBK0jKTKeoghnsAe\n",
       "y6UhD2mPpW5xceaYN7Rx3ZN4f5cq6BMqRR0H3//wTuyfSjZv4q7h/FDg+tP3wrfwUJEHDXR2r5cI\n",
       "8QQD0gLTtWD200CtgQAAAJMBnmF0Q38AAyZa4ATMiZ2P5Aky9RkYbWYF1HZkXjQgWYgUCUVe5HBi\n",
       "Fg5wzuDqvp/R4VZ8//rUrqmbrA/cJbU+Zhok6o679zs58sqNTC7VHEFmlFKxz496tcCPsQ/uSBm/\n",
       "MT1e6DYED1G2mkZNyjDkh1mDShHWi1VGyfgt2qJthw/c90SzvuQm588UmLYgKfCoO6AAAACEAZ5j\n",
       "akN/AAMkPX1AATRObagLNZNAd7OckRg7oLqN1J33Bsw9k9ZT/r8EbSujHxsgKIKwOg3c0dNaNpUy\n",
       "4rajXdVJ8VxDa3jAacYGcItTQEDwP3C/V4qxTy6lqmy+DDsl8XYy5NzcywWoxXnbeZ+dEo4AAH37\n",
       "380nmq4aT40VTFcJojjhAAABfkGaaEmoQWyZTAh3//6plgAEgNrsADUxCiU4yOCLWmC5TaK8pCDv\n",
       "EOop/CJNoy6Cri+jmPqRQTWt3bP7a0HpsMwjGUPp5Fdbr4EV60HnF/bff4TP14VNo/O+E8dxvOYy\n",
       "olL4U83BbD73N8c4vm2gJpESvBKRUgfICnM4E8vFDoFoSajCe8hH+1GJBgCiXNQhL4/ZJRCf3E95\n",
       "7HocfnczE8LX3noTWRb15zSS4FKHiyU9Siog32oH4xMFHMybVslfDCnmlv3wqKTDCHz57DOIZ+f0\n",
       "NME2qXs/5qzgjzcRp8verwy9Df0Y0u0WPeVKfta5DXPcDBIl3gcQSO1kGbF8/SLXfPxziqpw+XgL\n",
       "0If7Uhz19E9RjRqFhcNGOwVpdH1XM73cKYUDnB4RHUfpo8HRi93sWwhR5g2ugIz/Pt6/k2jdcwd9\n",
       "TyLfry2K4LoZRF8G0h7ZeatnuOhyE80nSMD56cN5S4+VqR5OtQgRvdflgZ4lwOEnxxVJ9fvZrIBE\n",
       "sm0AAADQQZ6GRRUsO/8AAkEfGex+t47gBLIt9klq8CFvORVD5szlR4Uglg6LnIYe9wp2DFdaQZ78\n",
       "YRAcXXAXc7WzfhNB/6xB4QpLCSBAbOpcl3snJOnxDfiAbjsW601vdXW3dLJH6qIVXfcmPv5gI0EB\n",
       "Gw548SLj1WA4cCPwNVytjIdAvWRfWkLlkcliJBCvv4XTJrDHgRD4LnDghqv0EQGmApQkwzp0Rpyo\n",
       "ur1x3zRyEe2wtO/JWGK/2nEdzPApyZ6uPL4EBZXOtSC+pgdDTxk568xgQQAAAHoBnqV0Q38AAx3L\n",
       "wSWf8AHs0Wybug8UHEOHO4x5c3wH6QQAziVcaISXBHYRkTyMXK8jXiLZpsm1SMA7EFnfn5jooR/a\n",
       "p+Kk7ut4DPwO8RW9w9ii5nrgb+It7Av0PgvscqoHbAA2g/9cqDVhMhx3HCILZcWhTjkqhhg+YQAA\n",
       "AHwBnqdqQ38AAzf/UXX8yQAepZVYP6n+Fv4xSTYDTTQcrCulsm2sDPWh7bGFtOAc8dcI6QqBw2VB\n",
       "2nNMxEzHzfTcfXVs4FPwTIoqCZplVsYl25syvng6cHKZuBR/cOPZYmkSxh6HX0d+l7LytqtUNG3I\n",
       "Xm8AnJtu/j//jBZQAAABR0GarEmoQWyZTAh3//6plgAEYELEZ02BgBr0tPQpr/d1YEIhkaY3uZ4R\n",
       "FhN2/UpVI6K1P1dt+oJCrtKkCpRuN1A6BEbyoxDwg3U9PwgjXCTG5lzqCaO3QHY1tp98TF/kNTPH\n",
       "fXvX9GCmgC+sGHc9qLB5+kCjGo18hQa1rbAJcSAX5u8HCOo4AviWYZjct2DeSNMjlUSpz2TVr9GG\n",
       "YDAUdyIqauri4QiE4mcx9XXp3ukNxdULGGzsq82BlO78LZqSTIw9+wCzVntjCRFEo7SIW0KEGOGs\n",
       "BqHT0PmBBnPeS2+RuTgzYCZeiewttoLH8Cqg88YkF7Nhv3UMD0KsLHz27vv/4WDTxQwidI+1SqN3\n",
       "RWc0nVmipV7EXv29HIlpkBNPiGDcX3v/C8IQYjg7TYB0WXtD/iapJ6GpmPOEnFQzcG5k/qWGNyQU\n",
       "aAAAAKxBnspFFSw7/wACLaap4PQP0AFrJU20VX3tLrG7cPXZBniEZiHsXql2Ppi78CjwiBSfWuxS\n",
       "GKh+x4Ta3+s+stxXAF4sIj/5cZVGqS7c7MVzVpTn8QcIEbOSuXHkIugDk2T9wgyqir0RYJWKcHyo\n",
       "Yp1BqgLkSUrRHYt/bUHkkZVoOmdm6QJpYi4hHV1rLPrMyI8Jn4+ocW+/GujGqnG0HBJdFMvlbkBv\n",
       "ReejsN6BAAAAfQGe6XRDfwADIuROx8ABO3t8W7qpQ2d+f853784jqiUF9Rr9zdcPSTmBpBN+xXHD\n",
       "5Oa6grm/fFWTYB5jOQrawIjF1lwKYR9iw5Vob06jlkzfOseartZwXJN9Xfq+KGbLT55mOBe3qnpj\n",
       "Jr6UBONYwPUHSh9/D7QZmmCygsHzAAAAfgGe62pDfwADJKQ5YACaC7wX4Sw+cpxVhoAc8wecwZsf\n",
       "rhPQYQwUCggJjc8nA9u2rd510blLyPog6MU9AwyySc9QHQ1bGS+//qvqW5U0XYM0Q9a+xdJHnn8W\n",
       "aVpwL3pd92SHnEX1JN+UbOaP44ncm7Cx+XrH8r+IrQu+1JpB8wAAAQxBmvBJqEFsmUwId//+qZYA\n",
       "BF/01RPqMALRQbP5aHaON0D6sxFm0L1AuQlvKO8eyFfE3n7K8TYY1pcVHQv+fV+jC9O1UGy2YMoS\n",
       "gF6HUH/0WATjZn7uE1dB+udsGUx26UR73cbt4edBROJTb2AuJ90APu8rgdRig+h2EYgVv1EBoMza\n",
       "L5PUiIHRgUzVpuON5vrWvVYnmdtbn7BJhwqn5bbQ/0k2KJTMDOU3gJxwLoTpXRkqSdwS4G9UrZam\n",
       "PFf16+5aTzU61DUWbok2pItpcM/pIOKGbzjytlp/bc4edym7my+0tFE3YnGLnX8bzMg2dddgRVFB\n",
       "XA4+F+Potfz9a1RizBSeYbX9saWq8tOBAAAAmkGfDkUVLDv/AAIwb4X4jGAB8PakZEHR1FBI4iZJ\n",
       "maeKcZ1yNEqe/vsCsDHv/nIq/sVlvqfUKvF5Hod6cs9h6KxgOjn7mJzr7oxrNF8d4+bqRQUtiWx9\n",
       "7DH/FDeKnbkJXoo9iBaSRuvqRYVwkoT/SmukKAqyWs8sda/0TpAHrT5XAAqYKNAgjnrawV5FTm/n\n",
       "nAG1x0eDuWYYB80AAACGAZ8tdEN/AAMjkVxjAATkUXZF80SFBULSk17VuOOlQdj8W17mmQsDNlb1\n",
       "VfYqLDC97L9K3gGHwYtyA16RtoiB7ARMu1FAIt+RUJTndLkZgQtMk1MtOTz9d8Q4q+iC+BBf1uKV\n",
       "KyQxmv0ynvMcjxl1vM2747XqXjVIYHSbRff+fHsh1IsotoEAAAB+AZ8vakN/AAMeahccU6cAJcvB\n",
       "4CRWPYX+1sD0fgwEHD3Bw5ImMfq5/0qQ9Cw6RIlh4sMGgUyrxMAes2jaXNPN9pj/hj2S3OHedGp9\n",
       "NbSm8pj/mWzn3+pn6YvMbYQq9bZVcrudlj550L/WObmORBCxmWoBcishOA8znr7JKg+YAAABXEGb\n",
       "NEmoQWyZTAh3//6plgAEgNrsADGOAqPq10HSzHgd4nWl8kh6H34cpgs/+lLTizBq7+JLaV7+h8Sz\n",
       "cFOwDbIC2T1cQ8+RtYjP0aaVpu/GwfPwv8dnTUhw5AaG47vVofu4Vew7VRvvUxslFdVrJusWX7Jy\n",
       "ByrtFqstKTyec4gTQtAfpQVcHAT3iw26YMrR3NtLjYiolCqwJJ9tVVGtZBoDRq8arzkFZsqnZQzJ\n",
       "Mbq0Csz0o7ggEOkQ+aNCl8caPLbX32uZd7e/8MDrnC/snlXwwp8KFjC1jCcHMScTOKhoi84o6uUM\n",
       "H/OyZrcxLNmPUtsTgauCDPGagnE5+OH6nWvDsCCyVNP9/oMMhjy4qk3547fkdrkMB/BMfm7iHHE9\n",
       "FusiGS7eTwIqPKl5vjPpPsjd+apyTYzdIdhlEXWeqyeqQ6UKtzcr7fUYS3Knlt4VIBpUibdvB63m\n",
       "IBEBIAAAAItBn1JFFSw7/wACQORuaPEhdHABq5DuRCEyDyxGOQV2HMihngOWWE03X+5T4QlfXWmz\n",
       "uto1scmds0OnOKVORMIW9u9tbn3cpSiRQorE8xfX58+SGz564qqGPuOWv/q+PRzIfAhB7JRerSdE\n",
       "k75s2g0k0fHrfkpvRafOg01VN832xrdxQHSsl6O43xQxAAAAfQGfcXRDfwADOCofndYAAJoZvtHZ\n",
       "uK+34COxB/+dLn1CvrJR1qENVMS3vzRNqJAnk9Au3w+AmDBq83jrf1sfFX2SRq234eSGPRsG+dvv\n",
       "Fg9F2La3/39my4R5t+qYyUPBHYy6YxCofQkXaCJKKPtACBIOco+Fu30IcBdTKeEbAAAAdgGfc2pD\n",
       "fwADHQNsjmgAJzw69z8ME5iFVR9lhbshqvdaOoB55Cy5n3cLd7wReLzrJsp6s5St8YgPAIAqCH3I\n",
       "h0Uxj4i1QrOE/tD3eIrLh1q6rjoVPsEkBWaSpdRdtGslItkKn0bT808sexXKU3r2FIrqkGylRgQA\n",
       "AAEBQZt4SahBbJlMCHf//qmWAARnlf3N13jYQgBHKpWUluiFQcxqAxX+eYY/WqyCIKv3scO3ld6E\n",
       "NpQZLZ1WO2g3oQa1VMnjJ2raVbb1pbVB4URDHBjdmvv4JGKnOB9wjd/MvJcShw6I/4oAfjvoLtdq\n",
       "wQRvXlIgeGw0iWflrCs9vR9Ifve9QcGGOAlQ9/nh5AXRDLN+gNf0HNuJPnSmn7yn55BlthfbfgBP\n",
       "kunI6z7ohhqr2G/aFZgH1sRB6cKbhfdQWBeA2vUKLVrTRvKcrajkSdQNCZAJiRYiZXbTXrZ/prbM\n",
       "azCYHcam2IR8j5eir1w0ih3Gyh4DQZSTLTKJ44zAjkEAAACLQZ+WRRUsO/8AAjJ8wAPfWfzjrN0u\n",
       "UOYp/+oj56qBIiPav8eXNrsQO9LnfLzqtNNmh1JwB77Bkkqiten7yAPP8oguVVJLJEdVuET5OFKx\n",
       "jL/ROHrndnqmGx5j7oiaUoD5EF7ZsypzL3ohcscgj+ZUwyWuCmSmhKHvfgwReyweCFNntlaJorKr\n",
       "NnAfMAAAALIBn7V0Q38AAyZa4ATMiZyUmr1kj2EHtBArP0/iMYUKZ0YzPFpiyVK2SBV6asDTMQ03\n",
       "fwv/1vUiJfjxtLmRs3o9/xaYrezJiMv0mGnbjhSR0SFtEeZCd5zSiNRHS1+JAzc5/o2jJb49pr75\n",
       "uiPSyJb0C57B6/VgJnvDT67eLCYdHHPht9q0pGXNbk/zCsIXldGT95yTpsXtvIzetvsjV0Iz7iOX\n",
       "tHEt+IevE1zODF5NaB0xAAAAgAGft2pDfwADIzKyMkAJl8JN2Sdvvyx9xjGcya9FXAndLETBv+za\n",
       "A1l45aaj/JferdcAQvkl5veko9X4oBcRA/x7XyQNMDKQ2TCJYzoD9N90SkwIzO13sMEJwt5c24El\n",
       "mYt4NPPFIFIop6wKBT7RO3HbYrUwSx/20/WSTR17vDKhAAABS0GbvEmoQWyZTAh3//6plgAEgmoF\n",
       "gAamIdCCjFIK/pWQMWRD7zq6LDggjUdUXPxKLAD8k2RU0myfkQOT4DyB3PAmyLfc6OwUMv4ks0wx\n",
       "NICGdpKFBwxph1dvaukluHynfBcPibQGD3aSbuN7xQVW8At+BE6SBQ7TPZ6B3JzC5B6/vjb9nt19\n",
       "/usfGWj1JwyBe30fO6dCoEhmEW5K6S+R9NSPPwg48m9sB6udgGbMeSSzOaoXECrjteUHwHWlp8Pe\n",
       "/xpA2uJHJIdcTHvqeFceGWquQxja/vhyRCg8UM+hRKeRREMCkVIezuXKy7BFVBkZExfIHqwlAo0M\n",
       "RkequZ2n6W++bs9h4RLcbNGuJrqC/94tqloSEabeJ26T+thCUqP3lY8cfD9uuVxTwEjIoGGWUYQ0\n",
       "eohwdicAcjOaaQkGnYllY6XwbX6BstZ+72AAAADeQZ/aRRUsO/8AAkEfvIyXi6AEsi32SfqpWB5y\n",
       "cb3K99AWqstLiZ4Xs73TD6dCbYuDui8oU2w224wHAMUsTzsf3rzSg0sUVx/qDdvpE3UWBX6KiEDe\n",
       "o2ixCUzwTkmCa0CR7KqGAAaI/HE9jGRRiHrMPtiLVoLHc0i/GdW0riVennUA2Jx5BEXC+pxqHQxs\n",
       "xirDYT+8F9+QYnvBVoTVCI1kXU/UHRnr4GYLbmGRLoIhavWbNMcwdXcGf2K2mTFs8NGp6SGaVBU/\n",
       "/g491HH+24Xxc7xMuVHPwrnLBH+PeMCBAAAAiAGf+XRDfwADIt2HabkAJCpaoic7mSWWGiP7NVod\n",
       "daAIt2tNSSBdoPW1mgCuR5kQ78H++NsKRyE35JrrwQaZPgyhsi9g5DeSBpkIjtp+IGJeOjmOGQny\n",
       "sLMfJ8JcLdGtTKRWzVxt52DYP74l6GeKPfhE9hUUPMJ65KEaNvP7ZkVCnrzqQdfmM+AAAACiAZ/7\n",
       "akN/AAM4AFnFypAB3qH7UCwO2w1uAUUTBZT9x1CZjPF7otxhewgUT6wS3PlQ2yYn3dSNUvZc5+mD\n",
       "fFt7VTa7gGIWZCu7nrzhi+/IqsR8hoy14DpQsBu0tX5ziOP/C8DgJ9MqO1Ohd/+v0hHWPgtShEfK\n",
       "lE1WT2YrMQKPbkK/XF6tbDWVQzIzBNLDAuD9x0nZUg3BaeBo5/mxF9zNh0HpAAABQkGb4EmoQWyZ\n",
       "TAh3//6plgAEYTLCgA2qErV9cxqRpEy+MQesRyaxiekTIA+szKL45TSTddJUExNg17MVPSSBsVmI\n",
       "EpNTsqC/UKD/sYyLszIVsowI1waTK37ddrPB5z2xPrG75mxJvHN+o7QS/AvD4FDinrx5gPvnPlaA\n",
       "tkIhLyaq2+9omNVfG/27CboumHJjUs8ovmrbvusaEfX1qy5Iuo4sTZYVHFXOHP3wo8kW7VJPwgsH\n",
       "0/5Ti8GvVzRlrWZ9h0UcoPVIM5SUu9XEXD0Jtkn5a6CAHYorZHGP6Ki4jo/+Wevs59BFUR6XIFqU\n",
       "4qLPRBVLE7pWME21s2zC786fFremxXxaQP4KrRaltqiEH65YMFACs/JH2/5XEAwkUUfBYLnMahRY\n",
       "Pky8xoz7Hsft6tnfnJ4Z+s0sXKpBcx9lT8ZTgMsAAAC4QZ4eRRUsO/8AAik80yHYMAD82EV0PT+n\n",
       "lzsVm/97BpGjJTpiOSzLrlo69v304HkQfMypyYk/xmc/2Pm8cCM35IGlZfjzHoRVn8at8bbQgpg2\n",
       "UqEFt9RREn2E/WigGtoSbBa1/yGGtcI61APIzqEr7LU23zBhsF+QfkZJx/9cR+KW4Z1U/qEav8wM\n",
       "SvVJOyOwjOxkOM0N1r165vcFo4KHpMVUekmV54xoO70oPObpkpSb59ej3phVQAAAAIgBnj10Q38A\n",
       "AyLkTsfAATt7e+MI7k4I+WJBn/9S80WNM7n78f1sZre27f5WUA5WGfTFu71ut0ngb27mGFaP52Ps\n",
       "t9HQNrQ7xdHLJkgaWj5WtVdpIvwv03lvSbbzteJ+SR20yB8pTk7nPt7cV/21txQ+SDebcYC/0ZXX\n",
       "H+npjpZCyhJCXk7aXJG9AAAAjQGeP2pDfwADGg9CZu3IATSak8547JX+b0IrViYPrwBlg2UJRpcE\n",
       "ZhTGkVveVqg26W48tgUGTUYXTwW0NqhqgXy0r/Fh729z2D4/5IGmJzSI1tlEk67b0OjlOyBmm20M\n",
       "Wepke2D5ml0wZmDS64xA4nDWMEAQI/R3ZN901pHY9EMlY4ec6abqv9PXaSSJWQAAAQhBmiRJqEFs\n",
       "mUwId//+qZYABGODnxtABwSNFOQ/IaH9L7XFDaWBYvDJZITyudmxOVRP+ACK3dRLrMsKU46x7M+O\n",
       "4W02+r866q8e5IoImIi/xw41jum2DpyjpGVEEAUiQrYDyshq2eGUWG5RaKIZbT4bQ+/eks6vAtAD\n",
       "uJVK+QhRqgKCfYzT/G1e8EZq73thtQ9x3mame++CR/OJvOZVywdbds8PdS0mGYcRo5V7odnnFhYL\n",
       "SCuN+f2hAGP2Xfyc85RhzgKB79gccSXZ1DSYtKcIM4ClQjMk6EX0zrcds1972pDEX8MIHy7sHMZm\n",
       "nKscdfFXyuzw3bryzVxk6UhhX29WjiwYauxb0qgAAAC9QZ5CRRUsO/8AAjBvREOEYAS5WqsZSuhr\n",
       "i/XkX/TTgV6Q1OxDv3zKv7zS+wV5sFnfOKx4BKDkTZqTFUb4CqNl+PlLcSRQ5sQNM3rOP7l/xEiS\n",
       "2rMy7kCB/gPe/qFivrYqELtf5sSXuzedsbhZ9FWJkJ2y1XSKaWwCVOL8knv7pC1o8vKBAhJoVIe2\n",
       "zSieuA/pr/s/SWQj29PEZ8vmUThB73Rbir69FgUkdnmLi3CK//De1mVc9jMRi6NKMI2ZAAAAhAGe\n",
       "YXRDfwADI5DurgBMyC+4own9Mh9+2Wv81iTZopwXqoHzdJQqqydi+TRxF462xyQvLVFEOMJfcek5\n",
       "6ERfd4ks7RHUsjOm03Xq/piuUmzEry2lDVL/U/QD9gQ7fnblUiM3X97M7Hs3PWX8rKAYWTJe85x2\n",
       "hAaOmrBKeVNWb8Un+SiygAAAAIYBnmNqQ38AAx5m0xgVAATqxm9gfhf2PfymNYq1YvtcBKB4k1wZ\n",
       "NYIkqTC2OJLwxVzsS5l7/Oyx5bNgx1eXcw86dvmRJdgxJYSa5deiZeED20NHn/Pzobu6Lr610f26\n",
       "bG/5HriugCFmQflVBytxszcsLimMs9z22hF37IRW34dFlAxTvKGD0wAAAWNBmmhJqEFsmUwId//+\n",
       "qZYABIJp9UAaCxHII0X1DB0Ycv+AiFqz54bB9pX/HAG97vPbl1kraTV6Ekcp67lrMRztWT0UEf9b\n",
       "+xIynxfcg+Ys2jnDtHjVMuTJH08kNTC8VgDVGhtFiMWBpv1bkmPPO82x6Phloc8liYBft2WKeoHI\n",
       "YuF/HzPmYPIwoGPciEAZ1dHtLDnnEOkXuCRdbZt+llZOy7VNdjb+ktSGCwUGO79Cqa9YLCeklzrl\n",
       "cyEgFAnNHOFoSfTUj5gIMsIxZv1IW5LbG+dCK36DBnlnNLeHs1heYQiqrfJNIE3oSIW5EmrP1s2S\n",
       "4Ds52voAfhgLDX4prqD+WeRkq4NdiVJ+Gj4kQNN1f6pg2MRnEow/D8q7j1HAFZpKoRvFPLczjsJJ\n",
       "1Hz8cFlWBSBOPdjwjfJUKyMwWskRy918VEGeF0s2I22QIfxlsG6ZHUT4PFWXYYLOpMk3W2JNd0Oz\n",
       "AAAA30GehkUVLDv/AAJA4/ku2NahR7dOADVscplAqwzZ1WivQ7julx7Zd6bvRAqGohLJsSR24zpA\n",
       "xiVBeyNjnzE1IbAPmlcVP1RgC8KPCifN0innBb8SGaq3c8TKTXoXj4YGO4dEaju5gAKGINkwelDR\n",
       "+f0slfAXI5ebMMq4b7iiWpDejw5cqAhMBeASj5+teB47p2PeMHIYLSkb4ABHHg/79TupANZ38lCY\n",
       "ZAb/GhfHNdulhrEruWsn2N7XJDXCNPHIG019FfpEt9Sn+6cPyXKXqSzvmVMEH5XlchmKvNOw1IEA\n",
       "AACGAZ6ldEN/AAM3051BJAB7Y5h02GJnM+dqJ443w5ad/ueDD3YzbKFqZZA0UisNcQk14zK2HNcS\n",
       "FEKD9WuxbRvdsehXnDK70Blne5bZRyNHlVNJzk2EuwgqJc93Gz7F2cZORZ2fBsvxdXqljB9t/UtT\n",
       "/y42tgcGROzTPpgbKTUIWdlWoeeCoakAAACOAZ6nakN/AAMguKqX+AD+kDuvz16VSOV0YNKmy8PZ\n",
       "ZsrkLnXlT0c8z8TDgLXWf8/g/c3FZuTMqsb+TG9jHE5a9Wi0HGSvElv5fxOgArBLgecg3SvX1SBI\n",
       "RVgmDHyuB783fUTTFmQkBd7hLGRoCp4AovO9FwrXnPwQluh0kGoJ63r4RccVOYf58Iv4rOw1IAAA\n",
       "ARVBmqxJqEFsmUwId//+qZYABGKj+10YAI+mo9/LbLIP4EelTg2GbeWF0TMkDFWljTEskY2a+CLL\n",
       "PriTMYbUtbtslvqZbGj0VV/Qk7/fL7nYk3HVdvGkMiRbUhYktZHJL3A7zWxm9kOn72+H8AbMCFoa\n",
       "wAOy/CjAuFulCFWhWq9uQNWk9QsJ+1722g4Qt+avqrCXziMTQvhnQT8WdlhSHs70UQ+SI03wYfvY\n",
       "0gJcmqu/lu9yeZZOprcLvT5qDz1vtwJfMH7Fks644t96dH9XgTkNougUvAYwEn3abKPd0Thieohy\n",
       "Qnz2YpgDhCZDVK9aolHkc+XGQv8rX/eGfMSkvzUp9fTP5338sHLH7/vpe1C6tlc31WNAAAAAsEGe\n",
       "ykUVLDv/AAIpi7RU2BgBL9GNXPHECMDaa45FxeDXaMyJmfs8WGhjrrZTJtSmq+Wcps361LOuik6I\n",
       "m1xDfUesCPZ6a8fOFDf4HfhZdOgitrKIuvXejU6rmBpKwvqSGoHwMA5wekEsa18gWQElwXaKW6zY\n",
       "wBtLMH+oFKJb3J7wLTwm7g5lN4blqYKbj3u4n+OoCryGCGqU+U+U3WoUCcXRYyHZlDWYIM+oT92u\n",
       "KJEjAAAAigGe6XRDfwADJlrgBMqB3ayaKl8bHh8ryyTkjebHq27lj03CsvXvbMA6mQayt2pJj6Lz\n",
       "5ZzbPxCmwcOyFunZVlXlgYkkeYQOxWqtXMQiiM83q+gkowbmyRJSOMwrg5Xgk+ER90Yq8TRqMNRH\n",
       "gYSHEsoBgzXgVQpuIstjFTGkmA/rLobHB0CsAYSitgAAAIIBnutqQ38AAyMysjJACTj3qFV3x8fA\n",
       "Y2m4qVRa2dGbuIWnjI3VyRHer0zeI+x/hJNrW1BFLC8av9n/aDcssHWjtLbSGrkoMga+gvwJ4lW1\n",
       "hNP7Fcjkmqaysl6tZ7aWCRhK0X9hHDYYP4VS75NVGGvR8cNp8GM4+hxZx6/Er4VJUiRgAAABckGa\n",
       "8EmoQWyZTAh3//6plgAEgoO6RoBWD48jdSc8pUl/oVdgRJHQ001qcvfVyEaTxtbSiqyL1DukEF86\n",
       "uYzQWv/haIRg/fJf/lf2vMcMT95vIsVme9tc7U/hHgj0dPLFBlGrhQVtL5uXjz4sjm651mZ9PTyx\n",
       "xiRpWK4Ws0NNMOd9gj6uFcULeMbHs8D9u56r/HIkMYFcdzO9sJq9lI6qec9iPvwqIv1bxl/+qMDK\n",
       "OOeVUUR/1rpMybOnm8XmQEhTRV4qE9WNkZt3gE18MLUKRkTKqVYk+2q7r5Txy3HUuef2Gm4kxBX2\n",
       "YkTJ9bVB7k5mJ2oMIiOg9ZHkGu/LqPetRzC70Nop38HUALH6lGAxirbH7yQF+o6XEb2AuR5wKnNk\n",
       "Sbqud8bSNLx4K3acY9VeWx8gfxF2hwaGFyG3WwNzfeOIFBgAjMG104rtaz47ebSwqOzHL2w0t1ir\n",
       "BRFim5OjQcpTJn9G4QxntyWRKPSccwLf26sAAACbQZ8ORRUsO/8AAkEfvIyXi6AD+A0Yk8u+dkaX\n",
       "372y9hcTas1Xci5lqNCQxssn6W2A0uhnK8SwUrvlPwLEJpkLIHBbfPapyrALKRoWXOqpATdZU6ze\n",
       "IPiFI3JG4U951SHQrhH1atcy2Ixb5J8JamlrguzdNRhCO7yPVylXlSLaAAQqyZ208Ot9LC9i9JmZ\n",
       "SGMnDAurNZZ2BtbYYEEAAAB8AZ8tdEN/AAMj2z8AH78RGTSsN6QHkuXzviFqMaDX08RlXLe12Tpm\n",
       "kLmN+IJQqBEu+rU349VE42qtKIFzhh0ZAr34MJz1XiW2kv/1CgjtXV9vHN6vXhRDWRsdloSse8Ho\n",
       "yyQZsah8fsglfd+Z2YnF8cJJEXb6qRoAw3wI+QAAAIQBny9qQ38AAzgAV2UHyAD4pWZ/Xj9qJIXQ\n",
       "GAt3hzumKuZajFpl9lrRMK3xpA99y/pu3xJmho05k/BkfAcISClJasDbtqxZk68pNtKvSZ1B2nCb\n",
       "wykVEY0+6EN1OkE71ZjM5gTRaTQnnBGyzrhHEIjkvGMTprOzNj0M8Hebuw+gTE60CggAAAErQZs0\n",
       "SahBbJlMCHf//qmWAARihGtQAf5W0C1EOQwrpuO9JWEKiGmJ4gLbmaBZhJC/oWSdTE2dZCBMJ6rd\n",
       "Sa7n6GsjOEIvz4kNNO9NarkUToESvrq76iridh5Kv41Lgl7v21ZsEtGmQJ3dTyVJcyxFC7wF+lk/\n",
       "qAKhPh+rPUtFDba7QOl59gs2DmERlHz7hkuKJH00OZQ6SBnRoi+0h+0lrtU4PHHPl6gjbeZBqmCo\n",
       "MjXxXNMrO9FL9sPsqu21FBLaO3b6b3oou6qXwr92CvzJ1jFDuZ6XN6u66QPHG63Sgz3RgbiXzRsE\n",
       "jhx78KwloJQu5leVNNEWZocSVUmugdVUpGhaZwO2Igvu/sxEe8eL/ZU0yaSL7445iU0fBOIX1KTD\n",
       "bJ7GstW5vfZ+ADQAAACnQZ9SRRUsO/8AAimMA+H3wASp+6RAR3T/jXvh/aE1PTJUIoJ+EFQIQCIj\n",
       "AReWAvzR40CxSSotHCqh3D8n9MlO5EtXVOnsVw3aww4rFVzLnvQVpZnVI550T81m9fvIQSQHm14w\n",
       "vR8NJcfhTR5ADhsKZGSqQ1FhS/H9/XDKrLbfM8z/FGhsWT3LpvFPAS0e6vPmij9s6eRUgsXOUw59\n",
       "lIRs0pH6hnSXol8AAACKAZ9xdEN/AAMi5HlEABO3u8aqs7cTU8zqyl/bcSPHtH+hff7BihDQfbVT\n",
       "u70thik/mI4rmo2tmHIvl/ISJ8jCBREyfFcP0kDc+89Sv3qQu5pJLy/RrSq+RBZmSg1sR8Mc5Be4\n",
       "JsTks8dQJ5cFqQR31lYNZYEtkFeaj3JPHcoQ46nS5cVW0GCoGQdMAAAAigGfc2pDfwADI1UWHrgA\n",
       "JopOB5YunDT5eh3WVRSe1otu/AWv+wId4Os6UluXjUVkGOafLnE0C3gde3+gT0Liq2Yo/KsVfffj\n",
       "CdgJnCg8S26PcGSKAnlx0R8cGhBZMdk7jwRSYiD48pumyHb0iSYxMDnPAg7f+o3LI88JBmZaDvbY\n",
       "E/VIuTrehvDpgAAAAQ9Bm3dJqEFsmUwId//+qZYABGFXhQAbvGybcyBKBDTXJt4ILwQRuaUBCliC\n",
       "FxRdo9AYD3NJJiUhhHeZULY57vvks3L5q1cf/DgUPKXKg22bkgCdC1v/ODr2UG+MQ41TEOT0jWLt\n",
       "TsheTg2nBu4ZMqFGTUfwtY9fIVpzIZAWnmTimAHZVSJlVibO/BKFdSqQrT1ZOKkoRBJc0rH9fhO/\n",
       "NUR7HwPjDhFgqy0Q3IX3gWzVL1tLiknXEt/9GrZGf2QivkTvn6zUV8oISZlWxxIjPbuG3dErQaTg\n",
       "8F7l4hiYvmKIUfa5F3H02e0UMjfMJFbqVccwnz/mtMybXM+H13m8IDZl1qWUbnLljk3y49wOf/Gh\n",
       "AAAAmkGflUUVLDf/AAMmWuAEy9A8VvyCoK9XRM4Pyc57ToxkB1q2lgKW6RbCXY8ziqrBbEdfw7SJ\n",
       "qeZCZzd6rLypcQXqkK7WO5q6nuH/tq2M26KBqzU9LqJ7+tdIYZfThzA2HjNMSvAWX3kLOD3aMWH5\n",
       "5ZXW7NKxullxfOmHnAUtg4+9NwJZeehoq2xuvzB3QBwzCRPfhTvNWJslIjYAAACbAZ+2akN/AAMc\n",
       "dfqYEdFj+AD2jlOjFeUHNf8/ba9rn5QxqUgd1pzMN7YtgiWcrmtttkiqSgxdJDbnAN5muFvhGB+K\n",
       "QDBO504C21G6oFOoKb5ujtsHk78WR92yp0MnJA3P3gh9NJHWI6zqqMt8WPiIRrW+drD419uJpPbA\n",
       "6dGfEZlRalXxR5B7yP02Ub3mbNDf/aBQi3HU0+l0YEEAAAFsQZu7SahBbJlMCHf//qmWAASA2moA\n",
       "0DgipDWbBZj5ZJk5BWy0OEVOllP37aHpv4gptbLI0q9VzGWY6HiuM6XULM9pE8na+wP6zLkP/qK2\n",
       "oiFuE69AxB2kz+Zy+f4rKu5jS2TUosfFk8jGKqXZYO6S/g1UcfDOr82cKDGzWl+Rn9CCaQlK7f/q\n",
       "M0Hd7ukY/8D8aDBDgKnap+iddmMxJbcMDC0vg2K0gppB1KiorZ69MeUY5GDeiiLYa7bcekNM1LC7\n",
       "rzVIR/8CDl6d/Anj/S5p4ULZGGGBTMAs6Ss52bClzMHR53TeGNDM7VmsSexqAE9M99+pVNM7yrgw\n",
       "MljOk+EWmPcEmrKuouOozaskKll//3SU2tdMNroJeYWmkrKdmI3v5d/WtktprnuDIEX6T6idVF/M\n",
       "7ossUpQ9+DAa7YceYQHwMzBPg1hsHI3O/81kOACuHxWIooWtW2fi2IpYJecRf7hAoJF/WaPJKO7h\n",
       "gQAAAIlBn9lFFSw7/wACQONAwQLEgA2jKnLNrronHF7ZS+SHhiS31UqkPvKFz0cOjAkjhJ/tbGTv\n",
       "QTtKOyQ9kSdDXM63+ySTWgKpJVva4k3VGpcZJZ5kebzDIB7dDf+zUsBXzyttLEFJ8fUZn8RZXG/8\n",
       "Gkrf35hfUaRBYgcQ8ESu3/MzYcClorhK42IWUAAAAJ8Bn/h0Q38AAziC9m7p02kAJDeWboGqFAMn\n",
       "Q4kPXkcr/LM/bi980+FGjJYU0kE0MYK+T6w3BNYz1MnEHXIKzvuxMymHf/6KiQaUccaoHVl9Oh1R\n",
       "m/BxzM39kFPEjz9DhebvZmyJAltbKX3a6OwAH2+Ni3pm2/t/RfCwAtxQz9eBYeMT3+AOI2IoTwns\n",
       "Iil6CcJJfaopQsj52HyNxCegbMEAAACtAZ/6akN/AAMfJKAFYLHHwAfFLVxhMKhKl5R0TDFFOCzU\n",
       "2DzrVgbSAcO+GmHRxuX/soWion51kNRmc82hrkmYw7GiE1eaJAwN30UfJNN4muwcayMxc1p8HCNU\n",
       "KI287vhYDWpRccc1jdplHWWnyfq8i9nLMv/ggZC3yufeCVrLN6DQPkkFjWPxSwZZ+srGfwBC2BQ4\n",
       "9nUSAnwQr20wske79axNw/Tht3/AI/0SDjgAAAFeQZv/SahBbJlMCCH//qpVAAEg5i2bgAQSzOKt\n",
       "SmQWtLji7N+jSnigl1WNo/X06A/XJtVQ7N+U6wV8m7o8b+PPN1q84USyb9yDzgAqxlCOsoiFYp2x\n",
       "3Fr7CsfQrv5RUSwOnkNOHc3R5TwzEHd8TZw5rxLDS26F3Tzp0GtCWDleWy0jPi+NwDkqJXAtFI24\n",
       "7oHiYSJvksOFfdRtAfPsUXJE2b4nGOyP6ZPKbaT+NWDVJB2EUYqhBVzUWvGdWd49YAxngdaA+9kQ\n",
       "7X/0wv1Ek7KtcVKzgxjwmnietStTqZweI297Ev8LvH/9OlGqq2sCwXfboMlFp6ZDx/qiLTG79EnM\n",
       "Lm3xxWRucscNobxuWIJ08JLTZvc+zPBBJHgV7/xr1AQ+UzurdWUzym344hUbcEAW60Bp/V6Ps+iS\n",
       "l2LM2bfsyaR/65h/lomp8sAJ7S6LRG8d5rtkshtZACWGkNYlcEEAAACwQZ4dRRUsO/8AAjJ8wANk\n",
       "xaLRRk+893a9IL1SS9qkCoA14CQrWcN4tG7kIsuTz6BukGIX0XCp7esU2L/7rtnwnMVJ7sVVvO+O\n",
       "jTVuvPZDFAGGcFpIySjAhn6vDCHrg8k0MYeGDFStEQdPEmkpJ/KnnnltF3p7nEvlvxpbwyHFwEM6\n",
       "/79feYpOlS6yC132I+VVpK0xR+DPoVx7KtOCxvz5BcnNgzalwHKFs4gr6qEUBx0AAAC2AZ48dEN/\n",
       "AAMjTbPvgA+ZF1t38ISp9ZxmRjRFagfyHrMG7zotLk4jzMOXleVqyhkQavDVLHl/9d+kZfawGtF3\n",
       "X/XeCbDxN0YnqmyH1zqpHIQHSTZ2woKzPmOy6sp9rX1BlwvSo3dlBd3QKIbUfMOmOnZnUy5vZOm8\n",
       "N9JlylAUdXK/Cn3qOUZQVolDjTCSfMhEwXIlFRBEqdYUFqM09XLOwM/iOY2cllHJAI51W7z37in+\n",
       "s6DVAccAAACPAZ4+akN/AAMi892+AD8wIJpGePItjH2bZw4JHjnV/fNtFK9JFmbblOIKXy3NdFpG\n",
       "1DxOK8DarMeEouz9OZEmQOgd+WQbLvpJls+sE1beFWwGRCxj/aYZ4yYrjeKRGtykQ9oXHoIbHcxL\n",
       "7B3esoH1TFNT7iBkxpgCjz/D4RHdPSyX4Id8TCaijrmb4RooOOAAAAIaQZojSahBbJlMCHf//qmW\n",
       "AASCcP/VgA0KqCbhfERkKm+/0wsL8dlAsDQPBlykTDWahXbeU4iPbegZGZ6F8V88SMRDjETcM/g4\n",
       "JB/Hw7moX6HQQi+3tLtA220KMByfkyjvWWpl43dzer5eyWuQfbhAyRLyoZikQ+nG8JwlLOltXiV4\n",
       "hvxDhCB65y9qvTZZcjgCrmGS+iHzCkg4KuSF2RHq2YnnZpEwaIy/rVFQdcW+tc9eIgPEBpZWu44j\n",
       "PElobysCDl2C1XQkHwCcQjLcyI4CV7wz3gjNH0QCVSmZsZ6XobJfIFUbG0+ZSEjIgSZtjYDTOulc\n",
       "UWC6nWfpPe5mOOtui5AQrsduKg7UkhBsPWfv3LitzgpvBC7SrG7snZxUQJg4fOkdla/3E/L+WYou\n",
       "0C5r96E3sRNMLAoO3/IlOiibKWhfynBXfItzjmaVW5RVwubI/xak8H2wqgTaTLsXLsY9BPXtkndM\n",
       "e9GN+ko2HVJ4ZhtExrB3IXrXKzeDuOmAm2eJCqs6HHDbdaIrNiFDURc5lelNQARXy4AJEtEt3+Mp\n",
       "P18aVqasB1S1LgT7L+qadL4gH8YFEdxEZtqQav+6vRiKZCkC3PHvbbgh/zE2VzhhPhvZQTstuZUA\n",
       "Ubu7m/OE4v7/s2BnCHGyGxA66XZHO6tc4gXVHuHPns03QdFuS009nPaxN7fefhmTIrjUcUIisMrc\n",
       "TjODfXI0LQPr0wAAAIZBnkFFFSw7/wACQR+8jNMdwAf0GDwCYAve8J0rmo1oHfzeF8Qr2DDVO2ud\n",
       "B/e06c39wjPkF25GG6BjV+YMk6dxHofn++HUZ9YnlNnKjXdUtj+cB4pet8vPj886HJYhv5WR3z01\n",
       "n61dMte/2SLT/J3i9rKH4tRS+dB0dC7V6qpMAA4vC+kNmAAAAMoBnmB0Q38AAyLmR+x+QAk3Oznb\n",
       "5y9d9nkcPurTC0uUVQqgliEIkNcEezwuDnE9PJZfU2Pcw37wlMPIj2oNRXunDXUkm40GjxJf3QO9\n",
       "U3rNFBV0aLC9GLs8GCeGbnrNlS0et1Lwqc5wLOqiyR1ZdJ3P6hnFBvelNieG1/YaMb7dzsi2njsx\n",
       "H3vRYTNjlbC51j7GnoNUeQEKqTFvfqB8W9Vw60d6yvgQ+dbpLdrz468aee1AaoqAqg6TZx8+GyrE\n",
       "m8LxffUHRHbZWxCxAAAAhAGeYmpDfwADOKaXjkgA/fixvFu3y6suSumq5FBoKlHK8cKyDzMh/ROt\n",
       "/R8etjiZPWmnhK/8cC0cn0qEeuMCWDh69FDel1jP/p5Tk8JatPZKi1471WlopFjqR2SyodT69mJc\n",
       "yZCnxBnHbuXWlTbLa04DNUek/R3OKasykRG4hwBO3liFgAAAAUdBmmdJqEFsmUwId//+qZYABIDj\n",
       "PQCpwzM3ljWZv2iwSlULDg61K1S1xORcanvy4oRtMgh1eLfQD+pkR/zePOzTermCSEjG3XD3BOOG\n",
       "vCZMqIDMtlXJcykzJd3xxj4p5VQX93C9iKBQYnWYwGrE4k8nlVU47yclK6aPV39dvoeJfk6TeZRM\n",
       "zPaN92sqBXiQK4VV7788/vZCWtA4oR6ztBFpL9pPUP0b4GFBSIFt+HtUH4o3bf8erSVb+TMHTY4B\n",
       "53tFtOFz0/tZ7aLgJ2yTyq2D9xwFdsCoJJrtOJjdQ3iQdD3wR9iJckc288S+7lGbGDoCewfH5V9t\n",
       "STjgPMoBqKw1fgBZF4TOx91qVnsi8Orha/Gxzgx6jvZG0BJTxEHFvt7Y/J5P9KY3Vi1zJHaUi9Lk\n",
       "QXGTNlmQfX8vVbmBNVsC2Yv+aK6ZmkEAAAC8QZ6FRRUsO/8AAjEhSoALi9gjv1Ls0EKa3XuV0sw9\n",
       "XjFIT+Go3Yh4TFSQnCFE45PcfnL1tRHT10K8Mq4zZvjIe75i4YdBe5oUkoOiLBTBdt67bhL///1d\n",
       "lQTrcRumPinrBaWvjwnrS5Nkwd7mojGowiibJvrAcr3K80TyzXhXiH0WONZVAnu9ZInvX49TS13E\n",
       "OzS+tHMt+68L7jzcu7hKCM/8R5joPsa/BhW4Mc7HrbR1N2/RWgivcROVIm8AAAChAZ6kdEN/AAMk\n",
       "Ky3ACaoyf7Mlvg8pA0l7ULU5Ee0cDUp0f3BYVRG4CijoOFiknUJz6Z1A5Yr17u75HawIaUecB+EG\n",
       "/U6BYUNT74gERGoDXv/Vm5YnsvSNTTiQae3kzTd+HgUw62Dblt5NQRQAB9/Y+qVUNgg/UHwR4Lis\n",
       "wqKcGX8tTDyjbje0iBHUg12giBIIrMK7YpdOBmzXv4/XqpXxB4UAAACkAZ6makN/AAMkX5yAE1e6\n",
       "d3EdvhJSodBypF0tkQZVggXTrunrQ+YWhSVqcr+LaCtTrHOmUNcb7cAx1lgfq0Zy38wdqBuwBWZs\n",
       "RCJQEJGUNJxf4/e76w2FeJl5FIuQengLuEBsyAK9GkgvLmMnildADMxF5BojEytp1up6NqB2Joh5\n",
       "kA7/jXaBbc+KjOXifrAO8y/G/F1c8m2MpjlB1xUaSu9Gg3sAAAESQZqrSahBbJlMCHf//qmWAARh\n",
       "VW0AF1XQFHUTwpXMps+w9JgHeI+574U5VUwL3+lOqPkyc3aWYB52y4PbCat0M77ITh1UOufK0RL7\n",
       "8ih7q4kLxpm6DXQiMY1Spsl6Wrm818MMms5xXho3SvKDCvAsfkM8HpUM+6+iEHpPZ1H+EqSEwlO/\n",
       "/SvDJSzZG5qqzPgQqOdl+E9zEcoVr2LGu1cM09dohS7uhvLZUwQ+BIXFAg0ZNEAjI4uO1H6BmOhZ\n",
       "3ER4jn4tX0kGTgMFdG9pk6bzIb9PeaDbTsKYA4P3Y6FDgHmnhElOCsKhCdJi6faJSq1r620HCHOj\n",
       "4Quoy4Ssxh93ZsYH/kQnl3Wvnz3zUg0KnVOuXAAAAJlBnslFFSw7/wACMTbioALqugBmPr1uiZ8N\n",
       "0UgiHnjLrZMTld+nfQRxlcGWCSdGfgqp92uCsQCIPyd53+ZnLqIE6kR9GrFROB2H49/3dtcFMqtL\n",
       "XJQ6bwrFoTvxH054DE5AU4gISDJRcHagocWKqNkUf5LCBuT42ar6eapKC3WO0YusYdD4odAyGTKt\n",
       "ikG6y59NASJazg4+FlAAAACWAZ7odEN/AAMj2JIAE47UsQSzl5O1ZA+npSw3HzBnsHamCyMpRBWb\n",
       "riCl/kPnLIpbaHhyfYMEVD2L8mAXOY/0Cixh7q+22bct5qmi3YUUfcKTqAc/F1ptPQo3rYTPLZC+\n",
       "b77/N9l7ki4Npcy/mk0abSPyZa9dh79mmYNgRBS/6x2RvJrsCWe1lUew9QhDLZSOhKwziaGfAAAA\n",
       "vgGe6mpDfwADJfcgA/MEOOt8ouKaBG36wHruDl5q8Skre2RcYj95avEjoTXzOD7vLKRlR48ueKvy\n",
       "7U18snyyZy7rER2yWhSU4Q2xoDbXFlcrw8Go9ho67bzNMAWAXOTRWNFnNltAtsAHSz2PN9sAbJPE\n",
       "JjNGboNl32e2xzUHpjQkCMf+xbUu9MJPRCIXzZTJhZmu6FqhupEj6vdaxDOx2m4isDxxaHS9sjDM\n",
       "eC/Hr+KR2E8oALWEbEeuZXzlE3AAAAEBQZrvSahBbJlMCHf//qmWAARnlfwn/KGkAVdH+GIiLmG/\n",
       "ymp/AnjnTBY5lk7M7/E7x1gOSm9WbY+pt7p2pFLjJbMwUKrHHtyeEN6kdIJqWha2f5gjF6xGeoOj\n",
       "f6ZT29afcHN7hcdhxsiAD+p4KBp+4dDtrF8P3ODIjOglXWoHMi2iFHGClRjS2dO+MEJIQ3GYRkwa\n",
       "aCtHB1gFBGGpJRL73rcdkrwBfYaK5iRkncJiZpvWRG2br5D96BFcxEk+AJsHIiO7ZutCgfzjeCY1\n",
       "eqbQeZYYymgYR2CHFP29RhzdXyFundYeRUURXJt+SucgoEHxQf/3aHLtaPgOOJia580EetAAAAC2\n",
       "QZ8NRRUsO/8AAjDnlQAQ3Qp/ZA6L+z2wWNxH7Khu9LK6SjEoOrc8C3dy1JIOomwgkwjvJDASmHl9\n",
       "PgEhcUOxORXSbk7F5qL9H/znl9ztpo5G6YtoTPfAL6wqhMS/mAnoJ6kdixUdbzUELdLJaU5/cXMl\n",
       "070oOiVt5//UDfxceMYAATIkcDU3mtwoslKmF8wtpfjulIwaUAh4Siyge0fW0ErZJXM7nCWQDlmW\n",
       "U0KPStZwJQFeFbEAAACZAZ8sdEN/AAMkiLcAJq95nLMjAHV3S3YuAYBxp79iO+S9cHfBzvymxnSk\n",
       "4gng8c70C2iFVUFJqKqV5rv2d+ZgFzbJCdijRa28R9ckdjWpsO8N0WV0xmoblq1YGfcfEvRIBI1L\n",
       "HCFtqlWGvNk/WMs84LpWvY22ojX/Ft1ZZg1aF+TDF4rUfFepNXrnKlWXa1WeI1mhFsMzX4wJAAAA\n",
       "gwGfLmpDfwADIvRJYOAEy+XdRMULalR1JDpO2fCiQcFO7eZIDKHG+4Wc/WVRVsv/r01jCjh1FxgX\n",
       "elEp4TpioeJ73Hc9OJfKT2PSAymQg2AQYmIi1WCVWJIN4q0rXiABgVlCUGLkLL1EgxVlAjnwknb2\n",
       "66VPBEYp4iMRxukMwUoBWEYFAAAA2kGbM0moQWyZTAh3//6plgAEZHwu0AN2UxuOrDQdvnMnXSuE\n",
       "7y4dznFcbPS02J20hEzzuggDLA/k4A/dLcsNdOPNh+sp7PVRUBGrslC48kGb93tF1prk/MEI4IS1\n",
       "jiL+7Frgat1gEcdHulWGg2XIOBsS1c1bQbboIC3lzHGNm1M0xtj0kILRW9ahPnjVidg0hjIWUeb/\n",
       "T8XjrtT1bDXAtpqJHlELIOdFeiK99eqyOeHHDmvrPaft4LIx1Vti6StumYs+VAdyBEuAqYO/1B3p\n",
       "KHt40WJ6W/7ZMANSAAAAgUGfUUUVLDv/AAIxIUqACG0WP1iKW2ptnKfq1jL3L0j4bgobbf9+T8bi\n",
       "TaVrv/6Zh2kHb/V9u86ned/LJGYfQK4aeD+F7poJARZhOS/yBXvxIO9H4wC/BHB+g/ZawydSJ4kL\n",
       "gfiMwd/DpW+Kab3kvZH6QolaquKcQhK22H8iNJMVMAAAAKcBn3B0Q38AAxtGRSAE1e7xrWmYnOET\n",
       "SDBV9X5IbnYororYiSESTaPkOiRVbo5/Xxc4Yj+7Y3RFK18z/9x+iooLOHiig1gs4DpQvfWTYAmE\n",
       "vB+14jOrVFow0x25J6De+uyQjtUPS/0yGyzfwNhPwYPL3oLvmXaUTHfFQO6f3Mpc6R07JEWPP3ni\n",
       "+nxJFqjOAkSR6DnvLCGx0IgwYW9ew3sAxRfBq5BqQQAAAK0Bn3JqQ38AAyL6xhwAmZEf1h6O2lYd\n",
       "0wv3d6wRaOfqiEtPQ17kCeCRorPPnHHnNS+y0lf6kDCrS16nsjVMi78Dh6azDVnsydXk8nBcOqMr\n",
       "0b6WQYWV2zB3uevSVMo4he3KMH4Z14ITc3QewDURRgf+2Hxhrwjvx8T0DzesdiEVks3eE6qkdbKs\n",
       "UjmnLXjSbuvKVObE/fgjHaXuNN5aOccpzwxi+oa2vqXxSAAakAAAAVpBm3dJqEFsmUwId//+qZYA\n",
       "BGeV/Dq2IoQgCN0iv34jKUxNBxA3yuhlPtboBXjkrhhUUTSfs2lNW72VkZQqL1DIyXlaMP7eig+c\n",
       "rKmTH3U9bB8DErCWrgGVF20Lk3+mKhvzQwLAA1ctPRCYumqdvmS3JUBe592oPMCtWcZ6z6IhvmNi\n",
       "pZi2K0Ayr6MMwAvuk4HpUdwYYjTRxUGtoiO8J+970X2GGkqHxNELk6zzpiATfaJOr2gFBuLYZd0n\n",
       "IW89c0QJndd4IRN5Ooa6ZPGUChmogtmrswrSQD32SLtlnle7t/uY4lN2BWOtudmOXXAiTHrhxUZ7\n",
       "n9QHDSlOnCOKOPqSuBk0IczMnUtbcU9p7GcYhDUGX5Blz7julCobpIGwdDVl99mjoXT7IpJCyf67\n",
       "p9os0S8mzq8Rmri+jWbOy/KNuA/LjoNg9ySwADfBuYsefBbZ80/9/YKg7SA4AAAAukGflUUVLDv/\n",
       "AAIxNuKgAuq6AQrnVlhZjR181DW61ZZ2JvPp8wjaap0e8k2HpE8xbE9sncmYbZB2+i5fl/uvuBa8\n",
       "ufx5wb/RUUoV1MXuZdMYJ6FgFQN9XQN49SJcFiZFO/8Y5br6iRmu93l8lFC6+GRKI1vPL3kI9ml7\n",
       "/IUXYkH2J/PxKSFyGOZIqKMUyAWvM61iM5nuHDL4qLrJKO9Zj428teLrTIgzLimWqaZN2rrxqHkI\n",
       "OJjqrr6DFwAAALEBn7R0Q38AAyKVAw4AS5RmngxDH1gPLHD7zq/zRimWrUJuadqVOuejZU486+5d\n",
       "901U1e3aA57ReQh6bbZbnhGNQii1SsJ/1xL0mURO5+/UGCipk7zh4Cs10kOfvvdslt1YFm+teM9e\n",
       "+uXmlbdtDzsFpgpPguOHxV5ShrDyMdVJkFYT3I+rYEHr5ZIfdsBsLnDggsYOcsJepirXwgUwtZI+\n",
       "gi07Doa3qbsE4+LA/0c6BiwAAAClAZ+2akN/AAMjVvaCkACce7pjBMnxSUkcpO0SVVPfaiwGZVWm\n",
       "Vmkg9b6GjL/l3RBtnZu5pAzR6w2nPi4MVUgWS4+/oqKUe3UCs/90fc/uRR6LI93u0gGjxJC42o/i\n",
       "IPIp2WfUPsSii5lgeaVQbfR1eBdb2DS09FqGu1Mmdi+LtofCIdI2ryk2oEFeqBLlpgUjnORNF2VF\n",
       "QY7dLZGEEtkOWik4T4PXAAABYUGbu0moQWyZTAh3//6plgAEYdKVACupW3mdr7SlXe1w4MwlbMSg\n",
       "zN9HIIJqJi2R1z/0A/woEn1LF6aiwUldC38xZd829Jl6DnNTmKK/8/qVvYLFQ3E1Ei8of7aOrFfS\n",
       "j+S5S9JrE66Sly847eX1wCkxLhh8gfX3dodgpfhzpEyQE41yycoqpUZBz99ZVc9ZKM7UVPOi9R75\n",
       "cKNFJnmeENNDmlFKuAdru8gJx3RyW0lMvWi4QHpWzTGADEZbkzF/rnlWoxUbbruDG7p2EO84X/2f\n",
       "1LtDhqHCF1fCf2Pl4TZ/cINcL87jO7MuW0G+W+YMFkohAIb+uL5zwzpjdyBvULvluPTYniDUZojZ\n",
       "7xjv8x+CTpk5hkJRc+CXxq/tEOW4n+MN8nezV6J441q+Bi81Updib3k3IJoA+OIr26SS2Tq7jpe6\n",
       "bNtVWqWHHHd9WuAo0hzhS5e3rGEvIZDWsc4O8F6BAAAAsUGf2UUVLDv/AAIvseBQAXF7sTSOF2Ri\n",
       "FNbr3K6WYe546DIbQgWpyN8AmZbvpQpyaE7U8FufpFqlKfH5+1NjgBLPFzeGJkrRLLplJgkvaKX/\n",
       "8tGGFsLhY6HuI4XgbSoqZUgZ35HGFF5xE8bakvqFKa6SADIwiLCSGOThJsSsWkSz+OcRT+Y9GARK\n",
       "7PCSVmm40QmGUhVIa1+vYWoRr1dZJSKG+dT2FLMt29Km5pHesW8W0AAAAJ8Bn/h0Q38AAyQrLcAJ\n",
       "qjJ/sycSDg3RPgjUEU4460lv+YgWVRKI3bVTM2aPeODmIQ8zjcfDBAeFpkDlMC+JKqJ28hUUpi2g\n",
       "fvhlrnKAtJnchqXcrDJToG9E38piy24OPGPz8nJ8/z0NrgdB8puyVw0H8kBYIyZwoHYKeGd4M+9P\n",
       "r/CHsvvyBZ48DqtdB787991+BFI1qo/bCDFlW6bAGfEAAACkAZ/6akN/AAMkX5yAE1e6d3EdvhJS\n",
       "odBypF0uOeJ8gA0MVeuNoe5ImXALtPHxVRYBv1tXoHxPs+WGx44UCv6QGwRnyAHzh6c/PDBX3n5y\n",
       "lEAKc835tbInrZYUBAnUdM5Aw719NuYGkgD4zcJxPz/5iXijXMSa0H3UXKDWd2R1fo57foeIxaJW\n",
       "0DlfqVCDsB7CTkcxhV/gQ4W41eWux8+5CYKqgwIAAAEnQZv/SahBbJlMCHf//qmWAARhVW0AIyug\n",
       "KOy9OwpnBtDn034HG5fIDTo1HUkLsy90/gRLkomZgCAkdlye7KuATaCELQsSe9HySfGgoV4y9P+z\n",
       "r3kMKVNQwzBpzjHLoK9/r2z9lGQgsuKZ0ZQ7EkqZDg9+Slf/tARJdceklTJ1gIBFjKC/oro2zNjJ\n",
       "mlyqQboMPKxDVC+v+J4/vD2zTdEy4NleaUt5aMejS5SAi17U3iu7dGBlE3ZIMWQgLr1VMBgFqlY1\n",
       "Q/YbPKwdxR8W/FZw8fGUlfmDO4QWEo1n9cuZAdf7lXG1kKhFeYP41OcVjPiCSnTE9pESNNAgIi+V\n",
       "MDlIzTtoVyNgPEh/IJYgZXyAj9mx+2tJya8DFzFYR2F273dlW+hhQXEfWQAAAIhBnh1FFSw7/wAC\n",
       "KjuAoALqugBmPr1uiZ8O9IJfHnm7hdldxLwg/cV+UopAjn1HipL4DovTrT/9mjRmGmtwiL7H0Tda\n",
       "qvvOHqGafSsMsl2iCNVbfeGghKKJfdbnacfa3/QTPAvdwlAMFdERatdfU8nUXsPYt4JPiChF54+j\n",
       "SaiGfNCsJXMxE8JPAAAAswGePHRDfwADI9iSABOO1LEEs5eTuDfH6erpn6tu3+wdqYLIxMmixHTE\n",
       "/U0BqKgxy20JKUUG7y+lIvyYBkgzFPswif0194D8OQbXJWfkDHIjKPseFlr/UpRah5Rkr2/L5il4\n",
       "juhtzmbNG124pQLlf+6O54JhykZj+ySdBDO9fxufEwz2FKA1eRefFn6SuzDQEfKEN/8GND/3ovMG\n",
       "MJuMOBl5WcVfhBOJkLXiV+3/VBbtKkXcAAAAvwGePmpDfwADJfcgA/MEOOt8ouKaBG36vKUceNj8\n",
       "kget7ZFxiT3dRWR7N64ZZj4LJMTqo7Va0cgteMe74Joo68X5TIVVSIgq579uosT/KOdBZIArnkpa\n",
       "nJgjFRUyPJ2GT/3ZVy4K1+G2S5ECfqC5r81DCVJU8tyFQB+S38bbpbredMiKmLeNklXuziRBEHCC\n",
       "WzuE2f+1aeN261AMuZxg03BS19nCSHtHUBOFzlrynxfIpuRuxlWgAwjoEUDWELuAAAABskGaI0mo\n",
       "QWyZTAh3//6plgAEYuc6mAEfIWVStPNAubopqX/79ZrK0GJgfaShDSZlBc0TAcmftR0wdmKvH6o3\n",
       "TLasOTq5DK00eG/hZUrS5QG/4Yb3H3/dA+NZPYJhxPMtCVxJK3ieKI+R59M9ZlPEaR82w8gXP6Be\n",
       "MiX3/RSs+66KT5DMxW2DFqEFGKIxFc8Sn/duaBDUF1SVgWnXA/uKFDf02v//gAJEuiIoJ4La9/4Y\n",
       "bmxWlGyO9H325i2tmpT35gwx/nW/jVh2izzCTfr86NUwJiP6NkdCBczXqVkmxvBk3jJP9Ukp8rG9\n",
       "R2jj/teRO+MzvX/uA0W2sp75aZONDh04E5uXlcqrOykPWV2YpZ5wIZp29iOFnNf6Veel2qTnIfQ9\n",
       "zTGH2+21q8KKD4RftGSpkMbsbgnfA3TpfbhSXyVgNJm3r4uM5o/thsTxpJ85QQQT/boWIo+pBlms\n",
       "YR3BaF4opSKZtm2T8xCASAYlXSPKz1Xk2U1WsW47THOLv+M8ouStnrSPE1Ms8nHHT1A4hQkLmh06\n",
       "S2g8Zoh0AJYMFzv9pQNV9AVzJHy3cj9N0sfEIVvpAAAA3kGeQUUVLDv/AAIw55UAE4f5Th0bm/an\n",
       "n/xkXVt+tX4i++0YGmPasFSf9ll50slPCG1kakuiLXnOs8GAo9sGPNOppOqALQFEEbE2ggGZ+P8l\n",
       "0WZtT8DaHq7NiX/7k61fNlhRZSWD6QFm9BvWT5uYOGlKPxr0BljJOzgFzjxFeBe1n/wUg86qupK/\n",
       "yVpybvXjiBPWtMILhiQfWqZS9+MajBxP8K/7GI9Iu26reVMMQVTcttld4G5FbzhnirtghQrw+umE\n",
       "a6koJnDvc/b+oB+LIWAAV31Vlx+9pNW+b3CggAAAAKYBnmB0Q38AAySItwAmr3mctor4MrFvHTER\n",
       "ImGGUmKXU9icmOW7a09AJ4+Owk82sSCMO1juQK57etZ9Aj0lVxJe84fVPviFybwNFS0+sZJWpPto\n",
       "UTj53d/b4YIELCigr6Hx5fGBjT2SetFOnQ2PoamiXqeoVhJJxUhnmh7M2/HGmcCk7KspqIV/CLfQ\n",
       "m/KkU7eBsqqHJ8okB3e01mYwNrXrYBGSJIXdAAAAlwGeYmpDfwADJfcgA/OP0V7MWYN3iLh0BaFn\n",
       "Nam8fHMrDwtieXlPGx9zXMWrbv3/NivWp9pJnBH1Csl4eVK+IPlUIwF0mCvz9E/cKtt+1QLOsZQK\n",
       "it3Q+3jNLFnP2QxRPBd6/UKE9nTta+Or51mS8PpOAf94YWy17hdw1OjKGnGKjLgWKoZNq+B80lXQ\n",
       "AzYIxx3EGfJDCFgAAAEIQZpnSahBbJlMCHf//qmWAARhVW0AG7j/yyC0udUFIgKkwaCBRI1kpOol\n",
       "SuddG5BMHSGApANTUr1J+4rMLPOsTDJbRsARXDr32wpCpcxVOgBITpZYv7fahVO8e3mz1rMPHXqU\n",
       "IgV0tBneDVwChMgkitmKYjd373jMOucOBsT2wBfrmOvcXnlf5IvxMWSVVxf2wE0qVmjqfUE6CmKH\n",
       "Uti8ojnhsA2o5lzMTL4BXksjNFxyDTXdBOwvzT3+tinvceyti3FMakj4xvaB+tcyiuMDJIgSUVa+\n",
       "lqgvbyzrE5OAsFUrOGO5GzTWDW6s6vogLgtkI0QxV9RUw6+z4gGJ6UQnzFtrkWupxX25AAAAkkGe\n",
       "hUUVLDv/AAIyKqACHEnHGA6mjka2yOGLWqRJL4u+rQKVS/9kQ1mtMc9i8ZBwxR8qV4gCCUZTjaVg\n",
       "DqMP0K1bk2s74XNRQiVlQ1Tsdq/zEMT0FFETmX9cdiEyKiyaBSFFasJayq/qda9FX5lGaDp8+10O\n",
       "BLdH1SQbvjVOGGZL0dILcDNT6jjhyhE/5Ci1MwYtAAAAewGepHRDfwADJIi3ACaowcZtAihAJKIN\n",
       "y+2roHSFJ6w6V1dXz/7n+k7WXGIgBomv6W43fYjd8xLPJZ8eEVFldd0pbGC1U9KHFYnCj4RC4XwW\n",
       "05YKF7mqGXfsNdfy0ZpE2ZsEGn03DzyFAXBEgaM225pbf2RlQLZpaiUTcQAAAI0BnqZqQ38AAyQF\n",
       "uQAmXaliCaPIRVY5JG8clC09eMMT2DtS+O24jlaHixpuWv4TBu0+xyttF9vzKiZlWYYLiA1Mztdv\n",
       "ESHwhUnPxZsObCnzW15Fk9MlSARB9qEZUH57ghKiWB6cjoDPd3C3dEPqs8RihC+r3+06HecKVcp4\n",
       "cGBOLgJFg2CmcpC4mOxXwncAAAFkQZqrSahBbJlMCHf//qmWAARnlfw60fvukAVdLSuNVeYx4DZP\n",
       "gGVjA/jCieatMLXNDCo0NNQOd635wt5PtNhUQG/eQ1i1o2h9W13ndLM89TgcqZz3kDNq7sd3YBvG\n",
       "DpMaz1y7juJ4tXHh7liinsS8ObaK3g9v3pNFC8poD8xLXi7fnHGO34gcyaPygGtaFw/GeD+XqAcL\n",
       "Ysa1y24Y/8Byby1LnUxIDNtdlB5Y1/5ZYw0M9Pajq4uVQ8W+6bmd29auUM6z6WT4O5AmizToGedf\n",
       "NgAwo4OFw5MwbAXMDExEPc2U29nfFkcz7skUF3cNmDJqpiMabPRfap2DOWstzouWRhCqt9sVr1Bn\n",
       "3/w1BZv07Ybqk7bFDG8KKk1OPCrnr/3Xrni8rJrMhG/QXYarSKodtSg96RLmv2Gpl4IJW6Kz64K1\n",
       "VlDPcK1BpXRdkjzUC8Xiox18gzrvVD10ec6SjEth89LUA44AAACrQZ7JRRUsO/8AAjE24qAC6roC\n",
       "ZYK4CMaTwsViK9Yg2zdjchY9y7kGXn+P/lqR6vQWnHJLfca1MWBAZ8X5208VcfAuiRj71QQHU10V\n",
       "Fuagv2LHUTj0FZVNsDXN5JSk2p+8VR2zRlNZGcD3EEmT/B+e4Td8piMNJdhTkk0L0t34Zohf6KFU\n",
       "9EF1ABBPhBwhmhY3w2b8Pf8sYOt0bEQTXRFZvzjy1TpsMpiFAMCAAAAAlgGe6HRDfwADJfcgA/MD\n",
       "LiDCV9GPPzeUshK2DxwrDyhOewpzcf7u5gcFiF2yYVWq8w5GtB18s/8GvhN3MBVw5B6ksANQXCd+\n",
       "2DjOSzinFXFuDf0P/RUWQc7Zkel3a+3U4F2gqrwnl1VajL6ZZKmK/kfJjaf4rK7T3KzzsBrEYNzQ\n",
       "zxi8G0e06mVDdwNhSbF1FzpPxID7gQAAAHQBnupqQ38AAySnckAH4icrC51YKENWF9fwOEtMFMOQ\n",
       "8q0i+YkwUDqUZWQEFqsh/UYaAuWkiy7BHd1t9vCCKi3DKyPsoAJS21Mc3CnyMhzkwJvy+UfrrG6y\n",
       "nz0PB2EaMTw2jF2RpfJY8jVCbnH80BNGTHvipgAAAOtBmu5JqEFsmUwIIf/+qlUAASB1vGADhKyk\n",
       "5aCDrUaa1PrpMbNxpjUEtjXWcZYkXRFsBPujSls0171yCAXRSSeUhbiO5M9fOao2lA4v5uYxMhg/\n",
       "jUvVC939ggHFydIuYghgdHcwMevU/HGBS48hNNRzGvjRTVhlQH5xlqM/CSa8mkoo1rQ+B67gmD/B\n",
       "wyn9z1/LwB7vRhntbrfbaBR2rQSiyXoP7xH3X4+dM25UwzFLus4xdl1D0LhowibDFHs3jtLfFK1f\n",
       "BB1uO2o3MSot+A7qEn9nIV++9X3yGW4MyRO4SVZ4LroOjVyhCtzAAAAAnUGfDEUVLDf/AAMl9yAD\n",
       "84ZBBhgCyPG0BX/IVPxMpHW/hTmd8AAOCDoYfxWKH/G/AWSPmuBjFPYlrL+p5SxrUeHnY/3UcIsh\n",
       "ZvcizgeLmuyZLR5fKi4r55tkewDXqPTyRl9Izo0GVtBvRev2qQf2xNaMzSaGYCJwXI0i7gc/9VLT\n",
       "vWVVOyQEnSvyoiK/pH0fu3cch1+kwONlzrgxMScAAACFAZ8takN/AAMkBbkAJq9edZvNVuy7AbBc\n",
       "D8MPlQypRun+VCnYrANbP/Zelg7GKKbCtUMWYFWgD9Yrf/vSLC7bGnTI7/1FtexrzJMRDR9cVS+b\n",
       "nsrft7A8B0oXmFMtBBOV+AomDAFChiU9NWpJJKyz+h1kB4hQaITCotj09AsrqD97c5kF3QAAAPBB\n",
       "mzJJqEFsmUwIb//+p4QACKl83AEQgo29fLI0WHfpH6CqX8Gw+hcRS3tz1F+zmSb/SiYC0Brjum7x\n",
       "RveHVbGXSv9ovnD1rFhu/ueBIl0VobT8GpRCCAcrzlTfTTxDbsUq8IlMQc7YWHIvwu6+ROZNPBh2\n",
       "r7v/5Pm674pg5prKIbXdXpvPQhTeS0ziTh89fmUOATrsKqEerX51YH99bwfKxm20FvZZKX9KxVcw\n",
       "/l1nKMpq+tgFhifUl5JzpvXJN1QNuhmaD0lrjS3M4d7KrByWK+mPaNCQgjCwINrghSKHqKznqEMX\n",
       "LG48sYNudtD2BcEAAACUQZ9QRRUsO/8AAjIqoALfRtG8/v2jjStKPz+cesxAmZ9Jp/GZz9xRD/hz\n",
       "3A7HhWlMvXJkq75v4Z4FwuJnfDS5foBdgqFnlZ+S3OriT1vz7WxT7YWvwCK7pQFFCOR4L8orOm5N\n",
       "OpWWuP+QeFzzHREuZXImSPBOc50G4kQDief69FZqk+h1i7TQbcJxP4FqWY9t8VDqgAAAAKcBn290\n",
       "Q38AAyX3IAPzWm6n935h2A6+Q0DF6ZTvUgn480gp5xJKPl/2pL6D1FkE8Hz4ZmVYugihvN3ztyi0\n",
       "+kctrj3rwqIJzZatUZDiJtTKZzGUtmUQXI74JsonGklOzsJ0U84iKCssd187G6dgFIQ5CBrFYPmE\n",
       "32guIZB/IgmlK8TFMl7zJpDUY66YJn8y5KQLKJyt5FiKeFO7icu8/+gBipVI9+mB6wAAAKQBn3Fq\n",
       "Q38AAxqmXnACWtXdkAAikkFykPWb777VP+e9djohrvaf3zGQtoCLRCeuYJ0r2heeX+LGfk+pU5wh\n",
       "mEvCsjEKlWF7EPI0N1QLrRkBmFB3rSRPUr3F0Q51hXVbR0CsLdXssVNQdJ01E+9QQULffBOlTyTo\n",
       "89VVgzLDpgnwcFI8AlrZOLUmPAMMK1j/Sq3828+6rsT9dz3H6MvpDTarrQxDwQAAAO9Bm3RJqEFs\n",
       "mUwUTDv//qmWAARhf6iACWroCjiy+v+EG3g9UgHn7B/aa/ejBL6Lm3cz8a4gecrlqncZBWAKv533\n",
       "rmlSEQtyJ8BM5449xBh/mqpEzSxMv4Y4Ey497UR630uCO/tfIIagG48T0WI6Yi0faZSUxAaYhGn7\n",
       "p99QmI4RBq/eexSOfmeL85WQOygnWLziTBv/1wzYS/yh4ZQUaAJy/cCcpUx9k7RClTFmyvzITjzj\n",
       "qG0wX2tSx/ACTfznHIAGfXJCBEOdUpf4fRGCyVmPRdU6UO79jflDOuZYnRSZpRe8CiImy8kCyRZ3\n",
       "bQ8JeAAAAJgBn5NqQ38AAyQFuQAmr3mctrc8QM0A5axyjp4f+XSusU63rmJcjOEAeg+/pnw2Bj7w\n",
       "2b9dSAQ6pOBLnl7DUyFX8f4EiAKzZ5PwIOI6lSwUCQ49uUBAcz2qvdOrV6KvP1BB5/6LVzDpCUnw\n",
       "Pyd4Dv5IyNHydWw2bp4xJ+s3BPIpbKu2WhaERqaAUJGU2Hp6QRCDG2pxRKAtoAAAAVRBm5dJ4QpS\n",
       "ZTAhv/6nhAAIqYvkARCCzWSJto2K8WaPI8RMUXw7TOM2uCfLyoH4m2H2gfxHiO102cmiyTlRA00G\n",
       "6y+UzVdrrtbY1t6FF3sK+CkSPoJKKUs6c0R5uk7evgxgIYQQ+b9d2/zQYtvZl4sgka+F9NGj3TsY\n",
       "7+f3IEALS74tKySvGlW6KDT8pbzp6lgNHXzWI6FtnHgYm0XLD01z/AVHitcLcJxwNScP/8AA32nT\n",
       "iU9UHR+tzJgmY0kjygtl8WkPGaLAM/xkNbIscq6LwCAmgIiRbJLpxw29/R3Y8T21JZqKeE+Ae8iU\n",
       "tcyJsAh86KFZ1T+7ytjTkTzrEswcwN7KF+WOi2sjfYr75XDTjf1iw2ALfaCCyoFegXb+qrGgUTV3\n",
       "LEPHnyUHnxhv/pTZTab6RvCtsrcCNea/rQQjEw3gHFzjKIXC7dbkpdKM/PuBD2DxAAAA2UGftUU0\n",
       "TDf/AAMkBbkAJq95VEGQgdgRhig8C9xLbhc5XpHzp2swqbL982B6j+zUqZCS+3zWR8VdXXABnNGz\n",
       "zm9h7KRoIKnk/os0+6KjAEEQwBwq3pasNFPAOqgRNE3DzlOarOinIdY8pI+ByNi7KYjdtd55oK8v\n",
       "mdyw2y+iKYWsIGJoOL8ZRCjhLsOOLnuUriL/5wMOeH9jvQxBWZBy4LnZPW+4caT0uhzf/WNzoonw\n",
       "EMo5+n4kpc5DAD3eF8oJwrqNgdy0mdSKS6ArDrhdzUEDHToJyDiEUEAAAADJAZ/WakN/AAMkBbkA\n",
       "JmRMAohupziBxgKmjg2vPmZa4jOZqSdxLyrGAcZwZFI+OXebX6/vdt/DR3iV47Pa6vVWI8+dBW3y\n",
       "48jad1P0HgJ3Ic/5sIqMAVKSp1dDRyM0WJsmaqrjOTuHT1bEttTMdnkGc3LEvcuIxESfGWk02ii6\n",
       "vnNUdvkxDTeV//4pQyKfUWCu7iaU69ysr+q1uR/EPPYdALsslUjaTsbWGOKKXDKAtFAcgs+SbLdA\n",
       "4Qfrt5VLmq1rXYsAB+PbYQgZAAABW0Gb2UmoQWiZTBTw7/6plgAEYNpqADhJaVyDK732xMsbaqDr\n",
       "BLfxhmdR2XMY8Sng1fJYQV6EaYaXVZ7Mwa0K98W8ZhLcU6Ya+10Bnw8oke2pj84iMQ7ezvDKnw3G\n",
       "TVUP4u6coe0Fe2LOS915n1HmcRaopqSzaYvwpy3ZhKj36UHO+ib7FPxiVAEEl7cut6oCav4PWo8I\n",
       "QBg3qcFRbLBBT55QKK5g8FR5IpeIXTWosecULJbOuzEgJO+h8Xu0aO9Wf9Tk2mynujPj0tHyyuzh\n",
       "MbuQEhFuaCgPfX+NDZ8nSZiKL3Z52kPcW20+IKqzoKo01bklo24dJMiXULsT2eCGNe0MtcC0Tkli\n",
       "UiepTTqktFaOuHBowXCaF5yfhFDxoBtwTOzCzEUJxLaF8LpG8jD+dIPUkRY2iZeDN50/fAOzHSVf\n",
       "vtxw/eoCdmH7YZgPFkK5JkkKCtgDLOjD2tbxAAAAygGf+GpDfwADJF+cgBNUYNgwd5aOORqVj78n\n",
       "g4nuh5frj6Lw8gt7OFJdNvE0LkcXy8oFd8qGj7/TepcJnhGBe7NtmxUG+rgX5D1//n5qa1uZvgOf\n",
       "Ngg/kRCriGbMhqPeYc6vKDfR89zL13zVtXAO2nnzEfALV7OpKK3jZdImXEvUV1jFemQ4i36VR4ec\n",
       "jNh09Y9PobuW7GUuXwY1KWrnA0dVjpa/QqFfgisbXCWoaLRlRMAT2WNsm6F04Z2tTqvzYPT3A8nO\n",
       "+3koIGAAAAC8QZv9SeEKUmUwIb/+p4QACKrb24ATVycRiZ57YnbyexPBKinmRDSHp9AmIRMV7TnV\n",
       "EJs130bmSEp0WJmgXaGeiv4EtjQea+YmWotiyvqjfmR6Eks3yLqh2ctKv7qs12f4lhxceGrMTLJb\n",
       "YjzTAAptifu+mloMK9dgM5aAkc4Mcah9Ki6E+cHDpKKYNXivXmutO8NRDVTmvdRHzOZxKEZe3pk+\n",
       "e3QtyiBEeP+FxtDxHGWQhJ1hbtWgsWFlTmEAAADyQZ4bRTRMO/8AAjE24qAC4aZSFBno62bzt9Au\n",
       "Q3GYgik562Q7zqE88rxLZoDTPmPs4L3T9Zp1tzXc+mqIMvG9up3o96aN5gYwDh5eUubpJfuSiN1N\n",
       "xYzD/CKhKaS8DrAzWFk5eWpdVHNfmOgJoa4Okmo+/yI6kKa2bRWJ/8BjSjQBczOZVXdbF6MIcsJR\n",
       "3Z3okyFyBwgBy+stXtDvxbSOkZ5ENDbU8YE5TqM7NSSP20WPIO5O1iW1A/JRIrZCDAZOxjb0uR4u\n",
       "xkXpX/wu6sHOLBuk+F/1C9Kfj0OXoIqocuiFrU7TnIwIjuVxO8rU7+EgxoAAAADuAZ46dEN/AAMj\n",
       "2JIAEN7Uqz+kvr6FFe8eqvYv6OonsHaoPDPJlbSzQQ1h0PpbnecsgWXZjlGkzDjwK2dF+TAN+iQO\n",
       "mw0WTzUUuPGtf7Lr8/ivxzMs0kINL25aFhmQUE8U8aC78YYzlwNqenvsPIug7+0SPTMcssSz7gmn\n",
       "nDA5O1bl/6KiNRXUKc74/dEmZOpBD7+DDTdk7IqgxUWo3E1h2tuY78D2IfrlleAmDaOFBGUmp2Pc\n",
       "ZgK/jhfNue3Onmqsk/cuOFlkFOFkg6EVtz7AkJRGORdkwHYU1sXj00+is+X/r62GNauB8CszzaQ3\n",
       "4QAAANcBnjxqQ38AAyQFuQAmXyNlU7S+jHqwN3KkyDwV9+LlKq9hSeH+jO/U8F3EjUefD4HE3m/t\n",
       "Xh3hVh1GZiFpLwlcExLjSLsblq9omQe85dnWJa7I0Nx/ecRlV/ILDA/GC1oy38MGsYWBVk7J9V5R\n",
       "1tGe4Edh/XYGp/SXg0YlomqCZRVLRt9CDIfis1JopU5yiK+TB0/bTcOBls0gg89K4gcUvRTIBjrr\n",
       "eO3zHtd2duULo9Vb4saVpP714S8wyn1NL/HgBVwbfguGHx3Rc4hQl3DDJdtrO6ENCQAACn5tb292\n",
       "AAAAbG12aGQAAAAAAAAAAAAAAAAAAAPoAAA9uAABAAABAAAAAAAAAAAAAAAAAQAAAAAAAAAAAAAA\n",
       "AAAAAAEAAAAAAAAAAAAAAAAAAEAAAAAAAAAAAAAAAAAAAAAAAAAAAAAAAAAAAAAAAAACAAAJqHRy\n",
       "YWsAAABcdGtoZAAAAAMAAAAAAAAAAAAAAAEAAAAAAAA9uAAAAAAAAAAAAAAAAAAAAAAAAQAAAAAA\n",
       "AAAAAAAAAAAAAAEAAAAAAAAAAAAAAAAAAEAAAAACgAAAAeAAAAAAACRlZHRzAAAAHGVsc3QAAAAA\n",
       "AAAAAQAAPbgAAAgAAAEAAAAACSBtZGlhAAAAIG1kaGQAAAAAAAAAAAAAAAAAACgAAAJ4AFXEAAAA\n",
       "AAAtaGRscgAAAAAAAAAAdmlkZQAAAAAAAAAAAAAAAFZpZGVvSGFuZGxlcgAAAAjLbWluZgAAABR2\n",
       "bWhkAAAAAQAAAAAAAAAAAAAAJGRpbmYAAAAcZHJlZgAAAAAAAAABAAAADHVybCAAAAABAAAIi3N0\n",
       "YmwAAACzc3RzZAAAAAAAAAABAAAAo2F2YzEAAAAAAAAAAQAAAAAAAAAAAAAAAAAAAAACgAHgAEgA\n",
       "AABIAAAAAAAAAAEAAAAAAAAAAAAAAAAAAAAAAAAAAAAAAAAAAAAAAAAAAAAY//8AAAAxYXZjQwFk\n",
       "ABb/4QAYZ2QAFqzZQKA9oQAAAwABAAADABQPFi2WAQAGaOvjyyLAAAAAHHV1aWRraEDyXyRPxbo5\n",
       "pRvPAyPzAAAAAAAAABhzdHRzAAAAAAAAAAEAAACeAAAEAAAAABRzdHNzAAAAAAAAAAEAAAABAAAE\n",
       "6GN0dHMAAAAAAAAAmwAAAAEAAAgAAAAAAQAAFAAAAAABAAAIAAAAAAEAAAAAAAAAAQAABAAAAAAB\n",
       "AAAUAAAAAAEAAAgAAAAAAQAAAAAAAAABAAAEAAAAAAEAABQAAAAAAQAACAAAAAABAAAAAAAAAAEA\n",
       "AAQAAAAAAQAAFAAAAAABAAAIAAAAAAEAAAAAAAAAAQAABAAAAAABAAAUAAAAAAEAAAgAAAAAAQAA\n",
       "AAAAAAABAAAEAAAAAAEAABQAAAAAAQAACAAAAAABAAAAAAAAAAEAAAQAAAAAAQAAFAAAAAABAAAI\n",
       "AAAAAAEAAAAAAAAAAQAABAAAAAABAAAUAAAAAAEAAAgAAAAAAQAAAAAAAAABAAAEAAAAAAEAABQA\n",
       "AAAAAQAACAAAAAABAAAAAAAAAAEAAAQAAAAAAQAAFAAAAAABAAAIAAAAAAEAAAAAAAAAAQAABAAA\n",
       "AAABAAAUAAAAAAEAAAgAAAAAAQAAAAAAAAABAAAEAAAAAAEAABQAAAAAAQAACAAAAAABAAAAAAAA\n",
       "AAEAAAQAAAAAAQAAFAAAAAABAAAIAAAAAAEAAAAAAAAAAQAABAAAAAABAAAUAAAAAAEAAAgAAAAA\n",
       "AQAAAAAAAAABAAAEAAAAAAEAABQAAAAAAQAACAAAAAABAAAAAAAAAAEAAAQAAAAAAQAAFAAAAAAB\n",
       "AAAIAAAAAAEAAAAAAAAAAQAABAAAAAABAAAUAAAAAAEAAAgAAAAAAQAAAAAAAAABAAAEAAAAAAEA\n",
       "ABQAAAAAAQAACAAAAAABAAAAAAAAAAEAAAQAAAAAAQAAFAAAAAABAAAIAAAAAAEAAAAAAAAAAQAA\n",
       "BAAAAAABAAAUAAAAAAEAAAgAAAAAAQAAAAAAAAABAAAEAAAAAAEAABQAAAAAAQAACAAAAAABAAAA\n",
       "AAAAAAEAAAQAAAAAAQAAEAAAAAACAAAEAAAAAAEAABQAAAAAAQAACAAAAAABAAAAAAAAAAEAAAQA\n",
       "AAAAAQAAFAAAAAABAAAIAAAAAAEAAAAAAAAAAQAABAAAAAABAAAUAAAAAAEAAAgAAAAAAQAAAAAA\n",
       "AAABAAAEAAAAAAEAABQAAAAAAQAACAAAAAABAAAAAAAAAAEAAAQAAAAAAQAAFAAAAAABAAAIAAAA\n",
       "AAEAAAAAAAAAAQAABAAAAAABAAAUAAAAAAEAAAgAAAAAAQAAAAAAAAABAAAEAAAAAAEAABQAAAAA\n",
       "AQAACAAAAAABAAAAAAAAAAEAAAQAAAAAAQAAFAAAAAABAAAIAAAAAAEAAAAAAAAAAQAABAAAAAAB\n",
       "AAAUAAAAAAEAAAgAAAAAAQAAAAAAAAABAAAEAAAAAAEAABQAAAAAAQAACAAAAAABAAAAAAAAAAEA\n",
       "AAQAAAAAAQAAFAAAAAABAAAIAAAAAAEAAAAAAAAAAQAABAAAAAABAAAUAAAAAAEAAAgAAAAAAQAA\n",
       "AAAAAAABAAAEAAAAAAEAABQAAAAAAQAACAAAAAABAAAAAAAAAAEAAAQAAAAAAQAAEAAAAAACAAAE\n",
       "AAAAAAEAABQAAAAAAQAACAAAAAABAAAAAAAAAAEAAAQAAAAAAQAADAAAAAABAAAEAAAAAAEAABAA\n",
       "AAAAAgAABAAAAAABAAAMAAAAAAEAAAQAAAAAAQAAFAAAAAABAAAIAAAAAAEAAAAAAAAAAQAABAAA\n",
       "AAAcc3RzYwAAAAAAAAABAAAAAQAAAJ4AAAABAAACjHN0c3oAAAAAAAAAAAAAAJ4AAAb2AAAApgAA\n",
       "AFwAAABgAAAAYQAAAPEAAABvAAAAVwAAAFgAAAF6AAAATwAAAGEAAABQAAABJwAAAIYAAABuAAAA\n",
       "YQAAAbIAAACJAAAAWAAAAHkAAADRAAAAcwAAAGIAAABoAAABKAAAALUAAAB6AAAAeQAAAWsAAACg\n",
       "AAAAaQAAAIsAAAFgAAAAzAAAAJcAAACIAAABggAAANQAAAB+AAAAgAAAAUsAAACwAAAAgQAAAIIA\n",
       "AAEQAAAAngAAAIoAAACCAAABYAAAAI8AAACBAAAAegAAAQUAAACPAAAAtgAAAIQAAAFPAAAA4gAA\n",
       "AIwAAACmAAABRgAAALwAAACMAAAAkQAAAQwAAADBAAAAiAAAAIoAAAFnAAAA4wAAAIoAAACSAAAB\n",
       "GQAAALQAAACOAAAAhgAAAXYAAACfAAAAgAAAAIgAAAEvAAAAqwAAAI4AAACOAAABEwAAAJ4AAACf\n",
       "AAABcAAAAI0AAACjAAAAsQAAAWIAAAC0AAAAugAAAJMAAAIeAAAAigAAAM4AAACIAAABSwAAAMAA\n",
       "AAClAAAAqAAAARYAAACdAAAAmgAAAMIAAAEFAAAAugAAAJ0AAACHAAAA3gAAAIUAAACrAAAAsQAA\n",
       "AV4AAAC+AAAAtQAAAKkAAAFlAAAAtQAAAKMAAACoAAABKwAAAIwAAAC3AAAAwwAAAbYAAADiAAAA\n",
       "qgAAAJsAAAEMAAAAlgAAAH8AAACRAAABaAAAAK8AAACaAAAAeAAAAO8AAAChAAAAiQAAAPQAAACY\n",
       "AAAAqwAAAKgAAADzAAAAnAAAAVgAAADdAAAAzQAAAV8AAADOAAAAwAAAAPYAAADyAAAA2wAAABRz\n",
       "dGNvAAAAAAAAAAEAAAAsAAAAYnVkdGEAAABabWV0YQAAAAAAAAAhaGRscgAAAAAAAAAAbWRpcmFw\n",
       "cGwAAAAAAAAAAAAAAAAtaWxzdAAAACWpdG9vAAAAHWRhdGEAAAABAAAAAExhdmY1OC4yOS4xMDA=\n",
       "\">\n",
       "  Your browser does not support the video tag.\n",
       "</video>"
      ],
      "text/plain": [
       "<IPython.core.display.HTML object>"
      ]
     },
     "metadata": {},
     "output_type": "display_data"
    }
   ],
   "source": [
    "# アニメーションの描画\n",
    "fig, ax = plt.subplots(dpi=100)\n",
    "ax.set(xticks=[], yticks=[])\n",
    "\n",
    "# 各フレームの描画\n",
    "draw = []\n",
    "for i, f in enumerate(frames):\n",
    "    ims = plt.imshow(f)\n",
    "    txt = plt.text(20, 30, f\"frame #{i+1:d}\")\n",
    "    draw.append([ims, txt])\n",
    "\n",
    "# アニメーションの作成\n",
    "ani = ArtistAnimation(fig, draw, interval=100, blit=True)\n",
    "html = display.HTML(ani.to_html5_video())\n",
    "display.display(html)\n",
    "\n",
    "# Matplotlibのウィンドウを閉じる\n",
    "plt.close()"
   ]
  },
  {
   "cell_type": "code",
   "execution_count": 82,
   "metadata": {
    "editable": true,
    "slideshow": {
     "slide_type": ""
    },
    "tags": []
   },
   "outputs": [
    {
     "data": {
      "application/papermill.record/text/plain": "10000"
     },
     "metadata": {
      "scrapbook": {
       "mime_prefix": "application/papermill.record/",
       "name": "n_episodes"
      }
     },
     "output_type": "display_data"
    }
   ],
   "source": [
    "glue(\"n_episodes\", n_episodes, display=False)"
   ]
  },
  {
   "cell_type": "raw",
   "metadata": {
    "editable": true,
    "raw_mimetype": "",
    "slideshow": {
     "slide_type": ""
    },
    "tags": [
     "remove-input"
    ]
   },
   "source": [
    "今回は{glue}`n_episodes`エピソードしか学習を行なっていないが、それでもランダムの時と比較して、かなり長い時間に渡り振子を倒れないようにキープできていることが分かる。\n",
    "\n",
    "エピソードの数を増やしたり、$\\varepsilon$-greedy法以外の方法を用いた場合に、どのように学習結果が変化するかについては、ぜひ自信でコードを修正して試してみてほしい。"
   ]
  },
  {
   "cell_type": "markdown",
   "metadata": {
    "editable": true,
    "slideshow": {
     "slide_type": ""
    },
    "tags": [
     "hide-input"
    ]
   },
   "source": [
    "## 練習問題"
   ]
  },
  {
   "cell_type": "markdown",
   "metadata": {
    "editable": true,
    "slideshow": {
     "slide_type": ""
    },
    "tags": []
   },
   "source": [
    "- CartPole環境において、$\\varepsilon$-greedy法の部分をソフトマックス探索やUCB1値を用いた探索に置き換えて、学習の性能がどのように変化するかを調べよ。\n",
    "- CartPole環境は1フレームごとに報酬として常に1を返してくるが、この値を画面中央にCartがある場合に高い値になるように更新することで、できる限り画面の内側で振子を保つように学習方法を変更せよ。"
   ]
  },
  {
   "cell_type": "code",
   "execution_count": null,
   "metadata": {
    "editable": true,
    "slideshow": {
     "slide_type": ""
    },
    "tags": []
   },
   "outputs": [],
   "source": []
  }
 ],
 "metadata": {
  "kernelspec": {
   "display_name": "Python 3 (ipykernel)",
   "language": "python",
   "name": "python3"
  },
  "language_info": {
   "codemirror_mode": {
    "name": "ipython",
    "version": 3
   },
   "file_extension": ".py",
   "mimetype": "text/x-python",
   "name": "python",
   "nbconvert_exporter": "python",
   "pygments_lexer": "ipython3",
   "version": "3.11.4"
  }
 },
 "nbformat": 4,
 "nbformat_minor": 4
}

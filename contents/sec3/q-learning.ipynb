{
 "cells": [
  {
   "cell_type": "markdown",
   "metadata": {
    "editable": true,
    "slideshow": {
     "slide_type": ""
    },
    "tags": []
   },
   "source": [
    "(sec:q-learning)=\n",
    "# Q学習"
   ]
  },
  {
   "cell_type": "markdown",
   "metadata": {},
   "source": [
    "ここまでで扱った多腕バンディット問題は、取れる行動の種類が少なく、また、問題の状態が変化しない、という特徴があった。しかし、実際の問題は取れるべき行動の種類が多く (場合によっては連続変数)、また、ある時刻で取った行動により、行動を行う対象の状態が変化するのが一般的である。\n",
    "\n",
    "このような状況において用いられる強化学習の手法にQ学習がある。Q学習のQとは行動価値関数を表すQ値のQであり、とある状態$s$ (stateのs)において取った行動$a$ (actionのa)の価値を関数として、$Q(s, a)$のように定義する。\n",
    "\n",
    "このようなQ値を学習する方法はQ学習以外にもSARSA (state-action-reward-state-action)と呼ばれる方法もあるが、本節ではQ学習に絞って説明する。"
   ]
  },
  {
   "cell_type": "code",
   "execution_count": 1,
   "metadata": {
    "editable": true,
    "slideshow": {
     "slide_type": ""
    },
    "tags": []
   },
   "outputs": [],
   "source": [
    "\"\"\"\n",
    "下準備のコード\n",
    "\"\"\"\n",
    "\n",
    "import seaborn as sns\n",
    "import matplotlib\n",
    "import matplotlib.pyplot as plt\n",
    "from tqdm.notebook import tqdm\n",
    "\n",
    "# グラフの設定\n",
    "matplotlib.rcParams[\"figure.dpi\"] = 150\n",
    "sns.set(style=\"white\", palette=\"colorblind\")"
   ]
  },
  {
   "cell_type": "markdown",
   "metadata": {
    "editable": true,
    "slideshow": {
     "slide_type": ""
    },
    "tags": []
   },
   "source": [
    "## Q学習の理論"
   ]
  },
  {
   "cell_type": "markdown",
   "metadata": {},
   "source": [
    "Q学習では、時刻$t$における状態$s_t$と、その時に取った行動$a_t$および、その結果得られる報酬$r_t$ (rewardのr)を用いて、行動価値関数$Q$を学習していく。\n",
    "\n",
    "この行動価値関数を考える際に満たすべき性質として、とある状態$s_t$において行動$a_t$を取った結果$s_{t+1}$という状態に遷移するとして、その後、最適な行動をとり続けたときに得られる報酬の期待値と、行動$a_t$によって直接的に得られる報酬との和を行動価値関数$Q$として採用する。\n",
    "\n",
    "これを直接的に式として書き下すと以下のような定式化となる。\n",
    "\n",
    "$$\n",
    "Q(s_{t}, a_{t}) = R(s_{t}, a_{t}) + \\gamma \\max_{a'} Q(s_{t+1}, a')\n",
    "$$\n",
    "\n",
    "この式において$\\gamma$は割引因子(discount factor)と呼ばれる値で、$0 < \\gamma < 1$である。この式を用いて$Q(s_t, a_t)$を報酬関数$r_t = R(s_t, a_t)$だけを用いて書き下すと以下のようになることが分かる。\n",
    "\n",
    "$$\n",
    "Q(s_t, a_t) = r_t + \\gamma r_{t+1} + \\cdots + \\gamma^n r_{t+n} + \\cdots\n",
    "$$\n",
    "\n",
    "従って、各時刻$t$において得られる報酬の影響は時間の経過とともに少なくなり、$Q(s_t, a_t)$を例に取れば、この値は$r_t$の影響を最も強く受けるが、十分大きな$n$に対しては$r_{t + n}$の影響は無視して良いことが分かる。"
   ]
  },
  {
   "cell_type": "markdown",
   "metadata": {
    "editable": true,
    "slideshow": {
     "slide_type": ""
    },
    "tags": []
   },
   "source": [
    "## 倒立振子のバランシング"
   ]
  },
  {
   "cell_type": "markdown",
   "metadata": {
    "editable": true,
    "slideshow": {
     "slide_type": ""
    },
    "tags": []
   },
   "source": [
    "ここでは、単純な問題として倒立振子のバランスを取る問題について考える。倒立振子のシミュレータは[Gymnasium](https://gymnasium.farama.org/)というライブラリから簡単に使用することができる。\n",
    "\n",
    "試しに、倒立振子のゲーム環境である`CartPole-v1`を指定し、`gym.make`関数を用いてゲーム環境`env`を作成してみる。この際、`gym.make`関数の`render_mode`パラメータに`rbg_array`を指定すると、`env.render`関数によって画面の情報をNumPyの配列として得ることができるので、Matplotlibを用いて、初期状態を描画してみる。"
   ]
  },
  {
   "cell_type": "code",
   "execution_count": 2,
   "metadata": {
    "editable": true,
    "slideshow": {
     "slide_type": ""
    },
    "tags": []
   },
   "outputs": [],
   "source": [
    "import gymnasium as gym\n",
    "\n",
    "# ゲーム環境の作成\n",
    "env = gym.make(\"CartPole-v1\", render_mode=\"rgb_array\")\n",
    "\n",
    "# ゲーム環境のリセット\n",
    "obsrv = env.reset(seed=31415)\n",
    "\n",
    "# 現在の状態をRGB画像として取得する\n",
    "img = env.render()"
   ]
  },
  {
   "cell_type": "code",
   "execution_count": 3,
   "metadata": {
    "editable": true,
    "slideshow": {
     "slide_type": ""
    },
    "tags": [
     "hide-input"
    ]
   },
   "outputs": [
    {
     "data": {
      "image/png": "[encoded data removed]",
      "text/plain": [
       "<Figure size 960x720 with 1 Axes>"
      ]
     },
     "metadata": {},
     "output_type": "display_data"
    }
   ],
   "source": [
    "fig, ax = plt.subplots()\n",
    "ax.imshow(img)\n",
    "ax.set(xticks=[], yticks=[])\n",
    "plt.show()"
   ]
  },
  {
   "cell_type": "markdown",
   "metadata": {
    "editable": true,
    "slideshow": {
     "slide_type": ""
    },
    "tags": []
   },
   "source": [
    "すると、このような台車 (cart)の上に倒立振子 (pole)が取り付けられたものが描画される。\n",
    "\n",
    "倒立振子は、その状態を表すいくつかのパラメータを持っており、それが`reset`関数の戻り値として取得される`obsrv`の中に格納されている。\n",
    "\n",
    "`obsrv`は`tuple`型の変数になっていて、CartPole環境の場合には**第1要素に状態を表す変数が入っている**。"
   ]
  },
  {
   "cell_type": "code",
   "execution_count": 4,
   "metadata": {
    "editable": true,
    "slideshow": {
     "slide_type": ""
    },
    "tags": []
   },
   "outputs": [
    {
     "name": "stdout",
     "output_type": "stream",
     "text": [
      "[-3.1067048e-05 -3.8479745e-02  3.6217723e-02  3.3740070e-02]\n"
     ]
    }
   ],
   "source": [
    "# 現在の状態変数を確認\n",
    "print(obsrv[0])"
   ]
  },
  {
   "cell_type": "markdown",
   "metadata": {
    "editable": true,
    "slideshow": {
     "slide_type": ""
    },
    "tags": []
   },
   "source": [
    "CartPole環境の場合は、4つの浮動小数が格納されており、先頭から、\n",
    "- 台車の水平位置\n",
    "- 台車の速度\n",
    "- 振子の角度\n",
    "- 振子の角速度\n",
    "をそれぞれ表している。\n",
    "\n",
    "また、それぞれの値が取る範囲は以下のようになっている [[参考URL]](https://gymnasium.farama.org/environments/classic_control/cart_pole/)。\n",
    "\n",
    "|Num|Observation|Min|Max|\n",
    "|---|---|---|---|\n",
    "| 0 | 台車の位置 | -4.8 | +4.8 |\n",
    "| 1 | 台車の速度 | -Inf | +Inf |\n",
    "| 2 | 振子の角度 | -24° | +24° |\n",
    "| 3 | 振子の角速度 | -Inf | +Inf |"
   ]
  },
  {
   "cell_type": "markdown",
   "metadata": {
    "editable": true,
    "slideshow": {
     "slide_type": ""
    },
    "tags": []
   },
   "source": [
    "この値は、`env`の`observation_space`フィールドで確認することができる。\n",
    "\n",
    "CartPole環境の場合には`observation_space`は`Box`という型で表されていて、`low`、`high`というフィールドにパラメータの最小値、最大値が格納されている。"
   ]
  },
  {
   "cell_type": "code",
   "execution_count": 5,
   "metadata": {
    "editable": true,
    "slideshow": {
     "slide_type": ""
    },
    "tags": []
   },
   "outputs": [
    {
     "name": "stdout",
     "output_type": "stream",
     "text": [
      "Lower bound: [-4.8000002e+00 -3.4028235e+38 -4.1887903e-01 -3.4028235e+38]\n",
      "Upper bound: [4.8000002e+00 3.4028235e+38 4.1887903e-01 3.4028235e+38]\n"
     ]
    }
   ],
   "source": [
    "print(\"Lower bound:\", env.observation_space.low)\n",
    "print(\"Upper bound:\", env.observation_space.high)"
   ]
  },
  {
   "cell_type": "markdown",
   "metadata": {
    "editable": true,
    "slideshow": {
     "slide_type": ""
    },
    "tags": []
   },
   "source": [
    "Gyminasiumのゲーム環境には、この他にも多数の関数が用意されており、それを強化学習に用いることができる。\n",
    "\n",
    "まずは、その挙動を理解するために、ランダムに行動を選んだ場合にどのような動きになるのかを確認してみよう。\n",
    "\n",
    "ランダムな行動選択には、`env.action_space.sample()`を使うことができる。CartPole環境の場合には`env.action_space.n`に格納されているとおり、取り得る行動は **0: 左に移動**, **1: 右に移動** の2つだけなので、`sample`関数はこのうちの一方をランダムに返してくる。"
   ]
  },
  {
   "cell_type": "code",
   "execution_count": 6,
   "metadata": {
    "editable": true,
    "slideshow": {
     "slide_type": ""
    },
    "tags": []
   },
   "outputs": [
    {
     "name": "stdout",
     "output_type": "stream",
     "text": [
      "0\n",
      "1\n",
      "0\n",
      "1\n",
      "0\n"
     ]
    }
   ],
   "source": [
    "# ランダムに5回行動選択をしてみる\n",
    "for i in range(5):\n",
    "    print(env.action_space.sample())"
   ]
  },
  {
   "cell_type": "markdown",
   "metadata": {
    "editable": true,
    "slideshow": {
     "slide_type": ""
    },
    "tags": []
   },
   "source": [
    "選んだ行動をとって状態を更新するには`env.step`関数を用いる。`step`関数の引数に行動を表す整数を与えることで状態が更新される。\n",
    "\n",
    "`step`関数もまた`reset`関数と同様に`tuple`型の変数を返してくる。ここには`reset`関数の時よりも多くの情報が含まれていて、\n",
    "\n",
    "- **第1要素:** 現在の状態を表すパラメータ (上記の`obsrv`と同様)\n",
    "- **第3要素:** 行動により直接得られた報酬\n",
    "- **第4要素:** エピソードが終了したかどうか (ゲームオーバーになったかどうか)\n",
    "- **第2要素:** 行動を表すパラメータが範囲外に外れたかどうか (今回は使用しない)\n",
    "- **第5要素:** その他の追加情報 (今回は使用しない)\n",
    "\n",
    "のような構成となっている。"
   ]
  },
  {
   "cell_type": "code",
   "execution_count": 7,
   "metadata": {
    "editable": true,
    "slideshow": {
     "slide_type": ""
    },
    "tags": []
   },
   "outputs": [
    {
     "name": "stdout",
     "output_type": "stream",
     "text": [
      "Observation: [-0.00080066 -0.23410185  0.03689252  0.3376265 ]\n",
      "Reward: 1.0\n",
      "Finished?: False\n"
     ]
    }
   ],
   "source": [
    "obsrv, reward, done, _, _ = env.step(0)\n",
    "print(\"Observation:\", obsrv)\n",
    "print(\"Reward:\", reward)\n",
    "print(\"Finished?:\", done)"
   ]
  },
  {
   "cell_type": "markdown",
   "metadata": {
    "editable": true,
    "slideshow": {
     "slide_type": ""
    },
    "tags": []
   },
   "source": [
    "これらを用いてランダムに行動選択をし、その時々の状態を画像として格納する。"
   ]
  },
  {
   "cell_type": "code",
   "execution_count": 8,
   "metadata": {
    "editable": true,
    "slideshow": {
     "slide_type": ""
    },
    "tags": []
   },
   "outputs": [],
   "source": [
    "fig, ax = plt.subplots(dpi=100)\n",
    "ax.set(xticks=[], yticks=[])\n",
    "\n",
    "frames = []\n",
    "f = 0\n",
    "obsrv, _ = env.reset()\n",
    "while True:\n",
    "    f += 1\n",
    "    ims = ax.imshow(env.render())\n",
    "    txt = ax.text(20, 30, f\"frame #{f:d}\")\n",
    "    frames.append([ims, txt])\n",
    "\n",
    "    a = env.action_space.sample()\n",
    "    obsrv, reward, done, _, _ = env.step(a)\n",
    "    if done:\n",
    "        break\n",
    "\n",
    "plt.close()"
   ]
  },
  {
   "cell_type": "code",
   "execution_count": 9,
   "metadata": {
    "editable": true,
    "slideshow": {
     "slide_type": ""
    },
    "tags": []
   },
   "outputs": [
    {
     "data": {
      "text/html": [
       "<video width=\"640\" height=\"480\" controls autoplay loop>\n",
       "  <source type=\"video/mp4\" src=\"data:video/mp4;base64,AAAAIGZ0eXBNNFYgAAACAE00ViBpc29taXNvMmF2YzEAAAAIZnJlZQAAEs5tZGF0AAACrwYF//+r\n",
       "3EXpvebZSLeWLNgg2SPu73gyNjQgLSBjb3JlIDE2NCByMzEwOCAzMWUxOWY5IC0gSC4yNjQvTVBF\n",
       "Ry00IEFWQyBjb2RlYyAtIENvcHlsZWZ0IDIwMDMtMjAyMyAtIGh0dHA6Ly93d3cudmlkZW9sYW4u\n",
       "b3JnL3gyNjQuaHRtbCAtIG9wdGlvbnM6IGNhYmFjPTEgcmVmPTMgZGVibG9jaz0xOjA6MCBhbmFs\n",
       "eXNlPTB4MzoweDExMyBtZT1oZXggc3VibWU9NyBwc3k9MSBwc3lfcmQ9MS4wMDowLjAwIG1peGVk\n",
       "X3JlZj0xIG1lX3JhbmdlPTE2IGNocm9tYV9tZT0xIHRyZWxsaXM9MSA4eDhkY3Q9MSBjcW09MCBk\n",
       "ZWFkem9uZT0yMSwxMSBmYXN0X3Bza2lwPTEgY2hyb21hX3FwX29mZnNldD0tMiB0aHJlYWRzPTE1\n",
       "IGxvb2thaGVhZF90aHJlYWRzPTIgc2xpY2VkX3RocmVhZHM9MCBucj0wIGRlY2ltYXRlPTEgaW50\n",
       "ZXJsYWNlZD0wIGJsdXJheV9jb21wYXQ9MCBjb25zdHJhaW5lZF9pbnRyYT0wIGJmcmFtZXM9MyBi\n",
       "X3B5cmFtaWQ9MiBiX2FkYXB0PTEgYl9iaWFzPTAgZGlyZWN0PTEgd2VpZ2h0Yj0xIG9wZW5fZ29w\n",
       "PTAgd2VpZ2h0cD0yIGtleWludD0yNTAga2V5aW50X21pbj0xMCBzY2VuZWN1dD00MCBpbnRyYV9y\n",
       "ZWZyZXNoPTAgcmNfbG9va2FoZWFkPTQwIHJjPWNyZiBtYnRyZWU9MSBjcmY9MjMuMCBxY29tcD0w\n",
       "LjYwIHFwbWluPTAgcXBtYXg9NjkgcXBzdGVwPTQgaXBfcmF0aW89MS40MCBhcT0xOjEuMDAAgAAA\n",
       "BIpliIQAO//+906/AptFl2oDklcK9yHrOuLcX/hC+FSuAAADAAADAAADADB2N9dUvGtnWaAAAAvY\n",
       "AjYN4Pvgdr3AH/kMlsqeC/bNDXCRTvmkQnSOiYZefk4T9jcR+GTlwOONRA+T1RV7yOMuzRm6oBKz\n",
       "QnUBRhfcrNrbYaku1sqO0WKmnU+gyBgiZ+2xVmp5EiEVMlMyth5X+DKv0SzzPIO2UJoYySL+6jys\n",
       "0pfVj2vwuJl68zgOWU5+BImYG0yjs1mlV4bMmNHXaQsriGqMyPnKFm0rwyubk17mkgoJHrq5Mv27\n",
       "qqjFkPmhebJsUq+JimkLeQX1H6lexuHPGMLmn7jkIVbelt6xV+E7/6pjE2zg+xfoCwlgw5qkwqzX\n",
       "qzVaRDiMklyFNUeuWT1/7V/QbMfl9XIWoH9eT2KKyYMKY/4MWySbQzU13+UnvooevzSMGKT04K33\n",
       "nGNmHyLkhgVQ+xvjqZUJpAvRtpZoohpSsYgAAAMBUO3IBaYAiYgruhYeUFsmrq41OLg9xLJ6l2Td\n",
       "zX6gZlNHjgtyWJSkVkBxOlxrU6VgS4RFavTWdSTcsC+Ah+xYpW3fNeLmvAFaCAuXKnUpAcAo7eBk\n",
       "la4e5RcX7ASWyePWSIT6EW4Nt6pCCSrc1n0kPhUSQk0mpkAuTI7araVz8YJm+xbeprELlk02s4k6\n",
       "GeKRqba+6YgvccX/66NAOHcf0i8J7OXNV1Sg2Uxh+Hs2c7S2cnCo8sie3VUR4KoNKzh74sKMpqNj\n",
       "BO3z1ibS9Xns/UeT/PUQKvjEPD+r3AUI0Mm2baJGfu7fqD9KDAOfFXtr+dDcoq3jxEicsAAAAwAU\n",
       "Y5qc/LgA8Z8gBaFmAptvdgAAAwAAAwAAznYNAFOfpUFyRVBA5cSF13A6aUIioijBaTMZUD0bR7Us\n",
       "/EXNMej711YaPlojOqnp/2cO1NlLRgoADmrVk3vRjE7BxQ3/rUAJI1gCrbSYz0L5s7ccJpsx3l9q\n",
       "W8UVfwkV40JgLFN+xnoDGnXEsX/TTEqaZKsS+vwNlvdbO+66KFMIzfVdJMQFQYgPnfOQEHFxXMs5\n",
       "3FoHY5u2HPIEMghwJJ+dnTkSwSVHFNiUc3YxlXOP6X+oFAzkS2YKgkZaQTOeZpNsvwwXNVU6RXi2\n",
       "zikX3qtK9RkADMrZY2MxMc9eTQAIPHW968yMX83/v55NV5jZshJfTkhxMAB2wNLnPur/u864qTPO\n",
       "3jPs31jE20rcSnFb83C4n/m95F98sEmfAd/4oRPVMYqXhq/N/ss9vYYpYhaDiUtVjs6jgzwzETpm\n",
       "WP870arCW+CtbGKYHHIfPS9qDLuobx2LILzheiPVygMG5tZ4lRACjYxa+nxx/LAvULZqGxs31SIY\n",
       "YeZ4Q+16eUr/U1fjn/XJ5i0jn+dcb5m5xYgMDfdvihLJ3CQJ+TAAAAMAAAMAAYa8LrdfDJOw40uq\n",
       "vsvPE1C+BwzrCnV/jKglk/Ui0ekgbZmv2n0T/4UnAu2oQV/cypVEqD23H1qgPGm7HbOOB0rvwv52\n",
       "9RyeezVpX80lfX8bZwQACJQAAAMAAAopAAABB0GaJGxDv/6plgAEgWTUAIfABJqiSg9B1wHHt7bB\n",
       "VCwAFX67r7MK+awER178cE+OJUQb1qLJaJFeyu4mA2/eONMibrNNbypNCQAM5iDYGcDpkA6Fb3jX\n",
       "v5h3mK4A+EJ5EzQwZY93Ytz3QaDU1Fn3ZiQil9m9b/++10UIpIYdx1vexzfXBPzmbeI/j3cF1lYL\n",
       "J0RPav2qVQFXZbAv2dvACnoCfdwQA58KPLFCibISoVPHHlpLhw7qFj01I+yTu0Ir+ta/ueh7aaOn\n",
       "gKQnQlSh5hsW7jbZCPWace8rjwrIono96G488rJSp9RNZFX3wzmQ8nqqmOoEgqpqjsjTHcBtfD8J\n",
       "swKUKAFBAAAAnkGeQniHfwACQCLZjQAeOdVTc6RrXcg1inEGA+qKsa7KGeDWc8OQ+5ccoStnz7Rl\n",
       "rXrdwIcxVVCjW7Hb12Xcn4o+mhR84678/oSgYaOflT5xjAUuXjWZn3w4NX/dqgKNIWeVEgSK3C9N\n",
       "H5R8a60nMUMei40Xc8yZawFrQ7QAEw9/AJW3rvHaJtYR5af2xQtXGmCUrr/rFP66eZBwCOmBAAAA\n",
       "agGeYXRDfwADN9iSABNYVZi9ADY91c4Rwpd6Dt/WWBCrmfxX8Epii/wxN/4C3dGgKpsbpeo1E97c\n",
       "5JATGoLIoSAkPYXCuEPyz2gUbeXz4Ii43MVN7DmzT7UFudKC/2YcNvetzyyY7XBsYEAAAAB0AZ5j\n",
       "akN/AAMvIKCQAgZRGImq5DDkyzbM0UcyexYzMmVRrTDlhpG3X3WtoLYfpgne7XppTi6dBEi4IB10\n",
       "ezHDqf8BZl3kdGJSKO7z0dVUNLbiZ9YUDt+I6jW0q8Ab1W3vvOJHAeRkzcB0cQCFzTF7qYTlgfMA\n",
       "AAFaQZpoSahBaJlMCHf//qmWAASCb8xoAaekIhoqNBZSdwyxpJn8lcyy9BOEech2LENQJoZTcFoq\n",
       "2i1WyvnmTtZZxWxqQwJw+P9GTOpa/uxdWoshAuXCI4tizrmGKzV+mUC/8n8AvnqcYzmWZJvHJSJg\n",
       "LTKtZIl2WAk4ycq0JxjiqcU1O0C+SfHUYO6C1+n4foeLOJ6yol/Gv5XISKCxuAEGD+nb1Az/a8O7\n",
       "nh13SD93U4lLOf1/uCEQNrr1O3OPtqm3dJ3vgWzloQeKKUMfvaS47xdp7Ewp0ieHHI4jabD+xaHU\n",
       "BuytqCmcnj+KLTmJc/cWfeu7VDqjJ56RSNf7+SgrSH2glglTHhXchQ1Z4PrUHbQksXr98/ufFgM0\n",
       "Z/0QGDm9FUAyTXBJXKQiDQKWogTt1D8MRGdZ6eJJcWwJWAU9ctra5tpx577RRLm8bEdKlGHuKTKn\n",
       "9vACK2JWnwAAAMFBnoZFESw7/wACOYv5mLQAasHUx0eFBtrknqSW5tDy24Li/Kis1418QRI1PSmV\n",
       "73xp111j702uYnal8Nj8ekVlP/4nBqIx+Q/HlvE6KtXLU3fGdg5aONebncbm2TdkBoywX1dnR+nT\n",
       "YRRxPPnOVwCxTu6ElA0WSxLaonWpnvQa2OM6cWzh0D40EJRpt2IftEFqr0zhkS72+PIqso+AGBy5\n",
       "j139xmOHeAUdVftrv/v9Is72JDaLxcfaeUWszmmiwAIfAAAAigGepXRDfwADN5Yb3ACBkirqwHCz\n",
       "AnvSw3EHAu0gZwcwdtka4w9xIOyXST7qt7GxZnVKgVMpt5PJD3TykcH8PKQ6Aea4HQ5XOG0TRny7\n",
       "M3irc88tm5aVsuK9WeSdN9XOuhCYOxLEbsu6qeqWS6QXbHJXbOUSNPUhlrm6DWfs58qtCn2yNCmq\n",
       "2xwHzQAAAI4BnqdqQ38AAzgFuQAhOfxhcjdp9MvRUhPwhkNp0JjzBpchaxK/GxFimM56F1zWugp1\n",
       "B8LQuiVT/cqsbyNfy0FjplWBhSBer7b1W2ZfqwTdaF933u0If8Ulwwes/+IMfdW1AHXoHx386SCJ\n",
       "rxX67guekeQZ2OrUlgkvol7UoSAkOPJMtoTRHcQjDD/ApwPmAAABgEGarEmoQWyZTAh3//6plgAE\n",
       "gVWuAAZ8zfGDJBSXqTT37FrUavzz9BLslnzbwi0od087vnsKTcaR4puu8GPw8wohCoVAgHpq0EHL\n",
       "6fmOFINI6YpWGoZn1tzNoipcnq6Wtn0+BdrcmY/RlIyjcZ6cMgBb9G40n8HdldfYexIrU3Fz64aR\n",
       "whZsO5li3m1PUA2RtudOzxf43hXWFtTTdjfR5AYAuN/7mkJnBk1I6Pp+sdABxqueeNiEySqws9up\n",
       "9xiNEzP0/SLS1KoFfhr5r7K5S0UUIk9PU9FMku+cpqEb0ThtwXyE78upOEdsUjMyKizhpqvItQM2\n",
       "Zg7JzFMZr1cQuF7rupUS+6x2W/fFjq49uq8GT5dqPOosFxiVifKBVMsRDKVseUAeRZFtF4dYP7G8\n",
       "yMdGJ+ejrs7IW3lqoDqeRKUD9Bhc5hpOMIAWo+gizSC2lPGRICxiY71+dBJ+K5gWXZLkpC+BJt/x\n",
       "YUog7jqhQPpLwITDtujQDNfcFwUgSGVRnAAAALFBnspFFSw7/wACQONTdlg4AJl/JfX4IZQewyJp\n",
       "IrA7lNM+P8JARP4AlR1M0KNcPSaCxm8k3a5oAHcwzb+TnGysvU8IKVBsRRLYUAU27BQjPDhuImyK\n",
       "7BsGNqpG4T/GH+pI5ooxHLfG5ofX01cruX5VaVZrVoro/F44WScjHLbERH+NkThxrhR0lC7Aq4gV\n",
       "qKPZmndrdR1mzlOPShb7jR3sri6FmBIrdzx90IRakiZAIWEAAABwAZ7pdEN/AAM31W9ISAD4dn1E\n",
       "OC30LF+T4KbRjXM4sEPp9RdOtKPjhno9tNodJ+Ek8d6Oct2gVfaSXvBu/h9SvGBOvFYv7fRUPmQ8\n",
       "sv/t8T/2H30Aaa1ZRxCWFcjDA90KAeK3TUtIkBwJ8aZMgUiZgAAAAIsBnutqQ38AAyL38vIATV7e\n",
       "6/B3KGzyuNloQWGmNcK5GbQ/9zX68qhirMhSEIEnYWHnaL2VIPpqF0BVTybzwnNItxAHCXYLNyFe\n",
       "Ibd4bEHtFN4fr8TWNL+aAb637ultgMTkHgM94K15o4KYkkBUzPW2+AneR7u1LBLQ4GNGEv1sKAmx\n",
       "eh+WHTxYRzGpAAABE0Ga70moQWyZTAhv//6nhAAIrZ2TcgBL7+/26/6A+bl/6ueF4ULlwUBTrZOO\n",
       "eXpezyBPn8uulilZGqB8orL4eYLoUb6FprFDXdlkYzeJ+7/d8hd1Xv26D354rVZxxCulkETQ/vBj\n",
       "LbuzSjVmBUVStKy1JSsaiWgpL25UuTINvvXQDcBPnt5nc21u9lsecjbVVrn/T3lyvDv8Z4qIrpkc\n",
       "piHXwy8tp5mxGUMhckLLlgGuCrp5g5B3/Isbga/oDGkpFUVBm54Q6PlnSOBibxgygQj6nJxxYJTL\n",
       "WfbQT75/L1ZAMPPS1RTh/K7a+emLHTYja+/Vu13fEXRJxstWBhau41GzbVFLsHsfB8ALH1TjJmXH\n",
       "FKltAAAArUGfDUUVLDf/AAMaDyLM5Kv8AJVGXdLQ1P/gL3ePlLP3RSoT5qMzdqAcMhF/MuUUxoX4\n",
       "YIKY2aXYi0uXjRqLJMU1U5F59ADx70QoSA+2Ju+ttOcWHHrR92xGtjIKy+KjvvUXK93jMBClePxy\n",
       "AVpItO7n6EYoFG/NQ7+aJ6qXlQKopTRYAk69gYaNEU4kLF/1F1r53NIvL7NOAFysDbglzJmUNZys\n",
       "g8N8NKVOYAMXAAAApwGfLmpDfwADI5cRB8AH465kr6dKSBWO2ZjRqTVNu/r3g3Dp9r/2BFinNbo3\n",
       "RqZng9FLoSpDpf0OoCFIGSH0dJ6C72V+/pHmmDb26YIc1En/wkK9d85s220bUmh1+S+kVUPX/3q5\n",
       "+sxoFBJw6gWlPKBEdPwrNdgWGclQnel4oGcF+ZEM8XCcjC7jhzouO/vqqywvRuadDASTnWvnaOa3\n",
       "udCviZvnKAfNAAAD6W1vb3YAAABsbXZoZAAAAAAAAAAAAAAAAAAAA+gAAAZAAAEAAAEAAAAAAAAA\n",
       "AAAAAAABAAAAAAAAAAAAAAAAAAAAAQAAAAAAAAAAAAAAAAAAQAAAAAAAAAAAAAAAAAAAAAAAAAAA\n",
       "AAAAAAAAAAAAAAIAAAMUdHJhawAAAFx0a2hkAAAAAwAAAAAAAAAAAAAAAQAAAAAAAAZAAAAAAAAA\n",
       "AAAAAAAAAAAAAAABAAAAAAAAAAAAAAAAAAAAAQAAAAAAAAAAAAAAAAAAQAAAAAKAAAAB4AAAAAAA\n",
       "JGVkdHMAAAAcZWxzdAAAAAAAAAABAAAGQAAACAAAAQAAAAACjG1kaWEAAAAgbWRoZAAAAAAAAAAA\n",
       "AAAAAAAAKAAAAEAAVcQAAAAAAC1oZGxyAAAAAAAAAAB2aWRlAAAAAAAAAAAAAAAAVmlkZW9IYW5k\n",
       "bGVyAAAAAjdtaW5mAAAAFHZtaGQAAAABAAAAAAAAAAAAAAAkZGluZgAAABxkcmVmAAAAAAAAAAEA\n",
       "AAAMdXJsIAAAAAEAAAH3c3RibAAAALdzdHNkAAAAAAAAAAEAAACnYXZjMQAAAAAAAAABAAAAAAAA\n",
       "AAAAAAAAAAAAAAKAAeAASAAAAEgAAAAAAAAAAQAAAAAAAAAAAAAAAAAAAAAAAAAAAAAAAAAAAAAA\n",
       "AAAAABj//wAAADVhdmNDAWQAFv/hABhnZAAWrNlAoD2hAAADAAEAAAMAFA8WLZYBAAZo6+PLIsD9\n",
       "+PgAAAAAHHV1aWRraEDyXyRPxbo5pRvPAyPzAAAAAAAAABhzdHRzAAAAAAAAAAEAAAAQAAAEAAAA\n",
       "ABRzdHNzAAAAAAAAAAEAAAABAAAAiGN0dHMAAAAAAAAADwAAAAEAAAgAAAAAAQAAFAAAAAABAAAI\n",
       "AAAAAAEAAAAAAAAAAQAABAAAAAABAAAUAAAAAAEAAAgAAAAAAQAAAAAAAAABAAAEAAAAAAEAABQA\n",
       "AAAAAQAACAAAAAABAAAAAAAAAAEAAAQAAAAAAQAAEAAAAAACAAAEAAAAABxzdHNjAAAAAAAAAAEA\n",
       "AAABAAAAEAAAAAEAAABUc3RzegAAAAAAAAAAAAAAEAAAB0EAAAELAAAAogAAAG4AAAB4AAABXgAA\n",
       "AMUAAACOAAAAkgAAAYQAAAC1AAAAdAAAAI8AAAEXAAAAsQAAAKsAAAAUc3RjbwAAAAAAAAABAAAA\n",
       "MAAAAGF1ZHRhAAAAWW1ldGEAAAAAAAAAIWhkbHIAAAAAAAAAAG1kaXJhcHBsAAAAAAAAAAAAAAAA\n",
       "LGlsc3QAAAAkqXRvbwAAABxkYXRhAAAAAQAAAABMYXZmNjAuMy4xMDA=\n",
       "\">\n",
       "  Your browser does not support the video tag.\n",
       "</video>"
      ],
      "text/plain": [
       "<IPython.core.display.HTML object>"
      ]
     },
     "metadata": {},
     "output_type": "display_data"
    }
   ],
   "source": [
    "import IPython.display as display\n",
    "from matplotlib.animation import ArtistAnimation\n",
    "\n",
    "# Create the animation\n",
    "ani = ArtistAnimation(fig, frames, interval=100, blit=True)\n",
    "html = display.HTML(ani.to_html5_video())\n",
    "display.display(html)\n",
    "plt.close()"
   ]
  },
  {
   "cell_type": "markdown",
   "metadata": {
    "editable": true,
    "slideshow": {
     "slide_type": ""
    },
    "tags": []
   },
   "source": [
    "このようにランダムに行動した場合には、途中で棒の傾きが一定以上になってしまい、エピソードが終了していることが分かる。以下では、Q学習によって行動評価関数を最適化し、より長い時間、倒立状態を保てるようにしてみよう。"
   ]
  },
  {
   "cell_type": "markdown",
   "metadata": {
    "editable": true,
    "slideshow": {
     "slide_type": ""
    },
    "tags": []
   },
   "source": [
    "この時、各変数は連続的な値を取るため、Q値のテーブルを学習するためには、値を離散化して置く必要がある。これにはNumPyのdigitize関数が使える。"
   ]
  },
  {
   "cell_type": "code",
   "execution_count": 10,
   "metadata": {
    "editable": true,
    "slideshow": {
     "slide_type": ""
    },
    "tags": []
   },
   "outputs": [],
   "source": [
    "from functools import reduce\n",
    "\n",
    "import numpy as np\n",
    "\n",
    "N_DIGITS = 10\n",
    "N_INPUTS = env.observation_space.shape[0]\n",
    "N_ACTIONS = env.action_space.n\n",
    "\n",
    "lower = env.observation_space.low\n",
    "upper = env.observation_space.high\n",
    "lower[1], upper[1] = -5.0, 5.0  # 速度の範囲を修正\n",
    "lower[3], upper[3] = -0.5 * np.pi, 0.5 * np.pi  # 角速度の範囲を修正\n",
    "\n",
    "bins = np.transpose(np.linspace(lower, upper, N_DIGITS))\n",
    "obsrv, _ = env.reset()"
   ]
  },
  {
   "cell_type": "code",
   "execution_count": 11,
   "metadata": {
    "editable": true,
    "slideshow": {
     "slide_type": ""
    },
    "tags": []
   },
   "outputs": [],
   "source": [
    "# Q値テーブルの初期化\n",
    "q_table = np.zeros((N_DIGITS**N_INPUTS, env.action_space.n))"
   ]
  },
  {
   "cell_type": "code",
   "execution_count": 12,
   "metadata": {
    "editable": true,
    "slideshow": {
     "slide_type": ""
    },
    "tags": []
   },
   "outputs": [],
   "source": [
    "# ランダムに行動する\n",
    "a = env.action_space.sample()\n",
    "s1 = env.step(a)"
   ]
  },
  {
   "cell_type": "code",
   "execution_count": 14,
   "metadata": {
    "editable": true,
    "slideshow": {
     "slide_type": ""
    },
    "tags": []
   },
   "outputs": [],
   "source": [
    "# 一番価値が高く見積もられている行動をとる\n",
    "digits = [np.digitize(x, bin) for x, bin in zip(obsrv, bins)]\n",
    "s0 = reduce(lambda a, b: a + b * 10, digits)\n",
    "a = np.argmax(q_table[s0, :])\n",
    "s1 = env.step(a)"
   ]
  },
  {
   "cell_type": "code",
   "execution_count": 15,
   "metadata": {
    "editable": true,
    "slideshow": {
     "slide_type": ""
    },
    "tags": []
   },
   "outputs": [],
   "source": [
    "def softmax(x):\n",
    "    x = x - np.max(x, axis=0)\n",
    "    return np.exp(x) / np.sum(np.exp(x), axis=0)"
   ]
  },
  {
   "cell_type": "code",
   "execution_count": 16,
   "metadata": {
    "editable": true,
    "slideshow": {
     "slide_type": ""
    },
    "tags": []
   },
   "outputs": [
    {
     "data": {
      "application/vnd.jupyter.widget-view+json": {
       "model_id": "7807f4285b5745eb80a27bd9bcadf019",
       "version_major": 2,
       "version_minor": 0
      },
      "text/plain": [
       "  0%|          | 0/10000 [00:00<?, ?it/s]"
      ]
     },
     "metadata": {},
     "output_type": "display_data"
    }
   ],
   "source": [
    "# Q学習のハイパーパラメータ\n",
    "alpha = 0.5\n",
    "gamma = 0.99\n",
    "\n",
    "# Q値テーブルの初期化\n",
    "q_table = np.zeros((N_DIGITS**N_INPUTS, env.action_space.n))\n",
    "\n",
    "for epi in tqdm(range(10000)):\n",
    "    # ゲーム環境のリセット\n",
    "    obsrv, _ = env.reset()\n",
    "\n",
    "    # エピソード開始\n",
    "    while True:\n",
    "        # 現在の状態に対応する行番号を計算\n",
    "        digits = [np.digitize(x, bin) for x, bin in zip(obsrv, bins)]\n",
    "        s0 = reduce(lambda a, b: a + b * 10, digits)\n",
    "\n",
    "        # ε-greedy法による行動選択\n",
    "        # if np.random.random() < 0.5:\n",
    "        #     a = env.action_space.sample()\n",
    "        # else:\n",
    "        #     a = np.argmax(q_table[s0, :])\n",
    "\n",
    "        # softmax探索による行動選択\n",
    "        prob = softmax(q_table[s0, :])\n",
    "        a = np.random.choice(np.arange(len(prob)), p=prob)\n",
    "\n",
    "        # 状態の更新\n",
    "        obsrv, reward, done, _, info = env.step(a)\n",
    "\n",
    "        # 新たな状態に対する行番号を計算\n",
    "        digits = [np.digitize(x, bin) for x, bin in zip(obsrv, bins)]\n",
    "        s1 = reduce(lambda a, b: a + b * 10, digits)\n",
    "\n",
    "        # Qテーブルの更新\n",
    "        q0 = q_table[s0, a]\n",
    "        best_q1 = np.max(q_table[s1, :])\n",
    "        q_table[s0, a] = (1.0 - alpha) * q0 + alpha * (reward + gamma * best_q1)\n",
    "\n",
    "        if done:\n",
    "            break"
   ]
  },
  {
   "cell_type": "code",
   "execution_count": 17,
   "metadata": {
    "editable": true,
    "slideshow": {
     "slide_type": ""
    },
    "tags": []
   },
   "outputs": [],
   "source": [
    "fig, ax = plt.subplots(dpi=100)\n",
    "ax.set(xticks=[], yticks=[])\n",
    "\n",
    "frames = []\n",
    "f = 0\n",
    "obsrv, _ = env.reset()\n",
    "while True:\n",
    "    f += 1\n",
    "    ims = ax.imshow(env.render())\n",
    "    txt = ax.text(20, 30, f\"frame #{f:d}\")\n",
    "    frames.append([ims, txt])\n",
    "\n",
    "    digits = [np.digitize(x, bin) for x, bin in zip(obsrv, bins)]\n",
    "    s0 = reduce(lambda a, b: a + b * 10, digits)\n",
    "    a = np.argmax(q_table[s0, :])\n",
    "\n",
    "    obsrv, reward, done, _, _ = env.step(a)\n",
    "    if done:\n",
    "        break\n",
    "\n",
    "plt.close()"
   ]
  },
  {
   "cell_type": "code",
   "execution_count": 18,
   "metadata": {
    "editable": true,
    "slideshow": {
     "slide_type": ""
    },
    "tags": []
   },
   "outputs": [
    {
     "data": {
      "text/html": [
       "<video width=\"640\" height=\"480\" controls autoplay loop>\n",
       "  <source type=\"video/mp4\" src=\"data:video/mp4;base64,AAAAIGZ0eXBNNFYgAAACAE00ViBpc29taXNvMmF2YzEAAAAIZnJlZQAAMrttZGF0AAACrwYF//+r\n",
       "3EXpvebZSLeWLNgg2SPu73gyNjQgLSBjb3JlIDE2NCByMzEwOCAzMWUxOWY5IC0gSC4yNjQvTVBF\n",
       "Ry00IEFWQyBjb2RlYyAtIENvcHlsZWZ0IDIwMDMtMjAyMyAtIGh0dHA6Ly93d3cudmlkZW9sYW4u\n",
       "b3JnL3gyNjQuaHRtbCAtIG9wdGlvbnM6IGNhYmFjPTEgcmVmPTMgZGVibG9jaz0xOjA6MCBhbmFs\n",
       "eXNlPTB4MzoweDExMyBtZT1oZXggc3VibWU9NyBwc3k9MSBwc3lfcmQ9MS4wMDowLjAwIG1peGVk\n",
       "X3JlZj0xIG1lX3JhbmdlPTE2IGNocm9tYV9tZT0xIHRyZWxsaXM9MSA4eDhkY3Q9MSBjcW09MCBk\n",
       "ZWFkem9uZT0yMSwxMSBmYXN0X3Bza2lwPTEgY2hyb21hX3FwX29mZnNldD0tMiB0aHJlYWRzPTE1\n",
       "IGxvb2thaGVhZF90aHJlYWRzPTIgc2xpY2VkX3RocmVhZHM9MCBucj0wIGRlY2ltYXRlPTEgaW50\n",
       "ZXJsYWNlZD0wIGJsdXJheV9jb21wYXQ9MCBjb25zdHJhaW5lZF9pbnRyYT0wIGJmcmFtZXM9MyBi\n",
       "X3B5cmFtaWQ9MiBiX2FkYXB0PTEgYl9iaWFzPTAgZGlyZWN0PTEgd2VpZ2h0Yj0xIG9wZW5fZ29w\n",
       "PTAgd2VpZ2h0cD0yIGtleWludD0yNTAga2V5aW50X21pbj0xMCBzY2VuZWN1dD00MCBpbnRyYV9y\n",
       "ZWZyZXNoPTAgcmNfbG9va2FoZWFkPTQwIHJjPWNyZiBtYnRyZWU9MSBjcmY9MjMuMCBxY29tcD0w\n",
       "LjYwIHFwbWluPTAgcXBtYXg9NjkgcXBzdGVwPTQgaXBfcmF0aW89MS40MCBhcT0xOjEuMDAAgAAA\n",
       "BRJliIQAO//+906/AptFl2oDklcK9yHrOuLcX/hC+FSuAAADAAADAAADADB2N9dUvGtnWaAAAAvY\n",
       "AjYN4Pvgdr3AVJGHpzxDAiOR9jP+Ew3E/5z5GRYomC/pElRpHtZh0c3ugpw6ICcoW3pMn9x8k/Bc\n",
       "O/8paMvYaFDHlUHRL9mWryDDKGsyAI3PwKbSq+vP/kdf1Bvez4t2/C9XQas6ji+wKMcFR6BCu3Tx\n",
       "VTT6b+XmRPiiOJCu2n/qp3XjLQW98F8NyJDFMYMGQv2/jBnVbM3cy1ootZ2AC57ifMsrNU2oCuVO\n",
       "A+QopJtrj8j78OfZbHDf4byf5+/ivYeMs1LnBByKUA1kk1LF6F9xHI8F0X81l05xALq/9wMVam9y\n",
       "zKV5poczVczjrGuQXWMvZk1H1pWBGcqrNRfY7t212S7PMlMCJzSRMZUSKUUqtFviIDBskm0O86WL\n",
       "Dw9YUfLGEfu8aAd6z/57d3tp9EgOYuVYJTDjrNWZsbUUfEjhHoAIm5GacBkDBmFKoIRYu18oEPj+\n",
       "yulhpNzD3+RPqTtUgDHHYQQxX5m7AV4ADdHDMyvfP2ojvoxk8Z0eA8DQfJIO9Aid19pOwfRH9KoQ\n",
       "4SjG4/kGZvNizLe2yxcy3Lus8Xg1wtaSKrrY7zEgzC4qQDKzJ70ZjSVJSY6DIYQlpT+ovzlxlDw9\n",
       "bIApbSc04A9WnQaPJ4mI2FpfD0Tm7M2Y/vmY3ySQVT3QZhelH90a591Q0iTg4yBkCnSSZXVgavmo\n",
       "maSU0p8l3yVQ95yKXJhIwL1j5Yn1tucyss8c+leualY9Ql6J3PN2Ws/zsO4vQne1wGIhE/Vs2bkP\n",
       "K6Yg2xXJWXGH56IlmdiPpkIB84AANXZT4x4qt2QALkJaLMNMWYeQ7mNe8DG/OAJZLv/9A/Jk/r0I\n",
       "xZLPorkqLnYpSd2DaIXs3aOuKrSDS4aBKUSHJa6enz407WyxDGasIBAn6UAMe1F4Be4AwQN5tLHn\n",
       "7ZB40smPJJEkEs2Zg0JFT2fR+UarAqGjnLaPl6beoOKgjLh3CQkCQxmummZ176YJ9yuSjYMzobA1\n",
       "xTpq2I7Lhkypd2orxhqLjUn3OvUmAHwODKOLEGx6L1RIQ7917lnbvQo0Pu9cqQdlzqyFXpnRy3cc\n",
       "E88Wn0RT4RNeKR9/65fUBxuslDtTUOes5elXKA9mm6Yw+VURAs9inbjBO8dOuDVItV4jML9yln5/\n",
       "RgzWSGdmd64h0448LoGhp5ZiVX/yuvoWTxSUHlrvOSHDcYSuYcVR3IUne77swMYiYpxE+nrjlLpi\n",
       "g2S3isxSQBKUjjoRoKLz16/Q/w2rlc7+a83jURrQPf2+BXD2eQLzVO0pkSH9u6KbaFQ2VFiJolZc\n",
       "JFfSHwq9xrPh00bGBV7Kr5T9TyUidDJlcj3alb8azDeiNgUyeMyjY3zc6icpQ4s/pET0wE/8Ijaj\n",
       "VILLnUwqkHQTsiErGFuUAu2bLq/IzdbmdlwfbNQqsIKZgUOH3Pgi92Dgbknua18z0aruwLaHeLRY\n",
       "AFYPlgKyBKDADpKz2KEE56s+dYKg+MRqf5IgOhlfLugP9QV4Ax4Vpt4xFey3jcDLIM5a6gAAAwAA\n",
       "AwAi/qMqWAkRKo5N9n4MyAaHz3rb0gohoC47H1xz9qhrQNLIJhgD6StGZv9JIkcBZ224BrASkXRR\n",
       "bAFDB9uMuzJkdcsMtnRU9rJCXqdQVjatuFb15mX6uJyMSJG+0AAAAwAAAwAHlQAAAb1BmiRsQ7/+\n",
       "qZYABOF2egGb8JUh6o7UF/T+FKd+PEes+Da+eeexTmqq9AF1iEQjqO8UC0p8xdSTCrAIgtuLdGaj\n",
       "NthniLlwfR+L3jjQ595zxKQczQXUZr5uA7aLTFxufoKNYtEvCytBEPt8M1aU1d1w/pnPHkoRdCAi\n",
       "Gfhm4IH8F32/igQ7CD21A6PZm/KLjq+MMiXBNzOG3DbfQjyO/ZeDkM4H1rKK/xSF66tXTYxHLbjM\n",
       "ewA0kdDOER3ulk7N90uzD5tCJUEkFxzLSyCyUr7OsAe76oI+xGb55lqWke66dXe43StK1+GWhRTk\n",
       "V8ja5Q9NqhmW9vpb8FCcSbxL7ZjCWoMAyAuto6AckVleHCXBJMpCYCGx5kywGWunk2+W2JPHfsuo\n",
       "oXxI00eW3IBznInmEvJdNYUoYVRA9GkjYKO51v8TGCRr10UAPojfkFM9nKDYGa6ZaaKOMSAc+TyN\n",
       "OnsY7jf5vlq48ZGoxnv1Vk7eTQa0aRD2uH7Qg9YXypdIjom4iLeRgGbhr/cnEeYNE7Ehgqwv1aUw\n",
       "QrLbwPgCJMq4YCgg8QXdiGlyfV2aFwUWN/a+xHcWYTWz/UmAFMC4AAAAmkGeQniHfwACcOVdyjId\n",
       "AB5LOsvWlme5PcZl/h2DSpjN5oUB9g/YSeqKPCHFUNcLOha1om46fdf6ayaSxaZlVLWIahIfE0Zw\n",
       "1bG3l0n8l7DKPzoDpRWcCFz8PnM045r2ZeE2ql6ilLpRWPiRgX5GhPFo/sNgtoFcuFzaDwgp9u/G\n",
       "caIsr5mLPZx0jvS0NRlb/Ql7yvJqy+jsW0EAAABrAZ5hdEN/AAN0KnkGlcAJpqsxppCnlCOAAaXH\n",
       "wNbWU8+uIJAgOoGPszE/zYY8ClvRpJmbhcVsrGTiIg1eNrbk0rWkSoxQq5JTBeOwa/9albHUSZVu\n",
       "yFU6SXQtW8J2AGYL8kTlE0SHm0KIx3QAAACsAZ5jakN/AAM4p3JABsXyz2R6Envo2sf0yurizno4\n",
       "aRYXuQJtqlXOiflC/2QvuzJom9ZFbI4tuMMJzaM0mSdJI3yNKEJ9CJZ3m9BZXBYYrPf6F8FaIl9B\n",
       "yLVCpY4Yn6ZZM7JSB0Zlwx9LaDzWMXVGqtuIk3bR3WKBEvy7cd4oTZHfwW7mR5ro0eP9LSG6ctFD\n",
       "iO3V2XK2HcDEnR88rUq2N3mFHpekrFe1Pcg7oQAAAYJBmmhJqEFomUwId//+qZYABIS5+dQAt3Sr\n",
       "ublAUirCujsGpoNIRS+rVTOhf1oyz5rWwH3o9Fg2wTFoeI52IQTuIR9zTpi2E7vnbU8LoZuxCrJs\n",
       "LDL4x6PU6eL0gaS/jHUqGd5PIqFGkJobpvCaaNkgTPlff+Z5WPCTrVx9UdG5Dc0WDXDW76uo3zaj\n",
       "HlIPm0hFwGYvF0TZnHtbQdJ12STvlEjF/5f4iLgm92Ss3LXQGP3HJyCYvhNMYGROnGcvAnIWa79J\n",
       "fHuVrsiypTwmRMwLCOEP2JCYdAFd8NTdDyo5JbGdS3F7NyAtvBq0DARzFc8PUS9UuWietl5+X9if\n",
       "H3/kMt5AJRGipeAavgqRkp0fLF5DefZnT7UAcqyJzDQnPOaeGBASyQa2wemqrSOHVrn6Hc7+6KvG\n",
       "E0J+u8FymJj89K57VmMAHliWcCYXnlHNSCGzZMURpwbIVctQ0jISYpTmluYHqMcYbddQvLOb//XZ\n",
       "TCUHwkMj4+hskwm3vbY7FLRkBQAAAJ9BnoZFESw7/wACOmiWxAA1YO0HPnRZe82hlN1tX+DA+nWw\n",
       "LRPRH273saVUFGoq1ZdHKWu5LM8RkNbo9ZYdrr3nNiwMsjYt5qACCKGeKHxMblU2N7SWVW242Rvy\n",
       "6jHjNhZB47ogPNEJIu9m7Msm484iEHik5y6BPaMB7X8wVnyLY79RhDuBoV3iILud9rW4Gt6G849w\n",
       "COO40IYnaLGpGBEAAABkAZ6ldEN/AAM3lhvcAIGSFmyv4oeLwC1TgLWtotAg516Lxr8+xEf0s+2L\n",
       "q4vtTnG71sNE1OkMZlVf54A3+RppgS1WUyKUX2oMcBxkYrt4B2+TAPlpKNLLSsOJCX23xkl+g3nB\n",
       "8wAAAHABnqdqQ38AAzgFuQAhOhuMeoAcgcKme9k9CWHSgsKsoEuQnRlfjYB9ELo3AsAkKHagHMR1\n",
       "9LHC+nH7O3DymgsdMrAsS96ixYbziU3jLoVywWQtYi2ANCIePGZ14XgczmhgL0RIYWNO1+W/yv32\n",
       "2MqAAAAB8UGarEmoQWyZTAh3//6plgAEgVWuABFmGcYT6lrKatO7jG5HvtVFWt+Bhwgx1ZBj1+8s\n",
       "qAUijXZkm9AGEdyLKg7fhtY5TH4eYURUuMJSgHpq0EHL6gBCawNkHEdMUrBJECtAiHaIqXJ6uluq\n",
       "9PoXa3JmP0I8Q3ePVOTjJXcqkh8EtOYdJ1f2lbSOKA8YfGFM3EXRYirjbQtFBHQxN+FfdweLoP9K\n",
       "sz7BOojPYKmC+7WAqgmNJKf1ODJqR0WZZrX6TpyLRg1R19Oy+Bh1HDaNMkCNjlxUID7Q2Bz28qK1\n",
       "QZ7Vu0nPZPj8eGjAXgj7kb04aAIO1a0zb0PmWTBUdc+vi7CG/W7d7rFhDMbLG7PYtOCNWxWOmh8l\n",
       "8hNLwUlFTjL/8+j4y6dBR7c1wKYZuxqMefq8Dev36ajzjRqnfpu+TMB8KH7svA7DUfB4UItHHYy3\n",
       "GbM/vCmcH2vGgIGGFy6kmA0JVrmQiYEiFKUbAjSBBZvDrEnm+pbvehwd3unnUbscLSZdhb6dBW+i\n",
       "NlOSxxI379ufpgrKAsLie7gQVLYi0+4ZWmkpMF9sQxPfObEEenE8EBjuLpnIJWHZ4VKtRFXE8YxW\n",
       "FK4ndYwIfG+z+YGwQbt0R/i12gtbzjW8SKBhL3hYU1w1zzqZ2xtWhYbjKrWglvJYAAAAkUGeykUV\n",
       "LDv/AAJA41N2WDgAmJyK4vghlB7AAySLSGcE1pai9g/O2TsWBAWTwdyOByJuufBFnZlQ+YmUEAlg\n",
       "eu/kd6tJYglgIesKVnosL9n90kN+kMe0lMBDY8ZaCYiWrQoANVC9ZFJTMbAx4ZeE0AaxavUUfTvy\n",
       "yDEETmo9wxZek/UKfvaA1qurQiVjsii2G9EAAABoAZ7pdEN/AAM31W9ISAD3z4EURFvQ/enTwULa\n",
       "mYC6xhBv0CGKiV+PAqj202h0n8UdZYv2w3nW2gBGbxUOg9tBk6V7HLe7ECL3nC77oVgP2D58A0We\n",
       "lxYikMam3n16On0LuS+n5Ao5EzAAAACdAZ7rakN/AAMi9/LyAE1e3xbuqlDZ36q46PpDlkMLDRr9\n",
       "bGEyfryqGDQUFIQgHVpbX4IvSXR/0edz7KJ8sqccXMQg4e82jdJFyQMkAn+Noecw5KQ3Dw6d8QpL\n",
       "Lv6yR7O28rfwCy2byHajd6o3IlSyNF9Xx4DuUBb9J7x7eScVCd2eengUofxwt7KxdFQX7xzS+nuL\n",
       "bF4iHic8LwA+YAAAAUhBmvBJqEFsmUwId//+qZYABGeV/AP7jesABa4AU56f77Dn/38g3nTnDmdX\n",
       "x4AEQlOI58iSZAMfo85gHaJmEEp9D02wPJ/8mNNoRHwwyg0MlY0KAEtGAbI9sU4ZoNIwrkwd2WU2\n",
       "KlqFWIPpnPr2XcifjnExKnKo4ZIJ+3GU1CMbN8hhhliJ8rftIa5KZbpjWFE5JMYCwClrliazw/vM\n",
       "VcVcodeJB9dxcYMxFKkob2gvgJzc17yMuRMUHc1azrLO90Zqfr6R47bPYpHHSCMeonAjJvD1Kd3j\n",
       "O5bjkzMTXA8LifZopMeWIodJ6bHpVtAAcOMOTWaiKsRjkkY0aopdLMSjpWA0s4epe3NkOoRxW1wc\n",
       "Z2NiV0dDYXvQuTlfpCQ+tLmdaASccWp10lyZhmPes12eldKAS3GrlPC/tcycvgwZsk1KjeyOKAfN\n",
       "AAAAjEGfDkUVLDv/AAIpfNKcaB4GAFkJFb8KURelcWVzAt7FNF2VkG4yPSoJiqmkfFbw56u1opZN\n",
       "/c8XjXETRROBlK6RwYwQHLZIGRrWv5EWk1HwS6sAGDWpEKZ99M7Ux3RXYm9MbLdBPL5uwvGgFt2n\n",
       "AZdMlXyAzeGPFiZ82fhDYaci8zHBjY78pjuWgD5hAAAAhwGfLXRDfwADHHX4daPC38AJVGXdLQ1U\n",
       "T7/0Ueyta6IM7tdG8fjqR2UrS5nUKF2+3pWU8Pas/s/A2GlmTaOJY+AUygOtUmWUgpumdxjeM+t0\n",
       "c8qvbJENkCRNiZ1OMKmVEl1TLbalESBZ8J/l8N3OUo5m3sD4ZZi2P/ffALodZxOkl+dMvNfFDQAA\n",
       "AGMBny9qQ38AAyQ9fUABORRdkXurUpJdl8ViPLYayy9RXwhUJkbDkQtAG60JBj5uXfs1Xe/S6IFu\n",
       "jsAURXmQxIzgQxxDWu35nq5GKcIQ102hhH76da5PElFttiz2pjYX3MPyA+YAAAHmQZs0SahBbJlM\n",
       "CHf//qmWAASDUErdgAnBNQ3L37SIVxS/JBfKepZR66e1VgSdXvzLJWMlQKwefubU5Ncfm5wx5HKA\n",
       "u/W5LhFjDHfJB+Lm4XuoPs7JA/pIzPGwqmL5VOcIhvlV+UCbnIyI3tYwXboSlrUO3aDkG2PYk/6V\n",
       "8CNx+GWby2+WgrYHQh/uDnQxkEN8E8LtyD2QlyAv9P+ftvr5GvmfAkILGnqmkTo6oaxImY3LDmam\n",
       "ILeuz1AblDJfj0sHelyPV6VgtjWNxIfQ0skcBUZdvsDkJT4ssQ7v+lKEzjP5SjdS87uz080eL6bq\n",
       "JiwpC0kJeq4f6vZltoAT92VZHI03Bu0P0pItpZ/qkP1SvFS8rV/SHPYuUVBOkCXJ61RsuJJkMaLq\n",
       "RH2XoZksV+cZYIHkn/LbBdBZMbdf6rCpc9kTejKtcnC/TmEcJkgMXcdfTBPsC76CeqxLPwEX+Msk\n",
       "MiSTXdBn67GzaZOFSxjD3r0XWg6/dXC0/pVcEWuypkIT4SKKmwi2xx3QXUWqsVEZqW1UhCMj4KTp\n",
       "aVT3EjHmrIyvm7hOAmVAxv3/aci6bxJBD4JInK1Uusazy8bLOlKu03/BWN5Jxf1LQvrpZISy2zWv\n",
       "oRiffFQgTFUe6JvMRvmThf7xpXD8AAAAmUGfUkUVLDv/AAI59wUpZmw6AC6ResrqgzzWWjXnH5TA\n",
       "PEqaIFJ5TRqREK1CuP7ykYdvwCjPmQyUJrz7Nh7Gevb8SzNXro4U/WWII8UfoiZgkjhd+/M0lJF2\n",
       "J1lGvexu6Sh4WnpYc0PlMsdGDKWE21OsnsiPAlCSIhzyAuGglqj9cocKxsIXGZSYUrxijWsyDhrK\n",
       "piK40khDuwAAAGwBn3F0Q38AAyLkRNNyAE0w/WLjRVXxNWnCwqJmz/tCRPm3T7PdZOAMxKJ2lpcL\n",
       "suKe/nUPR4Yq6UtjfpJJL6vKazlsOwxajBBJK1DpVJtQtB2/03f9ZQ0lJzpNIOLwUzb5MzBDF+pa\n",
       "lqKUEDAAAACeAZ9zakN/AAM3/1jF9EgA+KWbDFfHB3VEvzYl8a5ZFuqyi92bXZTBLqqZ02w1webS\n",
       "5rtXjoqhjveg1/TaEt0EUxfRyOPrX66zSeO47pGatfP25X9X7LLjITXOcN+cTGfFR10kp4lr7TDo\n",
       "9qHE5N7EgMcaO8JLNRJ4scfphQY1FExqnWZthf5DapLlLRTY13kOOiSwjaKP1rjf4DBWAd0AAAEu\n",
       "QZt4SahBbJlMCHf//qmWAARh1SYALTmJVz8qMFr++kzQfY3prbF/k02t8Uo4XDJzn6O8IrYHyW06\n",
       "tdqLyW00b/AcaZv9w7yGTJG8ESBUc5DXVdudKsrh47cZPajeizb6WArp/8U37PxkCXSYxH+aQteD\n",
       "BMBvqNzvtIcaw9OTiz/0RdSAxU3cA4LmDjYl+eXbEOxAiyP5sJ//P4RCnWtCKYdv8c+tvrjOI//8\n",
       "aXm8k6uR4JOKUESkxo7CnA/IT/Zl76m592NxnWn6wxwD/xVpw/dbcMsIvu60E9qoaNypdv3POpEW\n",
       "8tHBkLPQAD95vvU9bMZuBVWKS9MQxAcd4NTHvgM2ywX6geoKpvH3JWn8zUkmzvKOA5u35mI3740i\n",
       "yFdsqIvG3HZ/OfUuNbR9gV0AAACXQZ+WRRUsO/8AAimMA+H3wAPzXplTwHRB+YrPQFknxF70ujjS\n",
       "k74efdA5K+ZUsTzOLIcvTtDWuM3qkiBB0jKOwvaBqXs13+duDpXdxrXXzCxJT/TSeLZJ61E6tBym\n",
       "Q4cll+9Dmp1PVywYfzY5+wejrkyVyucEnAPWrDEvi3cg8sXwXd3NYd1++aP2XkXD1vTZ6FFs6pQD\n",
       "/AAAAHwBn7V0Q38AAyLkTsfAATt7vDziOlMbyX+RZ0q/5gUp955zQa+O9tpiNIZTi/7IRRRvuERr\n",
       "gqzOcrz5oUyRi8XvLPWmJymy0szpRE1Z1kiA3BxpKScJd+StS834kzt6ChAFXiTqj9g0dtpZFviz\n",
       "YVWM/tw/DiafmqoPrgpJAAAAigGft2pDfwADI1PPO3IATTWWFoKH0dGqxnEM5h4edgUiavKDLtt4\n",
       "zreNVUdaPYacTAL6BECgFXDzsSb8Nx7OTZy1oG01hVi4edNfMB7SEOq8HyQMQCe4ugsLfu7V/sX3\n",
       "j6n9fzthjjPfokHSn/37dG38iXVOl+kbp/xOQSqxE+29jrjJT+aJzbDegQAAASpBm7xJqEFsmUwI\n",
       "d//+qZYABGODnxtABbZRF1mAOoABlg4Cw538iuXDLkKLLOsBwgYGXBSuI/fF3Rqvf00F/qFvrYWL\n",
       "dbtF6CEQJTxkPdDtSBdV4StJ9tvdB5Ql3dn0jhntJ8pfIz0ZF0LOUPrHgevBLEJO8SecFkSOwC/W\n",
       "VCWONrPmoyrJm5dAKRUd86t6MslSp7DW9R5vqVXgQvERPGupqgsAvT5EPVcc4HUQEDBgIG1vsaD0\n",
       "pajG+BEtfTvd7GsGFHQ8SMrsHpe1CgiNdrvts8DvHaLIhQ2bubS0JlzCOp3jVHJIpvJSpcciB6rB\n",
       "e4SzEoLmfQmyEAT8gbmJiFMdkXjhKCuEmKDLuG7VzHIL3ssG650j/E9Aqf0Fevt12YGelgq9p82Y\n",
       "Ko1GAAAAmUGf2kUVLDv/AAIyfMAD4q88Lwf1aFvxzaq+M9OFRaPU+1bafqmDGrrnfYCi8BVNBaWv\n",
       "jTeiZEe+sHbb2F+d86SQ7XSgzUy5tNixAO6ic3t3HwPiCtbK3Ws6tP2lUPREy8+Op/8qG1Cg6A+r\n",
       "rnPseUz8nx7DorfkkxlncCGblyHtilSROZaRO5fwkLMIBCvqSRWW9uujoaROwQAAAIgBn/l0Q38A\n",
       "AyORbsoACaDap+0I29k/JmZxEaxTzB52ZAeyN+zn/yR9iMhji4tj1lLCJNjEFKlp0Il2O5glw+SG\n",
       "2XSBEsQWocvW3v4FduwmfJ3EHJiFasVSsqDVrCaoOF321FXkHgdOHXAd+Ho8tevb2GxYsN3AWatR\n",
       "vtYlmQoxd5ItPjSrkB/gAAAAkgGf+2pDfwADHQUCAOS9nAASo4zhioMxBvg8FMS4sM+Biga4EMx2\n",
       "/4HThbCrySNP9oL1bZ+CQ7tJeLFWSPzV3XultLha9MaSILMJ0PJW0sqGPuaI3qKE++6fy+4A4lZZ\n",
       "FPpX70P7KvbRlRFzrJQCk95LD/DKIUmcWH/Tmzl0t0lP+aQRcAAH3zcAcdZGJsBRSJ2BAAABjUGb\n",
       "4EmoQWyZTAh3//6plgAEgNpqAJwGaSHnPrxWkhvv9yAbtYfiCGP1PJrSU6rlBUCFvrKqr0UpHZmS\n",
       "I6aNu8gXGSXYffrQ6L4X0aYqQrOmnS1Pulh92C67usr1qXPRzFyH/Rk6GX3OO9kXv5Eke1HsAD9l\n",
       "8qZpOSEpqs8jNhVtwK6ISrsuBjtiA4agDOw3KfrQXFmRbGLORaMgWNOmSZu/DCf9n7wNMwH2eX/x\n",
       "vTNcncY2T7rZpI9uRUiZefT/PCJNLZTIBx8t7athAETa1enVUFNosu1xufD7wOuN48RjCrO9f/Z3\n",
       "UY7BPCG1GfTNWptQ0IPiGpTcp8N9kcf5bBDbvdfEAp2Ss/diWeX838RQGScCdNmfAPN8KNAzhdqc\n",
       "X7qTq7zCdy+6gYSUG31+F8tX4CetSO9kMMfw78db6lD3owavekU89Ipy3aFtjl7YFWCoi1zFEbar\n",
       "3oJ11EPQTnYx+KMJzjsvYL4jJgkVc+7Jx8DuXGKnfwdCa2vNOqEt1XggWueDt7xXkp1d4qEAAAC2\n",
       "QZ4eRRUsO/8AAkDjoM+tMzfVABpPTyYfnprad9wXgFN5YYaFb4blY3kcErnKH7K6RdcpFbc3a+JD\n",
       "zYZnabv65U+LRwoIV5er1XW1OBhba2GrjBySdU6nKWS5lIKhLJnYQ4i5xEQm+8DZfYrP/8Emu6NO\n",
       "ge99vRwk5+hhat7lwlIaKd/LsfHnPfhYvIVsId6QD5fT6Wo9mvfznaOujWxVe1aXYmLsI0rl0Qp6\n",
       "5gSw795eidtQf4AAAACTAZ49dEN/AAM31T7+xKkAHzuyGmfz0Blm5QlNk84N/gRKHOSxbNz/vOKa\n",
       "YUbS3guiIhx2xt6xCwIR9P7NCylxU4WNe/LR2o0Bc535a4JmyjuI0j7JrmSBV51YORoOffBy2fYk\n",
       "I6hr+gFUekemnju0jOpizRGd+CU//ZTBvA9Pg9MydKVEvZDD/BPjA98jsXvyB4poAAAAhAGeP2pD\n",
       "fwADHP4CPwHFAATqRU/GZyyAvq1tfZZGjqhHK3d37tCU1eyxDNrjWu7Kuhu1ihOklh+G4Esy/C11\n",
       "BMnfMauKIH4MiB1Cg8jHooU+r3rxGqDbpSrAGw4BK/nRjqnWK3lAGD3sRKCk6YRGH9GMa3W+1EOX\n",
       "G/B2APGaCn2NfgFidwAAAUFBmiRJqEFsmUwId//+qZYABGeV/UwI6LCEAJJZyaEZ0EQ50pv/Xc/+\n",
       "QvB2xTxbrgH1gQkZyVF/6JHfMn25KlDAPpT9Crk+Y+2oltWdJSffye3XwQIERbZdSDY9qNFxJEJp\n",
       "Cwoxr1c1hflbB7HfIRcMwkzW3m39G26t1c3GpLA0op+Zl+aqH3CHRI4hrfHdbZvnSrGpTurCvSI6\n",
       "gY4RuKqcMVNNZIyXsKp78y8Fb8xaibOZCw9tBOmMSOB91fYtijyUG1aW2c/xXj+AmHBv1xD5T8mV\n",
       "mt6C2HNCY9Amg0Syr3cnzEYkmuzga1dHm8R+jyM/8zCUfNPlU6rgAPY918fi/d0mCkz3lmtvXD8J\n",
       "WtQvFJN2qAP9ymxYz2FfwqmYswNf5N1Q18G1xlGCmVIp/5NLvNaNUMWAJ4QRrUJRPjepYFQAAACx\n",
       "QZ5CRRUsO/8AAjJ8wASQG3KOVNZ/g7oSlv0uxHSR1LvArpLAUsyhSaPVbjJy7UfefvZgaXqGhTo7\n",
       "H9JKor9RSCzaww/RG7mwy+u0zJ7xDlrGgcV3TEE9n2S2VCxd9WrTFe1CJ/jDlYU5HdGq5lm7Tgg5\n",
       "hoHAJ5srcgM6PC0jMVSDRP3Z7sEL43aSrDG+NrHk1Xdo6OUiqOranIfWZhkJbib7HNCrpu1cchBc\n",
       "8m5ByjKhAAAAvwGeYXRDfwADJlrgBMyJnJSavWSuIg9oIFZ+n8RjBDTOjGbo9MVlUKyOhJr6oqPO\n",
       "lMUCqTIEiC80e5kZQ239mJ5Op+KMsCOSF9F0JPEXBknScuutGDJUXU6+d4fqLP30T+eucLQUmQQL\n",
       "EzYtH5C/PWqMm7JxLkn/ClPQTdVt4mUDxMmuSDN0DUQCXYQknw5f8RQS5PlAfAwF0DiBHrhLSwEF\n",
       "CsWOI571VbtAeIjv6UGgmIpflqJxrED7ZNSJrBZwAAAApQGeY2pDfwADGaRrlf35ACW4wW0vbtVq\n",
       "BWb4h/tcfvpSOlTqU8HF85MAdfOUHqCTg+KSXFcLD/2h67i60u43X+u6Fq1IvjxCvHTwgX4BNdEP\n",
       "sUOTafKmZd8l92WBxhNzV5I5xWAEtDHMfXQ/1Tza6jppWLQrDMVrRJbIPmTZ/3g6V2WbPpxcXSis\n",
       "Qv0nTU30zFNSMEo5wgQjmWycleRWdnavYgo1IQAAAWBBmmhJqEFsmUwId//+qZYABIDa7AAizBaZ\n",
       "anIYpa3g75XoiDAejgM5usmihjuWdh7ja8grfa1zEo7NJJzKnLFOrvVC3m4FOmP1oPOMO1JehM/X\n",
       "hU2j874Tx3G8z+E6DemJKebgth97l5STuO5yKRlMFMYzo6D5JQcMFcptfY31q6zug3oEv1aUg0Yi\n",
       "oQNZd/Vlj9s+i+gfYTYci/3ItgKuF6yPGmMKnLQDXW4Sx4dx0Dfei4t0GQgvpoussfDCbTSURM3j\n",
       "rqwlq/BaN5xQ32UH0VLcLr5WIhWI56zR94Jdo87Z3H7wnCOBbomM7dz5t/lBK6FLqjQnV0ZEFjS4\n",
       "IzCCVdTDBM6qqaE/4DD4TvMBNc7eAYJBVZoPO7978Lo64AlIlorXa7kMZf4SSMS77EZKFlXRBTf3\n",
       "8RM1X9OofXyrSP6hZPUTwBne3M9/O37pZ97lKenMEYeBhW5dqQUAcP0RAAAAiUGehkUVLDv/AAJB\n",
       "H7yMl4ugBLIt9kn66X4XnIqh6v2/vWSpALiOTvTtFAInwWqYpsPg/Nvh10d4vj+K7WIVzb8+ZZhC\n",
       "ZgdOUdG4XTgIOS7/SVZWO1GMD5BVpYzUJDo0zjm0C7bNmFWg3ir+07pDeZZ0FzNtn+BhFsxhcqJ/\n",
       "jV7AzmsGEJfBQQXFAAAAjAGepXRDfwADHcuD7m5ACWnH2Kq8CDWjErpaII05vKarLrsJhqtOPMri\n",
       "TNMIN/w830eXinQ4ydGMBqXQTT29nEZKeAu8GqWVWtp/iBQL7ypFB33gtCSfnQqNUuZ9xWeALPb2\n",
       "MeTHEG7Zvs01MSXidph8o2nJd2XbRJ2EDd+UU3vItKPP4CL/cJAF2BbRAAAAvwGep2pDfwADN/9X\n",
       "9PiJACQLaZsjqcRp4X/CsujnjVNwYBL/DaQ2TfQ9qhB/yBjrnoDRwf+DeXEwu3shEPK6nKgEv/Vv\n",
       "tcs9WpjiO7YR7oiRzpZbrmgTbUu/n+9x74pRRylyyBDjk8YVQ0lTtUd/Sf1KMKgFuXEN3N4SUMDu\n",
       "eGmFrqgABTpEUsebHvTwgoZQ+uV7llUFeneD7jawXk6JiGEw5f8U3OqkxKiyZmZ13DvuLJQtxF0m\n",
       "SGw23KO5KwXEAAABSEGarEmoQWyZTAh3//6plgAEZIPHJ12ygBYTukq0J3Th5TdYFUi/eC6Dy4FT\n",
       "s05prJnKQsyJbbf5dLvEpOEtg4ywYvj2xVgqPhks26cQdVKbQGVyVZydBZrmYKg5nJvMFor421Z1\n",
       "+XVOhhbDbkwnNxJ2PbsUcjjk7KMYLoJ87P0CTGRtFrZq28B+L3B5OAb0jDtE3wcMXt+jjfS7Z12Q\n",
       "ijdg61dweVQIdSXWU6e1FMg6YV4Q5Ed35AheD011POxjUw0KoIiTXjMI16MH2Pi/0yQ43XjY1Msf\n",
       "uSLKbIv6lT7GJ8HrDaj+D6yWW5bgOR1LlZqbCtDnZC3EWtDhgTDHs3WfK4Igav215Lsd9wPX7ZFy\n",
       "C9Y37fBqtrLEcvMKWjkts8IuZhfoc1OKwOYPVV24WOWJ2ln6SeyUFrHkF1XzsOhPTQeFzsBXS4gA\n",
       "AAC2QZ7KRRUsO/8AAikqVWKZiCt6oALWdk+4i0nj106vdI/bl0wHKUQnk9CMHEz25R1u9/fPQy8l\n",
       "tfvY+ymSJyZ7qzEYYX5bm41ax79ei1DukWoBBD+pCRTdHo7iUxhvLP3Oser0H6Nfb1ELxEqP2mvM\n",
       "2fCBwvrGcjXgWMZg+E8EdrbOzcoV6BHtNThW54jX00LBGdPyfAR//hvh3PUBLfmeqrHFlDDYwZVO\n",
       "joN6FWMOovK9/TdvUXEAAACRAZ7pdEN/AAMi5E7HwAE7e3uvwdyhs7s0ru3vvZ/mBSs2wsWkzHqA\n",
       "WF90orhd1Su7T4twFPMrO56PMZIUGTjFDF4XPYHp12pE88LY3Cyr7Z3JyKtox1t9SFkrbm2LeWBx\n",
       "NMgMf+UQLriQ6ilN90iQvHYBtQEu7x48HcDjSuf37o33Wdlxdg4Dy6omeGekPVIQ8AAAAJQBnutq\n",
       "Q38AAyNVQRDQkAJFIi8BTrJM+UTMCw0AbWfh/o2alykGXCyjAJOf/zlhWdWV6Njl5+Pk+gfwuHDD\n",
       "hvLK47l5MgAYwkhGqMgvDSBdFV1V3fIGIg/Tc6DiYK0C42wXcYtEeAEVJzT7BPEVBBT7H+Ml6lK+\n",
       "2tECuD4ozG0Qa8RNoQ/GN3oT1ndUO9SkAGqOHTGzAAAAzUGa70moQWyZTAgh//6qVQABIFqXgAQp\n",
       "8+JER3CAt3hbcXrf9Furg3WY5jGwwH8IPUm/L7L7vriKDRXUXXW3N9jANMwhrGycoIVqY7YdjcfR\n",
       "vONBLDmaRUQGb7lqX3pkOmThGD1SfrF38WB2fhxxjCAGiUB76iMdZUAQ0tobWmoW+vRULzKQoJs7\n",
       "0DOhZ2mSi7gC60e4Mub66cTQoHZyYOCM/HkYsnvY3zBtNFZigbDYxUXFc548xAkLudOHX1kyET7d\n",
       "+j3aWVpQ0KOQ4vcAAACKQZ8NRRUsN/8AAyZa4ATLz3tGYSv8SpX7XcNEc5rgpxOKm45pDhUfSwEA\n",
       "JxnSgmo6HRG6Eppvj5S3Rk6R5a5irSMlqc9b/30Tx2qYLKymLFZ1AyUzoUcBbP0/pBEjw9FLDxk/\n",
       "9kPrm5GLHuluvSvZnX73nZcqc9dzh4upSLdTyfIG7s8085a7mC8hAAAAlAGfLmpDfwADHHX6mCnh\n",
       "Y/gA+CrtEOan/yf+4mUdIHu31SrmTMFglVdph2ZF1gGfq/w8mxmD63Rc+9SmyL8vIzMhLWaTO4hB\n",
       "o7Gauqk9K+9mS2VgrbOQGKai5BTJWPP/WxnegmIcK5U4/stswlv4H4kGG5dZ65K+LCt7C4yzkXcA\n",
       "1O4IYRilecXLUVTl4s9zuEOwXkEAAAF1QZszSahBbJlMCHf//qmWAASA2uwADTtNayV/jjgctl7A\n",
       "t49zoBAy5DkLTgdn/5EZTl+sNXQN/7kCbHMJW/waRHNRKi3eZekc2cC3eAbe/0QN15CMpCTqMHKy\n",
       "u1Pk+7mZcDYn1z6H8SBgW+p7l2tJ0K2uEVl6wDh+d3JYK0JU6RiwQ3w/4ELtzoNz8K6FZs5gNxrW\n",
       "hpnNe/u45rpyr/RNoKWAJjDsgcOmqupDgpc74Ce1DBFlO6tOG3rIXP4aIIk6OMdQ+yGssPPSaRrF\n",
       "kzf11vZJDvPsb/c2LCj3O7rlKw3Vf6pe0FHF9EUiVfibt307SXh+VUUaGeQWniQ/me4YZuA4T8hw\n",
       "Gsg+BadK7X3+9RASArlVdJQhZeJ5BEPhZKv1vjFTu2iliZmSsNRhOZOUoXdCnZbo1Hn1gz/2Bff6\n",
       "cXjoTKR926B3uIA2fO9whZtsbT1O4sPjAj1eD3luguAxpsC9T5L0twQ/mSl+cafRInhb86PZkAAA\n",
       "AK5Bn1FFFSw7/wACQOPkljfoAJNktcjSQDAgWURjLSVRMr3H55jq2rwRMptQNYto62pjo1N7HMgz\n",
       "Xj3U9T0Qf/aY0AJKa1aEqHEqri7RBh7PU8G5KhxugtV9TnaNnZ3FVqkmiFX9HSstSmReMMclcS1c\n",
       "7+YK5j0esmJdYxt2Avfu6pBSlAe5Huu61TiN0xlJd+EwLmC5FrwktbQJ0RhY3YAdZDFWInreCVbL\n",
       "accPDAgAAACZAZ9wdEN/AAM4gvZn/XYJACRp4E73Tp1tgwo02yChra5EuIJatcz1/6gN6Wkj7Uqw\n",
       "c4HHk2TAtehOArg+KzpV5avtaKHX3nCqM/SRSx6Ck0qwuSaFINJfsuwUhD1NdAJ0eGYYQn0p45k6\n",
       "WVZbo3OQ/RgN84oCT1ZoTDWyq/ovEmasdJRZnr+iTJlBTwayqzaw3g6TSLT+WLyBAAAAiQGfcmpD\n",
       "fwADH79oDEvzubkAJRTnk2sxAiDJTJ/R3N/7c+7y7bUx1hlsGGuao3Esoaik9510f/zS3kMsj56h\n",
       "oUOG/JtKc4JKn1eFgfF357exUjJbQQWtRIpey6W3Fsd3KdP7WOEhoEWfZbIeVJbDogrdVMX4xZ8r\n",
       "j+mjWt6b40kTrvAgo88FxYQcAAAA1EGbdkmoQWyZTAhv//6nhAAIpy7Udx5ACZE0pevvmXiaGTQo\n",
       "tqiLPiA1IJcOZ0o55B7wUc+hGbf+eu3SLVQs8p4WoE7bRthUyxR/7LQO+Kw709QBBu09Dh3rKd0L\n",
       "keGdEc9XYMwYXI+JQRXREmXoyclJIArHBZbkfmWr/as1tbpmaY2H1NmhsFx84T4lNnZAexl4cEk0\n",
       "bCDY6PiJx+plPKN3nJf5m6W3LHpXBXQxx+MeHpfB6jA//W5Z60+EFh3f0TCXZXbB/pPDDY+mpzco\n",
       "Ba3Jv52AAAAAhEGflEUVLDf/AAMjOwBA4AW9cLEltRvQGwVbXL3Z3nMSb00N8OVIAyATP2L/wiGu\n",
       "egJ12r9eR/ZyukVL/PIhvKbUfdyqkkPUziE1bpSurysInou75OPU0A1KOPq9bVOmu9O9+xllFKpv\n",
       "tWV5CG2KJhInH1srQoMhd5KGqKzs2+AIqZUI+QAAAKoBn7VqQ38AAyZa4ATMiZ2P9VSZeoyNoGzt\n",
       "P6B7Pi7kKkQdVXu87nM2O3b5OQHA0ofsQq2uKPddHTGAJGudq2bN7qFbTYTvBf5vQRCWeUHuuXl1\n",
       "965rmrxFVotjpSg3ZvGJDtTGNpCYuyJ0iU/j1rvPRbd7ybeQv1gvU9htuh3il+0wOejRlCDpY9WE\n",
       "1ancNE5mrxy5/GYc7mj0k4kMaKlUrTkmL7fmnp4uIAAABbVtb292AAAAbG12aGQAAAAAAAAAAAAA\n",
       "AAAAAAPoAAAVfAABAAABAAAAAAAAAAAAAAAAAQAAAAAAAAAAAAAAAAAAAAEAAAAAAAAAAAAAAAAA\n",
       "AEAAAAAAAAAAAAAAAAAAAAAAAAAAAAAAAAAAAAAAAAACAAAE4HRyYWsAAABcdGtoZAAAAAMAAAAA\n",
       "AAAAAAAAAAEAAAAAAAAVfAAAAAAAAAAAAAAAAAAAAAAAAQAAAAAAAAAAAAAAAAAAAAEAAAAAAAAA\n",
       "AAAAAAAAAEAAAAACgAAAAeAAAAAAACRlZHRzAAAAHGVsc3QAAAAAAAAAAQAAFXwAAAgAAAEAAAAA\n",
       "BFhtZGlhAAAAIG1kaGQAAAAAAAAAAAAAAAAAACgAAADcAFXEAAAAAAAtaGRscgAAAAAAAAAAdmlk\n",
       "ZQAAAAAAAAAAAAAAAFZpZGVvSGFuZGxlcgAAAAQDbWluZgAAABR2bWhkAAAAAQAAAAAAAAAAAAAA\n",
       "JGRpbmYAAAAcZHJlZgAAAAAAAAABAAAADHVybCAAAAABAAADw3N0YmwAAAC3c3RzZAAAAAAAAAAB\n",
       "AAAAp2F2YzEAAAAAAAAAAQAAAAAAAAAAAAAAAAAAAAACgAHgAEgAAABIAAAAAAAAAAEAAAAAAAAA\n",
       "AAAAAAAAAAAAAAAAAAAAAAAAAAAAAAAAAAAY//8AAAA1YXZjQwFkABb/4QAYZ2QAFqzZQKA9oQAA\n",
       "AwABAAADABQPFi2WAQAGaOvjyyLA/fj4AAAAABx1dWlka2hA8l8kT8W6OaUbzwMj8wAAAAAAAAAY\n",
       "c3R0cwAAAAAAAAABAAAANwAABAAAAAAUc3RzcwAAAAAAAAABAAAAAQAAAbhjdHRzAAAAAAAAADUA\n",
       "AAABAAAIAAAAAAEAABQAAAAAAQAACAAAAAABAAAAAAAAAAEAAAQAAAAAAQAAFAAAAAABAAAIAAAA\n",
       "AAEAAAAAAAAAAQAABAAAAAABAAAUAAAAAAEAAAgAAAAAAQAAAAAAAAABAAAEAAAAAAEAABQAAAAA\n",
       "AQAACAAAAAABAAAAAAAAAAEAAAQAAAAAAQAAFAAAAAABAAAIAAAAAAEAAAAAAAAAAQAABAAAAAAB\n",
       "AAAUAAAAAAEAAAgAAAAAAQAAAAAAAAABAAAEAAAAAAEAABQAAAAAAQAACAAAAAABAAAAAAAAAAEA\n",
       "AAQAAAAAAQAAFAAAAAABAAAIAAAAAAEAAAAAAAAAAQAABAAAAAABAAAUAAAAAAEAAAgAAAAAAQAA\n",
       "AAAAAAABAAAEAAAAAAEAABQAAAAAAQAACAAAAAABAAAAAAAAAAEAAAQAAAAAAQAAFAAAAAABAAAI\n",
       "AAAAAAEAAAAAAAAAAQAABAAAAAABAAAQAAAAAAIAAAQAAAAAAQAAFAAAAAABAAAIAAAAAAEAAAAA\n",
       "AAAAAQAABAAAAAABAAAQAAAAAAIAAAQAAAAAHHN0c2MAAAAAAAAAAQAAAAEAAAA3AAAAAQAAAPBz\n",
       "dHN6AAAAAAAAAAAAAAA3AAAHyQAAAcEAAACeAAAAbwAAALAAAAGGAAAAowAAAGgAAAB0AAAB9QAA\n",
       "AJUAAABsAAAAoQAAAUwAAACQAAAAiwAAAGcAAAHqAAAAnQAAAHAAAACiAAABMgAAAJsAAACAAAAA\n",
       "jgAAAS4AAACdAAAAjAAAAJYAAAGRAAAAugAAAJcAAACIAAABRQAAALUAAADDAAAAqQAAAWQAAACN\n",
       "AAAAkAAAAMMAAAFMAAAAugAAAJUAAACYAAAA0QAAAI4AAACYAAABeQAAALIAAACdAAAAjQAAANgA\n",
       "AACIAAAArgAAABRzdGNvAAAAAAAAAAEAAAAwAAAAYXVkdGEAAABZbWV0YQAAAAAAAAAhaGRscgAA\n",
       "AAAAAAAAbWRpcmFwcGwAAAAAAAAAAAAAAAAsaWxzdAAAACSpdG9vAAAAHGRhdGEAAAABAAAAAExh\n",
       "dmY2MC4zLjEwMA==\n",
       "\">\n",
       "  Your browser does not support the video tag.\n",
       "</video>"
      ],
      "text/plain": [
       "<IPython.core.display.HTML object>"
      ]
     },
     "metadata": {},
     "output_type": "display_data"
    }
   ],
   "source": [
    "import IPython.display as display\n",
    "from matplotlib.animation import ArtistAnimation\n",
    "\n",
    "# Create the animation\n",
    "ani = ArtistAnimation(fig, frames, interval=100, blit=True)\n",
    "html = display.HTML(ani.to_html5_video())\n",
    "display.display(html)\n",
    "plt.close()"
   ]
  },
  {
   "cell_type": "code",
   "execution_count": null,
   "metadata": {
    "editable": true,
    "slideshow": {
     "slide_type": ""
    },
    "tags": []
   },
   "outputs": [],
   "source": []
  },
  {
   "cell_type": "code",
   "execution_count": null,
   "metadata": {
    "editable": true,
    "slideshow": {
     "slide_type": ""
    },
    "tags": []
   },
   "outputs": [],
   "source": []
  }
 ],
 "metadata": {
  "kernelspec": {
   "display_name": "Python 3 (ipykernel)",
   "language": "python",
   "name": "python3"
  },
  "language_info": {
   "codemirror_mode": {
    "name": "ipython",
    "version": 3
   },
   "file_extension": ".py",
   "mimetype": "text/x-python",
   "name": "python",
   "nbconvert_exporter": "python",
   "pygments_lexer": "ipython3",
   "version": "3.9.17"
  }
 },
 "nbformat": 4,
 "nbformat_minor": 4
}

{
 "cells": [
  {
   "cell_type": "markdown",
   "metadata": {
    "editable": true,
    "slideshow": {
     "slide_type": ""
    },
    "tags": []
   },
   "source": [
    "(sec:q-learning)=\n",
    "# Q学習の基礎"
   ]
  },
  {
   "cell_type": "markdown",
   "metadata": {
    "editable": true,
    "slideshow": {
     "slide_type": ""
    },
    "tags": []
   },
   "source": [
    "ここまでで扱った多腕バンディット問題は、取れる行動の種類が少なく、また、問題の状態が変化しない、すなわち、いつスロットを回しても、各アームの当たり確率は変化しない、という特徴があった。しかし、実際の問題は取れるべき行動の種類が多く(場合によっては連続変数)、また、ある時刻で取った行動により、行動を行う対象の状態が変化するのが一般的である。\n",
    "\n",
    "このような状況において用いられる強化学習の手法に**Q学習**がある。Q学習のQとは**行動価値関数**を表すQ値のQであり、とある**状態**$s$ (stateのs)において取った**行動**$a$ (actionのa)の価値を関数として、$Q(s, a)$のように表す。\n",
    "\n",
    "このようなQ値を学習する方法はQ学習以外にも**SARSA**(state-action-reward-state-action)と呼ばれる方法もあるが、本節ではQ学習に絞って説明する。"
   ]
  },
  {
   "cell_type": "markdown",
   "metadata": {},
   "source": [
    "---"
   ]
  },
  {
   "cell_type": "markdown",
   "metadata": {},
   "source": [
    "**Google Colab用の準備**"
   ]
  },
  {
   "cell_type": "code",
   "execution_count": 26,
   "metadata": {
    "editable": true,
    "slideshow": {
     "slide_type": ""
    },
    "tags": [
     "hide-input",
     "remove-output"
    ]
   },
   "outputs": [
    {
     "name": "stdout",
     "output_type": "stream",
     "text": [
      "You are running the code on the local computer.\n"
     ]
    }
   ],
   "source": [
    "IN_COLAB = True\n",
    "try:\n",
    "    import google.colab\n",
    "\n",
    "    print(\"You are running the code in Google Colab.\")\n",
    "except:\n",
    "    IN_COLAB = False\n",
    "    print(\"You are running the code on the local computer.\")\n",
    "\n",
    "if IN_COLAB:\n",
    "    # Gymnasiumのインストール\n",
    "    !pip install myst-nb\n",
    "    !pip install \"gymnasium[classic-control]\"\n",
    "    pass"
   ]
  },
  {
   "cell_type": "markdown",
   "metadata": {
    "editable": true,
    "slideshow": {
     "slide_type": ""
    },
    "tags": []
   },
   "source": [
    "**下準備のコード**"
   ]
  },
  {
   "cell_type": "code",
   "execution_count": 28,
   "metadata": {
    "editable": true,
    "slideshow": {
     "slide_type": ""
    },
    "tags": [
     "hide-input"
    ]
   },
   "outputs": [],
   "source": [
    "import random\n",
    "\n",
    "import numpy as np\n",
    "import seaborn as sns\n",
    "import matplotlib\n",
    "import IPython.display as display\n",
    "import matplotlib.pyplot as plt\n",
    "from tqdm.notebook import tqdm\n",
    "from matplotlib.animation import ArtistAnimation\n",
    "\n",
    "# 乱数のシードを固定\n",
    "random.seed(31415)\n",
    "np.random.seed(31415)\n",
    "\n",
    "# グラフの設定\n",
    "matplotlib.rcParams[\"figure.dpi\"] = 150\n",
    "sns.set(style=\"white\", palette=\"colorblind\")"
   ]
  },
  {
   "cell_type": "code",
   "execution_count": 29,
   "metadata": {
    "editable": true,
    "slideshow": {
     "slide_type": ""
    },
    "tags": [
     "remove-output",
     "remove-input"
    ]
   },
   "outputs": [],
   "source": [
    "from myst_nb import glue"
   ]
  },
  {
   "cell_type": "markdown",
   "metadata": {
    "editable": true,
    "slideshow": {
     "slide_type": ""
    },
    "tags": []
   },
   "source": [
    "## 背景"
   ]
  },
  {
   "cell_type": "markdown",
   "metadata": {
    "editable": true,
    "slideshow": {
     "slide_type": ""
    },
    "tags": []
   },
   "source": [
    "Q学習で扱う対象は**Markov決定過程**と呼ばれる状態遷移のモデルである。\n",
    "\n",
    "Markov決定過程をかみ砕いて言えば、その時々で取った行動により次の状態が変化するが、それより過去に取った行動がその状態の変化に影響を与えることはない、という性質 (この性質を**Markov性**と呼ぶ)を満たす状態遷移のモデルである。\n",
    "\n",
    "Markov性を満たす状態遷移であれば、とある状態$s$において、行動を$a$取ったときに、別の状態$s'$に移る確率は$s, a$だけに関する事後確率として$P(s' | s, a)$のように書ける。\n",
    "\n",
    "Q学習では、この事後分布$P(s' | s, a)$を用いて、行動評価関数$Q(s, a)$が以下のBellmanの最適性公式を満たすと仮定する。\n",
    "\n",
    "$$\n",
    "Q(s, a) = R(s, a) + \\gamma \\sum_{a' \\in \\mathcal{A}} P(s' | s, a) Q(s', a')\n",
    "$$ (eq:bellman-equation)\n",
    "\n",
    "この式において$\\gamma$は**割引因子** (discount factor)と呼ばれる値で、$0 < \\gamma < 1$であり、$R(s, a)$は状態$s$において行動$a$を取ったときに即座に得られる報酬を表す。\n",
    "\n",
    "{eq}`eq:bellman-equation`は、**最適な行動価値関数が、その時、即座に得られる報酬$R(s, a)$と未来の行動から得られる報酬に一定の減衰を加えたものの和として表せる**ことを示している。\n",
    "\n",
    "一方、多くの状態遷移のモデルでは、状態遷移は確率的なものではなく、行動$a$の結果として**一意に次の状態が決まる**ことが多い。そこで$P(s' | s, a) = 1$と仮定する。さらに、仮に理想的なQ関数が求まっているのであれば、$s'$において行動価値が最大になる行動$a'$をQ関数から決定できるので、$a'$は行動価値が最大になるものであると仮定する。\n",
    "\n",
    "これら2つの仮定により、{eq}`eq:bellman-equation`は、以下の形で書き直せる。\n",
    "\n",
    "$$\n",
    "Q(s, a) = R(s, a) + \\gamma \\max_{a' \\in \\mathcal{A}} Q(s', a')\n",
    "$$ (eq:bellman-equation-2)\n",
    "\n",
    "Q学習は、{eq}`eq:bellman-equation-2`を満たすような$Q(s, a)$を強化学習の枠組みによって求めるものである。"
   ]
  },
  {
   "cell_type": "markdown",
   "metadata": {
    "editable": true,
    "slideshow": {
     "slide_type": ""
    },
    "tags": []
   },
   "source": [
    "## アルゴリズム"
   ]
  },
  {
   "cell_type": "markdown",
   "metadata": {
    "editable": true,
    "slideshow": {
     "slide_type": ""
    },
    "tags": []
   },
   "source": [
    "Q学習は、実際の環境において、適当な行動を取ったときに得られる報酬と状態遷移から、{eq}`eq:bellman-equation-2`の両辺の差が小さくなるように$Q(s, a)$の値を更新する。\n",
    "\n",
    "典型的なQ学習の実装では、$s$と$a$を離散化して、$Q(s, a)$を二次元配列として扱う。このような離散化されたQ関数を**Qテーブル**と呼ぶ。\n",
    "\n",
    "Qテーブルの更新は現在の$Q(s, a)$の値 (学習途中は必ずしも{eq}`eq:bellman-equation-2`を満たしていないことに注意)を{eq}`eq:bellman-equation-2`の右辺に近づくように更新する。\n",
    "\n",
    "具体的には、学習率$0 < \\alpha < 1$を用いて、以下の式で$Q(s, a)$を更新する。\n",
    "\n",
    "$$\n",
    "Q_{\\rm new}(s, a) = (1 - \\alpha) Q(s, a) + \\alpha \\left[ R(s, a) + \\gamma \\max_{a'} Q(s', a') \\right]\n",
    "$$\n",
    "\n",
    "また、この式は以下の形で書き直すことができる。\n",
    "\n",
    "$$\n",
    "Q_{\\rm new}(s, a) = Q(s,a ) + \\alpha \\left[ R(s, a) + \\gamma \\max_{a'} Q(s', a') - Q(s, a) \\right]\n",
    "$$ (eq:q-update)\n",
    "\n",
    "{eq}`eq:q-update`の右辺の\n",
    "\n",
    "$$\n",
    "R(s, a) + \\gamma \\max_{a'} Q(s', a') - Q(s, a)\n",
    "$$\n",
    "\n",
    "は、**TD誤差** (temporal difference error)と呼ばれ、Q学習はこのTD誤差を最小化する問題であると言い換えることができる。"
   ]
  },
  {
   "cell_type": "markdown",
   "metadata": {
    "editable": true,
    "slideshow": {
     "slide_type": ""
    },
    "tags": []
   },
   "source": [
    "## 倒立振子のバランシング"
   ]
  },
  {
   "cell_type": "markdown",
   "metadata": {
    "editable": true,
    "slideshow": {
     "slide_type": ""
    },
    "tags": []
   },
   "source": [
    "Q学習を実際に試すために、比較的単純な倒立振子のバランスを取るゲームについて考える。倒立振子のシミュレータは[Gymnasium](https://gymnasium.farama.org/)というライブラリ(旧名: OpenAI Gym)から簡単に使用することができる。\n",
    "\n",
    "モジュール`gymnasium`をインポート後 (`gym`とエイリアスをつける)、`gym.make`関数を用いてゲーム環境`env`を作成してみる。\n",
    "\n",
    "`gym.make`関数に倒立振子のゲーム環境である`CartPole-v1`を指定し、`render_mode`パラメータに`rbg_array`を指定する。\n",
    "\n",
    "このように`render_mode`を指定しておくと、`env.render`関数によって画面の情報をNumPyの配列として得ることができるので、Matplotlibを用いて、初期状態を描画してみる。"
   ]
  },
  {
   "cell_type": "code",
   "execution_count": 30,
   "metadata": {
    "editable": true,
    "slideshow": {
     "slide_type": ""
    },
    "tags": []
   },
   "outputs": [],
   "source": [
    "import gymnasium as gym\n",
    "\n",
    "# ゲーム環境の作成\n",
    "env = gym.make(\"CartPole-v1\", render_mode=\"rgb_array\")\n",
    "\n",
    "# ゲーム環境のリセット\n",
    "obsrv = env.reset(seed=31415)\n",
    "\n",
    "# 現在の状態をRGB画像として取得する\n",
    "img = env.render()"
   ]
  },
  {
   "cell_type": "code",
   "execution_count": 31,
   "metadata": {
    "editable": true,
    "slideshow": {
     "slide_type": ""
    },
    "tags": [
     "hide-input"
    ]
   },
   "outputs": [
    {
     "data": {
      "image/png": "[encoded data removed]",
      "text/plain": [
       "<Figure size 960x720 with 1 Axes>"
      ]
     },
     "metadata": {},
     "output_type": "display_data"
    }
   ],
   "source": [
    "fig, ax = plt.subplots()\n",
    "ax.imshow(img)\n",
    "ax.set(xticks=[], yticks=[])\n",
    "plt.show()"
   ]
  },
  {
   "cell_type": "markdown",
   "metadata": {
    "editable": true,
    "slideshow": {
     "slide_type": ""
    },
    "tags": []
   },
   "source": [
    "このように、CartPoleは台車 (cart)の上に倒立振子 (pole)が取り付けられたものを制御して、できる限り長い時間、振子が倒れないようにバランスを取るゲームである。"
   ]
  },
  {
   "cell_type": "markdown",
   "metadata": {
    "editable": true,
    "slideshow": {
     "slide_type": ""
    },
    "tags": []
   },
   "source": [
    "倒立振子は、その状態を表すいくつかのパラメータを持っており、それが`reset`関数の戻り値として取得される`obsrv`の中に格納されている。\n",
    "\n",
    "`obsrv`は`tuple`型の変数になっていて、CartPole環境の場合には**第1要素に状態を表す変数が入っている**。"
   ]
  },
  {
   "cell_type": "code",
   "execution_count": 32,
   "metadata": {
    "editable": true,
    "slideshow": {
     "slide_type": ""
    },
    "tags": []
   },
   "outputs": [
    {
     "name": "stdout",
     "output_type": "stream",
     "text": [
      "[-3.1067048e-05 -3.8479745e-02  3.6217723e-02  3.3740070e-02]\n"
     ]
    }
   ],
   "source": [
    "# 現在の状態変数を確認\n",
    "print(obsrv[0])"
   ]
  },
  {
   "cell_type": "markdown",
   "metadata": {
    "editable": true,
    "slideshow": {
     "slide_type": ""
    },
    "tags": []
   },
   "source": [
    "CartPole環境の場合は、4つの浮動小数が格納されており、先頭から、\n",
    "- 台車の水平位置\n",
    "- 台車の速度\n",
    "- 振子の角度\n",
    "- 振子の角速度\n",
    "をそれぞれ表している。\n",
    "\n",
    "また、それぞれの値が取る範囲は以下のようになっている [[参考URL]](https://gymnasium.farama.org/environments/classic_control/cart_pole/)。\n",
    "\n",
    "|Num|Observation|Min|Max|\n",
    "|---|---|---|---|\n",
    "| 0 | 台車の位置 | -4.8 | +4.8 |\n",
    "| 1 | 台車の速度 | -Inf | +Inf |\n",
    "| 2 | 振子の角度 | -24° | +24° |\n",
    "| 3 | 振子の角速度 | -Inf | +Inf |"
   ]
  },
  {
   "cell_type": "markdown",
   "metadata": {
    "editable": true,
    "slideshow": {
     "slide_type": ""
    },
    "tags": []
   },
   "source": [
    "この値は、`env`の`observation_space`フィールドで確認することができる。\n",
    "\n",
    "CartPole環境の場合には`observation_space`は`Box`という型で表されていて、`low`、`high`というフィールドにパラメータの最小値、最大値が格納されている。"
   ]
  },
  {
   "cell_type": "code",
   "execution_count": 33,
   "metadata": {
    "editable": true,
    "slideshow": {
     "slide_type": ""
    },
    "tags": []
   },
   "outputs": [
    {
     "name": "stdout",
     "output_type": "stream",
     "text": [
      "Lower bound: [-4.8000002e+00 -3.4028235e+38 -4.1887903e-01 -3.4028235e+38]\n",
      "Upper bound: [4.8000002e+00 3.4028235e+38 4.1887903e-01 3.4028235e+38]\n"
     ]
    }
   ],
   "source": [
    "print(\"Lower bound:\", env.observation_space.low)\n",
    "print(\"Upper bound:\", env.observation_space.high)"
   ]
  },
  {
   "cell_type": "markdown",
   "metadata": {
    "editable": true,
    "slideshow": {
     "slide_type": ""
    },
    "tags": []
   },
   "source": [
    "Gyminasiumのゲーム環境には、この他にも多数の関数が用意されており、それを強化学習に用いることができる。\n",
    "\n",
    "まずは、その挙動を理解するために、ランダムに行動を選んだ場合にどのような動きになるのかを確認してみよう。\n",
    "\n",
    "ランダムな行動選択には、`env.action_space.sample()`を使うことができる。CartPole環境の場合には`env.action_space.n`に格納されているとおり、取り得る行動は **0: 左に移動**, **1: 右に移動** の2つだけなので、`sample`関数はこのうちの一方をランダムに返してくる。"
   ]
  },
  {
   "cell_type": "code",
   "execution_count": 34,
   "metadata": {
    "editable": true,
    "slideshow": {
     "slide_type": ""
    },
    "tags": []
   },
   "outputs": [
    {
     "name": "stdout",
     "output_type": "stream",
     "text": [
      "0\n",
      "1\n",
      "1\n",
      "1\n",
      "0\n",
      "1\n",
      "0\n",
      "0\n",
      "0\n",
      "1\n"
     ]
    }
   ],
   "source": [
    "# ランダムに5回行動選択をしてみる\n",
    "for i in range(10):\n",
    "    print(env.action_space.sample())"
   ]
  },
  {
   "cell_type": "markdown",
   "metadata": {
    "editable": true,
    "slideshow": {
     "slide_type": ""
    },
    "tags": []
   },
   "source": [
    "選んだ行動をとって状態を更新するには`env.step`関数を用いる。`step`関数の引数に行動を表す整数を与えることで状態が更新される。\n",
    "\n",
    "`step`関数もまた`reset`関数と同様に`tuple`型の変数を返してくる。ここには`reset`関数の時よりも多くの情報が含まれていて、\n",
    "\n",
    "- **第1要素:** 現在の状態を表すパラメータ (上記の`obsrv`と同様)\n",
    "- **第2要素:** 行動により直接得られた報酬\n",
    "- **第3要素:** エピソードが終了したかどうか (ゲームオーバーになったかどうか)\n",
    "- **第4要素:** 行動を表すパラメータが範囲外に外れたかどうか (今回は使用しない)\n",
    "- **第5要素:** その他の追加情報 (今回は使用しない)\n",
    "\n",
    "のような構成となっている。"
   ]
  },
  {
   "cell_type": "code",
   "execution_count": 35,
   "metadata": {
    "editable": true,
    "slideshow": {
     "slide_type": ""
    },
    "tags": []
   },
   "outputs": [
    {
     "name": "stdout",
     "output_type": "stream",
     "text": [
      "Observation: [-0.00080066 -0.23410185  0.03689252  0.3376265 ]\n",
      "Reward: 1.0\n",
      "Finished?: False\n"
     ]
    }
   ],
   "source": [
    "obsrv, reward, done, _, _ = env.step(0)\n",
    "print(\"Observation:\", obsrv)\n",
    "print(\"Reward:\", reward)\n",
    "print(\"Finished?:\", done)"
   ]
  },
  {
   "cell_type": "markdown",
   "metadata": {
    "editable": true,
    "slideshow": {
     "slide_type": ""
    },
    "tags": []
   },
   "source": [
    "### ランダムな行動選択"
   ]
  },
  {
   "cell_type": "markdown",
   "metadata": {
    "editable": true,
    "slideshow": {
     "slide_type": ""
    },
    "tags": []
   },
   "source": [
    "これらを用いてランダムに行動選択をし、その時々の状態を画像として格納する。"
   ]
  },
  {
   "cell_type": "code",
   "execution_count": 36,
   "metadata": {
    "editable": true,
    "slideshow": {
     "slide_type": ""
    },
    "tags": []
   },
   "outputs": [],
   "source": [
    "# ゲーム環境のリセット\n",
    "obsrv, _ = env.reset()\n",
    "frames = []\n",
    "\n",
    "# ゲームループ\n",
    "while True:\n",
    "    # 現在の画面を画像として保存\n",
    "    img = env.render()\n",
    "    frames.append(img)\n",
    "\n",
    "    # ランダムに行動選択\n",
    "    a = env.action_space.sample()\n",
    "\n",
    "    # 状態を更新する\n",
    "    obsrv, reward, done, _, _ = env.step(a)\n",
    "\n",
    "    # もしゲームが終了していたらループを抜ける\n",
    "    if done:\n",
    "        break"
   ]
  },
  {
   "cell_type": "code",
   "execution_count": 37,
   "metadata": {
    "editable": true,
    "slideshow": {
     "slide_type": ""
    },
    "tags": [
     "hide-input"
    ]
   },
   "outputs": [
    {
     "data": {
      "text/html": [
       "<video width=\"640\" height=\"480\" controls autoplay loop>\n",
       "  <source type=\"video/mp4\" src=\"data:video/mp4;base64,AAAAIGZ0eXBNNFYgAAACAE00ViBpc29taXNvMmF2YzEAAAAIZnJlZQAAFu5tZGF0AAACrwYF//+r\n",
       "3EXpvebZSLeWLNgg2SPu73gyNjQgLSBjb3JlIDE2NCByMzEwOCAzMWUxOWY5IC0gSC4yNjQvTVBF\n",
       "Ry00IEFWQyBjb2RlYyAtIENvcHlsZWZ0IDIwMDMtMjAyMyAtIGh0dHA6Ly93d3cudmlkZW9sYW4u\n",
       "b3JnL3gyNjQuaHRtbCAtIG9wdGlvbnM6IGNhYmFjPTEgcmVmPTMgZGVibG9jaz0xOjA6MCBhbmFs\n",
       "eXNlPTB4MzoweDExMyBtZT1oZXggc3VibWU9NyBwc3k9MSBwc3lfcmQ9MS4wMDowLjAwIG1peGVk\n",
       "X3JlZj0xIG1lX3JhbmdlPTE2IGNocm9tYV9tZT0xIHRyZWxsaXM9MSA4eDhkY3Q9MSBjcW09MCBk\n",
       "ZWFkem9uZT0yMSwxMSBmYXN0X3Bza2lwPTEgY2hyb21hX3FwX29mZnNldD0tMiB0aHJlYWRzPTE1\n",
       "IGxvb2thaGVhZF90aHJlYWRzPTIgc2xpY2VkX3RocmVhZHM9MCBucj0wIGRlY2ltYXRlPTEgaW50\n",
       "ZXJsYWNlZD0wIGJsdXJheV9jb21wYXQ9MCBjb25zdHJhaW5lZF9pbnRyYT0wIGJmcmFtZXM9MyBi\n",
       "X3B5cmFtaWQ9MiBiX2FkYXB0PTEgYl9iaWFzPTAgZGlyZWN0PTEgd2VpZ2h0Yj0xIG9wZW5fZ29w\n",
       "PTAgd2VpZ2h0cD0yIGtleWludD0yNTAga2V5aW50X21pbj0xMCBzY2VuZWN1dD00MCBpbnRyYV9y\n",
       "ZWZyZXNoPTAgcmNfbG9va2FoZWFkPTQwIHJjPWNyZiBtYnRyZWU9MSBjcmY9MjMuMCBxY29tcD0w\n",
       "LjYwIHFwbWluPTAgcXBtYXg9NjkgcXBzdGVwPTQgaXBfcmF0aW89MS40MCBhcT0xOjEuMDAAgAAA\n",
       "BJJliIQAEf/+94gfMstp+TrXchHnrS6tH1DuRnFepL3+IAAAAwAAAwAAZUDfKVB/eXDc4AAABPAA\n",
       "uoSNBf4LV/iAamwzFEUcU4dde03yRBGT/wlx9qOxrv0ViqcIbxqj+nKgVJRfqRHhgE6/XJHER4tx\n",
       "DMDThegxoHlVdNbzNCPVe/Rw/6RavfwHd1i/mbTpnSu97jvtPJo7q18Y8W4S1oBdmMptcsr/PmUk\n",
       "XolIvfrKeGusEmuqjtQpMvuwdBOSorbhXUePz4SWnHGvFmeH9Wtvyy1Ym3LEbEOQZld5fDVeUF2V\n",
       "8Nv+rE7UdRRwWI0t7kMuHyOhdX6DXK2K3s0oAFxusFhvZxhcX7uC7c4Hq/jZBuRMXrBx96zGNmCA\n",
       "t/W69k1y0aJw8a8ssMq91OjDP/SFL7rzZqSIrjBk11bxKjxd1VgivHus/m24txOt2BlRIpRWrDGY\n",
       "KGRZG+DqgN7BnN7N4HHB+PEni6HE0FqijxSI9gkBzcpehKYg+2Jx4orQ7e06XYAAQRkJj59w+/C5\n",
       "yUuwxIeL1H6g8159XNqeUIcb+3OSRmGHl1tePNNYWbqEFlM2gabYkjA+aFYvCWc87HSKOHECu00Z\n",
       "EQZD+V0ym2WCsj97jDRV3sMmPXBygqqz/gd1hbIc4aepu7bai+G3p0F/OM0awFWNcQ+c/+dSI87+\n",
       "1z507Eb9qElCDxwCFnVX1s2wFAh1K/UeO+2sLzG2fWG47dGhvrfEPyglOyQs30hQdMnB93C2DAVX\n",
       "gK35AqEXdAFvAgaxPi/Np8SQEnD5W96SvpKUgYiyrFvtEvBOB7aRzfWPw9Tz1pmQdyEAjRIz93b9\n",
       "Td2JgCL4q9z+w+nNqcKbuo3KZgAAbRGP2mXzhUY/BkO30AywwBAReCRDklZzTokBQsKBhJtco482\n",
       "B3hmNYwfHiMed3pgn7bngPaMiovlEZbDvEXk6NzH5tO8Xos358m6T9cIBDv+Ks0d/sDu9uo2xgl1\n",
       "xtWXkAj3Bv9q3bzvXu/4/1+dAA1tincz3dAMv9iMjQy7rPT10HZng3cZ1Onv2ocCZrykyW6yeHW8\n",
       "9LATZXyzsGREgrVSwuMYaNCvyT8rmuUXVGerBXDs4FMVczj9zeTlKmKFPSKAXz5ZyWCDO3/Wx3l+\n",
       "YoF8XbICWHK+fI1P+kqZDUIYdyaicbBdYNk5/eyDYxDjyn5NaneDbs2CpAQvi42hHMupildokaZw\n",
       "KVl/fY9qbC5s0SpRb0UgjO4Nt0AeJ8kMX4G9V71DgwiYbGk7R8pxe/EftlmeXF1J/MVib++MqvAI\n",
       "+tDI76yaxdzeF7Wndg9j+C2eP1HeUR9JKUfgjhYIqXyvy+PqSK49tINwTKmsqUoBjwEZXPSIncsv\n",
       "W9+6yj97gSc4z+6XejzskHCUICbbnpxOZ3K1c75EQAAAAwAAAwCo/WLqewPOyYWRVHyNsJ1PjKkN\n",
       "SWRSm70tV3D0+wKDlbnB5hG3Ky5MSYdHN7oKidC/eKbvijv+azc3Uv8WENqABB7VE2qCpv6GzhKD\n",
       "nfpWs0tQBNXXAMxpj+pqAAADABgqcAAAAwAAAwAACMkAAAEfQZokbEEP/qpVAAFBGCQADmWJSpTb\n",
       "so1UdFYSwfCzjQ3Hg1XBs4Uk47wCF1HmIcRcW4BQDk7P6OxhAH0PzBnB3W2GeIuXB6P6FHk1CyVe\n",
       "z9IXoeHSjoYecVfOtu0ZA1+nddx/F6KRTWs4SiC+Dfq7GGt7jO56xfKB2JTdyP8TKEWwp+WsVQ4T\n",
       "FF4E/EADt63NJQA9t7VgUj+/BV9NePwANtEsGf4IvZYa6cEWK28CXagqF9fWk14G4/+B42p46XC1\n",
       "dAE11GYABZBSjpF3xqD+NYj8A5rPFJ2JLfQk6tVTXUcUvxjWymZHyMVF/niLkCc9BhZkxYFZojsT\n",
       "jblRsLsF9nH9hgtfcGqaa6wELoPAXbjR/ReAUAFYPv27L2+u8DEAAABoQZ5CeId/AAJw5V3u2uUA\n",
       "EtGt1JsJ+c7uVT6VsxDJtsAmVYwOjHImZjQFzS5d8/oWw1yPSFl3TGRgYXwebEkTmfgv7ztelFPV\n",
       "rKqjyEmUPX4/OT/9h4uCcIP09Oe78h366Cvc2neNjekAAABsAZ5hdEN/AAM32JIAE60gB10uE3LA\n",
       "3JvEnquFXqnBpoxushLJh3JxDrQ9io1UQZNr1jcjsBXUdPdRjO2+uLnW9laJTEcrjLLFZUei5dq1\n",
       "0Z4zfU77g41/gOJrgMzyMxBSKixngPTzzt+6tyLaAAAAZQGeY2pDfwADOKdyQAbF8s9kehJ8qBK/\n",
       "7dK0veyDHgOILh+LzzmzuoBiVcEq9B3BRkt5xmzm8tCspnm5CUbkGDAiTNvem88q6QDFET8Jq+i8\n",
       "4b2iBZ4YdDiqGi8pC7aggEuqIAGfAAAA5EGaaEmoQWiZTAh3//6plgAEgdKVACiIDHkNCkNDuxVr\n",
       "rKKvFkdS276qizAwowe27+t9u9PKVYiRi8w5BdRy9EF4NiXotuz1pF5gicNUxYipZX1EYFDKJUrm\n",
       "fxtNzDJobF0e+yjGUgpUHp6JfxSDdl5cX8DmMx5sgGuA1EkWoXXqIqj8CxV1cJWxtC+iztbpruVz\n",
       "nxJQqe0HRWLhirBCxViPWmf2bANSzs6s7X6i0xX6daMbhrLp42KH6oAX+1IWTHHKw7Lnz3/9SWzI\n",
       "5eB4K/lbb18dpB6nnMToiaISwZVBcdAy4QAAAGhBnoZFESw7/wACOmiWxAA1YO0FgQ0a1lXLhy4z\n",
       "J5SdLez+9ZTRAdH+X94T8C+Q28VmCP8wF05IR/uKcQfCxf/hZBJaxYKSer5Ju3QM048CuOAw/HWf\n",
       "B8756te5GYSX95FRJ+oVy0AhYQAAAFABnqV0Q38AAzeWG9wAgZIWbLd2VyWnqiecBk05Ed1oH0CD\n",
       "TGuw/INJePQGj0zULbcUFZkupIfNqbuBa4i/4HKHX8eqllDgju7mpFCLewDpgQAAAFkBnqdqQ38A\n",
       "AzgFuQAhOhuMoGhz3EQFAfZGvQq+kox7WTZ5j2oSot7KU/RirDf3/XQU6g/h+wIpYpXnTs5kEF16\n",
       "5QagmBcZiWtnuA/fkHk2+G90fffmdgAKSAAAAZ5BmqxJqEFsmUwId//+qZYABIbfJmAAnxG+L0XM\n",
       "XdBpZT9jgUUUl9pLuA8Tc4ZsJYMod1DRJjkTCE2PQWw0hvT0CmrfDzCiQVjCUoB6atBBy+oA84Ug\n",
       "0jpilYahmfW3M2iKlyerpa2fT4F2tyZj9CO5EbsgZ6cZMr3+Lcl7zz8zDJAUis2KoDIbkLJoKqUA\n",
       "NIFRyBOU66blAhWwTdG8aPSrAyI9KMh868gjyAwG0c75XIntjMoxlGv2Z+sVto+zZRH5JEKUHVnv\n",
       "lyoBTnuida/dyFDBU0ZcYvWwqODLJCIUngKq3llMb/ri9CaLpoeg2hkIIlVnT6E5NOkkw0C3MptO\n",
       "n3ZxFnxk0i815iHHVNvpUt3Aew4hYmud4hyH8D6VO9Yu8BVr7FiEwaacejCHkrKKNfbcjbMZc3NF\n",
       "UUcpEOMawzWTW5qy28KDks3Eh+HdMdnKq++NObLmR7+RrnaI4Go+9px1Ltp+dkqRh+cSIbyuvnsh\n",
       "wn33x74DfLuivfEo5++mJt01QlcMHvZs/SmKLlYN3mEJWa/dW5bo+eNZJYIAAACiQZ7KRRUsO/8A\n",
       "AkDjU3ZYOACYnIri+CGUHsArWUrBPymme3ovYPztlEdSWizXzABFXGbfut/Ir6EbPF/PVruyxxRM\n",
       "XKFwn/3wTPcy/WgVtVhGkBefIY61fSPZLX6rw2pXvMO0sJcKFEuax3buCWqAQ4o3ieNt84YwmkNm\n",
       "6N7khLIJ+2fj2ZrXyCBhp2ddWG2lpLz/tqVerESXV8xj8CV96gPnAAAAlgGe6XRDfwADN9VvSEgA\n",
       "+HZ9RDgt9Cx9tnlTY8a5nFgh9PqLpQEQwRfNwOdSdRfhJPHemzuMbvCn9P10x0H/BmkE0wHu9O+B\n",
       "3r+OarJIxhTEbJ7r23SmCJMgBg2vcEn28b4x/1ldP/ubhY2UFCMo64KVxRQcqzIUhjNQ6AUFT84x\n",
       "SZaY0VM5w8cGURjtFhkiiztEV0jpgAAAAHEBnutqQ38AAyL38vIATV7fFu6qUNnfqrjo+kOWQwsN\n",
       "GbQ/9zX68qhg0FADu4NOVopahF6ZAdbYP0Aos7N54TjSXx8llVf3qlQ2t9XKXE1lPbnGXKp7zy0R\n",
       "cb/KK+vjRci6184wR5DEMWkdy3D9LesB8wAAAT1BmvBJqEFsmUwId//+qZYABGeV/AP7jesABa4A\n",
       "U56f77Dn/38g3nTnDmdXx4AEQlOI58iSZAMfo85gHaJmEEp9D02wPJ/8mNNoRHww4OIvxYyjtB/b\n",
       "s+reXT/qECzsBb59ZR0UStyuMKLuQ77NWmns+jkCnCvmOM9tOHzY1q7HvwtVUqSUHUUriB+jUnSk\n",
       "SnCGXjRdcI3IZjNsop2HUs1i5I8ruVHVyIQrxPNNkC5HxtoEzuYc6TloJ8NBoH5XdEhnVyngknrA\n",
       "cENyCH/xNuzCzBNJrT7eDKI6cUqOgZkAF8T/ftLCrHEUUdG3wVMRXbj8FxaABjNRHnlFTVBf+pgQ\n",
       "o3tQmnbZsFCnLmc1TtmaaKS6Au9iuOyrjroYUtSj40FR6ITNNfz7FIqY/UxR/gQTeHkw9vPlbCi8\n",
       "/ybMvwAAAJlBnw5FFSw7/wACKXzSnGgeBgBabFkCFYYcWVr0g1HXxaWkG4yPSoJWhmkKA9jJnt2q\n",
       "RXN/Vyj1jTJNo6UXIexHBjBActscemYbXR89uqFDwg9XZgfsRfP04i6qrCMlZ22XPm9cViE6YuoT\n",
       "ltoMCuoBipPkea/mvTVD0jroPBq58ZxsVdhjS/M2nfIqX86Mm6FAnWPH7YkotoEAAACTAZ8tdEN/\n",
       "AAMcdfh1o8LfwAlUZd0tDVRPv/RR7K1rogzu10bx+OpHZStLmdQoXb7elZTw9qz+z8C0Is4teZKi\n",
       "dO+wHWqTLKRCXTO4xvGfW6OgSv96lWMOw3M7OJKhCtuaHrkRfrCtLgILLL+QIr2Ne0D01RtotZc/\n",
       "OHhR7ESt6vVwpUT1M6qv+HpA7t5z1I6FAB8xAAAAXAGfL2pDfwADJD19QAEtJX+ULm2i1KSfiplz\n",
       "VTgayyEWoPeAUaltOfC03ab90uKj6RR9vAYTPLmWzrj563qHqdOANzaGszl0aEhxwsFA/d7xGFhT\n",
       "lRlQO1TBQFlAAAABikGbNEmoQWyZTAh///6plgAEgCNTHi5dACPdmzDUMUX6IKN1TloBK2NiJ6tz\n",
       "xQ39agojf0bSCihk81pvOE3CcJ6b3oHKbnNucg1yDzcKln8xGLyZ7TcwDaHqom5rRlu3JczPMmM4\n",
       "N5GdmHY0XU+UOXyeJI3p/Myh92OEt0+iSRT0YAarcgodn6Yp/vzOQ0gufCmxDAgLZUN//ONTWvty\n",
       "BJaalD57lodG1MhzmaTCTXGc8Eoq2BUDljcHNZYhojK/TiKRih/CeIlpumaxfo48uAaqncIcXGAS\n",
       "AOixIjk2jpmfLC0TOgcnGDLCNwMZvaHh6e2z5uZEenN0J5lKG3DIH35fZOsQYgA6vYG0+k12KePe\n",
       "fuYU7pQ/HQ3Iulp2DWg1AjxomctFty9h03SKVzdAhjNVczlKB8/RF5lIGVlzuveyicHnJaz9AlRT\n",
       "DTHtTJRZPTvD+xVUebf8nhlI5tuySfrV2cSFHAzvuL/AOYtK2lowLYisI1+L/KNLaiEzU1j/6JiP\n",
       "MN7Fmq99qYAAAADSQZ9SRRUsO/8AAkEfvIxm0SQAllCIr7YdF8rCdpEOu+IXSUeLVzCPTDkLU4Vq\n",
       "/3OKCMO4vNo2lA2NbjMk1f2Not/nHEJbZstT9ZXoaLgRLf+0JItXZZ7VOEan2L0/smDBOxoZyV90\n",
       "kmE+uLqqiUtkUuIYsUp3N/QOjwB/axEVM9ToQrZw8QDfT81+QwPiHN+lYMyA5BJGLpualdWFOpo5\n",
       "h3BtuYzCEonD185CbqIQ8zhJ476/7jKzNBZTuUc+eU6MbbeDviv8cw83UuT6qEFCdQHzAAAAbgGf\n",
       "cXRDfwADIuRE03IATTWsiaKkwzSaKtOFhUTNnVwTjM0ux/PdZOAMxKLK/vf8R06DXR2OHrt9+ZCZ\n",
       "8Ik+FQs+wrny5KalXJR8fd5YhuByhbDCo1gaDc49QngYoU6Q9bPg0+8697fNSiq9TAfMAAAApAGf\n",
       "c2pDfwADN/3F5MGkAHxSJjsARRDoFMHrxkyFh7QPZWMcCHHwgXjpjs7ATaDf2q8KSxduk8Lt7LlS\n",
       "B/Q1f/EMA9vpiVQJ+GN/IovTotuygMUN82pEGdfRBqVbQodm/a3QAuMSKXQCSQHcuPX3T7aof4U5\n",
       "fmGaBLXq/pJV0lVJQ/cRsvmc/L/tGdKK4f1B75hfBPf6tbuTm8mQeDUDjHuJAPmAAAAA3kGbdkmo\n",
       "QWyZTBRMN//+p4QACLAkgrXzcgBLhoXhmo+sroF1QO4CjOc2A/7JbJgnYWXwiHYsizBpwHnIG5Ok\n",
       "axA6j1fMx1FQ/OJ0qdkGrS6Hj0GrVkCibsHfFQRkASDSUASz8V0wt9ywyRuFL67LCseCpdBGdnFL\n",
       "bqJjIjogkAVMX1AoZ2PupaFC6t0Be+61peUIJYHTufJElC6iKNgtdp/AixT1mxZY4xQOs8qHz/ns\n",
       "NH3+PbEQUvn63cszoVz4oh3tTzuo9onqC6/ySU6eZpKK9d5/Ie1ToBUYsxSgPQAAAKABn5VqQ38A\n",
       "AxtG1wAE7e3xbs1Y6f73KG6+SWxmsZ5NzMH/63V/LvwfPKxAr9439LdtwDGJ3UnV53ckNLkyeBYV\n",
       "P7IUU0OUlmBad8WGmV1rsMWcugSW61gwDYA9k3VUt1+MbCifG70cu5JxdZKbzNUrowhBsnK7OD2l\n",
       "isYfKcFHZ2jnJJVJ2jRqVouUCcB9lRZJf5ZKh9i3EcJkUSKjromYAAAERW1vb3YAAABsbXZoZAAA\n",
       "AAAAAAAAAAAAAAAAA+gAAAj8AAEAAAEAAAAAAAAAAAAAAAABAAAAAAAAAAAAAAAAAAAAAQAAAAAA\n",
       "AAAAAAAAAAAAQAAAAAAAAAAAAAAAAAAAAAAAAAAAAAAAAAAAAAAAAAIAAANwdHJhawAAAFx0a2hk\n",
       "AAAAAwAAAAAAAAAAAAAAAQAAAAAAAAj8AAAAAAAAAAAAAAAAAAAAAAABAAAAAAAAAAAAAAAAAAAA\n",
       "AQAAAAAAAAAAAAAAAAAAQAAAAAKAAAAB4AAAAAAAJGVkdHMAAAAcZWxzdAAAAAAAAAABAAAI/AAA\n",
       "CAAAAQAAAAAC6G1kaWEAAAAgbWRoZAAAAAAAAAAAAAAAAAAAKAAAAFwAVcQAAAAAAC1oZGxyAAAA\n",
       "AAAAAAB2aWRlAAAAAAAAAAAAAAAAVmlkZW9IYW5kbGVyAAAAApNtaW5mAAAAFHZtaGQAAAABAAAA\n",
       "AAAAAAAAAAAkZGluZgAAABxkcmVmAAAAAAAAAAEAAAAMdXJsIAAAAAEAAAJTc3RibAAAALdzdHNk\n",
       "AAAAAAAAAAEAAACnYXZjMQAAAAAAAAABAAAAAAAAAAAAAAAAAAAAAAKAAeAASAAAAEgAAAAAAAAA\n",
       "AQAAAAAAAAAAAAAAAAAAAAAAAAAAAAAAAAAAAAAAAAAAABj//wAAADVhdmNDAWQAFv/hABhnZAAW\n",
       "rNlAoD2hAAADAAEAAAMAFA8WLZYBAAZo6+PLIsD9+PgAAAAAHHV1aWRraEDyXyRPxbo5pRvPAyPz\n",
       "AAAAAAAAABhzdHRzAAAAAAAAAAEAAAAXAAAEAAAAABRzdHNzAAAAAAAAAAEAAAABAAAAyGN0dHMA\n",
       "AAAAAAAAFwAAAAEAAAgAAAAAAQAAFAAAAAABAAAIAAAAAAEAAAAAAAAAAQAABAAAAAABAAAUAAAA\n",
       "AAEAAAgAAAAAAQAAAAAAAAABAAAEAAAAAAEAABQAAAAAAQAACAAAAAABAAAAAAAAAAEAAAQAAAAA\n",
       "AQAAFAAAAAABAAAIAAAAAAEAAAAAAAAAAQAABAAAAAABAAAUAAAAAAEAAAgAAAAAAQAAAAAAAAAB\n",
       "AAAEAAAAAAEAAAwAAAAAAQAABAAAAAAcc3RzYwAAAAAAAAABAAAAAQAAABcAAAABAAAAcHN0c3oA\n",
       "AAAAAAAAAAAAABcAAAdJAAABIwAAAGwAAABwAAAAaQAAAOgAAABsAAAAVAAAAF0AAAGiAAAApgAA\n",
       "AJoAAAB1AAABQQAAAJ0AAACXAAAAYAAAAY4AAADWAAAAcgAAAKgAAADiAAAApAAAABRzdGNvAAAA\n",
       "AAAAAAEAAAAwAAAAYXVkdGEAAABZbWV0YQAAAAAAAAAhaGRscgAAAAAAAAAAbWRpcmFwcGwAAAAA\n",
       "AAAAAAAAAAAsaWxzdAAAACSpdG9vAAAAHGRhdGEAAAABAAAAAExhdmY2MC4zLjEwMA==\n",
       "\">\n",
       "  Your browser does not support the video tag.\n",
       "</video>"
      ],
      "text/plain": [
       "<IPython.core.display.HTML object>"
      ]
     },
     "metadata": {},
     "output_type": "display_data"
    }
   ],
   "source": [
    "# アニメーションの描画\n",
    "fig, ax = plt.subplots(dpi=100)\n",
    "ax.set(xticks=[], yticks=[])\n",
    "\n",
    "# 各フレームの描画\n",
    "draw = []\n",
    "for i, f in enumerate(frames):\n",
    "    ims = plt.imshow(f)\n",
    "    txt = plt.text(20, 30, f\"frame #{i+1:d}\")\n",
    "    draw.append([ims, txt])\n",
    "\n",
    "# アニメーションの作成\n",
    "ani = ArtistAnimation(fig, draw, interval=100, blit=True)\n",
    "html = display.HTML(ani.to_html5_video())\n",
    "display.display(html)\n",
    "\n",
    "# Matplotlibのウィンドウを閉じる\n",
    "plt.close()"
   ]
  },
  {
   "cell_type": "markdown",
   "metadata": {
    "editable": true,
    "slideshow": {
     "slide_type": ""
    },
    "tags": []
   },
   "source": [
    "このようにランダムに行動した場合には、途中で棒の傾きが一定以上になってしまい、エピソードが終了していることが分かる。以下では、Q学習によって行動評価関数を最適化し、より長い時間、倒立状態を保てるようにしてみよう。"
   ]
  },
  {
   "cell_type": "markdown",
   "metadata": {
    "editable": true,
    "slideshow": {
     "slide_type": ""
    },
    "tags": []
   },
   "source": [
    "### Q学習による行動選択"
   ]
  },
  {
   "cell_type": "markdown",
   "metadata": {
    "editable": true,
    "slideshow": {
     "slide_type": ""
    },
    "tags": []
   },
   "source": [
    "まずはQテーブルを作成するために、4種類のパラメータを離散化しておこう。以下の例では、**速度と各速度の範囲を適当に狭めておき、その上で各パラメータの取り得る範囲を8分割する**"
   ]
  },
  {
   "cell_type": "code",
   "execution_count": 38,
   "metadata": {
    "editable": true,
    "slideshow": {
     "slide_type": ""
    },
    "tags": []
   },
   "outputs": [],
   "source": [
    "N_INPUTS = env.observation_space.shape[0]\n",
    "N_ACTIONS = env.action_space.n\n",
    "N_DIGITS = 8\n",
    "\n",
    "lower = env.observation_space.low\n",
    "upper = env.observation_space.high\n",
    "lower[1], upper[1] = -5.0, 5.0  # 速度の範囲を修正\n",
    "lower[3], upper[3] = -0.5 * np.pi, 0.5 * np.pi  # 角速度の範囲を修正"
   ]
  },
  {
   "cell_type": "markdown",
   "metadata": {
    "editable": true,
    "slideshow": {
     "slide_type": ""
    },
    "tags": []
   },
   "source": [
    "今回の倒立振子の例ではパラメータ4つを8分割しているので、取り得る離散状態の組み合わせは$8^4 = 4096$通りである。取り得る行動は左に行くか、右に行くかの2種類であるので、結局、Qテーブルのサイズは$4096 \\times 2$となる。"
   ]
  },
  {
   "cell_type": "code",
   "execution_count": 39,
   "metadata": {
    "editable": true,
    "slideshow": {
     "slide_type": ""
    },
    "tags": []
   },
   "outputs": [],
   "source": [
    "# Q値テーブルの初期化 (乱数による初期化)\n",
    "q_table = np.random.random(size=(N_DIGITS**N_INPUTS, env.action_space.n))"
   ]
  },
  {
   "cell_type": "markdown",
   "metadata": {
    "editable": true,
    "slideshow": {
     "slide_type": ""
    },
    "tags": []
   },
   "source": [
    "8分割されたパラメータの範囲を求めるには`np.linspace`関数が使える。この関数はこれまで第1, 第2引数にスカラー値を入力して使ってきたが、サイズが同じであれば配列を指定することもできる。"
   ]
  },
  {
   "cell_type": "code",
   "execution_count": 40,
   "metadata": {
    "editable": true,
    "slideshow": {
     "slide_type": ""
    },
    "tags": []
   },
   "outputs": [
    {
     "name": "stdout",
     "output_type": "stream",
     "text": [
      "[[-4.8        -3.4285717  -2.057143   -0.68571424  0.68571424  2.0571427\n",
      "   3.4285717   4.8       ]\n",
      " [-5.         -3.5714285  -2.142857   -0.71428585  0.71428585  2.1428576\n",
      "   3.5714283   5.        ]\n",
      " [-0.41887903 -0.2991993  -0.17951958 -0.05983984  0.05983987  0.1795196\n",
      "   0.29919934  0.41887903]\n",
      " [-1.5707964  -1.1219974  -0.67319846 -0.22439945  0.22439945  0.67319834\n",
      "   1.1219975   1.5707964 ]]\n"
     ]
    }
   ],
   "source": [
    "bins = np.transpose(np.linspace(lower, upper, N_DIGITS))\n",
    "print(bins)"
   ]
  },
  {
   "cell_type": "markdown",
   "metadata": {
    "editable": true,
    "slideshow": {
     "slide_type": ""
    },
    "tags": []
   },
   "source": [
    "今、とある状態変数が与えられた時に、それが4096個の離散状態のどれに対応するのかを定めておく必要がある。\n",
    "\n",
    "これには、4つあるパラメータのそれぞれが8個の範囲のどれに入るのかを求めて、その値を元に状態を表わす整数を計算する必要がある。\n",
    "\n",
    "各パラメータが8つの範囲のどれに属するかを求めるには`np.digitize`関数が使える。4つのパラメータのそれぞれについて、リスト内包表記によって所属する範囲のインデックスを求めるとすれば、以下のようなコードになる。"
   ]
  },
  {
   "cell_type": "code",
   "execution_count": 41,
   "metadata": {
    "editable": true,
    "slideshow": {
     "slide_type": ""
    },
    "tags": []
   },
   "outputs": [
    {
     "name": "stdout",
     "output_type": "stream",
     "text": [
      "[4, 4, 4, 4]\n"
     ]
    }
   ],
   "source": [
    "obsrv, _ = env.reset()\n",
    "digits = [np.digitize(o, b) for o, b in zip(obsrv, bins)]\n",
    "print(digits)"
   ]
  },
  {
   "cell_type": "markdown",
   "metadata": {
    "editable": true,
    "slideshow": {
     "slide_type": ""
    },
    "tags": []
   },
   "source": [
    "現在は各パラメータの範囲を8つに分割しているので、`digits`には0-7の整数が与えられる。従って、この数字を8進数であると考えて、10進数表記に直せば、各離散状態に対して重複のない整数のインデックスを付与することができる。\n",
    "\n",
    "このような計算は、単純には以下のようなfor文を用いたコードで実現できる。"
   ]
  },
  {
   "cell_type": "code",
   "execution_count": 42,
   "metadata": {
    "editable": true,
    "slideshow": {
     "slide_type": ""
    },
    "tags": []
   },
   "outputs": [
    {
     "name": "stdout",
     "output_type": "stream",
     "text": [
      "2340\n"
     ]
    }
   ],
   "source": [
    "index = 0\n",
    "for n in digits:\n",
    "    index = index * N_DIGITS + n\n",
    "print(index)"
   ]
  },
  {
   "cell_type": "markdown",
   "metadata": {
    "editable": true,
    "slideshow": {
     "slide_type": ""
    },
    "tags": []
   },
   "source": [
    "もう少しPythonらしい書き方にするのであれば、`functools.reduce`関数を用いて以下のように書くこともできる。"
   ]
  },
  {
   "cell_type": "code",
   "execution_count": 43,
   "metadata": {
    "editable": true,
    "slideshow": {
     "slide_type": ""
    },
    "tags": []
   },
   "outputs": [
    {
     "name": "stdout",
     "output_type": "stream",
     "text": [
      "2340\n"
     ]
    }
   ],
   "source": [
    "from functools import reduce\n",
    "\n",
    "index = reduce(lambda a, b: a * N_DIGITS + b, digits)\n",
    "print(index)"
   ]
  },
  {
   "cell_type": "markdown",
   "metadata": {
    "editable": true,
    "slideshow": {
     "slide_type": ""
    },
    "tags": []
   },
   "source": [
    "これを踏まえて、状態を表わすインデックスを計算するコードを関数化しておく。"
   ]
  },
  {
   "cell_type": "code",
   "execution_count": 44,
   "metadata": {
    "editable": true,
    "slideshow": {
     "slide_type": ""
    },
    "tags": []
   },
   "outputs": [],
   "source": [
    "def to_state_index(obsrv, bins):\n",
    "    digits = [np.digitize(o, b) for o, b in zip(obsrv, bins)]\n",
    "    return reduce(lambda a, b: a * N_DIGITS + b, digits)"
   ]
  },
  {
   "cell_type": "markdown",
   "metadata": {
    "editable": true,
    "slideshow": {
     "slide_type": ""
    },
    "tags": []
   },
   "source": [
    "### $\\varepsilon$-greedy法によるQテーブルの更新"
   ]
  },
  {
   "cell_type": "markdown",
   "metadata": {
    "editable": true,
    "slideshow": {
     "slide_type": ""
    },
    "tags": []
   },
   "source": [
    "ここまでで下準備が整ったので、前回[強化学習の基礎](sec:reinforcement-learning)の節で紹介した$\\varepsilon$-greedy法を用いてQ学習を実行してみる。\n",
    "\n",
    "Q学習においては、とある状態$s$において**何らかの方策**によって行動$a$を決定し、行動後の状態$s'$を得る。その後、$s$, $a$, $s'$の組に基づき、{eq}`eq:q-update`に従ってQテーブルを更新する。\n",
    "\n",
    "この際、行動$a$を決定する際に用いる方策に、$\\varepsilon$-greedy法の他、前節で紹介した手法が使える。"
   ]
  },
  {
   "cell_type": "markdown",
   "metadata": {
    "editable": true,
    "slideshow": {
     "slide_type": ""
    },
    "tags": []
   },
   "source": [
    "Q学習で$\\varepsilon$-greedy法を用いる場合、多腕バンディット問題の時と同様、適当な$0 < \\varepsilon < 1$を決めておき、$\\varepsilon$の確率でランダムな行動を、$1-\\varepsilon$の確率でQテーブルに基づいた最適な行動を取れば良い。"
   ]
  },
  {
   "cell_type": "code",
   "execution_count": 45,
   "metadata": {
    "editable": true,
    "slideshow": {
     "slide_type": ""
    },
    "tags": []
   },
   "outputs": [],
   "source": [
    "# ランダムに行動する\n",
    "a = env.action_space.sample()\n",
    "obsrv, reward, done, _, _ = env.step(a)"
   ]
  },
  {
   "cell_type": "code",
   "execution_count": 46,
   "metadata": {
    "editable": true,
    "slideshow": {
     "slide_type": ""
    },
    "tags": []
   },
   "outputs": [],
   "source": [
    "# 一番価値が高く見積もられている行動をとる\n",
    "s0 = to_state_index(obsrv, bins)\n",
    "a = np.argmax(q_table[s0, :])\n",
    "s1 = env.step(a)"
   ]
  },
  {
   "cell_type": "markdown",
   "metadata": {
    "editable": true,
    "slideshow": {
     "slide_type": ""
    },
    "tags": []
   },
   "source": [
    "今回は、以下のハイパーパラメータを用いてQ学習を行う。"
   ]
  },
  {
   "cell_type": "code",
   "execution_count": 47,
   "metadata": {
    "editable": true,
    "slideshow": {
     "slide_type": ""
    },
    "tags": []
   },
   "outputs": [],
   "source": [
    "# Q学習のハイパーパラメータ\n",
    "alpha = 0.1\n",
    "gamma = 0.99\n",
    "n_episodes = 10000"
   ]
  },
  {
   "cell_type": "markdown",
   "metadata": {
    "editable": true,
    "slideshow": {
     "slide_type": ""
    },
    "tags": []
   },
   "source": [
    "また、多腕バンディット問題の時と同様に$\\varepsilon$の値はエピソードが進むごとに徐々に小さい値になるようにスケジューリングしておく。\n",
    "\n",
    "以下が、$\\varepsilon$-greedy法によるQ学習のコードの一例である。"
   ]
  },
  {
   "cell_type": "code",
   "execution_count": 48,
   "metadata": {
    "editable": true,
    "slideshow": {
     "slide_type": ""
    },
    "tags": []
   },
   "outputs": [
    {
     "data": {
      "application/vnd.jupyter.widget-view+json": {
       "model_id": "979620c607c3458ca0b61e446d93e898",
       "version_major": 2,
       "version_minor": 0
      },
      "text/plain": [
       "  0%|          | 0/10000 [00:00<?, ?it/s]"
      ]
     },
     "metadata": {},
     "output_type": "display_data"
    }
   ],
   "source": [
    "e0 = 0.3\n",
    "e1 = 0.001\n",
    "e_scale = np.exp((np.log(e1) - np.log(e0)) / (n_episodes - 1))\n",
    "epsilon = e0\n",
    "\n",
    "# Q値テーブルの初期化\n",
    "q_table = np.random.random(size=(N_DIGITS**N_INPUTS, env.action_space.n))\n",
    "\n",
    "for epi in tqdm(range(n_episodes)):\n",
    "    # ゲーム環境のリセット\n",
    "    obsrv, _ = env.reset()\n",
    "\n",
    "    # エピソード開始\n",
    "    while True:\n",
    "        # 現在の状態に対応する行番号を計算\n",
    "        s0 = to_state_index(obsrv, bins)\n",
    "\n",
    "        # ε-greedy法による行動選択\n",
    "        if np.random.uniform(0.0, 1.0) < epsilon:\n",
    "            a = env.action_space.sample()\n",
    "        else:\n",
    "            a = np.argmax(q_table[s0, :])\n",
    "\n",
    "        # 状態の更新\n",
    "        obsrv, reward, done, _, _ = env.step(a)\n",
    "\n",
    "        # 新たな状態に対する行番号を計算\n",
    "        s1 = to_state_index(obsrv, bins)\n",
    "\n",
    "        # Qテーブルの更新\n",
    "        q0 = q_table[s0, a]\n",
    "        best_q1 = np.max(q_table[s1, :])\n",
    "        q_table[s0, a] = (1.0 - alpha) * q0 + alpha * (reward + gamma * best_q1)\n",
    "\n",
    "        if done:\n",
    "            break\n",
    "\n",
    "    # epsilonの更新\n",
    "    epsilon *= e_scale"
   ]
  },
  {
   "cell_type": "markdown",
   "metadata": {
    "editable": true,
    "slideshow": {
     "slide_type": ""
    },
    "tags": []
   },
   "source": [
    "学習が終了したら、実行フェーズにおいては、常にQテーブルに基づいて最適な行動を取ることとする。\n",
    "\n",
    "状態の画像を保存しつつ、学習結果に基づいて行動をするコードは以下の通りである。"
   ]
  },
  {
   "cell_type": "code",
   "execution_count": 49,
   "metadata": {
    "editable": true,
    "slideshow": {
     "slide_type": ""
    },
    "tags": []
   },
   "outputs": [],
   "source": [
    "frames = []\n",
    "obsrv, _ = env.reset()\n",
    "while True:\n",
    "    img = env.render()\n",
    "    frames.append(img)\n",
    "\n",
    "    # 最もQ値の高い行動を選択\n",
    "    s0 = to_state_index(obsrv, bins)\n",
    "    a = np.argmax(q_table[s0, :])\n",
    "\n",
    "    obsrv, reward, done, _, _ = env.step(a)\n",
    "    if done:\n",
    "        break"
   ]
  },
  {
   "cell_type": "code",
   "execution_count": 50,
   "metadata": {
    "editable": true,
    "slideshow": {
     "slide_type": ""
    },
    "tags": [
     "hide-input"
    ]
   },
   "outputs": [
    {
     "data": {
      "text/html": [
       "<video width=\"640\" height=\"480\" controls autoplay loop>\n",
       "  <source type=\"video/mp4\" src=\"data:video/mp4;base64,AAAAIGZ0eXBNNFYgAAACAE00ViBpc29taXNvMmF2YzEAAAAIZnJlZQAAb4ZtZGF0AAACrwYF//+r\n",
       "3EXpvebZSLeWLNgg2SPu73gyNjQgLSBjb3JlIDE2NCByMzEwOCAzMWUxOWY5IC0gSC4yNjQvTVBF\n",
       "Ry00IEFWQyBjb2RlYyAtIENvcHlsZWZ0IDIwMDMtMjAyMyAtIGh0dHA6Ly93d3cudmlkZW9sYW4u\n",
       "b3JnL3gyNjQuaHRtbCAtIG9wdGlvbnM6IGNhYmFjPTEgcmVmPTMgZGVibG9jaz0xOjA6MCBhbmFs\n",
       "eXNlPTB4MzoweDExMyBtZT1oZXggc3VibWU9NyBwc3k9MSBwc3lfcmQ9MS4wMDowLjAwIG1peGVk\n",
       "X3JlZj0xIG1lX3JhbmdlPTE2IGNocm9tYV9tZT0xIHRyZWxsaXM9MSA4eDhkY3Q9MSBjcW09MCBk\n",
       "ZWFkem9uZT0yMSwxMSBmYXN0X3Bza2lwPTEgY2hyb21hX3FwX29mZnNldD0tMiB0aHJlYWRzPTE1\n",
       "IGxvb2thaGVhZF90aHJlYWRzPTIgc2xpY2VkX3RocmVhZHM9MCBucj0wIGRlY2ltYXRlPTEgaW50\n",
       "ZXJsYWNlZD0wIGJsdXJheV9jb21wYXQ9MCBjb25zdHJhaW5lZF9pbnRyYT0wIGJmcmFtZXM9MyBi\n",
       "X3B5cmFtaWQ9MiBiX2FkYXB0PTEgYl9iaWFzPTAgZGlyZWN0PTEgd2VpZ2h0Yj0xIG9wZW5fZ29w\n",
       "PTAgd2VpZ2h0cD0yIGtleWludD0yNTAga2V5aW50X21pbj0xMCBzY2VuZWN1dD00MCBpbnRyYV9y\n",
       "ZWZyZXNoPTAgcmNfbG9va2FoZWFkPTQwIHJjPWNyZiBtYnRyZWU9MSBjcmY9MjMuMCBxY29tcD0w\n",
       "LjYwIHFwbWluPTAgcXBtYXg9NjkgcXBzdGVwPTQgaXBfcmF0aW89MS40MCBhcT0xOjEuMDAAgAAA\n",
       "BQZliIQAO//+906/AptFl2oDklcK9yHrOuLcX/hC+FSuAAADAAADAAADADB2N9dUvGtnWaAAAAvY\n",
       "AjYN4Pvgdr3AVJGHpzxDAiOR9jP+Ew3E/5z5GRYomC/pElRpHtZh0c3ugpw6ICcoW3pMn9x8k/Bc\n",
       "O/8paMvYaFDHlUHRL9mWryDDKGsyAI3PwKbSq+vP/kdf1Bvez4t2/C9XQas6ji+wKMcFR6BCu3Tx\n",
       "VTT6b+XmRPiiOJCu2n/qp3XjLQW98F8NyJDFMYMGQv2/jBnVbM3cy1ootZ2AC57ifMsrNU2oCuVO\n",
       "A+QopJtrj8j78OfZbHDf4byf5+/ivYeMs1LnBByKUA1kk1LF6F9xHI8F0X81l05xALq/9wMVam9y\n",
       "zKV5poczVczjrGuQXWMvZk1H1pWBGcqrNRfY7t212S7PMlMCJzSRMZUSKUUqtFviIDBskm0O86WL\n",
       "Dw9YUfLGEfu8aAd6z/57d3tp9EgOYuVYJTDjrNWZsbUUfEjhHoAIm5GacBkDBmFKoIRYu18oEPj+\n",
       "yulhpNzD3+RPqTtUgDHHYQQxX5m7AV4ADdHDMyvfP2ojvoxk8Z0eA8DQfJIO9Aid19pOwfRH9KoQ\n",
       "4SjG4/kGZvNizLe2yxcy3Lus8Xg1wtaSKrrY7zEgzC4qQDKzJ70ZjSVJSY6DIYQlpT+ovzlxlDw9\n",
       "bIApbSc04A9WnQaPJ4mI2FpfD0Tm7M2Y/vmY3ySQVT3QZhelH90a591Q0iTg4yBkCnSSZXVgavmo\n",
       "maSU0p8l3yVQ95yKXJhIwL1j5Yn1tucyss8c+leualY9Ql6J3PN2Ws/zsO4vQne1wGIhE/Vs2bkP\n",
       "K6Yg2xXJWXGH56IlmdiPpkIB84AANXZT4x4qt2QALkJaLMNMWYeNbXvBAoa8Ewlcz/1imqG/E9Fn\n",
       "eosqySPphTDpjMLsW4Bkw4ysLOHfINNNE6+RHFul/AlcGPGYkxoj1DNn4ZrzAFusJT/uzQX/fniR\n",
       "VUgwu0ARnVJ4QIMfLMp97EtVhlEiEKvYnHo90Axy/sg5DIXL64gaICjDP+YTxRsLwtej4I8pZXlc\n",
       "sHnaLJCOHHhJ9G4zEljbw19xWfeUN4AFuXd6djj0O4M+AW87l+EWIGuKqSdkAAtk4TCQhjVxlkF3\n",
       "YWY9MBOv7idFCpOB9+axoOm51SCsloB2dgGAKIBbztswmyNDGzA5oxv9EWr3VAIkQYaBvPnj9/oi\n",
       "4zxfax0bMs5aJ5xCBibODPa5v2BwO+PDniSk1nBmoCSFOo2ExVkwb9Fqw2OSJMtmy91pza5COIzS\n",
       "8ukCN/WHFnl4XbncuR2so+HOQS0gQHAY6kYWc2UY3s+EKKriBBBV1d6Cv1BkYFTwz2xYUGiBC3v5\n",
       "FNW0FMuF2lw5Attz6CkHEnnjLmZrzjmmHW82C6WJXSF1+AHEqiLxxCbLL0Y/GVDHmYD3LB8s+FO3\n",
       "jd5qYX+gtp5P5IYhNkBoB1xH/HIJSwqBoT4HdA5WNq62ihSe5FEZE0VvgB977Eomm4DKmhvyyX9w\n",
       "puwJuVcEuTWWSwplY23fvsIHfbIgG+bZ2YjLA1opY0Tw6ThKUgAATlB7P27wziESXUxl3m5yT4Q7\n",
       "9e3nGUUr8FsfAS+FkD3lvJXlwBiQqXUOczhhsYWVw6CobF5KpJz/71ZULbw69o6Q/HsTNGAIrGxp\n",
       "ZCvGyNWzpuGmyWibccNUxAAAywAAAwAAAwAAAwAAAwB3QQAAAStBmiRsQ7/+qZYABOF2egGb8JUh\n",
       "6o7UF/T+FKd+PEes+Da+eeexTmqq9AF1iEQjqO8UC0p8xdSTCrAIgtuLdGajNthniLlwfR+L3jjQ\n",
       "595zxKQczQXUZr5uA7aLTFxufoKNYtEvCytBEPt8M1aU1d1w/pnPHkoRdCAiGfhm4IH8F32/igQ7\n",
       "CD21A6PZm/KLjq+MMiXBNzOG3DbfQhYwN9jblgH3+SepcU5leJEFX27TC9WxypUFzV9LtbU4J7lH\n",
       "XuFGocyWwasmSkWfgmfRvwLRcOHG4fhX1yDOtWYhiniv0c3za/ZeOMjbhH5xbEY/Po73HKdPzsaK\n",
       "IPA+2W/pdYQDXCw7owUbjPsK+xQzMwR2w96iV0bOTqliBnxA6cpI2R07J0jatK+Z0AjSwAAAAHhB\n",
       "nkJ4h38AAnDlXcoyHQAeSzrL1pZnuT3GZf4dg0qYzeaFAfYP2EnqijwhxVDXCzoWtaJuOn3X+msm\n",
       "ksWmZVS1iGoSHxNGcNWxt5dJ/Jewyj86A6UUktvptF1nnYKoMhgETMLR1axHZ/vOZe3jDt5QJA1Q\n",
       "kFTgE7EAAABmAZ5hdEN/AAN0KnkGlcAJpqsxppCnlCOAAaXHwNbWU8+uIJAgOoGPszE/zYY8ClvR\n",
       "pJmbhcVsrGTiIg1eNrbk0rWkSoxQq5JTBeOwa/9albHUSZVuyFU6CWo+Z2amgow4pSsKKCqgAAAA\n",
       "awGeY2pDfwADOKdyQAbF8s9kehJ76NrH9Mrq4s56OGkWF7kCbapVzon5Qv9kL7syaJvWRWyOLbjD\n",
       "Cc2jNJknSSN8jShCfQiWd5vQWVwWGKz3+hfBWiJfQci1QqH0IoweiGCqWPcRPP1NUAl5AAAA+0Ga\n",
       "aEmoQWiZTAgj//61KoAAlGcgyuAG45vb7YkBTFwuFmfWjdLKFf/MzoqF/06np+1yUpIIIWDbBMWh\n",
       "9f7AKnn8X58FjoAWLFbaRFg3taanKoMufGXxj1pgXcXpBB/72yaBBPYRFAIT7LEme/Es6ca19FdP\n",
       "DE/9sYigiZH0wQusDedi0/X8lINzageg4pirLBSdxrOoAR3jnWfJNeYYiVnDbkTyFvAeQaALIIr/\n",
       "jg0ySOUgF/6nkIghc7jEEfRgYI+E2lKVL8onmmTpgTI4Q1v5znmMXzLWtEQkhgst6E88h2zYCjX5\n",
       "lqAo7t6os93jeR7n19c5oygjKI5BAAAAl0GehkURLDv/AAI6aJbEADVg7Qc+dFl7zaGU3W1f4MD6\n",
       "dbAtE9EfbvexpVQUairVl0cpa7kszxGQ1uj1lh2uvec2LAyyNi3moAIIoZ4ofExuVTY3tILaU3/r\n",
       "EwpqKrhahqLhne63/7gI3MvNoYXOOp+Vk3zLIQoxQePZpWolcL5Ag+DYiAHfNZVyw+L671yaftCH\n",
       "au5AP8EAAABXAZ6ldEN/AAM3lhvcAIGSFmyv4oeLwC1TgLWtotAg516Lxr8+xEf0s+2Lq4vtTnG7\n",
       "1sNE1OkMZlVf54A3+RppgS1HzqNP53lzroVUYvRDjWu8shn4Og/xAAAAYQGep2pDfwADOAW5ACE6\n",
       "G4x6gByBwqZ72T0JYdKCwqygS5CdGV+NgH0QujcCwCQodqAcxHX0scL6cfs7cPKaCx0ysCxL3qLF\n",
       "goKM0m2ROJp+KlpMfWy8gLIBmT//7QQ+hWwAAAFOQZqsSahBbJlMCCH//qpVAAEoWgWoAgUNvmR/\n",
       "GaOxqpCN75/msEq1vwMOEGOrIMev3llQCkUa7Mk3oAwjuRZUHb8NrHK7/hphRQqtB+AS65kimYvJ\n",
       "+1L+8Pgy7YYMg3Km0HoeNoipcnq6XF8yqTdrcmY/Qjx5nQj3mI+xhoMkEQladKLvzSs9xC5kricj\n",
       "wPLsCSqfIliFxj+9pv1YfS3jrNo6iIbA2qbdJ5ptjDNz9GvEpnRuaz2P6yomalhGQ+7Ih/QTbGfq\n",
       "bx0Xh4vD+BY43w3LFH8IyiePDX5k+exYAsWxSsOas+MDBaM6KeemDSLUflRec8CG6Mvh1Ww/AfIA\n",
       "zWchJiWGXMmDVSgXVtbJ8GsgavdT4oOH9t2u8STtNBzOQYAX+BMhTo+2UYK22oK5W191d/VsnVc5\n",
       "AwnUQXL8O5WDEcUNSUajpuPpZnt+YQAAAE1BnspFFSw7/wACQONTdlg4AJiciuL4IZQewAMki0hn\n",
       "BNaWovYPztlEdSWt5nqAAfMoO9/S0F6Q2ACWugZvYzmW1xTRQu7koSFp+tSD/QAAAFABnul0Q38A\n",
       "AzfVb0hIAPfPgRREW9D96dPBQtqZgLrGEG/QIYqJX48CqPbTaHSes7AsdppK64RwvB67ubNmLLqq\n",
       "mzBHjNNfL95wAGpUuwAz4AAAAGABnutqQ38AAyL38vIATV7fFu6qUNnfqrjo+kOWQwsNGv1sYTJ+\n",
       "vKoYNBQUhCAdWltfgi9JdH/R53PsonyypxxcxCDh7zaN0kXJARXYbxgRqR1L/FIMNw4DJBTvWS0U\n",
       "YsAAAAFZQZrwSahBbJlMCH///qmWAARjXkXlOwAfGKlU6h7dFW/m1sGRBQmKOyzS4gnXhLJKPxGo\n",
       "YQEXEpjDYqHX6i04MSNEFEf+NklVgWiT3Vxsnd66Kg+Js9OZj2aodV6AsivJ2n4g+ugIiVvU3N2J\n",
       "h/wlK0z7wBD9YcEkS5fu15B94knXVzt8Q0B1Mg74NGa4whUHny+a3BMfU5cgRwrq7ICeRs/XbjYB\n",
       "oulC9tyMXCOVsw06YHKPHgUjvtS4TEpMMoBAbTI1Qh60HH0rW/hTjuLKK0YCAZQWylvZfJ9VFL47\n",
       "EevoG9z4aYRDBYM3AXumopKfBFt+od7c2INTTj+2ZpgRPsTPE6lNRjPJUMu4eu56m+AWyS5jHTm7\n",
       "iswb6zNcPrEE6O8UI+er35bJHX+hFJM6crxlzdo0T5k6yzk76otTOU2loOqDqxjG5vS24hGFoxC/\n",
       "3lPtlP5pQuTRAAAAa0GfDkUVLDv/AAIyfMAEncUav3+K707odiNvjVXDbeOW0K08ImTQMWdO57fP\n",
       "HnyidoIDDg7CGLQ4Ic57LXrJQO4fgdULVkgZGWKkofjOGbvXqPgxlJ82t4U7QYmACBjcMCcKpzw5\n",
       "PlbACjFhAAAAdAGfLXRDfwADHHX4daPC38AJVGXdLQ1UT7/0Ueyta6IM7tdG8fjqR2UrS5nUKF2+\n",
       "3ohE8P0rRWdQZDvdp4Ws8vdSSUyI3Rb8eAmMKHiO+huRe1M4jZa9kiGycUs6CMwgdU3Ge8PZ9aS1\n",
       "K0yHUYqoUa1dCUYtAAAAWAGfL2pDfwADJD19QAE5FF2RflylJLsvwMMPPbyH0mjMH8T/adZURtb6\n",
       "QnqvB0ZlnfHZZH3ro0p0kivb5+2YlZsCiTcZAisw5v4BQVySQJT+W506oicoFJAAAADGQZsySahB\n",
       "bJlMFEw7//6plgAEZBPkmOMAEsi9ZXVBnmstGvOPymAeJU0QKTymjUiIVqFcf3lIw9h04eVuNxWA\n",
       "Po9Osdt8tuK8J6ikR2XrkVC6GOUO3mA5AAAp9MDHjCZTq17TuujoMuZxVShh0nyv7xyY8nxdvoKp\n",
       "MXy/7+smPIexi7RDw7PA61BjvSBr9s4LNLXJimRxGSkuJQaxC9QnIfCl8t3bavMLfukSM4Mj+Cd0\n",
       "3lWHwgK3y45aX15M4Cp7cj1iaYmAAAAAVQGfUWpDfwADHmq2+JoSAEp6Y5cVjgkXYKjYUD2rHgIu\n",
       "lN44JXWn+pBF6Xp0vYb4yhrYGucZupjrDgohpGTx8MhOzRkOO7MnoAF4M3s7byzSKkQBsYUAAAGg\n",
       "QZtWSeEKUmUwId/+qZYABIATAl1IqgDQgBLLpNKIFUV/K9FdmxeIGmVhPjNXBL+siR6CWEe5BVLT\n",
       "yVvCaNn5c7MLqryZcmfrOuxdNaYcQhQzXa7uPb+MapxSBqricS18UZ7qwddjzXhFraPCO1WGr+YZ\n",
       "nYtaXebPGG+DRzAar5YtnCGMf2xXCRZevZ3KG7PpDdz8X8baSPUh5NnI10bGXnWc3N49AkuKL+oa\n",
       "jhthevof/VnDvzk1a3BCJn3NpLG7vfTUhVEoxXIRE8PaG9D+7+6tvtj1Ci2qAX4vZZ04iLqW2wb8\n",
       "QAZd1hfthL0ritbjnmShu3DE+iszfDhXoylHnf5rcad5OoNq2xvTaoQ9SYkJfUAC52Y+u+oKYHK5\n",
       "tcJYuh9YKJ4IfdM7i+rm5oCNjpzWUCNJsPN2bm3g+NemR5qxigK3fIDCUeAH18abaLvQYZ/8u+ie\n",
       "CfsZKJocEuqB7jxn6PMg13wydncis/SU4gOqndtEdBOGXQdTSeoho4XhKHCnDv+JXtRvjwoC6SnL\n",
       "IzYyfBEzEnX8OKPVSVdDjpsAAACdQZ90RTRMO/8AAkDkeqUMgvBCHABmuRd9qM1nHUjL28x35FFW\n",
       "nRfCRoV4PhodAPsNEPJ9ufMQwQlnzt3WYQqLrKuXTIZKFl6qCXdlOgGP+isrYYwWSQw9rXWkAMzY\n",
       "Npk/i0NuezfF2zQdOiF0jqR5iES6jYXMrGPmOw8Jn2FmKYl1XKIHRXrF0D1W1UdXfD4JPJ4j/oFm\n",
       "ZFqkJFB/gAAAAF0Bn5N0Q38AAzfTnUEkAHhpF7ptxfOKGzhzT+ZgPYcw4Byb3nWK1jMyPqpWlIOh\n",
       "xFApKGG7RCBDe4q4PMNpqbpE87a6KHwO1T+N+Kg9DzkN9kTuKyimRh3fG+csV8EAAABoAZ+VakN/\n",
       "AAMaEEnowVAATt7vASBthfr0O2LPVNl4eTuRM+czLn/rhzqmKrAWzagR+N/y79kKqDd1J10Pcels\n",
       "KvHOxwwF8zr4RmWy1oOX5/BnCsTfUmZjPnrhZ8zwj0V7JLPoeyKJE7AAAAE2QZuaSahBaJlMCHf/\n",
       "/qmWAARjXkXmIwAk5HVA0d/aruV9zITVCG5ZPYWjgPIokUzQxQPrniJUtg51XsyOy8D4JuDk9HnW\n",
       "sCLBpqE7PVeIPsgSzTt/5igZfOWyi2m/Fkh1MBX2lz9iAIANjEx7c800QqXWPkZIRBsDjqEHYhhY\n",
       "Gkcx3wchO4CVARw66wwfzemFjWH5+xE7+BmwKHsVkoJZJHBHe6Vl+0S5nSp7PLYQS2W7DcG94U4h\n",
       "K2OrDpHjHDPBZ8/Cm7vaYJizv8i7FwsMUWF47pwsBlXV3h3ZQH20qKgkW2vm5Tq43qS9JclvF2dW\n",
       "xhVkQEYLWERqLwmNFHFj0SBvZXo1extUp85lqfPD9dc/eJzY1f+MAn3jtnm2ZNYvKxrCIkWrnpGp\n",
       "apSqiy2d2DhlIO+KQQAAAHRBn7hFESw7/wACKXnHcEswwAmEdylBnplgVudcqc+FBzj4+lkDEz43\n",
       "L1wj5lMm1KaaOTqILmprwcDlegC5kjqL1nDs9EdO5qsNb6uxVaeCL500BXHyQsmnYdHWzApxGvQ9\n",
       "baNqNApOfRsOckFobfHgUJAf4QAAAG4Bn9d0Q38AAySMeQAmU+l4rbZ0pluNk6Qr/9B6pLwjbHRY\n",
       "Oh7upoZ3QdigyqFtu39cepSIoc0vVzSyO930GQyc2md6iLEZBiYuHBLIE18nx8A3csKOPT7BRcCw\n",
       "D1kBHb3DBorfh5s86E7dagECkgAAAFgBn9lqQ38AAyQ9fUABNBxnV6BrTPIVqUZi0IEUS+QFy2Sw\n",
       "2Otn0J+hnWU6goCzbFtYRhlR9F1sUlEfFS+VcyojsXXJGiqRXggAS3UdMBdmZLBhhk9wdB/hAAAB\n",
       "l0Gb3kmoQWyZTAh3//6plgAEgNpqANjHVbQH+GCNon3pWmPN8FL7NqEdr8jlZ0IrAlQDlU/60TFZ\n",
       "zo6ShjGp1XS0OYRq/NNsYTt/drn0ZZXcxip/of35wOZi3lNxd6dj/dYS//R4XhlWtQsz2HSR+QYn\n",
       "LXJuA2wIBAcMX7TK2P4ZtHD412KOTkKi9wWvs6RFdrq0E6H5f3XPO45YMUqyThwvqVXAn1705vzv\n",
       "sssQz84XS3WVi7Wek+YFa+3sI1+bhkoPxqMC4ieDWYWn74auICu+rco/NtDP1CZI75zeGn68EpFv\n",
       "T2mLkOwVWTGADJ260G/6qTCaSM4vKbtER31xIbPl/Y3h/kdZ/LOfhjc8spchiY4T+Sc9i1QjtYAR\n",
       "qkQvv9genjq2FlM8U9MjbU0z+3/xQjoUer6yfLm4uqrJz/FNqf3GzzFRk2ZOKWMqbBHRvZKxK6qG\n",
       "j7Rbyi7c1DuAjW/X5KCWl2cB8A22gHFKDq9Xa3HQZkOlRUN9rWdVlt4uRuTDOennMTpY7KTlmakA\n",
       "YSR+woLOZ+pAAAAAlUGf/EUVLDv/AAJBHxRvWQBNpAB+PdJwBQBiGy4mJMeFSe4P2tL+0emPu4O8\n",
       "lizgiiPEhCrYC7pev0SVRM59YMUH+S8dDrcA4QfxGfXLC0kkNPxsfiC7RxCDvqwHtfqxDwjloxuo\n",
       "OMLj9fb5ynfKA6uPrTPuk2T5UD2XtTS7rR+WeaeMZa+fZjB/3BMoYxrlKEkwEw7pAAAAZgGeG3RD\n",
       "fwADHcvBJZ/wAeBCfjdScAPDhxsl2dCCUbbVeMEQMIJFj98ZzUs36QuCMIpktQnJroNx1COdXEU/\n",
       "44bbzU3wUjrId3N7E5FhN++kGcPQbamNYuNmXdsMo2XEC/q9poB/gQAAAHUBnh1qQ38AAzgAV1Fu\n",
       "SADyetijllV9/Oi13jb0PRe/PrHhXmCWHIw9O7JZINuppGx4H97l7BCUi1JTuwxFoT5olF4RGiST\n",
       "aBFCzCPzHPPecLoSgf0csv4JwKUddFqurAZzymv3U7XDbESOo/hX2TkU1EgsB/gAAADnQZoCSahB\n",
       "bJlMCHf//qmWAARgFes/+QMAFetBxtSkWrzE2Dr/mEqNiIG70qzhyq9TQ54QhVhQMCnoucZWlPNg\n",
       "yhubJidXs0aTNQZn2KVfXta/2/dCzXcvyvecUsgHR2D4kqHIl+4HOXWiNM0rA/NIXQbewm9eLvBz\n",
       "eJaRPHyWsxhegiKr4rW5ZPr5TKzpj2zkRDwifXMPGE7/6hC+u1aK2nmRq3sSf648KsQZGIM4swH7\n",
       "iO28x97736uPL3TZATZG3LgpR59wcQJvXMkZZD61szMjWKWPH4Pt07NOcMoQ8ZXOx+KRV48oAAAA\n",
       "dEGeIEUVLDv/AAItzjMwbygBFwF1E2abB4RnpdoZUiRZ6PAVrjBw7XNjXNOdi/keiMOvBx5cGLmO\n",
       "DEdz+nI8tEClwu+Fd1Nh/0zKg8wWAdAsPGj7s3XsFBVLTP5jBiSfjmF8Uc8/2mABUbFUyVevEZnt\n",
       "wQppAAAAWgGeX3RDfwADIuROx8ABO3t7pMHy+QOC7X+b7g3QfHgxJB3EvTZvCBjDH+QafMEZDgsG\n",
       "IV/vbXp8RcxddH26aQuOPCH4R/U6eDNkgADdJXd7o2eHpRos9Cg/wAAAAIkBnkFqQ38AAxn7WLCI\n",
       "l3IAS5QAHX2j7QLLUHJm3nUbsiWYfHk04HxkfvZGc56erIy8l+AR5OrwaUrKxyKLfJq6V+U0BSdT\n",
       "F4Wg/tj1sqdBL3JDP81O7xDaMbFHIAnmvnmAujL3IrkAcjElm68FhvCYLS9vHMx1kn7rgff34s9E\n",
       "JS21y++s4rhDuwAAAOhBmkZJqEFsmUwId//+qZYABGFXhQAcFMG3bHRXh+b/PCaItYBXt66MVWjO\n",
       "PiQfIDlVJgwMoUKNnwjay488Cizz8vOVbynSMMLjKr433BHWTC4FX3P/54vsCrrO8rSFzd7to05K\n",
       "oXKK9tRd2y6BKp+W168aHGcqNdqcorzVn+LjSeKSwCXsxlLR13hH9HIzkkLtLeqygqMXESyS7vFx\n",
       "d5V/xb+zlM9fnXU5KKLZLIzkG+grAM4pZqpLg4IZAgMyFxAZRJBYwdyamnRM9G+DU4LL43n1Cg/9\n",
       "K/AI/OdtlpCtsDLFxMEkRzEbAAAAaEGeZEUVLDv/AAIyfMADV00iV+UBYQb+Ogk85cyXO14ktK/r\n",
       "EVht3eouWBXD7CR+ADG2JPAU42yG/p2f+SjdRSlrXm24jPOn4aD9wZPMOnwIrxDT260Pjo9cZpUq\n",
       "Ak68QU3PtBQMikTtAAAAfAGeg3RDfwADI5de5wAmYimLUPqO3B/p6anG+v5X9Hjs0n7gg5wGh2r+\n",
       "IjgP//7n8RB1glIybsY7iwMhLaI3QMEBEfOIa5HIeLjJXFOQnwC8I8Q7Xk0dnHfl13R5w0hJdCBD\n",
       "Wva0r69pBk9axt4pNsY0+hgnFEStne1gP8EAAABRAZ6FakN/AAMearb4mhIAS4EUK0aY56h2ELgh\n",
       "K8F+eUqZH1ieYiw+pcANwiTkg2lS2JEYfWyM+4oyxbLD8+/jgLhWUhA3oKtKYtwgAAADAEnBAAAB\n",
       "z0GaikmoQWyZTAh3//6plgAEf/NWMaGiAKwmlch1Md6q/m2Vm8xzbRWotDU3NcWpe/0abfAVXmvE\n",
       "Zd38TCNqRsBVtmS5Sj4LYy19yyMtBbkVG95RmbC0nGQVVAjWbZA189P+oK1niLuiRV4Xgy5Qiq6B\n",
       "jwEO2MTAvTLd3Z2G8R4YSGOZojxuKT0yaROy3P2R2wjbsxvAXHb0SJj1vh15N92gc3OGty9S0TFT\n",
       "vrs+WnYPKZs0x6Z14hVCwqcg5pLY9lCwvDCj60SiTTbe/AgCgwnnsCk2nqs53G1hExb+IgtfDodw\n",
       "3oTJ8yEbgOPat/pR4qioRZ7eKTHXaAiTxTPa+Vhn6pyRsqdwkbcpvI4fAfpZWnfyYk6vi7v3cdnS\n",
       "fFhSoZomvYcSUYgAu0iCXvcJHmRG9iQgWyRH11OjJEhpL6UW1+8Kky8Yzk6c/eInKFgHEd01cXk0\n",
       "2iazpiNpYSfUQJfCDjazUiR+oCbv/9/90I0roRcerC+Vqd1hQiJsTsIBTHUnU4BZhWjn5ubdTRr4\n",
       "I6MOSuM6TNxm1eduNixXEcL30Jwz9G/8xECY57YYqM3u5uTPKee8FeFhCL+B4nRW9mLyZHETKuvw\n",
       "j4fqGgcSYJEAAACTQZ6oRRUsO/8AAkDjQpZWLsUI6ACEmVsLpP+3ddTB2HRb7Is2wZDQOxj/yrl+\n",
       "3E2ICy5qw+n5WoDF2lLvgsuQg0zANtxnFaXxc/004w/PUVD594562rxxBq3DEbZUH9IHcdM1I3gS\n",
       "9xhS53vgJiG/ufDGhSsadP5x0Gfb9xtJ8K0nFTRJ9iISsfThTE0eDwhcngP8AAAAeQGex3RDfwAD\n",
       "N9R2N+SQAd1lCcsvtAhUrTFqh46zWZXITSTp4i/NaZ/VH/jBNuOjmwfD39vo/IHp7GMgbLMKydkf\n",
       "BSVikMlFN+MAlsoiYazmdajFptXBwbVEtA6TZ+ZOz7pFl/Dugi6ZmR/8FNTQtOjUbDCXWkF444AA\n",
       "AABqAZ7JakN/AAMgvXeeOAE1e3xGY+XyBwUgtF2yurCxoScSKHOxl0dlA1AQZq1Pg5zfb3ep9BNa\n",
       "Wk5dUzfDFi9/ism13I50EgZIM1KTBK5rc0Q8EeIFislbRmNPtW3xmwA99ge7VjKiQLxxwQAAAUNB\n",
       "ms5JqEFsmUwId//+qZYABGeV/UwU8LCEAJI/R5DFNujtJv/YL4sUKKX06kYIdKpewxsrFr4vtAEr\n",
       "D6/Rkzr0AAD8bKUqw4fT9BYo1jI5Vfz71IZfdgcZFo6LjaQub0eX9g+avn2E6z3ZkRNI6FcWkhcB\n",
       "JrB2DcELL0dhCdWc9jPevAnNlyVbj6RkfWsNevhO5tWM4c9fssmMZcmnK7cz+DJdfBLZQHamHZxR\n",
       "kohP++ja4BYKu/Jdjw+RNRYs57HlGnLYFhChCCbl/W/36SomHKMLvM7XWh0cLTqyoaZiCH6eLmsu\n",
       "UPH8tCDlclBceM93wYXaf5ekS7Szum+uG0JYne+SepDn2fATjMZySH73Xtnf0dCzUxbJMBuYRtxg\n",
       "TSQlrPm/INKhkxx4EmAcq5DMjE8DoggmTt3NGauoJ4U9KinQywAAAI5BnuxFFSw7/wACKYu0VNgY\n",
       "AWg6jV+/xXKd0OxGde8ew5uQGDOE095K+zPj8eY1v8cfxWfLJEcGNmUKbmik3H8gcXeIba9YQTew\n",
       "8yG9AKY5hwJ80wUXAv8NFYhjsz/fAtKBGf0GMKoVVQrirJABYNwAOmXnTdsd+S+6swdATBF0RCmU\n",
       "YAfi3nHVflOVKROwAAAAggGfC3RDfwADHHX60Ki3RgAEr8/rxJChj0rUqCDgm0WirKSCOqqHkQ+e\n",
       "skgZLkCGJfzvMZwevgoZt97wKwoZ0wYC3tDAqHo7iZj8FguKeF50JcpAD4+HKniCG736HifJENkV\n",
       "c8wK3qfhZ8tvE8w71WGuToBi/iZ1u+eqobTfQ+owG1EAAAB3AZ8NakN/AAMkPX1AATNDDGYHlN6/\n",
       "zvIcQHcAzFeVqyCD3rIP9bIUbnOAspKHAevWEDi0VH0iL57upW/QsohqE/nILiNuIoFWdWRDZLm8\n",
       "dJXE52Fh6Yeu1/YYXSu+Cq10UJb4ckq699QAIEYY5ZCHU1VURCEg4kcAAAGFQZsSSahBbJlMCHf/\n",
       "/qmWAASA4SYCg+3l/vOeyftyy3B+1Z2XhSU3ZgohYw2kQns2tMSNfD3qZeD9xLYbqM/h5PjwYQ5y\n",
       "mSaOBhuv8nfbG+At/yMb94yvyk5H/H6IgUPWzwry4Y00iDPCZsVmO+zb+v26QwjsriX2xwowJ7db\n",
       "b/w84gXEP+dBH6m0L/0OmrhXq3+waup0uFQzbOezfDHdYyLOdkBpPSmnWyHomb/xJn1wpy2L/gAC\n",
       "Tv1urTcDhJi7ETIg74+ayf/prGHIwJy+GdS/2A+GFGzuKSRPGZ9yQPbkKW1DA2v4PLA8aqD99GKX\n",
       "T+ToPJEqQW/HJG2SdvLFh1jdwccz7YzPGHLjN1Nmxm2R4w/39NHkqToJCed3TQEVM6E1COVkboBT\n",
       "So5+Tse8/C9rTMoYqoWhL9AZW25agUC/2081uBhlG40D7AeafEv/XTtk7wVcVsKqA/cWf/QKJuJc\n",
       "2L3UGMzyHBJu2JBbscdmnwhBS0uwkWXH4uYw7TZUR9M8ICkAAACTQZ8wRRUsO/8AAjn3BSlmbDoA\n",
       "LpFv6qCrTzjwzXnE8fKuD37EYATkU+pOzETIEABX9iWLBIzh7OTziB/7PbTyJo9LMTDYO19oza8A\n",
       "24iayd/nRjlhx8H1QXCcPeaxOafoTgUMwfFR4cHA0zzIiYUfmiDZ3ok5VT17BZ0IxwXrwJtlvdo/\n",
       "h4hWKSb656k1Ik/srYD/AAAAeAGfT3RDfwADIt5e1n/AB8U15Gak8lBSqR/SRevVlnERVljY0gLU\n",
       "c6NdkgCZ51GDh+Ik1s/AJrItxPSNVBk+BNkvnZURndXpcYKwIrQNnah0z9dcnPGsDok5MnuL/aZJ\n",
       "PJwpUpAvm6E8zHU0VaFjnCgQfDJf2JAf4AAAAHcBn1FqQ38AAzgAwHyQAlyW8ewvmcjmObrQZ5+r\n",
       "9hTe8IjnW229/bFinAFkCbErxhJFj3VCm4Y0wMjepvDS7Ak9Hxc3CjTvgr/sHUIkORF4evvTrWqI\n",
       "v+s2VlMtCgzrk4bcHACWik3UUyAKcJ4qiGOvSi/Vw1wHzQAAAUVBm1ZJqEFsmUwId//+qZYABGEy\n",
       "woANlmXo3TFtTBZwGFDP4DnM793kCjAXRA92MgPcPggVoJ3ZpdygRmNtQ3Os4wy9qgd7yYAmN/Wq\n",
       "Cgj+Wm1rQOTuTmTVW7sITnFAb210LjLr9xGmSuy17RMgx9lBeLUazfqAJb3mKN2OMHZ6jdgo9grZ\n",
       "wfiTQy5CceIhdvyumbNRfNBnjHPekFLwqgDuSvD3D+elXLUMfT2COulMSsfywKkGzkhmgSpk1CcN\n",
       "SSOuaCoq2adpK4VITucBlQspepHepDyqgFMV0HqKf/Qr7iacDItkcNgLD2jELsh4gNMckzkaPMty\n",
       "zf1FmbxTfqQXIlnimIne56cYnLyHf3//4dfNOGWFCuvWBDG5YkflM01sqtv1ZXd+KJKRJdbGXF1f\n",
       "r0hF/hFIh4prLgD21/SNgl7Z0oYLAAAAfUGfdEUVLDv/AAIt00w2i1ABWREKm9yIhI6PWLjdcX5S\n",
       "cmHMUf61MgTi0YmBcgjPqxMTkk22X0QrwyBJpZAT+VTbi1CSHPZIiswRR+RQSdK/dFGL7M7K6Wqd\n",
       "h2rcbrm/KueZHX11ElDQm6Wd6mfckVIMFjRDnEMAU0ZVtRiwAAAAXQGfk3RDfwADGhDK+jHwAE7e\n",
       "3vxx3y+HKA8pZXmXNqfHpXz7RB2snvCBjDHttWP2JpIVv1K6eAZ6JGVJKWaQaDYtFjV2Rxz6lDyu\n",
       "8RWTx8zR9Ez1Ts0601VZ/SBOwQAAAIkBn5VqQ38AAyNTzztyAEskDyXvzOT5SwyvTkxMAb5jFHHh\n",
       "7G7NCtx/1rlwHCPJbgn/BT4P2xS8I9x0oROPoHv80ytL0XAfY9e3HaNhJcj+IrXwX+yfDDcecEc1\n",
       "35U3yP0m8jvJTWkNy2xQh0eidRjIO9wZ35QZcP88QQLsxACvvwSdgdl3OVItoAAAAUpBm5pJqEFs\n",
       "mUwId//+qZYABGODZCEqADeNsypcVHcRdv5nJ+TAAnOFMIpZTOHHA6BIVInrRs92mNdW3kTqNV9B\n",
       "Y9YBmbZ3xpwNGb8MQdq3AEoFX07nz63K2tOPCAsOug/tOrkj6fswnew4Rs9yJEzaqCdTmOEBKhC5\n",
       "4rs0aSslyCSYPrBO4BVq2zuHenOFbjNb8PPGU8jq/Q4Oz6qPA0MZ9S+j70fVVQ5Nzy4breUSdYCb\n",
       "qsmv/vF/BlthuLd+hYOqKR0wnlNtIi7Fl9avBqpeOpLEh3LKrJz57WI37lnUu+nPv1cTTkwmSFiU\n",
       "b54KVOV1j+AJ1/A5WiK79qVIdtE119+2m4upqeWrE4RhhNvFxlP7SzgbocALfBJw8yE2BlZ9iYXH\n",
       "4On07nSeLXsaQUBgmPVZ4UivA7+IECIQFSQ8ZFOlgbzZSKDObP0AAAC9QZ+4RRUsO/8AAit+fc1X\n",
       "eNhCADxV8gXf9EPt/we39saqEC77K3axcxehpfSBNiDu4Hd10LSC2bwradzEH/f0TatzDuJ3tvau\n",
       "5lg1Na+ggMveXdZ93ewUbBJZULW4Lce2vldjNZOW/Of25bsq4KclrJL9mD+SkTb9BHHH+tKpS1LH\n",
       "d7f0dpACNV9vBK8EOcWGWD9CEWN1X3oP80HNP+OjMg/l212xxoZ1+DdLRofCFhoo2GVuDUE2tImb\n",
       "AgE7AAAAeQGf13RDfwADI5DurgBMyHz27OFlvPH5Lr+aS1lHtlx3s27jKFZB/G+I2s47L9aiLZkj\n",
       "/k5hXnrQBi7xTgXWXqfEeETImoGbvoYiW9PAwsClyWfTTE148IPenVfRfwQrKavd3xGvkjooXXAC\n",
       "pJ+yzWpV/oay+X0gE7AAAACEAZ/ZakN/AAMeWxnB+QAmlr2nDYJwoSaxVzzoYK/WXySm4jdQqfiz\n",
       "4ZGinZHD3Wvh36vuLQu5xX0De1N1INWq+fHd5SXiKu4QZoQ0TY+45mg7gYBqGOFpVhI5Py34POQM\n",
       "D25grZfiwP2vwiQYFKwDyFU06f1P865vuUzsIUeYih4wJcTNAAABU0Gb3kmoQWyZTAh3//6plgAE\n",
       "gmn1QBMO0rkOlXxvAc9d1tendlAQ2DAsqJrNwN1np+NdNAfO+XObNdvFqHqzyBnyuhHuaRBniMeB\n",
       "vTX8XHNQZf4bN9Gj/EhySS2cAoge/CEyLl5iNO3TAL0upk2I5rk2Ogp/XfEpTShxSM4Ygtjv/Fdi\n",
       "BcW2hWIB7bG45108DeG/mpHcM0PCpDe0loclr8UAFONftI0Q/WVXddT6AHrfcakkrz16IYQIfaBi\n",
       "6ZsqPxQU42gu0roJuheIJVJQZgDLD4UPEWb+BnbNyWakHyhQWEiD5kqdWwJrYGsvh3uAGJkWotkw\n",
       "m25fh1OciqWo93zeJVAWX17M1UhZGyt0Z9sHVvgE0R4W82lQQ+J1A87oNCIfNvPKX2wuRkxcrCOB\n",
       "EWyNuQBEWYsUocLGG50T0NJqaeZuouycGv8MhKjvY46sws03uAAAALZBn/xFFSw7/wACQONOLz3X\n",
       "ZLoANWEknUmkUiPTy7fsdhX0PX3vMu9nML6c86s/nQpf3fPcSkKo8mKcMw/v8dBRlHtG/UX2T38T\n",
       "wcvuwhc83HpCt3ZJIqg4RTF2aDwMe1D3sxNKj8bYTAyJifDL7n56QwH64AyNCm1CshXBTbWb5Liv\n",
       "agplwOwU8oDjhbMgevPcPAR57EK/GhpG7mSdNGfOssSlI6sJ9ZMawknCE4dTmjdnh6MYEQAAAIUB\n",
       "nht0Q38AAzfUdoa3kgA/CNMP0E5cOaomsFU6S1rlF8H5CRIOk/md+6Cp++YVyrfPllxyXdl1mYiM\n",
       "QMTRecUE4m+4JGPF+iogGrwfg0NA0ccgNAW3X7v9VNrDJlZSFQkCAW80f46F92mKNwuFogukoOBn\n",
       "RalLaO1pnhvAknqBvr0D3UN7AAAAkwGeHWpDfwADHQR/Oln4AO60NvLb8/f3/ZlLbdAYZ7SxvVSa\n",
       "ZMX1WhJSqMy1nS5WLZlH2TxOjppj6Zs1IxfWnwllQVPC4XMAorwguaLzCmihfYzKyOrp296+0wb4\n",
       "XwW7b+lIuUHIMZZfPAQ3f/YsYwQThuWnUgtwnLak2/cG++SoCciq5JBwraMW09KrS+zaoUAfMAAA\n",
       "ASNBmgJJqEFsmUwId//+qZYABGKj/EYwAR3fQqy5cWrO/J1N0BJIuSBJfa2F5t59AAUCohP1EUwC\n",
       "c49M73CAe7pzcJZD+hpKyZrh/5JKzgxMtbZTKOz6byYWiBbrZc2KAJssuXkDQhm1oPyW3h+I6ev8\n",
       "G0wATaYGlNgn4H5a5ExZOJugSBAox9Q7+fgr1s0mZUv2WiskDxDgoJTlFNaAbQmx1Cq7OCk5PI2q\n",
       "Gp+eflLOyaA1/oOHCq1iTSClnrl/K6xcKRbz0ika9SvvhDk+aDVN07h3nZKWhctky5HCNO5XLhD3\n",
       "gcje88S0dJ8Os6gBn26A47LmEbooz9eeNJ7jDHyr4Y3JOq481CF5zpJyDr8tf72XMegcPWh/vV20\n",
       "8TR8itLjraAAAACIQZ4gRRUsO/8AAjJ8wAPoPyC5UNo2eRexhz9ChaQnXEU+o/JFuG+4XjglesJ9\n",
       "Cuyy/60Xq5tVx0FMG5/FYpV7JQQRkuz0zd28yokdOFmJLF40A8qrCCSClN0+6JeStrBB03dff6qG\n",
       "v9KYEHS1nh5+ijjZkXt/v3xtB7wt0Ze98lEjWTVF6KKRMwAAAK4Bnl90Q38AAySMeQAmVA78Vtsx\n",
       "4Ri2PyP9VZbpC8t3GI19ddmHzbVBmzdZOLDztNOMGerKO64aoEWNpC1JfP7AW+dQox8rzfe07ifS\n",
       "DLs9LB2Q19BiE9sY/+Cbbolj/vfvEVYuJ8rV3WNfOGc14tcrwXw4yu+fzLkwbL+NGN0ftZ7Nn4ff\n",
       "QeXyUAI9ZlaMzGWFG7spHqVaBtE44LjEzTnKFWLfoxlXeMaVQjOUW0AAAACLAZ5BakN/AAMkPX1A\n",
       "ATQFPL+b/vqxNt66hEqufTqx/YBPlIuMrzhkYhThMnXf1D4bfefWKQ83LuSuveKZO844jZYhLLfx\n",
       "kP2HepregZsbMjQBj58YTp6Do66Mk9p/DWTCWC3duJlBq85DV/rrFQjP1UMTMPC91YoACWEJY6yR\n",
       "wylbyFq6DEVv6XQHzQAAAUxBmkZJqEFsmUwId//+qZYABIJp9UAaDwyFnL0ich0YdjjoCzc7/OFA\n",
       "rZum5C2vxOzLXIJBbg5LglYHgwVQliQrOSOhFejTvDKOp97PpygS9tUgiSIzO4M5kD9hUqEwrf1d\n",
       "sbj1TXmYC+PRIQ5Z7vm1uUh7YRO9TnhImxoy0+Yl/uzzhee0a6mkY24KhBiCT+ixWhRy93cMSbxb\n",
       "S4hOivOhn7nj6WfRQKKQFyDFDs9HNX74YU66kPkU0GorMhv4qdOKThBf7SwlKH0JqvC+oeOaEIgk\n",
       "ubHqcmoRf0ekfJK3609hbCSeXWiPQwsnAmEvg9xljS00czPgZDpkGrE89djaeF/jPJC7PxTlO2of\n",
       "jbmEqiXN4Sfm5XBt1eGIlxRIRppHWHoMpD6J0zUTtPGbViYuEpdJ7CjzedHH3EH3u/5403pFqR7K\n",
       "In7VjfnvvgAAAKFBnmRFFSw7/wACQR8ZEAkATaQAfwM5ksZUydHnt+38dDFLa67iB0D40Fqwq0C9\n",
       "7N44SNS9bRv0N7vWXPbTdZj7YAmgvF7kVnw9fJreUgBua18WYl05mWY2f/sWUCjeakh4TY7hzHSC\n",
       "FqK1PRmvmsJLiJ4mUy/EupfGSZuZeCcq4xptjST/04rYHX1wv2PQmluiSBhC98U18UoNC/pxRaYD\n",
       "5wAAAIgBnoN0Q38AAyLdh2m5ACaXJhbuIYdR2XR0kEahdkwPbPB7rxy22+Myv/ntfEiN88MCwjTk\n",
       "gwbHflCoZmDXo6Azcm4XVUOqHDGVlOoipBtVtpvICJ2e7bCslm37N24juVBq2k7jYHgEubct/r8K\n",
       "pjyWkAhX1FUdLroQzXQwWCXufMgCSb2xcotpAAAAnQGehWpDfwADOADVLUgBLlGZgsBMKoKLLiI6\n",
       "gP/s3uAMVI2qHfhUY2QwrjVIhBSPfV5Zx6CduO6zA8oypw3jakkpLbqb2bXwbtisxXOh6E3AdI9g\n",
       "X3xZk9pCV5KOzxNFCdu5VeVYH2w9MZy8GuNaJ0yA0pxurVTUqAqclhkX03Cd1gCa6WSSBoGTR98t\n",
       "Lrd6ua8qq820ZF9RfD7wHzEAAAEDQZqKSahBbJlMCHf//qmWAARkvd4mAC05iSDBGjYi9DIrVKPX\n",
       "KnxqQZ2pwnX3NMHplkEiA72p3iJRcqoDCyXHkkzBzXOoNbVTi8p78g0Pggqf6DND6MwPZ3/eONgC\n",
       "a3yY+r1ZsiI2KnFG4ZuSZttXVrlliSTeZGWRFyeaV2Cux8zZiPrxJAPpFZK0H6NeRTBv0+soqRER\n",
       "e8cUZ3OABejrxLCIMvZY2+a7b80FvuQMYpenD/0oj2sdHRdZGNClZhPmwowI9PsuJ9XLrPv/VSb9\n",
       "tNfhb9T+Qz0QTEr2XJLm8jV0g848w0XCpYx6sIHK0pdE96EXmUk1I8XMkwf2JCx6cKqHYQAAAMpB\n",
       "nqhFFSw7/wACLaRRHfKAEqffJC7k6IPzFZ6QJ0B77Vhw8TYnfcn/gMghYFF+k2qiDrWCYgWzpELZ\n",
       "wZlS2S7xmO0Ao7ir6M8WLA7K0iLKRox0cYKhAZB7VwuG5B5RVlYfU7XaMD5G+CxwAAJHdEJb27Bx\n",
       "wGmObDSsEOPQjOE9X05bwj63YOZOLGhPFR+7Jhe21+6QIsvhiSnMz661PDie/nRWtqJJp/BG/1Pd\n",
       "FCcbGZU/g9dJch9nakAW+MV3LHFwk8DdrL2TrDKgAAAAogGex3RDfwADIuROx8ABO3u8Xoxn04HQ\n",
       "7XiPHxKnycqUIDNVH7GMUd/rrepDmltewk0+nujbTyGMa58G8+ufuC0vD7ci68Jmk6uYl4BPeIN7\n",
       "KEiQ2CmmncghUNJM7PqXbR84jC5vpf6PSwv1AIColn3h4xjMQl1c6uYeieOSHc43ilDL/+IDM2wJ\n",
       "ndLVRJ5Vvo4mKY5SrUUgESjPrEOjtkBbQAAAAIUBnslqQ38AAySkOWAAmijT+UMSNHFLi6p7F9GG\n",
       "ZyYv81zLiwx2Os7Ao3x4EDn5nZsT8scCqcTzZXe3ro4u4HIcumTgL72jI7OUWUQNMwM7Qgfw3Z9d\n",
       "SET+UYPoBz4LS2ROK46W8iuvqyeGNi/5reUBNcWZ90GoFyglvi8+UTwA6dgfeGpBAAABGEGazkmo\n",
       "QWyZTAh3//6plgAEY4OfG0AFxvFhF6fSutzu/QtsfCI/x/zm1g+IvY8qj+PT+2VDjYwQEj9+wkiQ\n",
       "gy7/oR0LWFhfMJwnWfnEk0onmq1ol0IJnU/bh3D9vjOydYf7HTyKVznTCS5wyc3LKnFq7w9vOeuf\n",
       "g9D+gAH4ZcHBlH9yJipJ1hzsXHy85gMq9CrEHYNHYaI751bgJoTyenwvAc/YJQYkbwWo38ZMGaZp\n",
       "pUxSfO2mEK/Z94lME/3k200DXOVfpbNHIIKZtfH6HYqD100DLED+3AqbK+FbmpHZdDwC5V6WQ48R\n",
       "qWJqUjnfdftqPdjnNXqhQMQVzmSZPZ+fHy+zbk82XcL4+MePkXyH8XjDRwmAhnwAAAC2QZ7sRRUs\n",
       "O/8AAjBvREOEYAQMwgXtHRkGq3MR4m8L/DQhp9wEwRIFpwTTyqAIqNV7Mg3q+CXDnSX5FJH4feO0\n",
       "RsSfLE7pVKvhQR3V/iRHaaMTfnYXraWbQgsAC+PRosXDy/2U4a9c4HlEowhy183Lg0PFGuT23oyf\n",
       "xW+ykRzHpcjcosNEMKsF++0d/cYzqQscJN5kGx83RkPLkMQh9gql7TyCjugNp8Dy8gcPaB41dSTD\n",
       "QNEMXcAAAACWAZ8LdEN/AAMc/S2kMgBIWTG9l4qwnsYN2EU5XggMrsB4fIrQn+2wm0vMf0hO+zO+\n",
       "pIddXdIUPE0qkfPOLUUGZ+oG54HCiwgu0dOSr1zqTQQFDWbrmeM2qgqdZZfH4R+MI+36H+SsfD8o\n",
       "Asxjl9YM/kAUE0dUpB/+UZGPy/6oSt/KiLtRjqNkJSZ+zXQLUoUEkLsmecZ9AAAApgGfDWpDfwAD\n",
       "Hmq2+JoSAErTRKJSDuNPjYwIEWi1KvPpAcbAXYWffOWl6ItymzSWji1f4cXQrH+/nvZs9TF1Mv8d\n",
       "xnzn20uYc6/agiZWKrq59xs3lsgG8z3N2YOZlsVhT0iSthufU63C5o8Hynl43BDan+iEyVz9USWd\n",
       "8Zjq0RwMdEtcqcmNb7AQlf+HmojRjRdSChXtMtKxOAS5p3oGTt3z0QSkSsEAAAG7QZsSSahBbJlM\n",
       "CHf//qmWAASCg7pGgFYQNRG527lKl0t1mpnLBoLpVsp+YQeHnyTw52a1WYEIcf55K6B9UIzJGKja\n",
       "nSY017w70kummDlfU5+X8xPKvFAhI4V04WDUuBwEujTHJ0KX4BfinPhX3hrShZGgTdC1pAprhtpr\n",
       "rw6Vi9KIuGELYCiXCRozAg2ill/bKGC9ZB9LVZR1bVQTQJ0ODFwbW0gPesngXEpEEAqYGl2vXtJ1\n",
       "ZDD2fWYvF2EOAn+VYMoFpJfYgTTS5ESb6akefwoo/xiYDV0KP180GVhXr6mlf5mTCrvv14v/xUxm\n",
       "xK1CZjiGm4uox9AjRGfLlXJE7ILPoDEzY1YABc0UEarnXYT2mcb/dPnfEXLTevYxzrTjLADZ1Yqj\n",
       "XpCsI5eSxz0OcgG/V7agNZ6O/yHsmpug+YPNYpjrVmj0Vpr2ANFLfWNOZ44FP2pdMIj8LcOnnEbZ\n",
       "NJUat7JaYj/wDUIa7ZceKKMyEEm3f/n1GFaRBSgrxIvfTOWJuku7yTJiurzFOvr3qhWAIPcDAVhx\n",
       "kFhg6e6/UN5Tzu6PeYhJ8wodl83xZon8/iAPkAtPoS+fYmkAAADBQZ8wRRUsO/8AAj/+S2VlS3Lq\n",
       "a+4ANW3K7URt+L5FN1dfgDZGTCObM2HnuIIeXkqzHtqLzVehWVpSdv3bBjmP497G553h/MxlK+kj\n",
       "NxlFzaxlY4o2F3E5kWJ21111tmz80XYhzl5aFrULLDvkCZsn7J07VdpH1bXoDCDGZF38rk9llGw4\n",
       "f8MOHhsQmh3itA7nI/HsRYw2bIF3NkXDS+ZQNX4gP2gU/PTBanWytH69XcnBRctRimrry8YM8slG\n",
       "mSAD0gAAAIcBn090Q38AAzfVb0hIAPhhLA/dIYsrGCSH/6cXguZyruRVe/w0Cf3RYsQvCHmnXriN\n",
       "7b/NbjrKRbWss6pRhdMtWrW3+qq6mf0VEIpzFbD9VxGgKplsBgIaKrSzbhqe29lS6jJ7ZkVtEL16\n",
       "2GwOFis+0eYPs08QekpcrZ8FCSrkpukTIEY8iygAAACBAZ9RakN/AAMguKqX+AD+kHwf5LfTgcwO\n",
       "QTs2dW34sHPRyGFUxDFOsZDrv18zBIz7IMQE52wAuj1b7jv0fhIJJg6Uvu4kgaYJqSPD0oiC/iyS\n",
       "QwcJn63qhZ9VVIB8KClBLJPQ8wvQ1H3rUkypYMteJdMHYSREV9K1SAntf8S3kiVhAAABEEGbVkmo\n",
       "QWyZTAh3//6plgAEYqP7XRgAju+lpi9zwtr5Wj1My/cjKyIO/v7EZ2a3cbRtub9asZY4pmalWDMY\n",
       "JqTo1LlnoBx7HDKCxRHfBON28TceqCLJQGexz0eAq0ZeiqoYOBAE/eDiPjq88sodrCU+AF0q10DP\n",
       "ahTA3O9onEVxqj5BtkMOGCHc9qmU90X445bVUmRZm4zS9VdnIaic4JpmvEJeC3Jg6voHie1D5pKp\n",
       "OzXcDhWUwuHJr+a0W+Jd/DEO1+BiQOpk63Rd5ljtAcb1SNDmAhh8vi6YHOVwB+xwrlkCkhsNq/IM\n",
       "ipHsQd8tKHgfWZ1NMLbooemrhRkbpiECxDoG0ECdKdtB1fE5EhcgAAAAiEGfdEUVLDv/AAIpi7RU\n",
       "2BgBa77lKDSqLzzF51om/3BYWSmzivFSk+N2y7YHZrFIY0UkNOfsextn0N04esm+hlUQKFaGeN7P\n",
       "TYBbGFCPyKpWq0JJeRIEU22jgCyYH6pMt1VkuEel00rNLoznPzeovczQCpBrZCjdNopoENV/xSsX\n",
       "DXJDiKGgPSAAAACpAZ+TdEN/AAMjl00uzgAJb07e50uJANOt2g9/R8IWEU8HfMZyFREYAMlSq3EM\n",
       "26oHwAyDtEb7j3OVpa1MqdzBNCg4kQL1GPaPkXbPw43UxNcBRVmXOW0Tw82MDigRnpLdWDJA2CVn\n",
       "Kzbg1LKoWDN6ITTpHKDjUj8d8qfR1EUreL3nuCWdw4hjJ+1kQeqbakAaq01q78GdYTj4z4NTirrf\n",
       "cymuSYcPQj6JWQAAAJABn5VqQ38AAyZa4ASgw3/RYDMkW+vo+LgY8doj/POsUFrjk6CWgxCHCCC8\n",
       "8EmMkeGcXOnBiSYPF1ZWKb/FtFwqLScOpDbowqhwUhDACdkDYBM4rdVsF3gEA/frCcOW2dR/B759\n",
       "mmbUirjQwVjUC9rYL2O+2EiRvQ4gkB6e1/y9wwDNoMhmF0sMFwCeT2mFRZQAAAFiQZuaSahBbJlM\n",
       "CHf//qmWAASA2moA0DUZEY7m5wlRQBvtBwh8OGYjKKmvUs03+IKbrIERqDaAxhT3qYjcOHOsqsaV\n",
       "PRmo+A7INM389wzs5wPHt2bHgg/tJOfkYKMVwUuWMb03xPVU/m/5XwTC9NylVAxRM128RDGkTIj5\n",
       "iY5LRLP3HFH0Nk5kiczZr0OjAB04db6GBTSOWCGTvZdBdaK7h8S9p9evwJXANWTJPzsoxst+3g2R\n",
       "dWUM+YE6dpJLx4j/VU+xBluPR7bNVYKFI/KzuncC4CEv4aWkQgF2UCvAvZ903VORYdSbYpRO4BqD\n",
       "0/P24RQ39btJDqn2cw44vcbqmiN3EI9N/qLCzOrFC+CBt5Y8kCzdTSAx8y5hMi7zP5+IVSsaCZJ3\n",
       "kDNpkPFWP4xgJbGrqOIQDK0PTcOz7gXzSdlUchRFdV+vU+InEmiQqvAHWPG/V1gDOJuui2nUzaYk\n",
       "ZRbRAAAAqUGfuEUVLDv/AAJBH7yMl4ugBKf4kF0re4QAxRnpAR78rvVwe+M7H1Tjnl4QlRaqqoMi\n",
       "82jXys5gaNq0t58ibu7frE9hWxVKXjcUiIm9IIeq3RURAZivzslLt/gz9aJ/y4CrxeEV3PLwHFqu\n",
       "/2GzWCxWpCsZiFJZZ1Hqo+y7LFns3HJ7TRFaaIcUhD+DR0EMtEk/mzuCUT9PxcsuyBrjpskEU52R\n",
       "zFgAoYEAAACIAZ/XdEN/AAMi5ETTcgBNNSxyYGJluH0RxCVer7NpHClQ2T+Qy2VEzHcNtAK/1rmL\n",
       "q0xBH/26ttw+AHph2f76nEkNSJnL5RU1JQNgQaAIGwVemdRe29Ay94L6FRnt8/ztO6rrIlPuGvNl\n",
       "k0w8LyIZ97beW/8ozVuMEZXYWXA+K5ALHR0/jqChgAAAAJsBn9lqQ38AAzgAV9O5IATBw7jshmH1\n",
       "2riiIKzYt3lwjzsi+5YzLnKAMX8iddIzgR65lDgro0QF1cyQ2lzGYdJcOPoPuBn9xWpJBRTOoNqk\n",
       "lZPYQd2tSS5j1D0PFBJro/hyv+Dg2xFS81o720Dea819/CYjPgyb0FnycwtRN1Nd3r6pediC/Vqs\n",
       "wclzJODQeVDhtfT9xHlSHDARMQAAAUhBm95JqEFsmUwId//+qZYABGBCxGdNgYAa7aNGz5dAoeto\n",
       "0kzgbh6lvZQnfPxJAbz5K+emMB6qms0A3G8967bnM9EYx8zo+Fhl/AvI/Eu65NgMvQ0Gxw9JohkI\n",
       "yj4otZz1Vex5k39zONVIx1DkaQyLFtMrckzcQHoR6YhtEib/YsYD1PeCTiqiScZLt9P9H6W1oVzd\n",
       "ETKhJ5AGDOg+XeaUDD9jgpB1DKrv50l1ftt5fB41dpdgN8ek2qtOsN59P7aJJ3rTn8C43ZCRRNNi\n",
       "diJ+/lUjwnv/1DGqIUlsydT5F2l9wymE2d9zekoA4iaKQEFn/Gbi6G5r9zcC/JJjfsZhljudA8WK\n",
       "RWQwwWc/5UlJv68+92Q5sIJ2yXmxb1xLyt4aWdabSD7v07qq3OR10FqlULk4nLvQRzcmmHS7SQRJ\n",
       "S2HDd4yUqK2AAAAAjUGf/EUVLDv/AAIpOo77FdxQAfmvSTmtuWwKUDATW6Q+AZakmbwVOX0ZgoKZ\n",
       "U/LAmzMwENK1U3ZqHcoKGM0ekZawNwZEUdtz+zUufx198G8W+8fyl3lg9IJY1qligKE4NnPPF3Y9\n",
       "ynrUnNumnmmArqjKqwZLWan+GnncYdCEcqhSVthtm58syu1hU3GCtwAAAJIBnht0Q38AAyLkTsfA\n",
       "ATt7vFFsHS2duI7ggf2svScSRxxNQWDECCIO9/RKruL5NBbnaS+x1Prl+WuoE1T+D5nizXQC++Rk\n",
       "iS40llGWbd9PX4mMy8rDfqSPnuMpKZUV/XvpA1qkZBqpzyimFAqVshBU/K7P56Td8r7+IgbKubI7\n",
       "wmIfYLoLv6hIRZTU6PA7d6MKaQAAAJYBnh1qQ38AAyNTzztyAEhYybMRJsTkKrmRmNzNMnr+c6dm\n",
       "fd7fIdBQ2j1rqrREv3SS4BQmKWJC1wwYoF1yHCquXjds3dodJcPR4ks3Jqc0obJ5HfKGDagEQfTH\n",
       "hgkwOmYtpfPwas2uFBhsoteoEAcb/4LW+/DDY/nmFqzUlDOON19DRgGRJ+pE5+JxUmcb/kOraSlU\n",
       "HHAAAAElQZoCSahBbJlMCHf//qmWAARf9NUT6jADbaDb9cf2M6nvUVe19ag+9P+VNXiHkgRgcXNI\n",
       "3aP3Luj5iIx/4IBfhLZfVzL2beup+CKuwAbssvKi5uD+4+aa2LDdCKwOkVDgm3pdX9VBpmw2YDTp\n",
       "nz9X7+Na2If+Hqyx2yrMmi0iY4KeJzFu3/wmcDUm+8L/knePv9vPdEo1QeEsfERlUBWHyym5RE34\n",
       "/Wb9expvm1ne1g9YKEk6dA6+AILwgg5SI4QYys1+W78hb0TSSHyOBhL7Vo140JO6ecqcYY/Jy6ep\n",
       "wpwvVONUBr/eXr75AHKOAD9v1ZAPF9tLjrhBDGNfHff4AL6k4TLFTvrwsM4IBLtd0wOdZwiFJbQD\n",
       "JIb0V+CMoIGwydc6DoAAAACZQZ4gRRUsO/8AAjJ8wAPfULImg8+kubVP/3Vs7aulmHBJ/qGyS7rf\n",
       "sNfkSP0uhXx7Jn1W7dajKWzdFSxxhX8ik8wbNtPmqDN2ypJV2q3iWrsu90BKQpsTNA6X+2Fe3z5t\n",
       "IqTl4CzeuIipqabu4jXsDDmE6XbHyreM4uY4yFpURMIrYZNk2YEzQ9cxrJ8szlR1lmifA9ahIDjh\n",
       "AAAAhQGeX3RDfwADI5de5wAmTRvB65yP9JvQhBi4eBk4Jkbl2WZhFJNXh2y04hdv/ufxDvqDOo36\n",
       "Ibpla6aJnfYvvP3okZaxnTh5gyfZcjcUAcuiyRPKxJY4+fROKXfeowaYHzq519sKSfyUE742XTX7\n",
       "ZrTsm9uXohKc8xXet36++3jDqEnMKSAAAACRAZ5BakN/AAMeTPnNNyAE02O6B5W6X3w/+WBSECuL\n",
       "HsU5QKTdmB0wTSdDJLGxXSQ5RlEiySuScjv23dA49Z1MxxALixA3N9CKL1vuA2t8R1JporN25r6W\n",
       "cM9wQkq16/W8D9dx3gaEXPpuzuJTK2vyGCjFuHv9zIIQssO2wmKqR5K7OUoNW3RujqOZ0afDrvsE\n",
       "rQAAAd5BmkZJqEFsmUwId//+qZYABIJw/9WADQqoJTfkQvPVT36tF0MdlFPI79pJHrJCWoMbiszm\n",
       "1xVTRcPOLq1Xbv8w2io6LM9Ko+3JlWOsN86u9UuoHjCwtB2OJ/+y34chzk8TZ4K+FfRQU3owIYaO\n",
       "PMF1qkoesgFejVbWcpHYgi3HGhYFJyCxni3IoecUdZtTQ58V8Ve4ZCOEewDrsHr9B3R8/uv9ON2C\n",
       "3Q3dJ0tkXnNk/D8IH0iZUtVFDY7C4etGx/mhfHAcorw8bmkglkaqajQhPjlwthwUedUvUwxrOYnQ\n",
       "H+NVXosYL8Uasrhglin6pvAxBUSZwezSWFgmWEOILVKzVrzsbsbkSAyjNVvqNdILciV9VNKCvvko\n",
       "bVUfldSaYkgduekTUKrRYnNjZDLrRAwLE3ROVMLhcDyNbuiKfRcq3DP//TWmoniLYvtKwvTb+0E7\n",
       "UtDLZO/p1QzIc3esaLqkFhDNgQgBre3gjEI/5i2ilEeBn2TQV/uRnxrYAOUbuU0RYLthEOxIaKdM\n",
       "xebi83oAfaR9S8sMaK4zQX0S7Ft8PmFqguivv0mvUYmKcKN8eHi6Jjo0uBxYt0bKQZ6Ht3hxAXP5\n",
       "4yjz5ILUaz9yISLEn2RiIxNSQXqOdy+WWXjKAAAArEGeZEUVLDv/AAJA40WHaACda2s8Yku8i9HY\n",
       "rkZUFLnjyrI0ZBxlyQFIBtTntJFGta+lq8nQ6GbgIIyozkxIeEzjXFwZHnwfiCZ0lR0TF5qFRlAx\n",
       "kTALIqyHPyyyIVkBKYGFi+IF40WCbCe4u7D/zdPBqzQRtybAEyWLODAADWX7nppwtE8Yiw0WSuqy\n",
       "05tExDyWAHOVrJNFDRzXU4+OLqoFfvoOroqOxRbgAl8AAACHAZ6DdEN/AAM31XODcAJj7JCrlzzB\n",
       "2nt3VtLIBulxFyWz/MSt5ZecSHBGWGF53lREeST6mK9NUCAkH919Zcze0qG/xb5XrWDaZSaSywNZ\n",
       "0QcsAfUokrkp36+m+MDA2Q9XdyOFCRsc9UVni09B8LZIeRFYs+INNXfHsN0M59GWky44ehgNyjFN\n",
       "AAAAjAGehWpDfwADJAW5ACavXof0yAfQ9VunQIzdMpSzNpcAyuWsKLr9mLpRKTAvxiOyQBEbh46A\n",
       "GkP2z4EaZ3RwztlL+f8pZGw6w0mhZihcNUox+Sx9xCYlebJ9PL+fxuv9kChAWBE/hKloUkNHij1M\n",
       "swRYYmHK9GLQFSrBc5m9/M5vAz/PhcOcWAQKg4KbAAABP0GaikmoQWyZTAh3//6plgAEYNpqAEWh\n",
       "aYE351BkZOCRL9GBV1z9ZOK8GYar53PZzJOAPA+nJ++cCQgcGLXOHp/4qnMihHoCfjBXRKJdaIH3\n",
       "rn76rMgQgDSOPaO7PCXPDpnEpwEqvw7dPWG5L/jlieY9SKN2ewKpjqKZOI77MF4eNC77F9xFXecR\n",
       "cTZzJ6PubihkX5XYMhv6uKu0cvOyyOLQM3aQTH1HmfDw8nCLHG98+3V1aajqWATwXJ/34pYs/VmP\n",
       "+tWJNMuhTUBFuheiycKSliumUZNskfheJsJY5UpfalmHdtEYTatbJ0KF2TVDu34+8XBNuNOwur7o\n",
       "0n5NEBp7TWa1EsVjX30Sd1/AODQv8LyMwqztcm7ncjFEOqW+nRdcwNouVMEVkPLQPfij/fKV5+Pp\n",
       "d5cWd1Q0dl7SU6EAAACqQZ6oRRUsO/8AAjIqoALfRtGnfzZ74upnpOsCmxMAuQq89Q+wdqYSnWDW\n",
       "s3hK5GBbl2YKosiP9fk1J8Zy/m0y1hpwYt489ZIxbpI+iolCp1fA2l1XnBXlmjvk8ijClTksbmYk\n",
       "CfSne3yKn5C9f7ZcxkG35ighfBYXE76jlWQHyHx3aK2ZdErVOf3OL0kq9YgZnJsltif8UkMjaFkF\n",
       "VpYMFSsU4gLauY+wA+YAAADFAZ7HdEN/AAMl9yAD81pup/d+bI4Ovi4sCQplO9SyhN3dEOsX/e9L\n",
       "K9hOeJRPZJVXM/CplcX4pd7HIkRd9fX5FtGVOpFlA0v682eT2nygLG/fULafhZRgQ5G+jwbYDQlh\n",
       "M9OScJ5w1MxMXe1cXbo1FtMTabN00mdel8sAPJ+nuZJ6zFYjU3tSbHJbJSq+0ZYq0/CnfGWbISUU\n",
       "zJWwykJRFxexjftXVij6Zv0Rfo2mW9cqN9E4weMlCWqOJfrHZsMTjbxgekAAAACaAZ7JakN/AAMk\n",
       "X5yAEy7UqsR8V9CzNoSf3VYsUIvHuxEwqS/10+dhZpU7EZ4IgQ71LBZtQxzVQP/GbCpzGWokwCxK\n",
       "iIOUlv+u0MAY4ikHs6xPhvLwOT7IEzTntQGO5SBBtqff8tZJDMzNKv1ThYC3NVoQawYX2noIqruG\n",
       "2KekETx+7YMf+B1P4YSilX4YN2oC/P/kn0cz3ADmgQAAAYBBms5JqEFsmUwId//+qZYABGJIzkUi\n",
       "XqgBFoMlXsh+LtoxOsd4hqWSs+w6AF1FYeXOvFMrM0oBQBAjwyprCuQ5R92Ui6V7M9VSQRWfdxCB\n",
       "+hfzIcDJU6IlZOGT5MWAgWfOHWkahgJV2sGgdoY21iJ16l1SfMr8oM/pqSINEu5++zD6tLE4dRsF\n",
       "W6KJtNFxY/bRbopuoJNOfeKvcbWhC7cX3jdg+OkdZcBMq8tj9qEltXVQcN5gUi+zvDkUZSk2EvoC\n",
       "5dQP1CJk9XuKOUSYV/Dl746eS0ufzgNUtcMJUQcJSn9IvAIH38R/P7kWcncXc4kQvnt0j7yLzisa\n",
       "3UmHxl+soI+l/qtPbmglZfmp1feWqSgxV7p9s5LlXzMpSrrChT3jInRr8RhYcI+gVBA89R+VwIga\n",
       "Km3G3c13dOf8LBebh7vz9EAvGZozZHwxae9uVMd5kdgc2Qj0ggiWsHgmFhyN9b1w5O4C+15X4puu\n",
       "n80JwHkDrj7UvYONlnGCq0cZrmUAAACjQZ7sRRUsO/8AAjE24qACdvhqG9G4wFYwQsBPl5sU0TUu\n",
       "wQmwlN4Y5F6uiw3McQ40sUdy2AP9HNatXOJkxCtHsdlesvCrBkWxSFFL0yPu4LDug6HqVwRI/A+8\n",
       "4bK0BsT2bzwOG2yMRc4VOKZGvYMmpk72PUupPLE3X9ZLbH8tmkVxlydl9UuKc11b98LtVhAb1QCq\n",
       "yhiHthCUIpPkL9pdpFAVsAAAAJoBnwt0Q38AAyPYkgATt2ruuWh5AzQDl+ZhKIcTh+9Ep+wsitXX\n",
       "KElcCWk3hrYRCVeQpQUARZfIs/VSzRSZUvJd0eFxjnN8s3sn7n+6/+iolFNUn1mfsMZ0zLAzo1ZN\n",
       "sc4IawM0UB+rFV4z+dXI+fUda1/IHFvdBaOR2mY/af6b3RoDg7YzptfNA+YKdul7h1Zu0U8en0s5\n",
       "fAFBAAAAgQGfDWpDfwADJAW5ACZkTM24B5owDFzxCc7KmGRGNbCW4WioPMmLHr7BOUB71MWRbFIE\n",
       "BbHyZyddDrvDPPzRmfsbCMCmfVMnYOATx0KTAP4mRHuPRUSgkTqWcOzZrtvXQMK5RRvjtdNgNV1L\n",
       "02DSGbdR9dcSLJEPovbXL7RfTngz4QAAAXVBmxJJqEFsmUwId//+qZYABGDaagBFoXqmjUGJ+j3o\n",
       "I8k2W7nfwn5j8+ZbG6U55g/+k5BCD/xd8TbOb9kEkgHh5mH0xwqb01wndiuiIM9iZk+HwN+0o3uy\n",
       "bA5eDLwo/EVIRH58mcUnYEexI2ljvNTJhqz6GbcVfzGqmITy55CI8ZUvMIZRjuJt3ly2l0ythp4n\n",
       "8p+9r45Xiclnk7rtvRmFWc08lkTC9CCfFmceb4XhM/FDNdMbCJFh2AAS1k+xyzT/+GqydtZrHF+3\n",
       "XroIPJaF1TRb5BS2Td0h6VZ7WQoLfqEUJbtvLBggg50kz7ZIFQRQW1R+mF9Fs1QMe2zSV7xcxlwJ\n",
       "el5i36WSXtnUrpT4HHD3vBMoSrP9Bx4+y1n5Yxavedb6LjVSIUUosNO289Ir32V4uJecdK60Vtic\n",
       "whSIxQ8JaZxtodeRNCpwXGlmrcIexTbhKhVb3cqK7c0uIV8si+cYixi3tyYivoXuV1LxRqHUWFxb\n",
       "AAAAq0GfMEUVLDv/AAIwlESSSgAuTpIBC4tvElgMDXKcAGNwBVBPP1lgttnqY43T0Tt7CTMxsJuA\n",
       "gAX1Tga+L1ONKg9Zbs8ORKGjE40VEwfchkAn8vdkg6L9SQgxFDikv+Oy663gqQmjGU/k/Q359wMT\n",
       "czTFa9g8z4CTMr+rLwUOVU92LD0uiSYR+QT+Wa6R3MuY3NdqmbzahgUft5/SWZYeQMAFgU8O2emm\n",
       "JIbCygAAAIIBn090Q38AAyPYkgATt7u/3VF6cDltbEkrKiCGg7GqaRRrNN8q+WG7HpB5OzQHwGTb\n",
       "Lh0pKoFsSwBU9eTjM/zPRxiG4GU6XLOOMAtcJOYYlPTNosx2B47d7ljg94GU5uOQGOHFJOXxkfZB\n",
       "k86fYsRBD4bZThAcV/2JljTLEb9IUgPSAAAAjgGfUWpDfwADGhX1A85AB+cfEJhnGSjTfxqjKoNg\n",
       "a9LfuL1nhRrQ3x0mpljCKlsOrLtRbd1GFyB+/9h+1KTU98O1kpQfsWIRpZbV2VwlrJsLQFDOOhCL\n",
       "iCcZIDtxoyqrtafnvTSgfS5HdhPAUuGlYb++UP0uBvlkMUoD9NsZI44r2QnDkbYcJq7wgUeCA5cA\n",
       "AAEyQZtWSahBbJlMCHf//qmWAARhVW0AF0oRFfOrd7+jVXutNwsuko9JgkbAl69NvdPShQaVVFuA\n",
       "uoq4ovHGtH0awMYX+c7EzIdUC5Sz2fEPPtfEvXIPv+/22f8/oxqodLM5Yown1pd41cdQmr8OzzMi\n",
       "0Go2lExHF3dPSr7OXdO2SSMXVIEQ3FpQ484Tda12telEbbaJtwtgcTu9rA1pi+p8nsYy6IatiIPv\n",
       "u0TylEaxIRf3eF/ErnxHd0PYfRH08dl4fY8vK/WFupvyephS7HrcKhdXv4aVvlyf+U6hNcj31bEe\n",
       "nwDZ3L1FUAC5I9vpMD+yUJY4HZzUt+PQTgPwlpwpc1zYJs5eHiIQUO/bBTTSK8U6r5nd5KxigeV9\n",
       "QbL/gD2i+OejZRsJ9p3VHLMEPJqHDqbiAAAAnkGfdEUVLDv/AAIqmxtqACaLEnBRWQ5Hxajn80Vn\n",
       "LfNzRqkJ1Jrp5VQyvdzIVULcLdYqRLJCRQmvD6AClvvkW17PVBbGzCQl94VnOveUPOG+0XpOvTBy\n",
       "U8jXtmc9xcqYEhFUxoLpLRPQPjfJrMw6miQ4ZHMgYy3yqz+e98T9iXminP1JZPIigWsKAc4ETodQ\n",
       "9WWnyg22k3qAo7FigMqAAAAAoAGfk3RDfwADIHju5cIAE5E3bA0cYy/lrCQZDmo++ujkuwj16qEf\n",
       "JpByr3+L641KZll+pqOJdL+Vgc3oAZRDitfECTwiV6cuG+mqbSXzhOz1mwN/Ammu8nvWm5mZ5+cr\n",
       "yC9ops6WMQr6ukWsVwhB/G81Y0FrlWQre61snBub/a3cq0HamWDWoyeIDblzWfK+N6g+kfeeZ+vm\n",
       "jKXVawlwakEAAAC+AZ+VakN/AAMjlhvcAJpbD6UctOvFwIUMNVmbOsp8ahH0iXQNe1PDH3ylZWXh\n",
       "QtlupQrrryuQ+A3a2+ixfz1Gn4asMqWVEwh9XIsPjpqSP1hJOa3FE8KvkRhOrc8evYJzyTimSLeD\n",
       "3wLE1UpSfTRVBci4OIXTyhA40OHxlyRlMI8XZtDeMxOoKPm6ydzmukK3dPm7QHTiYxpfpH8mH0b8\n",
       "eePv37iG0WBWsLXaMi5fWPRdHzla6b2zichGk/YhxwAAAcxBm5pJqEFsmUwId//+qZYABGeV/Di1\n",
       "xp6QBVyBahzcFKYmg4gb5XQyn2t35j1+SJJbhuF7w5o+pboPi/fZ7uJ5qIAdzWyBjAmBS1I7ptrE\n",
       "tgRTqYKJ0RqN5s4WqmIAaTikrWX/Xwy6rGF9FecTbmRE+MzbdxYkjYV16Wk9ksW4XNX8YA1DjDwO\n",
       "wf2OOf/Wqp4vcuoWE7wGjubLGK6qbWTEIHUHeVa8zaW9snWUS04Qtl599RXxkVtDn+u8WTFgN63k\n",
       "sx45ArrCnDfjMLvhhkM/gdpJFXwTxqTwwUnRz8QmzzxcUrsLcPiQoEFx4Y2I6B/k+WfGyd8s4yYv\n",
       "i+O3Gd7jXdH5ocLSyNwXuWG2mC3WYUgPzB+QKiWqif7UJh64ZFIeTz1FYgy8yAzBZ5Ar8+rxTR5w\n",
       "0b7VLX9+0Wvsf4g5KAIMDiaOcbPu5Oi4czCtJmictf/IH8SWgabUpvi3iUmf9cBvTnDjgkdHWidi\n",
       "y65+EkrCtBd+Fq+YdNypwf1k4HQaaHq/qYpNT1BiPd97JPrPauHEFj+igDgVGpHY5xN+0y0q5JBQ\n",
       "eJY5YVrN0I1swmmdj9e1S+PiIhT3YuEzCrwr4y9nhT3NlSRLxR7PAAAA30GfuEUVLDv/AAIw55UA\n",
       "FyheqcGV3vtijWKwE1rbFHFgWKlIHyScqRU41RGkj+sjW7CfOiM4eyjt0QFI8bO7ip5gxfVdF5Vu\n",
       "iMNXAWE54QjQP/j6VzgqQHmC/Zp8jionBru052DhH1a6KC1izbSYW4HWHvZif0zzs8jiRZKRQq31\n",
       "umZMe1Y1GkOwNaUvYjQOvZlxwTajYqNC6lVNrp41fzUyxb9hfOYlYE9e3ccgsGSMasrQ1pK1ME4O\n",
       "Soa1X72KIPuW0FnY9TFBeysGQjdiu2Ro6n1Mvqzps8HL26vg44EAAACjAZ/XdEN/AAMkKy3ACY+y\n",
       "LLgdPMHxu1Iw4eDGGBWoHMkvs/CoiqOSjXpCVek+JQS5sNKOcsWzdxWpSJbhcvbkfr/McNP843un\n",
       "zhyhgtYbKf9gn/9WM7WGDGyA/uFGbMdKSheV4LimJnf7+JTBDoGCydZPalw41G1HHqLkJaMaZu6R\n",
       "csONUSjwDM21bMDifYg8kXu9iFBdiVPdAN3CXOa0rQDPgAAAAKkBn9lqQ38AAyQFuQAmr16gr9D2\n",
       "I5IHRHoh19dk+5HAit9Dya+szgX8bHEgixpH8KqYXDgUeADM99sDcYm82zz0wA/0/nrauH14heL5\n",
       "1ROIWKqP2ofx83Bz7d3vIJ/t6TBMxmfjNtDWpeUuQzx1HF6RvhAYMwErOf4kxbMFSO+vIn4EZVSG\n",
       "+s05cn2gci1LUvgAAfetnNbnM0VEJa8RhSIdea+ySvPPvBxxAAABQUGb3kmoQWyZTAh3//6plgAE\n",
       "YdKVACLQtMCb89kQOJwojlTvjc6DZgqu0ncP2p72djTgD0RPqnPqDHJthMU0kH+a7zMVvG6osJzq\n",
       "+QBsCjsggjUWLexK50fH7WP9yQV7d7DAXajjTC20fNulIlWUkrhk98MMiRQVVb9OE7uHXfpOzP8R\n",
       "US7MKPsLr4wFBUrTNjXZdy1TCZlcx+mpmDEQ/p1qI0NuX6PxZZEw4rtBezQXGmqLVxzSaHNXFuc3\n",
       "gM4PzXtEVaswbwgEo8z4fXkj0iKXeFMJTFHDZjbrflAbT4Y4TvHr6sx96H9lTjtxWpT2o3w0C9mC\n",
       "0oN1Yver5S2BjnCgasGOUSHdf0Hg97eGSC8jgKVTiyuVUcq7qdXU69UW2Ku/1VpMCiELuoqAn5hi\n",
       "kX4PbTrYTEUGFaHVgiYaJCbNgAAAAIhBn/xFFSw7/wACMiqgAuA5qNO/mzqR1FHpOsCmxMnJiHc1\n",
       "D7B2pg4g9A+7r4/Mua6efPR5SS21ya4/wQ+wXd4MkuPmxp2PFw9b9FRQPPtbG64MW7k2Sj2Xywxk\n",
       "h1723hnbnf5VP6cbX7B+MI4+f1o2fZvYv+jxr4u1NUKVQp6LmkvU5b+eMLKBAAAAuQGeG3RDfwAD\n",
       "JfcgA/Nabqf3fm1jFJY36ulXMrMHg5uqk5j4VKd1JH0jOiz/8u3+1BdDOSO8NOpnc7ukzv15Egnd\n",
       "7LnIdm0bkVT/8dceylLuycGuD4xRsa9fuo5mNLkOj0I6LuSzdFROBZz9cKcQ0ExN4fRAkR6f7/uO\n",
       "OWcIMzj+yAjygkIZBUgqiT2MAdwDLP1BQn3YBEFIoN9/Qspncp2CY3t3VHYW68rOTJSujoJnZ1iL\n",
       "sizDMFtBAAAAfwGeHWpDfwADJfcgA/CNPXnjLforDDNhaoNLUR+2LBNV5Fi0+uvqG26lcci3SDlO\n",
       "qmc/GnAketTN1DjHIetNRjy4dRdO/bMEtIdag5D3Ij6XEssZv2UF2SkofHnnUdG8gjaePlkjnZLI\n",
       "VBJeiWayX1Kl5X6fMolEjBIb9A3hRTQAAAFSQZoCSahBbJlMCCH//qpVAAEgoUpmABb15Uqx3ZS7\n",
       "YU7EGD3quC5RMmktBR4C/RNXTXybVGWYMagwsVaYxKycCfArRssPoiWEsls9XV+Play36IT6O1UB\n",
       "jYSdCx2H/5AIIjWrYZmjFeD8KQm3/4LvpNi3HYv9wgHaEQ50rYtIXR6fUHOgnmfLlAD7yR543F3v\n",
       "x1AWbrjIv9rVTAgfmn3guRCA8M4tWpkQ6e1/PbT1VoKNckkFH5JEPwxC9UXQzxLimhj4AYoK70oq\n",
       "1ZJFMohtm0GeritjYfFnT4HUqDW7aY/IXG3mn13Q3UxnvYSoeYkZlbSy9rw56xiayuYf7BLc80B6\n",
       "T3jE5ZiVE9Xw0iWEu9DhvkyZs4pRbOGaBos9hpO+vM4paRKFnln2c9P7SWbQE5s3+LcujDtg9Qq9\n",
       "s6P2uDTMEGJeRCbGEMzMCKMGx99W00AAAAC2QZ4gRRUsO/8AAjE24qAC6roCjizDT27TYKmIXZoa\n",
       "QRMt6a7Vphn946Nla02Lb01Pil71lay2cRGUCGBSqlGn8iP9yv5Jecr/N50ftK0QDybv5INIOF3o\n",
       "lFVW+izMIDywnGr4ndJArio9SijkeTyODbB44qBwwcSx6o/RiLt5qnRCGA/geR96ehxmN4BANBz5\n",
       "dRy4TgHOaBTXGzYMVn7vH7jfqCVPI8Eyyg4R+LfHat4rurGwCdkAAACqAZ5fdEN/AAMj2JIAE7e8\n",
       "zlslKOBxgrDkJDq4mt8EoXYtGHxV8dq6r5EKttpzcPWK4Hi4hhg8pXBB576XG2ufdeqZvSvV9Hqy\n",
       "3/GAX4GYRA4OO19MC3JQSJ9Ji5n2iuEyGrQ+LU3hli8eVuVHOJ5GPDKSZyO5tx8ok+ttJmonmyyU\n",
       "1eoFJqLZT5YRAilNj2ZfKjlbUFWZB4oY4ep1McexUqTDp5SxRG6TCygAAAC7AZ5BakN/AAMgXdC5\n",
       "AB+cjJnTI4TYNMdVL0MJPtk1vT66ig8B9ByRVJn3/h/zNu1c8A9XgkMg7DM/GMQoiZv+TJQ1aem9\n",
       "Wz8G7nbtEHQoOmplV6pvBUhzqw2s82EglVtLImvXXHH533moEsYje4mkMeZ5qAcrFFysfzr2/aAc\n",
       "h7tnjPcCrv+/Y/dYKJaWxlqJfaNpuNif3+b52b9JibBoCACIKMFTBEdBE3OUDJKRlDauBT0DxDvZ\n",
       "0uQGzQAAATJBmkZJqEFsmUwId//+qZYABGDaagA4SWlY1EYuqEBjw1hHfrJpEHG3TMGADWnnqSVP\n",
       "ewdqYVigsXpWK7v0USrOn6R+AISbST/oehb9cLQvhuvWy4q9I4ojSXdrwFsDZtuPrmyXmTfcm06P\n",
       "mmORubQ4u0syc+tVCCJrfX0oJfWnTS+stz5RW8BQXt1Jc7X0+qHuX9JJa6yS8NfX58sAJ4s8Pe1V\n",
       "BLx1OUReN0OBITe4DhW2GlzyzJLXsr4HI9nB7PVpj1jq1FG1FL55ptw5u9vvYqv7Fxd7z//c6Hix\n",
       "aGfYbqeFlc3A7Jlyur426x6tkf4uDZkj5LWBD2PCLFpMYXRPsa+0cNLCzkq/2QfvfRRX6NNxvEYz\n",
       "/aWhXu9Mv6GPeB7zRIOXpBjy/evhJsYPHCUVUCAAAAC4QZ5kRRUsO/8AAjDnlQAW+wWM/fMw868u\n",
       "O09ZZUPIcSrl9MQ8/5eV9OrfLqNc8CwuINqUGWnrvYNgSl3hC6+slcloRvIzIlsYaJ7+r49/o74u\n",
       "4eSUnCD0lGsSTmXm+GbM1R3Yjws3m+KBZDgeaH6GF08fAhBuII1F2w5pwPyBAVcJakue+2d8LTHI\n",
       "ifwJJkmYpH4so8rtYAx6rFT+mase62ztHRtc/4p+bsi5imaw/hxBLlTgxNAPSQAAAKcBnoN0Q38A\n",
       "AyPYkgATtGDj+mPcjJhgEOiHFTNvi8zOinAFqRu26PfJ+FABZRaNLNqE3Z/mlj/ArLAhWajKXhf/\n",
       "q7ASSfaj+bSwNH1chEKQftUWOBy46We8izBIVFg/659jD+9/AgBIpw920RAcbpQSuHvpaq8fitUo\n",
       "q8hYucd2MXBMk/9R8/gFaecrbwG+7VDTNr/HHm2lTm9dgv2EwzsKzV6oYxsLKQAAAJEBnoVqQ38A\n",
       "AySnckAH8wt3Vues+edqlL/9okQvYAYEH1VIr8Yk8YY5vRRYykpETkMpOaeTdy/UpiOe0eUi7bDb\n",
       "oG9C8YBhua19jMip5k+UtOGol2ksX5nBZblIjKL9EPnnsAx6g1//s+kAZqlpK/8ajvg2AbnGi3cW\n",
       "/fc31rMBf/dQGR+bst2ff3sGqpha+MWBAAAA2kGaikmoQWyZTAhv//6nhAAIqoc5ACaveafEfy5h\n",
       "p5x/28WNOgrpzj3Jj7eWkOeLD/WJJ0hKHOckXdoLmvEwXsKyAXjhMIo4S2RLDz/mrt9bmQhW+dyE\n",
       "TPZPa5nWZRCpwZfaDOe/Q1mVrm8cQ9twDRB2WB/kCXcCAx4XB9IhSuSolU34Cc68YQc5ppQ519mx\n",
       "3WOmBYH7+44y7/8AANdclGylTctQxzs0BlHf0pvgohM0SuCGwx6ktLkEQOr46XdSirxA3Rd3j0qX\n",
       "TD0n4yZ+3cgnmdmjdSzK/z3zAAAA2UGeqEUVLDv/AAIyKqACG/QEb2GUmhMCeo7vmaH+Eif6MT3s\n",
       "Cp4ng9CRpDsOMhlBSX5nDa+rlMY74oxPzY1nchN5GM4FYTod6ivhpCCcp8A2BmiCrYkAiGNWkxwH\n",
       "n7FiT/y5IlU3swTgl+UXGzci+1rhpSqO4253mNs5UF88gTSa7GOictFMjvqXvLWHIzqCIUdj3fbG\n",
       "e9+JBoCFyOs1vKaTrt0liq+1smB5BVSnvHZDPokJN4BX/HIjJHhCnZPjFUbDvdNIa1ncu5AudlnH\n",
       "1AJ1z4i7y7AAImAAAACUAZ7HdEN/AAMkKy3ACZHkWuaR1abmTjOgrPzD57+AQilrhVvn7YRFPazL\n",
       "M/VyjibU+AN4Y4g+FyCqu9Q63Lh6yz3jSETs8ZjjY764E1r7CYeCF7HjqAq6e7YDnsQVF3ih2+Zi\n",
       "Udl9Ch+mrPn6AjUtZr55GfbBq5erof3IIpjr4NHFEIGQU2udiBdVuDWsPRoSzJwDPgAAAJcBnslq\n",
       "Q38AAyQFuQAmp4O3jbNFL3IazksFPLKZcIMR8C9Gd9e7gWd60r2oYLguhMEF/U9q6T8D6xdDoCwJ\n",
       "YmBjCbwuL2LEoNkfTcVEF0mI0XUafK4Seaf+wow7rLmNDsZjMqwp5PBg6WiMVGKSdE4ovIb1NHEG\n",
       "7DDxgiiCTsmGBD3l7VYV12T3PNB9D7UfQDlYkYMTeA2ZAAAJtW1vb3YAAABsbXZoZAAAAAAAAAAA\n",
       "AAAAAAAAA+gAADZMAAEAAAEAAAAAAAAAAAAAAAABAAAAAAAAAAAAAAAAAAAAAQAAAAAAAAAAAAAA\n",
       "AAAAQAAAAAAAAAAAAAAAAAAAAAAAAAAAAAAAAAAAAAAAAAIAAAjgdHJhawAAAFx0a2hkAAAAAwAA\n",
       "AAAAAAAAAAAAAQAAAAAAADZMAAAAAAAAAAAAAAAAAAAAAAABAAAAAAAAAAAAAAAAAAAAAQAAAAAA\n",
       "AAAAAAAAAAAAQAAAAAKAAAAB4AAAAAAAJGVkdHMAAAAcZWxzdAAAAAAAAAABAAA2TAAACAAAAQAA\n",
       "AAAIWG1kaWEAAAAgbWRoZAAAAAAAAAAAAAAAAAAAKAAAAiwAVcQAAAAAAC1oZGxyAAAAAAAAAAB2\n",
       "aWRlAAAAAAAAAAAAAAAAVmlkZW9IYW5kbGVyAAAACANtaW5mAAAAFHZtaGQAAAABAAAAAAAAAAAA\n",
       "AAAkZGluZgAAABxkcmVmAAAAAAAAAAEAAAAMdXJsIAAAAAEAAAfDc3RibAAAALdzdHNkAAAAAAAA\n",
       "AAEAAACnYXZjMQAAAAAAAAABAAAAAAAAAAAAAAAAAAAAAAKAAeAASAAAAEgAAAAAAAAAAQAAAAAA\n",
       "AAAAAAAAAAAAAAAAAAAAAAAAAAAAAAAAAAAAABj//wAAADVhdmNDAWQAFv/hABhnZAAWrNlAoD2h\n",
       "AAADAAEAAAMAFA8WLZYBAAZo6+PLIsD9+PgAAAAAHHV1aWRraEDyXyRPxbo5pRvPAyPzAAAAAAAA\n",
       "ABhzdHRzAAAAAAAAAAEAAACLAAAEAAAAABRzdHNzAAAAAAAAAAEAAAABAAAEaGN0dHMAAAAAAAAA\n",
       "iwAAAAEAAAgAAAAAAQAAFAAAAAABAAAIAAAAAAEAAAAAAAAAAQAABAAAAAABAAAUAAAAAAEAAAgA\n",
       "AAAAAQAAAAAAAAABAAAEAAAAAAEAABQAAAAAAQAACAAAAAABAAAAAAAAAAEAAAQAAAAAAQAAFAAA\n",
       "AAABAAAIAAAAAAEAAAAAAAAAAQAABAAAAAABAAAMAAAAAAEAAAQAAAAAAQAAFAAAAAABAAAIAAAA\n",
       "AAEAAAAAAAAAAQAABAAAAAABAAAUAAAAAAEAAAgAAAAAAQAAAAAAAAABAAAEAAAAAAEAABQAAAAA\n",
       "AQAACAAAAAABAAAAAAAAAAEAAAQAAAAAAQAAFAAAAAABAAAIAAAAAAEAAAAAAAAAAQAABAAAAAAB\n",
       "AAAUAAAAAAEAAAgAAAAAAQAAAAAAAAABAAAEAAAAAAEAABQAAAAAAQAACAAAAAABAAAAAAAAAAEA\n",
       "AAQAAAAAAQAAFAAAAAABAAAIAAAAAAEAAAAAAAAAAQAABAAAAAABAAAUAAAAAAEAAAgAAAAAAQAA\n",
       "AAAAAAABAAAEAAAAAAEAABQAAAAAAQAACAAAAAABAAAAAAAAAAEAAAQAAAAAAQAAFAAAAAABAAAI\n",
       "AAAAAAEAAAAAAAAAAQAABAAAAAABAAAUAAAAAAEAAAgAAAAAAQAAAAAAAAABAAAEAAAAAAEAABQA\n",
       "AAAAAQAACAAAAAABAAAAAAAAAAEAAAQAAAAAAQAAFAAAAAABAAAIAAAAAAEAAAAAAAAAAQAABAAA\n",
       "AAABAAAUAAAAAAEAAAgAAAAAAQAAAAAAAAABAAAEAAAAAAEAABQAAAAAAQAACAAAAAABAAAAAAAA\n",
       "AAEAAAQAAAAAAQAAFAAAAAABAAAIAAAAAAEAAAAAAAAAAQAABAAAAAABAAAUAAAAAAEAAAgAAAAA\n",
       "AQAAAAAAAAABAAAEAAAAAAEAABQAAAAAAQAACAAAAAABAAAAAAAAAAEAAAQAAAAAAQAAFAAAAAAB\n",
       "AAAIAAAAAAEAAAAAAAAAAQAABAAAAAABAAAUAAAAAAEAAAgAAAAAAQAAAAAAAAABAAAEAAAAAAEA\n",
       "ABQAAAAAAQAACAAAAAABAAAAAAAAAAEAAAQAAAAAAQAAFAAAAAABAAAIAAAAAAEAAAAAAAAAAQAA\n",
       "BAAAAAABAAAUAAAAAAEAAAgAAAAAAQAAAAAAAAABAAAEAAAAAAEAABQAAAAAAQAACAAAAAABAAAA\n",
       "AAAAAAEAAAQAAAAAAQAAFAAAAAABAAAIAAAAAAEAAAAAAAAAAQAABAAAAAABAAAUAAAAAAEAAAgA\n",
       "AAAAAQAAAAAAAAABAAAEAAAAAAEAABQAAAAAAQAACAAAAAABAAAAAAAAAAEAAAQAAAAAAQAAFAAA\n",
       "AAABAAAIAAAAAAEAAAAAAAAAAQAABAAAAAABAAAUAAAAAAEAAAgAAAAAAQAAAAAAAAABAAAEAAAA\n",
       "AAEAABQAAAAAAQAACAAAAAABAAAAAAAAAAEAAAQAAAAAHHN0c2MAAAAAAAAAAQAAAAEAAACLAAAA\n",
       "AQAAAkBzdHN6AAAAAAAAAAAAAACLAAAHvQAAAS8AAAB8AAAAagAAAG8AAAD/AAAAmwAAAFsAAABl\n",
       "AAABUgAAAFEAAABUAAAAZAAAAV0AAABvAAAAeAAAAFwAAADKAAAAWQAAAaQAAAChAAAAYQAAAGwA\n",
       "AAE6AAAAeAAAAHIAAABcAAABmwAAAJkAAABqAAAAeQAAAOsAAAB4AAAAXgAAAI0AAADsAAAAbAAA\n",
       "AIAAAABVAAAB0wAAAJcAAAB9AAAAbgAAAUcAAACSAAAAhgAAAHsAAAGJAAAAlwAAAHwAAAB7AAAB\n",
       "SQAAAIEAAABhAAAAjQAAAU4AAADBAAAAfQAAAIgAAAFXAAAAugAAAIkAAACXAAABJwAAAIwAAACy\n",
       "AAAAjwAAAVAAAAClAAAAjAAAAKEAAAEHAAAAzgAAAKYAAACJAAABHAAAALoAAACaAAAAqgAAAb8A\n",
       "AADFAAAAiwAAAIUAAAEUAAAAjAAAAK0AAACUAAABZgAAAK0AAACMAAAAnwAAAUwAAACRAAAAlgAA\n",
       "AJoAAAEpAAAAnQAAAIkAAACVAAAB4gAAALAAAACLAAAAkAAAAUMAAACuAAAAyQAAAJ4AAAGEAAAA\n",
       "pwAAAJ4AAACFAAABeQAAAK8AAACGAAAAkgAAATYAAACiAAAApAAAAMIAAAHQAAAA4wAAAKcAAACt\n",
       "AAABRQAAAIwAAAC9AAAAgwAAAVYAAAC6AAAArgAAAL8AAAE2AAAAvAAAAKsAAACVAAAA3gAAAN0A\n",
       "AACYAAAAmwAAABRzdGNvAAAAAAAAAAEAAAAwAAAAYXVkdGEAAABZbWV0YQAAAAAAAAAhaGRscgAA\n",
       "AAAAAAAAbWRpcmFwcGwAAAAAAAAAAAAAAAAsaWxzdAAAACSpdG9vAAAAHGRhdGEAAAABAAAAAExh\n",
       "dmY2MC4zLjEwMA==\n",
       "\">\n",
       "  Your browser does not support the video tag.\n",
       "</video>"
      ],
      "text/plain": [
       "<IPython.core.display.HTML object>"
      ]
     },
     "metadata": {},
     "output_type": "display_data"
    }
   ],
   "source": [
    "# アニメーションの描画\n",
    "fig, ax = plt.subplots(dpi=100)\n",
    "ax.set(xticks=[], yticks=[])\n",
    "\n",
    "# 各フレームの描画\n",
    "draw = []\n",
    "for i, f in enumerate(frames):\n",
    "    ims = plt.imshow(f)\n",
    "    txt = plt.text(20, 30, f\"frame #{i+1:d}\")\n",
    "    draw.append([ims, txt])\n",
    "\n",
    "# アニメーションの作成\n",
    "ani = ArtistAnimation(fig, draw, interval=100, blit=True)\n",
    "html = display.HTML(ani.to_html5_video())\n",
    "display.display(html)\n",
    "\n",
    "# Matplotlibのウィンドウを閉じる\n",
    "plt.close()"
   ]
  },
  {
   "cell_type": "code",
   "execution_count": 51,
   "metadata": {
    "editable": true,
    "slideshow": {
     "slide_type": ""
    },
    "tags": [
     "remove-input",
     "remove-output"
    ]
   },
   "outputs": [
    {
     "data": {
      "text/plain": [
       "10000"
      ]
     },
     "metadata": {
      "scrapbook": {
       "mime_prefix": "",
       "name": "n_episodes"
      }
     },
     "output_type": "display_data"
    }
   ],
   "source": [
    "glue(\"n_episodes\", n_episodes)"
   ]
  },
  {
   "cell_type": "markdown",
   "metadata": {
    "editable": true,
    "raw_mimetype": "",
    "slideshow": {
     "slide_type": ""
    },
    "tags": []
   },
   "source": [
    "今回は{glue}`n_episodes`エピソードしか学習を行なっていないが、それでもランダムの時と比較して、かなり長い時間に渡り振子を倒れないようにキープできていることが分かる。\n",
    "\n",
    "エピソードの数を増やしたり、$\\varepsilon$-greedy法以外の方法を用いた場合に、どのように学習結果が変化するかについては、ぜひ自信でコードを修正して試してみてほしい。"
   ]
  },
  {
   "cell_type": "markdown",
   "metadata": {
    "editable": true,
    "slideshow": {
     "slide_type": ""
    },
    "tags": [
     "hide-input"
    ]
   },
   "source": [
    "## 練習問題"
   ]
  },
  {
   "cell_type": "markdown",
   "metadata": {
    "editable": true,
    "slideshow": {
     "slide_type": ""
    },
    "tags": []
   },
   "source": [
    "- CartPole環境において、$\\varepsilon$-greedy法の部分をソフトマックス探索やUCB1値を用いた探索に置き換えて、学習の性能がどのように変化するかを調べよ。\n",
    "- CartPole環境は1フレームごとに報酬として常に1を返してくるが、この値を画面中央にCartがある場合に高い値になるように更新することで、できる限り画面の内側で振子を保つように学習方法を変更せよ。"
   ]
  },
  {
   "cell_type": "code",
   "execution_count": null,
   "metadata": {
    "editable": true,
    "slideshow": {
     "slide_type": ""
    },
    "tags": []
   },
   "outputs": [],
   "source": []
  }
 ],
 "metadata": {
  "kernelspec": {
   "display_name": "Python 3 (ipykernel)",
   "language": "python",
   "name": "python3"
  },
  "language_info": {
   "codemirror_mode": {
    "name": "ipython",
    "version": 3
   },
   "file_extension": ".py",
   "mimetype": "text/x-python",
   "name": "python",
   "nbconvert_exporter": "python",
   "pygments_lexer": "ipython3",
   "version": "3.9.17"
  }
 },
 "nbformat": 4,
 "nbformat_minor": 4
}
